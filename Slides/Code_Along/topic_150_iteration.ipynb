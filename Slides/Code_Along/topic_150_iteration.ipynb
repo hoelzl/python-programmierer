{
 "cells": [
  {
   "cell_type": "markdown",
   "id": "76d07a04",
   "metadata": {
    "lines_to_next_cell": 2,
    "slideshow": {
     "slide_type": "slide"
    }
   },
   "source": [
    "<img src=\"img/python-logo-notext.svg\"\n",
    "     style=\"display:block;margin:auto;width:10%\"/>\n",
    "<h1 style=\"text-align:center;\">Iteration</h1>\n",
    "<br/>\n",
    "<div style=\"text-align:center;\">Dr. Matthias Hölzl</div>"
   ]
  },
  {
   "cell_type": "markdown",
   "id": "a8b1e28d",
   "metadata": {
    "lines_to_next_cell": 2
   },
   "source": [
    "\n",
    "# Iteration über Listen\n",
    "\n",
    "Zur Iteration über Listen (und andere Datenstrukturen) bietet Python die\n",
    "bereits besprochene`for`-Schleife:"
   ]
  },
  {
   "cell_type": "code",
   "execution_count": null,
   "id": "c08e713f",
   "metadata": {
    "lines_to_next_cell": 2,
    "tags": [
     "code-along"
    ]
   },
   "outputs": [],
   "source": []
  },
  {
   "cell_type": "code",
   "execution_count": null,
   "id": "7d147b3f",
   "metadata": {
    "lines_to_next_cell": 2,
    "tags": [
     "code-along"
    ]
   },
   "outputs": [],
   "source": []
  },
  {
   "cell_type": "markdown",
   "id": "d34511f3",
   "metadata": {},
   "source": [
    "\n",
    " ## Iteration über Listen von Listen"
   ]
  },
  {
   "cell_type": "code",
   "execution_count": null,
   "id": "1ceb8c62",
   "metadata": {
    "lines_to_next_cell": 2,
    "tags": [
     "code-along"
    ]
   },
   "outputs": [],
   "source": []
  },
  {
   "cell_type": "code",
   "execution_count": null,
   "id": "b834ed11",
   "metadata": {
    "lines_to_next_cell": 2
   },
   "outputs": [],
   "source": [
    "my_list = [[1, 2], [3, 4], [5, 6]]"
   ]
  },
  {
   "cell_type": "code",
   "execution_count": null,
   "id": "47f951c5",
   "metadata": {
    "lines_to_next_cell": 2,
    "tags": [
     "code-along"
    ]
   },
   "outputs": [],
   "source": []
  },
  {
   "cell_type": "code",
   "execution_count": null,
   "id": "89ceeacd",
   "metadata": {
    "lines_to_next_cell": 2,
    "tags": [
     "code-along"
    ]
   },
   "outputs": [],
   "source": []
  },
  {
   "cell_type": "markdown",
   "id": "41ded0bd",
   "metadata": {},
   "source": [
    "\n",
    " # Nochmal Finden von Elementen\n",
    "\n",
    " Bei unserer bisherigen Version von `find` muss die Liste zweimal durchlaufen\n",
    " werden:\n",
    "\n",
    " - Einmal von `in` um zu testen, ob das gesuchte Element in der Liste vorkommt\n",
    " - Einmal von `index` um den Index zu finden.\n",
    "\n",
    " Schöner wäre es, wenn wir das in einem Durchlauf erledigen könnten."
   ]
  },
  {
   "cell_type": "code",
   "execution_count": null,
   "id": "124c63b7",
   "metadata": {},
   "outputs": [],
   "source": [
    "my_list = [\"a\", \"b\", \"c\", \"d\", \"e\"]"
   ]
  },
  {
   "cell_type": "code",
   "execution_count": null,
   "id": "a63a510e",
   "metadata": {
    "lines_to_next_cell": 2,
    "tags": [
     "code-along"
    ]
   },
   "outputs": [],
   "source": []
  },
  {
   "cell_type": "code",
   "execution_count": null,
   "id": "615fed47",
   "metadata": {
    "lines_to_next_cell": 2,
    "tags": [
     "code-along"
    ]
   },
   "outputs": [],
   "source": []
  },
  {
   "cell_type": "code",
   "execution_count": null,
   "id": "8f652e31",
   "metadata": {
    "tags": [
     "code-along"
    ]
   },
   "outputs": [],
   "source": []
  },
  {
   "cell_type": "code",
   "execution_count": null,
   "id": "5f2001d7",
   "metadata": {
    "tags": [
     "code-along"
    ]
   },
   "outputs": [],
   "source": []
  },
  {
   "cell_type": "code",
   "execution_count": null,
   "id": "29148494",
   "metadata": {},
   "outputs": [],
   "source": [
    "my_list = [\"a\", \"b\", \"c\", \"d\", \"a\"]"
   ]
  },
  {
   "cell_type": "code",
   "execution_count": null,
   "id": "4781b922",
   "metadata": {
    "lines_to_next_cell": 2,
    "tags": [
     "code-along"
    ]
   },
   "outputs": [],
   "source": []
  },
  {
   "cell_type": "code",
   "execution_count": null,
   "id": "4854823a",
   "metadata": {
    "lines_to_next_cell": 2,
    "tags": [
     "code-along"
    ]
   },
   "outputs": [],
   "source": []
  },
  {
   "cell_type": "code",
   "execution_count": null,
   "id": "1eb51215",
   "metadata": {
    "tags": [
     "code-along"
    ]
   },
   "outputs": [],
   "source": []
  },
  {
   "cell_type": "code",
   "execution_count": null,
   "id": "05c54ef1",
   "metadata": {
    "tags": [
     "code-along"
    ]
   },
   "outputs": [],
   "source": []
  },
  {
   "cell_type": "code",
   "execution_count": null,
   "id": "4945088f",
   "metadata": {
    "tags": [
     "code-along"
    ]
   },
   "outputs": [],
   "source": []
  },
  {
   "cell_type": "markdown",
   "id": "dfce0852",
   "metadata": {},
   "source": [
    "\n",
    " ## Mini-Workshop\n",
    "\n",
    " - Notebook `030x-Workshop Listen und For-Schleifen`\n",
    " - Abschnitt \"Finden in Listen\"\n"
   ]
  },
  {
   "cell_type": "markdown",
   "id": "bb04df45",
   "metadata": {},
   "source": [
    "\n",
    " ## Aggregation von Listenelementen"
   ]
  },
  {
   "cell_type": "code",
   "execution_count": null,
   "id": "ee61c7bf",
   "metadata": {
    "tags": [
     "code-along"
    ]
   },
   "outputs": [],
   "source": []
  },
  {
   "cell_type": "code",
   "execution_count": null,
   "id": "4e327d40",
   "metadata": {
    "lines_to_next_cell": 2,
    "tags": [
     "code-along"
    ]
   },
   "outputs": [],
   "source": []
  },
  {
   "cell_type": "markdown",
   "id": "72ab4654",
   "metadata": {},
   "source": [
    "\n",
    " ## Mini-Workshop\n",
    "\n",
    " - Notebook `030x-Workshop Listen und For-Schleifen`\n",
    " - Abschnitt \"Mittelwert einer Liste\""
   ]
  },
  {
   "cell_type": "markdown",
   "id": "79ae8fa1",
   "metadata": {},
   "source": [
    "\n",
    " ## Transformation von Listen"
   ]
  },
  {
   "cell_type": "code",
   "execution_count": null,
   "id": "dd08e602",
   "metadata": {
    "lines_to_next_cell": 2,
    "tags": [
     "code-along"
    ]
   },
   "outputs": [],
   "source": []
  },
  {
   "cell_type": "code",
   "execution_count": null,
   "id": "749cf386",
   "metadata": {
    "lines_to_next_cell": 2,
    "tags": [
     "code-along"
    ]
   },
   "outputs": [],
   "source": []
  },
  {
   "cell_type": "markdown",
   "id": "16d0655c",
   "metadata": {},
   "source": [
    "\n",
    " ## Mini-Workshop\n",
    "\n",
    " - Notebook `030x-Workshop Listen und For-Schleifen`\n",
    " - Abschnitt \"Quadratzahlen\"\n",
    "\n",
    " # Filtern von Listen"
   ]
  },
  {
   "cell_type": "code",
   "execution_count": null,
   "id": "b619abf2",
   "metadata": {
    "lines_to_next_cell": 2,
    "tags": [
     "code-along"
    ]
   },
   "outputs": [],
   "source": []
  },
  {
   "cell_type": "code",
   "execution_count": null,
   "id": "b05b0dad",
   "metadata": {
    "lines_to_next_cell": 2,
    "tags": [
     "code-along"
    ]
   },
   "outputs": [],
   "source": []
  },
  {
   "cell_type": "markdown",
   "id": "a953fece",
   "metadata": {},
   "source": [
    "\n",
    " ## Mini-Workshop\n",
    "\n",
    " - Notebook `030x-Workshop Listen und For-Schleifen`\n",
    " - Abschnitt \"Filtern\"\n"
   ]
  }
 ],
 "metadata": {
  "jupytext": {
   "encoding": "# -*- coding: utf-8 -*-",
   "formats": "ipynb",
   "main_language": "python"
  }
 },
 "nbformat": 4,
 "nbformat_minor": 5
}
