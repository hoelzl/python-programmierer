{
 "cells": [
  {
   "cell_type": "code",
   "execution_count": null,
   "id": "e4a9139a",
   "metadata": {
    "lines_to_next_cell": 0
   },
   "outputs": [],
   "source": []
  },
  {
   "cell_type": "markdown",
   "id": "c158e0e0",
   "metadata": {
    "lines_to_next_cell": 2,
    "slideshow": {
     "slide_type": "slide"
    }
   },
   "source": [
    "<img src=\"img/python-logo-notext.svg\"\n",
    "     style=\"display:block;margin:auto;width:10%\"/>\n",
    "<h1 style=\"text-align:center;\">Vertiefung zu Listen</h1>\n",
    "<br/>\n",
    "<div style=\"text-align:center;\">Dr. Matthias Hölzl</div>"
   ]
  },
  {
   "cell_type": "markdown",
   "id": "6673501d",
   "metadata": {},
   "source": [
    "# Listen\n",
    "\n",
    "Wiederholung:\n",
    "\n",
    "- Listen-Literale werden in eckige Klammern eingeschlossen\n",
    "- Andere Sequenzen können mittels `list` in Listen umgewandelt werden"
   ]
  },
  {
   "cell_type": "code",
   "execution_count": null,
   "id": "0f67f571",
   "metadata": {},
   "outputs": [],
   "source": [
    "[\"a\", \"b\", \"c\"]"
   ]
  },
  {
   "cell_type": "code",
   "execution_count": null,
   "id": "9f81a417",
   "metadata": {
    "tags": [
     "code-along"
    ]
   },
   "outputs": [],
   "source": []
  },
  {
   "cell_type": "markdown",
   "id": "ecc11170",
   "metadata": {
    "slideshow": {
     "slide_type": "subslide"
    }
   },
   "source": [
    "## Simulation der klassischen `for`-Schleife\n",
    "\n",
    "Iteration mit einer `for`-Schleife ist auch über andere Datenstrukturen als Listen möglich.\n",
    "\n",
    "In Python stellt der Typ `range` eine Folge von ganzen Zahlen dar:\n",
    "\n",
    "- `range(n)` erzeugt das ganzzahlige Interval von $0$ bis $n-1$\n",
    "- `range(m, n)` erzeugt das ganzzahlige Interval von $m$ bis $n-1$\n",
    "- `range(m, n, k)` erzeugt die ganzzahlige Sequenz $m, m+k, m+2k, ..., p$, wobei $p$ die größte Zahl der Form $m + jk$ mit $j \\geq 0$ und $p < n$ ist"
   ]
  },
  {
   "cell_type": "code",
   "execution_count": null,
   "id": "34f17c09",
   "metadata": {
    "incorrectly_encoded_metadata": "{\"slideshow\": {\"slide_type\": \"subslide\"}} tags=[\"code-along\"]"
   },
   "outputs": [],
   "source": [
    "range(3)"
   ]
  },
  {
   "cell_type": "code",
   "execution_count": null,
   "id": "84f80822",
   "metadata": {
    "tags": [
     "code-along"
    ]
   },
   "outputs": [],
   "source": []
  },
  {
   "cell_type": "code",
   "execution_count": null,
   "id": "e4078339",
   "metadata": {
    "tags": [
     "code-along"
    ]
   },
   "outputs": [],
   "source": []
  },
  {
   "cell_type": "code",
   "execution_count": null,
   "id": "dc29f2e9",
   "metadata": {
    "tags": [
     "code-along"
    ]
   },
   "outputs": [],
   "source": []
  },
  {
   "cell_type": "markdown",
   "id": "143959ff",
   "metadata": {
    "lines_to_next_cell": 2,
    "slideshow": {
     "slide_type": "subslide"
    }
   },
   "source": [
    "## Mini-Workshop\n",
    "\n",
    "- Notebook `workshop_060_introduction_part2`\n",
    "- Abschnitt \"Ausgabe von Quadratzahlen\""
   ]
  },
  {
   "cell_type": "markdown",
   "id": "343d2b05",
   "metadata": {
    "slideshow": {
     "slide_type": "subslide"
    }
   },
   "source": [
    "## Eigenschaften von Listen\n",
    "\n",
    "- Listen können beliebige Python-Werte speichern\n",
    "- Elemente in einer Liste haben eine feste Reihenfolge\n",
    "- Auf Elemente einer Liste kann mit einem Index zugegriffen werden\n",
    "- Listen können modifiziert werden\n",
    "\n",
    "Listen können Elemente mit verschiedenen Typen enthalten, die meisten Listen\n",
    "enthalten aber Elemente eines einzigen Typs."
   ]
  },
  {
   "cell_type": "code",
   "execution_count": null,
   "id": "a209bef2",
   "metadata": {
    "slideshow": {
     "slide_type": "subslide"
    }
   },
   "outputs": [],
   "source": [
    "stringliste = [\"a\", \"b\", \"c\"]"
   ]
  },
  {
   "cell_type": "code",
   "execution_count": null,
   "id": "54b397b6",
   "metadata": {
    "tags": [
     "code-along"
    ]
   },
   "outputs": [],
   "source": []
  },
  {
   "cell_type": "code",
   "execution_count": null,
   "id": "67f6cf9b",
   "metadata": {
    "tags": [
     "code-along"
    ]
   },
   "outputs": [],
   "source": []
  },
  {
   "cell_type": "markdown",
   "id": "60163c2b",
   "metadata": {
    "slideshow": {
     "slide_type": "subslide"
    }
   },
   "source": [
    "### Überprüfen, ob ein Element in einer Liste enthalten ist"
   ]
  },
  {
   "cell_type": "code",
   "execution_count": null,
   "id": "44ce7a88",
   "metadata": {
    "tags": [
     "code-along"
    ]
   },
   "outputs": [],
   "source": []
  },
  {
   "cell_type": "code",
   "execution_count": null,
   "id": "3c7aa298",
   "metadata": {
    "tags": [
     "code-along"
    ]
   },
   "outputs": [],
   "source": []
  },
  {
   "cell_type": "code",
   "execution_count": null,
   "id": "9b61a009",
   "metadata": {
    "tags": [
     "code-along"
    ]
   },
   "outputs": [],
   "source": []
  },
  {
   "cell_type": "markdown",
   "id": "1af88385",
   "metadata": {
    "slideshow": {
     "slide_type": "subslide"
    }
   },
   "source": [
    "### Finden der Position eines Elements"
   ]
  },
  {
   "cell_type": "code",
   "execution_count": null,
   "id": "d68c7cd4",
   "metadata": {
    "tags": [
     "code-along"
    ]
   },
   "outputs": [],
   "source": []
  },
  {
   "cell_type": "code",
   "execution_count": null,
   "id": "abd71bb9",
   "metadata": {},
   "outputs": [],
   "source": [
    "my_list = [\"a\", \"b\", \"c\", \"d\", \"b\", \"d\", \"b\"]"
   ]
  },
  {
   "cell_type": "code",
   "execution_count": null,
   "id": "a684d9dc",
   "metadata": {
    "tags": [
     "code-along"
    ]
   },
   "outputs": [],
   "source": []
  },
  {
   "cell_type": "code",
   "execution_count": null,
   "id": "33cc00e8",
   "metadata": {
    "tags": [
     "code-along"
    ]
   },
   "outputs": [],
   "source": []
  },
  {
   "cell_type": "markdown",
   "id": "5b914cd5",
   "metadata": {
    "slideshow": {
     "slide_type": "subslide"
    }
   },
   "source": [
    "## Micro-Workshop:\n",
    "\n",
    "Die Methode `index` wirft eine Exception, wenn das gesuchte Objekt nicht in\n",
    "der Liste vorkommt. Schreiben Sie eine Funktion\n",
    "```\n",
    "find(element, a_list)\n",
    "```\n",
    "\n",
    "- die einen Index zurückgibt, falls das Element `element` in der Liste\n",
    "  vorkommt, und\n",
    "- die `None` zurückgibt, falls es nicht vorkommt"
   ]
  },
  {
   "cell_type": "code",
   "execution_count": null,
   "id": "0a6e085c",
   "metadata": {
    "slideshow": {
     "slide_type": "subslide"
    },
    "tags": [
     "code-along"
    ]
   },
   "outputs": [],
   "source": []
  },
  {
   "cell_type": "code",
   "execution_count": null,
   "id": "56491b11",
   "metadata": {
    "slideshow": {
     "slide_type": "subslide"
    }
   },
   "outputs": [],
   "source": [
    "my_list = [\"a\", \"b\", \"c\", \"d\", \"e\"]"
   ]
  },
  {
   "cell_type": "code",
   "execution_count": null,
   "id": "9f026e14",
   "metadata": {
    "slideshow": {
     "slide_type": "-"
    },
    "tags": [
     "code-along"
    ]
   },
   "outputs": [],
   "source": []
  },
  {
   "cell_type": "code",
   "execution_count": null,
   "id": "bb33847a",
   "metadata": {
    "tags": [
     "code-along"
    ]
   },
   "outputs": [],
   "source": []
  },
  {
   "cell_type": "code",
   "execution_count": null,
   "id": "6c026ecc",
   "metadata": {
    "tags": [
     "code-along"
    ]
   },
   "outputs": [],
   "source": []
  },
  {
   "cell_type": "markdown",
   "id": "ed2d671e",
   "metadata": {
    "slideshow": {
     "slide_type": "subslide"
    }
   },
   "source": [
    "### Modifikation von Elementen"
   ]
  },
  {
   "cell_type": "code",
   "execution_count": null,
   "id": "d4d8f059",
   "metadata": {},
   "outputs": [],
   "source": [
    "stringliste"
   ]
  },
  {
   "cell_type": "code",
   "execution_count": null,
   "id": "526db5a3",
   "metadata": {
    "tags": [
     "code-along"
    ]
   },
   "outputs": [],
   "source": []
  },
  {
   "cell_type": "code",
   "execution_count": null,
   "id": "d431b5a7",
   "metadata": {},
   "outputs": [],
   "source": [
    "stringliste"
   ]
  },
  {
   "cell_type": "markdown",
   "id": "1d9b5de6",
   "metadata": {
    "slideshow": {
     "slide_type": "subslide"
    }
   },
   "source": [
    "### Einfügen und Anhängen von Elementen"
   ]
  },
  {
   "cell_type": "code",
   "execution_count": null,
   "id": "2cd9c5d3",
   "metadata": {},
   "outputs": [],
   "source": [
    "stringliste"
   ]
  },
  {
   "cell_type": "code",
   "execution_count": null,
   "id": "e0d3d27b",
   "metadata": {
    "tags": [
     "code-along"
    ]
   },
   "outputs": [],
   "source": []
  },
  {
   "cell_type": "code",
   "execution_count": null,
   "id": "786dd00c",
   "metadata": {},
   "outputs": [],
   "source": [
    "stringliste"
   ]
  },
  {
   "cell_type": "code",
   "execution_count": null,
   "id": "2494d6a1",
   "metadata": {
    "slideshow": {
     "slide_type": "subslide"
    },
    "tags": [
     "code-along"
    ]
   },
   "outputs": [],
   "source": []
  },
  {
   "cell_type": "code",
   "execution_count": null,
   "id": "e720c17f",
   "metadata": {},
   "outputs": [],
   "source": [
    "stringliste"
   ]
  },
  {
   "cell_type": "code",
   "execution_count": null,
   "id": "330eccb6",
   "metadata": {
    "tags": [
     "code-along"
    ]
   },
   "outputs": [],
   "source": []
  },
  {
   "cell_type": "code",
   "execution_count": null,
   "id": "abbd6b64",
   "metadata": {
    "slideshow": {
     "slide_type": "subslide"
    }
   },
   "outputs": [],
   "source": [
    "stringliste"
   ]
  },
  {
   "cell_type": "code",
   "execution_count": null,
   "id": "029016ef",
   "metadata": {
    "tags": [
     "code-along"
    ]
   },
   "outputs": [],
   "source": []
  },
  {
   "cell_type": "code",
   "execution_count": null,
   "id": "18c645de",
   "metadata": {},
   "outputs": [],
   "source": [
    "stringliste"
   ]
  },
  {
   "cell_type": "code",
   "execution_count": null,
   "id": "270a68db",
   "metadata": {
    "slideshow": {
     "slide_type": "subslide"
    },
    "tags": [
     "code-along"
    ]
   },
   "outputs": [],
   "source": []
  },
  {
   "cell_type": "code",
   "execution_count": null,
   "id": "51309fcf",
   "metadata": {},
   "outputs": [],
   "source": [
    "stringliste"
   ]
  },
  {
   "cell_type": "code",
   "execution_count": null,
   "id": "5fdefc10",
   "metadata": {
    "tags": [
     "code-along"
    ]
   },
   "outputs": [],
   "source": []
  },
  {
   "cell_type": "code",
   "execution_count": null,
   "id": "ff406588",
   "metadata": {},
   "outputs": [],
   "source": [
    "stringliste"
   ]
  },
  {
   "cell_type": "markdown",
   "id": "c8445b4b",
   "metadata": {
    "slideshow": {
     "slide_type": "subslide"
    }
   },
   "source": [
    "### Entfernen von Elementen"
   ]
  },
  {
   "cell_type": "code",
   "execution_count": null,
   "id": "cc46ff3b",
   "metadata": {},
   "outputs": [],
   "source": [
    "stringliste = [\"ANFANG\", \"A\", \"Y\", \"b\", \"c\", \"D\", \"E\", \"ENDE\", \"F\"]\n",
    "stringliste[7]"
   ]
  },
  {
   "cell_type": "code",
   "execution_count": null,
   "id": "fac7319f",
   "metadata": {
    "tags": [
     "code-along"
    ]
   },
   "outputs": [],
   "source": []
  },
  {
   "cell_type": "code",
   "execution_count": null,
   "id": "01db5e60",
   "metadata": {},
   "outputs": [],
   "source": [
    "stringliste"
   ]
  },
  {
   "cell_type": "markdown",
   "id": "8e05ddf6",
   "metadata": {
    "slideshow": {
     "slide_type": "subslide"
    }
   },
   "source": [
    "### Länge einer Liste"
   ]
  },
  {
   "cell_type": "code",
   "execution_count": null,
   "id": "c87d47ee",
   "metadata": {},
   "outputs": [],
   "source": [
    "stringliste"
   ]
  },
  {
   "cell_type": "code",
   "execution_count": null,
   "id": "e21cf8f3",
   "metadata": {
    "tags": [
     "code-along"
    ]
   },
   "outputs": [],
   "source": []
  },
  {
   "cell_type": "code",
   "execution_count": null,
   "id": "6708f338",
   "metadata": {
    "tags": [
     "code-along"
    ]
   },
   "outputs": [],
   "source": []
  },
  {
   "cell_type": "code",
   "execution_count": null,
   "id": "f1586864",
   "metadata": {},
   "outputs": [],
   "source": [
    "stringliste"
   ]
  },
  {
   "cell_type": "code",
   "execution_count": null,
   "id": "983af1ff",
   "metadata": {
    "tags": [
     "code-along"
    ]
   },
   "outputs": [],
   "source": []
  },
  {
   "cell_type": "markdown",
   "id": "ea35ea81",
   "metadata": {
    "slideshow": {
     "slide_type": "subslide"
    }
   },
   "source": [
    "## Mini-Workshop\n",
    "\n",
    "- Notebook `workshop_100_lists_part2`\n",
    "- Abschnitt \"Farben\"\n"
   ]
  },
  {
   "cell_type": "markdown",
   "id": "f253997a",
   "metadata": {
    "slideshow": {
     "slide_type": "slide"
    }
   },
   "source": [
    "## Erzeugen von Listen\n",
    "\n",
    "Durch den Multiplikationsoperator `*` können die Elemente einer Liste\n",
    "wiederholt werden:"
   ]
  },
  {
   "cell_type": "code",
   "execution_count": null,
   "id": "8a97d395",
   "metadata": {
    "tags": [
     "code-along"
    ]
   },
   "outputs": [],
   "source": []
  },
  {
   "cell_type": "code",
   "execution_count": null,
   "id": "7f93457e",
   "metadata": {
    "tags": [
     "code-along"
    ]
   },
   "outputs": [],
   "source": []
  },
  {
   "cell_type": "code",
   "execution_count": null,
   "id": "f75b54df",
   "metadata": {
    "tags": [
     "code-along"
    ]
   },
   "outputs": [],
   "source": []
  },
  {
   "cell_type": "markdown",
   "id": "a36bf3f4",
   "metadata": {
    "slideshow": {
     "slide_type": "slide"
    }
   },
   "source": [
    "## Slicing\n",
    "\n",
    "Mit der Notation `liste[m:n]` kann man eine \"Teilliste\" von `liste`\n",
    "extrahieren.\n",
    "\n",
    "- Das erste Element ist `liste[m]`\n",
    "- Das letzte Element ist `liste[n-1]`"
   ]
  },
  {
   "cell_type": "code",
   "execution_count": null,
   "id": "61c4c7ad",
   "metadata": {
    "slideshow": {
     "slide_type": "subslide"
    }
   },
   "outputs": [],
   "source": [
    "stringliste = [\"a\", \"b\", \"c\", \"d\", \"e\"]"
   ]
  },
  {
   "cell_type": "code",
   "execution_count": null,
   "id": "b03c7f36",
   "metadata": {
    "tags": [
     "code-along"
    ]
   },
   "outputs": [],
   "source": []
  },
  {
   "cell_type": "code",
   "execution_count": null,
   "id": "996f9317",
   "metadata": {
    "tags": [
     "code-along"
    ]
   },
   "outputs": [],
   "source": []
  },
  {
   "cell_type": "code",
   "execution_count": null,
   "id": "fd505aba",
   "metadata": {
    "tags": [
     "code-along"
    ]
   },
   "outputs": [],
   "source": []
  },
  {
   "cell_type": "code",
   "execution_count": null,
   "id": "f247afc6",
   "metadata": {
    "slideshow": {
     "slide_type": "subslide"
    },
    "tags": [
     "code-along"
    ]
   },
   "outputs": [],
   "source": []
  },
  {
   "cell_type": "code",
   "execution_count": null,
   "id": "0fd5bbc8",
   "metadata": {
    "tags": [
     "code-along"
    ]
   },
   "outputs": [],
   "source": []
  },
  {
   "cell_type": "code",
   "execution_count": null,
   "id": "f090c6c8",
   "metadata": {
    "tags": [
     "code-along"
    ]
   },
   "outputs": [],
   "source": []
  },
  {
   "cell_type": "markdown",
   "id": "0c8b1a65",
   "metadata": {
    "slideshow": {
     "slide_type": "subslide"
    }
   },
   "source": [
    "## Mini-Workshop\n",
    "\n",
    "- Notebook `workshop_100_lists_part2`\n",
    "- Abschnitt \"Slicing\"\n"
   ]
  },
  {
   "cell_type": "markdown",
   "id": "0d43900b",
   "metadata": {
    "pycharm": {
     "name": "#%% md\n"
    },
    "slideshow": {
     "slide_type": "slide"
    }
   },
   "source": [
    "## Zuweisung an Slices\n",
    "\n",
    "Man kann Werte an Slices zuweisen:"
   ]
  },
  {
   "cell_type": "code",
   "execution_count": null,
   "id": "42aa0156",
   "metadata": {
    "tags": [
     "code-along"
    ]
   },
   "outputs": [],
   "source": []
  },
  {
   "cell_type": "code",
   "execution_count": null,
   "id": "0b476e48",
   "metadata": {
    "tags": [
     "code-along"
    ]
   },
   "outputs": [],
   "source": []
  },
  {
   "cell_type": "code",
   "execution_count": null,
   "id": "3af2a5f4",
   "metadata": {
    "tags": [
     "code-along"
    ]
   },
   "outputs": [],
   "source": []
  },
  {
   "cell_type": "code",
   "execution_count": null,
   "id": "3546c9c1",
   "metadata": {
    "tags": [
     "code-along"
    ]
   },
   "outputs": [],
   "source": []
  },
  {
   "cell_type": "code",
   "execution_count": null,
   "id": "ac98f3a3",
   "metadata": {
    "slideshow": {
     "slide_type": "subslide"
    },
    "tags": [
     "code-along"
    ]
   },
   "outputs": [],
   "source": []
  },
  {
   "cell_type": "markdown",
   "id": "cd53be09",
   "metadata": {
    "slideshow": {
     "slide_type": "slide"
    }
   },
   "source": [
    "## Slices als Objekte\n",
    "\n",
    "Slices sind selber Python Objekte. Außerhalb der Indexing-Operation `[]`\n",
    "können sie allerdings nicht mit der Notation `a:b` erzeugt werden, sondern\n",
    "mit der Konstruktor-Funktion `slice()`."
   ]
  },
  {
   "cell_type": "code",
   "execution_count": null,
   "id": "d3167975",
   "metadata": {
    "lines_to_next_cell": 2,
    "slideshow": {
     "slide_type": "-"
    }
   },
   "outputs": [],
   "source": [
    "my_list = [1, 2, 3, 4, 5, 6]\n",
    "print(my_list[2:4])"
   ]
  },
  {
   "cell_type": "code",
   "execution_count": null,
   "id": "86dc7e1a",
   "metadata": {
    "tags": [
     "code-along"
    ]
   },
   "outputs": [],
   "source": []
  },
  {
   "cell_type": "code",
   "execution_count": null,
   "id": "606633e8",
   "metadata": {
    "slideshow": {
     "slide_type": "subslide"
    }
   },
   "outputs": [],
   "source": [
    "print(my_list[:3])"
   ]
  },
  {
   "cell_type": "code",
   "execution_count": null,
   "id": "77a9751e",
   "metadata": {
    "tags": [
     "code-along"
    ]
   },
   "outputs": [],
   "source": []
  },
  {
   "cell_type": "markdown",
   "id": "5c4fe3b1",
   "metadata": {
    "slideshow": {
     "slide_type": "subslide"
    }
   },
   "source": [
    "\n",
    "Die `indices()`-Methode eines Slice-Objekts kann dazu verwendet werden zu\n",
    "bestimmen, welche Indizes das Slice enthält:"
   ]
  },
  {
   "cell_type": "code",
   "execution_count": null,
   "id": "992ed2e0",
   "metadata": {
    "incorrectly_encoded_metadata": "my_slice = slice(None, 3)"
   },
   "outputs": [],
   "source": [
    "print(my_slice.indices(len(my_list)))"
   ]
  },
  {
   "cell_type": "markdown",
   "id": "1a8d9a15",
   "metadata": {},
   "source": [
    "\n",
    "Damit können wir eine Funktion schreiben, die alle Elemente eines Slices\n",
    "durch einen Wert ersetzt:"
   ]
  },
  {
   "cell_type": "code",
   "execution_count": null,
   "id": "130f1559",
   "metadata": {
    "slideshow": {
     "slide_type": "subslide"
    }
   },
   "outputs": [],
   "source": [
    "def replace_with(my_list, my_slice, value):\n",
    "    import math\n",
    "\n",
    "    start, stop, stride = my_slice.indices(len(my_list))\n",
    "    num_values = math.ceil((stop - start) / stride)\n",
    "    my_list[my_slice] = [value] * num_values"
   ]
  },
  {
   "cell_type": "code",
   "execution_count": null,
   "id": "eb31d15b",
   "metadata": {
    "slideshow": {
     "slide_type": "subslide"
    }
   },
   "outputs": [],
   "source": [
    "my_list = [1, 2, 3, 4, 5, 6]\n",
    "my_slice = slice(2, 6)\n",
    "replace_with(my_list, my_slice, 8)\n",
    "my_list"
   ]
  }
 ],
 "metadata": {
  "jupytext": {
   "cell_metadata_json": true,
   "encoding": "# -*- coding: utf-8 -*-",
   "formats": "ipynb"
  },
  "kernelspec": {
   "display_name": "Python 3 (ipykernel)",
   "language": "python",
   "name": "python3"
  }
 },
 "nbformat": 4,
 "nbformat_minor": 5
}
