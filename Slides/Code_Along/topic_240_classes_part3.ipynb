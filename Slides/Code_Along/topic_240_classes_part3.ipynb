{
 "cells": [
  {
   "cell_type": "code",
   "execution_count": null,
   "id": "e448bf1a",
   "metadata": {},
   "outputs": [],
   "source": []
  },
  {
   "cell_type": "markdown",
   "id": "9561dc21",
   "metadata": {
    "lines_to_next_cell": 2,
    "slideshow": {
     "slide_type": "slide"
    }
   },
   "source": [
    "<img src=\"img/python-logo-notext.svg\"\n",
    "     style=\"display:block;margin:auto;width:10%\"/>\n",
    "<h1 style=\"text-align:center;\">Landen und Speichern: Pickles, JSON, CSV</h1>\n",
    "<br/>\n",
    "<div style=\"text-align:center;\">Dr. Matthias Hölzl</div>"
   ]
  },
  {
   "cell_type": "markdown",
   "id": "71aec5c4",
   "metadata": {},
   "source": [
    "\n",
    "## Workshop\n",
    "\n",
    "- Notebook `064x-Workshop Todo-Liste V2`\n",
    "- Abschnitt \"Laden und Speichern\""
   ]
  }
 ],
 "metadata": {
  "jupytext": {
   "formats": "ipynb",
   "main_language": "python"
  }
 },
 "nbformat": 4,
 "nbformat_minor": 5
}
