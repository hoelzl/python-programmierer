{
 "cells": [
  {
   "cell_type": "markdown",
   "id": "52420103",
   "metadata": {
    "lines_to_next_cell": 2,
    "slideshow": {
     "slide_type": "slide"
    }
   },
   "source": [
    "<img src=\"img/python-logo-notext.svg\"\n",
    "     style=\"display:block;margin:auto;width:10%\"/>\n",
    "<h1 style=\"text-align:center;\">Kommandozeilenargumente</h1>\n",
    "<br/>\n",
    "<div style=\"text-align:center;\">Dr. Matthias Hölzl</div>"
   ]
  },
  {
   "cell_type": "markdown",
   "id": "7ef03f08",
   "metadata": {},
   "source": [
    "\n",
    "## Workshop\n",
    "\n",
    "- Notebook `064x-Workshop Todo-Liste V2`\n",
    "- Abschnitt \"Kommandozeilenargumente\""
   ]
  }
 ],
 "metadata": {
  "jupytext": {
   "formats": "ipynb",
   "main_language": "python"
  }
 },
 "nbformat": 4,
 "nbformat_minor": 5
}
