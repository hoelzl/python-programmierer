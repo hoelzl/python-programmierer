{
 "cells": [
  {
   "cell_type": "markdown",
   "id": "15ae4376",
   "metadata": {
    "lang": "de",
    "slideshow": {
     "slide_type": "slide"
    }
   },
   "source": [
    "<img src=\"img/python-logo-notext.svg\"\n",
    "     style=\"display:block;margin:auto;width:10%\"/>\n",
    "<br>\n",
    "<div style=\"text-align:center; font-size:200%;\"><b>Ausnahmen und Fehlerbehandlung</b></div>\n",
    "<br/>\n",
    "<div style=\"text-align:center;\">Dr. Matthias Hölzl</div>"
   ]
  },
  {
   "cell_type": "markdown",
   "id": "c494350b",
   "metadata": {
    "lang": "de",
    "lines_to_next_cell": 2,
    "slideshow": {
     "slide_type": "slide"
    }
   },
   "source": [
    "\n",
    "# Fehlerbehandlung\n",
    "\n",
    "Wir wollen eine Funktion `int_sqrt(n: int) -> int` schreiben, die die\n",
    "\"Ganzzahlige Wurzel\" berechnet:\n",
    "- Wenn `n` eine Quadratzahl ist, also die Form `m * m` hat, dann soll `m`\n",
    "  zurückgegeben werden.\n",
    "- Was machen wir, falls `n` keine Quadratzahl ist?\n",
    "\n",
    "Einige Lösungsversuche:"
   ]
  },
  {
   "cell_type": "code",
   "execution_count": null,
   "id": "0df4fc10",
   "metadata": {
    "tags": [
     "code-along"
    ]
   },
   "outputs": [],
   "source": []
  },
  {
   "cell_type": "code",
   "execution_count": null,
   "id": "e287978b",
   "metadata": {
    "tags": [
     "code-along"
    ]
   },
   "outputs": [],
   "source": []
  },
  {
   "cell_type": "code",
   "execution_count": null,
   "id": "1a9c9064",
   "metadata": {
    "lines_to_next_cell": 2,
    "tags": [
     "code-along"
    ]
   },
   "outputs": [],
   "source": []
  },
  {
   "cell_type": "code",
   "execution_count": null,
   "id": "82c71305",
   "metadata": {
    "lines_to_next_cell": 2,
    "tags": [
     "code-along"
    ]
   },
   "outputs": [],
   "source": []
  },
  {
   "cell_type": "code",
   "execution_count": null,
   "id": "a96a7dbd",
   "metadata": {
    "lines_to_next_cell": 2,
    "tags": [
     "code-along"
    ]
   },
   "outputs": [],
   "source": []
  },
  {
   "cell_type": "code",
   "execution_count": null,
   "id": "1e459ad9",
   "metadata": {
    "tags": [
     "code-along"
    ]
   },
   "outputs": [],
   "source": []
  },
  {
   "cell_type": "code",
   "execution_count": null,
   "id": "c0c3ba26",
   "metadata": {
    "slideshow": {
     "slide_type": "subslide"
    },
    "tags": [
     "code-along"
    ]
   },
   "outputs": [],
   "source": []
  },
  {
   "cell_type": "code",
   "execution_count": null,
   "id": "d0561e62",
   "metadata": {
    "tags": [
     "code-along"
    ]
   },
   "outputs": [],
   "source": []
  },
  {
   "cell_type": "code",
   "execution_count": null,
   "id": "05a39b46",
   "metadata": {
    "lines_to_next_cell": 2,
    "tags": [
     "code-along"
    ]
   },
   "outputs": [],
   "source": []
  },
  {
   "cell_type": "code",
   "execution_count": null,
   "id": "eea9029c",
   "metadata": {
    "tags": [
     "code-along"
    ]
   },
   "outputs": [],
   "source": []
  },
  {
   "cell_type": "code",
   "execution_count": null,
   "id": "0755382a",
   "metadata": {
    "slideshow": {
     "slide_type": "subslide"
    },
    "tags": [
     "code-along"
    ]
   },
   "outputs": [],
   "source": []
  },
  {
   "cell_type": "code",
   "execution_count": null,
   "id": "9dffc5b3",
   "metadata": {
    "tags": [
     "code-along"
    ]
   },
   "outputs": [],
   "source": []
  },
  {
   "cell_type": "markdown",
   "id": "0ba98252",
   "metadata": {
    "lang": "de",
    "slideshow": {
     "slide_type": "subslide"
    }
   },
   "source": [
    "\n",
    " Beide Ansätze haben mehrere Probleme:\n",
    " - Die Fehlerbehandlung ist optional. Wird sie nicht durchgeführt, so wird mit\n",
    "   einem falschen Wert weitergerechnet.\n",
    " - Kann der Aufrufer den Fehler nicht selber behandeln, so muss der Fehler über\n",
    "   mehrere Ebenen von Funktionsaufrufen \"durchgereicht\" werden. Das führt zu\n",
    "   unübersichtlichem Code, da der \"interessante\" Pfad nicht vom Code zur\n",
    "   Fehlerbehandlung getrennt ist.\n",
    "\n",
    " Eine bessere Lösung:"
   ]
  },
  {
   "cell_type": "code",
   "execution_count": null,
   "id": "08da8582",
   "metadata": {
    "slideshow": {
     "slide_type": "subslide"
    },
    "tags": [
     "code-along"
    ]
   },
   "outputs": [],
   "source": []
  },
  {
   "cell_type": "code",
   "execution_count": null,
   "id": "693aac1c",
   "metadata": {
    "lines_to_next_cell": 2,
    "tags": [
     "code-along"
    ]
   },
   "outputs": [],
   "source": []
  },
  {
   "cell_type": "code",
   "execution_count": null,
   "id": "76ed08d0",
   "metadata": {
    "lines_to_next_cell": 2,
    "tags": [
     "code-along"
    ]
   },
   "outputs": [],
   "source": []
  },
  {
   "cell_type": "code",
   "execution_count": null,
   "id": "1545e092",
   "metadata": {
    "lines_to_next_cell": 2,
    "tags": [
     "code-along"
    ]
   },
   "outputs": [],
   "source": []
  },
  {
   "cell_type": "code",
   "execution_count": null,
   "id": "3362e4bc",
   "metadata": {
    "lines_to_next_cell": 2,
    "tags": [
     "code-along"
    ]
   },
   "outputs": [],
   "source": []
  },
  {
   "cell_type": "code",
   "execution_count": null,
   "id": "ff034342",
   "metadata": {
    "lines_to_next_cell": 2,
    "slideshow": {
     "slide_type": "subslide"
    },
    "tags": [
     "code-along"
    ]
   },
   "outputs": [],
   "source": []
  },
  {
   "cell_type": "code",
   "execution_count": null,
   "id": "9ce932f8",
   "metadata": {
    "lines_to_next_cell": 2,
    "tags": [
     "code-along"
    ]
   },
   "outputs": [],
   "source": []
  },
  {
   "cell_type": "code",
   "execution_count": null,
   "id": "fc3c0c75",
   "metadata": {
    "tags": [
     "code-along"
    ]
   },
   "outputs": [],
   "source": []
  },
  {
   "cell_type": "code",
   "execution_count": null,
   "id": "821bec8e",
   "metadata": {
    "lines_to_next_cell": 2,
    "tags": [
     "code-along"
    ]
   },
   "outputs": [],
   "source": []
  },
  {
   "cell_type": "code",
   "execution_count": null,
   "id": "a7dc6a8a",
   "metadata": {
    "tags": [
     "code-along"
    ]
   },
   "outputs": [],
   "source": []
  },
  {
   "cell_type": "code",
   "execution_count": null,
   "id": "7e42af92",
   "metadata": {
    "slideshow": {
     "slide_type": "subslide"
    },
    "tags": [
     "code-along"
    ]
   },
   "outputs": [],
   "source": []
  },
  {
   "cell_type": "code",
   "execution_count": null,
   "id": "49606848",
   "metadata": {
    "lines_to_next_cell": 2,
    "tags": [
     "code-along"
    ]
   },
   "outputs": [],
   "source": []
  },
  {
   "cell_type": "code",
   "execution_count": null,
   "id": "f9c34e40",
   "metadata": {
    "tags": [
     "code-along"
    ]
   },
   "outputs": [],
   "source": []
  },
  {
   "cell_type": "markdown",
   "id": "7b57433b",
   "metadata": {
    "lang": "de",
    "slideshow": {
     "slide_type": "subslide"
    }
   },
   "source": [
    "## Fehlerklassen\n",
    "\n",
    "In Python gibt es viele vordefinierte Fehlerklassen, mit denen verschiedene\n",
    "Fehlerarten signalisiert werden können:\n",
    "- `Exception`: Basisklasse aller behandelbaren Exceptions\n",
    "- `ArithmeticError`: Basisklasse aller Fehler bei Rechenoperationen:\n",
    "  - OverflowError\n",
    "  - ZeroDivisionError\n",
    "- `LookupError`: Basisklasse wenn ein ungültiger Index für eine Datenstruktur\n",
    "  verwendet wurde\n",
    "- `AssertionError`: Fehlerklasse, die von `assert` verwendet wird\n",
    "- `EOFError`: Fehler wenn `intput()` unerwartet das Ende einer Datei erreicht\n",
    "- ...\n",
    "\n",
    "Die Liste der in der Standardbibliothek definierten Fehlerklassen ist\n",
    "[hier](https://docs.python.org/3/library/exceptions.html)."
   ]
  },
  {
   "cell_type": "code",
   "execution_count": null,
   "id": "daacd819",
   "metadata": {
    "slideshow": {
     "slide_type": "subslide"
    },
    "tags": [
     "code-along"
    ]
   },
   "outputs": [],
   "source": []
  },
  {
   "cell_type": "code",
   "execution_count": null,
   "id": "eafad39d",
   "metadata": {
    "lines_to_next_cell": 2,
    "tags": [
     "code-along"
    ]
   },
   "outputs": [],
   "source": []
  },
  {
   "cell_type": "code",
   "execution_count": null,
   "id": "0302072b",
   "metadata": {
    "tags": [
     "code-along"
    ]
   },
   "outputs": [],
   "source": []
  },
  {
   "cell_type": "code",
   "execution_count": null,
   "id": "4daa904d",
   "metadata": {
    "tags": [
     "code-along"
    ]
   },
   "outputs": [],
   "source": []
  },
  {
   "cell_type": "code",
   "execution_count": null,
   "id": "8e665af6",
   "metadata": {},
   "outputs": [],
   "source": [
    "def f2():\n",
    "    print(\"f2() before\")\n",
    "    raise_and_handle_error()\n",
    "    print(\"f2() after\")"
   ]
  },
  {
   "cell_type": "code",
   "execution_count": null,
   "id": "c4185646",
   "metadata": {},
   "outputs": [],
   "source": [
    "def f1():\n",
    "    print(\"f1() before\")\n",
    "    try:\n",
    "        f2()\n",
    "    except Exception as error:\n",
    "        print(f\"Case Exception: {error}\")\n",
    "    print(\"f1() after\")        "
   ]
  },
  {
   "cell_type": "code",
   "execution_count": null,
   "id": "ba328ae2",
   "metadata": {},
   "outputs": [],
   "source": [
    "f1()"
   ]
  },
  {
   "cell_type": "code",
   "execution_count": null,
   "id": "8d024967",
   "metadata": {},
   "outputs": [],
   "source": []
  },
  {
   "cell_type": "markdown",
   "id": "a0644e03",
   "metadata": {
    "lang": "de"
   },
   "source": [
    "## Mini-Workshop\n",
    "\n",
    "- Notebook `workshop_190_inheritance`\n",
    "- Abschnitt \"Bank Account\""
   ]
  },
  {
   "cell_type": "markdown",
   "id": "ebf91181",
   "metadata": {
    "lang": "de",
    "slideshow": {
     "slide_type": "subslide"
    }
   },
   "source": [
    "## Mini-Workshop\n",
    "\n",
    "- Notebook `workshop_090_control_structures`\n",
    "- Abschnitt \"Knobeln\""
   ]
  },
  {
   "cell_type": "markdown",
   "id": "42f2fff6",
   "metadata": {
    "lang": "de",
    "slideshow": {
     "slide_type": "subslide"
    }
   },
   "source": [
    "## Mini-Workshop\n",
    "\n",
    "- Notebook `topic_900_othellite`\n",
    "- `compute_linear_index()`"
   ]
  }
 ],
 "metadata": {
  "jupytext": {
   "cell_metadata_json": true,
   "encoding": "# -*- coding: utf-8 -*-",
   "formats": "ipynb"
  },
  "kernelspec": {
   "display_name": "Python 3 (ipykernel)",
   "language": "python",
   "name": "python3"
  }
 },
 "nbformat": 4,
 "nbformat_minor": 5
}
