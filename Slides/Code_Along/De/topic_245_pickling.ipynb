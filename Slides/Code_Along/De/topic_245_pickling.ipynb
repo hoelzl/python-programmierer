{
 "cells": [
  {
   "cell_type": "markdown",
   "id": "1fe07526",
   "metadata": {
    "lang": "de",
    "slideshow": {
     "slide_type": "slide"
    }
   },
   "source": [
    "<img src=\"img/python-logo-notext.svg\"\n",
    "     style=\"display:block;margin:auto;width:10%\"/>\n",
    "<br>\n",
    "<div style=\"text-align:center; font-size:200%;\"><b>Pickling</b></div>\n",
    "<br/>\n",
    "<div style=\"text-align:center;\">Dr. Matthias Hölzl</div>"
   ]
  },
  {
   "cell_type": "markdown",
   "id": "651190f3",
   "metadata": {
    "lang": "de"
   },
   "source": [
    "\n",
    "## Pickles\n",
    "\n",
    "Das `pickle` Modul bietet die Möglichkeit, Python Objekte einfach zu speichern\n",
    "und zu laden."
   ]
  },
  {
   "cell_type": "code",
   "execution_count": null,
   "id": "6f59117e",
   "metadata": {
    "tags": [
     "code-along"
    ]
   },
   "outputs": [],
   "source": []
  },
  {
   "cell_type": "code",
   "execution_count": null,
   "id": "d64170ee",
   "metadata": {
    "lines_to_next_cell": 2,
    "tags": [
     "code-along"
    ]
   },
   "outputs": [],
   "source": []
  },
  {
   "cell_type": "code",
   "execution_count": null,
   "id": "e4012954",
   "metadata": {
    "lines_to_next_cell": 2,
    "tags": [
     "code-along"
    ]
   },
   "outputs": [],
   "source": []
  },
  {
   "cell_type": "code",
   "execution_count": null,
   "id": "add27c92",
   "metadata": {
    "tags": [
     "code-along"
    ]
   },
   "outputs": [],
   "source": []
  },
  {
   "cell_type": "code",
   "execution_count": null,
   "id": "a2d7e0a5",
   "metadata": {
    "tags": [
     "code-along"
    ]
   },
   "outputs": [],
   "source": []
  },
  {
   "cell_type": "code",
   "execution_count": null,
   "id": "fb762cb4",
   "metadata": {
    "tags": [
     "code-along"
    ]
   },
   "outputs": [],
   "source": []
  },
  {
   "cell_type": "code",
   "execution_count": null,
   "id": "cc355b20",
   "metadata": {
    "tags": [
     "code-along"
    ]
   },
   "outputs": [],
   "source": []
  },
  {
   "cell_type": "code",
   "execution_count": null,
   "id": "6ec8a889",
   "metadata": {},
   "outputs": [],
   "source": [
    "my_dict is restored_pickle"
   ]
  },
  {
   "cell_type": "code",
   "execution_count": null,
   "id": "332817d6",
   "metadata": {},
   "outputs": [],
   "source": [
    "my_list.append(my_other_list)\n",
    "my_other_list.append(my_list)"
   ]
  },
  {
   "cell_type": "code",
   "execution_count": null,
   "id": "f5e2fc66",
   "metadata": {
    "lines_to_next_cell": 2
   },
   "outputs": [],
   "source": [
    "pprint(my_list)"
   ]
  },
  {
   "cell_type": "code",
   "execution_count": null,
   "id": "32238909",
   "metadata": {},
   "outputs": [],
   "source": [
    "pprint(my_dict)"
   ]
  },
  {
   "cell_type": "code",
   "execution_count": null,
   "id": "182c8edf",
   "metadata": {},
   "outputs": [],
   "source": [
    "my_pickle = pickle.dumps(my_dict)\n",
    "restored_pickle = pickle.loads(my_pickle)"
   ]
  },
  {
   "cell_type": "code",
   "execution_count": null,
   "id": "1938f252",
   "metadata": {},
   "outputs": [],
   "source": [
    "pprint(restored_pickle)"
   ]
  },
  {
   "cell_type": "code",
   "execution_count": null,
   "id": "0e0f5ef0",
   "metadata": {},
   "outputs": [],
   "source": [
    "# Don't try this...\n",
    "# my_dict == restored_pickle"
   ]
  }
 ],
 "metadata": {
  "jupytext": {
   "cell_metadata_json": true,
   "formats": "ipynb"
  },
  "kernelspec": {
   "display_name": "Python 3 (ipykernel)",
   "language": "python",
   "name": "python3"
  }
 },
 "nbformat": 4,
 "nbformat_minor": 5
}
