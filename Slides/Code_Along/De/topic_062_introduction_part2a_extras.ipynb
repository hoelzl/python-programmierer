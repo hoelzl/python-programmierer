{
 "cells": [
  {
   "cell_type": "markdown",
   "id": "9c62c6b6",
   "metadata": {
    "lang": "de",
    "slideshow": {
     "slide_type": "slide"
    }
   },
   "source": [
    "<img src=\"img/python-logo-notext.svg\"\n",
    "     style=\"display:block;margin:auto;width:10%\"/>\n",
    "<br>\n",
    "<div style=\"text-align:center; font-size:200%;\"><b>Einführung in Python: Grundlagen Teil 2a - Extras</b></div>\n",
    "<br/>\n",
    "<div style=\"text-align:center;\">Dr. Matthias Hölzl</div>"
   ]
  },
  {
   "cell_type": "markdown",
   "id": "708fb4e3",
   "metadata": {
    "slideshow": {
     "slide_type": "slide"
    }
   },
   "source": [
    "# `if`-Anweisungen\n",
    "\n",
    "- Wir wollen ein Programm schreiben, das bestimmt ob eine Zahl eine Glückszahl\n",
    "  ist oder nicht:\n",
    "    - 7 ist eine Glückszahl\n",
    "    - Alle anderen Zahlen sind es nicht.\n",
    "- Wir benötigen dazu die `if`-Anweisung:"
   ]
  },
  {
   "cell_type": "code",
   "execution_count": null,
   "id": "49545e4a",
   "metadata": {
    "incorrectly_encoded_metadata": "{\"slideshow\": {\"slide_type\": \"subslide\"}} tags=[\"code-along\"]"
   },
   "outputs": [],
   "source": [
    "def ist_glückszahl(zahl):\n",
    "    print(\"Ist\", zahl, \"eine Glückszahl?\")\n",
    "\n",
    "    if zahl == 7:\n",
    "        print(\"Ja!\")\n",
    "    else:\n",
    "        print(\"Leider nein.\")\n",
    "\n",
    "    print(\"Wir wünschen Ihnen alles Gute.\")"
   ]
  },
  {
   "cell_type": "code",
   "execution_count": null,
   "id": "d5e52858",
   "metadata": {
    "tags": [
     "code-along"
    ]
   },
   "outputs": [],
   "source": []
  },
  {
   "cell_type": "code",
   "execution_count": null,
   "id": "f05bf7f9",
   "metadata": {
    "tags": [
     "code-along"
    ]
   },
   "outputs": [],
   "source": []
  },
  {
   "cell_type": "code",
   "execution_count": null,
   "id": "7a55a57d",
   "metadata": {
    "slideshow": {
     "slide_type": "subslide"
    }
   },
   "outputs": [],
   "source": [
    "def ist_glückszahl_2(zahl):\n",
    "    if zahl == 7:\n",
    "        print(zahl, \"ist eine Glückszahl!\")\n",
    "        print(\"Sie haben sicher einen super Tag!\")\n",
    "    else:\n",
    "        print(zahl, \"ist leider keine Glückszahl.\")\n",
    "        print(\"Vielleicht sollten Sie heute lieber im Bett bleiben.\")\n",
    "        print(\"Wir wünschen Ihnen trotzdem alles Gute.\")"
   ]
  },
  {
   "cell_type": "code",
   "execution_count": null,
   "id": "25f88d2d",
   "metadata": {
    "tags": [
     "code-along"
    ]
   },
   "outputs": [],
   "source": []
  },
  {
   "cell_type": "code",
   "execution_count": null,
   "id": "d6ab7c85",
   "metadata": {
    "tags": [
     "code-along"
    ]
   },
   "outputs": [],
   "source": []
  },
  {
   "cell_type": "code",
   "execution_count": null,
   "id": "71cba8a3",
   "metadata": {
    "slideshow": {
     "slide_type": "subslide"
    }
   },
   "outputs": [],
   "source": [
    "def einseitiges_if_1(zahl):\n",
    "    print(\"Vorher\")\n",
    "\n",
    "    if zahl == 7:\n",
    "        print(zahl, \"ist eine Glückszahl\")\n",
    "        print(\"Glückwunsch!\")\n",
    "\n",
    "    print(\"Nachher\")"
   ]
  },
  {
   "cell_type": "code",
   "execution_count": null,
   "id": "d2d5767e",
   "metadata": {
    "tags": [
     "code-along"
    ]
   },
   "outputs": [],
   "source": []
  },
  {
   "cell_type": "code",
   "execution_count": null,
   "id": "5e31d31c",
   "metadata": {
    "tags": [
     "code-along"
    ]
   },
   "outputs": [],
   "source": []
  },
  {
   "cell_type": "code",
   "execution_count": null,
   "id": "c60f6f08",
   "metadata": {
    "slideshow": {
     "slide_type": "subslide"
    }
   },
   "outputs": [],
   "source": [
    "def einseitiges_if_2(zahl):\n",
    "    if zahl % 2 != 0:\n",
    "        zahl += 1  # zahl = zahl + 1\n",
    "    print(zahl)"
   ]
  },
  {
   "cell_type": "code",
   "execution_count": null,
   "id": "882cc448",
   "metadata": {
    "tags": [
     "code-along"
    ]
   },
   "outputs": [],
   "source": []
  },
  {
   "cell_type": "code",
   "execution_count": null,
   "id": "5c9623e9",
   "metadata": {
    "lines_to_next_cell": 2,
    "tags": [
     "code-along"
    ]
   },
   "outputs": [],
   "source": []
  },
  {
   "cell_type": "markdown",
   "id": "a246a242",
   "metadata": {
    "slideshow": {
     "slide_type": "slide"
    }
   },
   "source": [
    "# Listen"
   ]
  },
  {
   "cell_type": "code",
   "execution_count": null,
   "id": "fa7ed29f",
   "metadata": {},
   "outputs": [],
   "source": [
    "warenkorb = [\"Haferflocken\", \"Kaffeebohnen\", \"Orangenmarmelade\"]"
   ]
  },
  {
   "cell_type": "markdown",
   "id": "66e34d02",
   "metadata": {},
   "source": [
    "Der Typ von Listen ist `list`."
   ]
  },
  {
   "cell_type": "code",
   "execution_count": null,
   "id": "3ea6cb1b",
   "metadata": {
    "tags": [
     "code-along"
    ]
   },
   "outputs": [],
   "source": []
  },
  {
   "cell_type": "markdown",
   "id": "eff4bd2c",
   "metadata": {
    "slideshow": {
     "slide_type": "slide"
    }
   },
   "source": [
    "## Erzeugen von Listen\n",
    "\n",
    "- Listen werden erzeugt, indem man ihre Elemente in eckige Klammern\n",
    "  einschließt.\n",
    "- Die Elemente einer Liste können beliebige Python-Werte sein.\n",
    "- Eine Liste kann Elemente mit verschiedenen Typen enthalten."
   ]
  },
  {
   "cell_type": "code",
   "execution_count": null,
   "id": "a65cd601",
   "metadata": {
    "slideshow": {
     "slide_type": "subslide"
    }
   },
   "outputs": [],
   "source": [
    "liste_1 = [1, 2, 3, 4, 5]\n",
    "liste_2 = [\"string1\", \"another string\"]"
   ]
  },
  {
   "cell_type": "code",
   "execution_count": null,
   "id": "10dea9a8",
   "metadata": {
    "tags": [
     "code-along"
    ]
   },
   "outputs": [],
   "source": []
  },
  {
   "cell_type": "code",
   "execution_count": null,
   "id": "dda5406d",
   "metadata": {
    "tags": [
     "code-along"
    ]
   },
   "outputs": [],
   "source": []
  },
  {
   "cell_type": "code",
   "execution_count": null,
   "id": "0b627ba2",
   "metadata": {
    "incorrectly_encoded_metadata": "{\"slideshow\": {\"slide_type\": \"subslide\"}} tags=[\"code-along\"]"
   },
   "outputs": [],
   "source": [
    "liste_3 = []\n",
    "liste_4 = [1, 0.4, \"ein String\", True, None]"
   ]
  },
  {
   "cell_type": "code",
   "execution_count": null,
   "id": "dcca43e3",
   "metadata": {
    "tags": [
     "code-along"
    ]
   },
   "outputs": [],
   "source": []
  },
  {
   "cell_type": "code",
   "execution_count": null,
   "id": "47ff0210",
   "metadata": {
    "tags": [
     "code-along"
    ]
   },
   "outputs": [],
   "source": []
  },
  {
   "cell_type": "markdown",
   "id": "4f5cf1b5",
   "metadata": {
    "slideshow": {
     "slide_type": "subslide"
    }
   },
   "source": [
    "\n",
    "Die Elemente einer Liste müssen keine Literale sein, man kann auch Werte von\n",
    "Variablen in einer Liste speichern:"
   ]
  },
  {
   "cell_type": "code",
   "execution_count": null,
   "id": "49d77e4d",
   "metadata": {},
   "outputs": [],
   "source": [
    "produkt_1 = \"Haferflocken\"\n",
    "produkt_2 = \"Kaffeebohnen\"\n",
    "produkt_3 = \"Orangenmarmelade\"\n",
    "warenkorb = [produkt_1, produkt_2, produkt_3, \"Erdbeermarmelade\"]\n",
    "warenkorb"
   ]
  },
  {
   "cell_type": "markdown",
   "id": "8a85133b",
   "metadata": {
    "slideshow": {
     "slide_type": "subslide"
    }
   },
   "source": [
    "\n",
    "Nachdem eine Liste erzeugt ist hat sie keine Verbindung zu den Variablen, die\n",
    "in ihrer Konstruktion verwendet wurden:"
   ]
  },
  {
   "cell_type": "code",
   "execution_count": null,
   "id": "d90393d2",
   "metadata": {
    "tags": [
     "code-along"
    ]
   },
   "outputs": [],
   "source": []
  },
  {
   "cell_type": "markdown",
   "id": "4f839137",
   "metadata": {
    "slideshow": {
     "slide_type": "subslide"
    }
   },
   "source": [
    "\n",
    "Mit der Funktion `list` können manche andere Datentypen in Listen umgewandelt\n",
    "werden.\n",
    "\n",
    "Im Moment kennen wir nur Listen, Strings und Dictionaries als mögliche\n",
    "Argumenttypen:"
   ]
  },
  {
   "cell_type": "code",
   "execution_count": null,
   "id": "6461925d",
   "metadata": {
    "tags": [
     "code-along"
    ]
   },
   "outputs": [],
   "source": []
  },
  {
   "cell_type": "code",
   "execution_count": null,
   "id": "f745c702",
   "metadata": {
    "tags": [
     "code-along"
    ]
   },
   "outputs": [],
   "source": []
  },
  {
   "cell_type": "code",
   "execution_count": null,
   "id": "e34b5024",
   "metadata": {
    "tags": [
     "code-along"
    ]
   },
   "outputs": [],
   "source": []
  },
  {
   "cell_type": "markdown",
   "id": "dc57f730",
   "metadata": {
    "pycharm": {
     "name": "#%% md\n"
    },
    "slideshow": {
     "slide_type": ""
    }
   },
   "source": [
    "## Zugriff auf Listenelemente"
   ]
  },
  {
   "cell_type": "code",
   "execution_count": null,
   "id": "8f1ac0f7",
   "metadata": {},
   "outputs": [],
   "source": [
    "zahlenliste = [0, 1, 2, 3]"
   ]
  },
  {
   "cell_type": "code",
   "execution_count": null,
   "id": "cb6f9f95",
   "metadata": {
    "tags": [
     "code-along"
    ]
   },
   "outputs": [],
   "source": []
  },
  {
   "cell_type": "code",
   "execution_count": null,
   "id": "5de17677",
   "metadata": {
    "tags": [
     "code-along"
    ]
   },
   "outputs": [],
   "source": []
  },
  {
   "cell_type": "code",
   "execution_count": null,
   "id": "948061b4",
   "metadata": {
    "tags": [
     "code-along"
    ]
   },
   "outputs": [],
   "source": []
  },
  {
   "cell_type": "markdown",
   "id": "c5d92a3b",
   "metadata": {
    "pycharm": {
     "name": "#%% md\n"
    },
    "slideshow": {
     "slide_type": "slide"
    }
   },
   "source": [
    "## Länge einer Liste"
   ]
  },
  {
   "cell_type": "code",
   "execution_count": null,
   "id": "dc6f79a6",
   "metadata": {},
   "outputs": [],
   "source": [
    "zahlenliste"
   ]
  },
  {
   "cell_type": "code",
   "execution_count": null,
   "id": "6951bb8a",
   "metadata": {
    "tags": [
     "code-along"
    ]
   },
   "outputs": [],
   "source": []
  },
  {
   "cell_type": "markdown",
   "id": "d17618c3",
   "metadata": {
    "pycharm": {
     "name": "#%% md\n"
    },
    "slideshow": {
     "slide_type": "slide"
    }
   },
   "source": [
    "## Modifikation von Listeneinträgen"
   ]
  },
  {
   "cell_type": "code",
   "execution_count": null,
   "id": "695ed683",
   "metadata": {
    "tags": [
     "code-along"
    ]
   },
   "outputs": [],
   "source": []
  },
  {
   "cell_type": "markdown",
   "id": "f5e6a59b",
   "metadata": {
    "pycharm": {
     "name": "#%% md\n"
    },
    "slideshow": {
     "slide_type": "slide"
    }
   },
   "source": [
    "## Anhängen von Elementen an eine Liste"
   ]
  },
  {
   "cell_type": "code",
   "execution_count": null,
   "id": "ccdb7874",
   "metadata": {
    "tags": [
     "code-along"
    ]
   },
   "outputs": [],
   "source": []
  },
  {
   "cell_type": "code",
   "execution_count": null,
   "id": "b373ed0e",
   "metadata": {
    "tags": [
     "code-along"
    ]
   },
   "outputs": [],
   "source": []
  },
  {
   "cell_type": "markdown",
   "id": "091c150c",
   "metadata": {
    "pycharm": {
     "name": "#%% md\n"
    },
    "slideshow": {
     "slide_type": "slide"
    }
   },
   "source": [
    "## Iteration über Listen\n",
    "\n",
    "In Python kann man mit der `for`-Schleife über Listen iterieren.\n",
    "\n",
    "Die `for`-Schleife entspricht dem range-based for aus C++,\n",
    "`for-in`/`for-of` aus JavaScript oder der `for-each`-Schleife\n",
    "aus Java, nicht der klassischen `for`-Schleife\n",
    "aus C, C++ oder Java."
   ]
  },
  {
   "cell_type": "code",
   "execution_count": null,
   "id": "724c565f",
   "metadata": {
    "slideshow": {
     "slide_type": "subslide"
    }
   },
   "outputs": [],
   "source": [
    "zahlenliste = [0, 1, 2, 3, 4]\n",
    "zahlenliste"
   ]
  },
  {
   "cell_type": "code",
   "execution_count": null,
   "id": "48c8cb2a",
   "metadata": {
    "tags": [
     "code-along"
    ]
   },
   "outputs": [],
   "source": []
  },
  {
   "cell_type": "markdown",
   "id": "9e72c7b3",
   "metadata": {
    "slideshow": {
     "slide_type": "subslide"
    }
   },
   "source": [
    "## Syntax der `for`-Schleife\n",
    "\n",
    "```python\n",
    "for <element-var> in <liste>:\n",
    "    <rumpf>\n",
    "```"
   ]
  },
  {
   "cell_type": "markdown",
   "id": "995506af",
   "metadata": {
    "slideshow": {
     "slide_type": "subslide"
    }
   },
   "source": [
    "## Workshop\n",
    "\n",
    "- Notebook `workshop_060_introduction_part2`\n",
    "- Abschnitt \"Einkaufsliste\""
   ]
  }
 ],
 "metadata": {
  "jupytext": {
   "cell_metadata_json": true,
   "encoding": "# -*- coding: utf-8 -*-",
   "formats": "ipynb"
  },
  "kernelspec": {
   "display_name": "Python 3 (ipykernel)",
   "language": "python",
   "name": "python3"
  }
 },
 "nbformat": 4,
 "nbformat_minor": 5
}
