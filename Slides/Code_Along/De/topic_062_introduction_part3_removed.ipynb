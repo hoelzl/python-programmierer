{
 "cells": [
  {
   "cell_type": "markdown",
   "id": "3d248400",
   "metadata": {
    "lang": "de",
    "slideshow": {
     "slide_type": "slide"
    }
   },
   "source": [
    "<img src=\"img/python-logo-notext.svg\"\n",
    "     style=\"display:block;margin:auto;width:10%\"/>\n",
    "<br>\n",
    "<div style=\"text-align:center; font-size:200%;\"><b>Einführung in Python: Grundlagen Teil 3 - Gelöscht</b></div>\n",
    "<br/>\n",
    "<div style=\"text-align:center;\">Dr. Matthias Hölzl</div>"
   ]
  },
  {
   "cell_type": "markdown",
   "id": "6bc64cff",
   "metadata": {
    "slideshow": {
     "slide_type": "slide"
    }
   },
   "source": [
    "# `if`-Anweisungen\n",
    "\n",
    "- Wir wollen ein Programm schreiben, das bestimmt ob eine Zahl eine Glückszahl\n",
    "  ist oder nicht:\n",
    "    - 7 ist eine Glückszahl\n",
    "    - Alle anderen Zahlen sind es nicht.\n",
    "- Wir benötigen dazu die `if`-Anweisung:"
   ]
  },
  {
   "cell_type": "code",
   "execution_count": null,
   "id": "dd0130d3",
   "metadata": {
    "incorrectly_encoded_metadata": "{\"slideshow\": {\"slide_type\": \"subslide\"}} tags=[\"code-along\"]"
   },
   "outputs": [],
   "source": [
    "def ist_glückszahl(zahl):\n",
    "    print(\"Ist\", zahl, \"eine Glückszahl?\")\n",
    "\n",
    "    if zahl == 7:\n",
    "        print(\"Ja!\")\n",
    "    else:\n",
    "        print(\"Leider nein.\")\n",
    "\n",
    "    print(\"Wir wünschen Ihnen alles Gute.\")"
   ]
  },
  {
   "cell_type": "code",
   "execution_count": null,
   "id": "65a4c46e",
   "metadata": {
    "tags": [
     "code-along"
    ]
   },
   "outputs": [],
   "source": []
  },
  {
   "cell_type": "code",
   "execution_count": null,
   "id": "a5c97801",
   "metadata": {
    "tags": [
     "code-along"
    ]
   },
   "outputs": [],
   "source": []
  },
  {
   "cell_type": "code",
   "execution_count": null,
   "id": "cc6cf51f",
   "metadata": {
    "slideshow": {
     "slide_type": "subslide"
    }
   },
   "outputs": [],
   "source": [
    "def ist_glückszahl_2(zahl):\n",
    "    if zahl == 7:\n",
    "        print(zahl, \"ist eine Glückszahl!\")\n",
    "        print(\"Sie haben sicher einen super Tag!\")\n",
    "    else:\n",
    "        print(zahl, \"ist leider keine Glückszahl.\")\n",
    "        print(\"Vielleicht sollten Sie heute lieber im Bett bleiben.\")\n",
    "        print(\"Wir wünschen Ihnen trotzdem alles Gute.\")"
   ]
  },
  {
   "cell_type": "code",
   "execution_count": null,
   "id": "0c7fdcf8",
   "metadata": {
    "tags": [
     "code-along"
    ]
   },
   "outputs": [],
   "source": []
  },
  {
   "cell_type": "code",
   "execution_count": null,
   "id": "d822f464",
   "metadata": {
    "tags": [
     "code-along"
    ]
   },
   "outputs": [],
   "source": []
  },
  {
   "cell_type": "code",
   "execution_count": null,
   "id": "b1ad621f",
   "metadata": {
    "slideshow": {
     "slide_type": "subslide"
    }
   },
   "outputs": [],
   "source": [
    "def einseitiges_if_1(zahl):\n",
    "    print(\"Vorher\")\n",
    "\n",
    "    if zahl == 7:\n",
    "        print(zahl, \"ist eine Glückszahl\")\n",
    "        print(\"Glückwunsch!\")\n",
    "\n",
    "    print(\"Nachher\")"
   ]
  },
  {
   "cell_type": "code",
   "execution_count": null,
   "id": "97bbf87b",
   "metadata": {
    "tags": [
     "code-along"
    ]
   },
   "outputs": [],
   "source": []
  },
  {
   "cell_type": "code",
   "execution_count": null,
   "id": "5505b348",
   "metadata": {
    "tags": [
     "code-along"
    ]
   },
   "outputs": [],
   "source": []
  },
  {
   "cell_type": "code",
   "execution_count": null,
   "id": "42434fac",
   "metadata": {
    "slideshow": {
     "slide_type": "subslide"
    }
   },
   "outputs": [],
   "source": [
    "def einseitiges_if_2(zahl):\n",
    "    if zahl % 2 != 0:\n",
    "        zahl += 1  # zahl = zahl + 1\n",
    "    print(zahl)"
   ]
  },
  {
   "cell_type": "code",
   "execution_count": null,
   "id": "fc9c9961",
   "metadata": {
    "tags": [
     "code-along"
    ]
   },
   "outputs": [],
   "source": []
  },
  {
   "cell_type": "code",
   "execution_count": null,
   "id": "370419fd",
   "metadata": {
    "lines_to_next_cell": 2,
    "tags": [
     "code-along"
    ]
   },
   "outputs": [],
   "source": []
  },
  {
   "cell_type": "markdown",
   "id": "3705c61e",
   "metadata": {
    "slideshow": {
     "slide_type": "slide"
    }
   },
   "source": [
    "# Listen"
   ]
  },
  {
   "cell_type": "code",
   "execution_count": null,
   "id": "b5f8b606",
   "metadata": {},
   "outputs": [],
   "source": [
    "warenkorb = [\"Haferflocken\", \"Kaffeebohnen\", \"Orangenmarmelade\"]"
   ]
  },
  {
   "cell_type": "markdown",
   "id": "798c3e4b",
   "metadata": {},
   "source": [
    "Der Typ von Listen ist `list`."
   ]
  },
  {
   "cell_type": "code",
   "execution_count": null,
   "id": "5663b4aa",
   "metadata": {
    "tags": [
     "code-along"
    ]
   },
   "outputs": [],
   "source": []
  },
  {
   "cell_type": "markdown",
   "id": "6e4c3ffb",
   "metadata": {
    "slideshow": {
     "slide_type": "slide"
    }
   },
   "source": [
    "## Erzeugen von Listen\n",
    "\n",
    "- Listen werden erzeugt, indem man ihre Elemente in eckige Klammern\n",
    "  einschließt.\n",
    "- Die Elemente einer Liste können beliebige Python-Werte sein.\n",
    "- Eine Liste kann Elemente mit verschiedenen Typen enthalten."
   ]
  },
  {
   "cell_type": "code",
   "execution_count": null,
   "id": "02779262",
   "metadata": {
    "slideshow": {
     "slide_type": "subslide"
    }
   },
   "outputs": [],
   "source": [
    "liste_1 = [1, 2, 3, 4, 5]\n",
    "liste_2 = [\"string1\", \"another string\"]"
   ]
  },
  {
   "cell_type": "code",
   "execution_count": null,
   "id": "602d47c3",
   "metadata": {
    "tags": [
     "code-along"
    ]
   },
   "outputs": [],
   "source": []
  },
  {
   "cell_type": "code",
   "execution_count": null,
   "id": "3b487d85",
   "metadata": {
    "tags": [
     "code-along"
    ]
   },
   "outputs": [],
   "source": []
  },
  {
   "cell_type": "code",
   "execution_count": null,
   "id": "28468a19",
   "metadata": {
    "incorrectly_encoded_metadata": "{\"slideshow\": {\"slide_type\": \"subslide\"}} tags=[\"code-along\"]"
   },
   "outputs": [],
   "source": [
    "liste_3 = []\n",
    "liste_4 = [1, 0.4, \"ein String\", True, None]"
   ]
  },
  {
   "cell_type": "code",
   "execution_count": null,
   "id": "022b295f",
   "metadata": {
    "tags": [
     "code-along"
    ]
   },
   "outputs": [],
   "source": []
  },
  {
   "cell_type": "code",
   "execution_count": null,
   "id": "11f04de2",
   "metadata": {
    "tags": [
     "code-along"
    ]
   },
   "outputs": [],
   "source": []
  },
  {
   "cell_type": "markdown",
   "id": "e10dea4e",
   "metadata": {
    "slideshow": {
     "slide_type": "subslide"
    }
   },
   "source": [
    "\n",
    "Die Elemente einer Liste müssen keine Literale sein, man kann auch Werte von\n",
    "Variablen in einer Liste speichern:"
   ]
  },
  {
   "cell_type": "code",
   "execution_count": null,
   "id": "7978b91a",
   "metadata": {},
   "outputs": [],
   "source": [
    "produkt_1 = \"Haferflocken\"\n",
    "produkt_2 = \"Kaffeebohnen\"\n",
    "produkt_3 = \"Orangenmarmelade\"\n",
    "warenkorb = [produkt_1, produkt_2, produkt_3, \"Erdbeermarmelade\"]\n",
    "warenkorb"
   ]
  },
  {
   "cell_type": "markdown",
   "id": "7c76c522",
   "metadata": {
    "slideshow": {
     "slide_type": "subslide"
    }
   },
   "source": [
    "\n",
    "Nachdem eine Liste erzeugt ist hat sie keine Verbindung zu den Variablen, die\n",
    "in ihrer Konstruktion verwendet wurden:"
   ]
  },
  {
   "cell_type": "code",
   "execution_count": null,
   "id": "f594ad00",
   "metadata": {
    "tags": [
     "code-along"
    ]
   },
   "outputs": [],
   "source": []
  },
  {
   "cell_type": "markdown",
   "id": "b0bc9580",
   "metadata": {
    "slideshow": {
     "slide_type": "subslide"
    }
   },
   "source": [
    "\n",
    "Mit der Funktion `list` können manche andere Datentypen in Listen umgewandelt\n",
    "werden.\n",
    "\n",
    "Im Moment kennen wir nur Listen, Strings und Dictionaries als mögliche\n",
    "Argumenttypen:"
   ]
  },
  {
   "cell_type": "code",
   "execution_count": null,
   "id": "e4c68951",
   "metadata": {
    "tags": [
     "code-along"
    ]
   },
   "outputs": [],
   "source": []
  },
  {
   "cell_type": "code",
   "execution_count": null,
   "id": "24a9c19d",
   "metadata": {
    "tags": [
     "code-along"
    ]
   },
   "outputs": [],
   "source": []
  },
  {
   "cell_type": "code",
   "execution_count": null,
   "id": "22530e09",
   "metadata": {
    "tags": [
     "code-along"
    ]
   },
   "outputs": [],
   "source": []
  },
  {
   "cell_type": "markdown",
   "id": "36d99f7e",
   "metadata": {
    "pycharm": {
     "name": "#%% md\n"
    },
    "slideshow": {
     "slide_type": ""
    }
   },
   "source": [
    "## Zugriff auf Listenelemente"
   ]
  },
  {
   "cell_type": "code",
   "execution_count": null,
   "id": "e1e92381",
   "metadata": {},
   "outputs": [],
   "source": [
    "zahlenliste = [0, 1, 2, 3]"
   ]
  },
  {
   "cell_type": "code",
   "execution_count": null,
   "id": "9fa2f1fc",
   "metadata": {
    "tags": [
     "code-along"
    ]
   },
   "outputs": [],
   "source": []
  },
  {
   "cell_type": "code",
   "execution_count": null,
   "id": "083f05e5",
   "metadata": {
    "tags": [
     "code-along"
    ]
   },
   "outputs": [],
   "source": []
  },
  {
   "cell_type": "code",
   "execution_count": null,
   "id": "38892642",
   "metadata": {
    "tags": [
     "code-along"
    ]
   },
   "outputs": [],
   "source": []
  },
  {
   "cell_type": "markdown",
   "id": "6334380d",
   "metadata": {
    "pycharm": {
     "name": "#%% md\n"
    },
    "slideshow": {
     "slide_type": "slide"
    }
   },
   "source": [
    "## Länge einer Liste"
   ]
  },
  {
   "cell_type": "code",
   "execution_count": null,
   "id": "08ffa872",
   "metadata": {},
   "outputs": [],
   "source": [
    "zahlenliste"
   ]
  },
  {
   "cell_type": "code",
   "execution_count": null,
   "id": "dcbb3461",
   "metadata": {
    "tags": [
     "code-along"
    ]
   },
   "outputs": [],
   "source": []
  },
  {
   "cell_type": "markdown",
   "id": "4f3034b9",
   "metadata": {
    "pycharm": {
     "name": "#%% md\n"
    },
    "slideshow": {
     "slide_type": "slide"
    }
   },
   "source": [
    "## Modifikation von Listeneinträgen"
   ]
  },
  {
   "cell_type": "code",
   "execution_count": null,
   "id": "bb1f6180",
   "metadata": {
    "tags": [
     "code-along"
    ]
   },
   "outputs": [],
   "source": []
  },
  {
   "cell_type": "markdown",
   "id": "02b07f7e",
   "metadata": {
    "pycharm": {
     "name": "#%% md\n"
    },
    "slideshow": {
     "slide_type": "slide"
    }
   },
   "source": [
    "## Anhängen von Elementen an eine Liste"
   ]
  },
  {
   "cell_type": "code",
   "execution_count": null,
   "id": "943892ee",
   "metadata": {
    "tags": [
     "code-along"
    ]
   },
   "outputs": [],
   "source": []
  },
  {
   "cell_type": "code",
   "execution_count": null,
   "id": "bbbf1084",
   "metadata": {
    "tags": [
     "code-along"
    ]
   },
   "outputs": [],
   "source": []
  },
  {
   "cell_type": "markdown",
   "id": "b0340376",
   "metadata": {
    "pycharm": {
     "name": "#%% md\n"
    },
    "slideshow": {
     "slide_type": "slide"
    }
   },
   "source": [
    "## Iteration über Listen\n",
    "\n",
    "In Python kann man mit der `for`-Schleife über Listen iterieren.\n",
    "\n",
    "Die `for`-Schleife entspricht dem range-based for aus C++,\n",
    "`for-in`/`for-of` aus JavaScript oder der `for-each`-Schleife\n",
    "aus Java, nicht der klassischen `for`-Schleife\n",
    "aus C, C++ oder Java."
   ]
  },
  {
   "cell_type": "code",
   "execution_count": null,
   "id": "5aeb6fbe",
   "metadata": {
    "slideshow": {
     "slide_type": "subslide"
    }
   },
   "outputs": [],
   "source": [
    "zahlenliste = [0, 1, 2, 3, 4]\n",
    "zahlenliste"
   ]
  },
  {
   "cell_type": "code",
   "execution_count": null,
   "id": "a675e22e",
   "metadata": {
    "tags": [
     "code-along"
    ]
   },
   "outputs": [],
   "source": []
  },
  {
   "cell_type": "markdown",
   "id": "c51a3af2",
   "metadata": {
    "slideshow": {
     "slide_type": "subslide"
    }
   },
   "source": [
    "## Syntax der `for`-Schleife\n",
    "\n",
    "```python\n",
    "for <element-var> in <liste>:\n",
    "    <rumpf>\n",
    "```"
   ]
  },
  {
   "cell_type": "markdown",
   "id": "acc90c36",
   "metadata": {
    "slideshow": {
     "slide_type": "subslide"
    }
   },
   "source": [
    "## Workshop\n",
    "\n",
    "- Notebook `workshop_060_introduction_part2`\n",
    "- Abschnitt \"Einkaufsliste\""
   ]
  }
 ],
 "metadata": {
  "jupytext": {
   "cell_metadata_json": true,
   "encoding": "# -*- coding: utf-8 -*-",
   "formats": "ipynb"
  },
  "kernelspec": {
   "display_name": "Python 3 (ipykernel)",
   "language": "python",
   "name": "python3"
  }
 },
 "nbformat": 4,
 "nbformat_minor": 5
}
