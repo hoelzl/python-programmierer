{
 "cells": [
  {
   "cell_type": "markdown",
   "id": "071a8a2d",
   "metadata": {
    "lang": "de",
    "slideshow": {
     "slide_type": "slide"
    }
   },
   "source": [
    "<img src=\"img/python-logo-notext.svg\"\n",
    "     style=\"display:block;margin:auto;width:10%\"/>\n",
    "<br>\n",
    "<div style=\"text-align:center; font-size:200%;\"><b>Vertiefung zu Listen</b></div>\n",
    "<br/>\n",
    "<div style=\"text-align:center;\">Dr. Matthias Hölzl</div>"
   ]
  },
  {
   "cell_type": "markdown",
   "id": "941c8e50",
   "metadata": {
    "lang": "de",
    "slideshow": {
     "slide_type": "slide"
    }
   },
   "source": [
    "# Listen\n",
    "\n",
    "Wiederholung:\n",
    "\n",
    "- Listen-Literale werden in eckige Klammern eingeschlossen\n",
    "- Andere Sequenzen können mittels `list` in Listen umgewandelt werden"
   ]
  },
  {
   "cell_type": "code",
   "execution_count": null,
   "id": "73748d57",
   "metadata": {},
   "outputs": [],
   "source": [
    "[\"a\", \"b\", \"c\"]"
   ]
  },
  {
   "cell_type": "code",
   "execution_count": null,
   "id": "07d937df",
   "metadata": {
    "tags": [
     "code-along"
    ]
   },
   "outputs": [],
   "source": []
  },
  {
   "cell_type": "markdown",
   "id": "1dd83eae",
   "metadata": {
    "lang": "de",
    "slideshow": {
     "slide_type": "subslide"
    }
   },
   "source": [
    "## Mini-Workshop\n",
    "\n",
    "- Notebook `workshop_060_introduction_part2`\n",
    "- Abschnitt \"Ausgabe von Quadratzahlen\""
   ]
  },
  {
   "cell_type": "markdown",
   "id": "ebf71eba",
   "metadata": {
    "lang": "de",
    "slideshow": {
     "slide_type": "subslide"
    }
   },
   "source": [
    "## Eigenschaften von Listen\n",
    "\n",
    "- Listen können beliebige Python-Werte speichern\n",
    "- Elemente in einer Liste haben eine feste Reihenfolge\n",
    "- Auf Elemente einer Liste kann mit einem Index zugegriffen werden\n",
    "- Listen können modifiziert werden\n",
    "\n",
    "Listen können Elemente mit verschiedenen Typen enthalten, die meisten Listen\n",
    "enthalten aber Elemente eines einzigen Typs."
   ]
  },
  {
   "cell_type": "code",
   "execution_count": null,
   "id": "877b1b9a",
   "metadata": {
    "slideshow": {
     "slide_type": "subslide"
    }
   },
   "outputs": [],
   "source": [
    "stringliste = [\"a\", \"b\", \"c\"]"
   ]
  },
  {
   "cell_type": "code",
   "execution_count": null,
   "id": "e588174b",
   "metadata": {
    "tags": [
     "code-along"
    ]
   },
   "outputs": [],
   "source": []
  },
  {
   "cell_type": "code",
   "execution_count": null,
   "id": "391b889c",
   "metadata": {
    "tags": [
     "code-along"
    ]
   },
   "outputs": [],
   "source": []
  },
  {
   "cell_type": "markdown",
   "id": "ceec4e08",
   "metadata": {
    "lang": "de",
    "slideshow": {
     "slide_type": "subslide"
    }
   },
   "source": [
    "### Überprüfen, ob ein Element in einer Liste enthalten ist"
   ]
  },
  {
   "cell_type": "code",
   "execution_count": null,
   "id": "d481d922",
   "metadata": {
    "tags": [
     "code-along"
    ]
   },
   "outputs": [],
   "source": []
  },
  {
   "cell_type": "code",
   "execution_count": null,
   "id": "483ec45a",
   "metadata": {
    "tags": [
     "code-along"
    ]
   },
   "outputs": [],
   "source": []
  },
  {
   "cell_type": "code",
   "execution_count": null,
   "id": "1a3a14db",
   "metadata": {
    "tags": [
     "code-along"
    ]
   },
   "outputs": [],
   "source": []
  },
  {
   "cell_type": "markdown",
   "id": "4b0e66ee",
   "metadata": {
    "lang": "de",
    "slideshow": {
     "slide_type": "subslide"
    }
   },
   "source": [
    "### Finden der Position eines Elements"
   ]
  },
  {
   "cell_type": "code",
   "execution_count": null,
   "id": "46c58415",
   "metadata": {
    "tags": [
     "code-along"
    ]
   },
   "outputs": [],
   "source": []
  },
  {
   "cell_type": "code",
   "execution_count": null,
   "id": "2f7fcedf",
   "metadata": {},
   "outputs": [],
   "source": [
    "my_list = [\"a\", \"b\", \"c\", \"d\", \"b\", \"d\", \"b\"]"
   ]
  },
  {
   "cell_type": "code",
   "execution_count": null,
   "id": "4f2e4331",
   "metadata": {
    "tags": [
     "code-along"
    ]
   },
   "outputs": [],
   "source": []
  },
  {
   "cell_type": "code",
   "execution_count": null,
   "id": "1f2a699c",
   "metadata": {
    "tags": [
     "code-along"
    ]
   },
   "outputs": [],
   "source": []
  },
  {
   "cell_type": "markdown",
   "id": "05edc78e",
   "metadata": {
    "lang": "de",
    "slideshow": {
     "slide_type": "subslide"
    }
   },
   "source": [
    "## Micro-Workshop:\n",
    "\n",
    "Die Methode `index` wirft eine Exception, wenn das gesuchte Objekt nicht in\n",
    "der Liste vorkommt. Schreiben Sie eine Funktion\n",
    "```\n",
    "find(element, a_list)\n",
    "```\n",
    "\n",
    "- die einen Index zurückgibt, falls das Element `element` in der Liste\n",
    "  vorkommt, und\n",
    "- die `None` zurückgibt, falls es nicht vorkommt"
   ]
  },
  {
   "cell_type": "code",
   "execution_count": null,
   "id": "c4221a82",
   "metadata": {
    "slideshow": {
     "slide_type": "subslide"
    },
    "tags": [
     "code-along"
    ]
   },
   "outputs": [],
   "source": []
  },
  {
   "cell_type": "code",
   "execution_count": null,
   "id": "c97b4bf4",
   "metadata": {
    "slideshow": {
     "slide_type": "subslide"
    }
   },
   "outputs": [],
   "source": [
    "my_list = [\"a\", \"b\", \"c\", \"d\", \"e\"]"
   ]
  },
  {
   "cell_type": "code",
   "execution_count": null,
   "id": "70bd7048",
   "metadata": {
    "slideshow": {
     "slide_type": "-"
    },
    "tags": [
     "code-along"
    ]
   },
   "outputs": [],
   "source": []
  },
  {
   "cell_type": "code",
   "execution_count": null,
   "id": "4317a8bd",
   "metadata": {
    "tags": [
     "code-along"
    ]
   },
   "outputs": [],
   "source": []
  },
  {
   "cell_type": "code",
   "execution_count": null,
   "id": "cb510f74",
   "metadata": {
    "tags": [
     "code-along"
    ]
   },
   "outputs": [],
   "source": []
  },
  {
   "cell_type": "markdown",
   "id": "78a816e4",
   "metadata": {
    "lang": "de",
    "slideshow": {
     "slide_type": "subslide"
    }
   },
   "source": [
    "### Modifikation von Elementen"
   ]
  },
  {
   "cell_type": "code",
   "execution_count": null,
   "id": "85c32a05",
   "metadata": {},
   "outputs": [],
   "source": [
    "stringliste"
   ]
  },
  {
   "cell_type": "code",
   "execution_count": null,
   "id": "c21d9aa9",
   "metadata": {
    "tags": [
     "code-along"
    ]
   },
   "outputs": [],
   "source": []
  },
  {
   "cell_type": "code",
   "execution_count": null,
   "id": "6bd6a8de",
   "metadata": {},
   "outputs": [],
   "source": [
    "stringliste"
   ]
  },
  {
   "cell_type": "markdown",
   "id": "859abafc",
   "metadata": {
    "lang": "de",
    "slideshow": {
     "slide_type": "subslide"
    }
   },
   "source": [
    "### Einfügen und Anhängen von Elementen"
   ]
  },
  {
   "cell_type": "code",
   "execution_count": null,
   "id": "d23bcf77",
   "metadata": {},
   "outputs": [],
   "source": [
    "stringliste"
   ]
  },
  {
   "cell_type": "code",
   "execution_count": null,
   "id": "92f94e2f",
   "metadata": {
    "tags": [
     "code-along"
    ]
   },
   "outputs": [],
   "source": []
  },
  {
   "cell_type": "code",
   "execution_count": null,
   "id": "390284cb",
   "metadata": {},
   "outputs": [],
   "source": [
    "stringliste"
   ]
  },
  {
   "cell_type": "code",
   "execution_count": null,
   "id": "3b042f20",
   "metadata": {
    "slideshow": {
     "slide_type": "subslide"
    },
    "tags": [
     "code-along"
    ]
   },
   "outputs": [],
   "source": []
  },
  {
   "cell_type": "code",
   "execution_count": null,
   "id": "db3dccc2",
   "metadata": {},
   "outputs": [],
   "source": [
    "stringliste"
   ]
  },
  {
   "cell_type": "code",
   "execution_count": null,
   "id": "9942bcd7",
   "metadata": {
    "tags": [
     "code-along"
    ]
   },
   "outputs": [],
   "source": []
  },
  {
   "cell_type": "code",
   "execution_count": null,
   "id": "12294dca",
   "metadata": {
    "slideshow": {
     "slide_type": "subslide"
    }
   },
   "outputs": [],
   "source": [
    "stringliste"
   ]
  },
  {
   "cell_type": "code",
   "execution_count": null,
   "id": "3f392526",
   "metadata": {
    "tags": [
     "code-along"
    ]
   },
   "outputs": [],
   "source": []
  },
  {
   "cell_type": "code",
   "execution_count": null,
   "id": "3aa10c14",
   "metadata": {},
   "outputs": [],
   "source": [
    "stringliste"
   ]
  },
  {
   "cell_type": "code",
   "execution_count": null,
   "id": "35f66d90",
   "metadata": {
    "slideshow": {
     "slide_type": "subslide"
    },
    "tags": [
     "code-along"
    ]
   },
   "outputs": [],
   "source": []
  },
  {
   "cell_type": "code",
   "execution_count": null,
   "id": "4b871f83",
   "metadata": {},
   "outputs": [],
   "source": [
    "stringliste"
   ]
  },
  {
   "cell_type": "code",
   "execution_count": null,
   "id": "8e73c994",
   "metadata": {
    "tags": [
     "code-along"
    ]
   },
   "outputs": [],
   "source": []
  },
  {
   "cell_type": "code",
   "execution_count": null,
   "id": "4817176b",
   "metadata": {},
   "outputs": [],
   "source": [
    "stringliste"
   ]
  },
  {
   "cell_type": "markdown",
   "id": "666acf67",
   "metadata": {
    "lang": "de",
    "slideshow": {
     "slide_type": "subslide"
    }
   },
   "source": [
    "### Entfernen von Elementen"
   ]
  },
  {
   "cell_type": "code",
   "execution_count": null,
   "id": "8ae1d3a7",
   "metadata": {},
   "outputs": [],
   "source": [
    "stringliste = [\"ANFANG\", \"A\", \"Y\", \"b\", \"c\", \"D\", \"E\", \"ENDE\", \"F\"]\n",
    "stringliste[7]"
   ]
  },
  {
   "cell_type": "code",
   "execution_count": null,
   "id": "f5198313",
   "metadata": {
    "tags": [
     "code-along"
    ]
   },
   "outputs": [],
   "source": []
  },
  {
   "cell_type": "code",
   "execution_count": null,
   "id": "101650ea",
   "metadata": {},
   "outputs": [],
   "source": [
    "stringliste"
   ]
  },
  {
   "cell_type": "markdown",
   "id": "de5c72ec",
   "metadata": {
    "lang": "de",
    "slideshow": {
     "slide_type": "subslide"
    }
   },
   "source": [
    "### Länge einer Liste"
   ]
  },
  {
   "cell_type": "code",
   "execution_count": null,
   "id": "9e72d3af",
   "metadata": {},
   "outputs": [],
   "source": [
    "stringliste"
   ]
  },
  {
   "cell_type": "code",
   "execution_count": null,
   "id": "6a6448e8",
   "metadata": {
    "tags": [
     "code-along"
    ]
   },
   "outputs": [],
   "source": []
  },
  {
   "cell_type": "code",
   "execution_count": null,
   "id": "0ff83164",
   "metadata": {
    "tags": [
     "code-along"
    ]
   },
   "outputs": [],
   "source": []
  },
  {
   "cell_type": "code",
   "execution_count": null,
   "id": "9f562f75",
   "metadata": {},
   "outputs": [],
   "source": [
    "stringliste"
   ]
  },
  {
   "cell_type": "code",
   "execution_count": null,
   "id": "91d7d666",
   "metadata": {
    "tags": [
     "code-along"
    ]
   },
   "outputs": [],
   "source": []
  },
  {
   "cell_type": "markdown",
   "id": "7d6e01a6",
   "metadata": {
    "lang": "de",
    "slideshow": {
     "slide_type": "subslide"
    }
   },
   "source": [
    "## Mini-Workshop\n",
    "\n",
    "- Notebook `workshop_100_lists_part2`\n",
    "- Abschnitt \"Farben\"\n"
   ]
  },
  {
   "cell_type": "markdown",
   "id": "5f490cdc",
   "metadata": {
    "lang": "de",
    "slideshow": {
     "slide_type": "slide"
    }
   },
   "source": [
    "## Erzeugen von Listen\n",
    "\n",
    "Durch den Multiplikationsoperator `*` können die Elemente einer Liste\n",
    "wiederholt werden:"
   ]
  },
  {
   "cell_type": "code",
   "execution_count": null,
   "id": "ac949341",
   "metadata": {
    "tags": [
     "code-along"
    ]
   },
   "outputs": [],
   "source": []
  },
  {
   "cell_type": "code",
   "execution_count": null,
   "id": "73d26015",
   "metadata": {
    "tags": [
     "code-along"
    ]
   },
   "outputs": [],
   "source": []
  },
  {
   "cell_type": "code",
   "execution_count": null,
   "id": "6c4dc8ba",
   "metadata": {
    "tags": [
     "code-along"
    ]
   },
   "outputs": [],
   "source": []
  },
  {
   "cell_type": "markdown",
   "id": "bdc72814",
   "metadata": {
    "lang": "de",
    "slideshow": {
     "slide_type": "slide"
    }
   },
   "source": [
    "## Slicing\n",
    "\n",
    "Mit der Notation `liste[m:n]` kann man eine \"Teilliste\" von `liste`\n",
    "extrahieren.\n",
    "\n",
    "- Das erste Element ist `liste[m]`\n",
    "- Das letzte Element ist `liste[n-1]`"
   ]
  },
  {
   "cell_type": "code",
   "execution_count": null,
   "id": "d6757c4a",
   "metadata": {
    "slideshow": {
     "slide_type": "subslide"
    }
   },
   "outputs": [],
   "source": [
    "stringliste = [\"a\", \"b\", \"c\", \"d\", \"e\"]"
   ]
  },
  {
   "cell_type": "code",
   "execution_count": null,
   "id": "0c410c37",
   "metadata": {
    "tags": [
     "code-along"
    ]
   },
   "outputs": [],
   "source": []
  },
  {
   "cell_type": "code",
   "execution_count": null,
   "id": "c3255d3b",
   "metadata": {
    "tags": [
     "code-along"
    ]
   },
   "outputs": [],
   "source": []
  },
  {
   "cell_type": "code",
   "execution_count": null,
   "id": "2e0a46f2",
   "metadata": {
    "tags": [
     "code-along"
    ]
   },
   "outputs": [],
   "source": []
  },
  {
   "cell_type": "code",
   "execution_count": null,
   "id": "d89108bd",
   "metadata": {
    "slideshow": {
     "slide_type": "subslide"
    },
    "tags": [
     "code-along"
    ]
   },
   "outputs": [],
   "source": []
  },
  {
   "cell_type": "code",
   "execution_count": null,
   "id": "6722a87e",
   "metadata": {
    "tags": [
     "code-along"
    ]
   },
   "outputs": [],
   "source": []
  },
  {
   "cell_type": "code",
   "execution_count": null,
   "id": "48780975",
   "metadata": {
    "tags": [
     "code-along"
    ]
   },
   "outputs": [],
   "source": []
  },
  {
   "cell_type": "markdown",
   "id": "639e32b6",
   "metadata": {
    "lang": "de",
    "slideshow": {
     "slide_type": "subslide"
    }
   },
   "source": [
    "## Mini-Workshop\n",
    "\n",
    "- Notebook `workshop_100_lists_part2`\n",
    "- Abschnitt \"Slicing\"\n"
   ]
  },
  {
   "cell_type": "markdown",
   "id": "7e3689e0",
   "metadata": {
    "lang": "de",
    "pycharm": {
     "name": "#%% md\n"
    },
    "slideshow": {
     "slide_type": "slide"
    }
   },
   "source": [
    "## Zuweisung an Slices\n",
    "\n",
    "Man kann Werte an Slices zuweisen:"
   ]
  },
  {
   "cell_type": "code",
   "execution_count": null,
   "id": "ada36a58",
   "metadata": {
    "tags": [
     "code-along"
    ]
   },
   "outputs": [],
   "source": []
  },
  {
   "cell_type": "code",
   "execution_count": null,
   "id": "950573f3",
   "metadata": {
    "tags": [
     "code-along"
    ]
   },
   "outputs": [],
   "source": []
  },
  {
   "cell_type": "code",
   "execution_count": null,
   "id": "34ed71ec",
   "metadata": {
    "tags": [
     "code-along"
    ]
   },
   "outputs": [],
   "source": []
  },
  {
   "cell_type": "code",
   "execution_count": null,
   "id": "693a0521",
   "metadata": {
    "tags": [
     "code-along"
    ]
   },
   "outputs": [],
   "source": []
  },
  {
   "cell_type": "code",
   "execution_count": null,
   "id": "9bb0fd4f",
   "metadata": {
    "slideshow": {
     "slide_type": "subslide"
    },
    "tags": [
     "code-along"
    ]
   },
   "outputs": [],
   "source": []
  },
  {
   "cell_type": "markdown",
   "id": "ea1a78a4",
   "metadata": {
    "lang": "de",
    "slideshow": {
     "slide_type": "slide"
    }
   },
   "source": [
    "## Slices als Objekte\n",
    "\n",
    "Slices sind selber Python Objekte. Außerhalb der Indexing-Operation `[]`\n",
    "können sie allerdings nicht mit der Notation `a:b` erzeugt werden, sondern\n",
    "mit der Konstruktor-Funktion `slice()`."
   ]
  },
  {
   "cell_type": "code",
   "execution_count": null,
   "id": "6dbc9cb7",
   "metadata": {
    "lines_to_next_cell": 2,
    "slideshow": {
     "slide_type": "-"
    }
   },
   "outputs": [],
   "source": [
    "my_list = [1, 2, 3, 4, 5, 6]\n",
    "print(my_list[2:4])"
   ]
  },
  {
   "cell_type": "code",
   "execution_count": null,
   "id": "c8623781",
   "metadata": {
    "tags": [
     "code-along"
    ]
   },
   "outputs": [],
   "source": []
  },
  {
   "cell_type": "code",
   "execution_count": null,
   "id": "cf7b5fb3",
   "metadata": {
    "slideshow": {
     "slide_type": "subslide"
    }
   },
   "outputs": [],
   "source": [
    "print(my_list[:3])"
   ]
  },
  {
   "cell_type": "code",
   "execution_count": null,
   "id": "4dff4a4e",
   "metadata": {
    "tags": [
     "code-along"
    ]
   },
   "outputs": [],
   "source": []
  },
  {
   "cell_type": "markdown",
   "id": "87067d8d",
   "metadata": {
    "lang": "de",
    "slideshow": {
     "slide_type": "subslide"
    }
   },
   "source": [
    "\n",
    "Die `indices()`-Methode eines Slice-Objekts kann dazu verwendet werden zu\n",
    "bestimmen, welche Indizes das Slice enthält:"
   ]
  },
  {
   "cell_type": "code",
   "execution_count": null,
   "id": "59170a76",
   "metadata": {},
   "outputs": [],
   "source": [
    "my_slice = slice(None, 3)\n",
    "print(my_slice.indices(len(my_list)))"
   ]
  },
  {
   "cell_type": "markdown",
   "id": "9f552ba9",
   "metadata": {
    "lang": "de"
   },
   "source": [
    "\n",
    "Damit können wir eine Funktion schreiben, die alle Elemente eines Slices\n",
    "durch einen Wert ersetzt:"
   ]
  },
  {
   "cell_type": "code",
   "execution_count": null,
   "id": "646221a4",
   "metadata": {
    "slideshow": {
     "slide_type": "subslide"
    }
   },
   "outputs": [],
   "source": [
    "def replace_with(my_list, my_slice, value):\n",
    "    import math\n",
    "\n",
    "    start, stop, stride = my_slice.indices(len(my_list))\n",
    "    num_values = math.ceil((stop - start) / stride)\n",
    "    my_list[my_slice] = [value] * num_values"
   ]
  },
  {
   "cell_type": "code",
   "execution_count": null,
   "id": "39cdd596",
   "metadata": {
    "slideshow": {
     "slide_type": "subslide"
    }
   },
   "outputs": [],
   "source": [
    "my_list = [1, 2, 3, 4, 5, 6]\n",
    "my_slice = slice(2, 6)\n",
    "replace_with(my_list, my_slice, 8)\n",
    "my_list"
   ]
  }
 ],
 "metadata": {
  "jupytext": {
   "cell_metadata_json": true,
   "encoding": "# -*- coding: utf-8 -*-",
   "formats": "ipynb"
  },
  "kernelspec": {
   "display_name": "Python 3 (ipykernel)",
   "language": "python",
   "name": "python3"
  }
 },
 "nbformat": 4,
 "nbformat_minor": 5
}
