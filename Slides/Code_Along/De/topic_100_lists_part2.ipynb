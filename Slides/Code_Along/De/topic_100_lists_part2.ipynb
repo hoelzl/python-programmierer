{
 "cells": [
  {
   "cell_type": "markdown",
   "id": "a0f1dde0",
   "metadata": {
    "lang": "de",
    "slideshow": {
     "slide_type": "slide"
    }
   },
   "source": [
    "<img src=\"img/python-logo-notext.svg\"\n",
    "     style=\"display:block;margin:auto;width:10%\"/>\n",
    "<br>\n",
    "<div style=\"text-align:center; font-size:200%;\"><b>Vertiefung zu Listen</b></div>\n",
    "<br/>\n",
    "<div style=\"text-align:center;\">Dr. Matthias Hölzl</div>"
   ]
  },
  {
   "cell_type": "markdown",
   "id": "75578a9f",
   "metadata": {
    "lang": "de",
    "slideshow": {
     "slide_type": "slide"
    }
   },
   "source": [
    "# Listen\n",
    "\n",
    "Wiederholung:\n",
    "\n",
    "- Listen-Literale werden in eckige Klammern eingeschlossen\n",
    "- Andere Sequenzen können mittels `list` in Listen umgewandelt werden"
   ]
  },
  {
   "cell_type": "code",
   "execution_count": null,
   "id": "ddc11cce",
   "metadata": {},
   "outputs": [],
   "source": [
    "[\"a\", \"b\", \"c\"]"
   ]
  },
  {
   "cell_type": "code",
   "execution_count": null,
   "id": "ee0b6677",
   "metadata": {
    "tags": [
     "code-along"
    ]
   },
   "outputs": [],
   "source": []
  },
  {
   "cell_type": "markdown",
   "id": "3ee647c0",
   "metadata": {
    "lang": "de",
    "slideshow": {
     "slide_type": "subslide"
    }
   },
   "source": [
    "## Mini-Workshop\n",
    "\n",
    "- Notebook `workshop_060_introduction_part2`\n",
    "- Abschnitt \"Ausgabe von Quadratzahlen\""
   ]
  },
  {
   "cell_type": "markdown",
   "id": "f23fc081",
   "metadata": {
    "lang": "de",
    "slideshow": {
     "slide_type": "subslide"
    }
   },
   "source": [
    "## Eigenschaften von Listen\n",
    "\n",
    "- Listen können beliebige Python-Werte speichern\n",
    "- Elemente in einer Liste haben eine feste Reihenfolge\n",
    "- Auf Elemente einer Liste kann mit einem Index zugegriffen werden\n",
    "- Listen können modifiziert werden\n",
    "\n",
    "Listen können Elemente mit verschiedenen Typen enthalten, die meisten Listen\n",
    "enthalten aber Elemente eines einzigen Typs."
   ]
  },
  {
   "cell_type": "code",
   "execution_count": null,
   "id": "03b784fe",
   "metadata": {
    "slideshow": {
     "slide_type": "subslide"
    }
   },
   "outputs": [],
   "source": [
    "stringliste = [\"a\", \"b\", \"c\"]"
   ]
  },
  {
   "cell_type": "code",
   "execution_count": null,
   "id": "52606868",
   "metadata": {
    "tags": [
     "code-along"
    ]
   },
   "outputs": [],
   "source": []
  },
  {
   "cell_type": "code",
   "execution_count": null,
   "id": "656ea00d",
   "metadata": {
    "tags": [
     "code-along"
    ]
   },
   "outputs": [],
   "source": []
  },
  {
   "cell_type": "markdown",
   "id": "6072c1e7",
   "metadata": {
    "lang": "de",
    "slideshow": {
     "slide_type": "subslide"
    }
   },
   "source": [
    "### Überprüfen, ob ein Element in einer Liste enthalten ist"
   ]
  },
  {
   "cell_type": "code",
   "execution_count": null,
   "id": "4929d11c",
   "metadata": {
    "tags": [
     "code-along"
    ]
   },
   "outputs": [],
   "source": []
  },
  {
   "cell_type": "code",
   "execution_count": null,
   "id": "1700f709",
   "metadata": {
    "tags": [
     "code-along"
    ]
   },
   "outputs": [],
   "source": []
  },
  {
   "cell_type": "code",
   "execution_count": null,
   "id": "de406fcb",
   "metadata": {
    "tags": [
     "code-along"
    ]
   },
   "outputs": [],
   "source": []
  },
  {
   "cell_type": "markdown",
   "id": "61d0aad2",
   "metadata": {
    "lang": "de",
    "slideshow": {
     "slide_type": "subslide"
    }
   },
   "source": [
    "### Finden der Position eines Elements"
   ]
  },
  {
   "cell_type": "code",
   "execution_count": null,
   "id": "04c0d0d2",
   "metadata": {
    "tags": [
     "code-along"
    ]
   },
   "outputs": [],
   "source": []
  },
  {
   "cell_type": "code",
   "execution_count": null,
   "id": "78c94ad9",
   "metadata": {},
   "outputs": [],
   "source": [
    "my_list = [\"a\", \"b\", \"c\", \"d\", \"b\", \"d\", \"b\"]"
   ]
  },
  {
   "cell_type": "code",
   "execution_count": null,
   "id": "48bde2fc",
   "metadata": {
    "tags": [
     "code-along"
    ]
   },
   "outputs": [],
   "source": []
  },
  {
   "cell_type": "code",
   "execution_count": null,
   "id": "d0f8fdf3",
   "metadata": {
    "tags": [
     "code-along"
    ]
   },
   "outputs": [],
   "source": []
  },
  {
   "cell_type": "markdown",
   "id": "11e570db",
   "metadata": {
    "lang": "de",
    "slideshow": {
     "slide_type": "subslide"
    }
   },
   "source": [
    "## Micro-Workshop:\n",
    "\n",
    "Die Methode `index` wirft eine Exception, wenn das gesuchte Objekt nicht in\n",
    "der Liste vorkommt. Schreiben Sie eine Funktion\n",
    "```\n",
    "find(element, a_list)\n",
    "```\n",
    "\n",
    "- die einen Index zurückgibt, falls das Element `element` in der Liste\n",
    "  vorkommt, und\n",
    "- die `None` zurückgibt, falls es nicht vorkommt"
   ]
  },
  {
   "cell_type": "code",
   "execution_count": null,
   "id": "2f9ada41",
   "metadata": {
    "slideshow": {
     "slide_type": "subslide"
    },
    "tags": [
     "code-along"
    ]
   },
   "outputs": [],
   "source": []
  },
  {
   "cell_type": "code",
   "execution_count": null,
   "id": "55b3d10a",
   "metadata": {
    "slideshow": {
     "slide_type": "subslide"
    }
   },
   "outputs": [],
   "source": [
    "my_list = [\"a\", \"b\", \"c\", \"d\", \"e\"]"
   ]
  },
  {
   "cell_type": "code",
   "execution_count": null,
   "id": "f453d394",
   "metadata": {
    "slideshow": {
     "slide_type": "-"
    },
    "tags": [
     "code-along"
    ]
   },
   "outputs": [],
   "source": []
  },
  {
   "cell_type": "code",
   "execution_count": null,
   "id": "b72fc83e",
   "metadata": {
    "tags": [
     "code-along"
    ]
   },
   "outputs": [],
   "source": []
  },
  {
   "cell_type": "code",
   "execution_count": null,
   "id": "b7934a44",
   "metadata": {
    "tags": [
     "code-along"
    ]
   },
   "outputs": [],
   "source": []
  },
  {
   "cell_type": "markdown",
   "id": "8eb5a2d0",
   "metadata": {
    "lang": "de",
    "slideshow": {
     "slide_type": "subslide"
    }
   },
   "source": [
    "### Modifikation von Elementen"
   ]
  },
  {
   "cell_type": "code",
   "execution_count": null,
   "id": "103da465",
   "metadata": {},
   "outputs": [],
   "source": [
    "stringliste"
   ]
  },
  {
   "cell_type": "code",
   "execution_count": null,
   "id": "9ccd85cd",
   "metadata": {
    "tags": [
     "code-along"
    ]
   },
   "outputs": [],
   "source": []
  },
  {
   "cell_type": "code",
   "execution_count": null,
   "id": "bb149485",
   "metadata": {},
   "outputs": [],
   "source": [
    "stringliste"
   ]
  },
  {
   "cell_type": "markdown",
   "id": "76541244",
   "metadata": {
    "lang": "de",
    "slideshow": {
     "slide_type": "subslide"
    }
   },
   "source": [
    "### Einfügen und Anhängen von Elementen"
   ]
  },
  {
   "cell_type": "code",
   "execution_count": null,
   "id": "25eed369",
   "metadata": {},
   "outputs": [],
   "source": [
    "stringliste"
   ]
  },
  {
   "cell_type": "code",
   "execution_count": null,
   "id": "b300283f",
   "metadata": {
    "tags": [
     "code-along"
    ]
   },
   "outputs": [],
   "source": []
  },
  {
   "cell_type": "code",
   "execution_count": null,
   "id": "f9c4f809",
   "metadata": {},
   "outputs": [],
   "source": [
    "stringliste"
   ]
  },
  {
   "cell_type": "code",
   "execution_count": null,
   "id": "dd2633d9",
   "metadata": {
    "slideshow": {
     "slide_type": "subslide"
    },
    "tags": [
     "code-along"
    ]
   },
   "outputs": [],
   "source": []
  },
  {
   "cell_type": "code",
   "execution_count": null,
   "id": "857dc97f",
   "metadata": {},
   "outputs": [],
   "source": [
    "stringliste"
   ]
  },
  {
   "cell_type": "code",
   "execution_count": null,
   "id": "98a68b99",
   "metadata": {
    "tags": [
     "code-along"
    ]
   },
   "outputs": [],
   "source": []
  },
  {
   "cell_type": "code",
   "execution_count": null,
   "id": "9971f166",
   "metadata": {
    "slideshow": {
     "slide_type": "subslide"
    }
   },
   "outputs": [],
   "source": [
    "stringliste"
   ]
  },
  {
   "cell_type": "code",
   "execution_count": null,
   "id": "83615e89",
   "metadata": {
    "tags": [
     "code-along"
    ]
   },
   "outputs": [],
   "source": []
  },
  {
   "cell_type": "code",
   "execution_count": null,
   "id": "58a0b4d6",
   "metadata": {},
   "outputs": [],
   "source": [
    "stringliste"
   ]
  },
  {
   "cell_type": "code",
   "execution_count": null,
   "id": "cea68e06",
   "metadata": {
    "slideshow": {
     "slide_type": "subslide"
    },
    "tags": [
     "code-along"
    ]
   },
   "outputs": [],
   "source": []
  },
  {
   "cell_type": "code",
   "execution_count": null,
   "id": "93b22130",
   "metadata": {},
   "outputs": [],
   "source": [
    "stringliste"
   ]
  },
  {
   "cell_type": "code",
   "execution_count": null,
   "id": "165f7f23",
   "metadata": {
    "tags": [
     "code-along"
    ]
   },
   "outputs": [],
   "source": []
  },
  {
   "cell_type": "code",
   "execution_count": null,
   "id": "1a634ce1",
   "metadata": {},
   "outputs": [],
   "source": [
    "stringliste"
   ]
  },
  {
   "cell_type": "markdown",
   "id": "788b72b4",
   "metadata": {
    "lang": "de",
    "slideshow": {
     "slide_type": "subslide"
    }
   },
   "source": [
    "### Entfernen von Elementen"
   ]
  },
  {
   "cell_type": "code",
   "execution_count": null,
   "id": "eae7ab05",
   "metadata": {},
   "outputs": [],
   "source": [
    "stringliste = [\"ANFANG\", \"A\", \"Y\", \"b\", \"c\", \"D\", \"E\", \"ENDE\", \"F\"]\n",
    "stringliste[7]"
   ]
  },
  {
   "cell_type": "code",
   "execution_count": null,
   "id": "ceced7ff",
   "metadata": {
    "tags": [
     "code-along"
    ]
   },
   "outputs": [],
   "source": []
  },
  {
   "cell_type": "code",
   "execution_count": null,
   "id": "25b17999",
   "metadata": {},
   "outputs": [],
   "source": [
    "stringliste"
   ]
  },
  {
   "cell_type": "markdown",
   "id": "154d72ed",
   "metadata": {
    "lang": "de",
    "slideshow": {
     "slide_type": "subslide"
    }
   },
   "source": [
    "### Länge einer Liste"
   ]
  },
  {
   "cell_type": "code",
   "execution_count": null,
   "id": "87aacef9",
   "metadata": {},
   "outputs": [],
   "source": [
    "stringliste"
   ]
  },
  {
   "cell_type": "code",
   "execution_count": null,
   "id": "1a177fcf",
   "metadata": {
    "tags": [
     "code-along"
    ]
   },
   "outputs": [],
   "source": []
  },
  {
   "cell_type": "code",
   "execution_count": null,
   "id": "de65ac16",
   "metadata": {
    "tags": [
     "code-along"
    ]
   },
   "outputs": [],
   "source": []
  },
  {
   "cell_type": "code",
   "execution_count": null,
   "id": "116cd3fc",
   "metadata": {},
   "outputs": [],
   "source": [
    "stringliste"
   ]
  },
  {
   "cell_type": "code",
   "execution_count": null,
   "id": "f3821610",
   "metadata": {
    "tags": [
     "code-along"
    ]
   },
   "outputs": [],
   "source": []
  },
  {
   "cell_type": "markdown",
   "id": "2caaad65",
   "metadata": {
    "lang": "de",
    "slideshow": {
     "slide_type": "subslide"
    }
   },
   "source": [
    "## Mini-Workshop\n",
    "\n",
    "- Notebook `workshop_100_lists_part2`\n",
    "- Abschnitt \"Farben\"\n"
   ]
  },
  {
   "cell_type": "markdown",
   "id": "8ddd60d3",
   "metadata": {
    "lang": "de",
    "slideshow": {
     "slide_type": "slide"
    }
   },
   "source": [
    "## Erzeugen von Listen\n",
    "\n",
    "Durch den Multiplikationsoperator `*` können die Elemente einer Liste\n",
    "wiederholt werden:"
   ]
  },
  {
   "cell_type": "code",
   "execution_count": null,
   "id": "2365d93a",
   "metadata": {
    "tags": [
     "code-along"
    ]
   },
   "outputs": [],
   "source": []
  },
  {
   "cell_type": "code",
   "execution_count": null,
   "id": "8f3518b8",
   "metadata": {
    "tags": [
     "code-along"
    ]
   },
   "outputs": [],
   "source": []
  },
  {
   "cell_type": "code",
   "execution_count": null,
   "id": "f4ca23a8",
   "metadata": {
    "tags": [
     "code-along"
    ]
   },
   "outputs": [],
   "source": []
  },
  {
   "cell_type": "markdown",
   "id": "3265cab1",
   "metadata": {
    "lang": "de",
    "slideshow": {
     "slide_type": "slide"
    }
   },
   "source": [
    "## Slicing\n",
    "\n",
    "Mit der Notation `liste[m:n]` kann man eine \"Teilliste\" von `liste`\n",
    "extrahieren.\n",
    "\n",
    "- Das erste Element ist `liste[m]`\n",
    "- Das letzte Element ist `liste[n-1]`"
   ]
  },
  {
   "cell_type": "code",
   "execution_count": null,
   "id": "8999d1d1",
   "metadata": {
    "slideshow": {
     "slide_type": "subslide"
    }
   },
   "outputs": [],
   "source": [
    "stringliste = [\"a\", \"b\", \"c\", \"d\", \"e\"]"
   ]
  },
  {
   "cell_type": "code",
   "execution_count": null,
   "id": "7e2ca9c9",
   "metadata": {
    "tags": [
     "code-along"
    ]
   },
   "outputs": [],
   "source": []
  },
  {
   "cell_type": "code",
   "execution_count": null,
   "id": "9aeebeee",
   "metadata": {
    "tags": [
     "code-along"
    ]
   },
   "outputs": [],
   "source": []
  },
  {
   "cell_type": "code",
   "execution_count": null,
   "id": "6b269e25",
   "metadata": {
    "tags": [
     "code-along"
    ]
   },
   "outputs": [],
   "source": []
  },
  {
   "cell_type": "code",
   "execution_count": null,
   "id": "8d54f1a2",
   "metadata": {
    "slideshow": {
     "slide_type": "subslide"
    },
    "tags": [
     "code-along"
    ]
   },
   "outputs": [],
   "source": []
  },
  {
   "cell_type": "code",
   "execution_count": null,
   "id": "3545fdee",
   "metadata": {
    "tags": [
     "code-along"
    ]
   },
   "outputs": [],
   "source": []
  },
  {
   "cell_type": "code",
   "execution_count": null,
   "id": "6a22ea6f",
   "metadata": {
    "tags": [
     "code-along"
    ]
   },
   "outputs": [],
   "source": []
  },
  {
   "cell_type": "markdown",
   "id": "526eafdb",
   "metadata": {
    "lang": "de",
    "slideshow": {
     "slide_type": "subslide"
    }
   },
   "source": [
    "## Mini-Workshop\n",
    "\n",
    "- Notebook `workshop_100_lists_part2`\n",
    "- Abschnitt \"Slicing\"\n"
   ]
  },
  {
   "cell_type": "markdown",
   "id": "c3e4d994",
   "metadata": {
    "lang": "de",
    "pycharm": {
     "name": "#%% md\n"
    },
    "slideshow": {
     "slide_type": "slide"
    }
   },
   "source": [
    "## Zuweisung an Slices\n",
    "\n",
    "Man kann Werte an Slices zuweisen:"
   ]
  },
  {
   "cell_type": "code",
   "execution_count": null,
   "id": "731516d6",
   "metadata": {
    "tags": [
     "code-along"
    ]
   },
   "outputs": [],
   "source": []
  },
  {
   "cell_type": "code",
   "execution_count": null,
   "id": "d4f04b69",
   "metadata": {
    "tags": [
     "code-along"
    ]
   },
   "outputs": [],
   "source": []
  },
  {
   "cell_type": "code",
   "execution_count": null,
   "id": "0884da82",
   "metadata": {
    "tags": [
     "code-along"
    ]
   },
   "outputs": [],
   "source": []
  },
  {
   "cell_type": "code",
   "execution_count": null,
   "id": "13393185",
   "metadata": {
    "tags": [
     "code-along"
    ]
   },
   "outputs": [],
   "source": []
  },
  {
   "cell_type": "code",
   "execution_count": null,
   "id": "d2bc7963",
   "metadata": {
    "slideshow": {
     "slide_type": "subslide"
    },
    "tags": [
     "code-along"
    ]
   },
   "outputs": [],
   "source": []
  },
  {
   "cell_type": "markdown",
   "id": "9fd72ecc",
   "metadata": {
    "lang": "de",
    "slideshow": {
     "slide_type": "slide"
    }
   },
   "source": [
    "## Slices als Objekte\n",
    "\n",
    "Slices sind selber Python Objekte. Außerhalb der Indexing-Operation `[]`\n",
    "können sie allerdings nicht mit der Notation `a:b` erzeugt werden, sondern\n",
    "mit der Konstruktor-Funktion `slice()`."
   ]
  },
  {
   "cell_type": "code",
   "execution_count": null,
   "id": "c93ac5c2",
   "metadata": {
    "lines_to_next_cell": 2,
    "slideshow": {
     "slide_type": "-"
    }
   },
   "outputs": [],
   "source": [
    "my_list = [1, 2, 3, 4, 5, 6]\n",
    "print(my_list[2:4])"
   ]
  },
  {
   "cell_type": "code",
   "execution_count": null,
   "id": "225e07d3",
   "metadata": {
    "tags": [
     "code-along"
    ]
   },
   "outputs": [],
   "source": []
  },
  {
   "cell_type": "code",
   "execution_count": null,
   "id": "4ac950f1",
   "metadata": {
    "slideshow": {
     "slide_type": "subslide"
    }
   },
   "outputs": [],
   "source": [
    "print(my_list[:3])"
   ]
  },
  {
   "cell_type": "code",
   "execution_count": null,
   "id": "9432e9b6",
   "metadata": {
    "tags": [
     "code-along"
    ]
   },
   "outputs": [],
   "source": []
  },
  {
   "cell_type": "markdown",
   "id": "4331ad68",
   "metadata": {
    "lang": "de",
    "slideshow": {
     "slide_type": "subslide"
    }
   },
   "source": [
    "\n",
    "Die `indices()`-Methode eines Slice-Objekts kann dazu verwendet werden zu\n",
    "bestimmen, welche Indizes das Slice enthält:"
   ]
  },
  {
   "cell_type": "code",
   "execution_count": null,
   "id": "8e542e3a",
   "metadata": {},
   "outputs": [],
   "source": [
    "my_slice = slice(None, 3)\n",
    "print(my_slice.indices(len(my_list)))"
   ]
  },
  {
   "cell_type": "markdown",
   "id": "a1ef5557",
   "metadata": {
    "lang": "de"
   },
   "source": [
    "\n",
    "Damit können wir eine Funktion schreiben, die alle Elemente eines Slices\n",
    "durch einen Wert ersetzt:"
   ]
  },
  {
   "cell_type": "code",
   "execution_count": null,
   "id": "3ef95b05",
   "metadata": {
    "slideshow": {
     "slide_type": "subslide"
    }
   },
   "outputs": [],
   "source": [
    "def replace_with(my_list, my_slice, value):\n",
    "    import math\n",
    "\n",
    "    start, stop, stride = my_slice.indices(len(my_list))\n",
    "    num_values = math.ceil((stop - start) / stride)\n",
    "    my_list[my_slice] = [value] * num_values"
   ]
  },
  {
   "cell_type": "code",
   "execution_count": null,
   "id": "1dae5be6",
   "metadata": {
    "slideshow": {
     "slide_type": "subslide"
    }
   },
   "outputs": [],
   "source": [
    "my_list = [1, 2, 3, 4, 5, 6]\n",
    "my_slice = slice(2, 6)\n",
    "replace_with(my_list, my_slice, 8)\n",
    "my_list"
   ]
  }
 ],
 "metadata": {
  "jupytext": {
   "cell_metadata_json": true,
   "encoding": "# -*- coding: utf-8 -*-",
   "formats": "ipynb"
  },
  "kernelspec": {
   "display_name": "Python 3 (ipykernel)",
   "language": "python",
   "name": "python3"
  }
 },
 "nbformat": 4,
 "nbformat_minor": 5
}
