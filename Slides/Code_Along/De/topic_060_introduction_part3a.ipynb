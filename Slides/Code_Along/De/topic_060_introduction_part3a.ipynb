{
 "cells": [
  {
   "cell_type": "markdown",
   "id": "368f8e28",
   "metadata": {
    "lang": "de",
    "slideshow": {
     "slide_type": "slide"
    }
   },
   "source": [
    "<img src=\"img/python-logo-notext.svg\"\n",
    "     style=\"display:block;margin:auto;width:10%\"/>\n",
    "<br>\n",
    "<div style=\"text-align:center; font-size:200%;\"><b>Einführung in Python: Grundlagen Teil 2</b></div>\n",
    "<br/>\n",
    "<div style=\"text-align:center;\">Dr. Matthias Hölzl</div>"
   ]
  },
  {
   "cell_type": "markdown",
   "id": "e1af6ecc",
   "metadata": {
    "lang": "de",
    "slideshow": {
     "slide_type": "slide"
    },
    "title": "\"slideshow\":"
   },
   "source": [
    "# Umwandlung in Strings\n",
    "\n",
    "Python bietet zwei Funktionen an, mit denen beliebige Werte in Strings umgewandelt\n",
    "werden können:\n",
    "\n",
    "- `repr` für eine \"programmnahe\" Darstellung (wie könnte der Wert im Programm erzeugt werden)\n",
    "- `str` für eine \"benutzerfreundliche\" Darstellung"
   ]
  },
  {
   "cell_type": "code",
   "execution_count": 1,
   "id": "0bfaf31a",
   "metadata": {
    "tags": [
     "code-along"
    ]
   },
   "outputs": [
    {
     "data": {
      "text/plain": [
       "'1'"
      ]
     },
     "execution_count": 1,
     "metadata": {},
     "output_type": "execute_result"
    }
   ],
   "source": [
    "repr(1)"
   ]
  },
  {
   "cell_type": "code",
   "execution_count": 2,
   "id": "66bab114",
   "metadata": {},
   "outputs": [
    {
     "data": {
      "text/plain": [
       "'[1, 2, 3]'"
      ]
     },
     "execution_count": 2,
     "metadata": {},
     "output_type": "execute_result"
    }
   ],
   "source": [
    "repr([1, 2, 3])"
   ]
  },
  {
   "cell_type": "code",
   "execution_count": 3,
   "id": "e121fbb9",
   "metadata": {},
   "outputs": [
    {
     "data": {
      "text/plain": [
       "\"'asdf'\""
      ]
     },
     "execution_count": 3,
     "metadata": {},
     "output_type": "execute_result"
    }
   ],
   "source": [
    "repr(\"asdf\")"
   ]
  },
  {
   "cell_type": "code",
   "execution_count": 4,
   "id": "6f0039ba",
   "metadata": {},
   "outputs": [
    {
     "name": "stdout",
     "output_type": "stream",
     "text": [
      "'asdf'\n"
     ]
    }
   ],
   "source": [
    "print(repr(\"asdf\"))"
   ]
  },
  {
   "cell_type": "code",
   "execution_count": 6,
   "id": "e9eb9029",
   "metadata": {
    "tags": [
     "code-along"
    ]
   },
   "outputs": [
    {
     "data": {
      "text/plain": [
       "'asdf'"
      ]
     },
     "execution_count": 6,
     "metadata": {},
     "output_type": "execute_result"
    }
   ],
   "source": [
    "'asdf'"
   ]
  },
  {
   "cell_type": "code",
   "execution_count": 8,
   "id": "d591b09c",
   "metadata": {},
   "outputs": [
    {
     "data": {
      "text/plain": [
       "'1'"
      ]
     },
     "execution_count": 8,
     "metadata": {},
     "output_type": "execute_result"
    }
   ],
   "source": [
    "str(1)"
   ]
  },
  {
   "cell_type": "code",
   "execution_count": 11,
   "id": "2099367a",
   "metadata": {},
   "outputs": [
    {
     "name": "stdout",
     "output_type": "stream",
     "text": [
      "Bitte geben Sie eine Zahl ein:\n"
     ]
    }
   ],
   "source": [
    "print(str(\"Bitte geben Sie eine Zahl ein:\"))"
   ]
  },
  {
   "cell_type": "markdown",
   "id": "ecab7d9c",
   "metadata": {
    "lang": "de",
    "slideshow": {
     "slide_type": "subslide"
    },
    "title": "\"slideshow\":"
   },
   "source": [
    "Für manche Datentypen liefern `str` und `repr` den gleichen String zurück:"
   ]
  },
  {
   "cell_type": "code",
   "execution_count": 12,
   "id": "13f7606a",
   "metadata": {
    "tags": [
     "code-along"
    ]
   },
   "outputs": [
    {
     "data": {
      "text/plain": [
       "\"['a', 'b']\""
      ]
     },
     "execution_count": 12,
     "metadata": {},
     "output_type": "execute_result"
    }
   ],
   "source": [
    "str([\"a\", \"b\"])"
   ]
  },
  {
   "cell_type": "code",
   "execution_count": 13,
   "id": "5306abfb",
   "metadata": {},
   "outputs": [
    {
     "data": {
      "text/plain": [
       "\"['a', 'b']\""
      ]
     },
     "execution_count": 13,
     "metadata": {},
     "output_type": "execute_result"
    }
   ],
   "source": [
    "repr([\"a\", \"b\"])"
   ]
  },
  {
   "cell_type": "markdown",
   "id": "b310d3df",
   "metadata": {
    "lang": "de",
    "slideshow": {
     "slide_type": "slide"
    }
   },
   "source": [
    "# Benutzerdefinierte Datentypen\n",
    "\n",
    "In Python können benutzerdefinierte Datentypen (Klassen) definiert werden:"
   ]
  },
  {
   "cell_type": "code",
   "execution_count": 17,
   "id": "84b21853",
   "metadata": {},
   "outputs": [],
   "source": [
    "if False:\n",
    "    print(\"Hallo\")\n",
    "else:\n",
    "    pass"
   ]
  },
  {
   "cell_type": "code",
   "execution_count": 18,
   "id": "30bb6f29",
   "metadata": {
    "tags": [
     "code-along"
    ]
   },
   "outputs": [],
   "source": [
    "class PointV0:\n",
    "    pass"
   ]
  },
  {
   "cell_type": "markdown",
   "id": "6ccd4e5b",
   "metadata": {
    "lang": "de"
   },
   "source": [
    "\n",
    "Klassennamen werden in Pascal-Case (d.h. groß und mit Großbuchstaben zur\n",
    "Trennung von Namensbestandteilen) geschrieben, z.B. `MyVerySpecialClass`."
   ]
  },
  {
   "cell_type": "markdown",
   "id": "47bf5c4a",
   "metadata": {
    "lang": "de",
    "slideshow": {
     "slide_type": "subslide"
    }
   },
   "source": [
    "Instanzen von benutzerdefinierten Klassen werden erzeugt, indem man den\n",
    "Klassennamen als Funktion aufruft.  Manche der Python Operatoren und\n",
    "Funktionen können verwendet werden ohne, dass zusätzliche Implementierungsarbeit nötig ist:"
   ]
  },
  {
   "cell_type": "code",
   "execution_count": 22,
   "id": "01e8b008",
   "metadata": {},
   "outputs": [
    {
     "data": {
      "text/plain": [
       "type"
      ]
     },
     "execution_count": 22,
     "metadata": {},
     "output_type": "execute_result"
    }
   ],
   "source": [
    "type(str)"
   ]
  },
  {
   "cell_type": "code",
   "execution_count": 23,
   "id": "8a6981e8",
   "metadata": {},
   "outputs": [
    {
     "data": {
      "text/plain": [
       "type"
      ]
     },
     "execution_count": 23,
     "metadata": {},
     "output_type": "execute_result"
    }
   ],
   "source": [
    "type(PointV0)"
   ]
  },
  {
   "cell_type": "code",
   "execution_count": 24,
   "id": "17446ee3",
   "metadata": {
    "slideshow": {
     "slide_type": "subslide"
    },
    "tags": [
     "code-along"
    ]
   },
   "outputs": [
    {
     "data": {
      "text/plain": [
       "str"
      ]
     },
     "execution_count": 24,
     "metadata": {},
     "output_type": "execute_result"
    }
   ],
   "source": [
    "type(\"Hans\")"
   ]
  },
  {
   "cell_type": "code",
   "execution_count": 27,
   "id": "fab6474c",
   "metadata": {
    "tags": [
     "code-along"
    ]
   },
   "outputs": [
    {
     "data": {
      "text/plain": [
       "<__main__.PointV0 at 0x17382508070>"
      ]
     },
     "execution_count": 27,
     "metadata": {},
     "output_type": "execute_result"
    }
   ],
   "source": [
    "p1 = PointV0()\n",
    "p1"
   ]
  },
  {
   "cell_type": "code",
   "execution_count": 28,
   "id": "0b240eff",
   "metadata": {
    "tags": [
     "code-along"
    ]
   },
   "outputs": [
    {
     "data": {
      "text/plain": [
       "<__main__.PointV0 at 0x1738258bf10>"
      ]
     },
     "execution_count": 28,
     "metadata": {},
     "output_type": "execute_result"
    }
   ],
   "source": [
    "p2 = PointV0()\n",
    "p2"
   ]
  },
  {
   "cell_type": "code",
   "execution_count": 30,
   "id": "a760c9bd",
   "metadata": {
    "tags": [
     "code-along"
    ]
   },
   "outputs": [
    {
     "data": {
      "text/plain": [
       "False"
      ]
     },
     "execution_count": 30,
     "metadata": {},
     "output_type": "execute_result"
    }
   ],
   "source": [
    "p1 == p2"
   ]
  },
  {
   "cell_type": "markdown",
   "id": "89040d9c",
   "metadata": {
    "lang": "de",
    "slideshow": {
     "slide_type": "subslide"
    }
   },
   "source": [
    "\n",
    "Ähnlich wie Dictionaries neue Einträge zugewiesen werden können, kann man\n",
    "benutzerdefinierten Datentypen neue *Attribute* zuweisen, allerdings verwendet\n",
    "man die `.`-Notation statt der Indexing Notation `[]`:"
   ]
  },
  {
   "cell_type": "code",
   "execution_count": null,
   "id": "7efb6d83",
   "metadata": {
    "tags": [
     "code-along"
    ]
   },
   "outputs": [],
   "source": []
  },
  {
   "cell_type": "code",
   "execution_count": null,
   "id": "f70c54e7",
   "metadata": {
    "tags": [
     "code-along"
    ]
   },
   "outputs": [],
   "source": []
  },
  {
   "cell_type": "markdown",
   "id": "60749e06",
   "metadata": {
    "lang": "de",
    "slideshow": {
     "slide_type": "subslide"
    }
   },
   "source": [
    "\n",
    "Im Gegensatz zu Dictionaries werden Instanzen von Klassen typischerweise\n",
    "*nicht* nach der Erzeugung beliebige Attribute zugewiesen!\n",
    "\n",
    "Statt dessen sollen allen Instanzen die gleiche Form haben. Deswegen werden\n",
    "die Attribute eines Objekts bei seiner Konstruktion initialisiert. Das geht\n",
    "über die `__init__()` Methode.\n",
    "\n",
    "Die `__init__()`-Methode hat immer\n",
    "(mindestens) einen Parameter, der per Konvention `self` heißt:"
   ]
  },
  {
   "cell_type": "code",
   "execution_count": null,
   "id": "3a45edeb",
   "metadata": {
    "slideshow": {
     "slide_type": "subslide"
    },
    "tags": [
     "code-along"
    ]
   },
   "outputs": [],
   "source": []
  },
  {
   "cell_type": "code",
   "execution_count": null,
   "id": "20c55e0c",
   "metadata": {
    "tags": [
     "code-along"
    ]
   },
   "outputs": [],
   "source": []
  },
  {
   "cell_type": "code",
   "execution_count": null,
   "id": "9de8c199",
   "metadata": {
    "tags": [
     "code-along"
    ]
   },
   "outputs": [],
   "source": []
  },
  {
   "cell_type": "code",
   "execution_count": null,
   "id": "4a022fb9",
   "metadata": {
    "tags": [
     "code-along"
    ]
   },
   "outputs": [],
   "source": []
  },
  {
   "cell_type": "markdown",
   "id": "5c058b5d",
   "metadata": {
    "lang": "de",
    "slideshow": {
     "slide_type": "subslide"
    }
   },
   "source": [
    "\n",
    "Die Werte von Attributen können verändert werden:"
   ]
  },
  {
   "cell_type": "code",
   "execution_count": null,
   "id": "97d9355d",
   "metadata": {
    "tags": [
     "code-along"
    ]
   },
   "outputs": [],
   "source": []
  },
  {
   "cell_type": "markdown",
   "id": "45e4ee60",
   "metadata": {
    "lang": "de",
    "slideshow": {
     "slide_type": "subslide"
    }
   },
   "source": [
    "\n",
    "In vielen Fällen wäre es besser, bei der Konstruktion eines Objekts Werte für\n",
    "die Attribute anzugeben. Das ist möglich, indem man der `__init__()`-Methode\n",
    "zusätzliche Parameter gibt."
   ]
  },
  {
   "cell_type": "code",
   "execution_count": null,
   "id": "b16a49ff",
   "metadata": {
    "slideshow": {
     "slide_type": "subslide"
    },
    "tags": [
     "code-along"
    ]
   },
   "outputs": [],
   "source": []
  },
  {
   "cell_type": "code",
   "execution_count": null,
   "id": "51781e7d",
   "metadata": {
    "lines_to_next_cell": 2,
    "tags": [
     "code-along"
    ]
   },
   "outputs": [],
   "source": []
  },
  {
   "cell_type": "markdown",
   "id": "96f20657",
   "metadata": {
    "lang": "de",
    "lines_to_next_cell": 2,
    "slideshow": {
     "slide_type": "subslide"
    }
   },
   "source": [
    "## Mini-Workshop\n",
    "\n",
    "- Notebook `workshop_062_objects`\n",
    "- Abschnitt \"Kraftfahrzeuge (Teil 1)\""
   ]
  },
  {
   "cell_type": "markdown",
   "id": "c9fd24f0",
   "metadata": {
    "lang": "de",
    "slideshow": {
     "slide_type": "subslide"
    }
   },
   "source": [
    "## Methoden\n",
    "\n",
    "Klassen können Methoden enthalten. Methoden sind Funktionen, die\n",
    "\"zu einem Objekt gehören\". Wir werden im Abschnitt zu Vererbung sehen,\n",
    "welche Möglichkeiten sich dadurch bieten.\n",
    "\n",
    "Methoden werden mit der \"Dot-Notation\" aufgerufen: `my_object.method()`.\n",
    "\n",
    "Die Syntax von Methodendefinitionen entspricht Funktionsdefinitionen,\n",
    "steht aber im Rumpf einer Klassendefinition.\n",
    "\n",
    "Im Gegensatz zu vielen anderen Sprachen hat\n",
    "Python bei der Definition keinen impliziten `this` Parameter; das Objekt auf\n",
    "dem die Methode aufgerufen wird muss als erster Parameter angegeben werden.\n",
    "Per Konvention hat dieser Parameter den Namen `self`, wie bei der\n",
    "`__init__()`-Methode.\n",
    "\n",
    "Die Definition einer Methode, die mit `my_object.method()` aufgerufen\n",
    "werden kann erfolgt also folgendermaßen:"
   ]
  },
  {
   "cell_type": "code",
   "execution_count": 32,
   "id": "d4517065",
   "metadata": {
    "slideshow": {
     "slide_type": "subslide"
    }
   },
   "outputs": [],
   "source": [
    "class MyClass:\n",
    "    def method(self):\n",
    "        print(\"Called method on\", self)"
   ]
  },
  {
   "cell_type": "code",
   "execution_count": 34,
   "id": "2de2b91e",
   "metadata": {},
   "outputs": [
    {
     "name": "stdout",
     "output_type": "stream",
     "text": [
      "<__main__.MyClass object at 0x00000173829810F0>\n",
      "Called method on <__main__.MyClass object at 0x00000173829810F0>\n"
     ]
    }
   ],
   "source": [
    "my_object = MyClass()\n",
    "print(my_object)\n",
    "my_object.method()"
   ]
  },
  {
   "cell_type": "markdown",
   "id": "7ac27d3c",
   "metadata": {
    "lang": "de",
    "slideshow": {
     "slide_type": "subslide"
    }
   },
   "source": [
    "Wir können eine Methode zum Verschieben eines Punktes zu unserer `Point` Klasse hinzufügen:"
   ]
  },
  {
   "cell_type": "code",
   "execution_count": null,
   "id": "311abeb4",
   "metadata": {
    "slideshow": {
     "slide_type": "-"
    },
    "tags": [
     "code-along"
    ]
   },
   "outputs": [],
   "source": []
  },
  {
   "cell_type": "code",
   "execution_count": null,
   "id": "b3673500",
   "metadata": {
    "slideshow": {
     "slide_type": "subslide"
    },
    "tags": [
     "code-along"
    ]
   },
   "outputs": [],
   "source": []
  },
  {
   "cell_type": "code",
   "execution_count": null,
   "id": "4741e27c",
   "metadata": {
    "tags": [
     "code-along"
    ]
   },
   "outputs": [],
   "source": []
  },
  {
   "cell_type": "markdown",
   "id": "b7d763ca",
   "metadata": {
    "lang": "de",
    "lines_to_next_cell": 2,
    "slideshow": {
     "slide_type": "subslide"
    }
   },
   "source": [
    "## Mini-Workshop\n",
    "\n",
    "- Notebook `workshop_062_objects`\n",
    "- Abschnitt \"Kraftfahrzeuge (Teil 2)\""
   ]
  },
  {
   "cell_type": "markdown",
   "id": "6b15fe55",
   "metadata": {
    "lang": "de",
    "slideshow": {
     "slide_type": "slide"
    }
   },
   "source": [
    "## Das Python-Objektmodell\n",
    "\n",
    "Mit Dunder-Methoden können benutzerdefinierten Datentypen benutzerfreundlicher\n",
    "gestaltet werden:"
   ]
  },
  {
   "cell_type": "code",
   "execution_count": null,
   "id": "2e32a95a",
   "metadata": {
    "tags": [
     "code-along"
    ]
   },
   "outputs": [],
   "source": []
  },
  {
   "cell_type": "markdown",
   "id": "63c11d35",
   "metadata": {
    "lang": "de"
   },
   "source": [
    "Durch Definition der Methode `__repr__(self)` kann der von `repr`\n",
    "zurückgegebene String für benutzerdefinierte Klassen angepasst werden: Der\n",
    "Funktionsaufruf `repr(x)` überprüft, ob `x` eine Methode `__repr__` hat und\n",
    "ruft diese auf, falls sie existiert."
   ]
  },
  {
   "cell_type": "code",
   "execution_count": null,
   "id": "dd8c67ca",
   "metadata": {
    "slideshow": {
     "slide_type": "subslide"
    },
    "tags": [
     "code-along"
    ]
   },
   "outputs": [],
   "source": []
  },
  {
   "cell_type": "code",
   "execution_count": null,
   "id": "0b0ce5fa",
   "metadata": {
    "slideshow": {
     "slide_type": "subslide"
    },
    "tags": [
     "code-along"
    ]
   },
   "outputs": [],
   "source": []
  },
  {
   "cell_type": "markdown",
   "id": "dc78bcf6",
   "metadata": {
    "lang": "de",
    "slideshow": {
     "slide_type": "subslide"
    }
   },
   "source": [
    "\n",
    "Entsprechend kann eine `__str__()` Methode definiert werden, die von `str()`\n",
    "verwendet wird. Die Funktion `str()` delegiert an `__repr__()`, falls keine\n",
    "`__str__()`-Methode definiert ist:\n"
   ]
  },
  {
   "cell_type": "code",
   "execution_count": null,
   "id": "51846341",
   "metadata": {
    "tags": [
     "code-along"
    ]
   },
   "outputs": [],
   "source": []
  },
  {
   "cell_type": "code",
   "execution_count": null,
   "id": "a5089cd4",
   "metadata": {
    "tags": [
     "code-along"
    ]
   },
   "outputs": [],
   "source": []
  },
  {
   "cell_type": "markdown",
   "id": "869937c4",
   "metadata": {
    "lang": "de",
    "slideshow": {
     "slide_type": "subslide"
    }
   },
   "source": [
    "Python bietet viele Dunder-Methoden an: siehe das\n",
    "[Python Datenmodell](https://docs.python.org/3/reference/datamodel.html)\n",
    "in der Dokumentation."
   ]
  },
  {
   "cell_type": "code",
   "execution_count": null,
   "id": "610d5d48",
   "metadata": {
    "slideshow": {
     "slide_type": "subslide"
    },
    "tags": [
     "code-along"
    ]
   },
   "outputs": [],
   "source": []
  },
  {
   "cell_type": "code",
   "execution_count": null,
   "id": "62abd5aa",
   "metadata": {
    "slideshow": {
     "slide_type": "subslide"
    },
    "tags": [
     "code-along"
    ]
   },
   "outputs": [],
   "source": []
  },
  {
   "cell_type": "code",
   "execution_count": null,
   "id": "e6811354",
   "metadata": {
    "tags": [
     "code-along"
    ]
   },
   "outputs": [],
   "source": []
  },
  {
   "cell_type": "code",
   "execution_count": null,
   "id": "3454e122",
   "metadata": {
    "tags": [
     "code-along"
    ]
   },
   "outputs": [],
   "source": []
  },
  {
   "cell_type": "code",
   "execution_count": null,
   "id": "fdf81225",
   "metadata": {
    "slideshow": {
     "slide_type": "subslide"
    },
    "tags": [
     "code-along"
    ]
   },
   "outputs": [],
   "source": []
  },
  {
   "cell_type": "code",
   "execution_count": null,
   "id": "25d4bf81",
   "metadata": {
    "tags": [
     "code-along"
    ]
   },
   "outputs": [],
   "source": []
  },
  {
   "cell_type": "code",
   "execution_count": null,
   "id": "1ced455c",
   "metadata": {
    "slideshow": {
     "slide_type": "subslide"
    },
    "tags": [
     "code-along"
    ]
   },
   "outputs": [],
   "source": []
  },
  {
   "cell_type": "code",
   "execution_count": null,
   "id": "fdc6bc2f",
   "metadata": {
    "lines_to_next_cell": 2,
    "slideshow": {
     "slide_type": "subslide"
    },
    "tags": [
     "code-along"
    ]
   },
   "outputs": [],
   "source": []
  },
  {
   "cell_type": "markdown",
   "id": "61b381f7",
   "metadata": {
    "lang": "de",
    "lines_to_next_cell": 2,
    "slideshow": {
     "slide_type": "subslide"
    }
   },
   "source": [
    "\n",
    " ## Mini-Workshop\n",
    "\n",
    "- Notebook `workshop_062_objects`\n",
    "- Abschnitt \"Kraftfahrzeuge (Teil 3)\""
   ]
  },
  {
   "cell_type": "markdown",
   "id": "8da63ca8",
   "metadata": {
    "lang": "de",
    "slideshow": {
     "slide_type": "slide"
    }
   },
   "source": [
    "## Dataclasses\n",
    "\n",
    "Definition einer Klasse, in der Attribute besser sichtbar sind, Repräsentation\n",
    "und Gleichheit vordefiniert sind, etc.\n",
    "\n",
    "Die [Dokumentation](https://docs.python.org/3/library/dataclasses.html)\n",
    "beinhaltet weitere Möglichkeiten."
   ]
  },
  {
   "cell_type": "code",
   "execution_count": null,
   "id": "18667897",
   "metadata": {
    "slideshow": {
     "slide_type": "subslide"
    },
    "tags": [
     "code-along"
    ]
   },
   "outputs": [],
   "source": []
  },
  {
   "cell_type": "code",
   "execution_count": null,
   "id": "2ed4b707",
   "metadata": {
    "slideshow": {
     "slide_type": "subslide"
    },
    "tags": [
     "code-along"
    ]
   },
   "outputs": [],
   "source": []
  },
  {
   "cell_type": "code",
   "execution_count": null,
   "id": "278e8f97",
   "metadata": {
    "tags": [
     "code-along"
    ]
   },
   "outputs": [],
   "source": []
  },
  {
   "cell_type": "code",
   "execution_count": null,
   "id": "b5dcc675",
   "metadata": {
    "tags": [
     "code-along"
    ]
   },
   "outputs": [],
   "source": []
  },
  {
   "cell_type": "code",
   "execution_count": null,
   "id": "913b115a",
   "metadata": {
    "slideshow": {
     "slide_type": "subslide"
    },
    "tags": [
     "code-along"
    ]
   },
   "outputs": [],
   "source": []
  },
  {
   "cell_type": "code",
   "execution_count": null,
   "id": "8615b25b",
   "metadata": {
    "tags": [
     "code-along"
    ]
   },
   "outputs": [],
   "source": []
  },
  {
   "cell_type": "code",
   "execution_count": null,
   "id": "0b887dff",
   "metadata": {
    "tags": [
     "code-along"
    ]
   },
   "outputs": [],
   "source": []
  },
  {
   "cell_type": "markdown",
   "id": "38d76512",
   "metadata": {
    "lang": "de",
    "slideshow": {
     "slide_type": "subslide"
    }
   },
   "source": [
    "Dataclasses erzwingen, dass Default-Werte unveränderlich sind (zumindest für einige Typen...):"
   ]
  },
  {
   "cell_type": "code",
   "execution_count": null,
   "id": "38690f6c",
   "metadata": {
    "tags": [
     "code-along"
    ]
   },
   "outputs": [],
   "source": []
  },
  {
   "cell_type": "code",
   "execution_count": null,
   "id": "4523daee",
   "metadata": {
    "tags": [
     "code-along"
    ]
   },
   "outputs": [],
   "source": []
  },
  {
   "cell_type": "code",
   "execution_count": null,
   "id": "c6bf8375",
   "metadata": {
    "tags": [
     "code-along"
    ]
   },
   "outputs": [],
   "source": []
  },
  {
   "cell_type": "code",
   "execution_count": null,
   "id": "7aa8bc36",
   "metadata": {
    "tags": [
     "code-along"
    ]
   },
   "outputs": [],
   "source": []
  },
  {
   "cell_type": "markdown",
   "id": "3f002ec4",
   "metadata": {
    "lang": "de",
    "slideshow": {
     "slide_type": "subslide"
    }
   },
   "source": [
    "Der Test auf unveränderliche Defaults funktioniert aber nur für einige Typen aus der Standardbibliothek, nicht für benutzerdefinierte Typen:"
   ]
  },
  {
   "cell_type": "code",
   "execution_count": null,
   "id": "052428dd",
   "metadata": {
    "tags": [
     "code-along"
    ]
   },
   "outputs": [],
   "source": []
  },
  {
   "cell_type": "code",
   "execution_count": null,
   "id": "b34205dc",
   "metadata": {
    "tags": [
     "code-along"
    ]
   },
   "outputs": [],
   "source": []
  },
  {
   "cell_type": "code",
   "execution_count": null,
   "id": "10fee8d2",
   "metadata": {
    "lines_to_next_cell": 2,
    "tags": [
     "code-along"
    ]
   },
   "outputs": [],
   "source": []
  },
  {
   "cell_type": "markdown",
   "id": "20d1ca6b",
   "metadata": {
    "lang": "de",
    "slideshow": {
     "slide_type": "subslide"
    }
   },
   "source": [
    "\n",
    "Es ist möglich, koplexere Initialisierungen vorzunehmen:\n",
    "\n",
    "- Die `__post_init__()` Methode kann Code zur Initialisierung von Objekten\n",
    "  enthalten, der nach der generierten `__init__()` Methode ausgeführt wird.\n",
    "- Der Typ `InitVar[T]` deklariert, dass ein Klassen-Attribut als Argument an\n",
    "  `__post_init__()` übergeben und nicht als Instanz-Attribut verwendet wird.\n",
    "- Das Keyword-Argument `init=False` für `field()` bewirkt, dass ein Attribut\n",
    "  nicht in der generierten `__init__()` Methode initialisiert wird."
   ]
  },
  {
   "cell_type": "code",
   "execution_count": null,
   "id": "8f1b25a0",
   "metadata": {
    "lines_to_next_cell": 1,
    "tags": [
     "code-along"
    ]
   },
   "outputs": [],
   "source": []
  },
  {
   "cell_type": "code",
   "execution_count": null,
   "id": "76019619",
   "metadata": {
    "lines_to_next_cell": 1,
    "tags": [
     "code-along"
    ]
   },
   "outputs": [],
   "source": []
  },
  {
   "cell_type": "code",
   "execution_count": null,
   "id": "e07064d6",
   "metadata": {
    "tags": [
     "code-along"
    ]
   },
   "outputs": [],
   "source": []
  },
  {
   "cell_type": "code",
   "execution_count": null,
   "id": "d123de6b",
   "metadata": {
    "lines_to_next_cell": 1,
    "tags": [
     "code-along"
    ]
   },
   "outputs": [],
   "source": []
  },
  {
   "cell_type": "markdown",
   "id": "e21a9aff",
   "metadata": {
    "lang": "de",
    "slideshow": {
     "slide_type": "subslide"
    }
   },
   "source": [
    "## Workshop\n",
    "\n",
    "- Notebook `workshop_062_objects`\n",
    "- Abschnitt \"Einkaufsliste\""
   ]
  },
  {
   "cell_type": "markdown",
   "id": "399dab6b",
   "metadata": {
    "lang": "de",
    "slideshow": {
     "slide_type": "slide"
    }
   },
   "source": [
    "Es ist möglich einen Klasse zu definieren, deren Instanzen sich wie Listen verhalten. Um die Implementierung zu vereinfachen delegieren wir die Verwaltung der Elemente an eine Liste, die als Attribut gespeichert ist. Diese Form der Komposition findet man häufig in der objektorientierten Programmierung."
   ]
  },
  {
   "cell_type": "code",
   "execution_count": null,
   "id": "0fc3762e",
   "metadata": {
    "tags": [
     "code-along"
    ]
   },
   "outputs": [],
   "source": []
  },
  {
   "cell_type": "code",
   "execution_count": null,
   "id": "3ed76ddc",
   "metadata": {
    "slideshow": {
     "slide_type": "subslide"
    },
    "tags": [
     "code-along"
    ]
   },
   "outputs": [],
   "source": []
  },
  {
   "cell_type": "code",
   "execution_count": null,
   "id": "95f60838",
   "metadata": {
    "slideshow": {
     "slide_type": "subslide"
    },
    "tags": [
     "code-along"
    ]
   },
   "outputs": [],
   "source": []
  },
  {
   "cell_type": "code",
   "execution_count": null,
   "id": "35ee9e0f",
   "metadata": {
    "tags": [
     "code-along"
    ]
   },
   "outputs": [],
   "source": []
  },
  {
   "cell_type": "code",
   "execution_count": null,
   "id": "ddbf4e08",
   "metadata": {
    "tags": [
     "code-along"
    ]
   },
   "outputs": [],
   "source": []
  },
  {
   "cell_type": "code",
   "execution_count": null,
   "id": "f888fee1",
   "metadata": {
    "lines_to_next_cell": 2,
    "tags": [
     "code-along"
    ]
   },
   "outputs": [],
   "source": []
  },
  {
   "cell_type": "code",
   "execution_count": null,
   "id": "0b0eb65f",
   "metadata": {},
   "outputs": [],
   "source": []
  }
 ],
 "metadata": {
  "jupytext": {
   "cell_metadata_json": true,
   "encoding": "# -*- coding: utf-8 -*-",
   "formats": "ipynb"
  },
  "kernelspec": {
   "display_name": "Python 3 (ipykernel)",
   "language": "python",
   "name": "python3"
  },
  "language_info": {
   "codemirror_mode": {
    "name": "ipython",
    "version": 3
   },
   "file_extension": ".py",
   "mimetype": "text/x-python",
   "name": "python",
   "nbconvert_exporter": "python",
   "pygments_lexer": "ipython3",
   "version": "3.10.4"
  },
  "nbTranslate": {
   "displayLangs": [
    "*"
   ],
   "hotkey": "alt-t",
   "langInMainMenu": true,
   "sourceLang": "de",
   "targetLang": "en",
   "useGoogleTranslate": true
  }
 },
 "nbformat": 4,
 "nbformat_minor": 5
}
