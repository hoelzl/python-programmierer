{
 "cells": [
  {
   "cell_type": "markdown",
   "id": "d50bb5b4",
   "metadata": {
    "lang": "de",
    "slideshow": {
     "slide_type": "slide"
    }
   },
   "source": [
    "<img src=\"img/python-logo-notext.svg\"\n",
    "     style=\"display:block;margin:auto;width:10%\"/>\n",
    "<br>\n",
    "<div style=\"text-align:center; font-size:200%;\"><b>Kontrollstrukturen</b></div>\n",
    "<br/>\n",
    "<div style=\"text-align:center;\">Dr. Matthias Hölzl</div>"
   ]
  },
  {
   "cell_type": "markdown",
   "id": "5998bfee",
   "metadata": {
    "lang": "de",
    "slideshow": {
     "slide_type": "slide"
    }
   },
   "source": [
    "\n",
    " # `if`-Anweisung\n",
    "\n",
    " Wiederholung:"
   ]
  },
  {
   "cell_type": "code",
   "execution_count": null,
   "id": "7701fcef",
   "metadata": {},
   "outputs": [],
   "source": [
    "def ist_glückszahl(zahl):\n",
    "    print(\"Ist\", zahl, \"eine Glückszahl?\")\n",
    "    if zahl == 7:\n",
    "        print(\"Ja!\")\n",
    "    else:\n",
    "        print(\"Leider nein.\")\n",
    "    print(\"Wir wünschen Ihnen alles Gute.\")"
   ]
  },
  {
   "cell_type": "markdown",
   "id": "51f11bfd",
   "metadata": {
    "lang": "de",
    "slideshow": {
     "slide_type": "subslide"
    }
   },
   "source": [
    "\n",
    " ## Extra Mini-Workshop\n",
    "\n",
    " - Notebook `workshop_090_control_structures`\n",
    " - Abschnitt \"Gerade Zahl\""
   ]
  },
  {
   "cell_type": "markdown",
   "id": "f0d4e735",
   "metadata": {
    "lang": "de",
    "slideshow": {
     "slide_type": "subslide"
    }
   },
   "source": [
    "\n",
    " ## Mehrere Zweige\n",
    "\n",
    " - Wir wollen ein Spiel schreiben, in dem der Spieler eine Zahl zwischen 1 und\n",
    "   100 erraten muss.\n",
    " - Nachdem er geraten hat, bekommt er die Information, ob seine Zahl zu hoch,\n",
    "   zu niedrig oder richtig war angezeigt.\n",
    " - Später wollen wir dem Spieler mehrere Versuche erlauben."
   ]
  },
  {
   "cell_type": "code",
   "execution_count": null,
   "id": "525e2bec",
   "metadata": {},
   "outputs": [],
   "source": [
    "def klassifiziere_zahl(geratene_zahl, lösung):\n",
    "    if geratene_zahl < lösung:\n",
    "        print(\"Die geratene Zahl ist zu klein!\")\n",
    "    elif geratene_zahl > lösung:\n",
    "        print(\"Die geratene Zahl ist zu groß!\")\n",
    "    else:\n",
    "        print(\"Sie haben gewonnen!\")"
   ]
  },
  {
   "cell_type": "code",
   "execution_count": null,
   "id": "f4d71860",
   "metadata": {
    "tags": [
     "code-along"
    ]
   },
   "outputs": [],
   "source": []
  },
  {
   "cell_type": "code",
   "execution_count": null,
   "id": "12214495",
   "metadata": {
    "tags": [
     "code-along"
    ]
   },
   "outputs": [],
   "source": []
  },
  {
   "cell_type": "code",
   "execution_count": null,
   "id": "6493eecc",
   "metadata": {
    "tags": [
     "code-along"
    ]
   },
   "outputs": [],
   "source": []
  },
  {
   "cell_type": "markdown",
   "id": "f8d8d249",
   "metadata": {
    "lang": "de",
    "slideshow": {
     "slide_type": "subslide"
    }
   },
   "source": [
    "\n",
    " ## Extra Mini-Workshop\n",
    "\n",
    " - Notebook `workshop_090_control_structures`\n",
    " - Abschnitt \"Positiv/Negativ\"\n"
   ]
  },
  {
   "cell_type": "markdown",
   "id": "6f8459a6",
   "metadata": {
    "lang": "de",
    "slideshow": {
     "slide_type": "subslide"
    }
   },
   "source": [
    "\n",
    " ## Struktur einer `if`-Anweisung (vollständig):\n",
    "\n",
    "```python\n",
    "if <Bedingung 1>:\n",
    "    Rumpf, der ausgeführt wird, wenn Bedingung 1 wahr ist\n",
    "elif <Bedingung 2>:\n",
    "    Rumpf, der ausgeführt wird, wenn Bedingung 2 wahr ist\n",
    "...\n",
    "else:\n",
    "    Rumpf, der ausgeführt wird, wenn keine der Bedingungen wahr ist\n",
    "```\n",
    "- Nur das `if` und der erste Rumpf sind notwendig\n",
    "- Falls ein `elif` oder ein `else` vorhanden ist, so darf der entsprechende\n",
    "  Rumpf nicht leer sein"
   ]
  },
  {
   "cell_type": "markdown",
   "id": "04e232fd",
   "metadata": {
    "lang": "de",
    "slideshow": {
     "slide_type": "subslide"
    }
   },
   "source": [
    "\n",
    " ### Bessere Klassifizierung\n",
    "\n",
    " Wir wollem dem Spieler etwas mehr Information geben, wie nahe er an der\n",
    " richtigen Lösung ist:\n",
    "\n",
    " - Die geratene Zahl ist viel zu klein/zu groß wenn der Unterschied größer als\n",
    "   10 ist"
   ]
  },
  {
   "cell_type": "code",
   "execution_count": null,
   "id": "f5e68e70",
   "metadata": {
    "slideshow": {
     "slide_type": "subslide"
    }
   },
   "outputs": [],
   "source": [
    "def klassifiziere_zahl_2(geratene_zahl, lösung):\n",
    "    if geratene_zahl < lösung - 10:\n",
    "        print(\"Die geratene Zahl ist viel zu klein!\")\n",
    "    elif geratene_zahl < lösung:\n",
    "        print(\"Die geratene Zahl ist zu klein!\")\n",
    "    elif geratene_zahl > lösung + 10:\n",
    "        print(\"Die geratene Zahl ist viel zu groß!\")\n",
    "    elif geratene_zahl > lösung:\n",
    "        print(\"Die geratene Zahl ist zu groß!\")\n",
    "    else:\n",
    "        print(\"Sie haben gewonnen!\")"
   ]
  },
  {
   "cell_type": "code",
   "execution_count": null,
   "id": "ed85861d",
   "metadata": {},
   "outputs": [],
   "source": [
    "klassifiziere_zahl_2(1, 12)"
   ]
  },
  {
   "cell_type": "code",
   "execution_count": null,
   "id": "81319fad",
   "metadata": {},
   "outputs": [],
   "source": [
    "klassifiziere_zahl_2(10, 12)"
   ]
  },
  {
   "cell_type": "code",
   "execution_count": null,
   "id": "f9bcce67",
   "metadata": {},
   "outputs": [],
   "source": [
    "klassifiziere_zahl_2(14, 12)"
   ]
  },
  {
   "cell_type": "code",
   "execution_count": null,
   "id": "3b3d6603",
   "metadata": {},
   "outputs": [],
   "source": [
    "klassifiziere_zahl_2(24, 12)"
   ]
  },
  {
   "cell_type": "code",
   "execution_count": null,
   "id": "51aa587c",
   "metadata": {},
   "outputs": [],
   "source": [
    "klassifiziere_zahl_2(12, 12)"
   ]
  },
  {
   "cell_type": "markdown",
   "id": "5aa7496a",
   "metadata": {
    "lang": "de",
    "slideshow": {
     "slide_type": "subslide"
    }
   },
   "source": [
    "\n",
    " Die Reihenfolge der `if`- und `elif`-Zweige ist wichtig:"
   ]
  },
  {
   "cell_type": "code",
   "execution_count": null,
   "id": "1f4e1681",
   "metadata": {},
   "outputs": [],
   "source": [
    "def klassifiziere_zahl_3(geratene_zahl, lösung):\n",
    "    if geratene_zahl < lösung:\n",
    "        print(\"Die geratene Zahl ist zu klein!\")\n",
    "    elif geratene_zahl < lösung - 10:\n",
    "        print(\"Die geratene Zahl ist viel zu klein!\")\n",
    "    elif geratene_zahl > lösung:\n",
    "        print(\"Die geratene Zahl ist zu groß!\")\n",
    "    elif geratene_zahl > lösung + 10:\n",
    "        print(\"Die geratene Zahl ist viel zu groß!\")\n",
    "    else:\n",
    "        print(\"Sie haben gewonnen!\")"
   ]
  },
  {
   "cell_type": "code",
   "execution_count": null,
   "id": "08609645",
   "metadata": {},
   "outputs": [],
   "source": [
    "klassifiziere_zahl_3(1, 12)"
   ]
  },
  {
   "cell_type": "code",
   "execution_count": null,
   "id": "d009ec19",
   "metadata": {},
   "outputs": [],
   "source": [
    "klassifiziere_zahl_3(100, 12)"
   ]
  },
  {
   "cell_type": "markdown",
   "id": "2a42d120",
   "metadata": {
    "lang": "de",
    "slideshow": {
     "slide_type": "slide"
    }
   },
   "source": [
    "\n",
    " ## Return aus einem `if`-Statement\n",
    "\n",
    " Die Zweige eines `if`-Statements können `return` Anweisungen enthalten um\n",
    " einen Wert aus einer Funktion zurückzugeben:"
   ]
  },
  {
   "cell_type": "code",
   "execution_count": null,
   "id": "e3a136d1",
   "metadata": {
    "lines_to_next_cell": 2,
    "tags": [
     "code-along"
    ]
   },
   "outputs": [],
   "source": []
  },
  {
   "cell_type": "markdown",
   "id": "d00bb47c",
   "metadata": {
    "lang": "de",
    "slideshow": {
     "slide_type": "subslide"
    }
   },
   "source": [
    "\n",
    " ## Mini-Workshop\n",
    "\n",
    " - Notebook `workshop_090_control_structures`\n",
    " - Abschnitt \"Signum\"\n"
   ]
  },
  {
   "cell_type": "markdown",
   "id": "1e223c09",
   "metadata": {
    "lang": "de",
    "slideshow": {
     "slide_type": "slide"
    }
   },
   "source": [
    "\n",
    " # Benutzereingaben\n",
    "\n",
    " - Die Funktion `input()` erlaubt es dem Benutzer einen Text einzugeben.\n",
    " - Optional kann sie einen Eingabeprompt ausgeben.\n",
    " - Die Funktion gibt den vom Benutzer eingegebenen Text als String zurück."
   ]
  },
  {
   "cell_type": "code",
   "execution_count": null,
   "id": "6881fe33",
   "metadata": {
    "lines_to_next_cell": 2
   },
   "outputs": [],
   "source": [
    "# input(\"What is your name? \")"
   ]
  },
  {
   "cell_type": "code",
   "execution_count": null,
   "id": "df331bbe",
   "metadata": {
    "tags": [
     "code-along"
    ]
   },
   "outputs": [],
   "source": []
  },
  {
   "cell_type": "code",
   "execution_count": null,
   "id": "e683d0fd",
   "metadata": {},
   "outputs": [],
   "source": [
    "# query_name()"
   ]
  },
  {
   "cell_type": "markdown",
   "id": "9271ebf9",
   "metadata": {
    "lang": "de",
    "slideshow": {
     "slide_type": "subslide"
    }
   },
   "source": [
    "\n",
    " ## Beispiel: Konvertierung von Temperaturen\n",
    "\n",
    "Wir wollen eine Anwendung schreiben, die den Benutzer nach einer Temperatur\n",
    "in Fahrenheit fragt und die entsprechende Temperatur in Grad Celsius\n",
    "zurückgibt."
   ]
  },
  {
   "cell_type": "code",
   "execution_count": null,
   "id": "094612e8",
   "metadata": {
    "tags": [
     "code-along"
    ]
   },
   "outputs": [],
   "source": []
  },
  {
   "cell_type": "code",
   "execution_count": null,
   "id": "de157df3",
   "metadata": {
    "tags": [
     "code-along"
    ]
   },
   "outputs": [],
   "source": []
  },
  {
   "cell_type": "code",
   "execution_count": null,
   "id": "21718646",
   "metadata": {
    "tags": [
     "code-along"
    ]
   },
   "outputs": [],
   "source": []
  },
  {
   "cell_type": "code",
   "execution_count": null,
   "id": "c123bc31",
   "metadata": {
    "slideshow": {
     "slide_type": "subslide"
    },
    "tags": [
     "code-along"
    ]
   },
   "outputs": [],
   "source": []
  },
  {
   "cell_type": "code",
   "execution_count": null,
   "id": "1bd2a9ba",
   "metadata": {
    "tags": [
     "code-along"
    ]
   },
   "outputs": [],
   "source": []
  },
  {
   "cell_type": "code",
   "execution_count": null,
   "id": "4fac04a3",
   "metadata": {
    "tags": [
     "code-along"
    ]
   },
   "outputs": [],
   "source": []
  },
  {
   "cell_type": "markdown",
   "id": "a80a22ee",
   "metadata": {
    "lang": "de",
    "slideshow": {
     "slide_type": "subslide"
    }
   },
   "source": [
    "\n",
    " Wir können eine Meldung ausgeben, wenn der Benutzer nichts eingibt (und die\n",
    " Ausgabe etwas schöner gestalten):"
   ]
  },
  {
   "cell_type": "code",
   "execution_count": null,
   "id": "73dcac9f",
   "metadata": {
    "tags": [
     "code-along"
    ]
   },
   "outputs": [],
   "source": []
  },
  {
   "cell_type": "code",
   "execution_count": null,
   "id": "798d5a58",
   "metadata": {
    "tags": [
     "code-along"
    ]
   },
   "outputs": [],
   "source": []
  },
  {
   "cell_type": "markdown",
   "id": "a3eb1669",
   "metadata": {
    "lang": "de",
    "slideshow": {
     "slide_type": "subslide"
    }
   },
   "source": [
    "\n",
    " ## Mini-Workshop\n",
    "\n",
    " - Notebook `workshop_090_control_structures`\n",
    " - Abschnitt \"Umrechnung in Meilen\"\n"
   ]
  },
  {
   "cell_type": "code",
   "execution_count": null,
   "id": "6eae1fc6",
   "metadata": {
    "lines_to_next_cell": 2,
    "tags": [
     "code-along"
    ]
   },
   "outputs": [],
   "source": []
  },
  {
   "cell_type": "code",
   "execution_count": null,
   "id": "2986d11d",
   "metadata": {
    "lines_to_next_cell": 2,
    "tags": [
     "code-along"
    ]
   },
   "outputs": [],
   "source": []
  },
  {
   "cell_type": "markdown",
   "id": "03257a91",
   "metadata": {
    "lang": "de",
    "slideshow": {
     "slide_type": "slide"
    }
   },
   "source": [
    "\n",
    " # Wahrheitswerte: Truthiness\n",
    "\n",
    "Die `if`-Anweisung kann als Argument beliebige Python-Werte bekommen,\n",
    "nicht nur Boole'sche Werte.\n",
    "\n",
    " Folgende Werte gelten als *nicht wahr*\n",
    "\n",
    " - `None` und `False`\n",
    " - `0` und `0.0` (und Null-Werte von anderen Zahlentypen)\n",
    " - Leere Strings, Sequences und Collections: ``\n",
    "\n",
    " Alle anderen Werte gelten als wahr."
   ]
  },
  {
   "cell_type": "code",
   "execution_count": null,
   "id": "a4825ac3",
   "metadata": {},
   "outputs": [],
   "source": [
    "if -1:\n",
    "    print(\"-1 ist wahr\")\n",
    "elif 0:\n",
    "    print(\"0 ist wahr\")\n",
    "else:\n",
    "    print(\"Alles ist falsch\")"
   ]
  },
  {
   "cell_type": "code",
   "execution_count": null,
   "id": "d5a93e02",
   "metadata": {},
   "outputs": [],
   "source": [
    "if 0:\n",
    "    print(\"0 ist wahr\")\n",
    "else:\n",
    "    print(\"0 ist falsch\")"
   ]
  },
  {
   "cell_type": "code",
   "execution_count": null,
   "id": "dc7e5919",
   "metadata": {},
   "outputs": [],
   "source": [
    "if \"\":\n",
    "    print(\"'' ist wahr\")\n",
    "else:\n",
    "    print(\"'' falsch\")"
   ]
  },
  {
   "cell_type": "code",
   "execution_count": null,
   "id": "ddeabddf",
   "metadata": {},
   "outputs": [],
   "source": [
    "if print(\"Hallo\"):\n",
    "    print(\"None ist wahr\")\n",
    "else:\n",
    "    print(\"None ist falsch\")"
   ]
  },
  {
   "cell_type": "markdown",
   "id": "241b8051",
   "metadata": {
    "lang": "de",
    "slideshow": {
     "slide_type": "subslide"
    }
   },
   "source": [
    "\n",
    " ## Mini-Workshop\n",
    "\n",
    " - Notebook `workshop_090_control_structures`\n",
    " - Abschnitt \"Umrechnung in Meilen mit Truthiness\"\n"
   ]
  },
  {
   "cell_type": "markdown",
   "id": "5f30ae83",
   "metadata": {
    "lang": "de",
    "slideshow": {
     "slide_type": "subslide"
    }
   },
   "source": [
    "\n",
    " ## Extra Mini-Workshop\n",
    "\n",
    " - Notebook `workshop_090_control_structures`\n",
    " - Abschnitt \"Kino-Preis\"\n"
   ]
  },
  {
   "cell_type": "markdown",
   "id": "75b1ef70",
   "metadata": {
    "lang": "de",
    "slideshow": {
     "slide_type": "slide"
    }
   },
   "source": [
    "\n",
    " # While-Schleifen\n",
    "\n",
    " Manchmal wollen wir einen Teil eines Programms immer wieder ausführen:\n",
    "\n",
    " - Zahlenraten bis die richtige Zahl gefunden wurde\n",
    " - Physik-Simulation bis das Ergebnis genau genug ist\n",
    " - Verarbeitung von Benutzereingaben in interaktiven Programmen\n",
    "\n",
    " Wenn wir die Anzahl der Wiederholungen nicht von vornherein wissen, verwenden wir dafür in der Regel eine While-Schleife."
   ]
  },
  {
   "cell_type": "code",
   "execution_count": null,
   "id": "0f63fd50",
   "metadata": {
    "tags": [
     "code-along"
    ]
   },
   "outputs": [],
   "source": []
  },
  {
   "cell_type": "code",
   "execution_count": null,
   "id": "4e37b18b",
   "metadata": {},
   "outputs": [],
   "source": [
    "def führe_ein_experiment_aus(versuch_nr):\n",
    "    \"\"\"Führt ein Experiment aus\n",
    "    Gibt True zurück wenn das Experiment erfolgreich war, andernfalls False.\n",
    "    \"\"\"\n",
    "    print(f\"Versuch Nr. {versuch_nr} gestartet...\", end=\"\")\n",
    "    from random import random\n",
    "\n",
    "    if random() > 0.8:\n",
    "        print(\"Erfolg!\")\n",
    "        return True\n",
    "    else:\n",
    "        print(\"Fehlschlag.\")\n",
    "        return False"
   ]
  },
  {
   "cell_type": "code",
   "execution_count": null,
   "id": "00bc680a",
   "metadata": {},
   "outputs": [],
   "source": [
    "versuch_nr = 0\n",
    "\n",
    "while not führe_ein_experiment_aus(versuch_nr):\n",
    "    versuch_nr += 1\n",
    "\n",
    "print(\"Wir haben einen erfolgreichen Versuch ausgeführt.\")"
   ]
  },
  {
   "cell_type": "markdown",
   "id": "758daf51",
   "metadata": {
    "lang": "de",
    "slideshow": {
     "slide_type": "slide"
    }
   },
   "source": [
    "\n",
    " ## Beenden von Schleifen\n",
    "\n",
    "Manchmal ist es leichter, die Abbruchbedingung einer Schleife im Rumpf zu\n",
    "bestimmen, statt am Anfang. Mit der Anweisung `break` kann man eine\n",
    "Schleife vorzeitig beenden:"
   ]
  },
  {
   "cell_type": "code",
   "execution_count": null,
   "id": "f1fa4dbb",
   "metadata": {},
   "outputs": [],
   "source": [
    "i = 1\n",
    "while i < 10:\n",
    "    print(i)\n",
    "    if i % 3 == 0:\n",
    "        break\n",
    "    i += 1\n",
    "print(\"Nach der Schleife:\", i)"
   ]
  },
  {
   "cell_type": "code",
   "execution_count": null,
   "id": "d982e9fd",
   "metadata": {
    "lines_to_next_cell": 2,
    "tags": [
     "code-along"
    ]
   },
   "outputs": [],
   "source": []
  },
  {
   "cell_type": "code",
   "execution_count": null,
   "id": "3e59215a",
   "metadata": {
    "lines_to_next_cell": 2,
    "tags": [
     "code-along"
    ]
   },
   "outputs": [],
   "source": []
  },
  {
   "cell_type": "markdown",
   "id": "01f8df2b",
   "metadata": {
    "lang": "de",
    "slideshow": {
     "slide_type": "subslide"
    }
   },
   "source": [
    "\n",
    " ## Mini-Workshop\n",
    "\n",
    " - Notebook `workshop_090_control_structures`\n",
    " - Abschnitt \"Ratespiele\"\n"
   ]
  }
 ],
 "metadata": {
  "jupytext": {
   "cell_metadata_json": true,
   "encoding": "# -*- coding: utf-8 -*-",
   "formats": "ipynb"
  },
  "kernelspec": {
   "display_name": "Python 3 (ipykernel)",
   "language": "python",
   "name": "python3"
  }
 },
 "nbformat": 4,
 "nbformat_minor": 5
}
