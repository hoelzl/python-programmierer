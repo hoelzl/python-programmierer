{
 "cells": [
  {
   "cell_type": "code",
   "execution_count": null,
   "id": "0f863928",
   "metadata": {},
   "outputs": [],
   "source": []
  },
  {
   "cell_type": "markdown",
   "id": "5501de6f",
   "metadata": {
    "lines_to_next_cell": 2,
    "slideshow": {
     "slide_type": "slide"
    }
   },
   "source": [
    "<img src=\"img/python-logo-notext.svg\"\n",
    "     style=\"display:block;margin:auto;width:10%\"/>\n",
    "<h1 style=\"text-align:center;\">Dictionaries</h1>\n",
    "<br/>\n",
    "<div style=\"text-align:center;\">Dr. Matthias Hölzl</div>"
   ]
  },
  {
   "cell_type": "markdown",
   "id": "e25f28d1",
   "metadata": {},
   "source": [
    "\n",
    " ## Dictionaries\n",
    "\n",
    " Indizes in Listen\n",
    "\n",
    " - können nur Integer-Werte sein\n",
    " - müssen ein Intervall von 0 bis `len(liste) - 1` umfassen\n",
    "\n",
    " Elemente in einer Liste sind sortiert."
   ]
  },
  {
   "cell_type": "code",
   "execution_count": null,
   "id": "bbb38e8b",
   "metadata": {
    "lines_to_next_cell": 2
   },
   "outputs": [],
   "source": [
    "non_sparse = [0] * 10\n",
    "non_sparse[0] = 1\n",
    "non_sparse[9] = 1\n",
    "non_sparse"
   ]
  },
  {
   "cell_type": "markdown",
   "id": "f98e7918",
   "metadata": {},
   "source": [
    "\n",
    " Dictionaries sind eine Datenstruktur, in der Indizes\n",
    "\n",
    " - viele verschiedene Typen haben können:\n",
    "   - Integer-Werte\n",
    "   - Strings\n",
    "   - Tupel\n",
    "   - ...\n",
    "\n",
    " Im Gegensatz zu Listen sind die Elemente in einem Dictionary nicht in einer\n",
    " bestimmten Reihenfolge angeordnet."
   ]
  },
  {
   "cell_type": "code",
   "execution_count": null,
   "id": "8e16b03c",
   "metadata": {
    "lines_to_next_cell": 2
   },
   "outputs": [],
   "source": [
    "sparse = {0: 1, 9: 1}"
   ]
  },
  {
   "cell_type": "code",
   "execution_count": null,
   "id": "f5db5d81",
   "metadata": {
    "lines_to_next_cell": 2
   },
   "outputs": [],
   "source": [
    "sparse"
   ]
  },
  {
   "cell_type": "code",
   "execution_count": null,
   "id": "a5968615",
   "metadata": {
    "lines_to_next_cell": 2,
    "tags": [
     "code-along"
    ]
   },
   "outputs": [],
   "source": []
  },
  {
   "cell_type": "code",
   "execution_count": null,
   "id": "a4c77c28",
   "metadata": {
    "lines_to_next_cell": 2,
    "tags": [
     "code-along"
    ]
   },
   "outputs": [],
   "source": []
  },
  {
   "cell_type": "code",
   "execution_count": null,
   "id": "971ffbca",
   "metadata": {
    "lines_to_next_cell": 2,
    "tags": [
     "code-along"
    ]
   },
   "outputs": [],
   "source": []
  },
  {
   "cell_type": "code",
   "execution_count": null,
   "id": "82a22b71",
   "metadata": {
    "lines_to_next_cell": 2
   },
   "outputs": [],
   "source": [
    "translations = {\n",
    "    \"snake\": \"Schlange\",\n",
    "    \"bat\": \"Fledermaus\",\n",
    "    \"horse\": \"Hose\",\n",
    "    \"bird\": \"Vogel\",\n",
    "}"
   ]
  },
  {
   "cell_type": "code",
   "execution_count": null,
   "id": "87c418af",
   "metadata": {
    "lines_to_next_cell": 2,
    "tags": [
     "code-along"
    ]
   },
   "outputs": [],
   "source": []
  },
  {
   "cell_type": "code",
   "execution_count": null,
   "id": "5680f77b",
   "metadata": {
    "lines_to_next_cell": 2,
    "tags": [
     "code-along"
    ]
   },
   "outputs": [],
   "source": []
  },
  {
   "cell_type": "code",
   "execution_count": null,
   "id": "05a6c8a7",
   "metadata": {
    "lines_to_next_cell": 2,
    "tags": [
     "code-along"
    ]
   },
   "outputs": [],
   "source": []
  },
  {
   "cell_type": "code",
   "execution_count": null,
   "id": "24033565",
   "metadata": {
    "lines_to_next_cell": 2,
    "tags": [
     "code-along"
    ]
   },
   "outputs": [],
   "source": []
  },
  {
   "cell_type": "code",
   "execution_count": null,
   "id": "6124c9ec",
   "metadata": {
    "lines_to_next_cell": 2,
    "tags": [
     "code-along"
    ]
   },
   "outputs": [],
   "source": []
  },
  {
   "cell_type": "code",
   "execution_count": null,
   "id": "064e855c",
   "metadata": {
    "lines_to_next_cell": 2,
    "tags": [
     "code-along"
    ]
   },
   "outputs": [],
   "source": []
  },
  {
   "cell_type": "code",
   "execution_count": null,
   "id": "64dacdbb",
   "metadata": {
    "lines_to_next_cell": 2,
    "tags": [
     "code-along"
    ]
   },
   "outputs": [],
   "source": []
  },
  {
   "cell_type": "code",
   "execution_count": null,
   "id": "bdf5ae8c",
   "metadata": {
    "lines_to_next_cell": 2,
    "tags": [
     "code-along"
    ]
   },
   "outputs": [],
   "source": []
  },
  {
   "cell_type": "code",
   "execution_count": null,
   "id": "f852482b",
   "metadata": {
    "lines_to_next_cell": 2,
    "tags": [
     "code-along"
    ]
   },
   "outputs": [],
   "source": []
  },
  {
   "cell_type": "markdown",
   "id": "9f0550ed",
   "metadata": {},
   "source": [
    "\n",
    " ## Mini-Workshop\n",
    "\n",
    " - Notebook `workshop_130_dictionaries`\n",
    " - Abschnitt \"Worthäufigkeiten\""
   ]
  },
  {
   "cell_type": "markdown",
   "id": "5c48079c",
   "metadata": {},
   "source": [
    "\n",
    " ## Mini-Workshop\n",
    "\n",
    " - Notebook `042x-Workshop Todo-Liste V0`\n",
    " - Abschnitt \"TODO-Liste Version 0\""
   ]
  }
 ],
 "metadata": {
  "jupytext": {
   "encoding": "# -*- coding: utf-8 -*-",
   "formats": "ipynb"
  },
  "kernelspec": {
   "display_name": "Python 3 (ipykernel)",
   "language": "python",
   "name": "python3"
  }
 },
 "nbformat": 4,
 "nbformat_minor": 5
}
