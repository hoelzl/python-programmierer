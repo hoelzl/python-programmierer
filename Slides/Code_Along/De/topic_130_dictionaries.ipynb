{
 "cells": [
  {
   "cell_type": "markdown",
   "id": "89d55ebb",
   "metadata": {
    "lang": "de",
    "slideshow": {
     "slide_type": "slide"
    }
   },
   "source": [
    "<img src=\"img/python-logo-notext.svg\"\n",
    "     style=\"display:block;margin:auto;width:10%\"/>\n",
    "<br>\n",
    "<div style=\"text-align:center; font-size:200%;\"><b>Dictionaries</b></div>\n",
    "<br/>\n",
    "<div style=\"text-align:center;\">Dr. Matthias Hölzl</div>"
   ]
  },
  {
   "cell_type": "markdown",
   "id": "9446e9d1",
   "metadata": {
    "lang": "de",
    "slideshow": {
     "slide_type": "slide"
    }
   },
   "source": [
    "\n",
    " ## Dictionaries\n",
    "\n",
    " Indizes in Listen\n",
    "\n",
    " - können nur Integer-Werte sein\n",
    " - müssen ein Intervall von 0 bis `len(liste) - 1` umfassen\n",
    "\n",
    " Elemente in einer Liste sind sortiert."
   ]
  },
  {
   "cell_type": "code",
   "execution_count": null,
   "id": "b98340e2",
   "metadata": {
    "lines_to_next_cell": 2
   },
   "outputs": [],
   "source": [
    "non_sparse = [0] * 10\n",
    "non_sparse[0] = 1\n",
    "non_sparse[9] = 1\n",
    "non_sparse"
   ]
  },
  {
   "cell_type": "markdown",
   "id": "5411f2fb",
   "metadata": {
    "lang": "de",
    "slideshow": {
     "slide_type": "subslide"
    }
   },
   "source": [
    "Dictionaries sind eine Datenstruktur, in der Indizes\n",
    "\n",
    "- viele verschiedene Typen haben können:\n",
    "  - Integer-Werte\n",
    "  - Strings\n",
    "  - Tupel\n",
    "  - ...\n",
    "\n",
    "Im Gegensatz zu Listen sind die Elemente in einem Dictionary nicht in einer\n",
    "bestimmten Reihenfolge angeordnet."
   ]
  },
  {
   "cell_type": "code",
   "execution_count": null,
   "id": "12382346",
   "metadata": {
    "lines_to_next_cell": 2,
    "slideshow": {
     "slide_type": "subslide"
    }
   },
   "outputs": [],
   "source": [
    "sparse = {0: 1, 9: 1}"
   ]
  },
  {
   "cell_type": "code",
   "execution_count": null,
   "id": "08782d40",
   "metadata": {
    "lines_to_next_cell": 2
   },
   "outputs": [],
   "source": [
    "sparse"
   ]
  },
  {
   "cell_type": "code",
   "execution_count": null,
   "id": "ea5253ec",
   "metadata": {
    "lines_to_next_cell": 2,
    "tags": [
     "code-along"
    ]
   },
   "outputs": [],
   "source": []
  },
  {
   "cell_type": "code",
   "execution_count": null,
   "id": "a69cf905",
   "metadata": {
    "lines_to_next_cell": 2,
    "tags": [
     "code-along"
    ]
   },
   "outputs": [],
   "source": []
  },
  {
   "cell_type": "code",
   "execution_count": null,
   "id": "eaed13b9",
   "metadata": {
    "lines_to_next_cell": 2,
    "tags": [
     "code-along"
    ]
   },
   "outputs": [],
   "source": []
  },
  {
   "cell_type": "code",
   "execution_count": null,
   "id": "de67453c",
   "metadata": {
    "lines_to_next_cell": 2
   },
   "outputs": [],
   "source": [
    "translations = {\n",
    "    \"snake\": \"Schlange\",\n",
    "    \"bat\": \"Fledermaus\",\n",
    "    \"horse\": \"Hose\",\n",
    "    \"bird\": \"Vogel\",\n",
    "}"
   ]
  },
  {
   "cell_type": "code",
   "execution_count": null,
   "id": "b37a696a",
   "metadata": {
    "lines_to_next_cell": 2,
    "tags": [
     "code-along"
    ]
   },
   "outputs": [],
   "source": []
  },
  {
   "cell_type": "code",
   "execution_count": null,
   "id": "747c957e",
   "metadata": {
    "lines_to_next_cell": 2,
    "tags": [
     "code-along"
    ]
   },
   "outputs": [],
   "source": []
  },
  {
   "cell_type": "code",
   "execution_count": null,
   "id": "69779dca",
   "metadata": {
    "lines_to_next_cell": 2,
    "tags": [
     "code-along"
    ]
   },
   "outputs": [],
   "source": []
  },
  {
   "cell_type": "code",
   "execution_count": null,
   "id": "06bb66ed",
   "metadata": {
    "lines_to_next_cell": 2,
    "tags": [
     "code-along"
    ]
   },
   "outputs": [],
   "source": []
  },
  {
   "cell_type": "code",
   "execution_count": null,
   "id": "6a1ed4c9",
   "metadata": {
    "lines_to_next_cell": 2,
    "tags": [
     "code-along"
    ]
   },
   "outputs": [],
   "source": []
  },
  {
   "cell_type": "code",
   "execution_count": null,
   "id": "824d9f32",
   "metadata": {
    "lines_to_next_cell": 2,
    "tags": [
     "code-along"
    ]
   },
   "outputs": [],
   "source": []
  },
  {
   "cell_type": "code",
   "execution_count": null,
   "id": "4179532c",
   "metadata": {
    "lines_to_next_cell": 2,
    "tags": [
     "code-along"
    ]
   },
   "outputs": [],
   "source": []
  },
  {
   "cell_type": "code",
   "execution_count": null,
   "id": "b9c6a7d2",
   "metadata": {
    "lines_to_next_cell": 2,
    "tags": [
     "code-along"
    ]
   },
   "outputs": [],
   "source": []
  },
  {
   "cell_type": "code",
   "execution_count": null,
   "id": "07b03a57",
   "metadata": {
    "lines_to_next_cell": 2,
    "tags": [
     "code-along"
    ]
   },
   "outputs": [],
   "source": []
  },
  {
   "cell_type": "markdown",
   "id": "0d8dba6d",
   "metadata": {
    "lang": "de",
    "slideshow": {
     "slide_type": "subslide"
    }
   },
   "source": [
    "\n",
    " ## Mini-Workshop\n",
    "\n",
    " - Notebook `workshop_130_dictionaries`\n",
    " - Abschnitt \"Worthäufigkeiten\""
   ]
  },
  {
   "cell_type": "markdown",
   "id": "fe99b319",
   "metadata": {
    "lang": "de",
    "slideshow": {
     "slide_type": "subslide"
    }
   },
   "source": [
    "\n",
    " ## Mini-Workshop\n",
    "\n",
    " - Notebook `042x-Workshop Todo-Liste V0`\n",
    " - Abschnitt \"TODO-Liste Version 0\""
   ]
  }
 ],
 "metadata": {
  "jupytext": {
   "cell_metadata_json": true,
   "encoding": "# -*- coding: utf-8 -*-",
   "formats": "ipynb"
  },
  "kernelspec": {
   "display_name": "Python 3 (ipykernel)",
   "language": "python",
   "name": "python3"
  }
 },
 "nbformat": 4,
 "nbformat_minor": 5
}
