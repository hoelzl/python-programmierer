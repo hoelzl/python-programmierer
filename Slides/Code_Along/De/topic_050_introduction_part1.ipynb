{
 "cells": [
  {
   "cell_type": "markdown",
   "id": "f716fa80",
   "metadata": {
    "lang": "de",
    "slideshow": {
     "slide_type": "slide"
    }
   },
   "source": [
    "<img src=\"img/python-logo-notext.svg\"\n",
    "     style=\"display:block;margin:auto;width:10%\"/>\n",
    "<br>\n",
    "<div style=\"text-align:center; font-size:200%;\"><b>Einführung in Python: Grundlagen Teil 1</b></div>\n",
    "<br/>\n",
    "<div style=\"text-align:center;\">Dr. Matthias Hölzl</div>"
   ]
  },
  {
   "cell_type": "markdown",
   "id": "d7d90625",
   "metadata": {
    "lang": "de",
    "slideshow": {
     "slide_type": "slide"
    }
   },
   "source": [
    "# Woraus besteht ein Programm?\n",
    "\n",
    "Wir wollen ein Programm schreiben, das\n",
    "\n",
    "```\n",
    "Hello, world!\n",
    "```\n",
    "\n",
    "auf dem Bildschirm ausgibt.\n",
    "\n",
    "Was benötigen wir dazu?"
   ]
  },
  {
   "cell_type": "markdown",
   "id": "1ff0d461",
   "metadata": {
    "lang": "de",
    "slideshow": {
     "slide_type": "subslide"
    }
   },
   "source": [
    "Was benötigen wir dazu?\n",
    "\n",
    "- Daten\n",
    "    - den Text `Hello, world!`\n",
    "- Anweisungen\n",
    "    - *Gib den folgenden Text auf dem Bildschirm aus*\n",
    "- Kommentare\n",
    "    - Hinweise für den Programmierer, werden von Python ignoriert"
   ]
  },
  {
   "cell_type": "markdown",
   "id": "25510bdb",
   "metadata": {
    "lang": "de",
    "slideshow": {
     "slide_type": "subslide"
    }
   },
   "source": [
    "## Kommentare\n",
    "\n",
    "- `#` gefolgt von beliebigem Text\n",
    "- bis zum Ende der Zeile"
   ]
  },
  {
   "cell_type": "code",
   "execution_count": null,
   "id": "6b21b8a7",
   "metadata": {
    "lines_to_next_cell": 2
   },
   "outputs": [],
   "source": [
    "# Das ist ein Kommentar.\n",
    "# Alle Zeilen in dieser Zelle werden\n",
    "# von Python ignoriert."
   ]
  },
  {
   "cell_type": "markdown",
   "id": "8dcc04e5",
   "metadata": {
    "lang": "de",
    "slideshow": {
     "slide_type": "subslide"
    }
   },
   "source": [
    "# Daten\n",
    "\n",
    "- Zahlen: `123`, `3.141592`\n",
    "- Text (Strings): `'Das ist ein Text'`, `\"Hello, world!\"`"
   ]
  },
  {
   "cell_type": "code",
   "execution_count": null,
   "id": "dea14c10",
   "metadata": {
    "incorrectly_encoded_metadata": "{\"slideshow\": {\"slide_type\": \"subslide\"}} tags=[\"code-along\"]"
   },
   "outputs": [],
   "source": [
    "123"
   ]
  },
  {
   "cell_type": "code",
   "execution_count": null,
   "id": "6e9cbdf9",
   "metadata": {
    "tags": [
     "code-along"
    ]
   },
   "outputs": [],
   "source": []
  },
  {
   "cell_type": "code",
   "execution_count": null,
   "id": "0502c967",
   "metadata": {
    "incorrectly_encoded_metadata": "{\"slideshow\": {\"slide_type\": \"subslide\"}} tags=[\"code-along\"]"
   },
   "outputs": [],
   "source": [
    "\"Das ist ein Text\""
   ]
  },
  {
   "cell_type": "code",
   "execution_count": null,
   "id": "65054aa9",
   "metadata": {
    "tags": [
     "code-along"
    ]
   },
   "outputs": [],
   "source": []
  },
  {
   "cell_type": "code",
   "execution_count": null,
   "id": "f53f326c",
   "metadata": {
    "tags": [
     "code-along"
    ]
   },
   "outputs": [],
   "source": []
  },
  {
   "cell_type": "markdown",
   "id": "e7560813",
   "metadata": {
    "lang": "de",
    "slideshow": {
     "slide_type": "subslide"
    }
   },
   "source": [
    "## Mini-Workshop\n",
    "\n",
    "- Notebook `workshop_050_introduction_part1`\n",
    "- Abschnitt \"Einleitung\""
   ]
  },
  {
   "cell_type": "markdown",
   "id": "5148c092",
   "metadata": {
    "lang": "de",
    "slideshow": {
     "slide_type": "slide"
    }
   },
   "source": [
    "## Wiederholung: `print()`-Funktion\n",
    "\n",
    "Einer `print()`-Anweisung können mehrere Argumente übergeben werden.\n",
    "- Die Argumente werden durch Kommata getrennt\n",
    "- Alle Argumente werden in einer Zeile ausgegeben, mit Leerzeichen zwischen den Argumenten."
   ]
  },
  {
   "cell_type": "code",
   "execution_count": null,
   "id": "e6d84697",
   "metadata": {
    "tags": [
     "code-along"
    ]
   },
   "outputs": [],
   "source": []
  },
  {
   "cell_type": "markdown",
   "id": "92e358ab",
   "metadata": {
    "lang": "de",
    "slideshow": {
     "slide_type": "subslide"
    }
   },
   "source": [
    "Durch Angabe eines *benannten Arguments* `sep=''` kann die Ausgabe der\n",
    "Leerzeichen unterdrückt werden:"
   ]
  },
  {
   "cell_type": "code",
   "execution_count": null,
   "id": "80309d6d",
   "metadata": {
    "tags": [
     "code-along"
    ]
   },
   "outputs": [],
   "source": []
  },
  {
   "cell_type": "markdown",
   "id": "0051ee17",
   "metadata": {
    "lang": "de",
    "slideshow": {
     "slide_type": "subslide"
    }
   },
   "source": [
    "Es sind auch beliebige andere Strings als Wert des Arguments `sep` zulässig:"
   ]
  },
  {
   "cell_type": "code",
   "execution_count": null,
   "id": "96d16405",
   "metadata": {
    "tags": [
     "code-along"
    ]
   },
   "outputs": [],
   "source": []
  },
  {
   "cell_type": "code",
   "execution_count": null,
   "id": "dc135ba1",
   "metadata": {
    "tags": [
     "code-along"
    ]
   },
   "outputs": [],
   "source": []
  },
  {
   "cell_type": "markdown",
   "id": "54fb5130",
   "metadata": {
    "lang": "de",
    "slideshow": {
     "slide_type": "slide"
    }
   },
   "source": [
    "# Zahlen und Mathematik\n",
    "\n",
    "- Ganze Zahlen: `1`, `837`, `-12`\n",
    "- Gleitkommazahlen: `0.5`, `123.4`, `-0.01`\n",
    "- Rechenoperationen:\n",
    "    - Addition: `+`\n",
    "    - Subtraktion: `-`\n",
    "    - Multiplikation: `*`\n",
    "    - Division: `/`"
   ]
  },
  {
   "cell_type": "markdown",
   "id": "e636d5ea",
   "metadata": {
    "lang": "de",
    "slideshow": {
     "slide_type": "subslide"
    }
   },
   "source": [
    "## Python als Taschenrechner"
   ]
  },
  {
   "cell_type": "code",
   "execution_count": null,
   "id": "4fd9dbd8",
   "metadata": {
    "tags": [
     "code-along"
    ]
   },
   "outputs": [],
   "source": []
  },
  {
   "cell_type": "code",
   "execution_count": null,
   "id": "5b6ab8a3",
   "metadata": {
    "tags": [
     "code-along"
    ]
   },
   "outputs": [],
   "source": []
  },
  {
   "cell_type": "markdown",
   "id": "8b9fb094",
   "metadata": {
    "lang": "de",
    "slideshow": {
     "slide_type": "subslide"
    }
   },
   "source": [
    "## Arten von Zahlen\n",
    "\n",
    "- Python unterscheidet ganze Zahlen und Gleitkommazahlen:\n",
    "    - `1` ist eine ganze Zahl (`int`)\n",
    "    - `1.0` ist eine Gleitkommazahl (`float`)\n",
    "- Mit `type(...)` kann man den Typ des Arguments erfahren:"
   ]
  },
  {
   "cell_type": "code",
   "execution_count": null,
   "id": "05427e5d",
   "metadata": {
    "incorrectly_encoded_metadata": "{\"slideshow\": {\"slide_type\": \"subslide\"}} tags=[\"code-along\"]"
   },
   "outputs": [],
   "source": [
    "type(1)"
   ]
  },
  {
   "cell_type": "code",
   "execution_count": null,
   "id": "1dafb95c",
   "metadata": {
    "tags": [
     "code-along"
    ]
   },
   "outputs": [],
   "source": []
  },
  {
   "cell_type": "code",
   "execution_count": null,
   "id": "755e2c27",
   "metadata": {
    "tags": [
     "code-along"
    ]
   },
   "outputs": [],
   "source": []
  },
  {
   "cell_type": "markdown",
   "id": "d207dc35",
   "metadata": {
    "lang": "de",
    "slideshow": {
     "slide_type": "subslide"
    }
   },
   "source": [
    "Ganze Zahlen in Python haben keine (praktisch relevante) Obergrenze:"
   ]
  },
  {
   "cell_type": "code",
   "execution_count": null,
   "id": "86249297",
   "metadata": {
    "tags": [
     "code-along"
    ]
   },
   "outputs": [],
   "source": []
  },
  {
   "cell_type": "code",
   "execution_count": null,
   "id": "9b5a38cc",
   "metadata": {
    "tags": [
     "code-along"
    ]
   },
   "outputs": [],
   "source": []
  },
  {
   "cell_type": "markdown",
   "id": "7330c44d",
   "metadata": {
    "lang": "de",
    "slideshow": {
     "slide_type": "subslide"
    }
   },
   "source": [
    "## Mini-Workshop\n",
    "\n",
    "- Notebook `workshop_050_introduction_part1`\n",
    "- Abschnitt \"Zahlen und Mathematik\""
   ]
  },
  {
   "cell_type": "markdown",
   "id": "a613442c",
   "metadata": {
    "lang": "de",
    "slideshow": {
     "slide_type": "slide"
    }
   },
   "source": [
    "## Rechenoperationen\n",
    "\n",
    "| Operator | Operation            |\n",
    "|:--------:|:---------------------|\n",
    "| +        | Summe                |\n",
    "| -        | Differenz            |\n",
    "| *        | Multiplikation       |\n",
    "| /        | Division             |\n",
    "| **       | Potenz               |\n",
    "| %        | Modulo, Rest         |\n",
    "| //       | ganzzahlige Division |"
   ]
  },
  {
   "cell_type": "markdown",
   "id": "0528d7ab",
   "metadata": {
    "lang": "de",
    "slideshow": {
     "slide_type": "subslide"
    }
   },
   "source": [
    "### Division"
   ]
  },
  {
   "cell_type": "code",
   "execution_count": null,
   "id": "c0db6089",
   "metadata": {
    "tags": [
     "code-along"
    ]
   },
   "outputs": [],
   "source": []
  },
  {
   "cell_type": "code",
   "execution_count": null,
   "id": "720a0756",
   "metadata": {
    "tags": [
     "code-along"
    ]
   },
   "outputs": [],
   "source": []
  },
  {
   "cell_type": "code",
   "execution_count": null,
   "id": "9e7b49a8",
   "metadata": {
    "incorrectly_encoded_metadata": "{\"slideshow\": {\"slide_type\": \"subslide\"}} tags=[\"code-along\"]"
   },
   "outputs": [],
   "source": [
    "# // und % können zur Division mit Rest verwendet werden:\n",
    "20 // 7  # Wie oft geht 7 in 20?"
   ]
  },
  {
   "cell_type": "code",
   "execution_count": null,
   "id": "a6afaf40",
   "metadata": {
    "tags": [
     "code-along"
    ]
   },
   "outputs": [],
   "source": []
  },
  {
   "cell_type": "code",
   "execution_count": null,
   "id": "2dceeee4",
   "metadata": {
    "tags": [
     "code-along"
    ]
   },
   "outputs": [],
   "source": []
  },
  {
   "cell_type": "markdown",
   "id": "4e1c4552",
   "metadata": {
    "lang": "de",
    "slideshow": {
     "slide_type": "subslide"
    }
   },
   "source": [
    "`/` ist links-assoziativ (genau wie `//`, `%`, `+`, `-`, `*`)"
   ]
  },
  {
   "cell_type": "code",
   "execution_count": null,
   "id": "c66efe56",
   "metadata": {
    "tags": [
     "code-along"
    ]
   },
   "outputs": [],
   "source": []
  },
  {
   "cell_type": "code",
   "execution_count": null,
   "id": "7e15cf17",
   "metadata": {
    "tags": [
     "code-along"
    ]
   },
   "outputs": [],
   "source": []
  },
  {
   "cell_type": "code",
   "execution_count": null,
   "id": "4c599094",
   "metadata": {
    "tags": [
     "code-along"
    ]
   },
   "outputs": [],
   "source": []
  },
  {
   "cell_type": "markdown",
   "id": "84feab9c",
   "metadata": {
    "lang": "de",
    "slideshow": {
     "slide_type": "subslide"
    }
   },
   "source": [
    "### Exponentiation (Potenz)"
   ]
  },
  {
   "cell_type": "code",
   "execution_count": null,
   "id": "d5a1e1e7",
   "metadata": {
    "tags": [
     "code-along"
    ]
   },
   "outputs": [],
   "source": []
  },
  {
   "cell_type": "code",
   "execution_count": null,
   "id": "601fd360",
   "metadata": {
    "tags": [
     "code-along"
    ]
   },
   "outputs": [],
   "source": []
  },
  {
   "cell_type": "code",
   "execution_count": null,
   "id": "04b6eb3e",
   "metadata": {
    "tags": [
     "code-along"
    ]
   },
   "outputs": [],
   "source": []
  },
  {
   "cell_type": "code",
   "execution_count": null,
   "id": "61b264ab",
   "metadata": {
    "tags": [
     "code-along"
    ]
   },
   "outputs": [],
   "source": []
  },
  {
   "cell_type": "markdown",
   "id": "4318bdcb",
   "metadata": {
    "lang": "de",
    "slideshow": {
     "slide_type": "subslide"
    }
   },
   "source": [
    "`**` ist rechts-assoziativ\n",
    "\n",
    "$2^{(2^3)} = 2^8 = 256 \\qquad$\n",
    "$(2^2)^3 = 4^3 = 64$"
   ]
  },
  {
   "cell_type": "code",
   "execution_count": null,
   "id": "b9b3407e",
   "metadata": {
    "tags": [
     "code-along"
    ]
   },
   "outputs": [],
   "source": []
  },
  {
   "cell_type": "code",
   "execution_count": null,
   "id": "f3a96704",
   "metadata": {
    "tags": [
     "code-along"
    ]
   },
   "outputs": [],
   "source": []
  },
  {
   "cell_type": "code",
   "execution_count": null,
   "id": "0ee9fe6f",
   "metadata": {
    "tags": [
     "code-along"
    ]
   },
   "outputs": [],
   "source": []
  },
  {
   "cell_type": "markdown",
   "id": "572e3497",
   "metadata": {
    "lang": "de",
    "slideshow": {
     "slide_type": "subslide"
    }
   },
   "source": [
    "Der `**` Operator kann auch zum Wurzelziehen verwendet werden:\n",
    "\n",
    "$\\sqrt{4} = 4^{1/2} = 2\\qquad$\n",
    "$\\sqrt{9} = 9^{1/2} = 3\\qquad$\n",
    "$\\sqrt{2} = 2^{1/2} \\approx 1.4142\\qquad$"
   ]
  },
  {
   "cell_type": "code",
   "execution_count": null,
   "id": "e6107225",
   "metadata": {
    "tags": [
     "code-along"
    ]
   },
   "outputs": [],
   "source": []
  },
  {
   "cell_type": "code",
   "execution_count": null,
   "id": "4ea3eabe",
   "metadata": {
    "tags": [
     "code-along"
    ]
   },
   "outputs": [],
   "source": []
  },
  {
   "cell_type": "code",
   "execution_count": null,
   "id": "b67439a4",
   "metadata": {
    "tags": [
     "code-along"
    ]
   },
   "outputs": [],
   "source": []
  },
  {
   "cell_type": "markdown",
   "id": "d12e382f",
   "metadata": {
    "lang": "de",
    "slideshow": {
     "slide_type": "slide"
    }
   },
   "source": [
    "# Variablen\n",
    "\n",
    "Wir wollen einen Zaun um unser neues Grundstück bauen.\n",
    "\n",
    "<img src=\"img/fence.svg\" style=\"display:block;margin:auto;width:50%\"/>"
   ]
  },
  {
   "cell_type": "markdown",
   "id": "4272bced",
   "metadata": {
    "lang": "de",
    "slideshow": {
     "slide_type": "subslide"
    }
   },
   "source": [
    "<img src=\"img/fence.svg\" style=\"vertical-align:top;overflow:auto;float:right;width:25%\"/>\n",
    "\n",
    "Die gemessenen Längen sind:\n",
    "- Birkenweg: 20m\n",
    "- Fichtengasse: 30m\n",
    "\n",
    "Wie lange muss unser Zaun sein?"
   ]
  },
  {
   "cell_type": "code",
   "execution_count": null,
   "id": "7693fdc6",
   "metadata": {
    "tags": [
     "code-along"
    ]
   },
   "outputs": [],
   "source": []
  },
  {
   "cell_type": "markdown",
   "id": "00866a85",
   "metadata": {
    "lang": "de",
    "slideshow": {
     "slide_type": "subslide"
    }
   },
   "source": [
    "<img src=\"img/fence.svg\" style=\"vertical-align:top;overflow:auto;float:right;width:25%\"/>\n",
    "\n",
    "Es ist nicht klar, was die Zahlen in dem vorhergehenden Ausdruck bedeuten. Können wir das besser machen?"
   ]
  },
  {
   "cell_type": "code",
   "execution_count": null,
   "id": "5f4cf4ea",
   "metadata": {
    "tags": [
     "code-along"
    ]
   },
   "outputs": [],
   "source": []
  },
  {
   "cell_type": "markdown",
   "id": "734adc88",
   "metadata": {
    "lang": "de",
    "slideshow": {
     "slide_type": "slide"
    }
   },
   "source": [
    "## Genauere Beschreibung von Variablen\n",
    "\n",
    "<img src=\"img/variables-01.svg\" style=\"float:right;margin:auto;width:50%\"/>\n",
    "\n",
    "Eine *Variable* ist\n",
    "- ein <span style=\"color:red;\">\"Verweis\"</span> auf ein \"Objekt\"\n",
    "- der einen <span style=\"color:red;\">Namen</span> hat.\n",
    "\n",
    "<span style=\"color:blue;\">Ein Objekt</span> kann von <span style=\"color:blue;\">mehreren Variablen</span><br/>\n",
    "referenziert werden!"
   ]
  },
  {
   "cell_type": "markdown",
   "id": "084ae34a",
   "metadata": {
    "lang": "de",
    "slideshow": {
     "slide_type": "subslide"
    }
   },
   "source": [
    "<img src=\"img/variables-01.svg\" style=\"float:right;margin:auto;width:50%\"/>\n",
    "\n",
    "Einve Variable wird\n",
    "- erzeugt durch `name = wert`\n",
    "- gelesen durch `name`\n",
    "- geändert durch `name = wert`\n",
    "\n",
    "Erzeugen und Ändern von Variablen<br/>\n",
    "sind *Anweisungen*."
   ]
  },
  {
   "cell_type": "code",
   "execution_count": null,
   "id": "a2d74960",
   "metadata": {
    "incorrectly_encoded_metadata": "{\"slideshow\": {\"slide_type\": \"subslide\"}} tags=[\"code-along\"]"
   },
   "outputs": [],
   "source": [
    "länge_birkenweg = 20\n",
    "print(länge_birkenweg)\n",
    "länge_birkenweg = 25\n",
    "print(länge_birkenweg)"
   ]
  },
  {
   "cell_type": "markdown",
   "id": "ce66e7c2",
   "metadata": {
    "lang": "de",
    "slideshow": {
     "slide_type": "slide"
    }
   },
   "source": [
    "## Eigenschaften von Variablen in Python\n",
    "\n",
    "- Eine Variable kann Werte mit beliebigem Datentyp speichern\n",
    "    - Es gibt keine `int`-Variablen, etc.\n",
    "    - Man sagt: Python ist dynamisch getypt\n",
    "- Variablen müssen erzeugt worden sein, bevor sie verwendet werden\n",
    "- Man kann Variablen neue Werte zuweisen\n",
    "    - Dabei kann der *alte Wert* der Variablen auf der rechten Seite verwendet werden:<br/> `jobs = jobs + 1`"
   ]
  },
  {
   "cell_type": "code",
   "execution_count": null,
   "id": "a5da38aa",
   "metadata": {
    "incorrectly_encoded_metadata": "{\"slideshow\": {\"slide_type\": \"subslide\"}} tags=[\"code-along\"]"
   },
   "outputs": [],
   "source": [
    "x = \"Hallo!\"\n",
    "print(x)\n",
    "x = 123\n",
    "print(x)\n",
    "x = x + 1\n",
    "print(x)\n",
    "x += 1\n",
    "print(x)"
   ]
  },
  {
   "cell_type": "code",
   "execution_count": null,
   "id": "ea85b733",
   "metadata": {
    "incorrectly_encoded_metadata": "{\"slideshow\": {\"slide_type\": \"subslide\"}} tags=[\"code-along\"]",
    "lines_to_next_cell": 2
   },
   "outputs": [],
   "source": [
    "# print(diese_variable_gibt_es_nicht)"
   ]
  },
  {
   "cell_type": "code",
   "execution_count": null,
   "id": "011cd434",
   "metadata": {
    "lines_to_next_cell": 2,
    "tags": [
     "code-along"
    ]
   },
   "outputs": [],
   "source": []
  },
  {
   "cell_type": "markdown",
   "id": "d41c41db",
   "metadata": {
    "lang": "de",
    "slideshow": {
     "slide_type": "slide"
    }
   },
   "source": [
    "## Variablennamen in Python\n",
    "\n",
    "- Fangen mit einem Buchstaben oder Unterstrich `_` an\n",
    "    - Umlaute gelten auch als Buchstaben\n",
    "- Können Ziffern, Buchstaben und Unterstriche `_` enthalten\n",
    "- Können viele andere Unicode-Zeichen enthalten\n",
    "    - Es ist aber meist besser, das zu vermeiden...\n",
    "- Groß- und Kleinschreibung wird unterschieden\n",
    "    - `A` ist eine andere Variable als `a`\n"
   ]
  },
  {
   "cell_type": "markdown",
   "id": "f03ae698",
   "metadata": {
    "lang": "de",
    "slideshow": {
     "slide_type": "subslide"
    }
   },
   "source": [
    "### Stil\n",
    "\n",
    "- Variablennamen werden klein geschrieben\n",
    "    - Außer konstanten Variablen: `CONSTANT_VAR`\n",
    "- Bestandteile werden durch Unterstriche `_` getrennt\n",
    "    - Dieser Stil nennt sich Snake-Case\n",
    "- Variablen, die mit zwei Unterstrichen anfangen und aufhören haben\n",
    "  typischerweise eine spezielle Bedeutung (*Dunders*):\n",
    "    - `__class__`, `__name__`\n",
    "    - Normale benutzerdefinierte Variablen sollten nicht als Dunders benannt\n",
    "      werden"
   ]
  },
  {
   "cell_type": "code",
   "execution_count": null,
   "id": "e7ad0c74",
   "metadata": {
    "incorrectly_encoded_metadata": "{\"slideshow\": {\"slide_type\": \"subslide\"}} tags=[\"code-along\"]"
   },
   "outputs": [],
   "source": [
    "print(__name__)\n",
    "print(type(__name__))"
   ]
  },
  {
   "cell_type": "code",
   "execution_count": null,
   "id": "a9f0892e",
   "metadata": {
    "tags": [
     "code-along"
    ]
   },
   "outputs": [],
   "source": []
  },
  {
   "cell_type": "code",
   "execution_count": null,
   "id": "bc48d0c9",
   "metadata": {
    "tags": [
     "code-along"
    ]
   },
   "outputs": [],
   "source": []
  },
  {
   "cell_type": "markdown",
   "id": "7a0819e4",
   "metadata": {
    "lang": "de",
    "slideshow": {
     "slide_type": "subslide"
    }
   },
   "source": [
    "- Manchmal werden \"private\" Variablen mit einem führenden Unterstrich\n",
    "  geschrieben: `_my_var`\n",
    "    - Das ist (für globale Variablen) besonders in älterem Code verbreitet\n",
    "    - In Klassen gibt es weitere Konventionen\n",
    "- Die meisten Python-Projekte folgen den Konventionen in\n",
    "  [PEP 8](https://www.python.org/dev/peps/pep-0008/#naming-conventions)"
   ]
  },
  {
   "cell_type": "code",
   "execution_count": null,
   "id": "b196f173",
   "metadata": {
    "tags": [
     "code-along"
    ]
   },
   "outputs": [],
   "source": []
  },
  {
   "cell_type": "code",
   "execution_count": null,
   "id": "0aa4d4f0",
   "metadata": {
    "tags": [
     "code-along"
    ]
   },
   "outputs": [],
   "source": []
  },
  {
   "cell_type": "code",
   "execution_count": null,
   "id": "1c2d17f4",
   "metadata": {
    "slideshow": {
     "slide_type": "subslide"
    }
   },
   "outputs": [],
   "source": [
    "variable_1 = 123\n",
    "VARIABLE_1 = 234\n",
    "Variable_1 = 345\n",
    "variablE_1 = 456"
   ]
  },
  {
   "cell_type": "code",
   "execution_count": null,
   "id": "bf21ad35",
   "metadata": {},
   "outputs": [],
   "source": [
    "print(variable_1)\n",
    "print(VARIABLE_1)\n",
    "print(Variable_1)\n",
    "print(variablE_1)"
   ]
  },
  {
   "cell_type": "code",
   "execution_count": null,
   "id": "1ebf6427",
   "metadata": {
    "incorrectly_encoded_metadata": "{\"slideshow\": {\"slide_type\": \"subslide\"}} tags=[\"code-along\"]"
   },
   "outputs": [],
   "source": [
    "_my_var = 1\n",
    "print(_my_var)\n",
    "_my_var = _my_var + 5\n",
    "print(_my_var)"
   ]
  },
  {
   "cell_type": "code",
   "execution_count": null,
   "id": "82e21c96",
   "metadata": {
    "slideshow": {
     "slide_type": "subslide"
    }
   },
   "outputs": [],
   "source": [
    "größenmaßstäbe_der_fußgängerübergänge = 0.3\n",
    "größenmaßstäbe_der_fußgängerübergänge"
   ]
  },
  {
   "cell_type": "code",
   "execution_count": null,
   "id": "7cf2c034",
   "metadata": {
    "lines_to_next_cell": 2
   },
   "outputs": [],
   "source": [
    "# me@foo = 1"
   ]
  },
  {
   "cell_type": "code",
   "execution_count": null,
   "id": "90269765",
   "metadata": {
    "lines_to_next_cell": 2,
    "slideshow": {
     "slide_type": "subslide"
    }
   },
   "outputs": [],
   "source": [
    "α = 0.2\n",
    "β = 0.7\n",
    "γ = α**2 + 3 * β**2\n",
    "print(γ)\n",
    "αβγ = α * β * γ\n",
    "print(αβγ)\n",
    "Σ = 1 + 2 + 3\n",
    "print(Σ)\n",
    "# ∑ = 1 + 2 + 3 # Unzulässig!"
   ]
  },
  {
   "cell_type": "markdown",
   "id": "e47bea69",
   "metadata": {
    "lang": "de",
    "slideshow": {
     "slide_type": "subslide"
    }
   },
   "source": [
    "## Mini-Workshop\n",
    "\n",
    "- Notebook `workshop_050_introduction_part1`\n",
    "- Abschnitt \"Piraten\""
   ]
  },
  {
   "cell_type": "markdown",
   "id": "47edd2a4",
   "metadata": {
    "lang": "de",
    "slideshow": {
     "slide_type": "slide"
    }
   },
   "source": [
    "## Zuweisung an mehrere Variablen\n",
    "\n",
    "In Python können mehrere Variablen gleichzeitig definiert bzw. mit neuen\n",
    "Werten versehen werden:"
   ]
  },
  {
   "cell_type": "code",
   "execution_count": null,
   "id": "92e5582c",
   "metadata": {
    "tags": [
     "code-along"
    ]
   },
   "outputs": [],
   "source": []
  },
  {
   "cell_type": "markdown",
   "id": "3a8f4717",
   "metadata": {
    "lang": "de",
    "slideshow": {
     "slide_type": "slide"
    }
   },
   "source": [
    "# Funktionen\n",
    "\n",
    "Wir haben eine Firma zum Einzäunen dreieckiger Grundstücke gegründet.\n",
    "\n",
    "Für jedes von Straßen $A$, $B$ und $C$ begrenze Grundstück berechnen wir:"
   ]
  },
  {
   "cell_type": "code",
   "execution_count": null,
   "id": "a057e880",
   "metadata": {},
   "outputs": [],
   "source": [
    "länge_a = 10  # Beispielwert\n",
    "länge_b = 40  # Beispielwert\n",
    "länge_c = (länge_a**2 + länge_b**2) ** 0.5\n",
    "länge_gesamt = länge_a + länge_b + länge_c\n",
    "print(länge_gesamt)"
   ]
  },
  {
   "cell_type": "markdown",
   "id": "34fa0fc7",
   "metadata": {
    "lang": "de"
   },
   "source": [
    "Können wir das etwas eleganter gestalten?"
   ]
  },
  {
   "cell_type": "markdown",
   "id": "05ccec16",
   "metadata": {
    "lang": "de",
    "slideshow": {
     "slide_type": "subslide"
    }
   },
   "source": [
    "## Satz von Pythagoras\n",
    "\n",
    "Wir berechnen die Länge von $C$ aus $A$ und $B$ immer nach dem Satz von\n",
    "Pythagoras: $C = \\sqrt{A^2 + B^2}$.\n",
    "\n",
    "Das können wir in Python durch eine *Funktion* ausdrücken:"
   ]
  },
  {
   "cell_type": "code",
   "execution_count": null,
   "id": "9a007d44",
   "metadata": {
    "incorrectly_encoded_metadata": "{\"slideshow\": {\"slide_type\": \"subslide\"}} tags=[\"code-along\"]"
   },
   "outputs": [],
   "source": [
    "def pythagoras(a, b):\n",
    "    c = (a**2 + b**2) ** 0.5\n",
    "    return c"
   ]
  },
  {
   "cell_type": "code",
   "execution_count": null,
   "id": "a5ce29c6",
   "metadata": {
    "tags": [
     "code-along"
    ]
   },
   "outputs": [],
   "source": []
  },
  {
   "cell_type": "code",
   "execution_count": null,
   "id": "55a23d16",
   "metadata": {
    "tags": [
     "code-along"
    ]
   },
   "outputs": [],
   "source": []
  },
  {
   "cell_type": "markdown",
   "id": "f1a35579",
   "metadata": {
    "lang": "de",
    "slideshow": {
     "slide_type": "slide"
    }
   },
   "source": [
    "## Funktionsdefinition\n",
    "- Schlüsselwort `def`\n",
    "- Name der Funktion\n",
    "- Parameter der Funktion, in Klammern; Doppelpunkt\n",
    "- Rumpf der Funktion, einen Tabulator eingerückt\n",
    "- Im Rumpf können die Parameter wie Variablen verwendet werden\n",
    "- Schlüsselwort `return`\n",
    "    - Beendet die Funktion\n",
    "    - Bestimmt welcher Wert zurückgegeben wird"
   ]
  },
  {
   "cell_type": "code",
   "execution_count": null,
   "id": "2034c92c",
   "metadata": {
    "incorrectly_encoded_metadata": "{\"slideshow\": {\"slide_type\": \"subslide\"}} tags=[\"code-along\"]"
   },
   "outputs": [],
   "source": [
    "def pythagoras(a, b):\n",
    "    quadratsumme = a**2 + b**2\n",
    "    # We can compute (part of) the return value here\n",
    "    return quadratsumme**0.5"
   ]
  },
  {
   "cell_type": "markdown",
   "id": "33c66622",
   "metadata": {
    "lang": "de",
    "slideshow": {
     "slide_type": "slide"
    }
   },
   "source": [
    "## Funktionsaufruf\n",
    "\n",
    "- Name der Funktion\n",
    "- Argumente des Aufrufs, in Klammern\n",
    "- Ein Argument für jeden Parameter"
   ]
  },
  {
   "cell_type": "code",
   "execution_count": null,
   "id": "e82a6746",
   "metadata": {
    "tags": [
     "code-along"
    ]
   },
   "outputs": [],
   "source": []
  },
  {
   "cell_type": "markdown",
   "id": "04b90035",
   "metadata": {
    "lang": "de",
    "slideshow": {
     "slide_type": "subslide"
    }
   },
   "source": [
    "## Zurück zur Zaunlänge\n",
    "\n",
    "- Wir haben bis jetzt die Länge der dritten Seite unseres Grundstücks berechnet.\n",
    "- Wir brauchen noch eine Funktion, die die Gesamtlänge ausrechnet:"
   ]
  },
  {
   "cell_type": "code",
   "execution_count": null,
   "id": "2183ced4",
   "metadata": {
    "tags": [
     "code-along"
    ]
   },
   "outputs": [],
   "source": []
  },
  {
   "cell_type": "markdown",
   "id": "2ea33393",
   "metadata": {
    "lang": "de",
    "slideshow": {
     "slide_type": "subslide"
    }
   },
   "source": [
    "Damit können wir unser Problem vereinfachen:"
   ]
  },
  {
   "cell_type": "code",
   "execution_count": null,
   "id": "a3e353eb",
   "metadata": {
    "tags": [
     "code-along"
    ]
   },
   "outputs": [],
   "source": []
  },
  {
   "cell_type": "markdown",
   "id": "7c34cd56",
   "metadata": {
    "lang": "de",
    "slideshow": {
     "slide_type": "subslide"
    }
   },
   "source": [
    "## Mini-Workshop\n",
    "\n",
    "- Notebook `workshop_050_introduction_part1`\n",
    "- Abschnitt \"Spenden\"\n"
   ]
  },
  {
   "cell_type": "markdown",
   "id": "5228c51e",
   "metadata": {
    "lang": "de",
    "slideshow": {
     "slide_type": "slide"
    }
   },
   "source": [
    "## Import von Modulen\n",
    "\n",
    "Ein Großteil der Funktionalität von Python ist nicht direkt im Interpreter\n",
    "verfügbar sonder in Module (und Packages) ausgelagert. Mit der `import`\n",
    "Anweisung kann man dises Funktionalität verfügbar machen:"
   ]
  },
  {
   "cell_type": "code",
   "execution_count": null,
   "id": "bbba17bc",
   "metadata": {
    "tags": [
     "code-along"
    ]
   },
   "outputs": [],
   "source": []
  },
  {
   "cell_type": "markdown",
   "id": "f22620d4",
   "metadata": {
    "incorrectly_encoded_metadata": "{\"slideshow\": {\"slide_type\": \"subslide\"}} tags=[\"code-along\"]",
    "lang": "de"
   },
   "source": [
    "Auf die Funktionen aus dem `math` Modul kann man dann mit der Syntax\n",
    "`math.floor` zugreifen:"
   ]
  },
  {
   "cell_type": "code",
   "execution_count": null,
   "id": "25a722b0",
   "metadata": {
    "tags": [
     "code-along"
    ]
   },
   "outputs": [],
   "source": []
  },
  {
   "cell_type": "code",
   "execution_count": null,
   "id": "20b764e5",
   "metadata": {
    "tags": [
     "code-along"
    ]
   },
   "outputs": [],
   "source": []
  },
  {
   "cell_type": "markdown",
   "id": "bfe03621",
   "metadata": {
    "incorrectly_encoded_metadata": "{\"slideshow\": {\"slide_type\": \"subslide\"}} tags=[\"code-along\"]",
    "lang": "de"
   },
   "source": [
    "Die Funktion `pythagoras` steht im `math`-Modul unter dem Namen `hypot`\n",
    "zur Verfügung:"
   ]
  },
  {
   "cell_type": "code",
   "execution_count": null,
   "id": "7988670f",
   "metadata": {
    "tags": [
     "code-along"
    ]
   },
   "outputs": [],
   "source": []
  },
  {
   "cell_type": "markdown",
   "id": "3801026e",
   "metadata": {
    "lang": "de",
    "slideshow": {
     "slide_type": "subslide"
    }
   },
   "source": [
    "Damit können wir die Funktion `gesamtlänge` ohne die Hilfsfunktion\n",
    "`pythagoras` schreiben:"
   ]
  },
  {
   "cell_type": "code",
   "execution_count": null,
   "id": "d263b93c",
   "metadata": {
    "tags": [
     "code-along"
    ]
   },
   "outputs": [],
   "source": []
  },
  {
   "cell_type": "code",
   "execution_count": null,
   "id": "f3d99d62",
   "metadata": {
    "tags": [
     "code-along"
    ]
   },
   "outputs": [],
   "source": []
  },
  {
   "cell_type": "markdown",
   "id": "e253d42f",
   "metadata": {
    "lang": "de",
    "slideshow": {
     "slide_type": "slide"
    }
   },
   "source": [
    "## Andere Arten von Zahlen\n",
    "\n",
    "Python bietet noch weitere Arten von Zahlen für spezielle Anwendungen\n",
    "\n",
    "- Dezimalzahlen mit beliebiger Genauigkeit\n",
    "- Komplexe Zahlen\n",
    "- Ganze Zahlen mit fixer Größe (z.B. mit `numpy`)\n",
    "- Gleitkommazahlen mit unterschiedlicher Größe (`numpy`)"
   ]
  },
  {
   "cell_type": "code",
   "execution_count": null,
   "id": "2086716e",
   "metadata": {
    "incorrectly_encoded_metadata": "{\"slideshow\": {\"slide_type\": \"subslide\"}} tags=[\"code-along\"]"
   },
   "outputs": [],
   "source": [
    "1.1 * 100"
   ]
  },
  {
   "cell_type": "code",
   "execution_count": null,
   "id": "30136da7",
   "metadata": {
    "tags": [
     "code-along"
    ]
   },
   "outputs": [],
   "source": []
  },
  {
   "cell_type": "code",
   "execution_count": null,
   "id": "4f039a19",
   "metadata": {
    "incorrectly_encoded_metadata": "{\"slideshow\": {\"slide_type\": \"subslide\"}} tags=[\"code-along\"]"
   },
   "outputs": [],
   "source": [
    "(1 + 1j) * (1 + 1j)"
   ]
  },
  {
   "cell_type": "code",
   "execution_count": null,
   "id": "b4739988",
   "metadata": {
    "tags": [
     "code-along"
    ]
   },
   "outputs": [],
   "source": []
  },
  {
   "cell_type": "markdown",
   "id": "0b9a94f5",
   "metadata": {
    "lang": "de",
    "slideshow": {
     "slide_type": "slide"
    }
   },
   "source": [
    "## Funktionen ohne Argumente\n",
    "\n",
    "- Eine Funktion kann auch ohne formale Parameter definiert werden.\n",
    "- Sowohl bei der Definition, als auch beim Aufruf müssen die Klammern\n",
    "  trotzdem angegeben werden."
   ]
  },
  {
   "cell_type": "code",
   "execution_count": null,
   "id": "c321eac2",
   "metadata": {
    "incorrectly_encoded_metadata": "{\"slideshow\": {\"slide_type\": \"subslide\"}} tags=[\"code-along\"]"
   },
   "outputs": [],
   "source": [
    "def null():\n",
    "    return 0"
   ]
  },
  {
   "cell_type": "code",
   "execution_count": null,
   "id": "2a35c6a6",
   "metadata": {
    "tags": [
     "code-along"
    ]
   },
   "outputs": [],
   "source": []
  },
  {
   "cell_type": "code",
   "execution_count": null,
   "id": "a19b96bb",
   "metadata": {
    "tags": [
     "code-along"
    ]
   },
   "outputs": [],
   "source": []
  },
  {
   "cell_type": "code",
   "execution_count": null,
   "id": "57abdc9d",
   "metadata": {
    "lines_to_next_cell": 2,
    "tags": [
     "code-along"
    ]
   },
   "outputs": [],
   "source": []
  },
  {
   "cell_type": "markdown",
   "id": "97aa488e",
   "metadata": {
    "lang": "de",
    "slideshow": {
     "slide_type": "slide"
    }
   },
   "source": [
    "# Funktionen mit Seiteneffekten\n",
    "\n",
    "Funktionene können\n",
    "\n",
    "- Werte berechnen: `quadratsumme(3, 4)`\n",
    "- Seiteneffekte haben: `print(\"Hans\")`"
   ]
  },
  {
   "cell_type": "code",
   "execution_count": null,
   "id": "302676d5",
   "metadata": {
    "tags": [
     "code-along"
    ]
   },
   "outputs": [],
   "source": []
  },
  {
   "cell_type": "markdown",
   "id": "5aea00c0",
   "metadata": {
    "lang": "de",
    "slideshow": {
     "slide_type": "subslide"
    }
   },
   "source": [
    "### Der Wert `None`\n",
    "\n",
    "Der Rückgabewert der Funktion `print()` ist der spezielle Wert `None`.\n",
    "- Jupyter druckt `None` nicht als Wert einer Zelle aus:"
   ]
  },
  {
   "cell_type": "code",
   "execution_count": null,
   "id": "061a18e9",
   "metadata": {
    "tags": [
     "code-along"
    ]
   },
   "outputs": [],
   "source": []
  },
  {
   "cell_type": "code",
   "execution_count": null,
   "id": "a53448c0",
   "metadata": {
    "tags": [
     "code-along"
    ]
   },
   "outputs": [],
   "source": []
  },
  {
   "cell_type": "code",
   "execution_count": null,
   "id": "dcafd867",
   "metadata": {
    "tags": [
     "code-along"
    ]
   },
   "outputs": [],
   "source": []
  },
  {
   "cell_type": "markdown",
   "id": "9e2181c3",
   "metadata": {
    "lang": "de",
    "slideshow": {
     "slide_type": "subslide"
    }
   },
   "source": [
    "- Funktionen können Seiteneffekte haben\n",
    "    - Z.B. durch Aufruf von `print`\n",
    "- Diese werden ausgeführt, wenn ein Funktionsaufruf ausgewertet wird\n",
    "- Auch Funktionen mit Seiteneffekten geben einen Wert zurück\n",
    "    - Oft ist das der spezielle Wert `None`\n",
    "    - Wenn eine Funktion `None` zurückgibt brauchen wir keine explizite `return`-Anweisung"
   ]
  },
  {
   "cell_type": "code",
   "execution_count": null,
   "id": "2c906bcd",
   "metadata": {
    "incorrectly_encoded_metadata": "{\"slideshow\": {\"slide_type\": \"subslide\"}} tags=[\"code-along\"]"
   },
   "outputs": [],
   "source": [
    "def say_hello():\n",
    "    print(\"Hello, world!\")\n",
    "    print(\"Today is a great day!\")"
   ]
  },
  {
   "cell_type": "code",
   "execution_count": null,
   "id": "adebf954",
   "metadata": {
    "tags": [
     "code-along"
    ]
   },
   "outputs": [],
   "source": []
  },
  {
   "cell_type": "markdown",
   "id": "838bc5b0",
   "metadata": {
    "lang": "de",
    "slideshow": {
     "slide_type": "subslide"
    }
   },
   "source": [
    "## Mini-Workshop\n",
    "\n",
    "- Notebook `workshop_050_introduction_part1`\n",
    "- Abschnitt \"Piraten, Teil 2\"\n"
   ]
  },
  {
   "cell_type": "markdown",
   "id": "00405768",
   "metadata": {
    "lang": "de",
    "slideshow": {
     "slide_type": "slide"
    }
   },
   "source": [
    "## Default-Argumente\n",
    "\n",
    "Funktionsparameter können einen Default-Wert haben.\n",
    "- Der Default-Wert wird mit der Syntax `parameter=wert` angegeben\n",
    "- Wird das entsprechende Argument nicht übergeben so wird der Default-Wert eingesetzt\n",
    "- Hat ein Parameter einen Default-Wert, so müssen alle rechts davon stehenden Werte ebenfalls einen haben"
   ]
  },
  {
   "cell_type": "code",
   "execution_count": null,
   "id": "83e90edb",
   "metadata": {
    "incorrectly_encoded_metadata": "{\"slideshow\": {\"slide_type\": \"subslide\"}} tags=[\"code-along\"]"
   },
   "outputs": [],
   "source": [
    "def add_weighted(a, b=0, c=0):\n",
    "    return a + 2 * b + 3 * c"
   ]
  },
  {
   "cell_type": "code",
   "execution_count": null,
   "id": "84d61a02",
   "metadata": {
    "tags": [
     "code-along"
    ]
   },
   "outputs": [],
   "source": []
  },
  {
   "cell_type": "markdown",
   "id": "b1224513",
   "metadata": {
    "lang": "de",
    "slideshow": {
     "slide_type": "slide"
    }
   },
   "source": [
    "## Vorsicht mit veränderlichen Default-Argumenten"
   ]
  },
  {
   "cell_type": "code",
   "execution_count": null,
   "id": "015e0117",
   "metadata": {
    "tags": [
     "code-along"
    ]
   },
   "outputs": [],
   "source": []
  },
  {
   "cell_type": "code",
   "execution_count": null,
   "id": "78b6d066",
   "metadata": {
    "tags": [
     "code-along"
    ]
   },
   "outputs": [],
   "source": []
  },
  {
   "cell_type": "code",
   "execution_count": null,
   "id": "9ce1ed58",
   "metadata": {
    "tags": [
     "code-along"
    ]
   },
   "outputs": [],
   "source": []
  },
  {
   "cell_type": "markdown",
   "id": "338b0287",
   "metadata": {
    "lang": "de",
    "slideshow": {
     "slide_type": "slide"
    }
   },
   "source": [
    "\n",
    "Lösung: verwende `Null` als Argument, erzeuge in jedem Aufruf eine neue Liste"
   ]
  },
  {
   "cell_type": "code",
   "execution_count": null,
   "id": "425c9a2b",
   "metadata": {
    "tags": [
     "code-along"
    ]
   },
   "outputs": [],
   "source": []
  },
  {
   "cell_type": "code",
   "execution_count": null,
   "id": "62fab123",
   "metadata": {
    "tags": [
     "code-along"
    ]
   },
   "outputs": [],
   "source": []
  },
  {
   "cell_type": "code",
   "execution_count": null,
   "id": "3d0d7c0f",
   "metadata": {
    "tags": [
     "code-along"
    ]
   },
   "outputs": [],
   "source": []
  },
  {
   "cell_type": "markdown",
   "id": "2238238e",
   "metadata": {
    "lang": "de",
    "slideshow": {
     "slide_type": "slide"
    }
   },
   "source": [
    "## Aufruf mit benannten Argumenten\n",
    "\n",
    "Beim Aufruf einer Funktion kann der Parametername in der Form `parameter=wert`\n",
    "angegeben werden.\n",
    "- Der entsprechende Wert wird dann für den benannten Parameter eingesetzt\n",
    "- Werden alle Parameter benannt, so wird der Aufruf unabhängig von der\n",
    "  Parameterreihenfolge"
   ]
  },
  {
   "cell_type": "code",
   "execution_count": null,
   "id": "0bc184d6",
   "metadata": {
    "incorrectly_encoded_metadata": "{\"slideshow\": {\"slide_type\": \"subslide\"}} tags=[\"code-along\"]"
   },
   "outputs": [],
   "source": [
    "def say_hi(person, greeting=\"Hi\"):\n",
    "    print(greeting, \" \", person, \"!\", sep=\"\")"
   ]
  },
  {
   "cell_type": "code",
   "execution_count": null,
   "id": "e4f16f08",
   "metadata": {
    "tags": [
     "code-along"
    ]
   },
   "outputs": [],
   "source": []
  },
  {
   "cell_type": "code",
   "execution_count": null,
   "id": "4e7653f0",
   "metadata": {
    "tags": [
     "code-along"
    ]
   },
   "outputs": [],
   "source": []
  },
  {
   "cell_type": "code",
   "execution_count": null,
   "id": "24c3fc11",
   "metadata": {
    "incorrectly_encoded_metadata": "{\"slideshow\": {\"slide_type\": \"subslide\"}} tags=[\"code-along\"]"
   },
   "outputs": [],
   "source": [
    "def add_weighted(a, b=0, c=0):\n",
    "    return a + 2 * b + 3 * c"
   ]
  },
  {
   "cell_type": "code",
   "execution_count": null,
   "id": "7b79c527",
   "metadata": {
    "incorrectly_encoded_metadata": "{\"slideshow\": {\"slide_type\": \"subslide\"}} tags=[\"code-along\"]"
   },
   "outputs": [],
   "source": [
    "add_weighted(c=2, a=1)"
   ]
  },
  {
   "cell_type": "code",
   "execution_count": null,
   "id": "8e1488e2",
   "metadata": {
    "tags": [
     "code-along"
    ]
   },
   "outputs": [],
   "source": []
  },
  {
   "cell_type": "markdown",
   "id": "bab4330d",
   "metadata": {
    "lang": "de",
    "slideshow": {
     "slide_type": "slide"
    }
   },
   "source": [
    "## Typannotationen\n",
    "\n",
    "Python erlaubt es die Typen von Funktionsargumenten und den Rückgabetyp einer\n",
    "Funktion anzugeben:"
   ]
  },
  {
   "cell_type": "code",
   "execution_count": null,
   "id": "b2dd2210",
   "metadata": {
    "tags": [
     "code-along"
    ]
   },
   "outputs": [],
   "source": []
  },
  {
   "cell_type": "code",
   "execution_count": null,
   "id": "31382957",
   "metadata": {
    "tags": [
     "code-along"
    ]
   },
   "outputs": [],
   "source": []
  },
  {
   "cell_type": "markdown",
   "id": "48a5ba33",
   "metadata": {
    "lang": "de",
    "slideshow": {
     "slide_type": "subslide"
    }
   },
   "source": [
    "Typannotationen dienen lediglich zur Dokumentation und werden von Python ignoriert:"
   ]
  },
  {
   "cell_type": "code",
   "execution_count": null,
   "id": "bc26dcac",
   "metadata": {
    "tags": [
     "code-along"
    ]
   },
   "outputs": [],
   "source": []
  },
  {
   "cell_type": "markdown",
   "id": "d6303418",
   "metadata": {
    "lang": "de",
    "slideshow": {
     "slide_type": "subslide"
    }
   },
   "source": [
    "Typannotationen können parametrische Typen, optionale Typen, etc. enthalten.\n",
    "(*Hinweis:* in älteren Python Versionen kann `list` keine Typparameter\n",
    "erhalten.)"
   ]
  },
  {
   "cell_type": "code",
   "execution_count": null,
   "id": "463ccdd9",
   "metadata": {
    "tags": [
     "code-along"
    ]
   },
   "outputs": [],
   "source": []
  },
  {
   "cell_type": "code",
   "execution_count": null,
   "id": "d75384ff",
   "metadata": {
    "incorrectly_encoded_metadata": "{\"slideshow\": {\"slide_type\": \"subslide\"}} tags=[\"code-along\"]"
   },
   "outputs": [],
   "source": [
    "my_list = [1, 2, 3]\n",
    "my_append(my_list, None)\n",
    "my_list"
   ]
  },
  {
   "cell_type": "code",
   "execution_count": null,
   "id": "b6bd7b5d",
   "metadata": {
    "tags": [
     "code-along"
    ]
   },
   "outputs": [],
   "source": []
  },
  {
   "cell_type": "markdown",
   "id": "05957a07",
   "metadata": {
    "lang": "de",
    "slideshow": {
     "slide_type": "slide"
    }
   },
   "source": [
    "## Docstrings\n",
    "\n",
    "Jede Funktion in Python kann dokumentiert werden, indem ein String-Literal als\n",
    "erstes Element im Rumpf angegeben wird. Meistens wird dafür ein `\"\"\"`-String\n",
    "verwendet:"
   ]
  },
  {
   "cell_type": "code",
   "execution_count": null,
   "id": "df982bc2",
   "metadata": {
    "incorrectly_encoded_metadata": "{\"slideshow\": {\"slide_type\": \"subslide\"}} tags=[\"code-along\"]"
   },
   "outputs": [],
   "source": [
    "def my_fun(x):\n",
    "    \"\"\"\n",
    "    Zeigt dem Benutzer den Wert von x an\n",
    "\n",
    "    Verwendung:\n",
    "    >>> my_fun(123)\n",
    "    \"\"\"\n",
    "    print(\"Das Argument x hat den Wert\", x)"
   ]
  },
  {
   "cell_type": "code",
   "execution_count": null,
   "id": "f507a246",
   "metadata": {
    "tags": [
     "code-along"
    ]
   },
   "outputs": [],
   "source": []
  },
  {
   "cell_type": "markdown",
   "id": "b85cd53a",
   "metadata": {
    "lang": "de",
    "slideshow": {
     "slide_type": "subslide"
    }
   },
   "source": [
    "Konventionen für Docstrings finden sich in\n",
    "[PEP 257](https://www.python.org/dev/peps/pep-0257/)."
   ]
  },
  {
   "cell_type": "markdown",
   "id": "9c419feb",
   "metadata": {
    "lang": "de",
    "slideshow": {
     "slide_type": "subslide"
    }
   },
   "source": [
    "Der Docstring einer Funktion kann mit `help()` ausgegeben werden:"
   ]
  },
  {
   "cell_type": "code",
   "execution_count": null,
   "id": "c3f53b02",
   "metadata": {
    "tags": [
     "code-along"
    ]
   },
   "outputs": [],
   "source": []
  },
  {
   "cell_type": "markdown",
   "id": "c5a632fb",
   "metadata": {
    "lang": "de",
    "slideshow": {
     "slide_type": "subslide"
    }
   },
   "source": [
    "In Jupyter kann man den Docstring einer Funktion durch ein vorangestelltes\n",
    "oder nachgestelltes Fragezeichen anzeigen lassen:"
   ]
  },
  {
   "cell_type": "code",
   "execution_count": null,
   "id": "342a19fa",
   "metadata": {
    "lines_to_next_cell": 2,
    "tags": [
     "code-along"
    ]
   },
   "outputs": [],
   "source": []
  },
  {
   "cell_type": "code",
   "execution_count": null,
   "id": "852554b5",
   "metadata": {
    "lines_to_next_cell": 2,
    "tags": [
     "code-along"
    ]
   },
   "outputs": [],
   "source": []
  },
  {
   "cell_type": "markdown",
   "id": "817bed00",
   "metadata": {
    "lang": "de",
    "slideshow": {
     "slide_type": "subslide"
    }
   },
   "source": [
    "Oft verwendet man statt dessen Shift-Tab:"
   ]
  },
  {
   "cell_type": "code",
   "execution_count": null,
   "id": "630b5421",
   "metadata": {
    "tags": [
     "code-along"
    ]
   },
   "outputs": [],
   "source": []
  },
  {
   "cell_type": "markdown",
   "id": "c6268e89",
   "metadata": {
    "lang": "de",
    "slideshow": {
     "slide_type": "subslide"
    }
   },
   "source": [
    "Bei Funktionen mit langen Docstrings kann man durch zweimaliges Drücken von `Shift-Tab` auf die ausführliche Anzeigeform umschalten:"
   ]
  },
  {
   "cell_type": "code",
   "execution_count": null,
   "id": "af8deba6",
   "metadata": {
    "tags": [
     "code-along"
    ]
   },
   "outputs": [],
   "source": []
  },
  {
   "cell_type": "code",
   "execution_count": null,
   "id": "69c1a7df",
   "metadata": {
    "tags": [
     "code-along"
    ]
   },
   "outputs": [],
   "source": []
  },
  {
   "cell_type": "markdown",
   "id": "59295db5",
   "metadata": {
    "lang": "de",
    "slideshow": {
     "slide_type": "subslide"
    }
   },
   "source": [
    "## Signatur\n",
    "\n",
    "Die Anzahl, Namen, Default-Werte (und evtl. Typen) einer Funktion sowie ihren Rückgabetyp nennt man\n",
    "ihre *Signatur*.\n",
    "\n",
    "Jupyter zeigt u.a. die Signatur einer Funktion an, wenn man `Shift-Tab`\n",
    "eingibt:"
   ]
  },
  {
   "cell_type": "code",
   "execution_count": null,
   "id": "e856aa06",
   "metadata": {
    "tags": [
     "code-along"
    ]
   },
   "outputs": [],
   "source": []
  },
  {
   "cell_type": "code",
   "execution_count": null,
   "id": "126db6a8",
   "metadata": {
    "tags": [
     "code-along"
    ]
   },
   "outputs": [],
   "source": []
  },
  {
   "cell_type": "code",
   "execution_count": null,
   "id": "8de3f37e",
   "metadata": {
    "tags": [
     "code-along"
    ]
   },
   "outputs": [],
   "source": []
  }
 ],
 "metadata": {
  "jupytext": {
   "cell_metadata_json": true,
   "encoding": "# -*- coding: utf-8 -*-",
   "formats": "ipynb"
  },
  "kernelspec": {
   "display_name": "Python 3 (ipykernel)",
   "language": "python",
   "name": "python3"
  }
 },
 "nbformat": 4,
 "nbformat_minor": 5
}
