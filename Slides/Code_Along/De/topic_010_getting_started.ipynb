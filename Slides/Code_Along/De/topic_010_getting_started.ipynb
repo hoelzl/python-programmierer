{
 "cells": [
  {
   "cell_type": "markdown",
   "id": "c9c8a7af",
   "metadata": {
    "lang": "de",
    "slideshow": {
     "slide_type": "slide"
    }
   },
   "source": [
    "<img src=\"img/python-logo-notext.svg\"\n",
    "     style=\"display:block;margin:auto;width:10%\"/>\n",
    "<br>\n",
    "<div style=\"text-align:center; font-size:200%;\"><b>Erste Schritte mit Python</b></div>\n",
    "<br/>\n",
    "<div style=\"text-align:center;\">Dr. Matthias Hölzl</div>"
   ]
  },
  {
   "cell_type": "markdown",
   "id": "5ba40284",
   "metadata": {
    "lang": "de",
    "slideshow": {
     "slide_type": "slide"
    }
   },
   "source": [
    "# Einführung\n",
    "\n",
    "- Ausführung von Python Code\n",
    "- Notebooks und Entwicklungsumgebungen\n",
    "- Umgang mit Notebooks"
   ]
  },
  {
   "cell_type": "markdown",
   "id": "d56dccec",
   "metadata": {
    "lang": "de",
    "slideshow": {
     "slide_type": "slide"
    }
   },
   "source": [
    "## Python Interpreter und Jupyter Notebooks\n",
    "\n",
    "Wir beginnen mit einer kurzen Einführung in die Arbeitsweise von Python und\n",
    "Jupyter Notebooks."
   ]
  },
  {
   "cell_type": "markdown",
   "id": "823d3d45",
   "metadata": {
    "lang": "de",
    "slideshow": {
     "slide_type": "subslide"
    }
   },
   "source": [
    "## Compiler (C++)\n",
    "\n",
    "<img src=\"img/compiler.svg\" style=\"width:60%;margin:auto\"/>"
   ]
  },
  {
   "cell_type": "markdown",
   "id": "6a88ecef",
   "metadata": {
    "lang": "de",
    "slideshow": {
     "slide_type": "subslide"
    }
   },
   "source": [
    "## Interpreter (Python)\n",
    "\n",
    "<img src=\"img/interpreter.svg\" style=\"width:60%;margin:auto\"/>\n"
   ]
  },
  {
   "cell_type": "markdown",
   "id": "0835fe2f",
   "metadata": {
    "lang": "de",
    "slideshow": {
     "slide_type": "subslide"
    }
   },
   "source": [
    "## Jupyter Notebooks\n",
    "\n",
    "<img src=\"img/jupyter-notebook.svg\" style=\"width:60%;margin:auto\"/>"
   ]
  },
  {
   "cell_type": "code",
   "execution_count": null,
   "id": "7f407458",
   "metadata": {
    "lines_to_next_cell": 2,
    "slideshow": {
     "slide_type": "subslide"
    }
   },
   "outputs": [],
   "source": [
    "import numpy as np\n",
    "import matplotlib.pyplot as plt\n",
    "\n",
    "page_load_time = np.random.normal(3.0, 1.0, 1000)\n",
    "purchase_amount = np.random.normal(50.0, 1.5, 1000) - page_load_time\n",
    "\n",
    "plt.figure(figsize=(12, 8))\n",
    "plt.scatter(page_load_time, purchase_amount)"
   ]
  },
  {
   "cell_type": "markdown",
   "id": "33893e6c",
   "metadata": {
    "lang": "de",
    "slideshow": {
     "slide_type": "slide"
    }
   },
   "source": [
    "## Entwicklungsumgebungen\n",
    "\n",
    "- Visual Studio Code\n",
    "- PyCharm\n",
    "- Vim/Emacs/... + interaktive Shell"
   ]
  },
  {
   "cell_type": "markdown",
   "id": "7acb1840",
   "metadata": {
    "lang": "de",
    "slideshow": {
     "slide_type": "slide"
    }
   },
   "source": [
    "## Arbeiten mit Notebooks\n",
    "\n",
    "- Kommando- und Edit-Modus\n",
    "- Einige Tastaturkürzel"
   ]
  },
  {
   "cell_type": "code",
   "execution_count": null,
   "id": "28dadb92",
   "metadata": {},
   "outputs": [],
   "source": []
  }
 ],
 "metadata": {
  "jupytext": {
   "cell_metadata_json": true,
   "formats": "ipynb"
  },
  "kernelspec": {
   "display_name": "Python 3 (ipykernel)",
   "language": "python",
   "name": "python3"
  }
 },
 "nbformat": 4,
 "nbformat_minor": 5
}
