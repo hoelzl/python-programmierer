{
 "cells": [
  {
   "cell_type": "markdown",
   "id": "a61ce785",
   "metadata": {
    "lang": "de",
    "slideshow": {
     "slide_type": "slide"
    }
   },
   "source": [
    "<img src=\"img/python-logo-notext.svg\"\n",
    "     style=\"display:block;margin:auto;width:10%\"/>\n",
    "<br>\n",
    "<div style=\"text-align:center; font-size:200%;\"><b>Objektorientierung Teil 2: Vererbung</b></div>\n",
    "<br/>\n",
    "<div style=\"text-align:center;\">Dr. Matthias Hölzl</div>"
   ]
  },
  {
   "cell_type": "markdown",
   "id": "42c872ce",
   "metadata": {
    "lang": "de",
    "slideshow": {
     "slide_type": "slide"
    }
   },
   "source": [
    "\n",
    " # Objektorientierung Teil 2\n",
    "\n",
    " - Wir haben im vorherigen Kapitel Klassen kennengelernt, einen der grundlegenden Baustein der objektorientierten Programmierung\n",
    " - In diesem Kapitel werden wir Vererbung betrachten."
   ]
  },
  {
   "cell_type": "markdown",
   "id": "5cd320b4",
   "metadata": {
    "lang": "de",
    "slideshow": {
     "slide_type": "subslide"
    }
   },
   "source": [
    " ## Vererbung"
   ]
  },
  {
   "cell_type": "code",
   "execution_count": 2,
   "id": "d5acfe4e",
   "metadata": {},
   "outputs": [],
   "source": [
    "import random\n",
    "from typing import Tuple\n",
    "\n",
    "\n",
    "class Point:\n",
    "    def __init__(self, x=0, y=0):\n",
    "        self.x = x\n",
    "        self.y = y\n",
    "\n",
    "    def __repr__(self):\n",
    "        return f\"Point({self.x:.1f}, {self.y:.1f})\"\n",
    "\n",
    "    def move(self, dx=0, dy=0):\n",
    "        self.x += dx\n",
    "        self.y += dy\n",
    "\n",
    "    def randomize(self):\n",
    "        self.x = random.gauss(2, 4)\n",
    "        self.y = random.gauss(3, 2)"
   ]
  },
  {
   "cell_type": "code",
   "execution_count": 3,
   "id": "1c08a82f",
   "metadata": {},
   "outputs": [
    {
     "data": {
      "text/plain": [
       "Point(0.0, 0.0)"
      ]
     },
     "execution_count": 3,
     "metadata": {},
     "output_type": "execute_result"
    }
   ],
   "source": [
    "p = Point(0, 0)\n",
    "p"
   ]
  },
  {
   "cell_type": "code",
   "execution_count": 4,
   "id": "d482d344",
   "metadata": {},
   "outputs": [],
   "source": [
    "assert p.x == 0.0\n",
    "assert p.y == 0.0"
   ]
  },
  {
   "cell_type": "code",
   "execution_count": 5,
   "id": "f6246516",
   "metadata": {},
   "outputs": [
    {
     "data": {
      "text/plain": [
       "Point(2.0, 3.0)"
      ]
     },
     "execution_count": 5,
     "metadata": {},
     "output_type": "execute_result"
    }
   ],
   "source": [
    "p.move(2, 3)\n",
    "p"
   ]
  },
  {
   "cell_type": "code",
   "execution_count": 6,
   "id": "0f123eb9",
   "metadata": {},
   "outputs": [],
   "source": [
    "assert p.x == 2.0\n",
    "assert p.y == 3.0"
   ]
  },
  {
   "cell_type": "code",
   "execution_count": 16,
   "id": "e3028d74",
   "metadata": {},
   "outputs": [
    {
     "data": {
      "text/plain": [
       "Point(0.2, 0.8)"
      ]
     },
     "execution_count": 16,
     "metadata": {},
     "output_type": "execute_result"
    }
   ],
   "source": [
    "p.randomize()\n",
    "p"
   ]
  },
  {
   "cell_type": "markdown",
   "id": "1c1464ad",
   "metadata": {
    "lang": "de",
    "slideshow": {
     "slide_type": "subslide"
    }
   },
   "source": [
    "Wie können wir farbige Punkte einführen, ohne die komplette Funktionalität von `Point` neu implementieren zu müssen?"
   ]
  },
  {
   "cell_type": "code",
   "execution_count": null,
   "id": "111c4f35",
   "metadata": {
    "tags": [
     "code-along"
    ]
   },
   "outputs": [],
   "source": [
    "class ColorPoint(Point):\n",
    "    pass"
   ]
  },
  {
   "cell_type": "code",
   "execution_count": null,
   "id": "a48402fe",
   "metadata": {
    "lines_to_next_cell": 2,
    "tags": [
     "code-along"
    ]
   },
   "outputs": [],
   "source": []
  },
  {
   "cell_type": "code",
   "execution_count": null,
   "id": "ff16b10c",
   "metadata": {
    "tags": [
     "code-along"
    ]
   },
   "outputs": [],
   "source": []
  },
  {
   "cell_type": "code",
   "execution_count": null,
   "id": "16fe0acb",
   "metadata": {
    "lines_to_next_cell": 2,
    "tags": [
     "code-along"
    ]
   },
   "outputs": [],
   "source": []
  },
  {
   "cell_type": "code",
   "execution_count": null,
   "id": "573c879d",
   "metadata": {
    "tags": [
     "code-along"
    ]
   },
   "outputs": [],
   "source": []
  },
  {
   "cell_type": "code",
   "execution_count": null,
   "id": "ad2641fe",
   "metadata": {
    "lines_to_next_cell": 2,
    "tags": [
     "code-along"
    ]
   },
   "outputs": [],
   "source": []
  },
  {
   "cell_type": "markdown",
   "id": "088c20ff",
   "metadata": {
    "lang": "de",
    "slideshow": {
     "slide_type": "subslide"
    }
   },
   "source": [
    "\n",
    " ## Mini-Workshop\n",
    "\n",
    " - Notebook `workshop_190_inheritance`\n",
    " - Abschnitt \"Vererbung\"\n"
   ]
  },
  {
   "cell_type": "markdown",
   "id": "8516fe47",
   "metadata": {
    "lang": "de",
    "slideshow": {
     "slide_type": "slide"
    }
   },
   "source": [
    "## Abstrakte Klassen\n",
    "\n",
    "- Klassen von denen keine direkte Instanz erzeugt werden kann\n",
    "- Haben die Klasse `abc.ABC` als Basisklasse\n",
    "    - (Eigentlich ist eine Metaklasse verantwortlich für das Verhalten)\n",
    "- Erlauben die Verwendung des `@abstractmethod` Dekorators um abstrakte Methoden zu definieren\n",
    "    - Der Rumpf einer abstrakten Methode ist oft `...`\n",
    "- Abstrakte Klassen, die nur abstrakte Methoden haben nennt man Interfaces\n",
    "    - Interfaces beschreiben Anforderungen an ihre Unterklassen"
   ]
  },
  {
   "cell_type": "code",
   "execution_count": null,
   "id": "b4e6bdb5",
   "metadata": {
    "tags": [
     "code-along"
    ]
   },
   "outputs": [],
   "source": []
  },
  {
   "cell_type": "code",
   "execution_count": null,
   "id": "23cd88e5",
   "metadata": {
    "slideshow": {
     "slide_type": "subslide"
    },
    "tags": [
     "code-along"
    ]
   },
   "outputs": [],
   "source": []
  },
  {
   "cell_type": "code",
   "execution_count": null,
   "id": "9148b05c",
   "metadata": {
    "tags": [
     "code-along"
    ]
   },
   "outputs": [],
   "source": []
  },
  {
   "cell_type": "code",
   "execution_count": null,
   "id": "f3fe6b86",
   "metadata": {
    "tags": [
     "code-along"
    ]
   },
   "outputs": [],
   "source": []
  },
  {
   "cell_type": "markdown",
   "id": "49a4bd7c",
   "metadata": {
    "lang": "de",
    "slideshow": {
     "slide_type": "subslide"
    }
   },
   "source": [
    "- Abstrakte Methoden können eine Implementierung haben\n",
    "- Klassen, die von einer abstrakten Klasse erben aber nicht alle abstrakten Methoden überschreiben sind selber abstrakt."
   ]
  },
  {
   "cell_type": "code",
   "execution_count": null,
   "id": "672aaaa3",
   "metadata": {
    "tags": [
     "code-along"
    ]
   },
   "outputs": [],
   "source": []
  },
  {
   "cell_type": "code",
   "execution_count": null,
   "id": "f7b0b245",
   "metadata": {
    "lines_to_next_cell": 2,
    "tags": [
     "code-along"
    ]
   },
   "outputs": [],
   "source": []
  },
  {
   "cell_type": "code",
   "execution_count": null,
   "id": "2b22ab18",
   "metadata": {
    "lines_to_next_cell": 2,
    "tags": [
     "code-along"
    ]
   },
   "outputs": [],
   "source": []
  },
  {
   "cell_type": "code",
   "execution_count": null,
   "id": "3a0b4f57",
   "metadata": {
    "tags": [
     "code-along"
    ]
   },
   "outputs": [],
   "source": []
  },
  {
   "cell_type": "code",
   "execution_count": null,
   "id": "6fb6c221",
   "metadata": {
    "lines_to_next_cell": 2,
    "tags": [
     "code-along"
    ]
   },
   "outputs": [],
   "source": []
  },
  {
   "cell_type": "markdown",
   "id": "9196adf4",
   "metadata": {
    "lang": "de",
    "lines_to_next_cell": 2,
    "slideshow": {
     "slide_type": "subslide"
    }
   },
   "source": [
    "# Workshop\n",
    "\n",
    "Siehe `workshop_950_rpg_dice` bis `Factory für RPG-Würfel`."
   ]
  },
  {
   "cell_type": "markdown",
   "id": "9e9315ab",
   "metadata": {
    "lang": "de"
   },
   "source": [
    "## RPG-Würfel\n",
    "\n",
    "In Rollenspielen werden Konflikte zwischen Spielern oft durch Würfeln\n",
    "entschieden. Dabei werden oft mehrere Würfel gleichzeitig verwendet. Außerdem\n",
    "werden nicht nur die bekannten 6-seitigen Würfel verwendet, sondern auch\n",
    "4-seitige, 8-seitige, 20-seitige Würfel, etc.\n",
    "\n",
    "Die Anzahl und Art der Würfel wird dabei durch folgende Notation beschrieben:\n",
    "\n",
    "```text\n",
    "<Anzahl der Würfel> d <Seiten pro Würfel>\n",
    "```\n",
    "\n",
    "Zum Beispiel wird das Würfeln mit zwei 6-seitigen Würfeln als `2d6`\n",
    "beschrieben. Manchmal werden auch komplexere Formeln verwendet: \n",
    "`3d20 + 2d6 - 4` bedeutet, dass gleichzeitig drei 20-seitige Würfel und zwei 6-seitige\n",
    "Würfel geworfen werden und die Gesamtsumme der Augenzahlen dann um 4\n",
    "verringert wird.\n",
    "\n",
    "In manchen Spielen wird das Werfen der niedrigsten oder höchsten Augenzahl\n",
    "besonders behandelt (\"katastrophale Niederlage\", \"kritischer Erfolg\").\n",
    "\n",
    "In den folgenden Aufgaben sollen Sie derartige RPG-Würfel in Python\n",
    "implementieren. Um Ihre Implementierung testen zu können empfiehlt es sich\n",
    "sie in einem IDE zu realisieren. \n",
    "\n",
    "Schreiben Sie Tests für jede Funktionalität, die Sie implementieren.\n",
    "Wie können Sie beim Testen mit der Zufälligkeit beim Würfeln umgehen?\n",
    "Was sind Stärken bzw. Schwächen der von Ihnen gewählten Teststrategie?"
   ]
  },
  {
   "cell_type": "markdown",
   "id": "6fa8a7f6",
   "metadata": {
    "lang": "de"
   },
   "source": [
    "# Protokolle\n",
    "\n",
    "Durch Protokolle unterstützt Python strukturelles Subtyping, bei dem Subtyp-Beziehungen aus der Struktur der Klassen erschlossen werden (im Gegensatz zum nominalen Subtyping bei dem die Beziehungen explizit deklariert werden müssen)."
   ]
  },
  {
   "cell_type": "code",
   "execution_count": null,
   "id": "2c6b9a5d",
   "metadata": {
    "tags": [
     "code-along"
    ]
   },
   "outputs": [],
   "source": []
  },
  {
   "cell_type": "code",
   "execution_count": null,
   "id": "8d73b9c2",
   "metadata": {
    "tags": [
     "code-along"
    ]
   },
   "outputs": [],
   "source": []
  },
  {
   "cell_type": "code",
   "execution_count": null,
   "id": "a291ae6c",
   "metadata": {
    "tags": [
     "code-along"
    ]
   },
   "outputs": [],
   "source": []
  },
  {
   "cell_type": "code",
   "execution_count": null,
   "id": "357c8920",
   "metadata": {
    "tags": [
     "code-along"
    ]
   },
   "outputs": [],
   "source": []
  },
  {
   "cell_type": "code",
   "execution_count": null,
   "id": "cfa790b0",
   "metadata": {
    "tags": [
     "code-along"
    ]
   },
   "outputs": [],
   "source": []
  },
  {
   "cell_type": "code",
   "execution_count": null,
   "id": "9104c35d",
   "metadata": {
    "tags": [
     "code-along"
    ]
   },
   "outputs": [],
   "source": []
  },
  {
   "cell_type": "code",
   "execution_count": null,
   "id": "5da3dc31",
   "metadata": {
    "tags": [
     "code-along"
    ]
   },
   "outputs": [],
   "source": []
  },
  {
   "cell_type": "code",
   "execution_count": null,
   "id": "0f590743",
   "metadata": {
    "tags": [
     "code-along"
    ]
   },
   "outputs": [],
   "source": []
  },
  {
   "cell_type": "code",
   "execution_count": null,
   "id": "41f1bc5f",
   "metadata": {
    "tags": [
     "code-along"
    ]
   },
   "outputs": [],
   "source": []
  },
  {
   "cell_type": "code",
   "execution_count": null,
   "id": "8e9985b6",
   "metadata": {
    "tags": [
     "code-along"
    ]
   },
   "outputs": [],
   "source": []
  },
  {
   "cell_type": "code",
   "execution_count": null,
   "id": "d1994933",
   "metadata": {
    "tags": [
     "code-along"
    ]
   },
   "outputs": [],
   "source": []
  },
  {
   "cell_type": "code",
   "execution_count": null,
   "id": "76f41836",
   "metadata": {
    "tags": [
     "code-along"
    ]
   },
   "outputs": [],
   "source": []
  },
  {
   "cell_type": "code",
   "execution_count": null,
   "id": "8e46883b",
   "metadata": {
    "tags": [
     "code-along"
    ]
   },
   "outputs": [],
   "source": []
  },
  {
   "cell_type": "code",
   "execution_count": null,
   "id": "abb41ed2",
   "metadata": {
    "tags": [
     "code-along"
    ]
   },
   "outputs": [],
   "source": []
  },
  {
   "cell_type": "code",
   "execution_count": null,
   "id": "0f93ef52",
   "metadata": {
    "tags": [
     "code-along"
    ]
   },
   "outputs": [],
   "source": []
  },
  {
   "cell_type": "code",
   "execution_count": null,
   "id": "32155186",
   "metadata": {
    "tags": [
     "code-along"
    ]
   },
   "outputs": [],
   "source": []
  },
  {
   "cell_type": "code",
   "execution_count": null,
   "id": "f3f67780",
   "metadata": {
    "tags": [
     "code-along"
    ]
   },
   "outputs": [],
   "source": []
  },
  {
   "cell_type": "code",
   "execution_count": null,
   "id": "0b4f09e8",
   "metadata": {
    "tags": [
     "code-along"
    ]
   },
   "outputs": [],
   "source": []
  },
  {
   "cell_type": "code",
   "execution_count": null,
   "id": "614cc5e9",
   "metadata": {
    "tags": [
     "code-along"
    ]
   },
   "outputs": [],
   "source": []
  },
  {
   "cell_type": "code",
   "execution_count": null,
   "id": "0908f164",
   "metadata": {
    "tags": [
     "code-along"
    ]
   },
   "outputs": [],
   "source": []
  },
  {
   "cell_type": "markdown",
   "id": "e7675fc3",
   "metadata": {
    "lang": "de",
    "slideshow": {
     "slide_type": "subslide"
    }
   },
   "source": [
    "\n",
    " ## Mini-Workshop\n",
    "\n",
    " - Notebook `workshop_190_inheritance`\n",
    " - Abschnitt \"Vererbung\"\n"
   ]
  },
  {
   "cell_type": "markdown",
   "id": "ff6db474",
   "metadata": {
    "lang": "de"
   },
   "source": [
    "## Single Dispatch Funktionen\n",
    "\n",
    "Single Dispatch Funktionen erlauben die definition von \"Methoden\" außerhalb von Klassen, d.h., man kann Funktionen definieren, die polymorph in ihrem ersten Argument sind.\n",
    "\n",
    "Dieser Mechanismus erlaubt die flexible Erweiterung von bereits existierenden Klassen."
   ]
  },
  {
   "cell_type": "code",
   "execution_count": null,
   "id": "35a46272",
   "metadata": {
    "tags": [
     "code-along"
    ]
   },
   "outputs": [],
   "source": []
  },
  {
   "cell_type": "code",
   "execution_count": null,
   "id": "8aef053e",
   "metadata": {
    "tags": [
     "code-along"
    ]
   },
   "outputs": [],
   "source": []
  },
  {
   "cell_type": "code",
   "execution_count": null,
   "id": "d5178c06",
   "metadata": {
    "tags": [
     "code-along"
    ]
   },
   "outputs": [],
   "source": []
  },
  {
   "cell_type": "code",
   "execution_count": null,
   "id": "1bd82628",
   "metadata": {
    "tags": [
     "code-along"
    ]
   },
   "outputs": [],
   "source": []
  },
  {
   "cell_type": "code",
   "execution_count": null,
   "id": "7ddea970",
   "metadata": {
    "tags": [
     "code-along"
    ]
   },
   "outputs": [],
   "source": []
  },
  {
   "cell_type": "code",
   "execution_count": null,
   "id": "780dec2e",
   "metadata": {
    "tags": [
     "code-along"
    ]
   },
   "outputs": [],
   "source": []
  },
  {
   "cell_type": "code",
   "execution_count": null,
   "id": "9852451f",
   "metadata": {
    "tags": [
     "code-along"
    ]
   },
   "outputs": [],
   "source": []
  },
  {
   "cell_type": "markdown",
   "id": "f84e129c",
   "metadata": {
    "lang": "de",
    "lines_to_next_cell": 2,
    "slideshow": {
     "slide_type": "slide"
    }
   },
   "source": [
    "## Mehrfachvererbung"
   ]
  },
  {
   "cell_type": "code",
   "execution_count": null,
   "id": "b49eb680",
   "metadata": {},
   "outputs": [],
   "source": [
    "class A:\n",
    "    \"\"\"Superclass of everything\"\"\"\n",
    "    def __init__(self, arg_a=\"arg_a\", **kwargs):\n",
    "        super().__init__(**kwargs)\n",
    "        print(f\"__init__(A, {arg_a})\")\n",
    "    \n",
    "    def f(self):\n",
    "        print(f\"f(A) on {self!r}\")\n",
    "\n",
    "    def g(self):\n",
    "        print(f\"g(A) on {self!r}\")"
   ]
  },
  {
   "cell_type": "code",
   "execution_count": null,
   "id": "265b0189",
   "metadata": {},
   "outputs": [],
   "source": [
    "class B(A):\n",
    "    def __init__(self, arg_b=\"arg_b\", **kwargs):\n",
    "        super().__init__(**kwargs)\n",
    "        print(f\"__init__(B, {arg_b})\")\n",
    "\n",
    "    def f(self):\n",
    "        print(f\"f(B) on {self!r}\")\n",
    "        super().f()\n",
    "\n",
    "    def g(self):\n",
    "        print(f\"g(B) on {self!r}\")\n",
    "        A.g(self)"
   ]
  },
  {
   "cell_type": "code",
   "execution_count": null,
   "id": "e409082c",
   "metadata": {},
   "outputs": [],
   "source": [
    "class C(A):\n",
    "    def __init__(self, arg_c=\"arg_c\", **kwargs):\n",
    "        super().__init__(**kwargs)\n",
    "        print(f\"__init__(C, {arg_c})\")\n",
    "    \n",
    "    def f(self):\n",
    "        print(f\"f(C) on {self!r}\")\n",
    "        super().f()\n",
    "\n",
    "    def g(self):\n",
    "        print(f\"g(C) on {self!r}\")\n",
    "        A.g(self)"
   ]
  },
  {
   "cell_type": "code",
   "execution_count": null,
   "id": "e31ec87b",
   "metadata": {},
   "outputs": [],
   "source": [
    "class D(B, C):\n",
    "    def __init__(self, arg_d=\"arg_d\", **kwargs):\n",
    "        super().__init__(**kwargs)\n",
    "        print(f\"__init__(D, {arg_d})\")\n",
    "    \n",
    "    def f(self):\n",
    "        print(f\"f(D) on {self!r}\")\n",
    "        super().f()\n",
    "\n",
    "    def g(self):\n",
    "        print(f\"g(D) on {self!r}\")\n",
    "        B.g(self)\n",
    "        C.g(self)"
   ]
  },
  {
   "cell_type": "code",
   "execution_count": null,
   "id": "8a5eed93",
   "metadata": {
    "tags": [
     "code-along"
    ]
   },
   "outputs": [],
   "source": []
  },
  {
   "cell_type": "code",
   "execution_count": null,
   "id": "c925beed",
   "metadata": {
    "tags": [
     "code-along"
    ]
   },
   "outputs": [],
   "source": []
  },
  {
   "cell_type": "code",
   "execution_count": null,
   "id": "5aaad011",
   "metadata": {
    "tags": [
     "code-along"
    ]
   },
   "outputs": [],
   "source": []
  },
  {
   "cell_type": "code",
   "execution_count": null,
   "id": "cd4525b3",
   "metadata": {},
   "outputs": [],
   "source": []
  }
 ],
 "metadata": {
  "jupytext": {
   "cell_metadata_json": true,
   "encoding": "# -*- coding: utf-8 -*-",
   "formats": "ipynb"
  },
  "kernelspec": {
   "display_name": "Python 3 (ipykernel)",
   "language": "python",
   "name": "python3"
  },
  "language_info": {
   "codemirror_mode": {
    "name": "ipython",
    "version": 3
   },
   "file_extension": ".py",
   "mimetype": "text/x-python",
   "name": "python",
   "nbconvert_exporter": "python",
   "pygments_lexer": "ipython3",
   "version": "3.10.4"
  },
  "nbTranslate": {
   "displayLangs": [
    "de"
   ],
   "hotkey": "alt-t",
   "langInMainMenu": true,
   "sourceLang": "de",
   "targetLang": "en",
   "useGoogleTranslate": true
  }
 },
 "nbformat": 4,
 "nbformat_minor": 5
}
