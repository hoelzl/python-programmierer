{
 "cells": [
  {
   "cell_type": "markdown",
   "id": "ac53af59",
   "metadata": {},
   "source": [
    "# Playground\n",
    "\n",
    "Ein leeres Notebook für Experimente und kleine Beispiele."
   ]
  },
  {
   "cell_type": "code",
   "execution_count": null,
   "id": "77c39eb0",
   "metadata": {},
   "outputs": [],
   "source": []
  }
 ],
 "metadata": {
  "jupytext": {
   "encoding": "# -*- coding: utf-8 -*-",
   "formats": "ipynb"
  },
  "kernelspec": {
   "display_name": "Python 3 (ipykernel)",
   "language": "python",
   "name": "python3"
  }
 },
 "nbformat": 4,
 "nbformat_minor": 5
}
