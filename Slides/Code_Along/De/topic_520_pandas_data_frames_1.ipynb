{
 "cells": [
  {
   "cell_type": "markdown",
   "id": "596fdfd1",
   "metadata": {
    "lang": "de"
   },
   "source": [
    "# Data Frames\n",
    "\n",
    "DataFrames sind die am häufigsten verwendete Datenstruktur in Pandas. Sie\n",
    "erlauben uns einfaches Lesen, Verarbeiten und Speichern von tabellenbasierten\n",
    "Daten.\n",
    "\n",
    "Konzeptionell besteht ein Datenrahmen aus mehreren Serieninstanzen, die sich\n",
    "einen gemeinsamen Index teilen."
   ]
  },
  {
   "cell_type": "code",
   "execution_count": 1,
   "id": "80f2db56",
   "metadata": {
    "lines_to_next_cell": 2
   },
   "outputs": [],
   "source": [
    "from pathlib import Path\n",
    "import numpy as np\n",
    "import pandas as pd"
   ]
  },
  {
   "cell_type": "code",
   "execution_count": 2,
   "id": "cd0d5bd1",
   "metadata": {},
   "outputs": [],
   "source": [
    "pandas_dir_path = Path(r\"C:\\Users\\tc\\Programming\\Python\\Courses\\Own\\python-programmierer\\Data\\Pandas\")"
   ]
  },
  {
   "cell_type": "markdown",
   "id": "00625d99",
   "metadata": {
    "lang": "de",
    "lines_to_next_cell": 2
   },
   "source": [
    "## Erzeugen von Data Frames"
   ]
  },
  {
   "cell_type": "markdown",
   "id": "1e2cd623",
   "metadata": {
    "lang": "de"
   },
   "source": [
    "### Aus einem NumPy Array"
   ]
  },
  {
   "cell_type": "code",
   "execution_count": 3,
   "id": "74d5477e",
   "metadata": {},
   "outputs": [],
   "source": [
    "def create_data_frame():\n",
    "    rng = np.random.default_rng(42)\n",
    "    array = rng.normal(size=(5, 4), scale=5.0)\n",
    "    index = \"A B C D E\".split()\n",
    "    columns = \"w x y z\".split()\n",
    "    return pd.DataFrame(array, index=index, columns=columns)"
   ]
  },
  {
   "cell_type": "code",
   "execution_count": 4,
   "id": "e1091ca2",
   "metadata": {
    "lines_to_next_cell": 2
   },
   "outputs": [
    {
     "data": {
      "text/html": [
       "<div>\n",
       "<style scoped>\n",
       "    .dataframe tbody tr th:only-of-type {\n",
       "        vertical-align: middle;\n",
       "    }\n",
       "\n",
       "    .dataframe tbody tr th {\n",
       "        vertical-align: top;\n",
       "    }\n",
       "\n",
       "    .dataframe thead th {\n",
       "        text-align: right;\n",
       "    }\n",
       "</style>\n",
       "<table border=\"1\" class=\"dataframe\">\n",
       "  <thead>\n",
       "    <tr style=\"text-align: right;\">\n",
       "      <th></th>\n",
       "      <th>w</th>\n",
       "      <th>x</th>\n",
       "      <th>y</th>\n",
       "      <th>z</th>\n",
       "    </tr>\n",
       "  </thead>\n",
       "  <tbody>\n",
       "    <tr>\n",
       "      <th>A</th>\n",
       "      <td>1.523585</td>\n",
       "      <td>-5.199921</td>\n",
       "      <td>3.752256</td>\n",
       "      <td>4.702824</td>\n",
       "    </tr>\n",
       "    <tr>\n",
       "      <th>B</th>\n",
       "      <td>-9.755176</td>\n",
       "      <td>-6.510898</td>\n",
       "      <td>0.639202</td>\n",
       "      <td>-1.581213</td>\n",
       "    </tr>\n",
       "    <tr>\n",
       "      <th>C</th>\n",
       "      <td>-0.084006</td>\n",
       "      <td>-4.265220</td>\n",
       "      <td>4.396990</td>\n",
       "      <td>3.888960</td>\n",
       "    </tr>\n",
       "    <tr>\n",
       "      <th>D</th>\n",
       "      <td>0.330153</td>\n",
       "      <td>5.636206</td>\n",
       "      <td>2.337547</td>\n",
       "      <td>-4.296462</td>\n",
       "    </tr>\n",
       "    <tr>\n",
       "      <th>E</th>\n",
       "      <td>1.843754</td>\n",
       "      <td>-4.794413</td>\n",
       "      <td>4.392252</td>\n",
       "      <td>-0.249630</td>\n",
       "    </tr>\n",
       "  </tbody>\n",
       "</table>\n",
       "</div>"
      ],
      "text/plain": [
       "          w         x         y         z\n",
       "A  1.523585 -5.199921  3.752256  4.702824\n",
       "B -9.755176 -6.510898  0.639202 -1.581213\n",
       "C -0.084006 -4.265220  4.396990  3.888960\n",
       "D  0.330153  5.636206  2.337547 -4.296462\n",
       "E  1.843754 -4.794413  4.392252 -0.249630"
      ]
     },
     "execution_count": 4,
     "metadata": {},
     "output_type": "execute_result"
    }
   ],
   "source": [
    "df = create_data_frame()\n",
    "df"
   ]
  },
  {
   "cell_type": "code",
   "execution_count": 5,
   "id": "823932d6",
   "metadata": {
    "tags": [
     "code-along"
    ]
   },
   "outputs": [
    {
     "data": {
      "text/plain": [
       "pandas.core.frame.DataFrame"
      ]
     },
     "execution_count": 5,
     "metadata": {},
     "output_type": "execute_result"
    }
   ],
   "source": [
    "type(df)"
   ]
  },
  {
   "cell_type": "markdown",
   "id": "ab3ba84b",
   "metadata": {
    "lang": "de"
   },
   "source": [
    "### Aus einer CSV Datei"
   ]
  },
  {
   "cell_type": "code",
   "execution_count": 6,
   "id": "363c5820",
   "metadata": {
    "lines_to_next_cell": 2,
    "tags": [
     "code-along"
    ]
   },
   "outputs": [],
   "source": [
    "df_cvs = pd.read_csv(pandas_dir_path / \"example_data.csv\")"
   ]
  },
  {
   "cell_type": "code",
   "execution_count": 7,
   "id": "f6bdba34",
   "metadata": {
    "lines_to_next_cell": 2,
    "tags": [
     "code-along"
    ]
   },
   "outputs": [
    {
     "data": {
      "text/html": [
       "<div>\n",
       "<style scoped>\n",
       "    .dataframe tbody tr th:only-of-type {\n",
       "        vertical-align: middle;\n",
       "    }\n",
       "\n",
       "    .dataframe tbody tr th {\n",
       "        vertical-align: top;\n",
       "    }\n",
       "\n",
       "    .dataframe thead th {\n",
       "        text-align: right;\n",
       "    }\n",
       "</style>\n",
       "<table border=\"1\" class=\"dataframe\">\n",
       "  <thead>\n",
       "    <tr style=\"text-align: right;\">\n",
       "      <th></th>\n",
       "      <th>Unnamed: 0</th>\n",
       "      <th>Col 0</th>\n",
       "      <th>Col 1</th>\n",
       "      <th>Col 2</th>\n",
       "      <th>Col 3</th>\n",
       "      <th>Col 4</th>\n",
       "      <th>Col 5</th>\n",
       "      <th>Col 6</th>\n",
       "      <th>Col 7</th>\n",
       "    </tr>\n",
       "  </thead>\n",
       "  <tbody>\n",
       "    <tr>\n",
       "      <th>0</th>\n",
       "      <td>Index 0</td>\n",
       "      <td>4.076693</td>\n",
       "      <td>-11.592472</td>\n",
       "      <td>5.758058</td>\n",
       "      <td>1.995488</td>\n",
       "      <td>7.433482</td>\n",
       "      <td>-2.697633</td>\n",
       "      <td>10.386505</td>\n",
       "      <td>1.392989</td>\n",
       "    </tr>\n",
       "    <tr>\n",
       "      <th>1</th>\n",
       "      <td>Index 1</td>\n",
       "      <td>-8.091764</td>\n",
       "      <td>-9.263259</td>\n",
       "      <td>13.398781</td>\n",
       "      <td>3.364558</td>\n",
       "      <td>-4.504057</td>\n",
       "      <td>13.487790</td>\n",
       "      <td>19.387826</td>\n",
       "      <td>10.307054</td>\n",
       "    </tr>\n",
       "    <tr>\n",
       "      <th>2</th>\n",
       "      <td>Index 2</td>\n",
       "      <td>-9.967062</td>\n",
       "      <td>17.347022</td>\n",
       "      <td>-7.131536</td>\n",
       "      <td>8.946958</td>\n",
       "      <td>-4.560652</td>\n",
       "      <td>-1.350351</td>\n",
       "      <td>10.932789</td>\n",
       "      <td>14.030532</td>\n",
       "    </tr>\n",
       "    <tr>\n",
       "      <th>3</th>\n",
       "      <td>Index 3</td>\n",
       "      <td>4.473407</td>\n",
       "      <td>-4.188944</td>\n",
       "      <td>-9.067113</td>\n",
       "      <td>-20.351787</td>\n",
       "      <td>10.067044</td>\n",
       "      <td>-11.084616</td>\n",
       "      <td>-2.390302</td>\n",
       "      <td>-10.064766</td>\n",
       "    </tr>\n",
       "    <tr>\n",
       "      <th>4</th>\n",
       "      <td>Index 4</td>\n",
       "      <td>-10.909624</td>\n",
       "      <td>3.213494</td>\n",
       "      <td>18.101500</td>\n",
       "      <td>10.736058</td>\n",
       "      <td>-6.578314</td>\n",
       "      <td>4.997114</td>\n",
       "      <td>-6.464901</td>\n",
       "      <td>0.021843</td>\n",
       "    </tr>\n",
       "    <tr>\n",
       "      <th>...</th>\n",
       "      <td>...</td>\n",
       "      <td>...</td>\n",
       "      <td>...</td>\n",
       "      <td>...</td>\n",
       "      <td>...</td>\n",
       "      <td>...</td>\n",
       "      <td>...</td>\n",
       "      <td>...</td>\n",
       "      <td>...</td>\n",
       "    </tr>\n",
       "    <tr>\n",
       "      <th>995</th>\n",
       "      <td>Index 995</td>\n",
       "      <td>-14.445522</td>\n",
       "      <td>6.513853</td>\n",
       "      <td>-6.446964</td>\n",
       "      <td>-10.729593</td>\n",
       "      <td>-2.300384</td>\n",
       "      <td>14.966634</td>\n",
       "      <td>-4.796942</td>\n",
       "      <td>-12.922157</td>\n",
       "    </tr>\n",
       "    <tr>\n",
       "      <th>996</th>\n",
       "      <td>Index 996</td>\n",
       "      <td>12.300935</td>\n",
       "      <td>1.203874</td>\n",
       "      <td>5.127201</td>\n",
       "      <td>-13.744109</td>\n",
       "      <td>1.032070</td>\n",
       "      <td>14.428249</td>\n",
       "      <td>-12.334804</td>\n",
       "      <td>12.607952</td>\n",
       "    </tr>\n",
       "    <tr>\n",
       "      <th>997</th>\n",
       "      <td>Index 997</td>\n",
       "      <td>3.074044</td>\n",
       "      <td>6.492773</td>\n",
       "      <td>-2.589086</td>\n",
       "      <td>-11.088337</td>\n",
       "      <td>1.747953</td>\n",
       "      <td>16.040783</td>\n",
       "      <td>3.921457</td>\n",
       "      <td>-4.266764</td>\n",
       "    </tr>\n",
       "    <tr>\n",
       "      <th>998</th>\n",
       "      <td>Index 998</td>\n",
       "      <td>4.563576</td>\n",
       "      <td>14.066358</td>\n",
       "      <td>-4.915146</td>\n",
       "      <td>-6.283678</td>\n",
       "      <td>-1.343589</td>\n",
       "      <td>-22.898390</td>\n",
       "      <td>-6.044495</td>\n",
       "      <td>-14.400880</td>\n",
       "    </tr>\n",
       "    <tr>\n",
       "      <th>999</th>\n",
       "      <td>Index 999</td>\n",
       "      <td>8.426685</td>\n",
       "      <td>16.927540</td>\n",
       "      <td>12.667732</td>\n",
       "      <td>26.127088</td>\n",
       "      <td>8.269967</td>\n",
       "      <td>8.847097</td>\n",
       "      <td>-1.603626</td>\n",
       "      <td>17.094113</td>\n",
       "    </tr>\n",
       "  </tbody>\n",
       "</table>\n",
       "<p>1000 rows × 9 columns</p>\n",
       "</div>"
      ],
      "text/plain": [
       "    Unnamed: 0      Col 0      Col 1      Col 2      Col 3      Col 4  \\\n",
       "0      Index 0   4.076693 -11.592472   5.758058   1.995488   7.433482   \n",
       "1      Index 1  -8.091764  -9.263259  13.398781   3.364558  -4.504057   \n",
       "2      Index 2  -9.967062  17.347022  -7.131536   8.946958  -4.560652   \n",
       "3      Index 3   4.473407  -4.188944  -9.067113 -20.351787  10.067044   \n",
       "4      Index 4 -10.909624   3.213494  18.101500  10.736058  -6.578314   \n",
       "..         ...        ...        ...        ...        ...        ...   \n",
       "995  Index 995 -14.445522   6.513853  -6.446964 -10.729593  -2.300384   \n",
       "996  Index 996  12.300935   1.203874   5.127201 -13.744109   1.032070   \n",
       "997  Index 997   3.074044   6.492773  -2.589086 -11.088337   1.747953   \n",
       "998  Index 998   4.563576  14.066358  -4.915146  -6.283678  -1.343589   \n",
       "999  Index 999   8.426685  16.927540  12.667732  26.127088   8.269967   \n",
       "\n",
       "         Col 5      Col 6      Col 7  \n",
       "0    -2.697633  10.386505   1.392989  \n",
       "1    13.487790  19.387826  10.307054  \n",
       "2    -1.350351  10.932789  14.030532  \n",
       "3   -11.084616  -2.390302 -10.064766  \n",
       "4     4.997114  -6.464901   0.021843  \n",
       "..         ...        ...        ...  \n",
       "995  14.966634  -4.796942 -12.922157  \n",
       "996  14.428249 -12.334804  12.607952  \n",
       "997  16.040783   3.921457  -4.266764  \n",
       "998 -22.898390  -6.044495 -14.400880  \n",
       "999   8.847097  -1.603626  17.094113  \n",
       "\n",
       "[1000 rows x 9 columns]"
      ]
     },
     "execution_count": 7,
     "metadata": {},
     "output_type": "execute_result"
    }
   ],
   "source": [
    "df_cvs"
   ]
  },
  {
   "cell_type": "code",
   "execution_count": 8,
   "id": "4cc8d96f",
   "metadata": {
    "lines_to_next_cell": 2,
    "tags": [
     "code-along"
    ]
   },
   "outputs": [],
   "source": [
    "df_csv = pd.read_csv(pandas_dir_path / \"example_data.csv\", index_col=0)"
   ]
  },
  {
   "cell_type": "code",
   "execution_count": 9,
   "id": "c8cad8cc",
   "metadata": {
    "tags": [
     "code-along"
    ]
   },
   "outputs": [
    {
     "data": {
      "text/html": [
       "<div>\n",
       "<style scoped>\n",
       "    .dataframe tbody tr th:only-of-type {\n",
       "        vertical-align: middle;\n",
       "    }\n",
       "\n",
       "    .dataframe tbody tr th {\n",
       "        vertical-align: top;\n",
       "    }\n",
       "\n",
       "    .dataframe thead th {\n",
       "        text-align: right;\n",
       "    }\n",
       "</style>\n",
       "<table border=\"1\" class=\"dataframe\">\n",
       "  <thead>\n",
       "    <tr style=\"text-align: right;\">\n",
       "      <th></th>\n",
       "      <th>Col 0</th>\n",
       "      <th>Col 1</th>\n",
       "      <th>Col 2</th>\n",
       "      <th>Col 3</th>\n",
       "      <th>Col 4</th>\n",
       "      <th>Col 5</th>\n",
       "      <th>Col 6</th>\n",
       "      <th>Col 7</th>\n",
       "    </tr>\n",
       "  </thead>\n",
       "  <tbody>\n",
       "    <tr>\n",
       "      <th>Index 0</th>\n",
       "      <td>4.076693</td>\n",
       "      <td>-11.592472</td>\n",
       "      <td>5.758058</td>\n",
       "      <td>1.995488</td>\n",
       "      <td>7.433482</td>\n",
       "      <td>-2.697633</td>\n",
       "      <td>10.386505</td>\n",
       "      <td>1.392989</td>\n",
       "    </tr>\n",
       "    <tr>\n",
       "      <th>Index 1</th>\n",
       "      <td>-8.091764</td>\n",
       "      <td>-9.263259</td>\n",
       "      <td>13.398781</td>\n",
       "      <td>3.364558</td>\n",
       "      <td>-4.504057</td>\n",
       "      <td>13.487790</td>\n",
       "      <td>19.387826</td>\n",
       "      <td>10.307054</td>\n",
       "    </tr>\n",
       "    <tr>\n",
       "      <th>Index 2</th>\n",
       "      <td>-9.967062</td>\n",
       "      <td>17.347022</td>\n",
       "      <td>-7.131536</td>\n",
       "      <td>8.946958</td>\n",
       "      <td>-4.560652</td>\n",
       "      <td>-1.350351</td>\n",
       "      <td>10.932789</td>\n",
       "      <td>14.030532</td>\n",
       "    </tr>\n",
       "    <tr>\n",
       "      <th>Index 3</th>\n",
       "      <td>4.473407</td>\n",
       "      <td>-4.188944</td>\n",
       "      <td>-9.067113</td>\n",
       "      <td>-20.351787</td>\n",
       "      <td>10.067044</td>\n",
       "      <td>-11.084616</td>\n",
       "      <td>-2.390302</td>\n",
       "      <td>-10.064766</td>\n",
       "    </tr>\n",
       "    <tr>\n",
       "      <th>Index 4</th>\n",
       "      <td>-10.909624</td>\n",
       "      <td>3.213494</td>\n",
       "      <td>18.101500</td>\n",
       "      <td>10.736058</td>\n",
       "      <td>-6.578314</td>\n",
       "      <td>4.997114</td>\n",
       "      <td>-6.464901</td>\n",
       "      <td>0.021843</td>\n",
       "    </tr>\n",
       "    <tr>\n",
       "      <th>...</th>\n",
       "      <td>...</td>\n",
       "      <td>...</td>\n",
       "      <td>...</td>\n",
       "      <td>...</td>\n",
       "      <td>...</td>\n",
       "      <td>...</td>\n",
       "      <td>...</td>\n",
       "      <td>...</td>\n",
       "    </tr>\n",
       "    <tr>\n",
       "      <th>Index 995</th>\n",
       "      <td>-14.445522</td>\n",
       "      <td>6.513853</td>\n",
       "      <td>-6.446964</td>\n",
       "      <td>-10.729593</td>\n",
       "      <td>-2.300384</td>\n",
       "      <td>14.966634</td>\n",
       "      <td>-4.796942</td>\n",
       "      <td>-12.922157</td>\n",
       "    </tr>\n",
       "    <tr>\n",
       "      <th>Index 996</th>\n",
       "      <td>12.300935</td>\n",
       "      <td>1.203874</td>\n",
       "      <td>5.127201</td>\n",
       "      <td>-13.744109</td>\n",
       "      <td>1.032070</td>\n",
       "      <td>14.428249</td>\n",
       "      <td>-12.334804</td>\n",
       "      <td>12.607952</td>\n",
       "    </tr>\n",
       "    <tr>\n",
       "      <th>Index 997</th>\n",
       "      <td>3.074044</td>\n",
       "      <td>6.492773</td>\n",
       "      <td>-2.589086</td>\n",
       "      <td>-11.088337</td>\n",
       "      <td>1.747953</td>\n",
       "      <td>16.040783</td>\n",
       "      <td>3.921457</td>\n",
       "      <td>-4.266764</td>\n",
       "    </tr>\n",
       "    <tr>\n",
       "      <th>Index 998</th>\n",
       "      <td>4.563576</td>\n",
       "      <td>14.066358</td>\n",
       "      <td>-4.915146</td>\n",
       "      <td>-6.283678</td>\n",
       "      <td>-1.343589</td>\n",
       "      <td>-22.898390</td>\n",
       "      <td>-6.044495</td>\n",
       "      <td>-14.400880</td>\n",
       "    </tr>\n",
       "    <tr>\n",
       "      <th>Index 999</th>\n",
       "      <td>8.426685</td>\n",
       "      <td>16.927540</td>\n",
       "      <td>12.667732</td>\n",
       "      <td>26.127088</td>\n",
       "      <td>8.269967</td>\n",
       "      <td>8.847097</td>\n",
       "      <td>-1.603626</td>\n",
       "      <td>17.094113</td>\n",
       "    </tr>\n",
       "  </tbody>\n",
       "</table>\n",
       "<p>1000 rows × 8 columns</p>\n",
       "</div>"
      ],
      "text/plain": [
       "               Col 0      Col 1      Col 2      Col 3      Col 4      Col 5  \\\n",
       "Index 0     4.076693 -11.592472   5.758058   1.995488   7.433482  -2.697633   \n",
       "Index 1    -8.091764  -9.263259  13.398781   3.364558  -4.504057  13.487790   \n",
       "Index 2    -9.967062  17.347022  -7.131536   8.946958  -4.560652  -1.350351   \n",
       "Index 3     4.473407  -4.188944  -9.067113 -20.351787  10.067044 -11.084616   \n",
       "Index 4   -10.909624   3.213494  18.101500  10.736058  -6.578314   4.997114   \n",
       "...              ...        ...        ...        ...        ...        ...   \n",
       "Index 995 -14.445522   6.513853  -6.446964 -10.729593  -2.300384  14.966634   \n",
       "Index 996  12.300935   1.203874   5.127201 -13.744109   1.032070  14.428249   \n",
       "Index 997   3.074044   6.492773  -2.589086 -11.088337   1.747953  16.040783   \n",
       "Index 998   4.563576  14.066358  -4.915146  -6.283678  -1.343589 -22.898390   \n",
       "Index 999   8.426685  16.927540  12.667732  26.127088   8.269967   8.847097   \n",
       "\n",
       "               Col 6      Col 7  \n",
       "Index 0    10.386505   1.392989  \n",
       "Index 1    19.387826  10.307054  \n",
       "Index 2    10.932789  14.030532  \n",
       "Index 3    -2.390302 -10.064766  \n",
       "Index 4    -6.464901   0.021843  \n",
       "...              ...        ...  \n",
       "Index 995  -4.796942 -12.922157  \n",
       "Index 996 -12.334804  12.607952  \n",
       "Index 997   3.921457  -4.266764  \n",
       "Index 998  -6.044495 -14.400880  \n",
       "Index 999  -1.603626  17.094113  \n",
       "\n",
       "[1000 rows x 8 columns]"
      ]
     },
     "execution_count": 9,
     "metadata": {},
     "output_type": "execute_result"
    }
   ],
   "source": [
    "df_csv"
   ]
  },
  {
   "cell_type": "markdown",
   "id": "b8220179",
   "metadata": {
    "lang": "de"
   },
   "source": [
    "### Aus einer Excel Datei"
   ]
  },
  {
   "cell_type": "code",
   "execution_count": 10,
   "id": "565e1708",
   "metadata": {
    "lines_to_next_cell": 2,
    "tags": [
     "code-along"
    ]
   },
   "outputs": [],
   "source": [
    "df_excel = pd.read_excel(pandas_dir_path / \"excel_data.xlsx\", index_col=0)"
   ]
  },
  {
   "cell_type": "code",
   "execution_count": 11,
   "id": "dc83a619",
   "metadata": {
    "lines_to_next_cell": 2,
    "tags": [
     "code-along"
    ]
   },
   "outputs": [
    {
     "data": {
      "text/html": [
       "<div>\n",
       "<style scoped>\n",
       "    .dataframe tbody tr th:only-of-type {\n",
       "        vertical-align: middle;\n",
       "    }\n",
       "\n",
       "    .dataframe tbody tr th {\n",
       "        vertical-align: top;\n",
       "    }\n",
       "\n",
       "    .dataframe thead th {\n",
       "        text-align: right;\n",
       "    }\n",
       "</style>\n",
       "<table border=\"1\" class=\"dataframe\">\n",
       "  <thead>\n",
       "    <tr style=\"text-align: right;\">\n",
       "      <th></th>\n",
       "      <th>Col 0</th>\n",
       "      <th>Col 1</th>\n",
       "      <th>Col 2</th>\n",
       "      <th>Col 3</th>\n",
       "      <th>Col 4</th>\n",
       "      <th>Col 5</th>\n",
       "      <th>Col 6</th>\n",
       "      <th>Col 7</th>\n",
       "      <th>Col 8</th>\n",
       "      <th>Col 9</th>\n",
       "      <th>Col 10</th>\n",
       "      <th>Col 11</th>\n",
       "    </tr>\n",
       "  </thead>\n",
       "  <tbody>\n",
       "    <tr>\n",
       "      <th>Index 0</th>\n",
       "      <td>4.076693</td>\n",
       "      <td>-11.592472</td>\n",
       "      <td>5.758058</td>\n",
       "      <td>1.995488</td>\n",
       "      <td>7.433482</td>\n",
       "      <td>-2.697633</td>\n",
       "      <td>10.386505</td>\n",
       "      <td>1.392989</td>\n",
       "      <td>-8.091764</td>\n",
       "      <td>-9.263259</td>\n",
       "      <td>13.398781</td>\n",
       "      <td>3.364558</td>\n",
       "    </tr>\n",
       "    <tr>\n",
       "      <th>Index 1</th>\n",
       "      <td>-4.504057</td>\n",
       "      <td>13.487790</td>\n",
       "      <td>19.387826</td>\n",
       "      <td>10.307054</td>\n",
       "      <td>-9.967062</td>\n",
       "      <td>17.347022</td>\n",
       "      <td>-7.131536</td>\n",
       "      <td>8.946958</td>\n",
       "      <td>-4.560652</td>\n",
       "      <td>-1.350351</td>\n",
       "      <td>10.932789</td>\n",
       "      <td>14.030532</td>\n",
       "    </tr>\n",
       "    <tr>\n",
       "      <th>Index 2</th>\n",
       "      <td>4.473407</td>\n",
       "      <td>-4.188944</td>\n",
       "      <td>-9.067113</td>\n",
       "      <td>-20.351787</td>\n",
       "      <td>10.067044</td>\n",
       "      <td>-11.084616</td>\n",
       "      <td>-2.390302</td>\n",
       "      <td>-10.064766</td>\n",
       "      <td>-10.909624</td>\n",
       "      <td>3.213494</td>\n",
       "      <td>18.101500</td>\n",
       "      <td>10.736058</td>\n",
       "    </tr>\n",
       "    <tr>\n",
       "      <th>Index 3</th>\n",
       "      <td>-6.578314</td>\n",
       "      <td>4.997114</td>\n",
       "      <td>-6.464901</td>\n",
       "      <td>0.021843</td>\n",
       "      <td>-2.473564</td>\n",
       "      <td>-19.782094</td>\n",
       "      <td>11.556567</td>\n",
       "      <td>4.545686</td>\n",
       "      <td>13.854239</td>\n",
       "      <td>-1.138480</td>\n",
       "      <td>-1.245364</td>\n",
       "      <td>-24.905710</td>\n",
       "    </tr>\n",
       "    <tr>\n",
       "      <th>Index 4</th>\n",
       "      <td>-0.753812</td>\n",
       "      <td>-3.029928</td>\n",
       "      <td>-10.729667</td>\n",
       "      <td>-12.453821</td>\n",
       "      <td>-13.675471</td>\n",
       "      <td>6.621271</td>\n",
       "      <td>-10.122960</td>\n",
       "      <td>-10.974487</td>\n",
       "      <td>-0.734146</td>\n",
       "      <td>-7.829734</td>\n",
       "      <td>-6.770842</td>\n",
       "      <td>-13.666861</td>\n",
       "    </tr>\n",
       "    <tr>\n",
       "      <th>...</th>\n",
       "      <td>...</td>\n",
       "      <td>...</td>\n",
       "      <td>...</td>\n",
       "      <td>...</td>\n",
       "      <td>...</td>\n",
       "      <td>...</td>\n",
       "      <td>...</td>\n",
       "      <td>...</td>\n",
       "      <td>...</td>\n",
       "      <td>...</td>\n",
       "      <td>...</td>\n",
       "      <td>...</td>\n",
       "    </tr>\n",
       "    <tr>\n",
       "      <th>Index 95</th>\n",
       "      <td>-4.112835</td>\n",
       "      <td>7.385291</td>\n",
       "      <td>-13.851625</td>\n",
       "      <td>-6.078196</td>\n",
       "      <td>11.023885</td>\n",
       "      <td>-5.512976</td>\n",
       "      <td>1.231175</td>\n",
       "      <td>6.411213</td>\n",
       "      <td>-1.683794</td>\n",
       "      <td>4.646666</td>\n",
       "      <td>18.364089</td>\n",
       "      <td>6.956441</td>\n",
       "    </tr>\n",
       "    <tr>\n",
       "      <th>Index 96</th>\n",
       "      <td>-4.436619</td>\n",
       "      <td>2.669846</td>\n",
       "      <td>6.218075</td>\n",
       "      <td>-9.575880</td>\n",
       "      <td>-3.399697</td>\n",
       "      <td>14.107305</td>\n",
       "      <td>-8.542899</td>\n",
       "      <td>7.253396</td>\n",
       "      <td>-0.474596</td>\n",
       "      <td>-11.268330</td>\n",
       "      <td>19.082276</td>\n",
       "      <td>1.434360</td>\n",
       "    </tr>\n",
       "    <tr>\n",
       "      <th>Index 97</th>\n",
       "      <td>-2.641866</td>\n",
       "      <td>-0.605210</td>\n",
       "      <td>-1.159309</td>\n",
       "      <td>10.960797</td>\n",
       "      <td>-20.105969</td>\n",
       "      <td>10.573056</td>\n",
       "      <td>3.127534</td>\n",
       "      <td>2.846807</td>\n",
       "      <td>7.143668</td>\n",
       "      <td>5.478037</td>\n",
       "      <td>0.536783</td>\n",
       "      <td>2.569418</td>\n",
       "    </tr>\n",
       "    <tr>\n",
       "      <th>Index 98</th>\n",
       "      <td>13.237843</td>\n",
       "      <td>-13.885348</td>\n",
       "      <td>18.912088</td>\n",
       "      <td>3.159741</td>\n",
       "      <td>-8.686046</td>\n",
       "      <td>-5.722742</td>\n",
       "      <td>4.098118</td>\n",
       "      <td>3.469731</td>\n",
       "      <td>-7.391454</td>\n",
       "      <td>7.783543</td>\n",
       "      <td>-8.647712</td>\n",
       "      <td>-10.910139</td>\n",
       "    </tr>\n",
       "    <tr>\n",
       "      <th>Index 99</th>\n",
       "      <td>16.327530</td>\n",
       "      <td>9.128792</td>\n",
       "      <td>11.217098</td>\n",
       "      <td>8.639888</td>\n",
       "      <td>0.715028</td>\n",
       "      <td>-1.312129</td>\n",
       "      <td>-1.885473</td>\n",
       "      <td>10.439447</td>\n",
       "      <td>0.101048</td>\n",
       "      <td>-0.820258</td>\n",
       "      <td>-3.173715</td>\n",
       "      <td>5.438891</td>\n",
       "    </tr>\n",
       "  </tbody>\n",
       "</table>\n",
       "<p>100 rows × 12 columns</p>\n",
       "</div>"
      ],
      "text/plain": [
       "              Col 0      Col 1      Col 2      Col 3      Col 4      Col 5  \\\n",
       "Index 0    4.076693 -11.592472   5.758058   1.995488   7.433482  -2.697633   \n",
       "Index 1   -4.504057  13.487790  19.387826  10.307054  -9.967062  17.347022   \n",
       "Index 2    4.473407  -4.188944  -9.067113 -20.351787  10.067044 -11.084616   \n",
       "Index 3   -6.578314   4.997114  -6.464901   0.021843  -2.473564 -19.782094   \n",
       "Index 4   -0.753812  -3.029928 -10.729667 -12.453821 -13.675471   6.621271   \n",
       "...             ...        ...        ...        ...        ...        ...   \n",
       "Index 95  -4.112835   7.385291 -13.851625  -6.078196  11.023885  -5.512976   \n",
       "Index 96  -4.436619   2.669846   6.218075  -9.575880  -3.399697  14.107305   \n",
       "Index 97  -2.641866  -0.605210  -1.159309  10.960797 -20.105969  10.573056   \n",
       "Index 98  13.237843 -13.885348  18.912088   3.159741  -8.686046  -5.722742   \n",
       "Index 99  16.327530   9.128792  11.217098   8.639888   0.715028  -1.312129   \n",
       "\n",
       "              Col 6      Col 7      Col 8      Col 9     Col 10     Col 11  \n",
       "Index 0   10.386505   1.392989  -8.091764  -9.263259  13.398781   3.364558  \n",
       "Index 1   -7.131536   8.946958  -4.560652  -1.350351  10.932789  14.030532  \n",
       "Index 2   -2.390302 -10.064766 -10.909624   3.213494  18.101500  10.736058  \n",
       "Index 3   11.556567   4.545686  13.854239  -1.138480  -1.245364 -24.905710  \n",
       "Index 4  -10.122960 -10.974487  -0.734146  -7.829734  -6.770842 -13.666861  \n",
       "...             ...        ...        ...        ...        ...        ...  \n",
       "Index 95   1.231175   6.411213  -1.683794   4.646666  18.364089   6.956441  \n",
       "Index 96  -8.542899   7.253396  -0.474596 -11.268330  19.082276   1.434360  \n",
       "Index 97   3.127534   2.846807   7.143668   5.478037   0.536783   2.569418  \n",
       "Index 98   4.098118   3.469731  -7.391454   7.783543  -8.647712 -10.910139  \n",
       "Index 99  -1.885473  10.439447   0.101048  -0.820258  -3.173715   5.438891  \n",
       "\n",
       "[100 rows x 12 columns]"
      ]
     },
     "execution_count": 11,
     "metadata": {},
     "output_type": "execute_result"
    }
   ],
   "source": [
    "df_excel"
   ]
  },
  {
   "cell_type": "code",
   "execution_count": 12,
   "id": "f84ac220",
   "metadata": {
    "lines_to_next_cell": 2,
    "tags": [
     "code-along"
    ]
   },
   "outputs": [],
   "source": [
    "df_excel2 = pd.read_excel(pandas_dir_path / \"excel_other_sheet.xlsx\", index_col=0)"
   ]
  },
  {
   "cell_type": "code",
   "execution_count": 13,
   "id": "c0ff3a5c",
   "metadata": {
    "lines_to_next_cell": 2,
    "tags": [
     "code-along"
    ]
   },
   "outputs": [
    {
     "data": {
      "text/html": [
       "<div>\n",
       "<style scoped>\n",
       "    .dataframe tbody tr th:only-of-type {\n",
       "        vertical-align: middle;\n",
       "    }\n",
       "\n",
       "    .dataframe tbody tr th {\n",
       "        vertical-align: top;\n",
       "    }\n",
       "\n",
       "    .dataframe thead th {\n",
       "        text-align: right;\n",
       "    }\n",
       "</style>\n",
       "<table border=\"1\" class=\"dataframe\">\n",
       "  <thead>\n",
       "    <tr style=\"text-align: right;\">\n",
       "      <th></th>\n",
       "      <th>-11.236758</th>\n",
       "      <th>2.218171</th>\n",
       "    </tr>\n",
       "    <tr>\n",
       "      <th>-9.071786174248082</th>\n",
       "      <th></th>\n",
       "      <th></th>\n",
       "    </tr>\n",
       "  </thead>\n",
       "  <tbody>\n",
       "    <tr>\n",
       "      <th>-9.766850</th>\n",
       "      <td>-6.558586</td>\n",
       "      <td>-7.532231</td>\n",
       "    </tr>\n",
       "    <tr>\n",
       "      <th>-0.974754</th>\n",
       "      <td>-7.153281</td>\n",
       "      <td>2.798292</td>\n",
       "    </tr>\n",
       "    <tr>\n",
       "      <th>10.134367</th>\n",
       "      <td>-4.369057</td>\n",
       "      <td>-15.880210</td>\n",
       "    </tr>\n",
       "    <tr>\n",
       "      <th>12.319482</th>\n",
       "      <td>2.746217</td>\n",
       "      <td>6.987371</td>\n",
       "    </tr>\n",
       "    <tr>\n",
       "      <th>3.138766</th>\n",
       "      <td>-2.165214</td>\n",
       "      <td>2.617773</td>\n",
       "    </tr>\n",
       "    <tr>\n",
       "      <th>-24.955057</th>\n",
       "      <td>-10.417922</td>\n",
       "      <td>-17.464209</td>\n",
       "    </tr>\n",
       "    <tr>\n",
       "      <th>-13.253936</th>\n",
       "      <td>11.754344</td>\n",
       "      <td>-4.116406</td>\n",
       "    </tr>\n",
       "  </tbody>\n",
       "</table>\n",
       "</div>"
      ],
      "text/plain": [
       "                    -11.236758   2.218171 \n",
       "-9.071786174248082                        \n",
       "-9.766850            -6.558586   -7.532231\n",
       "-0.974754            -7.153281    2.798292\n",
       " 10.134367           -4.369057  -15.880210\n",
       " 12.319482            2.746217    6.987371\n",
       " 3.138766            -2.165214    2.617773\n",
       "-24.955057          -10.417922  -17.464209\n",
       "-13.253936           11.754344   -4.116406"
      ]
     },
     "execution_count": 13,
     "metadata": {},
     "output_type": "execute_result"
    }
   ],
   "source": [
    "df_excel2"
   ]
  },
  {
   "cell_type": "code",
   "execution_count": 14,
   "id": "c88dfcc2",
   "metadata": {
    "lines_to_next_cell": 2,
    "tags": [
     "code-along"
    ]
   },
   "outputs": [],
   "source": [
    "df_excel2 = pd.read_excel(\n",
    "    pandas_dir_path / \"excel_other_sheet.xlsx\",\n",
    "    index_col=0,\n",
    "    sheet_name=\"Another Sheet\",\n",
    "    header=0,\n",
    "    skiprows=[1]\n",
    ")"
   ]
  },
  {
   "cell_type": "code",
   "execution_count": 16,
   "id": "21787324",
   "metadata": {
    "tags": [
     "code-along"
    ]
   },
   "outputs": [
    {
     "data": {
      "text/html": [
       "<div>\n",
       "<style scoped>\n",
       "    .dataframe tbody tr th:only-of-type {\n",
       "        vertical-align: middle;\n",
       "    }\n",
       "\n",
       "    .dataframe tbody tr th {\n",
       "        vertical-align: top;\n",
       "    }\n",
       "\n",
       "    .dataframe thead th {\n",
       "        text-align: right;\n",
       "    }\n",
       "</style>\n",
       "<table border=\"1\" class=\"dataframe\">\n",
       "  <thead>\n",
       "    <tr style=\"text-align: right;\">\n",
       "      <th></th>\n",
       "      <th>Col 0</th>\n",
       "      <th>Col 1</th>\n",
       "      <th>Col 2</th>\n",
       "      <th>Col 3</th>\n",
       "      <th>Col 4</th>\n",
       "      <th>Col 5</th>\n",
       "      <th>Col 6</th>\n",
       "      <th>Col 7</th>\n",
       "    </tr>\n",
       "  </thead>\n",
       "  <tbody>\n",
       "    <tr>\n",
       "      <th>Index 0</th>\n",
       "      <td>4.076693</td>\n",
       "      <td>-11.592472</td>\n",
       "      <td>5.758058</td>\n",
       "      <td>1.995488</td>\n",
       "      <td>7.433482</td>\n",
       "      <td>-2.697633</td>\n",
       "      <td>10.386505</td>\n",
       "      <td>1.392989</td>\n",
       "    </tr>\n",
       "    <tr>\n",
       "      <th>Index 1</th>\n",
       "      <td>-8.091764</td>\n",
       "      <td>-9.263259</td>\n",
       "      <td>13.398781</td>\n",
       "      <td>3.364558</td>\n",
       "      <td>-4.504057</td>\n",
       "      <td>13.487790</td>\n",
       "      <td>19.387826</td>\n",
       "      <td>10.307054</td>\n",
       "    </tr>\n",
       "    <tr>\n",
       "      <th>Index 2</th>\n",
       "      <td>-9.967062</td>\n",
       "      <td>17.347022</td>\n",
       "      <td>-7.131536</td>\n",
       "      <td>8.946958</td>\n",
       "      <td>-4.560652</td>\n",
       "      <td>-1.350351</td>\n",
       "      <td>10.932789</td>\n",
       "      <td>14.030532</td>\n",
       "    </tr>\n",
       "    <tr>\n",
       "      <th>Index 3</th>\n",
       "      <td>4.473407</td>\n",
       "      <td>-4.188944</td>\n",
       "      <td>-9.067113</td>\n",
       "      <td>-20.351787</td>\n",
       "      <td>10.067044</td>\n",
       "      <td>-11.084616</td>\n",
       "      <td>-2.390302</td>\n",
       "      <td>-10.064766</td>\n",
       "    </tr>\n",
       "    <tr>\n",
       "      <th>Index 4</th>\n",
       "      <td>-10.909624</td>\n",
       "      <td>3.213494</td>\n",
       "      <td>18.101500</td>\n",
       "      <td>10.736058</td>\n",
       "      <td>-6.578314</td>\n",
       "      <td>4.997114</td>\n",
       "      <td>-6.464901</td>\n",
       "      <td>0.021843</td>\n",
       "    </tr>\n",
       "    <tr>\n",
       "      <th>Index 5</th>\n",
       "      <td>-2.473564</td>\n",
       "      <td>-19.782094</td>\n",
       "      <td>11.556567</td>\n",
       "      <td>4.545686</td>\n",
       "      <td>13.854239</td>\n",
       "      <td>-1.138480</td>\n",
       "      <td>-1.245364</td>\n",
       "      <td>-24.905710</td>\n",
       "    </tr>\n",
       "    <tr>\n",
       "      <th>Index 6</th>\n",
       "      <td>-0.753812</td>\n",
       "      <td>-3.029928</td>\n",
       "      <td>-10.729667</td>\n",
       "      <td>-12.453821</td>\n",
       "      <td>-13.675471</td>\n",
       "      <td>6.621271</td>\n",
       "      <td>-10.122960</td>\n",
       "      <td>-10.974487</td>\n",
       "    </tr>\n",
       "    <tr>\n",
       "      <th>Index 7</th>\n",
       "      <td>-0.734146</td>\n",
       "      <td>-7.829734</td>\n",
       "      <td>-6.770842</td>\n",
       "      <td>-13.666861</td>\n",
       "      <td>-0.828199</td>\n",
       "      <td>-0.644818</td>\n",
       "      <td>3.540565</td>\n",
       "      <td>5.350003</td>\n",
       "    </tr>\n",
       "    <tr>\n",
       "      <th>Index 8</th>\n",
       "      <td>0.165503</td>\n",
       "      <td>-1.289419</td>\n",
       "      <td>-1.626782</td>\n",
       "      <td>-2.533545</td>\n",
       "      <td>NaN</td>\n",
       "      <td>NaN</td>\n",
       "      <td>NaN</td>\n",
       "      <td>-0.750818</td>\n",
       "    </tr>\n",
       "    <tr>\n",
       "      <th>Index 9</th>\n",
       "      <td>12.889947</td>\n",
       "      <td>0.933910</td>\n",
       "      <td>-14.640774</td>\n",
       "      <td>-0.645609</td>\n",
       "      <td>NaN</td>\n",
       "      <td>NaN</td>\n",
       "      <td>NaN</td>\n",
       "      <td>15.311913</td>\n",
       "    </tr>\n",
       "    <tr>\n",
       "      <th>Index 10</th>\n",
       "      <td>-13.661006</td>\n",
       "      <td>-18.583070</td>\n",
       "      <td>-9.071786</td>\n",
       "      <td>-11.236758</td>\n",
       "      <td>NaN</td>\n",
       "      <td>NaN</td>\n",
       "      <td>NaN</td>\n",
       "      <td>11.810887</td>\n",
       "    </tr>\n",
       "    <tr>\n",
       "      <th>Index 11</th>\n",
       "      <td>16.074504</td>\n",
       "      <td>2.465072</td>\n",
       "      <td>-9.766850</td>\n",
       "      <td>-6.558586</td>\n",
       "      <td>NaN</td>\n",
       "      <td>NaN</td>\n",
       "      <td>NaN</td>\n",
       "      <td>-11.873774</td>\n",
       "    </tr>\n",
       "    <tr>\n",
       "      <th>Index 12</th>\n",
       "      <td>-5.808213</td>\n",
       "      <td>-9.294275</td>\n",
       "      <td>-0.974754</td>\n",
       "      <td>-7.153281</td>\n",
       "      <td>NaN</td>\n",
       "      <td>NaN</td>\n",
       "      <td>NaN</td>\n",
       "      <td>-16.270175</td>\n",
       "    </tr>\n",
       "    <tr>\n",
       "      <th>Index 13</th>\n",
       "      <td>-8.644481</td>\n",
       "      <td>2.059640</td>\n",
       "      <td>10.134367</td>\n",
       "      <td>-4.369057</td>\n",
       "      <td>NaN</td>\n",
       "      <td>NaN</td>\n",
       "      <td>NaN</td>\n",
       "      <td>0.467360</td>\n",
       "    </tr>\n",
       "    <tr>\n",
       "      <th>Index 14</th>\n",
       "      <td>-1.094581</td>\n",
       "      <td>-4.670784</td>\n",
       "      <td>12.319482</td>\n",
       "      <td>2.746217</td>\n",
       "      <td>NaN</td>\n",
       "      <td>NaN</td>\n",
       "      <td>NaN</td>\n",
       "      <td>3.283506</td>\n",
       "    </tr>\n",
       "    <tr>\n",
       "      <th>Index 15</th>\n",
       "      <td>-5.681754</td>\n",
       "      <td>8.686976</td>\n",
       "      <td>3.138766</td>\n",
       "      <td>-2.165214</td>\n",
       "      <td>2.617773</td>\n",
       "      <td>8.108799</td>\n",
       "      <td>-5.146391</td>\n",
       "      <td>10.147470</td>\n",
       "    </tr>\n",
       "    <tr>\n",
       "      <th>Index 16</th>\n",
       "      <td>14.154946</td>\n",
       "      <td>2.811089</td>\n",
       "      <td>-24.955057</td>\n",
       "      <td>-10.417922</td>\n",
       "      <td>-17.464209</td>\n",
       "      <td>-3.920063</td>\n",
       "      <td>13.587399</td>\n",
       "      <td>-21.349195</td>\n",
       "    </tr>\n",
       "    <tr>\n",
       "      <th>Index 17</th>\n",
       "      <td>-3.194137</td>\n",
       "      <td>-4.791233</td>\n",
       "      <td>-13.253936</td>\n",
       "      <td>11.754344</td>\n",
       "      <td>-4.116406</td>\n",
       "      <td>6.791300</td>\n",
       "      <td>19.764398</td>\n",
       "      <td>6.826938</td>\n",
       "    </tr>\n",
       "    <tr>\n",
       "      <th>Index 18</th>\n",
       "      <td>-3.235258</td>\n",
       "      <td>-7.330595</td>\n",
       "      <td>-8.497637</td>\n",
       "      <td>-13.348445</td>\n",
       "      <td>6.651423</td>\n",
       "      <td>12.166240</td>\n",
       "      <td>-11.067455</td>\n",
       "      <td>-17.103336</td>\n",
       "    </tr>\n",
       "    <tr>\n",
       "      <th>Index 19</th>\n",
       "      <td>5.013643</td>\n",
       "      <td>-5.051558</td>\n",
       "      <td>-6.125379</td>\n",
       "      <td>-14.471378</td>\n",
       "      <td>5.101123</td>\n",
       "      <td>-8.613830</td>\n",
       "      <td>-8.463999</td>\n",
       "      <td>2.076160</td>\n",
       "    </tr>\n",
       "    <tr>\n",
       "      <th>Index 20</th>\n",
       "      <td>5.993891</td>\n",
       "      <td>-3.101608</td>\n",
       "      <td>-4.915671</td>\n",
       "      <td>13.708721</td>\n",
       "      <td>-14.580271</td>\n",
       "      <td>-10.087349</td>\n",
       "      <td>-26.999000</td>\n",
       "      <td>6.557271</td>\n",
       "    </tr>\n",
       "    <tr>\n",
       "      <th>Index 21</th>\n",
       "      <td>8.542760</td>\n",
       "      <td>-11.709776</td>\n",
       "      <td>-15.916397</td>\n",
       "      <td>9.789357</td>\n",
       "      <td>14.911542</td>\n",
       "      <td>-3.294862</td>\n",
       "      <td>-18.474668</td>\n",
       "      <td>1.105944</td>\n",
       "    </tr>\n",
       "    <tr>\n",
       "      <th>Index 22</th>\n",
       "      <td>-1.871094</td>\n",
       "      <td>8.269590</td>\n",
       "      <td>-3.396299</td>\n",
       "      <td>-4.720659</td>\n",
       "      <td>-13.952470</td>\n",
       "      <td>16.427699</td>\n",
       "      <td>-3.452500</td>\n",
       "      <td>-13.871153</td>\n",
       "    </tr>\n",
       "    <tr>\n",
       "      <th>Index 23</th>\n",
       "      <td>-6.876974</td>\n",
       "      <td>14.917401</td>\n",
       "      <td>3.963509</td>\n",
       "      <td>-3.326557</td>\n",
       "      <td>-2.695235</td>\n",
       "      <td>1.051745</td>\n",
       "      <td>2.530809</td>\n",
       "      <td>11.914568</td>\n",
       "    </tr>\n",
       "    <tr>\n",
       "      <th>Index 24</th>\n",
       "      <td>0.841162</td>\n",
       "      <td>7.687122</td>\n",
       "      <td>4.967231</td>\n",
       "      <td>-15.345328</td>\n",
       "      <td>1.334484</td>\n",
       "      <td>-10.645924</td>\n",
       "      <td>16.017387</td>\n",
       "      <td>11.683240</td>\n",
       "    </tr>\n",
       "    <tr>\n",
       "      <th>Index 25</th>\n",
       "      <td>4.454687</td>\n",
       "      <td>-1.582249</td>\n",
       "      <td>-10.866368</td>\n",
       "      <td>0.616502</td>\n",
       "      <td>2.156186</td>\n",
       "      <td>-1.022333</td>\n",
       "      <td>16.095656</td>\n",
       "      <td>-2.021888</td>\n",
       "    </tr>\n",
       "    <tr>\n",
       "      <th>Index 26</th>\n",
       "      <td>12.215570</td>\n",
       "      <td>-10.745196</td>\n",
       "      <td>-21.878431</td>\n",
       "      <td>-5.875586</td>\n",
       "      <td>23.171934</td>\n",
       "      <td>-3.376302</td>\n",
       "      <td>6.268313</td>\n",
       "      <td>5.913613</td>\n",
       "    </tr>\n",
       "    <tr>\n",
       "      <th>Index 27</th>\n",
       "      <td>-0.843478</td>\n",
       "      <td>12.967564</td>\n",
       "      <td>3.672000</td>\n",
       "      <td>10.744238</td>\n",
       "      <td>-2.773930</td>\n",
       "      <td>-7.003113</td>\n",
       "      <td>4.966198</td>\n",
       "      <td>-16.442373</td>\n",
       "    </tr>\n",
       "    <tr>\n",
       "      <th>Index 28</th>\n",
       "      <td>-29.230514</td>\n",
       "      <td>5.548853</td>\n",
       "      <td>0.407130</td>\n",
       "      <td>9.430886</td>\n",
       "      <td>-16.436991</td>\n",
       "      <td>19.464990</td>\n",
       "      <td>-4.231896</td>\n",
       "      <td>-10.203891</td>\n",
       "    </tr>\n",
       "    <tr>\n",
       "      <th>Index 29</th>\n",
       "      <td>5.779637</td>\n",
       "      <td>7.449505</td>\n",
       "      <td>11.109144</td>\n",
       "      <td>-13.702329</td>\n",
       "      <td>-11.486755</td>\n",
       "      <td>12.819939</td>\n",
       "      <td>10.172557</td>\n",
       "      <td>14.144111</td>\n",
       "    </tr>\n",
       "  </tbody>\n",
       "</table>\n",
       "</div>"
      ],
      "text/plain": [
       "              Col 0      Col 1      Col 2      Col 3      Col 4      Col 5  \\\n",
       "Index 0    4.076693 -11.592472   5.758058   1.995488   7.433482  -2.697633   \n",
       "Index 1   -8.091764  -9.263259  13.398781   3.364558  -4.504057  13.487790   \n",
       "Index 2   -9.967062  17.347022  -7.131536   8.946958  -4.560652  -1.350351   \n",
       "Index 3    4.473407  -4.188944  -9.067113 -20.351787  10.067044 -11.084616   \n",
       "Index 4  -10.909624   3.213494  18.101500  10.736058  -6.578314   4.997114   \n",
       "Index 5   -2.473564 -19.782094  11.556567   4.545686  13.854239  -1.138480   \n",
       "Index 6   -0.753812  -3.029928 -10.729667 -12.453821 -13.675471   6.621271   \n",
       "Index 7   -0.734146  -7.829734  -6.770842 -13.666861  -0.828199  -0.644818   \n",
       "Index 8    0.165503  -1.289419  -1.626782  -2.533545        NaN        NaN   \n",
       "Index 9   12.889947   0.933910 -14.640774  -0.645609        NaN        NaN   \n",
       "Index 10 -13.661006 -18.583070  -9.071786 -11.236758        NaN        NaN   \n",
       "Index 11  16.074504   2.465072  -9.766850  -6.558586        NaN        NaN   \n",
       "Index 12  -5.808213  -9.294275  -0.974754  -7.153281        NaN        NaN   \n",
       "Index 13  -8.644481   2.059640  10.134367  -4.369057        NaN        NaN   \n",
       "Index 14  -1.094581  -4.670784  12.319482   2.746217        NaN        NaN   \n",
       "Index 15  -5.681754   8.686976   3.138766  -2.165214   2.617773   8.108799   \n",
       "Index 16  14.154946   2.811089 -24.955057 -10.417922 -17.464209  -3.920063   \n",
       "Index 17  -3.194137  -4.791233 -13.253936  11.754344  -4.116406   6.791300   \n",
       "Index 18  -3.235258  -7.330595  -8.497637 -13.348445   6.651423  12.166240   \n",
       "Index 19   5.013643  -5.051558  -6.125379 -14.471378   5.101123  -8.613830   \n",
       "Index 20   5.993891  -3.101608  -4.915671  13.708721 -14.580271 -10.087349   \n",
       "Index 21   8.542760 -11.709776 -15.916397   9.789357  14.911542  -3.294862   \n",
       "Index 22  -1.871094   8.269590  -3.396299  -4.720659 -13.952470  16.427699   \n",
       "Index 23  -6.876974  14.917401   3.963509  -3.326557  -2.695235   1.051745   \n",
       "Index 24   0.841162   7.687122   4.967231 -15.345328   1.334484 -10.645924   \n",
       "Index 25   4.454687  -1.582249 -10.866368   0.616502   2.156186  -1.022333   \n",
       "Index 26  12.215570 -10.745196 -21.878431  -5.875586  23.171934  -3.376302   \n",
       "Index 27  -0.843478  12.967564   3.672000  10.744238  -2.773930  -7.003113   \n",
       "Index 28 -29.230514   5.548853   0.407130   9.430886 -16.436991  19.464990   \n",
       "Index 29   5.779637   7.449505  11.109144 -13.702329 -11.486755  12.819939   \n",
       "\n",
       "              Col 6      Col 7  \n",
       "Index 0   10.386505   1.392989  \n",
       "Index 1   19.387826  10.307054  \n",
       "Index 2   10.932789  14.030532  \n",
       "Index 3   -2.390302 -10.064766  \n",
       "Index 4   -6.464901   0.021843  \n",
       "Index 5   -1.245364 -24.905710  \n",
       "Index 6  -10.122960 -10.974487  \n",
       "Index 7    3.540565   5.350003  \n",
       "Index 8         NaN  -0.750818  \n",
       "Index 9         NaN  15.311913  \n",
       "Index 10        NaN  11.810887  \n",
       "Index 11        NaN -11.873774  \n",
       "Index 12        NaN -16.270175  \n",
       "Index 13        NaN   0.467360  \n",
       "Index 14        NaN   3.283506  \n",
       "Index 15  -5.146391  10.147470  \n",
       "Index 16  13.587399 -21.349195  \n",
       "Index 17  19.764398   6.826938  \n",
       "Index 18 -11.067455 -17.103336  \n",
       "Index 19  -8.463999   2.076160  \n",
       "Index 20 -26.999000   6.557271  \n",
       "Index 21 -18.474668   1.105944  \n",
       "Index 22  -3.452500 -13.871153  \n",
       "Index 23   2.530809  11.914568  \n",
       "Index 24  16.017387  11.683240  \n",
       "Index 25  16.095656  -2.021888  \n",
       "Index 26   6.268313   5.913613  \n",
       "Index 27   4.966198 -16.442373  \n",
       "Index 28  -4.231896 -10.203891  \n",
       "Index 29  10.172557  14.144111  "
      ]
     },
     "execution_count": 16,
     "metadata": {},
     "output_type": "execute_result"
    }
   ],
   "source": [
    "df_excel2"
   ]
  },
  {
   "cell_type": "code",
   "execution_count": null,
   "id": "cf779200",
   "metadata": {},
   "outputs": [],
   "source": []
  },
  {
   "cell_type": "markdown",
   "id": "45c5443e",
   "metadata": {
    "lang": "de"
   },
   "source": [
    "\n",
    "### Andere Formate:\n",
    "\n",
    "- `pd.read_clipboard`\n",
    "- `pd.read_html`\n",
    "- `pd.read_json`\n",
    "- `pd.read_pickle`\n",
    "- `pd.read_sql` (verwendet SQLAlchemy um auf die Datenbank zuzugreifen)\n",
    "- ..."
   ]
  },
  {
   "cell_type": "markdown",
   "id": "220a4eb9",
   "metadata": {
    "lang": "de"
   },
   "source": [
    "# Plotten von Data Frames"
   ]
  },
  {
   "cell_type": "code",
   "execution_count": 18,
   "id": "885113bc",
   "metadata": {},
   "outputs": [
    {
     "data": {
      "image/png": "[encoded data removed]",
      "text/plain": [
       "<Figure size 432x288 with 1 Axes>"
      ]
     },
     "metadata": {
      "needs_background": "light"
     },
     "output_type": "display_data"
    }
   ],
   "source": [
    "df_csv[\"Col 0\"].hist(bins=40);"
   ]
  },
  {
   "cell_type": "code",
   "execution_count": 19,
   "id": "b9eb3bd6",
   "metadata": {},
   "outputs": [
    {
     "data": {
      "image/png": "[encoded data removed]",
      "text/plain": [
       "<Figure size 864x576 with 9 Axes>"
      ]
     },
     "metadata": {
      "needs_background": "light"
     },
     "output_type": "display_data"
    }
   ],
   "source": [
    "df_csv.hist(bins=20, figsize=(12, 8));"
   ]
  },
  {
   "cell_type": "code",
   "execution_count": 21,
   "id": "3b2aad09",
   "metadata": {},
   "outputs": [
    {
     "data": {
      "image/png": "[encoded data removed]",
      "text/plain": [
       "<Figure size 432x288 with 1 Axes>"
      ]
     },
     "metadata": {
      "needs_background": "light"
     },
     "output_type": "display_data"
    }
   ],
   "source": [
    "df_csv.plot(kind=\"scatter\", x=\"Col 1\", y=\"Col 2\", alpha=0.4);"
   ]
  },
  {
   "cell_type": "code",
   "execution_count": 22,
   "id": "08d69020",
   "metadata": {},
   "outputs": [
    {
     "data": {
      "image/png": "[encoded data removed]",
      "text/plain": [
       "<Figure size 432x288 with 2 Axes>"
      ]
     },
     "metadata": {
      "needs_background": "light"
     },
     "output_type": "display_data"
    }
   ],
   "source": [
    "df_csv.plot(kind=\"scatter\", x=\"Col 1\", y=\"Col 2\", c=\"Col 3\", cmap=\"hot\");"
   ]
  },
  {
   "cell_type": "markdown",
   "id": "d193d2c7",
   "metadata": {
    "lang": "de"
   },
   "source": [
    "### Indizes und Operationen"
   ]
  },
  {
   "cell_type": "code",
   "execution_count": 23,
   "id": "0676e0f8",
   "metadata": {
    "lines_to_next_cell": 2,
    "tags": [
     "code-along"
    ]
   },
   "outputs": [
    {
     "data": {
      "text/html": [
       "<div>\n",
       "<style scoped>\n",
       "    .dataframe tbody tr th:only-of-type {\n",
       "        vertical-align: middle;\n",
       "    }\n",
       "\n",
       "    .dataframe tbody tr th {\n",
       "        vertical-align: top;\n",
       "    }\n",
       "\n",
       "    .dataframe thead th {\n",
       "        text-align: right;\n",
       "    }\n",
       "</style>\n",
       "<table border=\"1\" class=\"dataframe\">\n",
       "  <thead>\n",
       "    <tr style=\"text-align: right;\">\n",
       "      <th></th>\n",
       "      <th>Col 0</th>\n",
       "      <th>Col 1</th>\n",
       "      <th>Col 2</th>\n",
       "      <th>Col 3</th>\n",
       "      <th>Col 4</th>\n",
       "      <th>Col 5</th>\n",
       "      <th>Col 6</th>\n",
       "      <th>Col 7</th>\n",
       "    </tr>\n",
       "  </thead>\n",
       "  <tbody>\n",
       "    <tr>\n",
       "      <th>Index 0</th>\n",
       "      <td>4.076693</td>\n",
       "      <td>-11.592472</td>\n",
       "      <td>5.758058</td>\n",
       "      <td>1.995488</td>\n",
       "      <td>7.433482</td>\n",
       "      <td>-2.697633</td>\n",
       "      <td>10.386505</td>\n",
       "      <td>1.392989</td>\n",
       "    </tr>\n",
       "    <tr>\n",
       "      <th>Index 1</th>\n",
       "      <td>-8.091764</td>\n",
       "      <td>-9.263259</td>\n",
       "      <td>13.398781</td>\n",
       "      <td>3.364558</td>\n",
       "      <td>-4.504057</td>\n",
       "      <td>13.487790</td>\n",
       "      <td>19.387826</td>\n",
       "      <td>10.307054</td>\n",
       "    </tr>\n",
       "    <tr>\n",
       "      <th>Index 2</th>\n",
       "      <td>-9.967062</td>\n",
       "      <td>17.347022</td>\n",
       "      <td>-7.131536</td>\n",
       "      <td>8.946958</td>\n",
       "      <td>-4.560652</td>\n",
       "      <td>-1.350351</td>\n",
       "      <td>10.932789</td>\n",
       "      <td>14.030532</td>\n",
       "    </tr>\n",
       "    <tr>\n",
       "      <th>Index 3</th>\n",
       "      <td>4.473407</td>\n",
       "      <td>-4.188944</td>\n",
       "      <td>-9.067113</td>\n",
       "      <td>-20.351787</td>\n",
       "      <td>10.067044</td>\n",
       "      <td>-11.084616</td>\n",
       "      <td>-2.390302</td>\n",
       "      <td>-10.064766</td>\n",
       "    </tr>\n",
       "    <tr>\n",
       "      <th>Index 4</th>\n",
       "      <td>-10.909624</td>\n",
       "      <td>3.213494</td>\n",
       "      <td>18.101500</td>\n",
       "      <td>10.736058</td>\n",
       "      <td>-6.578314</td>\n",
       "      <td>4.997114</td>\n",
       "      <td>-6.464901</td>\n",
       "      <td>0.021843</td>\n",
       "    </tr>\n",
       "  </tbody>\n",
       "</table>\n",
       "</div>"
      ],
      "text/plain": [
       "             Col 0      Col 1      Col 2      Col 3      Col 4      Col 5  \\\n",
       "Index 0   4.076693 -11.592472   5.758058   1.995488   7.433482  -2.697633   \n",
       "Index 1  -8.091764  -9.263259  13.398781   3.364558  -4.504057  13.487790   \n",
       "Index 2  -9.967062  17.347022  -7.131536   8.946958  -4.560652  -1.350351   \n",
       "Index 3   4.473407  -4.188944  -9.067113 -20.351787  10.067044 -11.084616   \n",
       "Index 4 -10.909624   3.213494  18.101500  10.736058  -6.578314   4.997114   \n",
       "\n",
       "             Col 6      Col 7  \n",
       "Index 0  10.386505   1.392989  \n",
       "Index 1  19.387826  10.307054  \n",
       "Index 2  10.932789  14.030532  \n",
       "Index 3  -2.390302 -10.064766  \n",
       "Index 4  -6.464901   0.021843  "
      ]
     },
     "execution_count": 23,
     "metadata": {},
     "output_type": "execute_result"
    }
   ],
   "source": [
    "df_csv.head()"
   ]
  },
  {
   "cell_type": "code",
   "execution_count": 24,
   "id": "6b9342d3",
   "metadata": {
    "lines_to_next_cell": 2,
    "tags": [
     "code-along"
    ]
   },
   "outputs": [
    {
     "data": {
      "text/html": [
       "<div>\n",
       "<style scoped>\n",
       "    .dataframe tbody tr th:only-of-type {\n",
       "        vertical-align: middle;\n",
       "    }\n",
       "\n",
       "    .dataframe tbody tr th {\n",
       "        vertical-align: top;\n",
       "    }\n",
       "\n",
       "    .dataframe thead th {\n",
       "        text-align: right;\n",
       "    }\n",
       "</style>\n",
       "<table border=\"1\" class=\"dataframe\">\n",
       "  <thead>\n",
       "    <tr style=\"text-align: right;\">\n",
       "      <th></th>\n",
       "      <th>Col 0</th>\n",
       "      <th>Col 1</th>\n",
       "      <th>Col 2</th>\n",
       "      <th>Col 3</th>\n",
       "      <th>Col 4</th>\n",
       "      <th>Col 5</th>\n",
       "      <th>Col 6</th>\n",
       "      <th>Col 7</th>\n",
       "    </tr>\n",
       "  </thead>\n",
       "  <tbody>\n",
       "    <tr>\n",
       "      <th>Index 995</th>\n",
       "      <td>-14.445522</td>\n",
       "      <td>6.513853</td>\n",
       "      <td>-6.446964</td>\n",
       "      <td>-10.729593</td>\n",
       "      <td>-2.300384</td>\n",
       "      <td>14.966634</td>\n",
       "      <td>-4.796942</td>\n",
       "      <td>-12.922157</td>\n",
       "    </tr>\n",
       "    <tr>\n",
       "      <th>Index 996</th>\n",
       "      <td>12.300935</td>\n",
       "      <td>1.203874</td>\n",
       "      <td>5.127201</td>\n",
       "      <td>-13.744109</td>\n",
       "      <td>1.032070</td>\n",
       "      <td>14.428249</td>\n",
       "      <td>-12.334804</td>\n",
       "      <td>12.607952</td>\n",
       "    </tr>\n",
       "    <tr>\n",
       "      <th>Index 997</th>\n",
       "      <td>3.074044</td>\n",
       "      <td>6.492773</td>\n",
       "      <td>-2.589086</td>\n",
       "      <td>-11.088337</td>\n",
       "      <td>1.747953</td>\n",
       "      <td>16.040783</td>\n",
       "      <td>3.921457</td>\n",
       "      <td>-4.266764</td>\n",
       "    </tr>\n",
       "    <tr>\n",
       "      <th>Index 998</th>\n",
       "      <td>4.563576</td>\n",
       "      <td>14.066358</td>\n",
       "      <td>-4.915146</td>\n",
       "      <td>-6.283678</td>\n",
       "      <td>-1.343589</td>\n",
       "      <td>-22.898390</td>\n",
       "      <td>-6.044495</td>\n",
       "      <td>-14.400880</td>\n",
       "    </tr>\n",
       "    <tr>\n",
       "      <th>Index 999</th>\n",
       "      <td>8.426685</td>\n",
       "      <td>16.927540</td>\n",
       "      <td>12.667732</td>\n",
       "      <td>26.127088</td>\n",
       "      <td>8.269967</td>\n",
       "      <td>8.847097</td>\n",
       "      <td>-1.603626</td>\n",
       "      <td>17.094113</td>\n",
       "    </tr>\n",
       "  </tbody>\n",
       "</table>\n",
       "</div>"
      ],
      "text/plain": [
       "               Col 0      Col 1      Col 2      Col 3     Col 4      Col 5  \\\n",
       "Index 995 -14.445522   6.513853  -6.446964 -10.729593 -2.300384  14.966634   \n",
       "Index 996  12.300935   1.203874   5.127201 -13.744109  1.032070  14.428249   \n",
       "Index 997   3.074044   6.492773  -2.589086 -11.088337  1.747953  16.040783   \n",
       "Index 998   4.563576  14.066358  -4.915146  -6.283678 -1.343589 -22.898390   \n",
       "Index 999   8.426685  16.927540  12.667732  26.127088  8.269967   8.847097   \n",
       "\n",
       "               Col 6      Col 7  \n",
       "Index 995  -4.796942 -12.922157  \n",
       "Index 996 -12.334804  12.607952  \n",
       "Index 997   3.921457  -4.266764  \n",
       "Index 998  -6.044495 -14.400880  \n",
       "Index 999  -1.603626  17.094113  "
      ]
     },
     "execution_count": 24,
     "metadata": {},
     "output_type": "execute_result"
    }
   ],
   "source": [
    "df_csv.tail()"
   ]
  },
  {
   "cell_type": "code",
   "execution_count": 25,
   "id": "f9b2ab26",
   "metadata": {
    "lines_to_next_cell": 2,
    "tags": [
     "code-along"
    ]
   },
   "outputs": [
    {
     "data": {
      "text/html": [
       "<div>\n",
       "<style scoped>\n",
       "    .dataframe tbody tr th:only-of-type {\n",
       "        vertical-align: middle;\n",
       "    }\n",
       "\n",
       "    .dataframe tbody tr th {\n",
       "        vertical-align: top;\n",
       "    }\n",
       "\n",
       "    .dataframe thead th {\n",
       "        text-align: right;\n",
       "    }\n",
       "</style>\n",
       "<table border=\"1\" class=\"dataframe\">\n",
       "  <thead>\n",
       "    <tr style=\"text-align: right;\">\n",
       "      <th></th>\n",
       "      <th>w</th>\n",
       "      <th>x</th>\n",
       "      <th>y</th>\n",
       "      <th>z</th>\n",
       "    </tr>\n",
       "  </thead>\n",
       "  <tbody>\n",
       "    <tr>\n",
       "      <th>A</th>\n",
       "      <td>1.523585</td>\n",
       "      <td>-5.199921</td>\n",
       "      <td>3.752256</td>\n",
       "      <td>4.702824</td>\n",
       "    </tr>\n",
       "    <tr>\n",
       "      <th>B</th>\n",
       "      <td>-9.755176</td>\n",
       "      <td>-6.510898</td>\n",
       "      <td>0.639202</td>\n",
       "      <td>-1.581213</td>\n",
       "    </tr>\n",
       "    <tr>\n",
       "      <th>C</th>\n",
       "      <td>-0.084006</td>\n",
       "      <td>-4.265220</td>\n",
       "      <td>4.396990</td>\n",
       "      <td>3.888960</td>\n",
       "    </tr>\n",
       "    <tr>\n",
       "      <th>D</th>\n",
       "      <td>0.330153</td>\n",
       "      <td>5.636206</td>\n",
       "      <td>2.337547</td>\n",
       "      <td>-4.296462</td>\n",
       "    </tr>\n",
       "    <tr>\n",
       "      <th>E</th>\n",
       "      <td>1.843754</td>\n",
       "      <td>-4.794413</td>\n",
       "      <td>4.392252</td>\n",
       "      <td>-0.249630</td>\n",
       "    </tr>\n",
       "  </tbody>\n",
       "</table>\n",
       "</div>"
      ],
      "text/plain": [
       "          w         x         y         z\n",
       "A  1.523585 -5.199921  3.752256  4.702824\n",
       "B -9.755176 -6.510898  0.639202 -1.581213\n",
       "C -0.084006 -4.265220  4.396990  3.888960\n",
       "D  0.330153  5.636206  2.337547 -4.296462\n",
       "E  1.843754 -4.794413  4.392252 -0.249630"
      ]
     },
     "execution_count": 25,
     "metadata": {},
     "output_type": "execute_result"
    }
   ],
   "source": [
    "df = create_data_frame()\n",
    "df"
   ]
  },
  {
   "cell_type": "code",
   "execution_count": 26,
   "id": "68bc0635",
   "metadata": {
    "lines_to_next_cell": 2,
    "tags": [
     "code-along"
    ]
   },
   "outputs": [
    {
     "data": {
      "text/plain": [
       "A    1.523585\n",
       "B   -9.755176\n",
       "C   -0.084006\n",
       "D    0.330153\n",
       "E    1.843754\n",
       "Name: w, dtype: float64"
      ]
     },
     "execution_count": 26,
     "metadata": {},
     "output_type": "execute_result"
    }
   ],
   "source": [
    "df[\"w\"]"
   ]
  },
  {
   "cell_type": "code",
   "execution_count": 30,
   "id": "9d5d3f54",
   "metadata": {
    "lines_to_next_cell": 2,
    "tags": [
     "code-along"
    ]
   },
   "outputs": [
    {
     "data": {
      "text/html": [
       "<div>\n",
       "<style scoped>\n",
       "    .dataframe tbody tr th:only-of-type {\n",
       "        vertical-align: middle;\n",
       "    }\n",
       "\n",
       "    .dataframe tbody tr th {\n",
       "        vertical-align: top;\n",
       "    }\n",
       "\n",
       "    .dataframe thead th {\n",
       "        text-align: right;\n",
       "    }\n",
       "</style>\n",
       "<table border=\"1\" class=\"dataframe\">\n",
       "  <thead>\n",
       "    <tr style=\"text-align: right;\">\n",
       "      <th></th>\n",
       "      <th>w</th>\n",
       "      <th>y</th>\n",
       "    </tr>\n",
       "  </thead>\n",
       "  <tbody>\n",
       "    <tr>\n",
       "      <th>A</th>\n",
       "      <td>1.523585</td>\n",
       "      <td>3.752256</td>\n",
       "    </tr>\n",
       "    <tr>\n",
       "      <th>B</th>\n",
       "      <td>-9.755176</td>\n",
       "      <td>0.639202</td>\n",
       "    </tr>\n",
       "    <tr>\n",
       "      <th>C</th>\n",
       "      <td>-0.084006</td>\n",
       "      <td>4.396990</td>\n",
       "    </tr>\n",
       "    <tr>\n",
       "      <th>D</th>\n",
       "      <td>0.330153</td>\n",
       "      <td>2.337547</td>\n",
       "    </tr>\n",
       "    <tr>\n",
       "      <th>E</th>\n",
       "      <td>1.843754</td>\n",
       "      <td>4.392252</td>\n",
       "    </tr>\n",
       "  </tbody>\n",
       "</table>\n",
       "</div>"
      ],
      "text/plain": [
       "          w         y\n",
       "A  1.523585  3.752256\n",
       "B -9.755176  0.639202\n",
       "C -0.084006  4.396990\n",
       "D  0.330153  2.337547\n",
       "E  1.843754  4.392252"
      ]
     },
     "execution_count": 30,
     "metadata": {},
     "output_type": "execute_result"
    }
   ],
   "source": [
    "df[[\"w\", \"y\"]]"
   ]
  },
  {
   "cell_type": "code",
   "execution_count": 31,
   "id": "1358cf79",
   "metadata": {},
   "outputs": [
    {
     "data": {
      "text/html": [
       "<div>\n",
       "<style scoped>\n",
       "    .dataframe tbody tr th:only-of-type {\n",
       "        vertical-align: middle;\n",
       "    }\n",
       "\n",
       "    .dataframe tbody tr th {\n",
       "        vertical-align: top;\n",
       "    }\n",
       "\n",
       "    .dataframe thead th {\n",
       "        text-align: right;\n",
       "    }\n",
       "</style>\n",
       "<table border=\"1\" class=\"dataframe\">\n",
       "  <thead>\n",
       "    <tr style=\"text-align: right;\">\n",
       "      <th></th>\n",
       "      <th>w</th>\n",
       "      <th>x</th>\n",
       "      <th>y</th>\n",
       "      <th>z</th>\n",
       "    </tr>\n",
       "  </thead>\n",
       "  <tbody>\n",
       "    <tr>\n",
       "      <th>A</th>\n",
       "      <td>1.523585</td>\n",
       "      <td>-5.199921</td>\n",
       "      <td>3.752256</td>\n",
       "      <td>4.702824</td>\n",
       "    </tr>\n",
       "    <tr>\n",
       "      <th>B</th>\n",
       "      <td>-9.755176</td>\n",
       "      <td>-6.510898</td>\n",
       "      <td>0.639202</td>\n",
       "      <td>-1.581213</td>\n",
       "    </tr>\n",
       "    <tr>\n",
       "      <th>C</th>\n",
       "      <td>-0.084006</td>\n",
       "      <td>-4.265220</td>\n",
       "      <td>4.396990</td>\n",
       "      <td>3.888960</td>\n",
       "    </tr>\n",
       "    <tr>\n",
       "      <th>D</th>\n",
       "      <td>0.330153</td>\n",
       "      <td>5.636206</td>\n",
       "      <td>2.337547</td>\n",
       "      <td>-4.296462</td>\n",
       "    </tr>\n",
       "    <tr>\n",
       "      <th>E</th>\n",
       "      <td>1.843754</td>\n",
       "      <td>-4.794413</td>\n",
       "      <td>4.392252</td>\n",
       "      <td>-0.249630</td>\n",
       "    </tr>\n",
       "  </tbody>\n",
       "</table>\n",
       "</div>"
      ],
      "text/plain": [
       "          w         x         y         z\n",
       "A  1.523585 -5.199921  3.752256  4.702824\n",
       "B -9.755176 -6.510898  0.639202 -1.581213\n",
       "C -0.084006 -4.265220  4.396990  3.888960\n",
       "D  0.330153  5.636206  2.337547 -4.296462\n",
       "E  1.843754 -4.794413  4.392252 -0.249630"
      ]
     },
     "execution_count": 31,
     "metadata": {},
     "output_type": "execute_result"
    }
   ],
   "source": [
    "df"
   ]
  },
  {
   "cell_type": "code",
   "execution_count": 32,
   "id": "c7f2e58a",
   "metadata": {
    "lines_to_next_cell": 2,
    "tags": [
     "code-along"
    ]
   },
   "outputs": [
    {
     "data": {
      "text/html": [
       "<div>\n",
       "<style scoped>\n",
       "    .dataframe tbody tr th:only-of-type {\n",
       "        vertical-align: middle;\n",
       "    }\n",
       "\n",
       "    .dataframe tbody tr th {\n",
       "        vertical-align: top;\n",
       "    }\n",
       "\n",
       "    .dataframe thead th {\n",
       "        text-align: right;\n",
       "    }\n",
       "</style>\n",
       "<table border=\"1\" class=\"dataframe\">\n",
       "  <thead>\n",
       "    <tr style=\"text-align: right;\">\n",
       "      <th></th>\n",
       "      <th>w</th>\n",
       "      <th>x</th>\n",
       "      <th>y</th>\n",
       "      <th>z</th>\n",
       "    </tr>\n",
       "  </thead>\n",
       "  <tbody>\n",
       "    <tr>\n",
       "      <th>A</th>\n",
       "      <td>1.523585</td>\n",
       "      <td>-5.199921</td>\n",
       "      <td>3.752256</td>\n",
       "      <td>4.702824</td>\n",
       "    </tr>\n",
       "    <tr>\n",
       "      <th>B</th>\n",
       "      <td>-9.755176</td>\n",
       "      <td>-6.510898</td>\n",
       "      <td>0.639202</td>\n",
       "      <td>-1.581213</td>\n",
       "    </tr>\n",
       "  </tbody>\n",
       "</table>\n",
       "</div>"
      ],
      "text/plain": [
       "          w         x         y         z\n",
       "A  1.523585 -5.199921  3.752256  4.702824\n",
       "B -9.755176 -6.510898  0.639202 -1.581213"
      ]
     },
     "execution_count": 32,
     "metadata": {},
     "output_type": "execute_result"
    }
   ],
   "source": [
    "df.loc[[\"A\", \"B\"]]"
   ]
  },
  {
   "cell_type": "code",
   "execution_count": 33,
   "id": "a7f9b852",
   "metadata": {
    "lines_to_next_cell": 2,
    "tags": [
     "code-along"
    ]
   },
   "outputs": [
    {
     "data": {
      "text/plain": [
       "w   -9.755176\n",
       "x   -6.510898\n",
       "y    0.639202\n",
       "z   -1.581213\n",
       "Name: B, dtype: float64"
      ]
     },
     "execution_count": 33,
     "metadata": {},
     "output_type": "execute_result"
    }
   ],
   "source": [
    "df.iloc[1]"
   ]
  },
  {
   "cell_type": "code",
   "execution_count": 34,
   "id": "292bfeef",
   "metadata": {
    "lines_to_next_cell": 2,
    "tags": [
     "code-along"
    ]
   },
   "outputs": [
    {
     "data": {
      "text/html": [
       "<div>\n",
       "<style scoped>\n",
       "    .dataframe tbody tr th:only-of-type {\n",
       "        vertical-align: middle;\n",
       "    }\n",
       "\n",
       "    .dataframe tbody tr th {\n",
       "        vertical-align: top;\n",
       "    }\n",
       "\n",
       "    .dataframe thead th {\n",
       "        text-align: right;\n",
       "    }\n",
       "</style>\n",
       "<table border=\"1\" class=\"dataframe\">\n",
       "  <thead>\n",
       "    <tr style=\"text-align: right;\">\n",
       "      <th></th>\n",
       "      <th>w</th>\n",
       "      <th>x</th>\n",
       "      <th>y</th>\n",
       "      <th>z</th>\n",
       "    </tr>\n",
       "  </thead>\n",
       "  <tbody>\n",
       "    <tr>\n",
       "      <th>B</th>\n",
       "      <td>-9.755176</td>\n",
       "      <td>-6.510898</td>\n",
       "      <td>0.639202</td>\n",
       "      <td>-1.581213</td>\n",
       "    </tr>\n",
       "    <tr>\n",
       "      <th>C</th>\n",
       "      <td>-0.084006</td>\n",
       "      <td>-4.265220</td>\n",
       "      <td>4.396990</td>\n",
       "      <td>3.888960</td>\n",
       "    </tr>\n",
       "    <tr>\n",
       "      <th>D</th>\n",
       "      <td>0.330153</td>\n",
       "      <td>5.636206</td>\n",
       "      <td>2.337547</td>\n",
       "      <td>-4.296462</td>\n",
       "    </tr>\n",
       "  </tbody>\n",
       "</table>\n",
       "</div>"
      ],
      "text/plain": [
       "          w         x         y         z\n",
       "B -9.755176 -6.510898  0.639202 -1.581213\n",
       "C -0.084006 -4.265220  4.396990  3.888960\n",
       "D  0.330153  5.636206  2.337547 -4.296462"
      ]
     },
     "execution_count": 34,
     "metadata": {},
     "output_type": "execute_result"
    }
   ],
   "source": [
    "df.iloc[[1, 2, 3]]"
   ]
  },
  {
   "cell_type": "code",
   "execution_count": null,
   "id": "3442b9f1",
   "metadata": {
    "lines_to_next_cell": 2,
    "tags": [
     "code-along"
    ]
   },
   "outputs": [],
   "source": []
  },
  {
   "cell_type": "code",
   "execution_count": null,
   "id": "540015ba",
   "metadata": {
    "lines_to_next_cell": 2,
    "tags": [
     "code-along"
    ]
   },
   "outputs": [],
   "source": []
  },
  {
   "cell_type": "code",
   "execution_count": null,
   "id": "c9519998",
   "metadata": {
    "tags": [
     "code-along"
    ]
   },
   "outputs": [],
   "source": []
  },
  {
   "cell_type": "markdown",
   "id": "e19c8297",
   "metadata": {
    "lang": "de"
   },
   "source": [
    "### Erzeugen, Umbenennen und Löschen von Spalten"
   ]
  },
  {
   "cell_type": "code",
   "execution_count": null,
   "id": "701d962a",
   "metadata": {
    "lines_to_next_cell": 2,
    "tags": [
     "code-along"
    ]
   },
   "outputs": [],
   "source": []
  },
  {
   "cell_type": "code",
   "execution_count": null,
   "id": "808849d8",
   "metadata": {
    "lines_to_next_cell": 2,
    "tags": [
     "code-along"
    ]
   },
   "outputs": [],
   "source": []
  },
  {
   "cell_type": "code",
   "execution_count": null,
   "id": "bbcc3890",
   "metadata": {
    "lines_to_next_cell": 2,
    "tags": [
     "code-along"
    ]
   },
   "outputs": [],
   "source": []
  },
  {
   "cell_type": "code",
   "execution_count": null,
   "id": "89f57320",
   "metadata": {
    "lines_to_next_cell": 2,
    "tags": [
     "code-along"
    ]
   },
   "outputs": [],
   "source": []
  },
  {
   "cell_type": "code",
   "execution_count": null,
   "id": "53f25159",
   "metadata": {
    "lines_to_next_cell": 2,
    "tags": [
     "code-along"
    ]
   },
   "outputs": [],
   "source": []
  },
  {
   "cell_type": "code",
   "execution_count": null,
   "id": "9c3eb5bc",
   "metadata": {
    "lines_to_next_cell": 2,
    "tags": [
     "code-along"
    ]
   },
   "outputs": [],
   "source": []
  },
  {
   "cell_type": "code",
   "execution_count": null,
   "id": "afccc6a0",
   "metadata": {
    "lines_to_next_cell": 2,
    "tags": [
     "code-along"
    ]
   },
   "outputs": [],
   "source": []
  },
  {
   "cell_type": "code",
   "execution_count": null,
   "id": "044a854f",
   "metadata": {
    "lines_to_next_cell": 2,
    "tags": [
     "code-along"
    ]
   },
   "outputs": [],
   "source": []
  },
  {
   "cell_type": "code",
   "execution_count": null,
   "id": "736b38a1",
   "metadata": {
    "lines_to_next_cell": 2,
    "tags": [
     "code-along"
    ]
   },
   "outputs": [],
   "source": []
  },
  {
   "cell_type": "code",
   "execution_count": null,
   "id": "c6c0c4ec",
   "metadata": {
    "lines_to_next_cell": 2,
    "tags": [
     "code-along"
    ]
   },
   "outputs": [],
   "source": []
  },
  {
   "cell_type": "code",
   "execution_count": null,
   "id": "ddb04993",
   "metadata": {
    "lines_to_next_cell": 2,
    "tags": [
     "code-along"
    ]
   },
   "outputs": [],
   "source": []
  },
  {
   "cell_type": "code",
   "execution_count": null,
   "id": "e3db5f1e",
   "metadata": {
    "lines_to_next_cell": 2,
    "tags": [
     "code-along"
    ]
   },
   "outputs": [],
   "source": []
  },
  {
   "cell_type": "code",
   "execution_count": null,
   "id": "877d59e8",
   "metadata": {
    "lines_to_next_cell": 2,
    "tags": [
     "code-along"
    ]
   },
   "outputs": [],
   "source": []
  },
  {
   "cell_type": "code",
   "execution_count": null,
   "id": "95f747cb",
   "metadata": {
    "lines_to_next_cell": 2,
    "tags": [
     "code-along"
    ]
   },
   "outputs": [],
   "source": []
  },
  {
   "cell_type": "code",
   "execution_count": null,
   "id": "be081bfd",
   "metadata": {
    "lines_to_next_cell": 2,
    "tags": [
     "code-along"
    ]
   },
   "outputs": [],
   "source": []
  },
  {
   "cell_type": "code",
   "execution_count": null,
   "id": "be4d010c",
   "metadata": {
    "lines_to_next_cell": 2,
    "tags": [
     "code-along"
    ]
   },
   "outputs": [],
   "source": []
  },
  {
   "cell_type": "code",
   "execution_count": null,
   "id": "49c7987e",
   "metadata": {
    "tags": [
     "code-along"
    ]
   },
   "outputs": [],
   "source": []
  },
  {
   "cell_type": "markdown",
   "id": "8abf6aae",
   "metadata": {
    "lang": "de"
   },
   "source": [
    "## Auswahl"
   ]
  },
  {
   "cell_type": "code",
   "execution_count": null,
   "id": "e95d4b0d",
   "metadata": {
    "lines_to_next_cell": 2,
    "tags": [
     "code-along"
    ]
   },
   "outputs": [],
   "source": []
  },
  {
   "cell_type": "code",
   "execution_count": null,
   "id": "a39ce928",
   "metadata": {
    "lines_to_next_cell": 2,
    "tags": [
     "code-along"
    ]
   },
   "outputs": [],
   "source": []
  },
  {
   "cell_type": "code",
   "execution_count": null,
   "id": "b4d3f24d",
   "metadata": {
    "lines_to_next_cell": 2,
    "tags": [
     "code-along"
    ]
   },
   "outputs": [],
   "source": []
  },
  {
   "cell_type": "code",
   "execution_count": null,
   "id": "688a726c",
   "metadata": {
    "lines_to_next_cell": 2,
    "tags": [
     "code-along"
    ]
   },
   "outputs": [],
   "source": []
  },
  {
   "cell_type": "code",
   "execution_count": null,
   "id": "b80c8035",
   "metadata": {
    "lines_to_next_cell": 2,
    "tags": [
     "code-along"
    ]
   },
   "outputs": [],
   "source": []
  },
  {
   "cell_type": "code",
   "execution_count": null,
   "id": "f38ea3d7",
   "metadata": {
    "lines_to_next_cell": 2,
    "tags": [
     "code-along"
    ]
   },
   "outputs": [],
   "source": []
  },
  {
   "cell_type": "code",
   "execution_count": null,
   "id": "cb56f1d9",
   "metadata": {
    "lines_to_next_cell": 2,
    "tags": [
     "code-along"
    ]
   },
   "outputs": [],
   "source": []
  },
  {
   "cell_type": "code",
   "execution_count": null,
   "id": "15d01dd6",
   "metadata": {
    "lines_to_next_cell": 2,
    "tags": [
     "code-along"
    ]
   },
   "outputs": [],
   "source": []
  },
  {
   "cell_type": "code",
   "execution_count": null,
   "id": "6bdff39a",
   "metadata": {
    "lines_to_next_cell": 2,
    "tags": [
     "code-along"
    ]
   },
   "outputs": [],
   "source": []
  },
  {
   "cell_type": "code",
   "execution_count": null,
   "id": "a8642032",
   "metadata": {
    "lines_to_next_cell": 2,
    "tags": [
     "code-along"
    ]
   },
   "outputs": [],
   "source": []
  },
  {
   "cell_type": "code",
   "execution_count": null,
   "id": "301db45a",
   "metadata": {
    "lines_to_next_cell": 2,
    "tags": [
     "code-along"
    ]
   },
   "outputs": [],
   "source": []
  },
  {
   "cell_type": "code",
   "execution_count": null,
   "id": "fb55b68a",
   "metadata": {
    "tags": [
     "code-along"
    ]
   },
   "outputs": [],
   "source": []
  },
  {
   "cell_type": "markdown",
   "id": "c0f7d986",
   "metadata": {
    "lang": "de"
   },
   "source": [
    "## Bedingte Auswahl"
   ]
  },
  {
   "cell_type": "code",
   "execution_count": 35,
   "id": "206f43d3",
   "metadata": {
    "lines_to_next_cell": 2,
    "tags": [
     "code-along"
    ]
   },
   "outputs": [
    {
     "data": {
      "text/html": [
       "<div>\n",
       "<style scoped>\n",
       "    .dataframe tbody tr th:only-of-type {\n",
       "        vertical-align: middle;\n",
       "    }\n",
       "\n",
       "    .dataframe tbody tr th {\n",
       "        vertical-align: top;\n",
       "    }\n",
       "\n",
       "    .dataframe thead th {\n",
       "        text-align: right;\n",
       "    }\n",
       "</style>\n",
       "<table border=\"1\" class=\"dataframe\">\n",
       "  <thead>\n",
       "    <tr style=\"text-align: right;\">\n",
       "      <th></th>\n",
       "      <th>w</th>\n",
       "      <th>x</th>\n",
       "      <th>y</th>\n",
       "      <th>z</th>\n",
       "    </tr>\n",
       "  </thead>\n",
       "  <tbody>\n",
       "    <tr>\n",
       "      <th>A</th>\n",
       "      <td>1.523585</td>\n",
       "      <td>-5.199921</td>\n",
       "      <td>3.752256</td>\n",
       "      <td>4.702824</td>\n",
       "    </tr>\n",
       "    <tr>\n",
       "      <th>B</th>\n",
       "      <td>-9.755176</td>\n",
       "      <td>-6.510898</td>\n",
       "      <td>0.639202</td>\n",
       "      <td>-1.581213</td>\n",
       "    </tr>\n",
       "    <tr>\n",
       "      <th>C</th>\n",
       "      <td>-0.084006</td>\n",
       "      <td>-4.265220</td>\n",
       "      <td>4.396990</td>\n",
       "      <td>3.888960</td>\n",
       "    </tr>\n",
       "    <tr>\n",
       "      <th>D</th>\n",
       "      <td>0.330153</td>\n",
       "      <td>5.636206</td>\n",
       "      <td>2.337547</td>\n",
       "      <td>-4.296462</td>\n",
       "    </tr>\n",
       "    <tr>\n",
       "      <th>E</th>\n",
       "      <td>1.843754</td>\n",
       "      <td>-4.794413</td>\n",
       "      <td>4.392252</td>\n",
       "      <td>-0.249630</td>\n",
       "    </tr>\n",
       "  </tbody>\n",
       "</table>\n",
       "</div>"
      ],
      "text/plain": [
       "          w         x         y         z\n",
       "A  1.523585 -5.199921  3.752256  4.702824\n",
       "B -9.755176 -6.510898  0.639202 -1.581213\n",
       "C -0.084006 -4.265220  4.396990  3.888960\n",
       "D  0.330153  5.636206  2.337547 -4.296462\n",
       "E  1.843754 -4.794413  4.392252 -0.249630"
      ]
     },
     "execution_count": 35,
     "metadata": {},
     "output_type": "execute_result"
    }
   ],
   "source": [
    "df = create_data_frame()\n",
    "df"
   ]
  },
  {
   "cell_type": "code",
   "execution_count": 36,
   "id": "f978b7a9",
   "metadata": {
    "lines_to_next_cell": 2,
    "tags": [
     "code-along"
    ]
   },
   "outputs": [
    {
     "data": {
      "text/html": [
       "<div>\n",
       "<style scoped>\n",
       "    .dataframe tbody tr th:only-of-type {\n",
       "        vertical-align: middle;\n",
       "    }\n",
       "\n",
       "    .dataframe tbody tr th {\n",
       "        vertical-align: top;\n",
       "    }\n",
       "\n",
       "    .dataframe thead th {\n",
       "        text-align: right;\n",
       "    }\n",
       "</style>\n",
       "<table border=\"1\" class=\"dataframe\">\n",
       "  <thead>\n",
       "    <tr style=\"text-align: right;\">\n",
       "      <th></th>\n",
       "      <th>w</th>\n",
       "      <th>x</th>\n",
       "      <th>y</th>\n",
       "      <th>z</th>\n",
       "    </tr>\n",
       "  </thead>\n",
       "  <tbody>\n",
       "    <tr>\n",
       "      <th>A</th>\n",
       "      <td>True</td>\n",
       "      <td>False</td>\n",
       "      <td>True</td>\n",
       "      <td>True</td>\n",
       "    </tr>\n",
       "    <tr>\n",
       "      <th>B</th>\n",
       "      <td>False</td>\n",
       "      <td>False</td>\n",
       "      <td>True</td>\n",
       "      <td>False</td>\n",
       "    </tr>\n",
       "    <tr>\n",
       "      <th>C</th>\n",
       "      <td>False</td>\n",
       "      <td>False</td>\n",
       "      <td>True</td>\n",
       "      <td>True</td>\n",
       "    </tr>\n",
       "    <tr>\n",
       "      <th>D</th>\n",
       "      <td>True</td>\n",
       "      <td>True</td>\n",
       "      <td>True</td>\n",
       "      <td>False</td>\n",
       "    </tr>\n",
       "    <tr>\n",
       "      <th>E</th>\n",
       "      <td>True</td>\n",
       "      <td>False</td>\n",
       "      <td>True</td>\n",
       "      <td>False</td>\n",
       "    </tr>\n",
       "  </tbody>\n",
       "</table>\n",
       "</div>"
      ],
      "text/plain": [
       "       w      x     y      z\n",
       "A   True  False  True   True\n",
       "B  False  False  True  False\n",
       "C  False  False  True   True\n",
       "D   True   True  True  False\n",
       "E   True  False  True  False"
      ]
     },
     "execution_count": 36,
     "metadata": {},
     "output_type": "execute_result"
    }
   ],
   "source": [
    "df > 0"
   ]
  },
  {
   "cell_type": "code",
   "execution_count": 37,
   "id": "8fc69e97",
   "metadata": {
    "lines_to_next_cell": 2,
    "tags": [
     "code-along"
    ]
   },
   "outputs": [
    {
     "data": {
      "text/html": [
       "<div>\n",
       "<style scoped>\n",
       "    .dataframe tbody tr th:only-of-type {\n",
       "        vertical-align: middle;\n",
       "    }\n",
       "\n",
       "    .dataframe tbody tr th {\n",
       "        vertical-align: top;\n",
       "    }\n",
       "\n",
       "    .dataframe thead th {\n",
       "        text-align: right;\n",
       "    }\n",
       "</style>\n",
       "<table border=\"1\" class=\"dataframe\">\n",
       "  <thead>\n",
       "    <tr style=\"text-align: right;\">\n",
       "      <th></th>\n",
       "      <th>w</th>\n",
       "      <th>x</th>\n",
       "      <th>y</th>\n",
       "      <th>z</th>\n",
       "    </tr>\n",
       "  </thead>\n",
       "  <tbody>\n",
       "    <tr>\n",
       "      <th>A</th>\n",
       "      <td>1.523585</td>\n",
       "      <td>NaN</td>\n",
       "      <td>3.752256</td>\n",
       "      <td>4.702824</td>\n",
       "    </tr>\n",
       "    <tr>\n",
       "      <th>B</th>\n",
       "      <td>NaN</td>\n",
       "      <td>NaN</td>\n",
       "      <td>0.639202</td>\n",
       "      <td>NaN</td>\n",
       "    </tr>\n",
       "    <tr>\n",
       "      <th>C</th>\n",
       "      <td>NaN</td>\n",
       "      <td>NaN</td>\n",
       "      <td>4.396990</td>\n",
       "      <td>3.888960</td>\n",
       "    </tr>\n",
       "    <tr>\n",
       "      <th>D</th>\n",
       "      <td>0.330153</td>\n",
       "      <td>5.636206</td>\n",
       "      <td>2.337547</td>\n",
       "      <td>NaN</td>\n",
       "    </tr>\n",
       "    <tr>\n",
       "      <th>E</th>\n",
       "      <td>1.843754</td>\n",
       "      <td>NaN</td>\n",
       "      <td>4.392252</td>\n",
       "      <td>NaN</td>\n",
       "    </tr>\n",
       "  </tbody>\n",
       "</table>\n",
       "</div>"
      ],
      "text/plain": [
       "          w         x         y         z\n",
       "A  1.523585       NaN  3.752256  4.702824\n",
       "B       NaN       NaN  0.639202       NaN\n",
       "C       NaN       NaN  4.396990  3.888960\n",
       "D  0.330153  5.636206  2.337547       NaN\n",
       "E  1.843754       NaN  4.392252       NaN"
      ]
     },
     "execution_count": 37,
     "metadata": {},
     "output_type": "execute_result"
    }
   ],
   "source": [
    "df[df > 0]"
   ]
  },
  {
   "cell_type": "code",
   "execution_count": 38,
   "id": "21c8721b",
   "metadata": {
    "lines_to_next_cell": 2,
    "tags": [
     "code-along"
    ]
   },
   "outputs": [
    {
     "data": {
      "text/plain": [
       "A     True\n",
       "B    False\n",
       "C    False\n",
       "D     True\n",
       "E     True\n",
       "Name: w, dtype: bool"
      ]
     },
     "execution_count": 38,
     "metadata": {},
     "output_type": "execute_result"
    }
   ],
   "source": [
    "df[\"w\"] > 0"
   ]
  },
  {
   "cell_type": "code",
   "execution_count": 39,
   "id": "4ba1dd3a",
   "metadata": {
    "lines_to_next_cell": 2,
    "tags": [
     "code-along"
    ]
   },
   "outputs": [
    {
     "data": {
      "text/html": [
       "<div>\n",
       "<style scoped>\n",
       "    .dataframe tbody tr th:only-of-type {\n",
       "        vertical-align: middle;\n",
       "    }\n",
       "\n",
       "    .dataframe tbody tr th {\n",
       "        vertical-align: top;\n",
       "    }\n",
       "\n",
       "    .dataframe thead th {\n",
       "        text-align: right;\n",
       "    }\n",
       "</style>\n",
       "<table border=\"1\" class=\"dataframe\">\n",
       "  <thead>\n",
       "    <tr style=\"text-align: right;\">\n",
       "      <th></th>\n",
       "      <th>w</th>\n",
       "      <th>x</th>\n",
       "      <th>y</th>\n",
       "      <th>z</th>\n",
       "    </tr>\n",
       "  </thead>\n",
       "  <tbody>\n",
       "    <tr>\n",
       "      <th>A</th>\n",
       "      <td>1.523585</td>\n",
       "      <td>-5.199921</td>\n",
       "      <td>3.752256</td>\n",
       "      <td>4.702824</td>\n",
       "    </tr>\n",
       "    <tr>\n",
       "      <th>D</th>\n",
       "      <td>0.330153</td>\n",
       "      <td>5.636206</td>\n",
       "      <td>2.337547</td>\n",
       "      <td>-4.296462</td>\n",
       "    </tr>\n",
       "    <tr>\n",
       "      <th>E</th>\n",
       "      <td>1.843754</td>\n",
       "      <td>-4.794413</td>\n",
       "      <td>4.392252</td>\n",
       "      <td>-0.249630</td>\n",
       "    </tr>\n",
       "  </tbody>\n",
       "</table>\n",
       "</div>"
      ],
      "text/plain": [
       "          w         x         y         z\n",
       "A  1.523585 -5.199921  3.752256  4.702824\n",
       "D  0.330153  5.636206  2.337547 -4.296462\n",
       "E  1.843754 -4.794413  4.392252 -0.249630"
      ]
     },
     "execution_count": 39,
     "metadata": {},
     "output_type": "execute_result"
    }
   ],
   "source": [
    "df[df[\"w\"] > 0]"
   ]
  },
  {
   "cell_type": "code",
   "execution_count": null,
   "id": "4a6d0e1b",
   "metadata": {
    "lines_to_next_cell": 2,
    "tags": [
     "code-along"
    ]
   },
   "outputs": [],
   "source": []
  },
  {
   "cell_type": "code",
   "execution_count": null,
   "id": "aa6bb557",
   "metadata": {
    "tags": [
     "code-along"
    ]
   },
   "outputs": [],
   "source": []
  },
  {
   "cell_type": "markdown",
   "id": "08d981be",
   "metadata": {
    "lang": "de"
   },
   "source": [
    "\n",
    "# Information über Data Frames"
   ]
  },
  {
   "cell_type": "code",
   "execution_count": 40,
   "id": "0535123e",
   "metadata": {
    "lines_to_next_cell": 2,
    "tags": [
     "code-along"
    ]
   },
   "outputs": [
    {
     "data": {
      "text/html": [
       "<div>\n",
       "<style scoped>\n",
       "    .dataframe tbody tr th:only-of-type {\n",
       "        vertical-align: middle;\n",
       "    }\n",
       "\n",
       "    .dataframe tbody tr th {\n",
       "        vertical-align: top;\n",
       "    }\n",
       "\n",
       "    .dataframe thead th {\n",
       "        text-align: right;\n",
       "    }\n",
       "</style>\n",
       "<table border=\"1\" class=\"dataframe\">\n",
       "  <thead>\n",
       "    <tr style=\"text-align: right;\">\n",
       "      <th></th>\n",
       "      <th>w</th>\n",
       "      <th>x</th>\n",
       "      <th>y</th>\n",
       "      <th>z</th>\n",
       "    </tr>\n",
       "  </thead>\n",
       "  <tbody>\n",
       "    <tr>\n",
       "      <th>count</th>\n",
       "      <td>5.000000</td>\n",
       "      <td>5.000000</td>\n",
       "      <td>5.000000</td>\n",
       "      <td>5.000000</td>\n",
       "    </tr>\n",
       "    <tr>\n",
       "      <th>mean</th>\n",
       "      <td>-1.228338</td>\n",
       "      <td>-3.026849</td>\n",
       "      <td>3.103649</td>\n",
       "      <td>0.492896</td>\n",
       "    </tr>\n",
       "    <tr>\n",
       "      <th>std</th>\n",
       "      <td>4.833637</td>\n",
       "      <td>4.913431</td>\n",
       "      <td>1.613562</td>\n",
       "      <td>3.776505</td>\n",
       "    </tr>\n",
       "    <tr>\n",
       "      <th>min</th>\n",
       "      <td>-9.755176</td>\n",
       "      <td>-6.510898</td>\n",
       "      <td>0.639202</td>\n",
       "      <td>-4.296462</td>\n",
       "    </tr>\n",
       "    <tr>\n",
       "      <th>25%</th>\n",
       "      <td>-0.084006</td>\n",
       "      <td>-5.199921</td>\n",
       "      <td>2.337547</td>\n",
       "      <td>-1.581213</td>\n",
       "    </tr>\n",
       "    <tr>\n",
       "      <th>50%</th>\n",
       "      <td>0.330153</td>\n",
       "      <td>-4.794413</td>\n",
       "      <td>3.752256</td>\n",
       "      <td>-0.249630</td>\n",
       "    </tr>\n",
       "    <tr>\n",
       "      <th>75%</th>\n",
       "      <td>1.523585</td>\n",
       "      <td>-4.265220</td>\n",
       "      <td>4.392252</td>\n",
       "      <td>3.888960</td>\n",
       "    </tr>\n",
       "    <tr>\n",
       "      <th>max</th>\n",
       "      <td>1.843754</td>\n",
       "      <td>5.636206</td>\n",
       "      <td>4.396990</td>\n",
       "      <td>4.702824</td>\n",
       "    </tr>\n",
       "  </tbody>\n",
       "</table>\n",
       "</div>"
      ],
      "text/plain": [
       "              w         x         y         z\n",
       "count  5.000000  5.000000  5.000000  5.000000\n",
       "mean  -1.228338 -3.026849  3.103649  0.492896\n",
       "std    4.833637  4.913431  1.613562  3.776505\n",
       "min   -9.755176 -6.510898  0.639202 -4.296462\n",
       "25%   -0.084006 -5.199921  2.337547 -1.581213\n",
       "50%    0.330153 -4.794413  3.752256 -0.249630\n",
       "75%    1.523585 -4.265220  4.392252  3.888960\n",
       "max    1.843754  5.636206  4.396990  4.702824"
      ]
     },
     "execution_count": 40,
     "metadata": {},
     "output_type": "execute_result"
    }
   ],
   "source": [
    "df.describe()"
   ]
  },
  {
   "cell_type": "code",
   "execution_count": 41,
   "id": "216e0e82",
   "metadata": {
    "lines_to_next_cell": 2,
    "tags": [
     "code-along"
    ]
   },
   "outputs": [
    {
     "name": "stdout",
     "output_type": "stream",
     "text": [
      "<class 'pandas.core.frame.DataFrame'>\n",
      "Index: 5 entries, A to E\n",
      "Data columns (total 4 columns):\n",
      " #   Column  Non-Null Count  Dtype  \n",
      "---  ------  --------------  -----  \n",
      " 0   w       5 non-null      float64\n",
      " 1   x       5 non-null      float64\n",
      " 2   y       5 non-null      float64\n",
      " 3   z       5 non-null      float64\n",
      "dtypes: float64(4)\n",
      "memory usage: 372.0+ bytes\n"
     ]
    }
   ],
   "source": [
    "df.info()"
   ]
  },
  {
   "cell_type": "code",
   "execution_count": null,
   "id": "6b1c3221",
   "metadata": {
    "lines_to_next_cell": 2,
    "tags": [
     "code-along"
    ]
   },
   "outputs": [],
   "source": []
  },
  {
   "cell_type": "code",
   "execution_count": null,
   "id": "6ac6d443",
   "metadata": {
    "tags": [
     "code-along"
    ]
   },
   "outputs": [],
   "source": []
  },
  {
   "cell_type": "markdown",
   "id": "a067c071",
   "metadata": {
    "lang": "de"
   },
   "source": [
    "## Der Index eines Data Frames"
   ]
  },
  {
   "cell_type": "code",
   "execution_count": null,
   "id": "0e500ca3",
   "metadata": {
    "lines_to_next_cell": 2,
    "tags": [
     "code-along"
    ]
   },
   "outputs": [],
   "source": []
  },
  {
   "cell_type": "code",
   "execution_count": null,
   "id": "542f0bf6",
   "metadata": {
    "lines_to_next_cell": 2,
    "tags": [
     "code-along"
    ]
   },
   "outputs": [],
   "source": []
  },
  {
   "cell_type": "code",
   "execution_count": null,
   "id": "0c6068af",
   "metadata": {
    "lines_to_next_cell": 2,
    "tags": [
     "code-along"
    ]
   },
   "outputs": [],
   "source": []
  },
  {
   "cell_type": "code",
   "execution_count": null,
   "id": "b4ec62c6",
   "metadata": {
    "lines_to_next_cell": 2,
    "tags": [
     "code-along"
    ]
   },
   "outputs": [],
   "source": []
  },
  {
   "cell_type": "code",
   "execution_count": null,
   "id": "e5ca6826",
   "metadata": {
    "lines_to_next_cell": 2,
    "tags": [
     "code-along"
    ]
   },
   "outputs": [],
   "source": []
  },
  {
   "cell_type": "code",
   "execution_count": null,
   "id": "b38e788c",
   "metadata": {
    "lines_to_next_cell": 2,
    "tags": [
     "code-along"
    ]
   },
   "outputs": [],
   "source": []
  },
  {
   "cell_type": "code",
   "execution_count": null,
   "id": "c6658f66",
   "metadata": {
    "lines_to_next_cell": 2,
    "tags": [
     "code-along"
    ]
   },
   "outputs": [],
   "source": []
  },
  {
   "cell_type": "code",
   "execution_count": null,
   "id": "55906222",
   "metadata": {
    "lines_to_next_cell": 2,
    "tags": [
     "code-along"
    ]
   },
   "outputs": [],
   "source": []
  },
  {
   "cell_type": "code",
   "execution_count": null,
   "id": "ca00d6cc",
   "metadata": {
    "lines_to_next_cell": 2,
    "tags": [
     "code-along"
    ]
   },
   "outputs": [],
   "source": []
  },
  {
   "cell_type": "code",
   "execution_count": null,
   "id": "46faa56d",
   "metadata": {
    "lines_to_next_cell": 2,
    "tags": [
     "code-along"
    ]
   },
   "outputs": [],
   "source": []
  },
  {
   "cell_type": "code",
   "execution_count": null,
   "id": "16aca23d",
   "metadata": {
    "lines_to_next_cell": 2,
    "tags": [
     "code-along"
    ]
   },
   "outputs": [],
   "source": []
  },
  {
   "cell_type": "code",
   "execution_count": null,
   "id": "2068b751",
   "metadata": {
    "lines_to_next_cell": 2,
    "tags": [
     "code-along"
    ]
   },
   "outputs": [],
   "source": []
  },
  {
   "cell_type": "code",
   "execution_count": null,
   "id": "03975188",
   "metadata": {
    "lines_to_next_cell": 2,
    "tags": [
     "code-along"
    ]
   },
   "outputs": [],
   "source": []
  },
  {
   "cell_type": "code",
   "execution_count": null,
   "id": "fcf8586e",
   "metadata": {
    "lines_to_next_cell": 2,
    "tags": [
     "code-along"
    ]
   },
   "outputs": [],
   "source": []
  },
  {
   "cell_type": "code",
   "execution_count": null,
   "id": "f1a385a3",
   "metadata": {
    "lines_to_next_cell": 2,
    "tags": [
     "code-along"
    ]
   },
   "outputs": [],
   "source": []
  },
  {
   "cell_type": "code",
   "execution_count": null,
   "id": "eb74cf53",
   "metadata": {},
   "outputs": [],
   "source": []
  }
 ],
 "metadata": {
  "jupytext": {
   "cell_metadata_json": true,
   "formats": "ipynb"
  },
  "kernelspec": {
   "display_name": "Python 3 (ipykernel)",
   "language": "python",
   "name": "python3"
  },
  "language_info": {
   "codemirror_mode": {
    "name": "ipython",
    "version": 3
   },
   "file_extension": ".py",
   "mimetype": "text/x-python",
   "name": "python",
   "nbconvert_exporter": "python",
   "pygments_lexer": "ipython3",
   "version": "3.10.4"
  },
  "nbTranslate": {
   "displayLangs": [
    "de"
   ],
   "hotkey": "alt-t",
   "langInMainMenu": true,
   "sourceLang": "de",
   "targetLang": "en",
   "useGoogleTranslate": true
  }
 },
 "nbformat": 4,
 "nbformat_minor": 5
}
