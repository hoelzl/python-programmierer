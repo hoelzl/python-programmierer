{
 "cells": [
  {
   "cell_type": "markdown",
   "id": "0ef07e29",
   "metadata": {
    "lang": "de",
    "slideshow": {
     "slide_type": "slide"
    }
   },
   "source": [
    "<img src=\"img/python-logo-notext.svg\"\n",
    "     style=\"display:block;margin:auto;width:10%\"/>\n",
    "<br>\n",
    "<div style=\"text-align:center; font-size:200%;\"><b>Vertiefung zu Strings</b></div>\n",
    "<br/>\n",
    "<div style=\"text-align:center;\">Dr. Matthias Hölzl</div>"
   ]
  },
  {
   "cell_type": "markdown",
   "id": "592460f4",
   "metadata": {
    "lang": "de",
    "slideshow": {
     "slide_type": "slide"
    }
   },
   "source": [
    "# Vergleich von Strings"
   ]
  },
  {
   "cell_type": "code",
   "execution_count": null,
   "id": "3a1267f2",
   "metadata": {},
   "outputs": [],
   "source": [
    "\"a\" == \"a\""
   ]
  },
  {
   "cell_type": "code",
   "execution_count": null,
   "id": "9454d674",
   "metadata": {},
   "outputs": [],
   "source": [
    "\"A\" == \"a\""
   ]
  },
  {
   "cell_type": "code",
   "execution_count": null,
   "id": "1bb649f8",
   "metadata": {
    "slideshow": {
     "slide_type": "subslide"
    }
   },
   "outputs": [],
   "source": [
    "\"A\" < \"B\""
   ]
  },
  {
   "cell_type": "code",
   "execution_count": null,
   "id": "e1b42080",
   "metadata": {},
   "outputs": [],
   "source": [
    "\"A\" < \"a\""
   ]
  },
  {
   "cell_type": "code",
   "execution_count": null,
   "id": "18fd5a12",
   "metadata": {},
   "outputs": [],
   "source": [
    "\"a\" < \"A\""
   ]
  },
  {
   "cell_type": "markdown",
   "id": "516d1786",
   "metadata": {
    "lang": "de",
    "slideshow": {
     "slide_type": "subslide"
    }
   },
   "source": [
    "Strings sind wie im Wörterbuch (lexikographisch) geordnet"
   ]
  },
  {
   "cell_type": "code",
   "execution_count": null,
   "id": "da8cd3c9",
   "metadata": {},
   "outputs": [],
   "source": [
    "\"ab\" < \"abc\""
   ]
  },
  {
   "cell_type": "code",
   "execution_count": null,
   "id": "d705ce93",
   "metadata": {},
   "outputs": [],
   "source": [
    "\"ab\" < \"ac\""
   ]
  },
  {
   "cell_type": "code",
   "execution_count": null,
   "id": "50bb7834",
   "metadata": {},
   "outputs": [],
   "source": [
    "\"ab\" != \"ac\""
   ]
  },
  {
   "cell_type": "markdown",
   "id": "2bb128c3",
   "metadata": {
    "lang": "de",
    "slideshow": {
     "slide_type": "subslide"
    }
   },
   "source": [
    "## Einschub: Sortieren von Listen/Iterables\n",
    "\n",
    "Mit der Funktion `sorted()` können iterables sortiert werden. Mit dem\n",
    "benannten Argument `key` kann eine Funktion angegeben werden, die bestimmt,\n",
    "wie die Sortierung erfolgt:"
   ]
  },
  {
   "cell_type": "code",
   "execution_count": null,
   "id": "5089481c",
   "metadata": {},
   "outputs": [],
   "source": [
    "numbers = [3, 8, -7, 1, 0, 2, -3, 3]"
   ]
  },
  {
   "cell_type": "code",
   "execution_count": null,
   "id": "f1d5ed01",
   "metadata": {
    "tags": [
     "code-along"
    ]
   },
   "outputs": [],
   "source": []
  },
  {
   "cell_type": "code",
   "execution_count": null,
   "id": "0ff1df2a",
   "metadata": {
    "tags": [
     "code-along"
    ]
   },
   "outputs": [],
   "source": []
  },
  {
   "cell_type": "code",
   "execution_count": null,
   "id": "2c0483b4",
   "metadata": {
    "slideshow": {
     "slide_type": "subslide"
    }
   },
   "outputs": [],
   "source": [
    "strings = [\"a\", \"ABC\", \"xy\", \"Asdfgh\", \"foo\", \"bar\", \"quux\"]"
   ]
  },
  {
   "cell_type": "code",
   "execution_count": null,
   "id": "d2c1cd51",
   "metadata": {
    "tags": [
     "code-along"
    ]
   },
   "outputs": [],
   "source": []
  },
  {
   "cell_type": "code",
   "execution_count": null,
   "id": "7fb3e8c7",
   "metadata": {
    "tags": [
     "code-along"
    ]
   },
   "outputs": [],
   "source": []
  },
  {
   "cell_type": "code",
   "execution_count": null,
   "id": "3e28dd27",
   "metadata": {
    "tags": [
     "code-along"
    ]
   },
   "outputs": [],
   "source": []
  },
  {
   "cell_type": "code",
   "execution_count": null,
   "id": "efe3905c",
   "metadata": {
    "tags": [
     "code-along"
    ]
   },
   "outputs": [],
   "source": []
  },
  {
   "cell_type": "markdown",
   "id": "d0da1d15",
   "metadata": {
    "lang": "de",
    "slideshow": {
     "slide_type": "slide"
    }
   },
   "source": [
    "\n",
    "## Vergleich von Unicode Strings\n",
    "\n",
    "Die eingebauten Vergleichsfunktionen sind nur für einfache (ASCII) Strings\n",
    "sinnvoll. Für Strings, die Unicode-Zeichen enthalten ist Sortieren/Vergleichen\n",
    "schwieriger.\n",
    "\n",
    "Das Standard Modul in Python ist `locale`; das auf die Locale-Settings des\n",
    "Betriebssystems zurückgreift:"
   ]
  },
  {
   "cell_type": "code",
   "execution_count": null,
   "id": "6cc01145",
   "metadata": {
    "tags": [
     "code-along"
    ]
   },
   "outputs": [],
   "source": []
  },
  {
   "cell_type": "code",
   "execution_count": null,
   "id": "28b11271",
   "metadata": {},
   "outputs": [],
   "source": [
    "my_strings = [\"o\", \"oa\", \"oe\", \"ö\", \"oz\", \"sa\", \"s\", \"ß\", \"ss\", \"sz\"]"
   ]
  },
  {
   "cell_type": "code",
   "execution_count": null,
   "id": "cc9765d4",
   "metadata": {
    "tags": [
     "code-along"
    ]
   },
   "outputs": [],
   "source": []
  },
  {
   "cell_type": "code",
   "execution_count": null,
   "id": "430eba09",
   "metadata": {
    "tags": [
     "code-along"
    ]
   },
   "outputs": [],
   "source": []
  },
  {
   "cell_type": "code",
   "execution_count": null,
   "id": "42ee877a",
   "metadata": {
    "incorrectly_encoded_metadata": "{\"slideshow\": {\"slide_type\": \"subslide\"}} tags=[\"code-along\"]"
   },
   "outputs": [],
   "source": [
    "locale.setlocale(locale.LC_COLLATE, \"de_DE.UTF-8\")"
   ]
  },
  {
   "cell_type": "code",
   "execution_count": null,
   "id": "376a140a",
   "metadata": {
    "tags": [
     "code-along"
    ]
   },
   "outputs": [],
   "source": []
  },
  {
   "cell_type": "code",
   "execution_count": null,
   "id": "e0b29323",
   "metadata": {
    "tags": [
     "code-along"
    ]
   },
   "outputs": [],
   "source": []
  },
  {
   "cell_type": "code",
   "execution_count": null,
   "id": "f416f84d",
   "metadata": {
    "tags": [
     "code-along"
    ]
   },
   "outputs": [],
   "source": []
  },
  {
   "cell_type": "markdown",
   "id": "ede2ea11",
   "metadata": {
    "lang": "de",
    "lines_to_next_cell": 2,
    "slideshow": {
     "slide_type": "subslide"
    }
   },
   "source": [
    "\n",
    "Die Locale Settings sind global pro Prozess und deshalb hauptsächlich geeignet\n",
    "um mit dem Benutzer zu interagieren.\n",
    "\n",
    "Wenn man mit Strings in verschiedenen Sprachen umgehen muss empfiehlt sich die\n",
    "Verwendung von Bibliotheken wie `PyUCA` (in Python geschrieben und daher\n",
    "leichter zu installieren) oder `PyICU` (vollständigere Implementierung der\n",
    "Unicode Spezifikation, basierend auf einer C++ Bibliothek)."
   ]
  },
  {
   "cell_type": "markdown",
   "id": "caccee92",
   "metadata": {
    "lang": "de",
    "slideshow": {
     "slide_type": "subslide"
    }
   },
   "source": [
    "## Umwandeln eines Strings in Groß-/Kleinbuchstaben"
   ]
  },
  {
   "cell_type": "code",
   "execution_count": null,
   "id": "4ad09095",
   "metadata": {
    "tags": [
     "code-along"
    ]
   },
   "outputs": [],
   "source": []
  },
  {
   "cell_type": "code",
   "execution_count": null,
   "id": "ac61454f",
   "metadata": {
    "tags": [
     "code-along"
    ]
   },
   "outputs": [],
   "source": []
  },
  {
   "cell_type": "markdown",
   "id": "eb32fa30",
   "metadata": {
    "lang": "de",
    "slideshow": {
     "slide_type": "subslide"
    }
   },
   "source": [
    "\n",
    "Die `lower()` Methode führt nicht immer die gewünschten Umwandlungen durch.\n",
    "Die `casefold` Methode is dafür manchmal nützlich:"
   ]
  },
  {
   "cell_type": "code",
   "execution_count": null,
   "id": "2a590724",
   "metadata": {
    "tags": [
     "code-along"
    ]
   },
   "outputs": [],
   "source": []
  },
  {
   "cell_type": "code",
   "execution_count": null,
   "id": "edd16460",
   "metadata": {
    "tags": [
     "code-along"
    ]
   },
   "outputs": [],
   "source": []
  },
  {
   "cell_type": "code",
   "execution_count": null,
   "id": "f7fe0874",
   "metadata": {
    "tags": [
     "code-along"
    ]
   },
   "outputs": [],
   "source": []
  },
  {
   "cell_type": "markdown",
   "id": "08085fe9",
   "metadata": {
    "lang": "de",
    "lines_to_next_cell": 2,
    "slideshow": {
     "slide_type": "subslide"
    }
   },
   "source": [
    "## Mini-Workshop\n",
    "\n",
    "- Notebook `workshop_070_more_strings_and_sorting`\n",
    "- Abschnitt \"Shout\""
   ]
  },
  {
   "cell_type": "markdown",
   "id": "f872eee6",
   "metadata": {
    "lang": "de",
    "slideshow": {
     "slide_type": "slide"
    }
   },
   "source": [
    "# Nochmal String Literale\n",
    "\n",
    "- String-Literale werden in einfache oder doppelte Anführungszeichen\n",
    "  eingeschlossen\n",
    "    - `\"Hello, world!\"`\n",
    "    - `'Hallo Welt!'`\n",
    "    - Welche Form man wählt spielt keine Rolle, außer man will\n",
    "      Anführungszeichen im String haben\n",
    "    - `\"Er sagt 'Huh?'\"`\n",
    "    - `'Sie antwortet: \"Genau.\"'`"
   ]
  },
  {
   "cell_type": "markdown",
   "id": "30241c6a",
   "metadata": {
    "lang": "de",
    "slideshow": {
     "slide_type": "subslide"
    }
   },
   "source": [
    "- String-Literale, können Unicode Zeichen enthalten:\n",
    "    - `\"おはようございます\"`\n",
    "    - `\"😠🙃🙄\"`"
   ]
  },
  {
   "cell_type": "code",
   "execution_count": null,
   "id": "b30eb6e6",
   "metadata": {},
   "outputs": [],
   "source": [
    "print(\"Er sagt 'Huh?'\")\n",
    "print('Sie antwortet: \"Genau.\"')\n",
    "print(\"おはようございます\")\n",
    "print(\"😠🙃🙄\")"
   ]
  },
  {
   "cell_type": "markdown",
   "id": "26cfc33b",
   "metadata": {
    "lang": "de",
    "slideshow": {
     "slide_type": "subslide"
    }
   },
   "source": [
    "- Sonderzeichen können mit *Escape-Notation* angegeben werden:\n",
    "    - `\\n`, `\\t`, `\\\\`, `\\\"`, `\\'`, ...\n",
    "    - `\\u`, `\\U` für Unicode code points (16 bzw. 32 bit)\n",
    "    - `\\N{...}` für Unicode"
   ]
  },
  {
   "cell_type": "code",
   "execution_count": null,
   "id": "349a68c5",
   "metadata": {},
   "outputs": [],
   "source": [
    "print(\"a\\tbc\\td\\n123\\t4\\t5\")"
   ]
  },
  {
   "cell_type": "code",
   "execution_count": null,
   "id": "c82ca114",
   "metadata": {},
   "outputs": [],
   "source": [
    "print('\"Let\\'s go crazy\", she said')"
   ]
  },
  {
   "cell_type": "code",
   "execution_count": null,
   "id": "68930728",
   "metadata": {},
   "outputs": [],
   "source": [
    "print(\"C:\\\\Users\\\\John\")"
   ]
  },
  {
   "cell_type": "code",
   "execution_count": null,
   "id": "d0adabf9",
   "metadata": {
    "slideshow": {
     "slide_type": "subslide"
    }
   },
   "outputs": [],
   "source": [
    "print(\"\\u0394 \\u03b1 \\t\\U000003b2 \\U000003b3\")\n",
    "print(\"\\U0001F62E \\U0001f61a \\U0001f630\")"
   ]
  },
  {
   "cell_type": "code",
   "execution_count": null,
   "id": "0e6786fb",
   "metadata": {},
   "outputs": [],
   "source": [
    "print(\"\\N{GREEK CAPITAL LETTER DELTA} \\N{GREEK SMALL LETTER ALPHA}\")\n",
    "print(\"\\N{smiling face with open mouth and smiling eyes} \\N{winking face}\")"
   ]
  },
  {
   "cell_type": "markdown",
   "id": "12ee99df",
   "metadata": {
    "lang": "de",
    "slideshow": {
     "slide_type": "subslide"
    }
   },
   "source": [
    "- String Literale können auch in 3-fache Anführungszeichen eingeschlossen\n",
    "  werden\n",
    "- Diese Art von Literalen kann über mehrere Zeilen gehen"
   ]
  },
  {
   "cell_type": "code",
   "execution_count": null,
   "id": "560f68b0",
   "metadata": {},
   "outputs": [],
   "source": [
    "\"\"\"Das ist\n",
    "ein String-Literal,\n",
    "das über mehrere\n",
    "Zeilen geht.\"\"\""
   ]
  },
  {
   "cell_type": "code",
   "execution_count": null,
   "id": "d8252c5a",
   "metadata": {},
   "outputs": [],
   "source": [
    "print(\n",
    "    \"\"\"Mit Backslash am Ende der Zeile \\\n",
    "kann der Zeilenvorschub unterdrückt werden.\"\"\"\n",
    ")"
   ]
  },
  {
   "cell_type": "markdown",
   "id": "26951f8f",
   "metadata": {
    "lang": "de",
    "slideshow": {
     "slide_type": "slide"
    }
   },
   "source": [
    "## Konkatenation von Strings\n",
    "\n",
    "Mit `+` können Strings aneinandergehängt (konkateniert) werden:"
   ]
  },
  {
   "cell_type": "code",
   "execution_count": null,
   "id": "913fcbca",
   "metadata": {},
   "outputs": [],
   "source": [
    "\"Ein\" + \" \" + \"String\""
   ]
  },
  {
   "cell_type": "markdown",
   "id": "136a880b",
   "metadata": {
    "lang": "de",
    "slideshow": {
     "slide_type": "subslide"
    }
   },
   "source": [
    "Mit der `join()` Methode können mehrere Strings mit einem Trennzeichen (oder Trenn-String) zusammengefügt werden:"
   ]
  },
  {
   "cell_type": "code",
   "execution_count": null,
   "id": "93836040",
   "metadata": {},
   "outputs": [],
   "source": [
    "\" \".join([\"das\", \"sind\", \"mehrere\", \"strings\"])"
   ]
  },
  {
   "cell_type": "code",
   "execution_count": null,
   "id": "80409c0e",
   "metadata": {},
   "outputs": [],
   "source": [
    "\", \".join([\"Pferd\", \"Katze\", \"Hund\"])"
   ]
  },
  {
   "cell_type": "code",
   "execution_count": null,
   "id": "a5644b47",
   "metadata": {},
   "outputs": [],
   "source": [
    "\"\".join([\"ab\", \"cde\", \"f\"])"
   ]
  },
  {
   "cell_type": "markdown",
   "id": "81d365a5",
   "metadata": {
    "lang": "de",
    "slideshow": {
     "slide_type": "subslide"
    }
   },
   "source": [
    "## Mini-Workshop\n",
    "\n",
    "- Notebook `workshop_070_more_strings_and_sorting`\n",
    "- Abschnitt \"Begrüßung 1\""
   ]
  },
  {
   "cell_type": "markdown",
   "id": "b82e6298",
   "metadata": {
    "lang": "de",
    "slideshow": {
     "slide_type": "subslide"
    }
   },
   "source": [
    "\n",
    "## Nochmal Vergleich von Strings\n",
    "\n",
    "Um Strings mit Unicode-Zeichen zu vergleichen ist es zweckmäßig sie in\n",
    "Unicode-Normalform zu bringen."
   ]
  },
  {
   "cell_type": "code",
   "execution_count": null,
   "id": "be6a8a9a",
   "metadata": {},
   "outputs": [],
   "source": [
    "s1 = \"café\"\n",
    "s2 = \"cafe\\u0301\""
   ]
  },
  {
   "cell_type": "code",
   "execution_count": null,
   "id": "e5fb45ac",
   "metadata": {
    "tags": [
     "code-along"
    ]
   },
   "outputs": [],
   "source": []
  },
  {
   "cell_type": "code",
   "execution_count": null,
   "id": "c622bb15",
   "metadata": {
    "incorrectly_encoded_metadata": "{\"slideshow\": {\"slide_type\": \"subslide\"}} tags=[\"code-along\"]"
   },
   "outputs": [],
   "source": [
    "import unicodedata\n",
    "\n",
    "unicodedata.normalize(\"NFC\", s1) == s1"
   ]
  },
  {
   "cell_type": "code",
   "execution_count": null,
   "id": "24372a1f",
   "metadata": {
    "tags": [
     "code-along"
    ]
   },
   "outputs": [],
   "source": []
  },
  {
   "cell_type": "code",
   "execution_count": null,
   "id": "a02a7ec6",
   "metadata": {
    "lines_to_next_cell": 2,
    "tags": [
     "code-along"
    ]
   },
   "outputs": [],
   "source": []
  },
  {
   "cell_type": "markdown",
   "id": "c16bdba7",
   "metadata": {
    "lang": "de",
    "slideshow": {
     "slide_type": "slide"
    }
   },
   "source": [
    "# String Interpolation: F-Strings\n",
    "\n",
    "Python bietet die Möglichkeit, Werte von Variablen in Strings einzusetzen:"
   ]
  },
  {
   "cell_type": "code",
   "execution_count": null,
   "id": "3193a60d",
   "metadata": {
    "tags": [
     "code-along"
    ]
   },
   "outputs": [],
   "source": []
  },
  {
   "cell_type": "code",
   "execution_count": null,
   "id": "8b8651ad",
   "metadata": {
    "slideshow": {
     "slide_type": "subslide"
    }
   },
   "outputs": [],
   "source": [
    "spieler_name = \"Hans\"\n",
    "anzahl_spiele = 10\n",
    "anzahl_gewinne = 2\n",
    "\n",
    "ausgabe = f\"Hallo {spieler_name}!\\nSie haben {anzahl_spiele}-mal gespielt und dabei {anzahl_gewinne}-mal gewonnen.\"\n",
    "print(ausgabe)"
   ]
  },
  {
   "cell_type": "code",
   "execution_count": null,
   "id": "b4a72ebf",
   "metadata": {
    "slideshow": {
     "slide_type": "subslide"
    }
   },
   "outputs": [],
   "source": [
    "ausgabe = f\"\"\"\\\n",
    "Hallo {spieler_name}!\n",
    "Sie haben {anzahl_spiele}-mal gespielt \\\n",
    "und dabei {anzahl_gewinne}-mal gewonnen.\\\n",
    "\"\"\"\n",
    "print(ausgabe)"
   ]
  },
  {
   "cell_type": "code",
   "execution_count": null,
   "id": "1fb44bd9",
   "metadata": {
    "slideshow": {
     "slide_type": "subslide"
    }
   },
   "outputs": [],
   "source": [
    "ausgabe = (\n",
    "    f\"Hallo {spieler_name}!\\n\"\n",
    "    f\"Sie haben {anzahl_spiele}-mal gespielt \"\n",
    "    f\"und dabei {anzahl_gewinne}-mal gewonnen.\"\n",
    ")\n",
    "print(ausgabe)"
   ]
  },
  {
   "cell_type": "markdown",
   "id": "4bef12d5",
   "metadata": {
    "lang": "de",
    "slideshow": {
     "slide_type": "subslide"
    }
   },
   "source": [
    "## Mini-Workshop\n",
    "\n",
    "- Notebook `workshop_070_more_strings_and_sorting`\n",
    "- Abschnitt \"Begrüßung 2\""
   ]
  },
  {
   "cell_type": "markdown",
   "id": "cd17a5ed",
   "metadata": {
    "lang": "de",
    "slideshow": {
     "slide_type": "subslide"
    }
   },
   "source": [
    "## Mini-Workshop\n",
    "\n",
    "- Notebook `workshop_070_more_strings_and_sorting`\n",
    "- Abschnitt \"Piraten 4\""
   ]
  },
  {
   "cell_type": "markdown",
   "id": "48cbe1f0",
   "metadata": {
    "lang": "de",
    "slideshow": {
     "slide_type": "slide"
    }
   },
   "source": [
    "## Finden in Strings\n",
    "\n",
    "Der `in` Operator funktioniert auch mit Strings als Argument. Um den Index\n",
    "eines Substrings in einem String zu finden kann man die `index()`-Methode\n",
    "verwenden."
   ]
  },
  {
   "cell_type": "code",
   "execution_count": null,
   "id": "88f029f0",
   "metadata": {
    "tags": [
     "code-along"
    ]
   },
   "outputs": [],
   "source": []
  },
  {
   "cell_type": "code",
   "execution_count": null,
   "id": "bacbc703",
   "metadata": {
    "tags": [
     "code-along"
    ]
   },
   "outputs": [],
   "source": []
  },
  {
   "cell_type": "code",
   "execution_count": null,
   "id": "db2c1138",
   "metadata": {
    "tags": [
     "code-along"
    ]
   },
   "outputs": [],
   "source": []
  },
  {
   "cell_type": "code",
   "execution_count": null,
   "id": "9b658155",
   "metadata": {
    "tags": [
     "code-along"
    ]
   },
   "outputs": [],
   "source": []
  },
  {
   "cell_type": "code",
   "execution_count": null,
   "id": "fae235cd",
   "metadata": {
    "tags": [
     "code-along"
    ]
   },
   "outputs": [],
   "source": []
  },
  {
   "cell_type": "code",
   "execution_count": null,
   "id": "6e399d0f",
   "metadata": {
    "tags": [
     "code-along"
    ]
   },
   "outputs": [],
   "source": []
  },
  {
   "cell_type": "code",
   "execution_count": null,
   "id": "46a5a294",
   "metadata": {
    "tags": [
     "code-along"
    ]
   },
   "outputs": [],
   "source": []
  },
  {
   "cell_type": "markdown",
   "id": "f6212786",
   "metadata": {
    "lang": "de",
    "slideshow": {
     "slide_type": "slide"
    }
   },
   "source": [
    "## Workshop\n",
    "\n",
    "- Notebook `lecture_920x_Workshop_Cäsar_Verschlüsselung`"
   ]
  },
  {
   "cell_type": "code",
   "execution_count": null,
   "id": "ed38e6ff",
   "metadata": {},
   "outputs": [],
   "source": []
  }
 ],
 "metadata": {
  "jupytext": {
   "cell_metadata_json": true,
   "encoding": "# -*- coding: utf-8 -*-",
   "formats": "ipynb"
  },
  "kernelspec": {
   "display_name": "Python 3 (ipykernel)",
   "language": "python",
   "name": "python3"
  }
 },
 "nbformat": 4,
 "nbformat_minor": 5
}
