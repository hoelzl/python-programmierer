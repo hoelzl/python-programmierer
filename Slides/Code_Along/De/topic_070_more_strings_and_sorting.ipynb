{
 "cells": [
  {
   "cell_type": "markdown",
   "id": "1bc27a1e",
   "metadata": {
    "lang": "de",
    "slideshow": {
     "slide_type": "slide"
    }
   },
   "source": [
    "<img src=\"img/python-logo-notext.svg\"\n",
    "     style=\"display:block;margin:auto;width:10%\"/>\n",
    "<br>\n",
    "<div style=\"text-align:center; font-size:200%;\"><b>Vertiefung zu Strings</b></div>\n",
    "<br/>\n",
    "<div style=\"text-align:center;\">Dr. Matthias Hölzl</div>"
   ]
  },
  {
   "cell_type": "markdown",
   "id": "f92cd2c6",
   "metadata": {
    "lang": "de",
    "slideshow": {
     "slide_type": "slide"
    }
   },
   "source": [
    "# Vergleich von Strings"
   ]
  },
  {
   "cell_type": "code",
   "execution_count": null,
   "id": "60d82d7e",
   "metadata": {},
   "outputs": [],
   "source": [
    "\"a\" == \"a\""
   ]
  },
  {
   "cell_type": "code",
   "execution_count": null,
   "id": "6f4411ca",
   "metadata": {},
   "outputs": [],
   "source": [
    "\"A\" == \"a\""
   ]
  },
  {
   "cell_type": "code",
   "execution_count": null,
   "id": "8cb9202d",
   "metadata": {
    "slideshow": {
     "slide_type": "subslide"
    }
   },
   "outputs": [],
   "source": [
    "\"A\" < \"B\""
   ]
  },
  {
   "cell_type": "code",
   "execution_count": null,
   "id": "f4f33657",
   "metadata": {},
   "outputs": [],
   "source": [
    "\"A\" < \"a\""
   ]
  },
  {
   "cell_type": "code",
   "execution_count": null,
   "id": "709d1eac",
   "metadata": {},
   "outputs": [],
   "source": [
    "\"a\" < \"A\""
   ]
  },
  {
   "cell_type": "markdown",
   "id": "38a70c28",
   "metadata": {
    "lang": "de",
    "slideshow": {
     "slide_type": "subslide"
    }
   },
   "source": [
    "Strings sind wie im Wörterbuch (lexikographisch) geordnet"
   ]
  },
  {
   "cell_type": "code",
   "execution_count": null,
   "id": "ba2e191c",
   "metadata": {},
   "outputs": [],
   "source": [
    "\"ab\" < \"abc\""
   ]
  },
  {
   "cell_type": "code",
   "execution_count": null,
   "id": "a6ef830a",
   "metadata": {},
   "outputs": [],
   "source": [
    "\"ab\" < \"ac\""
   ]
  },
  {
   "cell_type": "code",
   "execution_count": null,
   "id": "57a7e6c4",
   "metadata": {},
   "outputs": [],
   "source": [
    "\"ab\" != \"ac\""
   ]
  },
  {
   "cell_type": "markdown",
   "id": "4997bd75",
   "metadata": {
    "lang": "de",
    "slideshow": {
     "slide_type": "subslide"
    }
   },
   "source": [
    "## Einschub: Sortieren von Listen/Iterables\n",
    "\n",
    "Mit der Funktion `sorted()` können iterables sortiert werden. Mit dem\n",
    "benannten Argument `key` kann eine Funktion angegeben werden, die bestimmt,\n",
    "wie die Sortierung erfolgt:"
   ]
  },
  {
   "cell_type": "code",
   "execution_count": null,
   "id": "43066327",
   "metadata": {},
   "outputs": [],
   "source": [
    "numbers = [3, 8, -7, 1, 0, 2, -3, 3]"
   ]
  },
  {
   "cell_type": "code",
   "execution_count": null,
   "id": "46375874",
   "metadata": {
    "tags": [
     "code-along"
    ]
   },
   "outputs": [],
   "source": []
  },
  {
   "cell_type": "code",
   "execution_count": null,
   "id": "0e3a84a0",
   "metadata": {
    "tags": [
     "code-along"
    ]
   },
   "outputs": [],
   "source": []
  },
  {
   "cell_type": "code",
   "execution_count": null,
   "id": "e66ce98b",
   "metadata": {
    "slideshow": {
     "slide_type": "subslide"
    }
   },
   "outputs": [],
   "source": [
    "strings = [\"a\", \"ABC\", \"xy\", \"Asdfgh\", \"foo\", \"bar\", \"quux\"]"
   ]
  },
  {
   "cell_type": "code",
   "execution_count": null,
   "id": "d1c2caf5",
   "metadata": {
    "tags": [
     "code-along"
    ]
   },
   "outputs": [],
   "source": []
  },
  {
   "cell_type": "code",
   "execution_count": null,
   "id": "359fb30f",
   "metadata": {
    "tags": [
     "code-along"
    ]
   },
   "outputs": [],
   "source": []
  },
  {
   "cell_type": "code",
   "execution_count": null,
   "id": "63d49d66",
   "metadata": {
    "tags": [
     "code-along"
    ]
   },
   "outputs": [],
   "source": []
  },
  {
   "cell_type": "code",
   "execution_count": null,
   "id": "2f97883c",
   "metadata": {
    "tags": [
     "code-along"
    ]
   },
   "outputs": [],
   "source": []
  },
  {
   "cell_type": "markdown",
   "id": "9115d1ca",
   "metadata": {
    "lang": "de",
    "slideshow": {
     "slide_type": "slide"
    }
   },
   "source": [
    "\n",
    "## Vergleich von Unicode Strings\n",
    "\n",
    "Die eingebauten Vergleichsfunktionen sind nur für einfache (ASCII) Strings\n",
    "sinnvoll. Für Strings, die Unicode-Zeichen enthalten ist Sortieren/Vergleichen\n",
    "schwieriger.\n",
    "\n",
    "Das Standard Modul in Python ist `locale`; das auf die Locale-Settings des\n",
    "Betriebssystems zurückgreift:"
   ]
  },
  {
   "cell_type": "code",
   "execution_count": null,
   "id": "4b0cf8f0",
   "metadata": {
    "tags": [
     "code-along"
    ]
   },
   "outputs": [],
   "source": []
  },
  {
   "cell_type": "code",
   "execution_count": null,
   "id": "6e5ec766",
   "metadata": {},
   "outputs": [],
   "source": [
    "my_strings = [\"o\", \"oa\", \"oe\", \"ö\", \"oz\", \"sa\", \"s\", \"ß\", \"ss\", \"sz\"]"
   ]
  },
  {
   "cell_type": "code",
   "execution_count": null,
   "id": "76e3768f",
   "metadata": {
    "tags": [
     "code-along"
    ]
   },
   "outputs": [],
   "source": []
  },
  {
   "cell_type": "code",
   "execution_count": null,
   "id": "c32599ed",
   "metadata": {
    "tags": [
     "code-along"
    ]
   },
   "outputs": [],
   "source": []
  },
  {
   "cell_type": "code",
   "execution_count": null,
   "id": "f5ad6fbc",
   "metadata": {
    "incorrectly_encoded_metadata": "{\"slideshow\": {\"slide_type\": \"subslide\"}} tags=[\"code-along\"]"
   },
   "outputs": [],
   "source": [
    "locale.setlocale(locale.LC_COLLATE, \"de_DE.UTF-8\")"
   ]
  },
  {
   "cell_type": "code",
   "execution_count": null,
   "id": "e7cb3679",
   "metadata": {
    "tags": [
     "code-along"
    ]
   },
   "outputs": [],
   "source": []
  },
  {
   "cell_type": "code",
   "execution_count": null,
   "id": "0dd7dfa5",
   "metadata": {
    "tags": [
     "code-along"
    ]
   },
   "outputs": [],
   "source": []
  },
  {
   "cell_type": "code",
   "execution_count": null,
   "id": "27c486c1",
   "metadata": {
    "tags": [
     "code-along"
    ]
   },
   "outputs": [],
   "source": []
  },
  {
   "cell_type": "markdown",
   "id": "5eac8c08",
   "metadata": {
    "lang": "de",
    "lines_to_next_cell": 2,
    "slideshow": {
     "slide_type": "subslide"
    }
   },
   "source": [
    "\n",
    "Die Locale Settings sind global pro Prozess und deshalb hauptsächlich geeignet\n",
    "um mit dem Benutzer zu interagieren.\n",
    "\n",
    "Wenn man mit Strings in verschiedenen Sprachen umgehen muss empfiehlt sich die\n",
    "Verwendung von Bibliotheken wie `PyUCA` (in Python geschrieben und daher\n",
    "leichter zu installieren) oder `PyICU` (vollständigere Implementierung der\n",
    "Unicode Spezifikation, basierend auf einer C++ Bibliothek)."
   ]
  },
  {
   "cell_type": "markdown",
   "id": "ee82fa2a",
   "metadata": {
    "lang": "de",
    "slideshow": {
     "slide_type": "subslide"
    }
   },
   "source": [
    "## Umwandeln eines Strings in Groß-/Kleinbuchstaben"
   ]
  },
  {
   "cell_type": "code",
   "execution_count": null,
   "id": "d5b84f08",
   "metadata": {
    "tags": [
     "code-along"
    ]
   },
   "outputs": [],
   "source": []
  },
  {
   "cell_type": "code",
   "execution_count": null,
   "id": "320e7f4f",
   "metadata": {
    "tags": [
     "code-along"
    ]
   },
   "outputs": [],
   "source": []
  },
  {
   "cell_type": "markdown",
   "id": "f2ea860c",
   "metadata": {
    "lang": "de",
    "slideshow": {
     "slide_type": "subslide"
    }
   },
   "source": [
    "\n",
    "Die `lower()` Methode führt nicht immer die gewünschten Umwandlungen durch.\n",
    "Die `casefold` Methode is dafür manchmal nützlich:"
   ]
  },
  {
   "cell_type": "code",
   "execution_count": null,
   "id": "88864447",
   "metadata": {
    "tags": [
     "code-along"
    ]
   },
   "outputs": [],
   "source": []
  },
  {
   "cell_type": "code",
   "execution_count": null,
   "id": "e2f2cba5",
   "metadata": {
    "tags": [
     "code-along"
    ]
   },
   "outputs": [],
   "source": []
  },
  {
   "cell_type": "code",
   "execution_count": null,
   "id": "590a0c56",
   "metadata": {
    "tags": [
     "code-along"
    ]
   },
   "outputs": [],
   "source": []
  },
  {
   "cell_type": "markdown",
   "id": "5ae0a89c",
   "metadata": {
    "lang": "de",
    "lines_to_next_cell": 2,
    "slideshow": {
     "slide_type": "subslide"
    }
   },
   "source": [
    "## Mini-Workshop\n",
    "\n",
    "- Notebook `workshop_070_more_strings_and_sorting`\n",
    "- Abschnitt \"Shout\""
   ]
  },
  {
   "cell_type": "markdown",
   "id": "9a73b973",
   "metadata": {
    "lang": "de",
    "slideshow": {
     "slide_type": "slide"
    }
   },
   "source": [
    "# Nochmal String Literale\n",
    "\n",
    "- String-Literale werden in einfache oder doppelte Anführungszeichen\n",
    "  eingeschlossen\n",
    "    - `\"Hello, world!\"`\n",
    "    - `'Hallo Welt!'`\n",
    "    - Welche Form man wählt spielt keine Rolle, außer man will\n",
    "      Anführungszeichen im String haben\n",
    "    - `\"Er sagt 'Huh?'\"`\n",
    "    - `'Sie antwortet: \"Genau.\"'`"
   ]
  },
  {
   "cell_type": "markdown",
   "id": "a1587801",
   "metadata": {
    "lang": "de",
    "slideshow": {
     "slide_type": "subslide"
    }
   },
   "source": [
    "- String-Literale, können Unicode Zeichen enthalten:\n",
    "    - `\"おはようございます\"`\n",
    "    - `\"😠🙃🙄\"`"
   ]
  },
  {
   "cell_type": "code",
   "execution_count": null,
   "id": "0364fe0e",
   "metadata": {},
   "outputs": [],
   "source": [
    "print(\"Er sagt 'Huh?'\")\n",
    "print('Sie antwortet: \"Genau.\"')\n",
    "print(\"おはようございます\")\n",
    "print(\"😠🙃🙄\")"
   ]
  },
  {
   "cell_type": "markdown",
   "id": "d324bf6e",
   "metadata": {
    "lang": "de",
    "slideshow": {
     "slide_type": "subslide"
    }
   },
   "source": [
    "- Sonderzeichen können mit *Escape-Notation* angegeben werden:\n",
    "    - `\\n`, `\\t`, `\\\\`, `\\\"`, `\\'`, ...\n",
    "    - `\\u`, `\\U` für Unicode code points (16 bzw. 32 bit)\n",
    "    - `\\N{...}` für Unicode"
   ]
  },
  {
   "cell_type": "code",
   "execution_count": null,
   "id": "072563ac",
   "metadata": {},
   "outputs": [],
   "source": [
    "print(\"a\\tbc\\td\\n123\\t4\\t5\")"
   ]
  },
  {
   "cell_type": "code",
   "execution_count": null,
   "id": "5480dbbe",
   "metadata": {},
   "outputs": [],
   "source": [
    "print('\"Let\\'s go crazy\", she said')"
   ]
  },
  {
   "cell_type": "code",
   "execution_count": null,
   "id": "eee24bf8",
   "metadata": {},
   "outputs": [],
   "source": [
    "print(\"C:\\\\Users\\\\John\")"
   ]
  },
  {
   "cell_type": "code",
   "execution_count": null,
   "id": "9dfbdb13",
   "metadata": {
    "slideshow": {
     "slide_type": "subslide"
    }
   },
   "outputs": [],
   "source": [
    "print(\"\\u0394 \\u03b1 \\t\\U000003b2 \\U000003b3\")\n",
    "print(\"\\U0001F62E \\U0001f61a \\U0001f630\")"
   ]
  },
  {
   "cell_type": "code",
   "execution_count": null,
   "id": "ddd04730",
   "metadata": {},
   "outputs": [],
   "source": [
    "print(\"\\N{GREEK CAPITAL LETTER DELTA} \\N{GREEK SMALL LETTER ALPHA}\")\n",
    "print(\"\\N{smiling face with open mouth and smiling eyes} \\N{winking face}\")"
   ]
  },
  {
   "cell_type": "markdown",
   "id": "02cc0939",
   "metadata": {
    "lang": "de",
    "slideshow": {
     "slide_type": "subslide"
    }
   },
   "source": [
    "- String Literale können auch in 3-fache Anführungszeichen eingeschlossen\n",
    "  werden\n",
    "- Diese Art von Literalen kann über mehrere Zeilen gehen"
   ]
  },
  {
   "cell_type": "code",
   "execution_count": null,
   "id": "efaf9953",
   "metadata": {},
   "outputs": [],
   "source": [
    "\"\"\"Das ist\n",
    "ein String-Literal,\n",
    "das über mehrere\n",
    "Zeilen geht.\"\"\""
   ]
  },
  {
   "cell_type": "code",
   "execution_count": null,
   "id": "468606ed",
   "metadata": {},
   "outputs": [],
   "source": [
    "print(\n",
    "    \"\"\"Mit Backslash am Ende der Zeile \\\n",
    "kann der Zeilenvorschub unterdrückt werden.\"\"\"\n",
    ")"
   ]
  },
  {
   "cell_type": "markdown",
   "id": "85d78293",
   "metadata": {
    "lang": "de",
    "slideshow": {
     "slide_type": "slide"
    }
   },
   "source": [
    "## Konkatenation von Strings\n",
    "\n",
    "Mit `+` können Strings aneinandergehängt (konkateniert) werden:"
   ]
  },
  {
   "cell_type": "code",
   "execution_count": null,
   "id": "94f38dd6",
   "metadata": {},
   "outputs": [],
   "source": [
    "\"Ein\" + \" \" + \"String\""
   ]
  },
  {
   "cell_type": "markdown",
   "id": "6249f5f7",
   "metadata": {
    "lang": "de",
    "slideshow": {
     "slide_type": "subslide"
    }
   },
   "source": [
    "Mit der `join()` Methode können mehrere Strings mit einem Trennzeichen (oder Trenn-String) zusammengefügt werden:"
   ]
  },
  {
   "cell_type": "code",
   "execution_count": null,
   "id": "ea47f332",
   "metadata": {},
   "outputs": [],
   "source": [
    "\" \".join([\"das\", \"sind\", \"mehrere\", \"strings\"])"
   ]
  },
  {
   "cell_type": "code",
   "execution_count": null,
   "id": "1b954f9f",
   "metadata": {},
   "outputs": [],
   "source": [
    "\", \".join([\"Pferd\", \"Katze\", \"Hund\"])"
   ]
  },
  {
   "cell_type": "code",
   "execution_count": null,
   "id": "0edc409b",
   "metadata": {},
   "outputs": [],
   "source": [
    "\"\".join([\"ab\", \"cde\", \"f\"])"
   ]
  },
  {
   "cell_type": "markdown",
   "id": "a74fdbf0",
   "metadata": {
    "lang": "de",
    "slideshow": {
     "slide_type": "subslide"
    }
   },
   "source": [
    "## Mini-Workshop\n",
    "\n",
    "- Notebook `workshop_070_more_strings_and_sorting`\n",
    "- Abschnitt \"Begrüßung 1\""
   ]
  },
  {
   "cell_type": "markdown",
   "id": "140de6be",
   "metadata": {
    "lang": "de",
    "slideshow": {
     "slide_type": "subslide"
    }
   },
   "source": [
    "\n",
    "## Nochmal Vergleich von Strings\n",
    "\n",
    "Um Strings mit Unicode-Zeichen zu vergleichen ist es zweckmäßig sie in\n",
    "Unicode-Normalform zu bringen."
   ]
  },
  {
   "cell_type": "code",
   "execution_count": null,
   "id": "13d2bec4",
   "metadata": {},
   "outputs": [],
   "source": [
    "s1 = \"café\"\n",
    "s2 = \"cafe\\u0301\""
   ]
  },
  {
   "cell_type": "code",
   "execution_count": null,
   "id": "2f291674",
   "metadata": {
    "tags": [
     "code-along"
    ]
   },
   "outputs": [],
   "source": []
  },
  {
   "cell_type": "code",
   "execution_count": null,
   "id": "4b64719f",
   "metadata": {
    "incorrectly_encoded_metadata": "{\"slideshow\": {\"slide_type\": \"subslide\"}} tags=[\"code-along\"]"
   },
   "outputs": [],
   "source": [
    "import unicodedata\n",
    "\n",
    "unicodedata.normalize(\"NFC\", s1) == s1"
   ]
  },
  {
   "cell_type": "code",
   "execution_count": null,
   "id": "a8109fd5",
   "metadata": {
    "tags": [
     "code-along"
    ]
   },
   "outputs": [],
   "source": []
  },
  {
   "cell_type": "code",
   "execution_count": null,
   "id": "b38d4e45",
   "metadata": {
    "lines_to_next_cell": 2,
    "tags": [
     "code-along"
    ]
   },
   "outputs": [],
   "source": []
  },
  {
   "cell_type": "markdown",
   "id": "01cb10ad",
   "metadata": {
    "lang": "de",
    "slideshow": {
     "slide_type": "slide"
    }
   },
   "source": [
    "# String Interpolation: F-Strings\n",
    "\n",
    "Python bietet die Möglichkeit, Werte von Variablen in Strings einzusetzen:"
   ]
  },
  {
   "cell_type": "code",
   "execution_count": null,
   "id": "5301cf37",
   "metadata": {
    "tags": [
     "code-along"
    ]
   },
   "outputs": [],
   "source": []
  },
  {
   "cell_type": "code",
   "execution_count": null,
   "id": "5a2ad9ff",
   "metadata": {
    "slideshow": {
     "slide_type": "subslide"
    }
   },
   "outputs": [],
   "source": [
    "spieler_name = \"Hans\"\n",
    "anzahl_spiele = 10\n",
    "anzahl_gewinne = 2\n",
    "\n",
    "ausgabe = f\"Hallo {spieler_name}!\\nSie haben {anzahl_spiele}-mal gespielt und dabei {anzahl_gewinne}-mal gewonnen.\"\n",
    "print(ausgabe)"
   ]
  },
  {
   "cell_type": "code",
   "execution_count": null,
   "id": "f9347506",
   "metadata": {
    "slideshow": {
     "slide_type": "subslide"
    }
   },
   "outputs": [],
   "source": [
    "ausgabe = f\"\"\"\\\n",
    "Hallo {spieler_name}!\n",
    "Sie haben {anzahl_spiele}-mal gespielt \\\n",
    "und dabei {anzahl_gewinne}-mal gewonnen.\\\n",
    "\"\"\"\n",
    "print(ausgabe)"
   ]
  },
  {
   "cell_type": "code",
   "execution_count": null,
   "id": "c0282c7a",
   "metadata": {
    "slideshow": {
     "slide_type": "subslide"
    }
   },
   "outputs": [],
   "source": [
    "ausgabe = (\n",
    "    f\"Hallo {spieler_name}!\\n\"\n",
    "    f\"Sie haben {anzahl_spiele}-mal gespielt \"\n",
    "    f\"und dabei {anzahl_gewinne}-mal gewonnen.\"\n",
    ")\n",
    "print(ausgabe)"
   ]
  },
  {
   "cell_type": "markdown",
   "id": "cbe43bf2",
   "metadata": {
    "lang": "de",
    "slideshow": {
     "slide_type": "subslide"
    }
   },
   "source": [
    "## Mini-Workshop\n",
    "\n",
    "- Notebook `workshop_070_more_strings_and_sorting`\n",
    "- Abschnitt \"Begrüßung 2\""
   ]
  },
  {
   "cell_type": "markdown",
   "id": "670e7d61",
   "metadata": {
    "lang": "de",
    "slideshow": {
     "slide_type": "subslide"
    }
   },
   "source": [
    "## Mini-Workshop\n",
    "\n",
    "- Notebook `workshop_070_more_strings_and_sorting`\n",
    "- Abschnitt \"Piraten 4\""
   ]
  },
  {
   "cell_type": "markdown",
   "id": "88c033d6",
   "metadata": {
    "lang": "de",
    "slideshow": {
     "slide_type": "slide"
    }
   },
   "source": [
    "## Finden in Strings\n",
    "\n",
    "Der `in` Operator funktioniert auch mit Strings als Argument. Um den Index\n",
    "eines Substrings in einem String zu finden kann man die `index()`-Methode\n",
    "verwenden."
   ]
  },
  {
   "cell_type": "code",
   "execution_count": null,
   "id": "dfad03f6",
   "metadata": {
    "tags": [
     "code-along"
    ]
   },
   "outputs": [],
   "source": []
  },
  {
   "cell_type": "code",
   "execution_count": null,
   "id": "2583a80f",
   "metadata": {
    "tags": [
     "code-along"
    ]
   },
   "outputs": [],
   "source": []
  },
  {
   "cell_type": "code",
   "execution_count": null,
   "id": "73331350",
   "metadata": {
    "tags": [
     "code-along"
    ]
   },
   "outputs": [],
   "source": []
  },
  {
   "cell_type": "code",
   "execution_count": null,
   "id": "ff57c2aa",
   "metadata": {
    "tags": [
     "code-along"
    ]
   },
   "outputs": [],
   "source": []
  },
  {
   "cell_type": "code",
   "execution_count": null,
   "id": "cc75926d",
   "metadata": {
    "tags": [
     "code-along"
    ]
   },
   "outputs": [],
   "source": []
  },
  {
   "cell_type": "code",
   "execution_count": null,
   "id": "2b2670ec",
   "metadata": {
    "tags": [
     "code-along"
    ]
   },
   "outputs": [],
   "source": []
  },
  {
   "cell_type": "code",
   "execution_count": null,
   "id": "e3f2a45c",
   "metadata": {
    "tags": [
     "code-along"
    ]
   },
   "outputs": [],
   "source": []
  },
  {
   "cell_type": "markdown",
   "id": "3e30066e",
   "metadata": {
    "lang": "de",
    "slideshow": {
     "slide_type": "slide"
    }
   },
   "source": [
    "## Workshop\n",
    "\n",
    "- Notebook `lecture_920x_Workshop_Cäsar_Verschlüsselung`"
   ]
  },
  {
   "cell_type": "code",
   "execution_count": null,
   "id": "3bf083a3",
   "metadata": {},
   "outputs": [],
   "source": []
  }
 ],
 "metadata": {
  "jupytext": {
   "cell_metadata_json": true,
   "encoding": "# -*- coding: utf-8 -*-",
   "formats": "ipynb"
  },
  "kernelspec": {
   "display_name": "Python 3 (ipykernel)",
   "language": "python",
   "name": "python3"
  }
 },
 "nbformat": 4,
 "nbformat_minor": 5
}
