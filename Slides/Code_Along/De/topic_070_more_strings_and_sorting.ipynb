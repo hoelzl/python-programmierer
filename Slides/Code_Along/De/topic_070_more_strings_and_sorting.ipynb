{
 "cells": [
  {
   "cell_type": "markdown",
   "id": "6b36e30d",
   "metadata": {
    "lang": "de",
    "slideshow": {
     "slide_type": "slide"
    }
   },
   "source": [
    "<img src=\"img/python-logo-notext.svg\"\n",
    "     style=\"display:block;margin:auto;width:10%\"/>\n",
    "<br>\n",
    "<div style=\"text-align:center; font-size:200%;\"><b>Vertiefung zu Strings</b></div>\n",
    "<br/>\n",
    "<div style=\"text-align:center;\">Dr. Matthias Hölzl</div>"
   ]
  },
  {
   "cell_type": "markdown",
   "id": "e93f93af",
   "metadata": {
    "lang": "de",
    "slideshow": {
     "slide_type": "slide"
    }
   },
   "source": [
    "# Vergleich von Strings"
   ]
  },
  {
   "cell_type": "code",
   "execution_count": null,
   "id": "27c3e9db",
   "metadata": {},
   "outputs": [],
   "source": [
    "\"a\" == \"a\""
   ]
  },
  {
   "cell_type": "code",
   "execution_count": null,
   "id": "b079ba4f",
   "metadata": {},
   "outputs": [],
   "source": [
    "\"A\" == \"a\""
   ]
  },
  {
   "cell_type": "code",
   "execution_count": null,
   "id": "f66ea3e6",
   "metadata": {
    "slideshow": {
     "slide_type": "subslide"
    }
   },
   "outputs": [],
   "source": [
    "\"A\" < \"B\""
   ]
  },
  {
   "cell_type": "code",
   "execution_count": null,
   "id": "9c5edce9",
   "metadata": {},
   "outputs": [],
   "source": [
    "\"A\" < \"a\""
   ]
  },
  {
   "cell_type": "code",
   "execution_count": null,
   "id": "f776415a",
   "metadata": {},
   "outputs": [],
   "source": [
    "\"a\" < \"A\""
   ]
  },
  {
   "cell_type": "markdown",
   "id": "620f9889",
   "metadata": {
    "lang": "de",
    "slideshow": {
     "slide_type": "subslide"
    }
   },
   "source": [
    "Strings sind wie im Wörterbuch (lexikographisch) geordnet"
   ]
  },
  {
   "cell_type": "code",
   "execution_count": null,
   "id": "6fca7d4e",
   "metadata": {},
   "outputs": [],
   "source": [
    "\"ab\" < \"abc\""
   ]
  },
  {
   "cell_type": "code",
   "execution_count": null,
   "id": "c7f077c0",
   "metadata": {},
   "outputs": [],
   "source": [
    "\"ab\" < \"ac\""
   ]
  },
  {
   "cell_type": "code",
   "execution_count": null,
   "id": "08fbc6ae",
   "metadata": {},
   "outputs": [],
   "source": [
    "\"ab\" != \"ac\""
   ]
  },
  {
   "cell_type": "markdown",
   "id": "851277bc",
   "metadata": {
    "lang": "de",
    "slideshow": {
     "slide_type": "subslide"
    }
   },
   "source": [
    "## Einschub: Sortieren von Listen/Iterables\n",
    "\n",
    "Mit der Funktion `sorted()` können iterables sortiert werden. Mit dem\n",
    "benannten Argument `key` kann eine Funktion angegeben werden, die bestimmt,\n",
    "wie die Sortierung erfolgt:"
   ]
  },
  {
   "cell_type": "code",
   "execution_count": null,
   "id": "a683ae37",
   "metadata": {},
   "outputs": [],
   "source": [
    "numbers = [3, 8, -7, 1, 0, 2, -3, 3]"
   ]
  },
  {
   "cell_type": "code",
   "execution_count": null,
   "id": "eb74dd2d",
   "metadata": {
    "tags": [
     "code-along"
    ]
   },
   "outputs": [],
   "source": []
  },
  {
   "cell_type": "code",
   "execution_count": null,
   "id": "4fc0734b",
   "metadata": {
    "tags": [
     "code-along"
    ]
   },
   "outputs": [],
   "source": []
  },
  {
   "cell_type": "code",
   "execution_count": null,
   "id": "f4e41d2b",
   "metadata": {
    "slideshow": {
     "slide_type": "subslide"
    }
   },
   "outputs": [],
   "source": [
    "strings = [\"a\", \"ABC\", \"xy\", \"Asdfgh\", \"foo\", \"bar\", \"quux\"]"
   ]
  },
  {
   "cell_type": "code",
   "execution_count": null,
   "id": "a0cd27fe",
   "metadata": {
    "tags": [
     "code-along"
    ]
   },
   "outputs": [],
   "source": []
  },
  {
   "cell_type": "code",
   "execution_count": null,
   "id": "d8b6e3f4",
   "metadata": {
    "tags": [
     "code-along"
    ]
   },
   "outputs": [],
   "source": []
  },
  {
   "cell_type": "code",
   "execution_count": null,
   "id": "0b60021c",
   "metadata": {
    "tags": [
     "code-along"
    ]
   },
   "outputs": [],
   "source": []
  },
  {
   "cell_type": "code",
   "execution_count": null,
   "id": "6b4f8baa",
   "metadata": {
    "tags": [
     "code-along"
    ]
   },
   "outputs": [],
   "source": []
  },
  {
   "cell_type": "markdown",
   "id": "41f2f2de",
   "metadata": {
    "lang": "de",
    "slideshow": {
     "slide_type": "slide"
    }
   },
   "source": [
    "\n",
    "## Vergleich von Unicode Strings\n",
    "\n",
    "Die eingebauten Vergleichsfunktionen sind nur für einfache (ASCII) Strings\n",
    "sinnvoll. Für Strings, die Unicode-Zeichen enthalten ist Sortieren/Vergleichen\n",
    "schwieriger.\n",
    "\n",
    "Das Standard Modul in Python ist `locale`; das auf die Locale-Settings des\n",
    "Betriebssystems zurückgreift:"
   ]
  },
  {
   "cell_type": "code",
   "execution_count": null,
   "id": "7236572a",
   "metadata": {
    "tags": [
     "code-along"
    ]
   },
   "outputs": [],
   "source": []
  },
  {
   "cell_type": "code",
   "execution_count": null,
   "id": "845c70b1",
   "metadata": {},
   "outputs": [],
   "source": [
    "my_strings = [\"o\", \"oa\", \"oe\", \"ö\", \"oz\", \"sa\", \"s\", \"ß\", \"ss\", \"sz\"]"
   ]
  },
  {
   "cell_type": "code",
   "execution_count": null,
   "id": "8ce24a79",
   "metadata": {
    "tags": [
     "code-along"
    ]
   },
   "outputs": [],
   "source": []
  },
  {
   "cell_type": "code",
   "execution_count": null,
   "id": "5269888a",
   "metadata": {
    "tags": [
     "code-along"
    ]
   },
   "outputs": [],
   "source": []
  },
  {
   "cell_type": "code",
   "execution_count": null,
   "id": "c93057e4",
   "metadata": {
    "incorrectly_encoded_metadata": "{\"slideshow\": {\"slide_type\": \"subslide\"}} tags=[\"code-along\"]"
   },
   "outputs": [],
   "source": [
    "locale.setlocale(locale.LC_COLLATE, \"de_DE.UTF-8\")"
   ]
  },
  {
   "cell_type": "code",
   "execution_count": null,
   "id": "d74b9e3b",
   "metadata": {
    "tags": [
     "code-along"
    ]
   },
   "outputs": [],
   "source": []
  },
  {
   "cell_type": "code",
   "execution_count": null,
   "id": "3f37e017",
   "metadata": {
    "tags": [
     "code-along"
    ]
   },
   "outputs": [],
   "source": []
  },
  {
   "cell_type": "code",
   "execution_count": null,
   "id": "54f2747f",
   "metadata": {
    "tags": [
     "code-along"
    ]
   },
   "outputs": [],
   "source": []
  },
  {
   "cell_type": "markdown",
   "id": "07ddc453",
   "metadata": {
    "lang": "de",
    "lines_to_next_cell": 2,
    "slideshow": {
     "slide_type": "subslide"
    }
   },
   "source": [
    "\n",
    "Die Locale Settings sind global pro Prozess und deshalb hauptsächlich geeignet\n",
    "um mit dem Benutzer zu interagieren.\n",
    "\n",
    "Wenn man mit Strings in verschiedenen Sprachen umgehen muss empfiehlt sich die\n",
    "Verwendung von Bibliotheken wie `PyUCA` (in Python geschrieben und daher\n",
    "leichter zu installieren) oder `PyICU` (vollständigere Implementierung der\n",
    "Unicode Spezifikation, basierend auf einer C++ Bibliothek)."
   ]
  },
  {
   "cell_type": "markdown",
   "id": "98951343",
   "metadata": {
    "lang": "de",
    "slideshow": {
     "slide_type": "subslide"
    }
   },
   "source": [
    "## Umwandeln eines Strings in Groß-/Kleinbuchstaben"
   ]
  },
  {
   "cell_type": "code",
   "execution_count": null,
   "id": "4ef81584",
   "metadata": {
    "tags": [
     "code-along"
    ]
   },
   "outputs": [],
   "source": []
  },
  {
   "cell_type": "code",
   "execution_count": null,
   "id": "6d0ddcd1",
   "metadata": {
    "tags": [
     "code-along"
    ]
   },
   "outputs": [],
   "source": []
  },
  {
   "cell_type": "markdown",
   "id": "2471c37a",
   "metadata": {
    "lang": "de",
    "slideshow": {
     "slide_type": "subslide"
    }
   },
   "source": [
    "\n",
    "Die `lower()` Methode führt nicht immer die gewünschten Umwandlungen durch.\n",
    "Die `casefold` Methode is dafür manchmal nützlich:"
   ]
  },
  {
   "cell_type": "code",
   "execution_count": null,
   "id": "d5bd4d4d",
   "metadata": {
    "tags": [
     "code-along"
    ]
   },
   "outputs": [],
   "source": []
  },
  {
   "cell_type": "code",
   "execution_count": null,
   "id": "5c8faaab",
   "metadata": {
    "tags": [
     "code-along"
    ]
   },
   "outputs": [],
   "source": []
  },
  {
   "cell_type": "code",
   "execution_count": null,
   "id": "7e6afc0c",
   "metadata": {
    "tags": [
     "code-along"
    ]
   },
   "outputs": [],
   "source": []
  },
  {
   "cell_type": "markdown",
   "id": "6963dd0b",
   "metadata": {
    "lang": "de",
    "lines_to_next_cell": 2,
    "slideshow": {
     "slide_type": "subslide"
    }
   },
   "source": [
    "## Mini-Workshop\n",
    "\n",
    "- Notebook `workshop_070_more_strings_and_sorting`\n",
    "- Abschnitt \"Shout\""
   ]
  },
  {
   "cell_type": "markdown",
   "id": "7297b379",
   "metadata": {
    "lang": "de",
    "slideshow": {
     "slide_type": "slide"
    }
   },
   "source": [
    "# Nochmal String Literale\n",
    "\n",
    "- String-Literale werden in einfache oder doppelte Anführungszeichen\n",
    "  eingeschlossen\n",
    "    - `\"Hello, world!\"`\n",
    "    - `'Hallo Welt!'`\n",
    "    - Welche Form man wählt spielt keine Rolle, außer man will\n",
    "      Anführungszeichen im String haben\n",
    "    - `\"Er sagt 'Huh?'\"`\n",
    "    - `'Sie antwortet: \"Genau.\"'`"
   ]
  },
  {
   "cell_type": "markdown",
   "id": "ff42452c",
   "metadata": {
    "lang": "de",
    "slideshow": {
     "slide_type": "subslide"
    }
   },
   "source": [
    "- String-Literale, können Unicode Zeichen enthalten:\n",
    "    - `\"おはようございます\"`\n",
    "    - `\"😠🙃🙄\"`"
   ]
  },
  {
   "cell_type": "code",
   "execution_count": null,
   "id": "dc25602f",
   "metadata": {},
   "outputs": [],
   "source": [
    "print(\"Er sagt 'Huh?'\")\n",
    "print('Sie antwortet: \"Genau.\"')\n",
    "print(\"おはようございます\")\n",
    "print(\"😠🙃🙄\")"
   ]
  },
  {
   "cell_type": "markdown",
   "id": "a7365e0b",
   "metadata": {
    "lang": "de",
    "slideshow": {
     "slide_type": "subslide"
    }
   },
   "source": [
    "- Sonderzeichen können mit *Escape-Notation* angegeben werden:\n",
    "    - `\\n`, `\\t`, `\\\\`, `\\\"`, `\\'`, ...\n",
    "    - `\\u`, `\\U` für Unicode code points (16 bzw. 32 bit)\n",
    "    - `\\N{...}` für Unicode"
   ]
  },
  {
   "cell_type": "code",
   "execution_count": null,
   "id": "3339635d",
   "metadata": {},
   "outputs": [],
   "source": [
    "print(\"a\\tbc\\td\\n123\\t4\\t5\")"
   ]
  },
  {
   "cell_type": "code",
   "execution_count": null,
   "id": "8659ef00",
   "metadata": {},
   "outputs": [],
   "source": [
    "print('\"Let\\'s go crazy\", she said')"
   ]
  },
  {
   "cell_type": "code",
   "execution_count": null,
   "id": "70ca7f9c",
   "metadata": {},
   "outputs": [],
   "source": [
    "print(\"C:\\\\Users\\\\John\")"
   ]
  },
  {
   "cell_type": "code",
   "execution_count": null,
   "id": "a246bb20",
   "metadata": {
    "slideshow": {
     "slide_type": "subslide"
    }
   },
   "outputs": [],
   "source": [
    "print(\"\\u0394 \\u03b1 \\t\\U000003b2 \\U000003b3\")\n",
    "print(\"\\U0001F62E \\U0001f61a \\U0001f630\")"
   ]
  },
  {
   "cell_type": "code",
   "execution_count": null,
   "id": "676f3fd9",
   "metadata": {},
   "outputs": [],
   "source": [
    "print(\"\\N{GREEK CAPITAL LETTER DELTA} \\N{GREEK SMALL LETTER ALPHA}\")\n",
    "print(\"\\N{smiling face with open mouth and smiling eyes} \\N{winking face}\")"
   ]
  },
  {
   "cell_type": "markdown",
   "id": "a97f1d0d",
   "metadata": {
    "lang": "de",
    "slideshow": {
     "slide_type": "subslide"
    }
   },
   "source": [
    "- String Literale können auch in 3-fache Anführungszeichen eingeschlossen\n",
    "  werden\n",
    "- Diese Art von Literalen kann über mehrere Zeilen gehen"
   ]
  },
  {
   "cell_type": "code",
   "execution_count": null,
   "id": "84f304f5",
   "metadata": {},
   "outputs": [],
   "source": [
    "\"\"\"Das ist\n",
    "ein String-Literal,\n",
    "das über mehrere\n",
    "Zeilen geht.\"\"\""
   ]
  },
  {
   "cell_type": "code",
   "execution_count": null,
   "id": "7fbeb239",
   "metadata": {},
   "outputs": [],
   "source": [
    "print(\n",
    "    \"\"\"Mit Backslash am Ende der Zeile \\\n",
    "kann der Zeilenvorschub unterdrückt werden.\"\"\"\n",
    ")"
   ]
  },
  {
   "cell_type": "markdown",
   "id": "84656dc6",
   "metadata": {
    "lang": "de",
    "slideshow": {
     "slide_type": "slide"
    }
   },
   "source": [
    "## Konkatenation von Strings\n",
    "\n",
    "Mit `+` können Strings aneinandergehängt (konkateniert) werden:"
   ]
  },
  {
   "cell_type": "code",
   "execution_count": null,
   "id": "5104a1ef",
   "metadata": {},
   "outputs": [],
   "source": [
    "\"Ein\" + \" \" + \"String\""
   ]
  },
  {
   "cell_type": "markdown",
   "id": "e37db7ed",
   "metadata": {
    "lang": "de",
    "slideshow": {
     "slide_type": "subslide"
    }
   },
   "source": [
    "Mit der `join()` Methode können mehrere Strings mit einem Trennzeichen (oder Trenn-String) zusammengefügt werden:"
   ]
  },
  {
   "cell_type": "code",
   "execution_count": null,
   "id": "e7e8bb1c",
   "metadata": {},
   "outputs": [],
   "source": [
    "\" \".join([\"das\", \"sind\", \"mehrere\", \"strings\"])"
   ]
  },
  {
   "cell_type": "code",
   "execution_count": null,
   "id": "18013477",
   "metadata": {},
   "outputs": [],
   "source": [
    "\", \".join([\"Pferd\", \"Katze\", \"Hund\"])"
   ]
  },
  {
   "cell_type": "code",
   "execution_count": null,
   "id": "3a882428",
   "metadata": {},
   "outputs": [],
   "source": [
    "\"\".join([\"ab\", \"cde\", \"f\"])"
   ]
  },
  {
   "cell_type": "markdown",
   "id": "112c6b93",
   "metadata": {
    "lang": "de",
    "slideshow": {
     "slide_type": "subslide"
    }
   },
   "source": [
    "## Mini-Workshop\n",
    "\n",
    "- Notebook `workshop_070_more_strings_and_sorting`\n",
    "- Abschnitt \"Begrüßung 1\""
   ]
  },
  {
   "cell_type": "markdown",
   "id": "6a33c678",
   "metadata": {
    "lang": "de",
    "slideshow": {
     "slide_type": "subslide"
    }
   },
   "source": [
    "\n",
    "## Nochmal Vergleich von Strings\n",
    "\n",
    "Um Strings mit Unicode-Zeichen zu vergleichen ist es zweckmäßig sie in\n",
    "Unicode-Normalform zu bringen."
   ]
  },
  {
   "cell_type": "code",
   "execution_count": null,
   "id": "086075db",
   "metadata": {},
   "outputs": [],
   "source": [
    "s1 = \"café\"\n",
    "s2 = \"cafe\\u0301\""
   ]
  },
  {
   "cell_type": "code",
   "execution_count": null,
   "id": "aa4cfe40",
   "metadata": {
    "tags": [
     "code-along"
    ]
   },
   "outputs": [],
   "source": []
  },
  {
   "cell_type": "code",
   "execution_count": null,
   "id": "c64fa54a",
   "metadata": {
    "incorrectly_encoded_metadata": "{\"slideshow\": {\"slide_type\": \"subslide\"}} tags=[\"code-along\"]"
   },
   "outputs": [],
   "source": [
    "import unicodedata\n",
    "\n",
    "unicodedata.normalize(\"NFC\", s1) == s1"
   ]
  },
  {
   "cell_type": "code",
   "execution_count": null,
   "id": "ffb8afee",
   "metadata": {
    "tags": [
     "code-along"
    ]
   },
   "outputs": [],
   "source": []
  },
  {
   "cell_type": "code",
   "execution_count": null,
   "id": "cbfc8b04",
   "metadata": {
    "lines_to_next_cell": 2,
    "tags": [
     "code-along"
    ]
   },
   "outputs": [],
   "source": []
  },
  {
   "cell_type": "markdown",
   "id": "a5f30258",
   "metadata": {
    "lang": "de",
    "slideshow": {
     "slide_type": "slide"
    }
   },
   "source": [
    "# String Interpolation: F-Strings\n",
    "\n",
    "Python bietet die Möglichkeit, Werte von Variablen in Strings einzusetzen:"
   ]
  },
  {
   "cell_type": "code",
   "execution_count": null,
   "id": "dbab3894",
   "metadata": {
    "tags": [
     "code-along"
    ]
   },
   "outputs": [],
   "source": []
  },
  {
   "cell_type": "code",
   "execution_count": null,
   "id": "495b6370",
   "metadata": {
    "slideshow": {
     "slide_type": "subslide"
    }
   },
   "outputs": [],
   "source": [
    "spieler_name = \"Hans\"\n",
    "anzahl_spiele = 10\n",
    "anzahl_gewinne = 2\n",
    "\n",
    "ausgabe = f\"Hallo {spieler_name}!\\nSie haben {anzahl_spiele}-mal gespielt und dabei {anzahl_gewinne}-mal gewonnen.\"\n",
    "print(ausgabe)"
   ]
  },
  {
   "cell_type": "code",
   "execution_count": null,
   "id": "83cae548",
   "metadata": {
    "slideshow": {
     "slide_type": "subslide"
    }
   },
   "outputs": [],
   "source": [
    "ausgabe = f\"\"\"\\\n",
    "Hallo {spieler_name}!\n",
    "Sie haben {anzahl_spiele}-mal gespielt \\\n",
    "und dabei {anzahl_gewinne}-mal gewonnen.\\\n",
    "\"\"\"\n",
    "print(ausgabe)"
   ]
  },
  {
   "cell_type": "code",
   "execution_count": null,
   "id": "58e7c44d",
   "metadata": {
    "slideshow": {
     "slide_type": "subslide"
    }
   },
   "outputs": [],
   "source": [
    "ausgabe = (\n",
    "    f\"Hallo {spieler_name}!\\n\"\n",
    "    f\"Sie haben {anzahl_spiele}-mal gespielt \"\n",
    "    f\"und dabei {anzahl_gewinne}-mal gewonnen.\"\n",
    ")\n",
    "print(ausgabe)"
   ]
  },
  {
   "cell_type": "markdown",
   "id": "0223390c",
   "metadata": {
    "lang": "de",
    "slideshow": {
     "slide_type": "subslide"
    }
   },
   "source": [
    "## Mini-Workshop\n",
    "\n",
    "- Notebook `workshop_070_more_strings_and_sorting`\n",
    "- Abschnitt \"Begrüßung 2\""
   ]
  },
  {
   "cell_type": "markdown",
   "id": "9146c832",
   "metadata": {
    "lang": "de",
    "slideshow": {
     "slide_type": "subslide"
    }
   },
   "source": [
    "## Mini-Workshop\n",
    "\n",
    "- Notebook `workshop_070_more_strings_and_sorting`\n",
    "- Abschnitt \"Piraten 4\""
   ]
  },
  {
   "cell_type": "markdown",
   "id": "16894c89",
   "metadata": {
    "lang": "de",
    "slideshow": {
     "slide_type": "slide"
    }
   },
   "source": [
    "## Finden in Strings\n",
    "\n",
    "Der `in` Operator funktioniert auch mit Strings als Argument. Um den Index\n",
    "eines Substrings in einem String zu finden kann man die `index()`-Methode\n",
    "verwenden."
   ]
  },
  {
   "cell_type": "code",
   "execution_count": null,
   "id": "c62cdea3",
   "metadata": {
    "tags": [
     "code-along"
    ]
   },
   "outputs": [],
   "source": []
  },
  {
   "cell_type": "code",
   "execution_count": null,
   "id": "50bb06b4",
   "metadata": {
    "tags": [
     "code-along"
    ]
   },
   "outputs": [],
   "source": []
  },
  {
   "cell_type": "code",
   "execution_count": null,
   "id": "6dedddb0",
   "metadata": {
    "tags": [
     "code-along"
    ]
   },
   "outputs": [],
   "source": []
  },
  {
   "cell_type": "code",
   "execution_count": null,
   "id": "cb367e24",
   "metadata": {
    "tags": [
     "code-along"
    ]
   },
   "outputs": [],
   "source": []
  },
  {
   "cell_type": "code",
   "execution_count": null,
   "id": "62176ab7",
   "metadata": {
    "tags": [
     "code-along"
    ]
   },
   "outputs": [],
   "source": []
  },
  {
   "cell_type": "code",
   "execution_count": null,
   "id": "512e93cf",
   "metadata": {
    "tags": [
     "code-along"
    ]
   },
   "outputs": [],
   "source": []
  },
  {
   "cell_type": "code",
   "execution_count": null,
   "id": "c5718ac0",
   "metadata": {
    "tags": [
     "code-along"
    ]
   },
   "outputs": [],
   "source": []
  },
  {
   "cell_type": "markdown",
   "id": "4a09008e",
   "metadata": {
    "lang": "de",
    "slideshow": {
     "slide_type": "slide"
    }
   },
   "source": [
    "## Workshop\n",
    "\n",
    "- Notebook `lecture_920x_Workshop_Cäsar_Verschlüsselung`"
   ]
  },
  {
   "cell_type": "code",
   "execution_count": null,
   "id": "6e27a103",
   "metadata": {},
   "outputs": [],
   "source": []
  }
 ],
 "metadata": {
  "jupytext": {
   "cell_metadata_json": true,
   "encoding": "# -*- coding: utf-8 -*-",
   "formats": "ipynb"
  },
  "kernelspec": {
   "display_name": "Python 3 (ipykernel)",
   "language": "python",
   "name": "python3"
  }
 },
 "nbformat": 4,
 "nbformat_minor": 5
}
