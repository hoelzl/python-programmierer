{
 "cells": [
  {
   "cell_type": "markdown",
   "id": "12cf402d",
   "metadata": {
    "lang": "de",
    "slideshow": {
     "slide_type": "slide"
    }
   },
   "source": [
    "<img src=\"img/python-logo-notext.svg\"\n",
    "     style=\"display:block;margin:auto;width:10%\"/>\n",
    "<br>\n",
    "<div style=\"text-align:center; font-size:200%;\"><b>Identität von Objekten</b></div>\n",
    "<br/>\n",
    "<div style=\"text-align:center;\">Dr. Matthias Hölzl</div>"
   ]
  },
  {
   "cell_type": "markdown",
   "id": "ffced205",
   "metadata": {
    "lang": "de",
    "slideshow": {
     "slide_type": "slide"
    }
   },
   "source": [
    "\n",
    " ## Identität von Objekten"
   ]
  },
  {
   "cell_type": "code",
   "execution_count": null,
   "id": "cc97d278",
   "metadata": {},
   "outputs": [],
   "source": [
    "a = [1, 2, 3]\n",
    "b = [1, 2, 3]\n",
    "c = b"
   ]
  },
  {
   "cell_type": "code",
   "execution_count": null,
   "id": "eee908fb",
   "metadata": {},
   "outputs": [],
   "source": [
    "print(f\"a = {a}, b = {b}, c = {c}\")"
   ]
  },
  {
   "cell_type": "code",
   "execution_count": null,
   "id": "0c8c68a1",
   "metadata": {},
   "outputs": [],
   "source": [
    "a[0] = 10"
   ]
  },
  {
   "cell_type": "code",
   "execution_count": null,
   "id": "b6de0589",
   "metadata": {},
   "outputs": [],
   "source": [
    "print(f\"a = {a}, b = {b}, c = {c}\")"
   ]
  },
  {
   "cell_type": "code",
   "execution_count": null,
   "id": "f62f2b98",
   "metadata": {},
   "outputs": [],
   "source": [
    "b[0] = 20"
   ]
  },
  {
   "cell_type": "code",
   "execution_count": null,
   "id": "e2189e3e",
   "metadata": {},
   "outputs": [],
   "source": [
    "c[1] = 30"
   ]
  },
  {
   "cell_type": "code",
   "execution_count": null,
   "id": "1dadb2d6",
   "metadata": {},
   "outputs": [],
   "source": [
    "print(f\"a = {a}, b = {b}, c = {c}\")"
   ]
  },
  {
   "cell_type": "markdown",
   "id": "4bf22bba",
   "metadata": {
    "slideshow": {
     "slide_type": "subslide"
    }
   },
   "source": [
    "\n",
    " <img src=\"img/identity.svg\" style=\"display:block;width:70%;margin:auto;\"/>"
   ]
  },
  {
   "cell_type": "markdown",
   "id": "1eabc0aa",
   "metadata": {
    "lang": "de",
    "slideshow": {
     "slide_type": "slide"
    }
   },
   "source": [
    "\n",
    " ## Test der Identität von Objekten"
   ]
  },
  {
   "cell_type": "code",
   "execution_count": null,
   "id": "7e083877",
   "metadata": {},
   "outputs": [],
   "source": [
    "a = [1, 2, 3]\n",
    "b = a\n",
    "c = [1, 2, 3]\n",
    "d = c[:]"
   ]
  },
  {
   "cell_type": "markdown",
   "id": "a08fbf89",
   "metadata": {
    "lang": "de"
   },
   "source": [
    "\n",
    " `==` testet Gleichheit der Werte, nicht (notwendigerweise) Objektidentität."
   ]
  },
  {
   "cell_type": "code",
   "execution_count": null,
   "id": "99c0cf8f",
   "metadata": {},
   "outputs": [],
   "source": [
    "a == b"
   ]
  },
  {
   "cell_type": "code",
   "execution_count": null,
   "id": "750ef851",
   "metadata": {},
   "outputs": [],
   "source": [
    "b == c"
   ]
  },
  {
   "cell_type": "code",
   "execution_count": null,
   "id": "0fe4ab40",
   "metadata": {},
   "outputs": [],
   "source": [
    "c == d"
   ]
  },
  {
   "cell_type": "markdown",
   "id": "8b82e3d3",
   "metadata": {
    "lang": "de",
    "slideshow": {
     "slide_type": "subslide"
    }
   },
   "source": [
    "\n",
    " Mit `is` kann man Objektidentität testen:"
   ]
  },
  {
   "cell_type": "code",
   "execution_count": null,
   "id": "acb6c188",
   "metadata": {},
   "outputs": [],
   "source": [
    "a = [1, 2, 3]\n",
    "b = a\n",
    "c = [1, 2, 3]\n",
    "d = c[:]\n",
    "e = c.copy()"
   ]
  },
  {
   "cell_type": "code",
   "execution_count": null,
   "id": "8cfa4174",
   "metadata": {},
   "outputs": [],
   "source": [
    "a is b"
   ]
  },
  {
   "cell_type": "code",
   "execution_count": null,
   "id": "7307491f",
   "metadata": {},
   "outputs": [],
   "source": [
    "b is c"
   ]
  },
  {
   "cell_type": "code",
   "execution_count": null,
   "id": "aa3000ea",
   "metadata": {},
   "outputs": [],
   "source": [
    "c is d"
   ]
  },
  {
   "cell_type": "code",
   "execution_count": null,
   "id": "f9d91ebf",
   "metadata": {},
   "outputs": [],
   "source": [
    "c is e"
   ]
  },
  {
   "cell_type": "code",
   "execution_count": null,
   "id": "b3cf9012",
   "metadata": {},
   "outputs": [],
   "source": [
    "c[0] = 2"
   ]
  },
  {
   "cell_type": "code",
   "execution_count": null,
   "id": "fe15b0a5",
   "metadata": {},
   "outputs": [],
   "source": [
    "d"
   ]
  },
  {
   "cell_type": "code",
   "execution_count": null,
   "id": "9b7ef31b",
   "metadata": {},
   "outputs": [],
   "source": [
    "e"
   ]
  },
  {
   "cell_type": "markdown",
   "id": "c87de854",
   "metadata": {
    "lang": "de",
    "slideshow": {
     "slide_type": "subslide"
    }
   },
   "source": [
    "\n",
    " Die Funktion `id()` gibt die Adresse eines Objekts zurück:"
   ]
  },
  {
   "cell_type": "code",
   "execution_count": null,
   "id": "42f2febd",
   "metadata": {},
   "outputs": [],
   "source": [
    "id([1, 2, 3])"
   ]
  },
  {
   "cell_type": "markdown",
   "id": "833959d3",
   "metadata": {
    "lang": "de"
   },
   "source": [
    "\n",
    " Meistens stellt man Adressen in hexadezimaler Form dar:"
   ]
  },
  {
   "cell_type": "code",
   "execution_count": null,
   "id": "67219798",
   "metadata": {},
   "outputs": [],
   "source": [
    "hex(id([1, 2, 3]))"
   ]
  },
  {
   "cell_type": "markdown",
   "id": "1f8c070a",
   "metadata": {
    "lang": "de",
    "slideshow": {
     "slide_type": "subslide"
    }
   },
   "source": [
    "*Nur am Rande:* Gilt für Zahlen mit `x == y` immer `x is y`?"
   ]
  },
  {
   "cell_type": "code",
   "execution_count": null,
   "id": "518d54ba",
   "metadata": {},
   "outputs": [],
   "source": [
    "x = 1\n",
    "y = 1\n",
    "z = 1.0\n",
    "print(x == y)\n",
    "print(x is y)\n",
    "print(x == z)\n",
    "print(x is z)"
   ]
  },
  {
   "cell_type": "code",
   "execution_count": null,
   "id": "420dc71b",
   "metadata": {},
   "outputs": [],
   "source": [
    "x = 2560\n",
    "y = 2560\n",
    "print(x == y)\n",
    "print(x is y)"
   ]
  },
  {
   "cell_type": "code",
   "execution_count": null,
   "id": "6a649bca",
   "metadata": {},
   "outputs": [],
   "source": [
    "import ctypes\n",
    "\n",
    "x_refcount = ctypes.c_long.from_address(id(x)).value\n",
    "x_int_value = ctypes.c_long.from_address(id(x) + 24).value"
   ]
  },
  {
   "cell_type": "code",
   "execution_count": null,
   "id": "055024a2",
   "metadata": {},
   "outputs": [],
   "source": [
    "print(hex(id(x)))\n",
    "print(x_refcount)\n",
    "print(x_int_value)"
   ]
  },
  {
   "cell_type": "code",
   "execution_count": null,
   "id": "a8a6241c",
   "metadata": {},
   "outputs": [],
   "source": [
    "print(hex(id(x)))\n",
    "print(x_refcount)\n",
    "print(x_int_value)"
   ]
  },
  {
   "cell_type": "markdown",
   "id": "21cbacc8",
   "metadata": {
    "lang": "de",
    "slideshow": {
     "slide_type": "slide"
    }
   },
   "source": [
    "## Vorsicht mit veränderlichen Default-Argumenten!"
   ]
  },
  {
   "cell_type": "code",
   "execution_count": null,
   "id": "a4c44859",
   "metadata": {},
   "outputs": [],
   "source": [
    "def f(lst=[]):\n",
    "    lst.append(1)\n",
    "    return lst"
   ]
  },
  {
   "cell_type": "code",
   "execution_count": null,
   "id": "ef15077e",
   "metadata": {},
   "outputs": [],
   "source": [
    "f([1, 2, 3])"
   ]
  },
  {
   "cell_type": "code",
   "execution_count": null,
   "id": "9809a601",
   "metadata": {},
   "outputs": [],
   "source": [
    "f()"
   ]
  },
  {
   "cell_type": "code",
   "execution_count": null,
   "id": "22562427",
   "metadata": {},
   "outputs": [],
   "source": [
    "f()"
   ]
  },
  {
   "cell_type": "code",
   "execution_count": null,
   "id": "b8f884bc",
   "metadata": {},
   "outputs": [],
   "source": [
    "f()"
   ]
  },
  {
   "cell_type": "code",
   "execution_count": null,
   "id": "8add441a",
   "metadata": {
    "slideshow": {
     "slide_type": "subslide"
    }
   },
   "outputs": [],
   "source": [
    "def f(lst=None):\n",
    "    if lst is None:\n",
    "        lst = []\n",
    "    lst.append(1)\n",
    "    return lst"
   ]
  },
  {
   "cell_type": "code",
   "execution_count": null,
   "id": "1dbc0b30",
   "metadata": {},
   "outputs": [],
   "source": [
    "f()"
   ]
  },
  {
   "cell_type": "code",
   "execution_count": null,
   "id": "e8895277",
   "metadata": {},
   "outputs": [],
   "source": [
    "f()"
   ]
  },
  {
   "cell_type": "code",
   "execution_count": null,
   "id": "055e332d",
   "metadata": {},
   "outputs": [],
   "source": [
    "f()"
   ]
  },
  {
   "cell_type": "code",
   "execution_count": null,
   "id": "eaf7fafe",
   "metadata": {},
   "outputs": [],
   "source": [
    "def f(lst=[]):\n",
    "    return lst"
   ]
  },
  {
   "cell_type": "code",
   "execution_count": null,
   "id": "1567d78e",
   "metadata": {},
   "outputs": [],
   "source": [
    "x = f()"
   ]
  },
  {
   "cell_type": "code",
   "execution_count": null,
   "id": "5699c37d",
   "metadata": {},
   "outputs": [],
   "source": [
    "x.append(2)"
   ]
  },
  {
   "cell_type": "code",
   "execution_count": null,
   "id": "32c62dd9",
   "metadata": {},
   "outputs": [],
   "source": [
    "f()"
   ]
  },
  {
   "cell_type": "code",
   "execution_count": null,
   "id": "796d5596",
   "metadata": {},
   "outputs": [],
   "source": [
    "a = [1, 2, 3]\n",
    "b = a[1:2]\n",
    "b[0] = \"a\"\n",
    "print(a, b)"
   ]
  },
  {
   "cell_type": "code",
   "execution_count": null,
   "id": "793118a1",
   "metadata": {},
   "outputs": [],
   "source": [
    "import numpy as np\n",
    "\n",
    "a = np.array([1, 2, 3])\n",
    "b = a[1:2]\n",
    "b[0] = 4\n",
    "print(a, b)"
   ]
  },
  {
   "cell_type": "code",
   "execution_count": null,
   "id": "16a8fda3",
   "metadata": {},
   "outputs": [],
   "source": []
  }
 ],
 "metadata": {
  "jupytext": {
   "cell_metadata_json": true,
   "encoding": "# -*- coding: utf-8 -*-",
   "formats": "ipynb"
  },
  "kernelspec": {
   "display_name": "Python 3 (ipykernel)",
   "language": "python",
   "name": "python3"
  }
 },
 "nbformat": 4,
 "nbformat_minor": 5
}
