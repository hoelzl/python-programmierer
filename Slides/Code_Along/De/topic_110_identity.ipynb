{
 "cells": [
  {
   "cell_type": "markdown",
   "id": "c54e0293",
   "metadata": {
    "lang": "de",
    "slideshow": {
     "slide_type": "slide"
    }
   },
   "source": [
    "<img src=\"img/python-logo-notext.svg\"\n",
    "     style=\"display:block;margin:auto;width:10%\"/>\n",
    "<br>\n",
    "<div style=\"text-align:center; font-size:200%;\"><b>Identität von Objekten</b></div>\n",
    "<br/>\n",
    "<div style=\"text-align:center;\">Dr. Matthias Hölzl</div>"
   ]
  },
  {
   "cell_type": "markdown",
   "id": "1ade21a2",
   "metadata": {
    "lang": "de",
    "slideshow": {
     "slide_type": "slide"
    }
   },
   "source": [
    "\n",
    " ## Identität von Objekten"
   ]
  },
  {
   "cell_type": "code",
   "execution_count": null,
   "id": "5c382534",
   "metadata": {},
   "outputs": [],
   "source": [
    "a = [1, 2, 3]\n",
    "b = [1, 2, 3]\n",
    "c = b"
   ]
  },
  {
   "cell_type": "code",
   "execution_count": null,
   "id": "28cbbcd5",
   "metadata": {},
   "outputs": [],
   "source": [
    "print(f\"a = {a}, b = {b}, c = {c}\")"
   ]
  },
  {
   "cell_type": "code",
   "execution_count": null,
   "id": "c21daa2f",
   "metadata": {},
   "outputs": [],
   "source": [
    "a[0] = 10"
   ]
  },
  {
   "cell_type": "code",
   "execution_count": null,
   "id": "b9132ea4",
   "metadata": {},
   "outputs": [],
   "source": [
    "print(f\"a = {a}, b = {b}, c = {c}\")"
   ]
  },
  {
   "cell_type": "code",
   "execution_count": null,
   "id": "c35365ed",
   "metadata": {},
   "outputs": [],
   "source": [
    "b[0] = 20"
   ]
  },
  {
   "cell_type": "code",
   "execution_count": null,
   "id": "e48d9958",
   "metadata": {},
   "outputs": [],
   "source": [
    "c[1] = 30"
   ]
  },
  {
   "cell_type": "code",
   "execution_count": null,
   "id": "044f26c5",
   "metadata": {},
   "outputs": [],
   "source": [
    "print(f\"a = {a}, b = {b}, c = {c}\")"
   ]
  },
  {
   "cell_type": "markdown",
   "id": "69342c5a",
   "metadata": {
    "slideshow": {
     "slide_type": "subslide"
    }
   },
   "source": [
    "\n",
    " <img src=\"img/identity.svg\" style=\"display:block;width:70%;margin:auto;\"/>"
   ]
  },
  {
   "cell_type": "markdown",
   "id": "6500d8d1",
   "metadata": {
    "lang": "de",
    "slideshow": {
     "slide_type": "slide"
    }
   },
   "source": [
    "\n",
    " ## Test der Identität von Objekten"
   ]
  },
  {
   "cell_type": "code",
   "execution_count": null,
   "id": "9f2fe1e1",
   "metadata": {},
   "outputs": [],
   "source": [
    "a = [1, 2, 3]\n",
    "b = a\n",
    "c = [1, 2, 3]\n",
    "d = c[:]"
   ]
  },
  {
   "cell_type": "markdown",
   "id": "c3518ba1",
   "metadata": {
    "lang": "de"
   },
   "source": [
    "\n",
    " `==` testet Gleichheit der Werte, nicht (notwendigerweise) Objektidentität."
   ]
  },
  {
   "cell_type": "code",
   "execution_count": null,
   "id": "31b96dcd",
   "metadata": {},
   "outputs": [],
   "source": [
    "a == b"
   ]
  },
  {
   "cell_type": "code",
   "execution_count": null,
   "id": "192f0804",
   "metadata": {},
   "outputs": [],
   "source": [
    "b == c"
   ]
  },
  {
   "cell_type": "code",
   "execution_count": null,
   "id": "6363a9c4",
   "metadata": {},
   "outputs": [],
   "source": [
    "c == d"
   ]
  },
  {
   "cell_type": "markdown",
   "id": "0404c02a",
   "metadata": {
    "lang": "de",
    "slideshow": {
     "slide_type": "subslide"
    }
   },
   "source": [
    "\n",
    " Mit `is` kann man Objektidentität testen:"
   ]
  },
  {
   "cell_type": "code",
   "execution_count": null,
   "id": "803801ba",
   "metadata": {},
   "outputs": [],
   "source": [
    "a = [1, 2, 3]\n",
    "b = a\n",
    "c = [1, 2, 3]\n",
    "d = c[:]\n",
    "e = c.copy()"
   ]
  },
  {
   "cell_type": "code",
   "execution_count": null,
   "id": "e6103910",
   "metadata": {},
   "outputs": [],
   "source": [
    "a is b"
   ]
  },
  {
   "cell_type": "code",
   "execution_count": null,
   "id": "5ea00809",
   "metadata": {},
   "outputs": [],
   "source": [
    "b is c"
   ]
  },
  {
   "cell_type": "code",
   "execution_count": null,
   "id": "2c92c62c",
   "metadata": {},
   "outputs": [],
   "source": [
    "c is d"
   ]
  },
  {
   "cell_type": "code",
   "execution_count": null,
   "id": "22302a78",
   "metadata": {},
   "outputs": [],
   "source": [
    "c is e"
   ]
  },
  {
   "cell_type": "code",
   "execution_count": null,
   "id": "c8120c7e",
   "metadata": {},
   "outputs": [],
   "source": [
    "c[0] = 2"
   ]
  },
  {
   "cell_type": "code",
   "execution_count": null,
   "id": "2ad6f50a",
   "metadata": {},
   "outputs": [],
   "source": [
    "d"
   ]
  },
  {
   "cell_type": "code",
   "execution_count": null,
   "id": "26fdf50d",
   "metadata": {},
   "outputs": [],
   "source": [
    "e"
   ]
  },
  {
   "cell_type": "markdown",
   "id": "e3ecfe89",
   "metadata": {
    "lang": "de",
    "slideshow": {
     "slide_type": "subslide"
    }
   },
   "source": [
    "\n",
    " Die Funktion `id()` gibt die Adresse eines Objekts zurück:"
   ]
  },
  {
   "cell_type": "code",
   "execution_count": null,
   "id": "5ee564a0",
   "metadata": {},
   "outputs": [],
   "source": [
    "id([1, 2, 3])"
   ]
  },
  {
   "cell_type": "markdown",
   "id": "2f42fa06",
   "metadata": {
    "lang": "de"
   },
   "source": [
    "\n",
    " Meistens stellt man Adressen in hexadezimaler Form dar:"
   ]
  },
  {
   "cell_type": "code",
   "execution_count": null,
   "id": "129725d9",
   "metadata": {},
   "outputs": [],
   "source": [
    "hex(id([1, 2, 3]))"
   ]
  },
  {
   "cell_type": "markdown",
   "id": "476196de",
   "metadata": {
    "lang": "de",
    "slideshow": {
     "slide_type": "subslide"
    }
   },
   "source": [
    "*Nur am Rande:* Gilt für Zahlen mit `x == y` immer `x is y`?"
   ]
  },
  {
   "cell_type": "code",
   "execution_count": null,
   "id": "5eb548ff",
   "metadata": {},
   "outputs": [],
   "source": [
    "x = 1\n",
    "y = 1\n",
    "z = 1.0\n",
    "print(x == y)\n",
    "print(x is y)\n",
    "print(x == z)\n",
    "print(x is z)"
   ]
  },
  {
   "cell_type": "code",
   "execution_count": null,
   "id": "1c3a266f",
   "metadata": {},
   "outputs": [],
   "source": [
    "x = 2560\n",
    "y = 2560\n",
    "print(x == y)\n",
    "print(x is y)"
   ]
  },
  {
   "cell_type": "code",
   "execution_count": null,
   "id": "11f92769",
   "metadata": {},
   "outputs": [],
   "source": [
    "import ctypes\n",
    "\n",
    "x_refcount = ctypes.c_long.from_address(id(x)).value\n",
    "x_int_value = ctypes.c_long.from_address(id(x) + 24).value"
   ]
  },
  {
   "cell_type": "code",
   "execution_count": null,
   "id": "a430c2d5",
   "metadata": {},
   "outputs": [],
   "source": [
    "print(hex(id(x)))\n",
    "print(x_refcount)\n",
    "print(x_int_value)"
   ]
  },
  {
   "cell_type": "code",
   "execution_count": null,
   "id": "70a85968",
   "metadata": {},
   "outputs": [],
   "source": [
    "print(hex(id(x)))\n",
    "print(x_refcount)\n",
    "print(x_int_value)"
   ]
  },
  {
   "cell_type": "markdown",
   "id": "7a3181a8",
   "metadata": {
    "lang": "de",
    "slideshow": {
     "slide_type": "slide"
    }
   },
   "source": [
    "## Vorsicht mit veränderlichen Default-Argumenten!"
   ]
  },
  {
   "cell_type": "code",
   "execution_count": null,
   "id": "e2fc213d",
   "metadata": {},
   "outputs": [],
   "source": [
    "def f(lst=[]):\n",
    "    lst.append(1)\n",
    "    return lst"
   ]
  },
  {
   "cell_type": "code",
   "execution_count": null,
   "id": "27a9582a",
   "metadata": {},
   "outputs": [],
   "source": [
    "f([1, 2, 3])"
   ]
  },
  {
   "cell_type": "code",
   "execution_count": null,
   "id": "31a86b4d",
   "metadata": {},
   "outputs": [],
   "source": [
    "f()"
   ]
  },
  {
   "cell_type": "code",
   "execution_count": null,
   "id": "67085a5b",
   "metadata": {},
   "outputs": [],
   "source": [
    "f()"
   ]
  },
  {
   "cell_type": "code",
   "execution_count": null,
   "id": "d2495fee",
   "metadata": {},
   "outputs": [],
   "source": [
    "f()"
   ]
  },
  {
   "cell_type": "code",
   "execution_count": null,
   "id": "31648f73",
   "metadata": {
    "slideshow": {
     "slide_type": "subslide"
    }
   },
   "outputs": [],
   "source": [
    "def f(lst=None):\n",
    "    if lst is None:\n",
    "        lst = []\n",
    "    lst.append(1)\n",
    "    return lst"
   ]
  },
  {
   "cell_type": "code",
   "execution_count": null,
   "id": "4e531367",
   "metadata": {},
   "outputs": [],
   "source": [
    "f()"
   ]
  },
  {
   "cell_type": "code",
   "execution_count": null,
   "id": "33534c5d",
   "metadata": {},
   "outputs": [],
   "source": [
    "f()"
   ]
  },
  {
   "cell_type": "code",
   "execution_count": null,
   "id": "9d62af4c",
   "metadata": {},
   "outputs": [],
   "source": [
    "f()"
   ]
  },
  {
   "cell_type": "code",
   "execution_count": null,
   "id": "f823f526",
   "metadata": {},
   "outputs": [],
   "source": [
    "def f(lst=[]):\n",
    "    return lst"
   ]
  },
  {
   "cell_type": "code",
   "execution_count": null,
   "id": "a3a7acc4",
   "metadata": {},
   "outputs": [],
   "source": [
    "x = f()"
   ]
  },
  {
   "cell_type": "code",
   "execution_count": null,
   "id": "bbfa550b",
   "metadata": {},
   "outputs": [],
   "source": [
    "x.append(2)"
   ]
  },
  {
   "cell_type": "code",
   "execution_count": null,
   "id": "78c73f29",
   "metadata": {},
   "outputs": [],
   "source": [
    "f()"
   ]
  },
  {
   "cell_type": "code",
   "execution_count": null,
   "id": "58ab454c",
   "metadata": {},
   "outputs": [],
   "source": [
    "a = [1, 2, 3]\n",
    "b = a[1:2]\n",
    "b[0] = \"a\"\n",
    "print(a, b)"
   ]
  },
  {
   "cell_type": "code",
   "execution_count": null,
   "id": "de062bab",
   "metadata": {},
   "outputs": [],
   "source": [
    "import numpy as np\n",
    "\n",
    "a = np.array([1, 2, 3])\n",
    "b = a[1:2]\n",
    "b[0] = 4\n",
    "print(a, b)"
   ]
  },
  {
   "cell_type": "code",
   "execution_count": null,
   "id": "6c77e601",
   "metadata": {},
   "outputs": [],
   "source": []
  }
 ],
 "metadata": {
  "jupytext": {
   "cell_metadata_json": true,
   "encoding": "# -*- coding: utf-8 -*-",
   "formats": "ipynb"
  },
  "kernelspec": {
   "display_name": "Python 3 (ipykernel)",
   "language": "python",
   "name": "python3"
  }
 },
 "nbformat": 4,
 "nbformat_minor": 5
}
