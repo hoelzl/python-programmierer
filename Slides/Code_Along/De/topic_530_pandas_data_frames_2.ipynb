{
 "cells": [
  {
   "cell_type": "markdown",
   "id": "35532555",
   "metadata": {
    "lang": "de",
    "slideshow": {
     "slide_type": "slide"
    }
   },
   "source": [
    "<img src=\"img/python-logo-notext.svg\"\n",
    "     style=\"display:block;margin:auto;width:10%\"/>\n",
    "<br>\n",
    "<div style=\"text-align:center; font-size:200%;\"><b>Pandas Data Frames 2</b></div>\n",
    "<br/>\n",
    "<div style=\"text-align:center;\">Dr. Matthias Hölzl</div>"
   ]
  },
  {
   "cell_type": "code",
   "execution_count": null,
   "id": "96559f85",
   "metadata": {},
   "outputs": [],
   "source": [
    "import numpy as np\n",
    "import pandas as pd"
   ]
  },
  {
   "cell_type": "markdown",
   "id": "9c62ea6c",
   "metadata": {
    "lang": "de",
    "lines_to_next_cell": 2
   },
   "source": [
    "## Fehlende Werte"
   ]
  },
  {
   "cell_type": "code",
   "execution_count": null,
   "id": "96429b34",
   "metadata": {},
   "outputs": [],
   "source": [
    "def create_data_frame_with_nans():\n",
    "    return pd.DataFrame(\n",
    "        {\n",
    "            \"A\": [1, 2, np.nan, np.nan, 0],\n",
    "            \"B\": [5, 6, 7, np.nan, 0],\n",
    "            \"C\": [9, 10, 11, 12, 0],\n",
    "            \"D\": [13, 14, 15, 16, 0],\n",
    "            \"E\": [np.nan, 18, 19, 20, 0],\n",
    "        }\n",
    "    )"
   ]
  },
  {
   "cell_type": "code",
   "execution_count": null,
   "id": "5d32fd0a",
   "metadata": {
    "lines_to_next_cell": 2
   },
   "outputs": [],
   "source": [
    "df = create_data_frame_with_nans()"
   ]
  },
  {
   "cell_type": "code",
   "execution_count": null,
   "id": "0c8c67a8",
   "metadata": {
    "lines_to_next_cell": 2
   },
   "outputs": [],
   "source": [
    "df"
   ]
  },
  {
   "cell_type": "code",
   "execution_count": null,
   "id": "03db36db",
   "metadata": {
    "lines_to_next_cell": 2,
    "tags": [
     "code-along"
    ]
   },
   "outputs": [],
   "source": []
  },
  {
   "cell_type": "code",
   "execution_count": null,
   "id": "23fac3ee",
   "metadata": {
    "lines_to_next_cell": 2,
    "tags": [
     "code-along"
    ]
   },
   "outputs": [],
   "source": []
  },
  {
   "cell_type": "code",
   "execution_count": null,
   "id": "7219940f",
   "metadata": {
    "lines_to_next_cell": 2,
    "tags": [
     "code-along"
    ]
   },
   "outputs": [],
   "source": []
  },
  {
   "cell_type": "code",
   "execution_count": null,
   "id": "67f81726",
   "metadata": {
    "lines_to_next_cell": 2,
    "tags": [
     "code-along"
    ]
   },
   "outputs": [],
   "source": []
  },
  {
   "cell_type": "code",
   "execution_count": null,
   "id": "5c87aae5",
   "metadata": {
    "lines_to_next_cell": 2,
    "tags": [
     "code-along"
    ]
   },
   "outputs": [],
   "source": []
  },
  {
   "cell_type": "code",
   "execution_count": null,
   "id": "0824ae7c",
   "metadata": {
    "lines_to_next_cell": 2,
    "tags": [
     "code-along"
    ]
   },
   "outputs": [],
   "source": []
  },
  {
   "cell_type": "code",
   "execution_count": null,
   "id": "91531266",
   "metadata": {
    "lines_to_next_cell": 2,
    "tags": [
     "code-along"
    ]
   },
   "outputs": [],
   "source": []
  },
  {
   "cell_type": "code",
   "execution_count": null,
   "id": "3917c50f",
   "metadata": {
    "lines_to_next_cell": 2,
    "tags": [
     "code-along"
    ]
   },
   "outputs": [],
   "source": []
  },
  {
   "cell_type": "code",
   "execution_count": null,
   "id": "50e79fb1",
   "metadata": {
    "lines_to_next_cell": 2,
    "tags": [
     "code-along"
    ]
   },
   "outputs": [],
   "source": []
  },
  {
   "cell_type": "code",
   "execution_count": null,
   "id": "abc3b63e",
   "metadata": {
    "lines_to_next_cell": 2,
    "tags": [
     "code-along"
    ]
   },
   "outputs": [],
   "source": []
  },
  {
   "cell_type": "code",
   "execution_count": null,
   "id": "d5601630",
   "metadata": {
    "lines_to_next_cell": 2,
    "tags": [
     "code-along"
    ]
   },
   "outputs": [],
   "source": []
  },
  {
   "cell_type": "code",
   "execution_count": null,
   "id": "332e8f3a",
   "metadata": {
    "lines_to_next_cell": 2,
    "tags": [
     "code-along"
    ]
   },
   "outputs": [],
   "source": []
  },
  {
   "cell_type": "code",
   "execution_count": null,
   "id": "69b5aab5",
   "metadata": {
    "lines_to_next_cell": 2,
    "tags": [
     "code-along"
    ]
   },
   "outputs": [],
   "source": []
  },
  {
   "cell_type": "code",
   "execution_count": null,
   "id": "8a83b8e5",
   "metadata": {
    "tags": [
     "code-along"
    ]
   },
   "outputs": [],
   "source": []
  },
  {
   "cell_type": "code",
   "execution_count": null,
   "id": "c615bf20",
   "metadata": {
    "tags": [
     "code-along"
    ]
   },
   "outputs": [],
   "source": []
  },
  {
   "cell_type": "code",
   "execution_count": null,
   "id": "ed1c3dd1",
   "metadata": {
    "tags": [
     "code-along"
    ]
   },
   "outputs": [],
   "source": []
  },
  {
   "cell_type": "markdown",
   "id": "8fe4bb24",
   "metadata": {
    "lang": "de"
   },
   "source": [
    "## Gruppieren"
   ]
  },
  {
   "cell_type": "code",
   "execution_count": null,
   "id": "89125640",
   "metadata": {},
   "outputs": [],
   "source": [
    "def create_course_df():\n",
    "    data = {\n",
    "        \"Course\": [\n",
    "            \"Python\",\n",
    "            \"Python\",\n",
    "            \"Python\",\n",
    "            \"Python\",\n",
    "            \"Java\",\n",
    "            \"Java\",\n",
    "            \"Java\",\n",
    "            \"C++\",\n",
    "            \"C++\",\n",
    "        ],\n",
    "        \"Person\": [\n",
    "            \"Jack\",\n",
    "            \"Jill\",\n",
    "            \"John\",\n",
    "            \"Bill\",\n",
    "            \"Jack\",\n",
    "            \"Bill\",\n",
    "            \"Davy\",\n",
    "            \"Jack\",\n",
    "            \"Diane\",\n",
    "        ],\n",
    "        \"Score\": [97, 92, 38, 73, 81, 52, 62, 86, 98],\n",
    "    }\n",
    "    return pd.DataFrame(data)"
   ]
  },
  {
   "cell_type": "code",
   "execution_count": null,
   "id": "0e6b342d",
   "metadata": {
    "lines_to_next_cell": 2,
    "tags": [
     "code-along"
    ]
   },
   "outputs": [],
   "source": []
  },
  {
   "cell_type": "code",
   "execution_count": null,
   "id": "de9f30a4",
   "metadata": {
    "lines_to_next_cell": 2,
    "tags": [
     "code-along"
    ]
   },
   "outputs": [],
   "source": []
  },
  {
   "cell_type": "code",
   "execution_count": null,
   "id": "71a7c259",
   "metadata": {
    "lines_to_next_cell": 2,
    "tags": [
     "code-along"
    ]
   },
   "outputs": [],
   "source": []
  },
  {
   "cell_type": "code",
   "execution_count": null,
   "id": "dda356e0",
   "metadata": {
    "lines_to_next_cell": 2,
    "tags": [
     "code-along"
    ]
   },
   "outputs": [],
   "source": []
  },
  {
   "cell_type": "code",
   "execution_count": null,
   "id": "890482e3",
   "metadata": {
    "lines_to_next_cell": 2,
    "tags": [
     "code-along"
    ]
   },
   "outputs": [],
   "source": []
  },
  {
   "cell_type": "code",
   "execution_count": null,
   "id": "f9d8e9ce",
   "metadata": {
    "lines_to_next_cell": 2,
    "tags": [
     "code-along"
    ]
   },
   "outputs": [],
   "source": []
  },
  {
   "cell_type": "code",
   "execution_count": null,
   "id": "46aaacb7",
   "metadata": {
    "lines_to_next_cell": 2,
    "tags": [
     "code-along"
    ]
   },
   "outputs": [],
   "source": []
  },
  {
   "cell_type": "code",
   "execution_count": null,
   "id": "3b21f504",
   "metadata": {
    "lines_to_next_cell": 2,
    "tags": [
     "code-along"
    ]
   },
   "outputs": [],
   "source": []
  },
  {
   "cell_type": "code",
   "execution_count": null,
   "id": "5ef386a7",
   "metadata": {
    "lines_to_next_cell": 2,
    "tags": [
     "code-along"
    ]
   },
   "outputs": [],
   "source": []
  },
  {
   "cell_type": "code",
   "execution_count": null,
   "id": "c3080551",
   "metadata": {
    "lines_to_next_cell": 2,
    "tags": [
     "code-along"
    ]
   },
   "outputs": [],
   "source": []
  },
  {
   "cell_type": "code",
   "execution_count": null,
   "id": "050b74e5",
   "metadata": {
    "lines_to_next_cell": 2,
    "tags": [
     "code-along"
    ]
   },
   "outputs": [],
   "source": []
  },
  {
   "cell_type": "code",
   "execution_count": null,
   "id": "567489a4",
   "metadata": {
    "tags": [
     "code-along"
    ]
   },
   "outputs": [],
   "source": []
  },
  {
   "cell_type": "markdown",
   "id": "a99db988",
   "metadata": {
    "lang": "de"
   },
   "source": [
    "## Operationen (Fortsetzung)"
   ]
  },
  {
   "cell_type": "code",
   "execution_count": null,
   "id": "abd207e3",
   "metadata": {
    "lines_to_next_cell": 2,
    "tags": [
     "code-along"
    ]
   },
   "outputs": [],
   "source": []
  },
  {
   "cell_type": "code",
   "execution_count": null,
   "id": "afb4912c",
   "metadata": {
    "lines_to_next_cell": 2,
    "tags": [
     "code-along"
    ]
   },
   "outputs": [],
   "source": []
  },
  {
   "cell_type": "code",
   "execution_count": null,
   "id": "125de024",
   "metadata": {
    "lines_to_next_cell": 2,
    "tags": [
     "code-along"
    ]
   },
   "outputs": [],
   "source": []
  },
  {
   "cell_type": "code",
   "execution_count": null,
   "id": "869c0933",
   "metadata": {
    "lines_to_next_cell": 2,
    "tags": [
     "code-along"
    ]
   },
   "outputs": [],
   "source": []
  },
  {
   "cell_type": "code",
   "execution_count": null,
   "id": "6e61bba6",
   "metadata": {
    "lines_to_next_cell": 2,
    "tags": [
     "code-along"
    ]
   },
   "outputs": [],
   "source": []
  },
  {
   "cell_type": "code",
   "execution_count": null,
   "id": "46bcf180",
   "metadata": {
    "lines_to_next_cell": 2,
    "tags": [
     "code-along"
    ]
   },
   "outputs": [],
   "source": []
  },
  {
   "cell_type": "code",
   "execution_count": null,
   "id": "aa21d52c",
   "metadata": {
    "lines_to_next_cell": 2,
    "tags": [
     "code-along"
    ]
   },
   "outputs": [],
   "source": []
  },
  {
   "cell_type": "code",
   "execution_count": null,
   "id": "2a4e5a49",
   "metadata": {
    "lines_to_next_cell": 2,
    "tags": [
     "code-along"
    ]
   },
   "outputs": [],
   "source": []
  },
  {
   "cell_type": "code",
   "execution_count": null,
   "id": "99fea17b",
   "metadata": {
    "lines_to_next_cell": 2,
    "tags": [
     "code-along"
    ]
   },
   "outputs": [],
   "source": []
  },
  {
   "cell_type": "code",
   "execution_count": null,
   "id": "453a8f14",
   "metadata": {
    "tags": [
     "code-along"
    ]
   },
   "outputs": [],
   "source": []
  },
  {
   "cell_type": "markdown",
   "id": "8ec84b37",
   "metadata": {
    "lang": "de"
   },
   "source": [
    "## Auswahl"
   ]
  },
  {
   "cell_type": "code",
   "execution_count": null,
   "id": "d589fafb",
   "metadata": {
    "lines_to_next_cell": 2,
    "tags": [
     "code-along"
    ]
   },
   "outputs": [],
   "source": []
  },
  {
   "cell_type": "code",
   "execution_count": null,
   "id": "fa3e3d9d",
   "metadata": {
    "tags": [
     "code-along"
    ]
   },
   "outputs": [],
   "source": []
  },
  {
   "cell_type": "markdown",
   "id": "a26092b1",
   "metadata": {
    "lang": "de"
   },
   "source": [
    "\n",
    "## Transformation von Daten"
   ]
  },
  {
   "cell_type": "code",
   "execution_count": null,
   "id": "062a281c",
   "metadata": {
    "lines_to_next_cell": 2,
    "tags": [
     "code-along"
    ]
   },
   "outputs": [],
   "source": []
  },
  {
   "cell_type": "code",
   "execution_count": null,
   "id": "60d47b07",
   "metadata": {
    "lines_to_next_cell": 2,
    "tags": [
     "code-along"
    ]
   },
   "outputs": [],
   "source": []
  },
  {
   "cell_type": "code",
   "execution_count": null,
   "id": "5a5d7fd7",
   "metadata": {
    "lines_to_next_cell": 2,
    "tags": [
     "code-along"
    ]
   },
   "outputs": [],
   "source": []
  },
  {
   "cell_type": "code",
   "execution_count": null,
   "id": "9a98d0cf",
   "metadata": {
    "lines_to_next_cell": 2,
    "tags": [
     "code-along"
    ]
   },
   "outputs": [],
   "source": []
  },
  {
   "cell_type": "code",
   "execution_count": null,
   "id": "8f1e9e51",
   "metadata": {
    "lines_to_next_cell": 2,
    "tags": [
     "code-along"
    ]
   },
   "outputs": [],
   "source": []
  },
  {
   "cell_type": "code",
   "execution_count": null,
   "id": "b6456766",
   "metadata": {
    "lines_to_next_cell": 2,
    "tags": [
     "code-along"
    ]
   },
   "outputs": [],
   "source": []
  },
  {
   "cell_type": "code",
   "execution_count": null,
   "id": "6f646e48",
   "metadata": {
    "tags": [
     "code-along"
    ]
   },
   "outputs": [],
   "source": []
  },
  {
   "cell_type": "markdown",
   "id": "3f0b7796",
   "metadata": {
    "lang": "de"
   },
   "source": [
    "## Elementweise Anwendung von Funktionen:"
   ]
  },
  {
   "cell_type": "code",
   "execution_count": null,
   "id": "8be0758d",
   "metadata": {
    "lines_to_next_cell": 2,
    "tags": [
     "code-along"
    ]
   },
   "outputs": [],
   "source": []
  },
  {
   "cell_type": "code",
   "execution_count": null,
   "id": "fd48582c",
   "metadata": {},
   "outputs": [],
   "source": []
  }
 ],
 "metadata": {
  "jupytext": {
   "cell_metadata_json": true,
   "formats": "ipynb"
  },
  "kernelspec": {
   "display_name": "Python 3 (ipykernel)",
   "language": "python",
   "name": "python3"
  }
 },
 "nbformat": 4,
 "nbformat_minor": 5
}
