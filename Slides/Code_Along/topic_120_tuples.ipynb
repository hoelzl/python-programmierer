{
 "cells": [
  {
   "cell_type": "markdown",
   "id": "6d4bfce6",
   "metadata": {
    "slideshow": {
     "slide_type": "slide"
    }
   },
   "source": [
    "<img src=\"img/python-logo-notext.svg\"\n",
    "     style=\"display:block;margin:auto;width:10%\"/>\n",
    "<h1 style=\"text-align:center;\">Tupel</h1>\n",
    "<br/>\n",
    "<div style=\"text-align:center;\">Dr. Matthias Hölzl</div>"
   ]
  },
  {
   "cell_type": "markdown",
   "id": "b3f9ac07",
   "metadata": {},
   "source": [
    "# Tupel\n",
    "\n",
    "Tupel sind eine Datenstruktur, die sehr ähnlich zu Listen ist.\n",
    "\n",
    "Syntax:\n",
    "\n",
    "- Elemente durch Kommata getrennt: `1, 2, 3, 4`\n",
    "- In vielen Fällen müssen Tupel eingeklammert werden: `(1, 2, 3)`\n"
   ]
  },
  {
   "cell_type": "code",
   "execution_count": null,
   "id": "2075be4a",
   "metadata": {
    "lines_to_next_cell": 2,
    "tags": [
     "code-along"
    ]
   },
   "outputs": [],
   "source": []
  },
  {
   "cell_type": "code",
   "execution_count": null,
   "id": "2e2ea6c0",
   "metadata": {
    "tags": [
     "code-along"
    ]
   },
   "outputs": [],
   "source": []
  },
  {
   "cell_type": "code",
   "execution_count": null,
   "id": "75792f4c",
   "metadata": {
    "lines_to_next_cell": 2,
    "tags": [
     "code-along"
    ]
   },
   "outputs": [],
   "source": []
  },
  {
   "cell_type": "code",
   "execution_count": null,
   "id": "ff279735",
   "metadata": {
    "lines_to_next_cell": 2,
    "tags": [
     "code-along"
    ]
   },
   "outputs": [],
   "source": []
  },
  {
   "cell_type": "code",
   "execution_count": null,
   "id": "4afa9d66",
   "metadata": {
    "lines_to_next_cell": 2,
    "tags": [
     "code-along"
    ]
   },
   "outputs": [],
   "source": []
  },
  {
   "cell_type": "markdown",
   "id": "abc2922d",
   "metadata": {},
   "source": [
    "\n",
    " ## Eigenschaften von Tupeln\n",
    "\n",
    " - Tupel können beliebige Python-Werte speichern\n",
    " - Elemente in einem Tupel haben eine feste Reihenfolge\n",
    " - Auf Elemente eines Tupels kann mit einem Index zugegriffen werden\n",
    " - Tupel können *nicht* modifiziert werden\n",
    "\n",
    " Oft werden Tupel zum Speichern *heterogener* Daten verwendet."
   ]
  },
  {
   "cell_type": "markdown",
   "id": "95d700be",
   "metadata": {},
   "source": [
    "\n",
    " ## Operationen auf Tupeln\n",
    "\n",
    " - Viele der Operationen auf Listen lassen sich auf Tupel anwenden.\n",
    " - Die Operationen, die Listen verändern sind nicht anwendbar."
   ]
  },
  {
   "cell_type": "code",
   "execution_count": null,
   "id": "bb2eaec4",
   "metadata": {
    "lines_to_next_cell": 2,
    "tags": [
     "code-along"
    ]
   },
   "outputs": [],
   "source": []
  },
  {
   "cell_type": "code",
   "execution_count": null,
   "id": "07b9592b",
   "metadata": {
    "lines_to_next_cell": 2,
    "tags": [
     "code-along"
    ]
   },
   "outputs": [],
   "source": []
  },
  {
   "cell_type": "code",
   "execution_count": null,
   "id": "e9248231",
   "metadata": {
    "lines_to_next_cell": 2,
    "tags": [
     "code-along"
    ]
   },
   "outputs": [],
   "source": []
  },
  {
   "cell_type": "code",
   "execution_count": null,
   "id": "c5f715b4",
   "metadata": {
    "lines_to_next_cell": 2,
    "tags": [
     "code-along"
    ]
   },
   "outputs": [],
   "source": []
  },
  {
   "cell_type": "code",
   "execution_count": null,
   "id": "9d6f06fc",
   "metadata": {
    "lines_to_next_cell": 2,
    "tags": [
     "code-along"
    ]
   },
   "outputs": [],
   "source": []
  },
  {
   "cell_type": "code",
   "execution_count": null,
   "id": "922a4267",
   "metadata": {
    "tags": [
     "code-along"
    ]
   },
   "outputs": [],
   "source": []
  }
 ],
 "metadata": {
  "jupytext": {
   "cell_metadata_json": true,
   "encoding": "# -*- coding: utf-8 -*-",
   "formats": "ipynb"
  },
  "kernelspec": {
   "display_name": "Python 3 (ipykernel)",
   "language": "python",
   "name": "python3"
  }
 },
 "nbformat": 4,
 "nbformat_minor": 5
}
