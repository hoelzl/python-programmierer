{
 "cells": [
  {
   "cell_type": "code",
   "execution_count": null,
   "id": "d996a53a",
   "metadata": {
    "lines_to_next_cell": 0
   },
   "outputs": [],
   "source": []
  },
  {
   "cell_type": "markdown",
   "id": "bdb85408",
   "metadata": {
    "lines_to_next_cell": 2,
    "slideshow": {
     "slide_type": "slide"
    }
   },
   "source": [
    "<img src=\"img/python-logo-notext.svg\"\n",
    "     style=\"display:block;margin:auto;width:10%\"/>\n",
    "<h1 style=\"text-align:center;\">Objektorientierung Teil 2: Vererbung</h1>\n",
    "<br/>\n",
    "<div style=\"text-align:center;\">Dr. Matthias Hölzl</div>"
   ]
  },
  {
   "cell_type": "markdown",
   "id": "47b1f034",
   "metadata": {},
   "source": [
    "\n",
    " # Objektorientierung Teil 2\n",
    "\n",
    " - Wir haben im vorherigen Kapitel Klassen kennengelernt, einen der grundlegenden Baustein der objektorientierten Programmierung\n",
    " - In diesem Kapitel werden wir Vererbung betrachten."
   ]
  },
  {
   "cell_type": "markdown",
   "id": "85d8ac61",
   "metadata": {},
   "source": [
    " ## Vererbung"
   ]
  },
  {
   "cell_type": "code",
   "execution_count": null,
   "id": "f224a8c6",
   "metadata": {},
   "outputs": [],
   "source": [
    "import random\n",
    "from typing import Tuple\n",
    "\n",
    "\n",
    "class Point:\n",
    "    def __init__(self, x=0, y=0):\n",
    "        self.x = x\n",
    "        self.y = y\n",
    "\n",
    "    def __repr__(self):\n",
    "        return f\"Point({self.x:.1f}, {self.y:.1f})\"\n",
    "\n",
    "    def move(self, dx=0, dy=0):\n",
    "        self.x += dx\n",
    "        self.y += dy\n",
    "\n",
    "    def randomize(self):\n",
    "        self.x = random.gauss(2, 4)\n",
    "        self.y = random.gauss(3, 2)"
   ]
  },
  {
   "cell_type": "code",
   "execution_count": null,
   "id": "e25fde99",
   "metadata": {},
   "outputs": [],
   "source": [
    "p = Point(0, 0)\n",
    "p"
   ]
  },
  {
   "cell_type": "code",
   "execution_count": null,
   "id": "86698fdf",
   "metadata": {},
   "outputs": [],
   "source": [
    "p.move(2, 3)\n",
    "p"
   ]
  },
  {
   "cell_type": "code",
   "execution_count": null,
   "id": "8a548de5",
   "metadata": {},
   "outputs": [],
   "source": [
    "p.randomize()\n",
    "p"
   ]
  },
  {
   "cell_type": "markdown",
   "id": "9d36846a",
   "metadata": {},
   "source": [
    "Wie können wir farbige Punkte einführen, ohne die komplette Funktionalität von `Point` neu implementieren zu müssen?"
   ]
  },
  {
   "cell_type": "code",
   "execution_count": null,
   "id": "995bf8df",
   "metadata": {
    "tags": [
     "code-along"
    ]
   },
   "outputs": [],
   "source": []
  },
  {
   "cell_type": "code",
   "execution_count": null,
   "id": "f68569a8",
   "metadata": {
    "lines_to_next_cell": 2,
    "tags": [
     "code-along"
    ]
   },
   "outputs": [],
   "source": []
  },
  {
   "cell_type": "code",
   "execution_count": null,
   "id": "a4183c88",
   "metadata": {
    "lines_to_next_cell": 2,
    "tags": [
     "code-along"
    ]
   },
   "outputs": [],
   "source": []
  },
  {
   "cell_type": "code",
   "execution_count": null,
   "id": "38d29439",
   "metadata": {
    "lines_to_next_cell": 2,
    "tags": [
     "code-along"
    ]
   },
   "outputs": [],
   "source": []
  },
  {
   "cell_type": "markdown",
   "id": "4556b615",
   "metadata": {},
   "source": [
    "\n",
    " ## Mini-Workshop\n",
    "\n",
    " - Notebook `020x-Workshop Kontrollstrukturen`\n",
    " - Abschnitt \"Vererbung\"\n"
   ]
  },
  {
   "cell_type": "markdown",
   "id": "ba8da8c6",
   "metadata": {},
   "source": [
    "\n",
    " ## Abstrakte Klassen\n",
    "\n",
    " - Die Klasse `abc.ABC` als Basisklasse\n",
    " - (Eigentlich ist eine Metaklasse verantwortlich)\n",
    " - `@abstractmethod` Dekorator"
   ]
  },
  {
   "cell_type": "code",
   "execution_count": null,
   "id": "53e022b9",
   "metadata": {
    "tags": [
     "code-along"
    ]
   },
   "outputs": [],
   "source": []
  },
  {
   "cell_type": "code",
   "execution_count": null,
   "id": "6ee2f6ea",
   "metadata": {
    "lines_to_next_cell": 2,
    "tags": [
     "code-along"
    ]
   },
   "outputs": [],
   "source": []
  },
  {
   "cell_type": "code",
   "execution_count": null,
   "id": "dbd8e12b",
   "metadata": {
    "lines_to_next_cell": 2,
    "tags": [
     "code-along"
    ]
   },
   "outputs": [],
   "source": []
  },
  {
   "cell_type": "markdown",
   "id": "a2d5fc01",
   "metadata": {
    "lines_to_next_cell": 2
   },
   "source": [
    "\n",
    " # Workshop\n",
    "\n",
    " Siehe `070x-Workshop RPG-Würfel` bis `Factory für RPG-Würfel`."
   ]
  },
  {
   "cell_type": "markdown",
   "id": "08042f1f",
   "metadata": {
    "lines_to_next_cell": 2
   },
   "source": [
    "## Mehrfachvererbung"
   ]
  },
  {
   "cell_type": "code",
   "execution_count": null,
   "id": "2730a8a3",
   "metadata": {},
   "outputs": [],
   "source": [
    "class A:\n",
    "    \"\"\"Superclass of everything\"\"\"\n",
    "\n",
    "    def f(self):\n",
    "        print(f\"f(A) on {self!r}\")\n",
    "\n",
    "    def g(self):\n",
    "        print(f\"g(A) on {self!r}\")"
   ]
  },
  {
   "cell_type": "code",
   "execution_count": null,
   "id": "6cd2796f",
   "metadata": {},
   "outputs": [],
   "source": [
    "class B(A):\n",
    "    def f(self):\n",
    "        print(f\"f(B) on {self!r}\")\n",
    "        super().f()\n",
    "\n",
    "    def g(self):\n",
    "        print(f\"g(B) on {self!r}\")\n",
    "        A.g(self)"
   ]
  },
  {
   "cell_type": "code",
   "execution_count": null,
   "id": "2ddb3da1",
   "metadata": {},
   "outputs": [],
   "source": [
    "class C(A):\n",
    "    def f(self):\n",
    "        print(f\"f(C) on {self!r}\")\n",
    "        super().f()\n",
    "\n",
    "    def g(self):\n",
    "        print(f\"g(C) on {self!r}\")\n",
    "        A.g(self)"
   ]
  },
  {
   "cell_type": "code",
   "execution_count": null,
   "id": "1e84fff8",
   "metadata": {},
   "outputs": [],
   "source": [
    "class D(B, C):\n",
    "    def f(self):\n",
    "        print(f\"f(D) on {self!r}\")\n",
    "        super().f()\n",
    "\n",
    "    def g(self):\n",
    "        print(f\"g(D) on {self!r}\")\n",
    "        B.g(self)\n",
    "        C.g(self)"
   ]
  },
  {
   "cell_type": "code",
   "execution_count": null,
   "id": "c5600601",
   "metadata": {},
   "outputs": [],
   "source": [
    "d = D()\n",
    "d.f()"
   ]
  },
  {
   "cell_type": "code",
   "execution_count": null,
   "id": "4e97ed4b",
   "metadata": {},
   "outputs": [],
   "source": [
    "d.g()"
   ]
  }
 ],
 "metadata": {
  "jupytext": {
   "cell_metadata_json": true,
   "encoding": "# -*- coding: utf-8 -*-",
   "formats": "ipynb"
  },
  "kernelspec": {
   "display_name": "Python 3 (ipykernel)",
   "language": "python",
   "name": "python3"
  }
 },
 "nbformat": 4,
 "nbformat_minor": 5
}
