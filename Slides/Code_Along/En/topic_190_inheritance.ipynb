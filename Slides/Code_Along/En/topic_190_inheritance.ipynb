{
 "cells": [
  {
   "cell_type": "markdown",
   "id": "7cd79660",
   "metadata": {
    "lang": "en",
    "slideshow": {
     "slide_type": "slide"
    }
   },
   "source": [
    "<img src=\"img/python-logo-notext.svg\"\n",
    "     style=\"display:block;margin:auto;width:10%\"/>\n",
    "<br>\n",
    "<div style=\"text-align:center; font-size:200%;\"><b>Object orientation part 1: Inheritance</b></div>\n",
    "<br/>\n",
    "<div style=\"text-align:center;\">Dr. Matthias Hölzl</div>"
   ]
  },
  {
   "cell_type": "markdown",
   "id": "f3af50e7",
   "metadata": {
    "lang": "en",
    "slideshow": {
     "slide_type": "slide"
    }
   },
   "source": [
    "# Object Orientation Part 2\n",
    "\n",
    " - In the previous lesson we got to know classes, one of the basic building blocks of object-oriented programming\n",
    " - In this chapter we will consider inheritance."
   ]
  },
  {
   "cell_type": "markdown",
   "id": "6a159b21",
   "metadata": {
    "lang": "en",
    "slideshow": {
     "slide_type": "subslide"
    }
   },
   "source": [
    "## Inheritance"
   ]
  },
  {
   "cell_type": "code",
   "execution_count": null,
   "id": "ec4e9c32",
   "metadata": {},
   "outputs": [],
   "source": [
    "import random\n",
    "from typing import Tuple\n",
    "\n",
    "\n",
    "class Point:\n",
    "    def __init__(self, x=0, y=0):\n",
    "        self.x = x\n",
    "        self.y = y\n",
    "\n",
    "    def __repr__(self):\n",
    "        return f\"Point({self.x:.1f}, {self.y:.1f})\"\n",
    "\n",
    "    def move(self, dx=0, dy=0):\n",
    "        self.x += dx\n",
    "        self.y += dy\n",
    "\n",
    "    def randomize(self):\n",
    "        self.x = random.gauss(2, 4)\n",
    "        self.y = random.gauss(3, 2)"
   ]
  },
  {
   "cell_type": "code",
   "execution_count": null,
   "id": "7b5e9290",
   "metadata": {},
   "outputs": [],
   "source": [
    "p = Point(0, 0)\n",
    "p"
   ]
  },
  {
   "cell_type": "code",
   "execution_count": null,
   "id": "6f5a56ef",
   "metadata": {},
   "outputs": [],
   "source": [
    "p.move(2, 3)\n",
    "p"
   ]
  },
  {
   "cell_type": "code",
   "execution_count": null,
   "id": "bf3551f5",
   "metadata": {},
   "outputs": [],
   "source": [
    "p.randomize()\n",
    "p"
   ]
  },
  {
   "cell_type": "markdown",
   "id": "65c0c144",
   "metadata": {
    "lang": "en",
    "slideshow": {
     "slide_type": "subslide"
    }
   },
   "source": [
    "How can we introduce colored points without having to re-implement the entire functionality of `Point`?"
   ]
  },
  {
   "cell_type": "code",
   "execution_count": null,
   "id": "0801f01f",
   "metadata": {
    "tags": [
     "code-along"
    ]
   },
   "outputs": [],
   "source": []
  },
  {
   "cell_type": "code",
   "execution_count": null,
   "id": "7000bade",
   "metadata": {
    "lines_to_next_cell": 2,
    "tags": [
     "code-along"
    ]
   },
   "outputs": [],
   "source": []
  },
  {
   "cell_type": "code",
   "execution_count": null,
   "id": "8a92f190",
   "metadata": {
    "lines_to_next_cell": 2,
    "tags": [
     "code-along"
    ]
   },
   "outputs": [],
   "source": []
  },
  {
   "cell_type": "code",
   "execution_count": null,
   "id": "88478964",
   "metadata": {
    "lines_to_next_cell": 2,
    "tags": [
     "code-along"
    ]
   },
   "outputs": [],
   "source": []
  },
  {
   "cell_type": "markdown",
   "id": "26bef4bf",
   "metadata": {
    "lang": "en",
    "slideshow": {
     "slide_type": "subslide"
    }
   },
   "source": [
    "## Mini workshop\n",
    "\n",
    " - Notebook `020x workshop control structures`\n",
    " - Section \"Inheritance\""
   ]
  },
  {
   "cell_type": "markdown",
   "id": "ab34e30d",
   "metadata": {
    "lang": "en",
    "slideshow": {
     "slide_type": "slide"
    }
   },
   "source": [
    "## Abstract classes\n",
    "\n",
    " - The class `abc.ABC` as base class\n",
    " - (actually a metaclass is responsible)\n",
    " - `@abstractmethod` decorator"
   ]
  },
  {
   "cell_type": "code",
   "execution_count": null,
   "id": "dcb47df9",
   "metadata": {
    "tags": [
     "code-along"
    ]
   },
   "outputs": [],
   "source": []
  },
  {
   "cell_type": "code",
   "execution_count": null,
   "id": "10cd867f",
   "metadata": {
    "lines_to_next_cell": 2,
    "tags": [
     "code-along"
    ]
   },
   "outputs": [],
   "source": []
  },
  {
   "cell_type": "code",
   "execution_count": null,
   "id": "b635e204",
   "metadata": {
    "lines_to_next_cell": 2,
    "tags": [
     "code-along"
    ]
   },
   "outputs": [],
   "source": []
  },
  {
   "cell_type": "markdown",
   "id": "43613747",
   "metadata": {
    "lang": "en"
   },
   "source": [
    "# Workshop\n",
    "\n",
    " See `070x-Workshop RPG Cubes` to `Factory for RPG Cubes`."
   ]
  },
  {
   "cell_type": "markdown",
   "id": "3fb5d1a6",
   "metadata": {
    "lang": "en",
    "slideshow": {
     "slide_type": "slide"
    }
   },
   "source": [
    "## Multiple inheritance"
   ]
  },
  {
   "cell_type": "code",
   "execution_count": null,
   "id": "d63888cd",
   "metadata": {},
   "outputs": [],
   "source": [
    "class A:\n",
    "    \"\"\"Superclass of everything\"\"\"\n",
    "\n",
    "    def f(self):\n",
    "        print(f\"f(A) on {self!r}\")\n",
    "\n",
    "    def g(self):\n",
    "        print(f\"g(A) on {self!r}\")"
   ]
  },
  {
   "cell_type": "code",
   "execution_count": null,
   "id": "fce114d2",
   "metadata": {},
   "outputs": [],
   "source": [
    "class B(A):\n",
    "    def f(self):\n",
    "        print(f\"f(B) on {self!r}\")\n",
    "        super().f()\n",
    "\n",
    "    def g(self):\n",
    "        print(f\"g(B) on {self!r}\")\n",
    "        A.g(self)"
   ]
  },
  {
   "cell_type": "code",
   "execution_count": null,
   "id": "d14e3678",
   "metadata": {},
   "outputs": [],
   "source": [
    "class C(A):\n",
    "    def f(self):\n",
    "        print(f\"f(C) on {self!r}\")\n",
    "        super().f()\n",
    "\n",
    "    def g(self):\n",
    "        print(f\"g(C) on {self!r}\")\n",
    "        A.g(self)"
   ]
  },
  {
   "cell_type": "code",
   "execution_count": null,
   "id": "deb7cbba",
   "metadata": {},
   "outputs": [],
   "source": [
    "class D(B, C):\n",
    "    def f(self):\n",
    "        print(f\"f(D) on {self!r}\")\n",
    "        super().f()\n",
    "\n",
    "    def g(self):\n",
    "        print(f\"g(D) on {self!r}\")\n",
    "        B.g(self)\n",
    "        C.g(self)"
   ]
  },
  {
   "cell_type": "code",
   "execution_count": null,
   "id": "9604d998",
   "metadata": {},
   "outputs": [],
   "source": [
    "d = D()\n",
    "d.f()"
   ]
  },
  {
   "cell_type": "code",
   "execution_count": null,
   "id": "2291753c",
   "metadata": {},
   "outputs": [],
   "source": [
    "d.g()"
   ]
  }
 ],
 "metadata": {
  "jupytext": {
   "cell_metadata_json": true,
   "encoding": "# -*- coding: utf-8 -*-",
   "formats": "ipynb"
  },
  "kernelspec": {
   "display_name": "Python 3 (ipykernel)",
   "language": "python",
   "name": "python3"
  }
 },
 "nbformat": 4,
 "nbformat_minor": 5
}
