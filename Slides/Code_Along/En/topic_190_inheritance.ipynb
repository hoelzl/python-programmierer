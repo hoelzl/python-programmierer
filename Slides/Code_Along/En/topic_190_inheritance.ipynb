{
 "cells": [
  {
   "cell_type": "markdown",
   "id": "56db09cc",
   "metadata": {
    "lang": "en",
    "slideshow": {
     "slide_type": "slide"
    }
   },
   "source": [
    "<img src=\"img/python-logo-notext.svg\"\n",
    "     style=\"display:block;margin:auto;width:10%\"/>\n",
    "<br>\n",
    "<div style=\"text-align:center; font-size:200%;\"><b>Object orientation part 2: Inheritance</b></div>\n",
    "<br/>\n",
    "<div style=\"text-align:center;\">Dr. Matthias Hölzl</div>"
   ]
  },
  {
   "cell_type": "markdown",
   "id": "6b0def2c",
   "metadata": {
    "lang": "en",
    "slideshow": {
     "slide_type": "slide"
    }
   },
   "source": [
    "# Object Orientation Part 2\n",
    "\n",
    " - In the previous lesson we got to know classes, one of the basic building blocks of object-oriented programming\n",
    " - In this chapter we will consider inheritance."
   ]
  },
  {
   "cell_type": "markdown",
   "id": "9b29370a",
   "metadata": {
    "lang": "en",
    "slideshow": {
     "slide_type": "subslide"
    }
   },
   "source": [
    "## Inheritance"
   ]
  },
  {
   "cell_type": "code",
   "execution_count": null,
   "id": "ba16f96d",
   "metadata": {},
   "outputs": [],
   "source": [
    "import random\n",
    "from typing import Tuple\n",
    "\n",
    "\n",
    "class Point:\n",
    "    def __init__(self, x=0, y=0):\n",
    "        self.x = x\n",
    "        self.y = y\n",
    "\n",
    "    def __repr__(self):\n",
    "        return f\"Point({self.x:.1f}, {self.y:.1f})\"\n",
    "\n",
    "    def move(self, dx=0, dy=0):\n",
    "        self.x += dx\n",
    "        self.y += dy\n",
    "\n",
    "    def randomize(self):\n",
    "        self.x = random.gauss(2, 4)\n",
    "        self.y = random.gauss(3, 2)"
   ]
  },
  {
   "cell_type": "code",
   "execution_count": null,
   "id": "d3d47380",
   "metadata": {},
   "outputs": [],
   "source": [
    "p = Point(0, 0)\n",
    "p"
   ]
  },
  {
   "cell_type": "code",
   "execution_count": null,
   "id": "dfcd88a3",
   "metadata": {},
   "outputs": [],
   "source": [
    "assert p.x == 0.0\n",
    "assert p.y == 0.0"
   ]
  },
  {
   "cell_type": "code",
   "execution_count": null,
   "id": "07559730",
   "metadata": {},
   "outputs": [],
   "source": [
    "p.move(2, 3)\n",
    "p"
   ]
  },
  {
   "cell_type": "code",
   "execution_count": null,
   "id": "2d53b430",
   "metadata": {},
   "outputs": [],
   "source": [
    "assert p.x == 2.0\n",
    "assert p.y == 3.0"
   ]
  },
  {
   "cell_type": "code",
   "execution_count": null,
   "id": "13627829",
   "metadata": {},
   "outputs": [],
   "source": [
    "p.randomize()\n",
    "p"
   ]
  },
  {
   "cell_type": "markdown",
   "id": "6f8ee038",
   "metadata": {
    "lang": "en",
    "slideshow": {
     "slide_type": "subslide"
    }
   },
   "source": [
    "How can we introduce colored points without having to re-implement the entire functionality of `Point`?"
   ]
  },
  {
   "cell_type": "code",
   "execution_count": null,
   "id": "b4b1d940",
   "metadata": {
    "tags": [
     "code-along"
    ]
   },
   "outputs": [],
   "source": []
  },
  {
   "cell_type": "code",
   "execution_count": null,
   "id": "ac851ed6",
   "metadata": {
    "lines_to_next_cell": 2,
    "tags": [
     "code-along"
    ]
   },
   "outputs": [],
   "source": []
  },
  {
   "cell_type": "code",
   "execution_count": null,
   "id": "89f8b81c",
   "metadata": {
    "tags": [
     "code-along"
    ]
   },
   "outputs": [],
   "source": []
  },
  {
   "cell_type": "code",
   "execution_count": null,
   "id": "25806c25",
   "metadata": {
    "lines_to_next_cell": 2,
    "tags": [
     "code-along"
    ]
   },
   "outputs": [],
   "source": []
  },
  {
   "cell_type": "code",
   "execution_count": null,
   "id": "c98c5f54",
   "metadata": {
    "tags": [
     "code-along"
    ]
   },
   "outputs": [],
   "source": []
  },
  {
   "cell_type": "code",
   "execution_count": null,
   "id": "0e6b222f",
   "metadata": {
    "lines_to_next_cell": 2,
    "tags": [
     "code-along"
    ]
   },
   "outputs": [],
   "source": []
  },
  {
   "cell_type": "markdown",
   "id": "09cbbd74",
   "metadata": {
    "lang": "en",
    "slideshow": {
     "slide_type": "subslide"
    }
   },
   "source": [
    "## Mini workshop\n",
    "\n",
    " - Notebook `workshop_190_inheritance`\n",
    " - Section \"Inheritance\""
   ]
  },
  {
   "cell_type": "markdown",
   "id": "b7c002a0",
   "metadata": {
    "lang": "en",
    "slideshow": {
     "slide_type": "slide"
    }
   },
   "source": [
    "## Abstract classes\n",
    "\n",
    "- Classes that cannot have direct instances\n",
    "- Have `abc.ABC` as base class\n",
    "    - (a metaclass is actually responsible for their behavior)\n",
    "- Allow use of the `@abstractmethod` decorator to define abstract methods\n",
    "    - Often the body of an abstract method is written as `...`\n",
    "- Abstract classes that have only abstract methods are called Interfaces\n",
    "    - Interfaces describe requirements placed on subclasses"
   ]
  },
  {
   "cell_type": "code",
   "execution_count": null,
   "id": "5e766db9",
   "metadata": {
    "tags": [
     "code-along"
    ]
   },
   "outputs": [],
   "source": []
  },
  {
   "cell_type": "code",
   "execution_count": null,
   "id": "c24fef26",
   "metadata": {
    "slideshow": {
     "slide_type": "subslide"
    },
    "tags": [
     "code-along"
    ]
   },
   "outputs": [],
   "source": []
  },
  {
   "cell_type": "code",
   "execution_count": null,
   "id": "73aec514",
   "metadata": {
    "tags": [
     "code-along"
    ]
   },
   "outputs": [],
   "source": []
  },
  {
   "cell_type": "code",
   "execution_count": null,
   "id": "09971c4f",
   "metadata": {
    "tags": [
     "code-along"
    ]
   },
   "outputs": [],
   "source": []
  },
  {
   "cell_type": "markdown",
   "id": "89b9e9cd",
   "metadata": {
    "lang": "en",
    "slideshow": {
     "slide_type": "subslide"
    }
   },
   "source": [
    "- Abstract methods can provide an implementation\n",
    "- Classes that inherit from an abstract class but do not override all abstract methods are themselves abstract."
   ]
  },
  {
   "cell_type": "code",
   "execution_count": null,
   "id": "a1c8a00a",
   "metadata": {
    "tags": [
     "code-along"
    ]
   },
   "outputs": [],
   "source": []
  },
  {
   "cell_type": "code",
   "execution_count": null,
   "id": "7cbf2c8f",
   "metadata": {
    "lines_to_next_cell": 2,
    "tags": [
     "code-along"
    ]
   },
   "outputs": [],
   "source": []
  },
  {
   "cell_type": "code",
   "execution_count": null,
   "id": "76aa47d3",
   "metadata": {
    "lines_to_next_cell": 2,
    "tags": [
     "code-along"
    ]
   },
   "outputs": [],
   "source": []
  },
  {
   "cell_type": "code",
   "execution_count": null,
   "id": "3d39f238",
   "metadata": {
    "tags": [
     "code-along"
    ]
   },
   "outputs": [],
   "source": []
  },
  {
   "cell_type": "code",
   "execution_count": null,
   "id": "e68733d0",
   "metadata": {
    "lines_to_next_cell": 2,
    "tags": [
     "code-along"
    ]
   },
   "outputs": [],
   "source": []
  },
  {
   "cell_type": "markdown",
   "id": "8d04f024",
   "metadata": {
    "lang": "en"
   },
   "source": [
    "# Workshop\n",
    "\n",
    "See `workshop_950_rpg_dice` to `Factory for RPG Cubes`."
   ]
  },
  {
   "cell_type": "markdown",
   "id": "7061acf2",
   "metadata": {
    "lang": "en"
   },
   "source": [
    "## RPG dice\n",
    "\n",
    "In roleplaying games, conflicts between players are often decided by rolling\n",
    "dice, often multiple dice at the same time. Furthermore games often use\n",
    "not only the well known 6-sided dice, but also 4-sided, 8-sided, 20-sided dice, etc.\n",
    "\n",
    "The number and type of dice is described by the following notation:\n",
    "\n",
    "```text\n",
    "<number of dice> d <number of sides per die>\n",
    "```\n",
    "\n",
    "For example, rolling two 6-sided dice is described as `2d6`.\n",
    "Sometimes more complex formulas are used: `3d20 + 2d6 - 4`\n",
    "means that three 20-sided dice and two 6-sided dice are rolled\n",
    "at the same time, and the total sum of numbers is then reduced by 4.\n",
    "\n",
    "In some games, rolling the lowest or highest number of dice is treated\n",
    "in a special way (\"catastrophic failure\", \"critical success\").\n",
    "\n",
    "In the following exercise your task is to implement RPG dice in Python.\n",
    "To simplify testing your implementation it might be advisable\n",
    "to implement it in an IDE, but it is also possible to write tests as\n",
    "assertions in a jupyter notebook. \n",
    "\n",
    "Write tests for each functionality you implement. How can you deal with the\n",
    "randomness in dice rolling? What are the strengths and weaknesses of the strategy\n",
    "you have chosen to test?"
   ]
  },
  {
   "cell_type": "markdown",
   "id": "c6b4adb2",
   "metadata": {
    "lang": "en",
    "slideshow": {
     "slide_type": "slide"
    }
   },
   "source": [
    "## Multiple inheritance"
   ]
  },
  {
   "cell_type": "code",
   "execution_count": null,
   "id": "8998c3c8",
   "metadata": {},
   "outputs": [],
   "source": [
    "class A:\n",
    "    \"\"\"Superclass of everything\"\"\"\n",
    "\n",
    "    def f(self):\n",
    "        print(f\"f(A) on {self!r}\")\n",
    "\n",
    "    def g(self):\n",
    "        print(f\"g(A) on {self!r}\")"
   ]
  },
  {
   "cell_type": "code",
   "execution_count": null,
   "id": "f867581c",
   "metadata": {},
   "outputs": [],
   "source": [
    "class B(A):\n",
    "    def f(self):\n",
    "        print(f\"f(B) on {self!r}\")\n",
    "        super().f()\n",
    "\n",
    "    def g(self):\n",
    "        print(f\"g(B) on {self!r}\")\n",
    "        A.g(self)"
   ]
  },
  {
   "cell_type": "code",
   "execution_count": null,
   "id": "22c0df07",
   "metadata": {},
   "outputs": [],
   "source": [
    "class C(A):\n",
    "    def f(self):\n",
    "        print(f\"f(C) on {self!r}\")\n",
    "        super().f()\n",
    "\n",
    "    def g(self):\n",
    "        print(f\"g(C) on {self!r}\")\n",
    "        A.g(self)"
   ]
  },
  {
   "cell_type": "code",
   "execution_count": null,
   "id": "30194f31",
   "metadata": {},
   "outputs": [],
   "source": [
    "class D(B, C):\n",
    "    def f(self):\n",
    "        print(f\"f(D) on {self!r}\")\n",
    "        super().f()\n",
    "\n",
    "    def g(self):\n",
    "        print(f\"g(D) on {self!r}\")\n",
    "        B.g(self)\n",
    "        C.g(self)"
   ]
  },
  {
   "cell_type": "code",
   "execution_count": null,
   "id": "0c3dec74",
   "metadata": {},
   "outputs": [],
   "source": [
    "d = D()\n",
    "d.f()"
   ]
  },
  {
   "cell_type": "code",
   "execution_count": null,
   "id": "6e4b2d36",
   "metadata": {},
   "outputs": [],
   "source": [
    "d.g()"
   ]
  },
  {
   "cell_type": "code",
   "execution_count": null,
   "id": "45803588",
   "metadata": {},
   "outputs": [],
   "source": [
    "type(d).mro()"
   ]
  },
  {
   "cell_type": "code",
   "execution_count": null,
   "id": "31a539a0",
   "metadata": {},
   "outputs": [],
   "source": []
  }
 ],
 "metadata": {
  "jupytext": {
   "cell_metadata_json": true,
   "encoding": "# -*- coding: utf-8 -*-",
   "formats": "ipynb"
  },
  "kernelspec": {
   "display_name": "Python 3 (ipykernel)",
   "language": "python",
   "name": "python3"
  }
 },
 "nbformat": 4,
 "nbformat_minor": 5
}
