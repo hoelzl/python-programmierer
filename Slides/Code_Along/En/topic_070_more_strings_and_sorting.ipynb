{
 "cells": [
  {
   "cell_type": "markdown",
   "id": "26754284",
   "metadata": {
    "lang": "en",
    "slideshow": {
     "slide_type": "slide"
    }
   },
   "source": [
    "<img src=\"img/python-logo-notext.svg\"\n",
    "     style=\"display:block;margin:auto;width:10%\"/>\n",
    "<br>\n",
    "<div style=\"text-align:center; font-size:200%;\"><b>More Strings</b></div>\n",
    "<br/>\n",
    "<div style=\"text-align:center;\">Dr. Matthias Hölzl</div>"
   ]
  },
  {
   "cell_type": "markdown",
   "id": "0649244d",
   "metadata": {
    "lang": "en",
    "slideshow": {
     "slide_type": "slide"
    }
   },
   "source": [
    "# Comparison of strings"
   ]
  },
  {
   "cell_type": "code",
   "execution_count": null,
   "id": "5530c708",
   "metadata": {},
   "outputs": [],
   "source": [
    "\"a\" == \"a\""
   ]
  },
  {
   "cell_type": "code",
   "execution_count": null,
   "id": "0816f2fb",
   "metadata": {},
   "outputs": [],
   "source": [
    "\"A\" == \"a\""
   ]
  },
  {
   "cell_type": "code",
   "execution_count": null,
   "id": "3a157639",
   "metadata": {
    "slideshow": {
     "slide_type": "subslide"
    }
   },
   "outputs": [],
   "source": [
    "\"A\" < \"B\""
   ]
  },
  {
   "cell_type": "code",
   "execution_count": null,
   "id": "9ed8052f",
   "metadata": {},
   "outputs": [],
   "source": [
    "\"A\" < \"a\""
   ]
  },
  {
   "cell_type": "code",
   "execution_count": null,
   "id": "f4fa2a06",
   "metadata": {},
   "outputs": [],
   "source": [
    "\"a\" < \"A\""
   ]
  },
  {
   "cell_type": "markdown",
   "id": "8af8ed41",
   "metadata": {
    "lang": "en",
    "slideshow": {
     "slide_type": "subslide"
    }
   },
   "source": [
    "Strings are ordered as in the dictionary (lexicographically)."
   ]
  },
  {
   "cell_type": "code",
   "execution_count": null,
   "id": "5468215e",
   "metadata": {},
   "outputs": [],
   "source": [
    "\"ab\" < \"abc\""
   ]
  },
  {
   "cell_type": "code",
   "execution_count": null,
   "id": "4ba759b3",
   "metadata": {},
   "outputs": [],
   "source": [
    "\"ab\" < \"ac\""
   ]
  },
  {
   "cell_type": "code",
   "execution_count": null,
   "id": "09aec42d",
   "metadata": {},
   "outputs": [],
   "source": [
    "\"ab\" != \"ac\""
   ]
  },
  {
   "cell_type": "markdown",
   "id": "dbf40b98",
   "metadata": {
    "lang": "en",
    "slideshow": {
     "slide_type": "subslide"
    }
   },
   "source": [
    "## Inset: sorting lists/iterables\n",
    "\n",
    "Iterables can be sorted with the `sorted()` function. With the\n",
    "named argument `key`, a function can be specified that determines\n",
    "how the sorting is done:"
   ]
  },
  {
   "cell_type": "code",
   "execution_count": null,
   "id": "92668894",
   "metadata": {},
   "outputs": [],
   "source": [
    "numbers = [3, 8, -7, 1, 0, 2, -3, 3]"
   ]
  },
  {
   "cell_type": "code",
   "execution_count": null,
   "id": "ee2dd551",
   "metadata": {
    "tags": [
     "code-along"
    ]
   },
   "outputs": [],
   "source": []
  },
  {
   "cell_type": "code",
   "execution_count": null,
   "id": "15e440ce",
   "metadata": {
    "tags": [
     "code-along"
    ]
   },
   "outputs": [],
   "source": []
  },
  {
   "cell_type": "code",
   "execution_count": null,
   "id": "41ad8763",
   "metadata": {
    "slideshow": {
     "slide_type": "subslide"
    }
   },
   "outputs": [],
   "source": [
    "strings = [\"a\", \"ABC\", \"xy\", \"Asdfgh\", \"foo\", \"bar\", \"quux\"]"
   ]
  },
  {
   "cell_type": "code",
   "execution_count": null,
   "id": "c099b59f",
   "metadata": {
    "tags": [
     "code-along"
    ]
   },
   "outputs": [],
   "source": []
  },
  {
   "cell_type": "code",
   "execution_count": null,
   "id": "fc4e9fda",
   "metadata": {
    "tags": [
     "code-along"
    ]
   },
   "outputs": [],
   "source": []
  },
  {
   "cell_type": "code",
   "execution_count": null,
   "id": "bdf9917d",
   "metadata": {
    "tags": [
     "code-along"
    ]
   },
   "outputs": [],
   "source": []
  },
  {
   "cell_type": "code",
   "execution_count": null,
   "id": "2fb53075",
   "metadata": {
    "tags": [
     "code-along"
    ]
   },
   "outputs": [],
   "source": []
  },
  {
   "cell_type": "markdown",
   "id": "5b968b17",
   "metadata": {
    "lang": "en",
    "slideshow": {
     "slide_type": "slide"
    }
   },
   "source": [
    "## Comparison of Unicode strings\n",
    "\n",
    "The built-in comparison functions work only for simple (ASCII) strings. For strings containing Unicode characters, sorting/comparison is more difficult.\n",
    "\n",
    "The default module for dealing with Unicode in Python is `locale`; it relies on the locale settings of the\n",
    "operating system:"
   ]
  },
  {
   "cell_type": "code",
   "execution_count": null,
   "id": "69ed70c5",
   "metadata": {
    "tags": [
     "code-along"
    ]
   },
   "outputs": [],
   "source": []
  },
  {
   "cell_type": "code",
   "execution_count": null,
   "id": "04638db2",
   "metadata": {},
   "outputs": [],
   "source": [
    "my_strings = [\"o\", \"oa\", \"oe\", \"ö\", \"oz\", \"sa\", \"s\", \"ß\", \"ss\", \"sz\"]"
   ]
  },
  {
   "cell_type": "code",
   "execution_count": null,
   "id": "483220f5",
   "metadata": {
    "tags": [
     "code-along"
    ]
   },
   "outputs": [],
   "source": []
  },
  {
   "cell_type": "code",
   "execution_count": null,
   "id": "1374103b",
   "metadata": {
    "tags": [
     "code-along"
    ]
   },
   "outputs": [],
   "source": []
  },
  {
   "cell_type": "code",
   "execution_count": null,
   "id": "8448af07",
   "metadata": {
    "incorrectly_encoded_metadata": "{\"slideshow\": {\"slide_type\": \"subslide\"}} tags=[\"code-along\"]"
   },
   "outputs": [],
   "source": [
    "locale.setlocale(locale.LC_COLLATE, \"de_DE.UTF-8\")"
   ]
  },
  {
   "cell_type": "code",
   "execution_count": null,
   "id": "475bafd7",
   "metadata": {
    "tags": [
     "code-along"
    ]
   },
   "outputs": [],
   "source": []
  },
  {
   "cell_type": "code",
   "execution_count": null,
   "id": "25438914",
   "metadata": {
    "tags": [
     "code-along"
    ]
   },
   "outputs": [],
   "source": []
  },
  {
   "cell_type": "code",
   "execution_count": null,
   "id": "625f0200",
   "metadata": {
    "tags": [
     "code-along"
    ]
   },
   "outputs": [],
   "source": []
  },
  {
   "cell_type": "markdown",
   "id": "e875cf78",
   "metadata": {
    "lang": "en",
    "slideshow": {
     "slide_type": "subslide"
    }
   },
   "source": [
    "The locale settings are global per process and therefore mainly suitable\n",
    "to interact with the user.\n",
    "\n",
    "If you have to deal with strings in different languages,\n",
    "using libraries like `PyUCA` (written in Python and therefore\n",
    "easier to install) or `PyICU` (more complete implementation of the\n",
    "Unicode specification based on a C++ library) might be a good idea."
   ]
  },
  {
   "cell_type": "markdown",
   "id": "a1cd9e75",
   "metadata": {
    "lang": "en",
    "slideshow": {
     "slide_type": "subslide"
    }
   },
   "source": [
    "## Converting a string to uppercase/lowercase"
   ]
  },
  {
   "cell_type": "code",
   "execution_count": null,
   "id": "b9a34b54",
   "metadata": {
    "tags": [
     "code-along"
    ]
   },
   "outputs": [],
   "source": []
  },
  {
   "cell_type": "code",
   "execution_count": null,
   "id": "63af2f24",
   "metadata": {
    "tags": [
     "code-along"
    ]
   },
   "outputs": [],
   "source": []
  },
  {
   "cell_type": "markdown",
   "id": "7a589e40",
   "metadata": {
    "lang": "en",
    "slideshow": {
     "slide_type": "subslide"
    }
   },
   "source": [
    "The `lower()` method does not always perform the desired conversions.\n",
    "The `casefold` method is sometimes useful for this:"
   ]
  },
  {
   "cell_type": "code",
   "execution_count": null,
   "id": "e4ffde03",
   "metadata": {
    "tags": [
     "code-along"
    ]
   },
   "outputs": [],
   "source": []
  },
  {
   "cell_type": "code",
   "execution_count": null,
   "id": "ebbb548d",
   "metadata": {
    "tags": [
     "code-along"
    ]
   },
   "outputs": [],
   "source": []
  },
  {
   "cell_type": "code",
   "execution_count": null,
   "id": "6a2c54d8",
   "metadata": {
    "tags": [
     "code-along"
    ]
   },
   "outputs": [],
   "source": []
  },
  {
   "cell_type": "markdown",
   "id": "0ef7441b",
   "metadata": {
    "lang": "en",
    "slideshow": {
     "slide_type": "subslide"
    }
   },
   "source": [
    "## Mini workshop\n",
    "\n",
    "- Notebook `workshop_070_more_strings_and_sorting`\n",
    "- \"Shout\" section"
   ]
  },
  {
   "cell_type": "markdown",
   "id": "41b613c7",
   "metadata": {
    "lang": "en",
    "slideshow": {
     "slide_type": "slide"
    }
   },
   "source": [
    "# String literals (again)\n",
    "\n",
    "- String literals are enclosed in single or double quotes\n",
    "    - `\"Hello, world!\"`\n",
    "    - `'Hello world!'`\n",
    "    - It doesn't matter which form you choose, unless you want to\n",
    "      have double quotes in the string\n",
    "    - `\"He says 'Huh?'\"`\n",
    "    - `'She replies: \"Exactly.\"'`"
   ]
  },
  {
   "cell_type": "markdown",
   "id": "aa63bd53",
   "metadata": {
    "lang": "en",
    "slideshow": {
     "slide_type": "subslide"
    }
   },
   "source": [
    "- String literals, can contain Unicode characters:\n",
    "    - `\"おはようございます\"`\n",
    "    - `\"😠🙃🙄\"`"
   ]
  },
  {
   "cell_type": "code",
   "execution_count": null,
   "id": "57f8e4ee",
   "metadata": {},
   "outputs": [],
   "source": [
    "print(\"Er sagt 'Huh?'\")\n",
    "print('Sie antwortet: \"Genau.\"')\n",
    "print(\"おはようございます\")\n",
    "print(\"😠🙃🙄\")"
   ]
  },
  {
   "cell_type": "markdown",
   "id": "66a204d9",
   "metadata": {
    "lang": "en",
    "slideshow": {
     "slide_type": "subslide"
    }
   },
   "source": [
    "- Special characters can be specified with *escape notation*:\n",
    "    - `\n",
    "`, `\\t`, `\\`, `\"`, `\\'`, ...\n",
    "    - `\\u`, `\\U` for Unicode code points (16 or 32 bit)\n",
    "    - `\\N{...}` for Unicode"
   ]
  },
  {
   "cell_type": "code",
   "execution_count": null,
   "id": "da6e9188",
   "metadata": {},
   "outputs": [],
   "source": [
    "print(\"a\\tbc\\td\\n123\\t4\\t5\")"
   ]
  },
  {
   "cell_type": "code",
   "execution_count": null,
   "id": "e3962248",
   "metadata": {},
   "outputs": [],
   "source": [
    "print('\"Let\\'s go crazy\", she said')"
   ]
  },
  {
   "cell_type": "code",
   "execution_count": null,
   "id": "48078299",
   "metadata": {},
   "outputs": [],
   "source": [
    "print(\"C:\\\\Users\\\\John\")"
   ]
  },
  {
   "cell_type": "code",
   "execution_count": null,
   "id": "7c655559",
   "metadata": {
    "slideshow": {
     "slide_type": "subslide"
    }
   },
   "outputs": [],
   "source": [
    "print(\"\\u0394 \\u03b1 \\t\\U000003b2 \\U000003b3\")\n",
    "print(\"\\U0001F62E \\U0001f61a \\U0001f630\")"
   ]
  },
  {
   "cell_type": "code",
   "execution_count": null,
   "id": "a672ce4c",
   "metadata": {},
   "outputs": [],
   "source": [
    "print(\"\\N{GREEK CAPITAL LETTER DELTA} \\N{GREEK SMALL LETTER ALPHA}\")\n",
    "print(\"\\N{smiling face with open mouth and smiling eyes} \\N{winking face}\")"
   ]
  },
  {
   "cell_type": "markdown",
   "id": "18984dea",
   "metadata": {
    "lang": "en",
    "slideshow": {
     "slide_type": "subslide"
    }
   },
   "source": [
    "- String literals can also be enclosed in triple quotes\n",
    "- This type of literal can span multiple lines"
   ]
  },
  {
   "cell_type": "code",
   "execution_count": null,
   "id": "7c5162f4",
   "metadata": {},
   "outputs": [],
   "source": [
    "\"\"\"Das ist\n",
    "ein String-Literal,\n",
    "das über mehrere\n",
    "Zeilen geht.\"\"\""
   ]
  },
  {
   "cell_type": "code",
   "execution_count": null,
   "id": "91db1a22",
   "metadata": {},
   "outputs": [],
   "source": [
    "print(\n",
    "    \"\"\"Mit Backslash am Ende der Zeile \\\n",
    "kann der Zeilenvorschub unterdrückt werden.\"\"\"\n",
    ")"
   ]
  },
  {
   "cell_type": "markdown",
   "id": "1b89af2b",
   "metadata": {
    "lang": "en",
    "slideshow": {
     "slide_type": "slide"
    }
   },
   "source": [
    "## Concatenation of strings\n",
    "\n",
    "Strings can be concatenated with `+`:"
   ]
  },
  {
   "cell_type": "code",
   "execution_count": null,
   "id": "04b4e0e1",
   "metadata": {},
   "outputs": [],
   "source": [
    "\"Ein\" + \" \" + \"String\""
   ]
  },
  {
   "cell_type": "markdown",
   "id": "3fa798df",
   "metadata": {
    "lang": "en",
    "slideshow": {
     "slide_type": "subslide"
    }
   },
   "source": [
    "The `join()` method can be used to join multiple strings with a delimiter:"
   ]
  },
  {
   "cell_type": "code",
   "execution_count": null,
   "id": "d1604957",
   "metadata": {},
   "outputs": [],
   "source": [
    "\" \".join([\"das\", \"sind\", \"mehrere\", \"strings\"])"
   ]
  },
  {
   "cell_type": "code",
   "execution_count": null,
   "id": "ff4b0b93",
   "metadata": {},
   "outputs": [],
   "source": [
    "\", \".join([\"Pferd\", \"Katze\", \"Hund\"])"
   ]
  },
  {
   "cell_type": "code",
   "execution_count": null,
   "id": "9353ad44",
   "metadata": {},
   "outputs": [],
   "source": [
    "\"\".join([\"ab\", \"cde\", \"f\"])"
   ]
  },
  {
   "cell_type": "markdown",
   "id": "bd38d5da",
   "metadata": {
    "lang": "en",
    "slideshow": {
     "slide_type": "subslide"
    }
   },
   "source": [
    "## Mini workshop\n",
    "\n",
    "- Notebook `workshop_070_more_strings_and_sorting`\n",
    "- Section \"Welcome 1\""
   ]
  },
  {
   "cell_type": "markdown",
   "id": "beea39a5",
   "metadata": {
    "lang": "en",
    "slideshow": {
     "slide_type": "subslide"
    }
   },
   "source": [
    "## String comparison (again)\n",
    "\n",
    "To compare strings with Unicode characters, it is convenient to use them in\n",
    "bring Unicode normal form."
   ]
  },
  {
   "cell_type": "code",
   "execution_count": null,
   "id": "4050c876",
   "metadata": {},
   "outputs": [],
   "source": [
    "s1 = \"café\"\n",
    "s2 = \"cafe\\u0301\""
   ]
  },
  {
   "cell_type": "code",
   "execution_count": null,
   "id": "0ca3c1a3",
   "metadata": {
    "tags": [
     "code-along"
    ]
   },
   "outputs": [],
   "source": []
  },
  {
   "cell_type": "code",
   "execution_count": null,
   "id": "3d7a0821",
   "metadata": {
    "incorrectly_encoded_metadata": "{\"slideshow\": {\"slide_type\": \"subslide\"}} tags=[\"code-along\"]"
   },
   "outputs": [],
   "source": [
    "import unicodedata\n",
    "\n",
    "unicodedata.normalize(\"NFC\", s1) == s1"
   ]
  },
  {
   "cell_type": "code",
   "execution_count": null,
   "id": "b14aaeb2",
   "metadata": {
    "tags": [
     "code-along"
    ]
   },
   "outputs": [],
   "source": []
  },
  {
   "cell_type": "code",
   "execution_count": null,
   "id": "b2fbf7e0",
   "metadata": {
    "lines_to_next_cell": 2,
    "tags": [
     "code-along"
    ]
   },
   "outputs": [],
   "source": []
  },
  {
   "cell_type": "markdown",
   "id": "a65b9bda",
   "metadata": {
    "lang": "en",
    "slideshow": {
     "slide_type": "slide"
    }
   },
   "source": [
    "# String interpolation: F strings\n",
    "\n",
    "Python offers the possibility to insert values ​​of variables into strings:"
   ]
  },
  {
   "cell_type": "code",
   "execution_count": null,
   "id": "adb1e588",
   "metadata": {
    "tags": [
     "code-along"
    ]
   },
   "outputs": [],
   "source": []
  },
  {
   "cell_type": "code",
   "execution_count": null,
   "id": "6ff9ccbd",
   "metadata": {
    "slideshow": {
     "slide_type": "subslide"
    }
   },
   "outputs": [],
   "source": [
    "spieler_name = \"Hans\"\n",
    "anzahl_spiele = 10\n",
    "anzahl_gewinne = 2\n",
    "\n",
    "ausgabe = f\"Hallo {spieler_name}!\\nSie haben {anzahl_spiele}-mal gespielt und dabei {anzahl_gewinne}-mal gewonnen.\"\n",
    "print(ausgabe)"
   ]
  },
  {
   "cell_type": "code",
   "execution_count": null,
   "id": "19764a9d",
   "metadata": {
    "slideshow": {
     "slide_type": "subslide"
    }
   },
   "outputs": [],
   "source": [
    "ausgabe = f\"\"\"\\\n",
    "Hallo {spieler_name}!\n",
    "Sie haben {anzahl_spiele}-mal gespielt \\\n",
    "und dabei {anzahl_gewinne}-mal gewonnen.\\\n",
    "\"\"\"\n",
    "print(ausgabe)"
   ]
  },
  {
   "cell_type": "code",
   "execution_count": null,
   "id": "2ee6a792",
   "metadata": {
    "slideshow": {
     "slide_type": "subslide"
    }
   },
   "outputs": [],
   "source": [
    "ausgabe = (\n",
    "    f\"Hallo {spieler_name}!\\n\"\n",
    "    f\"Sie haben {anzahl_spiele}-mal gespielt \"\n",
    "    f\"und dabei {anzahl_gewinne}-mal gewonnen.\"\n",
    ")\n",
    "print(ausgabe)"
   ]
  },
  {
   "cell_type": "markdown",
   "id": "7dade264",
   "metadata": {
    "lang": "en"
   },
   "source": [
    "## Mini workshop\n",
    "\n",
    "- Notebook `workshop_070_more_strings_and_sorting`\n",
    "- Section \"Welcome 2\""
   ]
  },
  {
   "cell_type": "markdown",
   "id": "34748ef1",
   "metadata": {
    "lang": "en"
   },
   "source": [
    "## Mini workshop\n",
    "\n",
    "- Notebook `workshop_070_more_strings_and_sorting`\n",
    "- Section \"Pirates 4\""
   ]
  },
  {
   "cell_type": "markdown",
   "id": "dbc46d5b",
   "metadata": {
    "lang": "en",
    "slideshow": {
     "slide_type": "slide"
    }
   },
   "source": [
    "## Finding substrings in strings\n",
    "\n",
    "The `in` operator also works with strings as arguments. To find the index\n",
    "of a substring in a string you can use the `index()` method."
   ]
  },
  {
   "cell_type": "code",
   "execution_count": null,
   "id": "d14d7ef4",
   "metadata": {
    "tags": [
     "code-along"
    ]
   },
   "outputs": [],
   "source": []
  },
  {
   "cell_type": "code",
   "execution_count": null,
   "id": "8d9a151c",
   "metadata": {
    "tags": [
     "code-along"
    ]
   },
   "outputs": [],
   "source": []
  },
  {
   "cell_type": "code",
   "execution_count": null,
   "id": "27bc4663",
   "metadata": {
    "tags": [
     "code-along"
    ]
   },
   "outputs": [],
   "source": []
  },
  {
   "cell_type": "code",
   "execution_count": null,
   "id": "e90e9f80",
   "metadata": {
    "tags": [
     "code-along"
    ]
   },
   "outputs": [],
   "source": []
  },
  {
   "cell_type": "code",
   "execution_count": null,
   "id": "4003b492",
   "metadata": {
    "tags": [
     "code-along"
    ]
   },
   "outputs": [],
   "source": []
  },
  {
   "cell_type": "code",
   "execution_count": null,
   "id": "d250af08",
   "metadata": {
    "tags": [
     "code-along"
    ]
   },
   "outputs": [],
   "source": []
  },
  {
   "cell_type": "code",
   "execution_count": null,
   "id": "89a00399",
   "metadata": {
    "tags": [
     "code-along"
    ]
   },
   "outputs": [],
   "source": []
  },
  {
   "cell_type": "markdown",
   "id": "17d1bcef",
   "metadata": {
    "lang": "en",
    "slideshow": {
     "slide_type": "slide"
    }
   },
   "source": [
    "## Workshop\n",
    "\n",
    "- Notebook `lecture_920x_Workshop_Caesar_Encryption`"
   ]
  },
  {
   "cell_type": "code",
   "execution_count": null,
   "id": "1bb0fb6f",
   "metadata": {},
   "outputs": [],
   "source": []
  }
 ],
 "metadata": {
  "jupytext": {
   "cell_metadata_json": true,
   "encoding": "# -*- coding: utf-8 -*-",
   "formats": "ipynb"
  },
  "kernelspec": {
   "display_name": "Python 3 (ipykernel)",
   "language": "python",
   "name": "python3"
  }
 },
 "nbformat": 4,
 "nbformat_minor": 5
}
