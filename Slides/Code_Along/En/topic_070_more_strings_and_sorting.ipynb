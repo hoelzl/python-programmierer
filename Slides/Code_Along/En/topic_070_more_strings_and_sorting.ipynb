{
 "cells": [
  {
   "cell_type": "markdown",
   "id": "b444eaf1",
   "metadata": {
    "slideshow": {
     "slide_type": "slide"
    }
   },
   "source": [
    "<img src=\"img/python-logo-notext.svg\"\n",
    "     style=\"display:block;margin:auto;width:10%\"/>\n",
    "<h1 style=\"text-align:center;\">Vertiefung zu Strings</h1>\n",
    "<br/>\n",
    "<div style=\"text-align:center;\">Dr. Matthias Hölzl</div>"
   ]
  },
  {
   "cell_type": "markdown",
   "id": "448d550c",
   "metadata": {
    "slideshow": {
     "slide_type": "slide"
    }
   },
   "source": [
    "# Vergleich von Strings"
   ]
  },
  {
   "cell_type": "code",
   "execution_count": null,
   "id": "d0f4b0c7",
   "metadata": {},
   "outputs": [],
   "source": [
    "\"a\" == \"a\""
   ]
  },
  {
   "cell_type": "code",
   "execution_count": null,
   "id": "fd7a1694",
   "metadata": {},
   "outputs": [],
   "source": [
    "\"A\" == \"a\""
   ]
  },
  {
   "cell_type": "code",
   "execution_count": null,
   "id": "34649d9b",
   "metadata": {
    "slideshow": {
     "slide_type": "subslide"
    }
   },
   "outputs": [],
   "source": [
    "\"A\" < \"B\""
   ]
  },
  {
   "cell_type": "code",
   "execution_count": null,
   "id": "a7f4e8c5",
   "metadata": {},
   "outputs": [],
   "source": [
    "\"A\" < \"a\""
   ]
  },
  {
   "cell_type": "code",
   "execution_count": null,
   "id": "e600a765",
   "metadata": {},
   "outputs": [],
   "source": [
    "\"a\" < \"A\""
   ]
  },
  {
   "cell_type": "markdown",
   "id": "6c661dbf",
   "metadata": {
    "slideshow": {
     "slide_type": "subslide"
    }
   },
   "source": [
    "Strings sind wie im Wörterbuch (lexikographisch) geordnet"
   ]
  },
  {
   "cell_type": "code",
   "execution_count": null,
   "id": "ef356247",
   "metadata": {},
   "outputs": [],
   "source": [
    "\"ab\" < \"abc\""
   ]
  },
  {
   "cell_type": "code",
   "execution_count": null,
   "id": "cee21515",
   "metadata": {},
   "outputs": [],
   "source": [
    "\"ab\" < \"ac\""
   ]
  },
  {
   "cell_type": "code",
   "execution_count": null,
   "id": "2b5c5ece",
   "metadata": {},
   "outputs": [],
   "source": [
    "\"ab\" != \"ac\""
   ]
  },
  {
   "cell_type": "markdown",
   "id": "0bb65977",
   "metadata": {
    "slideshow": {
     "slide_type": "subslide"
    }
   },
   "source": [
    "## Einschub: Sortieren von Listen/Iterables\n",
    "\n",
    "Mit der Funktion `sorted()` können iterables sortiert werden. Mit dem\n",
    "benannten Argument `key` kann eine Funktion angegeben werden, die bestimmt,\n",
    "wie die Sortierung erfolgt:"
   ]
  },
  {
   "cell_type": "code",
   "execution_count": null,
   "id": "fc7c57d9",
   "metadata": {},
   "outputs": [],
   "source": [
    "numbers = [3, 8, -7, 1, 0, 2, -3, 3]"
   ]
  },
  {
   "cell_type": "code",
   "execution_count": null,
   "id": "877e7bf8",
   "metadata": {
    "tags": [
     "code-along"
    ]
   },
   "outputs": [],
   "source": []
  },
  {
   "cell_type": "code",
   "execution_count": null,
   "id": "a3aefccd",
   "metadata": {
    "tags": [
     "code-along"
    ]
   },
   "outputs": [],
   "source": []
  },
  {
   "cell_type": "code",
   "execution_count": null,
   "id": "0ac3266e",
   "metadata": {
    "slideshow": {
     "slide_type": "subslide"
    }
   },
   "outputs": [],
   "source": [
    "strings = [\"a\", \"ABC\", \"xy\", \"Asdfgh\", \"foo\", \"bar\", \"quux\"]"
   ]
  },
  {
   "cell_type": "code",
   "execution_count": null,
   "id": "d1088c3c",
   "metadata": {
    "tags": [
     "code-along"
    ]
   },
   "outputs": [],
   "source": []
  },
  {
   "cell_type": "code",
   "execution_count": null,
   "id": "b539256f",
   "metadata": {
    "tags": [
     "code-along"
    ]
   },
   "outputs": [],
   "source": []
  },
  {
   "cell_type": "code",
   "execution_count": null,
   "id": "5e2bf9a4",
   "metadata": {
    "tags": [
     "code-along"
    ]
   },
   "outputs": [],
   "source": []
  },
  {
   "cell_type": "code",
   "execution_count": null,
   "id": "bf6c8366",
   "metadata": {
    "tags": [
     "code-along"
    ]
   },
   "outputs": [],
   "source": []
  },
  {
   "cell_type": "markdown",
   "id": "3ddb1463",
   "metadata": {
    "slideshow": {
     "slide_type": "slide"
    }
   },
   "source": [
    "\n",
    "## Vergleich von Unicode Strings\n",
    "\n",
    "Die eingebauten Vergleichsfunktionen sind nur für einfache (ASCII) Strings\n",
    "sinnvoll. Für Strings, die Unicode-Zeichen enthalten ist Sortieren/Vergleichen\n",
    "schwieriger.\n",
    "\n",
    "Das Standard Modul in Python ist `locale`; das auf die Locale-Settings des\n",
    "Betriebssystems zurückgreift:"
   ]
  },
  {
   "cell_type": "code",
   "execution_count": null,
   "id": "de813315",
   "metadata": {
    "tags": [
     "code-along"
    ]
   },
   "outputs": [],
   "source": []
  },
  {
   "cell_type": "code",
   "execution_count": null,
   "id": "df2cb8f2",
   "metadata": {},
   "outputs": [],
   "source": [
    "my_strings = [\"o\", \"oa\", \"oe\", \"ö\", \"oz\", \"sa\", \"s\", \"ß\", \"ss\", \"sz\"]"
   ]
  },
  {
   "cell_type": "code",
   "execution_count": null,
   "id": "89077fc6",
   "metadata": {
    "tags": [
     "code-along"
    ]
   },
   "outputs": [],
   "source": []
  },
  {
   "cell_type": "code",
   "execution_count": null,
   "id": "969f97fb",
   "metadata": {
    "tags": [
     "code-along"
    ]
   },
   "outputs": [],
   "source": []
  },
  {
   "cell_type": "code",
   "execution_count": null,
   "id": "16b3338a",
   "metadata": {
    "incorrectly_encoded_metadata": "{\"slideshow\": {\"slide_type\": \"subslide\"}} tags=[\"code-along\"]"
   },
   "outputs": [],
   "source": [
    "locale.setlocale(locale.LC_COLLATE, \"de_DE.UTF-8\")"
   ]
  },
  {
   "cell_type": "code",
   "execution_count": null,
   "id": "d2e9b4b9",
   "metadata": {
    "tags": [
     "code-along"
    ]
   },
   "outputs": [],
   "source": []
  },
  {
   "cell_type": "code",
   "execution_count": null,
   "id": "1c10b16b",
   "metadata": {
    "tags": [
     "code-along"
    ]
   },
   "outputs": [],
   "source": []
  },
  {
   "cell_type": "code",
   "execution_count": null,
   "id": "53f4dad9",
   "metadata": {
    "tags": [
     "code-along"
    ]
   },
   "outputs": [],
   "source": []
  },
  {
   "cell_type": "markdown",
   "id": "eb38d639",
   "metadata": {
    "lines_to_next_cell": 2,
    "slideshow": {
     "slide_type": "subslide"
    }
   },
   "source": [
    "\n",
    "Die Locale Settings sind global pro Prozess und deshalb hauptsächlich geeignet\n",
    "um mit dem Benutzer zu interagieren.\n",
    "\n",
    "Wenn man mit Strings in verschiedenen Sprachen umgehen muss empfiehlt sich die\n",
    "Verwendung von Bibliotheken wie `PyUCA` (in Python geschrieben und daher\n",
    "leichter zu installieren) oder `PyICU` (vollständigere Implementierung der\n",
    "Unicode Spezifikation, basierend auf einer C++ Bibliothek)."
   ]
  },
  {
   "cell_type": "markdown",
   "id": "09e2cba7",
   "metadata": {
    "slideshow": {
     "slide_type": "subslide"
    }
   },
   "source": [
    "## Umwandeln eines Strings in Groß-/Kleinbuchstaben"
   ]
  },
  {
   "cell_type": "code",
   "execution_count": null,
   "id": "a87d9293",
   "metadata": {
    "tags": [
     "code-along"
    ]
   },
   "outputs": [],
   "source": []
  },
  {
   "cell_type": "code",
   "execution_count": null,
   "id": "12581a0b",
   "metadata": {
    "tags": [
     "code-along"
    ]
   },
   "outputs": [],
   "source": []
  },
  {
   "cell_type": "markdown",
   "id": "9b511165",
   "metadata": {
    "slideshow": {
     "slide_type": "subslide"
    }
   },
   "source": [
    "\n",
    "Die `lower()` Methode führt nicht immer die gewünschten Umwandlungen durch.\n",
    "Die `casefold` Methode is dafür manchmal nützlich:"
   ]
  },
  {
   "cell_type": "code",
   "execution_count": null,
   "id": "eb9dbc95",
   "metadata": {
    "tags": [
     "code-along"
    ]
   },
   "outputs": [],
   "source": []
  },
  {
   "cell_type": "code",
   "execution_count": null,
   "id": "41d06030",
   "metadata": {
    "tags": [
     "code-along"
    ]
   },
   "outputs": [],
   "source": []
  },
  {
   "cell_type": "code",
   "execution_count": null,
   "id": "02e5a2a9",
   "metadata": {
    "tags": [
     "code-along"
    ]
   },
   "outputs": [],
   "source": []
  },
  {
   "cell_type": "markdown",
   "id": "7da54622",
   "metadata": {
    "lines_to_next_cell": 2,
    "slideshow": {
     "slide_type": "subslide"
    }
   },
   "source": [
    "## Mini-Workshop\n",
    "\n",
    "- Notebook `workshop_070_more_strings_and_sorting`\n",
    "- Abschnitt \"Shout\""
   ]
  },
  {
   "cell_type": "markdown",
   "id": "4e3c2bd9",
   "metadata": {
    "slideshow": {
     "slide_type": "slide"
    }
   },
   "source": [
    "# Nochmal String Literale\n",
    "\n",
    "- String-Literale werden in einfache oder doppelte Anführungszeichen\n",
    "  eingeschlossen\n",
    "    - `\"Hello, world!\"`\n",
    "    - `'Hallo Welt!'`\n",
    "    - Welche Form man wählt spielt keine Rolle, außer man will\n",
    "      Anführungszeichen im String haben\n",
    "    - `\"Er sagt 'Huh?'\"`\n",
    "    - `'Sie antwortet: \"Genau.\"'`"
   ]
  },
  {
   "cell_type": "markdown",
   "id": "800ba335",
   "metadata": {
    "slideshow": {
     "slide_type": "subslide"
    }
   },
   "source": [
    "- String-Literale, können Unicode Zeichen enthalten:\n",
    "    - `\"おはようございます\"`\n",
    "    - `\"😠🙃🙄\"`"
   ]
  },
  {
   "cell_type": "code",
   "execution_count": null,
   "id": "3fd5cc1e",
   "metadata": {},
   "outputs": [],
   "source": [
    "print(\"Er sagt 'Huh?'\")\n",
    "print('Sie antwortet: \"Genau.\"')\n",
    "print(\"おはようございます\")\n",
    "print(\"😠🙃🙄\")"
   ]
  },
  {
   "cell_type": "markdown",
   "id": "c5b967c7",
   "metadata": {
    "slideshow": {
     "slide_type": "subslide"
    }
   },
   "source": [
    "- Sonderzeichen können mit *Escape-Notation* angegeben werden:\n",
    "    - `\\n`, `\\t`, `\\\\`, `\\\"`, `\\'`, ...\n",
    "    - `\\u`, `\\U` für Unicode code points (16 bzw. 32 bit)\n",
    "    - `\\N{...}` für Unicode"
   ]
  },
  {
   "cell_type": "code",
   "execution_count": null,
   "id": "6b17db65",
   "metadata": {},
   "outputs": [],
   "source": [
    "print(\"a\\tbc\\td\\n123\\t4\\t5\")"
   ]
  },
  {
   "cell_type": "code",
   "execution_count": null,
   "id": "89e3af8e",
   "metadata": {},
   "outputs": [],
   "source": [
    "print('\"Let\\'s go crazy\", she said')"
   ]
  },
  {
   "cell_type": "code",
   "execution_count": null,
   "id": "2e87f7b6",
   "metadata": {},
   "outputs": [],
   "source": [
    "print(\"C:\\\\Users\\\\John\")"
   ]
  },
  {
   "cell_type": "code",
   "execution_count": null,
   "id": "95deffc0",
   "metadata": {
    "slideshow": {
     "slide_type": "subslide"
    }
   },
   "outputs": [],
   "source": [
    "print(\"\\u0394 \\u03b1 \\t\\U000003b2 \\U000003b3\")\n",
    "print(\"\\U0001F62E \\U0001f61a \\U0001f630\")"
   ]
  },
  {
   "cell_type": "code",
   "execution_count": null,
   "id": "b8ae49b3",
   "metadata": {},
   "outputs": [],
   "source": [
    "print(\"\\N{GREEK CAPITAL LETTER DELTA} \\N{GREEK SMALL LETTER ALPHA}\")\n",
    "print(\"\\N{smiling face with open mouth and smiling eyes} \\N{winking face}\")"
   ]
  },
  {
   "cell_type": "markdown",
   "id": "c3338710",
   "metadata": {
    "slideshow": {
     "slide_type": "subslide"
    }
   },
   "source": [
    "- String Literale können auch in 3-fache Anführungszeichen eingeschlossen\n",
    "  werden\n",
    "- Diese Art von Literalen kann über mehrere Zeilen gehen"
   ]
  },
  {
   "cell_type": "code",
   "execution_count": null,
   "id": "9a9dd67c",
   "metadata": {},
   "outputs": [],
   "source": [
    "\"\"\"Das ist\n",
    "ein String-Literal,\n",
    "das über mehrere\n",
    "Zeilen geht.\"\"\""
   ]
  },
  {
   "cell_type": "code",
   "execution_count": null,
   "id": "981f7097",
   "metadata": {},
   "outputs": [],
   "source": [
    "print(\n",
    "    \"\"\"Mit Backslash am Ende der Zeile \\\n",
    "kann der Zeilenvorschub unterdrückt werden.\"\"\"\n",
    ")"
   ]
  },
  {
   "cell_type": "markdown",
   "id": "ba4a0663",
   "metadata": {
    "slideshow": {
     "slide_type": "slide"
    }
   },
   "source": [
    "## Konkatenation von Strings\n",
    "\n",
    "Mit `+` können Strings aneinandergehängt (konkateniert) werden:"
   ]
  },
  {
   "cell_type": "code",
   "execution_count": null,
   "id": "a19cc75a",
   "metadata": {},
   "outputs": [],
   "source": [
    "\"Ein\" + \" \" + \"String\""
   ]
  },
  {
   "cell_type": "markdown",
   "id": "9eaabdac",
   "metadata": {
    "slideshow": {
     "slide_type": "subslide"
    }
   },
   "source": [
    "Mit der `join()` Methode können mehrere Strings mit einem Trennzeichen (oder Trenn-String) zusammengefügt werden:"
   ]
  },
  {
   "cell_type": "code",
   "execution_count": null,
   "id": "d1d80ba8",
   "metadata": {},
   "outputs": [],
   "source": [
    "\" \".join([\"das\", \"sind\", \"mehrere\", \"strings\"])"
   ]
  },
  {
   "cell_type": "code",
   "execution_count": null,
   "id": "e7c505f8",
   "metadata": {},
   "outputs": [],
   "source": [
    "\", \".join([\"Pferd\", \"Katze\", \"Hund\"])"
   ]
  },
  {
   "cell_type": "code",
   "execution_count": null,
   "id": "89a53b8f",
   "metadata": {},
   "outputs": [],
   "source": [
    "\"\".join([\"ab\", \"cde\", \"f\"])"
   ]
  },
  {
   "cell_type": "markdown",
   "id": "6051fb0c",
   "metadata": {
    "slideshow": {
     "slide_type": "subslide"
    }
   },
   "source": [
    "## Mini-Workshop\n",
    "\n",
    "- Notebook `workshop_070_more_strings_and_sorting`\n",
    "- Abschnitt \"Begrüßung 1\""
   ]
  },
  {
   "cell_type": "markdown",
   "id": "d1be8c28",
   "metadata": {
    "slideshow": {
     "slide_type": "subslide"
    }
   },
   "source": [
    "\n",
    "## Nochmal Vergleich von Strings\n",
    "\n",
    "Um Strings mit Unicode-Zeichen zu vergleichen ist es zweckmäßig sie in\n",
    "Unicode-Normalform zu bringen."
   ]
  },
  {
   "cell_type": "code",
   "execution_count": null,
   "id": "24558d53",
   "metadata": {},
   "outputs": [],
   "source": [
    "s1 = \"café\"\n",
    "s2 = \"cafe\\u0301\""
   ]
  },
  {
   "cell_type": "code",
   "execution_count": null,
   "id": "942e85d1",
   "metadata": {
    "tags": [
     "code-along"
    ]
   },
   "outputs": [],
   "source": []
  },
  {
   "cell_type": "code",
   "execution_count": null,
   "id": "9a2a39c4",
   "metadata": {
    "incorrectly_encoded_metadata": "{\"slideshow\": {\"slide_type\": \"subslide\"}} tags=[\"code-along\"]"
   },
   "outputs": [],
   "source": [
    "import unicodedata\n",
    "\n",
    "unicodedata.normalize(\"NFC\", s1) == s1"
   ]
  },
  {
   "cell_type": "code",
   "execution_count": null,
   "id": "947beb68",
   "metadata": {
    "tags": [
     "code-along"
    ]
   },
   "outputs": [],
   "source": []
  },
  {
   "cell_type": "code",
   "execution_count": null,
   "id": "abe29102",
   "metadata": {
    "lines_to_next_cell": 2,
    "tags": [
     "code-along"
    ]
   },
   "outputs": [],
   "source": []
  },
  {
   "cell_type": "markdown",
   "id": "b3210dab",
   "metadata": {
    "slideshow": {
     "slide_type": "slide"
    }
   },
   "source": [
    "# String Interpolation: F-Strings\n",
    "\n",
    "Python bietet die Möglichkeit, Werte von Variablen in Strings einzusetzen:"
   ]
  },
  {
   "cell_type": "code",
   "execution_count": null,
   "id": "3b7ab2cc",
   "metadata": {
    "tags": [
     "code-along"
    ]
   },
   "outputs": [],
   "source": []
  },
  {
   "cell_type": "code",
   "execution_count": null,
   "id": "62f1d2c3",
   "metadata": {
    "slideshow": {
     "slide_type": "subslide"
    }
   },
   "outputs": [],
   "source": [
    "spieler_name = \"Hans\"\n",
    "anzahl_spiele = 10\n",
    "anzahl_gewinne = 2\n",
    "\n",
    "ausgabe = f\"Hallo {spieler_name}!\\nSie haben {anzahl_spiele}-mal gespielt und dabei {anzahl_gewinne}-mal gewonnen.\"\n",
    "print(ausgabe)"
   ]
  },
  {
   "cell_type": "code",
   "execution_count": null,
   "id": "29bb3aea",
   "metadata": {
    "slideshow": {
     "slide_type": "subslide"
    }
   },
   "outputs": [],
   "source": [
    "ausgabe = f\"\"\"\\\n",
    "Hallo {spieler_name}!\n",
    "Sie haben {anzahl_spiele}-mal gespielt \\\n",
    "und dabei {anzahl_gewinne}-mal gewonnen.\\\n",
    "\"\"\"\n",
    "print(ausgabe)"
   ]
  },
  {
   "cell_type": "code",
   "execution_count": null,
   "id": "5775fd5e",
   "metadata": {
    "slideshow": {
     "slide_type": "subslide"
    }
   },
   "outputs": [],
   "source": [
    "ausgabe = (\n",
    "    f\"Hallo {spieler_name}!\\n\"\n",
    "    f\"Sie haben {anzahl_spiele}-mal gespielt \"\n",
    "    f\"und dabei {anzahl_gewinne}-mal gewonnen.\"\n",
    ")\n",
    "print(ausgabe)"
   ]
  },
  {
   "cell_type": "markdown",
   "id": "f054d669",
   "metadata": {
    "slideshow": {
     "slide_type": "subslide"
    }
   },
   "source": [
    "## Mini-Workshop\n",
    "\n",
    "- Notebook `workshop_070_more_strings_and_sorting`\n",
    "- Abschnitt \"Begrüßung 2\""
   ]
  },
  {
   "cell_type": "markdown",
   "id": "42fb3651",
   "metadata": {
    "slideshow": {
     "slide_type": "subslide"
    }
   },
   "source": [
    "## Mini-Workshop\n",
    "\n",
    "- Notebook `workshop_070_more_strings_and_sorting`\n",
    "- Abschnitt \"Piraten 4\""
   ]
  },
  {
   "cell_type": "markdown",
   "id": "5a276e02",
   "metadata": {
    "slideshow": {
     "slide_type": "slide"
    }
   },
   "source": [
    "## Finden in Strings\n",
    "\n",
    "Der `in` Operator funktioniert auch mit Strings als Argument. Um den Index\n",
    "eines Substrings in einem String zu finden kann man die `index()`-Methode\n",
    "verwenden."
   ]
  },
  {
   "cell_type": "code",
   "execution_count": null,
   "id": "f0073eb9",
   "metadata": {
    "tags": [
     "code-along"
    ]
   },
   "outputs": [],
   "source": []
  },
  {
   "cell_type": "code",
   "execution_count": null,
   "id": "59326f59",
   "metadata": {
    "tags": [
     "code-along"
    ]
   },
   "outputs": [],
   "source": []
  },
  {
   "cell_type": "code",
   "execution_count": null,
   "id": "76c9bd08",
   "metadata": {
    "tags": [
     "code-along"
    ]
   },
   "outputs": [],
   "source": []
  },
  {
   "cell_type": "code",
   "execution_count": null,
   "id": "69500a0e",
   "metadata": {
    "tags": [
     "code-along"
    ]
   },
   "outputs": [],
   "source": []
  },
  {
   "cell_type": "code",
   "execution_count": null,
   "id": "54b3ca2c",
   "metadata": {
    "tags": [
     "code-along"
    ]
   },
   "outputs": [],
   "source": []
  },
  {
   "cell_type": "code",
   "execution_count": null,
   "id": "76227bd2",
   "metadata": {
    "tags": [
     "code-along"
    ]
   },
   "outputs": [],
   "source": []
  },
  {
   "cell_type": "code",
   "execution_count": null,
   "id": "aa5cad78",
   "metadata": {
    "tags": [
     "code-along"
    ]
   },
   "outputs": [],
   "source": []
  },
  {
   "cell_type": "markdown",
   "id": "2f2a9863",
   "metadata": {
    "slideshow": {
     "slide_type": "slide"
    }
   },
   "source": [
    "## Workshop\n",
    "\n",
    "- Notebook `lecture_920x_Workshop_Cäsar_Verschlüsselung`"
   ]
  },
  {
   "cell_type": "code",
   "execution_count": null,
   "id": "a131bda1",
   "metadata": {},
   "outputs": [],
   "source": []
  }
 ],
 "metadata": {
  "jupytext": {
   "cell_metadata_json": true,
   "encoding": "# -*- coding: utf-8 -*-",
   "formats": "ipynb"
  },
  "kernelspec": {
   "display_name": "Python 3 (ipykernel)",
   "language": "python",
   "name": "python3"
  }
 },
 "nbformat": 4,
 "nbformat_minor": 5
}
