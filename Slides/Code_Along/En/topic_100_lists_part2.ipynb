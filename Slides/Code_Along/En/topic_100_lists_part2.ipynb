{
 "cells": [
  {
   "cell_type": "markdown",
   "id": "7fcb5a73",
   "metadata": {
    "lang": "en",
    "lines_to_next_cell": 2,
    "slideshow": {
     "slide_type": "slide"
    }
   },
   "source": [
    "<img src=\"img/python-logo-notext.svg\"\n",
    "     style=\"display:block;margin:auto;width:10%\"/>\n",
    "<br>\n",
    "<div style=\"text-align:center; font-size:200%;\"><b>Lists in Depth</b></div>\n",
    "<br/>\n",
    "<div style=\"text-align:center;\">Dr. Matthias Hölzl</div>"
   ]
  },
  {
   "cell_type": "markdown",
   "id": "bdc592e7",
   "metadata": {
    "lang": "en",
    "slideshow": {
     "slide_type": "slide"
    }
   },
   "source": [
    "# Lists\n",
    "\n",
    "Recall:\n",
    "\n",
    "- List literals are enclosed in square brackets\n",
    "- Other sequences can be converted to lists using `list`"
   ]
  },
  {
   "cell_type": "code",
   "execution_count": null,
   "id": "f03d19a9",
   "metadata": {},
   "outputs": [],
   "source": [
    "[\"a\", \"b\", \"c\"]"
   ]
  },
  {
   "cell_type": "code",
   "execution_count": null,
   "id": "4fb0abad",
   "metadata": {
    "tags": [
     "code-along"
    ]
   },
   "outputs": [],
   "source": []
  },
  {
   "cell_type": "markdown",
   "id": "29fab7b0",
   "metadata": {
    "lang": "en",
    "slideshow": {
     "slide_type": "subslide"
    }
   },
   "source": [
    "## Mini workshop\n",
    "\n",
    "- Notebook `workshop_060_introduction_part2`\n",
    "- Section \"Printing square numbers\""
   ]
  },
  {
   "cell_type": "markdown",
   "id": "554764e5",
   "metadata": {
    "lang": "en",
    "slideshow": {
     "slide_type": "subslide"
    }
   },
   "source": [
    "## Properties of lists\n",
    "\n",
    "- Lists can store arbitrary Python values\n",
    "- Elements in a list have a fixed order\n",
    "- Elements of a list can be accessed by index\n",
    "- Lists can be modified\n",
    "\n",
    "Lists can contain elements of different types, but most lists contain elements of a single type."
   ]
  },
  {
   "cell_type": "code",
   "execution_count": null,
   "id": "eb12295b",
   "metadata": {
    "slideshow": {
     "slide_type": "subslide"
    }
   },
   "outputs": [],
   "source": [
    "stringliste = [\"a\", \"b\", \"c\"]"
   ]
  },
  {
   "cell_type": "code",
   "execution_count": null,
   "id": "9dcfa53a",
   "metadata": {
    "tags": [
     "code-along"
    ]
   },
   "outputs": [],
   "source": []
  },
  {
   "cell_type": "code",
   "execution_count": null,
   "id": "25c850c3",
   "metadata": {
    "tags": [
     "code-along"
    ]
   },
   "outputs": [],
   "source": []
  },
  {
   "cell_type": "markdown",
   "id": "0077979a",
   "metadata": {
    "lang": "en",
    "slideshow": {
     "slide_type": "subslide"
    }
   },
   "source": [
    "### Check if an item is in a list"
   ]
  },
  {
   "cell_type": "code",
   "execution_count": null,
   "id": "3d31dc39",
   "metadata": {
    "tags": [
     "code-along"
    ]
   },
   "outputs": [],
   "source": []
  },
  {
   "cell_type": "code",
   "execution_count": null,
   "id": "04717e5b",
   "metadata": {
    "tags": [
     "code-along"
    ]
   },
   "outputs": [],
   "source": []
  },
  {
   "cell_type": "code",
   "execution_count": null,
   "id": "cbd03fef",
   "metadata": {
    "tags": [
     "code-along"
    ]
   },
   "outputs": [],
   "source": []
  },
  {
   "cell_type": "markdown",
   "id": "3510ce52",
   "metadata": {
    "lang": "en",
    "slideshow": {
     "slide_type": "subslide"
    }
   },
   "source": [
    "### Find the position of an element"
   ]
  },
  {
   "cell_type": "code",
   "execution_count": null,
   "id": "ad117981",
   "metadata": {
    "tags": [
     "code-along"
    ]
   },
   "outputs": [],
   "source": []
  },
  {
   "cell_type": "code",
   "execution_count": null,
   "id": "8dc28d68",
   "metadata": {},
   "outputs": [],
   "source": [
    "my_list = [\"a\", \"b\", \"c\", \"d\", \"b\", \"d\", \"b\"]"
   ]
  },
  {
   "cell_type": "code",
   "execution_count": null,
   "id": "305bc73f",
   "metadata": {
    "tags": [
     "code-along"
    ]
   },
   "outputs": [],
   "source": []
  },
  {
   "cell_type": "code",
   "execution_count": null,
   "id": "9789a0d4",
   "metadata": {
    "tags": [
     "code-along"
    ]
   },
   "outputs": [],
   "source": []
  },
  {
   "cell_type": "markdown",
   "id": "56e87eba",
   "metadata": {
    "lang": "en",
    "slideshow": {
     "slide_type": "subslide"
    }
   },
   "source": [
    "## Micro workshop:\n",
    "\n",
    "The `index` method throws an exception if the searched object does not\n",
    "appear in the list. Write a function\n",
    "```\n",
    "find(item, a_list)\n",
    "```\n",
    "\n",
    "- which returns an index if the element `element` is in the list, and\n",
    "- returns `None` if it is not"
   ]
  },
  {
   "cell_type": "code",
   "execution_count": null,
   "id": "8f861570",
   "metadata": {
    "slideshow": {
     "slide_type": "subslide"
    },
    "tags": [
     "code-along"
    ]
   },
   "outputs": [],
   "source": []
  },
  {
   "cell_type": "code",
   "execution_count": null,
   "id": "18f56a39",
   "metadata": {
    "slideshow": {
     "slide_type": "subslide"
    }
   },
   "outputs": [],
   "source": [
    "my_list = [\"a\", \"b\", \"c\", \"d\", \"e\"]"
   ]
  },
  {
   "cell_type": "code",
   "execution_count": null,
   "id": "cbc0a8a4",
   "metadata": {
    "slideshow": {
     "slide_type": "-"
    },
    "tags": [
     "code-along"
    ]
   },
   "outputs": [],
   "source": []
  },
  {
   "cell_type": "code",
   "execution_count": null,
   "id": "dfd4d907",
   "metadata": {
    "tags": [
     "code-along"
    ]
   },
   "outputs": [],
   "source": []
  },
  {
   "cell_type": "code",
   "execution_count": null,
   "id": "ca0639a9",
   "metadata": {
    "tags": [
     "code-along"
    ]
   },
   "outputs": [],
   "source": []
  },
  {
   "cell_type": "markdown",
   "id": "ab4d5196",
   "metadata": {
    "lang": "en",
    "slideshow": {
     "slide_type": "subslide"
    }
   },
   "source": [
    "### Modification of elements"
   ]
  },
  {
   "cell_type": "code",
   "execution_count": null,
   "id": "9c4d8908",
   "metadata": {},
   "outputs": [],
   "source": [
    "stringliste"
   ]
  },
  {
   "cell_type": "code",
   "execution_count": null,
   "id": "3e9a37e3",
   "metadata": {
    "tags": [
     "code-along"
    ]
   },
   "outputs": [],
   "source": []
  },
  {
   "cell_type": "code",
   "execution_count": null,
   "id": "2884d3d3",
   "metadata": {},
   "outputs": [],
   "source": [
    "stringliste"
   ]
  },
  {
   "cell_type": "markdown",
   "id": "abe1b8de",
   "metadata": {
    "lang": "en",
    "slideshow": {
     "slide_type": "subslide"
    }
   },
   "source": [
    "### Inserting and appending elements"
   ]
  },
  {
   "cell_type": "code",
   "execution_count": null,
   "id": "beaaa5bd",
   "metadata": {},
   "outputs": [],
   "source": [
    "stringliste"
   ]
  },
  {
   "cell_type": "code",
   "execution_count": null,
   "id": "241e5894",
   "metadata": {
    "tags": [
     "code-along"
    ]
   },
   "outputs": [],
   "source": []
  },
  {
   "cell_type": "code",
   "execution_count": null,
   "id": "b08318a1",
   "metadata": {},
   "outputs": [],
   "source": [
    "stringliste"
   ]
  },
  {
   "cell_type": "code",
   "execution_count": null,
   "id": "5e6fb686",
   "metadata": {
    "slideshow": {
     "slide_type": "subslide"
    },
    "tags": [
     "code-along"
    ]
   },
   "outputs": [],
   "source": []
  },
  {
   "cell_type": "code",
   "execution_count": null,
   "id": "9ef67638",
   "metadata": {},
   "outputs": [],
   "source": [
    "stringliste"
   ]
  },
  {
   "cell_type": "code",
   "execution_count": null,
   "id": "a2fc5a2f",
   "metadata": {
    "tags": [
     "code-along"
    ]
   },
   "outputs": [],
   "source": []
  },
  {
   "cell_type": "code",
   "execution_count": null,
   "id": "98574339",
   "metadata": {
    "slideshow": {
     "slide_type": "subslide"
    }
   },
   "outputs": [],
   "source": [
    "stringliste"
   ]
  },
  {
   "cell_type": "code",
   "execution_count": null,
   "id": "4c68efb7",
   "metadata": {
    "tags": [
     "code-along"
    ]
   },
   "outputs": [],
   "source": []
  },
  {
   "cell_type": "code",
   "execution_count": null,
   "id": "d55afb3d",
   "metadata": {},
   "outputs": [],
   "source": [
    "stringliste"
   ]
  },
  {
   "cell_type": "code",
   "execution_count": null,
   "id": "3224a271",
   "metadata": {
    "slideshow": {
     "slide_type": "subslide"
    },
    "tags": [
     "code-along"
    ]
   },
   "outputs": [],
   "source": []
  },
  {
   "cell_type": "code",
   "execution_count": null,
   "id": "c0d6560f",
   "metadata": {},
   "outputs": [],
   "source": [
    "stringliste"
   ]
  },
  {
   "cell_type": "code",
   "execution_count": null,
   "id": "e8489838",
   "metadata": {
    "tags": [
     "code-along"
    ]
   },
   "outputs": [],
   "source": []
  },
  {
   "cell_type": "code",
   "execution_count": null,
   "id": "65f1395e",
   "metadata": {},
   "outputs": [],
   "source": [
    "stringliste"
   ]
  },
  {
   "cell_type": "markdown",
   "id": "0d1f1604",
   "metadata": {
    "lang": "en",
    "slideshow": {
     "slide_type": "subslide"
    }
   },
   "source": [
    "### Removing elements"
   ]
  },
  {
   "cell_type": "code",
   "execution_count": null,
   "id": "d8aec434",
   "metadata": {},
   "outputs": [],
   "source": [
    "stringliste = [\"ANFANG\", \"A\", \"Y\", \"b\", \"c\", \"D\", \"E\", \"ENDE\", \"F\"]\n",
    "stringliste[7]"
   ]
  },
  {
   "cell_type": "code",
   "execution_count": null,
   "id": "b5101fae",
   "metadata": {
    "tags": [
     "code-along"
    ]
   },
   "outputs": [],
   "source": []
  },
  {
   "cell_type": "code",
   "execution_count": null,
   "id": "fb7edddf",
   "metadata": {},
   "outputs": [],
   "source": [
    "stringliste"
   ]
  },
  {
   "cell_type": "markdown",
   "id": "d31f693f",
   "metadata": {
    "lang": "en",
    "slideshow": {
     "slide_type": "subslide"
    }
   },
   "source": [
    "### Length of a list"
   ]
  },
  {
   "cell_type": "code",
   "execution_count": null,
   "id": "1571e3d3",
   "metadata": {},
   "outputs": [],
   "source": [
    "stringliste"
   ]
  },
  {
   "cell_type": "code",
   "execution_count": null,
   "id": "b70941ca",
   "metadata": {
    "tags": [
     "code-along"
    ]
   },
   "outputs": [],
   "source": []
  },
  {
   "cell_type": "code",
   "execution_count": null,
   "id": "ecbaa5cc",
   "metadata": {
    "tags": [
     "code-along"
    ]
   },
   "outputs": [],
   "source": []
  },
  {
   "cell_type": "code",
   "execution_count": null,
   "id": "a8677c7f",
   "metadata": {},
   "outputs": [],
   "source": [
    "stringliste"
   ]
  },
  {
   "cell_type": "code",
   "execution_count": null,
   "id": "35ebc147",
   "metadata": {
    "tags": [
     "code-along"
    ]
   },
   "outputs": [],
   "source": []
  },
  {
   "cell_type": "markdown",
   "id": "fb7650a2",
   "metadata": {
    "lang": "en",
    "slideshow": {
     "slide_type": "subslide"
    }
   },
   "source": [
    "## Mini workshop\n",
    "\n",
    "- Notebook `workshop_100_lists_part2`\n",
    "- Section Colors"
   ]
  },
  {
   "cell_type": "markdown",
   "id": "23077338",
   "metadata": {
    "lang": "en",
    "slideshow": {
     "slide_type": "slide"
    }
   },
   "source": [
    "## Creating lists\n",
    "\n",
    "The multiplication operator `*` allows the elements of a list\n",
    "be repeated:"
   ]
  },
  {
   "cell_type": "code",
   "execution_count": null,
   "id": "babf1e15",
   "metadata": {
    "tags": [
     "code-along"
    ]
   },
   "outputs": [],
   "source": []
  },
  {
   "cell_type": "code",
   "execution_count": null,
   "id": "e0b57912",
   "metadata": {
    "tags": [
     "code-along"
    ]
   },
   "outputs": [],
   "source": []
  },
  {
   "cell_type": "code",
   "execution_count": null,
   "id": "c5d69077",
   "metadata": {
    "tags": [
     "code-along"
    ]
   },
   "outputs": [],
   "source": []
  },
  {
   "cell_type": "markdown",
   "id": "6d73b61a",
   "metadata": {
    "lang": "en",
    "slideshow": {
     "slide_type": "slide"
    }
   },
   "source": [
    "## Slicing\n",
    "\n",
    "With the notation `list[m:n]` you can extract a \"sublist\" of `list`.\n",
    "\n",
    "- The first element is `list[m]`\n",
    "- The last element is `list[n-1]`"
   ]
  },
  {
   "cell_type": "code",
   "execution_count": null,
   "id": "c1242748",
   "metadata": {
    "slideshow": {
     "slide_type": "subslide"
    }
   },
   "outputs": [],
   "source": [
    "stringliste = [\"a\", \"b\", \"c\", \"d\", \"e\"]"
   ]
  },
  {
   "cell_type": "code",
   "execution_count": null,
   "id": "33f1d98d",
   "metadata": {
    "tags": [
     "code-along"
    ]
   },
   "outputs": [],
   "source": []
  },
  {
   "cell_type": "code",
   "execution_count": null,
   "id": "183e5989",
   "metadata": {
    "tags": [
     "code-along"
    ]
   },
   "outputs": [],
   "source": []
  },
  {
   "cell_type": "code",
   "execution_count": null,
   "id": "c667ef4e",
   "metadata": {
    "tags": [
     "code-along"
    ]
   },
   "outputs": [],
   "source": []
  },
  {
   "cell_type": "code",
   "execution_count": null,
   "id": "b7f49eb1",
   "metadata": {
    "slideshow": {
     "slide_type": "subslide"
    },
    "tags": [
     "code-along"
    ]
   },
   "outputs": [],
   "source": []
  },
  {
   "cell_type": "code",
   "execution_count": null,
   "id": "47d7a83c",
   "metadata": {
    "tags": [
     "code-along"
    ]
   },
   "outputs": [],
   "source": []
  },
  {
   "cell_type": "code",
   "execution_count": null,
   "id": "db587cd7",
   "metadata": {
    "tags": [
     "code-along"
    ]
   },
   "outputs": [],
   "source": []
  },
  {
   "cell_type": "markdown",
   "id": "3646a95d",
   "metadata": {
    "lang": "en"
   },
   "source": [
    "## Mini workshop\n",
    "\n",
    "- Notebook `workshop_100_lists_part2`\n",
    "- Section \"Slicing\""
   ]
  },
  {
   "cell_type": "markdown",
   "id": "a61f0cba",
   "metadata": {
    "lang": "en",
    "slideshow": {
     "slide_type": "slide"
    }
   },
   "source": [
    "## Assignment to slices\n",
    "\n",
    "You can assign values to slices:"
   ]
  },
  {
   "cell_type": "code",
   "execution_count": null,
   "id": "bc490bf2",
   "metadata": {
    "tags": [
     "code-along"
    ]
   },
   "outputs": [],
   "source": []
  },
  {
   "cell_type": "code",
   "execution_count": null,
   "id": "2936fc7f",
   "metadata": {
    "tags": [
     "code-along"
    ]
   },
   "outputs": [],
   "source": []
  },
  {
   "cell_type": "code",
   "execution_count": null,
   "id": "cc55512c",
   "metadata": {
    "tags": [
     "code-along"
    ]
   },
   "outputs": [],
   "source": []
  },
  {
   "cell_type": "code",
   "execution_count": null,
   "id": "c37864f1",
   "metadata": {
    "tags": [
     "code-along"
    ]
   },
   "outputs": [],
   "source": []
  },
  {
   "cell_type": "code",
   "execution_count": null,
   "id": "41e056bd",
   "metadata": {
    "slideshow": {
     "slide_type": "subslide"
    },
    "tags": [
     "code-along"
    ]
   },
   "outputs": [],
   "source": []
  },
  {
   "cell_type": "markdown",
   "id": "cf2f2bfc",
   "metadata": {
    "lang": "en",
    "slideshow": {
     "slide_type": "slide"
    }
   },
   "source": [
    "## Slices as objects\n",
    "\n",
    "Slices are themselves Python objects. However, outside the indexing operation `[]`\n",
    "they cannot be created with the notation `a:b`, but only\n",
    "with the constructor function `slice()`."
   ]
  },
  {
   "cell_type": "code",
   "execution_count": null,
   "id": "415a0672",
   "metadata": {
    "lines_to_next_cell": 2,
    "slideshow": {
     "slide_type": "-"
    }
   },
   "outputs": [],
   "source": [
    "my_list = [1, 2, 3, 4, 5, 6]\n",
    "print(my_list[2:4])"
   ]
  },
  {
   "cell_type": "code",
   "execution_count": null,
   "id": "bb376001",
   "metadata": {
    "tags": [
     "code-along"
    ]
   },
   "outputs": [],
   "source": []
  },
  {
   "cell_type": "code",
   "execution_count": null,
   "id": "b7dda905",
   "metadata": {
    "slideshow": {
     "slide_type": "subslide"
    }
   },
   "outputs": [],
   "source": [
    "print(my_list[:3])"
   ]
  },
  {
   "cell_type": "code",
   "execution_count": null,
   "id": "b7ef1d02",
   "metadata": {
    "tags": [
     "code-along"
    ]
   },
   "outputs": [],
   "source": []
  },
  {
   "cell_type": "markdown",
   "id": "167efc0c",
   "metadata": {
    "lang": "en",
    "slideshow": {
     "slide_type": "subslide"
    }
   },
   "source": [
    "The `indices()` method of a slice object can be used to\n",
    "determine which indices the slice contains:"
   ]
  },
  {
   "cell_type": "code",
   "execution_count": null,
   "id": "ac6471b1",
   "metadata": {},
   "outputs": [],
   "source": [
    "my_slice = slice(None, 3)\n",
    "print(my_slice.indices(len(my_list)))"
   ]
  },
  {
   "cell_type": "markdown",
   "id": "5bd87b5e",
   "metadata": {
    "lang": "en"
   },
   "source": [
    "With this we can write a function that replaces all the elements of a slice\n",
    "with a given value:"
   ]
  },
  {
   "cell_type": "code",
   "execution_count": null,
   "id": "dea00155",
   "metadata": {
    "slideshow": {
     "slide_type": "subslide"
    }
   },
   "outputs": [],
   "source": [
    "def replace_with(my_list, my_slice, value):\n",
    "    import math\n",
    "\n",
    "    start, stop, stride = my_slice.indices(len(my_list))\n",
    "    num_values = math.ceil((stop - start) / stride)\n",
    "    my_list[my_slice] = [value] * num_values"
   ]
  },
  {
   "cell_type": "code",
   "execution_count": null,
   "id": "fd1b7d1d",
   "metadata": {
    "slideshow": {
     "slide_type": "subslide"
    }
   },
   "outputs": [],
   "source": [
    "my_list = [1, 2, 3, 4, 5, 6]\n",
    "my_slice = slice(2, 6)\n",
    "replace_with(my_list, my_slice, 8)\n",
    "my_list"
   ]
  }
 ],
 "metadata": {
  "jupytext": {
   "cell_metadata_json": true,
   "encoding": "# -*- coding: utf-8 -*-",
   "formats": "ipynb"
  },
  "kernelspec": {
   "display_name": "Python 3 (ipykernel)",
   "language": "python",
   "name": "python3"
  }
 },
 "nbformat": 4,
 "nbformat_minor": 5
}
