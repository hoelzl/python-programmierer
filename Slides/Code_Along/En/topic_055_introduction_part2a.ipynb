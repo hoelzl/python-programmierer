{
 "cells": [
  {
   "cell_type": "markdown",
   "id": "6f3c2a83",
   "metadata": {
    "lang": "en",
    "lines_to_next_cell": 2,
    "slideshow": {
     "slide_type": "slide"
    }
   },
   "source": [
    "<img src=\"img/python-logo-notext.svg\"\n",
    "     style=\"display:block;margin:auto;width:10%\"/>\n",
    "<br>\n",
    "<div style=\"text-align:center; font-size:200%;\"><b>Introduction to Python: Part 2</b></div>\n",
    "<br/>\n",
    "<div style=\"text-align:center;\">Dr. Matthias Hölzl</div>"
   ]
  },
  {
   "cell_type": "markdown",
   "id": "f21cfa08",
   "metadata": {
    "lang": "en"
   },
   "source": [
    "# `if` statements\n",
    "\n",
    "- We want to write a program that determines if a number is a lucky number or not:\n",
    "    - 7 is a lucky number\n",
    "    - all other numbers are not.\n",
    "- We need the `if` statement for this:"
   ]
  },
  {
   "cell_type": "code",
   "execution_count": null,
   "id": "d99d2b80",
   "metadata": {
    "lang": "en",
    "lines_to_next_cell": 1,
    "slideshow": {
     "slide_type": "subslide"
    },
    "tags": [
     "code-along"
    ]
   },
   "outputs": [],
   "source": []
  },
  {
   "cell_type": "code",
   "execution_count": null,
   "id": "0f85e59f",
   "metadata": {
    "lang": "en",
    "tags": [
     "code-along"
    ]
   },
   "outputs": [],
   "source": []
  },
  {
   "cell_type": "code",
   "execution_count": null,
   "id": "914cca46",
   "metadata": {
    "lang": "en",
    "tags": [
     "code-along"
    ]
   },
   "outputs": [],
   "source": []
  },
  {
   "cell_type": "code",
   "execution_count": null,
   "id": "f9c09c02",
   "metadata": {
    "lang": "en",
    "lines_to_next_cell": 1,
    "slideshow": {
     "slide_type": "subslide"
    }
   },
   "outputs": [],
   "source": [
    "def is_lucky_number_1(number):\n",
    "    print(\"Is\", number, \"a lucky number?\")\n",
    "\n",
    "    if number == 7:\n",
    "        print(\"Yes!\")\n",
    "    else:\n",
    "        print(\"Unfortunately no.\")\n",
    "\n",
    "    print(\"We wish you all the best.\")"
   ]
  },
  {
   "cell_type": "code",
   "execution_count": null,
   "id": "8dea43c7",
   "metadata": {
    "lang": "en"
   },
   "outputs": [],
   "source": [
    "is_lucky_number_1(1)"
   ]
  },
  {
   "cell_type": "code",
   "execution_count": null,
   "id": "7b28d368",
   "metadata": {
    "lang": "en"
   },
   "outputs": [],
   "source": [
    "is_lucky_number_1(7)"
   ]
  },
  {
   "cell_type": "code",
   "execution_count": null,
   "id": "f21cc63d",
   "metadata": {
    "lang": "en",
    "slideshow": {
     "slide_type": "subslide"
    }
   },
   "outputs": [],
   "source": [
    "def is_lucky_number_2(number):\n",
    "    if number == 7:\n",
    "        print(number, \"is a lucky number!\")\n",
    "        print(\"You must be having a great day!\")\n",
    "    else:\n",
    "        print(number, \"is unfortunately not a lucky number.\")\n",
    "        print(\"Maybe you should stay in bed today.\")\n",
    "        print(\"We wish you all the best anyway.\")"
   ]
  },
  {
   "cell_type": "code",
   "execution_count": null,
   "id": "4b34d0e7",
   "metadata": {
    "lang": "en"
   },
   "outputs": [],
   "source": [
    "is_lucky_number_2(1)"
   ]
  },
  {
   "cell_type": "code",
   "execution_count": null,
   "id": "2c631cc3",
   "metadata": {
    "lang": "en"
   },
   "outputs": [],
   "source": [
    "is_lucky_number_2(7)"
   ]
  },
  {
   "cell_type": "markdown",
   "id": "64833984",
   "metadata": {
    "lang": "en",
    "slideshow": {
     "slide_type": "subslide"
    }
   },
   "source": [
    "## Workshop\n",
    "\n",
    "- Notebook `workshop_060_introduction_part2`\n",
    "- Section \"Of legal age\""
   ]
  },
  {
   "cell_type": "code",
   "execution_count": null,
   "id": "6c7be30b",
   "metadata": {
    "lang": "en",
    "slideshow": {
     "slide_type": "subslide"
    }
   },
   "outputs": [],
   "source": [
    "def one_sided_if(number):\n",
    "    print(\"Before\")\n",
    "\n",
    "    if number == 7:\n",
    "        print(number, \"is a lucky number\")\n",
    "        print(\"Congratulations!\")\n",
    "\n",
    "    print(\"After\")"
   ]
  },
  {
   "cell_type": "code",
   "execution_count": null,
   "id": "0bbd6c37",
   "metadata": {
    "lang": "en",
    "tags": [
     "code-along"
    ]
   },
   "outputs": [],
   "source": []
  },
  {
   "cell_type": "code",
   "execution_count": null,
   "id": "902b4161",
   "metadata": {
    "lang": "en",
    "tags": [
     "code-along"
    ]
   },
   "outputs": [],
   "source": []
  },
  {
   "cell_type": "markdown",
   "id": "dd6b6fa8",
   "metadata": {
    "lang": "en",
    "slideshow": {
     "slide_type": "slide"
    }
   },
   "source": [
    "# Lists"
   ]
  },
  {
   "cell_type": "code",
   "execution_count": null,
   "id": "d06ce0d9",
   "metadata": {
    "lang": "en"
   },
   "outputs": [],
   "source": [
    "shopping_cart = [\"oatmeal\", \"coffee beans\", \"orange marmalade\"]"
   ]
  },
  {
   "cell_type": "markdown",
   "id": "5252008b",
   "metadata": {
    "lang": "en"
   },
   "source": [
    "The type of lists is `list`."
   ]
  },
  {
   "cell_type": "code",
   "execution_count": null,
   "id": "4d38fe5f",
   "metadata": {
    "lang": "en",
    "tags": [
     "code-along"
    ]
   },
   "outputs": [],
   "source": []
  },
  {
   "cell_type": "markdown",
   "id": "d4f5d9cd",
   "metadata": {
    "lang": "en",
    "slideshow": {
     "slide_type": "slide"
    }
   },
   "source": [
    "## Creating lists\n",
    "\n",
    "- Lists are created by enclosing their elements in square brackets.\n",
    "- The elements of a list can be any Python values.\n",
    "- A list can contain elements of different types."
   ]
  },
  {
   "cell_type": "code",
   "execution_count": null,
   "id": "d49602d2",
   "metadata": {
    "slideshow": {
     "slide_type": "subslide"
    }
   },
   "outputs": [],
   "source": [
    "list_1 = [1, 2, 3, 4, 5]\n",
    "list_2 = [\"string1\", \"another string\"]"
   ]
  },
  {
   "cell_type": "code",
   "execution_count": null,
   "id": "5cdbae5f",
   "metadata": {
    "tags": [
     "code-along"
    ]
   },
   "outputs": [],
   "source": []
  },
  {
   "cell_type": "code",
   "execution_count": null,
   "id": "58e48226",
   "metadata": {
    "tags": [
     "code-along"
    ]
   },
   "outputs": [],
   "source": []
  },
  {
   "cell_type": "code",
   "execution_count": null,
   "id": "d20873db",
   "metadata": {
    "slideshow": {
     "slide_type": "subslide"
    },
    "tags": [
     "code-along"
    ]
   },
   "outputs": [],
   "source": []
  },
  {
   "cell_type": "code",
   "execution_count": null,
   "id": "f6c1e498",
   "metadata": {
    "tags": [
     "code-along"
    ]
   },
   "outputs": [],
   "source": []
  },
  {
   "cell_type": "code",
   "execution_count": null,
   "id": "74d47022",
   "metadata": {
    "tags": [
     "code-along"
    ]
   },
   "outputs": [],
   "source": []
  },
  {
   "cell_type": "markdown",
   "id": "6baf18d1",
   "metadata": {
    "lang": "en",
    "slideshow": {
     "slide_type": "subslide"
    }
   },
   "source": [
    "The elements of a list do not have to be literals, it can also contain values of variables or expressions:"
   ]
  },
  {
   "cell_type": "code",
   "execution_count": null,
   "id": "37351a87",
   "metadata": {
    "lang": "en"
   },
   "outputs": [],
   "source": [
    "product_1 = \"oatmeal\"\n",
    "product_2 = \"coffee beans\"\n",
    "product_3 = \"orange marmalade\"\n",
    "shoopping_cart = [product_1, product_2, product_3, \"strawberry jam\"]\n",
    "shopping_cart"
   ]
  },
  {
   "cell_type": "markdown",
   "id": "c48c1a42",
   "metadata": {
    "lang": "en",
    "slideshow": {
     "slide_type": "subslide"
    }
   },
   "source": [
    "Once a list has been created, it has no connection to the variables that were\n",
    "used in its construction:"
   ]
  },
  {
   "cell_type": "code",
   "execution_count": null,
   "id": "d2464e80",
   "metadata": {
    "lang": "en",
    "tags": [
     "code-along"
    ]
   },
   "outputs": [],
   "source": []
  },
  {
   "cell_type": "markdown",
   "id": "a3251808",
   "metadata": {
    "lang": "en",
    "slideshow": {
     "slide_type": "subslide"
    }
   },
   "source": [
    "The `list()` function can be used to convert some other data types into lists.\n",
    "\n",
    "At the moment we only know lists and strings as possible argument types:"
   ]
  },
  {
   "cell_type": "code",
   "execution_count": null,
   "id": "443ca2a2",
   "metadata": {
    "tags": [
     "code-along"
    ]
   },
   "outputs": [],
   "source": []
  },
  {
   "cell_type": "code",
   "execution_count": null,
   "id": "9abcddf0",
   "metadata": {
    "tags": [
     "code-along"
    ]
   },
   "outputs": [],
   "source": []
  },
  {
   "cell_type": "markdown",
   "id": "263b5118",
   "metadata": {
    "lang": "en",
    "slideshow": {
     "slide_type": "slide"
    }
   },
   "source": [
    "## Accessing list items"
   ]
  },
  {
   "cell_type": "code",
   "execution_count": null,
   "id": "a35e8c8d",
   "metadata": {},
   "outputs": [],
   "source": [
    "number_list = [0, 1, 2, 3]"
   ]
  },
  {
   "cell_type": "code",
   "execution_count": null,
   "id": "f875d8b7",
   "metadata": {
    "tags": [
     "code-along"
    ]
   },
   "outputs": [],
   "source": []
  },
  {
   "cell_type": "code",
   "execution_count": null,
   "id": "03d885cd",
   "metadata": {
    "tags": [
     "code-along"
    ]
   },
   "outputs": [],
   "source": []
  },
  {
   "cell_type": "code",
   "execution_count": null,
   "id": "f3147cf7",
   "metadata": {
    "tags": [
     "code-along"
    ]
   },
   "outputs": [],
   "source": []
  },
  {
   "cell_type": "markdown",
   "id": "13c623fc",
   "metadata": {
    "lang": "en",
    "slideshow": {
     "slide_type": "slide"
    }
   },
   "source": [
    "## Length of a list"
   ]
  },
  {
   "cell_type": "code",
   "execution_count": null,
   "id": "c30ef8b6",
   "metadata": {},
   "outputs": [],
   "source": [
    "number_list"
   ]
  },
  {
   "cell_type": "code",
   "execution_count": null,
   "id": "d767f76b",
   "metadata": {
    "tags": [
     "code-along"
    ]
   },
   "outputs": [],
   "source": []
  },
  {
   "cell_type": "markdown",
   "id": "9fb44f7c",
   "metadata": {
    "lang": "en",
    "slideshow": {
     "slide_type": "slide"
    }
   },
   "source": [
    "## Modification of list entries"
   ]
  },
  {
   "cell_type": "code",
   "execution_count": null,
   "id": "a66b9468",
   "metadata": {
    "tags": [
     "code-along"
    ]
   },
   "outputs": [],
   "source": []
  },
  {
   "cell_type": "markdown",
   "id": "93b9e9c5",
   "metadata": {
    "lang": "en",
    "slideshow": {
     "slide_type": "slide"
    }
   },
   "source": [
    "## Inserting and deleting items\n",
    "\n",
    "If possible elements should be inserted at the end of a list"
   ]
  },
  {
   "cell_type": "code",
   "execution_count": null,
   "id": "2edb259d",
   "metadata": {
    "tags": [
     "code-along"
    ]
   },
   "outputs": [],
   "source": []
  },
  {
   "cell_type": "code",
   "execution_count": null,
   "id": "e995d4b8",
   "metadata": {
    "tags": [
     "code-along"
    ]
   },
   "outputs": [],
   "source": []
  },
  {
   "cell_type": "code",
   "execution_count": null,
   "id": "746cce33",
   "metadata": {
    "tags": [
     "code-along"
    ]
   },
   "outputs": [],
   "source": []
  },
  {
   "cell_type": "code",
   "execution_count": null,
   "id": "f8afddec",
   "metadata": {
    "tags": [
     "code-along"
    ]
   },
   "outputs": [],
   "source": []
  },
  {
   "cell_type": "code",
   "execution_count": null,
   "id": "017aa201",
   "metadata": {
    "tags": [
     "code-along"
    ]
   },
   "outputs": [],
   "source": []
  },
  {
   "cell_type": "code",
   "execution_count": null,
   "id": "2b92fdce",
   "metadata": {
    "tags": [
     "code-along"
    ]
   },
   "outputs": [],
   "source": []
  },
  {
   "cell_type": "markdown",
   "id": "55b0809b",
   "metadata": {
    "lang": "en",
    "lines_to_next_cell": 2,
    "slideshow": {
     "slide_type": "subslide"
    }
   },
   "source": [
    "## Mini workshop\n",
    "\n",
    "- Notebook `workshop_100_lists_part2`\n",
    "- Section Colors"
   ]
  },
  {
   "cell_type": "markdown",
   "id": "87d28f20",
   "metadata": {
    "lang": "en",
    "slideshow": {
     "slide_type": "slide"
    }
   },
   "source": [
    "## Iteration over lists\n",
    "\n",
    "In Python, you can iterate over lists using the `for` loop.\n",
    "\n",
    "The `for` loop corresponds to the range-based for from C++,\n",
    "`for-in`/`for-of` from JavaScript or the `for-each` loop\n",
    "from Java, not the classic `for` loop\n",
    "from C, C++ or Java."
   ]
  },
  {
   "cell_type": "code",
   "execution_count": null,
   "id": "1410159b",
   "metadata": {
    "slideshow": {
     "slide_type": "subslide"
    }
   },
   "outputs": [],
   "source": [
    "number_list = [0, 1, 2, 3, 4]\n",
    "number_list"
   ]
  },
  {
   "cell_type": "code",
   "execution_count": null,
   "id": "7c4aeaf9",
   "metadata": {
    "tags": [
     "code-along"
    ]
   },
   "outputs": [],
   "source": []
  },
  {
   "cell_type": "markdown",
   "id": "e450361f",
   "metadata": {
    "lang": "en",
    "slideshow": {
     "slide_type": "subslide"
    }
   },
   "source": [
    "## Syntax of `for` loops\n",
    "\n",
    "```pythons\n",
    "for <element-var> in <liste>:\n",
    "    <rumpf>\n",
    "```"
   ]
  },
  {
   "cell_type": "markdown",
   "id": "112779e4",
   "metadata": {
    "lang": "en",
    "slideshow": {
     "slide_type": "subslide"
    }
   },
   "source": [
    "## Workshop\n",
    "\n",
    "- Notebook `workshop_060_introduction_part2`\n",
    "- Section \"Shopping list\""
   ]
  },
  {
   "cell_type": "code",
   "execution_count": null,
   "id": "2d53ea2d",
   "metadata": {},
   "outputs": [],
   "source": []
  }
 ],
 "metadata": {
  "jupytext": {
   "cell_metadata_json": true,
   "encoding": "# -*- coding: utf-8 -*-",
   "formats": "ipynb"
  },
  "kernelspec": {
   "display_name": "Python 3 (ipykernel)",
   "language": "python",
   "name": "python3"
  }
 },
 "nbformat": 4,
 "nbformat_minor": 5
}
