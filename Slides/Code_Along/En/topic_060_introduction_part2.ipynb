{
 "cells": [
  {
   "cell_type": "markdown",
   "id": "dec619a7",
   "metadata": {
    "lang": "en",
    "lines_to_next_cell": 2,
    "slideshow": {
     "slide_type": "slide"
    }
   },
   "source": [
    "<img src=\"img/python-logo-notext.svg\"\n",
    "     style=\"display:block;margin:auto;width:10%\"/>\n",
    "<br>\n",
    "<div style=\"text-align:center; font-size:200%;\"><b>Introduction to Python: Part 2</b></div>\n",
    "<br/>\n",
    "<div style=\"text-align:center;\">Dr. Matthias Hölzl</div>"
   ]
  },
  {
   "cell_type": "markdown",
   "id": "6ea0a06d",
   "metadata": {
    "lang": "en",
    "slideshow": {
     "slide_type": "slide"
    }
   },
   "source": [
    "# Convertsion to strings\n",
    "\n",
    "Python offers two functions that can be used to convert any value into a string:\n",
    "\n",
    "- `repr` for a \"program-like\" representation (how the value could be generated in the program)\n",
    "- `str` for \"user-friendly\" rendering"
   ]
  },
  {
   "cell_type": "code",
   "execution_count": null,
   "id": "ff3082d0",
   "metadata": {
    "tags": [
     "code-along"
    ]
   },
   "outputs": [],
   "source": []
  },
  {
   "cell_type": "code",
   "execution_count": null,
   "id": "04610388",
   "metadata": {
    "tags": [
     "code-along"
    ]
   },
   "outputs": [],
   "source": []
  },
  {
   "cell_type": "markdown",
   "id": "9100adab",
   "metadata": {
    "lang": "en"
   },
   "source": [
    "For some data types, `str` and `repr` return the same string:"
   ]
  },
  {
   "cell_type": "code",
   "execution_count": null,
   "id": "dcf92c60",
   "metadata": {
    "tags": [
     "code-along"
    ]
   },
   "outputs": [],
   "source": []
  },
  {
   "cell_type": "markdown",
   "id": "609fad6a",
   "metadata": {
    "lang": "en",
    "slideshow": {
     "slide_type": "slide"
    }
   },
   "source": [
    "# Custom data types\n",
    "\n",
    "In Python, user-defined data types (classes) can be defined:"
   ]
  },
  {
   "cell_type": "code",
   "execution_count": null,
   "id": "58b76b87",
   "metadata": {
    "tags": [
     "code-along"
    ]
   },
   "outputs": [],
   "source": []
  },
  {
   "cell_type": "markdown",
   "id": "a615d2f2",
   "metadata": {
    "lang": "en"
   },
   "source": [
    "Class names are in pascal case (i.e. capital letters seperate components of names), e.g. `MyVerySpecialClass`."
   ]
  },
  {
   "cell_type": "markdown",
   "id": "fc3ad4df",
   "metadata": {
    "lang": "en",
    "slideshow": {
     "slide_type": "subslide"
    }
   },
   "source": [
    "Instances of custom classes are created by calling the class name as a function. Some of the build-in operators and\n",
    "Functions can be used without extra effort:"
   ]
  },
  {
   "cell_type": "code",
   "execution_count": null,
   "id": "443f52fd",
   "metadata": {
    "slideshow": {
     "slide_type": "subslide"
    },
    "tags": [
     "code-along"
    ]
   },
   "outputs": [],
   "source": []
  },
  {
   "cell_type": "code",
   "execution_count": null,
   "id": "7e77186d",
   "metadata": {
    "tags": [
     "code-along"
    ]
   },
   "outputs": [],
   "source": []
  },
  {
   "cell_type": "code",
   "execution_count": null,
   "id": "28578450",
   "metadata": {
    "tags": [
     "code-along"
    ]
   },
   "outputs": [],
   "source": []
  },
  {
   "cell_type": "code",
   "execution_count": null,
   "id": "7361f8d7",
   "metadata": {
    "tags": [
     "code-along"
    ]
   },
   "outputs": [],
   "source": []
  },
  {
   "cell_type": "markdown",
   "id": "d5c534d6",
   "metadata": {
    "lang": "en"
   },
   "source": [
    "Much like dictionaries can be assigned new entries, one can\n",
    "assign new *attributes* to user-defined data types, but the `.` notation is used instead of the indexing notation `[]`:"
   ]
  },
  {
   "cell_type": "code",
   "execution_count": null,
   "id": "83970e98",
   "metadata": {
    "tags": [
     "code-along"
    ]
   },
   "outputs": [],
   "source": []
  },
  {
   "cell_type": "code",
   "execution_count": null,
   "id": "d33f2737",
   "metadata": {
    "tags": [
     "code-along"
    ]
   },
   "outputs": [],
   "source": []
  },
  {
   "cell_type": "markdown",
   "id": "867a24d2",
   "metadata": {
    "lang": "en",
    "slideshow": {
     "slide_type": "subslide"
    }
   },
   "source": [
    "Unlike dictionaries, we typically *do not* create any *new* attributes for an instance after creation!\n",
    "\n",
    "Instead, all instances should have the same shape. We initialize all attributes of an object when it is constructed. This can be done with the `__init__()` method.\n",
    "\n",
    "The `__init__()` method always has (at least) one parameter, named `self` by convention:"
   ]
  },
  {
   "cell_type": "code",
   "execution_count": null,
   "id": "886c8aed",
   "metadata": {
    "slideshow": {
     "slide_type": "subslide"
    },
    "tags": [
     "code-along"
    ]
   },
   "outputs": [],
   "source": []
  },
  {
   "cell_type": "code",
   "execution_count": null,
   "id": "e93e8e97",
   "metadata": {
    "tags": [
     "code-along"
    ]
   },
   "outputs": [],
   "source": []
  },
  {
   "cell_type": "code",
   "execution_count": null,
   "id": "eb62b21e",
   "metadata": {
    "tags": [
     "code-along"
    ]
   },
   "outputs": [],
   "source": []
  },
  {
   "cell_type": "markdown",
   "id": "aa4b654a",
   "metadata": {
    "lang": "en",
    "slideshow": {
     "slide_type": "subslide"
    }
   },
   "source": [
    "The values ​​of attributes can be changed:"
   ]
  },
  {
   "cell_type": "code",
   "execution_count": null,
   "id": "ad774dad",
   "metadata": {
    "tags": [
     "code-along"
    ]
   },
   "outputs": [],
   "source": []
  },
  {
   "cell_type": "markdown",
   "id": "39e034e3",
   "metadata": {
    "lang": "en",
    "slideshow": {
     "slide_type": "subslide"
    }
   },
   "source": [
    "In many cases, when constructing an object, we would like to specify the attributes of the instance.\n",
    "This is made possible by passing additional arguments to the `__init__()` method."
   ]
  },
  {
   "cell_type": "code",
   "execution_count": null,
   "id": "ddf3d460",
   "metadata": {
    "slideshow": {
     "slide_type": "subslide"
    },
    "tags": [
     "code-along"
    ]
   },
   "outputs": [],
   "source": []
  },
  {
   "cell_type": "code",
   "execution_count": null,
   "id": "efbb0540",
   "metadata": {
    "lines_to_next_cell": 2,
    "tags": [
     "code-along"
    ]
   },
   "outputs": [],
   "source": []
  },
  {
   "cell_type": "markdown",
   "id": "187138dd",
   "metadata": {
    "lang": "en",
    "slideshow": {
     "slide_type": "subslide"
    }
   },
   "source": [
    "## Mini workshop\n",
    "\n",
    "- Notebook `workshop_062_objects`\n",
    "- Section \"Motor Vehicles (Part 1)\""
   ]
  },
  {
   "cell_type": "code",
   "execution_count": 44,
   "id": "ecb55755",
   "metadata": {},
   "outputs": [],
   "source": [
    "class MyClass:\n",
    "    \"\"\"\n",
    "    This is my class.\n",
    "    \"\"\""
   ]
  },
  {
   "cell_type": "code",
   "execution_count": 45,
   "id": "f66dc322",
   "metadata": {},
   "outputs": [
    {
     "data": {
      "text/plain": [
       "<__main__.MyClass at 0x218ec8894f0>"
      ]
     },
     "execution_count": 45,
     "metadata": {},
     "output_type": "execute_result"
    }
   ],
   "source": [
    "MyClass()"
   ]
  },
  {
   "cell_type": "code",
   "execution_count": 46,
   "id": "509401e2",
   "metadata": {},
   "outputs": [],
   "source": [
    "MyClass?"
   ]
  },
  {
   "cell_type": "code",
   "execution_count": 47,
   "id": "4c627ecb",
   "metadata": {},
   "outputs": [
    {
     "name": "stdout",
     "output_type": "stream",
     "text": [
      "Help on class MyClass in module __main__:\n",
      "\n",
      "class MyClass(builtins.object)\n",
      " |  This is my class.\n",
      " |  \n",
      " |  Data descriptors defined here:\n",
      " |  \n",
      " |  __dict__\n",
      " |      dictionary for instance variables (if defined)\n",
      " |  \n",
      " |  __weakref__\n",
      " |      list of weak references to the object (if defined)\n",
      "\n"
     ]
    }
   ],
   "source": [
    "help(MyClass)"
   ]
  },
  {
   "cell_type": "code",
   "execution_count": 48,
   "id": "b16be6b6",
   "metadata": {},
   "outputs": [
    {
     "data": {
      "text/plain": [
       "{'x': 1.0, 'y': 2.0}"
      ]
     },
     "execution_count": 48,
     "metadata": {},
     "output_type": "execute_result"
    }
   ],
   "source": [
    "p1 = {\"x\": 1.0, \"y\": 2.0}\n",
    "p1"
   ]
  },
  {
   "cell_type": "code",
   "execution_count": 49,
   "id": "c40500e6",
   "metadata": {},
   "outputs": [
    {
     "data": {
      "text/plain": [
       "1.0"
      ]
     },
     "execution_count": 49,
     "metadata": {},
     "output_type": "execute_result"
    }
   ],
   "source": [
    "p1[\"x\"]"
   ]
  },
  {
   "cell_type": "code",
   "execution_count": 50,
   "id": "6c50659e",
   "metadata": {},
   "outputs": [
    {
     "data": {
      "text/plain": [
       "{'x': 1.0, 'z': 2.0}"
      ]
     },
     "execution_count": 50,
     "metadata": {},
     "output_type": "execute_result"
    }
   ],
   "source": [
    "p2 = {\"x\": 1.0, \"z\": 2.0}\n",
    "p2"
   ]
  },
  {
   "cell_type": "markdown",
   "id": "0c3bd639",
   "metadata": {
    "lang": "en",
    "slideshow": {
     "slide_type": "subslide"
    }
   },
   "source": [
    "## Methods\n",
    "\n",
    "Classes can contain methods. Methods are functions that \"belong to an object\".\n",
    "We will see capabilities of methods that go beyond those of functions in the\n",
    "section on inheritance.\n",
    "\n",
    "Methods are called using \"dot-notation\": `my_object.method()`.\n",
    "\n",
    "Syntactically a method definion looks like a function definition, but nested\n",
    "inside the body of a class definition.\n",
    "\n",
    "Unlike many other languages, Python doesn't have an implicit `this` parameter\n",
    "when defining a method; the object on which the method is called must be\n",
    "specified as the first parameter of the definition. By convention, this\n",
    "parameter is named `self`, as in the `__init__()` method.\n",
    "\n",
    "The definition of a method that can be called with `my_object.method()` is thus\n",
    "as follows:"
   ]
  },
  {
   "cell_type": "code",
   "execution_count": 51,
   "id": "76aa8900",
   "metadata": {
    "slideshow": {
     "slide_type": "subslide"
    }
   },
   "outputs": [],
   "source": [
    "class MyClass:\n",
    "    def method(self):\n",
    "        print(f\"Called method on {self}\")"
   ]
  },
  {
   "cell_type": "code",
   "execution_count": 52,
   "id": "d8fb163e",
   "metadata": {},
   "outputs": [
    {
     "name": "stdout",
     "output_type": "stream",
     "text": [
      "<__main__.MyClass object at 0x00000218ED14EA00>\n",
      "Called method on <__main__.MyClass object at 0x00000218ED14EA00>\n"
     ]
    }
   ],
   "source": [
    "my_object = MyClass()\n",
    "print(my_object)\n",
    "my_object.method()"
   ]
  },
  {
   "cell_type": "markdown",
   "id": "c1cc92e8",
   "metadata": {
    "lang": "en",
    "slideshow": {
     "slide_type": "subslide"
    }
   },
   "source": [
    "We can add a method to move a point to our `Point` class:"
   ]
  },
  {
   "cell_type": "code",
   "execution_count": 53,
   "id": "2ccb319a",
   "metadata": {
    "slideshow": {
     "slide_type": "-"
    },
    "tags": [
     "code-along"
    ]
   },
   "outputs": [],
   "source": [
    "class PointV3:\n",
    "    def __init__(self, x=0.0, y=0.0):\n",
    "        self.x = x\n",
    "        self.y = y\n",
    "        \n",
    "    def move(self, dx=0.0, dy=0.0):\n",
    "        self.x += dx\n",
    "        self.y += dy\n",
    "    \n",
    "    def set_pos(self, x, y):\n",
    "        self.x = x\n",
    "        self.y = y"
   ]
  },
  {
   "cell_type": "code",
   "execution_count": 55,
   "id": "82e4bc33",
   "metadata": {
    "slideshow": {
     "slide_type": "subslide"
    },
    "tags": [
     "code-along"
    ]
   },
   "outputs": [
    {
     "name": "stdout",
     "output_type": "stream",
     "text": [
      "p.x = 2, p.y = 3\n",
      "0x218ecf9c910\n"
     ]
    }
   ],
   "source": [
    "p = PointV3(2, 3)\n",
    "print(f\"p.x = {p.x}, p.y = {p.y}\")\n",
    "print(hex(id(p)))"
   ]
  },
  {
   "cell_type": "code",
   "execution_count": 56,
   "id": "ad04bd66",
   "metadata": {
    "tags": [
     "code-along"
    ]
   },
   "outputs": [
    {
     "name": "stdout",
     "output_type": "stream",
     "text": [
      "p.x = 5, p.y = 7\n",
      "0x218ecf9c910\n"
     ]
    }
   ],
   "source": [
    "p.move(3, 4)\n",
    "print(f\"p.x = {p.x}, p.y = {p.y}\")\n",
    "print(hex(id(p)))"
   ]
  },
  {
   "cell_type": "code",
   "execution_count": 43,
   "id": "68c3e06e",
   "metadata": {},
   "outputs": [
    {
     "name": "stdout",
     "output_type": "stream",
     "text": [
      "p.x = 2, p.y = 3\n",
      "0x218eca7cf10\n"
     ]
    }
   ],
   "source": [
    "p.set_pos(2, 3)\n",
    "print(f\"p.x = {p.x}, p.y = {p.y}\")\n",
    "print(hex(id(p)))"
   ]
  },
  {
   "cell_type": "code",
   "execution_count": 37,
   "id": "3034c1b0",
   "metadata": {},
   "outputs": [
    {
     "name": "stdout",
     "output_type": "stream",
     "text": [
      "p2.x = 0.0\n"
     ]
    }
   ],
   "source": [
    "p2 = PointV3()\n",
    "print(f\"p2.x = {p2.x}\")"
   ]
  },
  {
   "cell_type": "markdown",
   "id": "f9179bde",
   "metadata": {
    "lang": "en",
    "slideshow": {
     "slide_type": "subslide"
    }
   },
   "source": [
    "## Mini workshop\n",
    "\n",
    "- Notebook `workshop_062_objects`\n",
    "- Section \"Motor Vehicles (Part 2)\""
   ]
  },
  {
   "cell_type": "markdown",
   "id": "ac1b7b45",
   "metadata": {
    "lang": "en",
    "slideshow": {
     "slide_type": "slide"
    }
   },
   "source": [
    "## The Python object model\n",
    "\n",
    "Dunder methods can be used to make user-defined data types act more like the built-in ones:"
   ]
  },
  {
   "cell_type": "code",
   "execution_count": 59,
   "id": "9eb67813",
   "metadata": {
    "tags": [
     "code-along"
    ]
   },
   "outputs": [
    {
     "name": "stdout",
     "output_type": "stream",
     "text": [
      "<__main__.PointV3 object at 0x00000218ECF9C910>\n",
      "<__main__.PointV3 object at 0x00000218ECF9C910>\n",
      "<__main__.PointV3 object at 0x00000218ECF9C910>\n"
     ]
    }
   ],
   "source": [
    "print(str(p))\n",
    "print(repr(p))\n",
    "print(p)"
   ]
  },
  {
   "cell_type": "markdown",
   "id": "e116a8f3",
   "metadata": {
    "lang": "en"
   },
   "source": [
    "By defining the method `__repr__(self)`, the string returned by `repr` can be defined for custom classes: The\n",
    "call `repr(x)` checks if `x` has a method `__repr__` and calls it if it exists."
   ]
  },
  {
   "cell_type": "code",
   "execution_count": 128,
   "id": "36de3984",
   "metadata": {
    "slideshow": {
     "slide_type": "subslide"
    },
    "tags": [
     "code-along"
    ]
   },
   "outputs": [],
   "source": [
    "class PointV4:\n",
    "    def __init__(self, x=0.0, y=0.0):\n",
    "        self.x = x\n",
    "        self.y = y\n",
    "    \n",
    "    def __repr__(self):\n",
    "        return f\"PointV4({self.x}, {self.y})\"\n",
    "    \n",
    "    def __str__(self):\n",
    "        return f\"P({self.x}, {self.y})\"\n",
    "    \n",
    "    def move(self, dx=0.0, dy=0.0):\n",
    "        self.x += dx\n",
    "        self.y += dy\n",
    "    \n",
    "    def __lt__(self, rhs):\n",
    "        if isinstance(rhs, PointV4):\n",
    "            return self.x < rhs.x\n",
    "        else:\n",
    "            try:\n",
    "                return self.x < rhs\n",
    "            except TypeError:\n",
    "                return False"
   ]
  },
  {
   "cell_type": "code",
   "execution_count": 129,
   "id": "88cfb319",
   "metadata": {
    "slideshow": {
     "slide_type": "subslide"
    },
    "tags": [
     "code-along"
    ]
   },
   "outputs": [
    {
     "name": "stdout",
     "output_type": "stream",
     "text": [
      "PointV4(2, 5)\n"
     ]
    }
   ],
   "source": [
    "p1 = PointV4(2, 5)\n",
    "print(repr(p1))"
   ]
  },
  {
   "cell_type": "markdown",
   "id": "4baa5475",
   "metadata": {
    "lang": "en"
   },
   "source": [
    "Similarly, if a `__str__()` method is defined it will be used by the `str()` function. However, the function `str()` delegates to `__repr__()` if no `__str__` method is defined:"
   ]
  },
  {
   "cell_type": "code",
   "execution_count": 130,
   "id": "83fdcfe2",
   "metadata": {
    "tags": [
     "code-along"
    ]
   },
   "outputs": [
    {
     "name": "stdout",
     "output_type": "stream",
     "text": [
      "P(2, 5)\n",
      "P(2, 5)\n"
     ]
    }
   ],
   "source": [
    "print(str(p1))\n",
    "print(p1)"
   ]
  },
  {
   "cell_type": "code",
   "execution_count": 133,
   "id": "2b17179c",
   "metadata": {},
   "outputs": [
    {
     "data": {
      "text/plain": [
       "False"
      ]
     },
     "execution_count": 133,
     "metadata": {},
     "output_type": "execute_result"
    }
   ],
   "source": [
    "PointV4(1.0) < \"Foo\""
   ]
  },
  {
   "cell_type": "code",
   "execution_count": 134,
   "id": "66be3e80",
   "metadata": {},
   "outputs": [
    {
     "ename": "TypeError",
     "evalue": "'<' not supported between instances of 'int' and 'str'",
     "output_type": "error",
     "traceback": [
      "\u001b[1;31m---------------------------------------------------------------------------\u001b[0m",
      "\u001b[1;31mTypeError\u001b[0m                                 Traceback (most recent call last)",
      "Input \u001b[1;32mIn [134]\u001b[0m, in \u001b[0;36m<module>\u001b[1;34m\u001b[0m\n\u001b[1;32m----> 1\u001b[0m \u001b[38;5;241;43m1\u001b[39;49m\u001b[43m \u001b[49m\u001b[38;5;241;43m<\u001b[39;49m\u001b[43m \u001b[49m\u001b[38;5;124;43m\"\u001b[39;49m\u001b[38;5;124;43m\"\u001b[39;49m\n",
      "\u001b[1;31mTypeError\u001b[0m: '<' not supported between instances of 'int' and 'str'"
     ]
    }
   ],
   "source": [
    "1 < \"\""
   ]
  },
  {
   "cell_type": "code",
   "execution_count": 110,
   "id": "83183e08",
   "metadata": {},
   "outputs": [
    {
     "data": {
      "text/plain": [
       "True"
      ]
     },
     "execution_count": 110,
     "metadata": {},
     "output_type": "execute_result"
    }
   ],
   "source": [
    "PointV4(1.0) < 2"
   ]
  },
  {
   "cell_type": "code",
   "execution_count": 103,
   "id": "4fb2f87a",
   "metadata": {},
   "outputs": [
    {
     "data": {
      "text/plain": [
       "False"
      ]
     },
     "execution_count": 103,
     "metadata": {},
     "output_type": "execute_result"
    }
   ],
   "source": [
    "isinstance(123, PointV4)"
   ]
  },
  {
   "cell_type": "markdown",
   "id": "cd3a754a",
   "metadata": {
    "lang": "en",
    "slideshow": {
     "slide_type": "subslide"
    }
   },
   "source": [
    "Python offers many dunder methods: see the documentation of the\n",
    "[Python data model](https://docs.python.org/3/reference/datamodel.html)."
   ]
  },
  {
   "cell_type": "code",
   "execution_count": 192,
   "id": "19628a99",
   "metadata": {
    "slideshow": {
     "slide_type": "subslide"
    },
    "tags": [
     "code-along"
    ]
   },
   "outputs": [],
   "source": [
    "class Point:\n",
    "    def __init__(self, x=0.0, y=0.0):\n",
    "        self.x = x\n",
    "        self.y = y\n",
    "    \n",
    "    def __repr__(self):\n",
    "        return f\"Point({self.x}, {self.y})\"\n",
    "    \n",
    "    def __eq__(self, other: object) -> bool:\n",
    "        if isinstance(other, Point):\n",
    "            return self.x == other.x and self.y == other.y\n",
    "        return False\n",
    "    \n",
    "    def __add__(self, other):\n",
    "        return Point(self.x + other.x, self.y + other.y)\n",
    "    \n",
    "    def __sub__(self, other):\n",
    "        return Point(self.x - other.x, self.y - other.y)\n",
    "    \n",
    "    def __mul__(self, other):\n",
    "        return Point(other * self.x, other * self.y)\n",
    "    \n",
    "    def __rmul__(self, other):\n",
    "        return Point(other * self.x, other * self.y)\n",
    "    \n",
    "    def move(self, dx=0.0, dy=0.0):\n",
    "        self.x += dx\n",
    "        self.y += dy"
   ]
  },
  {
   "cell_type": "code",
   "execution_count": 204,
   "id": "4c12b5a5",
   "metadata": {
    "slideshow": {
     "slide_type": "subslide"
    },
    "tags": [
     "code-along"
    ]
   },
   "outputs": [],
   "source": [
    "p1 = Point(1, 2)\n",
    "p2 = Point(2, 3)\n",
    "p3 = Point(2, 3)"
   ]
  },
  {
   "cell_type": "code",
   "execution_count": 194,
   "id": "7fc0ddb9",
   "metadata": {
    "tags": [
     "code-along"
    ]
   },
   "outputs": [],
   "source": [
    "assert repr(p1) == \"Point(1, 2)\""
   ]
  },
  {
   "cell_type": "code",
   "execution_count": 195,
   "id": "4d61c00a",
   "metadata": {
    "tags": [
     "code-along"
    ]
   },
   "outputs": [],
   "source": [
    "assert p1 != p2, \"p1 should not equal p2\"\n",
    "assert p1 != 1\n",
    "assert p2 == p3"
   ]
  },
  {
   "cell_type": "code",
   "execution_count": 196,
   "id": "5aa0b09e",
   "metadata": {
    "slideshow": {
     "slide_type": "subslide"
    },
    "tags": [
     "code-along"
    ]
   },
   "outputs": [],
   "source": [
    "assert p1 + p2 == Point(3, 5)"
   ]
  },
  {
   "cell_type": "code",
   "execution_count": 197,
   "id": "b51f9686",
   "metadata": {
    "tags": [
     "code-along"
    ]
   },
   "outputs": [],
   "source": [
    "assert p2 - p1 == Point(1, 1)"
   ]
  },
  {
   "cell_type": "code",
   "execution_count": 198,
   "id": "eb08321c",
   "metadata": {
    "slideshow": {
     "slide_type": "subslide"
    },
    "tags": [
     "code-along"
    ]
   },
   "outputs": [],
   "source": [
    "assert p1 * 3 == Point(3, 6)"
   ]
  },
  {
   "cell_type": "code",
   "execution_count": 200,
   "id": "6ba829b3",
   "metadata": {
    "lines_to_next_cell": 2,
    "slideshow": {
     "slide_type": "subslide"
    },
    "tags": [
     "code-along"
    ]
   },
   "outputs": [],
   "source": [
    "assert 3 * p1 == Point(3, 6)"
   ]
  },
  {
   "cell_type": "code",
   "execution_count": 212,
   "id": "f58f98e8",
   "metadata": {},
   "outputs": [],
   "source": [
    "p1 = Point(1, 2)\n",
    "p1 += p2\n",
    "assert p1 == Point(3, 5)"
   ]
  },
  {
   "cell_type": "markdown",
   "id": "92108f69",
   "metadata": {
    "lang": "en",
    "slideshow": {
     "slide_type": "subslide"
    }
   },
   "source": [
    "## Mini workshop\n",
    "\n",
    "- Notebook `workshop_062_objects`\n",
    "- Section \"Motor Vehicles (Part 3)\""
   ]
  },
  {
   "cell_type": "markdown",
   "id": "890d4275",
   "metadata": {
    "lang": "en",
    "slideshow": {
     "slide_type": "subslide"
    }
   },
   "source": [
    "It is possible to define a custom type whose instances behave like lists. To simplify the implementation we delegate the handling of the elements to a list that is stored as an attribute. This kind of composition is found very frequently in object oriented programming."
   ]
  },
  {
   "cell_type": "code",
   "execution_count": 262,
   "id": "abcfd778",
   "metadata": {
    "tags": [
     "code-along"
    ]
   },
   "outputs": [],
   "source": [
    "class MyBadList:\n",
    "    def __init__(self, elements=None):\n",
    "        if elements is None:\n",
    "            elements = []\n",
    "        self.my_private_storage = elements\n",
    "    \n",
    "    def __getitem__(self, n):\n",
    "        return self.my_private_storage[n]\n",
    "    \n",
    "    def __len__(self):\n",
    "        return len(self.my_private_storage)\n",
    "    \n",
    "    def __repr__(self):\n",
    "        return f\"MyBadList({repr(self.my_private_storage)})\"\n",
    "    \n",
    "    def append(self, element):\n",
    "        self.my_private_storage.append(element)\n",
    "        self.my_private_storage.append(element)"
   ]
  },
  {
   "cell_type": "code",
   "execution_count": 263,
   "id": "6617c591",
   "metadata": {
    "slideshow": {
     "slide_type": "subslide"
    },
    "tags": [
     "code-along"
    ]
   },
   "outputs": [
    {
     "data": {
      "text/plain": [
       "MyBadList({0: 1, 1: 2, 2: 3})"
      ]
     },
     "execution_count": 263,
     "metadata": {},
     "output_type": "execute_result"
    }
   ],
   "source": [
    "my_list = MyBadList([1, 2, 3])\n",
    "my_list"
   ]
  },
  {
   "cell_type": "code",
   "execution_count": 264,
   "id": "3aec5873",
   "metadata": {
    "slideshow": {
     "slide_type": "subslide"
    },
    "tags": [
     "code-along"
    ]
   },
   "outputs": [
    {
     "data": {
      "text/plain": [
       "3"
      ]
     },
     "execution_count": 264,
     "metadata": {},
     "output_type": "execute_result"
    }
   ],
   "source": [
    "len(my_list)"
   ]
  },
  {
   "cell_type": "code",
   "execution_count": 265,
   "id": "23d63bcd",
   "metadata": {
    "tags": [
     "code-along"
    ]
   },
   "outputs": [
    {
     "name": "stdout",
     "output_type": "stream",
     "text": [
      "1\n",
      "2\n",
      "3\n"
     ]
    },
    {
     "ename": "KeyError",
     "evalue": "3",
     "output_type": "error",
     "traceback": [
      "\u001b[1;31m---------------------------------------------------------------------------\u001b[0m",
      "\u001b[1;31mKeyError\u001b[0m                                  Traceback (most recent call last)",
      "Input \u001b[1;32mIn [265]\u001b[0m, in \u001b[0;36m<module>\u001b[1;34m\u001b[0m\n\u001b[1;32m----> 1\u001b[0m \u001b[38;5;28;01mfor\u001b[39;00m i \u001b[38;5;129;01min\u001b[39;00m my_list:\n\u001b[0;32m      2\u001b[0m     \u001b[38;5;28mprint\u001b[39m(i)\n",
      "Input \u001b[1;32mIn [262]\u001b[0m, in \u001b[0;36mMyBadList.__getitem__\u001b[1;34m(self, n)\u001b[0m\n\u001b[0;32m      9\u001b[0m \u001b[38;5;28;01mdef\u001b[39;00m \u001b[38;5;21m__getitem__\u001b[39m(\u001b[38;5;28mself\u001b[39m, n):\n\u001b[1;32m---> 10\u001b[0m     \u001b[38;5;28;01mreturn\u001b[39;00m \u001b[38;5;28;43mself\u001b[39;49m\u001b[38;5;241;43m.\u001b[39;49m\u001b[43mmy_private_storage\u001b[49m\u001b[43m[\u001b[49m\u001b[43mn\u001b[49m\u001b[43m]\u001b[49m\n",
      "\u001b[1;31mKeyError\u001b[0m: 3"
     ]
    }
   ],
   "source": [
    "for i in my_list:\n",
    "    print(i)"
   ]
  },
  {
   "cell_type": "code",
   "execution_count": 258,
   "id": "c1c7ca7e",
   "metadata": {
    "tags": [
     "code-along"
    ]
   },
   "outputs": [
    {
     "data": {
      "text/plain": [
       "2"
      ]
     },
     "execution_count": 258,
     "metadata": {},
     "output_type": "execute_result"
    }
   ],
   "source": [
    "my_list[1]"
   ]
  },
  {
   "cell_type": "code",
   "execution_count": 259,
   "id": "cad9e74a",
   "metadata": {
    "lines_to_next_cell": 2,
    "tags": [
     "code-along"
    ]
   },
   "outputs": [],
   "source": [
    "my_list.append(4)"
   ]
  },
  {
   "cell_type": "code",
   "execution_count": 260,
   "id": "788e8935",
   "metadata": {},
   "outputs": [
    {
     "data": {
      "text/plain": [
       "MyBadList([1, 2, 3, 4, 4])"
      ]
     },
     "execution_count": 260,
     "metadata": {},
     "output_type": "execute_result"
    }
   ],
   "source": [
    "my_list"
   ]
  },
  {
   "cell_type": "markdown",
   "id": "3148850d",
   "metadata": {
    "lang": "en",
    "slideshow": {
     "slide_type": "slide"
    }
   },
   "source": [
    "## Dataclasses\n",
    "\n",
    "Definition of a class in which attributes are more visible, representation\n",
    "and equality are predefined, etc.\n",
    "\n",
    "The [documentation](https://docs.python.org/3/library/dataclasses.html)\n",
    "includes other options."
   ]
  },
  {
   "cell_type": "code",
   "execution_count": null,
   "id": "c646dfff",
   "metadata": {
    "slideshow": {
     "slide_type": "subslide"
    },
    "tags": [
     "code-along"
    ]
   },
   "outputs": [],
   "source": []
  },
  {
   "cell_type": "code",
   "execution_count": null,
   "id": "fc8030dd",
   "metadata": {
    "tags": [
     "code-along"
    ]
   },
   "outputs": [],
   "source": []
  },
  {
   "cell_type": "code",
   "execution_count": null,
   "id": "7a910a3d",
   "metadata": {
    "tags": [
     "code-along"
    ]
   },
   "outputs": [],
   "source": []
  },
  {
   "cell_type": "code",
   "execution_count": null,
   "id": "3cbc8492",
   "metadata": {
    "slideshow": {
     "slide_type": "subslide"
    },
    "tags": [
     "code-along"
    ]
   },
   "outputs": [],
   "source": []
  },
  {
   "cell_type": "code",
   "execution_count": null,
   "id": "206f69cb",
   "metadata": {
    "tags": [
     "code-along"
    ]
   },
   "outputs": [],
   "source": []
  },
  {
   "cell_type": "markdown",
   "id": "a80ec2c2",
   "metadata": {
    "lang": "en",
    "slideshow": {
     "slide_type": "subslide"
    }
   },
   "source": [
    "Dataclasses ensure that all default values are immutable:"
   ]
  },
  {
   "cell_type": "code",
   "execution_count": null,
   "id": "0e260612",
   "metadata": {
    "tags": [
     "code-along"
    ]
   },
   "outputs": [],
   "source": []
  },
  {
   "cell_type": "code",
   "execution_count": null,
   "id": "502857f3",
   "metadata": {
    "tags": [
     "code-along"
    ]
   },
   "outputs": [],
   "source": []
  },
  {
   "cell_type": "code",
   "execution_count": null,
   "id": "f4578e7f",
   "metadata": {
    "tags": [
     "code-along"
    ]
   },
   "outputs": [],
   "source": []
  },
  {
   "cell_type": "markdown",
   "id": "70636fb1",
   "metadata": {
    "lang": "en",
    "slideshow": {
     "slide_type": "subslide"
    }
   },
   "source": [
    "## Workshop\n",
    "\n",
    "- Notebook `workshop_062_objects`\n",
    "- Section \"Shopping list\""
   ]
  },
  {
   "cell_type": "code",
   "execution_count": null,
   "id": "7a6a7c9c",
   "metadata": {},
   "outputs": [],
   "source": []
  }
 ],
 "metadata": {
  "jupytext": {
   "cell_metadata_json": true,
   "encoding": "# -*- coding: utf-8 -*-",
   "formats": "ipynb"
  },
  "kernelspec": {
   "display_name": "Python 3 (ipykernel)",
   "language": "python",
   "name": "python3"
  },
  "language_info": {
   "codemirror_mode": {
    "name": "ipython",
    "version": 3
   },
   "file_extension": ".py",
   "mimetype": "text/x-python",
   "name": "python",
   "nbconvert_exporter": "python",
   "pygments_lexer": "ipython3",
   "version": "3.9.10"
  },
  "nbTranslate": {
   "displayLangs": [
    "en",
    "de"
   ],
   "hotkey": "alt-t",
   "langInMainMenu": true,
   "sourceLang": "de",
   "targetLang": "en",
   "useGoogleTranslate": true
  }
 },
 "nbformat": 4,
 "nbformat_minor": 5
}
