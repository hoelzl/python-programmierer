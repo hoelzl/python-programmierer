{
 "cells": [
  {
   "cell_type": "markdown",
   "id": "655dc0dd",
   "metadata": {
    "lang": "en"
   },
   "source": [
    "# Playground\n",
    "\n",
    "An empty notebook for experiments and small examples."
   ]
  },
  {
   "cell_type": "code",
   "execution_count": null,
   "id": "3991be43",
   "metadata": {},
   "outputs": [],
   "source": []
  }
 ],
 "metadata": {
  "jupytext": {
   "cell_metadata_json": true,
   "encoding": "# -*- coding: utf-8 -*-",
   "formats": "ipynb"
  },
  "kernelspec": {
   "display_name": "Python 3 (ipykernel)",
   "language": "python",
   "name": "python3"
  }
 },
 "nbformat": 4,
 "nbformat_minor": 5
}
