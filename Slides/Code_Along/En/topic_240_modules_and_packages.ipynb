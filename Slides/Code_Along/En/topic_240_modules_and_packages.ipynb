{
 "cells": [
  {
   "cell_type": "markdown",
   "id": "e9753d91",
   "metadata": {
    "lang": "en",
    "lines_to_next_cell": 2,
    "slideshow": {
     "slide_type": "slide"
    }
   },
   "source": [
    "<img src=\"img/python-logo-notext.svg\"\n",
    "     style=\"display:block;margin:auto;width:10%\"/>\n",
    "<br>\n",
    "<div style=\"text-align:center; font-size:200%;\"><b>Modules and Packages</b></div>\n",
    "<br/>\n",
    "<div style=\"text-align:center;\">Dr. Matthias Hölzl</div>"
   ]
  },
  {
   "cell_type": "markdown",
   "id": "01f6bb87",
   "metadata": {
    "lang": "en",
    "slideshow": {
     "slide_type": "slide"
    }
   },
   "source": [
    "- The Python interpreter provides only a small part of the functionality needed for most\n",
    "  programs:\n",
    "  - No interaction with the operating system\n",
    "  - No network functionality\n",
    "  - No GUI\n",
    "  - ...\n",
    "- Additional functionality can be loaded using *modules* and *packages*."
   ]
  },
  {
   "cell_type": "code",
   "execution_count": null,
   "id": "b15b426a",
   "metadata": {
    "lines_to_next_cell": 2,
    "slideshow": {
     "slide_type": "subslide"
    },
    "tags": [
     "code-along"
    ]
   },
   "outputs": [],
   "source": []
  },
  {
   "cell_type": "code",
   "execution_count": null,
   "id": "8bbae4e1",
   "metadata": {
    "lines_to_next_cell": 2,
    "tags": [
     "code-along"
    ]
   },
   "outputs": [],
   "source": []
  },
  {
   "cell_type": "markdown",
   "id": "9fa591d8",
   "metadata": {
    "lang": "en",
    "slideshow": {
     "slide_type": "subslide"
    }
   },
   "source": [
    "Python provides many standard modules that are installed with the interpreter:\n",
    "\n",
    " - abc: Abstract base classes\n",
    " - argparse: command line arguments\n",
    " - asyncio: Asynchronous programming\n",
    " - collections: container data types\n",
    " - ...\n",
    "\n",
    " [Here](https://docs.python.org/3/py-modindex.html) is a more complete list."
   ]
  },
  {
   "cell_type": "code",
   "execution_count": null,
   "id": "2dcf736a",
   "metadata": {
    "lines_to_next_cell": 2,
    "tags": [
     "code-along"
    ]
   },
   "outputs": [],
   "source": []
  },
  {
   "cell_type": "code",
   "execution_count": null,
   "id": "e7d4964b",
   "metadata": {
    "lines_to_next_cell": 2,
    "tags": [
     "code-along"
    ]
   },
   "outputs": [],
   "source": []
  },
  {
   "cell_type": "markdown",
   "id": "9f802fdd",
   "metadata": {
    "lang": "en",
    "slideshow": {
     "slide_type": "subslide"
    }
   },
   "source": [
    "## User-defined modules\n",
    "\n",
    "A user-defined module is simply a file containing Python code.\n",
    "\n",
    "As we have already seen:\n",
    "- If a Python module is in the search path, it can be loaded with `import`.\n",
    "- Jupyter notebooks cannot be loaded (without additional packages) as modules."
   ]
  },
  {
   "cell_type": "code",
   "execution_count": null,
   "id": "6c546b7a",
   "metadata": {
    "lines_to_next_cell": 2,
    "slideshow": {
     "slide_type": "subslide"
    },
    "tags": [
     "code-along"
    ]
   },
   "outputs": [],
   "source": []
  },
  {
   "cell_type": "code",
   "execution_count": null,
   "id": "3d7e8a29",
   "metadata": {
    "lines_to_next_cell": 2
   },
   "outputs": [],
   "source": [
    "# Anzeigen des Quellcodes von `my_test_module.py`\n",
    "# %pycat my_test_module.py"
   ]
  },
  {
   "cell_type": "code",
   "execution_count": null,
   "id": "570b3bd6",
   "metadata": {
    "lines_to_next_cell": 2,
    "tags": [
     "code-along"
    ]
   },
   "outputs": [],
   "source": []
  },
  {
   "cell_type": "code",
   "execution_count": null,
   "id": "256dbf39",
   "metadata": {
    "lines_to_next_cell": 2
   },
   "outputs": [],
   "source": [
    "# Top-level code wird ausgeführt"
   ]
  },
  {
   "cell_type": "code",
   "execution_count": null,
   "id": "f76348ad",
   "metadata": {
    "lines_to_next_cell": 2
   },
   "outputs": [],
   "source": [
    "# get_ipython().run_line_magic('load_ext', 'autoreload')\n",
    "# get_ipython().run_line_magic('autoreload', '2')"
   ]
  },
  {
   "cell_type": "code",
   "execution_count": null,
   "id": "beb6f265",
   "metadata": {
    "lines_to_next_cell": 2,
    "tags": [
     "code-along"
    ]
   },
   "outputs": [],
   "source": []
  },
  {
   "cell_type": "code",
   "execution_count": null,
   "id": "5c6cdec0",
   "metadata": {
    "lines_to_next_cell": 2,
    "tags": [
     "code-along"
    ]
   },
   "outputs": [],
   "source": []
  },
  {
   "cell_type": "code",
   "execution_count": null,
   "id": "0c0c6b93",
   "metadata": {
    "lines_to_next_cell": 2,
    "tags": [
     "code-along"
    ]
   },
   "outputs": [],
   "source": []
  },
  {
   "cell_type": "code",
   "execution_count": null,
   "id": "0ae6e69f",
   "metadata": {
    "tags": [
     "code-along"
    ]
   },
   "outputs": [],
   "source": []
  },
  {
   "cell_type": "code",
   "execution_count": null,
   "id": "f099c04e",
   "metadata": {
    "lines_to_next_cell": 2,
    "tags": [
     "code-along"
    ]
   },
   "outputs": [],
   "source": []
  },
  {
   "cell_type": "code",
   "execution_count": null,
   "id": "8f81f602",
   "metadata": {
    "lines_to_next_cell": 2,
    "tags": [
     "code-along"
    ]
   },
   "outputs": [],
   "source": []
  },
  {
   "cell_type": "code",
   "execution_count": null,
   "id": "073c1431",
   "metadata": {
    "lines_to_next_cell": 2,
    "tags": [
     "code-along"
    ]
   },
   "outputs": [],
   "source": []
  },
  {
   "cell_type": "code",
   "execution_count": null,
   "id": "5c58fb85",
   "metadata": {
    "lines_to_next_cell": 2,
    "tags": [
     "code-along"
    ]
   },
   "outputs": [],
   "source": []
  },
  {
   "cell_type": "code",
   "execution_count": null,
   "id": "fc2dee7e",
   "metadata": {
    "lines_to_next_cell": 2,
    "tags": [
     "code-along"
    ]
   },
   "outputs": [],
   "source": []
  },
  {
   "cell_type": "code",
   "execution_count": null,
   "id": "b4645d87",
   "metadata": {
    "lines_to_next_cell": 2,
    "tags": [
     "code-along"
    ]
   },
   "outputs": [],
   "source": []
  },
  {
   "cell_type": "code",
   "execution_count": null,
   "id": "450e0ac2",
   "metadata": {
    "lines_to_next_cell": 2,
    "tags": [
     "code-along"
    ]
   },
   "outputs": [],
   "source": []
  },
  {
   "cell_type": "code",
   "execution_count": null,
   "id": "81744331",
   "metadata": {
    "lines_to_next_cell": 2,
    "tags": [
     "code-along"
    ]
   },
   "outputs": [],
   "source": []
  },
  {
   "cell_type": "code",
   "execution_count": null,
   "id": "f33cfb69",
   "metadata": {
    "lines_to_next_cell": 2,
    "tags": [
     "code-along"
    ]
   },
   "outputs": [],
   "source": []
  },
  {
   "cell_type": "code",
   "execution_count": null,
   "id": "fa068558",
   "metadata": {
    "lines_to_next_cell": 2,
    "tags": [
     "code-along"
    ]
   },
   "outputs": [],
   "source": []
  },
  {
   "cell_type": "code",
   "execution_count": null,
   "id": "3912e15d",
   "metadata": {
    "lines_to_next_cell": 2,
    "tags": [
     "code-along"
    ]
   },
   "outputs": [],
   "source": []
  },
  {
   "cell_type": "markdown",
   "id": "099b1fa7",
   "metadata": {
    "lang": "en",
    "slideshow": {
     "slide_type": "subslide"
    }
   },
   "source": [
    "## Example: `HttpServer`\n",
    "\n",
    "The Python interpreter does not have a built-in HTTP server. Using the\n",
    "standard library, it is not difficult to write one."
   ]
  },
  {
   "cell_type": "markdown",
   "id": "3b4b6b1b",
   "metadata": {
    "lang": "en",
    "slideshow": {
     "slide_type": "subslide"
    }
   },
   "source": [
    "### Example: `ModuleTest`\n",
    "\n",
    "The `ModuleTest` example shows how a program can be composed of several modules."
   ]
  },
  {
   "cell_type": "code",
   "execution_count": null,
   "id": "6323c84e",
   "metadata": {
    "lines_to_next_cell": 2
   },
   "outputs": [],
   "source": [
    "__name__"
   ]
  },
  {
   "cell_type": "markdown",
   "id": "a8c5cf18",
   "metadata": {
    "lang": "en",
    "slideshow": {
     "slide_type": "slide"
    }
   },
   "source": [
    "## Packages\n",
    "\n",
    "- Packages are a method to structure modules in a hierarchy: `a.b.c`, `a.b.x`\n",
    "- A package is a combination of several modules\n",
    "- `b` is subpackage of `a`, `c` and `x` are submodules of `b`"
   ]
  },
  {
   "cell_type": "code",
   "execution_count": null,
   "id": "cb81bc6d",
   "metadata": {
    "lines_to_next_cell": 2,
    "tags": [
     "code-along"
    ]
   },
   "outputs": [],
   "source": []
  },
  {
   "cell_type": "code",
   "execution_count": null,
   "id": "000a8a8b",
   "metadata": {
    "lines_to_next_cell": 2,
    "tags": [
     "code-along"
    ]
   },
   "outputs": [],
   "source": []
  },
  {
   "cell_type": "code",
   "execution_count": null,
   "id": "bd2d7ce9",
   "metadata": {
    "lines_to_next_cell": 2,
    "tags": [
     "code-along"
    ]
   },
   "outputs": [],
   "source": []
  },
  {
   "cell_type": "markdown",
   "id": "30f33e9b",
   "metadata": {
    "lang": "en",
    "slideshow": {
     "slide_type": "subslide"
    }
   },
   "source": [
    "### Structure of packages\n",
    "\n",
    "- Hierarchy comprised of directories and Python files\n",
    "  - E.g. directory `html` with subdirectories `parser`, `entities`\n",
    "- Requires a `__init__.py` file in each directory containing code that should be imported\n",
    "  - This is not quite true...\n",
    "- The `__init__.py` file can be (and often is) empty"
   ]
  },
  {
   "cell_type": "markdown",
   "id": "bb620aaf",
   "metadata": {
    "slideshow": {
     "slide_type": "subslide"
    }
   },
   "source": [
    "\n",
    " <img src=\"img/package-structure.png\" alt=\"Package structure\"\n",
    "      style=\"display:block;margin:auto;width:40%\"></img>"
   ]
  },
  {
   "cell_type": "markdown",
   "id": "f3f9738e",
   "metadata": {
    "lang": "en",
    "slideshow": {
     "slide_type": "subslide"
    }
   },
   "source": [
    "### Finding packages\n",
    "\n",
    " - Python looks for the package directory in `sys.path`.\n",
    " - This can be set using the environment variable `PYTHONPATH` or directly from\n",
    "   Python.\n",
    " - In most cases it is better not to undertake complicated operations on\n",
    "   `sys.path`."
   ]
  },
  {
   "cell_type": "markdown",
   "id": "a848cc00",
   "metadata": {
    "lang": "en",
    "slideshow": {
     "slide_type": "subslide"
    }
   },
   "source": [
    "### The `import` statement\n",
    "\n",
    " `import a.b.c`:\n",
    "\n",
    " - `a` and `b` must be packages (directories).\n",
    " - `c` can be a module or a package\n",
    "\n",
    " `from a.b.c import d`\n",
    " - `a` and `b` must be packages\n",
    " - `c` can be a module or a package\n",
    " - `d` can be a module, package, or name (i.e. variable, function, class, etc.)."
   ]
  },
  {
   "cell_type": "markdown",
   "id": "ed115ffd",
   "metadata": {
    "lang": "en",
    "slideshow": {
     "slide_type": "subslide"
    }
   },
   "source": [
    "### References within a package\n",
    "\n",
    " - `from . import a` imports `a` from the current package\n",
    " - `from .. import a` imports `a` from the parent package\n",
    " - `from .foo import a` imports `a` from its \"sibling module\" `foo`"
   ]
  },
  {
   "cell_type": "markdown",
   "id": "ee49b717",
   "metadata": {
    "lang": "en",
    "slideshow": {
     "slide_type": "subslide"
    }
   },
   "source": [
    "## Example: `MessageQueue`\n",
    "\n",
    " The `MessageQueue` example shows how a program can consist of several packages."
   ]
  },
  {
   "cell_type": "markdown",
   "id": "ab7907f0",
   "metadata": {
    "lang": "en",
    "slideshow": {
     "slide_type": "slide"
    }
   },
   "source": [
    "# Pytest: testing in Python\n",
    "\n",
    " - Python provides several built-in packages for writing unit tests and documentation tests (`unittest` and `doctest`).\n",
    " - Many projects use the `pytest` package anyway, as it avoids a lot of \"boilerplate\" when writing tests.\n",
    " - `pytest` can run `unittest` and `doctest` tests."
   ]
  },
  {
   "cell_type": "markdown",
   "id": "684d82e3",
   "metadata": {
    "lang": "en",
    "slideshow": {
     "slide_type": "subslide"
    }
   },
   "source": [
    "## Installing pytest\n",
    "\n",
    " Pytest is pre-installed in the Anaconda installation\n",
    "\n",
    " When using the standard Python distribution, it can be installed with\n",
    " ```shell\n",
    " pip install pytest\n",
    " ```"
   ]
  },
  {
   "cell_type": "markdown",
   "id": "9b431bd7",
   "metadata": {
    "lang": "en",
    "slideshow": {
     "slide_type": "subslide"
    }
   },
   "source": [
    "## Writing tests\n",
    "\n",
    " - Pytest can be configured very flexibly\n",
    " - We only use the most basic features and rely on automatic configuration\n",
    " - Tests for a package are written in a sub-package `test`\n",
    " - Tests for the `foo.py` file are in the `test/foo_test.py` file\n",
    " - Each test is a function whose name starts with `test`\n",
    " - Assertions are written with the `assert` statement"
   ]
  },
  {
   "cell_type": "markdown",
   "id": "c1cb90db",
   "metadata": {
    "lang": "en",
    "slideshow": {
     "slide_type": "subslide"
    }
   },
   "source": [
    "## Example testing `MessageQueueDist`\n",
    "\n",
    " See `Examples/MessageQueueDist`"
   ]
  },
  {
   "cell_type": "markdown",
   "id": "d0580afb",
   "metadata": {
    "lang": "en",
    "slideshow": {
     "slide_type": "subslide"
    }
   },
   "source": [
    "## Workshop\n",
    "\n",
    "- `Workshop_136_todo_list_v3`\n",
    "- Up to \"Load and Save\" section"
   ]
  },
  {
   "cell_type": "code",
   "execution_count": null,
   "id": "e7e060a4",
   "metadata": {},
   "outputs": [],
   "source": []
  }
 ],
 "metadata": {
  "jupytext": {
   "cell_metadata_json": true,
   "encoding": "# -*- coding: utf-8 -*-",
   "formats": "ipynb"
  },
  "kernelspec": {
   "display_name": "Python 3 (ipykernel)",
   "language": "python",
   "name": "python3"
  }
 },
 "nbformat": 4,
 "nbformat_minor": 5
}
