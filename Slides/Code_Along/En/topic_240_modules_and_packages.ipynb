{
 "cells": [
  {
   "cell_type": "markdown",
   "id": "87eb4485",
   "metadata": {
    "lang": "en",
    "lines_to_next_cell": 2,
    "slideshow": {
     "slide_type": "slide"
    }
   },
   "source": [
    "<img src=\"img/python-logo-notext.svg\"\n",
    "     style=\"display:block;margin:auto;width:10%\"/>\n",
    "<br>\n",
    "<div style=\"text-align:center; font-size:200%;\"><b>Modules and Packages</b></div>\n",
    "<br/>\n",
    "<div style=\"text-align:center;\">Dr. Matthias Hölzl</div>"
   ]
  },
  {
   "cell_type": "markdown",
   "id": "8489a7cc",
   "metadata": {
    "lang": "en",
    "slideshow": {
     "slide_type": "slide"
    }
   },
   "source": [
    "- The Python interpreter provides only a small part of the functionality needed for most\n",
    "  programs:\n",
    "  - No interaction with the operating system\n",
    "  - No network functionality\n",
    "  - No GUI\n",
    "  - ...\n",
    "- Additional functionality can be loaded using *modules* and *packages*."
   ]
  },
  {
   "cell_type": "code",
   "execution_count": null,
   "id": "92d32e5b",
   "metadata": {
    "lines_to_next_cell": 2,
    "slideshow": {
     "slide_type": "subslide"
    },
    "tags": [
     "code-along"
    ]
   },
   "outputs": [],
   "source": []
  },
  {
   "cell_type": "code",
   "execution_count": null,
   "id": "af5a8a19",
   "metadata": {
    "lines_to_next_cell": 2,
    "tags": [
     "code-along"
    ]
   },
   "outputs": [],
   "source": []
  },
  {
   "cell_type": "markdown",
   "id": "35d0b592",
   "metadata": {
    "lang": "en",
    "slideshow": {
     "slide_type": "subslide"
    }
   },
   "source": [
    "Python provides many standard modules that are installed with the interpreter:\n",
    "\n",
    " - abc: Abstract base classes\n",
    " - argparse: command line arguments\n",
    " - asyncio: Asynchronous programming\n",
    " - collections: container data types\n",
    " - ...\n",
    "\n",
    " [Here](https://docs.python.org/3/py-modindex.html) is a more complete list."
   ]
  },
  {
   "cell_type": "code",
   "execution_count": null,
   "id": "6df94147",
   "metadata": {
    "lines_to_next_cell": 2,
    "tags": [
     "code-along"
    ]
   },
   "outputs": [],
   "source": []
  },
  {
   "cell_type": "code",
   "execution_count": null,
   "id": "50165f37",
   "metadata": {
    "lines_to_next_cell": 2,
    "tags": [
     "code-along"
    ]
   },
   "outputs": [],
   "source": []
  },
  {
   "cell_type": "markdown",
   "id": "c3e3ccf5",
   "metadata": {
    "lang": "en",
    "slideshow": {
     "slide_type": "subslide"
    }
   },
   "source": [
    "## User-defined modules\n",
    "\n",
    "A user-defined module is simply a file containing Python code.\n",
    "\n",
    "As we have already seen:\n",
    "- If a Python module is in the search path, it can be loaded with `import`.\n",
    "- Jupyter notebooks cannot be loaded (without additional packages) as modules."
   ]
  },
  {
   "cell_type": "code",
   "execution_count": null,
   "id": "dcba95ab",
   "metadata": {
    "lines_to_next_cell": 2,
    "slideshow": {
     "slide_type": "subslide"
    },
    "tags": [
     "code-along"
    ]
   },
   "outputs": [],
   "source": []
  },
  {
   "cell_type": "code",
   "execution_count": null,
   "id": "5278e326",
   "metadata": {
    "lines_to_next_cell": 2
   },
   "outputs": [],
   "source": [
    "# Anzeigen des Quellcodes von `my_test_module.py`\n",
    "# %pycat my_test_module.py"
   ]
  },
  {
   "cell_type": "code",
   "execution_count": null,
   "id": "93f87e19",
   "metadata": {
    "lines_to_next_cell": 2,
    "tags": [
     "code-along"
    ]
   },
   "outputs": [],
   "source": []
  },
  {
   "cell_type": "code",
   "execution_count": null,
   "id": "82c9424a",
   "metadata": {
    "lines_to_next_cell": 2
   },
   "outputs": [],
   "source": [
    "# Top-level code wird ausgeführt"
   ]
  },
  {
   "cell_type": "code",
   "execution_count": null,
   "id": "c4e37e74",
   "metadata": {
    "lines_to_next_cell": 2
   },
   "outputs": [],
   "source": [
    "# get_ipython().run_line_magic('load_ext', 'autoreload')\n",
    "# get_ipython().run_line_magic('autoreload', '2')"
   ]
  },
  {
   "cell_type": "code",
   "execution_count": null,
   "id": "562f2ee3",
   "metadata": {
    "lines_to_next_cell": 2,
    "tags": [
     "code-along"
    ]
   },
   "outputs": [],
   "source": []
  },
  {
   "cell_type": "code",
   "execution_count": null,
   "id": "23531300",
   "metadata": {
    "lines_to_next_cell": 2,
    "tags": [
     "code-along"
    ]
   },
   "outputs": [],
   "source": []
  },
  {
   "cell_type": "code",
   "execution_count": null,
   "id": "9a04604c",
   "metadata": {
    "lines_to_next_cell": 2,
    "tags": [
     "code-along"
    ]
   },
   "outputs": [],
   "source": []
  },
  {
   "cell_type": "code",
   "execution_count": null,
   "id": "03b0b74b",
   "metadata": {
    "tags": [
     "code-along"
    ]
   },
   "outputs": [],
   "source": []
  },
  {
   "cell_type": "code",
   "execution_count": null,
   "id": "3e78ed71",
   "metadata": {
    "lines_to_next_cell": 2,
    "tags": [
     "code-along"
    ]
   },
   "outputs": [],
   "source": []
  },
  {
   "cell_type": "code",
   "execution_count": null,
   "id": "5de6dd1f",
   "metadata": {
    "lines_to_next_cell": 2,
    "tags": [
     "code-along"
    ]
   },
   "outputs": [],
   "source": []
  },
  {
   "cell_type": "code",
   "execution_count": null,
   "id": "2b8affb1",
   "metadata": {
    "lines_to_next_cell": 2,
    "tags": [
     "code-along"
    ]
   },
   "outputs": [],
   "source": []
  },
  {
   "cell_type": "code",
   "execution_count": null,
   "id": "19ddc613",
   "metadata": {
    "lines_to_next_cell": 2,
    "tags": [
     "code-along"
    ]
   },
   "outputs": [],
   "source": []
  },
  {
   "cell_type": "code",
   "execution_count": null,
   "id": "35e7e73b",
   "metadata": {
    "lines_to_next_cell": 2,
    "tags": [
     "code-along"
    ]
   },
   "outputs": [],
   "source": []
  },
  {
   "cell_type": "code",
   "execution_count": null,
   "id": "1b62df98",
   "metadata": {
    "lines_to_next_cell": 2,
    "tags": [
     "code-along"
    ]
   },
   "outputs": [],
   "source": []
  },
  {
   "cell_type": "code",
   "execution_count": null,
   "id": "c4f35451",
   "metadata": {
    "lines_to_next_cell": 2,
    "tags": [
     "code-along"
    ]
   },
   "outputs": [],
   "source": []
  },
  {
   "cell_type": "code",
   "execution_count": null,
   "id": "ce29a810",
   "metadata": {
    "lines_to_next_cell": 2,
    "tags": [
     "code-along"
    ]
   },
   "outputs": [],
   "source": []
  },
  {
   "cell_type": "code",
   "execution_count": null,
   "id": "a39d381f",
   "metadata": {
    "lines_to_next_cell": 2,
    "tags": [
     "code-along"
    ]
   },
   "outputs": [],
   "source": []
  },
  {
   "cell_type": "code",
   "execution_count": null,
   "id": "ac5f2b35",
   "metadata": {
    "lines_to_next_cell": 2,
    "tags": [
     "code-along"
    ]
   },
   "outputs": [],
   "source": []
  },
  {
   "cell_type": "code",
   "execution_count": null,
   "id": "6b7efbe6",
   "metadata": {
    "lines_to_next_cell": 2,
    "tags": [
     "code-along"
    ]
   },
   "outputs": [],
   "source": []
  },
  {
   "cell_type": "markdown",
   "id": "8d35811b",
   "metadata": {
    "lang": "en",
    "slideshow": {
     "slide_type": "subslide"
    }
   },
   "source": [
    "## Example: `HttpServer`\n",
    "\n",
    "The Python interpreter does not have a built-in HTTP server. Using the\n",
    "standard library, it is not difficult to write one."
   ]
  },
  {
   "cell_type": "markdown",
   "id": "17ec535d",
   "metadata": {
    "lang": "en",
    "slideshow": {
     "slide_type": "subslide"
    }
   },
   "source": [
    "### Example: `ModuleTest`\n",
    "\n",
    "The `ModuleTest` example shows how a program can be composed of several modules."
   ]
  },
  {
   "cell_type": "code",
   "execution_count": null,
   "id": "525f683f",
   "metadata": {
    "lines_to_next_cell": 2
   },
   "outputs": [],
   "source": [
    "__name__"
   ]
  },
  {
   "cell_type": "markdown",
   "id": "17b93ae4",
   "metadata": {
    "lang": "en",
    "slideshow": {
     "slide_type": "slide"
    }
   },
   "source": [
    "## Packages\n",
    "\n",
    "- Packages are a method to structure modules in a hierarchy: `a.b.c`, `a.b.x`\n",
    "- A package is a combination of several modules\n",
    "- `b` is subpackage of `a`, `c` and `x` are submodules of `b`"
   ]
  },
  {
   "cell_type": "code",
   "execution_count": null,
   "id": "3fd5d171",
   "metadata": {
    "lines_to_next_cell": 2,
    "tags": [
     "code-along"
    ]
   },
   "outputs": [],
   "source": []
  },
  {
   "cell_type": "code",
   "execution_count": null,
   "id": "97a8d5cf",
   "metadata": {
    "lines_to_next_cell": 2,
    "tags": [
     "code-along"
    ]
   },
   "outputs": [],
   "source": []
  },
  {
   "cell_type": "code",
   "execution_count": null,
   "id": "d663ca93",
   "metadata": {
    "lines_to_next_cell": 2,
    "tags": [
     "code-along"
    ]
   },
   "outputs": [],
   "source": []
  },
  {
   "cell_type": "markdown",
   "id": "dc726087",
   "metadata": {
    "lang": "en",
    "slideshow": {
     "slide_type": "subslide"
    }
   },
   "source": [
    "### Structure of packages\n",
    "\n",
    "- Hierarchy comprised of directories and Python files\n",
    "  - E.g. directory `html` with subdirectories `parser`, `entities`\n",
    "- Requires a `__init__.py` file in each directory containing code that should be imported\n",
    "  - This is not quite true...\n",
    "- The `__init__.py` file can be (and often is) empty"
   ]
  },
  {
   "cell_type": "markdown",
   "id": "7ecc1508",
   "metadata": {
    "slideshow": {
     "slide_type": "subslide"
    }
   },
   "source": [
    "\n",
    " <img src=\"img/package-structure.png\" alt=\"Package structure\"\n",
    "      style=\"display:block;margin:auto;width:40%\"></img>"
   ]
  },
  {
   "cell_type": "markdown",
   "id": "77f55000",
   "metadata": {
    "lang": "en",
    "slideshow": {
     "slide_type": "subslide"
    }
   },
   "source": [
    "### Finding packages\n",
    "\n",
    " - Python looks for the package directory in `sys.path`.\n",
    " - This can be set using the environment variable `PYTHONPATH` or directly from\n",
    "   Python.\n",
    " - In most cases it is better not to undertake complicated operations on\n",
    "   `sys.path`."
   ]
  },
  {
   "cell_type": "markdown",
   "id": "53896600",
   "metadata": {
    "lang": "en",
    "slideshow": {
     "slide_type": "subslide"
    }
   },
   "source": [
    "### The `import` statement\n",
    "\n",
    " `import a.b.c`:\n",
    "\n",
    " - `a` and `b` must be packages (directories).\n",
    " - `c` can be a module or a package\n",
    "\n",
    " `from a.b.c import d`\n",
    " - `a` and `b` must be packages\n",
    " - `c` can be a module or a package\n",
    " - `d` can be a module, package, or name (i.e. variable, function, class, etc.)."
   ]
  },
  {
   "cell_type": "markdown",
   "id": "d9108c8d",
   "metadata": {
    "lang": "en",
    "slideshow": {
     "slide_type": "subslide"
    }
   },
   "source": [
    "### References within a package\n",
    "\n",
    " - `from . import a` imports `a` from the current package\n",
    " - `from .. import a` imports `a` from the parent package\n",
    " - `from .foo import a` imports `a` from its \"sibling module\" `foo`"
   ]
  },
  {
   "cell_type": "markdown",
   "id": "be207c20",
   "metadata": {
    "lang": "en",
    "slideshow": {
     "slide_type": "subslide"
    }
   },
   "source": [
    "## Example: `MessageQueue`\n",
    "\n",
    " The `MessageQueue` example shows how a program can consist of several packages."
   ]
  },
  {
   "cell_type": "markdown",
   "id": "e331efc6",
   "metadata": {
    "lang": "en",
    "slideshow": {
     "slide_type": "slide"
    }
   },
   "source": [
    "# Pytest: testing in Python\n",
    "\n",
    " - Python provides several built-in packages for writing unit tests and documentation tests (`unittest` and `doctest`).\n",
    " - Many projects use the `pytest` package anyway, as it avoids a lot of \"boilerplate\" when writing tests.\n",
    " - `pytest` can run `unittest` and `doctest` tests."
   ]
  },
  {
   "cell_type": "markdown",
   "id": "73e4aaa7",
   "metadata": {
    "lang": "en",
    "slideshow": {
     "slide_type": "subslide"
    }
   },
   "source": [
    "## Installing pytest\n",
    "\n",
    " Pytest is pre-installed in the Anaconda installation\n",
    "\n",
    " When using the standard Python distribution, it can be installed with\n",
    " ```shell\n",
    " pip install pytest\n",
    " ```"
   ]
  },
  {
   "cell_type": "markdown",
   "id": "a15da748",
   "metadata": {
    "lang": "en",
    "slideshow": {
     "slide_type": "subslide"
    }
   },
   "source": [
    "## Writing tests\n",
    "\n",
    " - Pytest can be configured very flexibly\n",
    " - We only use the most basic features and rely on automatic configuration\n",
    " - Tests for a package are written in a sub-package `test`\n",
    " - Tests for the `foo.py` file are in the `test/foo_test.py` file\n",
    " - Each test is a function whose name starts with `test`\n",
    " - Assertions are written with the `assert` statement"
   ]
  },
  {
   "cell_type": "markdown",
   "id": "b39cdb2d",
   "metadata": {
    "lang": "en",
    "slideshow": {
     "slide_type": "subslide"
    }
   },
   "source": [
    "## Example testing `MessageQueueDist`\n",
    "\n",
    " See `Examples/MessageQueueDist`"
   ]
  },
  {
   "cell_type": "markdown",
   "id": "5bb21539",
   "metadata": {
    "lang": "en",
    "slideshow": {
     "slide_type": "subslide"
    }
   },
   "source": [
    "## Workshop\n",
    "\n",
    "- `Workshop_136_todo_list_v3`\n",
    "- Up to \"Load and Save\" section"
   ]
  },
  {
   "cell_type": "code",
   "execution_count": null,
   "id": "712f10f9",
   "metadata": {},
   "outputs": [],
   "source": []
  }
 ],
 "metadata": {
  "jupytext": {
   "cell_metadata_json": true,
   "encoding": "# -*- coding: utf-8 -*-",
   "formats": "ipynb"
  },
  "kernelspec": {
   "display_name": "Python 3 (ipykernel)",
   "language": "python",
   "name": "python3"
  }
 },
 "nbformat": 4,
 "nbformat_minor": 5
}
