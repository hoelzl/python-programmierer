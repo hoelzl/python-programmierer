{
 "cells": [
  {
   "cell_type": "markdown",
   "id": "169caabb",
   "metadata": {
    "lang": "en",
    "slideshow": {
     "slide_type": "slide"
    }
   },
   "source": [
    "<img src=\"img/python-logo-notext.svg\"\n",
    "     style=\"display:block;margin:auto;width:10%\"/>\n",
    "<br>\n",
    "<div style=\"text-align:center; font-size:200%;\"><b>Introduction to Python: Part 1</b></div>\n",
    "<br/>\n",
    "<div style=\"text-align:center;\">Dr. Matthias Hölzl</div>"
   ]
  },
  {
   "cell_type": "markdown",
   "id": "7c8e7484",
   "metadata": {
    "lang": "en",
    "slideshow": {
     "slide_type": "slide"
    }
   },
   "source": [
    "# Parts of a program\n",
    "\n",
    "We want to write a program that outputs\n",
    "\n",
    "```\n",
    "Hello world!\n",
    "```\n",
    "\n",
    "on the screen.\n",
    "\n",
    "What do we need for this?"
   ]
  },
  {
   "cell_type": "markdown",
   "id": "79933e5f",
   "metadata": {
    "lang": "en",
    "slideshow": {
     "slide_type": "subslide"
    }
   },
   "source": [
    "What do we need for this?\n",
    "\n",
    "- Data\n",
    "    - the text `Hello, world!`\n",
    "- Instructions\n",
    "    - *Output the following text on the screen*\n",
    "- Comments\n",
    "    - Notes for the programmer, are ignored by Python"
   ]
  },
  {
   "cell_type": "markdown",
   "id": "55030dd2",
   "metadata": {
    "lang": "en",
    "slideshow": {
     "slide_type": "subslide"
    }
   },
   "source": [
    "## Comments\n",
    "\n",
    "- `#` followed by any text\n",
    "- to the end of the line"
   ]
  },
  {
   "cell_type": "code",
   "execution_count": null,
   "id": "f4f864cd",
   "metadata": {
    "lines_to_next_cell": 2
   },
   "outputs": [],
   "source": [
    "# Das ist ein Kommentar.\n",
    "# Alle Zeilen in dieser Zelle werden\n",
    "# von Python ignoriert."
   ]
  },
  {
   "cell_type": "markdown",
   "id": "208d7a4e",
   "metadata": {
    "lang": "en",
    "slideshow": {
     "slide_type": "subslide"
    }
   },
   "source": [
    "# Data\n",
    "\n",
    "- Numbers: `123`, `3.141592`\n",
    "- Text (strings): `'This is a text'`, `\"Hello, world!\"`"
   ]
  },
  {
   "cell_type": "code",
   "execution_count": null,
   "id": "e967b4e1",
   "metadata": {
    "incorrectly_encoded_metadata": "{\"slideshow\": {\"slide_type\": \"subslide\"}} tags=[\"code-along\"]"
   },
   "outputs": [],
   "source": [
    "123"
   ]
  },
  {
   "cell_type": "code",
   "execution_count": null,
   "id": "f45a9192",
   "metadata": {
    "tags": [
     "code-along"
    ]
   },
   "outputs": [],
   "source": []
  },
  {
   "cell_type": "code",
   "execution_count": null,
   "id": "319d1aff",
   "metadata": {
    "incorrectly_encoded_metadata": "{\"slideshow\": {\"slide_type\": \"subslide\"}} tags=[\"code-along\"]"
   },
   "outputs": [],
   "source": [
    "\"Das ist ein Text\""
   ]
  },
  {
   "cell_type": "code",
   "execution_count": null,
   "id": "cbdad49e",
   "metadata": {
    "tags": [
     "code-along"
    ]
   },
   "outputs": [],
   "source": []
  },
  {
   "cell_type": "code",
   "execution_count": null,
   "id": "dd240d18",
   "metadata": {
    "tags": [
     "code-along"
    ]
   },
   "outputs": [],
   "source": []
  },
  {
   "cell_type": "markdown",
   "id": "197bb1de",
   "metadata": {
    "lang": "en",
    "slideshow": {
     "slide_type": "subslide"
    }
   },
   "source": [
    "Displaying values with the `print()` function\n",
    "To display values ​​you can use the `print()` function:\n",
    "\n",
    "`print(...)` prints the values between the trailing parens on the screen."
   ]
  },
  {
   "cell_type": "code",
   "execution_count": null,
   "id": "308f55c3",
   "metadata": {
    "tags": [
     "code-along"
    ]
   },
   "outputs": [],
   "source": []
  },
  {
   "cell_type": "code",
   "execution_count": null,
   "id": "d4f8171b",
   "metadata": {
    "slideshow": {
     "slide_type": "subslide"
    },
    "tags": [
     "code-along"
    ]
   },
   "outputs": [],
   "source": []
  },
  {
   "cell_type": "markdown",
   "id": "422c767a",
   "metadata": {
    "lang": "en",
    "slideshow": {
     "slide_type": "slide"
    }
   },
   "source": [
    "## Excursion: displaying values in Jupyter notebooks\n",
    "\n",
    "- Jupyter notebooks print the last value of each cell on the screen\n",
    "- That doesn't happen in \"normal\" Python programs!\n",
    "  - At least when they are executed as programs\n",
    "  - The interactive interpreter behaves similar to notebooks"
   ]
  },
  {
   "cell_type": "code",
   "execution_count": null,
   "id": "c9f900e6",
   "metadata": {
    "slideshow": {
     "slide_type": "subslide"
    },
    "tags": [
     "code-along"
    ]
   },
   "outputs": [],
   "source": []
  },
  {
   "cell_type": "markdown",
   "id": "d284394f",
   "metadata": {
    "lang": "en"
   },
   "source": [
    "To prevent the output of the last value of a cell in Jupyter\n",
    "you can end the line with a semicolon:"
   ]
  },
  {
   "cell_type": "code",
   "execution_count": null,
   "id": "a88463c7",
   "metadata": {
    "tags": [
     "code-along"
    ]
   },
   "outputs": [],
   "source": []
  },
  {
   "cell_type": "code",
   "execution_count": null,
   "id": "1694eac9",
   "metadata": {
    "tags": [
     "code-along"
    ]
   },
   "outputs": [],
   "source": []
  },
  {
   "cell_type": "markdown",
   "id": "b65ca66d",
   "metadata": {
    "lang": "en",
    "slideshow": {
     "slide_type": "subslide"
    }
   },
   "source": [
    "## Mini workshop\n",
    "\n",
    "- Notebook `workshop_050_introduction_part1`\n",
    "- Section \"Introduction\""
   ]
  },
  {
   "cell_type": "markdown",
   "id": "b1fca98f",
   "metadata": {
    "lang": "en",
    "slideshow": {
     "slide_type": "slide"
    }
   },
   "source": [
    "## Back to the `print()` function\n",
    "\n",
    "Multiple arguments can be passed to a `print()` function call:\n",
    "- The arguments are separated by commas\n",
    "- All arguments are printed on one line, with spaces between arguments."
   ]
  },
  {
   "cell_type": "code",
   "execution_count": null,
   "id": "ac29dd1e",
   "metadata": {
    "tags": [
     "code-along"
    ]
   },
   "outputs": [],
   "source": []
  },
  {
   "cell_type": "markdown",
   "id": "1144c654",
   "metadata": {
    "lang": "en",
    "slideshow": {
     "slide_type": "subslide"
    }
   },
   "source": [
    "By supplying a *named argument* `sep=''`, the spaces in the output are suppressed:"
   ]
  },
  {
   "cell_type": "code",
   "execution_count": null,
   "id": "56209848",
   "metadata": {
    "tags": [
     "code-along"
    ]
   },
   "outputs": [],
   "source": []
  },
  {
   "cell_type": "markdown",
   "id": "af4d4b68",
   "metadata": {
    "lang": "en",
    "slideshow": {
     "slide_type": "subslide"
    }
   },
   "source": [
    "Any other strings are also allowed as the value of the `sep` argument:"
   ]
  },
  {
   "cell_type": "code",
   "execution_count": null,
   "id": "f659a47f",
   "metadata": {
    "tags": [
     "code-along"
    ]
   },
   "outputs": [],
   "source": []
  },
  {
   "cell_type": "code",
   "execution_count": null,
   "id": "d46a61e7",
   "metadata": {
    "tags": [
     "code-along"
    ]
   },
   "outputs": [],
   "source": []
  },
  {
   "cell_type": "markdown",
   "id": "6297b4f1",
   "metadata": {
    "lang": "en",
    "slideshow": {
     "slide_type": "slide"
    }
   },
   "source": [
    "# Numbers and maths\n",
    "\n",
    "- Integers: `1`, `837`, `-12`\n",
    "- Floating point numbers: `0.5`, `123.4`, `-0.01`\n",
    "- Arithmetic operations:\n",
    "    - Addition: `+`\n",
    "    - Subtraction: `-`\n",
    "    - Multiplication: `*`\n",
    "    - Division: `/`"
   ]
  },
  {
   "cell_type": "markdown",
   "id": "499c8313",
   "metadata": {
    "lang": "en",
    "slideshow": {
     "slide_type": "subslide"
    }
   },
   "source": [
    "## Python as pocket calculator"
   ]
  },
  {
   "cell_type": "code",
   "execution_count": null,
   "id": "2295f854",
   "metadata": {
    "tags": [
     "code-along"
    ]
   },
   "outputs": [],
   "source": []
  },
  {
   "cell_type": "code",
   "execution_count": null,
   "id": "74432a76",
   "metadata": {
    "tags": [
     "code-along"
    ]
   },
   "outputs": [],
   "source": []
  },
  {
   "cell_type": "markdown",
   "id": "94afc207",
   "metadata": {
    "lang": "en",
    "slideshow": {
     "slide_type": "subslide"
    }
   },
   "source": [
    "## Different types of numbers\n",
    "\n",
    "- Python distinguishes integers and floating point numbers:\n",
    "    - `1` is an integer (`int`)\n",
    "    - `1.0` is a floating point number (`float`)\n",
    "- With `type(...)` you can get the type of the argument:"
   ]
  },
  {
   "cell_type": "code",
   "execution_count": null,
   "id": "a5c6a39d",
   "metadata": {
    "incorrectly_encoded_metadata": "{\"slideshow\": {\"slide_type\": \"subslide\"}} tags=[\"code-along\"]"
   },
   "outputs": [],
   "source": [
    "type(1)"
   ]
  },
  {
   "cell_type": "code",
   "execution_count": null,
   "id": "5b937b16",
   "metadata": {
    "tags": [
     "code-along"
    ]
   },
   "outputs": [],
   "source": []
  },
  {
   "cell_type": "code",
   "execution_count": null,
   "id": "512984a9",
   "metadata": {
    "tags": [
     "code-along"
    ]
   },
   "outputs": [],
   "source": []
  },
  {
   "cell_type": "markdown",
   "id": "269da022",
   "metadata": {
    "lang": "en",
    "slideshow": {
     "slide_type": "subslide"
    }
   },
   "source": [
    "Integers in Python have no (practically relevant) upper limit:"
   ]
  },
  {
   "cell_type": "code",
   "execution_count": null,
   "id": "7301446d",
   "metadata": {
    "tags": [
     "code-along"
    ]
   },
   "outputs": [],
   "source": []
  },
  {
   "cell_type": "code",
   "execution_count": null,
   "id": "d95f9400",
   "metadata": {
    "tags": [
     "code-along"
    ]
   },
   "outputs": [],
   "source": []
  },
  {
   "cell_type": "markdown",
   "id": "f51bbeb3",
   "metadata": {
    "lang": "en",
    "slideshow": {
     "slide_type": "subslide"
    }
   },
   "source": [
    "## Mini workshop\n",
    "\n",
    "- Notebook `workshop_050_introduction_part1`\n",
    "- Section \"Numbers and mathematics\""
   ]
  },
  {
   "cell_type": "markdown",
   "id": "64dd4ca5",
   "metadata": {
    "lang": "en",
    "slideshow": {
     "slide_type": "slide"
    }
   },
   "source": [
    "## Arithmetic operations\n",
    "\n",
    "| Operator | Operation            |\n",
    "|:--------:|:---------------------|\n",
    "| +        | Sum                  |\n",
    "| -        | Difference           |\n",
    "| *        | Multiplication       |\n",
    "| /        | Division             |\n",
    "| **       | Power                |\n",
    "| %        | Modulo, Remainder    |\n",
    "| //       | Integer division     |"
   ]
  },
  {
   "cell_type": "markdown",
   "id": "0813717c",
   "metadata": {
    "lang": "en",
    "slideshow": {
     "slide_type": "subslide"
    }
   },
   "source": [
    "### Division"
   ]
  },
  {
   "cell_type": "code",
   "execution_count": null,
   "id": "18d123d2",
   "metadata": {
    "tags": [
     "code-along"
    ]
   },
   "outputs": [],
   "source": []
  },
  {
   "cell_type": "code",
   "execution_count": null,
   "id": "c8c6a272",
   "metadata": {
    "tags": [
     "code-along"
    ]
   },
   "outputs": [],
   "source": []
  },
  {
   "cell_type": "code",
   "execution_count": null,
   "id": "0d366461",
   "metadata": {
    "incorrectly_encoded_metadata": "{\"slideshow\": {\"slide_type\": \"subslide\"}} tags=[\"code-along\"]"
   },
   "outputs": [],
   "source": [
    "# // und % können zur Division mit Rest verwendet werden:\n",
    "20 // 7  # Wie oft geht 7 in 20?"
   ]
  },
  {
   "cell_type": "code",
   "execution_count": null,
   "id": "d28630ca",
   "metadata": {
    "tags": [
     "code-along"
    ]
   },
   "outputs": [],
   "source": []
  },
  {
   "cell_type": "code",
   "execution_count": null,
   "id": "c5d744f0",
   "metadata": {
    "tags": [
     "code-along"
    ]
   },
   "outputs": [],
   "source": []
  },
  {
   "cell_type": "markdown",
   "id": "07a2d1ff",
   "metadata": {
    "lang": "en",
    "slideshow": {
     "slide_type": "subslide"
    }
   },
   "source": [
    "`/` is left-associative (just like `//`, `%`, `+`, `-`, `*`)"
   ]
  },
  {
   "cell_type": "code",
   "execution_count": null,
   "id": "280ec662",
   "metadata": {
    "tags": [
     "code-along"
    ]
   },
   "outputs": [],
   "source": []
  },
  {
   "cell_type": "code",
   "execution_count": null,
   "id": "e0aa7e5b",
   "metadata": {
    "tags": [
     "code-along"
    ]
   },
   "outputs": [],
   "source": []
  },
  {
   "cell_type": "code",
   "execution_count": null,
   "id": "49fd6043",
   "metadata": {
    "tags": [
     "code-along"
    ]
   },
   "outputs": [],
   "source": []
  },
  {
   "cell_type": "markdown",
   "id": "cf948ee6",
   "metadata": {
    "lang": "en",
    "slideshow": {
     "slide_type": "subslide"
    }
   },
   "source": [
    "### Exponentiation (power)"
   ]
  },
  {
   "cell_type": "code",
   "execution_count": null,
   "id": "3e4e3a82",
   "metadata": {
    "tags": [
     "code-along"
    ]
   },
   "outputs": [],
   "source": []
  },
  {
   "cell_type": "code",
   "execution_count": null,
   "id": "c117cf31",
   "metadata": {
    "tags": [
     "code-along"
    ]
   },
   "outputs": [],
   "source": []
  },
  {
   "cell_type": "code",
   "execution_count": null,
   "id": "b355e028",
   "metadata": {
    "tags": [
     "code-along"
    ]
   },
   "outputs": [],
   "source": []
  },
  {
   "cell_type": "code",
   "execution_count": null,
   "id": "10f1fd9b",
   "metadata": {
    "tags": [
     "code-along"
    ]
   },
   "outputs": [],
   "source": []
  },
  {
   "cell_type": "markdown",
   "id": "5e73cd3c",
   "metadata": {
    "lang": "en",
    "slideshow": {
     "slide_type": "subslide"
    }
   },
   "source": [
    "`**` is right-associative\n",
    "\n",
    "$2^{(2^3)} = 2^8 = 256 \\qquad$\n",
    "$(2^2)^3 = 4^3 = 64$"
   ]
  },
  {
   "cell_type": "code",
   "execution_count": null,
   "id": "2572880c",
   "metadata": {
    "tags": [
     "code-along"
    ]
   },
   "outputs": [],
   "source": []
  },
  {
   "cell_type": "code",
   "execution_count": null,
   "id": "01dd1f88",
   "metadata": {
    "tags": [
     "code-along"
    ]
   },
   "outputs": [],
   "source": []
  },
  {
   "cell_type": "code",
   "execution_count": null,
   "id": "8688f2d8",
   "metadata": {
    "tags": [
     "code-along"
    ]
   },
   "outputs": [],
   "source": []
  },
  {
   "cell_type": "markdown",
   "id": "002cf47e",
   "metadata": {
    "lang": "en",
    "slideshow": {
     "slide_type": "subslide"
    }
   },
   "source": [
    "The `**` operator can also be used to extract roots:\n",
    "\n",
    "$\\sqrt{4} = 4^{1/2} = 2$\n",
    "$\\sqrt{9} = 9^{1/2} = 3$\n",
    "$\\sqrt{2} = 2^{1/2} \\approx 1.4142$"
   ]
  },
  {
   "cell_type": "code",
   "execution_count": null,
   "id": "bc8b5424",
   "metadata": {
    "tags": [
     "code-along"
    ]
   },
   "outputs": [],
   "source": []
  },
  {
   "cell_type": "code",
   "execution_count": null,
   "id": "ee8d573d",
   "metadata": {
    "tags": [
     "code-along"
    ]
   },
   "outputs": [],
   "source": []
  },
  {
   "cell_type": "code",
   "execution_count": null,
   "id": "1a49d5c5",
   "metadata": {
    "tags": [
     "code-along"
    ]
   },
   "outputs": [],
   "source": []
  },
  {
   "cell_type": "markdown",
   "id": "09028bef",
   "metadata": {
    "lang": "en",
    "slideshow": {
     "slide_type": "slide"
    }
   },
   "source": [
    "# Variables\n",
    "\n",
    "We want to build a fence around our new property.\n",
    "\n",
    "<img src=\"img/fence.svg\" style=\"display:block;margin:auto;width:50%\"/>"
   ]
  },
  {
   "cell_type": "markdown",
   "id": "3da80787",
   "metadata": {
    "lang": "en"
   },
   "source": [
    "<img src=\"img/fence.svg\" style=\"vertical-align:top;overflow:auto;float:right;width:25%\"/>\n",
    "\n",
    "The measured lengths are:\n",
    "- Birkenweg: 20m\n",
    "- Fichtengasse: 30m\n",
    "\n",
    "How long does our fence have to be?"
   ]
  },
  {
   "cell_type": "code",
   "execution_count": null,
   "id": "ffeae5a4",
   "metadata": {
    "tags": [
     "code-along"
    ]
   },
   "outputs": [],
   "source": []
  },
  {
   "cell_type": "markdown",
   "id": "34f4705e",
   "metadata": {
    "lang": "en",
    "slideshow": {
     "slide_type": "subslide"
    }
   },
   "source": [
    "<img src=\"img/fence.svg\" style=\"vertical-align:top;overflow:auto;float:right;width:25%\"/>\n",
    "\n",
    "It is not clear what the numbers in the preceding expression mean. Can we do better?"
   ]
  },
  {
   "cell_type": "code",
   "execution_count": null,
   "id": "64e94390",
   "metadata": {
    "tags": [
     "code-along"
    ]
   },
   "outputs": [],
   "source": []
  },
  {
   "cell_type": "markdown",
   "id": "dcecbdaf",
   "metadata": {
    "lang": "en",
    "slideshow": {
     "slide_type": "slide"
    }
   },
   "source": [
    "## More detailed description of variables\n",
    "\n",
    "<img src=\"img/variables-01.svg\" style=\"float:right;margin:auto;width:50%\"/>\n",
    "\n",
    "A *variable* is\n",
    "- a <span style=\"color:red;\">\"reference\"</span> to an \"object\"\n",
    "- which has a <span style=\"color:red;\">name</span>.\n",
    "\n",
    "<span style=\"color:blue;\">An object </span> can be referenced by<span style=\"color:blue;\"> several variables </span>!"
   ]
  },
  {
   "cell_type": "markdown",
   "id": "46e2863a",
   "metadata": {
    "lang": "en",
    "slideshow": {
     "slide_type": "subslide"
    }
   },
   "source": [
    "<img src=\"img/variables-01.svg\" style=\"float:right;margin:auto;width:50%\"/>\n",
    "\n",
    "A variable is\n",
    "- generated by `name = value`\n",
    "- read by `name`\n",
    "- changed by `name=value`\n",
    "\n",
    "Creating and changing variable <br/>\n",
    "are *statements*."
   ]
  },
  {
   "cell_type": "code",
   "execution_count": null,
   "id": "341e532c",
   "metadata": {
    "incorrectly_encoded_metadata": "{\"slideshow\": {\"slide_type\": \"subslide\"}} tags=[\"code-along\"]"
   },
   "outputs": [],
   "source": [
    "länge_birkenweg = 20\n",
    "print(länge_birkenweg)\n",
    "länge_birkenweg = 25\n",
    "print(länge_birkenweg)"
   ]
  },
  {
   "cell_type": "markdown",
   "id": "30b6a2c0",
   "metadata": {
    "lang": "en",
    "slideshow": {
     "slide_type": "slide"
    }
   },
   "source": [
    "## Properties of variables in Python\n",
    "\n",
    "- A variable can store values of any data type\n",
    "    - There are no `int` variables, etc.\n",
    "    - Anather way of saying this: Python is dynamically typed\n",
    "- Variables must be created before they are used\n",
    "- You can assign new values to variables\n",
    "    - The *old value* of the variable can be used on the right hand side:<br/> `jobs = jobs + 1`"
   ]
  },
  {
   "cell_type": "code",
   "execution_count": null,
   "id": "22da4be2",
   "metadata": {
    "incorrectly_encoded_metadata": "{\"slideshow\": {\"slide_type\": \"subslide\"}} tags=[\"code-along\"]"
   },
   "outputs": [],
   "source": [
    "x = \"Hallo!\"\n",
    "print(x)\n",
    "x = 123\n",
    "print(x)\n",
    "x = x + 1\n",
    "print(x)\n",
    "x += 1\n",
    "print(x)"
   ]
  },
  {
   "cell_type": "code",
   "execution_count": null,
   "id": "5caa868a",
   "metadata": {
    "incorrectly_encoded_metadata": "{\"slideshow\": {\"slide_type\": \"subslide\"}} tags=[\"code-along\"]",
    "lines_to_next_cell": 2
   },
   "outputs": [],
   "source": [
    "# print(diese_variable_gibt_es_nicht)"
   ]
  },
  {
   "cell_type": "code",
   "execution_count": null,
   "id": "4f9e72cd",
   "metadata": {
    "lines_to_next_cell": 2,
    "tags": [
     "code-along"
    ]
   },
   "outputs": [],
   "source": []
  },
  {
   "cell_type": "markdown",
   "id": "ac529dcc",
   "metadata": {
    "lang": "en",
    "slideshow": {
     "slide_type": "slide"
    }
   },
   "source": [
    "## Variable names in Python\n",
    "\n",
    "- Begin with a letter or underscore `_`\n",
    "    - Umlauts also count as letters\n",
    "- Can contain digits, letters and underscores `_`\n",
    "- May contain many other Unicode characters\n",
    "    - But it's usually better to avoid them...\n",
    "- A distinction is made between upper and lower case\n",
    "    - `A` is a different variable than `a`"
   ]
  },
  {
   "cell_type": "markdown",
   "id": "a4b84a12",
   "metadata": {
    "lang": "en",
    "slideshow": {
     "slide_type": "subslide"
    }
   },
   "source": [
    "### Style\n",
    "\n",
    "- Variable names are written in lower case\n",
    "    - Except constant variables: `CONSTANT_VAR`\n",
    "- Components are separated by underscores `_`\n",
    "    - This style is called snake case\n",
    "- Variables that start and end with two underscores\n",
    "  typically have a special meaning (*dunders*):\n",
    "    - `__class__`, `__name__`\n",
    "    - Normal user-defined variables should not be dunders"
   ]
  },
  {
   "cell_type": "code",
   "execution_count": null,
   "id": "cd53ad88",
   "metadata": {
    "incorrectly_encoded_metadata": "{\"slideshow\": {\"slide_type\": \"subslide\"}} tags=[\"code-along\"]"
   },
   "outputs": [],
   "source": [
    "print(__name__)\n",
    "print(type(__name__))"
   ]
  },
  {
   "cell_type": "code",
   "execution_count": null,
   "id": "8bad4eb3",
   "metadata": {
    "tags": [
     "code-along"
    ]
   },
   "outputs": [],
   "source": []
  },
  {
   "cell_type": "code",
   "execution_count": null,
   "id": "06300a7a",
   "metadata": {
    "tags": [
     "code-along"
    ]
   },
   "outputs": [],
   "source": []
  },
  {
   "cell_type": "markdown",
   "id": "9673f4bb",
   "metadata": {
    "lang": "en",
    "slideshow": {
     "slide_type": "subslide"
    }
   },
   "source": [
    "- Sometimes \"private\" variables are written with a leading underscore: `_my_var`\n",
    "    - This is particularly common in older code (for global variables)\n",
    "    - There are more conventions for classes\n",
    "- Most Python projects follow the conventions in\n",
    "  [PEP 8](https://www.python.org/dev/peps/pep-0008/#naming-conventions)"
   ]
  },
  {
   "cell_type": "code",
   "execution_count": null,
   "id": "e6d8d881",
   "metadata": {
    "tags": [
     "code-along"
    ]
   },
   "outputs": [],
   "source": []
  },
  {
   "cell_type": "code",
   "execution_count": null,
   "id": "496f60e0",
   "metadata": {
    "tags": [
     "code-along"
    ]
   },
   "outputs": [],
   "source": []
  },
  {
   "cell_type": "code",
   "execution_count": null,
   "id": "0b747271",
   "metadata": {
    "slideshow": {
     "slide_type": "subslide"
    }
   },
   "outputs": [],
   "source": [
    "variable_1 = 123\n",
    "VARIABLE_1 = 234\n",
    "Variable_1 = 345\n",
    "variablE_1 = 456"
   ]
  },
  {
   "cell_type": "code",
   "execution_count": null,
   "id": "dd37d276",
   "metadata": {},
   "outputs": [],
   "source": [
    "print(variable_1)\n",
    "print(VARIABLE_1)\n",
    "print(Variable_1)\n",
    "print(variablE_1)"
   ]
  },
  {
   "cell_type": "code",
   "execution_count": null,
   "id": "f31d6a20",
   "metadata": {
    "incorrectly_encoded_metadata": "{\"slideshow\": {\"slide_type\": \"subslide\"}} tags=[\"code-along\"]"
   },
   "outputs": [],
   "source": [
    "_my_var = 1\n",
    "print(_my_var)\n",
    "_my_var = _my_var + 5\n",
    "print(_my_var)"
   ]
  },
  {
   "cell_type": "code",
   "execution_count": null,
   "id": "37a7b57a",
   "metadata": {
    "slideshow": {
     "slide_type": "subslide"
    }
   },
   "outputs": [],
   "source": [
    "größenmaßstäbe_der_fußgängerübergänge = 0.3\n",
    "größenmaßstäbe_der_fußgängerübergänge"
   ]
  },
  {
   "cell_type": "code",
   "execution_count": null,
   "id": "187b7d00",
   "metadata": {
    "lines_to_next_cell": 2
   },
   "outputs": [],
   "source": [
    "# me@foo = 1"
   ]
  },
  {
   "cell_type": "code",
   "execution_count": null,
   "id": "261ada5b",
   "metadata": {
    "lines_to_next_cell": 2,
    "slideshow": {
     "slide_type": "subslide"
    }
   },
   "outputs": [],
   "source": [
    "α = 0.2\n",
    "β = 0.7\n",
    "γ = α**2 + 3 * β**2\n",
    "print(γ)\n",
    "αβγ = α * β * γ\n",
    "print(αβγ)\n",
    "Σ = 1 + 2 + 3\n",
    "print(Σ)\n",
    "# ∑ = 1 + 2 + 3 # Unzulässig!"
   ]
  },
  {
   "cell_type": "markdown",
   "id": "ae82214d",
   "metadata": {
    "lang": "en",
    "slideshow": {
     "slide_type": "subslide"
    }
   },
   "source": [
    "## Mini workshop\n",
    "\n",
    "- Notebook `workshop_050_introduction_part1`\n",
    "- Section \"Pirates\""
   ]
  },
  {
   "cell_type": "markdown",
   "id": "4be37b40",
   "metadata": {
    "lang": "en",
    "slideshow": {
     "slide_type": "slide"
    }
   },
   "source": [
    "## Assignment to multiple variables\n",
    "\n",
    "In Python, multiple variables can be defined (or assigned values) at the same time:"
   ]
  },
  {
   "cell_type": "code",
   "execution_count": null,
   "id": "e21a8345",
   "metadata": {
    "tags": [
     "code-along"
    ]
   },
   "outputs": [],
   "source": []
  },
  {
   "cell_type": "markdown",
   "id": "6ce59e2d",
   "metadata": {
    "lang": "en",
    "slideshow": {
     "slide_type": "slide"
    }
   },
   "source": [
    "# Functions\n",
    "\n",
    "We want to start a company for fencing triangular plots of land.\n",
    "\n",
    "For each property bordered by streets $A$, $B$ and $C$ we calculate:"
   ]
  },
  {
   "cell_type": "code",
   "execution_count": null,
   "id": "c58893d8",
   "metadata": {},
   "outputs": [],
   "source": [
    "länge_a = 10  # Beispielwert\n",
    "länge_b = 40  # Beispielwert\n",
    "länge_c = (länge_a**2 + länge_b**2) ** 0.5\n",
    "länge_gesamt = länge_a + länge_b + länge_c\n",
    "print(länge_gesamt)"
   ]
  },
  {
   "cell_type": "markdown",
   "id": "68704def",
   "metadata": {
    "lang": "en"
   },
   "source": [
    "Can we make this a little more elegant?"
   ]
  },
  {
   "cell_type": "markdown",
   "id": "f58afead",
   "metadata": {
    "lang": "en",
    "slideshow": {
     "slide_type": "subslide"
    }
   },
   "source": [
    "## Pythagorean theorem\n",
    "\n",
    "We always calculate the length of $C$ from $A$ and $B$ according to the theorem of\n",
    "Pythagoras: $C = \\sqrt{A^2 + B^2}$.\n",
    "\n",
    "We can express this in Python using a *function*:"
   ]
  },
  {
   "cell_type": "code",
   "execution_count": null,
   "id": "18265141",
   "metadata": {
    "incorrectly_encoded_metadata": "{\"slideshow\": {\"slide_type\": \"subslide\"}} tags=[\"code-along\"]"
   },
   "outputs": [],
   "source": [
    "def pythagoras(a, b):\n",
    "    c = (a**2 + b**2) ** 0.5\n",
    "    return c"
   ]
  },
  {
   "cell_type": "code",
   "execution_count": null,
   "id": "b9b26ce9",
   "metadata": {
    "tags": [
     "code-along"
    ]
   },
   "outputs": [],
   "source": []
  },
  {
   "cell_type": "code",
   "execution_count": null,
   "id": "6e7d216d",
   "metadata": {
    "tags": [
     "code-along"
    ]
   },
   "outputs": [],
   "source": []
  },
  {
   "cell_type": "markdown",
   "id": "4817b579",
   "metadata": {
    "lang": "en",
    "slideshow": {
     "slide_type": "slide"
    }
   },
   "source": [
    "## Function definition\n",
    "- Keyword `def`\n",
    "- Function name\n",
    "- Function parameters, in brackets; colon\n",
    "- Body of the function, indented one tab\n",
    "- In the body, the parameters can be used like variables\n",
    "- Keyword `return`\n",
    "    - Exits the function\n",
    "    - Determines which value is returned"
   ]
  },
  {
   "cell_type": "code",
   "execution_count": null,
   "id": "ea5a3e46",
   "metadata": {
    "incorrectly_encoded_metadata": "{\"slideshow\": {\"slide_type\": \"subslide\"}} tags=[\"code-along\"]"
   },
   "outputs": [],
   "source": [
    "def pythagoras(a, b):\n",
    "    quadratsumme = a**2 + b**2\n",
    "    # We can compute (part of) the return value here\n",
    "    return quadratsumme**0.5"
   ]
  },
  {
   "cell_type": "markdown",
   "id": "e2763479",
   "metadata": {
    "lang": "en",
    "slideshow": {
     "slide_type": "slide"
    }
   },
   "source": [
    "## Function call\n",
    "\n",
    "- Function name\n",
    "- Arguments of the call, in brackets\n",
    "- One argument for each parameter"
   ]
  },
  {
   "cell_type": "code",
   "execution_count": null,
   "id": "b3de5d0c",
   "metadata": {
    "tags": [
     "code-along"
    ]
   },
   "outputs": [],
   "source": []
  },
  {
   "cell_type": "markdown",
   "id": "721dbf65",
   "metadata": {
    "lang": "en",
    "slideshow": {
     "slide_type": "subslide"
    }
   },
   "source": [
    "## Back to fences\n",
    "\n",
    "- So far we have calculated the length of the third side of our property.\n",
    "- We still need a function that calculates the total length:"
   ]
  },
  {
   "cell_type": "code",
   "execution_count": null,
   "id": "18864882",
   "metadata": {
    "tags": [
     "code-along"
    ]
   },
   "outputs": [],
   "source": []
  },
  {
   "cell_type": "markdown",
   "id": "78a6fed8",
   "metadata": {
    "lang": "en",
    "slideshow": {
     "slide_type": "subslide"
    }
   },
   "source": [
    "With this we can simplify our problem:"
   ]
  },
  {
   "cell_type": "code",
   "execution_count": null,
   "id": "cf5cf079",
   "metadata": {
    "tags": [
     "code-along"
    ]
   },
   "outputs": [],
   "source": []
  },
  {
   "cell_type": "markdown",
   "id": "5d4607df",
   "metadata": {
    "lang": "en",
    "slideshow": {
     "slide_type": "subslide"
    }
   },
   "source": [
    "## Mini workshop\n",
    "\n",
    "- Notebook `workshop_050_introduction_part1`\n",
    "- Section \"Donations\""
   ]
  },
  {
   "cell_type": "markdown",
   "id": "80e28dd9",
   "metadata": {
    "lang": "en",
    "slideshow": {
     "slide_type": "slide"
    }
   },
   "source": [
    "## Importing modules\n",
    "\n",
    "Much of Python's functionality is not implemented in the interpreter itself\n",
    "but rather provided by external modules (and packages). With the `import`\n",
    "statement you can make this functionality available:"
   ]
  },
  {
   "cell_type": "code",
   "execution_count": null,
   "id": "88174c92",
   "metadata": {
    "tags": [
     "code-along"
    ]
   },
   "outputs": [],
   "source": []
  },
  {
   "cell_type": "markdown",
   "id": "7c5d0292",
   "metadata": {
    "lang": "en",
    "slideshow": {
     "slide_type": "subslide"
    }
   },
   "source": [
    "The functions from the `math` module can then be accessed with the syntax `math.floor`:"
   ]
  },
  {
   "cell_type": "code",
   "execution_count": null,
   "id": "8f0cff7e",
   "metadata": {
    "tags": [
     "code-along"
    ]
   },
   "outputs": [],
   "source": []
  },
  {
   "cell_type": "code",
   "execution_count": null,
   "id": "db7ad962",
   "metadata": {
    "tags": [
     "code-along"
    ]
   },
   "outputs": [],
   "source": []
  },
  {
   "cell_type": "markdown",
   "id": "cf7cae71",
   "metadata": {
    "lang": "en",
    "slideshow": {
     "slide_type": "subslide"
    }
   },
   "source": [
    "The `pythagoras` function is available from the `math` module under the name `hypot`:"
   ]
  },
  {
   "cell_type": "code",
   "execution_count": null,
   "id": "66adf7b6",
   "metadata": {
    "tags": [
     "code-along"
    ]
   },
   "outputs": [],
   "source": []
  },
  {
   "cell_type": "markdown",
   "id": "f2ab532b",
   "metadata": {
    "lang": "en",
    "slideshow": {
     "slide_type": "subslide"
    }
   },
   "source": [
    "This allows us to write the `total_length` function without the helper function `pythagoras`:"
   ]
  },
  {
   "cell_type": "code",
   "execution_count": null,
   "id": "9205a923",
   "metadata": {
    "tags": [
     "code-along"
    ]
   },
   "outputs": [],
   "source": []
  },
  {
   "cell_type": "code",
   "execution_count": null,
   "id": "d6224975",
   "metadata": {
    "tags": [
     "code-along"
    ]
   },
   "outputs": [],
   "source": []
  },
  {
   "cell_type": "markdown",
   "id": "91586a4e",
   "metadata": {
    "lang": "en",
    "slideshow": {
     "slide_type": "slide"
    }
   },
   "source": [
    "## Other types of numbers\n",
    "\n",
    "Python offers other kinds of numbers for special applications\n",
    "\n",
    "- Decimal numbers with any precision\n",
    "- Complex numbers\n",
    "- Fixed size integers (e.g. with `numpy`)\n",
    "- Floating point numbers with different sizes (`numpy`)"
   ]
  },
  {
   "cell_type": "code",
   "execution_count": null,
   "id": "8942cdc7",
   "metadata": {
    "incorrectly_encoded_metadata": "{\"slideshow\": {\"slide_type\": \"subslide\"}} tags=[\"code-along\"]"
   },
   "outputs": [],
   "source": [
    "1.1 * 100"
   ]
  },
  {
   "cell_type": "code",
   "execution_count": null,
   "id": "821ca000",
   "metadata": {
    "tags": [
     "code-along"
    ]
   },
   "outputs": [],
   "source": []
  },
  {
   "cell_type": "code",
   "execution_count": null,
   "id": "562e81bf",
   "metadata": {
    "incorrectly_encoded_metadata": "{\"slideshow\": {\"slide_type\": \"subslide\"}} tags=[\"code-along\"]"
   },
   "outputs": [],
   "source": [
    "(1 + 1j) * (1 + 1j)"
   ]
  },
  {
   "cell_type": "code",
   "execution_count": null,
   "id": "463ab126",
   "metadata": {
    "tags": [
     "code-along"
    ]
   },
   "outputs": [],
   "source": []
  },
  {
   "cell_type": "markdown",
   "id": "0a3e7010",
   "metadata": {
    "lang": "en",
    "slideshow": {
     "slide_type": "slide"
    }
   },
   "source": [
    "## Functions without arguments\n",
    "\n",
    "- A function can also be defined without formal parameters.\n",
    "- The parentheses must be used in the definition and in calls."
   ]
  },
  {
   "cell_type": "code",
   "execution_count": null,
   "id": "1fc6c6ef",
   "metadata": {
    "incorrectly_encoded_metadata": "{\"slideshow\": {\"slide_type\": \"subslide\"}} tags=[\"code-along\"]"
   },
   "outputs": [],
   "source": [
    "def null():\n",
    "    return 0"
   ]
  },
  {
   "cell_type": "code",
   "execution_count": null,
   "id": "111f194b",
   "metadata": {
    "tags": [
     "code-along"
    ]
   },
   "outputs": [],
   "source": []
  },
  {
   "cell_type": "code",
   "execution_count": null,
   "id": "156b47e8",
   "metadata": {
    "tags": [
     "code-along"
    ]
   },
   "outputs": [],
   "source": []
  },
  {
   "cell_type": "code",
   "execution_count": null,
   "id": "3491c99d",
   "metadata": {
    "lines_to_next_cell": 2,
    "tags": [
     "code-along"
    ]
   },
   "outputs": [],
   "source": []
  },
  {
   "cell_type": "markdown",
   "id": "b0c05032",
   "metadata": {
    "lang": "en",
    "slideshow": {
     "slide_type": "slide"
    }
   },
   "source": [
    "# Functions with side effects\n",
    "\n",
    "Functions can\n",
    "\n",
    "- Calculate values: `sumofsquares(3, 4)`\n",
    "- Have side effects: `print(\"Hans\")`"
   ]
  },
  {
   "cell_type": "code",
   "execution_count": null,
   "id": "21790b78",
   "metadata": {
    "tags": [
     "code-along"
    ]
   },
   "outputs": [],
   "source": []
  },
  {
   "cell_type": "markdown",
   "id": "e43751fe",
   "metadata": {
    "lang": "en",
    "slideshow": {
     "slide_type": "subslide"
    }
   },
   "source": [
    "### The value `None`\n",
    "\n",
    "The return value of the `print()` function is the special value `None`.\n",
    "- Jupyter doesn't print `None` as a cell's value:"
   ]
  },
  {
   "cell_type": "code",
   "execution_count": null,
   "id": "0748d2b7",
   "metadata": {
    "tags": [
     "code-along"
    ]
   },
   "outputs": [],
   "source": []
  },
  {
   "cell_type": "code",
   "execution_count": null,
   "id": "dc340169",
   "metadata": {
    "tags": [
     "code-along"
    ]
   },
   "outputs": [],
   "source": []
  },
  {
   "cell_type": "code",
   "execution_count": null,
   "id": "84da1618",
   "metadata": {
    "tags": [
     "code-along"
    ]
   },
   "outputs": [],
   "source": []
  },
  {
   "cell_type": "markdown",
   "id": "6594b9f0",
   "metadata": {
    "lang": "en",
    "slideshow": {
     "slide_type": "subslide"
    }
   },
   "source": [
    "- Functions can have side effects\n",
    "    - E.g. by calling `print`\n",
    "- These are executed when a function call is evaluated\n",
    "- Even functions with side effects return a value\n",
    "    - Often this is the special value `None`\n",
    "    - If a function returns `None` we don't need an explicit `return` statement"
   ]
  },
  {
   "cell_type": "code",
   "execution_count": null,
   "id": "1301e779",
   "metadata": {
    "incorrectly_encoded_metadata": "{\"slideshow\": {\"slide_type\": \"subslide\"}} tags=[\"code-along\"]"
   },
   "outputs": [],
   "source": [
    "def say_hello():\n",
    "    print(\"Hello, world!\")\n",
    "    print(\"Today is a great day!\")"
   ]
  },
  {
   "cell_type": "code",
   "execution_count": null,
   "id": "91e787ed",
   "metadata": {
    "tags": [
     "code-along"
    ]
   },
   "outputs": [],
   "source": []
  },
  {
   "cell_type": "markdown",
   "id": "15cad823",
   "metadata": {
    "lang": "en",
    "slideshow": {
     "slide_type": "subslide"
    }
   },
   "source": [
    "## Mini workshop\n",
    "\n",
    "- Notebook `workshop_050_introduction_part1`\n",
    "- Section \"Pirates, Part 2\""
   ]
  },
  {
   "cell_type": "markdown",
   "id": "a9e246b0",
   "metadata": {
    "lang": "en",
    "slideshow": {
     "slide_type": "slide"
    }
   },
   "source": [
    "## Default arguments\n",
    "\n",
    "Function parameters can have a default value.\n",
    "- The default value is given with the syntax `parameter=value`\n",
    "- If the corresponding argument is not passed, the default value is used\n",
    "- If a parameter has a default value, all values ​​to the right of it must also have one"
   ]
  },
  {
   "cell_type": "code",
   "execution_count": null,
   "id": "9df59129",
   "metadata": {
    "incorrectly_encoded_metadata": "{\"slideshow\": {\"slide_type\": \"subslide\"}} tags=[\"code-along\"]"
   },
   "outputs": [],
   "source": [
    "def add_weighted(a, b=0, c=0):\n",
    "    return a + 2 * b + 3 * c"
   ]
  },
  {
   "cell_type": "code",
   "execution_count": null,
   "id": "18e221ab",
   "metadata": {
    "tags": [
     "code-along"
    ]
   },
   "outputs": [],
   "source": []
  },
  {
   "cell_type": "markdown",
   "id": "d9ae139f",
   "metadata": {
    "lang": "en",
    "slideshow": {
     "slide_type": "slide"
    }
   },
   "source": [
    "## Be careful with variable default arguments"
   ]
  },
  {
   "cell_type": "code",
   "execution_count": null,
   "id": "bc2bc587",
   "metadata": {
    "tags": [
     "code-along"
    ]
   },
   "outputs": [],
   "source": []
  },
  {
   "cell_type": "code",
   "execution_count": null,
   "id": "9d263003",
   "metadata": {
    "tags": [
     "code-along"
    ]
   },
   "outputs": [],
   "source": []
  },
  {
   "cell_type": "code",
   "execution_count": null,
   "id": "e418534c",
   "metadata": {
    "tags": [
     "code-along"
    ]
   },
   "outputs": [],
   "source": []
  },
  {
   "cell_type": "markdown",
   "id": "bb51abdb",
   "metadata": {
    "lang": "en",
    "slideshow": {
     "slide_type": "slide"
    }
   },
   "source": [
    "Solution: use `Null` as argument, create a new list in each call"
   ]
  },
  {
   "cell_type": "code",
   "execution_count": null,
   "id": "2e011e36",
   "metadata": {
    "tags": [
     "code-along"
    ]
   },
   "outputs": [],
   "source": []
  },
  {
   "cell_type": "code",
   "execution_count": null,
   "id": "febdbc6a",
   "metadata": {
    "tags": [
     "code-along"
    ]
   },
   "outputs": [],
   "source": []
  },
  {
   "cell_type": "code",
   "execution_count": null,
   "id": "447594d4",
   "metadata": {
    "tags": [
     "code-along"
    ]
   },
   "outputs": [],
   "source": []
  },
  {
   "cell_type": "markdown",
   "id": "ec5d7e41",
   "metadata": {
    "lang": "en",
    "slideshow": {
     "slide_type": "slide"
    }
   },
   "source": [
    "## Calls with named arguments\n",
    "\n",
    "When calling a function, the parameter name can be specified in the form `parameter=value`.\n",
    "- The appropriate value is then substituted for the named parameter\n",
    "- If all parameters are named, the call becomes independent of the parameter order"
   ]
  },
  {
   "cell_type": "code",
   "execution_count": null,
   "id": "d7cf1c0e",
   "metadata": {
    "incorrectly_encoded_metadata": "{\"slideshow\": {\"slide_type\": \"subslide\"}} tags=[\"code-along\"]"
   },
   "outputs": [],
   "source": [
    "def say_hi(person, greeting=\"Hi\"):\n",
    "    print(greeting, \" \", person, \"!\", sep=\"\")"
   ]
  },
  {
   "cell_type": "code",
   "execution_count": null,
   "id": "e21e1f5c",
   "metadata": {
    "tags": [
     "code-along"
    ]
   },
   "outputs": [],
   "source": []
  },
  {
   "cell_type": "code",
   "execution_count": null,
   "id": "1e3af619",
   "metadata": {
    "tags": [
     "code-along"
    ]
   },
   "outputs": [],
   "source": []
  },
  {
   "cell_type": "code",
   "execution_count": null,
   "id": "d55500b9",
   "metadata": {
    "incorrectly_encoded_metadata": "{\"slideshow\": {\"slide_type\": \"subslide\"}} tags=[\"code-along\"]"
   },
   "outputs": [],
   "source": [
    "def add_weighted(a, b=0, c=0):\n",
    "    return a + 2 * b + 3 * c"
   ]
  },
  {
   "cell_type": "code",
   "execution_count": null,
   "id": "ea932def",
   "metadata": {
    "incorrectly_encoded_metadata": "{\"slideshow\": {\"slide_type\": \"subslide\"}} tags=[\"code-along\"]"
   },
   "outputs": [],
   "source": [
    "add_weighted(c=2, a=1)"
   ]
  },
  {
   "cell_type": "code",
   "execution_count": null,
   "id": "3b8849de",
   "metadata": {
    "tags": [
     "code-along"
    ]
   },
   "outputs": [],
   "source": []
  },
  {
   "cell_type": "markdown",
   "id": "77c55e31",
   "metadata": {
    "lang": "en",
    "slideshow": {
     "slide_type": "slide"
    }
   },
   "source": [
    "## Type annotations\n",
    "\n",
    "Python allows the types of function arguments and the return type to be specified:"
   ]
  },
  {
   "cell_type": "code",
   "execution_count": null,
   "id": "8187ce6d",
   "metadata": {
    "tags": [
     "code-along"
    ]
   },
   "outputs": [],
   "source": []
  },
  {
   "cell_type": "code",
   "execution_count": null,
   "id": "a5c34aa1",
   "metadata": {
    "tags": [
     "code-along"
    ]
   },
   "outputs": [],
   "source": []
  },
  {
   "cell_type": "markdown",
   "id": "fc9b17ef",
   "metadata": {
    "lang": "en",
    "slideshow": {
     "slide_type": "subslide"
    }
   },
   "source": [
    "Type annotations are for documentation only and are ignored by Python:"
   ]
  },
  {
   "cell_type": "code",
   "execution_count": null,
   "id": "0efdc0b3",
   "metadata": {
    "tags": [
     "code-along"
    ]
   },
   "outputs": [],
   "source": []
  },
  {
   "cell_type": "markdown",
   "id": "1ad13661",
   "metadata": {
    "lang": "en",
    "slideshow": {
     "slide_type": "subslide"
    }
   },
   "source": [
    "Type annotations can contain parametric types, optional types, etc.\n",
    "(*Note:* in older Python versions, `list` cannot take type parameters.)"
   ]
  },
  {
   "cell_type": "code",
   "execution_count": null,
   "id": "fbcab2e8",
   "metadata": {
    "tags": [
     "code-along"
    ]
   },
   "outputs": [],
   "source": []
  },
  {
   "cell_type": "code",
   "execution_count": null,
   "id": "e855e9e5",
   "metadata": {
    "incorrectly_encoded_metadata": "{\"slideshow\": {\"slide_type\": \"subslide\"}} tags=[\"code-along\"]"
   },
   "outputs": [],
   "source": [
    "my_list = [1, 2, 3]\n",
    "my_append(my_list, None)\n",
    "my_list"
   ]
  },
  {
   "cell_type": "code",
   "execution_count": null,
   "id": "76de172b",
   "metadata": {
    "tags": [
     "code-along"
    ]
   },
   "outputs": [],
   "source": []
  },
  {
   "cell_type": "markdown",
   "id": "ea635503",
   "metadata": {
    "lang": "en",
    "slideshow": {
     "slide_type": "slide"
    }
   },
   "source": [
    "## Docstrings\n",
    "\n",
    "Any function in Python can be documented using a string literal as a\n",
    "first element in the body. Most often, a `\"\"\"` string is used for this:"
   ]
  },
  {
   "cell_type": "code",
   "execution_count": null,
   "id": "0c0261a7",
   "metadata": {
    "incorrectly_encoded_metadata": "{\"slideshow\": {\"slide_type\": \"subslide\"}} tags=[\"code-along\"]"
   },
   "outputs": [],
   "source": [
    "def my_fun(x):\n",
    "    \"\"\"\n",
    "    Zeigt dem Benutzer den Wert von x an\n",
    "\n",
    "    Verwendung:\n",
    "    >>> my_fun(123)\n",
    "    \"\"\"\n",
    "    print(\"Das Argument x hat den Wert\", x)"
   ]
  },
  {
   "cell_type": "code",
   "execution_count": null,
   "id": "bcc44eea",
   "metadata": {
    "tags": [
     "code-along"
    ]
   },
   "outputs": [],
   "source": []
  },
  {
   "cell_type": "markdown",
   "id": "841f1ea3",
   "metadata": {
    "lang": "en",
    "slideshow": {
     "slide_type": "subslide"
    }
   },
   "source": [
    "Conventions for docstrings can be found in\n",
    "[PEP 257](https://www.python.org/dev/peps/pep-0257/)."
   ]
  },
  {
   "cell_type": "markdown",
   "id": "38216213",
   "metadata": {
    "lang": "en",
    "slideshow": {
     "slide_type": "subslide"
    }
   },
   "source": [
    "The docstring of a function can be output with `help()`:"
   ]
  },
  {
   "cell_type": "code",
   "execution_count": null,
   "id": "f5578985",
   "metadata": {
    "tags": [
     "code-along"
    ]
   },
   "outputs": [],
   "source": []
  },
  {
   "cell_type": "markdown",
   "id": "aa9c3cb2",
   "metadata": {
    "lang": "en",
    "slideshow": {
     "slide_type": "subslide"
    }
   },
   "source": [
    "In Jupyter, a function's docstring can be displayed by preceeding or following it with a question mark:"
   ]
  },
  {
   "cell_type": "code",
   "execution_count": null,
   "id": "1c873179",
   "metadata": {
    "lines_to_next_cell": 2,
    "tags": [
     "code-along"
    ]
   },
   "outputs": [],
   "source": []
  },
  {
   "cell_type": "code",
   "execution_count": null,
   "id": "da5ab7e1",
   "metadata": {
    "lines_to_next_cell": 2,
    "tags": [
     "code-along"
    ]
   },
   "outputs": [],
   "source": []
  },
  {
   "cell_type": "markdown",
   "id": "169cd5c9",
   "metadata": {
    "lang": "en",
    "slideshow": {
     "slide_type": "subslide"
    }
   },
   "source": [
    "Shift-Tab is often used instead:"
   ]
  },
  {
   "cell_type": "code",
   "execution_count": null,
   "id": "33526c3b",
   "metadata": {
    "tags": [
     "code-along"
    ]
   },
   "outputs": [],
   "source": []
  },
  {
   "cell_type": "markdown",
   "id": "8cbc4bf0",
   "metadata": {
    "lang": "en",
    "slideshow": {
     "slide_type": "subslide"
    }
   },
   "source": [
    "For functions with long docstrings, you can switch to the detailed display form by pressing `Shift-Tab` twice:"
   ]
  },
  {
   "cell_type": "code",
   "execution_count": null,
   "id": "bfba7c22",
   "metadata": {
    "tags": [
     "code-along"
    ]
   },
   "outputs": [],
   "source": []
  },
  {
   "cell_type": "code",
   "execution_count": null,
   "id": "7840afb3",
   "metadata": {
    "tags": [
     "code-along"
    ]
   },
   "outputs": [],
   "source": []
  },
  {
   "cell_type": "markdown",
   "id": "7adcb959",
   "metadata": {
    "lang": "en",
    "slideshow": {
     "slide_type": "subslide"
    }
   },
   "source": [
    "## Signature\n",
    "\n",
    "The number, names, default values (and possibly types) of a function's arguments and its return type are called its *signature*.\n",
    "\n",
    "Among other things, Jupyter displays the signature of a function when you type `Shift-Tab`:"
   ]
  },
  {
   "cell_type": "code",
   "execution_count": null,
   "id": "a3308343",
   "metadata": {
    "tags": [
     "code-along"
    ]
   },
   "outputs": [],
   "source": []
  },
  {
   "cell_type": "code",
   "execution_count": null,
   "id": "1a9c63ab",
   "metadata": {
    "tags": [
     "code-along"
    ]
   },
   "outputs": [],
   "source": []
  },
  {
   "cell_type": "code",
   "execution_count": null,
   "id": "c17a1e86",
   "metadata": {
    "tags": [
     "code-along"
    ]
   },
   "outputs": [],
   "source": []
  }
 ],
 "metadata": {
  "jupytext": {
   "cell_metadata_json": true,
   "encoding": "# -*- coding: utf-8 -*-",
   "formats": "ipynb"
  },
  "kernelspec": {
   "display_name": "Python 3 (ipykernel)",
   "language": "python",
   "name": "python3"
  }
 },
 "nbformat": 4,
 "nbformat_minor": 5
}
