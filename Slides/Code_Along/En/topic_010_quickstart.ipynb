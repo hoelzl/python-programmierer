{
 "cells": [
  {
   "cell_type": "markdown",
   "id": "5c42d8bc",
   "metadata": {
    "lang": "en",
    "slideshow": {
     "slide_type": "slide"
    }
   },
   "source": [
    "<img src=\"img/python-logo-notext.svg\"\n",
    "     style=\"display:block;margin:auto;width:10%\"/>\n",
    "<br>\n",
    "<div style=\"text-align:center; font-size:200%;\"><b>Quickstart</b></div>\n",
    "<br/>\n",
    "<div style=\"text-align:center;\">Dr. Matthias Hölzl</div>"
   ]
  },
  {
   "cell_type": "markdown",
   "id": "71c394be",
   "metadata": {
    "lang": "en"
   },
   "source": [
    "# Python and Jupyter notebooks\n",
    "\n",
    "We'll start with a brief introduction:\n",
    "- How does Python work?\n",
    "- What are Jupyter notebooks?"
   ]
  },
  {
   "cell_type": "markdown",
   "id": "16f2a1d1",
   "metadata": {
    "lang": "en"
   },
   "source": [
    "## Compiler (C++)\n",
    "\n",
    "<img src=\"img/compiler.svg\" style=\"width:60%;margin:auto\"/>"
   ]
  },
  {
   "cell_type": "markdown",
   "id": "c61e2a32",
   "metadata": {
    "lang": "en"
   },
   "source": [
    "## Interpreter (Python)\n",
    "\n",
    "<img src=\"img/interpreter.svg\" style=\"width:60%;margin:auto\"/>"
   ]
  },
  {
   "cell_type": "markdown",
   "id": "be5b835c",
   "metadata": {
    "lang": "en"
   },
   "source": [
    "## Jupyter Notebooks\n",
    "\n",
    "<img src=\"img/jupyter-notebook.svg\" style=\"width:60%;margin:auto\"/>"
   ]
  },
  {
   "cell_type": "code",
   "execution_count": null,
   "id": "7efd0033",
   "metadata": {
    "lines_to_next_cell": 2,
    "slideshow": {
     "slide_type": "subslide"
    }
   },
   "outputs": [],
   "source": [
    "import numpy as np\n",
    "import matplotlib.pyplot as plt\n",
    "\n",
    "page_load_time = np.random.normal(3.0, 1.0, 1000)\n",
    "purchase_amount = np.random.normal(50.0, 1.5, 1000) - page_load_time\n",
    "\n",
    "plt.figure(figsize=(12, 8))\n",
    "plt.scatter(page_load_time, purchase_amount)"
   ]
  },
  {
   "cell_type": "markdown",
   "id": "5d68c82c",
   "metadata": {
    "lang": "en"
   },
   "source": [
    "## Variables and data types\n",
    "\n",
    "Numbers and arithmetic:"
   ]
  },
  {
   "cell_type": "code",
   "execution_count": null,
   "id": "0788a70b",
   "metadata": {
    "tags": [
     "code-along"
    ]
   },
   "outputs": [],
   "source": []
  },
  {
   "cell_type": "code",
   "execution_count": null,
   "id": "26ded776",
   "metadata": {
    "tags": [
     "code-along"
    ]
   },
   "outputs": [],
   "source": []
  },
  {
   "cell_type": "code",
   "execution_count": null,
   "id": "756b5380",
   "metadata": {
    "tags": [
     "code-along"
    ]
   },
   "outputs": [],
   "source": []
  },
  {
   "cell_type": "markdown",
   "id": "f19f87e0",
   "metadata": {
    "lang": "en"
   },
   "source": [
    "## Strings"
   ]
  },
  {
   "cell_type": "code",
   "execution_count": null,
   "id": "c9f1d800",
   "metadata": {
    "tags": [
     "code-along"
    ]
   },
   "outputs": [],
   "source": []
  },
  {
   "cell_type": "code",
   "execution_count": null,
   "id": "a4a21311",
   "metadata": {
    "tags": [
     "code-along"
    ]
   },
   "outputs": [],
   "source": []
  },
  {
   "cell_type": "code",
   "execution_count": null,
   "id": "bcd97762",
   "metadata": {
    "tags": [
     "code-along"
    ]
   },
   "outputs": [],
   "source": []
  },
  {
   "cell_type": "code",
   "execution_count": null,
   "id": "731c17a0",
   "metadata": {
    "slideshow": {
     "slide_type": "subslide"
    },
    "tags": [
     "code-along"
    ]
   },
   "outputs": [],
   "source": []
  },
  {
   "cell_type": "code",
   "execution_count": null,
   "id": "d733d9a2",
   "metadata": {
    "tags": [
     "code-along"
    ]
   },
   "outputs": [],
   "source": []
  },
  {
   "cell_type": "markdown",
   "id": "e9d6977a",
   "metadata": {
    "lang": "en"
   },
   "source": [
    "### Variables"
   ]
  },
  {
   "cell_type": "code",
   "execution_count": null,
   "id": "8d0c0cfb",
   "metadata": {
    "tags": [
     "code-along"
    ]
   },
   "outputs": [],
   "source": []
  },
  {
   "cell_type": "code",
   "execution_count": null,
   "id": "ef8c96a7",
   "metadata": {
    "lines_to_next_cell": 2,
    "tags": [
     "code-along"
    ]
   },
   "outputs": [],
   "source": []
  },
  {
   "cell_type": "markdown",
   "id": "016b95d6",
   "metadata": {
    "lang": "en"
   },
   "source": [
    "## Jupyter notebooks: displaying values\n",
    "\n",
    "- Jupyter notebooks print the last value of each cell on the screen\n",
    "- That doesn't happen in \"normal\" Python programs!\n",
    "  - At least when they are executed as programs\n",
    "  - The interactive interpreter behaves similar to notebooks"
   ]
  },
  {
   "cell_type": "code",
   "execution_count": null,
   "id": "832e196d",
   "metadata": {
    "slideshow": {
     "slide_type": "subslide"
    },
    "tags": [
     "code-along"
    ]
   },
   "outputs": [],
   "source": []
  },
  {
   "cell_type": "markdown",
   "id": "a997568b",
   "metadata": {
    "lang": "en"
   },
   "source": [
    "To prevent the output of the last value of a cell in Jupyter\n",
    "you can end the line with a semicolon:"
   ]
  },
  {
   "cell_type": "code",
   "execution_count": null,
   "id": "e1e41267",
   "metadata": {
    "tags": [
     "code-along"
    ]
   },
   "outputs": [],
   "source": []
  },
  {
   "cell_type": "code",
   "execution_count": null,
   "id": "5e731cb7",
   "metadata": {
    "tags": [
     "code-along"
    ]
   },
   "outputs": [],
   "source": []
  },
  {
   "cell_type": "markdown",
   "id": "b44fdd9f",
   "metadata": {
    "lang": "en"
   },
   "source": [
    "Jupyter also displays the value of variables:"
   ]
  },
  {
   "cell_type": "code",
   "execution_count": null,
   "id": "04a443f4",
   "metadata": {
    "tags": [
     "code-along"
    ]
   },
   "outputs": [],
   "source": []
  },
  {
   "cell_type": "code",
   "execution_count": null,
   "id": "ccd57929",
   "metadata": {
    "tags": [
     "code-along"
    ]
   },
   "outputs": [],
   "source": []
  },
  {
   "cell_type": "code",
   "execution_count": null,
   "id": "bd62a3f5",
   "metadata": {
    "tags": [
     "code-along"
    ]
   },
   "outputs": [],
   "source": []
  },
  {
   "cell_type": "markdown",
   "id": "888a651c",
   "metadata": {
    "lang": "en"
   },
   "source": [
    "To display multiple values ​​you can use the `print()` function:\n",
    "\n",
    "`print(...)` prints the values between the trailing parens on the screen."
   ]
  },
  {
   "cell_type": "code",
   "execution_count": null,
   "id": "ef422e14",
   "metadata": {
    "tags": [
     "code-along"
    ]
   },
   "outputs": [],
   "source": []
  },
  {
   "cell_type": "code",
   "execution_count": null,
   "id": "b368c9dc",
   "metadata": {
    "tags": [
     "code-along"
    ]
   },
   "outputs": [],
   "source": []
  },
  {
   "cell_type": "code",
   "execution_count": null,
   "id": "c6f12d48",
   "metadata": {
    "tags": [
     "code-along"
    ]
   },
   "outputs": [],
   "source": []
  },
  {
   "cell_type": "code",
   "execution_count": null,
   "id": "836cf03d",
   "metadata": {
    "lines_to_next_cell": 2,
    "tags": [
     "code-along"
    ]
   },
   "outputs": [],
   "source": []
  },
  {
   "cell_type": "code",
   "execution_count": null,
   "id": "ac8d0390",
   "metadata": {
    "lines_to_next_cell": 2,
    "slideshow": {
     "slide_type": "subslide"
    },
    "tags": [
     "code-along"
    ]
   },
   "outputs": [],
   "source": []
  },
  {
   "cell_type": "markdown",
   "id": "34bf08e9",
   "metadata": {
    "lang": "en"
   },
   "source": [
    "Compare the output to the following cell:"
   ]
  },
  {
   "cell_type": "code",
   "execution_count": null,
   "id": "b4a3ffc9",
   "metadata": {
    "tags": [
     "code-along"
    ]
   },
   "outputs": [],
   "source": []
  },
  {
   "cell_type": "code",
   "execution_count": null,
   "id": "bf9558e5",
   "metadata": {
    "slideshow": {
     "slide_type": "subslide"
    },
    "tags": [
     "code-along"
    ]
   },
   "outputs": [],
   "source": []
  },
  {
   "cell_type": "code",
   "execution_count": null,
   "id": "54bf4297",
   "metadata": {
    "tags": [
     "code-along"
    ]
   },
   "outputs": [],
   "source": []
  },
  {
   "cell_type": "code",
   "execution_count": null,
   "id": "4005cb99",
   "metadata": {
    "tags": [
     "code-along"
    ]
   },
   "outputs": [],
   "source": []
  },
  {
   "cell_type": "markdown",
   "id": "fe01b90b",
   "metadata": {
    "lang": "en"
   },
   "source": [
    "## Types"
   ]
  },
  {
   "cell_type": "code",
   "execution_count": null,
   "id": "12d65111",
   "metadata": {
    "tags": [
     "code-along"
    ]
   },
   "outputs": [],
   "source": []
  },
  {
   "cell_type": "code",
   "execution_count": null,
   "id": "ad85154a",
   "metadata": {
    "tags": [
     "code-along"
    ]
   },
   "outputs": [],
   "source": []
  },
  {
   "cell_type": "code",
   "execution_count": null,
   "id": "62850bdd",
   "metadata": {
    "lines_to_next_cell": 2,
    "tags": [
     "code-along"
    ]
   },
   "outputs": [],
   "source": []
  },
  {
   "cell_type": "markdown",
   "id": "24c6ac3d",
   "metadata": {
    "lang": "en"
   },
   "source": [
    "### Predefined functions"
   ]
  },
  {
   "cell_type": "code",
   "execution_count": null,
   "id": "5e660588",
   "metadata": {
    "tags": [
     "code-along"
    ]
   },
   "outputs": [],
   "source": []
  },
  {
   "cell_type": "code",
   "execution_count": null,
   "id": "e923d129",
   "metadata": {
    "tags": [
     "code-along"
    ]
   },
   "outputs": [],
   "source": []
  },
  {
   "cell_type": "code",
   "execution_count": null,
   "id": "5f0fc251",
   "metadata": {
    "tags": [
     "code-along"
    ]
   },
   "outputs": [],
   "source": []
  },
  {
   "cell_type": "code",
   "execution_count": null,
   "id": "1db24605",
   "metadata": {
    "tags": [
     "code-along"
    ]
   },
   "outputs": [],
   "source": []
  },
  {
   "cell_type": "code",
   "execution_count": null,
   "id": "72fffd4b",
   "metadata": {
    "tags": [
     "code-along"
    ]
   },
   "outputs": [],
   "source": []
  },
  {
   "cell_type": "code",
   "execution_count": null,
   "id": "1b0e04b7",
   "metadata": {},
   "outputs": [],
   "source": [
    "print(round(0.5), round(1.5), round(2.5), round(3.5))"
   ]
  },
  {
   "cell_type": "markdown",
   "id": "75fad1ba",
   "metadata": {
    "lang": "en"
   },
   "source": [
    "## Functions"
   ]
  },
  {
   "cell_type": "code",
   "execution_count": null,
   "id": "7f1db2c7",
   "metadata": {
    "tags": [
     "code-along"
    ]
   },
   "outputs": [],
   "source": []
  },
  {
   "cell_type": "code",
   "execution_count": null,
   "id": "3eecbc59",
   "metadata": {
    "tags": [
     "code-along"
    ]
   },
   "outputs": [],
   "source": []
  },
  {
   "cell_type": "code",
   "execution_count": null,
   "id": "5bc6289e",
   "metadata": {
    "tags": [
     "code-along"
    ]
   },
   "outputs": [],
   "source": []
  },
  {
   "cell_type": "code",
   "execution_count": null,
   "id": "8a9f4a9e",
   "metadata": {
    "tags": [
     "code-along"
    ]
   },
   "outputs": [],
   "source": []
  },
  {
   "cell_type": "code",
   "execution_count": null,
   "id": "32f92779",
   "metadata": {},
   "outputs": [],
   "source": [
    "print(my_round(0.5), my_round(1.5), my_round(2.5), my_round(3.5))"
   ]
  },
  {
   "cell_type": "markdown",
   "id": "f66f0a47",
   "metadata": {
    "lang": "en"
   },
   "source": [
    "### Micro workshop\n",
    "\n",
    "Write a function `greeting(name)` that prints a greeting in the form\n",
    "\"Hello *name*!\" to the screen, e.g.\n",
    "```python\n",
    ">>> greeting(\"Max\")\n",
    "Hi Max!\n",
    ">>>\n",
    "```"
   ]
  },
  {
   "cell_type": "code",
   "execution_count": null,
   "id": "1ea3a354",
   "metadata": {
    "tags": [
     "code-along"
    ]
   },
   "outputs": [],
   "source": []
  },
  {
   "cell_type": "code",
   "execution_count": null,
   "id": "415f32f3",
   "metadata": {
    "tags": [
     "code-along"
    ]
   },
   "outputs": [],
   "source": []
  },
  {
   "cell_type": "markdown",
   "id": "3a8396de",
   "metadata": {
    "lang": "en"
   },
   "source": [
    "### Methods"
   ]
  },
  {
   "cell_type": "code",
   "execution_count": null,
   "id": "1c247291",
   "metadata": {
    "tags": [
     "code-along"
    ]
   },
   "outputs": [],
   "source": []
  },
  {
   "cell_type": "code",
   "execution_count": null,
   "id": "b95b5460",
   "metadata": {
    "tags": [
     "code-along"
    ]
   },
   "outputs": [],
   "source": []
  },
  {
   "cell_type": "code",
   "execution_count": null,
   "id": "99301852",
   "metadata": {
    "tags": [
     "code-along"
    ]
   },
   "outputs": [],
   "source": []
  },
  {
   "cell_type": "markdown",
   "id": "3c982608",
   "metadata": {
    "lang": "en"
   },
   "source": [
    "### Multiple parameters, default arguments"
   ]
  },
  {
   "cell_type": "code",
   "execution_count": null,
   "id": "ac78885e",
   "metadata": {
    "tags": [
     "code-along"
    ]
   },
   "outputs": [],
   "source": []
  },
  {
   "cell_type": "code",
   "execution_count": null,
   "id": "5a368831",
   "metadata": {
    "tags": [
     "code-along"
    ]
   },
   "outputs": [],
   "source": []
  },
  {
   "cell_type": "code",
   "execution_count": null,
   "id": "5f287626",
   "metadata": {
    "tags": [
     "code-along"
    ]
   },
   "outputs": [],
   "source": []
  },
  {
   "cell_type": "markdown",
   "id": "80d736ad",
   "metadata": {
    "lang": "en"
   },
   "source": [
    "### Nested function calls"
   ]
  },
  {
   "cell_type": "code",
   "execution_count": null,
   "id": "c62f1f32",
   "metadata": {
    "tags": [
     "code-along"
    ]
   },
   "outputs": [],
   "source": []
  },
  {
   "cell_type": "markdown",
   "id": "927e4c76",
   "metadata": {
    "lang": "en"
   },
   "source": [
    "### Type annotations"
   ]
  },
  {
   "cell_type": "code",
   "execution_count": null,
   "id": "c549545a",
   "metadata": {
    "tags": [
     "code-along"
    ]
   },
   "outputs": [],
   "source": []
  },
  {
   "cell_type": "code",
   "execution_count": null,
   "id": "57dc1452",
   "metadata": {
    "tags": [
     "code-along"
    ]
   },
   "outputs": [],
   "source": []
  },
  {
   "cell_type": "code",
   "execution_count": null,
   "id": "ab08e4e4",
   "metadata": {
    "tags": [
     "code-along"
    ]
   },
   "outputs": [],
   "source": []
  },
  {
   "cell_type": "markdown",
   "id": "17e48bc9",
   "metadata": {
    "lang": "en"
   },
   "source": [
    "## Lists and tuples"
   ]
  },
  {
   "cell_type": "code",
   "execution_count": null,
   "id": "7e888d40",
   "metadata": {
    "tags": [
     "code-along"
    ]
   },
   "outputs": [],
   "source": []
  },
  {
   "cell_type": "code",
   "execution_count": null,
   "id": "0d934f51",
   "metadata": {
    "tags": [
     "code-along"
    ]
   },
   "outputs": [],
   "source": []
  },
  {
   "cell_type": "code",
   "execution_count": null,
   "id": "fc587713",
   "metadata": {
    "slideshow": {
     "slide_type": "subslide"
    },
    "tags": [
     "code-along"
    ]
   },
   "outputs": [],
   "source": []
  },
  {
   "cell_type": "code",
   "execution_count": null,
   "id": "557186c4",
   "metadata": {
    "tags": [
     "code-along"
    ]
   },
   "outputs": [],
   "source": []
  },
  {
   "cell_type": "code",
   "execution_count": null,
   "id": "dc78e2ba",
   "metadata": {
    "tags": [
     "code-along"
    ]
   },
   "outputs": [],
   "source": []
  },
  {
   "cell_type": "code",
   "execution_count": null,
   "id": "d0141912",
   "metadata": {
    "tags": [
     "code-along"
    ]
   },
   "outputs": [],
   "source": []
  },
  {
   "cell_type": "code",
   "execution_count": null,
   "id": "47ecfeac",
   "metadata": {
    "slideshow": {
     "slide_type": "subslide"
    },
    "tags": [
     "code-along"
    ]
   },
   "outputs": [],
   "source": []
  },
  {
   "cell_type": "code",
   "execution_count": null,
   "id": "442b4a02",
   "metadata": {
    "lines_to_next_cell": 2,
    "tags": [
     "code-along"
    ]
   },
   "outputs": [],
   "source": []
  },
  {
   "cell_type": "markdown",
   "id": "2d9c9a01",
   "metadata": {
    "lang": "en"
   },
   "source": [
    "## Boolean values ​​and `if` statements"
   ]
  },
  {
   "cell_type": "code",
   "execution_count": null,
   "id": "9737bf99",
   "metadata": {
    "tags": [
     "code-along"
    ]
   },
   "outputs": [],
   "source": []
  },
  {
   "cell_type": "code",
   "execution_count": null,
   "id": "20d9bbe7",
   "metadata": {
    "tags": [
     "code-along"
    ]
   },
   "outputs": [],
   "source": []
  },
  {
   "cell_type": "code",
   "execution_count": null,
   "id": "3a8ac61a",
   "metadata": {
    "tags": [
     "code-along"
    ]
   },
   "outputs": [],
   "source": []
  },
  {
   "cell_type": "code",
   "execution_count": null,
   "id": "3b36747c",
   "metadata": {
    "tags": [
     "code-along"
    ]
   },
   "outputs": [],
   "source": []
  },
  {
   "cell_type": "code",
   "execution_count": null,
   "id": "63f535c7",
   "metadata": {
    "slideshow": {
     "slide_type": "subslide"
    }
   },
   "outputs": [],
   "source": [
    "def print_size(n):\n",
    "    if n < 10:\n",
    "        print(\"Very small\")\n",
    "    elif n < 15:\n",
    "        print(\"Pretty small\")\n",
    "    elif n < 30:\n",
    "        print(\"Average\")\n",
    "    else:\n",
    "        print(\"Large\")"
   ]
  },
  {
   "cell_type": "code",
   "execution_count": null,
   "id": "870ae133",
   "metadata": {
    "slideshow": {
     "slide_type": "subslide"
    }
   },
   "outputs": [],
   "source": [
    "print_size(1)\n",
    "print_size(10)\n",
    "print_size(20)\n",
    "print_size(100)"
   ]
  },
  {
   "cell_type": "markdown",
   "id": "7d379557",
   "metadata": {
    "lang": "en"
   },
   "source": [
    "### Micro workshop\n",
    "\n",
    "Write a function `fits_in_line(text: str, line_length: int = 72)`,\n",
    "which returns `True` or `False` depending on whether `text` fits into a line of\n",
    "length `line_length`:\n",
    "```python\n",
    ">>> fits_in_line(\"Hello\")\n",
    "True\n",
    ">>> fits_in_line(\"Hello\", 3)\n",
    "False\n",
    ">>>\n",
    "```\n",
    "\n",
    "Write a function `print_line(text: str, line_length:int = 72)`,\n",
    "that\n",
    "* prints `text` to the screen if that is possible in a line of length\n",
    "  `line_length`\n",
    "* prints `...` if that is not possible.\n",
    "\n",
    "```python\n",
    ">>> print_line(\"Hello\")\n",
    "Hello\n",
    ">>> print_line(\"Hello\", 3)\n",
    "...\n",
    ">>>\n",
    "```"
   ]
  },
  {
   "cell_type": "code",
   "execution_count": null,
   "id": "09c2565b",
   "metadata": {
    "tags": [
     "code-along"
    ]
   },
   "outputs": [],
   "source": []
  },
  {
   "cell_type": "code",
   "execution_count": null,
   "id": "3ac4f02f",
   "metadata": {
    "tags": [
     "code-along"
    ]
   },
   "outputs": [],
   "source": []
  },
  {
   "cell_type": "code",
   "execution_count": null,
   "id": "7dd23ca0",
   "metadata": {
    "tags": [
     "code-along"
    ]
   },
   "outputs": [],
   "source": []
  },
  {
   "cell_type": "code",
   "execution_count": null,
   "id": "6aad8e99",
   "metadata": {
    "tags": [
     "code-along"
    ]
   },
   "outputs": [],
   "source": []
  },
  {
   "cell_type": "code",
   "execution_count": null,
   "id": "3133df12",
   "metadata": {
    "tags": [
     "code-along"
    ]
   },
   "outputs": [],
   "source": []
  },
  {
   "cell_type": "code",
   "execution_count": null,
   "id": "1f972f5d",
   "metadata": {
    "lines_to_next_cell": 2,
    "tags": [
     "code-along"
    ]
   },
   "outputs": [],
   "source": []
  },
  {
   "cell_type": "markdown",
   "id": "54cb6ca6",
   "metadata": {
    "lang": "en"
   },
   "source": [
    "## `for` loops"
   ]
  },
  {
   "cell_type": "code",
   "execution_count": null,
   "id": "a6b1dc0d",
   "metadata": {
    "slideshow": {
     "slide_type": "subslide"
    },
    "tags": [
     "code-along"
    ]
   },
   "outputs": [],
   "source": []
  },
  {
   "cell_type": "code",
   "execution_count": null,
   "id": "b0bb2d27",
   "metadata": {
    "tags": [
     "code-along"
    ]
   },
   "outputs": [],
   "source": []
  },
  {
   "cell_type": "markdown",
   "id": "1d3c6969",
   "metadata": {
    "lang": "en"
   },
   "source": [
    "### Micro workshop\n",
    "\n",
    "Write a function `print_all(items: list)` that prints the elements of a\n",
    "list `items` to the screen, one item per line:\n",
    "\n",
    "```python\n",
    ">>> print_all([1, 2, 3])\n",
    "1\n",
    "2\n",
    "3\n",
    ">>>\n",
    "```\n",
    "What happens if you call the function with a string as an argument,\n",
    "e.g. `print_all(\"abc\")`"
   ]
  },
  {
   "cell_type": "code",
   "execution_count": null,
   "id": "8e746ef6",
   "metadata": {
    "tags": [
     "code-along"
    ]
   },
   "outputs": [],
   "source": []
  },
  {
   "cell_type": "code",
   "execution_count": null,
   "id": "74512f2f",
   "metadata": {
    "tags": [
     "code-along"
    ]
   },
   "outputs": [],
   "source": []
  },
  {
   "cell_type": "code",
   "execution_count": null,
   "id": "ed154ab1",
   "metadata": {
    "tags": [
     "code-along"
    ]
   },
   "outputs": [],
   "source": []
  },
  {
   "cell_type": "code",
   "execution_count": null,
   "id": "056053e1",
   "metadata": {
    "slideshow": {
     "slide_type": "subslide"
    },
    "tags": [
     "code-along"
    ]
   },
   "outputs": [],
   "source": []
  },
  {
   "cell_type": "code",
   "execution_count": null,
   "id": "1de12e8e",
   "metadata": {
    "tags": [
     "code-along"
    ]
   },
   "outputs": [],
   "source": []
  },
  {
   "cell_type": "markdown",
   "id": "212edb13",
   "metadata": {
    "lang": "en"
   },
   "source": [
    "### Micro workshop\n",
    "\n",
    "Write a function `print_squares(n: int)` that prints the squares of the\n",
    "numbers from 1 to n, one element per line:\n",
    "\n",
    "```python\n",
    ">>>print_square(3)\n",
    "1**2 = 1\n",
    "2**2 = 4\n",
    "3**2 = 9\n",
    ">>>\n",
    "```"
   ]
  },
  {
   "cell_type": "code",
   "execution_count": null,
   "id": "d7ca28f8",
   "metadata": {
    "tags": [
     "code-along"
    ]
   },
   "outputs": [],
   "source": []
  },
  {
   "cell_type": "code",
   "execution_count": null,
   "id": "560f3b3c",
   "metadata": {
    "tags": [
     "code-along"
    ]
   },
   "outputs": [],
   "source": []
  },
  {
   "cell_type": "markdown",
   "id": "0fd3e526",
   "metadata": {
    "lang": "en"
   },
   "source": [
    "## Dictionaries"
   ]
  },
  {
   "cell_type": "code",
   "execution_count": null,
   "id": "c8b1e280",
   "metadata": {},
   "outputs": [],
   "source": [
    "translations = {\"snake\": \"Schlange\", \"bat\": \"Fledermaus\", \"horse\": \"Hose\"}"
   ]
  },
  {
   "cell_type": "code",
   "execution_count": null,
   "id": "9b07a703",
   "metadata": {
    "tags": [
     "code-along"
    ]
   },
   "outputs": [],
   "source": []
  },
  {
   "cell_type": "code",
   "execution_count": null,
   "id": "62c0cd16",
   "metadata": {
    "tags": [
     "code-along"
    ]
   },
   "outputs": [],
   "source": []
  },
  {
   "cell_type": "code",
   "execution_count": null,
   "id": "e0eff301",
   "metadata": {
    "slideshow": {
     "slide_type": "subslide"
    },
    "tags": [
     "code-along"
    ]
   },
   "outputs": [],
   "source": []
  },
  {
   "cell_type": "code",
   "execution_count": null,
   "id": "388b1182",
   "metadata": {
    "slideshow": {
     "slide_type": "subslide"
    },
    "tags": [
     "code-along"
    ]
   },
   "outputs": [],
   "source": []
  },
  {
   "cell_type": "code",
   "execution_count": null,
   "id": "21e3665d",
   "metadata": {
    "slideshow": {
     "slide_type": "subslide"
    },
    "tags": [
     "code-along"
    ]
   },
   "outputs": [],
   "source": []
  },
  {
   "cell_type": "code",
   "execution_count": null,
   "id": "67b26055",
   "metadata": {
    "tags": [
     "code-along"
    ]
   },
   "outputs": [],
   "source": []
  },
  {
   "cell_type": "code",
   "execution_count": null,
   "id": "e8795559",
   "metadata": {
    "slideshow": {
     "slide_type": "subslide"
    },
    "tags": [
     "code-along"
    ]
   },
   "outputs": [],
   "source": []
  },
  {
   "cell_type": "code",
   "execution_count": null,
   "id": "89853134",
   "metadata": {
    "tags": [
     "code-along"
    ]
   },
   "outputs": [],
   "source": []
  },
  {
   "cell_type": "code",
   "execution_count": null,
   "id": "cada5db9",
   "metadata": {},
   "outputs": [],
   "source": []
  }
 ],
 "metadata": {
  "jupytext": {
   "cell_metadata_json": true,
   "encoding": "# -*- coding: utf-8 -*-",
   "formats": "ipynb"
  },
  "kernelspec": {
   "display_name": "Python 3 (ipykernel)",
   "language": "python",
   "name": "python3"
  }
 },
 "nbformat": 4,
 "nbformat_minor": 5
}
