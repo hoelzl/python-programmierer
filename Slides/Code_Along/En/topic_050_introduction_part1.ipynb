{
 "cells": [
  {
   "cell_type": "markdown",
   "id": "66d18820",
   "metadata": {
    "lang": "en",
    "slideshow": {
     "slide_type": "slide"
    }
   },
   "source": [
    "<img src=\"img/python-logo-notext.svg\"\n",
    "     style=\"display:block;margin:auto;width:10%\"/>\n",
    "<br>\n",
    "<div style=\"text-align:center; font-size:200%;\"><b>Introduction to Python: Part 1</b></div>\n",
    "<br/>\n",
    "<div style=\"text-align:center;\">Dr. Matthias Hölzl</div>"
   ]
  },
  {
   "cell_type": "markdown",
   "id": "f92b94bf",
   "metadata": {
    "lang": "en",
    "slideshow": {
     "slide_type": "slide"
    }
   },
   "source": [
    "# Parts of a program\n",
    "\n",
    "We want to write a program that outputs\n",
    "\n",
    "```\n",
    "Hello world!\n",
    "```\n",
    "\n",
    "on the screen.\n",
    "\n",
    "What do we need for this?"
   ]
  },
  {
   "cell_type": "markdown",
   "id": "47f982a8",
   "metadata": {
    "lang": "en",
    "slideshow": {
     "slide_type": "subslide"
    }
   },
   "source": [
    "What do we need for this?\n",
    "\n",
    "- Data\n",
    "    - the text `Hello, world!`\n",
    "- Instructions\n",
    "    - *Output the following text on the screen*\n",
    "- Comments\n",
    "    - Notes for the programmer, are ignored by Python"
   ]
  },
  {
   "cell_type": "markdown",
   "id": "ada3f070",
   "metadata": {
    "lang": "en",
    "slideshow": {
     "slide_type": "subslide"
    }
   },
   "source": [
    "## Comments\n",
    "\n",
    "- `#` followed by any text\n",
    "- to the end of the line"
   ]
  },
  {
   "cell_type": "code",
   "execution_count": null,
   "id": "0cb36dde",
   "metadata": {
    "lines_to_next_cell": 2
   },
   "outputs": [],
   "source": [
    "# Das ist ein Kommentar.\n",
    "# Alle Zeilen in dieser Zelle werden\n",
    "# von Python ignoriert."
   ]
  },
  {
   "cell_type": "markdown",
   "id": "f067c917",
   "metadata": {
    "lang": "en",
    "slideshow": {
     "slide_type": "subslide"
    }
   },
   "source": [
    "# Data\n",
    "\n",
    "- Numbers: `123`, `3.141592`\n",
    "- Text (strings): `'This is a text'`, `\"Hello, world!\"`"
   ]
  },
  {
   "cell_type": "code",
   "execution_count": null,
   "id": "a9c94870",
   "metadata": {
    "incorrectly_encoded_metadata": "{\"slideshow\": {\"slide_type\": \"subslide\"}} tags=[\"code-along\"]"
   },
   "outputs": [],
   "source": [
    "123"
   ]
  },
  {
   "cell_type": "code",
   "execution_count": null,
   "id": "26df8dd0",
   "metadata": {
    "tags": [
     "code-along"
    ]
   },
   "outputs": [],
   "source": []
  },
  {
   "cell_type": "code",
   "execution_count": null,
   "id": "c578f8ff",
   "metadata": {
    "incorrectly_encoded_metadata": "{\"slideshow\": {\"slide_type\": \"subslide\"}} tags=[\"code-along\"]"
   },
   "outputs": [],
   "source": [
    "\"Das ist ein Text\""
   ]
  },
  {
   "cell_type": "code",
   "execution_count": null,
   "id": "ec408078",
   "metadata": {
    "tags": [
     "code-along"
    ]
   },
   "outputs": [],
   "source": []
  },
  {
   "cell_type": "code",
   "execution_count": null,
   "id": "e47d2cdf",
   "metadata": {
    "tags": [
     "code-along"
    ]
   },
   "outputs": [],
   "source": []
  },
  {
   "cell_type": "markdown",
   "id": "0473cf6f",
   "metadata": {
    "lang": "en",
    "slideshow": {
     "slide_type": "subslide"
    }
   },
   "source": [
    "## Mini workshop\n",
    "\n",
    "- Notebook `workshop_050_introduction_part1`\n",
    "- Section \"Introduction\""
   ]
  },
  {
   "cell_type": "markdown",
   "id": "c1722431",
   "metadata": {
    "lang": "en",
    "slideshow": {
     "slide_type": "slide"
    }
   },
   "source": [
    "## Reminder: `print()` function\n",
    "\n",
    "Multiple arguments can be passed to a `print()` statement.\n",
    "- The arguments are separated by commas\n",
    "- All arguments are printed on one line, with spaces between arguments."
   ]
  },
  {
   "cell_type": "code",
   "execution_count": null,
   "id": "6faee023",
   "metadata": {
    "tags": [
     "code-along"
    ]
   },
   "outputs": [],
   "source": []
  },
  {
   "cell_type": "markdown",
   "id": "f898af67",
   "metadata": {
    "lang": "en",
    "slideshow": {
     "slide_type": "subslide"
    }
   },
   "source": [
    "By supplying a *named argument* `sep=''`, the spaces in the output are suppressed:"
   ]
  },
  {
   "cell_type": "code",
   "execution_count": null,
   "id": "ff1e8892",
   "metadata": {
    "tags": [
     "code-along"
    ]
   },
   "outputs": [],
   "source": []
  },
  {
   "cell_type": "markdown",
   "id": "b887f49f",
   "metadata": {
    "lang": "en",
    "slideshow": {
     "slide_type": "subslide"
    }
   },
   "source": [
    "Any other strings are also allowed as the value of the `sep` argument:"
   ]
  },
  {
   "cell_type": "code",
   "execution_count": null,
   "id": "570d7d19",
   "metadata": {
    "tags": [
     "code-along"
    ]
   },
   "outputs": [],
   "source": []
  },
  {
   "cell_type": "code",
   "execution_count": null,
   "id": "733344e9",
   "metadata": {
    "tags": [
     "code-along"
    ]
   },
   "outputs": [],
   "source": []
  },
  {
   "cell_type": "markdown",
   "id": "9cf134b3",
   "metadata": {
    "lang": "en",
    "slideshow": {
     "slide_type": "slide"
    }
   },
   "source": [
    "# Numbers and maths\n",
    "\n",
    "- Integers: `1`, `837`, `-12`\n",
    "- Floating point numbers: `0.5`, `123.4`, `-0.01`\n",
    "- Arithmetic operations:\n",
    "    - Addition: `+`\n",
    "    - Subtraction: `-`\n",
    "    - Multiplication: `*`\n",
    "    - Division: `/`"
   ]
  },
  {
   "cell_type": "markdown",
   "id": "23c25e4a",
   "metadata": {
    "lang": "en",
    "slideshow": {
     "slide_type": "subslide"
    }
   },
   "source": [
    "## Python as pocket calculator"
   ]
  },
  {
   "cell_type": "code",
   "execution_count": null,
   "id": "b979b321",
   "metadata": {
    "tags": [
     "code-along"
    ]
   },
   "outputs": [],
   "source": []
  },
  {
   "cell_type": "code",
   "execution_count": null,
   "id": "3cf0eeba",
   "metadata": {
    "tags": [
     "code-along"
    ]
   },
   "outputs": [],
   "source": []
  },
  {
   "cell_type": "markdown",
   "id": "08d88d78",
   "metadata": {
    "lang": "en",
    "slideshow": {
     "slide_type": "subslide"
    }
   },
   "source": [
    "## Different types of numbers\n",
    "\n",
    "- Python distinguishes integers and floating point numbers:\n",
    "    - `1` is an integer (`int`)\n",
    "    - `1.0` is a floating point number (`float`)\n",
    "- With `type(...)` you can get the type of the argument:"
   ]
  },
  {
   "cell_type": "code",
   "execution_count": null,
   "id": "8932b0cb",
   "metadata": {
    "incorrectly_encoded_metadata": "{\"slideshow\": {\"slide_type\": \"subslide\"}} tags=[\"code-along\"]"
   },
   "outputs": [],
   "source": [
    "type(1)"
   ]
  },
  {
   "cell_type": "code",
   "execution_count": null,
   "id": "79ce4d3d",
   "metadata": {
    "tags": [
     "code-along"
    ]
   },
   "outputs": [],
   "source": []
  },
  {
   "cell_type": "code",
   "execution_count": null,
   "id": "d406d059",
   "metadata": {
    "tags": [
     "code-along"
    ]
   },
   "outputs": [],
   "source": []
  },
  {
   "cell_type": "markdown",
   "id": "c72c4b91",
   "metadata": {
    "lang": "en",
    "slideshow": {
     "slide_type": "subslide"
    }
   },
   "source": [
    "Integers in Python have no (practically relevant) upper limit:"
   ]
  },
  {
   "cell_type": "code",
   "execution_count": null,
   "id": "0fc7b155",
   "metadata": {
    "tags": [
     "code-along"
    ]
   },
   "outputs": [],
   "source": []
  },
  {
   "cell_type": "code",
   "execution_count": null,
   "id": "d02f1585",
   "metadata": {
    "tags": [
     "code-along"
    ]
   },
   "outputs": [],
   "source": []
  },
  {
   "cell_type": "markdown",
   "id": "90917c85",
   "metadata": {
    "lang": "en",
    "slideshow": {
     "slide_type": "subslide"
    }
   },
   "source": [
    "## Mini workshop\n",
    "\n",
    "- Notebook `workshop_050_introduction_part1`\n",
    "- Section \"Numbers and mathematics\""
   ]
  },
  {
   "cell_type": "markdown",
   "id": "2de0f24e",
   "metadata": {
    "lang": "en",
    "slideshow": {
     "slide_type": "slide"
    }
   },
   "source": [
    "## Arithmetic operations\n",
    "\n",
    "| Operator | Operation            |\n",
    "|:--------:|:---------------------|\n",
    "| +        | Sum                  |\n",
    "| -        | Difference           |\n",
    "| *        | Multiplication       |\n",
    "| /        | Division             |\n",
    "| **       | Power                |\n",
    "| %        | Modulo, Remainder    |\n",
    "| //       | Integer division     |"
   ]
  },
  {
   "cell_type": "markdown",
   "id": "f5ff98de",
   "metadata": {
    "lang": "en",
    "slideshow": {
     "slide_type": "subslide"
    }
   },
   "source": [
    "### Division"
   ]
  },
  {
   "cell_type": "code",
   "execution_count": null,
   "id": "e4d7a01f",
   "metadata": {
    "tags": [
     "code-along"
    ]
   },
   "outputs": [],
   "source": []
  },
  {
   "cell_type": "code",
   "execution_count": null,
   "id": "39cf1661",
   "metadata": {
    "tags": [
     "code-along"
    ]
   },
   "outputs": [],
   "source": []
  },
  {
   "cell_type": "code",
   "execution_count": null,
   "id": "ec480281",
   "metadata": {
    "incorrectly_encoded_metadata": "{\"slideshow\": {\"slide_type\": \"subslide\"}} tags=[\"code-along\"]"
   },
   "outputs": [],
   "source": [
    "# // und % können zur Division mit Rest verwendet werden:\n",
    "20 // 7  # Wie oft geht 7 in 20?"
   ]
  },
  {
   "cell_type": "code",
   "execution_count": null,
   "id": "3df96620",
   "metadata": {
    "tags": [
     "code-along"
    ]
   },
   "outputs": [],
   "source": []
  },
  {
   "cell_type": "code",
   "execution_count": null,
   "id": "693cc435",
   "metadata": {
    "tags": [
     "code-along"
    ]
   },
   "outputs": [],
   "source": []
  },
  {
   "cell_type": "markdown",
   "id": "64a4bca3",
   "metadata": {
    "lang": "en",
    "slideshow": {
     "slide_type": "subslide"
    }
   },
   "source": [
    "`/` is left-associative (just like `//`, `%`, `+`, `-`, `*`)"
   ]
  },
  {
   "cell_type": "code",
   "execution_count": null,
   "id": "ef1c7989",
   "metadata": {
    "tags": [
     "code-along"
    ]
   },
   "outputs": [],
   "source": []
  },
  {
   "cell_type": "code",
   "execution_count": null,
   "id": "23aa9efa",
   "metadata": {
    "tags": [
     "code-along"
    ]
   },
   "outputs": [],
   "source": []
  },
  {
   "cell_type": "code",
   "execution_count": null,
   "id": "0971c716",
   "metadata": {
    "tags": [
     "code-along"
    ]
   },
   "outputs": [],
   "source": []
  },
  {
   "cell_type": "markdown",
   "id": "c128f369",
   "metadata": {
    "lang": "en",
    "slideshow": {
     "slide_type": "subslide"
    }
   },
   "source": [
    "### Exponentiation (power)"
   ]
  },
  {
   "cell_type": "code",
   "execution_count": null,
   "id": "d7314334",
   "metadata": {
    "tags": [
     "code-along"
    ]
   },
   "outputs": [],
   "source": []
  },
  {
   "cell_type": "code",
   "execution_count": null,
   "id": "cb53ba08",
   "metadata": {
    "tags": [
     "code-along"
    ]
   },
   "outputs": [],
   "source": []
  },
  {
   "cell_type": "code",
   "execution_count": null,
   "id": "6aa87e2b",
   "metadata": {
    "tags": [
     "code-along"
    ]
   },
   "outputs": [],
   "source": []
  },
  {
   "cell_type": "code",
   "execution_count": null,
   "id": "cb585d11",
   "metadata": {
    "tags": [
     "code-along"
    ]
   },
   "outputs": [],
   "source": []
  },
  {
   "cell_type": "markdown",
   "id": "2f17c82f",
   "metadata": {
    "lang": "en",
    "slideshow": {
     "slide_type": "subslide"
    }
   },
   "source": [
    "`**` is right-associative\n",
    "\n",
    "$2^{(2^3)} = 2^8 = 256 \\qquad$\n",
    "$(2^2)^3 = 4^3 = 64$"
   ]
  },
  {
   "cell_type": "code",
   "execution_count": null,
   "id": "f6f11376",
   "metadata": {
    "tags": [
     "code-along"
    ]
   },
   "outputs": [],
   "source": []
  },
  {
   "cell_type": "code",
   "execution_count": null,
   "id": "c4560cab",
   "metadata": {
    "tags": [
     "code-along"
    ]
   },
   "outputs": [],
   "source": []
  },
  {
   "cell_type": "code",
   "execution_count": null,
   "id": "35f8e815",
   "metadata": {
    "tags": [
     "code-along"
    ]
   },
   "outputs": [],
   "source": []
  },
  {
   "cell_type": "markdown",
   "id": "e676e386",
   "metadata": {
    "lang": "en",
    "slideshow": {
     "slide_type": "subslide"
    }
   },
   "source": [
    "The `**` operator can also be used to extract roots:\n",
    "\n",
    "$\\sqrt{4} = 4^{1/2} = 2\\qquad$\n",
    "$\\sqrt{9} = 9^{1/2} = 3\\qquad$\n",
    "$\\sqrt{2} = 2^{1/2} \\approx 1.4142\\qquad$"
   ]
  },
  {
   "cell_type": "code",
   "execution_count": null,
   "id": "0c6a6f7f",
   "metadata": {
    "tags": [
     "code-along"
    ]
   },
   "outputs": [],
   "source": []
  },
  {
   "cell_type": "code",
   "execution_count": null,
   "id": "3190aecd",
   "metadata": {
    "tags": [
     "code-along"
    ]
   },
   "outputs": [],
   "source": []
  },
  {
   "cell_type": "code",
   "execution_count": null,
   "id": "d67f6af5",
   "metadata": {
    "tags": [
     "code-along"
    ]
   },
   "outputs": [],
   "source": []
  },
  {
   "cell_type": "markdown",
   "id": "6ac3aa31",
   "metadata": {
    "lang": "en",
    "slideshow": {
     "slide_type": "slide"
    }
   },
   "source": [
    "# Variables\n",
    "\n",
    "We want to build a fence around our new property.\n",
    "\n",
    "<img src=\"img/fence.svg\" style=\"display:block;margin:auto;width:50%\"/>"
   ]
  },
  {
   "cell_type": "markdown",
   "id": "b12715d2",
   "metadata": {
    "lang": "en"
   },
   "source": [
    "<img src=\"img/fence.svg\" style=\"vertical-align:top;overflow:auto;float:right;width:25%\"/>\n",
    "\n",
    "The measured lengths are:\n",
    "- Birkenweg: 20m\n",
    "- Fichtengasse: 30m\n",
    "\n",
    "How long does our fence have to be?"
   ]
  },
  {
   "cell_type": "code",
   "execution_count": null,
   "id": "2843f753",
   "metadata": {
    "tags": [
     "code-along"
    ]
   },
   "outputs": [],
   "source": []
  },
  {
   "cell_type": "markdown",
   "id": "e0fa246e",
   "metadata": {
    "lang": "en",
    "slideshow": {
     "slide_type": "subslide"
    }
   },
   "source": [
    "<img src=\"img/fence.svg\" style=\"vertical-align:top;overflow:auto;float:right;width:25%\"/>\n",
    "\n",
    "It is not clear what the numbers in the preceding expression mean. Can we do better?"
   ]
  },
  {
   "cell_type": "code",
   "execution_count": null,
   "id": "86e895d2",
   "metadata": {
    "tags": [
     "code-along"
    ]
   },
   "outputs": [],
   "source": []
  },
  {
   "cell_type": "markdown",
   "id": "f9d0b2b5",
   "metadata": {
    "lang": "en",
    "slideshow": {
     "slide_type": "slide"
    }
   },
   "source": [
    "## More detailed description of variables\n",
    "\n",
    "<img src=\"img/variables-01.svg\" style=\"float:right;margin:auto;width:50%\"/>\n",
    "\n",
    "A *variable* is\n",
    "- a <span style=\"color:red;\">\"reference\"</span> to an \"object\"\n",
    "- which has a <span style=\"color:red;\">name</span>.\n",
    "\n",
    "<span style=\"color:blue;\">An object </span> can be referenced by<span style=\"color:blue;\"> several variables </span>!"
   ]
  },
  {
   "cell_type": "markdown",
   "id": "eb457605",
   "metadata": {
    "lang": "en",
    "slideshow": {
     "slide_type": "subslide"
    }
   },
   "source": [
    "<img src=\"img/variables-01.svg\" style=\"float:right;margin:auto;width:50%\"/>\n",
    "\n",
    "A variable is\n",
    "- generated by `name = value`\n",
    "- read by `name`\n",
    "- changed by `name=value`\n",
    "\n",
    "Creating and changing variable <br/>\n",
    "are *statements*."
   ]
  },
  {
   "cell_type": "code",
   "execution_count": null,
   "id": "1974f8b0",
   "metadata": {
    "incorrectly_encoded_metadata": "{\"slideshow\": {\"slide_type\": \"subslide\"}} tags=[\"code-along\"]"
   },
   "outputs": [],
   "source": [
    "länge_birkenweg = 20\n",
    "print(länge_birkenweg)\n",
    "länge_birkenweg = 25\n",
    "print(länge_birkenweg)"
   ]
  },
  {
   "cell_type": "markdown",
   "id": "3f02d424",
   "metadata": {
    "lang": "en",
    "slideshow": {
     "slide_type": "slide"
    }
   },
   "source": [
    "## Properties of variables in Python\n",
    "\n",
    "- A variable can store values of any data type\n",
    "    - There are no `int` variables, etc.\n",
    "    - Anather way of saying this: Python is dynamically typed\n",
    "- Variables must be created before they are used\n",
    "- You can assign new values to variables\n",
    "    - The *old value* of the variable can be used on the right hand side:<br/> `jobs = jobs + 1`"
   ]
  },
  {
   "cell_type": "code",
   "execution_count": null,
   "id": "118523d5",
   "metadata": {
    "incorrectly_encoded_metadata": "{\"slideshow\": {\"slide_type\": \"subslide\"}} tags=[\"code-along\"]"
   },
   "outputs": [],
   "source": [
    "x = \"Hallo!\"\n",
    "print(x)\n",
    "x = 123\n",
    "print(x)\n",
    "x = x + 1\n",
    "print(x)\n",
    "x += 1\n",
    "print(x)"
   ]
  },
  {
   "cell_type": "code",
   "execution_count": null,
   "id": "b644d726",
   "metadata": {
    "incorrectly_encoded_metadata": "{\"slideshow\": {\"slide_type\": \"subslide\"}} tags=[\"code-along\"]",
    "lines_to_next_cell": 2
   },
   "outputs": [],
   "source": [
    "# print(diese_variable_gibt_es_nicht)"
   ]
  },
  {
   "cell_type": "code",
   "execution_count": null,
   "id": "7da40c5e",
   "metadata": {
    "lines_to_next_cell": 2,
    "tags": [
     "code-along"
    ]
   },
   "outputs": [],
   "source": []
  },
  {
   "cell_type": "markdown",
   "id": "25c1ce26",
   "metadata": {
    "lang": "en",
    "slideshow": {
     "slide_type": "slide"
    }
   },
   "source": [
    "## Variable names in Python\n",
    "\n",
    "- Begin with a letter or underscore `_`\n",
    "    - Umlauts also count as letters\n",
    "- Can contain digits, letters and underscores `_`\n",
    "- May contain many other Unicode characters\n",
    "    - But it's usually better to avoid them...\n",
    "- A distinction is made between upper and lower case\n",
    "    - `A` is a different variable than `a`"
   ]
  },
  {
   "cell_type": "markdown",
   "id": "50c7386e",
   "metadata": {
    "lang": "en",
    "slideshow": {
     "slide_type": "subslide"
    }
   },
   "source": [
    "### Style\n",
    "\n",
    "- Variable names are written in lower case\n",
    "    - Except constant variables: `CONSTANT_VAR`\n",
    "- Components are separated by underscores `_`\n",
    "    - This style is called snake case\n",
    "- Variables that start and end with two underscores\n",
    "  typically have a special meaning (*dunders*):\n",
    "    - `__class__`, `__name__`\n",
    "    - Normal user-defined variables should not be dunders"
   ]
  },
  {
   "cell_type": "code",
   "execution_count": null,
   "id": "ea1c9056",
   "metadata": {
    "incorrectly_encoded_metadata": "{\"slideshow\": {\"slide_type\": \"subslide\"}} tags=[\"code-along\"]"
   },
   "outputs": [],
   "source": [
    "print(__name__)\n",
    "print(type(__name__))"
   ]
  },
  {
   "cell_type": "code",
   "execution_count": null,
   "id": "239e87e7",
   "metadata": {
    "tags": [
     "code-along"
    ]
   },
   "outputs": [],
   "source": []
  },
  {
   "cell_type": "code",
   "execution_count": null,
   "id": "002c9895",
   "metadata": {
    "tags": [
     "code-along"
    ]
   },
   "outputs": [],
   "source": []
  },
  {
   "cell_type": "markdown",
   "id": "e4d23f5f",
   "metadata": {
    "lang": "en",
    "slideshow": {
     "slide_type": "subslide"
    }
   },
   "source": [
    "- Sometimes \"private\" variables are written with a leading underscore: `_my_var`\n",
    "    - This is particularly common in older code (for global variables)\n",
    "    - There are more conventions for classes\n",
    "- Most Python projects follow the conventions in\n",
    "  [PEP 8](https://www.python.org/dev/peps/pep-0008/#naming-conventions)"
   ]
  },
  {
   "cell_type": "code",
   "execution_count": null,
   "id": "0286af89",
   "metadata": {
    "tags": [
     "code-along"
    ]
   },
   "outputs": [],
   "source": []
  },
  {
   "cell_type": "code",
   "execution_count": null,
   "id": "b25f9970",
   "metadata": {
    "tags": [
     "code-along"
    ]
   },
   "outputs": [],
   "source": []
  },
  {
   "cell_type": "code",
   "execution_count": null,
   "id": "5fad97ec",
   "metadata": {
    "slideshow": {
     "slide_type": "subslide"
    }
   },
   "outputs": [],
   "source": [
    "variable_1 = 123\n",
    "VARIABLE_1 = 234\n",
    "Variable_1 = 345\n",
    "variablE_1 = 456"
   ]
  },
  {
   "cell_type": "code",
   "execution_count": null,
   "id": "70600a9a",
   "metadata": {},
   "outputs": [],
   "source": [
    "print(variable_1)\n",
    "print(VARIABLE_1)\n",
    "print(Variable_1)\n",
    "print(variablE_1)"
   ]
  },
  {
   "cell_type": "code",
   "execution_count": null,
   "id": "6e7b80f1",
   "metadata": {
    "incorrectly_encoded_metadata": "{\"slideshow\": {\"slide_type\": \"subslide\"}} tags=[\"code-along\"]"
   },
   "outputs": [],
   "source": [
    "_my_var = 1\n",
    "print(_my_var)\n",
    "_my_var = _my_var + 5\n",
    "print(_my_var)"
   ]
  },
  {
   "cell_type": "code",
   "execution_count": null,
   "id": "724e3aad",
   "metadata": {
    "slideshow": {
     "slide_type": "subslide"
    }
   },
   "outputs": [],
   "source": [
    "größenmaßstäbe_der_fußgängerübergänge = 0.3\n",
    "größenmaßstäbe_der_fußgängerübergänge"
   ]
  },
  {
   "cell_type": "code",
   "execution_count": null,
   "id": "e05b22c6",
   "metadata": {
    "lines_to_next_cell": 2
   },
   "outputs": [],
   "source": [
    "# me@foo = 1"
   ]
  },
  {
   "cell_type": "code",
   "execution_count": null,
   "id": "fcf4d4df",
   "metadata": {
    "lines_to_next_cell": 2,
    "slideshow": {
     "slide_type": "subslide"
    }
   },
   "outputs": [],
   "source": [
    "α = 0.2\n",
    "β = 0.7\n",
    "γ = α**2 + 3 * β**2\n",
    "print(γ)\n",
    "αβγ = α * β * γ\n",
    "print(αβγ)\n",
    "Σ = 1 + 2 + 3\n",
    "print(Σ)\n",
    "# ∑ = 1 + 2 + 3 # Unzulässig!"
   ]
  },
  {
   "cell_type": "markdown",
   "id": "97ad7192",
   "metadata": {
    "lang": "en",
    "slideshow": {
     "slide_type": "subslide"
    }
   },
   "source": [
    "## Mini workshop\n",
    "\n",
    "- Notebook `workshop_050_introduction_part1`\n",
    "- Section \"Pirates\""
   ]
  },
  {
   "cell_type": "markdown",
   "id": "11858e38",
   "metadata": {
    "lang": "en",
    "slideshow": {
     "slide_type": "slide"
    }
   },
   "source": [
    "## Assignment to multiple variables\n",
    "\n",
    "In Python, multiple variables can be defined (or assigned values) at the same time:"
   ]
  },
  {
   "cell_type": "code",
   "execution_count": null,
   "id": "1dc3dbed",
   "metadata": {
    "tags": [
     "code-along"
    ]
   },
   "outputs": [],
   "source": []
  },
  {
   "cell_type": "markdown",
   "id": "f9beeb38",
   "metadata": {
    "lang": "en",
    "slideshow": {
     "slide_type": "slide"
    }
   },
   "source": [
    "# Functions\n",
    "\n",
    "We want to start a company for fencing triangular plots of land.\n",
    "\n",
    "For each property bordered by streets $A$, $B$ and $C$ we calculate:"
   ]
  },
  {
   "cell_type": "code",
   "execution_count": null,
   "id": "c25b25bb",
   "metadata": {},
   "outputs": [],
   "source": [
    "länge_a = 10  # Beispielwert\n",
    "länge_b = 40  # Beispielwert\n",
    "länge_c = (länge_a**2 + länge_b**2) ** 0.5\n",
    "länge_gesamt = länge_a + länge_b + länge_c\n",
    "print(länge_gesamt)"
   ]
  },
  {
   "cell_type": "markdown",
   "id": "dde905c0",
   "metadata": {
    "lang": "en"
   },
   "source": [
    "Can we make this a little more elegant?"
   ]
  },
  {
   "cell_type": "markdown",
   "id": "b3ee8760",
   "metadata": {
    "lang": "en",
    "slideshow": {
     "slide_type": "subslide"
    }
   },
   "source": [
    "## Pythagorean theorem\n",
    "\n",
    "We always calculate the length of $C$ from $A$ and $B$ according to the theorem of\n",
    "Pythagoras: $C = \\sqrt{A^2 + B^2}$.\n",
    "\n",
    "We can express this in Python using a *function*:"
   ]
  },
  {
   "cell_type": "code",
   "execution_count": null,
   "id": "dd164946",
   "metadata": {
    "incorrectly_encoded_metadata": "{\"slideshow\": {\"slide_type\": \"subslide\"}} tags=[\"code-along\"]"
   },
   "outputs": [],
   "source": [
    "def pythagoras(a, b):\n",
    "    c = (a**2 + b**2) ** 0.5\n",
    "    return c"
   ]
  },
  {
   "cell_type": "code",
   "execution_count": null,
   "id": "13e7f19e",
   "metadata": {
    "tags": [
     "code-along"
    ]
   },
   "outputs": [],
   "source": []
  },
  {
   "cell_type": "code",
   "execution_count": null,
   "id": "4b5d2077",
   "metadata": {
    "tags": [
     "code-along"
    ]
   },
   "outputs": [],
   "source": []
  },
  {
   "cell_type": "markdown",
   "id": "bfad95f6",
   "metadata": {
    "lang": "en",
    "slideshow": {
     "slide_type": "slide"
    }
   },
   "source": [
    "## Function definition\n",
    "- Keyword `def`\n",
    "- Function name\n",
    "- Function parameters, in brackets; colon\n",
    "- Body of the function, indented one tab\n",
    "- In the body, the parameters can be used like variables\n",
    "- Keyword `return`\n",
    "    - Exits the function\n",
    "    - Determines which value is returned"
   ]
  },
  {
   "cell_type": "code",
   "execution_count": null,
   "id": "39bdc59c",
   "metadata": {
    "incorrectly_encoded_metadata": "{\"slideshow\": {\"slide_type\": \"subslide\"}} tags=[\"code-along\"]"
   },
   "outputs": [],
   "source": [
    "def pythagoras(a, b):\n",
    "    quadratsumme = a**2 + b**2\n",
    "    # We can compute (part of) the return value here\n",
    "    return quadratsumme**0.5"
   ]
  },
  {
   "cell_type": "markdown",
   "id": "3f17ecb0",
   "metadata": {
    "lang": "en",
    "slideshow": {
     "slide_type": "slide"
    }
   },
   "source": [
    "## Function call\n",
    "\n",
    "- Function name\n",
    "- Arguments of the call, in brackets\n",
    "- One argument for each parameter"
   ]
  },
  {
   "cell_type": "code",
   "execution_count": null,
   "id": "c4bca60c",
   "metadata": {
    "tags": [
     "code-along"
    ]
   },
   "outputs": [],
   "source": []
  },
  {
   "cell_type": "markdown",
   "id": "99304407",
   "metadata": {
    "lang": "en",
    "slideshow": {
     "slide_type": "subslide"
    }
   },
   "source": [
    "## Back to fences\n",
    "\n",
    "- So far we have calculated the length of the third side of our property.\n",
    "- We still need a function that calculates the total length:"
   ]
  },
  {
   "cell_type": "code",
   "execution_count": null,
   "id": "155abfc7",
   "metadata": {
    "tags": [
     "code-along"
    ]
   },
   "outputs": [],
   "source": []
  },
  {
   "cell_type": "markdown",
   "id": "d53cd98f",
   "metadata": {
    "lang": "en",
    "slideshow": {
     "slide_type": "subslide"
    }
   },
   "source": [
    "With this we can simplify our problem:"
   ]
  },
  {
   "cell_type": "code",
   "execution_count": null,
   "id": "d67610d6",
   "metadata": {
    "tags": [
     "code-along"
    ]
   },
   "outputs": [],
   "source": []
  },
  {
   "cell_type": "markdown",
   "id": "ba186b81",
   "metadata": {
    "lang": "en",
    "slideshow": {
     "slide_type": "subslide"
    }
   },
   "source": [
    "## Mini workshop\n",
    "\n",
    "- Notebook `workshop_050_introduction_part1`\n",
    "- Section \"Donations\""
   ]
  },
  {
   "cell_type": "markdown",
   "id": "e2aeb088",
   "metadata": {
    "lang": "en",
    "slideshow": {
     "slide_type": "slide"
    }
   },
   "source": [
    "## Importing modules\n",
    "\n",
    "Much of Python's functionality is not implemented in the interpreter itself\n",
    "but rather provided by external modules (and packages). With the `import`\n",
    "statement you can make this functionality available:"
   ]
  },
  {
   "cell_type": "code",
   "execution_count": null,
   "id": "20324204",
   "metadata": {
    "tags": [
     "code-along"
    ]
   },
   "outputs": [],
   "source": []
  },
  {
   "cell_type": "markdown",
   "id": "85f0a15c",
   "metadata": {
    "lang": "en"
   },
   "source": [
    "The functions from the `math` module can then be accessed with the syntax `math.floor`:"
   ]
  },
  {
   "cell_type": "code",
   "execution_count": null,
   "id": "0dceaa5f",
   "metadata": {
    "tags": [
     "code-along"
    ]
   },
   "outputs": [],
   "source": []
  },
  {
   "cell_type": "code",
   "execution_count": null,
   "id": "b4fb91ce",
   "metadata": {
    "tags": [
     "code-along"
    ]
   },
   "outputs": [],
   "source": []
  },
  {
   "cell_type": "markdown",
   "id": "a1d5242e",
   "metadata": {
    "lang": "en"
   },
   "source": [
    "The `pythagoras` function is available from the `math` module under the name `hypot`:"
   ]
  },
  {
   "cell_type": "code",
   "execution_count": null,
   "id": "4ae652f7",
   "metadata": {
    "tags": [
     "code-along"
    ]
   },
   "outputs": [],
   "source": []
  },
  {
   "cell_type": "markdown",
   "id": "fb81e677",
   "metadata": {
    "lang": "en",
    "slideshow": {
     "slide_type": "subslide"
    }
   },
   "source": [
    "This allows us to write the `total_length` function without the helper function `pythagoras`:"
   ]
  },
  {
   "cell_type": "code",
   "execution_count": null,
   "id": "bcad2598",
   "metadata": {
    "tags": [
     "code-along"
    ]
   },
   "outputs": [],
   "source": []
  },
  {
   "cell_type": "code",
   "execution_count": null,
   "id": "1c00bf53",
   "metadata": {
    "tags": [
     "code-along"
    ]
   },
   "outputs": [],
   "source": []
  },
  {
   "cell_type": "markdown",
   "id": "45d3c7a4",
   "metadata": {
    "lang": "en",
    "slideshow": {
     "slide_type": "slide"
    }
   },
   "source": [
    "## Other types of numbers\n",
    "\n",
    "Python offers other kinds of numbers for special applications\n",
    "\n",
    "- Decimal numbers with any precision\n",
    "- Complex numbers\n",
    "- Fixed size integers (e.g. with `numpy`)\n",
    "- Floating point numbers with different sizes (`numpy`)"
   ]
  },
  {
   "cell_type": "code",
   "execution_count": null,
   "id": "e8dfc7c5",
   "metadata": {
    "incorrectly_encoded_metadata": "{\"slideshow\": {\"slide_type\": \"subslide\"}} tags=[\"code-along\"]"
   },
   "outputs": [],
   "source": [
    "1.1 * 100"
   ]
  },
  {
   "cell_type": "code",
   "execution_count": null,
   "id": "c3afef74",
   "metadata": {
    "tags": [
     "code-along"
    ]
   },
   "outputs": [],
   "source": []
  },
  {
   "cell_type": "code",
   "execution_count": null,
   "id": "40a4fc3c",
   "metadata": {
    "incorrectly_encoded_metadata": "{\"slideshow\": {\"slide_type\": \"subslide\"}} tags=[\"code-along\"]"
   },
   "outputs": [],
   "source": [
    "(1 + 1j) * (1 + 1j)"
   ]
  },
  {
   "cell_type": "code",
   "execution_count": null,
   "id": "e825572f",
   "metadata": {
    "tags": [
     "code-along"
    ]
   },
   "outputs": [],
   "source": []
  },
  {
   "cell_type": "markdown",
   "id": "f63c8e5d",
   "metadata": {
    "lang": "en",
    "slideshow": {
     "slide_type": "slide"
    }
   },
   "source": [
    "## Functions without arguments\n",
    "\n",
    "- A function can also be defined without formal parameters.\n",
    "- The parentheses must be used in the definition and in calls."
   ]
  },
  {
   "cell_type": "code",
   "execution_count": null,
   "id": "6b4c3f1f",
   "metadata": {
    "incorrectly_encoded_metadata": "{\"slideshow\": {\"slide_type\": \"subslide\"}} tags=[\"code-along\"]"
   },
   "outputs": [],
   "source": [
    "def null():\n",
    "    return 0"
   ]
  },
  {
   "cell_type": "code",
   "execution_count": null,
   "id": "909a4da6",
   "metadata": {
    "tags": [
     "code-along"
    ]
   },
   "outputs": [],
   "source": []
  },
  {
   "cell_type": "code",
   "execution_count": null,
   "id": "3fde3e86",
   "metadata": {
    "tags": [
     "code-along"
    ]
   },
   "outputs": [],
   "source": []
  },
  {
   "cell_type": "code",
   "execution_count": null,
   "id": "3a983043",
   "metadata": {
    "lines_to_next_cell": 2,
    "tags": [
     "code-along"
    ]
   },
   "outputs": [],
   "source": []
  },
  {
   "cell_type": "markdown",
   "id": "c376cbc3",
   "metadata": {
    "lang": "en",
    "slideshow": {
     "slide_type": "slide"
    }
   },
   "source": [
    "# Functions with side effects\n",
    "\n",
    "Functions can\n",
    "\n",
    "- Calculate values: `sumofsquares(3, 4)`\n",
    "- Have side effects: `print(\"Hans\")`"
   ]
  },
  {
   "cell_type": "code",
   "execution_count": null,
   "id": "fa737eb4",
   "metadata": {
    "tags": [
     "code-along"
    ]
   },
   "outputs": [],
   "source": []
  },
  {
   "cell_type": "markdown",
   "id": "350d8b32",
   "metadata": {
    "lang": "en",
    "slideshow": {
     "slide_type": "subslide"
    }
   },
   "source": [
    "### The value `None`\n",
    "\n",
    "The return value of the `print()` function is the special value `None`.\n",
    "- Jupyter doesn't print `None` as a cell's value:"
   ]
  },
  {
   "cell_type": "code",
   "execution_count": null,
   "id": "0ec9fa49",
   "metadata": {
    "tags": [
     "code-along"
    ]
   },
   "outputs": [],
   "source": []
  },
  {
   "cell_type": "code",
   "execution_count": null,
   "id": "9e206acd",
   "metadata": {
    "tags": [
     "code-along"
    ]
   },
   "outputs": [],
   "source": []
  },
  {
   "cell_type": "code",
   "execution_count": null,
   "id": "cddfed6f",
   "metadata": {
    "tags": [
     "code-along"
    ]
   },
   "outputs": [],
   "source": []
  },
  {
   "cell_type": "markdown",
   "id": "0421e952",
   "metadata": {
    "lang": "en",
    "slideshow": {
     "slide_type": "subslide"
    }
   },
   "source": [
    "- Functions can have side effects\n",
    "    - E.g. by calling `print`\n",
    "- These are executed when a function call is evaluated\n",
    "- Even functions with side effects return a value\n",
    "    - Often this is the special value `None`\n",
    "    - If a function returns `None` we don't need an explicit `return` statement"
   ]
  },
  {
   "cell_type": "code",
   "execution_count": null,
   "id": "27f67a2b",
   "metadata": {
    "incorrectly_encoded_metadata": "{\"slideshow\": {\"slide_type\": \"subslide\"}} tags=[\"code-along\"]"
   },
   "outputs": [],
   "source": [
    "def say_hello():\n",
    "    print(\"Hello, world!\")\n",
    "    print(\"Today is a great day!\")"
   ]
  },
  {
   "cell_type": "code",
   "execution_count": null,
   "id": "29319bce",
   "metadata": {
    "tags": [
     "code-along"
    ]
   },
   "outputs": [],
   "source": []
  },
  {
   "cell_type": "markdown",
   "id": "150523ee",
   "metadata": {
    "lang": "en",
    "slideshow": {
     "slide_type": "subslide"
    }
   },
   "source": [
    "## Mini workshop\n",
    "\n",
    "- Notebook `workshop_050_introduction_part1`\n",
    "- Section \"Pirates, Part 2\""
   ]
  },
  {
   "cell_type": "markdown",
   "id": "b79b750b",
   "metadata": {
    "lang": "en",
    "slideshow": {
     "slide_type": "slide"
    }
   },
   "source": [
    "## Default arguments\n",
    "\n",
    "Function parameters can have a default value.\n",
    "- The default value is given with the syntax `parameter=value`\n",
    "- If the corresponding argument is not passed, the default value is used\n",
    "- If a parameter has a default value, all values ​​to the right of it must also have one"
   ]
  },
  {
   "cell_type": "code",
   "execution_count": null,
   "id": "6f0c72a5",
   "metadata": {
    "incorrectly_encoded_metadata": "{\"slideshow\": {\"slide_type\": \"subslide\"}} tags=[\"code-along\"]"
   },
   "outputs": [],
   "source": [
    "def add_weighted(a, b=0, c=0):\n",
    "    return a + 2 * b + 3 * c"
   ]
  },
  {
   "cell_type": "code",
   "execution_count": null,
   "id": "a2c8a31d",
   "metadata": {
    "tags": [
     "code-along"
    ]
   },
   "outputs": [],
   "source": []
  },
  {
   "cell_type": "markdown",
   "id": "c2217a5f",
   "metadata": {
    "lang": "en",
    "slideshow": {
     "slide_type": "slide"
    }
   },
   "source": [
    "## Be careful with variable default arguments"
   ]
  },
  {
   "cell_type": "code",
   "execution_count": null,
   "id": "8a3464ba",
   "metadata": {
    "tags": [
     "code-along"
    ]
   },
   "outputs": [],
   "source": []
  },
  {
   "cell_type": "code",
   "execution_count": null,
   "id": "98badcf1",
   "metadata": {
    "tags": [
     "code-along"
    ]
   },
   "outputs": [],
   "source": []
  },
  {
   "cell_type": "code",
   "execution_count": null,
   "id": "b8eec8c3",
   "metadata": {
    "tags": [
     "code-along"
    ]
   },
   "outputs": [],
   "source": []
  },
  {
   "cell_type": "markdown",
   "id": "3a58dd88",
   "metadata": {
    "lang": "en",
    "slideshow": {
     "slide_type": "slide"
    }
   },
   "source": [
    "Solution: use `Null` as argument, create a new list in each call"
   ]
  },
  {
   "cell_type": "code",
   "execution_count": null,
   "id": "1ae65fa3",
   "metadata": {
    "tags": [
     "code-along"
    ]
   },
   "outputs": [],
   "source": []
  },
  {
   "cell_type": "code",
   "execution_count": null,
   "id": "f7f55835",
   "metadata": {
    "tags": [
     "code-along"
    ]
   },
   "outputs": [],
   "source": []
  },
  {
   "cell_type": "code",
   "execution_count": null,
   "id": "7cf9f00c",
   "metadata": {
    "tags": [
     "code-along"
    ]
   },
   "outputs": [],
   "source": []
  },
  {
   "cell_type": "markdown",
   "id": "e5e6b595",
   "metadata": {
    "lang": "en",
    "slideshow": {
     "slide_type": "slide"
    }
   },
   "source": [
    "## Calls with named arguments\n",
    "\n",
    "When calling a function, the parameter name can be specified in the form `parameter=value`.\n",
    "- The appropriate value is then substituted for the named parameter\n",
    "- If all parameters are named, the call becomes independent of the parameter order"
   ]
  },
  {
   "cell_type": "code",
   "execution_count": null,
   "id": "10a78f52",
   "metadata": {
    "incorrectly_encoded_metadata": "{\"slideshow\": {\"slide_type\": \"subslide\"}} tags=[\"code-along\"]"
   },
   "outputs": [],
   "source": [
    "def say_hi(person, greeting=\"Hi\"):\n",
    "    print(greeting, \" \", person, \"!\", sep=\"\")"
   ]
  },
  {
   "cell_type": "code",
   "execution_count": null,
   "id": "972dc1c4",
   "metadata": {
    "tags": [
     "code-along"
    ]
   },
   "outputs": [],
   "source": []
  },
  {
   "cell_type": "code",
   "execution_count": null,
   "id": "b6c6b0eb",
   "metadata": {
    "tags": [
     "code-along"
    ]
   },
   "outputs": [],
   "source": []
  },
  {
   "cell_type": "code",
   "execution_count": null,
   "id": "8302e659",
   "metadata": {
    "incorrectly_encoded_metadata": "{\"slideshow\": {\"slide_type\": \"subslide\"}} tags=[\"code-along\"]"
   },
   "outputs": [],
   "source": [
    "def add_weighted(a, b=0, c=0):\n",
    "    return a + 2 * b + 3 * c"
   ]
  },
  {
   "cell_type": "code",
   "execution_count": null,
   "id": "ca1f8cd8",
   "metadata": {
    "incorrectly_encoded_metadata": "{\"slideshow\": {\"slide_type\": \"subslide\"}} tags=[\"code-along\"]"
   },
   "outputs": [],
   "source": [
    "add_weighted(c=2, a=1)"
   ]
  },
  {
   "cell_type": "code",
   "execution_count": null,
   "id": "0c135065",
   "metadata": {
    "tags": [
     "code-along"
    ]
   },
   "outputs": [],
   "source": []
  },
  {
   "cell_type": "markdown",
   "id": "79d1419f",
   "metadata": {
    "lang": "en",
    "slideshow": {
     "slide_type": "slide"
    }
   },
   "source": [
    "## Type annotations\n",
    "\n",
    "Python allows the types of function arguments and the return type to be specified:"
   ]
  },
  {
   "cell_type": "code",
   "execution_count": null,
   "id": "38cc105f",
   "metadata": {
    "tags": [
     "code-along"
    ]
   },
   "outputs": [],
   "source": []
  },
  {
   "cell_type": "code",
   "execution_count": null,
   "id": "568621a7",
   "metadata": {
    "tags": [
     "code-along"
    ]
   },
   "outputs": [],
   "source": []
  },
  {
   "cell_type": "markdown",
   "id": "f2f7bc81",
   "metadata": {
    "lang": "en",
    "slideshow": {
     "slide_type": "subslide"
    }
   },
   "source": [
    "Type annotations are for documentation only and are ignored by Python:"
   ]
  },
  {
   "cell_type": "code",
   "execution_count": null,
   "id": "550ec761",
   "metadata": {
    "tags": [
     "code-along"
    ]
   },
   "outputs": [],
   "source": []
  },
  {
   "cell_type": "markdown",
   "id": "fec63764",
   "metadata": {
    "lang": "en",
    "slideshow": {
     "slide_type": "subslide"
    }
   },
   "source": [
    "Type annotations can contain parametric types, optional types, etc.\n",
    "(*Note:* in older Python versions, `list` cannot take type parameters.)"
   ]
  },
  {
   "cell_type": "code",
   "execution_count": null,
   "id": "cf3f441f",
   "metadata": {
    "tags": [
     "code-along"
    ]
   },
   "outputs": [],
   "source": []
  },
  {
   "cell_type": "code",
   "execution_count": null,
   "id": "f5142450",
   "metadata": {
    "incorrectly_encoded_metadata": "{\"slideshow\": {\"slide_type\": \"subslide\"}} tags=[\"code-along\"]"
   },
   "outputs": [],
   "source": [
    "my_list = [1, 2, 3]\n",
    "my_append(my_list, None)\n",
    "my_list"
   ]
  },
  {
   "cell_type": "code",
   "execution_count": null,
   "id": "56c92035",
   "metadata": {
    "tags": [
     "code-along"
    ]
   },
   "outputs": [],
   "source": []
  },
  {
   "cell_type": "markdown",
   "id": "55d55c59",
   "metadata": {
    "lang": "en",
    "slideshow": {
     "slide_type": "slide"
    }
   },
   "source": [
    "## Docstrings\n",
    "\n",
    "Any function in Python can be documented using a string literal as a\n",
    "first element in the body. Most often, a `\"\"\"` string is used for this:"
   ]
  },
  {
   "cell_type": "code",
   "execution_count": null,
   "id": "f1e4e354",
   "metadata": {
    "incorrectly_encoded_metadata": "{\"slideshow\": {\"slide_type\": \"subslide\"}} tags=[\"code-along\"]"
   },
   "outputs": [],
   "source": [
    "def my_fun(x):\n",
    "    \"\"\"\n",
    "    Zeigt dem Benutzer den Wert von x an\n",
    "\n",
    "    Verwendung:\n",
    "    >>> my_fun(123)\n",
    "    \"\"\"\n",
    "    print(\"Das Argument x hat den Wert\", x)"
   ]
  },
  {
   "cell_type": "code",
   "execution_count": null,
   "id": "51c668cb",
   "metadata": {
    "tags": [
     "code-along"
    ]
   },
   "outputs": [],
   "source": []
  },
  {
   "cell_type": "markdown",
   "id": "c483a328",
   "metadata": {
    "lang": "en",
    "slideshow": {
     "slide_type": "subslide"
    }
   },
   "source": [
    "Conventions for docstrings can be found in\n",
    "[PEP 257](https://www.python.org/dev/peps/pep-0257/)."
   ]
  },
  {
   "cell_type": "markdown",
   "id": "bc0a4153",
   "metadata": {
    "lang": "en",
    "slideshow": {
     "slide_type": "subslide"
    }
   },
   "source": [
    "The docstring of a function can be output with `help()`:"
   ]
  },
  {
   "cell_type": "code",
   "execution_count": null,
   "id": "37518044",
   "metadata": {
    "tags": [
     "code-along"
    ]
   },
   "outputs": [],
   "source": []
  },
  {
   "cell_type": "markdown",
   "id": "9fc780c0",
   "metadata": {
    "lang": "en",
    "slideshow": {
     "slide_type": "subslide"
    }
   },
   "source": [
    "In Jupyter, a function's docstring can be displayed by preceeding or following it with a question mark:"
   ]
  },
  {
   "cell_type": "code",
   "execution_count": null,
   "id": "7f0c1b2f",
   "metadata": {
    "lines_to_next_cell": 2,
    "tags": [
     "code-along"
    ]
   },
   "outputs": [],
   "source": []
  },
  {
   "cell_type": "code",
   "execution_count": null,
   "id": "61452980",
   "metadata": {
    "lines_to_next_cell": 2,
    "tags": [
     "code-along"
    ]
   },
   "outputs": [],
   "source": []
  },
  {
   "cell_type": "markdown",
   "id": "ef982f67",
   "metadata": {
    "lang": "en",
    "slideshow": {
     "slide_type": "subslide"
    }
   },
   "source": [
    "Shift-Tab is often used instead:"
   ]
  },
  {
   "cell_type": "code",
   "execution_count": null,
   "id": "2809d563",
   "metadata": {
    "tags": [
     "code-along"
    ]
   },
   "outputs": [],
   "source": []
  },
  {
   "cell_type": "markdown",
   "id": "c27c7eb5",
   "metadata": {
    "lang": "en",
    "slideshow": {
     "slide_type": "subslide"
    }
   },
   "source": [
    "For functions with long docstrings, you can switch to the detailed display form by pressing `Shift-Tab` twice:"
   ]
  },
  {
   "cell_type": "code",
   "execution_count": null,
   "id": "d55d6528",
   "metadata": {
    "tags": [
     "code-along"
    ]
   },
   "outputs": [],
   "source": []
  },
  {
   "cell_type": "code",
   "execution_count": null,
   "id": "12de4328",
   "metadata": {
    "tags": [
     "code-along"
    ]
   },
   "outputs": [],
   "source": []
  },
  {
   "cell_type": "markdown",
   "id": "fdab7682",
   "metadata": {
    "lang": "en",
    "slideshow": {
     "slide_type": "subslide"
    }
   },
   "source": [
    "## Signature\n",
    "\n",
    "The number, names, default values (and possibly types) of a function's arguments and its return type are called its *signature*.\n",
    "\n",
    "Among other things, Jupyter displays the signature of a function when you type `Shift-Tab`:"
   ]
  },
  {
   "cell_type": "code",
   "execution_count": null,
   "id": "4913565c",
   "metadata": {
    "tags": [
     "code-along"
    ]
   },
   "outputs": [],
   "source": []
  },
  {
   "cell_type": "code",
   "execution_count": null,
   "id": "178ecaa1",
   "metadata": {
    "tags": [
     "code-along"
    ]
   },
   "outputs": [],
   "source": []
  },
  {
   "cell_type": "code",
   "execution_count": null,
   "id": "bf589877",
   "metadata": {
    "tags": [
     "code-along"
    ]
   },
   "outputs": [],
   "source": []
  }
 ],
 "metadata": {
  "jupytext": {
   "cell_metadata_json": true,
   "encoding": "# -*- coding: utf-8 -*-",
   "formats": "ipynb"
  },
  "kernelspec": {
   "display_name": "Python 3 (ipykernel)",
   "language": "python",
   "name": "python3"
  }
 },
 "nbformat": 4,
 "nbformat_minor": 5
}
