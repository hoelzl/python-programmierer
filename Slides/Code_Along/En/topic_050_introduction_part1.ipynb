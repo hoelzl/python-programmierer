{
 "cells": [
  {
   "cell_type": "markdown",
   "id": "916b1fb2",
   "metadata": {
    "slideshow": {
     "slide_type": "slide"
    }
   },
   "source": [
    "<img src=\"img/python-logo-notext.svg\"\n",
    "     style=\"display:block;margin:auto;width:10%\"/>\n",
    "<h1 style=\"text-align:center;\">Einführung in Python: Grundlagen (Teil 1)</h1>\n",
    "<br/>\n",
    "<div style=\"text-align:center;\">Dr. Matthias Hölzl</div>"
   ]
  },
  {
   "cell_type": "markdown",
   "id": "5ec2c744",
   "metadata": {
    "slideshow": {
     "slide_type": "slide"
    }
   },
   "source": [
    "# Woraus besteht ein Programm?\n",
    "\n",
    "Wir wollen ein Programm schreiben, das\n",
    "\n",
    "```\n",
    "Hello, world!\n",
    "```\n",
    "\n",
    "auf dem Bildschirm ausgibt.\n",
    "\n",
    "Was benötigen wir dazu?"
   ]
  },
  {
   "cell_type": "markdown",
   "id": "443dd37e",
   "metadata": {
    "slideshow": {
     "slide_type": "subslide"
    }
   },
   "source": [
    "Was benötigen wir dazu?\n",
    "\n",
    "- Daten\n",
    "    - den Text `Hello, world!`\n",
    "- Anweisungen\n",
    "    - *Gib den folgenden Text auf dem Bildschirm aus*\n",
    "- Kommentare\n",
    "    - Hinweise für den Programmierer, werden von Python ignoriert"
   ]
  },
  {
   "cell_type": "markdown",
   "id": "00040971",
   "metadata": {
    "slideshow": {
     "slide_type": "subslide"
    }
   },
   "source": [
    "## Kommentare\n",
    "\n",
    "- `#` gefolgt von beliebigem Text\n",
    "- bis zum Ende der Zeile"
   ]
  },
  {
   "cell_type": "code",
   "execution_count": null,
   "id": "e988dbbb",
   "metadata": {
    "lines_to_next_cell": 2
   },
   "outputs": [],
   "source": [
    "# Das ist ein Kommentar.\n",
    "# Alle Zeilen in dieser Zelle werden\n",
    "# von Python ignoriert."
   ]
  },
  {
   "cell_type": "markdown",
   "id": "3ea725e0",
   "metadata": {
    "slideshow": {
     "slide_type": "subslide"
    }
   },
   "source": [
    "# Daten\n",
    "\n",
    "- Zahlen: `123`, `3.141592`\n",
    "- Text (Strings): `'Das ist ein Text'`, `\"Hello, world!\"`"
   ]
  },
  {
   "cell_type": "code",
   "execution_count": null,
   "id": "e654efdb",
   "metadata": {
    "incorrectly_encoded_metadata": "{\"slideshow\": {\"slide_type\": \"subslide\"}} tags=[\"code-along\"]"
   },
   "outputs": [],
   "source": [
    "# Die Zahl 123\n",
    "123"
   ]
  },
  {
   "cell_type": "code",
   "execution_count": null,
   "id": "69766a26",
   "metadata": {
    "tags": [
     "code-along"
    ]
   },
   "outputs": [],
   "source": []
  },
  {
   "cell_type": "code",
   "execution_count": null,
   "id": "03030439",
   "metadata": {
    "incorrectly_encoded_metadata": "{\"slideshow\": {\"slide_type\": \"subslide\"}} tags=[\"code-along\"]"
   },
   "outputs": [],
   "source": [
    "# Der Text 'Das ist ein Text'\n",
    "\"Das ist ein Text\""
   ]
  },
  {
   "cell_type": "code",
   "execution_count": null,
   "id": "b2b714f9",
   "metadata": {
    "tags": [
     "code-along"
    ]
   },
   "outputs": [],
   "source": []
  },
  {
   "cell_type": "code",
   "execution_count": null,
   "id": "fdd21269",
   "metadata": {
    "tags": [
     "code-along"
    ]
   },
   "outputs": [],
   "source": []
  },
  {
   "cell_type": "markdown",
   "id": "83c0789d",
   "metadata": {
    "slideshow": {
     "slide_type": "subslide"
    }
   },
   "source": [
    "## Mini-Workshop\n",
    "\n",
    "- Notebook `workshop_050_introduction_part1`\n",
    "- Abschnitt \"Einleitung\""
   ]
  },
  {
   "cell_type": "markdown",
   "id": "3946f07e",
   "metadata": {
    "slideshow": {
     "slide_type": "slide"
    }
   },
   "source": [
    "## Wiederholung: `print()`-Funktion\n",
    "\n",
    "Einer `print()`-Anweisung können mehrere Argumente übergeben werden.\n",
    "- Die Argumente werden durch Kommata getrennt\n",
    "- Alle Argumente werden in einer Zeile ausgegeben, mit Leerzeichen zwischen den Argumenten."
   ]
  },
  {
   "cell_type": "code",
   "execution_count": null,
   "id": "68e34a8b",
   "metadata": {
    "tags": [
     "code-along"
    ]
   },
   "outputs": [],
   "source": []
  },
  {
   "cell_type": "markdown",
   "id": "856a6e0e",
   "metadata": {
    "slideshow": {
     "slide_type": "subslide"
    }
   },
   "source": [
    "Durch Angabe eines *benannten Arguments* `sep=''` kann die Ausgabe der\n",
    "Leerzeichen unterdrückt werden:"
   ]
  },
  {
   "cell_type": "code",
   "execution_count": null,
   "id": "34fe35c2",
   "metadata": {
    "tags": [
     "code-along"
    ]
   },
   "outputs": [],
   "source": []
  },
  {
   "cell_type": "markdown",
   "id": "c393e64d",
   "metadata": {
    "slideshow": {
     "slide_type": "subslide"
    }
   },
   "source": [
    "Es sind auch beliebige andere Strings als Wert des Arguments `sep` zulässig:"
   ]
  },
  {
   "cell_type": "code",
   "execution_count": null,
   "id": "02834dc0",
   "metadata": {
    "tags": [
     "code-along"
    ]
   },
   "outputs": [],
   "source": []
  },
  {
   "cell_type": "code",
   "execution_count": null,
   "id": "a598d0e7",
   "metadata": {
    "tags": [
     "code-along"
    ]
   },
   "outputs": [],
   "source": []
  },
  {
   "cell_type": "markdown",
   "id": "2d9c08bd",
   "metadata": {
    "slideshow": {
     "slide_type": "slide"
    }
   },
   "source": [
    "# Zahlen und Mathematik\n",
    "\n",
    "- Ganze Zahlen: `1`, `837`, `-12`\n",
    "- Gleitkommazahlen: `0.5`, `123.4`, `-0.01`\n",
    "- Rechenoperationen:\n",
    "    - Addition: `+`\n",
    "    - Subtraktion: `-`\n",
    "    - Multiplikation: `*`\n",
    "    - Division: `/`"
   ]
  },
  {
   "cell_type": "markdown",
   "id": "46d34d18",
   "metadata": {
    "slideshow": {
     "slide_type": "subslide"
    }
   },
   "source": [
    "## Python als Taschenrechner"
   ]
  },
  {
   "cell_type": "code",
   "execution_count": null,
   "id": "0b6c9a30",
   "metadata": {
    "tags": [
     "code-along"
    ]
   },
   "outputs": [],
   "source": []
  },
  {
   "cell_type": "code",
   "execution_count": null,
   "id": "164ec74d",
   "metadata": {
    "tags": [
     "code-along"
    ]
   },
   "outputs": [],
   "source": []
  },
  {
   "cell_type": "markdown",
   "id": "a606bdda",
   "metadata": {
    "slideshow": {
     "slide_type": "subslide"
    }
   },
   "source": [
    "## Arten von Zahlen\n",
    "\n",
    "- Python unterscheidet ganze Zahlen und Gleitkommazahlen:\n",
    "    - `1` ist eine ganze Zahl (`int`)\n",
    "    - `1.0` ist eine Gleitkommazahl (`float`)\n",
    "- Mit `type(...)` kann man den Typ des Arguments erfahren:"
   ]
  },
  {
   "cell_type": "code",
   "execution_count": null,
   "id": "5d804227",
   "metadata": {
    "incorrectly_encoded_metadata": "{\"slideshow\": {\"slide_type\": \"subslide\"}} tags=[\"code-along\"]"
   },
   "outputs": [],
   "source": [
    "type(1)"
   ]
  },
  {
   "cell_type": "code",
   "execution_count": null,
   "id": "0a54a32f",
   "metadata": {
    "tags": [
     "code-along"
    ]
   },
   "outputs": [],
   "source": []
  },
  {
   "cell_type": "code",
   "execution_count": null,
   "id": "4b241446",
   "metadata": {
    "tags": [
     "code-along"
    ]
   },
   "outputs": [],
   "source": []
  },
  {
   "cell_type": "markdown",
   "id": "2d3de0ae",
   "metadata": {
    "slideshow": {
     "slide_type": "subslide"
    }
   },
   "source": [
    "Ganze Zahlen in Python haben keine (praktisch relevante) Obergrenze:"
   ]
  },
  {
   "cell_type": "code",
   "execution_count": null,
   "id": "09d139ed",
   "metadata": {
    "incorrectly_encoded_metadata": "{\"slideshow\": {\"slide_type\": \"\"}} tags=[\"code-along\"]"
   },
   "outputs": [],
   "source": [
    "10000000000000000000000000000000000000000000000000 + 500"
   ]
  },
  {
   "cell_type": "code",
   "execution_count": null,
   "id": "8fae1755",
   "metadata": {
    "incorrectly_encoded_metadata": "{\"slideshow\": {\"slide_type\": \"\"}} tags=[\"code-along\"]"
   },
   "outputs": [],
   "source": [
    "type(10000000000000000000000000000000000000000000000000)"
   ]
  },
  {
   "cell_type": "markdown",
   "id": "95f65962",
   "metadata": {
    "slideshow": {
     "slide_type": "subslide"
    }
   },
   "source": [
    "## Mini-Workshop\n",
    "\n",
    "- Notebook `workshop_050_introduction_part1`\n",
    "- Abschnitt \"Zahlen und Mathematik\""
   ]
  },
  {
   "cell_type": "markdown",
   "id": "70a2a270",
   "metadata": {
    "slideshow": {
     "slide_type": "slide"
    }
   },
   "source": [
    "## Rechenoperationen\n",
    "\n",
    "| Operator | Operation            |\n",
    "|:--------:|:---------------------|\n",
    "| +        | Summe                |\n",
    "| -        | Differenz            |\n",
    "| *        | Multiplikation       |\n",
    "| /        | Division             |\n",
    "| **       | Potenz               |\n",
    "| %        | Modulo, Rest         |\n",
    "| //       | ganzzahlige Division |"
   ]
  },
  {
   "cell_type": "markdown",
   "id": "de68d625",
   "metadata": {
    "slideshow": {
     "slide_type": "subslide"
    }
   },
   "source": [
    "### Division"
   ]
  },
  {
   "cell_type": "code",
   "execution_count": null,
   "id": "977263ce",
   "metadata": {
    "tags": [
     "code-along"
    ]
   },
   "outputs": [],
   "source": []
  },
  {
   "cell_type": "code",
   "execution_count": null,
   "id": "ff4c4e7b",
   "metadata": {
    "tags": [
     "code-along"
    ]
   },
   "outputs": [],
   "source": []
  },
  {
   "cell_type": "code",
   "execution_count": null,
   "id": "bded3c8d",
   "metadata": {
    "incorrectly_encoded_metadata": "{\"slideshow\": {\"slide_type\": \"subslide\"}} tags=[\"code-along\"]"
   },
   "outputs": [],
   "source": [
    "# // und % können zur Division mit Rest verwendet werden:\n",
    "20 // 7  # Wie oft geht 7 in 20?"
   ]
  },
  {
   "cell_type": "code",
   "execution_count": null,
   "id": "63ff06e0",
   "metadata": {
    "tags": [
     "code-along"
    ]
   },
   "outputs": [],
   "source": []
  },
  {
   "cell_type": "code",
   "execution_count": null,
   "id": "d4560da1",
   "metadata": {
    "tags": [
     "code-along"
    ]
   },
   "outputs": [],
   "source": []
  },
  {
   "cell_type": "markdown",
   "id": "b52b7fca",
   "metadata": {
    "slideshow": {
     "slide_type": "subslide"
    }
   },
   "source": [
    "`/` ist links-assoziativ (genau wie `//`, `%`, `+`, `-`, `*`)"
   ]
  },
  {
   "cell_type": "code",
   "execution_count": null,
   "id": "f9486fa5",
   "metadata": {
    "tags": [
     "code-along"
    ]
   },
   "outputs": [],
   "source": []
  },
  {
   "cell_type": "code",
   "execution_count": null,
   "id": "7ef5528c",
   "metadata": {
    "tags": [
     "code-along"
    ]
   },
   "outputs": [],
   "source": []
  },
  {
   "cell_type": "code",
   "execution_count": null,
   "id": "175dae60",
   "metadata": {
    "tags": [
     "code-along"
    ]
   },
   "outputs": [],
   "source": []
  },
  {
   "cell_type": "markdown",
   "id": "4bef925c",
   "metadata": {
    "slideshow": {
     "slide_type": "subslide"
    }
   },
   "source": [
    "### Exponentiation (Potenz)"
   ]
  },
  {
   "cell_type": "code",
   "execution_count": null,
   "id": "6234de2d",
   "metadata": {
    "tags": [
     "code-along"
    ]
   },
   "outputs": [],
   "source": []
  },
  {
   "cell_type": "code",
   "execution_count": null,
   "id": "01766cbb",
   "metadata": {
    "tags": [
     "code-along"
    ]
   },
   "outputs": [],
   "source": []
  },
  {
   "cell_type": "code",
   "execution_count": null,
   "id": "135fc17c",
   "metadata": {
    "tags": [
     "code-along"
    ]
   },
   "outputs": [],
   "source": []
  },
  {
   "cell_type": "code",
   "execution_count": null,
   "id": "ebcc5c21",
   "metadata": {
    "tags": [
     "code-along"
    ]
   },
   "outputs": [],
   "source": []
  },
  {
   "cell_type": "markdown",
   "id": "ec99cf1b",
   "metadata": {
    "slideshow": {
     "slide_type": "subslide"
    }
   },
   "source": [
    "`**` ist rechts-assoziativ\n",
    "\n",
    "$2^{(2^3)} = 2^8 = 256 \\qquad$\n",
    "$(2^2)^3 = 4^3 = 64$"
   ]
  },
  {
   "cell_type": "code",
   "execution_count": null,
   "id": "381ec0d2",
   "metadata": {
    "tags": [
     "code-along"
    ]
   },
   "outputs": [],
   "source": []
  },
  {
   "cell_type": "code",
   "execution_count": null,
   "id": "10b7d0bd",
   "metadata": {
    "tags": [
     "code-along"
    ]
   },
   "outputs": [],
   "source": []
  },
  {
   "cell_type": "code",
   "execution_count": null,
   "id": "98757b70",
   "metadata": {
    "tags": [
     "code-along"
    ]
   },
   "outputs": [],
   "source": []
  },
  {
   "cell_type": "markdown",
   "id": "262ea8b9",
   "metadata": {
    "slideshow": {
     "slide_type": "subslide"
    }
   },
   "source": [
    "Der `**` Operator kann auch zum Wurzelziehen verwendet werden:\n",
    "\n",
    "$\\sqrt{4} = 4^{1/2} = 2\\qquad$\n",
    "$\\sqrt{9} = 9^{1/2} = 3\\qquad$\n",
    "$\\sqrt{2} = 2^{1/2} \\approx 1.4142\\qquad$"
   ]
  },
  {
   "cell_type": "code",
   "execution_count": null,
   "id": "b6e305a2",
   "metadata": {
    "tags": [
     "code-along"
    ]
   },
   "outputs": [],
   "source": []
  },
  {
   "cell_type": "code",
   "execution_count": null,
   "id": "6e8149e5",
   "metadata": {
    "tags": [
     "code-along"
    ]
   },
   "outputs": [],
   "source": []
  },
  {
   "cell_type": "code",
   "execution_count": null,
   "id": "1c447e02",
   "metadata": {
    "tags": [
     "code-along"
    ]
   },
   "outputs": [],
   "source": []
  },
  {
   "cell_type": "markdown",
   "id": "f88692ae",
   "metadata": {
    "slideshow": {
     "slide_type": "slide"
    }
   },
   "source": [
    "# Variablen\n",
    "\n",
    "Wir wollen einen Zaun um unser neues Grundstück bauen.\n",
    "\n",
    "<img src=\"img/fence.svg\" style=\"display:block;margin:auto;width:50%\"/>"
   ]
  },
  {
   "cell_type": "markdown",
   "id": "c55f93cb",
   "metadata": {
    "slideshow": {
     "slide_type": "subslide"
    }
   },
   "source": [
    "<img src=\"img/fence.svg\" style=\"vertical-align:top;overflow:auto;float:right;width:25%\"/>\n",
    "\n",
    "Die gemessenen Längen sind:\n",
    "- Birkenweg: 20m\n",
    "- Fichtengasse: 30m\n",
    "\n",
    "Wie lange muss unser Zaun sein?"
   ]
  },
  {
   "cell_type": "code",
   "execution_count": null,
   "id": "7513eae9",
   "metadata": {
    "tags": [
     "code-along"
    ]
   },
   "outputs": [],
   "source": []
  },
  {
   "cell_type": "markdown",
   "id": "bfbe8e0b",
   "metadata": {
    "slideshow": {
     "slide_type": "subslide"
    }
   },
   "source": [
    "<img src=\"img/fence.svg\" style=\"vertical-align:top;overflow:auto;float:right;width:25%\"/>\n",
    "\n",
    "Die gemessenen Längen sind:\n",
    "- Birkenweg: 20m\n",
    "- Fichtengasse: 30m\n",
    "\n",
    "Wie lange muss unser Zaun sein?"
   ]
  },
  {
   "cell_type": "code",
   "execution_count": null,
   "id": "3aef2e57",
   "metadata": {
    "tags": [
     "code-along"
    ]
   },
   "outputs": [],
   "source": []
  },
  {
   "cell_type": "markdown",
   "id": "7924a5c3",
   "metadata": {
    "slideshow": {
     "slide_type": "slide"
    }
   },
   "source": [
    "## Genauere Beschreibung von Variablen\n",
    "\n",
    "<img src=\"img/variables-01.svg\" style=\"float:right;margin:auto;width:50%\"/>\n",
    "\n",
    "Eine *Variable* ist\n",
    "- ein <span style=\"color:red;\">\"Verweis\"</span> auf ein \"Objekt\"\n",
    "- der einen <span style=\"color:red;\">Namen</span> hat.\n",
    "\n",
    "<span style=\"color:blue;\">Ein Objekt</span> kann von <span style=\"color:blue;\">mehreren Variablen</span><br/>\n",
    "referenziert werden!"
   ]
  },
  {
   "cell_type": "markdown",
   "id": "f9dd6681",
   "metadata": {
    "slideshow": {
     "slide_type": "subslide"
    }
   },
   "source": [
    "<img src=\"img/variables-01.svg\" style=\"float:right;margin:auto;width:50%\"/>\n",
    "\n",
    "Einve Variable wird\n",
    "- erzeugt durch `name = wert`\n",
    "- gelesen durch `name`\n",
    "- geändert durch `name = wert`\n",
    "\n",
    "Erzeugen und Ändern von Variablen<br/>\n",
    "sind *Anweisungen*."
   ]
  },
  {
   "cell_type": "code",
   "execution_count": null,
   "id": "2235868a",
   "metadata": {
    "incorrectly_encoded_metadata": "{\"slideshow\": {\"slide_type\": \"subslide\"}} tags=[\"code-along\"]"
   },
   "outputs": [],
   "source": [
    "länge_birkenweg = 20\n",
    "print(länge_birkenweg)\n",
    "länge_birkenweg = 25\n",
    "print(länge_birkenweg)"
   ]
  },
  {
   "cell_type": "markdown",
   "id": "052d641d",
   "metadata": {
    "slideshow": {
     "slide_type": "slide"
    }
   },
   "source": [
    "## Eigenschaften von Variablen in Python\n",
    "\n",
    "- Eine Variable kann Werte mit beliebigem Datentyp speichern\n",
    "    - Es gibt keine `int`-Variablen, etc.\n",
    "    - Man sagt: Python ist dynamisch getypt\n",
    "- Variablen müssen erzeugt worden sein, bevor sie verwendet werden\n",
    "- Man kann Variablen neue Werte zuweisen\n",
    "    - Dabei kann der *alte Wert* der Variablen auf der rechten Seite verwendet werden:<br/> `jobs = jobs + 1`"
   ]
  },
  {
   "cell_type": "code",
   "execution_count": null,
   "id": "836441bc",
   "metadata": {
    "incorrectly_encoded_metadata": "{\"slideshow\": {\"slide_type\": \"subslide\"}} tags=[\"code-along\"]"
   },
   "outputs": [],
   "source": [
    "x = \"Hallo!\"\n",
    "print(x)\n",
    "x = 123\n",
    "print(x)\n",
    "x = x + 1\n",
    "print(x)\n",
    "x += 1\n",
    "print(x)"
   ]
  },
  {
   "cell_type": "code",
   "execution_count": null,
   "id": "4773ed51",
   "metadata": {
    "incorrectly_encoded_metadata": "{\"slideshow\": {\"slide_type\": \"subslide\"}} tags=[\"code-along\"]",
    "lines_to_next_cell": 2
   },
   "outputs": [],
   "source": [
    "# print(diese_variable_gibt_es_nicht)"
   ]
  },
  {
   "cell_type": "code",
   "execution_count": null,
   "id": "d1a64ad8",
   "metadata": {
    "lines_to_next_cell": 2,
    "tags": [
     "code-along"
    ]
   },
   "outputs": [],
   "source": []
  },
  {
   "cell_type": "markdown",
   "id": "03b8d112",
   "metadata": {
    "slideshow": {
     "slide_type": "slide"
    }
   },
   "source": [
    "## Variablennamen in Python\n",
    "\n",
    "- Fangen mit einem Buchstaben oder Unterstrich `_` an\n",
    "    - Umlaute gelten auch als Buchstaben\n",
    "- Können Ziffern, Buchstaben und Unterstriche `_` enthalten\n",
    "- Können viele andere Unicode-Zeichen enthalten\n",
    "    - Es ist aber meist besser, das zu vermeiden...\n",
    "- Groß- und Kleinschreibung wird unterschieden\n",
    "    - `A` ist eine andere Variable als `a`\n"
   ]
  },
  {
   "cell_type": "markdown",
   "id": "573e13e6",
   "metadata": {
    "slideshow": {
     "slide_type": "subslide"
    }
   },
   "source": [
    "### Stil\n",
    "\n",
    "- Variablennamen werden klein geschrieben\n",
    "    - Außer konstanten Variablen: `CONSTANT_VAR`\n",
    "- Bestandteile werden durch Unterstriche `_` getrennt\n",
    "    - Dieser Stil nennt sich Snake-Case\n",
    "- Variablen, die mit zwei Unterstrichen anfangen und aufhören haben\n",
    "  typischerweise eine spezielle Bedeutung (*Dunders*):\n",
    "    - `__class__`, `__name__`\n",
    "    - Normale benutzerdefinierte Variablen sollten nicht als Dunders benannt\n",
    "      werden"
   ]
  },
  {
   "cell_type": "code",
   "execution_count": null,
   "id": "48816743",
   "metadata": {
    "incorrectly_encoded_metadata": "{\"slideshow\": {\"slide_type\": \"subslide\"}} tags=[\"code-along\"]"
   },
   "outputs": [],
   "source": [
    "print(__name__)\n",
    "print(type(__name__))"
   ]
  },
  {
   "cell_type": "code",
   "execution_count": null,
   "id": "8d7adb9a",
   "metadata": {
    "tags": [
     "code-along"
    ]
   },
   "outputs": [],
   "source": []
  },
  {
   "cell_type": "code",
   "execution_count": null,
   "id": "7e7f40e4",
   "metadata": {
    "tags": [
     "code-along"
    ]
   },
   "outputs": [],
   "source": []
  },
  {
   "cell_type": "markdown",
   "id": "1f31d6a5",
   "metadata": {
    "slideshow": {
     "slide_type": "subslide"
    }
   },
   "source": [
    "- Manchmal werden \"private\" Variablen mit einem führenden Unterstrich\n",
    "  geschrieben: `_my_var`\n",
    "    - Das ist (für globale Variablen) besonders in älterem Code verbreitet\n",
    "    - In Klassen gibt es weitere Konventionen\n",
    "- Die meisten Python-Projekte folgen den Konventionen in\n",
    "  [PEP 8](https://www.python.org/dev/peps/pep-0008/#naming-conventions)"
   ]
  },
  {
   "cell_type": "code",
   "execution_count": null,
   "id": "bd07a831",
   "metadata": {
    "tags": [
     "code-along"
    ]
   },
   "outputs": [],
   "source": []
  },
  {
   "cell_type": "code",
   "execution_count": null,
   "id": "a87f17c3",
   "metadata": {
    "tags": [
     "code-along"
    ]
   },
   "outputs": [],
   "source": []
  },
  {
   "cell_type": "code",
   "execution_count": null,
   "id": "cf24e42e",
   "metadata": {
    "slideshow": {
     "slide_type": "subslide"
    }
   },
   "outputs": [],
   "source": [
    "variable_1 = 123\n",
    "VARIABLE_1 = 234\n",
    "Variable_1 = 345\n",
    "variablE_1 = 456"
   ]
  },
  {
   "cell_type": "code",
   "execution_count": null,
   "id": "a0f82c76",
   "metadata": {},
   "outputs": [],
   "source": [
    "print(variable_1)\n",
    "print(VARIABLE_1)\n",
    "print(Variable_1)\n",
    "print(variablE_1)"
   ]
  },
  {
   "cell_type": "code",
   "execution_count": null,
   "id": "b0cd9b36",
   "metadata": {
    "incorrectly_encoded_metadata": "{\"slideshow\": {\"slide_type\": \"subslide\"}} tags=[\"code-along\"]"
   },
   "outputs": [],
   "source": [
    "_my_var = 1\n",
    "print(_my_var)\n",
    "_my_var = _my_var + 5\n",
    "print(_my_var)"
   ]
  },
  {
   "cell_type": "code",
   "execution_count": null,
   "id": "d6d724db",
   "metadata": {
    "slideshow": {
     "slide_type": "subslide"
    }
   },
   "outputs": [],
   "source": [
    "größenmaßstäbe_der_fußgängerübergänge = 0.3\n",
    "größenmaßstäbe_der_fußgängerübergänge"
   ]
  },
  {
   "cell_type": "code",
   "execution_count": null,
   "id": "5951a265",
   "metadata": {
    "lines_to_next_cell": 2
   },
   "outputs": [],
   "source": [
    "# me@foo = 1"
   ]
  },
  {
   "cell_type": "code",
   "execution_count": null,
   "id": "afb453b8",
   "metadata": {
    "lines_to_next_cell": 2,
    "slideshow": {
     "slide_type": "subslide"
    }
   },
   "outputs": [],
   "source": [
    "α = 0.2\n",
    "β = 0.7\n",
    "γ = α ** 2 + 3 * β ** 2\n",
    "print(γ)\n",
    "αβγ = α * β * γ\n",
    "print(αβγ)\n",
    "Σ = 1 + 2 + 3\n",
    "print(Σ)\n",
    "# ∑ = 1 + 2 + 3 # Unzulässig!"
   ]
  },
  {
   "cell_type": "markdown",
   "id": "92c33e92",
   "metadata": {
    "slideshow": {
     "slide_type": "subslide"
    }
   },
   "source": [
    "## Mini-Workshop\n",
    "\n",
    "- Notebook `workshop_050_introduction_part1`\n",
    "- Abschnitt \"Piraten\""
   ]
  },
  {
   "cell_type": "markdown",
   "id": "619bffe8",
   "metadata": {
    "slideshow": {
     "slide_type": "slide"
    }
   },
   "source": [
    "## Zuweisung an mehrere Variablen\n",
    "\n",
    "In Python können mehrere Variablen gleichzeitig definiert bzw. mit neuen\n",
    "Werten versehen werden:"
   ]
  },
  {
   "cell_type": "code",
   "execution_count": null,
   "id": "bbbe5020",
   "metadata": {
    "tags": [
     "code-along"
    ]
   },
   "outputs": [],
   "source": []
  },
  {
   "cell_type": "markdown",
   "id": "e73b2659",
   "metadata": {
    "slideshow": {
     "slide_type": "slide"
    }
   },
   "source": [
    "# Funktionen\n",
    "\n",
    "Wir haben eine Firma zum Einzäunen dreieckiger Grundstücke gegründet.\n",
    "\n",
    "Für jedes von Straßen $A$, $B$ und $C$ begrenze Grundstück berechnen wir:"
   ]
  },
  {
   "cell_type": "code",
   "execution_count": null,
   "id": "90542a2c",
   "metadata": {},
   "outputs": [],
   "source": [
    "länge_a = 10  # Beispielwert\n",
    "länge_b = 40  # Beispielwert\n",
    "länge_c = (länge_a ** 2 + länge_b ** 2) ** 0.5\n",
    "länge_gesamt = länge_a + länge_b + länge_c\n",
    "print(länge_gesamt)"
   ]
  },
  {
   "cell_type": "markdown",
   "id": "164ad834",
   "metadata": {},
   "source": [
    "Können wir das etwas eleganter gestalten?"
   ]
  },
  {
   "cell_type": "markdown",
   "id": "57636355",
   "metadata": {
    "slideshow": {
     "slide_type": "subslide"
    }
   },
   "source": [
    "## Satz von Pythagoras\n",
    "\n",
    "Wir berechnen die Länge von $C$ aus $A$ und $B$ immer nach dem Satz von\n",
    "Pythagoras: $C = \\sqrt{A^2 + B^2}$.\n",
    "\n",
    "Das können wir in Python durch eine *Funktion* ausdrücken:"
   ]
  },
  {
   "cell_type": "code",
   "execution_count": null,
   "id": "c59773e6",
   "metadata": {
    "incorrectly_encoded_metadata": "{\"slideshow\": {\"slide_type\": \"subslide\"}} tags=[\"code-along\"]"
   },
   "outputs": [],
   "source": [
    "def pythagoras(a, b):\n",
    "    c = (a ** 2 + b ** 2) ** 0.5\n",
    "    return c"
   ]
  },
  {
   "cell_type": "code",
   "execution_count": null,
   "id": "6146f075",
   "metadata": {
    "tags": [
     "code-along"
    ]
   },
   "outputs": [],
   "source": []
  },
  {
   "cell_type": "code",
   "execution_count": null,
   "id": "10ed597e",
   "metadata": {
    "tags": [
     "code-along"
    ]
   },
   "outputs": [],
   "source": []
  },
  {
   "cell_type": "markdown",
   "id": "6b739fc0",
   "metadata": {
    "slideshow": {
     "slide_type": "slide"
    }
   },
   "source": [
    "## Funktionsdefinition\n",
    "- Schlüsselwort `def`\n",
    "- Name der Funktion\n",
    "- Parameter der Funktion, in Klammern; Doppelpunkt\n",
    "- Rumpf der Funktion, einen Tabulator eingerückt\n",
    "- Im Rumpf können die Parameter wie Variablen verwendet werden\n",
    "- Schlüsselwort `return`\n",
    "    - Beendet die Funktion\n",
    "    - Bestimmt welcher Wert zurückgegeben wird"
   ]
  },
  {
   "cell_type": "code",
   "execution_count": null,
   "id": "7f17df2f",
   "metadata": {
    "incorrectly_encoded_metadata": "{\"slideshow\": {\"slide_type\": \"subslide\"}} tags=[\"code-along\"]"
   },
   "outputs": [],
   "source": [
    "def pythagoras(a, b):\n",
    "    quadratsumme = a ** 2 + b ** 2\n",
    "    return quadratsumme ** 0.5"
   ]
  },
  {
   "cell_type": "markdown",
   "id": "8687f664",
   "metadata": {
    "slideshow": {
     "slide_type": "slide"
    }
   },
   "source": [
    "## Funktionsaufruf\n",
    "\n",
    "- Name der Funktion\n",
    "- Argumente des Aufrufs, in Klammern\n",
    "- Ein Argument für jeden Parameter"
   ]
  },
  {
   "cell_type": "code",
   "execution_count": null,
   "id": "19cd6687",
   "metadata": {
    "tags": [
     "code-along"
    ]
   },
   "outputs": [],
   "source": []
  },
  {
   "cell_type": "markdown",
   "id": "d73176f8",
   "metadata": {
    "slideshow": {
     "slide_type": "subslide"
    }
   },
   "source": [
    "## Zurück zur Zaunlänge\n",
    "\n",
    "- Wir haben bis jetzt die Länge der dritten Seite unseres Grundstücks berechnet.\n",
    "- Wir brauchen noch eine Funktion, die die Gesamtlänge ausrechnet:"
   ]
  },
  {
   "cell_type": "code",
   "execution_count": null,
   "id": "e24f0683",
   "metadata": {
    "tags": [
     "code-along"
    ]
   },
   "outputs": [],
   "source": []
  },
  {
   "cell_type": "markdown",
   "id": "c922dcc4",
   "metadata": {
    "slideshow": {
     "slide_type": "subslide"
    }
   },
   "source": [
    "Damit können wir unser Problem vereinfachen:"
   ]
  },
  {
   "cell_type": "code",
   "execution_count": null,
   "id": "eae1e18c",
   "metadata": {
    "tags": [
     "code-along"
    ]
   },
   "outputs": [],
   "source": []
  },
  {
   "cell_type": "markdown",
   "id": "a4aa7687",
   "metadata": {
    "slideshow": {
     "slide_type": "subslide"
    }
   },
   "source": [
    "## Mini-Workshop\n",
    "\n",
    "- Notebook `workshop_050_introduction_part1`\n",
    "- Abschnitt \"Spenden\"\n"
   ]
  },
  {
   "cell_type": "markdown",
   "id": "b3688266",
   "metadata": {
    "slideshow": {
     "slide_type": "slide"
    }
   },
   "source": [
    "## Import von Modulen\n",
    "\n",
    "Ein Großteil der Funktionalität von Python ist nicht direkt im Interpreter\n",
    "verfügbar sonder in Module (und Packages) ausgelagert. Mit der `import`\n",
    "Anweisung kann man dises Funktionalität verfügbar machen:"
   ]
  },
  {
   "cell_type": "code",
   "execution_count": null,
   "id": "14026c7d",
   "metadata": {
    "tags": [
     "code-along"
    ]
   },
   "outputs": [],
   "source": []
  },
  {
   "cell_type": "markdown",
   "id": "df572767",
   "metadata": {
    "incorrectly_encoded_metadata": "{\"slideshow\": {\"slide_type\": \"subslide\"}} tags=[\"code-along\"]"
   },
   "source": [
    "Auf die Funktionen aus dem `math` Modul kann man dann mit der Syntax\n",
    "`math.floor` zugreifen:"
   ]
  },
  {
   "cell_type": "code",
   "execution_count": null,
   "id": "704e48dd",
   "metadata": {
    "tags": [
     "code-along"
    ]
   },
   "outputs": [],
   "source": []
  },
  {
   "cell_type": "code",
   "execution_count": null,
   "id": "af57adef",
   "metadata": {
    "tags": [
     "code-along"
    ]
   },
   "outputs": [],
   "source": []
  },
  {
   "cell_type": "markdown",
   "id": "98fb94a6",
   "metadata": {
    "incorrectly_encoded_metadata": "{\"slideshow\": {\"slide_type\": \"subslide\"}} tags=[\"code-along\"]"
   },
   "source": [
    "Die Funktion `pythagoras` steht im `math`-Modul unter dem Namen `hypot`\n",
    "zur Verfügung:"
   ]
  },
  {
   "cell_type": "code",
   "execution_count": null,
   "id": "08012077",
   "metadata": {
    "tags": [
     "code-along"
    ]
   },
   "outputs": [],
   "source": []
  },
  {
   "cell_type": "markdown",
   "id": "1c542b27",
   "metadata": {
    "slideshow": {
     "slide_type": "subslide"
    }
   },
   "source": [
    "Damit können wir die Funktion `gesamtlänge` ohne die Hilfsfunktion\n",
    "`pythagoras` schreiben:"
   ]
  },
  {
   "cell_type": "code",
   "execution_count": null,
   "id": "29d8bc63",
   "metadata": {
    "tags": [
     "code-along"
    ]
   },
   "outputs": [],
   "source": []
  },
  {
   "cell_type": "code",
   "execution_count": null,
   "id": "53d74b03",
   "metadata": {
    "tags": [
     "code-along"
    ]
   },
   "outputs": [],
   "source": []
  },
  {
   "cell_type": "markdown",
   "id": "01c2a2c8",
   "metadata": {
    "slideshow": {
     "slide_type": "slide"
    }
   },
   "source": [
    "## Andere Arten von Zahlen\n",
    "\n",
    "Python bietet noch weitere Arten von Zahlen für spezielle Anwendungen\n",
    "\n",
    "- Dezimalzahlen mit beliebiger Genauigkeit\n",
    "- Komplexe Zahlen\n",
    "- Ganze Zahlen mit fixer Größe (z.B. mit `numpy`)\n",
    "- Gleitkommazahlen mit unterschiedlicher Größe (`numpy`)"
   ]
  },
  {
   "cell_type": "code",
   "execution_count": null,
   "id": "8aad8e6e",
   "metadata": {
    "incorrectly_encoded_metadata": "{\"slideshow\": {\"slide_type\": \"subslide\"}} tags=[\"code-along\"]"
   },
   "outputs": [],
   "source": [
    "1.1 * 100"
   ]
  },
  {
   "cell_type": "code",
   "execution_count": null,
   "id": "d8b5eb19",
   "metadata": {
    "tags": [
     "code-along"
    ]
   },
   "outputs": [],
   "source": []
  },
  {
   "cell_type": "code",
   "execution_count": null,
   "id": "8d92f3b9",
   "metadata": {
    "incorrectly_encoded_metadata": "{\"slideshow\": {\"slide_type\": \"subslide\"}} tags=[\"code-along\"]"
   },
   "outputs": [],
   "source": [
    "(1 + 1j) * (1 + 1j)"
   ]
  },
  {
   "cell_type": "code",
   "execution_count": null,
   "id": "e9489c3d",
   "metadata": {
    "tags": [
     "code-along"
    ]
   },
   "outputs": [],
   "source": []
  },
  {
   "cell_type": "markdown",
   "id": "1ac85225",
   "metadata": {
    "slideshow": {
     "slide_type": "slide"
    }
   },
   "source": [
    "## Funktionen ohne Argumente\n",
    "\n",
    "- Eine Funktion kann auch ohne formale Parameter definiert werden.\n",
    "- Sowohl bei der Definition, als auch beim Aufruf müssen die Klammern\n",
    "  trotzdem angegeben werden."
   ]
  },
  {
   "cell_type": "code",
   "execution_count": null,
   "id": "6c970ae3",
   "metadata": {
    "incorrectly_encoded_metadata": "{\"slideshow\": {\"slide_type\": \"subslide\"}} tags=[\"code-along\"]"
   },
   "outputs": [],
   "source": [
    "def null():\n",
    "    return 0"
   ]
  },
  {
   "cell_type": "code",
   "execution_count": null,
   "id": "904b3bcc",
   "metadata": {
    "tags": [
     "code-along"
    ]
   },
   "outputs": [],
   "source": []
  },
  {
   "cell_type": "code",
   "execution_count": null,
   "id": "4fc5549f",
   "metadata": {
    "tags": [
     "code-along"
    ]
   },
   "outputs": [],
   "source": []
  },
  {
   "cell_type": "code",
   "execution_count": null,
   "id": "3fefd249",
   "metadata": {
    "lines_to_next_cell": 2,
    "tags": [
     "code-along"
    ]
   },
   "outputs": [],
   "source": []
  },
  {
   "cell_type": "markdown",
   "id": "6b3e518b",
   "metadata": {
    "slideshow": {
     "slide_type": "slide"
    }
   },
   "source": [
    "# Funktionen mit Seiteneffekten\n",
    "\n",
    "Funktionene können\n",
    "\n",
    "- Werte berechnen: `quadratsumme(3, 4)`\n",
    "- Seiteneffekte haben: `print(\"Hans\")`"
   ]
  },
  {
   "cell_type": "code",
   "execution_count": null,
   "id": "88a493c8",
   "metadata": {
    "tags": [
     "code-along"
    ]
   },
   "outputs": [],
   "source": []
  },
  {
   "cell_type": "markdown",
   "id": "4f9f17b8",
   "metadata": {
    "slideshow": {
     "slide_type": "subslide"
    }
   },
   "source": [
    "### Der Wert `None`\n",
    "\n",
    "Der Rückgabewert der Funktion `print()` ist der spezielle Wert `None`.\n",
    "- Jupyter druckt `None` nicht als Wert einer Zelle aus:"
   ]
  },
  {
   "cell_type": "code",
   "execution_count": null,
   "id": "6c0adbeb",
   "metadata": {
    "tags": [
     "code-along"
    ]
   },
   "outputs": [],
   "source": []
  },
  {
   "cell_type": "code",
   "execution_count": null,
   "id": "e5f930b8",
   "metadata": {
    "tags": [
     "code-along"
    ]
   },
   "outputs": [],
   "source": []
  },
  {
   "cell_type": "code",
   "execution_count": null,
   "id": "c1c121ef",
   "metadata": {
    "tags": [
     "code-along"
    ]
   },
   "outputs": [],
   "source": []
  },
  {
   "cell_type": "markdown",
   "id": "200b9af2",
   "metadata": {
    "slideshow": {
     "slide_type": "subslide"
    }
   },
   "source": [
    "- Funktionen können Seiteneffekte haben\n",
    "    - Z.B. durch Aufruf von `print`\n",
    "- Diese werden ausgeführt, wenn ein Funktionsaufruf ausgewertet wird\n",
    "- Auch Funktionen mit Seiteneffekten geben einen Wert zurück\n",
    "    - Oft ist das der spezielle Wert `None`\n",
    "    - Wenn eine Funktion `None` zurückgibt brauchen wir keine explizite `return`-Anweisung"
   ]
  },
  {
   "cell_type": "code",
   "execution_count": null,
   "id": "8b643585",
   "metadata": {
    "incorrectly_encoded_metadata": "{\"slideshow\": {\"slide_type\": \"subslide\"}} tags=[\"code-along\"]"
   },
   "outputs": [],
   "source": [
    "def say_hello():\n",
    "    print(\"Hello, world!\")\n",
    "    print(\"Today is a great day!\")"
   ]
  },
  {
   "cell_type": "code",
   "execution_count": null,
   "id": "5bc33fc7",
   "metadata": {
    "tags": [
     "code-along"
    ]
   },
   "outputs": [],
   "source": []
  },
  {
   "cell_type": "markdown",
   "id": "fa508e32",
   "metadata": {
    "slideshow": {
     "slide_type": "subslide"
    }
   },
   "source": [
    "## Mini-Workshop\n",
    "\n",
    "- Notebook `workshop_050_introduction_part1`\n",
    "- Abschnitt \"Piraten, Teil 2\"\n"
   ]
  },
  {
   "cell_type": "markdown",
   "id": "a8d587d9",
   "metadata": {
    "slideshow": {
     "slide_type": "slide"
    }
   },
   "source": [
    "## Default-Argumente\n",
    "\n",
    "Funktionsparameter können einen Default-Wert haben.\n",
    "- Der Default-Wert wird mit der Syntax `parameter=wert` angegeben\n",
    "- Wird das entsprechende Argument nicht übergeben so wird der Default-Wert eingesetzt\n",
    "- Hat ein Parameter einen Default-Wert, so müssen alle rechts davon stehenden Werte ebenfalls einen haben"
   ]
  },
  {
   "cell_type": "code",
   "execution_count": null,
   "id": "c3473576",
   "metadata": {
    "incorrectly_encoded_metadata": "{\"slideshow\": {\"slide_type\": \"subslide\"}} tags=[\"code-along\"]"
   },
   "outputs": [],
   "source": [
    "def add_weighted(a, b=0, c=0):\n",
    "    return a + 2 * b + 3 * c"
   ]
  },
  {
   "cell_type": "code",
   "execution_count": null,
   "id": "2f4c73fa",
   "metadata": {
    "tags": [
     "code-along"
    ]
   },
   "outputs": [],
   "source": []
  },
  {
   "cell_type": "markdown",
   "id": "5c6809ed",
   "metadata": {
    "slideshow": {
     "slide_type": "slide"
    }
   },
   "source": [
    "## Vorsicht mit veränderlichen Default-Argumenten"
   ]
  },
  {
   "cell_type": "code",
   "execution_count": null,
   "id": "5cc6cca6",
   "metadata": {
    "tags": [
     "code-along"
    ]
   },
   "outputs": [],
   "source": []
  },
  {
   "cell_type": "code",
   "execution_count": null,
   "id": "d94d17ba",
   "metadata": {
    "tags": [
     "code-along"
    ]
   },
   "outputs": [],
   "source": []
  },
  {
   "cell_type": "code",
   "execution_count": null,
   "id": "1e2d4b5a",
   "metadata": {
    "tags": [
     "code-along"
    ]
   },
   "outputs": [],
   "source": []
  },
  {
   "cell_type": "markdown",
   "id": "b5e3377d",
   "metadata": {
    "slideshow": {
     "slide_type": "slide"
    }
   },
   "source": [
    "\n",
    "Lösung: verwende `Null` als Argument, erzeuge in jedem Aufruf eine neue Liste"
   ]
  },
  {
   "cell_type": "code",
   "execution_count": null,
   "id": "bc1db54c",
   "metadata": {
    "tags": [
     "code-along"
    ]
   },
   "outputs": [],
   "source": []
  },
  {
   "cell_type": "code",
   "execution_count": null,
   "id": "845393c9",
   "metadata": {
    "tags": [
     "code-along"
    ]
   },
   "outputs": [],
   "source": []
  },
  {
   "cell_type": "code",
   "execution_count": null,
   "id": "3f951bf3",
   "metadata": {
    "tags": [
     "code-along"
    ]
   },
   "outputs": [],
   "source": []
  },
  {
   "cell_type": "markdown",
   "id": "3edb873c",
   "metadata": {
    "slideshow": {
     "slide_type": "slide"
    }
   },
   "source": [
    "## Aufruf mit benannten Argumenten\n",
    "\n",
    "Beim Aufruf einer Funktion kann der Parametername in der Form `parameter=wert`\n",
    "angegeben werden.\n",
    "- Der entsprechende Wert wird dann für den benannten Parameter eingesetzt\n",
    "- Werden alle Parameter benannt, so wird der Aufruf unabhängig von der\n",
    "  Parameterreihenfolge"
   ]
  },
  {
   "cell_type": "code",
   "execution_count": null,
   "id": "d55a6db7",
   "metadata": {
    "incorrectly_encoded_metadata": "{\"slideshow\": {\"slide_type\": \"subslide\"}} tags=[\"code-along\"]"
   },
   "outputs": [],
   "source": [
    "def say_hi(person, greeting=\"Hi\"):\n",
    "    print(greeting, \" \", person, \"!\", sep=\"\")"
   ]
  },
  {
   "cell_type": "code",
   "execution_count": null,
   "id": "63920b67",
   "metadata": {
    "tags": [
     "code-along"
    ]
   },
   "outputs": [],
   "source": []
  },
  {
   "cell_type": "code",
   "execution_count": null,
   "id": "9d25444b",
   "metadata": {
    "tags": [
     "code-along"
    ]
   },
   "outputs": [],
   "source": []
  },
  {
   "cell_type": "code",
   "execution_count": null,
   "id": "07b38c77",
   "metadata": {
    "incorrectly_encoded_metadata": "{\"slideshow\": {\"slide_type\": \"subslide\"}} tags=[\"code-along\"]"
   },
   "outputs": [],
   "source": [
    "def add_weighted(a, b=0, c=0):\n",
    "    return a + 2 * b + 3 * c"
   ]
  },
  {
   "cell_type": "code",
   "execution_count": null,
   "id": "0f6f7dcf",
   "metadata": {
    "incorrectly_encoded_metadata": "{\"slideshow\": {\"slide_type\": \"\"}} tags=[\"code-along\"]"
   },
   "outputs": [],
   "source": [
    "add_weighted(c=2, a=1)"
   ]
  },
  {
   "cell_type": "code",
   "execution_count": null,
   "id": "d1fd51e8",
   "metadata": {
    "tags": [
     "code-along"
    ]
   },
   "outputs": [],
   "source": []
  },
  {
   "cell_type": "markdown",
   "id": "3c1cc736",
   "metadata": {
    "slideshow": {
     "slide_type": "slide"
    }
   },
   "source": [
    "## Typannotationen\n",
    "\n",
    "Python erlaubt es die Typen von Funktionsargumenten und den Rückgabetyp einer\n",
    "Funktion anzugeben:"
   ]
  },
  {
   "cell_type": "code",
   "execution_count": null,
   "id": "61301a6c",
   "metadata": {
    "tags": [
     "code-along"
    ]
   },
   "outputs": [],
   "source": []
  },
  {
   "cell_type": "code",
   "execution_count": null,
   "id": "b0dc9593",
   "metadata": {
    "tags": [
     "code-along"
    ]
   },
   "outputs": [],
   "source": []
  },
  {
   "cell_type": "markdown",
   "id": "9e6eb16d",
   "metadata": {
    "slideshow": {
     "slide_type": "subslide"
    }
   },
   "source": [
    "Typannotationen dienen lediglich zur Dokumentation und werden von Python ignoriert:"
   ]
  },
  {
   "cell_type": "code",
   "execution_count": null,
   "id": "90a3ced3",
   "metadata": {
    "tags": [
     "code-along"
    ]
   },
   "outputs": [],
   "source": []
  },
  {
   "cell_type": "markdown",
   "id": "955c4341",
   "metadata": {
    "slideshow": {
     "slide_type": "subslide"
    }
   },
   "source": [
    "Typannotationen können parametrische Typen, optionale Typen, etc. enthalten.\n",
    "(*Hinweis:* in älteren Python Versionen kann `list` keine Typparameter\n",
    "erhalten.)"
   ]
  },
  {
   "cell_type": "code",
   "execution_count": null,
   "id": "bfdf91f1",
   "metadata": {
    "tags": [
     "code-along"
    ]
   },
   "outputs": [],
   "source": []
  },
  {
   "cell_type": "code",
   "execution_count": null,
   "id": "504ab598",
   "metadata": {
    "incorrectly_encoded_metadata": "{\"slideshow\": {\"slide_type\": \"subslide\"}} tags=[\"code-along\"]"
   },
   "outputs": [],
   "source": [
    "my_list = [1, 2, 3]\n",
    "my_append(my_list, None)\n",
    "my_list"
   ]
  },
  {
   "cell_type": "code",
   "execution_count": null,
   "id": "978fe487",
   "metadata": {
    "tags": [
     "code-along"
    ]
   },
   "outputs": [],
   "source": []
  },
  {
   "cell_type": "markdown",
   "id": "c5548701",
   "metadata": {
    "slideshow": {
     "slide_type": "slide"
    }
   },
   "source": [
    "## Docstrings\n",
    "\n",
    "Jede Funktion in Python kann dokumentiert werden, indem ein String-Literal als\n",
    "erstes Element im Rumpf angegeben wird. Meistens wird dafür ein `\"\"\"`-String\n",
    "verwendet:"
   ]
  },
  {
   "cell_type": "code",
   "execution_count": null,
   "id": "31caa69c",
   "metadata": {
    "incorrectly_encoded_metadata": "{\"slideshow\": {\"slide_type\": \"subslide\"}} tags=[\"code-along\"]"
   },
   "outputs": [],
   "source": [
    "def my_fun(x):\n",
    "    \"\"\"\n",
    "    Zeigt dem Benutzer den Wert von x an\n",
    "\n",
    "    Verwendung:\n",
    "    >>> my_fun(123)\n",
    "    \"\"\"\n",
    "    print(\"Das Argument x hat den Wert\", x)"
   ]
  },
  {
   "cell_type": "code",
   "execution_count": null,
   "id": "068cea59",
   "metadata": {
    "tags": [
     "code-along"
    ]
   },
   "outputs": [],
   "source": []
  },
  {
   "cell_type": "markdown",
   "id": "649f9645",
   "metadata": {
    "slideshow": {
     "slide_type": "subslide"
    }
   },
   "source": [
    "Konventionen für Docstrings finden sich in\n",
    "[PEP 257](https://www.python.org/dev/peps/pep-0257/)."
   ]
  },
  {
   "cell_type": "markdown",
   "id": "c7a8b4a5",
   "metadata": {
    "slideshow": {
     "slide_type": "subslide"
    }
   },
   "source": [
    "Der Docstring einer Funktion kann mit `help()` ausgegeben werden:"
   ]
  },
  {
   "cell_type": "code",
   "execution_count": null,
   "id": "bc8e03cf",
   "metadata": {
    "tags": [
     "code-along"
    ]
   },
   "outputs": [],
   "source": []
  },
  {
   "cell_type": "markdown",
   "id": "9b12e08d",
   "metadata": {
    "slideshow": {
     "slide_type": "subslide"
    }
   },
   "source": [
    "In Jupyter kann man den Docstring einer Funktion durch ein vorangestelltes\n",
    "oder nachgestelltes Fragezeichen anzeigen lassen:"
   ]
  },
  {
   "cell_type": "code",
   "execution_count": null,
   "id": "3f99c768",
   "metadata": {
    "lines_to_next_cell": 2,
    "tags": [
     "code-along"
    ]
   },
   "outputs": [],
   "source": []
  },
  {
   "cell_type": "code",
   "execution_count": null,
   "id": "1b612ea9",
   "metadata": {
    "lines_to_next_cell": 2,
    "tags": [
     "code-along"
    ]
   },
   "outputs": [],
   "source": []
  },
  {
   "cell_type": "markdown",
   "id": "d64d2b56",
   "metadata": {
    "slideshow": {
     "slide_type": "subslide"
    }
   },
   "source": [
    "Oft verwendet man statt dessen Shift-Tab:"
   ]
  },
  {
   "cell_type": "code",
   "execution_count": null,
   "id": "2ccfcf7d",
   "metadata": {
    "tags": [
     "code-along"
    ]
   },
   "outputs": [],
   "source": []
  },
  {
   "cell_type": "markdown",
   "id": "f3e41a4d",
   "metadata": {
    "slideshow": {
     "slide_type": "subslide"
    }
   },
   "source": [
    "Bei Funktionen mit langen Docstrings kann man durch zweimaliges Drücken von `Shift-Tab` auf die ausführliche Anzeigeform umschalten:"
   ]
  },
  {
   "cell_type": "code",
   "execution_count": null,
   "id": "e487eeb1",
   "metadata": {
    "tags": [
     "code-along"
    ]
   },
   "outputs": [],
   "source": []
  },
  {
   "cell_type": "code",
   "execution_count": null,
   "id": "8bed12d9",
   "metadata": {
    "tags": [
     "code-along"
    ]
   },
   "outputs": [],
   "source": []
  },
  {
   "cell_type": "markdown",
   "id": "83362ae0",
   "metadata": {
    "slideshow": {
     "slide_type": "subslide"
    }
   },
   "source": [
    "## Signatur\n",
    "\n",
    "Die Anzahl, Namen, Default-Werte (und evtl. Typen) einer Funktion nennt man\n",
    "ihre *Signatur*.\n",
    "\n",
    "Jupyter zeigt u.a. die Signatur einer Funktion an, wenn man `Shift-Tab`\n",
    "eingibt:"
   ]
  },
  {
   "cell_type": "code",
   "execution_count": null,
   "id": "244d0773",
   "metadata": {
    "tags": [
     "code-along"
    ]
   },
   "outputs": [],
   "source": []
  },
  {
   "cell_type": "code",
   "execution_count": null,
   "id": "f4c13dca",
   "metadata": {
    "tags": [
     "code-along"
    ]
   },
   "outputs": [],
   "source": []
  },
  {
   "cell_type": "code",
   "execution_count": null,
   "id": "d22affc0",
   "metadata": {
    "tags": [
     "code-along"
    ]
   },
   "outputs": [],
   "source": []
  }
 ],
 "metadata": {
  "jupytext": {
   "cell_metadata_json": true,
   "encoding": "# -*- coding: utf-8 -*-",
   "formats": "ipynb"
  },
  "kernelspec": {
   "display_name": "Python 3 (ipykernel)",
   "language": "python",
   "name": "python3"
  }
 },
 "nbformat": 4,
 "nbformat_minor": 5
}
