{
 "cells": [
  {
   "cell_type": "markdown",
   "id": "a33960ea",
   "metadata": {
    "lang": "en",
    "lines_to_next_cell": 2,
    "slideshow": {
     "slide_type": "slide"
    }
   },
   "source": [
    "<img src=\"img/python-logo-notext.svg\"\n",
    "     style=\"display:block;margin:auto;width:10%\"/>\n",
    "<br>\n",
    "<div style=\"text-align:center; font-size:200%;\"><b>Object orientation part 1: Classes</b></div>\n",
    "<br/>\n",
    "<div style=\"text-align:center;\">Dr. Matthias Hölzl</div>"
   ]
  },
  {
   "cell_type": "markdown",
   "id": "82c6a414",
   "metadata": {
    "lang": "en",
    "slideshow": {
     "slide_type": "slide"
    }
   },
   "source": [
    "## Properties\n",
    "\n",
    "How can we create class for points that allows us to access its position both via`x` and\n",
    "`y` coordinates, as well as using radius and angle?"
   ]
  },
  {
   "cell_type": "code",
   "execution_count": null,
   "id": "7c02c47e",
   "metadata": {
    "tags": [
     "code-along"
    ]
   },
   "outputs": [],
   "source": []
  },
  {
   "cell_type": "code",
   "execution_count": null,
   "id": "181db826",
   "metadata": {
    "slideshow": {
     "slide_type": "subslide"
    },
    "tags": [
     "code-along"
    ]
   },
   "outputs": [],
   "source": []
  },
  {
   "cell_type": "code",
   "execution_count": null,
   "id": "771c434e",
   "metadata": {},
   "outputs": [],
   "source": [
    "assert p.x == 0.0\n",
    "assert p.y == 0.0\n",
    "assert p.get_radius() == 0.0\n",
    "assert p.get_angle() == 0.0"
   ]
  },
  {
   "cell_type": "code",
   "execution_count": null,
   "id": "ddadc640",
   "metadata": {
    "tags": [
     "code-along"
    ]
   },
   "outputs": [],
   "source": []
  },
  {
   "cell_type": "code",
   "execution_count": null,
   "id": "c19d9875",
   "metadata": {},
   "outputs": [],
   "source": [
    "assert p.x == 1.0\n",
    "assert p.y == 0.0\n",
    "assert p.get_radius() == 1.0\n",
    "assert p.get_angle() == 0.0"
   ]
  },
  {
   "cell_type": "code",
   "execution_count": null,
   "id": "e4eb3366",
   "metadata": {
    "tags": [
     "code-along"
    ]
   },
   "outputs": [],
   "source": []
  },
  {
   "cell_type": "code",
   "execution_count": null,
   "id": "6544d637",
   "metadata": {},
   "outputs": [],
   "source": [
    "from math import isclose, pi\n",
    "assert p.x == 0.0\n",
    "assert p.y == 2.0\n",
    "assert p.get_radius() == 2.0\n",
    "assert isclose(p.get_angle(), pi/2) "
   ]
  },
  {
   "cell_type": "markdown",
   "id": "01adc537",
   "metadata": {
    "lang": "en",
    "slideshow": {
     "slide_type": "subslide"
    }
   },
   "source": [
    "It is inconvenient that the attributes `x`\n",
    "and `y` of `GeoPointV0` must be treated differently than `radius` and `angle`:"
   ]
  },
  {
   "cell_type": "code",
   "execution_count": null,
   "id": "ae25907b",
   "metadata": {
    "tags": [
     "code-along"
    ]
   },
   "outputs": [],
   "source": []
  },
  {
   "cell_type": "code",
   "execution_count": null,
   "id": "8d5d55c5",
   "metadata": {
    "slideshow": {
     "slide_type": "subslide"
    },
    "tags": [
     "code-along"
    ]
   },
   "outputs": [],
   "source": []
  },
  {
   "cell_type": "code",
   "execution_count": null,
   "id": "efe8360c",
   "metadata": {
    "slideshow": {
     "slide_type": "subslide"
    },
    "tags": [
     "code-along"
    ]
   },
   "outputs": [],
   "source": []
  },
  {
   "cell_type": "code",
   "execution_count": null,
   "id": "6ea6ee77",
   "metadata": {},
   "outputs": [],
   "source": [
    "assert p.x == 0.0\n",
    "assert p.y == 0.0\n",
    "assert p.radius == 0.0\n",
    "assert p.angle == 0.0"
   ]
  },
  {
   "cell_type": "code",
   "execution_count": null,
   "id": "60163a5f",
   "metadata": {
    "tags": [
     "code-along"
    ]
   },
   "outputs": [],
   "source": []
  },
  {
   "cell_type": "code",
   "execution_count": null,
   "id": "f8d3333a",
   "metadata": {},
   "outputs": [],
   "source": [
    "assert p.x == 1.0\n",
    "assert p.y == 0.0\n",
    "assert p.radius == 1.0\n",
    "assert p.angle == 0.0"
   ]
  },
  {
   "cell_type": "code",
   "execution_count": null,
   "id": "85829ca2",
   "metadata": {
    "tags": [
     "code-along"
    ]
   },
   "outputs": [],
   "source": []
  },
  {
   "cell_type": "code",
   "execution_count": null,
   "id": "a9143503",
   "metadata": {},
   "outputs": [],
   "source": [
    "from math import isclose, pi\n",
    "assert p.x == 0.0\n",
    "assert p.y == 2.0\n",
    "assert p.radius == 2.0\n",
    "assert isclose(p.angle, pi/2) "
   ]
  },
  {
   "cell_type": "code",
   "execution_count": null,
   "id": "5b4742c1",
   "metadata": {
    "tags": [
     "code-along"
    ]
   },
   "outputs": [],
   "source": []
  },
  {
   "cell_type": "code",
   "execution_count": null,
   "id": "36426b65",
   "metadata": {
    "tags": [
     "code-along"
    ]
   },
   "outputs": [],
   "source": []
  },
  {
   "cell_type": "code",
   "execution_count": null,
   "id": "3c970ca8",
   "metadata": {
    "tags": [
     "code-along"
    ]
   },
   "outputs": [],
   "source": []
  },
  {
   "cell_type": "markdown",
   "id": "6fc55a7d",
   "metadata": {
    "lang": "en",
    "slideshow": {
     "slide_type": "subslide"
    }
   },
   "source": [
    "## Setters for properties:\n",
    "\n",
    "Properties can also be modified:"
   ]
  },
  {
   "cell_type": "code",
   "execution_count": null,
   "id": "b9fdcc7b",
   "metadata": {
    "tags": [
     "code-along"
    ]
   },
   "outputs": [],
   "source": []
  },
  {
   "cell_type": "code",
   "execution_count": null,
   "id": "cbc6aafc",
   "metadata": {
    "tags": [
     "code-along"
    ]
   },
   "outputs": [],
   "source": []
  },
  {
   "cell_type": "code",
   "execution_count": null,
   "id": "b46a9c8f",
   "metadata": {},
   "outputs": [],
   "source": [
    "assert p.radius == 10.0"
   ]
  },
  {
   "cell_type": "markdown",
   "id": "e9123976",
   "metadata": {
    "lang": "en",
    "slideshow": {
     "slide_type": "subslide"
    }
   },
   "source": [
    "## Attributes of classes\n",
    "\n",
    "Most attributes are defined at the instance level, i.e.,\n",
    "each object has its own values for the attributes. But sometimes it\n",
    "makes sense to define attributes on the class level as well:"
   ]
  },
  {
   "cell_type": "code",
   "execution_count": null,
   "id": "1719f67f",
   "metadata": {
    "tags": [
     "code-along"
    ]
   },
   "outputs": [],
   "source": []
  },
  {
   "cell_type": "code",
   "execution_count": null,
   "id": "b1274018",
   "metadata": {
    "tags": [
     "code-along"
    ]
   },
   "outputs": [],
   "source": []
  },
  {
   "cell_type": "code",
   "execution_count": null,
   "id": "4a8cfb3f",
   "metadata": {
    "tags": [
     "code-along"
    ]
   },
   "outputs": [],
   "source": []
  },
  {
   "cell_type": "code",
   "execution_count": null,
   "id": "98e91fab",
   "metadata": {
    "tags": [
     "code-along"
    ]
   },
   "outputs": [],
   "source": []
  },
  {
   "cell_type": "code",
   "execution_count": null,
   "id": "329a1a56",
   "metadata": {
    "tags": [
     "code-along"
    ]
   },
   "outputs": [],
   "source": []
  },
  {
   "cell_type": "code",
   "execution_count": null,
   "id": "0a4bc095",
   "metadata": {
    "lines_to_next_cell": 2,
    "tags": [
     "code-along"
    ]
   },
   "outputs": [],
   "source": []
  },
  {
   "cell_type": "markdown",
   "id": "1b3ac8b9",
   "metadata": {
    "lang": "en"
   },
   "source": [
    "### Inheritance"
   ]
  },
  {
   "cell_type": "code",
   "execution_count": null,
   "id": "2d8146f1",
   "metadata": {
    "tags": [
     "code-along"
    ]
   },
   "outputs": [],
   "source": []
  },
  {
   "cell_type": "code",
   "execution_count": null,
   "id": "d4cef8e1",
   "metadata": {
    "tags": [
     "code-along"
    ]
   },
   "outputs": [],
   "source": []
  },
  {
   "cell_type": "code",
   "execution_count": null,
   "id": "94d12581",
   "metadata": {
    "tags": [
     "code-along"
    ]
   },
   "outputs": [],
   "source": []
  },
  {
   "cell_type": "code",
   "execution_count": null,
   "id": "5bff9017",
   "metadata": {
    "tags": [
     "code-along"
    ]
   },
   "outputs": [],
   "source": []
  },
  {
   "cell_type": "code",
   "execution_count": null,
   "id": "199ffcf6",
   "metadata": {
    "tags": [
     "code-along"
    ]
   },
   "outputs": [],
   "source": []
  },
  {
   "cell_type": "code",
   "execution_count": null,
   "id": "8b8d1242",
   "metadata": {
    "tags": [
     "code-along"
    ]
   },
   "outputs": [],
   "source": []
  },
  {
   "cell_type": "code",
   "execution_count": null,
   "id": "6c58bf07",
   "metadata": {
    "tags": [
     "code-along"
    ]
   },
   "outputs": [],
   "source": []
  },
  {
   "cell_type": "code",
   "execution_count": null,
   "id": "119736d3",
   "metadata": {
    "tags": [
     "code-along"
    ]
   },
   "outputs": [],
   "source": []
  },
  {
   "cell_type": "code",
   "execution_count": null,
   "id": "066d1c11",
   "metadata": {
    "tags": [
     "code-along"
    ]
   },
   "outputs": [],
   "source": []
  },
  {
   "cell_type": "markdown",
   "id": "70ac9b4f",
   "metadata": {
    "lang": "en",
    "slideshow": {
     "slide_type": "slide"
    }
   },
   "source": [
    "## For experts: access to attributes\n",
    "\n",
    "Python allows us to modify access to attributes in several places."
   ]
  },
  {
   "cell_type": "markdown",
   "id": "db6a282f",
   "metadata": {
    "lang": "en"
   },
   "source": [
    "## Attributes of classes\n",
    "\n",
    " When accessing `C.name`, Python does the following:\n",
    "\n",
    " - If `name` is a key in `C.__dict__`:\n",
    "   - `v=C.__dict__['name']`\n",
    "   - If `v` is a descriptor (i.e., `type(v).__get__` is defined:\n",
    "     - Result is `type(v).__get__(v, None, C)`\n",
    "   - If `v` is not a descriptor:\n",
    "     - Result is `v`\n",
    " - If `name` is not a key in `C.__dict__`:\n",
    "   - The base classes of `C` are traversed in Method Resolution Order and\n",
    "     this procedure is performed for each class"
   ]
  },
  {
   "cell_type": "markdown",
   "id": "3c0d2cca",
   "metadata": {
    "lang": "en",
    "slideshow": {
     "slide_type": "subslide"
    }
   },
   "source": [
    "## Attributes of instances\n",
    "\n",
    " When accessing `object.name`, Python does the following:\n",
    "\n",
    " - If `name` is an overriding descriptor `v` in `C` or one of the\n",
    "   Base classes of `C` is (`type(v)` has methods `__get__()` and\n",
    "   `__set__()`:\n",
    "   - The result is `type(v).__get__(v, object, C)`\n",
    " - Else, if `name` is a key in `object.__dict__` :\n",
    "   - The result is `object.__dict__['name']`\n",
    " - Otherwise, `object.name` delegates the search to the class, as above\n",
    "   described\n",
    "   - If this finds a descriptor `v`, then the result is\n",
    "     `type(v).__get__(v, object, C)`\n",
    "   - If a value `v` is found that is not a descriptor, then `v`\n",
    "     returned\n",
    " - If no value is found and `C.__getattr__` is defined, then\n",
    "   `C.__getattr__(object, 'name')` is called to get the value\n",
    " - Otherwise an `AttributeError` exception will be thrown\n",
    "\n",
    " This process can be overridden by the `__getattribute__` method."
   ]
  },
  {
   "cell_type": "code",
   "execution_count": null,
   "id": "881b68cd",
   "metadata": {
    "slideshow": {
     "slide_type": "subslide"
    },
    "tags": [
     "code-along"
    ]
   },
   "outputs": [],
   "source": []
  },
  {
   "cell_type": "code",
   "execution_count": null,
   "id": "fed23975",
   "metadata": {
    "tags": [
     "code-along"
    ]
   },
   "outputs": [],
   "source": []
  },
  {
   "cell_type": "code",
   "execution_count": null,
   "id": "36af69d7",
   "metadata": {
    "tags": [
     "code-along"
    ]
   },
   "outputs": [],
   "source": []
  },
  {
   "cell_type": "code",
   "execution_count": null,
   "id": "e98511f2",
   "metadata": {
    "slideshow": {
     "slide_type": "subslide"
    },
    "tags": [
     "code-along"
    ]
   },
   "outputs": [],
   "source": []
  },
  {
   "cell_type": "code",
   "execution_count": null,
   "id": "0a79c013",
   "metadata": {
    "tags": [
     "code-along"
    ]
   },
   "outputs": [],
   "source": []
  },
  {
   "cell_type": "code",
   "execution_count": null,
   "id": "1ff4d7e2",
   "metadata": {
    "tags": [
     "code-along"
    ]
   },
   "outputs": [],
   "source": []
  },
  {
   "cell_type": "code",
   "execution_count": null,
   "id": "e2e9bcc1",
   "metadata": {
    "tags": [
     "code-along"
    ]
   },
   "outputs": [],
   "source": []
  },
  {
   "cell_type": "code",
   "execution_count": null,
   "id": "17f15639",
   "metadata": {
    "tags": [
     "code-along"
    ]
   },
   "outputs": [],
   "source": []
  },
  {
   "cell_type": "code",
   "execution_count": null,
   "id": "18e988f3",
   "metadata": {
    "tags": [
     "code-along"
    ]
   },
   "outputs": [],
   "source": []
  },
  {
   "cell_type": "code",
   "execution_count": null,
   "id": "391b36d1",
   "metadata": {
    "tags": [
     "code-along"
    ]
   },
   "outputs": [],
   "source": []
  },
  {
   "cell_type": "code",
   "execution_count": null,
   "id": "98216173",
   "metadata": {
    "tags": [
     "code-along"
    ]
   },
   "outputs": [],
   "source": []
  },
  {
   "cell_type": "code",
   "execution_count": null,
   "id": "7bc9f302",
   "metadata": {
    "tags": [
     "code-along"
    ]
   },
   "outputs": [],
   "source": []
  },
  {
   "cell_type": "markdown",
   "id": "e67112e7",
   "metadata": {
    "lines_to_next_cell": 2
   },
   "source": [
    "# Ende der Folien\n",
    "\n",
    "Der Rest der Folien kann weitgehend entfallen, da Klassen jetzt in\n",
    "`introduction_part2` eingeführt werden.\n",
    "\n",
    "TODO: Überprüfen ob es noch nicht behandelte Inhalte gibt und diese\n",
    "extrahieren. Evtl. in eine kurze Wiederholung umarbeiten."
   ]
  },
  {
   "cell_type": "markdown",
   "id": "b7638166",
   "metadata": {},
   "source": [
    "\n",
    " # Klassen\n",
    "\n",
    " Wie können wir einen Eintrag in einem Warenkorb darstellen?\n",
    "\n",
    " - Artikelnummer\n",
    " - Artikelname\n",
    " - Preis pro Stück\n",
    " - Anzahl\n",
    " - Gesamtpreis\n",
    "\n",
    " Vorschlag: Liste, (Tupel, Dictionaries)"
   ]
  },
  {
   "cell_type": "code",
   "execution_count": null,
   "id": "d339b687",
   "metadata": {},
   "outputs": [],
   "source": [
    "entry = [\"0713\", \"Netzkabel\", 3.49, 2, 6.98]"
   ]
  },
  {
   "cell_type": "code",
   "execution_count": null,
   "id": "f439e150",
   "metadata": {},
   "outputs": [],
   "source": [
    "entry"
   ]
  },
  {
   "cell_type": "markdown",
   "id": "c6c9b2be",
   "metadata": {},
   "source": [
    "\n",
    " ## Problem\n",
    "\n",
    " - Schwer zu erkennen, welcher Bedeutung ein Eintrag hat\n",
    " - Listenoperationen sind für Entries möglich, aber nicht sinnvoll\n",
    " - Bedeutung nur implizit; für Python ist es einfach eine Liste\n",
    " - Berechnete Werte (Gesamtpreis) müssen explizit angegeben werden"
   ]
  },
  {
   "cell_type": "code",
   "execution_count": null,
   "id": "7182859e",
   "metadata": {},
   "outputs": [],
   "source": [
    "entry = {\n",
    "    \"article_number\": \"0713\",\n",
    "    \"article_name\": \"Netzkabel\",\n",
    "    \"price_per_item:\": 3.49,\n",
    "    \"total_price\": 6.98,\n",
    "}"
   ]
  },
  {
   "cell_type": "code",
   "execution_count": null,
   "id": "f7d7b261",
   "metadata": {},
   "outputs": [],
   "source": [
    "entry"
   ]
  },
  {
   "cell_type": "markdown",
   "id": "9816acd9",
   "metadata": {},
   "source": [
    "\n",
    " ## Verbesserungen und noch vorhandene Probleme\n",
    "\n",
    " - Bedeutung der einzelnen \"Attribute\" ist klarer\n",
    " - Dictionary-Operationen für Eintrag sinnvoller als Listenoperationen\n",
    "   (passen aber immer noch nicht komplett)\n",
    " - Bedeutung des Eintrags selber nur implizit; für Python ist es einfach ein Dictionary\n",
    " - Berechnete Werte (Gesamtpreis) müssen explizit angegeben werden"
   ]
  },
  {
   "cell_type": "markdown",
   "id": "fc244072",
   "metadata": {},
   "source": [
    "\n",
    " # Klassen und Objekte\n",
    "\n",
    " Wie können wir in Python Objekte erzeugen, in denen wir zusammengehörige Daten Speichern können?\n",
    "\n",
    " - Listen\n",
    " - Tupel\n",
    " - Dictionaries\n",
    " - *(Instanzen von) benutzerdefinierten Klassen*"
   ]
  },
  {
   "cell_type": "code",
   "execution_count": null,
   "id": "f2b00008",
   "metadata": {},
   "outputs": [],
   "source": [
    "class ShoppingCartEntryV0:\n",
    "    pass"
   ]
  },
  {
   "cell_type": "code",
   "execution_count": null,
   "id": "44b34cab",
   "metadata": {},
   "outputs": [],
   "source": [
    "shopping_cart_entry_1 = ShoppingCartEntryV0()\n",
    "shopping_cart_entry_1"
   ]
  },
  {
   "cell_type": "code",
   "execution_count": null,
   "id": "5082d6e6",
   "metadata": {},
   "outputs": [],
   "source": [
    "type(shopping_cart_entry_1)"
   ]
  },
  {
   "cell_type": "code",
   "execution_count": null,
   "id": "8ea0decf",
   "metadata": {},
   "outputs": [],
   "source": [
    "shopping_cart_entry_1.article_number = \"9343\"\n",
    "shopping_cart_entry_1.article_name = \"Strawberries\"\n",
    "shopping_cart_entry_1.price_per_item = 2.99"
   ]
  },
  {
   "cell_type": "code",
   "execution_count": null,
   "id": "d5637db6",
   "metadata": {},
   "outputs": [],
   "source": [
    "shopping_cart_entry_1.article_number"
   ]
  },
  {
   "cell_type": "code",
   "execution_count": null,
   "id": "74db78a1",
   "metadata": {},
   "outputs": [],
   "source": [
    "shopping_cart_entry_1.article_name"
   ]
  },
  {
   "cell_type": "code",
   "execution_count": null,
   "id": "78eb1586",
   "metadata": {},
   "outputs": [],
   "source": [
    "shopping_cart_entry_1.price_per_item"
   ]
  },
  {
   "cell_type": "code",
   "execution_count": null,
   "id": "0934137c",
   "metadata": {},
   "outputs": [],
   "source": [
    "shopping_cart_entry_2 = ShoppingCartEntryV0()\n",
    "shopping_cart_entry_2.article_number = \"3742\"\n",
    "shopping_cart_entry_2.article_name = \"Cream\""
   ]
  },
  {
   "cell_type": "code",
   "execution_count": null,
   "id": "96946e01",
   "metadata": {
    "lines_to_next_cell": 2
   },
   "outputs": [],
   "source": [
    "print(\n",
    "    \"shopping_cart_entry_1:\",\n",
    "    shopping_cart_entry_1.article_number,\n",
    "    shopping_cart_entry_1.article_name,\n",
    "    shopping_cart_entry_1.price_per_item,\n",
    ")\n",
    "print(\n",
    "    \"shopping_cart_entry_2:\",\n",
    "    shopping_cart_entry_2.article_number,\n",
    "    shopping_cart_entry_2.article_name,\n",
    ")"
   ]
  },
  {
   "cell_type": "code",
   "execution_count": null,
   "id": "4c0f8d93",
   "metadata": {
    "lines_to_next_cell": 2
   },
   "outputs": [],
   "source": [
    "# Fehler:\n",
    "# shopping_cart_entry_2.price_per_item"
   ]
  },
  {
   "cell_type": "markdown",
   "id": "a22f741d",
   "metadata": {},
   "source": [
    "\n",
    " ## Bessere Variante: \"Abstrakter Datentyp\"\n",
    "\n",
    " Wir definieren uns einen Typ, der für \"entries in einem Warenkorb\" steht.\n",
    " Alle Instanzen dieses Typs haben die gleiche Struktur:\n",
    "\n",
    " - `article_number`, `article_name`\n",
    " - `price_per_item`, `number_of_items`\n",
    " - `total_price`, berechnet aus den vorhergehenden Werten\n"
   ]
  },
  {
   "cell_type": "markdown",
   "id": "c8fd6fe3",
   "metadata": {},
   "source": [
    "\n",
    " ### Konstruktoren\n",
    "\n",
    " Die benötigten Werte werden bei der Konstruktion eines entries angegeben.\n",
    "\n",
    " In Python definiert man dazu die `__init__()` Methode:"
   ]
  },
  {
   "cell_type": "code",
   "execution_count": null,
   "id": "98d256c7",
   "metadata": {},
   "outputs": [],
   "source": [
    "class ShoppingCartEntryV1:\n",
    "    def __init__(self, article_number, article_name, price_per_item, number_of_items):\n",
    "        self.article_number = article_number\n",
    "        self.article_name = article_name\n",
    "        self.price_per_item = price_per_item\n",
    "        self.number_of_items = number_of_items\n",
    "        self.total_price = price_per_item * number_of_items"
   ]
  },
  {
   "cell_type": "markdown",
   "id": "f318a3fe",
   "metadata": {},
   "source": [
    "\n",
    " - Die `__init__()` Methode wird von Python nach dem Erzeugen einer Instanz\n",
    "   aufgerufen\n",
    " - Das erste Argument ist dabei immer die neu erzeugte Instanz und hat\n",
    "   per Konvention den Namen `self`\n",
    " - Die restlichen Argumente müssen an den Konstruktor übergeben werden:"
   ]
  },
  {
   "cell_type": "code",
   "execution_count": null,
   "id": "1b50209c",
   "metadata": {},
   "outputs": [],
   "source": [
    "entry = ShoppingCartEntryV1(\"0713\", \"Netzkabel\", 3.49, 2)\n",
    "entry"
   ]
  },
  {
   "cell_type": "code",
   "execution_count": null,
   "id": "00bd2301",
   "metadata": {},
   "outputs": [],
   "source": [
    "entry.article_number, entry.article_name, entry.price_per_item, entry.number_of_items, entry.total_price"
   ]
  },
  {
   "cell_type": "code",
   "execution_count": null,
   "id": "fba3051e",
   "metadata": {
    "lines_to_next_cell": 2
   },
   "outputs": [],
   "source": [
    "# Fehler!\n",
    "# ShoppingCartEntryV1()"
   ]
  },
  {
   "cell_type": "code",
   "execution_count": null,
   "id": "286a651b",
   "metadata": {},
   "outputs": [],
   "source": [
    "shopping_cart = [\n",
    "    ShoppingCartEntryV1(\"9343\", \"Strawberries\", price_per_item=2.99, number_of_items=2),\n",
    "    ShoppingCartEntryV1(\"3742\", \"Cream\", price_per_item=1.99, number_of_items=1),\n",
    "]"
   ]
  },
  {
   "cell_type": "markdown",
   "id": "1ec62476",
   "metadata": {},
   "source": [
    "\n",
    " Die Ausgabe des Einkaufswagens ist mit der `ShoppingCartEntry` Klasse nicht sehr\n",
    " vielsagend. Das werden wir später verbessern."
   ]
  },
  {
   "cell_type": "code",
   "execution_count": null,
   "id": "30038831",
   "metadata": {},
   "outputs": [],
   "source": [
    "shopping_cart"
   ]
  },
  {
   "cell_type": "markdown",
   "id": "740f0d38",
   "metadata": {},
   "source": [
    "\n",
    " Wir können die Preise der einzelnen Entries im Einkaufswagen so berechnen:"
   ]
  },
  {
   "cell_type": "code",
   "execution_count": null,
   "id": "76738c79",
   "metadata": {},
   "outputs": [],
   "source": [
    "[entry.total_price for entry in shopping_cart]"
   ]
  },
  {
   "cell_type": "code",
   "execution_count": null,
   "id": "bc1fe039",
   "metadata": {},
   "outputs": [],
   "source": [
    "def total_price_of_shopping_cart(shopping_cart):\n",
    "    result = 0.0\n",
    "    for entry in shopping_cart:\n",
    "        result += entry.total_price\n",
    "    return result"
   ]
  },
  {
   "cell_type": "code",
   "execution_count": null,
   "id": "31284ec9",
   "metadata": {},
   "outputs": [],
   "source": [
    "total_price_of_shopping_cart(shopping_cart)"
   ]
  },
  {
   "cell_type": "markdown",
   "id": "f51d9a3a",
   "metadata": {},
   "source": [
    "\n",
    " ### ADT für Einkaufswagen\n",
    "\n",
    " Der Einkaufswagen ist im Moment als Liste gespeichert. Es wäre möglicherweise\n",
    " hilfreich dafür ebenfalls einen Typ zu definieren:"
   ]
  },
  {
   "cell_type": "code",
   "execution_count": null,
   "id": "29002ef7",
   "metadata": {},
   "outputs": [],
   "source": [
    "class ShoppingCartV0:\n",
    "    def __init__(self, entries):\n",
    "        self.entries = entries"
   ]
  },
  {
   "cell_type": "code",
   "execution_count": null,
   "id": "cd6901e0",
   "metadata": {},
   "outputs": [],
   "source": [
    "shopping_cart_entry_1 = ShoppingCartEntryV1(\"9343\", \"Strawberries\", 2.99, 2)\n",
    "shopping_cart_entry_2 = ShoppingCartEntryV1(\"3742\", \"Cream\", 1.99, 1)\n",
    "shopping_cart = ShoppingCartV0([shopping_cart_entry_1, shopping_cart_entry_2])"
   ]
  },
  {
   "cell_type": "code",
   "execution_count": null,
   "id": "e2188938",
   "metadata": {},
   "outputs": [],
   "source": [
    "def total_price_of_shopping_cart(shopping_cart):\n",
    "    result = 0.0\n",
    "    for entry in shopping_cart.entries:\n",
    "        result += entry.total_price\n",
    "    return result"
   ]
  },
  {
   "cell_type": "code",
   "execution_count": null,
   "id": "2fe50a09",
   "metadata": {},
   "outputs": [],
   "source": [
    "total_price_of_shopping_cart(shopping_cart)"
   ]
  },
  {
   "cell_type": "markdown",
   "id": "cb6cb748",
   "metadata": {},
   "source": [
    "\n",
    " ## Mini Workshop\n",
    "\n",
    " - Notebook `062x-Workshop Todo-Liste V1`\n",
    " - Abschnitt \"TODO-Liste Version 1\""
   ]
  },
  {
   "cell_type": "markdown",
   "id": "43571ac2",
   "metadata": {},
   "source": [
    "\n",
    " ### Methoden\n",
    "\n",
    " - Beim `ShoppingCartEntry` haben wir den Gesamtpreis als Attribut gespeichert.\n",
    " - Beim `ShoppingCart` berechnen wir den Gesamtpreis durch eine Top-Level\n",
    "   Funktion, die auf die `entries` zugreift.\n",
    " - Das ist inkonsistent und daher unschön.\n",
    " - Es wäre hilfreich, wenn wir die Funktionen, die zu einer Klasse gehören in\n",
    "   der Klasse definieren könnten:\n",
    " - Wir haben bei der `__init__()` Methode schon eine Funktionsdefinition in den Rumpf einer Klasse geschrieben\n",
    " - Das geht nicht nur für `__init__()` sondern auch für benutzerdefinierte Funktionen\n",
    " - Funktionen, die innerhalb einer Klasse definiert werden heißen *Methoden*\n",
    " - Methoden haben immer mindestens einen Parameter\n",
    "   - per Konvention `self`\n",
    "   - steht für das Objekt in dessen Kontext die Methode aufgerufen wird"
   ]
  },
  {
   "cell_type": "code",
   "execution_count": null,
   "id": "c48c97d6",
   "metadata": {},
   "outputs": [],
   "source": [
    "class ShoppingCartV1:\n",
    "    def __init__(self, entries):\n",
    "        self.entries = entries\n",
    "\n",
    "    def get_total_price(self):\n",
    "        result = 0.0\n",
    "        for entry in self.entries:\n",
    "            result += entry.total_price\n",
    "        return result"
   ]
  },
  {
   "cell_type": "code",
   "execution_count": null,
   "id": "b60f8110",
   "metadata": {},
   "outputs": [],
   "source": [
    "shopping_cart = ShoppingCartV1([shopping_cart_entry_1, shopping_cart_entry_2])"
   ]
  },
  {
   "cell_type": "markdown",
   "id": "88ff50fd",
   "metadata": {},
   "source": [
    "\n",
    " - Methoden werden mit der Syntax\n",
    "\n",
    "   ```python\n",
    "   object.method(arg1, arg2, ...)\n",
    "   ```\n",
    "\n",
    "   aufgerufen.\n",
    " - Das Argument des `self`-Parameters ist `object`\n",
    " - `arg1`, `arg2`, ... werden an die folgenden Parameter gebunden."
   ]
  },
  {
   "cell_type": "code",
   "execution_count": null,
   "id": "17243da9",
   "metadata": {},
   "outputs": [],
   "source": [
    "shopping_cart.get_total_price()"
   ]
  },
  {
   "cell_type": "markdown",
   "id": "6966477e",
   "metadata": {},
   "source": [
    "\n",
    " Eine Methode wird durch die `object.`-Operation an `object` *gebunden*, d.h.,\n",
    " dem `self` Parameter wird bei nachfolgenden Aufrufen `object` als Argument\n",
    " übergebben:"
   ]
  },
  {
   "cell_type": "code",
   "execution_count": null,
   "id": "ccb97c2d",
   "metadata": {},
   "outputs": [],
   "source": [
    "print(shopping_cart.get_total_price())\n",
    "my_method = shopping_cart.get_total_price\n",
    "print(shopping_cart)\n",
    "print(my_method)\n",
    "print(my_method())"
   ]
  },
  {
   "cell_type": "markdown",
   "id": "d93c7360",
   "metadata": {},
   "source": [
    "\n",
    " ### Properties\n",
    "\n",
    " In `ShoppingCartV1` ist `get_total_price()` eine Funktion, in\n",
    " `ShoppingCartEntryV1` hatten wir den Gesamtpreis in einem Attribut\n",
    " gespeichert.\n",
    "\n",
    " Das ergibt immer noch ein inkonsistentes Benutzerinterface:"
   ]
  },
  {
   "cell_type": "code",
   "execution_count": null,
   "id": "f4924cb3",
   "metadata": {},
   "outputs": [],
   "source": [
    "print(shopping_cart_entry_1.total_price)\n",
    "print(shopping_cart.get_total_price())"
   ]
  },
  {
   "cell_type": "markdown",
   "id": "ccb5af31",
   "metadata": {},
   "source": [
    "\n",
    " Eine Möglichkeit das zu vermeiden:\n",
    "\n",
    " - Getter für alle Instanzvariablen (siehe Java)\n",
    " - Viel Boilerplate-Code"
   ]
  },
  {
   "cell_type": "markdown",
   "id": "88f8d770",
   "metadata": {},
   "source": [
    "\n",
    " In Python können wir diesen Unterschied durch Definition einer `total_price`\n",
    " Property vermeiden. Eine Property\n",
    "\n",
    " - Ist eine Methode, die wie jede andere Methode evaluiert wird\n",
    " - Sieht syntaktisch wie der Zugriff auf ein Attribut aus\n",
    " - Wird durch den *Decorator* `@property` eingeführt"
   ]
  },
  {
   "cell_type": "code",
   "execution_count": null,
   "id": "a7e3e7e0",
   "metadata": {},
   "outputs": [],
   "source": [
    "class ShoppingCartV2:\n",
    "    def __init__(self, entries):\n",
    "        self.entries = entries\n",
    "\n",
    "    @property\n",
    "    def total_price(self):\n",
    "        result = 0.0\n",
    "        for entry in self.entries:\n",
    "            result += entry.total_price\n",
    "        return result"
   ]
  },
  {
   "cell_type": "code",
   "execution_count": null,
   "id": "efbd9d5b",
   "metadata": {},
   "outputs": [],
   "source": [
    "shopping_cart = ShoppingCartV2([shopping_cart_entry_1, shopping_cart_entry_2])\n",
    "print(shopping_cart_entry_1.total_price)\n",
    "print(shopping_cart.total_price)"
   ]
  },
  {
   "cell_type": "markdown",
   "id": "0135bfc7",
   "metadata": {},
   "source": [
    "\n",
    " ### Dunder-Methoden\n",
    "\n",
    " Zur Erinnerung:"
   ]
  },
  {
   "cell_type": "code",
   "execution_count": null,
   "id": "78626b22",
   "metadata": {},
   "outputs": [],
   "source": [
    "print(str(\"Foo\"))"
   ]
  },
  {
   "cell_type": "code",
   "execution_count": null,
   "id": "043dc873",
   "metadata": {},
   "outputs": [],
   "source": [
    "print(repr(\"Foo\"))"
   ]
  },
  {
   "cell_type": "code",
   "execution_count": null,
   "id": "beab3b1a",
   "metadata": {},
   "outputs": [],
   "source": [
    "foo = \"Foo\"\n",
    "print(f\"{foo}\")\n",
    "print(f\"{foo!s}\")\n",
    "print(f\"{foo!r}\")"
   ]
  },
  {
   "cell_type": "code",
   "execution_count": null,
   "id": "e07adf83",
   "metadata": {},
   "outputs": [],
   "source": [
    "print(f\"{shopping_cart}\")\n",
    "print(f\"{shopping_cart!s}\")\n",
    "print(f\"{shopping_cart!r}\")"
   ]
  },
  {
   "cell_type": "code",
   "execution_count": null,
   "id": "93e361bf",
   "metadata": {},
   "outputs": [],
   "source": [
    "class ShoppingCart:\n",
    "    def __init__(self, entries):\n",
    "        self.entries = entries\n",
    "\n",
    "    @property\n",
    "    def total_price(self):\n",
    "        result = 0.0\n",
    "        for entry in self.entries:\n",
    "            result += entry.total_price\n",
    "        return result\n",
    "\n",
    "    def __repr__(self):\n",
    "        return f\"ShoppingCart({self.entries!r})\"\n",
    "\n",
    "    # See real implementation\n",
    "    def __str__(self):\n",
    "        return f\"Shopping Cart: {', '.join(str(e) for e in self.entries)}\""
   ]
  },
  {
   "cell_type": "code",
   "execution_count": null,
   "id": "2f66ebe9",
   "metadata": {},
   "outputs": [],
   "source": [
    "class ShoppingCartEntry:\n",
    "    def __init__(self, article_number, article_name, price_per_item, number_of_items):\n",
    "        self.article_number = article_number\n",
    "        self.article_name = article_name\n",
    "        self.price_per_item = price_per_item\n",
    "        self.number_of_items = number_of_items\n",
    "\n",
    "    @property\n",
    "    def total_price(self):\n",
    "        return self.price_per_item * self.number_of_items\n",
    "\n",
    "    def __repr__(self):\n",
    "        return f\"ShoppingCartEntry({self.article_number!r}, {self.article_name!r}, {self.price_per_item!r}, {self.number_of_items!r})\"\n",
    "\n",
    "    def __str__(self):\n",
    "        return f\"{self.article_name}\""
   ]
  },
  {
   "cell_type": "code",
   "execution_count": null,
   "id": "4d73cd47",
   "metadata": {},
   "outputs": [],
   "source": [
    "shopping_cart = ShoppingCart(\n",
    "    [\n",
    "        ShoppingCartEntry(\"9343\", \"Strawberries\", 2.99, 2),\n",
    "        ShoppingCartEntry(\"3742\", \"Cream\", 1.99, 1),\n",
    "    ]\n",
    ")"
   ]
  },
  {
   "cell_type": "code",
   "execution_count": null,
   "id": "d5d3651d",
   "metadata": {},
   "outputs": [],
   "source": [
    "shopping_cart"
   ]
  },
  {
   "cell_type": "code",
   "execution_count": null,
   "id": "0c1749b5",
   "metadata": {},
   "outputs": [],
   "source": [
    "print(shopping_cart)"
   ]
  },
  {
   "cell_type": "code",
   "execution_count": null,
   "id": "a5ce579b",
   "metadata": {},
   "outputs": [],
   "source": [
    "print(f\"{shopping_cart}\")\n",
    "print(f\"{shopping_cart!s}\")\n",
    "print(f\"{shopping_cart!r}\")"
   ]
  },
  {
   "cell_type": "markdown",
   "id": "04ab55a5",
   "metadata": {},
   "source": [
    "\n",
    " Siehe `Examples/ShoppingCart` für Implementierungsvariante."
   ]
  },
  {
   "cell_type": "code",
   "execution_count": null,
   "id": "86bd7c26",
   "metadata": {},
   "outputs": [],
   "source": [
    "sce1 = ShoppingCartEntry(\"1\", \"Item 1\", 1.0, 1)\n",
    "sce2 = ShoppingCartEntry(\"1\", \"Item 1\", 1.0, 1)\n",
    "sce1 == sce2"
   ]
  },
  {
   "cell_type": "markdown",
   "id": "edaab3f4",
   "metadata": {},
   "source": [
    "\n",
    " ## Workshop\n",
    "\n",
    " - Notebook `064x-Workshop Todo-Liste V2`\n",
    " - Abschnitt \"Grundlegende Funktionalität\"\n",
    " - Im Moment ohne die `__iter__()` Methode"
   ]
  }
 ],
 "metadata": {
  "jupytext": {
   "cell_metadata_json": true,
   "encoding": "# -*- coding: utf-8 -*-",
   "formats": "ipynb"
  },
  "kernelspec": {
   "display_name": "Python 3 (ipykernel)",
   "language": "python",
   "name": "python3"
  }
 },
 "nbformat": 4,
 "nbformat_minor": 5
}
