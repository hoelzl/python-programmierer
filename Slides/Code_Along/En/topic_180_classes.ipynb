{
 "cells": [
  {
   "cell_type": "markdown",
   "id": "7e4b2a0d",
   "metadata": {
    "lang": "en",
    "lines_to_next_cell": 2,
    "slideshow": {
     "slide_type": "slide"
    }
   },
   "source": [
    "<img src=\"img/python-logo-notext.svg\"\n",
    "     style=\"display:block;margin:auto;width:10%\"/>\n",
    "<br>\n",
    "<div style=\"text-align:center; font-size:200%;\"><b>Object orientation part 1: Classes</b></div>\n",
    "<br/>\n",
    "<div style=\"text-align:center;\">Dr. Matthias Hölzl</div>"
   ]
  },
  {
   "cell_type": "markdown",
   "id": "b7634d32",
   "metadata": {
    "lang": "en",
    "slideshow": {
     "slide_type": "slide"
    }
   },
   "source": [
    "## Properties\n",
    "\n",
    "How can we create class for points that allows us to access its position both via`x` and\n",
    "`y` coordinates, as well as using radius and angle?"
   ]
  },
  {
   "cell_type": "code",
   "execution_count": null,
   "id": "8dd769e3",
   "metadata": {
    "tags": [
     "code-along"
    ]
   },
   "outputs": [],
   "source": []
  },
  {
   "cell_type": "code",
   "execution_count": null,
   "id": "556e78eb",
   "metadata": {
    "slideshow": {
     "slide_type": "subslide"
    },
    "tags": [
     "code-along"
    ]
   },
   "outputs": [],
   "source": []
  },
  {
   "cell_type": "code",
   "execution_count": null,
   "id": "421be280",
   "metadata": {},
   "outputs": [],
   "source": [
    "assert p.x == 0.0\n",
    "assert p.y == 0.0\n",
    "assert p.get_radius() == 0.0\n",
    "assert p.get_angle() == 0.0"
   ]
  },
  {
   "cell_type": "code",
   "execution_count": null,
   "id": "6e6703ca",
   "metadata": {
    "tags": [
     "code-along"
    ]
   },
   "outputs": [],
   "source": []
  },
  {
   "cell_type": "code",
   "execution_count": null,
   "id": "72d78636",
   "metadata": {},
   "outputs": [],
   "source": [
    "assert p.x == 1.0\n",
    "assert p.y == 0.0\n",
    "assert p.get_radius() == 1.0\n",
    "assert p.get_angle() == 0.0"
   ]
  },
  {
   "cell_type": "code",
   "execution_count": null,
   "id": "06bbc838",
   "metadata": {
    "tags": [
     "code-along"
    ]
   },
   "outputs": [],
   "source": []
  },
  {
   "cell_type": "code",
   "execution_count": null,
   "id": "5f363247",
   "metadata": {},
   "outputs": [],
   "source": [
    "from math import isclose, pi\n",
    "assert p.x == 0.0\n",
    "assert p.y == 2.0\n",
    "assert p.get_radius() == 2.0\n",
    "assert isclose(p.get_angle(), pi/2) "
   ]
  },
  {
   "cell_type": "markdown",
   "id": "2162d84d",
   "metadata": {
    "lang": "en",
    "slideshow": {
     "slide_type": "subslide"
    }
   },
   "source": [
    "It is inconvenient that the attributes `x`\n",
    "and `y` of `GeoPointV0` must be treated differently than `radius` and `angle`:"
   ]
  },
  {
   "cell_type": "code",
   "execution_count": null,
   "id": "5f65cdff",
   "metadata": {
    "tags": [
     "code-along"
    ]
   },
   "outputs": [],
   "source": []
  },
  {
   "cell_type": "code",
   "execution_count": null,
   "id": "e1efa124",
   "metadata": {
    "slideshow": {
     "slide_type": "subslide"
    },
    "tags": [
     "code-along"
    ]
   },
   "outputs": [],
   "source": []
  },
  {
   "cell_type": "code",
   "execution_count": null,
   "id": "32fe351f",
   "metadata": {
    "slideshow": {
     "slide_type": "subslide"
    },
    "tags": [
     "code-along"
    ]
   },
   "outputs": [],
   "source": []
  },
  {
   "cell_type": "code",
   "execution_count": null,
   "id": "b11bd7c4",
   "metadata": {},
   "outputs": [],
   "source": [
    "assert p.x == 0.0\n",
    "assert p.y == 0.0\n",
    "assert p.radius == 0.0\n",
    "assert p.angle == 0.0"
   ]
  },
  {
   "cell_type": "code",
   "execution_count": null,
   "id": "fc78b9fa",
   "metadata": {
    "tags": [
     "code-along"
    ]
   },
   "outputs": [],
   "source": []
  },
  {
   "cell_type": "code",
   "execution_count": null,
   "id": "48e3d6a7",
   "metadata": {},
   "outputs": [],
   "source": [
    "assert p.x == 1.0\n",
    "assert p.y == 0.0\n",
    "assert p.radius == 1.0\n",
    "assert p.angle == 0.0"
   ]
  },
  {
   "cell_type": "code",
   "execution_count": null,
   "id": "a1670f65",
   "metadata": {
    "tags": [
     "code-along"
    ]
   },
   "outputs": [],
   "source": []
  },
  {
   "cell_type": "code",
   "execution_count": null,
   "id": "4e2f8c85",
   "metadata": {},
   "outputs": [],
   "source": [
    "from math import isclose, pi\n",
    "assert p.x == 0.0\n",
    "assert p.y == 2.0\n",
    "assert p.radius == 2.0\n",
    "assert isclose(p.angle, pi/2) "
   ]
  },
  {
   "cell_type": "code",
   "execution_count": null,
   "id": "fae1c438",
   "metadata": {
    "tags": [
     "code-along"
    ]
   },
   "outputs": [],
   "source": []
  },
  {
   "cell_type": "code",
   "execution_count": null,
   "id": "8a4dbd33",
   "metadata": {
    "tags": [
     "code-along"
    ]
   },
   "outputs": [],
   "source": []
  },
  {
   "cell_type": "code",
   "execution_count": null,
   "id": "03910c31",
   "metadata": {
    "tags": [
     "code-along"
    ]
   },
   "outputs": [],
   "source": []
  },
  {
   "cell_type": "markdown",
   "id": "1b1520e6",
   "metadata": {
    "lang": "en",
    "slideshow": {
     "slide_type": "subslide"
    }
   },
   "source": [
    "## Setters for properties:\n",
    "\n",
    "Properties can also be modified:"
   ]
  },
  {
   "cell_type": "code",
   "execution_count": null,
   "id": "96c792aa",
   "metadata": {
    "tags": [
     "code-along"
    ]
   },
   "outputs": [],
   "source": []
  },
  {
   "cell_type": "code",
   "execution_count": null,
   "id": "ea3fdebf",
   "metadata": {
    "tags": [
     "code-along"
    ]
   },
   "outputs": [],
   "source": []
  },
  {
   "cell_type": "code",
   "execution_count": null,
   "id": "623ba02a",
   "metadata": {},
   "outputs": [],
   "source": [
    "assert p.radius == 10.0"
   ]
  },
  {
   "cell_type": "markdown",
   "id": "f3ae0474",
   "metadata": {
    "lang": "en",
    "slideshow": {
     "slide_type": "subslide"
    }
   },
   "source": [
    "## Attributes of classes\n",
    "\n",
    "Most attributes are defined at the instance level, i.e.,\n",
    "each object has its own values for the attributes. But sometimes it\n",
    "makes sense to define attributes on the class level as well:"
   ]
  },
  {
   "cell_type": "code",
   "execution_count": null,
   "id": "19558334",
   "metadata": {
    "tags": [
     "code-along"
    ]
   },
   "outputs": [],
   "source": []
  },
  {
   "cell_type": "code",
   "execution_count": null,
   "id": "10594627",
   "metadata": {
    "tags": [
     "code-along"
    ]
   },
   "outputs": [],
   "source": []
  },
  {
   "cell_type": "code",
   "execution_count": null,
   "id": "7521550c",
   "metadata": {
    "tags": [
     "code-along"
    ]
   },
   "outputs": [],
   "source": []
  },
  {
   "cell_type": "code",
   "execution_count": null,
   "id": "ce4445ac",
   "metadata": {
    "tags": [
     "code-along"
    ]
   },
   "outputs": [],
   "source": []
  },
  {
   "cell_type": "code",
   "execution_count": null,
   "id": "424fda65",
   "metadata": {
    "tags": [
     "code-along"
    ]
   },
   "outputs": [],
   "source": []
  },
  {
   "cell_type": "code",
   "execution_count": null,
   "id": "1253fb25",
   "metadata": {
    "lines_to_next_cell": 2,
    "tags": [
     "code-along"
    ]
   },
   "outputs": [],
   "source": []
  },
  {
   "cell_type": "markdown",
   "id": "ca9b2c6f",
   "metadata": {
    "lang": "en"
   },
   "source": [
    "### Inheritance"
   ]
  },
  {
   "cell_type": "code",
   "execution_count": null,
   "id": "97ea5517",
   "metadata": {
    "tags": [
     "code-along"
    ]
   },
   "outputs": [],
   "source": []
  },
  {
   "cell_type": "code",
   "execution_count": null,
   "id": "309b76be",
   "metadata": {
    "tags": [
     "code-along"
    ]
   },
   "outputs": [],
   "source": []
  },
  {
   "cell_type": "code",
   "execution_count": null,
   "id": "08a8505e",
   "metadata": {
    "tags": [
     "code-along"
    ]
   },
   "outputs": [],
   "source": []
  },
  {
   "cell_type": "code",
   "execution_count": null,
   "id": "2d750ee7",
   "metadata": {
    "tags": [
     "code-along"
    ]
   },
   "outputs": [],
   "source": []
  },
  {
   "cell_type": "code",
   "execution_count": null,
   "id": "56cfdf9f",
   "metadata": {
    "tags": [
     "code-along"
    ]
   },
   "outputs": [],
   "source": []
  },
  {
   "cell_type": "code",
   "execution_count": null,
   "id": "7d8794a7",
   "metadata": {
    "tags": [
     "code-along"
    ]
   },
   "outputs": [],
   "source": []
  },
  {
   "cell_type": "code",
   "execution_count": null,
   "id": "186f4de2",
   "metadata": {
    "tags": [
     "code-along"
    ]
   },
   "outputs": [],
   "source": []
  },
  {
   "cell_type": "code",
   "execution_count": null,
   "id": "aa4d8ce2",
   "metadata": {
    "tags": [
     "code-along"
    ]
   },
   "outputs": [],
   "source": []
  },
  {
   "cell_type": "code",
   "execution_count": null,
   "id": "e693d743",
   "metadata": {
    "tags": [
     "code-along"
    ]
   },
   "outputs": [],
   "source": []
  },
  {
   "cell_type": "markdown",
   "id": "e5f04fae",
   "metadata": {
    "lang": "en",
    "slideshow": {
     "slide_type": "slide"
    }
   },
   "source": [
    "## For experts: access to attributes\n",
    "\n",
    "Python allows us to modify access to attributes in several places."
   ]
  },
  {
   "cell_type": "markdown",
   "id": "99be666e",
   "metadata": {
    "lang": "en"
   },
   "source": [
    "## Attributes of classes\n",
    "\n",
    " When accessing `C.name`, Python does the following:\n",
    "\n",
    " - If `name` is a key in `C.__dict__`:\n",
    "   - `v=C.__dict__['name']`\n",
    "   - If `v` is a descriptor (i.e., `type(v).__get__` is defined:\n",
    "     - Result is `type(v).__get__(v, None, C)`\n",
    "   - If `v` is not a descriptor:\n",
    "     - Result is `v`\n",
    " - If `name` is not a key in `C.__dict__`:\n",
    "   - The base classes of `C` are traversed in Method Resolution Order and\n",
    "     this procedure is performed for each class"
   ]
  },
  {
   "cell_type": "markdown",
   "id": "3b9e6495",
   "metadata": {
    "lang": "en",
    "slideshow": {
     "slide_type": "subslide"
    }
   },
   "source": [
    "## Attributes of instances\n",
    "\n",
    " When accessing `object.name`, Python does the following:\n",
    "\n",
    " - If `name` is an overriding descriptor `v` in `C` or one of the\n",
    "   Base classes of `C` is (`type(v)` has methods `__get__()` and\n",
    "   `__set__()`:\n",
    "   - The result is `type(v).__get__(v, object, C)`\n",
    " - Else, if `name` is a key in `object.__dict__` :\n",
    "   - The result is `object.__dict__['name']`\n",
    " - Otherwise, `object.name` delegates the search to the class, as above\n",
    "   described\n",
    "   - If this finds a descriptor `v`, then the result is\n",
    "     `type(v).__get__(v, object, C)`\n",
    "   - If a value `v` is found that is not a descriptor, then `v`\n",
    "     returned\n",
    " - If no value is found and `C.__getattr__` is defined, then\n",
    "   `C.__getattr__(object, 'name')` is called to get the value\n",
    " - Otherwise an `AttributeError` exception will be thrown\n",
    "\n",
    " This process can be overridden by the `__getattribute__` method."
   ]
  },
  {
   "cell_type": "code",
   "execution_count": null,
   "id": "9a0b1de9",
   "metadata": {
    "slideshow": {
     "slide_type": "subslide"
    },
    "tags": [
     "code-along"
    ]
   },
   "outputs": [],
   "source": []
  },
  {
   "cell_type": "code",
   "execution_count": null,
   "id": "a426b77b",
   "metadata": {
    "tags": [
     "code-along"
    ]
   },
   "outputs": [],
   "source": []
  },
  {
   "cell_type": "code",
   "execution_count": null,
   "id": "620efd41",
   "metadata": {
    "tags": [
     "code-along"
    ]
   },
   "outputs": [],
   "source": []
  },
  {
   "cell_type": "code",
   "execution_count": null,
   "id": "a6b0e0d7",
   "metadata": {
    "slideshow": {
     "slide_type": "subslide"
    },
    "tags": [
     "code-along"
    ]
   },
   "outputs": [],
   "source": []
  },
  {
   "cell_type": "code",
   "execution_count": null,
   "id": "45ae02bc",
   "metadata": {
    "tags": [
     "code-along"
    ]
   },
   "outputs": [],
   "source": []
  },
  {
   "cell_type": "code",
   "execution_count": null,
   "id": "2914bf8c",
   "metadata": {
    "tags": [
     "code-along"
    ]
   },
   "outputs": [],
   "source": []
  },
  {
   "cell_type": "code",
   "execution_count": null,
   "id": "f8ddf0b7",
   "metadata": {
    "tags": [
     "code-along"
    ]
   },
   "outputs": [],
   "source": []
  },
  {
   "cell_type": "code",
   "execution_count": null,
   "id": "be159fd2",
   "metadata": {
    "tags": [
     "code-along"
    ]
   },
   "outputs": [],
   "source": []
  },
  {
   "cell_type": "code",
   "execution_count": null,
   "id": "98be48be",
   "metadata": {
    "tags": [
     "code-along"
    ]
   },
   "outputs": [],
   "source": []
  },
  {
   "cell_type": "code",
   "execution_count": null,
   "id": "19a666e8",
   "metadata": {
    "tags": [
     "code-along"
    ]
   },
   "outputs": [],
   "source": []
  },
  {
   "cell_type": "code",
   "execution_count": null,
   "id": "cefa56e5",
   "metadata": {
    "tags": [
     "code-along"
    ]
   },
   "outputs": [],
   "source": []
  },
  {
   "cell_type": "code",
   "execution_count": null,
   "id": "dd23b5c1",
   "metadata": {
    "tags": [
     "code-along"
    ]
   },
   "outputs": [],
   "source": []
  },
  {
   "cell_type": "markdown",
   "id": "2b728b78",
   "metadata": {
    "lines_to_next_cell": 2
   },
   "source": [
    "# Ende der Folien\n",
    "\n",
    "Der Rest der Folien kann weitgehend entfallen, da Klassen jetzt in\n",
    "`introduction_part2` eingeführt werden.\n",
    "\n",
    "TODO: Überprüfen ob es noch nicht behandelte Inhalte gibt und diese\n",
    "extrahieren. Evtl. in eine kurze Wiederholung umarbeiten."
   ]
  },
  {
   "cell_type": "markdown",
   "id": "bbcdc0a6",
   "metadata": {},
   "source": [
    "\n",
    " # Klassen\n",
    "\n",
    " Wie können wir einen Eintrag in einem Warenkorb darstellen?\n",
    "\n",
    " - Artikelnummer\n",
    " - Artikelname\n",
    " - Preis pro Stück\n",
    " - Anzahl\n",
    " - Gesamtpreis\n",
    "\n",
    " Vorschlag: Liste, (Tupel, Dictionaries)"
   ]
  },
  {
   "cell_type": "code",
   "execution_count": null,
   "id": "46926a33",
   "metadata": {},
   "outputs": [],
   "source": [
    "entry = [\"0713\", \"Netzkabel\", 3.49, 2, 6.98]"
   ]
  },
  {
   "cell_type": "code",
   "execution_count": null,
   "id": "c67c562d",
   "metadata": {},
   "outputs": [],
   "source": [
    "entry"
   ]
  },
  {
   "cell_type": "markdown",
   "id": "fc283767",
   "metadata": {},
   "source": [
    "\n",
    " ## Problem\n",
    "\n",
    " - Schwer zu erkennen, welcher Bedeutung ein Eintrag hat\n",
    " - Listenoperationen sind für Entries möglich, aber nicht sinnvoll\n",
    " - Bedeutung nur implizit; für Python ist es einfach eine Liste\n",
    " - Berechnete Werte (Gesamtpreis) müssen explizit angegeben werden"
   ]
  },
  {
   "cell_type": "code",
   "execution_count": null,
   "id": "f5119099",
   "metadata": {},
   "outputs": [],
   "source": [
    "entry = {\n",
    "    \"article_number\": \"0713\",\n",
    "    \"article_name\": \"Netzkabel\",\n",
    "    \"price_per_item:\": 3.49,\n",
    "    \"total_price\": 6.98,\n",
    "}"
   ]
  },
  {
   "cell_type": "code",
   "execution_count": null,
   "id": "54e1f01b",
   "metadata": {},
   "outputs": [],
   "source": [
    "entry"
   ]
  },
  {
   "cell_type": "markdown",
   "id": "99b6bda5",
   "metadata": {},
   "source": [
    "\n",
    " ## Verbesserungen und noch vorhandene Probleme\n",
    "\n",
    " - Bedeutung der einzelnen \"Attribute\" ist klarer\n",
    " - Dictionary-Operationen für Eintrag sinnvoller als Listenoperationen\n",
    "   (passen aber immer noch nicht komplett)\n",
    " - Bedeutung des Eintrags selber nur implizit; für Python ist es einfach ein Dictionary\n",
    " - Berechnete Werte (Gesamtpreis) müssen explizit angegeben werden"
   ]
  },
  {
   "cell_type": "markdown",
   "id": "7876a570",
   "metadata": {},
   "source": [
    "\n",
    " # Klassen und Objekte\n",
    "\n",
    " Wie können wir in Python Objekte erzeugen, in denen wir zusammengehörige Daten Speichern können?\n",
    "\n",
    " - Listen\n",
    " - Tupel\n",
    " - Dictionaries\n",
    " - *(Instanzen von) benutzerdefinierten Klassen*"
   ]
  },
  {
   "cell_type": "code",
   "execution_count": null,
   "id": "5b777d56",
   "metadata": {},
   "outputs": [],
   "source": [
    "class ShoppingCartEntryV0:\n",
    "    pass"
   ]
  },
  {
   "cell_type": "code",
   "execution_count": null,
   "id": "7f90033c",
   "metadata": {},
   "outputs": [],
   "source": [
    "shopping_cart_entry_1 = ShoppingCartEntryV0()\n",
    "shopping_cart_entry_1"
   ]
  },
  {
   "cell_type": "code",
   "execution_count": null,
   "id": "5dad73f2",
   "metadata": {},
   "outputs": [],
   "source": [
    "type(shopping_cart_entry_1)"
   ]
  },
  {
   "cell_type": "code",
   "execution_count": null,
   "id": "eeba8300",
   "metadata": {},
   "outputs": [],
   "source": [
    "shopping_cart_entry_1.article_number = \"9343\"\n",
    "shopping_cart_entry_1.article_name = \"Strawberries\"\n",
    "shopping_cart_entry_1.price_per_item = 2.99"
   ]
  },
  {
   "cell_type": "code",
   "execution_count": null,
   "id": "49e01a2b",
   "metadata": {},
   "outputs": [],
   "source": [
    "shopping_cart_entry_1.article_number"
   ]
  },
  {
   "cell_type": "code",
   "execution_count": null,
   "id": "1a2c3ba1",
   "metadata": {},
   "outputs": [],
   "source": [
    "shopping_cart_entry_1.article_name"
   ]
  },
  {
   "cell_type": "code",
   "execution_count": null,
   "id": "5eb4badd",
   "metadata": {},
   "outputs": [],
   "source": [
    "shopping_cart_entry_1.price_per_item"
   ]
  },
  {
   "cell_type": "code",
   "execution_count": null,
   "id": "838dc78e",
   "metadata": {},
   "outputs": [],
   "source": [
    "shopping_cart_entry_2 = ShoppingCartEntryV0()\n",
    "shopping_cart_entry_2.article_number = \"3742\"\n",
    "shopping_cart_entry_2.article_name = \"Cream\""
   ]
  },
  {
   "cell_type": "code",
   "execution_count": null,
   "id": "b43fcaa4",
   "metadata": {
    "lines_to_next_cell": 2
   },
   "outputs": [],
   "source": [
    "print(\n",
    "    \"shopping_cart_entry_1:\",\n",
    "    shopping_cart_entry_1.article_number,\n",
    "    shopping_cart_entry_1.article_name,\n",
    "    shopping_cart_entry_1.price_per_item,\n",
    ")\n",
    "print(\n",
    "    \"shopping_cart_entry_2:\",\n",
    "    shopping_cart_entry_2.article_number,\n",
    "    shopping_cart_entry_2.article_name,\n",
    ")"
   ]
  },
  {
   "cell_type": "code",
   "execution_count": null,
   "id": "b2c8f732",
   "metadata": {
    "lines_to_next_cell": 2
   },
   "outputs": [],
   "source": [
    "# Fehler:\n",
    "# shopping_cart_entry_2.price_per_item"
   ]
  },
  {
   "cell_type": "markdown",
   "id": "a8cd25cd",
   "metadata": {},
   "source": [
    "\n",
    " ## Bessere Variante: \"Abstrakter Datentyp\"\n",
    "\n",
    " Wir definieren uns einen Typ, der für \"entries in einem Warenkorb\" steht.\n",
    " Alle Instanzen dieses Typs haben die gleiche Struktur:\n",
    "\n",
    " - `article_number`, `article_name`\n",
    " - `price_per_item`, `number_of_items`\n",
    " - `total_price`, berechnet aus den vorhergehenden Werten\n"
   ]
  },
  {
   "cell_type": "markdown",
   "id": "d765e2d1",
   "metadata": {},
   "source": [
    "\n",
    " ### Konstruktoren\n",
    "\n",
    " Die benötigten Werte werden bei der Konstruktion eines entries angegeben.\n",
    "\n",
    " In Python definiert man dazu die `__init__()` Methode:"
   ]
  },
  {
   "cell_type": "code",
   "execution_count": null,
   "id": "b18a83df",
   "metadata": {},
   "outputs": [],
   "source": [
    "class ShoppingCartEntryV1:\n",
    "    def __init__(self, article_number, article_name, price_per_item, number_of_items):\n",
    "        self.article_number = article_number\n",
    "        self.article_name = article_name\n",
    "        self.price_per_item = price_per_item\n",
    "        self.number_of_items = number_of_items\n",
    "        self.total_price = price_per_item * number_of_items"
   ]
  },
  {
   "cell_type": "markdown",
   "id": "72aad069",
   "metadata": {},
   "source": [
    "\n",
    " - Die `__init__()` Methode wird von Python nach dem Erzeugen einer Instanz\n",
    "   aufgerufen\n",
    " - Das erste Argument ist dabei immer die neu erzeugte Instanz und hat\n",
    "   per Konvention den Namen `self`\n",
    " - Die restlichen Argumente müssen an den Konstruktor übergeben werden:"
   ]
  },
  {
   "cell_type": "code",
   "execution_count": null,
   "id": "257500a7",
   "metadata": {},
   "outputs": [],
   "source": [
    "entry = ShoppingCartEntryV1(\"0713\", \"Netzkabel\", 3.49, 2)\n",
    "entry"
   ]
  },
  {
   "cell_type": "code",
   "execution_count": null,
   "id": "886f3ac6",
   "metadata": {},
   "outputs": [],
   "source": [
    "entry.article_number, entry.article_name, entry.price_per_item, entry.number_of_items, entry.total_price"
   ]
  },
  {
   "cell_type": "code",
   "execution_count": null,
   "id": "f14e4065",
   "metadata": {
    "lines_to_next_cell": 2
   },
   "outputs": [],
   "source": [
    "# Fehler!\n",
    "# ShoppingCartEntryV1()"
   ]
  },
  {
   "cell_type": "code",
   "execution_count": null,
   "id": "8e44674e",
   "metadata": {},
   "outputs": [],
   "source": [
    "shopping_cart = [\n",
    "    ShoppingCartEntryV1(\"9343\", \"Strawberries\", price_per_item=2.99, number_of_items=2),\n",
    "    ShoppingCartEntryV1(\"3742\", \"Cream\", price_per_item=1.99, number_of_items=1),\n",
    "]"
   ]
  },
  {
   "cell_type": "markdown",
   "id": "9c333834",
   "metadata": {},
   "source": [
    "\n",
    " Die Ausgabe des Einkaufswagens ist mit der `ShoppingCartEntry` Klasse nicht sehr\n",
    " vielsagend. Das werden wir später verbessern."
   ]
  },
  {
   "cell_type": "code",
   "execution_count": null,
   "id": "3038ca1d",
   "metadata": {},
   "outputs": [],
   "source": [
    "shopping_cart"
   ]
  },
  {
   "cell_type": "markdown",
   "id": "85f9a42c",
   "metadata": {},
   "source": [
    "\n",
    " Wir können die Preise der einzelnen Entries im Einkaufswagen so berechnen:"
   ]
  },
  {
   "cell_type": "code",
   "execution_count": null,
   "id": "b1b225f6",
   "metadata": {},
   "outputs": [],
   "source": [
    "[entry.total_price for entry in shopping_cart]"
   ]
  },
  {
   "cell_type": "code",
   "execution_count": null,
   "id": "d3f3dd43",
   "metadata": {},
   "outputs": [],
   "source": [
    "def total_price_of_shopping_cart(shopping_cart):\n",
    "    result = 0.0\n",
    "    for entry in shopping_cart:\n",
    "        result += entry.total_price\n",
    "    return result"
   ]
  },
  {
   "cell_type": "code",
   "execution_count": null,
   "id": "60eff4fc",
   "metadata": {},
   "outputs": [],
   "source": [
    "total_price_of_shopping_cart(shopping_cart)"
   ]
  },
  {
   "cell_type": "markdown",
   "id": "372a6f9c",
   "metadata": {},
   "source": [
    "\n",
    " ### ADT für Einkaufswagen\n",
    "\n",
    " Der Einkaufswagen ist im Moment als Liste gespeichert. Es wäre möglicherweise\n",
    " hilfreich dafür ebenfalls einen Typ zu definieren:"
   ]
  },
  {
   "cell_type": "code",
   "execution_count": null,
   "id": "741eda4b",
   "metadata": {},
   "outputs": [],
   "source": [
    "class ShoppingCartV0:\n",
    "    def __init__(self, entries):\n",
    "        self.entries = entries"
   ]
  },
  {
   "cell_type": "code",
   "execution_count": null,
   "id": "57e9bb7b",
   "metadata": {},
   "outputs": [],
   "source": [
    "shopping_cart_entry_1 = ShoppingCartEntryV1(\"9343\", \"Strawberries\", 2.99, 2)\n",
    "shopping_cart_entry_2 = ShoppingCartEntryV1(\"3742\", \"Cream\", 1.99, 1)\n",
    "shopping_cart = ShoppingCartV0([shopping_cart_entry_1, shopping_cart_entry_2])"
   ]
  },
  {
   "cell_type": "code",
   "execution_count": null,
   "id": "d7c41926",
   "metadata": {},
   "outputs": [],
   "source": [
    "def total_price_of_shopping_cart(shopping_cart):\n",
    "    result = 0.0\n",
    "    for entry in shopping_cart.entries:\n",
    "        result += entry.total_price\n",
    "    return result"
   ]
  },
  {
   "cell_type": "code",
   "execution_count": null,
   "id": "08f6581e",
   "metadata": {},
   "outputs": [],
   "source": [
    "total_price_of_shopping_cart(shopping_cart)"
   ]
  },
  {
   "cell_type": "markdown",
   "id": "3b61a55b",
   "metadata": {},
   "source": [
    "\n",
    " ## Mini Workshop\n",
    "\n",
    " - Notebook `062x-Workshop Todo-Liste V1`\n",
    " - Abschnitt \"TODO-Liste Version 1\""
   ]
  },
  {
   "cell_type": "markdown",
   "id": "54f2db21",
   "metadata": {},
   "source": [
    "\n",
    " ### Methoden\n",
    "\n",
    " - Beim `ShoppingCartEntry` haben wir den Gesamtpreis als Attribut gespeichert.\n",
    " - Beim `ShoppingCart` berechnen wir den Gesamtpreis durch eine Top-Level\n",
    "   Funktion, die auf die `entries` zugreift.\n",
    " - Das ist inkonsistent und daher unschön.\n",
    " - Es wäre hilfreich, wenn wir die Funktionen, die zu einer Klasse gehören in\n",
    "   der Klasse definieren könnten:\n",
    " - Wir haben bei der `__init__()` Methode schon eine Funktionsdefinition in den Rumpf einer Klasse geschrieben\n",
    " - Das geht nicht nur für `__init__()` sondern auch für benutzerdefinierte Funktionen\n",
    " - Funktionen, die innerhalb einer Klasse definiert werden heißen *Methoden*\n",
    " - Methoden haben immer mindestens einen Parameter\n",
    "   - per Konvention `self`\n",
    "   - steht für das Objekt in dessen Kontext die Methode aufgerufen wird"
   ]
  },
  {
   "cell_type": "code",
   "execution_count": null,
   "id": "8629cfde",
   "metadata": {},
   "outputs": [],
   "source": [
    "class ShoppingCartV1:\n",
    "    def __init__(self, entries):\n",
    "        self.entries = entries\n",
    "\n",
    "    def get_total_price(self):\n",
    "        result = 0.0\n",
    "        for entry in self.entries:\n",
    "            result += entry.total_price\n",
    "        return result"
   ]
  },
  {
   "cell_type": "code",
   "execution_count": null,
   "id": "9b2297f5",
   "metadata": {},
   "outputs": [],
   "source": [
    "shopping_cart = ShoppingCartV1([shopping_cart_entry_1, shopping_cart_entry_2])"
   ]
  },
  {
   "cell_type": "markdown",
   "id": "d751dea2",
   "metadata": {},
   "source": [
    "\n",
    " - Methoden werden mit der Syntax\n",
    "\n",
    "   ```python\n",
    "   object.method(arg1, arg2, ...)\n",
    "   ```\n",
    "\n",
    "   aufgerufen.\n",
    " - Das Argument des `self`-Parameters ist `object`\n",
    " - `arg1`, `arg2`, ... werden an die folgenden Parameter gebunden."
   ]
  },
  {
   "cell_type": "code",
   "execution_count": null,
   "id": "d1b3b4c0",
   "metadata": {},
   "outputs": [],
   "source": [
    "shopping_cart.get_total_price()"
   ]
  },
  {
   "cell_type": "markdown",
   "id": "452fc160",
   "metadata": {},
   "source": [
    "\n",
    " Eine Methode wird durch die `object.`-Operation an `object` *gebunden*, d.h.,\n",
    " dem `self` Parameter wird bei nachfolgenden Aufrufen `object` als Argument\n",
    " übergebben:"
   ]
  },
  {
   "cell_type": "code",
   "execution_count": null,
   "id": "39389d96",
   "metadata": {},
   "outputs": [],
   "source": [
    "print(shopping_cart.get_total_price())\n",
    "my_method = shopping_cart.get_total_price\n",
    "print(shopping_cart)\n",
    "print(my_method)\n",
    "print(my_method())"
   ]
  },
  {
   "cell_type": "markdown",
   "id": "834d4195",
   "metadata": {},
   "source": [
    "\n",
    " ### Properties\n",
    "\n",
    " In `ShoppingCartV1` ist `get_total_price()` eine Funktion, in\n",
    " `ShoppingCartEntryV1` hatten wir den Gesamtpreis in einem Attribut\n",
    " gespeichert.\n",
    "\n",
    " Das ergibt immer noch ein inkonsistentes Benutzerinterface:"
   ]
  },
  {
   "cell_type": "code",
   "execution_count": null,
   "id": "0a742b7f",
   "metadata": {},
   "outputs": [],
   "source": [
    "print(shopping_cart_entry_1.total_price)\n",
    "print(shopping_cart.get_total_price())"
   ]
  },
  {
   "cell_type": "markdown",
   "id": "7c671306",
   "metadata": {},
   "source": [
    "\n",
    " Eine Möglichkeit das zu vermeiden:\n",
    "\n",
    " - Getter für alle Instanzvariablen (siehe Java)\n",
    " - Viel Boilerplate-Code"
   ]
  },
  {
   "cell_type": "markdown",
   "id": "155337b8",
   "metadata": {},
   "source": [
    "\n",
    " In Python können wir diesen Unterschied durch Definition einer `total_price`\n",
    " Property vermeiden. Eine Property\n",
    "\n",
    " - Ist eine Methode, die wie jede andere Methode evaluiert wird\n",
    " - Sieht syntaktisch wie der Zugriff auf ein Attribut aus\n",
    " - Wird durch den *Decorator* `@property` eingeführt"
   ]
  },
  {
   "cell_type": "code",
   "execution_count": null,
   "id": "ab6624b3",
   "metadata": {},
   "outputs": [],
   "source": [
    "class ShoppingCartV2:\n",
    "    def __init__(self, entries):\n",
    "        self.entries = entries\n",
    "\n",
    "    @property\n",
    "    def total_price(self):\n",
    "        result = 0.0\n",
    "        for entry in self.entries:\n",
    "            result += entry.total_price\n",
    "        return result"
   ]
  },
  {
   "cell_type": "code",
   "execution_count": null,
   "id": "46deadf9",
   "metadata": {},
   "outputs": [],
   "source": [
    "shopping_cart = ShoppingCartV2([shopping_cart_entry_1, shopping_cart_entry_2])\n",
    "print(shopping_cart_entry_1.total_price)\n",
    "print(shopping_cart.total_price)"
   ]
  },
  {
   "cell_type": "markdown",
   "id": "d51cc736",
   "metadata": {},
   "source": [
    "\n",
    " ### Dunder-Methoden\n",
    "\n",
    " Zur Erinnerung:"
   ]
  },
  {
   "cell_type": "code",
   "execution_count": null,
   "id": "e43063d8",
   "metadata": {},
   "outputs": [],
   "source": [
    "print(str(\"Foo\"))"
   ]
  },
  {
   "cell_type": "code",
   "execution_count": null,
   "id": "1362b1bb",
   "metadata": {},
   "outputs": [],
   "source": [
    "print(repr(\"Foo\"))"
   ]
  },
  {
   "cell_type": "code",
   "execution_count": null,
   "id": "f677ea0b",
   "metadata": {},
   "outputs": [],
   "source": [
    "foo = \"Foo\"\n",
    "print(f\"{foo}\")\n",
    "print(f\"{foo!s}\")\n",
    "print(f\"{foo!r}\")"
   ]
  },
  {
   "cell_type": "code",
   "execution_count": null,
   "id": "df1e5fce",
   "metadata": {},
   "outputs": [],
   "source": [
    "print(f\"{shopping_cart}\")\n",
    "print(f\"{shopping_cart!s}\")\n",
    "print(f\"{shopping_cart!r}\")"
   ]
  },
  {
   "cell_type": "code",
   "execution_count": null,
   "id": "039e1f9f",
   "metadata": {},
   "outputs": [],
   "source": [
    "class ShoppingCart:\n",
    "    def __init__(self, entries):\n",
    "        self.entries = entries\n",
    "\n",
    "    @property\n",
    "    def total_price(self):\n",
    "        result = 0.0\n",
    "        for entry in self.entries:\n",
    "            result += entry.total_price\n",
    "        return result\n",
    "\n",
    "    def __repr__(self):\n",
    "        return f\"ShoppingCart({self.entries!r})\"\n",
    "\n",
    "    # See real implementation\n",
    "    def __str__(self):\n",
    "        return f\"Shopping Cart: {', '.join(str(e) for e in self.entries)}\""
   ]
  },
  {
   "cell_type": "code",
   "execution_count": null,
   "id": "fc49de7f",
   "metadata": {},
   "outputs": [],
   "source": [
    "class ShoppingCartEntry:\n",
    "    def __init__(self, article_number, article_name, price_per_item, number_of_items):\n",
    "        self.article_number = article_number\n",
    "        self.article_name = article_name\n",
    "        self.price_per_item = price_per_item\n",
    "        self.number_of_items = number_of_items\n",
    "\n",
    "    @property\n",
    "    def total_price(self):\n",
    "        return self.price_per_item * self.number_of_items\n",
    "\n",
    "    def __repr__(self):\n",
    "        return f\"ShoppingCartEntry({self.article_number!r}, {self.article_name!r}, {self.price_per_item!r}, {self.number_of_items!r})\"\n",
    "\n",
    "    def __str__(self):\n",
    "        return f\"{self.article_name}\""
   ]
  },
  {
   "cell_type": "code",
   "execution_count": null,
   "id": "afafa121",
   "metadata": {},
   "outputs": [],
   "source": [
    "shopping_cart = ShoppingCart(\n",
    "    [\n",
    "        ShoppingCartEntry(\"9343\", \"Strawberries\", 2.99, 2),\n",
    "        ShoppingCartEntry(\"3742\", \"Cream\", 1.99, 1),\n",
    "    ]\n",
    ")"
   ]
  },
  {
   "cell_type": "code",
   "execution_count": null,
   "id": "d8196544",
   "metadata": {},
   "outputs": [],
   "source": [
    "shopping_cart"
   ]
  },
  {
   "cell_type": "code",
   "execution_count": null,
   "id": "1328da7c",
   "metadata": {},
   "outputs": [],
   "source": [
    "print(shopping_cart)"
   ]
  },
  {
   "cell_type": "code",
   "execution_count": null,
   "id": "852cc8ff",
   "metadata": {},
   "outputs": [],
   "source": [
    "print(f\"{shopping_cart}\")\n",
    "print(f\"{shopping_cart!s}\")\n",
    "print(f\"{shopping_cart!r}\")"
   ]
  },
  {
   "cell_type": "markdown",
   "id": "5b7a77a5",
   "metadata": {},
   "source": [
    "\n",
    " Siehe `Examples/ShoppingCart` für Implementierungsvariante."
   ]
  },
  {
   "cell_type": "code",
   "execution_count": null,
   "id": "981cecf5",
   "metadata": {},
   "outputs": [],
   "source": [
    "sce1 = ShoppingCartEntry(\"1\", \"Item 1\", 1.0, 1)\n",
    "sce2 = ShoppingCartEntry(\"1\", \"Item 1\", 1.0, 1)\n",
    "sce1 == sce2"
   ]
  },
  {
   "cell_type": "markdown",
   "id": "aa42bf2d",
   "metadata": {},
   "source": [
    "\n",
    " ## Workshop\n",
    "\n",
    " - Notebook `064x-Workshop Todo-Liste V2`\n",
    " - Abschnitt \"Grundlegende Funktionalität\"\n",
    " - Im Moment ohne die `__iter__()` Methode"
   ]
  }
 ],
 "metadata": {
  "jupytext": {
   "cell_metadata_json": true,
   "encoding": "# -*- coding: utf-8 -*-",
   "formats": "ipynb"
  },
  "kernelspec": {
   "display_name": "Python 3 (ipykernel)",
   "language": "python",
   "name": "python3"
  }
 },
 "nbformat": 4,
 "nbformat_minor": 5
}
