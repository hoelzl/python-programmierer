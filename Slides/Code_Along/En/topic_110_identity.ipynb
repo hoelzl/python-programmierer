{
 "cells": [
  {
   "cell_type": "markdown",
   "id": "3d225861",
   "metadata": {
    "lang": "en",
    "slideshow": {
     "slide_type": "slide"
    }
   },
   "source": [
    "<img src=\"img/python-logo-notext.svg\"\n",
    "     style=\"display:block;margin:auto;width:10%\"/>\n",
    "<br>\n",
    "<div style=\"text-align:center; font-size:200%;\"><b>Object Identity</b></div>\n",
    "<br/>\n",
    "<div style=\"text-align:center;\">Dr. Matthias Hölzl</div>"
   ]
  },
  {
   "cell_type": "markdown",
   "id": "1dfab951",
   "metadata": {
    "lang": "en",
    "slideshow": {
     "slide_type": "slide"
    }
   },
   "source": [
    "## Objects identity"
   ]
  },
  {
   "cell_type": "code",
   "execution_count": null,
   "id": "ebfbca3b",
   "metadata": {},
   "outputs": [],
   "source": [
    "a = [1, 2, 3]\n",
    "b = [1, 2, 3]\n",
    "c = b"
   ]
  },
  {
   "cell_type": "code",
   "execution_count": null,
   "id": "c4b36a38",
   "metadata": {},
   "outputs": [],
   "source": [
    "print(f\"a = {a}, b = {b}, c = {c}\")"
   ]
  },
  {
   "cell_type": "code",
   "execution_count": null,
   "id": "d60093a4",
   "metadata": {},
   "outputs": [],
   "source": [
    "a[0] = 10"
   ]
  },
  {
   "cell_type": "code",
   "execution_count": null,
   "id": "0c542a6c",
   "metadata": {},
   "outputs": [],
   "source": [
    "print(f\"a = {a}, b = {b}, c = {c}\")"
   ]
  },
  {
   "cell_type": "code",
   "execution_count": null,
   "id": "c39eed39",
   "metadata": {},
   "outputs": [],
   "source": [
    "b[0] = 20"
   ]
  },
  {
   "cell_type": "code",
   "execution_count": null,
   "id": "83b03ab1",
   "metadata": {},
   "outputs": [],
   "source": [
    "c[1] = 30"
   ]
  },
  {
   "cell_type": "code",
   "execution_count": null,
   "id": "d346ba6f",
   "metadata": {},
   "outputs": [],
   "source": [
    "print(f\"a = {a}, b = {b}, c = {c}\")"
   ]
  },
  {
   "cell_type": "markdown",
   "id": "df3a08f6",
   "metadata": {
    "slideshow": {
     "slide_type": "subslide"
    }
   },
   "source": [
    "\n",
    " <img src=\"img/identity.svg\" style=\"display:block;width:70%;margin:auto;\"/>"
   ]
  },
  {
   "cell_type": "markdown",
   "id": "89b41b40",
   "metadata": {
    "lang": "en",
    "slideshow": {
     "slide_type": "slide"
    }
   },
   "source": [
    "## Testing object identity"
   ]
  },
  {
   "cell_type": "code",
   "execution_count": null,
   "id": "c01431d6",
   "metadata": {},
   "outputs": [],
   "source": [
    "a = [1, 2, 3]\n",
    "b = a\n",
    "c = [1, 2, 3]\n",
    "d = c[:]"
   ]
  },
  {
   "cell_type": "markdown",
   "id": "4dce0334",
   "metadata": {
    "lang": "en"
   },
   "source": [
    "`==` tests equality of values, not (necessarily) object identity."
   ]
  },
  {
   "cell_type": "code",
   "execution_count": null,
   "id": "4c16e22e",
   "metadata": {},
   "outputs": [],
   "source": [
    "a == b"
   ]
  },
  {
   "cell_type": "code",
   "execution_count": null,
   "id": "e1b37849",
   "metadata": {},
   "outputs": [],
   "source": [
    "b == c"
   ]
  },
  {
   "cell_type": "code",
   "execution_count": null,
   "id": "bba9136c",
   "metadata": {},
   "outputs": [],
   "source": [
    "c == d"
   ]
  },
  {
   "cell_type": "markdown",
   "id": "2caf1835",
   "metadata": {
    "lang": "en",
    "slideshow": {
     "slide_type": "subslide"
    }
   },
   "source": [
    "You can use `is` to test object identity:"
   ]
  },
  {
   "cell_type": "code",
   "execution_count": null,
   "id": "35ab500e",
   "metadata": {},
   "outputs": [],
   "source": [
    "a = [1, 2, 3]\n",
    "b = a\n",
    "c = [1, 2, 3]\n",
    "d = c[:]\n",
    "e = c.copy()"
   ]
  },
  {
   "cell_type": "code",
   "execution_count": null,
   "id": "ad0e3e2f",
   "metadata": {},
   "outputs": [],
   "source": [
    "a is b"
   ]
  },
  {
   "cell_type": "code",
   "execution_count": null,
   "id": "2cd0837d",
   "metadata": {},
   "outputs": [],
   "source": [
    "b is c"
   ]
  },
  {
   "cell_type": "code",
   "execution_count": null,
   "id": "c6d8287e",
   "metadata": {},
   "outputs": [],
   "source": [
    "c is d"
   ]
  },
  {
   "cell_type": "code",
   "execution_count": null,
   "id": "00c18f06",
   "metadata": {},
   "outputs": [],
   "source": [
    "c is e"
   ]
  },
  {
   "cell_type": "code",
   "execution_count": null,
   "id": "33d3ee51",
   "metadata": {},
   "outputs": [],
   "source": [
    "c[0] = 2"
   ]
  },
  {
   "cell_type": "code",
   "execution_count": null,
   "id": "94fba302",
   "metadata": {},
   "outputs": [],
   "source": [
    "d"
   ]
  },
  {
   "cell_type": "code",
   "execution_count": null,
   "id": "159253d7",
   "metadata": {},
   "outputs": [],
   "source": [
    "e"
   ]
  },
  {
   "cell_type": "markdown",
   "id": "4c341554",
   "metadata": {
    "lang": "en",
    "slideshow": {
     "slide_type": "subslide"
    }
   },
   "source": [
    "The `id()` function returns the address of an object:"
   ]
  },
  {
   "cell_type": "code",
   "execution_count": null,
   "id": "d9d9801c",
   "metadata": {},
   "outputs": [],
   "source": [
    "id([1, 2, 3])"
   ]
  },
  {
   "cell_type": "markdown",
   "id": "4c4b101e",
   "metadata": {
    "lang": "en"
   },
   "source": [
    "Addresses are usually represented in hexadecimal form:"
   ]
  },
  {
   "cell_type": "code",
   "execution_count": null,
   "id": "cddf1460",
   "metadata": {},
   "outputs": [],
   "source": [
    "hex(id([1, 2, 3]))"
   ]
  },
  {
   "cell_type": "markdown",
   "id": "26f38f92",
   "metadata": {
    "lang": "en",
    "slideshow": {
     "slide_type": "subslide"
    }
   },
   "source": [
    "*Only as an aside:* Does `x is y` always apply to numbers with `x == y`?"
   ]
  },
  {
   "cell_type": "code",
   "execution_count": null,
   "id": "d7f7b3ae",
   "metadata": {},
   "outputs": [],
   "source": [
    "x = 1\n",
    "y = 1\n",
    "z = 1.0\n",
    "print(x == y)\n",
    "print(x is y)\n",
    "print(x == z)\n",
    "print(x is z)"
   ]
  },
  {
   "cell_type": "code",
   "execution_count": null,
   "id": "9ed4bdf7",
   "metadata": {},
   "outputs": [],
   "source": [
    "x = 2560\n",
    "y = 2560\n",
    "print(x == y)\n",
    "print(x is y)"
   ]
  },
  {
   "cell_type": "code",
   "execution_count": null,
   "id": "a3cb830c",
   "metadata": {},
   "outputs": [],
   "source": [
    "import ctypes\n",
    "\n",
    "x_refcount = ctypes.c_long.from_address(id(x)).value\n",
    "x_int_value = ctypes.c_long.from_address(id(x) + 24).value"
   ]
  },
  {
   "cell_type": "code",
   "execution_count": null,
   "id": "56410110",
   "metadata": {},
   "outputs": [],
   "source": [
    "print(hex(id(x)))\n",
    "print(x_refcount)\n",
    "print(x_int_value)"
   ]
  },
  {
   "cell_type": "code",
   "execution_count": null,
   "id": "89671fd5",
   "metadata": {},
   "outputs": [],
   "source": [
    "print(hex(id(x)))\n",
    "print(x_refcount)\n",
    "print(x_int_value)"
   ]
  },
  {
   "cell_type": "markdown",
   "id": "4ab532e0",
   "metadata": {
    "lang": "en",
    "slideshow": {
     "slide_type": "slide"
    }
   },
   "source": [
    "## Be careful with mutable default arguments!"
   ]
  },
  {
   "cell_type": "code",
   "execution_count": null,
   "id": "f7f1baf4",
   "metadata": {},
   "outputs": [],
   "source": [
    "def f(lst=[]):\n",
    "    lst.append(1)\n",
    "    return lst"
   ]
  },
  {
   "cell_type": "code",
   "execution_count": null,
   "id": "47871120",
   "metadata": {},
   "outputs": [],
   "source": [
    "f([1, 2, 3])"
   ]
  },
  {
   "cell_type": "code",
   "execution_count": null,
   "id": "00720211",
   "metadata": {},
   "outputs": [],
   "source": [
    "f()"
   ]
  },
  {
   "cell_type": "code",
   "execution_count": null,
   "id": "75316f4d",
   "metadata": {},
   "outputs": [],
   "source": [
    "f()"
   ]
  },
  {
   "cell_type": "code",
   "execution_count": null,
   "id": "3e338bdf",
   "metadata": {},
   "outputs": [],
   "source": [
    "f()"
   ]
  },
  {
   "cell_type": "code",
   "execution_count": null,
   "id": "4bb16a48",
   "metadata": {
    "slideshow": {
     "slide_type": "subslide"
    }
   },
   "outputs": [],
   "source": [
    "def f(lst=None):\n",
    "    if lst is None:\n",
    "        lst = []\n",
    "    lst.append(1)\n",
    "    return lst"
   ]
  },
  {
   "cell_type": "code",
   "execution_count": null,
   "id": "6f27ae96",
   "metadata": {},
   "outputs": [],
   "source": [
    "f()"
   ]
  },
  {
   "cell_type": "code",
   "execution_count": null,
   "id": "0fcfde09",
   "metadata": {},
   "outputs": [],
   "source": [
    "f()"
   ]
  },
  {
   "cell_type": "code",
   "execution_count": null,
   "id": "1131789e",
   "metadata": {},
   "outputs": [],
   "source": [
    "f()"
   ]
  },
  {
   "cell_type": "code",
   "execution_count": null,
   "id": "9e33e625",
   "metadata": {},
   "outputs": [],
   "source": [
    "def f(lst=[]):\n",
    "    return lst"
   ]
  },
  {
   "cell_type": "code",
   "execution_count": null,
   "id": "8c1f397d",
   "metadata": {},
   "outputs": [],
   "source": [
    "x = f()"
   ]
  },
  {
   "cell_type": "code",
   "execution_count": null,
   "id": "1486d690",
   "metadata": {},
   "outputs": [],
   "source": [
    "x.append(2)"
   ]
  },
  {
   "cell_type": "code",
   "execution_count": null,
   "id": "cc0bc436",
   "metadata": {},
   "outputs": [],
   "source": [
    "f()"
   ]
  },
  {
   "cell_type": "code",
   "execution_count": null,
   "id": "8caffe91",
   "metadata": {},
   "outputs": [],
   "source": [
    "a = [1, 2, 3]\n",
    "b = a[1:2]\n",
    "b[0] = \"a\"\n",
    "print(a, b)"
   ]
  },
  {
   "cell_type": "code",
   "execution_count": null,
   "id": "c2a2ae21",
   "metadata": {},
   "outputs": [],
   "source": [
    "import numpy as np\n",
    "\n",
    "a = np.array([1, 2, 3])\n",
    "b = a[1:2]\n",
    "b[0] = 4\n",
    "print(a, b)"
   ]
  },
  {
   "cell_type": "code",
   "execution_count": null,
   "id": "938150b2",
   "metadata": {},
   "outputs": [],
   "source": []
  }
 ],
 "metadata": {
  "jupytext": {
   "cell_metadata_json": true,
   "encoding": "# -*- coding: utf-8 -*-",
   "formats": "ipynb"
  },
  "kernelspec": {
   "display_name": "Python 3 (ipykernel)",
   "language": "python",
   "name": "python3"
  }
 },
 "nbformat": 4,
 "nbformat_minor": 5
}
