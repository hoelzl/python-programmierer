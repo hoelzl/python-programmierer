{
 "cells": [
  {
   "cell_type": "markdown",
   "id": "64075236",
   "metadata": {
    "lang": "en",
    "slideshow": {
     "slide_type": "slide"
    }
   },
   "source": [
    "<img src=\"img/python-logo-notext.svg\"\n",
    "     style=\"display:block;margin:auto;width:10%\"/>\n",
    "<br>\n",
    "<div style=\"text-align:center; font-size:200%;\"><b>Object Identity</b></div>\n",
    "<br/>\n",
    "<div style=\"text-align:center;\">Dr. Matthias Hölzl</div>"
   ]
  },
  {
   "cell_type": "markdown",
   "id": "cd8b1405",
   "metadata": {
    "lang": "en",
    "slideshow": {
     "slide_type": "slide"
    }
   },
   "source": [
    "## Objects identity"
   ]
  },
  {
   "cell_type": "code",
   "execution_count": null,
   "id": "2a35fbb9",
   "metadata": {},
   "outputs": [],
   "source": [
    "a = [1, 2, 3]\n",
    "b = [1, 2, 3]\n",
    "c = b"
   ]
  },
  {
   "cell_type": "code",
   "execution_count": null,
   "id": "7c9d9b65",
   "metadata": {},
   "outputs": [],
   "source": [
    "print(f\"a = {a}, b = {b}, c = {c}\")"
   ]
  },
  {
   "cell_type": "code",
   "execution_count": null,
   "id": "908b073e",
   "metadata": {},
   "outputs": [],
   "source": [
    "a[0] = 10"
   ]
  },
  {
   "cell_type": "code",
   "execution_count": null,
   "id": "40e5accc",
   "metadata": {},
   "outputs": [],
   "source": [
    "print(f\"a = {a}, b = {b}, c = {c}\")"
   ]
  },
  {
   "cell_type": "code",
   "execution_count": null,
   "id": "a2e53930",
   "metadata": {},
   "outputs": [],
   "source": [
    "b[0] = 20"
   ]
  },
  {
   "cell_type": "code",
   "execution_count": null,
   "id": "8b669f53",
   "metadata": {},
   "outputs": [],
   "source": [
    "c[1] = 30"
   ]
  },
  {
   "cell_type": "code",
   "execution_count": null,
   "id": "eb038786",
   "metadata": {},
   "outputs": [],
   "source": [
    "print(f\"a = {a}, b = {b}, c = {c}\")"
   ]
  },
  {
   "cell_type": "markdown",
   "id": "2623249b",
   "metadata": {
    "slideshow": {
     "slide_type": "subslide"
    }
   },
   "source": [
    "\n",
    " <img src=\"img/identity.svg\" style=\"display:block;width:70%;margin:auto;\"/>"
   ]
  },
  {
   "cell_type": "markdown",
   "id": "7779c13d",
   "metadata": {
    "lang": "en",
    "slideshow": {
     "slide_type": "slide"
    }
   },
   "source": [
    "## Testing object identity"
   ]
  },
  {
   "cell_type": "code",
   "execution_count": null,
   "id": "1fd90228",
   "metadata": {},
   "outputs": [],
   "source": [
    "a = [1, 2, 3]\n",
    "b = a\n",
    "c = [1, 2, 3]\n",
    "d = c[:]"
   ]
  },
  {
   "cell_type": "markdown",
   "id": "e044d214",
   "metadata": {
    "lang": "en"
   },
   "source": [
    "`==` tests equality of values, not (necessarily) object identity."
   ]
  },
  {
   "cell_type": "code",
   "execution_count": null,
   "id": "4d4d241f",
   "metadata": {},
   "outputs": [],
   "source": [
    "a == b"
   ]
  },
  {
   "cell_type": "code",
   "execution_count": null,
   "id": "a7a971a9",
   "metadata": {},
   "outputs": [],
   "source": [
    "b == c"
   ]
  },
  {
   "cell_type": "code",
   "execution_count": null,
   "id": "9cf018f3",
   "metadata": {},
   "outputs": [],
   "source": [
    "c == d"
   ]
  },
  {
   "cell_type": "markdown",
   "id": "28bed7aa",
   "metadata": {
    "lang": "en",
    "slideshow": {
     "slide_type": "subslide"
    }
   },
   "source": [
    "You can use `is` to test object identity:"
   ]
  },
  {
   "cell_type": "code",
   "execution_count": null,
   "id": "328c3cdc",
   "metadata": {},
   "outputs": [],
   "source": [
    "a = [1, 2, 3]\n",
    "b = a\n",
    "c = [1, 2, 3]\n",
    "d = c[:]\n",
    "e = c.copy()"
   ]
  },
  {
   "cell_type": "code",
   "execution_count": null,
   "id": "a16d1755",
   "metadata": {},
   "outputs": [],
   "source": [
    "a is b"
   ]
  },
  {
   "cell_type": "code",
   "execution_count": null,
   "id": "9cb009a1",
   "metadata": {},
   "outputs": [],
   "source": [
    "b is c"
   ]
  },
  {
   "cell_type": "code",
   "execution_count": null,
   "id": "1681d480",
   "metadata": {},
   "outputs": [],
   "source": [
    "c is d"
   ]
  },
  {
   "cell_type": "code",
   "execution_count": null,
   "id": "857dc1f6",
   "metadata": {},
   "outputs": [],
   "source": [
    "c is e"
   ]
  },
  {
   "cell_type": "code",
   "execution_count": null,
   "id": "caf71390",
   "metadata": {},
   "outputs": [],
   "source": [
    "c[0] = 2"
   ]
  },
  {
   "cell_type": "code",
   "execution_count": null,
   "id": "7b05b573",
   "metadata": {},
   "outputs": [],
   "source": [
    "d"
   ]
  },
  {
   "cell_type": "code",
   "execution_count": null,
   "id": "b2755227",
   "metadata": {},
   "outputs": [],
   "source": [
    "e"
   ]
  },
  {
   "cell_type": "markdown",
   "id": "ad0d9ce5",
   "metadata": {
    "lang": "en",
    "slideshow": {
     "slide_type": "subslide"
    }
   },
   "source": [
    "The `id()` function returns the address of an object:"
   ]
  },
  {
   "cell_type": "code",
   "execution_count": null,
   "id": "cc19e2c8",
   "metadata": {},
   "outputs": [],
   "source": [
    "id([1, 2, 3])"
   ]
  },
  {
   "cell_type": "markdown",
   "id": "7984bd74",
   "metadata": {
    "lang": "en"
   },
   "source": [
    "Addresses are usually represented in hexadecimal form:"
   ]
  },
  {
   "cell_type": "code",
   "execution_count": null,
   "id": "738b0109",
   "metadata": {},
   "outputs": [],
   "source": [
    "hex(id([1, 2, 3]))"
   ]
  },
  {
   "cell_type": "markdown",
   "id": "d0750537",
   "metadata": {
    "lang": "en",
    "slideshow": {
     "slide_type": "subslide"
    }
   },
   "source": [
    "*Only as an aside:* Does `x is y` always apply to numbers with `x == y`?"
   ]
  },
  {
   "cell_type": "code",
   "execution_count": null,
   "id": "141b685c",
   "metadata": {},
   "outputs": [],
   "source": [
    "x = 1\n",
    "y = 1\n",
    "z = 1.0\n",
    "print(x == y)\n",
    "print(x is y)\n",
    "print(x == z)\n",
    "print(x is z)"
   ]
  },
  {
   "cell_type": "code",
   "execution_count": null,
   "id": "66957cea",
   "metadata": {},
   "outputs": [],
   "source": [
    "x = 2560\n",
    "y = 2560\n",
    "print(x == y)\n",
    "print(x is y)"
   ]
  },
  {
   "cell_type": "code",
   "execution_count": null,
   "id": "817b26c4",
   "metadata": {},
   "outputs": [],
   "source": [
    "import ctypes\n",
    "\n",
    "x_refcount = ctypes.c_long.from_address(id(x)).value\n",
    "x_int_value = ctypes.c_long.from_address(id(x) + 24).value"
   ]
  },
  {
   "cell_type": "code",
   "execution_count": null,
   "id": "5dbd2b7b",
   "metadata": {},
   "outputs": [],
   "source": [
    "print(hex(id(x)))\n",
    "print(x_refcount)\n",
    "print(x_int_value)"
   ]
  },
  {
   "cell_type": "code",
   "execution_count": null,
   "id": "c3bb4c3d",
   "metadata": {},
   "outputs": [],
   "source": [
    "print(hex(id(x)))\n",
    "print(x_refcount)\n",
    "print(x_int_value)"
   ]
  },
  {
   "cell_type": "markdown",
   "id": "4f067fbf",
   "metadata": {
    "lang": "en",
    "slideshow": {
     "slide_type": "slide"
    }
   },
   "source": [
    "## Be careful with mutable default arguments!"
   ]
  },
  {
   "cell_type": "code",
   "execution_count": null,
   "id": "77ce4410",
   "metadata": {},
   "outputs": [],
   "source": [
    "def f(lst=[]):\n",
    "    lst.append(1)\n",
    "    return lst"
   ]
  },
  {
   "cell_type": "code",
   "execution_count": null,
   "id": "580f0343",
   "metadata": {},
   "outputs": [],
   "source": [
    "f([1, 2, 3])"
   ]
  },
  {
   "cell_type": "code",
   "execution_count": null,
   "id": "8ae7511c",
   "metadata": {},
   "outputs": [],
   "source": [
    "f()"
   ]
  },
  {
   "cell_type": "code",
   "execution_count": null,
   "id": "836624dd",
   "metadata": {},
   "outputs": [],
   "source": [
    "f()"
   ]
  },
  {
   "cell_type": "code",
   "execution_count": null,
   "id": "3ed4ee5c",
   "metadata": {},
   "outputs": [],
   "source": [
    "f()"
   ]
  },
  {
   "cell_type": "code",
   "execution_count": null,
   "id": "8809f6f2",
   "metadata": {
    "slideshow": {
     "slide_type": "subslide"
    }
   },
   "outputs": [],
   "source": [
    "def f(lst=None):\n",
    "    if lst is None:\n",
    "        lst = []\n",
    "    lst.append(1)\n",
    "    return lst"
   ]
  },
  {
   "cell_type": "code",
   "execution_count": null,
   "id": "30cbb970",
   "metadata": {},
   "outputs": [],
   "source": [
    "f()"
   ]
  },
  {
   "cell_type": "code",
   "execution_count": null,
   "id": "643733fb",
   "metadata": {},
   "outputs": [],
   "source": [
    "f()"
   ]
  },
  {
   "cell_type": "code",
   "execution_count": null,
   "id": "7b1567e5",
   "metadata": {},
   "outputs": [],
   "source": [
    "f()"
   ]
  },
  {
   "cell_type": "code",
   "execution_count": null,
   "id": "4448f288",
   "metadata": {},
   "outputs": [],
   "source": [
    "def f(lst=[]):\n",
    "    return lst"
   ]
  },
  {
   "cell_type": "code",
   "execution_count": null,
   "id": "4c04a782",
   "metadata": {},
   "outputs": [],
   "source": [
    "x = f()"
   ]
  },
  {
   "cell_type": "code",
   "execution_count": null,
   "id": "963ce871",
   "metadata": {},
   "outputs": [],
   "source": [
    "x.append(2)"
   ]
  },
  {
   "cell_type": "code",
   "execution_count": null,
   "id": "9b2c610d",
   "metadata": {},
   "outputs": [],
   "source": [
    "f()"
   ]
  },
  {
   "cell_type": "code",
   "execution_count": null,
   "id": "5f4a2c13",
   "metadata": {},
   "outputs": [],
   "source": [
    "a = [1, 2, 3]\n",
    "b = a[1:2]\n",
    "b[0] = \"a\"\n",
    "print(a, b)"
   ]
  },
  {
   "cell_type": "code",
   "execution_count": null,
   "id": "20e7c998",
   "metadata": {},
   "outputs": [],
   "source": [
    "import numpy as np\n",
    "\n",
    "a = np.array([1, 2, 3])\n",
    "b = a[1:2]\n",
    "b[0] = 4\n",
    "print(a, b)"
   ]
  },
  {
   "cell_type": "code",
   "execution_count": null,
   "id": "dc8b3203",
   "metadata": {},
   "outputs": [],
   "source": []
  }
 ],
 "metadata": {
  "jupytext": {
   "cell_metadata_json": true,
   "encoding": "# -*- coding: utf-8 -*-",
   "formats": "ipynb"
  },
  "kernelspec": {
   "display_name": "Python 3 (ipykernel)",
   "language": "python",
   "name": "python3"
  }
 },
 "nbformat": 4,
 "nbformat_minor": 5
}
