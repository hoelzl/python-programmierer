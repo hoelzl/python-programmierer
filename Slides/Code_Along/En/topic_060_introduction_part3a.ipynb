{
 "cells": [
  {
   "cell_type": "markdown",
   "id": "c0875966",
   "metadata": {
    "lang": "en",
    "lines_to_next_cell": 2,
    "slideshow": {
     "slide_type": "slide"
    }
   },
   "source": [
    "<img src=\"img/python-logo-notext.svg\"\n",
    "     style=\"display:block;margin:auto;width:10%\"/>\n",
    "<br>\n",
    "<div style=\"text-align:center; font-size:200%;\"><b>Introduction to Python: Part 2</b></div>\n",
    "<br/>\n",
    "<div style=\"text-align:center;\">Dr. Matthias Hölzl</div>"
   ]
  },
  {
   "cell_type": "markdown",
   "id": "d9960a2a",
   "metadata": {
    "lang": "en",
    "slideshow": {
     "slide_type": "slide"
    }
   },
   "source": [
    "# Conversion to strings\n",
    "\n",
    "Python offers two functions that can be used to convert any value into a string:\n",
    "\n",
    "- `repr` for a \"program-like\" representation (how the value could be generated in the program)\n",
    "- `str` for \"user-friendly\" rendering"
   ]
  },
  {
   "cell_type": "code",
   "execution_count": null,
   "id": "b00187a8",
   "metadata": {
    "tags": [
     "code-along"
    ]
   },
   "outputs": [],
   "source": []
  },
  {
   "cell_type": "code",
   "execution_count": null,
   "id": "654e625c",
   "metadata": {
    "tags": [
     "code-along"
    ]
   },
   "outputs": [],
   "source": []
  },
  {
   "cell_type": "markdown",
   "id": "af7d0958",
   "metadata": {
    "lang": "en",
    "slideshow": {
     "slide_type": "subslide"
    }
   },
   "source": [
    "For some data types, `str` and `repr` return the same string:"
   ]
  },
  {
   "cell_type": "code",
   "execution_count": null,
   "id": "e592cfd4",
   "metadata": {
    "tags": [
     "code-along"
    ]
   },
   "outputs": [],
   "source": []
  },
  {
   "cell_type": "markdown",
   "id": "4b7df0fa",
   "metadata": {
    "lang": "en",
    "slideshow": {
     "slide_type": "slide"
    }
   },
   "source": [
    "# Custom data types\n",
    "\n",
    "In Python, user-defined data types (classes) can be defined:"
   ]
  },
  {
   "cell_type": "code",
   "execution_count": null,
   "id": "c5f29ec1",
   "metadata": {
    "tags": [
     "code-along"
    ]
   },
   "outputs": [],
   "source": []
  },
  {
   "cell_type": "markdown",
   "id": "615db9ad",
   "metadata": {
    "lang": "en"
   },
   "source": [
    "Class names are in pascal case (i.e. capital letters seperate components of names), e.g. `MyVerySpecialClass`."
   ]
  },
  {
   "cell_type": "markdown",
   "id": "5edd9c42",
   "metadata": {
    "lang": "en",
    "slideshow": {
     "slide_type": "subslide"
    }
   },
   "source": [
    "Instances of custom classes are created by calling the class name as a function. Some of the build-in operators and\n",
    "Functions can be used without extra effort:"
   ]
  },
  {
   "cell_type": "code",
   "execution_count": null,
   "id": "4621574d",
   "metadata": {
    "slideshow": {
     "slide_type": "subslide"
    },
    "tags": [
     "code-along"
    ]
   },
   "outputs": [],
   "source": []
  },
  {
   "cell_type": "code",
   "execution_count": null,
   "id": "56ce4476",
   "metadata": {
    "tags": [
     "code-along"
    ]
   },
   "outputs": [],
   "source": []
  },
  {
   "cell_type": "code",
   "execution_count": null,
   "id": "75f44a45",
   "metadata": {
    "tags": [
     "code-along"
    ]
   },
   "outputs": [],
   "source": []
  },
  {
   "cell_type": "code",
   "execution_count": null,
   "id": "1fd5a641",
   "metadata": {
    "tags": [
     "code-along"
    ]
   },
   "outputs": [],
   "source": []
  },
  {
   "cell_type": "markdown",
   "id": "851f7bf6",
   "metadata": {
    "lang": "en"
   },
   "source": [
    "Much like dictionaries can be assigned new entries, one can\n",
    "assign new *attributes* to user-defined data types, but the `.` notation is used instead of the indexing notation `[]`:"
   ]
  },
  {
   "cell_type": "code",
   "execution_count": null,
   "id": "e347b567",
   "metadata": {
    "tags": [
     "code-along"
    ]
   },
   "outputs": [],
   "source": []
  },
  {
   "cell_type": "code",
   "execution_count": null,
   "id": "19946ad3",
   "metadata": {
    "tags": [
     "code-along"
    ]
   },
   "outputs": [],
   "source": []
  },
  {
   "cell_type": "markdown",
   "id": "e8946992",
   "metadata": {
    "lang": "en",
    "slideshow": {
     "slide_type": "subslide"
    }
   },
   "source": [
    "Unlike dictionaries, we typically *do not* create any *new* attributes for an instance after creation!\n",
    "\n",
    "Instead, all instances should have the same shape. We initialize all attributes of an object when it is constructed. This can be done with the `__init__()` method.\n",
    "\n",
    "The `__init__()` method always has (at least) one parameter, named `self` by convention:"
   ]
  },
  {
   "cell_type": "code",
   "execution_count": null,
   "id": "6feea7b8",
   "metadata": {
    "slideshow": {
     "slide_type": "subslide"
    },
    "tags": [
     "code-along"
    ]
   },
   "outputs": [],
   "source": []
  },
  {
   "cell_type": "code",
   "execution_count": null,
   "id": "db747d7c",
   "metadata": {
    "tags": [
     "code-along"
    ]
   },
   "outputs": [],
   "source": []
  },
  {
   "cell_type": "code",
   "execution_count": null,
   "id": "ca3de215",
   "metadata": {
    "tags": [
     "code-along"
    ]
   },
   "outputs": [],
   "source": []
  },
  {
   "cell_type": "code",
   "execution_count": null,
   "id": "7a0e6a33",
   "metadata": {
    "tags": [
     "code-along"
    ]
   },
   "outputs": [],
   "source": []
  },
  {
   "cell_type": "markdown",
   "id": "72953446",
   "metadata": {
    "lang": "en",
    "slideshow": {
     "slide_type": "subslide"
    }
   },
   "source": [
    "The values ​​of attributes can be changed:"
   ]
  },
  {
   "cell_type": "code",
   "execution_count": null,
   "id": "c227681b",
   "metadata": {
    "tags": [
     "code-along"
    ]
   },
   "outputs": [],
   "source": []
  },
  {
   "cell_type": "markdown",
   "id": "d38eb620",
   "metadata": {
    "lang": "en",
    "slideshow": {
     "slide_type": "subslide"
    }
   },
   "source": [
    "In many cases, when constructing an object, we would like to specify the attributes of the instance.\n",
    "This is made possible by passing additional arguments to the `__init__()` method."
   ]
  },
  {
   "cell_type": "code",
   "execution_count": null,
   "id": "81632fd2",
   "metadata": {
    "slideshow": {
     "slide_type": "subslide"
    },
    "tags": [
     "code-along"
    ]
   },
   "outputs": [],
   "source": []
  },
  {
   "cell_type": "code",
   "execution_count": null,
   "id": "73072e8a",
   "metadata": {
    "lines_to_next_cell": 2,
    "tags": [
     "code-along"
    ]
   },
   "outputs": [],
   "source": []
  },
  {
   "cell_type": "markdown",
   "id": "60ae5912",
   "metadata": {
    "lang": "en",
    "slideshow": {
     "slide_type": "subslide"
    }
   },
   "source": [
    "## Mini workshop\n",
    "\n",
    "- Notebook `workshop_062_objects`\n",
    "- Section \"Motor Vehicles (Part 1)\""
   ]
  },
  {
   "cell_type": "markdown",
   "id": "9ea8376e",
   "metadata": {
    "lang": "en",
    "slideshow": {
     "slide_type": "subslide"
    }
   },
   "source": [
    "## Methods\n",
    "\n",
    "Classes can contain methods. Methods are functions that \"belong to an object\".\n",
    "We will see capabilities of methods that go beyond those of functions in the\n",
    "section on inheritance.\n",
    "\n",
    "Methods are called using \"dot-notation\": `my_object.method()`.\n",
    "\n",
    "Syntactically a method definion looks like a function definition, but nested\n",
    "inside the body of a class definition.\n",
    "\n",
    "Unlike many other languages, Python doesn't have an implicit `this` parameter\n",
    "when defining a method; the object on which the method is called must be\n",
    "specified as the first parameter of the definition. By convention, this\n",
    "parameter is named `self`, as in the `__init__()` method.\n",
    "\n",
    "The definition of a method that can be called with `my_object.method()` is thus\n",
    "as follows:"
   ]
  },
  {
   "cell_type": "code",
   "execution_count": null,
   "id": "edf92e73",
   "metadata": {
    "slideshow": {
     "slide_type": "subslide"
    }
   },
   "outputs": [],
   "source": [
    "class MyClass:\n",
    "    def method(self):\n",
    "        print(F\"Called method on {self}\")"
   ]
  },
  {
   "cell_type": "code",
   "execution_count": null,
   "id": "8525a070",
   "metadata": {},
   "outputs": [],
   "source": [
    "my_object = MyClass()\n",
    "my_object.method()"
   ]
  },
  {
   "cell_type": "markdown",
   "id": "f291e526",
   "metadata": {
    "lang": "en",
    "slideshow": {
     "slide_type": "subslide"
    }
   },
   "source": [
    "We can add a method to move a point to our `Point` class:"
   ]
  },
  {
   "cell_type": "code",
   "execution_count": null,
   "id": "f682f414",
   "metadata": {
    "slideshow": {
     "slide_type": "-"
    },
    "tags": [
     "code-along"
    ]
   },
   "outputs": [],
   "source": []
  },
  {
   "cell_type": "code",
   "execution_count": null,
   "id": "7f3630b8",
   "metadata": {
    "slideshow": {
     "slide_type": "subslide"
    },
    "tags": [
     "code-along"
    ]
   },
   "outputs": [],
   "source": []
  },
  {
   "cell_type": "code",
   "execution_count": null,
   "id": "d7ed478d",
   "metadata": {
    "tags": [
     "code-along"
    ]
   },
   "outputs": [],
   "source": []
  },
  {
   "cell_type": "markdown",
   "id": "79a07190",
   "metadata": {
    "lang": "en",
    "slideshow": {
     "slide_type": "subslide"
    }
   },
   "source": [
    "## Mini workshop\n",
    "\n",
    "- Notebook `workshop_062_objects`\n",
    "- Section \"Motor Vehicles (Part 2)\""
   ]
  },
  {
   "cell_type": "markdown",
   "id": "704c8bb9",
   "metadata": {
    "lang": "en",
    "slideshow": {
     "slide_type": "slide"
    }
   },
   "source": [
    "## The Python object model\n",
    "\n",
    "Dunder methods can be used to make user-defined data types act more like the built-in ones:"
   ]
  },
  {
   "cell_type": "code",
   "execution_count": null,
   "id": "59700296",
   "metadata": {
    "tags": [
     "code-along"
    ]
   },
   "outputs": [],
   "source": []
  },
  {
   "cell_type": "markdown",
   "id": "0f9652c6",
   "metadata": {
    "lang": "en"
   },
   "source": [
    "By defining the method `__repr__(self)`, the string returned by `repr` can be defined for custom classes: The\n",
    "call `repr(x)` checks if `x` has a method `__repr__` and calls it if it exists."
   ]
  },
  {
   "cell_type": "code",
   "execution_count": null,
   "id": "f5c5e8a3",
   "metadata": {
    "slideshow": {
     "slide_type": "subslide"
    },
    "tags": [
     "code-along"
    ]
   },
   "outputs": [],
   "source": []
  },
  {
   "cell_type": "code",
   "execution_count": null,
   "id": "d6f4995e",
   "metadata": {
    "slideshow": {
     "slide_type": "subslide"
    },
    "tags": [
     "code-along"
    ]
   },
   "outputs": [],
   "source": []
  },
  {
   "cell_type": "markdown",
   "id": "04a92f29",
   "metadata": {
    "lang": "en",
    "slideshow": {
     "slide_type": "subslide"
    }
   },
   "source": [
    "\n",
    "Similarly, if a `__str__()` method is defined it will be used by the `str()`\n",
    "function. However, the function `str()` delegates to `__repr__()` if no\n",
    "`__str__` method is defined:"
   ]
  },
  {
   "cell_type": "code",
   "execution_count": null,
   "id": "1968666d",
   "metadata": {
    "tags": [
     "code-along"
    ]
   },
   "outputs": [],
   "source": []
  },
  {
   "cell_type": "code",
   "execution_count": null,
   "id": "ebb6d5de",
   "metadata": {
    "tags": [
     "code-along"
    ]
   },
   "outputs": [],
   "source": []
  },
  {
   "cell_type": "markdown",
   "id": "04009b79",
   "metadata": {
    "lang": "en",
    "slideshow": {
     "slide_type": "subslide"
    }
   },
   "source": [
    "Python offers many dunder methods: see the documentation of the\n",
    "[Python data model](https://docs.python.org/3/reference/datamodel.html)."
   ]
  },
  {
   "cell_type": "code",
   "execution_count": null,
   "id": "3c4195e7",
   "metadata": {
    "slideshow": {
     "slide_type": "subslide"
    },
    "tags": [
     "code-along"
    ]
   },
   "outputs": [],
   "source": []
  },
  {
   "cell_type": "code",
   "execution_count": null,
   "id": "61207102",
   "metadata": {
    "slideshow": {
     "slide_type": "subslide"
    },
    "tags": [
     "code-along"
    ]
   },
   "outputs": [],
   "source": []
  },
  {
   "cell_type": "code",
   "execution_count": null,
   "id": "be87e05b",
   "metadata": {
    "tags": [
     "code-along"
    ]
   },
   "outputs": [],
   "source": []
  },
  {
   "cell_type": "code",
   "execution_count": null,
   "id": "b63a8435",
   "metadata": {
    "tags": [
     "code-along"
    ]
   },
   "outputs": [],
   "source": []
  },
  {
   "cell_type": "code",
   "execution_count": null,
   "id": "7906888c",
   "metadata": {
    "slideshow": {
     "slide_type": "subslide"
    },
    "tags": [
     "code-along"
    ]
   },
   "outputs": [],
   "source": []
  },
  {
   "cell_type": "code",
   "execution_count": null,
   "id": "152be3ff",
   "metadata": {
    "tags": [
     "code-along"
    ]
   },
   "outputs": [],
   "source": []
  },
  {
   "cell_type": "code",
   "execution_count": null,
   "id": "2af5e8b2",
   "metadata": {
    "slideshow": {
     "slide_type": "subslide"
    },
    "tags": [
     "code-along"
    ]
   },
   "outputs": [],
   "source": []
  },
  {
   "cell_type": "code",
   "execution_count": null,
   "id": "eb847efa",
   "metadata": {
    "lines_to_next_cell": 2,
    "slideshow": {
     "slide_type": "subslide"
    },
    "tags": [
     "code-along"
    ]
   },
   "outputs": [],
   "source": []
  },
  {
   "cell_type": "markdown",
   "id": "1f7a2e80",
   "metadata": {
    "lang": "en",
    "slideshow": {
     "slide_type": "subslide"
    }
   },
   "source": [
    "## Mini workshop\n",
    "\n",
    "- Notebook `workshop_062_objects`\n",
    "- Section \"Motor Vehicles (Part 3)\""
   ]
  },
  {
   "cell_type": "markdown",
   "id": "ad1e83d3",
   "metadata": {
    "lang": "en",
    "slideshow": {
     "slide_type": "slide"
    }
   },
   "source": [
    "## Dataclasses\n",
    "\n",
    "Definition of a class in which attributes are more visible, representation\n",
    "and equality are predefined, etc.\n",
    "\n",
    "The [documentation](https://docs.python.org/3/library/dataclasses.html)\n",
    "includes other options."
   ]
  },
  {
   "cell_type": "code",
   "execution_count": null,
   "id": "ffa4d1a1",
   "metadata": {
    "slideshow": {
     "slide_type": "subslide"
    },
    "tags": [
     "code-along"
    ]
   },
   "outputs": [],
   "source": []
  },
  {
   "cell_type": "code",
   "execution_count": null,
   "id": "fb5af878",
   "metadata": {
    "slideshow": {
     "slide_type": "subslide"
    },
    "tags": [
     "code-along"
    ]
   },
   "outputs": [],
   "source": []
  },
  {
   "cell_type": "code",
   "execution_count": null,
   "id": "452f670f",
   "metadata": {
    "tags": [
     "code-along"
    ]
   },
   "outputs": [],
   "source": []
  },
  {
   "cell_type": "code",
   "execution_count": null,
   "id": "4ebbef76",
   "metadata": {
    "tags": [
     "code-along"
    ]
   },
   "outputs": [],
   "source": []
  },
  {
   "cell_type": "code",
   "execution_count": null,
   "id": "a78bf11b",
   "metadata": {
    "slideshow": {
     "slide_type": "subslide"
    },
    "tags": [
     "code-along"
    ]
   },
   "outputs": [],
   "source": []
  },
  {
   "cell_type": "code",
   "execution_count": null,
   "id": "e6a81089",
   "metadata": {
    "tags": [
     "code-along"
    ]
   },
   "outputs": [],
   "source": []
  },
  {
   "cell_type": "code",
   "execution_count": null,
   "id": "6dea7e00",
   "metadata": {
    "tags": [
     "code-along"
    ]
   },
   "outputs": [],
   "source": []
  },
  {
   "cell_type": "markdown",
   "id": "ebb2abda",
   "metadata": {
    "lang": "en",
    "slideshow": {
     "slide_type": "subslide"
    }
   },
   "source": [
    "Dataclasses ensure that default values are immutable (at least for some types...):"
   ]
  },
  {
   "cell_type": "code",
   "execution_count": null,
   "id": "fb40494c",
   "metadata": {
    "tags": [
     "code-along"
    ]
   },
   "outputs": [],
   "source": []
  },
  {
   "cell_type": "code",
   "execution_count": null,
   "id": "31e0f274",
   "metadata": {
    "tags": [
     "code-along"
    ]
   },
   "outputs": [],
   "source": []
  },
  {
   "cell_type": "code",
   "execution_count": null,
   "id": "a2a10bef",
   "metadata": {
    "tags": [
     "code-along"
    ]
   },
   "outputs": [],
   "source": []
  },
  {
   "cell_type": "code",
   "execution_count": null,
   "id": "64e57ae6",
   "metadata": {
    "tags": [
     "code-along"
    ]
   },
   "outputs": [],
   "source": []
  },
  {
   "cell_type": "markdown",
   "id": "4882e39a",
   "metadata": {
    "lang": "en",
    "slideshow": {
     "slide_type": "subslide"
    }
   },
   "source": [
    "However, the test for immutable defaults only works for some types from the standard library, not for user-defined types:"
   ]
  },
  {
   "cell_type": "code",
   "execution_count": null,
   "id": "16e4ac67",
   "metadata": {
    "tags": [
     "code-along"
    ]
   },
   "outputs": [],
   "source": []
  },
  {
   "cell_type": "code",
   "execution_count": null,
   "id": "e88e6615",
   "metadata": {
    "tags": [
     "code-along"
    ]
   },
   "outputs": [],
   "source": []
  },
  {
   "cell_type": "code",
   "execution_count": null,
   "id": "3c522a3c",
   "metadata": {
    "lines_to_next_cell": 2,
    "tags": [
     "code-along"
    ]
   },
   "outputs": [],
   "source": []
  },
  {
   "cell_type": "markdown",
   "id": "5a4de13a",
   "metadata": {
    "lang": "en",
    "slideshow": {
     "slide_type": "subslide"
    }
   },
   "source": [
    "\n",
    "It is possible to perform more complex initializations:\n",
    "\n",
    "- The `__post_init__()` method can contain code that is executed after the\n",
    "  generated `__init__()` method has been executed.\n",
    "- The type `InitVar[T]` declasres that a class attribute serves as an argument\n",
    "  for the `__post_init__()` method and not as an attribute for the instance.\n",
    "- The keyword argument `init=False` for `field()` causes the corresponding\n",
    "  attribute to not be initialized in the generated `__init__()` method."
   ]
  },
  {
   "cell_type": "code",
   "execution_count": null,
   "id": "14151226",
   "metadata": {
    "lines_to_next_cell": 1,
    "tags": [
     "code-along"
    ]
   },
   "outputs": [],
   "source": []
  },
  {
   "cell_type": "code",
   "execution_count": null,
   "id": "4716e374",
   "metadata": {
    "lines_to_next_cell": 1,
    "tags": [
     "code-along"
    ]
   },
   "outputs": [],
   "source": []
  },
  {
   "cell_type": "code",
   "execution_count": null,
   "id": "6bcfd135",
   "metadata": {
    "tags": [
     "code-along"
    ]
   },
   "outputs": [],
   "source": []
  },
  {
   "cell_type": "code",
   "execution_count": null,
   "id": "a5abb925",
   "metadata": {
    "lines_to_next_cell": 1,
    "tags": [
     "code-along"
    ]
   },
   "outputs": [],
   "source": []
  },
  {
   "cell_type": "markdown",
   "id": "82ed87db",
   "metadata": {
    "lang": "en",
    "slideshow": {
     "slide_type": "subslide"
    }
   },
   "source": [
    "## Workshop\n",
    "\n",
    "- Notebook `workshop_062_objects`\n",
    "- Section \"Shopping list\""
   ]
  },
  {
   "cell_type": "markdown",
   "id": "8bfeec4a",
   "metadata": {
    "lang": "en",
    "slideshow": {
     "slide_type": "slide"
    }
   },
   "source": [
    "It is possible to define a custom type whose instances behave like lists. To simplify the implementation we delegate the handling of the elements to a list that is stored as an attribute. This kind of composition is found very frequently in object oriented programming."
   ]
  },
  {
   "cell_type": "code",
   "execution_count": null,
   "id": "9e1c4e53",
   "metadata": {
    "tags": [
     "code-along"
    ]
   },
   "outputs": [],
   "source": []
  },
  {
   "cell_type": "code",
   "execution_count": null,
   "id": "2db93def",
   "metadata": {
    "slideshow": {
     "slide_type": "subslide"
    },
    "tags": [
     "code-along"
    ]
   },
   "outputs": [],
   "source": []
  },
  {
   "cell_type": "code",
   "execution_count": null,
   "id": "e1d7e723",
   "metadata": {
    "slideshow": {
     "slide_type": "subslide"
    },
    "tags": [
     "code-along"
    ]
   },
   "outputs": [],
   "source": []
  },
  {
   "cell_type": "code",
   "execution_count": null,
   "id": "8285fc0d",
   "metadata": {
    "tags": [
     "code-along"
    ]
   },
   "outputs": [],
   "source": []
  },
  {
   "cell_type": "code",
   "execution_count": null,
   "id": "0d1836a2",
   "metadata": {
    "tags": [
     "code-along"
    ]
   },
   "outputs": [],
   "source": []
  },
  {
   "cell_type": "code",
   "execution_count": null,
   "id": "e5a0a126",
   "metadata": {
    "lines_to_next_cell": 2,
    "tags": [
     "code-along"
    ]
   },
   "outputs": [],
   "source": []
  },
  {
   "cell_type": "code",
   "execution_count": null,
   "id": "d3e9bba6",
   "metadata": {},
   "outputs": [],
   "source": []
  }
 ],
 "metadata": {
  "jupytext": {
   "cell_metadata_json": true,
   "encoding": "# -*- coding: utf-8 -*-",
   "formats": "ipynb"
  },
  "kernelspec": {
   "display_name": "Python 3 (ipykernel)",
   "language": "python",
   "name": "python3"
  }
 },
 "nbformat": 4,
 "nbformat_minor": 5
}
