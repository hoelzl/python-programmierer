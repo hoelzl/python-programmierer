{
 "cells": [
  {
   "cell_type": "markdown",
   "id": "d05d4c97",
   "metadata": {
    "lines_to_next_cell": 2,
    "slideshow": {
     "slide_type": "slide"
    }
   },
   "source": [
    "<img src=\"img/python-logo-notext.svg\"\n",
    "     style=\"display:block;margin:auto;width:10%\"/>\n",
    "<h1 style=\"text-align:center;\">Module und Packages</h1>\n",
    "<br/>\n",
    "<div style=\"text-align:center;\">Dr. Matthias Hölzl</div>"
   ]
  },
  {
   "cell_type": "markdown",
   "id": "43d4499e",
   "metadata": {},
   "source": [
    "\n",
    " - Der Python Interpreter bietet nur einen kleinen Teil der für die meisten\n",
    "   Programme benötigten Funktionalität\n",
    "   - Kein Interaktion mit dem Betriebssystem\n",
    "   - Kein Netzwerkfunktionalität\n",
    "   - Keine GUI\n",
    "   - ...\n",
    " - Durch *Module* und *Packages* kann diese Funktionalität bei Bedarf geladen\n",
    "   werden."
   ]
  },
  {
   "cell_type": "code",
   "execution_count": null,
   "id": "c7433a70",
   "metadata": {
    "lines_to_next_cell": 2,
    "tags": [
     "code-along"
    ]
   },
   "outputs": [],
   "source": []
  },
  {
   "cell_type": "code",
   "execution_count": null,
   "id": "6d2d4557",
   "metadata": {
    "lines_to_next_cell": 2,
    "tags": [
     "code-along"
    ]
   },
   "outputs": [],
   "source": []
  },
  {
   "cell_type": "markdown",
   "id": "b159ef7d",
   "metadata": {},
   "source": [
    "\n",
    " Python bietet viele Standardmodule an, die mit dem Interpreter installiert\n",
    " werden:\n",
    "\n",
    " - abc: Abstract base classes\n",
    " - argparse: Kommandozeilenargumente\n",
    " - asyncio: Asynchrone Programmierung\n",
    " - collections: Container-Datentypen\n",
    " - ...\n",
    "\n",
    " [Hier](https://docs.python.org/3/py-modindex.html) ist eine vollständigere Liste."
   ]
  },
  {
   "cell_type": "code",
   "execution_count": null,
   "id": "6040323e",
   "metadata": {
    "lines_to_next_cell": 2,
    "tags": [
     "code-along"
    ]
   },
   "outputs": [],
   "source": []
  },
  {
   "cell_type": "code",
   "execution_count": null,
   "id": "3d099d3f",
   "metadata": {
    "lines_to_next_cell": 2,
    "tags": [
     "code-along"
    ]
   },
   "outputs": [],
   "source": []
  },
  {
   "cell_type": "markdown",
   "id": "8dd49858",
   "metadata": {},
   "source": [
    "\n",
    " ## Benutzerdefinierte Module\n",
    "\n",
    " Ein benutzerdefiniertes Modul ist eine Datei mit Python-Code.\n",
    "\n",
    " Wie wir schon gesehen haben:\n",
    " - Wenn sich ein Python-Modul im Suchpfad befindet, kann es mit `import` geladen werden.\n",
    " - Jupyter Notebooks lassen sich nicht (ohne zusätzliche Pakete) als Module laden."
   ]
  },
  {
   "cell_type": "code",
   "execution_count": null,
   "id": "5ab5234b",
   "metadata": {
    "lines_to_next_cell": 2,
    "tags": [
     "code-along"
    ]
   },
   "outputs": [],
   "source": []
  },
  {
   "cell_type": "code",
   "execution_count": null,
   "id": "27de380c",
   "metadata": {
    "lines_to_next_cell": 2
   },
   "outputs": [],
   "source": [
    "# Anzeigen des Quellcodes von `my_test_module.py`\n",
    "# %pycat my_test_module.py"
   ]
  },
  {
   "cell_type": "code",
   "execution_count": null,
   "id": "eab60382",
   "metadata": {
    "lines_to_next_cell": 2,
    "tags": [
     "code-along"
    ]
   },
   "outputs": [],
   "source": []
  },
  {
   "cell_type": "code",
   "execution_count": null,
   "id": "b7921bde",
   "metadata": {
    "lines_to_next_cell": 2
   },
   "outputs": [],
   "source": [
    "# Top-level code wird ausgeführt"
   ]
  },
  {
   "cell_type": "code",
   "execution_count": null,
   "id": "5c241301",
   "metadata": {
    "lines_to_next_cell": 2
   },
   "outputs": [],
   "source": [
    "# get_ipython().run_line_magic('load_ext', 'autoreload')\n",
    "# get_ipython().run_line_magic('autoreload', '2')"
   ]
  },
  {
   "cell_type": "code",
   "execution_count": null,
   "id": "8bff1eb8",
   "metadata": {
    "lines_to_next_cell": 2,
    "tags": [
     "code-along"
    ]
   },
   "outputs": [],
   "source": []
  },
  {
   "cell_type": "code",
   "execution_count": null,
   "id": "d774e86b",
   "metadata": {
    "lines_to_next_cell": 2,
    "tags": [
     "code-along"
    ]
   },
   "outputs": [],
   "source": []
  },
  {
   "cell_type": "code",
   "execution_count": null,
   "id": "4a208919",
   "metadata": {
    "lines_to_next_cell": 2,
    "tags": [
     "code-along"
    ]
   },
   "outputs": [],
   "source": []
  },
  {
   "cell_type": "code",
   "execution_count": null,
   "id": "533c9d29",
   "metadata": {
    "tags": [
     "code-along"
    ]
   },
   "outputs": [],
   "source": []
  },
  {
   "cell_type": "code",
   "execution_count": null,
   "id": "a5a3d5d2",
   "metadata": {
    "lines_to_next_cell": 2,
    "tags": [
     "code-along"
    ]
   },
   "outputs": [],
   "source": []
  },
  {
   "cell_type": "code",
   "execution_count": null,
   "id": "633ca4da",
   "metadata": {
    "lines_to_next_cell": 2,
    "tags": [
     "code-along"
    ]
   },
   "outputs": [],
   "source": []
  },
  {
   "cell_type": "code",
   "execution_count": null,
   "id": "1c7a7fc2",
   "metadata": {
    "lines_to_next_cell": 2,
    "tags": [
     "code-along"
    ]
   },
   "outputs": [],
   "source": []
  },
  {
   "cell_type": "code",
   "execution_count": null,
   "id": "bdf11024",
   "metadata": {
    "lines_to_next_cell": 2,
    "tags": [
     "code-along"
    ]
   },
   "outputs": [],
   "source": []
  },
  {
   "cell_type": "code",
   "execution_count": null,
   "id": "9e6c7206",
   "metadata": {
    "lines_to_next_cell": 2,
    "tags": [
     "code-along"
    ]
   },
   "outputs": [],
   "source": []
  },
  {
   "cell_type": "code",
   "execution_count": null,
   "id": "d237ef70",
   "metadata": {
    "lines_to_next_cell": 2,
    "tags": [
     "code-along"
    ]
   },
   "outputs": [],
   "source": []
  },
  {
   "cell_type": "code",
   "execution_count": null,
   "id": "601efe0e",
   "metadata": {
    "lines_to_next_cell": 2,
    "tags": [
     "code-along"
    ]
   },
   "outputs": [],
   "source": []
  },
  {
   "cell_type": "code",
   "execution_count": null,
   "id": "26e6c891",
   "metadata": {
    "lines_to_next_cell": 2,
    "tags": [
     "code-along"
    ]
   },
   "outputs": [],
   "source": []
  },
  {
   "cell_type": "code",
   "execution_count": null,
   "id": "320b66f7",
   "metadata": {
    "lines_to_next_cell": 2,
    "tags": [
     "code-along"
    ]
   },
   "outputs": [],
   "source": []
  },
  {
   "cell_type": "code",
   "execution_count": null,
   "id": "6a2a46a1",
   "metadata": {
    "lines_to_next_cell": 2,
    "tags": [
     "code-along"
    ]
   },
   "outputs": [],
   "source": []
  },
  {
   "cell_type": "code",
   "execution_count": null,
   "id": "87097715",
   "metadata": {
    "lines_to_next_cell": 2,
    "tags": [
     "code-along"
    ]
   },
   "outputs": [],
   "source": []
  },
  {
   "cell_type": "markdown",
   "id": "9e7dd642",
   "metadata": {},
   "source": [
    "\n",
    " ## Beispiel: `HttpServer`\n",
    "\n",
    "Der Python Interpreter hat keinen eingebauten HTTP Server. Mittels der\n",
    "Standardbibliothek ist es aber nicht schwer einen zu schreiben."
   ]
  },
  {
   "cell_type": "markdown",
   "id": "2334edf5",
   "metadata": {},
   "source": [
    "\n",
    " ### Beispiel: `ModuleTest`\n",
    "\n",
    "Das `ModuleTest` Beispiel zeigt, wie ein Programm aus mehreren Modulen\n",
    "bestehen kann."
   ]
  },
  {
   "cell_type": "code",
   "execution_count": null,
   "id": "6b498e62",
   "metadata": {
    "lines_to_next_cell": 2
   },
   "outputs": [],
   "source": [
    "__name__"
   ]
  },
  {
   "cell_type": "markdown",
   "id": "c6a8fbff",
   "metadata": {},
   "source": [
    "\n",
    " ## Packages\n",
    "\n",
    " - Methode um Module mit zu strukturieren: `a.b.c`, `a.b.x`\n",
    " - Ein Package ist eine Zusammenfassung von mehreren Modulen\n",
    " - `b` ist Sub-Package von `a`, `c` und `x` sind Submodule von `b`"
   ]
  },
  {
   "cell_type": "code",
   "execution_count": null,
   "id": "e566abae",
   "metadata": {
    "lines_to_next_cell": 2,
    "tags": [
     "code-along"
    ]
   },
   "outputs": [],
   "source": []
  },
  {
   "cell_type": "code",
   "execution_count": null,
   "id": "6cd1bbba",
   "metadata": {
    "lines_to_next_cell": 2,
    "tags": [
     "code-along"
    ]
   },
   "outputs": [],
   "source": []
  },
  {
   "cell_type": "code",
   "execution_count": null,
   "id": "1441c9ec",
   "metadata": {
    "lines_to_next_cell": 2,
    "tags": [
     "code-along"
    ]
   },
   "outputs": [],
   "source": []
  },
  {
   "cell_type": "markdown",
   "id": "da85f2f1",
   "metadata": {},
   "source": [
    "\n",
    " ### Struktur von Packages\n",
    "\n",
    " - Hierarchie durch Verzeichnisse und Python Dateien\n",
    "   - Z.B. Verzeichnis `html` mit Unterverzeichnissen `parser`, `entities`\n",
    " - Benötigt eine `__init__.py` Datei in jedem Verzeichnis, aus dem Code importiert werden soll\n",
    " - Die `__init__.py` Datei kann leer sein (und ist oft leer)"
   ]
  },
  {
   "cell_type": "markdown",
   "id": "c323ecd4",
   "metadata": {},
   "source": [
    "\n",
    " <img src=\"img/package-structure.png\" alt=\"Package structure\"\n",
    "      style=\"display:block;margin:auto;width:40%\"></img>"
   ]
  },
  {
   "cell_type": "markdown",
   "id": "2ef724ae",
   "metadata": {},
   "source": [
    "\n",
    " ### Finden von Packages\n",
    "\n",
    " - Python sucht in `sys.path` nach dem Package-Verzeichnis.\n",
    " - Dieser kann durch die Environment-Variable `PYTHONPATH` oder direkt von\n",
    "   Python aus beeinflusst werden.\n",
    " - In den meisten Fällen ist es besser, keine komplizierten Operationen an\n",
    "   `sys.path` vorzunehmen."
   ]
  },
  {
   "cell_type": "markdown",
   "id": "0d1e285d",
   "metadata": {},
   "source": [
    "\n",
    " ### Das `import` statement\n",
    "\n",
    " `import a.b.c`:\n",
    "\n",
    " - `a` und `b` müssen Packages (Verzeichnisse) sein\n",
    " - `c` kann ein Modul oder ein Package sein\n",
    "\n",
    " `from a.b.c import d`\n",
    " - `a` und `b` müssen Packages sein\n",
    " - `c` kann ein Modul oder ein Package sein\n",
    " - `d` kann ein Modul, ein Package oder ein Name (d.h. eine Variable, eine Funktion, eine Klasse, usw.) sein"
   ]
  },
  {
   "cell_type": "markdown",
   "id": "2465d8fa",
   "metadata": {},
   "source": [
    "\n",
    " ### Referenzen innerhalb eines Packages\n",
    "\n",
    " - `from . import a` importiert `a` aus dem aktuellen Package\n",
    " - `from .. import a` importiert `a` aus dem übergeordneten Package\n",
    " - `from .foo import a` importiert `a` aus dem \"Geschwistermodul\" `foo`"
   ]
  },
  {
   "cell_type": "markdown",
   "id": "94277685",
   "metadata": {},
   "source": [
    "\n",
    " ## Beispiel: `MessageQueue`\n",
    "\n",
    " Das `MessageQueue` Beispiel zeigt, wie ein Programm aus mehreren Packages bestehen kann."
   ]
  },
  {
   "cell_type": "markdown",
   "id": "bb48c4ee",
   "metadata": {},
   "source": [
    "\n",
    " ## Argparse: Verarbeiten von Command Line Arguments\n",
    "\n",
    " - Für viele Anwendungsfälle ist eine Kommandozeilenanwendung ausreichend\n",
    " - Die manuelle Verarbeitung von Argumenten ist relativ aufwändig\n",
    " - Python bietet mit `argparse` eine sehr gute Bibliothek, die viele häufige Anwendungsfälle deutlich vereinfacht"
   ]
  },
  {
   "cell_type": "markdown",
   "id": "ab596b7b",
   "metadata": {},
   "source": [
    "\n",
    " ### Bestandteile von Argparse:\n",
    "\n",
    " - Klasse `argparse.ArgumentParser` zum Erzeugen eines Kommandozeilen-Parsers\n",
    " - Methode `add_argument()` zum Definieren von Argumenten\n",
    "   - Name, Varianten (z.B. `-l`, `--list`)\n",
    "   - Argumente (z.B. `gcc -o myprog`)\n",
    "   - Aktion, die ausgeführt werden soll\n",
    "   - Hilfetext für die Dokumentation\n",
    "   - usw.\n",
    " - Methode `parse_args()` zum Auswerten der Kommandozeile\n",
    " - Viele weiter Möglichkeiten:\n",
    "   - Subkommandos (`git status`, `git push`, ...)\n",
    "   - Sich gegenseitig ausschließende Argumente (`--case-fold`, `--no-case-fold`)"
   ]
  },
  {
   "cell_type": "markdown",
   "id": "a79c2c7e",
   "metadata": {},
   "source": [
    "\n",
    " # Pytest: Testen in Python\n",
    "\n",
    " - Python bietet mehrere eingebaute Pakete zum Schreiben von Unit-Tests und Dokumentationstests an (`unittest` und `doctest`).\n",
    " - Viele Projekte verwenden trotzdem das `pytest` Paket, da es viel \"Boilerplate\" beim Schreiben von Tests vermeidet.\n",
    " - `pytest` kann `unittest` und `doctest`-Tests ausführen."
   ]
  },
  {
   "cell_type": "markdown",
   "id": "b983e0bf",
   "metadata": {},
   "source": [
    "\n",
    " ## Installation von Pytest\n",
    "\n",
    " Pytest ist in der Anaconda-Installation vorinstalliert\n",
    "\n",
    " Beim Verwenden der Standard Python Distribution kann es mit\n",
    " ```shell\n",
    " pip install pytest\n",
    " ```\n",
    " installiert werden"
   ]
  },
  {
   "cell_type": "markdown",
   "id": "e29796f0",
   "metadata": {},
   "source": [
    "\n",
    " ## Schreiben von Tests\n",
    "\n",
    " - Pytest kann sehr flexibel konfiguriert werden\n",
    " - Wir verwenden nur die einfachsten Features und verlassen uns auf die automatische Konfiguration\n",
    " - Tests für ein Paket werden in einem Unter-Package `test` geschrieben\n",
    " - Tests für die Datei `foo.py` sind in der Datei `test/foo_test.py`\n",
    " - Jeder Test ist eine Funktion, deren Name mit `test` beginnt\n",
    " - Assertions werden mit der `assert` Anweisung geschrieben"
   ]
  },
  {
   "cell_type": "markdown",
   "id": "91885554",
   "metadata": {},
   "source": [
    "\n",
    " ## Beispiel Testen von `MessageQueueDist`\n",
    "\n",
    " Siehe `Examples/MessageQueueDist`"
   ]
  },
  {
   "cell_type": "markdown",
   "id": "229e2173",
   "metadata": {},
   "source": [
    "\n",
    " # Setuptools: Distribution von Python Packeten\n",
    "\n",
    " - Setuptools sind das Standard-Tool um installierbare Python-Pakete zu erzeugen.\n",
    " - Das Wort \"Packages\" ist in der Python Welt überladen:\n",
    "     - Sammlung von Python Dateien wie in diesem Kapitel beschrieben\n",
    "     - Distribution einer installierbaren Version einer Bibliothek (\"wheel\"), die dann importiert werden kann."
   ]
  },
  {
   "cell_type": "markdown",
   "id": "dffa71da",
   "metadata": {},
   "source": [
    "\n",
    " ### Beispiel: Erstellen einer Anwendung mit Bibliothek\n",
    "\n",
    " - Hinzufügen einer `setup.py`-Datei mit Information über die zu installierenden Packages und Skripte\n",
    " - Hinzufügen einiger Hilfsdateien (`README.md`, `LICENSE`)\n",
    " - Erstellen der Distribution mit `python setup.py bdist_wheel`\n",
    " - Installation mit `pip` und dem generierten Wheel\n",
    " - Installation während der Entwicklung: `pip install -e .`"
   ]
  }
 ],
 "metadata": {
  "jupytext": {
   "encoding": "# -*- coding: utf-8 -*-",
   "formats": "ipynb",
   "main_language": "python"
  }
 },
 "nbformat": 4,
 "nbformat_minor": 5
}
