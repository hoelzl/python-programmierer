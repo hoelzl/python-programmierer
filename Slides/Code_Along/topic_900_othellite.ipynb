{
 "cells": [
  {
   "cell_type": "markdown",
   "id": "801baa9e",
   "metadata": {
    "lines_to_next_cell": 2,
    "slideshow": {
     "slide_type": "slide"
    }
   },
   "source": [
    "<img src=\"img/python-logo-notext.svg\"\n",
    "     style=\"display:block;margin:auto;width:10%\"/>\n",
    "<h1 style=\"text-align:center;\">Case Study: Othellite</h1>\n",
    "<br/>\n",
    "<div style=\"text-align:center;\">Dr. Matthias Hölzl</div>"
   ]
  },
  {
   "cell_type": "code",
   "execution_count": null,
   "id": "6b7a2ffc",
   "metadata": {},
   "outputs": [],
   "source": [
    "from collections import Sequence\n",
    "from enum import Enum\n",
    "from dataclasses import dataclass, field\n",
    "import reprlib\n",
    "from typing import Union\n",
    "from random import sample\n",
    "\n",
    "try:\n",
    "    import numpy as np\n",
    "except ModuleNotFoundError:\n",
    "    print(\"NumPy not found, some (minor) examples may not work\")"
   ]
  },
  {
   "cell_type": "markdown",
   "id": "f653cf85",
   "metadata": {},
   "source": [
    "\n",
    "# Othellite\n",
    "\n",
    "Im Folgenden wollen wir eine vereinfachte Variante des Spiels Reversi (auch\n",
    "unter dem Handelsnamen Othello bekannt) implementieren. Das Spiel wird auf\n",
    "einem Brett mit 8x8 Feldern gespielt, auf die Spieler schwarze oder\n",
    "weiße Spielsteine legen können. Die genauen Regeln sind\n",
    "[im Wikipedia Artikel](https://de.wikipedia.org/wiki/Othello_(Spiel))\n",
    "beschrieben."
   ]
  },
  {
   "cell_type": "markdown",
   "id": "aacf4bdb",
   "metadata": {},
   "source": [
    "\n",
    "Wir definieren eine Enumeration, die den Zustand eines einzelnen Feldes auf\n",
    "dem Brett beschreibt:"
   ]
  },
  {
   "cell_type": "code",
   "execution_count": null,
   "id": "105ac495",
   "metadata": {
    "tags": [
     "code-along"
    ]
   },
   "outputs": [],
   "source": []
  },
  {
   "cell_type": "code",
   "execution_count": null,
   "id": "be0d7773",
   "metadata": {
    "lines_to_next_cell": 2
   },
   "outputs": [],
   "source": [
    "print(\"Fields:           \", list(Field))\n",
    "print(\"Empty field:      \", Field.DARK)\n",
    "print(\"Light field:      \", Field.LIGHT)\n",
    "print(\"Dark field:       \", Field.DARK)\n",
    "print(\"Light field value:\", Field.LIGHT.value)\n",
    "print(\"Light field name: \", Field.LIGHT.name)"
   ]
  },
  {
   "cell_type": "markdown",
   "id": "8f908dc4",
   "metadata": {
    "lines_to_next_cell": 2
   },
   "source": [
    "\n",
    "## Micro-Workshop\n",
    "\n",
    "Definieren Sie eine Funktion `is_occupied(f: Field) -> bool`,\n",
    "die genau dann `True` zurückgibt, wenn `field` nicht leer ist."
   ]
  },
  {
   "cell_type": "code",
   "execution_count": null,
   "id": "40f77e79",
   "metadata": {},
   "outputs": [],
   "source": [
    "def is_occupied(f: Field) -> bool:\n",
    "    return f is not Field.EMPTY"
   ]
  },
  {
   "cell_type": "code",
   "execution_count": null,
   "id": "11efea2d",
   "metadata": {
    "lines_to_next_cell": 2
   },
   "outputs": [],
   "source": [
    "assert is_occupied(Field.DARK)\n",
    "assert is_occupied(Field.LIGHT)\n",
    "assert not is_occupied(Field.EMPTY)"
   ]
  },
  {
   "cell_type": "markdown",
   "id": "a69b7395",
   "metadata": {
    "lines_to_next_cell": 2
   },
   "source": [
    "\n",
    "## Micro-Workshop\n",
    "\n",
    "Definieren Sie eine Enumeration `Player`, die analog zu `Field` die beiden\n",
    "Spieler beschreibt. Drucken Sie ähnlich wie für `Field` die möglichen Werte\n",
    "sowie Value und Namen für einen Enum-Wert aus."
   ]
  },
  {
   "cell_type": "code",
   "execution_count": null,
   "id": "c3007a40",
   "metadata": {
    "tags": [
     "code-along"
    ]
   },
   "outputs": [],
   "source": []
  },
  {
   "cell_type": "code",
   "execution_count": null,
   "id": "a1fb0636",
   "metadata": {
    "tags": [
     "code-along"
    ]
   },
   "outputs": [],
   "source": []
  },
  {
   "cell_type": "markdown",
   "id": "ded8593e",
   "metadata": {},
   "source": [
    "\n",
    "## Micro-Workshop\n",
    "\n",
    "Definieren Sie eine Funktion\n",
    "`is_field_owned_by_opponent(p: Player, f: Field) -> bool`,\n",
    "die genau dann `True` zurückgibt, wenn der Spielstein auf Feld `f` dem\n",
    "Gegner gehört, d.h., wenn `f` belegt ist und der Stein auf `f` nicht die\n",
    "gleiche Farbe hat wie der Spieler.\n",
    "\n",
    "Überprüfen Sie, dass Ihre Implementierung die angegebenen Assertions erfüllt.\n",
    "\n",
    "Implementieren Sie eine entsprechende Methode `is_field_owned_by_player()`."
   ]
  },
  {
   "cell_type": "code",
   "execution_count": null,
   "id": "ea05df42",
   "metadata": {
    "tags": [
     "code-along"
    ]
   },
   "outputs": [],
   "source": []
  },
  {
   "cell_type": "code",
   "execution_count": null,
   "id": "3376a390",
   "metadata": {},
   "outputs": [],
   "source": [
    "assert is_field_owned_by_opponent(Player.LIGHT, Field.DARK)\n",
    "assert is_field_owned_by_opponent(Player.DARK, Field.LIGHT)\n",
    "assert not is_field_owned_by_opponent(Player.DARK, Field.DARK)\n",
    "assert not is_field_owned_by_opponent(Player.DARK, Field.EMPTY)\n",
    "assert not is_field_owned_by_opponent(Player.LIGHT, Field.LIGHT)\n",
    "assert not is_field_owned_by_opponent(Player.LIGHT, Field.EMPTY)"
   ]
  },
  {
   "cell_type": "code",
   "execution_count": null,
   "id": "281da68c",
   "metadata": {
    "tags": [
     "code-along"
    ]
   },
   "outputs": [],
   "source": []
  },
  {
   "cell_type": "code",
   "execution_count": null,
   "id": "1ec1bebe",
   "metadata": {},
   "outputs": [],
   "source": [
    "assert is_field_owned_by_player(Player.LIGHT, Field.LIGHT)\n",
    "assert is_field_owned_by_player(Player.DARK, Field.DARK)\n",
    "assert not is_field_owned_by_player(Player.DARK, Field.LIGHT)\n",
    "assert not is_field_owned_by_player(Player.DARK, Field.EMPTY)\n",
    "assert not is_field_owned_by_player(Player.LIGHT, Field.DARK)\n",
    "assert not is_field_owned_by_player(Player.LIGHT, Field.EMPTY)"
   ]
  },
  {
   "cell_type": "markdown",
   "id": "c6768403",
   "metadata": {},
   "source": [
    "\n",
    "Wir wollen auf die einzelnen Felder eines 8x8 Spielfelds mittels eines\n",
    "zweidimensionalen Index-Werts zugreifen: `board[0, 0]` steht für das linke\n",
    "obere Feld, `board[0, 1]` für das Feld rechts daneben, usw.\n",
    "\n",
    "Das ist einfach, wenn wir ein zweidimensionales Array als zugrunde liegende\n",
    "Datenstruktur verwenden können, z.B. das `ndarray` von NumPy. In diesem Fall\n",
    "delegieren wir einfach `__getitem__()` und `__setitem__()` an die\n",
    "entsprechenden Methoden des NumPy Arrays.\n",
    "\n",
    "Die mittleren 4 Felder des Spielfelds initialisieren wir mit diagonal\n",
    "angeordneten Steinen.\n",
    "\n",
    "<!--\n",
    "We want to be able to access the individual fields of the 8x8 board using\n",
    "a 2-dimensional index notation: `board[0, 0]` for the field in the upper\n",
    "left corner, `board[0, 1]` for the field to the right of the upper left\n",
    "corner, etc.\n",
    "\n",
    "This is easy when using a two-dimensional array, such as NumPy's `ndarray`.\n",
    "We simply need to delegate the `__getitem__()` and `__setitem__()` methods\n",
    "to the NumPy array:\n",
    "-->"
   ]
  },
  {
   "cell_type": "code",
   "execution_count": null,
   "id": "679f859e",
   "metadata": {
    "tags": [
     "code-along"
    ]
   },
   "outputs": [],
   "source": []
  },
  {
   "cell_type": "code",
   "execution_count": null,
   "id": "e6049531",
   "metadata": {
    "tags": [
     "code-along"
    ]
   },
   "outputs": [],
   "source": []
  },
  {
   "cell_type": "markdown",
   "id": "b4e31738",
   "metadata": {},
   "source": [
    "\n",
    "Dadurch, dass der Index an das NumPy Array weitergereicht wird, stehen auch\n",
    "mächtigere Zugriffsvarianten, wie z.B. Slicing zur Verfügung:"
   ]
  },
  {
   "cell_type": "code",
   "execution_count": null,
   "id": "af3eeca5",
   "metadata": {},
   "outputs": [],
   "source": [
    "npb[0, 2:] = Field.DARK\n",
    "npb[1:3, 1:3] = Field.LIGHT\n",
    "print(npb)"
   ]
  },
  {
   "cell_type": "code",
   "execution_count": null,
   "id": "f08c93f0",
   "metadata": {},
   "outputs": [],
   "source": [
    "# Wenn wir eine Python Liste als Speicher für das Spielfeld verwenden wollen,\n",
    "# müssen wir die Umrechnung von zweidimensionalen Index-Werten in einen\n",
    "# eindimensionalen Index selber vornehmen:"
   ]
  },
  {
   "cell_type": "code",
   "execution_count": null,
   "id": "9164cb32",
   "metadata": {
    "lines_to_next_cell": 2
   },
   "outputs": [],
   "source": [
    "def compute_linear_index(index):\n",
    "    \"\"\"\n",
    "    Compute the linear index for the given (possibly complex) index.\n",
    "\n",
    "    If `index` is already a linear index or sliced it is returned unchanged.\n",
    "    If it is a pair of numbers, each between 0 and 7, the corresponding\n",
    "    linear index into an 8x8 grid is computed, using the usual conventions\n",
    "    for multidimensional indexing, i.e., the first index is the row, the\n",
    "    second index the column.\n",
    "\n",
    "    (For a real application this function should probably be extended to\n",
    "    convert 2-dimensional slices into 1-dimensional slices as well, but that\n",
    "    is too complex for this example.)\n",
    "\n",
    "    :param index: A linear index, a pair of indices or a linear slice\n",
    "    :return: A linear index or slice\n",
    "    \"\"\"\n",
    "    try:\n",
    "        row, column = index\n",
    "        assert 0 <= row <= 7, \"Row index out of range.\"\n",
    "        assert 0 <= column <= 7, \"Column index out of range.\"\n",
    "        return row + 8 * column\n",
    "    except TypeError:\n",
    "        return index"
   ]
  },
  {
   "cell_type": "markdown",
   "id": "072c7921",
   "metadata": {
    "lines_to_next_cell": 2
   },
   "source": [
    "\n",
    "## Mini-Workshop\n",
    "\n",
    "Implementieren Sie eine Klasse `Board`, die ein 8x8 Othellite Brett\n",
    "repräsentiert, das den Zustand des Bretts in einer Liste speichert.\n",
    "Sie können sich bei der Implementierung an der Klasse `NumPyBoard`\n",
    "orientieren, und `compute_linear_index` zur Berechnung von Index-Werten\n",
    "verwenden."
   ]
  },
  {
   "cell_type": "code",
   "execution_count": null,
   "id": "9e2a8774",
   "metadata": {
    "tags": [
     "code-along"
    ]
   },
   "outputs": [],
   "source": []
  },
  {
   "cell_type": "code",
   "execution_count": null,
   "id": "b7d97102",
   "metadata": {
    "tags": [
     "code-along"
    ]
   },
   "outputs": [],
   "source": []
  },
  {
   "cell_type": "markdown",
   "id": "74d23085",
   "metadata": {},
   "source": [
    "\n",
    "Wir definieren eine weitere Enumeration für \"Himmelsrichtungen\". Die\n",
    "Schlüssel der Enumeration sollen Abkürzungen für die Kompassrichtungen (N,\n",
    "NE, E, ...) sein. Als Wert soll jeweils der zur Bewegung in diese Richtung\n",
    "benötigte \"Offset\" verwendet werden:\n",
    "\n",
    "- `(-1, 0)` für eine Bewegung in Richtung Norden,\n",
    "- `(0, 1)` für eine Bewegung in Richtung Osten,\n",
    "- `(1, 0)` für eine Bewegung in Richtung Süden,\n",
    "- `(0, -1)` für eine Bewegung in Richtung Westen,\n",
    "- `(-1, 1)` für eine Bewegung in Richtung Nord-Osten,\n",
    "- `(1, 1)` für eine Bewegung in Richtung Süd-Osten,\n",
    "- `(-1, -1)` für eine Bewegung in Richtung Nord-Westen,\n",
    "- `(1, -1` für eine Bewegung in Richtung Süd-Westen.\n",
    "\n",
    "<!--\n",
    "We define yet another enumeration, this time for directions.\n",
    "The keys of this enumeration should be the compass directions (N, NE, E, ...),\n",
    "the values should be the (x, y) offset to move to this field in a\n",
    "right-handed coordinate system, i.e.,\n",
    "- `(-1, 0)` for moving north,\n",
    "- `(0, 1)` for moving east,\n",
    "- `(1, 0)` for moving south,\n",
    "- `(0, -1)` for moving west,\n",
    "- `(-1, 1)` for moving north-east,\n",
    "- `(1, 1)` for moving south-east,\n",
    "- `(-1, -1)` for moving north-west,\n",
    "- `(1, -1` for moving south-west.\n",
    "-->"
   ]
  },
  {
   "cell_type": "markdown",
   "id": "bdf71e30",
   "metadata": {},
   "source": [
    "\n",
    "## Micro-Workshop\n",
    "\n",
    "Definieren Sie eine Enumeration `Directions`, wie gerade beschrieben."
   ]
  },
  {
   "cell_type": "code",
   "execution_count": null,
   "id": "5da0418b",
   "metadata": {
    "tags": [
     "code-along"
    ]
   },
   "outputs": [],
   "source": []
  },
  {
   "cell_type": "markdown",
   "id": "771bb8b6",
   "metadata": {},
   "source": [
    "Es ist bei Enumerationen möglich, mehrere Schlüssel für den gleichen Wert\n",
    "zu definieren (also gewissermaßen Synonyme anzugeben).\n",
    "\n",
    "class Synonyms(Enum):\n",
    "    DRINK = 0\n",
    "    BEVERAGE = 0\n",
    "    FOOD = 1\n",
    "    BIG = 2\n",
    "    LARGE = 2\n",
    "    SMALL = 3"
   ]
  },
  {
   "cell_type": "code",
   "execution_count": null,
   "id": "9916c115",
   "metadata": {
    "lines_to_next_cell": 2
   },
   "outputs": [],
   "source": [
    "print(Synonyms.DRINK is Synonyms.BEVERAGE)\n",
    "print(Synonyms.DRINK is not Synonyms.FOOD)\n",
    "print(Synonyms.BIG is Synonyms.LARGE)\n",
    "print(Synonyms.BIG is not Synonyms.SMALL)"
   ]
  },
  {
   "cell_type": "markdown",
   "id": "4b646d54",
   "metadata": {
    "lines_to_next_cell": 2
   },
   "source": [
    "\n",
    "Erweitern Sie die Enumeration `Directions` so, dass auch die vollständigen\n",
    "Namen der Kompassrichtungen (`NORTH`, `NORTH_EAST`, ...) verwendet werden\n",
    "können."
   ]
  },
  {
   "cell_type": "code",
   "execution_count": null,
   "id": "c50b5614",
   "metadata": {
    "tags": [
     "code-along"
    ]
   },
   "outputs": [],
   "source": []
  },
  {
   "cell_type": "markdown",
   "id": "e5aad5a6",
   "metadata": {},
   "source": [
    "\n",
    "## Micro-Workshop\n",
    "\n",
    "Überprüfen Sie, dass die Abkürzungen und die vollständigen Name die\n",
    "gleichen Werte repräsentieren.\n",
    "<!--\n",
    "Ensure that the abbreviated names and the full names denote the\n",
    "same values.\n",
    "-->"
   ]
  },
  {
   "cell_type": "code",
   "execution_count": null,
   "id": "5f1db4dc",
   "metadata": {
    "tags": [
     "code-along"
    ]
   },
   "outputs": [],
   "source": []
  },
  {
   "cell_type": "code",
   "execution_count": null,
   "id": "864c2c5c",
   "metadata": {
    "tags": [
     "code-along"
    ]
   },
   "outputs": [],
   "source": []
  },
  {
   "cell_type": "code",
   "execution_count": null,
   "id": "f77b89f1",
   "metadata": {},
   "outputs": [],
   "source": [
    "Index = tuple[int, int]"
   ]
  },
  {
   "cell_type": "markdown",
   "id": "53c9491f",
   "metadata": {},
   "source": [
    "\n",
    "Micro-Workshop\n",
    "\n",
    "Schreiben Sie eine Funktion `is_valid_index(index: Index) -> bool`,\n",
    "die genau dann `True` zurückgibt, wenn `index` ein gültiger Index für\n",
    "ein Othellite Brett ist, andernfalls `False`. Überprüfen Sie, ob Ihre\n",
    "Implementierung die Assertions erfüllt"
   ]
  },
  {
   "cell_type": "code",
   "execution_count": null,
   "id": "83b8bfbc",
   "metadata": {
    "tags": [
     "code-along"
    ]
   },
   "outputs": [],
   "source": []
  },
  {
   "cell_type": "code",
   "execution_count": null,
   "id": "4cf3f377",
   "metadata": {
    "lines_to_next_cell": 2
   },
   "outputs": [],
   "source": [
    "assert is_valid_index((0, 7))\n",
    "assert not is_valid_index((8, 1))\n",
    "assert not is_valid_index((1, 8))\n",
    "assert not is_valid_index((6, -1))\n",
    "assert not is_valid_index((-2, 4))"
   ]
  },
  {
   "cell_type": "markdown",
   "id": "d7ae83bf",
   "metadata": {
    "lines_to_next_cell": 2
   },
   "source": [
    "## Micro-Workshop\n",
    "\n",
    "Schreiben Sie eine Funktion\n",
    "`assert_valid_index(index: Index) -> None:`, die eine Exception vom\n",
    "Typ `IndexError` mit einer geeigneten Fehlermeldung auslöst, wenn `index`\n",
    "kein gültiger Index für ein Othellite-Brett ist. Überprüfen Sie, dass die\n",
    "Funktion für korrekte Argumente keinen Exception auslöst, dass sie aber für\n",
    "verschiedene Fehlerfälle eine Exception auslöst."
   ]
  },
  {
   "cell_type": "code",
   "execution_count": null,
   "id": "1cce237f",
   "metadata": {
    "tags": [
     "code-along"
    ]
   },
   "outputs": [],
   "source": []
  },
  {
   "cell_type": "code",
   "execution_count": null,
   "id": "3db1c361",
   "metadata": {
    "tags": [
     "code-along"
    ]
   },
   "outputs": [],
   "source": []
  },
  {
   "cell_type": "code",
   "execution_count": null,
   "id": "50d4a831",
   "metadata": {
    "tags": [
     "code-along"
    ]
   },
   "outputs": [],
   "source": []
  },
  {
   "cell_type": "code",
   "execution_count": null,
   "id": "7bc17529",
   "metadata": {
    "lines_to_next_cell": 2,
    "tags": [
     "code-along"
    ]
   },
   "outputs": [],
   "source": []
  },
  {
   "cell_type": "markdown",
   "id": "a1333ed0",
   "metadata": {
    "lines_to_next_cell": 2
   },
   "source": [
    "\n",
    "Schreiben Sie eine Funktion\n",
    "`next_index_in_direction(index: Index, direction: Direction)`,\n",
    "die zwei Werte zurückgibt, falls `index` ein gültiger Index ist:\n",
    "- den nächsten Index in Richtung `direction` und\n",
    "- `True` oder `False`, je nachdem ob der nächste Index gültig ist oder nicht.\n",
    "Falls `index` kein gültiger Index ist soll eine Exception vom Typ\n",
    "`IndexError` ausgelöst werden.\n",
    "\n",
    "*Hinweis:* Die Werte, die zu den Komponenten von `index` addiert werden\n",
    "müssen können Sie mittels `d_row, d_column = direction.value` berechnen.\n",
    "\n",
    "Überprüfen Sie, ob Ihre Implementierung die angegebenen Assertions erfüllt."
   ]
  },
  {
   "cell_type": "code",
   "execution_count": null,
   "id": "9c5c5146",
   "metadata": {
    "tags": [
     "code-along"
    ]
   },
   "outputs": [],
   "source": []
  },
  {
   "cell_type": "code",
   "execution_count": null,
   "id": "55609ad6",
   "metadata": {},
   "outputs": [],
   "source": [
    "assert next_index_in_direction((0, 0), Direction.N) == ((-1, 0), False)\n",
    "assert next_index_in_direction((0, 0), Direction.NE) == ((-1, 1), False)\n",
    "assert next_index_in_direction((0, 0), Direction.E) == ((0, 1), True)\n",
    "assert next_index_in_direction((0, 0), Direction.SE) == ((1, 1), True)\n",
    "assert next_index_in_direction((0, 0), Direction.S) == ((1, 0), True)\n",
    "assert next_index_in_direction((0, 0), Direction.SW) == ((1, -1), False)\n",
    "assert next_index_in_direction((0, 0), Direction.W) == ((0, -1), False)\n",
    "assert next_index_in_direction((0, 0), Direction.NW) == ((-1, -1), False)"
   ]
  },
  {
   "cell_type": "code",
   "execution_count": null,
   "id": "568e5449",
   "metadata": {},
   "outputs": [],
   "source": [
    "assert next_index_in_direction((4, 5), Direction.N) == ((3, 5), True)\n",
    "assert next_index_in_direction((4, 5), Direction.NE) == ((3, 6), True)\n",
    "assert next_index_in_direction((4, 5), Direction.E) == ((4, 6), True)\n",
    "assert next_index_in_direction((4, 5), Direction.SE) == ((5, 6), True)\n",
    "assert next_index_in_direction((4, 5), Direction.S) == ((5, 5), True)\n",
    "assert next_index_in_direction((4, 5), Direction.SW) == ((5, 4), True)\n",
    "assert next_index_in_direction((4, 5), Direction.W) == ((4, 4), True)\n",
    "assert next_index_in_direction((4, 5), Direction.NW) == ((3, 4), True)"
   ]
  },
  {
   "cell_type": "code",
   "execution_count": null,
   "id": "df326106",
   "metadata": {},
   "outputs": [],
   "source": [
    "assert next_index_in_direction((7, 7), Direction.N) == ((6, 7), True)\n",
    "assert next_index_in_direction((7, 7), Direction.NE) == ((6, 8), False)\n",
    "assert next_index_in_direction((7, 7), Direction.E) == ((7, 8), False)\n",
    "assert next_index_in_direction((7, 7), Direction.SE) == ((8, 8), False)\n",
    "assert next_index_in_direction((7, 7), Direction.S) == ((8, 7), False)\n",
    "assert next_index_in_direction((7, 7), Direction.SW) == ((8, 6), False)\n",
    "assert next_index_in_direction((7, 7), Direction.W) == ((7, 6), True)\n",
    "assert next_index_in_direction((7, 7), Direction.NW) == ((6, 6), True)"
   ]
  },
  {
   "cell_type": "code",
   "execution_count": null,
   "id": "6a289c92",
   "metadata": {},
   "outputs": [],
   "source": [
    "try:\n",
    "    next_index_in_direction((7, 8), Direction.S)\n",
    "except IndexError as err:\n",
    "    print(err)"
   ]
  },
  {
   "cell_type": "markdown",
   "id": "ccc34ab1",
   "metadata": {},
   "source": [
    "\n",
    "Wir wollen unsere Klasse `Board` jetzt um eine Methode\n",
    "\n",
    "```\n",
    "_fields_flipped_in_direction(self, p: Player, index: Index,\n",
    "                             d: Direction) -> set[Index]\n",
    "```\n",
    "\n",
    "erweitern, die die Indizes aller Felder zurückgibt, die der Spieler ausgehend\n",
    "vom Feld `index` in Richtung `d` umdrehen kann."
   ]
  },
  {
   "cell_type": "code",
   "execution_count": null,
   "id": "b8d86293",
   "metadata": {
    "tags": [
     "code-along"
    ]
   },
   "outputs": [],
   "source": []
  },
  {
   "cell_type": "code",
   "execution_count": null,
   "id": "241ebddc",
   "metadata": {},
   "outputs": [],
   "source": [
    "assert _find_rightmost([True, False, True, False]) == 2\n",
    "assert _find_rightmost([False, False, False]) == 0"
   ]
  },
  {
   "cell_type": "code",
   "execution_count": null,
   "id": "73890822",
   "metadata": {
    "tags": [
     "code-along"
    ]
   },
   "outputs": [],
   "source": []
  },
  {
   "cell_type": "code",
   "execution_count": null,
   "id": "f2abbffe",
   "metadata": {},
   "outputs": [],
   "source": [
    "def assert_flips_direction(player, index, directions):\n",
    "    board = Board()\n",
    "    board[index] = Field.LIGHT if player == Player.LIGHT else Field.DARK\n",
    "    print(f\"Player {player} at {index} flips {directions}.\")\n",
    "    print(board)\n",
    "\n",
    "    for d in set(Direction) - directions:\n",
    "        # noinspection PyProtectedMember\n",
    "        result = board._indices_to_flip_in_direction(player, index, d)\n",
    "        assert result == set(), f\"Fields flipped in {d} are not empty.\"\n",
    "\n",
    "    for d in directions:\n",
    "        # noinspection PyProtectedMember\n",
    "        result = board._indices_to_flip_in_direction(player, index, d)\n",
    "        assert result != set(), f\"Fields flipped in {d} are empty.\""
   ]
  },
  {
   "cell_type": "code",
   "execution_count": null,
   "id": "f682c9f0",
   "metadata": {},
   "outputs": [],
   "source": [
    "assert_flips_direction(Player.LIGHT, (0, 0), set())\n",
    "assert_flips_direction(Player.LIGHT, (2, 3), {Direction.S})\n",
    "assert_flips_direction(Player.LIGHT, (3, 2), {Direction.E})\n",
    "assert_flips_direction(Player.LIGHT, (4, 5), {Direction.W})\n",
    "assert_flips_direction(Player.LIGHT, (5, 2), set())\n",
    "assert_flips_direction(Player.LIGHT, (5, 3), set())\n",
    "assert_flips_direction(Player.LIGHT, (5, 4), {Direction.N})\n",
    "assert_flips_direction(Player.LIGHT, (6, 4), set())"
   ]
  },
  {
   "cell_type": "code",
   "execution_count": null,
   "id": "a3ef97ba",
   "metadata": {},
   "outputs": [],
   "source": [
    "assert_flips_direction(Player.DARK, (0, 0), set())\n",
    "assert_flips_direction(Player.DARK, (2, 4), {Direction.S})\n",
    "assert_flips_direction(Player.DARK, (3, 5), {Direction.W})\n",
    "assert_flips_direction(Player.DARK, (4, 2), {Direction.E})\n",
    "assert_flips_direction(Player.DARK, (5, 2), set())\n",
    "assert_flips_direction(Player.DARK, (5, 3), {Direction.N})\n",
    "assert_flips_direction(Player.DARK, (5, 4), set())\n",
    "assert_flips_direction(Player.DARK, (6, 4), set())"
   ]
  },
  {
   "cell_type": "markdown",
   "id": "8ee4f380",
   "metadata": {},
   "source": [
    "\n",
    "## Mini-Workshop\n",
    "\n",
    "Erweitern Sie die Klasse `Board` um eine Methode\n",
    "`is_valid_move(self, player: Player, index: Index) -> bool`\n",
    "die genau dann `True` zurückgibt, wenn `index` eine gültiger Index für\n",
    "den nächsten Zug des Spielers `player` ist.\n",
    "\n",
    "Ein Index ist gültig, wenn\n",
    "- Er nicht schon besetzt ist,\n",
    "- Mindestens ein Stein des Gegenspielers durch den Zug umgedreht wird\n"
   ]
  },
  {
   "cell_type": "code",
   "execution_count": null,
   "id": "2d417932",
   "metadata": {
    "tags": [
     "code-along"
    ]
   },
   "outputs": [],
   "source": []
  },
  {
   "cell_type": "code",
   "execution_count": null,
   "id": "bc19c7cc",
   "metadata": {},
   "outputs": [],
   "source": [
    "def assert_valid_moves(player, valid_indices):\n",
    "    board = Board()\n",
    "    for row in range(8):\n",
    "        for col in range(8):\n",
    "            index = (row, col)\n",
    "            result = board.is_valid_move(player, index)\n",
    "            if index in valid_indices:\n",
    "                assert result, f\"Index {index} should be valid.\"\n",
    "            else:\n",
    "                assert not result, f\"Index {index} is valid?\""
   ]
  },
  {
   "cell_type": "code",
   "execution_count": null,
   "id": "cb1650a5",
   "metadata": {},
   "outputs": [],
   "source": [
    "print(Board())"
   ]
  },
  {
   "cell_type": "code",
   "execution_count": null,
   "id": "4d07e7c6",
   "metadata": {},
   "outputs": [],
   "source": [
    "valid_moves_for_light_player = {(2, 3), (3, 2), (4, 5), (5, 4)}\n",
    "assert_valid_moves(Player.LIGHT, valid_moves_for_light_player)"
   ]
  },
  {
   "cell_type": "code",
   "execution_count": null,
   "id": "68ba9f80",
   "metadata": {},
   "outputs": [],
   "source": [
    "valid_move_for_dark_player = {(2, 4), (3, 5), (4, 2), (5, 3)}\n",
    "assert_valid_moves(Player.DARK, valid_move_for_dark_player)"
   ]
  },
  {
   "cell_type": "markdown",
   "id": "04ccd675",
   "metadata": {},
   "source": [
    "\n",
    "## Mini-Workshop\n",
    "\n",
    "Erweitern Sie die Klasse `Board` um eine Methode\n",
    "`find_valid_moves(self, player: Player) -> set[Index]`,\n",
    "die alle für den Spieler `player` möglichen Züge zurückgibt.\n",
    "\n",
    "*Hinweis:* Das können Sie leicht mittels *Generate and Test* erreichen:\n",
    "Erzeugen Sie alle möglichen Züge und testen Sie dann für jeden Zug, ob\n",
    "er möglich ist."
   ]
  },
  {
   "cell_type": "code",
   "execution_count": null,
   "id": "b559e8e7",
   "metadata": {
    "tags": [
     "code-along"
    ]
   },
   "outputs": [],
   "source": []
  },
  {
   "cell_type": "code",
   "execution_count": null,
   "id": "d58411ff",
   "metadata": {
    "lines_to_next_cell": 2
   },
   "outputs": [],
   "source": [
    "board = Board()\n",
    "assert board.find_valid_moves(Player.LIGHT) == valid_moves_for_light_player\n",
    "assert board.find_valid_moves(Player.DARK) == valid_move_for_dark_player"
   ]
  },
  {
   "cell_type": "markdown",
   "id": "ffdc1268",
   "metadata": {
    "lines_to_next_cell": 2
   },
   "source": [
    "\n",
    "## Mini-Workshop\n",
    "\n",
    "Schreiben Sie eine Methode\n",
    "`play_move(self, player: Player, index: Index) -> None`,\n",
    "die den Zug von `player` auf das Feld `index` ausführt.\n",
    "Falls der Zug ungültig ist, soll eine Exception ausgelöst werden.\n",
    "Falls der Zug gültig ist, sollen alle Felder, die durch den Zug\n",
    "umgedreht werden von dieser Methode auf den korrekten Wert gesetzt werden.\n",
    "\n",
    "Schreiben Sie dazu geeignete Hilfsmethoden, damit `play_move` nicht zu\n",
    "viele Verantwortlichkeiten hat."
   ]
  },
  {
   "cell_type": "code",
   "execution_count": null,
   "id": "fcadf557",
   "metadata": {
    "tags": [
     "code-along"
    ]
   },
   "outputs": [],
   "source": []
  },
  {
   "cell_type": "code",
   "execution_count": null,
   "id": "b51d98ab",
   "metadata": {},
   "outputs": [],
   "source": [
    "def play_some_random_moves(n: int = 10):\n",
    "    board = Board()\n",
    "    player = Player.DARK\n",
    "    for _ in range(n):\n",
    "        print(board)\n",
    "        moves = board.find_valid_moves(player)\n",
    "        if moves:\n",
    "            move = sample(list(moves), 1)[0]\n",
    "            print(f\"Player {player} plays {move}.\")\n",
    "            board.play_move(player, move)\n",
    "        else:\n",
    "            print(f\"{player} has no more valid moves.\")\n",
    "        player = Player.LIGHT if player == Player.DARK else Player.DARK\n",
    "    print(board)"
   ]
  },
  {
   "cell_type": "code",
   "execution_count": null,
   "id": "d3616856",
   "metadata": {},
   "outputs": [],
   "source": [
    "play_some_random_moves()"
   ]
  }
 ],
 "metadata": {
  "jupytext": {
   "cell_metadata_json": true,
   "encoding": "# -*- coding: utf-8 -*-",
   "formats": "ipynb"
  },
  "kernelspec": {
   "display_name": "Python 3 (ipykernel)",
   "language": "python",
   "name": "python3"
  }
 },
 "nbformat": 4,
 "nbformat_minor": 5
}
