{
 "cells": [
  {
   "cell_type": "markdown",
   "id": "1ac1c2ae",
   "metadata": {
    "lang": "en",
    "lines_to_next_cell": 2,
    "slideshow": {
     "slide_type": "slide"
    }
   },
   "source": [
    "<img src=\"img/python-logo-notext.svg\"\n",
    "     style=\"display:block;margin:auto;width:10%\"/>\n",
    "<br>\n",
    "<div style=\"text-align:center; font-size:200%;\"><b>Comprehensions: More elegant iteration</b></div>\n",
    "<br/>\n",
    "<div style=\"text-align:center;\">Dr. Matthias Hölzl</div>"
   ]
  },
  {
   "cell_type": "markdown",
   "id": "7a0e735b",
   "metadata": {
    "lang": "en",
    "slideshow": {
     "slide_type": "slide"
    }
   },
   "source": [
    "# More elegant: list comprehension"
   ]
  },
  {
   "cell_type": "code",
   "execution_count": null,
   "id": "b1f91b06",
   "metadata": {
    "lines_to_next_cell": 2
   },
   "outputs": [],
   "source": [
    "result = []\n",
    "for item in [1, 2, 3, 4]:\n",
    "    result.append(item + 1)\n",
    "result"
   ]
  },
  {
   "cell_type": "code",
   "execution_count": null,
   "id": "c1f35f08",
   "metadata": {
    "lines_to_next_cell": 2,
    "tags": [
     "code-along"
    ]
   },
   "outputs": [],
   "source": [
    "my_list = [item + 1 for item in [1, 2, 3, 4]]\n",
    "my_list"
   ]
  },
  {
   "cell_type": "code",
   "execution_count": null,
   "id": "eb72d134",
   "metadata": {
    "lines_to_next_cell": 2,
    "slideshow": {
     "slide_type": "subslide"
    }
   },
   "outputs": [],
   "source": [
    "result = []\n",
    "for n in [1, 2, 3, 4]:\n",
    "    result.append(f\"Item {n}\")\n",
    "result"
   ]
  },
  {
   "cell_type": "code",
   "execution_count": null,
   "id": "8fe260a6",
   "metadata": {
    "lines_to_next_cell": 2,
    "tags": [
     "code-along"
    ]
   },
   "outputs": [],
   "source": [
    "[f\"Item {n}\" for n in [1, 2, 3, 4]]"
   ]
  },
  {
   "cell_type": "markdown",
   "id": "2fb9917f",
   "metadata": {
    "lang": "en",
    "slideshow": {
     "slide_type": "subslide"
    }
   },
   "source": [
    "## Mini workshop\n",
    "\n",
    " - Notebook `workshop_100_lists_part2`\n",
    " - Sections \"Square numbers with list comprehension\""
   ]
  },
  {
   "cell_type": "code",
   "execution_count": null,
   "id": "00b4e92d",
   "metadata": {
    "lines_to_next_cell": 2,
    "slideshow": {
     "slide_type": "subslide"
    }
   },
   "outputs": [],
   "source": [
    "result = []\n",
    "for item in [1, 2, 3, 4, 5, 6]:\n",
    "    if item % 2 == 0:\n",
    "        result.append(item)\n",
    "result"
   ]
  },
  {
   "cell_type": "code",
   "execution_count": null,
   "id": "6da8c244",
   "metadata": {
    "lines_to_next_cell": 2,
    "tags": [
     "code-along"
    ]
   },
   "outputs": [],
   "source": [
    "[item for item in [1, 2, 3, 4, 5, 6] if item % 2 == 0]"
   ]
  },
  {
   "cell_type": "code",
   "execution_count": null,
   "id": "0a05925a",
   "metadata": {
    "lines_to_next_cell": 2,
    "slideshow": {
     "slide_type": "subslide"
    }
   },
   "outputs": [],
   "source": [
    "result = []\n",
    "for item in [\"abc\", \"def\", \"asd\", \"qwe\", \"bab\"]:\n",
    "    if item[0] == \"a\":\n",
    "        result.append(item)\n",
    "result"
   ]
  },
  {
   "cell_type": "code",
   "execution_count": null,
   "id": "cfa8db58",
   "metadata": {
    "lines_to_next_cell": 2,
    "tags": [
     "code-along"
    ]
   },
   "outputs": [],
   "source": [
    "[item for item in [\"abc\", \"def\", \"asd\", \"qwe\"] if item[0] == \"a\"]"
   ]
  },
  {
   "cell_type": "code",
   "execution_count": null,
   "id": "c8dd688e",
   "metadata": {
    "lines_to_next_cell": 2,
    "slideshow": {
     "slide_type": "subslide"
    }
   },
   "outputs": [],
   "source": [
    "result = []\n",
    "for list_1 in [[1, 2], [\"a\", \"b\", \"c\"]]:\n",
    "    for item in list_1:\n",
    "        result.append(f\"Item {item} in {list_1}\")\n",
    "result"
   ]
  },
  {
   "cell_type": "code",
   "execution_count": null,
   "id": "13fa94ea",
   "metadata": {
    "lines_to_next_cell": 2,
    "tags": [
     "code-along"
    ]
   },
   "outputs": [],
   "source": [
    "[f\"Item {item} in {list_1}\" for list_1 in [[1, 2], [\"a\", \"b\", \"c\"]] for item in list_1]"
   ]
  },
  {
   "cell_type": "markdown",
   "id": "9107ad66",
   "metadata": {
    "lang": "en",
    "slideshow": {
     "slide_type": "subslide"
    }
   },
   "source": [
    "## Mini workshop\n",
    "\n",
    " - Notebook `workshop_100_lists_part2`\n",
    " - Sections \"Filtering with list comprehension\""
   ]
  }
 ],
 "metadata": {
  "jupytext": {
   "cell_metadata_json": true,
   "formats": "ipynb"
  },
  "kernelspec": {
   "display_name": "Python 3 (ipykernel)",
   "language": "python",
   "name": "python3"
  }
 },
 "nbformat": 4,
 "nbformat_minor": 5
}
