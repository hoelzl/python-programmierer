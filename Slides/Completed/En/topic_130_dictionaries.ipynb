{
 "cells": [
  {
   "cell_type": "markdown",
   "id": "c52a453e",
   "metadata": {
    "lang": "en",
    "lines_to_next_cell": 2,
    "slideshow": {
     "slide_type": "slide"
    }
   },
   "source": [
    "<img src=\"img/python-logo-notext.svg\"\n",
    "     style=\"display:block;margin:auto;width:10%\"/>\n",
    "<br>\n",
    "<div style=\"text-align:center; font-size:200%;\"><b>Dictionaries</b></div>\n",
    "<br/>\n",
    "<div style=\"text-align:center;\">Dr. Matthias Hölzl</div>"
   ]
  },
  {
   "cell_type": "markdown",
   "id": "f9641630",
   "metadata": {
    "lang": "en",
    "slideshow": {
     "slide_type": "slide"
    }
   },
   "source": [
    "## Dictionaries\n",
    "\n",
    "Indices in lists\n",
    "\n",
    "- can only be integer values\n",
    "- must span an interval from 0 to `len(list) - 1`\n",
    "\n",
    "Items in a list are sorted."
   ]
  },
  {
   "cell_type": "code",
   "execution_count": null,
   "id": "2b09daa5",
   "metadata": {
    "lines_to_next_cell": 2
   },
   "outputs": [],
   "source": [
    "non_sparse = [0] * 10\n",
    "non_sparse[0] = 1\n",
    "non_sparse[9] = 1\n",
    "non_sparse"
   ]
  },
  {
   "cell_type": "markdown",
   "id": "90f0ad71",
   "metadata": {
    "lang": "en",
    "slideshow": {
     "slide_type": "subslide"
    }
   },
   "source": [
    "Dictionaries are a data structure whose indidex values\n",
    "\n",
    " - can be of many different types:\n",
    "   - integer values\n",
    "   - Strings\n",
    "   - Tuple\n",
    "   - ...\n",
    "\n",
    "Unlike lists, the elements in a dictionary are not arranged in a specific order."
   ]
  },
  {
   "cell_type": "code",
   "execution_count": null,
   "id": "8e074bc4",
   "metadata": {
    "lines_to_next_cell": 2,
    "slideshow": {
     "slide_type": "subslide"
    }
   },
   "outputs": [],
   "source": [
    "sparse = {0: 1, 9: 1}"
   ]
  },
  {
   "cell_type": "code",
   "execution_count": null,
   "id": "2d7658db",
   "metadata": {
    "lines_to_next_cell": 2
   },
   "outputs": [],
   "source": [
    "sparse"
   ]
  },
  {
   "cell_type": "code",
   "execution_count": null,
   "id": "68d3ea48",
   "metadata": {
    "lines_to_next_cell": 2,
    "tags": [
     "code-along"
    ]
   },
   "outputs": [],
   "source": [
    "sparse[0]"
   ]
  },
  {
   "cell_type": "code",
   "execution_count": null,
   "id": "c8956e5a",
   "metadata": {
    "lines_to_next_cell": 2,
    "tags": [
     "code-along"
    ]
   },
   "outputs": [],
   "source": [
    "# Fehler\n",
    "# sparse[1]"
   ]
  },
  {
   "cell_type": "code",
   "execution_count": null,
   "id": "71720723",
   "metadata": {
    "lines_to_next_cell": 2,
    "tags": [
     "code-along"
    ]
   },
   "outputs": [],
   "source": [
    "sparse[12] = 3\n",
    "print(sparse[12])\n",
    "sparse"
   ]
  },
  {
   "cell_type": "code",
   "execution_count": null,
   "id": "ca613b08",
   "metadata": {
    "lines_to_next_cell": 2
   },
   "outputs": [],
   "source": [
    "translations = {\n",
    "    \"snake\": \"Schlange\",\n",
    "    \"bat\": \"Fledermaus\",\n",
    "    \"horse\": \"Hose\",\n",
    "    \"bird\": \"Vogel\",\n",
    "}"
   ]
  },
  {
   "cell_type": "code",
   "execution_count": null,
   "id": "303e37ba",
   "metadata": {
    "lines_to_next_cell": 2,
    "tags": [
     "code-along"
    ]
   },
   "outputs": [],
   "source": [
    "print(translations[\"snake\"])\n",
    "print(translations.get(\"bat\", \"<unbekannt>\"))\n",
    "print(translations.get(\"monkey\", \"Affe\"))\n",
    "print(translations.get(\"tree\"))"
   ]
  },
  {
   "cell_type": "code",
   "execution_count": null,
   "id": "46abd9ca",
   "metadata": {
    "lines_to_next_cell": 2,
    "tags": [
     "code-along"
    ]
   },
   "outputs": [],
   "source": [
    "# Fehler:\n",
    "# translations['monkey']\n",
    "translations"
   ]
  },
  {
   "cell_type": "code",
   "execution_count": null,
   "id": "cce079e1",
   "metadata": {
    "lines_to_next_cell": 2,
    "tags": [
     "code-along"
    ]
   },
   "outputs": [],
   "source": [
    "translations[\"horse\"] = \"Pferd\"\n",
    "translations[\"horse\"]"
   ]
  },
  {
   "cell_type": "code",
   "execution_count": null,
   "id": "3205df45",
   "metadata": {
    "lines_to_next_cell": 2,
    "tags": [
     "code-along"
    ]
   },
   "outputs": [],
   "source": [
    "del translations[\"bird\"]\n",
    "print(translations.get(\"bird\", \"<unbekannt>\"))\n",
    "print(translations.setdefault(\"bird\", \"Vogel\"))\n",
    "print(translations.setdefault(\"bird\", \"<auch unbekannt>\"))\n",
    "print(translations.get(\"bird\", \"<unbekannt>\"))"
   ]
  },
  {
   "cell_type": "code",
   "execution_count": null,
   "id": "fc16e4af",
   "metadata": {
    "lines_to_next_cell": 2,
    "tags": [
     "code-along"
    ]
   },
   "outputs": [],
   "source": [
    "for key in translations:\n",
    "    print(key, end=\" \")"
   ]
  },
  {
   "cell_type": "code",
   "execution_count": null,
   "id": "faa99211",
   "metadata": {
    "lines_to_next_cell": 2,
    "tags": [
     "code-along"
    ]
   },
   "outputs": [],
   "source": [
    "for key in translations.keys():\n",
    "    print(key, end=\" \")"
   ]
  },
  {
   "cell_type": "code",
   "execution_count": null,
   "id": "22d7d65c",
   "metadata": {
    "lines_to_next_cell": 2,
    "tags": [
     "code-along"
    ]
   },
   "outputs": [],
   "source": [
    "for val in translations.values():\n",
    "    print(val, end=\" \")"
   ]
  },
  {
   "cell_type": "code",
   "execution_count": null,
   "id": "7251bef6",
   "metadata": {
    "lines_to_next_cell": 2,
    "tags": [
     "code-along"
    ]
   },
   "outputs": [],
   "source": [
    "for item in translations.items():\n",
    "    print(item, end=\" \")"
   ]
  },
  {
   "cell_type": "code",
   "execution_count": null,
   "id": "d25f2680",
   "metadata": {
    "lines_to_next_cell": 2,
    "tags": [
     "code-along"
    ]
   },
   "outputs": [],
   "source": [
    "for key, val in translations.items():\n",
    "    print(\"Key:\", key, \"\\tValue:\", val)"
   ]
  },
  {
   "cell_type": "markdown",
   "id": "35eab1ba",
   "metadata": {
    "lang": "en",
    "slideshow": {
     "slide_type": "subslide"
    }
   },
   "source": [
    "## Mini workshop\n",
    "\n",
    "- Notebook `workshop_130_dictionaries`\n",
    "- Section \"Word frequencies\""
   ]
  },
  {
   "cell_type": "markdown",
   "id": "8c09e31b",
   "metadata": {
    "lang": "en",
    "slideshow": {
     "slide_type": "subslide"
    }
   },
   "source": [
    "## Mini workshop\n",
    "\n",
    " - Notebook `042x workshop todo list V0`\n",
    " - Section \"TODO list version 0\""
   ]
  }
 ],
 "metadata": {
  "jupytext": {
   "cell_metadata_json": true,
   "encoding": "# -*- coding: utf-8 -*-",
   "formats": "ipynb"
  },
  "kernelspec": {
   "display_name": "Python 3 (ipykernel)",
   "language": "python",
   "name": "python3"
  }
 },
 "nbformat": 4,
 "nbformat_minor": 5
}
