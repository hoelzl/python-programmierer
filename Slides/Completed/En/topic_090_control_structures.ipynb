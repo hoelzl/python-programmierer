{
 "cells": [
  {
   "cell_type": "markdown",
   "id": "d8a46401",
   "metadata": {
    "lang": "en",
    "slideshow": {
     "slide_type": "slide"
    }
   },
   "source": [
    "<img src=\"img/python-logo-notext.svg\"\n",
    "     style=\"display:block;margin:auto;width:10%\"/>\n",
    "<br>\n",
    "<div style=\"text-align:center; font-size:200%;\"><b>Control Structures</b></div>\n",
    "<br/>\n",
    "<div style=\"text-align:center;\">Dr. Matthias Hölzl</div>"
   ]
  },
  {
   "cell_type": "markdown",
   "id": "eb91bd89",
   "metadata": {
    "lang": "en",
    "slideshow": {
     "slide_type": "slide"
    }
   },
   "source": [
    "# `if` statement\n",
    "\n",
    "Recall:"
   ]
  },
  {
   "cell_type": "code",
   "execution_count": null,
   "id": "b10d44c0",
   "metadata": {},
   "outputs": [],
   "source": [
    "def ist_glückszahl(zahl):\n",
    "    print(\"Ist\", zahl, \"eine Glückszahl?\")\n",
    "    if zahl == 7:\n",
    "        print(\"Ja!\")\n",
    "    else:\n",
    "        print(\"Leider nein.\")\n",
    "    print(\"Wir wünschen Ihnen alles Gute.\")"
   ]
  },
  {
   "cell_type": "markdown",
   "id": "d91d92ad",
   "metadata": {
    "lang": "en",
    "slideshow": {
     "slide_type": "subslide"
    }
   },
   "source": [
    "## Extra mini workshop\n",
    "\n",
    " - Notebook `workshop_090_control_structures`\n",
    " - Even number section"
   ]
  },
  {
   "cell_type": "markdown",
   "id": "16072114",
   "metadata": {
    "lang": "en",
    "slideshow": {
     "slide_type": "subslide"
    }
   },
   "source": [
    "## Multiple branches\n",
    "\n",
    " - We want to write a game in which the player has to guess a number between 1 and\n",
    "   100.\n",
    " - After guessing, he gets the information whether his number is too high,\n",
    "   too low or correct.\n",
    " - In a later iteration we want to give the player multiple tries."
   ]
  },
  {
   "cell_type": "code",
   "execution_count": null,
   "id": "828ba41a",
   "metadata": {},
   "outputs": [],
   "source": [
    "def klassifiziere_zahl(geratene_zahl, lösung):\n",
    "    if geratene_zahl < lösung:\n",
    "        print(\"Die geratene Zahl ist zu klein!\")\n",
    "    elif geratene_zahl > lösung:\n",
    "        print(\"Die geratene Zahl ist zu groß!\")\n",
    "    else:\n",
    "        print(\"Sie haben gewonnen!\")"
   ]
  },
  {
   "cell_type": "code",
   "execution_count": null,
   "id": "f08ff4e8",
   "metadata": {
    "tags": [
     "code-along"
    ]
   },
   "outputs": [],
   "source": [
    "klassifiziere_zahl(10, 12)"
   ]
  },
  {
   "cell_type": "code",
   "execution_count": null,
   "id": "7bc908f8",
   "metadata": {
    "tags": [
     "code-along"
    ]
   },
   "outputs": [],
   "source": [
    "klassifiziere_zahl(14, 12)"
   ]
  },
  {
   "cell_type": "code",
   "execution_count": null,
   "id": "c05b36eb",
   "metadata": {
    "tags": [
     "code-along"
    ]
   },
   "outputs": [],
   "source": [
    "klassifiziere_zahl(12, 12)"
   ]
  },
  {
   "cell_type": "markdown",
   "id": "f3d5dc80",
   "metadata": {
    "lang": "en",
    "slideshow": {
     "slide_type": "subslide"
    }
   },
   "source": [
    "## Extra mini workshop\n",
    "\n",
    " - Notebook `workshop_090_control_structures`\n",
    " - Section \"Positive/Negative\""
   ]
  },
  {
   "cell_type": "markdown",
   "id": "390e7c84",
   "metadata": {
    "lang": "en",
    "slideshow": {
     "slide_type": "subslide"
    }
   },
   "source": [
    "## Structure of an `if` statement (complete):\n",
    "\n",
    "```python\n",
    "if <Bedingung 1>:\n",
    "    # Body that runs if condition 1 is true\n",
    "elif <Bedingung 2>:\n",
    "    # Body executed if condition 2 is true\n",
    "...\n",
    "else:\n",
    "    # Body that is executed if none of the conditions are true\n",
    "```\n",
    "- Only the `if` and the first body are necessary\n",
    "- If there is an `elif` or an `else`, the corresponding body may\n",
    "  not be empty"
   ]
  },
  {
   "cell_type": "markdown",
   "id": "603adb40",
   "metadata": {
    "lang": "en",
    "slideshow": {
     "slide_type": "subslide"
    }
   },
   "source": [
    "### Better classification\n",
    "\n",
    " We want to give the player a bit more information about how close they are to the\n",
    " correct solution:\n",
    "\n",
    " - The guessed number is way too small/too big if the difference is bigger than\n",
    "   10"
   ]
  },
  {
   "cell_type": "code",
   "execution_count": null,
   "id": "079637ae",
   "metadata": {
    "slideshow": {
     "slide_type": "subslide"
    }
   },
   "outputs": [],
   "source": [
    "def klassifiziere_zahl_2(geratene_zahl, lösung):\n",
    "    if geratene_zahl < lösung - 10:\n",
    "        print(\"Die geratene Zahl ist viel zu klein!\")\n",
    "    elif geratene_zahl < lösung:\n",
    "        print(\"Die geratene Zahl ist zu klein!\")\n",
    "    elif geratene_zahl > lösung + 10:\n",
    "        print(\"Die geratene Zahl ist viel zu groß!\")\n",
    "    elif geratene_zahl > lösung:\n",
    "        print(\"Die geratene Zahl ist zu groß!\")\n",
    "    else:\n",
    "        print(\"Sie haben gewonnen!\")"
   ]
  },
  {
   "cell_type": "code",
   "execution_count": null,
   "id": "fc2c3477",
   "metadata": {},
   "outputs": [],
   "source": [
    "klassifiziere_zahl_2(1, 12)"
   ]
  },
  {
   "cell_type": "code",
   "execution_count": null,
   "id": "690365e7",
   "metadata": {},
   "outputs": [],
   "source": [
    "klassifiziere_zahl_2(10, 12)"
   ]
  },
  {
   "cell_type": "code",
   "execution_count": null,
   "id": "a4df0be9",
   "metadata": {},
   "outputs": [],
   "source": [
    "klassifiziere_zahl_2(14, 12)"
   ]
  },
  {
   "cell_type": "code",
   "execution_count": null,
   "id": "23eef87c",
   "metadata": {},
   "outputs": [],
   "source": [
    "klassifiziere_zahl_2(24, 12)"
   ]
  },
  {
   "cell_type": "code",
   "execution_count": null,
   "id": "24f7bd5c",
   "metadata": {},
   "outputs": [],
   "source": [
    "klassifiziere_zahl_2(12, 12)"
   ]
  },
  {
   "cell_type": "markdown",
   "id": "b735f133",
   "metadata": {
    "lang": "en",
    "slideshow": {
     "slide_type": "subslide"
    }
   },
   "source": [
    "The order of the `if` and `elif` branches is important:"
   ]
  },
  {
   "cell_type": "code",
   "execution_count": null,
   "id": "40bb33a6",
   "metadata": {},
   "outputs": [],
   "source": [
    "def klassifiziere_zahl_3(geratene_zahl, lösung):\n",
    "    if geratene_zahl < lösung:\n",
    "        print(\"Die geratene Zahl ist zu klein!\")\n",
    "    elif geratene_zahl < lösung - 10:\n",
    "        print(\"Die geratene Zahl ist viel zu klein!\")\n",
    "    elif geratene_zahl > lösung:\n",
    "        print(\"Die geratene Zahl ist zu groß!\")\n",
    "    elif geratene_zahl > lösung + 10:\n",
    "        print(\"Die geratene Zahl ist viel zu groß!\")\n",
    "    else:\n",
    "        print(\"Sie haben gewonnen!\")"
   ]
  },
  {
   "cell_type": "code",
   "execution_count": null,
   "id": "296ecd8f",
   "metadata": {},
   "outputs": [],
   "source": [
    "klassifiziere_zahl_3(1, 12)"
   ]
  },
  {
   "cell_type": "code",
   "execution_count": null,
   "id": "ae6ea64d",
   "metadata": {},
   "outputs": [],
   "source": [
    "klassifiziere_zahl_3(100, 12)"
   ]
  },
  {
   "cell_type": "markdown",
   "id": "95b626dc",
   "metadata": {
    "lang": "en",
    "slideshow": {
     "slide_type": "slide"
    }
   },
   "source": [
    "## Return from an `if` statement\n",
    "\n",
    " The branches of an `if` statement can contain `return` statements to\n",
    " return a value from the enclosing function:"
   ]
  },
  {
   "cell_type": "code",
   "execution_count": null,
   "id": "01d4bdd1",
   "metadata": {
    "lines_to_next_cell": 2,
    "tags": [
     "code-along"
    ]
   },
   "outputs": [],
   "source": [
    "def ist_große_zahl(zahl):\n",
    "    if zahl > 10:\n",
    "        return True\n",
    "    else:\n",
    "        return False"
   ]
  },
  {
   "cell_type": "markdown",
   "id": "22a95007",
   "metadata": {
    "lang": "en",
    "slideshow": {
     "slide_type": "subslide"
    }
   },
   "source": [
    "## Mini workshop\n",
    "\n",
    " - Notebook `workshop_090_control_structures`\n",
    " - \"Signum\" section"
   ]
  },
  {
   "cell_type": "markdown",
   "id": "e3c75825",
   "metadata": {
    "lang": "en",
    "slideshow": {
     "slide_type": "slide"
    }
   },
   "source": [
    "# User input\n",
    "\n",
    " - The `input()` function allows the user to enter text.\n",
    " - Optionally, it can output an input prompt.\n",
    " - The function returns the text entered by the user as a string."
   ]
  },
  {
   "cell_type": "code",
   "execution_count": null,
   "id": "c40dc8fd",
   "metadata": {
    "lines_to_next_cell": 2
   },
   "outputs": [],
   "source": [
    "# input(\"What is your name? \")"
   ]
  },
  {
   "cell_type": "code",
   "execution_count": null,
   "id": "7aa9e026",
   "metadata": {
    "tags": [
     "code-along"
    ]
   },
   "outputs": [],
   "source": [
    "def query_name():\n",
    "    name = input(\"What is your name? \")\n",
    "    print(f\"You entered {name}\")"
   ]
  },
  {
   "cell_type": "code",
   "execution_count": null,
   "id": "d255eda4",
   "metadata": {},
   "outputs": [],
   "source": [
    "# query_name()"
   ]
  },
  {
   "cell_type": "markdown",
   "id": "fa3288aa",
   "metadata": {
    "lang": "en",
    "slideshow": {
     "slide_type": "subslide"
    }
   },
   "source": [
    "## Example: conversion of temperatures\n",
    "\n",
    "We want to write an application that will ask the user for a temperature\n",
    "in Fahrenheit and return the corresponding temperature in degrees Celsius."
   ]
  },
  {
   "cell_type": "code",
   "execution_count": null,
   "id": "e38831ce",
   "metadata": {
    "tags": [
     "code-along"
    ]
   },
   "outputs": [],
   "source": [
    "def konvertiere_fahrenheit_nach_celsius(fahrenheit):\n",
    "    return (fahrenheit - 32) * 5 / 9"
   ]
  },
  {
   "cell_type": "code",
   "execution_count": null,
   "id": "12126f22",
   "metadata": {
    "tags": [
     "code-along"
    ]
   },
   "outputs": [],
   "source": [
    "konvertiere_fahrenheit_nach_celsius(32)"
   ]
  },
  {
   "cell_type": "code",
   "execution_count": null,
   "id": "f5718339",
   "metadata": {
    "tags": [
     "code-along"
    ]
   },
   "outputs": [],
   "source": [
    "konvertiere_fahrenheit_nach_celsius(90)"
   ]
  },
  {
   "cell_type": "code",
   "execution_count": null,
   "id": "c8abdcbd",
   "metadata": {
    "slideshow": {
     "slide_type": "subslide"
    },
    "tags": [
     "code-along"
    ]
   },
   "outputs": [],
   "source": [
    "def temperaturkonverter_1():\n",
    "    fahrenheit = input(\"Bitte geben Sie die Temperatur in Fahrenheit ein: \")\n",
    "    celsius = konvertiere_fahrenheit_nach_celsius(float(fahrenheit))\n",
    "    print(f\"{fahrenheit}F sind {celsius}°C\")"
   ]
  },
  {
   "cell_type": "code",
   "execution_count": null,
   "id": "728fea98",
   "metadata": {
    "tags": [
     "code-along"
    ]
   },
   "outputs": [],
   "source": [
    "float(\"1.23\")"
   ]
  },
  {
   "cell_type": "code",
   "execution_count": null,
   "id": "64d325cb",
   "metadata": {
    "tags": [
     "code-along"
    ]
   },
   "outputs": [],
   "source": [
    "# temperaturkonverter_1()"
   ]
  },
  {
   "cell_type": "markdown",
   "id": "d8292e57",
   "metadata": {
    "lang": "en",
    "slideshow": {
     "slide_type": "subslide"
    }
   },
   "source": [
    "We can print a message if the user doesn't type anything (and\n",
    "make the output a little nicer):"
   ]
  },
  {
   "cell_type": "code",
   "execution_count": null,
   "id": "e2f124f4",
   "metadata": {
    "tags": [
     "code-along"
    ]
   },
   "outputs": [],
   "source": [
    "def temperaturkonverter_2():\n",
    "    fahrenheit = input(\"Bitte geben Sie die Temperatur in Fahrenheit ein: \")\n",
    "    if fahrenheit != \"\":\n",
    "        celsius = konvertiere_fahrenheit_nach_celsius(float(fahrenheit))\n",
    "        print(f\"{float(fahrenheit):.1f}F sind {celsius:.1f}°C\")\n",
    "    else:\n",
    "        print(\"Bitte geben Sie eine gültige Temperatur ein.\")"
   ]
  },
  {
   "cell_type": "code",
   "execution_count": null,
   "id": "7e79240f",
   "metadata": {
    "tags": [
     "code-along"
    ]
   },
   "outputs": [],
   "source": [
    "# temperaturkonverter_2()"
   ]
  },
  {
   "cell_type": "markdown",
   "id": "782942fa",
   "metadata": {
    "lang": "en",
    "slideshow": {
     "slide_type": "subslide"
    }
   },
   "source": [
    "## Mini workshop\n",
    "\n",
    " - Notebook `workshop_090_control_structures`\n",
    " - Section \"Conversion to Miles\""
   ]
  },
  {
   "cell_type": "code",
   "execution_count": null,
   "id": "ece4e7b1",
   "metadata": {
    "lines_to_next_cell": 2,
    "tags": [
     "code-along"
    ]
   },
   "outputs": [],
   "source": [
    "def temperaturkonverter_3():\n",
    "    fahrenheit = input(\"Bitte geben Sie die Temperatur in Fahrenheit ein: \")\n",
    "    if fahrenheit:\n",
    "        celsius = konvertiere_fahrenheit_nach_celsius(float(fahrenheit))\n",
    "        print(f\"{float(fahrenheit):.1f}F sind {celsius:.1f}°C\")\n",
    "    else:\n",
    "        print(\"Bitte geben Sie eine gültige Temperatur ein.\")"
   ]
  },
  {
   "cell_type": "code",
   "execution_count": null,
   "id": "c059cc96",
   "metadata": {
    "lines_to_next_cell": 2,
    "tags": [
     "code-along"
    ]
   },
   "outputs": [],
   "source": [
    "# temperaturkonverter_3()"
   ]
  },
  {
   "cell_type": "markdown",
   "id": "35b94f01",
   "metadata": {
    "lang": "en",
    "slideshow": {
     "slide_type": "slide"
    }
   },
   "source": [
    "# Truth Values: Truthiness\n",
    "\n",
    "The `if` statement can take any Python value as an argument,\n",
    "not just Boolean values.\n",
    "\n",
    " The following values ​​are considered *not true*\n",
    "\n",
    " - `None` and `False`\n",
    " - `0` and `0.0` (and null values ​​of other number types)\n",
    " - Empty strings, sequences and collections: ``\n",
    "\n",
    " All other values ​​are considered true."
   ]
  },
  {
   "cell_type": "code",
   "execution_count": null,
   "id": "0c452930",
   "metadata": {},
   "outputs": [],
   "source": [
    "if -1:\n",
    "    print(\"-1 ist wahr\")\n",
    "elif 0:\n",
    "    print(\"0 ist wahr\")\n",
    "else:\n",
    "    print(\"Alles ist falsch\")"
   ]
  },
  {
   "cell_type": "code",
   "execution_count": null,
   "id": "bf340f70",
   "metadata": {},
   "outputs": [],
   "source": [
    "if 0:\n",
    "    print(\"0 ist wahr\")\n",
    "else:\n",
    "    print(\"0 ist falsch\")"
   ]
  },
  {
   "cell_type": "code",
   "execution_count": null,
   "id": "60f7883c",
   "metadata": {},
   "outputs": [],
   "source": [
    "if \"\":\n",
    "    print(\"'' ist wahr\")\n",
    "else:\n",
    "    print(\"'' falsch\")"
   ]
  },
  {
   "cell_type": "code",
   "execution_count": null,
   "id": "07a6e567",
   "metadata": {},
   "outputs": [],
   "source": [
    "if print(\"Hallo\"):\n",
    "    print(\"None ist wahr\")\n",
    "else:\n",
    "    print(\"None ist falsch\")"
   ]
  },
  {
   "cell_type": "markdown",
   "id": "438bd58c",
   "metadata": {
    "lang": "en"
   },
   "source": [
    "## Mini workshop\n",
    "\n",
    " - Notebook `workshop_090_control_structures`\n",
    " - Section \"Conversion to Miles with Truthiness\""
   ]
  },
  {
   "cell_type": "markdown",
   "id": "94c4bbf0",
   "metadata": {
    "lang": "en"
   },
   "source": [
    "## Extra mini workshop\n",
    "\n",
    " - Notebook `workshop_090_control_structures`\n",
    " - Section \"Cinema Price\""
   ]
  },
  {
   "cell_type": "markdown",
   "id": "4df97b96",
   "metadata": {
    "lang": "en",
    "slideshow": {
     "slide_type": "slide"
    }
   },
   "source": [
    "# While loops\n",
    "\n",
    " Sometimes we want to run a part of a program over and over again:\n",
    "\n",
    " - Number of guesses until the right number is found\n",
    " - Physics simulation until the result is accurate enough\n",
    " - Processing of user input in interactive programs\n",
    "\n",
    " When we don't know the number of iterations upfront, we typically use a while loop to do that."
   ]
  },
  {
   "cell_type": "code",
   "execution_count": null,
   "id": "cd991c88",
   "metadata": {
    "tags": [
     "code-along"
    ]
   },
   "outputs": [],
   "source": [
    "number = 0\n",
    "while number < 3:\n",
    "    print(f\"Durchlauf {number}\")\n",
    "    number += 1  # <=="
   ]
  },
  {
   "cell_type": "code",
   "execution_count": null,
   "id": "0aff122d",
   "metadata": {},
   "outputs": [],
   "source": [
    "def führe_ein_experiment_aus(versuch_nr):\n",
    "    \"\"\"Führt ein Experiment aus\n",
    "    Gibt True zurück wenn das Experiment erfolgreich war, andernfalls False.\n",
    "    \"\"\"\n",
    "    print(f\"Versuch Nr. {versuch_nr} gestartet...\", end=\"\")\n",
    "    from random import random\n",
    "\n",
    "    if random() > 0.8:\n",
    "        print(\"Erfolg!\")\n",
    "        return True\n",
    "    else:\n",
    "        print(\"Fehlschlag.\")\n",
    "        return False"
   ]
  },
  {
   "cell_type": "code",
   "execution_count": null,
   "id": "26ebecc1",
   "metadata": {},
   "outputs": [],
   "source": [
    "versuch_nr = 0\n",
    "\n",
    "while not führe_ein_experiment_aus(versuch_nr):\n",
    "    versuch_nr += 1\n",
    "\n",
    "print(\"Wir haben einen erfolgreichen Versuch ausgeführt.\")"
   ]
  },
  {
   "cell_type": "markdown",
   "id": "d66a40c0",
   "metadata": {
    "lang": "en",
    "slideshow": {
     "slide_type": "slide"
    }
   },
   "source": [
    "## Terminating loops\n",
    "\n",
    "Sometimes it's easier to determine whether to terminate a loop inside the body\n",
    "rather than in the loop condition. With the `break` statement you can\n",
    "exit a loop early:"
   ]
  },
  {
   "cell_type": "code",
   "execution_count": null,
   "id": "90d52d45",
   "metadata": {},
   "outputs": [],
   "source": [
    "i = 1\n",
    "while i < 10:\n",
    "    print(i)\n",
    "    if i % 3 == 0:\n",
    "        break\n",
    "    i += 1\n",
    "print(\"Nach der Schleife:\", i)"
   ]
  },
  {
   "cell_type": "code",
   "execution_count": null,
   "id": "94530bee",
   "metadata": {
    "lines_to_next_cell": 2,
    "tags": [
     "code-along"
    ]
   },
   "outputs": [],
   "source": [
    "def annoy_user():\n",
    "    while True:\n",
    "        text = input(\"Say hi! \")\n",
    "        if text.lower() == \"hi\":\n",
    "            break\n",
    "        else:\n",
    "            print(\"You chose\", text)"
   ]
  },
  {
   "cell_type": "code",
   "execution_count": null,
   "id": "407e5732",
   "metadata": {
    "lines_to_next_cell": 2,
    "tags": [
     "code-along"
    ]
   },
   "outputs": [],
   "source": [
    "# annoy_user()"
   ]
  },
  {
   "cell_type": "markdown",
   "id": "2c5d3bb2",
   "metadata": {
    "lang": "en"
   },
   "source": [
    "## Mini workshop\n",
    "\n",
    " - Notebook `workshop_090_control_structures`\n",
    " - \"Question games\" section"
   ]
  }
 ],
 "metadata": {
  "jupytext": {
   "cell_metadata_json": true,
   "encoding": "# -*- coding: utf-8 -*-",
   "formats": "ipynb"
  },
  "kernelspec": {
   "display_name": "Python 3 (ipykernel)",
   "language": "python",
   "name": "python3"
  }
 },
 "nbformat": 4,
 "nbformat_minor": 5
}
