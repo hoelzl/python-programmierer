{
 "cells": [
  {
   "cell_type": "markdown",
   "id": "16c3f254",
   "metadata": {
    "lang": "en",
    "lines_to_next_cell": 2,
    "slideshow": {
     "slide_type": "slide"
    }
   },
   "source": [
    "<img src=\"img/python-logo-notext.svg\"\n",
    "     style=\"display:block;margin:auto;width:10%\"/>\n",
    "<br>\n",
    "<div style=\"text-align:center; font-size:200%;\"><b>Introduction to Python: Part 2</b></div>\n",
    "<br/>\n",
    "<div style=\"text-align:center;\">Dr. Matthias Hölzl</div>"
   ]
  },
  {
   "cell_type": "markdown",
   "id": "eba944f4",
   "metadata": {
    "lang": "en"
   },
   "source": [
    "# `if` statements\n",
    "\n",
    "- We want to write a program that determines if a number is a lucky number or not:\n",
    "    - 7 is a lucky number\n",
    "    - all other numbers are not.\n",
    "- We need the `if` statement for this:"
   ]
  },
  {
   "cell_type": "code",
   "execution_count": null,
   "id": "a137a698",
   "metadata": {
    "lang": "en",
    "lines_to_next_cell": 1,
    "slideshow": {
     "slide_type": "subslide"
    },
    "tags": [
     "code-along"
    ]
   },
   "outputs": [],
   "source": [
    "def is_lucky_number(number):\n",
    "    if number == 7:\n",
    "        print(\"lucky number\")\n",
    "    else:\n",
    "        print(\"not a lucky number\")"
   ]
  },
  {
   "cell_type": "code",
   "execution_count": null,
   "id": "ed50814d",
   "metadata": {
    "lang": "en",
    "tags": [
     "code-along"
    ]
   },
   "outputs": [],
   "source": [
    "is_lucky_number(1)"
   ]
  },
  {
   "cell_type": "code",
   "execution_count": null,
   "id": "01590b6a",
   "metadata": {
    "lang": "en",
    "tags": [
     "code-along"
    ]
   },
   "outputs": [],
   "source": [
    "is_lucky_number(7)"
   ]
  },
  {
   "cell_type": "code",
   "execution_count": null,
   "id": "b03466ae",
   "metadata": {
    "lang": "en",
    "lines_to_next_cell": 1,
    "slideshow": {
     "slide_type": "subslide"
    }
   },
   "outputs": [],
   "source": [
    "def is_lucky_number_1(number):\n",
    "    print(\"Is\", number, \"a lucky number?\")\n",
    "\n",
    "    if number == 7:\n",
    "        print(\"Yes!\")\n",
    "    else:\n",
    "        print(\"Unfortunately no.\")\n",
    "\n",
    "    print(\"We wish you all the best.\")"
   ]
  },
  {
   "cell_type": "code",
   "execution_count": null,
   "id": "a2e277af",
   "metadata": {
    "lang": "en"
   },
   "outputs": [],
   "source": [
    "is_lucky_number_1(1)"
   ]
  },
  {
   "cell_type": "code",
   "execution_count": null,
   "id": "758ac96b",
   "metadata": {
    "lang": "en"
   },
   "outputs": [],
   "source": [
    "is_lucky_number_1(7)"
   ]
  },
  {
   "cell_type": "code",
   "execution_count": null,
   "id": "b21cffb2",
   "metadata": {
    "lang": "en",
    "slideshow": {
     "slide_type": "subslide"
    }
   },
   "outputs": [],
   "source": [
    "def is_lucky_number_2(number):\n",
    "    if number == 7:\n",
    "        print(number, \"is a lucky number!\")\n",
    "        print(\"You must be having a great day!\")\n",
    "    else:\n",
    "        print(number, \"is unfortunately not a lucky number.\")\n",
    "        print(\"Maybe you should stay in bed today.\")\n",
    "        print(\"We wish you all the best anyway.\")"
   ]
  },
  {
   "cell_type": "code",
   "execution_count": null,
   "id": "0d346ac2",
   "metadata": {
    "lang": "en"
   },
   "outputs": [],
   "source": [
    "is_lucky_number_2(1)"
   ]
  },
  {
   "cell_type": "code",
   "execution_count": null,
   "id": "1c35184e",
   "metadata": {
    "lang": "en"
   },
   "outputs": [],
   "source": [
    "is_lucky_number_2(7)"
   ]
  },
  {
   "cell_type": "markdown",
   "id": "5ee1a38a",
   "metadata": {
    "lang": "en",
    "slideshow": {
     "slide_type": "subslide"
    }
   },
   "source": [
    "## Workshop\n",
    "\n",
    "- Notebook `workshop_060_introduction_part2`\n",
    "- Section \"Of legal age\"\n",
    "\n",
    "## Bonus Workshop\n",
    "- Section \"Shortened output\""
   ]
  },
  {
   "cell_type": "code",
   "execution_count": null,
   "id": "646a0293",
   "metadata": {
    "lang": "en",
    "slideshow": {
     "slide_type": "subslide"
    }
   },
   "outputs": [],
   "source": [
    "def one_sided_if(number):\n",
    "    print(\"Before\")\n",
    "\n",
    "    if number == 7:\n",
    "        print(number, \"is a lucky number\")\n",
    "        print(\"Congratulations!\")\n",
    "\n",
    "    print(\"After\")"
   ]
  },
  {
   "cell_type": "code",
   "execution_count": null,
   "id": "535947ec",
   "metadata": {
    "lang": "en"
   },
   "outputs": [],
   "source": [
    "one_sided_if(1)"
   ]
  },
  {
   "cell_type": "code",
   "execution_count": null,
   "id": "1aa76943",
   "metadata": {
    "lang": "en"
   },
   "outputs": [],
   "source": [
    "one_sided_if(7)"
   ]
  },
  {
   "cell_type": "markdown",
   "id": "2d1ebdf6",
   "metadata": {
    "lang": "en",
    "slideshow": {
     "slide_type": "slide"
    }
   },
   "source": [
    "# Lists"
   ]
  },
  {
   "cell_type": "code",
   "execution_count": null,
   "id": "1036ea4e",
   "metadata": {
    "lang": "en"
   },
   "outputs": [],
   "source": [
    "shopping_cart = [\"oatmeal\", \"coffee beans\", \"orange marmalade\"]"
   ]
  },
  {
   "cell_type": "markdown",
   "id": "d1ae9b41",
   "metadata": {
    "lang": "en"
   },
   "source": [
    "The type of lists is `list`."
   ]
  },
  {
   "cell_type": "code",
   "execution_count": null,
   "id": "78077b99",
   "metadata": {
    "lang": "en",
    "tags": [
     "code-along"
    ]
   },
   "outputs": [],
   "source": [
    "type(shopping_cart)"
   ]
  },
  {
   "cell_type": "markdown",
   "id": "e0c3c754",
   "metadata": {
    "lang": "en",
    "slideshow": {
     "slide_type": "slide"
    }
   },
   "source": [
    "## Creating lists\n",
    "\n",
    "- Lists are created by enclosing their elements in square brackets.\n",
    "- The elements of a list can be any Python values.\n",
    "- A list can contain elements of different types."
   ]
  },
  {
   "cell_type": "code",
   "execution_count": null,
   "id": "d2085d74",
   "metadata": {
    "slideshow": {
     "slide_type": "subslide"
    }
   },
   "outputs": [],
   "source": [
    "list_1 = [1, 2, 3, 4, 5]\n",
    "list_2 = [\"string1\", \"another string\"]"
   ]
  },
  {
   "cell_type": "code",
   "execution_count": null,
   "id": "71dfad24",
   "metadata": {
    "tags": [
     "code-along"
    ]
   },
   "outputs": [],
   "source": [
    "print(list_1)"
   ]
  },
  {
   "cell_type": "code",
   "execution_count": null,
   "id": "164a3841",
   "metadata": {
    "tags": [
     "code-along"
    ]
   },
   "outputs": [],
   "source": [
    "print(list_2)"
   ]
  },
  {
   "cell_type": "code",
   "execution_count": null,
   "id": "8658450b",
   "metadata": {
    "slideshow": {
     "slide_type": "subslide"
    },
    "tags": [
     "code-along"
    ]
   },
   "outputs": [],
   "source": [
    "list_3 = []\n",
    "list_4 = [1, 0.4, \"ein String\", True, None]"
   ]
  },
  {
   "cell_type": "code",
   "execution_count": null,
   "id": "296ad2b7",
   "metadata": {
    "tags": [
     "code-along"
    ]
   },
   "outputs": [],
   "source": [
    "print(list_3)"
   ]
  },
  {
   "cell_type": "code",
   "execution_count": null,
   "id": "520be2ea",
   "metadata": {
    "tags": [
     "code-along"
    ]
   },
   "outputs": [],
   "source": [
    "print(list_4)"
   ]
  },
  {
   "cell_type": "markdown",
   "id": "263c4784",
   "metadata": {
    "lang": "en",
    "slideshow": {
     "slide_type": "subslide"
    }
   },
   "source": [
    "The elements of a list do not have to be literals, it can also contain values of variables or expressions:"
   ]
  },
  {
   "cell_type": "code",
   "execution_count": null,
   "id": "63a2aae6",
   "metadata": {
    "lang": "en"
   },
   "outputs": [],
   "source": [
    "product_1 = \"oatmeal\"\n",
    "product_2 = \"coffee beans\"\n",
    "product_3 = \"orange marmalade\"\n",
    "shoopping_cart = [product_1, product_2, product_3, \"strawberry jam\"]\n",
    "shopping_cart"
   ]
  },
  {
   "cell_type": "markdown",
   "id": "fcd5cc75",
   "metadata": {
    "lang": "en",
    "slideshow": {
     "slide_type": "subslide"
    }
   },
   "source": [
    "Once a list has been created, it has no connection to the variables that were\n",
    "used in its construction:"
   ]
  },
  {
   "cell_type": "code",
   "execution_count": null,
   "id": "44f3ce98",
   "metadata": {
    "lang": "en",
    "tags": [
     "code-along"
    ]
   },
   "outputs": [],
   "source": [
    "product_1 = \"spelled flakes\"\n",
    "product_2 = \"teabag\"\n",
    "shopping_cart"
   ]
  },
  {
   "cell_type": "markdown",
   "id": "5fde9dc9",
   "metadata": {
    "lang": "en",
    "slideshow": {
     "slide_type": "subslide"
    }
   },
   "source": [
    "The `list()` function can be used to convert some other data types into lists.\n",
    "\n",
    "At the moment we only know lists and strings as possible argument types:"
   ]
  },
  {
   "cell_type": "code",
   "execution_count": null,
   "id": "c92569d1",
   "metadata": {
    "tags": [
     "code-along"
    ]
   },
   "outputs": [],
   "source": [
    "list(\"abc\")"
   ]
  },
  {
   "cell_type": "code",
   "execution_count": null,
   "id": "4a2dbe90",
   "metadata": {
    "tags": [
     "code-along"
    ]
   },
   "outputs": [],
   "source": [
    "list([1, 2, 3])"
   ]
  },
  {
   "cell_type": "markdown",
   "id": "5d95e3c6",
   "metadata": {
    "lang": "en",
    "slideshow": {
     "slide_type": "slide"
    }
   },
   "source": [
    "## Accessing list items"
   ]
  },
  {
   "cell_type": "code",
   "execution_count": null,
   "id": "3421cc3b",
   "metadata": {},
   "outputs": [],
   "source": [
    "number_list = [0, 1, 2, 3]"
   ]
  },
  {
   "cell_type": "code",
   "execution_count": null,
   "id": "f92124ed",
   "metadata": {
    "tags": [
     "code-along"
    ]
   },
   "outputs": [],
   "source": [
    "number_list[0]"
   ]
  },
  {
   "cell_type": "code",
   "execution_count": null,
   "id": "080df041",
   "metadata": {
    "tags": [
     "code-along"
    ]
   },
   "outputs": [],
   "source": [
    "number_list[3]"
   ]
  },
  {
   "cell_type": "code",
   "execution_count": null,
   "id": "bcd6a310",
   "metadata": {
    "tags": [
     "code-along"
    ]
   },
   "outputs": [],
   "source": [
    "number_list[-1]"
   ]
  },
  {
   "cell_type": "markdown",
   "id": "7f56bee3",
   "metadata": {
    "lang": "en",
    "slideshow": {
     "slide_type": "slide"
    }
   },
   "source": [
    "## Length of a list"
   ]
  },
  {
   "cell_type": "code",
   "execution_count": null,
   "id": "63830fd0",
   "metadata": {},
   "outputs": [],
   "source": [
    "number_list"
   ]
  },
  {
   "cell_type": "code",
   "execution_count": null,
   "id": "80d31a2a",
   "metadata": {
    "tags": [
     "code-along"
    ]
   },
   "outputs": [],
   "source": [
    "len(number_list)"
   ]
  },
  {
   "cell_type": "markdown",
   "id": "afb767f2",
   "metadata": {
    "lang": "en",
    "slideshow": {
     "slide_type": "slide"
    }
   },
   "source": [
    "## Modification of list entries"
   ]
  },
  {
   "cell_type": "code",
   "execution_count": null,
   "id": "94e96126",
   "metadata": {
    "tags": [
     "code-along"
    ]
   },
   "outputs": [],
   "source": [
    "number_list[1] = 10\n",
    "number_list"
   ]
  },
  {
   "cell_type": "markdown",
   "id": "b6a9e98f",
   "metadata": {
    "lang": "en",
    "slideshow": {
     "slide_type": "slide"
    }
   },
   "source": [
    "## Inserting and deleting items\n",
    "\n",
    "If possible elements should be inserted at the end of a list"
   ]
  },
  {
   "cell_type": "code",
   "execution_count": null,
   "id": "e076ed9d",
   "metadata": {
    "tags": [
     "code-along"
    ]
   },
   "outputs": [],
   "source": [
    "number_list.append(40)\n",
    "number_list"
   ]
  },
  {
   "cell_type": "code",
   "execution_count": null,
   "id": "24264fc2",
   "metadata": {
    "tags": [
     "code-along"
    ]
   },
   "outputs": [],
   "source": [
    "number_list.extend([50, 60])\n",
    "number_list"
   ]
  },
  {
   "cell_type": "code",
   "execution_count": null,
   "id": "a22481e2",
   "metadata": {
    "tags": [
     "code-along"
    ]
   },
   "outputs": [],
   "source": [
    "number_list.pop()\n",
    "number_list"
   ]
  },
  {
   "cell_type": "code",
   "execution_count": null,
   "id": "d1c2b378",
   "metadata": {
    "tags": [
     "code-along"
    ]
   },
   "outputs": [],
   "source": [
    "number_list.insert(1, 9)\n",
    "number_list"
   ]
  },
  {
   "cell_type": "code",
   "execution_count": null,
   "id": "b5fc5116",
   "metadata": {
    "tags": [
     "code-along"
    ]
   },
   "outputs": [],
   "source": [
    "number_list.pop(1)\n",
    "number_list"
   ]
  },
  {
   "cell_type": "code",
   "execution_count": null,
   "id": "5aea1824",
   "metadata": {
    "tags": [
     "code-along"
    ]
   },
   "outputs": [],
   "source": [
    "del number_list[1]\n",
    "number_list"
   ]
  },
  {
   "cell_type": "markdown",
   "id": "8477f81c",
   "metadata": {
    "lang": "en",
    "lines_to_next_cell": 2,
    "slideshow": {
     "slide_type": "subslide"
    }
   },
   "source": [
    "## Mini workshop\n",
    "\n",
    "- Notebook `workshop_100_lists_part2`\n",
    "- Section Colors"
   ]
  },
  {
   "cell_type": "markdown",
   "id": "ff12e786",
   "metadata": {
    "lang": "en",
    "slideshow": {
     "slide_type": "slide"
    }
   },
   "source": [
    "## Iteration over lists\n",
    "\n",
    "In Python, you can iterate over lists using the `for` loop.\n",
    "\n",
    "The `for` loop corresponds to the range-based for from C++,\n",
    "`for-in`/`for-of` from JavaScript or the `for-each` loop\n",
    "from Java, not the classic `for` loop\n",
    "from C, C++ or Java."
   ]
  },
  {
   "cell_type": "code",
   "execution_count": null,
   "id": "c98a9487",
   "metadata": {
    "slideshow": {
     "slide_type": "subslide"
    }
   },
   "outputs": [],
   "source": [
    "number_list = [0, 1, 2, 3, 4]\n",
    "number_list"
   ]
  },
  {
   "cell_type": "code",
   "execution_count": null,
   "id": "75346769",
   "metadata": {
    "tags": [
     "code-along"
    ]
   },
   "outputs": [],
   "source": [
    "for number in number_list:\n",
    "    print(\"Number is:\", number)"
   ]
  },
  {
   "cell_type": "markdown",
   "id": "07cb28cf",
   "metadata": {
    "lang": "en",
    "slideshow": {
     "slide_type": "subslide"
    }
   },
   "source": [
    "## Syntax of `for` loops\n",
    "\n",
    "```pythons\n",
    "for <element-var> in <liste>:\n",
    "    <rumpf>\n",
    "```"
   ]
  },
  {
   "cell_type": "markdown",
   "id": "2ec9c5fc",
   "metadata": {
    "lang": "en",
    "slideshow": {
     "slide_type": "subslide"
    }
   },
   "source": [
    "## Workshop\n",
    "\n",
    "- Notebook `workshop_060_introduction_part2`\n",
    "- Section \"Shopping list\""
   ]
  },
  {
   "cell_type": "code",
   "execution_count": null,
   "id": "5b30c6fc",
   "metadata": {},
   "outputs": [],
   "source": []
  }
 ],
 "metadata": {
  "jupytext": {
   "cell_metadata_json": true,
   "encoding": "# -*- coding: utf-8 -*-",
   "formats": "ipynb"
  },
  "kernelspec": {
   "display_name": "Python 3 (ipykernel)",
   "language": "python",
   "name": "python3"
  }
 },
 "nbformat": 4,
 "nbformat_minor": 5
}
