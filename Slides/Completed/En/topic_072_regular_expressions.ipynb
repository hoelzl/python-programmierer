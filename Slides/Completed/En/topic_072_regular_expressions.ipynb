{
 "cells": [
  {
   "cell_type": "markdown",
   "id": "3ee11f6f",
   "metadata": {
    "lang": "en",
    "slideshow": {
     "slide_type": "slide"
    }
   },
   "source": [
    "<img src=\"img/python-logo-notext.svg\"\n",
    "     style=\"display:block;margin:auto;width:10%\"/>\n",
    "<br>\n",
    "<div style=\"text-align:center; font-size:200%;\"><b>Regular Expressions</b></div>\n",
    "<br/>\n",
    "<div style=\"text-align:center;\">Dr. Matthias Hölzl</div>"
   ]
  },
  {
   "cell_type": "markdown",
   "id": "ca6f151c",
   "metadata": {
    "lang": "en",
    "slideshow": {
     "slide_type": "slide"
    }
   },
   "source": [
    "# Finding and replacing in strings"
   ]
  },
  {
   "cell_type": "code",
   "execution_count": null,
   "id": "289839ac",
   "metadata": {},
   "outputs": [],
   "source": [
    "tounge_twister = (\n",
    "    \"How much wood would a woodchuck chuck, if a woodchuck could chuck wood?\"\n",
    ")"
   ]
  },
  {
   "cell_type": "code",
   "execution_count": null,
   "id": "59b37d19",
   "metadata": {
    "tags": [
     "code-along"
    ]
   },
   "outputs": [],
   "source": [
    "first_index = tounge_twister.index(\"wood\")\n",
    "first_index"
   ]
  },
  {
   "cell_type": "code",
   "execution_count": null,
   "id": "af00a966",
   "metadata": {
    "tags": [
     "code-along"
    ]
   },
   "outputs": [],
   "source": [
    "tounge_twister[first_index : first_index + len(\"wood\")]"
   ]
  },
  {
   "cell_type": "code",
   "execution_count": null,
   "id": "2e27c32d",
   "metadata": {
    "tags": [
     "code-along"
    ]
   },
   "outputs": [],
   "source": [
    "print(first_index)\n",
    "print(first_index + len(\"wood\"))"
   ]
  },
  {
   "cell_type": "code",
   "execution_count": null,
   "id": "a96bac6d",
   "metadata": {
    "tags": [
     "code-along"
    ]
   },
   "outputs": [],
   "source": [
    "# tounge_twister[9:13] = \"coffee\""
   ]
  },
  {
   "cell_type": "code",
   "execution_count": null,
   "id": "d0c18b40",
   "metadata": {
    "tags": [
     "code-along"
    ]
   },
   "outputs": [],
   "source": [
    "tounge_twister[:9] + \"coffee\" + tounge_twister[13:]"
   ]
  },
  {
   "cell_type": "code",
   "execution_count": null,
   "id": "d58fc4f8",
   "metadata": {
    "tags": [
     "code-along"
    ]
   },
   "outputs": [],
   "source": [
    "tounge_twister.index(\"wood\", first_index + 1)"
   ]
  },
  {
   "cell_type": "markdown",
   "id": "cad59196",
   "metadata": {
    "lang": "en",
    "slideshow": {
     "slide_type": "slide"
    }
   },
   "source": [
    "# Finding with regular expressions"
   ]
  },
  {
   "cell_type": "code",
   "execution_count": null,
   "id": "6d0ad662",
   "metadata": {
    "tags": [
     "code-along"
    ]
   },
   "outputs": [],
   "source": [
    "import re"
   ]
  },
  {
   "cell_type": "code",
   "execution_count": null,
   "id": "f822cbbe",
   "metadata": {
    "tags": [
     "code-along"
    ]
   },
   "outputs": [],
   "source": [
    "re.findall(\"wood\", tounge_twister)"
   ]
  },
  {
   "cell_type": "code",
   "execution_count": null,
   "id": "d2b73f27",
   "metadata": {
    "tags": [
     "code-along"
    ]
   },
   "outputs": [],
   "source": [
    "result = re.search(\"wood\", tounge_twister)\n",
    "result"
   ]
  },
  {
   "cell_type": "code",
   "execution_count": null,
   "id": "ef8d7c52",
   "metadata": {
    "tags": [
     "code-along"
    ]
   },
   "outputs": [],
   "source": [
    "start, end = result.span()\n",
    "print(\"start:\", start)\n",
    "print(\"end:\", end)"
   ]
  },
  {
   "cell_type": "code",
   "execution_count": null,
   "id": "42fd23e1",
   "metadata": {
    "tags": [
     "code-along"
    ]
   },
   "outputs": [],
   "source": [
    "result.start()"
   ]
  },
  {
   "cell_type": "code",
   "execution_count": null,
   "id": "65ddeac9",
   "metadata": {
    "tags": [
     "code-along"
    ]
   },
   "outputs": [],
   "source": [
    "result.end()"
   ]
  },
  {
   "cell_type": "code",
   "execution_count": null,
   "id": "6c28e777",
   "metadata": {
    "tags": [
     "code-along"
    ]
   },
   "outputs": [],
   "source": [
    "result = re.search(\"wood\", tounge_twister[end:])\n",
    "result"
   ]
  },
  {
   "cell_type": "code",
   "execution_count": null,
   "id": "6dcae9d5",
   "metadata": {
    "tags": [
     "code-along"
    ]
   },
   "outputs": [],
   "source": [
    "tounge_twister[end:][result.start() :]"
   ]
  },
  {
   "cell_type": "markdown",
   "id": "a3e3ba54",
   "metadata": {
    "lang": "en",
    "slideshow": {
     "slide_type": "slide"
    }
   },
   "source": [
    "# Replacing with regular expressions"
   ]
  },
  {
   "cell_type": "code",
   "execution_count": null,
   "id": "837b8f1c",
   "metadata": {
    "tags": [
     "code-along"
    ]
   },
   "outputs": [],
   "source": [
    "re.sub(\"wood\", \"coffee\", tounge_twister)"
   ]
  },
  {
   "cell_type": "code",
   "execution_count": null,
   "id": "56851513",
   "metadata": {
    "tags": [
     "code-along"
    ]
   },
   "outputs": [],
   "source": [
    "re.sub(\"wood \", \"coffee \", tounge_twister)"
   ]
  },
  {
   "cell_type": "code",
   "execution_count": null,
   "id": "14b50861",
   "metadata": {
    "tags": [
     "code-along"
    ]
   },
   "outputs": [],
   "source": [
    "re.sub(\"wood\\\\W\", \"coffee\", tounge_twister)"
   ]
  },
  {
   "cell_type": "code",
   "execution_count": null,
   "id": "d8484b4f",
   "metadata": {
    "tags": [
     "code-along"
    ]
   },
   "outputs": [],
   "source": [
    "re.sub(\"wood(\\\\W)\", \"coffee\\\\1\", tounge_twister)"
   ]
  },
  {
   "cell_type": "code",
   "execution_count": null,
   "id": "ad59b97d",
   "metadata": {
    "tags": [
     "code-along"
    ]
   },
   "outputs": [],
   "source": [
    "re.sub(r\"wood(\\W)\", r\"coffee\\1\", tounge_twister)"
   ]
  },
  {
   "cell_type": "code",
   "execution_count": null,
   "id": "37795b91",
   "metadata": {
    "tags": [
     "code-along"
    ]
   },
   "outputs": [],
   "source": [
    "wood_rx = re.compile(\"wood\")\n",
    "type(wood_rx)"
   ]
  },
  {
   "cell_type": "code",
   "execution_count": null,
   "id": "fe138c21",
   "metadata": {
    "tags": [
     "code-along"
    ]
   },
   "outputs": [],
   "source": [
    "wood_rx.findall(tounge_twister)"
   ]
  },
  {
   "cell_type": "code",
   "execution_count": null,
   "id": "6ae11a38",
   "metadata": {
    "tags": [
     "code-along"
    ]
   },
   "outputs": [],
   "source": [
    "wood_rx.search(tounge_twister)"
   ]
  },
  {
   "cell_type": "code",
   "execution_count": null,
   "id": "97038042",
   "metadata": {
    "tags": [
     "code-along"
    ]
   },
   "outputs": [],
   "source": [
    "wood_rx.search(tounge_twister, 13)"
   ]
  },
  {
   "cell_type": "code",
   "execution_count": null,
   "id": "a3e0951b",
   "metadata": {
    "tags": [
     "code-along"
    ]
   },
   "outputs": [],
   "source": [
    "wood_rx2 = re.compile(r\"\\bwood\\b\")"
   ]
  },
  {
   "cell_type": "code",
   "execution_count": null,
   "id": "f22152f4",
   "metadata": {
    "lines_to_next_cell": 1,
    "tags": [
     "code-along"
    ]
   },
   "outputs": [],
   "source": [
    "wood_rx2.sub(r\"coffee\", tounge_twister)"
   ]
  },
  {
   "cell_type": "code",
   "execution_count": null,
   "id": "252645cd",
   "metadata": {
    "lines_to_next_cell": 1,
    "tags": [
     "code-along"
    ]
   },
   "outputs": [],
   "source": [
    "def annotate(match):\n",
    "    return f\"{match.group()}[{match.start()}-{match.end()}]\""
   ]
  },
  {
   "cell_type": "code",
   "execution_count": null,
   "id": "46bb4044",
   "metadata": {
    "tags": [
     "code-along"
    ]
   },
   "outputs": [],
   "source": [
    "wood_rx2.sub(annotate, tounge_twister)"
   ]
  },
  {
   "cell_type": "code",
   "execution_count": null,
   "id": "bba14c65",
   "metadata": {
    "tags": [
     "code-along"
    ]
   },
   "outputs": [],
   "source": [
    "four_letter_word_rx = re.compile(r\"\\b\\w{4}\\b\")"
   ]
  },
  {
   "cell_type": "code",
   "execution_count": null,
   "id": "02af5052",
   "metadata": {
    "tags": [
     "code-along"
    ]
   },
   "outputs": [],
   "source": [
    "four_letter_word_rx.sub(\"XXXX\", tounge_twister)"
   ]
  },
  {
   "cell_type": "code",
   "execution_count": null,
   "id": "bb032a80",
   "metadata": {
    "lines_to_next_cell": 1,
    "tags": [
     "code-along"
    ]
   },
   "outputs": [],
   "source": [
    "any_length_rx = re.compile(r\"\\w*\")"
   ]
  },
  {
   "cell_type": "code",
   "execution_count": null,
   "id": "276ec917",
   "metadata": {
    "lines_to_next_cell": 1,
    "tags": [
     "code-along"
    ]
   },
   "outputs": [],
   "source": [
    "def x_out(match):\n",
    "    return \"X\" * (match.end() - match.start())"
   ]
  },
  {
   "cell_type": "code",
   "execution_count": null,
   "id": "64398d5c",
   "metadata": {
    "tags": [
     "code-along"
    ]
   },
   "outputs": [],
   "source": [
    "any_length_rx.sub(x_out, tounge_twister)"
   ]
  },
  {
   "cell_type": "code",
   "execution_count": null,
   "id": "0ba5cc90",
   "metadata": {
    "tags": [
     "code-along"
    ]
   },
   "outputs": [],
   "source": [
    "short_word_rx = re.compile(r\"\\b\\w{1,4}\\b\")"
   ]
  },
  {
   "cell_type": "code",
   "execution_count": null,
   "id": "2d42a16a",
   "metadata": {
    "tags": [
     "code-along"
    ]
   },
   "outputs": [],
   "source": [
    "short_word_rx.sub(lambda m: \"X\" * len(m.group()), tounge_twister)"
   ]
  },
  {
   "cell_type": "code",
   "execution_count": null,
   "id": "d0624322",
   "metadata": {
    "tags": [
     "code-along"
    ]
   },
   "outputs": [],
   "source": [
    "long_word_rx = re.compile(r\"\\b\\w{5,}\\b\")"
   ]
  },
  {
   "cell_type": "code",
   "execution_count": null,
   "id": "86c55a64",
   "metadata": {
    "tags": [
     "code-along"
    ]
   },
   "outputs": [],
   "source": [
    "long_word_rx.sub(lambda m: m.group().upper(), tounge_twister)"
   ]
  },
  {
   "cell_type": "code",
   "execution_count": null,
   "id": "18dcdafb",
   "metadata": {
    "tags": [
     "code-along"
    ]
   },
   "outputs": [],
   "source": [
    "long_word_rx.search(tounge_twister)"
   ]
  },
  {
   "cell_type": "code",
   "execution_count": null,
   "id": "d27626a5",
   "metadata": {
    "tags": [
     "code-along"
    ]
   },
   "outputs": [],
   "source": [
    "long_word_rx.search(\"To be or not to be?\")"
   ]
  },
  {
   "cell_type": "code",
   "execution_count": null,
   "id": "4741246d",
   "metadata": {
    "tags": [
     "code-along"
    ]
   },
   "outputs": [],
   "source": [
    "long_word_rx.search(\"To be or not to be?\") is None"
   ]
  },
  {
   "cell_type": "code",
   "execution_count": null,
   "id": "31630572",
   "metadata": {
    "tags": [
     "code-along"
    ]
   },
   "outputs": [],
   "source": [
    "double_vocal_rx = re.compile(r\"\\w*([aeiou]{2})\\w*\")"
   ]
  },
  {
   "cell_type": "code",
   "execution_count": null,
   "id": "20c2f8e3",
   "metadata": {
    "tags": [
     "code-along"
    ]
   },
   "outputs": [],
   "source": [
    "match = double_vocal_rx.search(tounge_twister)\n",
    "match"
   ]
  },
  {
   "cell_type": "code",
   "execution_count": null,
   "id": "c07d9ec8",
   "metadata": {
    "tags": [
     "code-along"
    ]
   },
   "outputs": [],
   "source": [
    "match.group(0)"
   ]
  },
  {
   "cell_type": "code",
   "execution_count": null,
   "id": "8a383367",
   "metadata": {
    "tags": [
     "code-along"
    ]
   },
   "outputs": [],
   "source": [
    "match.group(1)"
   ]
  },
  {
   "cell_type": "code",
   "execution_count": null,
   "id": "a8cf338f",
   "metadata": {
    "tags": [
     "code-along"
    ]
   },
   "outputs": [],
   "source": [
    "match = double_vocal_rx.search(tounge_twister, 13)\n",
    "match"
   ]
  },
  {
   "cell_type": "code",
   "execution_count": null,
   "id": "f7e14170",
   "metadata": {
    "tags": [
     "code-along"
    ]
   },
   "outputs": [],
   "source": [
    "match.group(0)"
   ]
  },
  {
   "cell_type": "code",
   "execution_count": null,
   "id": "d2e832bd",
   "metadata": {
    "tags": [
     "code-along"
    ]
   },
   "outputs": [],
   "source": [
    "match.group(1)"
   ]
  },
  {
   "cell_type": "code",
   "execution_count": null,
   "id": "1105b598",
   "metadata": {
    "tags": [
     "code-along"
    ]
   },
   "outputs": [],
   "source": [
    "email_rx = re.compile(r\"([\\w._+-]+)@([\\w._+-]+)\", re.IGNORECASE)"
   ]
  },
  {
   "cell_type": "code",
   "execution_count": null,
   "id": "780ff9fd",
   "metadata": {
    "tags": [
     "code-along"
    ]
   },
   "outputs": [],
   "source": [
    "match = email_rx.match(\"joe.cool@people.example.com\")"
   ]
  },
  {
   "cell_type": "code",
   "execution_count": null,
   "id": "f1af66d1",
   "metadata": {
    "tags": [
     "code-along"
    ]
   },
   "outputs": [],
   "source": [
    "match.group(0, 1, 2)"
   ]
  },
  {
   "cell_type": "code",
   "execution_count": null,
   "id": "9d20283f",
   "metadata": {
    "tags": [
     "code-along"
    ]
   },
   "outputs": [],
   "source": [
    "email_rx.match(\"Email: joe.cool@people.example.com\") is None"
   ]
  },
  {
   "cell_type": "code",
   "execution_count": null,
   "id": "cda73155",
   "metadata": {
    "tags": [
     "code-along"
    ]
   },
   "outputs": [],
   "source": [
    "match = email_rx.match(\"joe-cool+123@my_domain.example.com or something\")"
   ]
  },
  {
   "cell_type": "code",
   "execution_count": null,
   "id": "85b22843",
   "metadata": {
    "tags": [
     "code-along"
    ]
   },
   "outputs": [],
   "source": [
    "match.group(0, 1, 2)"
   ]
  },
  {
   "cell_type": "code",
   "execution_count": null,
   "id": "9581a988",
   "metadata": {
    "tags": [
     "code-along"
    ]
   },
   "outputs": [],
   "source": [
    "match = email_rx.fullmatch(\"joe-cool+123@my_domain.example.com\")"
   ]
  },
  {
   "cell_type": "code",
   "execution_count": null,
   "id": "65cbeb38",
   "metadata": {
    "tags": [
     "code-along"
    ]
   },
   "outputs": [],
   "source": [
    "match.group(0, 1, 2)"
   ]
  },
  {
   "cell_type": "code",
   "execution_count": null,
   "id": "279ad3bf",
   "metadata": {
    "tags": [
     "code-along"
    ]
   },
   "outputs": [],
   "source": [
    "email_rx.fullmatch(\"joe-cool+123@my_domain.example.com or something\")"
   ]
  }
 ],
 "metadata": {
  "jupytext": {
   "cell_metadata_json": true,
   "encoding": "# -*- coding: utf-8 -*-",
   "formats": "ipynb"
  },
  "kernelspec": {
   "display_name": "Python 3 (ipykernel)",
   "language": "python",
   "name": "python3"
  }
 },
 "nbformat": 4,
 "nbformat_minor": 5
}
