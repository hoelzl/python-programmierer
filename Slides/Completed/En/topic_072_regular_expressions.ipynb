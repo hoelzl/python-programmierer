{
 "cells": [
  {
   "cell_type": "markdown",
   "id": "eb6d8a99",
   "metadata": {
    "lang": "en",
    "slideshow": {
     "slide_type": "slide"
    }
   },
   "source": [
    "<img src=\"img/python-logo-notext.svg\"\n",
    "     style=\"display:block;margin:auto;width:10%\"/>\n",
    "<br>\n",
    "<div style=\"text-align:center; font-size:200%;\"><b>Regular Expressions</b></div>\n",
    "<br/>\n",
    "<div style=\"text-align:center;\">Dr. Matthias Hölzl</div>"
   ]
  },
  {
   "cell_type": "markdown",
   "id": "f67915a8",
   "metadata": {
    "lang": "en",
    "slideshow": {
     "slide_type": "slide"
    }
   },
   "source": [
    "# Finding and replacing in strings"
   ]
  },
  {
   "cell_type": "code",
   "execution_count": null,
   "id": "98c2d9e3",
   "metadata": {},
   "outputs": [],
   "source": [
    "tounge_twister = (\n",
    "    \"How much wood would a woodchuck chuck, if a woodchuck could chuck wood?\"\n",
    ")"
   ]
  },
  {
   "cell_type": "code",
   "execution_count": null,
   "id": "5b0b1f85",
   "metadata": {
    "tags": [
     "code-along"
    ]
   },
   "outputs": [],
   "source": [
    "first_index = tounge_twister.index(\"wood\")\n",
    "first_index"
   ]
  },
  {
   "cell_type": "code",
   "execution_count": null,
   "id": "dbb918ab",
   "metadata": {
    "tags": [
     "code-along"
    ]
   },
   "outputs": [],
   "source": [
    "tounge_twister[first_index : first_index + len(\"wood\")]"
   ]
  },
  {
   "cell_type": "code",
   "execution_count": null,
   "id": "05fc9b58",
   "metadata": {
    "tags": [
     "code-along"
    ]
   },
   "outputs": [],
   "source": [
    "print(first_index)\n",
    "print(first_index + len(\"wood\"))"
   ]
  },
  {
   "cell_type": "code",
   "execution_count": null,
   "id": "f2b7ecbc",
   "metadata": {
    "tags": [
     "code-along"
    ]
   },
   "outputs": [],
   "source": [
    "# tounge_twister[9:13] = \"coffee\""
   ]
  },
  {
   "cell_type": "code",
   "execution_count": null,
   "id": "ebd8bc1f",
   "metadata": {
    "tags": [
     "code-along"
    ]
   },
   "outputs": [],
   "source": [
    "tounge_twister[:9] + \"coffee\" + tounge_twister[13:]"
   ]
  },
  {
   "cell_type": "code",
   "execution_count": null,
   "id": "c109915d",
   "metadata": {
    "tags": [
     "code-along"
    ]
   },
   "outputs": [],
   "source": [
    "tounge_twister.index(\"wood\", first_index + 1)"
   ]
  },
  {
   "cell_type": "markdown",
   "id": "6c5f2bd7",
   "metadata": {
    "lang": "en",
    "slideshow": {
     "slide_type": "slide"
    }
   },
   "source": [
    "# Finding with regular expressions"
   ]
  },
  {
   "cell_type": "code",
   "execution_count": null,
   "id": "919f7453",
   "metadata": {
    "tags": [
     "code-along"
    ]
   },
   "outputs": [],
   "source": [
    "import re"
   ]
  },
  {
   "cell_type": "code",
   "execution_count": null,
   "id": "6a3811ae",
   "metadata": {
    "tags": [
     "code-along"
    ]
   },
   "outputs": [],
   "source": [
    "re.findall(\"wood\", tounge_twister)"
   ]
  },
  {
   "cell_type": "code",
   "execution_count": null,
   "id": "eaa586d3",
   "metadata": {
    "tags": [
     "code-along"
    ]
   },
   "outputs": [],
   "source": [
    "result = re.search(\"wood\", tounge_twister)\n",
    "result"
   ]
  },
  {
   "cell_type": "code",
   "execution_count": null,
   "id": "e33a13e9",
   "metadata": {
    "tags": [
     "code-along"
    ]
   },
   "outputs": [],
   "source": [
    "start, end = result.span()\n",
    "print(\"start:\", start)\n",
    "print(\"end:\", end)"
   ]
  },
  {
   "cell_type": "code",
   "execution_count": null,
   "id": "4a1170e1",
   "metadata": {
    "tags": [
     "code-along"
    ]
   },
   "outputs": [],
   "source": [
    "result.start()"
   ]
  },
  {
   "cell_type": "code",
   "execution_count": null,
   "id": "a2d4b15b",
   "metadata": {
    "tags": [
     "code-along"
    ]
   },
   "outputs": [],
   "source": [
    "result.end()"
   ]
  },
  {
   "cell_type": "code",
   "execution_count": null,
   "id": "8de2f60b",
   "metadata": {
    "tags": [
     "code-along"
    ]
   },
   "outputs": [],
   "source": [
    "result = re.search(\"wood\", tounge_twister[end:])\n",
    "result"
   ]
  },
  {
   "cell_type": "code",
   "execution_count": null,
   "id": "df556dc9",
   "metadata": {
    "tags": [
     "code-along"
    ]
   },
   "outputs": [],
   "source": [
    "tounge_twister[end:][result.start():]"
   ]
  },
  {
   "cell_type": "code",
   "execution_count": null,
   "id": "b6cfb19d",
   "metadata": {
    "tags": [
     "code-along"
    ]
   },
   "outputs": [],
   "source": [
    "re.sub(\"wood\", \"coffee\", tounge_twister)"
   ]
  },
  {
   "cell_type": "code",
   "execution_count": null,
   "id": "7ce8854f",
   "metadata": {
    "tags": [
     "code-along"
    ]
   },
   "outputs": [],
   "source": [
    "re.sub(\"wood \", \"coffee \", tounge_twister)"
   ]
  },
  {
   "cell_type": "code",
   "execution_count": null,
   "id": "f2dc6e7e",
   "metadata": {
    "tags": [
     "code-along"
    ]
   },
   "outputs": [],
   "source": [
    "re.sub(\"wood\\\\W\", \"coffee\", tounge_twister)"
   ]
  },
  {
   "cell_type": "code",
   "execution_count": null,
   "id": "37e8f2fa",
   "metadata": {
    "tags": [
     "code-along"
    ]
   },
   "outputs": [],
   "source": [
    "re.sub(\"wood(\\\\W)\", \"coffee\\\\1\", tounge_twister)"
   ]
  },
  {
   "cell_type": "code",
   "execution_count": null,
   "id": "275a0012",
   "metadata": {
    "tags": [
     "code-along"
    ]
   },
   "outputs": [],
   "source": [
    "re.sub(r\"wood(\\W)\", r\"coffee\\1\", tounge_twister)"
   ]
  },
  {
   "cell_type": "code",
   "execution_count": null,
   "id": "7b280e38",
   "metadata": {
    "tags": [
     "code-along"
    ]
   },
   "outputs": [],
   "source": [
    "wood_rx = re.compile(\"wood\")\n",
    "type(wood_rx)"
   ]
  },
  {
   "cell_type": "code",
   "execution_count": null,
   "id": "efb26b8e",
   "metadata": {
    "tags": [
     "code-along"
    ]
   },
   "outputs": [],
   "source": [
    "wood_rx.findall(tounge_twister)"
   ]
  },
  {
   "cell_type": "code",
   "execution_count": null,
   "id": "07a61651",
   "metadata": {
    "tags": [
     "code-along"
    ]
   },
   "outputs": [],
   "source": [
    "wood_rx.search(tounge_twister)"
   ]
  },
  {
   "cell_type": "code",
   "execution_count": null,
   "id": "815eb2ce",
   "metadata": {
    "tags": [
     "code-along"
    ]
   },
   "outputs": [],
   "source": [
    "wood_rx.search(tounge_twister, 13)"
   ]
  },
  {
   "cell_type": "code",
   "execution_count": null,
   "id": "9742e152",
   "metadata": {
    "tags": [
     "code-along"
    ]
   },
   "outputs": [],
   "source": [
    "wood_rx2 = re.compile(r\"wood(\\W)\")"
   ]
  },
  {
   "cell_type": "code",
   "execution_count": null,
   "id": "67eb6073",
   "metadata": {
    "tags": [
     "code-along"
    ]
   },
   "outputs": [],
   "source": [
    "wood_rx2.sub(r\"coffee\\1\", tounge_twister)"
   ]
  },
  {
   "cell_type": "code",
   "execution_count": null,
   "id": "17eb77e5",
   "metadata": {
    "tags": [
     "code-along"
    ]
   },
   "outputs": [],
   "source": []
  }
 ],
 "metadata": {
  "jupytext": {
   "cell_metadata_json": true,
   "encoding": "# -*- coding: utf-8 -*-",
   "formats": "ipynb"
  },
  "kernelspec": {
   "display_name": "Python 3 (ipykernel)",
   "language": "python",
   "name": "python3"
  }
 },
 "nbformat": 4,
 "nbformat_minor": 5
}
