{
 "cells": [
  {
   "cell_type": "markdown",
   "id": "961540bd",
   "metadata": {
    "lang": "en",
    "lines_to_next_cell": 2,
    "slideshow": {
     "slide_type": "slide"
    }
   },
   "source": [
    "<img src=\"img/python-logo-notext.svg\"\n",
    "     style=\"display:block;margin:auto;width:10%\"/>\n",
    "<br>\n",
    "<div style=\"text-align:center; font-size:200%;\"><b>Iterators and generators</b></div>\n",
    "<br/>\n",
    "<div style=\"text-align:center;\">Dr. Matthias Hölzl</div>"
   ]
  },
  {
   "cell_type": "markdown",
   "id": "4fcbafa8",
   "metadata": {
    "lang": "en",
    "slideshow": {
     "slide_type": "slide"
    }
   },
   "source": [
    "# Generators\n",
    "\n",
    "- It is not efficient to construct a list if we only use it for\n",
    "  want to iterate over their elements\n",
    "- Python offers the possibility to define generators that can be iterated, but don't have the overhead of a list\n",
    "- The simplest way to define them is with generator expressions:"
   ]
  },
  {
   "cell_type": "code",
   "execution_count": null,
   "id": "52485c7b",
   "metadata": {
    "tags": [
     "code-along"
    ]
   },
   "outputs": [],
   "source": [
    "gen = (n * n for n in range(10))\n",
    "gen"
   ]
  },
  {
   "cell_type": "code",
   "execution_count": null,
   "id": "56334d83",
   "metadata": {
    "tags": [
     "code-along"
    ]
   },
   "outputs": [],
   "source": [
    "for i in gen:\n",
    "    print(i, end=\" \")"
   ]
  },
  {
   "cell_type": "code",
   "execution_count": null,
   "id": "02be7164",
   "metadata": {
    "tags": [
     "code-along"
    ]
   },
   "outputs": [],
   "source": [
    "for i, j, k in ((n, m, n * m) for n in range(2, 5) for m in range(n, 5)):\n",
    "    print(f\"{i}, {j}, {k}\")"
   ]
  },
  {
   "cell_type": "code",
   "execution_count": null,
   "id": "0625c863",
   "metadata": {
    "tags": [
     "code-along"
    ]
   },
   "outputs": [],
   "source": [
    "r = range(3)\n",
    "repr(r)"
   ]
  },
  {
   "cell_type": "code",
   "execution_count": null,
   "id": "5afa32ec",
   "metadata": {
    "tags": [
     "code-along"
    ]
   },
   "outputs": [],
   "source": [
    "it = iter(r)\n",
    "repr(it)"
   ]
  },
  {
   "cell_type": "code",
   "execution_count": null,
   "id": "07fdcd17",
   "metadata": {
    "tags": [
     "code-along"
    ]
   },
   "outputs": [],
   "source": [
    "next(it)"
   ]
  },
  {
   "cell_type": "code",
   "execution_count": null,
   "id": "5daafb60",
   "metadata": {
    "tags": [
     "code-along"
    ]
   },
   "outputs": [],
   "source": [
    "next(it)"
   ]
  },
  {
   "cell_type": "code",
   "execution_count": null,
   "id": "33c3217c",
   "metadata": {
    "tags": [
     "code-along"
    ]
   },
   "outputs": [],
   "source": [
    "next(it)"
   ]
  },
  {
   "cell_type": "code",
   "execution_count": null,
   "id": "3672c21a",
   "metadata": {
    "lines_to_next_cell": 2,
    "tags": [
     "code-along"
    ]
   },
   "outputs": [],
   "source": [
    "# next(it)"
   ]
  },
  {
   "cell_type": "code",
   "execution_count": null,
   "id": "092d0c0e",
   "metadata": {
    "tags": [
     "code-along"
    ]
   },
   "outputs": [],
   "source": [
    "for x in range(3):\n",
    "    print(x, end=\" \")"
   ]
  },
  {
   "cell_type": "code",
   "execution_count": null,
   "id": "f73a193e",
   "metadata": {
    "tags": [
     "code-along"
    ]
   },
   "outputs": [],
   "source": [
    "_r = range(3)\n",
    "_temp_iter = iter(_r)\n",
    "while True:\n",
    "    try:\n",
    "        x = next(_temp_iter)\n",
    "    except StopIteration:\n",
    "        break\n",
    "    print(x, end=\" \")"
   ]
  },
  {
   "cell_type": "code",
   "execution_count": null,
   "id": "6d67795f",
   "metadata": {
    "tags": [
     "code-along"
    ]
   },
   "outputs": [],
   "source": [
    "gen = (n * n for n in range(3))\n",
    "repr(gen)"
   ]
  },
  {
   "cell_type": "code",
   "execution_count": null,
   "id": "8cf9e237",
   "metadata": {
    "tags": [
     "code-along"
    ]
   },
   "outputs": [],
   "source": [
    "it = iter(gen)\n",
    "repr(it)"
   ]
  },
  {
   "cell_type": "code",
   "execution_count": null,
   "id": "c2db500c",
   "metadata": {
    "tags": [
     "code-along"
    ]
   },
   "outputs": [],
   "source": [
    "next(it)"
   ]
  },
  {
   "cell_type": "code",
   "execution_count": null,
   "id": "5aabe6c6",
   "metadata": {
    "tags": [
     "code-along"
    ]
   },
   "outputs": [],
   "source": [
    "next(it)"
   ]
  },
  {
   "cell_type": "code",
   "execution_count": null,
   "id": "95cc80a5",
   "metadata": {
    "lines_to_next_cell": 2,
    "tags": [
     "code-along"
    ]
   },
   "outputs": [],
   "source": [
    "next(it)"
   ]
  },
  {
   "cell_type": "code",
   "execution_count": null,
   "id": "204cbf03",
   "metadata": {
    "lines_to_next_cell": 2,
    "tags": [
     "code-along"
    ]
   },
   "outputs": [],
   "source": [
    "# next(it)"
   ]
  },
  {
   "cell_type": "code",
   "execution_count": null,
   "id": "4205d27b",
   "metadata": {
    "lines_to_next_cell": 2,
    "tags": [
     "code-along"
    ]
   },
   "outputs": [],
   "source": [
    "# `it` ist \"erschöpft,\" man kann keine neuen Werte bekommen\n",
    "# next(it)"
   ]
  },
  {
   "cell_type": "markdown",
   "id": "24182118",
   "metadata": {
    "lang": "en",
    "slideshow": {
     "slide_type": "slide"
    }
   },
   "source": [
    "## Generator functions\n",
    "\n",
    "More complex cases can no longer be covered by generator expressions.\n",
    "\n",
    "- Generator that generates all numbers (no upper limit)\n",
    "- Generator that modifies an iterable (e.g. executes multiple times, takes a fixed number of elements)\n",
    "\n",
    "For these cases there are generator functions"
   ]
  },
  {
   "cell_type": "code",
   "execution_count": null,
   "id": "386b0182",
   "metadata": {
    "tags": [
     "code-along"
    ]
   },
   "outputs": [],
   "source": [
    "def integers(start=0):\n",
    "    n = start\n",
    "    while True:\n",
    "        yield n\n",
    "        n += 1"
   ]
  },
  {
   "cell_type": "code",
   "execution_count": null,
   "id": "b181ad12",
   "metadata": {
    "tags": [
     "code-along"
    ]
   },
   "outputs": [],
   "source": [
    "for i in integers():\n",
    "    if i > 3:\n",
    "        break\n",
    "    print(i, end=\" \")"
   ]
  },
  {
   "cell_type": "code",
   "execution_count": null,
   "id": "bc3ba832",
   "metadata": {
    "tags": [
     "code-along"
    ]
   },
   "outputs": [],
   "source": [
    "gen = integers()\n",
    "print(repr(gen))\n",
    "print(repr(iter(gen)))"
   ]
  },
  {
   "cell_type": "code",
   "execution_count": null,
   "id": "0c4613ac",
   "metadata": {
    "tags": [
     "code-along"
    ]
   },
   "outputs": [],
   "source": [
    "gen = integers()"
   ]
  },
  {
   "cell_type": "code",
   "execution_count": null,
   "id": "242ec362",
   "metadata": {
    "tags": [
     "code-along"
    ]
   },
   "outputs": [],
   "source": [
    "next(gen)"
   ]
  },
  {
   "cell_type": "code",
   "execution_count": null,
   "id": "e1b5001d",
   "metadata": {
    "tags": [
     "code-along"
    ]
   },
   "outputs": [],
   "source": [
    "def repeat_n_times(n, it):\n",
    "    for _ in range(n):\n",
    "        for elt in it:\n",
    "            yield elt"
   ]
  },
  {
   "cell_type": "code",
   "execution_count": null,
   "id": "8efe4adb",
   "metadata": {
    "tags": [
     "code-along"
    ]
   },
   "outputs": [],
   "source": [
    "for num in repeat_n_times(3, range(5)):\n",
    "    print(num, end=\" \")"
   ]
  }
 ],
 "metadata": {
  "jupytext": {
   "cell_metadata_json": true,
   "encoding": "# -*- coding: utf-8 -*-",
   "formats": "ipynb"
  },
  "kernelspec": {
   "display_name": "Python 3 (ipykernel)",
   "language": "python",
   "name": "python3"
  }
 },
 "nbformat": 4,
 "nbformat_minor": 5
}
