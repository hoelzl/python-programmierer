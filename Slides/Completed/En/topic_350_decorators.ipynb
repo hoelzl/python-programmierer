{
 "cells": [
  {
   "cell_type": "markdown",
   "id": "bbd7ac0f",
   "metadata": {
    "lang": "en",
    "slideshow": {
     "slide_type": "slide"
    }
   },
   "source": [
    "<img src=\"img/python-logo-notext.svg\"\n",
    "     style=\"display:block;margin:auto;width:10%\"/>\n",
    "<br>\n",
    "<div style=\"text-align:center; font-size:200%;\"><b>Decorators</b></div>\n",
    "<br/>\n",
    "<div style=\"text-align:center;\">Dr. Matthias Hölzl</div>"
   ]
  },
  {
   "cell_type": "markdown",
   "id": "885e1423",
   "metadata": {
    "lang": "en",
    "slideshow": {
     "slide_type": "slide"
    }
   },
   "source": [
    "## The XML Package\n",
    "\n",
    "See [PEP 318](https://peps.python.org/pep-0318/)"
   ]
  },
  {
   "cell_type": "code",
   "execution_count": null,
   "id": "785c9e49",
   "metadata": {
    "lines_to_next_cell": 1,
    "tags": [
     "code-along"
    ]
   },
   "outputs": [],
   "source": [
    "def log_exec(fun):\n",
    "\tdef logged_fun(*args, **kwargs):\n",
    "\t\tprint(f\"Calling {fun.__name__} on {args}, {kwargs}.\")\n",
    "\t\treturn fun(*args, **kwargs)\n",
    "\treturn logged_fun"
   ]
  },
  {
   "cell_type": "code",
   "execution_count": null,
   "id": "5677055f",
   "metadata": {
    "tags": [
     "code-along"
    ]
   },
   "outputs": [],
   "source": [
    "@log_exec\n",
    "def say_hi(name=\"world\"):\n",
    "\tprint(f\"Hi {name}!\")"
   ]
  },
  {
   "cell_type": "code",
   "execution_count": null,
   "id": "bed66e43",
   "metadata": {
    "tags": [
     "code-along"
    ]
   },
   "outputs": [],
   "source": [
    "say_hi()"
   ]
  },
  {
   "cell_type": "code",
   "execution_count": null,
   "id": "d489ed84",
   "metadata": {
    "lines_to_next_cell": 1,
    "tags": [
     "code-along"
    ]
   },
   "outputs": [],
   "source": [
    "say_hi(\"Joe\")"
   ]
  },
  {
   "cell_type": "code",
   "execution_count": null,
   "id": "e774964d",
   "metadata": {
    "tags": [
     "code-along"
    ]
   },
   "outputs": [],
   "source": [
    "@log_exec\n",
    "def my_dict(id, **kwargs):\n",
    "\treturn dict(id=id, **kwargs)"
   ]
  },
  {
   "cell_type": "code",
   "execution_count": null,
   "id": "8440ae36",
   "metadata": {
    "tags": [
     "code-along"
    ]
   },
   "outputs": [],
   "source": [
    "my_dict(123)"
   ]
  },
  {
   "cell_type": "code",
   "execution_count": null,
   "id": "5dc4f2fa",
   "metadata": {
    "tags": [
     "code-along"
    ]
   },
   "outputs": [],
   "source": [
    "my_dict(123, foo=234, bar=345)"
   ]
  },
  {
   "cell_type": "code",
   "execution_count": null,
   "id": "8f255592",
   "metadata": {
    "tags": [
     "code-along"
    ]
   },
   "outputs": [],
   "source": [
    "d = dict(foo=234, bar=345)"
   ]
  },
  {
   "cell_type": "code",
   "execution_count": null,
   "id": "16cc30bf",
   "metadata": {
    "tags": [
     "code-along"
    ]
   },
   "outputs": [],
   "source": [
    "my_dict(1, **d)"
   ]
  },
  {
   "cell_type": "code",
   "execution_count": null,
   "id": "5ced4d89",
   "metadata": {},
   "outputs": [],
   "source": []
  }
 ],
 "metadata": {
  "jupytext": {
   "cell_metadata_json": true,
   "formats": "ipynb"
  },
  "kernelspec": {
   "display_name": "Python 3 (ipykernel)",
   "language": "python",
   "name": "python3"
  }
 },
 "nbformat": 4,
 "nbformat_minor": 5
}
