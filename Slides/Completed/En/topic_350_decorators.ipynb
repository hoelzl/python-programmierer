{
 "cells": [
  {
   "cell_type": "markdown",
   "id": "63ac3e16",
   "metadata": {
    "lang": "en",
    "slideshow": {
     "slide_type": "slide"
    }
   },
   "source": [
    "<img src=\"img/python-logo-notext.svg\"\n",
    "     style=\"display:block;margin:auto;width:10%\"/>\n",
    "<br>\n",
    "<div style=\"text-align:center; font-size:200%;\"><b>Decorators</b></div>\n",
    "<br/>\n",
    "<div style=\"text-align:center;\">Dr. Matthias Hölzl</div>"
   ]
  },
  {
   "cell_type": "markdown",
   "id": "0da1165a",
   "metadata": {
    "lang": "en",
    "slideshow": {
     "slide_type": "slide"
    }
   },
   "source": [
    "## The XML Package\n",
    "\n",
    "See [PEP 318](https://peps.python.org/pep-0318/)"
   ]
  },
  {
   "cell_type": "code",
   "execution_count": null,
   "id": "ef47bc6d",
   "metadata": {
    "lines_to_next_cell": 1,
    "tags": [
     "code-along"
    ]
   },
   "outputs": [],
   "source": [
    "def log_exec(fun):\n",
    "\tdef logged_fun(*args, **kwargs):\n",
    "\t\tprint(f\"Calling {fun.__name__} on {args}, {kwargs}.\")\n",
    "\t\treturn fun(*args, **kwargs)\n",
    "\treturn logged_fun"
   ]
  },
  {
   "cell_type": "code",
   "execution_count": null,
   "id": "158cb11f",
   "metadata": {
    "tags": [
     "code-along"
    ]
   },
   "outputs": [],
   "source": [
    "@log_exec\n",
    "def say_hi(name=\"world\"):\n",
    "\tprint(f\"Hi {name}!\")"
   ]
  },
  {
   "cell_type": "code",
   "execution_count": null,
   "id": "0f48e0d3",
   "metadata": {
    "tags": [
     "code-along"
    ]
   },
   "outputs": [],
   "source": [
    "say_hi()"
   ]
  },
  {
   "cell_type": "code",
   "execution_count": null,
   "id": "59c74e96",
   "metadata": {
    "lines_to_next_cell": 1,
    "tags": [
     "code-along"
    ]
   },
   "outputs": [],
   "source": [
    "say_hi(\"Joe\")"
   ]
  },
  {
   "cell_type": "code",
   "execution_count": null,
   "id": "e3925747",
   "metadata": {
    "tags": [
     "code-along"
    ]
   },
   "outputs": [],
   "source": [
    "@log_exec\n",
    "def my_dict(id, **kwargs):\n",
    "\treturn dict(id=id, **kwargs)"
   ]
  },
  {
   "cell_type": "code",
   "execution_count": null,
   "id": "6f50d4d6",
   "metadata": {
    "tags": [
     "code-along"
    ]
   },
   "outputs": [],
   "source": [
    "my_dict(123)"
   ]
  },
  {
   "cell_type": "code",
   "execution_count": null,
   "id": "0f1d7e2e",
   "metadata": {
    "tags": [
     "code-along"
    ]
   },
   "outputs": [],
   "source": [
    "my_dict(123, foo=234, bar=345)"
   ]
  },
  {
   "cell_type": "code",
   "execution_count": null,
   "id": "05cc98e8",
   "metadata": {
    "tags": [
     "code-along"
    ]
   },
   "outputs": [],
   "source": [
    "d = dict(foo=234, bar=345)"
   ]
  },
  {
   "cell_type": "code",
   "execution_count": null,
   "id": "2f032c3a",
   "metadata": {
    "tags": [
     "code-along"
    ]
   },
   "outputs": [],
   "source": [
    "my_dict(1, **d)"
   ]
  },
  {
   "cell_type": "code",
   "execution_count": null,
   "id": "5e38693e",
   "metadata": {},
   "outputs": [],
   "source": []
  }
 ],
 "metadata": {
  "jupytext": {
   "cell_metadata_json": true,
   "formats": "ipynb"
  },
  "kernelspec": {
   "display_name": "Python 3 (ipykernel)",
   "language": "python",
   "name": "python3"
  }
 },
 "nbformat": 4,
 "nbformat_minor": 5
}
