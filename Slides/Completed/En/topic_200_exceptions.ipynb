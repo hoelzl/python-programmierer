{
 "cells": [
  {
   "cell_type": "markdown",
   "id": "b7ef1c97",
   "metadata": {
    "lang": "en",
    "lines_to_next_cell": 2,
    "slideshow": {
     "slide_type": "slide"
    }
   },
   "source": [
    "<img src=\"img/python-logo-notext.svg\"\n",
    "     style=\"display:block;margin:auto;width:10%\"/>\n",
    "<br>\n",
    "<div style=\"text-align:center; font-size:200%;\"><b>Exceptions and handling errors</b></div>\n",
    "<br/>\n",
    "<div style=\"text-align:center;\">Dr. Matthias Hölzl</div>"
   ]
  },
  {
   "cell_type": "markdown",
   "id": "7714b51f",
   "metadata": {
    "lang": "en",
    "slideshow": {
     "slide_type": "slide"
    }
   },
   "source": [
    "# Error handling\n",
    "\n",
    "We want to write a function `int_sqrt(n: int) -> int` that calculates the\n",
    "\"integer square root\":\n",
    "- If `n` is a square number, i.e. has the form `m * m`, then `m` should\n",
    "  be returned.\n",
    "- What do we do if `n` is not a square number?\n",
    "\n",
    "Some attempted solutions:"
   ]
  },
  {
   "cell_type": "code",
   "execution_count": null,
   "id": "56f57270",
   "metadata": {
    "tags": [
     "code-along"
    ]
   },
   "outputs": [],
   "source": [
    "from typing import Tuple"
   ]
  },
  {
   "cell_type": "code",
   "execution_count": null,
   "id": "a971fea6",
   "metadata": {
    "tags": [
     "code-along"
    ]
   },
   "outputs": [],
   "source": [
    "def int_sqrt_with_pair(n: int) -> Tuple[int, bool]:\n",
    "    for m in range(n + 1):\n",
    "        if m * m == n:\n",
    "            return m, True\n",
    "    return 0, False"
   ]
  },
  {
   "cell_type": "code",
   "execution_count": null,
   "id": "c79d0be9",
   "metadata": {
    "lines_to_next_cell": 2,
    "tags": [
     "code-along"
    ]
   },
   "outputs": [],
   "source": [
    "int_sqrt_with_pair(9)"
   ]
  },
  {
   "cell_type": "code",
   "execution_count": null,
   "id": "3009d096",
   "metadata": {
    "lines_to_next_cell": 2,
    "tags": [
     "code-along"
    ]
   },
   "outputs": [],
   "source": [
    "int_sqrt_with_pair(8)"
   ]
  },
  {
   "cell_type": "code",
   "execution_count": null,
   "id": "50830266",
   "metadata": {
    "lines_to_next_cell": 2,
    "tags": [
     "code-along"
    ]
   },
   "outputs": [],
   "source": [
    "int_sqrt_with_pair(0)"
   ]
  },
  {
   "cell_type": "code",
   "execution_count": null,
   "id": "949791e4",
   "metadata": {
    "tags": [
     "code-along"
    ]
   },
   "outputs": [],
   "source": [
    "int_sqrt_with_pair(1)"
   ]
  },
  {
   "cell_type": "code",
   "execution_count": null,
   "id": "4ac8401a",
   "metadata": {
    "slideshow": {
     "slide_type": "subslide"
    },
    "tags": [
     "code-along"
    ]
   },
   "outputs": [],
   "source": [
    "def print_int_sqrt_1(n):\n",
    "    root, is_valid = int_sqrt_with_pair(8)\n",
    "    print(f\"The root of {n} is {root}.\")\n",
    "\n",
    "\n",
    "print_int_sqrt_1(8)"
   ]
  },
  {
   "cell_type": "code",
   "execution_count": null,
   "id": "4f0885e2",
   "metadata": {
    "tags": [
     "code-along"
    ]
   },
   "outputs": [],
   "source": [
    "def int_sqrt_with_negative_value(n: int) -> int:\n",
    "    for m in range(n + 1):\n",
    "        if m * m == n:\n",
    "            return m\n",
    "    return -1"
   ]
  },
  {
   "cell_type": "code",
   "execution_count": null,
   "id": "7bc00957",
   "metadata": {
    "lines_to_next_cell": 2,
    "tags": [
     "code-along"
    ]
   },
   "outputs": [],
   "source": [
    "int_sqrt_with_negative_value(9)"
   ]
  },
  {
   "cell_type": "code",
   "execution_count": null,
   "id": "284a5925",
   "metadata": {
    "tags": [
     "code-along"
    ]
   },
   "outputs": [],
   "source": [
    "int_sqrt_with_negative_value(8)"
   ]
  },
  {
   "cell_type": "code",
   "execution_count": null,
   "id": "2bb11113",
   "metadata": {
    "slideshow": {
     "slide_type": "subslide"
    },
    "tags": [
     "code-along"
    ]
   },
   "outputs": [],
   "source": [
    "def print_int_sqrt_2(n):\n",
    "    root = int_sqrt_with_negative_value(8)\n",
    "    print(f\"The root of {n} is {root}.\")\n",
    "\n",
    "\n",
    "print_int_sqrt_2(8)"
   ]
  },
  {
   "cell_type": "code",
   "execution_count": null,
   "id": "0e06a489",
   "metadata": {
    "tags": [
     "code-along"
    ]
   },
   "outputs": [],
   "source": [
    "def print_int_sqrt_2_better(n):\n",
    "    root = int_sqrt_with_negative_value(8)\n",
    "    if root < 0:\n",
    "        print(f\"{n} does not have a root!\")\n",
    "    else:\n",
    "        print(f\"The root of {n} is {root}.\")\n",
    "\n",
    "\n",
    "print_int_sqrt_2_better(8)"
   ]
  },
  {
   "cell_type": "markdown",
   "id": "fd0965ba",
   "metadata": {
    "lang": "en",
    "slideshow": {
     "slide_type": "subslide"
    }
   },
   "source": [
    "Both approaches have several problems:\n",
    " - Error handling is optional. If it is not carried out, the computation proceeds with\n",
    "   an incorrect value.\n",
    " - If the caller cannot handle the error itself, the error must be passed through (possibly)\n",
    "   multiple levels of function calls. That leads to\n",
    "   confusing code because the \"interesting\" path is intermingled with code to\n",
    "   handle errors.\n",
    "\n",
    " A better solution:"
   ]
  },
  {
   "cell_type": "code",
   "execution_count": null,
   "id": "a149a3bc",
   "metadata": {
    "slideshow": {
     "slide_type": "subslide"
    },
    "tags": [
     "code-along"
    ]
   },
   "outputs": [],
   "source": [
    "def int_sqrt(n: int) -> int:\n",
    "    for m in range(n + 1):\n",
    "        if m * m == n:\n",
    "            return m\n",
    "    raise ValueError(f\"{n} is not a square number.\")"
   ]
  },
  {
   "cell_type": "code",
   "execution_count": null,
   "id": "76306351",
   "metadata": {
    "lines_to_next_cell": 2,
    "tags": [
     "code-along"
    ]
   },
   "outputs": [],
   "source": [
    "int_sqrt(9)"
   ]
  },
  {
   "cell_type": "code",
   "execution_count": null,
   "id": "cdb1b0dd",
   "metadata": {
    "lines_to_next_cell": 2,
    "tags": [
     "code-along"
    ]
   },
   "outputs": [],
   "source": [
    "int_sqrt(0)"
   ]
  },
  {
   "cell_type": "code",
   "execution_count": null,
   "id": "463a4b4b",
   "metadata": {
    "lines_to_next_cell": 2,
    "tags": [
     "code-along"
    ]
   },
   "outputs": [],
   "source": [
    "int_sqrt(1)"
   ]
  },
  {
   "cell_type": "code",
   "execution_count": null,
   "id": "7deec8cb",
   "metadata": {
    "lines_to_next_cell": 2,
    "tags": [
     "code-along"
    ]
   },
   "outputs": [],
   "source": [
    "# int_sqrt(8)"
   ]
  },
  {
   "cell_type": "code",
   "execution_count": null,
   "id": "c5399390",
   "metadata": {
    "lines_to_next_cell": 2,
    "slideshow": {
     "slide_type": "subslide"
    },
    "tags": [
     "code-along"
    ]
   },
   "outputs": [],
   "source": [
    "def print_int_sqrt(n):\n",
    "    root = int_sqrt(n)\n",
    "    print(f\"The root of {n} is {root}.\")"
   ]
  },
  {
   "cell_type": "code",
   "execution_count": null,
   "id": "cad9c12f",
   "metadata": {
    "lines_to_next_cell": 2,
    "tags": [
     "code-along"
    ]
   },
   "outputs": [],
   "source": [
    "# print_int_sqrt(8)"
   ]
  },
  {
   "cell_type": "code",
   "execution_count": null,
   "id": "f17b209b",
   "metadata": {
    "tags": [
     "code-along"
    ]
   },
   "outputs": [],
   "source": [
    "def print_int_sqrt_no_error(n):\n",
    "    try:\n",
    "        root = int_sqrt(n)\n",
    "        print(f\"The root of {n} is {root}.\")\n",
    "    except ValueError as err:\n",
    "        print(str(err))"
   ]
  },
  {
   "cell_type": "code",
   "execution_count": null,
   "id": "4a5ed78c",
   "metadata": {
    "lines_to_next_cell": 2,
    "tags": [
     "code-along"
    ]
   },
   "outputs": [],
   "source": [
    "print_int_sqrt_no_error(9)"
   ]
  },
  {
   "cell_type": "code",
   "execution_count": null,
   "id": "cf8f40ed",
   "metadata": {
    "tags": [
     "code-along"
    ]
   },
   "outputs": [],
   "source": [
    "print_int_sqrt_no_error(8)"
   ]
  },
  {
   "cell_type": "code",
   "execution_count": null,
   "id": "b0c9f0c7",
   "metadata": {
    "slideshow": {
     "slide_type": "subslide"
    },
    "tags": [
     "code-along"
    ]
   },
   "outputs": [],
   "source": [
    "def print_int_sqrt_no_error_2(n):\n",
    "    try:\n",
    "        root = int_sqrt(n)\n",
    "        print(f\"The root of {n} is {root}.\")\n",
    "    except ValueError:\n",
    "        print(f\"{n} does not have a root!\")\n",
    "    finally:\n",
    "        print(\"And that's all there is to say about this topic.\")"
   ]
  },
  {
   "cell_type": "code",
   "execution_count": null,
   "id": "e283d675",
   "metadata": {
    "lines_to_next_cell": 2,
    "tags": [
     "code-along"
    ]
   },
   "outputs": [],
   "source": [
    "print_int_sqrt_no_error_2(9)"
   ]
  },
  {
   "cell_type": "code",
   "execution_count": null,
   "id": "330dafbd",
   "metadata": {
    "tags": [
     "code-along"
    ]
   },
   "outputs": [],
   "source": [
    "print_int_sqrt_no_error_2(8)"
   ]
  },
  {
   "cell_type": "markdown",
   "id": "6a01d313",
   "metadata": {
    "lang": "en",
    "slideshow": {
     "slide_type": "subslide"
    }
   },
   "source": [
    "## Error classes\n",
    "\n",
    "In Python, there are many predefined classes that signal different types of error:\n",
    "- `Exception`: Base class of all exceptions that can be handled\n",
    "- `ArithmeticError`: Base class of all errors in arithmetic operations:\n",
    "  - OverflowError\n",
    "  - Zero Division Error\n",
    "- `LookupError`: base class when an invalid index for a data structure\n",
    "  has been used\n",
    "- `AssertionError`: error class used by `assert`\n",
    "- `EOFError`: Error when `intput()` unexpectedly reaches the end of a file\n",
    "- ...\n",
    "\n",
    "The list of error classes defined in the standard library is\n",
    "[here](https://docs.python.org/3/library/exceptions.html)."
   ]
  },
  {
   "cell_type": "code",
   "execution_count": null,
   "id": "73d109f5",
   "metadata": {
    "slideshow": {
     "slide_type": "subslide"
    },
    "tags": [
     "code-along"
    ]
   },
   "outputs": [],
   "source": [
    "class NoRootError(ValueError):\n",
    "    pass"
   ]
  },
  {
   "cell_type": "code",
   "execution_count": null,
   "id": "8de1ed0b",
   "metadata": {
    "lines_to_next_cell": 2,
    "tags": [
     "code-along"
    ]
   },
   "outputs": [],
   "source": [
    "try:\n",
    "    raise ValueError(\"ValueError\")\n",
    "    # raise NoRootError(\"This is a NoRootError.\")\n",
    "except NoRootError as error:\n",
    "    print(f\"Case 1: {error}\")\n",
    "except ValueError as error:\n",
    "    print(f\"Case 2: {error}\")"
   ]
  },
  {
   "cell_type": "code",
   "execution_count": null,
   "id": "060ee1bc",
   "metadata": {
    "tags": [
     "code-along"
    ]
   },
   "outputs": [],
   "source": [
    "my_var = 1\n",
    "assert my_var == 1"
   ]
  },
  {
   "cell_type": "code",
   "execution_count": null,
   "id": "b522dd5b",
   "metadata": {
    "tags": [
     "code-along"
    ]
   },
   "outputs": [],
   "source": [
    "def raise_and_handle_error():\n",
    "    print(\"rahe() before\")\n",
    "    try:\n",
    "        raise ValueError(\"ValueError was raised.\")\n",
    "        # raise NoRootError(\"Found no root.\")\n",
    "        # raise TypeError(\"Bad type\")\n",
    "    except NoRootError as error:\n",
    "        print(f\"Case NoRootError: {error}\")\n",
    "    except ValueError as error:\n",
    "        print(f\"Case ValueError: {error}\")\n",
    "    print(\"rahe() after\")"
   ]
  },
  {
   "cell_type": "code",
   "execution_count": null,
   "id": "ada80339",
   "metadata": {},
   "outputs": [],
   "source": [
    "def f2():\n",
    "    print(\"f2() before\")\n",
    "    raise_and_handle_error()\n",
    "    print(\"f2() after\")"
   ]
  },
  {
   "cell_type": "code",
   "execution_count": null,
   "id": "daaeb296",
   "metadata": {},
   "outputs": [],
   "source": [
    "def f1():\n",
    "    print(\"f1() before\")\n",
    "    try:\n",
    "        f2()\n",
    "    except Exception as error:\n",
    "        print(f\"Case Exception: {error}\")\n",
    "    print(\"f1() after\")        "
   ]
  },
  {
   "cell_type": "code",
   "execution_count": null,
   "id": "832267c3",
   "metadata": {},
   "outputs": [],
   "source": [
    "f1()"
   ]
  },
  {
   "cell_type": "code",
   "execution_count": null,
   "id": "936bbcac",
   "metadata": {},
   "outputs": [],
   "source": []
  },
  {
   "cell_type": "markdown",
   "id": "e73de66c",
   "metadata": {
    "lang": "en"
   },
   "source": [
    "## Mini workshop\n",
    "\n",
    "- Notebook `workshop_190_inheritance`\n",
    "- Section \"Bank Account\""
   ]
  },
  {
   "cell_type": "markdown",
   "id": "3118314b",
   "metadata": {
    "lang": "en",
    "slideshow": {
     "slide_type": "subslide"
    }
   },
   "source": [
    "## Mini workshop\n",
    "\n",
    " - Notebook `workshop_090_control_structures`\n",
    " - Section \"Rock Paper Scissors\""
   ]
  },
  {
   "cell_type": "markdown",
   "id": "95432d65",
   "metadata": {
    "lang": "en",
    "slideshow": {
     "slide_type": "subslide"
    }
   },
   "source": [
    "## Mini workshop\n",
    "\n",
    "- Notebook `topic_900_othellite`\n",
    "- `compute_linear_index()`"
   ]
  }
 ],
 "metadata": {
  "jupytext": {
   "cell_metadata_json": true,
   "encoding": "# -*- coding: utf-8 -*-",
   "formats": "ipynb"
  },
  "kernelspec": {
   "display_name": "Python 3 (ipykernel)",
   "language": "python",
   "name": "python3"
  }
 },
 "nbformat": 4,
 "nbformat_minor": 5
}
