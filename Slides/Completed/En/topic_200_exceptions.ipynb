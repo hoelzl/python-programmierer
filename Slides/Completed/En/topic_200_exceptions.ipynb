{
 "cells": [
  {
   "cell_type": "markdown",
   "id": "60da4379",
   "metadata": {
    "lang": "en",
    "lines_to_next_cell": 2,
    "slideshow": {
     "slide_type": "slide"
    }
   },
   "source": [
    "<img src=\"img/python-logo-notext.svg\"\n",
    "     style=\"display:block;margin:auto;width:10%\"/>\n",
    "<br>\n",
    "<div style=\"text-align:center; font-size:200%;\"><b>Exceptions and handling errors</b></div>\n",
    "<br/>\n",
    "<div style=\"text-align:center;\">Dr. Matthias Hölzl</div>"
   ]
  },
  {
   "cell_type": "markdown",
   "id": "e3ccc244",
   "metadata": {
    "lang": "en",
    "slideshow": {
     "slide_type": "slide"
    }
   },
   "source": [
    "# Error handling\n",
    "\n",
    "We want to write a function `int_sqrt(n: int) -> int` that calculates the\n",
    "\"integer square root\":\n",
    "- If `n` is a square number, i.e. has the form `m * m`, then `m` should\n",
    "  be returned.\n",
    "- What do we do if `n` is not a square number?\n",
    "\n",
    "Some attempted solutions:"
   ]
  },
  {
   "cell_type": "code",
   "execution_count": null,
   "id": "756b2401",
   "metadata": {
    "tags": [
     "code-along"
    ]
   },
   "outputs": [],
   "source": [
    "from typing import Tuple"
   ]
  },
  {
   "cell_type": "code",
   "execution_count": null,
   "id": "5e60c256",
   "metadata": {
    "tags": [
     "code-along"
    ]
   },
   "outputs": [],
   "source": [
    "def int_sqrt_with_pair(n: int) -> Tuple[int, bool]:\n",
    "    for m in range(n + 1):\n",
    "        if m * m == n:\n",
    "            return m, True\n",
    "    return 0, False"
   ]
  },
  {
   "cell_type": "code",
   "execution_count": null,
   "id": "b196e8b9",
   "metadata": {
    "lines_to_next_cell": 2,
    "tags": [
     "code-along"
    ]
   },
   "outputs": [],
   "source": [
    "int_sqrt_with_pair(9)"
   ]
  },
  {
   "cell_type": "code",
   "execution_count": null,
   "id": "4e43b2c9",
   "metadata": {
    "lines_to_next_cell": 2,
    "tags": [
     "code-along"
    ]
   },
   "outputs": [],
   "source": [
    "int_sqrt_with_pair(8)"
   ]
  },
  {
   "cell_type": "code",
   "execution_count": null,
   "id": "e488b072",
   "metadata": {
    "lines_to_next_cell": 2,
    "tags": [
     "code-along"
    ]
   },
   "outputs": [],
   "source": [
    "int_sqrt_with_pair(0)"
   ]
  },
  {
   "cell_type": "code",
   "execution_count": null,
   "id": "6e38b092",
   "metadata": {
    "tags": [
     "code-along"
    ]
   },
   "outputs": [],
   "source": [
    "int_sqrt_with_pair(1)"
   ]
  },
  {
   "cell_type": "code",
   "execution_count": null,
   "id": "261431d7",
   "metadata": {
    "slideshow": {
     "slide_type": "subslide"
    },
    "tags": [
     "code-along"
    ]
   },
   "outputs": [],
   "source": [
    "def print_int_sqrt_1(n):\n",
    "    root, is_valid = int_sqrt_with_pair(8)\n",
    "    print(f\"The root of {n} is {root}.\")\n",
    "\n",
    "\n",
    "print_int_sqrt_1(8)"
   ]
  },
  {
   "cell_type": "code",
   "execution_count": null,
   "id": "7ae8190b",
   "metadata": {
    "tags": [
     "code-along"
    ]
   },
   "outputs": [],
   "source": [
    "def int_sqrt_with_negative_value(n: int) -> int:\n",
    "    for m in range(n + 1):\n",
    "        if m * m == n:\n",
    "            return m\n",
    "    return -1"
   ]
  },
  {
   "cell_type": "code",
   "execution_count": null,
   "id": "8e7a8dcc",
   "metadata": {
    "lines_to_next_cell": 2,
    "tags": [
     "code-along"
    ]
   },
   "outputs": [],
   "source": [
    "int_sqrt_with_negative_value(9)"
   ]
  },
  {
   "cell_type": "code",
   "execution_count": null,
   "id": "f0ac9d30",
   "metadata": {
    "tags": [
     "code-along"
    ]
   },
   "outputs": [],
   "source": [
    "int_sqrt_with_negative_value(8)"
   ]
  },
  {
   "cell_type": "code",
   "execution_count": null,
   "id": "9eb6cd3c",
   "metadata": {
    "slideshow": {
     "slide_type": "subslide"
    },
    "tags": [
     "code-along"
    ]
   },
   "outputs": [],
   "source": [
    "def print_int_sqrt_2(n):\n",
    "    root = int_sqrt_with_negative_value(8)\n",
    "    print(f\"The root of {n} is {root}.\")\n",
    "\n",
    "\n",
    "print_int_sqrt_2(8)"
   ]
  },
  {
   "cell_type": "code",
   "execution_count": null,
   "id": "8c2d3e27",
   "metadata": {
    "tags": [
     "code-along"
    ]
   },
   "outputs": [],
   "source": [
    "def print_int_sqrt_2_better(n):\n",
    "    root = int_sqrt_with_negative_value(8)\n",
    "    if root < 0:\n",
    "        print(f\"{n} does not have a root!\")\n",
    "    else:\n",
    "        print(f\"The root of {n} is {root}.\")\n",
    "\n",
    "\n",
    "print_int_sqrt_2_better(8)"
   ]
  },
  {
   "cell_type": "markdown",
   "id": "f3427219",
   "metadata": {
    "lang": "en",
    "slideshow": {
     "slide_type": "subslide"
    }
   },
   "source": [
    "Both approaches have several problems:\n",
    " - Error handling is optional. If it is not carried out, the computation proceeds with\n",
    "   an incorrect value.\n",
    " - If the caller cannot handle the error itself, the error must be passed through (possibly)\n",
    "   multiple levels of function calls. That leads to\n",
    "   confusing code because the \"interesting\" path is intermingled with code to\n",
    "   handle errors.\n",
    "\n",
    " A better solution:"
   ]
  },
  {
   "cell_type": "code",
   "execution_count": null,
   "id": "7833ae5e",
   "metadata": {
    "slideshow": {
     "slide_type": "subslide"
    },
    "tags": [
     "code-along"
    ]
   },
   "outputs": [],
   "source": [
    "def int_sqrt(n: int) -> int:\n",
    "    for m in range(n + 1):\n",
    "        if m * m == n:\n",
    "            return m\n",
    "    raise ValueError(f\"{n} is not a square number.\")"
   ]
  },
  {
   "cell_type": "code",
   "execution_count": null,
   "id": "624656a4",
   "metadata": {
    "lines_to_next_cell": 2,
    "tags": [
     "code-along"
    ]
   },
   "outputs": [],
   "source": [
    "int_sqrt(9)"
   ]
  },
  {
   "cell_type": "code",
   "execution_count": null,
   "id": "cb0753fe",
   "metadata": {
    "lines_to_next_cell": 2,
    "tags": [
     "code-along"
    ]
   },
   "outputs": [],
   "source": [
    "int_sqrt(0)"
   ]
  },
  {
   "cell_type": "code",
   "execution_count": null,
   "id": "11c07a1f",
   "metadata": {
    "lines_to_next_cell": 2,
    "tags": [
     "code-along"
    ]
   },
   "outputs": [],
   "source": [
    "int_sqrt(1)"
   ]
  },
  {
   "cell_type": "code",
   "execution_count": null,
   "id": "c035a5d6",
   "metadata": {
    "lines_to_next_cell": 2,
    "tags": [
     "code-along"
    ]
   },
   "outputs": [],
   "source": [
    "# int_sqrt(8)"
   ]
  },
  {
   "cell_type": "code",
   "execution_count": null,
   "id": "58b5fe55",
   "metadata": {
    "lines_to_next_cell": 2,
    "slideshow": {
     "slide_type": "subslide"
    },
    "tags": [
     "code-along"
    ]
   },
   "outputs": [],
   "source": [
    "def print_int_sqrt(n):\n",
    "    root = int_sqrt(n)\n",
    "    print(f\"The root of {n} is {root}.\")"
   ]
  },
  {
   "cell_type": "code",
   "execution_count": null,
   "id": "0b3eaa19",
   "metadata": {
    "lines_to_next_cell": 2,
    "tags": [
     "code-along"
    ]
   },
   "outputs": [],
   "source": [
    "# print_int_sqrt(8)"
   ]
  },
  {
   "cell_type": "code",
   "execution_count": null,
   "id": "24d5cc16",
   "metadata": {
    "tags": [
     "code-along"
    ]
   },
   "outputs": [],
   "source": [
    "def print_int_sqrt_no_error(n):\n",
    "    try:\n",
    "        root = int_sqrt(n)\n",
    "        print(f\"The root of {n} is {root}.\")\n",
    "    except ValueError as err:\n",
    "        print(str(err))"
   ]
  },
  {
   "cell_type": "code",
   "execution_count": null,
   "id": "c49bbc4a",
   "metadata": {
    "lines_to_next_cell": 2,
    "tags": [
     "code-along"
    ]
   },
   "outputs": [],
   "source": [
    "print_int_sqrt_no_error(9)"
   ]
  },
  {
   "cell_type": "code",
   "execution_count": null,
   "id": "16097e36",
   "metadata": {
    "tags": [
     "code-along"
    ]
   },
   "outputs": [],
   "source": [
    "print_int_sqrt_no_error(8)"
   ]
  },
  {
   "cell_type": "code",
   "execution_count": null,
   "id": "e372239c",
   "metadata": {
    "slideshow": {
     "slide_type": "subslide"
    },
    "tags": [
     "code-along"
    ]
   },
   "outputs": [],
   "source": [
    "def print_int_sqrt_no_error_2(n):\n",
    "    try:\n",
    "        root = int_sqrt(n)\n",
    "        print(f\"The root of {n} is {root}.\")\n",
    "    except ValueError:\n",
    "        print(f\"{n} does not have a root!\")\n",
    "    finally:\n",
    "        print(\"And that's all there is to say about this topic.\")"
   ]
  },
  {
   "cell_type": "code",
   "execution_count": null,
   "id": "4931b50d",
   "metadata": {
    "lines_to_next_cell": 2,
    "tags": [
     "code-along"
    ]
   },
   "outputs": [],
   "source": [
    "print_int_sqrt_no_error_2(9)"
   ]
  },
  {
   "cell_type": "code",
   "execution_count": null,
   "id": "2959d0e0",
   "metadata": {
    "tags": [
     "code-along"
    ]
   },
   "outputs": [],
   "source": [
    "print_int_sqrt_no_error_2(8)"
   ]
  },
  {
   "cell_type": "markdown",
   "id": "d9735009",
   "metadata": {
    "lang": "en",
    "slideshow": {
     "slide_type": "subslide"
    }
   },
   "source": [
    "## Error classes\n",
    "\n",
    "In Python, there are many predefined classes that signal different types of error:\n",
    "- `Exception`: Base class of all exceptions that can be handled\n",
    "- `ArithmeticError`: Base class of all errors in arithmetic operations:\n",
    "  - OverflowError\n",
    "  - Zero Division Error\n",
    "- `LookupError`: base class when an invalid index for a data structure\n",
    "  has been used\n",
    "- `AssertionError`: error class used by `assert`\n",
    "- `EOFError`: Error when `intput()` unexpectedly reaches the end of a file\n",
    "- ...\n",
    "\n",
    "The list of error classes defined in the standard library is\n",
    "[here](https://docs.python.org/3/library/exceptions.html)."
   ]
  },
  {
   "cell_type": "code",
   "execution_count": null,
   "id": "b5d2a9c5",
   "metadata": {
    "slideshow": {
     "slide_type": "subslide"
    },
    "tags": [
     "code-along"
    ]
   },
   "outputs": [],
   "source": [
    "class NoRootError(ValueError):\n",
    "    pass"
   ]
  },
  {
   "cell_type": "code",
   "execution_count": null,
   "id": "b0b5385f",
   "metadata": {
    "lines_to_next_cell": 2,
    "tags": [
     "code-along"
    ]
   },
   "outputs": [],
   "source": [
    "try:\n",
    "    raise ValueError(\"ValueError\")\n",
    "    # raise NoRootError(\"This is a NoRootError.\")\n",
    "except NoRootError as error:\n",
    "    print(f\"Case 1: {error}\")\n",
    "except ValueError as error:\n",
    "    print(f\"Case 2: {error}\")"
   ]
  },
  {
   "cell_type": "code",
   "execution_count": null,
   "id": "20b8cab6",
   "metadata": {
    "tags": [
     "code-along"
    ]
   },
   "outputs": [],
   "source": [
    "my_var = 1\n",
    "assert my_var == 1"
   ]
  },
  {
   "cell_type": "code",
   "execution_count": null,
   "id": "e8c46845",
   "metadata": {
    "tags": [
     "code-along"
    ]
   },
   "outputs": [],
   "source": [
    "def raise_and_handle_error():\n",
    "    print(\"rahe() before\")\n",
    "    try:\n",
    "        raise ValueError(\"ValueError was raised.\")\n",
    "        # raise NoRootError(\"Found no root.\")\n",
    "        # raise TypeError(\"Bad type\")\n",
    "    except NoRootError as error:\n",
    "        print(f\"Case NoRootError: {error}\")\n",
    "    except ValueError as error:\n",
    "        print(f\"Case ValueError: {error}\")\n",
    "    print(\"rahe() after\")"
   ]
  },
  {
   "cell_type": "code",
   "execution_count": null,
   "id": "7f60b47d",
   "metadata": {},
   "outputs": [],
   "source": [
    "def f2():\n",
    "    print(\"f2() before\")\n",
    "    raise_and_handle_error()\n",
    "    print(\"f2() after\")"
   ]
  },
  {
   "cell_type": "code",
   "execution_count": null,
   "id": "1cc1b188",
   "metadata": {},
   "outputs": [],
   "source": [
    "def f1():\n",
    "    print(\"f1() before\")\n",
    "    try:\n",
    "        f2()\n",
    "    except Exception as error:\n",
    "        print(f\"Case Exception: {error}\")\n",
    "    print(\"f1() after\")        "
   ]
  },
  {
   "cell_type": "code",
   "execution_count": null,
   "id": "9a866e8a",
   "metadata": {},
   "outputs": [],
   "source": [
    "f1()"
   ]
  },
  {
   "cell_type": "code",
   "execution_count": null,
   "id": "ce4a2591",
   "metadata": {},
   "outputs": [],
   "source": []
  },
  {
   "cell_type": "markdown",
   "id": "4e11220c",
   "metadata": {
    "lang": "en"
   },
   "source": [
    "## Mini workshop\n",
    "\n",
    "- Notebook `workshop_190_inheritance`\n",
    "- Section \"Bank Account\""
   ]
  },
  {
   "cell_type": "markdown",
   "id": "d865b4ef",
   "metadata": {
    "lang": "en",
    "slideshow": {
     "slide_type": "subslide"
    }
   },
   "source": [
    "## Mini workshop\n",
    "\n",
    " - Notebook `workshop_090_control_structures`\n",
    " - Section \"Rock Paper Scissors\""
   ]
  },
  {
   "cell_type": "markdown",
   "id": "f4b41e6a",
   "metadata": {
    "lang": "en",
    "slideshow": {
     "slide_type": "subslide"
    }
   },
   "source": [
    "## Mini workshop\n",
    "\n",
    "- Notebook `topic_900_othellite`\n",
    "- `compute_linear_index()`"
   ]
  }
 ],
 "metadata": {
  "jupytext": {
   "cell_metadata_json": true,
   "encoding": "# -*- coding: utf-8 -*-",
   "formats": "ipynb"
  },
  "kernelspec": {
   "display_name": "Python 3 (ipykernel)",
   "language": "python",
   "name": "python3"
  }
 },
 "nbformat": 4,
 "nbformat_minor": 5
}
