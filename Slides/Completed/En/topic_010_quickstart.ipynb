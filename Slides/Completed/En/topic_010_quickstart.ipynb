{
 "cells": [
  {
   "cell_type": "markdown",
   "id": "9cf50088",
   "metadata": {
    "lang": "en",
    "slideshow": {
     "slide_type": "slide"
    }
   },
   "source": [
    "<img src=\"img/python-logo-notext.svg\"\n",
    "     style=\"display:block;margin:auto;width:10%\"/>\n",
    "<br>\n",
    "<div style=\"text-align:center; font-size:200%;\"><b>Quickstart</b></div>\n",
    "<br/>\n",
    "<div style=\"text-align:center;\">Dr. Matthias Hölzl</div>"
   ]
  },
  {
   "cell_type": "markdown",
   "id": "08707018",
   "metadata": {
    "lang": "en",
    "slideshow": {
     "slide_type": "slide"
    }
   },
   "source": [
    "# Python and Jupyter notebooks\n",
    "\n",
    "We'll start with a brief introduction:\n",
    "- How does Python work?\n",
    "- What are Jupyter notebooks?"
   ]
  },
  {
   "cell_type": "markdown",
   "id": "aa52c098",
   "metadata": {
    "lang": "en",
    "slideshow": {
     "slide_type": "subslide"
    }
   },
   "source": [
    "## Compiler (C++)\n",
    "\n",
    "<img src=\"img/compiler.svg\" style=\"width:60%;margin:auto\"/>"
   ]
  },
  {
   "cell_type": "markdown",
   "id": "164f03b1",
   "metadata": {
    "lang": "en",
    "slideshow": {
     "slide_type": "subslide"
    }
   },
   "source": [
    "## Interpreter (Python)\n",
    "\n",
    "<img src=\"img/interpreter.svg\" style=\"width:60%;margin:auto\"/>"
   ]
  },
  {
   "cell_type": "markdown",
   "id": "97b1cd5c",
   "metadata": {
    "lang": "en",
    "slideshow": {
     "slide_type": "subslide"
    }
   },
   "source": [
    "## Jupyter Notebooks\n",
    "\n",
    "<img src=\"img/jupyter-notebook.svg\" style=\"width:60%;margin:auto\"/>"
   ]
  },
  {
   "cell_type": "code",
   "execution_count": null,
   "id": "c8f26fa5",
   "metadata": {
    "lines_to_next_cell": 2,
    "slideshow": {
     "slide_type": "subslide"
    }
   },
   "outputs": [],
   "source": [
    "import numpy as np\n",
    "import matplotlib.pyplot as plt\n",
    "\n",
    "page_load_time = np.random.normal(3.0, 1.0, 1000)\n",
    "purchase_amount = np.random.normal(50.0, 1.5, 1000) - page_load_time\n",
    "\n",
    "plt.figure(figsize=(12, 8))\n",
    "plt.scatter(page_load_time, purchase_amount)"
   ]
  },
  {
   "cell_type": "markdown",
   "id": "004ea201",
   "metadata": {
    "lang": "en",
    "slideshow": {
     "slide_type": "subslide"
    }
   },
   "source": [
    "## Variables and data types\n",
    "\n",
    "Numbers and arithmetic:"
   ]
  },
  {
   "cell_type": "code",
   "execution_count": null,
   "id": "ee0037b3",
   "metadata": {
    "tags": [
     "code-along"
    ]
   },
   "outputs": [],
   "source": [
    "17 + 4 + 1"
   ]
  },
  {
   "cell_type": "code",
   "execution_count": null,
   "id": "ad9e5c2b",
   "metadata": {
    "tags": [
     "code-along"
    ]
   },
   "outputs": [],
   "source": [
    "1.5 + 7.4"
   ]
  },
  {
   "cell_type": "code",
   "execution_count": null,
   "id": "35354271",
   "metadata": {
    "tags": [
     "code-along"
    ]
   },
   "outputs": [],
   "source": [
    "1 + 2 * 3"
   ]
  },
  {
   "cell_type": "markdown",
   "id": "ffdc15be",
   "metadata": {
    "lang": "en"
   },
   "source": [
    "## Strings"
   ]
  },
  {
   "cell_type": "code",
   "execution_count": null,
   "id": "190ef368",
   "metadata": {
    "tags": [
     "code-along"
    ]
   },
   "outputs": [],
   "source": [
    "\"This is a string\""
   ]
  },
  {
   "cell_type": "code",
   "execution_count": null,
   "id": "fa9ad0b1",
   "metadata": {
    "tags": [
     "code-along"
    ]
   },
   "outputs": [],
   "source": [
    "# fmt: off\n",
    "'This is also a string'\n",
    "# fmt: on"
   ]
  },
  {
   "cell_type": "code",
   "execution_count": null,
   "id": "9796616b",
   "metadata": {
    "tags": [
     "code-along"
    ]
   },
   "outputs": [],
   "source": [
    "str(1 + 2)"
   ]
  },
  {
   "cell_type": "code",
   "execution_count": null,
   "id": "b9dbbc26",
   "metadata": {
    "slideshow": {
     "slide_type": "subslide"
    },
    "tags": [
     "code-along"
    ]
   },
   "outputs": [],
   "source": [
    "\"3\" + \"abc\""
   ]
  },
  {
   "cell_type": "code",
   "execution_count": null,
   "id": "c11a7a92",
   "metadata": {
    "tags": [
     "code-along"
    ]
   },
   "outputs": [],
   "source": [
    "\"literal strings \" \"can be concatenated \" \"by juxtaposition\""
   ]
  },
  {
   "cell_type": "markdown",
   "id": "fc9319ad",
   "metadata": {
    "lang": "en"
   },
   "source": [
    "### Variables"
   ]
  },
  {
   "cell_type": "code",
   "execution_count": null,
   "id": "d04e96a2",
   "metadata": {
    "tags": [
     "code-along"
    ]
   },
   "outputs": [],
   "source": [
    "answer = 42"
   ]
  },
  {
   "cell_type": "code",
   "execution_count": null,
   "id": "140e6a41",
   "metadata": {
    "lines_to_next_cell": 2,
    "tags": [
     "code-along"
    ]
   },
   "outputs": [],
   "source": [
    "my_value = answer + 2"
   ]
  },
  {
   "cell_type": "markdown",
   "id": "f259e29a",
   "metadata": {
    "lang": "en"
   },
   "source": [
    "## Jupyter notebooks: displaying values\n",
    "\n",
    "- Jupyter notebooks print the last value of each cell on the screen\n",
    "- That doesn't happen in \"normal\" Python programs!\n",
    "  - At least when they are executed as programs\n",
    "  - The interactive interpreter behaves similar to notebooks"
   ]
  },
  {
   "cell_type": "code",
   "execution_count": null,
   "id": "8945e6e2",
   "metadata": {
    "slideshow": {
     "slide_type": "subslide"
    },
    "tags": [
     "code-along"
    ]
   },
   "outputs": [],
   "source": [
    "123"
   ]
  },
  {
   "cell_type": "markdown",
   "id": "957dc1e4",
   "metadata": {
    "lang": "en"
   },
   "source": [
    "To prevent the output of the last value of a cell in Jupyter\n",
    "you can end the line with a semicolon:"
   ]
  },
  {
   "cell_type": "code",
   "execution_count": null,
   "id": "72954714",
   "metadata": {
    "tags": [
     "code-along"
    ]
   },
   "outputs": [],
   "source": [
    "123"
   ]
  },
  {
   "cell_type": "code",
   "execution_count": null,
   "id": "f1a15e69",
   "metadata": {
    "tags": [
     "code-along"
    ]
   },
   "outputs": [],
   "source": [
    "# fmt: off\n",
    "123;\n",
    "# fmt: on"
   ]
  },
  {
   "cell_type": "markdown",
   "id": "28a1723c",
   "metadata": {
    "lang": "en"
   },
   "source": [
    "Jupyter also displays the value of variables:"
   ]
  },
  {
   "cell_type": "code",
   "execution_count": null,
   "id": "215e019f",
   "metadata": {
    "tags": [
     "code-along"
    ]
   },
   "outputs": [],
   "source": [
    "answer"
   ]
  },
  {
   "cell_type": "code",
   "execution_count": null,
   "id": "ebd12da3",
   "metadata": {
    "tags": [
     "code-along"
    ]
   },
   "outputs": [],
   "source": [
    "my_value"
   ]
  },
  {
   "cell_type": "code",
   "execution_count": null,
   "id": "633e161b",
   "metadata": {
    "tags": [
     "code-along"
    ]
   },
   "outputs": [],
   "source": [
    "answer\n",
    "my_value"
   ]
  },
  {
   "cell_type": "markdown",
   "id": "35db2b38",
   "metadata": {
    "lang": "en"
   },
   "source": [
    "To display multiple values ​​you can use the `print()` function:\n",
    "\n",
    "`print(...)` prints the values between the trailing parens on the screen."
   ]
  },
  {
   "cell_type": "code",
   "execution_count": null,
   "id": "4e3a787c",
   "metadata": {
    "tags": [
     "code-along"
    ]
   },
   "outputs": [],
   "source": [
    "print(123)"
   ]
  },
  {
   "cell_type": "code",
   "execution_count": null,
   "id": "69eb39bd",
   "metadata": {
    "tags": [
     "code-along"
    ]
   },
   "outputs": [],
   "source": [
    "print(answer)"
   ]
  },
  {
   "cell_type": "code",
   "execution_count": null,
   "id": "1f9cc428",
   "metadata": {
    "tags": [
     "code-along"
    ]
   },
   "outputs": [],
   "source": [
    "print(my_value)"
   ]
  },
  {
   "cell_type": "code",
   "execution_count": null,
   "id": "280c5e91",
   "metadata": {
    "lines_to_next_cell": 2,
    "tags": [
     "code-along"
    ]
   },
   "outputs": [],
   "source": [
    "print(answer)\n",
    "print(my_value)"
   ]
  },
  {
   "cell_type": "code",
   "execution_count": null,
   "id": "f5c57b68",
   "metadata": {
    "lines_to_next_cell": 2,
    "slideshow": {
     "slide_type": "subslide"
    },
    "tags": [
     "code-along"
    ]
   },
   "outputs": [],
   "source": [
    "print(\"Hello, world!\")"
   ]
  },
  {
   "cell_type": "markdown",
   "id": "78a2b5ff",
   "metadata": {
    "lang": "en"
   },
   "source": [
    "Compare the output to the following cell:"
   ]
  },
  {
   "cell_type": "code",
   "execution_count": null,
   "id": "6839a1e8",
   "metadata": {
    "tags": [
     "code-along"
    ]
   },
   "outputs": [],
   "source": [
    "\"Hello, world!\""
   ]
  },
  {
   "cell_type": "code",
   "execution_count": null,
   "id": "2458fd5e",
   "metadata": {
    "slideshow": {
     "slide_type": "subslide"
    },
    "tags": [
     "code-along"
    ]
   },
   "outputs": [],
   "source": [
    "print(\"answer =\", answer, \"my_value =\", my_value)"
   ]
  },
  {
   "cell_type": "code",
   "execution_count": null,
   "id": "e9df597d",
   "metadata": {
    "tags": [
     "code-along"
    ]
   },
   "outputs": [],
   "source": [
    "print(\"a\", \"b\", \"c\", sep=\"-\", end=\"+++\")\n",
    "print(\"d\", \"e\")"
   ]
  },
  {
   "cell_type": "code",
   "execution_count": null,
   "id": "40240e43",
   "metadata": {
    "tags": [
     "code-along"
    ]
   },
   "outputs": [],
   "source": [
    "print(\"a\", end=\", \")\n",
    "print(\"b\", end=\", \")\n",
    "print(\"c\")"
   ]
  },
  {
   "cell_type": "markdown",
   "id": "4a8d1a9b",
   "metadata": {
    "lang": "en",
    "slideshow": {
     "slide_type": "subslide"
    }
   },
   "source": [
    "## Types"
   ]
  },
  {
   "cell_type": "code",
   "execution_count": null,
   "id": "4c8fe3de",
   "metadata": {
    "tags": [
     "code-along"
    ]
   },
   "outputs": [],
   "source": [
    "type(123)"
   ]
  },
  {
   "cell_type": "code",
   "execution_count": null,
   "id": "4ece68ec",
   "metadata": {
    "tags": [
     "code-along"
    ]
   },
   "outputs": [],
   "source": [
    "type(\"Foo\")"
   ]
  },
  {
   "cell_type": "code",
   "execution_count": null,
   "id": "286cfb91",
   "metadata": {
    "lines_to_next_cell": 2,
    "tags": [
     "code-along"
    ]
   },
   "outputs": [],
   "source": [
    "answer = 42\n",
    "print(type(answer))\n",
    "answer = \"Hallo!\"\n",
    "print(type(answer))"
   ]
  },
  {
   "cell_type": "markdown",
   "id": "b55cc25c",
   "metadata": {
    "lang": "en"
   },
   "source": [
    "### Predefined functions"
   ]
  },
  {
   "cell_type": "code",
   "execution_count": null,
   "id": "6504df2b",
   "metadata": {
    "tags": [
     "code-along"
    ]
   },
   "outputs": [],
   "source": [
    "print(\"Hello, world!\")"
   ]
  },
  {
   "cell_type": "code",
   "execution_count": null,
   "id": "f8c67e49",
   "metadata": {
    "tags": [
     "code-along"
    ]
   },
   "outputs": [],
   "source": [
    "int(\"123\")"
   ]
  },
  {
   "cell_type": "code",
   "execution_count": null,
   "id": "e99ea613",
   "metadata": {
    "tags": [
     "code-along"
    ]
   },
   "outputs": [],
   "source": [
    "int(3.8)"
   ]
  },
  {
   "cell_type": "code",
   "execution_count": null,
   "id": "0c43dabe",
   "metadata": {
    "tags": [
     "code-along"
    ]
   },
   "outputs": [],
   "source": [
    "round(4.4)"
   ]
  },
  {
   "cell_type": "code",
   "execution_count": null,
   "id": "28353ccd",
   "metadata": {
    "tags": [
     "code-along"
    ]
   },
   "outputs": [],
   "source": [
    "round(4.6)"
   ]
  },
  {
   "cell_type": "code",
   "execution_count": null,
   "id": "2fc97ed8",
   "metadata": {},
   "outputs": [],
   "source": [
    "print(round(0.5), round(1.5), round(2.5), round(3.5))"
   ]
  },
  {
   "cell_type": "markdown",
   "id": "0251174d",
   "metadata": {
    "lang": "en"
   },
   "source": [
    "## Functions"
   ]
  },
  {
   "cell_type": "code",
   "execution_count": null,
   "id": "f64970a0",
   "metadata": {
    "tags": [
     "code-along"
    ]
   },
   "outputs": [],
   "source": [
    "def add_1(n):\n",
    "    return n + 1"
   ]
  },
  {
   "cell_type": "code",
   "execution_count": null,
   "id": "a9463456",
   "metadata": {
    "tags": [
     "code-along"
    ]
   },
   "outputs": [],
   "source": [
    "x = add_1(10)\n",
    "add_1(20) + x + x"
   ]
  },
  {
   "cell_type": "code",
   "execution_count": null,
   "id": "27937432",
   "metadata": {
    "tags": [
     "code-along"
    ]
   },
   "outputs": [],
   "source": [
    "add_1(5) + add_1(7)"
   ]
  },
  {
   "cell_type": "code",
   "execution_count": null,
   "id": "6fd9e60f",
   "metadata": {
    "tags": [
     "code-along"
    ]
   },
   "outputs": [],
   "source": [
    "def my_round(n):\n",
    "    return int(n + 0.5)"
   ]
  },
  {
   "cell_type": "code",
   "execution_count": null,
   "id": "fdbdaaab",
   "metadata": {},
   "outputs": [],
   "source": [
    "print(my_round(0.5), my_round(1.5), my_round(2.5), my_round(3.5))"
   ]
  },
  {
   "cell_type": "markdown",
   "id": "724640be",
   "metadata": {
    "lang": "en"
   },
   "source": [
    "### Micro workshop\n",
    "\n",
    "Write a function `greeting(name)` that prints a greeting in the form\n",
    "\"Hello *name*!\" to the screen, e.g.\n",
    "```python\n",
    ">>> greeting(\"Max\")\n",
    "Hi Max!\n",
    ">>>\n",
    "```"
   ]
  },
  {
   "cell_type": "code",
   "execution_count": null,
   "id": "8f9feec7",
   "metadata": {
    "tags": [
     "code-along"
    ]
   },
   "outputs": [],
   "source": [
    "def greeting(name):\n",
    "    print(\"Hallo \", name, \"!\", sep=\"\")"
   ]
  },
  {
   "cell_type": "code",
   "execution_count": null,
   "id": "c4dacf06",
   "metadata": {
    "tags": [
     "code-along"
    ]
   },
   "outputs": [],
   "source": [
    "greeting(\"Max\")"
   ]
  },
  {
   "cell_type": "markdown",
   "id": "09f0f219",
   "metadata": {
    "lang": "en"
   },
   "source": [
    "### Methods"
   ]
  },
  {
   "cell_type": "code",
   "execution_count": null,
   "id": "abf23d93",
   "metadata": {
    "tags": [
     "code-along"
    ]
   },
   "outputs": [],
   "source": [
    "\"Foo\".lower()"
   ]
  },
  {
   "cell_type": "code",
   "execution_count": null,
   "id": "dae7beb9",
   "metadata": {
    "tags": [
     "code-along"
    ]
   },
   "outputs": [],
   "source": [
    "# 5.bit_length()"
   ]
  },
  {
   "cell_type": "code",
   "execution_count": null,
   "id": "f195838f",
   "metadata": {
    "tags": [
     "code-along"
    ]
   },
   "outputs": [],
   "source": [
    "number = 5\n",
    "number.bit_length()"
   ]
  },
  {
   "cell_type": "markdown",
   "id": "62f43f3c",
   "metadata": {
    "lang": "en"
   },
   "source": [
    "### Multiple parameters, default arguments"
   ]
  },
  {
   "cell_type": "code",
   "execution_count": null,
   "id": "216aefa1",
   "metadata": {
    "tags": [
     "code-along"
    ]
   },
   "outputs": [],
   "source": [
    "def add2(a, b):\n",
    "    return a + b"
   ]
  },
  {
   "cell_type": "code",
   "execution_count": null,
   "id": "e6172a6b",
   "metadata": {
    "tags": [
     "code-along"
    ]
   },
   "outputs": [],
   "source": [
    "def add3(a, b=0, c=0):\n",
    "    return a + b + c"
   ]
  },
  {
   "cell_type": "code",
   "execution_count": null,
   "id": "b40dde80",
   "metadata": {
    "tags": [
     "code-along"
    ]
   },
   "outputs": [],
   "source": [
    "print(add3(2))\n",
    "print(add3(2, 3))\n",
    "print(add3(2, 3, 4))\n",
    "print(add3(1, c=3))"
   ]
  },
  {
   "cell_type": "markdown",
   "id": "371584b3",
   "metadata": {
    "lang": "en"
   },
   "source": [
    "### Nested function calls"
   ]
  },
  {
   "cell_type": "code",
   "execution_count": null,
   "id": "d37e2723",
   "metadata": {
    "tags": [
     "code-along"
    ]
   },
   "outputs": [],
   "source": [
    "add3(add_1(2), add3(1, 2, add3(1, 2)))"
   ]
  },
  {
   "cell_type": "markdown",
   "id": "aa8d7a94",
   "metadata": {
    "lang": "en"
   },
   "source": [
    "### Type annotations"
   ]
  },
  {
   "cell_type": "code",
   "execution_count": null,
   "id": "11e152fe",
   "metadata": {
    "tags": [
     "code-along"
    ]
   },
   "outputs": [],
   "source": [
    "def mult(a: int, b: float):\n",
    "    return a * b"
   ]
  },
  {
   "cell_type": "code",
   "execution_count": null,
   "id": "b309a2de",
   "metadata": {
    "tags": [
     "code-along"
    ]
   },
   "outputs": [],
   "source": [
    "mult(3, 2.0)"
   ]
  },
  {
   "cell_type": "code",
   "execution_count": null,
   "id": "bb21e0ce",
   "metadata": {
    "tags": [
     "code-along"
    ]
   },
   "outputs": [],
   "source": [
    "# Typannotationen are only for documentation purposes:\n",
    "mult(\"a\", 3)"
   ]
  },
  {
   "cell_type": "markdown",
   "id": "974f0265",
   "metadata": {
    "lang": "en"
   },
   "source": [
    "## Lists and tuples"
   ]
  },
  {
   "cell_type": "code",
   "execution_count": null,
   "id": "2d0b826e",
   "metadata": {
    "tags": [
     "code-along"
    ]
   },
   "outputs": [],
   "source": [
    "numbers = [1, 2, 3, 4]"
   ]
  },
  {
   "cell_type": "code",
   "execution_count": null,
   "id": "c0f1fc04",
   "metadata": {
    "tags": [
     "code-along"
    ]
   },
   "outputs": [],
   "source": [
    "print(numbers)\n",
    "print(numbers[0], numbers[3])\n",
    "print(\"Länge:\", len(numbers))"
   ]
  },
  {
   "cell_type": "code",
   "execution_count": null,
   "id": "ed804e80",
   "metadata": {
    "slideshow": {
     "slide_type": "subslide"
    },
    "tags": [
     "code-along"
    ]
   },
   "outputs": [],
   "source": [
    "numbers + numbers"
   ]
  },
  {
   "cell_type": "code",
   "execution_count": null,
   "id": "36a25806",
   "metadata": {
    "tags": [
     "code-along"
    ]
   },
   "outputs": [],
   "source": [
    "[1] * 3"
   ]
  },
  {
   "cell_type": "code",
   "execution_count": null,
   "id": "1776f759",
   "metadata": {
    "tags": [
     "code-along"
    ]
   },
   "outputs": [],
   "source": [
    "5 in [5, 6, 7]"
   ]
  },
  {
   "cell_type": "code",
   "execution_count": null,
   "id": "4a84e2af",
   "metadata": {
    "tags": [
     "code-along"
    ]
   },
   "outputs": [],
   "source": [
    "3 in [5, 6, 7]"
   ]
  },
  {
   "cell_type": "code",
   "execution_count": null,
   "id": "66245f0d",
   "metadata": {
    "slideshow": {
     "slide_type": "subslide"
    },
    "tags": [
     "code-along"
    ]
   },
   "outputs": [],
   "source": [
    "my_list = [1, 2, 3]\n",
    "my_list[1] = 5\n",
    "my_list"
   ]
  },
  {
   "cell_type": "code",
   "execution_count": null,
   "id": "c169582b",
   "metadata": {
    "tags": [
     "code-along"
    ]
   },
   "outputs": [],
   "source": [
    "my_list.append(7)\n",
    "my_list"
   ]
  },
  {
   "cell_type": "markdown",
   "id": "814e73ad",
   "metadata": {
    "lang": "en",
    "slideshow": {
     "slide_type": "subslide"
    }
   },
   "source": [
    "## Mini workshop\n",
    "\n",
    "- Notebook `workshop_100_lists_part2`\n",
    "- Section Colors"
   ]
  },
  {
   "cell_type": "code",
   "execution_count": null,
   "id": "2101577a",
   "metadata": {
    "tags": [
     "code-along"
    ]
   },
   "outputs": [],
   "source": [
    "my_tuple = 1, 2, 3"
   ]
  },
  {
   "cell_type": "code",
   "execution_count": null,
   "id": "df9bd30a",
   "metadata": {
    "tags": [
     "code-along"
    ]
   },
   "outputs": [],
   "source": [
    "my_tuple[0]"
   ]
  },
  {
   "cell_type": "code",
   "execution_count": null,
   "id": "c5202c0b",
   "metadata": {
    "lines_to_next_cell": 2,
    "tags": [
     "code-along"
    ]
   },
   "outputs": [],
   "source": [
    "# my_tuple[0] = 1"
   ]
  },
  {
   "cell_type": "markdown",
   "id": "87a8cc5a",
   "metadata": {
    "lang": "en"
   },
   "source": [
    "## Boolean values ​​and `if` statements"
   ]
  },
  {
   "cell_type": "code",
   "execution_count": null,
   "id": "31431fa5",
   "metadata": {
    "tags": [
     "code-along"
    ]
   },
   "outputs": [],
   "source": [
    "True"
   ]
  },
  {
   "cell_type": "code",
   "execution_count": null,
   "id": "1775219e",
   "metadata": {
    "tags": [
     "code-along"
    ]
   },
   "outputs": [],
   "source": [
    "False"
   ]
  },
  {
   "cell_type": "code",
   "execution_count": null,
   "id": "8036e5cc",
   "metadata": {
    "tags": [
     "code-along"
    ]
   },
   "outputs": [],
   "source": [
    "value = False"
   ]
  },
  {
   "cell_type": "code",
   "execution_count": null,
   "id": "d4878c27",
   "metadata": {
    "tags": [
     "code-along"
    ]
   },
   "outputs": [],
   "source": [
    "if value:\n",
    "    print(\"Wahr\")\n",
    "else:\n",
    "    print(\"Falsch\")"
   ]
  },
  {
   "cell_type": "code",
   "execution_count": null,
   "id": "cdc39909",
   "metadata": {
    "slideshow": {
     "slide_type": "subslide"
    }
   },
   "outputs": [],
   "source": [
    "def print_size(n):\n",
    "    if n < 10:\n",
    "        print(\"Very small\")\n",
    "    elif n < 15:\n",
    "        print(\"Pretty small\")\n",
    "    elif n < 30:\n",
    "        print(\"Average\")\n",
    "    else:\n",
    "        print(\"Large\")"
   ]
  },
  {
   "cell_type": "code",
   "execution_count": null,
   "id": "4bee017c",
   "metadata": {
    "slideshow": {
     "slide_type": "subslide"
    }
   },
   "outputs": [],
   "source": [
    "print_size(1)\n",
    "print_size(10)\n",
    "print_size(20)\n",
    "print_size(100)"
   ]
  },
  {
   "cell_type": "markdown",
   "id": "d870786f",
   "metadata": {
    "lang": "en"
   },
   "source": [
    "### Micro workshop\n",
    "\n",
    "Write a function `fits_in_line(text: str, line_length: int = 72)`,\n",
    "which returns `True` or `False` depending on whether `text` fits into a line of\n",
    "length `line_length`:\n",
    "```python\n",
    ">>> fits_in_line(\"Hello\")\n",
    "True\n",
    ">>> fits_in_line(\"Hello\", 3)\n",
    "False\n",
    ">>>\n",
    "```\n",
    "\n",
    "Write a function `print_line(text: str, line_length:int = 72)`,\n",
    "that\n",
    "* prints `text` to the screen if that is possible in a line of length\n",
    "  `line_length`\n",
    "* prints `...` if that is not possible.\n",
    "\n",
    "```python\n",
    ">>> print_line(\"Hello\")\n",
    "Hello\n",
    ">>> print_line(\"Hello\", 3)\n",
    "...\n",
    ">>>\n",
    "```"
   ]
  },
  {
   "cell_type": "code",
   "execution_count": null,
   "id": "dd795ab5",
   "metadata": {
    "tags": [
     "code-along"
    ]
   },
   "outputs": [],
   "source": [
    "def fits_in_line(text: str, line_length: int = 72):\n",
    "    return len(text) <= line_length"
   ]
  },
  {
   "cell_type": "code",
   "execution_count": null,
   "id": "2263679b",
   "metadata": {
    "tags": [
     "code-along"
    ]
   },
   "outputs": [],
   "source": [
    "fits_in_line(\"Hallo\")"
   ]
  },
  {
   "cell_type": "code",
   "execution_count": null,
   "id": "0bbb636c",
   "metadata": {
    "tags": [
     "code-along"
    ]
   },
   "outputs": [],
   "source": [
    "fits_in_line(\"Hallo\", 3)"
   ]
  },
  {
   "cell_type": "code",
   "execution_count": null,
   "id": "d9de18e1",
   "metadata": {
    "tags": [
     "code-along"
    ]
   },
   "outputs": [],
   "source": [
    "def print_line(text: str, line_length: int = 72):\n",
    "    if fits_in_line(text, line_length=line_length):\n",
    "        print(text)\n",
    "    else:\n",
    "        print(\"...\")"
   ]
  },
  {
   "cell_type": "code",
   "execution_count": null,
   "id": "837843c7",
   "metadata": {
    "tags": [
     "code-along"
    ]
   },
   "outputs": [],
   "source": [
    "print_line(\"Hallo\")"
   ]
  },
  {
   "cell_type": "code",
   "execution_count": null,
   "id": "f8f075d0",
   "metadata": {
    "lines_to_next_cell": 2,
    "tags": [
     "code-along"
    ]
   },
   "outputs": [],
   "source": [
    "print_line(\"Hallo\", 3)"
   ]
  },
  {
   "cell_type": "markdown",
   "id": "a75e8117",
   "metadata": {
    "lang": "en"
   },
   "source": [
    "## `for` loops"
   ]
  },
  {
   "cell_type": "code",
   "execution_count": null,
   "id": "b2146976",
   "metadata": {
    "slideshow": {
     "slide_type": "subslide"
    },
    "tags": [
     "code-along"
    ]
   },
   "outputs": [],
   "source": [
    "for char in \"abc\":\n",
    "    print(char, end=\"|\")"
   ]
  },
  {
   "cell_type": "code",
   "execution_count": null,
   "id": "7b9b9971",
   "metadata": {
    "tags": [
     "code-along"
    ]
   },
   "outputs": [],
   "source": [
    "result = 0\n",
    "for n in [1, 2, 3, 4]:\n",
    "    result += n\n",
    "result"
   ]
  },
  {
   "cell_type": "markdown",
   "id": "cb6183d6",
   "metadata": {
    "lang": "en"
   },
   "source": [
    "### Micro workshop\n",
    "\n",
    "Write a function `print_all(items: list)` that prints the elements of a\n",
    "list `items` to the screen, one item per line:\n",
    "\n",
    "```python\n",
    ">>> print_all([1, 2, 3])\n",
    "1\n",
    "2\n",
    "3\n",
    ">>>\n",
    "```\n",
    "What happens if you call the function with a string as an argument,\n",
    "e.g. `print_all(\"abc\")`"
   ]
  },
  {
   "cell_type": "code",
   "execution_count": null,
   "id": "d14937cc",
   "metadata": {
    "tags": [
     "code-along"
    ]
   },
   "outputs": [],
   "source": [
    "def print_all(items: list):\n",
    "    for item in items:\n",
    "        print(item)"
   ]
  },
  {
   "cell_type": "code",
   "execution_count": null,
   "id": "c09d36c3",
   "metadata": {
    "tags": [
     "code-along"
    ]
   },
   "outputs": [],
   "source": [
    "print_all([1, 2, 3])"
   ]
  },
  {
   "cell_type": "code",
   "execution_count": null,
   "id": "40d796ec",
   "metadata": {
    "tags": [
     "code-along"
    ]
   },
   "outputs": [],
   "source": [
    "print_all(\"abc\")"
   ]
  },
  {
   "cell_type": "markdown",
   "id": "45da66f6",
   "metadata": {
    "lang": "en",
    "slideshow": {
     "slide_type": "subslide"
    }
   },
   "source": [
    "### Ranges"
   ]
  },
  {
   "cell_type": "code",
   "execution_count": null,
   "id": "8765c6b0",
   "metadata": {
    "slideshow": {
     "slide_type": "subslide"
    },
    "tags": [
     "code-along"
    ]
   },
   "outputs": [],
   "source": [
    "for i in range(3):\n",
    "    print(i, end=\", \")"
   ]
  },
  {
   "cell_type": "code",
   "execution_count": null,
   "id": "5e792638",
   "metadata": {
    "tags": [
     "code-along"
    ]
   },
   "outputs": [],
   "source": [
    "for i in range(1, 6, 2):\n",
    "    print(i, end=\", \")"
   ]
  },
  {
   "cell_type": "markdown",
   "id": "36ec5058",
   "metadata": {
    "lang": "en"
   },
   "source": [
    "### Micro workshop\n",
    "\n",
    "Write a function `print_squares(n: int)` that prints the squares of the\n",
    "numbers from 1 to n, one element per line:\n",
    "\n",
    "```python\n",
    ">>>print_square(3)\n",
    "1**2 = 1\n",
    "2**2 = 4\n",
    "3**2 = 9\n",
    ">>>\n",
    "```"
   ]
  },
  {
   "cell_type": "code",
   "execution_count": null,
   "id": "a8ca4fd9",
   "metadata": {
    "tags": [
     "code-along"
    ]
   },
   "outputs": [],
   "source": [
    "def print_squares(n: int):\n",
    "    for i in range(1, n + 1):\n",
    "        print(i, \"**2 = \", i * i, sep=\"\")"
   ]
  },
  {
   "cell_type": "code",
   "execution_count": null,
   "id": "8a02a654",
   "metadata": {
    "tags": [
     "code-along"
    ]
   },
   "outputs": [],
   "source": [
    "print_squares(3)"
   ]
  },
  {
   "cell_type": "markdown",
   "id": "14c22db4",
   "metadata": {
    "lang": "en"
   },
   "source": [
    "## Dictionaries"
   ]
  },
  {
   "cell_type": "code",
   "execution_count": null,
   "id": "39840f61",
   "metadata": {},
   "outputs": [],
   "source": [
    "translations = {\"snake\": \"Schlange\", \"bat\": \"Fledermaus\", \"horse\": \"Hose\"}"
   ]
  },
  {
   "cell_type": "code",
   "execution_count": null,
   "id": "e79a6a89",
   "metadata": {
    "tags": [
     "code-along"
    ]
   },
   "outputs": [],
   "source": [
    "print(translations[\"snake\"])\n",
    "print(translations.get(\"bat\", \"<unbekannt>\"))\n",
    "print(translations.get(\"monkey\", \"<unbekannt>\"))"
   ]
  },
  {
   "cell_type": "code",
   "execution_count": null,
   "id": "c6deaa5f",
   "metadata": {
    "tags": [
     "code-along"
    ]
   },
   "outputs": [],
   "source": [
    "# Error:\n",
    "# translations['monkey']"
   ]
  },
  {
   "cell_type": "code",
   "execution_count": null,
   "id": "e37f4576",
   "metadata": {
    "slideshow": {
     "slide_type": "subslide"
    },
    "tags": [
     "code-along"
    ]
   },
   "outputs": [],
   "source": [
    "translations[\"horse\"] = \"Pferd\"\n",
    "translations[\"horse\"]"
   ]
  },
  {
   "cell_type": "code",
   "execution_count": null,
   "id": "c44ef883",
   "metadata": {
    "slideshow": {
     "slide_type": "subslide"
    },
    "tags": [
     "code-along"
    ]
   },
   "outputs": [],
   "source": [
    "for key in translations.keys():\n",
    "    print(key, end=\" \")"
   ]
  },
  {
   "cell_type": "code",
   "execution_count": null,
   "id": "e1e85e94",
   "metadata": {
    "slideshow": {
     "slide_type": "subslide"
    },
    "tags": [
     "code-along"
    ]
   },
   "outputs": [],
   "source": [
    "for key in translations:\n",
    "    print(key, end=\" \")"
   ]
  },
  {
   "cell_type": "code",
   "execution_count": null,
   "id": "91b524bf",
   "metadata": {
    "tags": [
     "code-along"
    ]
   },
   "outputs": [],
   "source": [
    "for val in translations.values():\n",
    "    print(val, end=\" \")"
   ]
  },
  {
   "cell_type": "code",
   "execution_count": null,
   "id": "d75824ef",
   "metadata": {
    "slideshow": {
     "slide_type": "subslide"
    },
    "tags": [
     "code-along"
    ]
   },
   "outputs": [],
   "source": [
    "for item in translations.items():\n",
    "    print(item, end=\" \")"
   ]
  },
  {
   "cell_type": "code",
   "execution_count": null,
   "id": "4f3fa817",
   "metadata": {
    "tags": [
     "code-along"
    ]
   },
   "outputs": [],
   "source": [
    "for key, val in translations.items():\n",
    "    print(\"Key:\", key, \"\\tValue:\", val)"
   ]
  },
  {
   "cell_type": "code",
   "execution_count": null,
   "id": "bcac8e10",
   "metadata": {},
   "outputs": [],
   "source": []
  }
 ],
 "metadata": {
  "jupytext": {
   "cell_metadata_json": true,
   "encoding": "# -*- coding: utf-8 -*-",
   "formats": "ipynb"
  },
  "kernelspec": {
   "display_name": "Python 3 (ipykernel)",
   "language": "python",
   "name": "python3"
  }
 },
 "nbformat": 4,
 "nbformat_minor": 5
}
