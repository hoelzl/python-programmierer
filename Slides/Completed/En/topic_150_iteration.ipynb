{
 "cells": [
  {
   "cell_type": "markdown",
   "id": "6daf5e10",
   "metadata": {
    "lang": "en",
    "lines_to_next_cell": 2,
    "slideshow": {
     "slide_type": "slide"
    }
   },
   "source": [
    "<img src=\"img/python-logo-notext.svg\"\n",
    "     style=\"display:block;margin:auto;width:10%\"/>\n",
    "<br>\n",
    "<div style=\"text-align:center; font-size:200%;\"><b>Iteration</b></div>\n",
    "<br/>\n",
    "<div style=\"text-align:center;\">Dr. Matthias Hölzl</div>"
   ]
  },
  {
   "cell_type": "markdown",
   "id": "92af2fed",
   "metadata": {
    "lang": "en",
    "slideshow": {
     "slide_type": "slide"
    }
   },
   "source": [
    "# Iteration over lists\n",
    "\n",
    "For iterating over lists (and other data structures), Python provides the\n",
    "already discussed `for` loop:"
   ]
  },
  {
   "cell_type": "code",
   "execution_count": null,
   "id": "80b4990c",
   "metadata": {
    "lines_to_next_cell": 2,
    "tags": [
     "code-along"
    ]
   },
   "outputs": [],
   "source": [
    "my_list = [1, 2, 3, 4]\n",
    "for n in my_list:\n",
    "    print(f\"Item {n}\")"
   ]
  },
  {
   "cell_type": "code",
   "execution_count": null,
   "id": "5ecacbc9",
   "metadata": {
    "lines_to_next_cell": 2,
    "tags": [
     "code-along"
    ]
   },
   "outputs": [],
   "source": [
    "index = 0\n",
    "while index < len(my_list):\n",
    "    n = my_list[index]\n",
    "    print(f\"Item {n}\")\n",
    "    index += 1"
   ]
  },
  {
   "cell_type": "markdown",
   "id": "ee57b6b1",
   "metadata": {
    "lang": "en",
    "slideshow": {
     "slide_type": "slide"
    }
   },
   "source": [
    "## Iteration over lists of lists"
   ]
  },
  {
   "cell_type": "code",
   "execution_count": null,
   "id": "715f0030",
   "metadata": {
    "lines_to_next_cell": 2,
    "tags": [
     "code-along"
    ]
   },
   "outputs": [],
   "source": [
    "a, b = [1, 2]\n",
    "print(a)\n",
    "print(b)"
   ]
  },
  {
   "cell_type": "code",
   "execution_count": null,
   "id": "34dd135d",
   "metadata": {
    "lines_to_next_cell": 2
   },
   "outputs": [],
   "source": [
    "my_list = [[1, 2], [3, 4], [5, 6]]"
   ]
  },
  {
   "cell_type": "code",
   "execution_count": null,
   "id": "a5a1217a",
   "metadata": {
    "lines_to_next_cell": 2,
    "tags": [
     "code-along"
    ]
   },
   "outputs": [],
   "source": [
    "for m, n in my_list:\n",
    "    print(f\"Items {m} and {n}\")"
   ]
  },
  {
   "cell_type": "code",
   "execution_count": null,
   "id": "4bda4160",
   "metadata": {
    "lines_to_next_cell": 2,
    "tags": [
     "code-along"
    ]
   },
   "outputs": [],
   "source": [
    "index = 0\n",
    "while index < len(my_list):\n",
    "    m, n = my_list[index]\n",
    "    print(f\"Items {m} and {n}\")\n",
    "    index += 1"
   ]
  },
  {
   "cell_type": "markdown",
   "id": "d7cf5d6c",
   "metadata": {
    "lang": "en",
    "slideshow": {
     "slide_type": "subslide"
    }
   },
   "source": [
    "# Finding items (again)\n",
    "\n",
    "Our previous version of `find` had to go through the list twice:\n",
    "\n",
    "- Once from `in` to test if the item you are looking for is in the list\n",
    "- Once from `index` to find the index.\n",
    "\n",
    "It would be nicer if we could do it in one go."
   ]
  },
  {
   "cell_type": "code",
   "execution_count": null,
   "id": "a85dbf8c",
   "metadata": {},
   "outputs": [],
   "source": [
    "my_list = [\"a\", \"b\", \"c\", \"d\", \"e\"]"
   ]
  },
  {
   "cell_type": "code",
   "execution_count": null,
   "id": "9da530e8",
   "metadata": {
    "lines_to_next_cell": 2,
    "tags": [
     "code-along"
    ]
   },
   "outputs": [],
   "source": [
    "enumerate(my_list)"
   ]
  },
  {
   "cell_type": "code",
   "execution_count": null,
   "id": "0a740ebc",
   "metadata": {
    "lines_to_next_cell": 2,
    "tags": [
     "code-along"
    ]
   },
   "outputs": [],
   "source": [
    "list(enumerate(my_list))"
   ]
  },
  {
   "cell_type": "code",
   "execution_count": null,
   "id": "688746b9",
   "metadata": {
    "tags": [
     "code-along"
    ]
   },
   "outputs": [],
   "source": [
    "for index, element in enumerate(my_list):\n",
    "    print(f\"index = {index}, element = {element}\")"
   ]
  },
  {
   "cell_type": "code",
   "execution_count": null,
   "id": "b9ce48b2",
   "metadata": {
    "slideshow": {
     "slide_type": "subslide"
    },
    "tags": [
     "code-along"
    ]
   },
   "outputs": [],
   "source": [
    "def find(element, a_list):\n",
    "    result = None\n",
    "    for index, list_entry in enumerate(a_list):\n",
    "        if list_entry == element:\n",
    "            result = index\n",
    "            break\n",
    "    return result"
   ]
  },
  {
   "cell_type": "code",
   "execution_count": null,
   "id": "39e4bf36",
   "metadata": {},
   "outputs": [],
   "source": [
    "my_list = [\"a\", \"b\", \"c\", \"d\", \"a\"]"
   ]
  },
  {
   "cell_type": "code",
   "execution_count": null,
   "id": "648308ff",
   "metadata": {
    "lines_to_next_cell": 2,
    "tags": [
     "code-along"
    ]
   },
   "outputs": [],
   "source": [
    "find(\"a\", my_list)"
   ]
  },
  {
   "cell_type": "code",
   "execution_count": null,
   "id": "dd818773",
   "metadata": {
    "lines_to_next_cell": 2,
    "tags": [
     "code-along"
    ]
   },
   "outputs": [],
   "source": [
    "find(\"d\", my_list)"
   ]
  },
  {
   "cell_type": "code",
   "execution_count": null,
   "id": "304ae449",
   "metadata": {
    "tags": [
     "code-along"
    ]
   },
   "outputs": [],
   "source": [
    "assert find(\"x\", my_list) == None"
   ]
  },
  {
   "cell_type": "code",
   "execution_count": null,
   "id": "1d61430e",
   "metadata": {
    "slideshow": {
     "slide_type": "subslide"
    },
    "tags": [
     "code-along"
    ]
   },
   "outputs": [],
   "source": [
    "# Alternative Implementierung:\n",
    "def find_return(element, a_list):\n",
    "    for index, list_entry in enumerate(a_list):\n",
    "        if list_entry == element:\n",
    "            return index\n",
    "    return None"
   ]
  },
  {
   "cell_type": "code",
   "execution_count": null,
   "id": "8411019e",
   "metadata": {
    "tags": [
     "code-along"
    ]
   },
   "outputs": [],
   "source": [
    "# Mit assert können Invarianten dokumentiert werden:\n",
    "assert find(\"a\", my_list) == find_return(\"a\", my_list)\n",
    "assert find(\"d\", my_list) == find_return(\"d\", my_list)\n",
    "assert find(\"x\", my_list) == find_return(\"x\", my_list)"
   ]
  },
  {
   "cell_type": "markdown",
   "id": "cff1d26c",
   "metadata": {
    "lang": "en",
    "slideshow": {
     "slide_type": "subslide"
    }
   },
   "source": [
    "## Mini workshop\n",
    "\n",
    " - Notebook `workshop_100_lists_part2`\n",
    " - \"Finding in lists\" section"
   ]
  },
  {
   "cell_type": "markdown",
   "id": "8102fb04",
   "metadata": {
    "lang": "en",
    "slideshow": {
     "slide_type": "slide"
    }
   },
   "source": [
    "## Aggregation of list items"
   ]
  },
  {
   "cell_type": "code",
   "execution_count": null,
   "id": "d0a50680",
   "metadata": {
    "tags": [
     "code-along"
    ]
   },
   "outputs": [],
   "source": [
    "def summe(zahlen):\n",
    "    ergebnis = 0\n",
    "    for n in zahlen:\n",
    "        ergebnis += n\n",
    "    return ergebnis"
   ]
  },
  {
   "cell_type": "code",
   "execution_count": null,
   "id": "8eb8b0fc",
   "metadata": {
    "lines_to_next_cell": 2,
    "tags": [
     "code-along"
    ]
   },
   "outputs": [],
   "source": [
    "summe([1, 2, 3])"
   ]
  },
  {
   "cell_type": "markdown",
   "id": "bd2865c3",
   "metadata": {
    "lang": "en",
    "slideshow": {
     "slide_type": "subslide"
    }
   },
   "source": [
    "## Mini workshop\n",
    "\n",
    " - Notebook `workshop_100_lists_part2`\n",
    " - Section \"Average of a list\""
   ]
  },
  {
   "cell_type": "markdown",
   "id": "b980adee",
   "metadata": {
    "lang": "en",
    "slideshow": {
     "slide_type": "slide"
    }
   },
   "source": [
    "## Transformation of lists"
   ]
  },
  {
   "cell_type": "code",
   "execution_count": null,
   "id": "d6c6b9f7",
   "metadata": {
    "lines_to_next_cell": 2,
    "tags": [
     "code-along"
    ]
   },
   "outputs": [],
   "source": [
    "result = []\n",
    "for item in [1, 2, 3, 4]:\n",
    "    result.append(item + 1)\n",
    "result"
   ]
  },
  {
   "cell_type": "code",
   "execution_count": null,
   "id": "7b01dc34",
   "metadata": {
    "lines_to_next_cell": 2,
    "tags": [
     "code-along"
    ]
   },
   "outputs": [],
   "source": [
    "result = []\n",
    "for n in [1, 2, 3, 4]:\n",
    "    result.append(f\"Item {n}\")\n",
    "result"
   ]
  },
  {
   "cell_type": "markdown",
   "id": "20456ab9",
   "metadata": {
    "lang": "en",
    "slideshow": {
     "slide_type": "subslide"
    }
   },
   "source": [
    "## Mini workshop\n",
    "\n",
    "- Notebook `workshop_100_lists_part2`\n",
    "- Section \"Square numbers\""
   ]
  },
  {
   "cell_type": "markdown",
   "id": "3be9b262",
   "metadata": {
    "lang": "en",
    "slideshow": {
     "slide_type": "slide"
    }
   },
   "source": [
    "# Filtering lists"
   ]
  },
  {
   "cell_type": "code",
   "execution_count": null,
   "id": "34655ce6",
   "metadata": {
    "lines_to_next_cell": 2,
    "tags": [
     "code-along"
    ]
   },
   "outputs": [],
   "source": [
    "result = []\n",
    "for item in [1, 2, 3, 4, 5, 6]:\n",
    "    if item % 2 == 0:\n",
    "        result.append(item)\n",
    "result"
   ]
  },
  {
   "cell_type": "code",
   "execution_count": null,
   "id": "056e0a16",
   "metadata": {
    "lines_to_next_cell": 2,
    "tags": [
     "code-along"
    ]
   },
   "outputs": [],
   "source": [
    "result = []\n",
    "for item in [\"abc\", \"def\", \"asd\", \"qwe\", \"bab\"]:\n",
    "    if \"ab\" in item:\n",
    "        result.append(item)\n",
    "result"
   ]
  },
  {
   "cell_type": "markdown",
   "id": "1be9409f",
   "metadata": {
    "lang": "en",
    "slideshow": {
     "slide_type": "subslide"
    }
   },
   "source": [
    "## Mini workshop\n",
    "\n",
    " - Notebook `workshop_100_lists_part2`\n",
    " - Section \"Filtering lists\""
   ]
  },
  {
   "cell_type": "code",
   "execution_count": null,
   "id": "2cc61edf",
   "metadata": {},
   "outputs": [],
   "source": []
  }
 ],
 "metadata": {
  "jupytext": {
   "cell_metadata_json": true,
   "encoding": "# -*- coding: utf-8 -*-",
   "formats": "ipynb"
  },
  "kernelspec": {
   "display_name": "Python 3 (ipykernel)",
   "language": "python",
   "name": "python3"
  }
 },
 "nbformat": 4,
 "nbformat_minor": 5
}
