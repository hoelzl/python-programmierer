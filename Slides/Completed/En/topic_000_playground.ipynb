{
 "cells": [
  {
   "cell_type": "markdown",
   "id": "3280b1aa",
   "metadata": {
    "lang": "en"
   },
   "source": [
    "# Playground\n",
    "\n",
    "An empty notebook for experiments and small examples."
   ]
  },
  {
   "cell_type": "code",
   "execution_count": null,
   "id": "2d50a4be",
   "metadata": {},
   "outputs": [],
   "source": []
  }
 ],
 "metadata": {
  "jupytext": {
   "cell_metadata_json": true,
   "encoding": "# -*- coding: utf-8 -*-",
   "formats": "ipynb"
  },
  "kernelspec": {
   "display_name": "Python 3 (ipykernel)",
   "language": "python",
   "name": "python3"
  }
 },
 "nbformat": 4,
 "nbformat_minor": 5
}
