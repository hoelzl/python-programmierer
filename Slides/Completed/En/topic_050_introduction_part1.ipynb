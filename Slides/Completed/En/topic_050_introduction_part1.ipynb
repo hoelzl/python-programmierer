{
 "cells": [
  {
   "cell_type": "markdown",
   "id": "5f784b96",
   "metadata": {
    "lang": "en",
    "slideshow": {
     "slide_type": "slide"
    }
   },
   "source": [
    "<img src=\"img/python-logo-notext.svg\"\n",
    "     style=\"display:block;margin:auto;width:10%\"/>\n",
    "<br>\n",
    "<div style=\"text-align:center; font-size:200%;\"><b>Introduction to Python: Part 1</b></div>\n",
    "<br/>\n",
    "<div style=\"text-align:center;\">Dr. Matthias Hölzl</div>"
   ]
  },
  {
   "cell_type": "markdown",
   "id": "84881e6b",
   "metadata": {
    "lang": "en",
    "slideshow": {
     "slide_type": "slide"
    }
   },
   "source": [
    "# Parts of a program\n",
    "\n",
    "We want to write a program that outputs\n",
    "\n",
    "```\n",
    "Hello world!\n",
    "```\n",
    "\n",
    "on the screen.\n",
    "\n",
    "What do we need for this?"
   ]
  },
  {
   "cell_type": "markdown",
   "id": "d811f792",
   "metadata": {
    "lang": "en",
    "slideshow": {
     "slide_type": "subslide"
    }
   },
   "source": [
    "What do we need for this?\n",
    "\n",
    "- Data\n",
    "    - the text `Hello, world!`\n",
    "- Instructions\n",
    "    - *Output the following text on the screen*\n",
    "- Comments\n",
    "    - Notes for the programmer, are ignored by Python"
   ]
  },
  {
   "cell_type": "markdown",
   "id": "6f6aff5a",
   "metadata": {
    "lang": "en",
    "slideshow": {
     "slide_type": "subslide"
    }
   },
   "source": [
    "## Comments\n",
    "\n",
    "- `#` followed by any text\n",
    "- to the end of the line"
   ]
  },
  {
   "cell_type": "code",
   "execution_count": null,
   "id": "81fe6fcd",
   "metadata": {
    "lines_to_next_cell": 2
   },
   "outputs": [],
   "source": [
    "# Das ist ein Kommentar.\n",
    "# Alle Zeilen in dieser Zelle werden\n",
    "# von Python ignoriert."
   ]
  },
  {
   "cell_type": "markdown",
   "id": "3704cf30",
   "metadata": {
    "lang": "en",
    "slideshow": {
     "slide_type": "subslide"
    }
   },
   "source": [
    "# Data\n",
    "\n",
    "- Numbers: `123`, `3.141592`\n",
    "- Text (strings): `'This is a text'`, `\"Hello, world!\"`"
   ]
  },
  {
   "cell_type": "code",
   "execution_count": null,
   "id": "5c601d0d",
   "metadata": {
    "incorrectly_encoded_metadata": "{\"slideshow\": {\"slide_type\": \"subslide\"}} tags=[\"code-along\"]"
   },
   "outputs": [],
   "source": [
    "123"
   ]
  },
  {
   "cell_type": "code",
   "execution_count": null,
   "id": "6f5d0c95",
   "metadata": {
    "tags": [
     "code-along"
    ]
   },
   "outputs": [],
   "source": [
    "3.141592"
   ]
  },
  {
   "cell_type": "code",
   "execution_count": null,
   "id": "268e815e",
   "metadata": {
    "incorrectly_encoded_metadata": "{\"slideshow\": {\"slide_type\": \"subslide\"}} tags=[\"code-along\"]"
   },
   "outputs": [],
   "source": [
    "\"Das ist ein Text\""
   ]
  },
  {
   "cell_type": "code",
   "execution_count": null,
   "id": "98f84993",
   "metadata": {
    "tags": [
     "code-along"
    ]
   },
   "outputs": [],
   "source": [
    "'Hello, world!'"
   ]
  },
  {
   "cell_type": "code",
   "execution_count": null,
   "id": "90ad3bdf",
   "metadata": {
    "tags": [
     "code-along"
    ]
   },
   "outputs": [],
   "source": [
    "\"\"\"Auch ein Text. (Another text.)\n",
    "Der über mehrere Zeilen geht. (Spanning multiple lines.)\"\"\""
   ]
  },
  {
   "cell_type": "markdown",
   "id": "0bc1e7cf",
   "metadata": {
    "lang": "en",
    "slideshow": {
     "slide_type": "subslide"
    }
   },
   "source": [
    "## Mini workshop\n",
    "\n",
    "- Notebook `workshop_050_introduction_part1`\n",
    "- Section \"Introduction\""
   ]
  },
  {
   "cell_type": "markdown",
   "id": "a7958561",
   "metadata": {
    "lang": "en",
    "slideshow": {
     "slide_type": "slide"
    }
   },
   "source": [
    "## Reminder: `print()` function\n",
    "\n",
    "Multiple arguments can be passed to a `print()` statement.\n",
    "- The arguments are separated by commas\n",
    "- All arguments are printed on one line, with spaces between arguments."
   ]
  },
  {
   "cell_type": "code",
   "execution_count": null,
   "id": "159ffe3b",
   "metadata": {
    "tags": [
     "code-along"
    ]
   },
   "outputs": [],
   "source": [
    "print(\"Der Wert von 1 + 1 ist\", 1 + 1, \".\")"
   ]
  },
  {
   "cell_type": "markdown",
   "id": "010ae0e5",
   "metadata": {
    "lang": "en",
    "slideshow": {
     "slide_type": "subslide"
    }
   },
   "source": [
    "By supplying a *named argument* `sep=''`, the spaces in the output are suppressed:"
   ]
  },
  {
   "cell_type": "code",
   "execution_count": null,
   "id": "3cdb7b9a",
   "metadata": {
    "tags": [
     "code-along"
    ]
   },
   "outputs": [],
   "source": [
    "print(\"Der Wert von 1 + 1 ist\", 1 + 1, \".\", sep=\"\")"
   ]
  },
  {
   "cell_type": "markdown",
   "id": "3bc14496",
   "metadata": {
    "lang": "en",
    "slideshow": {
     "slide_type": "subslide"
    }
   },
   "source": [
    "Any other strings are also allowed as the value of the `sep` argument:"
   ]
  },
  {
   "cell_type": "code",
   "execution_count": null,
   "id": "5037ae95",
   "metadata": {
    "tags": [
     "code-along"
    ]
   },
   "outputs": [],
   "source": [
    "# CSV (don't do this!)\n",
    "print(1, 3, 7.5, 2, sep=\",\")"
   ]
  },
  {
   "cell_type": "code",
   "execution_count": null,
   "id": "8922265e",
   "metadata": {
    "tags": [
     "code-along"
    ]
   },
   "outputs": [],
   "source": [
    "# Uh, oh\n",
    "print(1, 3, 7.5, 2, \"who, me?\", sep=\",\")"
   ]
  },
  {
   "cell_type": "markdown",
   "id": "2108412e",
   "metadata": {
    "lang": "en",
    "slideshow": {
     "slide_type": "slide"
    }
   },
   "source": [
    "# Numbers and maths\n",
    "\n",
    "- Integers: `1`, `837`, `-12`\n",
    "- Floating point numbers: `0.5`, `123.4`, `-0.01`\n",
    "- Arithmetic operations:\n",
    "    - Addition: `+`\n",
    "    - Subtraction: `-`\n",
    "    - Multiplication: `*`\n",
    "    - Division: `/`"
   ]
  },
  {
   "cell_type": "markdown",
   "id": "4a7edbb4",
   "metadata": {
    "lang": "en",
    "slideshow": {
     "slide_type": "subslide"
    }
   },
   "source": [
    "## Python as pocket calculator"
   ]
  },
  {
   "cell_type": "code",
   "execution_count": null,
   "id": "55af3b4e",
   "metadata": {
    "tags": [
     "code-along"
    ]
   },
   "outputs": [],
   "source": [
    "17 + 4"
   ]
  },
  {
   "cell_type": "code",
   "execution_count": null,
   "id": "93a83abe",
   "metadata": {
    "tags": [
     "code-along"
    ]
   },
   "outputs": [],
   "source": [
    "1 + 4 * 4 + (3 - 1) * (1 + 1)"
   ]
  },
  {
   "cell_type": "markdown",
   "id": "c11d5c84",
   "metadata": {
    "lang": "en",
    "slideshow": {
     "slide_type": "subslide"
    }
   },
   "source": [
    "## Different types of numbers\n",
    "\n",
    "- Python distinguishes integers and floating point numbers:\n",
    "    - `1` is an integer (`int`)\n",
    "    - `1.0` is a floating point number (`float`)\n",
    "- With `type(...)` you can get the type of the argument:"
   ]
  },
  {
   "cell_type": "code",
   "execution_count": null,
   "id": "7ae7d446",
   "metadata": {
    "incorrectly_encoded_metadata": "{\"slideshow\": {\"slide_type\": \"subslide\"}} tags=[\"code-along\"]"
   },
   "outputs": [],
   "source": [
    "type(1)"
   ]
  },
  {
   "cell_type": "code",
   "execution_count": null,
   "id": "5fbddf97",
   "metadata": {
    "tags": [
     "code-along"
    ]
   },
   "outputs": [],
   "source": [
    "type(1.0)"
   ]
  },
  {
   "cell_type": "code",
   "execution_count": null,
   "id": "6ec0c4a7",
   "metadata": {
    "tags": [
     "code-along"
    ]
   },
   "outputs": [],
   "source": [
    "type(\"1\")"
   ]
  },
  {
   "cell_type": "markdown",
   "id": "386bda7c",
   "metadata": {
    "lang": "en",
    "slideshow": {
     "slide_type": "subslide"
    }
   },
   "source": [
    "Integers in Python have no (practically relevant) upper limit:"
   ]
  },
  {
   "cell_type": "code",
   "execution_count": null,
   "id": "d5376517",
   "metadata": {
    "tags": [
     "code-along"
    ]
   },
   "outputs": [],
   "source": [
    "10000000000000000000000000000000000000000000000000 + 500"
   ]
  },
  {
   "cell_type": "code",
   "execution_count": null,
   "id": "15c83da7",
   "metadata": {
    "tags": [
     "code-along"
    ]
   },
   "outputs": [],
   "source": [
    "type(10000000000000000000000000000000000000000000000000)"
   ]
  },
  {
   "cell_type": "markdown",
   "id": "3f455585",
   "metadata": {
    "lang": "en",
    "slideshow": {
     "slide_type": "subslide"
    }
   },
   "source": [
    "## Mini workshop\n",
    "\n",
    "- Notebook `workshop_050_introduction_part1`\n",
    "- Section \"Numbers and mathematics\""
   ]
  },
  {
   "cell_type": "markdown",
   "id": "6cf6eb95",
   "metadata": {
    "lang": "en",
    "slideshow": {
     "slide_type": "slide"
    }
   },
   "source": [
    "## Arithmetic operations\n",
    "\n",
    "| Operator | Operation            |\n",
    "|:--------:|:---------------------|\n",
    "| +        | Sum                  |\n",
    "| -        | Difference           |\n",
    "| *        | Multiplication       |\n",
    "| /        | Division             |\n",
    "| **       | Power                |\n",
    "| %        | Modulo, Remainder    |\n",
    "| //       | Integer division     |"
   ]
  },
  {
   "cell_type": "markdown",
   "id": "78bd684e",
   "metadata": {
    "lang": "en",
    "slideshow": {
     "slide_type": "subslide"
    }
   },
   "source": [
    "### Division"
   ]
  },
  {
   "cell_type": "code",
   "execution_count": null,
   "id": "adcbc94b",
   "metadata": {
    "tags": [
     "code-along"
    ]
   },
   "outputs": [],
   "source": [
    "4 / 2"
   ]
  },
  {
   "cell_type": "code",
   "execution_count": null,
   "id": "edd4f639",
   "metadata": {
    "tags": [
     "code-along"
    ]
   },
   "outputs": [],
   "source": [
    "20 / 7"
   ]
  },
  {
   "cell_type": "code",
   "execution_count": null,
   "id": "a0785b14",
   "metadata": {
    "incorrectly_encoded_metadata": "{\"slideshow\": {\"slide_type\": \"subslide\"}} tags=[\"code-along\"]"
   },
   "outputs": [],
   "source": [
    "# // und % können zur Division mit Rest verwendet werden:\n",
    "20 // 7  # Wie oft geht 7 in 20?"
   ]
  },
  {
   "cell_type": "code",
   "execution_count": null,
   "id": "ed0f028a",
   "metadata": {
    "tags": [
     "code-along"
    ]
   },
   "outputs": [],
   "source": [
    "20 % 7  # Welcher Rest bleibt dabei?"
   ]
  },
  {
   "cell_type": "code",
   "execution_count": null,
   "id": "4c1ca051",
   "metadata": {
    "tags": [
     "code-along"
    ]
   },
   "outputs": [],
   "source": [
    "(20 // 7) * 7 + (20 % 7)"
   ]
  },
  {
   "cell_type": "markdown",
   "id": "3c9baa05",
   "metadata": {
    "lang": "en",
    "slideshow": {
     "slide_type": "subslide"
    }
   },
   "source": [
    "`/` is left-associative (just like `//`, `%`, `+`, `-`, `*`)"
   ]
  },
  {
   "cell_type": "code",
   "execution_count": null,
   "id": "d8591f58",
   "metadata": {
    "tags": [
     "code-along"
    ]
   },
   "outputs": [],
   "source": [
    "20 / 5 / 2"
   ]
  },
  {
   "cell_type": "code",
   "execution_count": null,
   "id": "a2397706",
   "metadata": {
    "tags": [
     "code-along"
    ]
   },
   "outputs": [],
   "source": [
    "# Besser:\n",
    "(20 / 5) / 2"
   ]
  },
  {
   "cell_type": "code",
   "execution_count": null,
   "id": "98091db0",
   "metadata": {
    "tags": [
     "code-along"
    ]
   },
   "outputs": [],
   "source": [
    "20 / (5 / 2)"
   ]
  },
  {
   "cell_type": "markdown",
   "id": "5678d8a1",
   "metadata": {
    "lang": "en",
    "slideshow": {
     "slide_type": "subslide"
    }
   },
   "source": [
    "### Exponentiation (power)"
   ]
  },
  {
   "cell_type": "code",
   "execution_count": null,
   "id": "1ad62029",
   "metadata": {
    "tags": [
     "code-along"
    ]
   },
   "outputs": [],
   "source": [
    "2**3"
   ]
  },
  {
   "cell_type": "code",
   "execution_count": null,
   "id": "e95d97e3",
   "metadata": {
    "tags": [
     "code-along"
    ]
   },
   "outputs": [],
   "source": [
    "2 * 2 * 2"
   ]
  },
  {
   "cell_type": "code",
   "execution_count": null,
   "id": "0b642f0c",
   "metadata": {
    "tags": [
     "code-along"
    ]
   },
   "outputs": [],
   "source": [
    "2**4"
   ]
  },
  {
   "cell_type": "code",
   "execution_count": null,
   "id": "20e3ee66",
   "metadata": {
    "tags": [
     "code-along"
    ]
   },
   "outputs": [],
   "source": [
    "2 * 2 * 2 * 2"
   ]
  },
  {
   "cell_type": "markdown",
   "id": "99775ba1",
   "metadata": {
    "lang": "en",
    "slideshow": {
     "slide_type": "subslide"
    }
   },
   "source": [
    "`**` is right-associative\n",
    "\n",
    "$2^{(2^3)} = 2^8 = 256 \\qquad$\n",
    "$(2^2)^3 = 4^3 = 64$"
   ]
  },
  {
   "cell_type": "code",
   "execution_count": null,
   "id": "fb37db1d",
   "metadata": {
    "tags": [
     "code-along"
    ]
   },
   "outputs": [],
   "source": [
    "2**2**3"
   ]
  },
  {
   "cell_type": "code",
   "execution_count": null,
   "id": "7fc58ab1",
   "metadata": {
    "tags": [
     "code-along"
    ]
   },
   "outputs": [],
   "source": [
    "2 ** (2**3)"
   ]
  },
  {
   "cell_type": "code",
   "execution_count": null,
   "id": "319ebcf6",
   "metadata": {
    "tags": [
     "code-along"
    ]
   },
   "outputs": [],
   "source": [
    "(2**2) ** 3"
   ]
  },
  {
   "cell_type": "markdown",
   "id": "065a1389",
   "metadata": {
    "lang": "en",
    "slideshow": {
     "slide_type": "subslide"
    }
   },
   "source": [
    "The `**` operator can also be used to extract roots:\n",
    "\n",
    "$\\sqrt{4} = 4^{1/2} = 2\\qquad$\n",
    "$\\sqrt{9} = 9^{1/2} = 3\\qquad$\n",
    "$\\sqrt{2} = 2^{1/2} \\approx 1.4142\\qquad$"
   ]
  },
  {
   "cell_type": "code",
   "execution_count": null,
   "id": "f615bd8f",
   "metadata": {
    "tags": [
     "code-along"
    ]
   },
   "outputs": [],
   "source": [
    "4**0.5"
   ]
  },
  {
   "cell_type": "code",
   "execution_count": null,
   "id": "b50eda64",
   "metadata": {
    "tags": [
     "code-along"
    ]
   },
   "outputs": [],
   "source": [
    "9**0.5"
   ]
  },
  {
   "cell_type": "code",
   "execution_count": null,
   "id": "0c60317f",
   "metadata": {
    "tags": [
     "code-along"
    ]
   },
   "outputs": [],
   "source": [
    "2**0.5"
   ]
  },
  {
   "cell_type": "markdown",
   "id": "4b9fe810",
   "metadata": {
    "lang": "en",
    "slideshow": {
     "slide_type": "slide"
    }
   },
   "source": [
    "# Variables\n",
    "\n",
    "We want to build a fence around our new property.\n",
    "\n",
    "<img src=\"img/fence.svg\" style=\"display:block;margin:auto;width:50%\"/>"
   ]
  },
  {
   "cell_type": "markdown",
   "id": "f28f5f86",
   "metadata": {
    "lang": "en"
   },
   "source": [
    "<img src=\"img/fence.svg\" style=\"vertical-align:top;overflow:auto;float:right;width:25%\"/>\n",
    "\n",
    "The measured lengths are:\n",
    "- Birkenweg: 20m\n",
    "- Fichtengasse: 30m\n",
    "\n",
    "How long does our fence have to be?"
   ]
  },
  {
   "cell_type": "code",
   "execution_count": null,
   "id": "ba7c26dd",
   "metadata": {
    "tags": [
     "code-along"
    ]
   },
   "outputs": [],
   "source": [
    "20 + 30 + (20**2 + 30**2) ** 0.5"
   ]
  },
  {
   "cell_type": "markdown",
   "id": "cc7abd0a",
   "metadata": {
    "lang": "en",
    "slideshow": {
     "slide_type": "subslide"
    }
   },
   "source": [
    "<img src=\"img/fence.svg\" style=\"vertical-align:top;overflow:auto;float:right;width:25%\"/>\n",
    "\n",
    "It is not clear what the numbers in the preceding expression mean. Can we do better?"
   ]
  },
  {
   "cell_type": "code",
   "execution_count": null,
   "id": "d7d573e9",
   "metadata": {
    "tags": [
     "code-along"
    ]
   },
   "outputs": [],
   "source": [
    "länge_birkenweg = 20\n",
    "länge_fichtengasse = 30\n",
    "länge_hauptstr = (länge_birkenweg**2 + länge_fichtengasse**2) ** 0.5\n",
    "länge_gesamt = länge_birkenweg + länge_fichtengasse + länge_hauptstr\n",
    "ergebniss = länge_gesamt"
   ]
  },
  {
   "cell_type": "markdown",
   "id": "b4f1e0cc",
   "metadata": {
    "lang": "en",
    "slideshow": {
     "slide_type": "slide"
    }
   },
   "source": [
    "## More detailed description of variables\n",
    "\n",
    "<img src=\"img/variables-01.svg\" style=\"float:right;margin:auto;width:50%\"/>\n",
    "\n",
    "A *variable* is\n",
    "- a <span style=\"color:red;\">\"reference\"</span> to an \"object\"\n",
    "- which has a <span style=\"color:red;\">name</span>.\n",
    "\n",
    "<span style=\"color:blue;\">An object </span> can be referenced by<span style=\"color:blue;\"> several variables </span>!"
   ]
  },
  {
   "cell_type": "markdown",
   "id": "70d2d899",
   "metadata": {
    "lang": "en",
    "slideshow": {
     "slide_type": "subslide"
    }
   },
   "source": [
    "<img src=\"img/variables-01.svg\" style=\"float:right;margin:auto;width:50%\"/>\n",
    "\n",
    "A variable is\n",
    "- generated by `name = value`\n",
    "- read by `name`\n",
    "- changed by `name=value`\n",
    "\n",
    "Creating and changing variable <br/>\n",
    "are *statements*."
   ]
  },
  {
   "cell_type": "code",
   "execution_count": null,
   "id": "b2e8626f",
   "metadata": {
    "incorrectly_encoded_metadata": "{\"slideshow\": {\"slide_type\": \"subslide\"}} tags=[\"code-along\"]"
   },
   "outputs": [],
   "source": [
    "länge_birkenweg = 20\n",
    "print(länge_birkenweg)\n",
    "länge_birkenweg = 25\n",
    "print(länge_birkenweg)"
   ]
  },
  {
   "cell_type": "markdown",
   "id": "d18af650",
   "metadata": {
    "lang": "en",
    "slideshow": {
     "slide_type": "slide"
    }
   },
   "source": [
    "## Properties of variables in Python\n",
    "\n",
    "- A variable can store values of any data type\n",
    "    - There are no `int` variables, etc.\n",
    "    - Anather way of saying this: Python is dynamically typed\n",
    "- Variables must be created before they are used\n",
    "- You can assign new values to variables\n",
    "    - The *old value* of the variable can be used on the right hand side:<br/> `jobs = jobs + 1`"
   ]
  },
  {
   "cell_type": "code",
   "execution_count": null,
   "id": "94a9b61d",
   "metadata": {
    "incorrectly_encoded_metadata": "{\"slideshow\": {\"slide_type\": \"subslide\"}} tags=[\"code-along\"]"
   },
   "outputs": [],
   "source": [
    "x = \"Hallo!\"\n",
    "print(x)\n",
    "x = 123\n",
    "print(x)\n",
    "x = x + 1\n",
    "print(x)\n",
    "x += 1\n",
    "print(x)"
   ]
  },
  {
   "cell_type": "code",
   "execution_count": null,
   "id": "4633e59d",
   "metadata": {
    "incorrectly_encoded_metadata": "{\"slideshow\": {\"slide_type\": \"subslide\"}} tags=[\"code-along\"]",
    "lines_to_next_cell": 2
   },
   "outputs": [],
   "source": [
    "# print(diese_variable_gibt_es_nicht)"
   ]
  },
  {
   "cell_type": "code",
   "execution_count": null,
   "id": "e6b0aa0f",
   "metadata": {
    "lines_to_next_cell": 2,
    "tags": [
     "code-along"
    ]
   },
   "outputs": [],
   "source": [
    "# nonono = nonono + 1"
   ]
  },
  {
   "cell_type": "markdown",
   "id": "94055c23",
   "metadata": {
    "lang": "en",
    "slideshow": {
     "slide_type": "slide"
    }
   },
   "source": [
    "## Variable names in Python\n",
    "\n",
    "- Begin with a letter or underscore `_`\n",
    "    - Umlauts also count as letters\n",
    "- Can contain digits, letters and underscores `_`\n",
    "- May contain many other Unicode characters\n",
    "    - But it's usually better to avoid them...\n",
    "- A distinction is made between upper and lower case\n",
    "    - `A` is a different variable than `a`"
   ]
  },
  {
   "cell_type": "markdown",
   "id": "a0bcf6a9",
   "metadata": {
    "lang": "en",
    "slideshow": {
     "slide_type": "subslide"
    }
   },
   "source": [
    "### Style\n",
    "\n",
    "- Variable names are written in lower case\n",
    "    - Except constant variables: `CONSTANT_VAR`\n",
    "- Components are separated by underscores `_`\n",
    "    - This style is called snake case\n",
    "- Variables that start and end with two underscores\n",
    "  typically have a special meaning (*dunders*):\n",
    "    - `__class__`, `__name__`\n",
    "    - Normal user-defined variables should not be dunders"
   ]
  },
  {
   "cell_type": "code",
   "execution_count": null,
   "id": "e07e2d14",
   "metadata": {
    "incorrectly_encoded_metadata": "{\"slideshow\": {\"slide_type\": \"subslide\"}} tags=[\"code-along\"]"
   },
   "outputs": [],
   "source": [
    "print(__name__)\n",
    "print(type(__name__))"
   ]
  },
  {
   "cell_type": "code",
   "execution_count": null,
   "id": "4acb7e0a",
   "metadata": {
    "tags": [
     "code-along"
    ]
   },
   "outputs": [],
   "source": [
    "# Bitte nicht nachmachen, obwohl es möglich ist/ Don't do this:\n",
    "__my_var__ = 123"
   ]
  },
  {
   "cell_type": "code",
   "execution_count": null,
   "id": "4d2584c2",
   "metadata": {
    "tags": [
     "code-along"
    ]
   },
   "outputs": [],
   "source": [
    "__my_var__"
   ]
  },
  {
   "cell_type": "markdown",
   "id": "3ca6f68a",
   "metadata": {
    "lang": "en",
    "slideshow": {
     "slide_type": "subslide"
    }
   },
   "source": [
    "- Sometimes \"private\" variables are written with a leading underscore: `_my_var`\n",
    "    - This is particularly common in older code (for global variables)\n",
    "    - There are more conventions for classes\n",
    "- Most Python projects follow the conventions in\n",
    "  [PEP 8](https://www.python.org/dev/peps/pep-0008/#naming-conventions)"
   ]
  },
  {
   "cell_type": "code",
   "execution_count": null,
   "id": "cac94afc",
   "metadata": {
    "tags": [
     "code-along"
    ]
   },
   "outputs": [],
   "source": [
    "_my_var = 234"
   ]
  },
  {
   "cell_type": "code",
   "execution_count": null,
   "id": "4bf4cb88",
   "metadata": {
    "tags": [
     "code-along"
    ]
   },
   "outputs": [],
   "source": [
    "_my_var"
   ]
  },
  {
   "cell_type": "code",
   "execution_count": null,
   "id": "babc734d",
   "metadata": {
    "slideshow": {
     "slide_type": "subslide"
    }
   },
   "outputs": [],
   "source": [
    "variable_1 = 123\n",
    "VARIABLE_1 = 234\n",
    "Variable_1 = 345\n",
    "variablE_1 = 456"
   ]
  },
  {
   "cell_type": "code",
   "execution_count": null,
   "id": "3c2ba4ec",
   "metadata": {},
   "outputs": [],
   "source": [
    "print(variable_1)\n",
    "print(VARIABLE_1)\n",
    "print(Variable_1)\n",
    "print(variablE_1)"
   ]
  },
  {
   "cell_type": "code",
   "execution_count": null,
   "id": "20166823",
   "metadata": {
    "incorrectly_encoded_metadata": "{\"slideshow\": {\"slide_type\": \"subslide\"}} tags=[\"code-along\"]"
   },
   "outputs": [],
   "source": [
    "_my_var = 1\n",
    "print(_my_var)\n",
    "_my_var = _my_var + 5\n",
    "print(_my_var)"
   ]
  },
  {
   "cell_type": "code",
   "execution_count": null,
   "id": "596b46b0",
   "metadata": {
    "slideshow": {
     "slide_type": "subslide"
    }
   },
   "outputs": [],
   "source": [
    "größenmaßstäbe_der_fußgängerübergänge = 0.3\n",
    "größenmaßstäbe_der_fußgängerübergänge"
   ]
  },
  {
   "cell_type": "code",
   "execution_count": null,
   "id": "16a07b4a",
   "metadata": {
    "lines_to_next_cell": 2
   },
   "outputs": [],
   "source": [
    "# me@foo = 1"
   ]
  },
  {
   "cell_type": "code",
   "execution_count": null,
   "id": "030eb822",
   "metadata": {
    "lines_to_next_cell": 2,
    "slideshow": {
     "slide_type": "subslide"
    }
   },
   "outputs": [],
   "source": [
    "α = 0.2\n",
    "β = 0.7\n",
    "γ = α**2 + 3 * β**2\n",
    "print(γ)\n",
    "αβγ = α * β * γ\n",
    "print(αβγ)\n",
    "Σ = 1 + 2 + 3\n",
    "print(Σ)\n",
    "# ∑ = 1 + 2 + 3 # Unzulässig!"
   ]
  },
  {
   "cell_type": "markdown",
   "id": "8c05f8c3",
   "metadata": {
    "lang": "en",
    "slideshow": {
     "slide_type": "subslide"
    }
   },
   "source": [
    "## Mini workshop\n",
    "\n",
    "- Notebook `workshop_050_introduction_part1`\n",
    "- Section \"Pirates\""
   ]
  },
  {
   "cell_type": "markdown",
   "id": "7433bf55",
   "metadata": {
    "lang": "en",
    "slideshow": {
     "slide_type": "slide"
    }
   },
   "source": [
    "## Assignment to multiple variables\n",
    "\n",
    "In Python, multiple variables can be defined (or assigned values) at the same time:"
   ]
  },
  {
   "cell_type": "code",
   "execution_count": null,
   "id": "eadf540e",
   "metadata": {
    "tags": [
     "code-along"
    ]
   },
   "outputs": [],
   "source": [
    "a, b = 1, 2\n",
    "print(a)\n",
    "print(b)"
   ]
  },
  {
   "cell_type": "markdown",
   "id": "94271d55",
   "metadata": {
    "lang": "en",
    "slideshow": {
     "slide_type": "slide"
    }
   },
   "source": [
    "# Functions\n",
    "\n",
    "We want to start a company for fencing triangular plots of land.\n",
    "\n",
    "For each property bordered by streets $A$, $B$ and $C$ we calculate:"
   ]
  },
  {
   "cell_type": "code",
   "execution_count": null,
   "id": "8d530894",
   "metadata": {},
   "outputs": [],
   "source": [
    "länge_a = 10  # Beispielwert\n",
    "länge_b = 40  # Beispielwert\n",
    "länge_c = (länge_a**2 + länge_b**2) ** 0.5\n",
    "länge_gesamt = länge_a + länge_b + länge_c\n",
    "print(länge_gesamt)"
   ]
  },
  {
   "cell_type": "markdown",
   "id": "817de795",
   "metadata": {
    "lang": "en"
   },
   "source": [
    "Can we make this a little more elegant?"
   ]
  },
  {
   "cell_type": "markdown",
   "id": "3cca4106",
   "metadata": {
    "lang": "en",
    "slideshow": {
     "slide_type": "subslide"
    }
   },
   "source": [
    "## Pythagorean theorem\n",
    "\n",
    "We always calculate the length of $C$ from $A$ and $B$ according to the theorem of\n",
    "Pythagoras: $C = \\sqrt{A^2 + B^2}$.\n",
    "\n",
    "We can express this in Python using a *function*:"
   ]
  },
  {
   "cell_type": "code",
   "execution_count": null,
   "id": "07c35a97",
   "metadata": {
    "incorrectly_encoded_metadata": "{\"slideshow\": {\"slide_type\": \"subslide\"}} tags=[\"code-along\"]"
   },
   "outputs": [],
   "source": [
    "def pythagoras(a, b):\n",
    "    c = (a**2 + b**2) ** 0.5\n",
    "    return c"
   ]
  },
  {
   "cell_type": "code",
   "execution_count": null,
   "id": "0a6716e3",
   "metadata": {
    "tags": [
     "code-along"
    ]
   },
   "outputs": [],
   "source": [
    "pythagoras(3, 4)"
   ]
  },
  {
   "cell_type": "code",
   "execution_count": null,
   "id": "6babe28e",
   "metadata": {
    "tags": [
     "code-along"
    ]
   },
   "outputs": [],
   "source": [
    "pythagoras(1, 1)"
   ]
  },
  {
   "cell_type": "markdown",
   "id": "d9a6919a",
   "metadata": {
    "lang": "en",
    "slideshow": {
     "slide_type": "slide"
    }
   },
   "source": [
    "## Function definition\n",
    "- Keyword `def`\n",
    "- Function name\n",
    "- Function parameters, in brackets; colon\n",
    "- Body of the function, indented one tab\n",
    "- In the body, the parameters can be used like variables\n",
    "- Keyword `return`\n",
    "    - Exits the function\n",
    "    - Determines which value is returned"
   ]
  },
  {
   "cell_type": "code",
   "execution_count": null,
   "id": "3b4ebcfb",
   "metadata": {
    "incorrectly_encoded_metadata": "{\"slideshow\": {\"slide_type\": \"subslide\"}} tags=[\"code-along\"]"
   },
   "outputs": [],
   "source": [
    "def pythagoras(a, b):\n",
    "    quadratsumme = a**2 + b**2\n",
    "    # We can compute (part of) the return value here\n",
    "    return quadratsumme**0.5"
   ]
  },
  {
   "cell_type": "markdown",
   "id": "b860c9ec",
   "metadata": {
    "lang": "en",
    "slideshow": {
     "slide_type": "slide"
    }
   },
   "source": [
    "## Function call\n",
    "\n",
    "- Function name\n",
    "- Arguments of the call, in brackets\n",
    "- One argument for each parameter"
   ]
  },
  {
   "cell_type": "code",
   "execution_count": null,
   "id": "53727cca",
   "metadata": {
    "tags": [
     "code-along"
    ]
   },
   "outputs": [],
   "source": [
    "pythagoras(3, 4)"
   ]
  },
  {
   "cell_type": "markdown",
   "id": "f87f4dcd",
   "metadata": {
    "lang": "en",
    "slideshow": {
     "slide_type": "subslide"
    }
   },
   "source": [
    "## Back to fences\n",
    "\n",
    "- So far we have calculated the length of the third side of our property.\n",
    "- We still need a function that calculates the total length:"
   ]
  },
  {
   "cell_type": "code",
   "execution_count": null,
   "id": "6e8267fb",
   "metadata": {
    "tags": [
     "code-along"
    ]
   },
   "outputs": [],
   "source": [
    "def gesamtlänge(x, y):\n",
    "    z = pythagoras(x, y)\n",
    "    länge = x + y + z\n",
    "    return länge"
   ]
  },
  {
   "cell_type": "markdown",
   "id": "501ea63f",
   "metadata": {
    "lang": "en",
    "slideshow": {
     "slide_type": "subslide"
    }
   },
   "source": [
    "With this we can simplify our problem:"
   ]
  },
  {
   "cell_type": "code",
   "execution_count": null,
   "id": "647b36f2",
   "metadata": {
    "tags": [
     "code-along"
    ]
   },
   "outputs": [],
   "source": [
    "länge_a = 10  # Beispielwert\n",
    "länge_b = 40  # Beispielwert\n",
    "print(gesamtlänge(länge_a, länge_b))"
   ]
  },
  {
   "cell_type": "markdown",
   "id": "06b82d87",
   "metadata": {
    "lang": "en",
    "slideshow": {
     "slide_type": "subslide"
    }
   },
   "source": [
    "## Mini workshop\n",
    "\n",
    "- Notebook `workshop_050_introduction_part1`\n",
    "- Section \"Donations\""
   ]
  },
  {
   "cell_type": "markdown",
   "id": "5cb2b13d",
   "metadata": {
    "lang": "en",
    "slideshow": {
     "slide_type": "slide"
    }
   },
   "source": [
    "## Importing modules\n",
    "\n",
    "Much of Python's functionality is not implemented in the interpreter itself\n",
    "but rather provided by external modules (and packages). With the `import`\n",
    "statement you can make this functionality available:"
   ]
  },
  {
   "cell_type": "code",
   "execution_count": null,
   "id": "126fd767",
   "metadata": {
    "tags": [
     "code-along"
    ]
   },
   "outputs": [],
   "source": [
    "import math"
   ]
  },
  {
   "cell_type": "markdown",
   "id": "1ad724cb",
   "metadata": {
    "lang": "en"
   },
   "source": [
    "The functions from the `math` module can then be accessed with the syntax `math.floor`:"
   ]
  },
  {
   "cell_type": "code",
   "execution_count": null,
   "id": "a88e0cfe",
   "metadata": {
    "tags": [
     "code-along"
    ]
   },
   "outputs": [],
   "source": [
    "math.floor(2.5)"
   ]
  },
  {
   "cell_type": "code",
   "execution_count": null,
   "id": "ee4f6171",
   "metadata": {
    "tags": [
     "code-along"
    ]
   },
   "outputs": [],
   "source": [
    "math.floor(2.9)"
   ]
  },
  {
   "cell_type": "markdown",
   "id": "eec440ed",
   "metadata": {
    "lang": "en"
   },
   "source": [
    "The `pythagoras` function is available from the `math` module under the name `hypot`:"
   ]
  },
  {
   "cell_type": "code",
   "execution_count": null,
   "id": "d13253cd",
   "metadata": {
    "tags": [
     "code-along"
    ]
   },
   "outputs": [],
   "source": [
    "math.hypot(3, 4)"
   ]
  },
  {
   "cell_type": "markdown",
   "id": "3b78115d",
   "metadata": {
    "lang": "en",
    "slideshow": {
     "slide_type": "subslide"
    }
   },
   "source": [
    "This allows us to write the `total_length` function without the helper function `pythagoras`:"
   ]
  },
  {
   "cell_type": "code",
   "execution_count": null,
   "id": "ef20827e",
   "metadata": {
    "tags": [
     "code-along"
    ]
   },
   "outputs": [],
   "source": [
    "def gesamtlänge(x, y):\n",
    "    z = math.hypot(x, y)\n",
    "    länge = x + y + z\n",
    "    return länge"
   ]
  },
  {
   "cell_type": "code",
   "execution_count": null,
   "id": "a274579f",
   "metadata": {
    "tags": [
     "code-along"
    ]
   },
   "outputs": [],
   "source": [
    "gesamtlänge(3, 4)"
   ]
  },
  {
   "cell_type": "markdown",
   "id": "a0e7dbbb",
   "metadata": {
    "lang": "en",
    "slideshow": {
     "slide_type": "slide"
    }
   },
   "source": [
    "## Other types of numbers\n",
    "\n",
    "Python offers other kinds of numbers for special applications\n",
    "\n",
    "- Decimal numbers with any precision\n",
    "- Complex numbers\n",
    "- Fixed size integers (e.g. with `numpy`)\n",
    "- Floating point numbers with different sizes (`numpy`)"
   ]
  },
  {
   "cell_type": "code",
   "execution_count": null,
   "id": "94ccf3f6",
   "metadata": {
    "incorrectly_encoded_metadata": "{\"slideshow\": {\"slide_type\": \"subslide\"}} tags=[\"code-along\"]"
   },
   "outputs": [],
   "source": [
    "1.1 * 100"
   ]
  },
  {
   "cell_type": "code",
   "execution_count": null,
   "id": "040b3372",
   "metadata": {
    "tags": [
     "code-along"
    ]
   },
   "outputs": [],
   "source": [
    "import decimal\n",
    "\n",
    "decimal.Decimal(\"1.1\") * 100"
   ]
  },
  {
   "cell_type": "code",
   "execution_count": null,
   "id": "9e918390",
   "metadata": {
    "incorrectly_encoded_metadata": "{\"slideshow\": {\"slide_type\": \"subslide\"}} tags=[\"code-along\"]"
   },
   "outputs": [],
   "source": [
    "(1 + 1j) * (1 + 1j)"
   ]
  },
  {
   "cell_type": "code",
   "execution_count": null,
   "id": "af2f3039",
   "metadata": {
    "tags": [
     "code-along"
    ]
   },
   "outputs": [],
   "source": [
    "1j * 1j"
   ]
  },
  {
   "cell_type": "markdown",
   "id": "c32c04a2",
   "metadata": {
    "lang": "en",
    "slideshow": {
     "slide_type": "slide"
    }
   },
   "source": [
    "## Functions without arguments\n",
    "\n",
    "- A function can also be defined without formal parameters.\n",
    "- The parentheses must be used in the definition and in calls."
   ]
  },
  {
   "cell_type": "code",
   "execution_count": null,
   "id": "506d0c4d",
   "metadata": {
    "incorrectly_encoded_metadata": "{\"slideshow\": {\"slide_type\": \"subslide\"}} tags=[\"code-along\"]"
   },
   "outputs": [],
   "source": [
    "def null():\n",
    "    return 0"
   ]
  },
  {
   "cell_type": "code",
   "execution_count": null,
   "id": "dcaa299d",
   "metadata": {
    "tags": [
     "code-along"
    ]
   },
   "outputs": [],
   "source": [
    "null()"
   ]
  },
  {
   "cell_type": "code",
   "execution_count": null,
   "id": "8a958f46",
   "metadata": {
    "tags": [
     "code-along"
    ]
   },
   "outputs": [],
   "source": [
    "# Fehler: 'Aufruf' ohne Klammern\n",
    "null"
   ]
  },
  {
   "cell_type": "code",
   "execution_count": null,
   "id": "b30d4a6e",
   "metadata": {
    "lines_to_next_cell": 2,
    "tags": [
     "code-along"
    ]
   },
   "outputs": [],
   "source": [
    "# Fehler: 'Aufruf' ohne Klammern\n",
    "# plus_eins(null)"
   ]
  },
  {
   "cell_type": "markdown",
   "id": "b31ba47a",
   "metadata": {
    "lang": "en",
    "slideshow": {
     "slide_type": "slide"
    }
   },
   "source": [
    "# Functions with side effects\n",
    "\n",
    "Functions can\n",
    "\n",
    "- Calculate values: `sumofsquares(3, 4)`\n",
    "- Have side effects: `print(\"Hans\")`"
   ]
  },
  {
   "cell_type": "code",
   "execution_count": null,
   "id": "c32751d1",
   "metadata": {
    "tags": [
     "code-along"
    ]
   },
   "outputs": [],
   "source": [
    "type(print(\"Hans\"))"
   ]
  },
  {
   "cell_type": "markdown",
   "id": "7f512358",
   "metadata": {
    "lang": "en",
    "slideshow": {
     "slide_type": "subslide"
    }
   },
   "source": [
    "### The value `None`\n",
    "\n",
    "The return value of the `print()` function is the special value `None`.\n",
    "- Jupyter doesn't print `None` as a cell's value:"
   ]
  },
  {
   "cell_type": "code",
   "execution_count": null,
   "id": "2d6eb24a",
   "metadata": {
    "tags": [
     "code-along"
    ]
   },
   "outputs": [],
   "source": [
    "None"
   ]
  },
  {
   "cell_type": "code",
   "execution_count": null,
   "id": "14dbee84",
   "metadata": {
    "tags": [
     "code-along"
    ]
   },
   "outputs": [],
   "source": [
    "print(None)"
   ]
  },
  {
   "cell_type": "code",
   "execution_count": null,
   "id": "00ac6331",
   "metadata": {
    "tags": [
     "code-along"
    ]
   },
   "outputs": [],
   "source": [
    "print(print(\"Hans\"))"
   ]
  },
  {
   "cell_type": "markdown",
   "id": "d446605d",
   "metadata": {
    "lang": "en",
    "slideshow": {
     "slide_type": "subslide"
    }
   },
   "source": [
    "- Functions can have side effects\n",
    "    - E.g. by calling `print`\n",
    "- These are executed when a function call is evaluated\n",
    "- Even functions with side effects return a value\n",
    "    - Often this is the special value `None`\n",
    "    - If a function returns `None` we don't need an explicit `return` statement"
   ]
  },
  {
   "cell_type": "code",
   "execution_count": null,
   "id": "567e2d64",
   "metadata": {
    "incorrectly_encoded_metadata": "{\"slideshow\": {\"slide_type\": \"subslide\"}} tags=[\"code-along\"]"
   },
   "outputs": [],
   "source": [
    "def say_hello():\n",
    "    print(\"Hello, world!\")\n",
    "    print(\"Today is a great day!\")"
   ]
  },
  {
   "cell_type": "code",
   "execution_count": null,
   "id": "c2103412",
   "metadata": {
    "tags": [
     "code-along"
    ]
   },
   "outputs": [],
   "source": [
    "say_hello()"
   ]
  },
  {
   "cell_type": "markdown",
   "id": "21ec3476",
   "metadata": {
    "lang": "en",
    "slideshow": {
     "slide_type": "subslide"
    }
   },
   "source": [
    "## Mini workshop\n",
    "\n",
    "- Notebook `workshop_050_introduction_part1`\n",
    "- Section \"Pirates, Part 2\""
   ]
  },
  {
   "cell_type": "markdown",
   "id": "dae00e4d",
   "metadata": {
    "lang": "en",
    "slideshow": {
     "slide_type": "slide"
    }
   },
   "source": [
    "## Default arguments\n",
    "\n",
    "Function parameters can have a default value.\n",
    "- The default value is given with the syntax `parameter=value`\n",
    "- If the corresponding argument is not passed, the default value is used\n",
    "- If a parameter has a default value, all values ​​to the right of it must also have one"
   ]
  },
  {
   "cell_type": "code",
   "execution_count": null,
   "id": "72a8fc84",
   "metadata": {
    "incorrectly_encoded_metadata": "{\"slideshow\": {\"slide_type\": \"subslide\"}} tags=[\"code-along\"]"
   },
   "outputs": [],
   "source": [
    "def add_weighted(a, b=0, c=0):\n",
    "    return a + 2 * b + 3 * c"
   ]
  },
  {
   "cell_type": "code",
   "execution_count": null,
   "id": "662d9741",
   "metadata": {
    "tags": [
     "code-along"
    ]
   },
   "outputs": [],
   "source": [
    "print(add_weighted(2))\n",
    "print(add_weighted(2, 3))\n",
    "print(add_weighted(2, 3, 4))"
   ]
  },
  {
   "cell_type": "markdown",
   "id": "cafc8545",
   "metadata": {
    "lang": "en",
    "slideshow": {
     "slide_type": "slide"
    }
   },
   "source": [
    "## Be careful with variable default arguments"
   ]
  },
  {
   "cell_type": "code",
   "execution_count": null,
   "id": "608bbbee",
   "metadata": {
    "tags": [
     "code-along"
    ]
   },
   "outputs": [],
   "source": [
    "def append_value(value, my_list=[]):\n",
    "    my_list.append(value)\n",
    "    return my_list"
   ]
  },
  {
   "cell_type": "code",
   "execution_count": null,
   "id": "791cc648",
   "metadata": {
    "tags": [
     "code-along"
    ]
   },
   "outputs": [],
   "source": [
    "append_value(1)"
   ]
  },
  {
   "cell_type": "code",
   "execution_count": null,
   "id": "3f45a5c5",
   "metadata": {
    "tags": [
     "code-along"
    ]
   },
   "outputs": [],
   "source": [
    "append_value(2)"
   ]
  },
  {
   "cell_type": "markdown",
   "id": "1966f3bc",
   "metadata": {
    "lang": "en",
    "slideshow": {
     "slide_type": "slide"
    }
   },
   "source": [
    "Solution: use `Null` as argument, create a new list in each call"
   ]
  },
  {
   "cell_type": "code",
   "execution_count": null,
   "id": "6b752aae",
   "metadata": {
    "tags": [
     "code-along"
    ]
   },
   "outputs": [],
   "source": [
    "def append_value(value, my_list=None):\n",
    "    if my_list is None:\n",
    "        my_list = []\n",
    "    my_list.append(value)\n",
    "    return my_list"
   ]
  },
  {
   "cell_type": "code",
   "execution_count": null,
   "id": "0d363fdb",
   "metadata": {
    "tags": [
     "code-along"
    ]
   },
   "outputs": [],
   "source": [
    "append_value(1)"
   ]
  },
  {
   "cell_type": "code",
   "execution_count": null,
   "id": "a97817b1",
   "metadata": {
    "tags": [
     "code-along"
    ]
   },
   "outputs": [],
   "source": [
    "append_value(2)"
   ]
  },
  {
   "cell_type": "markdown",
   "id": "cf84d5ad",
   "metadata": {
    "lang": "en",
    "slideshow": {
     "slide_type": "slide"
    }
   },
   "source": [
    "## Calls with named arguments\n",
    "\n",
    "When calling a function, the parameter name can be specified in the form `parameter=value`.\n",
    "- The appropriate value is then substituted for the named parameter\n",
    "- If all parameters are named, the call becomes independent of the parameter order"
   ]
  },
  {
   "cell_type": "code",
   "execution_count": null,
   "id": "18cacfa3",
   "metadata": {
    "incorrectly_encoded_metadata": "{\"slideshow\": {\"slide_type\": \"subslide\"}} tags=[\"code-along\"]"
   },
   "outputs": [],
   "source": [
    "def say_hi(person, greeting=\"Hi\"):\n",
    "    print(greeting, \" \", person, \"!\", sep=\"\")"
   ]
  },
  {
   "cell_type": "code",
   "execution_count": null,
   "id": "f4d81004",
   "metadata": {
    "tags": [
     "code-along"
    ]
   },
   "outputs": [],
   "source": [
    "say_hi(\"Jill\")\n",
    "say_hi(\"Jack\", \"Good morning\")"
   ]
  },
  {
   "cell_type": "code",
   "execution_count": null,
   "id": "5385da26",
   "metadata": {
    "tags": [
     "code-along"
    ]
   },
   "outputs": [],
   "source": [
    "say_hi(greeting=\"Heya\", person=\"Betty\")"
   ]
  },
  {
   "cell_type": "code",
   "execution_count": null,
   "id": "d856e55a",
   "metadata": {
    "incorrectly_encoded_metadata": "{\"slideshow\": {\"slide_type\": \"subslide\"}} tags=[\"code-along\"]"
   },
   "outputs": [],
   "source": [
    "def add_weighted(a, b=0, c=0):\n",
    "    return a + 2 * b + 3 * c"
   ]
  },
  {
   "cell_type": "code",
   "execution_count": null,
   "id": "1cf1294f",
   "metadata": {
    "incorrectly_encoded_metadata": "{\"slideshow\": {\"slide_type\": \"subslide\"}} tags=[\"code-along\"]"
   },
   "outputs": [],
   "source": [
    "add_weighted(c=2, a=1)"
   ]
  },
  {
   "cell_type": "code",
   "execution_count": null,
   "id": "e7968d89",
   "metadata": {
    "tags": [
     "code-along"
    ]
   },
   "outputs": [],
   "source": [
    "add_weighted(5, c=7)"
   ]
  },
  {
   "cell_type": "markdown",
   "id": "38251441",
   "metadata": {
    "lang": "en",
    "slideshow": {
     "slide_type": "slide"
    }
   },
   "source": [
    "## Type annotations\n",
    "\n",
    "Python allows the types of function arguments and the return type to be specified:"
   ]
  },
  {
   "cell_type": "code",
   "execution_count": null,
   "id": "7da4f830",
   "metadata": {
    "tags": [
     "code-along"
    ]
   },
   "outputs": [],
   "source": [
    "def mult(a: int, b: float) -> float:\n",
    "    return a * b"
   ]
  },
  {
   "cell_type": "code",
   "execution_count": null,
   "id": "4e5188af",
   "metadata": {
    "tags": [
     "code-along"
    ]
   },
   "outputs": [],
   "source": [
    "mult(3, 2.0)"
   ]
  },
  {
   "cell_type": "markdown",
   "id": "93d4c82e",
   "metadata": {
    "lang": "en",
    "slideshow": {
     "slide_type": "subslide"
    }
   },
   "source": [
    "Type annotations are for documentation only and are ignored by Python:"
   ]
  },
  {
   "cell_type": "code",
   "execution_count": null,
   "id": "1d9862cd",
   "metadata": {
    "tags": [
     "code-along"
    ]
   },
   "outputs": [],
   "source": [
    "mult(\"a\", 3)"
   ]
  },
  {
   "cell_type": "markdown",
   "id": "95eff898",
   "metadata": {
    "lang": "en",
    "slideshow": {
     "slide_type": "subslide"
    }
   },
   "source": [
    "Type annotations can contain parametric types, optional types, etc.\n",
    "(*Note:* in older Python versions, `list` cannot take type parameters.)"
   ]
  },
  {
   "cell_type": "code",
   "execution_count": null,
   "id": "bf2dd963",
   "metadata": {
    "tags": [
     "code-along"
    ]
   },
   "outputs": [],
   "source": [
    "from typing import Optional\n",
    "\n",
    "\n",
    "def my_append(lhs: list[int], rhs: Optional[int]):\n",
    "    # What exactly does this mean?\n",
    "    if rhs:\n",
    "        lhs.append(rhs)"
   ]
  },
  {
   "cell_type": "code",
   "execution_count": null,
   "id": "60265981",
   "metadata": {
    "incorrectly_encoded_metadata": "{\"slideshow\": {\"slide_type\": \"subslide\"}} tags=[\"code-along\"]"
   },
   "outputs": [],
   "source": [
    "my_list = [1, 2, 3]\n",
    "my_append(my_list, None)\n",
    "my_list"
   ]
  },
  {
   "cell_type": "code",
   "execution_count": null,
   "id": "46319f54",
   "metadata": {
    "tags": [
     "code-along"
    ]
   },
   "outputs": [],
   "source": [
    "my_append(my_list, 4)\n",
    "my_list"
   ]
  },
  {
   "cell_type": "markdown",
   "id": "bbf586b6",
   "metadata": {
    "lang": "en",
    "slideshow": {
     "slide_type": "slide"
    }
   },
   "source": [
    "## Docstrings\n",
    "\n",
    "Any function in Python can be documented using a string literal as a\n",
    "first element in the body. Most often, a `\"\"\"` string is used for this:"
   ]
  },
  {
   "cell_type": "code",
   "execution_count": null,
   "id": "4e38baa2",
   "metadata": {
    "incorrectly_encoded_metadata": "{\"slideshow\": {\"slide_type\": \"subslide\"}} tags=[\"code-along\"]"
   },
   "outputs": [],
   "source": [
    "def my_fun(x):\n",
    "    \"\"\"\n",
    "    Zeigt dem Benutzer den Wert von x an\n",
    "\n",
    "    Verwendung:\n",
    "    >>> my_fun(123)\n",
    "    \"\"\"\n",
    "    print(\"Das Argument x hat den Wert\", x)"
   ]
  },
  {
   "cell_type": "code",
   "execution_count": null,
   "id": "6539de28",
   "metadata": {
    "tags": [
     "code-along"
    ]
   },
   "outputs": [],
   "source": [
    "my_fun(123)"
   ]
  },
  {
   "cell_type": "markdown",
   "id": "79bf7e55",
   "metadata": {
    "lang": "en",
    "slideshow": {
     "slide_type": "subslide"
    }
   },
   "source": [
    "Conventions for docstrings can be found in\n",
    "[PEP 257](https://www.python.org/dev/peps/pep-0257/)."
   ]
  },
  {
   "cell_type": "markdown",
   "id": "8f219bf0",
   "metadata": {
    "lang": "en",
    "slideshow": {
     "slide_type": "subslide"
    }
   },
   "source": [
    "The docstring of a function can be output with `help()`:"
   ]
  },
  {
   "cell_type": "code",
   "execution_count": null,
   "id": "c61abe2d",
   "metadata": {
    "tags": [
     "code-along"
    ]
   },
   "outputs": [],
   "source": [
    "help(my_fun)"
   ]
  },
  {
   "cell_type": "markdown",
   "id": "758fcc04",
   "metadata": {
    "lang": "en",
    "slideshow": {
     "slide_type": "subslide"
    }
   },
   "source": [
    "In Jupyter, a function's docstring can be displayed by preceeding or following it with a question mark:"
   ]
  },
  {
   "cell_type": "code",
   "execution_count": null,
   "id": "c13c64f6",
   "metadata": {
    "lines_to_next_cell": 2,
    "tags": [
     "code-along"
    ]
   },
   "outputs": [],
   "source": [
    "# ?my_fun"
   ]
  },
  {
   "cell_type": "code",
   "execution_count": null,
   "id": "0126968f",
   "metadata": {
    "lines_to_next_cell": 2,
    "tags": [
     "code-along"
    ]
   },
   "outputs": [],
   "source": [
    "# my_fun?"
   ]
  },
  {
   "cell_type": "markdown",
   "id": "ffced6c1",
   "metadata": {
    "lang": "en",
    "slideshow": {
     "slide_type": "subslide"
    }
   },
   "source": [
    "Shift-Tab is often used instead:"
   ]
  },
  {
   "cell_type": "code",
   "execution_count": null,
   "id": "d30f610a",
   "metadata": {
    "tags": [
     "code-along"
    ]
   },
   "outputs": [],
   "source": [
    "my_fun"
   ]
  },
  {
   "cell_type": "markdown",
   "id": "504da65c",
   "metadata": {
    "lang": "en",
    "slideshow": {
     "slide_type": "subslide"
    }
   },
   "source": [
    "For functions with long docstrings, you can switch to the detailed display form by pressing `Shift-Tab` twice:"
   ]
  },
  {
   "cell_type": "code",
   "execution_count": null,
   "id": "b77114fa",
   "metadata": {
    "tags": [
     "code-along"
    ]
   },
   "outputs": [],
   "source": [
    "my_fun"
   ]
  },
  {
   "cell_type": "code",
   "execution_count": null,
   "id": "6bd5d25c",
   "metadata": {
    "tags": [
     "code-along"
    ]
   },
   "outputs": [],
   "source": [
    "print"
   ]
  },
  {
   "cell_type": "markdown",
   "id": "ca852258",
   "metadata": {
    "lang": "en",
    "slideshow": {
     "slide_type": "subslide"
    }
   },
   "source": [
    "## Signature\n",
    "\n",
    "The number, names, default values (and possibly types) of a function's arguments and its return type are called its *signature*.\n",
    "\n",
    "Among other things, Jupyter displays the signature of a function when you type `Shift-Tab`:"
   ]
  },
  {
   "cell_type": "code",
   "execution_count": null,
   "id": "d6ad07e1",
   "metadata": {
    "tags": [
     "code-along"
    ]
   },
   "outputs": [],
   "source": [
    "# Shift-Tab zum Anzeigen der Signatur:\n",
    "say_hi"
   ]
  },
  {
   "cell_type": "code",
   "execution_count": null,
   "id": "fd99f34c",
   "metadata": {
    "tags": [
     "code-along"
    ]
   },
   "outputs": [],
   "source": [
    "def add_ints(m: int, n: int) -> int:\n",
    "    return m + n"
   ]
  },
  {
   "cell_type": "code",
   "execution_count": null,
   "id": "e59a106c",
   "metadata": {
    "tags": [
     "code-along"
    ]
   },
   "outputs": [],
   "source": [
    "add_ints"
   ]
  }
 ],
 "metadata": {
  "jupytext": {
   "cell_metadata_json": true,
   "encoding": "# -*- coding: utf-8 -*-",
   "formats": "ipynb"
  },
  "kernelspec": {
   "display_name": "Python 3 (ipykernel)",
   "language": "python",
   "name": "python3"
  }
 },
 "nbformat": 4,
 "nbformat_minor": 5
}
