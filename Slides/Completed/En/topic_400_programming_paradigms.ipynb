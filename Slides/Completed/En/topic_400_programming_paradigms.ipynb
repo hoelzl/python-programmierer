{
 "cells": [
  {
   "cell_type": "markdown",
   "id": "9c2b583c",
   "metadata": {
    "lang": "en",
    "slideshow": {
     "slide_type": "slide"
    }
   },
   "source": [
    "<img src=\"img/python-logo-notext.svg\"\n",
    "     style=\"display:block;margin:auto;width:10%\"/>\n",
    "<br>\n",
    "<div style=\"text-align:center; font-size:200%;\"><b>Programming paradigms</b></div>\n",
    "<br/>\n",
    "<div style=\"text-align:center;\">Dr. Matthias Hölzl</div>"
   ]
  },
  {
   "cell_type": "markdown",
   "id": "ccc6dd64",
   "metadata": {
    "lang": "en",
    "slideshow": {
     "slide_type": "slide"
    }
   },
   "source": [
    "# Programming paradigms\n",
    "- Procedural\n",
    "- Functional (?)\n",
    "- Object oriented"
   ]
  },
  {
   "cell_type": "code",
   "execution_count": null,
   "id": "c97e71f4",
   "metadata": {
    "slideshow": {
     "slide_type": "slide"
    },
    "tags": [
     "code-along"
    ]
   },
   "outputs": [],
   "source": [
    "def add(x, y):\n",
    "    return x + y"
   ]
  },
  {
   "cell_type": "code",
   "execution_count": null,
   "id": "a894c91d",
   "metadata": {
    "tags": [
     "code-along"
    ]
   },
   "outputs": [],
   "source": [
    "add(2, 3)"
   ]
  },
  {
   "cell_type": "code",
   "execution_count": null,
   "id": "1e28d43e",
   "metadata": {
    "tags": [
     "code-along"
    ]
   },
   "outputs": [],
   "source": [
    "accu = 0"
   ]
  },
  {
   "cell_type": "code",
   "execution_count": null,
   "id": "364ac0ab",
   "metadata": {
    "slideshow": {
     "slide_type": "slide"
    },
    "tags": [
     "code-along"
    ]
   },
   "outputs": [],
   "source": [
    "def inc(x):\n",
    "    global accu\n",
    "    accu += x"
   ]
  },
  {
   "cell_type": "code",
   "execution_count": null,
   "id": "956452ec",
   "metadata": {
    "tags": [
     "code-along"
    ]
   },
   "outputs": [],
   "source": [
    "def disp():\n",
    "    print(f\"Accumulator is {accu}.\")"
   ]
  },
  {
   "cell_type": "code",
   "execution_count": null,
   "id": "19d60a10",
   "metadata": {
    "tags": [
     "code-along"
    ]
   },
   "outputs": [],
   "source": [
    "disp()\n",
    "inc(2)\n",
    "inc(3)\n",
    "disp()"
   ]
  },
  {
   "cell_type": "code",
   "execution_count": null,
   "id": "b98cce5e",
   "metadata": {
    "slideshow": {
     "slide_type": "slide"
    },
    "tags": [
     "code-along"
    ]
   },
   "outputs": [],
   "source": [
    "def ntimes(n, f, x):\n",
    "    if n <= 0:\n",
    "        return x\n",
    "    else:\n",
    "        return ntimes(n - 1, f, f(x))"
   ]
  },
  {
   "cell_type": "code",
   "execution_count": null,
   "id": "44c8ab7f",
   "metadata": {
    "tags": [
     "code-along"
    ]
   },
   "outputs": [],
   "source": [
    "ntimes(10, lambda x: x * 2, 1)"
   ]
  },
  {
   "cell_type": "code",
   "execution_count": null,
   "id": "d5b754f9",
   "metadata": {
    "slideshow": {
     "slide_type": "slide"
    },
    "tags": [
     "code-along"
    ]
   },
   "outputs": [],
   "source": [
    "from pathlib import Path\n",
    "\n",
    "path = Path(\"./some_file.txt\")"
   ]
  },
  {
   "cell_type": "code",
   "execution_count": null,
   "id": "85248ae7",
   "metadata": {
    "tags": [
     "code-along"
    ]
   },
   "outputs": [],
   "source": [
    "path.with_suffix(\".md\").absolute()"
   ]
  }
 ],
 "metadata": {
  "jupytext": {
   "cell_metadata_json": true,
   "encoding": "# -*- coding: utf-8 -*-",
   "formats": "ipynb"
  },
  "kernelspec": {
   "display_name": "Python 3 (ipykernel)",
   "language": "python",
   "name": "python3"
  }
 },
 "nbformat": 4,
 "nbformat_minor": 5
}
