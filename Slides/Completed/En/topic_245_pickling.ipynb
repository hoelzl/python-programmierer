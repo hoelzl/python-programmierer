{
 "cells": [
  {
   "cell_type": "markdown",
   "id": "4d48bbc6",
   "metadata": {
    "lang": "en",
    "slideshow": {
     "slide_type": "slide"
    }
   },
   "source": [
    "<img src=\"img/python-logo-notext.svg\"\n",
    "     style=\"display:block;margin:auto;width:10%\"/>\n",
    "<br>\n",
    "<div style=\"text-align:center; font-size:200%;\"><b>Pickling</b></div>\n",
    "<br/>\n",
    "<div style=\"text-align:center;\">Dr. Matthias Hölzl</div>"
   ]
  },
  {
   "cell_type": "markdown",
   "id": "19562d5f",
   "metadata": {
    "lang": "en"
   },
   "source": [
    "## Pickle\n",
    "\n",
    "The `pickle` module provides a way to easily store and load Python objects."
   ]
  },
  {
   "cell_type": "code",
   "execution_count": null,
   "id": "c0510673",
   "metadata": {
    "tags": [
     "code-along"
    ]
   },
   "outputs": [],
   "source": [
    "import pickle\n",
    "from pprint import pprint"
   ]
  },
  {
   "cell_type": "code",
   "execution_count": null,
   "id": "7c5db703",
   "metadata": {
    "lines_to_next_cell": 2,
    "tags": [
     "code-along"
    ]
   },
   "outputs": [],
   "source": [
    "my_list = [1, 2, 3, 4]\n",
    "my_other_list = [3, 4, 5]\n",
    "my_dict = {1: my_list, 2: my_other_list, 3: \"a string\", 4: [\"some list\"]}"
   ]
  },
  {
   "cell_type": "code",
   "execution_count": null,
   "id": "3e704c16",
   "metadata": {
    "lines_to_next_cell": 2,
    "tags": [
     "code-along"
    ]
   },
   "outputs": [],
   "source": [
    "pprint(my_dict)"
   ]
  },
  {
   "cell_type": "code",
   "execution_count": null,
   "id": "f5daceec",
   "metadata": {
    "tags": [
     "code-along"
    ]
   },
   "outputs": [],
   "source": [
    "my_pickle = pickle.dumps(my_dict)\n",
    "pprint(my_pickle)"
   ]
  },
  {
   "cell_type": "code",
   "execution_count": null,
   "id": "ddc268b8",
   "metadata": {
    "tags": [
     "code-along"
    ]
   },
   "outputs": [],
   "source": [
    "restored_pickle = pickle.loads(my_pickle)"
   ]
  },
  {
   "cell_type": "code",
   "execution_count": null,
   "id": "4b6af0a4",
   "metadata": {
    "tags": [
     "code-along"
    ]
   },
   "outputs": [],
   "source": [
    "pprint(restored_pickle)"
   ]
  },
  {
   "cell_type": "code",
   "execution_count": null,
   "id": "2554ff1c",
   "metadata": {
    "tags": [
     "code-along"
    ]
   },
   "outputs": [],
   "source": [
    "my_dict == restored_pickle"
   ]
  },
  {
   "cell_type": "code",
   "execution_count": null,
   "id": "7518f3ac",
   "metadata": {},
   "outputs": [],
   "source": [
    "my_dict is restored_pickle"
   ]
  },
  {
   "cell_type": "code",
   "execution_count": null,
   "id": "206d32e0",
   "metadata": {},
   "outputs": [],
   "source": [
    "my_list.append(my_other_list)\n",
    "my_other_list.append(my_list)"
   ]
  },
  {
   "cell_type": "code",
   "execution_count": null,
   "id": "a014f4c0",
   "metadata": {
    "lines_to_next_cell": 2
   },
   "outputs": [],
   "source": [
    "pprint(my_list)"
   ]
  },
  {
   "cell_type": "code",
   "execution_count": null,
   "id": "82aa5e90",
   "metadata": {},
   "outputs": [],
   "source": [
    "pprint(my_dict)"
   ]
  },
  {
   "cell_type": "code",
   "execution_count": null,
   "id": "d8e1eedb",
   "metadata": {},
   "outputs": [],
   "source": [
    "my_pickle = pickle.dumps(my_dict)\n",
    "restored_pickle = pickle.loads(my_pickle)"
   ]
  },
  {
   "cell_type": "code",
   "execution_count": null,
   "id": "d4932d97",
   "metadata": {},
   "outputs": [],
   "source": [
    "pprint(restored_pickle)"
   ]
  },
  {
   "cell_type": "code",
   "execution_count": null,
   "id": "8d4f6b2b",
   "metadata": {},
   "outputs": [],
   "source": [
    "# Don't try this...\n",
    "# my_dict == restored_pickle"
   ]
  }
 ],
 "metadata": {
  "jupytext": {
   "cell_metadata_json": true,
   "formats": "ipynb"
  },
  "kernelspec": {
   "display_name": "Python 3 (ipykernel)",
   "language": "python",
   "name": "python3"
  }
 },
 "nbformat": 4,
 "nbformat_minor": 5
}
