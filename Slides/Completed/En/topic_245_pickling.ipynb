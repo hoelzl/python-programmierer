{
 "cells": [
  {
   "cell_type": "markdown",
   "id": "f1fdd278",
   "metadata": {
    "lang": "en",
    "slideshow": {
     "slide_type": "slide"
    }
   },
   "source": [
    "<img src=\"img/python-logo-notext.svg\"\n",
    "     style=\"display:block;margin:auto;width:10%\"/>\n",
    "<br>\n",
    "<div style=\"text-align:center; font-size:200%;\"><b>Pickling</b></div>\n",
    "<br/>\n",
    "<div style=\"text-align:center;\">Dr. Matthias Hölzl</div>"
   ]
  },
  {
   "cell_type": "markdown",
   "id": "1a811e08",
   "metadata": {
    "lang": "en"
   },
   "source": [
    "## Pickle\n",
    "\n",
    "The `pickle` module provides a way to easily store and load Python objects."
   ]
  },
  {
   "cell_type": "code",
   "execution_count": null,
   "id": "65f1e4c2",
   "metadata": {
    "tags": [
     "code-along"
    ]
   },
   "outputs": [],
   "source": [
    "import pickle\n",
    "from pprint import pprint"
   ]
  },
  {
   "cell_type": "code",
   "execution_count": null,
   "id": "9e2f6e9b",
   "metadata": {
    "lines_to_next_cell": 2,
    "tags": [
     "code-along"
    ]
   },
   "outputs": [],
   "source": [
    "my_list = [1, 2, 3, 4]\n",
    "my_other_list = [3, 4, 5]\n",
    "my_dict = {1: my_list, 2: my_other_list, 3: \"a string\", 4: [\"some list\"]}"
   ]
  },
  {
   "cell_type": "code",
   "execution_count": null,
   "id": "a12fb4dc",
   "metadata": {
    "lines_to_next_cell": 2,
    "tags": [
     "code-along"
    ]
   },
   "outputs": [],
   "source": [
    "pprint(my_dict)"
   ]
  },
  {
   "cell_type": "code",
   "execution_count": null,
   "id": "15cb67aa",
   "metadata": {
    "tags": [
     "code-along"
    ]
   },
   "outputs": [],
   "source": [
    "my_pickle = pickle.dumps(my_dict)\n",
    "pprint(my_pickle)"
   ]
  },
  {
   "cell_type": "code",
   "execution_count": null,
   "id": "998f9a13",
   "metadata": {
    "tags": [
     "code-along"
    ]
   },
   "outputs": [],
   "source": [
    "restored_pickle = pickle.loads(my_pickle)"
   ]
  },
  {
   "cell_type": "code",
   "execution_count": null,
   "id": "f5a0d90b",
   "metadata": {
    "tags": [
     "code-along"
    ]
   },
   "outputs": [],
   "source": [
    "pprint(restored_pickle)"
   ]
  },
  {
   "cell_type": "code",
   "execution_count": null,
   "id": "5eb6117d",
   "metadata": {
    "tags": [
     "code-along"
    ]
   },
   "outputs": [],
   "source": [
    "my_dict == restored_pickle"
   ]
  },
  {
   "cell_type": "code",
   "execution_count": null,
   "id": "76b435a3",
   "metadata": {},
   "outputs": [],
   "source": [
    "my_dict is restored_pickle"
   ]
  },
  {
   "cell_type": "code",
   "execution_count": null,
   "id": "2cc856f6",
   "metadata": {},
   "outputs": [],
   "source": [
    "my_list.append(my_other_list)\n",
    "my_other_list.append(my_list)"
   ]
  },
  {
   "cell_type": "code",
   "execution_count": null,
   "id": "234cad15",
   "metadata": {
    "lines_to_next_cell": 2
   },
   "outputs": [],
   "source": [
    "pprint(my_list)"
   ]
  },
  {
   "cell_type": "code",
   "execution_count": null,
   "id": "cd194aa6",
   "metadata": {},
   "outputs": [],
   "source": [
    "pprint(my_dict)"
   ]
  },
  {
   "cell_type": "code",
   "execution_count": null,
   "id": "1aff9e98",
   "metadata": {},
   "outputs": [],
   "source": [
    "my_pickle = pickle.dumps(my_dict)\n",
    "restored_pickle = pickle.loads(my_pickle)"
   ]
  },
  {
   "cell_type": "code",
   "execution_count": null,
   "id": "0a574ad4",
   "metadata": {},
   "outputs": [],
   "source": [
    "pprint(restored_pickle)"
   ]
  },
  {
   "cell_type": "code",
   "execution_count": null,
   "id": "4707bfbf",
   "metadata": {},
   "outputs": [],
   "source": [
    "# Don't try this...\n",
    "# my_dict == restored_pickle"
   ]
  }
 ],
 "metadata": {
  "jupytext": {
   "cell_metadata_json": true,
   "formats": "ipynb"
  },
  "kernelspec": {
   "display_name": "Python 3 (ipykernel)",
   "language": "python",
   "name": "python3"
  }
 },
 "nbformat": 4,
 "nbformat_minor": 5
}
