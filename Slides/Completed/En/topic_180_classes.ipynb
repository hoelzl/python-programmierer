{
 "cells": [
  {
   "cell_type": "markdown",
   "id": "cdfd70c0",
   "metadata": {
    "lang": "en",
    "lines_to_next_cell": 2,
    "slideshow": {
     "slide_type": "slide"
    }
   },
   "source": [
    "<img src=\"img/python-logo-notext.svg\"\n",
    "     style=\"display:block;margin:auto;width:10%\"/>\n",
    "<br>\n",
    "<div style=\"text-align:center; font-size:200%;\"><b>Object orientation part 1: Classes</b></div>\n",
    "<br/>\n",
    "<div style=\"text-align:center;\">Dr. Matthias Hölzl</div>"
   ]
  },
  {
   "cell_type": "markdown",
   "id": "cbd74a07",
   "metadata": {
    "lang": "en",
    "slideshow": {
     "slide_type": "slide"
    }
   },
   "source": [
    "## Properties\n",
    "\n",
    "How can we create class for points that allows us to access its position both via`x` and\n",
    "`y` coordinates, as well as using radius and angle?"
   ]
  },
  {
   "cell_type": "code",
   "execution_count": null,
   "id": "1f40209e",
   "metadata": {
    "tags": [
     "code-along"
    ]
   },
   "outputs": [],
   "source": [
    "import math\n",
    "\n",
    "\n",
    "class GeoPointV0:\n",
    "    def __init__(self, x=0, y=0):\n",
    "        self.x = x\n",
    "        self.y = y\n",
    "\n",
    "    def get_radius(self):\n",
    "        return math.hypot(self.x, self.y)\n",
    "\n",
    "    def get_angle(self):\n",
    "        return math.atan2(self.y, self.x)\n",
    "\n",
    "    def __repr__(self):\n",
    "        return f\"GeoPointV0({self.x:.1f}, {self.y:.1f}, r={self.get_radius():.2f}, θ={self.get_angle():.2f})\""
   ]
  },
  {
   "cell_type": "code",
   "execution_count": null,
   "id": "c7a8b734",
   "metadata": {
    "slideshow": {
     "slide_type": "subslide"
    },
    "tags": [
     "code-along"
    ]
   },
   "outputs": [],
   "source": [
    "p = GeoPointV0()\n",
    "p"
   ]
  },
  {
   "cell_type": "code",
   "execution_count": null,
   "id": "67a767d3",
   "metadata": {},
   "outputs": [],
   "source": [
    "assert p.x == 0.0\n",
    "assert p.y == 0.0\n",
    "assert p.get_radius() == 0.0\n",
    "assert p.get_angle() == 0.0"
   ]
  },
  {
   "cell_type": "code",
   "execution_count": null,
   "id": "f4d7985b",
   "metadata": {
    "tags": [
     "code-along"
    ]
   },
   "outputs": [],
   "source": [
    "p = GeoPointV0(1.0, 0.0)\n",
    "p"
   ]
  },
  {
   "cell_type": "code",
   "execution_count": null,
   "id": "cac9063f",
   "metadata": {},
   "outputs": [],
   "source": [
    "assert p.x == 1.0\n",
    "assert p.y == 0.0\n",
    "assert p.get_radius() == 1.0\n",
    "assert p.get_angle() == 0.0"
   ]
  },
  {
   "cell_type": "code",
   "execution_count": null,
   "id": "07a3f191",
   "metadata": {
    "tags": [
     "code-along"
    ]
   },
   "outputs": [],
   "source": [
    "p = GeoPointV0(0.0, 2.0)\n",
    "p"
   ]
  },
  {
   "cell_type": "code",
   "execution_count": null,
   "id": "92d6a24d",
   "metadata": {},
   "outputs": [],
   "source": [
    "from math import isclose, pi\n",
    "\n",
    "assert p.x == 0.0\n",
    "assert p.y == 2.0\n",
    "assert p.get_radius() == 2.0\n",
    "assert isclose(p.get_angle(), pi / 2)"
   ]
  },
  {
   "cell_type": "markdown",
   "id": "581411c1",
   "metadata": {
    "lang": "en",
    "slideshow": {
     "slide_type": "subslide"
    }
   },
   "source": [
    "It is inconvenient that the attributes `x`\n",
    "and `y` of `GeoPointV0` must be treated differently than `radius` and `angle`:"
   ]
  },
  {
   "cell_type": "code",
   "execution_count": null,
   "id": "aeeef0b6",
   "metadata": {
    "tags": [
     "code-along"
    ]
   },
   "outputs": [],
   "source": [
    "p = GeoPointV0(1.0, 1.0)\n",
    "print(p.x, p.y, p.get_radius(), p.get_angle())"
   ]
  },
  {
   "cell_type": "code",
   "execution_count": null,
   "id": "bc50d2dc",
   "metadata": {
    "slideshow": {
     "slide_type": "subslide"
    },
    "tags": [
     "code-along"
    ]
   },
   "outputs": [],
   "source": [
    "import math\n",
    "\n",
    "\n",
    "class GeoPointV1:\n",
    "    def __init__(self, x=0, y=0):\n",
    "        self.x = x\n",
    "        self.y = y\n",
    "\n",
    "    @property\n",
    "    def radius(self):\n",
    "        return (self.x**2 + self.y**2) ** 0.5\n",
    "\n",
    "    @property\n",
    "    def angle(self):\n",
    "        return math.atan2(self.y, self.x)\n",
    "\n",
    "    def __repr__(self):\n",
    "        return f\"GeoPointV1({self.x:.1f}, {self.y:.1f}, r={self.radius:.2f}, θ={self.angle:.2f})\""
   ]
  },
  {
   "cell_type": "code",
   "execution_count": null,
   "id": "95bd2e43",
   "metadata": {
    "slideshow": {
     "slide_type": "subslide"
    },
    "tags": [
     "code-along"
    ]
   },
   "outputs": [],
   "source": [
    "p = GeoPointV1()\n",
    "p"
   ]
  },
  {
   "cell_type": "code",
   "execution_count": null,
   "id": "7831fdde",
   "metadata": {},
   "outputs": [],
   "source": [
    "assert p.x == 0.0\n",
    "assert p.y == 0.0\n",
    "assert p.radius == 0.0\n",
    "assert p.angle == 0.0"
   ]
  },
  {
   "cell_type": "code",
   "execution_count": null,
   "id": "84e0cbf3",
   "metadata": {
    "tags": [
     "code-along"
    ]
   },
   "outputs": [],
   "source": [
    "p = GeoPointV1(1.0, 0.0)\n",
    "p"
   ]
  },
  {
   "cell_type": "code",
   "execution_count": null,
   "id": "790399ac",
   "metadata": {},
   "outputs": [],
   "source": [
    "assert p.x == 1.0\n",
    "assert p.y == 0.0\n",
    "assert p.radius == 1.0\n",
    "assert p.angle == 0.0"
   ]
  },
  {
   "cell_type": "code",
   "execution_count": null,
   "id": "2b62a773",
   "metadata": {
    "tags": [
     "code-along"
    ]
   },
   "outputs": [],
   "source": [
    "p = GeoPointV1(0.0, 2.0)\n",
    "p"
   ]
  },
  {
   "cell_type": "code",
   "execution_count": null,
   "id": "4108f39c",
   "metadata": {},
   "outputs": [],
   "source": [
    "from math import isclose, pi\n",
    "\n",
    "assert p.x == 0.0\n",
    "assert p.y == 2.0\n",
    "assert p.radius == 2.0\n",
    "assert isclose(p.angle, pi / 2)"
   ]
  },
  {
   "cell_type": "code",
   "execution_count": null,
   "id": "962d92d5",
   "metadata": {
    "tags": [
     "code-along"
    ]
   },
   "outputs": [],
   "source": [
    "GeoPointV1(1.0, 0.0)"
   ]
  },
  {
   "cell_type": "code",
   "execution_count": null,
   "id": "859989a8",
   "metadata": {
    "tags": [
     "code-along"
    ]
   },
   "outputs": [],
   "source": [
    "GeoPointV1(0.0, 2.0)"
   ]
  },
  {
   "cell_type": "code",
   "execution_count": null,
   "id": "1cd618e8",
   "metadata": {
    "tags": [
     "code-along"
    ]
   },
   "outputs": [],
   "source": [
    "p = GeoPointV1(1.0, 1.0)\n",
    "print(p.x, p.y, p.radius, p.angle)"
   ]
  },
  {
   "cell_type": "markdown",
   "id": "c872f6ce",
   "metadata": {
    "lang": "en",
    "slideshow": {
     "slide_type": "subslide"
    }
   },
   "source": [
    "## Setters for properties:\n",
    "\n",
    "Properties can also be modified:"
   ]
  },
  {
   "cell_type": "code",
   "execution_count": null,
   "id": "39f266e7",
   "metadata": {
    "tags": [
     "code-along"
    ]
   },
   "outputs": [],
   "source": [
    "import math\n",
    "\n",
    "\n",
    "class GeoPointV2:\n",
    "    def __init__(self, x=0, y=0):\n",
    "        self.x = x\n",
    "        self.y = y\n",
    "\n",
    "    @property\n",
    "    def radius(self):\n",
    "        return (self.x**2 + self.y**2) ** 0.5\n",
    "\n",
    "    @radius.setter\n",
    "    def radius(self, new_radius):\n",
    "        old_radius = self.radius\n",
    "        # Check for `old_radius == 0`...\n",
    "        self.x *= new_radius / old_radius\n",
    "        self.y *= new_radius / old_radius\n",
    "\n",
    "    @property\n",
    "    def angle(self):\n",
    "        return math.atan2(self.y, self.x)\n",
    "\n",
    "    def __repr__(self):\n",
    "        return f\"GeoPointV1({self.x:.1f}, {self.y:.1f}, r={self.radius:.2f}, θ={self.angle:.2f})\""
   ]
  },
  {
   "cell_type": "code",
   "execution_count": null,
   "id": "106cad84",
   "metadata": {
    "tags": [
     "code-along"
    ]
   },
   "outputs": [],
   "source": [
    "p = GeoPointV2(3.0, 4.0)\n",
    "print(\"Original point:  \", p)\n",
    "p.radius = 10.0\n",
    "print(\"Set radius to 10:\", p)"
   ]
  },
  {
   "cell_type": "code",
   "execution_count": null,
   "id": "842790f9",
   "metadata": {
    "lines_to_next_cell": 2
   },
   "outputs": [],
   "source": [
    "assert p.radius == 10.0"
   ]
  },
  {
   "cell_type": "markdown",
   "id": "4683a8cd",
   "metadata": {
    "lang": "en",
    "slideshow": {
     "slide_type": "subslide"
    }
   },
   "source": [
    "## Class methods and factories\n",
    "\n",
    "A factory is a function (or class) used to build object instances. Class\n",
    "methods are a powerful feature of Python that is useful for implementing\n",
    "factories.\n",
    "\n",
    "Class methods are methods typically called on a class (as opposed to an\n",
    "object). In contrast to static methods (which receive no information about the\n",
    "class they are called on) they are passed a class object as argument that can\n",
    "be used to perform operations that depend on the class (such as creating\n",
    "instances)."
   ]
  },
  {
   "cell_type": "code",
   "execution_count": null,
   "id": "4d92f2cd",
   "metadata": {
    "lines_to_next_cell": 1,
    "tags": [
     "code-along"
    ]
   },
   "outputs": [],
   "source": [
    "from dataclasses import dataclass"
   ]
  },
  {
   "cell_type": "code",
   "execution_count": null,
   "id": "2f4b6a4f",
   "metadata": {
    "lines_to_next_cell": 1,
    "tags": [
     "code-along"
    ]
   },
   "outputs": [],
   "source": [
    "@dataclass\n",
    "class Color:\n",
    "    r: float = 0.0\n",
    "    g: float = 0.0\n",
    "    b: float = 0.0\n",
    "    color_table = {\n",
    "        \"white\": (1.0, 1.0, 1.0),\n",
    "        \"red\": (1.0, 0.0, 0.0),\n",
    "        \"green\": (0.0, 1.0, 0.0),\n",
    "        \"blue\": (0.0, 0.0, 1.0)\n",
    "    }\n",
    "\n",
    "    @classmethod\n",
    "    def from_string(cls, color):\n",
    "        return cls(*cls.color_table.get(color, (0.0, 0.0, 0.0)))\n",
    "    \n",
    "    @classmethod\n",
    "    def from_unsigned(cls, r, g, b):\n",
    "        return cls(r/255, g/255, b/255)"
   ]
  },
  {
   "cell_type": "code",
   "execution_count": null,
   "id": "310c3b38",
   "metadata": {
    "tags": [
     "code-along"
    ]
   },
   "outputs": [],
   "source": [
    "Color(0.5, 0.5, 0.5)"
   ]
  },
  {
   "cell_type": "code",
   "execution_count": null,
   "id": "e3feeab6",
   "metadata": {
    "tags": [
     "code-along"
    ]
   },
   "outputs": [],
   "source": [
    "Color.from_string(\"red\")"
   ]
  },
  {
   "cell_type": "code",
   "execution_count": null,
   "id": "a3c47c6d",
   "metadata": {
    "lines_to_next_cell": 1,
    "tags": [
     "code-along"
    ]
   },
   "outputs": [],
   "source": [
    "Color.from_unsigned(255, 0, 0)"
   ]
  },
  {
   "cell_type": "markdown",
   "id": "162ec771",
   "metadata": {
    "lang": "en",
    "slideshow": {
     "slide_type": "subslide"
    }
   },
   "source": [
    "\n",
    "If the constructor arguments of a subclass are compatible with the superclass,\n",
    "the class methods of the superclass can directly be used as factories for the\n",
    "subclass."
   ]
  },
  {
   "cell_type": "code",
   "execution_count": null,
   "id": "f3a4642e",
   "metadata": {
    "lines_to_next_cell": 1,
    "tags": [
     "code-along"
    ]
   },
   "outputs": [],
   "source": [
    "@dataclass\n",
    "class AlphaColor(Color):\n",
    "    alpha: float = 1.0"
   ]
  },
  {
   "cell_type": "code",
   "execution_count": null,
   "id": "46851d02",
   "metadata": {
    "tags": [
     "code-along"
    ]
   },
   "outputs": [],
   "source": [
    "AlphaColor(0.5, 0.5, 0.5)"
   ]
  },
  {
   "cell_type": "code",
   "execution_count": null,
   "id": "05ee060d",
   "metadata": {
    "tags": [
     "code-along"
    ]
   },
   "outputs": [],
   "source": [
    "AlphaColor.from_string(\"red\")"
   ]
  },
  {
   "cell_type": "code",
   "execution_count": null,
   "id": "bf3cf08d",
   "metadata": {
    "lines_to_next_cell": 1,
    "tags": [
     "code-along"
    ]
   },
   "outputs": [],
   "source": [
    "AlphaColor.from_unsigned(255, 0, 0)"
   ]
  },
  {
   "cell_type": "markdown",
   "id": "76196e6c",
   "metadata": {
    "lang": "en",
    "slideshow": {
     "slide_type": "subslide"
    }
   },
   "source": [
    "## Attributes of classes\n",
    "\n",
    "Most attributes are defined at the instance level, i.e.,\n",
    "each object has its own values for the attributes. But sometimes it\n",
    "makes sense to define attributes on the class level as well:"
   ]
  },
  {
   "cell_type": "code",
   "execution_count": null,
   "id": "d1ae807a",
   "metadata": {
    "tags": [
     "code-along"
    ]
   },
   "outputs": [],
   "source": [
    "class CountedAdder:\n",
    "    # Attribut der Klasse, wird von allen Instanzen geteilt\n",
    "    num_counters = 0\n",
    "\n",
    "    def __init__(self, value):\n",
    "        CountedAdder.num_counters += 1\n",
    "        # Instanzvariable (-attribut): Jede Instanz hat eigene Werte dafür\n",
    "        self.value = value\n",
    "\n",
    "    def describe(self):\n",
    "        print(\n",
    "            f\"One of {CountedAdder.num_counters} adders. \"\n",
    "            f\"This one adds {self.value} to its argument.\"\n",
    "        )\n",
    "\n",
    "    def add(self, n):\n",
    "        return self.value + n"
   ]
  },
  {
   "cell_type": "code",
   "execution_count": null,
   "id": "336e477e",
   "metadata": {
    "tags": [
     "code-along"
    ]
   },
   "outputs": [],
   "source": [
    "print(CountedAdder.num_counters)\n",
    "a1 = CountedAdder(10)\n",
    "print(CountedAdder.num_counters)\n",
    "a2 = CountedAdder(20)\n",
    "print(CountedAdder.num_counters)"
   ]
  },
  {
   "cell_type": "code",
   "execution_count": null,
   "id": "65030818",
   "metadata": {
    "tags": [
     "code-along"
    ]
   },
   "outputs": [],
   "source": [
    "print(a1.add(1))\n",
    "print(a2.add(2))"
   ]
  },
  {
   "cell_type": "code",
   "execution_count": null,
   "id": "593d548b",
   "metadata": {
    "tags": [
     "code-along"
    ]
   },
   "outputs": [],
   "source": [
    "a1.describe()\n",
    "a2.describe()"
   ]
  },
  {
   "cell_type": "code",
   "execution_count": null,
   "id": "f0fb8093",
   "metadata": {
    "tags": [
     "code-along"
    ]
   },
   "outputs": [],
   "source": [
    "print(CountedAdder.num_counters)\n",
    "print(a1.num_counters)\n",
    "print(a2.num_counters)"
   ]
  },
  {
   "cell_type": "code",
   "execution_count": null,
   "id": "2f2a3a1c",
   "metadata": {
    "lines_to_next_cell": 2,
    "tags": [
     "code-along"
    ]
   },
   "outputs": [],
   "source": [
    "print(CountedAdder.add)\n",
    "print(a1.add)\n",
    "print(a2.add)"
   ]
  },
  {
   "cell_type": "markdown",
   "id": "cccafa39",
   "metadata": {
    "lang": "en"
   },
   "source": [
    "### Inheritance"
   ]
  },
  {
   "cell_type": "code",
   "execution_count": null,
   "id": "b4dfaa50",
   "metadata": {
    "tags": [
     "code-along"
    ]
   },
   "outputs": [],
   "source": [
    "class LoggingAdder(CountedAdder):\n",
    "    def add(self, n):\n",
    "        print(f\"Adding {self.value} to {n}\")\n",
    "        return self.value + n"
   ]
  },
  {
   "cell_type": "code",
   "execution_count": null,
   "id": "3e60bccd",
   "metadata": {
    "tags": [
     "code-along"
    ]
   },
   "outputs": [],
   "source": [
    "a3 = LoggingAdder(30)\n",
    "print(a3.add(3))\n",
    "print(a3.num_counters)"
   ]
  },
  {
   "cell_type": "code",
   "execution_count": null,
   "id": "ffac5958",
   "metadata": {
    "tags": [
     "code-along"
    ]
   },
   "outputs": [],
   "source": [
    "a1.describe()\n",
    "a2.describe()\n",
    "a3.describe()"
   ]
  },
  {
   "cell_type": "code",
   "execution_count": null,
   "id": "d6d1f1e9",
   "metadata": {
    "tags": [
     "code-along"
    ]
   },
   "outputs": [],
   "source": [
    "# Method Resolution Order:\n",
    "LoggingAdder.mro()"
   ]
  },
  {
   "cell_type": "code",
   "execution_count": null,
   "id": "f774d263",
   "metadata": {
    "tags": [
     "code-along"
    ]
   },
   "outputs": [],
   "source": [
    "print(CountedAdder.add)\n",
    "print(a1.add)\n",
    "print(a2.add)\n",
    "print(LoggingAdder.add)\n",
    "print(a3.add)"
   ]
  },
  {
   "cell_type": "code",
   "execution_count": null,
   "id": "95e62874",
   "metadata": {
    "tags": [
     "code-along"
    ]
   },
   "outputs": [],
   "source": [
    "print(CountedAdder.add)\n",
    "print(a1.add.__func__)\n",
    "print(a2.add.__func__)\n",
    "print(LoggingAdder.add)\n",
    "print(a3.add.__func__)"
   ]
  },
  {
   "cell_type": "code",
   "execution_count": null,
   "id": "0f95a805",
   "metadata": {
    "tags": [
     "code-along"
    ]
   },
   "outputs": [],
   "source": [
    "a1.__dict__[\"value\"] = 15"
   ]
  },
  {
   "cell_type": "code",
   "execution_count": null,
   "id": "e998c7d5",
   "metadata": {
    "tags": [
     "code-along"
    ]
   },
   "outputs": [],
   "source": [
    "a1.add(0)"
   ]
  },
  {
   "cell_type": "code",
   "execution_count": null,
   "id": "d510733a",
   "metadata": {
    "tags": [
     "code-along"
    ]
   },
   "outputs": [],
   "source": [
    "LoggingAdder.__dict__"
   ]
  },
  {
   "cell_type": "markdown",
   "id": "b10a4840",
   "metadata": {
    "lang": "en",
    "slideshow": {
     "slide_type": "slide"
    }
   },
   "source": [
    "## For experts: access to attributes\n",
    "\n",
    "Python allows us to modify access to attributes in several places."
   ]
  },
  {
   "cell_type": "markdown",
   "id": "c82cb5d6",
   "metadata": {
    "lang": "en"
   },
   "source": [
    "## Attributes of classes\n",
    "\n",
    " When accessing `C.name`, Python does the following:\n",
    "\n",
    " - If `name` is a key in `C.__dict__`:\n",
    "   - `v=C.__dict__['name']`\n",
    "   - If `v` is a descriptor (i.e., `type(v).__get__` is defined:\n",
    "     - Result is `type(v).__get__(v, None, C)`\n",
    "   - If `v` is not a descriptor:\n",
    "     - Result is `v`\n",
    " - If `name` is not a key in `C.__dict__`:\n",
    "   - The base classes of `C` are traversed in Method Resolution Order and\n",
    "     this procedure is performed for each class"
   ]
  },
  {
   "cell_type": "markdown",
   "id": "c99b48b1",
   "metadata": {
    "lang": "en",
    "slideshow": {
     "slide_type": "subslide"
    }
   },
   "source": [
    "## Attributes of instances\n",
    "\n",
    " When accessing `object.name`, Python does the following:\n",
    "\n",
    " - If `name` is an overriding descriptor `v` in `C` or one of the\n",
    "   Base classes of `C` is (`type(v)` has methods `__get__()` and\n",
    "   `__set__()`:\n",
    "   - The result is `type(v).__get__(v, object, C)`\n",
    " - Else, if `name` is a key in `object.__dict__` :\n",
    "   - The result is `object.__dict__['name']`\n",
    " - Otherwise, `object.name` delegates the search to the class, as above\n",
    "   described\n",
    "   - If this finds a descriptor `v`, then the result is\n",
    "     `type(v).__get__(v, object, C)`\n",
    "   - If a value `v` is found that is not a descriptor, then `v`\n",
    "     returned\n",
    " - If no value is found and `C.__getattr__` is defined, then\n",
    "   `C.__getattr__(object, 'name')` is called to get the value\n",
    " - Otherwise an `AttributeError` exception will be thrown\n",
    "\n",
    " This process can be overridden by the `__getattribute__` method."
   ]
  },
  {
   "cell_type": "code",
   "execution_count": null,
   "id": "909d7fa4",
   "metadata": {
    "slideshow": {
     "slide_type": "subslide"
    },
    "tags": [
     "code-along"
    ]
   },
   "outputs": [],
   "source": [
    "class LoggingDescriptor:\n",
    "    def __init__(self, name):\n",
    "        self.name = name\n",
    "\n",
    "    def __get__(self, instance, owner):\n",
    "        print(f\"__get__({self}, {instance}, {owner})\")\n",
    "        print(f\"  __dict__ == {instance.__dict__}\")\n",
    "        return instance.__dict__.get(self.name, \"nothing\")"
   ]
  },
  {
   "cell_type": "code",
   "execution_count": null,
   "id": "92375d37",
   "metadata": {
    "tags": [
     "code-along"
    ]
   },
   "outputs": [],
   "source": [
    "class OverridingLoggingDescriptor(LoggingDescriptor):\n",
    "    def __set__(self, instance, value):\n",
    "        print(f\"__set__({self}, {instance}, {value}\")\n",
    "        instance.__dict__[self.name] = value"
   ]
  },
  {
   "cell_type": "code",
   "execution_count": null,
   "id": "40d1bd4c",
   "metadata": {
    "tags": [
     "code-along"
    ]
   },
   "outputs": [],
   "source": [
    "class YourClass:\n",
    "    f = LoggingDescriptor(\"f\")\n",
    "    g = OverridingLoggingDescriptor(\"g\")"
   ]
  },
  {
   "cell_type": "code",
   "execution_count": null,
   "id": "bcf3ffc1",
   "metadata": {
    "slideshow": {
     "slide_type": "subslide"
    },
    "tags": [
     "code-along"
    ]
   },
   "outputs": [],
   "source": [
    "yc = YourClass()\n",
    "print(yc.f, yc.g)"
   ]
  },
  {
   "cell_type": "code",
   "execution_count": null,
   "id": "fc39dd62",
   "metadata": {
    "tags": [
     "code-along"
    ]
   },
   "outputs": [],
   "source": [
    "yc.f = 234\n",
    "yc.g = 345"
   ]
  },
  {
   "cell_type": "code",
   "execution_count": null,
   "id": "49f3218b",
   "metadata": {
    "tags": [
     "code-along"
    ]
   },
   "outputs": [],
   "source": [
    "print(yc.f, yc.g)"
   ]
  },
  {
   "cell_type": "code",
   "execution_count": null,
   "id": "24d7309b",
   "metadata": {
    "tags": [
     "code-along"
    ]
   },
   "outputs": [],
   "source": [
    "class MyClass:\n",
    "    def g(self, x):\n",
    "        print(self, x)\n",
    "\n",
    "\n",
    "def f(x, y):\n",
    "    print(x, y)"
   ]
  },
  {
   "cell_type": "code",
   "execution_count": null,
   "id": "e1f171e3",
   "metadata": {
    "tags": [
     "code-along"
    ]
   },
   "outputs": [],
   "source": [
    "mc = MyClass()\n",
    "print(mc.__class__)"
   ]
  },
  {
   "cell_type": "code",
   "execution_count": null,
   "id": "1e5d796d",
   "metadata": {
    "tags": [
     "code-along"
    ]
   },
   "outputs": [],
   "source": [
    "print(MyClass.g)\n",
    "print(mc.g.__qualname__)\n",
    "print(mc.g.__get__)"
   ]
  },
  {
   "cell_type": "code",
   "execution_count": null,
   "id": "0c81515b",
   "metadata": {
    "tags": [
     "code-along"
    ]
   },
   "outputs": [],
   "source": [
    "print(f.__get__)"
   ]
  },
  {
   "cell_type": "code",
   "execution_count": null,
   "id": "70b260bf",
   "metadata": {
    "tags": [
     "code-along"
    ]
   },
   "outputs": [],
   "source": [
    "bound_f = f.__get__(mc, MyClass)\n",
    "bound_g = mc.g\n",
    "print(bound_f)\n",
    "print(bound_g)"
   ]
  },
  {
   "cell_type": "code",
   "execution_count": null,
   "id": "97cd71a5",
   "metadata": {
    "tags": [
     "code-along"
    ]
   },
   "outputs": [],
   "source": [
    "bound_f(3)\n",
    "bound_g(3)\n",
    "mc.g(3)"
   ]
  },
  {
   "cell_type": "markdown",
   "id": "c82f3fe2",
   "metadata": {
    "lines_to_next_cell": 2
   },
   "source": [
    "# Ende der Folien\n",
    "\n",
    "Der Rest der Folien kann weitgehend entfallen, da Klassen jetzt in\n",
    "`introduction_part2` eingeführt werden.\n",
    "\n",
    "TODO: Überprüfen ob es noch nicht behandelte Inhalte gibt und diese\n",
    "extrahieren. Evtl. in eine kurze Wiederholung umarbeiten."
   ]
  },
  {
   "cell_type": "markdown",
   "id": "50262db5",
   "metadata": {},
   "source": [
    "\n",
    " # Klassen\n",
    "\n",
    " Wie können wir einen Eintrag in einem Warenkorb darstellen?\n",
    "\n",
    " - Artikelnummer\n",
    " - Artikelname\n",
    " - Preis pro Stück\n",
    " - Anzahl\n",
    " - Gesamtpreis\n",
    "\n",
    " Vorschlag: Liste, (Tupel, Dictionaries)"
   ]
  },
  {
   "cell_type": "code",
   "execution_count": null,
   "id": "978311d8",
   "metadata": {},
   "outputs": [],
   "source": [
    "entry = [\"0713\", \"Netzkabel\", 3.49, 2, 6.98]"
   ]
  },
  {
   "cell_type": "code",
   "execution_count": null,
   "id": "20f8d86a",
   "metadata": {},
   "outputs": [],
   "source": [
    "entry"
   ]
  },
  {
   "cell_type": "markdown",
   "id": "ad008183",
   "metadata": {},
   "source": [
    "\n",
    " ## Problem\n",
    "\n",
    " - Schwer zu erkennen, welcher Bedeutung ein Eintrag hat\n",
    " - Listenoperationen sind für Entries möglich, aber nicht sinnvoll\n",
    " - Bedeutung nur implizit; für Python ist es einfach eine Liste\n",
    " - Berechnete Werte (Gesamtpreis) müssen explizit angegeben werden"
   ]
  },
  {
   "cell_type": "code",
   "execution_count": null,
   "id": "e7660d02",
   "metadata": {},
   "outputs": [],
   "source": [
    "entry = {\n",
    "    \"article_number\": \"0713\",\n",
    "    \"article_name\": \"Netzkabel\",\n",
    "    \"price_per_item:\": 3.49,\n",
    "    \"total_price\": 6.98,\n",
    "}"
   ]
  },
  {
   "cell_type": "code",
   "execution_count": null,
   "id": "f3afd1d1",
   "metadata": {},
   "outputs": [],
   "source": [
    "entry"
   ]
  },
  {
   "cell_type": "markdown",
   "id": "06ec8607",
   "metadata": {},
   "source": [
    "\n",
    " ## Verbesserungen und noch vorhandene Probleme\n",
    "\n",
    " - Bedeutung der einzelnen \"Attribute\" ist klarer\n",
    " - Dictionary-Operationen für Eintrag sinnvoller als Listenoperationen\n",
    "   (passen aber immer noch nicht komplett)\n",
    " - Bedeutung des Eintrags selber nur implizit; für Python ist es einfach ein Dictionary\n",
    " - Berechnete Werte (Gesamtpreis) müssen explizit angegeben werden"
   ]
  },
  {
   "cell_type": "markdown",
   "id": "8b6ab75e",
   "metadata": {},
   "source": [
    "\n",
    " # Klassen und Objekte\n",
    "\n",
    " Wie können wir in Python Objekte erzeugen, in denen wir zusammengehörige Daten Speichern können?\n",
    "\n",
    " - Listen\n",
    " - Tupel\n",
    " - Dictionaries\n",
    " - *(Instanzen von) benutzerdefinierten Klassen*"
   ]
  },
  {
   "cell_type": "code",
   "execution_count": null,
   "id": "043c3bc7",
   "metadata": {},
   "outputs": [],
   "source": [
    "class ShoppingCartEntryV0:\n",
    "    pass"
   ]
  },
  {
   "cell_type": "code",
   "execution_count": null,
   "id": "55432ec0",
   "metadata": {},
   "outputs": [],
   "source": [
    "shopping_cart_entry_1 = ShoppingCartEntryV0()\n",
    "shopping_cart_entry_1"
   ]
  },
  {
   "cell_type": "code",
   "execution_count": null,
   "id": "10ea0344",
   "metadata": {},
   "outputs": [],
   "source": [
    "type(shopping_cart_entry_1)"
   ]
  },
  {
   "cell_type": "code",
   "execution_count": null,
   "id": "e22c277b",
   "metadata": {},
   "outputs": [],
   "source": [
    "shopping_cart_entry_1.article_number = \"9343\"\n",
    "shopping_cart_entry_1.article_name = \"Strawberries\"\n",
    "shopping_cart_entry_1.price_per_item = 2.99"
   ]
  },
  {
   "cell_type": "code",
   "execution_count": null,
   "id": "a1442e7e",
   "metadata": {},
   "outputs": [],
   "source": [
    "shopping_cart_entry_1.article_number"
   ]
  },
  {
   "cell_type": "code",
   "execution_count": null,
   "id": "3752204c",
   "metadata": {},
   "outputs": [],
   "source": [
    "shopping_cart_entry_1.article_name"
   ]
  },
  {
   "cell_type": "code",
   "execution_count": null,
   "id": "b9367321",
   "metadata": {},
   "outputs": [],
   "source": [
    "shopping_cart_entry_1.price_per_item"
   ]
  },
  {
   "cell_type": "code",
   "execution_count": null,
   "id": "d262d1f7",
   "metadata": {},
   "outputs": [],
   "source": [
    "shopping_cart_entry_2 = ShoppingCartEntryV0()\n",
    "shopping_cart_entry_2.article_number = \"3742\"\n",
    "shopping_cart_entry_2.article_name = \"Cream\""
   ]
  },
  {
   "cell_type": "code",
   "execution_count": null,
   "id": "290d77e9",
   "metadata": {
    "lines_to_next_cell": 2
   },
   "outputs": [],
   "source": [
    "print(\n",
    "    \"shopping_cart_entry_1:\",\n",
    "    shopping_cart_entry_1.article_number,\n",
    "    shopping_cart_entry_1.article_name,\n",
    "    shopping_cart_entry_1.price_per_item,\n",
    ")\n",
    "print(\n",
    "    \"shopping_cart_entry_2:\",\n",
    "    shopping_cart_entry_2.article_number,\n",
    "    shopping_cart_entry_2.article_name,\n",
    ")"
   ]
  },
  {
   "cell_type": "code",
   "execution_count": null,
   "id": "c34958ac",
   "metadata": {
    "lines_to_next_cell": 2
   },
   "outputs": [],
   "source": [
    "# Fehler:\n",
    "# shopping_cart_entry_2.price_per_item"
   ]
  },
  {
   "cell_type": "markdown",
   "id": "95b5199c",
   "metadata": {},
   "source": [
    "\n",
    " ## Bessere Variante: \"Abstrakter Datentyp\"\n",
    "\n",
    " Wir definieren uns einen Typ, der für \"entries in einem Warenkorb\" steht.\n",
    " Alle Instanzen dieses Typs haben die gleiche Struktur:\n",
    "\n",
    " - `article_number`, `article_name`\n",
    " - `price_per_item`, `number_of_items`\n",
    " - `total_price`, berechnet aus den vorhergehenden Werten\n"
   ]
  },
  {
   "cell_type": "markdown",
   "id": "bc58f95d",
   "metadata": {},
   "source": [
    "\n",
    " ### Konstruktoren\n",
    "\n",
    " Die benötigten Werte werden bei der Konstruktion eines entries angegeben.\n",
    "\n",
    " In Python definiert man dazu die `__init__()` Methode:"
   ]
  },
  {
   "cell_type": "code",
   "execution_count": null,
   "id": "a6b2e6ab",
   "metadata": {},
   "outputs": [],
   "source": [
    "class ShoppingCartEntryV1:\n",
    "    def __init__(self, article_number, article_name, price_per_item, number_of_items):\n",
    "        self.article_number = article_number\n",
    "        self.article_name = article_name\n",
    "        self.price_per_item = price_per_item\n",
    "        self.number_of_items = number_of_items\n",
    "        self.total_price = price_per_item * number_of_items"
   ]
  },
  {
   "cell_type": "markdown",
   "id": "ce281932",
   "metadata": {},
   "source": [
    "\n",
    " - Die `__init__()` Methode wird von Python nach dem Erzeugen einer Instanz\n",
    "   aufgerufen\n",
    " - Das erste Argument ist dabei immer die neu erzeugte Instanz und hat\n",
    "   per Konvention den Namen `self`\n",
    " - Die restlichen Argumente müssen an den Konstruktor übergeben werden:"
   ]
  },
  {
   "cell_type": "code",
   "execution_count": null,
   "id": "58968f56",
   "metadata": {},
   "outputs": [],
   "source": [
    "entry = ShoppingCartEntryV1(\"0713\", \"Netzkabel\", 3.49, 2)\n",
    "entry"
   ]
  },
  {
   "cell_type": "code",
   "execution_count": null,
   "id": "e8ad3aa1",
   "metadata": {},
   "outputs": [],
   "source": [
    "entry.article_number, entry.article_name, entry.price_per_item, entry.number_of_items, entry.total_price"
   ]
  },
  {
   "cell_type": "code",
   "execution_count": null,
   "id": "6609423a",
   "metadata": {
    "lines_to_next_cell": 2
   },
   "outputs": [],
   "source": [
    "# Fehler!\n",
    "# ShoppingCartEntryV1()"
   ]
  },
  {
   "cell_type": "code",
   "execution_count": null,
   "id": "e909be41",
   "metadata": {},
   "outputs": [],
   "source": [
    "shopping_cart = [\n",
    "    ShoppingCartEntryV1(\"9343\", \"Strawberries\", price_per_item=2.99, number_of_items=2),\n",
    "    ShoppingCartEntryV1(\"3742\", \"Cream\", price_per_item=1.99, number_of_items=1),\n",
    "]"
   ]
  },
  {
   "cell_type": "markdown",
   "id": "248fad5a",
   "metadata": {},
   "source": [
    "\n",
    " Die Ausgabe des Einkaufswagens ist mit der `ShoppingCartEntry` Klasse nicht sehr\n",
    " vielsagend. Das werden wir später verbessern."
   ]
  },
  {
   "cell_type": "code",
   "execution_count": null,
   "id": "1fd40c6f",
   "metadata": {},
   "outputs": [],
   "source": [
    "shopping_cart"
   ]
  },
  {
   "cell_type": "markdown",
   "id": "5a447802",
   "metadata": {},
   "source": [
    "\n",
    " Wir können die Preise der einzelnen Entries im Einkaufswagen so berechnen:"
   ]
  },
  {
   "cell_type": "code",
   "execution_count": null,
   "id": "518c1987",
   "metadata": {},
   "outputs": [],
   "source": [
    "[entry.total_price for entry in shopping_cart]"
   ]
  },
  {
   "cell_type": "code",
   "execution_count": null,
   "id": "b4c693e9",
   "metadata": {},
   "outputs": [],
   "source": [
    "def total_price_of_shopping_cart(shopping_cart):\n",
    "    result = 0.0\n",
    "    for entry in shopping_cart:\n",
    "        result += entry.total_price\n",
    "    return result"
   ]
  },
  {
   "cell_type": "code",
   "execution_count": null,
   "id": "c6f7e114",
   "metadata": {},
   "outputs": [],
   "source": [
    "total_price_of_shopping_cart(shopping_cart)"
   ]
  },
  {
   "cell_type": "markdown",
   "id": "e5dcd221",
   "metadata": {},
   "source": [
    "\n",
    " ### ADT für Einkaufswagen\n",
    "\n",
    " Der Einkaufswagen ist im Moment als Liste gespeichert. Es wäre möglicherweise\n",
    " hilfreich dafür ebenfalls einen Typ zu definieren:"
   ]
  },
  {
   "cell_type": "code",
   "execution_count": null,
   "id": "9c156ee4",
   "metadata": {},
   "outputs": [],
   "source": [
    "class ShoppingCartV0:\n",
    "    def __init__(self, entries):\n",
    "        self.entries = entries"
   ]
  },
  {
   "cell_type": "code",
   "execution_count": null,
   "id": "cdd92c67",
   "metadata": {},
   "outputs": [],
   "source": [
    "shopping_cart_entry_1 = ShoppingCartEntryV1(\"9343\", \"Strawberries\", 2.99, 2)\n",
    "shopping_cart_entry_2 = ShoppingCartEntryV1(\"3742\", \"Cream\", 1.99, 1)\n",
    "shopping_cart = ShoppingCartV0([shopping_cart_entry_1, shopping_cart_entry_2])"
   ]
  },
  {
   "cell_type": "code",
   "execution_count": null,
   "id": "7ed01a6f",
   "metadata": {},
   "outputs": [],
   "source": [
    "def total_price_of_shopping_cart(shopping_cart):\n",
    "    result = 0.0\n",
    "    for entry in shopping_cart.entries:\n",
    "        result += entry.total_price\n",
    "    return result"
   ]
  },
  {
   "cell_type": "code",
   "execution_count": null,
   "id": "8a06f90d",
   "metadata": {},
   "outputs": [],
   "source": [
    "total_price_of_shopping_cart(shopping_cart)"
   ]
  },
  {
   "cell_type": "markdown",
   "id": "df5e539f",
   "metadata": {},
   "source": [
    "\n",
    " ## Mini Workshop\n",
    "\n",
    " - Notebook `062x-Workshop Todo-Liste V1`\n",
    " - Abschnitt \"TODO-Liste Version 1\""
   ]
  },
  {
   "cell_type": "markdown",
   "id": "1953b01a",
   "metadata": {},
   "source": [
    "\n",
    " ### Methoden\n",
    "\n",
    " - Beim `ShoppingCartEntry` haben wir den Gesamtpreis als Attribut gespeichert.\n",
    " - Beim `ShoppingCart` berechnen wir den Gesamtpreis durch eine Top-Level\n",
    "   Funktion, die auf die `entries` zugreift.\n",
    " - Das ist inkonsistent und daher unschön.\n",
    " - Es wäre hilfreich, wenn wir die Funktionen, die zu einer Klasse gehören in\n",
    "   der Klasse definieren könnten:\n",
    " - Wir haben bei der `__init__()` Methode schon eine Funktionsdefinition in den Rumpf einer Klasse geschrieben\n",
    " - Das geht nicht nur für `__init__()` sondern auch für benutzerdefinierte Funktionen\n",
    " - Funktionen, die innerhalb einer Klasse definiert werden heißen *Methoden*\n",
    " - Methoden haben immer mindestens einen Parameter\n",
    "   - per Konvention `self`\n",
    "   - steht für das Objekt in dessen Kontext die Methode aufgerufen wird"
   ]
  },
  {
   "cell_type": "code",
   "execution_count": null,
   "id": "0f3f8014",
   "metadata": {},
   "outputs": [],
   "source": [
    "class ShoppingCartV1:\n",
    "    def __init__(self, entries):\n",
    "        self.entries = entries\n",
    "\n",
    "    def get_total_price(self):\n",
    "        result = 0.0\n",
    "        for entry in self.entries:\n",
    "            result += entry.total_price\n",
    "        return result"
   ]
  },
  {
   "cell_type": "code",
   "execution_count": null,
   "id": "e9ed4fba",
   "metadata": {},
   "outputs": [],
   "source": [
    "shopping_cart = ShoppingCartV1([shopping_cart_entry_1, shopping_cart_entry_2])"
   ]
  },
  {
   "cell_type": "markdown",
   "id": "87222a87",
   "metadata": {},
   "source": [
    "\n",
    " - Methoden werden mit der Syntax\n",
    "\n",
    "   ```python\n",
    "   object.method(arg1, arg2, ...)\n",
    "   ```\n",
    "\n",
    "   aufgerufen.\n",
    " - Das Argument des `self`-Parameters ist `object`\n",
    " - `arg1`, `arg2`, ... werden an die folgenden Parameter gebunden."
   ]
  },
  {
   "cell_type": "code",
   "execution_count": null,
   "id": "fe325063",
   "metadata": {},
   "outputs": [],
   "source": [
    "shopping_cart.get_total_price()"
   ]
  },
  {
   "cell_type": "markdown",
   "id": "5403b60e",
   "metadata": {},
   "source": [
    "\n",
    " Eine Methode wird durch die `object.`-Operation an `object` *gebunden*, d.h.,\n",
    " dem `self` Parameter wird bei nachfolgenden Aufrufen `object` als Argument\n",
    " übergebben:"
   ]
  },
  {
   "cell_type": "code",
   "execution_count": null,
   "id": "8b5a02d1",
   "metadata": {},
   "outputs": [],
   "source": [
    "print(shopping_cart.get_total_price())\n",
    "my_method = shopping_cart.get_total_price\n",
    "print(shopping_cart)\n",
    "print(my_method)\n",
    "print(my_method())"
   ]
  },
  {
   "cell_type": "markdown",
   "id": "3264231c",
   "metadata": {},
   "source": [
    "\n",
    " ### Properties\n",
    "\n",
    " In `ShoppingCartV1` ist `get_total_price()` eine Funktion, in\n",
    " `ShoppingCartEntryV1` hatten wir den Gesamtpreis in einem Attribut\n",
    " gespeichert.\n",
    "\n",
    " Das ergibt immer noch ein inkonsistentes Benutzerinterface:"
   ]
  },
  {
   "cell_type": "code",
   "execution_count": null,
   "id": "f8e80f8f",
   "metadata": {},
   "outputs": [],
   "source": [
    "print(shopping_cart_entry_1.total_price)\n",
    "print(shopping_cart.get_total_price())"
   ]
  },
  {
   "cell_type": "markdown",
   "id": "4a0223d5",
   "metadata": {},
   "source": [
    "\n",
    " Eine Möglichkeit das zu vermeiden:\n",
    "\n",
    " - Getter für alle Instanzvariablen (siehe Java)\n",
    " - Viel Boilerplate-Code"
   ]
  },
  {
   "cell_type": "markdown",
   "id": "3bd1e42f",
   "metadata": {},
   "source": [
    "\n",
    " In Python können wir diesen Unterschied durch Definition einer `total_price`\n",
    " Property vermeiden. Eine Property\n",
    "\n",
    " - Ist eine Methode, die wie jede andere Methode evaluiert wird\n",
    " - Sieht syntaktisch wie der Zugriff auf ein Attribut aus\n",
    " - Wird durch den *Decorator* `@property` eingeführt"
   ]
  },
  {
   "cell_type": "code",
   "execution_count": null,
   "id": "ec477ef7",
   "metadata": {},
   "outputs": [],
   "source": [
    "class ShoppingCartV2:\n",
    "    def __init__(self, entries):\n",
    "        self.entries = entries\n",
    "\n",
    "    @property\n",
    "    def total_price(self):\n",
    "        result = 0.0\n",
    "        for entry in self.entries:\n",
    "            result += entry.total_price\n",
    "        return result"
   ]
  },
  {
   "cell_type": "code",
   "execution_count": null,
   "id": "9ff5b82d",
   "metadata": {},
   "outputs": [],
   "source": [
    "shopping_cart = ShoppingCartV2([shopping_cart_entry_1, shopping_cart_entry_2])\n",
    "print(shopping_cart_entry_1.total_price)\n",
    "print(shopping_cart.total_price)"
   ]
  },
  {
   "cell_type": "markdown",
   "id": "b8ad5eac",
   "metadata": {},
   "source": [
    "\n",
    " ### Dunder-Methoden\n",
    "\n",
    " Zur Erinnerung:"
   ]
  },
  {
   "cell_type": "code",
   "execution_count": null,
   "id": "3dc7f461",
   "metadata": {},
   "outputs": [],
   "source": [
    "print(str(\"Foo\"))"
   ]
  },
  {
   "cell_type": "code",
   "execution_count": null,
   "id": "87d40a99",
   "metadata": {},
   "outputs": [],
   "source": [
    "print(repr(\"Foo\"))"
   ]
  },
  {
   "cell_type": "code",
   "execution_count": null,
   "id": "b10e9db6",
   "metadata": {},
   "outputs": [],
   "source": [
    "foo = \"Foo\"\n",
    "print(f\"{foo}\")\n",
    "print(f\"{foo!s}\")\n",
    "print(f\"{foo!r}\")"
   ]
  },
  {
   "cell_type": "code",
   "execution_count": null,
   "id": "6cd15550",
   "metadata": {},
   "outputs": [],
   "source": [
    "print(f\"{shopping_cart}\")\n",
    "print(f\"{shopping_cart!s}\")\n",
    "print(f\"{shopping_cart!r}\")"
   ]
  },
  {
   "cell_type": "code",
   "execution_count": null,
   "id": "d3bf297f",
   "metadata": {},
   "outputs": [],
   "source": [
    "class ShoppingCart:\n",
    "    def __init__(self, entries):\n",
    "        self.entries = entries\n",
    "\n",
    "    @property\n",
    "    def total_price(self):\n",
    "        result = 0.0\n",
    "        for entry in self.entries:\n",
    "            result += entry.total_price\n",
    "        return result\n",
    "\n",
    "    def __repr__(self):\n",
    "        return f\"ShoppingCart({self.entries!r})\"\n",
    "\n",
    "    # See real implementation\n",
    "    def __str__(self):\n",
    "        return f\"Shopping Cart: {', '.join(str(e) for e in self.entries)}\""
   ]
  },
  {
   "cell_type": "code",
   "execution_count": null,
   "id": "781f3173",
   "metadata": {},
   "outputs": [],
   "source": [
    "class ShoppingCartEntry:\n",
    "    def __init__(self, article_number, article_name, price_per_item, number_of_items):\n",
    "        self.article_number = article_number\n",
    "        self.article_name = article_name\n",
    "        self.price_per_item = price_per_item\n",
    "        self.number_of_items = number_of_items\n",
    "\n",
    "    @property\n",
    "    def total_price(self):\n",
    "        return self.price_per_item * self.number_of_items\n",
    "\n",
    "    def __repr__(self):\n",
    "        return f\"ShoppingCartEntry({self.article_number!r}, {self.article_name!r}, {self.price_per_item!r}, {self.number_of_items!r})\"\n",
    "\n",
    "    def __str__(self):\n",
    "        return f\"{self.article_name}\""
   ]
  },
  {
   "cell_type": "code",
   "execution_count": null,
   "id": "940735b1",
   "metadata": {},
   "outputs": [],
   "source": [
    "shopping_cart = ShoppingCart(\n",
    "    [\n",
    "        ShoppingCartEntry(\"9343\", \"Strawberries\", 2.99, 2),\n",
    "        ShoppingCartEntry(\"3742\", \"Cream\", 1.99, 1),\n",
    "    ]\n",
    ")"
   ]
  },
  {
   "cell_type": "code",
   "execution_count": null,
   "id": "4e2bacbe",
   "metadata": {},
   "outputs": [],
   "source": [
    "shopping_cart"
   ]
  },
  {
   "cell_type": "code",
   "execution_count": null,
   "id": "8f9e65df",
   "metadata": {},
   "outputs": [],
   "source": [
    "print(shopping_cart)"
   ]
  },
  {
   "cell_type": "code",
   "execution_count": null,
   "id": "291df9aa",
   "metadata": {},
   "outputs": [],
   "source": [
    "print(f\"{shopping_cart}\")\n",
    "print(f\"{shopping_cart!s}\")\n",
    "print(f\"{shopping_cart!r}\")"
   ]
  },
  {
   "cell_type": "markdown",
   "id": "e5529e91",
   "metadata": {},
   "source": [
    "\n",
    " Siehe `Examples/ShoppingCart` für Implementierungsvariante."
   ]
  },
  {
   "cell_type": "code",
   "execution_count": null,
   "id": "9888aac3",
   "metadata": {},
   "outputs": [],
   "source": [
    "sce1 = ShoppingCartEntry(\"1\", \"Item 1\", 1.0, 1)\n",
    "sce2 = ShoppingCartEntry(\"1\", \"Item 1\", 1.0, 1)\n",
    "sce1 == sce2"
   ]
  },
  {
   "cell_type": "markdown",
   "id": "c5685264",
   "metadata": {},
   "source": [
    "\n",
    " ## Workshop\n",
    "\n",
    " - Notebook `064x-Workshop Todo-Liste V2`\n",
    " - Abschnitt \"Grundlegende Funktionalität\"\n",
    " - Im Moment ohne die `__iter__()` Methode"
   ]
  }
 ],
 "metadata": {
  "jupytext": {
   "cell_metadata_json": true,
   "encoding": "# -*- coding: utf-8 -*-",
   "formats": "ipynb"
  },
  "kernelspec": {
   "display_name": "Python 3 (ipykernel)",
   "language": "python",
   "name": "python3"
  }
 },
 "nbformat": 4,
 "nbformat_minor": 5
}
