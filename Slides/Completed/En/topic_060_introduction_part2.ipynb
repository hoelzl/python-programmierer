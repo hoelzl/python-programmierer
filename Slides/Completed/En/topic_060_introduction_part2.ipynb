{
 "cells": [
  {
   "cell_type": "markdown",
   "id": "08ac95f8",
   "metadata": {
    "lang": "en",
    "lines_to_next_cell": 2,
    "slideshow": {
     "slide_type": "slide"
    }
   },
   "source": [
    "<img src=\"img/python-logo-notext.svg\"\n",
    "     style=\"display:block;margin:auto;width:10%\"/>\n",
    "<br>\n",
    "<div style=\"text-align:center; font-size:200%;\"><b>Introduction to Python: Part 2</b></div>\n",
    "<br/>\n",
    "<div style=\"text-align:center;\">Dr. Matthias Hölzl</div>"
   ]
  },
  {
   "cell_type": "markdown",
   "id": "51f9c0ea",
   "metadata": {
    "lang": "en",
    "slideshow": {
     "slide_type": "slide"
    }
   },
   "source": [
    "# Conversion to strings\n",
    "\n",
    "Python offers two functions that can be used to convert any value into a string:\n",
    "\n",
    "- `repr` for a \"program-like\" representation (how the value could be generated in the program)\n",
    "- `str` for \"user-friendly\" rendering"
   ]
  },
  {
   "cell_type": "code",
   "execution_count": null,
   "id": "3166868d",
   "metadata": {
    "tags": [
     "code-along"
    ]
   },
   "outputs": [],
   "source": [
    "print(str(\"Hallo!\"))"
   ]
  },
  {
   "cell_type": "code",
   "execution_count": null,
   "id": "5cf5bbcf",
   "metadata": {
    "tags": [
     "code-along"
    ]
   },
   "outputs": [],
   "source": [
    "print(repr(\"Hallo!\"))"
   ]
  },
  {
   "cell_type": "markdown",
   "id": "70dcb6df",
   "metadata": {
    "lang": "en"
   },
   "source": [
    "For some data types, `str` and `repr` return the same string:"
   ]
  },
  {
   "cell_type": "code",
   "execution_count": null,
   "id": "b541a658",
   "metadata": {
    "tags": [
     "code-along"
    ]
   },
   "outputs": [],
   "source": [
    "print(str([\"a\", \"b\", \"c\"]))\n",
    "print(repr([\"a\", \"b\", \"c\"]))"
   ]
  },
  {
   "cell_type": "markdown",
   "id": "297a5011",
   "metadata": {
    "lang": "en",
    "slideshow": {
     "slide_type": "slide"
    }
   },
   "source": [
    "# Custom data types\n",
    "\n",
    "In Python, user-defined data types (classes) can be defined:"
   ]
  },
  {
   "cell_type": "code",
   "execution_count": null,
   "id": "e5490d81",
   "metadata": {
    "tags": [
     "code-along"
    ]
   },
   "outputs": [],
   "source": [
    "class PointV0:\n",
    "    pass"
   ]
  },
  {
   "cell_type": "markdown",
   "id": "2c0d70c8",
   "metadata": {
    "lang": "en"
   },
   "source": [
    "Class names are in pascal case (i.e. capital letters seperate components of names), e.g. `MyVerySpecialClass`."
   ]
  },
  {
   "cell_type": "markdown",
   "id": "84fbd00d",
   "metadata": {
    "lang": "en",
    "slideshow": {
     "slide_type": "subslide"
    }
   },
   "source": [
    "Instances of custom classes are created by calling the class name as a function. Some of the build-in operators and\n",
    "Functions can be used without extra effort:"
   ]
  },
  {
   "cell_type": "code",
   "execution_count": null,
   "id": "563aaea5",
   "metadata": {
    "slideshow": {
     "slide_type": "subslide"
    },
    "tags": [
     "code-along"
    ]
   },
   "outputs": [],
   "source": [
    "p1 = PointV0()\n",
    "p1"
   ]
  },
  {
   "cell_type": "code",
   "execution_count": null,
   "id": "9cb3e5fd",
   "metadata": {
    "tags": [
     "code-along"
    ]
   },
   "outputs": [],
   "source": [
    "print(p1)"
   ]
  },
  {
   "cell_type": "code",
   "execution_count": null,
   "id": "faa161df",
   "metadata": {
    "tags": [
     "code-along"
    ]
   },
   "outputs": [],
   "source": [
    "p2 = PointV0()\n",
    "p1 == p2"
   ]
  },
  {
   "cell_type": "code",
   "execution_count": null,
   "id": "aeacf5f4",
   "metadata": {
    "tags": [
     "code-along"
    ]
   },
   "outputs": [],
   "source": [
    "# Fehler\n",
    "# p1 < p2"
   ]
  },
  {
   "cell_type": "markdown",
   "id": "6ec40274",
   "metadata": {
    "lang": "en"
   },
   "source": [
    "Much like dictionaries can be assigned new entries, one can\n",
    "assign new *attributes* to user-defined data types, but the `.` notation is used instead of the indexing notation `[]`:"
   ]
  },
  {
   "cell_type": "code",
   "execution_count": null,
   "id": "2da384ad",
   "metadata": {
    "tags": [
     "code-along"
    ]
   },
   "outputs": [],
   "source": [
    "# Möglich, aber nicht gut... / Possible but not good...\n",
    "p1.x = 1.0\n",
    "p1.y = 2.0\n",
    "print(p1.x)\n",
    "print(p1.y)"
   ]
  },
  {
   "cell_type": "code",
   "execution_count": null,
   "id": "b0d18d7c",
   "metadata": {
    "tags": [
     "code-along"
    ]
   },
   "outputs": [],
   "source": [
    "# Error!\n",
    "# p2.x"
   ]
  },
  {
   "cell_type": "markdown",
   "id": "72aa5a62",
   "metadata": {
    "lang": "en",
    "slideshow": {
     "slide_type": "subslide"
    }
   },
   "source": [
    "Unlike dictionaries, we typically *do not* create any *new* attributes for an instance after creation!\n",
    "\n",
    "Instead, all instances should have the same shape. We initialize all attributes of an object when it is constructed. This can be done with the `__init__()` method.\n",
    "\n",
    "The `__init__()` method always has (at least) one parameter, named `self` by convention:"
   ]
  },
  {
   "cell_type": "code",
   "execution_count": null,
   "id": "970898cd",
   "metadata": {
    "slideshow": {
     "slide_type": "subslide"
    },
    "tags": [
     "code-along"
    ]
   },
   "outputs": [],
   "source": [
    "class PointV1:\n",
    "    def __init__(self):\n",
    "        self.x = 0.0\n",
    "        self.y = 0.0"
   ]
  },
  {
   "cell_type": "code",
   "execution_count": null,
   "id": "0d7867e9",
   "metadata": {
    "tags": [
     "code-along"
    ]
   },
   "outputs": [],
   "source": [
    "p1 = PointV1()\n",
    "p2 = PointV1()\n",
    "print(\"p1: x =\", p1.x, \"y =\", p1.y)\n",
    "print(\"p2: x =\", p2.x, \"y =\", p2.y)"
   ]
  },
  {
   "cell_type": "code",
   "execution_count": null,
   "id": "295cff30",
   "metadata": {
    "tags": [
     "code-along"
    ]
   },
   "outputs": [],
   "source": [
    "p1 == p2"
   ]
  },
  {
   "cell_type": "markdown",
   "id": "069a7a17",
   "metadata": {
    "lang": "en",
    "slideshow": {
     "slide_type": "subslide"
    }
   },
   "source": [
    "The values ​​of attributes can be changed:"
   ]
  },
  {
   "cell_type": "code",
   "execution_count": null,
   "id": "f3e0465f",
   "metadata": {
    "tags": [
     "code-along"
    ]
   },
   "outputs": [],
   "source": [
    "p1.x = 1.0\n",
    "p1.y = 2.0\n",
    "print(\"p1: x =\", p1.x, \"y =\", p1.y)\n",
    "print(\"p2: x =\", p2.x, \"y =\", p2.y)"
   ]
  },
  {
   "cell_type": "markdown",
   "id": "ae0a40ed",
   "metadata": {
    "lang": "en",
    "slideshow": {
     "slide_type": "subslide"
    }
   },
   "source": [
    "In many cases, when constructing an object, we would like to specify the attributes of the instance.\n",
    "This is made possible by passing additional arguments to the `__init__()` method."
   ]
  },
  {
   "cell_type": "code",
   "execution_count": null,
   "id": "4c1597cc",
   "metadata": {
    "slideshow": {
     "slide_type": "subslide"
    },
    "tags": [
     "code-along"
    ]
   },
   "outputs": [],
   "source": [
    "class PointV2:\n",
    "    def __init__(self, x, y):\n",
    "        self.x = x\n",
    "        self.y = y"
   ]
  },
  {
   "cell_type": "code",
   "execution_count": null,
   "id": "753a8793",
   "metadata": {
    "lines_to_next_cell": 2,
    "tags": [
     "code-along"
    ]
   },
   "outputs": [],
   "source": [
    "p1 = PointV2(2.0, 3.0)\n",
    "p2 = PointV2(0.0, 0.0)\n",
    "print(\"p1: x =\", p1.x, \"y =\", p1.y)\n",
    "print(\"p2: x =\", p2.x, \"y =\", p2.y)"
   ]
  },
  {
   "cell_type": "markdown",
   "id": "aa122fa3",
   "metadata": {
    "lang": "en",
    "slideshow": {
     "slide_type": "subslide"
    }
   },
   "source": [
    "## Mini workshop\n",
    "\n",
    "- Notebook `workshop_062_objects`\n",
    "- Section \"Motor Vehicles (Part 1)\""
   ]
  },
  {
   "cell_type": "markdown",
   "id": "8eef1cdd",
   "metadata": {
    "lang": "en",
    "slideshow": {
     "slide_type": "subslide"
    }
   },
   "source": [
    "## Methods\n",
    "\n",
    "Classes can contain methods. Methods are functions that \"belong to an object\".\n",
    "We will see capabilities of methods that go beyond those of functions in the\n",
    "section on inheritance.\n",
    "\n",
    "Methods are called using \"dot-notation\": `my_object.method()`.\n",
    "\n",
    "Syntactically a method definion looks like a function definition, but nested\n",
    "inside the body of a class definition.\n",
    "\n",
    "Unlike many other languages, Python doesn't have an implicit `this` parameter\n",
    "when defining a method; the object on which the method is called must be\n",
    "specified as the first parameter of the definition. By convention, this\n",
    "parameter is named `self`, as in the `__init__()` method.\n",
    "\n",
    "The definition of a method that can be called with `my_object.method()` is thus\n",
    "as follows:"
   ]
  },
  {
   "cell_type": "code",
   "execution_count": null,
   "id": "79607fa6",
   "metadata": {
    "slideshow": {
     "slide_type": "subslide"
    }
   },
   "outputs": [],
   "source": [
    "class MyClass:\n",
    "    def method(self):\n",
    "        print(F\"Called method on {self}\")"
   ]
  },
  {
   "cell_type": "code",
   "execution_count": null,
   "id": "66e2d48b",
   "metadata": {},
   "outputs": [],
   "source": [
    "my_object = MyClass()\n",
    "my_object.method()"
   ]
  },
  {
   "cell_type": "markdown",
   "id": "3dca68b3",
   "metadata": {
    "lang": "en",
    "slideshow": {
     "slide_type": "subslide"
    }
   },
   "source": [
    "We can add a method to move a point to our `Point` class:"
   ]
  },
  {
   "cell_type": "code",
   "execution_count": null,
   "id": "0ac49d50",
   "metadata": {
    "slideshow": {
     "slide_type": "-"
    },
    "tags": [
     "code-along"
    ]
   },
   "outputs": [],
   "source": [
    "class PointV3:\n",
    "    def __init__(self, x, y):\n",
    "        self.x = x\n",
    "        self.y = y\n",
    "\n",
    "    def move(self, dx=0.0, dy=0.0):\n",
    "        self.x += dx\n",
    "        self.y += dy"
   ]
  },
  {
   "cell_type": "code",
   "execution_count": null,
   "id": "9e0c816e",
   "metadata": {
    "slideshow": {
     "slide_type": "subslide"
    },
    "tags": [
     "code-along"
    ]
   },
   "outputs": [],
   "source": [
    "p = PointV3(2, 3)\n",
    "print(\"x =\", p.x)\n",
    "print(\"y =\", p.y)"
   ]
  },
  {
   "cell_type": "code",
   "execution_count": null,
   "id": "1e73e946",
   "metadata": {
    "tags": [
     "code-along"
    ]
   },
   "outputs": [],
   "source": [
    "p.move(3, 5)\n",
    "print(\"x =\", p.x)\n",
    "print(\"y =\", p.y)"
   ]
  },
  {
   "cell_type": "markdown",
   "id": "df2aaa4b",
   "metadata": {
    "lang": "en",
    "slideshow": {
     "slide_type": "subslide"
    }
   },
   "source": [
    "## Mini workshop\n",
    "\n",
    "- Notebook `workshop_062_objects`\n",
    "- Section \"Motor Vehicles (Part 2)\""
   ]
  },
  {
   "cell_type": "markdown",
   "id": "940d95dd",
   "metadata": {
    "lang": "en",
    "slideshow": {
     "slide_type": "slide"
    }
   },
   "source": [
    "## The Python object model\n",
    "\n",
    "Dunder methods can be used to make user-defined data types act more like the built-in ones:"
   ]
  },
  {
   "cell_type": "code",
   "execution_count": null,
   "id": "5996ffdd",
   "metadata": {
    "tags": [
     "code-along"
    ]
   },
   "outputs": [],
   "source": [
    "print(str(p1))\n",
    "print(repr(p1))"
   ]
  },
  {
   "cell_type": "markdown",
   "id": "84197f64",
   "metadata": {
    "lang": "en"
   },
   "source": [
    "By defining the method `__repr__(self)`, the string returned by `repr` can be defined for custom classes: The\n",
    "call `repr(x)` checks if `x` has a method `__repr__` and calls it if it exists."
   ]
  },
  {
   "cell_type": "code",
   "execution_count": null,
   "id": "2578a7c4",
   "metadata": {
    "slideshow": {
     "slide_type": "subslide"
    },
    "tags": [
     "code-along"
    ]
   },
   "outputs": [],
   "source": [
    "class PointV4:\n",
    "    def __init__(self, x, y):\n",
    "        self.x = x\n",
    "        self.y = y\n",
    "\n",
    "    def __repr__(self):\n",
    "        return \"PointV4(\" + repr(self.x) + \", \" + repr(self.y) + \")\"\n",
    "\n",
    "    def move(self, dx=0, dy=0):\n",
    "        self.x += dx\n",
    "        self.y += dy"
   ]
  },
  {
   "cell_type": "code",
   "execution_count": null,
   "id": "96ac0ccb",
   "metadata": {
    "slideshow": {
     "slide_type": "subslide"
    },
    "tags": [
     "code-along"
    ]
   },
   "outputs": [],
   "source": [
    "p1 = PointV4(2, 5)\n",
    "print(repr(p1))"
   ]
  },
  {
   "cell_type": "markdown",
   "id": "10aa4e58",
   "metadata": {
    "lang": "en"
   },
   "source": [
    "Similarly, if a `__str__()` method is defined it will be used by the `str()` function. However, the function `str()` delegates to `__repr__()` if no `__str__` method is defined:"
   ]
  },
  {
   "cell_type": "code",
   "execution_count": null,
   "id": "4ef556ed",
   "metadata": {
    "tags": [
     "code-along"
    ]
   },
   "outputs": [],
   "source": [
    "print(str(p1))"
   ]
  },
  {
   "cell_type": "markdown",
   "id": "3014bd3f",
   "metadata": {
    "lang": "en",
    "slideshow": {
     "slide_type": "subslide"
    }
   },
   "source": [
    "Python offers many dunder methods: see the documentation of the\n",
    "[Python data model](https://docs.python.org/3/reference/datamodel.html)."
   ]
  },
  {
   "cell_type": "code",
   "execution_count": null,
   "id": "7bfc3571",
   "metadata": {
    "slideshow": {
     "slide_type": "subslide"
    },
    "tags": [
     "code-along"
    ]
   },
   "outputs": [],
   "source": [
    "class Point:\n",
    "    def __init__(self, x=0, y=0):\n",
    "        self.x = x\n",
    "        self.y = y\n",
    "\n",
    "    def __repr__(self):\n",
    "        return f\"Point({self.x!r}, {self.y!r})\"\n",
    "\n",
    "    def __eq__(self, rhs: object) -> bool:\n",
    "        if isinstance(rhs, Point):\n",
    "            return self.x == rhs.x and self.y == rhs.y\n",
    "        return False\n",
    "\n",
    "    def __add__(self, rhs):\n",
    "        return Point(self.x + rhs.x, self.y + rhs.y)\n",
    "\n",
    "    def __sub__(self, rhs):\n",
    "        return Point(self.x - rhs.x, self.y - rhs.y)\n",
    "\n",
    "    def __mul__(self, rhs):\n",
    "        return Point(rhs * self.x, rhs * self.y)\n",
    "\n",
    "    def __rmul__(self, lhs):\n",
    "        return Point(lhs * self.x, lhs * self.y)\n",
    "\n",
    "    def move(self, dx=0, dy=0):\n",
    "        self.x += dx\n",
    "        self.y += dy"
   ]
  },
  {
   "cell_type": "code",
   "execution_count": null,
   "id": "00826e10",
   "metadata": {
    "slideshow": {
     "slide_type": "subslide"
    },
    "tags": [
     "code-along"
    ]
   },
   "outputs": [],
   "source": [
    "p1 = Point(1, 2)\n",
    "p2 = Point(2, 4)\n",
    "p3 = Point(2, 4)"
   ]
  },
  {
   "cell_type": "code",
   "execution_count": null,
   "id": "7a274668",
   "metadata": {
    "tags": [
     "code-along"
    ]
   },
   "outputs": [],
   "source": [
    "p1 == p2"
   ]
  },
  {
   "cell_type": "code",
   "execution_count": null,
   "id": "93075760",
   "metadata": {
    "tags": [
     "code-along"
    ]
   },
   "outputs": [],
   "source": [
    "p2 == p3"
   ]
  },
  {
   "cell_type": "code",
   "execution_count": null,
   "id": "8eb3d963",
   "metadata": {
    "slideshow": {
     "slide_type": "subslide"
    },
    "tags": [
     "code-along"
    ]
   },
   "outputs": [],
   "source": [
    "p3 = p1 + p2\n",
    "p3"
   ]
  },
  {
   "cell_type": "code",
   "execution_count": null,
   "id": "d997df20",
   "metadata": {
    "tags": [
     "code-along"
    ]
   },
   "outputs": [],
   "source": [
    "p3 = p1 - Point(3, 2)\n",
    "p3"
   ]
  },
  {
   "cell_type": "code",
   "execution_count": null,
   "id": "91db2d22",
   "metadata": {
    "slideshow": {
     "slide_type": "subslide"
    },
    "tags": [
     "code-along"
    ]
   },
   "outputs": [],
   "source": [
    "print(p1)\n",
    "print(p1 * 3)\n",
    "print(3 * p1)"
   ]
  },
  {
   "cell_type": "code",
   "execution_count": null,
   "id": "317124ab",
   "metadata": {
    "lines_to_next_cell": 2,
    "slideshow": {
     "slide_type": "subslide"
    },
    "tags": [
     "code-along"
    ]
   },
   "outputs": [],
   "source": [
    "print(p2)\n",
    "p2 += p1\n",
    "p2"
   ]
  },
  {
   "cell_type": "markdown",
   "id": "da4e6909",
   "metadata": {
    "lang": "en",
    "slideshow": {
     "slide_type": "subslide"
    }
   },
   "source": [
    "## Mini workshop\n",
    "\n",
    "- Notebook `workshop_062_objects`\n",
    "- Section \"Motor Vehicles (Part 3)\""
   ]
  },
  {
   "cell_type": "markdown",
   "id": "d19cf279",
   "metadata": {
    "lang": "en",
    "slideshow": {
     "slide_type": "subslide"
    }
   },
   "source": [
    "It is possible to define a custom type whose instances behave like lists. To simplify the implementation we delegate the handling of the elements to a list that is stored as an attribute. This kind of composition is found very frequently in object oriented programming."
   ]
  },
  {
   "cell_type": "code",
   "execution_count": null,
   "id": "ab95e9ac",
   "metadata": {
    "tags": [
     "code-along"
    ]
   },
   "outputs": [],
   "source": [
    "class MyBadList:\n",
    "    def __init__(self, elements=None):\n",
    "        if elements is None:\n",
    "            elements = []\n",
    "        self.elements = elements\n",
    "\n",
    "    def __getitem__(self, n):\n",
    "        return self.elements[n]\n",
    "\n",
    "    def __len__(self):\n",
    "        return len(self.elements)\n",
    "\n",
    "    def __repr__(self):\n",
    "        return f\"MyBadList({self.elements!r})\"\n",
    "\n",
    "    def append(self, element):\n",
    "        self.elements.append(element)"
   ]
  },
  {
   "cell_type": "code",
   "execution_count": null,
   "id": "4ce9e4f5",
   "metadata": {
    "slideshow": {
     "slide_type": "subslide"
    },
    "tags": [
     "code-along"
    ]
   },
   "outputs": [],
   "source": [
    "my_list_1 = MyBadList()\n",
    "my_list_2 = MyBadList()\n",
    "my_list_3 = MyBadList([1, 2, 3])\n",
    "print(my_list_1)\n",
    "print(my_list_2)\n",
    "print(my_list_3)"
   ]
  },
  {
   "cell_type": "code",
   "execution_count": null,
   "id": "8ea01275",
   "metadata": {
    "slideshow": {
     "slide_type": "subslide"
    },
    "tags": [
     "code-along"
    ]
   },
   "outputs": [],
   "source": [
    "my_list_1.append(\"a\")\n",
    "my_list_1.append(\"b\")\n",
    "my_list_1.append(\"c\")\n",
    "print(my_list_1)\n",
    "print(my_list_2)\n",
    "print(my_list_3)"
   ]
  },
  {
   "cell_type": "code",
   "execution_count": null,
   "id": "bff17b82",
   "metadata": {
    "tags": [
     "code-along"
    ]
   },
   "outputs": [],
   "source": [
    "print(len(my_list_1))\n",
    "print(my_list_1[0])\n",
    "# print(my_list_1[10])"
   ]
  },
  {
   "cell_type": "code",
   "execution_count": null,
   "id": "d83ede16",
   "metadata": {
    "tags": [
     "code-along"
    ]
   },
   "outputs": [],
   "source": [
    "for elt in my_list_1:\n",
    "    print(elt)"
   ]
  },
  {
   "cell_type": "code",
   "execution_count": null,
   "id": "ec2c588e",
   "metadata": {
    "lines_to_next_cell": 2,
    "tags": [
     "code-along"
    ]
   },
   "outputs": [],
   "source": [
    "my_list_1[1:]"
   ]
  },
  {
   "cell_type": "markdown",
   "id": "154a35ee",
   "metadata": {
    "lang": "en",
    "slideshow": {
     "slide_type": "slide"
    }
   },
   "source": [
    "## Dataclasses\n",
    "\n",
    "Definition of a class in which attributes are more visible, representation\n",
    "and equality are predefined, etc.\n",
    "\n",
    "The [documentation](https://docs.python.org/3/library/dataclasses.html)\n",
    "includes other options."
   ]
  },
  {
   "cell_type": "code",
   "execution_count": null,
   "id": "8012db49",
   "metadata": {
    "slideshow": {
     "slide_type": "subslide"
    },
    "tags": [
     "code-along"
    ]
   },
   "outputs": [],
   "source": [
    "from dataclasses import dataclass\n",
    "\n",
    "\n",
    "@dataclass\n",
    "class DataPoint:\n",
    "    x: float\n",
    "    y: float"
   ]
  },
  {
   "cell_type": "code",
   "execution_count": null,
   "id": "3df68013",
   "metadata": {
    "tags": [
     "code-along"
    ]
   },
   "outputs": [],
   "source": [
    "dp = DataPoint(2, 3)\n",
    "dp"
   ]
  },
  {
   "cell_type": "code",
   "execution_count": null,
   "id": "df6fcf16",
   "metadata": {
    "tags": [
     "code-along"
    ]
   },
   "outputs": [],
   "source": [
    "dp1 = DataPoint(1, 1)\n",
    "dp2 = DataPoint(1, 1)\n",
    "print(dp1 == dp2)\n",
    "print(dp1 is dp2)"
   ]
  },
  {
   "cell_type": "code",
   "execution_count": null,
   "id": "9fa19ed3",
   "metadata": {
    "slideshow": {
     "slide_type": "subslide"
    },
    "tags": [
     "code-along"
    ]
   },
   "outputs": [],
   "source": [
    "@dataclass\n",
    "class Point3D:\n",
    "    x: float\n",
    "    y: float\n",
    "    z: float = 0.0\n",
    "\n",
    "    # Non-destructive move!\n",
    "    def move(self, dx=0.0, dy=0.0, dz=0.0):\n",
    "        return Point3D(self.x + dx, self.y + dy, self.z + dz)"
   ]
  },
  {
   "cell_type": "code",
   "execution_count": null,
   "id": "43d3f547",
   "metadata": {
    "tags": [
     "code-along"
    ]
   },
   "outputs": [],
   "source": [
    "p3d = Point3D(1.0, 2.0)\n",
    "print(p3d)\n",
    "print(p3d.move(dy=1.0, dz=5.0))"
   ]
  },
  {
   "cell_type": "markdown",
   "id": "14a03a57",
   "metadata": {
    "lang": "en",
    "slideshow": {
     "slide_type": "subslide"
    }
   },
   "source": [
    "Dataclasses ensure that all default values are immutable:"
   ]
  },
  {
   "cell_type": "code",
   "execution_count": null,
   "id": "302def75",
   "metadata": {
    "tags": [
     "code-along"
    ]
   },
   "outputs": [],
   "source": [
    "from dataclasses import dataclass, field\n",
    "\n",
    "\n",
    "@dataclass\n",
    "class DefaultDemo:\n",
    "    # item: list = []\n",
    "    items: list = field(default_factory=list)"
   ]
  },
  {
   "cell_type": "code",
   "execution_count": null,
   "id": "2a920e9d",
   "metadata": {
    "tags": [
     "code-along"
    ]
   },
   "outputs": [],
   "source": [
    "d1 = DefaultDemo()\n",
    "d2 = DefaultDemo()"
   ]
  },
  {
   "cell_type": "code",
   "execution_count": null,
   "id": "055f098a",
   "metadata": {
    "tags": [
     "code-along"
    ]
   },
   "outputs": [],
   "source": [
    "d1.items.append(1234)\n",
    "print(d1)\n",
    "print(d2)"
   ]
  },
  {
   "cell_type": "markdown",
   "id": "6aea7908",
   "metadata": {
    "lang": "en",
    "slideshow": {
     "slide_type": "subslide"
    }
   },
   "source": [
    "## Workshop\n",
    "\n",
    "- Notebook `workshop_062_objects`\n",
    "- Section \"Shopping list\""
   ]
  },
  {
   "cell_type": "code",
   "execution_count": null,
   "id": "34d9f2cb",
   "metadata": {},
   "outputs": [],
   "source": []
  }
 ],
 "metadata": {
  "jupytext": {
   "cell_metadata_json": true,
   "encoding": "# -*- coding: utf-8 -*-",
   "formats": "ipynb"
  },
  "kernelspec": {
   "display_name": "Python 3 (ipykernel)",
   "language": "python",
   "name": "python3"
  }
 },
 "nbformat": 4,
 "nbformat_minor": 5
}
