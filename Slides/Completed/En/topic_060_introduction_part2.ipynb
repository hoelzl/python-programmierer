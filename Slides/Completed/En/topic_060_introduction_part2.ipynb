{
 "cells": [
  {
   "cell_type": "markdown",
   "id": "044b16b9",
   "metadata": {
    "lang": "en",
    "lines_to_next_cell": 2,
    "slideshow": {
     "slide_type": "slide"
    }
   },
   "source": [
    "<img src=\"img/python-logo-notext.svg\"\n",
    "     style=\"display:block;margin:auto;width:10%\"/>\n",
    "<br>\n",
    "<div style=\"text-align:center; font-size:200%;\"><b>Introduction to Python: Part 2</b></div>\n",
    "<br/>\n",
    "<div style=\"text-align:center;\">Dr. Matthias Hölzl</div>"
   ]
  },
  {
   "cell_type": "markdown",
   "id": "6a6934ac",
   "metadata": {
    "lang": "en",
    "slideshow": {
     "slide_type": "slide"
    }
   },
   "source": [
    "# Convertsion to strings\n",
    "\n",
    "Python offers two functions that can be used to convert any value into a string:\n",
    "\n",
    "- `repr` for a \"program-like\" representation (how the value could be generated in the program)\n",
    "- `str` for \"user-friendly\" rendering"
   ]
  },
  {
   "cell_type": "code",
<<<<<<< Updated upstream
   "execution_count": null,
   "id": "7566cf35",
=======
   "execution_count": 1,
   "id": "7018ebe1",
>>>>>>> Stashed changes
   "metadata": {
    "tags": [
     "code-along"
    ]
   },
   "outputs": [
    {
     "name": "stdout",
     "output_type": "stream",
     "text": [
      "Hallo!\n"
     ]
    }
   ],
   "source": [
    "print(str(\"Hallo!\"))"
   ]
  },
  {
   "cell_type": "code",
<<<<<<< Updated upstream
   "execution_count": null,
   "id": "17a4ccfb",
=======
   "execution_count": 2,
   "id": "37e58b95",
>>>>>>> Stashed changes
   "metadata": {
    "tags": [
     "code-along"
    ]
   },
   "outputs": [
    {
     "name": "stdout",
     "output_type": "stream",
     "text": [
      "'Hallo!'\n"
     ]
    }
   ],
   "source": [
    "print(repr(\"Hallo!\"))"
   ]
  },
  {
   "cell_type": "markdown",
   "id": "b4682f78",
   "metadata": {
    "lang": "en"
   },
   "source": [
    "For some data types, `str` and `repr` return the same string:"
   ]
  },
  {
   "cell_type": "code",
<<<<<<< Updated upstream
   "execution_count": null,
   "id": "2d659c98",
=======
   "execution_count": 3,
   "id": "a7114653",
>>>>>>> Stashed changes
   "metadata": {
    "tags": [
     "code-along"
    ]
   },
   "outputs": [
    {
     "name": "stdout",
     "output_type": "stream",
     "text": [
      "['a', 'b', 'c']\n",
      "['a', 'b', 'c']\n"
     ]
    }
   ],
   "source": [
    "print(str([\"a\", \"b\", \"c\"]))\n",
    "print(repr([\"a\", \"b\", \"c\"]))"
   ]
  },
  {
   "cell_type": "markdown",
   "id": "f9e02a49",
   "metadata": {
    "lang": "en",
    "slideshow": {
     "slide_type": "slide"
    }
   },
   "source": [
    "# Custom data types\n",
    "\n",
    "In Python, user-defined data types (classes) can be defined:"
   ]
  },
  {
   "cell_type": "code",
<<<<<<< Updated upstream
   "execution_count": null,
   "id": "cdc6f312",
=======
   "execution_count": 4,
   "id": "74c8adb7",
>>>>>>> Stashed changes
   "metadata": {
    "tags": [
     "code-along"
    ]
   },
   "outputs": [],
   "source": [
    "class PointV0:\n",
    "    pass"
   ]
  },
  {
   "cell_type": "markdown",
   "id": "2425d6df",
   "metadata": {
    "lang": "en"
   },
   "source": [
    "Class names are in pascal case (i.e. capital letters seperate components of names), e.g. `MyVerySpecialClass`."
   ]
  },
  {
   "cell_type": "markdown",
   "id": "cb3e5681",
   "metadata": {
    "lang": "en",
    "slideshow": {
     "slide_type": "subslide"
    }
   },
   "source": [
    "Instances of custom classes are created by calling the class name as a function. Some of the build-in operators and\n",
    "Functions can be used without extra effort:"
   ]
  },
  {
   "cell_type": "code",
<<<<<<< Updated upstream
   "execution_count": null,
   "id": "7f3805fb",
=======
   "execution_count": 5,
   "id": "d3ac8bf8",
>>>>>>> Stashed changes
   "metadata": {
    "slideshow": {
     "slide_type": "subslide"
    },
    "tags": [
     "code-along"
    ]
   },
   "outputs": [
    {
     "data": {
      "text/plain": [
       "<__main__.PointV0 at 0x237e111d310>"
      ]
     },
     "execution_count": 5,
     "metadata": {},
     "output_type": "execute_result"
    }
   ],
   "source": [
    "p1 = PointV0()\n",
    "p1"
   ]
  },
  {
   "cell_type": "code",
<<<<<<< Updated upstream
   "execution_count": null,
   "id": "7336a077",
=======
   "execution_count": 6,
   "id": "e6cbf221",
>>>>>>> Stashed changes
   "metadata": {
    "tags": [
     "code-along"
    ]
   },
   "outputs": [
    {
     "name": "stdout",
     "output_type": "stream",
     "text": [
      "<__main__.PointV0 object at 0x00000237E111D310>\n"
     ]
    }
   ],
   "source": [
    "print(p1)"
   ]
  },
  {
   "cell_type": "code",
<<<<<<< Updated upstream
   "execution_count": null,
   "id": "4d6718bc",
=======
   "execution_count": 7,
   "id": "733a0513",
>>>>>>> Stashed changes
   "metadata": {
    "tags": [
     "code-along"
    ]
   },
   "outputs": [
    {
     "data": {
      "text/plain": [
       "False"
      ]
     },
     "execution_count": 7,
     "metadata": {},
     "output_type": "execute_result"
    }
   ],
   "source": [
    "p2 = PointV0()\n",
    "p1 == p2"
   ]
  },
  {
   "cell_type": "code",
<<<<<<< Updated upstream
   "execution_count": null,
   "id": "7792fe7c",
=======
   "execution_count": 8,
   "id": "9bc1bb6e",
>>>>>>> Stashed changes
   "metadata": {
    "tags": [
     "code-along"
    ]
   },
   "outputs": [],
   "source": [
    "# Fehler\n",
    "# p1 < p2"
   ]
  },
  {
   "cell_type": "markdown",
   "id": "3759c644",
   "metadata": {
    "lang": "en"
   },
   "source": [
    "Much like dictionaries can be assigned new entries, one can\n",
    "assign new *attributes* to user-defined data types, but the `.` notation is used instead of the indexing notation `[]`:"
   ]
  },
  {
   "cell_type": "code",
<<<<<<< Updated upstream
   "execution_count": null,
   "id": "76b5ce49",
=======
   "execution_count": 9,
   "id": "45ede9d5",
>>>>>>> Stashed changes
   "metadata": {
    "tags": [
     "code-along"
    ]
   },
   "outputs": [
    {
     "name": "stdout",
     "output_type": "stream",
     "text": [
      "1.0\n",
      "2.0\n"
     ]
    }
   ],
   "source": [
    "# Möglich, aber nicht gut... / Possible but not good...\n",
    "p1.x = 1.0\n",
    "p1.y = 2.0\n",
    "print(p1.x)\n",
    "print(p1.y)"
   ]
  },
  {
   "cell_type": "code",
<<<<<<< Updated upstream
   "execution_count": null,
   "id": "384c09a5",
=======
   "execution_count": 10,
   "id": "339a7caf",
>>>>>>> Stashed changes
   "metadata": {
    "tags": [
     "code-along"
    ]
   },
   "outputs": [],
   "source": [
    "# Error!\n",
    "# p2.x"
   ]
  },
  {
   "cell_type": "markdown",
   "id": "2ac58208",
   "metadata": {
    "lang": "en",
    "slideshow": {
     "slide_type": "subslide"
    }
   },
   "source": [
    "Unlike dictionaries, we typically *do not* create any *new* attributes for an instance after creation!\n",
    "\n",
    "Instead, all instances should have the same shape. We initialize all attributes of an object when it is constructed. This can be done with the `__init__()` method.\n",
    "\n",
    "The `__init__()` method always has (at least) one parameter, named `self` by convention:"
   ]
  },
  {
   "cell_type": "code",
<<<<<<< Updated upstream
   "execution_count": null,
   "id": "5c338bd7",
=======
   "execution_count": 11,
   "id": "8ce8aa68",
>>>>>>> Stashed changes
   "metadata": {
    "slideshow": {
     "slide_type": "subslide"
    },
    "tags": [
     "code-along"
    ]
   },
   "outputs": [],
   "source": [
    "class PointV1:\n",
    "    def __init__(self):\n",
    "        self.x = 0.0\n",
    "        self.y = 0.0"
   ]
  },
  {
   "cell_type": "code",
<<<<<<< Updated upstream
   "execution_count": null,
   "id": "bb490c7e",
=======
   "execution_count": 12,
   "id": "6157cf48",
>>>>>>> Stashed changes
   "metadata": {
    "tags": [
     "code-along"
    ]
   },
   "outputs": [
    {
     "name": "stdout",
     "output_type": "stream",
     "text": [
      "p1: x = 0.0 y = 0.0\n",
      "p2: x = 0.0 y = 0.0\n"
     ]
    }
   ],
   "source": [
    "p1 = PointV1()\n",
    "p2 = PointV1()\n",
    "print(\"p1: x =\", p1.x, \"y =\", p1.y)\n",
    "print(\"p2: x =\", p2.x, \"y =\", p2.y)"
   ]
  },
  {
   "cell_type": "code",
<<<<<<< Updated upstream
   "execution_count": null,
   "id": "01427526",
=======
   "execution_count": 13,
   "id": "0c3e5231",
>>>>>>> Stashed changes
   "metadata": {
    "tags": [
     "code-along"
    ]
   },
   "outputs": [
    {
     "data": {
      "text/plain": [
       "False"
      ]
     },
     "execution_count": 13,
     "metadata": {},
     "output_type": "execute_result"
    }
   ],
   "source": [
    "p1 == p2"
   ]
  },
  {
   "cell_type": "markdown",
   "id": "dffd1c8a",
   "metadata": {
    "lang": "en",
    "slideshow": {
     "slide_type": "subslide"
    }
   },
   "source": [
    "The values ​​of attributes can be changed:"
   ]
  },
  {
   "cell_type": "code",
<<<<<<< Updated upstream
   "execution_count": null,
   "id": "39ddc97d",
=======
   "execution_count": 14,
   "id": "b801b6ff",
>>>>>>> Stashed changes
   "metadata": {
    "tags": [
     "code-along"
    ]
   },
   "outputs": [
    {
     "name": "stdout",
     "output_type": "stream",
     "text": [
      "p1: x = 1.0 y = 2.0\n",
      "p2: x = 0.0 y = 0.0\n"
     ]
    }
   ],
   "source": [
    "p1.x = 1.0\n",
    "p1.y = 2.0\n",
    "print(\"p1: x =\", p1.x, \"y =\", p1.y)\n",
    "print(\"p2: x =\", p2.x, \"y =\", p2.y)"
   ]
  },
  {
   "cell_type": "markdown",
   "id": "2582fe14",
   "metadata": {
    "lang": "en",
    "slideshow": {
     "slide_type": "subslide"
    }
   },
   "source": [
    "In many cases, when constructing an object, we would like to specify the attributes of the instance.\n",
    "This is made possible by passing additional arguments to the `__init__()` method."
   ]
  },
  {
   "cell_type": "code",
<<<<<<< Updated upstream
   "execution_count": null,
   "id": "46d6b28f",
=======
   "execution_count": 15,
   "id": "beaa59d1",
>>>>>>> Stashed changes
   "metadata": {
    "slideshow": {
     "slide_type": "subslide"
    },
    "tags": [
     "code-along"
    ]
   },
   "outputs": [],
   "source": [
    "class PointV2:\n",
    "    def __init__(self, x, y):\n",
    "        self.x = x\n",
    "        self.y = y"
   ]
  },
  {
   "cell_type": "code",
<<<<<<< Updated upstream
   "execution_count": null,
   "id": "b2e345b4",
=======
   "execution_count": 16,
   "id": "6db76c12",
>>>>>>> Stashed changes
   "metadata": {
    "lines_to_next_cell": 2,
    "tags": [
     "code-along"
    ]
   },
   "outputs": [
    {
     "name": "stdout",
     "output_type": "stream",
     "text": [
      "p1: x = 2.0 y = 3.0\n",
      "p2: x = 0.0 y = 0.0\n"
     ]
    }
   ],
   "source": [
    "p1 = PointV2(2.0, 3.0)\n",
    "p2 = PointV2(0.0, 0.0)\n",
    "print(\"p1: x =\", p1.x, \"y =\", p1.y)\n",
    "print(\"p2: x =\", p2.x, \"y =\", p2.y)"
   ]
  },
  {
   "cell_type": "markdown",
   "id": "23b9fcbd",
   "metadata": {
    "lang": "en",
    "slideshow": {
     "slide_type": "subslide"
    }
   },
   "source": [
    "## Mini workshop\n",
    "\n",
    "- Notebook `workshop_062_objects`\n",
    "- Section \"Motor Vehicles (Part 1)\""
   ]
  },
  {
   "cell_type": "markdown",
   "id": "ebaa50da",
   "metadata": {
    "lang": "en",
    "slideshow": {
     "slide_type": "subslide"
    }
   },
   "source": [
    "## Methods\n",
    "\n",
    "Classes can contain methods. Unlike many other languages,\n",
    "Python doesn't have an implicit `this` parameter when defining a method; the object on\n",
    "which the method is called must be specified as the first parameter of the definition.\n",
    "\n",
    "By convention, this parameter is named `self`, as in the `__init__()` method."
   ]
  },
  {
   "cell_type": "code",
<<<<<<< Updated upstream
   "execution_count": null,
   "id": "fd5bcadd",
=======
   "execution_count": 17,
   "id": "d18926a3",
>>>>>>> Stashed changes
   "metadata": {
    "slideshow": {
     "slide_type": "subslide"
    },
    "tags": [
     "code-along"
    ]
   },
   "outputs": [],
   "source": [
    "class PointV3:\n",
    "    def __init__(self, x, y):\n",
    "        self.x = x\n",
    "        self.y = y\n",
    "\n",
    "    def move(self, dx=0.0, dy=0.0):\n",
    "        self.x += dx\n",
    "        self.y += dy"
   ]
  },
  {
   "cell_type": "code",
<<<<<<< Updated upstream
   "execution_count": null,
   "id": "7c4544a3",
=======
   "execution_count": 18,
   "id": "39d04a58",
>>>>>>> Stashed changes
   "metadata": {
    "slideshow": {
     "slide_type": "subslide"
    },
    "tags": [
     "code-along"
    ]
   },
   "outputs": [
    {
     "name": "stdout",
     "output_type": "stream",
     "text": [
      "x = 2\n",
      "y = 3\n"
     ]
    }
   ],
   "source": [
    "p = PointV3(2, 3)\n",
    "print(\"x =\", p.x)\n",
    "print(\"y =\", p.y)"
   ]
  },
  {
   "cell_type": "code",
<<<<<<< Updated upstream
   "execution_count": null,
   "id": "82c349a0",
=======
   "execution_count": 19,
   "id": "f5a0555f",
>>>>>>> Stashed changes
   "metadata": {
    "tags": [
     "code-along"
    ]
   },
   "outputs": [
    {
     "name": "stdout",
     "output_type": "stream",
     "text": [
      "x = 5\n",
      "y = 8\n"
     ]
    }
   ],
   "source": [
    "p.move(3, 5)\n",
    "print(\"x =\", p.x)\n",
    "print(\"y =\", p.y)"
   ]
  },
  {
   "cell_type": "markdown",
   "id": "2b3a4dbf",
   "metadata": {
    "lang": "en",
    "slideshow": {
     "slide_type": "subslide"
    }
   },
   "source": [
    "## Mini workshop\n",
    "\n",
    "- Notebook `workshop_062_objects`\n",
    "- Section \"Motor Vehicles (Part 2)\""
   ]
  },
  {
   "cell_type": "markdown",
   "id": "15fd1356",
   "metadata": {
    "lang": "en",
    "slideshow": {
     "slide_type": "slide"
    }
   },
   "source": [
    "## The Python object model\n",
    "\n",
    "Dunder methods can be used to make user-defined data types act more like the built-in ones:"
   ]
  },
  {
   "cell_type": "code",
<<<<<<< Updated upstream
   "execution_count": null,
   "id": "afdb8d3c",
=======
   "execution_count": 20,
   "id": "7bc7a200",
>>>>>>> Stashed changes
   "metadata": {
    "tags": [
     "code-along"
    ]
   },
   "outputs": [
    {
     "name": "stdout",
     "output_type": "stream",
     "text": [
      "<__main__.PointV2 object at 0x00000237E20FF700>\n",
      "<__main__.PointV2 object at 0x00000237E20FF700>\n"
     ]
    }
   ],
   "source": [
    "print(str(p1))\n",
    "print(repr(p1))"
   ]
  },
  {
   "cell_type": "markdown",
   "id": "df348d20",
   "metadata": {
    "lang": "en"
   },
   "source": [
    "By defining the method `__repr__(self)`, the string returned by `repr` can be defined for custom classes: The\n",
    "call `repr(x)` checks if `x` has a method `__repr__` and calls it if it exists."
   ]
  },
  {
   "cell_type": "code",
<<<<<<< Updated upstream
   "execution_count": null,
   "id": "34010de6",
=======
   "execution_count": 21,
   "id": "559f636c",
>>>>>>> Stashed changes
   "metadata": {
    "slideshow": {
     "slide_type": "subslide"
    },
    "tags": [
     "code-along"
    ]
   },
   "outputs": [],
   "source": [
    "class PointV4:\n",
    "    def __init__(self, x, y):\n",
    "        self.x = x\n",
    "        self.y = y\n",
    "\n",
    "    def __repr__(self):\n",
    "        return \"PointV4(\" + repr(self.x) + \", \" + repr(self.y) + \")\"\n",
    "\n",
    "    def move(self, dx=0, dy=0):\n",
    "        self.x += dx\n",
    "        self.y += dy"
   ]
  },
  {
   "cell_type": "code",
<<<<<<< Updated upstream
   "execution_count": null,
   "id": "19989b0a",
=======
   "execution_count": 22,
   "id": "8799a845",
>>>>>>> Stashed changes
   "metadata": {
    "tags": [
     "code-along"
    ]
   },
   "outputs": [
    {
     "name": "stdout",
     "output_type": "stream",
     "text": [
      "PointV4(2, 5)\n"
     ]
    }
   ],
   "source": [
    "p1 = PointV4(2, 5)\n",
    "print(repr(p1))"
   ]
  },
  {
   "cell_type": "markdown",
   "id": "ab30f2e2",
   "metadata": {
    "lang": "en"
   },
   "source": [
    "The function `str` delegates to `repr` if no `__str__` method is defined:"
   ]
  },
  {
   "cell_type": "code",
<<<<<<< Updated upstream
   "execution_count": null,
   "id": "74294a95",
=======
   "execution_count": 23,
   "id": "199e8140",
>>>>>>> Stashed changes
   "metadata": {
    "tags": [
     "code-along"
    ]
   },
   "outputs": [
    {
     "name": "stdout",
     "output_type": "stream",
     "text": [
      "PointV4(2, 5)\n"
     ]
    }
   ],
   "source": [
    "print(str(p1))"
   ]
  },
  {
   "cell_type": "markdown",
   "id": "a2c154e9",
   "metadata": {
    "lang": "en",
    "slideshow": {
     "slide_type": "subslide"
    }
   },
   "source": [
    "Python offers many dunder methods: see the documentation of the\n",
    "[Python data model](https://docs.python.org/3/reference/datamodel.html)."
   ]
  },
  {
   "cell_type": "code",
<<<<<<< Updated upstream
   "execution_count": null,
   "id": "570b5dab",
=======
   "execution_count": 24,
   "id": "4460560a",
>>>>>>> Stashed changes
   "metadata": {
    "slideshow": {
     "slide_type": "subslide"
    },
    "tags": [
     "code-along"
    ]
   },
   "outputs": [],
   "source": [
    "class Point:\n",
    "    def __init__(self, x=0, y=0):\n",
    "        self.x = x\n",
    "        self.y = y\n",
    "\n",
    "    def __repr__(self):\n",
    "        return \"Point(\" + repr(self.x) + \", \" + repr(self.y) + \")\"\n",
    "\n",
    "    def __eq__(self, o: object) -> bool:\n",
    "        if isinstance(o, Point):\n",
    "            return self.x == o.x and self.y == o.x\n",
    "        return False\n",
    "\n",
    "    def __add__(self, other):\n",
    "        return Point(self.x + other.x, self.y + other.y)\n",
    "\n",
    "    def __sub__(self, other):\n",
    "        return Point(self.x - other.x, self.y - other.y)\n",
    "\n",
    "    def __mul__(self, other):\n",
    "        return Point(other * self.x, other * self.y)\n",
    "\n",
    "    def __rmul__(self, other):\n",
    "        return Point(other * self.x, other * self.y)\n",
    "\n",
    "    def move(self, dx=0, dy=0):\n",
    "        self.x += dx\n",
    "        self.y += dy"
   ]
  },
  {
   "cell_type": "code",
<<<<<<< Updated upstream
   "execution_count": null,
   "id": "462ebe14",
=======
   "execution_count": 25,
   "id": "eb82c865",
>>>>>>> Stashed changes
   "metadata": {
    "slideshow": {
     "slide_type": "subslide"
    },
    "tags": [
     "code-along"
    ]
   },
   "outputs": [],
   "source": [
    "p1 = Point(1, 2)\n",
    "p2 = Point(2, 4)\n",
    "p3 = Point(2, 4)"
   ]
  },
  {
   "cell_type": "code",
<<<<<<< Updated upstream
   "execution_count": null,
   "id": "ce62ec6c",
=======
   "execution_count": 26,
   "id": "db57a5dd",
>>>>>>> Stashed changes
   "metadata": {
    "tags": [
     "code-along"
    ]
   },
   "outputs": [
    {
     "data": {
      "text/plain": [
       "False"
      ]
     },
     "execution_count": 26,
     "metadata": {},
     "output_type": "execute_result"
    }
   ],
   "source": [
    "p1 == p2"
   ]
  },
  {
   "cell_type": "code",
<<<<<<< Updated upstream
   "execution_count": null,
   "id": "1ff61841",
=======
   "execution_count": 27,
   "id": "d1da2f2b",
>>>>>>> Stashed changes
   "metadata": {
    "tags": [
     "code-along"
    ]
   },
   "outputs": [
    {
     "data": {
      "text/plain": [
       "False"
      ]
     },
     "execution_count": 27,
     "metadata": {},
     "output_type": "execute_result"
    }
   ],
   "source": [
    "p2 == p3"
   ]
  },
  {
   "cell_type": "code",
<<<<<<< Updated upstream
   "execution_count": null,
   "id": "9c63fcae",
=======
   "execution_count": 28,
   "id": "6430a0d1",
>>>>>>> Stashed changes
   "metadata": {
    "slideshow": {
     "slide_type": "subslide"
    },
    "tags": [
     "code-along"
    ]
   },
   "outputs": [
    {
     "data": {
      "text/plain": [
       "Point(3, 6)"
      ]
     },
     "execution_count": 28,
     "metadata": {},
     "output_type": "execute_result"
    }
   ],
   "source": [
    "p3 = p1 + p2\n",
    "p3"
   ]
  },
  {
   "cell_type": "code",
<<<<<<< Updated upstream
   "execution_count": null,
   "id": "d5a0f776",
=======
   "execution_count": 29,
   "id": "635b16fe",
>>>>>>> Stashed changes
   "metadata": {
    "tags": [
     "code-along"
    ]
   },
   "outputs": [
    {
     "data": {
      "text/plain": [
       "Point(-2, 0)"
      ]
     },
     "execution_count": 29,
     "metadata": {},
     "output_type": "execute_result"
    }
   ],
   "source": [
    "p3 = p1 - Point(3, 2)\n",
    "p3"
   ]
  },
  {
   "cell_type": "code",
<<<<<<< Updated upstream
   "execution_count": null,
   "id": "6dac54bf",
=======
   "execution_count": 30,
   "id": "ab2b26b3",
>>>>>>> Stashed changes
   "metadata": {
    "slideshow": {
     "slide_type": "subslide"
    },
    "tags": [
     "code-along"
    ]
   },
   "outputs": [
    {
     "name": "stdout",
     "output_type": "stream",
     "text": [
      "Point(1, 2)\n",
      "Point(3, 6)\n",
      "Point(3, 6)\n"
     ]
    }
   ],
   "source": [
    "print(p1)\n",
    "print(p1 * 3)\n",
    "print(3 * p1)"
   ]
  },
  {
   "cell_type": "code",
<<<<<<< Updated upstream
   "execution_count": null,
   "id": "c0c3bf0b",
=======
   "execution_count": 31,
   "id": "b29490fc",
>>>>>>> Stashed changes
   "metadata": {
    "lines_to_next_cell": 2,
    "slideshow": {
     "slide_type": "subslide"
    },
    "tags": [
     "code-along"
    ]
   },
   "outputs": [
    {
     "name": "stdout",
     "output_type": "stream",
     "text": [
      "Point(2, 4)\n"
     ]
    },
    {
     "data": {
      "text/plain": [
       "Point(3, 6)"
      ]
     },
     "execution_count": 31,
     "metadata": {},
     "output_type": "execute_result"
    }
   ],
   "source": [
    "print(p2)\n",
    "p2 += p1\n",
    "p2"
   ]
  },
  {
   "cell_type": "markdown",
   "id": "422e6683",
   "metadata": {
    "lang": "en",
    "slideshow": {
     "slide_type": "subslide"
    }
   },
   "source": [
    "## Mini workshop\n",
    "\n",
    "- Notebook `workshop_062_objects`\n",
    "- Section \"Motor Vehicles (Part 3)\""
   ]
  },
  {
   "cell_type": "markdown",
   "id": "9d029087",
   "metadata": {
    "lang": "en",
    "slideshow": {
     "slide_type": "subslide"
    }
   },
   "source": [
    "It is possible to define custom types that behave like lists:"
   ]
  },
  {
   "cell_type": "code",
<<<<<<< Updated upstream
   "execution_count": null,
   "id": "4239ea79",
=======
   "execution_count": 32,
   "id": "d0a2ab5d",
>>>>>>> Stashed changes
   "metadata": {
    "tags": [
     "code-along"
    ]
   },
   "outputs": [],
   "source": [
    "class MyBadList:\n",
    "    def __init__(self, elements=None):\n",
    "        if elements is None:\n",
    "            elements = []\n",
    "        self.elements = elements\n",
    "\n",
    "    def __getitem__(self, n):\n",
    "        return self.elements[n]\n",
    "\n",
    "    def __len__(self):\n",
    "        return len(self.elements)\n",
    "\n",
    "    def __repr__(self):\n",
    "        return f\"MyBadList({self.elements!r})\"\n",
    "\n",
    "    def append(self, element):\n",
    "        self.elements.append(element)"
   ]
  },
  {
   "cell_type": "code",
<<<<<<< Updated upstream
   "execution_count": null,
   "id": "78da655d",
=======
   "execution_count": 33,
   "id": "508c22ee",
>>>>>>> Stashed changes
   "metadata": {
    "slideshow": {
     "slide_type": "subslide"
    },
    "tags": [
     "code-along"
    ]
   },
   "outputs": [
    {
     "name": "stdout",
     "output_type": "stream",
     "text": [
      "MyBadList([])\n",
      "MyBadList([])\n",
      "MyBadList([1, 2, 3])\n"
     ]
    }
   ],
   "source": [
    "my_list_1 = MyBadList()\n",
    "my_list_2 = MyBadList()\n",
    "my_list_3 = MyBadList([1, 2, 3])\n",
    "print(my_list_1)\n",
    "print(my_list_2)\n",
    "print(my_list_3)"
   ]
  },
  {
   "cell_type": "code",
<<<<<<< Updated upstream
   "execution_count": null,
   "id": "21de1a96",
=======
   "execution_count": 34,
   "id": "8320418c",
>>>>>>> Stashed changes
   "metadata": {
    "slideshow": {
     "slide_type": "subslide"
    },
    "tags": [
     "code-along"
    ]
   },
   "outputs": [
    {
     "name": "stdout",
     "output_type": "stream",
     "text": [
      "MyBadList(['a', 'b', 'c'])\n",
      "MyBadList([])\n",
      "MyBadList([1, 2, 3])\n"
     ]
    }
   ],
   "source": [
    "my_list_1.append(\"a\")\n",
    "my_list_1.append(\"b\")\n",
    "my_list_1.append(\"c\")\n",
    "print(my_list_1)\n",
    "print(my_list_2)\n",
    "print(my_list_3)"
   ]
  },
  {
   "cell_type": "code",
<<<<<<< Updated upstream
   "execution_count": null,
   "id": "a521de74",
=======
   "execution_count": 35,
   "id": "f5203520",
>>>>>>> Stashed changes
   "metadata": {
    "tags": [
     "code-along"
    ]
   },
   "outputs": [
    {
     "name": "stdout",
     "output_type": "stream",
     "text": [
      "3\n",
      "a\n"
     ]
    }
   ],
   "source": [
    "print(len(my_list_1))\n",
    "print(my_list_1[0])\n",
    "# print(my_list_1[10])"
   ]
  },
  {
   "cell_type": "code",
<<<<<<< Updated upstream
   "execution_count": null,
   "id": "c4aa7a3e",
=======
   "execution_count": 36,
   "id": "524142e9",
>>>>>>> Stashed changes
   "metadata": {
    "tags": [
     "code-along"
    ]
   },
   "outputs": [
    {
     "name": "stdout",
     "output_type": "stream",
     "text": [
      "a\n",
      "b\n",
      "c\n"
     ]
    }
   ],
   "source": [
    "for elt in my_list_1:\n",
    "    print(elt)"
   ]
  },
  {
   "cell_type": "code",
<<<<<<< Updated upstream
   "execution_count": null,
   "id": "bb4ff00e",
=======
   "execution_count": 37,
   "id": "88cc2326",
>>>>>>> Stashed changes
   "metadata": {
    "lines_to_next_cell": 2,
    "tags": [
     "code-along"
    ]
   },
   "outputs": [
    {
     "data": {
      "text/plain": [
       "['b', 'c']"
      ]
     },
     "execution_count": 37,
     "metadata": {},
     "output_type": "execute_result"
    }
   ],
   "source": [
    "my_list_1[1:]"
   ]
  },
  {
   "cell_type": "markdown",
   "id": "bc3fe2be",
   "metadata": {
    "lang": "en",
    "slideshow": {
     "slide_type": "slide"
    }
   },
   "source": [
    "## Dataclasses\n",
    "\n",
    "Definition of a class in which attributes are more visible, representation\n",
    "and equality are predefined, etc.\n",
    "\n",
    "The [documentation](https://docs.python.org/3/library/dataclasses.html)\n",
    "includes other options."
   ]
  },
  {
   "cell_type": "code",
<<<<<<< Updated upstream
   "execution_count": null,
   "id": "b7f48ba2",
=======
   "execution_count": 38,
   "id": "7854f345",
>>>>>>> Stashed changes
   "metadata": {
    "slideshow": {
     "slide_type": "subslide"
    },
    "tags": [
     "code-along"
    ]
   },
   "outputs": [],
   "source": [
    "from dataclasses import dataclass\n",
    "\n",
    "\n",
    "@dataclass\n",
    "class DataPoint:\n",
    "    x: float\n",
    "    y: float"
   ]
  },
  {
   "cell_type": "code",
<<<<<<< Updated upstream
   "execution_count": null,
   "id": "bab91dae",
=======
   "execution_count": 39,
   "id": "50fe3588",
>>>>>>> Stashed changes
   "metadata": {
    "tags": [
     "code-along"
    ]
   },
   "outputs": [
    {
     "data": {
      "text/plain": [
       "DataPoint(x=2, y=3)"
      ]
     },
     "execution_count": 39,
     "metadata": {},
     "output_type": "execute_result"
    }
   ],
   "source": [
    "dp = DataPoint(2, 3)\n",
    "dp"
   ]
  },
  {
   "cell_type": "code",
<<<<<<< Updated upstream
   "execution_count": null,
   "id": "71fd8c6c",
=======
   "execution_count": 40,
   "id": "b0d7d4b7",
>>>>>>> Stashed changes
   "metadata": {
    "tags": [
     "code-along"
    ]
   },
   "outputs": [
    {
     "name": "stdout",
     "output_type": "stream",
     "text": [
      "True\n",
      "False\n"
     ]
    }
   ],
   "source": [
    "dp1 = DataPoint(1, 1)\n",
    "dp2 = DataPoint(1, 1)\n",
    "print(dp1 == dp2)\n",
    "print(dp1 is dp2)"
   ]
  },
  {
   "cell_type": "code",
<<<<<<< Updated upstream
   "execution_count": null,
   "id": "5fbf42d4",
=======
   "execution_count": 41,
   "id": "a040cefb",
>>>>>>> Stashed changes
   "metadata": {
    "slideshow": {
     "slide_type": "subslide"
    },
    "tags": [
     "code-along"
    ]
   },
   "outputs": [],
   "source": [
    "@dataclass\n",
    "class Point3D:\n",
    "    x: float\n",
    "    y: float\n",
    "    z: float = 0.0\n",
    "\n",
    "    # Non-destructive move!\n",
    "    def move(self, dx=0.0, dy=0.0, dz=0.0):\n",
    "        return Point3D(self.x + dx, self.y + dy, self.z + dz)"
   ]
  },
  {
   "cell_type": "code",
<<<<<<< Updated upstream
   "execution_count": null,
   "id": "74b21591",
=======
   "execution_count": 42,
   "id": "03fbdf3c",
>>>>>>> Stashed changes
   "metadata": {
    "tags": [
     "code-along"
    ]
   },
   "outputs": [
    {
     "name": "stdout",
     "output_type": "stream",
     "text": [
      "Point3D(x=1.0, y=2.0, z=0.0)\n",
      "Point3D(x=1.0, y=3.0, z=5.0)\n"
     ]
    }
   ],
   "source": [
    "p3d = Point3D(1.0, 2.0)\n",
    "print(p3d)\n",
    "print(p3d.move(dy=1.0, dz=5.0))"
   ]
  },
  {
   "cell_type": "markdown",
   "id": "cad73066",
   "metadata": {
    "lang": "en",
    "slideshow": {
     "slide_type": "subslide"
    }
   },
   "source": [
    "Dataclasses ensure that all default values are immutable:"
   ]
  },
  {
   "cell_type": "code",
<<<<<<< Updated upstream
   "execution_count": null,
   "id": "792444dc",
=======
   "execution_count": 43,
   "id": "3b70968b",
>>>>>>> Stashed changes
   "metadata": {
    "tags": [
     "code-along"
    ]
   },
   "outputs": [],
   "source": [
    "from dataclasses import dataclass, field\n",
    "\n",
    "\n",
    "@dataclass\n",
    "class DefaultDemo:\n",
    "    # item: list = []\n",
    "    items: list = field(default_factory=list)"
   ]
  },
  {
   "cell_type": "code",
<<<<<<< Updated upstream
   "execution_count": null,
   "id": "fa57c789",
=======
   "execution_count": 44,
   "id": "85418bdc",
>>>>>>> Stashed changes
   "metadata": {
    "tags": [
     "code-along"
    ]
   },
   "outputs": [],
   "source": [
    "d1 = DefaultDemo()\n",
    "d2 = DefaultDemo()"
   ]
  },
  {
   "cell_type": "code",
<<<<<<< Updated upstream
   "execution_count": null,
   "id": "c14bfc9b",
=======
   "execution_count": 45,
   "id": "6a2d242e",
>>>>>>> Stashed changes
   "metadata": {
    "tags": [
     "code-along"
    ]
   },
   "outputs": [
    {
     "name": "stdout",
     "output_type": "stream",
     "text": [
      "DefaultDemo(items=[1234])\n",
      "DefaultDemo(items=[])\n"
     ]
    }
   ],
   "source": [
    "d1.items.append(1234)\n",
    "print(d1)\n",
    "print(d2)"
   ]
  },
  {
   "cell_type": "markdown",
   "id": "d63bf879",
   "metadata": {
    "lang": "en",
    "slideshow": {
     "slide_type": "subslide"
    }
   },
   "source": [
    "## Workshop\n",
    "\n",
    "- Notebook `workshop_062_objects`\n",
    "- \"Shopping list\" section"
   ]
  },
  {
   "cell_type": "code",
   "execution_count": null,
   "id": "af4a22e6",
   "metadata": {},
   "outputs": [],
   "source": []
  }
 ],
 "metadata": {
  "jupytext": {
   "cell_metadata_json": true,
   "encoding": "# -*- coding: utf-8 -*-",
   "formats": "ipynb"
  },
  "kernelspec": {
   "display_name": "Python 3 (ipykernel)",
   "language": "python",
   "name": "python3"
  },
  "language_info": {
   "codemirror_mode": {
    "name": "ipython",
    "version": 3
   },
   "file_extension": ".py",
   "mimetype": "text/x-python",
   "name": "python",
   "nbconvert_exporter": "python",
   "pygments_lexer": "ipython3",
   "version": "3.9.10"
  },
  "nbTranslate": {
   "displayLangs": [
    "en",
    "de"
   ],
   "hotkey": "alt-t",
   "langInMainMenu": true,
   "sourceLang": "de",
   "targetLang": "en",
   "useGoogleTranslate": true
  }
 },
 "nbformat": 4,
 "nbformat_minor": 5
}
