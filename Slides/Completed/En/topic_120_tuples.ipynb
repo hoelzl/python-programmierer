{
 "cells": [
  {
   "cell_type": "markdown",
   "id": "23382e07",
   "metadata": {
    "lang": "en",
    "slideshow": {
     "slide_type": "slide"
    }
   },
   "source": [
    "<img src=\"img/python-logo-notext.svg\"\n",
    "     style=\"display:block;margin:auto;width:10%\"/>\n",
    "<br>\n",
    "<div style=\"text-align:center; font-size:200%;\"><b>Tuples</b></div>\n",
    "<br/>\n",
    "<div style=\"text-align:center;\">Dr. Matthias Hölzl</div>"
   ]
  },
  {
   "cell_type": "markdown",
   "id": "27d42c7f",
   "metadata": {
    "lang": "en",
    "slideshow": {
     "slide_type": "slide"
    }
   },
   "source": [
    "# Tuples\n",
    "\n",
    "Tuples are a data structure very similar to lists.\n",
    "\n",
    "Syntax:\n",
    "\n",
    "- Elements separated by commas: `1, 2, 3, 4`\n",
    "- In many cases, tuples must be enclosed in parens: `(1, 2, 3)`"
   ]
  },
  {
   "cell_type": "code",
   "execution_count": null,
   "id": "f7babbc7",
   "metadata": {
    "lines_to_next_cell": 2,
    "tags": [
     "code-along"
    ]
   },
   "outputs": [],
   "source": [
    "1, 2, 3"
   ]
  },
  {
   "cell_type": "code",
   "execution_count": null,
   "id": "2d7b1f61",
   "metadata": {
    "tags": [
     "code-along"
    ]
   },
   "outputs": [],
   "source": [
    "non_tuple = 1\n",
    "print(non_tuple)\n",
    "type(non_tuple)"
   ]
  },
  {
   "cell_type": "code",
   "execution_count": null,
   "id": "96caf07a",
   "metadata": {
    "lines_to_next_cell": 2,
    "tags": [
     "code-along"
    ]
   },
   "outputs": [],
   "source": [
    "singleton_tuple = (1,)\n",
    "print(singleton_tuple)\n",
    "type(singleton_tuple)"
   ]
  },
  {
   "cell_type": "code",
   "execution_count": null,
   "id": "8493eec7",
   "metadata": {
    "lines_to_next_cell": 2,
    "tags": [
     "code-along"
    ]
   },
   "outputs": [],
   "source": [
    "x = \"a\", 1, True"
   ]
  },
  {
   "cell_type": "code",
   "execution_count": null,
   "id": "368a30af",
   "metadata": {
    "lines_to_next_cell": 2,
    "tags": [
     "code-along"
    ]
   },
   "outputs": [],
   "source": [
    "type(x)"
   ]
  },
  {
   "cell_type": "markdown",
   "id": "938c8bbb",
   "metadata": {
    "lang": "en",
    "slideshow": {
     "slide_type": "subslide"
    }
   },
   "source": [
    "## Properties of tuples\n",
    "\n",
    " - Tuples can store arbitrary Python values\n",
    " - Elements in a tuple have a fixed order\n",
    " - Elements of a tuple can be accessed by index\n",
    " - Tuples can *not* be modified\n",
    "\n",
    " Tuples are often used to store *heterogeneous* data."
   ]
  },
  {
   "cell_type": "markdown",
   "id": "d19a3235",
   "metadata": {
    "lang": "en",
    "slideshow": {
     "slide_type": "subslide"
    }
   },
   "source": [
    "## Operations on tuples\n",
    "\n",
    " - Many of the operations on lists can be applied to tuples.\n",
    " - The operations that change lists are not applicable."
   ]
  },
  {
   "cell_type": "code",
   "execution_count": null,
   "id": "562f41d6",
   "metadata": {
    "lines_to_next_cell": 2,
    "tags": [
     "code-along"
    ]
   },
   "outputs": [],
   "source": [
    "values = 1, 2, 3\n",
    "print(values + (\"a\", \"b\"))\n",
    "print(values[1])\n",
    "print(\"Length:\", len(values))\n",
    "values"
   ]
  },
  {
   "cell_type": "code",
   "execution_count": null,
   "id": "29f20e42",
   "metadata": {
    "lines_to_next_cell": 2,
    "tags": [
     "code-along"
    ]
   },
   "outputs": [],
   "source": [
    "for x in 1, 2, 3:\n",
    "    print(x)"
   ]
  },
  {
   "cell_type": "code",
   "execution_count": null,
   "id": "6d5b52be",
   "metadata": {
    "lines_to_next_cell": 2,
    "tags": [
     "code-along"
    ]
   },
   "outputs": [],
   "source": [
    "x, y = 1, 2"
   ]
  },
  {
   "cell_type": "code",
   "execution_count": null,
   "id": "bce18165",
   "metadata": {
    "lines_to_next_cell": 2,
    "tags": [
     "code-along"
    ]
   },
   "outputs": [],
   "source": [
    "print(x, y)"
   ]
  },
  {
   "cell_type": "code",
   "execution_count": null,
   "id": "e7eb30ad",
   "metadata": {
    "lines_to_next_cell": 2,
    "tags": [
     "code-along"
    ]
   },
   "outputs": [],
   "source": [
    "(1, 2, 3).index(2)"
   ]
  },
  {
   "cell_type": "code",
   "execution_count": null,
   "id": "004d794b",
   "metadata": {
    "tags": [
     "code-along"
    ]
   },
   "outputs": [],
   "source": [
    "(1, 2, 3, 1, 2, 1, 2).count(1)"
   ]
  }
 ],
 "metadata": {
  "jupytext": {
   "cell_metadata_json": true,
   "encoding": "# -*- coding: utf-8 -*-",
   "formats": "ipynb"
  },
  "kernelspec": {
   "display_name": "Python 3 (ipykernel)",
   "language": "python",
   "name": "python3"
  }
 },
 "nbformat": 4,
 "nbformat_minor": 5
}
