{
 "cells": [
  {
   "cell_type": "markdown",
   "id": "0c1d06c1",
   "metadata": {
    "lang": "en",
    "slideshow": {
     "slide_type": "slide"
    }
   },
   "source": [
    "<img src=\"img/python-logo-notext.svg\"\n",
    "     style=\"display:block;margin:auto;width:10%\"/>\n",
    "<br>\n",
    "<div style=\"text-align:center; font-size:200%;\"><b>Tuples</b></div>\n",
    "<br/>\n",
    "<div style=\"text-align:center;\">Dr. Matthias Hölzl</div>"
   ]
  },
  {
   "cell_type": "markdown",
   "id": "a29cfe74",
   "metadata": {
    "lang": "en",
    "slideshow": {
     "slide_type": "slide"
    }
   },
   "source": [
    "# Tuples\n",
    "\n",
    "Tuples are a data structure very similar to lists.\n",
    "\n",
    "Syntax:\n",
    "\n",
    "- Elements separated by commas: `1, 2, 3, 4`\n",
    "- In many cases, tuples must be enclosed in parens: `(1, 2, 3)`"
   ]
  },
  {
   "cell_type": "code",
   "execution_count": null,
   "id": "0caf57f4",
   "metadata": {
    "lines_to_next_cell": 2,
    "tags": [
     "code-along"
    ]
   },
   "outputs": [],
   "source": [
    "1, 2, 3"
   ]
  },
  {
   "cell_type": "code",
   "execution_count": null,
   "id": "1be7401a",
   "metadata": {
    "tags": [
     "code-along"
    ]
   },
   "outputs": [],
   "source": [
    "non_tuple = 1\n",
    "print(non_tuple)\n",
    "type(non_tuple)"
   ]
  },
  {
   "cell_type": "code",
   "execution_count": null,
   "id": "bf14b71f",
   "metadata": {
    "lines_to_next_cell": 2,
    "tags": [
     "code-along"
    ]
   },
   "outputs": [],
   "source": [
    "singleton_tuple = (1,)\n",
    "print(singleton_tuple)\n",
    "type(singleton_tuple)"
   ]
  },
  {
   "cell_type": "code",
   "execution_count": null,
   "id": "70c2ef76",
   "metadata": {
    "lines_to_next_cell": 2,
    "tags": [
     "code-along"
    ]
   },
   "outputs": [],
   "source": [
    "x = \"a\", 1, True"
   ]
  },
  {
   "cell_type": "code",
   "execution_count": null,
   "id": "6ec0dc4b",
   "metadata": {
    "lines_to_next_cell": 2,
    "tags": [
     "code-along"
    ]
   },
   "outputs": [],
   "source": [
    "type(x)"
   ]
  },
  {
   "cell_type": "markdown",
   "id": "dc9f3be0",
   "metadata": {
    "lang": "en",
    "slideshow": {
     "slide_type": "subslide"
    }
   },
   "source": [
    "## Properties of tuples\n",
    "\n",
    " - Tuples can store arbitrary Python values\n",
    " - Elements in a tuple have a fixed order\n",
    " - Elements of a tuple can be accessed by index\n",
    " - Tuples can *not* be modified\n",
    "\n",
    " Tuples are often used to store *heterogeneous* data."
   ]
  },
  {
   "cell_type": "markdown",
   "id": "6187e9ea",
   "metadata": {
    "lang": "en",
    "slideshow": {
     "slide_type": "subslide"
    }
   },
   "source": [
    "## Operations on tuples\n",
    "\n",
    " - Many of the operations on lists can be applied to tuples.\n",
    " - The operations that change lists are not applicable."
   ]
  },
  {
   "cell_type": "code",
   "execution_count": null,
   "id": "22166bfc",
   "metadata": {
    "lines_to_next_cell": 2,
    "tags": [
     "code-along"
    ]
   },
   "outputs": [],
   "source": [
    "values = 1, 2, 3\n",
    "print(values + (\"a\", \"b\"))\n",
    "print(values[1])\n",
    "print(\"Length:\", len(values))\n",
    "values"
   ]
  },
  {
   "cell_type": "code",
   "execution_count": null,
   "id": "85c70e43",
   "metadata": {
    "lines_to_next_cell": 2,
    "tags": [
     "code-along"
    ]
   },
   "outputs": [],
   "source": [
    "for x in 1, 2, 3:\n",
    "    print(x)"
   ]
  },
  {
   "cell_type": "code",
   "execution_count": null,
   "id": "0334a3cd",
   "metadata": {
    "lines_to_next_cell": 2,
    "tags": [
     "code-along"
    ]
   },
   "outputs": [],
   "source": [
    "x, y = 1, 2"
   ]
  },
  {
   "cell_type": "code",
   "execution_count": null,
   "id": "c463bca7",
   "metadata": {
    "lines_to_next_cell": 2,
    "tags": [
     "code-along"
    ]
   },
   "outputs": [],
   "source": [
    "print(x, y)"
   ]
  },
  {
   "cell_type": "code",
   "execution_count": null,
   "id": "decd0730",
   "metadata": {
    "lines_to_next_cell": 2,
    "tags": [
     "code-along"
    ]
   },
   "outputs": [],
   "source": [
    "(1, 2, 3).index(2)"
   ]
  },
  {
   "cell_type": "code",
   "execution_count": null,
   "id": "bb8fc7b8",
   "metadata": {
    "tags": [
     "code-along"
    ]
   },
   "outputs": [],
   "source": [
    "(1, 2, 3, 1, 2, 1, 2).count(1)"
   ]
  }
 ],
 "metadata": {
  "jupytext": {
   "cell_metadata_json": true,
   "encoding": "# -*- coding: utf-8 -*-",
   "formats": "ipynb"
  },
  "kernelspec": {
   "display_name": "Python 3 (ipykernel)",
   "language": "python",
   "name": "python3"
  }
 },
 "nbformat": 4,
 "nbformat_minor": 5
}
