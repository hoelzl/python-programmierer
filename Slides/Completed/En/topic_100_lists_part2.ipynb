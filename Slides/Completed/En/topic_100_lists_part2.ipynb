{
 "cells": [
  {
   "cell_type": "markdown",
   "id": "4f95cc07",
   "metadata": {
    "lang": "en",
    "lines_to_next_cell": 2,
    "slideshow": {
     "slide_type": "slide"
    }
   },
   "source": [
    "<img src=\"img/python-logo-notext.svg\"\n",
    "     style=\"display:block;margin:auto;width:10%\"/>\n",
    "<br>\n",
    "<div style=\"text-align:center; font-size:200%;\"><b>Lists in Depth</b></div>\n",
    "<br/>\n",
    "<div style=\"text-align:center;\">Dr. Matthias Hölzl</div>"
   ]
  },
  {
   "cell_type": "markdown",
   "id": "5ffa07cc",
   "metadata": {
    "lang": "en",
    "slideshow": {
     "slide_type": "slide"
    }
   },
   "source": [
    "# Lists\n",
    "\n",
    "Recall:\n",
    "\n",
    "- List literals are enclosed in square brackets\n",
    "- Other sequences can be converted to lists using `list`"
   ]
  },
  {
   "cell_type": "code",
   "execution_count": null,
   "id": "dc7114e4",
   "metadata": {},
   "outputs": [],
   "source": [
    "[\"a\", \"b\", \"c\"]"
   ]
  },
  {
   "cell_type": "code",
   "execution_count": null,
   "id": "c8486974",
   "metadata": {
    "tags": [
     "code-along"
    ]
   },
   "outputs": [],
   "source": [
    "list(\"abcde\")"
   ]
  },
  {
   "cell_type": "markdown",
   "id": "0825395e",
   "metadata": {
    "lang": "en",
    "slideshow": {
     "slide_type": "subslide"
    }
   },
   "source": [
    "## Mini workshop\n",
    "\n",
    "- Notebook `workshop_060_introduction_part2`\n",
    "- Section \"Printing square numbers\""
   ]
  },
  {
   "cell_type": "markdown",
   "id": "741cc46d",
   "metadata": {
    "lang": "en",
    "slideshow": {
     "slide_type": "subslide"
    }
   },
   "source": [
    "## Properties of lists\n",
    "\n",
    "- Lists can store arbitrary Python values\n",
    "- Elements in a list have a fixed order\n",
    "- Elements of a list can be accessed by index\n",
    "- Lists can be modified\n",
    "\n",
    "Lists can contain elements of different types, but most lists contain elements of a single type."
   ]
  },
  {
   "cell_type": "code",
   "execution_count": null,
   "id": "e7d81da7",
   "metadata": {
    "slideshow": {
     "slide_type": "subslide"
    }
   },
   "outputs": [],
   "source": [
    "stringliste = [\"a\", \"b\", \"c\"]"
   ]
  },
  {
   "cell_type": "code",
   "execution_count": null,
   "id": "28f557fc",
   "metadata": {
    "tags": [
     "code-along"
    ]
   },
   "outputs": [],
   "source": [
    "stringliste[0]"
   ]
  },
  {
   "cell_type": "code",
   "execution_count": null,
   "id": "2579ed92",
   "metadata": {
    "tags": [
     "code-along"
    ]
   },
   "outputs": [],
   "source": [
    "stringliste[-1]"
   ]
  },
  {
   "cell_type": "markdown",
   "id": "75e69bf2",
   "metadata": {
    "lang": "en",
    "slideshow": {
     "slide_type": "subslide"
    }
   },
   "source": [
    "### Check if an item is in a list"
   ]
  },
  {
   "cell_type": "code",
   "execution_count": null,
   "id": "7aa5e274",
   "metadata": {
    "tags": [
     "code-along"
    ]
   },
   "outputs": [],
   "source": [
    "2 in [1, 2, 3]"
   ]
  },
  {
   "cell_type": "code",
   "execution_count": null,
   "id": "4b9baaa0",
   "metadata": {
    "tags": [
     "code-along"
    ]
   },
   "outputs": [],
   "source": [
    "not (2 in [1, 3, 5])"
   ]
  },
  {
   "cell_type": "code",
   "execution_count": null,
   "id": "0b98a77b",
   "metadata": {
    "tags": [
     "code-along"
    ]
   },
   "outputs": [],
   "source": [
    "2 not in [1, 3, 5]"
   ]
  },
  {
   "cell_type": "markdown",
   "id": "c3e887c9",
   "metadata": {
    "lang": "en",
    "slideshow": {
     "slide_type": "subslide"
    }
   },
   "source": [
    "### Find the position of an element"
   ]
  },
  {
   "cell_type": "code",
   "execution_count": null,
   "id": "aa519778",
   "metadata": {
    "tags": [
     "code-along"
    ]
   },
   "outputs": [],
   "source": [
    "[1, 2, 3, 2, 4].index(2)"
   ]
  },
  {
   "cell_type": "code",
   "execution_count": null,
   "id": "7a6be3b0",
   "metadata": {},
   "outputs": [],
   "source": [
    "my_list = [\"a\", \"b\", \"c\", \"d\", \"b\", \"d\", \"b\"]"
   ]
  },
  {
   "cell_type": "code",
   "execution_count": null,
   "id": "f75b45f2",
   "metadata": {
    "tags": [
     "code-along"
    ]
   },
   "outputs": [],
   "source": [
    "my_index = my_list.index(\"b\")\n",
    "print(my_index)\n",
    "my_list[my_index]"
   ]
  },
  {
   "cell_type": "code",
   "execution_count": null,
   "id": "b48e13d7",
   "metadata": {
    "tags": [
     "code-along"
    ]
   },
   "outputs": [],
   "source": [
    "# Fehler\n",
    "# [1, 3, 5].index(2)"
   ]
  },
  {
   "cell_type": "markdown",
   "id": "dbc5a976",
   "metadata": {
    "lang": "en",
    "slideshow": {
     "slide_type": "subslide"
    }
   },
   "source": [
    "## Micro workshop:\n",
    "\n",
    "The `index` method throws an exception if the searched object does not\n",
    "appear in the list. Write a function\n",
    "```\n",
    "find(item, a_list)\n",
    "```\n",
    "\n",
    "- which returns an index if the element `element` is in the list, and\n",
    "- returns `None` if it is not"
   ]
  },
  {
   "cell_type": "code",
   "execution_count": null,
   "id": "b3385616",
   "metadata": {
    "slideshow": {
     "slide_type": "subslide"
    },
    "tags": [
     "code-along"
    ]
   },
   "outputs": [],
   "source": [
    "def find(element, a_list):\n",
    "    if element in a_list:\n",
    "        return a_list.index(element)\n",
    "    else:\n",
    "        return None"
   ]
  },
  {
   "cell_type": "code",
   "execution_count": null,
   "id": "6d811d49",
   "metadata": {
    "slideshow": {
     "slide_type": "subslide"
    }
   },
   "outputs": [],
   "source": [
    "my_list = [\"a\", \"b\", \"c\", \"d\", \"e\"]"
   ]
  },
  {
   "cell_type": "code",
   "execution_count": null,
   "id": "f58f436f",
   "metadata": {
    "slideshow": {
     "slide_type": "-"
    },
    "tags": [
     "code-along"
    ]
   },
   "outputs": [],
   "source": [
    "find(\"a\", my_list)"
   ]
  },
  {
   "cell_type": "code",
   "execution_count": null,
   "id": "22680653",
   "metadata": {
    "tags": [
     "code-along"
    ]
   },
   "outputs": [],
   "source": [
    "find(\"d\", my_list)"
   ]
  },
  {
   "cell_type": "code",
   "execution_count": null,
   "id": "670e5730",
   "metadata": {
    "tags": [
     "code-along"
    ]
   },
   "outputs": [],
   "source": [
    "print(find(\"x\", my_list))"
   ]
  },
  {
   "cell_type": "markdown",
   "id": "1dec5e96",
   "metadata": {
    "lang": "en",
    "slideshow": {
     "slide_type": "subslide"
    }
   },
   "source": [
    "### Modification of elements"
   ]
  },
  {
   "cell_type": "code",
   "execution_count": null,
   "id": "778c2f31",
   "metadata": {},
   "outputs": [],
   "source": [
    "stringliste"
   ]
  },
  {
   "cell_type": "code",
   "execution_count": null,
   "id": "70b66625",
   "metadata": {
    "tags": [
     "code-along"
    ]
   },
   "outputs": [],
   "source": [
    "stringliste[0] = \"A\""
   ]
  },
  {
   "cell_type": "code",
   "execution_count": null,
   "id": "bed0c239",
   "metadata": {},
   "outputs": [],
   "source": [
    "stringliste"
   ]
  },
  {
   "cell_type": "markdown",
   "id": "b46876da",
   "metadata": {
    "lang": "en",
    "slideshow": {
     "slide_type": "subslide"
    }
   },
   "source": [
    "### Inserting and appending elements"
   ]
  },
  {
   "cell_type": "code",
   "execution_count": null,
   "id": "0634ad09",
   "metadata": {},
   "outputs": [],
   "source": [
    "stringliste"
   ]
  },
  {
   "cell_type": "code",
   "execution_count": null,
   "id": "01919c01",
   "metadata": {
    "tags": [
     "code-along"
    ]
   },
   "outputs": [],
   "source": [
    "stringliste.append(\"D\")"
   ]
  },
  {
   "cell_type": "code",
   "execution_count": null,
   "id": "881a59b7",
   "metadata": {},
   "outputs": [],
   "source": [
    "stringliste"
   ]
  },
  {
   "cell_type": "code",
   "execution_count": null,
   "id": "a819f70f",
   "metadata": {
    "slideshow": {
     "slide_type": "subslide"
    },
    "tags": [
     "code-along"
    ]
   },
   "outputs": [],
   "source": [
    "stringliste + [\"E\", \"F\"]"
   ]
  },
  {
   "cell_type": "code",
   "execution_count": null,
   "id": "499905dd",
   "metadata": {},
   "outputs": [],
   "source": [
    "stringliste"
   ]
  },
  {
   "cell_type": "code",
   "execution_count": null,
   "id": "75d7684f",
   "metadata": {
    "tags": [
     "code-along"
    ]
   },
   "outputs": [],
   "source": [
    "stringliste.extend([\"E\", \"F\"])"
   ]
  },
  {
   "cell_type": "code",
   "execution_count": null,
   "id": "0f80346a",
   "metadata": {
    "slideshow": {
     "slide_type": "subslide"
    }
   },
   "outputs": [],
   "source": [
    "stringliste"
   ]
  },
  {
   "cell_type": "code",
   "execution_count": null,
   "id": "d5c9c012",
   "metadata": {
    "tags": [
     "code-along"
    ]
   },
   "outputs": [],
   "source": [
    "stringliste.insert(1, \"Y\")"
   ]
  },
  {
   "cell_type": "code",
   "execution_count": null,
   "id": "96fea98e",
   "metadata": {},
   "outputs": [],
   "source": [
    "stringliste"
   ]
  },
  {
   "cell_type": "code",
   "execution_count": null,
   "id": "83397f4c",
   "metadata": {
    "slideshow": {
     "slide_type": "subslide"
    },
    "tags": [
     "code-along"
    ]
   },
   "outputs": [],
   "source": [
    "stringliste.insert(0, \"ANFANG\")"
   ]
  },
  {
   "cell_type": "code",
   "execution_count": null,
   "id": "c57e36e0",
   "metadata": {},
   "outputs": [],
   "source": [
    "stringliste"
   ]
  },
  {
   "cell_type": "code",
   "execution_count": null,
   "id": "9e30a3ba",
   "metadata": {
    "tags": [
     "code-along"
    ]
   },
   "outputs": [],
   "source": [
    "# Vorsicht!\n",
    "stringliste.insert(-1, \"ENDE\")"
   ]
  },
  {
   "cell_type": "code",
   "execution_count": null,
   "id": "b0698bb4",
   "metadata": {},
   "outputs": [],
   "source": [
    "stringliste"
   ]
  },
  {
   "cell_type": "markdown",
   "id": "0e58536a",
   "metadata": {
    "lang": "en",
    "slideshow": {
     "slide_type": "subslide"
    }
   },
   "source": [
    "### Removing elements"
   ]
  },
  {
   "cell_type": "code",
   "execution_count": null,
   "id": "1db9c9de",
   "metadata": {},
   "outputs": [],
   "source": [
    "stringliste = [\"ANFANG\", \"A\", \"Y\", \"b\", \"c\", \"D\", \"E\", \"ENDE\", \"F\"]\n",
    "stringliste[7]"
   ]
  },
  {
   "cell_type": "code",
   "execution_count": null,
   "id": "94a03fff",
   "metadata": {
    "tags": [
     "code-along"
    ]
   },
   "outputs": [],
   "source": [
    "del stringliste[7]"
   ]
  },
  {
   "cell_type": "code",
   "execution_count": null,
   "id": "72feb21d",
   "metadata": {},
   "outputs": [],
   "source": [
    "stringliste"
   ]
  },
  {
   "cell_type": "markdown",
   "id": "9a049fce",
   "metadata": {
    "lang": "en",
    "slideshow": {
     "slide_type": "subslide"
    }
   },
   "source": [
    "### Length of a list"
   ]
  },
  {
   "cell_type": "code",
   "execution_count": null,
   "id": "97bd6d12",
   "metadata": {},
   "outputs": [],
   "source": [
    "stringliste"
   ]
  },
  {
   "cell_type": "code",
   "execution_count": null,
   "id": "0899c008",
   "metadata": {
    "tags": [
     "code-along"
    ]
   },
   "outputs": [],
   "source": [
    "len(stringliste)"
   ]
  },
  {
   "cell_type": "code",
   "execution_count": null,
   "id": "072ad538",
   "metadata": {
    "tags": [
     "code-along"
    ]
   },
   "outputs": [],
   "source": [
    "stringliste.insert(len(stringliste), \"WIRKLICH DAS ENDE\")"
   ]
  },
  {
   "cell_type": "code",
   "execution_count": null,
   "id": "077ad342",
   "metadata": {},
   "outputs": [],
   "source": [
    "stringliste"
   ]
  },
  {
   "cell_type": "code",
   "execution_count": null,
   "id": "37c28fce",
   "metadata": {
    "tags": [
     "code-along"
    ]
   },
   "outputs": [],
   "source": [
    "# Vorsicht\n",
    "# stringliste[len(stringliste)]"
   ]
  },
  {
   "cell_type": "markdown",
   "id": "f988910a",
   "metadata": {
    "lang": "en",
    "slideshow": {
     "slide_type": "subslide"
    }
   },
   "source": [
    "## Mini workshop\n",
    "\n",
    "- Notebook `workshop_100_lists_part2`\n",
    "- Section Colors"
   ]
  },
  {
   "cell_type": "markdown",
   "id": "379352dc",
   "metadata": {
    "lang": "en",
    "slideshow": {
     "slide_type": "slide"
    }
   },
   "source": [
    "## Creating lists\n",
    "\n",
    "The multiplication operator `*` allows the elements of a list\n",
    "be repeated:"
   ]
  },
  {
   "cell_type": "code",
   "execution_count": null,
   "id": "96f24e93",
   "metadata": {
    "tags": [
     "code-along"
    ]
   },
   "outputs": [],
   "source": [
    "[1, 2] * 3"
   ]
  },
  {
   "cell_type": "code",
   "execution_count": null,
   "id": "7dcf64e7",
   "metadata": {
    "tags": [
     "code-along"
    ]
   },
   "outputs": [],
   "source": [
    "3 * [\"a\", \"b\"]"
   ]
  },
  {
   "cell_type": "code",
   "execution_count": null,
   "id": "ff429604",
   "metadata": {
    "tags": [
     "code-along"
    ]
   },
   "outputs": [],
   "source": [
    "[0] * 10"
   ]
  },
  {
   "cell_type": "markdown",
   "id": "abff1daf",
   "metadata": {
    "lang": "en",
    "slideshow": {
     "slide_type": "slide"
    }
   },
   "source": [
    "## Slicing\n",
    "\n",
    "With the notation `list[m:n]` you can extract a \"sublist\" of `list`.\n",
    "\n",
    "- The first element is `list[m]`\n",
    "- The last element is `list[n-1]`"
   ]
  },
  {
   "cell_type": "code",
   "execution_count": null,
   "id": "98c554d4",
   "metadata": {
    "slideshow": {
     "slide_type": "subslide"
    }
   },
   "outputs": [],
   "source": [
    "stringliste = [\"a\", \"b\", \"c\", \"d\", \"e\"]"
   ]
  },
  {
   "cell_type": "code",
   "execution_count": null,
   "id": "d6f2cc70",
   "metadata": {
    "tags": [
     "code-along"
    ]
   },
   "outputs": [],
   "source": [
    "stringliste[1:3]"
   ]
  },
  {
   "cell_type": "code",
   "execution_count": null,
   "id": "58d50dd7",
   "metadata": {
    "tags": [
     "code-along"
    ]
   },
   "outputs": [],
   "source": [
    "stringliste[1:1]"
   ]
  },
  {
   "cell_type": "code",
   "execution_count": null,
   "id": "54437074",
   "metadata": {
    "tags": [
     "code-along"
    ]
   },
   "outputs": [],
   "source": [
    "stringliste[0 : len(stringliste)]"
   ]
  },
  {
   "cell_type": "code",
   "execution_count": null,
   "id": "196c6caf",
   "metadata": {
    "slideshow": {
     "slide_type": "subslide"
    },
    "tags": [
     "code-along"
    ]
   },
   "outputs": [],
   "source": [
    "stringliste[:3]"
   ]
  },
  {
   "cell_type": "code",
   "execution_count": null,
   "id": "597e2e61",
   "metadata": {
    "tags": [
     "code-along"
    ]
   },
   "outputs": [],
   "source": [
    "stringliste[1:]"
   ]
  },
  {
   "cell_type": "code",
   "execution_count": null,
   "id": "49841b14",
   "metadata": {
    "tags": [
     "code-along"
    ]
   },
   "outputs": [],
   "source": [
    "stringliste[:]"
   ]
  },
  {
   "cell_type": "markdown",
   "id": "39f90c60",
   "metadata": {
    "lang": "en"
   },
   "source": [
    "## Mini workshop\n",
    "\n",
    "- Notebook `workshop_100_lists_part2`\n",
    "- Section \"Slicing\""
   ]
  },
  {
   "cell_type": "markdown",
   "id": "7b3d3685",
   "metadata": {
    "lang": "en",
    "slideshow": {
     "slide_type": "slide"
    }
   },
   "source": [
    "## Assignment to slices\n",
    "\n",
    "You can assign values to slices:"
   ]
  },
  {
   "cell_type": "code",
   "execution_count": null,
   "id": "5a0c56a6",
   "metadata": {
    "tags": [
     "code-along"
    ]
   },
   "outputs": [],
   "source": [
    "liste = [1, 2, 3, 4]\n",
    "liste[1:3]"
   ]
  },
  {
   "cell_type": "code",
   "execution_count": null,
   "id": "5af32749",
   "metadata": {
    "tags": [
     "code-along"
    ]
   },
   "outputs": [],
   "source": [
    "liste[1:3] = [\"a\", \"b\", \"c\"]\n",
    "liste"
   ]
  },
  {
   "cell_type": "code",
   "execution_count": null,
   "id": "b4ce4f43",
   "metadata": {
    "tags": [
     "code-along"
    ]
   },
   "outputs": [],
   "source": [
    "liste[2:2]"
   ]
  },
  {
   "cell_type": "code",
   "execution_count": null,
   "id": "8268b158",
   "metadata": {
    "tags": [
     "code-along"
    ]
   },
   "outputs": [],
   "source": [
    "liste[2:2] = [\"x\"]\n",
    "liste"
   ]
  },
  {
   "cell_type": "code",
   "execution_count": null,
   "id": "7fa727db",
   "metadata": {
    "slideshow": {
     "slide_type": "subslide"
    },
    "tags": [
     "code-along"
    ]
   },
   "outputs": [],
   "source": [
    "liste[:] = [11, 22, 33]\n",
    "liste"
   ]
  },
  {
   "cell_type": "markdown",
   "id": "1319bb70",
   "metadata": {
    "lang": "en",
    "slideshow": {
     "slide_type": "slide"
    }
   },
   "source": [
    "## Slices as objects\n",
    "\n",
    "Slices are themselves Python objects. However, outside the indexing operation `[]`\n",
    "they cannot be created with the notation `a:b`, but only\n",
    "with the constructor function `slice()`."
   ]
  },
  {
   "cell_type": "code",
   "execution_count": null,
   "id": "b6dcfa5b",
   "metadata": {
    "lines_to_next_cell": 2,
    "slideshow": {
     "slide_type": "-"
    }
   },
   "outputs": [],
   "source": [
    "my_list = [1, 2, 3, 4, 5, 6]\n",
    "print(my_list[2:4])"
   ]
  },
  {
   "cell_type": "code",
   "execution_count": null,
   "id": "8c9d37f1",
   "metadata": {
    "tags": [
     "code-along"
    ]
   },
   "outputs": [],
   "source": [
    "my_slice = slice(2, 4)\n",
    "print(my_list[my_slice])"
   ]
  },
  {
   "cell_type": "code",
   "execution_count": null,
   "id": "dad6223d",
   "metadata": {
    "slideshow": {
     "slide_type": "subslide"
    }
   },
   "outputs": [],
   "source": [
    "print(my_list[:3])"
   ]
  },
  {
   "cell_type": "code",
   "execution_count": null,
   "id": "24e9fe95",
   "metadata": {
    "tags": [
     "code-along"
    ]
   },
   "outputs": [],
   "source": [
    "my_slice = slice(None, 3)\n",
    "print(my_list[my_slice])"
   ]
  },
  {
   "cell_type": "markdown",
   "id": "d21dc887",
   "metadata": {
    "lang": "en",
    "slideshow": {
     "slide_type": "subslide"
    }
   },
   "source": [
    "The `indices()` method of a slice object can be used to\n",
    "determine which indices the slice contains:"
   ]
  },
  {
   "cell_type": "code",
   "execution_count": null,
   "id": "5a09acac",
   "metadata": {},
   "outputs": [],
   "source": [
    "my_slice = slice(None, 3)\n",
    "print(my_slice.indices(len(my_list)))"
   ]
  },
  {
   "cell_type": "markdown",
   "id": "46dbe30c",
   "metadata": {
    "lang": "en"
   },
   "source": [
    "With this we can write a function that replaces all the elements of a slice\n",
    "with a given value:"
   ]
  },
  {
   "cell_type": "code",
   "execution_count": null,
   "id": "67b5c53b",
   "metadata": {
    "slideshow": {
     "slide_type": "subslide"
    }
   },
   "outputs": [],
   "source": [
    "def replace_with(my_list, my_slice, value):\n",
    "    import math\n",
    "\n",
    "    start, stop, stride = my_slice.indices(len(my_list))\n",
    "    num_values = math.ceil((stop - start) / stride)\n",
    "    my_list[my_slice] = [value] * num_values"
   ]
  },
  {
   "cell_type": "code",
   "execution_count": null,
   "id": "99f318b8",
   "metadata": {
    "slideshow": {
     "slide_type": "subslide"
    }
   },
   "outputs": [],
   "source": [
    "my_list = [1, 2, 3, 4, 5, 6]\n",
    "my_slice = slice(2, 6)\n",
    "replace_with(my_list, my_slice, 8)\n",
    "my_list"
   ]
  }
 ],
 "metadata": {
  "jupytext": {
   "cell_metadata_json": true,
   "encoding": "# -*- coding: utf-8 -*-",
   "formats": "ipynb"
  },
  "kernelspec": {
   "display_name": "Python 3 (ipykernel)",
   "language": "python",
   "name": "python3"
  }
 },
 "nbformat": 4,
 "nbformat_minor": 5
}
