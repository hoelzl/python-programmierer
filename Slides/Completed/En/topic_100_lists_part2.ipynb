{
 "cells": [
  {
   "cell_type": "markdown",
   "id": "400454e5",
   "metadata": {
    "lang": "en",
    "lines_to_next_cell": 2,
    "slideshow": {
     "slide_type": "slide"
    }
   },
   "source": [
    "<img src=\"img/python-logo-notext.svg\"\n",
    "     style=\"display:block;margin:auto;width:10%\"/>\n",
    "<br>\n",
    "<div style=\"text-align:center; font-size:200%;\"><b>Lists in Depth</b></div>\n",
    "<br/>\n",
    "<div style=\"text-align:center;\">Dr. Matthias Hölzl</div>"
   ]
  },
  {
   "cell_type": "markdown",
   "id": "b022c251",
   "metadata": {
    "lang": "en",
    "slideshow": {
     "slide_type": "slide"
    }
   },
   "source": [
    "# Lists\n",
    "\n",
    "Recall:\n",
    "\n",
    "- List literals are enclosed in square brackets\n",
    "- Other sequences can be converted to lists using `list`"
   ]
  },
  {
   "cell_type": "code",
   "execution_count": null,
   "id": "35cb9af8",
   "metadata": {},
   "outputs": [],
   "source": [
    "[\"a\", \"b\", \"c\"]"
   ]
  },
  {
   "cell_type": "code",
   "execution_count": null,
   "id": "a039618e",
   "metadata": {
    "tags": [
     "code-along"
    ]
   },
   "outputs": [],
   "source": [
    "list(\"abcde\")"
   ]
  },
  {
   "cell_type": "markdown",
   "id": "4d45ddbd",
   "metadata": {
    "lang": "en",
    "slideshow": {
     "slide_type": "subslide"
    }
   },
   "source": [
    "## Mini workshop\n",
    "\n",
    "- Notebook `workshop_060_introduction_part2`\n",
    "- Section \"Printing square numbers\""
   ]
  },
  {
   "cell_type": "markdown",
   "id": "7f798c97",
   "metadata": {
    "lang": "en",
    "slideshow": {
     "slide_type": "subslide"
    }
   },
   "source": [
    "## Properties of lists\n",
    "\n",
    "- Lists can store arbitrary Python values\n",
    "- Elements in a list have a fixed order\n",
    "- Elements of a list can be accessed by index\n",
    "- Lists can be modified\n",
    "\n",
    "Lists can contain elements of different types, but most lists contain elements of a single type."
   ]
  },
  {
   "cell_type": "code",
   "execution_count": null,
   "id": "98b96a05",
   "metadata": {
    "slideshow": {
     "slide_type": "subslide"
    }
   },
   "outputs": [],
   "source": [
    "stringliste = [\"a\", \"b\", \"c\"]"
   ]
  },
  {
   "cell_type": "code",
   "execution_count": null,
   "id": "f7287e54",
   "metadata": {
    "tags": [
     "code-along"
    ]
   },
   "outputs": [],
   "source": [
    "stringliste[0]"
   ]
  },
  {
   "cell_type": "code",
   "execution_count": null,
   "id": "b7fe8c14",
   "metadata": {
    "tags": [
     "code-along"
    ]
   },
   "outputs": [],
   "source": [
    "stringliste[-1]"
   ]
  },
  {
   "cell_type": "markdown",
   "id": "3ef3c4f4",
   "metadata": {
    "lang": "en",
    "slideshow": {
     "slide_type": "subslide"
    }
   },
   "source": [
    "### Check if an item is in a list"
   ]
  },
  {
   "cell_type": "code",
   "execution_count": null,
   "id": "316007ed",
   "metadata": {
    "tags": [
     "code-along"
    ]
   },
   "outputs": [],
   "source": [
    "2 in [1, 2, 3]"
   ]
  },
  {
   "cell_type": "code",
   "execution_count": null,
   "id": "46987932",
   "metadata": {
    "tags": [
     "code-along"
    ]
   },
   "outputs": [],
   "source": [
    "not (2 in [1, 3, 5])"
   ]
  },
  {
   "cell_type": "code",
   "execution_count": null,
   "id": "469880f4",
   "metadata": {
    "tags": [
     "code-along"
    ]
   },
   "outputs": [],
   "source": [
    "2 not in [1, 3, 5]"
   ]
  },
  {
   "cell_type": "markdown",
   "id": "9b33ec27",
   "metadata": {
    "lang": "en",
    "slideshow": {
     "slide_type": "subslide"
    }
   },
   "source": [
    "### Find the position of an element"
   ]
  },
  {
   "cell_type": "code",
   "execution_count": null,
   "id": "f43d10b9",
   "metadata": {
    "tags": [
     "code-along"
    ]
   },
   "outputs": [],
   "source": [
    "[1, 2, 3, 2, 4].index(2)"
   ]
  },
  {
   "cell_type": "code",
   "execution_count": null,
   "id": "2348e5c6",
   "metadata": {},
   "outputs": [],
   "source": [
    "my_list = [\"a\", \"b\", \"c\", \"d\", \"b\", \"d\", \"b\"]"
   ]
  },
  {
   "cell_type": "code",
   "execution_count": null,
   "id": "c9d805d1",
   "metadata": {
    "tags": [
     "code-along"
    ]
   },
   "outputs": [],
   "source": [
    "my_index = my_list.index(\"b\")\n",
    "print(my_index)\n",
    "my_list[my_index]"
   ]
  },
  {
   "cell_type": "code",
   "execution_count": null,
   "id": "b7ac5a8e",
   "metadata": {
    "tags": [
     "code-along"
    ]
   },
   "outputs": [],
   "source": [
    "# Fehler\n",
    "# [1, 3, 5].index(2)"
   ]
  },
  {
   "cell_type": "markdown",
   "id": "fcb40b06",
   "metadata": {
    "lang": "en",
    "slideshow": {
     "slide_type": "subslide"
    }
   },
   "source": [
    "## Micro workshop:\n",
    "\n",
    "The `index` method throws an exception if the searched object does not\n",
    "appear in the list. Write a function\n",
    "```\n",
    "find(item, a_list)\n",
    "```\n",
    "\n",
    "- which returns an index if the element `element` is in the list, and\n",
    "- returns `None` if it is not"
   ]
  },
  {
   "cell_type": "code",
   "execution_count": null,
   "id": "32c7f296",
   "metadata": {
    "slideshow": {
     "slide_type": "subslide"
    },
    "tags": [
     "code-along"
    ]
   },
   "outputs": [],
   "source": [
    "def find(element, a_list):\n",
    "    if element in a_list:\n",
    "        return a_list.index(element)\n",
    "    else:\n",
    "        return None"
   ]
  },
  {
   "cell_type": "code",
   "execution_count": null,
   "id": "2eecb25c",
   "metadata": {
    "slideshow": {
     "slide_type": "subslide"
    }
   },
   "outputs": [],
   "source": [
    "my_list = [\"a\", \"b\", \"c\", \"d\", \"e\"]"
   ]
  },
  {
   "cell_type": "code",
   "execution_count": null,
   "id": "68de618e",
   "metadata": {
    "slideshow": {
     "slide_type": "-"
    },
    "tags": [
     "code-along"
    ]
   },
   "outputs": [],
   "source": [
    "find(\"a\", my_list)"
   ]
  },
  {
   "cell_type": "code",
   "execution_count": null,
   "id": "97e9eb0b",
   "metadata": {
    "tags": [
     "code-along"
    ]
   },
   "outputs": [],
   "source": [
    "find(\"d\", my_list)"
   ]
  },
  {
   "cell_type": "code",
   "execution_count": null,
   "id": "a8eceff3",
   "metadata": {
    "tags": [
     "code-along"
    ]
   },
   "outputs": [],
   "source": [
    "print(find(\"x\", my_list))"
   ]
  },
  {
   "cell_type": "markdown",
   "id": "d4591810",
   "metadata": {
    "lang": "en",
    "slideshow": {
     "slide_type": "subslide"
    }
   },
   "source": [
    "### Modification of elements"
   ]
  },
  {
   "cell_type": "code",
   "execution_count": null,
   "id": "cfd69434",
   "metadata": {},
   "outputs": [],
   "source": [
    "stringliste"
   ]
  },
  {
   "cell_type": "code",
   "execution_count": null,
   "id": "1570d4e4",
   "metadata": {
    "tags": [
     "code-along"
    ]
   },
   "outputs": [],
   "source": [
    "stringliste[0] = \"A\""
   ]
  },
  {
   "cell_type": "code",
   "execution_count": null,
   "id": "b50cfb7f",
   "metadata": {},
   "outputs": [],
   "source": [
    "stringliste"
   ]
  },
  {
   "cell_type": "markdown",
   "id": "8110cb0f",
   "metadata": {
    "lang": "en",
    "slideshow": {
     "slide_type": "subslide"
    }
   },
   "source": [
    "### Inserting and appending elements"
   ]
  },
  {
   "cell_type": "code",
   "execution_count": null,
   "id": "0c030ea9",
   "metadata": {},
   "outputs": [],
   "source": [
    "stringliste"
   ]
  },
  {
   "cell_type": "code",
   "execution_count": null,
   "id": "7aba7076",
   "metadata": {
    "tags": [
     "code-along"
    ]
   },
   "outputs": [],
   "source": [
    "stringliste.append(\"D\")"
   ]
  },
  {
   "cell_type": "code",
   "execution_count": null,
   "id": "4bf93f7a",
   "metadata": {},
   "outputs": [],
   "source": [
    "stringliste"
   ]
  },
  {
   "cell_type": "code",
   "execution_count": null,
   "id": "4435a4ac",
   "metadata": {
    "slideshow": {
     "slide_type": "subslide"
    },
    "tags": [
     "code-along"
    ]
   },
   "outputs": [],
   "source": [
    "stringliste + [\"E\", \"F\"]"
   ]
  },
  {
   "cell_type": "code",
   "execution_count": null,
   "id": "458713ed",
   "metadata": {},
   "outputs": [],
   "source": [
    "stringliste"
   ]
  },
  {
   "cell_type": "code",
   "execution_count": null,
   "id": "193d9fe3",
   "metadata": {
    "tags": [
     "code-along"
    ]
   },
   "outputs": [],
   "source": [
    "stringliste.extend([\"E\", \"F\"])"
   ]
  },
  {
   "cell_type": "code",
   "execution_count": null,
   "id": "c578174d",
   "metadata": {
    "slideshow": {
     "slide_type": "subslide"
    }
   },
   "outputs": [],
   "source": [
    "stringliste"
   ]
  },
  {
   "cell_type": "code",
   "execution_count": null,
   "id": "08dd38c9",
   "metadata": {
    "tags": [
     "code-along"
    ]
   },
   "outputs": [],
   "source": [
    "stringliste.insert(1, \"Y\")"
   ]
  },
  {
   "cell_type": "code",
   "execution_count": null,
   "id": "ef020404",
   "metadata": {},
   "outputs": [],
   "source": [
    "stringliste"
   ]
  },
  {
   "cell_type": "code",
   "execution_count": null,
   "id": "c05f821b",
   "metadata": {
    "slideshow": {
     "slide_type": "subslide"
    },
    "tags": [
     "code-along"
    ]
   },
   "outputs": [],
   "source": [
    "stringliste.insert(0, \"ANFANG\")"
   ]
  },
  {
   "cell_type": "code",
   "execution_count": null,
   "id": "bca11b86",
   "metadata": {},
   "outputs": [],
   "source": [
    "stringliste"
   ]
  },
  {
   "cell_type": "code",
   "execution_count": null,
   "id": "211c8e8b",
   "metadata": {
    "tags": [
     "code-along"
    ]
   },
   "outputs": [],
   "source": [
    "# Vorsicht!\n",
    "stringliste.insert(-1, \"ENDE\")"
   ]
  },
  {
   "cell_type": "code",
   "execution_count": null,
   "id": "017d0bb9",
   "metadata": {},
   "outputs": [],
   "source": [
    "stringliste"
   ]
  },
  {
   "cell_type": "markdown",
   "id": "650f2c67",
   "metadata": {
    "lang": "en",
    "slideshow": {
     "slide_type": "subslide"
    }
   },
   "source": [
    "### Removing elements"
   ]
  },
  {
   "cell_type": "code",
   "execution_count": null,
   "id": "b7000845",
   "metadata": {},
   "outputs": [],
   "source": [
    "stringliste = [\"ANFANG\", \"A\", \"Y\", \"b\", \"c\", \"D\", \"E\", \"ENDE\", \"F\"]\n",
    "stringliste[7]"
   ]
  },
  {
   "cell_type": "code",
   "execution_count": null,
   "id": "324fc693",
   "metadata": {
    "tags": [
     "code-along"
    ]
   },
   "outputs": [],
   "source": [
    "del stringliste[7]"
   ]
  },
  {
   "cell_type": "code",
   "execution_count": null,
   "id": "3469a790",
   "metadata": {},
   "outputs": [],
   "source": [
    "stringliste"
   ]
  },
  {
   "cell_type": "markdown",
   "id": "fd86d7af",
   "metadata": {
    "lang": "en",
    "slideshow": {
     "slide_type": "subslide"
    }
   },
   "source": [
    "### Length of a list"
   ]
  },
  {
   "cell_type": "code",
   "execution_count": null,
   "id": "1e772a58",
   "metadata": {},
   "outputs": [],
   "source": [
    "stringliste"
   ]
  },
  {
   "cell_type": "code",
   "execution_count": null,
   "id": "77dfab35",
   "metadata": {
    "tags": [
     "code-along"
    ]
   },
   "outputs": [],
   "source": [
    "len(stringliste)"
   ]
  },
  {
   "cell_type": "code",
   "execution_count": null,
   "id": "86f51e56",
   "metadata": {
    "tags": [
     "code-along"
    ]
   },
   "outputs": [],
   "source": [
    "stringliste.insert(len(stringliste), \"WIRKLICH DAS ENDE\")"
   ]
  },
  {
   "cell_type": "code",
   "execution_count": null,
   "id": "f2837fc2",
   "metadata": {},
   "outputs": [],
   "source": [
    "stringliste"
   ]
  },
  {
   "cell_type": "code",
   "execution_count": null,
   "id": "98da9c85",
   "metadata": {
    "tags": [
     "code-along"
    ]
   },
   "outputs": [],
   "source": [
    "# Vorsicht\n",
    "# stringliste[len(stringliste)]"
   ]
  },
  {
   "cell_type": "markdown",
   "id": "066bd2a2",
   "metadata": {
    "lang": "en",
    "slideshow": {
     "slide_type": "subslide"
    }
   },
   "source": [
    "## Mini workshop\n",
    "\n",
    "- Notebook `workshop_100_lists_part2`\n",
    "- Section Colors"
   ]
  },
  {
   "cell_type": "markdown",
   "id": "f606277a",
   "metadata": {
    "lang": "en",
    "slideshow": {
     "slide_type": "slide"
    }
   },
   "source": [
    "## Creating lists\n",
    "\n",
    "The multiplication operator `*` allows the elements of a list\n",
    "be repeated:"
   ]
  },
  {
   "cell_type": "code",
   "execution_count": null,
   "id": "07c79e5c",
   "metadata": {
    "tags": [
     "code-along"
    ]
   },
   "outputs": [],
   "source": [
    "[1, 2] * 3"
   ]
  },
  {
   "cell_type": "code",
   "execution_count": null,
   "id": "cdc1f8a1",
   "metadata": {
    "tags": [
     "code-along"
    ]
   },
   "outputs": [],
   "source": [
    "3 * [\"a\", \"b\"]"
   ]
  },
  {
   "cell_type": "code",
   "execution_count": null,
   "id": "7b9f7bb9",
   "metadata": {
    "tags": [
     "code-along"
    ]
   },
   "outputs": [],
   "source": [
    "[0] * 10"
   ]
  },
  {
   "cell_type": "markdown",
   "id": "20288cef",
   "metadata": {
    "lang": "en",
    "slideshow": {
     "slide_type": "slide"
    }
   },
   "source": [
    "## Slicing\n",
    "\n",
    "With the notation `list[m:n]` you can extract a \"sublist\" of `list`.\n",
    "\n",
    "- The first element is `list[m]`\n",
    "- The last element is `list[n-1]`"
   ]
  },
  {
   "cell_type": "code",
   "execution_count": null,
   "id": "38d731c7",
   "metadata": {
    "slideshow": {
     "slide_type": "subslide"
    }
   },
   "outputs": [],
   "source": [
    "stringliste = [\"a\", \"b\", \"c\", \"d\", \"e\"]"
   ]
  },
  {
   "cell_type": "code",
   "execution_count": null,
   "id": "f6e7c892",
   "metadata": {
    "tags": [
     "code-along"
    ]
   },
   "outputs": [],
   "source": [
    "stringliste[1:3]"
   ]
  },
  {
   "cell_type": "code",
   "execution_count": null,
   "id": "5d85453b",
   "metadata": {
    "tags": [
     "code-along"
    ]
   },
   "outputs": [],
   "source": [
    "stringliste[1:1]"
   ]
  },
  {
   "cell_type": "code",
   "execution_count": null,
   "id": "f52ebf74",
   "metadata": {
    "tags": [
     "code-along"
    ]
   },
   "outputs": [],
   "source": [
    "stringliste[0 : len(stringliste)]"
   ]
  },
  {
   "cell_type": "code",
   "execution_count": null,
   "id": "3265a963",
   "metadata": {
    "slideshow": {
     "slide_type": "subslide"
    },
    "tags": [
     "code-along"
    ]
   },
   "outputs": [],
   "source": [
    "stringliste[:3]"
   ]
  },
  {
   "cell_type": "code",
   "execution_count": null,
   "id": "6d5263c2",
   "metadata": {
    "tags": [
     "code-along"
    ]
   },
   "outputs": [],
   "source": [
    "stringliste[1:]"
   ]
  },
  {
   "cell_type": "code",
   "execution_count": null,
   "id": "917ea2db",
   "metadata": {
    "tags": [
     "code-along"
    ]
   },
   "outputs": [],
   "source": [
    "stringliste[:]"
   ]
  },
  {
   "cell_type": "markdown",
   "id": "4a228287",
   "metadata": {
    "lang": "en"
   },
   "source": [
    "## Mini workshop\n",
    "\n",
    "- Notebook `workshop_100_lists_part2`\n",
    "- Section \"Slicing\""
   ]
  },
  {
   "cell_type": "markdown",
   "id": "45261d91",
   "metadata": {
    "lang": "en",
    "slideshow": {
     "slide_type": "slide"
    }
   },
   "source": [
    "## Assignment to slices\n",
    "\n",
    "You can assign values to slices:"
   ]
  },
  {
   "cell_type": "code",
   "execution_count": null,
   "id": "79c2d5a2",
   "metadata": {
    "tags": [
     "code-along"
    ]
   },
   "outputs": [],
   "source": [
    "liste = [1, 2, 3, 4]\n",
    "liste[1:3]"
   ]
  },
  {
   "cell_type": "code",
   "execution_count": null,
   "id": "d5463d9a",
   "metadata": {
    "tags": [
     "code-along"
    ]
   },
   "outputs": [],
   "source": [
    "liste[1:3] = [\"a\", \"b\", \"c\"]\n",
    "liste"
   ]
  },
  {
   "cell_type": "code",
   "execution_count": null,
   "id": "f9e42e9a",
   "metadata": {
    "tags": [
     "code-along"
    ]
   },
   "outputs": [],
   "source": [
    "liste[2:2]"
   ]
  },
  {
   "cell_type": "code",
   "execution_count": null,
   "id": "30dc0618",
   "metadata": {
    "tags": [
     "code-along"
    ]
   },
   "outputs": [],
   "source": [
    "liste[2:2] = [\"x\"]\n",
    "liste"
   ]
  },
  {
   "cell_type": "code",
   "execution_count": null,
   "id": "a596dd2d",
   "metadata": {
    "slideshow": {
     "slide_type": "subslide"
    },
    "tags": [
     "code-along"
    ]
   },
   "outputs": [],
   "source": [
    "liste[:] = [11, 22, 33]\n",
    "liste"
   ]
  },
  {
   "cell_type": "markdown",
   "id": "fa677923",
   "metadata": {
    "lang": "en",
    "slideshow": {
     "slide_type": "slide"
    }
   },
   "source": [
    "## Slices as objects\n",
    "\n",
    "Slices are themselves Python objects. However, outside the indexing operation `[]`\n",
    "they cannot be created with the notation `a:b`, but only\n",
    "with the constructor function `slice()`."
   ]
  },
  {
   "cell_type": "code",
   "execution_count": null,
   "id": "7c5b3f6c",
   "metadata": {
    "lines_to_next_cell": 2,
    "slideshow": {
     "slide_type": "-"
    }
   },
   "outputs": [],
   "source": [
    "my_list = [1, 2, 3, 4, 5, 6]\n",
    "print(my_list[2:4])"
   ]
  },
  {
   "cell_type": "code",
   "execution_count": null,
   "id": "52f12344",
   "metadata": {
    "tags": [
     "code-along"
    ]
   },
   "outputs": [],
   "source": [
    "my_slice = slice(2, 4)\n",
    "print(my_list[my_slice])"
   ]
  },
  {
   "cell_type": "code",
   "execution_count": null,
   "id": "3a13e30a",
   "metadata": {
    "slideshow": {
     "slide_type": "subslide"
    }
   },
   "outputs": [],
   "source": [
    "print(my_list[:3])"
   ]
  },
  {
   "cell_type": "code",
   "execution_count": null,
   "id": "aaf99201",
   "metadata": {
    "tags": [
     "code-along"
    ]
   },
   "outputs": [],
   "source": [
    "my_slice = slice(None, 3)\n",
    "print(my_list[my_slice])"
   ]
  },
  {
   "cell_type": "markdown",
   "id": "2a53f6ba",
   "metadata": {
    "lang": "en",
    "slideshow": {
     "slide_type": "subslide"
    }
   },
   "source": [
    "The `indices()` method of a slice object can be used to\n",
    "determine which indices the slice contains:"
   ]
  },
  {
   "cell_type": "code",
   "execution_count": null,
   "id": "f979761c",
   "metadata": {},
   "outputs": [],
   "source": [
    "my_slice = slice(None, 3)\n",
    "print(my_slice.indices(len(my_list)))"
   ]
  },
  {
   "cell_type": "markdown",
   "id": "7d82f15f",
   "metadata": {
    "lang": "en"
   },
   "source": [
    "With this we can write a function that replaces all the elements of a slice\n",
    "with a given value:"
   ]
  },
  {
   "cell_type": "code",
   "execution_count": null,
   "id": "130ede3c",
   "metadata": {
    "slideshow": {
     "slide_type": "subslide"
    }
   },
   "outputs": [],
   "source": [
    "def replace_with(my_list, my_slice, value):\n",
    "    import math\n",
    "\n",
    "    start, stop, stride = my_slice.indices(len(my_list))\n",
    "    num_values = math.ceil((stop - start) / stride)\n",
    "    my_list[my_slice] = [value] * num_values"
   ]
  },
  {
   "cell_type": "code",
   "execution_count": null,
   "id": "1f44c98b",
   "metadata": {
    "slideshow": {
     "slide_type": "subslide"
    }
   },
   "outputs": [],
   "source": [
    "my_list = [1, 2, 3, 4, 5, 6]\n",
    "my_slice = slice(2, 6)\n",
    "replace_with(my_list, my_slice, 8)\n",
    "my_list"
   ]
  }
 ],
 "metadata": {
  "jupytext": {
   "cell_metadata_json": true,
   "encoding": "# -*- coding: utf-8 -*-",
   "formats": "ipynb"
  },
  "kernelspec": {
   "display_name": "Python 3 (ipykernel)",
   "language": "python",
   "name": "python3"
  }
 },
 "nbformat": 4,
 "nbformat_minor": 5
}
