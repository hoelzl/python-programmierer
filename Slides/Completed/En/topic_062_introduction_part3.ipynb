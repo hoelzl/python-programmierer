{
 "cells": [
  {
   "cell_type": "markdown",
   "id": "35cc8081",
   "metadata": {
    "lang": "en",
    "lines_to_next_cell": 2,
    "slideshow": {
     "slide_type": "slide"
    }
   },
   "source": [
    "<img src=\"img/python-logo-notext.svg\"\n",
    "     style=\"display:block;margin:auto;width:10%\"/>\n",
    "<br>\n",
    "<div style=\"text-align:center; font-size:200%;\"><b>Introduction to Python: Part 3</b></div>\n",
    "<br/>\n",
    "<div style=\"text-align:center;\">Dr. Matthias Hölzl</div>"
   ]
  },
  {
   "cell_type": "markdown",
   "id": "bc2c5d55",
   "metadata": {
    "lang": "en",
    "slideshow": {
     "slide_type": "slide"
    }
   },
   "source": [
    "## Any number of arguments:\n",
    "\n",
    "You can define functions that can take any number of arguments:"
   ]
  },
  {
   "cell_type": "code",
   "execution_count": null,
   "id": "4c7e1e82",
   "metadata": {
    "tags": [
     "code-along"
    ]
   },
   "outputs": [],
   "source": [
    "def my_add(*args):\n",
    "    result = 0\n",
    "    for i in args:\n",
    "        result += i\n",
    "    return result"
   ]
  },
  {
   "cell_type": "code",
   "execution_count": null,
   "id": "1d3c45ab",
   "metadata": {
    "tags": [
     "code-along"
    ]
   },
   "outputs": [],
   "source": [
    "my_add(1, 2, 3, 4, 5, 6)"
   ]
  },
  {
   "cell_type": "markdown",
   "id": "e2f672a8",
   "metadata": {
    "lang": "en"
   },
   "source": [
    "## Micro workshop\n",
    "\n",
    "Write a function `print_lines(*args)` that can take any number of arguments and prints them all, one argument per line:\n",
    "```\n",
    ">>> print_lines(\"hey\", \"you\")\n",
    "hey\n",
    "you\n",
    "```"
   ]
  },
  {
   "cell_type": "code",
   "execution_count": null,
   "id": "46cd7fd5",
   "metadata": {
    "tags": [
     "code-along"
    ]
   },
   "outputs": [],
   "source": [
    "def print_lines(*args):\n",
    "    for arg in args:\n",
    "        print(arg)"
   ]
  },
  {
   "cell_type": "code",
   "execution_count": null,
   "id": "7d4243db",
   "metadata": {
    "tags": [
     "code-along"
    ]
   },
   "outputs": [],
   "source": [
    "print_lines(\"hey\", \"you\")"
   ]
  },
  {
   "cell_type": "markdown",
   "id": "f78834ad",
   "metadata": {
    "lang": "en",
    "slideshow": {
     "slide_type": "slide"
    }
   },
   "source": [
    "This can also be combined with other arguments:"
   ]
  },
  {
   "cell_type": "code",
   "execution_count": null,
   "id": "49fa4445",
   "metadata": {
    "tags": [
     "code-along"
    ]
   },
   "outputs": [],
   "source": [
    "def add_more_than_two(x, y, *more_args):\n",
    "    result = x + y\n",
    "    for i in more_args:\n",
    "        result += i\n",
    "    return result"
   ]
  },
  {
   "cell_type": "code",
   "execution_count": null,
   "id": "67737129",
   "metadata": {
    "tags": [
     "code-along"
    ]
   },
   "outputs": [],
   "source": [
    "add_more_than_two(1, 2, 3, 4, 5, 6)"
   ]
  },
  {
   "cell_type": "code",
   "execution_count": null,
   "id": "291f94b6",
   "metadata": {
    "tags": [
     "code-along"
    ]
   },
   "outputs": [],
   "source": [
    "add_more_than_two(1, 2)"
   ]
  },
  {
   "cell_type": "code",
   "execution_count": null,
   "id": "ef6cc9c8",
   "metadata": {
    "tags": [
     "code-along"
    ]
   },
   "outputs": [],
   "source": [
    "# add_more_than_two(1)"
   ]
  },
  {
   "cell_type": "markdown",
   "id": "a421b24e",
   "metadata": {
    "lang": "en",
    "slideshow": {
     "slide_type": "slide"
    }
   },
   "source": [
    "## Any number of named arguments:\n",
    "\n",
    "Likewise, a function can have any number of named arguments:"
   ]
  },
  {
   "cell_type": "code",
   "execution_count": null,
   "id": "297a4aa4",
   "metadata": {
    "tags": [
     "code-along"
    ]
   },
   "outputs": [],
   "source": [
    "def my_keys(**kwargs):\n",
    "    print(\"Keyword arguments:\", kwargs)"
   ]
  },
  {
   "cell_type": "code",
   "execution_count": null,
   "id": "36947215",
   "metadata": {
    "tags": [
     "code-along"
    ]
   },
   "outputs": [],
   "source": [
    "my_keys(x=1, y=2)"
   ]
  },
  {
   "cell_type": "markdown",
   "id": "c6d04915",
   "metadata": {
    "lang": "en"
   },
   "source": [
    "It is possible to combine these two features:"
   ]
  },
  {
   "cell_type": "code",
   "execution_count": null,
   "id": "1222e9e8",
   "metadata": {
    "tags": [
     "code-along"
    ]
   },
   "outputs": [],
   "source": [
    "def takes_arbitrary_args(*args, **kwargs):\n",
    "    print(\"Positional argsuments:\", args)\n",
    "    print(\"Keyword arguments:    \", kwargs)"
   ]
  },
  {
   "cell_type": "code",
   "execution_count": null,
   "id": "d1a75244",
   "metadata": {
    "lines_to_next_cell": 2,
    "tags": [
     "code-along"
    ]
   },
   "outputs": [],
   "source": [
    "takes_arbitrary_args(1, \"foo\", a=\"alpha\", b=\"beta\")"
   ]
  },
  {
   "cell_type": "markdown",
   "id": "1442331c",
   "metadata": {
    "lang": "en",
    "slideshow": {
     "slide_type": "subslide"
    }
   },
   "source": [
    "## Micro workshop\n",
    "\n",
    "Write a function `print_named_lines(**kwargs)` that can take any number of\n",
    "Keyword arguments and prints them in the following form:\n",
    "```python\n",
    ">>> print_named_lines(foo=\"My Foo\", bar=\"My Bar\", quux=\"My Quux\")\n",
    "Key: foo -- value: My Foo\n",
    "Key: bar -- value: My Bar\n",
    "Key: quux -- value: My Quux\n",
    "```"
   ]
  },
  {
   "cell_type": "code",
   "execution_count": null,
   "id": "e7db13d5",
   "metadata": {
    "tags": [
     "code-along"
    ]
   },
   "outputs": [],
   "source": [
    "def print_named_lines(**kwargs):\n",
    "    for k, v in kwargs.items():\n",
    "        print(\"Key:\", k, \"-- value:\", v)"
   ]
  },
  {
   "cell_type": "code",
   "execution_count": null,
   "id": "e4407f22",
   "metadata": {
    "tags": [
     "code-along"
    ]
   },
   "outputs": [],
   "source": [
    "print_named_lines(foo=\"My Foo\", bar=\"My Bar\", quux=\"My Quux\")"
   ]
  },
  {
   "cell_type": "markdown",
   "id": "5261de3b",
   "metadata": {
    "lang": "en",
    "slideshow": {
     "slide_type": "slide"
    }
   },
   "source": [
    "## \"Splicing\" of arguments\n",
    "\n",
    "- If you have a list `args`, you can pass its values as positional arguments using the syntax `*args`.\n",
    "- If you have a dictionary `kwargs`, you can pass its key-value pairs as named arguments with the syntax `**kwargs`:"
   ]
  },
  {
   "cell_type": "code",
   "execution_count": null,
   "id": "161d433d",
   "metadata": {
    "tags": [
     "code-along"
    ]
   },
   "outputs": [],
   "source": [
    "def add(x, y):\n",
    "    return x + y"
   ]
  },
  {
   "cell_type": "code",
   "execution_count": null,
   "id": "9f563adf",
   "metadata": {
    "tags": [
     "code-along"
    ]
   },
   "outputs": [],
   "source": [
    "my_list = [3, 4]"
   ]
  },
  {
   "cell_type": "code",
   "execution_count": null,
   "id": "6fba4833",
   "metadata": {
    "tags": [
     "code-along"
    ]
   },
   "outputs": [],
   "source": [
    "# add(my_list)"
   ]
  },
  {
   "cell_type": "code",
   "execution_count": null,
   "id": "1e300b69",
   "metadata": {
    "tags": [
     "code-along"
    ]
   },
   "outputs": [],
   "source": [
    "add(my_list[0], my_list[1])"
   ]
  },
  {
   "cell_type": "code",
   "execution_count": null,
   "id": "adc2dbd1",
   "metadata": {
    "tags": [
     "code-along"
    ]
   },
   "outputs": [],
   "source": [
    "add(*my_list)"
   ]
  },
  {
   "cell_type": "code",
   "execution_count": null,
   "id": "d3f4b3b8",
   "metadata": {
    "slideshow": {
     "slide_type": "subslide"
    },
    "tags": [
     "code-along"
    ]
   },
   "outputs": [],
   "source": [
    "my_dict = {\"a\": \"alpha\", \"b\": \"beta\"}"
   ]
  },
  {
   "cell_type": "code",
   "execution_count": null,
   "id": "1b27794d",
   "metadata": {
    "tags": [
     "code-along"
    ]
   },
   "outputs": [],
   "source": [
    "takes_arbitrary_args(my_list, my_dict)"
   ]
  },
  {
   "cell_type": "code",
   "execution_count": null,
   "id": "a52748b3",
   "metadata": {
    "tags": [
     "code-along"
    ]
   },
   "outputs": [],
   "source": [
    "takes_arbitrary_args(*my_list, **my_dict)"
   ]
  },
  {
   "cell_type": "code",
   "execution_count": null,
   "id": "1a601c92",
   "metadata": {
    "tags": [
     "code-along"
    ]
   },
   "outputs": [],
   "source": [
    "takes_arbitrary_args(3, 4, a=\"alpha\", b=\"beta\")"
   ]
  },
  {
   "cell_type": "markdown",
   "id": "d944bf97",
   "metadata": {
    "lang": "en",
    "slideshow": {
     "slide_type": "slide"
    }
   },
   "source": [
    "## Multiple return values\n",
    "\n",
    "As shown above, you can define multiple variables in one step:"
   ]
  },
  {
   "cell_type": "code",
   "execution_count": null,
   "id": "779babea",
   "metadata": {
    "tags": [
     "code-along"
    ]
   },
   "outputs": [],
   "source": [
    "ergebnis, rest = 10, 2"
   ]
  },
  {
   "cell_type": "code",
   "execution_count": null,
   "id": "31bb7ac0",
   "metadata": {
    "tags": [
     "code-along"
    ]
   },
   "outputs": [],
   "source": [
    "print(ergebnis)\n",
    "print(rest)"
   ]
  },
  {
   "cell_type": "markdown",
   "id": "b7468e15",
   "metadata": {
    "lang": "en",
    "slideshow": {
     "slide_type": "subslide"
    }
   },
   "source": [
    "- This is particularly useful for functions that are closely related\n",
    "  calculate values.\n",
    "- You can return multiple values ​​with `return value1, value2`"
   ]
  },
  {
   "cell_type": "code",
   "execution_count": null,
   "id": "66963d97",
   "metadata": {
    "tags": [
     "code-along"
    ]
   },
   "outputs": [],
   "source": [
    "def zwei_werte(a, b):\n",
    "    return a + 1, b + 2"
   ]
  },
  {
   "cell_type": "code",
   "execution_count": null,
   "id": "08741d51",
   "metadata": {
    "tags": [
     "code-along"
    ]
   },
   "outputs": [],
   "source": [
    "erster_wert, zweiter_wert = zwei_werte(1, 2)\n",
    "print(erster_wert)\n",
    "print(zweiter_wert)"
   ]
  },
  {
   "cell_type": "code",
   "execution_count": null,
   "id": "51836c06",
   "metadata": {
    "slideshow": {
     "slide_type": "subslide"
    },
    "tags": [
     "code-along"
    ]
   },
   "outputs": [],
   "source": [
    "def division_mit_rest(m, n):\n",
    "    ergebnis = m // n\n",
    "    rest = m % n\n",
    "    return ergebnis, rest"
   ]
  },
  {
   "cell_type": "code",
   "execution_count": null,
   "id": "5d3c01b4",
   "metadata": {
    "tags": [
     "code-along"
    ]
   },
   "outputs": [],
   "source": [
    "e, r = division_mit_rest(17, 7)\n",
    "print(e)\n",
    "print(r)"
   ]
  },
  {
   "cell_type": "code",
   "execution_count": null,
   "id": "29ac7ade",
   "metadata": {
    "tags": [
     "code-along"
    ]
   },
   "outputs": [],
   "source": [
    "# Kürzer\n",
    "def division_mit_rest_2(m, n):\n",
    "    return m // n, m % n"
   ]
  },
  {
   "cell_type": "code",
   "execution_count": null,
   "id": "cce30548",
   "metadata": {
    "tags": [
     "code-along"
    ]
   },
   "outputs": [],
   "source": [
    "e, r = division_mit_rest_2(17, 7)\n",
    "print(e)\n",
    "print(r)"
   ]
  },
  {
   "cell_type": "markdown",
   "id": "e5fb3487",
   "metadata": {
    "lang": "en",
    "slideshow": {
     "slide_type": "subslide"
    }
   },
   "source": [
    "(Python has a built-in function `divmod` that performs this calculation)"
   ]
  },
  {
   "cell_type": "code",
   "execution_count": null,
   "id": "10d780ae",
   "metadata": {
    "tags": [
     "code-along"
    ]
   },
   "outputs": [],
   "source": [
    "e, r = divmod(17, 7)\n",
    "print(e)\n",
    "print(r)"
   ]
  },
  {
   "cell_type": "markdown",
   "id": "d3adca1a",
   "metadata": {
    "lang": "en",
    "slideshow": {
     "slide_type": "subslide"
    }
   },
   "source": [
    "## Mini workshop\n",
    "\n",
    "- Notebook `workshop_050_introduction_part1`\n",
    "- Section \"Pirates, Part 3\""
   ]
  },
  {
   "cell_type": "markdown",
   "id": "f877e5f4",
   "metadata": {
    "lang": "en",
    "slideshow": {
     "slide_type": "slide"
    }
   },
   "source": [
    "# Comparisons, Boolean values"
   ]
  },
  {
   "cell_type": "markdown",
   "id": "2402f6c2",
   "metadata": {
    "lang": "en"
   },
   "source": [
    "Equality of values ​​is tested with `==`:"
   ]
  },
  {
   "cell_type": "code",
   "execution_count": null,
   "id": "b5596da4",
   "metadata": {
    "tags": [
     "code-along"
    ]
   },
   "outputs": [],
   "source": [
    "1 == 1"
   ]
  },
  {
   "cell_type": "code",
   "execution_count": null,
   "id": "20cc9784",
   "metadata": {
    "tags": [
     "code-along"
    ]
   },
   "outputs": [],
   "source": [
    "1 == 2"
   ]
  },
  {
   "cell_type": "markdown",
   "id": "abfba698",
   "metadata": {
    "lang": "en",
    "slideshow": {
     "slide_type": "subslide"
    }
   },
   "source": [
    "The result of a comparison is a boolean value\n",
    "\n",
    "- `True`\n",
    "- `False`"
   ]
  },
  {
   "cell_type": "code",
   "execution_count": null,
   "id": "6c846864",
   "metadata": {
    "tags": [
     "code-along"
    ]
   },
   "outputs": [],
   "source": [
    "type(True)"
   ]
  },
  {
   "cell_type": "markdown",
   "id": "570f7d8a",
   "metadata": {
    "lang": "en",
    "slideshow": {
     "slide_type": "subslide"
    }
   },
   "source": [
    "## Equality of numbers"
   ]
  },
  {
   "cell_type": "code",
   "execution_count": null,
   "id": "1ac4c630",
   "metadata": {
    "tags": [
     "code-along"
    ]
   },
   "outputs": [],
   "source": [
    "1 == 1.0"
   ]
  },
  {
   "cell_type": "markdown",
   "id": "7952de7f",
   "metadata": {
    "lang": "en"
   },
   "source": [
    "Numbers can be written more clearly with underscores."
   ]
  },
  {
   "cell_type": "code",
   "execution_count": null,
   "id": "69556bf0",
   "metadata": {
    "tags": [
     "code-along"
    ]
   },
   "outputs": [],
   "source": [
    "0.000_000_1 * 10_000_000 == 1"
   ]
  },
  {
   "cell_type": "markdown",
   "id": "5e555aa3",
   "metadata": {
    "lang": "en",
    "slideshow": {
     "slide_type": "subslide"
    }
   },
   "source": [
    "Caution: rounding errors!"
   ]
  },
  {
   "cell_type": "code",
   "execution_count": null,
   "id": "3916414c",
   "metadata": {
    "tags": [
     "code-along"
    ]
   },
   "outputs": [],
   "source": [
    "1 / 10"
   ]
  },
  {
   "cell_type": "code",
   "execution_count": null,
   "id": "d038eb51",
   "metadata": {
    "tags": [
     "code-along"
    ]
   },
   "outputs": [],
   "source": [
    "1 / 100"
   ]
  },
  {
   "cell_type": "code",
   "execution_count": null,
   "id": "4c7cfbef",
   "metadata": {
    "tags": [
     "code-along"
    ]
   },
   "outputs": [],
   "source": [
    "(1 / 10) * (1 / 10) == (1 / 100)"
   ]
  },
  {
   "cell_type": "code",
   "execution_count": null,
   "id": "2b841234",
   "metadata": {
    "tags": [
     "code-along"
    ]
   },
   "outputs": [],
   "source": [
    "0.1 * 0.1"
   ]
  },
  {
   "cell_type": "code",
   "execution_count": null,
   "id": "38ef6c4b",
   "metadata": {
    "tags": [
     "code-along"
    ]
   },
   "outputs": [],
   "source": [
    "0.1 - 0.01"
   ]
  },
  {
   "cell_type": "code",
   "execution_count": null,
   "id": "6c09f4bf",
   "metadata": {
    "tags": [
     "code-along"
    ]
   },
   "outputs": [],
   "source": [
    "100 * 1.1"
   ]
  },
  {
   "cell_type": "markdown",
   "id": "52593305",
   "metadata": {
    "lang": "en",
    "slideshow": {
     "slide_type": "subslide"
    }
   },
   "source": [
    "## Inequality of numbers\n",
    "\n",
    "The `!=` operator tests whether two numbers are different"
   ]
  },
  {
   "cell_type": "code",
   "execution_count": null,
   "id": "e9d4bb2e",
   "metadata": {
    "tags": [
     "code-along"
    ]
   },
   "outputs": [],
   "source": [
    "1 != 1.0"
   ]
  },
  {
   "cell_type": "code",
   "execution_count": null,
   "id": "e5ce958f",
   "metadata": {
    "tags": [
     "code-along"
    ]
   },
   "outputs": [],
   "source": [
    "1 != 2"
   ]
  },
  {
   "cell_type": "markdown",
   "id": "0dc2781a",
   "metadata": {
    "lang": "en",
    "slideshow": {
     "slide_type": "subslide"
    }
   },
   "source": [
    "## Comparison of numbers"
   ]
  },
  {
   "cell_type": "code",
   "execution_count": null,
   "id": "0bc205eb",
   "metadata": {
    "tags": [
     "code-along"
    ]
   },
   "outputs": [],
   "source": [
    "1 < 2"
   ]
  },
  {
   "cell_type": "code",
   "execution_count": null,
   "id": "edb9ead1",
   "metadata": {
    "tags": [
     "code-along"
    ]
   },
   "outputs": [],
   "source": [
    "1 < 1"
   ]
  },
  {
   "cell_type": "code",
   "execution_count": null,
   "id": "a9bf6b5f",
   "metadata": {
    "tags": [
     "code-along"
    ]
   },
   "outputs": [],
   "source": [
    "1 <= 1"
   ]
  },
  {
   "cell_type": "code",
   "execution_count": null,
   "id": "a67bee1c",
   "metadata": {
    "incorrectly_encoded_metadata": "{\"slideshow\": {\"slide_type\": \"subslide\"}} tags=[\"code-along\"]"
   },
   "outputs": [],
   "source": [
    "1 > 2"
   ]
  },
  {
   "cell_type": "code",
   "execution_count": null,
   "id": "66269b53",
   "metadata": {
    "tags": [
     "code-along"
    ]
   },
   "outputs": [],
   "source": [
    "2 >= 1"
   ]
  },
  {
   "cell_type": "markdown",
   "id": "1c4b8835",
   "metadata": {
    "lang": "en",
    "slideshow": {
     "slide_type": "slide"
    }
   },
   "source": [
    "## Comparison operators on other types\n",
    "\n",
    "The comparison operators can also be applied to many other types\n",
    "(more details later)."
   ]
  },
  {
   "cell_type": "markdown",
   "id": "43a2367b",
   "metadata": {
    "lang": "en",
    "slideshow": {
     "slide_type": "slide"
    }
   },
   "source": [
    "## Operators on Boolean values"
   ]
  },
  {
   "cell_type": "code",
   "execution_count": null,
   "id": "a5bb8c33",
   "metadata": {
    "tags": [
     "code-along"
    ]
   },
   "outputs": [],
   "source": [
    "1 < 2 and 3 < 2"
   ]
  },
  {
   "cell_type": "code",
   "execution_count": null,
   "id": "344ba61f",
   "metadata": {
    "tags": [
     "code-along"
    ]
   },
   "outputs": [],
   "source": [
    "1 < 2 or 3 < 2"
   ]
  },
  {
   "cell_type": "code",
   "execution_count": null,
   "id": "c2f734ae",
   "metadata": {
    "tags": [
     "code-along"
    ]
   },
   "outputs": [],
   "source": [
    "not (1 < 2)"
   ]
  },
  {
   "cell_type": "markdown",
   "id": "e21ac640",
   "metadata": {
    "lang": "en",
    "slideshow": {
     "slide_type": "subslide"
    }
   },
   "source": [
    "### When is a logical expression true?\n",
    "\n",
    "| Operator | Operation                      | `True` if...                   |\n",
    "|:--------:|:-------------------------------|:-------------------------------|\n",
    "| and      | logical \"and\" (conjunction)    | both arguments `True`          |\n",
    "| or       | logical \"or\" (disjunction)     | at least one argument `True`   |\n",
    "| not      | logical \"not\" (negation)       | argument `False`               |"
   ]
  },
  {
   "cell_type": "markdown",
   "id": "0172fa42",
   "metadata": {
    "lang": "en"
   },
   "source": [
    "### Chaining comparisons"
   ]
  },
  {
   "cell_type": "code",
   "execution_count": null,
   "id": "3325bc3d",
   "metadata": {
    "tags": [
     "code-along"
    ]
   },
   "outputs": [],
   "source": [
    "1 < 2 < 3"
   ]
  },
  {
   "cell_type": "code",
   "execution_count": null,
   "id": "bb47eea0",
   "metadata": {
    "tags": [
     "code-along"
    ]
   },
   "outputs": [],
   "source": [
    "# noinspection PyChainedComparisons\n",
    "1 < 2 and 2 < 3"
   ]
  },
  {
   "cell_type": "code",
   "execution_count": null,
   "id": "d37d960c",
   "metadata": {
    "tags": [
     "code-along"
    ]
   },
   "outputs": [],
   "source": [
    "1 < 3 <= 2"
   ]
  },
  {
   "cell_type": "code",
   "execution_count": null,
   "id": "c1e74d2f",
   "metadata": {
    "tags": [
     "code-along"
    ]
   },
   "outputs": [],
   "source": [
    "# noinspection PyChainedComparisons\n",
    "1 < 3 and 3 <= 2"
   ]
  },
  {
   "cell_type": "markdown",
   "id": "fb5ddeb7",
   "metadata": {
    "lang": "en"
   },
   "source": [
    "## Mini workshop\n",
    "\n",
    "- Notebook `workshop_060_introduction_part2`\n",
    "- Section \"Operators, Comparisons\""
   ]
  },
  {
   "cell_type": "markdown",
   "id": "bd7be5c4",
   "metadata": {
    "lang": "en",
    "slideshow": {
     "slide_type": "slide"
    }
   },
   "source": [
    "## Structure of an `if` statement (incomplete):\n",
    "\n",
    "```python\n",
    "if <Bedingung>:\n",
    "    # Body that runs if condition 1 is true\n",
    "else:\n",
    "    # Body that is executed if none of the conditions are true\n",
    "```\n",
    "- Only the `if` and the first body are necessary\n",
    "- If an `else` is present, the corresponding body must not be empty"
   ]
  },
  {
   "cell_type": "markdown",
   "id": "b0308136",
   "metadata": {
    "lang": "en",
    "slideshow": {
     "slide_type": "subslide"
    }
   },
   "source": [
    "## Mini workshop\n",
    "\n",
    "- Notebook `workshop_060_introduction_part2`\n",
    "- Section \"Adult\""
   ]
  }
 ],
 "metadata": {
  "jupytext": {
   "cell_metadata_json": true,
   "encoding": "# -*- coding: utf-8 -*-",
   "formats": "ipynb"
  },
  "kernelspec": {
   "display_name": "Python 3 (ipykernel)",
   "language": "python",
   "name": "python3"
  }
 },
 "nbformat": 4,
 "nbformat_minor": 5
}
