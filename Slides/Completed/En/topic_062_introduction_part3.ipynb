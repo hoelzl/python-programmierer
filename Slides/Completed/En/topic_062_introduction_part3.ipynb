{
 "cells": [
  {
   "cell_type": "markdown",
   "id": "aba90996",
   "metadata": {
    "lang": "en",
    "lines_to_next_cell": 2,
    "slideshow": {
     "slide_type": "slide"
    }
   },
   "source": [
    "<img src=\"img/python-logo-notext.svg\"\n",
    "     style=\"display:block;margin:auto;width:10%\"/>\n",
    "<br>\n",
    "<div style=\"text-align:center; font-size:200%;\"><b>Introduction to Python: Part 3</b></div>\n",
    "<br/>\n",
    "<div style=\"text-align:center;\">Dr. Matthias Hölzl</div>"
   ]
  },
  {
   "cell_type": "markdown",
   "id": "826306dc",
   "metadata": {
    "lang": "en",
    "slideshow": {
     "slide_type": "slide"
    }
   },
   "source": [
    "## Any number of arguments:\n",
    "\n",
    "You can define functions that can take any number of arguments:"
   ]
  },
  {
   "cell_type": "code",
   "execution_count": null,
   "id": "39a3063c",
   "metadata": {
    "tags": [
     "code-along"
    ]
   },
   "outputs": [],
   "source": [
    "def my_add(*args):\n",
    "    result = 0\n",
    "    for i in args:\n",
    "        result += i\n",
    "    return result"
   ]
  },
  {
   "cell_type": "code",
   "execution_count": null,
   "id": "7f6026e2",
   "metadata": {
    "tags": [
     "code-along"
    ]
   },
   "outputs": [],
   "source": [
    "my_add(1, 2, 3, 4, 5, 6)"
   ]
  },
  {
   "cell_type": "markdown",
   "id": "3d417460",
   "metadata": {
    "lang": "en"
   },
   "source": [
    "## Micro workshop\n",
    "\n",
    "Write a function `print_lines(*args)` that can take any number of arguments and prints them all, one argument per line:\n",
    "```\n",
    ">>> print_lines(\"hey\", \"you\")\n",
    "hey\n",
    "you\n",
    "```"
   ]
  },
  {
   "cell_type": "code",
   "execution_count": null,
   "id": "f72ef394",
   "metadata": {
    "tags": [
     "code-along"
    ]
   },
   "outputs": [],
   "source": [
    "def print_lines(*args):\n",
    "    for arg in args:\n",
    "        print(arg)"
   ]
  },
  {
   "cell_type": "code",
   "execution_count": null,
   "id": "c82c9505",
   "metadata": {
    "tags": [
     "code-along"
    ]
   },
   "outputs": [],
   "source": [
    "print_lines(\"hey\", \"you\")"
   ]
  },
  {
   "cell_type": "markdown",
   "id": "df3ed464",
   "metadata": {
    "lang": "en",
    "slideshow": {
     "slide_type": "slide"
    }
   },
   "source": [
    "This can also be combined with other arguments:"
   ]
  },
  {
   "cell_type": "code",
   "execution_count": null,
   "id": "ffff5393",
   "metadata": {
    "tags": [
     "code-along"
    ]
   },
   "outputs": [],
   "source": [
    "def add_more_than_two(x, y, *more_args):\n",
    "    result = x + y\n",
    "    for i in more_args:\n",
    "        result += i\n",
    "    return result"
   ]
  },
  {
   "cell_type": "code",
   "execution_count": null,
   "id": "c107eb7f",
   "metadata": {
    "tags": [
     "code-along"
    ]
   },
   "outputs": [],
   "source": [
    "add_more_than_two(1, 2, 3, 4, 5, 6)"
   ]
  },
  {
   "cell_type": "code",
   "execution_count": null,
   "id": "3a643330",
   "metadata": {
    "tags": [
     "code-along"
    ]
   },
   "outputs": [],
   "source": [
    "add_more_than_two(1, 2)"
   ]
  },
  {
   "cell_type": "code",
   "execution_count": null,
   "id": "766a7fe4",
   "metadata": {
    "tags": [
     "code-along"
    ]
   },
   "outputs": [],
   "source": [
    "# add_more_than_two(1)"
   ]
  },
  {
   "cell_type": "markdown",
   "id": "6fd9936b",
   "metadata": {
    "lang": "en",
    "slideshow": {
     "slide_type": "slide"
    }
   },
   "source": [
    "## Any number of named arguments:\n",
    "\n",
    "Likewise, a function can have any number of named arguments:"
   ]
  },
  {
   "cell_type": "code",
   "execution_count": null,
   "id": "897aa7db",
   "metadata": {
    "tags": [
     "code-along"
    ]
   },
   "outputs": [],
   "source": [
    "def my_keys(**kwargs):\n",
    "    print(\"Keyword arguments:\", kwargs)"
   ]
  },
  {
   "cell_type": "code",
   "execution_count": null,
   "id": "d342c8fb",
   "metadata": {
    "tags": [
     "code-along"
    ]
   },
   "outputs": [],
   "source": [
    "my_keys(x=1, y=2)"
   ]
  },
  {
   "cell_type": "markdown",
   "id": "04380eaa",
   "metadata": {
    "lang": "en"
   },
   "source": [
    "It is possible to combine these two features:"
   ]
  },
  {
   "cell_type": "code",
   "execution_count": null,
   "id": "e2666aba",
   "metadata": {
    "tags": [
     "code-along"
    ]
   },
   "outputs": [],
   "source": [
    "def takes_arbitrary_args(*args, **kwargs):\n",
    "    print(\"Positional argsuments:\", args)\n",
    "    print(\"Keyword arguments:    \", kwargs)"
   ]
  },
  {
   "cell_type": "code",
   "execution_count": null,
   "id": "1066f6ea",
   "metadata": {
    "lines_to_next_cell": 2,
    "tags": [
     "code-along"
    ]
   },
   "outputs": [],
   "source": [
    "takes_arbitrary_args(1, \"foo\", a=\"alpha\", b=\"beta\")"
   ]
  },
  {
   "cell_type": "markdown",
   "id": "372645e0",
   "metadata": {
    "lang": "en",
    "slideshow": {
     "slide_type": "subslide"
    }
   },
   "source": [
    "## Micro workshop\n",
    "\n",
    "Write a function `print_named_lines(**kwargs)` that can take any number of\n",
    "Keyword arguments and prints them in the following form:\n",
    "```python\n",
    ">>> print_named_lines(foo=\"My Foo\", bar=\"My Bar\", quux=\"My Quux\")\n",
    "Key: foo -- value: My Foo\n",
    "Key: bar -- value: My Bar\n",
    "Key: quux -- value: My Quux\n",
    "```"
   ]
  },
  {
   "cell_type": "code",
   "execution_count": null,
   "id": "dd2ba21e",
   "metadata": {
    "tags": [
     "code-along"
    ]
   },
   "outputs": [],
   "source": [
    "def print_named_lines(**kwargs):\n",
    "    for k, v in kwargs.items():\n",
    "        print(\"Key:\", k, \"-- value:\", v)"
   ]
  },
  {
   "cell_type": "code",
   "execution_count": null,
   "id": "86f2344e",
   "metadata": {
    "tags": [
     "code-along"
    ]
   },
   "outputs": [],
   "source": [
    "print_named_lines(foo=\"My Foo\", bar=\"My Bar\", quux=\"My Quux\")"
   ]
  },
  {
   "cell_type": "markdown",
   "id": "66ca8ec6",
   "metadata": {
    "lang": "en",
    "slideshow": {
     "slide_type": "slide"
    }
   },
   "source": [
    "## \"Splicing\" of arguments\n",
    "\n",
    "- If you have a list `args`, you can pass its values as positional arguments using the syntax `*args`.\n",
    "- If you have a dictionary `kwargs`, you can pass its key-value pairs as named arguments with the syntax `**kwargs`:"
   ]
  },
  {
   "cell_type": "code",
   "execution_count": null,
   "id": "d513c016",
   "metadata": {
    "tags": [
     "code-along"
    ]
   },
   "outputs": [],
   "source": [
    "def add(x, y):\n",
    "    return x + y"
   ]
  },
  {
   "cell_type": "code",
   "execution_count": null,
   "id": "e2f328bf",
   "metadata": {
    "tags": [
     "code-along"
    ]
   },
   "outputs": [],
   "source": [
    "my_list = [3, 4]"
   ]
  },
  {
   "cell_type": "code",
   "execution_count": null,
   "id": "4982f16f",
   "metadata": {
    "tags": [
     "code-along"
    ]
   },
   "outputs": [],
   "source": [
    "# add(my_list)"
   ]
  },
  {
   "cell_type": "code",
   "execution_count": null,
   "id": "dccf942e",
   "metadata": {
    "tags": [
     "code-along"
    ]
   },
   "outputs": [],
   "source": [
    "add(my_list[0], my_list[1])"
   ]
  },
  {
   "cell_type": "code",
   "execution_count": null,
   "id": "2bf41e62",
   "metadata": {
    "tags": [
     "code-along"
    ]
   },
   "outputs": [],
   "source": [
    "add(*my_list)"
   ]
  },
  {
   "cell_type": "code",
   "execution_count": null,
   "id": "7350eeac",
   "metadata": {
    "slideshow": {
     "slide_type": "subslide"
    },
    "tags": [
     "code-along"
    ]
   },
   "outputs": [],
   "source": [
    "my_dict = {\"a\": \"alpha\", \"b\": \"beta\"}"
   ]
  },
  {
   "cell_type": "code",
   "execution_count": null,
   "id": "c30371c6",
   "metadata": {
    "tags": [
     "code-along"
    ]
   },
   "outputs": [],
   "source": [
    "takes_arbitrary_args(my_list, my_dict)"
   ]
  },
  {
   "cell_type": "code",
   "execution_count": null,
   "id": "65140ad5",
   "metadata": {
    "tags": [
     "code-along"
    ]
   },
   "outputs": [],
   "source": [
    "takes_arbitrary_args(*my_list, **my_dict)"
   ]
  },
  {
   "cell_type": "code",
   "execution_count": null,
   "id": "b20d199a",
   "metadata": {
    "tags": [
     "code-along"
    ]
   },
   "outputs": [],
   "source": [
    "takes_arbitrary_args(3, 4, a=\"alpha\", b=\"beta\")"
   ]
  },
  {
   "cell_type": "markdown",
   "id": "e522f090",
   "metadata": {
    "lang": "en",
    "slideshow": {
     "slide_type": "slide"
    }
   },
   "source": [
    "## Multiple return values\n",
    "\n",
    "As shown above, you can define multiple variables in one step:"
   ]
  },
  {
   "cell_type": "code",
   "execution_count": null,
   "id": "91dbe452",
   "metadata": {
    "tags": [
     "code-along"
    ]
   },
   "outputs": [],
   "source": [
    "ergebnis, rest = 10, 2"
   ]
  },
  {
   "cell_type": "code",
   "execution_count": null,
   "id": "7b450cca",
   "metadata": {
    "tags": [
     "code-along"
    ]
   },
   "outputs": [],
   "source": [
    "print(ergebnis)\n",
    "print(rest)"
   ]
  },
  {
   "cell_type": "markdown",
   "id": "3c41080d",
   "metadata": {
    "lang": "en",
    "slideshow": {
     "slide_type": "subslide"
    }
   },
   "source": [
    "- This is particularly useful for functions that are closely related\n",
    "  calculate values.\n",
    "- You can return multiple values ​​with `return value1, value2`"
   ]
  },
  {
   "cell_type": "code",
   "execution_count": null,
   "id": "da0da2a7",
   "metadata": {
    "tags": [
     "code-along"
    ]
   },
   "outputs": [],
   "source": [
    "def zwei_werte(a, b):\n",
    "    return a + 1, b + 2"
   ]
  },
  {
   "cell_type": "code",
   "execution_count": null,
   "id": "f8549ffc",
   "metadata": {
    "tags": [
     "code-along"
    ]
   },
   "outputs": [],
   "source": [
    "erster_wert, zweiter_wert = zwei_werte(1, 2)\n",
    "print(erster_wert)\n",
    "print(zweiter_wert)"
   ]
  },
  {
   "cell_type": "code",
   "execution_count": null,
   "id": "c2b4f499",
   "metadata": {
    "slideshow": {
     "slide_type": "subslide"
    },
    "tags": [
     "code-along"
    ]
   },
   "outputs": [],
   "source": [
    "def division_mit_rest(m, n):\n",
    "    ergebnis = m // n\n",
    "    rest = m % n\n",
    "    return ergebnis, rest"
   ]
  },
  {
   "cell_type": "code",
   "execution_count": null,
   "id": "ae6c2165",
   "metadata": {
    "tags": [
     "code-along"
    ]
   },
   "outputs": [],
   "source": [
    "e, r = division_mit_rest(17, 7)\n",
    "print(e)\n",
    "print(r)"
   ]
  },
  {
   "cell_type": "code",
   "execution_count": null,
   "id": "925c2751",
   "metadata": {
    "tags": [
     "code-along"
    ]
   },
   "outputs": [],
   "source": [
    "# Kürzer\n",
    "def division_mit_rest_2(m, n):\n",
    "    return m // n, m % n"
   ]
  },
  {
   "cell_type": "code",
   "execution_count": null,
   "id": "9d7a5db3",
   "metadata": {
    "tags": [
     "code-along"
    ]
   },
   "outputs": [],
   "source": [
    "e, r = division_mit_rest_2(17, 7)\n",
    "print(e)\n",
    "print(r)"
   ]
  },
  {
   "cell_type": "markdown",
   "id": "c3e25892",
   "metadata": {
    "lang": "en",
    "slideshow": {
     "slide_type": "subslide"
    }
   },
   "source": [
    "(Python has a built-in function `divmod` that performs this calculation)"
   ]
  },
  {
   "cell_type": "code",
   "execution_count": null,
   "id": "3455a1a8",
   "metadata": {
    "tags": [
     "code-along"
    ]
   },
   "outputs": [],
   "source": [
    "e, r = divmod(17, 7)\n",
    "print(e)\n",
    "print(r)"
   ]
  },
  {
   "cell_type": "markdown",
   "id": "fe80a539",
   "metadata": {
    "lang": "en",
    "slideshow": {
     "slide_type": "subslide"
    }
   },
   "source": [
    "## Mini workshop\n",
    "\n",
    "- Notebook `workshop_050_introduction_part1`\n",
    "- Section \"Pirates, Part 3\""
   ]
  },
  {
   "cell_type": "markdown",
   "id": "ad8a6dda",
   "metadata": {
    "lang": "en",
    "slideshow": {
     "slide_type": "slide"
    }
   },
   "source": [
    "# Comparisons, Boolean values"
   ]
  },
  {
   "cell_type": "markdown",
   "id": "a3723f60",
   "metadata": {
    "lang": "en"
   },
   "source": [
    "Equality of values ​​is tested with `==`:"
   ]
  },
  {
   "cell_type": "code",
   "execution_count": null,
   "id": "cf60f3ac",
   "metadata": {
    "tags": [
     "code-along"
    ]
   },
   "outputs": [],
   "source": [
    "1 == 1"
   ]
  },
  {
   "cell_type": "code",
   "execution_count": null,
   "id": "86ad11bd",
   "metadata": {
    "tags": [
     "code-along"
    ]
   },
   "outputs": [],
   "source": [
    "1 == 2"
   ]
  },
  {
   "cell_type": "markdown",
   "id": "7e4f0f76",
   "metadata": {
    "lang": "en",
    "slideshow": {
     "slide_type": "subslide"
    }
   },
   "source": [
    "The result of a comparison is a boolean value\n",
    "\n",
    "- `True`\n",
    "- `False`"
   ]
  },
  {
   "cell_type": "code",
   "execution_count": null,
   "id": "1b3458a8",
   "metadata": {
    "tags": [
     "code-along"
    ]
   },
   "outputs": [],
   "source": [
    "type(True)"
   ]
  },
  {
   "cell_type": "markdown",
   "id": "fe05dc97",
   "metadata": {
    "lang": "en",
    "slideshow": {
     "slide_type": "subslide"
    }
   },
   "source": [
    "## Equality of numbers"
   ]
  },
  {
   "cell_type": "code",
   "execution_count": null,
   "id": "d19aa249",
   "metadata": {
    "tags": [
     "code-along"
    ]
   },
   "outputs": [],
   "source": [
    "1 == 1.0"
   ]
  },
  {
   "cell_type": "markdown",
   "id": "df895e14",
   "metadata": {
    "lang": "en"
   },
   "source": [
    "Numbers can be written more clearly with underscores."
   ]
  },
  {
   "cell_type": "code",
   "execution_count": null,
   "id": "fca9d150",
   "metadata": {
    "tags": [
     "code-along"
    ]
   },
   "outputs": [],
   "source": [
    "0.000_000_1 * 10_000_000 == 1"
   ]
  },
  {
   "cell_type": "markdown",
   "id": "be7936a5",
   "metadata": {
    "lang": "en",
    "slideshow": {
     "slide_type": "subslide"
    }
   },
   "source": [
    "Caution: rounding errors!"
   ]
  },
  {
   "cell_type": "code",
   "execution_count": null,
   "id": "3c0688a8",
   "metadata": {
    "tags": [
     "code-along"
    ]
   },
   "outputs": [],
   "source": [
    "1 / 10"
   ]
  },
  {
   "cell_type": "code",
   "execution_count": null,
   "id": "1cf4bc94",
   "metadata": {
    "tags": [
     "code-along"
    ]
   },
   "outputs": [],
   "source": [
    "1 / 100"
   ]
  },
  {
   "cell_type": "code",
   "execution_count": null,
   "id": "1cb78394",
   "metadata": {
    "tags": [
     "code-along"
    ]
   },
   "outputs": [],
   "source": [
    "(1 / 10) * (1 / 10) == (1 / 100)"
   ]
  },
  {
   "cell_type": "code",
   "execution_count": null,
   "id": "796a3f82",
   "metadata": {
    "tags": [
     "code-along"
    ]
   },
   "outputs": [],
   "source": [
    "0.1 * 0.1"
   ]
  },
  {
   "cell_type": "code",
   "execution_count": null,
   "id": "8c787628",
   "metadata": {
    "tags": [
     "code-along"
    ]
   },
   "outputs": [],
   "source": [
    "0.1 - 0.01"
   ]
  },
  {
   "cell_type": "code",
   "execution_count": null,
   "id": "4e49cb77",
   "metadata": {
    "tags": [
     "code-along"
    ]
   },
   "outputs": [],
   "source": [
    "100 * 1.1"
   ]
  },
  {
   "cell_type": "markdown",
   "id": "aa5011e2",
   "metadata": {
    "lang": "en",
    "slideshow": {
     "slide_type": "subslide"
    }
   },
   "source": [
    "## Inequality of numbers\n",
    "\n",
    "The `!=` operator tests whether two numbers are different"
   ]
  },
  {
   "cell_type": "code",
   "execution_count": null,
   "id": "4b6b2da3",
   "metadata": {
    "tags": [
     "code-along"
    ]
   },
   "outputs": [],
   "source": [
    "1 != 1.0"
   ]
  },
  {
   "cell_type": "code",
   "execution_count": null,
   "id": "ebfa875d",
   "metadata": {
    "tags": [
     "code-along"
    ]
   },
   "outputs": [],
   "source": [
    "1 != 2"
   ]
  },
  {
   "cell_type": "markdown",
   "id": "e00a246e",
   "metadata": {
    "lang": "en",
    "slideshow": {
     "slide_type": "subslide"
    }
   },
   "source": [
    "## Comparison of numbers"
   ]
  },
  {
   "cell_type": "code",
   "execution_count": null,
   "id": "543b98a4",
   "metadata": {
    "tags": [
     "code-along"
    ]
   },
   "outputs": [],
   "source": [
    "1 < 2"
   ]
  },
  {
   "cell_type": "code",
   "execution_count": null,
   "id": "211f5106",
   "metadata": {
    "tags": [
     "code-along"
    ]
   },
   "outputs": [],
   "source": [
    "1 < 1"
   ]
  },
  {
   "cell_type": "code",
   "execution_count": null,
   "id": "678255e5",
   "metadata": {
    "tags": [
     "code-along"
    ]
   },
   "outputs": [],
   "source": [
    "1 <= 1"
   ]
  },
  {
   "cell_type": "code",
   "execution_count": null,
   "id": "08bf7831",
   "metadata": {
    "incorrectly_encoded_metadata": "{\"slideshow\": {\"slide_type\": \"subslide\"}} tags=[\"code-along\"]"
   },
   "outputs": [],
   "source": [
    "1 > 2"
   ]
  },
  {
   "cell_type": "code",
   "execution_count": null,
   "id": "45ff3207",
   "metadata": {
    "tags": [
     "code-along"
    ]
   },
   "outputs": [],
   "source": [
    "2 >= 1"
   ]
  },
  {
   "cell_type": "markdown",
   "id": "cc66d371",
   "metadata": {
    "lang": "en",
    "slideshow": {
     "slide_type": "slide"
    }
   },
   "source": [
    "## Comparison operators on other types\n",
    "\n",
    "The comparison operators can also be applied to many other types\n",
    "(more details later)."
   ]
  },
  {
   "cell_type": "markdown",
   "id": "bb30ba32",
   "metadata": {
    "lang": "en",
    "slideshow": {
     "slide_type": "slide"
    }
   },
   "source": [
    "## Operators on Boolean values"
   ]
  },
  {
   "cell_type": "code",
   "execution_count": null,
   "id": "eaa049d0",
   "metadata": {
    "tags": [
     "code-along"
    ]
   },
   "outputs": [],
   "source": [
    "1 < 2 and 3 < 2"
   ]
  },
  {
   "cell_type": "code",
   "execution_count": null,
   "id": "97492400",
   "metadata": {
    "tags": [
     "code-along"
    ]
   },
   "outputs": [],
   "source": [
    "1 < 2 or 3 < 2"
   ]
  },
  {
   "cell_type": "code",
   "execution_count": null,
   "id": "01af0c1a",
   "metadata": {
    "tags": [
     "code-along"
    ]
   },
   "outputs": [],
   "source": [
    "not (1 < 2)"
   ]
  },
  {
   "cell_type": "markdown",
   "id": "568cbf03",
   "metadata": {
    "lang": "en",
    "slideshow": {
     "slide_type": "subslide"
    }
   },
   "source": [
    "### When is a logical expression true?\n",
    "\n",
    "| Operator | Operation                      | `True` if...                   |\n",
    "|:--------:|:-------------------------------|:-------------------------------|\n",
    "| and      | logical \"and\" (conjunction)    | both arguments `True`          |\n",
    "| or       | logical \"or\" (disjunction)     | at least one argument `True`   |\n",
    "| not      | logical \"not\" (negation)       | argument `False`               |"
   ]
  },
  {
   "cell_type": "markdown",
   "id": "8967e50a",
   "metadata": {
    "lang": "en"
   },
   "source": [
    "### Chaining comparisons"
   ]
  },
  {
   "cell_type": "code",
   "execution_count": null,
   "id": "3a801244",
   "metadata": {
    "tags": [
     "code-along"
    ]
   },
   "outputs": [],
   "source": [
    "1 < 2 < 3"
   ]
  },
  {
   "cell_type": "code",
   "execution_count": null,
   "id": "5a60b821",
   "metadata": {
    "tags": [
     "code-along"
    ]
   },
   "outputs": [],
   "source": [
    "# noinspection PyChainedComparisons\n",
    "1 < 2 and 2 < 3"
   ]
  },
  {
   "cell_type": "code",
   "execution_count": null,
   "id": "0fbe245a",
   "metadata": {
    "tags": [
     "code-along"
    ]
   },
   "outputs": [],
   "source": [
    "1 < 3 <= 2"
   ]
  },
  {
   "cell_type": "code",
   "execution_count": null,
   "id": "f615afc7",
   "metadata": {
    "tags": [
     "code-along"
    ]
   },
   "outputs": [],
   "source": [
    "# noinspection PyChainedComparisons\n",
    "1 < 3 and 3 <= 2"
   ]
  },
  {
   "cell_type": "markdown",
   "id": "604a2e1a",
   "metadata": {
    "lang": "en"
   },
   "source": [
    "## Mini workshop\n",
    "\n",
    "- Notebook `workshop_060_introduction_part2`\n",
    "- Section \"Operators, Comparisons\""
   ]
  },
  {
   "cell_type": "markdown",
   "id": "44213114",
   "metadata": {
    "lang": "en",
    "slideshow": {
     "slide_type": "slide"
    }
   },
   "source": [
    "## Structure of an `if` statement (incomplete):\n",
    "\n",
    "```python\n",
    "if <Bedingung>:\n",
    "    # Body that runs if condition 1 is true\n",
    "else:\n",
    "    # Body that is executed if none of the conditions are true\n",
    "```\n",
    "- Only the `if` and the first body are necessary\n",
    "- If an `else` is present, the corresponding body must not be empty"
   ]
  },
  {
   "cell_type": "markdown",
   "id": "bb8496e8",
   "metadata": {
    "lang": "en",
    "slideshow": {
     "slide_type": "subslide"
    }
   },
   "source": [
    "## Mini workshop\n",
    "\n",
    "- Notebook `workshop_060_introduction_part2`\n",
    "- Section \"Adult\""
   ]
  }
 ],
 "metadata": {
  "jupytext": {
   "cell_metadata_json": true,
   "encoding": "# -*- coding: utf-8 -*-",
   "formats": "ipynb"
  },
  "kernelspec": {
   "display_name": "Python 3 (ipykernel)",
   "language": "python",
   "name": "python3"
  }
 },
 "nbformat": 4,
 "nbformat_minor": 5
}
