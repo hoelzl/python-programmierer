{
 "cells": [
  {
   "cell_type": "markdown",
   "id": "eca8d8b8",
   "metadata": {
    "lang": "en",
    "slideshow": {
     "slide_type": "slide"
    }
   },
   "source": [
    "<img src=\"img/python-logo-notext.svg\"\n",
    "     style=\"display:block;margin:auto;width:10%\"/>\n",
    "<br>\n",
    "<div style=\"text-align:center; font-size:200%;\"><b>More Strings</b></div>\n",
    "<br/>\n",
    "<div style=\"text-align:center;\">Dr. Matthias Hölzl</div>"
   ]
  },
  {
   "cell_type": "markdown",
   "id": "827eb0b3",
   "metadata": {
    "lang": "en",
    "slideshow": {
     "slide_type": "slide"
    }
   },
   "source": [
    "# Comparison of strings"
   ]
  },
  {
   "cell_type": "code",
   "execution_count": null,
   "id": "632890b4",
   "metadata": {},
   "outputs": [],
   "source": [
    "\"a\" == \"a\""
   ]
  },
  {
   "cell_type": "code",
   "execution_count": null,
   "id": "c4984c38",
   "metadata": {},
   "outputs": [],
   "source": [
    "\"A\" == \"a\""
   ]
  },
  {
   "cell_type": "code",
   "execution_count": null,
   "id": "5471e1d6",
   "metadata": {
    "slideshow": {
     "slide_type": "subslide"
    }
   },
   "outputs": [],
   "source": [
    "\"A\" < \"B\""
   ]
  },
  {
   "cell_type": "code",
   "execution_count": null,
   "id": "cb297b15",
   "metadata": {},
   "outputs": [],
   "source": [
    "\"A\" < \"a\""
   ]
  },
  {
   "cell_type": "code",
   "execution_count": null,
   "id": "d0f8fcd5",
   "metadata": {},
   "outputs": [],
   "source": [
    "\"a\" < \"A\""
   ]
  },
  {
   "cell_type": "markdown",
   "id": "e98b09ed",
   "metadata": {
    "lang": "en",
    "slideshow": {
     "slide_type": "subslide"
    }
   },
   "source": [
    "Strings are ordered as in the dictionary (lexicographically)."
   ]
  },
  {
   "cell_type": "code",
   "execution_count": null,
   "id": "ecae9451",
   "metadata": {},
   "outputs": [],
   "source": [
    "\"ab\" < \"abc\""
   ]
  },
  {
   "cell_type": "code",
   "execution_count": null,
   "id": "9fc517b4",
   "metadata": {},
   "outputs": [],
   "source": [
    "\"ab\" < \"ac\""
   ]
  },
  {
   "cell_type": "code",
   "execution_count": null,
   "id": "f4ec4a7c",
   "metadata": {},
   "outputs": [],
   "source": [
    "\"ab\" != \"ac\""
   ]
  },
  {
   "cell_type": "markdown",
   "id": "fbc4f788",
   "metadata": {
    "lang": "en",
    "slideshow": {
     "slide_type": "subslide"
    }
   },
   "source": [
    "## Inset: sorting lists/iterables\n",
    "\n",
    "Iterables can be sorted with the `sorted()` function. With the\n",
    "named argument `key`, a function can be specified that determines\n",
    "how the sorting is done:"
   ]
  },
  {
   "cell_type": "code",
   "execution_count": null,
   "id": "1fbfacf2",
   "metadata": {},
   "outputs": [],
   "source": [
    "numbers = [3, 8, -7, 1, 0, 2, -3, 3]"
   ]
  },
  {
   "cell_type": "code",
   "execution_count": null,
   "id": "46cfcc84",
   "metadata": {
    "tags": [
     "code-along"
    ]
   },
   "outputs": [],
   "source": [
    "sorted(numbers)"
   ]
  },
  {
   "cell_type": "code",
   "execution_count": null,
   "id": "bf19cf9e",
   "metadata": {
    "tags": [
     "code-along"
    ]
   },
   "outputs": [],
   "source": [
    "sorted(numbers, key=abs)"
   ]
  },
  {
   "cell_type": "code",
   "execution_count": null,
   "id": "4e635a23",
   "metadata": {
    "slideshow": {
     "slide_type": "subslide"
    }
   },
   "outputs": [],
   "source": [
    "strings = [\"a\", \"ABC\", \"xy\", \"Asdfgh\", \"foo\", \"bar\", \"quux\"]"
   ]
  },
  {
   "cell_type": "code",
   "execution_count": null,
   "id": "2e69f65b",
   "metadata": {
    "tags": [
     "code-along"
    ]
   },
   "outputs": [],
   "source": [
    "sorted(strings)"
   ]
  },
  {
   "cell_type": "code",
   "execution_count": null,
   "id": "527553aa",
   "metadata": {
    "tags": [
     "code-along"
    ]
   },
   "outputs": [],
   "source": [
    "def lower(my_string):\n",
    "    return my_string.lower()"
   ]
  },
  {
   "cell_type": "code",
   "execution_count": null,
   "id": "40454cc6",
   "metadata": {
    "tags": [
     "code-along"
    ]
   },
   "outputs": [],
   "source": [
    "sorted(strings, key=lower)"
   ]
  },
  {
   "cell_type": "code",
   "execution_count": null,
   "id": "6fbfdc45",
   "metadata": {
    "tags": [
     "code-along"
    ]
   },
   "outputs": [],
   "source": [
    "sorted(strings, key=len)"
   ]
  },
  {
   "cell_type": "markdown",
   "id": "80c76d04",
   "metadata": {
    "lang": "en",
    "slideshow": {
     "slide_type": "slide"
    }
   },
   "source": [
    "## Comparison of Unicode strings\n",
    "\n",
    "The built-in comparison functions work only for simple (ASCII) strings. For strings containing Unicode characters, sorting/comparison is more difficult.\n",
    "\n",
    "The default module for dealing with Unicode in Python is `locale`; it relies on the locale settings of the\n",
    "operating system:"
   ]
  },
  {
   "cell_type": "code",
   "execution_count": null,
   "id": "9937339d",
   "metadata": {
    "tags": [
     "code-along"
    ]
   },
   "outputs": [],
   "source": [
    "import locale\n",
    "\n",
    "locale.getlocale()"
   ]
  },
  {
   "cell_type": "code",
   "execution_count": null,
   "id": "e72e69c3",
   "metadata": {},
   "outputs": [],
   "source": [
    "my_strings = [\"o\", \"oa\", \"oe\", \"ö\", \"oz\", \"sa\", \"s\", \"ß\", \"ss\", \"sz\"]"
   ]
  },
  {
   "cell_type": "code",
   "execution_count": null,
   "id": "4eab54c8",
   "metadata": {
    "tags": [
     "code-along"
    ]
   },
   "outputs": [],
   "source": [
    "sorted(my_strings)"
   ]
  },
  {
   "cell_type": "code",
   "execution_count": null,
   "id": "38eff50b",
   "metadata": {
    "tags": [
     "code-along"
    ]
   },
   "outputs": [],
   "source": [
    "sorted(my_strings, key=locale.strxfrm)"
   ]
  },
  {
   "cell_type": "code",
   "execution_count": null,
   "id": "9ef9df6b",
   "metadata": {
    "incorrectly_encoded_metadata": "{\"slideshow\": {\"slide_type\": \"subslide\"}} tags=[\"code-along\"]"
   },
   "outputs": [],
   "source": [
    "locale.setlocale(locale.LC_COLLATE, \"de_DE.UTF-8\")"
   ]
  },
  {
   "cell_type": "code",
   "execution_count": null,
   "id": "6386f88f",
   "metadata": {
    "tags": [
     "code-along"
    ]
   },
   "outputs": [],
   "source": [
    "sorted(my_strings, key=locale.strxfrm)"
   ]
  },
  {
   "cell_type": "code",
   "execution_count": null,
   "id": "020be784",
   "metadata": {
    "tags": [
     "code-along"
    ]
   },
   "outputs": [],
   "source": [
    "locale.setlocale(locale.LC_COLLATE, \"C\")"
   ]
  },
  {
   "cell_type": "code",
   "execution_count": null,
   "id": "2deced13",
   "metadata": {
    "tags": [
     "code-along"
    ]
   },
   "outputs": [],
   "source": [
    "sorted(my_strings, key=locale.strxfrm)"
   ]
  },
  {
   "cell_type": "markdown",
   "id": "8c21a79d",
   "metadata": {
    "lang": "en",
    "slideshow": {
     "slide_type": "subslide"
    }
   },
   "source": [
    "The locale settings are global per process and therefore mainly suitable\n",
    "to interact with the user.\n",
    "\n",
    "If you have to deal with strings in different languages,\n",
    "using libraries like `PyUCA` (written in Python and therefore\n",
    "easier to install) or `PyICU` (more complete implementation of the\n",
    "Unicode specification based on a C++ library) might be a good idea."
   ]
  },
  {
   "cell_type": "markdown",
   "id": "0d1edcbd",
   "metadata": {
    "lang": "en",
    "slideshow": {
     "slide_type": "subslide"
    }
   },
   "source": [
    "## Converting a string to uppercase/lowercase"
   ]
  },
  {
   "cell_type": "code",
   "execution_count": null,
   "id": "319e6737",
   "metadata": {
    "tags": [
     "code-along"
    ]
   },
   "outputs": [],
   "source": [
    "text = \"Das ist ein Text\"\n",
    "print(text.lower())\n",
    "print(text)"
   ]
  },
  {
   "cell_type": "code",
   "execution_count": null,
   "id": "e373cacb",
   "metadata": {
    "tags": [
     "code-along"
    ]
   },
   "outputs": [],
   "source": [
    "\"Das ist ein Text\".upper()"
   ]
  },
  {
   "cell_type": "markdown",
   "id": "c5b484c2",
   "metadata": {
    "lang": "en",
    "slideshow": {
     "slide_type": "subslide"
    }
   },
   "source": [
    "The `lower()` method does not always perform the desired conversions.\n",
    "The `casefold` method is sometimes useful for this:"
   ]
  },
  {
   "cell_type": "code",
   "execution_count": null,
   "id": "a6ce974f",
   "metadata": {
    "tags": [
     "code-along"
    ]
   },
   "outputs": [],
   "source": [
    "s1 = \"daß er sehe\"\n",
    "s1.upper()"
   ]
  },
  {
   "cell_type": "code",
   "execution_count": null,
   "id": "12ca32a6",
   "metadata": {
    "tags": [
     "code-along"
    ]
   },
   "outputs": [],
   "source": [
    "s1.lower()"
   ]
  },
  {
   "cell_type": "code",
   "execution_count": null,
   "id": "dee3bced",
   "metadata": {
    "tags": [
     "code-along"
    ]
   },
   "outputs": [],
   "source": [
    "s1.casefold()"
   ]
  },
  {
   "cell_type": "markdown",
   "id": "3cc67259",
   "metadata": {
    "lang": "en",
    "slideshow": {
     "slide_type": "subslide"
    }
   },
   "source": [
    "## Mini workshop\n",
    "\n",
    "- Notebook `workshop_070_more_strings_and_sorting`\n",
    "- \"Shout\" section"
   ]
  },
  {
   "cell_type": "markdown",
   "id": "09e58eb4",
   "metadata": {
    "lang": "en",
    "slideshow": {
     "slide_type": "slide"
    }
   },
   "source": [
    "# String literals (again)\n",
    "\n",
    "- String literals are enclosed in single or double quotes\n",
    "    - `\"Hello, world!\"`\n",
    "    - `'Hello world!'`\n",
    "    - It doesn't matter which form you choose, unless you want to\n",
    "      have double quotes in the string\n",
    "    - `\"He says 'Huh?'\"`\n",
    "    - `'She replies: \"Exactly.\"'`"
   ]
  },
  {
   "cell_type": "markdown",
   "id": "65ec05cb",
   "metadata": {
    "lang": "en",
    "slideshow": {
     "slide_type": "subslide"
    }
   },
   "source": [
    "- String literals, can contain Unicode characters:\n",
    "    - `\"おはようございます\"`\n",
    "    - `\"😠🙃🙄\"`"
   ]
  },
  {
   "cell_type": "code",
   "execution_count": null,
   "id": "27582f77",
   "metadata": {},
   "outputs": [],
   "source": [
    "print(\"Er sagt 'Huh?'\")\n",
    "print('Sie antwortet: \"Genau.\"')\n",
    "print(\"おはようございます\")\n",
    "print(\"😠🙃🙄\")"
   ]
  },
  {
   "cell_type": "markdown",
   "id": "685472e3",
   "metadata": {
    "lang": "en",
    "slideshow": {
     "slide_type": "subslide"
    }
   },
   "source": [
    "- Special characters can be specified with *escape notation*:\n",
    "    - `\n",
    "`, `\\t`, `\\`, `\"`, `\\'`, ...\n",
    "    - `\\u`, `\\U` for Unicode code points (16 or 32 bit)\n",
    "    - `\\N{...}` for Unicode"
   ]
  },
  {
   "cell_type": "code",
   "execution_count": null,
   "id": "d0e6cb1a",
   "metadata": {},
   "outputs": [],
   "source": [
    "print(\"a\\tbc\\td\\n123\\t4\\t5\")"
   ]
  },
  {
   "cell_type": "code",
   "execution_count": null,
   "id": "875ff54a",
   "metadata": {},
   "outputs": [],
   "source": [
    "print('\"Let\\'s go crazy\", she said')"
   ]
  },
  {
   "cell_type": "code",
   "execution_count": null,
   "id": "d920a0b0",
   "metadata": {},
   "outputs": [],
   "source": [
    "print(\"C:\\\\Users\\\\John\")"
   ]
  },
  {
   "cell_type": "code",
   "execution_count": null,
   "id": "7d0ded4b",
   "metadata": {
    "slideshow": {
     "slide_type": "subslide"
    }
   },
   "outputs": [],
   "source": [
    "print(\"\\u0394 \\u03b1 \\t\\U000003b2 \\U000003b3\")\n",
    "print(\"\\U0001F62E \\U0001f61a \\U0001f630\")"
   ]
  },
  {
   "cell_type": "code",
   "execution_count": null,
   "id": "d1c3e334",
   "metadata": {},
   "outputs": [],
   "source": [
    "print(\"\\N{GREEK CAPITAL LETTER DELTA} \\N{GREEK SMALL LETTER ALPHA}\")\n",
    "print(\"\\N{smiling face with open mouth and smiling eyes} \\N{winking face}\")"
   ]
  },
  {
   "cell_type": "markdown",
   "id": "91028b2d",
   "metadata": {
    "lang": "en",
    "slideshow": {
     "slide_type": "subslide"
    }
   },
   "source": [
    "- String literals can also be enclosed in triple quotes\n",
    "- This type of literal can span multiple lines"
   ]
  },
  {
   "cell_type": "code",
   "execution_count": null,
   "id": "84e7ed71",
   "metadata": {},
   "outputs": [],
   "source": [
    "\"\"\"Das ist\n",
    "ein String-Literal,\n",
    "das über mehrere\n",
    "Zeilen geht.\"\"\""
   ]
  },
  {
   "cell_type": "code",
   "execution_count": null,
   "id": "1f9b154c",
   "metadata": {},
   "outputs": [],
   "source": [
    "print(\n",
    "    \"\"\"Mit Backslash am Ende der Zeile \\\n",
    "kann der Zeilenvorschub unterdrückt werden.\"\"\"\n",
    ")"
   ]
  },
  {
   "cell_type": "markdown",
   "id": "d7a823f6",
   "metadata": {
    "lang": "en",
    "slideshow": {
     "slide_type": "slide"
    }
   },
   "source": [
    "## Concatenation of strings\n",
    "\n",
    "Strings can be concatenated with `+`:"
   ]
  },
  {
   "cell_type": "code",
   "execution_count": null,
   "id": "0a5e49a5",
   "metadata": {},
   "outputs": [],
   "source": [
    "\"Ein\" + \" \" + \"String\""
   ]
  },
  {
   "cell_type": "markdown",
   "id": "dec79e7e",
   "metadata": {
    "lang": "en",
    "slideshow": {
     "slide_type": "subslide"
    }
   },
   "source": [
    "The `join()` method can be used to join multiple strings with a delimiter:"
   ]
  },
  {
   "cell_type": "code",
   "execution_count": null,
   "id": "a44e3290",
   "metadata": {},
   "outputs": [],
   "source": [
    "\" \".join([\"das\", \"sind\", \"mehrere\", \"strings\"])"
   ]
  },
  {
   "cell_type": "code",
   "execution_count": null,
   "id": "27684313",
   "metadata": {},
   "outputs": [],
   "source": [
    "\", \".join([\"Pferd\", \"Katze\", \"Hund\"])"
   ]
  },
  {
   "cell_type": "code",
   "execution_count": null,
   "id": "f796af19",
   "metadata": {},
   "outputs": [],
   "source": [
    "\"\".join([\"ab\", \"cde\", \"f\"])"
   ]
  },
  {
   "cell_type": "markdown",
   "id": "102c85bc",
   "metadata": {
    "lang": "en",
    "slideshow": {
     "slide_type": "subslide"
    }
   },
   "source": [
    "## Mini workshop\n",
    "\n",
    "- Notebook `workshop_070_more_strings_and_sorting`\n",
    "- Section \"Welcome 1\""
   ]
  },
  {
   "cell_type": "markdown",
   "id": "869aa482",
   "metadata": {
    "lang": "en",
    "slideshow": {
     "slide_type": "subslide"
    }
   },
   "source": [
    "## String comparison (again)\n",
    "\n",
    "To compare strings with Unicode characters, it is convenient to use them in\n",
    "bring Unicode normal form."
   ]
  },
  {
   "cell_type": "code",
   "execution_count": null,
   "id": "039ea896",
   "metadata": {},
   "outputs": [],
   "source": [
    "s1 = \"café\"\n",
    "s2 = \"cafe\\u0301\""
   ]
  },
  {
   "cell_type": "code",
   "execution_count": null,
   "id": "e2fb8006",
   "metadata": {
    "tags": [
     "code-along"
    ]
   },
   "outputs": [],
   "source": [
    "print(s1, s2)\n",
    "s1 == s2"
   ]
  },
  {
   "cell_type": "code",
   "execution_count": null,
   "id": "7ec5ae0f",
   "metadata": {
    "incorrectly_encoded_metadata": "{\"slideshow\": {\"slide_type\": \"subslide\"}} tags=[\"code-along\"]"
   },
   "outputs": [],
   "source": [
    "import unicodedata\n",
    "\n",
    "unicodedata.normalize(\"NFC\", s1) == s1"
   ]
  },
  {
   "cell_type": "code",
   "execution_count": null,
   "id": "29cabb42",
   "metadata": {
    "tags": [
     "code-along"
    ]
   },
   "outputs": [],
   "source": [
    "unicodedata.normalize(\"NFC\", s2) == s1"
   ]
  },
  {
   "cell_type": "code",
   "execution_count": null,
   "id": "13b7967b",
   "metadata": {
    "lines_to_next_cell": 2,
    "tags": [
     "code-along"
    ]
   },
   "outputs": [],
   "source": [
    "unicodedata.normalize(\"NFD\", s1) == s2"
   ]
  },
  {
   "cell_type": "markdown",
   "id": "d22b7a51",
   "metadata": {
    "lang": "en",
    "slideshow": {
     "slide_type": "slide"
    }
   },
   "source": [
    "# String interpolation: F strings\n",
    "\n",
    "Python offers the possibility to insert values ​​of variables into strings:"
   ]
  },
  {
   "cell_type": "code",
   "execution_count": null,
   "id": "0ba70a25",
   "metadata": {
    "tags": [
     "code-along"
    ]
   },
   "outputs": [],
   "source": [
    "name = \"Hans\"\n",
    "zahl = 12\n",
    "f\"Hallo, {name}, die Zahl ist {zahl + 1}\""
   ]
  },
  {
   "cell_type": "code",
   "execution_count": null,
   "id": "82cfc5af",
   "metadata": {
    "slideshow": {
     "slide_type": "subslide"
    }
   },
   "outputs": [],
   "source": [
    "spieler_name = \"Hans\"\n",
    "anzahl_spiele = 10\n",
    "anzahl_gewinne = 2\n",
    "\n",
    "ausgabe = f\"Hallo {spieler_name}!\\nSie haben {anzahl_spiele}-mal gespielt und dabei {anzahl_gewinne}-mal gewonnen.\"\n",
    "print(ausgabe)"
   ]
  },
  {
   "cell_type": "code",
   "execution_count": null,
   "id": "5f9a88a1",
   "metadata": {
    "slideshow": {
     "slide_type": "subslide"
    }
   },
   "outputs": [],
   "source": [
    "ausgabe = f\"\"\"\\\n",
    "Hallo {spieler_name}!\n",
    "Sie haben {anzahl_spiele}-mal gespielt \\\n",
    "und dabei {anzahl_gewinne}-mal gewonnen.\\\n",
    "\"\"\"\n",
    "print(ausgabe)"
   ]
  },
  {
   "cell_type": "code",
   "execution_count": null,
   "id": "c3bc298f",
   "metadata": {
    "slideshow": {
     "slide_type": "subslide"
    }
   },
   "outputs": [],
   "source": [
    "ausgabe = (\n",
    "    f\"Hallo {spieler_name}!\\n\"\n",
    "    f\"Sie haben {anzahl_spiele}-mal gespielt \"\n",
    "    f\"und dabei {anzahl_gewinne}-mal gewonnen.\"\n",
    ")\n",
    "print(ausgabe)"
   ]
  },
  {
   "cell_type": "markdown",
   "id": "530b99ee",
   "metadata": {
    "lang": "en"
   },
   "source": [
    "## Mini workshop\n",
    "\n",
    "- Notebook `workshop_070_more_strings_and_sorting`\n",
    "- Section \"Welcome 2\""
   ]
  },
  {
   "cell_type": "markdown",
   "id": "a3e46e51",
   "metadata": {
    "lang": "en"
   },
   "source": [
    "## Mini workshop\n",
    "\n",
    "- Notebook `workshop_070_more_strings_and_sorting`\n",
    "- Section \"Pirates 4\""
   ]
  },
  {
   "cell_type": "markdown",
   "id": "087e8ac8",
   "metadata": {
    "lang": "en",
    "slideshow": {
     "slide_type": "slide"
    }
   },
   "source": [
    "## Finding substrings in strings\n",
    "\n",
    "The `in` operator also works with strings as arguments. To find the index\n",
    "of a substring in a string you can use the `index()` method."
   ]
  },
  {
   "cell_type": "code",
   "execution_count": null,
   "id": "21e46887",
   "metadata": {
    "tags": [
     "code-along"
    ]
   },
   "outputs": [],
   "source": [
    "\"a\" in \"abc\""
   ]
  },
  {
   "cell_type": "code",
   "execution_count": null,
   "id": "4a817bdf",
   "metadata": {
    "tags": [
     "code-along"
    ]
   },
   "outputs": [],
   "source": [
    "\"x\" not in \"abc\""
   ]
  },
  {
   "cell_type": "code",
   "execution_count": null,
   "id": "bb540b8b",
   "metadata": {
    "tags": [
     "code-along"
    ]
   },
   "outputs": [],
   "source": [
    "\"bc\" in \"abc\""
   ]
  },
  {
   "cell_type": "code",
   "execution_count": null,
   "id": "d75d3f57",
   "metadata": {
    "tags": [
     "code-along"
    ]
   },
   "outputs": [],
   "source": [
    "\"cb\" in \"abc\""
   ]
  },
  {
   "cell_type": "code",
   "execution_count": null,
   "id": "cc4ad1b9",
   "metadata": {
    "tags": [
     "code-along"
    ]
   },
   "outputs": [],
   "source": [
    "\"Halloween\".index(\"Hallo\")"
   ]
  },
  {
   "cell_type": "code",
   "execution_count": null,
   "id": "8956d4a3",
   "metadata": {
    "tags": [
     "code-along"
    ]
   },
   "outputs": [],
   "source": [
    "\"Halloween\".index(\"we\")"
   ]
  },
  {
   "cell_type": "code",
   "execution_count": null,
   "id": "ef6cce9d",
   "metadata": {
    "tags": [
     "code-along"
    ]
   },
   "outputs": [],
   "source": [
    "# \"Team\".index(\"I\")"
   ]
  },
  {
   "cell_type": "markdown",
   "id": "2870028e",
   "metadata": {
    "lang": "en",
    "slideshow": {
     "slide_type": "slide"
    }
   },
   "source": [
    "## Workshop\n",
    "\n",
    "- Notebook `lecture_920x_Workshop_Caesar_Encryption`"
   ]
  },
  {
   "cell_type": "code",
   "execution_count": null,
   "id": "3d787144",
   "metadata": {},
   "outputs": [],
   "source": []
  }
 ],
 "metadata": {
  "jupytext": {
   "cell_metadata_json": true,
   "encoding": "# -*- coding: utf-8 -*-",
   "formats": "ipynb"
  },
  "kernelspec": {
   "display_name": "Python 3 (ipykernel)",
   "language": "python",
   "name": "python3"
  }
 },
 "nbformat": 4,
 "nbformat_minor": 5
}
