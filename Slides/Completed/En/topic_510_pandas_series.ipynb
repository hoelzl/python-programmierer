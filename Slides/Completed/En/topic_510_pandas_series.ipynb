{
 "cells": [
  {
   "cell_type": "markdown",
   "id": "d22cdc95",
   "metadata": {
    "lang": "en",
    "slideshow": {
     "slide_type": "slide"
    }
   },
   "source": [
    "<img src=\"img/python-logo-notext.svg\"\n",
    "     style=\"display:block;margin:auto;width:10%\"/>\n",
    "<br>\n",
    "<div style=\"text-align:center; font-size:200%;\"><b>Pandas Series</b></div>\n",
    "<br/>\n",
    "<div style=\"text-align:center;\">Dr. Matthias Hölzl</div>"
   ]
  },
  {
   "cell_type": "markdown",
   "id": "cb6e0f3d",
   "metadata": {
    "lang": "en"
   },
   "source": [
    "\n",
    "# Pandas Type `Series`\n",
    "\n",
    "A series represents a sequence of values, similar to a Python list. Elements\n",
    "of their series can be retrieved by their numerical index, but in addition a\n",
    "series can have a semantically meaningful index (e.g., for time series).\n",
    "\n",
    "Internally, a Pandas series is backed by a numpy array, therefore most of the\n",
    "numpy operations are applicable to series as well.\n",
    "\n",
    "In addition it is easy (and cheap) to convert series to numpy."
   ]
  },
  {
   "cell_type": "code",
   "execution_count": null,
   "id": "3a20bd50",
   "metadata": {},
   "outputs": [],
   "source": [
    "import numpy as np\n",
    "import pandas as pd"
   ]
  },
  {
   "cell_type": "markdown",
   "id": "b8a58f93",
   "metadata": {
    "lang": "en"
   },
   "source": [
    "## Creation\n",
    "\n",
    "### From Lists"
   ]
  },
  {
   "cell_type": "code",
   "execution_count": null,
   "id": "28f166ba",
   "metadata": {
    "lines_to_next_cell": 2,
    "tags": [
     "code-along"
    ]
   },
   "outputs": [],
   "source": [
    "pd.Series(data=[10, 20, 30, 40])"
   ]
  },
  {
   "cell_type": "code",
   "execution_count": null,
   "id": "d41b0996",
   "metadata": {
    "tags": [
     "code-along"
    ]
   },
   "outputs": [],
   "source": [
    "pd.Series([\"a\", \"b\", \"c\"])"
   ]
  },
  {
   "cell_type": "markdown",
   "id": "f7dc9b2c",
   "metadata": {
    "lang": "en"
   },
   "source": [
    "### From Lists with Index"
   ]
  },
  {
   "cell_type": "code",
   "execution_count": null,
   "id": "b24bba56",
   "metadata": {
    "tags": [
     "code-along"
    ]
   },
   "outputs": [],
   "source": [
    "pd.Series(data=[1, 2, 3, 4], index=[\"w\", \"x\", \"y\", \"z\"])"
   ]
  },
  {
   "cell_type": "markdown",
   "id": "6f86cbaa",
   "metadata": {
    "lang": "en"
   },
   "source": [
    "### From Range or Other Iterable"
   ]
  },
  {
   "cell_type": "code",
   "execution_count": null,
   "id": "1cec1cc9",
   "metadata": {
    "tags": [
     "code-along"
    ]
   },
   "outputs": [],
   "source": [
    "pd.Series(data=range(1, 201, 2))"
   ]
  },
  {
   "cell_type": "code",
   "execution_count": null,
   "id": "d9211f4b",
   "metadata": {
    "tags": [
     "code-along"
    ]
   },
   "outputs": [],
   "source": [
    "data = pd.Series(data=range(1, 201, 2))\n",
    "data.head()"
   ]
  },
  {
   "cell_type": "code",
   "execution_count": null,
   "id": "ae6235a8",
   "metadata": {
    "tags": [
     "code-along"
    ]
   },
   "outputs": [],
   "source": [
    "data.tail()"
   ]
  },
  {
   "cell_type": "markdown",
   "id": "8fdffded",
   "metadata": {
    "lang": "en"
   },
   "source": [
    "### From Dictionary"
   ]
  },
  {
   "cell_type": "code",
   "execution_count": null,
   "id": "335b808c",
   "metadata": {
    "tags": [
     "code-along"
    ]
   },
   "outputs": [],
   "source": [
    "pd.Series(data={\"Ice Cream\": 2.49, \"Cake\": 4.99, \"Fudge\": 7.99})"
   ]
  },
  {
   "cell_type": "markdown",
   "id": "a28f31d8",
   "metadata": {
    "lang": "en"
   },
   "source": [
    "## Indices and Operations"
   ]
  },
  {
   "cell_type": "code",
   "execution_count": null,
   "id": "17b5e07c",
   "metadata": {
    "lines_to_next_cell": 2
   },
   "outputs": [],
   "source": [
    "food1 = pd.Series({\"Ice Cream\": 2.49, \"Cake\": 4.99, \"Fudge\": 7.99})\n",
    "food2 = pd.Series({\"Cake\": 4.99, \"Ice Cream\": 3.99, \"Pie\": 3.49, \"Cheese\": 1.99})"
   ]
  },
  {
   "cell_type": "code",
   "execution_count": null,
   "id": "b74a9565",
   "metadata": {
    "lines_to_next_cell": 2,
    "tags": [
     "code-along"
    ]
   },
   "outputs": [],
   "source": [
    "food1"
   ]
  },
  {
   "cell_type": "code",
   "execution_count": null,
   "id": "eb6ce475",
   "metadata": {
    "lines_to_next_cell": 2,
    "tags": [
     "code-along"
    ]
   },
   "outputs": [],
   "source": [
    "food1.index"
   ]
  },
  {
   "cell_type": "code",
   "execution_count": null,
   "id": "724b9c82",
   "metadata": {
    "lines_to_next_cell": 2,
    "tags": [
     "code-along"
    ]
   },
   "outputs": [],
   "source": [
    "food1.size"
   ]
  },
  {
   "cell_type": "code",
   "execution_count": null,
   "id": "90537432",
   "metadata": {
    "lines_to_next_cell": 2,
    "tags": [
     "code-along"
    ]
   },
   "outputs": [],
   "source": [
    "food1.sum()"
   ]
  },
  {
   "cell_type": "code",
   "execution_count": null,
   "id": "fda54bca",
   "metadata": {
    "lines_to_next_cell": 2,
    "tags": [
     "code-along"
    ]
   },
   "outputs": [],
   "source": [
    "food1.mean()"
   ]
  },
  {
   "cell_type": "code",
   "execution_count": null,
   "id": "4486d008",
   "metadata": {
    "lines_to_next_cell": 2,
    "tags": [
     "code-along"
    ]
   },
   "outputs": [],
   "source": [
    "food1.name"
   ]
  },
  {
   "cell_type": "code",
   "execution_count": null,
   "id": "0824c134",
   "metadata": {
    "lines_to_next_cell": 2,
    "tags": [
     "code-along"
    ]
   },
   "outputs": [],
   "source": [
    "food1.name = \"Deserts\""
   ]
  },
  {
   "cell_type": "code",
   "execution_count": null,
   "id": "adb65ffc",
   "metadata": {
    "lines_to_next_cell": 2,
    "tags": [
     "code-along"
    ]
   },
   "outputs": [],
   "source": [
    "food1.name"
   ]
  },
  {
   "cell_type": "code",
   "execution_count": null,
   "id": "2fec7bde",
   "metadata": {
    "lines_to_next_cell": 2,
    "tags": [
     "code-along"
    ]
   },
   "outputs": [],
   "source": [
    "food1"
   ]
  },
  {
   "cell_type": "code",
   "execution_count": null,
   "id": "a60b5776",
   "metadata": {
    "lines_to_next_cell": 2,
    "tags": [
     "code-along"
    ]
   },
   "outputs": [],
   "source": [
    "food1.plot.bar(legend=True)"
   ]
  },
  {
   "cell_type": "code",
   "execution_count": null,
   "id": "2aef4296",
   "metadata": {
    "lines_to_next_cell": 2,
    "tags": [
     "code-along"
    ]
   },
   "outputs": [],
   "source": [
    "import random\n",
    "data = pd.Series(data=[random.gauss(0.0, 10.0) for _ in range(2_000)])\n",
    "data.plot.hist(legend=False, bins=20)"
   ]
  },
  {
   "cell_type": "code",
   "execution_count": null,
   "id": "da6e9577",
   "metadata": {
    "lines_to_next_cell": 2,
    "tags": [
     "code-along"
    ]
   },
   "outputs": [],
   "source": [
    "food1[\"Cake\"]"
   ]
  },
  {
   "cell_type": "code",
   "execution_count": null,
   "id": "4b95dc0d",
   "metadata": {
    "lines_to_next_cell": 2,
    "tags": [
     "code-along"
    ]
   },
   "outputs": [],
   "source": [
    "food1.loc[\"Cake\"]"
   ]
  },
  {
   "cell_type": "code",
   "execution_count": null,
   "id": "f4503573",
   "metadata": {
    "lines_to_next_cell": 2,
    "tags": [
     "code-along"
    ]
   },
   "outputs": [],
   "source": [
    "# Error!\n",
    "# food1[\"Pie\"]"
   ]
  },
  {
   "cell_type": "code",
   "execution_count": null,
   "id": "eb061680",
   "metadata": {
    "lines_to_next_cell": 2,
    "tags": [
     "code-along"
    ]
   },
   "outputs": [],
   "source": [
    "food1.argmin()"
   ]
  },
  {
   "cell_type": "code",
   "execution_count": null,
   "id": "595764a2",
   "metadata": {
    "lines_to_next_cell": 2,
    "tags": [
     "code-along"
    ]
   },
   "outputs": [],
   "source": [
    "food1[0]"
   ]
  },
  {
   "cell_type": "code",
   "execution_count": null,
   "id": "b6b330b4",
   "metadata": {
    "lines_to_next_cell": 2,
    "tags": [
     "code-along"
    ]
   },
   "outputs": [],
   "source": [
    "food1.iloc[0]"
   ]
  },
  {
   "cell_type": "code",
   "execution_count": null,
   "id": "b5d40aa0",
   "metadata": {
    "lines_to_next_cell": 2,
    "tags": [
     "code-along"
    ]
   },
   "outputs": [],
   "source": [
    "confusing = pd.Series(data=np.linspace(0, 5, 11), index=np.arange(-5, 6))\n",
    "confusing"
   ]
  },
  {
   "cell_type": "code",
   "execution_count": null,
   "id": "39ac06bd",
   "metadata": {
    "lines_to_next_cell": 2,
    "tags": [
     "code-along"
    ]
   },
   "outputs": [],
   "source": [
    "confusing[0]"
   ]
  },
  {
   "cell_type": "code",
   "execution_count": null,
   "id": "39c80b33",
   "metadata": {
    "lines_to_next_cell": 2,
    "tags": [
     "code-along"
    ]
   },
   "outputs": [],
   "source": [
    "confusing.loc[0]"
   ]
  },
  {
   "cell_type": "code",
   "execution_count": null,
   "id": "e14477bf",
   "metadata": {
    "lines_to_next_cell": 2,
    "tags": [
     "code-along"
    ]
   },
   "outputs": [],
   "source": [
    "confusing.iloc[0]"
   ]
  },
  {
   "cell_type": "code",
   "execution_count": null,
   "id": "4de6e721",
   "metadata": {
    "lines_to_next_cell": 2,
    "tags": [
     "code-along"
    ]
   },
   "outputs": [],
   "source": [
    "food_sum = food1 + food2\n",
    "food_sum"
   ]
  },
  {
   "cell_type": "code",
   "execution_count": null,
   "id": "60dc2708",
   "metadata": {
    "lines_to_next_cell": 2,
    "tags": [
     "code-along"
    ]
   },
   "outputs": [],
   "source": [
    "food1 + 0.5"
   ]
  },
  {
   "cell_type": "code",
   "execution_count": null,
   "id": "895432e4",
   "metadata": {
    "tags": [
     "code-along"
    ]
   },
   "outputs": [],
   "source": [
    "food1"
   ]
  },
  {
   "cell_type": "code",
   "execution_count": null,
   "id": "b24d636f",
   "metadata": {
    "lines_to_next_cell": 2,
    "tags": [
     "code-along"
    ]
   },
   "outputs": [],
   "source": [
    "def discount(price):\n",
    "    return price * 0.9\n",
    "\n",
    "food1.apply(discount)"
   ]
  },
  {
   "cell_type": "code",
   "execution_count": null,
   "id": "265a5d9a",
   "metadata": {
    "lines_to_next_cell": 2,
    "tags": [
     "code-along"
    ]
   },
   "outputs": [],
   "source": [
    "food1"
   ]
  },
  {
   "cell_type": "code",
   "execution_count": null,
   "id": "b4ee4fb8",
   "metadata": {
    "lines_to_next_cell": 2,
    "tags": [
     "code-along"
    ]
   },
   "outputs": [],
   "source": [
    "food1.apply(lambda price: price * 0.9)"
   ]
  },
  {
   "cell_type": "code",
   "execution_count": null,
   "id": "c9040d8e",
   "metadata": {
    "lines_to_next_cell": 2,
    "tags": [
     "code-along"
    ]
   },
   "outputs": [],
   "source": [
    "pd.concat([food1, pd.Series({\"Chocolate\": 3.99, \"Ice Cream\": 1.99})])"
   ]
  },
  {
   "cell_type": "code",
   "execution_count": null,
   "id": "3084575f",
   "metadata": {
    "lines_to_next_cell": 2,
    "tags": [
     "code-along"
    ]
   },
   "outputs": [],
   "source": [
    "food1"
   ]
  },
  {
   "cell_type": "code",
   "execution_count": null,
   "id": "81fb7146",
   "metadata": {
    "lines_to_next_cell": 2,
    "tags": [
     "code-along"
    ]
   },
   "outputs": [],
   "source": [
    "all_food = pd.concat([food1, food2])"
   ]
  },
  {
   "cell_type": "code",
   "execution_count": null,
   "id": "d58bb7a1",
   "metadata": {
    "tags": [
     "code-along"
    ]
   },
   "outputs": [],
   "source": [
    "all_food"
   ]
  },
  {
   "cell_type": "markdown",
   "id": "1acdb18c",
   "metadata": {
    "lang": "en"
   },
   "source": [
    "### Multiple index values"
   ]
  },
  {
   "cell_type": "code",
   "execution_count": null,
   "id": "8fd17f50",
   "metadata": {
    "lines_to_next_cell": 2,
    "tags": [
     "code-along"
    ]
   },
   "outputs": [],
   "source": [
    "all_food.index"
   ]
  },
  {
   "cell_type": "code",
   "execution_count": null,
   "id": "b182577b",
   "metadata": {
    "lines_to_next_cell": 2,
    "tags": [
     "code-along"
    ]
   },
   "outputs": [],
   "source": [
    "all_food.is_unique"
   ]
  },
  {
   "cell_type": "code",
   "execution_count": null,
   "id": "28c2aa90",
   "metadata": {
    "lines_to_next_cell": 2,
    "tags": [
     "code-along"
    ]
   },
   "outputs": [],
   "source": [
    "food1.is_unique"
   ]
  },
  {
   "cell_type": "code",
   "execution_count": null,
   "id": "505761dc",
   "metadata": {
    "lines_to_next_cell": 2,
    "tags": [
     "code-along"
    ]
   },
   "outputs": [],
   "source": [
    "all_food[\"Cake\"]"
   ]
  },
  {
   "cell_type": "code",
   "execution_count": null,
   "id": "a4f7a12d",
   "metadata": {
    "lines_to_next_cell": 2,
    "tags": [
     "code-along"
    ]
   },
   "outputs": [],
   "source": [
    "type(all_food[\"Cake\"])"
   ]
  },
  {
   "cell_type": "code",
   "execution_count": null,
   "id": "2d16380a",
   "metadata": {
    "lines_to_next_cell": 2,
    "tags": [
     "code-along"
    ]
   },
   "outputs": [],
   "source": [
    "all_food[\"Pie\"]"
   ]
  },
  {
   "cell_type": "code",
   "execution_count": null,
   "id": "54a90452",
   "metadata": {
    "lines_to_next_cell": 2
   },
   "outputs": [],
   "source": [
    "type(all_food[\"Pie\"])"
   ]
  },
  {
   "cell_type": "code",
   "execution_count": null,
   "id": "161ea713",
   "metadata": {
    "tags": [
     "code-along"
    ]
   },
   "outputs": [],
   "source": [
    "all_food.groupby(all_food.index).max()"
   ]
  },
  {
   "cell_type": "markdown",
   "id": "e40de4c4",
   "metadata": {
    "lang": "en"
   },
   "source": [
    "### Sorted and unsorted Indices"
   ]
  },
  {
   "cell_type": "code",
   "execution_count": null,
   "id": "8bf488cf",
   "metadata": {
    "lines_to_next_cell": 2,
    "tags": [
     "code-along"
    ]
   },
   "outputs": [],
   "source": [
    "all_food.index.is_monotonic_increasing"
   ]
  },
  {
   "cell_type": "code",
   "execution_count": null,
   "id": "f039abda",
   "metadata": {
    "lines_to_next_cell": 2,
    "tags": [
     "code-along"
    ]
   },
   "outputs": [],
   "source": [
    "sorted_food = all_food.sort_index()"
   ]
  },
  {
   "cell_type": "code",
   "execution_count": null,
   "id": "fca7eb43",
   "metadata": {
    "lines_to_next_cell": 2,
    "tags": [
     "code-along"
    ]
   },
   "outputs": [],
   "source": [
    "sorted_food"
   ]
  },
  {
   "cell_type": "code",
   "execution_count": null,
   "id": "c0678294",
   "metadata": {
    "lines_to_next_cell": 2,
    "tags": [
     "code-along"
    ]
   },
   "outputs": [],
   "source": [
    "sorted_food.index.is_monotonic_increasing"
   ]
  },
  {
   "cell_type": "code",
   "execution_count": null,
   "id": "bba934b1",
   "metadata": {
    "lines_to_next_cell": 2,
    "tags": [
     "code-along"
    ]
   },
   "outputs": [],
   "source": [
    "all_food.sort_values()"
   ]
  },
  {
   "cell_type": "code",
   "execution_count": null,
   "id": "554c5057",
   "metadata": {
    "lines_to_next_cell": 2,
    "tags": [
     "code-along"
    ]
   },
   "outputs": [],
   "source": [
    "all_food.sort_values().is_monotonic_increasing"
   ]
  },
  {
   "cell_type": "code",
   "execution_count": null,
   "id": "a56c0215",
   "metadata": {
    "lines_to_next_cell": 2,
    "tags": [
     "code-along"
    ]
   },
   "outputs": [],
   "source": [
    "all_food[[\"Pie\", \"Cake\"]]"
   ]
  },
  {
   "cell_type": "code",
   "execution_count": null,
   "id": "50bf29ac",
   "metadata": {
    "lines_to_next_cell": 2,
    "tags": [
     "code-along"
    ]
   },
   "outputs": [],
   "source": [
    "all_food"
   ]
  },
  {
   "cell_type": "code",
   "execution_count": null,
   "id": "e3e13df0",
   "metadata": {
    "lines_to_next_cell": 2,
    "tags": [
     "code-along"
    ]
   },
   "outputs": [],
   "source": [
    "all_food[1:3]"
   ]
  },
  {
   "cell_type": "code",
   "execution_count": null,
   "id": "174a9536",
   "metadata": {
    "lines_to_next_cell": 2
   },
   "outputs": [],
   "source": [
    "# all_food['Cake':'Fudge']"
   ]
  },
  {
   "cell_type": "code",
   "execution_count": null,
   "id": "deafa477",
   "metadata": {
    "tags": [
     "code-along"
    ]
   },
   "outputs": [],
   "source": [
    "sorted_food[\"Cake\":\"Fudge\"]"
   ]
  },
  {
   "cell_type": "markdown",
   "id": "12b9dc45",
   "metadata": {
    "lang": "en"
   },
   "source": [
    "\n",
    "**Important:** The upper value of the slice, `\"Fudge\"` is contained in the\n",
    "result!"
   ]
  },
  {
   "cell_type": "markdown",
   "id": "8e92e109",
   "metadata": {
    "lang": "en"
   },
   "source": [
    "## Missing Values"
   ]
  },
  {
   "cell_type": "code",
   "execution_count": null,
   "id": "a51f4f60",
   "metadata": {
    "lines_to_next_cell": 2,
    "tags": [
     "code-along"
    ]
   },
   "outputs": [],
   "source": [
    "food = food1 + food2"
   ]
  },
  {
   "cell_type": "code",
   "execution_count": null,
   "id": "153a0bee",
   "metadata": {
    "lines_to_next_cell": 2,
    "tags": [
     "code-along"
    ]
   },
   "outputs": [],
   "source": [
    "food.isna()"
   ]
  },
  {
   "cell_type": "code",
   "execution_count": null,
   "id": "593eb5d4",
   "metadata": {
    "lines_to_next_cell": 2,
    "tags": [
     "code-along"
    ]
   },
   "outputs": [],
   "source": [
    "food.isna().sum()"
   ]
  },
  {
   "cell_type": "code",
   "execution_count": null,
   "id": "d5167404",
   "metadata": {
    "tags": [
     "code-along"
    ]
   },
   "outputs": [],
   "source": [
    "food.dropna()"
   ]
  },
  {
   "cell_type": "code",
   "execution_count": null,
   "id": "ed9df5cd",
   "metadata": {},
   "outputs": [],
   "source": []
  }
 ],
 "metadata": {
  "jupytext": {
   "cell_metadata_json": true,
   "formats": "ipynb"
  },
  "kernelspec": {
   "display_name": "Python 3 (ipykernel)",
   "language": "python",
   "name": "python3"
  }
 },
 "nbformat": 4,
 "nbformat_minor": 5
}
