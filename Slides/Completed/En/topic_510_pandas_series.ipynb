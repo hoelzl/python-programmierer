{
 "cells": [
  {
   "cell_type": "markdown",
   "id": "0dd925c2",
   "metadata": {
    "lang": "en",
    "slideshow": {
     "slide_type": "slide"
    }
   },
   "source": [
    "<img src=\"img/python-logo-notext.svg\"\n",
    "     style=\"display:block;margin:auto;width:10%\"/>\n",
    "<br>\n",
    "<div style=\"text-align:center; font-size:200%;\"><b>Pandas Series</b></div>\n",
    "<br/>\n",
    "<div style=\"text-align:center;\">Dr. Matthias Hölzl</div>"
   ]
  },
  {
   "cell_type": "markdown",
   "id": "27dee98f",
   "metadata": {
    "lang": "en"
   },
   "source": [
    "\n",
    "# Pandas Type `Series`\n",
    "\n",
    "A series represents a sequence of values, similar to a Python list. Elements\n",
    "of their series can be retrieved by their numerical index, but in addition a\n",
    "series can have a semantically meaningful index (e.g., for time series).\n",
    "\n",
    "Internally, a Pandas series is backed by a numpy array, therefore most of the\n",
    "numpy operations are applicable to series as well.\n",
    "\n",
    "In addition it is easy (and cheap) to convert series to numpy."
   ]
  },
  {
   "cell_type": "code",
   "execution_count": null,
   "id": "eeae7ea4",
   "metadata": {},
   "outputs": [],
   "source": [
    "import numpy as np\n",
    "import pandas as pd"
   ]
  },
  {
   "cell_type": "markdown",
   "id": "7206de62",
   "metadata": {
    "lang": "en"
   },
   "source": [
    "## Creation\n",
    "\n",
    "### From Lists"
   ]
  },
  {
   "cell_type": "code",
   "execution_count": null,
   "id": "51273180",
   "metadata": {
    "lines_to_next_cell": 2,
    "tags": [
     "code-along"
    ]
   },
   "outputs": [],
   "source": [
    "pd.Series(data=[10, 20, 30, 40])"
   ]
  },
  {
   "cell_type": "code",
   "execution_count": null,
   "id": "eee831d7",
   "metadata": {
    "tags": [
     "code-along"
    ]
   },
   "outputs": [],
   "source": [
    "pd.Series([\"a\", \"b\", \"c\"])"
   ]
  },
  {
   "cell_type": "markdown",
   "id": "a27e71c7",
   "metadata": {
    "lang": "en"
   },
   "source": [
    "### From Lists with Index"
   ]
  },
  {
   "cell_type": "code",
   "execution_count": null,
   "id": "35f84dac",
   "metadata": {
    "tags": [
     "code-along"
    ]
   },
   "outputs": [],
   "source": [
    "pd.Series(data=[1, 2, 3, 4], index=[\"w\", \"x\", \"y\", \"z\"])"
   ]
  },
  {
   "cell_type": "markdown",
   "id": "1d4e60d4",
   "metadata": {
    "lang": "en"
   },
   "source": [
    "### From Range or Other Iterable"
   ]
  },
  {
   "cell_type": "code",
   "execution_count": null,
   "id": "81aee56a",
   "metadata": {
    "tags": [
     "code-along"
    ]
   },
   "outputs": [],
   "source": [
    "pd.Series(data=range(1, 201, 2))"
   ]
  },
  {
   "cell_type": "code",
   "execution_count": null,
   "id": "e8f7f74b",
   "metadata": {
    "tags": [
     "code-along"
    ]
   },
   "outputs": [],
   "source": [
    "data = pd.Series(data=range(1, 201, 2))\n",
    "data.head()"
   ]
  },
  {
   "cell_type": "code",
   "execution_count": null,
   "id": "27062147",
   "metadata": {
    "tags": [
     "code-along"
    ]
   },
   "outputs": [],
   "source": [
    "data.tail()"
   ]
  },
  {
   "cell_type": "markdown",
   "id": "6ded6cc0",
   "metadata": {
    "lang": "en"
   },
   "source": [
    "### From Dictionary"
   ]
  },
  {
   "cell_type": "code",
   "execution_count": null,
   "id": "1d6fa910",
   "metadata": {
    "tags": [
     "code-along"
    ]
   },
   "outputs": [],
   "source": [
    "pd.Series(data={\"Ice Cream\": 2.49, \"Cake\": 4.99, \"Fudge\": 7.99})"
   ]
  },
  {
   "cell_type": "markdown",
   "id": "30214858",
   "metadata": {
    "lang": "en"
   },
   "source": [
    "## Indices and Operations"
   ]
  },
  {
   "cell_type": "code",
   "execution_count": null,
   "id": "7c516a79",
   "metadata": {
    "lines_to_next_cell": 2
   },
   "outputs": [],
   "source": [
    "food1 = pd.Series({\"Ice Cream\": 2.49, \"Cake\": 4.99, \"Fudge\": 7.99})\n",
    "food2 = pd.Series({\"Cake\": 4.99, \"Ice Cream\": 3.99, \"Pie\": 3.49, \"Cheese\": 1.99})"
   ]
  },
  {
   "cell_type": "code",
   "execution_count": null,
   "id": "4bc54fc1",
   "metadata": {
    "lines_to_next_cell": 2,
    "tags": [
     "code-along"
    ]
   },
   "outputs": [],
   "source": [
    "food1"
   ]
  },
  {
   "cell_type": "code",
   "execution_count": null,
   "id": "1f804af9",
   "metadata": {
    "lines_to_next_cell": 2,
    "tags": [
     "code-along"
    ]
   },
   "outputs": [],
   "source": [
    "food1.index"
   ]
  },
  {
   "cell_type": "code",
   "execution_count": null,
   "id": "31f76483",
   "metadata": {
    "lines_to_next_cell": 2,
    "tags": [
     "code-along"
    ]
   },
   "outputs": [],
   "source": [
    "food1.size"
   ]
  },
  {
   "cell_type": "code",
   "execution_count": null,
   "id": "6fa3c635",
   "metadata": {
    "lines_to_next_cell": 2,
    "tags": [
     "code-along"
    ]
   },
   "outputs": [],
   "source": [
    "food1.sum()"
   ]
  },
  {
   "cell_type": "code",
   "execution_count": null,
   "id": "c91cd375",
   "metadata": {
    "lines_to_next_cell": 2,
    "tags": [
     "code-along"
    ]
   },
   "outputs": [],
   "source": [
    "food1.mean()"
   ]
  },
  {
   "cell_type": "code",
   "execution_count": null,
   "id": "ea269ba4",
   "metadata": {
    "lines_to_next_cell": 2,
    "tags": [
     "code-along"
    ]
   },
   "outputs": [],
   "source": [
    "food1.name"
   ]
  },
  {
   "cell_type": "code",
   "execution_count": null,
   "id": "7c99cf89",
   "metadata": {
    "lines_to_next_cell": 2,
    "tags": [
     "code-along"
    ]
   },
   "outputs": [],
   "source": [
    "food1.name = \"Deserts\""
   ]
  },
  {
   "cell_type": "code",
   "execution_count": null,
   "id": "69faad77",
   "metadata": {
    "lines_to_next_cell": 2,
    "tags": [
     "code-along"
    ]
   },
   "outputs": [],
   "source": [
    "food1.name"
   ]
  },
  {
   "cell_type": "code",
   "execution_count": null,
   "id": "3ee65278",
   "metadata": {
    "lines_to_next_cell": 2,
    "tags": [
     "code-along"
    ]
   },
   "outputs": [],
   "source": [
    "food1"
   ]
  },
  {
   "cell_type": "code",
   "execution_count": null,
   "id": "c5d3f782",
   "metadata": {
    "lines_to_next_cell": 2,
    "tags": [
     "code-along"
    ]
   },
   "outputs": [],
   "source": [
    "food1.plot.bar(legend=True)"
   ]
  },
  {
   "cell_type": "code",
   "execution_count": null,
   "id": "c872ad08",
   "metadata": {
    "lines_to_next_cell": 2,
    "tags": [
     "code-along"
    ]
   },
   "outputs": [],
   "source": [
    "import random\n",
    "data = pd.Series(data=[random.gauss(0.0, 10.0) for _ in range(2_000)])\n",
    "data.plot.hist(legend=False, bins=20)"
   ]
  },
  {
   "cell_type": "code",
   "execution_count": null,
   "id": "0c3575e2",
   "metadata": {
    "lines_to_next_cell": 2,
    "tags": [
     "code-along"
    ]
   },
   "outputs": [],
   "source": [
    "food1[\"Cake\"]"
   ]
  },
  {
   "cell_type": "code",
   "execution_count": null,
   "id": "5f3b01a7",
   "metadata": {
    "lines_to_next_cell": 2,
    "tags": [
     "code-along"
    ]
   },
   "outputs": [],
   "source": [
    "food1.loc[\"Cake\"]"
   ]
  },
  {
   "cell_type": "code",
   "execution_count": null,
   "id": "cd3ca495",
   "metadata": {
    "lines_to_next_cell": 2,
    "tags": [
     "code-along"
    ]
   },
   "outputs": [],
   "source": [
    "# Error!\n",
    "# food1[\"Pie\"]"
   ]
  },
  {
   "cell_type": "code",
   "execution_count": null,
   "id": "fb8dd1ef",
   "metadata": {
    "lines_to_next_cell": 2,
    "tags": [
     "code-along"
    ]
   },
   "outputs": [],
   "source": [
    "food1.argmin()"
   ]
  },
  {
   "cell_type": "code",
   "execution_count": null,
   "id": "f1c7a139",
   "metadata": {
    "lines_to_next_cell": 2,
    "tags": [
     "code-along"
    ]
   },
   "outputs": [],
   "source": [
    "food1[0]"
   ]
  },
  {
   "cell_type": "code",
   "execution_count": null,
   "id": "232a0950",
   "metadata": {
    "lines_to_next_cell": 2,
    "tags": [
     "code-along"
    ]
   },
   "outputs": [],
   "source": [
    "food1.iloc[0]"
   ]
  },
  {
   "cell_type": "code",
   "execution_count": null,
   "id": "797bb913",
   "metadata": {
    "lines_to_next_cell": 2,
    "tags": [
     "code-along"
    ]
   },
   "outputs": [],
   "source": [
    "confusing = pd.Series(data=np.linspace(0, 5, 11), index=np.arange(-5, 6))\n",
    "confusing"
   ]
  },
  {
   "cell_type": "code",
   "execution_count": null,
   "id": "d21db95b",
   "metadata": {
    "lines_to_next_cell": 2,
    "tags": [
     "code-along"
    ]
   },
   "outputs": [],
   "source": [
    "confusing[0]"
   ]
  },
  {
   "cell_type": "code",
   "execution_count": null,
   "id": "807ab0af",
   "metadata": {
    "lines_to_next_cell": 2,
    "tags": [
     "code-along"
    ]
   },
   "outputs": [],
   "source": [
    "confusing.loc[0]"
   ]
  },
  {
   "cell_type": "code",
   "execution_count": null,
   "id": "1e5e42ee",
   "metadata": {
    "lines_to_next_cell": 2,
    "tags": [
     "code-along"
    ]
   },
   "outputs": [],
   "source": [
    "confusing.iloc[0]"
   ]
  },
  {
   "cell_type": "code",
   "execution_count": null,
   "id": "29ca8b9d",
   "metadata": {
    "lines_to_next_cell": 2,
    "tags": [
     "code-along"
    ]
   },
   "outputs": [],
   "source": [
    "food_sum = food1 + food2\n",
    "food_sum"
   ]
  },
  {
   "cell_type": "code",
   "execution_count": null,
   "id": "8fbbb0d4",
   "metadata": {
    "lines_to_next_cell": 2,
    "tags": [
     "code-along"
    ]
   },
   "outputs": [],
   "source": [
    "food1 + 0.5"
   ]
  },
  {
   "cell_type": "code",
   "execution_count": null,
   "id": "2f98f94b",
   "metadata": {
    "tags": [
     "code-along"
    ]
   },
   "outputs": [],
   "source": [
    "food1"
   ]
  },
  {
   "cell_type": "code",
   "execution_count": null,
   "id": "5f112f93",
   "metadata": {
    "lines_to_next_cell": 2,
    "tags": [
     "code-along"
    ]
   },
   "outputs": [],
   "source": [
    "def discount(price):\n",
    "    return price * 0.9\n",
    "\n",
    "food1.apply(discount)"
   ]
  },
  {
   "cell_type": "code",
   "execution_count": null,
   "id": "1cce02ac",
   "metadata": {
    "lines_to_next_cell": 2,
    "tags": [
     "code-along"
    ]
   },
   "outputs": [],
   "source": [
    "food1"
   ]
  },
  {
   "cell_type": "code",
   "execution_count": null,
   "id": "41f8c520",
   "metadata": {
    "lines_to_next_cell": 2,
    "tags": [
     "code-along"
    ]
   },
   "outputs": [],
   "source": [
    "food1.apply(lambda price: price * 0.9)"
   ]
  },
  {
   "cell_type": "code",
   "execution_count": null,
   "id": "09956f63",
   "metadata": {
    "lines_to_next_cell": 2,
    "tags": [
     "code-along"
    ]
   },
   "outputs": [],
   "source": [
    "pd.concat([food1, pd.Series({\"Chocolate\": 3.99, \"Ice Cream\": 1.99})])"
   ]
  },
  {
   "cell_type": "code",
   "execution_count": null,
   "id": "abc1b869",
   "metadata": {
    "lines_to_next_cell": 2,
    "tags": [
     "code-along"
    ]
   },
   "outputs": [],
   "source": [
    "food1"
   ]
  },
  {
   "cell_type": "code",
   "execution_count": null,
   "id": "162e704c",
   "metadata": {
    "lines_to_next_cell": 2,
    "tags": [
     "code-along"
    ]
   },
   "outputs": [],
   "source": [
    "all_food = pd.concat([food1, food2])"
   ]
  },
  {
   "cell_type": "code",
   "execution_count": null,
   "id": "43975024",
   "metadata": {
    "tags": [
     "code-along"
    ]
   },
   "outputs": [],
   "source": [
    "all_food"
   ]
  },
  {
   "cell_type": "markdown",
   "id": "eb4c2d3e",
   "metadata": {
    "lang": "en"
   },
   "source": [
    "### Multiple index values"
   ]
  },
  {
   "cell_type": "code",
   "execution_count": null,
   "id": "f175ec87",
   "metadata": {
    "lines_to_next_cell": 2,
    "tags": [
     "code-along"
    ]
   },
   "outputs": [],
   "source": [
    "all_food.index"
   ]
  },
  {
   "cell_type": "code",
   "execution_count": null,
   "id": "f48faf9e",
   "metadata": {
    "lines_to_next_cell": 2,
    "tags": [
     "code-along"
    ]
   },
   "outputs": [],
   "source": [
    "all_food.is_unique"
   ]
  },
  {
   "cell_type": "code",
   "execution_count": null,
   "id": "7506d38b",
   "metadata": {
    "lines_to_next_cell": 2,
    "tags": [
     "code-along"
    ]
   },
   "outputs": [],
   "source": [
    "food1.is_unique"
   ]
  },
  {
   "cell_type": "code",
   "execution_count": null,
   "id": "34292c34",
   "metadata": {
    "lines_to_next_cell": 2,
    "tags": [
     "code-along"
    ]
   },
   "outputs": [],
   "source": [
    "all_food[\"Cake\"]"
   ]
  },
  {
   "cell_type": "code",
   "execution_count": null,
   "id": "535c0687",
   "metadata": {
    "lines_to_next_cell": 2,
    "tags": [
     "code-along"
    ]
   },
   "outputs": [],
   "source": [
    "type(all_food[\"Cake\"])"
   ]
  },
  {
   "cell_type": "code",
   "execution_count": null,
   "id": "785e41cf",
   "metadata": {
    "lines_to_next_cell": 2,
    "tags": [
     "code-along"
    ]
   },
   "outputs": [],
   "source": [
    "all_food[\"Pie\"]"
   ]
  },
  {
   "cell_type": "code",
   "execution_count": null,
   "id": "d48644a5",
   "metadata": {
    "lines_to_next_cell": 2
   },
   "outputs": [],
   "source": [
    "type(all_food[\"Pie\"])"
   ]
  },
  {
   "cell_type": "code",
   "execution_count": null,
   "id": "5c256437",
   "metadata": {
    "tags": [
     "code-along"
    ]
   },
   "outputs": [],
   "source": [
    "all_food.groupby(all_food.index).max()"
   ]
  },
  {
   "cell_type": "markdown",
   "id": "0f7a6169",
   "metadata": {
    "lang": "en"
   },
   "source": [
    "### Sorted and unsorted Indices"
   ]
  },
  {
   "cell_type": "code",
   "execution_count": null,
   "id": "607b41c7",
   "metadata": {
    "lines_to_next_cell": 2,
    "tags": [
     "code-along"
    ]
   },
   "outputs": [],
   "source": [
    "all_food.index.is_monotonic_increasing"
   ]
  },
  {
   "cell_type": "code",
   "execution_count": null,
   "id": "2be5346a",
   "metadata": {
    "lines_to_next_cell": 2,
    "tags": [
     "code-along"
    ]
   },
   "outputs": [],
   "source": [
    "sorted_food = all_food.sort_index()"
   ]
  },
  {
   "cell_type": "code",
   "execution_count": null,
   "id": "88f008f3",
   "metadata": {
    "lines_to_next_cell": 2,
    "tags": [
     "code-along"
    ]
   },
   "outputs": [],
   "source": [
    "sorted_food"
   ]
  },
  {
   "cell_type": "code",
   "execution_count": null,
   "id": "82c8c351",
   "metadata": {
    "lines_to_next_cell": 2,
    "tags": [
     "code-along"
    ]
   },
   "outputs": [],
   "source": [
    "sorted_food.index.is_monotonic_increasing"
   ]
  },
  {
   "cell_type": "code",
   "execution_count": null,
   "id": "ae1b5da0",
   "metadata": {
    "lines_to_next_cell": 2,
    "tags": [
     "code-along"
    ]
   },
   "outputs": [],
   "source": [
    "all_food.sort_values()"
   ]
  },
  {
   "cell_type": "code",
   "execution_count": null,
   "id": "8011f7fd",
   "metadata": {
    "lines_to_next_cell": 2,
    "tags": [
     "code-along"
    ]
   },
   "outputs": [],
   "source": [
    "all_food.sort_values().is_monotonic_increasing"
   ]
  },
  {
   "cell_type": "code",
   "execution_count": null,
   "id": "5b222b5d",
   "metadata": {
    "lines_to_next_cell": 2,
    "tags": [
     "code-along"
    ]
   },
   "outputs": [],
   "source": [
    "all_food[[\"Pie\", \"Cake\"]]"
   ]
  },
  {
   "cell_type": "code",
   "execution_count": null,
   "id": "31f18ac4",
   "metadata": {
    "lines_to_next_cell": 2,
    "tags": [
     "code-along"
    ]
   },
   "outputs": [],
   "source": [
    "all_food"
   ]
  },
  {
   "cell_type": "code",
   "execution_count": null,
   "id": "7fd975cc",
   "metadata": {
    "lines_to_next_cell": 2,
    "tags": [
     "code-along"
    ]
   },
   "outputs": [],
   "source": [
    "all_food[1:3]"
   ]
  },
  {
   "cell_type": "code",
   "execution_count": null,
   "id": "5d8c1ede",
   "metadata": {
    "lines_to_next_cell": 2
   },
   "outputs": [],
   "source": [
    "# all_food['Cake':'Fudge']"
   ]
  },
  {
   "cell_type": "code",
   "execution_count": null,
   "id": "7a7809d7",
   "metadata": {
    "tags": [
     "code-along"
    ]
   },
   "outputs": [],
   "source": [
    "sorted_food[\"Cake\":\"Fudge\"]"
   ]
  },
  {
   "cell_type": "markdown",
   "id": "9f01d7e3",
   "metadata": {
    "lang": "en"
   },
   "source": [
    "\n",
    "**Important:** The upper value of the slice, `\"Fudge\"` is contained in the\n",
    "result!"
   ]
  },
  {
   "cell_type": "markdown",
   "id": "6f19c66d",
   "metadata": {
    "lang": "en"
   },
   "source": [
    "## Missing Values"
   ]
  },
  {
   "cell_type": "code",
   "execution_count": null,
   "id": "bd844c72",
   "metadata": {
    "lines_to_next_cell": 2,
    "tags": [
     "code-along"
    ]
   },
   "outputs": [],
   "source": [
    "food = food1 + food2"
   ]
  },
  {
   "cell_type": "code",
   "execution_count": null,
   "id": "e3fa7721",
   "metadata": {
    "lines_to_next_cell": 2,
    "tags": [
     "code-along"
    ]
   },
   "outputs": [],
   "source": [
    "food.isna()"
   ]
  },
  {
   "cell_type": "code",
   "execution_count": null,
   "id": "96309aee",
   "metadata": {
    "lines_to_next_cell": 2,
    "tags": [
     "code-along"
    ]
   },
   "outputs": [],
   "source": [
    "food.isna().sum()"
   ]
  },
  {
   "cell_type": "code",
   "execution_count": null,
   "id": "aa8095bc",
   "metadata": {
    "tags": [
     "code-along"
    ]
   },
   "outputs": [],
   "source": [
    "food.dropna()"
   ]
  },
  {
   "cell_type": "code",
   "execution_count": null,
   "id": "85a4c8e1",
   "metadata": {},
   "outputs": [],
   "source": []
  }
 ],
 "metadata": {
  "jupytext": {
   "cell_metadata_json": true,
   "formats": "ipynb"
  },
  "kernelspec": {
   "display_name": "Python 3 (ipykernel)",
   "language": "python",
   "name": "python3"
  }
 },
 "nbformat": 4,
 "nbformat_minor": 5
}
