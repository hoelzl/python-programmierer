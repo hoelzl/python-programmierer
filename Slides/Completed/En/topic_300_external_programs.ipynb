{
 "cells": [
  {
   "cell_type": "markdown",
   "id": "8155e7a1",
   "metadata": {
    "lang": "en",
    "slideshow": {
     "slide_type": "slide"
    }
   },
   "source": [
    "<img src=\"img/python-logo-notext.svg\"\n",
    "     style=\"display:block;margin:auto;width:10%\"/>\n",
    "<br>\n",
    "<div style=\"text-align:center; font-size:200%;\"><b>External Programs</b></div>\n",
    "<br/>\n",
    "<div style=\"text-align:center;\">Dr. Matthias Hölzl</div>"
   ]
  },
  {
   "cell_type": "markdown",
   "id": "4056eb90",
   "metadata": {
    "lang": "en",
    "slideshow": {
     "slide_type": "slide"
    }
   },
   "source": [
    "## Subprocesses\n",
    "\n",
    "*Note:* You need to have the `ext_sample_app` package (in\n",
    "`Examples/ExternalSampleApplication`) installed to run the following examples.\n",
    "\n",
    "`subprocess.run()` is the preferred way of running external applications."
   ]
  },
  {
   "cell_type": "code",
   "execution_count": null,
   "id": "6a660f6c",
   "metadata": {
    "tags": [
     "code-along"
    ]
   },
   "outputs": [],
   "source": [
    "from subprocess import TimeoutExpired, run"
   ]
  },
  {
   "cell_type": "code",
   "execution_count": null,
   "id": "aa8e25a7",
   "metadata": {
    "tags": [
     "code-along"
    ]
   },
   "outputs": [],
   "source": [
    "# This may not work if `python` is not in your path...\n",
    "run([\"python\", \"--version\"])"
   ]
  },
  {
   "cell_type": "markdown",
   "id": "57c9ae91",
   "metadata": {
    "lang": "en"
   },
   "source": [
    "With `shutil.which()` you can determine the full path of a program."
   ]
  },
  {
   "cell_type": "code",
   "execution_count": null,
   "id": "d83484ca",
   "metadata": {
    "tags": [
     "code-along"
    ]
   },
   "outputs": [],
   "source": [
    "import shutil\n",
    "\n",
    "shutil.which(\"python\")"
   ]
  },
  {
   "cell_type": "code",
   "execution_count": null,
   "id": "1d03ce9b",
   "metadata": {
    "lines_to_next_cell": 1,
    "tags": [
     "code-along"
    ]
   },
   "outputs": [],
   "source": [
    "cp = run([shutil.which(\"python\"), \"--version\"])"
   ]
  },
  {
   "cell_type": "code",
   "execution_count": null,
   "id": "b2fb83fa",
   "metadata": {
    "tags": [
     "code-along"
    ]
   },
   "outputs": [],
   "source": [
    "def print_completed_process(cp):\n",
    "    print(\"return code:\", cp.returncode)\n",
    "    print(\"captured stdout:\", repr(cp.stdout))\n",
    "    print(\"captured stderr:\", repr(cp.stderr))"
   ]
  },
  {
   "cell_type": "code",
   "execution_count": null,
   "id": "9afeb2c6",
   "metadata": {
    "tags": [
     "code-along"
    ]
   },
   "outputs": [],
   "source": [
    "print_completed_process(cp)"
   ]
  },
  {
   "cell_type": "code",
   "execution_count": null,
   "id": "0859a9b0",
   "metadata": {
    "tags": [
     "code-along"
    ]
   },
   "outputs": [],
   "source": [
    "cp = run([shutil.which(\"python\"), \"--version\"], capture_output=True, text=True)"
   ]
  },
  {
   "cell_type": "code",
   "execution_count": null,
   "id": "184b6fb6",
   "metadata": {
    "tags": [
     "code-along"
    ]
   },
   "outputs": [],
   "source": [
    "print_completed_process(cp)"
   ]
  },
  {
   "cell_type": "markdown",
   "id": "1a3f9062",
   "metadata": {
    "lang": "en"
   },
   "source": [
    "With `sys.executable` you can find out the path of the currently active Python interpreter. This is the preferred way to start a Python process."
   ]
  },
  {
   "cell_type": "code",
   "execution_count": null,
   "id": "9aa5c910",
   "metadata": {
    "tags": [
     "code-along"
    ]
   },
   "outputs": [],
   "source": [
    "import sys\n",
    "\n",
    "cp = run([sys.executable, \"--version\"], capture_output=True, text=True)"
   ]
  },
  {
   "cell_type": "code",
   "execution_count": null,
   "id": "e98ee8ca",
   "metadata": {
    "tags": [
     "code-along"
    ]
   },
   "outputs": [],
   "source": [
    "print_completed_process(cp)"
   ]
  },
  {
   "cell_type": "code",
   "execution_count": null,
   "id": "36ee7897",
   "metadata": {
    "tags": [
     "code-along"
    ]
   },
   "outputs": [],
   "source": [
    "cp = run([sys.executable, \"-m\", \"ext_sample_app\"], capture_output=True, text=True)"
   ]
  },
  {
   "cell_type": "code",
   "execution_count": null,
   "id": "ffddb805",
   "metadata": {
    "tags": [
     "code-along"
    ]
   },
   "outputs": [],
   "source": [
    "print_completed_process(cp)"
   ]
  },
  {
   "cell_type": "code",
   "execution_count": null,
   "id": "b17df7d8",
   "metadata": {
    "tags": [
     "code-along"
    ]
   },
   "outputs": [],
   "source": [
    "cp = run(\n",
    "    [sys.executable, \"-m\", \"ext_sample_app\", \"--help\"], capture_output=True, text=True\n",
    ")"
   ]
  },
  {
   "cell_type": "code",
   "execution_count": null,
   "id": "d876854c",
   "metadata": {
    "tags": [
     "code-along"
    ]
   },
   "outputs": [],
   "source": [
    "print_completed_process(cp)"
   ]
  },
  {
   "cell_type": "code",
   "execution_count": null,
   "id": "0162921f",
   "metadata": {
    "tags": [
     "code-along"
    ]
   },
   "outputs": [],
   "source": [
    "cp = run(\n",
    "    [sys.executable, \"-m\", \"ext_sample_app\", \"say-hi\"], capture_output=True, text=True\n",
    ")"
   ]
  },
  {
   "cell_type": "code",
   "execution_count": null,
   "id": "500bac4a",
   "metadata": {
    "tags": [
     "code-along"
    ]
   },
   "outputs": [],
   "source": [
    "print_completed_process(cp)"
   ]
  },
  {
   "cell_type": "code",
   "execution_count": null,
   "id": "1e956b8a",
   "metadata": {
    "tags": [
     "code-along"
    ]
   },
   "outputs": [],
   "source": [
    "cp = run(\n",
    "    [sys.executable, \"-m\", \"ext_sample_app\", \"error\"], capture_output=True, text=True\n",
    ")"
   ]
  },
  {
   "cell_type": "code",
   "execution_count": null,
   "id": "54ee8670",
   "metadata": {
    "tags": [
     "code-along"
    ]
   },
   "outputs": [],
   "source": [
    "print_completed_process(cp)"
   ]
  },
  {
   "cell_type": "code",
   "execution_count": null,
   "id": "d83c3dab",
   "metadata": {
    "tags": [
     "code-along"
    ]
   },
   "outputs": [],
   "source": [
    "# THIS DOES NOT WORK!\n",
    "# cp = run(\n",
    "#     [sys.executable, \"-m\", \"ext_sample_app\", \"interact\"], capture_output=True, text=True\n",
    "# )"
   ]
  },
  {
   "cell_type": "markdown",
   "id": "b1ed093b",
   "metadata": {
    "lang": "en"
   },
   "source": [
    "## Popen: Concurrent execution of programs\n",
    "\n",
    "If you can't wait for the launched program to finish, you have to use the `subprocess.Popen` class:"
   ]
  },
  {
   "cell_type": "code",
   "execution_count": null,
   "id": "56571f8b",
   "metadata": {
    "tags": [
     "code-along"
    ]
   },
   "outputs": [],
   "source": [
    "from subprocess import Popen, PIPE\n",
    "import sys"
   ]
  },
  {
   "cell_type": "code",
   "execution_count": null,
   "id": "54e41b8c",
   "metadata": {
    "tags": [
     "code-along"
    ]
   },
   "outputs": [],
   "source": [
    "proc = Popen(\n",
    "    [sys.executable, \"-m\", \"ext_sample_app\", \"interact\"],\n",
    "    stdin=PIPE,\n",
    "    stderr=PIPE,\n",
    "    stdout=PIPE,\n",
    "    encoding=\"utf-8\",\n",
    "    universal_newlines=True,\n",
    "    bufsize=0,\n",
    ")"
   ]
  },
  {
   "cell_type": "code",
   "execution_count": null,
   "id": "74408af0",
   "metadata": {
    "tags": [
     "code-along"
    ]
   },
   "outputs": [],
   "source": [
    "type(proc)"
   ]
  },
  {
   "cell_type": "markdown",
   "id": "76168982",
   "metadata": {
    "lang": "en"
   },
   "source": [
    "`proc.communicate()` sends a message to `proc`, closes the input and output streams and ends the process."
   ]
  },
  {
   "cell_type": "code",
   "execution_count": null,
   "id": "e5ae33d7",
   "metadata": {
    "tags": [
     "code-along"
    ]
   },
   "outputs": [],
   "source": [
    "proc.communicate(\"work\")"
   ]
  },
  {
   "cell_type": "markdown",
   "id": "0a612a3e",
   "metadata": {
    "lang": "en"
   },
   "source": [
    "With `proc.poll()` you can determine whether the process has already ended and what its return value was. If the result is `None`, the process is still active. `proc.wait()` waits a certain amount of time and returns the status of the process. If the process hasn't finished in the allotted time, a `TimeoutExpired` exception is thrown."
   ]
  },
  {
   "cell_type": "code",
   "execution_count": null,
   "id": "c418072d",
   "metadata": {
    "lines_to_next_cell": 1,
    "tags": [
     "code-along"
    ]
   },
   "outputs": [],
   "source": [
    "proc.poll()"
   ]
  },
  {
   "cell_type": "code",
   "execution_count": null,
   "id": "ddcbad2e",
   "metadata": {
    "tags": [
     "code-along"
    ]
   },
   "outputs": [],
   "source": [
    "def run_and_communicate(command):\n",
    "    proc = Popen(\n",
    "        [sys.executable, \"-m\", \"ext_sample_app\", \"interact\"],\n",
    "        stdin=PIPE,\n",
    "        stderr=PIPE,\n",
    "        stdout=PIPE,\n",
    "        encoding=\"utf-8\",\n",
    "        universal_newlines=True,\n",
    "        bufsize=0,\n",
    "    )\n",
    "    result = proc.communicate(command)\n",
    "    try:\n",
    "        wait_result = proc.wait(5)\n",
    "    except TimeoutExpired:\n",
    "        print(\"Process did not terminate!\")\n",
    "        proc.terminate()\n",
    "        wait_result = proc.wait(5)\n",
    "    return result, wait_result"
   ]
  },
  {
   "cell_type": "code",
   "execution_count": null,
   "id": "4f26574b",
   "metadata": {
    "tags": [
     "code-along"
    ]
   },
   "outputs": [],
   "source": [
    "run_and_communicate(\"work\")"
   ]
  },
  {
   "cell_type": "code",
   "execution_count": null,
   "id": "db2d1350",
   "metadata": {
    "tags": [
     "code-along"
    ]
   },
   "outputs": [],
   "source": [
    "run_and_communicate(\"exit\")"
   ]
  },
  {
   "cell_type": "code",
   "execution_count": null,
   "id": "a11ac860",
   "metadata": {
    "tags": [
     "code-along"
    ]
   },
   "outputs": [],
   "source": [
    "run_and_communicate(\"error\")"
   ]
  },
  {
   "cell_type": "markdown",
   "id": "8820bee1",
   "metadata": {
    "lang": "en"
   },
   "source": [
    "## Communication with sockets\n",
    "\n",
    "The following example shows how to start a process and then communicate with it using sockets."
   ]
  },
  {
   "cell_type": "code",
   "execution_count": null,
   "id": "504e5f15",
   "metadata": {
    "tags": [
     "code-along"
    ]
   },
   "outputs": [],
   "source": [
    "from subprocess import Popen, PIPE\n",
    "import sys\n",
    "\n",
    "HOST = \"localhost\"\n",
    "PORT = 12345"
   ]
  },
  {
   "cell_type": "code",
   "execution_count": null,
   "id": "ea52531c",
   "metadata": {
    "tags": [
     "code-along"
    ]
   },
   "outputs": [],
   "source": [
    "from socket import socket, AF_INET, SOCK_STREAM\n",
    "import sys\n",
    "\n",
    "\n",
    "def send_message(msg: str):\n",
    "    with socket(AF_INET, SOCK_STREAM) as sock:\n",
    "        sock.connect((HOST, PORT))\n",
    "        sock.sendall(bytes(msg + \"\\n\", \"utf-8\"))\n",
    "        return str(sock.recv(1024), \"utf-8\")"
   ]
  },
  {
   "cell_type": "code",
   "execution_count": null,
   "id": "45577541",
   "metadata": {
    "tags": [
     "code-along"
    ]
   },
   "outputs": [],
   "source": [
    "proc = Popen(\n",
    "    [\n",
    "        sys.executable,\n",
    "        \"-m\",\n",
    "        \"ext_sample_app\",\n",
    "        \"serve\",\n",
    "        \"--host\",\n",
    "        HOST,\n",
    "        \"--port\",\n",
    "        str(PORT),\n",
    "    ],\n",
    "    stdin=PIPE,\n",
    "    stderr=PIPE,\n",
    "    stdout=PIPE,\n",
    "    encoding=\"utf-8\",\n",
    "    universal_newlines=True,\n",
    "    bufsize=0,\n",
    ")"
   ]
  },
  {
   "cell_type": "code",
   "execution_count": null,
   "id": "04156823",
   "metadata": {
    "tags": [
     "code-along"
    ]
   },
   "outputs": [],
   "source": [
    "proc.poll()"
   ]
  },
  {
   "cell_type": "code",
   "execution_count": null,
   "id": "ac3910f0",
   "metadata": {
    "tags": [
     "code-along"
    ]
   },
   "outputs": [],
   "source": [
    "send_message(\"Hello, world!\")"
   ]
  },
  {
   "cell_type": "code",
   "execution_count": null,
   "id": "d4f20a20",
   "metadata": {
    "tags": [
     "code-along"
    ]
   },
   "outputs": [],
   "source": [
    "send_message(\"Are you running?\")"
   ]
  },
  {
   "cell_type": "code",
   "execution_count": null,
   "id": "94db1b5d",
   "metadata": {
    "tags": [
     "code-along"
    ]
   },
   "outputs": [],
   "source": [
    "proc.poll()"
   ]
  },
  {
   "cell_type": "code",
   "execution_count": null,
   "id": "8cdfaa63",
   "metadata": {
    "tags": [
     "code-along"
    ]
   },
   "outputs": [],
   "source": [
    "proc.terminate()"
   ]
  },
  {
   "cell_type": "code",
   "execution_count": null,
   "id": "2f5a2a96",
   "metadata": {
    "tags": [
     "code-along"
    ]
   },
   "outputs": [],
   "source": [
    "proc.poll()"
   ]
  },
  {
   "cell_type": "code",
   "execution_count": null,
   "id": "b171e43b",
   "metadata": {
    "tags": [
     "code-along"
    ]
   },
   "outputs": [],
   "source": [
    "try:\n",
    "    send_message(\"Are you still running?\")\n",
    "except ConnectionRefusedError as err:\n",
    "    print(\"Could not connect to server.\")\n",
    "    print(err)"
   ]
  },
  {
   "cell_type": "code",
   "execution_count": null,
   "id": "2e02f0ec",
   "metadata": {
    "tags": [
     "code-along"
    ]
   },
   "outputs": [],
   "source": [
    "proc.poll()"
   ]
  },
  {
   "cell_type": "code",
   "execution_count": null,
   "id": "37d46ba5",
   "metadata": {
    "tags": [
     "code-along"
    ]
   },
   "outputs": [],
   "source": []
  }
 ],
 "metadata": {
  "jupytext": {
   "cell_metadata_json": true,
   "formats": "ipynb"
  },
  "kernelspec": {
   "display_name": "Python 3 (ipykernel)",
   "language": "python",
   "name": "python3"
  }
 },
 "nbformat": 4,
 "nbformat_minor": 5
}
