{
 "cells": [
  {
   "cell_type": "code",
   "execution_count": null,
   "id": "9d9af8c4",
   "metadata": {},
   "outputs": [],
   "source": []
  },
  {
   "cell_type": "markdown",
   "id": "d63baf4e",
   "metadata": {
    "lines_to_next_cell": 2,
    "slideshow": {
     "slide_type": "slide"
    }
   },
   "source": [
    "<img src=\"img/python-logo-notext.svg\"\n",
    "     style=\"display:block;margin:auto;width:10%\"/>\n",
    "<h1 style=\"text-align:center;\">Iteratoren und Generatoren</h1>\n",
    "<br/>\n",
    "<div style=\"text-align:center;\">Dr. Matthias Hölzl</div>"
   ]
  },
  {
   "cell_type": "markdown",
   "id": "428e583b",
   "metadata": {
    "lines_to_next_cell": 2
   },
   "source": [
    "\n",
    "# Generatoren\n",
    "\n",
    "- Es ist nicht effizient eine Liste zu konstruieren, wenn wir sie nur zum\n",
    "  Iterieren über ihre Elemente verwenden wollen\n",
    "- Python bietet die Möglichkeit Generatoren zu definieren, die iterierbar\n",
    "  sind, aber nicht den Overhead einer Liste haben\n",
    "- Die einfachste Form ist mit Generator Expressions:"
   ]
  },
  {
   "cell_type": "code",
   "execution_count": null,
   "id": "bcfab09c",
   "metadata": {
    "lines_to_next_cell": 2
   },
   "outputs": [],
   "source": [
    "gen = (n * n for n in range(10))\n",
    "gen"
   ]
  },
  {
   "cell_type": "code",
   "execution_count": null,
   "id": "cc01a287",
   "metadata": {
    "lines_to_next_cell": 2
   },
   "outputs": [],
   "source": [
    "for i in gen:\n",
    "    print(i, end=\" \")"
   ]
  },
  {
   "cell_type": "code",
   "execution_count": null,
   "id": "c393ae89",
   "metadata": {
    "lines_to_next_cell": 2
   },
   "outputs": [],
   "source": [
    "for i, j, k in ((n, m, n * m) for n in range(2, 5) for m in range(n, 5)):\n",
    "    print(f\"{i}, {j}, {k}\")"
   ]
  },
  {
   "cell_type": "code",
   "execution_count": null,
   "id": "70398094",
   "metadata": {
    "lines_to_next_cell": 2
   },
   "outputs": [],
   "source": [
    "r = range(3)\n",
    "repr(r)"
   ]
  },
  {
   "cell_type": "code",
   "execution_count": null,
   "id": "7e52a593",
   "metadata": {
    "lines_to_next_cell": 2
   },
   "outputs": [],
   "source": [
    "it = iter(r)\n",
    "repr(it)"
   ]
  },
  {
   "cell_type": "code",
   "execution_count": null,
   "id": "0376abbb",
   "metadata": {
    "lines_to_next_cell": 2
   },
   "outputs": [],
   "source": [
    "next(it)"
   ]
  },
  {
   "cell_type": "code",
   "execution_count": null,
   "id": "f1522106",
   "metadata": {
    "lines_to_next_cell": 2
   },
   "outputs": [],
   "source": [
    "next(it)"
   ]
  },
  {
   "cell_type": "code",
   "execution_count": null,
   "id": "9393bae2",
   "metadata": {
    "lines_to_next_cell": 2
   },
   "outputs": [],
   "source": [
    "next(it)"
   ]
  },
  {
   "cell_type": "code",
   "execution_count": null,
   "id": "77b9c152",
   "metadata": {
    "lines_to_next_cell": 2
   },
   "outputs": [],
   "source": [
    "# next(it)"
   ]
  },
  {
   "cell_type": "code",
   "execution_count": null,
   "id": "a825561c",
   "metadata": {
    "lines_to_next_cell": 2
   },
   "outputs": [],
   "source": [
    "for x in range(3):\n",
    "    print(x, end=\" \")"
   ]
  },
  {
   "cell_type": "code",
   "execution_count": null,
   "id": "ac1e3420",
   "metadata": {
    "lines_to_next_cell": 2
   },
   "outputs": [],
   "source": [
    "_r = range(3)\n",
    "_temp_iter = iter(_r)\n",
    "while True:\n",
    "    try:\n",
    "        x = next(_temp_iter)\n",
    "    except StopIteration:\n",
    "        break\n",
    "    print(x, end=\" \")"
   ]
  },
  {
   "cell_type": "code",
   "execution_count": null,
   "id": "c84a67a6",
   "metadata": {
    "lines_to_next_cell": 2
   },
   "outputs": [],
   "source": [
    "gen = (n * n for n in range(3))\n",
    "repr(gen)"
   ]
  },
  {
   "cell_type": "code",
   "execution_count": null,
   "id": "030eea84",
   "metadata": {
    "lines_to_next_cell": 2
   },
   "outputs": [],
   "source": [
    "it = iter(gen)\n",
    "repr(it)"
   ]
  },
  {
   "cell_type": "code",
   "execution_count": null,
   "id": "ee6d9c6c",
   "metadata": {
    "lines_to_next_cell": 2
   },
   "outputs": [],
   "source": [
    "next(it)"
   ]
  },
  {
   "cell_type": "code",
   "execution_count": null,
   "id": "aba85aa0",
   "metadata": {
    "lines_to_next_cell": 2
   },
   "outputs": [],
   "source": [
    "next(it)"
   ]
  },
  {
   "cell_type": "code",
   "execution_count": null,
   "id": "01874e53",
   "metadata": {
    "lines_to_next_cell": 2
   },
   "outputs": [],
   "source": [
    "next(it)"
   ]
  },
  {
   "cell_type": "code",
   "execution_count": null,
   "id": "4769cb2f",
   "metadata": {
    "lines_to_next_cell": 2
   },
   "outputs": [],
   "source": [
    "# next(it)"
   ]
  },
  {
   "cell_type": "code",
   "execution_count": null,
   "id": "65d33cb2",
   "metadata": {
    "lines_to_next_cell": 2
   },
   "outputs": [],
   "source": [
    "# `it` ist \"erschöpft,\" man kann keine neuen Werte bekommen\n",
    "# next(it)"
   ]
  },
  {
   "cell_type": "markdown",
   "id": "c3c5a121",
   "metadata": {},
   "source": [
    "\n",
    " ## Generator Funktionen\n",
    "\n",
    " Komplexere Fälle können von Generator Expressions nicht mehr abgedeckt werden.\n",
    "\n",
    " - Generator, der alle Zahlen erzeugt (ohne Obergrenze)\n",
    " - Generator, der ein Iterable modifiziert (z.B. mehrfach ausführt, eine fixe Anzahl an Elementen nimmt)\n",
    "\n",
    " Für diese Fälle gibt es Generator-Funktionen"
   ]
  },
  {
   "cell_type": "code",
   "execution_count": null,
   "id": "aad3eee9",
   "metadata": {},
   "outputs": [],
   "source": [
    "def integers(start=0):\n",
    "    n = start\n",
    "    while True:\n",
    "        yield n\n",
    "        n += 1\n",
    "\n"
   ]
  },
  {
   "cell_type": "code",
   "execution_count": null,
   "id": "b3a7c2d3",
   "metadata": {
    "lines_to_next_cell": 2
   },
   "outputs": [],
   "source": [
    "for i in integers():\n",
    "    if i > 3:\n",
    "        break\n",
    "    print(i, end=\" \")"
   ]
  },
  {
   "cell_type": "code",
   "execution_count": null,
   "id": "93f31c75",
   "metadata": {
    "lines_to_next_cell": 2
   },
   "outputs": [],
   "source": [
    "gen = integers()\n",
    "print(repr(gen))\n",
    "print(repr(iter(gen)))"
   ]
  },
  {
   "cell_type": "code",
   "execution_count": null,
   "id": "9dc35440",
   "metadata": {
    "lines_to_next_cell": 2
   },
   "outputs": [],
   "source": [
    "gen = integers()"
   ]
  },
  {
   "cell_type": "code",
   "execution_count": null,
   "id": "535b71f9",
   "metadata": {},
   "outputs": [],
   "source": [
    "next(gen)"
   ]
  },
  {
   "cell_type": "code",
   "execution_count": null,
   "id": "1ab06ccf",
   "metadata": {},
   "outputs": [],
   "source": [
    "def repeat_n_times(n, it):\n",
    "    for _ in range(n):\n",
    "        for elt in it:\n",
    "            yield elt\n",
    "\n"
   ]
  },
  {
   "cell_type": "code",
   "execution_count": null,
   "id": "3e3311e8",
   "metadata": {},
   "outputs": [],
   "source": [
    "for num in repeat_n_times(3, range(5)):\n",
    "    print(num, end=\" \")"
   ]
  }
 ],
 "metadata": {
  "jupytext": {
   "cell_metadata_json": true,
   "encoding": "# -*- coding: utf-8 -*-",
   "formats": "ipynb"
  },
  "kernelspec": {
   "display_name": "Python 3 (ipykernel)",
   "language": "python",
   "name": "python3"
  }
 },
 "nbformat": 4,
 "nbformat_minor": 5
}
