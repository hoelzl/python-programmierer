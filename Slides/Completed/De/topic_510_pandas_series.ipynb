{
 "cells": [
  {
   "cell_type": "markdown",
   "id": "8fa85620",
   "metadata": {
    "lang": "de",
    "slideshow": {
     "slide_type": "slide"
    }
   },
   "source": [
    "<img src=\"img/python-logo-notext.svg\"\n",
    "     style=\"display:block;margin:auto;width:10%\"/>\n",
    "<br>\n",
    "<div style=\"text-align:center; font-size:200%;\"><b>Pandas Series</b></div>\n",
    "<br/>\n",
    "<div style=\"text-align:center;\">Dr. Matthias Hölzl</div>"
   ]
  },
  {
   "cell_type": "markdown",
   "id": "a74af675",
   "metadata": {
    "lang": "de"
   },
   "source": [
    "\n",
    "# Pandas Typ `Series`\n",
    "\n",
    "Eine Pandas `Series` Instanz stellt eine Folge von Werten dar, ähnlich wie\n",
    "eine Python-Liste. Die Elemente einer Serie können über ihren numerischen\n",
    "Index abgerufen werden, aber zusätzlich kann eine Serie einen semantisch\n",
    "sinnvollen Index haben (z. B. für Zeitreihen).\n",
    "\n",
    "Intern wird eine Pandas-Serie durch ein Numpy-Array unterstützt, daher sind\n",
    "die meisten der Numpy-Operationen auch auf Serien anwendbar sind.\n",
    "\n",
    "Darüber hinaus ist es einfach (und billig), Serien nach Numpy zu konvertieren."
   ]
  },
  {
   "cell_type": "code",
   "execution_count": null,
   "id": "1923ec3f",
   "metadata": {},
   "outputs": [],
   "source": [
    "import numpy as np\n",
    "import pandas as pd"
   ]
  },
  {
   "cell_type": "markdown",
   "id": "863395f4",
   "metadata": {
    "lang": "de"
   },
   "source": [
    "## Erzeugung\n",
    "\n",
    "### Aus Listen"
   ]
  },
  {
   "cell_type": "code",
   "execution_count": null,
   "id": "0b75b2ee",
   "metadata": {
    "lines_to_next_cell": 2,
    "tags": [
     "code-along"
    ]
   },
   "outputs": [],
   "source": [
    "pd.Series(data=[10, 20, 30, 40])"
   ]
  },
  {
   "cell_type": "code",
   "execution_count": null,
   "id": "2eb738d8",
   "metadata": {
    "tags": [
     "code-along"
    ]
   },
   "outputs": [],
   "source": [
    "pd.Series([\"a\", \"b\", \"c\"])"
   ]
  },
  {
   "cell_type": "markdown",
   "id": "30889714",
   "metadata": {
    "lang": "de"
   },
   "source": [
    "### Aus Listen mit Index"
   ]
  },
  {
   "cell_type": "code",
   "execution_count": null,
   "id": "306c7656",
   "metadata": {
    "tags": [
     "code-along"
    ]
   },
   "outputs": [],
   "source": [
    "pd.Series(data=[1, 2, 3, 4], index=[\"w\", \"x\", \"y\", \"z\"])"
   ]
  },
  {
   "cell_type": "markdown",
   "id": "6eaf074f",
   "metadata": {
    "lang": "de"
   },
   "source": [
    "### Aus Range oder Iterable"
   ]
  },
  {
   "cell_type": "code",
   "execution_count": null,
   "id": "81ad2f20",
   "metadata": {
    "tags": [
     "code-along"
    ]
   },
   "outputs": [],
   "source": [
    "pd.Series(data=range(1, 201, 2))"
   ]
  },
  {
   "cell_type": "code",
   "execution_count": null,
   "id": "8c3cc26c",
   "metadata": {
    "tags": [
     "code-along"
    ]
   },
   "outputs": [],
   "source": [
    "data = pd.Series(data=range(1, 201, 2))\n",
    "data.head()"
   ]
  },
  {
   "cell_type": "code",
   "execution_count": null,
   "id": "00bb47ad",
   "metadata": {
    "tags": [
     "code-along"
    ]
   },
   "outputs": [],
   "source": [
    "data.tail()"
   ]
  },
  {
   "cell_type": "markdown",
   "id": "a0adcbab",
   "metadata": {
    "lang": "de"
   },
   "source": [
    "### Aus Dictionary"
   ]
  },
  {
   "cell_type": "code",
   "execution_count": null,
   "id": "e6876469",
   "metadata": {
    "tags": [
     "code-along"
    ]
   },
   "outputs": [],
   "source": [
    "pd.Series(data={\"Ice Cream\": 2.49, \"Cake\": 4.99, \"Fudge\": 7.99})"
   ]
  },
  {
   "cell_type": "markdown",
   "id": "f8f6d155",
   "metadata": {
    "lang": "de"
   },
   "source": [
    "## Indizes und Operationen"
   ]
  },
  {
   "cell_type": "code",
   "execution_count": null,
   "id": "6928e741",
   "metadata": {
    "lines_to_next_cell": 2
   },
   "outputs": [],
   "source": [
    "food1 = pd.Series({\"Ice Cream\": 2.49, \"Cake\": 4.99, \"Fudge\": 7.99})\n",
    "food2 = pd.Series({\"Cake\": 4.99, \"Ice Cream\": 3.99, \"Pie\": 3.49, \"Cheese\": 1.99})"
   ]
  },
  {
   "cell_type": "code",
   "execution_count": null,
   "id": "d910dabc",
   "metadata": {
    "lines_to_next_cell": 2,
    "tags": [
     "code-along"
    ]
   },
   "outputs": [],
   "source": [
    "food1"
   ]
  },
  {
   "cell_type": "code",
   "execution_count": null,
   "id": "761002fd",
   "metadata": {
    "lines_to_next_cell": 2,
    "tags": [
     "code-along"
    ]
   },
   "outputs": [],
   "source": [
    "food1.index"
   ]
  },
  {
   "cell_type": "code",
   "execution_count": null,
   "id": "6654e628",
   "metadata": {
    "lines_to_next_cell": 2,
    "tags": [
     "code-along"
    ]
   },
   "outputs": [],
   "source": [
    "food1.size"
   ]
  },
  {
   "cell_type": "code",
   "execution_count": null,
   "id": "6ee5959a",
   "metadata": {
    "lines_to_next_cell": 2,
    "tags": [
     "code-along"
    ]
   },
   "outputs": [],
   "source": [
    "food1.sum()"
   ]
  },
  {
   "cell_type": "code",
   "execution_count": null,
   "id": "8202e798",
   "metadata": {
    "lines_to_next_cell": 2,
    "tags": [
     "code-along"
    ]
   },
   "outputs": [],
   "source": [
    "food1.mean()"
   ]
  },
  {
   "cell_type": "code",
   "execution_count": null,
   "id": "06abcf94",
   "metadata": {
    "lines_to_next_cell": 2,
    "tags": [
     "code-along"
    ]
   },
   "outputs": [],
   "source": [
    "food1.name"
   ]
  },
  {
   "cell_type": "code",
   "execution_count": null,
   "id": "b815a549",
   "metadata": {
    "lines_to_next_cell": 2,
    "tags": [
     "code-along"
    ]
   },
   "outputs": [],
   "source": [
    "food1.name = \"Deserts\""
   ]
  },
  {
   "cell_type": "code",
   "execution_count": null,
   "id": "90c921dc",
   "metadata": {
    "lines_to_next_cell": 2,
    "tags": [
     "code-along"
    ]
   },
   "outputs": [],
   "source": [
    "food1.name"
   ]
  },
  {
   "cell_type": "code",
   "execution_count": null,
   "id": "f2fe8f6f",
   "metadata": {
    "lines_to_next_cell": 2,
    "tags": [
     "code-along"
    ]
   },
   "outputs": [],
   "source": [
    "food1"
   ]
  },
  {
   "cell_type": "code",
   "execution_count": null,
   "id": "99c13afb",
   "metadata": {
    "lines_to_next_cell": 2,
    "tags": [
     "code-along"
    ]
   },
   "outputs": [],
   "source": [
    "food1.plot.bar(legend=True)"
   ]
  },
  {
   "cell_type": "code",
   "execution_count": null,
   "id": "4a349f6b",
   "metadata": {
    "lines_to_next_cell": 2,
    "tags": [
     "code-along"
    ]
   },
   "outputs": [],
   "source": [
    "import random\n",
    "data = pd.Series(data=[random.gauss(0.0, 10.0) for _ in range(2_000)])\n",
    "data.plot.hist(legend=False, bins=20)"
   ]
  },
  {
   "cell_type": "code",
   "execution_count": null,
   "id": "d25d7058",
   "metadata": {
    "lines_to_next_cell": 2,
    "tags": [
     "code-along"
    ]
   },
   "outputs": [],
   "source": [
    "food1[\"Cake\"]"
   ]
  },
  {
   "cell_type": "code",
   "execution_count": null,
   "id": "1bbad06e",
   "metadata": {
    "lines_to_next_cell": 2,
    "tags": [
     "code-along"
    ]
   },
   "outputs": [],
   "source": [
    "food1.loc[\"Cake\"]"
   ]
  },
  {
   "cell_type": "code",
   "execution_count": null,
   "id": "ee67be4c",
   "metadata": {
    "lines_to_next_cell": 2,
    "tags": [
     "code-along"
    ]
   },
   "outputs": [],
   "source": [
    "# Error!\n",
    "# food1[\"Pie\"]"
   ]
  },
  {
   "cell_type": "code",
   "execution_count": null,
   "id": "6423510c",
   "metadata": {
    "lines_to_next_cell": 2,
    "tags": [
     "code-along"
    ]
   },
   "outputs": [],
   "source": [
    "food1.argmin()"
   ]
  },
  {
   "cell_type": "code",
   "execution_count": null,
   "id": "ef5ddc4a",
   "metadata": {
    "lines_to_next_cell": 2,
    "tags": [
     "code-along"
    ]
   },
   "outputs": [],
   "source": [
    "food1[0]"
   ]
  },
  {
   "cell_type": "code",
   "execution_count": null,
   "id": "4f306986",
   "metadata": {
    "lines_to_next_cell": 2,
    "tags": [
     "code-along"
    ]
   },
   "outputs": [],
   "source": [
    "food1.iloc[0]"
   ]
  },
  {
   "cell_type": "code",
   "execution_count": null,
   "id": "8c1aebf6",
   "metadata": {
    "lines_to_next_cell": 2,
    "tags": [
     "code-along"
    ]
   },
   "outputs": [],
   "source": [
    "confusing = pd.Series(data=np.linspace(0, 5, 11), index=np.arange(-5, 6))\n",
    "confusing"
   ]
  },
  {
   "cell_type": "code",
   "execution_count": null,
   "id": "4fc27bc0",
   "metadata": {
    "lines_to_next_cell": 2,
    "tags": [
     "code-along"
    ]
   },
   "outputs": [],
   "source": [
    "confusing[0]"
   ]
  },
  {
   "cell_type": "code",
   "execution_count": null,
   "id": "0b9bf48c",
   "metadata": {
    "lines_to_next_cell": 2,
    "tags": [
     "code-along"
    ]
   },
   "outputs": [],
   "source": [
    "confusing.loc[0]"
   ]
  },
  {
   "cell_type": "code",
   "execution_count": null,
   "id": "e60be244",
   "metadata": {
    "lines_to_next_cell": 2,
    "tags": [
     "code-along"
    ]
   },
   "outputs": [],
   "source": [
    "confusing.iloc[0]"
   ]
  },
  {
   "cell_type": "code",
   "execution_count": null,
   "id": "3a404ebc",
   "metadata": {
    "lines_to_next_cell": 2,
    "tags": [
     "code-along"
    ]
   },
   "outputs": [],
   "source": [
    "food_sum = food1 + food2\n",
    "food_sum"
   ]
  },
  {
   "cell_type": "code",
   "execution_count": null,
   "id": "c9390c31",
   "metadata": {
    "lines_to_next_cell": 2,
    "tags": [
     "code-along"
    ]
   },
   "outputs": [],
   "source": [
    "food1 + 0.5"
   ]
  },
  {
   "cell_type": "code",
   "execution_count": null,
   "id": "93f99a74",
   "metadata": {
    "tags": [
     "code-along"
    ]
   },
   "outputs": [],
   "source": [
    "food1"
   ]
  },
  {
   "cell_type": "code",
   "execution_count": null,
   "id": "8e4b2528",
   "metadata": {
    "lines_to_next_cell": 2,
    "tags": [
     "code-along"
    ]
   },
   "outputs": [],
   "source": [
    "def discount(price):\n",
    "    return price * 0.9\n",
    "\n",
    "food1.apply(discount)"
   ]
  },
  {
   "cell_type": "code",
   "execution_count": null,
   "id": "87cb5df5",
   "metadata": {
    "lines_to_next_cell": 2,
    "tags": [
     "code-along"
    ]
   },
   "outputs": [],
   "source": [
    "food1"
   ]
  },
  {
   "cell_type": "code",
   "execution_count": null,
   "id": "7b5b1d62",
   "metadata": {
    "lines_to_next_cell": 2,
    "tags": [
     "code-along"
    ]
   },
   "outputs": [],
   "source": [
    "food1.apply(lambda price: price * 0.9)"
   ]
  },
  {
   "cell_type": "code",
   "execution_count": null,
   "id": "06ab8990",
   "metadata": {
    "lines_to_next_cell": 2,
    "tags": [
     "code-along"
    ]
   },
   "outputs": [],
   "source": [
    "pd.concat([food1, pd.Series({\"Chocolate\": 3.99, \"Ice Cream\": 1.99})])"
   ]
  },
  {
   "cell_type": "code",
   "execution_count": null,
   "id": "f32e4f6f",
   "metadata": {
    "lines_to_next_cell": 2,
    "tags": [
     "code-along"
    ]
   },
   "outputs": [],
   "source": [
    "food1"
   ]
  },
  {
   "cell_type": "code",
   "execution_count": null,
   "id": "c7173bfd",
   "metadata": {
    "lines_to_next_cell": 2,
    "tags": [
     "code-along"
    ]
   },
   "outputs": [],
   "source": [
    "all_food = pd.concat([food1, food2])"
   ]
  },
  {
   "cell_type": "code",
   "execution_count": null,
   "id": "310a200e",
   "metadata": {
    "tags": [
     "code-along"
    ]
   },
   "outputs": [],
   "source": [
    "all_food"
   ]
  },
  {
   "cell_type": "markdown",
   "id": "42c8a437",
   "metadata": {
    "lang": "de"
   },
   "source": [
    "### Mehrfach vorkommende Index-Werte"
   ]
  },
  {
   "cell_type": "code",
   "execution_count": null,
   "id": "b4602456",
   "metadata": {
    "lines_to_next_cell": 2,
    "tags": [
     "code-along"
    ]
   },
   "outputs": [],
   "source": [
    "all_food.index"
   ]
  },
  {
   "cell_type": "code",
   "execution_count": null,
   "id": "0ca5dce2",
   "metadata": {
    "lines_to_next_cell": 2,
    "tags": [
     "code-along"
    ]
   },
   "outputs": [],
   "source": [
    "all_food.is_unique"
   ]
  },
  {
   "cell_type": "code",
   "execution_count": null,
   "id": "28562eeb",
   "metadata": {
    "lines_to_next_cell": 2,
    "tags": [
     "code-along"
    ]
   },
   "outputs": [],
   "source": [
    "food1.is_unique"
   ]
  },
  {
   "cell_type": "code",
   "execution_count": null,
   "id": "0f71210e",
   "metadata": {
    "lines_to_next_cell": 2,
    "tags": [
     "code-along"
    ]
   },
   "outputs": [],
   "source": [
    "all_food[\"Cake\"]"
   ]
  },
  {
   "cell_type": "code",
   "execution_count": null,
   "id": "d2a3ea86",
   "metadata": {
    "lines_to_next_cell": 2,
    "tags": [
     "code-along"
    ]
   },
   "outputs": [],
   "source": [
    "type(all_food[\"Cake\"])"
   ]
  },
  {
   "cell_type": "code",
   "execution_count": null,
   "id": "eda8722c",
   "metadata": {
    "lines_to_next_cell": 2,
    "tags": [
     "code-along"
    ]
   },
   "outputs": [],
   "source": [
    "all_food[\"Pie\"]"
   ]
  },
  {
   "cell_type": "code",
   "execution_count": null,
   "id": "57d74428",
   "metadata": {
    "lines_to_next_cell": 2
   },
   "outputs": [],
   "source": [
    "type(all_food[\"Pie\"])"
   ]
  },
  {
   "cell_type": "code",
   "execution_count": null,
   "id": "dfd82ce7",
   "metadata": {
    "tags": [
     "code-along"
    ]
   },
   "outputs": [],
   "source": [
    "all_food.groupby(all_food.index).max()"
   ]
  },
  {
   "cell_type": "markdown",
   "id": "5437749d",
   "metadata": {
    "lang": "de"
   },
   "source": [
    "### Sortierte und unsortierte Indizes"
   ]
  },
  {
   "cell_type": "code",
   "execution_count": null,
   "id": "47105f02",
   "metadata": {
    "lines_to_next_cell": 2,
    "tags": [
     "code-along"
    ]
   },
   "outputs": [],
   "source": [
    "all_food.index.is_monotonic_increasing"
   ]
  },
  {
   "cell_type": "code",
   "execution_count": null,
   "id": "cdbcda35",
   "metadata": {
    "lines_to_next_cell": 2,
    "tags": [
     "code-along"
    ]
   },
   "outputs": [],
   "source": [
    "sorted_food = all_food.sort_index()"
   ]
  },
  {
   "cell_type": "code",
   "execution_count": null,
   "id": "0c2cdd89",
   "metadata": {
    "lines_to_next_cell": 2,
    "tags": [
     "code-along"
    ]
   },
   "outputs": [],
   "source": [
    "sorted_food"
   ]
  },
  {
   "cell_type": "code",
   "execution_count": null,
   "id": "da07ae3c",
   "metadata": {
    "lines_to_next_cell": 2,
    "tags": [
     "code-along"
    ]
   },
   "outputs": [],
   "source": [
    "sorted_food.index.is_monotonic_increasing"
   ]
  },
  {
   "cell_type": "code",
   "execution_count": null,
   "id": "582f1eb5",
   "metadata": {
    "lines_to_next_cell": 2,
    "tags": [
     "code-along"
    ]
   },
   "outputs": [],
   "source": [
    "all_food.sort_values()"
   ]
  },
  {
   "cell_type": "code",
   "execution_count": null,
   "id": "3a278d1b",
   "metadata": {
    "lines_to_next_cell": 2,
    "tags": [
     "code-along"
    ]
   },
   "outputs": [],
   "source": [
    "all_food.sort_values().is_monotonic_increasing"
   ]
  },
  {
   "cell_type": "code",
   "execution_count": null,
   "id": "b40832f0",
   "metadata": {
    "lines_to_next_cell": 2,
    "tags": [
     "code-along"
    ]
   },
   "outputs": [],
   "source": [
    "all_food[[\"Pie\", \"Cake\"]]"
   ]
  },
  {
   "cell_type": "code",
   "execution_count": null,
   "id": "d936e2bb",
   "metadata": {
    "lines_to_next_cell": 2,
    "tags": [
     "code-along"
    ]
   },
   "outputs": [],
   "source": [
    "all_food"
   ]
  },
  {
   "cell_type": "code",
   "execution_count": null,
   "id": "692c0bb0",
   "metadata": {
    "lines_to_next_cell": 2,
    "tags": [
     "code-along"
    ]
   },
   "outputs": [],
   "source": [
    "all_food[1:3]"
   ]
  },
  {
   "cell_type": "code",
   "execution_count": null,
   "id": "206cb368",
   "metadata": {
    "lines_to_next_cell": 2
   },
   "outputs": [],
   "source": [
    "# all_food['Cake':'Fudge']"
   ]
  },
  {
   "cell_type": "code",
   "execution_count": null,
   "id": "370e6daf",
   "metadata": {
    "tags": [
     "code-along"
    ]
   },
   "outputs": [],
   "source": [
    "sorted_food[\"Cake\":\"Fudge\"]"
   ]
  },
  {
   "cell_type": "markdown",
   "id": "2d3f55c9",
   "metadata": {
    "lang": "de"
   },
   "source": [
    "\n",
    "**Wichtig:** Der ober Wert der Slice, `\"Fudge\"` ist im Resultat enthalten!"
   ]
  },
  {
   "cell_type": "markdown",
   "id": "ddcd7f8c",
   "metadata": {
    "lang": "de"
   },
   "source": [
    "## Fehlende Werte"
   ]
  },
  {
   "cell_type": "code",
   "execution_count": null,
   "id": "9d907539",
   "metadata": {
    "lines_to_next_cell": 2,
    "tags": [
     "code-along"
    ]
   },
   "outputs": [],
   "source": [
    "food = food1 + food2"
   ]
  },
  {
   "cell_type": "code",
   "execution_count": null,
   "id": "1fd6b1ea",
   "metadata": {
    "lines_to_next_cell": 2,
    "tags": [
     "code-along"
    ]
   },
   "outputs": [],
   "source": [
    "food.isna()"
   ]
  },
  {
   "cell_type": "code",
   "execution_count": null,
   "id": "e546a755",
   "metadata": {
    "lines_to_next_cell": 2,
    "tags": [
     "code-along"
    ]
   },
   "outputs": [],
   "source": [
    "food.isna().sum()"
   ]
  },
  {
   "cell_type": "code",
   "execution_count": null,
   "id": "7b64f16a",
   "metadata": {
    "tags": [
     "code-along"
    ]
   },
   "outputs": [],
   "source": [
    "food.dropna()"
   ]
  },
  {
   "cell_type": "code",
   "execution_count": null,
   "id": "b6a52d8a",
   "metadata": {},
   "outputs": [],
   "source": []
  }
 ],
 "metadata": {
  "jupytext": {
   "cell_metadata_json": true,
   "formats": "ipynb"
  },
  "kernelspec": {
   "display_name": "Python 3 (ipykernel)",
   "language": "python",
   "name": "python3"
  }
 },
 "nbformat": 4,
 "nbformat_minor": 5
}
