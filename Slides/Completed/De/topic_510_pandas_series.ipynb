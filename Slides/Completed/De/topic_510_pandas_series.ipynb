{
 "cells": [
  {
   "cell_type": "markdown",
   "id": "0f4cbd6e",
   "metadata": {
    "lang": "de",
    "slideshow": {
     "slide_type": "slide"
    }
   },
   "source": [
    "<img src=\"img/python-logo-notext.svg\"\n",
    "     style=\"display:block;margin:auto;width:10%\"/>\n",
    "<br>\n",
    "<div style=\"text-align:center; font-size:200%;\"><b>Pandas Series</b></div>\n",
    "<br/>\n",
    "<div style=\"text-align:center;\">Dr. Matthias Hölzl</div>"
   ]
  },
  {
   "cell_type": "markdown",
   "id": "46f70974",
   "metadata": {
    "lang": "de"
   },
   "source": [
    "\n",
    "# Pandas Typ `Series`\n",
    "\n",
    "Eine Pandas `Series` Instanz stellt eine Folge von Werten dar, ähnlich wie\n",
    "eine Python-Liste. Die Elemente einer Serie können über ihren numerischen\n",
    "Index abgerufen werden, aber zusätzlich kann eine Serie einen semantisch\n",
    "sinnvollen Index haben (z. B. für Zeitreihen).\n",
    "\n",
    "Intern wird eine Pandas-Serie durch ein Numpy-Array unterstützt, daher sind\n",
    "die meisten der Numpy-Operationen auch auf Serien anwendbar sind.\n",
    "\n",
    "Darüber hinaus ist es einfach (und billig), Serien nach Numpy zu konvertieren."
   ]
  },
  {
   "cell_type": "code",
   "execution_count": null,
   "id": "86531bc0",
   "metadata": {},
   "outputs": [],
   "source": [
    "import numpy as np\n",
    "import pandas as pd"
   ]
  },
  {
   "cell_type": "markdown",
   "id": "ea3c058c",
   "metadata": {
    "lang": "de"
   },
   "source": [
    "## Erzeugung\n",
    "\n",
    "### Aus Listen"
   ]
  },
  {
   "cell_type": "code",
   "execution_count": null,
   "id": "4644501b",
   "metadata": {
    "lines_to_next_cell": 2,
    "tags": [
     "code-along"
    ]
   },
   "outputs": [],
   "source": [
    "pd.Series(data=[10, 20, 30, 40])"
   ]
  },
  {
   "cell_type": "code",
   "execution_count": null,
   "id": "ed1a6a7e",
   "metadata": {
    "tags": [
     "code-along"
    ]
   },
   "outputs": [],
   "source": [
    "pd.Series([\"a\", \"b\", \"c\"])"
   ]
  },
  {
   "cell_type": "markdown",
   "id": "7ce2e76b",
   "metadata": {
    "lang": "de"
   },
   "source": [
    "### Aus Listen mit Index"
   ]
  },
  {
   "cell_type": "code",
   "execution_count": null,
   "id": "585ae6b1",
   "metadata": {
    "tags": [
     "code-along"
    ]
   },
   "outputs": [],
   "source": [
    "pd.Series(data=[1, 2, 3, 4], index=[\"w\", \"x\", \"y\", \"z\"])"
   ]
  },
  {
   "cell_type": "markdown",
   "id": "c2641583",
   "metadata": {
    "lang": "de"
   },
   "source": [
    "### Aus Range oder Iterable"
   ]
  },
  {
   "cell_type": "code",
   "execution_count": null,
   "id": "14507e00",
   "metadata": {
    "tags": [
     "code-along"
    ]
   },
   "outputs": [],
   "source": [
    "pd.Series(data=range(1, 201, 2))"
   ]
  },
  {
   "cell_type": "code",
   "execution_count": null,
   "id": "59c4888d",
   "metadata": {
    "tags": [
     "code-along"
    ]
   },
   "outputs": [],
   "source": [
    "data = pd.Series(data=range(1, 201, 2))\n",
    "data.head()"
   ]
  },
  {
   "cell_type": "code",
   "execution_count": null,
   "id": "859b1b7a",
   "metadata": {
    "tags": [
     "code-along"
    ]
   },
   "outputs": [],
   "source": [
    "data.tail()"
   ]
  },
  {
   "cell_type": "markdown",
   "id": "dd1f8f6f",
   "metadata": {
    "lang": "de"
   },
   "source": [
    "### Aus Dictionary"
   ]
  },
  {
   "cell_type": "code",
   "execution_count": null,
   "id": "f1be8101",
   "metadata": {
    "tags": [
     "code-along"
    ]
   },
   "outputs": [],
   "source": [
    "pd.Series(data={\"Ice Cream\": 2.49, \"Cake\": 4.99, \"Fudge\": 7.99})"
   ]
  },
  {
   "cell_type": "markdown",
   "id": "b94024df",
   "metadata": {
    "lang": "de"
   },
   "source": [
    "## Indizes und Operationen"
   ]
  },
  {
   "cell_type": "code",
   "execution_count": null,
   "id": "24ad084e",
   "metadata": {
    "lines_to_next_cell": 2
   },
   "outputs": [],
   "source": [
    "food1 = pd.Series({\"Ice Cream\": 2.49, \"Cake\": 4.99, \"Fudge\": 7.99})\n",
    "food2 = pd.Series({\"Cake\": 4.99, \"Ice Cream\": 3.99, \"Pie\": 3.49, \"Cheese\": 1.99})"
   ]
  },
  {
   "cell_type": "code",
   "execution_count": null,
   "id": "5c3f31a1",
   "metadata": {
    "lines_to_next_cell": 2,
    "tags": [
     "code-along"
    ]
   },
   "outputs": [],
   "source": [
    "food1"
   ]
  },
  {
   "cell_type": "code",
   "execution_count": null,
   "id": "b42be7da",
   "metadata": {
    "lines_to_next_cell": 2,
    "tags": [
     "code-along"
    ]
   },
   "outputs": [],
   "source": [
    "food1.index"
   ]
  },
  {
   "cell_type": "code",
   "execution_count": null,
   "id": "0616c12c",
   "metadata": {
    "lines_to_next_cell": 2,
    "tags": [
     "code-along"
    ]
   },
   "outputs": [],
   "source": [
    "food1.size"
   ]
  },
  {
   "cell_type": "code",
   "execution_count": null,
   "id": "7dca5b14",
   "metadata": {
    "lines_to_next_cell": 2,
    "tags": [
     "code-along"
    ]
   },
   "outputs": [],
   "source": [
    "food1.sum()"
   ]
  },
  {
   "cell_type": "code",
   "execution_count": null,
   "id": "acbac38f",
   "metadata": {
    "lines_to_next_cell": 2,
    "tags": [
     "code-along"
    ]
   },
   "outputs": [],
   "source": [
    "food1.mean()"
   ]
  },
  {
   "cell_type": "code",
   "execution_count": null,
   "id": "0bbd917d",
   "metadata": {
    "lines_to_next_cell": 2,
    "tags": [
     "code-along"
    ]
   },
   "outputs": [],
   "source": [
    "food1.name"
   ]
  },
  {
   "cell_type": "code",
   "execution_count": null,
   "id": "282f7472",
   "metadata": {
    "lines_to_next_cell": 2,
    "tags": [
     "code-along"
    ]
   },
   "outputs": [],
   "source": [
    "food1.name = \"Deserts\""
   ]
  },
  {
   "cell_type": "code",
   "execution_count": null,
   "id": "cd1bed49",
   "metadata": {
    "lines_to_next_cell": 2,
    "tags": [
     "code-along"
    ]
   },
   "outputs": [],
   "source": [
    "food1.name"
   ]
  },
  {
   "cell_type": "code",
   "execution_count": null,
   "id": "9a1320f2",
   "metadata": {
    "lines_to_next_cell": 2,
    "tags": [
     "code-along"
    ]
   },
   "outputs": [],
   "source": [
    "food1"
   ]
  },
  {
   "cell_type": "code",
   "execution_count": null,
   "id": "1f6eb80b",
   "metadata": {
    "lines_to_next_cell": 2,
    "tags": [
     "code-along"
    ]
   },
   "outputs": [],
   "source": [
    "food1.plot.bar(legend=True)"
   ]
  },
  {
   "cell_type": "code",
   "execution_count": null,
   "id": "922df7bd",
   "metadata": {
    "lines_to_next_cell": 2,
    "tags": [
     "code-along"
    ]
   },
   "outputs": [],
   "source": [
    "import random\n",
    "data = pd.Series(data=[random.gauss(0.0, 10.0) for _ in range(2_000)])\n",
    "data.plot.hist(legend=False, bins=20)"
   ]
  },
  {
   "cell_type": "code",
   "execution_count": null,
   "id": "5a72fcfe",
   "metadata": {
    "lines_to_next_cell": 2,
    "tags": [
     "code-along"
    ]
   },
   "outputs": [],
   "source": [
    "food1[\"Cake\"]"
   ]
  },
  {
   "cell_type": "code",
   "execution_count": null,
   "id": "1a644803",
   "metadata": {
    "lines_to_next_cell": 2,
    "tags": [
     "code-along"
    ]
   },
   "outputs": [],
   "source": [
    "food1.loc[\"Cake\"]"
   ]
  },
  {
   "cell_type": "code",
   "execution_count": null,
   "id": "cc55986c",
   "metadata": {
    "lines_to_next_cell": 2,
    "tags": [
     "code-along"
    ]
   },
   "outputs": [],
   "source": [
    "# Error!\n",
    "# food1[\"Pie\"]"
   ]
  },
  {
   "cell_type": "code",
   "execution_count": null,
   "id": "4d8ba29d",
   "metadata": {
    "lines_to_next_cell": 2,
    "tags": [
     "code-along"
    ]
   },
   "outputs": [],
   "source": [
    "food1.argmin()"
   ]
  },
  {
   "cell_type": "code",
   "execution_count": null,
   "id": "c3801813",
   "metadata": {
    "lines_to_next_cell": 2,
    "tags": [
     "code-along"
    ]
   },
   "outputs": [],
   "source": [
    "food1[0]"
   ]
  },
  {
   "cell_type": "code",
   "execution_count": null,
   "id": "0d173442",
   "metadata": {
    "lines_to_next_cell": 2,
    "tags": [
     "code-along"
    ]
   },
   "outputs": [],
   "source": [
    "food1.iloc[0]"
   ]
  },
  {
   "cell_type": "code",
   "execution_count": null,
   "id": "f5aafb00",
   "metadata": {
    "lines_to_next_cell": 2,
    "tags": [
     "code-along"
    ]
   },
   "outputs": [],
   "source": [
    "confusing = pd.Series(data=np.linspace(0, 5, 11), index=np.arange(-5, 6))\n",
    "confusing"
   ]
  },
  {
   "cell_type": "code",
   "execution_count": null,
   "id": "13ff9d71",
   "metadata": {
    "lines_to_next_cell": 2,
    "tags": [
     "code-along"
    ]
   },
   "outputs": [],
   "source": [
    "confusing[0]"
   ]
  },
  {
   "cell_type": "code",
   "execution_count": null,
   "id": "23a534cf",
   "metadata": {
    "lines_to_next_cell": 2,
    "tags": [
     "code-along"
    ]
   },
   "outputs": [],
   "source": [
    "confusing.loc[0]"
   ]
  },
  {
   "cell_type": "code",
   "execution_count": null,
   "id": "2de4370e",
   "metadata": {
    "lines_to_next_cell": 2,
    "tags": [
     "code-along"
    ]
   },
   "outputs": [],
   "source": [
    "confusing.iloc[0]"
   ]
  },
  {
   "cell_type": "code",
   "execution_count": null,
   "id": "9b88f18e",
   "metadata": {
    "lines_to_next_cell": 2,
    "tags": [
     "code-along"
    ]
   },
   "outputs": [],
   "source": [
    "food_sum = food1 + food2\n",
    "food_sum"
   ]
  },
  {
   "cell_type": "code",
   "execution_count": null,
   "id": "217dc3c1",
   "metadata": {
    "lines_to_next_cell": 2,
    "tags": [
     "code-along"
    ]
   },
   "outputs": [],
   "source": [
    "food1 + 0.5"
   ]
  },
  {
   "cell_type": "code",
   "execution_count": null,
   "id": "bc100f8c",
   "metadata": {
    "tags": [
     "code-along"
    ]
   },
   "outputs": [],
   "source": [
    "food1"
   ]
  },
  {
   "cell_type": "code",
   "execution_count": null,
   "id": "606861ec",
   "metadata": {
    "lines_to_next_cell": 2,
    "tags": [
     "code-along"
    ]
   },
   "outputs": [],
   "source": [
    "def discount(price):\n",
    "    return price * 0.9\n",
    "\n",
    "food1.apply(discount)"
   ]
  },
  {
   "cell_type": "code",
   "execution_count": null,
   "id": "cdb0572e",
   "metadata": {
    "lines_to_next_cell": 2,
    "tags": [
     "code-along"
    ]
   },
   "outputs": [],
   "source": [
    "food1"
   ]
  },
  {
   "cell_type": "code",
   "execution_count": null,
   "id": "24b2e16f",
   "metadata": {
    "lines_to_next_cell": 2,
    "tags": [
     "code-along"
    ]
   },
   "outputs": [],
   "source": [
    "food1.apply(lambda price: price * 0.9)"
   ]
  },
  {
   "cell_type": "code",
   "execution_count": null,
   "id": "99e6895e",
   "metadata": {
    "lines_to_next_cell": 2,
    "tags": [
     "code-along"
    ]
   },
   "outputs": [],
   "source": [
    "pd.concat([food1, pd.Series({\"Chocolate\": 3.99, \"Ice Cream\": 1.99})])"
   ]
  },
  {
   "cell_type": "code",
   "execution_count": null,
   "id": "73464787",
   "metadata": {
    "lines_to_next_cell": 2,
    "tags": [
     "code-along"
    ]
   },
   "outputs": [],
   "source": [
    "food1"
   ]
  },
  {
   "cell_type": "code",
   "execution_count": null,
   "id": "f810abf2",
   "metadata": {
    "lines_to_next_cell": 2,
    "tags": [
     "code-along"
    ]
   },
   "outputs": [],
   "source": [
    "all_food = pd.concat([food1, food2])"
   ]
  },
  {
   "cell_type": "code",
   "execution_count": null,
   "id": "463c41b9",
   "metadata": {
    "tags": [
     "code-along"
    ]
   },
   "outputs": [],
   "source": [
    "all_food"
   ]
  },
  {
   "cell_type": "markdown",
   "id": "f56783d3",
   "metadata": {
    "lang": "de"
   },
   "source": [
    "### Mehrfach vorkommende Index-Werte"
   ]
  },
  {
   "cell_type": "code",
   "execution_count": null,
   "id": "5463868a",
   "metadata": {
    "lines_to_next_cell": 2,
    "tags": [
     "code-along"
    ]
   },
   "outputs": [],
   "source": [
    "all_food.index"
   ]
  },
  {
   "cell_type": "code",
   "execution_count": null,
   "id": "1fddf930",
   "metadata": {
    "lines_to_next_cell": 2,
    "tags": [
     "code-along"
    ]
   },
   "outputs": [],
   "source": [
    "all_food.is_unique"
   ]
  },
  {
   "cell_type": "code",
   "execution_count": null,
   "id": "40afd7a0",
   "metadata": {
    "lines_to_next_cell": 2,
    "tags": [
     "code-along"
    ]
   },
   "outputs": [],
   "source": [
    "food1.is_unique"
   ]
  },
  {
   "cell_type": "code",
   "execution_count": null,
   "id": "c1c3211d",
   "metadata": {
    "lines_to_next_cell": 2,
    "tags": [
     "code-along"
    ]
   },
   "outputs": [],
   "source": [
    "all_food[\"Cake\"]"
   ]
  },
  {
   "cell_type": "code",
   "execution_count": null,
   "id": "d24e4e2b",
   "metadata": {
    "lines_to_next_cell": 2,
    "tags": [
     "code-along"
    ]
   },
   "outputs": [],
   "source": [
    "type(all_food[\"Cake\"])"
   ]
  },
  {
   "cell_type": "code",
   "execution_count": null,
   "id": "eed0aed6",
   "metadata": {
    "lines_to_next_cell": 2,
    "tags": [
     "code-along"
    ]
   },
   "outputs": [],
   "source": [
    "all_food[\"Pie\"]"
   ]
  },
  {
   "cell_type": "code",
   "execution_count": null,
   "id": "eb41c6b2",
   "metadata": {
    "lines_to_next_cell": 2
   },
   "outputs": [],
   "source": [
    "type(all_food[\"Pie\"])"
   ]
  },
  {
   "cell_type": "code",
   "execution_count": null,
   "id": "cf4bcbd0",
   "metadata": {
    "tags": [
     "code-along"
    ]
   },
   "outputs": [],
   "source": [
    "all_food.groupby(all_food.index).max()"
   ]
  },
  {
   "cell_type": "markdown",
   "id": "c1d867c6",
   "metadata": {
    "lang": "de"
   },
   "source": [
    "### Sortierte und unsortierte Indizes"
   ]
  },
  {
   "cell_type": "code",
   "execution_count": null,
   "id": "783a3813",
   "metadata": {
    "lines_to_next_cell": 2,
    "tags": [
     "code-along"
    ]
   },
   "outputs": [],
   "source": [
    "all_food.index.is_monotonic_increasing"
   ]
  },
  {
   "cell_type": "code",
   "execution_count": null,
   "id": "68f981a0",
   "metadata": {
    "lines_to_next_cell": 2,
    "tags": [
     "code-along"
    ]
   },
   "outputs": [],
   "source": [
    "sorted_food = all_food.sort_index()"
   ]
  },
  {
   "cell_type": "code",
   "execution_count": null,
   "id": "06ac727d",
   "metadata": {
    "lines_to_next_cell": 2,
    "tags": [
     "code-along"
    ]
   },
   "outputs": [],
   "source": [
    "sorted_food"
   ]
  },
  {
   "cell_type": "code",
   "execution_count": null,
   "id": "5877ded6",
   "metadata": {
    "lines_to_next_cell": 2,
    "tags": [
     "code-along"
    ]
   },
   "outputs": [],
   "source": [
    "sorted_food.index.is_monotonic_increasing"
   ]
  },
  {
   "cell_type": "code",
   "execution_count": null,
   "id": "37db8952",
   "metadata": {
    "lines_to_next_cell": 2,
    "tags": [
     "code-along"
    ]
   },
   "outputs": [],
   "source": [
    "all_food.sort_values()"
   ]
  },
  {
   "cell_type": "code",
   "execution_count": null,
   "id": "3bbeee2f",
   "metadata": {
    "lines_to_next_cell": 2,
    "tags": [
     "code-along"
    ]
   },
   "outputs": [],
   "source": [
    "all_food.sort_values().is_monotonic_increasing"
   ]
  },
  {
   "cell_type": "code",
   "execution_count": null,
   "id": "ef3692fd",
   "metadata": {
    "lines_to_next_cell": 2,
    "tags": [
     "code-along"
    ]
   },
   "outputs": [],
   "source": [
    "all_food[[\"Pie\", \"Cake\"]]"
   ]
  },
  {
   "cell_type": "code",
   "execution_count": null,
   "id": "874e6487",
   "metadata": {
    "lines_to_next_cell": 2,
    "tags": [
     "code-along"
    ]
   },
   "outputs": [],
   "source": [
    "all_food"
   ]
  },
  {
   "cell_type": "code",
   "execution_count": null,
   "id": "178720fd",
   "metadata": {
    "lines_to_next_cell": 2,
    "tags": [
     "code-along"
    ]
   },
   "outputs": [],
   "source": [
    "all_food[1:3]"
   ]
  },
  {
   "cell_type": "code",
   "execution_count": null,
   "id": "0f6deca2",
   "metadata": {
    "lines_to_next_cell": 2
   },
   "outputs": [],
   "source": [
    "# all_food['Cake':'Fudge']"
   ]
  },
  {
   "cell_type": "code",
   "execution_count": null,
   "id": "4864d206",
   "metadata": {
    "tags": [
     "code-along"
    ]
   },
   "outputs": [],
   "source": [
    "sorted_food[\"Cake\":\"Fudge\"]"
   ]
  },
  {
   "cell_type": "markdown",
   "id": "f82b86cd",
   "metadata": {
    "lang": "de"
   },
   "source": [
    "\n",
    "**Wichtig:** Der ober Wert der Slice, `\"Fudge\"` ist im Resultat enthalten!"
   ]
  },
  {
   "cell_type": "markdown",
   "id": "e1bf87c3",
   "metadata": {
    "lang": "de"
   },
   "source": [
    "## Fehlende Werte"
   ]
  },
  {
   "cell_type": "code",
   "execution_count": null,
   "id": "f7c94681",
   "metadata": {
    "lines_to_next_cell": 2,
    "tags": [
     "code-along"
    ]
   },
   "outputs": [],
   "source": [
    "food = food1 + food2"
   ]
  },
  {
   "cell_type": "code",
   "execution_count": null,
   "id": "666493ef",
   "metadata": {
    "lines_to_next_cell": 2,
    "tags": [
     "code-along"
    ]
   },
   "outputs": [],
   "source": [
    "food.isna()"
   ]
  },
  {
   "cell_type": "code",
   "execution_count": null,
   "id": "ffc5403a",
   "metadata": {
    "lines_to_next_cell": 2,
    "tags": [
     "code-along"
    ]
   },
   "outputs": [],
   "source": [
    "food.isna().sum()"
   ]
  },
  {
   "cell_type": "code",
   "execution_count": null,
   "id": "0beaf463",
   "metadata": {
    "tags": [
     "code-along"
    ]
   },
   "outputs": [],
   "source": [
    "food.dropna()"
   ]
  },
  {
   "cell_type": "code",
   "execution_count": null,
   "id": "a7fc47bd",
   "metadata": {},
   "outputs": [],
   "source": []
  }
 ],
 "metadata": {
  "jupytext": {
   "cell_metadata_json": true,
   "formats": "ipynb"
  },
  "kernelspec": {
   "display_name": "Python 3 (ipykernel)",
   "language": "python",
   "name": "python3"
  }
 },
 "nbformat": 4,
 "nbformat_minor": 5
}
