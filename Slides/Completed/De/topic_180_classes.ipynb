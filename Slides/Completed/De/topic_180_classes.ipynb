{
 "cells": [
  {
   "cell_type": "markdown",
   "id": "b398affd",
   "metadata": {
    "lang": "de",
    "slideshow": {
     "slide_type": "slide"
    }
   },
   "source": [
    "<img src=\"img/python-logo-notext.svg\"\n",
    "     style=\"display:block;margin:auto;width:10%\"/>\n",
    "<br>\n",
    "<div style=\"text-align:center; font-size:200%;\"><b>Objektorientierung Teil 1: Klassen</b></div>\n",
    "<br/>\n",
    "<div style=\"text-align:center;\">Dr. Matthias Hölzl</div>"
   ]
  },
  {
   "cell_type": "markdown",
   "id": "6a16e874",
   "metadata": {
    "lang": "de",
    "slideshow": {
     "slide_type": "slide"
    }
   },
   "source": [
    "## Properties\n",
    "\n",
    "Wie können wir es ermöglichen auf einen Punkt sowohl mittels der `x` und\n",
    "`y`-Koordinaten zuzugreifen, als auch mittels Radius und Winkel?"
   ]
  },
  {
   "cell_type": "code",
   "execution_count": null,
   "id": "84281a2e",
   "metadata": {
    "tags": [
     "code-along"
    ]
   },
   "outputs": [],
   "source": [
    "import math\n",
    "\n",
    "\n",
    "class GeoPointV0:\n",
    "    def __init__(self, x=0, y=0):\n",
    "        self.x = x\n",
    "        self.y = y\n",
    "\n",
    "    def get_radius(self):\n",
    "        return (self.x**2 + self.y**2) ** 0.5\n",
    "\n",
    "    def get_angle(self):\n",
    "        return math.atan2(self.y, self.x)\n",
    "\n",
    "    def __repr__(self):\n",
    "        return f\"GeoPointV0({self.x:.1f}, {self.y:.1f}, r={self.get_radius():.2f}, θ={self.get_angle():.2f})\""
   ]
  },
  {
   "cell_type": "code",
   "execution_count": null,
   "id": "63706b86",
   "metadata": {
    "slideshow": {
     "slide_type": "subslide"
    },
    "tags": [
     "code-along"
    ]
   },
   "outputs": [],
   "source": [
    "p = GeoPointV0()\n",
    "p"
   ]
  },
  {
   "cell_type": "code",
   "execution_count": null,
   "id": "2050ac37",
   "metadata": {},
   "outputs": [],
   "source": [
    "assert p.x == 0.0\n",
    "assert p.y == 0.0\n",
    "assert p.get_radius() == 0.0\n",
    "assert p.get_angle() == 0.0"
   ]
  },
  {
   "cell_type": "code",
   "execution_count": null,
   "id": "e927537c",
   "metadata": {
    "tags": [
     "code-along"
    ]
   },
   "outputs": [],
   "source": [
    "p = GeoPointV0(1.0, 0.0)\n",
    "p"
   ]
  },
  {
   "cell_type": "code",
   "execution_count": null,
   "id": "7e9be447",
   "metadata": {},
   "outputs": [],
   "source": [
    "assert p.x == 1.0\n",
    "assert p.y == 0.0\n",
    "assert p.get_radius() == 1.0\n",
    "assert p.get_angle() == 0.0"
   ]
  },
  {
   "cell_type": "code",
   "execution_count": null,
   "id": "423f14b9",
   "metadata": {
    "tags": [
     "code-along"
    ]
   },
   "outputs": [],
   "source": [
    "p = GeoPointV0(0.0, 2.0)\n",
    "p"
   ]
  },
  {
   "cell_type": "code",
   "execution_count": null,
   "id": "aa3e1f14",
   "metadata": {},
   "outputs": [],
   "source": [
    "from math import isclose, pi\n",
    "assert p.x == 0.0\n",
    "assert p.y == 2.0\n",
    "assert p.get_radius() == 2.0\n",
    "assert isclose(p.get_angle(), pi/2) "
   ]
  },
  {
   "cell_type": "markdown",
   "id": "2b46ef97",
   "metadata": {
    "lang": "de",
    "slideshow": {
     "slide_type": "subslide"
    }
   },
   "source": [
    "Es ist unschön, dass bei der Verwendung von `GeoPointV0` die Attribute `x`\n",
    "und `y` anders behandelt werden müsseen als `radius` und `angle`:"
   ]
  },
  {
   "cell_type": "code",
   "execution_count": null,
   "id": "4bba91ad",
   "metadata": {
    "tags": [
     "code-along"
    ]
   },
   "outputs": [],
   "source": [
    "p = GeoPointV0(1.0, 1.0)\n",
    "print(p.x, p.y, p.get_radius(), p.get_angle())"
   ]
  },
  {
   "cell_type": "code",
   "execution_count": null,
   "id": "45707b27",
   "metadata": {
    "slideshow": {
     "slide_type": "subslide"
    },
    "tags": [
     "code-along"
    ]
   },
   "outputs": [],
   "source": [
    "import math\n",
    "\n",
    "class GeoPointV1:\n",
    "    def __init__(self, x=0, y=0):\n",
    "        self.x = x\n",
    "        self.y = y\n",
    "\n",
    "    @property\n",
    "    def radius(self):\n",
    "        return (self.x**2 + self.y**2) ** 0.5\n",
    "\n",
    "    @property\n",
    "    def angle(self):\n",
    "        return math.atan2(self.y, self.x)\n",
    "\n",
    "    def __repr__(self):\n",
    "        return f\"GeoPointV1({self.x:.1f}, {self.y:.1f}, r={self.radius:.2f}, θ={self.angle:.2f})\""
   ]
  },
  {
   "cell_type": "code",
   "execution_count": null,
   "id": "ccd3a8a8",
   "metadata": {
    "slideshow": {
     "slide_type": "subslide"
    },
    "tags": [
     "code-along"
    ]
   },
   "outputs": [],
   "source": [
    "p = GeoPointV1()\n",
    "p"
   ]
  },
  {
   "cell_type": "code",
   "execution_count": null,
   "id": "bb074ba2",
   "metadata": {},
   "outputs": [],
   "source": [
    "assert p.x == 0.0\n",
    "assert p.y == 0.0\n",
    "assert p.radius == 0.0\n",
    "assert p.angle == 0.0"
   ]
  },
  {
   "cell_type": "code",
   "execution_count": null,
   "id": "f251afa4",
   "metadata": {
    "tags": [
     "code-along"
    ]
   },
   "outputs": [],
   "source": [
    "p = GeoPointV1(1.0, 0.0)\n",
    "p"
   ]
  },
  {
   "cell_type": "code",
   "execution_count": null,
   "id": "d13c935e",
   "metadata": {},
   "outputs": [],
   "source": [
    "assert p.x == 1.0\n",
    "assert p.y == 0.0\n",
    "assert p.radius == 1.0\n",
    "assert p.angle == 0.0"
   ]
  },
  {
   "cell_type": "code",
   "execution_count": null,
   "id": "d65c277f",
   "metadata": {
    "tags": [
     "code-along"
    ]
   },
   "outputs": [],
   "source": [
    "p = GeoPointV1(0.0, 2.0)\n",
    "p"
   ]
  },
  {
   "cell_type": "code",
   "execution_count": null,
   "id": "9f5935a9",
   "metadata": {},
   "outputs": [],
   "source": [
    "from math import isclose, pi\n",
    "assert p.x == 0.0\n",
    "assert p.y == 2.0\n",
    "assert p.radius == 2.0\n",
    "assert isclose(p.angle, pi/2) "
   ]
  },
  {
   "cell_type": "code",
   "execution_count": null,
   "id": "57a02a79",
   "metadata": {
    "tags": [
     "code-along"
    ]
   },
   "outputs": [],
   "source": [
    "GeoPointV1(1.0, 0.0)"
   ]
  },
  {
   "cell_type": "code",
   "execution_count": null,
   "id": "36a6a487",
   "metadata": {
    "tags": [
     "code-along"
    ]
   },
   "outputs": [],
   "source": [
    "GeoPointV1(0.0, 2.0)"
   ]
  },
  {
   "cell_type": "code",
   "execution_count": null,
   "id": "f445b506",
   "metadata": {
    "tags": [
     "code-along"
    ]
   },
   "outputs": [],
   "source": [
    "p = GeoPointV1(1.0, 1.0)\n",
    "print(p.x, p.y, p.radius, p.angle)"
   ]
  },
  {
   "cell_type": "markdown",
   "id": "d29f7fe4",
   "metadata": {
    "lang": "de",
    "slideshow": {
     "slide_type": "subslide"
    }
   },
   "source": [
    "\n",
    "## Setter für Properties:\n",
    "\n",
    "Properties können auch modifiziert werden:"
   ]
  },
  {
   "cell_type": "code",
   "execution_count": null,
   "id": "b3338781",
   "metadata": {
    "tags": [
     "code-along"
    ]
   },
   "outputs": [],
   "source": [
    "import math\n",
    "\n",
    "class GeoPointV2:\n",
    "    def __init__(self, x=0, y=0):\n",
    "        self.x = x\n",
    "        self.y = y\n",
    "\n",
    "    @property\n",
    "    def radius(self):\n",
    "        return (self.x**2 + self.y**2) ** 0.5\n",
    "\n",
    "    @radius.setter\n",
    "    def radius(self, new_radius):\n",
    "        old_radius = self.radius\n",
    "        # Check for `old_radius == 0`...\n",
    "        self.x *= new_radius / old_radius\n",
    "        self.y *= new_radius / old_radius\n",
    "\n",
    "    @property\n",
    "    def angle(self):\n",
    "        return math.atan2(self.y, self.x)\n",
    "\n",
    "    def __repr__(self):\n",
    "        return f\"GeoPointV1({self.x:.1f}, {self.y:.1f}, r={self.radius:.2f}, θ={self.angle:.2f})\""
   ]
  },
  {
   "cell_type": "code",
   "execution_count": null,
   "id": "b5bb3b20",
   "metadata": {
    "tags": [
     "code-along"
    ]
   },
   "outputs": [],
   "source": [
    "p = GeoPointV2(3.0, 4.0)\n",
    "print(\"Original point:  \", p)\n",
    "p.radius = 10.0\n",
    "print(\"Set radius to 10:\", p)"
   ]
  },
  {
   "cell_type": "code",
   "execution_count": null,
   "id": "c104259e",
   "metadata": {},
   "outputs": [],
   "source": [
    "assert p.radius == 10.0"
   ]
  },
  {
   "cell_type": "markdown",
   "id": "42d027db",
   "metadata": {
    "lang": "de",
    "slideshow": {
     "slide_type": "subslide"
    }
   },
   "source": [
    "\n",
    " ## Attribute von Klassen\n",
    "\n",
    "Die meisten Attribute werden auf der Instanz-Ebene definiert, d.h.,\n",
    "jedes Objekt hat seine eigenen Werte für die Attribute. Manchmal ist es\n",
    "aber sinnvoll Attribute auch auf der Klassenebene zu definieren:"
   ]
  },
  {
   "cell_type": "code",
   "execution_count": null,
   "id": "ef548096",
   "metadata": {
    "tags": [
     "code-along"
    ]
   },
   "outputs": [],
   "source": [
    "class CountedAdder:\n",
    "    # Attribut der Klasse, wird von allen Instanzen geteilt\n",
    "    num_counters = 0\n",
    "\n",
    "    def __init__(self, value):\n",
    "        CountedAdder.num_counters += 1\n",
    "        # Instanzvariable (-attribut): Jede Instanz hat eigene Werte dafür\n",
    "        self.value = value\n",
    "\n",
    "    def describe(self):\n",
    "        print(\n",
    "            f\"One of {CountedAdder.num_counters} adders. \"\n",
    "            f\"This one adds {self.value} to its argument.\"\n",
    "        )\n",
    "\n",
    "    def add(self, n):\n",
    "        return self.value + n"
   ]
  },
  {
   "cell_type": "code",
   "execution_count": null,
   "id": "1a6ca513",
   "metadata": {
    "tags": [
     "code-along"
    ]
   },
   "outputs": [],
   "source": [
    "print(CountedAdder.num_counters)\n",
    "a1 = CountedAdder(10)\n",
    "print(CountedAdder.num_counters)\n",
    "a2 = CountedAdder(20)\n",
    "print(CountedAdder.num_counters)"
   ]
  },
  {
   "cell_type": "code",
   "execution_count": null,
   "id": "a2b1af4b",
   "metadata": {
    "tags": [
     "code-along"
    ]
   },
   "outputs": [],
   "source": [
    "print(a1.add(1))\n",
    "print(a2.add(2))"
   ]
  },
  {
   "cell_type": "code",
   "execution_count": null,
   "id": "6d754e45",
   "metadata": {
    "tags": [
     "code-along"
    ]
   },
   "outputs": [],
   "source": [
    "a1.describe()\n",
    "a2.describe()"
   ]
  },
  {
   "cell_type": "code",
   "execution_count": null,
   "id": "88b28dc9",
   "metadata": {
    "tags": [
     "code-along"
    ]
   },
   "outputs": [],
   "source": [
    "print(CountedAdder.num_counters)\n",
    "print(a1.num_counters)\n",
    "print(a2.num_counters)"
   ]
  },
  {
   "cell_type": "code",
   "execution_count": null,
   "id": "2ccf6167",
   "metadata": {
    "lines_to_next_cell": 2,
    "tags": [
     "code-along"
    ]
   },
   "outputs": [],
   "source": [
    "print(CountedAdder.add)\n",
    "print(a1.add)\n",
    "print(a2.add)"
   ]
  },
  {
   "cell_type": "markdown",
   "id": "9070d3ed",
   "metadata": {
    "lang": "de",
    "lines_to_next_cell": 2,
    "tags": [
     "code-along"
    ]
   },
   "source": [
    "### Vererbung"
   ]
  },
  {
   "cell_type": "code",
   "execution_count": null,
   "id": "7a5c338d",
   "metadata": {
    "tags": [
     "code-along"
    ]
   },
   "outputs": [],
   "source": [
    "class LoggingAdder(CountedAdder):\n",
    "    def add(self, n):\n",
    "        print(f\"Adding {self.value} to {n}\")\n",
    "        return self.value + n"
   ]
  },
  {
   "cell_type": "code",
   "execution_count": null,
   "id": "35cf2fcb",
   "metadata": {
    "tags": [
     "code-along"
    ]
   },
   "outputs": [],
   "source": [
    "a3 = LoggingAdder(30)\n",
    "print(a3.add(3))\n",
    "print(a3.num_counters)"
   ]
  },
  {
   "cell_type": "code",
   "execution_count": null,
   "id": "1e2b4069",
   "metadata": {
    "tags": [
     "code-along"
    ]
   },
   "outputs": [],
   "source": [
    "a1.describe()\n",
    "a2.describe()\n",
    "a3.describe()"
   ]
  },
  {
   "cell_type": "code",
   "execution_count": null,
   "id": "a7f248dd",
   "metadata": {
    "tags": [
     "code-along"
    ]
   },
   "outputs": [],
   "source": [
    "# Method Resolution Order:\n",
    "LoggingAdder.mro()"
   ]
  },
  {
   "cell_type": "code",
   "execution_count": null,
   "id": "b2dc8375",
   "metadata": {
    "tags": [
     "code-along"
    ]
   },
   "outputs": [],
   "source": [
    "print(CountedAdder.add)\n",
    "print(a1.add)\n",
    "print(a2.add)\n",
    "print(LoggingAdder.add)\n",
    "print(a3.add)"
   ]
  },
  {
   "cell_type": "code",
   "execution_count": null,
   "id": "f9922594",
   "metadata": {
    "tags": [
     "code-along"
    ]
   },
   "outputs": [],
   "source": [
    "print(CountedAdder.add)\n",
    "print(a1.add.__func__)\n",
    "print(a2.add.__func__)\n",
    "print(LoggingAdder.add)\n",
    "print(a3.add.__func__)"
   ]
  },
  {
   "cell_type": "code",
   "execution_count": null,
   "id": "3ab1445b",
   "metadata": {
    "tags": [
     "code-along"
    ]
   },
   "outputs": [],
   "source": [
    "a1.__dict__[\"value\"] = 15"
   ]
  },
  {
   "cell_type": "code",
   "execution_count": null,
   "id": "10c050bc",
   "metadata": {
    "tags": [
     "code-along"
    ]
   },
   "outputs": [],
   "source": [
    "a1.add(0)"
   ]
  },
  {
   "cell_type": "code",
   "execution_count": null,
   "id": "1d496e26",
   "metadata": {
    "tags": [
     "code-along"
    ]
   },
   "outputs": [],
   "source": [
    "LoggingAdder.__dict__"
   ]
  },
  {
   "cell_type": "markdown",
   "id": "2a9af65a",
   "metadata": {
    "lang": "de",
    "slideshow": {
     "slide_type": "slide"
    }
   },
   "source": [
    "\n",
    " ## Für Experten: Zugriff auf Attribute\n",
    "\n",
    " Python ermöglicht es uns als Programmierer, an mehreren Stellen in den Zugriff auf Attribute einzugreifen und das Verhalten zu modifizieren."
   ]
  },
  {
   "cell_type": "markdown",
   "id": "de3ada02",
   "metadata": {
    "lang": "de"
   },
   "source": [
    "\n",
    " ## Attribute von Klassen\n",
    "\n",
    " Beim Zugriff auf `C.name` verfährt Python folgendermaßen:\n",
    "\n",
    " - Falls `name` ein Key in `C.__dict__` ist:\n",
    "   - `v = C.__dict__['name']`\n",
    "   - Falls `v` ein Deskriptor ist (i.e., `type(v).__get__` definiert ist:\n",
    "     - Resultat ist `type(v).__get__(v, None, C)`\n",
    "   - Falls `v` kein Deskriptor ist:\n",
    "     - Resultat ist `v`\n",
    " - Falls `name` kein Key in `C.__dict__` ist:\n",
    "   - Die Baisklassen von `C` werden in Method Resolution Order durchlaufen und\n",
    "     diese Verfahren wird für jede Klasse ausgeführt"
   ]
  },
  {
   "cell_type": "markdown",
   "id": "8b9a8bb1",
   "metadata": {
    "lang": "de",
    "slideshow": {
     "slide_type": "subslide"
    }
   },
   "source": [
    "\n",
    " ## Attribute von Instanzen\n",
    "\n",
    " Beim Zugriff auf `object.name` verfährt Python folgendermaßen:\n",
    "\n",
    " - Falls `name` ein Overriding Descriptor `v` in `C` oder einer der\n",
    "   Basisklassen von `C` ist (`type(v)` hat Methoden `__get__()` und\n",
    "   `__set__()`:\n",
    "   - Das Resultat ist `type(v).__get__(v, object, C)`\n",
    " - Andernfalls, falls `name` ein Schlüssel in `object.__dict__` ist:\n",
    "   - Das Resultat ist `object.__dict__['name']`\n",
    " - Andernfalls delegiert `object.name` die Suche an die Klasse, wie oben\n",
    "   beschrieben\n",
    "   - Falls dadurch ein Deskriptor `v` gefunden wird, so ist das Ergebnis\n",
    "     `type(v).__get__(v, object, C)`\n",
    "   - Wenn ein Wert `v` gefunden wird, der kein Deskriptor ist, dann wird `v`\n",
    "     zurückgegeben\n",
    " - Wenn kein Wert gefunden wird und `C.__getattr__` definiert ist, dann wird\n",
    "   `C.__getattr__(object, 'name')` aufgerufen um den Wert zu erhalten\n",
    " - Andernfalls wird eine `AttributeError` Exception ausgelöst\n",
    "\n",
    " Dieser Prozess kann durch die `__getattribute__` Methode überschrieben werden."
   ]
  },
  {
   "cell_type": "code",
   "execution_count": null,
   "id": "84845f8e",
   "metadata": {
    "slideshow": {
     "slide_type": "subslide"
    },
    "tags": [
     "code-along"
    ]
   },
   "outputs": [],
   "source": [
    "class LoggingDescriptor:\n",
    "    def __init__(self, name):\n",
    "        self.name = name\n",
    "\n",
    "    def __get__(self, instance, owner):\n",
    "        print(f\"__get__({self}, {instance}, {owner})\")\n",
    "        print(f\"  __dict__ == {instance.__dict__}\")\n",
    "        return instance.__dict__.get(self.name, \"nothing\")"
   ]
  },
  {
   "cell_type": "code",
   "execution_count": null,
   "id": "99cf68d4",
   "metadata": {
    "tags": [
     "code-along"
    ]
   },
   "outputs": [],
   "source": [
    "class OverridingLoggingDescriptor(LoggingDescriptor):\n",
    "    def __set__(self, instance, value):\n",
    "        print(f\"__set__({self}, {instance}, {value}\")\n",
    "        instance.__dict__[self.name] = value"
   ]
  },
  {
   "cell_type": "code",
   "execution_count": null,
   "id": "89a13400",
   "metadata": {
    "tags": [
     "code-along"
    ]
   },
   "outputs": [],
   "source": [
    "class YourClass:\n",
    "    f = LoggingDescriptor(\"f\")\n",
    "    g = OverridingLoggingDescriptor(\"g\")"
   ]
  },
  {
   "cell_type": "code",
   "execution_count": null,
   "id": "f9030258",
   "metadata": {
    "slideshow": {
     "slide_type": "subslide"
    },
    "tags": [
     "code-along"
    ]
   },
   "outputs": [],
   "source": [
    "yc = YourClass()\n",
    "print(yc.f, yc.g)"
   ]
  },
  {
   "cell_type": "code",
   "execution_count": null,
   "id": "b3e418fd",
   "metadata": {
    "tags": [
     "code-along"
    ]
   },
   "outputs": [],
   "source": [
    "yc.f = 234\n",
    "yc.g = 345"
   ]
  },
  {
   "cell_type": "code",
   "execution_count": null,
   "id": "b0f8d0c2",
   "metadata": {
    "tags": [
     "code-along"
    ]
   },
   "outputs": [],
   "source": [
    "print(yc.f, yc.g)"
   ]
  },
  {
   "cell_type": "code",
   "execution_count": null,
   "id": "e6549d12",
   "metadata": {
    "tags": [
     "code-along"
    ]
   },
   "outputs": [],
   "source": [
    "class MyClass:\n",
    "    def g(self, x):\n",
    "        print(self, x)\n",
    "\n",
    "\n",
    "def f(x, y):\n",
    "    print(x, y)"
   ]
  },
  {
   "cell_type": "code",
   "execution_count": null,
   "id": "8e398995",
   "metadata": {
    "tags": [
     "code-along"
    ]
   },
   "outputs": [],
   "source": [
    "mc = MyClass()\n",
    "print(mc.__class__)"
   ]
  },
  {
   "cell_type": "code",
   "execution_count": null,
   "id": "e2c6cca5",
   "metadata": {
    "tags": [
     "code-along"
    ]
   },
   "outputs": [],
   "source": [
    "print(MyClass.g)\n",
    "print(mc.g.__qualname__)\n",
    "print(mc.g.__get__)"
   ]
  },
  {
   "cell_type": "code",
   "execution_count": null,
   "id": "83cf622a",
   "metadata": {
    "tags": [
     "code-along"
    ]
   },
   "outputs": [],
   "source": [
    "print(f.__get__)"
   ]
  },
  {
   "cell_type": "code",
   "execution_count": null,
   "id": "d4b5bace",
   "metadata": {
    "tags": [
     "code-along"
    ]
   },
   "outputs": [],
   "source": [
    "bound_f = f.__get__(mc, MyClass)\n",
    "bound_g = mc.g\n",
    "print(bound_f)\n",
    "print(bound_g)"
   ]
  },
  {
   "cell_type": "code",
   "execution_count": null,
   "id": "1ab4eab0",
   "metadata": {
    "tags": [
     "code-along"
    ]
   },
   "outputs": [],
   "source": [
    "bound_f(3)\n",
    "bound_g(3)\n",
    "mc.g(3)"
   ]
  },
  {
   "cell_type": "markdown",
   "id": "2c77aeb2",
   "metadata": {
    "lines_to_next_cell": 2
   },
   "source": [
    "# Ende der Folien\n",
    "\n",
    "Der Rest der Folien kann weitgehend entfallen, da Klassen jetzt in\n",
    "`introduction_part2` eingeführt werden.\n",
    "\n",
    "TODO: Überprüfen ob es noch nicht behandelte Inhalte gibt und diese\n",
    "extrahieren. Evtl. in eine kurze Wiederholung umarbeiten."
   ]
  },
  {
   "cell_type": "markdown",
   "id": "c9f0c27c",
   "metadata": {},
   "source": [
    "\n",
    " # Klassen\n",
    "\n",
    " Wie können wir einen Eintrag in einem Warenkorb darstellen?\n",
    "\n",
    " - Artikelnummer\n",
    " - Artikelname\n",
    " - Preis pro Stück\n",
    " - Anzahl\n",
    " - Gesamtpreis\n",
    "\n",
    " Vorschlag: Liste, (Tupel, Dictionaries)"
   ]
  },
  {
   "cell_type": "code",
   "execution_count": null,
   "id": "a7ef62e5",
   "metadata": {},
   "outputs": [],
   "source": [
    "entry = [\"0713\", \"Netzkabel\", 3.49, 2, 6.98]"
   ]
  },
  {
   "cell_type": "code",
   "execution_count": null,
   "id": "b6992e67",
   "metadata": {},
   "outputs": [],
   "source": [
    "entry"
   ]
  },
  {
   "cell_type": "markdown",
   "id": "eec0f613",
   "metadata": {},
   "source": [
    "\n",
    " ## Problem\n",
    "\n",
    " - Schwer zu erkennen, welcher Bedeutung ein Eintrag hat\n",
    " - Listenoperationen sind für Entries möglich, aber nicht sinnvoll\n",
    " - Bedeutung nur implizit; für Python ist es einfach eine Liste\n",
    " - Berechnete Werte (Gesamtpreis) müssen explizit angegeben werden"
   ]
  },
  {
   "cell_type": "code",
   "execution_count": null,
   "id": "61a19859",
   "metadata": {},
   "outputs": [],
   "source": [
    "entry = {\n",
    "    \"article_number\": \"0713\",\n",
    "    \"article_name\": \"Netzkabel\",\n",
    "    \"price_per_item:\": 3.49,\n",
    "    \"total_price\": 6.98,\n",
    "}"
   ]
  },
  {
   "cell_type": "code",
   "execution_count": null,
   "id": "e2430f48",
   "metadata": {},
   "outputs": [],
   "source": [
    "entry"
   ]
  },
  {
   "cell_type": "markdown",
   "id": "719060b7",
   "metadata": {},
   "source": [
    "\n",
    " ## Verbesserungen und noch vorhandene Probleme\n",
    "\n",
    " - Bedeutung der einzelnen \"Attribute\" ist klarer\n",
    " - Dictionary-Operationen für Eintrag sinnvoller als Listenoperationen\n",
    "   (passen aber immer noch nicht komplett)\n",
    " - Bedeutung des Eintrags selber nur implizit; für Python ist es einfach ein Dictionary\n",
    " - Berechnete Werte (Gesamtpreis) müssen explizit angegeben werden"
   ]
  },
  {
   "cell_type": "markdown",
   "id": "68f91b7e",
   "metadata": {},
   "source": [
    "\n",
    " # Klassen und Objekte\n",
    "\n",
    " Wie können wir in Python Objekte erzeugen, in denen wir zusammengehörige Daten Speichern können?\n",
    "\n",
    " - Listen\n",
    " - Tupel\n",
    " - Dictionaries\n",
    " - *(Instanzen von) benutzerdefinierten Klassen*"
   ]
  },
  {
   "cell_type": "code",
   "execution_count": null,
   "id": "201ffc97",
   "metadata": {},
   "outputs": [],
   "source": [
    "class ShoppingCartEntryV0:\n",
    "    pass"
   ]
  },
  {
   "cell_type": "code",
   "execution_count": null,
   "id": "689a218f",
   "metadata": {},
   "outputs": [],
   "source": [
    "shopping_cart_entry_1 = ShoppingCartEntryV0()\n",
    "shopping_cart_entry_1"
   ]
  },
  {
   "cell_type": "code",
   "execution_count": null,
   "id": "e068b389",
   "metadata": {},
   "outputs": [],
   "source": [
    "type(shopping_cart_entry_1)"
   ]
  },
  {
   "cell_type": "code",
   "execution_count": null,
   "id": "90415df1",
   "metadata": {},
   "outputs": [],
   "source": [
    "shopping_cart_entry_1.article_number = \"9343\"\n",
    "shopping_cart_entry_1.article_name = \"Strawberries\"\n",
    "shopping_cart_entry_1.price_per_item = 2.99"
   ]
  },
  {
   "cell_type": "code",
   "execution_count": null,
   "id": "42753187",
   "metadata": {},
   "outputs": [],
   "source": [
    "shopping_cart_entry_1.article_number"
   ]
  },
  {
   "cell_type": "code",
   "execution_count": null,
   "id": "0c586766",
   "metadata": {},
   "outputs": [],
   "source": [
    "shopping_cart_entry_1.article_name"
   ]
  },
  {
   "cell_type": "code",
   "execution_count": null,
   "id": "152b7ef2",
   "metadata": {},
   "outputs": [],
   "source": [
    "shopping_cart_entry_1.price_per_item"
   ]
  },
  {
   "cell_type": "code",
   "execution_count": null,
   "id": "27ec3192",
   "metadata": {},
   "outputs": [],
   "source": [
    "shopping_cart_entry_2 = ShoppingCartEntryV0()\n",
    "shopping_cart_entry_2.article_number = \"3742\"\n",
    "shopping_cart_entry_2.article_name = \"Cream\""
   ]
  },
  {
   "cell_type": "code",
   "execution_count": null,
   "id": "5b131f51",
   "metadata": {
    "lines_to_next_cell": 2
   },
   "outputs": [],
   "source": [
    "print(\n",
    "    \"shopping_cart_entry_1:\",\n",
    "    shopping_cart_entry_1.article_number,\n",
    "    shopping_cart_entry_1.article_name,\n",
    "    shopping_cart_entry_1.price_per_item,\n",
    ")\n",
    "print(\n",
    "    \"shopping_cart_entry_2:\",\n",
    "    shopping_cart_entry_2.article_number,\n",
    "    shopping_cart_entry_2.article_name,\n",
    ")"
   ]
  },
  {
   "cell_type": "code",
   "execution_count": null,
   "id": "51abaf7a",
   "metadata": {
    "lines_to_next_cell": 2
   },
   "outputs": [],
   "source": [
    "# Fehler:\n",
    "# shopping_cart_entry_2.price_per_item"
   ]
  },
  {
   "cell_type": "markdown",
   "id": "686b2a56",
   "metadata": {},
   "source": [
    "\n",
    " ## Bessere Variante: \"Abstrakter Datentyp\"\n",
    "\n",
    " Wir definieren uns einen Typ, der für \"entries in einem Warenkorb\" steht.\n",
    " Alle Instanzen dieses Typs haben die gleiche Struktur:\n",
    "\n",
    " - `article_number`, `article_name`\n",
    " - `price_per_item`, `number_of_items`\n",
    " - `total_price`, berechnet aus den vorhergehenden Werten\n"
   ]
  },
  {
   "cell_type": "markdown",
   "id": "63b1209e",
   "metadata": {},
   "source": [
    "\n",
    " ### Konstruktoren\n",
    "\n",
    " Die benötigten Werte werden bei der Konstruktion eines entries angegeben.\n",
    "\n",
    " In Python definiert man dazu die `__init__()` Methode:"
   ]
  },
  {
   "cell_type": "code",
   "execution_count": null,
   "id": "8b66f328",
   "metadata": {},
   "outputs": [],
   "source": [
    "class ShoppingCartEntryV1:\n",
    "    def __init__(self, article_number, article_name, price_per_item, number_of_items):\n",
    "        self.article_number = article_number\n",
    "        self.article_name = article_name\n",
    "        self.price_per_item = price_per_item\n",
    "        self.number_of_items = number_of_items\n",
    "        self.total_price = price_per_item * number_of_items"
   ]
  },
  {
   "cell_type": "markdown",
   "id": "0e3d88fd",
   "metadata": {},
   "source": [
    "\n",
    " - Die `__init__()` Methode wird von Python nach dem Erzeugen einer Instanz\n",
    "   aufgerufen\n",
    " - Das erste Argument ist dabei immer die neu erzeugte Instanz und hat\n",
    "   per Konvention den Namen `self`\n",
    " - Die restlichen Argumente müssen an den Konstruktor übergeben werden:"
   ]
  },
  {
   "cell_type": "code",
   "execution_count": null,
   "id": "998fbc63",
   "metadata": {},
   "outputs": [],
   "source": [
    "entry = ShoppingCartEntryV1(\"0713\", \"Netzkabel\", 3.49, 2)\n",
    "entry"
   ]
  },
  {
   "cell_type": "code",
   "execution_count": null,
   "id": "b3026da7",
   "metadata": {},
   "outputs": [],
   "source": [
    "entry.article_number, entry.article_name, entry.price_per_item, entry.number_of_items, entry.total_price"
   ]
  },
  {
   "cell_type": "code",
   "execution_count": null,
   "id": "3785b055",
   "metadata": {
    "lines_to_next_cell": 2
   },
   "outputs": [],
   "source": [
    "# Fehler!\n",
    "# ShoppingCartEntryV1()"
   ]
  },
  {
   "cell_type": "code",
   "execution_count": null,
   "id": "a036e8cc",
   "metadata": {},
   "outputs": [],
   "source": [
    "shopping_cart = [\n",
    "    ShoppingCartEntryV1(\"9343\", \"Strawberries\", price_per_item=2.99, number_of_items=2),\n",
    "    ShoppingCartEntryV1(\"3742\", \"Cream\", price_per_item=1.99, number_of_items=1),\n",
    "]"
   ]
  },
  {
   "cell_type": "markdown",
   "id": "b02a7af3",
   "metadata": {},
   "source": [
    "\n",
    " Die Ausgabe des Einkaufswagens ist mit der `ShoppingCartEntry` Klasse nicht sehr\n",
    " vielsagend. Das werden wir später verbessern."
   ]
  },
  {
   "cell_type": "code",
   "execution_count": null,
   "id": "c55d97f1",
   "metadata": {},
   "outputs": [],
   "source": [
    "shopping_cart"
   ]
  },
  {
   "cell_type": "markdown",
   "id": "181185b9",
   "metadata": {},
   "source": [
    "\n",
    " Wir können die Preise der einzelnen Entries im Einkaufswagen so berechnen:"
   ]
  },
  {
   "cell_type": "code",
   "execution_count": null,
   "id": "ba04c4d2",
   "metadata": {},
   "outputs": [],
   "source": [
    "[entry.total_price for entry in shopping_cart]"
   ]
  },
  {
   "cell_type": "code",
   "execution_count": null,
   "id": "5573f40b",
   "metadata": {},
   "outputs": [],
   "source": [
    "def total_price_of_shopping_cart(shopping_cart):\n",
    "    result = 0.0\n",
    "    for entry in shopping_cart:\n",
    "        result += entry.total_price\n",
    "    return result"
   ]
  },
  {
   "cell_type": "code",
   "execution_count": null,
   "id": "16e47a06",
   "metadata": {},
   "outputs": [],
   "source": [
    "total_price_of_shopping_cart(shopping_cart)"
   ]
  },
  {
   "cell_type": "markdown",
   "id": "0932f83c",
   "metadata": {},
   "source": [
    "\n",
    " ### ADT für Einkaufswagen\n",
    "\n",
    " Der Einkaufswagen ist im Moment als Liste gespeichert. Es wäre möglicherweise\n",
    " hilfreich dafür ebenfalls einen Typ zu definieren:"
   ]
  },
  {
   "cell_type": "code",
   "execution_count": null,
   "id": "a2c9a82a",
   "metadata": {},
   "outputs": [],
   "source": [
    "class ShoppingCartV0:\n",
    "    def __init__(self, entries):\n",
    "        self.entries = entries"
   ]
  },
  {
   "cell_type": "code",
   "execution_count": null,
   "id": "81c4791d",
   "metadata": {},
   "outputs": [],
   "source": [
    "shopping_cart_entry_1 = ShoppingCartEntryV1(\"9343\", \"Strawberries\", 2.99, 2)\n",
    "shopping_cart_entry_2 = ShoppingCartEntryV1(\"3742\", \"Cream\", 1.99, 1)\n",
    "shopping_cart = ShoppingCartV0([shopping_cart_entry_1, shopping_cart_entry_2])"
   ]
  },
  {
   "cell_type": "code",
   "execution_count": null,
   "id": "b5539d77",
   "metadata": {},
   "outputs": [],
   "source": [
    "def total_price_of_shopping_cart(shopping_cart):\n",
    "    result = 0.0\n",
    "    for entry in shopping_cart.entries:\n",
    "        result += entry.total_price\n",
    "    return result"
   ]
  },
  {
   "cell_type": "code",
   "execution_count": null,
   "id": "414193d2",
   "metadata": {},
   "outputs": [],
   "source": [
    "total_price_of_shopping_cart(shopping_cart)"
   ]
  },
  {
   "cell_type": "markdown",
   "id": "d4515e99",
   "metadata": {},
   "source": [
    "\n",
    " ## Mini Workshop\n",
    "\n",
    " - Notebook `062x-Workshop Todo-Liste V1`\n",
    " - Abschnitt \"TODO-Liste Version 1\""
   ]
  },
  {
   "cell_type": "markdown",
   "id": "5fd2543f",
   "metadata": {},
   "source": [
    "\n",
    " ### Methoden\n",
    "\n",
    " - Beim `ShoppingCartEntry` haben wir den Gesamtpreis als Attribut gespeichert.\n",
    " - Beim `ShoppingCart` berechnen wir den Gesamtpreis durch eine Top-Level\n",
    "   Funktion, die auf die `entries` zugreift.\n",
    " - Das ist inkonsistent und daher unschön.\n",
    " - Es wäre hilfreich, wenn wir die Funktionen, die zu einer Klasse gehören in\n",
    "   der Klasse definieren könnten:\n",
    " - Wir haben bei der `__init__()` Methode schon eine Funktionsdefinition in den Rumpf einer Klasse geschrieben\n",
    " - Das geht nicht nur für `__init__()` sondern auch für benutzerdefinierte Funktionen\n",
    " - Funktionen, die innerhalb einer Klasse definiert werden heißen *Methoden*\n",
    " - Methoden haben immer mindestens einen Parameter\n",
    "   - per Konvention `self`\n",
    "   - steht für das Objekt in dessen Kontext die Methode aufgerufen wird"
   ]
  },
  {
   "cell_type": "code",
   "execution_count": null,
   "id": "8056e31d",
   "metadata": {},
   "outputs": [],
   "source": [
    "class ShoppingCartV1:\n",
    "    def __init__(self, entries):\n",
    "        self.entries = entries\n",
    "\n",
    "    def get_total_price(self):\n",
    "        result = 0.0\n",
    "        for entry in self.entries:\n",
    "            result += entry.total_price\n",
    "        return result"
   ]
  },
  {
   "cell_type": "code",
   "execution_count": null,
   "id": "fee1c3df",
   "metadata": {},
   "outputs": [],
   "source": [
    "shopping_cart = ShoppingCartV1([shopping_cart_entry_1, shopping_cart_entry_2])"
   ]
  },
  {
   "cell_type": "markdown",
   "id": "f8d3cc73",
   "metadata": {},
   "source": [
    "\n",
    " - Methoden werden mit der Syntax\n",
    "\n",
    "   ```python\n",
    "   object.method(arg1, arg2, ...)\n",
    "   ```\n",
    "\n",
    "   aufgerufen.\n",
    " - Das Argument des `self`-Parameters ist `object`\n",
    " - `arg1`, `arg2`, ... werden an die folgenden Parameter gebunden."
   ]
  },
  {
   "cell_type": "code",
   "execution_count": null,
   "id": "782d6a8b",
   "metadata": {},
   "outputs": [],
   "source": [
    "shopping_cart.get_total_price()"
   ]
  },
  {
   "cell_type": "markdown",
   "id": "168b022f",
   "metadata": {},
   "source": [
    "\n",
    " Eine Methode wird durch die `object.`-Operation an `object` *gebunden*, d.h.,\n",
    " dem `self` Parameter wird bei nachfolgenden Aufrufen `object` als Argument\n",
    " übergebben:"
   ]
  },
  {
   "cell_type": "code",
   "execution_count": null,
   "id": "b09075c8",
   "metadata": {},
   "outputs": [],
   "source": [
    "print(shopping_cart.get_total_price())\n",
    "my_method = shopping_cart.get_total_price\n",
    "print(shopping_cart)\n",
    "print(my_method)\n",
    "print(my_method())"
   ]
  },
  {
   "cell_type": "markdown",
   "id": "b51162ea",
   "metadata": {},
   "source": [
    "\n",
    " ### Properties\n",
    "\n",
    " In `ShoppingCartV1` ist `get_total_price()` eine Funktion, in\n",
    " `ShoppingCartEntryV1` hatten wir den Gesamtpreis in einem Attribut\n",
    " gespeichert.\n",
    "\n",
    " Das ergibt immer noch ein inkonsistentes Benutzerinterface:"
   ]
  },
  {
   "cell_type": "code",
   "execution_count": null,
   "id": "91bbaa11",
   "metadata": {},
   "outputs": [],
   "source": [
    "print(shopping_cart_entry_1.total_price)\n",
    "print(shopping_cart.get_total_price())"
   ]
  },
  {
   "cell_type": "markdown",
   "id": "b66099b6",
   "metadata": {},
   "source": [
    "\n",
    " Eine Möglichkeit das zu vermeiden:\n",
    "\n",
    " - Getter für alle Instanzvariablen (siehe Java)\n",
    " - Viel Boilerplate-Code"
   ]
  },
  {
   "cell_type": "markdown",
   "id": "e64916d0",
   "metadata": {},
   "source": [
    "\n",
    " In Python können wir diesen Unterschied durch Definition einer `total_price`\n",
    " Property vermeiden. Eine Property\n",
    "\n",
    " - Ist eine Methode, die wie jede andere Methode evaluiert wird\n",
    " - Sieht syntaktisch wie der Zugriff auf ein Attribut aus\n",
    " - Wird durch den *Decorator* `@property` eingeführt"
   ]
  },
  {
   "cell_type": "code",
   "execution_count": null,
   "id": "9f44fb78",
   "metadata": {},
   "outputs": [],
   "source": [
    "class ShoppingCartV2:\n",
    "    def __init__(self, entries):\n",
    "        self.entries = entries\n",
    "\n",
    "    @property\n",
    "    def total_price(self):\n",
    "        result = 0.0\n",
    "        for entry in self.entries:\n",
    "            result += entry.total_price\n",
    "        return result"
   ]
  },
  {
   "cell_type": "code",
   "execution_count": null,
   "id": "f68203ab",
   "metadata": {},
   "outputs": [],
   "source": [
    "shopping_cart = ShoppingCartV2([shopping_cart_entry_1, shopping_cart_entry_2])\n",
    "print(shopping_cart_entry_1.total_price)\n",
    "print(shopping_cart.total_price)"
   ]
  },
  {
   "cell_type": "markdown",
   "id": "1dc836a4",
   "metadata": {},
   "source": [
    "\n",
    " ### Dunder-Methoden\n",
    "\n",
    " Zur Erinnerung:"
   ]
  },
  {
   "cell_type": "code",
   "execution_count": null,
   "id": "3f67133d",
   "metadata": {},
   "outputs": [],
   "source": [
    "print(str(\"Foo\"))"
   ]
  },
  {
   "cell_type": "code",
   "execution_count": null,
   "id": "c2862b50",
   "metadata": {},
   "outputs": [],
   "source": [
    "print(repr(\"Foo\"))"
   ]
  },
  {
   "cell_type": "code",
   "execution_count": null,
   "id": "062e9bed",
   "metadata": {},
   "outputs": [],
   "source": [
    "foo = \"Foo\"\n",
    "print(f\"{foo}\")\n",
    "print(f\"{foo!s}\")\n",
    "print(f\"{foo!r}\")"
   ]
  },
  {
   "cell_type": "code",
   "execution_count": null,
   "id": "67d20787",
   "metadata": {},
   "outputs": [],
   "source": [
    "print(f\"{shopping_cart}\")\n",
    "print(f\"{shopping_cart!s}\")\n",
    "print(f\"{shopping_cart!r}\")"
   ]
  },
  {
   "cell_type": "code",
   "execution_count": null,
   "id": "caa47e2b",
   "metadata": {},
   "outputs": [],
   "source": [
    "class ShoppingCart:\n",
    "    def __init__(self, entries):\n",
    "        self.entries = entries\n",
    "\n",
    "    @property\n",
    "    def total_price(self):\n",
    "        result = 0.0\n",
    "        for entry in self.entries:\n",
    "            result += entry.total_price\n",
    "        return result\n",
    "\n",
    "    def __repr__(self):\n",
    "        return f\"ShoppingCart({self.entries!r})\"\n",
    "\n",
    "    # See real implementation\n",
    "    def __str__(self):\n",
    "        return f\"Shopping Cart: {', '.join(str(e) for e in self.entries)}\""
   ]
  },
  {
   "cell_type": "code",
   "execution_count": null,
   "id": "e99d8f68",
   "metadata": {},
   "outputs": [],
   "source": [
    "class ShoppingCartEntry:\n",
    "    def __init__(self, article_number, article_name, price_per_item, number_of_items):\n",
    "        self.article_number = article_number\n",
    "        self.article_name = article_name\n",
    "        self.price_per_item = price_per_item\n",
    "        self.number_of_items = number_of_items\n",
    "\n",
    "    @property\n",
    "    def total_price(self):\n",
    "        return self.price_per_item * self.number_of_items\n",
    "\n",
    "    def __repr__(self):\n",
    "        return f\"ShoppingCartEntry({self.article_number!r}, {self.article_name!r}, {self.price_per_item!r}, {self.number_of_items!r})\"\n",
    "\n",
    "    def __str__(self):\n",
    "        return f\"{self.article_name}\""
   ]
  },
  {
   "cell_type": "code",
   "execution_count": null,
   "id": "cab37df9",
   "metadata": {},
   "outputs": [],
   "source": [
    "shopping_cart = ShoppingCart(\n",
    "    [\n",
    "        ShoppingCartEntry(\"9343\", \"Strawberries\", 2.99, 2),\n",
    "        ShoppingCartEntry(\"3742\", \"Cream\", 1.99, 1),\n",
    "    ]\n",
    ")"
   ]
  },
  {
   "cell_type": "code",
   "execution_count": null,
   "id": "7a16e5b4",
   "metadata": {},
   "outputs": [],
   "source": [
    "shopping_cart"
   ]
  },
  {
   "cell_type": "code",
   "execution_count": null,
   "id": "1568a121",
   "metadata": {},
   "outputs": [],
   "source": [
    "print(shopping_cart)"
   ]
  },
  {
   "cell_type": "code",
   "execution_count": null,
   "id": "559ac115",
   "metadata": {},
   "outputs": [],
   "source": [
    "print(f\"{shopping_cart}\")\n",
    "print(f\"{shopping_cart!s}\")\n",
    "print(f\"{shopping_cart!r}\")"
   ]
  },
  {
   "cell_type": "markdown",
   "id": "7abcc344",
   "metadata": {},
   "source": [
    "\n",
    " Siehe `Examples/ShoppingCart` für Implementierungsvariante."
   ]
  },
  {
   "cell_type": "code",
   "execution_count": null,
   "id": "693ac412",
   "metadata": {},
   "outputs": [],
   "source": [
    "sce1 = ShoppingCartEntry(\"1\", \"Item 1\", 1.0, 1)\n",
    "sce2 = ShoppingCartEntry(\"1\", \"Item 1\", 1.0, 1)\n",
    "sce1 == sce2"
   ]
  },
  {
   "cell_type": "markdown",
   "id": "840d33c3",
   "metadata": {},
   "source": [
    "\n",
    " ## Workshop\n",
    "\n",
    " - Notebook `064x-Workshop Todo-Liste V2`\n",
    " - Abschnitt \"Grundlegende Funktionalität\"\n",
    " - Im Moment ohne die `__iter__()` Methode"
   ]
  }
 ],
 "metadata": {
  "jupytext": {
   "cell_metadata_json": true,
   "encoding": "# -*- coding: utf-8 -*-",
   "formats": "ipynb"
  },
  "kernelspec": {
   "display_name": "Python 3 (ipykernel)",
   "language": "python",
   "name": "python3"
  }
 },
 "nbformat": 4,
 "nbformat_minor": 5
}
