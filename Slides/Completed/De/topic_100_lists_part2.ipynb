{
 "cells": [
  {
   "cell_type": "markdown",
   "id": "c509f0b9",
   "metadata": {
    "lang": "de",
    "slideshow": {
     "slide_type": "slide"
    }
   },
   "source": [
    "<img src=\"img/python-logo-notext.svg\"\n",
    "     style=\"display:block;margin:auto;width:10%\"/>\n",
    "<br>\n",
    "<div style=\"text-align:center; font-size:200%;\"><b>Vertiefung zu Listen</b></div>\n",
    "<br/>\n",
    "<div style=\"text-align:center;\">Dr. Matthias Hölzl</div>"
   ]
  },
  {
   "cell_type": "markdown",
   "id": "b1493985",
   "metadata": {
    "lang": "de",
    "slideshow": {
     "slide_type": "slide"
    }
   },
   "source": [
    "# Listen\n",
    "\n",
    "Wiederholung:\n",
    "\n",
    "- Listen-Literale werden in eckige Klammern eingeschlossen\n",
    "- Andere Sequenzen können mittels `list` in Listen umgewandelt werden"
   ]
  },
  {
   "cell_type": "code",
   "execution_count": null,
   "id": "53b27077",
   "metadata": {},
   "outputs": [],
   "source": [
    "[\"a\", \"b\", \"c\"]"
   ]
  },
  {
   "cell_type": "code",
   "execution_count": null,
   "id": "af259a14",
   "metadata": {
    "tags": [
     "code-along"
    ]
   },
   "outputs": [],
   "source": [
    "list(\"abcde\")"
   ]
  },
  {
   "cell_type": "markdown",
   "id": "1b2e1fe6",
   "metadata": {
    "lang": "de",
    "slideshow": {
     "slide_type": "subslide"
    }
   },
   "source": [
    "## Mini-Workshop\n",
    "\n",
    "- Notebook `workshop_060_introduction_part2`\n",
    "- Abschnitt \"Ausgabe von Quadratzahlen\""
   ]
  },
  {
   "cell_type": "markdown",
   "id": "605c04a7",
   "metadata": {
    "lang": "de",
    "slideshow": {
     "slide_type": "subslide"
    }
   },
   "source": [
    "## Eigenschaften von Listen\n",
    "\n",
    "- Listen können beliebige Python-Werte speichern\n",
    "- Elemente in einer Liste haben eine feste Reihenfolge\n",
    "- Auf Elemente einer Liste kann mit einem Index zugegriffen werden\n",
    "- Listen können modifiziert werden\n",
    "\n",
    "Listen können Elemente mit verschiedenen Typen enthalten, die meisten Listen\n",
    "enthalten aber Elemente eines einzigen Typs."
   ]
  },
  {
   "cell_type": "code",
   "execution_count": null,
   "id": "60040123",
   "metadata": {
    "slideshow": {
     "slide_type": "subslide"
    }
   },
   "outputs": [],
   "source": [
    "stringliste = [\"a\", \"b\", \"c\"]"
   ]
  },
  {
   "cell_type": "code",
   "execution_count": null,
   "id": "91b1280c",
   "metadata": {
    "tags": [
     "code-along"
    ]
   },
   "outputs": [],
   "source": [
    "stringliste[0]"
   ]
  },
  {
   "cell_type": "code",
   "execution_count": null,
   "id": "6ffc951d",
   "metadata": {
    "tags": [
     "code-along"
    ]
   },
   "outputs": [],
   "source": [
    "stringliste[-1]"
   ]
  },
  {
   "cell_type": "markdown",
   "id": "1895cfba",
   "metadata": {
    "lang": "de",
    "slideshow": {
     "slide_type": "subslide"
    }
   },
   "source": [
    "### Überprüfen, ob ein Element in einer Liste enthalten ist"
   ]
  },
  {
   "cell_type": "code",
   "execution_count": null,
   "id": "e2cf19e4",
   "metadata": {
    "tags": [
     "code-along"
    ]
   },
   "outputs": [],
   "source": [
    "2 in [1, 2, 3]"
   ]
  },
  {
   "cell_type": "code",
   "execution_count": null,
   "id": "2fa4df01",
   "metadata": {
    "tags": [
     "code-along"
    ]
   },
   "outputs": [],
   "source": [
    "not (2 in [1, 3, 5])"
   ]
  },
  {
   "cell_type": "code",
   "execution_count": null,
   "id": "a39bba3d",
   "metadata": {
    "tags": [
     "code-along"
    ]
   },
   "outputs": [],
   "source": [
    "2 not in [1, 3, 5]"
   ]
  },
  {
   "cell_type": "markdown",
   "id": "d742294b",
   "metadata": {
    "lang": "de",
    "slideshow": {
     "slide_type": "subslide"
    }
   },
   "source": [
    "### Finden der Position eines Elements"
   ]
  },
  {
   "cell_type": "code",
   "execution_count": null,
   "id": "ca8ee6e0",
   "metadata": {
    "tags": [
     "code-along"
    ]
   },
   "outputs": [],
   "source": [
    "[1, 2, 3, 2, 4].index(2)"
   ]
  },
  {
   "cell_type": "code",
   "execution_count": null,
   "id": "161d4531",
   "metadata": {},
   "outputs": [],
   "source": [
    "my_list = [\"a\", \"b\", \"c\", \"d\", \"b\", \"d\", \"b\"]"
   ]
  },
  {
   "cell_type": "code",
   "execution_count": null,
   "id": "04df010d",
   "metadata": {
    "tags": [
     "code-along"
    ]
   },
   "outputs": [],
   "source": [
    "my_index = my_list.index(\"b\")\n",
    "print(my_index)\n",
    "my_list[my_index]"
   ]
  },
  {
   "cell_type": "code",
   "execution_count": null,
   "id": "52f178da",
   "metadata": {
    "tags": [
     "code-along"
    ]
   },
   "outputs": [],
   "source": [
    "# Fehler\n",
    "# [1, 3, 5].index(2)"
   ]
  },
  {
   "cell_type": "markdown",
   "id": "3786ebbd",
   "metadata": {
    "lang": "de",
    "slideshow": {
     "slide_type": "subslide"
    }
   },
   "source": [
    "## Micro-Workshop:\n",
    "\n",
    "Die Methode `index` wirft eine Exception, wenn das gesuchte Objekt nicht in\n",
    "der Liste vorkommt. Schreiben Sie eine Funktion\n",
    "```\n",
    "find(element, a_list)\n",
    "```\n",
    "\n",
    "- die einen Index zurückgibt, falls das Element `element` in der Liste\n",
    "  vorkommt, und\n",
    "- die `None` zurückgibt, falls es nicht vorkommt"
   ]
  },
  {
   "cell_type": "code",
   "execution_count": null,
   "id": "ed7551e3",
   "metadata": {
    "slideshow": {
     "slide_type": "subslide"
    },
    "tags": [
     "code-along"
    ]
   },
   "outputs": [],
   "source": [
    "def find(element, a_list):\n",
    "    if element in a_list:\n",
    "        return a_list.index(element)\n",
    "    else:\n",
    "        return None"
   ]
  },
  {
   "cell_type": "code",
   "execution_count": null,
   "id": "24445da8",
   "metadata": {
    "slideshow": {
     "slide_type": "subslide"
    }
   },
   "outputs": [],
   "source": [
    "my_list = [\"a\", \"b\", \"c\", \"d\", \"e\"]"
   ]
  },
  {
   "cell_type": "code",
   "execution_count": null,
   "id": "ad883e3e",
   "metadata": {
    "slideshow": {
     "slide_type": "-"
    },
    "tags": [
     "code-along"
    ]
   },
   "outputs": [],
   "source": [
    "find(\"a\", my_list)"
   ]
  },
  {
   "cell_type": "code",
   "execution_count": null,
   "id": "118a92fc",
   "metadata": {
    "tags": [
     "code-along"
    ]
   },
   "outputs": [],
   "source": [
    "find(\"d\", my_list)"
   ]
  },
  {
   "cell_type": "code",
   "execution_count": null,
   "id": "1a040472",
   "metadata": {
    "tags": [
     "code-along"
    ]
   },
   "outputs": [],
   "source": [
    "print(find(\"x\", my_list))"
   ]
  },
  {
   "cell_type": "markdown",
   "id": "736da1fd",
   "metadata": {
    "lang": "de",
    "slideshow": {
     "slide_type": "subslide"
    }
   },
   "source": [
    "### Modifikation von Elementen"
   ]
  },
  {
   "cell_type": "code",
   "execution_count": null,
   "id": "04ae2acd",
   "metadata": {},
   "outputs": [],
   "source": [
    "stringliste"
   ]
  },
  {
   "cell_type": "code",
   "execution_count": null,
   "id": "fdc4c30c",
   "metadata": {
    "tags": [
     "code-along"
    ]
   },
   "outputs": [],
   "source": [
    "stringliste[0] = \"A\""
   ]
  },
  {
   "cell_type": "code",
   "execution_count": null,
   "id": "2b588040",
   "metadata": {},
   "outputs": [],
   "source": [
    "stringliste"
   ]
  },
  {
   "cell_type": "markdown",
   "id": "3355e149",
   "metadata": {
    "lang": "de",
    "slideshow": {
     "slide_type": "subslide"
    }
   },
   "source": [
    "### Einfügen und Anhängen von Elementen"
   ]
  },
  {
   "cell_type": "code",
   "execution_count": null,
   "id": "ca258701",
   "metadata": {},
   "outputs": [],
   "source": [
    "stringliste"
   ]
  },
  {
   "cell_type": "code",
   "execution_count": null,
   "id": "b06943a7",
   "metadata": {
    "tags": [
     "code-along"
    ]
   },
   "outputs": [],
   "source": [
    "stringliste.append(\"D\")"
   ]
  },
  {
   "cell_type": "code",
   "execution_count": null,
   "id": "9f7e8d51",
   "metadata": {},
   "outputs": [],
   "source": [
    "stringliste"
   ]
  },
  {
   "cell_type": "code",
   "execution_count": null,
   "id": "7103c674",
   "metadata": {
    "slideshow": {
     "slide_type": "subslide"
    },
    "tags": [
     "code-along"
    ]
   },
   "outputs": [],
   "source": [
    "stringliste + [\"E\", \"F\"]"
   ]
  },
  {
   "cell_type": "code",
   "execution_count": null,
   "id": "938e9d6b",
   "metadata": {},
   "outputs": [],
   "source": [
    "stringliste"
   ]
  },
  {
   "cell_type": "code",
   "execution_count": null,
   "id": "8dbf9b4b",
   "metadata": {
    "tags": [
     "code-along"
    ]
   },
   "outputs": [],
   "source": [
    "stringliste.extend([\"E\", \"F\"])"
   ]
  },
  {
   "cell_type": "code",
   "execution_count": null,
   "id": "b2d36afd",
   "metadata": {
    "slideshow": {
     "slide_type": "subslide"
    }
   },
   "outputs": [],
   "source": [
    "stringliste"
   ]
  },
  {
   "cell_type": "code",
   "execution_count": null,
   "id": "1dec442f",
   "metadata": {
    "tags": [
     "code-along"
    ]
   },
   "outputs": [],
   "source": [
    "stringliste.insert(1, \"Y\")"
   ]
  },
  {
   "cell_type": "code",
   "execution_count": null,
   "id": "d4ab2ccc",
   "metadata": {},
   "outputs": [],
   "source": [
    "stringliste"
   ]
  },
  {
   "cell_type": "code",
   "execution_count": null,
   "id": "92cef130",
   "metadata": {
    "slideshow": {
     "slide_type": "subslide"
    },
    "tags": [
     "code-along"
    ]
   },
   "outputs": [],
   "source": [
    "stringliste.insert(0, \"ANFANG\")"
   ]
  },
  {
   "cell_type": "code",
   "execution_count": null,
   "id": "ea921731",
   "metadata": {},
   "outputs": [],
   "source": [
    "stringliste"
   ]
  },
  {
   "cell_type": "code",
   "execution_count": null,
   "id": "c28653b1",
   "metadata": {
    "tags": [
     "code-along"
    ]
   },
   "outputs": [],
   "source": [
    "# Vorsicht!\n",
    "stringliste.insert(-1, \"ENDE\")"
   ]
  },
  {
   "cell_type": "code",
   "execution_count": null,
   "id": "36e2038d",
   "metadata": {},
   "outputs": [],
   "source": [
    "stringliste"
   ]
  },
  {
   "cell_type": "markdown",
   "id": "1ff819a6",
   "metadata": {
    "lang": "de",
    "slideshow": {
     "slide_type": "subslide"
    }
   },
   "source": [
    "### Entfernen von Elementen"
   ]
  },
  {
   "cell_type": "code",
   "execution_count": null,
   "id": "b32aa463",
   "metadata": {},
   "outputs": [],
   "source": [
    "stringliste = [\"ANFANG\", \"A\", \"Y\", \"b\", \"c\", \"D\", \"E\", \"ENDE\", \"F\"]\n",
    "stringliste[7]"
   ]
  },
  {
   "cell_type": "code",
   "execution_count": null,
   "id": "009e889a",
   "metadata": {
    "tags": [
     "code-along"
    ]
   },
   "outputs": [],
   "source": [
    "del stringliste[7]"
   ]
  },
  {
   "cell_type": "code",
   "execution_count": null,
   "id": "313dafa7",
   "metadata": {},
   "outputs": [],
   "source": [
    "stringliste"
   ]
  },
  {
   "cell_type": "markdown",
   "id": "b83ebc09",
   "metadata": {
    "lang": "de",
    "slideshow": {
     "slide_type": "subslide"
    }
   },
   "source": [
    "### Länge einer Liste"
   ]
  },
  {
   "cell_type": "code",
   "execution_count": null,
   "id": "0bcf2ac8",
   "metadata": {},
   "outputs": [],
   "source": [
    "stringliste"
   ]
  },
  {
   "cell_type": "code",
   "execution_count": null,
   "id": "8a14a192",
   "metadata": {
    "tags": [
     "code-along"
    ]
   },
   "outputs": [],
   "source": [
    "len(stringliste)"
   ]
  },
  {
   "cell_type": "code",
   "execution_count": null,
   "id": "d1fde034",
   "metadata": {
    "tags": [
     "code-along"
    ]
   },
   "outputs": [],
   "source": [
    "stringliste.insert(len(stringliste), \"WIRKLICH DAS ENDE\")"
   ]
  },
  {
   "cell_type": "code",
   "execution_count": null,
   "id": "2fb68d76",
   "metadata": {},
   "outputs": [],
   "source": [
    "stringliste"
   ]
  },
  {
   "cell_type": "code",
   "execution_count": null,
   "id": "4597116d",
   "metadata": {
    "tags": [
     "code-along"
    ]
   },
   "outputs": [],
   "source": [
    "# Vorsicht\n",
    "# stringliste[len(stringliste)]"
   ]
  },
  {
   "cell_type": "markdown",
   "id": "b5b3385f",
   "metadata": {
    "lang": "de",
    "slideshow": {
     "slide_type": "subslide"
    }
   },
   "source": [
    "## Mini-Workshop\n",
    "\n",
    "- Notebook `workshop_100_lists_part2`\n",
    "- Abschnitt \"Farben\"\n"
   ]
  },
  {
   "cell_type": "markdown",
   "id": "bb5f1cb8",
   "metadata": {
    "lang": "de",
    "slideshow": {
     "slide_type": "slide"
    }
   },
   "source": [
    "## Erzeugen von Listen\n",
    "\n",
    "Durch den Multiplikationsoperator `*` können die Elemente einer Liste\n",
    "wiederholt werden:"
   ]
  },
  {
   "cell_type": "code",
   "execution_count": null,
   "id": "58fc5101",
   "metadata": {
    "tags": [
     "code-along"
    ]
   },
   "outputs": [],
   "source": [
    "[1, 2] * 3"
   ]
  },
  {
   "cell_type": "code",
   "execution_count": null,
   "id": "f6886aa3",
   "metadata": {
    "tags": [
     "code-along"
    ]
   },
   "outputs": [],
   "source": [
    "3 * [\"a\", \"b\"]"
   ]
  },
  {
   "cell_type": "code",
   "execution_count": null,
   "id": "047d5548",
   "metadata": {
    "tags": [
     "code-along"
    ]
   },
   "outputs": [],
   "source": [
    "[0] * 10"
   ]
  },
  {
   "cell_type": "markdown",
   "id": "794fdc4e",
   "metadata": {
    "lang": "de",
    "slideshow": {
     "slide_type": "slide"
    }
   },
   "source": [
    "## Slicing\n",
    "\n",
    "Mit der Notation `liste[m:n]` kann man eine \"Teilliste\" von `liste`\n",
    "extrahieren.\n",
    "\n",
    "- Das erste Element ist `liste[m]`\n",
    "- Das letzte Element ist `liste[n-1]`"
   ]
  },
  {
   "cell_type": "code",
   "execution_count": null,
   "id": "9d187023",
   "metadata": {
    "slideshow": {
     "slide_type": "subslide"
    }
   },
   "outputs": [],
   "source": [
    "stringliste = [\"a\", \"b\", \"c\", \"d\", \"e\"]"
   ]
  },
  {
   "cell_type": "code",
   "execution_count": null,
   "id": "b6f9fbf5",
   "metadata": {
    "tags": [
     "code-along"
    ]
   },
   "outputs": [],
   "source": [
    "stringliste[1:3]"
   ]
  },
  {
   "cell_type": "code",
   "execution_count": null,
   "id": "ddff07bc",
   "metadata": {
    "tags": [
     "code-along"
    ]
   },
   "outputs": [],
   "source": [
    "stringliste[1:1]"
   ]
  },
  {
   "cell_type": "code",
   "execution_count": null,
   "id": "c2c5b977",
   "metadata": {
    "tags": [
     "code-along"
    ]
   },
   "outputs": [],
   "source": [
    "stringliste[0 : len(stringliste)]"
   ]
  },
  {
   "cell_type": "code",
   "execution_count": null,
   "id": "c8fe6a02",
   "metadata": {
    "slideshow": {
     "slide_type": "subslide"
    },
    "tags": [
     "code-along"
    ]
   },
   "outputs": [],
   "source": [
    "stringliste[:3]"
   ]
  },
  {
   "cell_type": "code",
   "execution_count": null,
   "id": "8f13d5f7",
   "metadata": {
    "tags": [
     "code-along"
    ]
   },
   "outputs": [],
   "source": [
    "stringliste[1:]"
   ]
  },
  {
   "cell_type": "code",
   "execution_count": null,
   "id": "31ec96c6",
   "metadata": {
    "tags": [
     "code-along"
    ]
   },
   "outputs": [],
   "source": [
    "stringliste[:]"
   ]
  },
  {
   "cell_type": "markdown",
   "id": "476ac994",
   "metadata": {
    "lang": "de",
    "slideshow": {
     "slide_type": "subslide"
    }
   },
   "source": [
    "## Mini-Workshop\n",
    "\n",
    "- Notebook `workshop_100_lists_part2`\n",
    "- Abschnitt \"Slicing\"\n"
   ]
  },
  {
   "cell_type": "markdown",
   "id": "9c82aa68",
   "metadata": {
    "lang": "de",
    "pycharm": {
     "name": "#%% md\n"
    },
    "slideshow": {
     "slide_type": "slide"
    }
   },
   "source": [
    "## Zuweisung an Slices\n",
    "\n",
    "Man kann Werte an Slices zuweisen:"
   ]
  },
  {
   "cell_type": "code",
   "execution_count": null,
   "id": "b0e700e0",
   "metadata": {
    "tags": [
     "code-along"
    ]
   },
   "outputs": [],
   "source": [
    "liste = [1, 2, 3, 4]\n",
    "liste[1:3]"
   ]
  },
  {
   "cell_type": "code",
   "execution_count": null,
   "id": "5297cb62",
   "metadata": {
    "tags": [
     "code-along"
    ]
   },
   "outputs": [],
   "source": [
    "liste[1:3] = [\"a\", \"b\", \"c\"]\n",
    "liste"
   ]
  },
  {
   "cell_type": "code",
   "execution_count": null,
   "id": "6000715b",
   "metadata": {
    "tags": [
     "code-along"
    ]
   },
   "outputs": [],
   "source": [
    "liste[2:2]"
   ]
  },
  {
   "cell_type": "code",
   "execution_count": null,
   "id": "92074eaa",
   "metadata": {
    "tags": [
     "code-along"
    ]
   },
   "outputs": [],
   "source": [
    "liste[2:2] = [\"x\"]\n",
    "liste"
   ]
  },
  {
   "cell_type": "code",
   "execution_count": null,
   "id": "e2e23125",
   "metadata": {
    "slideshow": {
     "slide_type": "subslide"
    },
    "tags": [
     "code-along"
    ]
   },
   "outputs": [],
   "source": [
    "liste[:] = [11, 22, 33]\n",
    "liste"
   ]
  },
  {
   "cell_type": "markdown",
   "id": "4b3b4524",
   "metadata": {
    "lang": "de",
    "slideshow": {
     "slide_type": "slide"
    }
   },
   "source": [
    "## Slices als Objekte\n",
    "\n",
    "Slices sind selber Python Objekte. Außerhalb der Indexing-Operation `[]`\n",
    "können sie allerdings nicht mit der Notation `a:b` erzeugt werden, sondern\n",
    "mit der Konstruktor-Funktion `slice()`."
   ]
  },
  {
   "cell_type": "code",
   "execution_count": null,
   "id": "ad6583d7",
   "metadata": {
    "lines_to_next_cell": 2,
    "slideshow": {
     "slide_type": "-"
    }
   },
   "outputs": [],
   "source": [
    "my_list = [1, 2, 3, 4, 5, 6]\n",
    "print(my_list[2:4])"
   ]
  },
  {
   "cell_type": "code",
   "execution_count": null,
   "id": "62c661cd",
   "metadata": {
    "tags": [
     "code-along"
    ]
   },
   "outputs": [],
   "source": [
    "my_slice = slice(2, 4)\n",
    "print(my_list[my_slice])"
   ]
  },
  {
   "cell_type": "code",
   "execution_count": null,
   "id": "1beb4b8a",
   "metadata": {
    "slideshow": {
     "slide_type": "subslide"
    }
   },
   "outputs": [],
   "source": [
    "print(my_list[:3])"
   ]
  },
  {
   "cell_type": "code",
   "execution_count": null,
   "id": "e686b0e8",
   "metadata": {
    "tags": [
     "code-along"
    ]
   },
   "outputs": [],
   "source": [
    "my_slice = slice(None, 3)\n",
    "print(my_list[my_slice])"
   ]
  },
  {
   "cell_type": "markdown",
   "id": "bb5ea5ee",
   "metadata": {
    "lang": "de",
    "slideshow": {
     "slide_type": "subslide"
    }
   },
   "source": [
    "\n",
    "Die `indices()`-Methode eines Slice-Objekts kann dazu verwendet werden zu\n",
    "bestimmen, welche Indizes das Slice enthält:"
   ]
  },
  {
   "cell_type": "code",
   "execution_count": null,
   "id": "c3a9d23d",
   "metadata": {},
   "outputs": [],
   "source": [
    "my_slice = slice(None, 3)\n",
    "print(my_slice.indices(len(my_list)))"
   ]
  },
  {
   "cell_type": "markdown",
   "id": "eb58ff63",
   "metadata": {
    "lang": "de"
   },
   "source": [
    "\n",
    "Damit können wir eine Funktion schreiben, die alle Elemente eines Slices\n",
    "durch einen Wert ersetzt:"
   ]
  },
  {
   "cell_type": "code",
   "execution_count": null,
   "id": "a687fca9",
   "metadata": {
    "slideshow": {
     "slide_type": "subslide"
    }
   },
   "outputs": [],
   "source": [
    "def replace_with(my_list, my_slice, value):\n",
    "    import math\n",
    "\n",
    "    start, stop, stride = my_slice.indices(len(my_list))\n",
    "    num_values = math.ceil((stop - start) / stride)\n",
    "    my_list[my_slice] = [value] * num_values"
   ]
  },
  {
   "cell_type": "code",
   "execution_count": null,
   "id": "ec4c7fc0",
   "metadata": {
    "slideshow": {
     "slide_type": "subslide"
    }
   },
   "outputs": [],
   "source": [
    "my_list = [1, 2, 3, 4, 5, 6]\n",
    "my_slice = slice(2, 6)\n",
    "replace_with(my_list, my_slice, 8)\n",
    "my_list"
   ]
  }
 ],
 "metadata": {
  "jupytext": {
   "cell_metadata_json": true,
   "encoding": "# -*- coding: utf-8 -*-",
   "formats": "ipynb"
  },
  "kernelspec": {
   "display_name": "Python 3 (ipykernel)",
   "language": "python",
   "name": "python3"
  }
 },
 "nbformat": 4,
 "nbformat_minor": 5
}
