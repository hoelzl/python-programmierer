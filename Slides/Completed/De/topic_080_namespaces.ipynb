{
 "cells": [
  {
   "cell_type": "markdown",
   "id": "800118e1",
   "metadata": {
    "lang": "de",
    "slideshow": {
     "slide_type": "slide"
    }
   },
   "source": [
    "<img src=\"img/python-logo-notext.svg\"\n",
    "     style=\"display:block;margin:auto;width:10%\"/>\n",
    "<br>\n",
    "<div style=\"text-align:center; font-size:200%;\"><b>Namensräume</b></div>\n",
    "<br/>\n",
    "<div style=\"text-align:center;\">Dr. Matthias Hölzl</div>"
   ]
  },
  {
   "cell_type": "markdown",
   "id": "fcefdf9d",
   "metadata": {
    "lang": "de",
    "slideshow": {
     "slide_type": "slide"
    }
   },
   "source": [
    "# Namensräume\n",
    "\n",
    "Variablen und Funktionsnamen existieren in einem *Namensraum (Namespace)*.\n",
    "\n",
    "- Globale Variablen und Funktionsnamen sind im globalen Namensraum.\n",
    "- Mit `import` importierte Namen existieren im importierten Namensraum.\n",
    "- Namen, die innerhalb einer Funktion definiert werden sind im Namensraum dieser Funktion.\n",
    "    - Parameter\n",
    "    - lokale Variablen\n",
    "\n",
    "Der Namensraum einer Funktion \"verschwindet\" am Ende des Rumpfs."
   ]
  },
  {
   "cell_type": "code",
   "execution_count": null,
   "id": "a9c08f41",
   "metadata": {
    "slideshow": {
     "slide_type": "subslide"
    }
   },
   "outputs": [],
   "source": [
    "# Ohne Angabe der Namensräume, siehe nächste Folie\n",
    "# fmt: off\n",
    "a = 1\n",
    "\n",
    "def f(x):\n",
    "    # print(a) # Was passiert, wenn diese Zeile einkommentiert wird?\n",
    "    a = x + 1\n",
    "    print(a)\n",
    "\n",
    "f(2)\n",
    "print(a)\n",
    "# print(x)"
   ]
  },
  {
   "cell_type": "code",
   "execution_count": null,
   "id": "0e80de75",
   "metadata": {
    "slideshow": {
     "slide_type": "subslide"
    }
   },
   "outputs": [],
   "source": [
    "# fmt: off\n",
    "a = 1         # Globaler Namespace\n",
    "\n",
    "def f(x):     # Namespace von f - x ist im globalen Namespace *nicht* sichtbar\n",
    "    a = x + 1 # Namespace von f - a ist im globalen Namespace *nicht* sichtbar\n",
    "    print(a)  # Greift auf a aus dem Namespace von f zu\n",
    "\n",
    "f(2)\n",
    "print(a)      # Greift auf a aus dem globalen Namespace zu\n",
    "# print(x)    # Fehler: x ist im Namespace von f\n",
    "# fmt: on"
   ]
  },
  {
   "cell_type": "code",
   "execution_count": null,
   "id": "008e2a4d",
   "metadata": {
    "slideshow": {
     "slide_type": "subslide"
    }
   },
   "outputs": [],
   "source": [
    "# fmt: off\n",
    "a = 1\n",
    "\n",
    "def f2():\n",
    "    global a\n",
    "    a = 4\n",
    "    print(a)\n",
    "\n",
    "f2()\n",
    "print(a)\n",
    "a = 5\n",
    "print(a)\n",
    "# fmt: on"
   ]
  },
  {
   "cell_type": "code",
   "execution_count": null,
   "id": "70d7e027",
   "metadata": {
    "tags": [
     "code-along"
    ]
   },
   "outputs": [],
   "source": [
    "from dis import dis"
   ]
  },
  {
   "cell_type": "code",
   "execution_count": null,
   "id": "da0ec6f3",
   "metadata": {
    "tags": [
     "code-along"
    ]
   },
   "outputs": [],
   "source": [
    "dis(f)"
   ]
  },
  {
   "cell_type": "code",
   "execution_count": null,
   "id": "9431e2b0",
   "metadata": {
    "tags": [
     "code-along"
    ]
   },
   "outputs": [],
   "source": [
    "dis(f2)"
   ]
  },
  {
   "cell_type": "code",
   "execution_count": null,
   "id": "63ccbfee",
   "metadata": {
    "lines_to_next_cell": 1,
    "tags": [
     "code-along"
    ]
   },
   "outputs": [],
   "source": [
    "# fmt: off\n",
    "a = 1\n",
    "\n",
    "def f_broken():\n",
    "    # noinspection PyUnresolvedReferences\n",
    "    print(a)\n",
    "    a = 2"
   ]
  },
  {
   "cell_type": "code",
   "execution_count": null,
   "id": "29b24cbc",
   "metadata": {
    "lines_to_next_cell": 2,
    "tags": [
     "code-along"
    ]
   },
   "outputs": [],
   "source": [
    "dis(f_broken)\n",
    "# fmt: on"
   ]
  },
  {
   "cell_type": "markdown",
   "id": "bbe1c550",
   "metadata": {
    "lang": "de",
    "slideshow": {
     "slide_type": "slide"
    }
   },
   "source": [
    "\n",
    "## Closures\n",
    "\n",
    "In Python ist es möglich Funktionen innerhalb von anderen Funktionen zu\n",
    "definieren. Diese können auf die Variablen der äußeren Funktion zugreifen."
   ]
  },
  {
   "cell_type": "code",
   "execution_count": null,
   "id": "33e24095",
   "metadata": {
    "slideshow": {
     "slide_type": "subslide"
    },
    "tags": [
     "code-along"
    ]
   },
   "outputs": [],
   "source": [
    "def make_closure_1():\n",
    "    from random import randint\n",
    "\n",
    "    initial_value = randint(1, 10)\n",
    "\n",
    "    def read_value():\n",
    "        return initial_value\n",
    "\n",
    "    return read_value()"
   ]
  },
  {
   "cell_type": "code",
   "execution_count": null,
   "id": "4068fdc8",
   "metadata": {
    "tags": [
     "code-along"
    ]
   },
   "outputs": [],
   "source": [
    "make_closure_1()"
   ]
  },
  {
   "cell_type": "code",
   "execution_count": null,
   "id": "75261a68",
   "metadata": {
    "tags": [
     "code-along"
    ]
   },
   "outputs": [],
   "source": [
    "dis(make_closure_1)"
   ]
  },
  {
   "cell_type": "code",
   "execution_count": null,
   "id": "a57de670",
   "metadata": {
    "slideshow": {
     "slide_type": "subslide"
    },
    "tags": [
     "code-along"
    ]
   },
   "outputs": [],
   "source": [
    "def make_closure_2():\n",
    "    from random import randint\n",
    "\n",
    "    initial_value = randint(1, 10)\n",
    "\n",
    "    def read_value():\n",
    "        return initial_value\n",
    "\n",
    "    return read_value"
   ]
  },
  {
   "cell_type": "code",
   "execution_count": null,
   "id": "db821698",
   "metadata": {
    "tags": [
     "code-along"
    ]
   },
   "outputs": [],
   "source": [
    "make_closure_2()"
   ]
  },
  {
   "cell_type": "code",
   "execution_count": null,
   "id": "8040ac8f",
   "metadata": {
    "tags": [
     "code-along"
    ]
   },
   "outputs": [],
   "source": [
    "dis(make_closure_2)"
   ]
  },
  {
   "cell_type": "code",
   "execution_count": null,
   "id": "4218cba2",
   "metadata": {
    "tags": [
     "code-along"
    ]
   },
   "outputs": [],
   "source": [
    "reader = make_closure_2()\n",
    "reader()"
   ]
  },
  {
   "cell_type": "code",
   "execution_count": null,
   "id": "292f297a",
   "metadata": {
    "slideshow": {
     "slide_type": "subslide"
    },
    "tags": [
     "code-along"
    ]
   },
   "outputs": [],
   "source": [
    "def make_mean_fun_1():\n",
    "    values: list[int] = []\n",
    "\n",
    "    def compute_mean(new_value: int):\n",
    "        values.append(new_value)\n",
    "        return sum(values) / len(values)\n",
    "\n",
    "    return compute_mean"
   ]
  },
  {
   "cell_type": "code",
   "execution_count": null,
   "id": "03aec4bf",
   "metadata": {
    "tags": [
     "code-along"
    ]
   },
   "outputs": [],
   "source": [
    "my_mean = make_mean_fun_1()\n",
    "your_mean = make_mean_fun_1()"
   ]
  },
  {
   "cell_type": "code",
   "execution_count": null,
   "id": "4647ca90",
   "metadata": {
    "tags": [
     "code-along"
    ]
   },
   "outputs": [],
   "source": [
    "print(my_mean(10))\n",
    "print(my_mean(20))\n",
    "print(your_mean(1))\n",
    "print(your_mean(2))\n",
    "print(my_mean(30))"
   ]
  },
  {
   "cell_type": "code",
   "execution_count": null,
   "id": "b1575de6",
   "metadata": {
    "slideshow": {
     "slide_type": "subslide"
    },
    "tags": [
     "code-along"
    ]
   },
   "outputs": [],
   "source": [
    "def make_mean_fun_2():\n",
    "    sum_of_values: int = 0\n",
    "    num_values: int = 0\n",
    "\n",
    "    def compute_mean(new_value: int):\n",
    "        nonlocal sum_of_values, num_values\n",
    "        sum_of_values += new_value\n",
    "        num_values += 1\n",
    "        return sum_of_values / num_values\n",
    "\n",
    "    return compute_mean"
   ]
  },
  {
   "cell_type": "code",
   "execution_count": null,
   "id": "63aba7d6",
   "metadata": {
    "tags": [
     "code-along"
    ]
   },
   "outputs": [],
   "source": [
    "my_mean = make_mean_fun_2()\n",
    "your_mean = make_mean_fun_2()"
   ]
  },
  {
   "cell_type": "code",
   "execution_count": null,
   "id": "98a81c1b",
   "metadata": {
    "lines_to_next_cell": 2,
    "tags": [
     "code-along"
    ]
   },
   "outputs": [],
   "source": [
    "print(my_mean(10))\n",
    "print(my_mean(20))\n",
    "print(your_mean(1))\n",
    "print(your_mean(2))\n",
    "print(my_mean(30))"
   ]
  },
  {
   "cell_type": "code",
   "execution_count": null,
   "id": "53a90610",
   "metadata": {
    "tags": [
     "code-along"
    ]
   },
   "outputs": [],
   "source": [
    "dis(make_mean_fun_2)"
   ]
  },
  {
   "cell_type": "markdown",
   "id": "d97a52d6",
   "metadata": {
    "lang": "de",
    "slideshow": {
     "slide_type": "subslide"
    }
   },
   "source": [
    "## Vermeiden von langwierigen Berechnungen in Notebooks:\n",
    "\n",
    "**Warnung!** Hack!!!\n",
    "Manchmal hilfreich, aber auch eine große Fehlerquelle!"
   ]
  },
  {
   "cell_type": "code",
   "execution_count": null,
   "id": "23fcf13c",
   "metadata": {
    "tags": [
     "code-along"
    ]
   },
   "outputs": [],
   "source": [
    "def slow_computation():\n",
    "    import time\n",
    "\n",
    "    # Increase this before demonstration!\n",
    "    time.sleep(0.1)\n",
    "    return 1"
   ]
  },
  {
   "cell_type": "code",
   "execution_count": null,
   "id": "895daaa5",
   "metadata": {
    "tags": [
     "code-along"
    ]
   },
   "outputs": [],
   "source": [
    "\"slow_value\" in globals()"
   ]
  },
  {
   "cell_type": "code",
   "execution_count": null,
   "id": "2aef5804",
   "metadata": {
    "tags": [
     "code-along"
    ]
   },
   "outputs": [],
   "source": [
    "slow_value = slow_computation()"
   ]
  },
  {
   "cell_type": "code",
   "execution_count": null,
   "id": "aa63f41d",
   "metadata": {
    "tags": [
     "code-along"
    ]
   },
   "outputs": [],
   "source": [
    "\"slow_value\" in globals()"
   ]
  },
  {
   "cell_type": "code",
   "execution_count": null,
   "id": "e1a088c1",
   "metadata": {
    "tags": [
     "code-along"
    ]
   },
   "outputs": [],
   "source": [
    "del slow_value"
   ]
  },
  {
   "cell_type": "code",
   "execution_count": null,
   "id": "0ad4d996",
   "metadata": {
    "tags": [
     "code-along"
    ]
   },
   "outputs": [],
   "source": [
    "\"slow_value\" in globals()"
   ]
  },
  {
   "cell_type": "code",
   "execution_count": null,
   "id": "af85de77",
   "metadata": {
    "tags": [
     "code-along"
    ]
   },
   "outputs": [],
   "source": [
    "if \"slow_value\" not in globals():\n",
    "    slow_value = slow_computation()"
   ]
  },
  {
   "cell_type": "code",
   "execution_count": null,
   "id": "44c2282f",
   "metadata": {
    "tags": [
     "code-along"
    ]
   },
   "outputs": [],
   "source": [
    "if \"slow_value\" not in globals():\n",
    "    slow_value = slow_computation()"
   ]
  }
 ],
 "metadata": {
  "jupytext": {
   "cell_metadata_json": true,
   "encoding": "# -*- coding: utf-8 -*-",
   "formats": "ipynb"
  },
  "kernelspec": {
   "display_name": "Python 3 (ipykernel)",
   "language": "python",
   "name": "python3"
  }
 },
 "nbformat": 4,
 "nbformat_minor": 5
}
