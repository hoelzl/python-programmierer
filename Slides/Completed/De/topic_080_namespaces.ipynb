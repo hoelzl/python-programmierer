{
 "cells": [
  {
   "cell_type": "markdown",
   "id": "9ff7b895",
   "metadata": {
    "lang": "de",
    "slideshow": {
     "slide_type": "slide"
    }
   },
   "source": [
    "<img src=\"img/python-logo-notext.svg\"\n",
    "     style=\"display:block;margin:auto;width:10%\"/>\n",
    "<br>\n",
    "<div style=\"text-align:center; font-size:200%;\"><b>Namensräume</b></div>\n",
    "<br/>\n",
    "<div style=\"text-align:center;\">Dr. Matthias Hölzl</div>"
   ]
  },
  {
   "cell_type": "markdown",
   "id": "8fbf0c6f",
   "metadata": {
    "lang": "de",
    "slideshow": {
     "slide_type": "slide"
    }
   },
   "source": [
    "# Namensräume\n",
    "\n",
    "Variablen und Funktionsnamen existieren in einem *Namensraum (Namespace)*.\n",
    "\n",
    "- Globale Variablen und Funktionsnamen sind im globalen Namensraum.\n",
    "- Mit `import` importierte Namen existieren im importierten Namensraum.\n",
    "- Namen, die innerhalb einer Funktion definiert werden sind im Namensraum dieser Funktion.\n",
    "    - Parameter\n",
    "    - lokale Variablen\n",
    "\n",
    "Der Namensraum einer Funktion \"verschwindet\" am Ende des Rumpfs."
   ]
  },
  {
   "cell_type": "code",
   "execution_count": null,
   "id": "6c43c412",
   "metadata": {
    "slideshow": {
     "slide_type": "subslide"
    }
   },
   "outputs": [],
   "source": [
    "# Ohne Angabe der Namensräume, siehe nächste Folie\n",
    "a = 1\n",
    "\n",
    "def f(x):\n",
    "    # print(a) # Was passiert, wenn diese Zeile einkommentiert wird?\n",
    "    a = x + 1\n",
    "    print(a)\n",
    "\n",
    "f(2)\n",
    "print(a)\n",
    "# print(x)"
   ]
  },
  {
   "cell_type": "code",
   "execution_count": null,
   "id": "0bfd4d46",
   "metadata": {
    "slideshow": {
     "slide_type": "subslide"
    }
   },
   "outputs": [],
   "source": [
    "a = 1         # Globaler Namespace\n",
    "\n",
    "def f(x):     # Namespace von f - x ist im globalen Namespace *nicht* sichtbar\n",
    "    a = x + 1 # Namespace von f - a ist im globalen Namespace *nicht* sichtbar\n",
    "    print(a)  # Greift auf a aus dem Namespace von f zu\n",
    "\n",
    "f(2)\n",
    "print(a)      # Greift auf a aus dem globalen Namespace zu\n",
    "# print(x)    # Fehler: x ist im Namespace von f"
   ]
  },
  {
   "cell_type": "code",
   "execution_count": null,
   "id": "d37c098f",
   "metadata": {
    "slideshow": {
     "slide_type": "subslide"
    }
   },
   "outputs": [],
   "source": [
    "a = 1\n",
    "\n",
    "def f2():\n",
    "    global a\n",
    "    a = 4\n",
    "    print(a)\n",
    "\n",
    "f2()\n",
    "print(a)\n",
    "a = 5\n",
    "print(a)"
   ]
  },
  {
   "cell_type": "code",
   "execution_count": null,
   "id": "1657886e",
   "metadata": {
    "tags": [
     "code-along"
    ]
   },
   "outputs": [],
   "source": [
    "from dis import dis"
   ]
  },
  {
   "cell_type": "code",
   "execution_count": null,
   "id": "0c6073c9",
   "metadata": {
    "tags": [
     "code-along"
    ]
   },
   "outputs": [],
   "source": [
    "dis(f)"
   ]
  },
  {
   "cell_type": "code",
   "execution_count": null,
   "id": "e32adc0b",
   "metadata": {
    "tags": [
     "code-along"
    ]
   },
   "outputs": [],
   "source": [
    "dis(f2)"
   ]
  },
  {
   "cell_type": "code",
   "execution_count": null,
   "id": "bf1382b5",
   "metadata": {
    "tags": [
     "code-along"
    ]
   },
   "outputs": [],
   "source": [
    "a = 1\n",
    "\n",
    "\n",
    "def f_broken():\n",
    "    # noinspection PyUnresolvedReferences\n",
    "    print(a)\n",
    "    a = 2"
   ]
  },
  {
   "cell_type": "code",
   "execution_count": null,
   "id": "e4e4c018",
   "metadata": {
    "tags": [
     "code-along"
    ]
   },
   "outputs": [],
   "source": [
    "dis(f_broken)"
   ]
  },
  {
   "cell_type": "markdown",
   "id": "a61a5273",
   "metadata": {
    "lang": "de",
    "slideshow": {
     "slide_type": "slide"
    }
   },
   "source": [
    "\n",
    "## Closures\n",
    "\n",
    "In Python ist es möglich Funktionen innerhalb von anderen Funktionen zu\n",
    "definieren. Diese können auf die Variablen der äußeren Funktion zugreifen."
   ]
  },
  {
   "cell_type": "code",
   "execution_count": null,
   "id": "89ec028a",
   "metadata": {
    "slideshow": {
     "slide_type": "subslide"
    },
    "tags": [
     "code-along"
    ]
   },
   "outputs": [],
   "source": [
    "def make_closure_1():\n",
    "    from random import randint\n",
    "\n",
    "    initial_value = randint(1, 10)\n",
    "\n",
    "    def read_value():\n",
    "        return initial_value\n",
    "\n",
    "    return read_value()"
   ]
  },
  {
   "cell_type": "code",
   "execution_count": null,
   "id": "210b7a06",
   "metadata": {
    "tags": [
     "code-along"
    ]
   },
   "outputs": [],
   "source": [
    "make_closure_1()"
   ]
  },
  {
   "cell_type": "code",
   "execution_count": null,
   "id": "357b64fa",
   "metadata": {
    "tags": [
     "code-along"
    ]
   },
   "outputs": [],
   "source": [
    "dis(make_closure_1)"
   ]
  },
  {
   "cell_type": "code",
   "execution_count": null,
   "id": "445b19e9",
   "metadata": {
    "slideshow": {
     "slide_type": "subslide"
    },
    "tags": [
     "code-along"
    ]
   },
   "outputs": [],
   "source": [
    "def make_closure_2():\n",
    "    from random import randint\n",
    "\n",
    "    initial_value = randint(1, 10)\n",
    "\n",
    "    def read_value():\n",
    "        return initial_value\n",
    "\n",
    "    return read_value"
   ]
  },
  {
   "cell_type": "code",
   "execution_count": null,
   "id": "d9b9e169",
   "metadata": {
    "tags": [
     "code-along"
    ]
   },
   "outputs": [],
   "source": [
    "make_closure_2()"
   ]
  },
  {
   "cell_type": "code",
   "execution_count": null,
   "id": "799a670a",
   "metadata": {
    "tags": [
     "code-along"
    ]
   },
   "outputs": [],
   "source": [
    "dis(make_closure_2)"
   ]
  },
  {
   "cell_type": "code",
   "execution_count": null,
   "id": "30492224",
   "metadata": {
    "tags": [
     "code-along"
    ]
   },
   "outputs": [],
   "source": [
    "reader = make_closure_2()\n",
    "reader()"
   ]
  },
  {
   "cell_type": "code",
   "execution_count": null,
   "id": "711229a4",
   "metadata": {
    "slideshow": {
     "slide_type": "subslide"
    },
    "tags": [
     "code-along"
    ]
   },
   "outputs": [],
   "source": [
    "def make_mean_fun_1():\n",
    "    values: list[int] = []\n",
    "\n",
    "    def compute_mean(new_value: int):\n",
    "        values.append(new_value)\n",
    "        return sum(values) / len(values)\n",
    "\n",
    "    return compute_mean"
   ]
  },
  {
   "cell_type": "code",
   "execution_count": null,
   "id": "4de183ff",
   "metadata": {
    "tags": [
     "code-along"
    ]
   },
   "outputs": [],
   "source": [
    "my_mean = make_mean_fun_1()\n",
    "your_mean = make_mean_fun_1()"
   ]
  },
  {
   "cell_type": "code",
   "execution_count": null,
   "id": "448bd977",
   "metadata": {
    "tags": [
     "code-along"
    ]
   },
   "outputs": [],
   "source": [
    "print(my_mean(10))\n",
    "print(my_mean(20))\n",
    "print(your_mean(1))\n",
    "print(your_mean(2))\n",
    "print(my_mean(30))"
   ]
  },
  {
   "cell_type": "code",
   "execution_count": null,
   "id": "8a511339",
   "metadata": {
    "slideshow": {
     "slide_type": "subslide"
    },
    "tags": [
     "code-along"
    ]
   },
   "outputs": [],
   "source": [
    "def make_mean_fun_2():\n",
    "    sum_of_values: int = 0\n",
    "    num_values: int = 0\n",
    "\n",
    "    def compute_mean(new_value: int):\n",
    "        nonlocal sum_of_values, num_values\n",
    "        sum_of_values += new_value\n",
    "        num_values += 1\n",
    "        return sum_of_values / num_values\n",
    "\n",
    "    return compute_mean"
   ]
  },
  {
   "cell_type": "code",
   "execution_count": null,
   "id": "043bbe98",
   "metadata": {
    "tags": [
     "code-along"
    ]
   },
   "outputs": [],
   "source": [
    "my_mean = make_mean_fun_2()\n",
    "your_mean = make_mean_fun_2()"
   ]
  },
  {
   "cell_type": "code",
   "execution_count": null,
   "id": "90f92e6d",
   "metadata": {
    "lines_to_next_cell": 2,
    "tags": [
     "code-along"
    ]
   },
   "outputs": [],
   "source": [
    "print(my_mean(10))\n",
    "print(my_mean(20))\n",
    "print(your_mean(1))\n",
    "print(your_mean(2))\n",
    "print(my_mean(30))"
   ]
  },
  {
   "cell_type": "code",
   "execution_count": null,
   "id": "ac838a98",
   "metadata": {
    "tags": [
     "code-along"
    ]
   },
   "outputs": [],
   "source": [
    "dis(make_mean_fun_2)"
   ]
  },
  {
   "cell_type": "markdown",
   "id": "75bfc812",
   "metadata": {
    "lang": "de",
    "slideshow": {
     "slide_type": "subslide"
    }
   },
   "source": [
    "## Vermeiden von langwierigen Berechnungen in Notebooks:\n",
    "\n",
    "**Warnung!** Hack!!!\n",
    "Manchmal hilfreich, aber auch eine große Fehlerquelle!"
   ]
  },
  {
   "cell_type": "code",
   "execution_count": null,
   "id": "b5319833",
   "metadata": {
    "tags": [
     "code-along"
    ]
   },
   "outputs": [],
   "source": [
    "def slow_computation():\n",
    "    import time\n",
    "\n",
    "    # Increase this before demonstration!\n",
    "    time.sleep(0.1)\n",
    "    return 1"
   ]
  },
  {
   "cell_type": "code",
   "execution_count": null,
   "id": "302a9bda",
   "metadata": {
    "tags": [
     "code-along"
    ]
   },
   "outputs": [],
   "source": [
    "\"slow_value\" in globals()"
   ]
  },
  {
   "cell_type": "code",
   "execution_count": null,
   "id": "6722948c",
   "metadata": {
    "tags": [
     "code-along"
    ]
   },
   "outputs": [],
   "source": [
    "slow_value = slow_computation()"
   ]
  },
  {
   "cell_type": "code",
   "execution_count": null,
   "id": "898a0344",
   "metadata": {
    "tags": [
     "code-along"
    ]
   },
   "outputs": [],
   "source": [
    "\"slow_value\" in globals()"
   ]
  },
  {
   "cell_type": "code",
   "execution_count": null,
   "id": "6722a430",
   "metadata": {
    "tags": [
     "code-along"
    ]
   },
   "outputs": [],
   "source": [
    "del slow_value"
   ]
  },
  {
   "cell_type": "code",
   "execution_count": null,
   "id": "7320fbc5",
   "metadata": {
    "tags": [
     "code-along"
    ]
   },
   "outputs": [],
   "source": [
    "\"slow_value\" in globals()"
   ]
  },
  {
   "cell_type": "code",
   "execution_count": null,
   "id": "5778d356",
   "metadata": {
    "tags": [
     "code-along"
    ]
   },
   "outputs": [],
   "source": [
    "if \"slow_value\" not in globals():\n",
    "    slow_value = slow_computation()"
   ]
  },
  {
   "cell_type": "code",
   "execution_count": null,
   "id": "ed713842",
   "metadata": {
    "tags": [
     "code-along"
    ]
   },
   "outputs": [],
   "source": [
    "if \"slow_value\" not in globals():\n",
    "    slow_value = slow_computation()"
   ]
  }
 ],
 "metadata": {
  "jupytext": {
   "cell_metadata_json": true,
   "encoding": "# -*- coding: utf-8 -*-",
   "formats": "ipynb"
  },
  "kernelspec": {
   "display_name": "Python 3 (ipykernel)",
   "language": "python",
   "name": "python3"
  }
 },
 "nbformat": 4,
 "nbformat_minor": 5
}
