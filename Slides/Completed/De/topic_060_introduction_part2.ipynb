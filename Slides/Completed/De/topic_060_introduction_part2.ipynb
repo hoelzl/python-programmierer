{
 "cells": [
  {
   "cell_type": "markdown",
   "id": "92ab836c",
   "metadata": {
    "lang": "de",
    "slideshow": {
     "slide_type": "slide"
    }
   },
   "source": [
    "<img src=\"img/python-logo-notext.svg\"\n",
    "     style=\"display:block;margin:auto;width:10%\"/>\n",
    "<br>\n",
    "<div style=\"text-align:center; font-size:200%;\"><b>Einführung in Python: Grundlagen Teil 2</b></div>\n",
    "<br/>\n",
    "<div style=\"text-align:center;\">Dr. Matthias Hölzl</div>"
   ]
  },
  {
   "cell_type": "markdown",
   "id": "638367d0",
   "metadata": {
    "incorrectly_encoded_metadata": "{\"slide_type\": \"slide\"}}",
    "lang": "de",
    "slideshow": {
     "slide_type": "slide"
    },
    "title": "\"slideshow\":"
   },
   "source": [
    "# Umwandlung in Strings\n",
    "\n",
    "Python bietet zwei Funktionen an, mit denen beliebige Werte in Strings umgewandelt\n",
    "werden können:\n",
    "\n",
    "- `repr` für eine \"programmnahe\" Darstellung (wie könnte der Wert im Programm erzeugt werden)\n",
    "- `str` für eine \"benutzerfreundliche\" Darstellung"
   ]
  },
  {
   "cell_type": "code",
   "execution_count": null,
   "id": "87e39441",
   "metadata": {
    "tags": [
     "code-along"
    ]
   },
   "outputs": [],
   "source": [
    "print(str(\"Hallo!\"))"
   ]
  },
  {
   "cell_type": "code",
   "execution_count": null,
   "id": "b5e7b174",
   "metadata": {
    "tags": [
     "code-along"
    ]
   },
   "outputs": [],
   "source": [
    "print(repr(\"Hallo!\"))"
   ]
  },
  {
   "cell_type": "markdown",
   "id": "55e6cd83",
   "metadata": {
    "incorrectly_encoded_metadata": "{\"slide_type\": \"subslide\"}}",
    "lang": "de",
    "title": "\"slideshow\":"
   },
   "source": [
    "Für manche Datentypen liefern `str` und `repr` den gleichen String zurück:"
   ]
  },
  {
   "cell_type": "code",
   "execution_count": null,
   "id": "7e82b88e",
   "metadata": {
    "tags": [
     "code-along"
    ]
   },
   "outputs": [],
   "source": [
    "print(str([\"a\", \"b\", \"c\"]))\n",
    "print(repr([\"a\", \"b\", \"c\"]))"
   ]
  },
  {
   "cell_type": "markdown",
   "id": "d1f22d19",
   "metadata": {
    "lang": "de",
    "slideshow": {
     "slide_type": "slide"
    }
   },
   "source": [
    "# Benutzerdefinierte Datentypen\n",
    "\n",
    "In Python können benutzerdefinierte Datentypen (Klassen) definiert werden:"
   ]
  },
  {
   "cell_type": "code",
   "execution_count": null,
   "id": "1aa90fd4",
   "metadata": {
    "tags": [
     "code-along"
    ]
   },
   "outputs": [],
   "source": [
    "class PointV0:\n",
    "    pass"
   ]
  },
  {
   "cell_type": "markdown",
   "id": "9e659fad",
   "metadata": {
    "lang": "de"
   },
   "source": [
    "\n",
    "Klassennamen werden in Pascal-Case (d.h. groß und mit Großbuchstaben zur\n",
    "Trennung von Namensbestandteilen) geschrieben, z.B. `MyVerySpecialClass`."
   ]
  },
  {
   "cell_type": "markdown",
   "id": "8b154f07",
   "metadata": {
    "lang": "de",
    "slideshow": {
     "slide_type": "subslide"
    }
   },
   "source": [
    "Instanzen von benutzerdefinierten Klassen werden erzeugt, indem man den\n",
    "Klassennamen als Funktion aufruft.  Manche der Python Operatoren und\n",
    "Funktionen können verwendet werden ohne, dass zusätzliche Implementierungsarbeit nötig ist:"
   ]
  },
  {
   "cell_type": "code",
   "execution_count": null,
   "id": "1a6bd0e0",
   "metadata": {
    "slideshow": {
     "slide_type": "subslide"
    },
    "tags": [
     "code-along"
    ]
   },
   "outputs": [],
   "source": [
    "p1 = PointV0()\n",
    "p1"
   ]
  },
  {
   "cell_type": "code",
   "execution_count": null,
   "id": "3ed1562d",
   "metadata": {
    "tags": [
     "code-along"
    ]
   },
   "outputs": [],
   "source": [
    "print(p1)"
   ]
  },
  {
   "cell_type": "code",
   "execution_count": null,
   "id": "86d3e7e4",
   "metadata": {
    "tags": [
     "code-along"
    ]
   },
   "outputs": [],
   "source": [
    "p2 = PointV0()\n",
    "p1 == p2"
   ]
  },
  {
   "cell_type": "code",
   "execution_count": null,
   "id": "97a327e9",
   "metadata": {
    "tags": [
     "code-along"
    ]
   },
   "outputs": [],
   "source": [
    "# Fehler\n",
    "# p1 < p2"
   ]
  },
  {
   "cell_type": "markdown",
   "id": "af13e83b",
   "metadata": {
    "lang": "de",
    "slideshow": {
     "slide_type": "subslide"
    }
   },
   "source": [
    "\n",
    "Ähnlich wie Dictionaries neue Einträge zugewiesen werden können, kann man\n",
    "benutzerdefinierten Datentypen neue *Attribute* zuweisen, allerdings verwendet\n",
    "man die `.`-Notation statt der Indexing Notation `[]`:"
   ]
  },
  {
   "cell_type": "code",
   "execution_count": null,
   "id": "e3a47d10",
   "metadata": {
    "tags": [
     "code-along"
    ]
   },
   "outputs": [],
   "source": [
    "# Möglich, aber nicht gut... / Possible but not good...\n",
    "p1.x = 1.0\n",
    "p1.y = 2.0\n",
    "print(p1.x)\n",
    "print(p1.y)"
   ]
  },
  {
   "cell_type": "code",
   "execution_count": null,
   "id": "12b9e194",
   "metadata": {
    "tags": [
     "code-along"
    ]
   },
   "outputs": [],
   "source": [
    "# Error!\n",
    "# p2.x"
   ]
  },
  {
   "cell_type": "markdown",
   "id": "67a673a8",
   "metadata": {
    "lang": "de",
    "slideshow": {
     "slide_type": "subslide"
    }
   },
   "source": [
    "\n",
    "Im Gegensatz zu Dictionaries werden Instanzen von Klassen typischerweise\n",
    "*nicht* nach der Erzeugung beliebige Attribute zugewiesen!\n",
    "\n",
    "Statt dessen sollen allen Instanzen die gleiche Form haben. Deswegen werden\n",
    "die Attribute eines Objekts bei seiner Konstruktion initialisiert. Das geht\n",
    "über die `__init__()` Methode.\n",
    "\n",
    "Die `__init__()`-Methode hat immer\n",
    "(mindestens) einen Parameter, der per Konvention `self` heißt:"
   ]
  },
  {
   "cell_type": "code",
   "execution_count": null,
   "id": "2c78f12c",
   "metadata": {
    "slideshow": {
     "slide_type": "subslide"
    },
    "tags": [
     "code-along"
    ]
   },
   "outputs": [],
   "source": [
    "class PointV1:\n",
    "    def __init__(self):\n",
    "        self.x = 0.0\n",
    "        self.y = 0.0"
   ]
  },
  {
   "cell_type": "code",
   "execution_count": null,
   "id": "eac392cc",
   "metadata": {
    "tags": [
     "code-along"
    ]
   },
   "outputs": [],
   "source": [
    "p1 = PointV1()\n",
    "p2 = PointV1()\n",
    "print(\"p1: x =\", p1.x, \"y =\", p1.y)\n",
    "print(\"p2: x =\", p2.x, \"y =\", p2.y)"
   ]
  },
  {
   "cell_type": "code",
   "execution_count": null,
   "id": "dbec78ae",
   "metadata": {
    "tags": [
     "code-along"
    ]
   },
   "outputs": [],
   "source": [
    "p1 == p2"
   ]
  },
  {
   "cell_type": "markdown",
   "id": "1bfc4ebf",
   "metadata": {
    "lang": "de",
    "slideshow": {
     "slide_type": "subslide"
    }
   },
   "source": [
    "\n",
    "Die Werte von Attributen können verändert werden:"
   ]
  },
  {
   "cell_type": "code",
   "execution_count": null,
   "id": "5fa3137b",
   "metadata": {
    "tags": [
     "code-along"
    ]
   },
   "outputs": [],
   "source": [
    "p1.x = 1.0\n",
    "p1.y = 2.0\n",
    "print(\"p1: x =\", p1.x, \"y =\", p1.y)\n",
    "print(\"p2: x =\", p2.x, \"y =\", p2.y)"
   ]
  },
  {
   "cell_type": "markdown",
   "id": "fb1d8f9a",
   "metadata": {
    "lang": "de",
    "slideshow": {
     "slide_type": "subslide"
    }
   },
   "source": [
    "\n",
    "In vielen Fällen wäre es besser, bei der Konstruktion eines Objekts Werte für\n",
    "die Attribute anzugeben. Das ist möglich, indem man der `__init__()`-Methode\n",
    "zusätzliche Parameter gibt."
   ]
  },
  {
   "cell_type": "code",
   "execution_count": null,
   "id": "4b7335b7",
   "metadata": {
    "slideshow": {
     "slide_type": "subslide"
    },
    "tags": [
     "code-along"
    ]
   },
   "outputs": [],
   "source": [
    "class PointV2:\n",
    "    def __init__(self, x, y):\n",
    "        self.x = x\n",
    "        self.y = y"
   ]
  },
  {
   "cell_type": "code",
   "execution_count": null,
   "id": "31aad36a",
   "metadata": {
    "lines_to_next_cell": 2,
    "tags": [
     "code-along"
    ]
   },
   "outputs": [],
   "source": [
    "p1 = PointV2(2.0, 3.0)\n",
    "p2 = PointV2(0.0, 0.0)\n",
    "print(\"p1: x =\", p1.x, \"y =\", p1.y)\n",
    "print(\"p2: x =\", p2.x, \"y =\", p2.y)"
   ]
  },
  {
   "cell_type": "markdown",
   "id": "5b612223",
   "metadata": {
    "lang": "de",
    "lines_to_next_cell": 2,
    "slideshow": {
     "slide_type": "subslide"
    }
   },
   "source": [
    "## Mini-Workshop\n",
    "\n",
    "- Notebook `workshop_062_objects`\n",
    "- Abschnitt \"Kraftfahrzeuge (Teil 1)\""
   ]
  },
  {
   "cell_type": "markdown",
   "id": "0594c14f",
   "metadata": {
    "lang": "de",
    "slideshow": {
     "slide_type": "subslide"
    }
   },
   "source": [
    "## Methoden\n",
    "\n",
    "Klassen können Methoden enthalten. Methoden sind Funktionen, die\n",
    "\"zu einem Objekt gehören\". Wir werden im Abschnitt zu Vererbung sehen,\n",
    "welche Möglichkeiten sich dadurch bieten.\n",
    "\n",
    "Methoden werden mit der \"Dot-Notation\" aufgerufen: `my_object.method()`.\n",
    "\n",
    "Die Syntax von Methodendefinitionen entspricht Funktionsdefinitionen,\n",
    "steht aber im Rumpf einer Klassendefinition.\n",
    "\n",
    "Im Gegensatz zu vielen anderen Sprachen hat\n",
    "Python bei der Definition keinen impliziten `this` Parameter; das Objekt auf\n",
    "dem die Methode aufgerufen wird muss als erster Parameter angegeben werden.\n",
    "Per Konvention hat dieser Parameter den Namen `self`, wie bei der\n",
    "`__init__()`-Methode.\n",
    "\n",
    "Die Definition einer Methode, die mit `my_object.method()` aufgerufen\n",
    "werden kann erfolgt also folgendermaßen:"
   ]
  },
  {
   "cell_type": "code",
   "execution_count": null,
   "id": "4492dac5",
   "metadata": {
    "slideshow": {
     "slide_type": "subslide"
    }
   },
   "outputs": [],
   "source": [
    "class MyClass:\n",
    "    def method(self):\n",
    "        print(F\"Called method on {self}\")"
   ]
  },
  {
   "cell_type": "code",
   "execution_count": null,
   "id": "ed3a08b3",
   "metadata": {},
   "outputs": [],
   "source": [
    "my_object = MyClass()\n",
    "my_object.method()"
   ]
  },
  {
   "cell_type": "markdown",
   "id": "48f99666",
   "metadata": {
    "lang": "de",
    "slideshow": {
     "slide_type": "subslide"
    }
   },
   "source": [
    "Wir können eine Methode zum Verschieben eines Punktes zu unserer `Point` Klasse hinzufügen:"
   ]
  },
  {
   "cell_type": "code",
   "execution_count": null,
   "id": "52b427d7",
   "metadata": {
    "slideshow": {
     "slide_type": "-"
    },
    "tags": [
     "code-along"
    ]
   },
   "outputs": [],
   "source": [
    "class PointV3:\n",
    "    def __init__(self, x, y):\n",
    "        self.x = x\n",
    "        self.y = y\n",
    "\n",
    "    def move(self, dx=0.0, dy=0.0):\n",
    "        self.x += dx\n",
    "        self.y += dy"
   ]
  },
  {
   "cell_type": "code",
   "execution_count": null,
   "id": "cf8333db",
   "metadata": {
    "slideshow": {
     "slide_type": "subslide"
    },
    "tags": [
     "code-along"
    ]
   },
   "outputs": [],
   "source": [
    "p = PointV3(2, 3)\n",
    "print(\"x =\", p.x)\n",
    "print(\"y =\", p.y)"
   ]
  },
  {
   "cell_type": "code",
   "execution_count": null,
   "id": "868115a8",
   "metadata": {
    "tags": [
     "code-along"
    ]
   },
   "outputs": [],
   "source": [
    "p.move(3, 5)\n",
    "print(\"x =\", p.x)\n",
    "print(\"y =\", p.y)"
   ]
  },
  {
   "cell_type": "markdown",
   "id": "a63d6588",
   "metadata": {
    "lang": "de",
    "lines_to_next_cell": 2,
    "slideshow": {
     "slide_type": "subslide"
    }
   },
   "source": [
    "## Mini-Workshop\n",
    "\n",
    "- Notebook `workshop_062_objects`\n",
    "- Abschnitt \"Kraftfahrzeuge (Teil 2)\""
   ]
  },
  {
   "cell_type": "markdown",
   "id": "48d3e182",
   "metadata": {
    "lang": "de",
    "slideshow": {
     "slide_type": "slide"
    }
   },
   "source": [
    "## Das Python-Objektmodell\n",
    "\n",
    "Mit Dunder-Methoden können benutzerdefinierten Datentypen benutzerfreundlicher\n",
    "gestaltet werden:"
   ]
  },
  {
   "cell_type": "code",
   "execution_count": null,
   "id": "d17cda5f",
   "metadata": {
    "tags": [
     "code-along"
    ]
   },
   "outputs": [],
   "source": [
    "print(str(p1))\n",
    "print(repr(p1))"
   ]
  },
  {
   "cell_type": "markdown",
   "id": "ebe113df",
   "metadata": {
    "lang": "de"
   },
   "source": [
    "Durch Definition der Methode `__repr__(self)` kann der von `repr`\n",
    "zurückgegebene String für benutzerdefinierte Klassen angepasst werden: Der\n",
    "Funktionsaufruf `repr(x)` überprüft, ob `x` eine Methode `__repr__` hat und\n",
    "ruft diese auf, falls sie existiert."
   ]
  },
  {
   "cell_type": "code",
   "execution_count": null,
   "id": "bfd7abe3",
   "metadata": {
    "slideshow": {
     "slide_type": "subslide"
    },
    "tags": [
     "code-along"
    ]
   },
   "outputs": [],
   "source": [
    "class PointV4:\n",
    "    def __init__(self, x, y):\n",
    "        self.x = x\n",
    "        self.y = y\n",
    "\n",
    "    def __repr__(self):\n",
    "        return \"PointV4(\" + repr(self.x) + \", \" + repr(self.y) + \")\"\n",
    "\n",
    "    def move(self, dx=0, dy=0):\n",
    "        self.x += dx\n",
    "        self.y += dy"
   ]
  },
  {
   "cell_type": "code",
   "execution_count": null,
   "id": "e14e6560",
   "metadata": {
    "slideshow": {
     "slide_type": "subslide"
    },
    "tags": [
     "code-along"
    ]
   },
   "outputs": [],
   "source": [
    "p1 = PointV4(2, 5)\n",
    "print(repr(p1))"
   ]
  },
  {
   "cell_type": "markdown",
   "id": "717c3949",
   "metadata": {
    "delegiert": null,
    "incorrectly_encoded_metadata": "slideshow={\"slide_type\": \"subslide\"} Standardmäßig",
    "lang": "de",
    "slideshow": {
     "slide_type": "subslide"
    }
   },
   "source": [
    "Entsprechend kann eine `__str__()` Methode definiert werden, die von `str()` verwendet wird. Die Funktion `str()` delegiert an `__repr__()`, falls keine `__str__()`-Methode definiert ist:\n"
   ]
  },
  {
   "cell_type": "code",
   "execution_count": null,
   "id": "f88a7f12",
   "metadata": {
    "tags": [
     "code-along"
    ]
   },
   "outputs": [],
   "source": [
    "print(str(p1))"
   ]
  },
  {
   "cell_type": "markdown",
   "id": "097aeaf7",
   "metadata": {
    "lang": "de",
    "slideshow": {
     "slide_type": "subslide"
    }
   },
   "source": [
    "Python bietet viele Dunder-Methoden an: siehe das\n",
    "[Python Datenmodell](https://docs.python.org/3/reference/datamodel.html)\n",
    "in der Dokumentation."
   ]
  },
  {
   "cell_type": "code",
   "execution_count": null,
   "id": "b0a57593",
   "metadata": {
    "slideshow": {
     "slide_type": "subslide"
    },
    "tags": [
     "code-along"
    ]
   },
   "outputs": [],
   "source": [
    "class Point:\n",
    "    def __init__(self, x=0, y=0):\n",
    "        self.x = x\n",
    "        self.y = y\n",
    "\n",
    "    def __repr__(self):\n",
    "        return \"Point(\" + repr(self.x) + \", \" + repr(self.y) + \")\"\n",
    "\n",
    "    def __eq__(self, o: object) -> bool:\n",
    "        if isinstance(o, Point):\n",
    "            return self.x == o.x and self.y == o.x\n",
    "        return False\n",
    "\n",
    "    def __add__(self, other):\n",
    "        return Point(self.x + other.x, self.y + other.y)\n",
    "\n",
    "    def __sub__(self, other):\n",
    "        return Point(self.x - other.x, self.y - other.y)\n",
    "\n",
    "    def __mul__(self, other):\n",
    "        return Point(other * self.x, other * self.y)\n",
    "\n",
    "    def __rmul__(self, other):\n",
    "        return Point(other * self.x, other * self.y)\n",
    "\n",
    "    def move(self, dx=0, dy=0):\n",
    "        self.x += dx\n",
    "        self.y += dy"
   ]
  },
  {
   "cell_type": "code",
   "execution_count": null,
   "id": "aff9d529",
   "metadata": {
    "slideshow": {
     "slide_type": "subslide"
    },
    "tags": [
     "code-along"
    ]
   },
   "outputs": [],
   "source": [
    "p1 = Point(1, 2)\n",
    "p2 = Point(2, 4)\n",
    "p3 = Point(2, 4)"
   ]
  },
  {
   "cell_type": "code",
   "execution_count": null,
   "id": "ea50cf1a",
   "metadata": {
    "tags": [
     "code-along"
    ]
   },
   "outputs": [],
   "source": [
    "p1 == p2"
   ]
  },
  {
   "cell_type": "code",
   "execution_count": null,
   "id": "0ca29b9b",
   "metadata": {
    "tags": [
     "code-along"
    ]
   },
   "outputs": [],
   "source": [
    "p2 == p3"
   ]
  },
  {
   "cell_type": "code",
   "execution_count": null,
   "id": "69869112",
   "metadata": {
    "slideshow": {
     "slide_type": "subslide"
    },
    "tags": [
     "code-along"
    ]
   },
   "outputs": [],
   "source": [
    "p3 = p1 + p2\n",
    "p3"
   ]
  },
  {
   "cell_type": "code",
   "execution_count": null,
   "id": "5889742c",
   "metadata": {
    "tags": [
     "code-along"
    ]
   },
   "outputs": [],
   "source": [
    "p3 = p1 - Point(3, 2)\n",
    "p3"
   ]
  },
  {
   "cell_type": "code",
   "execution_count": null,
   "id": "539c9a5f",
   "metadata": {
    "slideshow": {
     "slide_type": "subslide"
    },
    "tags": [
     "code-along"
    ]
   },
   "outputs": [],
   "source": [
    "print(p1)\n",
    "print(p1 * 3)\n",
    "print(3 * p1)"
   ]
  },
  {
   "cell_type": "code",
   "execution_count": null,
   "id": "320bcdc7",
   "metadata": {
    "lines_to_next_cell": 2,
    "slideshow": {
     "slide_type": "subslide"
    },
    "tags": [
     "code-along"
    ]
   },
   "outputs": [],
   "source": [
    "print(p2)\n",
    "p2 += p1\n",
    "p2"
   ]
  },
  {
   "cell_type": "markdown",
   "id": "7a8937ad",
   "metadata": {
    "lang": "de",
    "lines_to_next_cell": 2,
    "slideshow": {
     "slide_type": "subslide"
    }
   },
   "source": [
    "\n",
    " ## Mini-Workshop\n",
    "\n",
    "- Notebook `workshop_062_objects`\n",
    "- Abschnitt \"Kraftfahrzeuge (Teil 3)\""
   ]
  },
  {
   "cell_type": "markdown",
   "id": "85908357",
   "metadata": {
    "lang": "de",
    "slideshow": {
     "slide_type": "subslide"
    }
   },
   "source": [
    "Es ist möglich einen Klasse zu definieren, deren Instanzen sich wie Listen verhalten. Um die Implementierung zu vereinfachen delegieren wir die Verwaltung der Elemente an eine Liste, die als Attribut gespeichert ist. Diese Form der Komposition findet man häufig in der objektorientierten Programmierung."
   ]
  },
  {
   "cell_type": "code",
   "execution_count": null,
   "id": "36aee032",
   "metadata": {
    "tags": [
     "code-along"
    ]
   },
   "outputs": [],
   "source": [
    "class MyBadList:\n",
    "    def __init__(self, elements=None):\n",
    "        if elements is None:\n",
    "            elements = []\n",
    "        self.elements = elements\n",
    "\n",
    "    def __getitem__(self, n):\n",
    "        return self.elements[n]\n",
    "\n",
    "    def __len__(self):\n",
    "        return len(self.elements)\n",
    "\n",
    "    def __repr__(self):\n",
    "        return f\"MyBadList({self.elements!r})\"\n",
    "\n",
    "    def append(self, element):\n",
    "        self.elements.append(element)"
   ]
  },
  {
   "cell_type": "code",
   "execution_count": null,
   "id": "4ce0ca8c",
   "metadata": {
    "slideshow": {
     "slide_type": "subslide"
    },
    "tags": [
     "code-along"
    ]
   },
   "outputs": [],
   "source": [
    "my_list_1 = MyBadList()\n",
    "my_list_2 = MyBadList()\n",
    "my_list_3 = MyBadList([1, 2, 3])\n",
    "print(my_list_1)\n",
    "print(my_list_2)\n",
    "print(my_list_3)"
   ]
  },
  {
   "cell_type": "code",
   "execution_count": null,
   "id": "9d996a61",
   "metadata": {
    "slideshow": {
     "slide_type": "subslide"
    },
    "tags": [
     "code-along"
    ]
   },
   "outputs": [],
   "source": [
    "my_list_1.append(\"a\")\n",
    "my_list_1.append(\"b\")\n",
    "my_list_1.append(\"c\")\n",
    "print(my_list_1)\n",
    "print(my_list_2)\n",
    "print(my_list_3)"
   ]
  },
  {
   "cell_type": "code",
   "execution_count": null,
   "id": "d4515841",
   "metadata": {
    "tags": [
     "code-along"
    ]
   },
   "outputs": [],
   "source": [
    "print(len(my_list_1))\n",
    "print(my_list_1[0])\n",
    "# print(my_list_1[10])"
   ]
  },
  {
   "cell_type": "code",
   "execution_count": null,
   "id": "66e76de0",
   "metadata": {
    "tags": [
     "code-along"
    ]
   },
   "outputs": [],
   "source": [
    "for elt in my_list_1:\n",
    "    print(elt)"
   ]
  },
  {
   "cell_type": "code",
   "execution_count": null,
   "id": "dc053f8a",
   "metadata": {
    "lines_to_next_cell": 2,
    "tags": [
     "code-along"
    ]
   },
   "outputs": [],
   "source": [
    "my_list_1[1:]"
   ]
  },
  {
   "cell_type": "markdown",
   "id": "0593450c",
   "metadata": {
    "lang": "de",
    "slideshow": {
     "slide_type": "slide"
    }
   },
   "source": [
    "## Dataclasses\n",
    "\n",
    "Definition einer Klasse, in der Attribute besser sichtbar sind, Repräsentation\n",
    "und Gleichheit vordefiniert sind, etc.\n",
    "\n",
    "Die [Dokumentation](https://docs.python.org/3/library/dataclasses.html)\n",
    "beinhaltet weitere Möglichkeiten."
   ]
  },
  {
   "cell_type": "code",
   "execution_count": null,
   "id": "5bd1e837",
   "metadata": {
    "slideshow": {
     "slide_type": "subslide"
    },
    "tags": [
     "code-along"
    ]
   },
   "outputs": [],
   "source": [
    "from dataclasses import dataclass\n",
    "\n",
    "\n",
    "@dataclass\n",
    "class DataPoint:\n",
    "    x: float\n",
    "    y: float"
   ]
  },
  {
   "cell_type": "code",
   "execution_count": null,
   "id": "e8da2a9a",
   "metadata": {
    "tags": [
     "code-along"
    ]
   },
   "outputs": [],
   "source": [
    "dp = DataPoint(2, 3)\n",
    "dp"
   ]
  },
  {
   "cell_type": "code",
   "execution_count": null,
   "id": "2865c0c9",
   "metadata": {
    "tags": [
     "code-along"
    ]
   },
   "outputs": [],
   "source": [
    "dp1 = DataPoint(1, 1)\n",
    "dp2 = DataPoint(1, 1)\n",
    "print(dp1 == dp2)\n",
    "print(dp1 is dp2)"
   ]
  },
  {
   "cell_type": "code",
   "execution_count": null,
   "id": "6a34ca0e",
   "metadata": {
    "slideshow": {
     "slide_type": "subslide"
    },
    "tags": [
     "code-along"
    ]
   },
   "outputs": [],
   "source": [
    "@dataclass\n",
    "class Point3D:\n",
    "    x: float\n",
    "    y: float\n",
    "    z: float = 0.0\n",
    "\n",
    "    # Non-destructive move!\n",
    "    def move(self, dx=0.0, dy=0.0, dz=0.0):\n",
    "        return Point3D(self.x + dx, self.y + dy, self.z + dz)"
   ]
  },
  {
   "cell_type": "code",
   "execution_count": null,
   "id": "3a4d8b28",
   "metadata": {
    "tags": [
     "code-along"
    ]
   },
   "outputs": [],
   "source": [
    "p3d = Point3D(1.0, 2.0)\n",
    "print(p3d)\n",
    "print(p3d.move(dy=1.0, dz=5.0))"
   ]
  },
  {
   "cell_type": "markdown",
   "id": "70c60186",
   "metadata": {
    "lang": "de",
    "slideshow": {
     "slide_type": "subslide"
    }
   },
   "source": [
    "\n",
    "Dataclasses erzwingen, dass alle Default-Werte unveränderlich sind:"
   ]
  },
  {
   "cell_type": "code",
   "execution_count": null,
   "id": "3d02a3bf",
   "metadata": {
    "tags": [
     "code-along"
    ]
   },
   "outputs": [],
   "source": [
    "from dataclasses import dataclass, field\n",
    "\n",
    "\n",
    "@dataclass\n",
    "class DefaultDemo:\n",
    "    # item: list = []\n",
    "    items: list = field(default_factory=list)"
   ]
  },
  {
   "cell_type": "code",
   "execution_count": null,
   "id": "ad3fe709",
   "metadata": {
    "tags": [
     "code-along"
    ]
   },
   "outputs": [],
   "source": [
    "d1 = DefaultDemo()\n",
    "d2 = DefaultDemo()"
   ]
  },
  {
   "cell_type": "code",
   "execution_count": null,
   "id": "21bd6ac2",
   "metadata": {
    "tags": [
     "code-along"
    ]
   },
   "outputs": [],
   "source": [
    "d1.items.append(1234)\n",
    "print(d1)\n",
    "print(d2)"
   ]
  },
  {
   "cell_type": "markdown",
   "id": "14e08dda",
   "metadata": {
    "lang": "de",
    "slideshow": {
     "slide_type": "subslide"
    }
   },
   "source": [
    "## Workshop\n",
    "\n",
    "- Notebook `workshop_062_objects`\n",
    "- Abschnitt \"Einkaufsliste\""
   ]
  },
  {
   "cell_type": "code",
   "execution_count": null,
   "id": "7a9d1775",
   "metadata": {},
   "outputs": [],
   "source": []
  }
 ],
 "metadata": {
  "jupytext": {
   "cell_metadata_json": true,
   "encoding": "# -*- coding: utf-8 -*-",
   "formats": "ipynb"
  },
  "kernelspec": {
   "display_name": "Python 3 (ipykernel)",
   "language": "python",
   "name": "python3"
  },
  "language_info": {
   "codemirror_mode": {
    "name": "ipython",
    "version": 3
   },
   "file_extension": ".py",
   "mimetype": "text/x-python",
   "name": "python",
   "nbconvert_exporter": "python",
   "pygments_lexer": "ipython3",
   "version": "3.10.4"
  },
  "nbTranslate": {
   "displayLangs": [
    "de"
   ],
   "hotkey": "alt-t",
   "langInMainMenu": true,
   "sourceLang": "de",
   "targetLang": "en",
   "useGoogleTranslate": true
  }
 },
 "nbformat": 4,
 "nbformat_minor": 5
}
