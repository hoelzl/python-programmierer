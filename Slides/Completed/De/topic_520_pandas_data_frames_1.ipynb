{
 "cells": [
  {
   "cell_type": "markdown",
   "id": "8d4b33bd",
   "metadata": {
    "lang": "de"
   },
   "source": [
    "# Data Frames\n",
    "\n",
    "DataFrames sind die am häufigsten verwendete Datenstruktur in Pandas. Sie\n",
    "erlauben uns einfaches Lesen, Verarbeiten und Speichern von tabellenbasierten\n",
    "Daten.\n",
    "\n",
    "Konzeptionell besteht ein Datenrahmen aus mehreren Serieninstanzen, die sich\n",
    "einen gemeinsamen Index teilen."
   ]
  },
  {
   "cell_type": "code",
   "execution_count": null,
   "id": "471413af",
   "metadata": {
    "lines_to_next_cell": 2
   },
   "outputs": [],
   "source": [
    "from pathlib import Path\n",
    "import numpy as np\n",
    "import pandas as pd"
   ]
  },
  {
   "cell_type": "code",
   "execution_count": null,
   "id": "440449e8",
   "metadata": {},
   "outputs": [],
   "source": [
    "pandas_dir_path = Path(r\"C:\\Users\\tc\\Programming\\Python\\Courses\\Own\\python-programmierer\\Data\\Pandas\")"
   ]
  },
  {
   "cell_type": "markdown",
   "id": "9db43467",
   "metadata": {
    "lang": "de",
    "lines_to_next_cell": 2
   },
   "source": [
    "## Erzeugen von Data Frames"
   ]
  },
  {
   "cell_type": "markdown",
   "id": "85d8392e",
   "metadata": {
    "lang": "de"
   },
   "source": [
    "### Aus einem NumPy Array"
   ]
  },
  {
   "cell_type": "code",
   "execution_count": null,
   "id": "b4759111",
   "metadata": {},
   "outputs": [],
   "source": [
    "def create_data_frame():\n",
    "    rng = np.random.default_rng(42)\n",
    "    array = rng.normal(size=(5, 4), scale=5.0)\n",
    "    index = \"A B C D E\".split()\n",
    "    columns = \"w x y z\".split()\n",
    "    return pd.DataFrame(array, index=index, columns=columns)"
   ]
  },
  {
   "cell_type": "code",
   "execution_count": null,
   "id": "4eb32f73",
   "metadata": {
    "lines_to_next_cell": 2
   },
   "outputs": [],
   "source": [
    "df = create_data_frame()\n",
    "df"
   ]
  },
  {
   "cell_type": "code",
   "execution_count": null,
   "id": "4e110fb6",
   "metadata": {
    "tags": [
     "code-along"
    ]
   },
   "outputs": [],
   "source": [
    "type(df)"
   ]
  },
  {
   "cell_type": "markdown",
   "id": "b66e129a",
   "metadata": {
    "lang": "de"
   },
   "source": [
    "### Aus einer CSV Datei"
   ]
  },
  {
   "cell_type": "code",
   "execution_count": null,
   "id": "81fdfbf9",
   "metadata": {
    "lines_to_next_cell": 2,
    "tags": [
     "code-along"
    ]
   },
   "outputs": [],
   "source": [
    "df_csv = pd.read_csv(pandas_dir_path / \"example_data.csv\")"
   ]
  },
  {
   "cell_type": "code",
   "execution_count": null,
   "id": "85003a6a",
   "metadata": {
    "lines_to_next_cell": 2,
    "tags": [
     "code-along"
    ]
   },
   "outputs": [],
   "source": [
    "df_csv"
   ]
  },
  {
   "cell_type": "code",
   "execution_count": null,
   "id": "637562f1",
   "metadata": {
    "lines_to_next_cell": 2,
    "tags": [
     "code-along"
    ]
   },
   "outputs": [],
   "source": [
    "df_csv = pd.read_csv(pandas_dir_path / \"example_data.csv\", index_col=0)"
   ]
  },
  {
   "cell_type": "code",
   "execution_count": null,
   "id": "9ab41c38",
   "metadata": {
    "tags": [
     "code-along"
    ]
   },
   "outputs": [],
   "source": [
    "df_csv"
   ]
  },
  {
   "cell_type": "markdown",
   "id": "f1fd85f3",
   "metadata": {
    "lang": "de"
   },
   "source": [
    "### Aus einer Excel Datei"
   ]
  },
  {
   "cell_type": "code",
   "execution_count": null,
   "id": "6e1d0f3a",
   "metadata": {
    "lines_to_next_cell": 2,
    "tags": [
     "code-along"
    ]
   },
   "outputs": [],
   "source": [
    "df_excel = pd.read_excel(pandas_dir_path / \"excel_data.xlsx\", index_col=0)"
   ]
  },
  {
   "cell_type": "code",
   "execution_count": null,
   "id": "13eb01c3",
   "metadata": {
    "lines_to_next_cell": 2,
    "tags": [
     "code-along"
    ]
   },
   "outputs": [],
   "source": [
    "df_excel"
   ]
  },
  {
   "cell_type": "code",
   "execution_count": null,
   "id": "5c9593d0",
   "metadata": {
    "lines_to_next_cell": 2,
    "tags": [
     "code-along"
    ]
   },
   "outputs": [],
   "source": [
    "df_excel2 = pd.read_excel(pandas_dir_path / \"excel_other_sheet.xlsx\", index_col=0)"
   ]
  },
  {
   "cell_type": "code",
   "execution_count": null,
   "id": "6708edf0",
   "metadata": {
    "lines_to_next_cell": 2,
    "tags": [
     "code-along"
    ]
   },
   "outputs": [],
   "source": [
    "df_excel2"
   ]
  },
  {
   "cell_type": "code",
   "execution_count": null,
   "id": "f0c7ffb2",
   "metadata": {
    "lines_to_next_cell": 2,
    "tags": [
     "code-along"
    ]
   },
   "outputs": [],
   "source": [
    "df_excel2 = pd.read_excel(\n",
    "    pandas_dir_path / \"excel_other_sheet.xlsx\",\n",
    "    index_col=0,\n",
    "    sheet_name=\"Another Sheet\",\n",
    "    header=0,\n",
    "    skiprows=[1]\n",
    ")"
   ]
  },
  {
   "cell_type": "code",
   "execution_count": null,
   "id": "1b3837a7",
   "metadata": {
    "tags": [
     "code-along"
    ]
   },
   "outputs": [],
   "source": [
    "df_excel2.head()"
   ]
  },
  {
   "cell_type": "markdown",
   "id": "33be9571",
   "metadata": {
    "lang": "de"
   },
   "source": [
    "\n",
    "### Andere Formate:\n",
    "\n",
    "- `pd.read_clipboard`\n",
    "- `pd.read_html`\n",
    "- `pd.read_json`\n",
    "- `pd.read_pickle`\n",
    "- `pd.read_sql` (verwendet SQLAlchemy um auf die Datenbank zuzugreifen)\n",
    "- ..."
   ]
  },
  {
   "cell_type": "markdown",
   "id": "64b085db",
   "metadata": {
    "lang": "de"
   },
   "source": [
    "### Indizes und Operationen"
   ]
  },
  {
   "cell_type": "code",
   "execution_count": null,
   "id": "587348a4",
   "metadata": {
    "lines_to_next_cell": 2,
    "tags": [
     "code-along"
    ]
   },
   "outputs": [],
   "source": [
    "df_csv.head()"
   ]
  },
  {
   "cell_type": "code",
   "execution_count": null,
   "id": "9589edff",
   "metadata": {
    "lines_to_next_cell": 2,
    "tags": [
     "code-along"
    ]
   },
   "outputs": [],
   "source": [
    "df_csv.tail()"
   ]
  },
  {
   "cell_type": "code",
   "execution_count": null,
   "id": "e401ff7d",
   "metadata": {
    "lines_to_next_cell": 2,
    "tags": [
     "code-along"
    ]
   },
   "outputs": [],
   "source": [
    "df = create_data_frame()\n",
    "df[\"w\"]"
   ]
  },
  {
   "cell_type": "code",
   "execution_count": null,
   "id": "0c920ba8",
   "metadata": {
    "lines_to_next_cell": 2,
    "tags": [
     "code-along"
    ]
   },
   "outputs": [],
   "source": [
    "type(df[\"w\"])"
   ]
  },
  {
   "cell_type": "code",
   "execution_count": null,
   "id": "0a338e2a",
   "metadata": {
    "lines_to_next_cell": 2,
    "tags": [
     "code-along"
    ]
   },
   "outputs": [],
   "source": [
    "# Use only interactively\n",
    "df.w"
   ]
  },
  {
   "cell_type": "code",
   "execution_count": null,
   "id": "44511520",
   "metadata": {
    "lines_to_next_cell": 2,
    "tags": [
     "code-along"
    ]
   },
   "outputs": [],
   "source": [
    "df[[\"w\", \"y\"]]"
   ]
  },
  {
   "cell_type": "code",
   "execution_count": null,
   "id": "d936793c",
   "metadata": {
    "lines_to_next_cell": 2,
    "tags": [
     "code-along"
    ]
   },
   "outputs": [],
   "source": [
    "df.index"
   ]
  },
  {
   "cell_type": "code",
   "execution_count": null,
   "id": "5fce48ef",
   "metadata": {
    "lines_to_next_cell": 2,
    "tags": [
     "code-along"
    ]
   },
   "outputs": [],
   "source": [
    "df.index.is_monotonic_increasing"
   ]
  },
  {
   "cell_type": "code",
   "execution_count": null,
   "id": "e26451d2",
   "metadata": {
    "lines_to_next_cell": 2,
    "tags": [
     "code-along"
    ]
   },
   "outputs": [],
   "source": [
    "df.size"
   ]
  },
  {
   "cell_type": "code",
   "execution_count": null,
   "id": "38ba53a6",
   "metadata": {
    "lines_to_next_cell": 2,
    "tags": [
     "code-along"
    ]
   },
   "outputs": [],
   "source": [
    "df.ndim"
   ]
  },
  {
   "cell_type": "code",
   "execution_count": null,
   "id": "fcef3091",
   "metadata": {
    "tags": [
     "code-along"
    ]
   },
   "outputs": [],
   "source": [
    "df.shape"
   ]
  },
  {
   "cell_type": "markdown",
   "id": "8112492e",
   "metadata": {
    "lang": "de"
   },
   "source": [
    "### Erzeugen, Umbenennen und Löschen von Spalten"
   ]
  },
  {
   "cell_type": "code",
   "execution_count": null,
   "id": "bf30eba3",
   "metadata": {
    "lines_to_next_cell": 2,
    "tags": [
     "code-along"
    ]
   },
   "outputs": [],
   "source": [
    "df = create_data_frame()\n",
    "df[\"Sum of w and y\"] = df[\"w\"] + df[\"y\"]"
   ]
  },
  {
   "cell_type": "code",
   "execution_count": null,
   "id": "7478259b",
   "metadata": {
    "lines_to_next_cell": 2,
    "tags": [
     "code-along"
    ]
   },
   "outputs": [],
   "source": [
    "df"
   ]
  },
  {
   "cell_type": "code",
   "execution_count": null,
   "id": "a356ddcb",
   "metadata": {
    "lines_to_next_cell": 2,
    "tags": [
     "code-along"
    ]
   },
   "outputs": [],
   "source": [
    "df.rename(columns={\"Sum of w and y\": \"w + y\"})"
   ]
  },
  {
   "cell_type": "code",
   "execution_count": null,
   "id": "13889340",
   "metadata": {
    "lines_to_next_cell": 2,
    "tags": [
     "code-along"
    ]
   },
   "outputs": [],
   "source": [
    "df"
   ]
  },
  {
   "cell_type": "code",
   "execution_count": null,
   "id": "13f9c2e0",
   "metadata": {
    "lines_to_next_cell": 2,
    "tags": [
     "code-along"
    ]
   },
   "outputs": [],
   "source": [
    "df.rename(columns={\"Sum of w and y\": \"w + y\"}, index={\"E\": \"Z\"}, inplace=True)"
   ]
  },
  {
   "cell_type": "code",
   "execution_count": null,
   "id": "ce355630",
   "metadata": {
    "lines_to_next_cell": 2,
    "tags": [
     "code-along"
    ]
   },
   "outputs": [],
   "source": [
    "df"
   ]
  },
  {
   "cell_type": "code",
   "execution_count": null,
   "id": "512b7539",
   "metadata": {
    "lines_to_next_cell": 2,
    "tags": [
     "code-along"
    ]
   },
   "outputs": [],
   "source": [
    "type(df[\"y\"])"
   ]
  },
  {
   "cell_type": "code",
   "execution_count": null,
   "id": "50235e64",
   "metadata": {
    "lines_to_next_cell": 2,
    "tags": [
     "code-along"
    ]
   },
   "outputs": [],
   "source": [
    "del df[\"y\"]"
   ]
  },
  {
   "cell_type": "code",
   "execution_count": null,
   "id": "934afe38",
   "metadata": {
    "lines_to_next_cell": 2,
    "tags": [
     "code-along"
    ]
   },
   "outputs": [],
   "source": [
    "df"
   ]
  },
  {
   "cell_type": "code",
   "execution_count": null,
   "id": "5a0a0104",
   "metadata": {
    "lines_to_next_cell": 2,
    "tags": [
     "code-along"
    ]
   },
   "outputs": [],
   "source": [
    "df.drop(\"A\")"
   ]
  },
  {
   "cell_type": "code",
   "execution_count": null,
   "id": "f667ff90",
   "metadata": {
    "lines_to_next_cell": 2,
    "tags": [
     "code-along"
    ]
   },
   "outputs": [],
   "source": [
    "df"
   ]
  },
  {
   "cell_type": "code",
   "execution_count": null,
   "id": "a1a37b6e",
   "metadata": {
    "lines_to_next_cell": 2,
    "tags": [
     "code-along"
    ]
   },
   "outputs": [],
   "source": [
    "df.drop(\"B\", inplace=True)"
   ]
  },
  {
   "cell_type": "code",
   "execution_count": null,
   "id": "09a96ff3",
   "metadata": {
    "lines_to_next_cell": 2,
    "tags": [
     "code-along"
    ]
   },
   "outputs": [],
   "source": [
    "df"
   ]
  },
  {
   "cell_type": "code",
   "execution_count": null,
   "id": "852a9a76",
   "metadata": {
    "lines_to_next_cell": 2,
    "tags": [
     "code-along"
    ]
   },
   "outputs": [],
   "source": [
    "df.drop(\"z\", axis=1)"
   ]
  },
  {
   "cell_type": "code",
   "execution_count": null,
   "id": "0b78227d",
   "metadata": {
    "lines_to_next_cell": 2,
    "tags": [
     "code-along"
    ]
   },
   "outputs": [],
   "source": [
    "df"
   ]
  },
  {
   "cell_type": "code",
   "execution_count": null,
   "id": "19be54f5",
   "metadata": {
    "lines_to_next_cell": 2,
    "tags": [
     "code-along"
    ]
   },
   "outputs": [],
   "source": [
    "df.drop(\"z\", axis=1, inplace=True)"
   ]
  },
  {
   "cell_type": "code",
   "execution_count": null,
   "id": "ae2f672e",
   "metadata": {
    "tags": [
     "code-along"
    ]
   },
   "outputs": [],
   "source": [
    "df"
   ]
  },
  {
   "cell_type": "markdown",
   "id": "fa7cadbb",
   "metadata": {
    "lang": "de"
   },
   "source": [
    "## Auswahl"
   ]
  },
  {
   "cell_type": "code",
   "execution_count": null,
   "id": "d388431d",
   "metadata": {
    "lines_to_next_cell": 2,
    "tags": [
     "code-along"
    ]
   },
   "outputs": [],
   "source": [
    "df = create_data_frame()\n",
    "df"
   ]
  },
  {
   "cell_type": "code",
   "execution_count": null,
   "id": "9d912cee",
   "metadata": {
    "lines_to_next_cell": 2,
    "tags": [
     "code-along"
    ]
   },
   "outputs": [],
   "source": [
    "df[\"w\"]"
   ]
  },
  {
   "cell_type": "code",
   "execution_count": null,
   "id": "014c66df",
   "metadata": {
    "lines_to_next_cell": 2,
    "tags": [
     "code-along"
    ]
   },
   "outputs": [],
   "source": [
    "# Error!\n",
    "# df['A']"
   ]
  },
  {
   "cell_type": "code",
   "execution_count": null,
   "id": "ed866911",
   "metadata": {
    "lines_to_next_cell": 2,
    "tags": [
     "code-along"
    ]
   },
   "outputs": [],
   "source": [
    "df.loc[\"B\"]"
   ]
  },
  {
   "cell_type": "code",
   "execution_count": null,
   "id": "3696f7ec",
   "metadata": {
    "lines_to_next_cell": 2,
    "tags": [
     "code-along"
    ]
   },
   "outputs": [],
   "source": [
    "type(df.loc[\"B\"])"
   ]
  },
  {
   "cell_type": "code",
   "execution_count": null,
   "id": "dd8ffcec",
   "metadata": {
    "lines_to_next_cell": 2,
    "tags": [
     "code-along"
    ]
   },
   "outputs": [],
   "source": [
    "df"
   ]
  },
  {
   "cell_type": "code",
   "execution_count": null,
   "id": "e1d4dd2a",
   "metadata": {
    "lines_to_next_cell": 2,
    "tags": [
     "code-along"
    ]
   },
   "outputs": [],
   "source": [
    "df.iloc[1]"
   ]
  },
  {
   "cell_type": "code",
   "execution_count": null,
   "id": "69174201",
   "metadata": {
    "lines_to_next_cell": 2,
    "tags": [
     "code-along"
    ]
   },
   "outputs": [],
   "source": [
    "df.loc[[\"A\", \"C\"]]"
   ]
  },
  {
   "cell_type": "code",
   "execution_count": null,
   "id": "3e8af601",
   "metadata": {
    "lines_to_next_cell": 2,
    "tags": [
     "code-along"
    ]
   },
   "outputs": [],
   "source": [
    "df.loc[[\"A\", \"C\"], [\"x\", \"y\"]]"
   ]
  },
  {
   "cell_type": "code",
   "execution_count": null,
   "id": "e962af5a",
   "metadata": {
    "lines_to_next_cell": 2,
    "tags": [
     "code-along"
    ]
   },
   "outputs": [],
   "source": [
    "df.loc[\"B\", \"z\"]"
   ]
  },
  {
   "cell_type": "code",
   "execution_count": null,
   "id": "1b61c4c1",
   "metadata": {
    "lines_to_next_cell": 2,
    "tags": [
     "code-along"
    ]
   },
   "outputs": [],
   "source": [
    "df.iloc[[1, 2], [0, 3]]"
   ]
  },
  {
   "cell_type": "code",
   "execution_count": null,
   "id": "2764c2c6",
   "metadata": {
    "tags": [
     "code-along"
    ]
   },
   "outputs": [],
   "source": [
    "df.iloc[0, 0]"
   ]
  },
  {
   "cell_type": "markdown",
   "id": "7d32bb7b",
   "metadata": {
    "lang": "de"
   },
   "source": [
    "## Bedingte Auswahl"
   ]
  },
  {
   "cell_type": "code",
   "execution_count": null,
   "id": "0f7e4083",
   "metadata": {
    "lines_to_next_cell": 2,
    "tags": [
     "code-along"
    ]
   },
   "outputs": [],
   "source": [
    "df = create_data_frame()\n",
    "df"
   ]
  },
  {
   "cell_type": "code",
   "execution_count": null,
   "id": "22d767a6",
   "metadata": {
    "lines_to_next_cell": 2,
    "tags": [
     "code-along"
    ]
   },
   "outputs": [],
   "source": [
    "df > 0  # noqa"
   ]
  },
  {
   "cell_type": "code",
   "execution_count": null,
   "id": "dae83931",
   "metadata": {
    "lines_to_next_cell": 2,
    "tags": [
     "code-along"
    ]
   },
   "outputs": [],
   "source": [
    "df[df > 0]"
   ]
  },
  {
   "cell_type": "code",
   "execution_count": null,
   "id": "78fc844e",
   "metadata": {
    "lines_to_next_cell": 2,
    "tags": [
     "code-along"
    ]
   },
   "outputs": [],
   "source": [
    "df[\"w\"] > 0  # noqa"
   ]
  },
  {
   "cell_type": "code",
   "execution_count": null,
   "id": "02fb840c",
   "metadata": {
    "lines_to_next_cell": 2,
    "tags": [
     "code-along"
    ]
   },
   "outputs": [],
   "source": [
    "df[df[\"w\"] > 0]"
   ]
  },
  {
   "cell_type": "code",
   "execution_count": null,
   "id": "f6ba79aa",
   "metadata": {
    "lines_to_next_cell": 2,
    "tags": [
     "code-along"
    ]
   },
   "outputs": [],
   "source": [
    "df[df[\"w\"] > 0][[\"x\", \"y\"]]"
   ]
  },
  {
   "cell_type": "code",
   "execution_count": null,
   "id": "caed6246",
   "metadata": {
    "tags": [
     "code-along"
    ]
   },
   "outputs": [],
   "source": [
    "df[(df[\"w\"] > 0) & (df[\"x\"] < 0)]"
   ]
  },
  {
   "cell_type": "markdown",
   "id": "2203f1d9",
   "metadata": {
    "lang": "de"
   },
   "source": [
    "\n",
    "# Information über Data Frames"
   ]
  },
  {
   "cell_type": "code",
   "execution_count": null,
   "id": "4096b917",
   "metadata": {
    "lines_to_next_cell": 2,
    "tags": [
     "code-along"
    ]
   },
   "outputs": [],
   "source": [
    "df = create_data_frame()\n",
    "df[\"txt\"] = \"a b c d e\".split()\n",
    "df.iloc[1, 1] = np.nan\n",
    "df"
   ]
  },
  {
   "cell_type": "code",
   "execution_count": null,
   "id": "b07b6721",
   "metadata": {
    "lines_to_next_cell": 2,
    "tags": [
     "code-along"
    ]
   },
   "outputs": [],
   "source": [
    "df.describe()"
   ]
  },
  {
   "cell_type": "code",
   "execution_count": null,
   "id": "a111f1d7",
   "metadata": {
    "lines_to_next_cell": 2,
    "tags": [
     "code-along"
    ]
   },
   "outputs": [],
   "source": [
    "df.info()"
   ]
  },
  {
   "cell_type": "code",
   "execution_count": null,
   "id": "e684c89b",
   "metadata": {
    "tags": [
     "code-along"
    ]
   },
   "outputs": [],
   "source": [
    "df.dtypes"
   ]
  },
  {
   "cell_type": "markdown",
   "id": "43700960",
   "metadata": {
    "lang": "de"
   },
   "source": [
    "## Der Index eines Data Frames"
   ]
  },
  {
   "cell_type": "code",
   "execution_count": null,
   "id": "d6fb4e49",
   "metadata": {
    "lines_to_next_cell": 2,
    "tags": [
     "code-along"
    ]
   },
   "outputs": [],
   "source": [
    "df = create_data_frame()\n",
    "df[\"txt\"] = \"a b c d e\".split()\n",
    "df"
   ]
  },
  {
   "cell_type": "code",
   "execution_count": null,
   "id": "6733af08",
   "metadata": {
    "lines_to_next_cell": 2,
    "tags": [
     "code-along"
    ]
   },
   "outputs": [],
   "source": [
    "df.reset_index()"
   ]
  },
  {
   "cell_type": "code",
   "execution_count": null,
   "id": "f3a79a8a",
   "metadata": {
    "lines_to_next_cell": 2,
    "tags": [
     "code-along"
    ]
   },
   "outputs": [],
   "source": [
    "df"
   ]
  },
  {
   "cell_type": "code",
   "execution_count": null,
   "id": "a594549e",
   "metadata": {
    "lines_to_next_cell": 2,
    "tags": [
     "code-along"
    ]
   },
   "outputs": [],
   "source": [
    "df.reset_index(inplace=True)"
   ]
  },
  {
   "cell_type": "code",
   "execution_count": null,
   "id": "01f8c2ae",
   "metadata": {
    "lines_to_next_cell": 2,
    "tags": [
     "code-along"
    ]
   },
   "outputs": [],
   "source": [
    "df"
   ]
  },
  {
   "cell_type": "code",
   "execution_count": null,
   "id": "32966076",
   "metadata": {
    "lines_to_next_cell": 2,
    "tags": [
     "code-along"
    ]
   },
   "outputs": [],
   "source": [
    "df.rename(columns={\"index\": \"old_index\"}, inplace=True)"
   ]
  },
  {
   "cell_type": "code",
   "execution_count": null,
   "id": "2a5cb848",
   "metadata": {
    "lines_to_next_cell": 2,
    "tags": [
     "code-along"
    ]
   },
   "outputs": [],
   "source": [
    "df"
   ]
  },
  {
   "cell_type": "code",
   "execution_count": null,
   "id": "25d669c4",
   "metadata": {
    "lines_to_next_cell": 2,
    "tags": [
     "code-along"
    ]
   },
   "outputs": [],
   "source": [
    "df.set_index(\"txt\")"
   ]
  },
  {
   "cell_type": "code",
   "execution_count": null,
   "id": "8361654b",
   "metadata": {
    "lines_to_next_cell": 2,
    "tags": [
     "code-along"
    ]
   },
   "outputs": [],
   "source": [
    "df"
   ]
  },
  {
   "cell_type": "code",
   "execution_count": null,
   "id": "dc6a0983",
   "metadata": {
    "lines_to_next_cell": 2,
    "tags": [
     "code-along"
    ]
   },
   "outputs": [],
   "source": [
    "df.set_index(\"txt\", inplace=True)\n",
    "df"
   ]
  },
  {
   "cell_type": "code",
   "execution_count": null,
   "id": "ce65e9ef",
   "metadata": {
    "lines_to_next_cell": 2,
    "tags": [
     "code-along"
    ]
   },
   "outputs": [],
   "source": [
    "df.set_index(\"old_index\", inplace=True)\n",
    "df"
   ]
  },
  {
   "cell_type": "code",
   "execution_count": null,
   "id": "8b6c660e",
   "metadata": {
    "lines_to_next_cell": 2,
    "tags": [
     "code-along"
    ]
   },
   "outputs": [],
   "source": [
    "df.info()"
   ]
  },
  {
   "cell_type": "code",
   "execution_count": null,
   "id": "37eff9be",
   "metadata": {
    "lines_to_next_cell": 2,
    "tags": [
     "code-along"
    ]
   },
   "outputs": [],
   "source": [
    "df.index"
   ]
  },
  {
   "cell_type": "code",
   "execution_count": null,
   "id": "3cc343ae",
   "metadata": {
    "lines_to_next_cell": 2,
    "tags": [
     "code-along"
    ]
   },
   "outputs": [],
   "source": [
    "df.index.name = None"
   ]
  },
  {
   "cell_type": "code",
   "execution_count": null,
   "id": "d3dc5ed2",
   "metadata": {
    "lines_to_next_cell": 2,
    "tags": [
     "code-along"
    ]
   },
   "outputs": [],
   "source": [
    "df"
   ]
  },
  {
   "cell_type": "code",
   "execution_count": null,
   "id": "6d0893d3",
   "metadata": {},
   "outputs": [],
   "source": []
  }
 ],
 "metadata": {
  "jupytext": {
   "cell_metadata_filter": "lang,tags,-all",
   "cell_metadata_json": true,
   "formats": "ipynb",
   "main_language": "python",
   "notebook_metadata_filter": "-all"
  }
 },
 "nbformat": 4,
 "nbformat_minor": 5
}
