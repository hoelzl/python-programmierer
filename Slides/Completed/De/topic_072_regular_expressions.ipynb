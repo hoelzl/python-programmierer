{
 "cells": [
  {
   "cell_type": "markdown",
   "id": "4676f28e",
   "metadata": {
    "lang": "de",
    "slideshow": {
     "slide_type": "slide"
    }
   },
   "source": [
    "<img src=\"img/python-logo-notext.svg\"\n",
    "     style=\"display:block;margin:auto;width:10%\"/>\n",
    "<br>\n",
    "<div style=\"text-align:center; font-size:200%;\"><b>Reguläre Ausdrücke</b></div>\n",
    "<br/>\n",
    "<div style=\"text-align:center;\">Dr. Matthias Hölzl</div>"
   ]
  },
  {
   "cell_type": "markdown",
   "id": "0280c7d0",
   "metadata": {
    "lang": "de",
    "slideshow": {
     "slide_type": "slide"
    }
   },
   "source": [
    "# Finden und Ersetzen in Strings"
   ]
  },
  {
   "cell_type": "code",
   "execution_count": null,
   "id": "2faf0bb2",
   "metadata": {},
   "outputs": [],
   "source": [
    "tounge_twister = (\n",
    "    \"How much wood would a woodchuck chuck, if a woodchuck could chuck wood?\"\n",
    ")"
   ]
  },
  {
   "cell_type": "code",
   "execution_count": null,
   "id": "f8f90f49",
   "metadata": {
    "tags": [
     "code-along"
    ]
   },
   "outputs": [],
   "source": [
    "first_index = tounge_twister.index(\"wood\")\n",
    "first_index"
   ]
  },
  {
   "cell_type": "code",
   "execution_count": null,
   "id": "d2d49eba",
   "metadata": {
    "tags": [
     "code-along"
    ]
   },
   "outputs": [],
   "source": [
    "tounge_twister[first_index : first_index + len(\"wood\")]"
   ]
  },
  {
   "cell_type": "code",
   "execution_count": null,
   "id": "0984c5c5",
   "metadata": {
    "tags": [
     "code-along"
    ]
   },
   "outputs": [],
   "source": [
    "print(first_index)\n",
    "print(first_index + len(\"wood\"))"
   ]
  },
  {
   "cell_type": "code",
   "execution_count": null,
   "id": "7849e0aa",
   "metadata": {
    "tags": [
     "code-along"
    ]
   },
   "outputs": [],
   "source": [
    "# tounge_twister[9:13] = \"coffee\""
   ]
  },
  {
   "cell_type": "code",
   "execution_count": null,
   "id": "b709f352",
   "metadata": {
    "tags": [
     "code-along"
    ]
   },
   "outputs": [],
   "source": [
    "tounge_twister[:9] + \"coffee\" + tounge_twister[13:]"
   ]
  },
  {
   "cell_type": "code",
   "execution_count": null,
   "id": "de8da1f5",
   "metadata": {
    "tags": [
     "code-along"
    ]
   },
   "outputs": [],
   "source": [
    "tounge_twister.index(\"wood\", first_index + 1)"
   ]
  },
  {
   "cell_type": "markdown",
   "id": "c1b3df0e",
   "metadata": {
    "lang": "de",
    "slideshow": {
     "slide_type": "slide"
    }
   },
   "source": [
    "# Finden mit Regulären Ausdrücken"
   ]
  },
  {
   "cell_type": "code",
   "execution_count": null,
   "id": "fea1a7d7",
   "metadata": {
    "tags": [
     "code-along"
    ]
   },
   "outputs": [],
   "source": [
    "import re"
   ]
  },
  {
   "cell_type": "code",
   "execution_count": null,
   "id": "395b6db2",
   "metadata": {
    "tags": [
     "code-along"
    ]
   },
   "outputs": [],
   "source": [
    "re.findall(\"wood\", tounge_twister)"
   ]
  },
  {
   "cell_type": "code",
   "execution_count": null,
   "id": "8520c36e",
   "metadata": {
    "tags": [
     "code-along"
    ]
   },
   "outputs": [],
   "source": [
    "result = re.search(\"wood\", tounge_twister)\n",
    "result"
   ]
  },
  {
   "cell_type": "code",
   "execution_count": null,
   "id": "3971a919",
   "metadata": {
    "tags": [
     "code-along"
    ]
   },
   "outputs": [],
   "source": [
    "start, end = result.span()\n",
    "print(\"start:\", start)\n",
    "print(\"end:\", end)"
   ]
  },
  {
   "cell_type": "code",
   "execution_count": null,
   "id": "16e33faf",
   "metadata": {
    "tags": [
     "code-along"
    ]
   },
   "outputs": [],
   "source": [
    "result.start()"
   ]
  },
  {
   "cell_type": "code",
   "execution_count": null,
   "id": "1b08fbd2",
   "metadata": {
    "tags": [
     "code-along"
    ]
   },
   "outputs": [],
   "source": [
    "result.end()"
   ]
  },
  {
   "cell_type": "code",
   "execution_count": null,
   "id": "76db305d",
   "metadata": {
    "tags": [
     "code-along"
    ]
   },
   "outputs": [],
   "source": [
    "result = re.search(\"wood\", tounge_twister[end:])\n",
    "result"
   ]
  },
  {
   "cell_type": "code",
   "execution_count": null,
   "id": "bbdf3804",
   "metadata": {
    "tags": [
     "code-along"
    ]
   },
   "outputs": [],
   "source": [
    "tounge_twister[end:][result.start() :]"
   ]
  },
  {
   "cell_type": "markdown",
   "id": "8949317c",
   "metadata": {
    "lang": "de",
    "slideshow": {
     "slide_type": "slide"
    }
   },
   "source": [
    "# Ersetzen mit Regulären Ausdrücken"
   ]
  },
  {
   "cell_type": "code",
   "execution_count": null,
   "id": "ae3a718d",
   "metadata": {
    "tags": [
     "code-along"
    ]
   },
   "outputs": [],
   "source": [
    "re.sub(\"wood\", \"coffee\", tounge_twister)"
   ]
  },
  {
   "cell_type": "code",
   "execution_count": null,
   "id": "da700386",
   "metadata": {
    "tags": [
     "code-along"
    ]
   },
   "outputs": [],
   "source": [
    "re.sub(\"wood \", \"coffee \", tounge_twister)"
   ]
  },
  {
   "cell_type": "code",
   "execution_count": null,
   "id": "c95bcffd",
   "metadata": {
    "tags": [
     "code-along"
    ]
   },
   "outputs": [],
   "source": [
    "re.sub(\"wood\\\\W\", \"coffee\", tounge_twister)"
   ]
  },
  {
   "cell_type": "code",
   "execution_count": null,
   "id": "1d6ae63e",
   "metadata": {
    "tags": [
     "code-along"
    ]
   },
   "outputs": [],
   "source": [
    "re.sub(\"wood(\\\\W)\", \"coffee\\\\1\", tounge_twister)"
   ]
  },
  {
   "cell_type": "code",
   "execution_count": null,
   "id": "c3c4ddfe",
   "metadata": {
    "tags": [
     "code-along"
    ]
   },
   "outputs": [],
   "source": [
    "re.sub(r\"wood(\\W)\", r\"coffee\\1\", tounge_twister)"
   ]
  },
  {
   "cell_type": "code",
   "execution_count": null,
   "id": "04fdde95",
   "metadata": {
    "tags": [
     "code-along"
    ]
   },
   "outputs": [],
   "source": [
    "wood_rx = re.compile(\"wood\")\n",
    "type(wood_rx)"
   ]
  },
  {
   "cell_type": "code",
   "execution_count": null,
   "id": "1a390a34",
   "metadata": {
    "tags": [
     "code-along"
    ]
   },
   "outputs": [],
   "source": [
    "wood_rx.findall(tounge_twister)"
   ]
  },
  {
   "cell_type": "code",
   "execution_count": null,
   "id": "18f20d81",
   "metadata": {
    "tags": [
     "code-along"
    ]
   },
   "outputs": [],
   "source": [
    "wood_rx.search(tounge_twister)"
   ]
  },
  {
   "cell_type": "code",
   "execution_count": null,
   "id": "b7b2cf41",
   "metadata": {
    "tags": [
     "code-along"
    ]
   },
   "outputs": [],
   "source": [
    "wood_rx.search(tounge_twister, 13)"
   ]
  },
  {
   "cell_type": "code",
   "execution_count": null,
   "id": "d9a99f8b",
   "metadata": {
    "tags": [
     "code-along"
    ]
   },
   "outputs": [],
   "source": [
    "wood_rx2 = re.compile(r\"\\bwood\\b\")"
   ]
  },
  {
   "cell_type": "code",
   "execution_count": null,
   "id": "1db5d050",
   "metadata": {
    "lines_to_next_cell": 1,
    "tags": [
     "code-along"
    ]
   },
   "outputs": [],
   "source": [
    "wood_rx2.sub(r\"coffee\", tounge_twister)"
   ]
  },
  {
   "cell_type": "code",
   "execution_count": null,
   "id": "e3255b77",
   "metadata": {
    "lines_to_next_cell": 1,
    "tags": [
     "code-along"
    ]
   },
   "outputs": [],
   "source": [
    "def annotate(match):\n",
    "    return f\"{match.group()}[{match.start()}-{match.end()}]\""
   ]
  },
  {
   "cell_type": "code",
   "execution_count": null,
   "id": "4ffdf66f",
   "metadata": {
    "tags": [
     "code-along"
    ]
   },
   "outputs": [],
   "source": [
    "wood_rx2.sub(annotate, tounge_twister)"
   ]
  },
  {
   "cell_type": "code",
   "execution_count": null,
   "id": "b1acd4f7",
   "metadata": {
    "tags": [
     "code-along"
    ]
   },
   "outputs": [],
   "source": [
    "four_letter_word_rx = re.compile(r\"\\b\\w{4}\\b\")"
   ]
  },
  {
   "cell_type": "code",
   "execution_count": null,
   "id": "e5619f27",
   "metadata": {
    "tags": [
     "code-along"
    ]
   },
   "outputs": [],
   "source": [
    "four_letter_word_rx.sub(\"XXXX\", tounge_twister)"
   ]
  },
  {
   "cell_type": "code",
   "execution_count": null,
   "id": "9e4cd2f0",
   "metadata": {
    "lines_to_next_cell": 1,
    "tags": [
     "code-along"
    ]
   },
   "outputs": [],
   "source": [
    "any_length_rx = re.compile(r\"\\w*\")"
   ]
  },
  {
   "cell_type": "code",
   "execution_count": null,
   "id": "e6f0be93",
   "metadata": {
    "lines_to_next_cell": 1,
    "tags": [
     "code-along"
    ]
   },
   "outputs": [],
   "source": [
    "def x_out(match):\n",
    "    return \"X\" * (match.end() - match.start())"
   ]
  },
  {
   "cell_type": "code",
   "execution_count": null,
   "id": "c132185f",
   "metadata": {
    "tags": [
     "code-along"
    ]
   },
   "outputs": [],
   "source": [
    "any_length_rx.sub(x_out, tounge_twister)"
   ]
  },
  {
   "cell_type": "code",
   "execution_count": null,
   "id": "97912dac",
   "metadata": {
    "tags": [
     "code-along"
    ]
   },
   "outputs": [],
   "source": [
    "short_word_rx = re.compile(r\"\\b\\w{1,4}\\b\")"
   ]
  },
  {
   "cell_type": "code",
   "execution_count": null,
   "id": "106ad7de",
   "metadata": {
    "tags": [
     "code-along"
    ]
   },
   "outputs": [],
   "source": [
    "short_word_rx.sub(lambda m: \"X\" * len(m.group()), tounge_twister)"
   ]
  },
  {
   "cell_type": "code",
   "execution_count": null,
   "id": "2889782b",
   "metadata": {
    "tags": [
     "code-along"
    ]
   },
   "outputs": [],
   "source": [
    "long_word_rx = re.compile(r\"\\b\\w{5,}\\b\")"
   ]
  },
  {
   "cell_type": "code",
   "execution_count": null,
   "id": "6591313f",
   "metadata": {
    "tags": [
     "code-along"
    ]
   },
   "outputs": [],
   "source": [
    "long_word_rx.sub(lambda m: m.group().upper(), tounge_twister)"
   ]
  },
  {
   "cell_type": "code",
   "execution_count": null,
   "id": "1eb0d90f",
   "metadata": {
    "tags": [
     "code-along"
    ]
   },
   "outputs": [],
   "source": [
    "long_word_rx.search(tounge_twister)"
   ]
  },
  {
   "cell_type": "code",
   "execution_count": null,
   "id": "8b08f3f2",
   "metadata": {
    "tags": [
     "code-along"
    ]
   },
   "outputs": [],
   "source": [
    "long_word_rx.search(\"To be or not to be?\")"
   ]
  },
  {
   "cell_type": "code",
   "execution_count": null,
   "id": "632d3030",
   "metadata": {
    "tags": [
     "code-along"
    ]
   },
   "outputs": [],
   "source": [
    "long_word_rx.search(\"To be or not to be?\") is None"
   ]
  },
  {
   "cell_type": "code",
   "execution_count": null,
   "id": "9d4d3815",
   "metadata": {
    "tags": [
     "code-along"
    ]
   },
   "outputs": [],
   "source": [
    "double_vocal_rx = re.compile(r\"\\w*([aeiou]{2})\\w*\")"
   ]
  },
  {
   "cell_type": "code",
   "execution_count": null,
   "id": "a1f3a3dd",
   "metadata": {
    "tags": [
     "code-along"
    ]
   },
   "outputs": [],
   "source": [
    "match = double_vocal_rx.search(tounge_twister)\n",
    "match"
   ]
  },
  {
   "cell_type": "code",
   "execution_count": null,
   "id": "65dbd5f5",
   "metadata": {
    "tags": [
     "code-along"
    ]
   },
   "outputs": [],
   "source": [
    "match.group(0)"
   ]
  },
  {
   "cell_type": "code",
   "execution_count": null,
   "id": "7576c86f",
   "metadata": {
    "tags": [
     "code-along"
    ]
   },
   "outputs": [],
   "source": [
    "match.group(1)"
   ]
  },
  {
   "cell_type": "code",
   "execution_count": null,
   "id": "c83f097e",
   "metadata": {
    "tags": [
     "code-along"
    ]
   },
   "outputs": [],
   "source": [
    "match = double_vocal_rx.search(tounge_twister, 13)\n",
    "match"
   ]
  },
  {
   "cell_type": "code",
   "execution_count": null,
   "id": "d058f165",
   "metadata": {
    "tags": [
     "code-along"
    ]
   },
   "outputs": [],
   "source": [
    "match.group(0)"
   ]
  },
  {
   "cell_type": "code",
   "execution_count": null,
   "id": "f8f98b6f",
   "metadata": {
    "tags": [
     "code-along"
    ]
   },
   "outputs": [],
   "source": [
    "match.group(1)"
   ]
  },
  {
   "cell_type": "code",
   "execution_count": null,
   "id": "03edec4d",
   "metadata": {
    "tags": [
     "code-along"
    ]
   },
   "outputs": [],
   "source": [
    "email_rx = re.compile(r\"([\\w._+-]+)@([\\w._+-]+)\", re.IGNORECASE)"
   ]
  },
  {
   "cell_type": "code",
   "execution_count": null,
   "id": "11f2401b",
   "metadata": {
    "tags": [
     "code-along"
    ]
   },
   "outputs": [],
   "source": [
    "match = email_rx.match(\"joe.cool@people.example.com\")"
   ]
  },
  {
   "cell_type": "code",
   "execution_count": null,
   "id": "2fe9df2a",
   "metadata": {
    "tags": [
     "code-along"
    ]
   },
   "outputs": [],
   "source": [
    "match.group(0, 1, 2)"
   ]
  },
  {
   "cell_type": "code",
   "execution_count": null,
   "id": "222f47ce",
   "metadata": {
    "tags": [
     "code-along"
    ]
   },
   "outputs": [],
   "source": [
    "email_rx.match(\"Email: joe.cool@people.example.com\") is None"
   ]
  },
  {
   "cell_type": "code",
   "execution_count": null,
   "id": "27bd799c",
   "metadata": {
    "tags": [
     "code-along"
    ]
   },
   "outputs": [],
   "source": [
    "match = email_rx.match(\"joe-cool+123@my_domain.example.com or something\")"
   ]
  },
  {
   "cell_type": "code",
   "execution_count": null,
   "id": "b72df57d",
   "metadata": {
    "tags": [
     "code-along"
    ]
   },
   "outputs": [],
   "source": [
    "match.group(0, 1, 2)"
   ]
  },
  {
   "cell_type": "code",
   "execution_count": null,
   "id": "e0f65e6d",
   "metadata": {
    "tags": [
     "code-along"
    ]
   },
   "outputs": [],
   "source": [
    "match = email_rx.fullmatch(\"joe-cool+123@my_domain.example.com\")"
   ]
  },
  {
   "cell_type": "code",
   "execution_count": null,
   "id": "eb81b1e9",
   "metadata": {
    "tags": [
     "code-along"
    ]
   },
   "outputs": [],
   "source": [
    "match.group(0, 1, 2)"
   ]
  },
  {
   "cell_type": "code",
   "execution_count": null,
   "id": "5406e60d",
   "metadata": {
    "tags": [
     "code-along"
    ]
   },
   "outputs": [],
   "source": [
    "email_rx.fullmatch(\"joe-cool+123@my_domain.example.com or something\")"
   ]
  }
 ],
 "metadata": {
  "jupytext": {
   "cell_metadata_json": true,
   "encoding": "# -*- coding: utf-8 -*-",
   "formats": "ipynb"
  },
  "kernelspec": {
   "display_name": "Python 3 (ipykernel)",
   "language": "python",
   "name": "python3"
  }
 },
 "nbformat": 4,
 "nbformat_minor": 5
}
