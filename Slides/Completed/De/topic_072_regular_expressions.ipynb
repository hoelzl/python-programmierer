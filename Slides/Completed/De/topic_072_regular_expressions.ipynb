{
 "cells": [
  {
   "cell_type": "markdown",
   "id": "a9446012",
   "metadata": {
    "lang": "de",
    "slideshow": {
     "slide_type": "slide"
    }
   },
   "source": [
    "<img src=\"img/python-logo-notext.svg\"\n",
    "     style=\"display:block;margin:auto;width:10%\"/>\n",
    "<br>\n",
    "<div style=\"text-align:center; font-size:200%;\"><b>Reguläre Ausdrücke</b></div>\n",
    "<br/>\n",
    "<div style=\"text-align:center;\">Dr. Matthias Hölzl</div>"
   ]
  },
  {
   "cell_type": "markdown",
   "id": "17ea30ca",
   "metadata": {
    "lang": "de",
    "slideshow": {
     "slide_type": "slide"
    }
   },
   "source": [
    "# Finden und Ersetzen in Strings"
   ]
  },
  {
   "cell_type": "code",
   "execution_count": null,
   "id": "e2e50c55",
   "metadata": {},
   "outputs": [],
   "source": [
    "tounge_twister = (\n",
    "    \"How much wood would a woodchuck chuck, if a woodchuck could chuck wood?\"\n",
    ")"
   ]
  },
  {
   "cell_type": "code",
   "execution_count": null,
   "id": "cd7a26c9",
   "metadata": {
    "tags": [
     "code-along"
    ]
   },
   "outputs": [],
   "source": [
    "first_index = tounge_twister.index(\"wood\")\n",
    "first_index"
   ]
  },
  {
   "cell_type": "code",
   "execution_count": null,
   "id": "2522380a",
   "metadata": {
    "tags": [
     "code-along"
    ]
   },
   "outputs": [],
   "source": [
    "tounge_twister[first_index : first_index + len(\"wood\")]"
   ]
  },
  {
   "cell_type": "code",
   "execution_count": null,
   "id": "d90cf0c6",
   "metadata": {
    "tags": [
     "code-along"
    ]
   },
   "outputs": [],
   "source": [
    "print(first_index)\n",
    "print(first_index + len(\"wood\"))"
   ]
  },
  {
   "cell_type": "code",
   "execution_count": null,
   "id": "dc041571",
   "metadata": {
    "tags": [
     "code-along"
    ]
   },
   "outputs": [],
   "source": [
    "# tounge_twister[9:13] = \"coffee\""
   ]
  },
  {
   "cell_type": "code",
   "execution_count": null,
   "id": "992e36fa",
   "metadata": {
    "tags": [
     "code-along"
    ]
   },
   "outputs": [],
   "source": [
    "tounge_twister[:9] + \"coffee\" + tounge_twister[13:]"
   ]
  },
  {
   "cell_type": "code",
   "execution_count": null,
   "id": "ba3c2f46",
   "metadata": {
    "tags": [
     "code-along"
    ]
   },
   "outputs": [],
   "source": [
    "tounge_twister.index(\"wood\", first_index + 1)"
   ]
  },
  {
   "cell_type": "markdown",
   "id": "06d45222",
   "metadata": {
    "lang": "de",
    "slideshow": {
     "slide_type": "slide"
    }
   },
   "source": [
    "# Finden mit Regulären Ausdrücken"
   ]
  },
  {
   "cell_type": "code",
   "execution_count": null,
   "id": "8e34fd07",
   "metadata": {
    "tags": [
     "code-along"
    ]
   },
   "outputs": [],
   "source": [
    "import re"
   ]
  },
  {
   "cell_type": "code",
   "execution_count": null,
   "id": "1ab261d3",
   "metadata": {
    "tags": [
     "code-along"
    ]
   },
   "outputs": [],
   "source": [
    "re.findall(\"wood\", tounge_twister)"
   ]
  },
  {
   "cell_type": "code",
   "execution_count": null,
   "id": "1100a986",
   "metadata": {
    "tags": [
     "code-along"
    ]
   },
   "outputs": [],
   "source": [
    "result = re.search(\"wood\", tounge_twister)\n",
    "result"
   ]
  },
  {
   "cell_type": "code",
   "execution_count": null,
   "id": "218d71e5",
   "metadata": {
    "tags": [
     "code-along"
    ]
   },
   "outputs": [],
   "source": [
    "start, end = result.span()\n",
    "print(\"start:\", start)\n",
    "print(\"end:\", end)"
   ]
  },
  {
   "cell_type": "code",
   "execution_count": null,
   "id": "80fa3d0a",
   "metadata": {
    "tags": [
     "code-along"
    ]
   },
   "outputs": [],
   "source": [
    "result.start()"
   ]
  },
  {
   "cell_type": "code",
   "execution_count": null,
   "id": "58793d79",
   "metadata": {
    "tags": [
     "code-along"
    ]
   },
   "outputs": [],
   "source": [
    "result.end()"
   ]
  },
  {
   "cell_type": "code",
   "execution_count": null,
   "id": "cabf791b",
   "metadata": {
    "tags": [
     "code-along"
    ]
   },
   "outputs": [],
   "source": [
    "result = re.search(\"wood\", tounge_twister[end:])\n",
    "result"
   ]
  },
  {
   "cell_type": "code",
   "execution_count": null,
   "id": "0ba6795b",
   "metadata": {
    "tags": [
     "code-along"
    ]
   },
   "outputs": [],
   "source": [
    "tounge_twister[end:][result.start():]"
   ]
  },
  {
   "cell_type": "code",
   "execution_count": null,
   "id": "f404e2a1",
   "metadata": {
    "tags": [
     "code-along"
    ]
   },
   "outputs": [],
   "source": [
    "re.sub(\"wood\", \"coffee\", tounge_twister)"
   ]
  },
  {
   "cell_type": "code",
   "execution_count": null,
   "id": "19500c7b",
   "metadata": {
    "tags": [
     "code-along"
    ]
   },
   "outputs": [],
   "source": [
    "re.sub(\"wood \", \"coffee \", tounge_twister)"
   ]
  },
  {
   "cell_type": "code",
   "execution_count": null,
   "id": "31e4a7db",
   "metadata": {
    "tags": [
     "code-along"
    ]
   },
   "outputs": [],
   "source": [
    "re.sub(\"wood\\\\W\", \"coffee\", tounge_twister)"
   ]
  },
  {
   "cell_type": "code",
   "execution_count": null,
   "id": "d840dd1e",
   "metadata": {
    "tags": [
     "code-along"
    ]
   },
   "outputs": [],
   "source": [
    "re.sub(\"wood(\\\\W)\", \"coffee\\\\1\", tounge_twister)"
   ]
  },
  {
   "cell_type": "code",
   "execution_count": null,
   "id": "2e0c1515",
   "metadata": {
    "tags": [
     "code-along"
    ]
   },
   "outputs": [],
   "source": [
    "re.sub(r\"wood(\\W)\", r\"coffee\\1\", tounge_twister)"
   ]
  },
  {
   "cell_type": "code",
   "execution_count": null,
   "id": "c4b8c988",
   "metadata": {
    "tags": [
     "code-along"
    ]
   },
   "outputs": [],
   "source": [
    "wood_rx = re.compile(\"wood\")\n",
    "type(wood_rx)"
   ]
  },
  {
   "cell_type": "code",
   "execution_count": null,
   "id": "fc2cee09",
   "metadata": {
    "tags": [
     "code-along"
    ]
   },
   "outputs": [],
   "source": [
    "wood_rx.findall(tounge_twister)"
   ]
  },
  {
   "cell_type": "code",
   "execution_count": null,
   "id": "2a19a673",
   "metadata": {
    "tags": [
     "code-along"
    ]
   },
   "outputs": [],
   "source": [
    "wood_rx.search(tounge_twister)"
   ]
  },
  {
   "cell_type": "code",
   "execution_count": null,
   "id": "c0df255a",
   "metadata": {
    "tags": [
     "code-along"
    ]
   },
   "outputs": [],
   "source": [
    "wood_rx.search(tounge_twister, 13)"
   ]
  },
  {
   "cell_type": "code",
   "execution_count": null,
   "id": "5934a1b6",
   "metadata": {
    "tags": [
     "code-along"
    ]
   },
   "outputs": [],
   "source": [
    "wood_rx2 = re.compile(r\"wood(\\W)\")"
   ]
  },
  {
   "cell_type": "code",
   "execution_count": null,
   "id": "df0cffa0",
   "metadata": {
    "tags": [
     "code-along"
    ]
   },
   "outputs": [],
   "source": [
    "wood_rx2.sub(r\"coffee\\1\", tounge_twister)"
   ]
  },
  {
   "cell_type": "code",
   "execution_count": null,
   "id": "68e7d46c",
   "metadata": {
    "tags": [
     "code-along"
    ]
   },
   "outputs": [],
   "source": []
  }
 ],
 "metadata": {
  "jupytext": {
   "cell_metadata_json": true,
   "encoding": "# -*- coding: utf-8 -*-",
   "formats": "ipynb"
  },
  "kernelspec": {
   "display_name": "Python 3 (ipykernel)",
   "language": "python",
   "name": "python3"
  }
 },
 "nbformat": 4,
 "nbformat_minor": 5
}
