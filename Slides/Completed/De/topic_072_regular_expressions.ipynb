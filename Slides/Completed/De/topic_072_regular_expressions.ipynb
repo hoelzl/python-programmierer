{
 "cells": [
  {
   "cell_type": "markdown",
   "id": "360c6691",
   "metadata": {
    "lang": "de",
    "slideshow": {
     "slide_type": "slide"
    }
   },
   "source": [
    "<img src=\"img/python-logo-notext.svg\"\n",
    "     style=\"display:block;margin:auto;width:10%\"/>\n",
    "<br>\n",
    "<div style=\"text-align:center; font-size:200%;\"><b>Reguläre Ausdrücke</b></div>\n",
    "<br/>\n",
    "<div style=\"text-align:center;\">Dr. Matthias Hölzl</div>"
   ]
  },
  {
   "cell_type": "markdown",
   "id": "43ca3fb7",
   "metadata": {
    "lang": "de",
    "slideshow": {
     "slide_type": "slide"
    }
   },
   "source": [
    "# Finden und Ersetzen in Strings"
   ]
  },
  {
   "cell_type": "code",
   "execution_count": null,
   "id": "9bbf32bc",
   "metadata": {},
   "outputs": [],
   "source": [
    "tounge_twister = (\n",
    "    \"How much wood would a woodchuck chuck, if a woodchuck could chuck wood?\"\n",
    ")"
   ]
  },
  {
   "cell_type": "code",
   "execution_count": null,
   "id": "491a4a99",
   "metadata": {
    "tags": [
     "code-along"
    ]
   },
   "outputs": [],
   "source": [
    "first_index = tounge_twister.index(\"wood\")\n",
    "first_index"
   ]
  },
  {
   "cell_type": "code",
   "execution_count": null,
   "id": "7e8a79ae",
   "metadata": {
    "tags": [
     "code-along"
    ]
   },
   "outputs": [],
   "source": [
    "tounge_twister[first_index : first_index + len(\"wood\")]"
   ]
  },
  {
   "cell_type": "code",
   "execution_count": null,
   "id": "bf268e06",
   "metadata": {
    "tags": [
     "code-along"
    ]
   },
   "outputs": [],
   "source": [
    "print(first_index)\n",
    "print(first_index + len(\"wood\"))"
   ]
  },
  {
   "cell_type": "code",
   "execution_count": null,
   "id": "0f351363",
   "metadata": {
    "tags": [
     "code-along"
    ]
   },
   "outputs": [],
   "source": [
    "# tounge_twister[9:13] = \"coffee\""
   ]
  },
  {
   "cell_type": "code",
   "execution_count": null,
   "id": "5398e2d2",
   "metadata": {
    "tags": [
     "code-along"
    ]
   },
   "outputs": [],
   "source": [
    "tounge_twister[:9] + \"coffee\" + tounge_twister[13:]"
   ]
  },
  {
   "cell_type": "code",
   "execution_count": null,
   "id": "408140aa",
   "metadata": {
    "tags": [
     "code-along"
    ]
   },
   "outputs": [],
   "source": [
    "tounge_twister.index(\"wood\", first_index + 1)"
   ]
  },
  {
   "cell_type": "markdown",
   "id": "de008357",
   "metadata": {
    "lang": "de",
    "slideshow": {
     "slide_type": "slide"
    }
   },
   "source": [
    "# Finden mit Regulären Ausdrücken"
   ]
  },
  {
   "cell_type": "code",
   "execution_count": null,
   "id": "3858d91b",
   "metadata": {
    "tags": [
     "code-along"
    ]
   },
   "outputs": [],
   "source": [
    "import re"
   ]
  },
  {
   "cell_type": "code",
   "execution_count": null,
   "id": "58564650",
   "metadata": {
    "tags": [
     "code-along"
    ]
   },
   "outputs": [],
   "source": [
    "re.findall(\"wood\", tounge_twister)"
   ]
  },
  {
   "cell_type": "code",
   "execution_count": null,
   "id": "90b756f9",
   "metadata": {
    "tags": [
     "code-along"
    ]
   },
   "outputs": [],
   "source": [
    "result = re.search(\"wood\", tounge_twister)\n",
    "result"
   ]
  },
  {
   "cell_type": "code",
   "execution_count": null,
   "id": "5235e821",
   "metadata": {
    "tags": [
     "code-along"
    ]
   },
   "outputs": [],
   "source": [
    "start, end = result.span()\n",
    "print(\"start:\", start)\n",
    "print(\"end:\", end)"
   ]
  },
  {
   "cell_type": "code",
   "execution_count": null,
   "id": "ca86a5b0",
   "metadata": {
    "tags": [
     "code-along"
    ]
   },
   "outputs": [],
   "source": [
    "result.start()"
   ]
  },
  {
   "cell_type": "code",
   "execution_count": null,
   "id": "98c1da07",
   "metadata": {
    "tags": [
     "code-along"
    ]
   },
   "outputs": [],
   "source": [
    "result.end()"
   ]
  },
  {
   "cell_type": "code",
   "execution_count": null,
   "id": "3317594c",
   "metadata": {
    "tags": [
     "code-along"
    ]
   },
   "outputs": [],
   "source": [
    "result = re.search(\"wood\", tounge_twister[end:])\n",
    "result"
   ]
  },
  {
   "cell_type": "code",
   "execution_count": null,
   "id": "ab716b68",
   "metadata": {
    "tags": [
     "code-along"
    ]
   },
   "outputs": [],
   "source": [
    "tounge_twister[end:][result.start() :]"
   ]
  },
  {
   "cell_type": "markdown",
   "id": "5ed3ebf5",
   "metadata": {
    "lang": "de",
    "slideshow": {
     "slide_type": "slide"
    }
   },
   "source": [
    "# Ersetzen mit Regulären Ausdrücken"
   ]
  },
  {
   "cell_type": "code",
   "execution_count": null,
   "id": "31202531",
   "metadata": {
    "tags": [
     "code-along"
    ]
   },
   "outputs": [],
   "source": [
    "re.sub(\"wood\", \"coffee\", tounge_twister)"
   ]
  },
  {
   "cell_type": "code",
   "execution_count": null,
   "id": "ead01ca4",
   "metadata": {
    "tags": [
     "code-along"
    ]
   },
   "outputs": [],
   "source": [
    "re.sub(\"wood \", \"coffee \", tounge_twister)"
   ]
  },
  {
   "cell_type": "code",
   "execution_count": null,
   "id": "799895c6",
   "metadata": {
    "tags": [
     "code-along"
    ]
   },
   "outputs": [],
   "source": [
    "re.sub(\"wood\\\\W\", \"coffee\", tounge_twister)"
   ]
  },
  {
   "cell_type": "code",
   "execution_count": null,
   "id": "10276864",
   "metadata": {
    "tags": [
     "code-along"
    ]
   },
   "outputs": [],
   "source": [
    "re.sub(\"wood(\\\\W)\", \"coffee\\\\1\", tounge_twister)"
   ]
  },
  {
   "cell_type": "code",
   "execution_count": null,
   "id": "e959a676",
   "metadata": {
    "tags": [
     "code-along"
    ]
   },
   "outputs": [],
   "source": [
    "re.sub(r\"wood(\\W)\", r\"coffee\\1\", tounge_twister)"
   ]
  },
  {
   "cell_type": "code",
   "execution_count": null,
   "id": "91d42117",
   "metadata": {
    "tags": [
     "code-along"
    ]
   },
   "outputs": [],
   "source": [
    "wood_rx = re.compile(\"wood\")\n",
    "type(wood_rx)"
   ]
  },
  {
   "cell_type": "code",
   "execution_count": null,
   "id": "b7f20819",
   "metadata": {
    "tags": [
     "code-along"
    ]
   },
   "outputs": [],
   "source": [
    "wood_rx.findall(tounge_twister)"
   ]
  },
  {
   "cell_type": "code",
   "execution_count": null,
   "id": "a21fe07a",
   "metadata": {
    "tags": [
     "code-along"
    ]
   },
   "outputs": [],
   "source": [
    "wood_rx.search(tounge_twister)"
   ]
  },
  {
   "cell_type": "code",
   "execution_count": null,
   "id": "f9648a14",
   "metadata": {
    "tags": [
     "code-along"
    ]
   },
   "outputs": [],
   "source": [
    "wood_rx.search(tounge_twister, 13)"
   ]
  },
  {
   "cell_type": "code",
   "execution_count": null,
   "id": "de54095c",
   "metadata": {
    "tags": [
     "code-along"
    ]
   },
   "outputs": [],
   "source": [
    "wood_rx2 = re.compile(r\"\\bwood\\b\")"
   ]
  },
  {
   "cell_type": "code",
   "execution_count": null,
   "id": "cc025b16",
   "metadata": {
    "lines_to_next_cell": 1,
    "tags": [
     "code-along"
    ]
   },
   "outputs": [],
   "source": [
    "wood_rx2.sub(r\"coffee\", tounge_twister)"
   ]
  },
  {
   "cell_type": "code",
   "execution_count": null,
   "id": "4982636b",
   "metadata": {
    "lines_to_next_cell": 1,
    "tags": [
     "code-along"
    ]
   },
   "outputs": [],
   "source": [
    "def annotate(match):\n",
    "    return f\"{match.group()}[{match.start()}-{match.end()}]\""
   ]
  },
  {
   "cell_type": "code",
   "execution_count": null,
   "id": "df047486",
   "metadata": {
    "tags": [
     "code-along"
    ]
   },
   "outputs": [],
   "source": [
    "wood_rx2.sub(annotate, tounge_twister)"
   ]
  },
  {
   "cell_type": "code",
   "execution_count": null,
   "id": "8904c4e1",
   "metadata": {
    "tags": [
     "code-along"
    ]
   },
   "outputs": [],
   "source": [
    "four_letter_word_rx = re.compile(r\"\\b\\w{4}\\b\")"
   ]
  },
  {
   "cell_type": "code",
   "execution_count": null,
   "id": "fe2a2b61",
   "metadata": {
    "tags": [
     "code-along"
    ]
   },
   "outputs": [],
   "source": [
    "four_letter_word_rx.sub(\"XXXX\", tounge_twister)"
   ]
  },
  {
   "cell_type": "code",
   "execution_count": null,
   "id": "160d8e47",
   "metadata": {
    "lines_to_next_cell": 1,
    "tags": [
     "code-along"
    ]
   },
   "outputs": [],
   "source": [
    "any_length_rx = re.compile(r\"\\w*\")"
   ]
  },
  {
   "cell_type": "code",
   "execution_count": null,
   "id": "84c0800e",
   "metadata": {
    "lines_to_next_cell": 1,
    "tags": [
     "code-along"
    ]
   },
   "outputs": [],
   "source": [
    "def x_out(match):\n",
    "    return \"X\" * (match.end() - match.start())"
   ]
  },
  {
   "cell_type": "code",
   "execution_count": null,
   "id": "06e81122",
   "metadata": {
    "tags": [
     "code-along"
    ]
   },
   "outputs": [],
   "source": [
    "any_length_rx.sub(x_out, tounge_twister)"
   ]
  },
  {
   "cell_type": "code",
   "execution_count": null,
   "id": "4409dfe9",
   "metadata": {
    "tags": [
     "code-along"
    ]
   },
   "outputs": [],
   "source": [
    "short_word_rx = re.compile(r\"\\b\\w{1,4}\\b\")"
   ]
  },
  {
   "cell_type": "code",
   "execution_count": null,
   "id": "78d0afaa",
   "metadata": {
    "tags": [
     "code-along"
    ]
   },
   "outputs": [],
   "source": [
    "short_word_rx.sub(lambda m: \"X\" * len(m.group()), tounge_twister)"
   ]
  },
  {
   "cell_type": "code",
   "execution_count": null,
   "id": "4a141973",
   "metadata": {
    "tags": [
     "code-along"
    ]
   },
   "outputs": [],
   "source": [
    "long_word_rx = re.compile(r\"\\b\\w{5,}\\b\")"
   ]
  },
  {
   "cell_type": "code",
   "execution_count": null,
   "id": "2caf76c9",
   "metadata": {
    "tags": [
     "code-along"
    ]
   },
   "outputs": [],
   "source": [
    "long_word_rx.sub(lambda m: m.group().upper(), tounge_twister)"
   ]
  },
  {
   "cell_type": "code",
   "execution_count": null,
   "id": "9d61fe93",
   "metadata": {
    "tags": [
     "code-along"
    ]
   },
   "outputs": [],
   "source": [
    "long_word_rx.search(tounge_twister)"
   ]
  },
  {
   "cell_type": "code",
   "execution_count": null,
   "id": "8ccd68bb",
   "metadata": {
    "tags": [
     "code-along"
    ]
   },
   "outputs": [],
   "source": [
    "long_word_rx.search(\"To be or not to be?\")"
   ]
  },
  {
   "cell_type": "code",
   "execution_count": null,
   "id": "e96746d1",
   "metadata": {
    "tags": [
     "code-along"
    ]
   },
   "outputs": [],
   "source": [
    "long_word_rx.search(\"To be or not to be?\") is None"
   ]
  },
  {
   "cell_type": "code",
   "execution_count": null,
   "id": "2f33209e",
   "metadata": {
    "tags": [
     "code-along"
    ]
   },
   "outputs": [],
   "source": [
    "double_vocal_rx = re.compile(r\"\\w*([aeiou]{2})\\w*\")"
   ]
  },
  {
   "cell_type": "code",
   "execution_count": null,
   "id": "4230b7a8",
   "metadata": {
    "tags": [
     "code-along"
    ]
   },
   "outputs": [],
   "source": [
    "match = double_vocal_rx.search(tounge_twister)\n",
    "match"
   ]
  },
  {
   "cell_type": "code",
   "execution_count": null,
   "id": "0944ce28",
   "metadata": {
    "tags": [
     "code-along"
    ]
   },
   "outputs": [],
   "source": [
    "match.group(0)"
   ]
  },
  {
   "cell_type": "code",
   "execution_count": null,
   "id": "c2d03730",
   "metadata": {
    "tags": [
     "code-along"
    ]
   },
   "outputs": [],
   "source": [
    "match.group(1)"
   ]
  },
  {
   "cell_type": "code",
   "execution_count": null,
   "id": "ad2c0663",
   "metadata": {
    "tags": [
     "code-along"
    ]
   },
   "outputs": [],
   "source": [
    "match = double_vocal_rx.search(tounge_twister, 13)\n",
    "match"
   ]
  },
  {
   "cell_type": "code",
   "execution_count": null,
   "id": "ba1cb4e9",
   "metadata": {
    "tags": [
     "code-along"
    ]
   },
   "outputs": [],
   "source": [
    "match.group(0)"
   ]
  },
  {
   "cell_type": "code",
   "execution_count": null,
   "id": "5323b3a1",
   "metadata": {
    "tags": [
     "code-along"
    ]
   },
   "outputs": [],
   "source": [
    "match.group(1)"
   ]
  },
  {
   "cell_type": "code",
   "execution_count": null,
   "id": "d9168299",
   "metadata": {
    "tags": [
     "code-along"
    ]
   },
   "outputs": [],
   "source": [
    "email_rx = re.compile(r\"([\\w._+-]+)@([\\w._+-]+)\", re.IGNORECASE)"
   ]
  },
  {
   "cell_type": "code",
   "execution_count": null,
   "id": "9cf0dbbf",
   "metadata": {
    "tags": [
     "code-along"
    ]
   },
   "outputs": [],
   "source": [
    "match = email_rx.match(\"joe.cool@people.example.com\")"
   ]
  },
  {
   "cell_type": "code",
   "execution_count": null,
   "id": "ffebd72f",
   "metadata": {
    "tags": [
     "code-along"
    ]
   },
   "outputs": [],
   "source": [
    "match.group(0, 1, 2)"
   ]
  },
  {
   "cell_type": "code",
   "execution_count": null,
   "id": "65cdbc32",
   "metadata": {
    "tags": [
     "code-along"
    ]
   },
   "outputs": [],
   "source": [
    "email_rx.match(\"Email: joe.cool@people.example.com\") is None"
   ]
  },
  {
   "cell_type": "code",
   "execution_count": null,
   "id": "12d94203",
   "metadata": {
    "tags": [
     "code-along"
    ]
   },
   "outputs": [],
   "source": [
    "match = email_rx.match(\"joe-cool+123@my_domain.example.com or something\")"
   ]
  },
  {
   "cell_type": "code",
   "execution_count": null,
   "id": "bab88898",
   "metadata": {
    "tags": [
     "code-along"
    ]
   },
   "outputs": [],
   "source": [
    "match.group(0, 1, 2)"
   ]
  },
  {
   "cell_type": "code",
   "execution_count": null,
   "id": "782ad45f",
   "metadata": {
    "tags": [
     "code-along"
    ]
   },
   "outputs": [],
   "source": [
    "match = email_rx.fullmatch(\"joe-cool+123@my_domain.example.com\")"
   ]
  },
  {
   "cell_type": "code",
   "execution_count": null,
   "id": "597bb737",
   "metadata": {
    "tags": [
     "code-along"
    ]
   },
   "outputs": [],
   "source": [
    "match.group(0, 1, 2)"
   ]
  },
  {
   "cell_type": "code",
   "execution_count": null,
   "id": "70d9eb08",
   "metadata": {
    "tags": [
     "code-along"
    ]
   },
   "outputs": [],
   "source": [
    "email_rx.fullmatch(\"joe-cool+123@my_domain.example.com or something\")"
   ]
  }
 ],
 "metadata": {
  "jupytext": {
   "cell_metadata_json": true,
   "encoding": "# -*- coding: utf-8 -*-",
   "formats": "ipynb"
  },
  "kernelspec": {
   "display_name": "Python 3 (ipykernel)",
   "language": "python",
   "name": "python3"
  }
 },
 "nbformat": 4,
 "nbformat_minor": 5
}
