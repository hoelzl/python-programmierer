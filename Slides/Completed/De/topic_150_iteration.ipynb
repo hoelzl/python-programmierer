{
 "cells": [
  {
   "cell_type": "markdown",
   "id": "ba83f662",
   "metadata": {
    "lang": "de",
    "slideshow": {
     "slide_type": "slide"
    }
   },
   "source": [
    "<img src=\"img/python-logo-notext.svg\"\n",
    "     style=\"display:block;margin:auto;width:10%\"/>\n",
    "<br>\n",
    "<div style=\"text-align:center; font-size:200%;\"><b>Iteration</b></div>\n",
    "<br/>\n",
    "<div style=\"text-align:center;\">Dr. Matthias Hölzl</div>"
   ]
  },
  {
   "cell_type": "markdown",
   "id": "7f78a8a2",
   "metadata": {
    "lang": "de",
    "lines_to_next_cell": 2,
    "slideshow": {
     "slide_type": "slide"
    }
   },
   "source": [
    "\n",
    "# Iteration über Listen\n",
    "\n",
    "Zur Iteration über Listen (und andere Datenstrukturen) bietet Python die\n",
    "bereits besprochene`for`-Schleife:"
   ]
  },
  {
   "cell_type": "code",
   "execution_count": null,
   "id": "88c60b8b",
   "metadata": {
    "lines_to_next_cell": 2,
    "tags": [
     "code-along"
    ]
   },
   "outputs": [],
   "source": [
    "my_list = [1, 2, 3, 4]\n",
    "for n in my_list:\n",
    "    print(f\"Item {n}\")"
   ]
  },
  {
   "cell_type": "code",
   "execution_count": null,
   "id": "ef259967",
   "metadata": {
    "lines_to_next_cell": 2,
    "tags": [
     "code-along"
    ]
   },
   "outputs": [],
   "source": [
    "index = 0\n",
    "while index < len(my_list):\n",
    "    n = my_list[index]\n",
    "    print(f\"Item {n}\")\n",
    "    index += 1"
   ]
  },
  {
   "cell_type": "markdown",
   "id": "5cde3449",
   "metadata": {
    "lang": "de",
    "slideshow": {
     "slide_type": "slide"
    }
   },
   "source": [
    "\n",
    " ## Iteration über Listen von Listen"
   ]
  },
  {
   "cell_type": "code",
   "execution_count": null,
   "id": "54ff5ce0",
   "metadata": {
    "lines_to_next_cell": 2,
    "tags": [
     "code-along"
    ]
   },
   "outputs": [],
   "source": [
    "a, b = [1, 2]\n",
    "print(a)\n",
    "print(b)"
   ]
  },
  {
   "cell_type": "code",
   "execution_count": null,
   "id": "cfbcca24",
   "metadata": {
    "lines_to_next_cell": 2
   },
   "outputs": [],
   "source": [
    "my_list = [[1, 2], [3, 4], [5, 6]]"
   ]
  },
  {
   "cell_type": "code",
   "execution_count": null,
   "id": "7f7042a2",
   "metadata": {
    "lines_to_next_cell": 2,
    "tags": [
     "code-along"
    ]
   },
   "outputs": [],
   "source": [
    "for m, n in my_list:\n",
    "    print(f\"Items {m} and {n}\")"
   ]
  },
  {
   "cell_type": "code",
   "execution_count": null,
   "id": "cd48abe2",
   "metadata": {
    "lines_to_next_cell": 2,
    "tags": [
     "code-along"
    ]
   },
   "outputs": [],
   "source": [
    "index = 0\n",
    "while index < len(my_list):\n",
    "    m, n = my_list[index]\n",
    "    print(f\"Items {m} and {n}\")\n",
    "    index += 1"
   ]
  },
  {
   "cell_type": "markdown",
   "id": "fc8d5814",
   "metadata": {
    "lang": "de",
    "slideshow": {
     "slide_type": "subslide"
    }
   },
   "source": [
    "\n",
    "# Nochmal Finden von Elementen\n",
    "\n",
    "Bei unserer bisherigen Version von `find` muss die Liste zweimal durchlaufen\n",
    "werden:\n",
    "\n",
    "- Einmal von `in` um zu testen, ob das gesuchte Element in der Liste vorkommt\n",
    "- Einmal von `index` um den Index zu finden.\n",
    "\n",
    "Schöner wäre es, wenn wir das in einem Durchlauf erledigen könnten."
   ]
  },
  {
   "cell_type": "code",
   "execution_count": null,
   "id": "8555e265",
   "metadata": {},
   "outputs": [],
   "source": [
    "my_list = [\"a\", \"b\", \"c\", \"d\", \"e\"]"
   ]
  },
  {
   "cell_type": "code",
   "execution_count": null,
   "id": "c7b27d73",
   "metadata": {
    "lines_to_next_cell": 2,
    "tags": [
     "code-along"
    ]
   },
   "outputs": [],
   "source": [
    "enumerate(my_list)"
   ]
  },
  {
   "cell_type": "code",
   "execution_count": null,
   "id": "c2be6367",
   "metadata": {
    "lines_to_next_cell": 2,
    "tags": [
     "code-along"
    ]
   },
   "outputs": [],
   "source": [
    "list(enumerate(my_list))"
   ]
  },
  {
   "cell_type": "code",
   "execution_count": null,
   "id": "65359ba1",
   "metadata": {
    "tags": [
     "code-along"
    ]
   },
   "outputs": [],
   "source": [
    "for index, element in enumerate(my_list):\n",
    "    print(f\"index = {index}, element = {element}\")"
   ]
  },
  {
   "cell_type": "code",
   "execution_count": null,
   "id": "f76871f8",
   "metadata": {
    "slideshow": {
     "slide_type": "subslide"
    },
    "tags": [
     "code-along"
    ]
   },
   "outputs": [],
   "source": [
    "def find(element, a_list):\n",
    "    result = None\n",
    "    for index, list_entry in enumerate(a_list):\n",
    "        if list_entry == element:\n",
    "            result = index\n",
    "            break\n",
    "    return result"
   ]
  },
  {
   "cell_type": "code",
   "execution_count": null,
   "id": "5db4418e",
   "metadata": {},
   "outputs": [],
   "source": [
    "my_list = [\"a\", \"b\", \"c\", \"d\", \"a\"]"
   ]
  },
  {
   "cell_type": "code",
   "execution_count": null,
   "id": "b955e3bb",
   "metadata": {
    "lines_to_next_cell": 2,
    "tags": [
     "code-along"
    ]
   },
   "outputs": [],
   "source": [
    "find(\"a\", my_list)"
   ]
  },
  {
   "cell_type": "code",
   "execution_count": null,
   "id": "dfd60caa",
   "metadata": {
    "lines_to_next_cell": 2,
    "tags": [
     "code-along"
    ]
   },
   "outputs": [],
   "source": [
    "find(\"d\", my_list)"
   ]
  },
  {
   "cell_type": "code",
   "execution_count": null,
   "id": "6d13d2ca",
   "metadata": {
    "tags": [
     "code-along"
    ]
   },
   "outputs": [],
   "source": [
    "assert find(\"x\", my_list) == None"
   ]
  },
  {
   "cell_type": "code",
   "execution_count": null,
   "id": "02a79564",
   "metadata": {
    "slideshow": {
     "slide_type": "subslide"
    },
    "tags": [
     "code-along"
    ]
   },
   "outputs": [],
   "source": [
    "# Alternative Implementierung:\n",
    "def find_return(element, a_list):\n",
    "    for index, list_entry in enumerate(a_list):\n",
    "        if list_entry == element:\n",
    "            return index\n",
    "    return None"
   ]
  },
  {
   "cell_type": "code",
   "execution_count": null,
   "id": "20c7962e",
   "metadata": {
    "tags": [
     "code-along"
    ]
   },
   "outputs": [],
   "source": [
    "# Mit assert können Invarianten dokumentiert werden:\n",
    "assert find(\"a\", my_list) == find_return(\"a\", my_list)\n",
    "assert find(\"d\", my_list) == find_return(\"d\", my_list)\n",
    "assert find(\"x\", my_list) == find_return(\"x\", my_list)"
   ]
  },
  {
   "cell_type": "markdown",
   "id": "d1c759e2",
   "metadata": {
    "lang": "de",
    "slideshow": {
     "slide_type": "subslide"
    }
   },
   "source": [
    "\n",
    " ## Mini-Workshop\n",
    "\n",
    " - Notebook `workshop_100_lists_part2`\n",
    " - Abschnitt \"Finden in Listen\"\n"
   ]
  },
  {
   "cell_type": "markdown",
   "id": "7dedba3c",
   "metadata": {
    "lang": "de",
    "slideshow": {
     "slide_type": "slide"
    }
   },
   "source": [
    "\n",
    " ## Aggregation von Listenelementen"
   ]
  },
  {
   "cell_type": "code",
   "execution_count": null,
   "id": "8caae06b",
   "metadata": {
    "tags": [
     "code-along"
    ]
   },
   "outputs": [],
   "source": [
    "def summe(zahlen):\n",
    "    ergebnis = 0\n",
    "    for n in zahlen:\n",
    "        ergebnis += n\n",
    "    return ergebnis"
   ]
  },
  {
   "cell_type": "code",
   "execution_count": null,
   "id": "d527a0b9",
   "metadata": {
    "lines_to_next_cell": 2,
    "tags": [
     "code-along"
    ]
   },
   "outputs": [],
   "source": [
    "summe([1, 2, 3])"
   ]
  },
  {
   "cell_type": "markdown",
   "id": "076f3d7d",
   "metadata": {
    "lang": "de",
    "slideshow": {
     "slide_type": "subslide"
    }
   },
   "source": [
    "\n",
    " ## Mini-Workshop\n",
    "\n",
    " - Notebook `workshop_100_lists_part2`\n",
    " - Abschnitt \"Mittelwert einer Liste\""
   ]
  },
  {
   "cell_type": "markdown",
   "id": "9da2151a",
   "metadata": {
    "lang": "de",
    "slideshow": {
     "slide_type": "slide"
    }
   },
   "source": [
    "\n",
    " ## Transformation von Listen"
   ]
  },
  {
   "cell_type": "code",
   "execution_count": null,
   "id": "da88481b",
   "metadata": {
    "lines_to_next_cell": 2,
    "tags": [
     "code-along"
    ]
   },
   "outputs": [],
   "source": [
    "result = []\n",
    "for item in [1, 2, 3, 4]:\n",
    "    result.append(item + 1)\n",
    "result"
   ]
  },
  {
   "cell_type": "code",
   "execution_count": null,
   "id": "7465c1c6",
   "metadata": {
    "lines_to_next_cell": 2,
    "tags": [
     "code-along"
    ]
   },
   "outputs": [],
   "source": [
    "result = []\n",
    "for n in [1, 2, 3, 4]:\n",
    "    result.append(f\"Item {n}\")\n",
    "result"
   ]
  },
  {
   "cell_type": "markdown",
   "id": "7569df41",
   "metadata": {
    "lang": "de",
    "lines_to_next_cell": 2,
    "slideshow": {
     "slide_type": "subslide"
    }
   },
   "source": [
    "\n",
    "## Mini-Workshop\n",
    "\n",
    "- Notebook `workshop_100_lists_part2`\n",
    "- Abschnitt \"Quadratzahlen\""
   ]
  },
  {
   "cell_type": "markdown",
   "id": "31fb22bb",
   "metadata": {
    "lang": "de",
    "slideshow": {
     "slide_type": "slide"
    }
   },
   "source": [
    "# Filtern von Listen"
   ]
  },
  {
   "cell_type": "code",
   "execution_count": null,
   "id": "776cd50c",
   "metadata": {
    "lines_to_next_cell": 2,
    "tags": [
     "code-along"
    ]
   },
   "outputs": [],
   "source": [
    "result = []\n",
    "for item in [1, 2, 3, 4, 5, 6]:\n",
    "    if item % 2 == 0:\n",
    "        result.append(item)\n",
    "result"
   ]
  },
  {
   "cell_type": "code",
   "execution_count": null,
   "id": "7f5e205b",
   "metadata": {
    "lines_to_next_cell": 2,
    "tags": [
     "code-along"
    ]
   },
   "outputs": [],
   "source": [
    "result = []\n",
    "for item in [\"abc\", \"def\", \"asd\", \"qwe\", \"bab\"]:\n",
    "    if \"ab\" in item:\n",
    "        result.append(item)\n",
    "result"
   ]
  },
  {
   "cell_type": "markdown",
   "id": "96e33e1f",
   "metadata": {
    "lang": "de",
    "slideshow": {
     "slide_type": "subslide"
    }
   },
   "source": [
    "\n",
    " ## Mini-Workshop\n",
    "\n",
    " - Notebook `workshop_100_lists_part2`\n",
    " - Abschnitt \"Filtern\"\n"
   ]
  },
  {
   "cell_type": "code",
   "execution_count": null,
   "id": "0d1bbe30",
   "metadata": {},
   "outputs": [],
   "source": []
  }
 ],
 "metadata": {
  "jupytext": {
   "cell_metadata_json": true,
   "encoding": "# -*- coding: utf-8 -*-",
   "formats": "ipynb"
  },
  "kernelspec": {
   "display_name": "Python 3 (ipykernel)",
   "language": "python",
   "name": "python3"
  }
 },
 "nbformat": 4,
 "nbformat_minor": 5
}
