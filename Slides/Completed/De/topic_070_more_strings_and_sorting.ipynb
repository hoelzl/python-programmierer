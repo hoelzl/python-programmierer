{
 "cells": [
  {
   "cell_type": "markdown",
   "id": "16b7d7cc",
   "metadata": {
    "lang": "de",
    "slideshow": {
     "slide_type": "slide"
    }
   },
   "source": [
    "<img src=\"img/python-logo-notext.svg\"\n",
    "     style=\"display:block;margin:auto;width:10%\"/>\n",
    "<br>\n",
    "<div style=\"text-align:center; font-size:200%;\"><b>Vertiefung zu Strings</b></div>\n",
    "<br/>\n",
    "<div style=\"text-align:center;\">Dr. Matthias Hölzl</div>"
   ]
  },
  {
   "cell_type": "markdown",
   "id": "a2cde48b",
   "metadata": {
    "lang": "de",
    "slideshow": {
     "slide_type": "slide"
    }
   },
   "source": [
    "# Vergleich von Strings"
   ]
  },
  {
   "cell_type": "code",
   "execution_count": null,
   "id": "284a8625",
   "metadata": {},
   "outputs": [],
   "source": [
    "\"a\" == \"a\""
   ]
  },
  {
   "cell_type": "code",
   "execution_count": null,
   "id": "2b73ab45",
   "metadata": {},
   "outputs": [],
   "source": [
    "\"A\" == \"a\""
   ]
  },
  {
   "cell_type": "code",
   "execution_count": null,
   "id": "316e9ed9",
   "metadata": {
    "slideshow": {
     "slide_type": "subslide"
    }
   },
   "outputs": [],
   "source": [
    "\"A\" < \"B\""
   ]
  },
  {
   "cell_type": "code",
   "execution_count": null,
   "id": "3e174a33",
   "metadata": {},
   "outputs": [],
   "source": [
    "\"A\" < \"a\""
   ]
  },
  {
   "cell_type": "code",
   "execution_count": null,
   "id": "1f84315a",
   "metadata": {},
   "outputs": [],
   "source": [
    "\"a\" < \"A\""
   ]
  },
  {
   "cell_type": "markdown",
   "id": "1abb6b07",
   "metadata": {
    "lang": "de",
    "slideshow": {
     "slide_type": "subslide"
    }
   },
   "source": [
    "Strings sind wie im Wörterbuch (lexikographisch) geordnet"
   ]
  },
  {
   "cell_type": "code",
   "execution_count": null,
   "id": "aa3bf90a",
   "metadata": {},
   "outputs": [],
   "source": [
    "\"ab\" < \"abc\""
   ]
  },
  {
   "cell_type": "code",
   "execution_count": null,
   "id": "82d3190e",
   "metadata": {},
   "outputs": [],
   "source": [
    "\"ab\" < \"ac\""
   ]
  },
  {
   "cell_type": "code",
   "execution_count": null,
   "id": "b6386ca2",
   "metadata": {},
   "outputs": [],
   "source": [
    "\"ab\" != \"ac\""
   ]
  },
  {
   "cell_type": "markdown",
   "id": "da2d700f",
   "metadata": {
    "lang": "de",
    "slideshow": {
     "slide_type": "subslide"
    }
   },
   "source": [
    "## Einschub: Sortieren von Listen/Iterables\n",
    "\n",
    "Mit der Funktion `sorted()` können iterables sortiert werden. Mit dem\n",
    "benannten Argument `key` kann eine Funktion angegeben werden, die bestimmt,\n",
    "wie die Sortierung erfolgt:"
   ]
  },
  {
   "cell_type": "code",
   "execution_count": null,
   "id": "dcc01a95",
   "metadata": {},
   "outputs": [],
   "source": [
    "numbers = [3, 8, -7, 1, 0, 2, -3, 3]"
   ]
  },
  {
   "cell_type": "code",
   "execution_count": null,
   "id": "fe3634df",
   "metadata": {
    "tags": [
     "code-along"
    ]
   },
   "outputs": [],
   "source": [
    "sorted(numbers)"
   ]
  },
  {
   "cell_type": "code",
   "execution_count": null,
   "id": "d6e576a8",
   "metadata": {
    "tags": [
     "code-along"
    ]
   },
   "outputs": [],
   "source": [
    "sorted(numbers, key=abs)"
   ]
  },
  {
   "cell_type": "code",
   "execution_count": null,
   "id": "8b649544",
   "metadata": {
    "slideshow": {
     "slide_type": "subslide"
    }
   },
   "outputs": [],
   "source": [
    "strings = [\"a\", \"ABC\", \"xy\", \"Asdfgh\", \"foo\", \"bar\", \"quux\"]"
   ]
  },
  {
   "cell_type": "code",
   "execution_count": null,
   "id": "80f1e972",
   "metadata": {
    "tags": [
     "code-along"
    ]
   },
   "outputs": [],
   "source": [
    "sorted(strings)"
   ]
  },
  {
   "cell_type": "code",
   "execution_count": null,
   "id": "b5bdbfcc",
   "metadata": {
    "tags": [
     "code-along"
    ]
   },
   "outputs": [],
   "source": [
    "def lower(my_string):\n",
    "    return my_string.lower()"
   ]
  },
  {
   "cell_type": "code",
   "execution_count": null,
   "id": "29704f37",
   "metadata": {
    "tags": [
     "code-along"
    ]
   },
   "outputs": [],
   "source": [
    "sorted(strings, key=lower)"
   ]
  },
  {
   "cell_type": "code",
   "execution_count": null,
   "id": "75d39881",
   "metadata": {
    "tags": [
     "code-along"
    ]
   },
   "outputs": [],
   "source": [
    "sorted(strings, key=len)"
   ]
  },
  {
   "cell_type": "markdown",
   "id": "d7ab5756",
   "metadata": {
    "lang": "de",
    "slideshow": {
     "slide_type": "slide"
    }
   },
   "source": [
    "\n",
    "## Vergleich von Unicode Strings\n",
    "\n",
    "Die eingebauten Vergleichsfunktionen sind nur für einfache (ASCII) Strings\n",
    "sinnvoll. Für Strings, die Unicode-Zeichen enthalten ist Sortieren/Vergleichen\n",
    "schwieriger.\n",
    "\n",
    "Das Standard Modul in Python ist `locale`; das auf die Locale-Settings des\n",
    "Betriebssystems zurückgreift:"
   ]
  },
  {
   "cell_type": "code",
   "execution_count": null,
   "id": "e0dfe235",
   "metadata": {
    "tags": [
     "code-along"
    ]
   },
   "outputs": [],
   "source": [
    "import locale\n",
    "\n",
    "locale.getlocale()"
   ]
  },
  {
   "cell_type": "code",
   "execution_count": null,
   "id": "37fdf63b",
   "metadata": {},
   "outputs": [],
   "source": [
    "my_strings = [\"o\", \"oa\", \"oe\", \"ö\", \"oz\", \"sa\", \"s\", \"ß\", \"ss\", \"sz\"]"
   ]
  },
  {
   "cell_type": "code",
   "execution_count": null,
   "id": "1f222259",
   "metadata": {
    "tags": [
     "code-along"
    ]
   },
   "outputs": [],
   "source": [
    "sorted(my_strings)"
   ]
  },
  {
   "cell_type": "code",
   "execution_count": null,
   "id": "2bb87759",
   "metadata": {
    "tags": [
     "code-along"
    ]
   },
   "outputs": [],
   "source": [
    "sorted(my_strings, key=locale.strxfrm)"
   ]
  },
  {
   "cell_type": "code",
   "execution_count": null,
   "id": "56625f5d",
   "metadata": {
    "incorrectly_encoded_metadata": "{\"slideshow\": {\"slide_type\": \"subslide\"}} tags=[\"code-along\"]"
   },
   "outputs": [],
   "source": [
    "locale.setlocale(locale.LC_COLLATE, \"de_DE.UTF-8\")"
   ]
  },
  {
   "cell_type": "code",
   "execution_count": null,
   "id": "e6923d8b",
   "metadata": {
    "tags": [
     "code-along"
    ]
   },
   "outputs": [],
   "source": [
    "sorted(my_strings, key=locale.strxfrm)"
   ]
  },
  {
   "cell_type": "code",
   "execution_count": null,
   "id": "b9c0dc34",
   "metadata": {
    "tags": [
     "code-along"
    ]
   },
   "outputs": [],
   "source": [
    "locale.setlocale(locale.LC_COLLATE, \"C\")"
   ]
  },
  {
   "cell_type": "code",
   "execution_count": null,
   "id": "f05f76fc",
   "metadata": {
    "tags": [
     "code-along"
    ]
   },
   "outputs": [],
   "source": [
    "sorted(my_strings, key=locale.strxfrm)"
   ]
  },
  {
   "cell_type": "markdown",
   "id": "ff300f2e",
   "metadata": {
    "lang": "de",
    "lines_to_next_cell": 2,
    "slideshow": {
     "slide_type": "subslide"
    }
   },
   "source": [
    "\n",
    "Die Locale Settings sind global pro Prozess und deshalb hauptsächlich geeignet\n",
    "um mit dem Benutzer zu interagieren.\n",
    "\n",
    "Wenn man mit Strings in verschiedenen Sprachen umgehen muss empfiehlt sich die\n",
    "Verwendung von Bibliotheken wie `PyUCA` (in Python geschrieben und daher\n",
    "leichter zu installieren) oder `PyICU` (vollständigere Implementierung der\n",
    "Unicode Spezifikation, basierend auf einer C++ Bibliothek)."
   ]
  },
  {
   "cell_type": "markdown",
   "id": "5ba9e0bd",
   "metadata": {
    "lang": "de",
    "slideshow": {
     "slide_type": "subslide"
    }
   },
   "source": [
    "## Umwandeln eines Strings in Groß-/Kleinbuchstaben"
   ]
  },
  {
   "cell_type": "code",
   "execution_count": null,
   "id": "6b13061e",
   "metadata": {
    "tags": [
     "code-along"
    ]
   },
   "outputs": [],
   "source": [
    "text = \"Das ist ein Text\"\n",
    "print(text.lower())\n",
    "print(text)"
   ]
  },
  {
   "cell_type": "code",
   "execution_count": null,
   "id": "19e4b5cb",
   "metadata": {
    "tags": [
     "code-along"
    ]
   },
   "outputs": [],
   "source": [
    "\"Das ist ein Text\".upper()"
   ]
  },
  {
   "cell_type": "markdown",
   "id": "32f2ff40",
   "metadata": {
    "lang": "de",
    "slideshow": {
     "slide_type": "subslide"
    }
   },
   "source": [
    "\n",
    "Die `lower()` Methode führt nicht immer die gewünschten Umwandlungen durch.\n",
    "Die `casefold` Methode is dafür manchmal nützlich:"
   ]
  },
  {
   "cell_type": "code",
   "execution_count": null,
   "id": "55c2b0b3",
   "metadata": {
    "tags": [
     "code-along"
    ]
   },
   "outputs": [],
   "source": [
    "s1 = \"daß er sehe\"\n",
    "s1.upper()"
   ]
  },
  {
   "cell_type": "code",
   "execution_count": null,
   "id": "d27746c6",
   "metadata": {
    "tags": [
     "code-along"
    ]
   },
   "outputs": [],
   "source": [
    "s1.lower()"
   ]
  },
  {
   "cell_type": "code",
   "execution_count": null,
   "id": "17c3a4f9",
   "metadata": {
    "tags": [
     "code-along"
    ]
   },
   "outputs": [],
   "source": [
    "s1.casefold()"
   ]
  },
  {
   "cell_type": "markdown",
   "id": "969446bc",
   "metadata": {
    "lang": "de",
    "lines_to_next_cell": 2,
    "slideshow": {
     "slide_type": "subslide"
    }
   },
   "source": [
    "## Mini-Workshop\n",
    "\n",
    "- Notebook `workshop_070_more_strings_and_sorting`\n",
    "- Abschnitt \"Shout\""
   ]
  },
  {
   "cell_type": "markdown",
   "id": "9d9fa9ed",
   "metadata": {
    "lang": "de",
    "slideshow": {
     "slide_type": "slide"
    }
   },
   "source": [
    "# Nochmal String Literale\n",
    "\n",
    "- String-Literale werden in einfache oder doppelte Anführungszeichen\n",
    "  eingeschlossen\n",
    "    - `\"Hello, world!\"`\n",
    "    - `'Hallo Welt!'`\n",
    "    - Welche Form man wählt spielt keine Rolle, außer man will\n",
    "      Anführungszeichen im String haben\n",
    "    - `\"Er sagt 'Huh?'\"`\n",
    "    - `'Sie antwortet: \"Genau.\"'`"
   ]
  },
  {
   "cell_type": "markdown",
   "id": "c3bab6c3",
   "metadata": {
    "lang": "de",
    "slideshow": {
     "slide_type": "subslide"
    }
   },
   "source": [
    "- String-Literale, können Unicode Zeichen enthalten:\n",
    "    - `\"おはようございます\"`\n",
    "    - `\"😠🙃🙄\"`"
   ]
  },
  {
   "cell_type": "code",
   "execution_count": null,
   "id": "4bf7ba32",
   "metadata": {},
   "outputs": [],
   "source": [
    "print(\"Er sagt 'Huh?'\")\n",
    "print('Sie antwortet: \"Genau.\"')\n",
    "print(\"おはようございます\")\n",
    "print(\"😠🙃🙄\")"
   ]
  },
  {
   "cell_type": "markdown",
   "id": "3bb88350",
   "metadata": {
    "lang": "de",
    "slideshow": {
     "slide_type": "subslide"
    }
   },
   "source": [
    "- Sonderzeichen können mit *Escape-Notation* angegeben werden:\n",
    "    - `\\n`, `\\t`, `\\\\`, `\\\"`, `\\'`, ...\n",
    "    - `\\u`, `\\U` für Unicode code points (16 bzw. 32 bit)\n",
    "    - `\\N{...}` für Unicode"
   ]
  },
  {
   "cell_type": "code",
   "execution_count": null,
   "id": "a7b31a09",
   "metadata": {},
   "outputs": [],
   "source": [
    "print(\"a\\tbc\\td\\n123\\t4\\t5\")"
   ]
  },
  {
   "cell_type": "code",
   "execution_count": null,
   "id": "81e93770",
   "metadata": {},
   "outputs": [],
   "source": [
    "print('\"Let\\'s go crazy\", she said')"
   ]
  },
  {
   "cell_type": "code",
   "execution_count": null,
   "id": "bb5fe3d7",
   "metadata": {},
   "outputs": [],
   "source": [
    "print(\"C:\\\\Users\\\\John\")"
   ]
  },
  {
   "cell_type": "code",
   "execution_count": null,
   "id": "a60b4f34",
   "metadata": {
    "slideshow": {
     "slide_type": "subslide"
    }
   },
   "outputs": [],
   "source": [
    "print(\"\\u0394 \\u03b1 \\t\\U000003b2 \\U000003b3\")\n",
    "print(\"\\U0001F62E \\U0001f61a \\U0001f630\")"
   ]
  },
  {
   "cell_type": "code",
   "execution_count": null,
   "id": "1541a909",
   "metadata": {},
   "outputs": [],
   "source": [
    "print(\"\\N{GREEK CAPITAL LETTER DELTA} \\N{GREEK SMALL LETTER ALPHA}\")\n",
    "print(\"\\N{smiling face with open mouth and smiling eyes} \\N{winking face}\")"
   ]
  },
  {
   "cell_type": "markdown",
   "id": "144535cf",
   "metadata": {
    "lang": "de",
    "slideshow": {
     "slide_type": "subslide"
    }
   },
   "source": [
    "- String Literale können auch in 3-fache Anführungszeichen eingeschlossen\n",
    "  werden\n",
    "- Diese Art von Literalen kann über mehrere Zeilen gehen"
   ]
  },
  {
   "cell_type": "code",
   "execution_count": null,
   "id": "fd016c9d",
   "metadata": {},
   "outputs": [],
   "source": [
    "\"\"\"Das ist\n",
    "ein String-Literal,\n",
    "das über mehrere\n",
    "Zeilen geht.\"\"\""
   ]
  },
  {
   "cell_type": "code",
   "execution_count": null,
   "id": "03106a52",
   "metadata": {},
   "outputs": [],
   "source": [
    "print(\n",
    "    \"\"\"Mit Backslash am Ende der Zeile \\\n",
    "kann der Zeilenvorschub unterdrückt werden.\"\"\"\n",
    ")"
   ]
  },
  {
   "cell_type": "markdown",
   "id": "e737183c",
   "metadata": {
    "lang": "de",
    "slideshow": {
     "slide_type": "slide"
    }
   },
   "source": [
    "## Konkatenation von Strings\n",
    "\n",
    "Mit `+` können Strings aneinandergehängt (konkateniert) werden:"
   ]
  },
  {
   "cell_type": "code",
   "execution_count": null,
   "id": "aea5cf6d",
   "metadata": {},
   "outputs": [],
   "source": [
    "\"Ein\" + \" \" + \"String\""
   ]
  },
  {
   "cell_type": "markdown",
   "id": "fa2971f5",
   "metadata": {
    "lang": "de",
    "slideshow": {
     "slide_type": "subslide"
    }
   },
   "source": [
    "Mit der `join()` Methode können mehrere Strings mit einem Trennzeichen (oder Trenn-String) zusammengefügt werden:"
   ]
  },
  {
   "cell_type": "code",
   "execution_count": null,
   "id": "c7bc7de9",
   "metadata": {},
   "outputs": [],
   "source": [
    "\" \".join([\"das\", \"sind\", \"mehrere\", \"strings\"])"
   ]
  },
  {
   "cell_type": "code",
   "execution_count": null,
   "id": "73a8d5d8",
   "metadata": {},
   "outputs": [],
   "source": [
    "\", \".join([\"Pferd\", \"Katze\", \"Hund\"])"
   ]
  },
  {
   "cell_type": "code",
   "execution_count": null,
   "id": "34a33a5f",
   "metadata": {},
   "outputs": [],
   "source": [
    "\"\".join([\"ab\", \"cde\", \"f\"])"
   ]
  },
  {
   "cell_type": "markdown",
   "id": "23b15cd0",
   "metadata": {
    "lang": "de",
    "slideshow": {
     "slide_type": "subslide"
    }
   },
   "source": [
    "## Mini-Workshop\n",
    "\n",
    "- Notebook `workshop_070_more_strings_and_sorting`\n",
    "- Abschnitt \"Begrüßung 1\""
   ]
  },
  {
   "cell_type": "markdown",
   "id": "77154dfb",
   "metadata": {
    "lang": "de",
    "slideshow": {
     "slide_type": "subslide"
    }
   },
   "source": [
    "\n",
    "## Nochmal Vergleich von Strings\n",
    "\n",
    "Um Strings mit Unicode-Zeichen zu vergleichen ist es zweckmäßig sie in\n",
    "Unicode-Normalform zu bringen."
   ]
  },
  {
   "cell_type": "code",
   "execution_count": null,
   "id": "f38b959a",
   "metadata": {},
   "outputs": [],
   "source": [
    "s1 = \"café\"\n",
    "s2 = \"cafe\\u0301\""
   ]
  },
  {
   "cell_type": "code",
   "execution_count": null,
   "id": "943139e7",
   "metadata": {
    "tags": [
     "code-along"
    ]
   },
   "outputs": [],
   "source": [
    "print(s1, s2)\n",
    "s1 == s2"
   ]
  },
  {
   "cell_type": "code",
   "execution_count": null,
   "id": "81c0a06a",
   "metadata": {
    "incorrectly_encoded_metadata": "{\"slideshow\": {\"slide_type\": \"subslide\"}} tags=[\"code-along\"]"
   },
   "outputs": [],
   "source": [
    "import unicodedata\n",
    "\n",
    "unicodedata.normalize(\"NFC\", s1) == s1"
   ]
  },
  {
   "cell_type": "code",
   "execution_count": null,
   "id": "be1e50b8",
   "metadata": {
    "tags": [
     "code-along"
    ]
   },
   "outputs": [],
   "source": [
    "unicodedata.normalize(\"NFC\", s2) == s1"
   ]
  },
  {
   "cell_type": "code",
   "execution_count": null,
   "id": "58af82d6",
   "metadata": {
    "lines_to_next_cell": 2,
    "tags": [
     "code-along"
    ]
   },
   "outputs": [],
   "source": [
    "unicodedata.normalize(\"NFD\", s1) == s2"
   ]
  },
  {
   "cell_type": "markdown",
   "id": "23b6d013",
   "metadata": {
    "lang": "de",
    "slideshow": {
     "slide_type": "slide"
    }
   },
   "source": [
    "# String Interpolation: F-Strings\n",
    "\n",
    "Python bietet die Möglichkeit, Werte von Variablen in Strings einzusetzen:"
   ]
  },
  {
   "cell_type": "code",
   "execution_count": null,
   "id": "82c41c8b",
   "metadata": {
    "tags": [
     "code-along"
    ]
   },
   "outputs": [],
   "source": [
    "name = \"Hans\"\n",
    "zahl = 12\n",
    "f\"Hallo, {name}, die Zahl ist {zahl + 1}\""
   ]
  },
  {
   "cell_type": "code",
   "execution_count": null,
   "id": "9b379cc0",
   "metadata": {
    "slideshow": {
     "slide_type": "subslide"
    }
   },
   "outputs": [],
   "source": [
    "spieler_name = \"Hans\"\n",
    "anzahl_spiele = 10\n",
    "anzahl_gewinne = 2\n",
    "\n",
    "ausgabe = f\"Hallo {spieler_name}!\\nSie haben {anzahl_spiele}-mal gespielt und dabei {anzahl_gewinne}-mal gewonnen.\"\n",
    "print(ausgabe)"
   ]
  },
  {
   "cell_type": "code",
   "execution_count": null,
   "id": "b615c974",
   "metadata": {
    "slideshow": {
     "slide_type": "subslide"
    }
   },
   "outputs": [],
   "source": [
    "ausgabe = f\"\"\"\\\n",
    "Hallo {spieler_name}!\n",
    "Sie haben {anzahl_spiele}-mal gespielt \\\n",
    "und dabei {anzahl_gewinne}-mal gewonnen.\\\n",
    "\"\"\"\n",
    "print(ausgabe)"
   ]
  },
  {
   "cell_type": "code",
   "execution_count": null,
   "id": "4e20ed4e",
   "metadata": {
    "slideshow": {
     "slide_type": "subslide"
    }
   },
   "outputs": [],
   "source": [
    "ausgabe = (\n",
    "    f\"Hallo {spieler_name}!\\n\"\n",
    "    f\"Sie haben {anzahl_spiele}-mal gespielt \"\n",
    "    f\"und dabei {anzahl_gewinne}-mal gewonnen.\"\n",
    ")\n",
    "print(ausgabe)"
   ]
  },
  {
   "cell_type": "markdown",
   "id": "5824fe15",
   "metadata": {
    "lang": "de",
    "slideshow": {
     "slide_type": "subslide"
    }
   },
   "source": [
    "## Mini-Workshop\n",
    "\n",
    "- Notebook `workshop_070_more_strings_and_sorting`\n",
    "- Abschnitt \"Begrüßung 2\""
   ]
  },
  {
   "cell_type": "markdown",
   "id": "936563c9",
   "metadata": {
    "lang": "de",
    "slideshow": {
     "slide_type": "subslide"
    }
   },
   "source": [
    "## Mini-Workshop\n",
    "\n",
    "- Notebook `workshop_070_more_strings_and_sorting`\n",
    "- Abschnitt \"Piraten 4\""
   ]
  },
  {
   "cell_type": "markdown",
   "id": "b2f8cad4",
   "metadata": {
    "lang": "de",
    "slideshow": {
     "slide_type": "slide"
    }
   },
   "source": [
    "## Finden in Strings\n",
    "\n",
    "Der `in` Operator funktioniert auch mit Strings als Argument. Um den Index\n",
    "eines Substrings in einem String zu finden kann man die `index()`-Methode\n",
    "verwenden."
   ]
  },
  {
   "cell_type": "code",
   "execution_count": null,
   "id": "1541cde8",
   "metadata": {
    "tags": [
     "code-along"
    ]
   },
   "outputs": [],
   "source": [
    "\"a\" in \"abc\""
   ]
  },
  {
   "cell_type": "code",
   "execution_count": null,
   "id": "1ae88dcf",
   "metadata": {
    "tags": [
     "code-along"
    ]
   },
   "outputs": [],
   "source": [
    "\"x\" not in \"abc\""
   ]
  },
  {
   "cell_type": "code",
   "execution_count": null,
   "id": "70ced133",
   "metadata": {
    "tags": [
     "code-along"
    ]
   },
   "outputs": [],
   "source": [
    "\"bc\" in \"abc\""
   ]
  },
  {
   "cell_type": "code",
   "execution_count": null,
   "id": "5ad9722a",
   "metadata": {
    "tags": [
     "code-along"
    ]
   },
   "outputs": [],
   "source": [
    "\"cb\" in \"abc\""
   ]
  },
  {
   "cell_type": "code",
   "execution_count": null,
   "id": "ece46b74",
   "metadata": {
    "tags": [
     "code-along"
    ]
   },
   "outputs": [],
   "source": [
    "\"Halloween\".index(\"Hallo\")"
   ]
  },
  {
   "cell_type": "code",
   "execution_count": null,
   "id": "0bb06f01",
   "metadata": {
    "tags": [
     "code-along"
    ]
   },
   "outputs": [],
   "source": [
    "\"Halloween\".index(\"we\")"
   ]
  },
  {
   "cell_type": "code",
   "execution_count": null,
   "id": "f4081bb7",
   "metadata": {
    "tags": [
     "code-along"
    ]
   },
   "outputs": [],
   "source": [
    "# \"Team\".index(\"I\")"
   ]
  },
  {
   "cell_type": "markdown",
   "id": "23279b80",
   "metadata": {
    "lang": "de",
    "slideshow": {
     "slide_type": "slide"
    }
   },
   "source": [
    "## Workshop\n",
    "\n",
    "- Notebook `lecture_920x_Workshop_Cäsar_Verschlüsselung`"
   ]
  },
  {
   "cell_type": "code",
   "execution_count": null,
   "id": "618ad692",
   "metadata": {},
   "outputs": [],
   "source": []
  }
 ],
 "metadata": {
  "jupytext": {
   "cell_metadata_json": true,
   "encoding": "# -*- coding: utf-8 -*-",
   "formats": "ipynb"
  },
  "kernelspec": {
   "display_name": "Python 3 (ipykernel)",
   "language": "python",
   "name": "python3"
  }
 },
 "nbformat": 4,
 "nbformat_minor": 5
}
