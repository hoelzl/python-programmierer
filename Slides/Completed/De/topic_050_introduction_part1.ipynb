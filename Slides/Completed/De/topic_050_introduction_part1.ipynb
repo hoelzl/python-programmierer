{
 "cells": [
  {
   "cell_type": "markdown",
   "id": "3ec21b1f",
   "metadata": {
    "lang": "de",
    "slideshow": {
     "slide_type": "slide"
    }
   },
   "source": [
    "<img src=\"img/python-logo-notext.svg\"\n",
    "     style=\"display:block;margin:auto;width:10%\"/>\n",
    "<br>\n",
    "<div style=\"text-align:center; font-size:200%;\"><b>Einführung in Python: Grundlagen Teil 1</b></div>\n",
    "<br/>\n",
    "<div style=\"text-align:center;\">Dr. Matthias Hölzl</div>"
   ]
  },
  {
   "cell_type": "markdown",
   "id": "b6958655",
   "metadata": {
    "lang": "de",
    "slideshow": {
     "slide_type": "slide"
    }
   },
   "source": [
    "# Woraus besteht ein Programm?\n",
    "\n",
    "Wir wollen ein Programm schreiben, das\n",
    "\n",
    "```\n",
    "Hello, world!\n",
    "```\n",
    "\n",
    "auf dem Bildschirm ausgibt.\n",
    "\n",
    "Was benötigen wir dazu?"
   ]
  },
  {
   "cell_type": "markdown",
   "id": "b82cecb3",
   "metadata": {
    "lang": "de",
    "slideshow": {
     "slide_type": "subslide"
    }
   },
   "source": [
    "Was benötigen wir dazu?\n",
    "\n",
    "- Daten\n",
    "    - den Text `Hello, world!`\n",
    "- Anweisungen\n",
    "    - *Gib den folgenden Text auf dem Bildschirm aus*\n",
    "- Kommentare\n",
    "    - Hinweise für den Programmierer, werden von Python ignoriert"
   ]
  },
  {
   "cell_type": "markdown",
   "id": "0248aab1",
   "metadata": {
    "lang": "de",
    "slideshow": {
     "slide_type": "subslide"
    }
   },
   "source": [
    "## Kommentare\n",
    "\n",
    "- `#` gefolgt von beliebigem Text\n",
    "- bis zum Ende der Zeile"
   ]
  },
  {
   "cell_type": "code",
   "execution_count": null,
   "id": "db1fc52e",
   "metadata": {
    "lines_to_next_cell": 2
   },
   "outputs": [],
   "source": [
    "# Das ist ein Kommentar.\n",
    "# Alle Zeilen in dieser Zelle werden\n",
    "# von Python ignoriert."
   ]
  },
  {
   "cell_type": "markdown",
   "id": "d65149cd",
   "metadata": {
    "lang": "de",
    "slideshow": {
     "slide_type": "subslide"
    }
   },
   "source": [
    "# Daten\n",
    "\n",
    "- Zahlen: `123`, `3.141592`\n",
    "- Text (Strings): `'Das ist ein Text'`, `\"Hello, world!\"`"
   ]
  },
  {
   "cell_type": "code",
   "execution_count": null,
   "id": "a562529a",
   "metadata": {
    "incorrectly_encoded_metadata": "{\"slideshow\": {\"slide_type\": \"subslide\"}} tags=[\"code-along\"]"
   },
   "outputs": [],
   "source": [
    "123"
   ]
  },
  {
   "cell_type": "code",
   "execution_count": null,
   "id": "af9a6df7",
   "metadata": {
    "tags": [
     "code-along"
    ]
   },
   "outputs": [],
   "source": [
    "3.141592"
   ]
  },
  {
   "cell_type": "code",
   "execution_count": null,
   "id": "9877f778",
   "metadata": {
    "incorrectly_encoded_metadata": "{\"slideshow\": {\"slide_type\": \"subslide\"}} tags=[\"code-along\"]"
   },
   "outputs": [],
   "source": [
    "\"Das ist ein Text\""
   ]
  },
  {
   "cell_type": "code",
   "execution_count": null,
   "id": "3eb41fa0",
   "metadata": {
    "tags": [
     "code-along"
    ]
   },
   "outputs": [],
   "source": [
    "'Hello, world!'"
   ]
  },
  {
   "cell_type": "code",
   "execution_count": null,
   "id": "d146bd92",
   "metadata": {
    "tags": [
     "code-along"
    ]
   },
   "outputs": [],
   "source": [
    "\"\"\"Auch ein Text. (Another text.)\n",
    "Der über mehrere Zeilen geht. (Spanning multiple lines.)\"\"\""
   ]
  },
  {
   "cell_type": "markdown",
   "id": "852f3d76",
   "metadata": {
    "lang": "de",
    "slideshow": {
     "slide_type": "subslide"
    }
   },
   "source": [
    "## Mini-Workshop\n",
    "\n",
    "- Notebook `workshop_050_introduction_part1`\n",
    "- Abschnitt \"Einleitung\""
   ]
  },
  {
   "cell_type": "markdown",
   "id": "cfba7681",
   "metadata": {
    "lang": "de",
    "slideshow": {
     "slide_type": "slide"
    }
   },
   "source": [
    "## Wiederholung: `print()`-Funktion\n",
    "\n",
    "Einer `print()`-Anweisung können mehrere Argumente übergeben werden.\n",
    "- Die Argumente werden durch Kommata getrennt\n",
    "- Alle Argumente werden in einer Zeile ausgegeben, mit Leerzeichen zwischen den Argumenten."
   ]
  },
  {
   "cell_type": "code",
   "execution_count": null,
   "id": "56db8ad3",
   "metadata": {
    "tags": [
     "code-along"
    ]
   },
   "outputs": [],
   "source": [
    "print(\"Der Wert von 1 + 1 ist\", 1 + 1, \".\")"
   ]
  },
  {
   "cell_type": "markdown",
   "id": "13179a64",
   "metadata": {
    "lang": "de",
    "slideshow": {
     "slide_type": "subslide"
    }
   },
   "source": [
    "Durch Angabe eines *benannten Arguments* `sep=''` kann die Ausgabe der\n",
    "Leerzeichen unterdrückt werden:"
   ]
  },
  {
   "cell_type": "code",
   "execution_count": null,
   "id": "37cb09e4",
   "metadata": {
    "tags": [
     "code-along"
    ]
   },
   "outputs": [],
   "source": [
    "print(\"Der Wert von 1 + 1 ist\", 1 + 1, \".\", sep=\"\")"
   ]
  },
  {
   "cell_type": "markdown",
   "id": "0eec7540",
   "metadata": {
    "lang": "de",
    "slideshow": {
     "slide_type": "subslide"
    }
   },
   "source": [
    "Es sind auch beliebige andere Strings als Wert des Arguments `sep` zulässig:"
   ]
  },
  {
   "cell_type": "code",
   "execution_count": null,
   "id": "d03ae90b",
   "metadata": {
    "tags": [
     "code-along"
    ]
   },
   "outputs": [],
   "source": [
    "# CSV (don't do this!)\n",
    "print(1, 3, 7.5, 2, sep=\",\")"
   ]
  },
  {
   "cell_type": "code",
   "execution_count": null,
   "id": "07d1219c",
   "metadata": {
    "tags": [
     "code-along"
    ]
   },
   "outputs": [],
   "source": [
    "# Uh, oh\n",
    "print(1, 3, 7.5, 2, \"who, me?\", sep=\",\")"
   ]
  },
  {
   "cell_type": "markdown",
   "id": "e22176f5",
   "metadata": {
    "lang": "de",
    "slideshow": {
     "slide_type": "slide"
    }
   },
   "source": [
    "# Zahlen und Mathematik\n",
    "\n",
    "- Ganze Zahlen: `1`, `837`, `-12`\n",
    "- Gleitkommazahlen: `0.5`, `123.4`, `-0.01`\n",
    "- Rechenoperationen:\n",
    "    - Addition: `+`\n",
    "    - Subtraktion: `-`\n",
    "    - Multiplikation: `*`\n",
    "    - Division: `/`"
   ]
  },
  {
   "cell_type": "markdown",
   "id": "7761bd17",
   "metadata": {
    "lang": "de",
    "slideshow": {
     "slide_type": "subslide"
    }
   },
   "source": [
    "## Python als Taschenrechner"
   ]
  },
  {
   "cell_type": "code",
   "execution_count": null,
   "id": "b2058d73",
   "metadata": {
    "tags": [
     "code-along"
    ]
   },
   "outputs": [],
   "source": [
    "17 + 4"
   ]
  },
  {
   "cell_type": "code",
   "execution_count": null,
   "id": "7480a26d",
   "metadata": {
    "tags": [
     "code-along"
    ]
   },
   "outputs": [],
   "source": [
    "1 + 4 * 4 + (3 - 1) * (1 + 1)"
   ]
  },
  {
   "cell_type": "markdown",
   "id": "47440f6d",
   "metadata": {
    "lang": "de",
    "slideshow": {
     "slide_type": "subslide"
    }
   },
   "source": [
    "## Arten von Zahlen\n",
    "\n",
    "- Python unterscheidet ganze Zahlen und Gleitkommazahlen:\n",
    "    - `1` ist eine ganze Zahl (`int`)\n",
    "    - `1.0` ist eine Gleitkommazahl (`float`)\n",
    "- Mit `type(...)` kann man den Typ des Arguments erfahren:"
   ]
  },
  {
   "cell_type": "code",
   "execution_count": null,
   "id": "5df20234",
   "metadata": {
    "incorrectly_encoded_metadata": "{\"slideshow\": {\"slide_type\": \"subslide\"}} tags=[\"code-along\"]"
   },
   "outputs": [],
   "source": [
    "type(1)"
   ]
  },
  {
   "cell_type": "code",
   "execution_count": null,
   "id": "e74470a3",
   "metadata": {
    "tags": [
     "code-along"
    ]
   },
   "outputs": [],
   "source": [
    "type(1.0)"
   ]
  },
  {
   "cell_type": "code",
   "execution_count": null,
   "id": "b3ac53b0",
   "metadata": {
    "tags": [
     "code-along"
    ]
   },
   "outputs": [],
   "source": [
    "type(\"1\")"
   ]
  },
  {
   "cell_type": "markdown",
   "id": "2f23b8f8",
   "metadata": {
    "lang": "de",
    "slideshow": {
     "slide_type": "subslide"
    }
   },
   "source": [
    "Ganze Zahlen in Python haben keine (praktisch relevante) Obergrenze:"
   ]
  },
  {
   "cell_type": "code",
   "execution_count": null,
   "id": "5431503b",
   "metadata": {
    "tags": [
     "code-along"
    ]
   },
   "outputs": [],
   "source": [
    "10000000000000000000000000000000000000000000000000 + 500"
   ]
  },
  {
   "cell_type": "code",
   "execution_count": null,
   "id": "276b45a8",
   "metadata": {
    "tags": [
     "code-along"
    ]
   },
   "outputs": [],
   "source": [
    "type(10000000000000000000000000000000000000000000000000)"
   ]
  },
  {
   "cell_type": "markdown",
   "id": "fd985ee2",
   "metadata": {
    "lang": "de",
    "slideshow": {
     "slide_type": "subslide"
    }
   },
   "source": [
    "## Mini-Workshop\n",
    "\n",
    "- Notebook `workshop_050_introduction_part1`\n",
    "- Abschnitt \"Zahlen und Mathematik\""
   ]
  },
  {
   "cell_type": "markdown",
   "id": "6f8dc5ce",
   "metadata": {
    "lang": "de",
    "slideshow": {
     "slide_type": "slide"
    }
   },
   "source": [
    "## Rechenoperationen\n",
    "\n",
    "| Operator | Operation            |\n",
    "|:--------:|:---------------------|\n",
    "| +        | Summe                |\n",
    "| -        | Differenz            |\n",
    "| *        | Multiplikation       |\n",
    "| /        | Division             |\n",
    "| **       | Potenz               |\n",
    "| %        | Modulo, Rest         |\n",
    "| //       | ganzzahlige Division |"
   ]
  },
  {
   "cell_type": "markdown",
   "id": "9e7456a7",
   "metadata": {
    "lang": "de",
    "slideshow": {
     "slide_type": "subslide"
    }
   },
   "source": [
    "### Division"
   ]
  },
  {
   "cell_type": "code",
   "execution_count": null,
   "id": "c2604b46",
   "metadata": {
    "tags": [
     "code-along"
    ]
   },
   "outputs": [],
   "source": [
    "4 / 2"
   ]
  },
  {
   "cell_type": "code",
   "execution_count": null,
   "id": "2b7567bc",
   "metadata": {
    "tags": [
     "code-along"
    ]
   },
   "outputs": [],
   "source": [
    "20 / 7"
   ]
  },
  {
   "cell_type": "code",
   "execution_count": null,
   "id": "1be7c1ab",
   "metadata": {
    "incorrectly_encoded_metadata": "{\"slideshow\": {\"slide_type\": \"subslide\"}} tags=[\"code-along\"]"
   },
   "outputs": [],
   "source": [
    "# // und % können zur Division mit Rest verwendet werden:\n",
    "20 // 7  # Wie oft geht 7 in 20?"
   ]
  },
  {
   "cell_type": "code",
   "execution_count": null,
   "id": "e13ae1fa",
   "metadata": {
    "tags": [
     "code-along"
    ]
   },
   "outputs": [],
   "source": [
    "20 % 7  # Welcher Rest bleibt dabei?"
   ]
  },
  {
   "cell_type": "code",
   "execution_count": null,
   "id": "ee7b7c37",
   "metadata": {
    "tags": [
     "code-along"
    ]
   },
   "outputs": [],
   "source": [
    "(20 // 7) * 7 + (20 % 7)"
   ]
  },
  {
   "cell_type": "markdown",
   "id": "a995f755",
   "metadata": {
    "lang": "de",
    "slideshow": {
     "slide_type": "subslide"
    }
   },
   "source": [
    "`/` ist links-assoziativ (genau wie `//`, `%`, `+`, `-`, `*`)"
   ]
  },
  {
   "cell_type": "code",
   "execution_count": null,
   "id": "bdd9c616",
   "metadata": {
    "tags": [
     "code-along"
    ]
   },
   "outputs": [],
   "source": [
    "20 / 5 / 2"
   ]
  },
  {
   "cell_type": "code",
   "execution_count": null,
   "id": "1f5df033",
   "metadata": {
    "tags": [
     "code-along"
    ]
   },
   "outputs": [],
   "source": [
    "# Besser:\n",
    "(20 / 5) / 2"
   ]
  },
  {
   "cell_type": "code",
   "execution_count": null,
   "id": "52c39945",
   "metadata": {
    "tags": [
     "code-along"
    ]
   },
   "outputs": [],
   "source": [
    "20 / (5 / 2)"
   ]
  },
  {
   "cell_type": "markdown",
   "id": "d703ceff",
   "metadata": {
    "lang": "de",
    "slideshow": {
     "slide_type": "subslide"
    }
   },
   "source": [
    "### Exponentiation (Potenz)"
   ]
  },
  {
   "cell_type": "code",
   "execution_count": null,
   "id": "13db6f92",
   "metadata": {
    "tags": [
     "code-along"
    ]
   },
   "outputs": [],
   "source": [
    "2**3"
   ]
  },
  {
   "cell_type": "code",
   "execution_count": null,
   "id": "f6c6ee0e",
   "metadata": {
    "tags": [
     "code-along"
    ]
   },
   "outputs": [],
   "source": [
    "2 * 2 * 2"
   ]
  },
  {
   "cell_type": "code",
   "execution_count": null,
   "id": "8f329ba4",
   "metadata": {
    "tags": [
     "code-along"
    ]
   },
   "outputs": [],
   "source": [
    "2**4"
   ]
  },
  {
   "cell_type": "code",
   "execution_count": null,
   "id": "2cf7414b",
   "metadata": {
    "tags": [
     "code-along"
    ]
   },
   "outputs": [],
   "source": [
    "2 * 2 * 2 * 2"
   ]
  },
  {
   "cell_type": "markdown",
   "id": "f3b642ac",
   "metadata": {
    "lang": "de",
    "slideshow": {
     "slide_type": "subslide"
    }
   },
   "source": [
    "`**` ist rechts-assoziativ\n",
    "\n",
    "$2^{(2^3)} = 2^8 = 256 \\qquad$\n",
    "$(2^2)^3 = 4^3 = 64$"
   ]
  },
  {
   "cell_type": "code",
   "execution_count": null,
   "id": "616c4d9a",
   "metadata": {
    "tags": [
     "code-along"
    ]
   },
   "outputs": [],
   "source": [
    "2**2**3"
   ]
  },
  {
   "cell_type": "code",
   "execution_count": null,
   "id": "78b1a503",
   "metadata": {
    "tags": [
     "code-along"
    ]
   },
   "outputs": [],
   "source": [
    "2 ** (2**3)"
   ]
  },
  {
   "cell_type": "code",
   "execution_count": null,
   "id": "6e9bf217",
   "metadata": {
    "tags": [
     "code-along"
    ]
   },
   "outputs": [],
   "source": [
    "(2**2) ** 3"
   ]
  },
  {
   "cell_type": "markdown",
   "id": "335ec6f7",
   "metadata": {
    "lang": "de",
    "slideshow": {
     "slide_type": "subslide"
    }
   },
   "source": [
    "Der `**` Operator kann auch zum Wurzelziehen verwendet werden:\n",
    "\n",
    "$\\sqrt{4} = 4^{1/2} = 2\\qquad$\n",
    "$\\sqrt{9} = 9^{1/2} = 3\\qquad$\n",
    "$\\sqrt{2} = 2^{1/2} \\approx 1.4142\\qquad$"
   ]
  },
  {
   "cell_type": "code",
   "execution_count": null,
   "id": "5cb73bd5",
   "metadata": {
    "tags": [
     "code-along"
    ]
   },
   "outputs": [],
   "source": [
    "4**0.5"
   ]
  },
  {
   "cell_type": "code",
   "execution_count": null,
   "id": "47e9339b",
   "metadata": {
    "tags": [
     "code-along"
    ]
   },
   "outputs": [],
   "source": [
    "9**0.5"
   ]
  },
  {
   "cell_type": "code",
   "execution_count": null,
   "id": "03f5cf6a",
   "metadata": {
    "tags": [
     "code-along"
    ]
   },
   "outputs": [],
   "source": [
    "2**0.5"
   ]
  },
  {
   "cell_type": "markdown",
   "id": "a068e09f",
   "metadata": {
    "lang": "de",
    "slideshow": {
     "slide_type": "slide"
    }
   },
   "source": [
    "# Variablen\n",
    "\n",
    "Wir wollen einen Zaun um unser neues Grundstück bauen.\n",
    "\n",
    "<img src=\"img/fence.svg\" style=\"display:block;margin:auto;width:50%\"/>"
   ]
  },
  {
   "cell_type": "markdown",
   "id": "24436768",
   "metadata": {
    "lang": "de",
    "slideshow": {
     "slide_type": "subslide"
    }
   },
   "source": [
    "<img src=\"img/fence.svg\" style=\"vertical-align:top;overflow:auto;float:right;width:25%\"/>\n",
    "\n",
    "Die gemessenen Längen sind:\n",
    "- Birkenweg: 20m\n",
    "- Fichtengasse: 30m\n",
    "\n",
    "Wie lange muss unser Zaun sein?"
   ]
  },
  {
   "cell_type": "code",
   "execution_count": null,
   "id": "b325ec6f",
   "metadata": {
    "tags": [
     "code-along"
    ]
   },
   "outputs": [],
   "source": [
    "20 + 30 + (20**2 + 30**2) ** 0.5"
   ]
  },
  {
   "cell_type": "markdown",
   "id": "08f9a03d",
   "metadata": {
    "lang": "de",
    "slideshow": {
     "slide_type": "subslide"
    }
   },
   "source": [
    "<img src=\"img/fence.svg\" style=\"vertical-align:top;overflow:auto;float:right;width:25%\"/>\n",
    "\n",
    "Es ist nicht klar, was die Zahlen in dem vorhergehenden Ausdruck bedeuten. Können wir das besser machen?"
   ]
  },
  {
   "cell_type": "code",
   "execution_count": null,
   "id": "454350c8",
   "metadata": {
    "tags": [
     "code-along"
    ]
   },
   "outputs": [],
   "source": [
    "länge_birkenweg = 20\n",
    "länge_fichtengasse = 30\n",
    "länge_hauptstr = (länge_birkenweg**2 + länge_fichtengasse**2) ** 0.5\n",
    "länge_gesamt = länge_birkenweg + länge_fichtengasse + länge_hauptstr\n",
    "ergebniss = länge_gesamt"
   ]
  },
  {
   "cell_type": "markdown",
   "id": "cd429f9a",
   "metadata": {
    "lang": "de",
    "slideshow": {
     "slide_type": "slide"
    }
   },
   "source": [
    "## Genauere Beschreibung von Variablen\n",
    "\n",
    "<img src=\"img/variables-01.svg\" style=\"float:right;margin:auto;width:50%\"/>\n",
    "\n",
    "Eine *Variable* ist\n",
    "- ein <span style=\"color:red;\">\"Verweis\"</span> auf ein \"Objekt\"\n",
    "- der einen <span style=\"color:red;\">Namen</span> hat.\n",
    "\n",
    "<span style=\"color:blue;\">Ein Objekt</span> kann von <span style=\"color:blue;\">mehreren Variablen</span><br/>\n",
    "referenziert werden!"
   ]
  },
  {
   "cell_type": "markdown",
   "id": "56e627bb",
   "metadata": {
    "lang": "de",
    "slideshow": {
     "slide_type": "subslide"
    }
   },
   "source": [
    "<img src=\"img/variables-01.svg\" style=\"float:right;margin:auto;width:50%\"/>\n",
    "\n",
    "Einve Variable wird\n",
    "- erzeugt durch `name = wert`\n",
    "- gelesen durch `name`\n",
    "- geändert durch `name = wert`\n",
    "\n",
    "Erzeugen und Ändern von Variablen<br/>\n",
    "sind *Anweisungen*."
   ]
  },
  {
   "cell_type": "code",
   "execution_count": null,
   "id": "d420ec76",
   "metadata": {
    "incorrectly_encoded_metadata": "{\"slideshow\": {\"slide_type\": \"subslide\"}} tags=[\"code-along\"]"
   },
   "outputs": [],
   "source": [
    "länge_birkenweg = 20\n",
    "print(länge_birkenweg)\n",
    "länge_birkenweg = 25\n",
    "print(länge_birkenweg)"
   ]
  },
  {
   "cell_type": "markdown",
   "id": "48ed0901",
   "metadata": {
    "lang": "de",
    "slideshow": {
     "slide_type": "slide"
    }
   },
   "source": [
    "## Eigenschaften von Variablen in Python\n",
    "\n",
    "- Eine Variable kann Werte mit beliebigem Datentyp speichern\n",
    "    - Es gibt keine `int`-Variablen, etc.\n",
    "    - Man sagt: Python ist dynamisch getypt\n",
    "- Variablen müssen erzeugt worden sein, bevor sie verwendet werden\n",
    "- Man kann Variablen neue Werte zuweisen\n",
    "    - Dabei kann der *alte Wert* der Variablen auf der rechten Seite verwendet werden:<br/> `jobs = jobs + 1`"
   ]
  },
  {
   "cell_type": "code",
   "execution_count": null,
   "id": "e7905bbf",
   "metadata": {
    "incorrectly_encoded_metadata": "{\"slideshow\": {\"slide_type\": \"subslide\"}} tags=[\"code-along\"]"
   },
   "outputs": [],
   "source": [
    "x = \"Hallo!\"\n",
    "print(x)\n",
    "x = 123\n",
    "print(x)\n",
    "x = x + 1\n",
    "print(x)\n",
    "x += 1\n",
    "print(x)"
   ]
  },
  {
   "cell_type": "code",
   "execution_count": null,
   "id": "46a326a2",
   "metadata": {
    "incorrectly_encoded_metadata": "{\"slideshow\": {\"slide_type\": \"subslide\"}} tags=[\"code-along\"]",
    "lines_to_next_cell": 2
   },
   "outputs": [],
   "source": [
    "# print(diese_variable_gibt_es_nicht)"
   ]
  },
  {
   "cell_type": "code",
   "execution_count": null,
   "id": "638f13ce",
   "metadata": {
    "lines_to_next_cell": 2,
    "tags": [
     "code-along"
    ]
   },
   "outputs": [],
   "source": [
    "# nonono = nonono + 1"
   ]
  },
  {
   "cell_type": "markdown",
   "id": "68cd84d6",
   "metadata": {
    "lang": "de",
    "slideshow": {
     "slide_type": "slide"
    }
   },
   "source": [
    "## Variablennamen in Python\n",
    "\n",
    "- Fangen mit einem Buchstaben oder Unterstrich `_` an\n",
    "    - Umlaute gelten auch als Buchstaben\n",
    "- Können Ziffern, Buchstaben und Unterstriche `_` enthalten\n",
    "- Können viele andere Unicode-Zeichen enthalten\n",
    "    - Es ist aber meist besser, das zu vermeiden...\n",
    "- Groß- und Kleinschreibung wird unterschieden\n",
    "    - `A` ist eine andere Variable als `a`\n"
   ]
  },
  {
   "cell_type": "markdown",
   "id": "dbf826dc",
   "metadata": {
    "lang": "de",
    "slideshow": {
     "slide_type": "subslide"
    }
   },
   "source": [
    "### Stil\n",
    "\n",
    "- Variablennamen werden klein geschrieben\n",
    "    - Außer konstanten Variablen: `CONSTANT_VAR`\n",
    "- Bestandteile werden durch Unterstriche `_` getrennt\n",
    "    - Dieser Stil nennt sich Snake-Case\n",
    "- Variablen, die mit zwei Unterstrichen anfangen und aufhören haben\n",
    "  typischerweise eine spezielle Bedeutung (*Dunders*):\n",
    "    - `__class__`, `__name__`\n",
    "    - Normale benutzerdefinierte Variablen sollten nicht als Dunders benannt\n",
    "      werden"
   ]
  },
  {
   "cell_type": "code",
   "execution_count": null,
   "id": "3206bc5d",
   "metadata": {
    "incorrectly_encoded_metadata": "{\"slideshow\": {\"slide_type\": \"subslide\"}} tags=[\"code-along\"]"
   },
   "outputs": [],
   "source": [
    "print(__name__)\n",
    "print(type(__name__))"
   ]
  },
  {
   "cell_type": "code",
   "execution_count": null,
   "id": "e6c2e23f",
   "metadata": {
    "tags": [
     "code-along"
    ]
   },
   "outputs": [],
   "source": [
    "# Bitte nicht nachmachen, obwohl es möglich ist/ Don't do this:\n",
    "__my_var__ = 123"
   ]
  },
  {
   "cell_type": "code",
   "execution_count": null,
   "id": "2aacd2e1",
   "metadata": {
    "tags": [
     "code-along"
    ]
   },
   "outputs": [],
   "source": [
    "__my_var__"
   ]
  },
  {
   "cell_type": "markdown",
   "id": "051f59d7",
   "metadata": {
    "lang": "de",
    "slideshow": {
     "slide_type": "subslide"
    }
   },
   "source": [
    "- Manchmal werden \"private\" Variablen mit einem führenden Unterstrich\n",
    "  geschrieben: `_my_var`\n",
    "    - Das ist (für globale Variablen) besonders in älterem Code verbreitet\n",
    "    - In Klassen gibt es weitere Konventionen\n",
    "- Die meisten Python-Projekte folgen den Konventionen in\n",
    "  [PEP 8](https://www.python.org/dev/peps/pep-0008/#naming-conventions)"
   ]
  },
  {
   "cell_type": "code",
   "execution_count": null,
   "id": "58911682",
   "metadata": {
    "tags": [
     "code-along"
    ]
   },
   "outputs": [],
   "source": [
    "_my_var = 234"
   ]
  },
  {
   "cell_type": "code",
   "execution_count": null,
   "id": "c4704af8",
   "metadata": {
    "tags": [
     "code-along"
    ]
   },
   "outputs": [],
   "source": [
    "_my_var"
   ]
  },
  {
   "cell_type": "code",
   "execution_count": null,
   "id": "b30e1b30",
   "metadata": {
    "slideshow": {
     "slide_type": "subslide"
    }
   },
   "outputs": [],
   "source": [
    "variable_1 = 123\n",
    "VARIABLE_1 = 234\n",
    "Variable_1 = 345\n",
    "variablE_1 = 456"
   ]
  },
  {
   "cell_type": "code",
   "execution_count": null,
   "id": "4f9a2cd6",
   "metadata": {},
   "outputs": [],
   "source": [
    "print(variable_1)\n",
    "print(VARIABLE_1)\n",
    "print(Variable_1)\n",
    "print(variablE_1)"
   ]
  },
  {
   "cell_type": "code",
   "execution_count": null,
   "id": "2ca1d1d4",
   "metadata": {
    "incorrectly_encoded_metadata": "{\"slideshow\": {\"slide_type\": \"subslide\"}} tags=[\"code-along\"]"
   },
   "outputs": [],
   "source": [
    "_my_var = 1\n",
    "print(_my_var)\n",
    "_my_var = _my_var + 5\n",
    "print(_my_var)"
   ]
  },
  {
   "cell_type": "code",
   "execution_count": null,
   "id": "e99ebde8",
   "metadata": {
    "slideshow": {
     "slide_type": "subslide"
    }
   },
   "outputs": [],
   "source": [
    "größenmaßstäbe_der_fußgängerübergänge = 0.3\n",
    "größenmaßstäbe_der_fußgängerübergänge"
   ]
  },
  {
   "cell_type": "code",
   "execution_count": null,
   "id": "da9ea62a",
   "metadata": {
    "lines_to_next_cell": 2
   },
   "outputs": [],
   "source": [
    "# me@foo = 1"
   ]
  },
  {
   "cell_type": "code",
   "execution_count": null,
   "id": "e14accfe",
   "metadata": {
    "lines_to_next_cell": 2,
    "slideshow": {
     "slide_type": "subslide"
    }
   },
   "outputs": [],
   "source": [
    "α = 0.2\n",
    "β = 0.7\n",
    "γ = α**2 + 3 * β**2\n",
    "print(γ)\n",
    "αβγ = α * β * γ\n",
    "print(αβγ)\n",
    "Σ = 1 + 2 + 3\n",
    "print(Σ)\n",
    "# ∑ = 1 + 2 + 3 # Unzulässig!"
   ]
  },
  {
   "cell_type": "markdown",
   "id": "53b356b7",
   "metadata": {
    "lang": "de",
    "slideshow": {
     "slide_type": "subslide"
    }
   },
   "source": [
    "## Mini-Workshop\n",
    "\n",
    "- Notebook `workshop_050_introduction_part1`\n",
    "- Abschnitt \"Piraten\""
   ]
  },
  {
   "cell_type": "markdown",
   "id": "100ff445",
   "metadata": {
    "lang": "de",
    "slideshow": {
     "slide_type": "slide"
    }
   },
   "source": [
    "## Zuweisung an mehrere Variablen\n",
    "\n",
    "In Python können mehrere Variablen gleichzeitig definiert bzw. mit neuen\n",
    "Werten versehen werden:"
   ]
  },
  {
   "cell_type": "code",
   "execution_count": 1,
   "id": "b0fcf94d",
   "metadata": {
    "tags": [
     "code-along"
    ]
   },
   "outputs": [
    {
     "name": "stdout",
     "output_type": "stream",
     "text": [
      "1\n",
      "2\n"
     ]
    }
   ],
   "source": [
    "a, b = 1, 2\n",
    "print(a)\n",
    "print(b)"
   ]
  },
  {
   "cell_type": "markdown",
   "id": "1da9013a",
   "metadata": {
    "lang": "de",
    "slideshow": {
     "slide_type": "slide"
    }
   },
   "source": [
    "# Funktionen\n",
    "\n",
    "Wir haben eine Firma zum Einzäunen dreieckiger Grundstücke gegründet.\n",
    "\n",
    "Für jedes von Straßen $A$, $B$ und $C$ begrenze Grundstück berechnen wir:"
   ]
  },
  {
   "cell_type": "code",
   "execution_count": null,
   "id": "6c8affc3",
   "metadata": {},
   "outputs": [],
   "source": [
    "länge_a = 10  # Beispielwert\n",
    "länge_b = 40  # Beispielwert\n",
    "länge_c = (länge_a**2 + länge_b**2) ** 0.5\n",
    "länge_gesamt = länge_a + länge_b + länge_c\n",
    "print(länge_gesamt)"
   ]
  },
  {
   "cell_type": "markdown",
   "id": "e374f847",
   "metadata": {
    "lang": "de"
   },
   "source": [
    "Können wir das etwas eleganter gestalten?"
   ]
  },
  {
   "cell_type": "markdown",
   "id": "b2b2037e",
   "metadata": {
    "lang": "de",
    "slideshow": {
     "slide_type": "subslide"
    }
   },
   "source": [
    "## Satz von Pythagoras\n",
    "\n",
    "Wir berechnen die Länge von $C$ aus $A$ und $B$ immer nach dem Satz von\n",
    "Pythagoras: $C = \\sqrt{A^2 + B^2}$.\n",
    "\n",
    "Das können wir in Python durch eine *Funktion* ausdrücken:"
   ]
  },
  {
   "cell_type": "code",
   "execution_count": null,
   "id": "489e66be",
   "metadata": {
    "incorrectly_encoded_metadata": "{\"slideshow\": {\"slide_type\": \"subslide\"}} tags=[\"code-along\"]"
   },
   "outputs": [],
   "source": [
    "def pythagoras(a, b):\n",
    "    c = (a**2 + b**2) ** 0.5\n",
    "    return c"
   ]
  },
  {
   "cell_type": "code",
   "execution_count": null,
   "id": "e8a435a8",
   "metadata": {
    "tags": [
     "code-along"
    ]
   },
   "outputs": [],
   "source": [
    "pythagoras(3, 4)"
   ]
  },
  {
   "cell_type": "code",
   "execution_count": null,
   "id": "841b203f",
   "metadata": {
    "tags": [
     "code-along"
    ]
   },
   "outputs": [],
   "source": [
    "pythagoras(1, 1)"
   ]
  },
  {
   "cell_type": "markdown",
   "id": "4ec5c749",
   "metadata": {
    "lang": "de",
    "slideshow": {
     "slide_type": "slide"
    }
   },
   "source": [
    "## Funktionsdefinition\n",
    "- Schlüsselwort `def`\n",
    "- Name der Funktion\n",
    "- Parameter der Funktion, in Klammern; Doppelpunkt\n",
    "- Rumpf der Funktion, einen Tabulator eingerückt\n",
    "- Im Rumpf können die Parameter wie Variablen verwendet werden\n",
    "- Schlüsselwort `return`\n",
    "    - Beendet die Funktion\n",
    "    - Bestimmt welcher Wert zurückgegeben wird"
   ]
  },
  {
   "cell_type": "code",
   "execution_count": null,
   "id": "251abddb",
   "metadata": {
    "incorrectly_encoded_metadata": "{\"slideshow\": {\"slide_type\": \"subslide\"}} tags=[\"code-along\"]"
   },
   "outputs": [],
   "source": [
    "def pythagoras(a, b):\n",
    "    quadratsumme = a**2 + b**2\n",
    "    # We can compute (part of) the return value here\n",
    "    return quadratsumme**0.5"
   ]
  },
  {
   "cell_type": "markdown",
   "id": "b2cf49eb",
   "metadata": {
    "lang": "de",
    "slideshow": {
     "slide_type": "slide"
    }
   },
   "source": [
    "## Funktionsaufruf\n",
    "\n",
    "- Name der Funktion\n",
    "- Argumente des Aufrufs, in Klammern\n",
    "- Ein Argument für jeden Parameter"
   ]
  },
  {
   "cell_type": "code",
   "execution_count": null,
   "id": "cb3736f1",
   "metadata": {
    "tags": [
     "code-along"
    ]
   },
   "outputs": [],
   "source": [
    "pythagoras(3, 4)"
   ]
  },
  {
   "cell_type": "markdown",
   "id": "ff2cb7a9",
   "metadata": {
    "lang": "de",
    "slideshow": {
     "slide_type": "subslide"
    }
   },
   "source": [
    "## Zurück zur Zaunlänge\n",
    "\n",
    "- Wir haben bis jetzt die Länge der dritten Seite unseres Grundstücks berechnet.\n",
    "- Wir brauchen noch eine Funktion, die die Gesamtlänge ausrechnet:"
   ]
  },
  {
   "cell_type": "code",
   "execution_count": null,
   "id": "4ec5a937",
   "metadata": {
    "tags": [
     "code-along"
    ]
   },
   "outputs": [],
   "source": [
    "def gesamtlänge(x, y):\n",
    "    z = pythagoras(x, y)\n",
    "    länge = x + y + z\n",
    "    return länge"
   ]
  },
  {
   "cell_type": "markdown",
   "id": "c85ea91f",
   "metadata": {
    "lang": "de",
    "slideshow": {
     "slide_type": "subslide"
    }
   },
   "source": [
    "Damit können wir unser Problem vereinfachen:"
   ]
  },
  {
   "cell_type": "code",
   "execution_count": null,
   "id": "9521fbb5",
   "metadata": {
    "tags": [
     "code-along"
    ]
   },
   "outputs": [],
   "source": [
    "länge_a = 10  # Beispielwert\n",
    "länge_b = 40  # Beispielwert\n",
    "print(gesamtlänge(länge_a, länge_b))"
   ]
  },
  {
   "cell_type": "markdown",
   "id": "5dce712e",
   "metadata": {
    "lang": "de",
    "slideshow": {
     "slide_type": "subslide"
    }
   },
   "source": [
    "## Mini-Workshop\n",
    "\n",
    "- Notebook `workshop_050_introduction_part1`\n",
    "- Abschnitt \"Spenden\"\n"
   ]
  },
  {
   "cell_type": "markdown",
   "id": "f184975f",
   "metadata": {
    "lang": "de",
    "slideshow": {
     "slide_type": "slide"
    }
   },
   "source": [
    "## Import von Modulen\n",
    "\n",
    "Ein Großteil der Funktionalität von Python ist nicht direkt im Interpreter\n",
    "verfügbar sonder in Module (und Packages) ausgelagert. Mit der `import`\n",
    "Anweisung kann man dises Funktionalität verfügbar machen:"
   ]
  },
  {
   "cell_type": "code",
   "execution_count": null,
   "id": "1507797a",
   "metadata": {
    "tags": [
     "code-along"
    ]
   },
   "outputs": [],
   "source": [
    "import math"
   ]
  },
  {
   "cell_type": "markdown",
   "id": "fc4893b1",
   "metadata": {
    "incorrectly_encoded_metadata": "{\"slideshow\": {\"slide_type\": \"subslide\"}} tags=[\"code-along\"]",
    "lang": "de"
   },
   "source": [
    "Auf die Funktionen aus dem `math` Modul kann man dann mit der Syntax\n",
    "`math.floor` zugreifen:"
   ]
  },
  {
   "cell_type": "code",
   "execution_count": null,
   "id": "8fd35f67",
   "metadata": {
    "tags": [
     "code-along"
    ]
   },
   "outputs": [],
   "source": [
    "math.floor(2.5)"
   ]
  },
  {
   "cell_type": "code",
   "execution_count": null,
   "id": "170f52bb",
   "metadata": {
    "tags": [
     "code-along"
    ]
   },
   "outputs": [],
   "source": [
    "math.floor(2.9)"
   ]
  },
  {
   "cell_type": "markdown",
   "id": "94094cad",
   "metadata": {
    "incorrectly_encoded_metadata": "{\"slideshow\": {\"slide_type\": \"subslide\"}} tags=[\"code-along\"]",
    "lang": "de"
   },
   "source": [
    "Die Funktion `pythagoras` steht im `math`-Modul unter dem Namen `hypot`\n",
    "zur Verfügung:"
   ]
  },
  {
   "cell_type": "code",
   "execution_count": null,
   "id": "29238851",
   "metadata": {
    "tags": [
     "code-along"
    ]
   },
   "outputs": [],
   "source": [
    "math.hypot(3, 4)"
   ]
  },
  {
   "cell_type": "markdown",
   "id": "6c34482a",
   "metadata": {
    "lang": "de",
    "slideshow": {
     "slide_type": "subslide"
    }
   },
   "source": [
    "Damit können wir die Funktion `gesamtlänge` ohne die Hilfsfunktion\n",
    "`pythagoras` schreiben:"
   ]
  },
  {
   "cell_type": "code",
   "execution_count": null,
   "id": "c583cbd6",
   "metadata": {
    "tags": [
     "code-along"
    ]
   },
   "outputs": [],
   "source": [
    "def gesamtlänge(x, y):\n",
    "    z = math.hypot(x, y)\n",
    "    länge = x + y + z\n",
    "    return länge"
   ]
  },
  {
   "cell_type": "code",
   "execution_count": null,
   "id": "277803fb",
   "metadata": {
    "tags": [
     "code-along"
    ]
   },
   "outputs": [],
   "source": [
    "gesamtlänge(3, 4)"
   ]
  },
  {
   "cell_type": "markdown",
   "id": "be880a96",
   "metadata": {
    "lang": "de",
    "slideshow": {
     "slide_type": "slide"
    }
   },
   "source": [
    "## Andere Arten von Zahlen\n",
    "\n",
    "Python bietet noch weitere Arten von Zahlen für spezielle Anwendungen\n",
    "\n",
    "- Dezimalzahlen mit beliebiger Genauigkeit\n",
    "- Komplexe Zahlen\n",
    "- Ganze Zahlen mit fixer Größe (z.B. mit `numpy`)\n",
    "- Gleitkommazahlen mit unterschiedlicher Größe (`numpy`)"
   ]
  },
  {
   "cell_type": "code",
   "execution_count": null,
   "id": "bf0ccaa8",
   "metadata": {
    "incorrectly_encoded_metadata": "{\"slideshow\": {\"slide_type\": \"subslide\"}} tags=[\"code-along\"]"
   },
   "outputs": [],
   "source": [
    "1.1 * 100"
   ]
  },
  {
   "cell_type": "code",
   "execution_count": null,
   "id": "07873543",
   "metadata": {
    "tags": [
     "code-along"
    ]
   },
   "outputs": [],
   "source": [
    "import decimal\n",
    "\n",
    "decimal.Decimal(\"1.1\") * 100"
   ]
  },
  {
   "cell_type": "code",
   "execution_count": null,
   "id": "b577c3fa",
   "metadata": {
    "incorrectly_encoded_metadata": "{\"slideshow\": {\"slide_type\": \"subslide\"}} tags=[\"code-along\"]"
   },
   "outputs": [],
   "source": [
    "(1 + 1j) * (1 + 1j)"
   ]
  },
  {
   "cell_type": "code",
   "execution_count": null,
   "id": "66937d75",
   "metadata": {
    "tags": [
     "code-along"
    ]
   },
   "outputs": [],
   "source": [
    "1j * 1j"
   ]
  },
  {
   "cell_type": "markdown",
   "id": "0250c526",
   "metadata": {
    "lang": "de",
    "slideshow": {
     "slide_type": "slide"
    }
   },
   "source": [
    "## Funktionen ohne Argumente\n",
    "\n",
    "- Eine Funktion kann auch ohne formale Parameter definiert werden.\n",
    "- Sowohl bei der Definition, als auch beim Aufruf müssen die Klammern\n",
    "  trotzdem angegeben werden."
   ]
  },
  {
   "cell_type": "code",
   "execution_count": null,
   "id": "0b00df27",
   "metadata": {
    "incorrectly_encoded_metadata": "{\"slideshow\": {\"slide_type\": \"subslide\"}} tags=[\"code-along\"]"
   },
   "outputs": [],
   "source": [
    "def null():\n",
    "    return 0"
   ]
  },
  {
   "cell_type": "code",
   "execution_count": null,
   "id": "95c95d65",
   "metadata": {
    "tags": [
     "code-along"
    ]
   },
   "outputs": [],
   "source": [
    "null()"
   ]
  },
  {
   "cell_type": "code",
   "execution_count": null,
   "id": "d14ab11d",
   "metadata": {
    "tags": [
     "code-along"
    ]
   },
   "outputs": [],
   "source": [
    "# Fehler: 'Aufruf' ohne Klammern\n",
    "null"
   ]
  },
  {
   "cell_type": "code",
   "execution_count": null,
   "id": "9ff1b108",
   "metadata": {
    "lines_to_next_cell": 2,
    "tags": [
     "code-along"
    ]
   },
   "outputs": [],
   "source": [
    "# Fehler: 'Aufruf' ohne Klammern\n",
    "# plus_eins(null)"
   ]
  },
  {
   "cell_type": "markdown",
   "id": "65bf2fa6",
   "metadata": {
    "lang": "de",
    "slideshow": {
     "slide_type": "slide"
    }
   },
   "source": [
    "# Funktionen mit Seiteneffekten\n",
    "\n",
    "Funktionene können\n",
    "\n",
    "- Werte berechnen: `quadratsumme(3, 4)`\n",
    "- Seiteneffekte haben: `print(\"Hans\")`"
   ]
  },
  {
   "cell_type": "code",
   "execution_count": null,
   "id": "7da14eda",
   "metadata": {
    "tags": [
     "code-along"
    ]
   },
   "outputs": [],
   "source": [
    "type(print(\"Hans\"))"
   ]
  },
  {
   "cell_type": "markdown",
   "id": "4e1e193e",
   "metadata": {
    "lang": "de",
    "slideshow": {
     "slide_type": "subslide"
    }
   },
   "source": [
    "### Der Wert `None`\n",
    "\n",
    "Der Rückgabewert der Funktion `print()` ist der spezielle Wert `None`.\n",
    "- Jupyter druckt `None` nicht als Wert einer Zelle aus:"
   ]
  },
  {
   "cell_type": "code",
   "execution_count": null,
   "id": "fbab5920",
   "metadata": {
    "tags": [
     "code-along"
    ]
   },
   "outputs": [],
   "source": [
    "None"
   ]
  },
  {
   "cell_type": "code",
   "execution_count": null,
   "id": "f278f1fc",
   "metadata": {
    "tags": [
     "code-along"
    ]
   },
   "outputs": [],
   "source": [
    "print(None)"
   ]
  },
  {
   "cell_type": "code",
   "execution_count": null,
   "id": "77da2e09",
   "metadata": {
    "tags": [
     "code-along"
    ]
   },
   "outputs": [],
   "source": [
    "print(print(\"Hans\"))"
   ]
  },
  {
   "cell_type": "markdown",
   "id": "2b53850a",
   "metadata": {
    "lang": "de",
    "slideshow": {
     "slide_type": "subslide"
    }
   },
   "source": [
    "- Funktionen können Seiteneffekte haben\n",
    "    - Z.B. durch Aufruf von `print`\n",
    "- Diese werden ausgeführt, wenn ein Funktionsaufruf ausgewertet wird\n",
    "- Auch Funktionen mit Seiteneffekten geben einen Wert zurück\n",
    "    - Oft ist das der spezielle Wert `None`\n",
    "    - Wenn eine Funktion `None` zurückgibt brauchen wir keine explizite `return`-Anweisung"
   ]
  },
  {
   "cell_type": "code",
   "execution_count": null,
   "id": "1eb3340c",
   "metadata": {
    "incorrectly_encoded_metadata": "{\"slideshow\": {\"slide_type\": \"subslide\"}} tags=[\"code-along\"]"
   },
   "outputs": [],
   "source": [
    "def say_hello():\n",
    "    print(\"Hello, world!\")\n",
    "    print(\"Today is a great day!\")"
   ]
  },
  {
   "cell_type": "code",
   "execution_count": null,
   "id": "5b57833f",
   "metadata": {
    "tags": [
     "code-along"
    ]
   },
   "outputs": [],
   "source": [
    "say_hello()"
   ]
  },
  {
   "cell_type": "markdown",
   "id": "efcb0760",
   "metadata": {
    "lang": "de",
    "slideshow": {
     "slide_type": "subslide"
    }
   },
   "source": [
    "## Mini-Workshop\n",
    "\n",
    "- Notebook `workshop_050_introduction_part1`\n",
    "- Abschnitt \"Piraten, Teil 2\"\n"
   ]
  },
  {
   "cell_type": "markdown",
   "id": "c07248cc",
   "metadata": {
    "lang": "de",
    "slideshow": {
     "slide_type": "slide"
    }
   },
   "source": [
    "## Default-Argumente\n",
    "\n",
    "Funktionsparameter können einen Default-Wert haben.\n",
    "- Der Default-Wert wird mit der Syntax `parameter=wert` angegeben\n",
    "- Wird das entsprechende Argument nicht übergeben so wird der Default-Wert eingesetzt\n",
    "- Hat ein Parameter einen Default-Wert, so müssen alle rechts davon stehenden Werte ebenfalls einen haben"
   ]
  },
  {
   "cell_type": "code",
   "execution_count": null,
   "id": "352ef00d",
   "metadata": {
    "incorrectly_encoded_metadata": "{\"slideshow\": {\"slide_type\": \"subslide\"}} tags=[\"code-along\"]"
   },
   "outputs": [],
   "source": [
    "def add_weighted(a, b=0, c=0):\n",
    "    return a + 2 * b + 3 * c"
   ]
  },
  {
   "cell_type": "code",
   "execution_count": null,
   "id": "df6cc5b4",
   "metadata": {
    "tags": [
     "code-along"
    ]
   },
   "outputs": [],
   "source": [
    "print(add_weighted(2))\n",
    "print(add_weighted(2, 3))\n",
    "print(add_weighted(2, 3, 4))"
   ]
  },
  {
   "cell_type": "markdown",
   "id": "1cef2eb7",
   "metadata": {
    "lang": "de",
    "slideshow": {
     "slide_type": "slide"
    }
   },
   "source": [
    "## Vorsicht mit veränderlichen Default-Argumenten"
   ]
  },
  {
   "cell_type": "code",
   "execution_count": null,
   "id": "f8951c7a",
   "metadata": {
    "tags": [
     "code-along"
    ]
   },
   "outputs": [],
   "source": [
    "def append_value(value, my_list=[]):\n",
    "    my_list.append(value)\n",
    "    return my_list"
   ]
  },
  {
   "cell_type": "code",
   "execution_count": null,
   "id": "2aa3b807",
   "metadata": {
    "tags": [
     "code-along"
    ]
   },
   "outputs": [],
   "source": [
    "append_value(1)"
   ]
  },
  {
   "cell_type": "code",
   "execution_count": null,
   "id": "896e4bbf",
   "metadata": {
    "tags": [
     "code-along"
    ]
   },
   "outputs": [],
   "source": [
    "append_value(2)"
   ]
  },
  {
   "cell_type": "markdown",
   "id": "129e1587",
   "metadata": {
    "lang": "de",
    "slideshow": {
     "slide_type": "slide"
    }
   },
   "source": [
    "\n",
    "Lösung: verwende `Null` als Argument, erzeuge in jedem Aufruf eine neue Liste"
   ]
  },
  {
   "cell_type": "code",
   "execution_count": null,
   "id": "a74c5d08",
   "metadata": {
    "tags": [
     "code-along"
    ]
   },
   "outputs": [],
   "source": [
    "def append_value(value, my_list=None):\n",
    "    if my_list is None:\n",
    "        my_list = []\n",
    "    my_list.append(value)\n",
    "    return my_list"
   ]
  },
  {
   "cell_type": "code",
   "execution_count": null,
   "id": "8f7da7b7",
   "metadata": {
    "tags": [
     "code-along"
    ]
   },
   "outputs": [],
   "source": [
    "append_value(1)"
   ]
  },
  {
   "cell_type": "code",
   "execution_count": null,
   "id": "c2211b87",
   "metadata": {
    "tags": [
     "code-along"
    ]
   },
   "outputs": [],
   "source": [
    "append_value(2)"
   ]
  },
  {
   "cell_type": "markdown",
   "id": "337c228f",
   "metadata": {
    "lang": "de",
    "slideshow": {
     "slide_type": "slide"
    }
   },
   "source": [
    "## Aufruf mit benannten Argumenten\n",
    "\n",
    "Beim Aufruf einer Funktion kann der Parametername in der Form `parameter=wert`\n",
    "angegeben werden.\n",
    "- Der entsprechende Wert wird dann für den benannten Parameter eingesetzt\n",
    "- Werden alle Parameter benannt, so wird der Aufruf unabhängig von der\n",
    "  Parameterreihenfolge"
   ]
  },
  {
   "cell_type": "code",
   "execution_count": null,
   "id": "fa213e95",
   "metadata": {
    "incorrectly_encoded_metadata": "{\"slideshow\": {\"slide_type\": \"subslide\"}} tags=[\"code-along\"]"
   },
   "outputs": [],
   "source": [
    "def say_hi(person, greeting=\"Hi\"):\n",
    "    print(greeting, \" \", person, \"!\", sep=\"\")"
   ]
  },
  {
   "cell_type": "code",
   "execution_count": null,
   "id": "1382044e",
   "metadata": {
    "tags": [
     "code-along"
    ]
   },
   "outputs": [],
   "source": [
    "say_hi(\"Jill\")\n",
    "say_hi(\"Jack\", \"Good morning\")"
   ]
  },
  {
   "cell_type": "code",
   "execution_count": null,
   "id": "fa430e4e",
   "metadata": {
    "tags": [
     "code-along"
    ]
   },
   "outputs": [],
   "source": [
    "say_hi(greeting=\"Heya\", person=\"Betty\")"
   ]
  },
  {
   "cell_type": "code",
   "execution_count": null,
   "id": "75472ccb",
   "metadata": {
    "incorrectly_encoded_metadata": "{\"slideshow\": {\"slide_type\": \"subslide\"}} tags=[\"code-along\"]"
   },
   "outputs": [],
   "source": [
    "def add_weighted(a, b=0, c=0):\n",
    "    return a + 2 * b + 3 * c"
   ]
  },
  {
   "cell_type": "code",
   "execution_count": null,
   "id": "6b835e7b",
   "metadata": {
    "incorrectly_encoded_metadata": "{\"slideshow\": {\"slide_type\": \"subslide\"}} tags=[\"code-along\"]"
   },
   "outputs": [],
   "source": [
    "add_weighted(c=2, a=1)"
   ]
  },
  {
   "cell_type": "code",
   "execution_count": null,
   "id": "00ffa86b",
   "metadata": {
    "tags": [
     "code-along"
    ]
   },
   "outputs": [],
   "source": [
    "add_weighted(5, c=7)"
   ]
  },
  {
   "cell_type": "markdown",
   "id": "8b6fc25e",
   "metadata": {
    "lang": "de",
    "slideshow": {
     "slide_type": "slide"
    }
   },
   "source": [
    "## Typannotationen\n",
    "\n",
    "Python erlaubt es die Typen von Funktionsargumenten und den Rückgabetyp einer\n",
    "Funktion anzugeben:"
   ]
  },
  {
   "cell_type": "code",
   "execution_count": null,
   "id": "bd8da535",
   "metadata": {
    "tags": [
     "code-along"
    ]
   },
   "outputs": [],
   "source": [
    "def mult(a: int, b: float) -> float:\n",
    "    return a * b"
   ]
  },
  {
   "cell_type": "code",
   "execution_count": null,
   "id": "22314d46",
   "metadata": {
    "tags": [
     "code-along"
    ]
   },
   "outputs": [],
   "source": [
    "mult(3, 2.0)"
   ]
  },
  {
   "cell_type": "markdown",
   "id": "14cc5c73",
   "metadata": {
    "lang": "de",
    "slideshow": {
     "slide_type": "subslide"
    }
   },
   "source": [
    "Typannotationen dienen lediglich zur Dokumentation und werden von Python ignoriert:"
   ]
  },
  {
   "cell_type": "code",
   "execution_count": null,
   "id": "cb2a6c33",
   "metadata": {
    "tags": [
     "code-along"
    ]
   },
   "outputs": [],
   "source": [
    "mult(\"a\", 3)"
   ]
  },
  {
   "cell_type": "markdown",
   "id": "5ffac5c4",
   "metadata": {
    "lang": "de",
    "slideshow": {
     "slide_type": "subslide"
    }
   },
   "source": [
    "Typannotationen können parametrische Typen, optionale Typen, etc. enthalten.\n",
    "(*Hinweis:* in älteren Python Versionen kann `list` keine Typparameter\n",
    "erhalten.)"
   ]
  },
  {
   "cell_type": "code",
   "execution_count": null,
   "id": "68bc3912",
   "metadata": {
    "tags": [
     "code-along"
    ]
   },
   "outputs": [],
   "source": [
    "from typing import Optional\n",
    "\n",
    "\n",
    "def my_append(lhs: list[int], rhs: Optional[int]):\n",
    "    # What exactly does this mean?\n",
    "    if rhs:\n",
    "        lhs.append(rhs)"
   ]
  },
  {
   "cell_type": "code",
   "execution_count": null,
   "id": "23dbee1f",
   "metadata": {
    "incorrectly_encoded_metadata": "{\"slideshow\": {\"slide_type\": \"subslide\"}} tags=[\"code-along\"]"
   },
   "outputs": [],
   "source": [
    "my_list = [1, 2, 3]\n",
    "my_append(my_list, None)\n",
    "my_list"
   ]
  },
  {
   "cell_type": "code",
   "execution_count": null,
   "id": "239d0087",
   "metadata": {
    "tags": [
     "code-along"
    ]
   },
   "outputs": [],
   "source": [
    "my_append(my_list, 4)\n",
    "my_list"
   ]
  },
  {
   "cell_type": "markdown",
   "id": "637c4023",
   "metadata": {
    "lang": "de",
    "slideshow": {
     "slide_type": "slide"
    }
   },
   "source": [
    "## Docstrings\n",
    "\n",
    "Jede Funktion in Python kann dokumentiert werden, indem ein String-Literal als\n",
    "erstes Element im Rumpf angegeben wird. Meistens wird dafür ein `\"\"\"`-String\n",
    "verwendet:"
   ]
  },
  {
   "cell_type": "code",
   "execution_count": null,
   "id": "5b548e5c",
   "metadata": {
    "incorrectly_encoded_metadata": "{\"slideshow\": {\"slide_type\": \"subslide\"}} tags=[\"code-along\"]"
   },
   "outputs": [],
   "source": [
    "def my_fun(x):\n",
    "    \"\"\"\n",
    "    Zeigt dem Benutzer den Wert von x an\n",
    "\n",
    "    Verwendung:\n",
    "    >>> my_fun(123)\n",
    "    \"\"\"\n",
    "    print(\"Das Argument x hat den Wert\", x)"
   ]
  },
  {
   "cell_type": "code",
   "execution_count": null,
   "id": "685d4f18",
   "metadata": {
    "tags": [
     "code-along"
    ]
   },
   "outputs": [],
   "source": [
    "my_fun(123)"
   ]
  },
  {
   "cell_type": "markdown",
   "id": "704d23b8",
   "metadata": {
    "lang": "de",
    "slideshow": {
     "slide_type": "subslide"
    }
   },
   "source": [
    "Konventionen für Docstrings finden sich in\n",
    "[PEP 257](https://www.python.org/dev/peps/pep-0257/)."
   ]
  },
  {
   "cell_type": "markdown",
   "id": "75e49e5e",
   "metadata": {
    "lang": "de",
    "slideshow": {
     "slide_type": "subslide"
    }
   },
   "source": [
    "Der Docstring einer Funktion kann mit `help()` ausgegeben werden:"
   ]
  },
  {
   "cell_type": "code",
   "execution_count": null,
   "id": "046a8565",
   "metadata": {
    "tags": [
     "code-along"
    ]
   },
   "outputs": [],
   "source": [
    "help(my_fun)"
   ]
  },
  {
   "cell_type": "markdown",
   "id": "0a0483e2",
   "metadata": {
    "lang": "de",
    "slideshow": {
     "slide_type": "subslide"
    }
   },
   "source": [
    "In Jupyter kann man den Docstring einer Funktion durch ein vorangestelltes\n",
    "oder nachgestelltes Fragezeichen anzeigen lassen:"
   ]
  },
  {
   "cell_type": "code",
   "execution_count": null,
   "id": "0ec8fcb5",
   "metadata": {
    "lines_to_next_cell": 2,
    "tags": [
     "code-along"
    ]
   },
   "outputs": [],
   "source": [
    "# ?my_fun"
   ]
  },
  {
   "cell_type": "code",
   "execution_count": null,
   "id": "05a282f7",
   "metadata": {
    "lines_to_next_cell": 2,
    "tags": [
     "code-along"
    ]
   },
   "outputs": [],
   "source": [
    "# my_fun?"
   ]
  },
  {
   "cell_type": "markdown",
   "id": "900fa37c",
   "metadata": {
    "lang": "de",
    "slideshow": {
     "slide_type": "subslide"
    }
   },
   "source": [
    "Oft verwendet man statt dessen Shift-Tab:"
   ]
  },
  {
   "cell_type": "code",
   "execution_count": null,
   "id": "db080697",
   "metadata": {
    "tags": [
     "code-along"
    ]
   },
   "outputs": [],
   "source": [
    "my_fun"
   ]
  },
  {
   "cell_type": "markdown",
   "id": "62901e12",
   "metadata": {
    "lang": "de",
    "slideshow": {
     "slide_type": "subslide"
    }
   },
   "source": [
    "Bei Funktionen mit langen Docstrings kann man durch zweimaliges Drücken von `Shift-Tab` auf die ausführliche Anzeigeform umschalten:"
   ]
  },
  {
   "cell_type": "code",
   "execution_count": null,
   "id": "b3de4bbe",
   "metadata": {
    "tags": [
     "code-along"
    ]
   },
   "outputs": [],
   "source": [
    "my_fun"
   ]
  },
  {
   "cell_type": "code",
   "execution_count": null,
   "id": "715c07ee",
   "metadata": {
    "tags": [
     "code-along"
    ]
   },
   "outputs": [],
   "source": [
    "print"
   ]
  },
  {
   "cell_type": "markdown",
   "id": "98cdfbe3",
   "metadata": {
    "lang": "de",
    "slideshow": {
     "slide_type": "subslide"
    }
   },
   "source": [
    "## Signatur\n",
    "\n",
    "Die Anzahl, Namen, Default-Werte (und evtl. Typen) einer Funktion sowie ihren Rückgabetyp nennt man\n",
    "ihre *Signatur*.\n",
    "\n",
    "Jupyter zeigt u.a. die Signatur einer Funktion an, wenn man `Shift-Tab`\n",
    "eingibt:"
   ]
  },
  {
   "cell_type": "code",
   "execution_count": null,
   "id": "a77cbd27",
   "metadata": {
    "tags": [
     "code-along"
    ]
   },
   "outputs": [],
   "source": [
    "# Shift-Tab zum Anzeigen der Signatur:\n",
    "say_hi"
   ]
  },
  {
   "cell_type": "code",
   "execution_count": null,
   "id": "fea9c3ce",
   "metadata": {
    "tags": [
     "code-along"
    ]
   },
   "outputs": [],
   "source": [
    "def add_ints(m: int, n: int) -> int:\n",
    "    return m + n"
   ]
  },
  {
   "cell_type": "code",
   "execution_count": null,
   "id": "1871ef29",
   "metadata": {
    "tags": [
     "code-along"
    ]
   },
   "outputs": [],
   "source": [
    "add_ints"
   ]
  }
 ],
 "metadata": {
  "jupytext": {
   "cell_metadata_json": true,
   "encoding": "# -*- coding: utf-8 -*-",
   "formats": "ipynb"
  },
  "kernelspec": {
   "display_name": "Python 3 (ipykernel)",
   "language": "python",
   "name": "python3"
  },
  "language_info": {
   "codemirror_mode": {
    "name": "ipython",
    "version": 3
   },
   "file_extension": ".py",
   "mimetype": "text/x-python",
   "name": "python",
   "nbconvert_exporter": "python",
   "pygments_lexer": "ipython3",
   "version": "3.10.4"
  },
  "nbTranslate": {
   "displayLangs": [
    "de"
   ],
   "hotkey": "alt-t",
   "langInMainMenu": true,
   "sourceLang": "de",
   "targetLang": "en",
   "useGoogleTranslate": true
  }
 },
 "nbformat": 4,
 "nbformat_minor": 5
}
