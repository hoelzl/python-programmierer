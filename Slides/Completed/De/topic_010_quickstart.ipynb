{
 "cells": [
  {
   "cell_type": "markdown",
   "id": "e4f84366",
   "metadata": {
    "lang": "de",
    "slideshow": {
     "slide_type": "slide"
    }
   },
   "source": [
    "<img src=\"img/python-logo-notext.svg\"\n",
    "     style=\"display:block;margin:auto;width:10%\"/>\n",
    "<br>\n",
    "<div style=\"text-align:center; font-size:200%;\"><b>Quickstart</b></div>\n",
    "<br/>\n",
    "<div style=\"text-align:center;\">Dr. Matthias Hölzl</div>"
   ]
  },
  {
   "cell_type": "markdown",
   "id": "421be9b7",
   "metadata": {
    "lang": "de",
    "slideshow": {
     "slide_type": "slide"
    }
   },
   "source": [
    "# Python und Jupyter Notebooks\n",
    "\n",
    "Wir beginnen mit einer kurzen Einführung in die Arbeitsweise von Python und\n",
    "Jupyter Notebooks."
   ]
  },
  {
   "cell_type": "markdown",
   "id": "690e76d2",
   "metadata": {
    "lang": "de",
    "slideshow": {
     "slide_type": "subslide"
    }
   },
   "source": [
    "## Compiler (C++)\n",
    "\n",
    "<img src=\"img/compiler.svg\" style=\"width:60%;margin:auto\"/>"
   ]
  },
  {
   "cell_type": "markdown",
   "id": "6d353aa1",
   "metadata": {
    "lang": "de",
    "slideshow": {
     "slide_type": "subslide"
    }
   },
   "source": [
    "## Interpreter (Python)\n",
    "\n",
    "<img src=\"img/interpreter.svg\" style=\"width:60%;margin:auto\"/>\n"
   ]
  },
  {
   "cell_type": "markdown",
   "id": "05c7a3ab",
   "metadata": {
    "lang": "de",
    "slideshow": {
     "slide_type": "subslide"
    }
   },
   "source": [
    "## Jupyter Notebooks\n",
    "\n",
    "<img src=\"img/jupyter-notebook.svg\" style=\"width:60%;margin:auto\"/>"
   ]
  },
  {
   "cell_type": "code",
   "execution_count": null,
   "id": "905706cd",
   "metadata": {
    "lines_to_next_cell": 2,
    "slideshow": {
     "slide_type": "subslide"
    }
   },
   "outputs": [],
   "source": [
    "import numpy as np\n",
    "import matplotlib.pyplot as plt\n",
    "\n",
    "page_load_time = np.random.normal(3.0, 1.0, 1000)\n",
    "purchase_amount = np.random.normal(50.0, 1.5, 1000) - page_load_time\n",
    "\n",
    "plt.figure(figsize=(12, 8))\n",
    "plt.scatter(page_load_time, purchase_amount)"
   ]
  },
  {
   "cell_type": "markdown",
   "id": "3d95c92a",
   "metadata": {
    "lang": "de",
    "slideshow": {
     "slide_type": "slide"
    }
   },
   "source": [
    "## Variablen und Datentypen\n",
    "\n",
    "Zahlen und Arithmetik:"
   ]
  },
  {
   "cell_type": "code",
   "execution_count": null,
   "id": "293c2d5e",
   "metadata": {
    "tags": [
     "code-along"
    ]
   },
   "outputs": [],
   "source": [
    "17 + 4 + 1"
   ]
  },
  {
   "cell_type": "code",
   "execution_count": null,
   "id": "01ce3a61",
   "metadata": {
    "tags": [
     "code-along"
    ]
   },
   "outputs": [],
   "source": [
    "1.5 + 7.4"
   ]
  },
  {
   "cell_type": "code",
   "execution_count": null,
   "id": "10e93911",
   "metadata": {
    "tags": [
     "code-along"
    ]
   },
   "outputs": [],
   "source": [
    "1 + 2 * 3"
   ]
  },
  {
   "cell_type": "markdown",
   "id": "c69a9880",
   "metadata": {
    "lang": "de",
    "slideshow": {
     "slide_type": "subslide"
    }
   },
   "source": [
    "## Zeichenketten"
   ]
  },
  {
   "cell_type": "code",
   "execution_count": null,
   "id": "ff332906",
   "metadata": {
    "tags": [
     "code-along"
    ]
   },
   "outputs": [],
   "source": [
    "\"This is a string\""
   ]
  },
  {
   "cell_type": "code",
   "execution_count": null,
   "id": "3597f514",
   "metadata": {
    "tags": [
     "code-along"
    ]
   },
   "outputs": [],
   "source": [
    "# fmt: off\n",
    "'This is also a string'\n",
    "# fmt: on"
   ]
  },
  {
   "cell_type": "code",
   "execution_count": null,
   "id": "9af0010e",
   "metadata": {
    "tags": [
     "code-along"
    ]
   },
   "outputs": [],
   "source": [
    "str(1 + 2)"
   ]
  },
  {
   "cell_type": "code",
   "execution_count": null,
   "id": "261695f0",
   "metadata": {
    "slideshow": {
     "slide_type": "subslide"
    },
    "tags": [
     "code-along"
    ]
   },
   "outputs": [],
   "source": [
    "\"3\" + \"abc\""
   ]
  },
  {
   "cell_type": "code",
   "execution_count": null,
   "id": "205d7899",
   "metadata": {
    "tags": [
     "code-along"
    ]
   },
   "outputs": [],
   "source": [
    "\"literal strings \" \"can be concatenated \" \"by juxtaposition\""
   ]
  },
  {
   "cell_type": "markdown",
   "id": "5b4015e5",
   "metadata": {
    "lang": "de",
    "slideshow": {
     "slide_type": "subslide"
    }
   },
   "source": [
    "### Variablen"
   ]
  },
  {
   "cell_type": "code",
   "execution_count": null,
   "id": "ff96674d",
   "metadata": {
    "tags": [
     "code-along"
    ]
   },
   "outputs": [],
   "source": [
    "answer = 42"
   ]
  },
  {
   "cell_type": "code",
   "execution_count": null,
   "id": "d4ecf8de",
   "metadata": {
    "lines_to_next_cell": 2,
    "tags": [
     "code-along"
    ]
   },
   "outputs": [],
   "source": [
    "my_value = answer + 2"
   ]
  },
  {
   "cell_type": "markdown",
   "id": "8a78ddea",
   "metadata": {
    "lang": "de",
    "slideshow": {
     "slide_type": "slide"
    }
   },
   "source": [
    "## Jupyter Notebooks: Anzeige von Werten\n",
    "\n",
    "- Jupyter Notebooks geben den letzten Wert jeder Zelle auf dem Bildschirm aus\n",
    "- Das passiert in \"normalen\" Python-Programmen nicht!\n",
    "  - Wenn sie als Programme ausgeführt werden\n",
    "  - Der interaktive Interpreter verhält sich ähnlich wie Notebooks"
   ]
  },
  {
   "cell_type": "code",
   "execution_count": null,
   "id": "5b2a1fa2",
   "metadata": {
    "slideshow": {
     "slide_type": "subslide"
    },
    "tags": [
     "code-along"
    ]
   },
   "outputs": [],
   "source": [
    "123"
   ]
  },
  {
   "cell_type": "markdown",
   "id": "d30bed3d",
   "metadata": {
    "lang": "de"
   },
   "source": [
    "Um die Ausgabe des letzten Wertes einer Zelle in Jupyter zu unterbinden\n",
    "kann man die Zeile mit einem Strichpunkt beenden:"
   ]
  },
  {
   "cell_type": "code",
   "execution_count": null,
   "id": "5f791552",
   "metadata": {
    "tags": [
     "code-along"
    ]
   },
   "outputs": [],
   "source": [
    "123"
   ]
  },
  {
   "cell_type": "code",
   "execution_count": null,
   "id": "c4aab9e9",
   "metadata": {
    "tags": [
     "code-along"
    ]
   },
   "outputs": [],
   "source": [
    "# fmt: off\n",
    "123;\n",
    "# fmt: on"
   ]
  },
  {
   "cell_type": "markdown",
   "id": "38c184a3",
   "metadata": {
    "lang": "de",
    "slideshow": {
     "slide_type": "subslide"
    }
   },
   "source": [
    "Jupyter zeigt auch den Wert von Variablen an:"
   ]
  },
  {
   "cell_type": "code",
   "execution_count": null,
   "id": "288b700b",
   "metadata": {
    "tags": [
     "code-along"
    ]
   },
   "outputs": [],
   "source": [
    "answer"
   ]
  },
  {
   "cell_type": "code",
   "execution_count": null,
   "id": "7a4adec9",
   "metadata": {
    "tags": [
     "code-along"
    ]
   },
   "outputs": [],
   "source": [
    "my_value"
   ]
  },
  {
   "cell_type": "code",
   "execution_count": null,
   "id": "8dacfcd1",
   "metadata": {
    "tags": [
     "code-along"
    ]
   },
   "outputs": [],
   "source": [
    "answer\n",
    "my_value"
   ]
  },
  {
   "cell_type": "markdown",
   "id": "101af30f",
   "metadata": {
    "lang": "de",
    "slideshow": {
     "slide_type": "subslide"
    }
   },
   "source": [
    "Um mehrere Werte anzuzeigen kann man die `print()`-Funktion verwenden:\n",
    "\n",
    "`print(...)` gibt den in Klammern eingeschlossenen Text auf dem Bildschirm\n",
    "aus."
   ]
  },
  {
   "cell_type": "code",
   "execution_count": null,
   "id": "d1c119bb",
   "metadata": {
    "tags": [
     "code-along"
    ]
   },
   "outputs": [],
   "source": [
    "print(123)"
   ]
  },
  {
   "cell_type": "code",
   "execution_count": null,
   "id": "fd284ff2",
   "metadata": {
    "tags": [
     "code-along"
    ]
   },
   "outputs": [],
   "source": [
    "print(answer)"
   ]
  },
  {
   "cell_type": "code",
   "execution_count": null,
   "id": "323c7f58",
   "metadata": {
    "tags": [
     "code-along"
    ]
   },
   "outputs": [],
   "source": [
    "print(my_value)"
   ]
  },
  {
   "cell_type": "code",
   "execution_count": null,
   "id": "b1be8148",
   "metadata": {
    "lines_to_next_cell": 2,
    "tags": [
     "code-along"
    ]
   },
   "outputs": [],
   "source": [
    "print(answer)\n",
    "print(my_value)"
   ]
  },
  {
   "cell_type": "code",
   "execution_count": null,
   "id": "79c5cbc7",
   "metadata": {
    "lines_to_next_cell": 2,
    "slideshow": {
     "slide_type": "subslide"
    },
    "tags": [
     "code-along"
    ]
   },
   "outputs": [],
   "source": [
    "print(\"Hello, world!\")"
   ]
  },
  {
   "cell_type": "markdown",
   "id": "6379b2b3",
   "metadata": {
    "lang": "de"
   },
   "source": [
    "Vergleichen Sie die Ausgabe mit der folgenden Zelle:"
   ]
  },
  {
   "cell_type": "code",
   "execution_count": null,
   "id": "b1d0fb2a",
   "metadata": {
    "tags": [
     "code-along"
    ]
   },
   "outputs": [],
   "source": [
    "\"Hello, world!\""
   ]
  },
  {
   "cell_type": "code",
   "execution_count": null,
   "id": "11c94196",
   "metadata": {
    "slideshow": {
     "slide_type": "subslide"
    },
    "tags": [
     "code-along"
    ]
   },
   "outputs": [],
   "source": [
    "print(\"answer =\", answer, \"my_value =\", my_value)"
   ]
  },
  {
   "cell_type": "code",
   "execution_count": null,
   "id": "ef98f296",
   "metadata": {
    "tags": [
     "code-along"
    ]
   },
   "outputs": [],
   "source": [
    "print(\"a\", \"b\", \"c\", sep=\"-\", end=\"+++\")\n",
    "print(\"d\", \"e\")"
   ]
  },
  {
   "cell_type": "code",
   "execution_count": null,
   "id": "7a1eb5a5",
   "metadata": {
    "tags": [
     "code-along"
    ]
   },
   "outputs": [],
   "source": [
    "print(\"a\", end=\", \")\n",
    "print(\"b\", end=\", \")\n",
    "print(\"c\")"
   ]
  },
  {
   "cell_type": "markdown",
   "id": "d73b8e18",
   "metadata": {
    "lang": "de",
    "slideshow": {
     "slide_type": "subslide"
    }
   },
   "source": [
    "\n",
    "## Typen"
   ]
  },
  {
   "cell_type": "code",
   "execution_count": null,
   "id": "e800e8d5",
   "metadata": {
    "tags": [
     "code-along"
    ]
   },
   "outputs": [],
   "source": [
    "type(123)"
   ]
  },
  {
   "cell_type": "code",
   "execution_count": null,
   "id": "65c6205f",
   "metadata": {
    "tags": [
     "code-along"
    ]
   },
   "outputs": [],
   "source": [
    "type(\"Foo\")"
   ]
  },
  {
   "cell_type": "code",
   "execution_count": null,
   "id": "bbb1901d",
   "metadata": {
    "lines_to_next_cell": 2,
    "tags": [
     "code-along"
    ]
   },
   "outputs": [],
   "source": [
    "answer = 42\n",
    "print(type(answer))\n",
    "answer = \"Hallo!\"\n",
    "print(type(answer))"
   ]
  },
  {
   "cell_type": "markdown",
   "id": "b63c24c5",
   "metadata": {
    "lang": "de",
    "slideshow": {
     "slide_type": "subslide"
    }
   },
   "source": [
    "### Vordefinierte Funktionen"
   ]
  },
  {
   "cell_type": "code",
   "execution_count": null,
   "id": "3d3e54f1",
   "metadata": {
    "tags": [
     "code-along"
    ]
   },
   "outputs": [],
   "source": [
    "print(\"Hello, world!\")"
   ]
  },
  {
   "cell_type": "code",
   "execution_count": null,
   "id": "e763a5a9",
   "metadata": {
    "tags": [
     "code-along"
    ]
   },
   "outputs": [],
   "source": [
    "int(\"123\")"
   ]
  },
  {
   "cell_type": "code",
   "execution_count": null,
   "id": "9660852c",
   "metadata": {
    "tags": [
     "code-along"
    ]
   },
   "outputs": [],
   "source": [
    "int(3.8)"
   ]
  },
  {
   "cell_type": "code",
   "execution_count": null,
   "id": "07620079",
   "metadata": {
    "tags": [
     "code-along"
    ]
   },
   "outputs": [],
   "source": [
    "round(4.4)"
   ]
  },
  {
   "cell_type": "code",
   "execution_count": null,
   "id": "4fc2fed5",
   "metadata": {
    "tags": [
     "code-along"
    ]
   },
   "outputs": [],
   "source": [
    "round(4.6)"
   ]
  },
  {
   "cell_type": "code",
   "execution_count": null,
   "id": "3f69ac4e",
   "metadata": {},
   "outputs": [],
   "source": [
    "print(round(0.5), round(1.5), round(2.5), round(3.5))"
   ]
  },
  {
   "cell_type": "markdown",
   "id": "44da1885",
   "metadata": {
    "lang": "de",
    "lines_to_next_cell": 2,
    "slideshow": {
     "slide_type": "subslide"
    }
   },
   "source": [
    "## Funktionen"
   ]
  },
  {
   "cell_type": "code",
   "execution_count": null,
   "id": "d640b92e",
   "metadata": {
    "tags": [
     "code-along"
    ]
   },
   "outputs": [],
   "source": [
    "def add_1(n):\n",
    "    return n + 1"
   ]
  },
  {
   "cell_type": "code",
   "execution_count": null,
   "id": "6d901dc4",
   "metadata": {
    "tags": [
     "code-along"
    ]
   },
   "outputs": [],
   "source": [
    "x = add_1(10)\n",
    "add_1(20) + x + x"
   ]
  },
  {
   "cell_type": "code",
   "execution_count": null,
   "id": "bed77ab6",
   "metadata": {
    "tags": [
     "code-along"
    ]
   },
   "outputs": [],
   "source": [
    "add_1(5) + add_1(7)"
   ]
  },
  {
   "cell_type": "code",
   "execution_count": null,
   "id": "d376345e",
   "metadata": {
    "tags": [
     "code-along"
    ]
   },
   "outputs": [],
   "source": [
    "def my_round(n):\n",
    "    return int(n + 0.5)"
   ]
  },
  {
   "cell_type": "code",
   "execution_count": null,
   "id": "ba8a6534",
   "metadata": {},
   "outputs": [],
   "source": [
    "print(my_round(0.5), my_round(1.5), my_round(2.5), my_round(3.5))"
   ]
  },
  {
   "cell_type": "markdown",
   "id": "891b9794",
   "metadata": {
    "lang": "de",
    "lines_to_next_cell": 2,
    "slideshow": {
     "slide_type": "subslide"
    }
   },
   "source": [
    "### Micro-Workshop\n",
    "\n",
    "Schreiben Sie eine Funktion `greeting(name)`, die eine Begrüßung in der Form\n",
    "\"Hallo *name*!\" auf dem Bildschirm ausgibt, z.B.\n",
    "```python\n",
    ">>> greeting(\"Max\")\n",
    "Hallo Max!\n",
    ">>>\n",
    "```"
   ]
  },
  {
   "cell_type": "code",
   "execution_count": null,
   "id": "720be749",
   "metadata": {
    "tags": [
     "code-along"
    ]
   },
   "outputs": [],
   "source": [
    "def greeting(name):\n",
    "    print(\"Hallo \", name, \"!\", sep=\"\")"
   ]
  },
  {
   "cell_type": "code",
   "execution_count": null,
   "id": "f5d77088",
   "metadata": {
    "tags": [
     "code-along"
    ]
   },
   "outputs": [],
   "source": [
    "greeting(\"Max\")"
   ]
  },
  {
   "cell_type": "markdown",
   "id": "b994f213",
   "metadata": {
    "lang": "de",
    "slideshow": {
     "slide_type": "subslide"
    }
   },
   "source": [
    "### Methoden"
   ]
  },
  {
   "cell_type": "code",
   "execution_count": null,
   "id": "884f0aa9",
   "metadata": {
    "tags": [
     "code-along"
    ]
   },
   "outputs": [],
   "source": [
    "\"Foo\".lower()"
   ]
  },
  {
   "cell_type": "code",
   "execution_count": null,
   "id": "5d2e7b4d",
   "metadata": {
    "tags": [
     "code-along"
    ]
   },
   "outputs": [],
   "source": [
    "# 5.bit_length()"
   ]
  },
  {
   "cell_type": "code",
   "execution_count": null,
   "id": "4c3d3027",
   "metadata": {
    "tags": [
     "code-along"
    ]
   },
   "outputs": [],
   "source": [
    "number = 5\n",
    "number.bit_length()"
   ]
  },
  {
   "cell_type": "markdown",
   "id": "27e4d92c",
   "metadata": {
    "lang": "de",
    "lines_to_next_cell": 2,
    "slideshow": {
     "slide_type": "subslide"
    }
   },
   "source": [
    "### Mehrere Parameter, Default Argumente"
   ]
  },
  {
   "cell_type": "code",
   "execution_count": null,
   "id": "4c8a90be",
   "metadata": {
    "tags": [
     "code-along"
    ]
   },
   "outputs": [],
   "source": [
    "def add2(a, b):\n",
    "    return a + b"
   ]
  },
  {
   "cell_type": "code",
   "execution_count": null,
   "id": "bf4d2580",
   "metadata": {
    "tags": [
     "code-along"
    ]
   },
   "outputs": [],
   "source": [
    "def add3(a, b=0, c=0):\n",
    "    return a + b + c"
   ]
  },
  {
   "cell_type": "code",
   "execution_count": null,
   "id": "08450ff9",
   "metadata": {
    "tags": [
     "code-along"
    ]
   },
   "outputs": [],
   "source": [
    "print(add3(2))\n",
    "print(add3(2, 3))\n",
    "print(add3(2, 3, 4))\n",
    "print(add3(1, c=3))"
   ]
  },
  {
   "cell_type": "markdown",
   "id": "a39190fe",
   "metadata": {
    "lang": "de",
    "slideshow": {
     "slide_type": "subslide"
    }
   },
   "source": [
    "### Verschachtelte Funktionsaufrufe"
   ]
  },
  {
   "cell_type": "code",
   "execution_count": null,
   "id": "57d1d663",
   "metadata": {
    "tags": [
     "code-along"
    ]
   },
   "outputs": [],
   "source": [
    "add3(add_1(2), add3(1, 2, add3(1, 2)))"
   ]
  },
  {
   "cell_type": "markdown",
   "id": "02c44cad",
   "metadata": {
    "lang": "de",
    "slideshow": {
     "slide_type": "subslide"
    }
   },
   "source": [
    "### Typannotationen"
   ]
  },
  {
   "cell_type": "code",
   "execution_count": null,
   "id": "e05dd9a1",
   "metadata": {
    "tags": [
     "code-along"
    ]
   },
   "outputs": [],
   "source": [
    "def mult(a: int, b: float):\n",
    "    return a * b"
   ]
  },
  {
   "cell_type": "code",
   "execution_count": null,
   "id": "9010b90f",
   "metadata": {
    "tags": [
     "code-along"
    ]
   },
   "outputs": [],
   "source": [
    "mult(3, 2.0)"
   ]
  },
  {
   "cell_type": "code",
   "execution_count": null,
   "id": "3d1d7c75",
   "metadata": {
    "tags": [
     "code-along"
    ]
   },
   "outputs": [],
   "source": [
    "# Typannotationen are only for documentation purposes:\n",
    "mult(\"a\", 3)"
   ]
  },
  {
   "cell_type": "markdown",
   "id": "a6336741",
   "metadata": {
    "lang": "de",
    "slideshow": {
     "slide_type": "subslide"
    }
   },
   "source": [
    "## Listen und Tupel"
   ]
  },
  {
   "cell_type": "code",
   "execution_count": null,
   "id": "c066717b",
   "metadata": {
    "tags": [
     "code-along"
    ]
   },
   "outputs": [],
   "source": [
    "numbers = [1, 2, 3, 4]"
   ]
  },
  {
   "cell_type": "code",
   "execution_count": null,
   "id": "4fe6cb86",
   "metadata": {
    "tags": [
     "code-along"
    ]
   },
   "outputs": [],
   "source": [
    "print(numbers)\n",
    "print(numbers[0], numbers[3])\n",
    "print(\"Länge:\", len(numbers))"
   ]
  },
  {
   "cell_type": "code",
   "execution_count": null,
   "id": "eab7deb5",
   "metadata": {
    "slideshow": {
     "slide_type": "subslide"
    },
    "tags": [
     "code-along"
    ]
   },
   "outputs": [],
   "source": [
    "numbers + numbers"
   ]
  },
  {
   "cell_type": "code",
   "execution_count": null,
   "id": "ebe87bce",
   "metadata": {
    "tags": [
     "code-along"
    ]
   },
   "outputs": [],
   "source": [
    "[1] * 3"
   ]
  },
  {
   "cell_type": "code",
   "execution_count": null,
   "id": "1773e99d",
   "metadata": {
    "tags": [
     "code-along"
    ]
   },
   "outputs": [],
   "source": [
    "5 in [5, 6, 7]"
   ]
  },
  {
   "cell_type": "code",
   "execution_count": null,
   "id": "a2064e06",
   "metadata": {
    "tags": [
     "code-along"
    ]
   },
   "outputs": [],
   "source": [
    "3 in [5, 6, 7]"
   ]
  },
  {
   "cell_type": "code",
   "execution_count": null,
   "id": "793f702a",
   "metadata": {
    "slideshow": {
     "slide_type": "subslide"
    },
    "tags": [
     "code-along"
    ]
   },
   "outputs": [],
   "source": [
    "my_list = [1, 2, 3]\n",
    "my_list[1] = 5\n",
    "my_list"
   ]
  },
  {
   "cell_type": "code",
   "execution_count": null,
   "id": "92317185",
   "metadata": {
    "tags": [
     "code-along"
    ]
   },
   "outputs": [],
   "source": [
    "my_list.append(7)\n",
    "my_list"
   ]
  },
  {
   "cell_type": "markdown",
   "id": "b0aed63b",
   "metadata": {
    "lang": "de",
    "slideshow": {
     "slide_type": "subslide"
    }
   },
   "source": [
    "## Mini-Workshop\n",
    "\n",
    "- Notebook `workshop_100_lists_part2`\n",
    "- Abschnitt \"Farben\"\n"
   ]
  },
  {
   "cell_type": "code",
   "execution_count": null,
   "id": "461d5e1d",
   "metadata": {
    "tags": [
     "code-along"
    ]
   },
   "outputs": [],
   "source": [
    "my_tuple = 1, 2, 3"
   ]
  },
  {
   "cell_type": "code",
   "execution_count": null,
   "id": "c37d9d48",
   "metadata": {
    "tags": [
     "code-along"
    ]
   },
   "outputs": [],
   "source": [
    "my_tuple[0]"
   ]
  },
  {
   "cell_type": "code",
   "execution_count": null,
   "id": "e4bb475d",
   "metadata": {
    "lines_to_next_cell": 2,
    "tags": [
     "code-along"
    ]
   },
   "outputs": [],
   "source": [
    "# my_tuple[0] = 1"
   ]
  },
  {
   "cell_type": "markdown",
   "id": "27824b79",
   "metadata": {
    "lang": "de",
    "slideshow": {
     "slide_type": "subslide"
    }
   },
   "source": [
    "## Boole'sche Werte und `if`-Anweisungen"
   ]
  },
  {
   "cell_type": "code",
   "execution_count": null,
   "id": "82e0be22",
   "metadata": {
    "tags": [
     "code-along"
    ]
   },
   "outputs": [],
   "source": [
    "True"
   ]
  },
  {
   "cell_type": "code",
   "execution_count": null,
   "id": "fd0b4811",
   "metadata": {
    "tags": [
     "code-along"
    ]
   },
   "outputs": [],
   "source": [
    "False"
   ]
  },
  {
   "cell_type": "code",
   "execution_count": null,
   "id": "42a06cfc",
   "metadata": {
    "tags": [
     "code-along"
    ]
   },
   "outputs": [],
   "source": [
    "value = False"
   ]
  },
  {
   "cell_type": "code",
   "execution_count": null,
   "id": "8a10d5a5",
   "metadata": {
    "tags": [
     "code-along"
    ]
   },
   "outputs": [],
   "source": [
    "if value:\n",
    "    print(\"Wahr\")\n",
    "else:\n",
    "    print(\"Falsch\")"
   ]
  },
  {
   "cell_type": "code",
   "execution_count": null,
   "id": "2a7f3b8c",
   "metadata": {
    "slideshow": {
     "slide_type": "subslide"
    }
   },
   "outputs": [],
   "source": [
    "def print_size(n):\n",
    "    if n < 10:\n",
    "        print(\"Very small\")\n",
    "    elif n < 15:\n",
    "        print(\"Pretty small\")\n",
    "    elif n < 30:\n",
    "        print(\"Average\")\n",
    "    else:\n",
    "        print(\"Large\")"
   ]
  },
  {
   "cell_type": "code",
   "execution_count": null,
   "id": "dd53d380",
   "metadata": {
    "slideshow": {
     "slide_type": "subslide"
    }
   },
   "outputs": [],
   "source": [
    "print_size(1)\n",
    "print_size(10)\n",
    "print_size(20)\n",
    "print_size(100)"
   ]
  },
  {
   "cell_type": "markdown",
   "id": "4057fb40",
   "metadata": {
    "lang": "de",
    "lines_to_next_cell": 2,
    "slideshow": {
     "slide_type": "subslide"
    }
   },
   "source": [
    "### Micro-Workshop\n",
    "\n",
    "Schreiben Sie eine Funktion `fits_in_line(text: str, line_length: int = 72)`,\n",
    "die `True` oder `False` zurückgibt, je nachdem ob `text` in einer Zeile der\n",
    "Länge `line_length` ausgegeben werden kann oder nicht:\n",
    "```python\n",
    ">>> fits_in_line(\"Hallo\")\n",
    "True\n",
    ">>> fits_in_line(\"Hallo\", 3)\n",
    "False\n",
    ">>>\n",
    "```\n",
    "\n",
    "Schreiben Sie eine Funktion `print_line(text: str, line_length:int = 72)`,\n",
    "die\n",
    "* `text` auf dem Bildschirm ausgibt, falls das in einer Zeile der Länge\n",
    "  `line_length` möglich ist\n",
    "* `...` ausgibt, falls das nicht möglich ist.\n",
    "\n",
    "```python\n",
    ">>> print_line(\"Hallo\")\n",
    "Hallo\n",
    ">>> print_line(\"Hallo\", 3)\n",
    "...\n",
    ">>>\n",
    "```"
   ]
  },
  {
   "cell_type": "code",
   "execution_count": null,
   "id": "b594a2ff",
   "metadata": {
    "tags": [
     "code-along"
    ]
   },
   "outputs": [],
   "source": [
    "def fits_in_line(text: str, line_length: int = 72):\n",
    "    return len(text) <= line_length"
   ]
  },
  {
   "cell_type": "code",
   "execution_count": null,
   "id": "73d2b721",
   "metadata": {
    "tags": [
     "code-along"
    ]
   },
   "outputs": [],
   "source": [
    "fits_in_line(\"Hallo\")"
   ]
  },
  {
   "cell_type": "code",
   "execution_count": null,
   "id": "c813cbc7",
   "metadata": {
    "tags": [
     "code-along"
    ]
   },
   "outputs": [],
   "source": [
    "fits_in_line(\"Hallo\", 3)"
   ]
  },
  {
   "cell_type": "code",
   "execution_count": null,
   "id": "b0f05b65",
   "metadata": {
    "tags": [
     "code-along"
    ]
   },
   "outputs": [],
   "source": [
    "def print_line(text: str, line_length: int = 72):\n",
    "    if fits_in_line(text, line_length=line_length):\n",
    "        print(text)\n",
    "    else:\n",
    "        print(\"...\")"
   ]
  },
  {
   "cell_type": "code",
   "execution_count": null,
   "id": "9aa3d975",
   "metadata": {
    "tags": [
     "code-along"
    ]
   },
   "outputs": [],
   "source": [
    "print_line(\"Hallo\")"
   ]
  },
  {
   "cell_type": "code",
   "execution_count": null,
   "id": "fc6ffcd3",
   "metadata": {
    "lines_to_next_cell": 2,
    "tags": [
     "code-along"
    ]
   },
   "outputs": [],
   "source": [
    "print_line(\"Hallo\", 3)"
   ]
  },
  {
   "cell_type": "markdown",
   "id": "677ef174",
   "metadata": {
    "lang": "de",
    "slideshow": {
     "slide_type": "subslide"
    }
   },
   "source": [
    "## `for`-Schleifen"
   ]
  },
  {
   "cell_type": "code",
   "execution_count": null,
   "id": "e67f0f19",
   "metadata": {
    "slideshow": {
     "slide_type": "subslide"
    },
    "tags": [
     "code-along"
    ]
   },
   "outputs": [],
   "source": [
    "for char in \"abc\":\n",
    "    print(char, end=\"|\")"
   ]
  },
  {
   "cell_type": "code",
   "execution_count": null,
   "id": "6c984f71",
   "metadata": {
    "tags": [
     "code-along"
    ]
   },
   "outputs": [],
   "source": [
    "result = 0\n",
    "for n in [1, 2, 3, 4]:\n",
    "    result += n\n",
    "result"
   ]
  },
  {
   "cell_type": "markdown",
   "id": "cf2e3457",
   "metadata": {
    "lang": "de",
    "lines_to_next_cell": 2,
    "slideshow": {
     "slide_type": "subslide"
    }
   },
   "source": [
    "### Micro-Workshop\n",
    "\n",
    "Schreiben Sie eine Funktion `print_all(items: list)`, die die Elemente der\n",
    "Liste `items` auf dem Bildschirm ausgibt, jeweils ein Element pro Zeile:\n",
    "\n",
    "```python\n",
    ">>> print_all([1, 2, 3])\n",
    "1\n",
    "2\n",
    "3\n",
    ">>>\n",
    "```\n",
    "Was passiert, wenn Sie die Funktion mit einem String als Argument aufrufen,\n",
    "z.B. `print_all(\"abc\")`"
   ]
  },
  {
   "cell_type": "code",
   "execution_count": null,
   "id": "73edc5e8",
   "metadata": {
    "tags": [
     "code-along"
    ]
   },
   "outputs": [],
   "source": [
    "def print_all(items: list):\n",
    "    for item in items:\n",
    "        print(item)"
   ]
  },
  {
   "cell_type": "code",
   "execution_count": null,
   "id": "d019a71d",
   "metadata": {
    "tags": [
     "code-along"
    ]
   },
   "outputs": [],
   "source": [
    "print_all([1, 2, 3])"
   ]
  },
  {
   "cell_type": "code",
   "execution_count": null,
   "id": "e429260e",
   "metadata": {
    "tags": [
     "code-along"
    ]
   },
   "outputs": [],
   "source": [
    "print_all(\"abc\")"
   ]
  },
  {
   "cell_type": "markdown",
   "id": "8eefe9a2",
   "metadata": {
    "lang": "de",
    "slideshow": {
     "slide_type": "subslide"
    }
   },
   "source": [
    "### Ranges"
   ]
  },
  {
   "cell_type": "code",
   "execution_count": null,
   "id": "5da743ab",
   "metadata": {
    "slideshow": {
     "slide_type": "subslide"
    },
    "tags": [
     "code-along"
    ]
   },
   "outputs": [],
   "source": [
    "for i in range(3):\n",
    "    print(i, end=\", \")"
   ]
  },
  {
   "cell_type": "code",
   "execution_count": null,
   "id": "b82eb7d2",
   "metadata": {
    "tags": [
     "code-along"
    ]
   },
   "outputs": [],
   "source": [
    "for i in range(1, 6, 2):\n",
    "    print(i, end=\", \")"
   ]
  },
  {
   "cell_type": "markdown",
   "id": "c6fb9c2c",
   "metadata": {
    "lang": "de",
    "lines_to_next_cell": 2,
    "slideshow": {
     "slide_type": "subslide"
    }
   },
   "source": [
    "### Micro-Workshop\n",
    "\n",
    "Schreiben Sie eine Funktion `print_squares(n: int)`, die die Quadrate der\n",
    "Zahlen von 1 bis n ausgibt, jeweils ein Element pro Zeile:\n",
    "\n",
    "```python\n",
    ">>> print_square(3)\n",
    "1**2 = 1\n",
    "2**2 = 4\n",
    "3**2 = 9\n",
    ">>>\n",
    "```"
   ]
  },
  {
   "cell_type": "code",
   "execution_count": null,
   "id": "de5f45b5",
   "metadata": {
    "tags": [
     "code-along"
    ]
   },
   "outputs": [],
   "source": [
    "def print_squares(n: int):\n",
    "    for i in range(1, n + 1):\n",
    "        print(i, \"**2 = \", i * i, sep=\"\")"
   ]
  },
  {
   "cell_type": "code",
   "execution_count": null,
   "id": "169da00e",
   "metadata": {
    "tags": [
     "code-along"
    ]
   },
   "outputs": [],
   "source": [
    "print_squares(3)"
   ]
  },
  {
   "cell_type": "markdown",
   "id": "39729935",
   "metadata": {
    "lang": "de",
    "slideshow": {
     "slide_type": "subslide"
    }
   },
   "source": [
    "## Dictionaries"
   ]
  },
  {
   "cell_type": "code",
   "execution_count": null,
   "id": "27b1dbab",
   "metadata": {},
   "outputs": [],
   "source": [
    "translations = {\"snake\": \"Schlange\", \"bat\": \"Fledermaus\", \"horse\": \"Hose\"}"
   ]
  },
  {
   "cell_type": "code",
   "execution_count": null,
   "id": "093e7beb",
   "metadata": {
    "tags": [
     "code-along"
    ]
   },
   "outputs": [],
   "source": [
    "print(translations[\"snake\"])\n",
    "print(translations.get(\"bat\", \"<unbekannt>\"))\n",
    "print(translations.get(\"monkey\", \"<unbekannt>\"))"
   ]
  },
  {
   "cell_type": "code",
   "execution_count": null,
   "id": "717d9fb9",
   "metadata": {
    "tags": [
     "code-along"
    ]
   },
   "outputs": [],
   "source": [
    "# Error:\n",
    "# translations['monkey']"
   ]
  },
  {
   "cell_type": "code",
   "execution_count": null,
   "id": "44986c27",
   "metadata": {
    "slideshow": {
     "slide_type": "subslide"
    },
    "tags": [
     "code-along"
    ]
   },
   "outputs": [],
   "source": [
    "translations[\"horse\"] = \"Pferd\"\n",
    "translations[\"horse\"]"
   ]
  },
  {
   "cell_type": "code",
   "execution_count": null,
   "id": "24cf6347",
   "metadata": {
    "slideshow": {
     "slide_type": "subslide"
    },
    "tags": [
     "code-along"
    ]
   },
   "outputs": [],
   "source": [
    "for key in translations.keys():\n",
    "    print(key, end=\" \")"
   ]
  },
  {
   "cell_type": "code",
   "execution_count": null,
   "id": "9879431c",
   "metadata": {
    "slideshow": {
     "slide_type": "subslide"
    },
    "tags": [
     "code-along"
    ]
   },
   "outputs": [],
   "source": [
    "for key in translations:\n",
    "    print(key, end=\" \")"
   ]
  },
  {
   "cell_type": "code",
   "execution_count": null,
   "id": "355affe4",
   "metadata": {
    "tags": [
     "code-along"
    ]
   },
   "outputs": [],
   "source": [
    "for val in translations.values():\n",
    "    print(val, end=\" \")"
   ]
  },
  {
   "cell_type": "code",
   "execution_count": null,
   "id": "2cfe68dc",
   "metadata": {
    "slideshow": {
     "slide_type": "subslide"
    },
    "tags": [
     "code-along"
    ]
   },
   "outputs": [],
   "source": [
    "for item in translations.items():\n",
    "    print(item, end=\" \")"
   ]
  },
  {
   "cell_type": "code",
   "execution_count": null,
   "id": "853397ce",
   "metadata": {
    "tags": [
     "code-along"
    ]
   },
   "outputs": [],
   "source": [
    "for key, val in translations.items():\n",
    "    print(\"Key:\", key, \"\\tValue:\", val)"
   ]
  },
  {
   "cell_type": "code",
   "execution_count": null,
   "id": "48596160",
   "metadata": {},
   "outputs": [],
   "source": []
  }
 ],
 "metadata": {
  "jupytext": {
   "cell_metadata_json": true,
   "encoding": "# -*- coding: utf-8 -*-",
   "formats": "ipynb"
  },
  "kernelspec": {
   "display_name": "Python 3 (ipykernel)",
   "language": "python",
   "name": "python3"
  }
 },
 "nbformat": 4,
 "nbformat_minor": 5
}
