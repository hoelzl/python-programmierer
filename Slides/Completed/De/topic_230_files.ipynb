{
 "cells": [
  {
   "cell_type": "markdown",
   "id": "ee2485a3",
   "metadata": {
    "lang": "de",
    "slideshow": {
     "slide_type": "slide"
    }
   },
   "source": [
    "<img src=\"img/python-logo-notext.svg\"\n",
    "     style=\"display:block;margin:auto;width:10%\"/>\n",
    "<br>\n",
    "<div style=\"text-align:center; font-size:200%;\"><b>Dateien</b></div>\n",
    "<br/>\n",
    "<div style=\"text-align:center;\">Dr. Matthias Hölzl</div>"
   ]
  },
  {
   "cell_type": "markdown",
   "id": "81415579",
   "metadata": {
    "lang": "de",
    "lines_to_next_cell": 2,
    "slideshow": {
     "slide_type": "slide"
    }
   },
   "source": [
    "\n",
    "# Dateien\n",
    "\n",
    "Bislang gehen am Ende der Programmausführung alle Daten, die wir berechnet haben verloren.\n",
    "\n",
    "Die einfachste Varianten Daten zu persistieren ist sie in einer Datei zu speichern:"
   ]
  },
  {
   "cell_type": "code",
   "execution_count": null,
   "id": "8bf9f892",
   "metadata": {
    "lines_to_next_cell": 2,
    "tags": [
     "code-along"
    ]
   },
   "outputs": [],
   "source": [
    "import os"
   ]
  },
  {
   "cell_type": "code",
   "execution_count": null,
   "id": "9d556f1a",
   "metadata": {
    "lines_to_next_cell": 2,
    "tags": [
     "code-along"
    ]
   },
   "outputs": [],
   "source": [
    "os.getcwd()"
   ]
  },
  {
   "cell_type": "markdown",
   "id": "1a763f98",
   "metadata": {
    "lang": "de",
    "slideshow": {
     "slide_type": "subslide"
    }
   },
   "source": [
    "\n",
    " - Mit `open()` kann eine Datei zum Lesen oder Schreiben geöffnet werden.\n",
    " - Der `mode` Parameter gibt an, ob die Datei zum Lesen oder Schreiben geöffnet\n",
    "   wird:\n",
    "   - `r`: Lesen\n",
    "   - `w`: Schreiben. Der Inhalt der Datei wird gelöscht\n",
    "   - `a`: Schreiben. Die neuen Daten werden ans Ende der Datei geschrieben.\n",
    "   - `x`: Schreiben. Die Datei darf nicht existieren.\n",
    "   - `r+`: Lesen und Schreiben.\n",
    " - Wird ans Ende von `mode` der Buchstabe `b` angehängt, so wird die Datei als\n",
    "   Binärdatei behandelt.\n",
    " - Mit den Methoden `tell()` und `seek()` kann die Position in der Datei\n",
    "   abgefragt oder verändert werden."
   ]
  },
  {
   "cell_type": "code",
   "execution_count": null,
   "id": "01480721",
   "metadata": {
    "lines_to_next_cell": 2,
    "slideshow": {
     "slide_type": "subslide"
    },
    "tags": [
     "code-along"
    ]
   },
   "outputs": [],
   "source": [
    "file = open(\"my-data-file.txt\", \"w\")\n",
    "file.write(\"The first line.\\n\")\n",
    "file.write(\"The second line.\\n\")\n",
    "file.close()"
   ]
  },
  {
   "cell_type": "code",
   "execution_count": null,
   "id": "c7890fbe",
   "metadata": {
    "lines_to_next_cell": 2,
    "tags": [
     "code-along"
    ]
   },
   "outputs": [],
   "source": [
    "file = open(\"my-data-file.txt\", \"r\")\n",
    "contents = file.read()\n",
    "print(contents)\n",
    "file.close()\n",
    "contents"
   ]
  },
  {
   "cell_type": "code",
   "execution_count": null,
   "id": "fde6d069",
   "metadata": {
    "lines_to_next_cell": 2,
    "tags": [
     "code-along"
    ]
   },
   "outputs": [],
   "source": [
    "file = open(\"my-data-file.txt\", mode=\"w\")\n",
    "file.write(\"Another line.\\n\")\n",
    "file.write(\"Yet another line.\\n\")\n",
    "file.close()"
   ]
  },
  {
   "cell_type": "code",
   "execution_count": null,
   "id": "f3fe08bd",
   "metadata": {
    "lines_to_next_cell": 2,
    "tags": [
     "code-along"
    ]
   },
   "outputs": [],
   "source": [
    "file = open(\"my-data-file.txt\", mode=\"r\")\n",
    "contents = file.read()\n",
    "print(contents)\n",
    "file.close()"
   ]
  },
  {
   "cell_type": "code",
   "execution_count": null,
   "id": "da7bc8b3",
   "metadata": {
    "lines_to_next_cell": 2,
    "tags": [
     "code-along"
    ]
   },
   "outputs": [],
   "source": [
    "file = open(\"my-data-file.txt\", mode=\"a\")\n",
    "file.write(\"Let's try this again.\\n\")\n",
    "file.write(\"Until we succeed.\\n\")\n",
    "file.close()"
   ]
  },
  {
   "cell_type": "code",
   "execution_count": null,
   "id": "941ce773",
   "metadata": {
    "lines_to_next_cell": 2,
    "tags": [
     "code-along"
    ]
   },
   "outputs": [],
   "source": [
    "file = open(\"my-data-file.txt\", \"r\")\n",
    "contents = file.read()\n",
    "print(contents)\n",
    "file.close()"
   ]
  },
  {
   "cell_type": "markdown",
   "id": "da27508e",
   "metadata": {
    "lang": "de",
    "slideshow": {
     "slide_type": "subslide"
    }
   },
   "source": [
    "\n",
    " Dateien müssen immer mit `close` geschlossen werden, auch wenn der\n",
    " Programmteil, in dem die Datei verwendet wird durch eine Exception verlassen\n",
    " wird. Das könnte mit `try ... finally` erfolgen.\n",
    "\n",
    " Python bietet dafür ein eleganteres Konstrukt:"
   ]
  },
  {
   "cell_type": "code",
   "execution_count": null,
   "id": "d894b7d8",
   "metadata": {
    "lines_to_next_cell": 2,
    "tags": [
     "code-along"
    ]
   },
   "outputs": [],
   "source": [
    "with open(\"my-data-file.txt\", \"r\") as file:\n",
    "    contents = file.read()\n",
    "print(contents)"
   ]
  },
  {
   "cell_type": "code",
   "execution_count": null,
   "id": "56f67b84",
   "metadata": {
    "lines_to_next_cell": 2,
    "tags": [
     "code-along"
    ]
   },
   "outputs": [],
   "source": [
    "with open(\"my-data-file.txt\", \"r+\") as file:\n",
    "    print(f\"File position before reading: {file.tell()}\")\n",
    "    contents = file.read()\n",
    "    print(f\"File position after reading: {file.tell()}\")\n",
    "    file.write(\"Another line.\\nAnd another.\")\n",
    "    print(f\"File position after writing: {file.tell()}\")"
   ]
  },
  {
   "cell_type": "code",
   "execution_count": null,
   "id": "7e05f296",
   "metadata": {
    "lines_to_next_cell": 2,
    "tags": [
     "code-along"
    ]
   },
   "outputs": [],
   "source": [
    "with open(\"my-data-file.txt\", \"r+\") as file:\n",
    "    print(f\"File has {len(file.readlines())} lines.\")\n",
    "    file.seek(40)\n",
    "    file.write(\"overwrite a part of the file, yes?\")\n",
    "    file.seek(0)\n",
    "    print(file.read())"
   ]
  },
  {
   "cell_type": "markdown",
   "id": "b56949c9",
   "metadata": {
    "lang": "de",
    "slideshow": {
     "slide_type": "subslide"
    }
   },
   "source": [
    "\n",
    " ## Mini-Workshop\n",
    "\n",
    " - Notebook `workshop_230_files`\n",
    " - Abschnitt \"Lesen und Schreiben in Dateien\"\n"
   ]
  },
  {
   "cell_type": "markdown",
   "id": "e6182d4a",
   "metadata": {
    "lang": "de",
    "slideshow": {
     "slide_type": "slide"
    }
   },
   "source": [
    "\n",
    "## Objektorientierter Umgang mit Dateien: Pathlib\n",
    "\n",
    "Das `pathlib`-Modul bietet mit der Klasse `Path` einen sehr eleganten\n",
    "objektorientierten Ansatz zum Umgang mit Dateien:"
   ]
  },
  {
   "cell_type": "code",
   "execution_count": 1,
   "id": "58841008",
   "metadata": {
    "tags": [
     "code-along"
    ]
   },
   "outputs": [],
   "source": [
    "from pathlib import Path"
   ]
  },
  {
   "cell_type": "code",
   "execution_count": 2,
   "id": "4305fcbe",
   "metadata": {
    "tags": [
     "code-along"
    ]
   },
   "outputs": [
    {
     "name": "stdout",
     "output_type": "stream",
     "text": [
      "relative path: .\n",
      "absolute path: C:\\Users\\tc\\Programming\\Python\\Courses\\Own\\python-programmierer\\Slides\\Completed\\De\n"
     ]
    },
    {
     "data": {
      "text/plain": [
       "WindowsPath('.')"
      ]
     },
     "execution_count": 2,
     "metadata": {},
     "output_type": "execute_result"
    }
   ],
   "source": [
    "my_path = Path()\n",
    "print(\"relative path:\", my_path)\n",
    "print(\"absolute path:\", my_path.absolute())\n",
    "my_path"
   ]
  },
  {
   "cell_type": "code",
   "execution_count": 3,
   "id": "2673e31a",
   "metadata": {
    "tags": [
     "code-along"
    ]
   },
   "outputs": [
    {
     "name": "stdout",
     "output_type": "stream",
     "text": [
      "Name:          README.md\n",
      "Parent:        C:\\Users\\tc\\Programming\\Python\\Courses\\Own\\python-programmierer\\Slides\\Completed\\De\n",
      "Suffix:        .md\n",
      "Change suffix: README.txt\n",
      "Exists?        False\n"
     ]
    }
   ],
   "source": [
    "my_file = my_path / \"README.md\"\n",
    "print(\"Name:         \", my_file.name)\n",
    "print(\"Parent:       \", my_file.parent.absolute())\n",
    "print(\"Suffix:       \", my_file.suffix)\n",
    "print(\"Change suffix:\", my_file.with_suffix(\".txt\"))\n",
    "print(\"Exists?       \", my_file.exists())"
   ]
  },
  {
   "cell_type": "code",
   "execution_count": 4,
   "id": "34d7ccc7",
   "metadata": {
    "slideshow": {
     "slide_type": "subslide"
    },
    "tags": [
     "code-along"
    ]
   },
   "outputs": [
    {
     "name": "stdout",
     "output_type": "stream",
     "text": [
      "C:\\Users\\tc\\Tmp\n",
      "False\n"
     ]
    }
   ],
   "source": [
    "tmp_dir = Path.home() / \"Tmp\"\n",
    "print(tmp_dir.absolute())\n",
    "print(tmp_dir.exists())"
   ]
  },
  {
   "cell_type": "code",
   "execution_count": 5,
   "id": "e6006c1f",
   "metadata": {
    "tags": [
     "code-along"
    ]
   },
   "outputs": [
    {
     "data": {
      "text/plain": [
       "True"
      ]
     },
     "execution_count": 5,
     "metadata": {},
     "output_type": "execute_result"
    }
   ],
   "source": [
    "assert not tmp_dir.exists()\n",
    "my_dir = tmp_dir / \"subdir1/subdir2\" / \"subdir3\"\n",
    "my_dir.mkdir(parents=True, exist_ok=False)\n",
    "my_dir.exists()"
   ]
  },
  {
   "cell_type": "code",
   "execution_count": 6,
   "id": "6aac831e",
   "metadata": {
    "slideshow": {
     "slide_type": "subslide"
    },
    "tags": [
     "code-along"
    ]
   },
   "outputs": [
    {
     "name": "stdout",
     "output_type": "stream",
     "text": [
      "Exists? True\n",
      "[WindowsPath('C:/Users/tc/Tmp/subdir1/subdir2/subdir3/test.txt')]\n",
      "Exists? False\n",
      "[]\n"
     ]
    }
   ],
   "source": [
    "my_file = my_dir / \"test.txt\"\n",
    "with my_file.open(\"w\", encoding=\"utf-8\") as file:\n",
    "    file.write(\"Hello, world\")\n",
    "print(\"Exists?\", my_file.exists())\n",
    "print(list(my_dir.glob(\"*\")))\n",
    "my_file.unlink()\n",
    "print(\"Exists?\", my_file.exists())\n",
    "print(list(my_dir.glob(\"*\")))\n",
    "my_file.unlink(missing_ok=True)"
   ]
  },
  {
   "cell_type": "code",
   "execution_count": 7,
   "id": "ea9c84b2",
   "metadata": {
    "tags": [
     "code-along"
    ]
   },
   "outputs": [
    {
     "name": "stdout",
     "output_type": "stream",
     "text": [
      "Exists? False\n"
     ]
    }
   ],
   "source": [
    "if my_dir.exists():\n",
    "    my_dir.rmdir()\n",
    "print(\"Exists?\", my_dir.exists())"
   ]
  },
  {
   "cell_type": "code",
   "execution_count": 8,
   "id": "5eb80499",
   "metadata": {
    "lines_to_next_cell": 2,
    "tags": [
     "code-along"
    ]
   },
   "outputs": [],
   "source": [
    "import shutil\n",
    "\n",
    "shutil.rmtree(tmp_dir, ignore_errors=True)"
   ]
  },
  {
   "cell_type": "code",
   "execution_count": 9,
   "id": "726a33ae",
   "metadata": {
    "tags": [
     "code-along"
    ]
   },
   "outputs": [
    {
     "data": {
      "text/plain": [
       "False"
      ]
     },
     "execution_count": 9,
     "metadata": {},
     "output_type": "execute_result"
    }
   ],
   "source": [
    "tmp_dir.exists()"
   ]
  },
  {
   "cell_type": "code",
   "execution_count": null,
   "id": "31f2f245",
   "metadata": {},
   "outputs": [],
   "source": []
  }
 ],
 "metadata": {
  "jupytext": {
   "cell_metadata_json": true,
   "encoding": "# -*- coding: utf-8 -*-",
   "formats": "ipynb"
  },
  "kernelspec": {
   "display_name": "Python 3 (ipykernel)",
   "language": "python",
   "name": "python3"
  },
  "language_info": {
   "codemirror_mode": {
    "name": "ipython",
    "version": 3
   },
   "file_extension": ".py",
   "mimetype": "text/x-python",
   "name": "python",
   "nbconvert_exporter": "python",
   "pygments_lexer": "ipython3",
   "version": "3.10.4"
  },
  "nbTranslate": {
   "displayLangs": [
    "de"
   ],
   "hotkey": "alt-t",
   "langInMainMenu": true,
   "sourceLang": "de",
   "targetLang": "en",
   "useGoogleTranslate": true
  }
 },
 "nbformat": 4,
 "nbformat_minor": 5
}
