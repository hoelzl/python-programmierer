{
 "cells": [
  {
   "cell_type": "markdown",
   "id": "2ffa83d3",
   "metadata": {
    "lang": "de",
    "slideshow": {
     "slide_type": "slide"
    }
   },
   "source": [
    "<img src=\"img/python-logo-notext.svg\"\n",
    "     style=\"display:block;margin:auto;width:10%\"/>\n",
    "<br>\n",
    "<div style=\"text-align:center; font-size:200%;\"><b>Objektorientierung Teil 2: Vererbung</b></div>\n",
    "<br/>\n",
    "<div style=\"text-align:center;\">Dr. Matthias Hölzl</div>"
   ]
  },
  {
   "cell_type": "markdown",
   "id": "db8a53e4",
   "metadata": {
    "lang": "de",
    "slideshow": {
     "slide_type": "slide"
    }
   },
   "source": [
    "\n",
    " # Objektorientierung Teil 2\n",
    "\n",
    " - Wir haben im vorherigen Kapitel Klassen kennengelernt, einen der grundlegenden Baustein der objektorientierten Programmierung\n",
    " - In diesem Kapitel werden wir Vererbung betrachten."
   ]
  },
  {
   "cell_type": "markdown",
   "id": "eba2a6e5",
   "metadata": {
    "lang": "de",
    "slideshow": {
     "slide_type": "subslide"
    }
   },
   "source": [
    " ## Vererbung"
   ]
  },
  {
   "cell_type": "code",
   "execution_count": null,
   "id": "2e3926dc",
   "metadata": {},
   "outputs": [],
   "source": [
    "import random\n",
    "from typing import Tuple\n",
    "\n",
    "\n",
    "class Point:\n",
    "    def __init__(self, x=0, y=0):\n",
    "        self.x = x\n",
    "        self.y = y\n",
    "\n",
    "    def __repr__(self):\n",
    "        return f\"Point({self.x:.1f}, {self.y:.1f})\"\n",
    "\n",
    "    def move(self, dx=0, dy=0):\n",
    "        self.x += dx\n",
    "        self.y += dy\n",
    "\n",
    "    def randomize(self):\n",
    "        self.x = random.gauss(2, 4)\n",
    "        self.y = random.gauss(3, 2)"
   ]
  },
  {
   "cell_type": "code",
   "execution_count": null,
   "id": "728989c5",
   "metadata": {},
   "outputs": [],
   "source": [
    "p = Point(0, 0)\n",
    "p"
   ]
  },
  {
   "cell_type": "code",
   "execution_count": null,
   "id": "901c95fd",
   "metadata": {},
   "outputs": [],
   "source": [
    "assert p.x == 0.0\n",
    "assert p.y == 0.0"
   ]
  },
  {
   "cell_type": "code",
   "execution_count": null,
   "id": "e3c24a8a",
   "metadata": {},
   "outputs": [],
   "source": [
    "p.move(2, 3)\n",
    "p"
   ]
  },
  {
   "cell_type": "code",
   "execution_count": null,
   "id": "88301cde",
   "metadata": {},
   "outputs": [],
   "source": [
    "assert p.x == 2.0\n",
    "assert p.y == 3.0"
   ]
  },
  {
   "cell_type": "code",
   "execution_count": null,
   "id": "0f2cdb6e",
   "metadata": {},
   "outputs": [],
   "source": [
    "p.randomize()\n",
    "p"
   ]
  },
  {
   "cell_type": "markdown",
   "id": "94ea9035",
   "metadata": {
    "lang": "de",
    "slideshow": {
     "slide_type": "subslide"
    }
   },
   "source": [
    "Wie können wir farbige Punkte einführen, ohne die komplette Funktionalität von `Point` neu implementieren zu müssen?"
   ]
  },
  {
   "cell_type": "code",
   "execution_count": null,
   "id": "1e3b411a",
   "metadata": {
    "tags": [
     "code-along"
    ]
   },
   "outputs": [],
   "source": [
    "class ColorPoint(Point):\n",
    "    def __init__(self, x=0, y=0, color=\"black\"):\n",
    "        super().__init__(x, y)\n",
    "        self.color = color\n",
    "\n",
    "    def __repr__(self):\n",
    "        return f\"ColorPoint({self.x:.1f}, {self.y:.1f}, {self.color!r})\"\n",
    "\n",
    "    def randomize(self):\n",
    "        super().randomize()\n",
    "        self.color = random.choice([\"black\", \"red\", \"green\", \"blue\", \"yellow\", \"white\"])"
   ]
  },
  {
   "cell_type": "code",
   "execution_count": null,
   "id": "198f2df3",
   "metadata": {
    "lines_to_next_cell": 2,
    "tags": [
     "code-along"
    ]
   },
   "outputs": [],
   "source": [
    "cp = ColorPoint(2, 3, \"red\")\n",
    "cp"
   ]
  },
  {
   "cell_type": "code",
   "execution_count": null,
   "id": "00e46fa6",
   "metadata": {
    "tags": [
     "code-along"
    ]
   },
   "outputs": [],
   "source": [
    "assert cp.x == 2.0\n",
    "assert cp.y == 3.0\n",
    "assert cp.color == \"red\""
   ]
  },
  {
   "cell_type": "code",
   "execution_count": null,
   "id": "e536b657",
   "metadata": {
    "lines_to_next_cell": 2,
    "tags": [
     "code-along"
    ]
   },
   "outputs": [],
   "source": [
    "cp.move(2, 3)\n",
    "cp"
   ]
  },
  {
   "cell_type": "code",
   "execution_count": null,
   "id": "e48b25e0",
   "metadata": {
    "tags": [
     "code-along"
    ]
   },
   "outputs": [],
   "source": [
    "assert cp.x == 4.0\n",
    "assert cp.y == 6.0\n",
    "assert cp.color == \"red\""
   ]
  },
  {
   "cell_type": "code",
   "execution_count": null,
   "id": "7bbe6d4f",
   "metadata": {
    "lines_to_next_cell": 2,
    "tags": [
     "code-along"
    ]
   },
   "outputs": [],
   "source": [
    "cp.randomize()\n",
    "cp"
   ]
  },
  {
   "cell_type": "markdown",
   "id": "2511ff5b",
   "metadata": {
    "lang": "de",
    "slideshow": {
     "slide_type": "subslide"
    }
   },
   "source": [
    "\n",
    " ## Mini-Workshop\n",
    "\n",
    " - Notebook `workshop_190_inheritance`\n",
    " - Abschnitt \"Vererbung\"\n"
   ]
  },
  {
   "cell_type": "markdown",
   "id": "ba89d0e8",
   "metadata": {
    "lang": "de",
    "slideshow": {
     "slide_type": "slide"
    }
   },
   "source": [
    "## Abstrakte Klassen\n",
    "\n",
    "- Klassen von denen keine direkte Instanz erzeugt werden kann\n",
    "- Haben die Klasse `abc.ABC` als Basisklasse\n",
    "    - (Eigentlich ist eine Metaklasse verantwortlich für das Verhalten)\n",
    "- Erlauben die Verwendung des `@abstractmethod` Dekorators um abstrakte Methoden zu definieren\n",
    "    - Der Rumpf einer abstrakten Methode ist oft `...`\n",
    "- Abstrakte Klassen, die nur abstrakte Methoden haben nennt man Interfaces\n",
    "    - Interfaces beschreiben Anforderungen an ihre Unterklassen"
   ]
  },
  {
   "cell_type": "code",
   "execution_count": null,
   "id": "55a25fca",
   "metadata": {
    "tags": [
     "code-along"
    ]
   },
   "outputs": [],
   "source": [
    "..."
   ]
  },
  {
   "cell_type": "code",
   "execution_count": null,
   "id": "3bb00b26",
   "metadata": {
    "slideshow": {
     "slide_type": "subslide"
    },
    "tags": [
     "code-along"
    ]
   },
   "outputs": [],
   "source": [
    "from abc import ABC, abstractmethod\n",
    "\n",
    "class MyBase(ABC):\n",
    "    @abstractmethod\n",
    "    def my_method(self):\n",
    "        ..."
   ]
  },
  {
   "cell_type": "code",
   "execution_count": null,
   "id": "9dc20774",
   "metadata": {
    "tags": [
     "code-along"
    ]
   },
   "outputs": [],
   "source": [
    "class MyClass(MyBase):\n",
    "    def my_method(self):\n",
    "        super().my_method()\n",
    "        print(\"my_method()\")"
   ]
  },
  {
   "cell_type": "code",
   "execution_count": null,
   "id": "60b31478",
   "metadata": {
    "tags": [
     "code-along"
    ]
   },
   "outputs": [],
   "source": [
    "mc = MyClass()\n",
    "mc.my_method()"
   ]
  },
  {
   "cell_type": "markdown",
   "id": "5b8186a8",
   "metadata": {
    "lang": "de",
    "slideshow": {
     "slide_type": "subslide"
    }
   },
   "source": [
    "- Abstrakte Methoden können eine Implementierung haben\n",
    "- Klassen, die von einer abstrakten Klasse erben aber nicht alle abstrakten Methoden überschreiben sind selber abstrakt."
   ]
  },
  {
   "cell_type": "code",
   "execution_count": null,
   "id": "8a498a8f",
   "metadata": {
    "tags": [
     "code-along"
    ]
   },
   "outputs": [],
   "source": [
    "from abc import ABC, abstractmethod\n",
    "\n",
    "class MyBase(ABC):\n",
    "    @abstractmethod\n",
    "    def my_method(self):\n",
    "        print(\"Hi!\")"
   ]
  },
  {
   "cell_type": "code",
   "execution_count": null,
   "id": "3129a242",
   "metadata": {
    "lines_to_next_cell": 2,
    "tags": [
     "code-along"
    ]
   },
   "outputs": [],
   "source": [
    "class MyClass(MyBase):\n",
    "    pass"
   ]
  },
  {
   "cell_type": "code",
   "execution_count": null,
   "id": "3b7d3b03",
   "metadata": {
    "lines_to_next_cell": 2,
    "tags": [
     "code-along"
    ]
   },
   "outputs": [],
   "source": [
    "# mc = MyClass()"
   ]
  },
  {
   "cell_type": "code",
   "execution_count": null,
   "id": "2f355c11",
   "metadata": {
    "tags": [
     "code-along"
    ]
   },
   "outputs": [],
   "source": [
    "class YourClass(MyBase):\n",
    "    def my_method(self):\n",
    "        super().my_method()\n",
    "        print(\"Hello!\")"
   ]
  },
  {
   "cell_type": "code",
   "execution_count": null,
   "id": "2399df7f",
   "metadata": {
    "lines_to_next_cell": 2,
    "tags": [
     "code-along"
    ]
   },
   "outputs": [],
   "source": [
    "yc = YourClass()\n",
    "yc.my_method()"
   ]
  },
  {
   "cell_type": "markdown",
   "id": "6b53ab71",
   "metadata": {
    "lang": "de",
    "lines_to_next_cell": 2,
    "slideshow": {
     "slide_type": "subslide"
    }
   },
   "source": [
    "# Workshop\n",
    "\n",
    "Siehe `workshop_950_rpg_dice` bis `Factory für RPG-Würfel`."
   ]
  },
  {
   "cell_type": "markdown",
   "id": "765cb0f7",
   "metadata": {
    "lang": "de"
   },
   "source": [
    "## RPG-Würfel\n",
    "\n",
    "In Rollenspielen werden Konflikte zwischen Spielern oft durch Würfeln\n",
    "entschieden. Dabei werden oft mehrere Würfel gleichzeitig verwendet. Außerdem\n",
    "werden nicht nur die bekannten 6-seitigen Würfel verwendet, sondern auch\n",
    "4-seitige, 8-seitige, 20-seitige Würfel, etc.\n",
    "\n",
    "Die Anzahl und Art der Würfel wird dabei durch folgende Notation beschrieben:\n",
    "\n",
    "```text\n",
    "<Anzahl der Würfel> d <Seiten pro Würfel>\n",
    "```\n",
    "\n",
    "Zum Beispiel wird das Würfeln mit zwei 6-seitigen Würfeln als `2d6`\n",
    "beschrieben. Manchmal werden auch komplexere Formeln verwendet: \n",
    "`3d20 + 2d6 - 4` bedeutet, dass gleichzeitig drei 20-seitige Würfel und zwei 6-seitige\n",
    "Würfel geworfen werden und die Gesamtsumme der Augenzahlen dann um 4\n",
    "verringert wird.\n",
    "\n",
    "In manchen Spielen wird das Werfen der niedrigsten oder höchsten Augenzahl\n",
    "besonders behandelt (\"katastrophale Niederlage\", \"kritischer Erfolg\").\n",
    "\n",
    "In den folgenden Aufgaben sollen Sie derartige RPG-Würfel in Python\n",
    "implementieren. Um Ihre Implementierung testen zu können empfiehlt es sich\n",
    "sie in einem IDE zu realisieren. \n",
    "\n",
    "Schreiben Sie Tests für jede Funktionalität, die Sie implementieren.\n",
    "Wie können Sie beim Testen mit der Zufälligkeit beim Würfeln umgehen?\n",
    "Was sind Stärken bzw. Schwächen der von Ihnen gewählten Teststrategie?"
   ]
  },
  {
   "cell_type": "markdown",
   "id": "85ea5db4",
   "metadata": {
    "lang": "de",
    "lines_to_next_cell": 2,
    "slideshow": {
     "slide_type": "slide"
    }
   },
   "source": [
    "## Mehrfachvererbung"
   ]
  },
  {
   "cell_type": "code",
   "execution_count": null,
   "id": "01267acd",
   "metadata": {},
   "outputs": [],
   "source": [
    "class A:\n",
    "    \"\"\"Superclass of everything\"\"\"\n",
    "\n",
    "    def f(self):\n",
    "        print(f\"f(A) on {self!r}\")\n",
    "\n",
    "    def g(self):\n",
    "        print(f\"g(A) on {self!r}\")"
   ]
  },
  {
   "cell_type": "code",
   "execution_count": null,
   "id": "de4c70d5",
   "metadata": {},
   "outputs": [],
   "source": [
    "class B(A):\n",
    "    def f(self):\n",
    "        print(f\"f(B) on {self!r}\")\n",
    "        super().f()\n",
    "\n",
    "    def g(self):\n",
    "        print(f\"g(B) on {self!r}\")\n",
    "        A.g(self)"
   ]
  },
  {
   "cell_type": "code",
   "execution_count": null,
   "id": "6dbe3587",
   "metadata": {},
   "outputs": [],
   "source": [
    "class C(A):\n",
    "    def f(self):\n",
    "        print(f\"f(C) on {self!r}\")\n",
    "        super().f()\n",
    "\n",
    "    def g(self):\n",
    "        print(f\"g(C) on {self!r}\")\n",
    "        A.g(self)"
   ]
  },
  {
   "cell_type": "code",
   "execution_count": null,
   "id": "392538b0",
   "metadata": {},
   "outputs": [],
   "source": [
    "class D(B, C):\n",
    "    def f(self):\n",
    "        print(f\"f(D) on {self!r}\")\n",
    "        super().f()\n",
    "\n",
    "    def g(self):\n",
    "        print(f\"g(D) on {self!r}\")\n",
    "        B.g(self)\n",
    "        C.g(self)"
   ]
  },
  {
   "cell_type": "code",
   "execution_count": null,
   "id": "342369a9",
   "metadata": {},
   "outputs": [],
   "source": [
    "d = D()\n",
    "d.f()"
   ]
  },
  {
   "cell_type": "code",
   "execution_count": null,
   "id": "1e0d67f4",
   "metadata": {},
   "outputs": [],
   "source": [
    "d.g()"
   ]
  },
  {
   "cell_type": "code",
   "execution_count": null,
   "id": "c07560b6",
   "metadata": {},
   "outputs": [],
   "source": [
    "type(d).mro()"
   ]
  },
  {
   "cell_type": "code",
   "execution_count": null,
   "id": "765940de",
   "metadata": {},
   "outputs": [],
   "source": []
  }
 ],
 "metadata": {
  "jupytext": {
   "cell_metadata_json": true,
   "encoding": "# -*- coding: utf-8 -*-",
   "formats": "ipynb"
  },
  "kernelspec": {
   "display_name": "Python 3 (ipykernel)",
   "language": "python",
   "name": "python3"
  }
 },
 "nbformat": 4,
 "nbformat_minor": 5
}
