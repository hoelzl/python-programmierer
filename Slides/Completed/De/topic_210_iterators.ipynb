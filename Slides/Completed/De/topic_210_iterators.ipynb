{
 "cells": [
  {
   "cell_type": "markdown",
   "id": "fcf554c2",
   "metadata": {
    "lang": "de",
    "slideshow": {
     "slide_type": "slide"
    }
   },
   "source": [
    "<img src=\"img/python-logo-notext.svg\"\n",
    "     style=\"display:block;margin:auto;width:10%\"/>\n",
    "<br>\n",
    "<div style=\"text-align:center; font-size:200%;\"><b>Iteratoren und Generatoren</b></div>\n",
    "<br/>\n",
    "<div style=\"text-align:center;\">Dr. Matthias Hölzl</div>"
   ]
  },
  {
   "cell_type": "markdown",
   "id": "b4657b7a",
   "metadata": {
    "lang": "de",
    "lines_to_next_cell": 2,
    "slideshow": {
     "slide_type": "slide"
    }
   },
   "source": [
    "\n",
    "# Generatoren\n",
    "\n",
    "- Es ist nicht effizient eine Liste zu konstruieren, wenn wir sie nur zum\n",
    "  Iterieren über ihre Elemente verwenden wollen\n",
    "- Python bietet die Möglichkeit Generatoren zu definieren, die iterierbar\n",
    "  sind, aber nicht den Overhead einer Liste haben\n",
    "- Die einfachste Form ist mit Generator Expressions:"
   ]
  },
  {
   "cell_type": "code",
   "execution_count": null,
   "id": "a53cf46b",
   "metadata": {
    "tags": [
     "code-along"
    ]
   },
   "outputs": [],
   "source": [
    "gen = (n * n for n in range(10))\n",
    "gen"
   ]
  },
  {
   "cell_type": "code",
   "execution_count": null,
   "id": "d2ff00aa",
   "metadata": {
    "tags": [
     "code-along"
    ]
   },
   "outputs": [],
   "source": [
    "for i in gen:\n",
    "    print(i, end=\" \")"
   ]
  },
  {
   "cell_type": "code",
   "execution_count": null,
   "id": "5ce6a7a8",
   "metadata": {
    "tags": [
     "code-along"
    ]
   },
   "outputs": [],
   "source": [
    "for i, j, k in ((n, m, n * m) for n in range(2, 5) for m in range(n, 5)):\n",
    "    print(f\"{i}, {j}, {k}\")"
   ]
  },
  {
   "cell_type": "code",
   "execution_count": null,
   "id": "5294f7f1",
   "metadata": {
    "tags": [
     "code-along"
    ]
   },
   "outputs": [],
   "source": [
    "r = range(3)\n",
    "repr(r)"
   ]
  },
  {
   "cell_type": "code",
   "execution_count": null,
   "id": "93da1042",
   "metadata": {
    "tags": [
     "code-along"
    ]
   },
   "outputs": [],
   "source": [
    "it = iter(r)\n",
    "repr(it)"
   ]
  },
  {
   "cell_type": "code",
   "execution_count": null,
   "id": "dd4bda21",
   "metadata": {
    "tags": [
     "code-along"
    ]
   },
   "outputs": [],
   "source": [
    "next(it)"
   ]
  },
  {
   "cell_type": "code",
   "execution_count": null,
   "id": "52f89f74",
   "metadata": {
    "tags": [
     "code-along"
    ]
   },
   "outputs": [],
   "source": [
    "next(it)"
   ]
  },
  {
   "cell_type": "code",
   "execution_count": null,
   "id": "a64c3eb4",
   "metadata": {
    "tags": [
     "code-along"
    ]
   },
   "outputs": [],
   "source": [
    "next(it)"
   ]
  },
  {
   "cell_type": "code",
   "execution_count": null,
   "id": "fe91f3f7",
   "metadata": {
    "lines_to_next_cell": 2,
    "tags": [
     "code-along"
    ]
   },
   "outputs": [],
   "source": [
    "# next(it)"
   ]
  },
  {
   "cell_type": "code",
   "execution_count": null,
   "id": "c1cfdf8d",
   "metadata": {
    "tags": [
     "code-along"
    ]
   },
   "outputs": [],
   "source": [
    "for x in range(3):\n",
    "    print(x, end=\" \")"
   ]
  },
  {
   "cell_type": "code",
   "execution_count": null,
   "id": "d236f140",
   "metadata": {
    "tags": [
     "code-along"
    ]
   },
   "outputs": [],
   "source": [
    "_r = range(3)\n",
    "_temp_iter = iter(_r)\n",
    "while True:\n",
    "    try:\n",
    "        x = next(_temp_iter)\n",
    "    except StopIteration:\n",
    "        break\n",
    "    print(x, end=\" \")"
   ]
  },
  {
   "cell_type": "code",
   "execution_count": null,
   "id": "b024f317",
   "metadata": {
    "tags": [
     "code-along"
    ]
   },
   "outputs": [],
   "source": [
    "gen = (n * n for n in range(3))\n",
    "repr(gen)"
   ]
  },
  {
   "cell_type": "code",
   "execution_count": null,
   "id": "281b2893",
   "metadata": {
    "tags": [
     "code-along"
    ]
   },
   "outputs": [],
   "source": [
    "it = iter(gen)\n",
    "repr(it)"
   ]
  },
  {
   "cell_type": "code",
   "execution_count": null,
   "id": "09b6794c",
   "metadata": {
    "tags": [
     "code-along"
    ]
   },
   "outputs": [],
   "source": [
    "next(it)"
   ]
  },
  {
   "cell_type": "code",
   "execution_count": null,
   "id": "0d6ce59c",
   "metadata": {
    "tags": [
     "code-along"
    ]
   },
   "outputs": [],
   "source": [
    "next(it)"
   ]
  },
  {
   "cell_type": "code",
   "execution_count": null,
   "id": "3e87ae86",
   "metadata": {
    "lines_to_next_cell": 2,
    "tags": [
     "code-along"
    ]
   },
   "outputs": [],
   "source": [
    "next(it)"
   ]
  },
  {
   "cell_type": "code",
   "execution_count": null,
   "id": "a236824f",
   "metadata": {
    "lines_to_next_cell": 2,
    "tags": [
     "code-along"
    ]
   },
   "outputs": [],
   "source": [
    "# next(it)"
   ]
  },
  {
   "cell_type": "code",
   "execution_count": null,
   "id": "7582a86e",
   "metadata": {
    "lines_to_next_cell": 2,
    "tags": [
     "code-along"
    ]
   },
   "outputs": [],
   "source": [
    "# `it` ist \"erschöpft,\" man kann keine neuen Werte bekommen\n",
    "# next(it)"
   ]
  },
  {
   "cell_type": "markdown",
   "id": "4088ddbe",
   "metadata": {
    "lang": "de",
    "slideshow": {
     "slide_type": "slide"
    }
   },
   "source": [
    "## Generator Funktionen\n",
    "\n",
    "Komplexere Fälle können von Generator Expressions nicht mehr abgedeckt werden.\n",
    "\n",
    "- Generator, der alle Zahlen erzeugt (ohne Obergrenze)\n",
    "- Generator, der ein Iterable modifiziert (z.B. mehrfach ausführt, eine fixe Anzahl an Elementen nimmt)\n",
    "\n",
    "Für diese Fälle gibt es Generator-Funktionen"
   ]
  },
  {
   "cell_type": "code",
   "execution_count": null,
   "id": "ac235a99",
   "metadata": {
    "tags": [
     "code-along"
    ]
   },
   "outputs": [],
   "source": [
    "def integers(start=0):\n",
    "    n = start\n",
    "    while True:\n",
    "        yield n\n",
    "        n += 1"
   ]
  },
  {
   "cell_type": "code",
   "execution_count": null,
   "id": "884e60c6",
   "metadata": {
    "tags": [
     "code-along"
    ]
   },
   "outputs": [],
   "source": [
    "for i in integers():\n",
    "    if i > 3:\n",
    "        break\n",
    "    print(i, end=\" \")"
   ]
  },
  {
   "cell_type": "code",
   "execution_count": null,
   "id": "f55da5be",
   "metadata": {
    "tags": [
     "code-along"
    ]
   },
   "outputs": [],
   "source": [
    "gen = integers()\n",
    "print(repr(gen))\n",
    "print(repr(iter(gen)))"
   ]
  },
  {
   "cell_type": "code",
   "execution_count": null,
   "id": "9ebb4017",
   "metadata": {
    "tags": [
     "code-along"
    ]
   },
   "outputs": [],
   "source": [
    "gen = integers()"
   ]
  },
  {
   "cell_type": "code",
   "execution_count": null,
   "id": "1eea1895",
   "metadata": {
    "tags": [
     "code-along"
    ]
   },
   "outputs": [],
   "source": [
    "next(gen)"
   ]
  },
  {
   "cell_type": "code",
   "execution_count": null,
   "id": "e29b0550",
   "metadata": {
    "tags": [
     "code-along"
    ]
   },
   "outputs": [],
   "source": [
    "def repeat_n_times(n, it):\n",
    "    for _ in range(n):\n",
    "        for elt in it:\n",
    "            yield elt"
   ]
  },
  {
   "cell_type": "code",
   "execution_count": null,
   "id": "720c25e9",
   "metadata": {
    "tags": [
     "code-along"
    ]
   },
   "outputs": [],
   "source": [
    "for num in repeat_n_times(3, range(5)):\n",
    "    print(num, end=\" \")"
   ]
  }
 ],
 "metadata": {
  "jupytext": {
   "cell_metadata_json": true,
   "encoding": "# -*- coding: utf-8 -*-",
   "formats": "ipynb"
  },
  "kernelspec": {
   "display_name": "Python 3 (ipykernel)",
   "language": "python",
   "name": "python3"
  }
 },
 "nbformat": 4,
 "nbformat_minor": 5
}
