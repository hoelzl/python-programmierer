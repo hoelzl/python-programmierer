{
 "cells": [
  {
   "cell_type": "markdown",
   "id": "b1b2e588",
   "metadata": {
    "lang": "de",
    "slideshow": {
     "slide_type": "slide"
    }
   },
   "source": [
    "<img src=\"img/python-logo-notext.svg\"\n",
    "     style=\"display:block;margin:auto;width:10%\"/>\n",
    "<br>\n",
    "<div style=\"text-align:center; font-size:200%;\"><b>Pandas Data Frames 2</b></div>\n",
    "<br/>\n",
    "<div style=\"text-align:center;\">Dr. Matthias Hölzl</div>"
   ]
  },
  {
   "cell_type": "code",
   "execution_count": null,
   "id": "ce2a85b4",
   "metadata": {},
   "outputs": [],
   "source": [
    "import numpy as np\n",
    "import pandas as pd"
   ]
  },
  {
   "cell_type": "markdown",
   "id": "3b9e1411",
   "metadata": {
    "lang": "de",
    "lines_to_next_cell": 2
   },
   "source": [
    "## Fehlende Werte"
   ]
  },
  {
   "cell_type": "code",
   "execution_count": null,
   "id": "55cfce09",
   "metadata": {},
   "outputs": [],
   "source": [
    "def create_data_frame_with_nans():\n",
    "    return pd.DataFrame(\n",
    "        {\n",
    "            \"A\": [1, 2, np.nan, np.nan, 0],\n",
    "            \"B\": [5, 6, 7, np.nan, 0],\n",
    "            \"C\": [9, 10, 11, 12, 0],\n",
    "            \"D\": [13, 14, 15, 16, 0],\n",
    "            \"E\": [np.nan, 18, 19, 20, 0],\n",
    "        }\n",
    "    )"
   ]
  },
  {
   "cell_type": "code",
   "execution_count": null,
   "id": "7ecce2c7",
   "metadata": {
    "lines_to_next_cell": 2,
    "tags": [
     "code-along"
    ]
   },
   "outputs": [],
   "source": [
    "df = create_data_frame_with_nans()"
   ]
  },
  {
   "cell_type": "code",
   "execution_count": null,
   "id": "27d45ad8",
   "metadata": {
    "lines_to_next_cell": 2,
    "tags": [
     "code-along"
    ]
   },
   "outputs": [],
   "source": [
    "df"
   ]
  },
  {
   "cell_type": "code",
   "execution_count": null,
   "id": "70de3463",
   "metadata": {
    "lines_to_next_cell": 2,
    "tags": [
     "code-along"
    ]
   },
   "outputs": [],
   "source": [
    "df.isna()"
   ]
  },
  {
   "cell_type": "code",
   "execution_count": null,
   "id": "4a7a5c2a",
   "metadata": {
    "lines_to_next_cell": 2,
    "tags": [
     "code-along"
    ]
   },
   "outputs": [],
   "source": [
    "df.count()"
   ]
  },
  {
   "cell_type": "code",
   "execution_count": null,
   "id": "cf6df42a",
   "metadata": {
    "lines_to_next_cell": 2,
    "tags": [
     "code-along"
    ]
   },
   "outputs": [],
   "source": [
    "df"
   ]
  },
  {
   "cell_type": "code",
   "execution_count": null,
   "id": "0bd6e330",
   "metadata": {
    "lines_to_next_cell": 2,
    "tags": [
     "code-along"
    ]
   },
   "outputs": [],
   "source": [
    "df.count(axis=1)"
   ]
  },
  {
   "cell_type": "code",
   "execution_count": null,
   "id": "6c3834da",
   "metadata": {
    "lines_to_next_cell": 2,
    "tags": [
     "code-along"
    ]
   },
   "outputs": [],
   "source": [
    "df.isna().sum()"
   ]
  },
  {
   "cell_type": "code",
   "execution_count": null,
   "id": "f95af167",
   "metadata": {
    "lines_to_next_cell": 2,
    "tags": [
     "code-along"
    ]
   },
   "outputs": [],
   "source": [
    "df.isna().sum(axis=1)"
   ]
  },
  {
   "cell_type": "code",
   "execution_count": null,
   "id": "e11f2b31",
   "metadata": {
    "lines_to_next_cell": 2,
    "tags": [
     "code-along"
    ]
   },
   "outputs": [],
   "source": [
    "df"
   ]
  },
  {
   "cell_type": "code",
   "execution_count": null,
   "id": "c599c137",
   "metadata": {
    "lines_to_next_cell": 2,
    "tags": [
     "code-along"
    ]
   },
   "outputs": [],
   "source": [
    "df.dropna()"
   ]
  },
  {
   "cell_type": "code",
   "execution_count": null,
   "id": "3ac549dd",
   "metadata": {
    "lines_to_next_cell": 2,
    "tags": [
     "code-along"
    ]
   },
   "outputs": [],
   "source": [
    "df"
   ]
  },
  {
   "cell_type": "code",
   "execution_count": null,
   "id": "83690a49",
   "metadata": {
    "lines_to_next_cell": 2,
    "tags": [
     "code-along"
    ]
   },
   "outputs": [],
   "source": [
    "df.dropna(axis=1, inplace=True)"
   ]
  },
  {
   "cell_type": "code",
   "execution_count": null,
   "id": "aaf42379",
   "metadata": {
    "lines_to_next_cell": 2,
    "tags": [
     "code-along"
    ]
   },
   "outputs": [],
   "source": [
    "df"
   ]
  },
  {
   "cell_type": "code",
   "execution_count": null,
   "id": "f23afc2b",
   "metadata": {
    "lines_to_next_cell": 2,
    "tags": [
     "code-along"
    ]
   },
   "outputs": [],
   "source": [
    "df = create_data_frame_with_nans()\n",
    "df"
   ]
  },
  {
   "cell_type": "code",
   "execution_count": null,
   "id": "106b145c",
   "metadata": {
    "lines_to_next_cell": 2,
    "tags": [
     "code-along"
    ]
   },
   "outputs": [],
   "source": [
    "df.fillna(value=1000)"
   ]
  },
  {
   "cell_type": "code",
   "execution_count": null,
   "id": "8e107338",
   "metadata": {
    "tags": [
     "code-along"
    ]
   },
   "outputs": [],
   "source": [
    "df.mean()"
   ]
  },
  {
   "cell_type": "code",
   "execution_count": null,
   "id": "08088b73",
   "metadata": {
    "tags": [
     "code-along"
    ]
   },
   "outputs": [],
   "source": [
    "df.fillna(value=df.mean())"
   ]
  },
  {
   "cell_type": "code",
   "execution_count": null,
   "id": "bd5c3be9",
   "metadata": {
    "tags": [
     "code-along"
    ]
   },
   "outputs": [],
   "source": [
    "# df.fillna(value=df.mean(axis=1), axis=1)"
   ]
  },
  {
   "cell_type": "markdown",
   "id": "10d227a3",
   "metadata": {
    "lang": "de"
   },
   "source": [
    "## Gruppieren"
   ]
  },
  {
   "cell_type": "code",
   "execution_count": null,
   "id": "c9a22b21",
   "metadata": {},
   "outputs": [],
   "source": [
    "def create_course_df():\n",
    "    data = {\n",
    "        \"Course\": [\n",
    "            \"Python\",\n",
    "            \"Python\",\n",
    "            \"Python\",\n",
    "            \"Python\",\n",
    "            \"Java\",\n",
    "            \"Java\",\n",
    "            \"Java\",\n",
    "            \"C++\",\n",
    "            \"C++\",\n",
    "        ],\n",
    "        \"Person\": [\n",
    "            \"Jack\",\n",
    "            \"Jill\",\n",
    "            \"John\",\n",
    "            \"Bill\",\n",
    "            \"Jack\",\n",
    "            \"Bill\",\n",
    "            \"Davy\",\n",
    "            \"Jack\",\n",
    "            \"Diane\",\n",
    "        ],\n",
    "        \"Score\": [97, 92, 38, 73, 81, 52, 62, 86, 98],\n",
    "    }\n",
    "    return pd.DataFrame(data)"
   ]
  },
  {
   "cell_type": "code",
   "execution_count": null,
   "id": "9fd731d5",
   "metadata": {
    "lines_to_next_cell": 2,
    "tags": [
     "code-along"
    ]
   },
   "outputs": [],
   "source": [
    "df = create_course_df()\n",
    "df"
   ]
  },
  {
   "cell_type": "code",
   "execution_count": null,
   "id": "4b7f7237",
   "metadata": {
    "lines_to_next_cell": 2,
    "tags": [
     "code-along"
    ]
   },
   "outputs": [],
   "source": [
    "df.groupby(\"Course\")"
   ]
  },
  {
   "cell_type": "code",
   "execution_count": null,
   "id": "134889d9",
   "metadata": {
    "lines_to_next_cell": 2,
    "tags": [
     "code-along"
    ]
   },
   "outputs": [],
   "source": [
    "df_by_course = df.groupby(\"Course\")"
   ]
  },
  {
   "cell_type": "code",
   "execution_count": null,
   "id": "f9a6ecc6",
   "metadata": {
    "lines_to_next_cell": 2,
    "tags": [
     "code-along"
    ]
   },
   "outputs": [],
   "source": [
    "df_by_course.count()"
   ]
  },
  {
   "cell_type": "code",
   "execution_count": null,
   "id": "99e58c9e",
   "metadata": {
    "lines_to_next_cell": 2,
    "tags": [
     "code-along"
    ]
   },
   "outputs": [],
   "source": [
    "df_by_course[\"Person\"].count()"
   ]
  },
  {
   "cell_type": "code",
   "execution_count": null,
   "id": "e7b46302",
   "metadata": {
    "lines_to_next_cell": 2,
    "tags": [
     "code-along"
    ]
   },
   "outputs": [],
   "source": [
    "df_by_course.mean()"
   ]
  },
  {
   "cell_type": "code",
   "execution_count": null,
   "id": "c781c63c",
   "metadata": {
    "lines_to_next_cell": 2,
    "tags": [
     "code-along"
    ]
   },
   "outputs": [],
   "source": [
    "df_by_course.std()"
   ]
  },
  {
   "cell_type": "code",
   "execution_count": null,
   "id": "377ed51d",
   "metadata": {
    "lines_to_next_cell": 2,
    "tags": [
     "code-along"
    ]
   },
   "outputs": [],
   "source": [
    "df_by_course[\"Score\"].aggregate([\"mean\", \"std\"])"
   ]
  },
  {
   "cell_type": "code",
   "execution_count": null,
   "id": "dd81a1be",
   "metadata": {
    "lines_to_next_cell": 2,
    "tags": [
     "code-along"
    ]
   },
   "outputs": [],
   "source": [
    "df_by_course.aggregate([\"min\", \"max\"])"
   ]
  },
  {
   "cell_type": "code",
   "execution_count": null,
   "id": "fe086a7f",
   "metadata": {
    "lines_to_next_cell": 2,
    "tags": [
     "code-along"
    ]
   },
   "outputs": [],
   "source": [
    "df_by_course[\"Score\"].aggregate([\"min\", \"max\", \"mean\", \"std\"])"
   ]
  },
  {
   "cell_type": "code",
   "execution_count": null,
   "id": "f5623c6b",
   "metadata": {
    "lines_to_next_cell": 2,
    "tags": [
     "code-along"
    ]
   },
   "outputs": [],
   "source": [
    "df.groupby(\"Person\").mean()"
   ]
  },
  {
   "cell_type": "code",
   "execution_count": null,
   "id": "b71e4324",
   "metadata": {
    "tags": [
     "code-along"
    ]
   },
   "outputs": [],
   "source": [
    "df_by_course.describe()"
   ]
  },
  {
   "cell_type": "markdown",
   "id": "2fba81cf",
   "metadata": {
    "lang": "de"
   },
   "source": [
    "## Operationen (Fortsetzung)"
   ]
  },
  {
   "cell_type": "code",
   "execution_count": null,
   "id": "31120d8d",
   "metadata": {
    "lines_to_next_cell": 2,
    "tags": [
     "code-along"
    ]
   },
   "outputs": [],
   "source": [
    "df = create_course_df()\n",
    "df"
   ]
  },
  {
   "cell_type": "code",
   "execution_count": null,
   "id": "9e0f2c9c",
   "metadata": {
    "lines_to_next_cell": 2,
    "tags": [
     "code-along"
    ]
   },
   "outputs": [],
   "source": [
    "df.columns"
   ]
  },
  {
   "cell_type": "code",
   "execution_count": null,
   "id": "01d07382",
   "metadata": {
    "lines_to_next_cell": 2,
    "tags": [
     "code-along"
    ]
   },
   "outputs": [],
   "source": [
    "df.index"
   ]
  },
  {
   "cell_type": "code",
   "execution_count": null,
   "id": "ea8bda85",
   "metadata": {
    "lines_to_next_cell": 2,
    "tags": [
     "code-along"
    ]
   },
   "outputs": [],
   "source": [
    "df.sort_values(by=\"Course\")"
   ]
  },
  {
   "cell_type": "code",
   "execution_count": null,
   "id": "90f1e2a5",
   "metadata": {
    "lines_to_next_cell": 2,
    "tags": [
     "code-along"
    ]
   },
   "outputs": [],
   "source": [
    "df[\"Course\"].values"
   ]
  },
  {
   "cell_type": "code",
   "execution_count": null,
   "id": "3144d71c",
   "metadata": {
    "lines_to_next_cell": 2,
    "tags": [
     "code-along"
    ]
   },
   "outputs": [],
   "source": [
    "df[\"Person\"].values"
   ]
  },
  {
   "cell_type": "code",
   "execution_count": null,
   "id": "483b2166",
   "metadata": {
    "lines_to_next_cell": 2,
    "tags": [
     "code-along"
    ]
   },
   "outputs": [],
   "source": [
    "df[\"Course\"].unique()"
   ]
  },
  {
   "cell_type": "code",
   "execution_count": null,
   "id": "f84665dd",
   "metadata": {
    "lines_to_next_cell": 2,
    "tags": [
     "code-along"
    ]
   },
   "outputs": [],
   "source": [
    "df[\"Person\"].unique()"
   ]
  },
  {
   "cell_type": "code",
   "execution_count": null,
   "id": "2948c5a1",
   "metadata": {
    "lines_to_next_cell": 2,
    "tags": [
     "code-along"
    ]
   },
   "outputs": [],
   "source": [
    "df[\"Person\"].nunique()"
   ]
  },
  {
   "cell_type": "code",
   "execution_count": null,
   "id": "545944ec",
   "metadata": {
    "tags": [
     "code-along"
    ]
   },
   "outputs": [],
   "source": [
    "df[\"Person\"].value_counts()"
   ]
  },
  {
   "cell_type": "markdown",
   "id": "c96a4f73",
   "metadata": {
    "lang": "de"
   },
   "source": [
    "## Auswahl"
   ]
  },
  {
   "cell_type": "code",
   "execution_count": null,
   "id": "b4f4d8e2",
   "metadata": {
    "lines_to_next_cell": 2,
    "tags": [
     "code-along"
    ]
   },
   "outputs": [],
   "source": [
    "df[df[\"Score\"] > 80]"
   ]
  },
  {
   "cell_type": "code",
   "execution_count": null,
   "id": "fbf726d8",
   "metadata": {
    "tags": [
     "code-along"
    ]
   },
   "outputs": [],
   "source": [
    "df[(df[\"Score\"] > 60) & (df[\"Score\"] <= 80)]"
   ]
  },
  {
   "cell_type": "markdown",
   "id": "3a0f0e9b",
   "metadata": {
    "lang": "de"
   },
   "source": [
    "\n",
    "## Transformation von Daten"
   ]
  },
  {
   "cell_type": "code",
   "execution_count": null,
   "id": "62a6544a",
   "metadata": {
    "lines_to_next_cell": 2,
    "tags": [
     "code-along"
    ]
   },
   "outputs": [],
   "source": [
    "df = pd.DataFrame([[1, 2], [3, 4], [5, 6]], columns=[\"A\", \"B\"])"
   ]
  },
  {
   "cell_type": "code",
   "execution_count": null,
   "id": "edf21664",
   "metadata": {
    "lines_to_next_cell": 2,
    "tags": [
     "code-along"
    ]
   },
   "outputs": [],
   "source": [
    "df"
   ]
  },
  {
   "cell_type": "code",
   "execution_count": null,
   "id": "4d8c8628",
   "metadata": {
    "lines_to_next_cell": 2,
    "tags": [
     "code-along"
    ]
   },
   "outputs": [],
   "source": [
    "df.apply(np.square)"
   ]
  },
  {
   "cell_type": "code",
   "execution_count": null,
   "id": "ed4af38e",
   "metadata": {
    "lines_to_next_cell": 2,
    "tags": [
     "code-along"
    ]
   },
   "outputs": [],
   "source": [
    "df.apply(np.sum)"
   ]
  },
  {
   "cell_type": "code",
   "execution_count": null,
   "id": "28aa44f8",
   "metadata": {
    "lines_to_next_cell": 2,
    "tags": [
     "code-along"
    ]
   },
   "outputs": [],
   "source": [
    "df.apply(np.sum, axis=1)"
   ]
  },
  {
   "cell_type": "code",
   "execution_count": null,
   "id": "676725e0",
   "metadata": {
    "lines_to_next_cell": 2,
    "tags": [
     "code-along"
    ]
   },
   "outputs": [],
   "source": [
    "df.apply(lambda n: [np.sum(n), np.mean(n)], axis=1)"
   ]
  },
  {
   "cell_type": "code",
   "execution_count": null,
   "id": "2de4399f",
   "metadata": {
    "tags": [
     "code-along"
    ]
   },
   "outputs": [],
   "source": [
    "df.apply(lambda n: [np.sum(n), np.mean(n)], axis=1, result_type=\"expand\")"
   ]
  },
  {
   "cell_type": "markdown",
   "id": "ad20b547",
   "metadata": {
    "lang": "de"
   },
   "source": [
    "## Elementweise Anwendung von Funktionen:"
   ]
  },
  {
   "cell_type": "code",
   "execution_count": null,
   "id": "41449294",
   "metadata": {
    "lines_to_next_cell": 2,
    "tags": [
     "code-along"
    ]
   },
   "outputs": [],
   "source": [
    "df.applymap(lambda x: f\"Value: {x}\")"
   ]
  },
  {
   "cell_type": "code",
   "execution_count": null,
   "id": "bdd83fd2",
   "metadata": {},
   "outputs": [],
   "source": []
  }
 ],
 "metadata": {
  "jupytext": {
   "cell_metadata_json": true,
   "formats": "ipynb"
  },
  "kernelspec": {
   "display_name": "Python 3 (ipykernel)",
   "language": "python",
   "name": "python3"
  }
 },
 "nbformat": 4,
 "nbformat_minor": 5
}
