{
 "cells": [
  {
   "cell_type": "markdown",
   "id": "f2fa1b5c",
   "metadata": {
    "lang": "de",
    "slideshow": {
     "slide_type": "slide"
    }
   },
   "source": [
    "<img src=\"img/python-logo-notext.svg\"\n",
    "     style=\"display:block;margin:auto;width:10%\"/>\n",
    "<br>\n",
    "<div style=\"text-align:center; font-size:200%;\"><b>Kontrollstrukturen</b></div>\n",
    "<br/>\n",
    "<div style=\"text-align:center;\">Dr. Matthias Hölzl</div>"
   ]
  },
  {
   "cell_type": "markdown",
   "id": "a7deb943",
   "metadata": {
    "lang": "de",
    "slideshow": {
     "slide_type": "slide"
    }
   },
   "source": [
    "\n",
    " # `if`-Anweisung\n",
    "\n",
    " Wiederholung:"
   ]
  },
  {
   "cell_type": "code",
   "execution_count": null,
   "id": "eff205d3",
   "metadata": {},
   "outputs": [],
   "source": [
    "def ist_glückszahl(zahl):\n",
    "    print(\"Ist\", zahl, \"eine Glückszahl?\")\n",
    "    if zahl == 7:\n",
    "        print(\"Ja!\")\n",
    "    else:\n",
    "        print(\"Leider nein.\")\n",
    "    print(\"Wir wünschen Ihnen alles Gute.\")"
   ]
  },
  {
   "cell_type": "markdown",
   "id": "a0e4f85c",
   "metadata": {
    "lang": "de",
    "slideshow": {
     "slide_type": "subslide"
    }
   },
   "source": [
    "\n",
    " ## Extra Mini-Workshop\n",
    "\n",
    " - Notebook `workshop_090_control_structures`\n",
    " - Abschnitt \"Gerade Zahl\""
   ]
  },
  {
   "cell_type": "markdown",
   "id": "bb6f3efb",
   "metadata": {
    "lang": "de",
    "slideshow": {
     "slide_type": "subslide"
    }
   },
   "source": [
    "\n",
    " ## Mehrere Zweige\n",
    "\n",
    " - Wir wollen ein Spiel schreiben, in dem der Spieler eine Zahl zwischen 1 und\n",
    "   100 erraten muss.\n",
    " - Nachdem er geraten hat, bekommt er die Information, ob seine Zahl zu hoch,\n",
    "   zu niedrig oder richtig war angezeigt.\n",
    " - Später wollen wir dem Spieler mehrere Versuche erlauben."
   ]
  },
  {
   "cell_type": "code",
   "execution_count": null,
   "id": "e1a1c2b0",
   "metadata": {},
   "outputs": [],
   "source": [
    "def klassifiziere_zahl(geratene_zahl, lösung):\n",
    "    if geratene_zahl < lösung:\n",
    "        print(\"Die geratene Zahl ist zu klein!\")\n",
    "    elif geratene_zahl > lösung:\n",
    "        print(\"Die geratene Zahl ist zu groß!\")\n",
    "    else:\n",
    "        print(\"Sie haben gewonnen!\")"
   ]
  },
  {
   "cell_type": "code",
   "execution_count": null,
   "id": "cb4e4e4b",
   "metadata": {
    "tags": [
     "code-along"
    ]
   },
   "outputs": [],
   "source": [
    "klassifiziere_zahl(10, 12)"
   ]
  },
  {
   "cell_type": "code",
   "execution_count": null,
   "id": "03f7482d",
   "metadata": {
    "tags": [
     "code-along"
    ]
   },
   "outputs": [],
   "source": [
    "klassifiziere_zahl(14, 12)"
   ]
  },
  {
   "cell_type": "code",
   "execution_count": null,
   "id": "a250e842",
   "metadata": {
    "tags": [
     "code-along"
    ]
   },
   "outputs": [],
   "source": [
    "klassifiziere_zahl(12, 12)"
   ]
  },
  {
   "cell_type": "markdown",
   "id": "4b46220f",
   "metadata": {
    "lang": "de",
    "slideshow": {
     "slide_type": "subslide"
    }
   },
   "source": [
    "\n",
    " ## Extra Mini-Workshop\n",
    "\n",
    " - Notebook `workshop_090_control_structures`\n",
    " - Abschnitt \"Positiv/Negativ\"\n"
   ]
  },
  {
   "cell_type": "markdown",
   "id": "480fcd40",
   "metadata": {
    "lang": "de",
    "slideshow": {
     "slide_type": "subslide"
    }
   },
   "source": [
    "\n",
    " ## Struktur einer `if`-Anweisung (vollständig):\n",
    "\n",
    "```python\n",
    "if <Bedingung 1>:\n",
    "    Rumpf, der ausgeführt wird, wenn Bedingung 1 wahr ist\n",
    "elif <Bedingung 2>:\n",
    "    Rumpf, der ausgeführt wird, wenn Bedingung 2 wahr ist\n",
    "...\n",
    "else:\n",
    "    Rumpf, der ausgeführt wird, wenn keine der Bedingungen wahr ist\n",
    "```\n",
    "- Nur das `if` und der erste Rumpf sind notwendig\n",
    "- Falls ein `elif` oder ein `else` vorhanden ist, so darf der entsprechende\n",
    "  Rumpf nicht leer sein"
   ]
  },
  {
   "cell_type": "markdown",
   "id": "506ca156",
   "metadata": {
    "lang": "de",
    "slideshow": {
     "slide_type": "subslide"
    }
   },
   "source": [
    "\n",
    " ### Bessere Klassifizierung\n",
    "\n",
    " Wir wollem dem Spieler etwas mehr Information geben, wie nahe er an der\n",
    " richtigen Lösung ist:\n",
    "\n",
    " - Die geratene Zahl ist viel zu klein/zu groß wenn der Unterschied größer als\n",
    "   10 ist"
   ]
  },
  {
   "cell_type": "code",
   "execution_count": null,
   "id": "e83b5237",
   "metadata": {
    "slideshow": {
     "slide_type": "subslide"
    }
   },
   "outputs": [],
   "source": [
    "def klassifiziere_zahl_2(geratene_zahl, lösung):\n",
    "    if geratene_zahl < lösung - 10:\n",
    "        print(\"Die geratene Zahl ist viel zu klein!\")\n",
    "    elif geratene_zahl < lösung:\n",
    "        print(\"Die geratene Zahl ist zu klein!\")\n",
    "    elif geratene_zahl > lösung + 10:\n",
    "        print(\"Die geratene Zahl ist viel zu groß!\")\n",
    "    elif geratene_zahl > lösung:\n",
    "        print(\"Die geratene Zahl ist zu groß!\")\n",
    "    else:\n",
    "        print(\"Sie haben gewonnen!\")"
   ]
  },
  {
   "cell_type": "code",
   "execution_count": null,
   "id": "4a4ff04b",
   "metadata": {},
   "outputs": [],
   "source": [
    "klassifiziere_zahl_2(1, 12)"
   ]
  },
  {
   "cell_type": "code",
   "execution_count": null,
   "id": "ff173db6",
   "metadata": {},
   "outputs": [],
   "source": [
    "klassifiziere_zahl_2(10, 12)"
   ]
  },
  {
   "cell_type": "code",
   "execution_count": null,
   "id": "975843c6",
   "metadata": {},
   "outputs": [],
   "source": [
    "klassifiziere_zahl_2(14, 12)"
   ]
  },
  {
   "cell_type": "code",
   "execution_count": null,
   "id": "b42a9407",
   "metadata": {},
   "outputs": [],
   "source": [
    "klassifiziere_zahl_2(24, 12)"
   ]
  },
  {
   "cell_type": "code",
   "execution_count": null,
   "id": "c6c833e9",
   "metadata": {},
   "outputs": [],
   "source": [
    "klassifiziere_zahl_2(12, 12)"
   ]
  },
  {
   "cell_type": "markdown",
   "id": "e44d7ec6",
   "metadata": {
    "lang": "de",
    "slideshow": {
     "slide_type": "subslide"
    }
   },
   "source": [
    "\n",
    " Die Reihenfolge der `if`- und `elif`-Zweige ist wichtig:"
   ]
  },
  {
   "cell_type": "code",
   "execution_count": null,
   "id": "a2a90382",
   "metadata": {},
   "outputs": [],
   "source": [
    "def klassifiziere_zahl_3(geratene_zahl, lösung):\n",
    "    if geratene_zahl < lösung:\n",
    "        print(\"Die geratene Zahl ist zu klein!\")\n",
    "    elif geratene_zahl < lösung - 10:\n",
    "        print(\"Die geratene Zahl ist viel zu klein!\")\n",
    "    elif geratene_zahl > lösung:\n",
    "        print(\"Die geratene Zahl ist zu groß!\")\n",
    "    elif geratene_zahl > lösung + 10:\n",
    "        print(\"Die geratene Zahl ist viel zu groß!\")\n",
    "    else:\n",
    "        print(\"Sie haben gewonnen!\")"
   ]
  },
  {
   "cell_type": "code",
   "execution_count": null,
   "id": "b1382a30",
   "metadata": {},
   "outputs": [],
   "source": [
    "klassifiziere_zahl_3(1, 12)"
   ]
  },
  {
   "cell_type": "code",
   "execution_count": null,
   "id": "a9b3f15c",
   "metadata": {},
   "outputs": [],
   "source": [
    "klassifiziere_zahl_3(100, 12)"
   ]
  },
  {
   "cell_type": "markdown",
   "id": "ee478686",
   "metadata": {
    "lang": "de",
    "slideshow": {
     "slide_type": "slide"
    }
   },
   "source": [
    "\n",
    " ## Return aus einem `if`-Statement\n",
    "\n",
    " Die Zweige eines `if`-Statements können `return` Anweisungen enthalten um\n",
    " einen Wert aus einer Funktion zurückzugeben:"
   ]
  },
  {
   "cell_type": "code",
   "execution_count": null,
   "id": "04002858",
   "metadata": {
    "lines_to_next_cell": 2,
    "tags": [
     "code-along"
    ]
   },
   "outputs": [],
   "source": [
    "def ist_große_zahl(zahl):\n",
    "    if zahl > 10:\n",
    "        return True\n",
    "    else:\n",
    "        return False"
   ]
  },
  {
   "cell_type": "markdown",
   "id": "b5a2a924",
   "metadata": {
    "lang": "de",
    "slideshow": {
     "slide_type": "subslide"
    }
   },
   "source": [
    "\n",
    " ## Mini-Workshop\n",
    "\n",
    " - Notebook `workshop_090_control_structures`\n",
    " - Abschnitt \"Signum\"\n"
   ]
  },
  {
   "cell_type": "markdown",
   "id": "fcc2f19b",
   "metadata": {
    "lang": "de",
    "slideshow": {
     "slide_type": "slide"
    }
   },
   "source": [
    "\n",
    " # Benutzereingaben\n",
    "\n",
    " - Die Funktion `input()` erlaubt es dem Benutzer einen Text einzugeben.\n",
    " - Optional kann sie einen Eingabeprompt ausgeben.\n",
    " - Die Funktion gibt den vom Benutzer eingegebenen Text als String zurück."
   ]
  },
  {
   "cell_type": "code",
   "execution_count": null,
   "id": "a686e4e1",
   "metadata": {
    "lines_to_next_cell": 2
   },
   "outputs": [],
   "source": [
    "# input(\"What is your name? \")"
   ]
  },
  {
   "cell_type": "code",
   "execution_count": null,
   "id": "d1a71f90",
   "metadata": {
    "tags": [
     "code-along"
    ]
   },
   "outputs": [],
   "source": [
    "def query_name():\n",
    "    name = input(\"What is your name? \")\n",
    "    print(f\"You entered {name}\")"
   ]
  },
  {
   "cell_type": "code",
   "execution_count": null,
   "id": "f8a53ffe",
   "metadata": {},
   "outputs": [],
   "source": [
    "# query_name()"
   ]
  },
  {
   "cell_type": "markdown",
   "id": "cd498e22",
   "metadata": {
    "lang": "de",
    "slideshow": {
     "slide_type": "subslide"
    }
   },
   "source": [
    "\n",
    " ## Beispiel: Konvertierung von Temperaturen\n",
    "\n",
    "Wir wollen eine Anwendung schreiben, die den Benutzer nach einer Temperatur\n",
    "in Fahrenheit fragt und die entsprechende Temperatur in Grad Celsius\n",
    "zurückgibt."
   ]
  },
  {
   "cell_type": "code",
   "execution_count": null,
   "id": "143d8989",
   "metadata": {
    "tags": [
     "code-along"
    ]
   },
   "outputs": [],
   "source": [
    "def konvertiere_fahrenheit_nach_celsius(fahrenheit):\n",
    "    return (fahrenheit - 32) * 5 / 9"
   ]
  },
  {
   "cell_type": "code",
   "execution_count": null,
   "id": "ba59d9d2",
   "metadata": {
    "tags": [
     "code-along"
    ]
   },
   "outputs": [],
   "source": [
    "konvertiere_fahrenheit_nach_celsius(32)"
   ]
  },
  {
   "cell_type": "code",
   "execution_count": null,
   "id": "bb9c3eac",
   "metadata": {
    "tags": [
     "code-along"
    ]
   },
   "outputs": [],
   "source": [
    "konvertiere_fahrenheit_nach_celsius(90)"
   ]
  },
  {
   "cell_type": "code",
   "execution_count": null,
   "id": "8d80f2d7",
   "metadata": {
    "slideshow": {
     "slide_type": "subslide"
    },
    "tags": [
     "code-along"
    ]
   },
   "outputs": [],
   "source": [
    "def temperaturkonverter_1():\n",
    "    fahrenheit = input(\"Bitte geben Sie die Temperatur in Fahrenheit ein: \")\n",
    "    celsius = konvertiere_fahrenheit_nach_celsius(float(fahrenheit))\n",
    "    print(f\"{fahrenheit}F sind {celsius}°C\")"
   ]
  },
  {
   "cell_type": "code",
   "execution_count": null,
   "id": "555b073c",
   "metadata": {
    "tags": [
     "code-along"
    ]
   },
   "outputs": [],
   "source": [
    "float(\"1.23\")"
   ]
  },
  {
   "cell_type": "code",
   "execution_count": null,
   "id": "d2b9a019",
   "metadata": {
    "tags": [
     "code-along"
    ]
   },
   "outputs": [],
   "source": [
    "# temperaturkonverter_1()"
   ]
  },
  {
   "cell_type": "markdown",
   "id": "f8c14220",
   "metadata": {
    "lang": "de",
    "slideshow": {
     "slide_type": "subslide"
    }
   },
   "source": [
    "\n",
    " Wir können eine Meldung ausgeben, wenn der Benutzer nichts eingibt (und die\n",
    " Ausgabe etwas schöner gestalten):"
   ]
  },
  {
   "cell_type": "code",
   "execution_count": null,
   "id": "4b092efd",
   "metadata": {
    "tags": [
     "code-along"
    ]
   },
   "outputs": [],
   "source": [
    "def temperaturkonverter_2():\n",
    "    fahrenheit = input(\"Bitte geben Sie die Temperatur in Fahrenheit ein: \")\n",
    "    if fahrenheit != \"\":\n",
    "        celsius = konvertiere_fahrenheit_nach_celsius(float(fahrenheit))\n",
    "        print(f\"{float(fahrenheit):.1f}F sind {celsius:.1f}°C\")\n",
    "    else:\n",
    "        print(\"Bitte geben Sie eine gültige Temperatur ein.\")"
   ]
  },
  {
   "cell_type": "code",
   "execution_count": null,
   "id": "75a14869",
   "metadata": {
    "tags": [
     "code-along"
    ]
   },
   "outputs": [],
   "source": [
    "# temperaturkonverter_2()"
   ]
  },
  {
   "cell_type": "markdown",
   "id": "74e1b550",
   "metadata": {
    "lang": "de",
    "slideshow": {
     "slide_type": "subslide"
    }
   },
   "source": [
    "\n",
    " ## Mini-Workshop\n",
    "\n",
    " - Notebook `workshop_090_control_structures`\n",
    " - Abschnitt \"Umrechnung in Meilen\"\n"
   ]
  },
  {
   "cell_type": "code",
   "execution_count": null,
   "id": "f486fd3b",
   "metadata": {
    "lines_to_next_cell": 2,
    "tags": [
     "code-along"
    ]
   },
   "outputs": [],
   "source": [
    "def temperaturkonverter_3():\n",
    "    fahrenheit = input(\"Bitte geben Sie die Temperatur in Fahrenheit ein: \")\n",
    "    if fahrenheit:\n",
    "        celsius = konvertiere_fahrenheit_nach_celsius(float(fahrenheit))\n",
    "        print(f\"{float(fahrenheit):.1f}F sind {celsius:.1f}°C\")\n",
    "    else:\n",
    "        print(\"Bitte geben Sie eine gültige Temperatur ein.\")"
   ]
  },
  {
   "cell_type": "code",
   "execution_count": null,
   "id": "2393b04f",
   "metadata": {
    "lines_to_next_cell": 2,
    "tags": [
     "code-along"
    ]
   },
   "outputs": [],
   "source": [
    "# temperaturkonverter_3()"
   ]
  },
  {
   "cell_type": "markdown",
   "id": "327c39f4",
   "metadata": {
    "lang": "de",
    "slideshow": {
     "slide_type": "slide"
    }
   },
   "source": [
    "\n",
    " # Wahrheitswerte: Truthiness\n",
    "\n",
    "Die `if`-Anweisung kann als Argument beliebige Python-Werte bekommen,\n",
    "nicht nur Boole'sche Werte.\n",
    "\n",
    " Folgende Werte gelten als *nicht wahr*\n",
    "\n",
    " - `None` und `False`\n",
    " - `0` und `0.0` (und Null-Werte von anderen Zahlentypen)\n",
    " - Leere Strings, Sequences und Collections: ``\n",
    "\n",
    " Alle anderen Werte gelten als wahr."
   ]
  },
  {
   "cell_type": "code",
   "execution_count": null,
   "id": "59e47f1f",
   "metadata": {},
   "outputs": [],
   "source": [
    "if -1:\n",
    "    print(\"-1 ist wahr\")\n",
    "elif 0:\n",
    "    print(\"0 ist wahr\")\n",
    "else:\n",
    "    print(\"Alles ist falsch\")"
   ]
  },
  {
   "cell_type": "code",
   "execution_count": null,
   "id": "19a02603",
   "metadata": {},
   "outputs": [],
   "source": [
    "if 0:\n",
    "    print(\"0 ist wahr\")\n",
    "else:\n",
    "    print(\"0 ist falsch\")"
   ]
  },
  {
   "cell_type": "code",
   "execution_count": null,
   "id": "9062a381",
   "metadata": {},
   "outputs": [],
   "source": [
    "if \"\":\n",
    "    print(\"'' ist wahr\")\n",
    "else:\n",
    "    print(\"'' falsch\")"
   ]
  },
  {
   "cell_type": "code",
   "execution_count": null,
   "id": "77c4b114",
   "metadata": {},
   "outputs": [],
   "source": [
    "if print(\"Hallo\"):\n",
    "    print(\"None ist wahr\")\n",
    "else:\n",
    "    print(\"None ist falsch\")"
   ]
  },
  {
   "cell_type": "markdown",
   "id": "97fdb1fd",
   "metadata": {
    "lang": "de",
    "slideshow": {
     "slide_type": "subslide"
    }
   },
   "source": [
    "\n",
    " ## Mini-Workshop\n",
    "\n",
    " - Notebook `workshop_090_control_structures`\n",
    " - Abschnitt \"Umrechnung in Meilen mit Truthiness\"\n"
   ]
  },
  {
   "cell_type": "markdown",
   "id": "07207df9",
   "metadata": {
    "lang": "de",
    "slideshow": {
     "slide_type": "subslide"
    }
   },
   "source": [
    "\n",
    " ## Extra Mini-Workshop\n",
    "\n",
    " - Notebook `workshop_090_control_structures`\n",
    " - Abschnitt \"Kino-Preis\"\n"
   ]
  },
  {
   "cell_type": "markdown",
   "id": "eecde03f",
   "metadata": {
    "lang": "de",
    "slideshow": {
     "slide_type": "slide"
    }
   },
   "source": [
    "\n",
    " # While-Schleifen\n",
    "\n",
    " Manchmal wollen wir einen Teil eines Programms immer wieder ausführen:\n",
    "\n",
    " - Zahlenraten bis die richtige Zahl gefunden wurde\n",
    " - Physik-Simulation bis das Ergebnis genau genug ist\n",
    " - Verarbeitung von Benutzereingaben in interaktiven Programmen\n",
    "\n",
    " Wenn wir die Anzahl der Wiederholungen nicht von vornherein wissen, verwenden wir dafür in der Regel eine While-Schleife."
   ]
  },
  {
   "cell_type": "code",
   "execution_count": null,
   "id": "b2fc3261",
   "metadata": {
    "tags": [
     "code-along"
    ]
   },
   "outputs": [],
   "source": [
    "number = 0\n",
    "while number < 3:\n",
    "    print(f\"Durchlauf {number}\")\n",
    "    number += 1  # <=="
   ]
  },
  {
   "cell_type": "code",
   "execution_count": null,
   "id": "605ee7eb",
   "metadata": {},
   "outputs": [],
   "source": [
    "def führe_ein_experiment_aus(versuch_nr):\n",
    "    \"\"\"Führt ein Experiment aus\n",
    "    Gibt True zurück wenn das Experiment erfolgreich war, andernfalls False.\n",
    "    \"\"\"\n",
    "    print(f\"Versuch Nr. {versuch_nr} gestartet...\", end=\"\")\n",
    "    from random import random\n",
    "\n",
    "    if random() > 0.8:\n",
    "        print(\"Erfolg!\")\n",
    "        return True\n",
    "    else:\n",
    "        print(\"Fehlschlag.\")\n",
    "        return False"
   ]
  },
  {
   "cell_type": "code",
   "execution_count": null,
   "id": "b590ee1c",
   "metadata": {},
   "outputs": [],
   "source": [
    "versuch_nr = 0\n",
    "\n",
    "while not führe_ein_experiment_aus(versuch_nr):\n",
    "    versuch_nr += 1\n",
    "\n",
    "print(\"Wir haben einen erfolgreichen Versuch ausgeführt.\")"
   ]
  },
  {
   "cell_type": "markdown",
   "id": "513ce654",
   "metadata": {
    "lang": "de",
    "slideshow": {
     "slide_type": "slide"
    }
   },
   "source": [
    "\n",
    " ## Beenden von Schleifen\n",
    "\n",
    "Manchmal ist es leichter, die Abbruchbedingung einer Schleife im Rumpf zu\n",
    "bestimmen, statt am Anfang. Mit der Anweisung `break` kann man eine\n",
    "Schleife vorzeitig beenden:"
   ]
  },
  {
   "cell_type": "code",
   "execution_count": null,
   "id": "cf7b0e52",
   "metadata": {},
   "outputs": [],
   "source": [
    "i = 1\n",
    "while i < 10:\n",
    "    print(i)\n",
    "    if i % 3 == 0:\n",
    "        break\n",
    "    i += 1\n",
    "print(\"Nach der Schleife:\", i)"
   ]
  },
  {
   "cell_type": "code",
   "execution_count": null,
   "id": "6327a8cb",
   "metadata": {
    "lines_to_next_cell": 2,
    "tags": [
     "code-along"
    ]
   },
   "outputs": [],
   "source": [
    "def annoy_user():\n",
    "    while True:\n",
    "        text = input(\"Say hi! \")\n",
    "        if text.lower() == \"hi\":\n",
    "            break\n",
    "        else:\n",
    "            print(\"You chose\", text)"
   ]
  },
  {
   "cell_type": "code",
   "execution_count": null,
   "id": "06e527ac",
   "metadata": {
    "lines_to_next_cell": 2,
    "tags": [
     "code-along"
    ]
   },
   "outputs": [],
   "source": [
    "# annoy_user()"
   ]
  },
  {
   "cell_type": "markdown",
   "id": "e2e9cd20",
   "metadata": {
    "lang": "de",
    "slideshow": {
     "slide_type": "subslide"
    }
   },
   "source": [
    "\n",
    " ## Mini-Workshop\n",
    "\n",
    " - Notebook `workshop_090_control_structures`\n",
    " - Abschnitt \"Ratespiele\"\n"
   ]
  }
 ],
 "metadata": {
  "jupytext": {
   "cell_metadata_json": true,
   "encoding": "# -*- coding: utf-8 -*-",
   "formats": "ipynb"
  },
  "kernelspec": {
   "display_name": "Python 3 (ipykernel)",
   "language": "python",
   "name": "python3"
  }
 },
 "nbformat": 4,
 "nbformat_minor": 5
}
