{
 "cells": [
  {
   "cell_type": "markdown",
   "id": "8b3ef35b",
   "metadata": {
    "lang": "de",
    "slideshow": {
     "slide_type": "slide"
    }
   },
   "source": [
    "<img src=\"img/python-logo-notext.svg\"\n",
    "     style=\"display:block;margin:auto;width:10%\"/>\n",
    "<br>\n",
    "<div style=\"text-align:center; font-size:200%;\"><b>Pickling</b></div>\n",
    "<br/>\n",
    "<div style=\"text-align:center;\">Dr. Matthias Hölzl</div>"
   ]
  },
  {
   "cell_type": "markdown",
   "id": "13a480b1",
   "metadata": {
    "lang": "de"
   },
   "source": [
    "\n",
    "## Pickles\n",
    "\n",
    "Das `pickle` Modul bietet die Möglichkeit, Python Objekte einfach zu speichern\n",
    "und zu laden."
   ]
  },
  {
   "cell_type": "code",
   "execution_count": null,
   "id": "e5a15739",
   "metadata": {
    "tags": [
     "code-along"
    ]
   },
   "outputs": [],
   "source": [
    "import pickle\n",
    "from pprint import pprint"
   ]
  },
  {
   "cell_type": "code",
   "execution_count": null,
   "id": "1be2d500",
   "metadata": {
    "lines_to_next_cell": 2,
    "tags": [
     "code-along"
    ]
   },
   "outputs": [],
   "source": [
    "my_list = [1, 2, 3, 4]\n",
    "my_other_list = [3, 4, 5]\n",
    "my_dict = {1: my_list, 2: my_other_list, 3: \"a string\", 4: [\"some list\"]}"
   ]
  },
  {
   "cell_type": "code",
   "execution_count": null,
   "id": "4f7123bc",
   "metadata": {
    "lines_to_next_cell": 2,
    "tags": [
     "code-along"
    ]
   },
   "outputs": [],
   "source": [
    "pprint(my_dict)"
   ]
  },
  {
   "cell_type": "code",
   "execution_count": null,
   "id": "9df1dead",
   "metadata": {
    "tags": [
     "code-along"
    ]
   },
   "outputs": [],
   "source": [
    "my_pickle = pickle.dumps(my_dict)\n",
    "pprint(my_pickle)"
   ]
  },
  {
   "cell_type": "code",
   "execution_count": null,
   "id": "34f635d4",
   "metadata": {
    "tags": [
     "code-along"
    ]
   },
   "outputs": [],
   "source": [
    "restored_pickle = pickle.loads(my_pickle)"
   ]
  },
  {
   "cell_type": "code",
   "execution_count": null,
   "id": "02278f8e",
   "metadata": {
    "tags": [
     "code-along"
    ]
   },
   "outputs": [],
   "source": [
    "pprint(restored_pickle)"
   ]
  },
  {
   "cell_type": "code",
   "execution_count": null,
   "id": "52e037fe",
   "metadata": {
    "tags": [
     "code-along"
    ]
   },
   "outputs": [],
   "source": [
    "my_dict == restored_pickle"
   ]
  },
  {
   "cell_type": "code",
   "execution_count": null,
   "id": "1d908f14",
   "metadata": {},
   "outputs": [],
   "source": [
    "my_dict is restored_pickle"
   ]
  },
  {
   "cell_type": "code",
   "execution_count": null,
   "id": "2bdce2ff",
   "metadata": {},
   "outputs": [],
   "source": [
    "my_list.append(my_other_list)\n",
    "my_other_list.append(my_list)"
   ]
  },
  {
   "cell_type": "code",
   "execution_count": null,
   "id": "3eeb3ac6",
   "metadata": {
    "lines_to_next_cell": 2
   },
   "outputs": [],
   "source": [
    "pprint(my_list)"
   ]
  },
  {
   "cell_type": "code",
   "execution_count": null,
   "id": "93acb47b",
   "metadata": {},
   "outputs": [],
   "source": [
    "pprint(my_dict)"
   ]
  },
  {
   "cell_type": "code",
   "execution_count": null,
   "id": "95d44b1e",
   "metadata": {},
   "outputs": [],
   "source": [
    "my_pickle = pickle.dumps(my_dict)\n",
    "restored_pickle = pickle.loads(my_pickle)"
   ]
  },
  {
   "cell_type": "code",
   "execution_count": null,
   "id": "e2cba2cf",
   "metadata": {},
   "outputs": [],
   "source": [
    "pprint(restored_pickle)"
   ]
  },
  {
   "cell_type": "code",
   "execution_count": null,
   "id": "45215445",
   "metadata": {},
   "outputs": [],
   "source": [
    "# Don't try this...\n",
    "# my_dict == restored_pickle"
   ]
  }
 ],
 "metadata": {
  "jupytext": {
   "cell_metadata_json": true,
   "formats": "ipynb"
  },
  "kernelspec": {
   "display_name": "Python 3 (ipykernel)",
   "language": "python",
   "name": "python3"
  }
 },
 "nbformat": 4,
 "nbformat_minor": 5
}
