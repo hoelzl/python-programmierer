{
 "cells": [
  {
   "cell_type": "markdown",
   "id": "50f7177a",
   "metadata": {
    "lines_to_next_cell": 2,
    "slideshow": {
     "slide_type": "slide"
    }
   },
   "source": [
    "<img src=\"img/python-logo-notext.svg\"\n",
    "     style=\"display:block;margin:auto;width:10%\"/>\n",
    "<h1 style=\"text-align:center;\">Kommandozeilenargumente</h1>\n",
    "<br/>\n",
    "<div style=\"text-align:center;\">Dr. Matthias Hölzl</div>"
   ]
  },
  {
   "cell_type": "markdown",
   "id": "3895f5f9",
   "metadata": {},
   "source": [
    "\n",
    " ## Verarbeiten von Command Line Arguments: Argparse und Typer\n",
    "\n",
    " - Für viele Anwendungsfälle ist eine Kommandozeilenanwendung ausreichend\n",
    " - Die manuelle Verarbeitung von Argumenten ist relativ aufwändig\n",
    " - Python bietet mit `argparse` eine sehr gute Bibliothek, die viele häufige Anwendungsfälle deutlich vereinfacht\n",
    " - Noch besser: [Typer](https://typer.tiangolo.com/)"
   ]
  },
  {
   "cell_type": "markdown",
   "id": "98406d4d",
   "metadata": {},
   "source": [
    "\n",
    "### Bestandteile von Typer:\n",
    "\n",
    "- Klasse `app = typer.Typer()` um die eigenen Klassen mit Typer zu verbinden.\n",
    "- Decorator `app.command()` um Funktionen Kommandos zu definieren.\n",
    "- Parametern von Funktionen werden zu positionalen Argumenten oder benannten Optionen.\n",
    "- Viele Funktionen von CLI-Applikationen werden von Typer automatisch erzeugt."
   ]
  },
  {
   "cell_type": "markdown",
   "id": "7c8d90f9",
   "metadata": {},
   "source": [
    "## Workshop\n",
    "\n",
    "- `Workshop_136_todo_list_v3`\n",
    "- Bis Abschnitt \"Kommandozeilenargumente\""
   ]
  }
 ],
 "metadata": {
  "jupytext": {
   "formats": "ipynb",
   "main_language": "python"
  }
 },
 "nbformat": 4,
 "nbformat_minor": 5
}
