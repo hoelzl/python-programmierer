{
 "cells": [
  {
   "cell_type": "markdown",
   "id": "79cb60c7",
   "metadata": {
    "lang": "de",
    "slideshow": {
     "slide_type": "slide"
    }
   },
   "source": [
    "<img src=\"img/python-logo-notext.svg\"\n",
    "     style=\"display:block;margin:auto;width:10%\"/>\n",
    "<br>\n",
    "<div style=\"text-align:center; font-size:200%;\"><b>Einführung in Python: Grundlagen Teil 3 - Gelöscht</b></div>\n",
    "<br/>\n",
    "<div style=\"text-align:center;\">Dr. Matthias Hölzl</div>"
   ]
  },
  {
   "cell_type": "markdown",
   "id": "0764bf6b",
   "metadata": {
    "slideshow": {
     "slide_type": "slide"
    }
   },
   "source": [
    "# `if`-Anweisungen\n",
    "\n",
    "- Wir wollen ein Programm schreiben, das bestimmt ob eine Zahl eine Glückszahl\n",
    "  ist oder nicht:\n",
    "    - 7 ist eine Glückszahl\n",
    "    - Alle anderen Zahlen sind es nicht.\n",
    "- Wir benötigen dazu die `if`-Anweisung:"
   ]
  },
  {
   "cell_type": "code",
   "execution_count": null,
   "id": "333c5326",
   "metadata": {
    "incorrectly_encoded_metadata": "{\"slideshow\": {\"slide_type\": \"subslide\"}} tags=[\"code-along\"]"
   },
   "outputs": [],
   "source": [
    "def ist_glückszahl(zahl):\n",
    "    print(\"Ist\", zahl, \"eine Glückszahl?\")\n",
    "\n",
    "    if zahl == 7:\n",
    "        print(\"Ja!\")\n",
    "    else:\n",
    "        print(\"Leider nein.\")\n",
    "\n",
    "    print(\"Wir wünschen Ihnen alles Gute.\")"
   ]
  },
  {
   "cell_type": "code",
   "execution_count": null,
   "id": "7378d216",
   "metadata": {
    "tags": [
     "code-along"
    ]
   },
   "outputs": [],
   "source": [
    "ist_glückszahl(1)"
   ]
  },
  {
   "cell_type": "code",
   "execution_count": null,
   "id": "bccf4cdb",
   "metadata": {
    "tags": [
     "code-along"
    ]
   },
   "outputs": [],
   "source": [
    "ist_glückszahl(7)"
   ]
  },
  {
   "cell_type": "code",
   "execution_count": null,
   "id": "787fa2b9",
   "metadata": {
    "slideshow": {
     "slide_type": "subslide"
    }
   },
   "outputs": [],
   "source": [
    "def ist_glückszahl_2(zahl):\n",
    "    if zahl == 7:\n",
    "        print(zahl, \"ist eine Glückszahl!\")\n",
    "        print(\"Sie haben sicher einen super Tag!\")\n",
    "    else:\n",
    "        print(zahl, \"ist leider keine Glückszahl.\")\n",
    "        print(\"Vielleicht sollten Sie heute lieber im Bett bleiben.\")\n",
    "        print(\"Wir wünschen Ihnen trotzdem alles Gute.\")"
   ]
  },
  {
   "cell_type": "code",
   "execution_count": null,
   "id": "a812a25e",
   "metadata": {
    "tags": [
     "code-along"
    ]
   },
   "outputs": [],
   "source": [
    "ist_glückszahl_2(1)"
   ]
  },
  {
   "cell_type": "code",
   "execution_count": null,
   "id": "134aa2be",
   "metadata": {
    "tags": [
     "code-along"
    ]
   },
   "outputs": [],
   "source": [
    "ist_glückszahl_2(7)"
   ]
  },
  {
   "cell_type": "code",
   "execution_count": null,
   "id": "66046fbb",
   "metadata": {
    "slideshow": {
     "slide_type": "subslide"
    }
   },
   "outputs": [],
   "source": [
    "def einseitiges_if_1(zahl):\n",
    "    print(\"Vorher\")\n",
    "\n",
    "    if zahl == 7:\n",
    "        print(zahl, \"ist eine Glückszahl\")\n",
    "        print(\"Glückwunsch!\")\n",
    "\n",
    "    print(\"Nachher\")"
   ]
  },
  {
   "cell_type": "code",
   "execution_count": null,
   "id": "87522656",
   "metadata": {
    "tags": [
     "code-along"
    ]
   },
   "outputs": [],
   "source": [
    "einseitiges_if_1(1)"
   ]
  },
  {
   "cell_type": "code",
   "execution_count": null,
   "id": "04e2773a",
   "metadata": {
    "tags": [
     "code-along"
    ]
   },
   "outputs": [],
   "source": [
    "einseitiges_if_1(7)"
   ]
  },
  {
   "cell_type": "code",
   "execution_count": null,
   "id": "9eaf3f74",
   "metadata": {
    "slideshow": {
     "slide_type": "subslide"
    }
   },
   "outputs": [],
   "source": [
    "def einseitiges_if_2(zahl):\n",
    "    if zahl % 2 != 0:\n",
    "        zahl += 1  # zahl = zahl + 1\n",
    "    print(zahl)"
   ]
  },
  {
   "cell_type": "code",
   "execution_count": null,
   "id": "8dd5a4c9",
   "metadata": {
    "tags": [
     "code-along"
    ]
   },
   "outputs": [],
   "source": [
    "einseitiges_if_2(1)"
   ]
  },
  {
   "cell_type": "code",
   "execution_count": null,
   "id": "aba6265b",
   "metadata": {
    "lines_to_next_cell": 2,
    "tags": [
     "code-along"
    ]
   },
   "outputs": [],
   "source": [
    "einseitiges_if_2(6)"
   ]
  },
  {
   "cell_type": "markdown",
   "id": "3a3a853f",
   "metadata": {
    "slideshow": {
     "slide_type": "slide"
    }
   },
   "source": [
    "# Listen"
   ]
  },
  {
   "cell_type": "code",
   "execution_count": null,
   "id": "57bce5ad",
   "metadata": {},
   "outputs": [],
   "source": [
    "warenkorb = [\"Haferflocken\", \"Kaffeebohnen\", \"Orangenmarmelade\"]"
   ]
  },
  {
   "cell_type": "markdown",
   "id": "6678b60e",
   "metadata": {},
   "source": [
    "Der Typ von Listen ist `list`."
   ]
  },
  {
   "cell_type": "code",
   "execution_count": null,
   "id": "b590770f",
   "metadata": {
    "tags": [
     "code-along"
    ]
   },
   "outputs": [],
   "source": [
    "type(warenkorb)"
   ]
  },
  {
   "cell_type": "markdown",
   "id": "903863b2",
   "metadata": {
    "slideshow": {
     "slide_type": "slide"
    }
   },
   "source": [
    "## Erzeugen von Listen\n",
    "\n",
    "- Listen werden erzeugt, indem man ihre Elemente in eckige Klammern\n",
    "  einschließt.\n",
    "- Die Elemente einer Liste können beliebige Python-Werte sein.\n",
    "- Eine Liste kann Elemente mit verschiedenen Typen enthalten."
   ]
  },
  {
   "cell_type": "code",
   "execution_count": null,
   "id": "366613d7",
   "metadata": {
    "slideshow": {
     "slide_type": "subslide"
    }
   },
   "outputs": [],
   "source": [
    "liste_1 = [1, 2, 3, 4, 5]\n",
    "liste_2 = [\"string1\", \"another string\"]"
   ]
  },
  {
   "cell_type": "code",
   "execution_count": null,
   "id": "eb4b5922",
   "metadata": {
    "tags": [
     "code-along"
    ]
   },
   "outputs": [],
   "source": [
    "print(liste_1)"
   ]
  },
  {
   "cell_type": "code",
   "execution_count": null,
   "id": "9d57f7ab",
   "metadata": {
    "tags": [
     "code-along"
    ]
   },
   "outputs": [],
   "source": [
    "print(liste_2)"
   ]
  },
  {
   "cell_type": "code",
   "execution_count": null,
   "id": "55897f28",
   "metadata": {
    "incorrectly_encoded_metadata": "{\"slideshow\": {\"slide_type\": \"subslide\"}} tags=[\"code-along\"]"
   },
   "outputs": [],
   "source": [
    "liste_3 = []\n",
    "liste_4 = [1, 0.4, \"ein String\", True, None]"
   ]
  },
  {
   "cell_type": "code",
   "execution_count": null,
   "id": "29a097c5",
   "metadata": {
    "tags": [
     "code-along"
    ]
   },
   "outputs": [],
   "source": [
    "print(liste_3)"
   ]
  },
  {
   "cell_type": "code",
   "execution_count": null,
   "id": "8f0af2a6",
   "metadata": {
    "tags": [
     "code-along"
    ]
   },
   "outputs": [],
   "source": [
    "print(liste_4)"
   ]
  },
  {
   "cell_type": "markdown",
   "id": "b07e979d",
   "metadata": {
    "slideshow": {
     "slide_type": "subslide"
    }
   },
   "source": [
    "\n",
    "Die Elemente einer Liste müssen keine Literale sein, man kann auch Werte von\n",
    "Variablen in einer Liste speichern:"
   ]
  },
  {
   "cell_type": "code",
   "execution_count": null,
   "id": "dcfe4a63",
   "metadata": {},
   "outputs": [],
   "source": [
    "produkt_1 = \"Haferflocken\"\n",
    "produkt_2 = \"Kaffeebohnen\"\n",
    "produkt_3 = \"Orangenmarmelade\"\n",
    "warenkorb = [produkt_1, produkt_2, produkt_3, \"Erdbeermarmelade\"]\n",
    "warenkorb"
   ]
  },
  {
   "cell_type": "markdown",
   "id": "0073cb9c",
   "metadata": {
    "slideshow": {
     "slide_type": "subslide"
    }
   },
   "source": [
    "\n",
    "Nachdem eine Liste erzeugt ist hat sie keine Verbindung zu den Variablen, die\n",
    "in ihrer Konstruktion verwendet wurden:"
   ]
  },
  {
   "cell_type": "code",
   "execution_count": null,
   "id": "46b273ab",
   "metadata": {
    "tags": [
     "code-along"
    ]
   },
   "outputs": [],
   "source": [
    "produkt_1 = \"Dinkelflocken\"\n",
    "produkt_2 = \"Teebeutel\"\n",
    "warenkorb"
   ]
  },
  {
   "cell_type": "markdown",
   "id": "ae07788f",
   "metadata": {
    "slideshow": {
     "slide_type": "subslide"
    }
   },
   "source": [
    "\n",
    "Mit der Funktion `list` können manche andere Datentypen in Listen umgewandelt\n",
    "werden.\n",
    "\n",
    "Im Moment kennen wir nur Listen, Strings und Dictionaries als mögliche\n",
    "Argumenttypen:"
   ]
  },
  {
   "cell_type": "code",
   "execution_count": null,
   "id": "f690d464",
   "metadata": {
    "tags": [
     "code-along"
    ]
   },
   "outputs": [],
   "source": [
    "list(\"abc\")"
   ]
  },
  {
   "cell_type": "code",
   "execution_count": null,
   "id": "dbb89e0e",
   "metadata": {
    "tags": [
     "code-along"
    ]
   },
   "outputs": [],
   "source": [
    "list([1, 2, 3])"
   ]
  },
  {
   "cell_type": "code",
   "execution_count": null,
   "id": "64cca40e",
   "metadata": {
    "tags": [
     "code-along"
    ]
   },
   "outputs": [],
   "source": [
    "list({\"a\": 1, \"b\": 2})"
   ]
  },
  {
   "cell_type": "markdown",
   "id": "9fb74623",
   "metadata": {
    "pycharm": {
     "name": "#%% md\n"
    },
    "slideshow": {
     "slide_type": ""
    }
   },
   "source": [
    "## Zugriff auf Listenelemente"
   ]
  },
  {
   "cell_type": "code",
   "execution_count": null,
   "id": "1792216c",
   "metadata": {},
   "outputs": [],
   "source": [
    "zahlenliste = [0, 1, 2, 3]"
   ]
  },
  {
   "cell_type": "code",
   "execution_count": null,
   "id": "33dfede9",
   "metadata": {
    "tags": [
     "code-along"
    ]
   },
   "outputs": [],
   "source": [
    "zahlenliste[0]"
   ]
  },
  {
   "cell_type": "code",
   "execution_count": null,
   "id": "38251484",
   "metadata": {
    "tags": [
     "code-along"
    ]
   },
   "outputs": [],
   "source": [
    "zahlenliste[3]"
   ]
  },
  {
   "cell_type": "code",
   "execution_count": null,
   "id": "03f9cb8b",
   "metadata": {
    "tags": [
     "code-along"
    ]
   },
   "outputs": [],
   "source": [
    "zahlenliste[-1]"
   ]
  },
  {
   "cell_type": "markdown",
   "id": "149aea75",
   "metadata": {
    "pycharm": {
     "name": "#%% md\n"
    },
    "slideshow": {
     "slide_type": "slide"
    }
   },
   "source": [
    "## Länge einer Liste"
   ]
  },
  {
   "cell_type": "code",
   "execution_count": null,
   "id": "c07d5a84",
   "metadata": {},
   "outputs": [],
   "source": [
    "zahlenliste"
   ]
  },
  {
   "cell_type": "code",
   "execution_count": null,
   "id": "1e398b92",
   "metadata": {
    "tags": [
     "code-along"
    ]
   },
   "outputs": [],
   "source": [
    "len(zahlenliste)"
   ]
  },
  {
   "cell_type": "markdown",
   "id": "17339374",
   "metadata": {
    "pycharm": {
     "name": "#%% md\n"
    },
    "slideshow": {
     "slide_type": "slide"
    }
   },
   "source": [
    "## Modifikation von Listeneinträgen"
   ]
  },
  {
   "cell_type": "code",
   "execution_count": null,
   "id": "bb95c8ed",
   "metadata": {
    "tags": [
     "code-along"
    ]
   },
   "outputs": [],
   "source": [
    "zahlenliste[1] = 10\n",
    "zahlenliste"
   ]
  },
  {
   "cell_type": "markdown",
   "id": "dd6d5801",
   "metadata": {
    "pycharm": {
     "name": "#%% md\n"
    },
    "slideshow": {
     "slide_type": "slide"
    }
   },
   "source": [
    "## Anhängen von Elementen an eine Liste"
   ]
  },
  {
   "cell_type": "code",
   "execution_count": null,
   "id": "d5cb8951",
   "metadata": {
    "tags": [
     "code-along"
    ]
   },
   "outputs": [],
   "source": [
    "zahlenliste.append(40)\n",
    "zahlenliste"
   ]
  },
  {
   "cell_type": "code",
   "execution_count": null,
   "id": "55129074",
   "metadata": {
    "tags": [
     "code-along"
    ]
   },
   "outputs": [],
   "source": [
    "zahlenliste.extend([50, 60])\n",
    "zahlenliste"
   ]
  },
  {
   "cell_type": "markdown",
   "id": "ed1dcdb3",
   "metadata": {
    "pycharm": {
     "name": "#%% md\n"
    },
    "slideshow": {
     "slide_type": "slide"
    }
   },
   "source": [
    "## Iteration über Listen\n",
    "\n",
    "In Python kann man mit der `for`-Schleife über Listen iterieren.\n",
    "\n",
    "Die `for`-Schleife entspricht dem range-based for aus C++,\n",
    "`for-in`/`for-of` aus JavaScript oder der `for-each`-Schleife\n",
    "aus Java, nicht der klassischen `for`-Schleife\n",
    "aus C, C++ oder Java."
   ]
  },
  {
   "cell_type": "code",
   "execution_count": null,
   "id": "e812d1b7",
   "metadata": {
    "slideshow": {
     "slide_type": "subslide"
    }
   },
   "outputs": [],
   "source": [
    "zahlenliste = [0, 1, 2, 3, 4]\n",
    "zahlenliste"
   ]
  },
  {
   "cell_type": "code",
   "execution_count": null,
   "id": "dde9130b",
   "metadata": {
    "tags": [
     "code-along"
    ]
   },
   "outputs": [],
   "source": [
    "for zahl in zahlenliste:\n",
    "    print(\"Die Zahl ist:\", zahl)"
   ]
  },
  {
   "cell_type": "markdown",
   "id": "fcb52b9d",
   "metadata": {
    "slideshow": {
     "slide_type": "subslide"
    }
   },
   "source": [
    "## Syntax der `for`-Schleife\n",
    "\n",
    "```python\n",
    "for <element-var> in <liste>:\n",
    "    <rumpf>\n",
    "```"
   ]
  },
  {
   "cell_type": "markdown",
   "id": "93456353",
   "metadata": {
    "slideshow": {
     "slide_type": "subslide"
    }
   },
   "source": [
    "## Workshop\n",
    "\n",
    "- Notebook `workshop_060_introduction_part2`\n",
    "- Abschnitt \"Einkaufsliste\""
   ]
  }
 ],
 "metadata": {
  "jupytext": {
   "cell_metadata_json": true,
   "encoding": "# -*- coding: utf-8 -*-",
   "formats": "ipynb"
  },
  "kernelspec": {
   "display_name": "Python 3 (ipykernel)",
   "language": "python",
   "name": "python3"
  }
 },
 "nbformat": 4,
 "nbformat_minor": 5
}
