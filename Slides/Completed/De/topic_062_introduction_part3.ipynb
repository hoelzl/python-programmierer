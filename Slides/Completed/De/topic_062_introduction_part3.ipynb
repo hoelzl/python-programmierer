{
 "cells": [
  {
   "cell_type": "markdown",
   "id": "aaa49677",
   "metadata": {
    "lang": "de",
    "slideshow": {
     "slide_type": "slide"
    }
   },
   "source": [
    "<img src=\"img/python-logo-notext.svg\"\n",
    "     style=\"display:block;margin:auto;width:10%\"/>\n",
    "<br>\n",
    "<div style=\"text-align:center; font-size:200%;\"><b>Einführung in Python: Grundlagen Teil 3</b></div>\n",
    "<br/>\n",
    "<div style=\"text-align:center;\">Dr. Matthias Hölzl</div>"
   ]
  },
  {
   "cell_type": "markdown",
   "id": "baff8b7d",
   "metadata": {
    "lang": "de",
    "slideshow": {
     "slide_type": "slide"
    }
   },
   "source": [
    "## Beliebig viele Argumente:\n",
    "\n",
    "Man kann Funktionen definieren, die beliebig viele Argumente bekommen können:"
   ]
  },
  {
   "cell_type": "code",
   "execution_count": null,
   "id": "c777f415",
   "metadata": {
    "tags": [
     "code-along"
    ]
   },
   "outputs": [],
   "source": [
    "def my_add(*args):\n",
    "    result = 0\n",
    "    for i in args:\n",
    "        result += i\n",
    "    return result"
   ]
  },
  {
   "cell_type": "code",
   "execution_count": null,
   "id": "9a46810b",
   "metadata": {
    "tags": [
     "code-along"
    ]
   },
   "outputs": [],
   "source": [
    "my_add(1, 2, 3, 4, 5, 6)"
   ]
  },
  {
   "cell_type": "markdown",
   "id": "49f16bea",
   "metadata": {
    "lang": "de"
   },
   "source": [
    "\n",
    "## Micro-Workshop\n",
    "\n",
    "Schreiben Sie eine Funktion `print_lines(*args)`, die beliebig viele\n",
    "Argumente bekommt und ein Argument pro Zeile ausgibt:\n",
    "```\n",
    ">>> print_lines(\"hey\", \"you\")\n",
    "hey\n",
    "you\n",
    "```"
   ]
  },
  {
   "cell_type": "code",
   "execution_count": null,
   "id": "b86eb413",
   "metadata": {
    "tags": [
     "code-along"
    ]
   },
   "outputs": [],
   "source": [
    "def print_lines(*args):\n",
    "    for arg in args:\n",
    "        print(arg)"
   ]
  },
  {
   "cell_type": "code",
   "execution_count": null,
   "id": "57ae92f7",
   "metadata": {
    "tags": [
     "code-along"
    ]
   },
   "outputs": [],
   "source": [
    "print_lines(\"hey\", \"you\")"
   ]
  },
  {
   "cell_type": "markdown",
   "id": "7a24048f",
   "metadata": {
    "lang": "de",
    "slideshow": {
     "slide_type": "slide"
    }
   },
   "source": [
    "Das kann auch mit anderen Argumenten kombiniert werden:"
   ]
  },
  {
   "cell_type": "code",
   "execution_count": null,
   "id": "e36a87af",
   "metadata": {
    "tags": [
     "code-along"
    ]
   },
   "outputs": [],
   "source": [
    "def add_more_than_two(x, y, *more_args):\n",
    "    result = x + y\n",
    "    for i in more_args:\n",
    "        result += i\n",
    "    return result"
   ]
  },
  {
   "cell_type": "code",
   "execution_count": null,
   "id": "d5b248cb",
   "metadata": {
    "tags": [
     "code-along"
    ]
   },
   "outputs": [],
   "source": [
    "add_more_than_two(1, 2, 3, 4, 5, 6)"
   ]
  },
  {
   "cell_type": "code",
   "execution_count": null,
   "id": "30c45b30",
   "metadata": {
    "tags": [
     "code-along"
    ]
   },
   "outputs": [],
   "source": [
    "add_more_than_two(1, 2)"
   ]
  },
  {
   "cell_type": "code",
   "execution_count": null,
   "id": "3bb402b5",
   "metadata": {
    "tags": [
     "code-along"
    ]
   },
   "outputs": [],
   "source": [
    "# add_more_than_two(1)"
   ]
  },
  {
   "cell_type": "markdown",
   "id": "ee84db48",
   "metadata": {
    "lang": "de",
    "slideshow": {
     "slide_type": "slide"
    }
   },
   "source": [
    "## Beliebig viele benannte Argumente:\n",
    "\n",
    "Ebenso kann eine Funktion beliebig viele benannte Argumente haben:"
   ]
  },
  {
   "cell_type": "code",
   "execution_count": null,
   "id": "a104c0ef",
   "metadata": {
    "tags": [
     "code-along"
    ]
   },
   "outputs": [],
   "source": [
    "def my_keys(**kwargs):\n",
    "    print(\"Keyword arguments:\", kwargs)"
   ]
  },
  {
   "cell_type": "code",
   "execution_count": null,
   "id": "8086181f",
   "metadata": {
    "tags": [
     "code-along"
    ]
   },
   "outputs": [],
   "source": [
    "my_keys(x=1, y=2)"
   ]
  },
  {
   "cell_type": "markdown",
   "id": "7b9dd0fa",
   "metadata": {
    "lang": "de"
   },
   "source": [
    "Es ist möglich diese beiden Features zu kombinieren:"
   ]
  },
  {
   "cell_type": "code",
   "execution_count": null,
   "id": "dd90d051",
   "metadata": {
    "tags": [
     "code-along"
    ]
   },
   "outputs": [],
   "source": [
    "def takes_arbitrary_args(*args, **kwargs):\n",
    "    print(\"Positional argsuments:\", args)\n",
    "    print(\"Keyword arguments:    \", kwargs)"
   ]
  },
  {
   "cell_type": "code",
   "execution_count": null,
   "id": "8b7173a8",
   "metadata": {
    "lines_to_next_cell": 2,
    "tags": [
     "code-along"
    ]
   },
   "outputs": [],
   "source": [
    "takes_arbitrary_args(1, \"foo\", a=\"alpha\", b=\"beta\")"
   ]
  },
  {
   "cell_type": "markdown",
   "id": "9fce5988",
   "metadata": {
    "lang": "de",
    "lines_to_next_cell": 2,
    "slideshow": {
     "slide_type": "subslide"
    }
   },
   "source": [
    "\n",
    "## Micro-Workshop\n",
    "\n",
    "Schreiben Sie eine Funktion `print_named_lines(**kwargs)`, die beliebig viele\n",
    "Keyword-Argumente bekommt und sie in folgender Form auf dem Bildschirm\n",
    "ausgibt:\n",
    "```python\n",
    ">>> print_named_lines(foo=\"My Foo\", bar=\"My Bar\", quux=\"My Quux\")\n",
    "Key: foo -- value: My Foo\n",
    "Key: bar -- value: My Bar\n",
    "Key: quux -- value: My Quux\n",
    "```"
   ]
  },
  {
   "cell_type": "code",
   "execution_count": null,
   "id": "2b34321e",
   "metadata": {
    "tags": [
     "code-along"
    ]
   },
   "outputs": [],
   "source": [
    "def print_named_lines(**kwargs):\n",
    "    for k, v in kwargs.items():\n",
    "        print(\"Key:\", k, \"-- value:\", v)"
   ]
  },
  {
   "cell_type": "code",
   "execution_count": null,
   "id": "c6b0ce95",
   "metadata": {
    "tags": [
     "code-along"
    ]
   },
   "outputs": [],
   "source": [
    "print_named_lines(foo=\"My Foo\", bar=\"My Bar\", quux=\"My Quux\")"
   ]
  },
  {
   "cell_type": "markdown",
   "id": "3b6f3d70",
   "metadata": {
    "lang": "de",
    "slideshow": {
     "slide_type": "slide"
    }
   },
   "source": [
    "## \"Splicing\" von Argumenten\n",
    "\n",
    "- Wenn man eine Liste `args` hat, kann man die darin enthaltenen Werte mit\n",
    "  der Syntax `*args` als positionale Argumente übergeben.\n",
    "- Wenn man ein Dictionary `kwargs` hat, kann man die Key/Value-Paare mit der\n",
    "  Syntax `**kwargs` als benannte Argumente übergeben:"
   ]
  },
  {
   "cell_type": "code",
   "execution_count": null,
   "id": "26614d1d",
   "metadata": {
    "tags": [
     "code-along"
    ]
   },
   "outputs": [],
   "source": [
    "def add(x, y):\n",
    "    return x + y"
   ]
  },
  {
   "cell_type": "code",
   "execution_count": null,
   "id": "33825c3d",
   "metadata": {
    "tags": [
     "code-along"
    ]
   },
   "outputs": [],
   "source": [
    "my_list = [3, 4]"
   ]
  },
  {
   "cell_type": "code",
   "execution_count": null,
   "id": "15644824",
   "metadata": {
    "tags": [
     "code-along"
    ]
   },
   "outputs": [],
   "source": [
    "# add(my_list)"
   ]
  },
  {
   "cell_type": "code",
   "execution_count": null,
   "id": "abd6fa54",
   "metadata": {
    "tags": [
     "code-along"
    ]
   },
   "outputs": [],
   "source": [
    "add(my_list[0], my_list[1])"
   ]
  },
  {
   "cell_type": "code",
   "execution_count": null,
   "id": "ac97294c",
   "metadata": {
    "tags": [
     "code-along"
    ]
   },
   "outputs": [],
   "source": [
    "add(*my_list)"
   ]
  },
  {
   "cell_type": "code",
   "execution_count": null,
   "id": "262936a1",
   "metadata": {
    "slideshow": {
     "slide_type": "subslide"
    },
    "tags": [
     "code-along"
    ]
   },
   "outputs": [],
   "source": [
    "my_dict = {\"a\": \"alpha\", \"b\": \"beta\"}"
   ]
  },
  {
   "cell_type": "code",
   "execution_count": null,
   "id": "35d1f581",
   "metadata": {
    "tags": [
     "code-along"
    ]
   },
   "outputs": [],
   "source": [
    "takes_arbitrary_args(my_list, my_dict)"
   ]
  },
  {
   "cell_type": "code",
   "execution_count": null,
   "id": "70fa0394",
   "metadata": {
    "tags": [
     "code-along"
    ]
   },
   "outputs": [],
   "source": [
    "takes_arbitrary_args(*my_list, **my_dict)"
   ]
  },
  {
   "cell_type": "code",
   "execution_count": null,
   "id": "ce4586fa",
   "metadata": {
    "tags": [
     "code-along"
    ]
   },
   "outputs": [],
   "source": [
    "takes_arbitrary_args(3, 4, a=\"alpha\", b=\"beta\")"
   ]
  },
  {
   "cell_type": "markdown",
   "id": "dfcc74b6",
   "metadata": {
    "lang": "de",
    "slideshow": {
     "slide_type": "slide"
    }
   },
   "source": [
    "## Mehrere Rückgabewerte\n",
    "\n",
    "Wie oben gezeigt kann man mehrere Variablen in einem Schritt definieren:"
   ]
  },
  {
   "cell_type": "code",
   "execution_count": null,
   "id": "f0f0fa75",
   "metadata": {
    "tags": [
     "code-along"
    ]
   },
   "outputs": [],
   "source": [
    "ergebnis, rest = 10, 2"
   ]
  },
  {
   "cell_type": "code",
   "execution_count": null,
   "id": "2701e5eb",
   "metadata": {
    "tags": [
     "code-along"
    ]
   },
   "outputs": [],
   "source": [
    "print(ergebnis)\n",
    "print(rest)"
   ]
  },
  {
   "cell_type": "markdown",
   "id": "e1afb465",
   "metadata": {
    "lang": "de",
    "slideshow": {
     "slide_type": "subslide"
    }
   },
   "source": [
    "- Besonders hilfreich ist das für Funktionen die mehrere eng zusammenhängende\n",
    "  Werte berechnen.\n",
    "- Man kann mit `return wert1, wert2` mehrere Werte zurückgeben"
   ]
  },
  {
   "cell_type": "code",
   "execution_count": null,
   "id": "40cb98b5",
   "metadata": {
    "tags": [
     "code-along"
    ]
   },
   "outputs": [],
   "source": [
    "def zwei_werte(a, b):\n",
    "    return a + 1, b + 2"
   ]
  },
  {
   "cell_type": "code",
   "execution_count": null,
   "id": "17bf9cd4",
   "metadata": {
    "tags": [
     "code-along"
    ]
   },
   "outputs": [],
   "source": [
    "erster_wert, zweiter_wert = zwei_werte(1, 2)\n",
    "print(erster_wert)\n",
    "print(zweiter_wert)"
   ]
  },
  {
   "cell_type": "code",
   "execution_count": null,
   "id": "cd6075fe",
   "metadata": {
    "slideshow": {
     "slide_type": "subslide"
    },
    "tags": [
     "code-along"
    ]
   },
   "outputs": [],
   "source": [
    "def division_mit_rest(m, n):\n",
    "    ergebnis = m // n\n",
    "    rest = m % n\n",
    "    return ergebnis, rest"
   ]
  },
  {
   "cell_type": "code",
   "execution_count": null,
   "id": "e9f9b324",
   "metadata": {
    "tags": [
     "code-along"
    ]
   },
   "outputs": [],
   "source": [
    "e, r = division_mit_rest(17, 7)\n",
    "print(e)\n",
    "print(r)"
   ]
  },
  {
   "cell_type": "code",
   "execution_count": null,
   "id": "1b4d4975",
   "metadata": {
    "tags": [
     "code-along"
    ]
   },
   "outputs": [],
   "source": [
    "# Kürzer\n",
    "def division_mit_rest_2(m, n):\n",
    "    return m // n, m % n"
   ]
  },
  {
   "cell_type": "code",
   "execution_count": null,
   "id": "8057e5e4",
   "metadata": {
    "tags": [
     "code-along"
    ]
   },
   "outputs": [],
   "source": [
    "e, r = division_mit_rest_2(17, 7)\n",
    "print(e)\n",
    "print(r)"
   ]
  },
  {
   "cell_type": "markdown",
   "id": "e67eb625",
   "metadata": {
    "lang": "de",
    "slideshow": {
     "slide_type": "subslide"
    }
   },
   "source": [
    "(In Python gibt es die eingebaute Funktion `divmod`, die diese Berechnung ausführt)"
   ]
  },
  {
   "cell_type": "code",
   "execution_count": null,
   "id": "3295dd9c",
   "metadata": {
    "tags": [
     "code-along"
    ]
   },
   "outputs": [],
   "source": [
    "e, r = divmod(17, 7)\n",
    "print(e)\n",
    "print(r)"
   ]
  },
  {
   "cell_type": "markdown",
   "id": "f1a54fd4",
   "metadata": {
    "lang": "de",
    "lines_to_next_cell": 2,
    "slideshow": {
     "slide_type": "subslide"
    }
   },
   "source": [
    "## Mini-Workshop\n",
    "\n",
    "- Notebook `workshop_050_introduction_part1`\n",
    "- Abschnitt \"Piraten, Teil 3\""
   ]
  },
  {
   "cell_type": "markdown",
   "id": "163ada27",
   "metadata": {
    "lang": "de",
    "slideshow": {
     "slide_type": "slide"
    }
   },
   "source": [
    "# Vergleiche, Boole'sche Werte"
   ]
  },
  {
   "cell_type": "markdown",
   "id": "53f0a8a5",
   "metadata": {
    "lang": "de"
   },
   "source": [
    "Gleichheit von Werten wird mit `==` getestet:"
   ]
  },
  {
   "cell_type": "code",
   "execution_count": null,
   "id": "10370849",
   "metadata": {
    "tags": [
     "code-along"
    ]
   },
   "outputs": [],
   "source": [
    "1 == 1"
   ]
  },
  {
   "cell_type": "code",
   "execution_count": null,
   "id": "cd464407",
   "metadata": {
    "tags": [
     "code-along"
    ]
   },
   "outputs": [],
   "source": [
    "1 == 2"
   ]
  },
  {
   "cell_type": "markdown",
   "id": "56f4f443",
   "metadata": {
    "lang": "de",
    "slideshow": {
     "slide_type": "subslide"
    }
   },
   "source": [
    "Das Ergebnis eines Vergleichs ist ein Boole'scher Wert (Wahrheitswert)\n",
    "\n",
    "- `True`\n",
    "- `False`"
   ]
  },
  {
   "cell_type": "code",
   "execution_count": null,
   "id": "39d58456",
   "metadata": {
    "tags": [
     "code-along"
    ]
   },
   "outputs": [],
   "source": [
    "type(True)"
   ]
  },
  {
   "cell_type": "markdown",
   "id": "321b81aa",
   "metadata": {
    "lang": "de",
    "slideshow": {
     "slide_type": "subslide"
    }
   },
   "source": [
    "## Gleichheit von Zahlen"
   ]
  },
  {
   "cell_type": "code",
   "execution_count": null,
   "id": "58c36343",
   "metadata": {
    "tags": [
     "code-along"
    ]
   },
   "outputs": [],
   "source": [
    "1 == 1.0"
   ]
  },
  {
   "cell_type": "markdown",
   "id": "a3381e28",
   "metadata": {
    "lang": "de"
   },
   "source": [
    "Mit Unterstrichen lassen sich Zahlen übersichtlicher schreiben."
   ]
  },
  {
   "cell_type": "code",
   "execution_count": null,
   "id": "94f3fa7c",
   "metadata": {
    "tags": [
     "code-along"
    ]
   },
   "outputs": [],
   "source": [
    "0.000_000_1 * 10_000_000 == 1"
   ]
  },
  {
   "cell_type": "markdown",
   "id": "cdbf36b6",
   "metadata": {
    "lang": "de",
    "slideshow": {
     "slide_type": "subslide"
    }
   },
   "source": [
    "Vorsicht: Rundungsfehler!"
   ]
  },
  {
   "cell_type": "code",
   "execution_count": null,
   "id": "fb25207c",
   "metadata": {
    "tags": [
     "code-along"
    ]
   },
   "outputs": [],
   "source": [
    "1 / 10"
   ]
  },
  {
   "cell_type": "code",
   "execution_count": null,
   "id": "7c6f25b4",
   "metadata": {
    "tags": [
     "code-along"
    ]
   },
   "outputs": [],
   "source": [
    "1 / 100"
   ]
  },
  {
   "cell_type": "code",
   "execution_count": null,
   "id": "5bcb56b2",
   "metadata": {
    "tags": [
     "code-along"
    ]
   },
   "outputs": [],
   "source": [
    "(1 / 10) * (1 / 10) == (1 / 100)"
   ]
  },
  {
   "cell_type": "code",
   "execution_count": null,
   "id": "efd8828b",
   "metadata": {
    "tags": [
     "code-along"
    ]
   },
   "outputs": [],
   "source": [
    "0.1 * 0.1"
   ]
  },
  {
   "cell_type": "code",
   "execution_count": null,
   "id": "64fcd714",
   "metadata": {
    "tags": [
     "code-along"
    ]
   },
   "outputs": [],
   "source": [
    "0.1 - 0.01"
   ]
  },
  {
   "cell_type": "code",
   "execution_count": null,
   "id": "4459f80b",
   "metadata": {
    "tags": [
     "code-along"
    ]
   },
   "outputs": [],
   "source": [
    "100 * 1.1"
   ]
  },
  {
   "cell_type": "markdown",
   "id": "2ec93c2c",
   "metadata": {
    "lang": "de",
    "slideshow": {
     "slide_type": "subslide"
    }
   },
   "source": [
    "## Ungleichheit von Zahlen\n",
    "\n",
    "Der Operator `!=` testet, ob zwei Zahlen verschieden sind"
   ]
  },
  {
   "cell_type": "code",
   "execution_count": null,
   "id": "62729e01",
   "metadata": {
    "tags": [
     "code-along"
    ]
   },
   "outputs": [],
   "source": [
    "1 != 1.0"
   ]
  },
  {
   "cell_type": "code",
   "execution_count": null,
   "id": "8b847441",
   "metadata": {
    "tags": [
     "code-along"
    ]
   },
   "outputs": [],
   "source": [
    "1 != 2"
   ]
  },
  {
   "cell_type": "markdown",
   "id": "59a8bda1",
   "metadata": {
    "lang": "de",
    "slideshow": {
     "slide_type": "subslide"
    }
   },
   "source": [
    "## Vergleich von Zahlen"
   ]
  },
  {
   "cell_type": "code",
   "execution_count": null,
   "id": "d0dc68dd",
   "metadata": {
    "tags": [
     "code-along"
    ]
   },
   "outputs": [],
   "source": [
    "1 < 2"
   ]
  },
  {
   "cell_type": "code",
   "execution_count": null,
   "id": "3d42ba5e",
   "metadata": {
    "tags": [
     "code-along"
    ]
   },
   "outputs": [],
   "source": [
    "1 < 1"
   ]
  },
  {
   "cell_type": "code",
   "execution_count": null,
   "id": "ffd199af",
   "metadata": {
    "tags": [
     "code-along"
    ]
   },
   "outputs": [],
   "source": [
    "1 <= 1"
   ]
  },
  {
   "cell_type": "code",
   "execution_count": null,
   "id": "106116bd",
   "metadata": {
    "incorrectly_encoded_metadata": "{\"slideshow\": {\"slide_type\": \"subslide\"}} tags=[\"code-along\"]"
   },
   "outputs": [],
   "source": [
    "1 > 2"
   ]
  },
  {
   "cell_type": "code",
   "execution_count": null,
   "id": "ed2e66fe",
   "metadata": {
    "tags": [
     "code-along"
    ]
   },
   "outputs": [],
   "source": [
    "2 >= 1"
   ]
  },
  {
   "cell_type": "markdown",
   "id": "ab3a68a3",
   "metadata": {
    "lang": "de",
    "pycharm": {
     "name": "#%% md\n"
    },
    "slideshow": {
     "slide_type": "slide"
    }
   },
   "source": [
    "## Vergleichsoperatoren auf anderen Typen\n",
    "\n",
    "Die Vergleichsoperatoren lassen sich auch auf viele andere Typen anwenden\n",
    "(genaueres später)."
   ]
  },
  {
   "cell_type": "markdown",
   "id": "d10ef289",
   "metadata": {
    "lang": "de",
    "slideshow": {
     "slide_type": "slide"
    }
   },
   "source": [
    "## Operatoren auf Boole'schen Werten\n"
   ]
  },
  {
   "cell_type": "code",
   "execution_count": null,
   "id": "68374d90",
   "metadata": {
    "tags": [
     "code-along"
    ]
   },
   "outputs": [],
   "source": [
    "1 < 2 and 3 < 2"
   ]
  },
  {
   "cell_type": "code",
   "execution_count": null,
   "id": "778b2954",
   "metadata": {
    "tags": [
     "code-along"
    ]
   },
   "outputs": [],
   "source": [
    "1 < 2 or 3 < 2"
   ]
  },
  {
   "cell_type": "code",
   "execution_count": null,
   "id": "e1581982",
   "metadata": {
    "tags": [
     "code-along"
    ]
   },
   "outputs": [],
   "source": [
    "not (1 < 2)"
   ]
  },
  {
   "cell_type": "markdown",
   "id": "a37784f3",
   "metadata": {
    "lang": "de",
    "slideshow": {
     "slide_type": "subslide"
    }
   },
   "source": [
    "### Wann ist ein logischer Ausdruck wahr?\n",
    "\n",
    "| Operator | Operation                      | `True` wenn...                 |\n",
    "|:--------:|:-------------------------------|:-------------------------------|\n",
    "| and      | logisches \"Und\" (Konjunktion)  | beide Argumente `True`         |\n",
    "| or       | logisches \"Oder\" (Disjunktion) | mindestens ein Argument `True` |\n",
    "| not      | logisches \"Nicht\" (Negation)   | Argument `False`               |"
   ]
  },
  {
   "cell_type": "markdown",
   "id": "e601d489",
   "metadata": {
    "lang": "de",
    "slideshow": {
     "slide_type": "subslide"
    }
   },
   "source": [
    "### Verkettung von Vergleichen"
   ]
  },
  {
   "cell_type": "code",
   "execution_count": null,
   "id": "4cb04181",
   "metadata": {
    "tags": [
     "code-along"
    ]
   },
   "outputs": [],
   "source": [
    "1 < 2 < 3"
   ]
  },
  {
   "cell_type": "code",
   "execution_count": null,
   "id": "505ae901",
   "metadata": {
    "tags": [
     "code-along"
    ]
   },
   "outputs": [],
   "source": [
    "# noinspection PyChainedComparisons\n",
    "1 < 2 and 2 < 3"
   ]
  },
  {
   "cell_type": "code",
   "execution_count": null,
   "id": "4b77d588",
   "metadata": {
    "tags": [
     "code-along"
    ]
   },
   "outputs": [],
   "source": [
    "1 < 3 <= 2"
   ]
  },
  {
   "cell_type": "code",
   "execution_count": null,
   "id": "f4e75fb1",
   "metadata": {
    "tags": [
     "code-along"
    ]
   },
   "outputs": [],
   "source": [
    "# noinspection PyChainedComparisons\n",
    "1 < 3 and 3 <= 2"
   ]
  },
  {
   "cell_type": "markdown",
   "id": "08cdf283",
   "metadata": {
    "lang": "de",
    "lines_to_next_cell": 2,
    "slideshow": {
     "slide_type": "subslide"
    }
   },
   "source": [
    "## Mini-Workshop\n",
    "\n",
    "- Notebook `workshop_060_introduction_part2`\n",
    "- Abschnitt \"Operatoren, Vergleiche\""
   ]
  },
  {
   "cell_type": "markdown",
   "id": "1e2a779a",
   "metadata": {
    "lang": "de",
    "slideshow": {
     "slide_type": "slide"
    }
   },
   "source": [
    "## Struktur einer `if`-Anweisung (unvollständig):\n",
    "\n",
    "```python\n",
    "if <Bedingung>:\n",
    "    Rumpf, der ausgeführt wird, wenn Bedingung 1 wahr ist\n",
    "else:\n",
    "    Rumpf, der ausgeführt wird, wenn keine der Bedingungen wahr ist\n",
    "```\n",
    "- Nur das `if` und der erste Rumpf sind notwendig\n",
    "- Falls ein `else` vorhanden ist, so darf der entsprechende Rumpf nicht leer sein\n"
   ]
  },
  {
   "cell_type": "markdown",
   "id": "e2554e0b",
   "metadata": {
    "lang": "de",
    "slideshow": {
     "slide_type": "subslide"
    }
   },
   "source": [
    "## Mini-Workshop\n",
    "\n",
    "- Notebook `workshop_060_introduction_part2`\n",
    "- Abschnitt \"Volljährig\""
   ]
  }
 ],
 "metadata": {
  "jupytext": {
   "cell_metadata_json": true,
   "encoding": "# -*- coding: utf-8 -*-",
   "formats": "ipynb"
  },
  "kernelspec": {
   "display_name": "Python 3 (ipykernel)",
   "language": "python",
   "name": "python3"
  }
 },
 "nbformat": 4,
 "nbformat_minor": 5
}
