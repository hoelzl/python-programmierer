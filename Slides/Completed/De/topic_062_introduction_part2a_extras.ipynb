{
 "cells": [
  {
   "cell_type": "markdown",
   "id": "a670514e",
   "metadata": {
    "lang": "de",
    "slideshow": {
     "slide_type": "slide"
    }
   },
   "source": [
    "<img src=\"img/python-logo-notext.svg\"\n",
    "     style=\"display:block;margin:auto;width:10%\"/>\n",
    "<br>\n",
    "<div style=\"text-align:center; font-size:200%;\"><b>Einführung in Python: Grundlagen Teil 2a - Extras</b></div>\n",
    "<br/>\n",
    "<div style=\"text-align:center;\">Dr. Matthias Hölzl</div>"
   ]
  },
  {
   "cell_type": "markdown",
   "id": "e9e70b26",
   "metadata": {
    "slideshow": {
     "slide_type": "slide"
    }
   },
   "source": [
    "# `if`-Anweisungen\n",
    "\n",
    "- Wir wollen ein Programm schreiben, das bestimmt ob eine Zahl eine Glückszahl\n",
    "  ist oder nicht:\n",
    "    - 7 ist eine Glückszahl\n",
    "    - Alle anderen Zahlen sind es nicht.\n",
    "- Wir benötigen dazu die `if`-Anweisung:"
   ]
  },
  {
   "cell_type": "code",
   "execution_count": null,
   "id": "ee863ec3",
   "metadata": {
    "incorrectly_encoded_metadata": "{\"slideshow\": {\"slide_type\": \"subslide\"}} tags=[\"code-along\"]"
   },
   "outputs": [],
   "source": [
    "def ist_glückszahl(zahl):\n",
    "    print(\"Ist\", zahl, \"eine Glückszahl?\")\n",
    "\n",
    "    if zahl == 7:\n",
    "        print(\"Ja!\")\n",
    "    else:\n",
    "        print(\"Leider nein.\")\n",
    "\n",
    "    print(\"Wir wünschen Ihnen alles Gute.\")"
   ]
  },
  {
   "cell_type": "code",
   "execution_count": null,
   "id": "1db488dd",
   "metadata": {
    "tags": [
     "code-along"
    ]
   },
   "outputs": [],
   "source": [
    "ist_glückszahl(1)"
   ]
  },
  {
   "cell_type": "code",
   "execution_count": null,
   "id": "265f29d2",
   "metadata": {
    "tags": [
     "code-along"
    ]
   },
   "outputs": [],
   "source": [
    "ist_glückszahl(7)"
   ]
  },
  {
   "cell_type": "code",
   "execution_count": null,
   "id": "64971af8",
   "metadata": {
    "slideshow": {
     "slide_type": "subslide"
    }
   },
   "outputs": [],
   "source": [
    "def ist_glückszahl_2(zahl):\n",
    "    if zahl == 7:\n",
    "        print(zahl, \"ist eine Glückszahl!\")\n",
    "        print(\"Sie haben sicher einen super Tag!\")\n",
    "    else:\n",
    "        print(zahl, \"ist leider keine Glückszahl.\")\n",
    "        print(\"Vielleicht sollten Sie heute lieber im Bett bleiben.\")\n",
    "        print(\"Wir wünschen Ihnen trotzdem alles Gute.\")"
   ]
  },
  {
   "cell_type": "code",
   "execution_count": null,
   "id": "7a03735a",
   "metadata": {
    "tags": [
     "code-along"
    ]
   },
   "outputs": [],
   "source": [
    "ist_glückszahl_2(1)"
   ]
  },
  {
   "cell_type": "code",
   "execution_count": null,
   "id": "09053ad0",
   "metadata": {
    "tags": [
     "code-along"
    ]
   },
   "outputs": [],
   "source": [
    "ist_glückszahl_2(7)"
   ]
  },
  {
   "cell_type": "code",
   "execution_count": null,
   "id": "76aa739a",
   "metadata": {
    "slideshow": {
     "slide_type": "subslide"
    }
   },
   "outputs": [],
   "source": [
    "def einseitiges_if_1(zahl):\n",
    "    print(\"Vorher\")\n",
    "\n",
    "    if zahl == 7:\n",
    "        print(zahl, \"ist eine Glückszahl\")\n",
    "        print(\"Glückwunsch!\")\n",
    "\n",
    "    print(\"Nachher\")"
   ]
  },
  {
   "cell_type": "code",
   "execution_count": null,
   "id": "b10e1926",
   "metadata": {
    "tags": [
     "code-along"
    ]
   },
   "outputs": [],
   "source": [
    "einseitiges_if_1(1)"
   ]
  },
  {
   "cell_type": "code",
   "execution_count": null,
   "id": "30b58769",
   "metadata": {
    "tags": [
     "code-along"
    ]
   },
   "outputs": [],
   "source": [
    "einseitiges_if_1(7)"
   ]
  },
  {
   "cell_type": "code",
   "execution_count": null,
   "id": "7218d4e1",
   "metadata": {
    "slideshow": {
     "slide_type": "subslide"
    }
   },
   "outputs": [],
   "source": [
    "def einseitiges_if_2(zahl):\n",
    "    if zahl % 2 != 0:\n",
    "        zahl += 1  # zahl = zahl + 1\n",
    "    print(zahl)"
   ]
  },
  {
   "cell_type": "code",
   "execution_count": null,
   "id": "5b259860",
   "metadata": {
    "tags": [
     "code-along"
    ]
   },
   "outputs": [],
   "source": [
    "einseitiges_if_2(1)"
   ]
  },
  {
   "cell_type": "code",
   "execution_count": null,
   "id": "9d7dc189",
   "metadata": {
    "lines_to_next_cell": 2,
    "tags": [
     "code-along"
    ]
   },
   "outputs": [],
   "source": [
    "einseitiges_if_2(6)"
   ]
  },
  {
   "cell_type": "markdown",
   "id": "da782341",
   "metadata": {
    "slideshow": {
     "slide_type": "slide"
    }
   },
   "source": [
    "# Listen"
   ]
  },
  {
   "cell_type": "code",
   "execution_count": null,
   "id": "bed99909",
   "metadata": {},
   "outputs": [],
   "source": [
    "warenkorb = [\"Haferflocken\", \"Kaffeebohnen\", \"Orangenmarmelade\"]"
   ]
  },
  {
   "cell_type": "markdown",
   "id": "7f84efd6",
   "metadata": {},
   "source": [
    "Der Typ von Listen ist `list`."
   ]
  },
  {
   "cell_type": "code",
   "execution_count": null,
   "id": "3744149a",
   "metadata": {
    "tags": [
     "code-along"
    ]
   },
   "outputs": [],
   "source": [
    "type(warenkorb)"
   ]
  },
  {
   "cell_type": "markdown",
   "id": "b8c31999",
   "metadata": {
    "slideshow": {
     "slide_type": "slide"
    }
   },
   "source": [
    "## Erzeugen von Listen\n",
    "\n",
    "- Listen werden erzeugt, indem man ihre Elemente in eckige Klammern\n",
    "  einschließt.\n",
    "- Die Elemente einer Liste können beliebige Python-Werte sein.\n",
    "- Eine Liste kann Elemente mit verschiedenen Typen enthalten."
   ]
  },
  {
   "cell_type": "code",
   "execution_count": null,
   "id": "36ec489d",
   "metadata": {
    "slideshow": {
     "slide_type": "subslide"
    }
   },
   "outputs": [],
   "source": [
    "liste_1 = [1, 2, 3, 4, 5]\n",
    "liste_2 = [\"string1\", \"another string\"]"
   ]
  },
  {
   "cell_type": "code",
   "execution_count": null,
   "id": "ee27cc25",
   "metadata": {
    "tags": [
     "code-along"
    ]
   },
   "outputs": [],
   "source": [
    "print(liste_1)"
   ]
  },
  {
   "cell_type": "code",
   "execution_count": null,
   "id": "a334dfc7",
   "metadata": {
    "tags": [
     "code-along"
    ]
   },
   "outputs": [],
   "source": [
    "print(liste_2)"
   ]
  },
  {
   "cell_type": "code",
   "execution_count": null,
   "id": "21d1e067",
   "metadata": {
    "incorrectly_encoded_metadata": "{\"slideshow\": {\"slide_type\": \"subslide\"}} tags=[\"code-along\"]"
   },
   "outputs": [],
   "source": [
    "liste_3 = []\n",
    "liste_4 = [1, 0.4, \"ein String\", True, None]"
   ]
  },
  {
   "cell_type": "code",
   "execution_count": null,
   "id": "61ac3f46",
   "metadata": {
    "tags": [
     "code-along"
    ]
   },
   "outputs": [],
   "source": [
    "print(liste_3)"
   ]
  },
  {
   "cell_type": "code",
   "execution_count": null,
   "id": "579a8034",
   "metadata": {
    "tags": [
     "code-along"
    ]
   },
   "outputs": [],
   "source": [
    "print(liste_4)"
   ]
  },
  {
   "cell_type": "markdown",
   "id": "590a2663",
   "metadata": {
    "slideshow": {
     "slide_type": "subslide"
    }
   },
   "source": [
    "\n",
    "Die Elemente einer Liste müssen keine Literale sein, man kann auch Werte von\n",
    "Variablen in einer Liste speichern:"
   ]
  },
  {
   "cell_type": "code",
   "execution_count": null,
   "id": "6c071b8e",
   "metadata": {},
   "outputs": [],
   "source": [
    "produkt_1 = \"Haferflocken\"\n",
    "produkt_2 = \"Kaffeebohnen\"\n",
    "produkt_3 = \"Orangenmarmelade\"\n",
    "warenkorb = [produkt_1, produkt_2, produkt_3, \"Erdbeermarmelade\"]\n",
    "warenkorb"
   ]
  },
  {
   "cell_type": "markdown",
   "id": "5965929d",
   "metadata": {
    "slideshow": {
     "slide_type": "subslide"
    }
   },
   "source": [
    "\n",
    "Nachdem eine Liste erzeugt ist hat sie keine Verbindung zu den Variablen, die\n",
    "in ihrer Konstruktion verwendet wurden:"
   ]
  },
  {
   "cell_type": "code",
   "execution_count": null,
   "id": "8475e3ae",
   "metadata": {
    "tags": [
     "code-along"
    ]
   },
   "outputs": [],
   "source": [
    "produkt_1 = \"Dinkelflocken\"\n",
    "produkt_2 = \"Teebeutel\"\n",
    "warenkorb"
   ]
  },
  {
   "cell_type": "markdown",
   "id": "8a5540fd",
   "metadata": {
    "slideshow": {
     "slide_type": "subslide"
    }
   },
   "source": [
    "\n",
    "Mit der Funktion `list` können manche andere Datentypen in Listen umgewandelt\n",
    "werden.\n",
    "\n",
    "Im Moment kennen wir nur Listen, Strings und Dictionaries als mögliche\n",
    "Argumenttypen:"
   ]
  },
  {
   "cell_type": "code",
   "execution_count": null,
   "id": "639e030f",
   "metadata": {
    "tags": [
     "code-along"
    ]
   },
   "outputs": [],
   "source": [
    "list(\"abc\")"
   ]
  },
  {
   "cell_type": "code",
   "execution_count": null,
   "id": "f8ebd083",
   "metadata": {
    "tags": [
     "code-along"
    ]
   },
   "outputs": [],
   "source": [
    "list([1, 2, 3])"
   ]
  },
  {
   "cell_type": "code",
   "execution_count": null,
   "id": "0e005f5f",
   "metadata": {
    "tags": [
     "code-along"
    ]
   },
   "outputs": [],
   "source": [
    "list({\"a\": 1, \"b\": 2})"
   ]
  },
  {
   "cell_type": "markdown",
   "id": "4f915b66",
   "metadata": {
    "pycharm": {
     "name": "#%% md\n"
    },
    "slideshow": {
     "slide_type": ""
    }
   },
   "source": [
    "## Zugriff auf Listenelemente"
   ]
  },
  {
   "cell_type": "code",
   "execution_count": null,
   "id": "40fdb2e7",
   "metadata": {},
   "outputs": [],
   "source": [
    "zahlenliste = [0, 1, 2, 3]"
   ]
  },
  {
   "cell_type": "code",
   "execution_count": null,
   "id": "e7f8d48b",
   "metadata": {
    "tags": [
     "code-along"
    ]
   },
   "outputs": [],
   "source": [
    "zahlenliste[0]"
   ]
  },
  {
   "cell_type": "code",
   "execution_count": null,
   "id": "b0ff99e6",
   "metadata": {
    "tags": [
     "code-along"
    ]
   },
   "outputs": [],
   "source": [
    "zahlenliste[3]"
   ]
  },
  {
   "cell_type": "code",
   "execution_count": null,
   "id": "2e3605fc",
   "metadata": {
    "tags": [
     "code-along"
    ]
   },
   "outputs": [],
   "source": [
    "zahlenliste[-1]"
   ]
  },
  {
   "cell_type": "markdown",
   "id": "0d043d6e",
   "metadata": {
    "pycharm": {
     "name": "#%% md\n"
    },
    "slideshow": {
     "slide_type": "slide"
    }
   },
   "source": [
    "## Länge einer Liste"
   ]
  },
  {
   "cell_type": "code",
   "execution_count": null,
   "id": "5c709ec6",
   "metadata": {},
   "outputs": [],
   "source": [
    "zahlenliste"
   ]
  },
  {
   "cell_type": "code",
   "execution_count": null,
   "id": "030c1240",
   "metadata": {
    "tags": [
     "code-along"
    ]
   },
   "outputs": [],
   "source": [
    "len(zahlenliste)"
   ]
  },
  {
   "cell_type": "markdown",
   "id": "05022138",
   "metadata": {
    "pycharm": {
     "name": "#%% md\n"
    },
    "slideshow": {
     "slide_type": "slide"
    }
   },
   "source": [
    "## Modifikation von Listeneinträgen"
   ]
  },
  {
   "cell_type": "code",
   "execution_count": null,
   "id": "c6061f12",
   "metadata": {
    "tags": [
     "code-along"
    ]
   },
   "outputs": [],
   "source": [
    "zahlenliste[1] = 10\n",
    "zahlenliste"
   ]
  },
  {
   "cell_type": "markdown",
   "id": "bd6be712",
   "metadata": {
    "pycharm": {
     "name": "#%% md\n"
    },
    "slideshow": {
     "slide_type": "slide"
    }
   },
   "source": [
    "## Anhängen von Elementen an eine Liste"
   ]
  },
  {
   "cell_type": "code",
   "execution_count": null,
   "id": "31139031",
   "metadata": {
    "tags": [
     "code-along"
    ]
   },
   "outputs": [],
   "source": [
    "zahlenliste.append(40)\n",
    "zahlenliste"
   ]
  },
  {
   "cell_type": "code",
   "execution_count": null,
   "id": "869cfa1c",
   "metadata": {
    "tags": [
     "code-along"
    ]
   },
   "outputs": [],
   "source": [
    "zahlenliste.extend([50, 60])\n",
    "zahlenliste"
   ]
  },
  {
   "cell_type": "markdown",
   "id": "1bfee243",
   "metadata": {
    "pycharm": {
     "name": "#%% md\n"
    },
    "slideshow": {
     "slide_type": "slide"
    }
   },
   "source": [
    "## Iteration über Listen\n",
    "\n",
    "In Python kann man mit der `for`-Schleife über Listen iterieren.\n",
    "\n",
    "Die `for`-Schleife entspricht dem range-based for aus C++,\n",
    "`for-in`/`for-of` aus JavaScript oder der `for-each`-Schleife\n",
    "aus Java, nicht der klassischen `for`-Schleife\n",
    "aus C, C++ oder Java."
   ]
  },
  {
   "cell_type": "code",
   "execution_count": null,
   "id": "b568ff42",
   "metadata": {
    "slideshow": {
     "slide_type": "subslide"
    }
   },
   "outputs": [],
   "source": [
    "zahlenliste = [0, 1, 2, 3, 4]\n",
    "zahlenliste"
   ]
  },
  {
   "cell_type": "code",
   "execution_count": null,
   "id": "a4c5ad22",
   "metadata": {
    "tags": [
     "code-along"
    ]
   },
   "outputs": [],
   "source": [
    "for zahl in zahlenliste:\n",
    "    print(\"Die Zahl ist:\", zahl)"
   ]
  },
  {
   "cell_type": "markdown",
   "id": "23c6d1c6",
   "metadata": {
    "slideshow": {
     "slide_type": "subslide"
    }
   },
   "source": [
    "## Syntax der `for`-Schleife\n",
    "\n",
    "```python\n",
    "for <element-var> in <liste>:\n",
    "    <rumpf>\n",
    "```"
   ]
  },
  {
   "cell_type": "markdown",
   "id": "f93b3ca2",
   "metadata": {
    "slideshow": {
     "slide_type": "subslide"
    }
   },
   "source": [
    "## Workshop\n",
    "\n",
    "- Notebook `workshop_060_introduction_part2`\n",
    "- Abschnitt \"Einkaufsliste\""
   ]
  }
 ],
 "metadata": {
  "jupytext": {
   "cell_metadata_json": true,
   "encoding": "# -*- coding: utf-8 -*-",
   "formats": "ipynb"
  },
  "kernelspec": {
   "display_name": "Python 3 (ipykernel)",
   "language": "python",
   "name": "python3"
  }
 },
 "nbformat": 4,
 "nbformat_minor": 5
}
