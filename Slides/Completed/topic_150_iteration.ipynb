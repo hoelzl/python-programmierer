{
 "cells": [
  {
   "cell_type": "markdown",
   "id": "dd7a334b",
   "metadata": {
    "lines_to_next_cell": 2,
    "slideshow": {
     "slide_type": "slide"
    }
   },
   "source": [
    "<img src=\"img/python-logo-notext.svg\"\n",
    "     style=\"display:block;margin:auto;width:10%\"/>\n",
    "<h1 style=\"text-align:center;\">Iteration</h1>\n",
    "<br/>\n",
    "<div style=\"text-align:center;\">Dr. Matthias Hölzl</div>"
   ]
  },
  {
   "cell_type": "markdown",
   "id": "d5b7a1a9",
   "metadata": {
    "lines_to_next_cell": 2
   },
   "source": [
    "\n",
    "# Iteration über Listen\n",
    "\n",
    "Zur Iteration über Listen (und andere Datenstrukturen) bietet Python die\n",
    "bereits besprochene`for`-Schleife:"
   ]
  },
  {
   "cell_type": "code",
   "execution_count": null,
   "id": "0c4b94f3",
   "metadata": {
    "lines_to_next_cell": 2,
    "tags": [
     "code-along"
    ]
   },
   "outputs": [],
   "source": [
    "my_list = [1, 2, 3, 4]\n",
    "for n in my_list:\n",
    "    print(f\"Item {n}\")"
   ]
  },
  {
   "cell_type": "code",
   "execution_count": null,
   "id": "55043339",
   "metadata": {
    "lines_to_next_cell": 2,
    "tags": [
     "code-along"
    ]
   },
   "outputs": [],
   "source": [
    "index = 0\n",
    "while index < len(my_list):\n",
    "    n = my_list[index]\n",
    "    print(f\"Item {n}\")\n",
    "    index += 1"
   ]
  },
  {
   "cell_type": "markdown",
   "id": "79be53de",
   "metadata": {},
   "source": [
    "\n",
    " ## Iteration über Listen von Listen"
   ]
  },
  {
   "cell_type": "code",
   "execution_count": null,
   "id": "2d3356d4",
   "metadata": {
    "lines_to_next_cell": 2,
    "tags": [
     "code-along"
    ]
   },
   "outputs": [],
   "source": [
    "a, b = [1, 2]\n",
    "print(a)\n",
    "print(b)"
   ]
  },
  {
   "cell_type": "code",
   "execution_count": null,
   "id": "27b2de7b",
   "metadata": {
    "lines_to_next_cell": 2
   },
   "outputs": [],
   "source": [
    "my_list = [[1, 2], [3, 4], [5, 6]]"
   ]
  },
  {
   "cell_type": "code",
   "execution_count": null,
   "id": "4641e350",
   "metadata": {
    "lines_to_next_cell": 2,
    "tags": [
     "code-along"
    ]
   },
   "outputs": [],
   "source": [
    "for m, n in my_list:\n",
    "    print(f\"Items {m} and {n}\")"
   ]
  },
  {
   "cell_type": "code",
   "execution_count": null,
   "id": "e653a799",
   "metadata": {
    "lines_to_next_cell": 2,
    "tags": [
     "code-along"
    ]
   },
   "outputs": [],
   "source": [
    "index = 0\n",
    "while index < len(my_list):\n",
    "    m, n = my_list[index]\n",
    "    print(f\"Items {m} and {n}\")\n",
    "    index += 1"
   ]
  },
  {
   "cell_type": "markdown",
   "id": "6911cab3",
   "metadata": {},
   "source": [
    "\n",
    " # Nochmal Finden von Elementen\n",
    "\n",
    " Bei unserer bisherigen Version von `find` muss die Liste zweimal durchlaufen\n",
    " werden:\n",
    "\n",
    " - Einmal von `in` um zu testen, ob das gesuchte Element in der Liste vorkommt\n",
    " - Einmal von `index` um den Index zu finden.\n",
    "\n",
    " Schöner wäre es, wenn wir das in einem Durchlauf erledigen könnten."
   ]
  },
  {
   "cell_type": "code",
   "execution_count": null,
   "id": "b6c03ea3",
   "metadata": {},
   "outputs": [],
   "source": [
    "my_list = [\"a\", \"b\", \"c\", \"d\", \"e\"]"
   ]
  },
  {
   "cell_type": "code",
   "execution_count": null,
   "id": "d60e859d",
   "metadata": {
    "lines_to_next_cell": 2,
    "tags": [
     "code-along"
    ]
   },
   "outputs": [],
   "source": [
    "enumerate(my_list)"
   ]
  },
  {
   "cell_type": "code",
   "execution_count": null,
   "id": "52d189e8",
   "metadata": {
    "lines_to_next_cell": 2,
    "tags": [
     "code-along"
    ]
   },
   "outputs": [],
   "source": [
    "list(enumerate(my_list))"
   ]
  },
  {
   "cell_type": "code",
   "execution_count": null,
   "id": "96e69775",
   "metadata": {
    "tags": [
     "code-along"
    ]
   },
   "outputs": [],
   "source": [
    "for index, element in enumerate(my_list):\n",
    "    print(f\"index = {index}, element = {element}\")"
   ]
  },
  {
   "cell_type": "code",
   "execution_count": null,
   "id": "7c099b1b",
   "metadata": {
    "tags": [
     "code-along"
    ]
   },
   "outputs": [],
   "source": [
    "def find(element, a_list):\n",
    "    result = None\n",
    "    for index, list_entry in enumerate(a_list):\n",
    "        if list_entry == element:\n",
    "            result = index\n",
    "            break\n",
    "    return result"
   ]
  },
  {
   "cell_type": "code",
   "execution_count": null,
   "id": "59922a54",
   "metadata": {},
   "outputs": [],
   "source": [
    "my_list = [\"a\", \"b\", \"c\", \"d\", \"a\"]"
   ]
  },
  {
   "cell_type": "code",
   "execution_count": null,
   "id": "d20214a3",
   "metadata": {
    "lines_to_next_cell": 2,
    "tags": [
     "code-along"
    ]
   },
   "outputs": [],
   "source": [
    "find(\"a\", my_list)"
   ]
  },
  {
   "cell_type": "code",
   "execution_count": null,
   "id": "e9ad41a3",
   "metadata": {
    "lines_to_next_cell": 2,
    "tags": [
     "code-along"
    ]
   },
   "outputs": [],
   "source": [
    "find(\"d\", my_list)"
   ]
  },
  {
   "cell_type": "code",
   "execution_count": null,
   "id": "11004f94",
   "metadata": {
    "tags": [
     "code-along"
    ]
   },
   "outputs": [],
   "source": [
    "assert find(\"x\", my_list) == None"
   ]
  },
  {
   "cell_type": "code",
   "execution_count": null,
   "id": "92e43609",
   "metadata": {
    "tags": [
     "code-along"
    ]
   },
   "outputs": [],
   "source": [
    "# Alternative Implementierung:\n",
    "def find_return(element, a_list):\n",
    "    for index, list_entry in enumerate(a_list):\n",
    "        if list_entry == element:\n",
    "            return index\n",
    "    return None"
   ]
  },
  {
   "cell_type": "code",
   "execution_count": null,
   "id": "d53624ae",
   "metadata": {
    "tags": [
     "code-along"
    ]
   },
   "outputs": [],
   "source": [
    "# Mit assert können Invarianten dokumentiert werden:\n",
    "assert find(\"a\", my_list) == find_return(\"a\", my_list)\n",
    "assert find(\"d\", my_list) == find_return(\"d\", my_list)\n",
    "assert find(\"x\", my_list) == find_return(\"x\", my_list)"
   ]
  },
  {
   "cell_type": "markdown",
   "id": "dade9c97",
   "metadata": {},
   "source": [
    "\n",
    " ## Mini-Workshop\n",
    "\n",
    " - Notebook `workshop_100_lists_part2`\n",
    " - Abschnitt \"Finden in Listen\"\n"
   ]
  },
  {
   "cell_type": "markdown",
   "id": "074fb8cb",
   "metadata": {},
   "source": [
    "\n",
    " ## Aggregation von Listenelementen"
   ]
  },
  {
   "cell_type": "code",
   "execution_count": null,
   "id": "204bcba5",
   "metadata": {
    "tags": [
     "code-along"
    ]
   },
   "outputs": [],
   "source": [
    "def summe(zahlen):\n",
    "    ergebnis = 0\n",
    "    for n in zahlen:\n",
    "        ergebnis += n\n",
    "    return ergebnis"
   ]
  },
  {
   "cell_type": "code",
   "execution_count": null,
   "id": "0f5b4881",
   "metadata": {
    "lines_to_next_cell": 2,
    "tags": [
     "code-along"
    ]
   },
   "outputs": [],
   "source": [
    "summe([1, 2, 3])"
   ]
  },
  {
   "cell_type": "markdown",
   "id": "3ba6ca02",
   "metadata": {},
   "source": [
    "\n",
    " ## Mini-Workshop\n",
    "\n",
    " - Notebook `workshop_100_lists_part2`\n",
    " - Abschnitt \"Mittelwert einer Liste\""
   ]
  },
  {
   "cell_type": "markdown",
   "id": "b89c730e",
   "metadata": {},
   "source": [
    "\n",
    " ## Transformation von Listen"
   ]
  },
  {
   "cell_type": "code",
   "execution_count": null,
   "id": "7f9bd74d",
   "metadata": {
    "lines_to_next_cell": 2,
    "tags": [
     "code-along"
    ]
   },
   "outputs": [],
   "source": [
    "result = []\n",
    "for item in [1, 2, 3, 4]:\n",
    "    result.append(item + 1)\n",
    "result"
   ]
  },
  {
   "cell_type": "code",
   "execution_count": null,
   "id": "206ff6de",
   "metadata": {
    "lines_to_next_cell": 2,
    "tags": [
     "code-along"
    ]
   },
   "outputs": [],
   "source": [
    "result = []\n",
    "for n in [1, 2, 3, 4]:\n",
    "    result.append(f\"Item {n}\")\n",
    "result"
   ]
  },
  {
   "cell_type": "markdown",
   "id": "f5df646d",
   "metadata": {
    "lines_to_next_cell": 2
   },
   "source": [
    "\n",
    "## Mini-Workshop\n",
    "\n",
    "- Notebook `workshop_100_lists_part2`\n",
    "- Abschnitt \"Quadratzahlen\""
   ]
  },
  {
   "cell_type": "markdown",
   "id": "089845c8",
   "metadata": {},
   "source": [
    "# Filtern von Listen"
   ]
  },
  {
   "cell_type": "code",
   "execution_count": null,
   "id": "10ed3628",
   "metadata": {
    "lines_to_next_cell": 2,
    "tags": [
     "code-along"
    ]
   },
   "outputs": [],
   "source": [
    "result = []\n",
    "for item in [1, 2, 3, 4, 5, 6]:\n",
    "    if item % 2 == 0:\n",
    "        result.append(item)\n",
    "result"
   ]
  },
  {
   "cell_type": "code",
   "execution_count": null,
   "id": "e8fa6ea5",
   "metadata": {
    "lines_to_next_cell": 2,
    "tags": [
     "code-along"
    ]
   },
   "outputs": [],
   "source": [
    "result = []\n",
    "for item in [\"abc\", \"def\", \"asd\", \"qwe\", \"bab\"]:\n",
    "    if \"ab\" in item:\n",
    "        result.append(item)\n",
    "result"
   ]
  },
  {
   "cell_type": "markdown",
   "id": "a4cc4426",
   "metadata": {},
   "source": [
    "\n",
    " ## Mini-Workshop\n",
    "\n",
    " - Notebook `workshop_100_lists_part2`\n",
    " - Abschnitt \"Filtern\"\n"
   ]
  }
 ],
 "metadata": {
  "jupytext": {
   "encoding": "# -*- coding: utf-8 -*-",
   "formats": "ipynb",
   "main_language": "python"
  }
 },
 "nbformat": 4,
 "nbformat_minor": 5
}
