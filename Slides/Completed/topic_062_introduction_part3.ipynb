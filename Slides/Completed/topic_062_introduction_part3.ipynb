{
 "cells": [
  {
   "cell_type": "markdown",
   "id": "cd3aa387",
   "metadata": {
    "lines_to_next_cell": 2,
    "slideshow": {
     "slide_type": "slide"
    }
   },
   "source": [
    "<img src=\"img/python-logo-notext.svg\"\n",
    "     style=\"display:block;margin:auto;width:10%\"/>\n",
    "<h1 style=\"text-align:center;\">Einführung in Python: Grundlagen Teil 3</h1>\n",
    "<br/>\n",
    "<div style=\"text-align:center;\">Dr. Matthias Hölzl</div>"
   ]
  },
  {
   "cell_type": "markdown",
   "id": "7f072218",
   "metadata": {
    "slideshow": {
     "slide_type": "slide"
    }
   },
   "source": [
    "## Beliebig viele Argumente:\n",
    "\n",
    "Man kann Funktionen definieren, die beliebig viele Argumente bekommen können:"
   ]
  },
  {
   "cell_type": "code",
   "execution_count": null,
   "id": "e615c958",
   "metadata": {
    "tags": [
     "code-along"
    ]
   },
   "outputs": [],
   "source": [
    "def my_add(*args):\n",
    "    result = 0\n",
    "    for i in args:\n",
    "        result += i\n",
    "    return result"
   ]
  },
  {
   "cell_type": "code",
   "execution_count": null,
   "id": "6c3f7711",
   "metadata": {
    "tags": [
     "code-along"
    ]
   },
   "outputs": [],
   "source": [
    "my_add(1, 2, 3, 4, 5, 6)"
   ]
  },
  {
   "cell_type": "markdown",
   "id": "10189a82",
   "metadata": {},
   "source": [
    "\n",
    "## Micro-Workshop\n",
    "\n",
    "Schreiben Sie eine Funktion `print_lines(*args)`, die beliebig viele\n",
    "Argumente bekommt und ein Argument pro Zeile ausgibt:\n",
    "```\n",
    ">>> print_lines(\"hey\", \"you\")\n",
    "hey\n",
    "you\n",
    "```"
   ]
  },
  {
   "cell_type": "code",
   "execution_count": null,
   "id": "e67a1c58",
   "metadata": {
    "tags": [
     "code-along"
    ]
   },
   "outputs": [],
   "source": [
    "def print_lines(*args):\n",
    "    for arg in args:\n",
    "        print(arg)"
   ]
  },
  {
   "cell_type": "code",
   "execution_count": null,
   "id": "0d334b0b",
   "metadata": {
    "tags": [
     "code-along"
    ]
   },
   "outputs": [],
   "source": [
    "print_lines(\"hey\", \"you\")"
   ]
  },
  {
   "cell_type": "markdown",
   "id": "31125ab1",
   "metadata": {
    "slideshow": {
     "slide_type": "slide"
    }
   },
   "source": [
    "Das kann auch mit anderen Argumenten kombiniert werden:"
   ]
  },
  {
   "cell_type": "code",
   "execution_count": null,
   "id": "c1e10efb",
   "metadata": {
    "tags": [
     "code-along"
    ]
   },
   "outputs": [],
   "source": [
    "def add_more_than_two(x, y, *more_args):\n",
    "    result = x + y\n",
    "    for i in more_args:\n",
    "        result += i\n",
    "    return result"
   ]
  },
  {
   "cell_type": "code",
   "execution_count": null,
   "id": "f9343951",
   "metadata": {
    "tags": [
     "code-along"
    ]
   },
   "outputs": [],
   "source": [
    "add_more_than_two(1, 2, 3, 4, 5, 6)"
   ]
  },
  {
   "cell_type": "code",
   "execution_count": null,
   "id": "fc259a7c",
   "metadata": {
    "tags": [
     "code-along"
    ]
   },
   "outputs": [],
   "source": [
    "add_more_than_two(1, 2)"
   ]
  },
  {
   "cell_type": "code",
   "execution_count": null,
   "id": "35f7aef7",
   "metadata": {
    "tags": [
     "code-along"
    ]
   },
   "outputs": [],
   "source": [
    "# add_more_than_two(1)"
   ]
  },
  {
   "cell_type": "markdown",
   "id": "f9c25e29",
   "metadata": {},
   "source": [
    "## Beliebig viele benannte Argumente:\n",
    "\n",
    "Ebenso kann eine Funktion beliebig viele benannte Argumente haben:"
   ]
  },
  {
   "cell_type": "code",
   "execution_count": null,
   "id": "70972f3f",
   "metadata": {
    "tags": [
     "code-along"
    ]
   },
   "outputs": [],
   "source": [
    "def my_keys(**kwargs):\n",
    "    print(\"Keyword arguments:\", kwargs)"
   ]
  },
  {
   "cell_type": "code",
   "execution_count": null,
   "id": "16553287",
   "metadata": {
    "tags": [
     "code-along"
    ]
   },
   "outputs": [],
   "source": [
    "my_keys(x=1, y=2)"
   ]
  },
  {
   "cell_type": "markdown",
   "id": "621f7589",
   "metadata": {},
   "source": [
    "Es ist möglich diese beiden Features zu kombinieren:"
   ]
  },
  {
   "cell_type": "code",
   "execution_count": null,
   "id": "ed089f00",
   "metadata": {
    "tags": [
     "code-along"
    ]
   },
   "outputs": [],
   "source": [
    "def takes_arbitrary_args(*args, **kwargs):\n",
    "    print(\"Positional argsuments:\", args)\n",
    "    print(\"Keyword arguments:    \", kwargs)"
   ]
  },
  {
   "cell_type": "code",
   "execution_count": null,
   "id": "9fdc0e51",
   "metadata": {
    "lines_to_next_cell": 2,
    "tags": [
     "code-along"
    ]
   },
   "outputs": [],
   "source": [
    "takes_arbitrary_args(1, \"foo\", a=\"alpha\", b=\"beta\")"
   ]
  },
  {
   "cell_type": "markdown",
   "id": "17a03b30",
   "metadata": {
    "lines_to_next_cell": 2
   },
   "source": [
    "\n",
    "## Micro-Workshop\n",
    "\n",
    "Schreiben Sie eine Funktion `print_named_lines(**kwargs)`, die beliebig viele\n",
    "Keyword-Argumente bekommt und sie in folgender Form auf dem Bildschirm\n",
    "ausgibt:\n",
    ">>> print_named_lines(foo=\"My Foo\", bar=\"My Bar\", quux=\"My Quux\")\n",
    "Key: foo -- value: My Foo\n",
    "Key: bar -- value: My Bar\n",
    "Key: quux -- value: My Quux"
   ]
  },
  {
   "cell_type": "code",
   "execution_count": null,
   "id": "f92071dc",
   "metadata": {
    "tags": [
     "code-along"
    ]
   },
   "outputs": [],
   "source": [
    "def print_named_lines(**kwargs):\n",
    "    for k, v in kwargs.items():\n",
    "        print(\"Key:\", k, \"-- value:\", v)"
   ]
  },
  {
   "cell_type": "code",
   "execution_count": null,
   "id": "37a1d6af",
   "metadata": {
    "tags": [
     "code-along"
    ]
   },
   "outputs": [],
   "source": [
    "print_named_lines(foo=\"My Foo\", bar=\"My Bar\", quux=\"My Quux\")"
   ]
  },
  {
   "cell_type": "markdown",
   "id": "8aeeb9e1",
   "metadata": {},
   "source": [
    "## \"Splicing\" von Argumenten\n",
    "\n",
    "- Wenn man eine Liste `args` hat, kann man die darin enthaltenen Werte mit\n",
    "  der Syntax `*args` als positionale Argumente übergeben.\n",
    "- Wenn man ein Dictionary `kwargs` hat, kann man die Key/Value-Paare mit der\n",
    "  Syntax `**kwargs` als benannte Argumente übergeben:"
   ]
  },
  {
   "cell_type": "code",
   "execution_count": null,
   "id": "8c917dec",
   "metadata": {
    "tags": [
     "code-along"
    ]
   },
   "outputs": [],
   "source": [
    "def add(x, y):\n",
    "    return x + y"
   ]
  },
  {
   "cell_type": "code",
   "execution_count": null,
   "id": "5b4f7c80",
   "metadata": {
    "tags": [
     "code-along"
    ]
   },
   "outputs": [],
   "source": [
    "my_list = [3, 4]"
   ]
  },
  {
   "cell_type": "code",
   "execution_count": null,
   "id": "f10809e2",
   "metadata": {
    "tags": [
     "code-along"
    ]
   },
   "outputs": [],
   "source": [
    "# add(my_list)"
   ]
  },
  {
   "cell_type": "code",
   "execution_count": null,
   "id": "e7a4bd1d",
   "metadata": {
    "tags": [
     "code-along"
    ]
   },
   "outputs": [],
   "source": [
    "add(my_list[0], my_list[1])"
   ]
  },
  {
   "cell_type": "code",
   "execution_count": null,
   "id": "8054e381",
   "metadata": {
    "tags": [
     "code-along"
    ]
   },
   "outputs": [],
   "source": [
    "add(*my_list)"
   ]
  },
  {
   "cell_type": "code",
   "execution_count": null,
   "id": "0a1209b8",
   "metadata": {
    "tags": [
     "code-along"
    ]
   },
   "outputs": [],
   "source": [
    "my_dict = {\"a\": \"alpha\", \"b\": \"beta\"}"
   ]
  },
  {
   "cell_type": "code",
   "execution_count": null,
   "id": "9e8be43f",
   "metadata": {
    "tags": [
     "code-along"
    ]
   },
   "outputs": [],
   "source": [
    "takes_arbitrary_args(my_list, my_dict)"
   ]
  },
  {
   "cell_type": "code",
   "execution_count": null,
   "id": "a21311fb",
   "metadata": {
    "tags": [
     "code-along"
    ]
   },
   "outputs": [],
   "source": [
    "takes_arbitrary_args(*my_list, **my_dict)"
   ]
  },
  {
   "cell_type": "code",
   "execution_count": null,
   "id": "d39ea75f",
   "metadata": {
    "tags": [
     "code-along"
    ]
   },
   "outputs": [],
   "source": [
    "takes_arbitrary_args(3, 4, a=\"alpha\", b=\"beta\")"
   ]
  },
  {
   "cell_type": "markdown",
   "id": "2f5ebcf2",
   "metadata": {
    "slideshow": {
     "slide_type": "slide"
    }
   },
   "source": [
    "## Mehrere Rückgabewerte\n",
    "\n",
    "Wie oben gezeigt kann man mehrere Variablen in einem Schritt definieren:"
   ]
  },
  {
   "cell_type": "code",
   "execution_count": null,
   "id": "7ac7b1f5",
   "metadata": {
    "tags": [
     "code-along"
    ]
   },
   "outputs": [],
   "source": [
    "ergebnis, rest = 10, 2"
   ]
  },
  {
   "cell_type": "code",
   "execution_count": null,
   "id": "5bd4e03a",
   "metadata": {
    "tags": [
     "code-along"
    ]
   },
   "outputs": [],
   "source": [
    "print(ergebnis)\n",
    "print(rest)"
   ]
  },
  {
   "cell_type": "markdown",
   "id": "83e9773d",
   "metadata": {
    "slideshow": {
     "slide_type": "subslide"
    }
   },
   "source": [
    "- Besonders hilfreich ist das für Funktionen die mehrere eng zusammenhängende\n",
    "  Werte berechnen.\n",
    "- Man kann mit `return wert1, wert2` mehrere Werte zurückgeben"
   ]
  },
  {
   "cell_type": "code",
   "execution_count": null,
   "id": "de0527ac",
   "metadata": {
    "tags": [
     "code-along"
    ]
   },
   "outputs": [],
   "source": [
    "def zwei_werte(a, b):\n",
    "    return a + 1, b + 2"
   ]
  },
  {
   "cell_type": "code",
   "execution_count": null,
   "id": "bd440a76",
   "metadata": {
    "tags": [
     "code-along"
    ]
   },
   "outputs": [],
   "source": [
    "erster_wert, zweiter_wert = zwei_werte(1, 2)\n",
    "print(erster_wert)\n",
    "print(zweiter_wert)"
   ]
  },
  {
   "cell_type": "code",
   "execution_count": null,
   "id": "e6efd715",
   "metadata": {
    "tags": [
     "code-along"
    ]
   },
   "outputs": [],
   "source": [
    "def division_mit_rest(m, n):\n",
    "    ergebnis = m // n\n",
    "    rest = m % n\n",
    "    return ergebnis, rest"
   ]
  },
  {
   "cell_type": "code",
   "execution_count": null,
   "id": "076346eb",
   "metadata": {
    "tags": [
     "code-along"
    ]
   },
   "outputs": [],
   "source": [
    "e, r = division_mit_rest(17, 7)\n",
    "print(e)\n",
    "print(r)"
   ]
  },
  {
   "cell_type": "code",
   "execution_count": null,
   "id": "9f122138",
   "metadata": {
    "tags": [
     "code-along"
    ]
   },
   "outputs": [],
   "source": [
    "# Kürzer\n",
    "def division_mit_rest_2(m, n):\n",
    "    return m // n, m % n"
   ]
  },
  {
   "cell_type": "code",
   "execution_count": null,
   "id": "2f702543",
   "metadata": {
    "tags": [
     "code-along"
    ]
   },
   "outputs": [],
   "source": [
    "e, r = division_mit_rest_2(17, 7)\n",
    "print(e)\n",
    "print(r)"
   ]
  },
  {
   "cell_type": "markdown",
   "id": "ba790541",
   "metadata": {
    "slideshow": {
     "slide_type": "subslide"
    }
   },
   "source": [
    "(In Python gibt es die eingebaute Funktion `divmod`, die diese Berechnung\n",
    "ausführt:)"
   ]
  },
  {
   "cell_type": "code",
   "execution_count": null,
   "id": "42a22a66",
   "metadata": {
    "tags": [
     "code-along"
    ]
   },
   "outputs": [],
   "source": [
    "e, r = divmod(17, 7)\n",
    "print(e)\n",
    "print(r)"
   ]
  },
  {
   "cell_type": "markdown",
   "id": "7f4cdbba",
   "metadata": {
    "lines_to_next_cell": 2,
    "slideshow": {
     "slide_type": "subslide"
    }
   },
   "source": [
    "## Mini-Workshop\n",
    "\n",
    "- Notebook `workshop_050_introduction_part1`\n",
    "- Abschnitt \"Piraten, Teil 3\""
   ]
  },
  {
   "cell_type": "markdown",
   "id": "d6141b57",
   "metadata": {
    "slideshow": {
     "slide_type": "slide"
    }
   },
   "source": [
    "# Vergleiche, Boole'sche Werte"
   ]
  },
  {
   "cell_type": "markdown",
   "id": "641cb32a",
   "metadata": {},
   "source": [
    "Gleichheit von Werten wird mit `==` getestet:"
   ]
  },
  {
   "cell_type": "code",
   "execution_count": null,
   "id": "fd39a285",
   "metadata": {
    "tags": [
     "code-along"
    ]
   },
   "outputs": [],
   "source": [
    "1 == 1"
   ]
  },
  {
   "cell_type": "code",
   "execution_count": null,
   "id": "c9ab27f5",
   "metadata": {
    "tags": [
     "code-along"
    ]
   },
   "outputs": [],
   "source": [
    "1 == 2"
   ]
  },
  {
   "cell_type": "markdown",
   "id": "22bff725",
   "metadata": {
    "slideshow": {
     "slide_type": "subslide"
    }
   },
   "source": [
    "Das Ergebnis eines Vergleichs ist ein Boole'scher Wert (Wahrheitswert)\n",
    "\n",
    "- `True`\n",
    "- `False`"
   ]
  },
  {
   "cell_type": "code",
   "execution_count": null,
   "id": "bdc3228e",
   "metadata": {
    "tags": [
     "code-along"
    ]
   },
   "outputs": [],
   "source": [
    "type(True)"
   ]
  },
  {
   "cell_type": "markdown",
   "id": "38485c31",
   "metadata": {
    "slideshow": {
     "slide_type": "subslide"
    }
   },
   "source": [
    "## Gleichheit von Zahlen"
   ]
  },
  {
   "cell_type": "code",
   "execution_count": null,
   "id": "ffbb5c5b",
   "metadata": {
    "tags": [
     "code-along"
    ]
   },
   "outputs": [],
   "source": [
    "1 == 1.0"
   ]
  },
  {
   "cell_type": "markdown",
   "id": "4c7e514c",
   "metadata": {},
   "source": [
    "Mit Unterstrichen lassen sich Zahlen übersichtlicher schreiben."
   ]
  },
  {
   "cell_type": "code",
   "execution_count": null,
   "id": "6183ec35",
   "metadata": {
    "tags": [
     "code-along"
    ]
   },
   "outputs": [],
   "source": [
    "0.000_000_1 * 10_000_000 == 1"
   ]
  },
  {
   "cell_type": "markdown",
   "id": "edf6508a",
   "metadata": {
    "slideshow": {
     "slide_type": "subslide"
    }
   },
   "source": [
    "Vorsicht: Rundungsfehler!"
   ]
  },
  {
   "cell_type": "code",
   "execution_count": null,
   "id": "57c0c89b",
   "metadata": {
    "tags": [
     "code-along"
    ]
   },
   "outputs": [],
   "source": [
    "1 / 10"
   ]
  },
  {
   "cell_type": "code",
   "execution_count": null,
   "id": "6f4a2830",
   "metadata": {
    "tags": [
     "code-along"
    ]
   },
   "outputs": [],
   "source": [
    "1 / 100"
   ]
  },
  {
   "cell_type": "code",
   "execution_count": null,
   "id": "c6113de2",
   "metadata": {
    "tags": [
     "code-along"
    ]
   },
   "outputs": [],
   "source": [
    "(1 / 10) * (1 / 10) == (1 / 100)"
   ]
  },
  {
   "cell_type": "code",
   "execution_count": null,
   "id": "167c0b9c",
   "metadata": {
    "tags": [
     "code-along"
    ]
   },
   "outputs": [],
   "source": [
    "0.1 * 0.1"
   ]
  },
  {
   "cell_type": "code",
   "execution_count": null,
   "id": "d18353c7",
   "metadata": {
    "tags": [
     "code-along"
    ]
   },
   "outputs": [],
   "source": [
    "0.1 - 0.01"
   ]
  },
  {
   "cell_type": "code",
   "execution_count": null,
   "id": "fc3ccf53",
   "metadata": {
    "tags": [
     "code-along"
    ]
   },
   "outputs": [],
   "source": [
    "100 * 1.1"
   ]
  },
  {
   "cell_type": "markdown",
   "id": "26d33268",
   "metadata": {
    "slideshow": {
     "slide_type": "subslide"
    }
   },
   "source": [
    "## Ungleichheit von Zahlen\n",
    "\n",
    "Der Operator `!=` testet, ob zwei Zahlen verschieden sind"
   ]
  },
  {
   "cell_type": "code",
   "execution_count": null,
   "id": "771ba783",
   "metadata": {
    "tags": [
     "code-along"
    ]
   },
   "outputs": [],
   "source": [
    "1 != 1.0"
   ]
  },
  {
   "cell_type": "code",
   "execution_count": null,
   "id": "f6f44cf2",
   "metadata": {
    "tags": [
     "code-along"
    ]
   },
   "outputs": [],
   "source": [
    "1 != 2"
   ]
  },
  {
   "cell_type": "markdown",
   "id": "ea54880a",
   "metadata": {
    "slideshow": {
     "slide_type": "subslide"
    }
   },
   "source": [
    "## Vergleich von Zahlen"
   ]
  },
  {
   "cell_type": "code",
   "execution_count": null,
   "id": "bfa21666",
   "metadata": {
    "tags": [
     "code-along"
    ]
   },
   "outputs": [],
   "source": [
    "1 < 2"
   ]
  },
  {
   "cell_type": "code",
   "execution_count": null,
   "id": "e69cc051",
   "metadata": {
    "tags": [
     "code-along"
    ]
   },
   "outputs": [],
   "source": [
    "1 < 1"
   ]
  },
  {
   "cell_type": "code",
   "execution_count": null,
   "id": "5729c7ee",
   "metadata": {
    "tags": [
     "code-along"
    ]
   },
   "outputs": [],
   "source": [
    "1 <= 1"
   ]
  },
  {
   "cell_type": "code",
   "execution_count": null,
   "id": "37d67646",
   "metadata": {
    "incorrectly_encoded_metadata": "{\"slideshow\": {\"slide_type\": \"subslide\"}} tags=[\"code-along\"]"
   },
   "outputs": [],
   "source": [
    "1 > 2"
   ]
  },
  {
   "cell_type": "code",
   "execution_count": null,
   "id": "31093fa4",
   "metadata": {
    "tags": [
     "code-along"
    ]
   },
   "outputs": [],
   "source": [
    "2 >= 1"
   ]
  },
  {
   "cell_type": "markdown",
   "id": "d7a4180f",
   "metadata": {
    "pycharm": {
     "name": "#%% md\n"
    },
    "slideshow": {
     "slide_type": "slide"
    }
   },
   "source": [
    "## Vergleichsoperatoren auf anderen Typen\n",
    "\n",
    "Die Vergleichsoperatoren lassen sich auch auf viele andere Typen anwenden\n",
    "(genaueres später)."
   ]
  },
  {
   "cell_type": "markdown",
   "id": "ba09ae8d",
   "metadata": {
    "slideshow": {
     "slide_type": "slide"
    }
   },
   "source": [
    "## Operatoren auf Boole'schen Werten\n"
   ]
  },
  {
   "cell_type": "code",
   "execution_count": null,
   "id": "f81149fa",
   "metadata": {
    "tags": [
     "code-along"
    ]
   },
   "outputs": [],
   "source": [
    "1 < 2 and 3 < 2"
   ]
  },
  {
   "cell_type": "code",
   "execution_count": null,
   "id": "d788665a",
   "metadata": {
    "tags": [
     "code-along"
    ]
   },
   "outputs": [],
   "source": [
    "1 < 2 or 3 < 2"
   ]
  },
  {
   "cell_type": "code",
   "execution_count": null,
   "id": "ee4d6b29",
   "metadata": {
    "tags": [
     "code-along"
    ]
   },
   "outputs": [],
   "source": [
    "not (1 < 2)"
   ]
  },
  {
   "cell_type": "markdown",
   "id": "440b8c44",
   "metadata": {
    "slideshow": {
     "slide_type": "subslide"
    }
   },
   "source": [
    "### Wann ist ein logischer Ausdruck wahr?\n",
    "\n",
    "| Operator | Operation                      | `True` wenn...                 |\n",
    "|:--------:|:-------------------------------|:-------------------------------|\n",
    "| and      | logisches \"Und\" (Konjunktion)  | beide Argumente `True`         |\n",
    "| or       | logisches \"Oder\" (Disjunktion) | mindestens ein Argument `True` |\n",
    "| not      | logisches \"Nicht\" (Negation)   | Argument `False`               |"
   ]
  },
  {
   "cell_type": "markdown",
   "id": "6e74bb65",
   "metadata": {
    "slideshow": {
     "slide_type": "subslide"
    }
   },
   "source": [
    "### Verkettung von Vergleichen"
   ]
  },
  {
   "cell_type": "code",
   "execution_count": null,
   "id": "5c66184f",
   "metadata": {
    "tags": [
     "code-along"
    ]
   },
   "outputs": [],
   "source": [
    "1 < 2 < 3"
   ]
  },
  {
   "cell_type": "code",
   "execution_count": null,
   "id": "b63a502c",
   "metadata": {
    "tags": [
     "code-along"
    ]
   },
   "outputs": [],
   "source": [
    "# noinspection PyChainedComparisons\n",
    "1 < 2 and 2 < 3"
   ]
  },
  {
   "cell_type": "code",
   "execution_count": null,
   "id": "d4b3bdb0",
   "metadata": {
    "tags": [
     "code-along"
    ]
   },
   "outputs": [],
   "source": [
    "1 < 3 <= 2"
   ]
  },
  {
   "cell_type": "code",
   "execution_count": null,
   "id": "cdfedec7",
   "metadata": {
    "tags": [
     "code-along"
    ]
   },
   "outputs": [],
   "source": [
    "# noinspection PyChainedComparisons\n",
    "1 < 3 and 3 <= 2"
   ]
  },
  {
   "cell_type": "markdown",
   "id": "07678234",
   "metadata": {
    "lines_to_next_cell": 2,
    "slideshow": {
     "slide_type": "subslide"
    }
   },
   "source": [
    "## Mini-Workshop\n",
    "\n",
    "- Notebook `workshop_060_introduction_part2`\n",
    "- Abschnitt \"Operatoren, Vergleiche\""
   ]
  },
  {
   "cell_type": "markdown",
   "id": "48514078",
   "metadata": {
    "slideshow": {
     "slide_type": "slide"
    }
   },
   "source": [
    "## Struktur einer `if`-Anweisung (unvollständig):\n",
    "\n",
    "```python\n",
    "if <Bedingung>:\n",
    "    Rumpf, der ausgeführt wird, wenn Bedingung 1 wahr ist\n",
    "else:\n",
    "    Rumpf, der ausgeführt wird, wenn keine der Bedingungen wahr ist\n",
    "```\n",
    "- Nur das `if` und der erste Rumpf sind notwendig\n",
    "- Falls ein `else` vorhanden ist, so darf der entsprechende Rumpf nicht leer sein\n"
   ]
  },
  {
   "cell_type": "markdown",
   "id": "02b4b373",
   "metadata": {
    "slideshow": {
     "slide_type": "subslide"
    }
   },
   "source": [
    "## Mini-Workshop\n",
    "\n",
    "- Notebook `workshop_060_introduction_part2`\n",
    "- Abschnitt \"Volljährig\""
   ]
  }
 ],
 "metadata": {
  "jupytext": {
   "cell_metadata_json": true,
   "encoding": "# -*- coding: utf-8 -*-",
   "formats": "ipynb"
  },
  "kernelspec": {
   "display_name": "Python 3 (ipykernel)",
   "language": "python",
   "name": "python3"
  }
 },
 "nbformat": 4,
 "nbformat_minor": 5
}
