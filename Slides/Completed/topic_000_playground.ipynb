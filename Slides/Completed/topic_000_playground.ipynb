{
 "cells": [
  {
   "cell_type": "markdown",
   "id": "12bf6d99",
   "metadata": {},
   "source": [
    "# Playground\n",
    "\n",
    "Ein leeres Notebook für Experimente und kleine Beispiele."
   ]
  },
  {
   "cell_type": "code",
   "execution_count": null,
   "id": "bef719a0",
   "metadata": {},
   "outputs": [],
   "source": []
  }
 ],
 "metadata": {
  "jupytext": {
   "encoding": "# -*- coding: utf-8 -*-",
   "formats": "ipynb"
  },
  "kernelspec": {
   "display_name": "Python 3 (ipykernel)",
   "language": "python",
   "name": "python3"
  }
 },
 "nbformat": 4,
 "nbformat_minor": 5
}
