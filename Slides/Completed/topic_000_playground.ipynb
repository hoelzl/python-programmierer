{
 "cells": [
  {
   "cell_type": "markdown",
   "id": "222821ec",
   "metadata": {},
   "source": [
    "# Playground\n",
    "\n",
    "Ein leeres Notebook für Experimente und kleine Beispiele."
   ]
  },
  {
   "cell_type": "code",
   "execution_count": null,
   "id": "1c5ae35b",
   "metadata": {},
   "outputs": [],
   "source": []
  }
 ],
 "metadata": {
  "jupytext": {
   "encoding": "# -*- coding: utf-8 -*-",
   "formats": "ipynb"
  },
  "kernelspec": {
   "display_name": "Python 3 (ipykernel)",
   "language": "python",
   "name": "python3"
  }
 },
 "nbformat": 4,
 "nbformat_minor": 5
}
