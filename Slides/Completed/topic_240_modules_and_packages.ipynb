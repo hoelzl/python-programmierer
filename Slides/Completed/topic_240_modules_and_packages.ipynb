{
 "cells": [
  {
   "cell_type": "code",
   "execution_count": null,
   "id": "09863821",
   "metadata": {
    "lines_to_next_cell": 0
   },
   "outputs": [],
   "source": []
  },
  {
   "cell_type": "markdown",
   "id": "a105450c",
   "metadata": {
    "lines_to_next_cell": 2,
    "slideshow": {
     "slide_type": "slide"
    }
   },
   "source": [
    "<img src=\"img/python-logo-notext.svg\"\n",
    "     style=\"display:block;margin:auto;width:10%\"/>\n",
    "<h1 style=\"text-align:center;\">Module und Packages</h1>\n",
    "<br/>\n",
    "<div style=\"text-align:center;\">Dr. Matthias Hölzl</div>"
   ]
  },
  {
   "cell_type": "markdown",
   "id": "8025818a",
   "metadata": {},
   "source": [
    "\n",
    " - Der Python Interpreter bietet nur einen kleinen Teil der für die meisten\n",
    "   Programme benötigten Funktionalität\n",
    "   - Kein Interaktion mit dem Betriebssystem\n",
    "   - Kein Netzwerkfunktionalität\n",
    "   - Keine GUI\n",
    "   - ...\n",
    " - Durch *Module* und *Packages* kann diese Funktionalität bei Bedarf geladen\n",
    "   werden."
   ]
  },
  {
   "cell_type": "code",
   "execution_count": null,
   "id": "50547713",
   "metadata": {
    "lines_to_next_cell": 2,
    "tags": [
     "code-along"
    ]
   },
   "outputs": [],
   "source": [
    "# Importieren eines Moduls/Packages\n",
    "import os"
   ]
  },
  {
   "cell_type": "code",
   "execution_count": null,
   "id": "427b6fe2",
   "metadata": {
    "lines_to_next_cell": 2,
    "tags": [
     "code-along"
    ]
   },
   "outputs": [],
   "source": [
    "# Verwenden der Funktionalität\n",
    "os.getcwd()"
   ]
  },
  {
   "cell_type": "markdown",
   "id": "dc485461",
   "metadata": {},
   "source": [
    "\n",
    " Python bietet viele Standardmodule an, die mit dem Interpreter installiert\n",
    " werden:\n",
    "\n",
    " - abc: Abstract base classes\n",
    " - argparse: Kommandozeilenargumente\n",
    " - asyncio: Asynchrone Programmierung\n",
    " - collections: Container-Datentypen\n",
    " - ...\n",
    "\n",
    " [Hier](https://docs.python.org/3/py-modindex.html) ist eine vollständigere Liste."
   ]
  },
  {
   "cell_type": "code",
   "execution_count": null,
   "id": "14400c0b",
   "metadata": {
    "lines_to_next_cell": 2,
    "tags": [
     "code-along"
    ]
   },
   "outputs": [],
   "source": [
    "import os\n",
    "\n",
    "{\"num-cpus\": os.cpu_count(), \"pid\": os.getpid()}"
   ]
  },
  {
   "cell_type": "code",
   "execution_count": null,
   "id": "4bc72170",
   "metadata": {
    "lines_to_next_cell": 2,
    "tags": [
     "code-along"
    ]
   },
   "outputs": [],
   "source": [
    "import ast\n",
    "\n",
    "ast.dump(ast.parse(\"print(123)\"), False)"
   ]
  },
  {
   "cell_type": "markdown",
   "id": "b2ae7961",
   "metadata": {},
   "source": [
    "\n",
    " ## Benutzerdefinierte Module\n",
    "\n",
    " Ein benutzerdefiniertes Modul ist eine Datei mit Python-Code.\n",
    "\n",
    " Wie wir schon gesehen haben:\n",
    " - Wenn sich ein Python-Modul im Suchpfad befindet, kann es mit `import` geladen werden.\n",
    " - Jupyter Notebooks lassen sich nicht (ohne zusätzliche Pakete) als Module laden."
   ]
  },
  {
   "cell_type": "code",
   "execution_count": null,
   "id": "6caafa91",
   "metadata": {
    "lines_to_next_cell": 2,
    "tags": [
     "code-along"
    ]
   },
   "outputs": [],
   "source": [
    "# Welche Python-Dateien gibt es im aktuellen Verzeichnis?\n",
    "for filename in os.listdir(os.getcwd()):\n",
    "    if filename[-3:] == \".py\":\n",
    "        print(filename)"
   ]
  },
  {
   "cell_type": "code",
   "execution_count": null,
   "id": "53be35b8",
   "metadata": {
    "lines_to_next_cell": 2
   },
   "outputs": [],
   "source": [
    "# Anzeigen des Quellcodes von `my_test_module.py`\n",
    "# %pycat my_test_module.py"
   ]
  },
  {
   "cell_type": "code",
   "execution_count": null,
   "id": "a8f53da7",
   "metadata": {
    "lines_to_next_cell": 2,
    "tags": [
     "code-along"
    ]
   },
   "outputs": [],
   "source": [
    "# Andere Möglichkeit, den Inhalt von `my_test_module.py` anzuzeigen.\n",
    "with open(\"my_test_module.py\", \"r\") as file:\n",
    "    text = file.read()\n",
    "\n",
    "print(text)"
   ]
  },
  {
   "cell_type": "code",
   "execution_count": null,
   "id": "e9803e0c",
   "metadata": {
    "lines_to_next_cell": 2
   },
   "outputs": [],
   "source": [
    "# Top-level code wird ausgeführt"
   ]
  },
  {
   "cell_type": "code",
   "execution_count": null,
   "id": "62fc0b38",
   "metadata": {
    "lines_to_next_cell": 2
   },
   "outputs": [],
   "source": [
    "# get_ipython().run_line_magic('load_ext', 'autoreload')\n",
    "# get_ipython().run_line_magic('autoreload', '2')"
   ]
  },
  {
   "cell_type": "code",
   "execution_count": null,
   "id": "1eb7e5ac",
   "metadata": {
    "lines_to_next_cell": 2,
    "tags": [
     "code-along"
    ]
   },
   "outputs": [],
   "source": [
    "# Top-level code wird NICHT mehr ausgeführt\n",
    "import my_test_module"
   ]
  },
  {
   "cell_type": "code",
   "execution_count": null,
   "id": "3dfff1a1",
   "metadata": {
    "lines_to_next_cell": 2,
    "tags": [
     "code-along"
    ]
   },
   "outputs": [],
   "source": [
    "my_test_module.add1(2)"
   ]
  },
  {
   "cell_type": "code",
   "execution_count": null,
   "id": "ad9c3cb2",
   "metadata": {
    "lines_to_next_cell": 2,
    "tags": [
     "code-along"
    ]
   },
   "outputs": [],
   "source": [
    "# add1"
   ]
  },
  {
   "cell_type": "code",
   "execution_count": null,
   "id": "2c0e6917",
   "metadata": {
    "tags": [
     "code-along"
    ]
   },
   "outputs": [],
   "source": [
    "import my_test_module as mm"
   ]
  },
  {
   "cell_type": "code",
   "execution_count": null,
   "id": "700e7fe5",
   "metadata": {
    "lines_to_next_cell": 2,
    "tags": [
     "code-along"
    ]
   },
   "outputs": [],
   "source": [
    "mm.add1(1)"
   ]
  },
  {
   "cell_type": "code",
   "execution_count": null,
   "id": "21e65fce",
   "metadata": {
    "lines_to_next_cell": 2,
    "tags": [
     "code-along"
    ]
   },
   "outputs": [],
   "source": [
    "mm.perform_complex_computation(17)"
   ]
  },
  {
   "cell_type": "code",
   "execution_count": null,
   "id": "13d90c12",
   "metadata": {
    "lines_to_next_cell": 2,
    "tags": [
     "code-along"
    ]
   },
   "outputs": [],
   "source": [
    "from my_test_module import multiply_by_2"
   ]
  },
  {
   "cell_type": "code",
   "execution_count": null,
   "id": "04b99b1c",
   "metadata": {
    "lines_to_next_cell": 2,
    "tags": [
     "code-along"
    ]
   },
   "outputs": [],
   "source": [
    "multiply_by_2(2)"
   ]
  },
  {
   "cell_type": "code",
   "execution_count": null,
   "id": "5f1eff66",
   "metadata": {
    "lines_to_next_cell": 2,
    "tags": [
     "code-along"
    ]
   },
   "outputs": [],
   "source": [
    "from my_test_module import multiply_by_2 as mult2"
   ]
  },
  {
   "cell_type": "code",
   "execution_count": null,
   "id": "49b4cdb0",
   "metadata": {
    "lines_to_next_cell": 2,
    "tags": [
     "code-along"
    ]
   },
   "outputs": [],
   "source": [
    "mult2(4)"
   ]
  },
  {
   "cell_type": "code",
   "execution_count": null,
   "id": "ba3c181f",
   "metadata": {
    "lines_to_next_cell": 2,
    "tags": [
     "code-along"
    ]
   },
   "outputs": [],
   "source": [
    "# Im Regelfall besser vermeiden:\n",
    "from my_test_module import *"
   ]
  },
  {
   "cell_type": "code",
   "execution_count": null,
   "id": "6845fb82",
   "metadata": {
    "lines_to_next_cell": 2,
    "tags": [
     "code-along"
    ]
   },
   "outputs": [],
   "source": [
    "multiply_by_2(3)"
   ]
  },
  {
   "cell_type": "code",
   "execution_count": null,
   "id": "1d843fd0",
   "metadata": {
    "lines_to_next_cell": 2,
    "tags": [
     "code-along"
    ]
   },
   "outputs": [],
   "source": [
    "add1(3)"
   ]
  },
  {
   "cell_type": "code",
   "execution_count": null,
   "id": "6bca1f94",
   "metadata": {
    "lines_to_next_cell": 2,
    "tags": [
     "code-along"
    ]
   },
   "outputs": [],
   "source": [
    "# Anzeigen aller definierten Namen:\n",
    "dir(my_test_module)"
   ]
  },
  {
   "cell_type": "code",
   "execution_count": null,
   "id": "8c0bb258",
   "metadata": {
    "lines_to_next_cell": 2,
    "tags": [
     "code-along"
    ]
   },
   "outputs": [],
   "source": [
    "[name for name in dir(my_test_module) if name[0] != \"_\"]"
   ]
  },
  {
   "cell_type": "markdown",
   "id": "59c65daf",
   "metadata": {},
   "source": [
    "\n",
    " ## Beispiel: `HttpServer`\n",
    "\n",
    "Der Python Interpreter hat keinen eingebauten HTTP Server. Mittels der\n",
    "Standardbibliothek ist es aber nicht schwer einen zu schreiben."
   ]
  },
  {
   "cell_type": "markdown",
   "id": "4376b6d1",
   "metadata": {},
   "source": [
    "\n",
    " ### Beispiel: `ModuleTest`\n",
    "\n",
    "Das `ModuleTest` Beispiel zeigt, wie ein Programm aus mehreren Modulen\n",
    "bestehen kann."
   ]
  },
  {
   "cell_type": "code",
   "execution_count": null,
   "id": "5ae7795a",
   "metadata": {
    "lines_to_next_cell": 2
   },
   "outputs": [],
   "source": [
    "__name__"
   ]
  },
  {
   "cell_type": "markdown",
   "id": "9bf51e6c",
   "metadata": {},
   "source": [
    "\n",
    " ## Packages\n",
    "\n",
    " - Methode um Module mit zu strukturieren: `a.b.c`, `a.b.x`\n",
    " - Ein Package ist eine Zusammenfassung von mehreren Modulen\n",
    " - `b` ist Sub-Package von `a`, `c` und `x` sind Submodule von `b`"
   ]
  },
  {
   "cell_type": "code",
   "execution_count": null,
   "id": "ce54e567",
   "metadata": {
    "lines_to_next_cell": 2,
    "tags": [
     "code-along"
    ]
   },
   "outputs": [],
   "source": [
    "from html.parser import HTMLParser\n",
    "import html.entities"
   ]
  },
  {
   "cell_type": "code",
   "execution_count": null,
   "id": "6d723f7c",
   "metadata": {
    "lines_to_next_cell": 2,
    "tags": [
     "code-along"
    ]
   },
   "outputs": [],
   "source": [
    "HTMLParser()"
   ]
  },
  {
   "cell_type": "code",
   "execution_count": null,
   "id": "1368f635",
   "metadata": {
    "lines_to_next_cell": 2,
    "tags": [
     "code-along"
    ]
   },
   "outputs": [],
   "source": [
    "html.entities.entitydefs[\"Psi\"]"
   ]
  },
  {
   "cell_type": "markdown",
   "id": "8b3dc6ab",
   "metadata": {},
   "source": [
    "\n",
    " ### Struktur von Packages\n",
    "\n",
    " - Hierarchie durch Verzeichnisse und Python Dateien\n",
    "   - Z.B. Verzeichnis `html` mit Unterverzeichnissen `parser`, `entities`\n",
    " - Benötigt eine `__init__.py` Datei in jedem Verzeichnis, aus dem Code importiert werden soll\n",
    " - Die `__init__.py` Datei kann leer sein (und ist oft leer)"
   ]
  },
  {
   "cell_type": "markdown",
   "id": "7f2626cb",
   "metadata": {},
   "source": [
    "\n",
    " <img src=\"img/package-structure.png\" alt=\"Package structure\"\n",
    "      style=\"display:block;margin:auto;width:40%\"></img>"
   ]
  },
  {
   "cell_type": "markdown",
   "id": "a9aebfae",
   "metadata": {},
   "source": [
    "\n",
    " ### Finden von Packages\n",
    "\n",
    " - Python sucht in `sys.path` nach dem Package-Verzeichnis.\n",
    " - Dieser kann durch die Environment-Variable `PYTHONPATH` oder direkt von\n",
    "   Python aus beeinflusst werden.\n",
    " - In den meisten Fällen ist es besser, keine komplizierten Operationen an\n",
    "   `sys.path` vorzunehmen."
   ]
  },
  {
   "cell_type": "markdown",
   "id": "bd515204",
   "metadata": {},
   "source": [
    "\n",
    " ### Das `import` statement\n",
    "\n",
    " `import a.b.c`:\n",
    "\n",
    " - `a` und `b` müssen Packages (Verzeichnisse) sein\n",
    " - `c` kann ein Modul oder ein Package sein\n",
    "\n",
    " `from a.b.c import d`\n",
    " - `a` und `b` müssen Packages sein\n",
    " - `c` kann ein Modul oder ein Package sein\n",
    " - `d` kann ein Modul, ein Package oder ein Name (d.h. eine Variable, eine Funktion, eine Klasse, usw.) sein"
   ]
  },
  {
   "cell_type": "markdown",
   "id": "fe5511b8",
   "metadata": {},
   "source": [
    "\n",
    " ### Referenzen innerhalb eines Packages\n",
    "\n",
    " - `from . import a` importiert `a` aus dem aktuellen Package\n",
    " - `from .. import a` importiert `a` aus dem übergeordneten Package\n",
    " - `from .foo import a` importiert `a` aus dem \"Geschwistermodul\" `foo`"
   ]
  },
  {
   "cell_type": "markdown",
   "id": "2ab2c195",
   "metadata": {},
   "source": [
    "\n",
    " ## Beispiel: `MessageQueue`\n",
    "\n",
    " Das `MessageQueue` Beispiel zeigt, wie ein Programm aus mehreren Packages bestehen kann."
   ]
  },
  {
   "cell_type": "markdown",
   "id": "835d2645",
   "metadata": {},
   "source": [
    "\n",
    " # Pytest: Testen in Python\n",
    "\n",
    " - Python bietet mehrere eingebaute Pakete zum Schreiben von Unit-Tests und Dokumentationstests an (`unittest` und `doctest`).\n",
    " - Viele Projekte verwenden trotzdem das `pytest` Paket, da es viel \"Boilerplate\" beim Schreiben von Tests vermeidet.\n",
    " - `pytest` kann `unittest` und `doctest`-Tests ausführen."
   ]
  },
  {
   "cell_type": "markdown",
   "id": "acfb21ce",
   "metadata": {},
   "source": [
    "\n",
    " ## Installation von Pytest\n",
    "\n",
    " Pytest ist in der Anaconda-Installation vorinstalliert\n",
    "\n",
    " Beim Verwenden der Standard Python Distribution kann es mit\n",
    " ```shell\n",
    " pip install pytest\n",
    " ```\n",
    " installiert werden"
   ]
  },
  {
   "cell_type": "markdown",
   "id": "5c99d745",
   "metadata": {},
   "source": [
    "\n",
    " ## Schreiben von Tests\n",
    "\n",
    " - Pytest kann sehr flexibel konfiguriert werden\n",
    " - Wir verwenden nur die einfachsten Features und verlassen uns auf die automatische Konfiguration\n",
    " - Tests für ein Paket werden in einem Unter-Package `test` geschrieben\n",
    " - Tests für die Datei `foo.py` sind in der Datei `test/foo_test.py`\n",
    " - Jeder Test ist eine Funktion, deren Name mit `test` beginnt\n",
    " - Assertions werden mit der `assert` Anweisung geschrieben"
   ]
  },
  {
   "cell_type": "markdown",
   "id": "18568a99",
   "metadata": {},
   "source": [
    "\n",
    " ## Beispiel Testen von `MessageQueueDist`\n",
    "\n",
    " Siehe `Examples/MessageQueueDist`"
   ]
  },
  {
   "cell_type": "markdown",
   "id": "7cf90470",
   "metadata": {},
   "source": [
    "## Workshop\n",
    "\n",
    "- `Workshop_136_todo_list_v3`\n",
    "- Bis Abschnitt \"Laden und Speichern\""
   ]
  },
  {
   "cell_type": "code",
   "execution_count": null,
   "id": "fc136b1c",
   "metadata": {},
   "outputs": [],
   "source": []
  }
 ],
 "metadata": {
  "jupytext": {
   "encoding": "# -*- coding: utf-8 -*-",
   "formats": "ipynb"
  },
  "kernelspec": {
   "display_name": "Python 3 (ipykernel)",
   "language": "python",
   "name": "python3"
  }
 },
 "nbformat": 4,
 "nbformat_minor": 5
}
