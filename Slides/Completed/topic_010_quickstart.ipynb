{
 "cells": [
  {
   "cell_type": "markdown",
   "id": "c8fb32ae",
   "metadata": {
    "slideshow": {
     "slide_type": "slide"
    }
   },
   "source": [
    "<img src=\"img/python-logo-notext.svg\"\n",
    "     style=\"display:block;margin:auto;width:10%\"/>\n",
    "<h1 style=\"text-align:center;\">Quickstart</h1>\n",
    "<br/>\n",
    "<div style=\"text-align:center;\">Dr. Matthias Hölzl</div>"
   ]
  },
  {
   "cell_type": "markdown",
   "id": "3edd13eb",
   "metadata": {
    "slideshow": {
     "slide_type": "slide"
    }
   },
   "source": [
    "# Python und Jupyter Notebooks\n",
    "\n",
    "Wir beginnen mit einer kurzen Einführung in die Arbeitsweise von Python und\n",
    "Jupyter Notebooks."
   ]
  },
  {
   "cell_type": "markdown",
   "id": "ad656e8e",
   "metadata": {
    "slideshow": {
     "slide_type": "subslide"
    }
   },
   "source": [
    "## Compiler (C++)\n",
    "\n",
    "<img src=\"img/compiler.svg\" style=\"width:60%;margin:auto\"/>"
   ]
  },
  {
   "cell_type": "markdown",
   "id": "14b3007f",
   "metadata": {
    "slideshow": {
     "slide_type": "subslide"
    }
   },
   "source": [
    "## Interpreter (Python)\n",
    "\n",
    "<img src=\"img/interpreter.svg\" style=\"width:60%;margin:auto\"/>\n"
   ]
  },
  {
   "cell_type": "markdown",
   "id": "458efbd6",
   "metadata": {
    "slideshow": {
     "slide_type": "subslide"
    }
   },
   "source": [
    "## Jupyter Notebooks\n",
    "\n",
    "<img src=\"img/jupyter-notebook.svg\" style=\"width:60%;margin:auto\"/>"
   ]
  },
  {
   "cell_type": "code",
   "execution_count": null,
   "id": "6b5b973d",
   "metadata": {
    "lines_to_next_cell": 2,
    "slideshow": {
     "slide_type": "subslide"
    }
   },
   "outputs": [],
   "source": [
    "import numpy as np\n",
    "import matplotlib.pyplot as plt\n",
    "\n",
    "page_load_time = np.random.normal(3.0, 1.0, 1000)\n",
    "purchase_amount = np.random.normal(50.0, 1.5, 1000) - page_load_time\n",
    "\n",
    "plt.figure(figsize=(12, 8))\n",
    "plt.scatter(page_load_time, purchase_amount)"
   ]
  },
  {
   "cell_type": "markdown",
   "id": "38060e95",
   "metadata": {
    "slideshow": {
     "slide_type": "slide"
    }
   },
   "source": [
    "## Variablen und Datentypen\n",
    "\n",
    "Zahlen und Arithmetik:"
   ]
  },
  {
   "cell_type": "code",
   "execution_count": null,
   "id": "5c64293c",
   "metadata": {
    "tags": [
     "code-along"
    ]
   },
   "outputs": [],
   "source": [
    "17 + 4 + 1"
   ]
  },
  {
   "cell_type": "code",
   "execution_count": null,
   "id": "3d267680",
   "metadata": {
    "tags": [
     "code-along"
    ]
   },
   "outputs": [],
   "source": [
    "1.5 + 7.4"
   ]
  },
  {
   "cell_type": "code",
   "execution_count": null,
   "id": "4e30503d",
   "metadata": {
    "tags": [
     "code-along"
    ]
   },
   "outputs": [],
   "source": [
    "1 + 2 * 3"
   ]
  },
  {
   "cell_type": "markdown",
   "id": "e0a60184",
   "metadata": {
    "slideshow": {
     "slide_type": "subslide"
    }
   },
   "source": [
    "## Zeichenketten"
   ]
  },
  {
   "cell_type": "code",
   "execution_count": null,
   "id": "8c8004b3",
   "metadata": {
    "tags": [
     "code-along"
    ]
   },
   "outputs": [],
   "source": [
    "\"This is a string\""
   ]
  },
  {
   "cell_type": "code",
   "execution_count": null,
   "id": "021c3f06",
   "metadata": {
    "tags": [
     "code-along"
    ]
   },
   "outputs": [],
   "source": [
    "\"This is also a string\""
   ]
  },
  {
   "cell_type": "code",
   "execution_count": null,
   "id": "18512ee0",
   "metadata": {
    "tags": [
     "code-along"
    ]
   },
   "outputs": [],
   "source": [
    "str(1 + 2)"
   ]
  },
  {
   "cell_type": "markdown",
   "id": "50527c43",
   "metadata": {
    "slideshow": {
     "slide_type": "subslide"
    },
    "tags": [
     "code-along"
    ]
   },
   "source": [
    "\"3\" + \"abc\""
   ]
  },
  {
   "cell_type": "code",
   "execution_count": null,
   "id": "8724a4e6",
   "metadata": {
    "tags": [
     "code-along"
    ]
   },
   "outputs": [],
   "source": [
    "\"literal strings \" \"can be concatenated \" \"by juxtaposition\""
   ]
  },
  {
   "cell_type": "markdown",
   "id": "a187ce5b",
   "metadata": {
    "slideshow": {
     "slide_type": "subslide"
    }
   },
   "source": [
    "### Variablen"
   ]
  },
  {
   "cell_type": "code",
   "execution_count": null,
   "id": "610967de",
   "metadata": {
    "tags": [
     "code-along"
    ]
   },
   "outputs": [],
   "source": [
    "answer = 42"
   ]
  },
  {
   "cell_type": "code",
   "execution_count": null,
   "id": "3e007c97",
   "metadata": {
    "lines_to_next_cell": 2,
    "tags": [
     "code-along"
    ]
   },
   "outputs": [],
   "source": [
    "my_value = answer + 2"
   ]
  },
  {
   "cell_type": "markdown",
   "id": "6a43bc38",
   "metadata": {
    "slideshow": {
     "slide_type": "slide"
    }
   },
   "source": [
    "## Jupyter Notebooks: Anzeige von Werten\n",
    "\n",
    "- Jupyter Notebooks geben den letzten Wert jeder Zelle auf dem Bildschirm aus\n",
    "- Das passiert in \"normalen\" Python-Programmen nicht!\n",
    "  - Wenn sie als Programme ausgeführt werden\n",
    "  - Der interaktive Interpreter verhält sich ähnlich wie Notebooks"
   ]
  },
  {
   "cell_type": "markdown",
   "id": "2cd14a62",
   "metadata": {
    "slideshow": {
     "slide_type": "subslide"
    },
    "tags": [
     "code-along"
    ]
   },
   "source": [
    "123"
   ]
  },
  {
   "cell_type": "markdown",
   "id": "3e99ac49",
   "metadata": {},
   "source": [
    "Um die Ausgabe des letzten Wertes einer Zeile in Jupyter zu unterbinden\n",
    "kann man die Zeile mit einem Strichpunkt beenden:"
   ]
  },
  {
   "cell_type": "code",
   "execution_count": null,
   "id": "a09a6318",
   "metadata": {
    "tags": [
     "code-along"
    ]
   },
   "outputs": [],
   "source": [
    "123"
   ]
  },
  {
   "cell_type": "markdown",
   "id": "8eca0392",
   "metadata": {
    "slideshow": {
     "slide_type": "subslide"
    }
   },
   "source": [
    "Jupyter zeigt auch den Wert von Variablen an:"
   ]
  },
  {
   "cell_type": "code",
   "execution_count": null,
   "id": "12cd9e29",
   "metadata": {
    "tags": [
     "code-along"
    ]
   },
   "outputs": [],
   "source": [
    "answer"
   ]
  },
  {
   "cell_type": "code",
   "execution_count": null,
   "id": "8de33655",
   "metadata": {
    "tags": [
     "code-along"
    ]
   },
   "outputs": [],
   "source": [
    "my_value"
   ]
  },
  {
   "cell_type": "code",
   "execution_count": null,
   "id": "618b148a",
   "metadata": {
    "tags": [
     "code-along"
    ]
   },
   "outputs": [],
   "source": [
    "answer\n",
    "my_value"
   ]
  },
  {
   "cell_type": "markdown",
   "id": "1ad5ae02",
   "metadata": {
    "slideshow": {
     "slide_type": "subslide"
    }
   },
   "source": [
    "Um mehrere Werte anzuzeigen kann man die `print()`-Funktion verwenden:\n",
    "\n",
    "`print(...)` gibt den in Klammern eingeschlossenen Text auf dem Bildschirm\n",
    "aus."
   ]
  },
  {
   "cell_type": "code",
   "execution_count": null,
   "id": "5c8b8bb4",
   "metadata": {
    "tags": [
     "code-along"
    ]
   },
   "outputs": [],
   "source": [
    "print(123)"
   ]
  },
  {
   "cell_type": "code",
   "execution_count": null,
   "id": "16bf111e",
   "metadata": {
    "tags": [
     "code-along"
    ]
   },
   "outputs": [],
   "source": [
    "print(answer)"
   ]
  },
  {
   "cell_type": "code",
   "execution_count": null,
   "id": "65b6ee91",
   "metadata": {
    "tags": [
     "code-along"
    ]
   },
   "outputs": [],
   "source": [
    "print(my_value)"
   ]
  },
  {
   "cell_type": "code",
   "execution_count": null,
   "id": "8d08a970",
   "metadata": {
    "lines_to_next_cell": 2,
    "tags": [
     "code-along"
    ]
   },
   "outputs": [],
   "source": [
    "print(answer)\n",
    "print(my_value)"
   ]
  },
  {
   "cell_type": "code",
   "execution_count": null,
   "id": "abe262bf",
   "metadata": {
    "lines_to_next_cell": 2,
    "slideshow": {
     "slide_type": "subslide"
    },
    "tags": [
     "code-along"
    ]
   },
   "outputs": [],
   "source": [
    "print(\"Hello, world!\")"
   ]
  },
  {
   "cell_type": "markdown",
   "id": "82100663",
   "metadata": {},
   "source": [
    "Vergleichen Sie die Ausgabe mit der folgenden Zelle:"
   ]
  },
  {
   "cell_type": "code",
   "execution_count": null,
   "id": "da0d5b3b",
   "metadata": {
    "tags": [
     "code-along"
    ]
   },
   "outputs": [],
   "source": [
    "\"Hello, world!\""
   ]
  },
  {
   "cell_type": "code",
   "execution_count": null,
   "id": "c638582d",
   "metadata": {
    "slideshow": {
     "slide_type": "subslide"
    },
    "tags": [
     "code-along"
    ]
   },
   "outputs": [],
   "source": [
    "print(\"answer =\", answer, \"my_value =\", my_value)"
   ]
  },
  {
   "cell_type": "code",
   "execution_count": null,
   "id": "75a8bd5a",
   "metadata": {
    "tags": [
     "code-along"
    ]
   },
   "outputs": [],
   "source": [
    "print(\"a\", \"b\", \"c\", sep=\"-\", end=\"+++\")\n",
    "print(\"d\", \"e\")"
   ]
  },
  {
   "cell_type": "code",
   "execution_count": null,
   "id": "ed5be44d",
   "metadata": {
    "tags": [
     "code-along"
    ]
   },
   "outputs": [],
   "source": [
    "print(\"a\", end=\", \")\n",
    "print(\"b\", end=\", \")\n",
    "print(\"c\")"
   ]
  },
  {
   "cell_type": "markdown",
   "id": "09cab45f",
   "metadata": {
    "slideshow": {
     "slide_type": "subslide"
    },
    "tags": [
     "code-along"
    ]
   },
   "source": [
    "## Typen"
   ]
  },
  {
   "cell_type": "code",
   "execution_count": null,
   "id": "7b646aa3",
   "metadata": {
    "tags": [
     "code-along"
    ]
   },
   "outputs": [],
   "source": [
    "type(123)"
   ]
  },
  {
   "cell_type": "code",
   "execution_count": null,
   "id": "15917bf7",
   "metadata": {
    "tags": [
     "code-along"
    ]
   },
   "outputs": [],
   "source": [
    "type(\"Foo\")"
   ]
  },
  {
   "cell_type": "code",
   "execution_count": null,
   "id": "de49e025",
   "metadata": {
    "lines_to_next_cell": 2,
    "tags": [
     "code-along"
    ]
   },
   "outputs": [],
   "source": [
    "answer = 42\n",
    "print(type(answer))\n",
    "answer = \"Hallo!\"\n",
    "print(type(answer))"
   ]
  },
  {
   "cell_type": "markdown",
   "id": "28fe0c8f",
   "metadata": {
    "slideshow": {
     "slide_type": "subslide"
    }
   },
   "source": [
    "### Vordefinierte Funktionen"
   ]
  },
  {
   "cell_type": "code",
   "execution_count": null,
   "id": "61552cf8",
   "metadata": {
    "tags": [
     "code-along"
    ]
   },
   "outputs": [],
   "source": [
    "print(\"Hello, world!\")"
   ]
  },
  {
   "cell_type": "code",
   "execution_count": null,
   "id": "69bad09a",
   "metadata": {
    "tags": [
     "code-along"
    ]
   },
   "outputs": [],
   "source": [
    "int(\"123\")"
   ]
  },
  {
   "cell_type": "code",
   "execution_count": null,
   "id": "498dc865",
   "metadata": {
    "tags": [
     "code-along"
    ]
   },
   "outputs": [],
   "source": [
    "int(3.8)"
   ]
  },
  {
   "cell_type": "code",
   "execution_count": null,
   "id": "3773bca0",
   "metadata": {
    "tags": [
     "code-along"
    ]
   },
   "outputs": [],
   "source": [
    "round(4.4)"
   ]
  },
  {
   "cell_type": "code",
   "execution_count": null,
   "id": "1485d338",
   "metadata": {
    "tags": [
     "code-along"
    ]
   },
   "outputs": [],
   "source": [
    "round(4.6)"
   ]
  },
  {
   "cell_type": "code",
   "execution_count": null,
   "id": "7748a021",
   "metadata": {},
   "outputs": [],
   "source": [
    "print(round(0.5), round(1.5), round(2.5), round(3.5))"
   ]
  },
  {
   "cell_type": "markdown",
   "id": "ef435287",
   "metadata": {
    "lines_to_next_cell": 2,
    "slideshow": {
     "slide_type": "subslide"
    }
   },
   "source": [
    "## Funktionen"
   ]
  },
  {
   "cell_type": "code",
   "execution_count": null,
   "id": "c9dba310",
   "metadata": {
    "tags": [
     "code-along"
    ]
   },
   "outputs": [],
   "source": [
    "def add_1(n):\n",
    "    return n + 1"
   ]
  },
  {
   "cell_type": "code",
   "execution_count": null,
   "id": "f8ac8047",
   "metadata": {
    "tags": [
     "code-along"
    ]
   },
   "outputs": [],
   "source": [
    "x = add_1(10)\n",
    "add_1(20) + x + x"
   ]
  },
  {
   "cell_type": "code",
   "execution_count": null,
   "id": "8a527d76",
   "metadata": {
    "tags": [
     "code-along"
    ]
   },
   "outputs": [],
   "source": [
    "add_1(5) + add_1(7)"
   ]
  },
  {
   "cell_type": "code",
   "execution_count": null,
   "id": "ad81bfdb",
   "metadata": {
    "tags": [
     "code-along"
    ]
   },
   "outputs": [],
   "source": [
    "def my_round(n):\n",
    "    return int(n + 0.5)"
   ]
  },
  {
   "cell_type": "code",
   "execution_count": null,
   "id": "afde16ab",
   "metadata": {},
   "outputs": [],
   "source": [
    "print(my_round(0.5), my_round(1.5), my_round(2.5), my_round(3.5))"
   ]
  },
  {
   "cell_type": "markdown",
   "id": "0dbdbbdd",
   "metadata": {
    "lines_to_next_cell": 2,
    "slideshow": {
     "slide_type": "subslide"
    }
   },
   "source": [
    "### Micro-Workshop\n",
    "\n",
    "Schreiben Sie eine Funktion `greeting(name)`, die eine Begrüßung in der Form\n",
    "\"Hallo *name*!\" auf dem Bildschirm ausgibt, z.B.\n",
    "```python\n",
    ">>> greeting(\"Max\")\n",
    "Hallo Max!\n",
    ">>>\n",
    "```"
   ]
  },
  {
   "cell_type": "code",
   "execution_count": null,
   "id": "cd324260",
   "metadata": {
    "tags": [
     "code-along"
    ]
   },
   "outputs": [],
   "source": [
    "def greeting(name):\n",
    "    print(\"Hallo \", name, \"!\", sep=\"\")"
   ]
  },
  {
   "cell_type": "code",
   "execution_count": null,
   "id": "4721791f",
   "metadata": {
    "tags": [
     "code-along"
    ]
   },
   "outputs": [],
   "source": [
    "greeting(\"Max\")"
   ]
  },
  {
   "cell_type": "markdown",
   "id": "f4d65383",
   "metadata": {
    "slideshow": {
     "slide_type": "subslide"
    }
   },
   "source": [
    "### Methoden"
   ]
  },
  {
   "cell_type": "code",
   "execution_count": null,
   "id": "9a5fa405",
   "metadata": {
    "tags": [
     "code-along"
    ]
   },
   "outputs": [],
   "source": [
    "\"Foo\".lower()"
   ]
  },
  {
   "cell_type": "code",
   "execution_count": null,
   "id": "4efcfcda",
   "metadata": {
    "tags": [
     "code-along"
    ]
   },
   "outputs": [],
   "source": [
    "# 5.bit_length()"
   ]
  },
  {
   "cell_type": "code",
   "execution_count": null,
   "id": "5e00f7e5",
   "metadata": {
    "tags": [
     "code-along"
    ]
   },
   "outputs": [],
   "source": [
    "number = 5\n",
    "number.bit_length()"
   ]
  },
  {
   "cell_type": "markdown",
   "id": "ecd1f7cb",
   "metadata": {
    "lines_to_next_cell": 2,
    "slideshow": {
     "slide_type": "subslide"
    }
   },
   "source": [
    "### Mehrere Parameter, Default Argumente"
   ]
  },
  {
   "cell_type": "code",
   "execution_count": null,
   "id": "fff46a78",
   "metadata": {
    "tags": [
     "code-along"
    ]
   },
   "outputs": [],
   "source": [
    "def add2(a, b):\n",
    "    return a + b"
   ]
  },
  {
   "cell_type": "code",
   "execution_count": null,
   "id": "394f6644",
   "metadata": {
    "tags": [
     "code-along"
    ]
   },
   "outputs": [],
   "source": [
    "def add3(a, b=0, c=0):\n",
    "    return a + b + c"
   ]
  },
  {
   "cell_type": "code",
   "execution_count": null,
   "id": "7a74d2a6",
   "metadata": {
    "tags": [
     "code-along"
    ]
   },
   "outputs": [],
   "source": [
    "print(add3(2))\n",
    "print(add3(2, 3))\n",
    "print(add3(2, 3, 4))\n",
    "print(add3(1, c=3))"
   ]
  },
  {
   "cell_type": "markdown",
   "id": "30710538",
   "metadata": {
    "slideshow": {
     "slide_type": "subslide"
    }
   },
   "source": [
    "### Verschachtelte Funktionsaufrufe"
   ]
  },
  {
   "cell_type": "code",
   "execution_count": null,
   "id": "76a8ab89",
   "metadata": {
    "tags": [
     "code-along"
    ]
   },
   "outputs": [],
   "source": [
    "add3(add_1(2), add3(1, 2, add3(1, 2)))"
   ]
  },
  {
   "cell_type": "markdown",
   "id": "0f4dfa6d",
   "metadata": {
    "slideshow": {
     "slide_type": "subslide"
    }
   },
   "source": [
    "### Typannotationen"
   ]
  },
  {
   "cell_type": "code",
   "execution_count": null,
   "id": "91dec1c6",
   "metadata": {
    "tags": [
     "code-along"
    ]
   },
   "outputs": [],
   "source": [
    "def mult(a: int, b: float):\n",
    "    return a * b"
   ]
  },
  {
   "cell_type": "code",
   "execution_count": null,
   "id": "7dd4a8f9",
   "metadata": {
    "tags": [
     "code-along"
    ]
   },
   "outputs": [],
   "source": [
    "mult(3, 2.0)"
   ]
  },
  {
   "cell_type": "code",
   "execution_count": null,
   "id": "75bf4e0b",
   "metadata": {
    "tags": [
     "code-along"
    ]
   },
   "outputs": [],
   "source": [
    "# Typannotationen dienen lediglich zur Dokumentation und werden von Python\n",
    "# ignoriert:\n",
    "mult(\"a\", 3)"
   ]
  },
  {
   "cell_type": "markdown",
   "id": "3fa39a1c",
   "metadata": {
    "slideshow": {
     "slide_type": "subslide"
    }
   },
   "source": [
    "## Listen und Tupel"
   ]
  },
  {
   "cell_type": "code",
   "execution_count": null,
   "id": "73fd28fb",
   "metadata": {
    "tags": [
     "code-along"
    ]
   },
   "outputs": [],
   "source": [
    "numbers = [1, 2, 3, 4]"
   ]
  },
  {
   "cell_type": "code",
   "execution_count": null,
   "id": "b84b5312",
   "metadata": {
    "tags": [
     "code-along"
    ]
   },
   "outputs": [],
   "source": [
    "print(numbers)\n",
    "print(numbers[0], numbers[3])\n",
    "print(\"Länge:\", len(numbers))"
   ]
  },
  {
   "cell_type": "code",
   "execution_count": null,
   "id": "11c1e067",
   "metadata": {
    "slideshow": {
     "slide_type": "subslide"
    }
   },
   "outputs": [],
   "source": [
    "numbers + numbers"
   ]
  },
  {
   "cell_type": "code",
   "execution_count": null,
   "id": "8d438c5d",
   "metadata": {
    "tags": [
     "code-along"
    ]
   },
   "outputs": [],
   "source": [
    "[1] * 3"
   ]
  },
  {
   "cell_type": "code",
   "execution_count": null,
   "id": "b79fd7f1",
   "metadata": {
    "tags": [
     "code-along"
    ]
   },
   "outputs": [],
   "source": [
    "5 in [5, 6, 7]"
   ]
  },
  {
   "cell_type": "code",
   "execution_count": null,
   "id": "573e696f",
   "metadata": {
    "tags": [
     "code-along"
    ]
   },
   "outputs": [],
   "source": [
    "3 in [5, 6, 7]"
   ]
  },
  {
   "cell_type": "code",
   "execution_count": null,
   "id": "362cf465",
   "metadata": {
    "slideshow": {
     "slide_type": "subslide"
    }
   },
   "outputs": [],
   "source": [
    "my_list = [1, 2, 3]\n",
    "my_list[1] = 5\n",
    "my_list"
   ]
  },
  {
   "cell_type": "code",
   "execution_count": null,
   "id": "79c9cdc9",
   "metadata": {
    "lines_to_next_cell": 2,
    "tags": [
     "code-along"
    ]
   },
   "outputs": [],
   "source": [
    "my_list.append(7)\n",
    "my_list"
   ]
  },
  {
   "cell_type": "markdown",
   "id": "c311ec34",
   "metadata": {
    "slideshow": {
     "slide_type": "subslide"
    }
   },
   "source": [
    "## Boole'sche Werte und `if`-Anweisungen"
   ]
  },
  {
   "cell_type": "code",
   "execution_count": null,
   "id": "d7fef655",
   "metadata": {
    "tags": [
     "code-along"
    ]
   },
   "outputs": [],
   "source": [
    "True"
   ]
  },
  {
   "cell_type": "code",
   "execution_count": null,
   "id": "8ffaa8cf",
   "metadata": {
    "tags": [
     "code-along"
    ]
   },
   "outputs": [],
   "source": [
    "False"
   ]
  },
  {
   "cell_type": "code",
   "execution_count": null,
   "id": "8b10b7c3",
   "metadata": {
    "tags": [
     "code-along"
    ]
   },
   "outputs": [],
   "source": [
    "value = False"
   ]
  },
  {
   "cell_type": "code",
   "execution_count": null,
   "id": "1968287a",
   "metadata": {
    "tags": [
     "code-along"
    ]
   },
   "outputs": [],
   "source": [
    "if value:\n",
    "    print(\"Wahr\")\n",
    "else:\n",
    "    print(\"Falsch\")"
   ]
  },
  {
   "cell_type": "code",
   "execution_count": null,
   "id": "46e638cd",
   "metadata": {
    "slideshow": {
     "slide_type": "subslide"
    }
   },
   "outputs": [],
   "source": [
    "def print_size(n):\n",
    "    if n < 10:\n",
    "        print(\"Very small\")\n",
    "    elif n < 15:\n",
    "        print(\"Pretty small\")\n",
    "    elif n < 30:\n",
    "        print(\"Average\")\n",
    "    else:\n",
    "        print(\"Large\")"
   ]
  },
  {
   "cell_type": "code",
   "execution_count": null,
   "id": "92d15fdd",
   "metadata": {
    "slideshow": {
     "slide_type": "subslide"
    }
   },
   "outputs": [],
   "source": [
    "print_size(1)\n",
    "print_size(10)\n",
    "print_size(20)\n",
    "print_size(100)"
   ]
  },
  {
   "cell_type": "markdown",
   "id": "a83798f4",
   "metadata": {
    "lines_to_next_cell": 2,
    "slideshow": {
     "slide_type": "subslide"
    }
   },
   "source": [
    "### Micro-Workshop\n",
    "\n",
    "Schreiben Sie eine Funktion `fits_in_line(text: str, line_length: int = 72)`,\n",
    "die `True` oder `False` zurückgibt, je nachdem ob `text` in einer Zeile der\n",
    "Länge `line_length` ausgegeben werden kann oder nicht:\n",
    "```python\n",
    ">>> fits_in_line(\"Hallo\")\n",
    "True\n",
    ">>> fits_in_line(\"Hallo\", 3)\n",
    "False\n",
    ">>>\n",
    "```\n",
    "\n",
    "Schreiben Sie eine Funktion `print_line(text: str, line_length:int = 72)`,\n",
    "die\n",
    "* `text` auf dem Bildschirm ausgibt, falls das in einer Zeile der Länge\n",
    "  `line_length` möglich ist\n",
    "* `...` ausgibt, falls das nicht möglich ist.\n",
    "```python\n",
    ">>> print_line(\"Hallo\")\n",
    "Hallo\n",
    ">>> print_line(\"Hallo\", 3)\n",
    "...\n",
    ">>>\n",
    "```"
   ]
  },
  {
   "cell_type": "code",
   "execution_count": null,
   "id": "26a46dd5",
   "metadata": {
    "tags": [
     "code-along"
    ]
   },
   "outputs": [],
   "source": [
    "def fits_in_line(text: str, line_length: int = 72):\n",
    "    return len(text) <= line_length"
   ]
  },
  {
   "cell_type": "code",
   "execution_count": null,
   "id": "d794dba7",
   "metadata": {
    "tags": [
     "code-along"
    ]
   },
   "outputs": [],
   "source": [
    "fits_in_line(\"Hallo\")"
   ]
  },
  {
   "cell_type": "code",
   "execution_count": null,
   "id": "72b571a8",
   "metadata": {
    "tags": [
     "code-along"
    ]
   },
   "outputs": [],
   "source": [
    "fits_in_line(\"Hallo\", 3)"
   ]
  },
  {
   "cell_type": "code",
   "execution_count": null,
   "id": "7ae6956c",
   "metadata": {
    "tags": [
     "code-along"
    ]
   },
   "outputs": [],
   "source": [
    "def print_line(text: str, line_length: int = 72):\n",
    "    if fits_in_line(text, line_length=line_length):\n",
    "        print(text)\n",
    "    else:\n",
    "        print(\"...\")"
   ]
  },
  {
   "cell_type": "code",
   "execution_count": null,
   "id": "445581f3",
   "metadata": {
    "tags": [
     "code-along"
    ]
   },
   "outputs": [],
   "source": [
    "print_line(\"Hallo\")"
   ]
  },
  {
   "cell_type": "code",
   "execution_count": null,
   "id": "aee44272",
   "metadata": {
    "lines_to_next_cell": 2,
    "tags": [
     "code-along"
    ]
   },
   "outputs": [],
   "source": [
    "print_line(\"Hallo\", 3)"
   ]
  },
  {
   "cell_type": "markdown",
   "id": "ad58020a",
   "metadata": {
    "slideshow": {
     "slide_type": "subslide"
    }
   },
   "source": [
    "## `for`-Schleifen"
   ]
  },
  {
   "cell_type": "code",
   "execution_count": null,
   "id": "883c4320",
   "metadata": {
    "slideshow": {
     "slide_type": "subslide"
    },
    "tags": [
     "code-along"
    ]
   },
   "outputs": [],
   "source": [
    "for char in \"abc\":\n",
    "    print(char, end=\"|\")"
   ]
  },
  {
   "cell_type": "code",
   "execution_count": null,
   "id": "87a49b07",
   "metadata": {
    "tags": [
     "code-along"
    ]
   },
   "outputs": [],
   "source": [
    "result = 0\n",
    "for n in [1, 2, 3, 4]:\n",
    "    result += n\n",
    "result"
   ]
  },
  {
   "cell_type": "markdown",
   "id": "761ee334",
   "metadata": {
    "lines_to_next_cell": 2,
    "slideshow": {
     "slide_type": "subslide"
    }
   },
   "source": [
    "### Micro-Workshop\n",
    "\n",
    "Schreiben Sie eine Funktion `print_all(items: list)`, die die Elemente der\n",
    "Liste `items` auf dem Bildschirm ausgibt, jeweils ein Element pro Zeile:\n",
    "\n",
    "```python\n",
    ">>> print_all([1, 2, 3])\n",
    "1\n",
    "2\n",
    "3\n",
    ">>>\n",
    "```\n",
    "Was passiert, wenn Sie die Funktion mit einem String als Argument aufrufen,\n",
    "z.B. `print_all(\"abc\")`"
   ]
  },
  {
   "cell_type": "code",
   "execution_count": null,
   "id": "1cb5cf19",
   "metadata": {
    "tags": [
     "code-along"
    ]
   },
   "outputs": [],
   "source": [
    "def print_all(items: list):\n",
    "    for item in items:\n",
    "        print(item)"
   ]
  },
  {
   "cell_type": "code",
   "execution_count": null,
   "id": "da785abd",
   "metadata": {
    "tags": [
     "code-along"
    ]
   },
   "outputs": [],
   "source": [
    "print_all([1, 2, 3])"
   ]
  },
  {
   "cell_type": "code",
   "execution_count": null,
   "id": "77e9fde9",
   "metadata": {
    "tags": [
     "code-along"
    ]
   },
   "outputs": [],
   "source": [
    "print_all(\"abc\")"
   ]
  },
  {
   "cell_type": "code",
   "execution_count": null,
   "id": "b69c68b2",
   "metadata": {
    "slideshow": {
     "slide_type": "subslide"
    },
    "tags": [
     "code-along"
    ]
   },
   "outputs": [],
   "source": [
    "for i in range(3):\n",
    "    print(i, end=\", \")"
   ]
  },
  {
   "cell_type": "code",
   "execution_count": null,
   "id": "32c5e69f",
   "metadata": {
    "tags": [
     "code-along"
    ]
   },
   "outputs": [],
   "source": [
    "for i in range(1, 6, 2):\n",
    "    print(i, end=\", \")"
   ]
  },
  {
   "cell_type": "markdown",
   "id": "e024506a",
   "metadata": {
    "lines_to_next_cell": 2,
    "slideshow": {
     "slide_type": "subslide"
    }
   },
   "source": [
    "### Micro-Workshop\n",
    "\n",
    "Schreiben Sie eine Funktion `print_squares(n: int)`, die die Quadrate der\n",
    "Zahlen von 1 bis n ausgibt, jeweils ein Element pro Zeile:\n",
    "\n",
    "```python\n",
    ">>> print_square(3)\n",
    "1**2 = 1\n",
    "2**2 = 4\n",
    "3**2 = 9\n",
    ">>>\n",
    "```"
   ]
  },
  {
   "cell_type": "code",
   "execution_count": null,
   "id": "457a30e7",
   "metadata": {
    "tags": [
     "code-along"
    ]
   },
   "outputs": [],
   "source": [
    "def print_squares(n: int):\n",
    "    for i in range(1, n + 1):\n",
    "        print(i, \"**2 = \", i * i, sep=\"\")"
   ]
  },
  {
   "cell_type": "code",
   "execution_count": null,
   "id": "8ac61ba6",
   "metadata": {
    "tags": [
     "code-along"
    ]
   },
   "outputs": [],
   "source": [
    "print_squares(3)"
   ]
  },
  {
   "cell_type": "markdown",
   "id": "b916c64e",
   "metadata": {
    "slideshow": {
     "slide_type": "subslide"
    }
   },
   "source": [
    "## Dictionaries"
   ]
  },
  {
   "cell_type": "code",
   "execution_count": null,
   "id": "43343d4c",
   "metadata": {},
   "outputs": [],
   "source": [
    "translations = {\"snake\": \"Schlange\", \"bat\": \"Fledermaus\", \"horse\": \"Hose\"}"
   ]
  },
  {
   "cell_type": "code",
   "execution_count": null,
   "id": "c8e7e131",
   "metadata": {
    "tags": [
     "code-along"
    ]
   },
   "outputs": [],
   "source": [
    "print(translations[\"snake\"])\n",
    "print(translations.get(\"bat\", \"<unbekannt>\"))\n",
    "print(translations.get(\"monkey\", \"<unbekannt>\"))"
   ]
  },
  {
   "cell_type": "code",
   "execution_count": null,
   "id": "02d29faa",
   "metadata": {
    "tags": [
     "code-along"
    ]
   },
   "outputs": [],
   "source": [
    "# Fehler:\n",
    "# translations['monkey']"
   ]
  },
  {
   "cell_type": "code",
   "execution_count": null,
   "id": "347d9c06",
   "metadata": {
    "slideshow": {
     "slide_type": "subslide"
    },
    "tags": [
     "code-along"
    ]
   },
   "outputs": [],
   "source": [
    "translations[\"horse\"] = \"Pferd\"\n",
    "translations[\"horse\"]"
   ]
  },
  {
   "cell_type": "code",
   "execution_count": null,
   "id": "41fa908d",
   "metadata": {
    "slideshow": {
     "slide_type": "subslide"
    },
    "tags": [
     "code-along"
    ]
   },
   "outputs": [],
   "source": [
    "for key in translations.keys():\n",
    "    print(key, end=\" \")"
   ]
  },
  {
   "cell_type": "code",
   "execution_count": null,
   "id": "452d40a3",
   "metadata": {
    "slideshow": {
     "slide_type": "subslide"
    },
    "tags": [
     "code-along"
    ]
   },
   "outputs": [],
   "source": [
    "for key in translations:\n",
    "    print(key, end=\" \")"
   ]
  },
  {
   "cell_type": "code",
   "execution_count": null,
   "id": "859ce9a0",
   "metadata": {
    "tags": [
     "code-along"
    ]
   },
   "outputs": [],
   "source": [
    "for val in translations.values():\n",
    "    print(val, end=\" \")"
   ]
  },
  {
   "cell_type": "code",
   "execution_count": null,
   "id": "d108fcaa",
   "metadata": {
    "slideshow": {
     "slide_type": "subslide"
    },
    "tags": [
     "code-along"
    ]
   },
   "outputs": [],
   "source": [
    "for item in translations.items():\n",
    "    print(item, end=\" \")"
   ]
  },
  {
   "cell_type": "code",
   "execution_count": null,
   "id": "b9827b6f",
   "metadata": {
    "tags": [
     "code-along"
    ]
   },
   "outputs": [],
   "source": [
    "for key, val in translations.items():\n",
    "    print(\"Key:\", key, \"\\tValue:\", val)"
   ]
  },
  {
   "cell_type": "code",
   "execution_count": null,
   "id": "426a6c81",
   "metadata": {},
   "outputs": [],
   "source": []
  }
 ],
 "metadata": {
  "jupytext": {
   "cell_metadata_json": true,
   "encoding": "# -*- coding: utf-8 -*-",
   "formats": "ipynb"
  },
  "kernelspec": {
   "display_name": "Python 3 (ipykernel)",
   "language": "python",
   "name": "python3"
  }
 },
 "nbformat": 4,
 "nbformat_minor": 5
}
