{
 "cells": [
  {
   "cell_type": "code",
   "execution_count": null,
   "id": "5aab199d",
   "metadata": {},
   "outputs": [],
   "source": []
  },
  {
   "cell_type": "markdown",
   "id": "f91fe0c2",
   "metadata": {
    "lines_to_next_cell": 2,
    "slideshow": {
     "slide_type": "slide"
    }
   },
   "source": [
    "<img src=\"img/python-logo-notext.svg\"\n",
    "     style=\"display:block;margin:auto;width:10%\"/>\n",
    "<h1 style=\"text-align:center;\">Dictionaries</h1>\n",
    "<br/>\n",
    "<div style=\"text-align:center;\">Dr. Matthias Hölzl</div>"
   ]
  },
  {
   "cell_type": "markdown",
   "id": "9a8c9edf",
   "metadata": {},
   "source": [
    "\n",
    " ## Dictionaries\n",
    "\n",
    " Indizes in Listen\n",
    "\n",
    " - können nur Integer-Werte sein\n",
    " - müssen ein Intervall von 0 bis `len(liste) - 1` umfassen\n",
    "\n",
    " Elemente in einer Liste sind sortiert."
   ]
  },
  {
   "cell_type": "code",
   "execution_count": null,
   "id": "2b33d5e2",
   "metadata": {
    "lines_to_next_cell": 2,
    "tags": [
     "code-along"
    ]
   },
   "outputs": [],
   "source": [
    "non_sparse = [0] * 10\n",
    "non_sparse[0] = 1\n",
    "non_sparse[9] = 1\n",
    "non_sparse"
   ]
  },
  {
   "cell_type": "markdown",
   "id": "d04e6895",
   "metadata": {},
   "source": [
    "\n",
    " Dictionaries sind eine Datenstruktur, in der Indizes\n",
    "\n",
    " - viele verschiedene Typen haben können:\n",
    "   - Integer-Werte\n",
    "   - Strings\n",
    "   - Tupel\n",
    "   - ...\n",
    "\n",
    " Im Gegensatz zu Listen sind die Elemente in einem Dictionary nicht in einer\n",
    " bestimmten Reihenfolge angeordnet."
   ]
  },
  {
   "cell_type": "code",
   "execution_count": null,
   "id": "494a150d",
   "metadata": {
    "lines_to_next_cell": 2,
    "tags": [
     "code-along"
    ]
   },
   "outputs": [],
   "source": [
    "sparse = {0: 1, 9: 1}"
   ]
  },
  {
   "cell_type": "code",
   "execution_count": null,
   "id": "103872a8",
   "metadata": {
    "lines_to_next_cell": 2,
    "tags": [
     "code-along"
    ]
   },
   "outputs": [],
   "source": [
    "sparse"
   ]
  },
  {
   "cell_type": "code",
   "execution_count": null,
   "id": "93992fc4",
   "metadata": {
    "lines_to_next_cell": 2,
    "tags": [
     "code-along"
    ]
   },
   "outputs": [],
   "source": [
    "sparse[0]"
   ]
  },
  {
   "cell_type": "code",
   "execution_count": null,
   "id": "3b967a7c",
   "metadata": {
    "lines_to_next_cell": 2
   },
   "outputs": [],
   "source": [
    "# Fehler\n",
    "# sparse[1]"
   ]
  },
  {
   "cell_type": "code",
   "execution_count": null,
   "id": "571aa7ff",
   "metadata": {
    "lines_to_next_cell": 2,
    "tags": [
     "code-along"
    ]
   },
   "outputs": [],
   "source": [
    "sparse[12] = 3\n",
    "print(sparse[12])\n",
    "sparse"
   ]
  },
  {
   "cell_type": "code",
   "execution_count": null,
   "id": "18866420",
   "metadata": {
    "lines_to_next_cell": 2
   },
   "outputs": [],
   "source": [
    "translations = {\n",
    "    \"snake\": \"Schlange\",\n",
    "    \"bat\": \"Fledermaus\",\n",
    "    \"horse\": \"Hose\",\n",
    "    \"bird\": \"Vogel\",\n",
    "}"
   ]
  },
  {
   "cell_type": "code",
   "execution_count": null,
   "id": "c44d5610",
   "metadata": {
    "lines_to_next_cell": 2,
    "tags": [
     "code-along"
    ]
   },
   "outputs": [],
   "source": [
    "print(translations[\"snake\"])\n",
    "print(translations.get(\"bat\", \"<unbekannt>\"))\n",
    "print(translations.get(\"monkey\", \"Affe\"))\n",
    "print(translations.get(\"tree\"))"
   ]
  },
  {
   "cell_type": "code",
   "execution_count": null,
   "id": "d020d622",
   "metadata": {
    "lines_to_next_cell": 2,
    "tags": [
     "code-along"
    ]
   },
   "outputs": [],
   "source": [
    "# Fehler:\n",
    "# translations['monkey']\n",
    "translations"
   ]
  },
  {
   "cell_type": "code",
   "execution_count": null,
   "id": "2c68bd0a",
   "metadata": {
    "lines_to_next_cell": 2,
    "tags": [
     "code-along"
    ]
   },
   "outputs": [],
   "source": [
    "translations[\"horse\"] = \"Pferd\"\n",
    "translations[\"horse\"]"
   ]
  },
  {
   "cell_type": "code",
   "execution_count": null,
   "id": "9b5c245b",
   "metadata": {
    "lines_to_next_cell": 2,
    "tags": [
     "code-along"
    ]
   },
   "outputs": [],
   "source": [
    "del translations[\"bird\"]\n",
    "print(translations.get(\"bird\", \"<unbekannt>\"))\n",
    "print(translations.setdefault(\"bird\", \"Vogel\"))\n",
    "print(translations.setdefault(\"bird\", \"<auch unbekannt>\"))\n",
    "print(translations.get(\"bird\", \"<unbekannt>\"))"
   ]
  },
  {
   "cell_type": "code",
   "execution_count": null,
   "id": "17e99896",
   "metadata": {
    "lines_to_next_cell": 2,
    "tags": [
     "code-along"
    ]
   },
   "outputs": [],
   "source": [
    "for key in translations:\n",
    "    print(key, end=\" \")"
   ]
  },
  {
   "cell_type": "code",
   "execution_count": null,
   "id": "1f27cd24",
   "metadata": {
    "lines_to_next_cell": 2,
    "tags": [
     "code-along"
    ]
   },
   "outputs": [],
   "source": [
    "for key in translations.keys():\n",
    "    print(key, end=\" \")"
   ]
  },
  {
   "cell_type": "code",
   "execution_count": null,
   "id": "d65db4b8",
   "metadata": {
    "lines_to_next_cell": 2,
    "tags": [
     "code-along"
    ]
   },
   "outputs": [],
   "source": [
    "for val in translations.values():\n",
    "    print(val, end=\" \")"
   ]
  },
  {
   "cell_type": "code",
   "execution_count": null,
   "id": "1ad97731",
   "metadata": {
    "lines_to_next_cell": 2,
    "tags": [
     "code-along"
    ]
   },
   "outputs": [],
   "source": [
    "for item in translations.items():\n",
    "    print(item, end=\" \")"
   ]
  },
  {
   "cell_type": "code",
   "execution_count": null,
   "id": "2bcb0c57",
   "metadata": {
    "lines_to_next_cell": 2,
    "tags": [
     "code-along"
    ]
   },
   "outputs": [],
   "source": [
    "for key, val in translations.items():\n",
    "    print(\"Key:\", key, \"\\tValue:\", val)"
   ]
  },
  {
   "cell_type": "markdown",
   "id": "50301351",
   "metadata": {},
   "source": [
    "\n",
    " ## Mini-Workshop\n",
    "\n",
    " - Notebook `workshop_130_dictionaries`\n",
    " - Abschnitt \"Worthäufigkeiten\""
   ]
  },
  {
   "cell_type": "markdown",
   "id": "fd1371b6",
   "metadata": {},
   "source": [
    "\n",
    " ## Mini-Workshop\n",
    "\n",
    " - Notebook `042x-Workshop Todo-Liste V0`\n",
    " - Abschnitt \"TODO-Liste Version 0\""
   ]
  }
 ],
 "metadata": {
  "jupytext": {
   "encoding": "# -*- coding: utf-8 -*-",
   "formats": "ipynb"
  },
  "kernelspec": {
   "display_name": "Python 3",
   "language": "python",
   "name": "python3"
  }
 },
 "nbformat": 4,
 "nbformat_minor": 5
}
