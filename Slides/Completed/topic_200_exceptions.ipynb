{
 "cells": [
  {
   "cell_type": "markdown",
   "id": "6adab112",
   "metadata": {
    "lines_to_next_cell": 2,
    "slideshow": {
     "slide_type": "slide"
    }
   },
   "source": [
    "<img src=\"img/python-logo-notext.svg\"\n",
    "     style=\"display:block;margin:auto;width:10%\"/>\n",
    "<h1 style=\"text-align:center;\">Ausnahmen und Fehlerbehandlung</h1>\n",
    "<br/>\n",
    "<div style=\"text-align:center;\">Dr. Matthias Hölzl</div>"
   ]
  },
  {
   "cell_type": "markdown",
   "id": "5057ad8a",
   "metadata": {
    "lines_to_next_cell": 2
   },
   "source": [
    "\n",
    "# Fehlerbehandlung\n",
    "\n",
    "Wir wollen eine Funktion `int_sqrt(n: int) -> int` schreiben, die die\n",
    "\"Ganzzahlige Wurzel\" berechnet:\n",
    "- Wenn `n` eine Quadratzahl ist, also die Form `m * m` hat, dann soll `m`\n",
    "  zurückgegeben werden.\n",
    "- Was machen wir, falls `n` keine Quadratzahl ist?\n",
    "\n",
    "Einige Lösungsversuche:"
   ]
  },
  {
   "cell_type": "code",
   "execution_count": null,
   "id": "045fc713",
   "metadata": {
    "tags": [
     "code-along"
    ]
   },
   "outputs": [],
   "source": [
    "from typing import Tuple\n",
    "\n"
   ]
  },
  {
   "cell_type": "code",
   "execution_count": null,
   "id": "a4581282",
   "metadata": {
    "tags": [
     "code-along"
    ]
   },
   "outputs": [],
   "source": [
    "def int_sqrt_with_pair(n: int) -> Tuple[int, bool]:\n",
    "    for m in range(n + 1):\n",
    "        if m * m == n:\n",
    "            return m, True\n",
    "    return 0, False\n",
    "\n"
   ]
  },
  {
   "cell_type": "code",
   "execution_count": null,
   "id": "4ff0fd02",
   "metadata": {
    "lines_to_next_cell": 2,
    "tags": [
     "code-along"
    ]
   },
   "outputs": [],
   "source": [
    "int_sqrt_with_pair(9)"
   ]
  },
  {
   "cell_type": "code",
   "execution_count": null,
   "id": "e3a8f38a",
   "metadata": {
    "lines_to_next_cell": 2,
    "tags": [
     "code-along"
    ]
   },
   "outputs": [],
   "source": [
    "int_sqrt_with_pair(8)"
   ]
  },
  {
   "cell_type": "code",
   "execution_count": null,
   "id": "62520680",
   "metadata": {
    "lines_to_next_cell": 2,
    "tags": [
     "code-along"
    ]
   },
   "outputs": [],
   "source": [
    "int_sqrt_with_pair(0)"
   ]
  },
  {
   "cell_type": "code",
   "execution_count": null,
   "id": "7804922a",
   "metadata": {
    "tags": [
     "code-along"
    ]
   },
   "outputs": [],
   "source": [
    "int_sqrt_with_pair(1)"
   ]
  },
  {
   "cell_type": "code",
   "execution_count": null,
   "id": "77bd5913",
   "metadata": {
    "tags": [
     "code-along"
    ]
   },
   "outputs": [],
   "source": [
    "def print_int_sqrt_1(n):\n",
    "    root, is_valid = int_sqrt_with_pair(8)\n",
    "    print(f\"The root of {n} is {root}.\")\n",
    "\n",
    "\n",
    "print_int_sqrt_1(8)"
   ]
  },
  {
   "cell_type": "code",
   "execution_count": null,
   "id": "28123da0",
   "metadata": {
    "tags": [
     "code-along"
    ]
   },
   "outputs": [],
   "source": [
    "def int_sqrt_with_negative_value(n: int) -> int:\n",
    "    for m in range(n + 1):\n",
    "        if m * m == n:\n",
    "            return m\n",
    "    return -1\n",
    "\n"
   ]
  },
  {
   "cell_type": "code",
   "execution_count": null,
   "id": "2a4286fa",
   "metadata": {
    "lines_to_next_cell": 2,
    "tags": [
     "code-along"
    ]
   },
   "outputs": [],
   "source": [
    "int_sqrt_with_negative_value(9)"
   ]
  },
  {
   "cell_type": "code",
   "execution_count": null,
   "id": "93d49a6d",
   "metadata": {
    "tags": [
     "code-along"
    ]
   },
   "outputs": [],
   "source": [
    "int_sqrt_with_negative_value(8)"
   ]
  },
  {
   "cell_type": "code",
   "execution_count": null,
   "id": "5700a021",
   "metadata": {
    "tags": [
     "code-along"
    ]
   },
   "outputs": [],
   "source": [
    "def print_int_sqrt_2(n):\n",
    "    root = int_sqrt_with_negative_value(8)\n",
    "    print(f\"The root of {n} is {root}.\")\n",
    "\n",
    "\n",
    "print_int_sqrt_2(8)"
   ]
  },
  {
   "cell_type": "code",
   "execution_count": null,
   "id": "9dd09b15",
   "metadata": {
    "tags": [
     "code-along"
    ]
   },
   "outputs": [],
   "source": [
    "def print_int_sqrt_2_better(n):\n",
    "    root = int_sqrt_with_negative_value(8)\n",
    "    if root < 0:\n",
    "        print(f\"{n} does not have a root!\")\n",
    "    else:\n",
    "        print(f\"The root of {n} is {root}.\")\n",
    "\n",
    "\n",
    "print_int_sqrt_2_better(8)"
   ]
  },
  {
   "cell_type": "markdown",
   "id": "bcaf6017",
   "metadata": {},
   "source": [
    "\n",
    " Beide Ansätze haben mehrere Probleme:\n",
    " - Die Fehlerbehandlung ist optional. Wird sie nicht durchgeführt, so wird mit\n",
    "   einem falschen Wert weitergerechnet.\n",
    " - Kann der Aufrufer den Fehler nicht selber behandeln, so muss der Fehler über\n",
    "   mehrere Ebenen von Funktionsaufrufen \"durchgereicht\" werden. Das führt zu\n",
    "   unübersichtlichem Code, da der \"interessante\" Pfad nicht vom Code zur\n",
    "   Fehlerbehandlung getrennt ist.\n",
    "\n",
    " Eine bessere Lösung:"
   ]
  },
  {
   "cell_type": "code",
   "execution_count": null,
   "id": "ea5ca624",
   "metadata": {
    "tags": [
     "code-along"
    ]
   },
   "outputs": [],
   "source": [
    "def int_sqrt(n: int) -> int:\n",
    "    for m in range(n + 1):\n",
    "        if m * m == n:\n",
    "            return m\n",
    "    raise ValueError(f\"{n} is not a square number.\")\n",
    "\n"
   ]
  },
  {
   "cell_type": "code",
   "execution_count": null,
   "id": "7c9f6483",
   "metadata": {
    "lines_to_next_cell": 2,
    "tags": [
     "code-along"
    ]
   },
   "outputs": [],
   "source": [
    "int_sqrt(9)"
   ]
  },
  {
   "cell_type": "code",
   "execution_count": null,
   "id": "a451fa30",
   "metadata": {
    "lines_to_next_cell": 2,
    "tags": [
     "code-along"
    ]
   },
   "outputs": [],
   "source": [
    "int_sqrt(0)"
   ]
  },
  {
   "cell_type": "code",
   "execution_count": null,
   "id": "a38c74be",
   "metadata": {
    "lines_to_next_cell": 2,
    "tags": [
     "code-along"
    ]
   },
   "outputs": [],
   "source": [
    "int_sqrt(1)"
   ]
  },
  {
   "cell_type": "code",
   "execution_count": null,
   "id": "756c9169",
   "metadata": {
    "lines_to_next_cell": 2,
    "tags": [
     "code-along"
    ]
   },
   "outputs": [],
   "source": [
    "# int_sqrt(8)"
   ]
  },
  {
   "cell_type": "code",
   "execution_count": null,
   "id": "b8e6d7bb",
   "metadata": {
    "tags": [
     "code-along"
    ]
   },
   "outputs": [],
   "source": [
    "def print_int_sqrt(n):\n",
    "    root = int_sqrt(n)\n",
    "    print(f\"The root of {n} is {root}.\")\n",
    "\n"
   ]
  },
  {
   "cell_type": "code",
   "execution_count": null,
   "id": "a3783d8d",
   "metadata": {
    "lines_to_next_cell": 2,
    "tags": [
     "code-along"
    ]
   },
   "outputs": [],
   "source": [
    "# print_int_sqrt(8)"
   ]
  },
  {
   "cell_type": "code",
   "execution_count": null,
   "id": "36a349ab",
   "metadata": {
    "tags": [
     "code-along"
    ]
   },
   "outputs": [],
   "source": [
    "def print_int_sqrt_no_error(n):\n",
    "    try:\n",
    "        root = int_sqrt(n)\n",
    "        print(f\"The root of {n} is {root}.\")\n",
    "    except ValueError as err:\n",
    "        print(str(err))\n",
    "\n"
   ]
  },
  {
   "cell_type": "code",
   "execution_count": null,
   "id": "3186cf0f",
   "metadata": {
    "lines_to_next_cell": 2,
    "tags": [
     "code-along"
    ]
   },
   "outputs": [],
   "source": [
    "print_int_sqrt_no_error(9)"
   ]
  },
  {
   "cell_type": "code",
   "execution_count": null,
   "id": "9d2e7593",
   "metadata": {
    "tags": [
     "code-along"
    ]
   },
   "outputs": [],
   "source": [
    "print_int_sqrt_no_error(8)"
   ]
  },
  {
   "cell_type": "code",
   "execution_count": null,
   "id": "4a52892a",
   "metadata": {
    "tags": [
     "code-along"
    ]
   },
   "outputs": [],
   "source": [
    "def print_int_sqrt_no_error_2(n):\n",
    "    try:\n",
    "        root = int_sqrt(n)\n",
    "        print(f\"The root of {n} is {root}.\")\n",
    "    except ValueError:\n",
    "        print(f\"{n} does not have a root!\")\n",
    "    finally:\n",
    "        print(\"And that's all there is to say about this topic.\")\n",
    "\n"
   ]
  },
  {
   "cell_type": "code",
   "execution_count": null,
   "id": "402d556a",
   "metadata": {
    "lines_to_next_cell": 2,
    "tags": [
     "code-along"
    ]
   },
   "outputs": [],
   "source": [
    "print_int_sqrt_no_error_2(9)"
   ]
  },
  {
   "cell_type": "code",
   "execution_count": null,
   "id": "f7c3f4d9",
   "metadata": {
    "tags": [
     "code-along"
    ]
   },
   "outputs": [],
   "source": [
    "print_int_sqrt_no_error_2(8)"
   ]
  },
  {
   "cell_type": "markdown",
   "id": "11b2e168",
   "metadata": {},
   "source": [
    "\n",
    " ## Fehlerklassen\n",
    "\n",
    " In Python gibt es viele vordefinierte Fehlerklassen, mit denen verschiedene\n",
    " Fehlerarten signalisiert werden können:\n",
    " - `Exception`: Basisklasse aller behandelbaren Exceptions\n",
    " - `ArithmeticError`: Basisklasse aller Fehler bei Rechenoperationen:\n",
    "   - OverflowError\n",
    "   - ZeroDivisionError\n",
    " - `LookupError`: Basisklasse wenn ein ungültiger Index für eine Datenstruktur\n",
    "   verwendet wurde\n",
    " - `AssertionError`: Fehlerklasse, die von `assert` verwendet wird\n",
    " - `EOFError`: Fehler wenn `intput()` unerwartet das Ende einer Datei erreicht\n",
    " - ...\n",
    "\n",
    " Die Liste der in der Standardbibliothek definierten Fehlerklassen ist\n",
    " [hier](https://docs.python.org/3/library/exceptions.html)."
   ]
  },
  {
   "cell_type": "code",
   "execution_count": null,
   "id": "663b3d66",
   "metadata": {
    "tags": [
     "code-along"
    ]
   },
   "outputs": [],
   "source": [
    "class NoRootError(ValueError):\n",
    "    pass\n",
    "\n"
   ]
  },
  {
   "cell_type": "code",
   "execution_count": null,
   "id": "03eba794",
   "metadata": {
    "lines_to_next_cell": 2,
    "tags": [
     "code-along"
    ]
   },
   "outputs": [],
   "source": [
    "try:\n",
    "    raise ValueError(\"ValueError\")\n",
    "    # raise NoRootError(\"This is a NoRootError.\")\n",
    "except NoRootError as error:\n",
    "    print(f\"Case 1: {error}\")\n",
    "except ValueError as error:\n",
    "    print(f\"Case 2: {error}\")"
   ]
  },
  {
   "cell_type": "code",
   "execution_count": null,
   "id": "12e9cadf",
   "metadata": {
    "lines_to_next_cell": 2,
    "tags": [
     "code-along"
    ]
   },
   "outputs": [],
   "source": [
    "my_var = 1\n",
    "assert my_var == 1"
   ]
  },
  {
   "cell_type": "markdown",
   "id": "f7857d54",
   "metadata": {},
   "source": [
    "\n",
    " ## Mini-Workshop\n",
    "\n",
    " - Notebook `020x-Workshop Kontrollstrukturen`\n",
    " - Abschnitt \"Knobeln\"\n"
   ]
  }
 ],
 "metadata": {
  "jupytext": {
   "encoding": "# -*- coding: utf-8 -*-",
   "formats": "ipynb",
   "main_language": "python"
  }
 },
 "nbformat": 4,
 "nbformat_minor": 5
}
