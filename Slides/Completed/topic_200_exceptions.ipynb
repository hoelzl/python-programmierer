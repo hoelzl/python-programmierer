{
 "cells": [
  {
   "cell_type": "code",
   "execution_count": null,
   "id": "35b7350b",
   "metadata": {
    "lines_to_next_cell": 0
   },
   "outputs": [],
   "source": []
  },
  {
   "cell_type": "markdown",
   "id": "07654c9c",
   "metadata": {
    "lines_to_next_cell": 2,
    "slideshow": {
     "slide_type": "slide"
    }
   },
   "source": [
    "<img src=\"img/python-logo-notext.svg\"\n",
    "     style=\"display:block;margin:auto;width:10%\"/>\n",
    "<h1 style=\"text-align:center;\">Ausnahmen und Fehlerbehandlung</h1>\n",
    "<br/>\n",
    "<div style=\"text-align:center;\">Dr. Matthias Hölzl</div>"
   ]
  },
  {
   "cell_type": "markdown",
   "id": "157804cd",
   "metadata": {
    "lines_to_next_cell": 2
   },
   "source": [
    "\n",
    "# Fehlerbehandlung\n",
    "\n",
    "Wir wollen eine Funktion `int_sqrt(n: int) -> int` schreiben, die die\n",
    "\"Ganzzahlige Wurzel\" berechnet:\n",
    "- Wenn `n` eine Quadratzahl ist, also die Form `m * m` hat, dann soll `m`\n",
    "  zurückgegeben werden.\n",
    "- Was machen wir, falls `n` keine Quadratzahl ist?\n",
    "\n",
    "Einige Lösungsversuche:"
   ]
  },
  {
   "cell_type": "code",
   "execution_count": null,
   "id": "74028949",
   "metadata": {
    "tags": [
     "code-along"
    ]
   },
   "outputs": [],
   "source": [
    "from typing import Tuple"
   ]
  },
  {
   "cell_type": "code",
   "execution_count": null,
   "id": "56f4b439",
   "metadata": {
    "tags": [
     "code-along"
    ]
   },
   "outputs": [],
   "source": [
    "def int_sqrt_with_pair(n: int) -> Tuple[int, bool]:\n",
    "    for m in range(n + 1):\n",
    "        if m * m == n:\n",
    "            return m, True\n",
    "    return 0, False"
   ]
  },
  {
   "cell_type": "code",
   "execution_count": null,
   "id": "a59082d8",
   "metadata": {
    "lines_to_next_cell": 2,
    "tags": [
     "code-along"
    ]
   },
   "outputs": [],
   "source": [
    "int_sqrt_with_pair(9)"
   ]
  },
  {
   "cell_type": "code",
   "execution_count": null,
   "id": "5f6a8f66",
   "metadata": {
    "lines_to_next_cell": 2,
    "tags": [
     "code-along"
    ]
   },
   "outputs": [],
   "source": [
    "int_sqrt_with_pair(8)"
   ]
  },
  {
   "cell_type": "code",
   "execution_count": null,
   "id": "a9dd9fa0",
   "metadata": {
    "lines_to_next_cell": 2,
    "tags": [
     "code-along"
    ]
   },
   "outputs": [],
   "source": [
    "int_sqrt_with_pair(0)"
   ]
  },
  {
   "cell_type": "code",
   "execution_count": null,
   "id": "652730fd",
   "metadata": {
    "tags": [
     "code-along"
    ]
   },
   "outputs": [],
   "source": [
    "int_sqrt_with_pair(1)"
   ]
  },
  {
   "cell_type": "code",
   "execution_count": null,
   "id": "e630e592",
   "metadata": {
    "tags": [
     "code-along"
    ]
   },
   "outputs": [],
   "source": [
    "def print_int_sqrt_1(n):\n",
    "    root, is_valid = int_sqrt_with_pair(8)\n",
    "    print(f\"The root of {n} is {root}.\")\n",
    "\n",
    "\n",
    "print_int_sqrt_1(8)"
   ]
  },
  {
   "cell_type": "code",
   "execution_count": null,
   "id": "6656bb75",
   "metadata": {
    "tags": [
     "code-along"
    ]
   },
   "outputs": [],
   "source": [
    "def int_sqrt_with_negative_value(n: int) -> int:\n",
    "    for m in range(n + 1):\n",
    "        if m * m == n:\n",
    "            return m\n",
    "    return -1"
   ]
  },
  {
   "cell_type": "code",
   "execution_count": null,
   "id": "b4330734",
   "metadata": {
    "lines_to_next_cell": 2,
    "tags": [
     "code-along"
    ]
   },
   "outputs": [],
   "source": [
    "int_sqrt_with_negative_value(9)"
   ]
  },
  {
   "cell_type": "code",
   "execution_count": null,
   "id": "4e6baacf",
   "metadata": {
    "tags": [
     "code-along"
    ]
   },
   "outputs": [],
   "source": [
    "int_sqrt_with_negative_value(8)"
   ]
  },
  {
   "cell_type": "code",
   "execution_count": null,
   "id": "0d487a68",
   "metadata": {
    "tags": [
     "code-along"
    ]
   },
   "outputs": [],
   "source": [
    "def print_int_sqrt_2(n):\n",
    "    root = int_sqrt_with_negative_value(8)\n",
    "    print(f\"The root of {n} is {root}.\")\n",
    "\n",
    "\n",
    "print_int_sqrt_2(8)"
   ]
  },
  {
   "cell_type": "code",
   "execution_count": null,
   "id": "d0bc9998",
   "metadata": {
    "tags": [
     "code-along"
    ]
   },
   "outputs": [],
   "source": [
    "def print_int_sqrt_2_better(n):\n",
    "    root = int_sqrt_with_negative_value(8)\n",
    "    if root < 0:\n",
    "        print(f\"{n} does not have a root!\")\n",
    "    else:\n",
    "        print(f\"The root of {n} is {root}.\")\n",
    "\n",
    "\n",
    "print_int_sqrt_2_better(8)"
   ]
  },
  {
   "cell_type": "markdown",
   "id": "c1cda479",
   "metadata": {},
   "source": [
    "\n",
    " Beide Ansätze haben mehrere Probleme:\n",
    " - Die Fehlerbehandlung ist optional. Wird sie nicht durchgeführt, so wird mit\n",
    "   einem falschen Wert weitergerechnet.\n",
    " - Kann der Aufrufer den Fehler nicht selber behandeln, so muss der Fehler über\n",
    "   mehrere Ebenen von Funktionsaufrufen \"durchgereicht\" werden. Das führt zu\n",
    "   unübersichtlichem Code, da der \"interessante\" Pfad nicht vom Code zur\n",
    "   Fehlerbehandlung getrennt ist.\n",
    "\n",
    " Eine bessere Lösung:"
   ]
  },
  {
   "cell_type": "code",
   "execution_count": null,
   "id": "94b8f9e4",
   "metadata": {
    "tags": [
     "code-along"
    ]
   },
   "outputs": [],
   "source": [
    "def int_sqrt(n: int) -> int:\n",
    "    for m in range(n + 1):\n",
    "        if m * m == n:\n",
    "            return m\n",
    "    raise ValueError(f\"{n} is not a square number.\")"
   ]
  },
  {
   "cell_type": "code",
   "execution_count": null,
   "id": "afca30fc",
   "metadata": {
    "lines_to_next_cell": 2,
    "tags": [
     "code-along"
    ]
   },
   "outputs": [],
   "source": [
    "int_sqrt(9)"
   ]
  },
  {
   "cell_type": "code",
   "execution_count": null,
   "id": "b9f2d2ad",
   "metadata": {
    "lines_to_next_cell": 2,
    "tags": [
     "code-along"
    ]
   },
   "outputs": [],
   "source": [
    "int_sqrt(0)"
   ]
  },
  {
   "cell_type": "code",
   "execution_count": null,
   "id": "8f40596a",
   "metadata": {
    "lines_to_next_cell": 2,
    "tags": [
     "code-along"
    ]
   },
   "outputs": [],
   "source": [
    "int_sqrt(1)"
   ]
  },
  {
   "cell_type": "code",
   "execution_count": null,
   "id": "8618180a",
   "metadata": {
    "lines_to_next_cell": 2,
    "tags": [
     "code-along"
    ]
   },
   "outputs": [],
   "source": [
    "# int_sqrt(8)"
   ]
  },
  {
   "cell_type": "code",
   "execution_count": null,
   "id": "9c579a2a",
   "metadata": {
    "lines_to_next_cell": 2,
    "tags": [
     "code-along"
    ]
   },
   "outputs": [],
   "source": [
    "def print_int_sqrt(n):\n",
    "    root = int_sqrt(n)\n",
    "    print(f\"The root of {n} is {root}.\")"
   ]
  },
  {
   "cell_type": "code",
   "execution_count": null,
   "id": "d566fa48",
   "metadata": {
    "lines_to_next_cell": 2,
    "tags": [
     "code-along"
    ]
   },
   "outputs": [],
   "source": [
    "# print_int_sqrt(8)"
   ]
  },
  {
   "cell_type": "code",
   "execution_count": null,
   "id": "296ee542",
   "metadata": {
    "tags": [
     "code-along"
    ]
   },
   "outputs": [],
   "source": [
    "def print_int_sqrt_no_error(n):\n",
    "    try:\n",
    "        root = int_sqrt(n)\n",
    "        print(f\"The root of {n} is {root}.\")\n",
    "    except ValueError as err:\n",
    "        print(str(err))"
   ]
  },
  {
   "cell_type": "code",
   "execution_count": null,
   "id": "701cbb67",
   "metadata": {
    "lines_to_next_cell": 2,
    "tags": [
     "code-along"
    ]
   },
   "outputs": [],
   "source": [
    "print_int_sqrt_no_error(9)"
   ]
  },
  {
   "cell_type": "code",
   "execution_count": null,
   "id": "704acd67",
   "metadata": {
    "tags": [
     "code-along"
    ]
   },
   "outputs": [],
   "source": [
    "print_int_sqrt_no_error(8)"
   ]
  },
  {
   "cell_type": "code",
   "execution_count": null,
   "id": "777775d1",
   "metadata": {
    "tags": [
     "code-along"
    ]
   },
   "outputs": [],
   "source": [
    "def print_int_sqrt_no_error_2(n):\n",
    "    try:\n",
    "        root = int_sqrt(n)\n",
    "        print(f\"The root of {n} is {root}.\")\n",
    "    except ValueError:\n",
    "        print(f\"{n} does not have a root!\")\n",
    "    finally:\n",
    "        print(\"And that's all there is to say about this topic.\")"
   ]
  },
  {
   "cell_type": "code",
   "execution_count": null,
   "id": "339b8206",
   "metadata": {
    "lines_to_next_cell": 2,
    "tags": [
     "code-along"
    ]
   },
   "outputs": [],
   "source": [
    "print_int_sqrt_no_error_2(9)"
   ]
  },
  {
   "cell_type": "code",
   "execution_count": null,
   "id": "346dd592",
   "metadata": {
    "tags": [
     "code-along"
    ]
   },
   "outputs": [],
   "source": [
    "print_int_sqrt_no_error_2(8)"
   ]
  },
  {
   "cell_type": "markdown",
   "id": "bd1867dc",
   "metadata": {},
   "source": [
    "\n",
    " ## Fehlerklassen\n",
    "\n",
    " In Python gibt es viele vordefinierte Fehlerklassen, mit denen verschiedene\n",
    " Fehlerarten signalisiert werden können:\n",
    " - `Exception`: Basisklasse aller behandelbaren Exceptions\n",
    " - `ArithmeticError`: Basisklasse aller Fehler bei Rechenoperationen:\n",
    "   - OverflowError\n",
    "   - ZeroDivisionError\n",
    " - `LookupError`: Basisklasse wenn ein ungültiger Index für eine Datenstruktur\n",
    "   verwendet wurde\n",
    " - `AssertionError`: Fehlerklasse, die von `assert` verwendet wird\n",
    " - `EOFError`: Fehler wenn `intput()` unerwartet das Ende einer Datei erreicht\n",
    " - ...\n",
    "\n",
    " Die Liste der in der Standardbibliothek definierten Fehlerklassen ist\n",
    " [hier](https://docs.python.org/3/library/exceptions.html)."
   ]
  },
  {
   "cell_type": "code",
   "execution_count": null,
   "id": "1b0b1d8c",
   "metadata": {
    "tags": [
     "code-along"
    ]
   },
   "outputs": [],
   "source": [
    "class NoRootError(ValueError):\n",
    "    pass"
   ]
  },
  {
   "cell_type": "code",
   "execution_count": null,
   "id": "54c420fd",
   "metadata": {
    "lines_to_next_cell": 2,
    "tags": [
     "code-along"
    ]
   },
   "outputs": [],
   "source": [
    "try:\n",
    "    raise ValueError(\"ValueError\")\n",
    "    # raise NoRootError(\"This is a NoRootError.\")\n",
    "except NoRootError as error:\n",
    "    print(f\"Case 1: {error}\")\n",
    "except ValueError as error:\n",
    "    print(f\"Case 2: {error}\")"
   ]
  },
  {
   "cell_type": "code",
   "execution_count": null,
   "id": "d25b71ad",
   "metadata": {
    "lines_to_next_cell": 2,
    "tags": [
     "code-along"
    ]
   },
   "outputs": [],
   "source": [
    "my_var = 1\n",
    "assert my_var == 1"
   ]
  },
  {
   "cell_type": "markdown",
   "id": "13bf5ae4",
   "metadata": {},
   "source": [
    "\n",
    " ## Mini-Workshop\n",
    "\n",
    " - Notebook `workshop_090_control_structures`\n",
    " - Abschnitt \"Knobeln\"\n"
   ]
  },
  {
   "cell_type": "markdown",
   "id": "54879492",
   "metadata": {},
   "source": [
    "## Mini-Workshop\n",
    "\n",
    "- Notebook `topic_900_othellite`\n",
    "- `compute_linear_index()`"
   ]
  }
 ],
 "metadata": {
  "jupytext": {
   "encoding": "# -*- coding: utf-8 -*-",
   "formats": "ipynb"
  },
  "kernelspec": {
   "display_name": "Python 3 (ipykernel)",
   "language": "python",
   "name": "python3"
  }
 },
 "nbformat": 4,
 "nbformat_minor": 5
}
