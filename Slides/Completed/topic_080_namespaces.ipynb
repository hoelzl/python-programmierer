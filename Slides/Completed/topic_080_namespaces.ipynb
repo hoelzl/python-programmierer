{
 "cells": [
  {
   "cell_type": "markdown",
   "id": "c13f5e60",
   "metadata": {
    "slideshow": {
     "slide_type": "slide"
    }
   },
   "source": [
    "<img src=\"img/python-logo-notext.svg\"\n",
    "     style=\"display:block;margin:auto;width:10%\"/>\n",
    "<h1 style=\"text-align:center;\">Namensräume</h1>\n",
    "<br/>\n",
    "<div style=\"text-align:center;\">Dr. Matthias Hölzl</div>"
   ]
  },
  {
   "cell_type": "markdown",
   "id": "6ea523a7",
   "metadata": {
    "slideshow": {
     "slide_type": "slide"
    }
   },
   "source": [
    "# Namensräume\n",
    "\n",
    "Variablen und Funktionsnamen existieren in einem *Namensraum (Namespace)*.\n",
    "\n",
    "- Globale Variablen und Funktionsnamen sind im globalen Namensraum.\n",
    "- Mit `import` importierte Namen existieren im importierten Namensraum.\n",
    "- Namen, die innerhalb einer Funktion definiert werden sind im Namensraum dieser Funktion.\n",
    "    - Parameter\n",
    "    - lokale Variablen\n",
    "\n",
    "Der Namensraum einer Funktion \"verschwindet\" am Ende des Rumpfs.\n",
    "@formatter:off"
   ]
  },
  {
   "cell_type": "code",
   "execution_count": null,
   "id": "8b1f501d",
   "metadata": {
    "slideshow": {
     "slide_type": "subslide"
    }
   },
   "outputs": [],
   "source": [
    "# Ohne Angabe der Namensräume, siehe nächste Folie\n",
    "a = 1\n",
    "def f(x):\n",
    "    # print(a) # Was passiert, wenn diese Zeile einkommentiert wird?\n",
    "    a = x + 1\n",
    "    print(a)\n",
    "f(2)\n",
    "print(a)\n",
    "# print(x)"
   ]
  },
  {
   "cell_type": "code",
   "execution_count": null,
   "id": "c51f71c6",
   "metadata": {
    "slideshow": {
     "slide_type": "subslide"
    }
   },
   "outputs": [],
   "source": [
    "a = 1                   # Globaler Namespace\n",
    "def f(x):               # Namespace von f - x ist im globalen Namespace *nicht* sichtbar\n",
    "    a = x + 1           # Namespace von f - a ist im globalen Namespace *nicht* sichtbar\n",
    "    print(a)            # Greift auf a aus dem Namespace von f zu\n",
    "f(2)\n",
    "print(a)                # Greift auf a aus dem globalen Namespace zu\n",
    "# print(x)              # Fehler: x ist im Namespace von f"
   ]
  },
  {
   "cell_type": "code",
   "execution_count": null,
   "id": "487f7aff",
   "metadata": {
    "slideshow": {
     "slide_type": "subslide"
    }
   },
   "outputs": [],
   "source": [
    "a = 1\n",
    "def f2():\n",
    "    global a\n",
    "    a = 4\n",
    "    print(a)\n",
    "f2()\n",
    "print(a)\n",
    "a = 5\n",
    "print(a)\n",
    "# @formatter:on"
   ]
  },
  {
   "cell_type": "code",
   "execution_count": null,
   "id": "d3f1f887",
   "metadata": {
    "tags": [
     "code-along"
    ]
   },
   "outputs": [],
   "source": [
    "from dis import dis"
   ]
  },
  {
   "cell_type": "code",
   "execution_count": null,
   "id": "e282cfc9",
   "metadata": {
    "tags": [
     "code-along"
    ]
   },
   "outputs": [],
   "source": [
    "dis(f)"
   ]
  },
  {
   "cell_type": "code",
   "execution_count": null,
   "id": "7c347164",
   "metadata": {
    "tags": [
     "code-along"
    ]
   },
   "outputs": [],
   "source": [
    "dis(f2)"
   ]
  },
  {
   "cell_type": "code",
   "execution_count": null,
   "id": "dd6e0a2a",
   "metadata": {
    "tags": [
     "code-along"
    ]
   },
   "outputs": [],
   "source": [
    "a = 1\n",
    "\n",
    "\n",
    "def f_broken():\n",
    "    # noinspection PyUnresolvedReferences\n",
    "    print(a)\n",
    "    a = 2"
   ]
  },
  {
   "cell_type": "code",
   "execution_count": null,
   "id": "275a99a6",
   "metadata": {
    "tags": [
     "code-along"
    ]
   },
   "outputs": [],
   "source": [
    "dis(f_broken)"
   ]
  },
  {
   "cell_type": "markdown",
   "id": "2435d4b6",
   "metadata": {},
   "source": [
    "\n",
    "## Closures\n",
    "\n",
    "In Python ist es möglich Funktionen innerhalb von anderen Funktionen zu\n",
    "definieren. Diese können auf die Variablen der äußeren Funktion zugreifen."
   ]
  },
  {
   "cell_type": "code",
   "execution_count": null,
   "id": "8fcdd155",
   "metadata": {
    "tags": [
     "code-along"
    ]
   },
   "outputs": [],
   "source": [
    "def make_closure_1():\n",
    "    from random import randint\n",
    "    initial_value = randint(1, 10)\n",
    "\n",
    "    def read_value():\n",
    "        return initial_value\n",
    "\n",
    "    return read_value()"
   ]
  },
  {
   "cell_type": "code",
   "execution_count": null,
   "id": "010b23b4",
   "metadata": {
    "tags": [
     "code-along"
    ]
   },
   "outputs": [],
   "source": [
    "make_closure_1()"
   ]
  },
  {
   "cell_type": "code",
   "execution_count": null,
   "id": "3587db2e",
   "metadata": {
    "tags": [
     "code-along"
    ]
   },
   "outputs": [],
   "source": [
    "dis(make_closure_1)"
   ]
  },
  {
   "cell_type": "code",
   "execution_count": null,
   "id": "5b968a8b",
   "metadata": {
    "tags": [
     "code-along"
    ]
   },
   "outputs": [],
   "source": [
    "def make_closure_2():\n",
    "    from random import randint\n",
    "    initial_value = randint(1, 10)\n",
    "\n",
    "    def read_value():\n",
    "        return initial_value\n",
    "\n",
    "    return read_value"
   ]
  },
  {
   "cell_type": "code",
   "execution_count": null,
   "id": "3845915d",
   "metadata": {
    "tags": [
     "code-along"
    ]
   },
   "outputs": [],
   "source": [
    "make_closure_2()"
   ]
  },
  {
   "cell_type": "code",
   "execution_count": null,
   "id": "b7a2e9db",
   "metadata": {
    "tags": [
     "code-along"
    ]
   },
   "outputs": [],
   "source": [
    "dis(make_closure_2)"
   ]
  },
  {
   "cell_type": "code",
   "execution_count": null,
   "id": "3a0242e4",
   "metadata": {
    "tags": [
     "code-along"
    ]
   },
   "outputs": [],
   "source": [
    "reader = make_closure_2()\n",
    "reader()"
   ]
  },
  {
   "cell_type": "code",
   "execution_count": null,
   "id": "e1b5caf1",
   "metadata": {
    "tags": [
     "code-along"
    ]
   },
   "outputs": [],
   "source": [
    "def make_mean_fun_1():\n",
    "    values: list[int] = []\n",
    "\n",
    "    def compute_mean(new_value: int):\n",
    "        values.append(new_value)\n",
    "        return sum(values) / len(values)\n",
    "\n",
    "    return compute_mean"
   ]
  },
  {
   "cell_type": "code",
   "execution_count": null,
   "id": "956cb92b",
   "metadata": {
    "tags": [
     "code-along"
    ]
   },
   "outputs": [],
   "source": [
    "my_mean = make_mean_fun_1()\n",
    "your_mean = make_mean_fun_1()"
   ]
  },
  {
   "cell_type": "code",
   "execution_count": null,
   "id": "bd92d8b2",
   "metadata": {
    "tags": [
     "code-along"
    ]
   },
   "outputs": [],
   "source": [
    "print(my_mean(10))\n",
    "print(my_mean(20))\n",
    "print(your_mean(1))\n",
    "print(your_mean(2))\n",
    "print(my_mean(30))"
   ]
  },
  {
   "cell_type": "code",
   "execution_count": null,
   "id": "bc3c65af",
   "metadata": {
    "tags": [
     "code-along"
    ]
   },
   "outputs": [],
   "source": [
    "def make_mean_fun_2():\n",
    "    sum_of_values: int = 0\n",
    "    num_values: int = 0\n",
    "\n",
    "    def compute_mean(new_value: int):\n",
    "        nonlocal sum_of_values, num_values\n",
    "        sum_of_values += new_value\n",
    "        num_values += 1\n",
    "        return sum_of_values / num_values\n",
    "\n",
    "    return compute_mean"
   ]
  },
  {
   "cell_type": "code",
   "execution_count": null,
   "id": "fd7ceeaa",
   "metadata": {
    "tags": [
     "code-along"
    ]
   },
   "outputs": [],
   "source": [
    "my_mean = make_mean_fun_2()\n",
    "your_mean = make_mean_fun_2()"
   ]
  },
  {
   "cell_type": "code",
   "execution_count": null,
   "id": "cddb83af",
   "metadata": {
    "lines_to_next_cell": 2,
    "tags": [
     "code-along"
    ]
   },
   "outputs": [],
   "source": [
    "print(my_mean(10))\n",
    "print(my_mean(20))\n",
    "print(your_mean(1))\n",
    "print(your_mean(2))\n",
    "print(my_mean(30))"
   ]
  },
  {
   "cell_type": "code",
   "execution_count": null,
   "id": "de0e5a4d",
   "metadata": {
    "tags": [
     "code-along"
    ]
   },
   "outputs": [],
   "source": [
    "dis(make_mean_fun_2)"
   ]
  },
  {
   "cell_type": "markdown",
   "id": "1c3a9139",
   "metadata": {
    "slideshow": {
     "slide_type": "subslide"
    }
   },
   "source": [
    "## Vermeiden von langwierigen Berechnungen in Notebooks:\n",
    "\n",
    "**Warnung!** Hack!!!\n",
    "Manchmal hilfreich, aber auch eine große Fehlerquelle!"
   ]
  },
  {
   "cell_type": "code",
   "execution_count": null,
   "id": "5713443a",
   "metadata": {
    "tags": [
     "code-along"
    ]
   },
   "outputs": [],
   "source": [
    "def slow_computation():\n",
    "    import time\n",
    "    # Increase this before demonstration!\n",
    "    time.sleep(0.1)\n",
    "    return 1"
   ]
  },
  {
   "cell_type": "code",
   "execution_count": null,
   "id": "d0a8232c",
   "metadata": {
    "tags": [
     "code-along"
    ]
   },
   "outputs": [],
   "source": [
    "\"slow_value\" in globals()"
   ]
  },
  {
   "cell_type": "code",
   "execution_count": null,
   "id": "d53d29fc",
   "metadata": {
    "tags": [
     "code-along"
    ]
   },
   "outputs": [],
   "source": [
    "slow_value = slow_computation()"
   ]
  },
  {
   "cell_type": "code",
   "execution_count": null,
   "id": "08d4c7fb",
   "metadata": {
    "tags": [
     "code-along"
    ]
   },
   "outputs": [],
   "source": [
    "\"slow_value\" in globals()"
   ]
  },
  {
   "cell_type": "code",
   "execution_count": null,
   "id": "86313de1",
   "metadata": {
    "tags": [
     "code-along"
    ]
   },
   "outputs": [],
   "source": [
    "del slow_value"
   ]
  },
  {
   "cell_type": "code",
   "execution_count": null,
   "id": "0dfff948",
   "metadata": {
    "tags": [
     "code-along"
    ]
   },
   "outputs": [],
   "source": [
    "\"slow_value\" in globals()"
   ]
  },
  {
   "cell_type": "code",
   "execution_count": null,
   "id": "6b8afad0",
   "metadata": {
    "tags": [
     "code-along"
    ]
   },
   "outputs": [],
   "source": [
    "if \"slow_value\" not in globals():\n",
    "    slow_value = slow_computation()"
   ]
  },
  {
   "cell_type": "code",
   "execution_count": null,
   "id": "92def1ba",
   "metadata": {
    "tags": [
     "code-along"
    ]
   },
   "outputs": [],
   "source": [
    "if \"slow_value\" not in globals():\n",
    "    slow_value = slow_computation()"
   ]
  }
 ],
 "metadata": {
  "jupytext": {
   "cell_metadata_json": true,
   "encoding": "# -*- coding: utf-8 -*-",
   "formats": "ipynb"
  },
  "kernelspec": {
   "display_name": "Python 3 (ipykernel)",
   "language": "python",
   "name": "python3"
  }
 },
 "nbformat": 4,
 "nbformat_minor": 5
}
