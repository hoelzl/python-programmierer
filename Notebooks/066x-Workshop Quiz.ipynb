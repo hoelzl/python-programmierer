{
 "cells": [
  {
   "cell_type": "markdown",
   "metadata": {},
   "source": [
    "# Quiz\n",
    "\n",
    "Wir wollen ein Quiz in Python implementieren.\n",
    "\n",
    "Obwohl es möglich ist, die Implementierung in einem Notebook zu beginnen wäre es\n",
    "besser, dieses Projekt in einem IDE zu starten und das Notebook nur als\n",
    "Anleitung herzunehmen, da die späteren Teile im IDE besser zu realisieren sind.\n",
    "\n",
    "Definieren Sie eine Klasse `Question`, die einzelne Fragen und korrekte\n",
    "Antworten repräsentiert. Der Zustand der Klasse ist\n",
    "\n",
    "- Ein String `text`, der den Text der Frage darstellt.\n",
    "- Eine Liste von Strings `answers`, die die richtigen Antworten darstellen.\n",
    "\n",
    "`Question` hat die folgende Methoden:\n",
    "\n",
    "- `is_answer_correct(self, answer: str)`: überprüft, ob der String  `answer`\n",
    "  eine korrekte Antwort auf die Frage ist.\n",
    "- `correct_answer(self)`: Gibt eine der korrekten Antworten zurück."
   ]
  },
  {
   "cell_type": "code",
   "execution_count": null,
   "metadata": {
    "pycharm": {
     "name": "#%%\n"
    }
   },
   "outputs": [],
   "source": []
  },
  {
   "cell_type": "markdown",
   "metadata": {
    "pycharm": {
     "name": "#%% md\n"
    }
   },
   "source": [
    "Testen Sie die Klasse (interaktiv falls Sie die Aufgabe im Notebook bearbeiten,\n",
    "sonst mit pytest)"
   ]
  },
  {
   "cell_type": "code",
   "execution_count": null,
   "metadata": {
    "pycharm": {
     "name": "#%%\n"
    }
   },
   "outputs": [],
   "source": []
  },
  {
   "cell_type": "code",
   "execution_count": null,
   "metadata": {
    "pycharm": {
     "name": "#%%\n"
    }
   },
   "outputs": [],
   "source": []
  },
  {
   "cell_type": "code",
   "execution_count": null,
   "metadata": {
    "pycharm": {
     "name": "#%%\n"
    }
   },
   "outputs": [],
   "source": []
  },
  {
   "cell_type": "markdown",
   "metadata": {},
   "source": [
    "Implementieren Sie jetzt eine Klasse `TriviaGame`, die eine Liste von\n",
    "`Question`-Instanzen enthält und eine Methode `run(self)` hat, die\n",
    "\n",
    "- zufällig eine Frage auswählt,\n",
    "- den Fragetext auf dem Bildschirm ausgibt,\n",
    "- den Benutzer nach seiner Antwort fragt,\n",
    "- die Antwort des Benutzers überprüft und\n",
    "- einen Text ausgibt, ob die Antwort richtig oder falsch war.\n",
    "\n",
    "Eine leere Eingabe soll das Spiel abbrechen. Am Ende des Spiels soll die Anzahl\n",
    "der beantworteten Fragen und der Prozentsatz der korrekt beantworteten Fragen\n",
    "zurückgegeben werden.\n",
    "\n",
    "*Hinweis:* Es empfiehlt sich einige Hilfsmethoden zu implementieren, die einen\n",
    "*Teil der Funktionalität von `run()` übernehmen. Eine Möglichkeit wäre\n",
    "\n",
    "- `percentage_questions_answered_correctly(self)` gibt den Prozentsatz der\n",
    "  richtig beantworteten Fragen zurück. (Achten Sie auf den Fall, dass der\n",
    "  Benutzer keine Frage beantwortet hat). Für diese Methode empfiehlt sich eine\n",
    "  Implementierueng als Property.\n",
    "\n",
    "- `pick_random_question(self)` wählt zufällig eine der Fragen aus. Hierfür\n",
    "  leistet die Funktion `random.choice()` gute Dienste\n",
    "\n",
    "- `query_user_for_answer(self, question: Question)` und gibt diese zurück\n",
    "\n",
    "- `process_answer(self, question: Question, answer: str)` , wertet die Antwort\n",
    "  aus und gibt einen \"Statuscode\" zurück, der eine der folgende Möglichkeiten\n",
    "  beschreibt:\n",
    "\n",
    "  - Die Frage wurde korrekt beantwortet.\n",
    "  - Die Frage wurde falsch beantwortet.\n",
    "  - Der Spieler möchte das Spiel beenden.\n",
    "\n",
    "- `print_reply()` gibt eine Antwort basierend auf der Frage und dem \"Statuscode\"\n",
    "  zurück.\n",
    " \n"
   ]
  },
  {
   "cell_type": "code",
   "execution_count": null,
   "metadata": {
    "pycharm": {
     "name": "#%%\n"
    }
   },
   "outputs": [],
   "source": []
  },
  {
   "cell_type": "code",
   "execution_count": null,
   "metadata": {
    "pycharm": {
     "name": "#%%\n"
    }
   },
   "outputs": [],
   "source": []
  },
  {
   "cell_type": "code",
   "execution_count": null,
   "metadata": {
    "pycharm": {
     "name": "#%%\n"
    }
   },
   "outputs": [],
   "source": []
  },
  {
   "cell_type": "code",
   "execution_count": null,
   "metadata": {
    "pycharm": {
     "name": "#%%\n"
    }
   },
   "outputs": [],
   "source": []
  },
  {
   "cell_type": "code",
   "execution_count": null,
   "metadata": {
    "pycharm": {
     "name": "#%%\n"
    }
   },
   "outputs": [],
   "source": []
  },
  {
   "cell_type": "markdown",
   "metadata": {},
   "source": [
    "## Packaging\n",
    "\n",
    "Fügen Sie eine `setup.py` Datei, sowie alle weiteren benötigten Dateien zu Ihrem Projekt hinzu, um daraus eine Wheel-Datei zu generieren.\n",
    "\n",
    "Erzeugen Sie in der `setup.py`-Datei ein Skript, das Ihre Anwendung startet."
   ]
  },
  {
   "cell_type": "code",
   "execution_count": null,
   "metadata": {},
   "outputs": [],
   "source": []
  }
 ],
 "metadata": {
  "kernelspec": {
   "display_name": "Python 3",
   "language": "python",
   "name": "python3"
  },
  "language_info": {
   "codemirror_mode": {
    "name": "ipython",
    "version": 3
   },
   "file_extension": ".py",
   "mimetype": "text/x-python",
   "name": "python",
   "nbconvert_exporter": "python",
   "pygments_lexer": "ipython3",
   "version": "3.6.11"
  }
 },
 "nbformat": 4,
 "nbformat_minor": 1
}
