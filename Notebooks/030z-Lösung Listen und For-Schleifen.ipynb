{
 "cells": [
  {
   "cell_type": "markdown",
   "metadata": {},
   "source": [
    "# Farben\n",
    "\n",
    "Definieren Sie eine Variable `farben`, die eine Liste mit den Strings `Rot`, `Grün` und `Blau` enthält."
   ]
  },
  {
   "cell_type": "code",
   "execution_count": 2,
   "metadata": {},
   "outputs": [],
   "source": [
    "farben = [\"Rot\", \"Grün\", \"Blau\"]"
   ]
  },
  {
   "cell_type": "markdown",
   "metadata": {},
   "source": [
    "Überprüfen Sie, ob der String `Gelb` in `farben` enthalten ist"
   ]
  },
  {
   "cell_type": "code",
   "execution_count": 3,
   "metadata": {},
   "outputs": [
    {
     "data": {
      "text/plain": [
       "False"
      ]
     },
     "execution_count": 3,
     "metadata": {},
     "output_type": "execute_result"
    }
   ],
   "source": [
    "\"Gelb\" in farben"
   ]
  },
  {
   "cell_type": "markdown",
   "metadata": {},
   "source": [
    "Fügen Sie `Gelb` zu den Farben hinzu."
   ]
  },
  {
   "cell_type": "code",
   "execution_count": 4,
   "metadata": {},
   "outputs": [],
   "source": [
    "farben.append(\"Gelb\")"
   ]
  },
  {
   "cell_type": "markdown",
   "metadata": {},
   "source": [
    "Überprüfen Sie nochmals, ob `Gelb` in den Farben enthalten ist."
   ]
  },
  {
   "cell_type": "code",
   "execution_count": 5,
   "metadata": {},
   "outputs": [
    {
     "data": {
      "text/plain": [
       "True"
      ]
     },
     "execution_count": 5,
     "metadata": {},
     "output_type": "execute_result"
    }
   ],
   "source": [
    "\"Gelb\" in farben"
   ]
  },
  {
   "cell_type": "markdown",
   "metadata": {},
   "source": [
    "Wie viele Farben enthält die in `farben` gespeicherte Liste jetzt?"
   ]
  },
  {
   "cell_type": "code",
   "execution_count": 6,
   "metadata": {},
   "outputs": [
    {
     "data": {
      "text/plain": [
       "4"
      ]
     },
     "execution_count": 6,
     "metadata": {},
     "output_type": "execute_result"
    }
   ],
   "source": [
    "len(farben)"
   ]
  },
  {
   "cell_type": "markdown",
   "metadata": {},
   "source": [
    "Ändern Sie das erste Element von `farben` in `Dunkelrot`"
   ]
  },
  {
   "cell_type": "code",
   "execution_count": 7,
   "metadata": {},
   "outputs": [],
   "source": [
    "farben[0] = \"Dunkelrot\""
   ]
  },
  {
   "cell_type": "markdown",
   "metadata": {},
   "source": [
    "Fügen Sie `Lila` als zweites Element in die Liste ein."
   ]
  },
  {
   "cell_type": "code",
   "execution_count": 8,
   "metadata": {},
   "outputs": [],
   "source": [
    "farben.insert(1, 'Lila')"
   ]
  },
  {
   "cell_type": "markdown",
   "metadata": {},
   "source": [
    "Was ist das dritte Element der Liste `farben`?"
   ]
  },
  {
   "cell_type": "code",
   "execution_count": 9,
   "metadata": {},
   "outputs": [
    {
     "data": {
      "text/plain": [
       "'Grün'"
      ]
     },
     "execution_count": 9,
     "metadata": {},
     "output_type": "execute_result"
    }
   ],
   "source": [
    "farben[2]"
   ]
  },
  {
   "cell_type": "markdown",
   "metadata": {},
   "source": [
    "Löschen Sie das zweite Element der Liste `farben`"
   ]
  },
  {
   "cell_type": "code",
   "execution_count": 10,
   "metadata": {},
   "outputs": [],
   "source": [
    "del farben[1]"
   ]
  },
  {
   "cell_type": "markdown",
   "metadata": {},
   "source": [
    "Was ist das dritte Element der Liste `farben` jetzt?"
   ]
  },
  {
   "cell_type": "code",
   "execution_count": 11,
   "metadata": {},
   "outputs": [
    {
     "data": {
      "text/plain": [
       "'Blau'"
      ]
     },
     "execution_count": 11,
     "metadata": {},
     "output_type": "execute_result"
    }
   ],
   "source": [
    "farben[2]"
   ]
  },
  {
   "cell_type": "markdown",
   "metadata": {},
   "source": [
    "# Slicing"
   ]
  },
  {
   "cell_type": "code",
   "execution_count": 12,
   "metadata": {},
   "outputs": [],
   "source": [
    "liste = [0, 1, 2, 3, 4, 5, 6, 7, 8, 9]"
   ]
  },
  {
   "cell_type": "markdown",
   "metadata": {},
   "source": [
    "Extrahieren Sie von `liste` eine Liste mit allen Elementen außer den ersten beiden."
   ]
  },
  {
   "cell_type": "code",
   "execution_count": 13,
   "metadata": {},
   "outputs": [
    {
     "data": {
      "text/plain": [
       "[2, 3, 4, 5, 6, 7, 8, 9]"
      ]
     },
     "execution_count": 13,
     "metadata": {},
     "output_type": "execute_result"
    }
   ],
   "source": [
    "liste[2:]"
   ]
  },
  {
   "cell_type": "markdown",
   "metadata": {},
   "source": [
    "Extrahieren Sie von `liste` eine Liste, die aus dem 2. und 3. Element besteht."
   ]
  },
  {
   "cell_type": "code",
   "execution_count": 14,
   "metadata": {},
   "outputs": [
    {
     "data": {
      "text/plain": [
       "[1, 2]"
      ]
     },
     "execution_count": 14,
     "metadata": {},
     "output_type": "execute_result"
    }
   ],
   "source": [
    "liste[1:3]"
   ]
  },
  {
   "cell_type": "markdown",
   "metadata": {},
   "source": [
    "Extrahieren Sie von `liste` eine neue Liste, die alle Elemente außer dem ersten und dem letzten enthält."
   ]
  },
  {
   "cell_type": "code",
   "execution_count": 15,
   "metadata": {},
   "outputs": [
    {
     "data": {
      "text/plain": [
       "[1, 2, 3, 4, 5, 6, 7, 8]"
      ]
     },
     "execution_count": 15,
     "metadata": {},
     "output_type": "execute_result"
    }
   ],
   "source": [
    "liste[1:-1]"
   ]
  },
  {
   "cell_type": "markdown",
   "metadata": {},
   "source": [
    "# Einkaufsliste\n",
    "\n",
    "Definieren Sie Variablen \n",
    "- `meine_einkaufsliste`, die eine Liste mit den Strings `Tee` und `Kaffee` enthält,\n",
    "- `eine_andere_einkaufsliste`, die ebenfalls eine Liste mit den Strings `Tee` und `Kaffee` enthält."
   ]
  },
  {
   "cell_type": "code",
   "execution_count": 16,
   "metadata": {},
   "outputs": [],
   "source": [
    "meine_einkaufsliste = [\"Tee\", \"Kaffee\"]\n",
    "eine_andere_einkaufsliste = [\"Tee\", \"Kaffee\"]"
   ]
  },
  {
   "cell_type": "markdown",
   "metadata": {},
   "source": [
    "Definieren Sie eine Funktion `drucke_einkaufsliste(einkaufsliste)`, die die als Argument übergebene\n",
    "Einkaufsliste ausdruckt:\n",
    "\n",
    "```\n",
    "Einkaufsliste:\n",
    "  Tee\n",
    "  Kaffee\n",
    "```"
   ]
  },
  {
   "cell_type": "code",
   "execution_count": 17,
   "metadata": {},
   "outputs": [],
   "source": [
    "def drucke_einkaufsliste(einkaufsliste):\n",
    "    print(\"Einkaufsliste:\")\n",
    "    for item in einkaufsliste:\n",
    "        print(\"  \" + item)"
   ]
  },
  {
   "cell_type": "markdown",
   "metadata": {},
   "source": [
    "Testen Sie die Funktion `drucke_einkaufsliste(einkaufsliste)` mit beiden Einkaufslisten."
   ]
  },
  {
   "cell_type": "code",
   "execution_count": 18,
   "metadata": {},
   "outputs": [
    {
     "name": "stdout",
     "output_type": "stream",
     "text": [
      "Einkaufsliste:\n",
      "  Tee\n",
      "  Kaffee\n"
     ]
    }
   ],
   "source": [
    "drucke_einkaufsliste(meine_einkaufsliste)"
   ]
  },
  {
   "cell_type": "code",
   "execution_count": 19,
   "metadata": {},
   "outputs": [
    {
     "name": "stdout",
     "output_type": "stream",
     "text": [
      "Einkaufsliste:\n",
      "  Tee\n",
      "  Kaffee\n"
     ]
    }
   ],
   "source": [
    "drucke_einkaufsliste(eine_andere_einkaufsliste)"
   ]
  },
  {
   "cell_type": "markdown",
   "metadata": {},
   "source": [
    "Definieren Sie eine Funktion `kaufe(produkt, einkaufsliste)`, das `produkt` zu  `einkaufsliste` hinzufügt."
   ]
  },
  {
   "cell_type": "code",
   "execution_count": 20,
   "metadata": {},
   "outputs": [],
   "source": [
    "def kaufe(produkt, einkaufsliste):\n",
    "    einkaufsliste.append(produkt)"
   ]
  },
  {
   "cell_type": "markdown",
   "metadata": {},
   "source": [
    "Fügen Sie `Butter` und `Brot` zur Einkaufsliste `meine_einkaufsliste` hinzu."
   ]
  },
  {
   "cell_type": "code",
   "execution_count": 21,
   "metadata": {},
   "outputs": [],
   "source": [
    "kaufe(\"Butter\", meine_einkaufsliste)\n",
    "kaufe(\"Brot\", meine_einkaufsliste)"
   ]
  },
  {
   "cell_type": "markdown",
   "metadata": {},
   "source": [
    "Drucken Sie beide Einkauslisten nochmal aus."
   ]
  },
  {
   "cell_type": "code",
   "execution_count": 22,
   "metadata": {},
   "outputs": [
    {
     "name": "stdout",
     "output_type": "stream",
     "text": [
      "Einkaufsliste:\n",
      "  Tee\n",
      "  Kaffee\n",
      "  Butter\n",
      "  Brot\n"
     ]
    }
   ],
   "source": [
    "drucke_einkaufsliste(meine_einkaufsliste)"
   ]
  },
  {
   "cell_type": "code",
   "execution_count": 23,
   "metadata": {},
   "outputs": [
    {
     "name": "stdout",
     "output_type": "stream",
     "text": [
      "Einkaufsliste:\n",
      "  Tee\n",
      "  Kaffee\n"
     ]
    }
   ],
   "source": [
    "drucke_einkaufsliste(eine_andere_einkaufsliste)"
   ]
  },
  {
   "cell_type": "markdown",
   "metadata": {},
   "source": [
    "Was passiert, wenn Sie `Butter` und `Brot` nochmals zur Einkaufsliste `meine_einkaufsliste` hinzufügen?"
   ]
  },
  {
   "cell_type": "code",
   "execution_count": 24,
   "metadata": {},
   "outputs": [
    {
     "name": "stdout",
     "output_type": "stream",
     "text": [
      "Einkaufsliste:\n",
      "  Tee\n",
      "  Kaffee\n",
      "  Butter\n",
      "  Brot\n",
      "  Butter\n",
      "  Brot\n"
     ]
    }
   ],
   "source": [
    "kaufe(\"Butter\", meine_einkaufsliste)\n",
    "kaufe(\"Brot\", meine_einkaufsliste)\n",
    "drucke_einkaufsliste(meine_einkaufsliste)"
   ]
  },
  {
   "cell_type": "markdown",
   "metadata": {},
   "source": [
    "# Finden in Listen\n",
    "\n",
    "Schreiben Sie eine Funktion `finde_erste_gerade_zahl(liste)`, die den Index der ersten geraden Zahl in einer Liste von ganzen Zahlen zurückgibt. Falls die Liste keine gerade Zahl enthält soll die Funktion `None` zurückgeben."
   ]
  },
  {
   "cell_type": "code",
   "execution_count": 25,
   "metadata": {},
   "outputs": [],
   "source": [
    "def finde_erste_gerade_zahl(liste):\n",
    "    result = None\n",
    "    for index, zahl in enumerate(liste):\n",
    "        if zahl % 2 == 0:\n",
    "            result = index\n",
    "            break\n",
    "    return result"
   ]
  },
  {
   "cell_type": "markdown",
   "metadata": {},
   "source": [
    "Testen Sie die Funktion für geeignete Argumente."
   ]
  },
  {
   "cell_type": "code",
   "execution_count": 26,
   "metadata": {},
   "outputs": [
    {
     "name": "stdout",
     "output_type": "stream",
     "text": [
      "3\n",
      "None\n",
      "0\n"
     ]
    }
   ],
   "source": [
    "print(finde_erste_gerade_zahl([1, 3, 5, 2, 4, 6]))\n",
    "print(finde_erste_gerade_zahl([1, 3]))\n",
    "print(finde_erste_gerade_zahl([0, 1, 2, 3]))"
   ]
  },
  {
   "cell_type": "markdown",
   "metadata": {},
   "source": [
    "## Mittelwert einer Liste\n",
    "\n",
    "Der Mittelwert der Elemente einer Liste kann iterativ folgendermaßen berechnet werden:\n",
    "\n",
    "- Der Mittelwert $\\mu_0$ der leeren Liste ist (per Definition für diese Lösung) 0\n",
    "- Wenn wir das $n+1$-te Element $x_{n+1}$ hinzufügen, so ist der neue Mittelwert \n",
    "\n",
    "$$\\mu_{n+1} = \\mu_n + \\frac{1}{n+1}(x_{n+1} - \\mu_n)$$\n",
    "\n",
    "Schreiben Sie eine Funktion `mittelwert(liste)`, die den Mittelwert einer Liste iterativ berechnet."
   ]
  },
  {
   "cell_type": "code",
   "execution_count": 39,
   "metadata": {},
   "outputs": [],
   "source": [
    "def mittelwert(zahlen):\n",
    "    ergebnis = 0\n",
    "    for index, value in enumerate(zahlen):\n",
    "        ergebnis += (value - ergebnis) / (index + 1)\n",
    "    return ergebnis"
   ]
  },
  {
   "cell_type": "code",
   "execution_count": 40,
   "metadata": {},
   "outputs": [],
   "source": [
    "assert mittelwert([]) == 0.0"
   ]
  },
  {
   "cell_type": "code",
   "execution_count": 41,
   "metadata": {},
   "outputs": [],
   "source": [
    "assert mittelwert([1]) == 1.0"
   ]
  },
  {
   "cell_type": "code",
   "execution_count": 42,
   "metadata": {},
   "outputs": [],
   "source": [
    "assert mittelwert([1, 2, 3]) == 2.0"
   ]
  },
  {
   "cell_type": "code",
   "execution_count": 43,
   "metadata": {},
   "outputs": [],
   "source": [
    "assert mittelwert(range(11)) == 5.0"
   ]
  },
  {
   "cell_type": "code",
   "execution_count": 47,
   "metadata": {},
   "outputs": [],
   "source": [
    "# Alternative Implementierung\n",
    "def mittelwert2(zahlen):\n",
    "    if zahlen:\n",
    "        ergebnis = 0\n",
    "        for zahl in zahlen:\n",
    "            ergebnis += zahl\n",
    "        return ergebnis / len(zahlen)\n",
    "    return 0"
   ]
  },
  {
   "cell_type": "code",
   "execution_count": 48,
   "metadata": {},
   "outputs": [
    {
     "data": {
      "text/plain": [
       "0"
      ]
     },
     "execution_count": 48,
     "metadata": {},
     "output_type": "execute_result"
    }
   ],
   "source": [
    "mittelwert2([])"
   ]
  },
  {
   "cell_type": "code",
   "execution_count": 49,
   "metadata": {},
   "outputs": [],
   "source": [
    "def assert_mittelwert_equal(liste):\n",
    "    assert mittelwert(liste) == mittelwert2(liste)"
   ]
  },
  {
   "cell_type": "code",
   "execution_count": 50,
   "metadata": {},
   "outputs": [],
   "source": [
    "assert_mittelwert_equal([])\n",
    "assert_mittelwert_equal([1, 2, 3])\n",
    "assert_mittelwert_equal(list(range(10)))"
   ]
  },
  {
   "cell_type": "markdown",
   "metadata": {},
   "source": [
    "# Quadratzahlen\n",
    "\n",
    "Gegeben sei die folgende Liste mit Zahlen."
   ]
  },
  {
   "cell_type": "code",
   "execution_count": 31,
   "metadata": {},
   "outputs": [],
   "source": [
    "zahlen = [1, 7, 4, 87, 23]"
   ]
  },
  {
   "cell_type": "markdown",
   "metadata": {},
   "source": [
    "Erzeugen Sie eine neue Liste, die die Quadrate der Zahlen in `zahlen` enthält."
   ]
  },
  {
   "cell_type": "code",
   "execution_count": 32,
   "metadata": {},
   "outputs": [
    {
     "data": {
      "text/plain": [
       "[1, 49, 16, 7569, 529]"
      ]
     },
     "execution_count": 32,
     "metadata": {},
     "output_type": "execute_result"
    }
   ],
   "source": [
    "result = []\n",
    "for n in zahlen:\n",
    "    result.append(n * n)\n",
    "result"
   ]
  },
  {
   "cell_type": "markdown",
   "metadata": {},
   "source": [
    "Schreiben Sie eine Funktion `quadriere(zahlen)`, die eine neue Liste mit den Quadraten der Zahlen in `zahlen` zurückgibt."
   ]
  },
  {
   "cell_type": "code",
   "execution_count": 33,
   "metadata": {},
   "outputs": [],
   "source": [
    "def quadriere(zahlen):\n",
    "    result = []\n",
    "    for n in zahlen:\n",
    "        result.append(n * n)\n",
    "    return result"
   ]
  },
  {
   "cell_type": "code",
   "execution_count": 34,
   "metadata": {},
   "outputs": [
    {
     "data": {
      "text/plain": [
       "[1, 49, 16, 7569, 529]"
      ]
     },
     "execution_count": 34,
     "metadata": {},
     "output_type": "execute_result"
    }
   ],
   "source": [
    "quadriere(zahlen)"
   ]
  },
  {
   "cell_type": "markdown",
   "metadata": {},
   "source": [
    "# Filtern\n",
    "\n",
    "Gegeben sei die folgende Liste mit Zahlen:"
   ]
  },
  {
   "cell_type": "code",
   "execution_count": 35,
   "metadata": {},
   "outputs": [],
   "source": [
    "zahlen = [1, 183, 7, 4, 87, 10, 23, -12, 493, 11]"
   ]
  },
  {
   "cell_type": "markdown",
   "metadata": {},
   "source": [
    "Erzeugen Sie eine neue Liste, die alle Zahlen in `zahlen` enthält, die größer als 10 sind."
   ]
  },
  {
   "cell_type": "code",
   "execution_count": 36,
   "metadata": {},
   "outputs": [
    {
     "data": {
      "text/plain": [
       "[183, 87, 23, 493, 11]"
      ]
     },
     "execution_count": 36,
     "metadata": {},
     "output_type": "execute_result"
    }
   ],
   "source": [
    "result = []\n",
    "for n in zahlen:\n",
    "    if n > 10:\n",
    "        result.append(n)\n",
    "result"
   ]
  },
  {
   "cell_type": "markdown",
   "metadata": {},
   "source": [
    "Schreiben Sie eine Funktion `zahlen_größer_als_10(zahlen)`, die eine neue Liste zurückgibt, die die Zahlen aus `zahlen` enthält, die größer als 10 sind."
   ]
  },
  {
   "cell_type": "code",
   "execution_count": 37,
   "metadata": {},
   "outputs": [],
   "source": [
    "def zahlen_größer_als_10(zahlen):\n",
    "    result = []\n",
    "    for n in zahlen:\n",
    "        if n > 10:\n",
    "            result.append(n)\n",
    "    return result"
   ]
  },
  {
   "cell_type": "code",
   "execution_count": 38,
   "metadata": {},
   "outputs": [
    {
     "data": {
      "text/plain": [
       "[183, 87, 23, 493, 11]"
      ]
     },
     "execution_count": 38,
     "metadata": {},
     "output_type": "execute_result"
    }
   ],
   "source": [
    "zahlen_größer_als_10(zahlen)"
   ]
  },
  {
   "cell_type": "markdown",
   "metadata": {},
   "source": [
    "# Quadratzahlen mit Listen-Komprehension\n",
    "\n",
    "Erzeugen Sie eine neue Liste mit den Quadraten von `zahlen`. Verwenden Sie dazu eine Listen-Komprehension"
   ]
  },
  {
   "cell_type": "code",
   "execution_count": 39,
   "metadata": {},
   "outputs": [
    {
     "data": {
      "text/plain": [
       "[1, 33489, 49, 16, 7569, 100, 529, 144, 243049, 121]"
      ]
     },
     "execution_count": 39,
     "metadata": {},
     "output_type": "execute_result"
    }
   ],
   "source": [
    "[n * n for n in zahlen]"
   ]
  },
  {
   "cell_type": "markdown",
   "metadata": {},
   "source": [
    "Schreiben Sie die Funktion `quadriere(zahlen)` mit Listen-Komprehension."
   ]
  },
  {
   "cell_type": "code",
   "execution_count": 40,
   "metadata": {},
   "outputs": [],
   "source": [
    "def quadriere(zahlen):\n",
    "    return [n * n for n in zahlen]"
   ]
  },
  {
   "cell_type": "code",
   "execution_count": 41,
   "metadata": {},
   "outputs": [
    {
     "data": {
      "text/plain": [
       "[1, 33489, 49, 16, 7569, 100, 529, 144, 243049, 121]"
      ]
     },
     "execution_count": 41,
     "metadata": {},
     "output_type": "execute_result"
    }
   ],
   "source": [
    "quadriere(zahlen)"
   ]
  },
  {
   "cell_type": "markdown",
   "metadata": {},
   "source": [
    "# Filtern mit Listen-Komprehension\n",
    "\n",
    "Erzeugen Sie eine neue Liste, die alle Zahlen in `zahlen` enthält, die größer als 10 sind. Verwenden Sie dazu Listen-Komprehension."
   ]
  },
  {
   "cell_type": "code",
   "execution_count": 42,
   "metadata": {},
   "outputs": [
    {
     "data": {
      "text/plain": [
       "[183, 87, 23, 493, 11]"
      ]
     },
     "execution_count": 42,
     "metadata": {},
     "output_type": "execute_result"
    }
   ],
   "source": [
    "[n for n in zahlen if n > 10]"
   ]
  },
  {
   "cell_type": "markdown",
   "metadata": {},
   "source": [
    "Schreiben Sie die Funktion `zahlen_größer_als_10(zahlen)` mit Listen-Komprehension."
   ]
  },
  {
   "cell_type": "code",
   "execution_count": 43,
   "metadata": {},
   "outputs": [],
   "source": [
    "def zahlen_größer_als_10(zahlen):\n",
    "    return [n for n in zahlen if n > 10]"
   ]
  },
  {
   "cell_type": "code",
   "execution_count": 44,
   "metadata": {},
   "outputs": [
    {
     "data": {
      "text/plain": [
       "[183, 87, 23, 493, 11]"
      ]
     },
     "execution_count": 44,
     "metadata": {},
     "output_type": "execute_result"
    }
   ],
   "source": [
    "zahlen_größer_als_10(zahlen)"
   ]
  },
  {
   "cell_type": "markdown",
   "metadata": {},
   "source": [
    "Schreiben Sie eine Funktion `quadrate_von_zahlen_kleiner_10(zahlen)`, die eine neue Liste zurückgibt, die die Quadrate aller Zahlen < 10 aus `zahlen` enthält."
   ]
  },
  {
   "cell_type": "code",
   "execution_count": 45,
   "metadata": {},
   "outputs": [],
   "source": [
    "def quadrate_von_zahlen_kleiner_10(zahlen):\n",
    "    return [n * n for n in zahlen if n < 10]"
   ]
  },
  {
   "cell_type": "code",
   "execution_count": 46,
   "metadata": {},
   "outputs": [
    {
     "data": {
      "text/plain": [
       "[1, 183, 7, 4, 87, 10, 23, -12, 493, 11]"
      ]
     },
     "execution_count": 46,
     "metadata": {},
     "output_type": "execute_result"
    }
   ],
   "source": [
    "zahlen"
   ]
  },
  {
   "cell_type": "code",
   "execution_count": 47,
   "metadata": {},
   "outputs": [
    {
     "data": {
      "text/plain": [
       "[1, 49, 16, 144]"
      ]
     },
     "execution_count": 47,
     "metadata": {},
     "output_type": "execute_result"
    }
   ],
   "source": [
    "quadrate_von_zahlen_kleiner_10(zahlen)"
   ]
  }
 ],
 "metadata": {
  "kernelspec": {
   "display_name": "Python 3",
   "language": "python",
   "name": "python3"
  },
  "language_info": {
   "codemirror_mode": {
    "name": "ipython",
    "version": 3
   },
   "file_extension": ".py",
   "mimetype": "text/x-python",
   "name": "python",
   "nbconvert_exporter": "python",
   "pygments_lexer": "ipython3",
   "version": "3.7.6"
  }
 },
 "nbformat": 4,
 "nbformat_minor": 4
}
