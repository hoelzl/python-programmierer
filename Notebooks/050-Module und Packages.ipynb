{
 "cells": [
  {
   "cell_type": "markdown",
   "metadata": {
    "slideshow": {
     "slide_type": "slide"
    }
   },
   "source": [
    "<img src=\"img/python-logo-notext.svg\"\n",
    "     style=\"display:block;margin:auto;width:10%\"/>\n",
    "<h1 style=\"text-align:center;\">Python: Module und Packages<br/><br/>\n",
    "    Mit Exkursionen zu Argparse, Pytest, Setuptools<h1>\n",
    "<h2 style=\"text-align:center;\">Coding Akademie München GmbH</h2>\n",
    "<br/>\n",
    "<div style=\"text-align:center;\">Dr. Matthias Hölzl</div>\n",
    "<div style=\"text-align:center;\">Allaithy Raed</div>"
   ]
  },
  {
   "cell_type": "markdown",
   "metadata": {
    "pycharm": {
     "name": "#%% md\n"
    },
    "slideshow": {
     "slide_type": "slide"
    }
   },
   "source": [
    "- Der Python Interpreter bietet nur einen kleinen Teil der für die meisten\n",
    "  Programme benötigten Funktionalität\n",
    "  - Kein Interaktion mit dem Betriebssystem\n",
    "  - Kein Netzwerkfunktionalität\n",
    "  - Keine GUI\n",
    "  - ...\n",
    "- Durch *Module* und *Packages* kann diese Funktionalität bei Bedarf geladen\n",
    "  werden."
   ]
  },
  {
   "cell_type": "code",
   "execution_count": null,
   "metadata": {
    "slideshow": {
     "slide_type": "subslide"
    }
   },
   "outputs": [],
   "source": [
    "# Importieren eines Moduls/Packages\n",
    "import os"
   ]
  },
  {
   "cell_type": "code",
   "execution_count": null,
   "metadata": {
    "pycharm": {
     "name": "#%%\n"
    }
   },
   "outputs": [],
   "source": [
    "# Verwenden der Funktionalität\n",
    "os.getcwd()"
   ]
  },
  {
   "cell_type": "markdown",
   "metadata": {
    "pycharm": {
     "name": "#%% md\n"
    },
    "slideshow": {
     "slide_type": "subslide"
    }
   },
   "source": [
    "Python bietet viele Standardmodule an, die mit dem Interpreter installiert\n",
    "werden:\n",
    "\n",
    "- abc: Abstract base classes\n",
    "- argparse: Kommandozeilenargumente\n",
    "- asyncio: Asynchrone Programmierung\n",
    "- collections: Container-Datentypen\n",
    "- ...\n",
    "\n",
    "[Hier](https://docs.python.org/3/py-modindex.html) ist eine vollständigere Liste."
   ]
  },
  {
   "cell_type": "code",
   "execution_count": null,
   "metadata": {
    "pycharm": {
     "name": "#%%\n"
    },
    "slideshow": {
     "slide_type": "subslide"
    }
   },
   "outputs": [],
   "source": [
    "import os\n",
    "{'num-cpus': os.cpu_count(), 'pid': os.getpid()}"
   ]
  },
  {
   "cell_type": "code",
   "execution_count": null,
   "metadata": {
    "pycharm": {
     "name": "#%%\n"
    }
   },
   "outputs": [],
   "source": [
    "import ast\n",
    "ast.dump(ast.parse('print(123)'), False)"
   ]
  },
  {
   "cell_type": "markdown",
   "metadata": {
    "slideshow": {
     "slide_type": "subslide"
    }
   },
   "source": [
    "## Beispiel: `HttpServer`\n",
    "\n",
    "Der Python Interpreter hat keinen eingebauten HTTP Server. Mittels der Standardbibliothek ist es aber nicht schwer einen zu schreiben."
   ]
  },
  {
   "cell_type": "markdown",
   "metadata": {
    "pycharm": {
     "name": "#%% md\n"
    },
    "slideshow": {
     "slide_type": "slide"
    }
   },
   "source": [
    "## Benutzerdefinierte Module\n",
    "\n",
    "Ein benutzerdefiniertes Modul ist eine Datei mit Python-Code.\n",
    "\n",
    "Wie wir schon gesehen haben:\n",
    "- Wenn sich ein Python-Modul im Suchpfad befindet, kann es mit `import` geladen werden.\n",
    "- Jupyter Notebooks lassen sich nicht (ohne zusätzliche Pakete) als Module laden. "
   ]
  },
  {
   "cell_type": "code",
   "execution_count": null,
   "metadata": {
    "pycharm": {
     "name": "#%%\n"
    },
    "slideshow": {
     "slide_type": "subslide"
    }
   },
   "outputs": [],
   "source": [
    "# Welche Python-Dateien gibt es im aktuellen Verzeichnis?\n",
    "for filename in os.listdir(os.getcwd()):\n",
    "    if filename[-3:] == '.py':\n",
    "        print(filename)"
   ]
  },
  {
   "cell_type": "code",
   "execution_count": null,
   "metadata": {
    "slideshow": {
     "slide_type": "subslide"
    }
   },
   "outputs": [],
   "source": [
    "# Anzeigen des Quellcodes von `my_test_module.py`\n",
    "# %pycat my_test_module.py"
   ]
  },
  {
   "cell_type": "code",
   "execution_count": null,
   "metadata": {
    "pycharm": {
     "name": "#%%\n"
    },
    "slideshow": {
     "slide_type": "subslide"
    }
   },
   "outputs": [],
   "source": [
    "# Andere Möglichkeit, den Inhalt von `my_test_module.py` anzuzeigen.\n",
    "with open('my_test_module.py', 'r') as file:\n",
    "    text = file.read()\n",
    "    \n",
    "print(text)"
   ]
  },
  {
   "cell_type": "code",
   "execution_count": null,
   "metadata": {
    "pycharm": {
     "name": "#%%\n"
    },
    "slideshow": {
     "slide_type": "slide"
    }
   },
   "outputs": [],
   "source": [
    "# Top-level code wird ausgeführt\n",
    "import my_test_module"
   ]
  },
  {
   "cell_type": "code",
   "execution_count": null,
   "metadata": {},
   "outputs": [],
   "source": [
    "# Top-level code wird NICHT mehr ausgeführt\n",
    "import my_test_module"
   ]
  },
  {
   "cell_type": "code",
   "execution_count": null,
   "metadata": {
    "pycharm": {
     "name": "#%%\n"
    },
    "slideshow": {
     "slide_type": "subslide"
    }
   },
   "outputs": [],
   "source": [
    "my_test_module.add1(2)"
   ]
  },
  {
   "cell_type": "code",
   "execution_count": null,
   "metadata": {
    "pycharm": {
     "name": "#%%\n"
    }
   },
   "outputs": [],
   "source": [
    "# add1"
   ]
  },
  {
   "cell_type": "code",
   "execution_count": null,
   "metadata": {
    "slideshow": {
     "slide_type": "subslide"
    }
   },
   "outputs": [],
   "source": [
    "import my_test_module as mm"
   ]
  },
  {
   "cell_type": "code",
   "execution_count": null,
   "metadata": {},
   "outputs": [],
   "source": [
    "mm.add1(1)"
   ]
  },
  {
   "cell_type": "code",
   "execution_count": null,
   "metadata": {},
   "outputs": [],
   "source": [
    "mm.perform_complex_computation(17)"
   ]
  },
  {
   "cell_type": "code",
   "execution_count": null,
   "metadata": {
    "slideshow": {
     "slide_type": "subslide"
    }
   },
   "outputs": [],
   "source": [
    "from my_test_module import multiply_by_2 as mult2"
   ]
  },
  {
   "cell_type": "code",
   "execution_count": null,
   "metadata": {},
   "outputs": [],
   "source": [
    "mult2(4)"
   ]
  },
  {
   "cell_type": "code",
   "execution_count": null,
   "metadata": {
    "slideshow": {
     "slide_type": "subslide"
    }
   },
   "outputs": [],
   "source": [
    "# Im Regelfall besser vermeiden:\n",
    "from my_test_module import *"
   ]
  },
  {
   "cell_type": "code",
   "execution_count": null,
   "metadata": {},
   "outputs": [],
   "source": [
    "multiply_by_2(3)"
   ]
  },
  {
   "cell_type": "code",
   "execution_count": null,
   "metadata": {},
   "outputs": [],
   "source": [
    "add1(3)"
   ]
  },
  {
   "cell_type": "code",
   "execution_count": null,
   "metadata": {
    "slideshow": {
     "slide_type": "slide"
    }
   },
   "outputs": [],
   "source": [
    "# Anzeigen aller definierten Namen:\n",
    "dir(my_test_module)"
   ]
  },
  {
   "cell_type": "code",
   "execution_count": null,
   "metadata": {
    "slideshow": {
     "slide_type": "subslide"
    }
   },
   "outputs": [],
   "source": [
    "[name for name in dir(my_test_module) if name[0] != '_']"
   ]
  },
  {
   "cell_type": "markdown",
   "metadata": {
    "slideshow": {
     "slide_type": "subslide"
    }
   },
   "source": [
    "### Beispiel: `ModuleTest`\n",
    "\n",
    "Das `ModuleTest` Beispiel zeigt, wie ein Programm aus mehreren Modulen bestehen kann."
   ]
  },
  {
   "cell_type": "code",
   "execution_count": null,
   "metadata": {},
   "outputs": [],
   "source": [
    "__name__"
   ]
  },
  {
   "cell_type": "markdown",
   "metadata": {
    "slideshow": {
     "slide_type": "slide"
    }
   },
   "source": [
    "## Packages\n",
    "\n",
    "- Methode um Module mit zu strukturieren: `a.b.c`, `a.b.x`\n",
    "- Ein Package ist eine Zusammenfassung von mehreren Modulen\n",
    "- `b` ist Sub-Package von `a`, `c` und `x` sind Submodule von `b`"
   ]
  },
  {
   "cell_type": "code",
   "execution_count": null,
   "metadata": {
    "slideshow": {
     "slide_type": "subslide"
    }
   },
   "outputs": [],
   "source": [
    "from html.parser import HTMLParser\n",
    "import html.entities"
   ]
  },
  {
   "cell_type": "code",
   "execution_count": null,
   "metadata": {},
   "outputs": [],
   "source": [
    "html.entities.entitydefs['Psi']"
   ]
  },
  {
   "cell_type": "markdown",
   "metadata": {
    "slideshow": {
     "slide_type": "subslide"
    }
   },
   "source": [
    "### Struktur von Packages\n",
    "\n",
    "- Hierarchie durch Verzeichnisse und Python Dateien\n",
    "  - Z.B. Verzeichnis `html` mit Unterverzeichnissen `parser`, `entities`\n",
    "- Benötigt eine `__init__.py` Datei in jedem Verzeichnis, aus dem Code importiert werden soll\n",
    "- Die `__init__.py` Datei kann leer sein (und ist oft leer)"
   ]
  },
  {
   "cell_type": "markdown",
   "metadata": {
    "slideshow": {
     "slide_type": "subslide"
    }
   },
   "source": [
    "<img src=\"img/package-structure.png\" alt=\"Package structure\"\n",
    "     style=\"display:block;margin:auto;width:40%\"></img>"
   ]
  },
  {
   "cell_type": "markdown",
   "metadata": {
    "slideshow": {
     "slide_type": "subslide"
    }
   },
   "source": [
    "### Finden von Packages\n",
    "\n",
    "- Python sucht in `sys.path` nach dem Package-Verzeichnis.\n",
    "- Dieser kann durch die Environment-Variable `PYTHONPATH` oder direkt von Python aus beeinflusst werden.\n",
    "- In den meisten Fällen ist es besser, keine komplizierten Operationen an `sys.path` vorzunehmen."
   ]
  },
  {
   "cell_type": "markdown",
   "metadata": {
    "slideshow": {
     "slide_type": "slide"
    }
   },
   "source": [
    "### Das `import` statement\n",
    "\n",
    "`import a.b.c`:\n",
    "\n",
    "- `a` und `b` müssen Packages (Verzeichnisse) sein\n",
    "- `c` kann ein Modul oder ein Package sein"
   ]
  },
  {
   "cell_type": "markdown",
   "metadata": {
    "slideshow": {
     "slide_type": "subslide"
    }
   },
   "source": [
    "`from a.b.c import d`\n",
    "- `a` und `b` müssen Packages sein\n",
    "- `c` kann ein Modul oder ein Package sein\n",
    "- `d` kann ein Modul, ein Package oder ein Name (d.h. eine Variable, eine Funktion, eine Klasse, usw.) sein"
   ]
  },
  {
   "cell_type": "markdown",
   "metadata": {
    "slideshow": {
     "slide_type": "subslide"
    }
   },
   "source": [
    "### Referenzen innerhalb eines Packages\n",
    "\n",
    "- `from . import a` importiert `a` aus dem aktuellen Modul\n",
    "- `from .. import a` importiert `a` aus dem übergeordneten Modul\n",
    "- `from .foo import a` importiert `a` aus dem \"Geschwistermodul\" `foo`"
   ]
  },
  {
   "cell_type": "markdown",
   "metadata": {
    "slideshow": {
     "slide_type": "subslide"
    }
   },
   "source": [
    "## Beispiel: `MessageQueue`\n",
    "\n",
    "Das `MessageQueue` Beispiel zeigt, wie ein Programm aus mehreren Packages bestehen kann."
   ]
  },
  {
   "cell_type": "markdown",
   "metadata": {
    "slideshow": {
     "slide_type": "slide"
    }
   },
   "source": [
    "## Argparse: Verarbeiten von Command Line Arguments\n",
    "\n",
    "- Für viele Anwendungsfälle ist eine Kommandozeilenanwendung ausreichend\n",
    "- Die manuelle Verarbeitung von Argumenten ist relativ aufwändig\n",
    "- Python bietet mit `argparse` eine sehr gute Bibliothek, die viele häufige Anwendungsfälle deutlich vereinfacht"
   ]
  },
  {
   "cell_type": "markdown",
   "metadata": {
    "slideshow": {
     "slide_type": "subslide"
    }
   },
   "source": [
    "### Bestandteile von Argparse:\n",
    "\n",
    "- Klasse `argparse.ArgumentParser` zum Erzeugen eines Kommandozeilen-Parsers\n",
    "- Methode `add_argument()` zum Definieren von Argumenten\n",
    "  - Name, Varianten (z.B. `-l`, `--list`)\n",
    "  - Argumente (z.B. `gcc -o myprog`)\n",
    "  - Aktion, die ausgeführt werden soll\n",
    "  - Hilfetext für die Dokumentation\n",
    "  - usw.\n",
    "- Methode `parse_args()` zum Auswerten der Kommandozeile\n",
    "- Viele weiter Möglichkeiten:\n",
    "  - Subkommandos (`git status`, `git push`, ...)\n",
    "  - Sich gegenseitig ausschließende Argumente (`--case-fold`, `--no-case-fold`)"
   ]
  },
  {
   "cell_type": "markdown",
   "metadata": {
    "slideshow": {
     "slide_type": "slide"
    }
   },
   "source": [
    "# Pytest: Testen in Python\n",
    "\n",
    "- Python bietet mehrere eingebaute Pakete zum Schreiben von Unit-Tests und Dokumentationstests an (`unittest` und `doctest`).\n",
    "- Viele Projekte verwenden trotzdem das `pytest` Paket, da es viel \"Boilerplate\" beim Schreiben von Tests vermeidet.\n",
    "- `pytest` kann `unittest` und `doctest`-Tests ausführen."
   ]
  },
  {
   "cell_type": "markdown",
   "metadata": {
    "slideshow": {
     "slide_type": "subslide"
    }
   },
   "source": [
    "## Installation von Pytest\n",
    "\n",
    "Pytest ist in der Anaconda-Installation vorinstalliert\n",
    "\n",
    "Beim Verwenden der Standard Python Distribution kann es mit\n",
    "```shell\n",
    "pip install pytest\n",
    "```\n",
    "installiert werden "
   ]
  },
  {
   "cell_type": "markdown",
   "metadata": {
    "slideshow": {
     "slide_type": "subslide"
    }
   },
   "source": [
    "## Schreiben von Tests\n",
    "\n",
    "- Pytest kann sehr flexibel konfiguriert werden\n",
    "- Wir verwenden nur die einfachsten Features und verlassen uns auf die automatische Konfiguration\n",
    "- Tests für ein Paket werden in einem Unter-Package `test` geschrieben\n",
    "- Tests für die Datei `foo.py` sind in der Datei `test/foo_test.py`\n",
    "- Jeder Test ist eine Funktion, deren Name mit `test` beginnt\n",
    "- Assertions werden mit der `assert` Anweisung geschrieben"
   ]
  },
  {
   "cell_type": "markdown",
   "metadata": {
    "slideshow": {
     "slide_type": "subslide"
    }
   },
   "source": [
    "## Beispiel Testen von `MessageQueueDist`\n",
    "\n",
    "Siehe `Examples/MessageQueueDist`"
   ]
  },
  {
   "cell_type": "markdown",
   "metadata": {
    "slideshow": {
     "slide_type": "slide"
    }
   },
   "source": [
    "# Setuptools: Distribution von Python Packeten\n",
    "\n",
    "- Setuptools sind das Standard-Tool um installierbare Python-Pakete zu erzeugen.\n",
    "- Das Wort \"Packages\" ist in der Python Welt überladen:\n",
    "    - Sammlung von Python Dateien wie in diesem Kapitel beschrieben\n",
    "    - Distribution einer installierbaren Version einer Bibliothek (\"wheel\"), die dann importiert werden kann."
   ]
  },
  {
   "cell_type": "markdown",
   "metadata": {
    "slideshow": {
     "slide_type": "subslide"
    }
   },
   "source": [
    "### Beispiel: Erstellen einer Anwendung mit Bibliothek\n",
    "\n",
    "- Hinzufügen einer `setup.py`-Datei mit Information über die zu installierenden Packages und Skripte\n",
    "- Hinzufügen einiger Hilfsdateien (`README.md`, `LICENSE`)\n",
    "- Erstellen der Distribution mit `python setup.py bdist_wheel`\n",
    "- Installation mit `pip` und dem generierten Wheel\n",
    "- Installation während der Entwicklung: `pip install -e .`"
   ]
  }
 ],
 "metadata": {
  "celltoolbar": "Slideshow",
  "kernelspec": {
   "display_name": "Python 3",
   "language": "python",
   "name": "python3"
  },
  "language_info": {
   "codemirror_mode": {
    "name": "ipython",
    "version": 3
   },
   "file_extension": ".py",
   "mimetype": "text/x-python",
   "name": "python",
   "nbconvert_exporter": "python",
   "pygments_lexer": "ipython3",
   "version": "3.8.2"
  }
 },
 "nbformat": 4,
 "nbformat_minor": 1
}
