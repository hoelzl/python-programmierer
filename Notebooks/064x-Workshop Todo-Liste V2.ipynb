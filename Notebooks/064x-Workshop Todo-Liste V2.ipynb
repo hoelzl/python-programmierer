{
 "cells": [
  {
   "cell_type": "markdown",
   "metadata": {},
   "source": [
    "# Todo-Liste\n",
    "\n",
    "## Grundlegende Funktionalität\n",
    "\n",
    "In diesem Workshop wollen wir zum dritten Mal eine Todo-Liste implementieren, aber dabei sowohl die Liste als auch die Einträge durch Instanzen von Klassen darstellen und die Implementierung in den Klassen kapseln.\n",
    "\n",
    "Es empfiehlt sich, diesen Workshop in einer IDE zu bearbeiten, da die letzten Teilaufgaben in Notebooks nicht sinnvoll implementiert werden können. Schreiben Sie Tests zu jeder implementierten Methode, entweder indem Sie im TDD-Stil Test-First arbeiten oder indem Sie unmittlebar nach der Implementierung einer Methode Unit-Tests dafür schreiben.\n",
    "\n",
    "Jeder Eintrag in der Todo-Liste soll wieder folgende Information enthalten:\n",
    "\n",
    "- Titel\n",
    "- Priorität\n",
    "- Wurde das Item schon erledigt oder nicht?\n",
    "\n",
    "Definieren Sie eine Klasse `TodoItem`, die diese Daten kapselt. \n",
    "\n",
    "Implementieren Sie eine `__init__()`-Methode, die Titel als obligatorisches Argument bekommt. Priorität und \"wurde erledigt\" sollen optionale Parameter mit Weren 1 bzw. `False` sein.\n",
    "\n",
    "Implementieren Sie Methoden `__str__(self)` und `__repr__(self)`, die Instanzen der Klasse in Strings umwandeln."
   ]
  },
  {
   "cell_type": "code",
   "execution_count": null,
   "metadata": {
    "pycharm": {
     "name": "#%%\n"
    }
   },
   "outputs": [],
   "source": []
  },
  {
   "cell_type": "markdown",
   "metadata": {},
   "source": [
    "Definieren Sie eine Klasse `TodoList`, die eine Todo-Liste repräsentiert.\n",
    "\n",
    "Implementieren Sie eine `__init__()` Methode, die eine Liste von TodoItems als Argument bekommt und speichert.\n",
    "\n",
    "Fügen Sie folgende Methoden hinzu:\n",
    "\n",
    "- `add(self, title: str, priority: int, is_completed: bool)`, die ein neues Todo-Item an die Todo-Liste anhängt und \n",
    "  geeignete Default-Werte für `priority` und `is_completed` übergibt.\n",
    "- `mark_done(self, title)`, die das erste in der Liste vorkommende Todo-Item mit Titel `title`, das noch nicht bearbeitet ist, als bearbeitet markiert.\n",
    "- NO! `delete(self, title)`, die das erste in der Liste vorkommende Todo-Item mit Titel `title` aus der Liste entfernt.\n",
    "- NO! `delete_all_completed(self)`, die alle beendeten Items aus der Liste entfernt.\n",
    "- `__str__(self)` und `__repr__(self)`\n",
    "- NO! `__iter__(self)`, so dass in einer `for`-Schleife über alle in der Todo-Liste enthaltenen TodoItems iteriert werden kann.\n",
    "\n",
    "<!--\n",
    "*Hinweis*: Kopieren Sie die Implementierung der Methoden aus `062z-Lösung Todo-Liste V1` oder ihrer vorherigen Implementierung und passen Sie den Code an.\n",
    "-->"
   ]
  },
  {
   "cell_type": "code",
   "execution_count": null,
   "metadata": {
    "pycharm": {
     "name": "#%%\n"
    }
   },
   "outputs": [],
   "source": []
  },
  {
   "cell_type": "markdown",
   "metadata": {},
   "source": [
    "## Laden und Speichern\n",
    "\n",
    "Erweitern Sie die Klasse `TodoList` um eine Methode\n",
    "\n",
    "```save_to_file(self, file)```\n",
    "\n",
    "und eine statische Methode\n",
    "\n",
    "```load_from_file(file)```\n",
    "\n",
    "mit der Todo-Listen gespeichert und geladen werden können.\n",
    "\n",
    "*Hinweis:* Am Einfachsten ist das mit der `pickle` Bibliothek."
   ]
  },
  {
   "cell_type": "code",
   "execution_count": null,
   "metadata": {},
   "outputs": [],
   "source": []
  },
  {
   "cell_type": "markdown",
   "metadata": {},
   "source": [
    "## Kommandozeilenargumente\n",
    "\n",
    "Fügen Sie eine Datei `__main__.py` zu Ihrer Implementierung hinzu, die einen `ArgumentParser` instanziiert, der folgendes Interface bereitstellt:\n",
    "\n",
    "```[shell]\n",
    "usage: Manage a TODO list.\n",
    "    [-h]\n",
    "    (--create \n",
    "      | --add title priority \n",
    "      | --delete title\n",
    "      | --mark-completed title \n",
    "      | --delete-all-completed \n",
    "      | --list)\n",
    "    file\n",
    "\n",
    "positional arguments:\n",
    "  file\n",
    "\n",
    "optional arguments:\n",
    "  -h, --help            show this help message and exit\n",
    "  --create\n",
    "  --add title priority\n",
    "  --delete title\n",
    "  --mark-completed title\n",
    "  --delete-all-completed\n",
    "  --list\n",
    "```"
   ]
  },
  {
   "cell_type": "code",
   "execution_count": null,
   "metadata": {},
   "outputs": [],
   "source": []
  },
  {
   "cell_type": "markdown",
   "metadata": {},
   "source": [
    "## Packaging\n",
    "\n",
    "Fügen Sie eine `setup.py` Datei, sowie alle weiteren benötigten Dateien zu Ihrem Projekt hinzu, um daraus eine Wheel-Datei zu generieren.\n",
    "\n",
    "Erzeugen Sie in der `setup.py`-Datei ein Skript, das Ihre Anwendung startet."
   ]
  },
  {
   "cell_type": "code",
   "execution_count": null,
   "metadata": {},
   "outputs": [],
   "source": []
  }
 ],
 "metadata": {
  "kernelspec": {
   "display_name": "Python 3",
   "language": "python",
   "name": "python3"
  },
  "language_info": {
   "codemirror_mode": {
    "name": "ipython",
    "version": 3
   },
   "file_extension": ".py",
   "mimetype": "text/x-python",
   "name": "python",
   "nbconvert_exporter": "python",
   "pygments_lexer": "ipython3",
   "version": "3.8.10"
  }
 },
 "nbformat": 4,
 "nbformat_minor": 4
}
