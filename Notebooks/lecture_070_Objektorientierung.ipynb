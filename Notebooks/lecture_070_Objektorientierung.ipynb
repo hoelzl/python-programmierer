{
 "cells": [
  {
   "cell_type": "markdown",
   "metadata": {
    "slideshow": {
     "slide_type": "slide"
    }
   },
   "source": [
    "<img src=\"img/python-logo-notext.svg\"\n",
    "     style=\"display:block;margin:auto;width:10%\"/>\n",
    "<h1 style=\"text-align:center;\">Python: Objektorientierung</h1>\n",
    "<h2 style=\"text-align:center;\">Coding Akademie München GmbH</h2>\n",
    "<br/>\n",
    "<div style=\"text-align:center;\">Dr. Matthias Hölzl</div>\n",
    "<div style=\"text-align:center;\">Allaithy Raed</div>"
   ]
  },
  {
   "cell_type": "markdown",
   "metadata": {
    "slideshow": {
     "slide_type": "slide"
    }
   },
   "source": [
    "# Objektorientierung Teil 2\n",
    "\n",
    "- Wir haben im vorherigen Kapitel Klassen kennengelernt, einen der grundlegenden Baustein der objektorientierten Programmierung\n",
    "- In diesem Kapitel werden wir Vererbung betrachten."
   ]
  },
  {
   "cell_type": "markdown",
   "metadata": {
    "slideshow": {
     "slide_type": "subslide"
    }
   },
   "source": [
    "## Attribute von Klassen"
   ]
  },
  {
   "cell_type": "code",
   "execution_count": null,
   "metadata": {},
   "outputs": [],
   "source": [
    "class CountedAdder:\n",
    "    num_counters = 0\n",
    "    \n",
    "    def __init__(self, value):\n",
    "        CountedAdder.num_counters += 1\n",
    "        self.value = value\n",
    "    \n",
    "    def describe(self):\n",
    "        print(f\"One of {CountedAdder.num_counters} adders. \"\n",
    "              f\"This one adds {self.value} to its argument.\")\n",
    "    \n",
    "    def add(self, n):\n",
    "        return self.value + n"
   ]
  },
  {
   "cell_type": "code",
   "execution_count": null,
   "metadata": {
    "slideshow": {
     "slide_type": "subslide"
    }
   },
   "outputs": [],
   "source": [
    "print(CountedAdder.num_counters)\n",
    "a1 = CountedAdder(10)\n",
    "print(CountedAdder.num_counters)\n",
    "a2 = CountedAdder(20)\n",
    "print(CountedAdder.num_counters)"
   ]
  },
  {
   "cell_type": "code",
   "execution_count": null,
   "metadata": {
    "slideshow": {
     "slide_type": "subslide"
    }
   },
   "outputs": [],
   "source": [
    "print(a1.add(1))\n",
    "print(a2.add(2))"
   ]
  },
  {
   "cell_type": "code",
   "execution_count": null,
   "metadata": {
    "slideshow": {
     "slide_type": "-"
    }
   },
   "outputs": [],
   "source": [
    "a1.describe()\n",
    "a2.describe()"
   ]
  },
  {
   "cell_type": "code",
   "execution_count": null,
   "metadata": {
    "slideshow": {
     "slide_type": "subslide"
    }
   },
   "outputs": [],
   "source": [
    "print(CountedAdder.num_counters)\n",
    "print(a1.num_counters)\n",
    "print(a2.num_counters)"
   ]
  },
  {
   "cell_type": "code",
   "execution_count": null,
   "metadata": {},
   "outputs": [],
   "source": [
    "print(CountedAdder.add)\n",
    "print(a1.add)\n",
    "print(a2.add)"
   ]
  },
  {
   "cell_type": "markdown",
   "metadata": {
    "slideshow": {
     "slide_type": "slide"
    }
   },
   "source": [
    "## Vererbung"
   ]
  },
  {
   "cell_type": "code",
   "execution_count": null,
   "metadata": {
    "slideshow": {
     "slide_type": "-"
    }
   },
   "outputs": [],
   "source": [
    "class LoggingAdder(CountedAdder):\n",
    "    def add(self, n):\n",
    "        print(f\"Adding {self.value} to {n}\")\n",
    "        return self.value + n"
   ]
  },
  {
   "cell_type": "code",
   "execution_count": null,
   "metadata": {},
   "outputs": [],
   "source": [
    "a3 = LoggingAdder(30)\n",
    "print(a3.add(3))\n",
    "print(a3.num_counters)"
   ]
  },
  {
   "cell_type": "code",
   "execution_count": null,
   "metadata": {
    "slideshow": {
     "slide_type": "subslide"
    }
   },
   "outputs": [],
   "source": [
    "a1.describe()\n",
    "a2.describe()\n",
    "a3.describe()"
   ]
  },
  {
   "cell_type": "code",
   "execution_count": null,
   "metadata": {},
   "outputs": [],
   "source": [
    "# Method Resolution Order:\n",
    "LoggingAdder.mro()"
   ]
  },
  {
   "cell_type": "code",
   "execution_count": null,
   "metadata": {},
   "outputs": [],
   "source": [
    "print(CountedAdder.add)\n",
    "print(a1.add)\n",
    "print(a2.add)\n",
    "print(LoggingAdder.add)\n",
    "print(a3.add)"
   ]
  },
  {
   "cell_type": "code",
   "execution_count": null,
   "metadata": {
    "slideshow": {
     "slide_type": "subslide"
    }
   },
   "outputs": [],
   "source": [
    "print(CountedAdder.add)\n",
    "print(a1.add.__func__)\n",
    "print(a2.add.__func__)\n",
    "print(LoggingAdder.add)\n",
    "print(a3.add.__func__)"
   ]
  },
  {
   "cell_type": "code",
   "execution_count": null,
   "metadata": {
    "slideshow": {
     "slide_type": "subslide"
    }
   },
   "outputs": [],
   "source": [
    "a1.__dict__['value'] = 15"
   ]
  },
  {
   "cell_type": "code",
   "execution_count": null,
   "metadata": {},
   "outputs": [],
   "source": [
    "a1.add(0)"
   ]
  },
  {
   "cell_type": "code",
   "execution_count": null,
   "metadata": {},
   "outputs": [],
   "source": [
    "LoggingAdder.__dict__"
   ]
  },
  {
   "cell_type": "markdown",
   "metadata": {
    "slideshow": {
     "slide_type": "slide"
    }
   },
   "source": [
    "# Zugriff auf Attribute\n",
    "\n",
    "Python ermöglicht es uns als Programmierer, an mehreren Stellen in den Zugriff auf Attribute einzugreifen und das Verhalten zu modifizieren."
   ]
  },
  {
   "cell_type": "markdown",
   "metadata": {
    "slideshow": {
     "slide_type": "subslide"
    }
   },
   "source": [
    "## Attribute von Klassen\n",
    "\n",
    "Beim Zugriff auf `C.name` verfährt Python folgendermaßen:\n",
    "\n",
    "- Falls `name` ein Key in `C.__dict__` ist:\n",
    "  - `v = C.__dict__['name']`\n",
    "  - Falls `v` ein Deskriptor ist (i.e., `type(v).__get__` definiert ist:\n",
    "    - Resultat ist `type(v).__get__(v, None, C)`\n",
    "  - Falls `v` kein Deskriptor ist:\n",
    "    - Resultat ist `v`\n",
    "- Falls `name` kein Key in `C.__dict__` ist:\n",
    "  - Die Baisklassen von `C` werden in Method Resolution Order durchlaufen und diese Verfahren wird für jede Klasse ausgeführt"
   ]
  },
  {
   "cell_type": "markdown",
   "metadata": {
    "slideshow": {
     "slide_type": "subslide"
    }
   },
   "source": [
    "## Attribute von Instanzen\n",
    "\n",
    "Beim Zugriff auf `object.name` verfährt Python folgendermaßen:\n",
    "\n",
    "- Falls `name` ein Overriding Descriptor `v` in `C` oder einer der Basisklassen von `C` ist (`type(v)` hat Methoden `__get__()` und `__set__()`:\n",
    "  - Das Resultat ist `type(v).__get__(v, object, C)`\n",
    "- Andernfalls, falls `name` ein Schlüssel in `object.__dict__` ist:\n",
    "  - Das Resultat ist `object.__dict__['name']`\n",
    "- Andernfalls delegiert `object.name` die Suche an die Klasse, wie oben beschrieben\n",
    "  - Falls dadurch ein Deskriptor `v` gefunden wird, so ist das Ergebnis `type(v).__get__(v, object, C)`\n",
    "  - Wenn ein Wert `v` gefunden wird, der kein Deskriptor ist, dann wird `v` zurückgegeben\n",
    "- Wenn kein Wert gefunden wird und `C.__getattr__` definiert ist, dann wird `C.__getattr__(object, 'name')` aufgerufen um den Wert zu erhalten\n",
    "- Andernfalls wird eine `AttributeError` Exception ausgelöst\n",
    "\n",
    "Dieser Prozess kann durch die `__getattribute__` Methode überschrieben werden."
   ]
  },
  {
   "cell_type": "code",
   "execution_count": null,
   "metadata": {
    "slideshow": {
     "slide_type": "subslide"
    }
   },
   "outputs": [],
   "source": [
    "class LoggingDescriptor:\n",
    "    def __init__(self, name):\n",
    "        self.name = name\n",
    "\n",
    "    def __get__(self, instance, owner):\n",
    "        print(f'__get__({self}, {instance}, {owner})')\n",
    "        print(f'  __dict__ == {instance.__dict__}')\n",
    "        return instance.__dict__.get(self.name, 'nothing')"
   ]
  },
  {
   "cell_type": "code",
   "execution_count": null,
   "metadata": {
    "slideshow": {
     "slide_type": "subslide"
    }
   },
   "outputs": [],
   "source": [
    "class OverridingLoggingDescriptor(LoggingDescriptor):\n",
    "    def __set__(self, instance, value):\n",
    "        print(f'__set__({self}, {instance}, {value}')\n",
    "        instance.__dict__[self.name] = value"
   ]
  },
  {
   "cell_type": "code",
   "execution_count": null,
   "metadata": {
    "slideshow": {
     "slide_type": "subslide"
    }
   },
   "outputs": [],
   "source": [
    "class YourClass:\n",
    "    f = LoggingDescriptor('f')\n",
    "    g = OverridingLoggingDescriptor('g')"
   ]
  },
  {
   "cell_type": "code",
   "execution_count": null,
   "metadata": {},
   "outputs": [],
   "source": [
    "yc = YourClass()\n",
    "print(yc.f, yc.g)"
   ]
  },
  {
   "cell_type": "code",
   "execution_count": null,
   "metadata": {
    "slideshow": {
     "slide_type": "subslide"
    }
   },
   "outputs": [],
   "source": [
    "yc.f = 234\n",
    "yc.g = 345"
   ]
  },
  {
   "cell_type": "code",
   "execution_count": null,
   "metadata": {},
   "outputs": [],
   "source": [
    "print(yc.f, yc.g)"
   ]
  },
  {
   "cell_type": "code",
   "execution_count": null,
   "metadata": {
    "slideshow": {
     "slide_type": "subslide"
    }
   },
   "outputs": [],
   "source": [
    "class MyClass:\n",
    "    def g(self, x):\n",
    "        print(self, x)\n",
    "def f(x, y):\n",
    "    print(x, y)"
   ]
  },
  {
   "cell_type": "code",
   "execution_count": null,
   "metadata": {},
   "outputs": [],
   "source": [
    "mc = MyClass()\n",
    "print(mc.__class__)"
   ]
  },
  {
   "cell_type": "code",
   "execution_count": null,
   "metadata": {},
   "outputs": [],
   "source": [
    "print(MyClass.g)\n",
    "print(mc.g.__qualname__)\n",
    "print(mc.g.__get__)"
   ]
  },
  {
   "cell_type": "code",
   "execution_count": null,
   "metadata": {
    "slideshow": {
     "slide_type": "subslide"
    }
   },
   "outputs": [],
   "source": [
    "print(f.__get__)"
   ]
  },
  {
   "cell_type": "code",
   "execution_count": null,
   "metadata": {},
   "outputs": [],
   "source": [
    "bound_f = f.__get__(mc, MyClass)\n",
    "bound_g = mc.g\n",
    "print(bound_f)\n",
    "print(bound_g)"
   ]
  },
  {
   "cell_type": "code",
   "execution_count": null,
   "metadata": {},
   "outputs": [],
   "source": [
    "bound_f(3)\n",
    "bound_g(3)\n",
    "mc.g(3)"
   ]
  },
  {
   "cell_type": "markdown",
   "metadata": {
    "slideshow": {
     "slide_type": "slide"
    }
   },
   "source": [
    "## Mehrfachvererbung"
   ]
  },
  {
   "cell_type": "code",
   "execution_count": null,
   "metadata": {},
   "outputs": [],
   "source": [
    "class A:\n",
    "    \"\"\"Superclass of everything\"\"\"\n",
    "\n",
    "    def f(self):\n",
    "        print(f'f(A) on {self!r}')\n",
    "\n",
    "    def g(self):\n",
    "        print(f'g(A) on {self!r}')"
   ]
  },
  {
   "cell_type": "code",
   "execution_count": null,
   "metadata": {
    "slideshow": {
     "slide_type": "subslide"
    }
   },
   "outputs": [],
   "source": [
    "class B(A):\n",
    "    def f(self):\n",
    "        print(f'f(B) on {self!r}')\n",
    "        super().f()\n",
    "\n",
    "    def g(self):\n",
    "        print(f'g(B) on {self!r}')\n",
    "        A.g(self)"
   ]
  },
  {
   "cell_type": "code",
   "execution_count": null,
   "metadata": {
    "slideshow": {
     "slide_type": "subslide"
    }
   },
   "outputs": [],
   "source": [
    "class C(A):\n",
    "    def f(self):\n",
    "        print(f'f(C) on {self!r}')\n",
    "        super().f()\n",
    "\n",
    "    def g(self):\n",
    "        print(f'g(C) on {self!r}')\n",
    "        A.g(self)"
   ]
  },
  {
   "cell_type": "code",
   "execution_count": null,
   "metadata": {
    "slideshow": {
     "slide_type": "subslide"
    }
   },
   "outputs": [],
   "source": [
    "class D(B, C):\n",
    "    def f(self):\n",
    "        print(f'f(D) on {self!r}')\n",
    "        super().f()\n",
    "\n",
    "    def g(self):\n",
    "        print(f'g(D) on {self!r}')\n",
    "        B.g(self)\n",
    "        C.g(self)"
   ]
  },
  {
   "cell_type": "code",
   "execution_count": null,
   "metadata": {
    "slideshow": {
     "slide_type": "subslide"
    }
   },
   "outputs": [],
   "source": [
    "d = D()\n",
    "d.f()"
   ]
  },
  {
   "cell_type": "code",
   "execution_count": null,
   "metadata": {},
   "outputs": [],
   "source": [
    "d.g()"
   ]
  },
  {
   "cell_type": "markdown",
   "metadata": {
    "slideshow": {
     "slide_type": "slide"
    }
   },
   "source": [
    "## Abstrakte Klassen\n",
    "\n",
    "- Die Klasse `abc.ABC` als Basisklasse\n",
    "- (Eigentlich ist eine Metaklasse verantwortlich)\n",
    "- `@abstractmethod` Dekorator"
   ]
  },
  {
   "cell_type": "code",
   "execution_count": null,
   "metadata": {
    "slideshow": {
     "slide_type": "subslide"
    }
   },
   "outputs": [],
   "source": [
    "from abc import ABC, abstractmethod\n",
    "\n",
    "class MyBase(ABC):\n",
    "    @abstractmethod\n",
    "    def my_method(self):\n",
    "        print(\"HI!\")"
   ]
  },
  {
   "cell_type": "code",
   "execution_count": null,
   "metadata": {},
   "outputs": [],
   "source": [
    "class MyClass(MyBase):\n",
    "    pass\n",
    "\n",
    "# mc = MyClass()"
   ]
  },
  {
   "cell_type": "code",
   "execution_count": null,
   "metadata": {
    "slideshow": {
     "slide_type": "subslide"
    }
   },
   "outputs": [],
   "source": [
    "class YourClass(MyBase):\n",
    "    def my_method(self):\n",
    "        super().my_method()\n",
    "        print(\"Hello!\")\n",
    "\n",
    "yc = YourClass()\n",
    "yc.my_method()"
   ]
  },
  {
   "cell_type": "markdown",
   "metadata": {
    "slideshow": {
     "slide_type": "slide"
    }
   },
   "source": [
    "# Workshop\n",
    "\n",
    "Siehe `070x-Workshop RPG-Würfel` bis `Factory für RPG-Würfel`."
   ]
  },
  {
   "cell_type": "markdown",
   "metadata": {
    "slideshow": {
     "slide_type": "slide"
    }
   },
   "source": [
    "# Reguläre Ausdrücke\n",
    "\n",
    "Reguläre Ausdrücke stellen \"Muster\" dar, mit denen in Strings gesucht und ersetzt werden kann:\n",
    "- `x..x`: zwei Vorkommen von `x`, die durch (genau) zwei beliebige andere Zeichen getrennt sind\n",
    "- `a[0-9]?[0-9]`: der Buchstabe `a` gefolgt von ein oder zwei Ziffern.\n",
    "\n",
    "Es gibt dabei verschiedene Operationen und Abkürzungen für Zeichenklassen:\n",
    "\n",
    "- `.`: Ein beliebiges Zeichen außer `\\n`.\n",
    "- `*`: Der vorhergehende Ausdruck (ein Zeichen oder eine geklammerte Gruppe von Zeichn) kann beliebig oft (auch 0-mal) wiederholt werden.\n",
    "- `+`: Der vorhergehende Ausdruck kann ein oder mehrmals wiederholt werden.\n",
    "- `\\s`: Whitespace\n",
    "- `\\w`: Alphanumerische Zeichen und Unterstrich `_`"
   ]
  },
  {
   "cell_type": "code",
   "execution_count": null,
   "metadata": {
    "slideshow": {
     "slide_type": "subslide"
    }
   },
   "outputs": [],
   "source": []
  },
  {
   "cell_type": "code",
   "execution_count": null,
   "metadata": {},
   "outputs": [],
   "source": []
  },
  {
   "cell_type": "code",
   "execution_count": null,
   "metadata": {},
   "outputs": [],
   "source": []
  },
  {
   "cell_type": "markdown",
   "metadata": {
    "slideshow": {
     "slide_type": "subslide"
    }
   },
   "source": [
    "# Workshop\n",
    "\n",
    "Siehe `070x-Workshop RPG-Würfel` bis `Factory für RPG-Würfel`."
   ]
  },
  {
   "cell_type": "markdown",
   "metadata": {
    "slideshow": {
     "slide_type": "subslide"
    }
   },
   "source": [
    "# Workshop\n",
    "\n",
    "Siehe Verzeichnis `Examples/NameGenerator`."
   ]
  },
  {
   "cell_type": "code",
   "execution_count": null,
   "metadata": {},
   "outputs": [],
   "source": []
  }
 ],
 "metadata": {
  "celltoolbar": "Slideshow",
  "jupytext": {
   "formats": "ipynb,auto:percent"
  },
  "kernelspec": {
   "display_name": "Python 3 (ipykernel)",
   "language": "python",
   "name": "python3"
  },
  "language_info": {
   "codemirror_mode": {
    "name": "ipython",
    "version": 3
   },
   "file_extension": ".py",
   "mimetype": "text/x-python",
   "name": "python",
   "nbconvert_exporter": "python",
   "pygments_lexer": "ipython3",
   "version": "3.9.7"
  }
 },
 "nbformat": 4,
 "nbformat_minor": 4
}
