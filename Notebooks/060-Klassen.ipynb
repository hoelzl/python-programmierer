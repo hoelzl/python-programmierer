{
 "cells": [
  {
   "cell_type": "markdown",
   "metadata": {},
   "source": [
    "<img src=\"img/python-logo-notext.svg\"\n",
    "     style=\"display:block;margin:auto;width:10%\"/>\n",
    "<h1 style=\"text-align:center;\">Python: Kurze Einführung in Klassen</h1>\n",
    "<h2 style=\"text-align:center;\">Coding Akademie München GmbH</h2>\n",
    "<br/>\n",
    "<div style=\"text-align:center;\">Dr. Matthias Hölzl</div>\n",
    "<div style=\"text-align:center;\">Allaithy Raed</div>"
   ]
  },
  {
   "cell_type": "markdown",
   "metadata": {
    "slideshow": {
     "slide_type": "slide"
    }
   },
   "source": [
    "# Klassen\n",
    "\n",
    "Wie können wir einen Eintrag in einem Warenkorb darstellen?\n",
    "\n",
    "- Artikelnummer\n",
    "- Artikelname\n",
    "- Preis pro Stück\n",
    "- Anzahl\n",
    "- Gesamtpreis\n",
    "\n",
    "Vorschlag: Liste, (Tupel, Dictionaries)"
   ]
  },
  {
   "cell_type": "code",
   "execution_count": 2,
   "metadata": {
    "slideshow": {
     "slide_type": "subslide"
    }
   },
   "outputs": [],
   "source": [
    "entry = ['0713', 'Netzkabel', 3.49, 2, 6.98]"
   ]
  },
  {
   "cell_type": "code",
   "execution_count": 3,
   "metadata": {},
   "outputs": [
    {
     "data": {
      "text/plain": [
       "['0713', 'Netzkabel', 3.49, 2, 6.98]"
      ]
     },
     "execution_count": 3,
     "metadata": {},
     "output_type": "execute_result"
    }
   ],
   "source": [
    "entry"
   ]
  },
  {
   "cell_type": "markdown",
   "metadata": {
    "slideshow": {
     "slide_type": "subslide"
    }
   },
   "source": [
    "## Problem\n",
    "\n",
    "- Schwer zu erkennen, welcher Bedeutung ein Eintrag hat\n",
    "- Listenoperationen sind für Entries möglich, aber nicht sinnvoll\n",
    "- Bedeutung nur implizit; für Python ist es einfach eine Liste\n",
    "- Berechnete Werte (Gesamtpreis) müssen explizit angegeben werden"
   ]
  },
  {
   "cell_type": "code",
   "execution_count": 4,
   "metadata": {
    "slideshow": {
     "slide_type": "subslide"
    }
   },
   "outputs": [],
   "source": [
    "entry = {'article_number': '0713', 'article_name': 'Netzkabel',\n",
    "         'price_per_item:': 3.49, 'total_price': 6.98}"
   ]
  },
  {
   "cell_type": "code",
   "execution_count": 5,
   "metadata": {},
   "outputs": [
    {
     "data": {
      "text/plain": [
       "{'article_number': '0713',\n",
       " 'article_name': 'Netzkabel',\n",
       " 'price_per_item:': 3.49,\n",
       " 'total_price': 6.98}"
      ]
     },
     "execution_count": 5,
     "metadata": {},
     "output_type": "execute_result"
    }
   ],
   "source": [
    "entry"
   ]
  },
  {
   "cell_type": "markdown",
   "metadata": {},
   "source": [
    "## Verbesserungen und noch vorhandene Probleme\n",
    "\n",
    "- Bedeutung der einzelnen \"Attribute\" ist klarer\n",
    "- Dictionary-Operationen für Eintrag sinnvoller als Listenoperationen\n",
    "  (passen aber immer noch nicht komplett)\n",
    "- Bedeutung des Eintrags selber nur implizit; für Python ist es einfach ein Dictionary\n",
    "- Berechnete Werte (Gesamtpreis) müssen explizit angegeben werden"
   ]
  },
  {
   "cell_type": "markdown",
   "metadata": {
    "slideshow": {
     "slide_type": "slide"
    }
   },
   "source": [
    "## Mini Workshop\n",
    "\n",
    "- Notebook `060x-Workshop Klassen`\n",
    "- Abschnitt \"TODO-Liste Version 0\""
   ]
  },
  {
   "cell_type": "markdown",
   "metadata": {
    "slideshow": {
     "slide_type": "slide"
    }
   },
   "source": [
    "# Klassen und Objekte\n",
    "\n",
    "Wie können wir in Python Objekte erzeugen, in denen wir zusammengehörige Daten Speichern können?\n",
    "\n",
    "- Listen\n",
    "- Tupel\n",
    "- Dictionaries\n",
    "- *(Instanzen von) benutzerdefinierten Klassen*"
   ]
  },
  {
   "cell_type": "code",
   "execution_count": 6,
   "metadata": {
    "slideshow": {
     "slide_type": "subslide"
    }
   },
   "outputs": [],
   "source": [
    "class ShoppingCartEntryV0:\n",
    "    pass"
   ]
  },
  {
   "cell_type": "code",
   "execution_count": 7,
   "metadata": {},
   "outputs": [
    {
     "data": {
      "text/plain": [
       "<__main__.ShoppingCartEntryV0 at 0x294a020cd30>"
      ]
     },
     "execution_count": 7,
     "metadata": {},
     "output_type": "execute_result"
    }
   ],
   "source": [
    "my_shopping_cart_entry_1 = ShoppingCartEntryV0()\n",
    "my_shopping_cart_entry_1"
   ]
  },
  {
   "cell_type": "code",
   "execution_count": 8,
   "metadata": {},
   "outputs": [
    {
     "data": {
      "text/plain": [
       "__main__.ShoppingCartEntryV0"
      ]
     },
     "execution_count": 8,
     "metadata": {},
     "output_type": "execute_result"
    }
   ],
   "source": [
    "type(my_shopping_cart_entry_1)"
   ]
  },
  {
   "cell_type": "code",
   "execution_count": 9,
   "metadata": {
    "slideshow": {
     "slide_type": "subslide"
    }
   },
   "outputs": [],
   "source": [
    "my_shopping_cart_entry_1.article_number = '9343'\n",
    "my_shopping_cart_entry_1.article_name = 'Strawberries'\n",
    "my_shopping_cart_entry_1.price_per_item = 2.99"
   ]
  },
  {
   "cell_type": "code",
   "execution_count": 10,
   "metadata": {},
   "outputs": [
    {
     "data": {
      "text/plain": [
       "'9343'"
      ]
     },
     "execution_count": 10,
     "metadata": {},
     "output_type": "execute_result"
    }
   ],
   "source": [
    "my_shopping_cart_entry_1.article_number"
   ]
  },
  {
   "cell_type": "code",
   "execution_count": 11,
   "metadata": {},
   "outputs": [
    {
     "data": {
      "text/plain": [
       "'Strawberries'"
      ]
     },
     "execution_count": 11,
     "metadata": {},
     "output_type": "execute_result"
    }
   ],
   "source": [
    "my_shopping_cart_entry_1.article_name"
   ]
  },
  {
   "cell_type": "code",
   "execution_count": 12,
   "metadata": {},
   "outputs": [
    {
     "data": {
      "text/plain": [
       "2.99"
      ]
     },
     "execution_count": 12,
     "metadata": {},
     "output_type": "execute_result"
    }
   ],
   "source": [
    "my_shopping_cart_entry_1.price_per_item"
   ]
  },
  {
   "cell_type": "code",
   "execution_count": 13,
   "metadata": {
    "slideshow": {
     "slide_type": "subslide"
    }
   },
   "outputs": [],
   "source": [
    "my_shopping_cart_entry_2 = ShoppingCartEntryV0()\n",
    "my_shopping_cart_entry_2.article_number = '3742'\n",
    "my_shopping_cart_entry_2.article_name = 'Cream'"
   ]
  },
  {
   "cell_type": "code",
   "execution_count": 14,
   "metadata": {},
   "outputs": [
    {
     "name": "stdout",
     "output_type": "stream",
     "text": [
      "my_shopping_cart_entry_1: 9343 Strawberries 2.99\n",
      "my_shopping_cart_entry_2: 3742 Cream\n"
     ]
    }
   ],
   "source": [
    "print(\"my_shopping_cart_entry_1:\",\n",
    "      my_shopping_cart_entry_1.article_number,\n",
    "      my_shopping_cart_entry_1.article_name,\n",
    "      my_shopping_cart_entry_1.price_per_item)\n",
    "print(\"my_shopping_cart_entry_2:\",\n",
    "      my_shopping_cart_entry_2.article_number,\n",
    "      my_shopping_cart_entry_2.article_name)"
   ]
  },
  {
   "cell_type": "code",
   "execution_count": 15,
   "metadata": {},
   "outputs": [],
   "source": [
    "# Fehler:\n",
    "# my_shopping_cart_entry_2.price_per_item"
   ]
  },
  {
   "cell_type": "markdown",
   "metadata": {
    "slideshow": {
     "slide_type": "subslide"
    }
   },
   "source": [
    "## Bessere Variante: \"Abstrakter Datentyp\"\n",
    "\n",
    "Wir definieren uns einen Typ, der für \"entries in einem Warenkorb\" steht.\n",
    "Alle Instanzen dieses Typs haben die gleiche Struktur:\n",
    "\n",
    "- `article_number`, `article_name`\n",
    "- `price_per_item`, `number_of_items`\n",
    "- `total_price`, berechnet aus den vorhergehenden Werten\n"
   ]
  },
  {
   "cell_type": "markdown",
   "metadata": {},
   "source": [
    "### Konstruktoren\n",
    "\n",
    "Die benötigten Werte werden bei der Konstruktion eines entries angegeben.\n",
    "\n",
    "In Python definiert man dazu die `__init__()` Methode:"
   ]
  },
  {
   "cell_type": "code",
   "execution_count": 16,
   "metadata": {},
   "outputs": [],
   "source": [
    "class ShoppingCartEntryV1:\n",
    "    def __init__(self, article_number, article_name, price_per_item, number_of_items):\n",
    "        self.article_number = article_number\n",
    "        self.article_name = article_name\n",
    "        self.price_per_item = price_per_item\n",
    "        self.number_of_items = number_of_items\n",
    "        self.total_price = price_per_item * number_of_items"
   ]
  },
  {
   "cell_type": "markdown",
   "metadata": {
    "pycharm": {
     "name": "#%% md\n"
    }
   },
   "source": [
    "- Die `__init__()` Methode wird von Python nach dem Erzeugen einer Instanz\n",
    "  aufgerufen\n",
    "- Das erste Argument ist dabei immer die neu erzeugte Instanz und hat\n",
    "  per Konvention den Namen `self`\n",
    "- Die restlichen Argumente müssen an den Konstruktor übergeben werden:"
   ]
  },
  {
   "cell_type": "code",
   "execution_count": 17,
   "metadata": {
    "slideshow": {
     "slide_type": "subslide"
    }
   },
   "outputs": [],
   "source": [
    "entry = ShoppingCartEntryV1('0713', 'Netzkabel', 3.49, 2)"
   ]
  },
  {
   "cell_type": "code",
   "execution_count": 18,
   "metadata": {
    "slideshow": {
     "slide_type": "-"
    }
   },
   "outputs": [
    {
     "data": {
      "text/plain": [
       "('0713', 'Netzkabel', 3.49, 2, 6.98)"
      ]
     },
     "execution_count": 18,
     "metadata": {},
     "output_type": "execute_result"
    }
   ],
   "source": [
    "entry.article_number, \\\n",
    "entry.article_name, \\\n",
    "entry.price_per_item, \\\n",
    "entry.number_of_items, \\\n",
    "entry.total_price"
   ]
  },
  {
   "cell_type": "code",
   "execution_count": 19,
   "metadata": {
    "slideshow": {
     "slide_type": "subslide"
    }
   },
   "outputs": [],
   "source": [
    "# Fehler!\n",
    "# ShoppingCartEntryV1()"
   ]
  },
  {
   "cell_type": "code",
   "execution_count": 20,
   "metadata": {
    "slideshow": {
     "slide_type": "subslide"
    }
   },
   "outputs": [],
   "source": [
    "my_shopping_cart = [ShoppingCartEntryV1('9343', 'Strawberries',\n",
    "                                        price_per_item=2.99, number_of_items=2),\n",
    "                    ShoppingCartEntryV1('3742', 'Cream',\n",
    "                                        price_per_item=1.99, number_of_items=1)]"
   ]
  },
  {
   "cell_type": "markdown",
   "metadata": {
    "pycharm": {
     "name": "#%% md\n"
    }
   },
   "source": [
    "Die Ausgabe des Einkaufswagens ist mit der `ShoppingCartEntry` Klasse nicht sehr\n",
    "vielsagend. Das werden wir später verbessern."
   ]
  },
  {
   "cell_type": "code",
   "execution_count": 21,
   "metadata": {},
   "outputs": [
    {
     "data": {
      "text/plain": [
       "[<__main__.ShoppingCartEntryV1 at 0x294a0307700>,\n",
       " <__main__.ShoppingCartEntryV1 at 0x294a0307730>]"
      ]
     },
     "execution_count": 21,
     "metadata": {},
     "output_type": "execute_result"
    }
   ],
   "source": [
    "my_shopping_cart"
   ]
  },
  {
   "cell_type": "markdown",
   "metadata": {
    "pycharm": {
     "name": "#%% md\n"
    },
    "slideshow": {
     "slide_type": "subslide"
    }
   },
   "source": [
    "Wir können die Preise der einzelnen Entries im Einkaufswagen so berechnen:"
   ]
  },
  {
   "cell_type": "code",
   "execution_count": 22,
   "metadata": {},
   "outputs": [
    {
     "data": {
      "text/plain": [
       "[5.98, 1.99]"
      ]
     },
     "execution_count": 22,
     "metadata": {},
     "output_type": "execute_result"
    }
   ],
   "source": [
    "[entry.total_price for entry in my_shopping_cart]"
   ]
  },
  {
   "cell_type": "code",
   "execution_count": 23,
   "metadata": {
    "slideshow": {
     "slide_type": "subslide"
    }
   },
   "outputs": [],
   "source": [
    "def total_price_of_shopping_cart(shopping_cart):\n",
    "    result = 0.0\n",
    "    for entry in shopping_cart:\n",
    "        result += entry.total_price\n",
    "    return result"
   ]
  },
  {
   "cell_type": "code",
   "execution_count": 24,
   "metadata": {},
   "outputs": [
    {
     "data": {
      "text/plain": [
       "7.970000000000001"
      ]
     },
     "execution_count": 24,
     "metadata": {},
     "output_type": "execute_result"
    }
   ],
   "source": [
    "total_price_of_shopping_cart(my_shopping_cart)"
   ]
  },
  {
   "cell_type": "markdown",
   "metadata": {
    "pycharm": {
     "name": "#%% md\n"
    },
    "slideshow": {
     "slide_type": "slide"
    }
   },
   "source": [
    "### ADT für Einkaufswagen\n",
    "\n",
    "Der Einkaufswagen ist im Moment als Liste gespeichert. Es wäre möglicherweise\n",
    "hilfreich dafür ebenfalls einen Typ zu definieren:"
   ]
  },
  {
   "cell_type": "code",
   "execution_count": 25,
   "metadata": {
    "pycharm": {
     "name": "#%%\n"
    }
   },
   "outputs": [],
   "source": [
    "class ShoppingCartV0:\n",
    "    def __init__(self, entries):\n",
    "        self.entries = entries"
   ]
  },
  {
   "cell_type": "code",
   "execution_count": 26,
   "metadata": {
    "pycharm": {
     "name": "#%%\n"
    }
   },
   "outputs": [],
   "source": [
    "my_new_shopping_cart_entry_1 = ShoppingCartEntryV1('9343', 'Strawberries', 2.99, 2)\n",
    "my_new_shopping_cart_entry_2 = ShoppingCartEntryV1('3742', 'Cream', 1.99, 1)\n",
    "my_new_shopping_cart = ShoppingCartV0(\n",
    "    [my_new_shopping_cart_entry_1,\n",
    "     my_new_shopping_cart_entry_2])"
   ]
  },
  {
   "cell_type": "code",
   "execution_count": 27,
   "metadata": {
    "pycharm": {
     "name": "#%%\n"
    },
    "slideshow": {
     "slide_type": "subslide"
    }
   },
   "outputs": [],
   "source": [
    "def total_price_of_shopping_cart(shopping_cart):\n",
    "    result = 0.0\n",
    "    for entry in shopping_cart.entries:\n",
    "        result += entry.total_price\n",
    "    return result"
   ]
  },
  {
   "cell_type": "code",
   "execution_count": 28,
   "metadata": {
    "pycharm": {
     "name": "#%%\n"
    }
   },
   "outputs": [
    {
     "data": {
      "text/plain": [
       "7.970000000000001"
      ]
     },
     "execution_count": 28,
     "metadata": {},
     "output_type": "execute_result"
    }
   ],
   "source": [
    "total_price_of_shopping_cart(my_new_shopping_cart)\n"
   ]
  },
  {
   "cell_type": "markdown",
   "metadata": {
    "slideshow": {
     "slide_type": "slide"
    }
   },
   "source": [
    "## Mini Workshop\n",
    "\n",
    "- Notebook `060x-Workshop Klassen`\n",
    "- Abschnitt \"TODO-Liste Version 1\""
   ]
  },
  {
   "cell_type": "markdown",
   "metadata": {
    "pycharm": {
     "name": "#%% md\n"
    },
    "slideshow": {
     "slide_type": "slide"
    }
   },
   "source": [
    "### Methoden\n",
    "\n",
    "- Beim `ShoppingCartEntry` haben wir den Gesamtpreis als Attribut gespeichert.\n",
    "- Beim `ShoppingCart` berechnen wir den Gesamtpreis durch eine Top-Level\n",
    "  Funktion, die auf die `entries` zugreift.\n",
    "- Das ist inkonsistent und daher unschön.\n",
    "- Es wäre hilfreich, wenn wir die Funktionen, die zu einer Klasse gehören in\n",
    "  der Klasse definieren könnten:"
   ]
  },
  {
   "cell_type": "markdown",
   "metadata": {
    "slideshow": {
     "slide_type": "subslide"
    }
   },
   "source": [
    "- Wir haben bei der `__init__()` Methode schon eine Funktionsdefinition in den Rumpf einer Klasse geschrieben\n",
    "- Das geht nicht nur für `__init__()` sondern auch für benutzerdefinierte Funktionen\n",
    "- Funktionen, die innerhalb einer Klasse definiert werden heißen *Methoden*\n",
    "- Methoden haben immer mindestens einen Parameter\n",
    "  - per Konvention `self`\n",
    "  - steht für das Objekt in dessen Kontext die Methode aufgerufen wird"
   ]
  },
  {
   "cell_type": "code",
   "execution_count": 29,
   "metadata": {
    "slideshow": {
     "slide_type": "subslide"
    }
   },
   "outputs": [],
   "source": [
    "class ShoppingCartV1:\n",
    "    def __init__(self, entries):\n",
    "        self.entries = entries\n",
    "\n",
    "    def get_total_price(self):\n",
    "        result = 0.0\n",
    "        for entry in self.entries:\n",
    "            result += entry.total_price\n",
    "        return result"
   ]
  },
  {
   "cell_type": "code",
   "execution_count": 30,
   "metadata": {
    "pycharm": {
     "name": "#%%\n"
    }
   },
   "outputs": [],
   "source": [
    "my_new_shopping_cart = ShoppingCartV1(\n",
    "    [my_new_shopping_cart_entry_1, my_new_shopping_cart_entry_2])"
   ]
  },
  {
   "cell_type": "markdown",
   "metadata": {
    "pycharm": {
     "name": "#%% md\n"
    },
    "slideshow": {
     "slide_type": "subslide"
    }
   },
   "source": [
    "- Methoden werden mit der Syntax\n",
    "  \n",
    "  ```python\n",
    "  object.method(arg1, arg2, ...)\n",
    "  ```\n",
    "  \n",
    "  aufgerufen.\n",
    "- Das Argument des `self`-Parameters ist `object`\n",
    "- `arg1`, `arg2`, ... werden an die folgenden Parameter gebunden."
   ]
  },
  {
   "cell_type": "code",
   "execution_count": 32,
   "metadata": {
    "pycharm": {
     "name": "#%%\n"
    }
   },
   "outputs": [
    {
     "data": {
      "text/plain": [
       "7.970000000000001"
      ]
     },
     "execution_count": 32,
     "metadata": {},
     "output_type": "execute_result"
    }
   ],
   "source": [
    "my_new_shopping_cart.get_total_price()"
   ]
  },
  {
   "cell_type": "markdown",
   "metadata": {
    "slideshow": {
     "slide_type": "subslide"
    }
   },
   "source": [
    "Eine Methode wird durch die `object.`-Operation an `object` *gebunden*, d.h., dem `self` Parameter wird bei nachfolgenden Aufrufen `object` als Argument übergebben:"
   ]
  },
  {
   "cell_type": "code",
   "execution_count": 34,
   "metadata": {},
   "outputs": [
    {
     "name": "stdout",
     "output_type": "stream",
     "text": [
      "7.970000000000001\n",
      "<__main__.ShoppingCartV1 object at 0x00000294A02FB070>\n",
      "<bound method ShoppingCartV1.get_total_price of <__main__.ShoppingCartV1 object at 0x00000294A02FB070>>\n",
      "7.970000000000001\n"
     ]
    }
   ],
   "source": [
    "print(my_new_shopping_cart.get_total_price())\n",
    "my_method = my_new_shopping_cart.get_total_price\n",
    "print(my_new_shopping_cart)\n",
    "print(my_method)\n",
    "print(my_method())"
   ]
  },
  {
   "cell_type": "markdown",
   "metadata": {
    "pycharm": {
     "name": "#%% md\n"
    },
    "slideshow": {
     "slide_type": "slide"
    }
   },
   "source": [
    "### Properties\n",
    "\n",
    "In `ShoppingCartV1` ist `get_total_price()` eine Funktion, im entry hatten wir\n",
    "den Gesamtpreis in einem Attribut gespeichert.\n",
    "\n",
    "Das ergibt immer noch ein inkonsistentes Benutzerinterface:"
   ]
  },
  {
   "cell_type": "code",
   "execution_count": null,
   "metadata": {
    "pycharm": {
     "name": "#%%\n"
    }
   },
   "outputs": [],
   "source": [
    "print(my_new_shopping_cart_entry_1.total_price)\n",
    "print(my_new_shopping_cart.get_total_price())"
   ]
  },
  {
   "cell_type": "markdown",
   "metadata": {
    "slideshow": {
     "slide_type": "subslide"
    }
   },
   "source": [
    "Eine Möglichkeit das zu vermeiden:\n",
    "\n",
    "- Getter für alle Instanzvariablen (siehe Java)\n",
    "- Viel Boilerplate-Code"
   ]
  },
  {
   "cell_type": "markdown",
   "metadata": {
    "pycharm": {
     "name": "#%% md\n"
    },
    "slideshow": {
     "slide_type": "subslide"
    }
   },
   "source": [
    "In Python können wir diesen Unterschied durch Definition einer `total_price` Property\n",
    "vermeiden. Eine Property\n",
    "\n",
    "- Ist eine Methode, die wie jede andere Methode evaluiert wird\n",
    "- Sieht syntaktisch wie der Zugriff auf ein Attribut aus\n",
    "- Wird durch den *Decorator* `@property` eingeführt"
   ]
  },
  {
   "cell_type": "code",
   "execution_count": null,
   "metadata": {
    "pycharm": {
     "name": "#%%\n"
    }
   },
   "outputs": [],
   "source": [
    "class ShoppingCartV2:\n",
    "    def __init__(self, entries):\n",
    "        self.entries = entries\n",
    "\n",
    "    @property\n",
    "    def total_price(self):\n",
    "        result = 0.0\n",
    "        for entry in self.entries:\n",
    "            result += entry.total_price\n",
    "        return result"
   ]
  },
  {
   "cell_type": "code",
   "execution_count": null,
   "metadata": {
    "pycharm": {
     "name": "#%%\n"
    }
   },
   "outputs": [],
   "source": [
    "my_new_shopping_cart = ShoppingCartV2(\n",
    "    [my_new_shopping_cart_entry_1, my_new_shopping_cart_entry_2])\n",
    "print(my_new_shopping_cart_entry_1.total_price)\n",
    "print(my_new_shopping_cart.total_price)"
   ]
  },
  {
   "cell_type": "markdown",
   "metadata": {
    "pycharm": {
     "name": "#%% md\n"
    },
    "slideshow": {
     "slide_type": "slide"
    }
   },
   "source": [
    "### Dunder-Methoden"
   ]
  },
  {
   "cell_type": "code",
   "execution_count": null,
   "metadata": {
    "pycharm": {
     "name": "#%%\n"
    }
   },
   "outputs": [],
   "source": [
    "class ShoppingCart:\n",
    "    def __init__(self, entries):\n",
    "        self.entries = entries\n",
    "\n",
    "    @property\n",
    "    def total_price(self):\n",
    "        result = 0.0\n",
    "        for entry in self.entries:\n",
    "            result += entry.total_price\n",
    "        return result\n",
    "\n",
    "    def __repr__(self):\n",
    "        return f\"\"\"ShoppingCart({self.entries!r})\"\"\"\n"
   ]
  },
  {
   "cell_type": "code",
   "execution_count": null,
   "metadata": {
    "pycharm": {
     "name": "#%%\n"
    },
    "slideshow": {
     "slide_type": "slide"
    }
   },
   "outputs": [],
   "source": [
    "class ShoppingCartEntry:\n",
    "    def __init__(self, article_number, article_name, price_per_item, number_of_items):\n",
    "        self.article_number = article_number\n",
    "        self.article_name = article_name\n",
    "        self.price_per_item = price_per_item\n",
    "        self.number_of_items = number_of_items\n",
    "\n",
    "    @property\n",
    "    def total_price(self):\n",
    "        return  self.price_per_item * self.number_of_items\n",
    "\n",
    "    def __repr__(self):\n",
    "        return f\"\"\"ShoppingCartEntry({self.article_number!r}, \\\n",
    "{self.article_name!r}, \\\n",
    "{self.price_per_item!r}, \\\n",
    "{self.number_of_items!r})\"\"\""
   ]
  },
  {
   "cell_type": "code",
   "execution_count": null,
   "metadata": {
    "slideshow": {
     "slide_type": "subslide"
    }
   },
   "outputs": [],
   "source": [
    "my_shopping_cart = ShoppingCart(\n",
    "    [ShoppingCartEntry('9343', 'Strawberries', 2.99, 2),\n",
    "     ShoppingCartEntry('3742', 'Cream', 1.99, 1)])"
   ]
  },
  {
   "cell_type": "code",
   "execution_count": null,
   "metadata": {},
   "outputs": [],
   "source": [
    "my_shopping_cart"
   ]
  },
  {
   "cell_type": "code",
   "execution_count": null,
   "metadata": {},
   "outputs": [],
   "source": [
    "print(my_shopping_cart)"
   ]
  },
  {
   "cell_type": "markdown",
   "metadata": {
    "slideshow": {
     "slide_type": "slide"
    }
   },
   "source": [
    "## Mini-Workshop\n",
    "\n",
    "- Notebook `060x-Workshop Klassen`\n",
    "- Abschnitt \"TODO-Liste Version 2\""
   ]
  }
 ],
 "metadata": {
  "celltoolbar": "Slideshow",
  "kernelspec": {
   "display_name": "Python 3",
   "language": "python",
   "name": "python3"
  },
  "language_info": {
   "codemirror_mode": {
    "name": "ipython",
    "version": 3
   },
   "file_extension": ".py",
   "mimetype": "text/x-python",
   "name": "python",
   "nbconvert_exporter": "python",
   "pygments_lexer": "ipython3",
   "version": "3.8.2"
  }
 },
 "nbformat": 4,
 "nbformat_minor": 4
}
