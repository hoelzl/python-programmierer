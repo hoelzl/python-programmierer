{
 "cells": [
  {
   "cell_type": "markdown",
   "metadata": {},
   "source": [
    "<img src=\"img/python-logo-notext.svg\"\n",
    "     style=\"display:block;margin:auto;width:10%\"/>\n",
    "<h1 style=\"text-align:center;\">Python: Kurze Einführung in Klassen</h1>\n",
    "<h2 style=\"text-align:center;\">Coding Akademie München GmbH</h2>\n",
    "<br/>\n",
    "<div style=\"text-align:center;\">Dr. Matthias Hölzl</div>\n",
    "<div style=\"text-align:center;\">Allaithy Raed</div>"
   ]
  },
  {
   "cell_type": "markdown",
   "metadata": {
    "slideshow": {
     "slide_type": "slide"
    }
   },
   "source": [
    "# Klassen\n",
    "\n",
    "Wie können wir einen Eintrag in einem Warenkorb darstellen?\n",
    "\n",
    "- Artikelnummer\n",
    "- Artikelname\n",
    "- Preis pro Stück\n",
    "- Anzahl\n",
    "- Gesamtpreis\n",
    "\n",
    "Vorschlag: Liste, (Tupel, Dictionaries)"
   ]
  },
  {
   "cell_type": "code",
   "execution_count": 51,
   "metadata": {
    "slideshow": {
     "slide_type": "subslide"
    }
   },
   "outputs": [],
   "source": [
    "item = ['0713', 'Netzkabel', 3.49, 2, 6.98]"
   ]
  },
  {
   "cell_type": "code",
   "execution_count": 52,
   "metadata": {},
   "outputs": [
    {
     "data": {
      "text/plain": "['0713', 'Netzkabel', 3.49, 2, 6.98]"
     },
     "execution_count": 52,
     "metadata": {},
     "output_type": "execute_result"
    }
   ],
   "source": [
    "item"
   ]
  },
  {
   "cell_type": "markdown",
   "metadata": {
    "slideshow": {
     "slide_type": "subslide"
    }
   },
   "source": [
    "## Problem\n",
    "\n",
    "- Schwer zu erkennen, welcher Bedeutung ein Eintrag hat\n",
    "- Listenoperationen sind für Items möglich, aber nicht sinnvoll\n",
    "- Bedeutung nur implizit; für Python ist es einfach eine Liste\n",
    "- Berechnete Werte (Gesamtpreis) müssen explizit angegeben werden"
   ]
  },
  {
   "cell_type": "markdown",
   "metadata": {
    "slideshow": {
     "slide_type": "slide"
    }
   },
   "source": [
    "# Klassen und Objekte\n",
    "\n",
    "Wie können wir in Python Objekte erzeugen, in denen wir zusammengehörige Daten Speichern können?\n",
    "\n",
    "- Listen\n",
    "- Tupel\n",
    "- Dictionaries\n",
    "- *(Instanzen von) benutzerdefinierten Klassen*"
   ]
  },
  {
   "cell_type": "code",
   "execution_count": 53,
   "metadata": {
    "slideshow": {
     "slide_type": "subslide"
    }
   },
   "outputs": [],
   "source": [
    "class ShoppingCartItemV0:\n",
    "    pass"
   ]
  },
  {
   "cell_type": "code",
   "execution_count": 54,
   "metadata": {},
   "outputs": [
    {
     "data": {
      "text/plain": "<__main__.ShoppingCartItemV0 at 0x220725a7b50>"
     },
     "execution_count": 54,
     "metadata": {},
     "output_type": "execute_result"
    }
   ],
   "source": [
    "my_shopping_cart_item_1 = ShoppingCartItemV0()\n",
    "my_shopping_cart_item_1"
   ]
  },
  {
   "cell_type": "code",
   "execution_count": 55,
   "metadata": {},
   "outputs": [
    {
     "data": {
      "text/plain": "__main__.ShoppingCartItemV0"
     },
     "execution_count": 55,
     "metadata": {},
     "output_type": "execute_result"
    }
   ],
   "source": [
    "type(my_shopping_cart_item_1)"
   ]
  },
  {
   "cell_type": "code",
   "execution_count": 56,
   "metadata": {
    "slideshow": {
     "slide_type": "subslide"
    }
   },
   "outputs": [],
   "source": [
    "my_shopping_cart_item_1.article_number = '9343'\n",
    "my_shopping_cart_item_1.article_name = 'Strawberries'\n",
    "my_shopping_cart_item_1.price_per_item = 2.99"
   ]
  },
  {
   "cell_type": "code",
   "execution_count": 57,
   "metadata": {},
   "outputs": [
    {
     "data": {
      "text/plain": "'9343'"
     },
     "execution_count": 57,
     "metadata": {},
     "output_type": "execute_result"
    }
   ],
   "source": [
    "my_shopping_cart_item_1.article_number"
   ]
  },
  {
   "cell_type": "code",
   "execution_count": 58,
   "metadata": {},
   "outputs": [
    {
     "data": {
      "text/plain": "'Strawberries'"
     },
     "execution_count": 58,
     "metadata": {},
     "output_type": "execute_result"
    }
   ],
   "source": [
    "my_shopping_cart_item_1.article_name"
   ]
  },
  {
   "cell_type": "code",
   "execution_count": 59,
   "metadata": {},
   "outputs": [
    {
     "data": {
      "text/plain": "2.99"
     },
     "execution_count": 59,
     "metadata": {},
     "output_type": "execute_result"
    }
   ],
   "source": [
    "my_shopping_cart_item_1.price_per_item"
   ]
  },
  {
   "cell_type": "code",
   "execution_count": 60,
   "metadata": {
    "slideshow": {
     "slide_type": "subslide"
    }
   },
   "outputs": [],
   "source": [
    "my_shopping_cart_item_2 = ShoppingCartItemV0()\n",
    "my_shopping_cart_item_2.article_number = '3742'\n",
    "my_shopping_cart_item_2.article_name = 'Cream'"
   ]
  },
  {
   "cell_type": "code",
   "execution_count": 61,
   "metadata": {},
   "outputs": [
    {
     "name": "stdout",
     "output_type": "stream",
     "text": [
      "my_shopping_cart_item_1: 9343 Strawberries 2.99\n",
      "my_shopping_cart_item_2: 3742 Cream\n"
     ]
    }
   ],
   "source": [
    "print(\"my_shopping_cart_item_1:\",\n",
    "      my_shopping_cart_item_1.article_number,\n",
    "      my_shopping_cart_item_1.article_name,\n",
    "      my_shopping_cart_item_1.price_per_item)\n",
    "print(\"my_shopping_cart_item_2:\",\n",
    "      my_shopping_cart_item_2.article_number,\n",
    "      my_shopping_cart_item_2.article_name)"
   ]
  },
  {
   "cell_type": "code",
   "execution_count": 62,
   "metadata": {},
   "outputs": [],
   "source": [
    "# Fehler:\n",
    "# my_shopping_cart_item_2.price_per_item"
   ]
  },
  {
   "cell_type": "markdown",
   "metadata": {
    "slideshow": {
     "slide_type": "subslide"
    }
   },
   "source": [
    "## Bessere Variante: \"Abstrakter Datentyp\"\n",
    "\n",
    "Wir definieren uns einen Typ, der für \"Items in einem Warenkorb\" steht.\n",
    "Alle Instanzen dieses Typs haben die gleiche Struktur:\n",
    "\n",
    "- `article_number`, `article_name`\n",
    "- `price_per_item`, `number_of_items`\n",
    "- `total_price`, berechnet aus den vorhergehenden Werten\n"
   ]
  },
  {
   "cell_type": "markdown",
   "source": [
    "### Konstruktoren\n",
    "\n",
    "Die benötigten Werte werden bei der Konstruktion eines Items angegeben.\n",
    "\n",
    "In Python definiert man dazu die `__init__()` Methode:"
   ],
   "metadata": {
    "collapsed": false
   }
  },
  {
   "cell_type": "code",
   "execution_count": 63,
   "metadata": {},
   "outputs": [],
   "source": [
    "class ShoppingCartItemV1:\n",
    "    def __init__(self, article_number, article_name, price_per_item, number_of_items):\n",
    "        self.article_number = article_number\n",
    "        self.article_name = article_name\n",
    "        self.price_per_item = price_per_item\n",
    "        self.number_of_items = number_of_items\n",
    "        self.total_price = price_per_item * number_of_items"
   ]
  },
  {
   "cell_type": "markdown",
   "source": [
    "- Die `__init__()` Methode wird von Python nach dem Erzeugen einer Instanz\n",
    "  aufgerufen\n",
    "- Das erste Argument ist dabei immer die neu erzeuget Instanz und hat\n",
    "  per Konvention den Namen `self`\n",
    "- Die restlichen Argumente müssen an den Konstruktor übergeben werden:"
   ],
   "metadata": {
    "collapsed": false,
    "pycharm": {
     "name": "#%% md\n"
    }
   }
  },
  {
   "cell_type": "code",
   "execution_count": 64,
   "metadata": {},
   "outputs": [],
   "source": [
    "item = ShoppingCartItemV1('0713', 'Netzkabel', 3.49, 2)"
   ]
  },
  {
   "cell_type": "code",
   "execution_count": 65,
   "metadata": {
    "slideshow": {
     "slide_type": "subslide"
    }
   },
   "outputs": [
    {
     "data": {
      "text/plain": "('0713', 'Netzkabel', 3.49, 2, 6.98)"
     },
     "execution_count": 65,
     "metadata": {},
     "output_type": "execute_result"
    }
   ],
   "source": [
    "item.article_number, \\\n",
    "item.article_name, \\\n",
    "item.price_per_item, \\\n",
    "item.number_of_items, \\\n",
    "item.total_price"
   ]
  },
  {
   "cell_type": "code",
   "execution_count": 85,
   "metadata": {
    "slideshow": {
     "slide_type": "subslide"
    }
   },
   "outputs": [],
   "source": [
    "my_shopping_cart = [ShoppingCartItemV1('9343', 'Strawberries', 2.99, 2),\n",
    "                    ShoppingCartItemV1('3742', 'Cream', 1.99, 1)]"
   ]
  },
  {
   "cell_type": "markdown",
   "source": [
    "Die Ausgabe des Einkaufswagens ist mit der `ShoppingCartItem` Klasse nicht sehr\n",
    "vielsagend. Das werden wir später verbessern."
   ],
   "metadata": {
    "collapsed": false,
    "pycharm": {
     "name": "#%% md\n"
    }
   }
  },
  {
   "cell_type": "code",
   "execution_count": 86,
   "metadata": {},
   "outputs": [
    {
     "data": {
      "text/plain": "[<__main__.ShoppingCartItemV1 at 0x22072011b50>,\n <__main__.ShoppingCartItemV1 at 0x22072011f40>]"
     },
     "execution_count": 86,
     "metadata": {},
     "output_type": "execute_result"
    }
   ],
   "source": [
    "my_shopping_cart"
   ]
  },
  {
   "cell_type": "markdown",
   "source": [
    "Wir können die Preise der einzelnen Items im Einkaufswagen so berechnen:"
   ],
   "metadata": {
    "collapsed": false,
    "pycharm": {
     "name": "#%% md\n"
    }
   }
  },
  {
   "cell_type": "code",
   "execution_count": 87,
   "metadata": {},
   "outputs": [
    {
     "data": {
      "text/plain": "[5.98, 1.99]"
     },
     "execution_count": 87,
     "metadata": {},
     "output_type": "execute_result"
    }
   ],
   "source": [
    "[item.total_price for item in my_shopping_cart]"
   ]
  },
  {
   "cell_type": "code",
   "execution_count": 88,
   "metadata": {
    "slideshow": {
     "slide_type": "subslide"
    }
   },
   "outputs": [],
   "source": [
    "def total_price_of_shopping_cart(shopping_cart):\n",
    "    result = 0.0\n",
    "    for item in shopping_cart:\n",
    "        result += item.total_price\n",
    "    return result"
   ]
  },
  {
   "cell_type": "code",
   "execution_count": 70,
   "metadata": {},
   "outputs": [
    {
     "data": {
      "text/plain": "7.970000000000001"
     },
     "execution_count": 70,
     "metadata": {},
     "output_type": "execute_result"
    }
   ],
   "source": [
    "total_price_of_shopping_cart(my_shopping_cart)"
   ]
  },
  {
   "cell_type": "markdown",
   "source": [
    "### ADT für Einkaufswagen\n",
    "\n",
    "Der Einkaufswagen ist im Moment als Liste gespeichert. Es wäre möglicherweise\n",
    "hilfreich dafür ebenfalls einen Typ zu definieren:"
   ],
   "metadata": {
    "collapsed": false,
    "pycharm": {
     "name": "#%% md\n"
    }
   }
  },
  {
   "cell_type": "code",
   "execution_count": 71,
   "outputs": [],
   "source": [
    "class ShoppingCartV0:\n",
    "    def __init__(self, items):\n",
    "        self.items = items"
   ],
   "metadata": {
    "collapsed": false,
    "pycharm": {
     "name": "#%%\n"
    }
   }
  },
  {
   "cell_type": "code",
   "execution_count": 72,
   "outputs": [],
   "source": [
    "my_new_shopping_cart_item_1 = ShoppingCartItemV1('9343', 'Strawberries', 2.99, 2)\n",
    "my_new_shopping_cart_item_2 = ShoppingCartItemV1('3742', 'Cream', 1.99, 1)\n",
    "my_new_shopping_cart = ShoppingCartV0(\n",
    "    [my_new_shopping_cart_item_1,\n",
    "     my_new_shopping_cart_item_2])"
   ],
   "metadata": {
    "collapsed": false,
    "pycharm": {
     "name": "#%%\n"
    }
   }
  },
  {
   "cell_type": "code",
   "execution_count": 73,
   "outputs": [],
   "source": [
    "def total_price_of_shopping_cart(shopping_cart):\n",
    "    result = 0.0\n",
    "    for item in shopping_cart.items:\n",
    "        result += item.total_price\n",
    "    return result"
   ],
   "metadata": {
    "collapsed": false,
    "pycharm": {
     "name": "#%%\n"
    }
   }
  },
  {
   "cell_type": "code",
   "execution_count": 74,
   "outputs": [
    {
     "data": {
      "text/plain": "7.970000000000001"
     },
     "execution_count": 74,
     "metadata": {},
     "output_type": "execute_result"
    }
   ],
   "source": [
    "total_price_of_shopping_cart(my_new_shopping_cart)\n"
   ],
   "metadata": {
    "collapsed": false,
    "pycharm": {
     "name": "#%%\n"
    }
   }
  },
  {
   "cell_type": "markdown",
   "source": [
    "### Methoden\n",
    "\n",
    "- Beim `ShoppingCartItem` haben wir den Gesamtpreis als Attribut gespeichert.\n",
    "- Beim `ShoppingCart` berechnen wir den Gesamtpreis durch eine Top-Level\n",
    "  Funktion, die auf die `items` zugreift.\n",
    "- Das ist unschön.\n",
    "- Es wäre hilfreich, wenn wir die Funktionen, die zu einer Klasse gehören in\n",
    "  der Klasse definieren könnten:"
   ],
   "metadata": {
    "collapsed": false,
    "pycharm": {
     "name": "#%% md\n"
    }
   }
  },
  {
   "cell_type": "code",
   "execution_count": 76,
   "metadata": {
    "slideshow": {
     "slide_type": "subslide"
    }
   },
   "outputs": [],
   "source": [
    "class ShoppingCartV1:\n",
    "    def __init__(self, items):\n",
    "        self.items = items\n",
    "\n",
    "    def get_total_price(self):\n",
    "        result = 0.0\n",
    "        for item in self.items:\n",
    "            result += item.total_price\n",
    "        return result"
   ]
  },
  {
   "cell_type": "code",
   "execution_count": 79,
   "outputs": [],
   "source": [
    "my_new_shopping_cart = ShoppingCartV1(\n",
    "    [my_new_shopping_cart_item_1, my_new_shopping_cart_item_2])"
   ],
   "metadata": {
    "collapsed": false,
    "pycharm": {
     "name": "#%%\n"
    }
   }
  },
  {
   "cell_type": "markdown",
   "source": [
    "- Methoden werden mit der Syntax `object.method(arg1, arg2, ...)` aufgerufen.\n",
    "- Das Argument des `self`-Parameters ist `object`\n",
    "- `arg1`, `arg2`, ... werden an die folgenden Parameter gebunden."
   ],
   "metadata": {
    "collapsed": false,
    "pycharm": {
     "name": "#%% md\n"
    }
   }
  },
  {
   "cell_type": "code",
   "execution_count": 80,
   "outputs": [
    {
     "data": {
      "text/plain": "7.970000000000001"
     },
     "execution_count": 80,
     "metadata": {},
     "output_type": "execute_result"
    }
   ],
   "source": [
    "my_new_shopping_cart.get_total_price()"
   ],
   "metadata": {
    "collapsed": false,
    "pycharm": {
     "name": "#%%\n"
    }
   }
  },
  {
   "cell_type": "markdown",
   "source": [
    "### Properties\n",
    "\n",
    "In `ShoppingCartV1` ist `get_total_price()` eine Funktion, im Item hatten wir\n",
    "den Gesamtpreis in einem Attribut gespeichert.\n",
    "\n",
    "Das führt zu einem inkonsistenten Benutzerinterface:"
   ],
   "metadata": {
    "collapsed": false,
    "pycharm": {
     "name": "#%% md\n"
    }
   }
  },
  {
   "cell_type": "code",
   "execution_count": 82,
   "outputs": [
    {
     "name": "stdout",
     "output_type": "stream",
     "text": [
      "5.98\n",
      "7.970000000000001\n"
     ]
    }
   ],
   "source": [
    "print(my_new_shopping_cart_item_1.total_price)\n",
    "print(my_new_shopping_cart.get_total_price())"
   ],
   "metadata": {
    "collapsed": false,
    "pycharm": {
     "name": "#%%\n"
    }
   }
  },
  {
   "cell_type": "markdown",
   "source": [
    "Wir können diesen Unterschied durch Definition einer `total_price` Property\n",
    "vermeiden. Eine Property\n",
    "\n",
    "- Ist eine Methode, die wie jede andere Methode evaluiert wird\n",
    "- Sieht syntaktisch wie der Zugriff auf ein Attribut aus\n",
    "- Wird durch den *Decorator* `@property` eingeführt"
   ],
   "metadata": {
    "collapsed": false,
    "pycharm": {
     "name": "#%% md\n"
    }
   }
  },
  {
   "cell_type": "code",
   "execution_count": 83,
   "outputs": [],
   "source": [
    "class ShoppingCartV2:\n",
    "    def __init__(self, items):\n",
    "        self.items = items\n",
    "\n",
    "    @property\n",
    "    def total_price(self):\n",
    "        result = 0.0\n",
    "        for item in self.items:\n",
    "            result += item.total_price\n",
    "        return result"
   ],
   "metadata": {
    "collapsed": false,
    "pycharm": {
     "name": "#%%\n"
    }
   }
  },
  {
   "cell_type": "code",
   "execution_count": 84,
   "outputs": [
    {
     "name": "stdout",
     "output_type": "stream",
     "text": [
      "5.98\n",
      "7.970000000000001\n"
     ]
    }
   ],
   "source": [
    "my_new_shopping_cart = ShoppingCartV2(\n",
    "    [my_new_shopping_cart_item_1, my_new_shopping_cart_item_2])\n",
    "print(my_new_shopping_cart_item_1.total_price)\n",
    "print(my_new_shopping_cart.total_price)"
   ],
   "metadata": {
    "collapsed": false,
    "pycharm": {
     "name": "#%%\n"
    }
   }
  },
  {
   "cell_type": "markdown",
   "source": [
    "### Dunder-Methoden"
   ],
   "metadata": {
    "collapsed": false,
    "pycharm": {
     "name": "#%% md\n"
    }
   }
  },
  {
   "cell_type": "code",
   "execution_count": 105,
   "outputs": [],
   "source": [
    "class ShoppingCart:\n",
    "    def __init__(self, items):\n",
    "        self.items = items\n",
    "\n",
    "    @property\n",
    "    def total_price(self):\n",
    "        result = 0.0\n",
    "        for item in self.items:\n",
    "            result += item.total_price\n",
    "        return result\n",
    "\n",
    "    def __repr__(self):\n",
    "        return f\"\"\"ShoppingCart({self.items!r})\"\"\"\n"
   ],
   "metadata": {
    "collapsed": false,
    "pycharm": {
     "name": "#%%\n"
    }
   }
  },
  {
   "cell_type": "code",
   "execution_count": 106,
   "outputs": [],
   "source": [
    "class ShoppingCartItem:\n",
    "    def __init__(self, article_number, article_name, price_per_item, number_of_items):\n",
    "        self.article_number = article_number\n",
    "        self.article_name = article_name\n",
    "        self.price_per_item = price_per_item\n",
    "        self.number_of_items = number_of_items\n",
    "\n",
    "    @property\n",
    "    def total_price(self):\n",
    "        return  self.price_per_item * self.number_of_items\n",
    "\n",
    "    def __repr__(self):\n",
    "        return f\"\"\"ShoppingCartItem({self.article_number!r}, \\\n",
    "{self.article_name!r}, \\\n",
    "{self.price_per_item!r}, \\\n",
    "{self.number_of_items!r})\"\"\""
   ],
   "metadata": {
    "collapsed": false,
    "pycharm": {
     "name": "#%%\n"
    }
   }
  },
  {
   "cell_type": "code",
   "execution_count": 107,
   "metadata": {
    "slideshow": {
     "slide_type": "subslide"
    }
   },
   "outputs": [],
   "source": [
    "my_shopping_cart = ShoppingCart(\n",
    "    [ShoppingCartItem('9343', 'Strawberries', 2.99, 2),\n",
    "     ShoppingCartItem('3742', 'Cream', 1.99, 1)])"
   ]
  },
  {
   "cell_type": "code",
   "execution_count": 108,
   "metadata": {},
   "outputs": [
    {
     "data": {
      "text/plain": "ShoppingCart([ShoppingCartItem('9343', 'Strawberries', 2.99, 2), ShoppingCartItem('3742', 'Cream', 1.99, 1)])"
     },
     "execution_count": 108,
     "metadata": {},
     "output_type": "execute_result"
    }
   ],
   "source": [
    "my_shopping_cart"
   ]
  },
  {
   "cell_type": "code",
   "execution_count": 109,
   "metadata": {},
   "outputs": [
    {
     "name": "stdout",
     "output_type": "stream",
     "text": [
      "ShoppingCart([ShoppingCartItem('9343', 'Strawberries', 2.99, 2), ShoppingCartItem('3742', 'Cream', 1.99, 1)])\n"
     ]
    }
   ],
   "source": [
    "print(my_shopping_cart)"
   ]
  },
  {
   "cell_type": "markdown",
   "metadata": {},
   "source": [
    "## Mini-Workshop\n",
    "\n",
    "- Notebook `060x-Workshop Klassen`\n",
    "- Abschnitt \"TODO-Liste\""
   ]
  }
 ],
 "metadata": {
  "celltoolbar": "Slideshow",
  "kernelspec": {
   "display_name": "Python 3",
   "language": "python",
   "name": "python3"
  },
  "language_info": {
   "codemirror_mode": {
    "name": "ipython",
    "version": 3
   },
   "file_extension": ".py",
   "mimetype": "text/x-python",
   "name": "python",
   "nbconvert_exporter": "python",
   "pygments_lexer": "ipython3",
   "version": "3.7.6"
  }
 },
 "nbformat": 4,
 "nbformat_minor": 4
}