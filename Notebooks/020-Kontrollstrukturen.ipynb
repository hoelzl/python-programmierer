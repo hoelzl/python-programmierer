{
 "cells": [
  {
   "cell_type": "markdown",
   "metadata": {},
   "source": [
    "<img src=\"img/python-logo-notext.svg\"\n",
    "     style=\"display:block;margin:auto;width:10%\"/>\n",
    "<h1 style=\"text-align:center;\">Python: Kontrollstrukturen<br/><br/>\n",
    "Mit Exkursen in Vererbung, Ausnahmebehandlung und Dateien</h1>\n",
    "<h2 style=\"text-align:center;\">Coding Akademie München GmbH</h2>\n",
    "<br/>\n",
    "<div style=\"text-align:center;\">Dr. Matthias Hölzl</div>\n",
    "<div style=\"text-align:center;\">Allaithy Raed</div>"
   ]
  },
  {
   "cell_type": "markdown",
   "metadata": {
    "slideshow": {
     "slide_type": "slide"
    }
   },
   "source": [
    "# Namensräume\n",
    "\n",
    "Variablen und Funktionsnamen existieren in einem *Namensraum (Namespace)*.\n",
    "\n",
    "- Globale Variablen und Funktionsnamen sind im globalen Namensraum.\n",
    "- Mit `import` importierte Namen existieren im importierten Namensraum.\n",
    "- Namen, die innerhalb einer Funktion definiert werden sind im Namensraum dieser Funktion.\n",
    "    - Parameter\n",
    "    - lokale Variablen\n",
    "\n",
    "Der Namensraum einer Funktion \"verschwindet\" am Ende des Rumpfs."
   ]
  },
  {
   "cell_type": "code",
   "execution_count": 1,
   "metadata": {
    "slideshow": {
     "slide_type": "subslide"
    }
   },
   "outputs": [
    {
     "name": "stdout",
     "output_type": "stream",
     "text": [
      "3\n",
      "1\n"
     ]
    }
   ],
   "source": [
    "# Ohne Angabe der Namensräume, siehe nächste Folie\n",
    "a = 1\n",
    "def f(x):\n",
    "    # print(a) # Was passiert, wenn diese Zeile einkommentiert wird?\n",
    "    a = x + 1\n",
    "    print(a)\n",
    "f(2)\n",
    "print(a)\n",
    "# print(x)"
   ]
  },
  {
   "cell_type": "code",
   "execution_count": 2,
   "metadata": {
    "slideshow": {
     "slide_type": "subslide"
    }
   },
   "outputs": [
    {
     "name": "stdout",
     "output_type": "stream",
     "text": [
      "3\n",
      "1\n"
     ]
    }
   ],
   "source": [
    "a = 1                   # Globaler Namespace\n",
    "def f(x):               # Namespace von f - x ist im globalen Namespace *nicht* sichtbar\n",
    "    a = x + 1           # Namespace von f - a ist im globalen Namespace *nicht* sichtbar\n",
    "    print(a)            # Greift auf a aus dem Namespace von f zu\n",
    "f(2)\n",
    "print(a)                # Greift auf a aus dem globalen Namespace zu\n",
    "# print(x)              # Fehler: x ist im Namespace von f"
   ]
  },
  {
   "cell_type": "code",
   "execution_count": 3,
   "metadata": {
    "slideshow": {
     "slide_type": "subslide"
    }
   },
   "outputs": [
    {
     "name": "stdout",
     "output_type": "stream",
     "text": [
      "4\n",
      "4\n",
      "5\n"
     ]
    }
   ],
   "source": [
    "a = 1\n",
    "def f2():\n",
    "    global a\n",
    "    a = 4\n",
    "    print(a)\n",
    "f2()\n",
    "print(a)\n",
    "a = 5\n",
    "print(a)\n"
   ]
  },
  {
   "cell_type": "markdown",
   "metadata": {
    "pycharm": {
     "name": "#%% md\n"
    }
   },
   "source": [
    "# `if`-Anweisung\n",
    "\n",
    "Wiederholung:"
   ]
  },
  {
   "cell_type": "code",
   "execution_count": 4,
   "metadata": {
    "pycharm": {
     "name": "#%%\n"
    }
   },
   "outputs": [],
   "source": [
    "def ist_glückszahl(zahl):\n",
    "    print(\"Ist\", zahl, \"eine Glückszahl?\")\n",
    "    if zahl == 7:\n",
    "        print(\"Ja!\")\n",
    "    else:\n",
    "        print(\"Leider nein.\")\n",
    "    print(\"Wir wünschen Ihnen alles Gute.\")"
   ]
  },
  {
   "cell_type": "markdown",
   "metadata": {
    "slideshow": {
     "slide_type": "subslide"
    }
   },
   "source": [
    "## Mini-Workshop\n",
    "\n",
    "- Notebook `020x-Workshop Kontrollstrukturen`\n",
    "- Abschnitt \"Gerade Zahl\"\n"
   ]
  },
  {
   "cell_type": "markdown",
   "metadata": {
    "pycharm": {
     "name": "#%% md\n"
    },
    "slideshow": {
     "slide_type": "subslide"
    }
   },
   "source": [
    "## Mehrere Zweige\n",
    "\n",
    "- Wir wollen ein Spiel schreiben, in dem der Spieler eine Zahl zwischen 1 und 100 erraten muss.\n",
    "- Nachdem er geraten hat, bekommt er die Information, ob seine Zahl zu hoch, zu niedrig oder richtig war angezeigt.\n",
    "- Später wollen wir dem Spieler mehrere Versuche erlauben."
   ]
  },
  {
   "cell_type": "code",
   "execution_count": 5,
   "metadata": {
    "slideshow": {
     "slide_type": "subslide"
    }
   },
   "outputs": [],
   "source": [
    "def klassifiziere_zahl(geratene_zahl, lösung):\n",
    "    if geratene_zahl < lösung:\n",
    "        print(\"Die geratene Zahl ist zu klein!\")\n",
    "    elif geratene_zahl > lösung:\n",
    "        print(\"Die geratene Zahl ist zu groß!\")\n",
    "    else:\n",
    "        print(\"Sie haben gewonnen!\")"
   ]
  },
  {
   "cell_type": "code",
   "execution_count": 6,
   "metadata": {
    "slideshow": {
     "slide_type": "subslide"
    }
   },
   "outputs": [
    {
     "name": "stdout",
     "output_type": "stream",
     "text": [
      "Die geratene Zahl ist zu klein!\n"
     ]
    }
   ],
   "source": [
    "klassifiziere_zahl(10, 12)"
   ]
  },
  {
   "cell_type": "code",
   "execution_count": 7,
   "metadata": {},
   "outputs": [
    {
     "name": "stdout",
     "output_type": "stream",
     "text": [
      "Die geratene Zahl ist zu groß!\n"
     ]
    }
   ],
   "source": [
    "klassifiziere_zahl(14, 12)"
   ]
  },
  {
   "cell_type": "code",
   "execution_count": 8,
   "metadata": {
    "pycharm": {
     "name": "#%%\n"
    }
   },
   "outputs": [
    {
     "name": "stdout",
     "output_type": "stream",
     "text": [
      "Sie haben gewonnen!\n"
     ]
    }
   ],
   "source": [
    "klassifiziere_zahl(12, 12)"
   ]
  },
  {
   "cell_type": "markdown",
   "metadata": {
    "slideshow": {
     "slide_type": "subslide"
    }
   },
   "source": [
    "## Mini-Workshop\n",
    "\n",
    "- Notebook `020x-Workshop Kontrollstrukturen`\n",
    "- Abschnitt \"Positiv/Negativ\"\n"
   ]
  },
  {
   "cell_type": "markdown",
   "metadata": {
    "slideshow": {
     "slide_type": "subslide"
    }
   },
   "source": [
    "## Struktur einer `if`-Anweisung (vollständig):\n",
    "\n",
    "```python\n",
    "if <Bedingung 1>:\n",
    "    Rumpf, der ausgeführt wird, wenn Bedingung 1 wahr ist\n",
    "elif <Bedingung 2>:\n",
    "    Rumpf, der ausgeführt wird, wenn Bedingung 2 wahr ist\n",
    "...\n",
    "else:\n",
    "    Rumpf, der ausgeführt wird, wenn keine der Bedingungen wahr ist\n",
    "```\n",
    "- Nur das `if` und der erste Rumpf sind notwendig\n",
    "- Falls ein `elif` oder ein `else` vorhanden ist, so darf der entsprechende Rumpf nicht leer sein"
   ]
  },
  {
   "cell_type": "markdown",
   "metadata": {
    "pycharm": {
     "name": "#%% md\n"
    },
    "slideshow": {
     "slide_type": "subslide"
    }
   },
   "source": [
    "### Bessere Klassifizierung\n",
    "\n",
    "Wir wollem dem Spieler etwas mehr Information geben, wie nahe er an der richtigen Lösung ist:\n",
    "\n",
    "- Die geratene Zahl ist viel zu klein/zu groß wenn der Unterschied größer als 10 ist"
   ]
  },
  {
   "cell_type": "code",
   "execution_count": 9,
   "metadata": {
    "slideshow": {
     "slide_type": "subslide"
    }
   },
   "outputs": [],
   "source": [
    "def klassifiziere_zahl_2(geratene_zahl, lösung):\n",
    "    if geratene_zahl < lösung - 10:\n",
    "        print(\"Die geratene Zahl ist viel zu klein!\")\n",
    "    elif geratene_zahl < lösung:\n",
    "        print(\"Die geratene Zahl ist zu klein!\")\n",
    "    elif geratene_zahl > lösung + 10:\n",
    "        print(\"Die geratene Zahl ist viel zu groß!\")\n",
    "    elif geratene_zahl > lösung:\n",
    "        print(\"Die geratene Zahl ist zu groß!\")\n",
    "    else:\n",
    "        print(\"Sie haben gewonnen!\")"
   ]
  },
  {
   "cell_type": "code",
   "execution_count": 10,
   "metadata": {
    "slideshow": {
     "slide_type": "subslide"
    }
   },
   "outputs": [
    {
     "name": "stdout",
     "output_type": "stream",
     "text": [
      "Die geratene Zahl ist viel zu klein!\n"
     ]
    }
   ],
   "source": [
    "klassifiziere_zahl_2(1, 12)"
   ]
  },
  {
   "cell_type": "code",
   "execution_count": 11,
   "metadata": {},
   "outputs": [
    {
     "name": "stdout",
     "output_type": "stream",
     "text": [
      "Die geratene Zahl ist zu klein!\n"
     ]
    }
   ],
   "source": [
    "klassifiziere_zahl_2(10, 12)"
   ]
  },
  {
   "cell_type": "code",
   "execution_count": 12,
   "metadata": {},
   "outputs": [
    {
     "name": "stdout",
     "output_type": "stream",
     "text": [
      "Die geratene Zahl ist zu groß!\n"
     ]
    }
   ],
   "source": [
    "klassifiziere_zahl_2(14, 12)"
   ]
  },
  {
   "cell_type": "code",
   "execution_count": 13,
   "metadata": {},
   "outputs": [
    {
     "name": "stdout",
     "output_type": "stream",
     "text": [
      "Die geratene Zahl ist viel zu groß!\n"
     ]
    }
   ],
   "source": [
    "klassifiziere_zahl_2(24, 12)"
   ]
  },
  {
   "cell_type": "code",
   "execution_count": 14,
   "metadata": {
    "pycharm": {
     "name": "#%%\n"
    }
   },
   "outputs": [
    {
     "name": "stdout",
     "output_type": "stream",
     "text": [
      "Sie haben gewonnen!\n"
     ]
    }
   ],
   "source": [
    "klassifiziere_zahl_2(12, 12)"
   ]
  },
  {
   "cell_type": "markdown",
   "metadata": {
    "pycharm": {
     "name": "#%% md\n"
    },
    "slideshow": {
     "slide_type": "subslide"
    }
   },
   "source": [
    "Die Reihenfolge der `if`- und `elif`-Zweige ist wichtig:"
   ]
  },
  {
   "cell_type": "code",
   "execution_count": 15,
   "metadata": {},
   "outputs": [],
   "source": [
    "def klassifiziere_zahl_3(geratene_zahl, lösung):\n",
    "    if geratene_zahl < lösung:\n",
    "        print(\"Die geratene Zahl ist zu klein!\")  \n",
    "    elif geratene_zahl < lösung - 10:\n",
    "        print(\"Die geratene Zahl ist viel zu klein!\")\n",
    "    elif geratene_zahl > lösung:\n",
    "        print(\"Die geratene Zahl ist zu groß!\")\n",
    "    elif geratene_zahl > lösung + 10:\n",
    "        print(\"Die geratene Zahl ist viel zu groß!\")\n",
    "    else:\n",
    "        print(\"Sie haben gewonnen!\")"
   ]
  },
  {
   "cell_type": "code",
   "execution_count": 16,
   "metadata": {},
   "outputs": [
    {
     "name": "stdout",
     "output_type": "stream",
     "text": [
      "Die geratene Zahl ist zu klein!\n"
     ]
    }
   ],
   "source": [
    "klassifiziere_zahl_3(1, 12)"
   ]
  },
  {
   "cell_type": "code",
   "execution_count": 17,
   "metadata": {
    "pycharm": {
     "name": "#%%\n"
    }
   },
   "outputs": [
    {
     "name": "stdout",
     "output_type": "stream",
     "text": [
      "Die geratene Zahl ist zu groß!\n"
     ]
    }
   ],
   "source": [
    "klassifiziere_zahl_3(100, 12)"
   ]
  },
  {
   "cell_type": "markdown",
   "metadata": {
    "pycharm": {
     "name": "#%% md\n"
    },
    "slideshow": {
     "slide_type": "subslide"
    }
   },
   "source": [
    "## Return aus einem `if`-Statement\n",
    "\n",
    "Die Zweige eines `if`-Statements können `return` Anweisungen enthalten um einen Wert aus einer Funktion zurückzugeben:"
   ]
  },
  {
   "cell_type": "code",
   "execution_count": 18,
   "metadata": {
    "pycharm": {
     "name": "#%%\n"
    }
   },
   "outputs": [],
   "source": [
    "def ist_große_zahl(zahl):\n",
    "    if zahl > 10:\n",
    "        return True\n",
    "    else:\n",
    "        return False"
   ]
  },
  {
   "cell_type": "markdown",
   "metadata": {
    "pycharm": {
     "name": "#%% md\n"
    },
    "slideshow": {
     "slide_type": "subslide"
    }
   },
   "source": [
    "Es können auch mehrere Werte aus einem `if`-Statement zurückgegeben werden:"
   ]
  },
  {
   "cell_type": "code",
   "execution_count": 19,
   "metadata": {},
   "outputs": [],
   "source": [
    "def klassifiziere_zahl_4(geratene_zahl, lösung):\n",
    "    if geratene_zahl < lösung:\n",
    "        return False, \"Die geratene Zahl ist zu klein!\"\n",
    "    elif geratene_zahl > lösung:\n",
    "        return False, \"Die geratene Zahl ist zu groß!\"\n",
    "    else:\n",
    "        return True, \"Sie haben gewonnen!\""
   ]
  },
  {
   "cell_type": "code",
   "execution_count": 20,
   "metadata": {
    "slideshow": {
     "slide_type": "subslide"
    }
   },
   "outputs": [
    {
     "name": "stdout",
     "output_type": "stream",
     "text": [
      "False\n",
      "Die geratene Zahl ist zu klein!\n"
     ]
    }
   ],
   "source": [
    "gewonnen, text = klassifiziere_zahl_4(1, 10)\n",
    "print(gewonnen)\n",
    "print(text)"
   ]
  },
  {
   "cell_type": "code",
   "execution_count": 21,
   "metadata": {},
   "outputs": [
    {
     "name": "stdout",
     "output_type": "stream",
     "text": [
      "False\n",
      "Die geratene Zahl ist zu groß!\n"
     ]
    }
   ],
   "source": [
    "gewonnen, text = klassifiziere_zahl_4(15, 10)\n",
    "print(gewonnen)\n",
    "print(text)"
   ]
  },
  {
   "cell_type": "code",
   "execution_count": 22,
   "metadata": {
    "pycharm": {
     "name": "#%%\n"
    }
   },
   "outputs": [
    {
     "name": "stdout",
     "output_type": "stream",
     "text": [
      "True\n",
      "Sie haben gewonnen!\n"
     ]
    }
   ],
   "source": [
    "gewonnen, text = klassifiziere_zahl_4(10, 10)\n",
    "print(gewonnen)\n",
    "print(text)"
   ]
  },
  {
   "cell_type": "markdown",
   "metadata": {
    "slideshow": {
     "slide_type": "subslide"
    }
   },
   "source": [
    "## Mini-Workshop\n",
    "\n",
    "- Notebook `020x-Workshop Kontrollstrukturen`\n",
    "- Abschnitt \"Signum\"\n"
   ]
  },
  {
   "cell_type": "markdown",
   "metadata": {
    "pycharm": {
     "name": "#%% md\n"
    },
    "slideshow": {
     "slide_type": "subslide"
    }
   },
   "source": [
    "# Benutzereingaben\n",
    "\n",
    "- Die Funktion `input()` erlaubt es dem Benutzer einen Text einzugeben.\n",
    "- Optional kann sie einen Eingabeprompt ausgeben.\n",
    "- Die Funktion gibt den vom Benutzer eingegebenen Text als String zurück."
   ]
  },
  {
   "cell_type": "code",
   "execution_count": 23,
   "metadata": {
    "slideshow": {
     "slide_type": "subslide"
    }
   },
   "outputs": [],
   "source": [
    "# input(\"What is your name? \")"
   ]
  },
  {
   "cell_type": "code",
   "execution_count": 24,
   "metadata": {},
   "outputs": [],
   "source": [
    "def query_name():\n",
    "    name = input(\"What is your name? \")\n",
    "    print(f\"You entered {name}\")"
   ]
  },
  {
   "cell_type": "code",
   "execution_count": 25,
   "metadata": {
    "pycharm": {
     "name": "#%%\n"
    }
   },
   "outputs": [],
   "source": [
    "# query_name()"
   ]
  },
  {
   "cell_type": "markdown",
   "metadata": {
    "pycharm": {
     "name": "#%% md\n"
    },
    "slideshow": {
     "slide_type": "subslide"
    }
   },
   "source": [
    "## Beispiel: Konvertierung von Temperaturen\n",
    "\n",
    "Wir wollen eine Anwendung schreiben, die den Benutzer nach einer Temperatur in Fahrenheit fragt und die entsprechende Temperatur in Grad Celsius zurückgibt."
   ]
  },
  {
   "cell_type": "code",
   "execution_count": 26,
   "metadata": {
    "slideshow": {
     "slide_type": "fragment"
    }
   },
   "outputs": [],
   "source": [
    "def konvertiere_fahrenheit_nach_celsius(fahrenheit):\n",
    "    return (fahrenheit - 32) * 5 / 9"
   ]
  },
  {
   "cell_type": "code",
   "execution_count": 27,
   "metadata": {},
   "outputs": [
    {
     "data": {
      "text/plain": [
       "0.0"
      ]
     },
     "execution_count": 27,
     "metadata": {},
     "output_type": "execute_result"
    }
   ],
   "source": [
    "konvertiere_fahrenheit_nach_celsius(32)"
   ]
  },
  {
   "cell_type": "code",
   "execution_count": 28,
   "metadata": {},
   "outputs": [
    {
     "data": {
      "text/plain": [
       "32.22222222222222"
      ]
     },
     "execution_count": 28,
     "metadata": {},
     "output_type": "execute_result"
    }
   ],
   "source": [
    "konvertiere_fahrenheit_nach_celsius(90)"
   ]
  },
  {
   "cell_type": "code",
   "execution_count": 29,
   "metadata": {
    "slideshow": {
     "slide_type": "subslide"
    }
   },
   "outputs": [],
   "source": [
    "def temperaturkonverter_1():\n",
    "    fahrenheit = input(\"Bitte geben Sie die Temperatur in Fahrenheit ein: \")\n",
    "    celsius = konvertiere_fahrenheit_nach_celsius(float(fahrenheit))\n",
    "    print(f\"{fahrenheit}F sind {celsius}°C\")"
   ]
  },
  {
   "cell_type": "code",
   "execution_count": 30,
   "metadata": {},
   "outputs": [
    {
     "data": {
      "text/plain": [
       "1.23"
      ]
     },
     "execution_count": 30,
     "metadata": {},
     "output_type": "execute_result"
    }
   ],
   "source": [
    "float('1.23')"
   ]
  },
  {
   "cell_type": "code",
   "execution_count": 31,
   "metadata": {},
   "outputs": [],
   "source": [
    "# temperaturkonverter_1()"
   ]
  },
  {
   "cell_type": "code",
   "execution_count": 32,
   "metadata": {
    "slideshow": {
     "slide_type": "subslide"
    }
   },
   "outputs": [],
   "source": [
    "def temperaturkonverter_2():\n",
    "    fahrenheit = input(\"Bitte geben Sie die Temperatur in Fahrenheit ein: \")\n",
    "    if fahrenheit != \"\":\n",
    "        celsius = konvertiere_fahrenheit_nach_celsius(float(fahrenheit))\n",
    "        print(f\"{fahrenheit}F sind {celsius}°C\")\n",
    "    else:\n",
    "        print(\"Bitte geben Sie eine gültige Temperatur ein.\")"
   ]
  },
  {
   "cell_type": "code",
   "execution_count": 33,
   "metadata": {
    "pycharm": {
     "name": "#%%\n"
    }
   },
   "outputs": [],
   "source": [
    "# temperaturkonverter_2()"
   ]
  },
  {
   "cell_type": "markdown",
   "metadata": {
    "pycharm": {
     "name": "#%% md\n"
    },
    "slideshow": {
     "slide_type": "subslide"
    }
   },
   "source": [
    "## Mini-Workshop\n",
    "\n",
    "- Notebook `020x-Workshop Kontrollstrukturen`\n",
    "- Abschnitt \"Umrechnung in Meilen\"\n"
   ]
  },
  {
   "cell_type": "code",
   "execution_count": 34,
   "metadata": {
    "slideshow": {
     "slide_type": "subslide"
    }
   },
   "outputs": [],
   "source": [
    "def temperaturkonverter_3():\n",
    "    fahrenheit = input(\"Bitte geben Sie die Temperatur in Fahrenheit ein: \")\n",
    "    if fahrenheit:\n",
    "        celsius = konvertiere_fahrenheit_nach_celsius(float(fahrenheit))\n",
    "        print(f\"{fahrenheit}F sind {celsius}°C\")\n",
    "    else:\n",
    "        print(\"Bitte geben Sie eine gültige Temperatur ein.\")"
   ]
  },
  {
   "cell_type": "code",
   "execution_count": 35,
   "metadata": {
    "pycharm": {
     "name": "#%%\n"
    }
   },
   "outputs": [],
   "source": [
    "# temperaturkonverter_3()"
   ]
  },
  {
   "cell_type": "markdown",
   "metadata": {
    "pycharm": {
     "name": "#%% md\n"
    },
    "slideshow": {
     "slide_type": "subslide"
    }
   },
   "source": [
    "# Wahrheitswerte: Truthiness\n",
    "\n",
    "Die `if`-Anweisung kann als Argument beliebige Python-Werte bekommen, nicht nur Boole'sche Werte.\n",
    "\n",
    "Folgende Werte gelten als *nicht wahr*\n",
    "\n",
    "- `None` und `False`\n",
    "- `0` und `0.0` (und Null-Werte von anderen Zahlentypen)\n",
    "- Leere Strings, Sequences und Collections: ``\n",
    "\n",
    "Alle anderen Werte gelten als wahr."
   ]
  },
  {
   "cell_type": "code",
   "execution_count": 36,
   "metadata": {
    "slideshow": {
     "slide_type": "subslide"
    }
   },
   "outputs": [
    {
     "name": "stdout",
     "output_type": "stream",
     "text": [
      "-1 ist wahr\n"
     ]
    }
   ],
   "source": [
    "if -1:\n",
    "    print(\"-1 ist wahr\")\n",
    "elif 0:\n",
    "    print(\"0 ist wahr\")\n",
    "else:\n",
    "    print(\"Alles ist falsch\")"
   ]
  },
  {
   "cell_type": "code",
   "execution_count": 37,
   "metadata": {
    "slideshow": {
     "slide_type": "-"
    }
   },
   "outputs": [
    {
     "name": "stdout",
     "output_type": "stream",
     "text": [
      "0 ist falsch\n"
     ]
    }
   ],
   "source": [
    "if 0:\n",
    "    print(\"0 ist wahr\")\n",
    "else:\n",
    "    print(\"0 ist falsch\")"
   ]
  },
  {
   "cell_type": "code",
   "execution_count": 38,
   "metadata": {
    "slideshow": {
     "slide_type": "subslide"
    }
   },
   "outputs": [
    {
     "name": "stdout",
     "output_type": "stream",
     "text": [
      "'' falsch\n"
     ]
    }
   ],
   "source": [
    "if '':\n",
    "    print(\"'' ist wahr\")\n",
    "else:\n",
    "    print(\"'' falsch\")"
   ]
  },
  {
   "cell_type": "code",
   "execution_count": 39,
   "metadata": {
    "pycharm": {
     "name": "#%%\n"
    }
   },
   "outputs": [
    {
     "name": "stdout",
     "output_type": "stream",
     "text": [
      "Hallo\n",
      "None ist falsch\n"
     ]
    }
   ],
   "source": [
    "if print(\"Hallo\"):\n",
    "    print(\"None ist wahr\")\n",
    "else:\n",
    "    print(\"None ist falsch\")"
   ]
  },
  {
   "cell_type": "markdown",
   "metadata": {
    "slideshow": {
     "slide_type": "subslide"
    }
   },
   "source": [
    "## Mini-Workshop\n",
    "\n",
    "- Notebook `020x-Workshop Kontrollstrukturen`\n",
    "- Abschnitt \"Umrechnung in Meilen mit Truthiness\"\n"
   ]
  },
  {
   "cell_type": "markdown",
   "metadata": {
    "slideshow": {
     "slide_type": "subslide"
    }
   },
   "source": [
    "## Mini-Workshop\n",
    "\n",
    "- Notebook `020x-Workshop Kontrollstrukturen`\n",
    "- Abschnitt \"Kino-Preis\"\n"
   ]
  },
  {
   "cell_type": "markdown",
   "metadata": {
    "pycharm": {
     "name": "#%% md\n"
    },
    "slideshow": {
     "slide_type": "subslide"
    }
   },
   "source": [
    "## Hinweis: Umwandeln eines Strings in Kleinbuchstaben"
   ]
  },
  {
   "cell_type": "code",
   "execution_count": 40,
   "metadata": {},
   "outputs": [
    {
     "name": "stdout",
     "output_type": "stream",
     "text": [
      "das ist ein text\n",
      "Das ist ein Text\n"
     ]
    }
   ],
   "source": [
    "text = \"Das ist ein Text\"\n",
    "print(text.lower())\n",
    "print(text)"
   ]
  },
  {
   "cell_type": "code",
   "execution_count": 41,
   "metadata": {
    "pycharm": {
     "name": "#%%\n"
    }
   },
   "outputs": [
    {
     "data": {
      "text/plain": [
       "'DAS IST EIN TEXT'"
      ]
     },
     "execution_count": 41,
     "metadata": {},
     "output_type": "execute_result"
    }
   ],
   "source": [
    "\"Das ist ein Text\".upper()"
   ]
  },
  {
   "cell_type": "markdown",
   "metadata": {
    "slideshow": {
     "slide_type": "subslide"
    }
   },
   "source": [
    "## Mini-Workshop\n",
    "\n",
    "- Notebook `020x-Workshop Kontrollstrukturen`\n",
    "- Abschnitt \"Shout\"\n"
   ]
  },
  {
   "cell_type": "markdown",
   "metadata": {
    "pycharm": {
     "name": "#%% md\n"
    },
    "slideshow": {
     "slide_type": "slide"
    }
   },
   "source": [
    "# While-Schleifen\n",
    "\n",
    "Manchmal wollen wir einen Teil eines Programms immer wieder ausführen:\n",
    "\n",
    "- Zahlenraten bis die richtige Zahl gefunden wurde\n",
    "- Physik-Simulation bis das Ergebnis genau genug ist\n",
    "- Verarbeitung von Benutzereingaben in interaktiven Programmen\n",
    "\n",
    "Wenn wir die Anzahl der Wiederholungen nicht von vornherein wissen, verwenden wir dafür in der Regel eine While-Schleife."
   ]
  },
  {
   "cell_type": "code",
   "execution_count": 42,
   "metadata": {
    "slideshow": {
     "slide_type": "subslide"
    }
   },
   "outputs": [
    {
     "name": "stdout",
     "output_type": "stream",
     "text": [
      "Durchlauf 0\n",
      "Durchlauf 1\n",
      "Durchlauf 2\n"
     ]
    }
   ],
   "source": [
    "number = 0\n",
    "while number < 3:\n",
    "    print(f\"Durchlauf {number}\")\n",
    "    number += 1 # <=="
   ]
  },
  {
   "cell_type": "code",
   "execution_count": 43,
   "metadata": {
    "slideshow": {
     "slide_type": "subslide"
    }
   },
   "outputs": [],
   "source": [
    "def führe_ein_experiment_aus(versuch_nr):\n",
    "    \"\"\"Führt ein Experiment aus\n",
    "    Gibt True zurück wenn das Experiment erfolgreich war, andernfalls False.\n",
    "    \"\"\"\n",
    "    print(f\"Versuch Nr. {versuch_nr} gestartet...\", end='')\n",
    "    from random import random\n",
    "    if random() > 0.8:\n",
    "        print(\"Erfolg!\")\n",
    "        return True\n",
    "    else:\n",
    "        print(\"Fehlschlag.\")\n",
    "        return False"
   ]
  },
  {
   "cell_type": "code",
   "execution_count": 44,
   "metadata": {
    "pycharm": {
     "name": "#%%\n"
    },
    "slideshow": {
     "slide_type": "subslide"
    }
   },
   "outputs": [
    {
     "name": "stdout",
     "output_type": "stream",
     "text": [
      "Versuch Nr. 0 gestartet...Fehlschlag.\n",
      "Versuch Nr. 1 gestartet...Erfolg!\n",
      "Wir haben einen erfolgreichen Versuch ausgeführt.\n"
     ]
    }
   ],
   "source": [
    "versuch_nr = 0\n",
    "\n",
    "while not führe_ein_experiment_aus(versuch_nr):\n",
    "    versuch_nr += 1\n",
    "\n",
    "print(\"Wir haben einen erfolgreichen Versuch ausgeführt.\")"
   ]
  },
  {
   "cell_type": "markdown",
   "metadata": {
    "pycharm": {
     "name": "#%% md\n"
    },
    "slideshow": {
     "slide_type": "subslide"
    }
   },
   "source": [
    "## Beenden von Schleifen\n",
    "\n",
    "Manchmal ist es leichter, die Abbruchbedingung einer Schleife im Rumpf zu bestimmen, statt am Anfang. Mit der Anweisung `break` kann man eine Schleife vorzeitig beenden:"
   ]
  },
  {
   "cell_type": "code",
   "execution_count": 45,
   "metadata": {},
   "outputs": [
    {
     "name": "stdout",
     "output_type": "stream",
     "text": [
      "1\n",
      "2\n",
      "3\n",
      "Nach der Schleife: 3\n"
     ]
    }
   ],
   "source": [
    "i = 1\n",
    "while i < 10:\n",
    "    print(i)\n",
    "    if i % 3 == 0:\n",
    "        break\n",
    "    i += 1\n",
    "print(\"Nach der Schleife:\", i)"
   ]
  },
  {
   "cell_type": "code",
   "execution_count": 46,
   "metadata": {
    "pycharm": {
     "name": "#%%\n"
    },
    "slideshow": {
     "slide_type": "subslide"
    }
   },
   "outputs": [],
   "source": [
    "def annoy_user():\n",
    "    while True:\n",
    "        text = input(\"Say hi! \")\n",
    "        if text.lower() == \"hi\":\n",
    "            break\n",
    "        else:\n",
    "            print(\"You chose\", text)"
   ]
  },
  {
   "cell_type": "code",
   "execution_count": 47,
   "metadata": {},
   "outputs": [],
   "source": [
    "# annoy_user()"
   ]
  },
  {
   "cell_type": "markdown",
   "metadata": {
    "pycharm": {
     "name": "#%% md\n"
    },
    "slideshow": {
     "slide_type": "subslide"
    }
   },
   "source": [
    "## Mini-Workshop\n",
    "\n",
    "- Notebook `020x-Workshop Kontrollstrukturen`\n",
    "- Abschnitt \"Ratespiele\"\n"
   ]
  },
  {
   "cell_type": "markdown",
   "metadata": {
    "slideshow": {
     "slide_type": "slide"
    }
   },
   "source": [
    "# Vererbung"
   ]
  },
  {
   "cell_type": "code",
   "execution_count": 48,
   "metadata": {},
   "outputs": [],
   "source": [
    "import random\n",
    "class Point:\n",
    "    def __init__(self, x=0, y=0):\n",
    "        self.x = x\n",
    "        self.y = y\n",
    "\n",
    "    def __repr__(self):\n",
    "        return f\"Point({self.x:.1f}, {self.y:.1f})\"\n",
    "\n",
    "    def move(self, dx=0, dy=0):\n",
    "        self.x += dx\n",
    "        self.y += dy\n",
    "    \n",
    "    def randomize(self):\n",
    "        self.x = random.gauss(2, 4)\n",
    "        self.y = random.gauss(3, 2)"
   ]
  },
  {
   "cell_type": "code",
   "execution_count": 49,
   "metadata": {
    "slideshow": {
     "slide_type": "subslide"
    }
   },
   "outputs": [
    {
     "data": {
      "text/plain": [
       "Point(0.0, 0.0)"
      ]
     },
     "execution_count": 49,
     "metadata": {},
     "output_type": "execute_result"
    }
   ],
   "source": [
    "p = Point(0, 0)\n",
    "p"
   ]
  },
  {
   "cell_type": "code",
   "execution_count": 50,
   "metadata": {},
   "outputs": [
    {
     "data": {
      "text/plain": [
       "Point(2.0, 3.0)"
      ]
     },
     "execution_count": 50,
     "metadata": {},
     "output_type": "execute_result"
    }
   ],
   "source": [
    "p.move(2, 3)\n",
    "p"
   ]
  },
  {
   "cell_type": "code",
   "execution_count": 51,
   "metadata": {},
   "outputs": [
    {
     "data": {
      "text/plain": [
       "Point(2.3, 4.8)"
      ]
     },
     "execution_count": 51,
     "metadata": {},
     "output_type": "execute_result"
    }
   ],
   "source": [
    "p.randomize()\n",
    "p"
   ]
  },
  {
   "cell_type": "code",
   "execution_count": 52,
   "metadata": {
    "slideshow": {
     "slide_type": "subslide"
    }
   },
   "outputs": [],
   "source": [
    "class ColorPoint(Point):\n",
    "    def __init__(self, x=0, y=0, color='black'):\n",
    "        super().__init__(x, y)\n",
    "        self.color = color\n",
    "    \n",
    "    def __repr__(self):\n",
    "        return f\"ColorPoint({self.x:.1f}, {self.y:.1f}, {self.color!r})\"\n",
    "\n",
    "    def randomize(self):\n",
    "        super().randomize()\n",
    "        self.color = random.choice([\"black\", \"red\", \"green\", \"blue\", \"yellow\", \"white\"])"
   ]
  },
  {
   "cell_type": "code",
   "execution_count": 53,
   "metadata": {},
   "outputs": [
    {
     "data": {
      "text/plain": [
       "ColorPoint(2.0, 3.0, 'red')"
      ]
     },
     "execution_count": 53,
     "metadata": {},
     "output_type": "execute_result"
    }
   ],
   "source": [
    "cp = ColorPoint(2, 3, 'red')\n",
    "cp"
   ]
  },
  {
   "cell_type": "code",
   "execution_count": 54,
   "metadata": {},
   "outputs": [
    {
     "data": {
      "text/plain": [
       "ColorPoint(4.0, 6.0, 'red')"
      ]
     },
     "execution_count": 54,
     "metadata": {},
     "output_type": "execute_result"
    }
   ],
   "source": [
    "cp.move(2, 3)\n",
    "cp"
   ]
  },
  {
   "cell_type": "code",
   "execution_count": 55,
   "metadata": {},
   "outputs": [
    {
     "data": {
      "text/plain": [
       "ColorPoint(4.8, 2.4, 'red')"
      ]
     },
     "execution_count": 55,
     "metadata": {},
     "output_type": "execute_result"
    }
   ],
   "source": [
    "cp.randomize()\n",
    "cp"
   ]
  },
  {
   "cell_type": "markdown",
   "metadata": {
    "pycharm": {
     "name": "#%% md\n"
    },
    "slideshow": {
     "slide_type": "subslide"
    }
   },
   "source": [
    "## Mini-Workshop\n",
    "\n",
    "- Notebook `020x-Workshop Kontrollstrukturen`\n",
    "- Abschnitt \"Vererbung\"\n"
   ]
  },
  {
   "cell_type": "markdown",
   "metadata": {
    "slideshow": {
     "slide_type": "slide"
    }
   },
   "source": [
    "# Fehlerbehandlung\n",
    "\n",
    "Wir wollen eine Funktion `int_sqrt(n: int) -> int` schreiben, die die \"Ganzzahlige Wurzel\" berechnet:\n",
    "- Wenn `n` eine Quadratzahl ist, also die Form `m * m` hat, dann soll `m` zurückgegeben werden.\n",
    "- Was machen wir, falls `n` keine Quadratzahl ist?\n",
    "\n",
    "Einige Lösungsversuche:"
   ]
  },
  {
   "cell_type": "code",
   "execution_count": 56,
   "metadata": {
    "slideshow": {
     "slide_type": "subslide"
    }
   },
   "outputs": [],
   "source": [
    "def int_sqrt_with_pair(n: int) -> (int, bool):\n",
    "    for m in range(n + 1):\n",
    "        if m * m == n:\n",
    "            return m, True\n",
    "    return 0, False"
   ]
  },
  {
   "cell_type": "code",
   "execution_count": 57,
   "metadata": {
    "slideshow": {
     "slide_type": "subslide"
    }
   },
   "outputs": [
    {
     "data": {
      "text/plain": [
       "(3, True)"
      ]
     },
     "execution_count": 57,
     "metadata": {},
     "output_type": "execute_result"
    }
   ],
   "source": [
    "int_sqrt_with_pair(9)"
   ]
  },
  {
   "cell_type": "code",
   "execution_count": 58,
   "metadata": {},
   "outputs": [
    {
     "data": {
      "text/plain": [
       "(0, False)"
      ]
     },
     "execution_count": 58,
     "metadata": {},
     "output_type": "execute_result"
    }
   ],
   "source": [
    "int_sqrt_with_pair(8)"
   ]
  },
  {
   "cell_type": "code",
   "execution_count": 59,
   "metadata": {},
   "outputs": [
    {
     "data": {
      "text/plain": [
       "(0, True)"
      ]
     },
     "execution_count": 59,
     "metadata": {},
     "output_type": "execute_result"
    }
   ],
   "source": [
    "int_sqrt_with_pair(0)"
   ]
  },
  {
   "cell_type": "code",
   "execution_count": 60,
   "metadata": {},
   "outputs": [
    {
     "data": {
      "text/plain": [
       "(1, True)"
      ]
     },
     "execution_count": 60,
     "metadata": {},
     "output_type": "execute_result"
    }
   ],
   "source": [
    "int_sqrt_with_pair(1)"
   ]
  },
  {
   "cell_type": "code",
   "execution_count": 61,
   "metadata": {
    "slideshow": {
     "slide_type": "subslide"
    }
   },
   "outputs": [
    {
     "name": "stdout",
     "output_type": "stream",
     "text": [
      "The root of 8 is 0.\n"
     ]
    }
   ],
   "source": [
    "def print_int_sqrt_1(n):\n",
    "    root, is_valid = int_sqrt_with_pair(8)\n",
    "    print(f\"The root of {n} is {root}.\")\n",
    "\n",
    "print_int_sqrt_1(8)"
   ]
  },
  {
   "cell_type": "code",
   "execution_count": 62,
   "metadata": {
    "slideshow": {
     "slide_type": "subslide"
    }
   },
   "outputs": [],
   "source": [
    "def int_sqrt_with_negative_value(n: int) -> int:\n",
    "    for m in range(n + 1):\n",
    "        if m * m == n:\n",
    "            return m\n",
    "    return -1"
   ]
  },
  {
   "cell_type": "code",
   "execution_count": 63,
   "metadata": {
    "slideshow": {
     "slide_type": "subslide"
    }
   },
   "outputs": [
    {
     "data": {
      "text/plain": [
       "3"
      ]
     },
     "execution_count": 63,
     "metadata": {},
     "output_type": "execute_result"
    }
   ],
   "source": [
    "int_sqrt_with_negative_value(9)"
   ]
  },
  {
   "cell_type": "code",
   "execution_count": 64,
   "metadata": {},
   "outputs": [
    {
     "data": {
      "text/plain": [
       "-1"
      ]
     },
     "execution_count": 64,
     "metadata": {},
     "output_type": "execute_result"
    }
   ],
   "source": [
    "int_sqrt_with_negative_value(8)"
   ]
  },
  {
   "cell_type": "code",
   "execution_count": 65,
   "metadata": {
    "slideshow": {
     "slide_type": "subslide"
    }
   },
   "outputs": [
    {
     "name": "stdout",
     "output_type": "stream",
     "text": [
      "The root of 8 is -1.\n"
     ]
    }
   ],
   "source": [
    "def print_int_sqrt_2(n):\n",
    "    root = int_sqrt_with_negative_value(8)\n",
    "    print(f\"The root of {n} is {root}.\")\n",
    "\n",
    "print_int_sqrt_2(8)"
   ]
  },
  {
   "cell_type": "code",
   "execution_count": 66,
   "metadata": {
    "slideshow": {
     "slide_type": "subslide"
    }
   },
   "outputs": [
    {
     "name": "stdout",
     "output_type": "stream",
     "text": [
      "8 does not have a root!\n"
     ]
    }
   ],
   "source": [
    "def print_int_sqrt_2_better(n):\n",
    "    root = int_sqrt_with_negative_value(8)\n",
    "    if root < 0:\n",
    "        print(f\"{n} does not have a root!\")\n",
    "    else:\n",
    "        print(f\"The root of {n} is {root}.\")\n",
    "\n",
    "print_int_sqrt_2_better(8)"
   ]
  },
  {
   "cell_type": "markdown",
   "metadata": {
    "slideshow": {
     "slide_type": "subslide"
    }
   },
   "source": [
    "Beide Ansätze haben mehrere Probleme:\n",
    "- Die Fehlerbehandlung ist optional. Wird sie nicht durchgeführt, so wird mit einem falschen Wert weitergerechnet.\n",
    "- Kann der Aufrufer den Fehler nicht selber behandeln, so muss der Fehler über mehrere Ebenen von Funktionsaufrufen \"durchgereicht\" werden. Das führt zu unübersichtlichem Code, da der \"interessante\" Pfad nicht vom Code zur Fehlerbehandlung getrennt ist.\n",
    "\n",
    "Eine bessere Lösung:"
   ]
  },
  {
   "cell_type": "code",
   "execution_count": 67,
   "metadata": {
    "slideshow": {
     "slide_type": "subslide"
    }
   },
   "outputs": [],
   "source": [
    "def int_sqrt(n: int) -> int:\n",
    "    for m in range(n + 1):\n",
    "        if m * m == n:\n",
    "            return m\n",
    "    raise ValueError(f\"{n} is not a square number.\")"
   ]
  },
  {
   "cell_type": "code",
   "execution_count": 68,
   "metadata": {
    "slideshow": {
     "slide_type": "subslide"
    }
   },
   "outputs": [
    {
     "data": {
      "text/plain": [
       "3"
      ]
     },
     "execution_count": 68,
     "metadata": {},
     "output_type": "execute_result"
    }
   ],
   "source": [
    "int_sqrt(9)"
   ]
  },
  {
   "cell_type": "code",
   "execution_count": 69,
   "metadata": {},
   "outputs": [
    {
     "data": {
      "text/plain": [
       "0"
      ]
     },
     "execution_count": 69,
     "metadata": {},
     "output_type": "execute_result"
    }
   ],
   "source": [
    "int_sqrt(0)"
   ]
  },
  {
   "cell_type": "code",
   "execution_count": 70,
   "metadata": {},
   "outputs": [
    {
     "data": {
      "text/plain": [
       "1"
      ]
     },
     "execution_count": 70,
     "metadata": {},
     "output_type": "execute_result"
    }
   ],
   "source": [
    "int_sqrt(1)"
   ]
  },
  {
   "cell_type": "code",
   "execution_count": 71,
   "metadata": {
    "slideshow": {
     "slide_type": "subslide"
    }
   },
   "outputs": [],
   "source": [
    "# int_sqrt(8)"
   ]
  },
  {
   "cell_type": "code",
   "execution_count": null,
   "metadata": {
    "slideshow": {
     "slide_type": "subslide"
    }
   },
   "outputs": [],
   "source": [
    "def print_int_sqrt(n):\n",
    "    root = int_sqrt(n)\n",
    "    print(f\"The root of {n} is {root}.\")"
   ]
  },
  {
   "cell_type": "code",
   "execution_count": 73,
   "metadata": {
    "slideshow": {
     "slide_type": "subslide"
    }
   },
   "outputs": [],
   "source": [
    "# print_int_sqrt(8)"
   ]
  },
  {
   "cell_type": "code",
   "execution_count": 74,
   "metadata": {
    "slideshow": {
     "slide_type": "subslide"
    }
   },
   "outputs": [],
   "source": [
    "def print_int_sqrt_no_error(n):\n",
    "    try:\n",
    "        root = int_sqrt(n)\n",
    "        print(f\"The root of {n} is {root}.\")\n",
    "    except ValueError as error:\n",
    "        print(str(error))"
   ]
  },
  {
   "cell_type": "code",
   "execution_count": 75,
   "metadata": {
    "slideshow": {
     "slide_type": "subslide"
    }
   },
   "outputs": [
    {
     "name": "stdout",
     "output_type": "stream",
     "text": [
      "The root of 9 is 3.\n"
     ]
    }
   ],
   "source": [
    "print_int_sqrt_no_error(9)"
   ]
  },
  {
   "cell_type": "code",
   "execution_count": 76,
   "metadata": {
    "slideshow": {
     "slide_type": "-"
    }
   },
   "outputs": [
    {
     "name": "stdout",
     "output_type": "stream",
     "text": [
      "8 is not a square number.\n"
     ]
    }
   ],
   "source": [
    "print_int_sqrt_no_error(8)"
   ]
  },
  {
   "cell_type": "code",
   "execution_count": 77,
   "metadata": {
    "slideshow": {
     "slide_type": "subslide"
    }
   },
   "outputs": [],
   "source": [
    "def print_int_sqrt_no_error_2(n):\n",
    "    try:\n",
    "        root = int_sqrt(n)\n",
    "        print(f\"The root of {n} is {root}.\")\n",
    "    except ValueError:\n",
    "        print(f\"{n} does not have a root!\")\n",
    "    finally:\n",
    "        print(\"And that's all there is to say about this topic.\")"
   ]
  },
  {
   "cell_type": "code",
   "execution_count": 78,
   "metadata": {
    "slideshow": {
     "slide_type": "subslide"
    }
   },
   "outputs": [
    {
     "name": "stdout",
     "output_type": "stream",
     "text": [
      "The root of 9 is 3.\n",
      "And that's all there is to say about this topic.\n"
     ]
    }
   ],
   "source": [
    "print_int_sqrt_no_error_2(9)"
   ]
  },
  {
   "cell_type": "code",
   "execution_count": 79,
   "metadata": {},
   "outputs": [
    {
     "name": "stdout",
     "output_type": "stream",
     "text": [
      "8 does not have a root!\n",
      "And that's all there is to say about this topic.\n"
     ]
    }
   ],
   "source": [
    "print_int_sqrt_no_error_2(8)"
   ]
  },
  {
   "cell_type": "markdown",
   "metadata": {
    "slideshow": {
     "slide_type": "subslide"
    }
   },
   "source": [
    "## Fehlerklassen\n",
    "\n",
    "In Python gibt es viele vordefinierte Fehlerklassen, mit denen verschiedene Fehlerarten signalisiert werden können:\n",
    "- `Exception`: Basisklasse aller behandelbaren Exceptions\n",
    "- `ArithmeticError`: Basisklasse aller Fehler bei Rechenoperationen:\n",
    "  - OverflowError\n",
    "  - ZeroDivisionError\n",
    "- `LookupError`: Basisklasse wenn ein ungültiger Index für eine Datenstruktur verwendet wurde\n",
    "- `AssertionError`: Fehlerklasse, die von `assert` verwendet wird\n",
    "- `EOFError`: Fehler wenn `intput()` unerwartet das Ende einer Datei erreicht\n",
    "- ...\n",
    "\n",
    "Die Liste der in der Standardbibliothek definierten Fehlerklassen ist [hier](https://docs.python.org/3/library/exceptions.html)."
   ]
  },
  {
   "cell_type": "code",
   "execution_count": 80,
   "metadata": {
    "slideshow": {
     "slide_type": "subslide"
    }
   },
   "outputs": [],
   "source": [
    "class NoRootError(ValueError):\n",
    "    pass"
   ]
  },
  {
   "cell_type": "code",
   "execution_count": 81,
   "metadata": {
    "slideshow": {
     "slide_type": "-"
    }
   },
   "outputs": [
    {
     "name": "stdout",
     "output_type": "stream",
     "text": [
      "Case 2: ValueError\n"
     ]
    }
   ],
   "source": [
    "try:\n",
    "    raise ValueError(\"ValueError\")\n",
    "    # raise NoRootError(\"This is a NoRootError.\")\n",
    "except NoRootError as error:\n",
    "    print(f\"Case 1: {error}\")\n",
    "except ValueError as error:\n",
    "    print(f\"Case 2: {error}\")"
   ]
  },
  {
   "cell_type": "code",
   "execution_count": 82,
   "metadata": {
    "slideshow": {
     "slide_type": "subslide"
    }
   },
   "outputs": [],
   "source": [
    "my_var = 1\n",
    "assert my_var == 1"
   ]
  },
  {
   "cell_type": "markdown",
   "metadata": {
    "pycharm": {
     "name": "#%% md\n"
    },
    "slideshow": {
     "slide_type": "subslide"
    }
   },
   "source": [
    "## Mini-Workshop\n",
    "\n",
    "- Notebook `020x-Workshop Kontrollstrukturen`\n",
    "- Abschnitt \"Knobeln\"\n"
   ]
  },
  {
   "cell_type": "markdown",
   "metadata": {
    "slideshow": {
     "slide_type": "slide"
    }
   },
   "source": [
    "# Dateien\n",
    "\n",
    "Bislang gehen am Ende der Programmausführung alle Daten, die wir berechnet haben verloren.\n",
    "\n",
    "Die einfachste Varianten Daten zu persistieren ist sie in einer Datei zu speichern:"
   ]
  },
  {
   "cell_type": "code",
   "execution_count": 83,
   "metadata": {
    "slideshow": {
     "slide_type": "subslide"
    }
   },
   "outputs": [],
   "source": [
    "import os"
   ]
  },
  {
   "cell_type": "code",
   "execution_count": 84,
   "metadata": {},
   "outputs": [
    {
     "data": {
      "text/plain": [
       "'C:\\\\Users\\\\tc\\\\PycharmProjects\\\\Python-Programmierer\\\\Notebooks'"
      ]
     },
     "execution_count": 84,
     "metadata": {},
     "output_type": "execute_result"
    }
   ],
   "source": [
    "os.getcwd()"
   ]
  },
  {
   "cell_type": "markdown",
   "metadata": {
    "slideshow": {
     "slide_type": "subslide"
    }
   },
   "source": [
    "- Mit `open()` kann eine Datei zum Lesen oder Schreiben geöffnet werden.\n",
    "- Der `mode` Parameter gibt an, ob die Datei zum Lesen oder Schreiben geöffnet wird:\n",
    "  - `r`: Lesen\n",
    "  - `w`: Schreiben. Der Inhalt der Datei wird gelöscht\n",
    "  - `a`: Schreiben. Die neuen Daten werden ans Ende der Datei geschrieben.\n",
    "  - `x`: Schreiben. Die Datei darf nicht existieren.\n",
    "  - `r+`: Lesen und Schreiben.\n",
    "- Wird ans Ende von `mode` der Buchstabe `b` angehängt, so wird die Datei als Binärdatei behandelt.\n",
    "- Mit den Methoden `tell()` und `seek()` kann die Position in der Datei abgefragt oder verändert werden."
   ]
  },
  {
   "cell_type": "code",
   "execution_count": 85,
   "metadata": {
    "slideshow": {
     "slide_type": "subslide"
    }
   },
   "outputs": [],
   "source": [
    "file = open('my-data-file.txt', 'w')\n",
    "file.write(\"The first line.\\n\")\n",
    "file.write(\"The second line.\\n\")\n",
    "file.close()"
   ]
  },
  {
   "cell_type": "code",
   "execution_count": 86,
   "metadata": {
    "slideshow": {
     "slide_type": "subslide"
    }
   },
   "outputs": [
    {
     "name": "stdout",
     "output_type": "stream",
     "text": [
      "The first line.\n",
      "The second line.\n",
      "\n"
     ]
    },
    {
     "data": {
      "text/plain": [
       "'The first line.\\nThe second line.\\n'"
      ]
     },
     "execution_count": 86,
     "metadata": {},
     "output_type": "execute_result"
    }
   ],
   "source": [
    "file = open('my-data-file.txt', 'r')\n",
    "contents = file.read()\n",
    "print(contents)\n",
    "file.close()\n",
    "contents"
   ]
  },
  {
   "cell_type": "code",
   "execution_count": 87,
   "metadata": {
    "slideshow": {
     "slide_type": "subslide"
    }
   },
   "outputs": [],
   "source": [
    "file = open('my-data-file.txt', mode='w')\n",
    "file.write(\"Another line.\\n\")\n",
    "file.write(\"Yet another line.\\n\")\n",
    "file.close()"
   ]
  },
  {
   "cell_type": "code",
   "execution_count": 88,
   "metadata": {
    "slideshow": {
     "slide_type": "subslide"
    }
   },
   "outputs": [
    {
     "name": "stdout",
     "output_type": "stream",
     "text": [
      "Another line.\n",
      "Yet another line.\n",
      "\n"
     ]
    }
   ],
   "source": [
    "file = open('my-data-file.txt', mode='r')\n",
    "contents = file.read()\n",
    "print(contents)\n",
    "file.close()"
   ]
  },
  {
   "cell_type": "code",
   "execution_count": 89,
   "metadata": {
    "slideshow": {
     "slide_type": "subslide"
    }
   },
   "outputs": [],
   "source": [
    "file = open('my-data-file.txt', mode='a')\n",
    "file.write(\"Let's try this again.\\n\")\n",
    "file.write(\"Until we succeed.\\n\")\n",
    "file.close()"
   ]
  },
  {
   "cell_type": "code",
   "execution_count": 90,
   "metadata": {
    "slideshow": {
     "slide_type": "subslide"
    }
   },
   "outputs": [
    {
     "name": "stdout",
     "output_type": "stream",
     "text": [
      "Another line.\n",
      "Yet another line.\n",
      "Let's try this again.\n",
      "Until we succeed.\n",
      "\n"
     ]
    }
   ],
   "source": [
    "file = open('my-data-file.txt', 'r')\n",
    "contents = file.read()\n",
    "print(contents)\n",
    "file.close()"
   ]
  },
  {
   "cell_type": "markdown",
   "metadata": {
    "slideshow": {
     "slide_type": "subslide"
    }
   },
   "source": [
    "Dateien müssen immer mit `close` geschlossen werden, auch wenn der Programmteil, in dem die Datei verwendet wird durch eine Exception verlassen wird. Das könnte mit `try ... finally` erfolgen.\n",
    "\n",
    "Python bietet dafür ein eleganteres Konstrukt:"
   ]
  },
  {
   "cell_type": "code",
   "execution_count": 91,
   "metadata": {},
   "outputs": [
    {
     "name": "stdout",
     "output_type": "stream",
     "text": [
      "Another line.\n",
      "Yet another line.\n",
      "Let's try this again.\n",
      "Until we succeed.\n",
      "\n"
     ]
    }
   ],
   "source": [
    "with open('my-data-file.txt', 'r') as file:\n",
    "    contents = file.read()\n",
    "print(contents)"
   ]
  },
  {
   "cell_type": "code",
   "execution_count": 92,
   "metadata": {
    "slideshow": {
     "slide_type": "subslide"
    }
   },
   "outputs": [
    {
     "name": "stdout",
     "output_type": "stream",
     "text": [
      "File position before reading: 0\n",
      "File position after reading: 76\n",
      "File position after writing: 103\n"
     ]
    }
   ],
   "source": [
    "with open('my-data-file.txt', 'r+') as file:\n",
    "    print(f\"File position before reading: {file.tell()}\")\n",
    "    contents = file.read()\n",
    "    print(f\"File position after reading: {file.tell()}\")\n",
    "    file.write('Another line.\\nAnd another.')\n",
    "    print(f\"File position after writing: {file.tell()}\")   "
   ]
  },
  {
   "cell_type": "code",
   "execution_count": 93,
   "metadata": {
    "slideshow": {
     "slide_type": "subslide"
    }
   },
   "outputs": [
    {
     "name": "stdout",
     "output_type": "stream",
     "text": [
      "File has 6 lines.\n",
      "Another line.\n",
      "Yet another line.\n",
      "Let's overwrite a part of the file, yes?\n",
      "Another line.\n",
      "And another.\n"
     ]
    }
   ],
   "source": [
    "with open('my-data-file.txt', 'r+') as file:\n",
    "    print(f\"File has {len(file.readlines())} lines.\")\n",
    "    file.seek(40)\n",
    "    file.write('overwrite a part of the file, yes?')\n",
    "    file.seek(0)\n",
    "    print(file.read())"
   ]
  },
  {
   "cell_type": "markdown",
   "metadata": {
    "pycharm": {
     "name": "#%% md\n"
    },
    "slideshow": {
     "slide_type": "subslide"
    }
   },
   "source": [
    "## Mini-Workshop\n",
    "\n",
    "- Notebook `020x-Workshop Kontrollstrukturen`\n",
    "- Abschnitt \"# Lesen und Schreiben in Dateien\"\n"
   ]
  },
  {
   "cell_type": "markdown",
   "metadata": {
    "slideshow": {
     "slide_type": "slide"
    }
   },
   "source": [
    "# Context Managers\n",
    "\n",
    "Context Manager sind Objekte, die häufig verwendete `try-except-finally` Patterns für `with`-Blöcke kapseln."
   ]
  },
  {
   "cell_type": "code",
   "execution_count": 262,
   "metadata": {},
   "outputs": [],
   "source": [
    "from contextlib import AbstractContextManager\n",
    "import sys\n",
    "\n",
    "class ProgressNotifier(AbstractContextManager):\n",
    "    def __init__(self, entry_message, width=72):\n",
    "        self.entry_message = entry_message\n",
    "        self.width = width\n",
    "        self.num_completed_items = 0\n",
    "\n",
    "    def __enter__(self):\n",
    "        print(f\"{self.entry_message}\")\n",
    "        sys.stdout.flush()\n",
    "        return self\n",
    "\n",
    "    def __exit__(self, exc_type, exc_value, traceback):\n",
    "        if exc_type:\n",
    "            print(\"failed!\")\n",
    "        else:\n",
    "            print(\"done.\")\n",
    "\n",
    "    def item_completed(self):\n",
    "        self.num_completed_items += 1\n",
    "        print(\".\", end='\\n' if self.num_completed_items % self.width == 0 else '')\n",
    "        sys.stdout.flush()\n",
    "\n",
    "    def item_skipped(self):\n",
    "        self.num_completed_items += 1\n",
    "        print(\"-\", end='\\n' if self.num_completed_items % self.width == 0 else '')\n",
    "        sys.stdout.flush()\n",
    "\n",
    "\n",
    "def progress(entry_message):\n",
    "    return ProgressNotifier(entry_message)"
   ]
  },
  {
   "cell_type": "code",
   "execution_count": 283,
   "metadata": {},
   "outputs": [],
   "source": [
    "import random\n",
    "\n",
    "def download_items(n):\n",
    "    with progress(\"Downloading articles\") as p:\n",
    "        for i in range(n):\n",
    "            r = random.random()\n",
    "            if r < 0.001:\n",
    "                raise IOError(\"Download failed\")\n",
    "            elif r < 0.1:\n",
    "                p.item_skipped()\n",
    "            else:\n",
    "                p.item_completed()"
   ]
  },
  {
   "cell_type": "code",
   "execution_count": 315,
   "metadata": {},
   "outputs": [
    {
     "name": "stdout",
     "output_type": "stream",
     "text": [
      "Downloading articles\n",
      "..............-.--...-.....................-.....-...-..................\n",
      "..................-..........-.....--..............-...-......-.....-...\n",
      "...-................-................-.-..................-......-......\n",
      "....-.....................-......-............-.........................\n",
      "-..................................-........................-.-......failed!\n",
      "Caught IOError\n"
     ]
    }
   ],
   "source": [
    "try:\n",
    "    download_items(500)\n",
    "    print(\"Finished successfully\")\n",
    "except IOError:\n",
    "    print(\"Caught IOError\")"
   ]
  }
 ],
 "metadata": {
  "celltoolbar": "Slideshow",
  "kernelspec": {
   "display_name": "Python 3",
   "language": "python",
   "name": "python3"
  },
  "language_info": {
   "codemirror_mode": {
    "name": "ipython",
    "version": 3
   },
   "file_extension": ".py",
   "mimetype": "text/x-python",
   "name": "python",
   "nbconvert_exporter": "python",
   "pygments_lexer": "ipython3",
   "version": "3.8.10"
  }
 },
 "nbformat": 4,
 "nbformat_minor": 4
}
