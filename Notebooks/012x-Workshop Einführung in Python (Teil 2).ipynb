{
 "cells": [
  {
   "cell_type": "markdown",
   "source": [
    "# Operatoren, Vergleiche\n",
    "\n",
    "Ist $2^{16}$ größer als $32\\,000\\,\\,/\\,\\,2$?"
   ],
   "metadata": {
    "collapsed": false
   }
  },
  {
   "cell_type": "code",
   "execution_count": null,
   "outputs": [],
   "source": [],
   "metadata": {
    "collapsed": false,
    "pycharm": {
     "name": "#%%\n"
    }
   }
  },
  {
   "cell_type": "markdown",
   "source": [
    "Ist $72$ ohne Rest durch $3$ teilbar?"
   ],
   "metadata": {
    "collapsed": false
   }
  },
  {
   "cell_type": "code",
   "execution_count": null,
   "outputs": [],
   "source": [],
   "metadata": {
    "collapsed": false,
    "pycharm": {
     "name": "#%%\n"
    }
   }
  },
  {
   "cell_type": "markdown",
   "source": [
    "Ist $72$ eine gerade Zahl (d.h. ohne Rest durch 2 teilbar)?"
   ],
   "metadata": {
    "collapsed": false
   }
  },
  {
   "cell_type": "code",
   "execution_count": null,
   "outputs": [],
   "source": [],
   "metadata": {
    "collapsed": false,
    "pycharm": {
     "name": "#%%\n"
    }
   }
  },
  {
   "cell_type": "markdown",
   "source": [
    "Schreiben Sie eine Funktion `ist_teilbar_durch(m, n)` die (genau dann) `True` zurückgibt, wenn `m` ohne Rest durch `n` teilbar ist"
   ],
   "metadata": {
    "collapsed": false
   }
  },
  {
   "cell_type": "code",
   "execution_count": null,
   "outputs": [],
   "source": [],
   "metadata": {
    "collapsed": false,
    "pycharm": {
     "name": "#%%\n"
    }
   }
  },
  {
   "cell_type": "markdown",
   "source": [
    "Schreiben Sie eine Funktion `ist_teilbar_durch_2_und_3(n)`, die genau dann `True` zurückgibt, wenn `n` ohne Rest durch $2$ und durch $3$ teilbar ist."
   ],
   "metadata": {
    "collapsed": false
   }
  },
  {
   "cell_type": "code",
   "execution_count": null,
   "outputs": [],
   "source": [],
   "metadata": {
    "collapsed": false,
    "pycharm": {
     "name": "#%%\n"
    }
   }
  },
  {
   "cell_type": "markdown",
   "source": [
    "Testen Sie, ob $72$ ohne Rest durch $2$ und durch $3$ teilbar ist."
   ],
   "metadata": {
    "collapsed": false
   }
  },
  {
   "cell_type": "code",
   "execution_count": null,
   "outputs": [],
   "source": [],
   "metadata": {
    "collapsed": false,
    "pycharm": {
     "name": "#%%\n"
    }
   }
  },
  {
   "cell_type": "markdown",
   "source": [
    "# Volljährig\n",
    "\n",
    "Schreiben Sie eine Funktion `drucke_volljährig(alter)`, die `Volljährig` auf dem Bildschirm ausgibt, wenn `alter >= 18` ist und `Minderjährig` sonst."
   ],
   "metadata": {
    "collapsed": false
   }
  },
  {
   "cell_type": "code",
   "execution_count": null,
   "outputs": [],
   "source": [],
   "metadata": {
    "collapsed": false,
    "pycharm": {
     "name": "#%%\n"
    }
   }
  },
  {
   "cell_type": "markdown",
   "source": [
    "Testen Sie `drucke_volljährig(alter)` mit den Werten 17 und 18."
   ],
   "metadata": {
    "collapsed": false
   }
  },
  {
   "cell_type": "code",
   "execution_count": null,
   "outputs": [],
   "source": [],
   "metadata": {
    "collapsed": false,
    "pycharm": {
     "name": "#%%\n"
    }
   }
  },
  {
   "cell_type": "markdown",
   "source": [
    "# Einkaufsliste\n",
    "\n",
    "Definieren Sie Variablen\n",
    "- `meine_einkaufsliste`, die `Tee` und `Kaffee` enthält,\n",
    "- `eine_andere_einkaufsliste`, die ebenfalls `Tee` und `Kaffee` enthält."
   ],
   "metadata": {
    "collapsed": false
   }
  },
  {
   "cell_type": "code",
   "execution_count": null,
   "outputs": [],
   "source": [],
   "metadata": {
    "collapsed": false,
    "pycharm": {
     "name": "#%%\n"
    }
   }
  },
  {
   "cell_type": "markdown",
   "source": [
    "\n",
    "Definieren Sie eine Funktion `drucke_einkaufsliste(einkaufsliste)`, die die als Argument übergebene\n",
    "Einkaufsliste ausdruckt:\n",
    "\n",
    "```\n",
    "Einkaufsliste:\n",
    "  Tee\n",
    "  Kaffee\n",
    "```"
   ],
   "metadata": {
    "collapsed": false
   }
  },
  {
   "cell_type": "code",
   "execution_count": null,
   "outputs": [],
   "source": [],
   "metadata": {
    "collapsed": false,
    "pycharm": {
     "name": "#%%\n"
    }
   }
  },
  {
   "cell_type": "markdown",
   "source": [
    "Testen Sie die Funktion `drucke_einkaufsliste(einkaufsliste)` mit beiden Einkaufslisten."
   ],
   "metadata": {
    "collapsed": false
   }
  },
  {
   "cell_type": "code",
   "execution_count": null,
   "outputs": [],
   "source": [],
   "metadata": {
    "collapsed": false,
    "pycharm": {
     "name": "#%%\n"
    }
   }
  },
  {
   "cell_type": "code",
   "execution_count": null,
   "outputs": [],
   "source": [],
   "metadata": {
    "collapsed": false,
    "pycharm": {
     "name": "#%%\n"
    }
   }
  },
  {
   "cell_type": "markdown",
   "source": [
    "Definieren Sie eine Funktion `kaufe(produkt, einkaufsliste)`, das `produkt` zu  `einkaufsliste` hinzufügt."
   ],
   "metadata": {
    "collapsed": false
   }
  },
  {
   "cell_type": "code",
   "execution_count": null,
   "outputs": [],
   "source": [],
   "metadata": {
    "collapsed": false,
    "pycharm": {
     "name": "#%%\n"
    }
   }
  },
  {
   "cell_type": "markdown",
   "source": [
    "Fügen Sie `Butter` und `Brot` zur Einkaufsliste `meine_einkaufsliste` hinzu."
   ],
   "metadata": {
    "collapsed": false
   }
  },
  {
   "cell_type": "code",
   "execution_count": null,
   "outputs": [],
   "source": [],
   "metadata": {
    "collapsed": false,
    "pycharm": {
     "name": "#%%\n"
    }
   }
  },
  {
   "cell_type": "markdown",
   "source": [
    "Drucken Sie beide Einkauslisten nochmal aus."
   ],
   "metadata": {
    "collapsed": false
   }
  },
  {
   "cell_type": "code",
   "execution_count": null,
   "outputs": [],
   "source": [],
   "metadata": {
    "collapsed": false,
    "pycharm": {
     "name": "#%%\n"
    }
   }
  },
  {
   "cell_type": "code",
   "execution_count": null,
   "outputs": [],
   "source": [],
   "metadata": {
    "collapsed": false,
    "pycharm": {
     "name": "#%%\n"
    }
   }
  },
  {
   "cell_type": "markdown",
   "source": [
    "Was passiert, wenn Sie `Butter` und `Brot` nochmals zur Einkaufsliste `meine_einkaufsliste` hinzufügen?"
   ],
   "metadata": {
    "collapsed": false
   }
  },
  {
   "cell_type": "code",
   "execution_count": null,
   "outputs": [],
   "source": [],
   "metadata": {
    "collapsed": false,
    "pycharm": {
     "name": "#%%\n"
    }
   }
  },
  {
   "cell_type": "markdown",
   "source": [
    "# Verbesserte Einkaufsliste\n",
    "\n",
    "In dieser Aufgabe wollen wir eine verbesserte Version der Einkaufsliste definieren,\n",
    "in der sowohl die Einkaufsliste als auch die Einträge durch benutzerdefinierte\n",
    "Datentypen repräsentiert werden. Jeder Eintrag soll das Produkt und die davon\n",
    "benötigte Menge enthalten.\n",
    "\n",
    "Definieren Sie eine Klasse `Item`, die Attribute für das Produkt und Menge hat.\n",
    "`Item` soll eine `__repr__`-Methode haben, die das Item in einer angemessenen Form darstellt."
   ],
   "metadata": {
    "collapsed": false
   }
  },
  {
   "cell_type": "code",
   "execution_count": null,
   "outputs": [],
   "source": [],
   "metadata": {
    "collapsed": false,
    "pycharm": {
     "name": "#%%\n"
    }
   }
  },
  {
   "cell_type": "markdown",
   "source": [
    "Erzeugen sie ein Item, das 500g Kaffee repräsentiert:"
   ],
   "metadata": {
    "collapsed": false
   }
  },
  {
   "cell_type": "code",
   "execution_count": null,
   "outputs": [],
   "source": [],
   "metadata": {
    "collapsed": false,
    "pycharm": {
     "name": "#%%\n"
    }
   }
  },
  {
   "cell_type": "markdown",
   "source": [
    "Definieren Sie eine Klasse `ShoppingList`, die eine Liste von `Item`-Instanzen\n",
    "beinhaltet:\n",
    "\n",
    "- Der Konstruktor `__init__(self, items=[])` erzeugt eine Einkaufsliste, die\n",
    "  die Einträge `items` enthält (jedes Element von `items` soll eine `Item`-Instanz\n",
    "  sein).\n",
    "- Die Methode `shopping_list.add_item(item: Item)` fügt ein `Item` zur Einkaufsliste\n",
    "  `shopping_list` hinzu.\n",
    "- Die Methode `print()` druckt die Einkaufsliste aus.\n",
    "\n",
    "`ShoppingList` soll eine `__repr__`-Methode haben, die die Einkaufsliste in\n",
    "einer geeigneten Form darstellt."
   ],
   "metadata": {
    "collapsed": false
   }
  },
  {
   "cell_type": "code",
   "execution_count": null,
   "outputs": [],
   "source": [],
   "metadata": {
    "collapsed": false,
    "pycharm": {
     "name": "#%%\n"
    }
   }
  },
  {
   "cell_type": "markdown",
   "source": [
    "Definieren Sie Variable `meine_einkaufsliste`, die eine Einkaufsliste mit folgenden Items repräsentiert:\n",
    "- 2 Pakete Tee,\n",
    "- 1 Paket Kaffee"
   ],
   "metadata": {
    "collapsed": false
   }
  },
  {
   "cell_type": "code",
   "execution_count": null,
   "outputs": [],
   "source": [],
   "metadata": {
    "collapsed": false,
    "pycharm": {
     "name": "#%%\n"
    }
   }
  },
  {
   "cell_type": "markdown",
   "source": [
    "Drucken Sie `meine_einkaufsliste` aus."
   ],
   "metadata": {
    "collapsed": false
   }
  },
  {
   "cell_type": "code",
   "execution_count": null,
   "outputs": [],
   "source": [],
   "metadata": {
    "collapsed": false,
    "pycharm": {
     "name": "#%%\n"
    }
   }
  },
  {
   "cell_type": "code",
   "execution_count": null,
   "outputs": [],
   "source": [],
   "metadata": {
    "collapsed": false,
    "pycharm": {
     "name": "#%%\n"
    }
   }
  },
  {
   "cell_type": "markdown",
   "source": [
    "Fügen Sie  250 g Butter und  1 Laib Brot zur Einkaufsliste `meine_einkaufsliste` hinzu."
   ],
   "metadata": {
    "collapsed": false
   }
  },
  {
   "cell_type": "code",
   "execution_count": null,
   "outputs": [],
   "source": [],
   "metadata": {
    "collapsed": false,
    "pycharm": {
     "name": "#%%\n"
    }
   }
  },
  {
   "cell_type": "markdown",
   "source": [
    "Drucken Sie die Einkausliste nochmal aus."
   ],
   "metadata": {
    "collapsed": false
   }
  },
  {
   "cell_type": "code",
   "execution_count": null,
   "outputs": [],
   "source": [],
   "metadata": {
    "collapsed": false,
    "pycharm": {
     "name": "#%%\n"
    }
   }
  },
  {
   "cell_type": "markdown",
   "source": [
    "Was passiert, wenn Sie `Butter` und `Brot` nochmals zur Einkaufsliste `meine_einkaufsliste` hinzufügen?"
   ],
   "metadata": {
    "collapsed": false
   }
  },
  {
   "cell_type": "code",
   "execution_count": null,
   "outputs": [],
   "source": [
    "\n",
    "\n"
   ],
   "metadata": {
    "collapsed": false,
    "pycharm": {
     "name": "#%%\n"
    }
   }
  }
 ],
 "metadata": {
  "kernelspec": {
   "name": "pycharm-b0f3a84b",
   "language": "python",
   "display_name": "PyCharm (Python-Programmierer)"
  },
  "language_info": {
   "codemirror_mode": {
    "name": "ipython",
    "version": 2
   },
   "file_extension": ".py",
   "mimetype": "text/x-python",
   "name": "python",
   "nbconvert_exporter": "python",
   "pygments_lexer": "ipython2",
   "version": "2.7.6"
  }
 },
 "nbformat": 4,
 "nbformat_minor": 0
}