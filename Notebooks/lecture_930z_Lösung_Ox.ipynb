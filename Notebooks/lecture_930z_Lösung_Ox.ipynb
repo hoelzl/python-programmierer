{
 "cells": [
  {
   "cell_type": "markdown",
   "metadata": {},
   "source": [
    "# Ox - Eine Variante von Bulls and Cows\n",
    "\n",
    "Implementieren Sie eine Variante des Spiels \"Bulls and Cows\"\n",
    "\n",
    "## Spielablauf\n",
    "\n",
    "- Der Computer wählt ein Wort aus einem Wörterbuch und teilt dem Spieler mit, wie viele Buchstaben es enthält\n",
    "- Der Spieler rät ein Wort und erhält als für jeden Buchstaben folgende Information\n",
    "    - Ein `+` wenn der Buchstabe an der richtigen Stelle vorkommt\n",
    "    - Ein `–` wenn der Buchstabe in der Lösung an einer anderen Stelle vorkommt\n",
    "    - Einen `.` wenn der Buchstabe nicht in der Lösung vorkommt\n",
    "= Wenn der Benutzer das Wort in weniger als 10 Versuchen errät hat er gewonnen, andernfalls verloren.\n",
    "\n",
    "## Beispiele\n",
    "\n",
    "Erfolgreiches Spiel:\n",
    "\n",
    "```\n",
    "Guess the word!\n",
    "The word to guess has 6 characters.\n",
    "Please enter your guess: something\n",
    "something\n",
    ".-..--\n",
    "Please enter your guess: postoffice\n",
    "postoffice\n",
    "+-.-+.\n",
    "Please enter your guess: python\n",
    "python\n",
    "++++++\n",
    "Congratulations, you have won!\n",
    "```\n",
    "\n",
    "Verlorenes Spiel:\n",
    "\n",
    "```\n",
    "Guess the word!\n",
    "The word to guess has 4 characters.\n",
    "Please enter your guess: foobar\n",
    "foobar\n",
    "....\n",
    "Please enter your guess: tango\n",
    "tango\n",
    ".+.-\n",
    "Please enter your guess: ohno\n",
    "ohno\n",
    "....\n",
    "Please enter your guess: This game is stupid!\n",
    "This game is stupid!\n",
    "....\n",
    "Please enter your guess: Let me out!\n",
    "Let me out!\n",
    ".-..\n",
    "Please enter your guess: exit\n",
    "exit\n",
    "-...\n",
    "Please enter your guess: quit\n",
    "quit\n",
    "....\n",
    "Please enter your guess: QUIT\n",
    "QUIT\n",
    "....\n",
    "Please enter your guess: \n",
    "\n",
    "\n",
    "Please enter your guess: HOW DO I QUIT THIS STUPID GAME!!!!!\n",
    "HOW DO I QUIT THIS STUPID GAME!!!!!\n",
    "....\n",
    "Better luck next time. The word was game.\n",
    "```\n",
    "\n",
    "## Implementierung:\n",
    "\n",
    "Implementieren Sie eine Funktion `ox()`, die dieses Spiel implementiert. Zwechmäßigerweise sollten Sie dazu einige Hilfsfunktionen definieren, die Teile der Spielelogik kapseln.\n",
    "\n",
    "## Hinweise\n",
    "\n",
    "- Benutzereingaben können Sie mittels der Funktion `input(quey: str)` erhalten.  `query` ist der Text,\n",
    "  der dem Benutzer angezeigt wird; das Ergebnis der Funktion ist der vom Benutzer eingegebenee String.\n",
    "- Mit `random.choice(list)` können Sie aus einer Liste ein zufälliges Element auswählen.\n",
    "- Da wir noch keine benutzerdefinierten Datentypen kennengelernt haben bietet es sich an, eine Funktion\n",
    "  zu implementieren, die die zeichenweise Übereinstimmung zweier Zeichenketten testet. Ein möglicher\n",
    "  Ergebnistyp für diese Funktion ist eine Liste der Form `['.', '+', '-', '.']`, um auszudrücken, dass\n",
    "  das erste und vierte Zeichen nicht übereinstimmen, das zweite Zeichen ein perfekter Treffer ist und das\n",
    "  dritte Zeichen in der Lösung vorkommt, aber an einer anderen Stelle.\n",
    "- Aus einer Liste `list` mit Strings können Sie mittels `''.join(list)` einen String erzeugen, der alle Elemente\n",
    "  der Liste enthält.\n",
    "- Was passiert bei Ihrer Lösung, wenn der Benutzer ein Wort eingibt, das länger oder kürzer ist als die Lösung?"
   ]
  },
  {
   "cell_type": "code",
   "execution_count": 72,
   "metadata": {},
   "outputs": [],
   "source": [
    "import random"
   ]
  },
  {
   "cell_type": "code",
   "execution_count": 73,
   "metadata": {},
   "outputs": [],
   "source": [
    "def match_char(char, index, solution):\n",
    "    \"\"\"Checks whether `char` is a perfect match for position `index` in `solution`.\n",
    "    Returns `'+'` if `solution[index] == char`, `'-'` if `char` occurs at another\n",
    "    position in `solution` and `'.'` otherwise. \"\"\"\n",
    "    if index >= len(solution):\n",
    "        return ''\n",
    "    elif solution[index] == char:\n",
    "        return '+'\n",
    "    elif char in solution:\n",
    "        return '-'\n",
    "    else:\n",
    "        return '.'"
   ]
  },
  {
   "cell_type": "code",
   "execution_count": 74,
   "metadata": {},
   "outputs": [
    {
     "data": {
      "text/plain": [
       "'+'"
      ]
     },
     "execution_count": 74,
     "metadata": {},
     "output_type": "execute_result"
    }
   ],
   "source": [
    "match_char('b', 1, 'abc')"
   ]
  },
  {
   "cell_type": "code",
   "execution_count": 75,
   "metadata": {},
   "outputs": [
    {
     "data": {
      "text/plain": [
       "'-'"
      ]
     },
     "execution_count": 75,
     "metadata": {},
     "output_type": "execute_result"
    }
   ],
   "source": [
    "match_char('a', 1, 'abc')"
   ]
  },
  {
   "cell_type": "code",
   "execution_count": 76,
   "metadata": {},
   "outputs": [
    {
     "data": {
      "text/plain": [
       "'.'"
      ]
     },
     "execution_count": 76,
     "metadata": {},
     "output_type": "execute_result"
    }
   ],
   "source": [
    "match_char('x', 1, 'abc')"
   ]
  },
  {
   "cell_type": "code",
   "execution_count": 77,
   "metadata": {},
   "outputs": [
    {
     "data": {
      "text/plain": [
       "''"
      ]
     },
     "execution_count": 77,
     "metadata": {},
     "output_type": "execute_result"
    }
   ],
   "source": [
    "match_char('x', 10, 'abc')"
   ]
  },
  {
   "cell_type": "code",
   "execution_count": 78,
   "metadata": {},
   "outputs": [],
   "source": [
    "def match_chars(chars, solution):\n",
    "    return [match_char(char, index, solution) for index, char in enumerate(chars)]"
   ]
  },
  {
   "cell_type": "code",
   "execution_count": 79,
   "metadata": {},
   "outputs": [
    {
     "data": {
      "text/plain": [
       "['-', '+', '.']"
      ]
     },
     "execution_count": 79,
     "metadata": {},
     "output_type": "execute_result"
    }
   ],
   "source": [
    "match_chars('cbx', 'abc')"
   ]
  },
  {
   "cell_type": "code",
   "execution_count": 80,
   "metadata": {},
   "outputs": [],
   "source": [
    "def evaluate_guess(guess, solution):\n",
    "    return ''.join(match_chars(guess, solution))"
   ]
  },
  {
   "cell_type": "code",
   "execution_count": 81,
   "metadata": {},
   "outputs": [
    {
     "data": {
      "text/plain": [
       "'-+.'"
      ]
     },
     "execution_count": 81,
     "metadata": {},
     "output_type": "execute_result"
    }
   ],
   "source": [
    "evaluate_guess('cbx', 'abc')"
   ]
  },
  {
   "cell_type": "code",
   "execution_count": 82,
   "metadata": {},
   "outputs": [
    {
     "data": {
      "text/plain": [
       "'-'"
      ]
     },
     "execution_count": 82,
     "metadata": {},
     "output_type": "execute_result"
    }
   ],
   "source": [
    "evaluate_guess('b', 'abc')"
   ]
  },
  {
   "cell_type": "code",
   "execution_count": 83,
   "metadata": {},
   "outputs": [
    {
     "data": {
      "text/plain": [
       "'-++'"
      ]
     },
     "execution_count": 83,
     "metadata": {},
     "output_type": "execute_result"
    }
   ],
   "source": [
    "evaluate_guess('bbcdea', 'abc')"
   ]
  },
  {
   "cell_type": "code",
   "execution_count": 103,
   "metadata": {},
   "outputs": [],
   "source": [
    "def is_perfect_result(result):\n",
    "    if result == '':\n",
    "        return False\n",
    "    for c in result:\n",
    "        if c != '+':\n",
    "            return False\n",
    "    return True"
   ]
  },
  {
   "cell_type": "code",
   "execution_count": 104,
   "metadata": {},
   "outputs": [
    {
     "data": {
      "text/plain": [
       "True"
      ]
     },
     "execution_count": 104,
     "metadata": {},
     "output_type": "execute_result"
    }
   ],
   "source": [
    "is_perfect_result('+++')"
   ]
  },
  {
   "cell_type": "code",
   "execution_count": 106,
   "metadata": {},
   "outputs": [
    {
     "data": {
      "text/plain": [
       "False"
      ]
     },
     "execution_count": 106,
     "metadata": {},
     "output_type": "execute_result"
    }
   ],
   "source": [
    "is_perfect_result('+++-+')"
   ]
  },
  {
   "cell_type": "code",
   "execution_count": 108,
   "metadata": {},
   "outputs": [
    {
     "data": {
      "text/plain": [
       "False"
      ]
     },
     "execution_count": 108,
     "metadata": {},
     "output_type": "execute_result"
    }
   ],
   "source": [
    "is_perfect_result('')"
   ]
  },
  {
   "cell_type": "code",
   "execution_count": 109,
   "metadata": {},
   "outputs": [],
   "source": [
    "dictionary = ['game', 'gate', 'teatime', 'python']"
   ]
  },
  {
   "cell_type": "code",
   "execution_count": 110,
   "metadata": {},
   "outputs": [],
   "source": [
    "def print_header(word):\n",
    "    print(f\"\"\"Guess the word!\n",
    "The word to guess has {len(word)} characters.\"\"\")"
   ]
  },
  {
   "cell_type": "code",
   "execution_count": 111,
   "metadata": {},
   "outputs": [
    {
     "name": "stdout",
     "output_type": "stream",
     "text": [
      "Guess the word!\n",
      "The word to guess has 3 characters.\n"
     ]
    }
   ],
   "source": [
    "print_header('foo')"
   ]
  },
  {
   "cell_type": "code",
   "execution_count": 118,
   "metadata": {},
   "outputs": [],
   "source": [
    "def ox():\n",
    "    word = random.choice(dictionary)\n",
    "    has_won = False\n",
    "    print_header(word)\n",
    "    for _ in range(10):\n",
    "        if not has_won:\n",
    "            guess = input('Please enter your guess: ')\n",
    "            result = evaluate_guess(guess, word)\n",
    "            print(guess)\n",
    "            print(result)\n",
    "            if is_perfect_result(result):\n",
    "                has_won = True\n",
    "    if has_won:\n",
    "        print(\"Congratulations, you have won!\")\n",
    "    else:\n",
    "        print(f\"Better luck next time. The word was {word}.\")"
   ]
  },
  {
   "cell_type": "code",
   "execution_count": 119,
   "metadata": {},
   "outputs": [
    {
     "name": "stdout",
     "output_type": "stream",
     "text": [
      "Guess the word!\n",
      "The word to guess has 4 characters.\n",
      "Please enter your guess: foobar\n",
      "foobar\n",
      "....\n",
      "Please enter your guess: tango\n",
      "tango\n",
      ".+.-\n",
      "Please enter your guess: ohno\n",
      "ohno\n",
      "....\n",
      "Please enter your guess: This game is stupid!\n",
      "This game is stupid!\n",
      "....\n",
      "Please enter your guess: Let me out!\n",
      "Let me out!\n",
      ".-..\n",
      "Please enter your guess: exit\n",
      "exit\n",
      "-...\n",
      "Please enter your guess: quit\n",
      "quit\n",
      "....\n",
      "Please enter your guess: QUIT\n",
      "QUIT\n",
      "....\n",
      "Please enter your guess: \n",
      "\n",
      "\n",
      "Please enter your guess: HOW DO I QUIT THIS STUPID GAME!!!!!\n",
      "HOW DO I QUIT THIS STUPID GAME!!!!!\n",
      "....\n",
      "Better luck next time. The word was game.\n"
     ]
    }
   ],
   "source": [
    "ox()"
   ]
  },
  {
   "cell_type": "code",
   "execution_count": null,
   "metadata": {},
   "outputs": [],
   "source": []
  }
 ],
 "metadata": {
  "kernelspec": {
   "display_name": "Python 3",
   "language": "python",
   "name": "python3"
  },
  "language_info": {
   "codemirror_mode": {
    "name": "ipython",
    "version": 3
   },
   "file_extension": ".py",
   "mimetype": "text/x-python",
   "name": "python",
   "nbconvert_exporter": "python",
   "pygments_lexer": "ipython3",
   "version": "3.8.2"
  }
 },
 "nbformat": 4,
 "nbformat_minor": 4
}
