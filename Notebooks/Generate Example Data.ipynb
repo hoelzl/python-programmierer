{
 "cells": [
  {
   "cell_type": "code",
   "execution_count": 2,
   "metadata": {},
   "outputs": [],
   "source": [
    "import numpy as np\n",
    "import pandas as pd"
   ]
  },
  {
   "cell_type": "code",
   "execution_count": 3,
   "metadata": {},
   "outputs": [],
   "source": [
    "def create_string_iterator(num_entries, prefix='Index ', postfix=''):\n",
    "    return (f\"{prefix}{n}{postfix}\" for n in range(num_entries))"
   ]
  },
  {
   "cell_type": "code",
   "execution_count": 4,
   "metadata": {},
   "outputs": [],
   "source": [
    "def generate_labels(num_entries, prefix='Index ', postfix=''):\n",
    "    return list(create_string_iterator(num_entries, prefix=prefix, postfix=postfix))"
   ]
  },
  {
   "cell_type": "code",
   "execution_count": 5,
   "metadata": {},
   "outputs": [
    {
     "data": {
      "text/plain": [
       "['Index 0', 'Index 1', 'Index 2']"
      ]
     },
     "execution_count": 5,
     "metadata": {},
     "output_type": "execute_result"
    }
   ],
   "source": [
    "generate_labels(3)"
   ]
  },
  {
   "cell_type": "code",
   "execution_count": 6,
   "metadata": {},
   "outputs": [
    {
     "data": {
      "text/plain": [
       "['<0>', '<1>', '<2>', '<3>', '<4>']"
      ]
     },
     "execution_count": 6,
     "metadata": {},
     "output_type": "execute_result"
    }
   ],
   "source": [
    "generate_labels(5, '<', '>')"
   ]
  },
  {
   "cell_type": "code",
   "execution_count": 17,
   "metadata": {},
   "outputs": [],
   "source": [
    "def create_data_frame(num_rows, num_columns, prefix='Index '):\n",
    "    np.random.seed(267)\n",
    "    array = np.random.normal(0.0, 10.0, (num_rows, num_columns))\n",
    "    index = generate_labels(num_rows, prefix)\n",
    "    columns = generate_labels(num_columns, prefix='Col ')\n",
    "    return pd.DataFrame(array, index=index, columns=columns)"
   ]
  },
  {
   "cell_type": "code",
   "execution_count": 18,
   "metadata": {},
   "outputs": [
    {
     "data": {
      "text/html": [
       "<div>\n",
       "<style scoped>\n",
       "    .dataframe tbody tr th:only-of-type {\n",
       "        vertical-align: middle;\n",
       "    }\n",
       "\n",
       "    .dataframe tbody tr th {\n",
       "        vertical-align: top;\n",
       "    }\n",
       "\n",
       "    .dataframe thead th {\n",
       "        text-align: right;\n",
       "    }\n",
       "</style>\n",
       "<table border=\"1\" class=\"dataframe\">\n",
       "  <thead>\n",
       "    <tr style=\"text-align: right;\">\n",
       "      <th></th>\n",
       "      <th>Col 0</th>\n",
       "      <th>Col 1</th>\n",
       "      <th>Col 2</th>\n",
       "      <th>Col 3</th>\n",
       "      <th>Col 4</th>\n",
       "    </tr>\n",
       "  </thead>\n",
       "  <tbody>\n",
       "    <tr>\n",
       "      <th>Index 0</th>\n",
       "      <td>4.076693</td>\n",
       "      <td>-11.592472</td>\n",
       "      <td>5.758058</td>\n",
       "      <td>1.995488</td>\n",
       "      <td>7.433482</td>\n",
       "    </tr>\n",
       "    <tr>\n",
       "      <th>Index 1</th>\n",
       "      <td>-2.697633</td>\n",
       "      <td>10.386505</td>\n",
       "      <td>1.392989</td>\n",
       "      <td>-8.091764</td>\n",
       "      <td>-9.263259</td>\n",
       "    </tr>\n",
       "    <tr>\n",
       "      <th>Index 2</th>\n",
       "      <td>13.398781</td>\n",
       "      <td>3.364558</td>\n",
       "      <td>-4.504057</td>\n",
       "      <td>13.487790</td>\n",
       "      <td>19.387826</td>\n",
       "    </tr>\n",
       "  </tbody>\n",
       "</table>\n",
       "</div>"
      ],
      "text/plain": [
       "             Col 0      Col 1     Col 2      Col 3      Col 4\n",
       "Index 0   4.076693 -11.592472  5.758058   1.995488   7.433482\n",
       "Index 1  -2.697633  10.386505  1.392989  -8.091764  -9.263259\n",
       "Index 2  13.398781   3.364558 -4.504057  13.487790  19.387826"
      ]
     },
     "execution_count": 18,
     "metadata": {},
     "output_type": "execute_result"
    }
   ],
   "source": [
    "create_data_frame(3, 5)"
   ]
  },
  {
   "cell_type": "code",
   "execution_count": 26,
   "metadata": {},
   "outputs": [],
   "source": [
    "def create_csv_file(name, num_rows, num_columns, prefix='Index '):\n",
    "    df = create_data_frame(num_rows, num_columns, prefix=prefix)\n",
    "    df.to_csv(name)"
   ]
  },
  {
   "cell_type": "code",
   "execution_count": 27,
   "metadata": {},
   "outputs": [],
   "source": [
    "# create_csv_file('example_data.csv', 1000, 8)"
   ]
  },
  {
   "cell_type": "code",
   "execution_count": 28,
   "metadata": {},
   "outputs": [],
   "source": [
    "def create_excel_file(name, num_rows, num_columns, sheet_name='Sheet1'):\n",
    "    df = create_data_frame(num_rows, num_columns)\n",
    "    df.to_excel(name, sheet_name=sheet_name)"
   ]
  },
  {
   "cell_type": "code",
   "execution_count": 29,
   "metadata": {},
   "outputs": [],
   "source": [
    "# create_excel_file('excel_data.xlsx', 100, 12)"
   ]
  },
  {
   "cell_type": "code",
   "execution_count": 30,
   "metadata": {},
   "outputs": [],
   "source": [
    "# Need to manually add more sheets in Excel\n",
    "# create_excel_file('excel_other_sheet.xlsx', 30, 8, sheet_name='Another Sheet')"
   ]
  },
  {
   "cell_type": "code",
   "execution_count": 32,
   "metadata": {},
   "outputs": [],
   "source": [
    "create_csv_file('df2a.csv', 12, 5, prefix='')"
   ]
  },
  {
   "cell_type": "code",
   "execution_count": 39,
   "metadata": {},
   "outputs": [],
   "source": [
    "create_csv_file('df1a.csv', 4000, 3)"
   ]
  },
  {
   "cell_type": "code",
   "execution_count": 40,
   "metadata": {},
   "outputs": [],
   "source": [
    "create_csv_file('df1b.csv', 100_000, 1)"
   ]
  },
  {
   "cell_type": "code",
   "execution_count": 3,
   "metadata": {},
   "outputs": [],
   "source": [
    "import pandas as pd\n",
    "import statsmodels.api as sm\n",
    "macrodata = sm.datasets.macrodata.load_pandas().data\n",
    "macrodata.index = pd.Index(sm.tsa.datetools.dates_from_range('1959Q1', '2009Q3'))\n",
    "macrodata = macrodata.astype({'year': 'int32'})\n",
    "# print(sm.datasets.macrodata.NOTE)\n",
    "macrodata.to_csv('macrodata.csv')"
   ]
  },
  {
   "cell_type": "code",
   "execution_count": null,
   "metadata": {},
   "outputs": [],
   "source": []
  }
 ],
 "metadata": {
  "kernelspec": {
   "display_name": "Python 3",
   "language": "python",
   "name": "python3"
  },
  "language_info": {
   "codemirror_mode": {
    "name": "ipython",
    "version": 3
   },
   "file_extension": ".py",
   "mimetype": "text/x-python",
   "name": "python",
   "nbconvert_exporter": "python",
   "pygments_lexer": "ipython3",
   "version": "3.7.6"
  }
 },
 "nbformat": 4,
 "nbformat_minor": 4
}
