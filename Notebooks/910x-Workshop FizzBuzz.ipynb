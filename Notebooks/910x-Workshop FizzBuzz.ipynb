{
 "cells": [
  {
   "cell_type": "markdown",
   "metadata": {},
   "source": [
    "## Extra Credits: FizzBuzz\n",
    "\n",
    "Schreiben Sie eine Funktion `fizz_buzz(n)`, die die Zahlen von 1 bis `n` ausgibt aber dabei\n",
    "\n",
    "- jede Zahl, die durch 3 teilbar ist, durch `Fizz` ersetzt\n",
    "- jede Zahl, die durch 5 teilbar ist, durch `Buzz` ersetzt\n",
    "- jede Zahl, die durch 3 und 5 teilbar ist, durch `FizzBuzz` ersetzt\n",
    "\n",
    "Zum Beispiel soll `fizz_buzz(31)` die folgende Ausgabe erzeugen:\n",
    "\n",
    "```\n",
    "1\n",
    "2\n",
    "Fizz\n",
    "4\n",
    "Buzz\n",
    "Fizz\n",
    "7\n",
    "8\n",
    "Fizz\n",
    "Buzz\n",
    "11\n",
    "Fizz\n",
    "13\n",
    "14\n",
    "FizzBuzz\n",
    "16\n",
    "17\n",
    "Fizz\n",
    "19\n",
    "Buzz\n",
    "Fizz\n",
    "22\n",
    "23\n",
    "Fizz\n",
    "Buzz\n",
    "26\n",
    "Fizz\n",
    "28\n",
    "29\n",
    "FizzBuzz\n",
    "31\n",
    "```"
   ]
  },
  {
   "cell_type": "code",
   "execution_count": 2,
   "metadata": {},
   "outputs": [],
   "source": []
  },
  {
   "cell_type": "markdown",
   "metadata": {},
   "source": [
    "Testen Sie Ihre Implementierung:"
   ]
  },
  {
   "cell_type": "code",
   "execution_count": null,
   "metadata": {},
   "outputs": [],
   "source": []
  }
 ],
 "metadata": {
  "kernelspec": {
   "display_name": "Python 3",
   "language": "python",
   "name": "python3"
  },
  "language_info": {
   "codemirror_mode": {
    "name": "ipython",
    "version": 3
   },
   "file_extension": ".py",
   "mimetype": "text/x-python",
   "name": "python",
   "nbconvert_exporter": "python",
   "pygments_lexer": "ipython3",
   "version": "3.8.2"
  }
 },
 "nbformat": 4,
 "nbformat_minor": 4
}
