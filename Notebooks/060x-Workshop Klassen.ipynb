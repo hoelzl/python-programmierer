{
 "cells": [
  {
   "cell_type": "markdown",
   "metadata": {},
   "source": [
    "# TODO-Liste\n",
    "\n",
    "Im Folgenden soll eine einfache Anwendung zur Verwaltung einer TODO-Liste erstellt werden.\n",
    "\n",
    "Jeder Eintrag in der TODO-Liste soll folgende Information enthalten:\n",
    "\n",
    "- Titel\n",
    "- Priorität\n",
    "- Wurde das Item schon erledigt oder nicht?\n",
    "\n",
    "Definieren Sie eine Klasse `TodoItem`, die diese Daten kapselt."
   ]
  },
  {
   "cell_type": "code",
   "execution_count": 1,
   "metadata": {},
   "outputs": [],
   "source": [
    "class TodoItem:\n",
    "    def __init__(self, title, priority, is_done):\n",
    "        self.title = title\n",
    "        self.priority = priority\n",
    "        self.is_done = is_done\n",
    "    def __repr__(self):\n",
    "        is_done_str = \"\"\n",
    "        if self.is_done:\n",
    "            is_done_str = \", done\"\n",
    "        return f\"<TodoItem {self.title} (Priority: {self.priority}){is_done_str}>\""
   ]
  },
  {
   "cell_type": "markdown",
   "metadata": {},
   "source": [
    "Legen Sie eine Liste `todos` mit Todo-Items an, die folgende Einträge enthält:\n",
    "\n",
    "- Titel: Python lernen, Priorität 3, nicht erledigt\n",
    "- Titel: Gemüse einkaufen, Priorität 2, nicht erledigt\n",
    "- Titel: Hans anrufen, Priorität 5, erledigt"
   ]
  },
  {
   "cell_type": "code",
   "execution_count": 2,
   "metadata": {},
   "outputs": [],
   "source": [
    "todos = [TodoItem('Python lernen', 3, False),\n",
    "         TodoItem('Gemüse einkaufen', 2, False),\n",
    "         TodoItem('Hans anrufen', 5, True)]"
   ]
  },
  {
   "cell_type": "code",
   "execution_count": 3,
   "metadata": {},
   "outputs": [
    {
     "data": {
      "text/plain": [
       "[<TodoItem Python lernen (Priority: 3)>,\n",
       " <TodoItem Gemüse einkaufen (Priority: 2)>,\n",
       " <TodoItem Hans anrufen (Priority: 5), done>]"
      ]
     },
     "execution_count": 3,
     "metadata": {},
     "output_type": "execute_result"
    }
   ],
   "source": [
    "todos"
   ]
  },
  {
   "cell_type": "markdown",
   "metadata": {},
   "source": [
    "Schreiben Sie eine Funktion `add_todo_item(todo_list, title, priority)`, die ein neues Todo-Item zu `todo_list` hinzufügt."
   ]
  },
  {
   "cell_type": "code",
   "execution_count": 4,
   "metadata": {},
   "outputs": [],
   "source": [
    "def add_todo_item(todo_list, title, priority):\n",
    "    todo_list.append(TodoItem(title, priority, False))"
   ]
  },
  {
   "cell_type": "markdown",
   "metadata": {},
   "source": [
    "Fügen Sie ein neues Todo-Item mit Titel \"Schnee schaufeln\" und Priorität 5 in die Liste `todos` ein."
   ]
  },
  {
   "cell_type": "code",
   "execution_count": 5,
   "metadata": {},
   "outputs": [],
   "source": [
    "add_todo_item(todos, \"Schnee schaufeln\", 5)"
   ]
  },
  {
   "cell_type": "code",
   "execution_count": 6,
   "metadata": {},
   "outputs": [
    {
     "data": {
      "text/plain": [
       "[<TodoItem Python lernen (Priority: 3)>,\n",
       " <TodoItem Gemüse einkaufen (Priority: 2)>,\n",
       " <TodoItem Hans anrufen (Priority: 5), done>,\n",
       " <TodoItem Schnee schaufeln (Priority: 5)>]"
      ]
     },
     "execution_count": 6,
     "metadata": {},
     "output_type": "execute_result"
    }
   ],
   "source": [
    "todos"
   ]
  },
  {
   "cell_type": "markdown",
   "metadata": {},
   "source": [
    "Schreiben Sie eine Funktion `mark_todo_item_done(todo_list, title)`, die das erste in der Liste `todo_list` vorkommende Todo-Item mit Titel `title`, das noch nicht bearbeitet ist, als bearbeitet markiert."
   ]
  },
  {
   "cell_type": "code",
   "execution_count": 22,
   "metadata": {},
   "outputs": [],
   "source": [
    "def mark_todo_item_done(todo_list, title):\n",
    "    for item in todo_list:\n",
    "        if item.title == title and not item.is_done:\n",
    "            item.is_done = True\n",
    "            break"
   ]
  },
  {
   "cell_type": "markdown",
   "metadata": {},
   "source": [
    "Markieren Sie das Todo-Item `Schnee schaufeln` als bearbeitet."
   ]
  },
  {
   "cell_type": "code",
   "execution_count": 8,
   "metadata": {},
   "outputs": [],
   "source": [
    "mark_todo_item_done(todos, \"Schnee schaufeln\")"
   ]
  },
  {
   "cell_type": "code",
   "execution_count": 23,
   "metadata": {},
   "outputs": [
    {
     "data": {
      "text/plain": [
       "[<TodoItem Gemüse einkaufen (Priority: 2)>,\n",
       " <TodoItem Schnee schaufeln (Priority: 5), done>]"
      ]
     },
     "execution_count": 23,
     "metadata": {},
     "output_type": "execute_result"
    }
   ],
   "source": [
    "todos"
   ]
  },
  {
   "cell_type": "markdown",
   "metadata": {},
   "source": [
    "Fügen Sie zwei Todo-Items mit Text \"Python lernen\" und Priorität 1 und 6 zur Todo-Liste hinzu."
   ]
  },
  {
   "cell_type": "code",
   "execution_count": 24,
   "metadata": {},
   "outputs": [],
   "source": [
    "add_todo_item(todos, \"Python lernen\", 1)\n",
    "add_todo_item(todos, \"Python lernen\", 6)"
   ]
  },
  {
   "cell_type": "code",
   "execution_count": 26,
   "metadata": {},
   "outputs": [
    {
     "data": {
      "text/plain": [
       "[<TodoItem Gemüse einkaufen (Priority: 2)>,\n",
       " <TodoItem Schnee schaufeln (Priority: 5), done>,\n",
       " <TodoItem Python lernen (Priority: 1)>,\n",
       " <TodoItem Python lernen (Priority: 6)>]"
      ]
     },
     "execution_count": 26,
     "metadata": {},
     "output_type": "execute_result"
    }
   ],
   "source": [
    "todos"
   ]
  },
  {
   "cell_type": "markdown",
   "metadata": {},
   "source": [
    "Markieren Sie ein Todo-Item \"Python lernen\" als erledigt. Wie sieht jetzt Ihre Liste aus?"
   ]
  },
  {
   "cell_type": "code",
   "execution_count": 12,
   "metadata": {},
   "outputs": [],
   "source": [
    "mark_todo_item_done(todos, \"Python lernen\")"
   ]
  },
  {
   "cell_type": "code",
   "execution_count": 13,
   "metadata": {},
   "outputs": [
    {
     "data": {
      "text/plain": [
       "[<TodoItem Python lernen (Priority: 3), done>,\n",
       " <TodoItem Gemüse einkaufen (Priority: 2)>,\n",
       " <TodoItem Hans anrufen (Priority: 5), done>,\n",
       " <TodoItem Schnee schaufeln (Priority: 5), done>,\n",
       " <TodoItem Python lernen (Priority: 1)>,\n",
       " <TodoItem Python lernen (Priority: 6)>]"
      ]
     },
     "execution_count": 13,
     "metadata": {},
     "output_type": "execute_result"
    }
   ],
   "source": [
    "todos"
   ]
  },
  {
   "cell_type": "markdown",
   "metadata": {},
   "source": [
    "Markieren Sie noch zwei Todo-Items \"Python lernen\" als erledigt. Wie sieht jetzt Ihre Liste aus?"
   ]
  },
  {
   "cell_type": "code",
   "execution_count": 14,
   "metadata": {},
   "outputs": [
    {
     "data": {
      "text/plain": [
       "[<TodoItem Python lernen (Priority: 3), done>,\n",
       " <TodoItem Gemüse einkaufen (Priority: 2)>,\n",
       " <TodoItem Hans anrufen (Priority: 5), done>,\n",
       " <TodoItem Schnee schaufeln (Priority: 5), done>,\n",
       " <TodoItem Python lernen (Priority: 1), done>,\n",
       " <TodoItem Python lernen (Priority: 6)>]"
      ]
     },
     "execution_count": 14,
     "metadata": {},
     "output_type": "execute_result"
    }
   ],
   "source": [
    "mark_todo_item_done(todos, \"Python lernen\")\n",
    "todos"
   ]
  },
  {
   "cell_type": "code",
   "execution_count": 15,
   "metadata": {},
   "outputs": [
    {
     "data": {
      "text/plain": [
       "[<TodoItem Python lernen (Priority: 3), done>,\n",
       " <TodoItem Gemüse einkaufen (Priority: 2)>,\n",
       " <TodoItem Hans anrufen (Priority: 5), done>,\n",
       " <TodoItem Schnee schaufeln (Priority: 5), done>,\n",
       " <TodoItem Python lernen (Priority: 1), done>,\n",
       " <TodoItem Python lernen (Priority: 6), done>]"
      ]
     },
     "execution_count": 15,
     "metadata": {},
     "output_type": "execute_result"
    }
   ],
   "source": [
    "mark_todo_item_done(todos, \"Python lernen\")\n",
    "todos"
   ]
  },
  {
   "cell_type": "markdown",
   "metadata": {},
   "source": [
    "Schreiben Sie eine Funktion `delete_todo_item(todo_list, title)`, die das erste in der liste `todo_list` vorkommende Todo-Item mit Titel `title` aus der Liste entfernt.\n",
    "\n",
    "*Vorsicht: Sie sollten während Sie über eine Liste iterieren keine Einträge entfernen oder einfügen!*"
   ]
  },
  {
   "cell_type": "code",
   "execution_count": 16,
   "metadata": {},
   "outputs": [],
   "source": [
    "def delete_todo_item(todo_list, title):\n",
    "    index_to_delete = -1\n",
    "    for index, item in enumerate(todo_list):\n",
    "        if item.title == title:\n",
    "            index_to_delete = index\n",
    "            break\n",
    "    if index_to_delete >= 0:\n",
    "        del todo_list[index_to_delete]"
   ]
  },
  {
   "cell_type": "code",
   "execution_count": 17,
   "metadata": {},
   "outputs": [
    {
     "data": {
      "text/plain": [
       "[<TodoItem Gemüse einkaufen (Priority: 2)>,\n",
       " <TodoItem Hans anrufen (Priority: 5), done>,\n",
       " <TodoItem Schnee schaufeln (Priority: 5), done>,\n",
       " <TodoItem Python lernen (Priority: 1), done>,\n",
       " <TodoItem Python lernen (Priority: 6), done>]"
      ]
     },
     "execution_count": 17,
     "metadata": {},
     "output_type": "execute_result"
    }
   ],
   "source": [
    "delete_todo_item(todos, \"Python lernen\")\n",
    "todos"
   ]
  },
  {
   "cell_type": "code",
   "execution_count": 18,
   "metadata": {},
   "outputs": [
    {
     "data": {
      "text/plain": [
       "[<TodoItem Gemüse einkaufen (Priority: 2)>,\n",
       " <TodoItem Hans anrufen (Priority: 5), done>,\n",
       " <TodoItem Schnee schaufeln (Priority: 5), done>,\n",
       " <TodoItem Python lernen (Priority: 6), done>]"
      ]
     },
     "execution_count": 18,
     "metadata": {},
     "output_type": "execute_result"
    }
   ],
   "source": [
    "delete_todo_item(todos, \"Python lernen\")\n",
    "todos"
   ]
  },
  {
   "cell_type": "code",
   "execution_count": 19,
   "metadata": {},
   "outputs": [
    {
     "data": {
      "text/plain": [
       "[<TodoItem Gemüse einkaufen (Priority: 2)>,\n",
       " <TodoItem Hans anrufen (Priority: 5), done>,\n",
       " <TodoItem Schnee schaufeln (Priority: 5), done>]"
      ]
     },
     "execution_count": 19,
     "metadata": {},
     "output_type": "execute_result"
    }
   ],
   "source": [
    "delete_todo_item(todos, \"Python lernen\")\n",
    "todos"
   ]
  },
  {
   "cell_type": "markdown",
   "metadata": {},
   "source": [
    "Schreiben Sie eine Funktiion `delete_all_completed_todo_items(todo_list)`, die alle erledigten Todo-Items aus `todo_list` löscht.\n",
    "\n",
    "*Hinweis: Sie benötigen dazu wahrscheinlich zwei aufeinanderfolgende `for`-Schleifen: eine um die Indizes zu bestimmen und eine um sie zu löschen*"
   ]
  },
  {
   "cell_type": "code",
   "execution_count": 27,
   "metadata": {},
   "outputs": [],
   "source": [
    "def delete_all_completed_todo_items(todo_list):\n",
    "    indices_to_delete = []\n",
    "    for index, item in enumerate(todo_list):\n",
    "        if item.is_done:\n",
    "            indices_to_delete.append(index)\n",
    "    for index in indices_to_delete:\n",
    "        del todo_list[index]"
   ]
  },
  {
   "cell_type": "code",
   "execution_count": 28,
   "metadata": {},
   "outputs": [
    {
     "data": {
      "text/plain": [
       "[<TodoItem Gemüse einkaufen (Priority: 2)>,\n",
       " <TodoItem Python lernen (Priority: 1)>,\n",
       " <TodoItem Python lernen (Priority: 6)>]"
      ]
     },
     "execution_count": 28,
     "metadata": {},
     "output_type": "execute_result"
    }
   ],
   "source": [
    "delete_all_completed_todo_items(todos)\n",
    "todos"
   ]
  },
  {
   "cell_type": "markdown",
   "metadata": {},
   "source": [
    "# Quiz\n",
    "\n",
    "Wir wollen ein Quiz in Python implementieren.\n",
    "\n",
    "Definieren Sie dazu eine Klasse `Question`, die einzelne Fragen und korrekte Antworten repräsentiert. Der Zustand der Klasse ist\n",
    "\n",
    "- Ein String `text`, der den Text der Frage darstellt.\n",
    "- Eine Liste von Strings `answers`, die die richtigen Antworten darstellen.\n",
    "\n",
    "`Question` hat die folgende Methoden:\n",
    "\n",
    "- `is_answer_correct(self, answer)`: überprüft, ob der String `answer` eine korrekte Antwort auf die Frage ist.\n",
    "- `correct_answer(self)`: Gibt eine der korrekten Antworten zurück."
   ]
  },
  {
   "cell_type": "code",
   "execution_count": null,
   "metadata": {},
   "outputs": [],
   "source": [
    "class Question:\n",
    "    def __init__(self, text, answers):\n",
    "        self.text = text\n",
    "        self.answers = answers\n",
    "    def __repr__(self):\n",
    "        return F\"<Question {self.text}>\"\n",
    "\n",
    "def is_answer_correct(question, answer):\n",
    "    return answer in question.answers\n",
    "    \n",
    "def correct_answer(question):\n",
    "    return question.answers[0]"
   ]
  },
  {
   "cell_type": "code",
   "execution_count": null,
   "metadata": {},
   "outputs": [],
   "source": [
    "questions = [Question(\"Wann wurde Napoleon geboren?\", [\"15. August 1769\", \"1769\"]),\n",
    "             Question(\"Wann wurde Python erfunden?\", [\"1991\"]),\n",
    "             Question(\"Wer ist Pythons Benevolent Dictator For Life?\", [\"Guido van Rossum\", \"Guido v. Rossum\"])]\n",
    "questions"
   ]
  },
  {
   "cell_type": "markdown",
   "metadata": {},
   "source": [
    "Implementieren Sie jetzt eine Klasse `TriviaGame`, die eine Liste von `Question`-Instanzen enthält und eine Methode `run(self)` hat, die \n",
    "\n",
    "- zufällig eine Frage auswählt, \n",
    "- den Fragetext auf dem Bildschirm ausgibt,\n",
    "- den Benutzer nach seiner Antwort fragt,\n",
    "- die Antwort des Benutzers überprüft und\n",
    "- einen Text ausgibt, ob die Antwort richtig oder falsch war.\n",
    "\n",
    "Eine leere Eingabe soll das Spiel abbrechen.\n",
    "\n",
    "*Hinweis:* Ein zufälliges Element einer Liste bekommen Sie mittels der Funktion `random.choice(list)`. Schreiben Sie\n",
    "\n",
    "```\n",
    "from random import choice\n",
    "``` \n",
    "an den Beginn der Zelle, in der Sie die Funktion verwenden."
   ]
  },
  {
   "cell_type": "code",
   "execution_count": null,
   "metadata": {},
   "outputs": [],
   "source": [
    "from random import choice\n",
    "\n",
    "class TriviaGame:\n",
    "    EXIT = \"EXIT\"\n",
    "    CORRECT_ANSWER = \"CORRECT_ANSWER\"\n",
    "    FALSE_ANSWER = \"FALSE_ANSWER\"\n",
    "    \n",
    "    def __init__(self, questions):\n",
    "        self.questions = questions"
   ]
  },
  {
   "cell_type": "code",
   "execution_count": null,
   "metadata": {},
   "outputs": [],
   "source": [
    "def pick_random_question(game):\n",
    "    return choice(game.questions)"
   ]
  },
  {
   "cell_type": "code",
   "execution_count": null,
   "metadata": {},
   "outputs": [],
   "source": [
    "def process_question(game, question):\n",
    "    \"\"\"Processes question.\n",
    "\n",
    "    Returns True if the game should continue, false otherwise\"\"\"\n",
    "    print(question.text)\n",
    "    answer = input(\"Ihre Antwort: \")\n",
    "    if answer == \"\":\n",
    "        return game.EXIT\n",
    "    elif (is_answer_correct(question, answer)):\n",
    "        return game.CORRECT_ANSWER\n",
    "    else:\n",
    "        return game.FALSE_ANSWER"
   ]
  },
  {
   "cell_type": "code",
   "execution_count": null,
   "metadata": {},
   "outputs": [],
   "source": [
    "def run(game):\n",
    "    while True:\n",
    "        question = pick_random_question(game)\n",
    "        result = process_question(game, question)\n",
    "        if result == game.EXIT:\n",
    "            print(\"Auf Wiedersehen!\")\n",
    "            break\n",
    "        elif result == game.CORRECT_ANSWER:\n",
    "            print(\"Hervorragend!\")\n",
    "        else:\n",
    "            print(f\"Leider nein. Die richtige Antwort ist '{correct_answer(question)}''\")"
   ]
  },
  {
   "cell_type": "code",
   "execution_count": null,
   "metadata": {},
   "outputs": [],
   "source": [
    "my_game = TriviaGame(questions)"
   ]
  },
  {
   "cell_type": "code",
   "execution_count": null,
   "metadata": {},
   "outputs": [],
   "source": [
    "run(my_game)"
   ]
  },
  {
   "cell_type": "markdown",
   "metadata": {},
   "source": [
    "# Quiz (Objektorientiert)\n",
    "\n",
    "Wir wollen ein Quiz in Python implementieren.\n",
    "\n",
    "Definieren Sie dazu eine Klasse `Question`, die einzelne Fragen und korrekte Antworten repräsentiert. Der Zustand der Klasse ist\n",
    "\n",
    "- Ein String `text`, der den Text der Frage darstellt.\n",
    "- Eine Liste von Strings `answers`, die die richtigen Antworten darstellen.\n",
    "\n",
    "`Question` hat die folgende Methoden:\n",
    "\n",
    "- `is_answer_correct(self, answer)`: überprüft, ob der String `answer` eine korrekte Antwort auf die Frage ist.\n",
    "- `correct_answer(self)`: Gibt eine der korrekten Antworten zurück."
   ]
  },
  {
   "cell_type": "code",
   "execution_count": null,
   "metadata": {},
   "outputs": [],
   "source": [
    "class Question:\n",
    "    def __init__(self, text, answers):\n",
    "        self.text = text\n",
    "        self.answers = answers\n",
    "    def __repr__(self):\n",
    "        return F\"<Question {self.text}>\"\n",
    "    \n",
    "    def is_answer_correct(self, answer):\n",
    "        return answer in self.answers\n",
    "    \n",
    "    def correct_answer(self):\n",
    "        return self.answers[0]"
   ]
  },
  {
   "cell_type": "code",
   "execution_count": null,
   "metadata": {},
   "outputs": [],
   "source": [
    "questions = [Question(\"Wann wurde Napoleon geboren?\", [\"15. August 1769\", \"1769\"]),\n",
    "             Question(\"Wann wurde Python erfunden?\", [\"1991\"]),\n",
    "             Question(\"Wer ist Pythons Benevolent Dictator For Life?\", [\"Guido van Rossum\", \"Guido v. Rossum\"])]\n",
    "questions"
   ]
  },
  {
   "cell_type": "code",
   "execution_count": null,
   "metadata": {},
   "outputs": [],
   "source": [
    "questions[0].is_answer_correct('15. August 1769')"
   ]
  },
  {
   "cell_type": "code",
   "execution_count": null,
   "metadata": {},
   "outputs": [],
   "source": [
    "questions[0].correct_answer()"
   ]
  },
  {
   "cell_type": "markdown",
   "metadata": {},
   "source": [
    "Implementieren Sie jetzt eine Klasse `TriviaGame`, die eine Liste von `Question`-Instanzen enthält und eine Methode `run(self)` hat, die \n",
    "\n",
    "- zufällig eine Frage auswählt, \n",
    "- den Fragetext auf dem Bildschirm ausgibt,\n",
    "- den Benutzer nach seiner Antwort fragt,\n",
    "- die Antwort des Benutzers überprüft und\n",
    "- einen Text ausgibt, ob die Antwort richtig oder falsch war.\n",
    "\n",
    "Eine leere Eingabe soll das Spiel abbrechen.\n",
    "\n",
    "*Hinweis:* Ein zufälliges Element einer Liste bekommen Sie mittels der Funktion `random.choice(list)`. Schreiben Sie\n",
    "\n",
    "```\n",
    "from random import choice\n",
    "``` \n",
    "an den Beginn der Zelle, in der Sie die Funktion verwenden."
   ]
  },
  {
   "cell_type": "code",
   "execution_count": null,
   "metadata": {},
   "outputs": [],
   "source": [
    "from random import choice\n",
    "\n",
    "class TriviaGame:\n",
    "    EXIT = \"EXIT\"\n",
    "    CORRECT_ANSWER = \"CORRECT_ANSWER\"\n",
    "    FALSE_ANSWER = \"FALSE_ANSWER\"\n",
    "    \n",
    "    def __init__(self, questions):\n",
    "        self.questions = questions\n",
    "    \n",
    "    def pick_random_question(self):\n",
    "        return choice(self.questions)\n",
    "    \n",
    "    def process_question(self, question):\n",
    "        \"\"\"Processes question.\n",
    "        \n",
    "        Returns True if the game should continue, false otherwise\"\"\"\n",
    "        print(question.text)\n",
    "        answer = input(\"Ihre Antwort: \")\n",
    "        if answer == \"\":\n",
    "            return self.EXIT\n",
    "        elif (question.is_answer_correct(answer)):\n",
    "            return self.CORRECT_ANSWER\n",
    "        else:\n",
    "            return self.FALSE_ANSWER\n",
    "    \n",
    "    def run(self):\n",
    "        while True:\n",
    "            question = self.pick_random_question()\n",
    "            result = self.process_question(question)\n",
    "            if result == self.EXIT:\n",
    "                print(\"Auf Wiedersehen!\")\n",
    "                break\n",
    "            elif result == self.CORRECT_ANSWER:\n",
    "                print(\"Hervorragend!\")\n",
    "            else:\n",
    "                print(f\"Leider nein. Die richtige Antwort ist '{question.correct_answer()}''\")\n"
   ]
  },
  {
   "cell_type": "code",
   "execution_count": null,
   "metadata": {},
   "outputs": [],
   "source": [
    "my_game = TriviaGame(questions)"
   ]
  },
  {
   "cell_type": "code",
   "execution_count": null,
   "metadata": {},
   "outputs": [],
   "source": [
    "my_game.pick_random_question()"
   ]
  },
  {
   "cell_type": "code",
   "execution_count": null,
   "metadata": {},
   "outputs": [],
   "source": [
    "# my_game.process_question(my_game.pick_random_question())"
   ]
  },
  {
   "cell_type": "code",
   "execution_count": null,
   "metadata": {},
   "outputs": [],
   "source": [
    "# my_game.run()"
   ]
  },
  {
   "cell_type": "code",
   "execution_count": null,
   "metadata": {},
   "outputs": [],
   "source": []
  }
 ],
 "metadata": {
  "kernelspec": {
   "name": "pycharm-35b0e357",
   "language": "python",
   "display_name": "PyCharm (Python-Oppenheim)"
  },
  "language_info": {
   "codemirror_mode": {
    "name": "ipython",
    "version": 3
   },
   "file_extension": ".py",
   "mimetype": "text/x-python",
   "name": "python",
   "nbconvert_exporter": "python",
   "pygments_lexer": "ipython3",
   "version": "3.7.3"
  }
 },
 "nbformat": 4,
 "nbformat_minor": 4
}