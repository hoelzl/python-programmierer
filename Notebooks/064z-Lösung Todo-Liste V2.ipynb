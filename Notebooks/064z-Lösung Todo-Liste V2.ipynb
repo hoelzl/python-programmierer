{
 "cells": [
  {
   "cell_type": "markdown",
   "metadata": {},
   "source": [
    "# Todo-Liste\n",
    "\n",
    "In diesem Workshop wollen wir zum dritten Mal eine Todo-Liste implementieren, aber dabei sowohl die Liste als auch die Einträge durch Instanzen von Klassen darstellen und die Implementierung in den Klassen kapseln.\n",
    "\n",
    "Es empfiehlt sich, diesen Workshop in einer IDE zu bearbeiten, da die letzten Teilaufgaben in Notebooks nicht sinnvoll implementiert werden können. Schreiben Sie Tests zu jeder implementierten Methode, entweder indem Sie im TDD-Stil Test-First arbeiten oder indem Sie unmittlebar nach der Implementierung einer Methode Unit-Tests dafür schreiben.\n",
    "\n",
    "Jeder Eintrag in der Todo-Liste soll wieder folgende Information enthalten:\n",
    "\n",
    "- Titel\n",
    "- Priorität\n",
    "- Wurde das Item schon erledigt oder nicht?\n",
    "\n",
    "Definieren Sie eine Klasse `TodoItem`, die diese Daten kapselt. \n",
    "\n",
    "Implementieren Sie eine `__init__()`-Methode, die Titel als obligatorisches Argument bekommt. Priorität und \"wurde erledigt\" sollen optionale Parameter mit Weren 1 bzw. `False` sein.\n",
    "\n",
    "Implementieren Sie Methoden `__str__(self)` und `__repr__(self)`, die Instanzen der Klasse in Strings umwandeln."
   ]
  },
  {
   "cell_type": "code",
   "execution_count": 119,
   "metadata": {
    "pycharm": {
     "name": "#%%\n"
    }
   },
   "outputs": [],
   "source": [
    "class TodoItem:\n",
    "    def __init__(self, title, priority=1, is_completed=False):\n",
    "        self.title = title\n",
    "        self.priority = priority\n",
    "        self.is_completed = is_completed\n",
    "\n",
    "    def __str__(self):\n",
    "        return f\"{self.title}, priority {self.priority}\" + (\"\" if not self.is_completed else \", done\")\n",
    "    \n",
    "    def __repr__(self):\n",
    "        return f\"TodoItem({self.title!r}, {self.priority!r}, {self.is_completed!r})\""
   ]
  },
  {
   "cell_type": "markdown",
   "metadata": {},
   "source": [
    "Definieren Sie eine Klasse `TodoList`, die eine Todo-Liste repräsentiert.\n",
    "\n",
    "Implementieren Sie eine `__init__()` Methode, die eine Liste von Dictionaries, die TodoItems beschreiben, als Argument bekommt und daraus eine Liste von `TodoItem`-Instanzen erzeugt und speichert.\n",
    "\n",
    "Fügen Sie folgende Methoden hinzu:\n",
    "\n",
    "- `add(self, title: str, priority: int, is_completed: bool)`, die ein neues Todo-Item an die Todo-Liste anhängt und \n",
    "  geeignete Default-Werte für `priority` und `is_completed` übergibt.\n",
    "- `mark_done(self, title)`, die das erste in der Liste vorkommende Todo-Item mit Titel `title`, das noch nicht bearbeitet ist, als bearbeitet markiert.\n",
    "- `delete(self, title)`, die das erste in der Liste vorkommende Todo-Item mit Titel `title` aus der Liste entfernt.\n",
    "- `delete_all_completed(self)`, die alle beendetend Items aus der Liste entfernt.\n",
    "- `__str__(self)` und `__repr__(self)`\n",
    "\n",
    "*Hinweis*: Kopieren Sie die Implementierung der Methoden aus `062z-Lösung Todo-Liste V1` oder ihrer vorherigen Implementierung und passen Sie den Code an."
   ]
  },
  {
   "cell_type": "code",
   "execution_count": 146,
   "metadata": {
    "pycharm": {
     "name": "#%%\n"
    }
   },
   "outputs": [],
   "source": [
    "from typing import List\n",
    "\n",
    "class TodoList:\n",
    "    def __init__(self, items):\n",
    "        self.items: List[TodoItem] = [TodoItem(**spec) for spec in items]\n",
    "\n",
    "    def add(self, title, priority=1, is_completed=False):\n",
    "        self.items.append(TodoItem(title, priority, is_completed))\n",
    "\n",
    "    def mark_done(self, title):\n",
    "        for item in self.items:\n",
    "            if item.title == title and not item.is_completed:\n",
    "                item.is_completed = True\n",
    "                break\n",
    "\n",
    "    def delete(self, title):\n",
    "        index_to_delete = -1\n",
    "        for index, item in enumerate(self.items):\n",
    "            if item.title == title:\n",
    "                index_to_delete = index\n",
    "                break\n",
    "        if index_to_delete >= 0:\n",
    "            del self.items[index_to_delete]\n",
    "\n",
    "    def delete_all_completed(self):\n",
    "        indices_to_delete = []\n",
    "        # To keep PyCharm happy\n",
    "        assert isinstance(self.items, list)\n",
    "        for index, item in enumerate(self.items):\n",
    "            if item.is_completed:\n",
    "                indices_to_delete.append(index)\n",
    "        import numpy as np\n",
    "        self.items = np.delete(self.items, indices_to_delete).tolist()\n",
    "\n",
    "    def __str__(self):\n",
    "        from io import StringIO\n",
    "        result = StringIO()\n",
    "        print(\"Todo List:\", file=result)\n",
    "        for item in self.items:\n",
    "            print(f\"  {item!s}\", file=result)\n",
    "        return result.getvalue()\n",
    "\n",
    "    def __repr__(self):\n",
    "        return f\"TodoList({self.items!r})\""
   ]
  },
  {
   "cell_type": "markdown",
   "metadata": {},
   "source": [
    "Erweitern Sie die Klasse `TodoList` um eine Methode\n",
    "\n",
    "```save_to_file(self, file)```\n",
    "\n",
    "und eine statische Methode\n",
    "\n",
    "```load_from_file(file)```\n",
    "\n",
    "mit der Todo-Listen gespeichert und geladen werden können.\n",
    "\n",
    "*Hinweis:* Am Einfachsten ist das mit der `pickle` Bibliothek."
   ]
  },
  {
   "cell_type": "markdown",
   "metadata": {},
   "source": [
    "Fügen Sie eine Datei `main.py` zu Ihrer Implementierung hinzu, die einen `ArgumentParser` instanziieren, der folgende Argumente verarbeiten kann:\n",
    "\n",
    "- Ein positionales Argument `file`, das eine Datei benennt, in der eine TODO-Liste gespeichert ist bzw. gespeichert werden kann. Dieses Argument muss angegeben werden. Der Inhalt von `file` ist eine Json-Darstellung einer Todo-Liste.\n",
    "\n",
    "Außerdem sollen die folgenden optionalen Argumente verarbeitet werden können:\n",
    "\n",
    "- `--create`: erstellt `file` neu mit Größe 0\n",
    "- `--add title priority` fügt ein neues Todo-Item zu `file` hinzu\n",
    "- `--delete title` löscht das erste Todo-Item mit Titel `title` aus der Todo-Liste\n",
    "- `--mark-completed title` markiert das erste Todo-Item mit Titel `title` als erledigt\n",
    "- `--delete-all-completed` entfernt alle erledigten Items aus `file`\n",
    "- `--list` gibt die TODO-Liste aus\n",
    "\n",
    "Es genügt wenn Ihre Implementierung bei jedem Aufruf ein einziges optionales Argument verarbeiten kann, ohne dass die Implementierung überprüft, ob mehrere Argumente übergeben wurden.\n",
    "\n",
    "```shell\n",
    "python -m todos.main .\\my-todos.json --add 'Kaufe Äpfel' 1 \\\n",
    "       --add 'Besuche Emmy' 2 --completed 'Lerne Python' --list\n",
    "```\n",
    "\n",
    "Die vorgenommenen Änderungen sollen in `file` gespeichert werden."
   ]
  },
  {
   "cell_type": "code",
   "execution_count": null,
   "metadata": {},
   "outputs": [],
   "source": []
  }
 ],
 "metadata": {
  "kernelspec": {
   "display_name": "Python 3",
   "language": "python",
   "name": "python3"
  },
  "language_info": {
   "codemirror_mode": {
    "name": "ipython",
    "version": 3
   },
   "file_extension": ".py",
   "mimetype": "text/x-python",
   "name": "python",
   "nbconvert_exporter": "python",
   "pygments_lexer": "ipython3",
   "version": "3.8.2"
  }
 },
 "nbformat": 4,
 "nbformat_minor": 4
}
