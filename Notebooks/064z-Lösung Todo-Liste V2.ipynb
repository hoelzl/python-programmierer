{
 "cells": [
  {
   "cell_type": "markdown",
   "metadata": {},
   "source": [
    "# Todo-Liste\n",
    "\n",
    "In diesem Workshop wollen wir zum dritten Mal eine Todo-Liste implementieren, aber dabei sowohl die Liste als auch die Einträge durch Instanzen von Klassen darstellen und die Implementierung in den Klassen kapseln.\n",
    "\n",
    "Jeder Eintrag in der Todo-Liste soll wieder folgende Information enthalten:\n",
    "\n",
    "- Titel\n",
    "- Priorität\n",
    "- Wurde das Item schon erledigt oder nicht?\n",
    "\n",
    "Definieren Sie eine Klasse `TodoItem`, die diese Daten kapselt. \n",
    "\n",
    "Implementieren Sie eine `__init__()`-Methode, die Titel als obligatorisches Argument bekommt. Priorität und \"wurde erledigt\" sollen optionale Parameter mit Weren 1 bzw. `False` sein.\n",
    "\n",
    "Implementieren Sie Methoden `__str__(self)` und `__repr__(self)`, die Instanzen der Klasse in Strings umwandeln."
   ]
  },
  {
   "cell_type": "code",
   "execution_count": 119,
   "metadata": {
    "pycharm": {
     "name": "#%%\n"
    }
   },
   "outputs": [],
   "source": [
    "class TodoItem:\n",
    "    def __init__(self, title, priority=1, is_completed=False):\n",
    "        self.title = title\n",
    "        self.priority = priority\n",
    "        self.is_completed = is_completed\n",
    "\n",
    "    def __str__(self):\n",
    "        return f\"{self.title}, priority {self.priority}\" + (\"\" if not self.is_completed else \", done\")\n",
    "    \n",
    "    def __repr__(self):\n",
    "        return f\"TodoItem({self.title!r}, {self.priority!r}, {self.is_completed!r})\""
   ]
  },
  {
   "cell_type": "markdown",
   "metadata": {},
   "source": [
    "Erzeugen Sie ein Todo-Item mit folgenden Bestandteilen:\n",
    "- Titel: Python lernen\n",
    "- Priorität 3\n",
    "- nicht erledigt"
   ]
  },
  {
   "cell_type": "code",
   "execution_count": 120,
   "metadata": {
    "pycharm": {
     "name": "#%%\n"
    }
   },
   "outputs": [
    {
     "name": "stdout",
     "output_type": "stream",
     "text": [
      "Python lernen, priority 3\n"
     ]
    },
    {
     "data": {
      "text/plain": [
       "TodoItem('Python lernen', 3, False)"
      ]
     },
     "execution_count": 120,
     "metadata": {},
     "output_type": "execute_result"
    }
   ],
   "source": [
    "todo_item = TodoItem('Python lernen', 3, False)\n",
    "print(todo_item)\n",
    "todo_item"
   ]
  },
  {
   "cell_type": "markdown",
   "metadata": {},
   "source": [
    "Definieren Sie eine Klasse `TodoList`, die eine Todo-Liste repräsentiert.\n",
    "\n",
    "Implementieren Sie eine `__init__()` Methode, die eine Liste von Dictionaries, die TodoItems beschreiben, als Argument bekommt und daraus eine Liste von `TodoItem`-Instanzen erzeugt und speichert.\n",
    "\n",
    "Fügen Sie folgende Methoden hinzu:\n",
    "\n",
    "- `add(self, title: str, priority: int, is_completed: bool)`, die ein neues Todo-Item an die Todo-Liste anhängt und \n",
    "  geeignete Default-Werte für `priority` und `is_completed` übergibt.\n",
    "- `mark_done(self, title)`, die das erste in der Liste vorkommende Todo-Item mit Titel `title`, das noch nicht bearbeitet ist, als bearbeitet markiert.\n",
    "- `delete(self, title)`, die das erste in der Liste vorkommende Todo-Item mit Titel `title` aus der Liste entfernt.\n",
    "- `delete_all_completed(self)`, die alle beendetend Items aus der Liste entfernt.\n",
    "- `__str__(self)` und `__repr__(self)`\n",
    "\n",
    "*Hinweis*: Kopieren Sie die Implementierung der Methoden aus `062z-Lösung Todo-Liste V1` oder ihrer vorherigen Implementierung und passen Sie den Code an."
   ]
  },
  {
   "cell_type": "code",
   "execution_count": 121,
   "metadata": {
    "pycharm": {
     "name": "#%%\n"
    }
   },
   "outputs": [],
   "source": [
    "class TodoList:\n",
    "    def __init__(self, items):\n",
    "        self.items = [TodoItem(**dict) for dict in items]\n",
    "        \n",
    "    def add(self, title, priority=1, is_completed=False):\n",
    "        self.items.append(TodoItem(title, priority, is_completed))\n",
    "        \n",
    "    def mark_done(self, title):\n",
    "        for item in self.items:\n",
    "            if item.title == title and not item.is_completed:\n",
    "                item.is_completed = True\n",
    "                break\n",
    "    \n",
    "    def delete(self, title):\n",
    "        index_to_delete = -1\n",
    "        for index, item in enumerate(self.items):\n",
    "            if item.title == title:\n",
    "                index_to_delete = index\n",
    "                break\n",
    "        if index_to_delete >= 0:\n",
    "            del self.items[index_to_delete]\n",
    "            \n",
    "    def delete_all_completed(self):    \n",
    "        indices_to_delete = []\n",
    "        for index, item in enumerate(self.items):\n",
    "            if item.is_completed:\n",
    "                indices_to_delete.append(index)\n",
    "        import numpy as np\n",
    "        self.items = np.delete(self.items, indices_to_delete).tolist()\n",
    "\n",
    "    def __str__(self):\n",
    "        from io import StringIO\n",
    "        result = StringIO()\n",
    "        print(\"Todo List:\", file=result)\n",
    "        for item in self.items:\n",
    "            print(f\"  {item!s}\", file=result)\n",
    "        return result.getvalue()\n",
    "    \n",
    "    def __repr__(self):\n",
    "        return f\"TodoList({self.items!r})\""
   ]
  },
  {
   "cell_type": "markdown",
   "metadata": {},
   "source": [
    "Legen Sie eine Todo-Liste `todos` mit Todo-Items an, die folgende Einträge enthält:\n",
    "\n",
    "- Titel: Python lernen, Priorität 3, nicht erledigt\n",
    "- Titel: Gemüse einkaufen, Priorität 2, nicht erledigt\n",
    "- Titel: Hans anrufen, Priorität 5, erledigt"
   ]
  },
  {
   "cell_type": "code",
   "execution_count": 122,
   "metadata": {
    "pycharm": {
     "name": "#%%\n"
    }
   },
   "outputs": [],
   "source": [
    "todos = TodoList([{'title': 'Python lernen'},\n",
    "                  {'title': 'Gemüse einkaufen', 'priority': 2},\n",
    "                  {'title': 'Hans anrufen', 'priority': 5, 'is_completed': True}])"
   ]
  },
  {
   "cell_type": "code",
   "execution_count": 123,
   "metadata": {
    "pycharm": {
     "name": "#%%\n"
    }
   },
   "outputs": [
    {
     "name": "stdout",
     "output_type": "stream",
     "text": [
      "Todo List:\n",
      "  Python lernen, priority 1\n",
      "  Gemüse einkaufen, priority 2\n",
      "  Hans anrufen, priority 5, done\n",
      "\n"
     ]
    },
    {
     "data": {
      "text/plain": [
       "TodoList([TodoItem('Python lernen', 1, False), TodoItem('Gemüse einkaufen', 2, False), TodoItem('Hans anrufen', 5, True)])"
      ]
     },
     "execution_count": 123,
     "metadata": {},
     "output_type": "execute_result"
    }
   ],
   "source": [
    "print(todos)\n",
    "todos"
   ]
  },
  {
   "cell_type": "markdown",
   "metadata": {},
   "source": [
    "Fügen Sie ein neues Todo-Item mit Titel \"Schnee schaufeln\" und Priorität 5 in die Liste `todos` ein."
   ]
  },
  {
   "cell_type": "code",
   "execution_count": 124,
   "metadata": {
    "pycharm": {
     "name": "#%%\n"
    }
   },
   "outputs": [],
   "source": [
    "todos.add(\"Schnee schaufeln\", 5)"
   ]
  },
  {
   "cell_type": "code",
   "execution_count": 125,
   "metadata": {
    "pycharm": {
     "name": "#%%\n"
    }
   },
   "outputs": [
    {
     "name": "stdout",
     "output_type": "stream",
     "text": [
      "Todo List:\n",
      "  Python lernen, priority 1\n",
      "  Gemüse einkaufen, priority 2\n",
      "  Hans anrufen, priority 5, done\n",
      "  Schnee schaufeln, priority 5\n",
      "\n"
     ]
    }
   ],
   "source": [
    "print(todos)"
   ]
  },
  {
   "cell_type": "markdown",
   "metadata": {},
   "source": [
    "Markieren Sie das Todo-Item `Schnee schaufeln` als bearbeitet."
   ]
  },
  {
   "cell_type": "code",
   "execution_count": 126,
   "metadata": {
    "pycharm": {
     "name": "#%%\n"
    }
   },
   "outputs": [],
   "source": [
    "todos.mark_done(\"Schnee schaufeln\")"
   ]
  },
  {
   "cell_type": "code",
   "execution_count": 127,
   "metadata": {
    "pycharm": {
     "name": "#%%\n"
    }
   },
   "outputs": [
    {
     "name": "stdout",
     "output_type": "stream",
     "text": [
      "Todo List:\n",
      "  Python lernen, priority 1\n",
      "  Gemüse einkaufen, priority 2\n",
      "  Hans anrufen, priority 5, done\n",
      "  Schnee schaufeln, priority 5, done\n",
      "\n"
     ]
    }
   ],
   "source": [
    "print(todos)"
   ]
  },
  {
   "cell_type": "markdown",
   "metadata": {},
   "source": [
    "Fügen Sie zwei Todo-Items mit Text \"Python lernen\" und Priorität 1 und 6 zur Todo-Liste hinzu."
   ]
  },
  {
   "cell_type": "code",
   "execution_count": 128,
   "metadata": {
    "pycharm": {
     "name": "#%%\n"
    }
   },
   "outputs": [],
   "source": [
    "todos.add(\"Python lernen\", 1)\n",
    "todos.add(\"Python lernen\", 6)"
   ]
  },
  {
   "cell_type": "code",
   "execution_count": 129,
   "metadata": {
    "pycharm": {
     "name": "#%%\n"
    }
   },
   "outputs": [
    {
     "name": "stdout",
     "output_type": "stream",
     "text": [
      "Todo List:\n",
      "  Python lernen, priority 1\n",
      "  Gemüse einkaufen, priority 2\n",
      "  Hans anrufen, priority 5, done\n",
      "  Schnee schaufeln, priority 5, done\n",
      "  Python lernen, priority 1\n",
      "  Python lernen, priority 6\n",
      "\n"
     ]
    }
   ],
   "source": [
    "print(todos)"
   ]
  },
  {
   "cell_type": "markdown",
   "metadata": {},
   "source": [
    "Markieren Sie ein Todo-Item \"Python lernen\" als erledigt. Wie sieht jetzt Ihre Liste aus?"
   ]
  },
  {
   "cell_type": "code",
   "execution_count": 130,
   "metadata": {
    "pycharm": {
     "name": "#%%\n"
    }
   },
   "outputs": [
    {
     "name": "stdout",
     "output_type": "stream",
     "text": [
      "Todo List:\n",
      "  Python lernen, priority 1, done\n",
      "  Gemüse einkaufen, priority 2\n",
      "  Hans anrufen, priority 5, done\n",
      "  Schnee schaufeln, priority 5, done\n",
      "  Python lernen, priority 1\n",
      "  Python lernen, priority 6\n",
      "\n"
     ]
    }
   ],
   "source": [
    "todos.mark_done(\"Python lernen\")\n",
    "print(todos)"
   ]
  },
  {
   "cell_type": "markdown",
   "metadata": {},
   "source": [
    "Markieren Sie noch zwei Todo-Items `Python lernen` als erledigt. Wie sieht jetzt Ihre Liste aus?"
   ]
  },
  {
   "cell_type": "code",
   "execution_count": 131,
   "metadata": {
    "pycharm": {
     "name": "#%%\n"
    }
   },
   "outputs": [
    {
     "name": "stdout",
     "output_type": "stream",
     "text": [
      "Todo List:\n",
      "  Python lernen, priority 1, done\n",
      "  Gemüse einkaufen, priority 2\n",
      "  Hans anrufen, priority 5, done\n",
      "  Schnee schaufeln, priority 5, done\n",
      "  Python lernen, priority 1, done\n",
      "  Python lernen, priority 6\n",
      "\n"
     ]
    }
   ],
   "source": [
    "todos.mark_done(\"Python lernen\")\n",
    "print(todos)"
   ]
  },
  {
   "cell_type": "code",
   "execution_count": 132,
   "metadata": {
    "pycharm": {
     "name": "#%%\n"
    }
   },
   "outputs": [
    {
     "name": "stdout",
     "output_type": "stream",
     "text": [
      "Todo List:\n",
      "  Python lernen, priority 1, done\n",
      "  Gemüse einkaufen, priority 2\n",
      "  Hans anrufen, priority 5, done\n",
      "  Schnee schaufeln, priority 5, done\n",
      "  Python lernen, priority 1, done\n",
      "  Python lernen, priority 6, done\n",
      "\n"
     ]
    }
   ],
   "source": [
    "todos.mark_done(\"Python lernen\")\n",
    "print(todos)"
   ]
  },
  {
   "cell_type": "markdown",
   "metadata": {},
   "source": [
    "Entfernen Sie eines der Items `Python lernen`."
   ]
  },
  {
   "cell_type": "code",
   "execution_count": 133,
   "metadata": {
    "pycharm": {
     "name": "#%%\n"
    }
   },
   "outputs": [
    {
     "name": "stdout",
     "output_type": "stream",
     "text": [
      "Todo List:\n",
      "  Gemüse einkaufen, priority 2\n",
      "  Hans anrufen, priority 5, done\n",
      "  Schnee schaufeln, priority 5, done\n",
      "  Python lernen, priority 1, done\n",
      "  Python lernen, priority 6, done\n",
      "\n"
     ]
    }
   ],
   "source": [
    "todos.delete(\"Python lernen\")\n",
    "print(todos)"
   ]
  },
  {
   "cell_type": "markdown",
   "metadata": {},
   "source": [
    "Entfernen Sie dreimal ein Item `Python lernen`. Was erwarten Sie als Ergebnis?"
   ]
  },
  {
   "cell_type": "code",
   "execution_count": 134,
   "metadata": {
    "pycharm": {
     "name": "#%%\n"
    }
   },
   "outputs": [
    {
     "name": "stdout",
     "output_type": "stream",
     "text": [
      "Todo List:\n",
      "  Gemüse einkaufen, priority 2\n",
      "  Hans anrufen, priority 5, done\n",
      "  Schnee schaufeln, priority 5, done\n",
      "  Python lernen, priority 6, done\n",
      "\n"
     ]
    }
   ],
   "source": [
    "todos.delete(\"Python lernen\")\n",
    "print(todos)"
   ]
  },
  {
   "cell_type": "code",
   "execution_count": 135,
   "metadata": {
    "pycharm": {
     "name": "#%%\n"
    }
   },
   "outputs": [
    {
     "name": "stdout",
     "output_type": "stream",
     "text": [
      "Todo List:\n",
      "  Gemüse einkaufen, priority 2\n",
      "  Hans anrufen, priority 5, done\n",
      "  Schnee schaufeln, priority 5, done\n",
      "\n"
     ]
    }
   ],
   "source": [
    "todos.delete(\"Python lernen\")\n",
    "print(todos)"
   ]
  },
  {
   "cell_type": "code",
   "execution_count": 136,
   "metadata": {
    "pycharm": {
     "name": "#%%\n"
    }
   },
   "outputs": [
    {
     "name": "stdout",
     "output_type": "stream",
     "text": [
      "Todo List:\n",
      "  Gemüse einkaufen, priority 2\n",
      "  Hans anrufen, priority 5, done\n",
      "  Schnee schaufeln, priority 5, done\n",
      "\n"
     ]
    }
   ],
   "source": [
    "todos.delete(\"Python lernen\")\n",
    "print(todos)"
   ]
  },
  {
   "cell_type": "code",
   "execution_count": 137,
   "metadata": {
    "pycharm": {
     "name": "#%%\n"
    }
   },
   "outputs": [
    {
     "name": "stdout",
     "output_type": "stream",
     "text": [
      "Todo List:\n",
      "  Gemüse einkaufen, priority 2\n",
      "\n"
     ]
    }
   ],
   "source": [
    "todos.delete_all_completed()\n",
    "print(todos)"
   ]
  },
  {
   "cell_type": "markdown",
   "metadata": {},
   "source": [
    "Testen Sie Ihre Implementierung von `todos.delete_all_completed()` mit der folgenden Liste:"
   ]
  },
  {
   "cell_type": "code",
   "execution_count": 141,
   "metadata": {
    "pycharm": {
     "name": "#%%\n"
    }
   },
   "outputs": [
    {
     "name": "stdout",
     "output_type": "stream",
     "text": [
      "Todo List:\n",
      "  Item 0, priority 1, done\n",
      "  Item 1, priority 1\n",
      "  Item 2, priority 1, done\n",
      "  Item 3, priority 1\n",
      "  Item 4, priority 1, done\n",
      "  Item 5, priority 1\n",
      "  Item 6, priority 1, done\n",
      "  Item 7, priority 1\n",
      "  Item 8, priority 1, done\n",
      "  Item 9, priority 1\n",
      "\n"
     ]
    }
   ],
   "source": [
    "todo_list_2 = TodoList([{'title': f'Item {n}', 'is_completed': n % 2 == 0}\n",
    "                        for n in range(10)])\n",
    "print(todo_list_2)"
   ]
  },
  {
   "cell_type": "code",
   "execution_count": 143,
   "metadata": {
    "pycharm": {
     "name": "#%%\n"
    }
   },
   "outputs": [
    {
     "name": "stdout",
     "output_type": "stream",
     "text": [
      "Todo List:\n",
      "  Item 1, priority 1\n",
      "  Item 3, priority 1\n",
      "  Item 5, priority 1\n",
      "  Item 7, priority 1\n",
      "  Item 9, priority 1\n",
      "\n"
     ]
    }
   ],
   "source": [
    "todo_list_2.delete_all_completed()\n",
    "print(todo_list_2)"
   ]
  },
  {
   "cell_type": "code",
   "execution_count": null,
   "metadata": {},
   "outputs": [],
   "source": []
  }
 ],
 "metadata": {
  "kernelspec": {
   "display_name": "Python 3",
   "language": "python",
   "name": "python3"
  },
  "language_info": {
   "codemirror_mode": {
    "name": "ipython",
    "version": 3
   },
   "file_extension": ".py",
   "mimetype": "text/x-python",
   "name": "python",
   "nbconvert_exporter": "python",
   "pygments_lexer": "ipython3",
   "version": "3.8.2"
  }
 },
 "nbformat": 4,
 "nbformat_minor": 4
}
