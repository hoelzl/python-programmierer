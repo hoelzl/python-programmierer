{
 "cells": [
  {
   "cell_type": "markdown",
   "id": "b283f669",
   "metadata": {},
   "source": [
    "# Vererbung\n",
    "\n",
    "Im Folgenden soll eine Klassenhierarchie für Mitarbeiter einer Firma erstellt\n",
    "werden:\n",
    "\n",
    "- Mitarbeiter können entweder Arbeiter oder Manager sein\n",
    "- Jeder Mitarbeiter der Firma hat einen Namen, eine Personalnummer und ein\n",
    "  Grundgehalt\n",
    "- Für jeden Arbeiter werden die angefallenen Überstunden und der Stundenlohn\n",
    "  gespeichert.\n",
    "- Das Gehalt eines Arbeiters berechnet sich als das 13/12-fache des\n",
    "  Grundgehalts plus der Bezahlung für die Überstunden\n",
    "- Jeder Manager hat einen individuellen Bonus\n",
    "- Das Gehalt eines Managers berechnet sich als das 13/12-fache des\n",
    "  Grundgehalts plus Bonus\n",
    "\n",
    "Implementieren Sie Python Klassen `Mitarbeiter`, `Arbeiter` und `Manager` mit\n",
    "geeigneten Attributen und einer Methode `gehalt()`, die das Gehalt berechnet.\n"
   ]
  },
  {
   "cell_type": "code",
   "execution_count": null,
   "id": "54b8f823",
   "metadata": {
    "lines_to_next_cell": 1
   },
   "outputs": [],
   "source": [
    "from dataclasses import dataclass"
   ]
  },
  {
   "cell_type": "code",
   "execution_count": null,
   "id": "a24bff88",
   "metadata": {},
   "outputs": [],
   "source": [
    "@dataclass\n",
    "class Mitarbeiter:\n",
    "    name: str\n",
    "    pers_nr: str\n",
    "    grundgehalt: float\n",
    "\n",
    "    def gehalt(self):\n",
    "        return 13 / 12 * self.grundgehalt"
   ]
  },
  {
   "cell_type": "code",
   "execution_count": null,
   "id": "70892c15",
   "metadata": {},
   "outputs": [],
   "source": [
    "@dataclass\n",
    "class Arbeiter(Mitarbeiter):\n",
    "    überstunden: float = 0.0\n",
    "    stundensatz: float = 0.0\n",
    "\n",
    "    def gehalt(self):\n",
    "        return super().gehalt() + self.überstunden * self.stundensatz"
   ]
  },
  {
   "cell_type": "code",
   "execution_count": null,
   "id": "ea1dba42",
   "metadata": {},
   "outputs": [],
   "source": [
    "@dataclass\n",
    "class Manager(Mitarbeiter):\n",
    "    bonus: float\n",
    "\n",
    "    def gehalt(self):\n",
    "        return super().gehalt() + self.bonus"
   ]
  },
  {
   "cell_type": "markdown",
   "id": "04d09b6d",
   "metadata": {},
   "source": [
    "\n",
    "Erzeugen Sie einen Arbeiter mit Namen Hans, Personalnummer 123, einem\n",
    "Grundgehalt von  36000.0 Euro, der 3.5 Überstunden zu je 40.0 Euro gearbeit\n",
    "hat. Drucken Sie das Gehalt aus."
   ]
  },
  {
   "cell_type": "code",
   "execution_count": null,
   "id": "ca1f23b6",
   "metadata": {},
   "outputs": [],
   "source": [
    "a = Arbeiter(\"Hans\", \"123\", 36_000, 3.5, 40.0)\n",
    "print(a.gehalt())\n",
    "a"
   ]
  },
  {
   "cell_type": "markdown",
   "id": "39759e08",
   "metadata": {},
   "source": [
    "\n",
    "Erzeugen Sie einen Manager mit Namen Sepp, Personalnummer 666, der ein\n",
    "Grundgehalt von 60000.0 Euro und einen Bonus von 30000.0 Euro hat. Drucken Sie\n",
    "das Gehalt aus."
   ]
  },
  {
   "cell_type": "code",
   "execution_count": null,
   "id": "df0b0187",
   "metadata": {},
   "outputs": [],
   "source": [
    "m = Manager(\"Sepp\", \"666\", 60_000.0, 30_000.0)\n",
    "print(m.gehalt())\n",
    "m"
   ]
  },
  {
   "cell_type": "markdown",
   "id": "3537de52",
   "metadata": {},
   "source": [
    "\n",
    "# Bank Account\n",
    "\n",
    "Definieren Sie eine Klasse `BankAccount` mit einem Attribut `balance: float`\n",
    "und Methoden `deposit(amount: float)` und `withdraw(amount: float)`.\n",
    "\n",
    "*Hinweis: Für eine realistischere Implementierung sollte `decimal.Decimal`\n",
    "statt `float` verwendet werden.*\n",
    "\n",
    "Die Klasse soll in folgenden Fällen eine Exception vom Typ `ValueError`\n",
    "auslösen:\n",
    "\n",
    "- Wenn ein neuer `BankAccount` mit negativer `balance` angelegt werden soll.\n",
    "- Wenn `deposit` mit einem negativen Wert aufgerufen wird.\n",
    "- Wenn `withdraw` mit einem negativen Wert aufgerufen wird oder durch das\n",
    "  Abheben des Betrags die `balance` des Kontos negativ werden würde."
   ]
  },
  {
   "cell_type": "code",
   "execution_count": null,
   "id": "7955ad3a",
   "metadata": {
    "lines_to_next_cell": 1
   },
   "outputs": [],
   "source": [
    "from dataclasses import dataclass\n",
    "\n",
    "@dataclass\n",
    "class BankAccount:\n",
    "    balance: float\n",
    "\n",
    "    def __post_init__(self):\n",
    "        if self.balance < 0:\n",
    "            raise ValueError(\n",
    "                f\"Cannot create an account with negative balance: {self.balance}.\"\n",
    "            )\n",
    "\n",
    "    def deposit(self, amount: float):\n",
    "        if amount > 0:\n",
    "            self.balance += amount\n",
    "        else:\n",
    "            raise ValueError(f\"Cannot deposit a negative amount: {amount}\")\n",
    "\n",
    "    def withdraw(self, amount: float):\n",
    "        if amount > 0:\n",
    "            if amount <= self.balance:\n",
    "                self.balance -= amount\n",
    "            else:\n",
    "                raise ValueError(\n",
    "                    f\"Cannot withdraw {amount} because it exceeds \"\n",
    "                    f\"the current balance of {self.balance}.\"\n",
    "                )\n",
    "        else:\n",
    "            raise ValueError(f\"Cannot withdraw a negative amount: {amount}\")"
   ]
  },
  {
   "cell_type": "markdown",
   "id": "970a5563",
   "metadata": {},
   "source": [
    "\n",
    "Testen Sie die Funktionalität der Klasse sowohl für erfolgreiche\n",
    "Transaktionen, als auch für Transaktionen, die Exceptions auslösen."
   ]
  },
  {
   "cell_type": "code",
   "execution_count": null,
   "id": "bdae2f27",
   "metadata": {},
   "outputs": [],
   "source": [
    "BankAccount(100.0)"
   ]
  },
  {
   "cell_type": "code",
   "execution_count": null,
   "id": "50b6d994",
   "metadata": {},
   "outputs": [],
   "source": [
    "try:\n",
    "    BankAccount(-100)\n",
    "except ValueError as err:\n",
    "    print(\"ERROR:\", err)"
   ]
  },
  {
   "cell_type": "code",
   "execution_count": null,
   "id": "8c79239a",
   "metadata": {},
   "outputs": [],
   "source": [
    "b = BankAccount(100.0)\n",
    "b"
   ]
  },
  {
   "cell_type": "code",
   "execution_count": null,
   "id": "cfe8fe40",
   "metadata": {},
   "outputs": [],
   "source": [
    "b.deposit(200.0)\n",
    "b"
   ]
  },
  {
   "cell_type": "code",
   "execution_count": null,
   "id": "e884e269",
   "metadata": {},
   "outputs": [],
   "source": [
    "try:\n",
    "    b.deposit(-100.0)\n",
    "except ValueError as err:\n",
    "    print(\"ERROR:\", err)"
   ]
  },
  {
   "cell_type": "code",
   "execution_count": null,
   "id": "9d38d58c",
   "metadata": {},
   "outputs": [],
   "source": [
    "b.withdraw(50.0)\n",
    "b"
   ]
  },
  {
   "cell_type": "code",
   "execution_count": null,
   "id": "b55e5ca5",
   "metadata": {},
   "outputs": [],
   "source": [
    "try:\n",
    "    b.withdraw(-200.0)\n",
    "except ValueError as err:\n",
    "    print(\"ERROR:\", err)"
   ]
  },
  {
   "cell_type": "code",
   "execution_count": null,
   "id": "278ea296",
   "metadata": {},
   "outputs": [],
   "source": [
    "try:\n",
    "    b.withdraw(1000.0)\n",
    "except ValueError as err:\n",
    "    print(\"ERROR:\", err)"
   ]
  },
  {
   "cell_type": "markdown",
   "id": "bba9c713",
   "metadata": {},
   "source": [
    "\n",
    " # Lesen und Schreiben in Dateien\n",
    "\n",
    "Schreiben Sie eine Funktion `write_text_to_file(text: str, file_name: str) ->\n",
    "None`, die den String `text` in die Datei `file_name` schreibt, sofern diese\n",
    "*nicht* existiert und eine Exception vom Typ `FileExistsError` wirft, falls\n",
    "die Datei existiert.\n",
    "\n",
    "*Hinweis:*  Beachten Sie die möglichen Werte für das `mode` Argument von\n",
    "`open()`."
   ]
  },
  {
   "cell_type": "code",
   "execution_count": null,
   "id": "de574aa6",
   "metadata": {},
   "outputs": [],
   "source": [
    "def write_text_to_file(text, file_name):\n",
    "    with open(file_name, 'x') as file:\n",
    "        file.write(text)"
   ]
  },
  {
   "cell_type": "markdown",
   "id": "c7d54414",
   "metadata": {},
   "source": [
    "\n",
    "Testen Sie die Funktion, indem Sie zweimal hintereinander versuchen den Text\n",
    "`Python 3.8` in die Datei `my-private-file.txt` zu schreiben."
   ]
  },
  {
   "cell_type": "code",
   "execution_count": null,
   "id": "68844415",
   "metadata": {},
   "outputs": [],
   "source": [
    "write_text_to_file('Python 3.8', 'my_private_file.txt')"
   ]
  },
  {
   "cell_type": "code",
   "execution_count": null,
   "id": "77b46f88",
   "metadata": {
    "lines_to_next_cell": 2
   },
   "outputs": [],
   "source": [
    "# write_text_to_file('Python 3.8', 'my_private_file.txt')"
   ]
  },
  {
   "cell_type": "markdown",
   "id": "3d109e6a",
   "metadata": {},
   "source": [
    "\n",
    " Schreiben Sie eine Funktion `annotate_file(file_name: str) -> None`, die \n",
    "- den Inhalt der Datei `file_name` gefolgt von dem Text `(annotated version)`\n",
    "  auf dem Bildschirm ausgibt, falls sie existiert\n",
    "- den Text `No file found, we will bill the time we spent searching.` ausgibt\n",
    "  falls sie nicht existiert\n",
    "- in beiden Fällen den Text `Our invoice will be sent by mail.` ausgibt."
   ]
  },
  {
   "cell_type": "code",
   "execution_count": null,
   "id": "cde190df",
   "metadata": {},
   "outputs": [],
   "source": [
    "def annotate_file(file_name):\n",
    "    try:\n",
    "        with open(file_name, 'r') as file:\n",
    "            print(file.read())\n",
    "            print('(annotated version)')\n",
    "    except FileNotFoundError:\n",
    "        print('No file found, we will bill the time we spent searching.')\n",
    "    finally:\n",
    "        print('Our invoice will be sent by mail.')"
   ]
  },
  {
   "cell_type": "code",
   "execution_count": null,
   "id": "6c2cecd3",
   "metadata": {},
   "outputs": [],
   "source": [
    "annotate_file('my_private_file.txt')"
   ]
  },
  {
   "cell_type": "code",
   "execution_count": null,
   "id": "6005604c",
   "metadata": {
    "lines_to_next_cell": 2
   },
   "outputs": [],
   "source": [
    "annotate_file('does-not-exist.txt')"
   ]
  },
  {
   "cell_type": "code",
   "execution_count": null,
   "id": "f6e299e5",
   "metadata": {},
   "outputs": [],
   "source": []
  }
 ],
 "metadata": {
  "jupytext": {
   "cell_metadata_filter": "-all",
   "formats": "auto:percent,ipynb",
   "notebook_metadata_filter": "-all",
   "text_representation": {
    "extension": ".py",
    "format_name": "percent"
   }
  },
  "kernelspec": {
   "display_name": "Python 3 (ipykernel)",
   "language": "python",
   "name": "python3"
  },
  "language_info": {
   "codemirror_mode": {
    "name": "ipython",
    "version": 3
   },
   "file_extension": ".py",
   "mimetype": "text/x-python",
   "name": "python",
   "nbconvert_exporter": "python",
   "pygments_lexer": "ipython3",
   "version": "3.9.7"
  }
 },
 "nbformat": 4,
 "nbformat_minor": 5
}
