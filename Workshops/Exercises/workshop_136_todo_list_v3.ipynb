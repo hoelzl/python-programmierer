{
 "cells": [
  {
   "cell_type": "code",
   "execution_count": null,
   "id": "d48a9072",
   "metadata": {
    "lines_to_next_cell": 0
   },
   "outputs": [],
   "source": []
  },
  {
   "cell_type": "markdown",
   "id": "30d0c993",
   "metadata": {},
   "source": [
    "# Todo-Liste Version 3\n",
    "\n",
    "In diesem Workshop wollen wir eine Todo-Liste implementieren, und dabei sowohl die\n",
    "Liste als auch die Einträge durch Instanzen von Klassen darstellen und die\n",
    "Implementierung in den Klassen kapseln.\n",
    "\n",
    "Es empfiehlt sich, diesen Workshop in einer IDE zu bearbeiten, da die\n",
    "letzten Teilaufgaben in Notebooks nicht sinnvoll implementiert werden\n",
    "können. **Schreiben Sie Tests zu jeder implementierten Methode,** entweder\n",
    "indem Sie im TDD-Stil Test-First arbeiten oder indem Sie unmittlebar nach\n",
    "der Implementierung einer Methode Unit-Tests dafür schreiben.\n",
    "\n",
    "Jeder Eintrag in der Todo-Liste soll folgende Information enthalten:\n",
    "\n",
    "- Titel\n",
    "- Priorität\n",
    "- Wurde das Item schon erledigt oder nicht?\n",
    "\n",
    "Definieren Sie eine Klasse `TodoItem`, die diese Daten kapselt.\n",
    "\n",
    "Implementieren Sie eine `__init__()`-Methode, die Titel als obligatorisches\n",
    "Argument bekommt. Priorität und \"wurde erledigt\" sollen optionale Parameter\n",
    "mit Weren 1 bzw. `False` sein.\n",
    "\n",
    "Implementieren Sie Methoden `__str__(self)` und `__repr__(self)`,\n",
    "die Instanzen der Klasse in Strings umwandeln.\n",
    "\n",
    "Sie können auch den `@dataclass` Decorator verwenden um sich die Arbeit zu erleichtern."
   ]
  },
  {
   "cell_type": "code",
   "execution_count": null,
   "id": "29f673f4",
   "metadata": {
    "lines_to_next_cell": 2,
    "tags": [
     "solution"
    ]
   },
   "outputs": [],
   "source": []
  },
  {
   "cell_type": "markdown",
   "id": "a71823b3",
   "metadata": {
    "lines_to_next_cell": 2
   },
   "source": [
    "Legen Sie eine Liste mit Todo-Items an, die folgende Einträge\n",
    " enthält:\n",
    "\n",
    "- Titel: Python lernen, Priorität 3, nicht erledigt\n",
    "- Titel: Gemüse einkaufen, Priorität 2, nicht erledigt\n",
    "- Titel: Hans anrufen, Priorität 5, erledigt"
   ]
  },
  {
   "cell_type": "code",
   "execution_count": null,
   "id": "bfb76ba8",
   "metadata": {
    "tags": [
     "solution"
    ]
   },
   "outputs": [],
   "source": []
  },
  {
   "cell_type": "markdown",
   "id": "038af93b",
   "metadata": {},
   "source": [
    "Definieren Sie eine Klasse `TodoList`, die eine Todo-Liste repräsentiert.\n",
    "\n",
    "Implementieren Sie eine `__init__()` Methode, die eine Liste von\n",
    "TodoItems beschreiben, als Argument bekommt.\n",
    "\n",
    "Fügen Sie folgende Methoden hinzu:\n",
    "\n",
    "- `add(self, title: str, priority: int, is_completed: bool)`, die ein neues\n",
    "  Todo-Item an die Todo-Liste anhängt und geeignete Default-Werte für\n",
    "  `priority` und `is_completed` übergibt.\n",
    "\n",
    "- `mark_done(self, title)`, die das erste in der Liste vorkommende\n",
    "  Todo-Item mit Titel `title`, das noch nicht bearbeitet ist, als bearbeitet\n",
    "  markiert.\n",
    "\n",
    "- `delete(self, title)`, die das erste in der Liste vorkommende Todo-Item\n",
    "  mit Titel `title` aus der Liste entfernt.\n",
    "\n",
    "- `delete_all_completed(self)`, die alle beendetend Items aus der Liste\n",
    "  entfernt.\n",
    "\n",
    "- `__str__(self)` und `__repr__(self)`\n",
    "\n",
    "- `__iter__(self)`, so dass in einer `for`-Schleife über alle in der\n",
    "  Todo-Liste enthaltenen TodoItems iteriert werden kann.\n",
    "\n",
    "<!-- *Hinweis*: Kopieren Sie die Implementierung der Methoden aus\n",
    "`062z-Lösung Todo-Liste V1` oder ihrer vorherigen Implementierung und\n",
    " passen Sie den Code an. -->"
   ]
  },
  {
   "cell_type": "code",
   "execution_count": null,
   "id": "b3fa0335",
   "metadata": {
    "tags": [
     "solution"
    ]
   },
   "outputs": [],
   "source": []
  },
  {
   "cell_type": "markdown",
   "id": "45feeb01",
   "metadata": {},
   "source": [
    "Legen Sie eine Todo-Liste `todos` mit Todo-Items an, die folgende Einträge\n",
    " enthält:\n",
    "\n",
    "- Titel: Python lernen, Priorität 3, nicht erledigt\n",
    "- Titel: Gemüse einkaufen, Priorität 2, nicht erledigt\n",
    "- Titel: Hans anrufen, Priorität 5, erledigt"
   ]
  },
  {
   "cell_type": "code",
   "execution_count": null,
   "id": "2633a723",
   "metadata": {
    "lines_to_next_cell": 2,
    "tags": [
     "solution"
    ]
   },
   "outputs": [],
   "source": []
  },
  {
   "cell_type": "markdown",
   "id": "fbe21052",
   "metadata": {},
   "source": [
    "Fügen Sie ein neues Todo-Item mit Titel \"Schnee schaufeln\" und Priorität 5\n",
    "in die Liste `todos` ein."
   ]
  },
  {
   "cell_type": "code",
   "execution_count": null,
   "id": "99b4853f",
   "metadata": {
    "tags": [
     "solution"
    ]
   },
   "outputs": [],
   "source": []
  },
  {
   "cell_type": "markdown",
   "id": "c6722a4d",
   "metadata": {},
   "source": [
    "Fügen Sie zwei Todo-Items mit Text \"Python lernen\" und Priorität 1 und 6\n",
    "zur Todo-Liste hinzu."
   ]
  },
  {
   "cell_type": "code",
   "execution_count": null,
   "id": "dfb3aab2",
   "metadata": {
    "tags": [
     "solution"
    ]
   },
   "outputs": [],
   "source": []
  },
  {
   "cell_type": "markdown",
   "id": "d5933388",
   "metadata": {},
   "source": [
    "Markieren Sie ein Todo-Item \"Python lernen\" als erledigt.\n",
    "Wie sieht jetzt Ihre Liste aus?"
   ]
  },
  {
   "cell_type": "code",
   "execution_count": null,
   "id": "d2540995",
   "metadata": {
    "tags": [
     "solution"
    ]
   },
   "outputs": [],
   "source": []
  },
  {
   "cell_type": "markdown",
   "id": "40a0e6bc",
   "metadata": {},
   "source": [
    "Markieren Sie noch zwei Todo-Items `Python lernen` als erledigt.\n",
    "Wie sieht jetzt Ihre Liste aus?"
   ]
  },
  {
   "cell_type": "code",
   "execution_count": null,
   "id": "53a5d919",
   "metadata": {
    "tags": [
     "solution"
    ]
   },
   "outputs": [],
   "source": []
  },
  {
   "cell_type": "markdown",
   "id": "937f9968",
   "metadata": {},
   "source": [
    "Fügen Sie zu Ihrer `TodoList` Klasse eine Methode `delete_todo_item(todo_list, title)`\n",
    "hinzu, die das erste in der liste `todo_list` vorkommende Todo-Item mit Titel `title`\n",
    "aus der Liste entfernt.\n",
    "\n",
    "*Vorsicht: Sie sollten während Sie über eine Liste iterieren keine Einträge\n",
    "entfernen oder einfügen!*"
   ]
  },
  {
   "cell_type": "code",
   "execution_count": null,
   "id": "f4857a47",
   "metadata": {
    "lines_to_next_cell": 2,
    "tags": [
     "solution"
    ]
   },
   "outputs": [],
   "source": []
  },
  {
   "cell_type": "markdown",
   "id": "6d4e9010",
   "metadata": {},
   "source": [
    "## Laden und Speichern\n",
    "\n",
    "Erweitern Sie die Klasse `TodoList` um eine Methode\n",
    "\n",
    "```save_to_file(self, file)```\n",
    "\n",
    "und eine statische Methode\n",
    "\n",
    "```load_from_file(file)```\n",
    "\n",
    "mit der Todo-Listen gespeichert und geladen werden können.\n",
    "\n",
    "*Hinweis:* Am Einfachsten ist das mit der `pickle` Bibliothek."
   ]
  },
  {
   "cell_type": "markdown",
   "id": "61cd88a5",
   "metadata": {},
   "source": [
    "## Kommandozeilenargumente\n",
    "\n",
    "Fügen Sie eine Datei `__main__.py` zu Ihrer Implementierung hinzu, und bearbeiten Sie\n",
    "mit der Typer die folgenden Kommandozeilen-Argumente:\n",
    "\n",
    "- `create file`: erstellt `file` als leere Datei\n",
    "\n",
    "- `add file title --priority priority` fügt ein neues Todo-Item zu `file`\n",
    "  hinzu. `title` ist ein verpflichtendes Argument für den Titel, `prioprity` ist\n",
    "  optional\n",
    "\n",
    "- `delete file title` löscht das erste Todo-Item mit Titel `title` aus der\n",
    "  Todo-Liste\n",
    "\n",
    "- `mark-completed file title` markiert das erste Todo-Item mit Titel `title`\n",
    "  als erledigt\n",
    "\n",
    "- `delete-all-completed file` entfernt alle erledigten Items aus `file`\n",
    "\n",
    "- `list file` gibt die TODO-Liste aus\n",
    "\n",
    "- Das positionales Argument `file`, das in allen Subkommandos vorkommt,\n",
    "  bennennt eine Datei, in der eine TODO-Liste gespeichert ist bzw.\n",
    "  gespeichert werden kann. Dieses Argument muss angegeben werden. Der Inhalt\n",
    "  von `file` ist eine   Todo-Liste im `pickle` Format.\n",
    "\n",
    "Beispielaufrufe:\n",
    "\n",
    "```shell\n",
    "$ python -m todos add .\\my-todos.json 'Kaufe Äpfel' 1\n",
    "$ python -m todos add .\\my-todos.json list\n",
    "```\n",
    "\n",
    "Die vorgenommenen Änderungen sollen von jedem Kommando in `file` gespeichert werden."
   ]
  },
  {
   "cell_type": "code",
   "execution_count": null,
   "id": "1f25d405",
   "metadata": {},
   "outputs": [],
   "source": []
  },
  {
   "cell_type": "markdown",
   "id": "f066ce75",
   "metadata": {},
   "source": [
    "## Packaging\n",
    "\n",
    "Fügen Sie eine `setup.cfg` Datei, sowie alle weiteren benötigten Dateien zu\n",
    "Ihrem Projekt hinzu, um daraus eine Wheel-Datei zu generieren.\n",
    "\n",
    "Erzeugen Sie in der `setup.cfg`-Datei ein Skript, das Ihre Anwendung startet."
   ]
  },
  {
   "cell_type": "code",
   "execution_count": null,
   "id": "20d514cc",
   "metadata": {},
   "outputs": [],
   "source": []
  }
 ],
 "metadata": {
  "jupytext": {
   "encoding": "# -*- coding: utf-8 -*-",
   "formats": "ipynb"
  },
  "kernelspec": {
   "display_name": "Python 3 (ipykernel)",
   "language": "python",
   "name": "python3"
  }
 },
 "nbformat": 4,
 "nbformat_minor": 5
}
