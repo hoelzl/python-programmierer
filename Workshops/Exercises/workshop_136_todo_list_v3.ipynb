{
 "cells": [
  {
   "cell_type": "markdown",
   "id": "d922d09e",
   "metadata": {},
   "source": [
    "# Todo-Liste\n",
    "\n",
    "In diesem Workshop wollen wir zum dritten Mal eine Todo-Liste \n",
    " implementieren, aber dabei sowohl die Liste als auch die Einträge durch \n",
    " Instanzen von Klassen darstellen und die Implementierung in den Klassen \n",
    " kapseln. \n",
    "\n",
    "Es empfiehlt sich, diesen Workshop in einer IDE zu bearbeiten, da die \n",
    "letzten Teilaufgaben in Notebooks nicht sinnvoll implementiert werden \n",
    "können. Schreiben Sie Tests zu jeder implementierten Methode, entweder \n",
    "indem Sie im TDD-Stil Test-First arbeiten oder indem Sie unmittlebar nach \n",
    "der Implementierung einer Methode Unit-Tests dafür schreiben. \n",
    "\n",
    "Jeder Eintrag in der Todo-Liste soll wieder folgende Information enthalten:\n",
    "\n",
    "- Titel\n",
    "- Priorität\n",
    "- Wurde das Item schon erledigt oder nicht?\n",
    "\n",
    "Definieren Sie eine Klasse `TodoItem`, die diese Daten kapselt. \n",
    "\n",
    "Implementieren Sie eine `__init__()`-Methode, die Titel als obligatorisches\n",
    "Argument bekommt. Priorität und \"wurde erledigt\" sollen optionale Parameter\n",
    "mit Weren 1 bzw. `False` sein. \n",
    "\n",
    "Implementieren Sie Methoden `__str__(self)` und `__repr__(self)`, \n",
    "die Instanzen der Klasse in Strings umwandeln. "
   ]
  },
  {
   "cell_type": "code",
   "execution_count": null,
   "id": "8b0c9a7b",
   "metadata": {
    "tags": [
     "solution"
    ]
   },
   "outputs": [],
   "source": []
  },
  {
   "cell_type": "code",
   "execution_count": null,
   "id": "a61a1768",
   "metadata": {
    "tags": [
     "solution"
    ]
   },
   "outputs": [],
   "source": []
  },
  {
   "cell_type": "markdown",
   "id": "8a600579",
   "metadata": {},
   "source": [
    "Definieren Sie eine Klasse `TodoList`, die eine Todo-Liste repräsentiert.\n",
    "\n",
    "Implementieren Sie eine `__init__()` Methode, die eine Liste von\n",
    "Dictionaries, die TodoItems beschreiben, als Argument bekommt und daraus\n",
    "eine Liste von `TodoItem`-Instanzen erzeugt und speichert.\n",
    "\n",
    "Fügen Sie folgende Methoden hinzu:\n",
    "\n",
    "- `add(self, title: str, priority: int, is_completed: bool)`, die ein neues\n",
    "  Todo-Item an die Todo-Liste anhängt und geeignete Default-Werte für\n",
    "  `priority` und `is_completed` übergibt.\n",
    "\n",
    "- `mark_done(self, title)`, die das erste in der Liste vorkommende\n",
    "  Todo-Item mit Titel `title`, das noch nicht bearbeitet ist, als bearbeitet\n",
    "  markiert.\n",
    "\n",
    "- `delete(self, title)`, die das erste in der Liste vorkommende Todo-Item\n",
    "  mit Titel `title` aus der Liste entfernt.\n",
    "\n",
    "- `delete_all_completed(self)`, die alle beendetend Items aus der Liste\n",
    "  entfernt.\n",
    "\n",
    "- `__str__(self)` und `__repr__(self)`\n",
    "\n",
    "- `__iter__(self)`, so dass in einer `for`-Schleife über alle in der\n",
    "  Todo-Liste enthaltenen TodoItems iteriert werden kann.\n",
    "\n",
    "<!-- *Hinweis*: Kopieren Sie die Implementierung der Methoden aus\n",
    "`062z-Lösung Todo-Liste V1` oder ihrer vorherigen Implementierung und\n",
    " passen Sie den Code an. -->"
   ]
  },
  {
   "cell_type": "code",
   "execution_count": null,
   "id": "e8a79838",
   "metadata": {
    "tags": [
     "solution"
    ]
   },
   "outputs": [],
   "source": []
  },
  {
   "cell_type": "code",
   "execution_count": null,
   "id": "06a6ebbb",
   "metadata": {
    "tags": [
     "solution"
    ]
   },
   "outputs": [],
   "source": []
  },
  {
   "cell_type": "code",
   "execution_count": null,
   "id": "d1d80746",
   "metadata": {
    "tags": [
     "solution"
    ]
   },
   "outputs": [],
   "source": []
  },
  {
   "cell_type": "code",
   "execution_count": null,
   "id": "b8102d33",
   "metadata": {
    "tags": [
     "solution"
    ]
   },
   "outputs": [],
   "source": []
  },
  {
   "cell_type": "code",
   "execution_count": null,
   "id": "371ea66d",
   "metadata": {
    "tags": [
     "solution"
    ]
   },
   "outputs": [],
   "source": []
  },
  {
   "cell_type": "code",
   "execution_count": null,
   "id": "135a47f3",
   "metadata": {
    "tags": [
     "solution"
    ]
   },
   "outputs": [],
   "source": []
  },
  {
   "cell_type": "code",
   "execution_count": null,
   "id": "69ceb2b8",
   "metadata": {
    "tags": [
     "solution"
    ]
   },
   "outputs": [],
   "source": []
  },
  {
   "cell_type": "code",
   "execution_count": null,
   "id": "b66699f5",
   "metadata": {
    "tags": [
     "solution"
    ]
   },
   "outputs": [],
   "source": []
  },
  {
   "cell_type": "code",
   "execution_count": null,
   "id": "34f16d3a",
   "metadata": {
    "tags": [
     "solution"
    ]
   },
   "outputs": [],
   "source": []
  },
  {
   "cell_type": "code",
   "execution_count": null,
   "id": "3aaef36f",
   "metadata": {
    "tags": [
     "solution"
    ]
   },
   "outputs": [],
   "source": []
  },
  {
   "cell_type": "code",
   "execution_count": null,
   "id": "2cdc9cb3",
   "metadata": {
    "tags": [
     "solution"
    ]
   },
   "outputs": [],
   "source": []
  },
  {
   "cell_type": "markdown",
   "id": "d3e5ecea",
   "metadata": {},
   "source": [
    "## Laden und Speichern\n",
    "\n",
    "Erweitern Sie die Klasse `TodoList` um eine Methode\n",
    "\n",
    "```save_to_file(self, file)```\n",
    "\n",
    "und eine statische Methode\n",
    "\n",
    "```load_from_file(file)```\n",
    "\n",
    "mit der Todo-Listen gespeichert und geladen werden können.\n",
    "\n",
    "*Hinweis:* Am Einfachsten ist das mit der `pickle` Bibliothek."
   ]
  },
  {
   "cell_type": "code",
   "execution_count": null,
   "id": "08edcd89",
   "metadata": {},
   "outputs": [],
   "source": []
  },
  {
   "cell_type": "markdown",
   "id": "db00ff8d",
   "metadata": {},
   "source": [
    "## Kommandozeilenargumente\n",
    "\n",
    "Fügen Sie eine Datei `main.py` zu Ihrer Implementierung hinzu, die einen\n",
    "`ArgumentParser` instanziieren, der folgende Subkommandos verarbeiten kann:\n",
    "\n",
    "- `create file`: erstellt `file` neu mit Größe 0\n",
    "\n",
    "- `add file title --priority priority` fügt ein neues Todo-Item zu `file`\n",
    "  hinzu\n",
    "\n",
    "- `delete file title` löscht das erste Todo-Item mit Titel `title` aus der\n",
    "  Todo-Liste\n",
    "\n",
    "- `mark-completed file title` markiert das erste Todo-Item mit Titel `title`\n",
    "  als erledigt\n",
    "\n",
    "- `delete-all-completed file` entfernt alle erledigten Items aus `file`\n",
    "\n",
    "- `list file` gibt die TODO-Liste aus\n",
    "\n",
    "- Das positionales Argument `file`, das in allen Subkommandos vorkommt,\n",
    "  bennennt eine Datei, in der eine TODO-Liste gespeichert ist bzw.\n",
    "  gespeichert werden kann. Dieses Argument muss angegeben werden. Der Inhalt\n",
    "  von `file` ist eine   Todo-Liste im `pickle` Format.\n",
    "\n",
    "Beispielaufrufe:\n",
    "\n",
    "```shell\n",
    "$ python -m todos.main add .\\my-todos.json 'Kaufe Äpfel' 1\n",
    "$ python -m todos.main add .\\my-todos.json list\n",
    "```\n",
    "\n",
    "Die vorgenommenen Änderungen sollen in `file` gespeichert werden."
   ]
  },
  {
   "cell_type": "code",
   "execution_count": null,
   "id": "82261909",
   "metadata": {},
   "outputs": [],
   "source": []
  },
  {
   "cell_type": "markdown",
   "id": "a0184c69",
   "metadata": {},
   "source": [
    "## Packaging\n",
    "\n",
    "Fügen Sie eine `setup.py` Datei, sowie alle weiteren benötigten Dateien zu\n",
    "Ihrem Projekt hinzu, um daraus eine Wheel-Datei zu generieren.\n",
    "\n",
    "Erzeugen Sie in der `setup.py`-Datei ein Skript, das Ihre Anwendung startet."
   ]
  },
  {
   "cell_type": "code",
   "execution_count": null,
   "id": "b32237e1",
   "metadata": {},
   "outputs": [],
   "source": []
  }
 ],
 "metadata": {
  "jupytext": {
   "encoding": "# -*- coding: utf-8 -*-",
   "formats": "ipynb"
  },
  "kernelspec": {
   "display_name": "Python 3 (ipykernel)",
   "language": "python",
   "name": "python3"
  }
 },
 "nbformat": 4,
 "nbformat_minor": 5
}
