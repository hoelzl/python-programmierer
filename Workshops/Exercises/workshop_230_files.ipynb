{
 "cells": [
  {
   "cell_type": "markdown",
   "id": "0d0d3dcb",
   "metadata": {},
   "source": [
    "# Lesen und Schreiben in Dateien\n",
    "\n",
    "Schreiben Sie eine Funktion `write_text_to_file(text: str, file_name: str)\n",
    "-> None`, die den String `text` in die Datei `file_name` schreibt, sofern\n",
    "diese *nicht* existiert und eine Exception vom Typ `FileExistsError` wirft,\n",
    "falls die Datei existiert.\n",
    "\n",
    "*Hinweis:*  Beachten Sie die möglichen Werte für das `mode` Argument von\n",
    "`open()`."
   ]
  },
  {
   "cell_type": "code",
   "execution_count": null,
   "id": "3e5af2e8",
   "metadata": {
    "tags": [
     "solution"
    ]
   },
   "outputs": [],
   "source": []
  },
  {
   "cell_type": "markdown",
   "id": "a788f00b",
   "metadata": {},
   "source": [
    "\n",
    "Testen Sie die Funktion, indem Sie zweimal hintereinander versuchen den\n",
    "Text `Python 3.8` in die Datei `my-private-file.txt` zu schreiben."
   ]
  },
  {
   "cell_type": "code",
   "execution_count": null,
   "id": "20833a44",
   "metadata": {
    "tags": [
     "solution"
    ]
   },
   "outputs": [],
   "source": []
  },
  {
   "cell_type": "code",
   "execution_count": null,
   "id": "931e9c2a",
   "metadata": {
    "tags": [
     "solution"
    ]
   },
   "outputs": [],
   "source": []
  },
  {
   "cell_type": "markdown",
   "id": "7dc23ea3",
   "metadata": {},
   "source": [
    "Schreiben Sie eine Funktion `annotate_file(file_name: str) -> None`, die\n",
    "- den Inhalt der Datei `file_name` gefolgt von dem Text `(annotated version)`\n",
    "  auf dem Bildschirm ausgibt, falls sie existiert\n",
    "- den Text `No file found, we will bill the time we spent searching.` ausgibt\n",
    "  falls sie nicht existiert\n",
    "- in beiden Fällen den Text `Our invoice will be sent by mail.` ausgibt."
   ]
  },
  {
   "cell_type": "code",
   "execution_count": null,
   "id": "7cf60176",
   "metadata": {
    "tags": [
     "solution"
    ]
   },
   "outputs": [],
   "source": []
  },
  {
   "cell_type": "code",
   "execution_count": null,
   "id": "183c55f2",
   "metadata": {
    "tags": [
     "solution"
    ]
   },
   "outputs": [],
   "source": []
  },
  {
   "cell_type": "code",
   "execution_count": null,
   "id": "a6bd7b9b",
   "metadata": {
    "tags": [
     "solution"
    ]
   },
   "outputs": [],
   "source": []
  }
 ],
 "metadata": {
  "jupytext": {
   "encoding": "# -*- coding: utf-8 -*-",
   "formats": "ipynb"
  },
  "kernelspec": {
   "display_name": "Python 3 (ipykernel)",
   "language": "python",
   "name": "python3"
  }
 },
 "nbformat": 4,
 "nbformat_minor": 5
}
