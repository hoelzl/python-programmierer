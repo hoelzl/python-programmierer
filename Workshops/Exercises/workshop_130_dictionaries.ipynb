{
 "cells": [
  {
   "cell_type": "code",
   "execution_count": null,
   "id": "0fa9fff6",
   "metadata": {
    "lines_to_next_cell": 0
   },
   "outputs": [],
   "source": []
  },
  {
   "cell_type": "markdown",
   "id": "d189b48b",
   "metadata": {},
   "source": [
    "## Worthäufigkeiten\n",
    "\n",
    "Schreiben Sie eine Funktion `zähle_worte(text: str) -> dict`, die ein\n",
    "Dictionary zurückgibt, das die Anzahl der Vorkommen aller Worte in `text`\n",
    "enthält. Zum Beispiel soll\n",
    "\n",
    "```\n",
    "zähle_worte(\"It was the best of times it was the worst of times\")\n",
    "```\n",
    "\n",
    "folgendes Dictionary zurückgeben:\n",
    "\n",
    "```\n",
    "{ 'it': 2,\n",
    "  'was': 2,\n",
    "  'the': 2,\n",
    "  'best': 1,\n",
    "  'of': 2,\n",
    "  'times': 2,\n",
    "  'worst': 1\n",
    "}\n",
    "```\n",
    "Beachten Sie, dass alle Wörter in Kleinbuchstaben umgewandelt wurden.\n",
    "\n",
    "###  Hinweise\n",
    "- Sie können einen String mit der Methode `string.split()` in eine\n",
    "  Liste von Wörtern umwandeln\n",
    "- Sie können einen String mit der Methode `string.lower()` in einen String\n",
    "  umwandeln, der nur aus Kleinbuchstaben besteht."
   ]
  },
  {
   "cell_type": "code",
   "execution_count": null,
   "id": "f45722d2",
   "metadata": {
    "tags": [
     "solution"
    ]
   },
   "outputs": [],
   "source": []
  },
  {
   "cell_type": "markdown",
   "id": "0c54fac8",
   "metadata": {},
   "source": [
    "Testen Sie Ihre Implementierung mit dem folgenden String:"
   ]
  },
  {
   "cell_type": "code",
   "execution_count": null,
   "id": "929ffb79",
   "metadata": {
    "tags": [
     "solution"
    ]
   },
   "outputs": [],
   "source": []
  },
  {
   "cell_type": "code",
   "execution_count": null,
   "id": "d2cf21ac",
   "metadata": {
    "tags": [
     "solution"
    ]
   },
   "outputs": [],
   "source": []
  },
  {
   "cell_type": "code",
   "execution_count": null,
   "id": "74754765",
   "metadata": {
    "tags": [
     "solution"
    ]
   },
   "outputs": [],
   "source": []
  },
  {
   "cell_type": "code",
   "execution_count": null,
   "id": "3c8effcb",
   "metadata": {
    "tags": [
     "solution"
    ]
   },
   "outputs": [],
   "source": []
  },
  {
   "cell_type": "code",
   "execution_count": null,
   "id": "e6f3eff2",
   "metadata": {},
   "outputs": [],
   "source": []
  }
 ],
 "metadata": {
  "jupytext": {
   "encoding": "# -*- coding: utf-8 -*-",
   "formats": "ipynb"
  },
  "kernelspec": {
   "display_name": "Python 3 (ipykernel)",
   "language": "python",
   "name": "python3"
  }
 },
 "nbformat": 4,
 "nbformat_minor": 5
}
