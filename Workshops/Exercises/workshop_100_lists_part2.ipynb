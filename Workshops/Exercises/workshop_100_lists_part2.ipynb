{
 "cells": [
  {
   "cell_type": "markdown",
   "id": "223cb4e2",
   "metadata": {},
   "source": [
    "# Farben\n",
    "\n",
    "Definieren Sie eine Variable `farben`, die eine Liste mit den Strings\n",
    "`Rot`, `Grün` und `Blau` enthält."
   ]
  },
  {
   "cell_type": "code",
   "execution_count": null,
   "id": "41b95ca6",
   "metadata": {
    "tags": [
     "solution"
    ]
   },
   "outputs": [],
   "source": []
  },
  {
   "cell_type": "markdown",
   "id": "c4899497",
   "metadata": {},
   "source": [
    "Überprüfen Sie, ob der String `Gelb` in `farben` enthalten ist"
   ]
  },
  {
   "cell_type": "code",
   "execution_count": null,
   "id": "10649291",
   "metadata": {
    "tags": [
     "solution"
    ]
   },
   "outputs": [],
   "source": []
  },
  {
   "cell_type": "markdown",
   "id": "ef5746c8",
   "metadata": {},
   "source": [
    "Fügen Sie `Gelb` zu den Farben hinzu."
   ]
  },
  {
   "cell_type": "code",
   "execution_count": null,
   "id": "1799e9f8",
   "metadata": {
    "tags": [
     "solution"
    ]
   },
   "outputs": [],
   "source": []
  },
  {
   "cell_type": "markdown",
   "id": "d9e0be36",
   "metadata": {},
   "source": [
    "Überprüfen Sie nochmals, ob `Gelb` in den Farben enthalten ist."
   ]
  },
  {
   "cell_type": "code",
   "execution_count": null,
   "id": "fa9ac96a",
   "metadata": {
    "tags": [
     "solution"
    ]
   },
   "outputs": [],
   "source": []
  },
  {
   "cell_type": "markdown",
   "id": "b31fe42d",
   "metadata": {},
   "source": [
    "Wie viele Farben enthält die in `farben` gespeicherte Liste jetzt?"
   ]
  },
  {
   "cell_type": "code",
   "execution_count": null,
   "id": "6bade699",
   "metadata": {
    "tags": [
     "solution"
    ]
   },
   "outputs": [],
   "source": []
  },
  {
   "cell_type": "markdown",
   "id": "22320168",
   "metadata": {},
   "source": [
    "Ändern Sie das erste Element von `farben` in `Dunkelrot`"
   ]
  },
  {
   "cell_type": "code",
   "execution_count": null,
   "id": "644d2a69",
   "metadata": {
    "tags": [
     "solution"
    ]
   },
   "outputs": [],
   "source": []
  },
  {
   "cell_type": "markdown",
   "id": "7c9559f2",
   "metadata": {},
   "source": [
    "Fügen Sie `Lila` als zweites Element in die Liste ein."
   ]
  },
  {
   "cell_type": "code",
   "execution_count": null,
   "id": "87f4fc33",
   "metadata": {
    "tags": [
     "solution"
    ]
   },
   "outputs": [],
   "source": []
  },
  {
   "cell_type": "markdown",
   "id": "4a16ccad",
   "metadata": {},
   "source": [
    "Was ist das dritte Element der Liste `farben`?"
   ]
  },
  {
   "cell_type": "code",
   "execution_count": null,
   "id": "29a8c244",
   "metadata": {
    "tags": [
     "solution"
    ]
   },
   "outputs": [],
   "source": []
  },
  {
   "cell_type": "markdown",
   "id": "53d50e61",
   "metadata": {},
   "source": [
    "Löschen Sie das zweite Element der Liste `farben`"
   ]
  },
  {
   "cell_type": "code",
   "execution_count": null,
   "id": "625d2796",
   "metadata": {
    "tags": [
     "solution"
    ]
   },
   "outputs": [],
   "source": []
  },
  {
   "cell_type": "markdown",
   "id": "dd997b39",
   "metadata": {},
   "source": [
    "Was ist das dritte Element der Liste `farben` jetzt?"
   ]
  },
  {
   "cell_type": "code",
   "execution_count": null,
   "id": "5bdd9009",
   "metadata": {
    "tags": [
     "solution"
    ]
   },
   "outputs": [],
   "source": []
  },
  {
   "cell_type": "markdown",
   "id": "f6d0bac2",
   "metadata": {},
   "source": [
    "# Slicing"
   ]
  },
  {
   "cell_type": "code",
   "execution_count": null,
   "id": "ee55bec8",
   "metadata": {
    "tags": [
     "solution"
    ]
   },
   "outputs": [],
   "source": []
  },
  {
   "cell_type": "markdown",
   "id": "74da68b9",
   "metadata": {},
   "source": [
    "Extrahieren Sie von `liste` eine Liste mit allen Elementen außer den ersten\n",
    "beiden."
   ]
  },
  {
   "cell_type": "code",
   "execution_count": null,
   "id": "9d7130d4",
   "metadata": {
    "tags": [
     "solution"
    ]
   },
   "outputs": [],
   "source": []
  },
  {
   "cell_type": "markdown",
   "id": "966c6a8d",
   "metadata": {},
   "source": [
    "Extrahieren Sie von `liste` eine Liste, die aus dem 2. und 3. Element besteht."
   ]
  },
  {
   "cell_type": "code",
   "execution_count": null,
   "id": "0812ab68",
   "metadata": {
    "tags": [
     "solution"
    ]
   },
   "outputs": [],
   "source": []
  },
  {
   "cell_type": "markdown",
   "id": "5554575b",
   "metadata": {},
   "source": [
    "Extrahieren Sie von `liste` eine neue Liste, die alle Elemente außer dem\n",
    "ersten und dem letzten enthält."
   ]
  },
  {
   "cell_type": "code",
   "execution_count": null,
   "id": "60014f28",
   "metadata": {
    "tags": [
     "solution"
    ]
   },
   "outputs": [],
   "source": []
  },
  {
   "cell_type": "markdown",
   "id": "3e2b9b21",
   "metadata": {},
   "source": [
    "# Finden in Listen\n",
    "\n",
    "Schreiben Sie eine Funktion `finde_erste_gerade_zahl(liste)`, die den Index\n",
    "der ersten geraden Zahl in einer Liste von ganzen Zahlen zurückgibt. Falls\n",
    "die Liste keine gerade Zahl enthält soll die Funktion `None` zurückgeben."
   ]
  },
  {
   "cell_type": "code",
   "execution_count": null,
   "id": "4b2824a5",
   "metadata": {
    "tags": [
     "solution"
    ]
   },
   "outputs": [],
   "source": []
  },
  {
   "cell_type": "markdown",
   "id": "0948d70b",
   "metadata": {},
   "source": [
    "Testen Sie die Funktion für geeignete Argumente."
   ]
  },
  {
   "cell_type": "code",
   "execution_count": null,
   "id": "8eb25c28",
   "metadata": {
    "tags": [
     "solution"
    ]
   },
   "outputs": [],
   "source": []
  },
  {
   "cell_type": "markdown",
   "id": "3efc19c6",
   "metadata": {},
   "source": [
    "## Mittelwert einer Liste\n",
    "\n",
    "Der Mittelwert einer Liste mit $n$ Elementen $[x_0, \\dots, x_{n-1}]$ ist\n",
    "definiert als\n",
    "\n",
    "$$\\frac{x_0 + \\dots + x_{n-1}}{n}$$\n",
    "\n",
    "Schreiben Sie eine Funktion `mittelwert(liste)`, die den Mittelwert einer\n",
    "Liste berechnet."
   ]
  },
  {
   "cell_type": "code",
   "execution_count": null,
   "id": "c730c6db",
   "metadata": {
    "tags": [
     "solution"
    ]
   },
   "outputs": [],
   "source": []
  },
  {
   "cell_type": "markdown",
   "id": "5303dac2",
   "metadata": {
    "pycharm": {
     "name": "#%% md\n"
    }
   },
   "source": [
    "Testen Sie die Funktion für geeignete Argumente."
   ]
  },
  {
   "cell_type": "code",
   "execution_count": null,
   "id": "20e8a593",
   "metadata": {
    "tags": [
     "solution"
    ]
   },
   "outputs": [],
   "source": []
  },
  {
   "cell_type": "code",
   "execution_count": null,
   "id": "09ccf23e",
   "metadata": {
    "tags": [
     "solution"
    ]
   },
   "outputs": [],
   "source": []
  },
  {
   "cell_type": "markdown",
   "id": "02e3d77f",
   "metadata": {},
   "source": [
    "**Zusatzaufgabe:** Der Mittelwert der Elemente einer Liste kann iterativ\n",
    "folgendermaßen berechnet werden:\n",
    "\n",
    "- Der Mittelwert $m$ der leeren Liste ist (per Definition für diese Lösung) 0\n",
    "- Wenn wir das $n+1$-te Element $x_{n+1}$ hinzufügen, so wird der neue\n",
    "  Mittelwert berechnet als\n",
    "\n",
    "$$m \\leftarrow m + \\frac{1}{n+1}(x_{n+1} - m)$$\n",
    "\n",
    "Schreiben Sie eine Funktion `iterativer_mittelwert(liste)`, die den\n",
    "Mittelwert einer Liste iterativ berechnet.\n"
   ]
  },
  {
   "cell_type": "code",
   "execution_count": null,
   "id": "4eeeb056",
   "metadata": {
    "tags": [
     "solution"
    ]
   },
   "outputs": [],
   "source": []
  },
  {
   "cell_type": "code",
   "execution_count": null,
   "id": "c9112b7a",
   "metadata": {
    "tags": [
     "solution"
    ]
   },
   "outputs": [],
   "source": []
  },
  {
   "cell_type": "code",
   "execution_count": null,
   "id": "8bc244ef",
   "metadata": {
    "tags": [
     "solution"
    ]
   },
   "outputs": [],
   "source": []
  },
  {
   "cell_type": "code",
   "execution_count": null,
   "id": "ca4f8210",
   "metadata": {
    "tags": [
     "solution"
    ]
   },
   "outputs": [],
   "source": []
  },
  {
   "cell_type": "code",
   "execution_count": null,
   "id": "621681fd",
   "metadata": {
    "tags": [
     "solution"
    ]
   },
   "outputs": [],
   "source": []
  },
  {
   "cell_type": "code",
   "execution_count": null,
   "id": "e9cf2c60",
   "metadata": {
    "tags": [
     "solution"
    ]
   },
   "outputs": [],
   "source": []
  },
  {
   "cell_type": "code",
   "execution_count": null,
   "id": "a3f088a7",
   "metadata": {
    "tags": [
     "solution"
    ]
   },
   "outputs": [],
   "source": []
  },
  {
   "cell_type": "markdown",
   "id": "ffcf038e",
   "metadata": {},
   "source": [
    "# Quadratzahlen\n",
    "\n",
    "Gegeben sei die folgende Liste mit Zahlen."
   ]
  },
  {
   "cell_type": "code",
   "execution_count": null,
   "id": "9cd49a6c",
   "metadata": {},
   "outputs": [],
   "source": [
    "zahlen = [1, 7, 4, 87, 23]"
   ]
  },
  {
   "cell_type": "markdown",
   "id": "da7421b6",
   "metadata": {},
   "source": [
    "Erzeugen Sie eine neue Liste, die die Quadrate der Zahlen in `zahlen` enthält."
   ]
  },
  {
   "cell_type": "code",
   "execution_count": null,
   "id": "94f5533e",
   "metadata": {
    "tags": [
     "solution"
    ]
   },
   "outputs": [],
   "source": []
  },
  {
   "cell_type": "markdown",
   "id": "a16cb8fa",
   "metadata": {},
   "source": [
    "Schreiben Sie eine Funktion `quadriere(zahlen)`, die eine neue Liste mit den\n",
    "Quadraten der Zahlen in `zahlen` zurückgibt."
   ]
  },
  {
   "cell_type": "code",
   "execution_count": null,
   "id": "71dbcb11",
   "metadata": {
    "tags": [
     "solution"
    ]
   },
   "outputs": [],
   "source": []
  },
  {
   "cell_type": "code",
   "execution_count": null,
   "id": "9eec88f7",
   "metadata": {
    "tags": [
     "solution"
    ]
   },
   "outputs": [],
   "source": []
  },
  {
   "cell_type": "markdown",
   "id": "56985d13",
   "metadata": {},
   "source": [
    "# Quadratzahlen mit Listen-Komprehension\n",
    "\n",
    "Erzeugen Sie eine neue Liste mit den Quadraten von `zahlen`. Verwenden Sie\n",
    "dazu eine Listen-Komprehension"
   ]
  },
  {
   "cell_type": "code",
   "execution_count": null,
   "id": "c7c14633",
   "metadata": {
    "tags": [
     "solution"
    ]
   },
   "outputs": [],
   "source": []
  },
  {
   "cell_type": "markdown",
   "id": "ffd16e91",
   "metadata": {},
   "source": [
    "Schreiben Sie die Funktion `quadriere(zahlen)` mit Listen-Komprehension."
   ]
  },
  {
   "cell_type": "code",
   "execution_count": null,
   "id": "4e4f5833",
   "metadata": {
    "tags": [
     "solution"
    ]
   },
   "outputs": [],
   "source": []
  },
  {
   "cell_type": "code",
   "execution_count": null,
   "id": "8a6db358",
   "metadata": {
    "tags": [
     "solution"
    ]
   },
   "outputs": [],
   "source": []
  },
  {
   "cell_type": "markdown",
   "id": "b9d72dd7",
   "metadata": {},
   "source": [
    "# Filtern\n",
    "\n",
    "Gegeben sei die folgende Liste mit Zahlen:"
   ]
  },
  {
   "cell_type": "code",
   "execution_count": null,
   "id": "fb6b303d",
   "metadata": {},
   "outputs": [],
   "source": [
    "zahlen = [1, 183, 7, 4, 87, 10, 23, -12, 493, 11]"
   ]
  },
  {
   "cell_type": "markdown",
   "id": "fa7329c9",
   "metadata": {},
   "source": [
    "Erzeugen Sie eine neue Liste, die alle Zahlen in `zahlen` enthält, die größer als 10 sind."
   ]
  },
  {
   "cell_type": "code",
   "execution_count": null,
   "id": "fa853e4f",
   "metadata": {
    "tags": [
     "solution"
    ]
   },
   "outputs": [],
   "source": []
  },
  {
   "cell_type": "markdown",
   "id": "b5d84096",
   "metadata": {},
   "source": [
    "Schreiben Sie eine Funktion `zahlen_größer_als_10(zahlen)`, die eine neue\n",
    "Liste zurückgibt, die die Zahlen aus `zahlen` enthält, die größer als 10 sind."
   ]
  },
  {
   "cell_type": "code",
   "execution_count": null,
   "id": "2deefce7",
   "metadata": {
    "tags": [
     "solution"
    ]
   },
   "outputs": [],
   "source": []
  },
  {
   "cell_type": "code",
   "execution_count": null,
   "id": "4f440b01",
   "metadata": {
    "tags": [
     "solution"
    ]
   },
   "outputs": [],
   "source": []
  },
  {
   "cell_type": "markdown",
   "id": "7c2e4363",
   "metadata": {},
   "source": [
    "# Filtern mit Listen-Komprehension\n",
    "\n",
    "Erzeugen Sie eine neue Liste, die alle Zahlen in `zahlen` enthält, die größer\n",
    "als 10 sind. Verwenden Sie dazu Listen-Komprehension."
   ]
  },
  {
   "cell_type": "code",
   "execution_count": null,
   "id": "56c10624",
   "metadata": {
    "tags": [
     "solution"
    ]
   },
   "outputs": [],
   "source": []
  },
  {
   "cell_type": "markdown",
   "id": "577af58a",
   "metadata": {},
   "source": [
    "Schreiben Sie die Funktion `zahlen_größer_als_10(zahlen)` mit\n",
    "Listen-Komprehension."
   ]
  },
  {
   "cell_type": "code",
   "execution_count": null,
   "id": "79bad5a7",
   "metadata": {
    "tags": [
     "solution"
    ]
   },
   "outputs": [],
   "source": []
  },
  {
   "cell_type": "code",
   "execution_count": null,
   "id": "26c55c93",
   "metadata": {
    "tags": [
     "solution"
    ]
   },
   "outputs": [],
   "source": []
  },
  {
   "cell_type": "markdown",
   "id": "3e385f92",
   "metadata": {},
   "source": [
    "\n",
    "Schreiben Sie eine Funktion `quadrate_von_zahlen_kleiner_10( zahlen)`,\n",
    "die eine neue Liste zurückgibt, die die Quadrate aller Zahlen < 10 aus\n",
    "`zahlen` enthält."
   ]
  },
  {
   "cell_type": "code",
   "execution_count": null,
   "id": "ec3ed714",
   "metadata": {
    "tags": [
     "solution"
    ]
   },
   "outputs": [],
   "source": []
  },
  {
   "cell_type": "code",
   "execution_count": null,
   "id": "1e7ca3cb",
   "metadata": {
    "tags": [
     "solution"
    ]
   },
   "outputs": [],
   "source": []
  },
  {
   "cell_type": "code",
   "execution_count": null,
   "id": "39e213d5",
   "metadata": {
    "tags": [
     "solution"
    ]
   },
   "outputs": [],
   "source": []
  },
  {
   "cell_type": "markdown",
   "id": "48013baa",
   "metadata": {},
   "source": [
    "# Generatoren"
   ]
  },
  {
   "cell_type": "markdown",
   "id": "c503bb4f",
   "metadata": {},
   "source": [
    "## Generator für Quadratzahlen\n",
    "\n",
    "Schreiben Sie einen Generator, der die ersten 10 Quadratzahlen erzeugt."
   ]
  },
  {
   "cell_type": "code",
   "execution_count": null,
   "id": "3fe5ba5d",
   "metadata": {
    "tags": [
     "solution"
    ]
   },
   "outputs": [],
   "source": []
  },
  {
   "cell_type": "code",
   "execution_count": null,
   "id": "706c2037",
   "metadata": {
    "tags": [
     "solution"
    ]
   },
   "outputs": [],
   "source": []
  },
  {
   "cell_type": "markdown",
   "id": "bf058969",
   "metadata": {},
   "source": [
    "## Take\n",
    "\n",
    "Schreiben Sie eine Funktion `take(n: int, it)` die ein Iterable `it` als\n",
    "Argument bekommt und ein neues Iterable zurückgibt, das die ersten `n`\n",
    "Elemente von `it` liefert."
   ]
  },
  {
   "cell_type": "code",
   "execution_count": null,
   "id": "aefb257d",
   "metadata": {
    "tags": [
     "solution"
    ]
   },
   "outputs": [],
   "source": []
  },
  {
   "cell_type": "code",
   "execution_count": null,
   "id": "e4f09bf5",
   "metadata": {
    "tags": [
     "solution"
    ]
   },
   "outputs": [],
   "source": []
  },
  {
   "cell_type": "code",
   "execution_count": null,
   "id": "68aafea7",
   "metadata": {
    "tags": [
     "solution"
    ]
   },
   "outputs": [],
   "source": []
  },
  {
   "cell_type": "code",
   "execution_count": null,
   "id": "2b121480",
   "metadata": {},
   "outputs": [],
   "source": []
  }
 ],
 "metadata": {
  "jupytext": {
   "encoding": "# -*- coding: utf-8 -*-",
   "formats": "ipynb"
  },
  "kernelspec": {
   "display_name": "Python 3 (ipykernel)",
   "language": "python",
   "name": "python3"
  }
 },
 "nbformat": 4,
 "nbformat_minor": 5
}
