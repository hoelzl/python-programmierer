{
 "cells": [
  {
   "cell_type": "markdown",
   "id": "4284f5cc",
   "metadata": {},
   "source": [
    "# Gerade Zahl\n",
    "\n",
    "Schreiben Sie eine Funktion `ist_gerade(zahl)`, die `True` zurückgibt,\n",
    "falls `zahl` gerade ist und `False`, falls `zahl` ungerade ist."
   ]
  },
  {
   "cell_type": "code",
   "execution_count": null,
   "id": "66f97339",
   "metadata": {
    "tags": [
     "solution"
    ]
   },
   "outputs": [],
   "source": []
  },
  {
   "cell_type": "markdown",
   "id": "7cf1325b",
   "metadata": {},
   "source": [
    "Schreiben Sie eine Funktion `drucke_ist_gerade(zahl)`, die\n",
    "\n",
    "- `{zahl} ist gerade.` auf dem Bildschirm ausgibt, falls `zahl` gerade ist und\n",
    "- `{zahl} ist nicht gerade.` auf dem Bildschirm ausgibt, falls `zahl` nicht\n",
    "  gerade ist."
   ]
  },
  {
   "cell_type": "code",
   "execution_count": null,
   "id": "b6f40721",
   "metadata": {
    "tags": [
     "solution"
    ]
   },
   "outputs": [],
   "source": []
  },
  {
   "cell_type": "markdown",
   "id": "1602fb13",
   "metadata": {},
   "source": [
    "Testen Sie `drucke_ist_gerade(zahl)` mit den Werten 0, 1 und 8."
   ]
  },
  {
   "cell_type": "code",
   "execution_count": null,
   "id": "3db2718b",
   "metadata": {
    "tags": [
     "solution"
    ]
   },
   "outputs": [],
   "source": []
  },
  {
   "cell_type": "markdown",
   "id": "039d84c6",
   "metadata": {},
   "source": [
    "# Positiv / Negativ\n",
    "\n",
    "Schreiben Sie eine Funktion `drucke_ist_positiv(zahl)`, die\n",
    "\n",
    "- `{zahl} ist positiv.` auf dem Bildschirm ausgibt, falls `zahl > 0` ist,\n",
    "- `{zahl} ist Null.` auf dem Bildschirm ausgibt, falls `zahl == 0` ist,\n",
    "- `{zahl} ist negativ.` auf dem Bildschirm ausgibt, falls `zahl < 0` ist."
   ]
  },
  {
   "cell_type": "code",
   "execution_count": null,
   "id": "71b8bf77",
   "metadata": {
    "tags": [
     "solution"
    ]
   },
   "outputs": [],
   "source": []
  },
  {
   "cell_type": "markdown",
   "id": "27b456a6",
   "metadata": {},
   "source": [
    "Testen Sie `drucke_ist_positiv(zahl)` mit den Werten -3, 0 und 2."
   ]
  },
  {
   "cell_type": "code",
   "execution_count": null,
   "id": "2522ffda",
   "metadata": {
    "tags": [
     "solution"
    ]
   },
   "outputs": [],
   "source": []
  },
  {
   "cell_type": "code",
   "execution_count": null,
   "id": "1fbad15c",
   "metadata": {
    "tags": [
     "solution"
    ]
   },
   "outputs": [],
   "source": []
  },
  {
   "cell_type": "code",
   "execution_count": null,
   "id": "0f13f8c0",
   "metadata": {
    "tags": [
     "solution"
    ]
   },
   "outputs": [],
   "source": []
  },
  {
   "cell_type": "markdown",
   "id": "889aca51",
   "metadata": {},
   "source": [
    "# Signum\n",
    "\n",
    "Schreiben Sie eine Funktion `signum(zahl)`, die\n",
    "\n",
    "- 1 zurückgibt, falls `zahl > 0` ist,\n",
    "- 0 zurückgibt, falls `zahl == 0` ist,\n",
    "- -1 zurückgibt, falls `zahl < 0` ist."
   ]
  },
  {
   "cell_type": "code",
   "execution_count": null,
   "id": "0661750f",
   "metadata": {
    "tags": [
     "solution"
    ]
   },
   "outputs": [],
   "source": []
  },
  {
   "cell_type": "markdown",
   "id": "cf5538dd",
   "metadata": {},
   "source": [
    "Testen Sie die Funktion für repräsentative Werte."
   ]
  },
  {
   "cell_type": "code",
   "execution_count": null,
   "id": "2412743a",
   "metadata": {
    "tags": [
     "solution"
    ]
   },
   "outputs": [],
   "source": []
  },
  {
   "cell_type": "code",
   "execution_count": null,
   "id": "24f18d8e",
   "metadata": {
    "tags": [
     "solution"
    ]
   },
   "outputs": [],
   "source": []
  },
  {
   "cell_type": "code",
   "execution_count": null,
   "id": "8e6b0876",
   "metadata": {
    "tags": [
     "solution"
    ]
   },
   "outputs": [],
   "source": []
  },
  {
   "cell_type": "markdown",
   "id": "22db3e94",
   "metadata": {},
   "source": [
    "# Umrechnung in Meilen\n",
    "\n",
    "Schreiben Sie eine Funktion `konvertiere_km_nach_meilen(km)` die den Wert\n",
    "`km` von Kilometer in Meilen umrechnet (d.h. die den Wert in Meilen\n",
    "zurückgibt).\n",
    "\n",
    "*Hinweis:*\n",
    "- Ein Kilometer entspricht $0,621371$ Meilen"
   ]
  },
  {
   "cell_type": "code",
   "execution_count": null,
   "id": "a71703c8",
   "metadata": {
    "tags": [
     "solution"
    ]
   },
   "outputs": [],
   "source": []
  },
  {
   "cell_type": "markdown",
   "id": "5b21d025",
   "metadata": {},
   "source": [
    "Testen Sie `konvertiere_km_nach_meilen(km)` für 1 und 5 km."
   ]
  },
  {
   "cell_type": "code",
   "execution_count": null,
   "id": "3a2fd429",
   "metadata": {
    "tags": [
     "solution"
    ]
   },
   "outputs": [],
   "source": []
  },
  {
   "cell_type": "code",
   "execution_count": null,
   "id": "dd3fc752",
   "metadata": {
    "tags": [
     "solution"
    ]
   },
   "outputs": [],
   "source": []
  },
  {
   "cell_type": "markdown",
   "id": "1092c435",
   "metadata": {},
   "source": [
    "\n",
    "Schreiben Sie eine Funktion `meilen_app()`, die eine Länge in Kilometern\n",
    "einliest und die äquivalente Entfernung in Meilen ausgibt.\n",
    "\n",
    "*Hinweise*\n",
    "- Ein String kann mit `float()` in einen Float-Wert umgewandelt werden."
   ]
  },
  {
   "cell_type": "code",
   "execution_count": null,
   "id": "14a71567",
   "metadata": {
    "tags": [
     "solution"
    ]
   },
   "outputs": [],
   "source": []
  },
  {
   "cell_type": "code",
   "execution_count": null,
   "id": "25292fc8",
   "metadata": {
    "tags": [
     "solution"
    ]
   },
   "outputs": [],
   "source": []
  },
  {
   "cell_type": "markdown",
   "id": "3d8fc3ab",
   "metadata": {},
   "source": [
    "# Umrechnung in Meilen mit Truthiness\n",
    "\n",
    "Schreiben Sie eine Funktion `meilen_app_2`, die sich wie `meilen_app`\n",
    "verhält, aber Truthiness von Strings ausnutzt."
   ]
  },
  {
   "cell_type": "code",
   "execution_count": null,
   "id": "e415d2eb",
   "metadata": {
    "tags": [
     "solution"
    ]
   },
   "outputs": [],
   "source": []
  },
  {
   "cell_type": "code",
   "execution_count": null,
   "id": "de9bc909",
   "metadata": {
    "tags": [
     "solution"
    ]
   },
   "outputs": [],
   "source": []
  },
  {
   "cell_type": "markdown",
   "id": "e9a7e641",
   "metadata": {},
   "source": [
    "# Kino-Preis\n",
    "\n",
    "Das Python-Lichtspielhaus hat folgende Eintrittspreise:\n",
    "\n",
    "- Kleinkinder unter 2 Jahren sind frei.\n",
    "- Kinder von 2-12 Jahren zahlen 2 Euro.\n",
    "- Teenager von 13-17 Jahren zahlen 5 Euro.\n",
    "- Erwachsene zahlen 10 Euro.\n",
    "- Rentner (ab 65) zahlen 6 Euro.\n",
    "\n",
    "Schreiben Sie eine Funktion `kinopreis(alter)`, die den Preis in\n",
    "Abhängigkeit vom Alter berechnet und zurückgibt."
   ]
  },
  {
   "cell_type": "code",
   "execution_count": null,
   "id": "b468dace",
   "metadata": {
    "tags": [
     "solution"
    ]
   },
   "outputs": [],
   "source": []
  },
  {
   "cell_type": "markdown",
   "id": "0fc4b01c",
   "metadata": {},
   "source": [
    "Testen Sie die Funktion `kinopreis()` für einige repräsentative Werte."
   ]
  },
  {
   "cell_type": "code",
   "execution_count": null,
   "id": "24a506ea",
   "metadata": {
    "tags": [
     "solution"
    ]
   },
   "outputs": [],
   "source": []
  },
  {
   "cell_type": "code",
   "execution_count": null,
   "id": "53f51fbd",
   "metadata": {
    "tags": [
     "solution"
    ]
   },
   "outputs": [],
   "source": []
  },
  {
   "cell_type": "code",
   "execution_count": null,
   "id": "10719e56",
   "metadata": {
    "tags": [
     "solution"
    ]
   },
   "outputs": [],
   "source": []
  },
  {
   "cell_type": "code",
   "execution_count": null,
   "id": "b4771903",
   "metadata": {
    "tags": [
     "solution"
    ]
   },
   "outputs": [],
   "source": []
  },
  {
   "cell_type": "code",
   "execution_count": null,
   "id": "030bfb0f",
   "metadata": {
    "tags": [
     "solution"
    ]
   },
   "outputs": [],
   "source": []
  },
  {
   "cell_type": "markdown",
   "id": "c75a5c7d",
   "metadata": {
    "title": "Schreiben Sie eine Funktion `drucke_kinopreis(alter)`,"
   },
   "source": [
    "die einen Text der folgenden Art auf dem Bildschirm ausgibt:\n",
    "\n",
    "```\n",
    "Sie sind 1 Jahr alt. Ihr Preis beträgt 0 Euro.\n",
    "Sie sind 15 Jahre alt. Ihr Preis beträgt 5 Euro.\n",
    "```"
   ]
  },
  {
   "cell_type": "code",
   "execution_count": null,
   "id": "b21d203e",
   "metadata": {
    "tags": [
     "solution"
    ]
   },
   "outputs": [],
   "source": []
  },
  {
   "cell_type": "markdown",
   "id": "04a9a453",
   "metadata": {},
   "source": [
    "Testen Sie `drucke_kinopreis(alter)` für repräsentative Werte."
   ]
  },
  {
   "cell_type": "code",
   "execution_count": null,
   "id": "3e47a3e0",
   "metadata": {
    "tags": [
     "solution"
    ]
   },
   "outputs": [],
   "source": []
  },
  {
   "cell_type": "markdown",
   "id": "af79f457",
   "metadata": {},
   "source": [
    "\n",
    "Schreiben Sie eine Funktion `kino_app()`, die ein Alter einliest und den\n",
    "Kinopreis für eine Person dieses Alters im gerade beschriebenen Format\n",
    "ausgibt. Zwei Beispielinteraktionen:\n",
    "\n",
    "```\n",
    "Wie alt sind Sie? 37\n",
    "Sie sind 37 Jahre alt. Ihr Preis beträgt 10 Euro.\n",
    "\n",
    "Wie alt sind Sie? 12\n",
    "Sie sind 12 Jahre alt. Ihr Preis beträgt 2 Euro.\n",
    "```"
   ]
  },
  {
   "cell_type": "code",
   "execution_count": null,
   "id": "c689fadb",
   "metadata": {
    "tags": [
     "solution"
    ]
   },
   "outputs": [],
   "source": []
  },
  {
   "cell_type": "code",
   "execution_count": null,
   "id": "a3beaf46",
   "metadata": {},
   "outputs": [],
   "source": [
    "# kino_app()"
   ]
  },
  {
   "cell_type": "markdown",
   "id": "dfc2d01a",
   "metadata": {},
   "source": [
    "# Ratespiele\n",
    "\n",
    "Die folgenden einfachen \"Spiele\" erlauben dem Spieler unbegrenzt viele\n",
    "Eingaben. Daher ist es sinnvoll, sie mit einer While-Schleife zu\n",
    "implementieren.\n",
    "\n",
    "### Raten eines Wortes\n",
    "\n",
    "Implementieren Sie eine Funktion `rate_wort(lösung)`, die den Benutzer so\n",
    "lange nach einem Wort fragt, bis das eingegebene Wort der Lösung entspricht."
   ]
  },
  {
   "cell_type": "code",
   "execution_count": null,
   "id": "09a1ba34",
   "metadata": {
    "tags": [
     "solution"
    ]
   },
   "outputs": [],
   "source": []
  },
  {
   "cell_type": "code",
   "execution_count": null,
   "id": "afe79b14",
   "metadata": {},
   "outputs": [],
   "source": [
    "# rate_wort(\"Haus\")"
   ]
  },
  {
   "cell_type": "markdown",
   "id": "07449c7b",
   "metadata": {},
   "source": [
    "### Zahlenraten\n",
    "\n",
    "Implementieren Sie eine Funktion `rate_zahl(lösung)`, die den Benutzer so\n",
    "lange nach einer Zahl fragt, bis er die Lösung erraten hat. Nach jeder\n",
    "Eingabe soll dem Benutzer angezeigt werden, ob die eingegebene Zahl zu\n",
    "groß, zu klein oder richtig ist."
   ]
  },
  {
   "cell_type": "code",
   "execution_count": null,
   "id": "dcb576de",
   "metadata": {
    "tags": [
     "solution"
    ]
   },
   "outputs": [],
   "source": []
  },
  {
   "cell_type": "code",
   "execution_count": null,
   "id": "e811dea1",
   "metadata": {},
   "outputs": [],
   "source": [
    "# rate_zahl(23)"
   ]
  },
  {
   "cell_type": "markdown",
   "id": "5fec5eb9",
   "metadata": {},
   "source": [
    "\n",
    "Wie müssen Sie Ihre Lösung modifizieren, damit der Spieler durch Eingabe\n",
    "einer leeren Zeichenkette das Spiel abbrechen kann?"
   ]
  },
  {
   "cell_type": "code",
   "execution_count": null,
   "id": "73a5cb46",
   "metadata": {
    "tags": [
     "solution"
    ]
   },
   "outputs": [],
   "source": []
  },
  {
   "cell_type": "code",
   "execution_count": null,
   "id": "06f280bd",
   "metadata": {
    "tags": [
     "solution"
    ]
   },
   "outputs": [],
   "source": []
  },
  {
   "cell_type": "markdown",
   "id": "42e709b7",
   "metadata": {},
   "source": [
    "Lösung unter Zuhilfenahme der Funktion `klassifiziere_zahl`"
   ]
  },
  {
   "cell_type": "code",
   "execution_count": null,
   "id": "6cc90645",
   "metadata": {
    "tags": [
     "solution"
    ]
   },
   "outputs": [],
   "source": []
  },
  {
   "cell_type": "code",
   "execution_count": null,
   "id": "1d97664e",
   "metadata": {
    "tags": [
     "solution"
    ]
   },
   "outputs": [],
   "source": []
  },
  {
   "cell_type": "code",
   "execution_count": null,
   "id": "70ebf363",
   "metadata": {
    "tags": [
     "solution"
    ]
   },
   "outputs": [],
   "source": []
  },
  {
   "cell_type": "markdown",
   "id": "715767c5",
   "metadata": {},
   "source": [
    "# Knobeln\n",
    "\n",
    "(Auch Schere, Stein, Papier; Schnick, Schnack, Schnuck; Fli, Fla, Flu; usw.)\n",
    "\n",
    "Beim Knobeln spielen zwei Spieler gegeneinander. Jeder der beiden Spieler\n",
    "wählt eines der drei Symbole \"Schere\", \"Stein\" oder \"Papier\" aus (ohne die\n",
    "Wahl des anderen Spielers zu kennen). Haben beide Spieler das gleiche\n",
    "Symbol gewählt, so ist das Spiel unentschieden. Andernfalls gilt:\n",
    "\n",
    "- Schere schlägt Papier\n",
    "- Papier schlägt Stein\n",
    "- Stein schlägt Schere\n",
    "\n",
    "Schreiben Sie eine Funktion `evaluiere_eine_runde_knobeln(spieler1,\n",
    "spieler2)`, die bewertet, ob die Runde unentschieden ausgegangen ist oder\n",
    "ob einer der Spieler gewonnen hat. Dazu soll die Funktion folgende Werte\n",
    "zurückgeben:\n",
    "\n",
    "- 0, wenn die Runde unentschieden war\n",
    "- 1, wenn Spieler 1 gewonnen hat\n",
    "- 2, wenn Spieler 2 gewonnen hat\n",
    "\n",
    "Wenn einer der Spieler eine ungültige Eingabe vorgenommen hat soll die\n",
    "Funktion eine Exception vom benutzerdefinierten Typ `BadInputException`\n",
    "auslösen, in der die Nummer des Spielers gespeichert ist, dessen Eingabe\n",
    "ungültig war. (Wenn beide Spieler eine ungültige Eingabe vorgenommen haben\n",
    "kann ein beliebiger Spieler gespeichert werden.)"
   ]
  },
  {
   "cell_type": "code",
   "execution_count": null,
   "id": "32019980",
   "metadata": {
    "tags": [
     "solution"
    ]
   },
   "outputs": [],
   "source": []
  },
  {
   "cell_type": "markdown",
   "id": "fb9413fc",
   "metadata": {},
   "source": [
    "Testen Sie alle möglichen Pfade durch Ihre Funktion."
   ]
  },
  {
   "cell_type": "code",
   "execution_count": null,
   "id": "fb66c396",
   "metadata": {
    "tags": [
     "solution"
    ]
   },
   "outputs": [],
   "source": []
  },
  {
   "cell_type": "code",
   "execution_count": null,
   "id": "ee451f68",
   "metadata": {
    "tags": [
     "solution"
    ]
   },
   "outputs": [],
   "source": []
  },
  {
   "cell_type": "code",
   "execution_count": null,
   "id": "49f86612",
   "metadata": {
    "tags": [
     "solution"
    ]
   },
   "outputs": [],
   "source": []
  },
  {
   "cell_type": "code",
   "execution_count": null,
   "id": "0d54f898",
   "metadata": {
    "tags": [
     "solution"
    ]
   },
   "outputs": [],
   "source": []
  },
  {
   "cell_type": "code",
   "execution_count": null,
   "id": "54a430b0",
   "metadata": {
    "tags": [
     "solution"
    ]
   },
   "outputs": [],
   "source": []
  },
  {
   "cell_type": "code",
   "execution_count": null,
   "id": "effcd0ec",
   "metadata": {
    "tags": [
     "solution"
    ]
   },
   "outputs": [],
   "source": []
  },
  {
   "cell_type": "code",
   "execution_count": null,
   "id": "19cca49c",
   "metadata": {
    "tags": [
     "solution"
    ]
   },
   "outputs": [],
   "source": []
  },
  {
   "cell_type": "code",
   "execution_count": null,
   "id": "caa0a191",
   "metadata": {
    "tags": [
     "solution"
    ]
   },
   "outputs": [],
   "source": []
  },
  {
   "cell_type": "code",
   "execution_count": null,
   "id": "10cdb196",
   "metadata": {
    "tags": [
     "solution"
    ]
   },
   "outputs": [],
   "source": []
  },
  {
   "cell_type": "code",
   "execution_count": null,
   "id": "09ab5f1b",
   "metadata": {
    "tags": [
     "solution"
    ]
   },
   "outputs": [],
   "source": []
  },
  {
   "cell_type": "code",
   "execution_count": null,
   "id": "2ab15a6d",
   "metadata": {
    "tags": [
     "solution"
    ]
   },
   "outputs": [],
   "source": []
  },
  {
   "cell_type": "code",
   "execution_count": null,
   "id": "aa23b01a",
   "metadata": {
    "tags": [
     "solution"
    ]
   },
   "outputs": [],
   "source": []
  },
  {
   "cell_type": "code",
   "execution_count": null,
   "id": "bf5b52f8",
   "metadata": {
    "tags": [
     "solution"
    ]
   },
   "outputs": [],
   "source": []
  },
  {
   "cell_type": "code",
   "execution_count": null,
   "id": "402e92ae",
   "metadata": {
    "tags": [
     "solution"
    ]
   },
   "outputs": [],
   "source": []
  },
  {
   "cell_type": "code",
   "execution_count": null,
   "id": "39d9e893",
   "metadata": {
    "tags": [
     "solution"
    ]
   },
   "outputs": [],
   "source": []
  },
  {
   "cell_type": "markdown",
   "id": "f59a7156",
   "metadata": {},
   "source": [
    "\n",
    "Schreiben Sie eine Funktion `vergleiche_symbole(spieler1, spieler2)`,\n",
    "die folgende Information auf dem Bildschirm ausgibt:\n",
    "\n",
    "- `Unentschieden.`, wenn beide Spieler das gleiche Symbol gewählt haben,\n",
    "- `Spieler X gewinnt!`, wenn Spieler X (X = 1 oder 2) gewonnen hat,\n",
    "- `Ungültiges Symbol von Spieler X!`, wenn Spieler X ein ungültiges Symbol\n",
    "  eingegeben hat."
   ]
  },
  {
   "cell_type": "code",
   "execution_count": null,
   "id": "6ee9c770",
   "metadata": {
    "tags": [
     "solution"
    ]
   },
   "outputs": [],
   "source": []
  },
  {
   "cell_type": "markdown",
   "id": "77fcd181",
   "metadata": {},
   "source": [
    "Testen Sie `vergleiche_symbole` für geeignete Eingaben."
   ]
  },
  {
   "cell_type": "code",
   "execution_count": null,
   "id": "066c1208",
   "metadata": {
    "tags": [
     "solution"
    ]
   },
   "outputs": [],
   "source": []
  },
  {
   "cell_type": "code",
   "execution_count": null,
   "id": "b88db2e1",
   "metadata": {
    "tags": [
     "solution"
    ]
   },
   "outputs": [],
   "source": []
  },
  {
   "cell_type": "code",
   "execution_count": null,
   "id": "e66b4ade",
   "metadata": {
    "tags": [
     "solution"
    ]
   },
   "outputs": [],
   "source": []
  },
  {
   "cell_type": "code",
   "execution_count": null,
   "id": "b9617166",
   "metadata": {
    "tags": [
     "solution"
    ]
   },
   "outputs": [],
   "source": []
  },
  {
   "cell_type": "code",
   "execution_count": null,
   "id": "5faf9ea1",
   "metadata": {
    "tags": [
     "solution"
    ]
   },
   "outputs": [],
   "source": []
  },
  {
   "cell_type": "code",
   "execution_count": null,
   "id": "610ce865",
   "metadata": {
    "tags": [
     "solution"
    ]
   },
   "outputs": [],
   "source": []
  },
  {
   "cell_type": "code",
   "execution_count": null,
   "id": "1831ac83",
   "metadata": {
    "tags": [
     "solution"
    ]
   },
   "outputs": [],
   "source": []
  },
  {
   "cell_type": "code",
   "execution_count": null,
   "id": "653b89d9",
   "metadata": {
    "tags": [
     "solution"
    ]
   },
   "outputs": [],
   "source": []
  },
  {
   "cell_type": "code",
   "execution_count": null,
   "id": "5fc498b0",
   "metadata": {
    "tags": [
     "solution"
    ]
   },
   "outputs": [],
   "source": []
  },
  {
   "cell_type": "markdown",
   "id": "7e1612fe",
   "metadata": {},
   "source": [
    "\n",
    "Schreiben Sie eine Funktion `spiele_eine_runde_knobeln()`, die die Auswahl\n",
    "von Spieler 1 und Spieler 2 vom Terminal einliest und dann auf dem\n",
    "Bildschirm ausgibt, wer gewonnen hat.\n",
    "\n",
    "(Das ist natürlich kein benutzbares Spiel, da Spieler 2 sehen kann,\n",
    "was Spieler 1 gewählt hat.)"
   ]
  },
  {
   "cell_type": "code",
   "execution_count": null,
   "id": "b85e1908",
   "metadata": {
    "tags": [
     "solution"
    ]
   },
   "outputs": [],
   "source": []
  },
  {
   "cell_type": "markdown",
   "id": "6ff4bd86",
   "metadata": {},
   "source": [
    "Testen Sie die Funktion `spiele_eine_runde_knobeln()` interaktiv."
   ]
  },
  {
   "cell_type": "code",
   "execution_count": null,
   "id": "25f72bed",
   "metadata": {
    "tags": [
     "solution"
    ]
   },
   "outputs": [],
   "source": []
  },
  {
   "cell_type": "markdown",
   "id": "5766a7e6",
   "metadata": {},
   "source": [
    "\n",
    "Schreiben Sie eine Funktion `spiele_knobeln()`, die zwei Spieler so lange\n",
    "gegeneinader knobeln lässt, bis ein Spieler 3 Spiele mehr gewonnen hat als\n",
    "der andere (z.B. wenn der erste Spieler 2 Spiele gewonnen hat, der zweite\n",
    "Spieler 5)."
   ]
  },
  {
   "cell_type": "code",
   "execution_count": null,
   "id": "6d1fd9a2",
   "metadata": {
    "lines_to_next_cell": 2,
    "tags": [
     "solution"
    ]
   },
   "outputs": [],
   "source": []
  },
  {
   "cell_type": "code",
   "execution_count": null,
   "id": "b10814be",
   "metadata": {
    "tags": [
     "solution"
    ]
   },
   "outputs": [],
   "source": []
  }
 ],
 "metadata": {
  "jupytext": {
   "encoding": "# -*- coding: utf-8 -*-",
   "formats": "ipynb"
  },
  "kernelspec": {
   "display_name": "Python 3 (ipykernel)",
   "language": "python",
   "name": "python3"
  }
 },
 "nbformat": 4,
 "nbformat_minor": 5
}
