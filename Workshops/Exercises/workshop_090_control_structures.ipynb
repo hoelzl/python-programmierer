{
 "cells": [
  {
   "cell_type": "markdown",
   "id": "09c0fabf",
   "metadata": {},
   "source": [
    "# Gerade Zahl\n",
    "\n",
    "Schreiben Sie eine Funktion `ist_gerade(zahl)`, die `True` zurückgibt,\n",
    "falls `zahl` gerade ist und `False`, falls `zahl` ungerade ist."
   ]
  },
  {
   "cell_type": "code",
   "execution_count": null,
   "id": "1a55395d",
   "metadata": {
    "tags": [
     "solution"
    ]
   },
   "outputs": [],
   "source": []
  },
  {
   "cell_type": "markdown",
   "id": "5b59a334",
   "metadata": {},
   "source": [
    "Schreiben Sie eine Funktion `drucke_ist_gerade(zahl)`, die \n",
    "\n",
    "- `{zahl} ist gerade.` auf dem Bildschirm ausgibt, falls `zahl` gerade ist und\n",
    "- `{zahl} ist nicht gerade.` auf dem Bildschirm ausgibt, falls `zahl` nicht\n",
    "  gerade ist."
   ]
  },
  {
   "cell_type": "code",
   "execution_count": null,
   "id": "c66a7a96",
   "metadata": {
    "tags": [
     "solution"
    ]
   },
   "outputs": [],
   "source": []
  },
  {
   "cell_type": "markdown",
   "id": "07aee715",
   "metadata": {},
   "source": [
    "Testen Sie `drucke_ist_gerade(zahl)` mit den Werten 0, 1 und 8."
   ]
  },
  {
   "cell_type": "code",
   "execution_count": null,
   "id": "1497a10c",
   "metadata": {
    "tags": [
     "solution"
    ]
   },
   "outputs": [],
   "source": []
  },
  {
   "cell_type": "markdown",
   "id": "3e074536",
   "metadata": {},
   "source": [
    "# Positiv / Negativ\n",
    "\n",
    "Schreiben Sie eine Funktion `drucke_ist_positiv(zahl)`, die \n",
    "\n",
    "- `{zahl} ist positiv.` auf dem Bildschirm ausgibt, falls `zahl > 0` ist,\n",
    "- `{zahl} ist Null.` auf dem Bildschirm ausgibt, falls `zahl == 0` ist,\n",
    "- `{zahl} ist negativ.` auf dem Bildschirm ausgibt, falls `zahl < 0` ist."
   ]
  },
  {
   "cell_type": "code",
   "execution_count": null,
   "id": "9f7f94ed",
   "metadata": {
    "tags": [
     "solution"
    ]
   },
   "outputs": [],
   "source": []
  },
  {
   "cell_type": "markdown",
   "id": "134e241d",
   "metadata": {},
   "source": [
    "Testen Sie `drucke_ist_positiv(zahl)` mit den Werten -3, 0 und 2."
   ]
  },
  {
   "cell_type": "code",
   "execution_count": null,
   "id": "7e93910b",
   "metadata": {
    "tags": [
     "solution"
    ]
   },
   "outputs": [],
   "source": []
  },
  {
   "cell_type": "code",
   "execution_count": null,
   "id": "be1d0520",
   "metadata": {
    "tags": [
     "solution"
    ]
   },
   "outputs": [],
   "source": []
  },
  {
   "cell_type": "code",
   "execution_count": null,
   "id": "0a69eec0",
   "metadata": {
    "tags": [
     "solution"
    ]
   },
   "outputs": [],
   "source": []
  },
  {
   "cell_type": "markdown",
   "id": "c5fe7c79",
   "metadata": {},
   "source": [
    "# Signum\n",
    "\n",
    "Schreiben Sie eine Funktion `signum(zahl)`, die\n",
    "\n",
    "- 1 zurückgibt, falls `zahl > 0` ist,\n",
    "- 0 zurückgibt, falls `zahl == 0` ist,\n",
    "- -1 zurückgibt, falls `zahl < 0` ist."
   ]
  },
  {
   "cell_type": "code",
   "execution_count": null,
   "id": "36883f45",
   "metadata": {
    "tags": [
     "solution"
    ]
   },
   "outputs": [],
   "source": []
  },
  {
   "cell_type": "markdown",
   "id": "9e02b493",
   "metadata": {},
   "source": [
    "Testen Sie die Funktion für repräsentative Werte."
   ]
  },
  {
   "cell_type": "code",
   "execution_count": null,
   "id": "86cc4286",
   "metadata": {
    "tags": [
     "solution"
    ]
   },
   "outputs": [],
   "source": []
  },
  {
   "cell_type": "code",
   "execution_count": null,
   "id": "fd236b8d",
   "metadata": {
    "tags": [
     "solution"
    ]
   },
   "outputs": [],
   "source": []
  },
  {
   "cell_type": "code",
   "execution_count": null,
   "id": "680948f1",
   "metadata": {
    "tags": [
     "solution"
    ]
   },
   "outputs": [],
   "source": []
  },
  {
   "cell_type": "markdown",
   "id": "f0d00d7b",
   "metadata": {},
   "source": [
    "# Umrechnung in Meilen\n",
    "\n",
    "Schreiben Sie eine Funktion `konvertiere_km_nach_meilen(km)` die den Wert\n",
    "`km` von Kilometer in Meilen umrechnet (d.h. die den Wert in Meilen\n",
    "zurückgibt).\n",
    "\n",
    "*Hinweis:*\n",
    "- Ein Kilometer entspricht $0,621371$ Meilen"
   ]
  },
  {
   "cell_type": "code",
   "execution_count": null,
   "id": "1e4bb414",
   "metadata": {
    "tags": [
     "solution"
    ]
   },
   "outputs": [],
   "source": []
  },
  {
   "cell_type": "markdown",
   "id": "6f40ec4b",
   "metadata": {},
   "source": [
    "Testen Sie `konvertiere_km_nach_meilen(km)` für 1 und 5 km."
   ]
  },
  {
   "cell_type": "code",
   "execution_count": null,
   "id": "e7d27ba5",
   "metadata": {
    "tags": [
     "solution"
    ]
   },
   "outputs": [],
   "source": []
  },
  {
   "cell_type": "code",
   "execution_count": null,
   "id": "3948da39",
   "metadata": {
    "tags": [
     "solution"
    ]
   },
   "outputs": [],
   "source": []
  },
  {
   "cell_type": "markdown",
   "id": "dfa8577d",
   "metadata": {},
   "source": [
    "\n",
    "Schreiben Sie eine Funktion `meilen_app()`, die eine Länge in Kilometern\n",
    "einliest und die äquivalente Entfernung in Meilen ausgibt.\n",
    "\n",
    "*Hinweise* \n",
    "- Ein String kann mit `float()` in einen Float-Wert umgewandelt werden."
   ]
  },
  {
   "cell_type": "code",
   "execution_count": null,
   "id": "385f92a4",
   "metadata": {
    "tags": [
     "solution"
    ]
   },
   "outputs": [],
   "source": []
  },
  {
   "cell_type": "code",
   "execution_count": null,
   "id": "f2413357",
   "metadata": {
    "tags": [
     "solution"
    ]
   },
   "outputs": [],
   "source": []
  },
  {
   "cell_type": "markdown",
   "id": "f09f3098",
   "metadata": {},
   "source": [
    "# Umrechnung in Meilen mit Truthiness\n",
    "\n",
    "Schreiben Sie eine Funktion `meilen_app_2`, die sich wie `meilen_app`\n",
    "verhält, aber Truthiness von Strings ausnutzt."
   ]
  },
  {
   "cell_type": "code",
   "execution_count": null,
   "id": "4c66ab83",
   "metadata": {
    "tags": [
     "solution"
    ]
   },
   "outputs": [],
   "source": []
  },
  {
   "cell_type": "code",
   "execution_count": null,
   "id": "8447bd13",
   "metadata": {
    "tags": [
     "solution"
    ]
   },
   "outputs": [],
   "source": []
  },
  {
   "cell_type": "markdown",
   "id": "d7d2df93",
   "metadata": {},
   "source": [
    "# Kino-Preis\n",
    "\n",
    "Das Python-Lichtspielhaus hat folgende Eintrittspreise:\n",
    "\n",
    "- Kleinkinder unter 2 Jahren sind frei.\n",
    "- Kinder von 2-12 Jahren zahlen 2 Euro.\n",
    "- Teenager von 13-17 Jahren zahlen 5 Euro.\n",
    "- Erwachsene zahlen 10 Euro.\n",
    "- Rentner (ab 65) zahlen 6 Euro.\n",
    "\n",
    "Schreiben Sie eine Funktion `kinopreis(alter)`, die den Preis in\n",
    "Abhängigkeit vom Alter berechnet und zurückgibt."
   ]
  },
  {
   "cell_type": "code",
   "execution_count": null,
   "id": "c3b60163",
   "metadata": {
    "tags": [
     "solution"
    ]
   },
   "outputs": [],
   "source": []
  },
  {
   "cell_type": "markdown",
   "id": "4a2f3245",
   "metadata": {},
   "source": [
    "Testen Sie die Funktion `kinopreis()` für einige repräsentative Werte."
   ]
  },
  {
   "cell_type": "code",
   "execution_count": null,
   "id": "bd486251",
   "metadata": {
    "tags": [
     "solution"
    ]
   },
   "outputs": [],
   "source": []
  },
  {
   "cell_type": "code",
   "execution_count": null,
   "id": "164785a7",
   "metadata": {
    "tags": [
     "solution"
    ]
   },
   "outputs": [],
   "source": []
  },
  {
   "cell_type": "code",
   "execution_count": null,
   "id": "421e06e5",
   "metadata": {
    "tags": [
     "solution"
    ]
   },
   "outputs": [],
   "source": []
  },
  {
   "cell_type": "code",
   "execution_count": null,
   "id": "f77b7e9c",
   "metadata": {
    "tags": [
     "solution"
    ]
   },
   "outputs": [],
   "source": []
  },
  {
   "cell_type": "code",
   "execution_count": null,
   "id": "dfa50d43",
   "metadata": {
    "tags": [
     "solution"
    ]
   },
   "outputs": [],
   "source": []
  },
  {
   "cell_type": "markdown",
   "id": "1ce5506b",
   "metadata": {
    "title": "Schreiben Sie eine Funktion `drucke_kinopreis(alter)`,"
   },
   "source": [
    "die einen Text der folgenden Art auf dem Bildschirm ausgibt:\n",
    "\n",
    "```\n",
    "Sie sind 1 Jahr alt. Ihr Preis beträgt 0 Euro.\n",
    "Sie sind 15 Jahre alt. Ihr Preis beträgt 5 Euro.\n",
    "```"
   ]
  },
  {
   "cell_type": "code",
   "execution_count": null,
   "id": "de6ed32d",
   "metadata": {
    "tags": [
     "solution"
    ]
   },
   "outputs": [],
   "source": []
  },
  {
   "cell_type": "markdown",
   "id": "875c6a2c",
   "metadata": {},
   "source": [
    "Testen Sie `drucke_kinopreis(alter)` für repräsentative Werte."
   ]
  },
  {
   "cell_type": "code",
   "execution_count": null,
   "id": "fd6e6205",
   "metadata": {
    "tags": [
     "solution"
    ]
   },
   "outputs": [],
   "source": []
  },
  {
   "cell_type": "markdown",
   "id": "716dd9e1",
   "metadata": {},
   "source": [
    "\n",
    "Schreiben Sie eine Funktion `kino_app()`, die ein Alter einliest und den\n",
    "Kinopreis für eine Person dieses Alters im gerade beschriebenen Format\n",
    "ausgibt. Zwei Beispielinteraktionen:\n",
    "\n",
    "```\n",
    "Wie alt sind Sie? 37\n",
    "Sie sind 37 Jahre alt. Ihr Preis beträgt 10 Euro.\n",
    "\n",
    "Wie alt sind Sie? 12\n",
    "Sie sind 12 Jahre alt. Ihr Preis beträgt 2 Euro.\n",
    "```"
   ]
  },
  {
   "cell_type": "code",
   "execution_count": null,
   "id": "25f1341d",
   "metadata": {
    "tags": [
     "solution"
    ]
   },
   "outputs": [],
   "source": []
  },
  {
   "cell_type": "code",
   "execution_count": null,
   "id": "6e881d9b",
   "metadata": {},
   "outputs": [],
   "source": [
    "# kino_app()"
   ]
  },
  {
   "cell_type": "markdown",
   "id": "0ff23b58",
   "metadata": {},
   "source": [
    "# Ratespiele\n",
    "\n",
    "Die folgenden einfachen \"Spiele\" erlauben dem Spieler unbegrenzt viele\n",
    "Eingaben. Daher ist es sinnvoll, sie mit einer While-Schleife zu\n",
    "implementieren.\n",
    "\n",
    "### Raten eines Wortes\n",
    "\n",
    "Implementieren Sie eine Funktion `rate_wort(lösung)`, die den Benutzer so\n",
    "lange nach einem Wort fragt, bis das eingegebene Wort der Lösung entspricht."
   ]
  },
  {
   "cell_type": "code",
   "execution_count": null,
   "id": "81220ea8",
   "metadata": {
    "tags": [
     "solution"
    ]
   },
   "outputs": [],
   "source": []
  },
  {
   "cell_type": "code",
   "execution_count": null,
   "id": "87000828",
   "metadata": {},
   "outputs": [],
   "source": [
    "# rate_wort(\"Haus\")"
   ]
  },
  {
   "cell_type": "markdown",
   "id": "079d72c3",
   "metadata": {},
   "source": [
    "### Zahlenraten\n",
    "\n",
    "Implementieren Sie eine Funktion `rate_zahl(lösung)`, die den Benutzer so\n",
    "lange nach einer Zahl fragt, bis er die Lösung erraten hat. Nach jeder\n",
    "Eingabe soll dem Benutzer angezeigt werden, ob die eingegebene Zahl zu\n",
    "groß, zu klein oder richtig ist."
   ]
  },
  {
   "cell_type": "code",
   "execution_count": null,
   "id": "e2eb6329",
   "metadata": {
    "tags": [
     "solution"
    ]
   },
   "outputs": [],
   "source": []
  },
  {
   "cell_type": "code",
   "execution_count": null,
   "id": "ad06fd19",
   "metadata": {},
   "outputs": [],
   "source": [
    "# rate_zahl(23)"
   ]
  },
  {
   "cell_type": "markdown",
   "id": "40d90cbd",
   "metadata": {},
   "source": [
    "\n",
    "Wie müssen Sie Ihre Lösung modifizieren, damit der Spieler durch Eingabe\n",
    "einer leeren Zeichenkette das Spiel abbrechen kann?"
   ]
  },
  {
   "cell_type": "code",
   "execution_count": null,
   "id": "3a9de61f",
   "metadata": {
    "tags": [
     "solution"
    ]
   },
   "outputs": [],
   "source": []
  },
  {
   "cell_type": "code",
   "execution_count": null,
   "id": "fb9906bf",
   "metadata": {
    "tags": [
     "solution"
    ]
   },
   "outputs": [],
   "source": []
  },
  {
   "cell_type": "markdown",
   "id": "c642ebcc",
   "metadata": {},
   "source": [
    "Lösung unter Zuhilfenahme der Funktion `klassifiziere_zahl`"
   ]
  },
  {
   "cell_type": "code",
   "execution_count": null,
   "id": "0872cd83",
   "metadata": {
    "tags": [
     "solution"
    ]
   },
   "outputs": [],
   "source": []
  },
  {
   "cell_type": "code",
   "execution_count": null,
   "id": "b8ce95be",
   "metadata": {
    "tags": [
     "solution"
    ]
   },
   "outputs": [],
   "source": []
  },
  {
   "cell_type": "code",
   "execution_count": null,
   "id": "6752a2df",
   "metadata": {
    "tags": [
     "solution"
    ]
   },
   "outputs": [],
   "source": []
  },
  {
   "cell_type": "markdown",
   "id": "56968aa2",
   "metadata": {},
   "source": [
    "# Knobeln\n",
    "\n",
    "(Auch Schere, Stein, Papier; Schnick, Schnack, Schnuck; Fli, Fla, Flu; usw.)\n",
    "\n",
    "Beim Knobeln spielen zwei Spieler gegeneinander. Jeder der beiden Spieler\n",
    "wählt eines der drei Symbole \"Schere\", \"Stein\" oder \"Papier\" aus (ohne die\n",
    "Wahl des anderen Spielers zu kennen). Haben beide Spieler das gleiche\n",
    "Symbol gewählt, so ist das Spiel unentschieden. Andernfalls gilt:\n",
    "\n",
    "- Schere schlägt Papier\n",
    "- Papier schlägt Stein\n",
    "- Stein schlägt Schere\n",
    "\n",
    "Schreiben Sie eine Funktion `evaluiere_eine_runde_knobeln(spieler1,\n",
    "spieler2)`, die bewertet, ob die Runde unentschieden ausgegangen ist oder\n",
    "ob einer der Spieler gewonnen hat. Dazu soll die Funktion folgende Werte\n",
    "zurückgeben:\n",
    "\n",
    "- 0, wenn die Runde unentschieden war\n",
    "- 1, wenn Spieler 1 gewonnen hat\n",
    "- 2, wenn Spieler 2 gewonnen hat\n",
    "\n",
    "Wenn einer der Spieler eine ungültige Eingabe vorgenommen hat soll die\n",
    "Funktion eine Exception vom benutzerdefinierten Typ `BadInputException`\n",
    "auslösen, in der die Nummer des Spielers gespeichert ist, dessen Eingabe\n",
    "ungültig war. (Wenn beide Spieler eine ungültige Eingabe vorgenommen haben\n",
    "kann ein beliebiger Spieler gespeichert werden.)"
   ]
  },
  {
   "cell_type": "code",
   "execution_count": null,
   "id": "3eeda79b",
   "metadata": {
    "tags": [
     "solution"
    ]
   },
   "outputs": [],
   "source": []
  },
  {
   "cell_type": "markdown",
   "id": "6a425907",
   "metadata": {},
   "source": [
    "Testen Sie alle möglichen Pfade durch Ihre Funktion."
   ]
  },
  {
   "cell_type": "code",
   "execution_count": null,
   "id": "bb4e5e10",
   "metadata": {
    "tags": [
     "solution"
    ]
   },
   "outputs": [],
   "source": []
  },
  {
   "cell_type": "code",
   "execution_count": null,
   "id": "ec82d2e2",
   "metadata": {
    "tags": [
     "solution"
    ]
   },
   "outputs": [],
   "source": []
  },
  {
   "cell_type": "code",
   "execution_count": null,
   "id": "91b846c0",
   "metadata": {
    "tags": [
     "solution"
    ]
   },
   "outputs": [],
   "source": []
  },
  {
   "cell_type": "code",
   "execution_count": null,
   "id": "e8e0d5c9",
   "metadata": {
    "tags": [
     "solution"
    ]
   },
   "outputs": [],
   "source": []
  },
  {
   "cell_type": "code",
   "execution_count": null,
   "id": "c0c48acf",
   "metadata": {
    "tags": [
     "solution"
    ]
   },
   "outputs": [],
   "source": []
  },
  {
   "cell_type": "code",
   "execution_count": null,
   "id": "a312f6c0",
   "metadata": {
    "tags": [
     "solution"
    ]
   },
   "outputs": [],
   "source": []
  },
  {
   "cell_type": "code",
   "execution_count": null,
   "id": "091fed95",
   "metadata": {
    "tags": [
     "solution"
    ]
   },
   "outputs": [],
   "source": []
  },
  {
   "cell_type": "code",
   "execution_count": null,
   "id": "e26eb058",
   "metadata": {
    "tags": [
     "solution"
    ]
   },
   "outputs": [],
   "source": []
  },
  {
   "cell_type": "code",
   "execution_count": null,
   "id": "09e38676",
   "metadata": {
    "tags": [
     "solution"
    ]
   },
   "outputs": [],
   "source": []
  },
  {
   "cell_type": "code",
   "execution_count": null,
   "id": "f4a10a16",
   "metadata": {
    "tags": [
     "solution"
    ]
   },
   "outputs": [],
   "source": []
  },
  {
   "cell_type": "code",
   "execution_count": null,
   "id": "5f63186e",
   "metadata": {
    "tags": [
     "solution"
    ]
   },
   "outputs": [],
   "source": []
  },
  {
   "cell_type": "code",
   "execution_count": null,
   "id": "43c63de2",
   "metadata": {
    "tags": [
     "solution"
    ]
   },
   "outputs": [],
   "source": []
  },
  {
   "cell_type": "code",
   "execution_count": null,
   "id": "86f10314",
   "metadata": {
    "tags": [
     "solution"
    ]
   },
   "outputs": [],
   "source": []
  },
  {
   "cell_type": "code",
   "execution_count": null,
   "id": "b8f54de6",
   "metadata": {
    "tags": [
     "solution"
    ]
   },
   "outputs": [],
   "source": []
  },
  {
   "cell_type": "code",
   "execution_count": null,
   "id": "cd7e0316",
   "metadata": {
    "tags": [
     "solution"
    ]
   },
   "outputs": [],
   "source": []
  },
  {
   "cell_type": "markdown",
   "id": "07959162",
   "metadata": {},
   "source": [
    "\n",
    "Schreiben Sie eine Funktion `vergleiche_symbole(spieler1, spieler2)`,\n",
    "die folgende Information auf dem Bildschirm ausgibt:\n",
    "\n",
    "- `Unentschieden.`, wenn beide Spieler das gleiche Symbol gewählt haben,\n",
    "- `Spieler X gewinnt!`, wenn Spieler X (X = 1 oder 2) gewonnen hat,\n",
    "- `Ungültiges Symbol von Spieler X!`, wenn Spieler X ein ungültiges Symbol\n",
    "  eingegeben hat."
   ]
  },
  {
   "cell_type": "code",
   "execution_count": null,
   "id": "054b04ec",
   "metadata": {
    "tags": [
     "solution"
    ]
   },
   "outputs": [],
   "source": []
  },
  {
   "cell_type": "markdown",
   "id": "77f3ecb0",
   "metadata": {},
   "source": [
    "Testen Sie `vergleiche_symbole` für geeignete Eingaben."
   ]
  },
  {
   "cell_type": "code",
   "execution_count": null,
   "id": "2bf4d6bf",
   "metadata": {
    "tags": [
     "solution"
    ]
   },
   "outputs": [],
   "source": []
  },
  {
   "cell_type": "code",
   "execution_count": null,
   "id": "d6eed76d",
   "metadata": {
    "tags": [
     "solution"
    ]
   },
   "outputs": [],
   "source": []
  },
  {
   "cell_type": "code",
   "execution_count": null,
   "id": "96c0ba25",
   "metadata": {
    "tags": [
     "solution"
    ]
   },
   "outputs": [],
   "source": []
  },
  {
   "cell_type": "code",
   "execution_count": null,
   "id": "bdeb7325",
   "metadata": {
    "tags": [
     "solution"
    ]
   },
   "outputs": [],
   "source": []
  },
  {
   "cell_type": "code",
   "execution_count": null,
   "id": "e334e666",
   "metadata": {
    "tags": [
     "solution"
    ]
   },
   "outputs": [],
   "source": []
  },
  {
   "cell_type": "code",
   "execution_count": null,
   "id": "c24a122c",
   "metadata": {
    "tags": [
     "solution"
    ]
   },
   "outputs": [],
   "source": []
  },
  {
   "cell_type": "code",
   "execution_count": null,
   "id": "177565c8",
   "metadata": {
    "tags": [
     "solution"
    ]
   },
   "outputs": [],
   "source": []
  },
  {
   "cell_type": "code",
   "execution_count": null,
   "id": "ee65a2e8",
   "metadata": {
    "tags": [
     "solution"
    ]
   },
   "outputs": [],
   "source": []
  },
  {
   "cell_type": "code",
   "execution_count": null,
   "id": "25345394",
   "metadata": {
    "tags": [
     "solution"
    ]
   },
   "outputs": [],
   "source": []
  },
  {
   "cell_type": "markdown",
   "id": "56db1ff6",
   "metadata": {},
   "source": [
    "\n",
    "Schreiben Sie eine Funktion `spiele_eine_runde_knobeln()`, die die Auswahl\n",
    "von Spieler 1 und Spieler 2 vom Terminal einliest und dann auf dem\n",
    "Bildschirm ausgibt, wer gewonnen hat.\n",
    "\n",
    "(Das ist natürlich kein benutzbares Spiel, da Spieler 2 sehen kann,\n",
    "was Spieler 1 gewählt hat.)"
   ]
  },
  {
   "cell_type": "code",
   "execution_count": null,
   "id": "c44bd1e5",
   "metadata": {
    "tags": [
     "solution"
    ]
   },
   "outputs": [],
   "source": []
  },
  {
   "cell_type": "markdown",
   "id": "60e5c481",
   "metadata": {},
   "source": [
    "Testen Sie die Funktion `spiele_eine_runde_knobeln()` interaktiv."
   ]
  },
  {
   "cell_type": "code",
   "execution_count": null,
   "id": "b7bb91eb",
   "metadata": {
    "tags": [
     "solution"
    ]
   },
   "outputs": [],
   "source": []
  },
  {
   "cell_type": "markdown",
   "id": "cf5a588a",
   "metadata": {},
   "source": [
    "\n",
    "Schreiben Sie eine Funktion `spiele_knobeln()`, die zwei Spieler so lange\n",
    "gegeneinader knobeln lässt, bis ein Spieler 3 Spiele mehr gewonnen hat als\n",
    "der andere (z.B. wenn der erste Spieler 2 Spiele gewonnen hat, der zweite\n",
    "Spieler 5)."
   ]
  },
  {
   "cell_type": "code",
   "execution_count": null,
   "id": "b8093d49",
   "metadata": {
    "lines_to_next_cell": 2,
    "tags": [
     "solution"
    ]
   },
   "outputs": [],
   "source": []
  },
  {
   "cell_type": "code",
   "execution_count": null,
   "id": "65022162",
   "metadata": {
    "tags": [
     "solution"
    ]
   },
   "outputs": [],
   "source": []
  }
 ],
 "metadata": {
  "jupytext": {
   "encoding": "# -*- coding: utf-8 -*-",
   "formats": "ipynb"
  },
  "kernelspec": {
   "display_name": "Python 3 (ipykernel)",
   "language": "python",
   "name": "python3"
  }
 },
 "nbformat": 4,
 "nbformat_minor": 5
}
