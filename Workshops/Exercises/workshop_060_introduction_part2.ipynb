{
 "cells": [
  {
   "cell_type": "markdown",
   "id": "e421e2fd",
   "metadata": {},
   "source": [
    "# Operatoren, Vergleiche\n",
    "\n",
    "Ist $2^{16}$ größer als $32\\,000\\,\\,/\\,\\,2$?"
   ]
  },
  {
   "cell_type": "code",
   "execution_count": null,
   "id": "600c5868",
   "metadata": {
    "tags": [
     "solution"
    ]
   },
   "outputs": [],
   "source": []
  },
  {
   "cell_type": "markdown",
   "id": "7317e3c0",
   "metadata": {},
   "source": [
    "Ist $72$ ohne Rest durch $3$ teilbar?"
   ]
  },
  {
   "cell_type": "code",
   "execution_count": null,
   "id": "f5b7b743",
   "metadata": {
    "tags": [
     "solution"
    ]
   },
   "outputs": [],
   "source": []
  },
  {
   "cell_type": "markdown",
   "id": "9716c434",
   "metadata": {},
   "source": [
    "Ist $72$ eine gerade Zahl (d.h. ohne Rest durch 2 teilbar)?"
   ]
  },
  {
   "cell_type": "code",
   "execution_count": null,
   "id": "1bfbf139",
   "metadata": {
    "tags": [
     "solution"
    ]
   },
   "outputs": [],
   "source": []
  },
  {
   "cell_type": "markdown",
   "id": "93505c99",
   "metadata": {},
   "source": [
    "\n",
    "Schreiben Sie eine Funktion `ist_teilbar_durch(m, n)` die ( genau dann)\n",
    "`True` zurückgibt, wenn `m` durch `n` teilbar ist"
   ]
  },
  {
   "cell_type": "code",
   "execution_count": null,
   "id": "9dc76293",
   "metadata": {
    "tags": [
     "solution"
    ]
   },
   "outputs": [],
   "source": []
  },
  {
   "cell_type": "markdown",
   "id": "84d5bf65",
   "metadata": {},
   "source": [
    "\n",
    "Schreiben Sie eine Funktion `ist_teilbar_durch_2_und_3(n)`, die genau dann\n",
    "`True` zurückgibt, wenn `n` ohne Rest durch $2$ und durch $3$ teilbar ist."
   ]
  },
  {
   "cell_type": "code",
   "execution_count": null,
   "id": "fa670527",
   "metadata": {
    "tags": [
     "solution"
    ]
   },
   "outputs": [],
   "source": []
  },
  {
   "cell_type": "code",
   "execution_count": null,
   "id": "097f13f7",
   "metadata": {
    "tags": [
     "solution"
    ]
   },
   "outputs": [],
   "source": []
  },
  {
   "cell_type": "markdown",
   "id": "7008ef81",
   "metadata": {},
   "source": [
    "Testen Sie, ob $72$ durch $2$ und durch $3$ teilbar ist."
   ]
  },
  {
   "cell_type": "code",
   "execution_count": null,
   "id": "6be917c4",
   "metadata": {
    "tags": [
     "solution"
    ]
   },
   "outputs": [],
   "source": []
  },
  {
   "cell_type": "markdown",
   "id": "b43a1e3d",
   "metadata": {},
   "source": [
    "# Volljährig\n",
    "\n",
    "Schreiben Sie eine Funktion `drucke_volljährig(alter)`, die `Volljährig`\n",
    "auf dem Bildschirm ausgibt, wenn `alter >= 18` ist und `Minderjährig` sonst."
   ]
  },
  {
   "cell_type": "code",
   "execution_count": null,
   "id": "55a800e0",
   "metadata": {
    "tags": [
     "solution"
    ]
   },
   "outputs": [],
   "source": []
  },
  {
   "cell_type": "markdown",
   "id": "27c48b78",
   "metadata": {},
   "source": [
    "Testen Sie `drucke_volljährig(alter)` mit den Werten 17 und 18."
   ]
  },
  {
   "cell_type": "code",
   "execution_count": null,
   "id": "1a35c32c",
   "metadata": {
    "tags": [
     "solution"
    ]
   },
   "outputs": [],
   "source": []
  },
  {
   "cell_type": "markdown",
   "id": "2d3a85e6",
   "metadata": {},
   "source": [
    "# Einkaufsliste\n",
    "\n",
    "Definieren Sie Variablen\n",
    "- `meine_einkaufsliste`, die eine Liste mit den Strings `Tee` und `Kaffee`\n",
    "  enthält,\n",
    "- `eine_andere_einkaufsliste`, die ebenfalls eine Liste mit den Strings\n",
    "  `Tee` und `Kaffee` enthält."
   ]
  },
  {
   "cell_type": "code",
   "execution_count": null,
   "id": "3cb56a1e",
   "metadata": {
    "tags": [
     "solution"
    ]
   },
   "outputs": [],
   "source": []
  },
  {
   "cell_type": "markdown",
   "id": "9ee24eb6",
   "metadata": {},
   "source": [
    "\n",
    "Definieren Sie eine Funktion `drucke_einkaufsliste(einkaufsliste)`, die die\n",
    "als Argument übergebene Einkaufsliste ausdruckt:\n",
    "\n",
    "```\n",
    "Einkaufsliste:\n",
    "  Tee\n",
    "  Kaffee\n",
    "```"
   ]
  },
  {
   "cell_type": "code",
   "execution_count": null,
   "id": "2a037c1f",
   "metadata": {
    "tags": [
     "solution"
    ]
   },
   "outputs": [],
   "source": []
  },
  {
   "cell_type": "markdown",
   "id": "40af317e",
   "metadata": {},
   "source": [
    "\n",
    "Testen Sie die Funktion `drucke_einkaufsliste(einkaufsliste)` mit beiden\n",
    "Einkaufslisten."
   ]
  },
  {
   "cell_type": "code",
   "execution_count": null,
   "id": "b9a7f4a4",
   "metadata": {
    "tags": [
     "solution"
    ]
   },
   "outputs": [],
   "source": []
  },
  {
   "cell_type": "code",
   "execution_count": null,
   "id": "97150c8c",
   "metadata": {
    "tags": [
     "solution"
    ]
   },
   "outputs": [],
   "source": []
  },
  {
   "cell_type": "markdown",
   "id": "4fe13137",
   "metadata": {},
   "source": [
    "Definieren Sie eine Funktion `kaufe(produkt, einkaufsliste)`, das `produkt`\n",
    "zu  `einkaufsliste` hinzufügt."
   ]
  },
  {
   "cell_type": "code",
   "execution_count": null,
   "id": "d7aed508",
   "metadata": {
    "tags": [
     "solution"
    ]
   },
   "outputs": [],
   "source": []
  },
  {
   "cell_type": "markdown",
   "id": "a3990674",
   "metadata": {},
   "source": [
    "Fügen Sie `Butter` und `Brot` zur Einkaufsliste `meine_einkaufsliste` hinzu."
   ]
  },
  {
   "cell_type": "code",
   "execution_count": null,
   "id": "bf15a0c7",
   "metadata": {
    "tags": [
     "solution"
    ]
   },
   "outputs": [],
   "source": []
  },
  {
   "cell_type": "markdown",
   "id": "af47b1cc",
   "metadata": {},
   "source": [
    "Drucken Sie beide Einkauslisten nochmal aus."
   ]
  },
  {
   "cell_type": "code",
   "execution_count": null,
   "id": "e5e618de",
   "metadata": {
    "tags": [
     "solution"
    ]
   },
   "outputs": [],
   "source": []
  },
  {
   "cell_type": "code",
   "execution_count": null,
   "id": "5f9aabc5",
   "metadata": {
    "tags": [
     "solution"
    ]
   },
   "outputs": [],
   "source": []
  },
  {
   "cell_type": "markdown",
   "id": "4a04e10c",
   "metadata": {},
   "source": [
    "Was passiert, wenn Sie `Butter` und `Brot` nochmals zur Einkaufsliste\n",
    "`meine_einkaufsliste` hinzufügen?"
   ]
  },
  {
   "cell_type": "code",
   "execution_count": null,
   "id": "e6097af4",
   "metadata": {
    "tags": [
     "solution"
    ]
   },
   "outputs": [],
   "source": []
  },
  {
   "cell_type": "markdown",
   "id": "08bdce6e",
   "metadata": {},
   "source": [
    "# Ausgabe von Quadratzahlen\n",
    "\n",
    "Schreiben Sie eine Funktion `drucke_quadrate(m, n)`, die die Quadrate der\n",
    "Zahlen zwischen `m` und `n` (einschließlich) in der folgenden Form ausgibt:\n",
    "\n",
    "```\n",
    "Das Quadrat von 5 ist 25\n",
    "Das Quadrat von 6 ist 36\n",
    "Das Quadrat von 7 ist 49\n",
    "```"
   ]
  },
  {
   "cell_type": "code",
   "execution_count": null,
   "id": "845ff086",
   "metadata": {
    "tags": [
     "solution"
    ]
   },
   "outputs": [],
   "source": []
  },
  {
   "cell_type": "markdown",
   "id": "e63a578f",
   "metadata": {},
   "source": [
    "Testen Sie die Funktion mit Argumenten 5, 7"
   ]
  },
  {
   "cell_type": "code",
   "execution_count": null,
   "id": "4d74feed",
   "metadata": {
    "tags": [
     "solution"
    ]
   },
   "outputs": [],
   "source": []
  },
  {
   "cell_type": "markdown",
   "id": "44987d6f",
   "metadata": {},
   "source": [
    "# Verbesserte Einkaufsliste\n",
    "\n",
    "In dieser Aufgabe wollen wir eine verbesserte Version der Einkaufsliste\n",
    "definieren, in der sowohl die Einkaufsliste als auch die Einträge durch\n",
    "benutzerdefinierte Datentypen repräsentiert werden. Jeder Eintrag soll das\n",
    "Produkt und die davon benötigte Menge enthalten.\n",
    "\n",
    "Definieren Sie eine Klasse `Item`, die Attribute für das Produkt und Menge\n",
    "hat. `Item` soll eine `__repr__`-Methode haben, die das Item in einer\n",
    "angemessenen Form darstellt."
   ]
  },
  {
   "cell_type": "code",
   "execution_count": null,
   "id": "66482caf",
   "metadata": {
    "tags": [
     "solution"
    ]
   },
   "outputs": [],
   "source": []
  },
  {
   "cell_type": "markdown",
   "id": "35ba6a23",
   "metadata": {},
   "source": [
    "Erzeugen sie ein Item, das 500g Kaffee repräsentiert:"
   ]
  },
  {
   "cell_type": "code",
   "execution_count": null,
   "id": "0f9a3f80",
   "metadata": {
    "tags": [
     "solution"
    ]
   },
   "outputs": [],
   "source": []
  },
  {
   "cell_type": "markdown",
   "id": "4331a4c2",
   "metadata": {},
   "source": [
    "Definieren Sie eine Klasse `ShoppingList`, die eine Liste von `Item`-Instanzen\n",
    "beinhaltet:\n",
    "\n",
    "- Der Konstruktor `__init__(self, items=[])` erzeugt eine Einkaufsliste,\n",
    "  die die Einträge `items` enthält (jedes Element von `items` soll eine\n",
    "  `Item`-Instanz sein).\n",
    "\n",
    "- Die Methode `shopping_list.add_item(item: Item)` fügt ein `Item` zur\n",
    "  Einkaufsliste `shopping_list` hinzu.\n",
    "\n",
    "- Die Methode `print()` druckt die Einkaufsliste aus.\n",
    "\n",
    "`ShoppingList` soll eine `__repr__`-Methode haben, die die Einkaufsliste in\n",
    "  einer geeigneten Form darstellt."
   ]
  },
  {
   "cell_type": "code",
   "execution_count": null,
   "id": "6fee282b",
   "metadata": {
    "tags": [
     "solution"
    ]
   },
   "outputs": [],
   "source": []
  },
  {
   "cell_type": "markdown",
   "id": "6cf2ca8a",
   "metadata": {},
   "source": [
    "Definieren Sie Variable `meine_einkaufsliste`, die eine Einkaufsliste mit\n",
    "folgenden Items repräsentiert:\n",
    "- 2 Pakete Tee,\n",
    "- 1 Paket Kaffee"
   ]
  },
  {
   "cell_type": "code",
   "execution_count": null,
   "id": "9dfc6d4d",
   "metadata": {
    "tags": [
     "solution"
    ]
   },
   "outputs": [],
   "source": []
  },
  {
   "cell_type": "markdown",
   "id": "95c2587b",
   "metadata": {},
   "source": [
    "Drucken Sie `meine_einkaufsliste` aus."
   ]
  },
  {
   "cell_type": "code",
   "execution_count": null,
   "id": "a3d0618e",
   "metadata": {
    "tags": [
     "solution"
    ]
   },
   "outputs": [],
   "source": []
  },
  {
   "cell_type": "code",
   "execution_count": null,
   "id": "3139eb76",
   "metadata": {
    "tags": [
     "solution"
    ]
   },
   "outputs": [],
   "source": []
  },
  {
   "cell_type": "markdown",
   "id": "4f3aeb81",
   "metadata": {},
   "source": [
    "Fügen Sie  250 g Butter und  1 Laib Brot zur Einkaufsliste\n",
    "`meine_einkaufsliste` hinzu."
   ]
  },
  {
   "cell_type": "code",
   "execution_count": null,
   "id": "d696e8ef",
   "metadata": {
    "tags": [
     "solution"
    ]
   },
   "outputs": [],
   "source": []
  },
  {
   "cell_type": "markdown",
   "id": "59541e58",
   "metadata": {},
   "source": [
    "Drucken Sie die Einkaufsliste nochmal aus."
   ]
  },
  {
   "cell_type": "code",
   "execution_count": null,
   "id": "089e8f12",
   "metadata": {
    "tags": [
     "solution"
    ]
   },
   "outputs": [],
   "source": []
  },
  {
   "cell_type": "markdown",
   "id": "4710fa8e",
   "metadata": {},
   "source": [
    "Was passiert, wenn Sie `Butter` und `Brot` nochmals zur Einkaufsliste\n",
    "`meine_einkaufsliste` hinzufügen?"
   ]
  },
  {
   "cell_type": "code",
   "execution_count": null,
   "id": "dbe6b609",
   "metadata": {
    "tags": [
     "solution"
    ]
   },
   "outputs": [],
   "source": []
  },
  {
   "cell_type": "code",
   "execution_count": null,
   "id": "a8a9a67d",
   "metadata": {
    "tags": [
     "solution"
    ]
   },
   "outputs": [],
   "source": []
  }
 ],
 "metadata": {
  "jupytext": {
   "encoding": "# -*- coding: utf-8 -*-",
   "formats": "ipynb"
  },
  "kernelspec": {
   "display_name": "Python 3 (ipykernel)",
   "language": "python",
   "name": "python3"
  }
 },
 "nbformat": 4,
 "nbformat_minor": 5
}
