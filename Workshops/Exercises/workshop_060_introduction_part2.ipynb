{
 "cells": [
  {
   "cell_type": "markdown",
   "id": "31342949",
   "metadata": {},
   "source": [
    "# Operatoren, Vergleiche\n",
    "\n",
    "Ist $2^{16}$ größer als $32\\,000\\,\\,/\\,\\,2$?"
   ]
  },
  {
   "cell_type": "code",
   "execution_count": null,
   "id": "2465254d",
   "metadata": {
    "tags": [
     "solution"
    ]
   },
   "outputs": [],
   "source": []
  },
  {
   "cell_type": "markdown",
   "id": "d5d70d91",
   "metadata": {},
   "source": [
    "Ist $72$ ohne Rest durch $3$ teilbar?"
   ]
  },
  {
   "cell_type": "code",
   "execution_count": null,
   "id": "f3f1f680",
   "metadata": {
    "tags": [
     "solution"
    ]
   },
   "outputs": [],
   "source": []
  },
  {
   "cell_type": "markdown",
   "id": "80aa779d",
   "metadata": {},
   "source": [
    "Ist $72$ eine gerade Zahl (d.h. ohne Rest durch 2 teilbar)?"
   ]
  },
  {
   "cell_type": "code",
   "execution_count": null,
   "id": "2e49d20e",
   "metadata": {
    "tags": [
     "solution"
    ]
   },
   "outputs": [],
   "source": []
  },
  {
   "cell_type": "markdown",
   "id": "988c69d1",
   "metadata": {},
   "source": [
    "\n",
    "Schreiben Sie eine Funktion `ist_teilbar_durch(m, n)` die ( genau dann)\n",
    "`True` zurückgibt, wenn `m` durch `n` teilbar ist"
   ]
  },
  {
   "cell_type": "code",
   "execution_count": null,
   "id": "a6fe7cbc",
   "metadata": {
    "tags": [
     "solution"
    ]
   },
   "outputs": [],
   "source": []
  },
  {
   "cell_type": "markdown",
   "id": "e62842ce",
   "metadata": {},
   "source": [
    "\n",
    "Schreiben Sie eine Funktion `ist_teilbar_durch_2_und_3(n)`, die genau dann\n",
    "`True` zurückgibt, wenn `n` ohne Rest durch $2$ und durch $3$ teilbar ist."
   ]
  },
  {
   "cell_type": "code",
   "execution_count": null,
   "id": "8a9f0760",
   "metadata": {
    "tags": [
     "solution"
    ]
   },
   "outputs": [],
   "source": []
  },
  {
   "cell_type": "code",
   "execution_count": null,
   "id": "9d89d656",
   "metadata": {
    "tags": [
     "solution"
    ]
   },
   "outputs": [],
   "source": []
  },
  {
   "cell_type": "markdown",
   "id": "02b5f326",
   "metadata": {},
   "source": [
    "Testen Sie, ob $72$ durch $2$ und durch $3$ teilbar ist."
   ]
  },
  {
   "cell_type": "code",
   "execution_count": null,
   "id": "4b13b7a7",
   "metadata": {
    "tags": [
     "solution"
    ]
   },
   "outputs": [],
   "source": []
  },
  {
   "cell_type": "markdown",
   "id": "6020a671",
   "metadata": {},
   "source": [
    "# Volljährig\n",
    "\n",
    "Schreiben Sie eine Funktion `drucke_volljährig(alter)`, die `Volljährig`\n",
    "auf dem Bildschirm ausgibt, wenn `alter >= 18` ist und `Minderjährig` sonst."
   ]
  },
  {
   "cell_type": "code",
   "execution_count": null,
   "id": "aefcf8c5",
   "metadata": {
    "tags": [
     "solution"
    ]
   },
   "outputs": [],
   "source": []
  },
  {
   "cell_type": "markdown",
   "id": "c10dda4e",
   "metadata": {},
   "source": [
    "Testen Sie `drucke_volljährig(alter)` mit den Werten 17 und 18."
   ]
  },
  {
   "cell_type": "code",
   "execution_count": null,
   "id": "7447e858",
   "metadata": {
    "tags": [
     "solution"
    ]
   },
   "outputs": [],
   "source": []
  },
  {
   "cell_type": "markdown",
   "id": "a7d9287f",
   "metadata": {},
   "source": [
    "# Einkaufsliste\n",
    "\n",
    "Definieren Sie Variablen\n",
    "- `meine_einkaufsliste`, die eine Liste mit den Strings `Tee` und `Kaffee`\n",
    "  enthält,\n",
    "- `eine_andere_einkaufsliste`, die ebenfalls eine Liste mit den Strings\n",
    "  `Tee` und `Kaffee` enthält."
   ]
  },
  {
   "cell_type": "code",
   "execution_count": null,
   "id": "259e7703",
   "metadata": {
    "tags": [
     "solution"
    ]
   },
   "outputs": [],
   "source": []
  },
  {
   "cell_type": "markdown",
   "id": "4e613b2f",
   "metadata": {},
   "source": [
    "\n",
    "Definieren Sie eine Funktion `drucke_einkaufsliste(einkaufsliste)`, die die\n",
    "als Argument übergebene Einkaufsliste ausdruckt:\n",
    "\n",
    "```\n",
    "Einkaufsliste:\n",
    "  Tee\n",
    "  Kaffee\n",
    "```"
   ]
  },
  {
   "cell_type": "code",
   "execution_count": null,
   "id": "9bb5fc01",
   "metadata": {
    "tags": [
     "solution"
    ]
   },
   "outputs": [],
   "source": []
  },
  {
   "cell_type": "markdown",
   "id": "0e6b85c8",
   "metadata": {},
   "source": [
    "\n",
    "Testen Sie die Funktion `drucke_einkaufsliste(einkaufsliste)` mit beiden\n",
    "Einkaufslisten."
   ]
  },
  {
   "cell_type": "code",
   "execution_count": null,
   "id": "0e8c5786",
   "metadata": {
    "tags": [
     "solution"
    ]
   },
   "outputs": [],
   "source": []
  },
  {
   "cell_type": "code",
   "execution_count": null,
   "id": "d598cfeb",
   "metadata": {
    "tags": [
     "solution"
    ]
   },
   "outputs": [],
   "source": []
  },
  {
   "cell_type": "markdown",
   "id": "4ec76bed",
   "metadata": {},
   "source": [
    "Definieren Sie eine Funktion `kaufe(produkt, einkaufsliste)`, das `produkt`\n",
    "zu  `einkaufsliste` hinzufügt."
   ]
  },
  {
   "cell_type": "code",
   "execution_count": null,
   "id": "dbad76f8",
   "metadata": {
    "tags": [
     "solution"
    ]
   },
   "outputs": [],
   "source": []
  },
  {
   "cell_type": "markdown",
   "id": "16fbf160",
   "metadata": {},
   "source": [
    "Fügen Sie `Butter` und `Brot` zur Einkaufsliste `meine_einkaufsliste` hinzu."
   ]
  },
  {
   "cell_type": "code",
   "execution_count": null,
   "id": "30755c81",
   "metadata": {
    "tags": [
     "solution"
    ]
   },
   "outputs": [],
   "source": []
  },
  {
   "cell_type": "markdown",
   "id": "cb7222ef",
   "metadata": {},
   "source": [
    "Drucken Sie beide Einkauslisten nochmal aus."
   ]
  },
  {
   "cell_type": "code",
   "execution_count": null,
   "id": "92db7f37",
   "metadata": {
    "tags": [
     "solution"
    ]
   },
   "outputs": [],
   "source": []
  },
  {
   "cell_type": "code",
   "execution_count": null,
   "id": "5bc1e127",
   "metadata": {
    "tags": [
     "solution"
    ]
   },
   "outputs": [],
   "source": []
  },
  {
   "cell_type": "markdown",
   "id": "3fa92850",
   "metadata": {},
   "source": [
    "Was passiert, wenn Sie `Butter` und `Brot` nochmals zur Einkaufsliste\n",
    "`meine_einkaufsliste` hinzufügen?"
   ]
  },
  {
   "cell_type": "code",
   "execution_count": null,
   "id": "255961b9",
   "metadata": {
    "tags": [
     "solution"
    ]
   },
   "outputs": [],
   "source": []
  },
  {
   "cell_type": "markdown",
   "id": "ba72191c",
   "metadata": {},
   "source": [
    "# Ausgabe von Quadratzahlen\n",
    "\n",
    "Schreiben Sie eine Funktion `drucke_quadrate(m, n)`, die die Quadrate der\n",
    "Zahlen zwischen `m` und `n` (einschließlich) in der folgenden Form ausgibt:\n",
    "\n",
    "```\n",
    "Das Quadrat von 5 ist 25\n",
    "Das Quadrat von 6 ist 36\n",
    "Das Quadrat von 7 ist 49\n",
    "```"
   ]
  },
  {
   "cell_type": "code",
   "execution_count": null,
   "id": "dca2a3e0",
   "metadata": {
    "tags": [
     "solution"
    ]
   },
   "outputs": [],
   "source": []
  },
  {
   "cell_type": "markdown",
   "id": "40a9d6ef",
   "metadata": {},
   "source": [
    "Testen Sie die Funktion mit Argumenten 5, 7"
   ]
  },
  {
   "cell_type": "code",
   "execution_count": null,
   "id": "e85c19bf",
   "metadata": {
    "tags": [
     "solution"
    ]
   },
   "outputs": [],
   "source": []
  },
  {
   "cell_type": "markdown",
   "id": "6bfcd37d",
   "metadata": {},
   "source": [
    "# Verbesserte Einkaufsliste\n",
    "\n",
    "In dieser Aufgabe wollen wir eine verbesserte Version der Einkaufsliste\n",
    "definieren, in der sowohl die Einkaufsliste als auch die Einträge durch\n",
    "benutzerdefinierte Datentypen repräsentiert werden. Jeder Eintrag soll das\n",
    "Produkt und die davon benötigte Menge enthalten.\n",
    "\n",
    "Definieren Sie eine Klasse `Item`, die Attribute für das Produkt und Menge\n",
    "hat. `Item` soll eine `__repr__`-Methode haben, die das Item in einer\n",
    "angemessenen Form darstellt."
   ]
  },
  {
   "cell_type": "code",
   "execution_count": null,
   "id": "eeb3262a",
   "metadata": {
    "tags": [
     "solution"
    ]
   },
   "outputs": [],
   "source": []
  },
  {
   "cell_type": "markdown",
   "id": "87ec48e4",
   "metadata": {},
   "source": [
    "Erzeugen sie ein Item, das 500g Kaffee repräsentiert:"
   ]
  },
  {
   "cell_type": "code",
   "execution_count": null,
   "id": "20abc78d",
   "metadata": {
    "tags": [
     "solution"
    ]
   },
   "outputs": [],
   "source": []
  },
  {
   "cell_type": "markdown",
   "id": "13955c88",
   "metadata": {},
   "source": [
    "Definieren Sie eine Klasse `ShoppingList`, die eine Liste von `Item`-Instanzen\n",
    "beinhaltet:\n",
    "\n",
    "- Der Konstruktor `__init__(self, items=[])` erzeugt eine Einkaufsliste,\n",
    "  die die Einträge `items` enthält (jedes Element von `items` soll eine\n",
    "  `Item`-Instanz sein).\n",
    "\n",
    "- Die Methode `shopping_list.add_item(item: Item)` fügt ein `Item` zur\n",
    "  Einkaufsliste `shopping_list` hinzu.\n",
    "\n",
    "- Die Methode `print()` druckt die Einkaufsliste aus.\n",
    "\n",
    "`ShoppingList` soll eine `__repr__`-Methode haben, die die Einkaufsliste in\n",
    "  einer geeigneten Form darstellt."
   ]
  },
  {
   "cell_type": "code",
   "execution_count": null,
   "id": "af2a6fc1",
   "metadata": {
    "tags": [
     "solution"
    ]
   },
   "outputs": [],
   "source": []
  },
  {
   "cell_type": "markdown",
   "id": "98a81744",
   "metadata": {},
   "source": [
    "Definieren Sie Variable `meine_einkaufsliste`, die eine Einkaufsliste mit\n",
    "folgenden Items repräsentiert:\n",
    "- 2 Pakete Tee,\n",
    "- 1 Paket Kaffee"
   ]
  },
  {
   "cell_type": "code",
   "execution_count": null,
   "id": "2e47bf5d",
   "metadata": {
    "tags": [
     "solution"
    ]
   },
   "outputs": [],
   "source": []
  },
  {
   "cell_type": "markdown",
   "id": "9d86c27c",
   "metadata": {},
   "source": [
    "Drucken Sie `meine_einkaufsliste` aus."
   ]
  },
  {
   "cell_type": "code",
   "execution_count": null,
   "id": "2f9b7d48",
   "metadata": {
    "tags": [
     "solution"
    ]
   },
   "outputs": [],
   "source": []
  },
  {
   "cell_type": "code",
   "execution_count": null,
   "id": "7e5f546e",
   "metadata": {
    "tags": [
     "solution"
    ]
   },
   "outputs": [],
   "source": []
  },
  {
   "cell_type": "markdown",
   "id": "d2977e2c",
   "metadata": {},
   "source": [
    "Fügen Sie  250 g Butter und  1 Laib Brot zur Einkaufsliste\n",
    "`meine_einkaufsliste` hinzu."
   ]
  },
  {
   "cell_type": "code",
   "execution_count": null,
   "id": "a4e6639e",
   "metadata": {
    "tags": [
     "solution"
    ]
   },
   "outputs": [],
   "source": []
  },
  {
   "cell_type": "markdown",
   "id": "106b8ad7",
   "metadata": {},
   "source": [
    "Drucken Sie die Einkaufsliste nochmal aus."
   ]
  },
  {
   "cell_type": "code",
   "execution_count": null,
   "id": "95ccc8e7",
   "metadata": {
    "tags": [
     "solution"
    ]
   },
   "outputs": [],
   "source": []
  },
  {
   "cell_type": "markdown",
   "id": "83596bd7",
   "metadata": {},
   "source": [
    "Was passiert, wenn Sie `Butter` und `Brot` nochmals zur Einkaufsliste\n",
    "`meine_einkaufsliste` hinzufügen?"
   ]
  },
  {
   "cell_type": "code",
   "execution_count": null,
   "id": "44182a73",
   "metadata": {
    "tags": [
     "solution"
    ]
   },
   "outputs": [],
   "source": []
  },
  {
   "cell_type": "code",
   "execution_count": null,
   "id": "39cf1f58",
   "metadata": {
    "tags": [
     "solution"
    ]
   },
   "outputs": [],
   "source": []
  }
 ],
 "metadata": {
  "jupytext": {
   "encoding": "# -*- coding: utf-8 -*-",
   "formats": "ipynb"
  },
  "kernelspec": {
   "display_name": "Python 3 (ipykernel)",
   "language": "python",
   "name": "python3"
  }
 },
 "nbformat": 4,
 "nbformat_minor": 5
}
