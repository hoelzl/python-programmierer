{
 "cells": [
  {
   "cell_type": "code",
   "execution_count": null,
   "id": "bb018be1",
   "metadata": {},
   "outputs": [],
   "source": []
  },
  {
   "cell_type": "markdown",
   "id": "06d5bf50",
   "metadata": {},
   "source": [
    "\n",
    "# Kraftfahrzeuge (Teil 1)\n",
    "\n",
    "Definieren Sie eine Klasse `Kfz`, deren Instanzen Kraftfahrzeuge beschreiben.\n",
    "Jedes KFZ soll Attribute `hersteller` und `kennzeichen` haben."
   ]
  },
  {
   "cell_type": "code",
   "execution_count": null,
   "id": "4759f835",
   "metadata": {
    "tags": [
     "solution"
    ]
   },
   "outputs": [],
   "source": []
  },
  {
   "cell_type": "markdown",
   "id": "31204886",
   "metadata": {},
   "source": [
    "\n",
    "Erzeugen Sie zwei Kraftfahrzeuge:\n",
    "- einen BMW mit Kennzeichen \"M-BW 123\"\n",
    "- einen VW mit Kennzeichen \"WOB-VW 246\"\n",
    "und speichern Sie sie in Variablen `bmw` und `vw`"
   ]
  },
  {
   "cell_type": "code",
   "execution_count": null,
   "id": "2775ef44",
   "metadata": {
    "tags": [
     "solution"
    ]
   },
   "outputs": [],
   "source": []
  },
  {
   "cell_type": "markdown",
   "id": "0e7fde55",
   "metadata": {},
   "source": [
    "\n",
    "Erzeugen Sie eine neue Instanz von `Kfz` mit Hersteller BMW und Kennzeichen\n",
    "\"M-BW 123\" und speichern Sie sie in einer Variablen `bmw2`."
   ]
  },
  {
   "cell_type": "code",
   "execution_count": null,
   "id": "b5340efe",
   "metadata": {
    "tags": [
     "solution"
    ]
   },
   "outputs": [],
   "source": []
  },
  {
   "cell_type": "markdown",
   "id": "d36ddf83",
   "metadata": {},
   "source": [
    "\n",
    "Wie können Sie feststellen, ob `bmw` und `bmw2` (bzw. `bmw` und `vw`) das\n",
    "gleiche Fahrzeug beschreiben?"
   ]
  },
  {
   "cell_type": "code",
   "execution_count": null,
   "id": "113bf3d0",
   "metadata": {
    "tags": [
     "solution"
    ]
   },
   "outputs": [],
   "source": []
  },
  {
   "cell_type": "code",
   "execution_count": null,
   "id": "3673e79c",
   "metadata": {
    "tags": [
     "solution"
    ]
   },
   "outputs": [],
   "source": []
  },
  {
   "cell_type": "markdown",
   "id": "1bfb5f40",
   "metadata": {},
   "source": [
    "\n",
    "# Kraftfahrzeuge (Teil 2)\n",
    "\n",
    "Erweitern Sie die Klasse `Kfz` um eine Methode `melde_um(self,\n",
    "neues_kennzeichen)`, die das Kennzeichen des Fahrzeugs ändert."
   ]
  },
  {
   "cell_type": "code",
   "execution_count": null,
   "id": "b9ae21f4",
   "metadata": {
    "tags": [
     "solution"
    ]
   },
   "outputs": [],
   "source": []
  },
  {
   "cell_type": "markdown",
   "id": "8226a3e5",
   "metadata": {},
   "source": [
    "\n",
    "Erzeugen Sie neue Instanzen von `bmw`, `bmw2` und `vw` wie in der obigen\n",
    "Aufgabe:"
   ]
  },
  {
   "cell_type": "code",
   "execution_count": null,
   "id": "1f140e55",
   "metadata": {
    "tags": [
     "solution"
    ]
   },
   "outputs": [],
   "source": []
  },
  {
   "cell_type": "markdown",
   "id": "96234b5f",
   "metadata": {},
   "source": [
    "\n",
    "Melden Sie den obern erzeugten VW um, so dass er das neue Kennzeichen \"BGL-A\n",
    "9\" hat. Wie können Sie feststellen ob das Ummelden die gewünschte Änderung\n",
    "hatte?"
   ]
  },
  {
   "cell_type": "code",
   "execution_count": null,
   "id": "c1df0020",
   "metadata": {
    "tags": [
     "solution"
    ]
   },
   "outputs": [],
   "source": []
  },
  {
   "cell_type": "code",
   "execution_count": null,
   "id": "4ff78c05",
   "metadata": {
    "tags": [
     "solution"
    ]
   },
   "outputs": [],
   "source": []
  },
  {
   "cell_type": "markdown",
   "id": "464096e5",
   "metadata": {},
   "source": [
    "\n",
    "Melden Sie den in `bmw` gespeicherten BMW um (mit Kennzeichen \"F-B 21\"). Wirkt\n",
    "sich die Änderung auf das in `bmw2` gespeicherte KFZ aus?"
   ]
  },
  {
   "cell_type": "code",
   "execution_count": null,
   "id": "ec98edea",
   "metadata": {
    "lines_to_next_cell": 2,
    "tags": [
     "solution"
    ]
   },
   "outputs": [],
   "source": []
  },
  {
   "cell_type": "markdown",
   "id": "91e97d0d",
   "metadata": {
    "lines_to_next_cell": 2
   },
   "source": [
    "\n",
    "# Kraftfahrzeuge (Teil 3)\n",
    "\n",
    "Verbessern Sie die Klasse `Kfz` indem Sie Methoden implementieren, die\n",
    "ein KFZ in einer geeigneten Form ausgeben.  Führen Sie die obigen Beispiele\n",
    "mit der verbesserten Klasse aus."
   ]
  },
  {
   "cell_type": "code",
   "execution_count": null,
   "id": "084a95c6",
   "metadata": {
    "tags": [
     "solution"
    ]
   },
   "outputs": [],
   "source": []
  },
  {
   "cell_type": "code",
   "execution_count": null,
   "id": "247d06ae",
   "metadata": {},
   "outputs": [],
   "source": [
    "bmw = Kfz(\"BMW\", \"M-BW 123\")\n",
    "bmw"
   ]
  },
  {
   "cell_type": "code",
   "execution_count": null,
   "id": "21bc0a23",
   "metadata": {},
   "outputs": [],
   "source": [
    "bmw2 = Kfz(\"BMW\", \"M-BW 123\")\n",
    "bmw2"
   ]
  },
  {
   "cell_type": "code",
   "execution_count": null,
   "id": "7b1fa84d",
   "metadata": {},
   "outputs": [],
   "source": [
    "vw = Kfz(\"VW\", \"WOB-VW 246\")\n",
    "vw"
   ]
  },
  {
   "cell_type": "code",
   "execution_count": null,
   "id": "3cb9c4be",
   "metadata": {
    "tags": [
     "solution"
    ]
   },
   "outputs": [],
   "source": []
  },
  {
   "cell_type": "code",
   "execution_count": null,
   "id": "b432c8af",
   "metadata": {
    "tags": [
     "solution"
    ]
   },
   "outputs": [],
   "source": []
  },
  {
   "cell_type": "code",
   "execution_count": null,
   "id": "3252097b",
   "metadata": {
    "tags": [
     "solution"
    ]
   },
   "outputs": [],
   "source": []
  },
  {
   "cell_type": "code",
   "execution_count": null,
   "id": "1c1544c9",
   "metadata": {},
   "outputs": [],
   "source": [
    "bmw2"
   ]
  },
  {
   "cell_type": "markdown",
   "id": "119d9fba",
   "metadata": {},
   "source": [
    "# Einkaufsliste\n",
    "\n",
    "In dieser Aufgabe wollen wir eine  Einkaufsliste definieren, die geplante\n",
    "Einkäufe verwalten kann. Eine Einkaufsliste soll aus Einträgen bestehen, die\n",
    "ein Produkt und die davon benötigte Menge enthalten.\n",
    "\n",
    "Es sollen sowohl die Einkaufsliste selber als auch die Einträge durch\n",
    "benutzerdefinierte Datentypen repräsentiert werden.\n",
    "\n",
    "Definieren Sie zunächst eine Klasse `Item`, die Attribute `product` und\n",
    "`amount` hat. Verwenden Sie dazu den `@dataclass` Decorator"
   ]
  },
  {
   "cell_type": "code",
   "execution_count": null,
   "id": "e0194b34",
   "metadata": {
    "tags": [
     "solution"
    ]
   },
   "outputs": [],
   "source": []
  },
  {
   "cell_type": "markdown",
   "id": "303893dc",
   "metadata": {},
   "source": [
    "Erzeugen sie ein Item, das 500g Kaffee repräsentiert:"
   ]
  },
  {
   "cell_type": "code",
   "execution_count": null,
   "id": "8d4592fc",
   "metadata": {
    "tags": [
     "solution"
    ]
   },
   "outputs": [],
   "source": []
  },
  {
   "cell_type": "markdown",
   "id": "2a09a796",
   "metadata": {},
   "source": [
    "\n",
    "Definieren Sie eine Klasse `ShoppingList`, die eine Liste von `Item`-Instanzen\n",
    "beinhaltet:\n",
    "\n",
    "- Verwenden Sie den `@dataclass` Decorator\n",
    "- Die Klasse hat ein Attribut `items` vom Typ `list` (oder `list[Item]`, falls\n",
    "  Sie Python 3.9 oder neuer verwenden), das mit einer leeren Liste\n",
    "  Initialisiert wird.\n",
    "- Die Methode `add_item(self, item: Item)` fügt ein `Item` zur Einkaufsliste\n",
    "  hinzu.\n",
    "\n",
    "Implementieren Sie eine\n",
    "[`__str__()`-Methode](https://docs.python.org/3/reference/datamodel.html#object.__str__),\n",
    "so dass das folgende Programm:\n",
    "\n",
    "```python\n",
    "meine_einkaufsliste = ShoppingList([Item('Tee', '2 Pakete'),\n",
    "                                    Item('Kaffee', '1 Paket')])\n",
    "print(str(meine_einkaufsliste))\n",
    "print(repr(meine_einkaufsliste))\n",
    "```\n",
    "\n",
    "Folgende Ausgabe erzeugt:\n",
    "\n",
    "```\n",
    "Einkaufsliste\n",
    "  Tee, (2 Pakete)\n",
    "  Kaffee, (1 Paket)\n",
    "\n",
    "ShoppingList(items=[Item(product='Tee', amount='2 Pakete'), Item(product='Kaffee', amount='1 Paket')])\n",
    "```\n",
    "\n",
    "Implementieren Sie eine Methode für `__len__()`, die die Länge der\n",
    "Einkaufsliste zurückgibt, und für `__getitem__()`, die den Zugriff auf\n",
    "Einträge über ihren numerischen Index erlaubt."
   ]
  },
  {
   "cell_type": "code",
   "execution_count": null,
   "id": "89050991",
   "metadata": {
    "tags": [
     "solution"
    ]
   },
   "outputs": [],
   "source": []
  },
  {
   "cell_type": "markdown",
   "id": "5efe519b",
   "metadata": {},
   "source": [
    "\n",
    "Definieren Sie Variable `meine_einkaufsliste`, die eine Einkaufsliste mit\n",
    "folgenden Items repräsentiert:\n",
    "- 2 Pakete Tee,\n",
    "- 1 Paket Kaffee"
   ]
  },
  {
   "cell_type": "code",
   "execution_count": null,
   "id": "f21f8bb4",
   "metadata": {
    "tags": [
     "solution"
    ]
   },
   "outputs": [],
   "source": []
  },
  {
   "cell_type": "markdown",
   "id": "e1c051f4",
   "metadata": {},
   "source": [
    "\n",
    "Drucken Sie `meine_einkaufsliste` aus."
   ]
  },
  {
   "cell_type": "code",
   "execution_count": null,
   "id": "68d07d27",
   "metadata": {
    "tags": [
     "solution"
    ]
   },
   "outputs": [],
   "source": []
  },
  {
   "cell_type": "markdown",
   "id": "08e526dd",
   "metadata": {},
   "source": [
    "\n",
    "Stellen Sie fest, wie lange `meine_einkaufsliste` ist und welches Element an\n",
    "Index 1 ist:"
   ]
  },
  {
   "cell_type": "code",
   "execution_count": null,
   "id": "dee6df71",
   "metadata": {
    "tags": [
     "solution"
    ]
   },
   "outputs": [],
   "source": []
  },
  {
   "cell_type": "markdown",
   "id": "39918154",
   "metadata": {},
   "source": [
    "\n",
    "Was ist der Effekt des follgenden Ausdrucks?\n",
    "```python\n",
    "  for item in meine_einkaufsliste:\n",
    "      print(item)\n",
    "```"
   ]
  },
  {
   "cell_type": "code",
   "execution_count": null,
   "id": "7ae06a6e",
   "metadata": {
    "tags": [
     "solution"
    ]
   },
   "outputs": [],
   "source": []
  },
  {
   "cell_type": "markdown",
   "id": "dc043078",
   "metadata": {},
   "source": [
    "\n",
    "Fügen Sie  250 g Butter und  1 Laib Brot zur Einkaufsliste\n",
    "`meine_einkaufsliste` hinzu."
   ]
  },
  {
   "cell_type": "code",
   "execution_count": null,
   "id": "7902793f",
   "metadata": {
    "tags": [
     "solution"
    ]
   },
   "outputs": [],
   "source": []
  },
  {
   "cell_type": "markdown",
   "id": "daf299bc",
   "metadata": {},
   "source": [
    "Drucken Sie die Einkaufsliste nochmal aus."
   ]
  },
  {
   "cell_type": "code",
   "execution_count": null,
   "id": "8da5c227",
   "metadata": {
    "tags": [
     "solution"
    ]
   },
   "outputs": [],
   "source": []
  },
  {
   "cell_type": "markdown",
   "id": "5df85df2",
   "metadata": {},
   "source": [
    "\n",
    "Was passiert, wenn Sie `Butter` und `Brot` nochmals zur Einkaufsliste\n",
    "`meine_einkaufsliste` hinzufügen?"
   ]
  },
  {
   "cell_type": "code",
   "execution_count": null,
   "id": "773be38e",
   "metadata": {
    "tags": [
     "solution"
    ]
   },
   "outputs": [],
   "source": []
  },
  {
   "cell_type": "code",
   "execution_count": null,
   "id": "8e2865f3",
   "metadata": {},
   "outputs": [],
   "source": []
  }
 ],
 "metadata": {
  "jupytext": {
   "encoding": "# -*- coding: utf-8 -*-",
   "formats": "ipynb"
  },
  "kernelspec": {
   "display_name": "Python 3 (ipykernel)",
   "language": "python",
   "name": "python3"
  }
 },
 "nbformat": 4,
 "nbformat_minor": 5
}
