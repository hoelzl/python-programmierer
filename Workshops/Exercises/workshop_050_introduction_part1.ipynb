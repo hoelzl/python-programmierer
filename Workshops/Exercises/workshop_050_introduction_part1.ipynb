{
 "cells": [
  {
   "cell_type": "markdown",
   "id": "b68d8bea",
   "metadata": {},
   "source": [
    "# Einleitung\n",
    "\n",
    "Wie können Sie den String `Hello, world!` in Python darstellen?"
   ]
  },
  {
   "cell_type": "code",
   "execution_count": null,
   "id": "9b61cbe9",
   "metadata": {
    "tags": [
     "solution"
    ]
   },
   "outputs": [],
   "source": []
  },
  {
   "cell_type": "markdown",
   "id": "b59e3485",
   "metadata": {},
   "source": [
    "Wie können Sie Ihren Namen als Text (String) in Python darstellen?"
   ]
  },
  {
   "cell_type": "code",
   "execution_count": null,
   "id": "e35296d4",
   "metadata": {
    "tags": [
     "solution"
    ]
   },
   "outputs": [],
   "source": []
  },
  {
   "cell_type": "markdown",
   "id": "81b6c157",
   "metadata": {},
   "source": [
    "Wie können Sie den String `Hello, World!` auf dem Bildschirm ausgeben?"
   ]
  },
  {
   "cell_type": "code",
   "execution_count": null,
   "id": "229d9989",
   "metadata": {
    "tags": [
     "solution"
    ]
   },
   "outputs": [],
   "source": []
  },
  {
   "cell_type": "markdown",
   "id": "ff4d27ce",
   "metadata": {},
   "source": [
    "Wie können Sie Ihren Namen auf dem Bildschirm ausgeben?"
   ]
  },
  {
   "cell_type": "code",
   "execution_count": null,
   "id": "7ce40288",
   "metadata": {
    "tags": [
     "solution"
    ]
   },
   "outputs": [],
   "source": []
  },
  {
   "cell_type": "markdown",
   "id": "d5b3410c",
   "metadata": {},
   "source": [
    "Wie können Sie\n",
    "\n",
    "```\n",
    "130 g   Mehl\n",
    "250 ml  Milch\n",
    "1 EL    Vanillezucker\n",
    "1 Prise Salz\n",
    "```\n",
    "\n",
    "auf dem Bildschirm ausgeben?"
   ]
  },
  {
   "cell_type": "code",
   "execution_count": null,
   "id": "83aced2f",
   "metadata": {
    "tags": [
     "solution"
    ]
   },
   "outputs": [],
   "source": []
  },
  {
   "cell_type": "code",
   "execution_count": null,
   "id": "eca1aea2",
   "metadata": {
    "tags": [
     "solution"
    ]
   },
   "outputs": [],
   "source": []
  },
  {
   "cell_type": "code",
   "execution_count": null,
   "id": "d263db95",
   "metadata": {
    "tags": [
     "solution"
    ]
   },
   "outputs": [],
   "source": []
  },
  {
   "cell_type": "markdown",
   "id": "0e9091d7",
   "metadata": {},
   "source": [
    "# Zahlen und Mathematik\n",
    "\n",
    "Wie können Sie die Zahl `32` in Python darstellen?"
   ]
  },
  {
   "cell_type": "code",
   "execution_count": null,
   "id": "f5f70a35",
   "metadata": {
    "tags": [
     "solution"
    ]
   },
   "outputs": [],
   "source": []
  },
  {
   "cell_type": "markdown",
   "id": "c2a857aa",
   "metadata": {},
   "source": [
    "Wie können Sie den Datentyp von `14` in Python feststellen?"
   ]
  },
  {
   "cell_type": "code",
   "execution_count": null,
   "id": "39860478",
   "metadata": {
    "tags": [
     "solution"
    ]
   },
   "outputs": [],
   "source": []
  },
  {
   "cell_type": "markdown",
   "id": "41446c5b",
   "metadata": {},
   "source": [
    "Wie können Sie den Datentyp von `14.0` in Python feststellen?"
   ]
  },
  {
   "cell_type": "code",
   "execution_count": null,
   "id": "274eb2fe",
   "metadata": {
    "tags": [
     "solution"
    ]
   },
   "outputs": [],
   "source": []
  },
  {
   "cell_type": "markdown",
   "id": "ab13337e",
   "metadata": {},
   "source": [
    "Wie können Sieden Datentyp von `'14'` in Python feststellen?"
   ]
  },
  {
   "cell_type": "code",
   "execution_count": null,
   "id": "f0446e14",
   "metadata": {
    "tags": [
     "solution"
    ]
   },
   "outputs": [],
   "source": []
  },
  {
   "cell_type": "markdown",
   "id": "c8f23d02",
   "metadata": {},
   "source": [
    "Was ist der Wert von `1 + 2 * 3`?"
   ]
  },
  {
   "cell_type": "code",
   "execution_count": null,
   "id": "c6efe1d9",
   "metadata": {
    "tags": [
     "solution"
    ]
   },
   "outputs": [],
   "source": []
  },
  {
   "cell_type": "markdown",
   "id": "a1f95fba",
   "metadata": {},
   "source": [
    "Was ist der Datentyp von `1 + 2 * 3` in Python?"
   ]
  },
  {
   "cell_type": "code",
   "execution_count": null,
   "id": "5c535bd6",
   "metadata": {
    "tags": [
     "solution"
    ]
   },
   "outputs": [],
   "source": []
  },
  {
   "cell_type": "markdown",
   "id": "1d2ba58b",
   "metadata": {},
   "source": [
    "Was ist der Wert von `4 / 2` in Python?"
   ]
  },
  {
   "cell_type": "code",
   "execution_count": null,
   "id": "695c66c7",
   "metadata": {
    "tags": [
     "solution"
    ]
   },
   "outputs": [],
   "source": []
  },
  {
   "cell_type": "markdown",
   "id": "343f6d6f",
   "metadata": {},
   "source": [
    "Was ist der Datentyp von `4 / 2` in Python?"
   ]
  },
  {
   "cell_type": "code",
   "execution_count": null,
   "id": "7f605491",
   "metadata": {
    "tags": [
     "solution"
    ]
   },
   "outputs": [],
   "source": []
  },
  {
   "cell_type": "markdown",
   "id": "44220d21",
   "metadata": {},
   "source": [
    "Was sind Wert und Datentyp von `1 + 1.0` in Python? Können Sie den Datentyp\n",
    "ohne Verwendung von `type` feststellen?"
   ]
  },
  {
   "cell_type": "code",
   "execution_count": null,
   "id": "a5d87d63",
   "metadata": {
    "tags": [
     "solution"
    ]
   },
   "outputs": [],
   "source": []
  },
  {
   "cell_type": "markdown",
   "id": "144021ec",
   "metadata": {},
   "source": [
    "# Piraten\n",
    "\n",
    "Der Legende nach wurde die Beute bei Piratenbanden gerecht durch alle Piraten\n",
    "geteilt. Falls sich die Beute sich nicht gerecht aufteilen ließ erhielt der\n",
    "Kapitän den überschüssigen Anteil.\n",
    "\n",
    "Wie viele Golddublonen erhält jeder Pirat einer 8-köpfigen Bande\n",
    "(7 Piraten + 1 Kapitän), wenn ein Schatz mit 1000 Golddublonen erbeutet wurde?\n",
    "\n",
    "(Verwenden Sie Variablen um die Berechnung klarer zu machen.)"
   ]
  },
  {
   "cell_type": "code",
   "execution_count": null,
   "id": "99c53f73",
   "metadata": {
    "tags": [
     "solution"
    ]
   },
   "outputs": [],
   "source": []
  },
  {
   "cell_type": "markdown",
   "id": "f2a438a2",
   "metadata": {},
   "source": [
    "Wie viele Golddublonen erhält der Kapitän extra?"
   ]
  },
  {
   "cell_type": "code",
   "execution_count": null,
   "id": "6b3ec23e",
   "metadata": {
    "tags": [
     "solution"
    ]
   },
   "outputs": [],
   "source": []
  },
  {
   "cell_type": "markdown",
   "id": "bf20e478",
   "metadata": {},
   "source": [
    "Die Piratenbande nimmt 3 neue Piraten-Lehrlinge auf.\n",
    "\n",
    "Wie verändert sich die Aufteilung der Beute?\n",
    "\n",
    "(Verwenden Sie Zuweisungen an die existierenden Variablen um das Problem zu\n",
    "lösen.)"
   ]
  },
  {
   "cell_type": "code",
   "execution_count": null,
   "id": "62a9c918",
   "metadata": {
    "tags": [
     "solution"
    ]
   },
   "outputs": [],
   "source": []
  },
  {
   "cell_type": "markdown",
   "id": "184db6d6",
   "metadata": {},
   "source": [
    "Wie viele Golddublonen erhält der Kapitän in diesem Fall zusätzlich?"
   ]
  },
  {
   "cell_type": "code",
   "execution_count": null,
   "id": "008e2138",
   "metadata": {
    "tags": [
     "solution"
    ]
   },
   "outputs": [],
   "source": []
  },
  {
   "cell_type": "markdown",
   "id": "8612d807",
   "metadata": {},
   "source": [
    "# Spenden\n",
    "\n",
    "Bei einer Spendenaktion hat der Fernsehsender ZRD zugesagt, jede eingehende\n",
    "Spende zu verdoppeln. Der Regionalsender YB3 erhöht jede eingehende Spende\n",
    "um 10 Euro. (ZRD verdoppelt bevor die 10 Euro von YB3 hinzugefügt werden.)\n",
    "\n",
    "Schreiben Sie eine Python Funktion `effektive_spende(n)`, die berechnet,\n",
    "welcher Betrag effektiv gespendet wird, wenn ein Zuschauer $N$ Euro spendet."
   ]
  },
  {
   "cell_type": "code",
   "execution_count": null,
   "id": "3b084d75",
   "metadata": {
    "tags": [
     "solution"
    ]
   },
   "outputs": [],
   "source": []
  },
  {
   "cell_type": "markdown",
   "id": "d44844e1",
   "metadata": {},
   "source": [
    "Wie hoch ist die effektive Spende, wenn ein Zuschauer 20 Euro spendet?"
   ]
  },
  {
   "cell_type": "code",
   "execution_count": null,
   "id": "d616b84e",
   "metadata": {
    "tags": [
     "solution"
    ]
   },
   "outputs": [],
   "source": []
  },
  {
   "cell_type": "markdown",
   "id": "be327bc5",
   "metadata": {},
   "source": [
    "\n",
    "Geben Sie die effektiven Spenden für 25, 50, 100 und 500 Euro auf dem\n",
    "Bildschirm aus.\n",
    "\n",
    "*Hinweis:* Sie können Eingaben mit der `Tab`-Taste vervollständigen. Es\n",
    "genügt also, wenn Sie\n",
    "\n",
    "`pri`-*Tab* `eff`-*Tab*\n",
    "\n",
    "eingeben bevor Sie die Argumente eintippen."
   ]
  },
  {
   "cell_type": "code",
   "execution_count": null,
   "id": "95bfe780",
   "metadata": {
    "tags": [
     "solution"
    ]
   },
   "outputs": [],
   "source": []
  },
  {
   "cell_type": "markdown",
   "id": "0f3e561e",
   "metadata": {},
   "source": [
    "# Piraten, Teil 2\n",
    "\n",
    "Ihre Piraten-Crew droht zu meutern, weil die Berechnung der Beuteaufteilung\n",
    "zu lange dauert.\n",
    "\n",
    "Schreiben Sie eine Funktion `drucke_aufteilung_der_beute(dublonen, piraten)`,\n",
    "die die Aufteilung berechnet und in folgendem Format ausgibt:\n",
    "\n",
    "```\n",
    "Piraten: 8\n",
    "Golddublonen: 17\n",
    "Jeder Pirat erhält: 2 Golddublone(n)\n",
    "Kapitän erhält extra: 1 Golddublone(n)\n",
    "```"
   ]
  },
  {
   "cell_type": "code",
   "execution_count": null,
   "id": "fdbbf1b2",
   "metadata": {
    "tags": [
     "solution"
    ]
   },
   "outputs": [],
   "source": []
  },
  {
   "cell_type": "markdown",
   "id": "3cd79b2f",
   "metadata": {},
   "source": [
    "# Piraten, Teil 3\n",
    "\n",
    "Nachdem die Gefahr der Meuterei gebannt ist haben Sie Zeit sich um die\n",
    "Verbesserung Ihrer Software zu kümmern.\n",
    "\n",
    "Schreiben Sie eine Funktion `teile_beute_auf(dublonen, piraten)` die den\n",
    "Beuteanteil jedes Piraten und die Extra-Beute des Kapitäns als zwei Werte\n",
    "zurückgibt."
   ]
  },
  {
   "cell_type": "code",
   "execution_count": null,
   "id": "739cfa2b",
   "metadata": {
    "tags": [
     "solution"
    ]
   },
   "outputs": [],
   "source": []
  },
  {
   "cell_type": "markdown",
   "id": "bcecf9c9",
   "metadata": {},
   "source": [
    "\n",
    "Schreiben Sie eine verbesserte Version der Funktion\n",
    "`drucke_aufteilung_der_beute()`, die `teile_beute_auf()` als Hilfsfunktion\n",
    "verwendet."
   ]
  },
  {
   "cell_type": "code",
   "execution_count": null,
   "id": "528b859a",
   "metadata": {
    "tags": [
     "solution"
    ]
   },
   "outputs": [],
   "source": []
  }
 ],
 "metadata": {
  "jupytext": {
   "encoding": "# -*- coding: utf-8 -*-",
   "formats": "ipynb"
  },
  "kernelspec": {
   "display_name": "Python 3 (ipykernel)",
   "language": "python",
   "name": "python3"
  }
 },
 "nbformat": 4,
 "nbformat_minor": 5
}
