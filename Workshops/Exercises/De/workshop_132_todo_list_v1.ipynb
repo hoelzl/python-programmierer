{
 "cells": [
  {
   "cell_type": "markdown",
   "id": "dc82ee51",
   "metadata": {
    "lang": "de"
   },
   "source": [
    "# TODO-Liste Version 1\n",
    "\n",
    "Im Folgenden soll eine einfache Anwendung zur Verwaltung einer TODO-Liste\n",
    "erstellt werden.\n",
    "\n",
    "Jeder Eintrag in der TODO-Liste soll folgende Information enthalten:\n",
    "\n",
    "- Titel\n",
    "- Priorität\n",
    "- Wurde das Item schon erledigt oder nicht?\n",
    "\n",
    "Verwenden Sie im Folgenden ein Dictionary um einen Eintrag in der TODO-Liste\n",
    "darzustellen und eine Liste um die TODO-Liste zu repräsentieren:"
   ]
  },
  {
   "cell_type": "markdown",
   "id": "8beb8415",
   "metadata": {
    "lang": "de"
   },
   "source": [
    "Legen Sie eine Liste `todos` mit Todo-Items an, die folgende Einträge enthält:\n",
    "\n",
    "- Titel: Python lernen, Priorität 3, nicht erledigt\n",
    "- Titel: Gemüse einkaufen, Priorität 2, nicht erledigt\n",
    "- Titel: Hans anrufen, Priorität 5, erledigt"
   ]
  },
  {
   "cell_type": "code",
   "execution_count": null,
   "id": "edb2b70d",
   "metadata": {
    "tags": [
     "solution"
    ]
   },
   "outputs": [],
   "source": []
  },
  {
   "cell_type": "code",
   "execution_count": null,
   "id": "601392f9",
   "metadata": {
    "tags": [
     "solution"
    ]
   },
   "outputs": [],
   "source": []
  },
  {
   "cell_type": "code",
   "execution_count": null,
   "id": "0e58b736",
   "metadata": {
    "tags": [
     "solution"
    ]
   },
   "outputs": [],
   "source": []
  },
  {
   "cell_type": "markdown",
   "id": "339270b6",
   "metadata": {
    "lang": "de"
   },
   "source": [
    "Schreiben Sie eine Funktion `add_todo_item(todo_list, title, priority)`,\n",
    "die ein neues Todo-Item zu `todo_list` hinzufügt."
   ]
  },
  {
   "cell_type": "code",
   "execution_count": null,
   "id": "cd622b09",
   "metadata": {
    "tags": [
     "solution"
    ]
   },
   "outputs": [],
   "source": []
  },
  {
   "cell_type": "markdown",
   "id": "3335ecbf",
   "metadata": {
    "lang": "de"
   },
   "source": [
    "Fügen Sie ein neues Todo-Item mit Titel \"Schnee schaufeln\" und Priorität 5\n",
    " in die Liste `todos` ein."
   ]
  },
  {
   "cell_type": "code",
   "execution_count": null,
   "id": "9797fa2c",
   "metadata": {
    "tags": [
     "solution"
    ]
   },
   "outputs": [],
   "source": []
  },
  {
   "cell_type": "code",
   "execution_count": null,
   "id": "fcb43159",
   "metadata": {
    "tags": [
     "solution"
    ]
   },
   "outputs": [],
   "source": []
  },
  {
   "cell_type": "markdown",
   "id": "76fe2bb7",
   "metadata": {
    "lang": "de"
   },
   "source": [
    "Schreiben Sie eine Funktion `mark_todo_item_done(todo_list, title)`,\n",
    "die das erste in der Liste `todo_list` vorkommende Todo-Item mit Titel\n",
    " `title`, das noch nicht bearbeitet ist, als bearbeitet markiert."
   ]
  },
  {
   "cell_type": "code",
   "execution_count": null,
   "id": "4a8d009e",
   "metadata": {
    "tags": [
     "solution"
    ]
   },
   "outputs": [],
   "source": []
  },
  {
   "cell_type": "markdown",
   "id": "0b4f9b79",
   "metadata": {
    "lang": "de"
   },
   "source": [
    "Markieren Sie das Todo-Item `Schnee schaufeln` als bearbeitet."
   ]
  },
  {
   "cell_type": "code",
   "execution_count": null,
   "id": "46173edc",
   "metadata": {
    "tags": [
     "solution"
    ]
   },
   "outputs": [],
   "source": []
  },
  {
   "cell_type": "code",
   "execution_count": null,
   "id": "36579508",
   "metadata": {
    "tags": [
     "solution"
    ]
   },
   "outputs": [],
   "source": []
  },
  {
   "cell_type": "markdown",
   "id": "d5faf880",
   "metadata": {
    "lang": "de"
   },
   "source": [
    "Fügen Sie zwei Todo-Items mit Text \"Python lernen\" und Priorität 1 und 6\n",
    " zur Todo-Liste hinzu."
   ]
  },
  {
   "cell_type": "code",
   "execution_count": null,
   "id": "b8a602e0",
   "metadata": {
    "tags": [
     "solution"
    ]
   },
   "outputs": [],
   "source": []
  },
  {
   "cell_type": "code",
   "execution_count": null,
   "id": "69e10047",
   "metadata": {
    "tags": [
     "solution"
    ]
   },
   "outputs": [],
   "source": []
  },
  {
   "cell_type": "markdown",
   "id": "69f546ce",
   "metadata": {
    "lang": "de"
   },
   "source": [
    "Markieren Sie ein Todo-Item \"Python lernen\" als erledigt. Wie sieht jetzt\n",
    " Ihre Liste aus?"
   ]
  },
  {
   "cell_type": "code",
   "execution_count": null,
   "id": "074d9175",
   "metadata": {
    "tags": [
     "solution"
    ]
   },
   "outputs": [],
   "source": []
  },
  {
   "cell_type": "code",
   "execution_count": null,
   "id": "221891df",
   "metadata": {
    "tags": [
     "solution"
    ]
   },
   "outputs": [],
   "source": []
  },
  {
   "cell_type": "markdown",
   "id": "9b23ff62",
   "metadata": {
    "lang": "de"
   },
   "source": [
    "Markieren Sie noch ein Todo-Item \"Python lernen\" als erledigt. Wie sieht\n",
    " jetzt Ihre Liste aus?"
   ]
  },
  {
   "cell_type": "code",
   "execution_count": null,
   "id": "c286c9c7",
   "metadata": {
    "tags": [
     "solution"
    ]
   },
   "outputs": [],
   "source": []
  },
  {
   "cell_type": "markdown",
   "id": "8f4ed8ae",
   "metadata": {
    "lang": "de"
   },
   "source": [
    "\n",
    "Schreiben Sie eine Funktion `delete_todo_item(todo_list, title)`, die das\n",
    "erste in der liste `todo_list` vorkommende Todo-Item mit Titel `title` aus\n",
    " der Liste entfernt.\n",
    "\n",
    "*Vorsicht: Sie sollten während Sie über eine Liste iterieren keine Einträge\n",
    "entfernen oder einfügen!*"
   ]
  },
  {
   "cell_type": "code",
   "execution_count": null,
   "id": "ee7f2576",
   "metadata": {
    "tags": [
     "solution"
    ]
   },
   "outputs": [],
   "source": []
  },
  {
   "cell_type": "markdown",
   "id": "613a751d",
   "metadata": {
    "lang": "de",
    "pycharm": {
     "name": "#%% md\n"
    }
   },
   "source": [
    "Löschen Sie ein item `Python lernen` aus `todo_list`"
   ]
  },
  {
   "cell_type": "code",
   "execution_count": null,
   "id": "81cb2472",
   "metadata": {
    "tags": [
     "solution"
    ]
   },
   "outputs": [],
   "source": []
  },
  {
   "cell_type": "markdown",
   "id": "2bb56a30",
   "metadata": {
    "lang": "de"
   },
   "source": [
    "Schreiben Sie eine Funktiion `delete_all_completed_todo_items(todo_list)`,\n",
    "die alle erledigten Todo-Items aus `todo_list` löscht.\n",
    "\n",
    "*Hinweis: Eine Möglichkeit diese Aufgabe zu lösen sind zwei\n",
    "aufeinanderfolgende `for`-Schleifen: eine um die Indizes zu bestimmen und\n",
    "eine um sie zu löschen. Beachten Sie die Reihenfolge, in der Sie Items\n",
    "löschen! Eine elegantere Methode ist eine List Comprehension und Zuweisung\n",
    "an ein Slice zu verwenden.*"
   ]
  },
  {
   "cell_type": "code",
   "execution_count": null,
   "id": "883cfec1",
   "metadata": {
    "tags": [
     "solution"
    ]
   },
   "outputs": [],
   "source": []
  },
  {
   "cell_type": "code",
   "execution_count": null,
   "id": "653a1755",
   "metadata": {
    "tags": [
     "solution"
    ]
   },
   "outputs": [],
   "source": []
  },
  {
   "cell_type": "code",
   "execution_count": null,
   "id": "94c3f019",
   "metadata": {
    "tags": [
     "solution"
    ]
   },
   "outputs": [],
   "source": []
  },
  {
   "cell_type": "code",
   "execution_count": null,
   "id": "51c229fa",
   "metadata": {
    "tags": [
     "solution"
    ]
   },
   "outputs": [],
   "source": []
  },
  {
   "cell_type": "code",
   "execution_count": null,
   "id": "ca6352a2",
   "metadata": {},
   "outputs": [],
   "source": []
  }
 ],
 "metadata": {
  "jupytext": {
   "encoding": "# -*- coding: utf-8 -*-",
   "formats": "ipynb"
  },
  "kernelspec": {
   "display_name": "Python 3 (ipykernel)",
   "language": "python",
   "name": "python3"
  }
 },
 "nbformat": 4,
 "nbformat_minor": 5
}
