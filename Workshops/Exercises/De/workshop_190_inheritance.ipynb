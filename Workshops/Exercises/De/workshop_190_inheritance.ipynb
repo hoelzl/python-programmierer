{
 "cells": [
  {
   "cell_type": "markdown",
   "id": "d89e659c",
   "metadata": {
    "lang": "de"
   },
   "source": [
    "# Vererbung\n",
    "\n",
    "Im Folgenden soll eine Klassenhierarchie für Mitarbeiter einer Firma erstellt\n",
    "werden:\n",
    "\n",
    "- Mitarbeiter können entweder Arbeiter oder Manager sein\n",
    "- Jeder Mitarbeiter der Firma hat einen Namen, eine Personalnummer und ein\n",
    "  Grundgehalt\n",
    "- Für jeden Arbeiter werden die angefallenen Überstunden und der Stundenlohn\n",
    "  gespeichert.\n",
    "- Das Gehalt eines Arbeiters berechnet sich als das 13/12-fache des\n",
    "  Grundgehalts plus der Bezahlung für die Überstunden\n",
    "- Jeder Manager hat einen individuellen Bonus\n",
    "- Das Gehalt eines Managers berechnet sich als das 13/12-fache des\n",
    "  Grundgehalts plus Bonus\n",
    "\n",
    "Implementieren Sie Python Klassen `Mitarbeiter`, `Arbeiter` und `Manager` mit\n",
    "geeigneten Attributen und einer Methode `gehalt()`, die das Gehalt berechnet.\n"
   ]
  },
  {
   "cell_type": "code",
   "execution_count": null,
   "id": "9f6e9bdb",
   "metadata": {
    "lines_to_next_cell": 1,
    "tags": [
     "solution"
    ]
   },
   "outputs": [],
   "source": []
  },
  {
   "cell_type": "code",
   "execution_count": null,
   "id": "19df7c96",
   "metadata": {
    "tags": [
     "solution"
    ]
   },
   "outputs": [],
   "source": []
  },
  {
   "cell_type": "code",
   "execution_count": null,
   "id": "2c86f3c6",
   "metadata": {
    "tags": [
     "solution"
    ]
   },
   "outputs": [],
   "source": []
  },
  {
   "cell_type": "code",
   "execution_count": null,
   "id": "c54078d9",
   "metadata": {
    "tags": [
     "solution"
    ]
   },
   "outputs": [],
   "source": []
  },
  {
   "cell_type": "markdown",
   "id": "74404c2a",
   "metadata": {
    "lang": "de"
   },
   "source": [
    "\n",
    "Erzeugen Sie einen Arbeiter mit Namen Hans, Personalnummer 123, einem\n",
    "Grundgehalt von  36000.0 Euro, der 3.5 Überstunden zu je 40.0 Euro gearbeit\n",
    "hat. Drucken Sie das Gehalt aus."
   ]
  },
  {
   "cell_type": "code",
   "execution_count": null,
   "id": "d03a1c55",
   "metadata": {
    "tags": [
     "solution"
    ]
   },
   "outputs": [],
   "source": []
  },
  {
   "cell_type": "markdown",
   "id": "ccd539d0",
   "metadata": {
    "lang": "de"
   },
   "source": [
    "Schreiben sie Assertions, die die Funktionalität der Klasse `Arbeiter` testen."
   ]
  },
  {
   "cell_type": "code",
   "execution_count": null,
   "id": "e068a2fc",
   "metadata": {
    "tags": [
     "solution"
    ]
   },
   "outputs": [],
   "source": []
  },
  {
   "cell_type": "markdown",
   "id": "54d7bd83",
   "metadata": {
    "lang": "de"
   },
   "source": [
    "\n",
    "Erzeugen Sie einen Manager mit Namen Sepp, Personalnummer 666, der ein\n",
    "Grundgehalt von 60000.0 Euro und einen Bonus von 30000.0 Euro hat. Drucken Sie\n",
    "das Gehalt aus."
   ]
  },
  {
   "cell_type": "code",
   "execution_count": null,
   "id": "e5887d59",
   "metadata": {
    "tags": [
     "solution"
    ]
   },
   "outputs": [],
   "source": []
  },
  {
   "cell_type": "markdown",
   "id": "7a9fe0f4",
   "metadata": {
    "lang": "de"
   },
   "source": [
    "Testen Sie die Funktionalität der `Manager` Klasse."
   ]
  },
  {
   "cell_type": "code",
   "execution_count": null,
   "id": "dc3afb68",
   "metadata": {
    "tags": [
     "solution"
    ]
   },
   "outputs": [],
   "source": []
  },
  {
   "cell_type": "markdown",
   "id": "74106c64",
   "metadata": {
    "lang": "de"
   },
   "source": [
    "## Lösung ohne Dataclasses:"
   ]
  },
  {
   "cell_type": "code",
   "execution_count": null,
   "id": "401f1416",
   "metadata": {
    "tags": [
     "solution"
    ]
   },
   "outputs": [],
   "source": []
  },
  {
   "cell_type": "code",
   "execution_count": null,
   "id": "06a53ca4",
   "metadata": {
    "tags": [
     "solution"
    ]
   },
   "outputs": [],
   "source": []
  },
  {
   "cell_type": "code",
   "execution_count": null,
   "id": "3e4d57b4",
   "metadata": {
    "tags": [
     "solution"
    ]
   },
   "outputs": [],
   "source": []
  },
  {
   "cell_type": "code",
   "execution_count": null,
   "id": "1c0dda8b",
   "metadata": {
    "tags": [
     "solution"
    ]
   },
   "outputs": [],
   "source": []
  },
  {
   "cell_type": "code",
   "execution_count": null,
   "id": "bc9ab226",
   "metadata": {
    "lines_to_next_cell": 2,
    "tags": [
     "solution"
    ]
   },
   "outputs": [],
   "source": []
  },
  {
   "cell_type": "markdown",
   "id": "79b5c6f0",
   "metadata": {
    "lang": "de"
   },
   "source": [
    "\n",
    "# Bank Account\n",
    "\n",
    "Definieren Sie eine Klasse `BankAccount` mit einem Attribut `balance: float`\n",
    "und Methoden `deposit(amount: float)` und `withdraw(amount: float)`.\n",
    "\n",
    "*Hinweis: Für eine realistischere Implementierung sollte `decimal.Decimal`\n",
    "statt `float` verwendet werden.*\n",
    "\n",
    "Die Klasse soll in folgenden Fällen eine Exception vom Typ `ValueError`\n",
    "auslösen:\n",
    "\n",
    "- Wenn ein neuer `BankAccount` mit negativer `balance` angelegt werden soll.\n",
    "- Wenn `deposit` mit einem negativen Wert aufgerufen wird.\n",
    "- Wenn `withdraw` mit einem negativen Wert aufgerufen wird oder durch das\n",
    "  Abheben des Betrags die `balance` des Kontos negativ werden würde."
   ]
  },
  {
   "cell_type": "code",
   "execution_count": null,
   "id": "c8b2439f",
   "metadata": {
    "tags": [
     "solution"
    ]
   },
   "outputs": [],
   "source": []
  },
  {
   "cell_type": "markdown",
   "id": "5777b733",
   "metadata": {
    "lang": "de"
   },
   "source": [
    "\n",
    "Testen Sie die Funktionalität der Klasse sowohl für erfolgreiche\n",
    "Transaktionen, als auch für Transaktionen, die Exceptions auslösen."
   ]
  },
  {
   "cell_type": "code",
   "execution_count": null,
   "id": "711a210b",
   "metadata": {
    "tags": [
     "solution"
    ]
   },
   "outputs": [],
   "source": []
  },
  {
   "cell_type": "code",
   "execution_count": null,
   "id": "8e7aff5a",
   "metadata": {
    "tags": [
     "solution"
    ]
   },
   "outputs": [],
   "source": []
  },
  {
   "cell_type": "code",
   "execution_count": null,
   "id": "959a2143",
   "metadata": {
    "tags": [
     "solution"
    ]
   },
   "outputs": [],
   "source": []
  },
  {
   "cell_type": "code",
   "execution_count": null,
   "id": "0e211a18",
   "metadata": {
    "tags": [
     "solution"
    ]
   },
   "outputs": [],
   "source": []
  },
  {
   "cell_type": "code",
   "execution_count": null,
   "id": "4143a852",
   "metadata": {
    "tags": [
     "solution"
    ]
   },
   "outputs": [],
   "source": []
  },
  {
   "cell_type": "code",
   "execution_count": null,
   "id": "12cbfaa8",
   "metadata": {
    "tags": [
     "solution"
    ]
   },
   "outputs": [],
   "source": []
  },
  {
   "cell_type": "code",
   "execution_count": null,
   "id": "452d9ef7",
   "metadata": {
    "tags": [
     "solution"
    ]
   },
   "outputs": [],
   "source": []
  },
  {
   "cell_type": "code",
   "execution_count": null,
   "id": "b943812a",
   "metadata": {
    "tags": [
     "solution"
    ]
   },
   "outputs": [],
   "source": []
  },
  {
   "cell_type": "code",
   "execution_count": null,
   "id": "23ba178c",
   "metadata": {},
   "outputs": [],
   "source": []
  }
 ],
 "metadata": {
  "jupytext": {
   "encoding": "# -*- coding: utf-8 -*-",
   "formats": "ipynb"
  },
  "kernelspec": {
   "display_name": "Python 3 (ipykernel)",
   "language": "python",
   "name": "python3"
  }
 },
 "nbformat": 4,
 "nbformat_minor": 5
}
