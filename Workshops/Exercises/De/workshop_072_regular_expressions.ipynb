{
 "cells": [
  {
   "cell_type": "markdown",
   "id": "5d9f2e59",
   "metadata": {
    "lang": "de"
   },
   "source": [
    "# Reguläre Ausdrücke\n",
    "\n",
    "Schreiben Sie einen Regulären Ausdruck, der Gleitkommazahlen matcht (ein oder\n",
    "mehrere Ziffern, gefolgt von einem Punkt, gefolgt von ein oder mehreren\n",
    "Ziffern).\n",
    "\n",
    "Testen Sie den Regulären Ausdruck mit folgenden Werten: `1.0`, `842.234`,\n",
    "`23-38`, `12.`, `.1`.\n",
    "\n",
    "*Hinweis:* `\\d` matcht eine einzelne Ziffer."
   ]
  },
  {
   "cell_type": "code",
   "execution_count": null,
   "id": "8fae395b",
   "metadata": {
    "tags": [
     "solution"
    ]
   },
   "outputs": [],
   "source": []
  },
  {
   "cell_type": "code",
   "execution_count": null,
   "id": "b097c590",
   "metadata": {
    "tags": [
     "solution"
    ]
   },
   "outputs": [],
   "source": []
  },
  {
   "cell_type": "code",
   "execution_count": null,
   "id": "0962e537",
   "metadata": {
    "tags": [
     "solution"
    ]
   },
   "outputs": [],
   "source": []
  },
  {
   "cell_type": "code",
   "execution_count": null,
   "id": "0b249256",
   "metadata": {
    "tags": [
     "solution"
    ]
   },
   "outputs": [],
   "source": []
  },
  {
   "cell_type": "code",
   "execution_count": null,
   "id": "b6caff68",
   "metadata": {
    "tags": [
     "solution"
    ]
   },
   "outputs": [],
   "source": []
  },
  {
   "cell_type": "code",
   "execution_count": null,
   "id": "93f08ead",
   "metadata": {
    "tags": [
     "solution"
    ]
   },
   "outputs": [],
   "source": []
  },
  {
   "cell_type": "markdown",
   "id": "79998f88",
   "metadata": {
    "lang": "de"
   },
   "source": [
    "\n",
    "Schreiben Sie einen Regulären Ausdruck, der URLs matcht, die `http` oder\n",
    "`https` Protokoll haben und nach dem Domain-Namen höchstens einen einzelnen\n",
    "`/` als Pfad.\n",
    "\n",
    "Zum Beispiel soll `https://www.example.com/` gematcht werden, nicht aber\n",
    "`email://example.com`, `http://example.com/foo` oder\n",
    "`http://www..example.com/`."
   ]
  },
  {
   "cell_type": "code",
   "execution_count": null,
   "id": "19b41eb3",
   "metadata": {
    "tags": [
     "solution"
    ]
   },
   "outputs": [],
   "source": []
  },
  {
   "cell_type": "code",
   "execution_count": null,
   "id": "fe20481b",
   "metadata": {
    "tags": [
     "solution"
    ]
   },
   "outputs": [],
   "source": []
  },
  {
   "cell_type": "code",
   "execution_count": null,
   "id": "ce9f2d8a",
   "metadata": {
    "tags": [
     "solution"
    ]
   },
   "outputs": [],
   "source": []
  },
  {
   "cell_type": "code",
   "execution_count": null,
   "id": "985887f1",
   "metadata": {
    "tags": [
     "solution"
    ]
   },
   "outputs": [],
   "source": []
  },
  {
   "cell_type": "code",
   "execution_count": null,
   "id": "28ac5be3",
   "metadata": {
    "tags": [
     "solution"
    ]
   },
   "outputs": [],
   "source": []
  },
  {
   "cell_type": "code",
   "execution_count": null,
   "id": "e7094276",
   "metadata": {
    "tags": [
     "solution"
    ]
   },
   "outputs": [],
   "source": []
  },
  {
   "cell_type": "markdown",
   "id": "598ad453",
   "metadata": {
    "lang": "de"
   },
   "source": [
    "\n",
    "Ersetzen Sie alle URLs im folgenden Text durch die Zeichenkette `<URL>`."
   ]
  },
  {
   "cell_type": "code",
   "execution_count": null,
   "id": "25dae941",
   "metadata": {
    "lines_to_next_cell": 2
   },
   "outputs": [],
   "source": [
    "text = \"Use http://www.example.com or https://www.example.com/ as example domains.\""
   ]
  },
  {
   "cell_type": "code",
   "execution_count": null,
   "id": "55075bd5",
   "metadata": {
    "tags": [
     "solution"
    ]
   },
   "outputs": [],
   "source": []
  },
  {
   "cell_type": "code",
   "execution_count": null,
   "id": "68612f9b",
   "metadata": {},
   "outputs": [],
   "source": []
  }
 ],
 "metadata": {
  "jupytext": {
   "encoding": "# -*- coding: utf-8 -*-",
   "formats": "ipynb"
  },
  "kernelspec": {
   "display_name": "Python 3 (ipykernel)",
   "language": "python",
   "name": "python3"
  }
 },
 "nbformat": 4,
 "nbformat_minor": 5
}
