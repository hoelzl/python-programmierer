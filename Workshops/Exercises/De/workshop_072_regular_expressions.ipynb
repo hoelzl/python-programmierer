{
 "cells": [
  {
   "cell_type": "markdown",
   "id": "4f0e3f48",
   "metadata": {
    "lang": "de"
   },
   "source": [
    "# Reguläre Ausdrücke\n",
    "\n",
    "Schreiben Sie einen Regulären Ausdruck, der Gleitkommazahlen matcht (ein oder\n",
    "mehrere Ziffern, gefolgt von einem Punkt, gefolgt von ein oder mehreren\n",
    "Ziffern).\n",
    "\n",
    "Testen Sie den Regulären Ausdruck mit folgenden Werten: `1.0`, `842.234`,\n",
    "`23-38`, `12.`, `.1`.\n",
    "\n",
    "*Hinweis:* `\\d` matcht eine einzelne Ziffer."
   ]
  },
  {
   "cell_type": "code",
   "execution_count": null,
   "id": "19365c14",
   "metadata": {
    "tags": [
     "solution"
    ]
   },
   "outputs": [],
   "source": []
  },
  {
   "cell_type": "code",
   "execution_count": null,
   "id": "68b51815",
   "metadata": {
    "tags": [
     "solution"
    ]
   },
   "outputs": [],
   "source": []
  },
  {
   "cell_type": "code",
   "execution_count": null,
   "id": "6e5c2c43",
   "metadata": {
    "tags": [
     "solution"
    ]
   },
   "outputs": [],
   "source": []
  },
  {
   "cell_type": "code",
   "execution_count": null,
   "id": "aac85a46",
   "metadata": {
    "tags": [
     "solution"
    ]
   },
   "outputs": [],
   "source": []
  },
  {
   "cell_type": "code",
   "execution_count": null,
   "id": "02047094",
   "metadata": {
    "tags": [
     "solution"
    ]
   },
   "outputs": [],
   "source": []
  },
  {
   "cell_type": "code",
   "execution_count": null,
   "id": "efd4830f",
   "metadata": {
    "tags": [
     "solution"
    ]
   },
   "outputs": [],
   "source": []
  },
  {
   "cell_type": "markdown",
   "id": "f894bf4d",
   "metadata": {
    "lang": "de"
   },
   "source": [
    "\n",
    "Schreiben Sie einen Regulären Ausdruck, der URLs matcht, die `http` oder\n",
    "`https` Protokoll haben und nach dem Domain-Namen höchstens einen einzelnen\n",
    "`/` als Pfad.\n",
    "\n",
    "Zum Beispiel soll `https://www.example.com/` gematcht werden, nicht aber\n",
    "`email://example.com`, `http://example.com/foo` oder\n",
    "`http://www..example.com/`."
   ]
  },
  {
   "cell_type": "code",
   "execution_count": null,
   "id": "ba5977f2",
   "metadata": {
    "tags": [
     "solution"
    ]
   },
   "outputs": [],
   "source": []
  },
  {
   "cell_type": "code",
   "execution_count": null,
   "id": "82717a9d",
   "metadata": {
    "tags": [
     "solution"
    ]
   },
   "outputs": [],
   "source": []
  },
  {
   "cell_type": "code",
   "execution_count": null,
   "id": "edfe4a21",
   "metadata": {
    "tags": [
     "solution"
    ]
   },
   "outputs": [],
   "source": []
  },
  {
   "cell_type": "code",
   "execution_count": null,
   "id": "92250cca",
   "metadata": {
    "tags": [
     "solution"
    ]
   },
   "outputs": [],
   "source": []
  },
  {
   "cell_type": "code",
   "execution_count": null,
   "id": "7c513678",
   "metadata": {
    "tags": [
     "solution"
    ]
   },
   "outputs": [],
   "source": []
  },
  {
   "cell_type": "code",
   "execution_count": null,
   "id": "2732a843",
   "metadata": {
    "tags": [
     "solution"
    ]
   },
   "outputs": [],
   "source": []
  },
  {
   "cell_type": "markdown",
   "id": "81a0c8f6",
   "metadata": {
    "lang": "de"
   },
   "source": [
    "\n",
    "Ersetzen Sie alle URLs im folgenden Text durch die Zeichenkette `<URL>`."
   ]
  },
  {
   "cell_type": "code",
   "execution_count": null,
   "id": "7b13b8b6",
   "metadata": {
    "lines_to_next_cell": 2
   },
   "outputs": [],
   "source": [
    "text = \"Use http://www.example.com or https://www.example.com/ as example domains.\""
   ]
  },
  {
   "cell_type": "code",
   "execution_count": null,
   "id": "3e23d57e",
   "metadata": {
    "tags": [
     "solution"
    ]
   },
   "outputs": [],
   "source": []
  },
  {
   "cell_type": "code",
   "execution_count": null,
   "id": "6b621207",
   "metadata": {},
   "outputs": [],
   "source": []
  }
 ],
 "metadata": {
  "jupytext": {
   "encoding": "# -*- coding: utf-8 -*-",
   "formats": "ipynb"
  },
  "kernelspec": {
   "display_name": "Python 3 (ipykernel)",
   "language": "python",
   "name": "python3"
  }
 },
 "nbformat": 4,
 "nbformat_minor": 5
}
