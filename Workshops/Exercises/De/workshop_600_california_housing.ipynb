{
 "cells": [
  {
   "cell_type": "markdown",
   "id": "3477377c",
   "metadata": {
    "lang": "de"
   },
   "source": [
    "# Hauspreise in Californien"
   ]
  },
  {
   "cell_type": "code",
   "execution_count": null,
   "id": "85d5f9d0",
   "metadata": {},
   "outputs": [],
   "source": [
    "from pathlib import Path\n",
    "import numpy as np\n",
    "import pandas as pd"
   ]
  },
  {
   "cell_type": "code",
   "execution_count": null,
   "id": "df7e908f",
   "metadata": {},
   "outputs": [],
   "source": [
    "pandas_data_path = Path(\n",
    "    r\"C:\\Users\\tc\\Programming\\Python\\Courses\\Own\\python-programmierer\\Data\\Pandas\"\n",
    ")\n",
    "california_housing_csv_path = pandas_data_path / \"california-housing.csv\""
   ]
  },
  {
   "cell_type": "markdown",
   "id": "cb828293",
   "metadata": {
    "lang": "de"
   },
   "source": [
    "## Laden des Datensatzes\n",
    "\n",
    "Laden Sie die CSV-Datei `california_housing_csv_path` als\n",
    "Pandas DataFrame. Importieren Sie dabei keine\n",
    "Spalten ohne Informationsgehalt."
   ]
  },
  {
   "cell_type": "code",
   "execution_count": null,
   "id": "7afcb624",
   "metadata": {
    "tags": [
     "solution"
    ]
   },
   "outputs": [],
   "source": []
  },
  {
   "cell_type": "code",
   "execution_count": null,
   "id": "6de9593b",
   "metadata": {
    "lines_to_next_cell": 2,
    "tags": [
     "solution"
    ]
   },
   "outputs": [],
   "source": []
  },
  {
   "cell_type": "markdown",
   "id": "5c17c775",
   "metadata": {
    "lang": "de"
   },
   "source": [
    "Wie viele Zeilen hat der DataFrame?"
   ]
  },
  {
   "cell_type": "code",
   "execution_count": null,
   "id": "577d1019",
   "metadata": {
    "lines_to_next_cell": 2,
    "tags": [
     "solution"
    ]
   },
   "outputs": [],
   "source": []
  },
  {
   "cell_type": "markdown",
   "id": "1c741636",
   "metadata": {
    "lang": "de"
   },
   "source": [
    "Welche Spalten hat der DataFrame?\n",
    "Gibt es Spalten im DataFrame die undefinierte Werte (NA) enthalten?"
   ]
  },
  {
   "cell_type": "code",
   "execution_count": null,
   "id": "55735287",
   "metadata": {
    "tags": [
     "solution"
    ]
   },
   "outputs": [],
   "source": []
  },
  {
   "cell_type": "code",
   "execution_count": null,
   "id": "93530217",
   "metadata": {
    "lines_to_next_cell": 2
   },
   "outputs": [],
   "source": [
    "# This is true if `notna()` drops rows, i.e., if\n",
    "df.isna().sum()"
   ]
  },
  {
   "cell_type": "markdown",
   "id": "85280ec4",
   "metadata": {
    "lang": "de"
   },
   "source": [
    "\n",
    "Was sind Minimum, Maximum, Mittelwert und\n",
    "Standardabweichung der einzelnen Spalten?"
   ]
  },
  {
   "cell_type": "code",
   "execution_count": null,
   "id": "cabc8d97",
   "metadata": {
    "tags": [
     "solution"
    ]
   },
   "outputs": [],
   "source": []
  },
  {
   "cell_type": "markdown",
   "id": "88dc1480",
   "metadata": {
    "lang": "de"
   },
   "source": [
    "Erzeugen Sie Histogramme der einzelnen Spalten.\n",
    "Welche Auffälligkeiten gibt es dabei?"
   ]
  },
  {
   "cell_type": "code",
   "execution_count": null,
   "id": "3a0f4577",
   "metadata": {
    "tags": [
     "solution"
    ]
   },
   "outputs": [],
   "source": []
  },
  {
   "cell_type": "markdown",
   "id": "429d20a6",
   "metadata": {
    "lang": "de"
   },
   "source": [
    "\n",
    "Erzeugen Sie einen neuen DataFrame, der nur die Zeilen enthält, deren `Target`\n",
    "Wert größer als 4 ist. Wie viele einträge hat dieser DataFrame?"
   ]
  },
  {
   "cell_type": "code",
   "execution_count": null,
   "id": "4089b93b",
   "metadata": {
    "tags": [
     "solution"
    ]
   },
   "outputs": [],
   "source": []
  },
  {
   "cell_type": "code",
   "execution_count": null,
   "id": "4bb3ff0a",
   "metadata": {
    "lines_to_next_cell": 2,
    "tags": [
     "solution"
    ]
   },
   "outputs": [],
   "source": []
  },
  {
   "cell_type": "markdown",
   "id": "c71cd130",
   "metadata": {
    "lang": "de"
   },
   "source": [
    "\n",
    "Plotten Sie Longitude vs. Latitude als Scatterplot. Was können Sie aus diesem\n",
    "Plot ablesen?\n",
    "\n",
    "Mit dem Keyword-Argument `c` können Sie einen Spaltennamen angeben, deren\n",
    "Werte die Farbe der Ausgabe bestimmen. Mit `cmap` können Sie eine Colormap\n",
    "dafür angeben. Mit dem Keyword-Argument `alpha` können Sie die Transparenz der\n",
    "Ausgabe steuern.\n",
    "\n",
    "Experimentieren Sie mit diesen Werten um die Ausgabe informativer zu\n",
    "gestalten."
   ]
  },
  {
   "cell_type": "code",
   "execution_count": null,
   "id": "dafc0445",
   "metadata": {
    "tags": [
     "solution"
    ]
   },
   "outputs": [],
   "source": []
  },
  {
   "cell_type": "markdown",
   "id": "a6dc391c",
   "metadata": {
    "lang": "de",
    "lines_to_next_cell": 2
   },
   "source": [
    "Wie sieht die entsprechende Ausgabe für den DataFrame aus, der nur\n",
    "teure Häuser enthält?"
   ]
  },
  {
   "cell_type": "code",
   "execution_count": null,
   "id": "0834a0ff",
   "metadata": {
    "lines_to_next_cell": 2,
    "tags": [
     "solution"
    ]
   },
   "outputs": [],
   "source": []
  },
  {
   "cell_type": "markdown",
   "id": "53f89e24",
   "metadata": {
    "lang": "de"
   },
   "source": [
    "\n",
    "Falls Sie Seaborn installiert haben können Sie mit `seaborn.pairplot()` ein\n",
    "Grid mit Scatterplots aus allen möglichen Kombinationen von Spalten erzeugen.\n",
    "Mit dem Keyword-Argument `hue` können Sie dabei eine Spalte angeben, die die\n",
    "Farbe der Ausgabe bestimmt.\n",
    "\n",
    "Welche der Plots liefern interessante Informationen? Welche Werte sind für\n",
    "`hue` interessant?\n",
    "\n",
    "*Hinweis:* Es empfiehlt sich, die Anzahl der Werte auf z.B. 500 oder 1000 zu\n",
    "beschränken um die Zeit, die die Erzeugung der Plots dauert in Grenzen zu\n",
    "halten."
   ]
  },
  {
   "cell_type": "code",
   "execution_count": null,
   "id": "3e5780e9",
   "metadata": {
    "tags": [
     "solution"
    ]
   },
   "outputs": [],
   "source": []
  },
  {
   "cell_type": "code",
   "execution_count": null,
   "id": "063a5cfa",
   "metadata": {
    "tags": [
     "solution"
    ]
   },
   "outputs": [],
   "source": []
  },
  {
   "cell_type": "code",
   "execution_count": null,
   "id": "1054c3e8",
   "metadata": {
    "tags": [
     "solution"
    ]
   },
   "outputs": [],
   "source": []
  },
  {
   "cell_type": "code",
   "execution_count": null,
   "id": "2498f7d1",
   "metadata": {
    "tags": [
     "solution"
    ]
   },
   "outputs": [],
   "source": []
  },
  {
   "cell_type": "code",
   "execution_count": null,
   "id": "b9e44256",
   "metadata": {
    "tags": [
     "solution"
    ]
   },
   "outputs": [],
   "source": []
  },
  {
   "cell_type": "code",
   "execution_count": null,
   "id": "4a9f8a57",
   "metadata": {
    "tags": [
     "solution"
    ]
   },
   "outputs": [],
   "source": []
  },
  {
   "cell_type": "code",
   "execution_count": null,
   "id": "d67d94f0",
   "metadata": {
    "tags": [
     "solution"
    ]
   },
   "outputs": [],
   "source": []
  },
  {
   "cell_type": "code",
   "execution_count": null,
   "id": "e40c8411",
   "metadata": {
    "tags": [
     "solution"
    ]
   },
   "outputs": [],
   "source": []
  },
  {
   "cell_type": "code",
   "execution_count": null,
   "id": "bc7b7c8d",
   "metadata": {
    "tags": [
     "solution"
    ]
   },
   "outputs": [],
   "source": []
  },
  {
   "cell_type": "code",
   "execution_count": null,
   "id": "3260ceb6",
   "metadata": {
    "tags": [
     "solution"
    ]
   },
   "outputs": [],
   "source": []
  },
  {
   "cell_type": "code",
   "execution_count": null,
   "id": "d01e8ba8",
   "metadata": {
    "tags": [
     "solution"
    ]
   },
   "outputs": [],
   "source": []
  },
  {
   "cell_type": "code",
   "execution_count": null,
   "id": "de830755",
   "metadata": {
    "lines_to_next_cell": 1,
    "tags": [
     "solution"
    ]
   },
   "outputs": [],
   "source": []
  },
  {
   "cell_type": "code",
   "execution_count": null,
   "id": "b3b6b977",
   "metadata": {
    "tags": [
     "solution"
    ]
   },
   "outputs": [],
   "source": []
  },
  {
   "cell_type": "code",
   "execution_count": null,
   "id": "f4e914fa",
   "metadata": {
    "tags": [
     "solution"
    ]
   },
   "outputs": [],
   "source": []
  },
  {
   "cell_type": "code",
   "execution_count": null,
   "id": "e931e7e1",
   "metadata": {
    "tags": [
     "solution"
    ]
   },
   "outputs": [],
   "source": []
  },
  {
   "cell_type": "code",
   "execution_count": null,
   "id": "92107b26",
   "metadata": {
    "tags": [
     "solution"
    ]
   },
   "outputs": [],
   "source": []
  },
  {
   "cell_type": "code",
   "execution_count": null,
   "id": "7734182a",
   "metadata": {
    "tags": [
     "solution"
    ]
   },
   "outputs": [],
   "source": []
  },
  {
   "cell_type": "code",
   "execution_count": null,
   "id": "76cfcfb3",
   "metadata": {
    "tags": [
     "solution"
    ]
   },
   "outputs": [],
   "source": []
  },
  {
   "cell_type": "code",
   "execution_count": null,
   "id": "31e33770",
   "metadata": {
    "tags": [
     "solution"
    ]
   },
   "outputs": [],
   "source": []
  },
  {
   "cell_type": "code",
   "execution_count": null,
   "id": "ac4ab4ce",
   "metadata": {
    "tags": [
     "solution"
    ]
   },
   "outputs": [],
   "source": []
  },
  {
   "cell_type": "code",
   "execution_count": null,
   "id": "cdc41dde",
   "metadata": {
    "tags": [
     "solution"
    ]
   },
   "outputs": [],
   "source": []
  },
  {
   "cell_type": "code",
   "execution_count": null,
   "id": "74554b5e",
   "metadata": {
    "tags": [
     "solution"
    ]
   },
   "outputs": [],
   "source": []
  },
  {
   "cell_type": "code",
   "execution_count": null,
   "id": "09589465",
   "metadata": {
    "tags": [
     "solution"
    ]
   },
   "outputs": [],
   "source": []
  },
  {
   "cell_type": "code",
   "execution_count": null,
   "id": "f3d4f52b",
   "metadata": {},
   "outputs": [],
   "source": [
    "x_train[:3]"
   ]
  },
  {
   "cell_type": "code",
   "execution_count": null,
   "id": "4835370f",
   "metadata": {
    "tags": [
     "solution"
    ]
   },
   "outputs": [],
   "source": []
  },
  {
   "cell_type": "code",
   "execution_count": null,
   "id": "e16d3ba2",
   "metadata": {
    "tags": [
     "solution"
    ]
   },
   "outputs": [],
   "source": []
  },
  {
   "cell_type": "code",
   "execution_count": null,
   "id": "5d39c50f",
   "metadata": {
    "tags": [
     "solution"
    ]
   },
   "outputs": [],
   "source": []
  },
  {
   "cell_type": "code",
   "execution_count": null,
   "id": "21a0b855",
   "metadata": {
    "tags": [
     "solution"
    ]
   },
   "outputs": [],
   "source": []
  },
  {
   "cell_type": "code",
   "execution_count": null,
   "id": "ed24d89a",
   "metadata": {
    "tags": [
     "solution"
    ]
   },
   "outputs": [],
   "source": []
  },
  {
   "cell_type": "code",
   "execution_count": null,
   "id": "cb0f2354",
   "metadata": {
    "tags": [
     "solution"
    ]
   },
   "outputs": [],
   "source": []
  },
  {
   "cell_type": "code",
   "execution_count": null,
   "id": "d0703a77",
   "metadata": {
    "tags": [
     "solution"
    ]
   },
   "outputs": [],
   "source": []
  },
  {
   "cell_type": "code",
   "execution_count": null,
   "id": "28a36dfc",
   "metadata": {
    "tags": [
     "solution"
    ]
   },
   "outputs": [],
   "source": []
  },
  {
   "cell_type": "code",
   "execution_count": null,
   "id": "9a1213d0",
   "metadata": {
    "tags": [
     "solution"
    ]
   },
   "outputs": [],
   "source": []
  },
  {
   "cell_type": "code",
   "execution_count": null,
   "id": "3b0a432d",
   "metadata": {
    "tags": [
     "solution"
    ]
   },
   "outputs": [],
   "source": []
  },
  {
   "cell_type": "code",
   "execution_count": null,
   "id": "a6853b9e",
   "metadata": {
    "tags": [
     "solution"
    ]
   },
   "outputs": [],
   "source": []
  },
  {
   "cell_type": "code",
   "execution_count": null,
   "id": "d6a649ce",
   "metadata": {
    "tags": [
     "solution"
    ]
   },
   "outputs": [],
   "source": []
  },
  {
   "cell_type": "code",
   "execution_count": null,
   "id": "97928674",
   "metadata": {
    "tags": [
     "solution"
    ]
   },
   "outputs": [],
   "source": []
  },
  {
   "cell_type": "code",
   "execution_count": null,
   "id": "6e2d9466",
   "metadata": {
    "tags": [
     "solution"
    ]
   },
   "outputs": [],
   "source": []
  }
 ],
 "metadata": {
  "jupytext": {
   "encoding": "# -*- coding: utf-8 -*-",
   "formats": "ipynb"
  },
  "kernelspec": {
   "display_name": "Python 3 (ipykernel)",
   "language": "python",
   "name": "python3"
  }
 },
 "nbformat": 4,
 "nbformat_minor": 5
}
