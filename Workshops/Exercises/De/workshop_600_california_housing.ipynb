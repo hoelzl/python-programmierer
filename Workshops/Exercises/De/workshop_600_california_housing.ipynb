{
 "cells": [
  {
   "cell_type": "markdown",
   "id": "6b015114",
   "metadata": {
    "lang": "de"
   },
   "source": [
    "# Hauspreise in Californien"
   ]
  },
  {
   "cell_type": "code",
   "execution_count": null,
   "id": "244917a9",
   "metadata": {},
   "outputs": [],
   "source": [
    "from pathlib import Path\n",
    "import numpy as np\n",
    "import pandas as pd"
   ]
  },
  {
   "cell_type": "code",
   "execution_count": null,
   "id": "50828fa0",
   "metadata": {},
   "outputs": [],
   "source": [
    "pandas_data_path = Path(\n",
    "    r\"C:\\Users\\tc\\Programming\\Python\\Courses\\Own\\python-programmierer\\Data\\Pandas\"\n",
    ")\n",
    "california_housing_csv_path = pandas_data_path / \"california-housing.csv\""
   ]
  },
  {
   "cell_type": "markdown",
   "id": "ab241064",
   "metadata": {
    "lang": "de"
   },
   "source": [
    "## Laden des Datensatzes\n",
    "\n",
    "Laden Sie die CSV-Datei `california_housing_csv_path` als\n",
    "Pandas DataFrame. Importieren Sie dabei keine\n",
    "Spalten ohne Informationsgehalt."
   ]
  },
  {
   "cell_type": "code",
   "execution_count": null,
   "id": "a175179d",
   "metadata": {
    "tags": [
     "solution"
    ]
   },
   "outputs": [],
   "source": []
  },
  {
   "cell_type": "code",
   "execution_count": null,
   "id": "33279036",
   "metadata": {
    "lines_to_next_cell": 2,
    "tags": [
     "solution"
    ]
   },
   "outputs": [],
   "source": []
  },
  {
   "cell_type": "markdown",
   "id": "9bea5990",
   "metadata": {
    "lang": "de"
   },
   "source": [
    "Wie viele Zeilen hat der DataFrame?"
   ]
  },
  {
   "cell_type": "code",
   "execution_count": null,
   "id": "1cf4a275",
   "metadata": {
    "lines_to_next_cell": 2,
    "tags": [
     "solution"
    ]
   },
   "outputs": [],
   "source": []
  },
  {
   "cell_type": "markdown",
   "id": "6ca6b8e5",
   "metadata": {
    "lang": "de"
   },
   "source": [
    "Welche Spalten hat der DataFrame?\n",
    "Gibt es Spalten im DataFrame die undefinierte Werte (NA) enthalten?"
   ]
  },
  {
   "cell_type": "code",
   "execution_count": null,
   "id": "eb9c30c1",
   "metadata": {
    "tags": [
     "solution"
    ]
   },
   "outputs": [],
   "source": []
  },
  {
   "cell_type": "code",
   "execution_count": null,
   "id": "ae90ca39",
   "metadata": {
    "lines_to_next_cell": 2
   },
   "outputs": [],
   "source": [
    "# This is true if `notna()` drops rows, i.e., if\n",
    "df.isna().sum()"
   ]
  },
  {
   "cell_type": "markdown",
   "id": "134110f6",
   "metadata": {
    "lang": "de"
   },
   "source": [
    "\n",
    "Was sind Minimum, Maximum, Mittelwert und\n",
    "Standardabweichung der einzelnen Spalten?"
   ]
  },
  {
   "cell_type": "code",
   "execution_count": null,
   "id": "eb282fa1",
   "metadata": {
    "tags": [
     "solution"
    ]
   },
   "outputs": [],
   "source": []
  },
  {
   "cell_type": "markdown",
   "id": "c54bad1e",
   "metadata": {
    "lang": "de"
   },
   "source": [
    "Erzeugen Sie Histogramme der einzelnen Spalten.\n",
    "Welche Auffälligkeiten gibt es dabei?"
   ]
  },
  {
   "cell_type": "code",
   "execution_count": null,
   "id": "6180a66f",
   "metadata": {
    "tags": [
     "solution"
    ]
   },
   "outputs": [],
   "source": []
  },
  {
   "cell_type": "markdown",
   "id": "99403af2",
   "metadata": {
    "lang": "de"
   },
   "source": [
    "\n",
    "Erzeugen Sie einen neuen DataFrame, der nur die Zeilen enthält, deren `Target`\n",
    "Wert größer als 4 ist. Wie viele einträge hat dieser DataFrame?"
   ]
  },
  {
   "cell_type": "code",
   "execution_count": null,
   "id": "d5885eaa",
   "metadata": {
    "tags": [
     "solution"
    ]
   },
   "outputs": [],
   "source": []
  },
  {
   "cell_type": "code",
   "execution_count": null,
   "id": "d15d323d",
   "metadata": {
    "lines_to_next_cell": 2,
    "tags": [
     "solution"
    ]
   },
   "outputs": [],
   "source": []
  },
  {
   "cell_type": "markdown",
   "id": "4e9ce5c9",
   "metadata": {
    "lang": "de"
   },
   "source": [
    "\n",
    "Plotten Sie Longitude vs. Latitude als Scatterplot. Was können Sie aus diesem\n",
    "Plot ablesen?\n",
    "\n",
    "Mit dem Keyword-Argument `c` können Sie einen Spaltennamen angeben, deren\n",
    "Werte die Farbe der Ausgabe bestimmen. Mit `cmap` können Sie eine Colormap\n",
    "dafür angeben. Mit dem Keyword-Argument `alpha` können Sie die Transparenz der\n",
    "Ausgabe steuern.\n",
    "\n",
    "Experimentieren Sie mit diesen Werten um die Ausgabe informativer zu\n",
    "gestalten."
   ]
  },
  {
   "cell_type": "code",
   "execution_count": null,
   "id": "ce48f38f",
   "metadata": {
    "tags": [
     "solution"
    ]
   },
   "outputs": [],
   "source": []
  },
  {
   "cell_type": "markdown",
   "id": "354b9d2c",
   "metadata": {
    "lang": "de",
    "lines_to_next_cell": 2
   },
   "source": [
    "Wie sieht die entsprechende Ausgabe für den DataFrame aus, der nur\n",
    "teure Häuser enthält?"
   ]
  },
  {
   "cell_type": "code",
   "execution_count": null,
   "id": "3ba5eb67",
   "metadata": {
    "lines_to_next_cell": 2,
    "tags": [
     "solution"
    ]
   },
   "outputs": [],
   "source": []
  },
  {
   "cell_type": "markdown",
   "id": "b8eed506",
   "metadata": {
    "lang": "de"
   },
   "source": [
    "\n",
    "Falls Sie Seaborn installiert haben können Sie mit `seaborn.pairplot()` ein\n",
    "Grid mit Scatterplots aus allen möglichen Kombinationen von Spalten erzeugen.\n",
    "Mit dem Keyword-Argument `hue` können Sie dabei eine Spalte angeben, die die\n",
    "Farbe der Ausgabe bestimmt.\n",
    "\n",
    "Welche der Plots liefern interessante Informationen? Welche Werte sind für\n",
    "`hue` interessant?\n",
    "\n",
    "*Hinweis:* Es empfiehlt sich, die Anzahl der Werte auf z.B. 500 oder 1000 zu\n",
    "beschränken um die Zeit, die die Erzeugung der Plots dauert in Grenzen zu\n",
    "halten."
   ]
  },
  {
   "cell_type": "code",
   "execution_count": null,
   "id": "74641d74",
   "metadata": {
    "tags": [
     "solution"
    ]
   },
   "outputs": [],
   "source": []
  },
  {
   "cell_type": "code",
   "execution_count": null,
   "id": "176be8b2",
   "metadata": {
    "tags": [
     "solution"
    ]
   },
   "outputs": [],
   "source": []
  },
  {
   "cell_type": "code",
   "execution_count": null,
   "id": "6dfdd4cd",
   "metadata": {
    "tags": [
     "solution"
    ]
   },
   "outputs": [],
   "source": []
  },
  {
   "cell_type": "code",
   "execution_count": null,
   "id": "5bc6faf7",
   "metadata": {
    "tags": [
     "solution"
    ]
   },
   "outputs": [],
   "source": []
  },
  {
   "cell_type": "code",
   "execution_count": null,
   "id": "c702ffb8",
   "metadata": {
    "tags": [
     "solution"
    ]
   },
   "outputs": [],
   "source": []
  },
  {
   "cell_type": "code",
   "execution_count": null,
   "id": "5119c394",
   "metadata": {
    "tags": [
     "solution"
    ]
   },
   "outputs": [],
   "source": []
  },
  {
   "cell_type": "code",
   "execution_count": null,
   "id": "5a37691c",
   "metadata": {
    "tags": [
     "solution"
    ]
   },
   "outputs": [],
   "source": []
  },
  {
   "cell_type": "code",
   "execution_count": null,
   "id": "5192cabc",
   "metadata": {
    "tags": [
     "solution"
    ]
   },
   "outputs": [],
   "source": []
  },
  {
   "cell_type": "code",
   "execution_count": null,
   "id": "6f6b2cd3",
   "metadata": {
    "tags": [
     "solution"
    ]
   },
   "outputs": [],
   "source": []
  },
  {
   "cell_type": "code",
   "execution_count": null,
   "id": "f2b9bbad",
   "metadata": {
    "tags": [
     "solution"
    ]
   },
   "outputs": [],
   "source": []
  },
  {
   "cell_type": "code",
   "execution_count": null,
   "id": "84156ee6",
   "metadata": {
    "tags": [
     "solution"
    ]
   },
   "outputs": [],
   "source": []
  },
  {
   "cell_type": "code",
   "execution_count": null,
   "id": "df8d3566",
   "metadata": {
    "lines_to_next_cell": 1,
    "tags": [
     "solution"
    ]
   },
   "outputs": [],
   "source": []
  },
  {
   "cell_type": "code",
   "execution_count": null,
   "id": "51e626dc",
   "metadata": {
    "tags": [
     "solution"
    ]
   },
   "outputs": [],
   "source": []
  },
  {
   "cell_type": "code",
   "execution_count": null,
   "id": "a42acb9c",
   "metadata": {
    "tags": [
     "solution"
    ]
   },
   "outputs": [],
   "source": []
  },
  {
   "cell_type": "code",
   "execution_count": null,
   "id": "c6aeb5da",
   "metadata": {
    "tags": [
     "solution"
    ]
   },
   "outputs": [],
   "source": []
  },
  {
   "cell_type": "code",
   "execution_count": null,
   "id": "6bed5bf7",
   "metadata": {
    "tags": [
     "solution"
    ]
   },
   "outputs": [],
   "source": []
  },
  {
   "cell_type": "code",
   "execution_count": null,
   "id": "bc73899d",
   "metadata": {
    "tags": [
     "solution"
    ]
   },
   "outputs": [],
   "source": []
  },
  {
   "cell_type": "code",
   "execution_count": null,
   "id": "18b51bb1",
   "metadata": {
    "tags": [
     "solution"
    ]
   },
   "outputs": [],
   "source": []
  },
  {
   "cell_type": "code",
   "execution_count": null,
   "id": "a79cc4e0",
   "metadata": {
    "tags": [
     "solution"
    ]
   },
   "outputs": [],
   "source": []
  },
  {
   "cell_type": "code",
   "execution_count": null,
   "id": "e024a8b3",
   "metadata": {
    "tags": [
     "solution"
    ]
   },
   "outputs": [],
   "source": []
  },
  {
   "cell_type": "code",
   "execution_count": null,
   "id": "271a0379",
   "metadata": {
    "tags": [
     "solution"
    ]
   },
   "outputs": [],
   "source": []
  },
  {
   "cell_type": "code",
   "execution_count": null,
   "id": "2c9b8eae",
   "metadata": {
    "tags": [
     "solution"
    ]
   },
   "outputs": [],
   "source": []
  },
  {
   "cell_type": "code",
   "execution_count": null,
   "id": "ad96c347",
   "metadata": {
    "tags": [
     "solution"
    ]
   },
   "outputs": [],
   "source": []
  },
  {
   "cell_type": "code",
   "execution_count": null,
   "id": "78a42d79",
   "metadata": {},
   "outputs": [],
   "source": [
    "x_train[:3]"
   ]
  },
  {
   "cell_type": "code",
   "execution_count": null,
   "id": "c66e278a",
   "metadata": {
    "tags": [
     "solution"
    ]
   },
   "outputs": [],
   "source": []
  },
  {
   "cell_type": "code",
   "execution_count": null,
   "id": "e3001d20",
   "metadata": {
    "tags": [
     "solution"
    ]
   },
   "outputs": [],
   "source": []
  },
  {
   "cell_type": "code",
   "execution_count": null,
   "id": "10f20f39",
   "metadata": {
    "tags": [
     "solution"
    ]
   },
   "outputs": [],
   "source": []
  },
  {
   "cell_type": "code",
   "execution_count": null,
   "id": "1a33faeb",
   "metadata": {
    "tags": [
     "solution"
    ]
   },
   "outputs": [],
   "source": []
  },
  {
   "cell_type": "code",
   "execution_count": null,
   "id": "5c5cb081",
   "metadata": {
    "tags": [
     "solution"
    ]
   },
   "outputs": [],
   "source": []
  },
  {
   "cell_type": "code",
   "execution_count": null,
   "id": "f80b385c",
   "metadata": {
    "tags": [
     "solution"
    ]
   },
   "outputs": [],
   "source": []
  },
  {
   "cell_type": "code",
   "execution_count": null,
   "id": "971bfff3",
   "metadata": {
    "tags": [
     "solution"
    ]
   },
   "outputs": [],
   "source": []
  },
  {
   "cell_type": "code",
   "execution_count": null,
   "id": "a220d9db",
   "metadata": {
    "tags": [
     "solution"
    ]
   },
   "outputs": [],
   "source": []
  },
  {
   "cell_type": "code",
   "execution_count": null,
   "id": "a6bd183c",
   "metadata": {
    "tags": [
     "solution"
    ]
   },
   "outputs": [],
   "source": []
  },
  {
   "cell_type": "code",
   "execution_count": null,
   "id": "541f1a47",
   "metadata": {
    "tags": [
     "solution"
    ]
   },
   "outputs": [],
   "source": []
  },
  {
   "cell_type": "code",
   "execution_count": null,
   "id": "717e6fe9",
   "metadata": {
    "tags": [
     "solution"
    ]
   },
   "outputs": [],
   "source": []
  },
  {
   "cell_type": "code",
   "execution_count": null,
   "id": "9cf33c61",
   "metadata": {
    "tags": [
     "solution"
    ]
   },
   "outputs": [],
   "source": []
  },
  {
   "cell_type": "code",
   "execution_count": null,
   "id": "d0431657",
   "metadata": {
    "tags": [
     "solution"
    ]
   },
   "outputs": [],
   "source": []
  },
  {
   "cell_type": "code",
   "execution_count": null,
   "id": "de1a042c",
   "metadata": {
    "tags": [
     "solution"
    ]
   },
   "outputs": [],
   "source": []
  }
 ],
 "metadata": {
  "jupytext": {
   "encoding": "# -*- coding: utf-8 -*-",
   "formats": "ipynb"
  },
  "kernelspec": {
   "display_name": "Python 3 (ipykernel)",
   "language": "python",
   "name": "python3"
  }
 },
 "nbformat": 4,
 "nbformat_minor": 5
}
