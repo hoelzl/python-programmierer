{
 "cells": [
  {
   "cell_type": "markdown",
   "id": "27ca40a9",
   "metadata": {
    "lang": "de"
   },
   "source": [
    "# Todo-Liste Version 2\n",
    "\n",
    "In diesem Workshop wollen wir wieder eine Todo-Liste implementieren, aber dabei\n",
    "sowohl die Liste als auch die Einträge durch Instanzen von Klassen darstellen.\n",
    "\n",
    "Jeder Eintrag in der Todo-Liste soll wieder folgende Information enthalten:\n",
    "\n",
    "- Titel\n",
    "- Priorität\n",
    "- Wurde das Item schon erledigt oder nicht?\n",
    "\n",
    "Definieren Sie eine Klasse `TodoItem`, die diese Daten kapselt."
   ]
  },
  {
   "cell_type": "code",
   "execution_count": null,
   "id": "a0808e63",
   "metadata": {
    "tags": [
     "solution"
    ]
   },
   "outputs": [],
   "source": []
  },
  {
   "cell_type": "markdown",
   "id": "dfd34055",
   "metadata": {
    "lang": "de"
   },
   "source": [
    "Erzeugen Sie ein Todo-Item mit folgenden Bestandteilen:\n",
    "- Titel: Python lernen\n",
    "- Priorität 3\n",
    "- nicht erledigt"
   ]
  },
  {
   "cell_type": "code",
   "execution_count": null,
   "id": "595c7ac4",
   "metadata": {
    "tags": [
     "solution"
    ]
   },
   "outputs": [],
   "source": []
  },
  {
   "cell_type": "markdown",
   "id": "c7e35316",
   "metadata": {
    "lang": "de"
   },
   "source": [
    "Die Repräsentation des Items ist nicht sehr aussagekräftig. Definieren Sie\n",
    "deshalb eine Funktion `todo_item_as_string(item: TodoItem) -> str`, die ein\n",
    "Todo-Item in einen String umwandelt, der Information über die Bestandteile\n",
    "enthält."
   ]
  },
  {
   "cell_type": "code",
   "execution_count": null,
   "id": "9bb76de9",
   "metadata": {
    "tags": [
     "solution"
    ]
   },
   "outputs": [],
   "source": []
  },
  {
   "cell_type": "code",
   "execution_count": null,
   "id": "76bd9656",
   "metadata": {
    "tags": [
     "solution"
    ]
   },
   "outputs": [],
   "source": []
  },
  {
   "cell_type": "markdown",
   "id": "95b364cb",
   "metadata": {
    "lang": "de"
   },
   "source": [
    "Definieren Sie eine Klasse `TodoList`, die eine Todo-Liste repräsentiert."
   ]
  },
  {
   "cell_type": "code",
   "execution_count": null,
   "id": "c3b34101",
   "metadata": {
    "tags": [
     "solution"
    ]
   },
   "outputs": [],
   "source": []
  },
  {
   "cell_type": "markdown",
   "id": "bf71694f",
   "metadata": {
    "lang": "de"
   },
   "source": [
    "Definieren Sie eine Funktion\n",
    "\n",
    "`todo_list_as_string(todo_list: TodoList) -> str`,\n",
    "\n",
    "die eine Todo-Liste in einen String umwandelt, der Information über ihre\n",
    "Bestandteile enthält."
   ]
  },
  {
   "cell_type": "code",
   "execution_count": null,
   "id": "586df32b",
   "metadata": {
    "tags": [
     "solution"
    ]
   },
   "outputs": [],
   "source": []
  },
  {
   "cell_type": "markdown",
   "id": "08121dd0",
   "metadata": {
    "lang": "de"
   },
   "source": [
    "Legen Sie eine Todo-Liste `todos` mit Todo-Items an, die folgende Einträge\n",
    " enthält:\n",
    "\n",
    "- Titel: Python lernen, Priorität 3, nicht erledigt\n",
    "- Titel: Gemüse einkaufen, Priorität 2, nicht erledigt\n",
    "- Titel: Hans anrufen, Priorität 5, erledigt"
   ]
  },
  {
   "cell_type": "code",
   "execution_count": null,
   "id": "d648370a",
   "metadata": {
    "tags": [
     "solution"
    ]
   },
   "outputs": [],
   "source": []
  },
  {
   "cell_type": "code",
   "execution_count": null,
   "id": "fa15bc6c",
   "metadata": {
    "tags": [
     "solution"
    ]
   },
   "outputs": [],
   "source": []
  },
  {
   "cell_type": "markdown",
   "id": "3847c8eb",
   "metadata": {
    "lang": "de"
   },
   "source": [
    "Schreiben Sie eine Funktion `add_todo_item(todo_list, title, priority)`,\n",
    "die ein neues Todo-Item zu `todo_list` hinzufügt."
   ]
  },
  {
   "cell_type": "code",
   "execution_count": null,
   "id": "d0d523cc",
   "metadata": {
    "tags": [
     "solution"
    ]
   },
   "outputs": [],
   "source": []
  },
  {
   "cell_type": "markdown",
   "id": "fb98b8e9",
   "metadata": {
    "lang": "de"
   },
   "source": [
    "Fügen Sie ein neues Todo-Item mit Titel \"Schnee schaufeln\" und Priorität 5\n",
    "in die Liste `todos` ein."
   ]
  },
  {
   "cell_type": "code",
   "execution_count": null,
   "id": "e113b9e0",
   "metadata": {
    "tags": [
     "solution"
    ]
   },
   "outputs": [],
   "source": []
  },
  {
   "cell_type": "code",
   "execution_count": null,
   "id": "b1254e37",
   "metadata": {
    "tags": [
     "solution"
    ]
   },
   "outputs": [],
   "source": []
  },
  {
   "cell_type": "markdown",
   "id": "7211ce65",
   "metadata": {
    "lang": "de"
   },
   "source": [
    "\n",
    "Schreiben Sie eine Funktion `mark_todo_item_done(todo_list, title)`,\n",
    "die das erste in der Liste `todo_list` vorkommende Todo-Item mit Titel\n",
    "`title`, das noch nicht bearbeitet ist, als bearbeitet markiert."
   ]
  },
  {
   "cell_type": "code",
   "execution_count": null,
   "id": "74ee1ef1",
   "metadata": {
    "tags": [
     "solution"
    ]
   },
   "outputs": [],
   "source": []
  },
  {
   "cell_type": "markdown",
   "id": "8c86a0a6",
   "metadata": {
    "lang": "de"
   },
   "source": [
    "Markieren Sie das Todo-Item `Schnee schaufeln` als bearbeitet."
   ]
  },
  {
   "cell_type": "code",
   "execution_count": null,
   "id": "fe1e0b42",
   "metadata": {
    "tags": [
     "solution"
    ]
   },
   "outputs": [],
   "source": []
  },
  {
   "cell_type": "code",
   "execution_count": null,
   "id": "4f2ac447",
   "metadata": {
    "tags": [
     "solution"
    ]
   },
   "outputs": [],
   "source": []
  },
  {
   "cell_type": "markdown",
   "id": "ae6613b8",
   "metadata": {
    "lang": "de"
   },
   "source": [
    "Fügen Sie zwei Todo-Items mit Text \"Python lernen\" und Priorität 1 und 6\n",
    "zur Todo-Liste hinzu."
   ]
  },
  {
   "cell_type": "code",
   "execution_count": null,
   "id": "09723b46",
   "metadata": {
    "tags": [
     "solution"
    ]
   },
   "outputs": [],
   "source": []
  },
  {
   "cell_type": "code",
   "execution_count": null,
   "id": "d81511a9",
   "metadata": {
    "tags": [
     "solution"
    ]
   },
   "outputs": [],
   "source": []
  },
  {
   "cell_type": "markdown",
   "id": "bb7d2018",
   "metadata": {
    "lang": "de"
   },
   "source": [
    "Markieren Sie ein Todo-Item \"Python lernen\" als erledigt.\n",
    "Wie sieht jetzt Ihre Liste aus?"
   ]
  },
  {
   "cell_type": "code",
   "execution_count": null,
   "id": "4e4e21fb",
   "metadata": {
    "tags": [
     "solution"
    ]
   },
   "outputs": [],
   "source": []
  },
  {
   "cell_type": "code",
   "execution_count": null,
   "id": "b0d03a43",
   "metadata": {
    "tags": [
     "solution"
    ]
   },
   "outputs": [],
   "source": []
  },
  {
   "cell_type": "markdown",
   "id": "7c0ac444",
   "metadata": {
    "lang": "de"
   },
   "source": [
    "Markieren Sie noch zwei Todo-Items `Python lernen` als erledigt.\n",
    "Wie sieht jetzt Ihre Liste aus?"
   ]
  },
  {
   "cell_type": "code",
   "execution_count": null,
   "id": "bf12fcdd",
   "metadata": {
    "tags": [
     "solution"
    ]
   },
   "outputs": [],
   "source": []
  },
  {
   "cell_type": "code",
   "execution_count": null,
   "id": "8601e3a7",
   "metadata": {
    "tags": [
     "solution"
    ]
   },
   "outputs": [],
   "source": []
  },
  {
   "cell_type": "markdown",
   "id": "44b04006",
   "metadata": {
    "lang": "de"
   },
   "source": [
    "Schreiben Sie eine Funktion `delete_todo_item(todo_list, title)`, die das\n",
    "erste in der liste `todo_list` vorkommende Todo-Item mit Titel `title` aus\n",
    " der Liste entfernt.\n",
    "\n",
    "*Vorsicht: Sie sollten während Sie über eine Liste iterieren keine Einträge\n",
    "entfernen oder einfügen!*"
   ]
  },
  {
   "cell_type": "code",
   "execution_count": null,
   "id": "8f001268",
   "metadata": {
    "tags": [
     "solution"
    ]
   },
   "outputs": [],
   "source": []
  },
  {
   "cell_type": "markdown",
   "id": "9a5340fe",
   "metadata": {
    "lang": "de"
   },
   "source": [
    "Entfernen Sie eines der Items `Python lernen`."
   ]
  },
  {
   "cell_type": "code",
   "execution_count": null,
   "id": "44f07ab8",
   "metadata": {
    "tags": [
     "solution"
    ]
   },
   "outputs": [],
   "source": []
  },
  {
   "cell_type": "markdown",
   "id": "b2062eaa",
   "metadata": {
    "lang": "de"
   },
   "source": [
    "Entfernen Sie dreimal ein Item `Python lernen`. Was erwarten Sie als Ergebnis?"
   ]
  },
  {
   "cell_type": "code",
   "execution_count": null,
   "id": "60105351",
   "metadata": {
    "tags": [
     "solution"
    ]
   },
   "outputs": [],
   "source": []
  },
  {
   "cell_type": "code",
   "execution_count": null,
   "id": "c339fbe3",
   "metadata": {
    "tags": [
     "solution"
    ]
   },
   "outputs": [],
   "source": []
  },
  {
   "cell_type": "code",
   "execution_count": null,
   "id": "dc37eca2",
   "metadata": {
    "tags": [
     "solution"
    ]
   },
   "outputs": [],
   "source": []
  },
  {
   "cell_type": "markdown",
   "id": "217ae4af",
   "metadata": {
    "lang": "de"
   },
   "source": [
    "Schreiben Sie eine Funktiion `delete_all_completed_todo_items(todo_list)`,\n",
    "die alle erledigten Todo-Items aus `todo_list` löscht.\n",
    "\n",
    "*Hinweis: Sie benötigen dazu wahrscheinlich zwei aufeinanderfolgende\n",
    "`for`-Schleifen: eine um die Indizes zu bestimmen und eine um sie zu löschen*"
   ]
  },
  {
   "cell_type": "code",
   "execution_count": null,
   "id": "f50c00b5",
   "metadata": {
    "tags": [
     "solution"
    ]
   },
   "outputs": [],
   "source": []
  },
  {
   "cell_type": "code",
   "execution_count": null,
   "id": "2865027d",
   "metadata": {
    "tags": [
     "solution"
    ]
   },
   "outputs": [],
   "source": []
  },
  {
   "cell_type": "markdown",
   "id": "87e54b13",
   "metadata": {
    "lang": "de"
   },
   "source": [
    "Testen Sie Ihre Implementierung von `delete_all_completed_todo_items()` mit\n",
    "der folgenden Liste:"
   ]
  },
  {
   "cell_type": "code",
   "execution_count": null,
   "id": "3cdae7a0",
   "metadata": {
    "tags": [
     "solution"
    ]
   },
   "outputs": [],
   "source": []
  },
  {
   "cell_type": "code",
   "execution_count": null,
   "id": "2ff603b0",
   "metadata": {
    "tags": [
     "solution"
    ]
   },
   "outputs": [],
   "source": []
  },
  {
   "cell_type": "code",
   "execution_count": null,
   "id": "1bcdb0b6",
   "metadata": {},
   "outputs": [],
   "source": []
  }
 ],
 "metadata": {
  "jupytext": {
   "encoding": "# -*- coding: utf-8 -*-",
   "formats": "ipynb"
  },
  "kernelspec": {
   "display_name": "Python 3 (ipykernel)",
   "language": "python",
   "name": "python3"
  }
 },
 "nbformat": 4,
 "nbformat_minor": 5
}
