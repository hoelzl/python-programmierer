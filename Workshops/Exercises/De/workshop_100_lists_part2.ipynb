{
 "cells": [
  {
   "cell_type": "markdown",
   "id": "46c6406d",
   "metadata": {
    "lang": "de"
   },
   "source": [
    "# Farben\n",
    "\n",
    "Definieren Sie eine Variable `farben`, die eine Liste mit den Strings\n",
    "`Rot`, `Grün` und `Blau` enthält."
   ]
  },
  {
   "cell_type": "code",
   "execution_count": null,
   "id": "a91a5461",
   "metadata": {
    "tags": [
     "solution"
    ]
   },
   "outputs": [],
   "source": []
  },
  {
   "cell_type": "markdown",
   "id": "dedb9d55",
   "metadata": {
    "lang": "de"
   },
   "source": [
    "Überprüfen Sie, ob der String `Gelb` in `farben` enthalten ist"
   ]
  },
  {
   "cell_type": "code",
   "execution_count": null,
   "id": "22ffed32",
   "metadata": {
    "tags": [
     "solution"
    ]
   },
   "outputs": [],
   "source": []
  },
  {
   "cell_type": "markdown",
   "id": "5e01e746",
   "metadata": {
    "lang": "de"
   },
   "source": [
    "Fügen Sie `Gelb` zu den Farben hinzu."
   ]
  },
  {
   "cell_type": "code",
   "execution_count": null,
   "id": "6e96eaee",
   "metadata": {
    "tags": [
     "solution"
    ]
   },
   "outputs": [],
   "source": []
  },
  {
   "cell_type": "markdown",
   "id": "611c204f",
   "metadata": {
    "lang": "de"
   },
   "source": [
    "Überprüfen Sie nochmals, ob `Gelb` in den Farben enthalten ist."
   ]
  },
  {
   "cell_type": "code",
   "execution_count": null,
   "id": "9874f9e8",
   "metadata": {
    "tags": [
     "solution"
    ]
   },
   "outputs": [],
   "source": []
  },
  {
   "cell_type": "markdown",
   "id": "13abbf52",
   "metadata": {
    "lang": "de"
   },
   "source": [
    "Wie viele Farben enthält die in `farben` gespeicherte Liste jetzt?"
   ]
  },
  {
   "cell_type": "code",
   "execution_count": null,
   "id": "02d1121c",
   "metadata": {
    "tags": [
     "solution"
    ]
   },
   "outputs": [],
   "source": []
  },
  {
   "cell_type": "markdown",
   "id": "d26f5867",
   "metadata": {
    "lang": "de"
   },
   "source": [
    "Ändern Sie das erste Element von `farben` in `Dunkelrot`"
   ]
  },
  {
   "cell_type": "code",
   "execution_count": null,
   "id": "cd33c4a0",
   "metadata": {
    "tags": [
     "solution"
    ]
   },
   "outputs": [],
   "source": []
  },
  {
   "cell_type": "markdown",
   "id": "7d8bf618",
   "metadata": {
    "lang": "de"
   },
   "source": [
    "Fügen Sie `Lila` als zweites Element in die Liste ein."
   ]
  },
  {
   "cell_type": "code",
   "execution_count": null,
   "id": "b2928e0c",
   "metadata": {
    "tags": [
     "solution"
    ]
   },
   "outputs": [],
   "source": []
  },
  {
   "cell_type": "markdown",
   "id": "8642e1a8",
   "metadata": {
    "lang": "de"
   },
   "source": [
    "Was ist das dritte Element der Liste `farben`?"
   ]
  },
  {
   "cell_type": "code",
   "execution_count": null,
   "id": "897cff79",
   "metadata": {
    "tags": [
     "solution"
    ]
   },
   "outputs": [],
   "source": []
  },
  {
   "cell_type": "markdown",
   "id": "a52fac25",
   "metadata": {
    "lang": "de"
   },
   "source": [
    "Löschen Sie das zweite Element der Liste `farben`"
   ]
  },
  {
   "cell_type": "code",
   "execution_count": null,
   "id": "b6788d9a",
   "metadata": {
    "tags": [
     "solution"
    ]
   },
   "outputs": [],
   "source": []
  },
  {
   "cell_type": "markdown",
   "id": "4c695e37",
   "metadata": {
    "lang": "de"
   },
   "source": [
    "Was ist das dritte Element der Liste `farben` jetzt?"
   ]
  },
  {
   "cell_type": "code",
   "execution_count": null,
   "id": "026fabbd",
   "metadata": {
    "tags": [
     "solution"
    ]
   },
   "outputs": [],
   "source": []
  },
  {
   "cell_type": "markdown",
   "id": "f6de533f",
   "metadata": {
    "lang": "de"
   },
   "source": [
    "# Slicing"
   ]
  },
  {
   "cell_type": "code",
   "execution_count": null,
   "id": "f59cc0df",
   "metadata": {},
   "outputs": [],
   "source": [
    "my_list = [0, 1, 2, 3, 4, 5, 6, 7, 8, 9]"
   ]
  },
  {
   "cell_type": "markdown",
   "id": "b68a07cb",
   "metadata": {
    "lang": "de"
   },
   "source": [
    "Extrahieren Sie von `my_list` eine Liste mit allen Elementen außer den ersten beiden."
   ]
  },
  {
   "cell_type": "code",
   "execution_count": null,
   "id": "1f1cef08",
   "metadata": {
    "tags": [
     "solution"
    ]
   },
   "outputs": [],
   "source": []
  },
  {
   "cell_type": "markdown",
   "id": "c02dd887",
   "metadata": {
    "lang": "de"
   },
   "source": [
    "Extrahieren Sie von `my_list` eine Liste, die aus dem 2. und 3. Element besteht."
   ]
  },
  {
   "cell_type": "code",
   "execution_count": null,
   "id": "435a3caf",
   "metadata": {
    "tags": [
     "solution"
    ]
   },
   "outputs": [],
   "source": []
  },
  {
   "cell_type": "markdown",
   "id": "9f6b5f80",
   "metadata": {
    "lang": "de"
   },
   "source": [
    "Extrahieren Sie von `my_list` eine neue Liste, die alle Elemente außer dem\n",
    "ersten und dem letzten enthält."
   ]
  },
  {
   "cell_type": "code",
   "execution_count": null,
   "id": "229c8118",
   "metadata": {
    "tags": [
     "solution"
    ]
   },
   "outputs": [],
   "source": []
  },
  {
   "cell_type": "markdown",
   "id": "37842860",
   "metadata": {
    "lang": "de"
   },
   "source": [
    "# Finden in Listen\n",
    "\n",
    "Schreiben Sie eine Funktion `finde_erste_gerade_zahl(liste)`, die den Index\n",
    "der ersten geraden Zahl in einer Liste von ganzen Zahlen zurückgibt. Falls\n",
    "die Liste keine gerade Zahl enthält soll die Funktion `None` zurückgeben."
   ]
  },
  {
   "cell_type": "code",
   "execution_count": null,
   "id": "819221c7",
   "metadata": {
    "tags": [
     "solution"
    ]
   },
   "outputs": [],
   "source": []
  },
  {
   "cell_type": "markdown",
   "id": "b75c25be",
   "metadata": {
    "lang": "de"
   },
   "source": [
    "Testen Sie die Funktion für geeignete Argumente."
   ]
  },
  {
   "cell_type": "code",
   "execution_count": null,
   "id": "b44d4f81",
   "metadata": {
    "tags": [
     "solution"
    ]
   },
   "outputs": [],
   "source": []
  },
  {
   "cell_type": "markdown",
   "id": "c63e9fc1",
   "metadata": {
    "lang": "de"
   },
   "source": [
    "## Mittelwert einer Liste\n",
    "\n",
    "Der Mittelwert einer Liste mit $n$ Elementen $[x_0, \\dots, x_{n-1}]$ ist\n",
    "definiert als\n",
    "\n",
    "$$\\frac{x_0 + \\dots + x_{n-1}}{n}$$\n",
    "\n",
    "Schreiben Sie eine Funktion `mittelwert(liste)`, die den Mittelwert einer\n",
    "Liste berechnet."
   ]
  },
  {
   "cell_type": "code",
   "execution_count": null,
   "id": "20f96a2a",
   "metadata": {
    "tags": [
     "solution"
    ]
   },
   "outputs": [],
   "source": []
  },
  {
   "cell_type": "markdown",
   "id": "6db57465",
   "metadata": {
    "lang": "de",
    "pycharm": {
     "name": "#%% md\n"
    }
   },
   "source": [
    "Testen Sie die Funktion für geeignete Argumente."
   ]
  },
  {
   "cell_type": "code",
   "execution_count": null,
   "id": "93298a34",
   "metadata": {
    "tags": [
     "solution"
    ]
   },
   "outputs": [],
   "source": []
  },
  {
   "cell_type": "code",
   "execution_count": null,
   "id": "54be0ad3",
   "metadata": {
    "tags": [
     "solution"
    ]
   },
   "outputs": [],
   "source": []
  },
  {
   "cell_type": "markdown",
   "id": "79d1df9b",
   "metadata": {
    "lang": "de"
   },
   "source": [
    "**Zusatzaufgabe:** Der Mittelwert der Elemente einer Liste kann iterativ\n",
    "folgendermaßen berechnet werden:\n",
    "\n",
    "- Der Mittelwert $m$ der leeren Liste ist (per Definition für diese Lösung) 0\n",
    "- Wenn wir das $n+1$-te Element $x_{n+1}$ hinzufügen, so wird der neue\n",
    "  Mittelwert berechnet als\n",
    "\n",
    "$$m \\leftarrow m + \\frac{1}{n+1}(x_{n+1} - m)$$\n",
    "\n",
    "Schreiben Sie eine Funktion `iterativer_mittelwert(liste)`, die den\n",
    "Mittelwert einer Liste iterativ berechnet.\n"
   ]
  },
  {
   "cell_type": "code",
   "execution_count": null,
   "id": "a156e963",
   "metadata": {
    "tags": [
     "solution"
    ]
   },
   "outputs": [],
   "source": []
  },
  {
   "cell_type": "code",
   "execution_count": null,
   "id": "e47ba892",
   "metadata": {
    "tags": [
     "solution"
    ]
   },
   "outputs": [],
   "source": []
  },
  {
   "cell_type": "code",
   "execution_count": null,
   "id": "50e55abf",
   "metadata": {
    "tags": [
     "solution"
    ]
   },
   "outputs": [],
   "source": []
  },
  {
   "cell_type": "code",
   "execution_count": null,
   "id": "208a5247",
   "metadata": {
    "tags": [
     "solution"
    ]
   },
   "outputs": [],
   "source": []
  },
  {
   "cell_type": "code",
   "execution_count": null,
   "id": "1ee5623d",
   "metadata": {
    "tags": [
     "solution"
    ]
   },
   "outputs": [],
   "source": []
  },
  {
   "cell_type": "code",
   "execution_count": null,
   "id": "7ad337e6",
   "metadata": {
    "tags": [
     "solution"
    ]
   },
   "outputs": [],
   "source": []
  },
  {
   "cell_type": "code",
   "execution_count": null,
   "id": "71605b1a",
   "metadata": {
    "tags": [
     "solution"
    ]
   },
   "outputs": [],
   "source": []
  },
  {
   "cell_type": "markdown",
   "id": "c800ad0a",
   "metadata": {
    "lang": "de"
   },
   "source": [
    "# Quadratzahlen\n",
    "\n",
    "Gegeben sei die folgende Liste mit Zahlen."
   ]
  },
  {
   "cell_type": "code",
   "execution_count": null,
   "id": "868b0374",
   "metadata": {},
   "outputs": [],
   "source": [
    "numbers = [1, 7, 4, 87, 23]"
   ]
  },
  {
   "cell_type": "markdown",
   "id": "0173c06a",
   "metadata": {
    "lang": "de"
   },
   "source": [
    "Erzeugen Sie eine neue Liste, die die Quadrate der Zahlen in `numbers` enthält."
   ]
  },
  {
   "cell_type": "code",
   "execution_count": null,
   "id": "893152a7",
   "metadata": {
    "tags": [
     "solution"
    ]
   },
   "outputs": [],
   "source": []
  },
  {
   "cell_type": "markdown",
   "id": "8862b7cf",
   "metadata": {
    "lang": "de"
   },
   "source": [
    "Schreiben Sie eine Funktion `quadriere(zahlen)`, die eine neue Liste mit den\n",
    "Quadraten der Zahlen in `zahlen` zurückgibt."
   ]
  },
  {
   "cell_type": "code",
   "execution_count": null,
   "id": "7845048b",
   "metadata": {
    "tags": [
     "solution"
    ]
   },
   "outputs": [],
   "source": []
  },
  {
   "cell_type": "code",
   "execution_count": null,
   "id": "52b5b7cf",
   "metadata": {
    "tags": [
     "solution"
    ]
   },
   "outputs": [],
   "source": []
  },
  {
   "cell_type": "markdown",
   "id": "5ce6195e",
   "metadata": {
    "lang": "de"
   },
   "source": [
    "# Quadratzahlen mit Listen-Komprehension\n",
    "\n",
    "Erzeugen Sie eine neue Liste mit den Quadraten von `numbers`. Verwenden Sie\n",
    "dazu eine Listen-Komprehension"
   ]
  },
  {
   "cell_type": "code",
   "execution_count": null,
   "id": "9b125c9f",
   "metadata": {
    "tags": [
     "solution"
    ]
   },
   "outputs": [],
   "source": []
  },
  {
   "cell_type": "markdown",
   "id": "6e9589c0",
   "metadata": {
    "lang": "de"
   },
   "source": [
    "Schreiben Sie die Funktion `quadriere(zahlen)` mit Listen-Komprehension."
   ]
  },
  {
   "cell_type": "code",
   "execution_count": null,
   "id": "ecc3fd2f",
   "metadata": {
    "tags": [
     "solution"
    ]
   },
   "outputs": [],
   "source": []
  },
  {
   "cell_type": "code",
   "execution_count": null,
   "id": "67ef5c51",
   "metadata": {
    "tags": [
     "solution"
    ]
   },
   "outputs": [],
   "source": []
  },
  {
   "cell_type": "markdown",
   "id": "d5aba132",
   "metadata": {
    "lang": "de"
   },
   "source": [
    "# Filtern\n",
    "\n",
    "Gegeben sei die folgende Liste mit Zahlen:"
   ]
  },
  {
   "cell_type": "code",
   "execution_count": null,
   "id": "14adf374",
   "metadata": {},
   "outputs": [],
   "source": [
    "numbers = [1, 183, 7, 4, 87, 10, 23, -12, 493, 11]"
   ]
  },
  {
   "cell_type": "markdown",
   "id": "09ccfd20",
   "metadata": {
    "lang": "de"
   },
   "source": [
    "Erzeugen Sie eine neue Liste, die alle Zahlen in `numbers` enthält, die größer als 10 sind."
   ]
  },
  {
   "cell_type": "code",
   "execution_count": null,
   "id": "28f4a8c4",
   "metadata": {
    "tags": [
     "solution"
    ]
   },
   "outputs": [],
   "source": []
  },
  {
   "cell_type": "markdown",
   "id": "6f560c90",
   "metadata": {
    "lang": "de"
   },
   "source": [
    "Schreiben Sie eine Funktion `zahlen_größer_als_10(zahlen)`, die eine neue\n",
    "Liste zurückgibt, die die Zahlen aus `zahlen` enthält, die größer als 10 sind."
   ]
  },
  {
   "cell_type": "code",
   "execution_count": null,
   "id": "73ebd4ce",
   "metadata": {
    "tags": [
     "solution"
    ]
   },
   "outputs": [],
   "source": []
  },
  {
   "cell_type": "code",
   "execution_count": null,
   "id": "d8deb0da",
   "metadata": {
    "tags": [
     "solution"
    ]
   },
   "outputs": [],
   "source": []
  },
  {
   "cell_type": "markdown",
   "id": "a9582e8f",
   "metadata": {
    "lang": "de"
   },
   "source": [
    "# Filtern mit Listen-Komprehension\n",
    "\n",
    "Erzeugen Sie eine neue Liste, die alle Zahlen in `numbers` enthält, die größer\n",
    "als 10 sind. Verwenden Sie dazu Listen-Komprehension."
   ]
  },
  {
   "cell_type": "code",
   "execution_count": null,
   "id": "eccfd7ff",
   "metadata": {
    "tags": [
     "solution"
    ]
   },
   "outputs": [],
   "source": []
  },
  {
   "cell_type": "markdown",
   "id": "1ff78b8f",
   "metadata": {
    "lang": "de"
   },
   "source": [
    "Schreiben Sie die Funktion `zahlen_größer_als_10(zahlen)` mit\n",
    "Listen-Komprehension."
   ]
  },
  {
   "cell_type": "code",
   "execution_count": null,
   "id": "548cb20a",
   "metadata": {
    "tags": [
     "solution"
    ]
   },
   "outputs": [],
   "source": []
  },
  {
   "cell_type": "code",
   "execution_count": null,
   "id": "ff1e9d5a",
   "metadata": {
    "tags": [
     "solution"
    ]
   },
   "outputs": [],
   "source": []
  },
  {
   "cell_type": "markdown",
   "id": "a6db132a",
   "metadata": {
    "lang": "de"
   },
   "source": [
    "\n",
    "Schreiben Sie eine Funktion `quadrate_von_zahlen_kleiner_10( zahlen)`,\n",
    "die eine neue Liste zurückgibt, die die Quadrate aller Zahlen < 10 aus\n",
    "`zahlen` enthält."
   ]
  },
  {
   "cell_type": "code",
   "execution_count": null,
   "id": "e84483a0",
   "metadata": {
    "tags": [
     "solution"
    ]
   },
   "outputs": [],
   "source": []
  },
  {
   "cell_type": "code",
   "execution_count": null,
   "id": "fb5982db",
   "metadata": {},
   "outputs": [],
   "source": [
    "numbers"
   ]
  },
  {
   "cell_type": "code",
   "execution_count": null,
   "id": "6abbb7a0",
   "metadata": {
    "tags": [
     "solution"
    ]
   },
   "outputs": [],
   "source": []
  },
  {
   "cell_type": "markdown",
   "id": "a9c9bc12",
   "metadata": {
    "lang": "de"
   },
   "source": [
    "# Generatoren"
   ]
  },
  {
   "cell_type": "markdown",
   "id": "5ea08065",
   "metadata": {
    "lang": "de"
   },
   "source": [
    "## Generator für Quadratzahlen\n",
    "\n",
    "Schreiben Sie einen Generator, der die ersten 10 Quadratzahlen erzeugt."
   ]
  },
  {
   "cell_type": "code",
   "execution_count": null,
   "id": "89a83770",
   "metadata": {
    "tags": [
     "solution"
    ]
   },
   "outputs": [],
   "source": []
  },
  {
   "cell_type": "code",
   "execution_count": null,
   "id": "ac47b49d",
   "metadata": {
    "tags": [
     "solution"
    ]
   },
   "outputs": [],
   "source": []
  },
  {
   "cell_type": "markdown",
   "id": "c5174709",
   "metadata": {
    "lang": "de"
   },
   "source": [
    "## Take\n",
    "\n",
    "Schreiben Sie eine Funktion `take(n: int, it)` die ein Iterable `it` als\n",
    "Argument bekommt und ein neues Iterable zurückgibt, das die ersten `n`\n",
    "Elemente von `it` liefert."
   ]
  },
  {
   "cell_type": "code",
   "execution_count": null,
   "id": "d8ec747f",
   "metadata": {
    "tags": [
     "solution"
    ]
   },
   "outputs": [],
   "source": []
  },
  {
   "cell_type": "code",
   "execution_count": null,
   "id": "1c7ee9ae",
   "metadata": {
    "tags": [
     "solution"
    ]
   },
   "outputs": [],
   "source": []
  },
  {
   "cell_type": "code",
   "execution_count": null,
   "id": "d41fc71e",
   "metadata": {
    "tags": [
     "solution"
    ]
   },
   "outputs": [],
   "source": []
  }
 ],
 "metadata": {
  "jupytext": {
   "encoding": "# -*- coding: utf-8 -*-",
   "formats": "ipynb"
  },
  "kernelspec": {
   "display_name": "Python 3 (ipykernel)",
   "language": "python",
   "name": "python3"
  },
  "language_info": {
   "codemirror_mode": {
    "name": "ipython",
    "version": 3
   },
   "file_extension": ".py",
   "mimetype": "text/x-python",
   "name": "python",
   "nbconvert_exporter": "python",
   "pygments_lexer": "ipython3",
   "version": "3.10.4"
  },
  "nbTranslate": {
   "displayLangs": [
    "de"
   ],
   "hotkey": "alt-t",
   "langInMainMenu": true,
   "sourceLang": "de",
   "targetLang": "en",
   "useGoogleTranslate": true
  }
 },
 "nbformat": 4,
 "nbformat_minor": 5
}
