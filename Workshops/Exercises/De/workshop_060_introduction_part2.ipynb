{
 "cells": [
  {
   "cell_type": "markdown",
   "id": "27c54cd7",
   "metadata": {
    "lang": "de"
   },
   "source": [
    "# Operatoren, Vergleiche\n",
    "\n",
    "Ist $2^{16}$ größer als $32\\,000\\,\\,/\\,\\,2$?"
   ]
  },
  {
   "cell_type": "code",
   "execution_count": null,
   "id": "67afd02a",
   "metadata": {
    "tags": [
     "solution"
    ]
   },
   "outputs": [],
   "source": []
  },
  {
   "cell_type": "markdown",
   "id": "b34c16c1",
   "metadata": {
    "lang": "de"
   },
   "source": [
    "Ist $72$ ohne Rest durch $3$ teilbar?"
   ]
  },
  {
   "cell_type": "code",
   "execution_count": null,
   "id": "18e743c2",
   "metadata": {
    "tags": [
     "solution"
    ]
   },
   "outputs": [],
   "source": []
  },
  {
   "cell_type": "markdown",
   "id": "9ab202ab",
   "metadata": {
    "lang": "de"
   },
   "source": [
    "Ist $72$ eine gerade Zahl (d.h. ohne Rest durch 2 teilbar)?"
   ]
  },
  {
   "cell_type": "code",
   "execution_count": null,
   "id": "d69ccb81",
   "metadata": {
    "tags": [
     "solution"
    ]
   },
   "outputs": [],
   "source": []
  },
  {
   "cell_type": "markdown",
   "id": "36091899",
   "metadata": {
    "lang": "de"
   },
   "source": [
    "\n",
    "Schreiben Sie eine Funktion `ist_teilbar_durch(m, n)` die ( genau dann)\n",
    "`True` zurückgibt, wenn `m` durch `n` teilbar ist."
   ]
  },
  {
   "cell_type": "code",
   "execution_count": null,
   "id": "f54b88df",
   "metadata": {
    "tags": [
     "solution"
    ]
   },
   "outputs": [],
   "source": []
  },
  {
   "cell_type": "markdown",
   "id": "e3857923",
   "metadata": {
    "lang": "de"
   },
   "source": [
    "\n",
    "Schreiben Sie eine Funktion `ist_teilbar_durch_2_und_3(n)`, die genau dann\n",
    "`True` zurückgibt, wenn `n` ohne Rest durch $2$ und durch $3$ teilbar ist."
   ]
  },
  {
   "cell_type": "code",
   "execution_count": null,
   "id": "48bad130",
   "metadata": {
    "tags": [
     "solution"
    ]
   },
   "outputs": [],
   "source": []
  },
  {
   "cell_type": "code",
   "execution_count": null,
   "id": "07ff2295",
   "metadata": {
    "tags": [
     "solution"
    ]
   },
   "outputs": [],
   "source": []
  },
  {
   "cell_type": "markdown",
   "id": "04a81d1e",
   "metadata": {
    "lang": "de"
   },
   "source": [
    "Testen Sie, ob $72$ durch $2$ und durch $3$ teilbar ist."
   ]
  },
  {
   "cell_type": "code",
   "execution_count": null,
   "id": "064a07f3",
   "metadata": {
    "tags": [
     "solution"
    ]
   },
   "outputs": [],
   "source": []
  },
  {
   "cell_type": "markdown",
   "id": "9dea67e9",
   "metadata": {
    "lang": "de"
   },
   "source": [
    "# Volljährig\n",
    "\n",
    "Schreiben Sie eine Funktion `drucke_volljährig(alter)`, die `Volljährig`\n",
    "auf dem Bildschirm ausgibt, wenn `alter >= 18` ist und `Minderjährig` sonst."
   ]
  },
  {
   "cell_type": "code",
   "execution_count": null,
   "id": "28d1c3b0",
   "metadata": {
    "tags": [
     "solution"
    ]
   },
   "outputs": [],
   "source": []
  },
  {
   "cell_type": "markdown",
   "id": "e998307d",
   "metadata": {
    "lang": "de"
   },
   "source": [
    "Testen Sie `drucke_volljährig(alter)` mit den Werten 17 und 18."
   ]
  },
  {
   "cell_type": "code",
   "execution_count": null,
   "id": "f3628ca6",
   "metadata": {
    "tags": [
     "solution"
    ]
   },
   "outputs": [],
   "source": []
  },
  {
   "cell_type": "markdown",
   "id": "dbbb832a",
   "metadata": {
    "lang": "de"
   },
   "source": [
    "# Einkaufsliste\n",
    "\n",
    "Definieren Sie Variablen\n",
    "- `meine_einkaufsliste`, die eine Liste mit den Strings `Tee` und `Kaffee`\n",
    "  enthält,\n",
    "- `eine_andere_einkaufsliste`, die ebenfalls eine Liste mit den Strings\n",
    "  `Tee` und `Kaffee` enthält."
   ]
  },
  {
   "cell_type": "code",
   "execution_count": null,
   "id": "4e0d3da2",
   "metadata": {
    "tags": [
     "solution"
    ]
   },
   "outputs": [],
   "source": []
  },
  {
   "cell_type": "markdown",
   "id": "be64cf9a",
   "metadata": {
    "lang": "de"
   },
   "source": [
    "\n",
    "Definieren Sie eine Funktion `drucke_einkaufsliste(einkaufsliste)`, die die\n",
    "als Argument übergebene Einkaufsliste ausdruckt:\n",
    "\n",
    "```\n",
    "Einkaufsliste:\n",
    "  Tee\n",
    "  Kaffee\n",
    "```"
   ]
  },
  {
   "cell_type": "code",
   "execution_count": null,
   "id": "d8a5cfe6",
   "metadata": {
    "tags": [
     "solution"
    ]
   },
   "outputs": [],
   "source": []
  },
  {
   "cell_type": "markdown",
   "id": "3610ecb0",
   "metadata": {
    "lang": "de"
   },
   "source": [
    "\n",
    "Testen Sie die Funktion `drucke_einkaufsliste(einkaufsliste)` mit beiden\n",
    "Einkaufslisten."
   ]
  },
  {
   "cell_type": "code",
   "execution_count": null,
   "id": "a534a2ae",
   "metadata": {
    "tags": [
     "solution"
    ]
   },
   "outputs": [],
   "source": []
  },
  {
   "cell_type": "code",
   "execution_count": null,
   "id": "8939eee5",
   "metadata": {
    "tags": [
     "solution"
    ]
   },
   "outputs": [],
   "source": []
  },
  {
   "cell_type": "markdown",
   "id": "7fc42d12",
   "metadata": {
    "lang": "de"
   },
   "source": [
    "Definieren Sie eine Funktion `kaufe(produkt, einkaufsliste)`, das `produkt`\n",
    "zu  `einkaufsliste` hinzufügt."
   ]
  },
  {
   "cell_type": "code",
   "execution_count": null,
   "id": "6c7a2542",
   "metadata": {
    "tags": [
     "solution"
    ]
   },
   "outputs": [],
   "source": []
  },
  {
   "cell_type": "markdown",
   "id": "da9d8a7c",
   "metadata": {
    "lang": "de"
   },
   "source": [
    "Fügen Sie `Butter` und `Brot` zur Einkaufsliste `meine_einkaufsliste` hinzu."
   ]
  },
  {
   "cell_type": "code",
   "execution_count": null,
   "id": "e45335bb",
   "metadata": {
    "tags": [
     "solution"
    ]
   },
   "outputs": [],
   "source": []
  },
  {
   "cell_type": "markdown",
   "id": "7c065b7d",
   "metadata": {
    "lang": "de"
   },
   "source": [
    "Drucken Sie beide Einkauslisten nochmal aus."
   ]
  },
  {
   "cell_type": "code",
   "execution_count": null,
   "id": "c8adf00f",
   "metadata": {
    "tags": [
     "solution"
    ]
   },
   "outputs": [],
   "source": []
  },
  {
   "cell_type": "code",
   "execution_count": null,
   "id": "5b9fcb08",
   "metadata": {
    "tags": [
     "solution"
    ]
   },
   "outputs": [],
   "source": []
  },
  {
   "cell_type": "markdown",
   "id": "f1e598d9",
   "metadata": {
    "lang": "de"
   },
   "source": [
    "Was passiert, wenn Sie `Butter` und `Brot` nochmals zur Einkaufsliste\n",
    "`meine_einkaufsliste` hinzufügen?"
   ]
  },
  {
   "cell_type": "code",
   "execution_count": null,
   "id": "7fc452b9",
   "metadata": {
    "tags": [
     "solution"
    ]
   },
   "outputs": [],
   "source": []
  },
  {
   "cell_type": "markdown",
   "id": "59adc2ec",
   "metadata": {
    "lang": "de"
   },
   "source": [
    "# Ausgabe von Quadratzahlen\n",
    "\n",
    "Schreiben Sie eine Funktion `drucke_quadrate(m, n)`, die die Quadrate der\n",
    "Zahlen zwischen `m` und `n` (einschließlich) in der folgenden Form ausgibt:\n",
    "\n",
    "```\n",
    "Das Quadrat von 5 ist 25\n",
    "Das Quadrat von 6 ist 36\n",
    "Das Quadrat von 7 ist 49\n",
    "```"
   ]
  },
  {
   "cell_type": "code",
   "execution_count": null,
   "id": "ef34f992",
   "metadata": {
    "tags": [
     "solution"
    ]
   },
   "outputs": [],
   "source": []
  },
  {
   "cell_type": "markdown",
   "id": "ef3c30ff",
   "metadata": {
    "lang": "de"
   },
   "source": [
    "Testen Sie die Funktion mit Argumenten 5, 7"
   ]
  },
  {
   "cell_type": "code",
   "execution_count": null,
   "id": "1dc4b0c7",
   "metadata": {
    "tags": [
     "solution"
    ]
   },
   "outputs": [],
   "source": []
  },
  {
   "cell_type": "markdown",
   "id": "c68806f9",
   "metadata": {
    "lang": "de"
   },
   "source": [
    "# Verbesserte Einkaufsliste\n",
    "\n",
    "In dieser Aufgabe wollen wir eine verbesserte Version der Einkaufsliste\n",
    "definieren, in der sowohl die Einkaufsliste als auch die Einträge durch\n",
    "benutzerdefinierte Datentypen repräsentiert werden. Jeder Eintrag soll das\n",
    "Produkt und die davon benötigte Menge enthalten.\n",
    "\n",
    "Definieren Sie eine Klasse `Item`, die Attribute für das Produkt und Menge\n",
    "hat. `Item` soll eine `__repr__`-Methode haben, die das Item in einer\n",
    "angemessenen Form darstellt."
   ]
  },
  {
   "cell_type": "code",
   "execution_count": null,
   "id": "c60d13b2",
   "metadata": {
    "tags": [
     "solution"
    ]
   },
   "outputs": [],
   "source": []
  },
  {
   "cell_type": "markdown",
   "id": "c44afd25",
   "metadata": {
    "lang": "de"
   },
   "source": [
    "Erzeugen sie ein Item, das 500g Kaffee repräsentiert:"
   ]
  },
  {
   "cell_type": "code",
   "execution_count": null,
   "id": "b2ba8a92",
   "metadata": {
    "tags": [
     "solution"
    ]
   },
   "outputs": [],
   "source": []
  },
  {
   "cell_type": "markdown",
   "id": "dfe7efb3",
   "metadata": {
    "lang": "de"
   },
   "source": [
    "Definieren Sie eine Klasse `ShoppingList`, die eine Liste von `Item`-Instanzen\n",
    "beinhaltet:\n",
    "\n",
    "- Der Konstruktor `__init__(self, items=[])` erzeugt eine Einkaufsliste,\n",
    "  die die Einträge `items` enthält (jedes Element von `items` soll eine\n",
    "  `Item`-Instanz sein).\n",
    "\n",
    "- Die Methode `shopping_list.add_item(item: Item)` fügt ein `Item` zur\n",
    "  Einkaufsliste `shopping_list` hinzu.\n",
    "\n",
    "- Die Methode `shopping_list.print()` druckt die Einkaufsliste aus.\n",
    "\n",
    "`ShoppingList` soll eine `__repr__`-Methode haben, die die Einkaufsliste in\n",
    "  einer geeigneten Form darstellt."
   ]
  },
  {
   "cell_type": "code",
   "execution_count": null,
   "id": "0a43f2da",
   "metadata": {
    "tags": [
     "solution"
    ]
   },
   "outputs": [],
   "source": []
  },
  {
   "cell_type": "markdown",
   "id": "f92b558f",
   "metadata": {
    "lang": "de"
   },
   "source": [
    "Definieren Sie Variable `meine_einkaufsliste`, die eine Einkaufsliste mit\n",
    "folgenden Items repräsentiert:\n",
    "- 2 Pakete Tee,\n",
    "- 1 Paket Kaffee"
   ]
  },
  {
   "cell_type": "code",
   "execution_count": null,
   "id": "d76fc1d6",
   "metadata": {
    "tags": [
     "solution"
    ]
   },
   "outputs": [],
   "source": []
  },
  {
   "cell_type": "markdown",
   "id": "8830b75f",
   "metadata": {
    "lang": "de"
   },
   "source": [
    "Drucken Sie `meine_einkaufsliste` aus."
   ]
  },
  {
   "cell_type": "code",
   "execution_count": null,
   "id": "a9239aa8",
   "metadata": {
    "tags": [
     "solution"
    ]
   },
   "outputs": [],
   "source": []
  },
  {
   "cell_type": "code",
   "execution_count": null,
   "id": "43a7e771",
   "metadata": {
    "tags": [
     "solution"
    ]
   },
   "outputs": [],
   "source": []
  },
  {
   "cell_type": "markdown",
   "id": "18970512",
   "metadata": {
    "lang": "de"
   },
   "source": [
    "Fügen Sie  250 g Butter und  1 Laib Brot zur Einkaufsliste\n",
    "`meine_einkaufsliste` hinzu."
   ]
  },
  {
   "cell_type": "code",
   "execution_count": null,
   "id": "7b90d9f7",
   "metadata": {
    "tags": [
     "solution"
    ]
   },
   "outputs": [],
   "source": []
  },
  {
   "cell_type": "markdown",
   "id": "58324d7b",
   "metadata": {
    "lang": "de"
   },
   "source": [
    "Drucken Sie die Einkaufsliste nochmal aus."
   ]
  },
  {
   "cell_type": "code",
   "execution_count": null,
   "id": "f1c5c17f",
   "metadata": {
    "tags": [
     "solution"
    ]
   },
   "outputs": [],
   "source": []
  },
  {
   "cell_type": "markdown",
   "id": "c4905a0a",
   "metadata": {
    "lang": "de"
   },
   "source": [
    "Was passiert, wenn Sie `Butter` und `Brot` nochmals zur Einkaufsliste\n",
    "`meine_einkaufsliste` hinzufügen?"
   ]
  },
  {
   "cell_type": "code",
   "execution_count": null,
   "id": "c5d2b6cd",
   "metadata": {
    "tags": [
     "solution"
    ]
   },
   "outputs": [],
   "source": []
  },
  {
   "cell_type": "code",
   "execution_count": null,
   "id": "61dd62d2",
   "metadata": {
    "tags": [
     "solution"
    ]
   },
   "outputs": [],
   "source": []
  }
 ],
 "metadata": {
  "jupytext": {
   "encoding": "# -*- coding: utf-8 -*-",
   "formats": "ipynb"
  },
  "kernelspec": {
   "display_name": "Python 3 (ipykernel)",
   "language": "python",
   "name": "python3"
  }
 },
 "nbformat": 4,
 "nbformat_minor": 5
}
