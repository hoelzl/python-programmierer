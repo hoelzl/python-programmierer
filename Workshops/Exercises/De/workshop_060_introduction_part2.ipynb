{
 "cells": [
  {
   "cell_type": "markdown",
   "id": "a60e9bdd",
   "metadata": {
    "lang": "de"
   },
   "source": [
    "# Operatoren, Vergleiche\n",
    "\n",
    "Ist $2^{16}$ größer als $32\\,000\\,\\,/\\,\\,2$?"
   ]
  },
  {
   "cell_type": "code",
   "execution_count": null,
   "id": "5c1b2880",
   "metadata": {
    "tags": [
     "solution"
    ]
   },
   "outputs": [],
   "source": []
  },
  {
   "cell_type": "markdown",
   "id": "8438ba2c",
   "metadata": {
    "lang": "de"
   },
   "source": [
    "Ist $72$ ohne Rest durch $3$ teilbar?"
   ]
  },
  {
   "cell_type": "code",
   "execution_count": null,
   "id": "a722f5f1",
   "metadata": {
    "tags": [
     "solution"
    ]
   },
   "outputs": [],
   "source": []
  },
  {
   "cell_type": "markdown",
   "id": "ef66c18e",
   "metadata": {
    "lang": "de"
   },
   "source": [
    "Ist $72$ eine gerade Zahl (d.h. ohne Rest durch 2 teilbar)?"
   ]
  },
  {
   "cell_type": "code",
   "execution_count": null,
   "id": "facabc04",
   "metadata": {
    "tags": [
     "solution"
    ]
   },
   "outputs": [],
   "source": []
  },
  {
   "cell_type": "markdown",
   "id": "e54713c0",
   "metadata": {
    "lang": "de"
   },
   "source": [
    "\n",
    "Schreiben Sie eine Funktion `ist_teilbar_durch(m, n)` die ( genau dann)\n",
    "`True` zurückgibt, wenn `m` durch `n` teilbar ist."
   ]
  },
  {
   "cell_type": "code",
   "execution_count": null,
   "id": "54224241",
   "metadata": {
    "tags": [
     "solution"
    ]
   },
   "outputs": [],
   "source": []
  },
  {
   "cell_type": "markdown",
   "id": "46f19e28",
   "metadata": {
    "lang": "de"
   },
   "source": [
    "\n",
    "Schreiben Sie eine Funktion `ist_teilbar_durch_2_und_3(n)`, die genau dann\n",
    "`True` zurückgibt, wenn `n` ohne Rest durch $2$ und durch $3$ teilbar ist."
   ]
  },
  {
   "cell_type": "code",
   "execution_count": null,
   "id": "854634a9",
   "metadata": {
    "tags": [
     "solution"
    ]
   },
   "outputs": [],
   "source": []
  },
  {
   "cell_type": "code",
   "execution_count": null,
   "id": "222c1d97",
   "metadata": {
    "tags": [
     "solution"
    ]
   },
   "outputs": [],
   "source": []
  },
  {
   "cell_type": "markdown",
   "id": "f2f68c52",
   "metadata": {
    "lang": "de"
   },
   "source": [
    "Testen Sie, ob $72$ durch $2$ und durch $3$ teilbar ist."
   ]
  },
  {
   "cell_type": "code",
   "execution_count": null,
   "id": "03d05f75",
   "metadata": {
    "tags": [
     "solution"
    ]
   },
   "outputs": [],
   "source": []
  },
  {
   "cell_type": "markdown",
   "id": "c41e0bb8",
   "metadata": {
    "lang": "de"
   },
   "source": [
    "# Volljährig\n",
    "\n",
    "Schreiben Sie eine Funktion `drucke_volljährig(alter)`, die `Volljährig`\n",
    "auf dem Bildschirm ausgibt, wenn `alter >= 18` ist und `Minderjährig` sonst."
   ]
  },
  {
   "cell_type": "code",
   "execution_count": null,
   "id": "30817b95",
   "metadata": {
    "tags": [
     "solution"
    ]
   },
   "outputs": [],
   "source": []
  },
  {
   "cell_type": "markdown",
   "id": "952255f9",
   "metadata": {
    "lang": "de"
   },
   "source": [
    "Testen Sie `drucke_volljährig(alter)` mit den Werten 17 und 18."
   ]
  },
  {
   "cell_type": "code",
   "execution_count": null,
   "id": "e628666f",
   "metadata": {
    "tags": [
     "solution"
    ]
   },
   "outputs": [],
   "source": []
  },
  {
   "cell_type": "markdown",
   "id": "c54e0207",
   "metadata": {
    "lang": "de"
   },
   "source": [
    "# Einkaufsliste\n",
    "\n",
    "Definieren Sie Variablen\n",
    "- `meine_einkaufsliste`, die eine Liste mit den Strings `Tee` und `Kaffee`\n",
    "  enthält,\n",
    "- `eine_andere_einkaufsliste`, die ebenfalls eine Liste mit den Strings\n",
    "  `Tee` und `Kaffee` enthält."
   ]
  },
  {
   "cell_type": "code",
   "execution_count": null,
   "id": "0e44d53b",
   "metadata": {
    "tags": [
     "solution"
    ]
   },
   "outputs": [],
   "source": []
  },
  {
   "cell_type": "markdown",
   "id": "118c58a1",
   "metadata": {
    "lang": "de"
   },
   "source": [
    "\n",
    "Definieren Sie eine Funktion `drucke_einkaufsliste(einkaufsliste)`, die die\n",
    "als Argument übergebene Einkaufsliste ausdruckt:\n",
    "\n",
    "```\n",
    "Einkaufsliste:\n",
    "  Tee\n",
    "  Kaffee\n",
    "```"
   ]
  },
  {
   "cell_type": "code",
   "execution_count": null,
   "id": "1ba33933",
   "metadata": {
    "tags": [
     "solution"
    ]
   },
   "outputs": [],
   "source": []
  },
  {
   "cell_type": "markdown",
   "id": "e49cbebb",
   "metadata": {
    "lang": "de"
   },
   "source": [
    "\n",
    "Testen Sie die Funktion `drucke_einkaufsliste(einkaufsliste)` mit beiden\n",
    "Einkaufslisten."
   ]
  },
  {
   "cell_type": "code",
   "execution_count": null,
   "id": "46c5edf3",
   "metadata": {
    "tags": [
     "solution"
    ]
   },
   "outputs": [],
   "source": []
  },
  {
   "cell_type": "code",
   "execution_count": null,
   "id": "095c30b5",
   "metadata": {
    "tags": [
     "solution"
    ]
   },
   "outputs": [],
   "source": []
  },
  {
   "cell_type": "markdown",
   "id": "1218d184",
   "metadata": {
    "lang": "de"
   },
   "source": [
    "Definieren Sie eine Funktion `kaufe(produkt, einkaufsliste)`, das `produkt`\n",
    "zu  `einkaufsliste` hinzufügt."
   ]
  },
  {
   "cell_type": "code",
   "execution_count": null,
   "id": "ed8f334b",
   "metadata": {
    "tags": [
     "solution"
    ]
   },
   "outputs": [],
   "source": []
  },
  {
   "cell_type": "markdown",
   "id": "bc31ec9a",
   "metadata": {
    "lang": "de"
   },
   "source": [
    "Fügen Sie `Butter` und `Brot` zur Einkaufsliste `meine_einkaufsliste` hinzu."
   ]
  },
  {
   "cell_type": "code",
   "execution_count": null,
   "id": "11ae2872",
   "metadata": {
    "tags": [
     "solution"
    ]
   },
   "outputs": [],
   "source": []
  },
  {
   "cell_type": "markdown",
   "id": "81e88de0",
   "metadata": {
    "lang": "de"
   },
   "source": [
    "Drucken Sie beide Einkauslisten nochmal aus."
   ]
  },
  {
   "cell_type": "code",
   "execution_count": null,
   "id": "275bc69c",
   "metadata": {
    "tags": [
     "solution"
    ]
   },
   "outputs": [],
   "source": []
  },
  {
   "cell_type": "code",
   "execution_count": null,
   "id": "200b6562",
   "metadata": {
    "tags": [
     "solution"
    ]
   },
   "outputs": [],
   "source": []
  },
  {
   "cell_type": "markdown",
   "id": "06884096",
   "metadata": {
    "lang": "de"
   },
   "source": [
    "Was passiert, wenn Sie `Butter` und `Brot` nochmals zur Einkaufsliste\n",
    "`meine_einkaufsliste` hinzufügen?"
   ]
  },
  {
   "cell_type": "code",
   "execution_count": null,
   "id": "fcec5b18",
   "metadata": {
    "tags": [
     "solution"
    ]
   },
   "outputs": [],
   "source": []
  },
  {
   "cell_type": "markdown",
   "id": "6e8d220e",
   "metadata": {
    "lang": "de"
   },
   "source": [
    "# Ausgabe von Quadratzahlen\n",
    "\n",
    "Schreiben Sie eine Funktion `drucke_quadrate(m, n)`, die die Quadrate der\n",
    "Zahlen zwischen `m` und `n` (einschließlich) in der folgenden Form ausgibt:\n",
    "\n",
    "```\n",
    "Das Quadrat von 5 ist 25\n",
    "Das Quadrat von 6 ist 36\n",
    "Das Quadrat von 7 ist 49\n",
    "```"
   ]
  },
  {
   "cell_type": "code",
   "execution_count": null,
   "id": "f790e03d",
   "metadata": {
    "tags": [
     "solution"
    ]
   },
   "outputs": [],
   "source": []
  },
  {
   "cell_type": "markdown",
   "id": "c37605cb",
   "metadata": {
    "lang": "de"
   },
   "source": [
    "Testen Sie die Funktion mit Argumenten 5, 7"
   ]
  },
  {
   "cell_type": "code",
   "execution_count": null,
   "id": "f287f6c6",
   "metadata": {
    "tags": [
     "solution"
    ]
   },
   "outputs": [],
   "source": []
  },
  {
   "cell_type": "markdown",
   "id": "34ad2afc",
   "metadata": {
    "lang": "de"
   },
   "source": [
    "# Verbesserte Einkaufsliste\n",
    "\n",
    "In dieser Aufgabe wollen wir eine verbesserte Version der Einkaufsliste\n",
    "definieren, in der sowohl die Einkaufsliste als auch die Einträge durch\n",
    "benutzerdefinierte Datentypen repräsentiert werden. Jeder Eintrag soll das\n",
    "Produkt und die davon benötigte Menge enthalten.\n",
    "\n",
    "Definieren Sie eine Klasse `Item`, die Attribute für das Produkt und Menge\n",
    "hat. `Item` soll eine `__repr__`-Methode haben, die das Item in einer\n",
    "angemessenen Form darstellt."
   ]
  },
  {
   "cell_type": "code",
   "execution_count": null,
   "id": "50c7903e",
   "metadata": {
    "tags": [
     "solution"
    ]
   },
   "outputs": [],
   "source": []
  },
  {
   "cell_type": "markdown",
   "id": "d657abff",
   "metadata": {
    "lang": "de"
   },
   "source": [
    "Erzeugen sie ein Item, das 500g Kaffee repräsentiert:"
   ]
  },
  {
   "cell_type": "code",
   "execution_count": null,
   "id": "95d872c4",
   "metadata": {
    "tags": [
     "solution"
    ]
   },
   "outputs": [],
   "source": []
  },
  {
   "cell_type": "markdown",
   "id": "09204a6a",
   "metadata": {
    "lang": "de"
   },
   "source": [
    "Definieren Sie eine Klasse `ShoppingList`, die eine Liste von `Item`-Instanzen\n",
    "beinhaltet:\n",
    "\n",
    "- Der Konstruktor `__init__(self, items=[])` erzeugt eine Einkaufsliste,\n",
    "  die die Einträge `items` enthält (jedes Element von `items` soll eine\n",
    "  `Item`-Instanz sein).\n",
    "\n",
    "- Die Methode `shopping_list.add_item(item: Item)` fügt ein `Item` zur\n",
    "  Einkaufsliste `shopping_list` hinzu.\n",
    "\n",
    "- Die Methode `shopping_list.print()` druckt die Einkaufsliste aus.\n",
    "\n",
    "`ShoppingList` soll eine `__repr__`-Methode haben, die die Einkaufsliste in\n",
    "  einer geeigneten Form darstellt."
   ]
  },
  {
   "cell_type": "code",
   "execution_count": null,
   "id": "39d49503",
   "metadata": {
    "tags": [
     "solution"
    ]
   },
   "outputs": [],
   "source": []
  },
  {
   "cell_type": "markdown",
   "id": "7551204d",
   "metadata": {
    "lang": "de"
   },
   "source": [
    "Definieren Sie Variable `meine_einkaufsliste`, die eine Einkaufsliste mit\n",
    "folgenden Items repräsentiert:\n",
    "- 2 Pakete Tee,\n",
    "- 1 Paket Kaffee"
   ]
  },
  {
   "cell_type": "code",
   "execution_count": null,
   "id": "8587edb7",
   "metadata": {
    "tags": [
     "solution"
    ]
   },
   "outputs": [],
   "source": []
  },
  {
   "cell_type": "markdown",
   "id": "ae30c7ca",
   "metadata": {
    "lang": "de"
   },
   "source": [
    "Drucken Sie `meine_einkaufsliste` aus."
   ]
  },
  {
   "cell_type": "code",
   "execution_count": null,
   "id": "6a9ea8a1",
   "metadata": {
    "tags": [
     "solution"
    ]
   },
   "outputs": [],
   "source": []
  },
  {
   "cell_type": "code",
   "execution_count": null,
   "id": "cde00bd3",
   "metadata": {
    "tags": [
     "solution"
    ]
   },
   "outputs": [],
   "source": []
  },
  {
   "cell_type": "markdown",
   "id": "33d4f802",
   "metadata": {
    "lang": "de"
   },
   "source": [
    "Fügen Sie  250 g Butter und  1 Laib Brot zur Einkaufsliste\n",
    "`meine_einkaufsliste` hinzu."
   ]
  },
  {
   "cell_type": "code",
   "execution_count": null,
   "id": "e5891686",
   "metadata": {
    "tags": [
     "solution"
    ]
   },
   "outputs": [],
   "source": []
  },
  {
   "cell_type": "markdown",
   "id": "601e5173",
   "metadata": {
    "lang": "de"
   },
   "source": [
    "Drucken Sie die Einkaufsliste nochmal aus."
   ]
  },
  {
   "cell_type": "code",
   "execution_count": null,
   "id": "e725cba5",
   "metadata": {
    "tags": [
     "solution"
    ]
   },
   "outputs": [],
   "source": []
  },
  {
   "cell_type": "markdown",
   "id": "ddb19fb8",
   "metadata": {
    "lang": "de"
   },
   "source": [
    "Was passiert, wenn Sie `Butter` und `Brot` nochmals zur Einkaufsliste\n",
    "`meine_einkaufsliste` hinzufügen?"
   ]
  },
  {
   "cell_type": "code",
   "execution_count": null,
   "id": "504d7a0f",
   "metadata": {
    "tags": [
     "solution"
    ]
   },
   "outputs": [],
   "source": []
  },
  {
   "cell_type": "code",
   "execution_count": null,
   "id": "c6be052d",
   "metadata": {
    "tags": [
     "solution"
    ]
   },
   "outputs": [],
   "source": []
  }
 ],
 "metadata": {
  "jupytext": {
   "encoding": "# -*- coding: utf-8 -*-",
   "formats": "ipynb"
  },
  "kernelspec": {
   "display_name": "Python 3 (ipykernel)",
   "language": "python",
   "name": "python3"
  }
 },
 "nbformat": 4,
 "nbformat_minor": 5
}
