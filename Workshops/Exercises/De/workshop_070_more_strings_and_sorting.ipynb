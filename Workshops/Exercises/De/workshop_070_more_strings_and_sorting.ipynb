{
 "cells": [
  {
   "cell_type": "markdown",
   "id": "5d1aa061",
   "metadata": {
    "lang": "de"
   },
   "source": [
    "# Shout\n",
    "\n",
    "Schreiben Sie eine Funktion `shout(text)`, die `text` in Großbuchstaben,\n",
    "gefolgt von drei Außrufezeichen auf dem Bildschirm ausgibt."
   ]
  },
  {
   "cell_type": "code",
   "execution_count": null,
   "id": "d2a196a1",
   "metadata": {
    "tags": [
     "solution"
    ]
   },
   "outputs": [],
   "source": []
  },
  {
   "cell_type": "markdown",
   "id": "6c0305f6",
   "metadata": {
    "lang": "de"
   },
   "source": [
    "Testen Sie die Funktion mit Argument `\"Hallo\"`"
   ]
  },
  {
   "cell_type": "code",
   "execution_count": null,
   "id": "cb5d6f4f",
   "metadata": {
    "tags": [
     "solution"
    ]
   },
   "outputs": [],
   "source": []
  },
  {
   "cell_type": "markdown",
   "id": "14a091bb",
   "metadata": {
    "lang": "de"
   },
   "source": [
    "# Vergleichen von Strings"
   ]
  },
  {
   "cell_type": "markdown",
   "id": "3d3d008e",
   "metadata": {
    "lang": "de"
   },
   "source": [
    "Ist `Abc` kleiner als `aBC`?"
   ]
  },
  {
   "cell_type": "code",
   "execution_count": null,
   "id": "580fefac",
   "metadata": {
    "tags": [
     "solution"
    ]
   },
   "outputs": [],
   "source": []
  },
  {
   "cell_type": "markdown",
   "id": "867296a5",
   "metadata": {
    "lang": "de"
   },
   "source": [
    "Ist gleichzeitig `abc` kleiner als `abcd` und `abcd` kleiner als `abd`?"
   ]
  },
  {
   "cell_type": "code",
   "execution_count": null,
   "id": "5897fd77",
   "metadata": {
    "tags": [
     "solution"
    ]
   },
   "outputs": [],
   "source": []
  },
  {
   "cell_type": "markdown",
   "id": "068151f5",
   "metadata": {
    "lang": "de"
   },
   "source": [
    "# Begrüßung 1\n",
    "\n",
    "Schreiben Sie eine Funktion `drucke_begrüßung(name)`, die eine personalisierte\n",
    "Begrüßung ausgibt, z.B.\n",
    "```\n",
    "Hallo, Hans!\n",
    "Schön Sie heute wieder bei uns begrüßen zu dürfen.\n",
    "Wir wünschen Ihnen viel Spaß, Hans.\n",
    "```\n",
    "Verwenden Sie dazu die `print()`-Funktion mit einem Argument und\n",
    "String-Konkatenation."
   ]
  },
  {
   "cell_type": "code",
   "execution_count": null,
   "id": "3bb410f8",
   "metadata": {
    "tags": [
     "solution"
    ]
   },
   "outputs": [],
   "source": []
  },
  {
   "cell_type": "markdown",
   "id": "e8efb7f8",
   "metadata": {
    "lang": "de"
   },
   "source": [
    "# Begrüßung 2\n",
    "\n",
    "Schreiben Sie eine Funktion `drucke_begrüßung_2(name)`, die die\n",
    "Funktionalität von `drucke_begrüßung(name)` mittels F-Strings implementiert."
   ]
  },
  {
   "cell_type": "code",
   "execution_count": null,
   "id": "77fa7919",
   "metadata": {
    "tags": [
     "solution"
    ]
   },
   "outputs": [],
   "source": []
  },
  {
   "cell_type": "markdown",
   "id": "c248b83f",
   "metadata": {
    "lang": "de"
   },
   "source": [
    "# Piraten, Teil 4\n",
    "\n",
    "Das Ausdrucken der Beute-Aufteilund mittels\n",
    "`drucke_aufteilung_der_beute(dublonen, piraten)` verbraucht zu viel Papier.\n",
    "\n",
    "Implementieren Sie eine neue Version der Funktion, die den folgenden Text\n",
    "ausgibt:\n",
    "\n",
    "```\n",
    "Jeder der 8 Piraten erhält 2 der 17 Golddublonen. Der Kapitän erhält extra 1 Golddublone.\n",
    "```\n",
    "bzw.\n",
    "```\n",
    "Jeder der 8 Piraten erhält 2 der 17 Golddublonen. Der Kapitän erhält extra 2 Golddublonen.\n",
    "```\n",
    "\n",
    "Verwenden Sie F-Strings um die Ausgabetexte zu erzeugen. Sie können die\n",
    "folgende Funktion verwenden, um die Aufteilung der Beute zu berechnen:"
   ]
  },
  {
   "cell_type": "code",
   "execution_count": null,
   "id": "4401d2bb",
   "metadata": {},
   "outputs": [],
   "source": [
    "def teile_beute_auf(dublonen, piraten):\n",
    "    dublonen_pro_pirat = dublonen // piraten\n",
    "    dublonen_kapitän = dublonen % piraten\n",
    "    return dublonen_pro_pirat, dublonen_kapitän"
   ]
  },
  {
   "cell_type": "code",
   "execution_count": null,
   "id": "67da063d",
   "metadata": {
    "tags": [
     "solution"
    ]
   },
   "outputs": [],
   "source": []
  },
  {
   "cell_type": "code",
   "execution_count": null,
   "id": "b68a81f8",
   "metadata": {
    "tags": [
     "solution"
    ]
   },
   "outputs": [],
   "source": []
  },
  {
   "cell_type": "code",
   "execution_count": null,
   "id": "156e6338",
   "metadata": {
    "tags": [
     "solution"
    ]
   },
   "outputs": [],
   "source": []
  },
  {
   "cell_type": "code",
   "execution_count": null,
   "id": "7e6c5380",
   "metadata": {
    "tags": [
     "solution"
    ]
   },
   "outputs": [],
   "source": []
  }
 ],
 "metadata": {
  "jupytext": {
   "encoding": "# -*- coding: utf-8 -*-",
   "formats": "ipynb"
  },
  "kernelspec": {
   "display_name": "Python 3 (ipykernel)",
   "language": "python",
   "name": "python3"
  }
 },
 "nbformat": 4,
 "nbformat_minor": 5
}
