{
 "cells": [
  {
   "cell_type": "markdown",
   "id": "021ab25b",
   "metadata": {
    "lang": "de"
   },
   "source": [
    "# Shout\n",
    "\n",
    "Schreiben Sie eine Funktion `shout(text)`, die `text` in Großbuchstaben,\n",
    "gefolgt von drei Außrufezeichen auf dem Bildschirm ausgibt."
   ]
  },
  {
   "cell_type": "code",
   "execution_count": null,
   "id": "4f0a9354",
   "metadata": {
    "tags": [
     "solution"
    ]
   },
   "outputs": [],
   "source": []
  },
  {
   "cell_type": "markdown",
   "id": "58d607a6",
   "metadata": {
    "lang": "de"
   },
   "source": [
    "Testen Sie die Funktion mit Argument `\"Hallo\"`"
   ]
  },
  {
   "cell_type": "code",
   "execution_count": null,
   "id": "b8fdfb38",
   "metadata": {
    "tags": [
     "solution"
    ]
   },
   "outputs": [],
   "source": []
  },
  {
   "cell_type": "markdown",
   "id": "43606ff6",
   "metadata": {
    "lang": "de",
    "pycharm": {
     "name": "#%% md\n"
    }
   },
   "source": [
    "# Vergleichen von Strings"
   ]
  },
  {
   "cell_type": "markdown",
   "id": "669df119",
   "metadata": {
    "lang": "de"
   },
   "source": [
    "Ist `Abc` kleiner als `aBC`?"
   ]
  },
  {
   "cell_type": "code",
   "execution_count": null,
   "id": "3dfcdb23",
   "metadata": {
    "tags": [
     "solution"
    ]
   },
   "outputs": [],
   "source": []
  },
  {
   "cell_type": "markdown",
   "id": "9db658de",
   "metadata": {
    "lang": "de"
   },
   "source": [
    "Ist gleichzeitig `abc` kleiner als `abcd` und `abcd` kleiner als `abd`?"
   ]
  },
  {
   "cell_type": "code",
   "execution_count": null,
   "id": "e428cbaa",
   "metadata": {
    "tags": [
     "solution"
    ]
   },
   "outputs": [],
   "source": []
  },
  {
   "cell_type": "markdown",
   "id": "b8df36bf",
   "metadata": {
    "lang": "de"
   },
   "source": [
    "# Begrüßung 1\n",
    "\n",
    "Schreiben Sie eine Funktion `drucke_begrüßung(name)`, die eine personalisierte\n",
    "Begrüßung ausgibt, z.B.\n",
    "```\n",
    "Hallo, Hans!\n",
    "Schön Sie heute wieder bei uns begrüßen zu dürfen.\n",
    "Wir wünschen Ihnen viel Spaß, Hans.\n",
    "```\n",
    "Verwenden Sie dazu die `print()`-Funktion mit einem Argument und\n",
    "String-Konkatenation."
   ]
  },
  {
   "cell_type": "code",
   "execution_count": null,
   "id": "5a13d476",
   "metadata": {
    "tags": [
     "solution"
    ]
   },
   "outputs": [],
   "source": []
  },
  {
   "cell_type": "markdown",
   "id": "0791e53e",
   "metadata": {
    "lang": "de"
   },
   "source": [
    "# Begrüßung 2\n",
    "\n",
    "Schreiben Sie eine Funktion `drucke_begrüßung_2(name)`, die die\n",
    "Funktionalität von `drucke_begrüßung(name)` mittels F-Strings implementiert."
   ]
  },
  {
   "cell_type": "code",
   "execution_count": null,
   "id": "063d22d5",
   "metadata": {
    "tags": [
     "solution"
    ]
   },
   "outputs": [],
   "source": []
  },
  {
   "cell_type": "markdown",
   "id": "9c8089a2",
   "metadata": {
    "lang": "de"
   },
   "source": [
    "# Piraten, Teil 4\n",
    "\n",
    "Das Ausdrucken der Beute-Aufteilund mittels\n",
    "`drucke_aufteilung_der_beute(dublonen, piraten)` verbraucht zu viel Papier.\n",
    "\n",
    "Implementieren Sie eine neue Version der Funktion, die den folgenden Text\n",
    "ausgibt:\n",
    "\n",
    "```\n",
    "Jeder der 8 Piraten erhält 2 der 17 Golddublonen. Der Kapitän erhält extra 1 Golddublone.\n",
    "```\n",
    "bzw.\n",
    "```\n",
    "Jeder der 8 Piraten erhält 2 der 17 Golddublonen. Der Kapitän erhält extra 2 Golddublonen.\n",
    "```\n",
    "\n",
    "Verwenden Sie F-Strings um die Ausgabetexte zu erzeugen. Sie können die\n",
    "folgende Funktion verwenden, um die Aufteilung der Beute zu berechnen:"
   ]
  },
  {
   "cell_type": "code",
   "execution_count": null,
   "id": "5f2b7d9b",
   "metadata": {},
   "outputs": [],
   "source": [
    "def teile_beute_auf(dublonen, piraten):\n",
    "    dublonen_pro_pirat = dublonen // piraten\n",
    "    dublonen_kapitän = dublonen % piraten\n",
    "    return dublonen_pro_pirat, dublonen_kapitän"
   ]
  },
  {
   "cell_type": "code",
   "execution_count": null,
   "id": "687b8903",
   "metadata": {
    "tags": [
     "solution"
    ]
   },
   "outputs": [],
   "source": []
  },
  {
   "cell_type": "code",
   "execution_count": null,
   "id": "5a149f36",
   "metadata": {
    "tags": [
     "solution"
    ]
   },
   "outputs": [],
   "source": []
  },
  {
   "cell_type": "code",
   "execution_count": null,
   "id": "cd04f350",
   "metadata": {
    "tags": [
     "solution"
    ]
   },
   "outputs": [],
   "source": []
  },
  {
   "cell_type": "code",
   "execution_count": null,
   "id": "1959d4c5",
   "metadata": {
    "tags": [
     "solution"
    ]
   },
   "outputs": [],
   "source": []
  }
 ],
 "metadata": {
  "jupytext": {
   "encoding": "# -*- coding: utf-8 -*-",
   "formats": "ipynb"
  },
  "kernelspec": {
   "display_name": "Python 3 (ipykernel)",
   "language": "python",
   "name": "python3"
  }
 },
 "nbformat": 4,
 "nbformat_minor": 5
}
