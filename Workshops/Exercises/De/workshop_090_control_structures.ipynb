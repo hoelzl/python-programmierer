{
 "cells": [
  {
   "cell_type": "markdown",
   "id": "3369c688",
   "metadata": {
    "lang": "de"
   },
   "source": [
    "# Gerade Zahl\n",
    "\n",
    "Schreiben Sie eine Funktion `ist_gerade(zahl)`, die `True` zurückgibt,\n",
    "falls `zahl` gerade ist und `False`, falls `zahl` ungerade ist."
   ]
  },
  {
   "cell_type": "code",
   "execution_count": null,
   "id": "12250dab",
   "metadata": {
    "tags": [
     "solution"
    ]
   },
   "outputs": [],
   "source": []
  },
  {
   "cell_type": "markdown",
   "id": "909aa232",
   "metadata": {
    "lang": "de"
   },
   "source": [
    "Schreiben Sie eine Funktion `drucke_ist_gerade(zahl)`, die\n",
    "\n",
    "- `{zahl} ist gerade.` auf dem Bildschirm ausgibt, falls `zahl` gerade ist und\n",
    "- `{zahl} ist nicht gerade.` auf dem Bildschirm ausgibt, falls `zahl` nicht\n",
    "  gerade ist."
   ]
  },
  {
   "cell_type": "code",
   "execution_count": null,
   "id": "8db08a76",
   "metadata": {
    "tags": [
     "solution"
    ]
   },
   "outputs": [],
   "source": []
  },
  {
   "cell_type": "markdown",
   "id": "07e47975",
   "metadata": {
    "lang": "de"
   },
   "source": [
    "Testen Sie `drucke_ist_gerade(zahl)` mit den Werten 0, 1 und 8."
   ]
  },
  {
   "cell_type": "code",
   "execution_count": null,
   "id": "2f69297a",
   "metadata": {
    "tags": [
     "solution"
    ]
   },
   "outputs": [],
   "source": []
  },
  {
   "cell_type": "markdown",
   "id": "19c0c042",
   "metadata": {
    "lang": "de"
   },
   "source": [
    "# Positiv / Negativ\n",
    "\n",
    "Schreiben Sie eine Funktion `drucke_ist_positiv(zahl)`, die\n",
    "\n",
    "- `{zahl} ist positiv.` auf dem Bildschirm ausgibt, falls `zahl > 0` ist,\n",
    "- `{zahl} ist Null.` auf dem Bildschirm ausgibt, falls `zahl == 0` ist,\n",
    "- `{zahl} ist negativ.` auf dem Bildschirm ausgibt, falls `zahl < 0` ist."
   ]
  },
  {
   "cell_type": "code",
   "execution_count": null,
   "id": "abb19780",
   "metadata": {
    "tags": [
     "solution"
    ]
   },
   "outputs": [],
   "source": []
  },
  {
   "cell_type": "markdown",
   "id": "3e9a9449",
   "metadata": {
    "lang": "de"
   },
   "source": [
    "Testen Sie `drucke_ist_positiv(zahl)` mit den Werten -3, 0 und 2."
   ]
  },
  {
   "cell_type": "code",
   "execution_count": null,
   "id": "0cc81e1a",
   "metadata": {
    "tags": [
     "solution"
    ]
   },
   "outputs": [],
   "source": []
  },
  {
   "cell_type": "code",
   "execution_count": null,
   "id": "56e3d7f8",
   "metadata": {
    "tags": [
     "solution"
    ]
   },
   "outputs": [],
   "source": []
  },
  {
   "cell_type": "code",
   "execution_count": null,
   "id": "aaabfcf4",
   "metadata": {
    "tags": [
     "solution"
    ]
   },
   "outputs": [],
   "source": []
  },
  {
   "cell_type": "markdown",
   "id": "3a162d93",
   "metadata": {
    "lang": "de"
   },
   "source": [
    "# Signum\n",
    "\n",
    "Schreiben Sie eine Funktion `signum(zahl)`, die\n",
    "\n",
    "- 1 zurückgibt, falls `zahl > 0` ist,\n",
    "- 0 zurückgibt, falls `zahl == 0` ist,\n",
    "- -1 zurückgibt, falls `zahl < 0` ist."
   ]
  },
  {
   "cell_type": "code",
   "execution_count": null,
   "id": "886452ef",
   "metadata": {
    "tags": [
     "solution"
    ]
   },
   "outputs": [],
   "source": []
  },
  {
   "cell_type": "markdown",
   "id": "844b0be6",
   "metadata": {
    "lang": "de"
   },
   "source": [
    "Testen Sie die Funktion für repräsentative Werte."
   ]
  },
  {
   "cell_type": "code",
   "execution_count": null,
   "id": "deff58ba",
   "metadata": {
    "tags": [
     "solution"
    ]
   },
   "outputs": [],
   "source": []
  },
  {
   "cell_type": "code",
   "execution_count": null,
   "id": "9e82bcde",
   "metadata": {
    "tags": [
     "solution"
    ]
   },
   "outputs": [],
   "source": []
  },
  {
   "cell_type": "code",
   "execution_count": null,
   "id": "6c65bcde",
   "metadata": {
    "tags": [
     "solution"
    ]
   },
   "outputs": [],
   "source": []
  },
  {
   "cell_type": "markdown",
   "id": "3bdaca78",
   "metadata": {
    "lang": "de"
   },
   "source": [
    "# Umrechnung in Meilen\n",
    "\n",
    "Schreiben Sie eine Funktion `konvertiere_km_nach_meilen(km)` die den Wert\n",
    "`km` von Kilometer in Meilen umrechnet (d.h. die den Wert in Meilen\n",
    "zurückgibt).\n",
    "\n",
    "*Hinweis:*\n",
    "- Ein Kilometer entspricht $0,621371$ Meilen"
   ]
  },
  {
   "cell_type": "code",
   "execution_count": null,
   "id": "cb402d69",
   "metadata": {
    "tags": [
     "solution"
    ]
   },
   "outputs": [],
   "source": []
  },
  {
   "cell_type": "markdown",
   "id": "f63ae705",
   "metadata": {
    "lang": "de"
   },
   "source": [
    "Testen Sie `konvertiere_km_nach_meilen(km)` für 1 und 5 km."
   ]
  },
  {
   "cell_type": "code",
   "execution_count": null,
   "id": "da029d30",
   "metadata": {
    "tags": [
     "solution"
    ]
   },
   "outputs": [],
   "source": []
  },
  {
   "cell_type": "code",
   "execution_count": null,
   "id": "e14a4b12",
   "metadata": {
    "tags": [
     "solution"
    ]
   },
   "outputs": [],
   "source": []
  },
  {
   "cell_type": "markdown",
   "id": "03559056",
   "metadata": {
    "lang": "de"
   },
   "source": [
    "\n",
    "Schreiben Sie eine Funktion `meilen_app()`, die eine Länge in Kilometern\n",
    "einliest und die äquivalente Entfernung in Meilen ausgibt. Wenn die Eingabe ein leerer String ist, soll der String `Bitte geben Sie eine gültige Entfernung in km ein.` ausgegeben werden.\n",
    "\n",
    "*Hinweise*\n",
    "- Ein String kann mit `float()` in einen Float-Wert umgewandelt werden."
   ]
  },
  {
   "cell_type": "code",
   "execution_count": null,
   "id": "f28ee06a",
   "metadata": {
    "tags": [
     "solution"
    ]
   },
   "outputs": [],
   "source": []
  },
  {
   "cell_type": "code",
   "execution_count": null,
   "id": "44cb940c",
   "metadata": {
    "tags": [
     "solution"
    ]
   },
   "outputs": [],
   "source": []
  },
  {
   "cell_type": "markdown",
   "id": "8d3139b3",
   "metadata": {
    "lang": "de"
   },
   "source": [
    "# Umrechnung in Meilen mit Truthiness\n",
    "\n",
    "Schreiben Sie eine Funktion `meilen_app_2`, die sich wie `meilen_app`\n",
    "verhält, aber Truthiness von Strings ausnutzt."
   ]
  },
  {
   "cell_type": "code",
   "execution_count": null,
   "id": "177e19e8",
   "metadata": {
    "tags": [
     "solution"
    ]
   },
   "outputs": [],
   "source": []
  },
  {
   "cell_type": "code",
   "execution_count": null,
   "id": "083141d0",
   "metadata": {
    "tags": [
     "solution"
    ]
   },
   "outputs": [],
   "source": []
  },
  {
   "cell_type": "markdown",
   "id": "0d5edeaa",
   "metadata": {
    "lang": "de"
   },
   "source": [
    "# Kino-Preis\n",
    "\n",
    "Das Python-Lichtspielhaus hat folgende Eintrittspreise:\n",
    "\n",
    "- Kleinkinder unter 2 Jahren sind frei.\n",
    "- Kinder von 2-12 Jahren zahlen 2 Euro.\n",
    "- Teenager von 13-17 Jahren zahlen 5 Euro.\n",
    "- Erwachsene zahlen 10 Euro.\n",
    "- Rentner (ab 65) zahlen 6 Euro.\n",
    "\n",
    "Schreiben Sie eine Funktion `kinopreis(alter)`, die den Preis in\n",
    "Abhängigkeit vom Alter berechnet und zurückgibt."
   ]
  },
  {
   "cell_type": "code",
   "execution_count": null,
   "id": "223ed7be",
   "metadata": {
    "tags": [
     "solution"
    ]
   },
   "outputs": [],
   "source": []
  },
  {
   "cell_type": "markdown",
   "id": "dd031769",
   "metadata": {
    "lang": "de"
   },
   "source": [
    "Testen Sie die Funktion `kinopreis()` für einige repräsentative Werte."
   ]
  },
  {
   "cell_type": "code",
   "execution_count": null,
   "id": "867d4bdb",
   "metadata": {
    "tags": [
     "solution"
    ]
   },
   "outputs": [],
   "source": []
  },
  {
   "cell_type": "code",
   "execution_count": null,
   "id": "17d32769",
   "metadata": {
    "tags": [
     "solution"
    ]
   },
   "outputs": [],
   "source": []
  },
  {
   "cell_type": "code",
   "execution_count": null,
   "id": "b33901d3",
   "metadata": {
    "tags": [
     "solution"
    ]
   },
   "outputs": [],
   "source": []
  },
  {
   "cell_type": "code",
   "execution_count": null,
   "id": "b949beec",
   "metadata": {
    "tags": [
     "solution"
    ]
   },
   "outputs": [],
   "source": []
  },
  {
   "cell_type": "code",
   "execution_count": null,
   "id": "93b85a2d",
   "metadata": {
    "tags": [
     "solution"
    ]
   },
   "outputs": [],
   "source": []
  },
  {
   "cell_type": "markdown",
   "id": "25d7f624",
   "metadata": {
    "lang": "de",
    "title": "Schreiben Sie eine Funktion `drucke_kinopreis(alter)`,"
   },
   "source": [
    "Schreiben Sie eine Funktion `drucke_kinopreis(alter)`,\n",
    "die einen Text der folgenden Art auf dem Bildschirm ausgibt:\n",
    "\n",
    "```\n",
    "Sie sind 1 Jahr alt. Ihr Preis beträgt 0 Euro.\n",
    "Sie sind 15 Jahre alt. Ihr Preis beträgt 5 Euro.\n",
    "```"
   ]
  },
  {
   "cell_type": "code",
   "execution_count": null,
   "id": "da86e18a",
   "metadata": {
    "tags": [
     "solution"
    ]
   },
   "outputs": [],
   "source": []
  },
  {
   "cell_type": "markdown",
   "id": "fce72e23",
   "metadata": {
    "lang": "de"
   },
   "source": [
    "Testen Sie `drucke_kinopreis()` für repräsentative Werte."
   ]
  },
  {
   "cell_type": "code",
   "execution_count": null,
   "id": "50082b81",
   "metadata": {
    "tags": [
     "solution"
    ]
   },
   "outputs": [],
   "source": []
  },
  {
   "cell_type": "markdown",
   "id": "3fbf2d67",
   "metadata": {
    "lang": "de"
   },
   "source": [
    "\n",
    "Schreiben Sie eine Funktion `kino_app()`, die ein Alter einliest und den\n",
    "Kinopreis für eine Person dieses Alters im gerade beschriebenen Format\n",
    "ausgibt. Zwei Beispielinteraktionen:\n",
    "\n",
    "```\n",
    "Wie alt sind Sie? 37\n",
    "Sie sind 37 Jahre alt. Ihr Preis beträgt 10 Euro.\n",
    "\n",
    "Wie alt sind Sie? 12\n",
    "Sie sind 12 Jahre alt. Ihr Preis beträgt 2 Euro.\n",
    "```"
   ]
  },
  {
   "cell_type": "code",
   "execution_count": null,
   "id": "42a85fb2",
   "metadata": {
    "tags": [
     "solution"
    ]
   },
   "outputs": [],
   "source": []
  },
  {
   "cell_type": "code",
   "execution_count": null,
   "id": "8736e2a9",
   "metadata": {},
   "outputs": [],
   "source": [
    "# kino_app()"
   ]
  },
  {
   "cell_type": "markdown",
   "id": "e2acfee7",
   "metadata": {
    "lang": "de"
   },
   "source": [
    "# Ratespiele\n",
    "\n",
    "Die folgenden einfachen \"Spiele\" erlauben dem Spieler unbegrenzt viele\n",
    "Eingaben. Daher ist es sinnvoll, sie mit einer While-Schleife zu\n",
    "implementieren.\n",
    "\n",
    "### Raten eines Wortes\n",
    "\n",
    "Implementieren Sie eine Funktion `rate_wort(lösung)`, die den Benutzer so\n",
    "lange nach einem Wort fragt, bis das eingegebene Wort der Lösung entspricht."
   ]
  },
  {
   "cell_type": "code",
   "execution_count": null,
   "id": "23b57dd2",
   "metadata": {
    "tags": [
     "solution"
    ]
   },
   "outputs": [],
   "source": []
  },
  {
   "cell_type": "code",
   "execution_count": null,
   "id": "a90156a1",
   "metadata": {},
   "outputs": [],
   "source": [
    "# rate_wort(\"Haus\")"
   ]
  },
  {
   "cell_type": "markdown",
   "id": "ebbddedc",
   "metadata": {
    "lang": "de"
   },
   "source": [
    "### Zahlenraten\n",
    "\n",
    "Implementieren Sie eine Funktion `rate_zahl(lösung)`, die den Benutzer so\n",
    "lange nach einer Zahl fragt, bis er die Lösung erraten hat. Nach jeder\n",
    "Eingabe soll dem Benutzer angezeigt werden, ob die eingegebene Zahl zu\n",
    "groß, zu klein oder richtig ist."
   ]
  },
  {
   "cell_type": "code",
   "execution_count": null,
   "id": "7904a449",
   "metadata": {
    "tags": [
     "solution"
    ]
   },
   "outputs": [],
   "source": []
  },
  {
   "cell_type": "code",
   "execution_count": null,
   "id": "2c3b04b3",
   "metadata": {},
   "outputs": [],
   "source": [
    "# rate_zahl(23)"
   ]
  },
  {
   "cell_type": "markdown",
   "id": "a8a67cb4",
   "metadata": {
    "lang": "de"
   },
   "source": [
    "\n",
    "Wie müssen Sie Ihre Lösung modifizieren, damit der Spieler durch Eingabe\n",
    "einer leeren Zeichenkette das Spiel abbrechen kann?"
   ]
  },
  {
   "cell_type": "code",
   "execution_count": null,
   "id": "a27ca13b",
   "metadata": {
    "tags": [
     "solution"
    ]
   },
   "outputs": [],
   "source": []
  },
  {
   "cell_type": "code",
   "execution_count": null,
   "id": "0c320e87",
   "metadata": {
    "tags": [
     "solution"
    ]
   },
   "outputs": [],
   "source": []
  },
  {
   "cell_type": "markdown",
   "id": "b74ae4a7",
   "metadata": {
    "lang": "de"
   },
   "source": [
    "Lösung unter Zuhilfenahme der Funktion `klassifiziere_zahl`"
   ]
  },
  {
   "cell_type": "code",
   "execution_count": null,
   "id": "e332dedd",
   "metadata": {
    "tags": [
     "solution"
    ]
   },
   "outputs": [],
   "source": []
  },
  {
   "cell_type": "code",
   "execution_count": null,
   "id": "1034ab39",
   "metadata": {
    "tags": [
     "solution"
    ]
   },
   "outputs": [],
   "source": []
  },
  {
   "cell_type": "code",
   "execution_count": null,
   "id": "e6cecd75",
   "metadata": {
    "tags": [
     "solution"
    ]
   },
   "outputs": [],
   "source": []
  },
  {
   "cell_type": "markdown",
   "id": "5385fbdc",
   "metadata": {
    "lang": "de"
   },
   "source": [
    "# Knobeln\n",
    "\n",
    "(Auch Schere, Stein, Papier; Schnick, Schnack, Schnuck; Fli, Fla, Flu; usw.)\n",
    "\n",
    "Beim Knobeln spielen zwei Spieler gegeneinander. Jeder der beiden Spieler\n",
    "wählt eines der drei Symbole \"Schere\", \"Stein\" oder \"Papier\" aus (ohne die\n",
    "Wahl des anderen Spielers zu kennen). Haben beide Spieler das gleiche\n",
    "Symbol gewählt, so ist das Spiel unentschieden. Andernfalls gilt:\n",
    "\n",
    "- Schere schlägt Papier\n",
    "- Papier schlägt Stein\n",
    "- Stein schlägt Schere\n",
    "\n",
    "Schreiben Sie eine Funktion `evaluiere_eine_runde_knobeln(spieler1,\n",
    "spieler2)`, die bewertet, ob die Runde unentschieden ausgegangen ist oder\n",
    "ob einer der Spieler gewonnen hat. Dazu soll die Funktion folgende Werte\n",
    "zurückgeben:\n",
    "\n",
    "- 0, wenn die Runde unentschieden war\n",
    "- 1, wenn Spieler 1 gewonnen hat\n",
    "- 2, wenn Spieler 2 gewonnen hat\n",
    "\n",
    "Wenn einer der Spieler eine ungültige Eingabe vorgenommen hat soll die\n",
    "Funktion eine Exception vom benutzerdefinierten Typ `BadInputException`\n",
    "auslösen, in der die Nummer des Spielers gespeichert ist, dessen Eingabe\n",
    "ungültig war. (Wenn beide Spieler eine ungültige Eingabe vorgenommen haben\n",
    "kann ein beliebiger Spieler gespeichert werden.)"
   ]
  },
  {
   "cell_type": "code",
   "execution_count": null,
   "id": "3c0c0806",
   "metadata": {
    "tags": [
     "solution"
    ]
   },
   "outputs": [],
   "source": []
  },
  {
   "cell_type": "markdown",
   "id": "0bdc187f",
   "metadata": {
    "lang": "de"
   },
   "source": [
    "Testen Sie alle möglichen Pfade durch Ihre Funktion."
   ]
  },
  {
   "cell_type": "code",
   "execution_count": null,
   "id": "ac2fca8e",
   "metadata": {
    "tags": [
     "solution"
    ]
   },
   "outputs": [],
   "source": []
  },
  {
   "cell_type": "code",
   "execution_count": null,
   "id": "daf4cbaf",
   "metadata": {
    "tags": [
     "solution"
    ]
   },
   "outputs": [],
   "source": []
  },
  {
   "cell_type": "code",
   "execution_count": null,
   "id": "b5563681",
   "metadata": {
    "tags": [
     "solution"
    ]
   },
   "outputs": [],
   "source": []
  },
  {
   "cell_type": "code",
   "execution_count": null,
   "id": "4f647cfb",
   "metadata": {
    "tags": [
     "solution"
    ]
   },
   "outputs": [],
   "source": []
  },
  {
   "cell_type": "code",
   "execution_count": null,
   "id": "e15f9ec3",
   "metadata": {
    "tags": [
     "solution"
    ]
   },
   "outputs": [],
   "source": []
  },
  {
   "cell_type": "code",
   "execution_count": null,
   "id": "5731b031",
   "metadata": {
    "tags": [
     "solution"
    ]
   },
   "outputs": [],
   "source": []
  },
  {
   "cell_type": "code",
   "execution_count": null,
   "id": "c15d7473",
   "metadata": {
    "tags": [
     "solution"
    ]
   },
   "outputs": [],
   "source": []
  },
  {
   "cell_type": "code",
   "execution_count": null,
   "id": "81af1f88",
   "metadata": {
    "tags": [
     "solution"
    ]
   },
   "outputs": [],
   "source": []
  },
  {
   "cell_type": "code",
   "execution_count": null,
   "id": "91690d22",
   "metadata": {
    "tags": [
     "solution"
    ]
   },
   "outputs": [],
   "source": []
  },
  {
   "cell_type": "code",
   "execution_count": null,
   "id": "113988ef",
   "metadata": {
    "tags": [
     "solution"
    ]
   },
   "outputs": [],
   "source": []
  },
  {
   "cell_type": "code",
   "execution_count": null,
   "id": "30eb418d",
   "metadata": {
    "tags": [
     "solution"
    ]
   },
   "outputs": [],
   "source": []
  },
  {
   "cell_type": "code",
   "execution_count": null,
   "id": "bd760497",
   "metadata": {
    "tags": [
     "solution"
    ]
   },
   "outputs": [],
   "source": []
  },
  {
   "cell_type": "code",
   "execution_count": null,
   "id": "8d210884",
   "metadata": {
    "tags": [
     "solution"
    ]
   },
   "outputs": [],
   "source": []
  },
  {
   "cell_type": "code",
   "execution_count": null,
   "id": "c881f74f",
   "metadata": {
    "tags": [
     "solution"
    ]
   },
   "outputs": [],
   "source": []
  },
  {
   "cell_type": "code",
   "execution_count": null,
   "id": "abde5a93",
   "metadata": {
    "tags": [
     "solution"
    ]
   },
   "outputs": [],
   "source": []
  },
  {
   "cell_type": "markdown",
   "id": "5323d10a",
   "metadata": {
    "lang": "de"
   },
   "source": [
    "\n",
    "Schreiben Sie eine Funktion `vergleiche_symbole(spieler1, spieler2)`,\n",
    "die folgende Information auf dem Bildschirm ausgibt:\n",
    "\n",
    "- `Unentschieden.`, wenn beide Spieler das gleiche Symbol gewählt haben,\n",
    "- `Spieler X gewinnt!`, wenn Spieler X (X = 1 oder 2) gewonnen hat,\n",
    "- `Ungültiges Symbol von Spieler X!`, wenn Spieler X ein ungültiges Symbol\n",
    "  eingegeben hat."
   ]
  },
  {
   "cell_type": "code",
   "execution_count": null,
   "id": "ad90da9c",
   "metadata": {
    "tags": [
     "solution"
    ]
   },
   "outputs": [],
   "source": []
  },
  {
   "cell_type": "markdown",
   "id": "6d3489c5",
   "metadata": {
    "lang": "de"
   },
   "source": [
    "Testen Sie `vergleiche_symbole` für geeignete Eingaben."
   ]
  },
  {
   "cell_type": "code",
   "execution_count": null,
   "id": "5b40124a",
   "metadata": {
    "tags": [
     "solution"
    ]
   },
   "outputs": [],
   "source": []
  },
  {
   "cell_type": "code",
   "execution_count": null,
   "id": "6b05145c",
   "metadata": {
    "tags": [
     "solution"
    ]
   },
   "outputs": [],
   "source": []
  },
  {
   "cell_type": "code",
   "execution_count": null,
   "id": "1c42d2b4",
   "metadata": {
    "tags": [
     "solution"
    ]
   },
   "outputs": [],
   "source": []
  },
  {
   "cell_type": "code",
   "execution_count": null,
   "id": "e04d8c94",
   "metadata": {
    "tags": [
     "solution"
    ]
   },
   "outputs": [],
   "source": []
  },
  {
   "cell_type": "code",
   "execution_count": null,
   "id": "72dc080c",
   "metadata": {
    "tags": [
     "solution"
    ]
   },
   "outputs": [],
   "source": []
  },
  {
   "cell_type": "code",
   "execution_count": null,
   "id": "68e6255d",
   "metadata": {
    "tags": [
     "solution"
    ]
   },
   "outputs": [],
   "source": []
  },
  {
   "cell_type": "code",
   "execution_count": null,
   "id": "cf170ace",
   "metadata": {
    "tags": [
     "solution"
    ]
   },
   "outputs": [],
   "source": []
  },
  {
   "cell_type": "code",
   "execution_count": null,
   "id": "491e5802",
   "metadata": {
    "tags": [
     "solution"
    ]
   },
   "outputs": [],
   "source": []
  },
  {
   "cell_type": "code",
   "execution_count": null,
   "id": "9a1caa14",
   "metadata": {
    "tags": [
     "solution"
    ]
   },
   "outputs": [],
   "source": []
  },
  {
   "cell_type": "markdown",
   "id": "2dda2416",
   "metadata": {
    "lang": "de"
   },
   "source": [
    "\n",
    "Schreiben Sie eine Funktion `spiele_eine_runde_knobeln()`, die die Auswahl\n",
    "von Spieler 1 und Spieler 2 vom Terminal einliest und dann auf dem\n",
    "Bildschirm ausgibt, wer gewonnen hat.\n",
    "\n",
    "(Das ist natürlich kein benutzbares Spiel, da Spieler 2 sehen kann,\n",
    "was Spieler 1 gewählt hat.)"
   ]
  },
  {
   "cell_type": "code",
   "execution_count": null,
   "id": "21684379",
   "metadata": {
    "tags": [
     "solution"
    ]
   },
   "outputs": [],
   "source": []
  },
  {
   "cell_type": "markdown",
   "id": "0aceadbd",
   "metadata": {
    "lang": "de"
   },
   "source": [
    "Testen Sie die Funktion `spiele_eine_runde_knobeln()` interaktiv."
   ]
  },
  {
   "cell_type": "code",
   "execution_count": null,
   "id": "b44a2e6b",
   "metadata": {
    "tags": [
     "solution"
    ]
   },
   "outputs": [],
   "source": []
  },
  {
   "cell_type": "markdown",
   "id": "eb067f7c",
   "metadata": {
    "lang": "de"
   },
   "source": [
    "\n",
    "Schreiben Sie eine Funktion `spiele_knobeln()`, die zwei Spieler so lange\n",
    "gegeneinader knobeln lässt, bis ein Spieler 3 Spiele mehr gewonnen hat als\n",
    "der andere (z.B. wenn der erste Spieler 2 Spiele gewonnen hat, der zweite\n",
    "Spieler 5)."
   ]
  },
  {
   "cell_type": "code",
   "execution_count": null,
   "id": "105fe75c",
   "metadata": {
    "lines_to_next_cell": 2,
    "tags": [
     "solution"
    ]
   },
   "outputs": [],
   "source": []
  },
  {
   "cell_type": "code",
   "execution_count": null,
   "id": "518b516e",
   "metadata": {
    "tags": [
     "solution"
    ]
   },
   "outputs": [],
   "source": []
  }
 ],
 "metadata": {
  "jupytext": {
   "encoding": "# -*- coding: utf-8 -*-",
   "formats": "ipynb"
  },
  "kernelspec": {
   "display_name": "Python 3 (ipykernel)",
   "language": "python",
   "name": "python3"
  }
 },
 "nbformat": 4,
 "nbformat_minor": 5
}
