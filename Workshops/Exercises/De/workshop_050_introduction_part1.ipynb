{
 "cells": [
  {
   "cell_type": "markdown",
   "id": "0d78e9cd",
   "metadata": {
    "lang": "de"
   },
   "source": [
    "# Einleitung\n",
    "\n",
    "Wie können Sie den String `Hello, world!` in Python darstellen?"
   ]
  },
  {
   "cell_type": "code",
   "execution_count": 1,
   "id": "d7210031",
   "metadata": {
    "tags": [
     "solution"
    ]
   },
   "outputs": [
    {
     "data": {
      "text/plain": [
       "'Hello, world!'"
      ]
     },
     "execution_count": 1,
     "metadata": {},
     "output_type": "execute_result"
    }
   ],
   "source": [
    "\"Hello, world!\""
   ]
  },
  {
   "cell_type": "markdown",
   "id": "8865e6ba",
   "metadata": {
    "lang": "de"
   },
   "source": [
    "Wie können Sie Ihren Namen als Text (String) in Python darstellen?"
   ]
  },
  {
   "cell_type": "code",
   "execution_count": null,
   "id": "773c4266",
   "metadata": {
    "tags": [
     "solution"
    ]
   },
   "outputs": [],
   "source": []
  },
  {
   "cell_type": "markdown",
   "id": "a098ed21",
   "metadata": {
    "lang": "de"
   },
   "source": [
    "Wie können Sie den String `Hello, World!` auf dem Bildschirm ausgeben?"
   ]
  },
  {
   "cell_type": "code",
   "execution_count": 2,
   "id": "39fff84b",
   "metadata": {
    "tags": [
     "solution"
    ]
   },
   "outputs": [
    {
     "name": "stdout",
     "output_type": "stream",
     "text": [
      "Hello, World!\n"
     ]
    }
   ],
   "source": [
    "print(\"Hello, World!\")"
   ]
  },
  {
   "cell_type": "markdown",
   "id": "e4ce3a12",
   "metadata": {
    "lang": "de"
   },
   "source": [
    "Wie können Sie Ihren Namen auf dem Bildschirm ausgeben?"
   ]
  },
  {
   "cell_type": "code",
   "execution_count": null,
   "id": "5d5c908b",
   "metadata": {
    "tags": [
     "solution"
    ]
   },
   "outputs": [],
   "source": []
  },
  {
   "cell_type": "markdown",
   "id": "de70fdb8",
   "metadata": {
    "lang": "de"
   },
   "source": [
    "Wie können Sie\n",
    "\n",
    "```\n",
    "130 g   Mehl\n",
    "250 ml  Milch\n",
    "1 EL    Vanillezucker\n",
    "1 Prise Salz\n",
    "```\n",
    "\n",
    "auf dem Bildschirm ausgeben?"
   ]
  },
  {
   "cell_type": "code",
   "execution_count": null,
   "id": "290c47c0",
   "metadata": {
    "tags": [
     "solution"
    ]
   },
   "outputs": [],
   "source": []
  },
  {
   "cell_type": "code",
   "execution_count": null,
   "id": "96b154da",
   "metadata": {
    "tags": [
     "solution"
    ]
   },
   "outputs": [],
   "source": []
  },
  {
   "cell_type": "code",
   "execution_count": null,
   "id": "e93f0192",
   "metadata": {
    "tags": [
     "solution"
    ]
   },
   "outputs": [],
   "source": []
  },
  {
   "cell_type": "markdown",
   "id": "7b0485de",
   "metadata": {
    "lang": "de"
   },
   "source": [
    "# Zahlen und Mathematik\n",
    "\n",
    "Wie können Sie die Zahl `32` in Python darstellen?"
   ]
  },
  {
   "cell_type": "code",
   "execution_count": null,
   "id": "353b123c",
   "metadata": {
    "tags": [
     "solution"
    ]
   },
   "outputs": [],
   "source": []
  },
  {
   "cell_type": "markdown",
   "id": "8ac3d007",
   "metadata": {
    "lang": "de"
   },
   "source": [
    "Wie können Sie den Datentyp von `14` in Python feststellen?"
   ]
  },
  {
   "cell_type": "code",
   "execution_count": null,
   "id": "257627f2",
   "metadata": {
    "tags": [
     "solution"
    ]
   },
   "outputs": [],
   "source": []
  },
  {
   "cell_type": "markdown",
   "id": "4ae09639",
   "metadata": {
    "lang": "de"
   },
   "source": [
    "Wie können Sie den Datentyp von `14.0` in Python feststellen?"
   ]
  },
  {
   "cell_type": "code",
   "execution_count": null,
   "id": "056e8d8e",
   "metadata": {
    "tags": [
     "solution"
    ]
   },
   "outputs": [],
   "source": []
  },
  {
   "cell_type": "markdown",
   "id": "474e8c8c",
   "metadata": {
    "lang": "de"
   },
   "source": [
    "Wie können Sieden Datentyp von `'14'` in Python feststellen?"
   ]
  },
  {
   "cell_type": "code",
   "execution_count": null,
   "id": "5fa52003",
   "metadata": {
    "tags": [
     "solution"
    ]
   },
   "outputs": [],
   "source": []
  },
  {
   "cell_type": "markdown",
   "id": "b217370a",
   "metadata": {
    "lang": "de"
   },
   "source": [
    "Was ist der Wert von `1 + 2 * 3`?"
   ]
  },
  {
   "cell_type": "code",
   "execution_count": null,
   "id": "4994d377",
   "metadata": {
    "tags": [
     "solution"
    ]
   },
   "outputs": [],
   "source": []
  },
  {
   "cell_type": "markdown",
   "id": "00c1b338",
   "metadata": {
    "lang": "de"
   },
   "source": [
    "Was ist der Datentyp von `1 + 2 * 3` in Python?"
   ]
  },
  {
   "cell_type": "code",
   "execution_count": null,
   "id": "31158936",
   "metadata": {
    "tags": [
     "solution"
    ]
   },
   "outputs": [],
   "source": []
  },
  {
   "cell_type": "markdown",
   "id": "0373bea0",
   "metadata": {
    "lang": "de"
   },
   "source": [
    "Was ist der Wert von `4 / 2` in Python?"
   ]
  },
  {
   "cell_type": "code",
   "execution_count": null,
   "id": "6f05d021",
   "metadata": {
    "tags": [
     "solution"
    ]
   },
   "outputs": [],
   "source": []
  },
  {
   "cell_type": "markdown",
   "id": "20c51d8b",
   "metadata": {
    "lang": "de"
   },
   "source": [
    "Was ist der Datentyp von `4 / 2` in Python?"
   ]
  },
  {
   "cell_type": "code",
   "execution_count": null,
   "id": "8d584f7e",
   "metadata": {
    "tags": [
     "solution"
    ]
   },
   "outputs": [],
   "source": []
  },
  {
   "cell_type": "markdown",
   "id": "839ac8af",
   "metadata": {
    "lang": "de"
   },
   "source": [
    "Was sind Wert und Datentyp von `1 + 1.0` in Python? Können Sie den Datentyp\n",
    "ohne Verwendung von `type` feststellen?"
   ]
  },
  {
   "cell_type": "code",
   "execution_count": null,
   "id": "2c5fcf58",
   "metadata": {
    "tags": [
     "solution"
    ]
   },
   "outputs": [],
   "source": []
  },
  {
   "cell_type": "markdown",
   "id": "2daedd6f",
   "metadata": {
    "lang": "de"
   },
   "source": [
    "# Piraten\n",
    "\n",
    "Der Legende nach wurde die Beute bei Piratenbanden gerecht durch alle Piraten\n",
    "geteilt. Falls sich die Beute sich nicht gerecht aufteilen ließ erhielt der\n",
    "Kapitän den überschüssigen Anteil.\n",
    "\n",
    "Wie viele Golddublonen erhält jeder Pirat einer 8-köpfigen Bande\n",
    "(7 Piraten + 1 Kapitän), wenn ein Schatz mit 1000 Golddublonen erbeutet wurde?\n",
    "\n",
    "(Verwenden Sie Variablen um die Berechnung klarer zu machen.)"
   ]
  },
  {
   "cell_type": "code",
   "execution_count": null,
   "id": "edd01ab3",
   "metadata": {
    "tags": [
     "solution"
    ]
   },
   "outputs": [],
   "source": []
  },
  {
   "cell_type": "markdown",
   "id": "1e5d8b97",
   "metadata": {
    "lang": "de"
   },
   "source": [
    "Wie viele Golddublonen erhält der Kapitän extra?"
   ]
  },
  {
   "cell_type": "code",
   "execution_count": null,
   "id": "c39b5fda",
   "metadata": {
    "tags": [
     "solution"
    ]
   },
   "outputs": [],
   "source": []
  },
  {
   "cell_type": "markdown",
   "id": "6b137bb5",
   "metadata": {
    "lang": "de"
   },
   "source": [
    "Die Piratenbande nimmt 3 neue Piraten-Lehrlinge auf.\n",
    "\n",
    "Wie verändert sich die Aufteilung der Beute?\n",
    "\n",
    "(Verwenden Sie Zuweisungen an die existierenden Variablen um das Problem zu\n",
    "lösen.)"
   ]
  },
  {
   "cell_type": "code",
   "execution_count": null,
   "id": "9c45a92f",
   "metadata": {
    "tags": [
     "solution"
    ]
   },
   "outputs": [],
   "source": []
  },
  {
   "cell_type": "markdown",
   "id": "14d0fe2f",
   "metadata": {
    "lang": "de"
   },
   "source": [
    "Wie viele Golddublonen erhält der Kapitän in diesem Fall zusätzlich?"
   ]
  },
  {
   "cell_type": "code",
   "execution_count": null,
   "id": "083c98f5",
   "metadata": {
    "tags": [
     "solution"
    ]
   },
   "outputs": [],
   "source": []
  },
  {
   "cell_type": "markdown",
   "id": "d493eb06",
   "metadata": {
    "lang": "de"
   },
   "source": [
    "# Spenden\n",
    "\n",
    "Bei einer Spendenaktion hat der Fernsehsender ZRD zugesagt, jede eingehende\n",
    "Spende zu verdoppeln. Der Regionalsender YB3 erhöht jede eingehende Spende\n",
    "um 10 Euro. (ZRD verdoppelt bevor die 10 Euro von YB3 hinzugefügt werden.)\n",
    "\n",
    "Schreiben Sie eine Python Funktion `effektive_spende(n)`, die berechnet,\n",
    "welcher Betrag effektiv gespendet wird, wenn ein Zuschauer $N$ Euro spendet."
   ]
  },
  {
   "cell_type": "code",
   "execution_count": null,
   "id": "aa417a29",
   "metadata": {
    "tags": [
     "solution"
    ]
   },
   "outputs": [],
   "source": []
  },
  {
   "cell_type": "markdown",
   "id": "d8b7073c",
   "metadata": {
    "lang": "de"
   },
   "source": [
    "Wie hoch ist die effektive Spende, wenn ein Zuschauer 20 Euro spendet?"
   ]
  },
  {
   "cell_type": "code",
   "execution_count": null,
   "id": "312b46ea",
   "metadata": {
    "tags": [
     "solution"
    ]
   },
   "outputs": [],
   "source": []
  },
  {
   "cell_type": "markdown",
   "id": "5bfe36f2",
   "metadata": {
    "lang": "de"
   },
   "source": [
    "\n",
    "Geben Sie die effektiven Spenden für 25, 50, 100 und 500 Euro auf dem\n",
    "Bildschirm aus.\n",
    "\n",
    "*Hinweis:* Sie können Eingaben mit der `Tab`-Taste vervollständigen. Es\n",
    "genügt also, wenn Sie\n",
    "\n",
    "`pri`-*Tab* `eff`-*Tab*\n",
    "\n",
    "eingeben bevor Sie die Argumente eintippen."
   ]
  },
  {
   "cell_type": "code",
   "execution_count": null,
   "id": "24d88c20",
   "metadata": {
    "tags": [
     "solution"
    ]
   },
   "outputs": [],
   "source": []
  },
  {
   "cell_type": "markdown",
   "id": "20376ea9",
   "metadata": {
    "lang": "de"
   },
   "source": [
    "# Piraten, Teil 2\n",
    "\n",
    "Ihre Piraten-Crew droht zu meutern, weil die Berechnung der Beuteaufteilung\n",
    "zu lange dauert.\n",
    "\n",
    "Schreiben Sie eine Funktion `drucke_aufteilung_der_beute(dublonen, piraten)`,\n",
    "die die Aufteilung berechnet und in folgendem Format ausgibt:\n",
    "\n",
    "```\n",
    "Piraten: 8\n",
    "Golddublonen: 17\n",
    "Jeder Pirat erhält: 2 Golddublone(n)\n",
    "Kapitän erhält extra: 1 Golddublone(n)\n",
    "```"
   ]
  },
  {
   "cell_type": "code",
   "execution_count": null,
   "id": "e3c498a0",
   "metadata": {
    "tags": [
     "solution"
    ]
   },
   "outputs": [],
   "source": []
  },
  {
   "cell_type": "markdown",
   "id": "de67d960",
   "metadata": {
    "lang": "de"
   },
   "source": [
    "# Piraten, Teil 3\n",
    "\n",
    "Nachdem die Gefahr der Meuterei gebannt ist haben Sie Zeit sich um die\n",
    "Verbesserung Ihrer Software zu kümmern.\n",
    "\n",
    "Schreiben Sie eine Funktion `teile_beute_auf(dublonen, piraten)` die den\n",
    "Beuteanteil jedes Piraten und die Extra-Beute des Kapitäns als zwei Werte\n",
    "zurückgibt."
   ]
  },
  {
   "cell_type": "code",
   "execution_count": null,
   "id": "fdabe8fc",
   "metadata": {
    "tags": [
     "solution"
    ]
   },
   "outputs": [],
   "source": []
  },
  {
   "cell_type": "markdown",
   "id": "40259fe2",
   "metadata": {
    "lang": "de"
   },
   "source": [
    "\n",
    "Schreiben Sie eine verbesserte Version der Funktion\n",
    "`drucke_aufteilung_der_beute()`, die `teile_beute_auf()` als Hilfsfunktion\n",
    "verwendet."
   ]
  },
  {
   "cell_type": "code",
   "execution_count": null,
   "id": "3888290a",
   "metadata": {
    "tags": [
     "solution"
    ]
   },
   "outputs": [],
   "source": []
  }
 ],
 "metadata": {
  "jupytext": {
   "encoding": "# -*- coding: utf-8 -*-",
   "formats": "ipynb"
  },
  "kernelspec": {
   "display_name": "Python 3 (ipykernel)",
   "language": "python",
   "name": "python3"
  },
  "language_info": {
   "codemirror_mode": {
    "name": "ipython",
    "version": 3
   },
   "file_extension": ".py",
   "mimetype": "text/x-python",
   "name": "python",
   "nbconvert_exporter": "python",
   "pygments_lexer": "ipython3",
   "version": "3.10.4"
  },
  "nbTranslate": {
   "displayLangs": [
    "de"
   ],
   "hotkey": "alt-t",
   "langInMainMenu": true,
   "sourceLang": "de",
   "targetLang": "en",
   "useGoogleTranslate": true
  }
 },
 "nbformat": 4,
 "nbformat_minor": 5
}
