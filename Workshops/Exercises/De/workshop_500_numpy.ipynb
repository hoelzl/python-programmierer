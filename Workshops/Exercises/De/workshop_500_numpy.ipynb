{
 "cells": [
  {
   "cell_type": "markdown",
   "id": "42062769",
   "metadata": {},
   "source": [
    "# Erzeugen von NumPy Arrays"
   ]
  },
  {
   "cell_type": "code",
   "execution_count": null,
   "id": "c3fbc9e7",
   "metadata": {
    "tags": [
     "solution"
    ]
   },
   "outputs": [],
   "source": []
  },
  {
   "cell_type": "markdown",
   "id": "c1b9506d",
   "metadata": {},
   "source": [
    "Erzeugen Sie folgende NumPy Arrays:"
   ]
  },
  {
   "cell_type": "markdown",
   "id": "e7bce5fa",
   "metadata": {},
   "source": [
    "```python\n",
    "array([0, 1, 2, 3, 4, 5, 6, 7, 8, 9])\n",
    "```"
   ]
  },
  {
   "cell_type": "code",
   "execution_count": null,
   "id": "4fb13a0c",
   "metadata": {
    "tags": [
     "solution"
    ]
   },
   "outputs": [],
   "source": []
  },
  {
   "cell_type": "markdown",
   "id": "497b073a",
   "metadata": {},
   "source": [
    "```python\n",
    "array([0.  , 1.25, 2.5 , 3.75, 5.  ])\n",
    "```"
   ]
  },
  {
   "cell_type": "code",
   "execution_count": null,
   "id": "9b5b42fd",
   "metadata": {
    "tags": [
     "solution"
    ]
   },
   "outputs": [],
   "source": []
  },
  {
   "cell_type": "markdown",
   "id": "a42e2362",
   "metadata": {},
   "source": [
    "```python\n",
    "array([ 1,  3, 12, 92])\n",
    "```"
   ]
  },
  {
   "cell_type": "code",
   "execution_count": null,
   "id": "6f868184",
   "metadata": {
    "tags": [
     "solution"
    ]
   },
   "outputs": [],
   "source": []
  },
  {
   "cell_type": "markdown",
   "id": "1ce92eb9",
   "metadata": {},
   "source": [
    "```python\n",
    "array([[1, 2, 3, 4],\n",
    "       [5, 6, 7, 8]])\n",
    "```"
   ]
  },
  {
   "cell_type": "code",
   "execution_count": null,
   "id": "d0073cbc",
   "metadata": {
    "tags": [
     "solution"
    ]
   },
   "outputs": [],
   "source": []
  },
  {
   "cell_type": "markdown",
   "id": "d5eb1850",
   "metadata": {},
   "source": [
    "```python\n",
    "array([[[0, 2, 4, 6],\n",
    "        [1, 3, 5, 7]],\n",
    "\n",
    "       [[1, 2, 3, 4],\n",
    "        [5, 6, 7, 8]],\n",
    "\n",
    "       [[9, 8, 7, 6],\n",
    "        [5, 4, 3, 2]]])\n",
    "```"
   ]
  },
  {
   "cell_type": "code",
   "execution_count": null,
   "id": "56a943fd",
   "metadata": {
    "tags": [
     "solution"
    ]
   },
   "outputs": [],
   "source": []
  },
  {
   "cell_type": "code",
   "execution_count": null,
   "id": "65be2d1b",
   "metadata": {
    "tags": [
     "solution"
    ]
   },
   "outputs": [],
   "source": []
  },
  {
   "cell_type": "markdown",
   "id": "e0387cac",
   "metadata": {},
   "source": [
    "Ein $2\\times 8$ Array, das gleichverteilte Zufallszahlen in $[0, 1)$ enthält."
   ]
  },
  {
   "cell_type": "code",
   "execution_count": null,
   "id": "23a72a48",
   "metadata": {
    "tags": [
     "solution"
    ]
   },
   "outputs": [],
   "source": []
  },
  {
   "cell_type": "markdown",
   "id": "ee640f57",
   "metadata": {},
   "source": [
    "```python\n",
    "array([[1., 0., 0.],\n",
    "       [0., 1., 0.],\n",
    "       [0., 0., 1.]])\n",
    "```"
   ]
  },
  {
   "cell_type": "code",
   "execution_count": null,
   "id": "e77e5c5d",
   "metadata": {
    "tags": [
     "solution"
    ]
   },
   "outputs": [],
   "source": []
  },
  {
   "cell_type": "markdown",
   "id": "adbede25",
   "metadata": {},
   "source": [
    "Einen Vektor der Länge 5, der standard-normalverteilte Zahlen enthält."
   ]
  },
  {
   "cell_type": "code",
   "execution_count": null,
   "id": "087801a7",
   "metadata": {
    "tags": [
     "solution"
    ]
   },
   "outputs": [],
   "source": []
  },
  {
   "cell_type": "markdown",
   "id": "4629b2ce",
   "metadata": {},
   "source": [
    "Ein $3 \\times 4$ Array, das normalverteilte Zahlen mit Mittelwert $5$ und Standardabweichung $0.5$ enthält."
   ]
  },
  {
   "cell_type": "code",
   "execution_count": null,
   "id": "8c84a7f6",
   "metadata": {
    "tags": [
     "solution"
    ]
   },
   "outputs": [],
   "source": []
  },
  {
   "cell_type": "markdown",
   "id": "b3bcab8e",
   "metadata": {},
   "source": [
    "## Gleichungssysteme\n",
    "\n",
    "Lösen Sie folgendes Gleichungssystem:\n",
    "\n",
    "$x_1 - x_2 + 2x_3 = 6$\n",
    "\n",
    "$2x_1 + 3x_2 + 2x_3 = 8$\n",
    "\n",
    "$3x_1 + 2x_2 + x_3 = 8$"
   ]
  },
  {
   "cell_type": "code",
   "execution_count": null,
   "id": "6916ed17",
   "metadata": {
    "tags": [
     "solution"
    ]
   },
   "outputs": [],
   "source": []
  },
  {
   "cell_type": "code",
   "execution_count": null,
   "id": "ea6ec806",
   "metadata": {
    "tags": [
     "solution"
    ]
   },
   "outputs": [],
   "source": []
  },
  {
   "cell_type": "code",
   "execution_count": null,
   "id": "ba33f791",
   "metadata": {
    "tags": [
     "solution"
    ]
   },
   "outputs": [],
   "source": []
  },
  {
   "cell_type": "code",
   "execution_count": null,
   "id": "4c741996",
   "metadata": {
    "tags": [
     "solution"
    ]
   },
   "outputs": [],
   "source": []
  },
  {
   "cell_type": "code",
   "execution_count": null,
   "id": "2c207324",
   "metadata": {
    "tags": [
     "solution"
    ]
   },
   "outputs": [],
   "source": []
  },
  {
   "cell_type": "markdown",
   "id": "3ba84adf",
   "metadata": {},
   "source": [
    "# Erzeugen von NumPy Arrays 2\n",
    "\n",
    "Erzeugen Sie das folgende NumPy Array:\n",
    "\n",
    "```python\n",
    "array([[ 0,  2,  4,  6],\n",
    "       [ 8, 10, 12, 14],\n",
    "       [16, 18, 20, 22],\n",
    "       [24, 26, 28, 30],\n",
    "       [32, 34, 36, 38]])\n",
    "```"
   ]
  },
  {
   "cell_type": "code",
   "execution_count": null,
   "id": "e49cb73f",
   "metadata": {
    "tags": [
     "solution"
    ]
   },
   "outputs": [],
   "source": []
  },
  {
   "cell_type": "markdown",
   "id": "7b2f48f3",
   "metadata": {},
   "source": [
    "Erzeugen Sie das folgende NumPy Array:\n",
    "\n",
    "```python\n",
    "array([[10, 19, 28, 37, 46, 55],\n",
    "       [13, 22, 31, 40, 49, 58],\n",
    "       [16, 25, 34, 43, 52, 61]])\n",
    "```"
   ]
  },
  {
   "cell_type": "code",
   "execution_count": null,
   "id": "a8966f06",
   "metadata": {
    "tags": [
     "solution"
    ]
   },
   "outputs": [],
   "source": []
  },
  {
   "cell_type": "markdown",
   "id": "6d4fae77",
   "metadata": {},
   "source": [
    "# Extrema\n",
    "\n",
    "Erzeugen Sie einen Vektor der Länge 100 mit Zufallswerten, die im Intervall\n",
    "$[10, 20)$ gleichverteilt sind.\n",
    "\n",
    "Berechnen Sie Minimum und Maximum der im Vektor\n",
    "enthaltenen Werte sowie die Positionen von Minimum und Maximum."
   ]
  },
  {
   "cell_type": "code",
   "execution_count": null,
   "id": "5995c7f3",
   "metadata": {
    "tags": [
     "solution"
    ]
   },
   "outputs": [],
   "source": []
  },
  {
   "cell_type": "code",
   "execution_count": null,
   "id": "f7d5ed15",
   "metadata": {
    "tags": [
     "solution"
    ]
   },
   "outputs": [],
   "source": []
  },
  {
   "cell_type": "code",
   "execution_count": null,
   "id": "c17e7117",
   "metadata": {
    "tags": [
     "solution"
    ]
   },
   "outputs": [],
   "source": []
  },
  {
   "cell_type": "code",
   "execution_count": null,
   "id": "6c982a28",
   "metadata": {
    "tags": [
     "solution"
    ]
   },
   "outputs": [],
   "source": []
  },
  {
   "cell_type": "code",
   "execution_count": null,
   "id": "b1c9110f",
   "metadata": {
    "tags": [
     "solution"
    ]
   },
   "outputs": [],
   "source": []
  },
  {
   "cell_type": "markdown",
   "id": "20a88db3",
   "metadata": {},
   "source": [
    "# Mittelwert\n",
    "\n",
    "Erzeugen Sie ein $6 \\times 8$ Array, das standardverteilten Zahlen mit\n",
    "Mittelwert $2$ und Standardabweichung $1$ enthält.\n",
    "\n"
   ]
  },
  {
   "cell_type": "code",
   "execution_count": null,
   "id": "d8430124",
   "metadata": {
    "tags": [
     "solution"
    ]
   },
   "outputs": [],
   "source": []
  },
  {
   "cell_type": "markdown",
   "id": "837faf5c",
   "metadata": {},
   "source": [
    "Berechnen Sie den Mittelwert aller darin vorkommenden Werte.\n"
   ]
  },
  {
   "cell_type": "code",
   "execution_count": null,
   "id": "9b49c0ce",
   "metadata": {
    "tags": [
     "solution"
    ]
   },
   "outputs": [],
   "source": []
  },
  {
   "cell_type": "markdown",
   "id": "d34efb6e",
   "metadata": {},
   "source": [
    "Berechnen Sie die zeilen- und spaltenweisen Mittelwerte."
   ]
  },
  {
   "cell_type": "code",
   "execution_count": null,
   "id": "73dce4f7",
   "metadata": {
    "tags": [
     "solution"
    ]
   },
   "outputs": [],
   "source": []
  },
  {
   "cell_type": "code",
   "execution_count": null,
   "id": "06ceda51",
   "metadata": {
    "tags": [
     "solution"
    ]
   },
   "outputs": [],
   "source": []
  },
  {
   "cell_type": "markdown",
   "id": "7c8e4db3",
   "metadata": {},
   "source": [
    "Berechnen Sie den Mittelwert aller vorkommenden Werte ohne Verwendung der\n",
    "Methode `mean()`."
   ]
  },
  {
   "cell_type": "code",
   "execution_count": null,
   "id": "b992259b",
   "metadata": {
    "tags": [
     "solution"
    ]
   },
   "outputs": [],
   "source": []
  },
  {
   "cell_type": "markdown",
   "id": "b11721cd",
   "metadata": {},
   "source": [
    "Berechnen Sie die zeilen- und spaltenweisen Mittelwerte ohne Verwendung der\n",
    "Methode `mean()`."
   ]
  },
  {
   "cell_type": "code",
   "execution_count": null,
   "id": "3e10f3e7",
   "metadata": {
    "tags": [
     "solution"
    ]
   },
   "outputs": [],
   "source": []
  },
  {
   "cell_type": "code",
   "execution_count": null,
   "id": "139bebde",
   "metadata": {
    "tags": [
     "solution"
    ]
   },
   "outputs": [],
   "source": []
  },
  {
   "cell_type": "markdown",
   "id": "c7eaf9d1",
   "metadata": {},
   "source": [
    "# Roulette\n",
    "\n",
    "Analysieren Sie die Gewinnerwartung eines Spielers in folgender\n",
    "vereinfachter Form eines Roulettespiels mittels Monte Carlo Simulation:\n",
    "\n",
    "- Der Kessel ist in 36 Zahlen unterteilt.\n",
    "- Der Spieler wählt eine der Zahlen 1 bis 36 und wettet 1 Euro.\n",
    "- Fällt die Kugel auf die gewählte Zahl, so erhält der Spieler seinen Einsatz\n",
    "  plus 35 Euro zurück.\n",
    "- Andernfalls verliert der Spieler seinen Einsatz.\n",
    "\n",
    "Schreiben Sie eine Version der Simulation mit `for`-Schleife in Python und\n",
    "testen Sie die Performance dieser Version vor und nach Kompilierung mit\n",
    "Numba. Schreiben Sie dann eine vektorisierte Version und testen Sie deren\n",
    "Performance in beiden Fällen.\n",
    "\n",
    "*Hinweise:*\n",
    "- Die NumPy Bibliothek enthält eine Funktion\n",
    "  `np.random.randint(low, high, size=None)`, mit der Sie ein Array mit Shape\n",
    "  `size` erzeugen können, das gleichverteilte Zufallszahlen zwischen `low`\n",
    "  (inklusive) und `high` (exklusive) enthält.\n",
    "- Wird `np.random.randint()` mit nur zwei Argumenten aufgerufen, so gibt es\n",
    "  eine einzige Zahl zurück.\n",
    "- Die NumPy Bibliothek enthält eine Funtion\n",
    "  `np.random.binomial(n, p, size=None)`, mit der Sie binomialverteilte\n",
    "  Zufallszahlen erzeugen können."
   ]
  },
  {
   "cell_type": "code",
   "execution_count": null,
   "id": "1b82043d",
   "metadata": {
    "tags": [
     "solution"
    ]
   },
   "outputs": [],
   "source": []
  },
  {
   "cell_type": "code",
   "execution_count": null,
   "id": "30378803",
   "metadata": {
    "tags": [
     "solution"
    ]
   },
   "outputs": [],
   "source": []
  },
  {
   "cell_type": "code",
   "execution_count": null,
   "id": "c08e0768",
   "metadata": {
    "tags": [
     "solution"
    ]
   },
   "outputs": [],
   "source": []
  },
  {
   "cell_type": "code",
   "execution_count": null,
   "id": "63b83d08",
   "metadata": {
    "tags": [
     "solution"
    ]
   },
   "outputs": [],
   "source": []
  },
  {
   "cell_type": "code",
   "execution_count": null,
   "id": "97207c8c",
   "metadata": {
    "tags": [
     "solution"
    ]
   },
   "outputs": [],
   "source": []
  },
  {
   "cell_type": "code",
   "execution_count": null,
   "id": "3091d8d5",
   "metadata": {
    "tags": [
     "solution"
    ]
   },
   "outputs": [],
   "source": []
  },
  {
   "cell_type": "code",
   "execution_count": null,
   "id": "29952ded",
   "metadata": {
    "tags": [
     "solution"
    ]
   },
   "outputs": [],
   "source": []
  },
  {
   "cell_type": "code",
   "execution_count": null,
   "id": "51ac98df",
   "metadata": {
    "tags": [
     "solution"
    ]
   },
   "outputs": [],
   "source": []
  },
  {
   "cell_type": "code",
   "execution_count": null,
   "id": "d2ed4243",
   "metadata": {
    "tags": [
     "solution"
    ]
   },
   "outputs": [],
   "source": []
  },
  {
   "cell_type": "code",
   "execution_count": null,
   "id": "9db985f0",
   "metadata": {
    "tags": [
     "solution"
    ]
   },
   "outputs": [],
   "source": []
  },
  {
   "cell_type": "code",
   "execution_count": null,
   "id": "010fcb55",
   "metadata": {
    "tags": [
     "solution"
    ]
   },
   "outputs": [],
   "source": []
  },
  {
   "cell_type": "code",
   "execution_count": null,
   "id": "a89bb7b2",
   "metadata": {
    "tags": [
     "solution"
    ]
   },
   "outputs": [],
   "source": []
  },
  {
   "cell_type": "code",
   "execution_count": null,
   "id": "b7964d36",
   "metadata": {
    "tags": [
     "solution"
    ]
   },
   "outputs": [],
   "source": []
  },
  {
   "cell_type": "code",
   "execution_count": null,
   "id": "e8d106f2",
   "metadata": {
    "tags": [
     "solution"
    ]
   },
   "outputs": [],
   "source": []
  },
  {
   "cell_type": "code",
   "execution_count": null,
   "id": "96bbaa04",
   "metadata": {
    "tags": [
     "solution"
    ]
   },
   "outputs": [],
   "source": []
  },
  {
   "cell_type": "code",
   "execution_count": null,
   "id": "df91336b",
   "metadata": {},
   "outputs": [],
   "source": []
  }
 ],
 "metadata": {
  "jupytext": {
   "encoding": "# -*- coding: utf-8 -*-",
   "formats": "ipynb"
  },
  "kernelspec": {
   "display_name": "Python 3 (ipykernel)",
   "language": "python",
   "name": "python3"
  }
 },
 "nbformat": 4,
 "nbformat_minor": 5
}
