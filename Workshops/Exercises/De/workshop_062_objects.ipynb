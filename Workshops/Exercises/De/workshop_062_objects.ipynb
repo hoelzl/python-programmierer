{
 "cells": [
  {
   "cell_type": "markdown",
   "id": "b5757352",
   "metadata": {
    "lang": "de"
   },
   "source": [
    "\n",
    "# Kraftfahrzeuge (Teil 1)\n",
    "\n",
    "Definieren Sie eine Klasse `Kfz`, deren Instanzen Kraftfahrzeuge beschreiben.\n",
    "Jedes KFZ soll Attribute `hersteller` und `kennzeichen` haben."
   ]
  },
  {
   "cell_type": "code",
   "execution_count": null,
   "id": "78233d24",
   "metadata": {
    "tags": [
     "solution"
    ]
   },
   "outputs": [],
   "source": []
  },
  {
   "cell_type": "code",
   "execution_count": null,
   "id": "b7d2ad97",
   "metadata": {
    "tags": [
     "solution"
    ]
   },
   "outputs": [],
   "source": []
  },
  {
   "cell_type": "markdown",
   "id": "692f7325",
   "metadata": {
    "lang": "de"
   },
   "source": [
    "\n",
    "Erzeugen Sie zwei Kraftfahrzeuge:\n",
    "- einen BMW mit Kennzeichen \"M-BW 123\"\n",
    "- einen VW mit Kennzeichen \"WOB-VW 246\"\n",
    "und speichern Sie sie in Variablen `bmw` und `vw`"
   ]
  },
  {
   "cell_type": "code",
   "execution_count": null,
   "id": "e2ae0dd4",
   "metadata": {
    "tags": [
     "solution"
    ]
   },
   "outputs": [],
   "source": []
  },
  {
   "cell_type": "code",
   "execution_count": null,
   "id": "090d4636",
   "metadata": {
    "tags": [
     "solution"
    ]
   },
   "outputs": [],
   "source": []
  },
  {
   "cell_type": "markdown",
   "id": "24a0045e",
   "metadata": {
    "lang": "de"
   },
   "source": [
    "\n",
    "Erzeugen Sie eine neue Instanz von `Kfz` mit Hersteller BMW und Kennzeichen\n",
    "\"M-BW 123\" und speichern Sie sie in einer Variablen `bmw2`."
   ]
  },
  {
   "cell_type": "code",
   "execution_count": null,
   "id": "be9359b4",
   "metadata": {
    "tags": [
     "solution"
    ]
   },
   "outputs": [],
   "source": []
  },
  {
   "cell_type": "markdown",
   "id": "43df578c",
   "metadata": {
    "lang": "de"
   },
   "source": [
    "\n",
    "Wie können Sie feststellen, ob `bmw` und `bmw2` (bzw. `bmw` und `vw`) das\n",
    "gleiche Fahrzeug beschreiben?"
   ]
  },
  {
   "cell_type": "code",
   "execution_count": null,
   "id": "37386bca",
   "metadata": {
    "tags": [
     "solution"
    ]
   },
   "outputs": [],
   "source": []
  },
  {
   "cell_type": "code",
   "execution_count": null,
   "id": "644e2a2b",
   "metadata": {
    "tags": [
     "solution"
    ]
   },
   "outputs": [],
   "source": []
  },
  {
   "cell_type": "code",
   "execution_count": null,
   "id": "ab9e51b3",
   "metadata": {
    "tags": [
     "solution"
    ]
   },
   "outputs": [],
   "source": []
  },
  {
   "cell_type": "markdown",
   "id": "8e263758",
   "metadata": {
    "lang": "de"
   },
   "source": [
    "\n",
    "# Kraftfahrzeuge (Teil 2)\n",
    "\n",
    "Erweitern Sie die Klasse `Kfz` um eine Methode `melde_um(self,\n",
    "neues_kennzeichen)`, die das Kennzeichen des Fahrzeugs ändert."
   ]
  },
  {
   "cell_type": "code",
   "execution_count": null,
   "id": "fe9037c2",
   "metadata": {
    "tags": [
     "solution"
    ]
   },
   "outputs": [],
   "source": []
  },
  {
   "cell_type": "code",
   "execution_count": null,
   "id": "a42e6258",
   "metadata": {
    "tags": [
     "solution"
    ]
   },
   "outputs": [],
   "source": []
  },
  {
   "cell_type": "markdown",
   "id": "0f101e2e",
   "metadata": {
    "lang": "de"
   },
   "source": [
    "\n",
    "Erzeugen Sie neue Instanzen von `bmw`, `bmw2` und `vw` wie in der obigen\n",
    "Aufgabe:"
   ]
  },
  {
   "cell_type": "code",
   "execution_count": null,
   "id": "509ddf13",
   "metadata": {
    "tags": [
     "solution"
    ]
   },
   "outputs": [],
   "source": []
  },
  {
   "cell_type": "code",
   "execution_count": null,
   "id": "3d193a2c",
   "metadata": {
    "tags": [
     "solution"
    ]
   },
   "outputs": [],
   "source": []
  },
  {
   "cell_type": "markdown",
   "id": "70a839f2",
   "metadata": {
    "lang": "de"
   },
   "source": [
    "\n",
    "Melden Sie den obern erzeugten VW um, so dass er das neue Kennzeichen \"BGL-A\n",
    "9\" hat. Wie können Sie feststellen ob das Ummelden die gewünschte Änderung\n",
    "hatte?"
   ]
  },
  {
   "cell_type": "code",
   "execution_count": null,
   "id": "65c777ed",
   "metadata": {
    "tags": [
     "solution"
    ]
   },
   "outputs": [],
   "source": []
  },
  {
   "cell_type": "code",
   "execution_count": null,
   "id": "038b2261",
   "metadata": {
    "tags": [
     "solution"
    ]
   },
   "outputs": [],
   "source": []
  },
  {
   "cell_type": "code",
   "execution_count": null,
   "id": "cae1263c",
   "metadata": {
    "tags": [
     "solution"
    ]
   },
   "outputs": [],
   "source": []
  },
  {
   "cell_type": "code",
   "execution_count": null,
   "id": "7a669ccb",
   "metadata": {
    "tags": [
     "solution"
    ]
   },
   "outputs": [],
   "source": []
  },
  {
   "cell_type": "markdown",
   "id": "8724bbd7",
   "metadata": {
    "lang": "de"
   },
   "source": [
    "\n",
    "Melden Sie den in `bmw` gespeicherten BMW um (mit Kennzeichen \"F-B 21\"). Wirkt\n",
    "sich die Änderung auf das in `bmw2` gespeicherte KFZ aus?"
   ]
  },
  {
   "cell_type": "code",
   "execution_count": null,
   "id": "c2c1a9a3",
   "metadata": {
    "lines_to_next_cell": 2,
    "tags": [
     "solution"
    ]
   },
   "outputs": [],
   "source": []
  },
  {
   "cell_type": "markdown",
   "id": "7e23d6f3",
   "metadata": {
    "lang": "de",
    "lines_to_next_cell": 2
   },
   "source": [
    "\n",
    "# Kraftfahrzeuge (Teil 3)\n",
    "\n",
    "Verbessern Sie die Klasse `Kfz` indem Sie Methoden implementieren, die\n",
    "ein KFZ in einer geeigneten Form ausgeben.  Führen Sie die obigen Beispiele\n",
    "mit der verbesserten Klasse aus."
   ]
  },
  {
   "cell_type": "code",
   "execution_count": null,
   "id": "fc274b76",
   "metadata": {
    "tags": [
     "solution"
    ]
   },
   "outputs": [],
   "source": []
  },
  {
   "cell_type": "code",
   "execution_count": null,
   "id": "7deee675",
   "metadata": {
    "tags": [
     "solution"
    ]
   },
   "outputs": [],
   "source": []
  },
  {
   "cell_type": "code",
   "execution_count": null,
   "id": "72b3111b",
   "metadata": {
    "tags": [
     "solution"
    ]
   },
   "outputs": [],
   "source": []
  },
  {
   "cell_type": "code",
   "execution_count": null,
   "id": "1e9f3172",
   "metadata": {
    "tags": [
     "solution"
    ]
   },
   "outputs": [],
   "source": []
  },
  {
   "cell_type": "code",
   "execution_count": null,
   "id": "55f5f162",
   "metadata": {
    "tags": [
     "solution"
    ]
   },
   "outputs": [],
   "source": []
  },
  {
   "cell_type": "code",
   "execution_count": null,
   "id": "9a248b11",
   "metadata": {
    "tags": [
     "solution"
    ]
   },
   "outputs": [],
   "source": []
  },
  {
   "cell_type": "code",
   "execution_count": null,
   "id": "4a372134",
   "metadata": {
    "tags": [
     "solution"
    ]
   },
   "outputs": [],
   "source": []
  },
  {
   "cell_type": "code",
   "execution_count": null,
   "id": "4c22fab8",
   "metadata": {
    "tags": [
     "solution"
    ]
   },
   "outputs": [],
   "source": []
  },
  {
   "cell_type": "markdown",
   "id": "b8d4af40",
   "metadata": {
    "lang": "de"
   },
   "source": [
    "# Einkaufsliste\n",
    "\n",
    "In dieser Aufgabe wollen wir eine  Einkaufsliste definieren, die geplante\n",
    "Einkäufe verwalten kann. Eine Einkaufsliste soll aus Einträgen bestehen, die\n",
    "ein Produkt und die davon benötigte Menge enthalten.\n",
    "\n",
    "Es sollen sowohl die Einkaufsliste selber als auch die Einträge durch\n",
    "benutzerdefinierte Datentypen repräsentiert werden.\n",
    "\n",
    "Definieren Sie zunächst eine Klasse `ShoppingListItem`, die Attribute `product` und\n",
    "`amount` hat. Verwenden Sie dazu den `@dataclass` Decorator"
   ]
  },
  {
   "cell_type": "code",
   "execution_count": null,
   "id": "77eb47bd",
   "metadata": {
    "tags": [
     "solution"
    ]
   },
   "outputs": [],
   "source": []
  },
  {
   "cell_type": "markdown",
   "id": "aa41f4ae",
   "metadata": {
    "lang": "de"
   },
   "source": [
    "Erzeugen sie ein `ShoppingListItem`, das 500g Kaffee repräsentiert:"
   ]
  },
  {
   "cell_type": "code",
   "execution_count": null,
   "id": "620119b8",
   "metadata": {
    "tags": [
     "solution"
    ]
   },
   "outputs": [],
   "source": []
  },
  {
   "cell_type": "markdown",
   "id": "6a1bf96f",
   "metadata": {
    "lang": "de"
   },
   "source": [
    "\n",
    "Definieren Sie eine Klasse `ShoppingList`, die eine Liste von `ShoppingListItem`-Instanzen\n",
    "beinhaltet:\n",
    "\n",
    "- Verwenden Sie den `@dataclass` Decorator\n",
    "- Die Klasse hat ein Attribut `items` vom Typ `list` (oder `list[ShoppingListItem]`, falls\n",
    "  Sie Python 3.9 oder neuer verwenden), das mit einer leeren Liste\n",
    "  Initialisiert wird.\n",
    "- Die Methode `add_item(self, item: ShoppingListItem)` fügt ein `ShoppingListItem` zur Einkaufsliste\n",
    "  hinzu.\n",
    "\n",
    "Implementieren Sie eine\n",
    "[`__str__()`-Methode](https://docs.python.org/3/reference/datamodel.html#object.__str__),\n",
    "so dass das folgende Programm:\n",
    "\n",
    "```python\n",
    "meine_einkaufsliste = ShoppingList([ShoppingListItem('Tee', '2 Pakete'),\n",
    "                                    ShoppingListItem('Kaffee', '1 Paket')])\n",
    "print(str(meine_einkaufsliste))\n",
    "print(repr(meine_einkaufsliste))\n",
    "```\n",
    "\n",
    "Folgende Ausgabe erzeugt:\n",
    "\n",
    "```\n",
    "Einkaufsliste\n",
    "  Tee, (2 Pakete)\n",
    "  Kaffee, (1 Paket)\n",
    "\n",
    "ShoppingList(items=[ShoppingListItem(product='Tee', amount='2 Pakete'), ShoppingListItem(product='Kaffee', amount='1 Paket')])\n",
    "```\n",
    "\n",
    "Implementieren Sie eine Methode für `__len__()`, die die Länge der\n",
    "Einkaufsliste zurückgibt, und für `__getitem__()`, die den Zugriff auf\n",
    "Einträge über ihren numerischen Index erlaubt."
   ]
  },
  {
   "cell_type": "code",
   "execution_count": null,
   "id": "28d33cb7",
   "metadata": {
    "tags": [
     "solution"
    ]
   },
   "outputs": [],
   "source": []
  },
  {
   "cell_type": "markdown",
   "id": "98922b96",
   "metadata": {
    "lang": "de"
   },
   "source": [
    "\n",
    "Definieren Sie Variable `meine_einkaufsliste`, die eine Einkaufsliste mit\n",
    "folgenden ShoppingListItems repräsentiert:\n",
    "\n",
    "- 2 Pakete Tee,\n",
    "- 1 Paket Kaffee\n",
    "\n",
    "Überprüfen Sie, dass sich `str()` und `repr()` wie oben beschrieben verhalten."
   ]
  },
  {
   "cell_type": "code",
   "execution_count": null,
   "id": "339c70e6",
   "metadata": {
    "tags": [
     "solution"
    ]
   },
   "outputs": [],
   "source": []
  },
  {
   "cell_type": "markdown",
   "id": "f093dbb0",
   "metadata": {
    "lang": "de"
   },
   "source": [
    "Drucken Sie `meine_einkaufsliste` aus. Entspricht die Ausgabe Ihren Erwartungen?"
   ]
  },
  {
   "cell_type": "code",
   "execution_count": null,
   "id": "bc99e8f8",
   "metadata": {
    "tags": [
     "solution"
    ]
   },
   "outputs": [],
   "source": []
  },
  {
   "cell_type": "markdown",
   "id": "422be4e5",
   "metadata": {
    "lang": "de"
   },
   "source": [
    "\n",
    "Stellen Sie fest, wie lange `meine_einkaufsliste` ist und was ihr erstes und zweites Element sind:"
   ]
  },
  {
   "cell_type": "code",
   "execution_count": null,
   "id": "df4e6105",
   "metadata": {
    "tags": [
     "solution"
    ]
   },
   "outputs": [],
   "source": []
  },
  {
   "cell_type": "markdown",
   "id": "d5b4a793",
   "metadata": {
    "lang": "de"
   },
   "source": [
    "\n",
    "Was ist der Effekt des follgenden Ausdrucks?\n",
    "```python\n",
    "  for item in meine_einkaufsliste:\n",
    "      print(item)\n",
    "```"
   ]
  },
  {
   "cell_type": "code",
   "execution_count": null,
   "id": "b0bbdc89",
   "metadata": {
    "tags": [
     "solution"
    ]
   },
   "outputs": [],
   "source": []
  },
  {
   "cell_type": "markdown",
   "id": "a45f2115",
   "metadata": {
    "lang": "de"
   },
   "source": [
    "Erweitern Sie die Definition der Klasse `ShoppingList`, so dass der Indexing Operator `[]` auch mit einem String aufgerufen werden kann, und das Shopping List Item mit dem entsprechenden `product` Attribut zurückgibt, falls es existiert, oder `None` falls kein solches Item existiert.\n",
    "\n",
    "Verifizieren Sie, dass ihre neue Implementierung des Indexing Operators für Integer und String Argumente funktioniert.\n",
    "\n",
    "*Hinweis:* Sie können die `isinstance()` Funktion verwenden um zu überprüfen, ob ein Objekt ein String ist:"
   ]
  },
  {
   "cell_type": "code",
   "execution_count": null,
   "id": "c73547e6",
   "metadata": {
    "tags": [
     "solution"
    ]
   },
   "outputs": [],
   "source": []
  },
  {
   "cell_type": "code",
   "execution_count": null,
   "id": "f51c10ae",
   "metadata": {
    "tags": [
     "solution"
    ]
   },
   "outputs": [],
   "source": []
  },
  {
   "cell_type": "code",
   "execution_count": null,
   "id": "e897e075",
   "metadata": {
    "tags": [
     "solution"
    ]
   },
   "outputs": [],
   "source": []
  },
  {
   "cell_type": "markdown",
   "id": "0cb2b783",
   "metadata": {
    "lang": "de"
   },
   "source": [
    "\n",
    "Fügen Sie  250g Butter und  1 Laib Brot zur Einkaufsliste\n",
    "`meine_einkaufsliste` hinzu."
   ]
  },
  {
   "cell_type": "code",
   "execution_count": null,
   "id": "ccc3539a",
   "metadata": {
    "tags": [
     "solution"
    ]
   },
   "outputs": [],
   "source": []
  },
  {
   "cell_type": "markdown",
   "id": "d0dca6db",
   "metadata": {
    "lang": "de"
   },
   "source": [
    "Drucken Sie die Einkaufsliste nochmal aus."
   ]
  },
  {
   "cell_type": "code",
   "execution_count": null,
   "id": "9c7f9cb0",
   "metadata": {
    "tags": [
     "solution"
    ]
   },
   "outputs": [],
   "source": []
  },
  {
   "cell_type": "markdown",
   "id": "92b20051",
   "metadata": {
    "lang": "de"
   },
   "source": [
    "\n",
    "Was passiert, wenn Sie `Butter` und `Brot` nochmals zur Einkaufsliste\n",
    "`meine_einkaufsliste` hinzufügen?"
   ]
  },
  {
   "cell_type": "code",
   "execution_count": null,
   "id": "29c4664b",
   "metadata": {
    "tags": [
     "solution"
    ]
   },
   "outputs": [],
   "source": []
  },
  {
   "cell_type": "markdown",
   "id": "fe798c40",
   "metadata": {
    "lang": "de"
   },
   "source": [
    "*Diskussion:* Wie könnte das Verhalten der Klasse verbessert werden?"
   ]
  }
 ],
 "metadata": {
  "jupytext": {
   "encoding": "# -*- coding: utf-8 -*-",
   "formats": "ipynb"
  },
  "kernelspec": {
   "display_name": "Python 3 (ipykernel)",
   "language": "python",
   "name": "python3"
  }
 },
 "nbformat": 4,
 "nbformat_minor": 5
}
