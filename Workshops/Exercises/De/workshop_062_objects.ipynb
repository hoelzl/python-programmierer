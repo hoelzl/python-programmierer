{
 "cells": [
  {
   "cell_type": "markdown",
   "id": "0610bade",
   "metadata": {
    "lang": "de"
   },
   "source": [
    "\n",
    "# Kraftfahrzeuge (Teil 1)\n",
    "\n",
    "Definieren Sie eine Klasse `Kfz`, deren Instanzen Kraftfahrzeuge beschreiben.\n",
    "Jedes KFZ soll Attribute `hersteller` und `kennzeichen` haben."
   ]
  },
  {
   "cell_type": "code",
   "execution_count": null,
   "id": "b7400437",
   "metadata": {
    "tags": [
     "solution"
    ]
   },
   "outputs": [],
   "source": []
  },
  {
   "cell_type": "code",
   "execution_count": null,
   "id": "ef92c7b4",
   "metadata": {
    "tags": [
     "solution"
    ]
   },
   "outputs": [],
   "source": []
  },
  {
   "cell_type": "markdown",
   "id": "6a65d073",
   "metadata": {
    "lang": "de"
   },
   "source": [
    "\n",
    "Erzeugen Sie zwei Kraftfahrzeuge:\n",
    "- einen BMW mit Kennzeichen \"M-BW 123\"\n",
    "- einen VW mit Kennzeichen \"WOB-VW 246\"\n",
    "und speichern Sie sie in Variablen `bmw` und `vw`"
   ]
  },
  {
   "cell_type": "code",
   "execution_count": null,
   "id": "59c65fab",
   "metadata": {
    "tags": [
     "solution"
    ]
   },
   "outputs": [],
   "source": []
  },
  {
   "cell_type": "code",
   "execution_count": null,
   "id": "c2e7cfee",
   "metadata": {
    "tags": [
     "solution"
    ]
   },
   "outputs": [],
   "source": []
  },
  {
   "cell_type": "markdown",
   "id": "484cccab",
   "metadata": {
    "lang": "de"
   },
   "source": [
    "\n",
    "Erzeugen Sie eine neue Instanz von `Kfz` mit Hersteller BMW und Kennzeichen\n",
    "\"M-BW 123\" und speichern Sie sie in einer Variablen `bmw2`."
   ]
  },
  {
   "cell_type": "code",
   "execution_count": null,
   "id": "986b2171",
   "metadata": {
    "tags": [
     "solution"
    ]
   },
   "outputs": [],
   "source": []
  },
  {
   "cell_type": "markdown",
   "id": "bd8dffc6",
   "metadata": {
    "lang": "de"
   },
   "source": [
    "\n",
    "Wie können Sie feststellen, ob `bmw` und `bmw2` (bzw. `bmw` und `vw`) das\n",
    "gleiche Fahrzeug beschreiben?"
   ]
  },
  {
   "cell_type": "code",
   "execution_count": null,
   "id": "41b56363",
   "metadata": {
    "tags": [
     "solution"
    ]
   },
   "outputs": [],
   "source": []
  },
  {
   "cell_type": "code",
   "execution_count": null,
   "id": "dc2a5d08",
   "metadata": {
    "tags": [
     "solution"
    ]
   },
   "outputs": [],
   "source": []
  },
  {
   "cell_type": "code",
   "execution_count": null,
   "id": "8c793c0a",
   "metadata": {
    "tags": [
     "solution"
    ]
   },
   "outputs": [],
   "source": []
  },
  {
   "cell_type": "markdown",
   "id": "47452901",
   "metadata": {
    "lang": "de"
   },
   "source": [
    "\n",
    "# Kraftfahrzeuge (Teil 2)\n",
    "\n",
    "Erweitern Sie die Klasse `Kfz` um eine Methode `melde_um(self,\n",
    "neues_kennzeichen)`, die das Kennzeichen des Fahrzeugs ändert."
   ]
  },
  {
   "cell_type": "code",
   "execution_count": null,
   "id": "7ef1dc2b",
   "metadata": {
    "tags": [
     "solution"
    ]
   },
   "outputs": [],
   "source": []
  },
  {
   "cell_type": "code",
   "execution_count": null,
   "id": "74c28c53",
   "metadata": {
    "tags": [
     "solution"
    ]
   },
   "outputs": [],
   "source": []
  },
  {
   "cell_type": "markdown",
   "id": "7b768483",
   "metadata": {
    "lang": "de"
   },
   "source": [
    "\n",
    "Erzeugen Sie neue Instanzen von `bmw`, `bmw2` und `vw` wie in der obigen\n",
    "Aufgabe:"
   ]
  },
  {
   "cell_type": "code",
   "execution_count": null,
   "id": "01a9bab8",
   "metadata": {
    "tags": [
     "solution"
    ]
   },
   "outputs": [],
   "source": []
  },
  {
   "cell_type": "code",
   "execution_count": null,
   "id": "fa4d191a",
   "metadata": {
    "tags": [
     "solution"
    ]
   },
   "outputs": [],
   "source": []
  },
  {
   "cell_type": "markdown",
   "id": "ea1e2566",
   "metadata": {
    "lang": "de"
   },
   "source": [
    "\n",
    "Melden Sie den obern erzeugten VW um, so dass er das neue Kennzeichen \"BGL-A\n",
    "9\" hat. Wie können Sie feststellen ob das Ummelden die gewünschte Änderung\n",
    "hatte?"
   ]
  },
  {
   "cell_type": "code",
   "execution_count": null,
   "id": "239ccbe8",
   "metadata": {
    "tags": [
     "solution"
    ]
   },
   "outputs": [],
   "source": []
  },
  {
   "cell_type": "code",
   "execution_count": null,
   "id": "4a68978d",
   "metadata": {
    "tags": [
     "solution"
    ]
   },
   "outputs": [],
   "source": []
  },
  {
   "cell_type": "code",
   "execution_count": null,
   "id": "4a524431",
   "metadata": {
    "tags": [
     "solution"
    ]
   },
   "outputs": [],
   "source": []
  },
  {
   "cell_type": "code",
   "execution_count": null,
   "id": "5a549f8f",
   "metadata": {
    "tags": [
     "solution"
    ]
   },
   "outputs": [],
   "source": []
  },
  {
   "cell_type": "markdown",
   "id": "6dc6856f",
   "metadata": {
    "lang": "de"
   },
   "source": [
    "\n",
    "Melden Sie den in `bmw` gespeicherten BMW um (mit Kennzeichen \"F-B 21\"). Wirkt\n",
    "sich die Änderung auf das in `bmw2` gespeicherte KFZ aus?"
   ]
  },
  {
   "cell_type": "code",
   "execution_count": null,
   "id": "4fb969f7",
   "metadata": {
    "lines_to_next_cell": 2,
    "tags": [
     "solution"
    ]
   },
   "outputs": [],
   "source": []
  },
  {
   "cell_type": "markdown",
   "id": "530a9823",
   "metadata": {
    "lang": "de",
    "lines_to_next_cell": 2
   },
   "source": [
    "\n",
    "# Kraftfahrzeuge (Teil 3)\n",
    "\n",
    "Verbessern Sie die Klasse `Kfz` indem Sie Methoden implementieren, die\n",
    "ein KFZ in einer geeigneten Form ausgeben.  Führen Sie die obigen Beispiele\n",
    "mit der verbesserten Klasse aus."
   ]
  },
  {
   "cell_type": "code",
   "execution_count": null,
   "id": "83577fe0",
   "metadata": {
    "tags": [
     "solution"
    ]
   },
   "outputs": [],
   "source": []
  },
  {
   "cell_type": "code",
   "execution_count": null,
   "id": "8491bf78",
   "metadata": {
    "tags": [
     "solution"
    ]
   },
   "outputs": [],
   "source": []
  },
  {
   "cell_type": "code",
   "execution_count": null,
   "id": "ac5a8c15",
   "metadata": {
    "tags": [
     "solution"
    ]
   },
   "outputs": [],
   "source": []
  },
  {
   "cell_type": "code",
   "execution_count": null,
   "id": "57440ac2",
   "metadata": {
    "tags": [
     "solution"
    ]
   },
   "outputs": [],
   "source": []
  },
  {
   "cell_type": "code",
   "execution_count": null,
   "id": "df6287ec",
   "metadata": {
    "tags": [
     "solution"
    ]
   },
   "outputs": [],
   "source": []
  },
  {
   "cell_type": "code",
   "execution_count": null,
   "id": "8068818c",
   "metadata": {
    "tags": [
     "solution"
    ]
   },
   "outputs": [],
   "source": []
  },
  {
   "cell_type": "code",
   "execution_count": null,
   "id": "b402a9ba",
   "metadata": {
    "tags": [
     "solution"
    ]
   },
   "outputs": [],
   "source": []
  },
  {
   "cell_type": "code",
   "execution_count": null,
   "id": "e9984c8c",
   "metadata": {
    "tags": [
     "solution"
    ]
   },
   "outputs": [],
   "source": []
  },
  {
   "cell_type": "markdown",
   "id": "8f6f48bc",
   "metadata": {
    "lang": "de"
   },
   "source": [
    "# Einkaufsliste\n",
    "\n",
    "In dieser Aufgabe wollen wir eine  Einkaufsliste definieren, die geplante\n",
    "Einkäufe verwalten kann. Eine Einkaufsliste soll aus Einträgen bestehen, die\n",
    "ein Produkt und die davon benötigte Menge enthalten.\n",
    "\n",
    "Es sollen sowohl die Einkaufsliste selber als auch die Einträge durch\n",
    "benutzerdefinierte Datentypen repräsentiert werden.\n",
    "\n",
    "Definieren Sie zunächst eine Klasse `ShoppingListItem`, die Attribute `product` und\n",
    "`amount` hat. Verwenden Sie dazu den `@dataclass` Decorator"
   ]
  },
  {
   "cell_type": "code",
   "execution_count": null,
   "id": "b12b4f8e",
   "metadata": {
    "tags": [
     "solution"
    ]
   },
   "outputs": [],
   "source": []
  },
  {
   "cell_type": "markdown",
   "id": "409d4a31",
   "metadata": {
    "lang": "de"
   },
   "source": [
    "Erzeugen sie ein `ShoppingListItem`, das 500g Kaffee repräsentiert:"
   ]
  },
  {
   "cell_type": "code",
   "execution_count": null,
   "id": "9a8464cd",
   "metadata": {
    "tags": [
     "solution"
    ]
   },
   "outputs": [],
   "source": []
  },
  {
   "cell_type": "markdown",
   "id": "279e6bf0",
   "metadata": {
    "lang": "de"
   },
   "source": [
    "\n",
    "Definieren Sie eine Klasse `ShoppingList`, die eine Liste von `ShoppingListItem`-Instanzen\n",
    "beinhaltet:\n",
    "\n",
    "- Verwenden Sie den `@dataclass` Decorator\n",
    "- Die Klasse hat ein Attribut `items` vom Typ `list` (oder `list[ShoppingListItem]`, falls\n",
    "  Sie Python 3.9 oder neuer verwenden), das mit einer leeren Liste\n",
    "  Initialisiert wird.\n",
    "- Die Methode `add_item(self, item: ShoppingListItem)` fügt ein `ShoppingListItem` zur Einkaufsliste\n",
    "  hinzu.\n",
    "\n",
    "Implementieren Sie eine\n",
    "[`__str__()`-Methode](https://docs.python.org/3/reference/datamodel.html#object.__str__),\n",
    "so dass das folgende Programm:\n",
    "\n",
    "```python\n",
    "meine_einkaufsliste = ShoppingList([ShoppingListItem('Tee', '2 Pakete'),\n",
    "                                    ShoppingListItem('Kaffee', '1 Paket')])\n",
    "print(str(meine_einkaufsliste))\n",
    "print(repr(meine_einkaufsliste))\n",
    "```\n",
    "\n",
    "Folgende Ausgabe erzeugt:\n",
    "\n",
    "```\n",
    "Einkaufsliste\n",
    "  Tee, (2 Pakete)\n",
    "  Kaffee, (1 Paket)\n",
    "\n",
    "ShoppingList(items=[ShoppingListItem(product='Tee', amount='2 Pakete'), ShoppingListItem(product='Kaffee', amount='1 Paket')])\n",
    "```\n",
    "\n",
    "Implementieren Sie eine Methode für `__len__()`, die die Länge der\n",
    "Einkaufsliste zurückgibt, und für `__getitem__()`, die den Zugriff auf\n",
    "Einträge über ihren numerischen Index erlaubt."
   ]
  },
  {
   "cell_type": "code",
   "execution_count": null,
   "id": "dee947fd",
   "metadata": {
    "tags": [
     "solution"
    ]
   },
   "outputs": [],
   "source": []
  },
  {
   "cell_type": "markdown",
   "id": "a0b5d9bf",
   "metadata": {
    "lang": "de"
   },
   "source": [
    "\n",
    "Definieren Sie Variable `meine_einkaufsliste`, die eine Einkaufsliste mit\n",
    "folgenden ShoppingListItems repräsentiert:\n",
    "\n",
    "- 2 Pakete Tee,\n",
    "- 1 Paket Kaffee\n",
    "\n",
    "Überprüfen Sie, dass sich `str()` und `repr()` wie oben beschrieben verhalten."
   ]
  },
  {
   "cell_type": "code",
   "execution_count": null,
   "id": "bc198bf1",
   "metadata": {
    "tags": [
     "solution"
    ]
   },
   "outputs": [],
   "source": []
  },
  {
   "cell_type": "markdown",
   "id": "04960d66",
   "metadata": {
    "lang": "de"
   },
   "source": [
    "Drucken Sie `meine_einkaufsliste` aus. Entspricht die Ausgabe Ihren Erwartungen?"
   ]
  },
  {
   "cell_type": "code",
   "execution_count": null,
   "id": "edfd54b8",
   "metadata": {
    "tags": [
     "solution"
    ]
   },
   "outputs": [],
   "source": []
  },
  {
   "cell_type": "markdown",
   "id": "58909d2d",
   "metadata": {
    "lang": "de"
   },
   "source": [
    "\n",
    "Stellen Sie fest, wie lange `meine_einkaufsliste` ist und was ihr erstes und zweites Element sind:"
   ]
  },
  {
   "cell_type": "code",
   "execution_count": null,
   "id": "c0ad7a3c",
   "metadata": {
    "tags": [
     "solution"
    ]
   },
   "outputs": [],
   "source": []
  },
  {
   "cell_type": "markdown",
   "id": "9e1d869d",
   "metadata": {
    "lang": "de"
   },
   "source": [
    "\n",
    "Was ist der Effekt des follgenden Ausdrucks?\n",
    "```python\n",
    "  for item in meine_einkaufsliste:\n",
    "      print(item)\n",
    "```"
   ]
  },
  {
   "cell_type": "code",
   "execution_count": null,
   "id": "9c5206cd",
   "metadata": {
    "tags": [
     "solution"
    ]
   },
   "outputs": [],
   "source": []
  },
  {
   "cell_type": "markdown",
   "id": "71fc9628",
   "metadata": {
    "lang": "de"
   },
   "source": [
    "Erweitern Sie die Definition der Klasse `ShoppingList`, so dass der Indexing Operator `[]` auch mit einem String aufgerufen werden kann, und das Shopping List Item mit dem entsprechenden `product` Attribut zurückgibt, falls es existiert, oder `None` falls kein solches Item existiert.\n",
    "\n",
    "Verifizieren Sie, dass ihre neue Implementierung des Indexing Operators für Integer und String Argumente funktioniert.\n",
    "\n",
    "*Hinweis:* Sie können die `isinstance()` Funktion verwenden um zu überprüfen, ob ein Objekt ein String ist:"
   ]
  },
  {
   "cell_type": "code",
   "execution_count": null,
   "id": "7281847f",
   "metadata": {
    "tags": [
     "solution"
    ]
   },
   "outputs": [],
   "source": []
  },
  {
   "cell_type": "code",
   "execution_count": null,
   "id": "80b5cb26",
   "metadata": {
    "tags": [
     "solution"
    ]
   },
   "outputs": [],
   "source": []
  },
  {
   "cell_type": "code",
   "execution_count": null,
   "id": "83b68a7a",
   "metadata": {
    "tags": [
     "solution"
    ]
   },
   "outputs": [],
   "source": []
  },
  {
   "cell_type": "markdown",
   "id": "1d7df0b7",
   "metadata": {
    "lang": "de"
   },
   "source": [
    "\n",
    "Fügen Sie  250g Butter und  1 Laib Brot zur Einkaufsliste\n",
    "`meine_einkaufsliste` hinzu."
   ]
  },
  {
   "cell_type": "code",
   "execution_count": null,
   "id": "c68b33af",
   "metadata": {
    "tags": [
     "solution"
    ]
   },
   "outputs": [],
   "source": []
  },
  {
   "cell_type": "markdown",
   "id": "da076d55",
   "metadata": {
    "lang": "de"
   },
   "source": [
    "Drucken Sie die Einkaufsliste nochmal aus."
   ]
  },
  {
   "cell_type": "code",
   "execution_count": null,
   "id": "990a3675",
   "metadata": {
    "tags": [
     "solution"
    ]
   },
   "outputs": [],
   "source": []
  },
  {
   "cell_type": "markdown",
   "id": "5aa31a9d",
   "metadata": {
    "lang": "de"
   },
   "source": [
    "\n",
    "Was passiert, wenn Sie `Butter` und `Brot` nochmals zur Einkaufsliste\n",
    "`meine_einkaufsliste` hinzufügen?"
   ]
  },
  {
   "cell_type": "code",
   "execution_count": null,
   "id": "ff304819",
   "metadata": {
    "tags": [
     "solution"
    ]
   },
   "outputs": [],
   "source": []
  },
  {
   "cell_type": "markdown",
   "id": "bb22045e",
   "metadata": {
    "lang": "de"
   },
   "source": [
    "*Diskussion:* Wie könnte das Verhalten der Klasse verbessert werden?"
   ]
  }
 ],
 "metadata": {
  "jupytext": {
   "encoding": "# -*- coding: utf-8 -*-",
   "formats": "ipynb"
  },
  "kernelspec": {
   "display_name": "Python 3 (ipykernel)",
   "language": "python",
   "name": "python3"
  }
 },
 "nbformat": 4,
 "nbformat_minor": 5
}
