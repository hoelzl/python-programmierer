{
 "cells": [
  {
   "cell_type": "markdown",
   "id": "79f1898d",
   "metadata": {
    "lang": "de"
   },
   "source": [
    "\n",
    "# Kraftfahrzeuge (Teil 1)\n",
    "\n",
    "Definieren Sie eine Klasse `Kfz`, deren Instanzen Kraftfahrzeuge beschreiben.\n",
    "Jedes KFZ soll Attribute `hersteller` und `kennzeichen` haben."
   ]
  },
  {
   "cell_type": "code",
   "execution_count": null,
   "id": "4d9ff217",
   "metadata": {
    "tags": [
     "solution"
    ]
   },
   "outputs": [],
   "source": []
  },
  {
   "cell_type": "code",
   "execution_count": null,
   "id": "57937e40",
   "metadata": {
    "tags": [
     "solution"
    ]
   },
   "outputs": [],
   "source": []
  },
  {
   "cell_type": "markdown",
   "id": "9c77e3ca",
   "metadata": {
    "lang": "de"
   },
   "source": [
    "\n",
    "Erzeugen Sie zwei Kraftfahrzeuge:\n",
    "- einen BMW mit Kennzeichen \"M-BW 123\"\n",
    "- einen VW mit Kennzeichen \"WOB-VW 246\"\n",
    "und speichern Sie sie in Variablen `bmw` und `vw`"
   ]
  },
  {
   "cell_type": "code",
   "execution_count": null,
   "id": "564deac5",
   "metadata": {
    "tags": [
     "solution"
    ]
   },
   "outputs": [],
   "source": []
  },
  {
   "cell_type": "code",
   "execution_count": null,
   "id": "19e18bf8",
   "metadata": {
    "tags": [
     "solution"
    ]
   },
   "outputs": [],
   "source": []
  },
  {
   "cell_type": "markdown",
   "id": "10e416e5",
   "metadata": {
    "lang": "de"
   },
   "source": [
    "\n",
    "Erzeugen Sie eine neue Instanz von `Kfz` mit Hersteller BMW und Kennzeichen\n",
    "\"M-BW 123\" und speichern Sie sie in einer Variablen `bmw2`."
   ]
  },
  {
   "cell_type": "code",
   "execution_count": null,
   "id": "cae83675",
   "metadata": {
    "tags": [
     "solution"
    ]
   },
   "outputs": [],
   "source": []
  },
  {
   "cell_type": "markdown",
   "id": "0e9401bc",
   "metadata": {
    "lang": "de"
   },
   "source": [
    "\n",
    "Wie können Sie feststellen, ob `bmw` und `bmw2` (bzw. `bmw` und `vw`) das\n",
    "gleiche Fahrzeug beschreiben?"
   ]
  },
  {
   "cell_type": "code",
   "execution_count": null,
   "id": "5b0bf5b0",
   "metadata": {
    "tags": [
     "solution"
    ]
   },
   "outputs": [],
   "source": []
  },
  {
   "cell_type": "code",
   "execution_count": null,
   "id": "0f35fbad",
   "metadata": {
    "tags": [
     "solution"
    ]
   },
   "outputs": [],
   "source": []
  },
  {
   "cell_type": "code",
   "execution_count": null,
   "id": "80a4ca74",
   "metadata": {
    "tags": [
     "solution"
    ]
   },
   "outputs": [],
   "source": []
  },
  {
   "cell_type": "markdown",
   "id": "ae7c48a0",
   "metadata": {
    "lang": "de"
   },
   "source": [
    "\n",
    "# Kraftfahrzeuge (Teil 2)\n",
    "\n",
    "Erweitern Sie die Klasse `Kfz` um eine Methode `melde_um(self,\n",
    "neues_kennzeichen)`, die das Kennzeichen des Fahrzeugs ändert."
   ]
  },
  {
   "cell_type": "code",
   "execution_count": null,
   "id": "3345f2d9",
   "metadata": {
    "tags": [
     "solution"
    ]
   },
   "outputs": [],
   "source": []
  },
  {
   "cell_type": "code",
   "execution_count": null,
   "id": "da80b286",
   "metadata": {
    "tags": [
     "solution"
    ]
   },
   "outputs": [],
   "source": []
  },
  {
   "cell_type": "markdown",
   "id": "b1dcd2c8",
   "metadata": {
    "lang": "de"
   },
   "source": [
    "\n",
    "Erzeugen Sie neue Instanzen von `bmw`, `bmw2` und `vw` wie in der obigen\n",
    "Aufgabe:"
   ]
  },
  {
   "cell_type": "code",
   "execution_count": null,
   "id": "fe5594e2",
   "metadata": {
    "tags": [
     "solution"
    ]
   },
   "outputs": [],
   "source": []
  },
  {
   "cell_type": "code",
   "execution_count": null,
   "id": "e7784ac4",
   "metadata": {
    "tags": [
     "solution"
    ]
   },
   "outputs": [],
   "source": []
  },
  {
   "cell_type": "markdown",
   "id": "e77c9236",
   "metadata": {
    "lang": "de"
   },
   "source": [
    "\n",
    "Melden Sie den obern erzeugten VW um, so dass er das neue Kennzeichen \"BGL-A\n",
    "9\" hat. Wie können Sie feststellen ob das Ummelden die gewünschte Änderung\n",
    "hatte?"
   ]
  },
  {
   "cell_type": "code",
   "execution_count": null,
   "id": "2891ae58",
   "metadata": {
    "tags": [
     "solution"
    ]
   },
   "outputs": [],
   "source": []
  },
  {
   "cell_type": "code",
   "execution_count": null,
   "id": "7e7f15a9",
   "metadata": {
    "tags": [
     "solution"
    ]
   },
   "outputs": [],
   "source": []
  },
  {
   "cell_type": "code",
   "execution_count": null,
   "id": "19ec968b",
   "metadata": {
    "tags": [
     "solution"
    ]
   },
   "outputs": [],
   "source": []
  },
  {
   "cell_type": "code",
   "execution_count": null,
   "id": "c18b49eb",
   "metadata": {
    "tags": [
     "solution"
    ]
   },
   "outputs": [],
   "source": []
  },
  {
   "cell_type": "markdown",
   "id": "dcfa7584",
   "metadata": {
    "lang": "de"
   },
   "source": [
    "\n",
    "Melden Sie den in `bmw` gespeicherten BMW um (mit Kennzeichen \"F-B 21\"). Wirkt\n",
    "sich die Änderung auf das in `bmw2` gespeicherte KFZ aus?"
   ]
  },
  {
   "cell_type": "code",
   "execution_count": null,
   "id": "31f230dc",
   "metadata": {
    "lines_to_next_cell": 2,
    "tags": [
     "solution"
    ]
   },
   "outputs": [],
   "source": []
  },
  {
   "cell_type": "markdown",
   "id": "c72905ee",
   "metadata": {
    "lang": "de",
    "lines_to_next_cell": 2
   },
   "source": [
    "\n",
    "# Kraftfahrzeuge (Teil 3)\n",
    "\n",
    "Verbessern Sie die Klasse `Kfz` indem Sie Methoden implementieren, die\n",
    "ein KFZ in einer geeigneten Form ausgeben.  Führen Sie die obigen Beispiele\n",
    "mit der verbesserten Klasse aus."
   ]
  },
  {
   "cell_type": "code",
   "execution_count": null,
   "id": "d761aeed",
   "metadata": {
    "tags": [
     "solution"
    ]
   },
   "outputs": [],
   "source": []
  },
  {
   "cell_type": "code",
   "execution_count": null,
   "id": "8bb02b98",
   "metadata": {
    "tags": [
     "solution"
    ]
   },
   "outputs": [],
   "source": []
  },
  {
   "cell_type": "code",
   "execution_count": null,
   "id": "2aac860b",
   "metadata": {
    "tags": [
     "solution"
    ]
   },
   "outputs": [],
   "source": []
  },
  {
   "cell_type": "code",
   "execution_count": null,
   "id": "d1e256fd",
   "metadata": {
    "tags": [
     "solution"
    ]
   },
   "outputs": [],
   "source": []
  },
  {
   "cell_type": "code",
   "execution_count": null,
   "id": "12ba4441",
   "metadata": {
    "tags": [
     "solution"
    ]
   },
   "outputs": [],
   "source": []
  },
  {
   "cell_type": "code",
   "execution_count": null,
   "id": "feb1b3b9",
   "metadata": {
    "tags": [
     "solution"
    ]
   },
   "outputs": [],
   "source": []
  },
  {
   "cell_type": "code",
   "execution_count": null,
   "id": "2988edad",
   "metadata": {
    "tags": [
     "solution"
    ]
   },
   "outputs": [],
   "source": []
  },
  {
   "cell_type": "code",
   "execution_count": null,
   "id": "6aec82ba",
   "metadata": {
    "tags": [
     "solution"
    ]
   },
   "outputs": [],
   "source": []
  },
  {
   "cell_type": "markdown",
   "id": "e3b5c826",
   "metadata": {
    "lang": "de"
   },
   "source": [
    "# Einkaufsliste\n",
    "\n",
    "In dieser Aufgabe wollen wir eine  Einkaufsliste definieren, die geplante\n",
    "Einkäufe verwalten kann. Eine Einkaufsliste soll aus Einträgen bestehen, die\n",
    "ein Produkt und die davon benötigte Menge enthalten.\n",
    "\n",
    "Es sollen sowohl die Einkaufsliste selber als auch die Einträge durch\n",
    "benutzerdefinierte Datentypen repräsentiert werden.\n",
    "\n",
    "Definieren Sie zunächst eine Klasse `ShoppingListItem`, die Attribute `product` und\n",
    "`amount` hat. Verwenden Sie dazu den `@dataclass` Decorator"
   ]
  },
  {
   "cell_type": "code",
   "execution_count": null,
   "id": "61b3c513",
   "metadata": {
    "tags": [
     "solution"
    ]
   },
   "outputs": [],
   "source": []
  },
  {
   "cell_type": "markdown",
   "id": "a0a05c5a",
   "metadata": {
    "lang": "de"
   },
   "source": [
    "Erzeugen sie ein `ShoppingListItem`, das 500g Kaffee repräsentiert:"
   ]
  },
  {
   "cell_type": "code",
   "execution_count": null,
   "id": "5174612f",
   "metadata": {
    "tags": [
     "solution"
    ]
   },
   "outputs": [],
   "source": []
  },
  {
   "cell_type": "markdown",
   "id": "58d00eab",
   "metadata": {
    "lang": "de"
   },
   "source": [
    "\n",
    "Definieren Sie eine Klasse `ShoppingList`, die eine Liste von `ShoppingListItem`-Instanzen\n",
    "beinhaltet:\n",
    "\n",
    "- Verwenden Sie den `@dataclass` Decorator\n",
    "- Die Klasse hat ein Attribut `items` vom Typ `list` (oder `list[ShoppingListItem]`, falls\n",
    "  Sie Python 3.9 oder neuer verwenden), das mit einer leeren Liste\n",
    "  Initialisiert wird.\n",
    "- Die Methode `add_item(self, item: ShoppingListItem)` fügt ein `ShoppingListItem` zur Einkaufsliste\n",
    "  hinzu.\n",
    "\n",
    "Implementieren Sie eine\n",
    "[`__str__()`-Methode](https://docs.python.org/3/reference/datamodel.html#object.__str__),\n",
    "so dass das folgende Programm:\n",
    "\n",
    "```python\n",
    "meine_einkaufsliste = ShoppingList([ShoppingListItem('Tee', '2 Pakete'),\n",
    "                                    ShoppingListItem('Kaffee', '1 Paket')])\n",
    "print(str(meine_einkaufsliste))\n",
    "print(repr(meine_einkaufsliste))\n",
    "```\n",
    "\n",
    "Folgende Ausgabe erzeugt:\n",
    "\n",
    "```\n",
    "Einkaufsliste\n",
    "  Tee, (2 Pakete)\n",
    "  Kaffee, (1 Paket)\n",
    "\n",
    "ShoppingList(items=[ShoppingListItem(product='Tee', amount='2 Pakete'), ShoppingListItem(product='Kaffee', amount='1 Paket')])\n",
    "```\n",
    "\n",
    "Implementieren Sie eine Methode für `__len__()`, die die Länge der\n",
    "Einkaufsliste zurückgibt, und für `__getitem__()`, die den Zugriff auf\n",
    "Einträge über ihren numerischen Index erlaubt."
   ]
  },
  {
   "cell_type": "code",
   "execution_count": null,
   "id": "65d0b7c7",
   "metadata": {
    "tags": [
     "solution"
    ]
   },
   "outputs": [],
   "source": []
  },
  {
   "cell_type": "markdown",
   "id": "04530c5c",
   "metadata": {
    "lang": "de"
   },
   "source": [
    "\n",
    "Definieren Sie Variable `meine_einkaufsliste`, die eine Einkaufsliste mit\n",
    "folgenden ShoppingListItems repräsentiert:\n",
    "\n",
    "- 2 Pakete Tee,\n",
    "- 1 Paket Kaffee\n",
    "\n",
    "Überprüfen Sie, dass sich `str()` und `repr()` wie oben beschrieben verhalten."
   ]
  },
  {
   "cell_type": "code",
   "execution_count": null,
   "id": "001d640b",
   "metadata": {
    "tags": [
     "solution"
    ]
   },
   "outputs": [],
   "source": []
  },
  {
   "cell_type": "markdown",
   "id": "5d29aab6",
   "metadata": {
    "lang": "de"
   },
   "source": [
    "Drucken Sie `meine_einkaufsliste` aus. Entspricht die Ausgabe Ihren Erwartungen?"
   ]
  },
  {
   "cell_type": "code",
   "execution_count": null,
   "id": "fdc1b270",
   "metadata": {
    "tags": [
     "solution"
    ]
   },
   "outputs": [],
   "source": []
  },
  {
   "cell_type": "markdown",
   "id": "b8f25a8c",
   "metadata": {
    "lang": "de"
   },
   "source": [
    "\n",
    "Stellen Sie fest, wie lange `meine_einkaufsliste` ist und was ihr erstes und zweites Element sind:"
   ]
  },
  {
   "cell_type": "code",
   "execution_count": null,
   "id": "52500683",
   "metadata": {
    "tags": [
     "solution"
    ]
   },
   "outputs": [],
   "source": []
  },
  {
   "cell_type": "markdown",
   "id": "25c434ef",
   "metadata": {
    "lang": "de"
   },
   "source": [
    "\n",
    "Was ist der Effekt des follgenden Ausdrucks?\n",
    "```python\n",
    "  for item in meine_einkaufsliste:\n",
    "      print(item)\n",
    "```"
   ]
  },
  {
   "cell_type": "code",
   "execution_count": null,
   "id": "68aba9e0",
   "metadata": {
    "tags": [
     "solution"
    ]
   },
   "outputs": [],
   "source": []
  },
  {
   "cell_type": "markdown",
   "id": "2c3b8c79",
   "metadata": {
    "lang": "de"
   },
   "source": [
    "Erweitern Sie die Definition der Klasse `ShoppingList`, so dass der Indexing Operator `[]` auch mit einem String aufgerufen werden kann, und das Shopping List Item mit dem entsprechenden `product` Attribut zurückgibt, falls es existiert, oder `None` falls kein solches Item existiert.\n",
    "\n",
    "Verifizieren Sie, dass ihre neue Implementierung des Indexing Operators für Integer und String Argumente funktioniert.\n",
    "\n",
    "*Hinweis:* Sie können die `isinstance()` Funktion verwenden um zu überprüfen, ob ein Objekt ein String ist:"
   ]
  },
  {
   "cell_type": "code",
   "execution_count": null,
   "id": "d73134ad",
   "metadata": {
    "tags": [
     "solution"
    ]
   },
   "outputs": [],
   "source": []
  },
  {
   "cell_type": "code",
   "execution_count": null,
   "id": "936593bc",
   "metadata": {
    "tags": [
     "solution"
    ]
   },
   "outputs": [],
   "source": []
  },
  {
   "cell_type": "code",
   "execution_count": null,
   "id": "8b2ccf56",
   "metadata": {
    "tags": [
     "solution"
    ]
   },
   "outputs": [],
   "source": []
  },
  {
   "cell_type": "markdown",
   "id": "c7f64c34",
   "metadata": {
    "lang": "de"
   },
   "source": [
    "\n",
    "Fügen Sie  250g Butter und  1 Laib Brot zur Einkaufsliste\n",
    "`meine_einkaufsliste` hinzu."
   ]
  },
  {
   "cell_type": "code",
   "execution_count": null,
   "id": "863d1049",
   "metadata": {
    "tags": [
     "solution"
    ]
   },
   "outputs": [],
   "source": []
  },
  {
   "cell_type": "markdown",
   "id": "d9d49fd4",
   "metadata": {
    "lang": "de"
   },
   "source": [
    "Drucken Sie die Einkaufsliste nochmal aus."
   ]
  },
  {
   "cell_type": "code",
   "execution_count": null,
   "id": "86b7fca2",
   "metadata": {
    "tags": [
     "solution"
    ]
   },
   "outputs": [],
   "source": []
  },
  {
   "cell_type": "markdown",
   "id": "545283f4",
   "metadata": {
    "lang": "de"
   },
   "source": [
    "\n",
    "Was passiert, wenn Sie `Butter` und `Brot` nochmals zur Einkaufsliste\n",
    "`meine_einkaufsliste` hinzufügen?"
   ]
  },
  {
   "cell_type": "code",
   "execution_count": null,
   "id": "c5890231",
   "metadata": {
    "tags": [
     "solution"
    ]
   },
   "outputs": [],
   "source": []
  },
  {
   "cell_type": "markdown",
   "id": "18bf442b",
   "metadata": {
    "lang": "de"
   },
   "source": [
    "*Diskussion:* Wie könnte das Verhalten der Klasse verbessert werden?"
   ]
  }
 ],
 "metadata": {
  "jupytext": {
   "encoding": "# -*- coding: utf-8 -*-",
   "formats": "ipynb"
  },
  "kernelspec": {
   "display_name": "Python 3 (ipykernel)",
   "language": "python",
   "name": "python3"
  }
 },
 "nbformat": 4,
 "nbformat_minor": 5
}
