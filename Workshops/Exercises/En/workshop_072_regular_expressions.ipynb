{
 "cells": [
  {
   "cell_type": "markdown",
   "id": "6acd0cf9",
   "metadata": {
    "lang": "en"
   },
   "source": [
    "# Regular Expressions\n",
    "\n",
    "Write a regular expression that matches floating point literals (one or more\n",
    "digits, followed by a decimal point, followed by one or more digits).\n",
    "\n",
    "Test you regular expressions with the following values: `1.0`, `842.234`,\n",
    "`23-38`, `12.`, `.1`.\n",
    "\n",
    "*Hint:* `\\d` matches a single digit."
   ]
  },
  {
   "cell_type": "code",
   "execution_count": null,
   "id": "089e9e38",
   "metadata": {
    "tags": [
     "solution"
    ]
   },
   "outputs": [],
   "source": []
  },
  {
   "cell_type": "code",
   "execution_count": null,
   "id": "4ebda129",
   "metadata": {
    "tags": [
     "solution"
    ]
   },
   "outputs": [],
   "source": []
  },
  {
   "cell_type": "code",
   "execution_count": null,
   "id": "b82fdea1",
   "metadata": {
    "tags": [
     "solution"
    ]
   },
   "outputs": [],
   "source": []
  },
  {
   "cell_type": "code",
   "execution_count": null,
   "id": "37ddbb1b",
   "metadata": {
    "tags": [
     "solution"
    ]
   },
   "outputs": [],
   "source": []
  },
  {
   "cell_type": "code",
   "execution_count": null,
   "id": "02aedf59",
   "metadata": {
    "tags": [
     "solution"
    ]
   },
   "outputs": [],
   "source": []
  },
  {
   "cell_type": "code",
   "execution_count": null,
   "id": "ab534924",
   "metadata": {
    "tags": [
     "solution"
    ]
   },
   "outputs": [],
   "source": []
  },
  {
   "cell_type": "markdown",
   "id": "a2601cfd",
   "metadata": {
    "lang": "en"
   },
   "source": [
    "\n",
    "Write a regular expression that matches URLs that use the `http` or `https`\n",
    "protocol and whose domain name is followed either no path or a single slash.\n",
    "\n",
    "For example, the regular expression should match `http://example.com/` and\n",
    "`https://www.example.com/`, but not `email://example.com`,\n",
    "`http://example.com/foo`, or `http://www..example.com/`."
   ]
  },
  {
   "cell_type": "code",
   "execution_count": null,
   "id": "ec50130d",
   "metadata": {
    "tags": [
     "solution"
    ]
   },
   "outputs": [],
   "source": []
  },
  {
   "cell_type": "code",
   "execution_count": null,
   "id": "7915a288",
   "metadata": {
    "tags": [
     "solution"
    ]
   },
   "outputs": [],
   "source": []
  },
  {
   "cell_type": "code",
   "execution_count": null,
   "id": "2b078941",
   "metadata": {
    "tags": [
     "solution"
    ]
   },
   "outputs": [],
   "source": []
  },
  {
   "cell_type": "code",
   "execution_count": null,
   "id": "d933702f",
   "metadata": {
    "tags": [
     "solution"
    ]
   },
   "outputs": [],
   "source": []
  },
  {
   "cell_type": "code",
   "execution_count": null,
   "id": "ab3bd3b6",
   "metadata": {
    "tags": [
     "solution"
    ]
   },
   "outputs": [],
   "source": []
  },
  {
   "cell_type": "code",
   "execution_count": null,
   "id": "c4b8a14c",
   "metadata": {
    "tags": [
     "solution"
    ]
   },
   "outputs": [],
   "source": []
  },
  {
   "cell_type": "markdown",
   "id": "318c3e56",
   "metadata": {
    "lang": "en"
   },
   "source": [
    "\n",
    "Replace all URLs in the following text with the string `<URL>`"
   ]
  },
  {
   "cell_type": "code",
   "execution_count": null,
   "id": "7aba9d9a",
   "metadata": {
    "lines_to_next_cell": 2
   },
   "outputs": [],
   "source": [
    "text = \"Use http://www.example.com or https://www.example.com/ as example domains.\""
   ]
  },
  {
   "cell_type": "code",
   "execution_count": null,
   "id": "34a25a7c",
   "metadata": {
    "tags": [
     "solution"
    ]
   },
   "outputs": [],
   "source": []
  },
  {
   "cell_type": "code",
   "execution_count": null,
   "id": "2bd4a7f3",
   "metadata": {},
   "outputs": [],
   "source": []
  }
 ],
 "metadata": {
  "jupytext": {
   "encoding": "# -*- coding: utf-8 -*-",
   "formats": "ipynb"
  },
  "kernelspec": {
   "display_name": "Python 3 (ipykernel)",
   "language": "python",
   "name": "python3"
  }
 },
 "nbformat": 4,
 "nbformat_minor": 5
}
