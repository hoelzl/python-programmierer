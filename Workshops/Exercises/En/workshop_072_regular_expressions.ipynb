{
 "cells": [
  {
   "cell_type": "markdown",
   "id": "b7d712ad",
   "metadata": {
    "lang": "en"
   },
   "source": [
    "# Regular Expressions\n",
    "\n",
    "Write a regular expression that matches floating point literals (one or more\n",
    "digits, followed by a decimal point, followed by one or more digits).\n",
    "\n",
    "Test you regular expressions with the following values: `1.0`, `842.234`,\n",
    "`23-38`, `12.`, `.1`.\n",
    "\n",
    "*Hint:* `\\d` matches a single digit."
   ]
  },
  {
   "cell_type": "code",
   "execution_count": null,
   "id": "0c627de1",
   "metadata": {
    "tags": [
     "solution"
    ]
   },
   "outputs": [],
   "source": []
  },
  {
   "cell_type": "code",
   "execution_count": null,
   "id": "574959b6",
   "metadata": {
    "tags": [
     "solution"
    ]
   },
   "outputs": [],
   "source": []
  },
  {
   "cell_type": "code",
   "execution_count": null,
   "id": "49be8138",
   "metadata": {
    "tags": [
     "solution"
    ]
   },
   "outputs": [],
   "source": []
  },
  {
   "cell_type": "code",
   "execution_count": null,
   "id": "47220b34",
   "metadata": {
    "tags": [
     "solution"
    ]
   },
   "outputs": [],
   "source": []
  },
  {
   "cell_type": "code",
   "execution_count": null,
   "id": "0e030379",
   "metadata": {
    "tags": [
     "solution"
    ]
   },
   "outputs": [],
   "source": []
  },
  {
   "cell_type": "code",
   "execution_count": null,
   "id": "47bf178b",
   "metadata": {
    "tags": [
     "solution"
    ]
   },
   "outputs": [],
   "source": []
  },
  {
   "cell_type": "markdown",
   "id": "f700b883",
   "metadata": {
    "lang": "en"
   },
   "source": [
    "\n",
    "Write a regular expression that matches URLs that use the `http` or `https`\n",
    "protocol and whose domain name is followed either no path or a single slash.\n",
    "\n",
    "For example, the regular expression should match `http://example.com/` and\n",
    "`https://www.example.com/`, but not `email://example.com`,\n",
    "`http://example.com/foo`, or `http://www..example.com/`."
   ]
  },
  {
   "cell_type": "code",
   "execution_count": null,
   "id": "f0d2fdef",
   "metadata": {
    "tags": [
     "solution"
    ]
   },
   "outputs": [],
   "source": []
  },
  {
   "cell_type": "code",
   "execution_count": null,
   "id": "05a1bb14",
   "metadata": {
    "tags": [
     "solution"
    ]
   },
   "outputs": [],
   "source": []
  },
  {
   "cell_type": "code",
   "execution_count": null,
   "id": "93ade892",
   "metadata": {
    "tags": [
     "solution"
    ]
   },
   "outputs": [],
   "source": []
  },
  {
   "cell_type": "code",
   "execution_count": null,
   "id": "dd9a38ba",
   "metadata": {
    "tags": [
     "solution"
    ]
   },
   "outputs": [],
   "source": []
  },
  {
   "cell_type": "code",
   "execution_count": null,
   "id": "c0461166",
   "metadata": {
    "tags": [
     "solution"
    ]
   },
   "outputs": [],
   "source": []
  },
  {
   "cell_type": "code",
   "execution_count": null,
   "id": "a76aaeb3",
   "metadata": {
    "tags": [
     "solution"
    ]
   },
   "outputs": [],
   "source": []
  },
  {
   "cell_type": "markdown",
   "id": "feaa24a0",
   "metadata": {
    "lang": "en"
   },
   "source": [
    "\n",
    "Replace all URLs in the following text with the string `<URL>`"
   ]
  },
  {
   "cell_type": "code",
   "execution_count": null,
   "id": "3c5f4920",
   "metadata": {
    "lines_to_next_cell": 2
   },
   "outputs": [],
   "source": [
    "text = \"Use http://www.example.com or https://www.example.com/ as example domains.\""
   ]
  },
  {
   "cell_type": "code",
   "execution_count": null,
   "id": "d5c62f34",
   "metadata": {
    "tags": [
     "solution"
    ]
   },
   "outputs": [],
   "source": []
  },
  {
   "cell_type": "code",
   "execution_count": null,
   "id": "af3fc2b0",
   "metadata": {},
   "outputs": [],
   "source": []
  }
 ],
 "metadata": {
  "jupytext": {
   "encoding": "# -*- coding: utf-8 -*-",
   "formats": "ipynb"
  },
  "kernelspec": {
   "display_name": "Python 3 (ipykernel)",
   "language": "python",
   "name": "python3"
  }
 },
 "nbformat": 4,
 "nbformat_minor": 5
}
