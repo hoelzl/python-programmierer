{
 "cells": [
  {
   "cell_type": "markdown",
   "id": "c03cfb32",
   "metadata": {
    "lang": "en"
   },
   "source": [
    "# Regular Expressions\n",
    "\n",
    "Write a regular expression that matches floating point literals (one or more\n",
    "digits, followed by a decimal point, followed by one or more digits).\n",
    "\n",
    "Test you regular expressions with the following values: `1.0`, `842.234`,\n",
    "`23-38`, `12.`, `.1`.\n",
    "\n",
    "*Hint:* `\\d` matches a single digit."
   ]
  },
  {
   "cell_type": "code",
   "execution_count": null,
   "id": "14aa4a88",
   "metadata": {
    "tags": [
     "solution"
    ]
   },
   "outputs": [],
   "source": []
  },
  {
   "cell_type": "code",
   "execution_count": null,
   "id": "be5dc1fc",
   "metadata": {
    "tags": [
     "solution"
    ]
   },
   "outputs": [],
   "source": []
  },
  {
   "cell_type": "code",
   "execution_count": null,
   "id": "8f62d81e",
   "metadata": {
    "tags": [
     "solution"
    ]
   },
   "outputs": [],
   "source": []
  },
  {
   "cell_type": "code",
   "execution_count": null,
   "id": "3060e9ef",
   "metadata": {
    "tags": [
     "solution"
    ]
   },
   "outputs": [],
   "source": []
  },
  {
   "cell_type": "code",
   "execution_count": null,
   "id": "f7cebd2e",
   "metadata": {
    "tags": [
     "solution"
    ]
   },
   "outputs": [],
   "source": []
  },
  {
   "cell_type": "code",
   "execution_count": null,
   "id": "2a8dc302",
   "metadata": {
    "tags": [
     "solution"
    ]
   },
   "outputs": [],
   "source": []
  },
  {
   "cell_type": "markdown",
   "id": "4a3d6cc6",
   "metadata": {
    "lang": "en"
   },
   "source": [
    "\n",
    "Write a regular expression that matches URLs that use the `http` or `https`\n",
    "protocol and whose domain name is followed either no path or a single slash.\n",
    "\n",
    "For example, the regular expression should match `http://example.com/` and\n",
    "`https://www.example.com/`, but not `email://example.com`,\n",
    "`http://example.com/foo`, or `http://www..example.com/`."
   ]
  },
  {
   "cell_type": "code",
   "execution_count": null,
   "id": "2d5c12ed",
   "metadata": {
    "tags": [
     "solution"
    ]
   },
   "outputs": [],
   "source": []
  },
  {
   "cell_type": "code",
   "execution_count": null,
   "id": "d3ce2d6e",
   "metadata": {
    "tags": [
     "solution"
    ]
   },
   "outputs": [],
   "source": []
  },
  {
   "cell_type": "code",
   "execution_count": null,
   "id": "0f265930",
   "metadata": {
    "tags": [
     "solution"
    ]
   },
   "outputs": [],
   "source": []
  },
  {
   "cell_type": "code",
   "execution_count": null,
   "id": "fe3feff0",
   "metadata": {
    "tags": [
     "solution"
    ]
   },
   "outputs": [],
   "source": []
  },
  {
   "cell_type": "code",
   "execution_count": null,
   "id": "c8b37ea1",
   "metadata": {
    "tags": [
     "solution"
    ]
   },
   "outputs": [],
   "source": []
  },
  {
   "cell_type": "code",
   "execution_count": null,
   "id": "f1056791",
   "metadata": {
    "tags": [
     "solution"
    ]
   },
   "outputs": [],
   "source": []
  },
  {
   "cell_type": "markdown",
   "id": "ab4584fa",
   "metadata": {
    "lang": "en"
   },
   "source": [
    "\n",
    "Replace all URLs in the following text with the string `<URL>`"
   ]
  },
  {
   "cell_type": "code",
   "execution_count": null,
   "id": "5b0aaaf1",
   "metadata": {
    "lines_to_next_cell": 2
   },
   "outputs": [],
   "source": [
    "text = \"Use http://www.example.com or https://www.example.com/ as example domains.\""
   ]
  },
  {
   "cell_type": "code",
   "execution_count": null,
   "id": "43bf6847",
   "metadata": {
    "tags": [
     "solution"
    ]
   },
   "outputs": [],
   "source": []
  },
  {
   "cell_type": "code",
   "execution_count": null,
   "id": "e23c10c6",
   "metadata": {},
   "outputs": [],
   "source": []
  }
 ],
 "metadata": {
  "jupytext": {
   "encoding": "# -*- coding: utf-8 -*-",
   "formats": "ipynb"
  },
  "kernelspec": {
   "display_name": "Python 3 (ipykernel)",
   "language": "python",
   "name": "python3"
  }
 },
 "nbformat": 4,
 "nbformat_minor": 5
}
