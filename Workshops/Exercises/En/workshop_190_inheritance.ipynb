{
 "cells": [
  {
   "cell_type": "markdown",
   "id": "7a22166f",
   "metadata": {
    "lang": "en"
   },
   "source": [
    "# Inheritance\n",
    "\n",
    "In the following we will implement a class hierarchy for employees of a company:\n",
    "\n",
    "- Employees can be either workers or managers\n",
    "- Each employee of the company has a name, a personnel number and a\n",
    "  base salary\n",
    "- For each worker, the accumulated overtime and the hourly wage\n",
    "  are stored in attributes.\n",
    "- A worker's salary is calculated as 13/12 times the\n",
    "  base salary plus overtime pay\n",
    "- Each manager has an individual bonus\n",
    "- A manager's salary is calculated as 13/12 times the\n",
    "  base salary plus bonus\n",
    "\n",
    "Implement Python classes `Employee`, `Worker` and `Manager` with\n",
    "appropriate attributes and a method `salary()` that calculates the salary."
   ]
  },
  {
   "cell_type": "code",
   "execution_count": null,
   "id": "5d1eaa4a",
   "metadata": {
    "lines_to_next_cell": 1,
    "tags": [
     "solution"
    ]
   },
   "outputs": [],
   "source": []
  },
  {
   "cell_type": "code",
   "execution_count": null,
   "id": "623deab1",
   "metadata": {
    "tags": [
     "solution"
    ]
   },
   "outputs": [],
   "source": []
  },
  {
   "cell_type": "code",
   "execution_count": null,
   "id": "3e422254",
   "metadata": {
    "tags": [
     "solution"
    ]
   },
   "outputs": [],
   "source": []
  },
  {
   "cell_type": "code",
   "execution_count": null,
   "id": "9cb9c4f1",
   "metadata": {
    "tags": [
     "solution"
    ]
   },
   "outputs": [],
   "source": []
  },
  {
   "cell_type": "markdown",
   "id": "19580350",
   "metadata": {
    "lang": "en"
   },
   "source": [
    "Create a worker named Hans, personnel number 123, a base salary of 36000.0 Euros, who worked 3.5 hours of overtime at 40.0 euros each. Print out the salary."
   ]
  },
  {
   "cell_type": "code",
   "execution_count": null,
   "id": "2ddede65",
   "metadata": {
    "tags": [
     "solution"
    ]
   },
   "outputs": [],
   "source": []
  },
  {
   "cell_type": "markdown",
   "id": "ced14c6c",
   "metadata": {
    "lang": "en"
   },
   "source": [
    "Write assertions to test the functionality of the class `Worker`."
   ]
  },
  {
   "cell_type": "code",
   "execution_count": null,
   "id": "57197b1e",
   "metadata": {
    "tags": [
     "solution"
    ]
   },
   "outputs": [],
   "source": []
  },
  {
   "cell_type": "markdown",
   "id": "1cfd03fc",
   "metadata": {
    "lang": "en"
   },
   "source": [
    "Create a manager named Sepp, personnel number 666, who is a\n",
    "base salary of 60000.0 euros and a bonus of 30000.0 euros. Print out\n",
    "the salary."
   ]
  },
  {
   "cell_type": "code",
   "execution_count": null,
   "id": "ae7cd603",
   "metadata": {
    "tags": [
     "solution"
    ]
   },
   "outputs": [],
   "source": []
  },
  {
   "cell_type": "markdown",
   "id": "0f4a4e2b",
   "metadata": {
    "lang": "en"
   },
   "source": [
    "Test the functionality of the class `Manager`."
   ]
  },
  {
   "cell_type": "code",
   "execution_count": null,
   "id": "fe0d0d8c",
   "metadata": {
    "tags": [
     "solution"
    ]
   },
   "outputs": [],
   "source": []
  },
  {
   "cell_type": "markdown",
   "id": "20485442",
   "metadata": {
    "lang": "en"
   },
   "source": [
    "## Solution without dataclasses:"
   ]
  },
  {
   "cell_type": "code",
   "execution_count": null,
   "id": "29e83872",
   "metadata": {
    "tags": [
     "solution"
    ]
   },
   "outputs": [],
   "source": []
  },
  {
   "cell_type": "code",
   "execution_count": null,
   "id": "da65275b",
   "metadata": {
    "tags": [
     "solution"
    ]
   },
   "outputs": [],
   "source": []
  },
  {
   "cell_type": "code",
   "execution_count": null,
   "id": "e0b707ee",
   "metadata": {
    "tags": [
     "solution"
    ]
   },
   "outputs": [],
   "source": []
  },
  {
   "cell_type": "code",
   "execution_count": null,
   "id": "7de2c59f",
   "metadata": {
    "tags": [
     "solution"
    ]
   },
   "outputs": [],
   "source": []
  },
  {
   "cell_type": "code",
   "execution_count": null,
   "id": "39977b97",
   "metadata": {
    "lines_to_next_cell": 2,
    "tags": [
     "solution"
    ]
   },
   "outputs": [],
   "source": []
  },
  {
   "cell_type": "markdown",
   "id": "0322fe22",
   "metadata": {
    "lang": "en"
   },
   "source": [
    "# Bank accounts\n",
    "\n",
    "Define a class `BankAccount` with an attribute `balance: float`\n",
    "and methods `deposit(amount: float)` and `withdraw(amount: float)`.\n",
    "\n",
    "*Note: For a more realistic implementation, `decimal.Decimal`\n",
    "can be used instead of `float`.*\n",
    "\n",
    "The class should throw an exception of type `ValueError` in the following cases:\n",
    "\n",
    "- If a new `BankAccount` with a negative `balance` is created.\n",
    "- If `deposit` is called with a negative value.\n",
    "- When `withdraw` is called with a negative value if by withdrawing the desired amount the `balance` attribute of the account would become negative."
   ]
  },
  {
   "cell_type": "code",
   "execution_count": null,
   "id": "c4f23c61",
   "metadata": {
    "tags": [
     "solution"
    ]
   },
   "outputs": [],
   "source": []
  },
  {
   "cell_type": "markdown",
   "id": "f54e4e7e",
   "metadata": {
    "lang": "en"
   },
   "source": [
    "Test the functionality of the class for both successful transactions, as well as for transactions that throw exceptions."
   ]
  },
  {
   "cell_type": "code",
   "execution_count": null,
   "id": "f5a2ee2a",
   "metadata": {
    "tags": [
     "solution"
    ]
   },
   "outputs": [],
   "source": []
  },
  {
   "cell_type": "code",
   "execution_count": null,
   "id": "a03fdcfa",
   "metadata": {
    "tags": [
     "solution"
    ]
   },
   "outputs": [],
   "source": []
  },
  {
   "cell_type": "code",
   "execution_count": null,
   "id": "deed1e06",
   "metadata": {
    "tags": [
     "solution"
    ]
   },
   "outputs": [],
   "source": []
  },
  {
   "cell_type": "code",
   "execution_count": null,
   "id": "150e821e",
   "metadata": {
    "tags": [
     "solution"
    ]
   },
   "outputs": [],
   "source": []
  },
  {
   "cell_type": "code",
   "execution_count": null,
   "id": "ec174a08",
   "metadata": {
    "tags": [
     "solution"
    ]
   },
   "outputs": [],
   "source": []
  },
  {
   "cell_type": "code",
   "execution_count": null,
   "id": "c28517f2",
   "metadata": {
    "tags": [
     "solution"
    ]
   },
   "outputs": [],
   "source": []
  },
  {
   "cell_type": "code",
   "execution_count": null,
   "id": "e70922ea",
   "metadata": {
    "tags": [
     "solution"
    ]
   },
   "outputs": [],
   "source": []
  },
  {
   "cell_type": "code",
   "execution_count": null,
   "id": "53fa88d1",
   "metadata": {
    "tags": [
     "solution"
    ]
   },
   "outputs": [],
   "source": []
  },
  {
   "cell_type": "markdown",
   "id": "d7acb825",
   "metadata": {
    "lang": "en"
   },
   "source": [
    "## Solution without dataclasses:"
   ]
  },
  {
   "cell_type": "code",
   "execution_count": null,
   "id": "742ae74d",
   "metadata": {
    "tags": [
     "solution"
    ]
   },
   "outputs": [],
   "source": []
  },
  {
   "cell_type": "code",
   "execution_count": null,
   "id": "86fd8f20",
   "metadata": {
    "tags": [
     "solution"
    ]
   },
   "outputs": [],
   "source": []
  },
  {
   "cell_type": "code",
   "execution_count": null,
   "id": "a66764f9",
   "metadata": {
    "tags": [
     "solution"
    ]
   },
   "outputs": [],
   "source": []
  },
  {
   "cell_type": "code",
   "execution_count": null,
   "id": "a304ae02",
   "metadata": {
    "tags": [
     "solution"
    ]
   },
   "outputs": [],
   "source": []
  },
  {
   "cell_type": "code",
   "execution_count": null,
   "id": "22b35812",
   "metadata": {
    "tags": [
     "solution"
    ]
   },
   "outputs": [],
   "source": []
  },
  {
   "cell_type": "code",
   "execution_count": null,
   "id": "55eeb612",
   "metadata": {
    "tags": [
     "solution"
    ]
   },
   "outputs": [],
   "source": []
  },
  {
   "cell_type": "code",
   "execution_count": null,
   "id": "edf26c5e",
   "metadata": {
    "tags": [
     "solution"
    ]
   },
   "outputs": [],
   "source": []
  },
  {
   "cell_type": "code",
   "execution_count": null,
   "id": "88e70faf",
   "metadata": {
    "tags": [
     "solution"
    ]
   },
   "outputs": [],
   "source": []
  },
  {
   "cell_type": "code",
   "execution_count": null,
   "id": "b491b7e4",
   "metadata": {
    "tags": [
     "solution"
    ]
   },
   "outputs": [],
   "source": []
  },
  {
   "cell_type": "code",
   "execution_count": null,
   "id": "e440a668",
   "metadata": {},
   "outputs": [],
   "source": []
  }
 ],
 "metadata": {
  "jupytext": {
   "encoding": "# -*- coding: utf-8 -*-",
   "formats": "ipynb"
  },
  "kernelspec": {
   "display_name": "Python 3 (ipykernel)",
   "language": "python",
   "name": "python3"
  }
 },
 "nbformat": 4,
 "nbformat_minor": 5
}
