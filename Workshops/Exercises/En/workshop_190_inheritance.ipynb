{
 "cells": [
  {
   "cell_type": "markdown",
   "id": "70736033",
   "metadata": {
    "lang": "en"
   },
   "source": [
    "# Inheritance\n",
    "\n",
    "In the following we will implement a class hierarchy for employees of a company:\n",
    "\n",
    "- Employees can be either workers or managers\n",
    "- Each employee of the company has a name, a personnel number and a\n",
    "  base salary\n",
    "- For each worker, the accumulated overtime and the hourly wage\n",
    "  are stored in attributes.\n",
    "- A worker's salary is calculated as 13/12 times the\n",
    "  base salary plus overtime pay\n",
    "- Each manager has an individual bonus\n",
    "- A manager's salary is calculated as 13/12 times the\n",
    "  base salary plus bonus\n",
    "\n",
    "Implement Python classes `Employee`, `Worker` and `Manager` with\n",
    "appropriate attributes and a method `salary()` that calculates the salary."
   ]
  },
  {
   "cell_type": "code",
   "execution_count": null,
   "id": "3c432f2c",
   "metadata": {
    "lines_to_next_cell": 1,
    "tags": [
     "solution"
    ]
   },
   "outputs": [],
   "source": []
  },
  {
   "cell_type": "code",
   "execution_count": null,
   "id": "c734ca96",
   "metadata": {
    "tags": [
     "solution"
    ]
   },
   "outputs": [],
   "source": []
  },
  {
   "cell_type": "code",
   "execution_count": null,
   "id": "b1752ea9",
   "metadata": {
    "tags": [
     "solution"
    ]
   },
   "outputs": [],
   "source": []
  },
  {
   "cell_type": "code",
   "execution_count": null,
   "id": "13c6abd0",
   "metadata": {
    "tags": [
     "solution"
    ]
   },
   "outputs": [],
   "source": []
  },
  {
   "cell_type": "markdown",
   "id": "9fad4ecf",
   "metadata": {
    "lang": "en"
   },
   "source": [
    "Create a worker named Hans, personnel number 123, a base salary of 36000.0 Euros, who worked 3.5 hours of overtime at 40.0 euros each. Print out the salary."
   ]
  },
  {
   "cell_type": "code",
   "execution_count": null,
   "id": "4501a52e",
   "metadata": {
    "tags": [
     "solution"
    ]
   },
   "outputs": [],
   "source": []
  },
  {
   "cell_type": "markdown",
   "id": "bc658733",
   "metadata": {
    "lang": "en"
   },
   "source": [
    "Write assertions to test the functionality of the class `Worker`."
   ]
  },
  {
   "cell_type": "code",
   "execution_count": null,
   "id": "b1fff8b7",
   "metadata": {
    "tags": [
     "solution"
    ]
   },
   "outputs": [],
   "source": []
  },
  {
   "cell_type": "markdown",
   "id": "d6275bd1",
   "metadata": {
    "lang": "en"
   },
   "source": [
    "Create a manager named Sepp, personnel number 666, who is a\n",
    "base salary of 60000.0 euros and a bonus of 30000.0 euros. Print out\n",
    "the salary."
   ]
  },
  {
   "cell_type": "code",
   "execution_count": null,
   "id": "ff2872de",
   "metadata": {
    "tags": [
     "solution"
    ]
   },
   "outputs": [],
   "source": []
  },
  {
   "cell_type": "markdown",
   "id": "b19f919d",
   "metadata": {
    "lang": "en"
   },
   "source": [
    "Test the functionality of the class `Manager`."
   ]
  },
  {
   "cell_type": "code",
   "execution_count": null,
   "id": "53441075",
   "metadata": {
    "tags": [
     "solution"
    ]
   },
   "outputs": [],
   "source": []
  },
  {
   "cell_type": "markdown",
   "id": "2d6d953b",
   "metadata": {
    "lang": "en"
   },
   "source": [
    "## Solution without dataclasses:"
   ]
  },
  {
   "cell_type": "code",
   "execution_count": null,
   "id": "c2577ce3",
   "metadata": {
    "tags": [
     "solution"
    ]
   },
   "outputs": [],
   "source": []
  },
  {
   "cell_type": "code",
   "execution_count": null,
   "id": "1a139254",
   "metadata": {
    "tags": [
     "solution"
    ]
   },
   "outputs": [],
   "source": []
  },
  {
   "cell_type": "code",
   "execution_count": null,
   "id": "47bdc862",
   "metadata": {
    "tags": [
     "solution"
    ]
   },
   "outputs": [],
   "source": []
  },
  {
   "cell_type": "code",
   "execution_count": null,
   "id": "b2343a85",
   "metadata": {
    "tags": [
     "solution"
    ]
   },
   "outputs": [],
   "source": []
  },
  {
   "cell_type": "code",
   "execution_count": null,
   "id": "3ee55c25",
   "metadata": {
    "lines_to_next_cell": 2,
    "tags": [
     "solution"
    ]
   },
   "outputs": [],
   "source": []
  },
  {
   "cell_type": "markdown",
   "id": "69d23b31",
   "metadata": {
    "lang": "en"
   },
   "source": [
    "# Bank accounts\n",
    "\n",
    "Define a class `BankAccount` with an attribute `balance: float`\n",
    "and methods `deposit(amount: float)` and `withdraw(amount: float)`.\n",
    "\n",
    "*Note: For a more realistic implementation, `decimal.Decimal`\n",
    "can be used instead of `float`.*\n",
    "\n",
    "The class should throw an exception of type `ValueError` in the following cases:\n",
    "\n",
    "- If a new `BankAccount` with a negative `balance` is created.\n",
    "- If `deposit` is called with a negative value.\n",
    "- When `withdraw` is called with a negative value if by withdrawing the desired amount the `balance` attribute of the account would become negative."
   ]
  },
  {
   "cell_type": "code",
   "execution_count": null,
   "id": "0b6447a5",
   "metadata": {
    "tags": [
     "solution"
    ]
   },
   "outputs": [],
   "source": []
  },
  {
   "cell_type": "markdown",
   "id": "325924a2",
   "metadata": {
    "lang": "en"
   },
   "source": [
    "Test the functionality of the class for both successful transactions, as well as for transactions that throw exceptions."
   ]
  },
  {
   "cell_type": "code",
   "execution_count": null,
   "id": "f647fba7",
   "metadata": {
    "tags": [
     "solution"
    ]
   },
   "outputs": [],
   "source": []
  },
  {
   "cell_type": "code",
   "execution_count": null,
   "id": "f875a82f",
   "metadata": {
    "tags": [
     "solution"
    ]
   },
   "outputs": [],
   "source": []
  },
  {
   "cell_type": "code",
   "execution_count": null,
   "id": "ceddb97e",
   "metadata": {
    "tags": [
     "solution"
    ]
   },
   "outputs": [],
   "source": []
  },
  {
   "cell_type": "code",
   "execution_count": null,
   "id": "61fce072",
   "metadata": {
    "tags": [
     "solution"
    ]
   },
   "outputs": [],
   "source": []
  },
  {
   "cell_type": "code",
   "execution_count": null,
   "id": "4bbb8153",
   "metadata": {
    "tags": [
     "solution"
    ]
   },
   "outputs": [],
   "source": []
  },
  {
   "cell_type": "code",
   "execution_count": null,
   "id": "d71941c1",
   "metadata": {
    "tags": [
     "solution"
    ]
   },
   "outputs": [],
   "source": []
  },
  {
   "cell_type": "code",
   "execution_count": null,
   "id": "b599b6d0",
   "metadata": {
    "tags": [
     "solution"
    ]
   },
   "outputs": [],
   "source": []
  },
  {
   "cell_type": "code",
   "execution_count": null,
   "id": "5dc3a739",
   "metadata": {
    "tags": [
     "solution"
    ]
   },
   "outputs": [],
   "source": []
  },
  {
   "cell_type": "code",
   "execution_count": null,
   "id": "89c331c5",
   "metadata": {},
   "outputs": [],
   "source": []
  }
 ],
 "metadata": {
  "jupytext": {
   "encoding": "# -*- coding: utf-8 -*-",
   "formats": "ipynb"
  },
  "kernelspec": {
   "display_name": "Python 3 (ipykernel)",
   "language": "python",
   "name": "python3"
  }
 },
 "nbformat": 4,
 "nbformat_minor": 5
}
