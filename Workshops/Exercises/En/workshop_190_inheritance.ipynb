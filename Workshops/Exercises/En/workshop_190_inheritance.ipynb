{
 "cells": [
  {
   "cell_type": "markdown",
   "id": "2062f6a5",
   "metadata": {
    "lang": "en"
   },
   "source": [
    "# Inheritance\n",
    "\n",
    "In the following we will implement a class hierarchy for employees of a company:\n",
    "\n",
    "- Employees can be either workers or managers\n",
    "- Each employee of the company has a name, a personnel number and a\n",
    "  base salary\n",
    "- For each worker, the accumulated overtime and the hourly wage\n",
    "  are stored in attributes.\n",
    "- A worker's salary is calculated as 13/12 times the\n",
    "  base salary plus overtime pay\n",
    "- Each manager has an individual bonus\n",
    "- A manager's salary is calculated as 13/12 times the\n",
    "  base salary plus bonus\n",
    "\n",
    "Implement Python classes `Employee`, `Worker` and `Manager` with\n",
    "appropriate attributes and a method `salary()` that calculates the salary."
   ]
  },
  {
   "cell_type": "code",
   "execution_count": null,
   "id": "47ca5e7c",
   "metadata": {
    "lines_to_next_cell": 1,
    "tags": [
     "solution"
    ]
   },
   "outputs": [],
   "source": []
  },
  {
   "cell_type": "code",
   "execution_count": null,
   "id": "617fab8b",
   "metadata": {
    "tags": [
     "solution"
    ]
   },
   "outputs": [],
   "source": []
  },
  {
   "cell_type": "code",
   "execution_count": null,
   "id": "e1dbeab4",
   "metadata": {
    "tags": [
     "solution"
    ]
   },
   "outputs": [],
   "source": []
  },
  {
   "cell_type": "code",
   "execution_count": null,
   "id": "27aa6341",
   "metadata": {
    "tags": [
     "solution"
    ]
   },
   "outputs": [],
   "source": []
  },
  {
   "cell_type": "markdown",
   "id": "1479a567",
   "metadata": {
    "lang": "en"
   },
   "source": [
    "Create a worker named Hans, personnel number 123, a base salary of 36000.0 Euros, who worked 3.5 hours of overtime at 40.0 euros each. Print out the salary."
   ]
  },
  {
   "cell_type": "code",
   "execution_count": null,
   "id": "feaa82d0",
   "metadata": {
    "tags": [
     "solution"
    ]
   },
   "outputs": [],
   "source": []
  },
  {
   "cell_type": "markdown",
   "id": "5a7bd549",
   "metadata": {
    "lang": "en"
   },
   "source": [
    "Create a manager named Sepp, personnel number 666, who is a\n",
    "base salary of 60000.0 euros and a bonus of 30000.0 euros. Print out\n",
    "the salary."
   ]
  },
  {
   "cell_type": "code",
   "execution_count": null,
   "id": "b58ad0c1",
   "metadata": {
    "lines_to_next_cell": 1,
    "tags": [
     "solution"
    ]
   },
   "outputs": [],
   "source": []
  },
  {
   "cell_type": "markdown",
   "id": "e439030e",
   "metadata": {
    "lang": "en"
   },
   "source": [
    "Solution without dataclasses:"
   ]
  },
  {
   "cell_type": "code",
   "execution_count": null,
   "id": "42b1ed17",
   "metadata": {
    "tags": [
     "solution"
    ]
   },
   "outputs": [],
   "source": []
  },
  {
   "cell_type": "code",
   "execution_count": null,
   "id": "cbab870d",
   "metadata": {
    "tags": [
     "solution"
    ]
   },
   "outputs": [],
   "source": []
  },
  {
   "cell_type": "code",
   "execution_count": null,
   "id": "77793efb",
   "metadata": {
    "tags": [
     "solution"
    ]
   },
   "outputs": [],
   "source": []
  },
  {
   "cell_type": "code",
   "execution_count": null,
   "id": "6b0fba0e",
   "metadata": {
    "tags": [
     "solution"
    ]
   },
   "outputs": [],
   "source": []
  },
  {
   "cell_type": "code",
   "execution_count": null,
   "id": "f9e5fab6",
   "metadata": {
    "lines_to_next_cell": 2,
    "tags": [
     "solution"
    ]
   },
   "outputs": [],
   "source": []
  },
  {
   "cell_type": "markdown",
   "id": "e035e2b9",
   "metadata": {
    "lang": "en"
   },
   "source": [
    "# Bank accounts\n",
    "\n",
    "Define a class `BankAccount` with an attribute `balance: float`\n",
    "and methods `deposit(amount: float)` and `withdraw(amount: float)`.\n",
    "\n",
    "*Note: For a more realistic implementation, `decimal.Decimal`\n",
    "can be used instead of `float`.*\n",
    "\n",
    "The class should throw an exception of type `ValueError` in the following cases:\n",
    "\n",
    "- If a new `BankAccount` with a negative `balance` is created.\n",
    "- If `deposit` is called with a negative value.\n",
    "- When `withdraw` is called with a negative value if by withdrawing the desired amount the `balance` attribute of the account would become negative."
   ]
  },
  {
   "cell_type": "code",
   "execution_count": null,
   "id": "4b70a8b7",
   "metadata": {
    "tags": [
     "solution"
    ]
   },
   "outputs": [],
   "source": []
  },
  {
   "cell_type": "markdown",
   "id": "f1e66a80",
   "metadata": {
    "lang": "en"
   },
   "source": [
    "Test the functionality of the class for both successful transactions, as well as for transactions that throw exceptions."
   ]
  },
  {
   "cell_type": "code",
   "execution_count": null,
   "id": "c1a887d2",
   "metadata": {
    "tags": [
     "solution"
    ]
   },
   "outputs": [],
   "source": []
  },
  {
   "cell_type": "code",
   "execution_count": null,
   "id": "4a08fd5e",
   "metadata": {
    "tags": [
     "solution"
    ]
   },
   "outputs": [],
   "source": []
  },
  {
   "cell_type": "code",
   "execution_count": null,
   "id": "16e80b40",
   "metadata": {
    "tags": [
     "solution"
    ]
   },
   "outputs": [],
   "source": []
  },
  {
   "cell_type": "code",
   "execution_count": null,
   "id": "b762e66c",
   "metadata": {
    "tags": [
     "solution"
    ]
   },
   "outputs": [],
   "source": []
  },
  {
   "cell_type": "code",
   "execution_count": null,
   "id": "1b79c557",
   "metadata": {
    "tags": [
     "solution"
    ]
   },
   "outputs": [],
   "source": []
  },
  {
   "cell_type": "code",
   "execution_count": null,
   "id": "ce21a760",
   "metadata": {
    "tags": [
     "solution"
    ]
   },
   "outputs": [],
   "source": []
  },
  {
   "cell_type": "code",
   "execution_count": null,
   "id": "3bc89217",
   "metadata": {
    "tags": [
     "solution"
    ]
   },
   "outputs": [],
   "source": []
  },
  {
   "cell_type": "code",
   "execution_count": null,
   "id": "1d46ba3d",
   "metadata": {
    "tags": [
     "solution"
    ]
   },
   "outputs": [],
   "source": []
  },
  {
   "cell_type": "markdown",
   "id": "5613a642",
   "metadata": {
    "lang": "en"
   },
   "source": [
    "# Reading and writing to files\n",
    "\n",
    "Write a function `write_text_to_file(text: str, file_name: str) -> None`, which writes the string `text` to the file `file_name` if it *does not* exist and which throws an exception of type `FileExistsError` if\n",
    "the file exists.\n",
    "\n",
    "*Note:* Note the possible values for the `mode` argument of `open()`."
   ]
  },
  {
   "cell_type": "code",
   "execution_count": null,
   "id": "cf5912c6",
   "metadata": {
    "tags": [
     "solution"
    ]
   },
   "outputs": [],
   "source": []
  },
  {
   "cell_type": "markdown",
   "id": "165115be",
   "metadata": {
    "lang": "en"
   },
   "source": [
    "Test the function by trying the text twice in a row\n",
    "`Python 3.8` to the file `my-private-file.txt`."
   ]
  },
  {
   "cell_type": "code",
   "execution_count": null,
   "id": "a9e010d1",
   "metadata": {
    "tags": [
     "solution"
    ]
   },
   "outputs": [],
   "source": []
  },
  {
   "cell_type": "code",
   "execution_count": null,
   "id": "01dc9c5c",
   "metadata": {
    "lines_to_next_cell": 2,
    "tags": [
     "solution"
    ]
   },
   "outputs": [],
   "source": []
  },
  {
   "cell_type": "markdown",
   "id": "dc0babf1",
   "metadata": {
    "lang": "en"
   },
   "source": [
    "Write a function `annotate_file(file_name: str) -> None` which\n",
    "- prints out the content of the file `file_name` followed by the text `(annotated version)`\n",
    "  on the screen, if the file exists\n",
    "- outputs the text `No file found, we will bill the time we spent searching.`\n",
    "  if the file doesn't exist\n",
    "  \n",
    "In both cases the text `Our invoice will be sent by mail.` is printed out."
   ]
  },
  {
   "cell_type": "code",
   "execution_count": null,
   "id": "fa2a0a29",
   "metadata": {
    "tags": [
     "solution"
    ]
   },
   "outputs": [],
   "source": []
  },
  {
   "cell_type": "code",
   "execution_count": null,
   "id": "eb07a5cf",
   "metadata": {
    "tags": [
     "solution"
    ]
   },
   "outputs": [],
   "source": []
  },
  {
   "cell_type": "code",
   "execution_count": null,
   "id": "3cef73e0",
   "metadata": {
    "lines_to_next_cell": 2,
    "tags": [
     "solution"
    ]
   },
   "outputs": [],
   "source": []
  },
  {
   "cell_type": "code",
   "execution_count": null,
   "id": "1363d24b",
   "metadata": {},
   "outputs": [],
   "source": []
  }
 ],
 "metadata": {
  "jupytext": {
   "encoding": "# -*- coding: utf-8 -*-",
   "formats": "ipynb"
  },
  "kernelspec": {
   "display_name": "Python 3 (ipykernel)",
   "language": "python",
   "name": "python3"
  }
 },
 "nbformat": 4,
 "nbformat_minor": 5
}
