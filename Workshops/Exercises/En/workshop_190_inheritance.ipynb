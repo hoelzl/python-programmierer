{
 "cells": [
  {
   "cell_type": "markdown",
   "id": "e13540e6",
   "metadata": {
    "lang": "en"
   },
   "source": [
    "# Inheritance\n",
    "\n",
    "In the following we will implement a class hierarchy for employees of a company:\n",
    "\n",
    "- Employees can be either workers or managers\n",
    "- Each employee of the company has a name, a personnel number and a\n",
    "  base salary\n",
    "- For each worker, the accumulated overtime and the hourly wage\n",
    "  are stored in attributes.\n",
    "- A worker's salary is calculated as 13/12 times the\n",
    "  base salary plus overtime pay\n",
    "- Each manager has an individual bonus\n",
    "- A manager's salary is calculated as 13/12 times the\n",
    "  base salary plus bonus\n",
    "\n",
    "Implement Python classes `Employee`, `Worker` and `Manager` with\n",
    "appropriate attributes and a method `salary()` that calculates the salary."
   ]
  },
  {
   "cell_type": "code",
   "execution_count": null,
   "id": "58cc73e9",
   "metadata": {
    "lines_to_next_cell": 1,
    "tags": [
     "solution"
    ]
   },
   "outputs": [],
   "source": []
  },
  {
   "cell_type": "code",
   "execution_count": null,
   "id": "78216b0a",
   "metadata": {
    "tags": [
     "solution"
    ]
   },
   "outputs": [],
   "source": []
  },
  {
   "cell_type": "code",
   "execution_count": null,
   "id": "449857da",
   "metadata": {
    "tags": [
     "solution"
    ]
   },
   "outputs": [],
   "source": []
  },
  {
   "cell_type": "code",
   "execution_count": null,
   "id": "d92d26ac",
   "metadata": {
    "tags": [
     "solution"
    ]
   },
   "outputs": [],
   "source": []
  },
  {
   "cell_type": "markdown",
   "id": "82d44f43",
   "metadata": {
    "lang": "en"
   },
   "source": [
    "Create a worker named Hans, personnel number 123, a base salary of 36000.0 Euros, who worked 3.5 hours of overtime at 40.0 euros each. Print out the salary."
   ]
  },
  {
   "cell_type": "code",
   "execution_count": null,
   "id": "725177e3",
   "metadata": {
    "tags": [
     "solution"
    ]
   },
   "outputs": [],
   "source": []
  },
  {
   "cell_type": "markdown",
   "id": "fc9c2e5b",
   "metadata": {
    "lang": "en"
   },
   "source": [
    "Write assertions to test the functionality of the class `Worker`."
   ]
  },
  {
   "cell_type": "code",
   "execution_count": null,
   "id": "3e5e7b9f",
   "metadata": {
    "tags": [
     "solution"
    ]
   },
   "outputs": [],
   "source": []
  },
  {
   "cell_type": "markdown",
   "id": "8107844b",
   "metadata": {
    "lang": "en"
   },
   "source": [
    "Create a manager named Sepp, personnel number 666, who is a\n",
    "base salary of 60000.0 euros and a bonus of 30000.0 euros. Print out\n",
    "the salary."
   ]
  },
  {
   "cell_type": "code",
   "execution_count": null,
   "id": "d3e7d2f0",
   "metadata": {
    "tags": [
     "solution"
    ]
   },
   "outputs": [],
   "source": []
  },
  {
   "cell_type": "markdown",
   "id": "9efed887",
   "metadata": {
    "lang": "en"
   },
   "source": [
    "Test the functionality of the class `Manager`."
   ]
  },
  {
   "cell_type": "code",
   "execution_count": null,
   "id": "578d6f18",
   "metadata": {
    "tags": [
     "solution"
    ]
   },
   "outputs": [],
   "source": []
  },
  {
   "cell_type": "markdown",
   "id": "5eccd3eb",
   "metadata": {
    "lang": "en"
   },
   "source": [
    "## Solution without dataclasses:"
   ]
  },
  {
   "cell_type": "code",
   "execution_count": null,
   "id": "72aa5bd2",
   "metadata": {
    "tags": [
     "solution"
    ]
   },
   "outputs": [],
   "source": []
  },
  {
   "cell_type": "code",
   "execution_count": null,
   "id": "77a6fc97",
   "metadata": {
    "tags": [
     "solution"
    ]
   },
   "outputs": [],
   "source": []
  },
  {
   "cell_type": "code",
   "execution_count": null,
   "id": "eca7aa05",
   "metadata": {
    "tags": [
     "solution"
    ]
   },
   "outputs": [],
   "source": []
  },
  {
   "cell_type": "code",
   "execution_count": null,
   "id": "b34dcc8e",
   "metadata": {
    "tags": [
     "solution"
    ]
   },
   "outputs": [],
   "source": []
  },
  {
   "cell_type": "code",
   "execution_count": null,
   "id": "0130903b",
   "metadata": {
    "lines_to_next_cell": 2,
    "tags": [
     "solution"
    ]
   },
   "outputs": [],
   "source": []
  },
  {
   "cell_type": "markdown",
   "id": "37924bef",
   "metadata": {
    "lang": "en"
   },
   "source": [
    "# Bank accounts\n",
    "\n",
    "Define a class `BankAccount` with an attribute `balance: float`\n",
    "and methods `deposit(amount: float)` and `withdraw(amount: float)`.\n",
    "\n",
    "*Note: For a more realistic implementation, `decimal.Decimal`\n",
    "can be used instead of `float`.*\n",
    "\n",
    "The class should throw an exception of type `ValueError` in the following cases:\n",
    "\n",
    "- If a new `BankAccount` with a negative `balance` is created.\n",
    "- If `deposit` is called with a negative value.\n",
    "- When `withdraw` is called with a negative value if by withdrawing the desired amount the `balance` attribute of the account would become negative."
   ]
  },
  {
   "cell_type": "code",
   "execution_count": null,
   "id": "08922432",
   "metadata": {
    "tags": [
     "solution"
    ]
   },
   "outputs": [],
   "source": []
  },
  {
   "cell_type": "markdown",
   "id": "c926ea1c",
   "metadata": {
    "lang": "en"
   },
   "source": [
    "Test the functionality of the class for both successful transactions, as well as for transactions that throw exceptions."
   ]
  },
  {
   "cell_type": "code",
   "execution_count": null,
   "id": "1ff8d8fd",
   "metadata": {
    "tags": [
     "solution"
    ]
   },
   "outputs": [],
   "source": []
  },
  {
   "cell_type": "code",
   "execution_count": null,
   "id": "05d23e39",
   "metadata": {
    "tags": [
     "solution"
    ]
   },
   "outputs": [],
   "source": []
  },
  {
   "cell_type": "code",
   "execution_count": null,
   "id": "a4d11b20",
   "metadata": {
    "tags": [
     "solution"
    ]
   },
   "outputs": [],
   "source": []
  },
  {
   "cell_type": "code",
   "execution_count": null,
   "id": "0cf4f181",
   "metadata": {
    "tags": [
     "solution"
    ]
   },
   "outputs": [],
   "source": []
  },
  {
   "cell_type": "code",
   "execution_count": null,
   "id": "d8280b90",
   "metadata": {
    "tags": [
     "solution"
    ]
   },
   "outputs": [],
   "source": []
  },
  {
   "cell_type": "code",
   "execution_count": null,
   "id": "0ad12c3f",
   "metadata": {
    "tags": [
     "solution"
    ]
   },
   "outputs": [],
   "source": []
  },
  {
   "cell_type": "code",
   "execution_count": null,
   "id": "2dfb6bd2",
   "metadata": {
    "tags": [
     "solution"
    ]
   },
   "outputs": [],
   "source": []
  },
  {
   "cell_type": "code",
   "execution_count": null,
   "id": "ce83972d",
   "metadata": {
    "tags": [
     "solution"
    ]
   },
   "outputs": [],
   "source": []
  },
  {
   "cell_type": "markdown",
   "id": "d2d46512",
   "metadata": {
    "lang": "en"
   },
   "source": [
    "## Solution without dataclasses:"
   ]
  },
  {
   "cell_type": "code",
   "execution_count": null,
   "id": "5dd331ee",
   "metadata": {
    "tags": [
     "solution"
    ]
   },
   "outputs": [],
   "source": []
  },
  {
   "cell_type": "code",
   "execution_count": null,
   "id": "63601e1f",
   "metadata": {
    "tags": [
     "solution"
    ]
   },
   "outputs": [],
   "source": []
  },
  {
   "cell_type": "code",
   "execution_count": null,
   "id": "d04de8a5",
   "metadata": {
    "tags": [
     "solution"
    ]
   },
   "outputs": [],
   "source": []
  },
  {
   "cell_type": "code",
   "execution_count": null,
   "id": "87bb4a2f",
   "metadata": {
    "tags": [
     "solution"
    ]
   },
   "outputs": [],
   "source": []
  },
  {
   "cell_type": "code",
   "execution_count": null,
   "id": "d9cd84b5",
   "metadata": {
    "tags": [
     "solution"
    ]
   },
   "outputs": [],
   "source": []
  },
  {
   "cell_type": "code",
   "execution_count": null,
   "id": "9f4af172",
   "metadata": {
    "tags": [
     "solution"
    ]
   },
   "outputs": [],
   "source": []
  },
  {
   "cell_type": "code",
   "execution_count": null,
   "id": "6b58aea0",
   "metadata": {
    "tags": [
     "solution"
    ]
   },
   "outputs": [],
   "source": []
  },
  {
   "cell_type": "code",
   "execution_count": null,
   "id": "fdcb4645",
   "metadata": {
    "tags": [
     "solution"
    ]
   },
   "outputs": [],
   "source": []
  },
  {
   "cell_type": "code",
   "execution_count": null,
   "id": "956d42dc",
   "metadata": {
    "tags": [
     "solution"
    ]
   },
   "outputs": [],
   "source": []
  },
  {
   "cell_type": "markdown",
   "id": "cbf2ca5b",
   "metadata": {
    "lang": "en"
   },
   "source": [
    "# Protocols\n",
    "\n",
    "Implement a runtime checkable protocol `SupportsConnect`,\n",
    "which describes instances of classes that have a method `connect(self, device)`."
   ]
  },
  {
   "cell_type": "code",
   "execution_count": null,
   "id": "c09e73ba",
   "metadata": {
    "lines_to_next_cell": 1,
    "tags": [
     "solution"
    ]
   },
   "outputs": [],
   "source": []
  },
  {
   "cell_type": "code",
   "execution_count": null,
   "id": "40117d4e",
   "metadata": {
    "tags": [
     "solution"
    ]
   },
   "outputs": [],
   "source": []
  },
  {
   "cell_type": "markdown",
   "id": "39ff90b7",
   "metadata": {
    "lang": "en"
   },
   "source": [
    "Implement classes `Plugboard` and `PatchCord` that support the `SupportsConnect` protocol."
   ]
  },
  {
   "cell_type": "code",
   "execution_count": null,
   "id": "a7fd00b6",
   "metadata": {
    "lines_to_next_cell": 1,
    "tags": [
     "solution"
    ]
   },
   "outputs": [],
   "source": []
  },
  {
   "cell_type": "code",
   "execution_count": null,
   "id": "3249aed9",
   "metadata": {
    "lines_to_next_cell": 1,
    "tags": [
     "solution"
    ]
   },
   "outputs": [],
   "source": []
  },
  {
   "cell_type": "code",
   "execution_count": null,
   "id": "bd0e1815",
   "metadata": {
    "lines_to_next_cell": 1,
    "tags": [
     "solution"
    ]
   },
   "outputs": [],
   "source": []
  },
  {
   "cell_type": "code",
   "execution_count": null,
   "id": "a264068d",
   "metadata": {
    "lines_to_next_cell": 1,
    "tags": [
     "solution"
    ]
   },
   "outputs": [],
   "source": []
  },
  {
   "cell_type": "markdown",
   "id": "35190bfe",
   "metadata": {
    "lang": "en"
   },
   "source": [
    "Does the following class comply with the `SupportsConnect` protocol? Is it possible to determine this at runtime?"
   ]
  },
  {
   "cell_type": "code",
   "execution_count": null,
   "id": "ae784daf",
   "metadata": {
    "lines_to_next_cell": 1
   },
   "outputs": [],
   "source": [
    "class SelfConnector:\n",
    "    def connect(self):\n",
    "        print(\"Connecting to self!\")"
   ]
  },
  {
   "cell_type": "code",
   "execution_count": null,
   "id": "622e3427",
   "metadata": {
    "tags": [
     "solution"
    ]
   },
   "outputs": [],
   "source": []
  },
  {
   "cell_type": "code",
   "execution_count": null,
   "id": "ec311140",
   "metadata": {},
   "outputs": [],
   "source": []
  }
 ],
 "metadata": {
  "jupytext": {
   "encoding": "# -*- coding: utf-8 -*-",
   "formats": "ipynb"
  },
  "kernelspec": {
   "display_name": "Python 3 (ipykernel)",
   "language": "python",
   "name": "python3"
  }
 },
 "nbformat": 4,
 "nbformat_minor": 5
}
