{
 "cells": [
  {
   "cell_type": "markdown",
   "id": "0aefe625",
   "metadata": {
    "lang": "en"
   },
   "source": [
    "# Operators, comparisons\n",
    "\n",
    "Is $2^{16}$ larger than $32\\,000\\,\\,/\\,\\,2$?"
   ]
  },
  {
   "cell_type": "code",
   "execution_count": null,
   "id": "39ed7439",
   "metadata": {
    "tags": [
     "solution"
    ]
   },
   "outputs": [],
   "source": []
  },
  {
   "cell_type": "markdown",
   "id": "8f6a7c3b",
   "metadata": {
    "lang": "en"
   },
   "source": [
    "Is $72$ divisible by $3$ without a remainder?"
   ]
  },
  {
   "cell_type": "code",
   "execution_count": null,
   "id": "92b1c5a6",
   "metadata": {
    "tags": [
     "solution"
    ]
   },
   "outputs": [],
   "source": []
  },
  {
   "cell_type": "markdown",
   "id": "4d748966",
   "metadata": {
    "lang": "en"
   },
   "source": [
    "Is $72$ an even number (i.e. divisible by 2 without remainder)?"
   ]
  },
  {
   "cell_type": "code",
   "execution_count": null,
   "id": "9aaa6bbe",
   "metadata": {
    "tags": [
     "solution"
    ]
   },
   "outputs": [],
   "source": []
  },
  {
   "cell_type": "markdown",
   "id": "b611f6e5",
   "metadata": {
    "lang": "en"
   },
   "source": [
    "Write a function `is_divisible_by(m,n)` which returns `True` if (and only if) `m` is divisible by `n`."
   ]
  },
  {
   "cell_type": "code",
   "execution_count": null,
   "id": "0560f9ec",
   "metadata": {
    "tags": [
     "solution"
    ]
   },
   "outputs": [],
   "source": []
  },
  {
   "cell_type": "markdown",
   "id": "0ef0ccb4",
   "metadata": {
    "lang": "en"
   },
   "source": [
    "Write a function `is_divisible_by_2_and_3(n)` that returns `True` if (and only if) `n` is divisible by $2$ and by $3$."
   ]
  },
  {
   "cell_type": "code",
   "execution_count": null,
   "id": "919ac6d4",
   "metadata": {
    "tags": [
     "solution"
    ]
   },
   "outputs": [],
   "source": []
  },
  {
   "cell_type": "code",
   "execution_count": null,
   "id": "409ed334",
   "metadata": {
    "tags": [
     "solution"
    ]
   },
   "outputs": [],
   "source": []
  },
  {
   "cell_type": "markdown",
   "id": "c2eaaf25",
   "metadata": {
    "lang": "en"
   },
   "source": [
    "Test whether $72$ is divisible by $2$ and by $3$."
   ]
  },
  {
   "cell_type": "code",
   "execution_count": null,
   "id": "e3125094",
   "metadata": {
    "tags": [
     "solution"
    ]
   },
   "outputs": [],
   "source": []
  },
  {
   "cell_type": "markdown",
   "id": "a41f1e92",
   "metadata": {
    "lang": "en"
   },
   "source": [
    "# Of legal age\n",
    "\n",
    "Write a function `print_of_age(age)` that prints `of_age` on the screen if `age >= 18` and `minor` otherwise."
   ]
  },
  {
   "cell_type": "code",
   "execution_count": null,
   "id": "577a4175",
   "metadata": {
    "tags": [
     "solution"
    ]
   },
   "outputs": [],
   "source": []
  },
  {
   "cell_type": "markdown",
   "id": "8cbdee53",
   "metadata": {
    "lang": "en"
   },
   "source": [
    "Test `print_of age(age)` with the values ​​17 and 18."
   ]
  },
  {
   "cell_type": "code",
   "execution_count": null,
   "id": "c4f14244",
   "metadata": {
    "tags": [
     "solution"
    ]
   },
   "outputs": [],
   "source": []
  },
  {
   "cell_type": "markdown",
   "id": "de0c7a87",
   "metadata": {
    "lang": "en"
   },
   "source": [
    "# Shopping List\n",
    "\n",
    "Define variables\n",
    "- `my_shopping list` holding a list containing the strings `tea` and `coffee`\n",
    "- `another_shopping list`, holding a different list also containing the strings `tea` and `coffee`"
   ]
  },
  {
   "cell_type": "code",
   "execution_count": null,
   "id": "5d399299",
   "metadata": {
    "tags": [
     "solution"
    ]
   },
   "outputs": [],
   "source": []
  },
  {
   "cell_type": "markdown",
   "id": "1e41632b",
   "metadata": {
    "lang": "en"
   },
   "source": [
    "Define a function `print_shopping_list(shopping_list)` that prints the shopping list passed as argument:\n",
    "\n",
    "```\n",
    "Shopping List:\n",
    "  tea\n",
    "  coffee\n",
    "```"
   ]
  },
  {
   "cell_type": "code",
   "execution_count": null,
   "id": "e5456027",
   "metadata": {
    "tags": [
     "solution"
    ]
   },
   "outputs": [],
   "source": []
  },
  {
   "cell_type": "markdown",
   "id": "e281bd39",
   "metadata": {
    "lang": "en"
   },
   "source": [
    "Test the function `print_shopping list(shopping list)` with both\n",
    "shopping lists."
   ]
  },
  {
   "cell_type": "code",
   "execution_count": null,
   "id": "78ae9bad",
   "metadata": {
    "tags": [
     "solution"
    ]
   },
   "outputs": [],
   "source": []
  },
  {
   "cell_type": "code",
   "execution_count": null,
   "id": "60d1ed0d",
   "metadata": {
    "tags": [
     "solution"
    ]
   },
   "outputs": [],
   "source": []
  },
  {
   "cell_type": "markdown",
   "id": "b102fba9",
   "metadata": {
    "lang": "en"
   },
   "source": [
    "Define a function `buy(product, shopping_list)`, that adds `product` to `shopping_list`."
   ]
  },
  {
   "cell_type": "code",
   "execution_count": null,
   "id": "e38da187",
   "metadata": {
    "tags": [
     "solution"
    ]
   },
   "outputs": [],
   "source": []
  },
  {
   "cell_type": "markdown",
   "id": "769cd8ec",
   "metadata": {
    "lang": "en"
   },
   "source": [
    "Add `butter` and `bread` to the shopping list `my_shopping_list`."
   ]
  },
  {
   "cell_type": "code",
   "execution_count": null,
   "id": "3917c842",
   "metadata": {
    "tags": [
     "solution"
    ]
   },
   "outputs": [],
   "source": []
  },
  {
   "cell_type": "markdown",
   "id": "041a0acd",
   "metadata": {
    "lang": "en"
   },
   "source": [
    "Print out both shopping lists again."
   ]
  },
  {
   "cell_type": "code",
   "execution_count": null,
   "id": "3070c5d2",
   "metadata": {
    "tags": [
     "solution"
    ]
   },
   "outputs": [],
   "source": []
  },
  {
   "cell_type": "code",
   "execution_count": null,
   "id": "e2877f75",
   "metadata": {
    "tags": [
     "solution"
    ]
   },
   "outputs": [],
   "source": []
  },
  {
   "cell_type": "markdown",
   "id": "4e752f8b",
   "metadata": {
    "lang": "en"
   },
   "source": [
    "What happens when you add `butter` and `bread` to the shopping list `my_shopping list` again?"
   ]
  },
  {
   "cell_type": "code",
   "execution_count": null,
   "id": "ac19df12",
   "metadata": {
    "tags": [
     "solution"
    ]
   },
   "outputs": [],
   "source": []
  },
  {
   "cell_type": "markdown",
   "id": "9c02f0f0",
   "metadata": {
    "lang": "en"
   },
   "source": [
    "# Printing square numbers\n",
    "\n",
    "Write a function `print_squares(m, n)` that prints the squares of the\n",
    "numbers between `m` and `n` (inclusive) in the following form:\n",
    "\n",
    "```\n",
    "The square of 5 is 25\n",
    "The square of 6 is 36\n",
    "The square of 7 is 49\n",
    "```"
   ]
  },
  {
   "cell_type": "code",
   "execution_count": null,
   "id": "cdc890f8",
   "metadata": {
    "tags": [
     "solution"
    ]
   },
   "outputs": [],
   "source": []
  },
  {
   "cell_type": "markdown",
   "id": "57de7134",
   "metadata": {
    "lang": "en"
   },
   "source": [
    "Test the function with arguments 5, 7"
   ]
  },
  {
   "cell_type": "code",
   "execution_count": null,
   "id": "59618f35",
   "metadata": {
    "tags": [
     "solution"
    ]
   },
   "outputs": [],
   "source": []
  },
  {
   "cell_type": "markdown",
   "id": "d93e29d9",
   "metadata": {
    "lang": "en"
   },
   "source": [
    "# Improved shopping list\n",
    "\n",
    "In this exercise we want to define an improved version of the shopping list\n",
    "in which both the shopping list and the entries are represented by\n",
    "user-defined data types. Every entry in the shopping list should contain\n",
    "the product to buy and the required amount.\n",
    "\n",
    "Define a class `Item`, with attributes for the product and quantity.\n",
    "`Item` should have a `__repr__` method that returns a representation of the item in an\n",
    "appropriate form."
   ]
  },
  {
   "cell_type": "code",
   "execution_count": null,
   "id": "14dff340",
   "metadata": {
    "tags": [
     "solution"
    ]
   },
   "outputs": [],
   "source": []
  },
  {
   "cell_type": "markdown",
   "id": "79471d24",
   "metadata": {
    "lang": "en"
   },
   "source": [
    "Create an item that represents 500g of coffee:"
   ]
  },
  {
   "cell_type": "code",
   "execution_count": null,
   "id": "b00abba8",
   "metadata": {
    "tags": [
     "solution"
    ]
   },
   "outputs": [],
   "source": []
  },
  {
   "cell_type": "markdown",
   "id": "61f1e0c6",
   "metadata": {
    "lang": "en"
   },
   "source": [
    "Define a class `ShoppingList` containing a list of `Item` instances:\n",
    "\n",
    "- The constructor `__init__(self, items=[])` creates a shopping list,\n",
    "  which contains the items `items` (each element of `items` should be an\n",
    "  `Item` instance).\n",
    "\n",
    "- The method `shopping_list.add_item(item: Item)` adds an `Item`\n",
    "  to `shopping_list`.\n",
    "\n",
    "- The `shopping_list.print()` method prints the shopping list.\n",
    "\n",
    "`ShoppingList` should have a `__repr__` method that converts the shopping list into\n",
    "  an appropriate form."
   ]
  },
  {
   "cell_type": "code",
   "execution_count": null,
   "id": "38302334",
   "metadata": {
    "tags": [
     "solution"
    ]
   },
   "outputs": [],
   "source": []
  },
  {
   "cell_type": "markdown",
   "id": "5c9fd721",
   "metadata": {
    "lang": "en"
   },
   "source": [
    "Define a variable `my_shopping_list` containing a shopping list with the following items:\n",
    "- 2 packets of tea,\n",
    "- 1 packet of coffee"
   ]
  },
  {
   "cell_type": "code",
   "execution_count": null,
   "id": "3b24677c",
   "metadata": {
    "tags": [
     "solution"
    ]
   },
   "outputs": [],
   "source": []
  },
  {
   "cell_type": "markdown",
   "id": "1d946d5f",
   "metadata": {
    "lang": "en"
   },
   "source": [
    "Print out `my_shopping list`."
   ]
  },
  {
   "cell_type": "code",
   "execution_count": null,
   "id": "feb2c419",
   "metadata": {
    "tags": [
     "solution"
    ]
   },
   "outputs": [],
   "source": []
  },
  {
   "cell_type": "code",
   "execution_count": null,
   "id": "be44b25a",
   "metadata": {
    "tags": [
     "solution"
    ]
   },
   "outputs": [],
   "source": []
  },
  {
   "cell_type": "markdown",
   "id": "a11d924c",
   "metadata": {
    "lang": "en"
   },
   "source": [
    "Add 250g butter and 1 loaf of bread to the shopping list\n",
    "`my_shopping list`."
   ]
  },
  {
   "cell_type": "code",
   "execution_count": null,
   "id": "4ba13840",
   "metadata": {
    "tags": [
     "solution"
    ]
   },
   "outputs": [],
   "source": []
  },
  {
   "cell_type": "markdown",
   "id": "5174cd91",
   "metadata": {
    "lang": "en"
   },
   "source": [
    "Print out the shopping list again."
   ]
  },
  {
   "cell_type": "code",
   "execution_count": null,
   "id": "20f3d7c4",
   "metadata": {
    "tags": [
     "solution"
    ]
   },
   "outputs": [],
   "source": []
  },
  {
   "cell_type": "markdown",
   "id": "a0eeded6",
   "metadata": {
    "lang": "en"
   },
   "source": [
    "What happens when you add `butter` and `bread` to `my_shopping list` again?"
   ]
  },
  {
   "cell_type": "code",
   "execution_count": null,
   "id": "9f96c917",
   "metadata": {
    "tags": [
     "solution"
    ]
   },
   "outputs": [],
   "source": []
  },
  {
   "cell_type": "code",
   "execution_count": null,
   "id": "90a06d01",
   "metadata": {
    "tags": [
     "solution"
    ]
   },
   "outputs": [],
   "source": []
  }
 ],
 "metadata": {
  "jupytext": {
   "encoding": "# -*- coding: utf-8 -*-",
   "formats": "ipynb"
  },
  "kernelspec": {
   "display_name": "Python 3 (ipykernel)",
   "language": "python",
   "name": "python3"
  }
 },
 "nbformat": 4,
 "nbformat_minor": 5
}
