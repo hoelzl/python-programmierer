{
 "cells": [
  {
   "cell_type": "markdown",
   "id": "eabbddef",
   "metadata": {
    "lang": "en"
   },
   "source": [
    "# Operators, comparisons\n",
    "\n",
    "Is $2^{16}$ larger than $32\\,000\\,\\,/\\,\\,2$?"
   ]
  },
  {
   "cell_type": "code",
   "execution_count": null,
   "id": "45064c06",
   "metadata": {
    "tags": [
     "solution"
    ]
   },
   "outputs": [],
   "source": []
  },
  {
   "cell_type": "markdown",
   "id": "721f2376",
   "metadata": {
    "lang": "en"
   },
   "source": [
    "Is $72$ divisible by $3$ without a remainder?"
   ]
  },
  {
   "cell_type": "code",
   "execution_count": null,
   "id": "40c8ee16",
   "metadata": {
    "tags": [
     "solution"
    ]
   },
   "outputs": [],
   "source": []
  },
  {
   "cell_type": "markdown",
   "id": "bfd7dd0a",
   "metadata": {
    "lang": "en"
   },
   "source": [
    "Is $72$ an even number (i.e. divisible by 2 without remainder)?"
   ]
  },
  {
   "cell_type": "code",
   "execution_count": null,
   "id": "3c9d16fc",
   "metadata": {
    "tags": [
     "solution"
    ]
   },
   "outputs": [],
   "source": []
  },
  {
   "cell_type": "markdown",
   "id": "280d8475",
   "metadata": {
    "lang": "en"
   },
   "source": [
    "Write a function `is_divisible_by(m,n)` which returns `True` if (and only if) `m` is divisible by `n`."
   ]
  },
  {
   "cell_type": "code",
   "execution_count": null,
   "id": "e5b5eb49",
   "metadata": {
    "tags": [
     "solution"
    ]
   },
   "outputs": [],
   "source": []
  },
  {
   "cell_type": "markdown",
   "id": "15005a6b",
   "metadata": {
    "lang": "en"
   },
   "source": [
    "Write a function `is_divisible_by_2_and_3(n)` that returns `True` if (and only if) `n` is divisible by $2$ and by $3$."
   ]
  },
  {
   "cell_type": "code",
   "execution_count": null,
   "id": "0366fcb6",
   "metadata": {
    "tags": [
     "solution"
    ]
   },
   "outputs": [],
   "source": []
  },
  {
   "cell_type": "code",
   "execution_count": null,
   "id": "5436aab3",
   "metadata": {
    "tags": [
     "solution"
    ]
   },
   "outputs": [],
   "source": []
  },
  {
   "cell_type": "markdown",
   "id": "5ad7152f",
   "metadata": {
    "lang": "en"
   },
   "source": [
    "Test whether $72$ is divisible by $2$ and by $3$."
   ]
  },
  {
   "cell_type": "code",
   "execution_count": null,
   "id": "36a484b3",
   "metadata": {
    "tags": [
     "solution"
    ]
   },
   "outputs": [],
   "source": []
  },
  {
   "cell_type": "markdown",
   "id": "cf5da030",
   "metadata": {
    "lang": "en"
   },
   "source": [
    "# Of legal age\n",
    "\n",
    "Write a function `print_of_age(age)` that prints `of_age` on the screen if `age >= 18` and `minor` otherwise."
   ]
  },
  {
   "cell_type": "code",
   "execution_count": null,
   "id": "55a332f9",
   "metadata": {
    "tags": [
     "solution"
    ]
   },
   "outputs": [],
   "source": []
  },
  {
   "cell_type": "markdown",
   "id": "a60b6d44",
   "metadata": {
    "lang": "en"
   },
   "source": [
    "Test `print_of age(age)` with the values ​​17 and 18."
   ]
  },
  {
   "cell_type": "code",
   "execution_count": null,
   "id": "5d5f118f",
   "metadata": {
    "tags": [
     "solution"
    ]
   },
   "outputs": [],
   "source": []
  },
  {
   "cell_type": "markdown",
   "id": "430529c9",
   "metadata": {
    "lang": "en"
   },
   "source": [
    "# Shopping List\n",
    "\n",
    "Define variables\n",
    "- `my_shopping list` holding a list containing the strings `tea` and `coffee`\n",
    "- `another_shopping list`, holding a different list also containing the strings `tea` and `coffee`"
   ]
  },
  {
   "cell_type": "code",
   "execution_count": null,
   "id": "78ba6b92",
   "metadata": {
    "tags": [
     "solution"
    ]
   },
   "outputs": [],
   "source": []
  },
  {
   "cell_type": "markdown",
   "id": "bd4ba50c",
   "metadata": {
    "lang": "en"
   },
   "source": [
    "Define a function `print_shopping_list(shopping_list)` that prints the shopping list passed as argument:\n",
    "\n",
    "```\n",
    "Shopping List:\n",
    "  tea\n",
    "  coffee\n",
    "```"
   ]
  },
  {
   "cell_type": "code",
   "execution_count": null,
   "id": "08452cd8",
   "metadata": {
    "tags": [
     "solution"
    ]
   },
   "outputs": [],
   "source": []
  },
  {
   "cell_type": "markdown",
   "id": "7acdc1ef",
   "metadata": {
    "lang": "en"
   },
   "source": [
    "Test the function `print_shopping list(shopping list)` with both\n",
    "shopping lists."
   ]
  },
  {
   "cell_type": "code",
   "execution_count": null,
   "id": "cb72dd1f",
   "metadata": {
    "tags": [
     "solution"
    ]
   },
   "outputs": [],
   "source": []
  },
  {
   "cell_type": "code",
   "execution_count": null,
   "id": "7900c1b7",
   "metadata": {
    "tags": [
     "solution"
    ]
   },
   "outputs": [],
   "source": []
  },
  {
   "cell_type": "markdown",
   "id": "3a848039",
   "metadata": {
    "lang": "en"
   },
   "source": [
    "Define a function `buy(product, shopping_list)`, that adds `product` to `shopping_list`."
   ]
  },
  {
   "cell_type": "code",
   "execution_count": null,
   "id": "38bf3c19",
   "metadata": {
    "tags": [
     "solution"
    ]
   },
   "outputs": [],
   "source": []
  },
  {
   "cell_type": "markdown",
   "id": "14374270",
   "metadata": {
    "lang": "en"
   },
   "source": [
    "Add `butter` and `bread` to the shopping list `my_shopping_list`."
   ]
  },
  {
   "cell_type": "code",
   "execution_count": null,
   "id": "466c7b86",
   "metadata": {
    "tags": [
     "solution"
    ]
   },
   "outputs": [],
   "source": []
  },
  {
   "cell_type": "markdown",
   "id": "4d71d498",
   "metadata": {
    "lang": "en"
   },
   "source": [
    "Print out both shopping lists again."
   ]
  },
  {
   "cell_type": "code",
   "execution_count": null,
   "id": "0204dca5",
   "metadata": {
    "tags": [
     "solution"
    ]
   },
   "outputs": [],
   "source": []
  },
  {
   "cell_type": "code",
   "execution_count": null,
   "id": "d7df6dcf",
   "metadata": {
    "tags": [
     "solution"
    ]
   },
   "outputs": [],
   "source": []
  },
  {
   "cell_type": "markdown",
   "id": "399c0663",
   "metadata": {
    "lang": "en"
   },
   "source": [
    "What happens when you add `butter` and `bread` to the shopping list `my_shopping list` again?"
   ]
  },
  {
   "cell_type": "code",
   "execution_count": null,
   "id": "c7178589",
   "metadata": {
    "tags": [
     "solution"
    ]
   },
   "outputs": [],
   "source": []
  },
  {
   "cell_type": "markdown",
   "id": "a629930a",
   "metadata": {
    "lang": "en"
   },
   "source": [
    "# Printing square numbers\n",
    "\n",
    "Write a function `print_squares(m, n)` that prints the squares of the\n",
    "numbers between `m` and `n` (inclusive) in the following form:\n",
    "\n",
    "```\n",
    "The square of 5 is 25\n",
    "The square of 6 is 36\n",
    "The square of 7 is 49\n",
    "```"
   ]
  },
  {
   "cell_type": "code",
   "execution_count": null,
   "id": "eb7d3ebd",
   "metadata": {
    "tags": [
     "solution"
    ]
   },
   "outputs": [],
   "source": []
  },
  {
   "cell_type": "markdown",
   "id": "c9e8eeb6",
   "metadata": {
    "lang": "en"
   },
   "source": [
    "Test the function with arguments 5, 7"
   ]
  },
  {
   "cell_type": "code",
   "execution_count": null,
   "id": "4657ef80",
   "metadata": {
    "tags": [
     "solution"
    ]
   },
   "outputs": [],
   "source": []
  },
  {
   "cell_type": "markdown",
   "id": "a0ed3c6e",
   "metadata": {
    "lang": "en"
   },
   "source": [
    "# Improved shopping list\n",
    "\n",
    "In this exercise we want to define an improved version of the shopping list\n",
    "in which both the shopping list and the entries are represented by\n",
    "user-defined data types. Every entry in the shopping list should contain\n",
    "the product to buy and the required amount.\n",
    "\n",
    "Define a class `Item`, with attributes for the product and quantity.\n",
    "`Item` should have a `__repr__` method that returns a representation of the item in an\n",
    "appropriate form."
   ]
  },
  {
   "cell_type": "code",
   "execution_count": null,
   "id": "286af9de",
   "metadata": {
    "tags": [
     "solution"
    ]
   },
   "outputs": [],
   "source": []
  },
  {
   "cell_type": "markdown",
   "id": "20b2f519",
   "metadata": {
    "lang": "en"
   },
   "source": [
    "Create an item that represents 500g of coffee:"
   ]
  },
  {
   "cell_type": "code",
   "execution_count": null,
   "id": "dde5b83b",
   "metadata": {
    "tags": [
     "solution"
    ]
   },
   "outputs": [],
   "source": []
  },
  {
   "cell_type": "markdown",
   "id": "fe9558a4",
   "metadata": {
    "lang": "en"
   },
   "source": [
    "Define a class `ShoppingList` containing a list of `Item` instances:\n",
    "\n",
    "- The constructor `__init__(self, items=[])` creates a shopping list,\n",
    "  which contains the items `items` (each element of `items` should be an\n",
    "  `Item` instance).\n",
    "\n",
    "- The method `shopping_list.add_item(item: Item)` adds an `Item`\n",
    "  to `shopping_list`.\n",
    "\n",
    "- The `shopping_list.print()` method prints the shopping list.\n",
    "\n",
    "`ShoppingList` should have a `__repr__` method that converts the shopping list into\n",
    "  an appropriate form."
   ]
  },
  {
   "cell_type": "code",
   "execution_count": null,
   "id": "c1392d1c",
   "metadata": {
    "tags": [
     "solution"
    ]
   },
   "outputs": [],
   "source": []
  },
  {
   "cell_type": "markdown",
   "id": "1d432d41",
   "metadata": {
    "lang": "en"
   },
   "source": [
    "Define a variable `my_shopping_list` containing a shopping list with the following items:\n",
    "- 2 packets of tea,\n",
    "- 1 packet of coffee"
   ]
  },
  {
   "cell_type": "code",
   "execution_count": null,
   "id": "0566ae62",
   "metadata": {
    "tags": [
     "solution"
    ]
   },
   "outputs": [],
   "source": []
  },
  {
   "cell_type": "markdown",
   "id": "19824baf",
   "metadata": {
    "lang": "en"
   },
   "source": [
    "Print out `my_shopping list`."
   ]
  },
  {
   "cell_type": "code",
   "execution_count": null,
   "id": "fc16fdfd",
   "metadata": {
    "tags": [
     "solution"
    ]
   },
   "outputs": [],
   "source": []
  },
  {
   "cell_type": "code",
   "execution_count": null,
   "id": "88039e94",
   "metadata": {
    "tags": [
     "solution"
    ]
   },
   "outputs": [],
   "source": []
  },
  {
   "cell_type": "markdown",
   "id": "3964c20b",
   "metadata": {
    "lang": "en"
   },
   "source": [
    "Add 250g butter and 1 loaf of bread to the shopping list\n",
    "`my_shopping list`."
   ]
  },
  {
   "cell_type": "code",
   "execution_count": null,
   "id": "c3369c65",
   "metadata": {
    "tags": [
     "solution"
    ]
   },
   "outputs": [],
   "source": []
  },
  {
   "cell_type": "markdown",
   "id": "3830efbc",
   "metadata": {
    "lang": "en"
   },
   "source": [
    "Print out the shopping list again."
   ]
  },
  {
   "cell_type": "code",
   "execution_count": null,
   "id": "84dad7c8",
   "metadata": {
    "tags": [
     "solution"
    ]
   },
   "outputs": [],
   "source": []
  },
  {
   "cell_type": "markdown",
   "id": "f51e2138",
   "metadata": {
    "lang": "en"
   },
   "source": [
    "What happens when you add `butter` and `bread` to `my_shopping list` again?"
   ]
  },
  {
   "cell_type": "code",
   "execution_count": null,
   "id": "7acec58c",
   "metadata": {
    "tags": [
     "solution"
    ]
   },
   "outputs": [],
   "source": []
  },
  {
   "cell_type": "code",
   "execution_count": null,
   "id": "a0c4ee4e",
   "metadata": {
    "tags": [
     "solution"
    ]
   },
   "outputs": [],
   "source": []
  }
 ],
 "metadata": {
  "jupytext": {
   "encoding": "# -*- coding: utf-8 -*-",
   "formats": "ipynb"
  },
  "kernelspec": {
   "display_name": "Python 3 (ipykernel)",
   "language": "python",
   "name": "python3"
  }
 },
 "nbformat": 4,
 "nbformat_minor": 5
}
