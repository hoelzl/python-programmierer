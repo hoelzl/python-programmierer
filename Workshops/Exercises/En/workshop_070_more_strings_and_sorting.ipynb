{
 "cells": [
  {
   "cell_type": "markdown",
   "id": "acbf759b",
   "metadata": {
    "lang": "en"
   },
   "source": [
    "# Shout\n",
    "\n",
    "Write a function `shout(text)` that will print `text` in upper case letters,\n",
    "followed by three exclamation marks on the screen."
   ]
  },
  {
   "cell_type": "code",
   "execution_count": null,
   "id": "2f49f290",
   "metadata": {
    "tags": [
     "solution"
    ]
   },
   "outputs": [],
   "source": []
  },
  {
   "cell_type": "markdown",
   "id": "ba9e741d",
   "metadata": {
    "lang": "en"
   },
   "source": [
    "Test the function with argument `\"Hello\"`"
   ]
  },
  {
   "cell_type": "code",
   "execution_count": null,
   "id": "8c5b6981",
   "metadata": {
    "tags": [
     "solution"
    ]
   },
   "outputs": [],
   "source": []
  },
  {
   "cell_type": "markdown",
   "id": "b255877a",
   "metadata": {
    "lang": "en"
   },
   "source": [
    "# Comparing strings"
   ]
  },
  {
   "cell_type": "markdown",
   "id": "01c57ab2",
   "metadata": {
    "lang": "en"
   },
   "source": [
    "Is `Abc` less than `aBC`?"
   ]
  },
  {
   "cell_type": "code",
   "execution_count": null,
   "id": "5bfb5b01",
   "metadata": {
    "tags": [
     "solution"
    ]
   },
   "outputs": [],
   "source": []
  },
  {
   "cell_type": "markdown",
   "id": "5543bedb",
   "metadata": {
    "lang": "en"
   },
   "source": [
    "Is `abc` less than `abcd` and simultaneously `abcd` less than `abd`?"
   ]
  },
  {
   "cell_type": "code",
   "execution_count": null,
   "id": "b8a4ead9",
   "metadata": {
    "tags": [
     "solution"
    ]
   },
   "outputs": [],
   "source": []
  },
  {
   "cell_type": "markdown",
   "id": "afd6b6f2",
   "metadata": {
    "lang": "en"
   },
   "source": [
    "# Greeting 1\n",
    "\n",
    "Write a function `print_greeting(name)` that does a personalized\n",
    "outputs a greeting, e.g.\n",
    "```\n",
    "Hello Hans!\n",
    "Nice to welcome you again today.\n",
    "We wish you a lot of fun, Hans.\n",
    "```\n",
    "To do this, use the `print()` function with one argument and string concatenation."
   ]
  },
  {
   "cell_type": "code",
   "execution_count": null,
   "id": "b80ab993",
   "metadata": {
    "tags": [
     "solution"
    ]
   },
   "outputs": [],
   "source": []
  },
  {
   "cell_type": "markdown",
   "id": "576fd880",
   "metadata": {
    "lang": "en"
   },
   "source": [
    "# Greeting 2\n",
    "\n",
    "Write a function `print_greeting_2(name)` that implements the functionality of `print_greeting(name)` using F-strings."
   ]
  },
  {
   "cell_type": "code",
   "execution_count": null,
   "id": "f2223d0b",
   "metadata": {
    "tags": [
     "solution"
    ]
   },
   "outputs": [],
   "source": []
  },
  {
   "cell_type": "markdown",
   "id": "0956cf33",
   "metadata": {
    "lang": "en"
   },
   "source": [
    "# Pirates, part 4\n",
    "\n",
    "The printout of the loot allocation and means\n",
    "`print_division_of_loot(doubloons, pirates)` uses too much paper.\n",
    "\n",
    "Implement a new version of the function containing the following text\n",
    "outputs:\n",
    "\n",
    "```\n",
    "Each of the 8 pirates gets 2 of the 17 gold doubloons. The captain receives an extra 1 gold doubloon.\n",
    "```\n",
    "or.\n",
    "```\n",
    "Each of the 8 pirates gets 2 of the 17 gold doubloons. The captain receives an extra 2 gold doubloons.\n",
    "```\n",
    "\n",
    "Use F-strings to generate the output texts. You can the\n",
    "use the following function to calculate the division of spoils:"
   ]
  },
  {
   "cell_type": "code",
   "execution_count": null,
   "id": "5c81069d",
   "metadata": {},
   "outputs": [],
   "source": [
    "def teile_beute_auf(dublonen, piraten):\n",
    "    dublonen_pro_pirat = dublonen // piraten\n",
    "    dublonen_kapitän = dublonen % piraten\n",
    "    return dublonen_pro_pirat, dublonen_kapitän"
   ]
  },
  {
   "cell_type": "code",
   "execution_count": null,
   "id": "0dcd8922",
   "metadata": {
    "tags": [
     "solution"
    ]
   },
   "outputs": [],
   "source": []
  },
  {
   "cell_type": "code",
   "execution_count": null,
   "id": "3d3eba01",
   "metadata": {
    "tags": [
     "solution"
    ]
   },
   "outputs": [],
   "source": []
  },
  {
   "cell_type": "code",
   "execution_count": null,
   "id": "17a77f2a",
   "metadata": {
    "tags": [
     "solution"
    ]
   },
   "outputs": [],
   "source": []
  },
  {
   "cell_type": "code",
   "execution_count": null,
   "id": "b3cda3f8",
   "metadata": {
    "tags": [
     "solution"
    ]
   },
   "outputs": [],
   "source": []
  }
 ],
 "metadata": {
  "jupytext": {
   "encoding": "# -*- coding: utf-8 -*-",
   "formats": "ipynb"
  },
  "kernelspec": {
   "display_name": "Python 3 (ipykernel)",
   "language": "python",
   "name": "python3"
  }
 },
 "nbformat": 4,
 "nbformat_minor": 5
}
