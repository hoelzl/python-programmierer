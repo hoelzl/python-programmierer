{
 "cells": [
  {
   "cell_type": "markdown",
   "id": "149034b8",
   "metadata": {
    "lang": "en"
   },
   "source": [
    "# Shout\n",
    "\n",
    "Write a function `shout(text)` that will print `text` in upper case letters,\n",
    "followed by three exclamation marks on the screen."
   ]
  },
  {
   "cell_type": "code",
   "execution_count": null,
   "id": "6adcbe59",
   "metadata": {
    "tags": [
     "solution"
    ]
   },
   "outputs": [],
   "source": []
  },
  {
   "cell_type": "markdown",
   "id": "a5941377",
   "metadata": {
    "lang": "en"
   },
   "source": [
    "Test the function with argument `\"Hello\"`"
   ]
  },
  {
   "cell_type": "code",
   "execution_count": null,
   "id": "b6e70297",
   "metadata": {
    "tags": [
     "solution"
    ]
   },
   "outputs": [],
   "source": []
  },
  {
   "cell_type": "markdown",
   "id": "a4e4975c",
   "metadata": {
    "lang": "en"
   },
   "source": [
    "# Comparing strings"
   ]
  },
  {
   "cell_type": "markdown",
   "id": "7fa63221",
   "metadata": {
    "lang": "en"
   },
   "source": [
    "Is `Abc` less than `aBC`?"
   ]
  },
  {
   "cell_type": "code",
   "execution_count": null,
   "id": "2df6aaa5",
   "metadata": {
    "tags": [
     "solution"
    ]
   },
   "outputs": [],
   "source": []
  },
  {
   "cell_type": "markdown",
   "id": "f8697a57",
   "metadata": {
    "lang": "en"
   },
   "source": [
    "Is `abc` less than `abcd` and simultaneously `abcd` less than `abd`?"
   ]
  },
  {
   "cell_type": "code",
   "execution_count": null,
   "id": "29f54e38",
   "metadata": {
    "tags": [
     "solution"
    ]
   },
   "outputs": [],
   "source": []
  },
  {
   "cell_type": "markdown",
   "id": "9a57955c",
   "metadata": {
    "lang": "en"
   },
   "source": [
    "# Greeting 1\n",
    "\n",
    "Write a function `print_greeting(name)` that does a personalized\n",
    "outputs a greeting, e.g.\n",
    "```\n",
    "Hello Hans!\n",
    "Nice to welcome you again today.\n",
    "We wish you a lot of fun, Hans.\n",
    "```\n",
    "To do this, use the `print()` function with one argument and string concatenation."
   ]
  },
  {
   "cell_type": "code",
   "execution_count": null,
   "id": "9b6166a0",
   "metadata": {
    "tags": [
     "solution"
    ]
   },
   "outputs": [],
   "source": []
  },
  {
   "cell_type": "markdown",
   "id": "66737463",
   "metadata": {
    "lang": "en"
   },
   "source": [
    "# Greeting 2\n",
    "\n",
    "Write a function `print_greeting_2(name)` that implements the functionality of `print_greeting(name)` using F-strings."
   ]
  },
  {
   "cell_type": "code",
   "execution_count": null,
   "id": "e787c0c9",
   "metadata": {
    "tags": [
     "solution"
    ]
   },
   "outputs": [],
   "source": []
  },
  {
   "cell_type": "markdown",
   "id": "46862fe0",
   "metadata": {
    "lang": "en"
   },
   "source": [
    "# Pirates, part 4\n",
    "\n",
    "The printout of the loot allocation and means\n",
    "`print_division_of_loot(doubloons, pirates)` uses too much paper.\n",
    "\n",
    "Implement a new version of the function containing the following text\n",
    "outputs:\n",
    "\n",
    "```\n",
    "Each of the 8 pirates gets 2 of the 17 gold doubloons. The captain receives an extra 1 gold doubloon.\n",
    "```\n",
    "or.\n",
    "```\n",
    "Each of the 8 pirates gets 2 of the 17 gold doubloons. The captain receives an extra 2 gold doubloons.\n",
    "```\n",
    "\n",
    "Use F-strings to generate the output texts. You can the\n",
    "use the following function to calculate the division of spoils:"
   ]
  },
  {
   "cell_type": "code",
   "execution_count": null,
   "id": "16a9ba64",
   "metadata": {},
   "outputs": [],
   "source": [
    "def teile_beute_auf(dublonen, piraten):\n",
    "    dublonen_pro_pirat = dublonen // piraten\n",
    "    dublonen_kapitän = dublonen % piraten\n",
    "    return dublonen_pro_pirat, dublonen_kapitän"
   ]
  },
  {
   "cell_type": "code",
   "execution_count": null,
   "id": "66b7c30a",
   "metadata": {
    "tags": [
     "solution"
    ]
   },
   "outputs": [],
   "source": []
  },
  {
   "cell_type": "code",
   "execution_count": null,
   "id": "8cbd8b3b",
   "metadata": {
    "tags": [
     "solution"
    ]
   },
   "outputs": [],
   "source": []
  },
  {
   "cell_type": "code",
   "execution_count": null,
   "id": "e31f44d3",
   "metadata": {
    "tags": [
     "solution"
    ]
   },
   "outputs": [],
   "source": []
  },
  {
   "cell_type": "code",
   "execution_count": null,
   "id": "31f2caf8",
   "metadata": {
    "tags": [
     "solution"
    ]
   },
   "outputs": [],
   "source": []
  }
 ],
 "metadata": {
  "jupytext": {
   "encoding": "# -*- coding: utf-8 -*-",
   "formats": "ipynb"
  },
  "kernelspec": {
   "display_name": "Python 3 (ipykernel)",
   "language": "python",
   "name": "python3"
  }
 },
 "nbformat": 4,
 "nbformat_minor": 5
}
