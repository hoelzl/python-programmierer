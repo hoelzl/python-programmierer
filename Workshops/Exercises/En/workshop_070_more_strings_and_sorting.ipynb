{
 "cells": [
  {
   "cell_type": "markdown",
   "id": "a8698320",
   "metadata": {
    "lang": "en"
   },
   "source": [
    "# Shout\n",
    "\n",
    "Write a function `shout(text)` that will print `text` in upper case letters,\n",
    "followed by three exclamation marks on the screen."
   ]
  },
  {
   "cell_type": "code",
   "execution_count": null,
   "id": "dc0af04b",
   "metadata": {
    "tags": [
     "solution"
    ]
   },
   "outputs": [],
   "source": []
  },
  {
   "cell_type": "markdown",
   "id": "163f9b0f",
   "metadata": {
    "lang": "en"
   },
   "source": [
    "Test the function with argument `\"Hello\"`"
   ]
  },
  {
   "cell_type": "code",
   "execution_count": null,
   "id": "3b2fac2e",
   "metadata": {
    "tags": [
     "solution"
    ]
   },
   "outputs": [],
   "source": []
  },
  {
   "cell_type": "markdown",
   "id": "eed88f3e",
   "metadata": {
    "lang": "en"
   },
   "source": [
    "# Comparing strings"
   ]
  },
  {
   "cell_type": "markdown",
   "id": "d271633a",
   "metadata": {
    "lang": "en"
   },
   "source": [
    "Is `Abc` less than `aBC`?"
   ]
  },
  {
   "cell_type": "code",
   "execution_count": null,
   "id": "28e89387",
   "metadata": {
    "tags": [
     "solution"
    ]
   },
   "outputs": [],
   "source": []
  },
  {
   "cell_type": "markdown",
   "id": "062db694",
   "metadata": {
    "lang": "en"
   },
   "source": [
    "Is `abc` less than `abcd` and simultaneously `abcd` less than `abd`?"
   ]
  },
  {
   "cell_type": "code",
   "execution_count": null,
   "id": "c1c91a2c",
   "metadata": {
    "tags": [
     "solution"
    ]
   },
   "outputs": [],
   "source": []
  },
  {
   "cell_type": "markdown",
   "id": "535743c4",
   "metadata": {
    "lang": "en"
   },
   "source": [
    "# Greeting 1\n",
    "\n",
    "Write a function `print_greeting(name)` that does a personalized\n",
    "outputs a greeting, e.g.\n",
    "```\n",
    "Hello Hans!\n",
    "Nice to welcome you again today.\n",
    "We wish you a lot of fun, Hans.\n",
    "```\n",
    "To do this, use the `print()` function with one argument and string concatenation."
   ]
  },
  {
   "cell_type": "code",
   "execution_count": null,
   "id": "22d2ece9",
   "metadata": {
    "tags": [
     "solution"
    ]
   },
   "outputs": [],
   "source": []
  },
  {
   "cell_type": "markdown",
   "id": "64b7c407",
   "metadata": {
    "lang": "en"
   },
   "source": [
    "# Greeting 2\n",
    "\n",
    "Write a function `print_greeting_2(name)` that implements the functionality of `print_greeting(name)` using F-strings."
   ]
  },
  {
   "cell_type": "code",
   "execution_count": null,
   "id": "d9425f7f",
   "metadata": {
    "tags": [
     "solution"
    ]
   },
   "outputs": [],
   "source": []
  },
  {
   "cell_type": "markdown",
   "id": "361a6f51",
   "metadata": {
    "lang": "en"
   },
   "source": [
    "# Pirates, part 4\n",
    "\n",
    "The printout of the loot allocation and means\n",
    "`print_division_of_loot(doubloons, pirates)` uses too much paper.\n",
    "\n",
    "Implement a new version of the function containing the following text\n",
    "outputs:\n",
    "\n",
    "```\n",
    "Each of the 8 pirates gets 2 of the 17 gold doubloons. The captain receives an extra 1 gold doubloon.\n",
    "```\n",
    "or.\n",
    "```\n",
    "Each of the 8 pirates gets 2 of the 17 gold doubloons. The captain receives an extra 2 gold doubloons.\n",
    "```\n",
    "\n",
    "Use F-strings to generate the output texts. You can the\n",
    "use the following function to calculate the division of spoils:"
   ]
  },
  {
   "cell_type": "code",
   "execution_count": null,
   "id": "183c6cc5",
   "metadata": {},
   "outputs": [],
   "source": [
    "def teile_beute_auf(dublonen, piraten):\n",
    "    dublonen_pro_pirat = dublonen // piraten\n",
    "    dublonen_kapitän = dublonen % piraten\n",
    "    return dublonen_pro_pirat, dublonen_kapitän"
   ]
  },
  {
   "cell_type": "code",
   "execution_count": null,
   "id": "5570bda3",
   "metadata": {
    "tags": [
     "solution"
    ]
   },
   "outputs": [],
   "source": []
  },
  {
   "cell_type": "code",
   "execution_count": null,
   "id": "d2a26c69",
   "metadata": {
    "tags": [
     "solution"
    ]
   },
   "outputs": [],
   "source": []
  },
  {
   "cell_type": "code",
   "execution_count": null,
   "id": "e332afe1",
   "metadata": {
    "tags": [
     "solution"
    ]
   },
   "outputs": [],
   "source": []
  },
  {
   "cell_type": "code",
   "execution_count": null,
   "id": "c7692d96",
   "metadata": {
    "tags": [
     "solution"
    ]
   },
   "outputs": [],
   "source": []
  }
 ],
 "metadata": {
  "jupytext": {
   "encoding": "# -*- coding: utf-8 -*-",
   "formats": "ipynb"
  },
  "kernelspec": {
   "display_name": "Python 3 (ipykernel)",
   "language": "python",
   "name": "python3"
  }
 },
 "nbformat": 4,
 "nbformat_minor": 5
}
