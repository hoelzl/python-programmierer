{
 "cells": [
  {
   "cell_type": "markdown",
   "id": "3b997a7f",
   "metadata": {
    "lang": "en"
   },
   "source": [
    "# Reading and writing to files\n",
    "\n",
    "Write a function `write_text_to_file(text: str, file_name: str) -> None`, which writes the string `text` to the file `file_name` if the file *does not* exist and throws an exception of type `FileExistsError`,\n",
    "if the file exists.\n",
    "\n",
    "*Note:* Note the possible values for the `mode` argument of `open()`."
   ]
  },
  {
   "cell_type": "code",
   "execution_count": null,
   "id": "9f5a3c0d",
   "metadata": {
    "tags": [
     "solution"
    ]
   },
   "outputs": [],
   "source": []
  },
  {
   "cell_type": "markdown",
   "id": "e2065657",
   "metadata": {
    "lang": "en"
   },
   "source": [
    "Test the function by trying to write the text `Python 3.8` to the file `my-private-file.txt` twice in a row."
   ]
  },
  {
   "cell_type": "code",
   "execution_count": null,
   "id": "1acaa015",
   "metadata": {
    "tags": [
     "solution"
    ]
   },
   "outputs": [],
   "source": []
  },
  {
   "cell_type": "code",
   "execution_count": null,
   "id": "a8097bf5",
   "metadata": {
    "tags": [
     "solution"
    ]
   },
   "outputs": [],
   "source": []
  },
  {
   "cell_type": "markdown",
   "id": "f77b9ada",
   "metadata": {
    "lang": "en"
   },
   "source": [
    "Write a function `annotate_file(file_name: str) -> None` which\n",
    "- prints out the content of the file `file_name` followed by the text `(annotated version)`\n",
    "  if the file exists\n",
    "- prints out the text `No file found, we will bill the time we spent searching.`\n",
    "  if the file doesn't exist\n",
    "\n",
    "In both cases the text `Our invoice will be sent by mail.` is printed out."
   ]
  },
  {
   "cell_type": "code",
   "execution_count": null,
   "id": "3d6f5cd2",
   "metadata": {
    "tags": [
     "solution"
    ]
   },
   "outputs": [],
   "source": []
  },
  {
   "cell_type": "code",
   "execution_count": null,
   "id": "42d3be8e",
   "metadata": {
    "tags": [
     "solution"
    ]
   },
   "outputs": [],
   "source": []
  },
  {
   "cell_type": "code",
   "execution_count": null,
   "id": "3f11e255",
   "metadata": {
    "tags": [
     "solution"
    ]
   },
   "outputs": [],
   "source": []
  }
 ],
 "metadata": {
  "jupytext": {
   "encoding": "# -*- coding: utf-8 -*-",
   "formats": "ipynb"
  },
  "kernelspec": {
   "display_name": "Python 3 (ipykernel)",
   "language": "python",
   "name": "python3"
  }
 },
 "nbformat": 4,
 "nbformat_minor": 5
}
