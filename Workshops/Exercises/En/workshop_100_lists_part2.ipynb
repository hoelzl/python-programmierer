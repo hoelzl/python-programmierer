{
 "cells": [
  {
   "cell_type": "markdown",
   "id": "5fe3241d",
   "metadata": {
    "lang": "en"
   },
   "source": [
    "# Colours\n",
    "\n",
    "Define a variable `colors` containing a list of the strings\n",
    "`Red`, `Green` and `Blue`."
   ]
  },
  {
   "cell_type": "code",
   "execution_count": null,
   "id": "54938267",
   "metadata": {
    "tags": [
     "solution"
    ]
   },
   "outputs": [],
   "source": []
  },
  {
   "cell_type": "markdown",
   "id": "51fbd204",
   "metadata": {
    "lang": "en"
   },
   "source": [
    "Check if the string `yellow` is in `colors`"
   ]
  },
  {
   "cell_type": "code",
   "execution_count": null,
   "id": "dfdb0a17",
   "metadata": {
    "tags": [
     "solution"
    ]
   },
   "outputs": [],
   "source": []
  },
  {
   "cell_type": "markdown",
   "id": "950acaeb",
   "metadata": {
    "lang": "en"
   },
   "source": [
    "Add `Yellow` to the colors."
   ]
  },
  {
   "cell_type": "code",
   "execution_count": null,
   "id": "cfb35197",
   "metadata": {
    "tags": [
     "solution"
    ]
   },
   "outputs": [],
   "source": []
  },
  {
   "cell_type": "markdown",
   "id": "6faad0fe",
   "metadata": {
    "lang": "en"
   },
   "source": [
    "Check again if `yellow` is included in the colors."
   ]
  },
  {
   "cell_type": "code",
   "execution_count": null,
   "id": "a33a8319",
   "metadata": {
    "tags": [
     "solution"
    ]
   },
   "outputs": [],
   "source": []
  },
  {
   "cell_type": "markdown",
   "id": "3d1f8257",
   "metadata": {
    "lang": "en"
   },
   "source": [
    "How many colors does the list stored in `colors` contain now?"
   ]
  },
  {
   "cell_type": "code",
   "execution_count": null,
   "id": "1b081190",
   "metadata": {
    "tags": [
     "solution"
    ]
   },
   "outputs": [],
   "source": []
  },
  {
   "cell_type": "markdown",
   "id": "e2db70fd",
   "metadata": {
    "lang": "en"
   },
   "source": [
    "Change the first element in `colors` to `dark red`"
   ]
  },
  {
   "cell_type": "code",
   "execution_count": null,
   "id": "73f34a66",
   "metadata": {
    "tags": [
     "solution"
    ]
   },
   "outputs": [],
   "source": []
  },
  {
   "cell_type": "markdown",
   "id": "b0f1f32f",
   "metadata": {
    "lang": "en"
   },
   "source": [
    "Add `Purple` as the second item in the list."
   ]
  },
  {
   "cell_type": "code",
   "execution_count": null,
   "id": "822f7dd8",
   "metadata": {
    "tags": [
     "solution"
    ]
   },
   "outputs": [],
   "source": []
  },
  {
   "cell_type": "markdown",
   "id": "c60809c3",
   "metadata": {
    "lang": "en"
   },
   "source": [
    "What is the third element of the `colors` list?"
   ]
  },
  {
   "cell_type": "code",
   "execution_count": null,
   "id": "090e48e6",
   "metadata": {
    "tags": [
     "solution"
    ]
   },
   "outputs": [],
   "source": []
  },
  {
   "cell_type": "markdown",
   "id": "12fe67d6",
   "metadata": {
    "lang": "en"
   },
   "source": [
    "Delete the second item of the `colors` list"
   ]
  },
  {
   "cell_type": "code",
   "execution_count": null,
   "id": "fb227555",
   "metadata": {
    "tags": [
     "solution"
    ]
   },
   "outputs": [],
   "source": []
  },
  {
   "cell_type": "markdown",
   "id": "43b9d0d3",
   "metadata": {
    "lang": "en"
   },
   "source": [
    "What is the third element of the `colors` list now?"
   ]
  },
  {
   "cell_type": "code",
   "execution_count": null,
   "id": "f674d668",
   "metadata": {
    "tags": [
     "solution"
    ]
   },
   "outputs": [],
   "source": []
  },
  {
   "cell_type": "markdown",
   "id": "87a1a0ff",
   "metadata": {
    "lang": "en"
   },
   "source": [
    "# Slicing"
   ]
  },
  {
   "cell_type": "code",
   "execution_count": null,
   "id": "c9d42324",
   "metadata": {},
   "outputs": [],
   "source": [
    "my_list = [0, 1, 2, 3, 4, 5, 6, 7, 8, 9]"
   ]
  },
  {
   "cell_type": "markdown",
   "id": "42d716b9",
   "metadata": {
    "lang": "en"
   },
   "source": [
    "Extract from `my_list` a list with all elements except the first two."
   ]
  },
  {
   "cell_type": "code",
   "execution_count": null,
   "id": "dce65017",
   "metadata": {
    "tags": [
     "solution"
    ]
   },
   "outputs": [],
   "source": []
  },
  {
   "cell_type": "markdown",
   "id": "b31fbb0b",
   "metadata": {
    "lang": "en"
   },
   "source": [
    "From `my_list` extract a list consisting of the 2nd and 3rd elements."
   ]
  },
  {
   "cell_type": "code",
   "execution_count": null,
   "id": "b11b1961",
   "metadata": {
    "tags": [
     "solution"
    ]
   },
   "outputs": [],
   "source": []
  },
  {
   "cell_type": "markdown",
   "id": "f0675e72",
   "metadata": {
    "lang": "en"
   },
   "source": [
    "Extract from `my_list` a new list containing all elements except the\n",
    "first and last contains."
   ]
  },
  {
   "cell_type": "code",
   "execution_count": null,
   "id": "44d99742",
   "metadata": {
    "tags": [
     "solution"
    ]
   },
   "outputs": [],
   "source": []
  },
  {
   "cell_type": "markdown",
   "id": "3776d42f",
   "metadata": {
    "lang": "en"
   },
   "source": [
    "# Finding in lists\n",
    "\n",
    "Write a function `find_first_even_number(list)` that returns the index of the first even number in a list of integers. If the list does not contain an even number, the function should return `None`."
   ]
  },
  {
   "cell_type": "code",
   "execution_count": null,
   "id": "09d72bd6",
   "metadata": {
    "tags": [
     "solution"
    ]
   },
   "outputs": [],
   "source": []
  },
  {
   "cell_type": "markdown",
   "id": "b57260c4",
   "metadata": {
    "lang": "en"
   },
   "source": [
    "Test the function for appropriate arguments."
   ]
  },
  {
   "cell_type": "code",
   "execution_count": null,
   "id": "bd4bee30",
   "metadata": {
    "tags": [
     "solution"
    ]
   },
   "outputs": [],
   "source": []
  },
  {
   "cell_type": "markdown",
   "id": "bd4aa8e3",
   "metadata": {
    "lang": "en"
   },
   "source": [
    "## Mean value of a list\n",
    "\n",
    "The mean of a list with $n$ elements $[x_0, \\dots, x_{n-1}]$ is\n",
    "defined as\n",
    "\n",
    "$$\\frac{x_0 + \\dots + x_{n-1}}{n}$$\n",
    "\n",
    "Write a function `mean(list)` that calculates the mean of a list."
   ]
  },
  {
   "cell_type": "code",
   "execution_count": null,
   "id": "fcfea60b",
   "metadata": {
    "tags": [
     "solution"
    ]
   },
   "outputs": [],
   "source": []
  },
  {
   "cell_type": "markdown",
   "id": "b19b5411",
   "metadata": {
    "lang": "en"
   },
   "source": [
    "Test the function for appropriate arguments."
   ]
  },
  {
   "cell_type": "code",
   "execution_count": null,
   "id": "c93204b7",
   "metadata": {
    "tags": [
     "solution"
    ]
   },
   "outputs": [],
   "source": []
  },
  {
   "cell_type": "code",
   "execution_count": null,
   "id": "d7a0d295",
   "metadata": {
    "tags": [
     "solution"
    ]
   },
   "outputs": [],
   "source": []
  },
  {
   "cell_type": "markdown",
   "id": "10c1ff03",
   "metadata": {
    "lang": "en"
   },
   "source": [
    "**Additional task:** The mean of the elements of a list can be calculated iteratively as follows:\n",
    "\n",
    "- The mean $m$ of the empty list is (by definition for this solution) 0\n",
    "- If we add the $n+1$-th element $x_{n+1}$, then the new mean is calculated as\n",
    "\n",
    "$$m \\leftarrow m + \\frac{1}{n+1}(x_{n+1} - m)$$\n",
    "\n",
    "Write a function `iterative_average(list)` that calculates the mean of a list iteratively."
   ]
  },
  {
   "cell_type": "code",
   "execution_count": null,
   "id": "2c8fac9e",
   "metadata": {
    "tags": [
     "solution"
    ]
   },
   "outputs": [],
   "source": []
  },
  {
   "cell_type": "code",
   "execution_count": null,
   "id": "5f538028",
   "metadata": {
    "tags": [
     "solution"
    ]
   },
   "outputs": [],
   "source": []
  },
  {
   "cell_type": "code",
   "execution_count": null,
   "id": "ed2be736",
   "metadata": {
    "tags": [
     "solution"
    ]
   },
   "outputs": [],
   "source": []
  },
  {
   "cell_type": "code",
   "execution_count": null,
   "id": "7b6cf404",
   "metadata": {
    "tags": [
     "solution"
    ]
   },
   "outputs": [],
   "source": []
  },
  {
   "cell_type": "code",
   "execution_count": null,
   "id": "509b8043",
   "metadata": {
    "tags": [
     "solution"
    ]
   },
   "outputs": [],
   "source": []
  },
  {
   "cell_type": "code",
   "execution_count": null,
   "id": "292a4d0c",
   "metadata": {
    "tags": [
     "solution"
    ]
   },
   "outputs": [],
   "source": []
  },
  {
   "cell_type": "code",
   "execution_count": null,
   "id": "9f164397",
   "metadata": {
    "tags": [
     "solution"
    ]
   },
   "outputs": [],
   "source": []
  },
  {
   "cell_type": "markdown",
   "id": "2f1b5142",
   "metadata": {
    "lang": "en"
   },
   "source": [
    "# Square numbers\n",
    "\n",
    "Given the following list of numbers."
   ]
  },
  {
   "cell_type": "code",
   "execution_count": null,
   "id": "4cdbb887",
   "metadata": {},
   "outputs": [],
   "source": [
    "numbers = [1, 7, 4, 87, 23]"
   ]
  },
  {
   "cell_type": "markdown",
   "id": "fad5afcc",
   "metadata": {
    "lang": "en"
   },
   "source": [
    "Create a new list containing the squares of the numbers in `numbers`."
   ]
  },
  {
   "cell_type": "code",
   "execution_count": null,
   "id": "09860f9f",
   "metadata": {
    "tags": [
     "solution"
    ]
   },
   "outputs": [],
   "source": []
  },
  {
   "cell_type": "markdown",
   "id": "8edff22b",
   "metadata": {
    "lang": "en"
   },
   "source": [
    "Write a function `square(numbers)` that returns a new list with the\n",
    "squares the numbers in `numbers`."
   ]
  },
  {
   "cell_type": "code",
   "execution_count": null,
   "id": "a69952e8",
   "metadata": {
    "tags": [
     "solution"
    ]
   },
   "outputs": [],
   "source": []
  },
  {
   "cell_type": "code",
   "execution_count": null,
   "id": "a1e3daf8",
   "metadata": {
    "tags": [
     "solution"
    ]
   },
   "outputs": [],
   "source": []
  },
  {
   "cell_type": "markdown",
   "id": "7f6648ec",
   "metadata": {
    "lang": "en"
   },
   "source": [
    "# Square numbers with list comprehension\n",
    "\n",
    "Create a new list with the squares of `numbers` using list comprehension."
   ]
  },
  {
   "cell_type": "code",
   "execution_count": null,
   "id": "03a58245",
   "metadata": {
    "tags": [
     "solution"
    ]
   },
   "outputs": [],
   "source": []
  },
  {
   "cell_type": "markdown",
   "id": "242beacb",
   "metadata": {
    "lang": "en"
   },
   "source": [
    "Implement the function `square(numbers)` using list comprehension."
   ]
  },
  {
   "cell_type": "code",
   "execution_count": null,
   "id": "778caa21",
   "metadata": {
    "tags": [
     "solution"
    ]
   },
   "outputs": [],
   "source": []
  },
  {
   "cell_type": "code",
   "execution_count": null,
   "id": "ce6c51bc",
   "metadata": {
    "tags": [
     "solution"
    ]
   },
   "outputs": [],
   "source": []
  },
  {
   "cell_type": "markdown",
   "id": "8cb49513",
   "metadata": {
    "lang": "en"
   },
   "source": [
    "# Filtering lists\n",
    "\n",
    "Given the following list of numbers:"
   ]
  },
  {
   "cell_type": "code",
   "execution_count": null,
   "id": "197e2efd",
   "metadata": {},
   "outputs": [],
   "source": [
    "numbers = [1, 183, 7, 4, 87, 10, 23, -12, 493, 11]"
   ]
  },
  {
   "cell_type": "markdown",
   "id": "c11c5d90",
   "metadata": {
    "lang": "en"
   },
   "source": [
    "Create a new list containing all numbers in `numbers` that are greater than 10."
   ]
  },
  {
   "cell_type": "code",
   "execution_count": null,
   "id": "ae2c7197",
   "metadata": {
    "tags": [
     "solution"
    ]
   },
   "outputs": [],
   "source": []
  },
  {
   "cell_type": "markdown",
   "id": "57fce03e",
   "metadata": {
    "lang": "en"
   },
   "source": [
    "Write a function `numbers_greater_than_10(numbers)` that returns a list containing the numbers from `numbers` that are greater than 10."
   ]
  },
  {
   "cell_type": "code",
   "execution_count": null,
   "id": "3b95eb46",
   "metadata": {
    "tags": [
     "solution"
    ]
   },
   "outputs": [],
   "source": []
  },
  {
   "cell_type": "code",
   "execution_count": null,
   "id": "377466c6",
   "metadata": {
    "tags": [
     "solution"
    ]
   },
   "outputs": [],
   "source": []
  },
  {
   "cell_type": "markdown",
   "id": "29d0c0dc",
   "metadata": {
    "lang": "en"
   },
   "source": [
    "# Filtering with list comprehension\n",
    "\n",
    "Create a new list containing all numbers in `numbers` that are larger\n",
    "than 10. Use list comprehension to do this."
   ]
  },
  {
   "cell_type": "code",
   "execution_count": null,
   "id": "81832235",
   "metadata": {
    "tags": [
     "solution"
    ]
   },
   "outputs": [],
   "source": []
  },
  {
   "cell_type": "markdown",
   "id": "d8ad8eb5",
   "metadata": {
    "lang": "en"
   },
   "source": [
    "Implement the function `numbers_greater_than_10(numbers)` using list comprehension."
   ]
  },
  {
   "cell_type": "code",
   "execution_count": null,
   "id": "1a8e01a8",
   "metadata": {
    "tags": [
     "solution"
    ]
   },
   "outputs": [],
   "source": []
  },
  {
   "cell_type": "code",
   "execution_count": null,
   "id": "f5a454d2",
   "metadata": {
    "tags": [
     "solution"
    ]
   },
   "outputs": [],
   "source": []
  },
  {
   "cell_type": "markdown",
   "id": "e8c1430c",
   "metadata": {
    "lang": "en"
   },
   "source": [
    "Write a function `square_of_numbers_less than_10(numbers)`,\n",
    "which returns a new list containing the squares of all numbers < 10\n",
    "contained in `numbers`."
   ]
  },
  {
   "cell_type": "code",
   "execution_count": null,
   "id": "7b563800",
   "metadata": {
    "tags": [
     "solution"
    ]
   },
   "outputs": [],
   "source": []
  },
  {
   "cell_type": "code",
   "execution_count": null,
   "id": "89c0d94b",
   "metadata": {},
   "outputs": [],
   "source": [
    "numbers"
   ]
  },
  {
   "cell_type": "code",
   "execution_count": null,
   "id": "297908a3",
   "metadata": {
    "tags": [
     "solution"
    ]
   },
   "outputs": [],
   "source": []
  },
  {
   "cell_type": "markdown",
   "id": "be802eac",
   "metadata": {
    "lang": "en"
   },
   "source": [
    "# Generators"
   ]
  },
  {
   "cell_type": "markdown",
   "id": "0464f65b",
   "metadata": {
    "lang": "en"
   },
   "source": [
    "## Square number generator\n",
    "\n",
    "Write a generator that produces the first 10 square numbers."
   ]
  },
  {
   "cell_type": "code",
   "execution_count": null,
   "id": "b68a686c",
   "metadata": {
    "tags": [
     "solution"
    ]
   },
   "outputs": [],
   "source": []
  },
  {
   "cell_type": "code",
   "execution_count": null,
   "id": "a4372161",
   "metadata": {
    "tags": [
     "solution"
    ]
   },
   "outputs": [],
   "source": []
  },
  {
   "cell_type": "markdown",
   "id": "a013305b",
   "metadata": {
    "lang": "en"
   },
   "source": [
    "## Take\n",
    "\n",
    "Write a function `take(n: int, it)` which takes an Iterable `it` as\n",
    "argument and returns a new iterable that successively returns the first `n`\n",
    "elements that `it` supplies."
   ]
  },
  {
   "cell_type": "code",
   "execution_count": null,
   "id": "9bd212a4",
   "metadata": {
    "tags": [
     "solution"
    ]
   },
   "outputs": [],
   "source": []
  },
  {
   "cell_type": "code",
   "execution_count": null,
   "id": "9acf594d",
   "metadata": {
    "tags": [
     "solution"
    ]
   },
   "outputs": [],
   "source": []
  },
  {
   "cell_type": "code",
   "execution_count": null,
   "id": "5ffc418c",
   "metadata": {
    "tags": [
     "solution"
    ]
   },
   "outputs": [],
   "source": []
  }
 ],
 "metadata": {
  "jupytext": {
   "encoding": "# -*- coding: utf-8 -*-",
   "formats": "ipynb"
  },
  "kernelspec": {
   "display_name": "Python 3 (ipykernel)",
   "language": "python",
   "name": "python3"
  }
 },
 "nbformat": 4,
 "nbformat_minor": 5
}
