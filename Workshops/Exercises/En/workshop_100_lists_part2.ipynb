{
 "cells": [
  {
   "cell_type": "code",
   "execution_count": null,
   "id": "880b53ff",
   "metadata": {
    "lines_to_next_cell": 0
   },
   "outputs": [],
   "source": []
  },
  {
   "cell_type": "markdown",
   "id": "d7465525",
   "metadata": {},
   "source": [
    "# Farben\n",
    "\n",
    "Definieren Sie eine Variable `farben`, die eine Liste mit den Strings\n",
    "`Rot`, `Grün` und `Blau` enthält."
   ]
  },
  {
   "cell_type": "code",
   "execution_count": null,
   "id": "18383318",
   "metadata": {
    "tags": [
     "solution"
    ]
   },
   "outputs": [],
   "source": []
  },
  {
   "cell_type": "markdown",
   "id": "ef81d948",
   "metadata": {},
   "source": [
    "Überprüfen Sie, ob der String `Gelb` in `farben` enthalten ist"
   ]
  },
  {
   "cell_type": "code",
   "execution_count": null,
   "id": "6cb7d244",
   "metadata": {
    "tags": [
     "solution"
    ]
   },
   "outputs": [],
   "source": []
  },
  {
   "cell_type": "markdown",
   "id": "fee5837e",
   "metadata": {},
   "source": [
    "Fügen Sie `Gelb` zu den Farben hinzu."
   ]
  },
  {
   "cell_type": "code",
   "execution_count": null,
   "id": "37cc17e6",
   "metadata": {
    "tags": [
     "solution"
    ]
   },
   "outputs": [],
   "source": []
  },
  {
   "cell_type": "markdown",
   "id": "127bb95e",
   "metadata": {},
   "source": [
    "Überprüfen Sie nochmals, ob `Gelb` in den Farben enthalten ist."
   ]
  },
  {
   "cell_type": "code",
   "execution_count": null,
   "id": "abafea47",
   "metadata": {
    "tags": [
     "solution"
    ]
   },
   "outputs": [],
   "source": []
  },
  {
   "cell_type": "markdown",
   "id": "b8762fd8",
   "metadata": {},
   "source": [
    "Wie viele Farben enthält die in `farben` gespeicherte Liste jetzt?"
   ]
  },
  {
   "cell_type": "code",
   "execution_count": null,
   "id": "beea1a64",
   "metadata": {
    "tags": [
     "solution"
    ]
   },
   "outputs": [],
   "source": []
  },
  {
   "cell_type": "markdown",
   "id": "4c8db60b",
   "metadata": {},
   "source": [
    "Ändern Sie das erste Element von `farben` in `Dunkelrot`"
   ]
  },
  {
   "cell_type": "code",
   "execution_count": null,
   "id": "1e2e6d34",
   "metadata": {
    "tags": [
     "solution"
    ]
   },
   "outputs": [],
   "source": []
  },
  {
   "cell_type": "markdown",
   "id": "9fc897a1",
   "metadata": {},
   "source": [
    "Fügen Sie `Lila` als zweites Element in die Liste ein."
   ]
  },
  {
   "cell_type": "code",
   "execution_count": null,
   "id": "0b4df141",
   "metadata": {
    "tags": [
     "solution"
    ]
   },
   "outputs": [],
   "source": []
  },
  {
   "cell_type": "markdown",
   "id": "8c66d43e",
   "metadata": {},
   "source": [
    "Was ist das dritte Element der Liste `farben`?"
   ]
  },
  {
   "cell_type": "code",
   "execution_count": null,
   "id": "a0272231",
   "metadata": {
    "tags": [
     "solution"
    ]
   },
   "outputs": [],
   "source": []
  },
  {
   "cell_type": "markdown",
   "id": "96b332d1",
   "metadata": {},
   "source": [
    "Löschen Sie das zweite Element der Liste `farben`"
   ]
  },
  {
   "cell_type": "code",
   "execution_count": null,
   "id": "e52b4bda",
   "metadata": {
    "tags": [
     "solution"
    ]
   },
   "outputs": [],
   "source": []
  },
  {
   "cell_type": "markdown",
   "id": "c5c1f20c",
   "metadata": {},
   "source": [
    "Was ist das dritte Element der Liste `farben` jetzt?"
   ]
  },
  {
   "cell_type": "code",
   "execution_count": null,
   "id": "4fdb8ff6",
   "metadata": {
    "tags": [
     "solution"
    ]
   },
   "outputs": [],
   "source": []
  },
  {
   "cell_type": "markdown",
   "id": "253e7a64",
   "metadata": {},
   "source": [
    "# Slicing"
   ]
  },
  {
   "cell_type": "code",
   "execution_count": null,
   "id": "671aeafd",
   "metadata": {},
   "outputs": [],
   "source": [
    "liste = [0, 1, 2, 3, 4, 5, 6, 7, 8, 9]"
   ]
  },
  {
   "cell_type": "markdown",
   "id": "eb88dd0a",
   "metadata": {},
   "source": [
    "Extrahieren Sie von `liste` eine Liste mit allen Elementen außer den ersten\n",
    "beiden."
   ]
  },
  {
   "cell_type": "code",
   "execution_count": null,
   "id": "3e65f874",
   "metadata": {
    "tags": [
     "solution"
    ]
   },
   "outputs": [],
   "source": []
  },
  {
   "cell_type": "markdown",
   "id": "2d66d1c3",
   "metadata": {},
   "source": [
    "Extrahieren Sie von `liste` eine Liste, die aus dem 2. und 3. Element besteht."
   ]
  },
  {
   "cell_type": "code",
   "execution_count": null,
   "id": "e951647e",
   "metadata": {
    "tags": [
     "solution"
    ]
   },
   "outputs": [],
   "source": []
  },
  {
   "cell_type": "markdown",
   "id": "f24b08a9",
   "metadata": {},
   "source": [
    "Extrahieren Sie von `liste` eine neue Liste, die alle Elemente außer dem\n",
    "ersten und dem letzten enthält."
   ]
  },
  {
   "cell_type": "code",
   "execution_count": null,
   "id": "73c6a214",
   "metadata": {
    "tags": [
     "solution"
    ]
   },
   "outputs": [],
   "source": []
  },
  {
   "cell_type": "markdown",
   "id": "a72e01be",
   "metadata": {},
   "source": [
    "# Finden in Listen\n",
    "\n",
    "Schreiben Sie eine Funktion `finde_erste_gerade_zahl(liste)`, die den Index\n",
    "der ersten geraden Zahl in einer Liste von ganzen Zahlen zurückgibt. Falls\n",
    "die Liste keine gerade Zahl enthält soll die Funktion `None` zurückgeben."
   ]
  },
  {
   "cell_type": "code",
   "execution_count": null,
   "id": "d6b62125",
   "metadata": {
    "tags": [
     "solution"
    ]
   },
   "outputs": [],
   "source": []
  },
  {
   "cell_type": "markdown",
   "id": "c9bf75ab",
   "metadata": {},
   "source": [
    "Testen Sie die Funktion für geeignete Argumente."
   ]
  },
  {
   "cell_type": "code",
   "execution_count": null,
   "id": "214499b5",
   "metadata": {
    "tags": [
     "solution"
    ]
   },
   "outputs": [],
   "source": []
  },
  {
   "cell_type": "markdown",
   "id": "de4b9b2e",
   "metadata": {},
   "source": [
    "## Mittelwert einer Liste\n",
    "\n",
    "Der Mittelwert einer Liste mit $n$ Elementen $[x_0, \\dots, x_{n-1}]$ ist\n",
    "definiert als\n",
    "\n",
    "$$\\frac{x_0 + \\dots + x_{n-1}}{n}$$\n",
    "\n",
    "Schreiben Sie eine Funktion `mittelwert(liste)`, die den Mittelwert einer\n",
    "Liste berechnet."
   ]
  },
  {
   "cell_type": "code",
   "execution_count": null,
   "id": "b522b8a9",
   "metadata": {
    "tags": [
     "solution"
    ]
   },
   "outputs": [],
   "source": []
  },
  {
   "cell_type": "markdown",
   "id": "8ad78428",
   "metadata": {
    "pycharm": {
     "name": "#%% md\n"
    }
   },
   "source": [
    "Testen Sie die Funktion für geeignete Argumente."
   ]
  },
  {
   "cell_type": "code",
   "execution_count": null,
   "id": "13a0a986",
   "metadata": {
    "tags": [
     "solution"
    ]
   },
   "outputs": [],
   "source": []
  },
  {
   "cell_type": "code",
   "execution_count": null,
   "id": "89458705",
   "metadata": {
    "tags": [
     "solution"
    ]
   },
   "outputs": [],
   "source": []
  },
  {
   "cell_type": "markdown",
   "id": "7e78100f",
   "metadata": {},
   "source": [
    "**Zusatzaufgabe:** Der Mittelwert der Elemente einer Liste kann iterativ\n",
    "folgendermaßen berechnet werden:\n",
    "\n",
    "- Der Mittelwert $m$ der leeren Liste ist (per Definition für diese Lösung) 0\n",
    "- Wenn wir das $n+1$-te Element $x_{n+1}$ hinzufügen, so wird der neue\n",
    "  Mittelwert berechnet als\n",
    "\n",
    "$$m \\leftarrow m + \\frac{1}{n+1}(x_{n+1} - m)$$\n",
    "\n",
    "Schreiben Sie eine Funktion `iterativer_mittelwert(liste)`, die den\n",
    "Mittelwert einer Liste iterativ berechnet.\n"
   ]
  },
  {
   "cell_type": "code",
   "execution_count": null,
   "id": "bb873f7f",
   "metadata": {
    "tags": [
     "solution"
    ]
   },
   "outputs": [],
   "source": []
  },
  {
   "cell_type": "code",
   "execution_count": null,
   "id": "11de0c26",
   "metadata": {
    "tags": [
     "solution"
    ]
   },
   "outputs": [],
   "source": []
  },
  {
   "cell_type": "code",
   "execution_count": null,
   "id": "22d811da",
   "metadata": {
    "tags": [
     "solution"
    ]
   },
   "outputs": [],
   "source": []
  },
  {
   "cell_type": "code",
   "execution_count": null,
   "id": "0ff12cc4",
   "metadata": {
    "tags": [
     "solution"
    ]
   },
   "outputs": [],
   "source": []
  },
  {
   "cell_type": "code",
   "execution_count": null,
   "id": "1a809b2e",
   "metadata": {
    "tags": [
     "solution"
    ]
   },
   "outputs": [],
   "source": []
  },
  {
   "cell_type": "code",
   "execution_count": null,
   "id": "1482e264",
   "metadata": {
    "tags": [
     "solution"
    ]
   },
   "outputs": [],
   "source": []
  },
  {
   "cell_type": "code",
   "execution_count": null,
   "id": "b7869358",
   "metadata": {
    "tags": [
     "solution"
    ]
   },
   "outputs": [],
   "source": []
  },
  {
   "cell_type": "markdown",
   "id": "4e9ef7ad",
   "metadata": {},
   "source": [
    "# Quadratzahlen\n",
    "\n",
    "Gegeben sei die folgende Liste mit Zahlen."
   ]
  },
  {
   "cell_type": "code",
   "execution_count": null,
   "id": "fadd9f35",
   "metadata": {},
   "outputs": [],
   "source": [
    "zahlen = [1, 7, 4, 87, 23]"
   ]
  },
  {
   "cell_type": "markdown",
   "id": "8b9426af",
   "metadata": {},
   "source": [
    "Erzeugen Sie eine neue Liste, die die Quadrate der Zahlen in `zahlen` enthält."
   ]
  },
  {
   "cell_type": "code",
   "execution_count": null,
   "id": "ff2d57bf",
   "metadata": {
    "tags": [
     "solution"
    ]
   },
   "outputs": [],
   "source": []
  },
  {
   "cell_type": "markdown",
   "id": "d8fb0975",
   "metadata": {},
   "source": [
    "Schreiben Sie eine Funktion `quadriere(zahlen)`, die eine neue Liste mit den\n",
    "Quadraten der Zahlen in `zahlen` zurückgibt."
   ]
  },
  {
   "cell_type": "code",
   "execution_count": null,
   "id": "799b2e17",
   "metadata": {
    "tags": [
     "solution"
    ]
   },
   "outputs": [],
   "source": []
  },
  {
   "cell_type": "code",
   "execution_count": null,
   "id": "826a54c2",
   "metadata": {
    "tags": [
     "solution"
    ]
   },
   "outputs": [],
   "source": []
  },
  {
   "cell_type": "markdown",
   "id": "1dc641c6",
   "metadata": {},
   "source": [
    "# Quadratzahlen mit Listen-Komprehension\n",
    "\n",
    "Erzeugen Sie eine neue Liste mit den Quadraten von `zahlen`. Verwenden Sie\n",
    "dazu eine Listen-Komprehension"
   ]
  },
  {
   "cell_type": "code",
   "execution_count": null,
   "id": "bb2d541f",
   "metadata": {
    "tags": [
     "solution"
    ]
   },
   "outputs": [],
   "source": []
  },
  {
   "cell_type": "markdown",
   "id": "53628275",
   "metadata": {},
   "source": [
    "Schreiben Sie die Funktion `quadriere(zahlen)` mit Listen-Komprehension."
   ]
  },
  {
   "cell_type": "code",
   "execution_count": null,
   "id": "3a1d6c3e",
   "metadata": {
    "tags": [
     "solution"
    ]
   },
   "outputs": [],
   "source": []
  },
  {
   "cell_type": "code",
   "execution_count": null,
   "id": "d0d1c6b8",
   "metadata": {
    "tags": [
     "solution"
    ]
   },
   "outputs": [],
   "source": []
  },
  {
   "cell_type": "markdown",
   "id": "317ececc",
   "metadata": {},
   "source": [
    "# Filtern\n",
    "\n",
    "Gegeben sei die folgende Liste mit Zahlen:"
   ]
  },
  {
   "cell_type": "code",
   "execution_count": null,
   "id": "d30aabd4",
   "metadata": {},
   "outputs": [],
   "source": [
    "zahlen = [1, 183, 7, 4, 87, 10, 23, -12, 493, 11]"
   ]
  },
  {
   "cell_type": "markdown",
   "id": "1c0b20fc",
   "metadata": {},
   "source": [
    "Erzeugen Sie eine neue Liste, die alle Zahlen in `zahlen` enthält, die größer als 10 sind."
   ]
  },
  {
   "cell_type": "code",
   "execution_count": null,
   "id": "a549c6ac",
   "metadata": {
    "tags": [
     "solution"
    ]
   },
   "outputs": [],
   "source": []
  },
  {
   "cell_type": "markdown",
   "id": "edaef858",
   "metadata": {},
   "source": [
    "Schreiben Sie eine Funktion `zahlen_größer_als_10(zahlen)`, die eine neue\n",
    "Liste zurückgibt, die die Zahlen aus `zahlen` enthält, die größer als 10 sind."
   ]
  },
  {
   "cell_type": "code",
   "execution_count": null,
   "id": "cf9e3fff",
   "metadata": {
    "tags": [
     "solution"
    ]
   },
   "outputs": [],
   "source": []
  },
  {
   "cell_type": "code",
   "execution_count": null,
   "id": "9f49f2ee",
   "metadata": {
    "tags": [
     "solution"
    ]
   },
   "outputs": [],
   "source": []
  },
  {
   "cell_type": "markdown",
   "id": "6f838e0f",
   "metadata": {},
   "source": [
    "# Filtern mit Listen-Komprehension\n",
    "\n",
    "Erzeugen Sie eine neue Liste, die alle Zahlen in `zahlen` enthält, die größer\n",
    "als 10 sind. Verwenden Sie dazu Listen-Komprehension."
   ]
  },
  {
   "cell_type": "code",
   "execution_count": null,
   "id": "499b1eff",
   "metadata": {
    "tags": [
     "solution"
    ]
   },
   "outputs": [],
   "source": []
  },
  {
   "cell_type": "markdown",
   "id": "1efef0bb",
   "metadata": {},
   "source": [
    "Schreiben Sie die Funktion `zahlen_größer_als_10(zahlen)` mit\n",
    "Listen-Komprehension."
   ]
  },
  {
   "cell_type": "code",
   "execution_count": null,
   "id": "89f18748",
   "metadata": {
    "tags": [
     "solution"
    ]
   },
   "outputs": [],
   "source": []
  },
  {
   "cell_type": "code",
   "execution_count": null,
   "id": "4a56dc28",
   "metadata": {
    "tags": [
     "solution"
    ]
   },
   "outputs": [],
   "source": []
  },
  {
   "cell_type": "markdown",
   "id": "6f1ab4ae",
   "metadata": {},
   "source": [
    "\n",
    "Schreiben Sie eine Funktion `quadrate_von_zahlen_kleiner_10( zahlen)`,\n",
    "die eine neue Liste zurückgibt, die die Quadrate aller Zahlen < 10 aus\n",
    "`zahlen` enthält."
   ]
  },
  {
   "cell_type": "code",
   "execution_count": null,
   "id": "b7568a8f",
   "metadata": {
    "tags": [
     "solution"
    ]
   },
   "outputs": [],
   "source": []
  },
  {
   "cell_type": "code",
   "execution_count": null,
   "id": "264f7d11",
   "metadata": {},
   "outputs": [],
   "source": [
    "zahlen"
   ]
  },
  {
   "cell_type": "code",
   "execution_count": null,
   "id": "d5383b74",
   "metadata": {
    "tags": [
     "solution"
    ]
   },
   "outputs": [],
   "source": []
  },
  {
   "cell_type": "markdown",
   "id": "8abc4f36",
   "metadata": {},
   "source": [
    "# Generatoren"
   ]
  },
  {
   "cell_type": "markdown",
   "id": "231f9b56",
   "metadata": {},
   "source": [
    "## Generator für Quadratzahlen\n",
    "\n",
    "Schreiben Sie einen Generator, der die ersten 10 Quadratzahlen erzeugt."
   ]
  },
  {
   "cell_type": "code",
   "execution_count": null,
   "id": "9a8abb69",
   "metadata": {
    "tags": [
     "solution"
    ]
   },
   "outputs": [],
   "source": []
  },
  {
   "cell_type": "code",
   "execution_count": null,
   "id": "6cd3c4d2",
   "metadata": {
    "tags": [
     "solution"
    ]
   },
   "outputs": [],
   "source": []
  },
  {
   "cell_type": "markdown",
   "id": "f5d5841d",
   "metadata": {},
   "source": [
    "## Take\n",
    "\n",
    "Schreiben Sie eine Funktion `take(n: int, it)` die ein Iterable `it` als\n",
    "Argument bekommt und ein neues Iterable zurückgibt, das die ersten `n`\n",
    "Elemente von `it` liefert."
   ]
  },
  {
   "cell_type": "code",
   "execution_count": null,
   "id": "1bd2a413",
   "metadata": {
    "tags": [
     "solution"
    ]
   },
   "outputs": [],
   "source": []
  },
  {
   "cell_type": "code",
   "execution_count": null,
   "id": "a3fb80b4",
   "metadata": {
    "tags": [
     "solution"
    ]
   },
   "outputs": [],
   "source": []
  },
  {
   "cell_type": "code",
   "execution_count": null,
   "id": "1dda4fcd",
   "metadata": {
    "tags": [
     "solution"
    ]
   },
   "outputs": [],
   "source": []
  }
 ],
 "metadata": {
  "jupytext": {
   "encoding": "# -*- coding: utf-8 -*-",
   "formats": "ipynb"
  },
  "kernelspec": {
   "display_name": "Python 3 (ipykernel)",
   "language": "python",
   "name": "python3"
  }
 },
 "nbformat": 4,
 "nbformat_minor": 5
}
