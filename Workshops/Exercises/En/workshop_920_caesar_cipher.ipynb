{
 "cells": [
  {
   "cell_type": "markdown",
   "id": "08cd36e4",
   "metadata": {},
   "source": [
    "## Cäsar-Verschlüsselung\n",
    "\n",
    "Bei der Cäsar-Verschlüsselung werden die Buchstaben des zu verschlüsselnden\n",
    "Wortes im Alphabet um 3 Stellen verschoben, z.B. wird aus der Zeichenkette\n",
    "`ABC` die Zeichenkette `DEF`. Die letzten drei Buchstaben des Alphabets\n",
    "werden durch die ersten ersetzt, d.h. aus `XYZA` wird `ABCD`.\n",
    "\n",
    "Typischerweise wurden bei historischen Verschlüsselungsverfahren alle\n",
    "Buchstaben in Großbuchstaben umgewandelt. Leer- und Sonderzeichen werden\n",
    "ignoriert. So wird aus \"Ich kam, sah und siegte.\" der verschlüsselte Text\n",
    "\n",
    "```\n",
    "LFKNDPVDKXQGVLHJWH\n",
    "```"
   ]
  },
  {
   "cell_type": "markdown",
   "id": "20cd292c",
   "metadata": {},
   "source": [
    "\n",
    "Schreiben Sie eine Funktion `encode_char(c: str)`, die einen String `c`,\n",
    "der nur aus einem einzigen Zeichen besteht, folgendermaßen verschlüsselt:\n",
    "\n",
    "- ist `c` einer der Buchstaben `a` bis `z` oder `A` bis `Z` so wird er, falls\n",
    "  nötig, in einen Großbuchstaben umgewandelt und mit der Cäsar-Verschlüsselung\n",
    "  verschlüsselt;\n",
    "- ist `c` eine Ziffer, so wird sie unverändert zurückgegeben;\n",
    "- andernfalls wird der leere String `\"\"` zurückgegeben.\n",
    "\n",
    "*Hinweis:* Die folgenden beiden Strings sind dabei hilfreich:"
   ]
  },
  {
   "cell_type": "code",
   "execution_count": null,
   "id": "f611fa90",
   "metadata": {
    "tags": [
     "solution"
    ]
   },
   "outputs": [],
   "source": []
  },
  {
   "cell_type": "code",
   "execution_count": null,
   "id": "21382ce7",
   "metadata": {
    "tags": [
     "solution"
    ]
   },
   "outputs": [],
   "source": []
  },
  {
   "cell_type": "markdown",
   "id": "ac4d6e25",
   "metadata": {},
   "source": [
    "Testen Sie Ihre Implementierung mit einigen Werten"
   ]
  },
  {
   "cell_type": "code",
   "execution_count": null,
   "id": "ee7f5d7d",
   "metadata": {
    "tags": [
     "solution"
    ]
   },
   "outputs": [],
   "source": []
  },
  {
   "cell_type": "code",
   "execution_count": null,
   "id": "a7184842",
   "metadata": {
    "tags": [
     "solution"
    ]
   },
   "outputs": [],
   "source": []
  },
  {
   "cell_type": "code",
   "execution_count": null,
   "id": "3f0f10b5",
   "metadata": {
    "tags": [
     "solution"
    ]
   },
   "outputs": [],
   "source": []
  },
  {
   "cell_type": "code",
   "execution_count": null,
   "id": "9faf69a1",
   "metadata": {
    "tags": [
     "solution"
    ]
   },
   "outputs": [],
   "source": []
  },
  {
   "cell_type": "markdown",
   "id": "b3e2b93e",
   "metadata": {},
   "source": [
    "\n",
    "Schreiben Sie eine Funktion `encode_caesar(text: str)`, die einen String\n",
    "`text` mittels der Cäsar-Verschlüsselung verschlüsselt."
   ]
  },
  {
   "cell_type": "code",
   "execution_count": null,
   "id": "edfe7a1c",
   "metadata": {
    "tags": [
     "solution"
    ]
   },
   "outputs": [],
   "source": []
  },
  {
   "cell_type": "markdown",
   "id": "2ca10bab",
   "metadata": {},
   "source": [
    "Überprüfen Sie Ihr Programm mit den folgenden Beispielen:"
   ]
  },
  {
   "cell_type": "code",
   "execution_count": null,
   "id": "297e69c1",
   "metadata": {
    "tags": [
     "solution"
    ]
   },
   "outputs": [],
   "source": []
  },
  {
   "cell_type": "code",
   "execution_count": null,
   "id": "312a85cd",
   "metadata": {
    "tags": [
     "solution"
    ]
   },
   "outputs": [],
   "source": []
  },
  {
   "cell_type": "code",
   "execution_count": null,
   "id": "a3504552",
   "metadata": {
    "tags": [
     "solution"
    ]
   },
   "outputs": [],
   "source": []
  },
  {
   "cell_type": "code",
   "execution_count": null,
   "id": "028cbe75",
   "metadata": {
    "tags": [
     "solution"
    ]
   },
   "outputs": [],
   "source": []
  },
  {
   "cell_type": "markdown",
   "id": "8bb9c2ee",
   "metadata": {},
   "source": [
    "\n",
    "Schreiben Sie jetzt Funktionen `decode_char(c: str)` und `decode_caesar(\n",
    "text: str)`, die einen mit der Cäsar-Verschlüsselung verschlüsselten Text\n",
    "entschlüsseln. Um robust zu sein sollen diese Funktionen Zeichen, die nicht\n",
    "Buchstaben oder Ziffern sind unverändert zurückgeben."
   ]
  },
  {
   "cell_type": "code",
   "execution_count": null,
   "id": "3069719c",
   "metadata": {
    "tags": [
     "solution"
    ]
   },
   "outputs": [],
   "source": []
  },
  {
   "cell_type": "code",
   "execution_count": null,
   "id": "20601d31",
   "metadata": {
    "tags": [
     "solution"
    ]
   },
   "outputs": [],
   "source": []
  },
  {
   "cell_type": "code",
   "execution_count": null,
   "id": "65226a28",
   "metadata": {
    "tags": [
     "solution"
    ]
   },
   "outputs": [],
   "source": []
  },
  {
   "cell_type": "markdown",
   "id": "bf384cf6",
   "metadata": {},
   "source": [
    "Testen Sie `decode_caesar()` mit `pangram` und `verlaine`."
   ]
  },
  {
   "cell_type": "code",
   "execution_count": null,
   "id": "a9cffbd7",
   "metadata": {
    "tags": [
     "solution"
    ]
   },
   "outputs": [],
   "source": []
  },
  {
   "cell_type": "code",
   "execution_count": null,
   "id": "d02307c1",
   "metadata": {
    "tags": [
     "solution"
    ]
   },
   "outputs": [],
   "source": []
  },
  {
   "cell_type": "code",
   "execution_count": null,
   "id": "e9b293e1",
   "metadata": {
    "tags": [
     "solution"
    ]
   },
   "outputs": [],
   "source": []
  },
  {
   "cell_type": "code",
   "execution_count": null,
   "id": "5141e77e",
   "metadata": {
    "tags": [
     "solution"
    ]
   },
   "outputs": [],
   "source": []
  },
  {
   "cell_type": "markdown",
   "id": "01a78f30",
   "metadata": {},
   "source": [
    "Entschlüsseln Sie den folgenden Text:\n",
    "```\n",
    "SDFN PB ERA ZLWK ILYH GRCHQ OLTXRU MXJV\n",
    "(SDQJUDP IURP QDVD'V VSDFH VKXWWOH SURJUDP)\n",
    "```"
   ]
  },
  {
   "cell_type": "code",
   "execution_count": null,
   "id": "f1b68eb7",
   "metadata": {
    "tags": [
     "solution"
    ]
   },
   "outputs": [],
   "source": []
  },
  {
   "cell_type": "markdown",
   "id": "77b67025",
   "metadata": {
    "pycharm": {
     "is_executing": false,
     "name": "#%% md\n"
    }
   },
   "source": [
    "Die Funktionen `encode_char()` und `decode_char()` enthalten viel duplizierten\n",
    "Code. Können Sie eine Funktion `rot_n_char(...)` schreiben, die die\n",
    "Funktionalität beider Funktionen verallgemeinert?"
   ]
  },
  {
   "cell_type": "code",
   "execution_count": null,
   "id": "c5c3d1ee",
   "metadata": {
    "tags": [
     "solution"
    ]
   },
   "outputs": [],
   "source": []
  },
  {
   "cell_type": "markdown",
   "id": "22731da2",
   "metadata": {},
   "source": [
    "\n",
    "Wie würden Sie `encode_caesar_2()` und `decode_caesar_2()` unter\n",
    "Zuhilfenahme dieser Funktion implementieren?"
   ]
  },
  {
   "cell_type": "code",
   "execution_count": null,
   "id": "83e86a45",
   "metadata": {
    "tags": [
     "solution"
    ]
   },
   "outputs": [],
   "source": []
  },
  {
   "cell_type": "code",
   "execution_count": null,
   "id": "f5894b64",
   "metadata": {
    "tags": [
     "solution"
    ]
   },
   "outputs": [],
   "source": []
  },
  {
   "cell_type": "markdown",
   "id": "bd376b88",
   "metadata": {},
   "source": [
    "Testen Sie die neue Funktion mittels `secret_text` und `verlaine`.\n",
    "Sind alte und neue Implementierung kompatibel?"
   ]
  },
  {
   "cell_type": "code",
   "execution_count": null,
   "id": "c6ac4bc6",
   "metadata": {
    "tags": [
     "solution"
    ]
   },
   "outputs": [],
   "source": []
  },
  {
   "cell_type": "code",
   "execution_count": null,
   "id": "bbf3d882",
   "metadata": {
    "tags": [
     "solution"
    ]
   },
   "outputs": [],
   "source": []
  },
  {
   "cell_type": "code",
   "execution_count": null,
   "id": "c12c4e82",
   "metadata": {
    "tags": [
     "solution"
    ]
   },
   "outputs": [],
   "source": []
  },
  {
   "cell_type": "code",
   "execution_count": null,
   "id": "ad80bb30",
   "metadata": {
    "tags": [
     "solution"
    ]
   },
   "outputs": [],
   "source": []
  },
  {
   "cell_type": "markdown",
   "id": "75bea10b",
   "metadata": {},
   "source": [
    "Die Decodierung mit dem ursprünglichen Cäsar-Code zeigt, dass unsere neue\n",
    "Implementierung einen Fehler hat: sie vermischt Zahlen und Buchstaben. Wie\n",
    "können wir den Fehler beseitigen?"
   ]
  },
  {
   "cell_type": "code",
   "execution_count": null,
   "id": "67b93e8f",
   "metadata": {
    "tags": [
     "solution"
    ]
   },
   "outputs": [],
   "source": []
  },
  {
   "cell_type": "code",
   "execution_count": null,
   "id": "6ad2ac7f",
   "metadata": {
    "tags": [
     "solution"
    ]
   },
   "outputs": [],
   "source": []
  },
  {
   "cell_type": "markdown",
   "id": "39c0eb5c",
   "metadata": {},
   "source": [
    "Testen Sie die neue Implementierung indem Sie `secret_text` decodieren."
   ]
  },
  {
   "cell_type": "code",
   "execution_count": null,
   "id": "244dabd7",
   "metadata": {
    "tags": [
     "solution"
    ]
   },
   "outputs": [],
   "source": []
  },
  {
   "cell_type": "markdown",
   "id": "29e37145",
   "metadata": {},
   "source": [
    "Testen Sie die neue Implementierung mit `verlaine`."
   ]
  },
  {
   "cell_type": "code",
   "execution_count": null,
   "id": "f5a3378c",
   "metadata": {
    "tags": [
     "solution"
    ]
   },
   "outputs": [],
   "source": []
  },
  {
   "cell_type": "code",
   "execution_count": null,
   "id": "ec7d2108",
   "metadata": {
    "tags": [
     "solution"
    ]
   },
   "outputs": [],
   "source": []
  },
  {
   "cell_type": "code",
   "execution_count": null,
   "id": "bb08dea4",
   "metadata": {
    "tags": [
     "solution"
    ]
   },
   "outputs": [],
   "source": []
  },
  {
   "cell_type": "code",
   "execution_count": null,
   "id": "627326de",
   "metadata": {
    "tags": [
     "solution"
    ]
   },
   "outputs": [],
   "source": []
  }
 ],
 "metadata": {
  "jupytext": {
   "encoding": "# -*- coding: utf-8 -*-",
   "formats": "ipynb"
  },
  "kernelspec": {
   "display_name": "Python 3 (ipykernel)",
   "language": "python",
   "name": "python3"
  }
 },
 "nbformat": 4,
 "nbformat_minor": 5
}
