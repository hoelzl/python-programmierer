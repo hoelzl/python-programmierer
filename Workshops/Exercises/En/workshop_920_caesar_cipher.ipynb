{
 "cells": [
  {
   "cell_type": "markdown",
   "id": "c536c76c",
   "metadata": {},
   "source": [
    "## Cäsar-Verschlüsselung\n",
    "\n",
    "Bei der Cäsar-Verschlüsselung werden die Buchstaben des zu verschlüsselnden\n",
    "Wortes im Alphabet um 3 Stellen verschoben, z.B. wird aus der Zeichenkette\n",
    "`ABC` die Zeichenkette `DEF`. Die letzten drei Buchstaben des Alphabets\n",
    "werden durch die ersten ersetzt, d.h. aus `XYZA` wird `ABCD`.\n",
    "\n",
    "Typischerweise wurden bei historischen Verschlüsselungsverfahren alle\n",
    "Buchstaben in Großbuchstaben umgewandelt. Leer- und Sonderzeichen werden\n",
    "ignoriert. So wird aus \"Ich kam, sah und siegte.\" der verschlüsselte Text\n",
    "\n",
    "```\n",
    "LFKNDPVDKXQGVLHJWH\n",
    "```"
   ]
  },
  {
   "cell_type": "markdown",
   "id": "fb4a58ec",
   "metadata": {},
   "source": [
    "\n",
    "Schreiben Sie eine Funktion `encode_char(c: str)`, die einen String `c`,\n",
    "der nur aus einem einzigen Zeichen besteht, folgendermaßen verschlüsselt:\n",
    "\n",
    "- ist `c` einer der Buchstaben `a` bis `z` oder `A` bis `Z` so wird er, falls\n",
    "  nötig, in einen Großbuchstaben umgewandelt und mit der Cäsar-Verschlüsselung\n",
    "  verschlüsselt;\n",
    "- ist `c` eine Ziffer, so wird sie unverändert zurückgegeben;\n",
    "- andernfalls wird der leere String `\"\"` zurückgegeben.\n",
    "\n",
    "*Hinweis:* Die folgenden beiden Strings sind dabei hilfreich:"
   ]
  },
  {
   "cell_type": "code",
   "execution_count": null,
   "id": "f23713bc",
   "metadata": {
    "tags": [
     "solution"
    ]
   },
   "outputs": [],
   "source": []
  },
  {
   "cell_type": "code",
   "execution_count": null,
   "id": "c2ca375c",
   "metadata": {
    "tags": [
     "solution"
    ]
   },
   "outputs": [],
   "source": []
  },
  {
   "cell_type": "markdown",
   "id": "c0028b5f",
   "metadata": {},
   "source": [
    "Testen Sie Ihre Implementierung mit einigen Werten"
   ]
  },
  {
   "cell_type": "code",
   "execution_count": null,
   "id": "eb74bddf",
   "metadata": {
    "tags": [
     "solution"
    ]
   },
   "outputs": [],
   "source": []
  },
  {
   "cell_type": "code",
   "execution_count": null,
   "id": "bb4f8abc",
   "metadata": {
    "tags": [
     "solution"
    ]
   },
   "outputs": [],
   "source": []
  },
  {
   "cell_type": "code",
   "execution_count": null,
   "id": "cc8b08f1",
   "metadata": {
    "tags": [
     "solution"
    ]
   },
   "outputs": [],
   "source": []
  },
  {
   "cell_type": "code",
   "execution_count": null,
   "id": "3874de74",
   "metadata": {
    "tags": [
     "solution"
    ]
   },
   "outputs": [],
   "source": []
  },
  {
   "cell_type": "markdown",
   "id": "a6690106",
   "metadata": {},
   "source": [
    "\n",
    "Schreiben Sie eine Funktion `encode_caesar(text: str)`, die einen String\n",
    "`text` mittels der Cäsar-Verschlüsselung verschlüsselt."
   ]
  },
  {
   "cell_type": "code",
   "execution_count": null,
   "id": "c6ff74e8",
   "metadata": {
    "tags": [
     "solution"
    ]
   },
   "outputs": [],
   "source": []
  },
  {
   "cell_type": "markdown",
   "id": "a39d4aef",
   "metadata": {},
   "source": [
    "Überprüfen Sie Ihr Programm mit den folgenden Beispielen:"
   ]
  },
  {
   "cell_type": "code",
   "execution_count": null,
   "id": "6bfac172",
   "metadata": {
    "tags": [
     "solution"
    ]
   },
   "outputs": [],
   "source": []
  },
  {
   "cell_type": "code",
   "execution_count": null,
   "id": "91f27489",
   "metadata": {
    "tags": [
     "solution"
    ]
   },
   "outputs": [],
   "source": []
  },
  {
   "cell_type": "code",
   "execution_count": null,
   "id": "aaac9e74",
   "metadata": {
    "tags": [
     "solution"
    ]
   },
   "outputs": [],
   "source": []
  },
  {
   "cell_type": "code",
   "execution_count": null,
   "id": "20a69f5d",
   "metadata": {
    "tags": [
     "solution"
    ]
   },
   "outputs": [],
   "source": []
  },
  {
   "cell_type": "markdown",
   "id": "105006b4",
   "metadata": {},
   "source": [
    "\n",
    "Schreiben Sie jetzt Funktionen `decode_char(c: str)` und `decode_caesar(\n",
    "text: str)`, die einen mit der Cäsar-Verschlüsselung verschlüsselten Text\n",
    "entschlüsseln. Um robust zu sein sollen diese Funktionen Zeichen, die nicht\n",
    "Buchstaben oder Ziffern sind unverändert zurückgeben."
   ]
  },
  {
   "cell_type": "code",
   "execution_count": null,
   "id": "825f18b4",
   "metadata": {
    "tags": [
     "solution"
    ]
   },
   "outputs": [],
   "source": []
  },
  {
   "cell_type": "code",
   "execution_count": null,
   "id": "1db827a2",
   "metadata": {
    "tags": [
     "solution"
    ]
   },
   "outputs": [],
   "source": []
  },
  {
   "cell_type": "code",
   "execution_count": null,
   "id": "28af87cb",
   "metadata": {
    "tags": [
     "solution"
    ]
   },
   "outputs": [],
   "source": []
  },
  {
   "cell_type": "markdown",
   "id": "39d5d1c6",
   "metadata": {},
   "source": [
    "Testen Sie `decode_caesar()` mit `pangram` und `verlaine`."
   ]
  },
  {
   "cell_type": "code",
   "execution_count": null,
   "id": "99e2a548",
   "metadata": {
    "tags": [
     "solution"
    ]
   },
   "outputs": [],
   "source": []
  },
  {
   "cell_type": "code",
   "execution_count": null,
   "id": "d5cdcdd8",
   "metadata": {
    "tags": [
     "solution"
    ]
   },
   "outputs": [],
   "source": []
  },
  {
   "cell_type": "code",
   "execution_count": null,
   "id": "bcdaec23",
   "metadata": {
    "tags": [
     "solution"
    ]
   },
   "outputs": [],
   "source": []
  },
  {
   "cell_type": "code",
   "execution_count": null,
   "id": "04d0554e",
   "metadata": {
    "tags": [
     "solution"
    ]
   },
   "outputs": [],
   "source": []
  },
  {
   "cell_type": "markdown",
   "id": "97160d66",
   "metadata": {},
   "source": [
    "Entschlüsseln Sie den folgenden Text:\n",
    "```\n",
    "SDFN PB ERA ZLWK ILYH GRCHQ OLTXRU MXJV\n",
    "(SDQJUDP IURP QDVD'V VSDFH VKXWWOH SURJUDP)\n",
    "```"
   ]
  },
  {
   "cell_type": "code",
   "execution_count": null,
   "id": "23d68dda",
   "metadata": {
    "tags": [
     "solution"
    ]
   },
   "outputs": [],
   "source": []
  },
  {
   "cell_type": "markdown",
   "id": "0306e9b2",
   "metadata": {
    "pycharm": {
     "is_executing": false,
     "name": "#%% md\n"
    }
   },
   "source": [
    "Die Funktionen `encode_char()` und `decode_char()` enthalten viel duplizierten\n",
    "Code. Können Sie eine Funktion `rot_n_char(...)` schreiben, die die\n",
    "Funktionalität beider Funktionen verallgemeinert?"
   ]
  },
  {
   "cell_type": "code",
   "execution_count": null,
   "id": "2152248c",
   "metadata": {
    "tags": [
     "solution"
    ]
   },
   "outputs": [],
   "source": []
  },
  {
   "cell_type": "markdown",
   "id": "02fa4fad",
   "metadata": {},
   "source": [
    "\n",
    "Wie würden Sie `encode_caesar_2()` und `decode_caesar_2()` unter\n",
    "Zuhilfenahme dieser Funktion implementieren?"
   ]
  },
  {
   "cell_type": "code",
   "execution_count": null,
   "id": "56510de6",
   "metadata": {
    "tags": [
     "solution"
    ]
   },
   "outputs": [],
   "source": []
  },
  {
   "cell_type": "code",
   "execution_count": null,
   "id": "cb5ce053",
   "metadata": {
    "tags": [
     "solution"
    ]
   },
   "outputs": [],
   "source": []
  },
  {
   "cell_type": "markdown",
   "id": "12ceb491",
   "metadata": {},
   "source": [
    "Testen Sie die neue Funktion mittels `secret_text` und `verlaine`.\n",
    "Sind alte und neue Implementierung kompatibel?"
   ]
  },
  {
   "cell_type": "code",
   "execution_count": null,
   "id": "91d4c561",
   "metadata": {
    "tags": [
     "solution"
    ]
   },
   "outputs": [],
   "source": []
  },
  {
   "cell_type": "code",
   "execution_count": null,
   "id": "e8354943",
   "metadata": {
    "tags": [
     "solution"
    ]
   },
   "outputs": [],
   "source": []
  },
  {
   "cell_type": "code",
   "execution_count": null,
   "id": "98d4c00c",
   "metadata": {
    "tags": [
     "solution"
    ]
   },
   "outputs": [],
   "source": []
  },
  {
   "cell_type": "code",
   "execution_count": null,
   "id": "294802d3",
   "metadata": {
    "tags": [
     "solution"
    ]
   },
   "outputs": [],
   "source": []
  },
  {
   "cell_type": "markdown",
   "id": "8008d50a",
   "metadata": {},
   "source": [
    "Die Decodierung mit dem ursprünglichen Cäsar-Code zeigt, dass unsere neue\n",
    "Implementierung einen Fehler hat: sie vermischt Zahlen und Buchstaben. Wie\n",
    "können wir den Fehler beseitigen?"
   ]
  },
  {
   "cell_type": "code",
   "execution_count": null,
   "id": "c6e9600d",
   "metadata": {
    "tags": [
     "solution"
    ]
   },
   "outputs": [],
   "source": []
  },
  {
   "cell_type": "code",
   "execution_count": null,
   "id": "6721887b",
   "metadata": {
    "tags": [
     "solution"
    ]
   },
   "outputs": [],
   "source": []
  },
  {
   "cell_type": "markdown",
   "id": "b876e29c",
   "metadata": {},
   "source": [
    "Testen Sie die neue Implementierung indem Sie `secret_text` decodieren."
   ]
  },
  {
   "cell_type": "code",
   "execution_count": null,
   "id": "3724117d",
   "metadata": {
    "tags": [
     "solution"
    ]
   },
   "outputs": [],
   "source": []
  },
  {
   "cell_type": "markdown",
   "id": "52c22c80",
   "metadata": {},
   "source": [
    "Testen Sie die neue Implementierung mit `verlaine`."
   ]
  },
  {
   "cell_type": "code",
   "execution_count": null,
   "id": "75b7e07a",
   "metadata": {
    "tags": [
     "solution"
    ]
   },
   "outputs": [],
   "source": []
  },
  {
   "cell_type": "code",
   "execution_count": null,
   "id": "da0e0a31",
   "metadata": {
    "tags": [
     "solution"
    ]
   },
   "outputs": [],
   "source": []
  },
  {
   "cell_type": "code",
   "execution_count": null,
   "id": "65c0846e",
   "metadata": {
    "tags": [
     "solution"
    ]
   },
   "outputs": [],
   "source": []
  },
  {
   "cell_type": "code",
   "execution_count": null,
   "id": "2c09e394",
   "metadata": {
    "tags": [
     "solution"
    ]
   },
   "outputs": [],
   "source": []
  }
 ],
 "metadata": {
  "jupytext": {
   "encoding": "# -*- coding: utf-8 -*-",
   "formats": "ipynb"
  },
  "kernelspec": {
   "display_name": "Python 3 (ipykernel)",
   "language": "python",
   "name": "python3"
  }
 },
 "nbformat": 4,
 "nbformat_minor": 5
}
