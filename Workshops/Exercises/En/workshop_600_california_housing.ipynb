{
 "cells": [
  {
   "cell_type": "markdown",
   "id": "3326583f",
   "metadata": {
    "lang": "en"
   },
   "source": [
    "# California Housing Prices"
   ]
  },
  {
   "cell_type": "code",
   "execution_count": null,
   "id": "6be340b4",
   "metadata": {},
   "outputs": [],
   "source": [
    "from pathlib import Path\n",
    "import pandas as pd"
   ]
  },
  {
   "cell_type": "code",
   "execution_count": null,
   "id": "80e19c33",
   "metadata": {},
   "outputs": [],
   "source": [
    "pandas_data_path = Path(r\"C:\\Users\\tc\\Programming\\Python\\Courses\\Own\\python-programmierer\\Data\\Pandas\")\n",
    "california_housing_csv_path = pandas_data_path / \"california-housing.csv\""
   ]
  },
  {
   "cell_type": "markdown",
   "id": "41f0af02",
   "metadata": {
    "lang": "en"
   },
   "source": [
    "## Loading the data set\n",
    "\n",
    "Load the csv file `california_housing_csv_path` as\n",
    "pandas DataFrame. Do not import any columns without information content."
   ]
  },
  {
   "cell_type": "code",
   "execution_count": null,
   "id": "4ee6c41c",
   "metadata": {
    "tags": [
     "solution"
    ]
   },
   "outputs": [],
   "source": []
  },
  {
   "cell_type": "code",
   "execution_count": null,
   "id": "86a2d091",
   "metadata": {
    "lines_to_next_cell": 2,
    "tags": [
     "solution"
    ]
   },
   "outputs": [],
   "source": []
  },
  {
   "cell_type": "markdown",
   "id": "7c162de5",
   "metadata": {
    "lang": "en"
   },
   "source": [
    "How many rows does the DataFrame have?"
   ]
  },
  {
   "cell_type": "code",
   "execution_count": null,
   "id": "0bc4b49d",
   "metadata": {
    "lines_to_next_cell": 2,
    "tags": [
     "solution"
    ]
   },
   "outputs": [],
   "source": []
  },
  {
   "cell_type": "markdown",
   "id": "aa4cf42a",
   "metadata": {
    "lang": "en"
   },
   "source": [
    "Which columns does the DataFrame have?\n",
    "Are there columns in the DataFrame that contain undefined values ​​(NA)?"
   ]
  },
  {
   "cell_type": "code",
   "execution_count": null,
   "id": "d2b5341d",
   "metadata": {
    "tags": [
     "solution"
    ]
   },
   "outputs": [],
   "source": []
  },
  {
   "cell_type": "code",
   "execution_count": null,
   "id": "856f9e1c",
   "metadata": {
    "lines_to_next_cell": 2
   },
   "outputs": [],
   "source": [
    "# This is true if `notna()` drops rows, i.e., if \n",
    "df.isna().sum()"
   ]
  },
  {
   "cell_type": "markdown",
   "id": "ec7ce0ee",
   "metadata": {
    "lang": "en"
   },
   "source": [
    "What are minimum, maximum, mean and standard deviation of each column?"
   ]
  },
  {
   "cell_type": "code",
   "execution_count": null,
   "id": "d5950c0a",
   "metadata": {
    "tags": [
     "solution"
    ]
   },
   "outputs": [],
   "source": []
  },
  {
   "cell_type": "markdown",
   "id": "6812caf3",
   "metadata": {
    "lang": "en"
   },
   "source": [
    "Generate histograms of the individual columns.\n",
    "Are there any features that stick out?"
   ]
  },
  {
   "cell_type": "code",
   "execution_count": null,
   "id": "b26fc4a1",
   "metadata": {
    "tags": [
     "solution"
    ]
   },
   "outputs": [],
   "source": []
  },
  {
   "cell_type": "markdown",
   "id": "3c6dcaea",
   "metadata": {
    "lang": "en"
   },
   "source": [
    "Create a new DataFrame containing only the rows whose `Target`\n",
    "value is greater than 4. How many entries does this DataFrame have?"
   ]
  },
  {
   "cell_type": "code",
   "execution_count": null,
   "id": "96751ffa",
   "metadata": {
    "tags": [
     "solution"
    ]
   },
   "outputs": [],
   "source": []
  },
  {
   "cell_type": "code",
   "execution_count": null,
   "id": "3b79e731",
   "metadata": {
    "lines_to_next_cell": 2,
    "tags": [
     "solution"
    ]
   },
   "outputs": [],
   "source": []
  },
  {
   "cell_type": "markdown",
   "id": "910797cd",
   "metadata": {
    "lang": "en"
   },
   "source": [
    "Plot longitude vs. latitude as a scatterplot. What can you infer from this\n",
    "plot?\n",
    "\n",
    "The `c` keyword argument allows you to specify a column name whose\n",
    "values determine the color of the output. With `cmap` you can create a colormap\n",
    "for these colors. With the keyword argument `alpha` you can set the transparency of the output.\n",
    "\n",
    "Experiment with these values to make the output more informative."
   ]
  },
  {
   "cell_type": "code",
   "execution_count": null,
   "id": "b8321aa4",
   "metadata": {
    "tags": [
     "solution"
    ]
   },
   "outputs": [],
   "source": []
  },
  {
   "cell_type": "markdown",
   "id": "d8a3ab1b",
   "metadata": {
    "lang": "en"
   },
   "source": [
    "What does the corresponding output look like for the DataFrame that only\n",
    "contains expensive houses?"
   ]
  },
  {
   "cell_type": "code",
   "execution_count": null,
   "id": "be8c7538",
   "metadata": {
    "lines_to_next_cell": 2,
    "tags": [
     "solution"
    ]
   },
   "outputs": [],
   "source": []
  },
  {
   "cell_type": "markdown",
   "id": "da86ec81",
   "metadata": {
    "lang": "en"
   },
   "source": [
    "If you have installed seaborn you can use `seaborn.pairplot()` to\n",
    "create a grid of scatterplots with all possible combinations of columns.\n",
    "With the keyword argument `hue` you can specify a column that contains the\n",
    "color of the output.\n",
    "\n",
    "Which of the plots provide interesting information? What values might be interesting as value of `hue`?\n",
    "\n",
    "*Note:* It is advisable to decrease the number of rows being plotted to e.g. 500 or 1000 to limit the time it takes to generate the plots."
   ]
  },
  {
   "cell_type": "code",
   "execution_count": null,
   "id": "41fc55a9",
   "metadata": {
    "tags": [
     "solution"
    ]
   },
   "outputs": [],
   "source": []
  },
  {
   "cell_type": "code",
   "execution_count": null,
   "id": "4794ba88",
   "metadata": {
    "lines_to_next_cell": 2,
    "tags": [
     "solution"
    ]
   },
   "outputs": [],
   "source": []
  },
  {
   "cell_type": "code",
   "execution_count": null,
   "id": "41e32f61",
   "metadata": {
    "tags": [
     "solution"
    ]
   },
   "outputs": [],
   "source": []
  },
  {
   "cell_type": "code",
   "execution_count": null,
   "id": "9db60246",
   "metadata": {
    "tags": [
     "solution"
    ]
   },
   "outputs": [],
   "source": []
  }
 ],
 "metadata": {
  "jupytext": {
   "encoding": "# -*- coding: utf-8 -*-",
   "formats": "ipynb"
  },
  "kernelspec": {
   "display_name": "Python 3 (ipykernel)",
   "language": "python",
   "name": "python3"
  }
 },
 "nbformat": 4,
 "nbformat_minor": 5
}
