{
 "cells": [
  {
   "cell_type": "markdown",
   "id": "725d8a81",
   "metadata": {},
   "source": [
    "# Erzeugen von NumPy Arrays"
   ]
  },
  {
   "cell_type": "code",
   "execution_count": null,
   "id": "3f88755f",
   "metadata": {
    "tags": [
     "solution"
    ]
   },
   "outputs": [],
   "source": []
  },
  {
   "cell_type": "markdown",
   "id": "674ff5b6",
   "metadata": {},
   "source": [
    "Erzeugen Sie folgende NumPy Arrays:"
   ]
  },
  {
   "cell_type": "markdown",
   "id": "eec677f4",
   "metadata": {},
   "source": [
    "```python\n",
    "array([0, 1, 2, 3, 4, 5, 6, 7, 8, 9])\n",
    "```"
   ]
  },
  {
   "cell_type": "code",
   "execution_count": null,
   "id": "649767fe",
   "metadata": {
    "tags": [
     "solution"
    ]
   },
   "outputs": [],
   "source": []
  },
  {
   "cell_type": "markdown",
   "id": "18e14f56",
   "metadata": {},
   "source": [
    "```python\n",
    "array([0.  , 1.25, 2.5 , 3.75, 5.  ])\n",
    "```"
   ]
  },
  {
   "cell_type": "code",
   "execution_count": null,
   "id": "9b7ff342",
   "metadata": {
    "tags": [
     "solution"
    ]
   },
   "outputs": [],
   "source": []
  },
  {
   "cell_type": "markdown",
   "id": "cb666f14",
   "metadata": {},
   "source": [
    "```python\n",
    "array([ 1,  3, 12, 92])\n",
    "```"
   ]
  },
  {
   "cell_type": "code",
   "execution_count": null,
   "id": "a368450a",
   "metadata": {
    "tags": [
     "solution"
    ]
   },
   "outputs": [],
   "source": []
  },
  {
   "cell_type": "markdown",
   "id": "11dbab09",
   "metadata": {},
   "source": [
    "```python\n",
    "array([[1, 2, 3, 4],\n",
    "       [5, 6, 7, 8]])\n",
    "```"
   ]
  },
  {
   "cell_type": "code",
   "execution_count": null,
   "id": "0983a239",
   "metadata": {
    "tags": [
     "solution"
    ]
   },
   "outputs": [],
   "source": []
  },
  {
   "cell_type": "markdown",
   "id": "7d6322b0",
   "metadata": {},
   "source": [
    "```python\n",
    "array([[[0, 2, 4, 6],\n",
    "        [1, 3, 5, 7]],\n",
    "\n",
    "       [[1, 2, 3, 4],\n",
    "        [5, 6, 7, 8]],\n",
    "\n",
    "       [[9, 8, 7, 6],\n",
    "        [5, 4, 3, 2]]])\n",
    "```"
   ]
  },
  {
   "cell_type": "code",
   "execution_count": null,
   "id": "cfbe15af",
   "metadata": {
    "tags": [
     "solution"
    ]
   },
   "outputs": [],
   "source": []
  },
  {
   "cell_type": "code",
   "execution_count": null,
   "id": "dd8984b8",
   "metadata": {
    "tags": [
     "solution"
    ]
   },
   "outputs": [],
   "source": []
  },
  {
   "cell_type": "markdown",
   "id": "c579ba8e",
   "metadata": {},
   "source": [
    "Ein $2\\times 8$ Array, das gleichverteilte Zufallszahlen in $[0, 1)$ enthält."
   ]
  },
  {
   "cell_type": "code",
   "execution_count": null,
   "id": "deb6d289",
   "metadata": {
    "tags": [
     "solution"
    ]
   },
   "outputs": [],
   "source": []
  },
  {
   "cell_type": "markdown",
   "id": "61bae67a",
   "metadata": {},
   "source": [
    "```python\n",
    "array([[1., 0., 0.],\n",
    "       [0., 1., 0.],\n",
    "       [0., 0., 1.]])\n",
    "```"
   ]
  },
  {
   "cell_type": "code",
   "execution_count": null,
   "id": "55ad7e61",
   "metadata": {
    "tags": [
     "solution"
    ]
   },
   "outputs": [],
   "source": []
  },
  {
   "cell_type": "markdown",
   "id": "57b2b448",
   "metadata": {},
   "source": [
    "Einen Vektor der Länge 5, der standard-normalverteilte Zahlen enthält."
   ]
  },
  {
   "cell_type": "code",
   "execution_count": null,
   "id": "c5d93a38",
   "metadata": {
    "tags": [
     "solution"
    ]
   },
   "outputs": [],
   "source": []
  },
  {
   "cell_type": "markdown",
   "id": "6fea8856",
   "metadata": {},
   "source": [
    "Ein $3 \\times 4$ Array, das normalverteilte Zahlen mit Mittelwert $5$ und Standardabweichung $0.5$ enthält."
   ]
  },
  {
   "cell_type": "code",
   "execution_count": null,
   "id": "d560872a",
   "metadata": {
    "tags": [
     "solution"
    ]
   },
   "outputs": [],
   "source": []
  },
  {
   "cell_type": "markdown",
   "id": "1d518201",
   "metadata": {},
   "source": [
    "## Gleichungssysteme\n",
    "\n",
    "Lösen Sie folgendes Gleichungssystem:\n",
    "\n",
    "$x_1 - x_2 + 2x_3 = 6$\n",
    "\n",
    "$2x_1 + 3x_2 + 2x_3 = 8$\n",
    "\n",
    "$3x_1 + 2x_2 + x_3 = 8$"
   ]
  },
  {
   "cell_type": "code",
   "execution_count": null,
   "id": "5038c63e",
   "metadata": {
    "tags": [
     "solution"
    ]
   },
   "outputs": [],
   "source": []
  },
  {
   "cell_type": "code",
   "execution_count": null,
   "id": "471cffd7",
   "metadata": {
    "tags": [
     "solution"
    ]
   },
   "outputs": [],
   "source": []
  },
  {
   "cell_type": "code",
   "execution_count": null,
   "id": "4f4e7afe",
   "metadata": {
    "tags": [
     "solution"
    ]
   },
   "outputs": [],
   "source": []
  },
  {
   "cell_type": "code",
   "execution_count": null,
   "id": "3e2da966",
   "metadata": {
    "tags": [
     "solution"
    ]
   },
   "outputs": [],
   "source": []
  },
  {
   "cell_type": "code",
   "execution_count": null,
   "id": "a9f9333d",
   "metadata": {
    "tags": [
     "solution"
    ]
   },
   "outputs": [],
   "source": []
  },
  {
   "cell_type": "markdown",
   "id": "261ca454",
   "metadata": {},
   "source": [
    "# Erzeugen von NumPy Arrays 2\n",
    "\n",
    "Erzeugen Sie das folgende NumPy Array:\n",
    "\n",
    "```python\n",
    "array([[ 0,  2,  4,  6],\n",
    "       [ 8, 10, 12, 14],\n",
    "       [16, 18, 20, 22],\n",
    "       [24, 26, 28, 30],\n",
    "       [32, 34, 36, 38]])\n",
    "```"
   ]
  },
  {
   "cell_type": "code",
   "execution_count": null,
   "id": "1f78c7d8",
   "metadata": {
    "tags": [
     "solution"
    ]
   },
   "outputs": [],
   "source": []
  },
  {
   "cell_type": "markdown",
   "id": "241d7018",
   "metadata": {},
   "source": [
    "Erzeugen Sie das folgende NumPy Array:\n",
    "\n",
    "```python\n",
    "array([[10, 19, 28, 37, 46, 55],\n",
    "       [13, 22, 31, 40, 49, 58],\n",
    "       [16, 25, 34, 43, 52, 61]])\n",
    "```"
   ]
  },
  {
   "cell_type": "code",
   "execution_count": null,
   "id": "82816e74",
   "metadata": {
    "tags": [
     "solution"
    ]
   },
   "outputs": [],
   "source": []
  },
  {
   "cell_type": "markdown",
   "id": "0aa727a7",
   "metadata": {},
   "source": [
    "# Extrema\n",
    "\n",
    "Erzeugen Sie einen Vektor der Länge 100 mit Zufallswerten, die im Intervall\n",
    "$[10, 20)$ gleichverteilt sind.\n",
    "\n",
    "Berechnen Sie Minimum und Maximum der im Vektor\n",
    "enthaltenen Werte sowie die Positionen von Minimum und Maximum."
   ]
  },
  {
   "cell_type": "code",
   "execution_count": null,
   "id": "fbb327c0",
   "metadata": {
    "tags": [
     "solution"
    ]
   },
   "outputs": [],
   "source": []
  },
  {
   "cell_type": "code",
   "execution_count": null,
   "id": "9fcf9c46",
   "metadata": {
    "tags": [
     "solution"
    ]
   },
   "outputs": [],
   "source": []
  },
  {
   "cell_type": "code",
   "execution_count": null,
   "id": "7b605186",
   "metadata": {
    "tags": [
     "solution"
    ]
   },
   "outputs": [],
   "source": []
  },
  {
   "cell_type": "code",
   "execution_count": null,
   "id": "396f3e44",
   "metadata": {
    "tags": [
     "solution"
    ]
   },
   "outputs": [],
   "source": []
  },
  {
   "cell_type": "code",
   "execution_count": null,
   "id": "1563deb1",
   "metadata": {
    "tags": [
     "solution"
    ]
   },
   "outputs": [],
   "source": []
  },
  {
   "cell_type": "markdown",
   "id": "96c2d17d",
   "metadata": {},
   "source": [
    "# Mittelwert\n",
    "\n",
    "Erzeugen Sie ein $6 \\times 8$ Array, das standardverteilten Zahlen mit\n",
    "Mittelwert $2$ und Standardabweichung $1$ enthält.\n",
    "\n"
   ]
  },
  {
   "cell_type": "code",
   "execution_count": null,
   "id": "573cd05c",
   "metadata": {
    "tags": [
     "solution"
    ]
   },
   "outputs": [],
   "source": []
  },
  {
   "cell_type": "markdown",
   "id": "c7382a26",
   "metadata": {},
   "source": [
    "Berechnen Sie den Mittelwert aller darin vorkommenden Werte.\n"
   ]
  },
  {
   "cell_type": "code",
   "execution_count": null,
   "id": "8fac34d8",
   "metadata": {
    "tags": [
     "solution"
    ]
   },
   "outputs": [],
   "source": []
  },
  {
   "cell_type": "markdown",
   "id": "d7709de3",
   "metadata": {},
   "source": [
    "Berechnen Sie die zeilen- und spaltenweisen Mittelwerte."
   ]
  },
  {
   "cell_type": "code",
   "execution_count": null,
   "id": "9b27f459",
   "metadata": {
    "tags": [
     "solution"
    ]
   },
   "outputs": [],
   "source": []
  },
  {
   "cell_type": "code",
   "execution_count": null,
   "id": "9e05d7f9",
   "metadata": {
    "tags": [
     "solution"
    ]
   },
   "outputs": [],
   "source": []
  },
  {
   "cell_type": "markdown",
   "id": "14f0dc0d",
   "metadata": {},
   "source": [
    "Berechnen Sie den Mittelwert aller vorkommenden Werte ohne Verwendung der\n",
    "Methode `mean()`."
   ]
  },
  {
   "cell_type": "code",
   "execution_count": null,
   "id": "edd1e82c",
   "metadata": {
    "tags": [
     "solution"
    ]
   },
   "outputs": [],
   "source": []
  },
  {
   "cell_type": "markdown",
   "id": "fe0eca3c",
   "metadata": {},
   "source": [
    "Berechnen Sie die zeilen- und spaltenweisen Mittelwerte ohne Verwendung der\n",
    "Methode `mean()`."
   ]
  },
  {
   "cell_type": "code",
   "execution_count": null,
   "id": "e6b5b536",
   "metadata": {
    "tags": [
     "solution"
    ]
   },
   "outputs": [],
   "source": []
  },
  {
   "cell_type": "code",
   "execution_count": null,
   "id": "3d664ae2",
   "metadata": {
    "tags": [
     "solution"
    ]
   },
   "outputs": [],
   "source": []
  },
  {
   "cell_type": "markdown",
   "id": "51700f96",
   "metadata": {},
   "source": [
    "# Roulette\n",
    "\n",
    "Analysieren Sie die Gewinnerwartung eines Spielers in folgender\n",
    "vereinfachter Form eines Roulettespiels mittels Monte Carlo Simulation:\n",
    "\n",
    "- Der Kessel ist in 36 Zahlen unterteilt.\n",
    "- Der Spieler wählt eine der Zahlen 1 bis 36 und wettet 1 Euro.\n",
    "- Fällt die Kugel auf die gewählte Zahl, so erhält der Spieler seinen Einsatz\n",
    "  plus 35 Euro zurück.\n",
    "- Andernfalls verliert der Spieler seinen Einsatz.\n",
    "\n",
    "Schreiben Sie eine Version der Simulation mit `for`-Schleife in Python und\n",
    "testen Sie die Performance dieser Version vor und nach Kompilierung mit\n",
    "Numba. Schreiben Sie dann eine vektorisierte Version und testen Sie deren\n",
    "Performance in beiden Fällen.\n",
    "\n",
    "*Hinweise:*\n",
    "- Die NumPy Bibliothek enthält eine Funktion\n",
    "  `np.random.randint(low, high, size=None)`, mit der Sie ein Array mit Shape\n",
    "  `size` erzeugen können, das gleichverteilte Zufallszahlen zwischen `low`\n",
    "  (inklusive) und `high` (exklusive) enthält.\n",
    "- Wird `np.random.randint()` mit nur zwei Argumenten aufgerufen, so gibt es\n",
    "  eine einzige Zahl zurück.\n",
    "- Die NumPy Bibliothek enthält eine Funtion\n",
    "  `np.random.binomial(n, p, size=None)`, mit der Sie binomialverteilte\n",
    "  Zufallszahlen erzeugen können."
   ]
  },
  {
   "cell_type": "code",
   "execution_count": null,
   "id": "3d1b1d99",
   "metadata": {
    "tags": [
     "solution"
    ]
   },
   "outputs": [],
   "source": []
  },
  {
   "cell_type": "code",
   "execution_count": null,
   "id": "60d9eb9b",
   "metadata": {
    "tags": [
     "solution"
    ]
   },
   "outputs": [],
   "source": []
  },
  {
   "cell_type": "code",
   "execution_count": null,
   "id": "3125152e",
   "metadata": {
    "tags": [
     "solution"
    ]
   },
   "outputs": [],
   "source": []
  },
  {
   "cell_type": "code",
   "execution_count": null,
   "id": "c5f79e83",
   "metadata": {
    "tags": [
     "solution"
    ]
   },
   "outputs": [],
   "source": []
  },
  {
   "cell_type": "code",
   "execution_count": null,
   "id": "dcfae560",
   "metadata": {
    "tags": [
     "solution"
    ]
   },
   "outputs": [],
   "source": []
  },
  {
   "cell_type": "code",
   "execution_count": null,
   "id": "f58f45c4",
   "metadata": {
    "tags": [
     "solution"
    ]
   },
   "outputs": [],
   "source": []
  },
  {
   "cell_type": "code",
   "execution_count": null,
   "id": "24c3671d",
   "metadata": {
    "tags": [
     "solution"
    ]
   },
   "outputs": [],
   "source": []
  },
  {
   "cell_type": "code",
   "execution_count": null,
   "id": "773c0d60",
   "metadata": {
    "tags": [
     "solution"
    ]
   },
   "outputs": [],
   "source": []
  },
  {
   "cell_type": "code",
   "execution_count": null,
   "id": "49bac00b",
   "metadata": {
    "tags": [
     "solution"
    ]
   },
   "outputs": [],
   "source": []
  },
  {
   "cell_type": "code",
   "execution_count": null,
   "id": "4f744b68",
   "metadata": {
    "tags": [
     "solution"
    ]
   },
   "outputs": [],
   "source": []
  },
  {
   "cell_type": "code",
   "execution_count": null,
   "id": "7925aac2",
   "metadata": {
    "tags": [
     "solution"
    ]
   },
   "outputs": [],
   "source": []
  },
  {
   "cell_type": "code",
   "execution_count": null,
   "id": "93db6840",
   "metadata": {
    "tags": [
     "solution"
    ]
   },
   "outputs": [],
   "source": []
  },
  {
   "cell_type": "code",
   "execution_count": null,
   "id": "d84f97bb",
   "metadata": {
    "tags": [
     "solution"
    ]
   },
   "outputs": [],
   "source": []
  },
  {
   "cell_type": "code",
   "execution_count": null,
   "id": "58b12880",
   "metadata": {
    "tags": [
     "solution"
    ]
   },
   "outputs": [],
   "source": []
  },
  {
   "cell_type": "code",
   "execution_count": null,
   "id": "6ba1f1e1",
   "metadata": {
    "tags": [
     "solution"
    ]
   },
   "outputs": [],
   "source": []
  },
  {
   "cell_type": "code",
   "execution_count": null,
   "id": "019d1852",
   "metadata": {},
   "outputs": [],
   "source": []
  }
 ],
 "metadata": {
  "jupytext": {
   "encoding": "# -*- coding: utf-8 -*-",
   "formats": "ipynb"
  },
  "kernelspec": {
   "display_name": "Python 3 (ipykernel)",
   "language": "python",
   "name": "python3"
  }
 },
 "nbformat": 4,
 "nbformat_minor": 5
}
