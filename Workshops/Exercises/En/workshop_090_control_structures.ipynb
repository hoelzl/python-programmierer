{
 "cells": [
  {
   "cell_type": "markdown",
   "id": "55955e7b",
   "metadata": {
    "lang": "en"
   },
   "source": [
    "# Even number\n",
    "\n",
    "Write a function `is_even(number)` that returns `True`,\n",
    "if `number` is even and `False` if `number` is odd."
   ]
  },
  {
   "cell_type": "code",
   "execution_count": null,
   "id": "421764ee",
   "metadata": {
    "tags": [
     "solution"
    ]
   },
   "outputs": [],
   "source": []
  },
  {
   "cell_type": "markdown",
   "id": "83977ea9",
   "metadata": {
    "lang": "en"
   },
   "source": [
    "Write a function `print_is_even(number)` that\n",
    "\n",
    "- prints `{number} is even.` on the screen if `number` is even and\n",
    "- Prints `{number} is not even.` to the screen if `number` is not\n",
    "  is straight."
   ]
  },
  {
   "cell_type": "code",
   "execution_count": null,
   "id": "9d7e945b",
   "metadata": {
    "tags": [
     "solution"
    ]
   },
   "outputs": [],
   "source": []
  },
  {
   "cell_type": "markdown",
   "id": "5fd99445",
   "metadata": {
    "lang": "en"
   },
   "source": [
    "Test `print_is_even(number)` with the values ​​0, 1 and 8."
   ]
  },
  {
   "cell_type": "code",
   "execution_count": null,
   "id": "8b0c53a6",
   "metadata": {
    "tags": [
     "solution"
    ]
   },
   "outputs": [],
   "source": []
  },
  {
   "cell_type": "markdown",
   "id": "acb29bd3",
   "metadata": {
    "lang": "en"
   },
   "source": [
    "# Positive / Negative\n",
    "\n",
    "Write a function `print_is_positive(number)` that\n",
    "\n",
    "- prints `{number} is positive.` on the screen if `number > 0`,\n",
    "- prints `{number} is zero.` on the screen if `number == 0`,\n",
    "- Print `{number} is negative.` to the screen if `number < 0`."
   ]
  },
  {
   "cell_type": "code",
   "execution_count": null,
   "id": "7a064c79",
   "metadata": {
    "tags": [
     "solution"
    ]
   },
   "outputs": [],
   "source": []
  },
  {
   "cell_type": "markdown",
   "id": "f6eb85df",
   "metadata": {
    "lang": "en"
   },
   "source": [
    "Test `print_is_positive(number)` with the values ​​-3, 0 and 2."
   ]
  },
  {
   "cell_type": "code",
   "execution_count": null,
   "id": "6fa8b100",
   "metadata": {
    "tags": [
     "solution"
    ]
   },
   "outputs": [],
   "source": []
  },
  {
   "cell_type": "code",
   "execution_count": null,
   "id": "d066d116",
   "metadata": {
    "tags": [
     "solution"
    ]
   },
   "outputs": [],
   "source": []
  },
  {
   "cell_type": "code",
   "execution_count": null,
   "id": "97a326a3",
   "metadata": {
    "tags": [
     "solution"
    ]
   },
   "outputs": [],
   "source": []
  },
  {
   "cell_type": "markdown",
   "id": "e4622ef9",
   "metadata": {
    "lang": "en"
   },
   "source": [
    "# Signum\n",
    "\n",
    "Write a function `signum(number)` that\n",
    "\n",
    "- returns 1 if `number > 0`,\n",
    "- returns 0 if `number == 0`,\n",
    "- returns -1 if `number < 0`."
   ]
  },
  {
   "cell_type": "code",
   "execution_count": null,
   "id": "04a57f34",
   "metadata": {
    "tags": [
     "solution"
    ]
   },
   "outputs": [],
   "source": []
  },
  {
   "cell_type": "markdown",
   "id": "0500ec6e",
   "metadata": {
    "lang": "en"
   },
   "source": [
    "Test the function for representative values."
   ]
  },
  {
   "cell_type": "code",
   "execution_count": null,
   "id": "5defa1e6",
   "metadata": {
    "tags": [
     "solution"
    ]
   },
   "outputs": [],
   "source": []
  },
  {
   "cell_type": "code",
   "execution_count": null,
   "id": "cda2169d",
   "metadata": {
    "tags": [
     "solution"
    ]
   },
   "outputs": [],
   "source": []
  },
  {
   "cell_type": "code",
   "execution_count": null,
   "id": "2f6b0361",
   "metadata": {
    "tags": [
     "solution"
    ]
   },
   "outputs": [],
   "source": []
  },
  {
   "cell_type": "markdown",
   "id": "d64869d7",
   "metadata": {
    "lang": "en"
   },
   "source": [
    "# Conversion to miles\n",
    "\n",
    "Write a function `convert_km_to_miles(km)` that converts the value `km` from kilometers to miles (i.e. the value in miles is returned).\n",
    "\n",
    "*Note:*\n",
    "- One kilometer equals $0,621371$ miles"
   ]
  },
  {
   "cell_type": "code",
   "execution_count": null,
   "id": "0ff8cc74",
   "metadata": {
    "tags": [
     "solution"
    ]
   },
   "outputs": [],
   "source": []
  },
  {
   "cell_type": "markdown",
   "id": "6ba6e4d5",
   "metadata": {
    "lang": "en"
   },
   "source": [
    "Test `convert_km_to_miles(km)` for 1 and 5 km."
   ]
  },
  {
   "cell_type": "code",
   "execution_count": null,
   "id": "5298d0e2",
   "metadata": {
    "tags": [
     "solution"
    ]
   },
   "outputs": [],
   "source": []
  },
  {
   "cell_type": "code",
   "execution_count": null,
   "id": "abc8549a",
   "metadata": {
    "tags": [
     "solution"
    ]
   },
   "outputs": [],
   "source": []
  },
  {
   "cell_type": "markdown",
   "id": "be16e83f",
   "metadata": {
    "lang": "en"
   },
   "source": [
    "Write a function `miles_app()` that reads a length in kilometers from the user and prints out the equivalent distance in miles. If the user enters an empty string, `Please enter a valid distance in km.` should be printed on the screen.\n",
    "\n",
    "*Notes*\n",
    "- A string can be converted to a float value with `float()`."
   ]
  },
  {
   "cell_type": "code",
   "execution_count": null,
   "id": "25d25b92",
   "metadata": {
    "tags": [
     "solution"
    ]
   },
   "outputs": [],
   "source": []
  },
  {
   "cell_type": "code",
   "execution_count": null,
   "id": "a38c203f",
   "metadata": {
    "tags": [
     "solution"
    ]
   },
   "outputs": [],
   "source": []
  },
  {
   "cell_type": "markdown",
   "id": "6ec671f9",
   "metadata": {
    "lang": "en"
   },
   "source": [
    "# Conversion to miles with Truthiness\n",
    "\n",
    "Write a function `miles_app_2` that behaves similar to `miles_app` but exploits the truthiness of strings. Are there any inputs for which the behavior differs?"
   ]
  },
  {
   "cell_type": "code",
   "execution_count": null,
   "id": "696b7130",
   "metadata": {
    "tags": [
     "solution"
    ]
   },
   "outputs": [],
   "source": []
  },
  {
   "cell_type": "code",
   "execution_count": null,
   "id": "f6d7376a",
   "metadata": {
    "tags": [
     "solution"
    ]
   },
   "outputs": [],
   "source": []
  },
  {
   "cell_type": "markdown",
   "id": "60906acf",
   "metadata": {
    "lang": "en"
   },
   "source": [
    "# Cinema price\n",
    "\n",
    "The Python-Cinema has the following entrance fees:\n",
    "\n",
    "- Infants under 2 years are free.\n",
    "- Children from 2-12 years pay 2 euros.\n",
    "- Teenagers aged 13-17 pay 5 euros.\n",
    "- Adults pay 10 euros.\n",
    "- Pensioners (over 65) pay 6 euros.\n",
    "\n",
    "Write a function `cinema_price(age)` that returns the price in Euros a person with age `age` has to pay."
   ]
  },
  {
   "cell_type": "code",
   "execution_count": null,
   "id": "3f89e592",
   "metadata": {
    "tags": [
     "solution"
    ]
   },
   "outputs": [],
   "source": []
  },
  {
   "cell_type": "markdown",
   "id": "05d60eee",
   "metadata": {
    "lang": "en"
   },
   "source": [
    "Test the function `cinema_price()` for some representative values."
   ]
  },
  {
   "cell_type": "code",
   "execution_count": null,
   "id": "46177c7d",
   "metadata": {
    "tags": [
     "solution"
    ]
   },
   "outputs": [],
   "source": []
  },
  {
   "cell_type": "code",
   "execution_count": null,
   "id": "9692e5f2",
   "metadata": {
    "tags": [
     "solution"
    ]
   },
   "outputs": [],
   "source": []
  },
  {
   "cell_type": "code",
   "execution_count": null,
   "id": "aa926837",
   "metadata": {
    "tags": [
     "solution"
    ]
   },
   "outputs": [],
   "source": []
  },
  {
   "cell_type": "code",
   "execution_count": null,
   "id": "3cd12d28",
   "metadata": {
    "tags": [
     "solution"
    ]
   },
   "outputs": [],
   "source": []
  },
  {
   "cell_type": "code",
   "execution_count": null,
   "id": "0d2ed8c7",
   "metadata": {
    "tags": [
     "solution"
    ]
   },
   "outputs": [],
   "source": []
  },
  {
   "cell_type": "markdown",
   "id": "92a8707b",
   "metadata": {
    "lang": "en"
   },
   "source": [
    "Write a function `print_cinema_price(age)`, that prints a text of the following type on the screen:\n",
    "\n",
    "```\n",
    "You are 1 year old. Their price is 0 euros.\n",
    "You are 15 years old. Their price is 5 euros.\n",
    "```"
   ]
  },
  {
   "cell_type": "code",
   "execution_count": null,
   "id": "859f13c5",
   "metadata": {
    "tags": [
     "solution"
    ]
   },
   "outputs": [],
   "source": []
  },
  {
   "cell_type": "markdown",
   "id": "33234bfc",
   "metadata": {
    "lang": "en"
   },
   "source": [
    "Test `print_cinema_price()` for representative values."
   ]
  },
  {
   "cell_type": "code",
   "execution_count": null,
   "id": "841d9968",
   "metadata": {
    "tags": [
     "solution"
    ]
   },
   "outputs": [],
   "source": []
  },
  {
   "cell_type": "markdown",
   "id": "9ee63329",
   "metadata": {
    "lang": "en"
   },
   "source": [
    "Write a function `cinema_app()` that reads an age and prints the\n",
    "cinema price for a person of this age in the format just described. Two example interactions:\n",
    "\n",
    "```\n",
    "How old are they? 37\n",
    "You are 37 years old. Their price is 10 euros.\n",
    "\n",
    "How old are they? 12\n",
    "You are 12 years old. Their price is 2 euros.\n",
    "```"
   ]
  },
  {
   "cell_type": "code",
   "execution_count": null,
   "id": "31aa93ae",
   "metadata": {
    "tags": [
     "solution"
    ]
   },
   "outputs": [],
   "source": []
  },
  {
   "cell_type": "code",
   "execution_count": null,
   "id": "cbbb8d34",
   "metadata": {},
   "outputs": [],
   "source": [
    "# kino_app()"
   ]
  },
  {
   "cell_type": "markdown",
   "id": "ca4f993f",
   "metadata": {
    "lang": "en"
   },
   "source": [
    "# Guessing games\n",
    "\n",
    "The following simple \"games\" allow the player unlimited number of\n",
    "inputs. Therefore, it makes sense to use a while loop\n",
    "to implement them.\n",
    "\n",
    "### Guess a word\n",
    "\n",
    "Implement a function `guess_word(solution)` that prompts the user for a word and\n",
    "keeps asking until the word typed by the user matches `solution`."
   ]
  },
  {
   "cell_type": "code",
   "execution_count": null,
   "id": "ed3558fc",
   "metadata": {
    "tags": [
     "solution"
    ]
   },
   "outputs": [],
   "source": []
  },
  {
   "cell_type": "code",
   "execution_count": null,
   "id": "9b3a3ce4",
   "metadata": {},
   "outputs": [],
   "source": [
    "# rate_wort(\"Haus\")"
   ]
  },
  {
   "cell_type": "markdown",
   "id": "2c6397c5",
   "metadata": {
    "lang": "en"
   },
   "source": [
    "### Number guesses\n",
    "\n",
    "Implement a function `guess_number(solution)` that asks the user for a number and keeps asking until the user has guessed the solution. After every input the function should display whether the entered number\n",
    "is too big, too small or the correct number."
   ]
  },
  {
   "cell_type": "code",
   "execution_count": null,
   "id": "96ddf412",
   "metadata": {
    "tags": [
     "solution"
    ]
   },
   "outputs": [],
   "source": []
  },
  {
   "cell_type": "code",
   "execution_count": null,
   "id": "1aa4ec30",
   "metadata": {},
   "outputs": [],
   "source": [
    "# rate_zahl(23)"
   ]
  },
  {
   "cell_type": "markdown",
   "id": "3335e51a",
   "metadata": {
    "lang": "en"
   },
   "source": [
    "How do you have to modify your solution to allow the player to input\n",
    "an empty string to abort the game?"
   ]
  },
  {
   "cell_type": "code",
   "execution_count": null,
   "id": "f801c8d6",
   "metadata": {
    "tags": [
     "solution"
    ]
   },
   "outputs": [],
   "source": []
  },
  {
   "cell_type": "code",
   "execution_count": null,
   "id": "a3b29dce",
   "metadata": {
    "tags": [
     "solution"
    ]
   },
   "outputs": [],
   "source": []
  },
  {
   "cell_type": "markdown",
   "id": "b40d9dae",
   "metadata": {
    "lang": "en"
   },
   "source": [
    "Solution using the `classify_number` function"
   ]
  },
  {
   "cell_type": "code",
   "execution_count": null,
   "id": "6bf4539e",
   "metadata": {
    "tags": [
     "solution"
    ]
   },
   "outputs": [],
   "source": []
  },
  {
   "cell_type": "code",
   "execution_count": null,
   "id": "7ef78f0d",
   "metadata": {
    "tags": [
     "solution"
    ]
   },
   "outputs": [],
   "source": []
  },
  {
   "cell_type": "code",
   "execution_count": null,
   "id": "03807bc6",
   "metadata": {
    "tags": [
     "solution"
    ]
   },
   "outputs": [],
   "source": []
  },
  {
   "cell_type": "markdown",
   "id": "d87694d0",
   "metadata": {
    "lang": "en"
   },
   "source": [
    "# Rock, Paper, Scissors\n",
    "\n",
    "In Rock, Paper, Scissors, two players play against each other. Each of the two players\n",
    "selects one of the three symbols \"scissors\", \"rock\" or \"paper\" (without knowing the other player's\n",
    "choice). If both players have chosen the same\n",
    "symbol, the game is a tie. Otherwise:\n",
    "\n",
    "- Scissors beats paper\n",
    "- Paper beats stone\n",
    "- Rock beats scissors\n",
    "\n",
    "Write a function `evaluate_a_round_of_rps(player1, player2)`, which evaluates whether the round ended in a draw or\n",
    "whether one of the players won. To do this, the function should return one of the following values:\n",
    "\n",
    "- 0 if the round was a draw\n",
    "- 1 if player 1 won\n",
    "- 2 if player 2 won\n",
    "\n",
    "If one of the players has made an invalid entry, the\n",
    "Function should throw an exception of user-defined type `BadInputException`, in which the number of the player who is at fault is stored. (If both players made an invalid entry any player can be stored.)"
   ]
  },
  {
   "cell_type": "code",
   "execution_count": null,
   "id": "bb6c9139",
   "metadata": {
    "tags": [
     "solution"
    ]
   },
   "outputs": [],
   "source": []
  },
  {
   "cell_type": "markdown",
   "id": "0bc73e6e",
   "metadata": {
    "lang": "en"
   },
   "source": [
    "Test all possible paths through your function."
   ]
  },
  {
   "cell_type": "code",
   "execution_count": null,
   "id": "3fc9e5a8",
   "metadata": {
    "tags": [
     "solution"
    ]
   },
   "outputs": [],
   "source": []
  },
  {
   "cell_type": "code",
   "execution_count": null,
   "id": "1d1831f8",
   "metadata": {
    "tags": [
     "solution"
    ]
   },
   "outputs": [],
   "source": []
  },
  {
   "cell_type": "code",
   "execution_count": null,
   "id": "23d2ea7e",
   "metadata": {
    "tags": [
     "solution"
    ]
   },
   "outputs": [],
   "source": []
  },
  {
   "cell_type": "code",
   "execution_count": null,
   "id": "26b920f4",
   "metadata": {
    "tags": [
     "solution"
    ]
   },
   "outputs": [],
   "source": []
  },
  {
   "cell_type": "code",
   "execution_count": null,
   "id": "b8376d73",
   "metadata": {
    "tags": [
     "solution"
    ]
   },
   "outputs": [],
   "source": []
  },
  {
   "cell_type": "code",
   "execution_count": null,
   "id": "b23effe4",
   "metadata": {
    "tags": [
     "solution"
    ]
   },
   "outputs": [],
   "source": []
  },
  {
   "cell_type": "code",
   "execution_count": null,
   "id": "07bf02e8",
   "metadata": {
    "tags": [
     "solution"
    ]
   },
   "outputs": [],
   "source": []
  },
  {
   "cell_type": "code",
   "execution_count": null,
   "id": "5f2e9b6a",
   "metadata": {
    "tags": [
     "solution"
    ]
   },
   "outputs": [],
   "source": []
  },
  {
   "cell_type": "code",
   "execution_count": null,
   "id": "f0be24d6",
   "metadata": {
    "tags": [
     "solution"
    ]
   },
   "outputs": [],
   "source": []
  },
  {
   "cell_type": "code",
   "execution_count": null,
   "id": "817532bb",
   "metadata": {
    "tags": [
     "solution"
    ]
   },
   "outputs": [],
   "source": []
  },
  {
   "cell_type": "code",
   "execution_count": null,
   "id": "b8946a53",
   "metadata": {
    "tags": [
     "solution"
    ]
   },
   "outputs": [],
   "source": []
  },
  {
   "cell_type": "code",
   "execution_count": null,
   "id": "9faa7ef9",
   "metadata": {
    "tags": [
     "solution"
    ]
   },
   "outputs": [],
   "source": []
  },
  {
   "cell_type": "code",
   "execution_count": null,
   "id": "bbe608b3",
   "metadata": {
    "tags": [
     "solution"
    ]
   },
   "outputs": [],
   "source": []
  },
  {
   "cell_type": "code",
   "execution_count": null,
   "id": "2cb6aed5",
   "metadata": {
    "tags": [
     "solution"
    ]
   },
   "outputs": [],
   "source": []
  },
  {
   "cell_type": "code",
   "execution_count": null,
   "id": "a34dbc8d",
   "metadata": {
    "tags": [
     "solution"
    ]
   },
   "outputs": [],
   "source": []
  },
  {
   "cell_type": "markdown",
   "id": "9b9ca466",
   "metadata": {
    "lang": "en"
   },
   "source": [
    "Write a function `compare_symbols(player1, player2)`,\n",
    "that outputs the following information on the screen:\n",
    "\n",
    "- `Tie.` if both players have chosen the same symbol,\n",
    "- `Player X wins!` if player X (X = 1 or 2) won,\n",
    "- `Invalid symbol from player X!` if player X has entered an invalid symbol."
   ]
  },
  {
   "cell_type": "code",
   "execution_count": null,
   "id": "dcce0e31",
   "metadata": {
    "tags": [
     "solution"
    ]
   },
   "outputs": [],
   "source": []
  },
  {
   "cell_type": "markdown",
   "id": "738151c4",
   "metadata": {
    "lang": "en"
   },
   "source": [
    "Test `compare_symbols` for appropriate input."
   ]
  },
  {
   "cell_type": "code",
   "execution_count": null,
   "id": "85519910",
   "metadata": {
    "tags": [
     "solution"
    ]
   },
   "outputs": [],
   "source": []
  },
  {
   "cell_type": "code",
   "execution_count": null,
   "id": "26c14bb6",
   "metadata": {
    "tags": [
     "solution"
    ]
   },
   "outputs": [],
   "source": []
  },
  {
   "cell_type": "code",
   "execution_count": null,
   "id": "509f65e4",
   "metadata": {
    "tags": [
     "solution"
    ]
   },
   "outputs": [],
   "source": []
  },
  {
   "cell_type": "code",
   "execution_count": null,
   "id": "2567533f",
   "metadata": {
    "tags": [
     "solution"
    ]
   },
   "outputs": [],
   "source": []
  },
  {
   "cell_type": "code",
   "execution_count": null,
   "id": "db66ee54",
   "metadata": {
    "tags": [
     "solution"
    ]
   },
   "outputs": [],
   "source": []
  },
  {
   "cell_type": "code",
   "execution_count": null,
   "id": "904b3730",
   "metadata": {
    "tags": [
     "solution"
    ]
   },
   "outputs": [],
   "source": []
  },
  {
   "cell_type": "code",
   "execution_count": null,
   "id": "adda8b76",
   "metadata": {
    "tags": [
     "solution"
    ]
   },
   "outputs": [],
   "source": []
  },
  {
   "cell_type": "code",
   "execution_count": null,
   "id": "57211166",
   "metadata": {
    "tags": [
     "solution"
    ]
   },
   "outputs": [],
   "source": []
  },
  {
   "cell_type": "code",
   "execution_count": null,
   "id": "abe97006",
   "metadata": {
    "tags": [
     "solution"
    ]
   },
   "outputs": [],
   "source": []
  },
  {
   "cell_type": "markdown",
   "id": "aa97ce06",
   "metadata": {
    "lang": "en"
   },
   "source": [
    "Write a function `play_a_round_of_rps()` that reads the selections\n",
    "of player 1 and player 2 from the terminal and prints out who won.\n",
    "\n",
    "(Of course this is not a usable game as player 2 can see\n",
    "the choice player 1 made.)"
   ]
  },
  {
   "cell_type": "code",
   "execution_count": null,
   "id": "482decec",
   "metadata": {
    "tags": [
     "solution"
    ]
   },
   "outputs": [],
   "source": []
  },
  {
   "cell_type": "markdown",
   "id": "5eac08a8",
   "metadata": {
    "lang": "en"
   },
   "source": [
    "Test the function `play_a_round_of_rps()` interactively."
   ]
  },
  {
   "cell_type": "code",
   "execution_count": null,
   "id": "23c143a7",
   "metadata": {
    "tags": [
     "solution"
    ]
   },
   "outputs": [],
   "source": []
  },
  {
   "cell_type": "markdown",
   "id": "5b7c47ed",
   "metadata": {
    "lang": "en"
   },
   "source": [
    "Write a function `play_rps()` that lets two players play against each other until one player has won 3 games more than\n",
    "the other (e.g. if the first player has won 2 games and the second player 5)."
   ]
  },
  {
   "cell_type": "code",
   "execution_count": null,
   "id": "86752606",
   "metadata": {
    "lines_to_next_cell": 2,
    "tags": [
     "solution"
    ]
   },
   "outputs": [],
   "source": []
  },
  {
   "cell_type": "code",
   "execution_count": null,
   "id": "07b0a6f1",
   "metadata": {
    "tags": [
     "solution"
    ]
   },
   "outputs": [],
   "source": []
  }
 ],
 "metadata": {
  "jupytext": {
   "encoding": "# -*- coding: utf-8 -*-",
   "formats": "ipynb"
  },
  "kernelspec": {
   "display_name": "Python 3 (ipykernel)",
   "language": "python",
   "name": "python3"
  }
 },
 "nbformat": 4,
 "nbformat_minor": 5
}
