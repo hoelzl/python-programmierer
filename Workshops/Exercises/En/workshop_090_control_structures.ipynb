{
 "cells": [
  {
   "cell_type": "markdown",
   "id": "6f39347e",
   "metadata": {
    "lang": "en"
   },
   "source": [
    "# Even number\n",
    "\n",
    "Write a function `is_even(number)` that returns `True`,\n",
    "if `number` is even and `False` if `number` is odd."
   ]
  },
  {
   "cell_type": "code",
   "execution_count": null,
   "id": "a0d5c027",
   "metadata": {
    "tags": [
     "solution"
    ]
   },
   "outputs": [],
   "source": []
  },
  {
   "cell_type": "markdown",
   "id": "f4b7e421",
   "metadata": {
    "lang": "en"
   },
   "source": [
    "Write a function `print_is_even(number)` that\n",
    "\n",
    "- prints `{number} is even.` on the screen if `number` is even and\n",
    "- Prints `{number} is not even.` to the screen if `number` is not\n",
    "  is straight."
   ]
  },
  {
   "cell_type": "code",
   "execution_count": null,
   "id": "063c1275",
   "metadata": {
    "tags": [
     "solution"
    ]
   },
   "outputs": [],
   "source": []
  },
  {
   "cell_type": "markdown",
   "id": "ca8cef20",
   "metadata": {
    "lang": "en"
   },
   "source": [
    "Test `print_is_even(number)` with the values ​​0, 1 and 8."
   ]
  },
  {
   "cell_type": "code",
   "execution_count": null,
   "id": "bffd1878",
   "metadata": {
    "tags": [
     "solution"
    ]
   },
   "outputs": [],
   "source": []
  },
  {
   "cell_type": "markdown",
   "id": "2e68bfd9",
   "metadata": {
    "lang": "en"
   },
   "source": [
    "# Positive / Negative\n",
    "\n",
    "Write a function `print_is_positive(number)` that\n",
    "\n",
    "- prints `{number} is positive.` on the screen if `number > 0`,\n",
    "- prints `{number} is zero.` on the screen if `number == 0`,\n",
    "- Print `{number} is negative.` to the screen if `number < 0`."
   ]
  },
  {
   "cell_type": "code",
   "execution_count": null,
   "id": "61852e81",
   "metadata": {
    "tags": [
     "solution"
    ]
   },
   "outputs": [],
   "source": []
  },
  {
   "cell_type": "markdown",
   "id": "3d94efdb",
   "metadata": {
    "lang": "en"
   },
   "source": [
    "Test `print_is_positive(number)` with the values ​​-3, 0 and 2."
   ]
  },
  {
   "cell_type": "code",
   "execution_count": null,
   "id": "4b6986c2",
   "metadata": {
    "tags": [
     "solution"
    ]
   },
   "outputs": [],
   "source": []
  },
  {
   "cell_type": "code",
   "execution_count": null,
   "id": "bc0c4f25",
   "metadata": {
    "tags": [
     "solution"
    ]
   },
   "outputs": [],
   "source": []
  },
  {
   "cell_type": "code",
   "execution_count": null,
   "id": "9e92a781",
   "metadata": {
    "tags": [
     "solution"
    ]
   },
   "outputs": [],
   "source": []
  },
  {
   "cell_type": "markdown",
   "id": "15b5f5af",
   "metadata": {
    "lang": "en"
   },
   "source": [
    "# Signum\n",
    "\n",
    "Write a function `signum(number)` that\n",
    "\n",
    "- returns 1 if `number > 0`,\n",
    "- returns 0 if `number == 0`,\n",
    "- returns -1 if `number < 0`."
   ]
  },
  {
   "cell_type": "code",
   "execution_count": null,
   "id": "965f15aa",
   "metadata": {
    "tags": [
     "solution"
    ]
   },
   "outputs": [],
   "source": []
  },
  {
   "cell_type": "markdown",
   "id": "40ff8ed8",
   "metadata": {
    "lang": "en"
   },
   "source": [
    "Test the function for representative values."
   ]
  },
  {
   "cell_type": "code",
   "execution_count": null,
   "id": "52a66677",
   "metadata": {
    "tags": [
     "solution"
    ]
   },
   "outputs": [],
   "source": []
  },
  {
   "cell_type": "code",
   "execution_count": null,
   "id": "b4c8c091",
   "metadata": {
    "tags": [
     "solution"
    ]
   },
   "outputs": [],
   "source": []
  },
  {
   "cell_type": "code",
   "execution_count": null,
   "id": "0d99422b",
   "metadata": {
    "tags": [
     "solution"
    ]
   },
   "outputs": [],
   "source": []
  },
  {
   "cell_type": "markdown",
   "id": "9ea44e72",
   "metadata": {
    "lang": "en"
   },
   "source": [
    "# Conversion to miles\n",
    "\n",
    "Write a function `convert_km_to_miles(km)` that converts the value `km` from kilometers to miles (i.e. the value in miles is returned).\n",
    "\n",
    "*Note:*\n",
    "- One kilometer equals $0,621371$ miles"
   ]
  },
  {
   "cell_type": "code",
   "execution_count": null,
   "id": "4dbb97fb",
   "metadata": {
    "tags": [
     "solution"
    ]
   },
   "outputs": [],
   "source": []
  },
  {
   "cell_type": "markdown",
   "id": "f0cec25a",
   "metadata": {
    "lang": "en"
   },
   "source": [
    "Test `convert_km_to_miles(km)` for 1 and 5 km."
   ]
  },
  {
   "cell_type": "code",
   "execution_count": null,
   "id": "ee8410b3",
   "metadata": {
    "tags": [
     "solution"
    ]
   },
   "outputs": [],
   "source": []
  },
  {
   "cell_type": "code",
   "execution_count": null,
   "id": "1ea98ff1",
   "metadata": {
    "tags": [
     "solution"
    ]
   },
   "outputs": [],
   "source": []
  },
  {
   "cell_type": "markdown",
   "id": "c4bf12dd",
   "metadata": {
    "lang": "en"
   },
   "source": [
    "Write a function `miles_app()` that reads a length in kilometers from the user and prints out the equivalent distance in miles. If the user enters an empty string, `Please enter a valid distance in km.` should be printed on the screen.\n",
    "\n",
    "*Notes*\n",
    "- A string can be converted to a float value with `float()`."
   ]
  },
  {
   "cell_type": "code",
   "execution_count": null,
   "id": "1ee78be7",
   "metadata": {
    "tags": [
     "solution"
    ]
   },
   "outputs": [],
   "source": []
  },
  {
   "cell_type": "code",
   "execution_count": null,
   "id": "93e28920",
   "metadata": {
    "tags": [
     "solution"
    ]
   },
   "outputs": [],
   "source": []
  },
  {
   "cell_type": "markdown",
   "id": "84dd4223",
   "metadata": {
    "lang": "en"
   },
   "source": [
    "# Conversion to miles with Truthiness\n",
    "\n",
    "Write a function `miles_app_2` that behaves similar to `miles_app` but exploits the truthiness of strings. Are there any inputs for which the behavior differs?"
   ]
  },
  {
   "cell_type": "code",
   "execution_count": null,
   "id": "70f3f20c",
   "metadata": {
    "tags": [
     "solution"
    ]
   },
   "outputs": [],
   "source": []
  },
  {
   "cell_type": "code",
   "execution_count": null,
   "id": "df391d5a",
   "metadata": {
    "tags": [
     "solution"
    ]
   },
   "outputs": [],
   "source": []
  },
  {
   "cell_type": "markdown",
   "id": "bc179c5e",
   "metadata": {
    "lang": "en"
   },
   "source": [
    "# Cinema price\n",
    "\n",
    "The Python-Cinema has the following entrance fees:\n",
    "\n",
    "- Infants under 2 years are free.\n",
    "- Children from 2-12 years pay 2 euros.\n",
    "- Teenagers aged 13-17 pay 5 euros.\n",
    "- Adults pay 10 euros.\n",
    "- Pensioners (over 65) pay 6 euros.\n",
    "\n",
    "Write a function `cinema_price(age)` that returns the price in Euros a person with age `age` has to pay."
   ]
  },
  {
   "cell_type": "code",
   "execution_count": null,
   "id": "020f20d9",
   "metadata": {
    "tags": [
     "solution"
    ]
   },
   "outputs": [],
   "source": []
  },
  {
   "cell_type": "markdown",
   "id": "539fd983",
   "metadata": {
    "lang": "en"
   },
   "source": [
    "Test the function `cinema_price()` for some representative values."
   ]
  },
  {
   "cell_type": "code",
   "execution_count": null,
   "id": "e6b22403",
   "metadata": {
    "tags": [
     "solution"
    ]
   },
   "outputs": [],
   "source": []
  },
  {
   "cell_type": "code",
   "execution_count": null,
   "id": "90db1878",
   "metadata": {
    "tags": [
     "solution"
    ]
   },
   "outputs": [],
   "source": []
  },
  {
   "cell_type": "code",
   "execution_count": null,
   "id": "0c6d21a7",
   "metadata": {
    "tags": [
     "solution"
    ]
   },
   "outputs": [],
   "source": []
  },
  {
   "cell_type": "code",
   "execution_count": null,
   "id": "7c877920",
   "metadata": {
    "tags": [
     "solution"
    ]
   },
   "outputs": [],
   "source": []
  },
  {
   "cell_type": "code",
   "execution_count": null,
   "id": "3d27aa79",
   "metadata": {
    "tags": [
     "solution"
    ]
   },
   "outputs": [],
   "source": []
  },
  {
   "cell_type": "markdown",
   "id": "0e8932aa",
   "metadata": {
    "lang": "en"
   },
   "source": [
    "Write a function `print_cinema_price(age)`, that prints a text of the following type on the screen:\n",
    "\n",
    "```\n",
    "You are 1 year old. Their price is 0 euros.\n",
    "You are 15 years old. Their price is 5 euros.\n",
    "```"
   ]
  },
  {
   "cell_type": "code",
   "execution_count": null,
   "id": "966bf46a",
   "metadata": {
    "tags": [
     "solution"
    ]
   },
   "outputs": [],
   "source": []
  },
  {
   "cell_type": "markdown",
   "id": "9d852520",
   "metadata": {
    "lang": "en"
   },
   "source": [
    "Test `print_cinema_price()` for representative values."
   ]
  },
  {
   "cell_type": "code",
   "execution_count": null,
   "id": "94ab7829",
   "metadata": {
    "tags": [
     "solution"
    ]
   },
   "outputs": [],
   "source": []
  },
  {
   "cell_type": "markdown",
   "id": "f5458379",
   "metadata": {
    "lang": "en"
   },
   "source": [
    "Write a function `cinema_app()` that reads an age and prints the\n",
    "cinema price for a person of this age in the format just described. Two example interactions:\n",
    "\n",
    "```\n",
    "How old are they? 37\n",
    "You are 37 years old. Their price is 10 euros.\n",
    "\n",
    "How old are they? 12\n",
    "You are 12 years old. Their price is 2 euros.\n",
    "```"
   ]
  },
  {
   "cell_type": "code",
   "execution_count": null,
   "id": "d956f2e8",
   "metadata": {
    "tags": [
     "solution"
    ]
   },
   "outputs": [],
   "source": []
  },
  {
   "cell_type": "code",
   "execution_count": null,
   "id": "990dcab0",
   "metadata": {},
   "outputs": [],
   "source": [
    "# kino_app()"
   ]
  },
  {
   "cell_type": "markdown",
   "id": "a680ece0",
   "metadata": {
    "lang": "en"
   },
   "source": [
    "# Guessing games\n",
    "\n",
    "The following simple \"games\" allow the player unlimited number of\n",
    "inputs. Therefore, it makes sense to use a while loop\n",
    "to implement them.\n",
    "\n",
    "### Guess a word\n",
    "\n",
    "Implement a function `guess_word(solution)` that prompts the user for a word and\n",
    "keeps asking until the word typed by the user matches `solution`."
   ]
  },
  {
   "cell_type": "code",
   "execution_count": null,
   "id": "86cbe360",
   "metadata": {
    "tags": [
     "solution"
    ]
   },
   "outputs": [],
   "source": []
  },
  {
   "cell_type": "code",
   "execution_count": null,
   "id": "f95af0a5",
   "metadata": {},
   "outputs": [],
   "source": [
    "# rate_wort(\"Haus\")"
   ]
  },
  {
   "cell_type": "markdown",
   "id": "a38342f4",
   "metadata": {
    "lang": "en"
   },
   "source": [
    "### Number guesses\n",
    "\n",
    "Implement a function `guess_number(solution)` that asks the user for a number and keeps asking until the user has guessed the solution. After every input the function should display whether the entered number\n",
    "is too big, too small or the correct number."
   ]
  },
  {
   "cell_type": "code",
   "execution_count": null,
   "id": "d6e1e2aa",
   "metadata": {
    "tags": [
     "solution"
    ]
   },
   "outputs": [],
   "source": []
  },
  {
   "cell_type": "code",
   "execution_count": null,
   "id": "093714e0",
   "metadata": {},
   "outputs": [],
   "source": [
    "# rate_zahl(23)"
   ]
  },
  {
   "cell_type": "markdown",
   "id": "586ee505",
   "metadata": {
    "lang": "en"
   },
   "source": [
    "How do you have to modify your solution to allow the player to input\n",
    "an empty string to abort the game?"
   ]
  },
  {
   "cell_type": "code",
   "execution_count": null,
   "id": "edb57d26",
   "metadata": {
    "tags": [
     "solution"
    ]
   },
   "outputs": [],
   "source": []
  },
  {
   "cell_type": "code",
   "execution_count": null,
   "id": "00d51a25",
   "metadata": {
    "tags": [
     "solution"
    ]
   },
   "outputs": [],
   "source": []
  },
  {
   "cell_type": "markdown",
   "id": "48c4d954",
   "metadata": {
    "lang": "en"
   },
   "source": [
    "Solution using the `classify_number` function"
   ]
  },
  {
   "cell_type": "code",
   "execution_count": null,
   "id": "eef98ae0",
   "metadata": {
    "tags": [
     "solution"
    ]
   },
   "outputs": [],
   "source": []
  },
  {
   "cell_type": "code",
   "execution_count": null,
   "id": "b7afa4c9",
   "metadata": {
    "tags": [
     "solution"
    ]
   },
   "outputs": [],
   "source": []
  },
  {
   "cell_type": "code",
   "execution_count": null,
   "id": "72ce4635",
   "metadata": {
    "tags": [
     "solution"
    ]
   },
   "outputs": [],
   "source": []
  },
  {
   "cell_type": "markdown",
   "id": "9edaa2ac",
   "metadata": {
    "lang": "en"
   },
   "source": [
    "# Rock, Paper, Scissors\n",
    "\n",
    "In Rock, Paper, Scissors, two players play against each other. Each of the two players\n",
    "selects one of the three symbols \"scissors\", \"rock\" or \"paper\" (without knowing the other player's\n",
    "choice). If both players have chosen the same\n",
    "symbol, the game is a tie. Otherwise:\n",
    "\n",
    "- Scissors beats paper\n",
    "- Paper beats stone\n",
    "- Rock beats scissors\n",
    "\n",
    "Write a function `evaluate_a_round_of_rps(player1, player2)`, which evaluates whether the round ended in a draw or\n",
    "whether one of the players won. To do this, the function should return one of the following values:\n",
    "\n",
    "- 0 if the round was a draw\n",
    "- 1 if player 1 won\n",
    "- 2 if player 2 won\n",
    "\n",
    "If one of the players has made an invalid entry, the\n",
    "Function should throw an exception of user-defined type `BadInputException`, in which the number of the player who is at fault is stored. (If both players made an invalid entry any player can be stored.)"
   ]
  },
  {
   "cell_type": "code",
   "execution_count": null,
   "id": "073cbcdc",
   "metadata": {
    "tags": [
     "solution"
    ]
   },
   "outputs": [],
   "source": []
  },
  {
   "cell_type": "markdown",
   "id": "35b354dc",
   "metadata": {
    "lang": "en"
   },
   "source": [
    "Test all possible paths through your function."
   ]
  },
  {
   "cell_type": "code",
   "execution_count": null,
   "id": "43a914ab",
   "metadata": {
    "tags": [
     "solution"
    ]
   },
   "outputs": [],
   "source": []
  },
  {
   "cell_type": "code",
   "execution_count": null,
   "id": "c0d8022e",
   "metadata": {
    "tags": [
     "solution"
    ]
   },
   "outputs": [],
   "source": []
  },
  {
   "cell_type": "code",
   "execution_count": null,
   "id": "e8c1af52",
   "metadata": {
    "tags": [
     "solution"
    ]
   },
   "outputs": [],
   "source": []
  },
  {
   "cell_type": "code",
   "execution_count": null,
   "id": "a6257f2e",
   "metadata": {
    "tags": [
     "solution"
    ]
   },
   "outputs": [],
   "source": []
  },
  {
   "cell_type": "code",
   "execution_count": null,
   "id": "8414c8ac",
   "metadata": {
    "tags": [
     "solution"
    ]
   },
   "outputs": [],
   "source": []
  },
  {
   "cell_type": "code",
   "execution_count": null,
   "id": "8ab37a14",
   "metadata": {
    "tags": [
     "solution"
    ]
   },
   "outputs": [],
   "source": []
  },
  {
   "cell_type": "code",
   "execution_count": null,
   "id": "c4e75303",
   "metadata": {
    "tags": [
     "solution"
    ]
   },
   "outputs": [],
   "source": []
  },
  {
   "cell_type": "code",
   "execution_count": null,
   "id": "76f212ae",
   "metadata": {
    "tags": [
     "solution"
    ]
   },
   "outputs": [],
   "source": []
  },
  {
   "cell_type": "code",
   "execution_count": null,
   "id": "b53ae7bd",
   "metadata": {
    "tags": [
     "solution"
    ]
   },
   "outputs": [],
   "source": []
  },
  {
   "cell_type": "code",
   "execution_count": null,
   "id": "7c82fdf1",
   "metadata": {
    "tags": [
     "solution"
    ]
   },
   "outputs": [],
   "source": []
  },
  {
   "cell_type": "code",
   "execution_count": null,
   "id": "c5083353",
   "metadata": {
    "tags": [
     "solution"
    ]
   },
   "outputs": [],
   "source": []
  },
  {
   "cell_type": "code",
   "execution_count": null,
   "id": "234065fd",
   "metadata": {
    "tags": [
     "solution"
    ]
   },
   "outputs": [],
   "source": []
  },
  {
   "cell_type": "code",
   "execution_count": null,
   "id": "e039251f",
   "metadata": {
    "tags": [
     "solution"
    ]
   },
   "outputs": [],
   "source": []
  },
  {
   "cell_type": "code",
   "execution_count": null,
   "id": "92406a4e",
   "metadata": {
    "tags": [
     "solution"
    ]
   },
   "outputs": [],
   "source": []
  },
  {
   "cell_type": "code",
   "execution_count": null,
   "id": "daf3cdfc",
   "metadata": {
    "tags": [
     "solution"
    ]
   },
   "outputs": [],
   "source": []
  },
  {
   "cell_type": "markdown",
   "id": "db7f0731",
   "metadata": {
    "lang": "en"
   },
   "source": [
    "Write a function `compare_symbols(player1, player2)`,\n",
    "that outputs the following information on the screen:\n",
    "\n",
    "- `Tie.` if both players have chosen the same symbol,\n",
    "- `Player X wins!` if player X (X = 1 or 2) won,\n",
    "- `Invalid symbol from player X!` if player X has entered an invalid symbol."
   ]
  },
  {
   "cell_type": "code",
   "execution_count": null,
   "id": "94ed2b26",
   "metadata": {
    "tags": [
     "solution"
    ]
   },
   "outputs": [],
   "source": []
  },
  {
   "cell_type": "markdown",
   "id": "c4211487",
   "metadata": {
    "lang": "en"
   },
   "source": [
    "Test `compare_symbols` for appropriate input."
   ]
  },
  {
   "cell_type": "code",
   "execution_count": null,
   "id": "be177718",
   "metadata": {
    "tags": [
     "solution"
    ]
   },
   "outputs": [],
   "source": []
  },
  {
   "cell_type": "code",
   "execution_count": null,
   "id": "a7faca9c",
   "metadata": {
    "tags": [
     "solution"
    ]
   },
   "outputs": [],
   "source": []
  },
  {
   "cell_type": "code",
   "execution_count": null,
   "id": "b1f04a14",
   "metadata": {
    "tags": [
     "solution"
    ]
   },
   "outputs": [],
   "source": []
  },
  {
   "cell_type": "code",
   "execution_count": null,
   "id": "57b2c4ae",
   "metadata": {
    "tags": [
     "solution"
    ]
   },
   "outputs": [],
   "source": []
  },
  {
   "cell_type": "code",
   "execution_count": null,
   "id": "2aa60abc",
   "metadata": {
    "tags": [
     "solution"
    ]
   },
   "outputs": [],
   "source": []
  },
  {
   "cell_type": "code",
   "execution_count": null,
   "id": "5adf71ef",
   "metadata": {
    "tags": [
     "solution"
    ]
   },
   "outputs": [],
   "source": []
  },
  {
   "cell_type": "code",
   "execution_count": null,
   "id": "d58dbccb",
   "metadata": {
    "tags": [
     "solution"
    ]
   },
   "outputs": [],
   "source": []
  },
  {
   "cell_type": "code",
   "execution_count": null,
   "id": "fd4b563f",
   "metadata": {
    "tags": [
     "solution"
    ]
   },
   "outputs": [],
   "source": []
  },
  {
   "cell_type": "code",
   "execution_count": null,
   "id": "801f2148",
   "metadata": {
    "tags": [
     "solution"
    ]
   },
   "outputs": [],
   "source": []
  },
  {
   "cell_type": "markdown",
   "id": "4ede4cac",
   "metadata": {
    "lang": "en"
   },
   "source": [
    "Write a function `play_a_round_of_rps()` that reads the selections\n",
    "of player 1 and player 2 from the terminal and prints out who won.\n",
    "\n",
    "(Of course this is not a usable game as player 2 can see\n",
    "the choice player 1 made.)"
   ]
  },
  {
   "cell_type": "code",
   "execution_count": null,
   "id": "a2c38b73",
   "metadata": {
    "tags": [
     "solution"
    ]
   },
   "outputs": [],
   "source": []
  },
  {
   "cell_type": "markdown",
   "id": "2c0294bf",
   "metadata": {
    "lang": "en"
   },
   "source": [
    "Test the function `play_a_round_of_rps()` interactively."
   ]
  },
  {
   "cell_type": "code",
   "execution_count": null,
   "id": "441b196f",
   "metadata": {
    "tags": [
     "solution"
    ]
   },
   "outputs": [],
   "source": []
  },
  {
   "cell_type": "markdown",
   "id": "10a1dfa5",
   "metadata": {
    "lang": "en"
   },
   "source": [
    "Write a function `play_rps()` that lets two players play against each other until one player has won 3 games more than\n",
    "the other (e.g. if the first player has won 2 games and the second player 5)."
   ]
  },
  {
   "cell_type": "code",
   "execution_count": null,
   "id": "6bcf0208",
   "metadata": {
    "lines_to_next_cell": 2,
    "tags": [
     "solution"
    ]
   },
   "outputs": [],
   "source": []
  },
  {
   "cell_type": "code",
   "execution_count": null,
   "id": "0e991ecc",
   "metadata": {
    "tags": [
     "solution"
    ]
   },
   "outputs": [],
   "source": []
  }
 ],
 "metadata": {
  "jupytext": {
   "encoding": "# -*- coding: utf-8 -*-",
   "formats": "ipynb"
  },
  "kernelspec": {
   "display_name": "Python 3 (ipykernel)",
   "language": "python",
   "name": "python3"
  }
 },
 "nbformat": 4,
 "nbformat_minor": 5
}
