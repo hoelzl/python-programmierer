{
 "cells": [
  {
   "cell_type": "markdown",
   "id": "bc4aba26",
   "metadata": {
    "lang": "en"
   },
   "source": [
    "# Even number\n",
    "\n",
    "Write a function `is_even(number)` that returns `True`,\n",
    "if `number` is even and `False` if `number` is odd."
   ]
  },
  {
   "cell_type": "code",
   "execution_count": null,
   "id": "98229615",
   "metadata": {
    "tags": [
     "solution"
    ]
   },
   "outputs": [],
   "source": []
  },
  {
   "cell_type": "markdown",
   "id": "3e88b158",
   "metadata": {
    "lang": "en"
   },
   "source": [
    "Write a function `print_is_even(number)` that\n",
    "\n",
    "- prints `{number} is even.` on the screen if `number` is even and\n",
    "- Prints `{number} is not even.` to the screen if `number` is not\n",
    "  is straight."
   ]
  },
  {
   "cell_type": "code",
   "execution_count": null,
   "id": "8ec389ad",
   "metadata": {
    "tags": [
     "solution"
    ]
   },
   "outputs": [],
   "source": []
  },
  {
   "cell_type": "markdown",
   "id": "ce3b6af6",
   "metadata": {
    "lang": "en"
   },
   "source": [
    "Test `print_is_even(number)` with the values ​​0, 1 and 8."
   ]
  },
  {
   "cell_type": "code",
   "execution_count": null,
   "id": "a953ce4b",
   "metadata": {
    "tags": [
     "solution"
    ]
   },
   "outputs": [],
   "source": []
  },
  {
   "cell_type": "markdown",
   "id": "25bd94c2",
   "metadata": {
    "lang": "en"
   },
   "source": [
    "# Positive / Negative\n",
    "\n",
    "Write a function `print_is_positive(number)` that\n",
    "\n",
    "- prints `{number} is positive.` on the screen if `number > 0`,\n",
    "- prints `{number} is zero.` on the screen if `number == 0`,\n",
    "- Print `{number} is negative.` to the screen if `number < 0`."
   ]
  },
  {
   "cell_type": "code",
   "execution_count": null,
   "id": "bfd4bb55",
   "metadata": {
    "tags": [
     "solution"
    ]
   },
   "outputs": [],
   "source": []
  },
  {
   "cell_type": "markdown",
   "id": "237886c1",
   "metadata": {
    "lang": "en"
   },
   "source": [
    "Test `print_is_positive(number)` with the values ​​-3, 0 and 2."
   ]
  },
  {
   "cell_type": "code",
   "execution_count": null,
   "id": "e242dfca",
   "metadata": {
    "tags": [
     "solution"
    ]
   },
   "outputs": [],
   "source": []
  },
  {
   "cell_type": "code",
   "execution_count": null,
   "id": "5f94003f",
   "metadata": {
    "tags": [
     "solution"
    ]
   },
   "outputs": [],
   "source": []
  },
  {
   "cell_type": "code",
   "execution_count": null,
   "id": "d6d266b6",
   "metadata": {
    "tags": [
     "solution"
    ]
   },
   "outputs": [],
   "source": []
  },
  {
   "cell_type": "markdown",
   "id": "72b0e760",
   "metadata": {
    "lang": "en"
   },
   "source": [
    "# Signum\n",
    "\n",
    "Write a function `signum(number)` that\n",
    "\n",
    "- returns 1 if `number > 0`,\n",
    "- returns 0 if `number == 0`,\n",
    "- returns -1 if `number < 0`."
   ]
  },
  {
   "cell_type": "code",
   "execution_count": null,
   "id": "e99b8605",
   "metadata": {
    "tags": [
     "solution"
    ]
   },
   "outputs": [],
   "source": []
  },
  {
   "cell_type": "markdown",
   "id": "0f08ab85",
   "metadata": {
    "lang": "en"
   },
   "source": [
    "Test the function for representative values."
   ]
  },
  {
   "cell_type": "code",
   "execution_count": null,
   "id": "4454cbb2",
   "metadata": {
    "tags": [
     "solution"
    ]
   },
   "outputs": [],
   "source": []
  },
  {
   "cell_type": "code",
   "execution_count": null,
   "id": "6d512184",
   "metadata": {
    "tags": [
     "solution"
    ]
   },
   "outputs": [],
   "source": []
  },
  {
   "cell_type": "code",
   "execution_count": null,
   "id": "a0d2f49f",
   "metadata": {
    "tags": [
     "solution"
    ]
   },
   "outputs": [],
   "source": []
  },
  {
   "cell_type": "markdown",
   "id": "3be9be7f",
   "metadata": {
    "lang": "en"
   },
   "source": [
    "# Conversion to miles\n",
    "\n",
    "Write a function `convert_km_to_miles(km)` that converts the value `km` from kilometers to miles (i.e. the value in miles is returned).\n",
    "\n",
    "*Note:*\n",
    "- One kilometer equals $0,621371$ miles"
   ]
  },
  {
   "cell_type": "code",
   "execution_count": null,
   "id": "7da4295f",
   "metadata": {
    "tags": [
     "solution"
    ]
   },
   "outputs": [],
   "source": []
  },
  {
   "cell_type": "markdown",
   "id": "daf1f1ee",
   "metadata": {
    "lang": "en"
   },
   "source": [
    "Test `convert_km_to_miles(km)` for 1 and 5 km."
   ]
  },
  {
   "cell_type": "code",
   "execution_count": null,
   "id": "13384934",
   "metadata": {
    "tags": [
     "solution"
    ]
   },
   "outputs": [],
   "source": []
  },
  {
   "cell_type": "code",
   "execution_count": null,
   "id": "ff6c06f3",
   "metadata": {
    "tags": [
     "solution"
    ]
   },
   "outputs": [],
   "source": []
  },
  {
   "cell_type": "markdown",
   "id": "3c598af3",
   "metadata": {
    "lang": "en"
   },
   "source": [
    "Write a function `miles_app()` that reads a length in kilometers from the user and prints out the equivalent distance in miles. If the user enters an empty string, `Please enter a valid distance in km.` should be printed on the screen.\n",
    "\n",
    "*Notes*\n",
    "- A string can be converted to a float value with `float()`."
   ]
  },
  {
   "cell_type": "code",
   "execution_count": null,
   "id": "f950af2a",
   "metadata": {
    "tags": [
     "solution"
    ]
   },
   "outputs": [],
   "source": []
  },
  {
   "cell_type": "code",
   "execution_count": null,
   "id": "9392e646",
   "metadata": {
    "tags": [
     "solution"
    ]
   },
   "outputs": [],
   "source": []
  },
  {
   "cell_type": "markdown",
   "id": "acad854b",
   "metadata": {
    "lang": "en"
   },
   "source": [
    "# Conversion to miles with Truthiness\n",
    "\n",
    "Write a function `miles_app_2` that behaves similar to `miles_app` but exploits the truthiness of strings. Are there any inputs for which the behavior differs?"
   ]
  },
  {
   "cell_type": "code",
   "execution_count": null,
   "id": "4eb9321c",
   "metadata": {
    "tags": [
     "solution"
    ]
   },
   "outputs": [],
   "source": []
  },
  {
   "cell_type": "code",
   "execution_count": null,
   "id": "e09efb3b",
   "metadata": {
    "tags": [
     "solution"
    ]
   },
   "outputs": [],
   "source": []
  },
  {
   "cell_type": "markdown",
   "id": "ad380b3f",
   "metadata": {
    "lang": "en"
   },
   "source": [
    "# Cinema price\n",
    "\n",
    "The Python-Cinema has the following entrance fees:\n",
    "\n",
    "- Infants under 2 years are free.\n",
    "- Children from 2-12 years pay 2 euros.\n",
    "- Teenagers aged 13-17 pay 5 euros.\n",
    "- Adults pay 10 euros.\n",
    "- Pensioners (over 65) pay 6 euros.\n",
    "\n",
    "Write a function `cinema_price(age)` that returns the price in Euros a person with age `age` has to pay."
   ]
  },
  {
   "cell_type": "code",
   "execution_count": null,
   "id": "7ab0bfdb",
   "metadata": {
    "tags": [
     "solution"
    ]
   },
   "outputs": [],
   "source": []
  },
  {
   "cell_type": "markdown",
   "id": "2630ea6b",
   "metadata": {
    "lang": "en"
   },
   "source": [
    "Test the function `cinema_price()` for some representative values."
   ]
  },
  {
   "cell_type": "code",
   "execution_count": null,
   "id": "17d27326",
   "metadata": {
    "tags": [
     "solution"
    ]
   },
   "outputs": [],
   "source": []
  },
  {
   "cell_type": "code",
   "execution_count": null,
   "id": "69a589cf",
   "metadata": {
    "tags": [
     "solution"
    ]
   },
   "outputs": [],
   "source": []
  },
  {
   "cell_type": "code",
   "execution_count": null,
   "id": "26bdd55a",
   "metadata": {
    "tags": [
     "solution"
    ]
   },
   "outputs": [],
   "source": []
  },
  {
   "cell_type": "code",
   "execution_count": null,
   "id": "8b343644",
   "metadata": {
    "tags": [
     "solution"
    ]
   },
   "outputs": [],
   "source": []
  },
  {
   "cell_type": "code",
   "execution_count": null,
   "id": "9b9df7e0",
   "metadata": {
    "tags": [
     "solution"
    ]
   },
   "outputs": [],
   "source": []
  },
  {
   "cell_type": "markdown",
   "id": "078de8ee",
   "metadata": {
    "lang": "en"
   },
   "source": [
    "Write a function `print_cinema_price(age)`, that prints a text of the following type on the screen:\n",
    "\n",
    "```\n",
    "You are 1 year old. Their price is 0 euros.\n",
    "You are 15 years old. Their price is 5 euros.\n",
    "```"
   ]
  },
  {
   "cell_type": "code",
   "execution_count": null,
   "id": "0d4153c5",
   "metadata": {
    "tags": [
     "solution"
    ]
   },
   "outputs": [],
   "source": []
  },
  {
   "cell_type": "markdown",
   "id": "57d4dafc",
   "metadata": {
    "lang": "en"
   },
   "source": [
    "Test `print_cinema_price()` for representative values."
   ]
  },
  {
   "cell_type": "code",
   "execution_count": null,
   "id": "b8193872",
   "metadata": {
    "tags": [
     "solution"
    ]
   },
   "outputs": [],
   "source": []
  },
  {
   "cell_type": "markdown",
   "id": "3dc56dd1",
   "metadata": {
    "lang": "en"
   },
   "source": [
    "Write a function `cinema_app()` that reads an age and prints the\n",
    "cinema price for a person of this age in the format just described. Two example interactions:\n",
    "\n",
    "```\n",
    "How old are they? 37\n",
    "You are 37 years old. Their price is 10 euros.\n",
    "\n",
    "How old are they? 12\n",
    "You are 12 years old. Their price is 2 euros.\n",
    "```"
   ]
  },
  {
   "cell_type": "code",
   "execution_count": null,
   "id": "c84c3a31",
   "metadata": {
    "tags": [
     "solution"
    ]
   },
   "outputs": [],
   "source": []
  },
  {
   "cell_type": "code",
   "execution_count": null,
   "id": "4574ec68",
   "metadata": {},
   "outputs": [],
   "source": [
    "# kino_app()"
   ]
  },
  {
   "cell_type": "markdown",
   "id": "be448e18",
   "metadata": {
    "lang": "en"
   },
   "source": [
    "# Guessing games\n",
    "\n",
    "The following simple \"games\" allow the player unlimited number of\n",
    "inputs. Therefore, it makes sense to use a while loop\n",
    "to implement them.\n",
    "\n",
    "### Guess a word\n",
    "\n",
    "Implement a function `guess_word(solution)` that prompts the user for a word and\n",
    "keeps asking until the word typed by the user matches `solution`."
   ]
  },
  {
   "cell_type": "code",
   "execution_count": null,
   "id": "c849b9e4",
   "metadata": {
    "tags": [
     "solution"
    ]
   },
   "outputs": [],
   "source": []
  },
  {
   "cell_type": "code",
   "execution_count": null,
   "id": "07dfa90e",
   "metadata": {},
   "outputs": [],
   "source": [
    "# rate_wort(\"Haus\")"
   ]
  },
  {
   "cell_type": "markdown",
   "id": "72bbc50e",
   "metadata": {
    "lang": "en"
   },
   "source": [
    "### Number guesses\n",
    "\n",
    "Implement a function `guess_number(solution)` that asks the user for a number and keeps asking until the user has guessed the solution. After every input the function should display whether the entered number\n",
    "is too big, too small or the correct number."
   ]
  },
  {
   "cell_type": "code",
   "execution_count": null,
   "id": "b1574060",
   "metadata": {
    "tags": [
     "solution"
    ]
   },
   "outputs": [],
   "source": []
  },
  {
   "cell_type": "code",
   "execution_count": null,
   "id": "92491bd0",
   "metadata": {},
   "outputs": [],
   "source": [
    "# rate_zahl(23)"
   ]
  },
  {
   "cell_type": "markdown",
   "id": "3587f19a",
   "metadata": {
    "lang": "en"
   },
   "source": [
    "How do you have to modify your solution to allow the player to input\n",
    "an empty string to abort the game?"
   ]
  },
  {
   "cell_type": "code",
   "execution_count": null,
   "id": "6990a1c4",
   "metadata": {
    "tags": [
     "solution"
    ]
   },
   "outputs": [],
   "source": []
  },
  {
   "cell_type": "code",
   "execution_count": null,
   "id": "c3f16857",
   "metadata": {
    "tags": [
     "solution"
    ]
   },
   "outputs": [],
   "source": []
  },
  {
   "cell_type": "markdown",
   "id": "bffc1cff",
   "metadata": {
    "lang": "en"
   },
   "source": [
    "Solution using the `classify_number` function"
   ]
  },
  {
   "cell_type": "code",
   "execution_count": null,
   "id": "05d2eb87",
   "metadata": {
    "tags": [
     "solution"
    ]
   },
   "outputs": [],
   "source": []
  },
  {
   "cell_type": "code",
   "execution_count": null,
   "id": "c6fc9c7c",
   "metadata": {
    "tags": [
     "solution"
    ]
   },
   "outputs": [],
   "source": []
  },
  {
   "cell_type": "code",
   "execution_count": null,
   "id": "357f24c9",
   "metadata": {
    "tags": [
     "solution"
    ]
   },
   "outputs": [],
   "source": []
  },
  {
   "cell_type": "markdown",
   "id": "2a4b667e",
   "metadata": {
    "lang": "en"
   },
   "source": [
    "# Rock, Paper, Scissors\n",
    "\n",
    "In Rock, Paper, Scissors, two players play against each other. Each of the two players\n",
    "selects one of the three symbols \"scissors\", \"rock\" or \"paper\" (without knowing the other player's\n",
    "choice). If both players have chosen the same\n",
    "symbol, the game is a tie. Otherwise:\n",
    "\n",
    "- Scissors beats paper\n",
    "- Paper beats stone\n",
    "- Rock beats scissors\n",
    "\n",
    "Write a function `evaluate_a_round_of_rps(player1, player2)`, which evaluates whether the round ended in a draw or\n",
    "whether one of the players won. To do this, the function should return one of the following values:\n",
    "\n",
    "- 0 if the round was a draw\n",
    "- 1 if player 1 won\n",
    "- 2 if player 2 won\n",
    "\n",
    "If one of the players has made an invalid entry, the\n",
    "Function should throw an exception of user-defined type `BadInputException`, in which the number of the player who is at fault is stored. (If both players made an invalid entry any player can be stored.)"
   ]
  },
  {
   "cell_type": "code",
   "execution_count": null,
   "id": "e9d2d179",
   "metadata": {
    "tags": [
     "solution"
    ]
   },
   "outputs": [],
   "source": []
  },
  {
   "cell_type": "markdown",
   "id": "48477ad7",
   "metadata": {
    "lang": "en"
   },
   "source": [
    "Test all possible paths through your function."
   ]
  },
  {
   "cell_type": "code",
   "execution_count": null,
   "id": "1b316a1d",
   "metadata": {
    "tags": [
     "solution"
    ]
   },
   "outputs": [],
   "source": []
  },
  {
   "cell_type": "code",
   "execution_count": null,
   "id": "17e365b3",
   "metadata": {
    "tags": [
     "solution"
    ]
   },
   "outputs": [],
   "source": []
  },
  {
   "cell_type": "code",
   "execution_count": null,
   "id": "06bc8cb4",
   "metadata": {
    "tags": [
     "solution"
    ]
   },
   "outputs": [],
   "source": []
  },
  {
   "cell_type": "code",
   "execution_count": null,
   "id": "3f88fc40",
   "metadata": {
    "tags": [
     "solution"
    ]
   },
   "outputs": [],
   "source": []
  },
  {
   "cell_type": "code",
   "execution_count": null,
   "id": "49534b2b",
   "metadata": {
    "tags": [
     "solution"
    ]
   },
   "outputs": [],
   "source": []
  },
  {
   "cell_type": "code",
   "execution_count": null,
   "id": "83454b97",
   "metadata": {
    "tags": [
     "solution"
    ]
   },
   "outputs": [],
   "source": []
  },
  {
   "cell_type": "code",
   "execution_count": null,
   "id": "f89e2d87",
   "metadata": {
    "tags": [
     "solution"
    ]
   },
   "outputs": [],
   "source": []
  },
  {
   "cell_type": "code",
   "execution_count": null,
   "id": "32346994",
   "metadata": {
    "tags": [
     "solution"
    ]
   },
   "outputs": [],
   "source": []
  },
  {
   "cell_type": "code",
   "execution_count": null,
   "id": "b265fe52",
   "metadata": {
    "tags": [
     "solution"
    ]
   },
   "outputs": [],
   "source": []
  },
  {
   "cell_type": "code",
   "execution_count": null,
   "id": "993b675b",
   "metadata": {
    "tags": [
     "solution"
    ]
   },
   "outputs": [],
   "source": []
  },
  {
   "cell_type": "code",
   "execution_count": null,
   "id": "4e48443b",
   "metadata": {
    "tags": [
     "solution"
    ]
   },
   "outputs": [],
   "source": []
  },
  {
   "cell_type": "code",
   "execution_count": null,
   "id": "d28721f9",
   "metadata": {
    "tags": [
     "solution"
    ]
   },
   "outputs": [],
   "source": []
  },
  {
   "cell_type": "code",
   "execution_count": null,
   "id": "53191d8a",
   "metadata": {
    "tags": [
     "solution"
    ]
   },
   "outputs": [],
   "source": []
  },
  {
   "cell_type": "code",
   "execution_count": null,
   "id": "39edbb75",
   "metadata": {
    "tags": [
     "solution"
    ]
   },
   "outputs": [],
   "source": []
  },
  {
   "cell_type": "code",
   "execution_count": null,
   "id": "77bf5bf4",
   "metadata": {
    "tags": [
     "solution"
    ]
   },
   "outputs": [],
   "source": []
  },
  {
   "cell_type": "markdown",
   "id": "26eab692",
   "metadata": {
    "lang": "en"
   },
   "source": [
    "Write a function `compare_symbols(player1, player2)`,\n",
    "that outputs the following information on the screen:\n",
    "\n",
    "- `Tie.` if both players have chosen the same symbol,\n",
    "- `Player X wins!` if player X (X = 1 or 2) won,\n",
    "- `Invalid symbol from player X!` if player X has entered an invalid symbol."
   ]
  },
  {
   "cell_type": "code",
   "execution_count": null,
   "id": "dfca7658",
   "metadata": {
    "tags": [
     "solution"
    ]
   },
   "outputs": [],
   "source": []
  },
  {
   "cell_type": "markdown",
   "id": "8f0d8672",
   "metadata": {
    "lang": "en"
   },
   "source": [
    "Test `compare_symbols` for appropriate input."
   ]
  },
  {
   "cell_type": "code",
   "execution_count": null,
   "id": "294c7c90",
   "metadata": {
    "tags": [
     "solution"
    ]
   },
   "outputs": [],
   "source": []
  },
  {
   "cell_type": "code",
   "execution_count": null,
   "id": "cb064ab1",
   "metadata": {
    "tags": [
     "solution"
    ]
   },
   "outputs": [],
   "source": []
  },
  {
   "cell_type": "code",
   "execution_count": null,
   "id": "df948693",
   "metadata": {
    "tags": [
     "solution"
    ]
   },
   "outputs": [],
   "source": []
  },
  {
   "cell_type": "code",
   "execution_count": null,
   "id": "669e9726",
   "metadata": {
    "tags": [
     "solution"
    ]
   },
   "outputs": [],
   "source": []
  },
  {
   "cell_type": "code",
   "execution_count": null,
   "id": "ce8d426e",
   "metadata": {
    "tags": [
     "solution"
    ]
   },
   "outputs": [],
   "source": []
  },
  {
   "cell_type": "code",
   "execution_count": null,
   "id": "50d667db",
   "metadata": {
    "tags": [
     "solution"
    ]
   },
   "outputs": [],
   "source": []
  },
  {
   "cell_type": "code",
   "execution_count": null,
   "id": "82e7e08d",
   "metadata": {
    "tags": [
     "solution"
    ]
   },
   "outputs": [],
   "source": []
  },
  {
   "cell_type": "code",
   "execution_count": null,
   "id": "9bfe5513",
   "metadata": {
    "tags": [
     "solution"
    ]
   },
   "outputs": [],
   "source": []
  },
  {
   "cell_type": "code",
   "execution_count": null,
   "id": "57efcd27",
   "metadata": {
    "tags": [
     "solution"
    ]
   },
   "outputs": [],
   "source": []
  },
  {
   "cell_type": "markdown",
   "id": "ec62281b",
   "metadata": {
    "lang": "en"
   },
   "source": [
    "Write a function `play_a_round_of_rps()` that reads the selections\n",
    "of player 1 and player 2 from the terminal and prints out who won.\n",
    "\n",
    "(Of course this is not a usable game as player 2 can see\n",
    "the choice player 1 made.)"
   ]
  },
  {
   "cell_type": "code",
   "execution_count": null,
   "id": "ef3a76dd",
   "metadata": {
    "tags": [
     "solution"
    ]
   },
   "outputs": [],
   "source": []
  },
  {
   "cell_type": "markdown",
   "id": "d17ffcce",
   "metadata": {
    "lang": "en"
   },
   "source": [
    "Test the function `play_a_round_of_rps()` interactively."
   ]
  },
  {
   "cell_type": "code",
   "execution_count": null,
   "id": "123b9d9f",
   "metadata": {
    "tags": [
     "solution"
    ]
   },
   "outputs": [],
   "source": []
  },
  {
   "cell_type": "markdown",
   "id": "d59e3728",
   "metadata": {
    "lang": "en"
   },
   "source": [
    "Write a function `play_rps()` that lets two players play against each other until one player has won 3 games more than\n",
    "the other (e.g. if the first player has won 2 games and the second player 5)."
   ]
  },
  {
   "cell_type": "code",
   "execution_count": null,
   "id": "2fa62938",
   "metadata": {
    "lines_to_next_cell": 2,
    "tags": [
     "solution"
    ]
   },
   "outputs": [],
   "source": []
  },
  {
   "cell_type": "code",
   "execution_count": null,
   "id": "a80e22c0",
   "metadata": {
    "tags": [
     "solution"
    ]
   },
   "outputs": [],
   "source": []
  }
 ],
 "metadata": {
  "jupytext": {
   "encoding": "# -*- coding: utf-8 -*-",
   "formats": "ipynb"
  },
  "kernelspec": {
   "display_name": "Python 3 (ipykernel)",
   "language": "python",
   "name": "python3"
  }
 },
 "nbformat": 4,
 "nbformat_minor": 5
}
