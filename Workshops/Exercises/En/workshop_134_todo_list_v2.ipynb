{
 "cells": [
  {
   "cell_type": "markdown",
   "id": "1ea29c06",
   "metadata": {
    "lang": "en"
   },
   "source": [
    "# Todo list version 2\n",
    "\n",
    "In this workshop we want to implement a to-do list, but now we want to\n",
    "represent both the list and the entries by instances of classes.\n",
    "\n",
    "Each entry in the todo list should contain the following information:\n",
    "\n",
    "- Title\n",
    "- Priority\n",
    "- Has the item already been completed or not?\n",
    "\n",
    "Define a class `TodoItem` that encapsulates this data."
   ]
  },
  {
   "cell_type": "code",
   "execution_count": null,
   "id": "856c798b",
   "metadata": {
    "tags": [
     "solution"
    ]
   },
   "outputs": [],
   "source": []
  },
  {
   "cell_type": "markdown",
   "id": "a460f388",
   "metadata": {
    "lang": "en"
   },
   "source": [
    "Create a todo item with the following components:\n",
    "- Title: Learn Python\n",
    "- Priority 3\n",
    "- not done"
   ]
  },
  {
   "cell_type": "code",
   "execution_count": null,
   "id": "e3cfd67a",
   "metadata": {
    "tags": [
     "solution"
    ]
   },
   "outputs": [],
   "source": []
  },
  {
   "cell_type": "markdown",
   "id": "21d3f683",
   "metadata": {
    "lang": "en"
   },
   "source": [
    "The representation of the item is not very meaningful. Define\n",
    "therefore a function `todo_item_as_string(item: TodoItem) -> str` which converts a\n",
    "todo item into a string that provides information about the item's attributes."
   ]
  },
  {
   "cell_type": "code",
   "execution_count": null,
   "id": "2b237a52",
   "metadata": {
    "tags": [
     "solution"
    ]
   },
   "outputs": [],
   "source": []
  },
  {
   "cell_type": "code",
   "execution_count": null,
   "id": "5cfdaa83",
   "metadata": {
    "tags": [
     "solution"
    ]
   },
   "outputs": [],
   "source": []
  },
  {
   "cell_type": "markdown",
   "id": "b08d4fe1",
   "metadata": {
    "lang": "en"
   },
   "source": [
    "Define a class `TodoList` that represents a todo list."
   ]
  },
  {
   "cell_type": "code",
   "execution_count": null,
   "id": "3c9b5bf5",
   "metadata": {
    "tags": [
     "solution"
    ]
   },
   "outputs": [],
   "source": []
  },
  {
   "cell_type": "markdown",
   "id": "24cb34cd",
   "metadata": {
    "lang": "en"
   },
   "source": [
    "Define a function\n",
    "\n",
    "`todo_list_as_string(todo_list: TodoList) -> str`,\n",
    "\n",
    "which converts a todo list into a string containing information about its items."
   ]
  },
  {
   "cell_type": "code",
   "execution_count": null,
   "id": "803a3559",
   "metadata": {
    "tags": [
     "solution"
    ]
   },
   "outputs": [],
   "source": []
  },
  {
   "cell_type": "markdown",
   "id": "8488a6f5",
   "metadata": {
    "lang": "en"
   },
   "source": [
    "Create a todo list `todos` containing the following items:\n",
    "\n",
    "- Title: Learn Python, priority 3, not done\n",
    "- Title: Buy vegetables, priority 2, not done\n",
    "- Title: Call Hans, Priority 5, Done"
   ]
  },
  {
   "cell_type": "code",
   "execution_count": null,
   "id": "c859f406",
   "metadata": {
    "tags": [
     "solution"
    ]
   },
   "outputs": [],
   "source": []
  },
  {
   "cell_type": "code",
   "execution_count": null,
   "id": "5de26783",
   "metadata": {
    "tags": [
     "solution"
    ]
   },
   "outputs": [],
   "source": []
  },
  {
   "cell_type": "markdown",
   "id": "94933a4f",
   "metadata": {
    "lang": "en"
   },
   "source": [
    "Write a function `add_todo_item(todo_list, title, priority)`,\n",
    "which adds a new todo item to `todo_list`."
   ]
  },
  {
   "cell_type": "code",
   "execution_count": null,
   "id": "c94ad22e",
   "metadata": {
    "tags": [
     "solution"
    ]
   },
   "outputs": [],
   "source": []
  },
  {
   "cell_type": "markdown",
   "id": "664cc5d6",
   "metadata": {
    "lang": "en"
   },
   "source": [
    "Add a new todo item titled \"shovel snow\" with priority 5 to the `todos` list."
   ]
  },
  {
   "cell_type": "code",
   "execution_count": null,
   "id": "6b0ce7ee",
   "metadata": {
    "tags": [
     "solution"
    ]
   },
   "outputs": [],
   "source": []
  },
  {
   "cell_type": "code",
   "execution_count": null,
   "id": "35415c95",
   "metadata": {
    "tags": [
     "solution"
    ]
   },
   "outputs": [],
   "source": []
  },
  {
   "cell_type": "markdown",
   "id": "540e2eb6",
   "metadata": {
    "lang": "en"
   },
   "source": [
    "Write a function `mark_todo_item_done(todo_list, title)`,\n",
    "that marks as done the first todo item with title\n",
    "`title` that is not yet marked as done."
   ]
  },
  {
   "cell_type": "code",
   "execution_count": null,
   "id": "d86933b7",
   "metadata": {
    "tags": [
     "solution"
    ]
   },
   "outputs": [],
   "source": []
  },
  {
   "cell_type": "markdown",
   "id": "99815a4d",
   "metadata": {
    "lang": "en"
   },
   "source": [
    "Mark the to-do item `Shovel snow` as done."
   ]
  },
  {
   "cell_type": "code",
   "execution_count": null,
   "id": "44213664",
   "metadata": {
    "tags": [
     "solution"
    ]
   },
   "outputs": [],
   "source": []
  },
  {
   "cell_type": "code",
   "execution_count": null,
   "id": "e7e1218b",
   "metadata": {
    "tags": [
     "solution"
    ]
   },
   "outputs": [],
   "source": []
  },
  {
   "cell_type": "markdown",
   "id": "d50430a3",
   "metadata": {
    "lang": "en"
   },
   "source": [
    "Add two todo items with text \"Learn Python\" and priority 1 and 6\n",
    "added to the todo list."
   ]
  },
  {
   "cell_type": "code",
   "execution_count": null,
   "id": "5cc39d6a",
   "metadata": {
    "tags": [
     "solution"
    ]
   },
   "outputs": [],
   "source": []
  },
  {
   "cell_type": "code",
   "execution_count": null,
   "id": "51665550",
   "metadata": {
    "tags": [
     "solution"
    ]
   },
   "outputs": [],
   "source": []
  },
  {
   "cell_type": "markdown",
   "id": "d375d5ff",
   "metadata": {
    "lang": "en"
   },
   "source": [
    "Mark a \"Learn Python\" todo item as done.\n",
    "How does your list look now?"
   ]
  },
  {
   "cell_type": "code",
   "execution_count": null,
   "id": "c0529e91",
   "metadata": {
    "tags": [
     "solution"
    ]
   },
   "outputs": [],
   "source": []
  },
  {
   "cell_type": "code",
   "execution_count": null,
   "id": "02912010",
   "metadata": {
    "tags": [
     "solution"
    ]
   },
   "outputs": [],
   "source": []
  },
  {
   "cell_type": "markdown",
   "id": "dab7b872",
   "metadata": {
    "lang": "en"
   },
   "source": [
    "Mark two more todo items `Learn Python` as done.\n",
    "How does your list look now?"
   ]
  },
  {
   "cell_type": "code",
   "execution_count": null,
   "id": "c02939cd",
   "metadata": {
    "tags": [
     "solution"
    ]
   },
   "outputs": [],
   "source": []
  },
  {
   "cell_type": "code",
   "execution_count": null,
   "id": "842afdda",
   "metadata": {
    "tags": [
     "solution"
    ]
   },
   "outputs": [],
   "source": []
  },
  {
   "cell_type": "markdown",
   "id": "c449bfba",
   "metadata": {
    "lang": "en"
   },
   "source": [
    "Write a function `delete_todo_item(todo_list, title)` that removes the\n",
    "first todo item in `todo_list` with title `title`.\n",
    "\n",
    "*Caution: You should not add or remove any entries while iterating over a list!"
   ]
  },
  {
   "cell_type": "code",
   "execution_count": null,
   "id": "2232c7d7",
   "metadata": {
    "tags": [
     "solution"
    ]
   },
   "outputs": [],
   "source": []
  },
  {
   "cell_type": "markdown",
   "id": "142b5b14",
   "metadata": {
    "lang": "en"
   },
   "source": [
    "Remove one of the items `Learn Python`."
   ]
  },
  {
   "cell_type": "code",
   "execution_count": null,
   "id": "51f5ec5f",
   "metadata": {
    "tags": [
     "solution"
    ]
   },
   "outputs": [],
   "source": []
  },
  {
   "cell_type": "markdown",
   "id": "85994e1b",
   "metadata": {
    "lang": "en"
   },
   "source": [
    "Remove an item `Learn Python` three times. What do you expect as a result?"
   ]
  },
  {
   "cell_type": "code",
   "execution_count": null,
   "id": "3c238cc4",
   "metadata": {
    "tags": [
     "solution"
    ]
   },
   "outputs": [],
   "source": []
  },
  {
   "cell_type": "code",
   "execution_count": null,
   "id": "abd3cbd7",
   "metadata": {
    "tags": [
     "solution"
    ]
   },
   "outputs": [],
   "source": []
  },
  {
   "cell_type": "code",
   "execution_count": null,
   "id": "b94a2392",
   "metadata": {
    "tags": [
     "solution"
    ]
   },
   "outputs": [],
   "source": []
  },
  {
   "cell_type": "markdown",
   "id": "260ea73f",
   "metadata": {
    "lang": "en"
   },
   "source": [
    "Write a function `delete_all_completed_todo_items(todo_list)`,\n",
    "which deletes all completed todo items from `todo_list`.\n",
    "\n",
    "*Note: You will probably need two consecutive `for` loops to do this: one to collect the indices and one to clear them*"
   ]
  },
  {
   "cell_type": "code",
   "execution_count": null,
   "id": "59992d46",
   "metadata": {
    "tags": [
     "solution"
    ]
   },
   "outputs": [],
   "source": []
  },
  {
   "cell_type": "code",
   "execution_count": null,
   "id": "b68f7329",
   "metadata": {
    "tags": [
     "solution"
    ]
   },
   "outputs": [],
   "source": []
  },
  {
   "cell_type": "markdown",
   "id": "b5058a43",
   "metadata": {
    "lang": "en"
   },
   "source": [
    "Test your implementation of `delete_all_completed_todo_items()` with\n",
    "the following list:"
   ]
  },
  {
   "cell_type": "code",
   "execution_count": null,
   "id": "4073611a",
   "metadata": {
    "tags": [
     "solution"
    ]
   },
   "outputs": [],
   "source": []
  },
  {
   "cell_type": "code",
   "execution_count": null,
   "id": "d0456a96",
   "metadata": {
    "tags": [
     "solution"
    ]
   },
   "outputs": [],
   "source": []
  },
  {
   "cell_type": "code",
   "execution_count": null,
   "id": "7c662bb6",
   "metadata": {},
   "outputs": [],
   "source": []
  }
 ],
 "metadata": {
  "jupytext": {
   "encoding": "# -*- coding: utf-8 -*-",
   "formats": "ipynb"
  },
  "kernelspec": {
   "display_name": "Python 3 (ipykernel)",
   "language": "python",
   "name": "python3"
  }
 },
 "nbformat": 4,
 "nbformat_minor": 5
}
