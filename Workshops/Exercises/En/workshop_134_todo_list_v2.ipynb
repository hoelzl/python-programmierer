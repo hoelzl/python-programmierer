{
 "cells": [
  {
   "cell_type": "code",
   "execution_count": null,
   "id": "e887706b",
   "metadata": {
    "lines_to_next_cell": 0
   },
   "outputs": [],
   "source": []
  },
  {
   "cell_type": "markdown",
   "id": "9e577f2f",
   "metadata": {},
   "source": [
    "# Todo-Liste Version 2\n",
    "\n",
    "In diesem Workshop wollen wir die eine Todo-Liste implementieren, aber dabei\n",
    "sowohl die Liste als auch die Einträge durch Instanzen von Klassen darstellen.\n",
    "\n",
    "Jeder Eintrag in der Todo-Liste soll wieder folgende Information enthalten:\n",
    "\n",
    "- Titel\n",
    "- Priorität\n",
    "- Wurde das Item schon erledigt oder nicht?\n",
    "\n",
    "Definieren Sie eine Klasse `TodoItem`, die diese Daten kapselt."
   ]
  },
  {
   "cell_type": "code",
   "execution_count": null,
   "id": "da3db4b0",
   "metadata": {
    "tags": [
     "solution"
    ]
   },
   "outputs": [],
   "source": []
  },
  {
   "cell_type": "markdown",
   "id": "2cd13d30",
   "metadata": {},
   "source": [
    "Erzeugen Sie ein Todo-Item mit folgenden Bestandteilen:\n",
    "- Titel: Python lernen\n",
    "- Priorität 3\n",
    "- nicht erledigt"
   ]
  },
  {
   "cell_type": "code",
   "execution_count": null,
   "id": "30457118",
   "metadata": {
    "tags": [
     "solution"
    ]
   },
   "outputs": [],
   "source": []
  },
  {
   "cell_type": "markdown",
   "id": "bb1ca9bd",
   "metadata": {},
   "source": [
    "Die Repräsentation des Items ist nicht sehr aussagekräftig. Definieren Sie\n",
    "deshalb eine Funktion `todo_item_as_string(item: TodoItem) -> str`, die ein\n",
    "Todo-Item in einen String umwandelt, der Information über die Bestandteile\n",
    "enthält."
   ]
  },
  {
   "cell_type": "code",
   "execution_count": null,
   "id": "231277b0",
   "metadata": {
    "tags": [
     "solution"
    ]
   },
   "outputs": [],
   "source": []
  },
  {
   "cell_type": "code",
   "execution_count": null,
   "id": "af327c70",
   "metadata": {
    "tags": [
     "solution"
    ]
   },
   "outputs": [],
   "source": []
  },
  {
   "cell_type": "markdown",
   "id": "08dcbc45",
   "metadata": {},
   "source": [
    "Definieren Sie eine Klasse `TodoList`, die eine Todo-Liste repräsentiert."
   ]
  },
  {
   "cell_type": "code",
   "execution_count": null,
   "id": "d7b3454a",
   "metadata": {
    "tags": [
     "solution"
    ]
   },
   "outputs": [],
   "source": []
  },
  {
   "cell_type": "markdown",
   "id": "a5166db8",
   "metadata": {},
   "source": [
    "Definieren Sie eine Funktion\n",
    "\n",
    "`todo_list_as_string(todo_list: TodoList) -> str`,\n",
    "\n",
    "die eine Todo-Liste in einen String umwandelt, der Information über ihre\n",
    "Bestandteile enthält."
   ]
  },
  {
   "cell_type": "code",
   "execution_count": null,
   "id": "ab7ceb55",
   "metadata": {
    "tags": [
     "solution"
    ]
   },
   "outputs": [],
   "source": []
  },
  {
   "cell_type": "markdown",
   "id": "d9bf6312",
   "metadata": {},
   "source": [
    "Legen Sie eine Todo-Liste `todos` mit Todo-Items an, die folgende Einträge\n",
    " enthält:\n",
    "\n",
    "- Titel: Python lernen, Priorität 3, nicht erledigt\n",
    "- Titel: Gemüse einkaufen, Priorität 2, nicht erledigt\n",
    "- Titel: Hans anrufen, Priorität 5, erledigt"
   ]
  },
  {
   "cell_type": "code",
   "execution_count": null,
   "id": "8cdb0910",
   "metadata": {
    "tags": [
     "solution"
    ]
   },
   "outputs": [],
   "source": []
  },
  {
   "cell_type": "code",
   "execution_count": null,
   "id": "8a3c44e1",
   "metadata": {
    "tags": [
     "solution"
    ]
   },
   "outputs": [],
   "source": []
  },
  {
   "cell_type": "markdown",
   "id": "7c41a34d",
   "metadata": {},
   "source": [
    "Schreiben Sie eine Funktion `add_todo_item(todo_list, title, priority)`,\n",
    "die ein neues Todo-Item zu `todo_list` hinzufügt."
   ]
  },
  {
   "cell_type": "code",
   "execution_count": null,
   "id": "f99ae2f3",
   "metadata": {
    "tags": [
     "solution"
    ]
   },
   "outputs": [],
   "source": []
  },
  {
   "cell_type": "markdown",
   "id": "122a9ae4",
   "metadata": {},
   "source": [
    "Fügen Sie ein neues Todo-Item mit Titel \"Schnee schaufeln\" und Priorität 5\n",
    "in die Liste `todos` ein."
   ]
  },
  {
   "cell_type": "code",
   "execution_count": null,
   "id": "9088d7c6",
   "metadata": {
    "tags": [
     "solution"
    ]
   },
   "outputs": [],
   "source": []
  },
  {
   "cell_type": "code",
   "execution_count": null,
   "id": "e9d88e04",
   "metadata": {
    "tags": [
     "solution"
    ]
   },
   "outputs": [],
   "source": []
  },
  {
   "cell_type": "markdown",
   "id": "c88a21ed",
   "metadata": {},
   "source": [
    "\n",
    "Schreiben Sie eine Funktion `mark_todo_item_done(todo_list, title)`,\n",
    "die das erste in der Liste `todo_list` vorkommende Todo-Item mit Titel\n",
    "`title`, das noch nicht bearbeitet ist, als bearbeitet markiert."
   ]
  },
  {
   "cell_type": "code",
   "execution_count": null,
   "id": "2b8ebbc0",
   "metadata": {
    "tags": [
     "solution"
    ]
   },
   "outputs": [],
   "source": []
  },
  {
   "cell_type": "markdown",
   "id": "c6bbada7",
   "metadata": {},
   "source": [
    "Markieren Sie das Todo-Item `Schnee schaufeln` als bearbeitet."
   ]
  },
  {
   "cell_type": "code",
   "execution_count": null,
   "id": "eaa5c82f",
   "metadata": {
    "tags": [
     "solution"
    ]
   },
   "outputs": [],
   "source": []
  },
  {
   "cell_type": "code",
   "execution_count": null,
   "id": "12298287",
   "metadata": {
    "tags": [
     "solution"
    ]
   },
   "outputs": [],
   "source": []
  },
  {
   "cell_type": "markdown",
   "id": "e65db451",
   "metadata": {},
   "source": [
    "Fügen Sie zwei Todo-Items mit Text \"Python lernen\" und Priorität 1 und 6\n",
    "zur Todo-Liste hinzu."
   ]
  },
  {
   "cell_type": "code",
   "execution_count": null,
   "id": "da346436",
   "metadata": {
    "tags": [
     "solution"
    ]
   },
   "outputs": [],
   "source": []
  },
  {
   "cell_type": "code",
   "execution_count": null,
   "id": "2b8182c9",
   "metadata": {
    "tags": [
     "solution"
    ]
   },
   "outputs": [],
   "source": []
  },
  {
   "cell_type": "markdown",
   "id": "cec74d0d",
   "metadata": {},
   "source": [
    "Markieren Sie ein Todo-Item \"Python lernen\" als erledigt.\n",
    "Wie sieht jetzt Ihre Liste aus?"
   ]
  },
  {
   "cell_type": "code",
   "execution_count": null,
   "id": "41cbb18a",
   "metadata": {
    "tags": [
     "solution"
    ]
   },
   "outputs": [],
   "source": []
  },
  {
   "cell_type": "code",
   "execution_count": null,
   "id": "93a4f876",
   "metadata": {
    "tags": [
     "solution"
    ]
   },
   "outputs": [],
   "source": []
  },
  {
   "cell_type": "markdown",
   "id": "400d63b3",
   "metadata": {},
   "source": [
    "Markieren Sie noch zwei Todo-Items `Python lernen` als erledigt.\n",
    "Wie sieht jetzt Ihre Liste aus?"
   ]
  },
  {
   "cell_type": "code",
   "execution_count": null,
   "id": "3ac2156b",
   "metadata": {
    "tags": [
     "solution"
    ]
   },
   "outputs": [],
   "source": []
  },
  {
   "cell_type": "code",
   "execution_count": null,
   "id": "89b09942",
   "metadata": {
    "tags": [
     "solution"
    ]
   },
   "outputs": [],
   "source": []
  },
  {
   "cell_type": "markdown",
   "id": "8922a025",
   "metadata": {},
   "source": [
    "Schreiben Sie eine Funktion `delete_todo_item(todo_list, title)`, die das\n",
    "erste in der liste `todo_list` vorkommende Todo-Item mit Titel `title` aus\n",
    " der Liste entfernt.\n",
    "\n",
    "*Vorsicht: Sie sollten während Sie über eine Liste iterieren keine Einträge\n",
    "entfernen oder einfügen!*"
   ]
  },
  {
   "cell_type": "code",
   "execution_count": null,
   "id": "43000084",
   "metadata": {
    "tags": [
     "solution"
    ]
   },
   "outputs": [],
   "source": []
  },
  {
   "cell_type": "markdown",
   "id": "52e96611",
   "metadata": {},
   "source": [
    "Entfernen Sie eines der Items `Python lernen`."
   ]
  },
  {
   "cell_type": "code",
   "execution_count": null,
   "id": "5357ce52",
   "metadata": {
    "tags": [
     "solution"
    ]
   },
   "outputs": [],
   "source": []
  },
  {
   "cell_type": "markdown",
   "id": "e0e9db9e",
   "metadata": {},
   "source": [
    "Entfernen Sie dreimal ein Item `Python lernen`. Was erwarten Sie als Ergebnis?"
   ]
  },
  {
   "cell_type": "code",
   "execution_count": null,
   "id": "bda80f25",
   "metadata": {
    "tags": [
     "solution"
    ]
   },
   "outputs": [],
   "source": []
  },
  {
   "cell_type": "code",
   "execution_count": null,
   "id": "041b7a8b",
   "metadata": {
    "tags": [
     "solution"
    ]
   },
   "outputs": [],
   "source": []
  },
  {
   "cell_type": "code",
   "execution_count": null,
   "id": "c25905ba",
   "metadata": {
    "tags": [
     "solution"
    ]
   },
   "outputs": [],
   "source": []
  },
  {
   "cell_type": "markdown",
   "id": "71375c7e",
   "metadata": {},
   "source": [
    "Schreiben Sie eine Funktiion `delete_all_completed_todo_items(todo_list)`,\n",
    "die alle erledigten Todo-Items aus `todo_list` löscht.\n",
    "\n",
    "*Hinweis: Sie benötigen dazu wahrscheinlich zwei aufeinanderfolgende\n",
    "`for`-Schleifen: eine um die Indizes zu bestimmen und eine um sie zu löschen*"
   ]
  },
  {
   "cell_type": "code",
   "execution_count": null,
   "id": "a21ece00",
   "metadata": {
    "tags": [
     "solution"
    ]
   },
   "outputs": [],
   "source": []
  },
  {
   "cell_type": "code",
   "execution_count": null,
   "id": "fb725d14",
   "metadata": {
    "tags": [
     "solution"
    ]
   },
   "outputs": [],
   "source": []
  },
  {
   "cell_type": "markdown",
   "id": "6eabae7f",
   "metadata": {},
   "source": [
    "Testen Sie Ihre Implementierung von `delete_all_completed_todo_items()` mit\n",
    "der folgenden Liste:"
   ]
  },
  {
   "cell_type": "code",
   "execution_count": null,
   "id": "fb7edbc6",
   "metadata": {
    "tags": [
     "solution"
    ]
   },
   "outputs": [],
   "source": []
  },
  {
   "cell_type": "code",
   "execution_count": null,
   "id": "9077930b",
   "metadata": {
    "tags": [
     "solution"
    ]
   },
   "outputs": [],
   "source": []
  },
  {
   "cell_type": "code",
   "execution_count": null,
   "id": "538a3041",
   "metadata": {},
   "outputs": [],
   "source": []
  }
 ],
 "metadata": {
  "jupytext": {
   "encoding": "# -*- coding: utf-8 -*-",
   "formats": "ipynb"
  },
  "kernelspec": {
   "display_name": "Python 3 (ipykernel)",
   "language": "python",
   "name": "python3"
  }
 },
 "nbformat": 4,
 "nbformat_minor": 5
}
