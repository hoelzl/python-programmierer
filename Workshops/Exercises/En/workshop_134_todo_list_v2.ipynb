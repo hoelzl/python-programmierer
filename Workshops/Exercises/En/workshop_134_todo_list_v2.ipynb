{
 "cells": [
  {
   "cell_type": "markdown",
   "id": "2ec5fdd5",
   "metadata": {
    "lang": "en"
   },
   "source": [
    "# Todo list version 2\n",
    "\n",
    "In this workshop we want to implement a to-do list, but now we want to\n",
    "represent both the list and the entries by instances of classes.\n",
    "\n",
    "Each entry in the todo list should contain the following information:\n",
    "\n",
    "- Title\n",
    "- Priority\n",
    "- Has the item already been completed or not?\n",
    "\n",
    "Define a class `TodoItem` that encapsulates this data."
   ]
  },
  {
   "cell_type": "code",
   "execution_count": null,
   "id": "73c967f2",
   "metadata": {
    "tags": [
     "solution"
    ]
   },
   "outputs": [],
   "source": []
  },
  {
   "cell_type": "markdown",
   "id": "9b8c1ead",
   "metadata": {
    "lang": "en"
   },
   "source": [
    "Create a todo item with the following components:\n",
    "- Title: Learn Python\n",
    "- Priority 3\n",
    "- not done"
   ]
  },
  {
   "cell_type": "code",
   "execution_count": null,
   "id": "00d5116a",
   "metadata": {
    "tags": [
     "solution"
    ]
   },
   "outputs": [],
   "source": []
  },
  {
   "cell_type": "markdown",
   "id": "98b6b872",
   "metadata": {
    "lang": "en"
   },
   "source": [
    "The representation of the item is not very meaningful. Define\n",
    "therefore a function `todo_item_as_string(item: TodoItem) -> str` which converts a\n",
    "todo item into a string that provides information about the item's attributes."
   ]
  },
  {
   "cell_type": "code",
   "execution_count": null,
   "id": "23b9bf9a",
   "metadata": {
    "tags": [
     "solution"
    ]
   },
   "outputs": [],
   "source": []
  },
  {
   "cell_type": "code",
   "execution_count": null,
   "id": "573f4b65",
   "metadata": {
    "tags": [
     "solution"
    ]
   },
   "outputs": [],
   "source": []
  },
  {
   "cell_type": "markdown",
   "id": "9278fbc3",
   "metadata": {
    "lang": "en"
   },
   "source": [
    "Define a class `TodoList` that represents a todo list."
   ]
  },
  {
   "cell_type": "code",
   "execution_count": null,
   "id": "242a3baa",
   "metadata": {
    "tags": [
     "solution"
    ]
   },
   "outputs": [],
   "source": []
  },
  {
   "cell_type": "markdown",
   "id": "101ed87f",
   "metadata": {
    "lang": "en"
   },
   "source": [
    "Define a function\n",
    "\n",
    "`todo_list_as_string(todo_list: TodoList) -> str`,\n",
    "\n",
    "which converts a todo list into a string containing information about its items."
   ]
  },
  {
   "cell_type": "code",
   "execution_count": null,
   "id": "9ef9d99d",
   "metadata": {
    "tags": [
     "solution"
    ]
   },
   "outputs": [],
   "source": []
  },
  {
   "cell_type": "markdown",
   "id": "edd37f73",
   "metadata": {
    "lang": "en"
   },
   "source": [
    "Create a todo list `todos` containing the following items:\n",
    "\n",
    "- Title: Learn Python, priority 3, not done\n",
    "- Title: Buy vegetables, priority 2, not done\n",
    "- Title: Call Hans, Priority 5, Done"
   ]
  },
  {
   "cell_type": "code",
   "execution_count": null,
   "id": "bb287e40",
   "metadata": {
    "tags": [
     "solution"
    ]
   },
   "outputs": [],
   "source": []
  },
  {
   "cell_type": "code",
   "execution_count": null,
   "id": "c61a2353",
   "metadata": {
    "tags": [
     "solution"
    ]
   },
   "outputs": [],
   "source": []
  },
  {
   "cell_type": "markdown",
   "id": "cca33e0d",
   "metadata": {
    "lang": "en"
   },
   "source": [
    "Write a function `add_todo_item(todo_list, title, priority)`,\n",
    "which adds a new todo item to `todo_list`."
   ]
  },
  {
   "cell_type": "code",
   "execution_count": null,
   "id": "f434d828",
   "metadata": {
    "tags": [
     "solution"
    ]
   },
   "outputs": [],
   "source": []
  },
  {
   "cell_type": "markdown",
   "id": "ab703957",
   "metadata": {
    "lang": "en"
   },
   "source": [
    "Add a new todo item titled \"shovel snow\" with priority 5 to the `todos` list."
   ]
  },
  {
   "cell_type": "code",
   "execution_count": null,
   "id": "6ee057c2",
   "metadata": {
    "tags": [
     "solution"
    ]
   },
   "outputs": [],
   "source": []
  },
  {
   "cell_type": "code",
   "execution_count": null,
   "id": "8ab0cdca",
   "metadata": {
    "tags": [
     "solution"
    ]
   },
   "outputs": [],
   "source": []
  },
  {
   "cell_type": "markdown",
   "id": "e3327f38",
   "metadata": {
    "lang": "en"
   },
   "source": [
    "Write a function `mark_todo_item_done(todo_list, title)`,\n",
    "that marks as done the first todo item with title\n",
    "`title` that is not yet marked as done."
   ]
  },
  {
   "cell_type": "code",
   "execution_count": null,
   "id": "e4b776ef",
   "metadata": {
    "tags": [
     "solution"
    ]
   },
   "outputs": [],
   "source": []
  },
  {
   "cell_type": "markdown",
   "id": "985d7c99",
   "metadata": {
    "lang": "en"
   },
   "source": [
    "Mark the to-do item `Shovel snow` as done."
   ]
  },
  {
   "cell_type": "code",
   "execution_count": null,
   "id": "b53def91",
   "metadata": {
    "tags": [
     "solution"
    ]
   },
   "outputs": [],
   "source": []
  },
  {
   "cell_type": "code",
   "execution_count": null,
   "id": "45dccc12",
   "metadata": {
    "tags": [
     "solution"
    ]
   },
   "outputs": [],
   "source": []
  },
  {
   "cell_type": "markdown",
   "id": "7c4d41ee",
   "metadata": {
    "lang": "en"
   },
   "source": [
    "Add two todo items with text \"Learn Python\" and priority 1 and 6\n",
    "added to the todo list."
   ]
  },
  {
   "cell_type": "code",
   "execution_count": null,
   "id": "eb9ca1b9",
   "metadata": {
    "tags": [
     "solution"
    ]
   },
   "outputs": [],
   "source": []
  },
  {
   "cell_type": "code",
   "execution_count": null,
   "id": "a6238e03",
   "metadata": {
    "tags": [
     "solution"
    ]
   },
   "outputs": [],
   "source": []
  },
  {
   "cell_type": "markdown",
   "id": "79d8f562",
   "metadata": {
    "lang": "en"
   },
   "source": [
    "Mark a \"Learn Python\" todo item as done.\n",
    "How does your list look now?"
   ]
  },
  {
   "cell_type": "code",
   "execution_count": null,
   "id": "b8e86270",
   "metadata": {
    "tags": [
     "solution"
    ]
   },
   "outputs": [],
   "source": []
  },
  {
   "cell_type": "code",
   "execution_count": null,
   "id": "aca60110",
   "metadata": {
    "tags": [
     "solution"
    ]
   },
   "outputs": [],
   "source": []
  },
  {
   "cell_type": "markdown",
   "id": "fbed2075",
   "metadata": {
    "lang": "en"
   },
   "source": [
    "Mark two more todo items `Learn Python` as done.\n",
    "How does your list look now?"
   ]
  },
  {
   "cell_type": "code",
   "execution_count": null,
   "id": "1d1b7589",
   "metadata": {
    "tags": [
     "solution"
    ]
   },
   "outputs": [],
   "source": []
  },
  {
   "cell_type": "code",
   "execution_count": null,
   "id": "06c5b941",
   "metadata": {
    "tags": [
     "solution"
    ]
   },
   "outputs": [],
   "source": []
  },
  {
   "cell_type": "markdown",
   "id": "ac8c4582",
   "metadata": {
    "lang": "en"
   },
   "source": [
    "Write a function `delete_todo_item(todo_list, title)` that removes the\n",
    "first todo item in `todo_list` with title `title`.\n",
    "\n",
    "*Caution: You should not add or remove any entries while iterating over a list!"
   ]
  },
  {
   "cell_type": "code",
   "execution_count": null,
   "id": "9d3810bc",
   "metadata": {
    "tags": [
     "solution"
    ]
   },
   "outputs": [],
   "source": []
  },
  {
   "cell_type": "markdown",
   "id": "d25bb50d",
   "metadata": {
    "lang": "en"
   },
   "source": [
    "Remove one of the items `Learn Python`."
   ]
  },
  {
   "cell_type": "code",
   "execution_count": null,
   "id": "c963f843",
   "metadata": {
    "tags": [
     "solution"
    ]
   },
   "outputs": [],
   "source": []
  },
  {
   "cell_type": "markdown",
   "id": "be40ec66",
   "metadata": {
    "lang": "en"
   },
   "source": [
    "Remove an item `Learn Python` three times. What do you expect as a result?"
   ]
  },
  {
   "cell_type": "code",
   "execution_count": null,
   "id": "77081d03",
   "metadata": {
    "tags": [
     "solution"
    ]
   },
   "outputs": [],
   "source": []
  },
  {
   "cell_type": "code",
   "execution_count": null,
   "id": "6b0cf501",
   "metadata": {
    "tags": [
     "solution"
    ]
   },
   "outputs": [],
   "source": []
  },
  {
   "cell_type": "code",
   "execution_count": null,
   "id": "ec199acf",
   "metadata": {
    "tags": [
     "solution"
    ]
   },
   "outputs": [],
   "source": []
  },
  {
   "cell_type": "markdown",
   "id": "a642ea2a",
   "metadata": {
    "lang": "en"
   },
   "source": [
    "Write a function `delete_all_completed_todo_items(todo_list)`,\n",
    "which deletes all completed todo items from `todo_list`.\n",
    "\n",
    "*Note: You will probably need two consecutive `for` loops to do this: one to collect the indices and one to clear them*"
   ]
  },
  {
   "cell_type": "code",
   "execution_count": null,
   "id": "fc64d735",
   "metadata": {
    "tags": [
     "solution"
    ]
   },
   "outputs": [],
   "source": []
  },
  {
   "cell_type": "code",
   "execution_count": null,
   "id": "2b34040b",
   "metadata": {
    "tags": [
     "solution"
    ]
   },
   "outputs": [],
   "source": []
  },
  {
   "cell_type": "markdown",
   "id": "7816ac0b",
   "metadata": {
    "lang": "en"
   },
   "source": [
    "Test your implementation of `delete_all_completed_todo_items()` with\n",
    "the following list:"
   ]
  },
  {
   "cell_type": "code",
   "execution_count": null,
   "id": "b0e0c5ac",
   "metadata": {
    "tags": [
     "solution"
    ]
   },
   "outputs": [],
   "source": []
  },
  {
   "cell_type": "code",
   "execution_count": null,
   "id": "b6b05607",
   "metadata": {
    "tags": [
     "solution"
    ]
   },
   "outputs": [],
   "source": []
  },
  {
   "cell_type": "code",
   "execution_count": null,
   "id": "c04eb336",
   "metadata": {},
   "outputs": [],
   "source": []
  }
 ],
 "metadata": {
  "jupytext": {
   "encoding": "# -*- coding: utf-8 -*-",
   "formats": "ipynb"
  },
  "kernelspec": {
   "display_name": "Python 3 (ipykernel)",
   "language": "python",
   "name": "python3"
  }
 },
 "nbformat": 4,
 "nbformat_minor": 5
}
