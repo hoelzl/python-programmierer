{
 "cells": [
  {
   "cell_type": "markdown",
   "id": "8d3d47d6",
   "metadata": {
    "lang": "en"
   },
   "source": [
    "# Todo list version 2\n",
    "\n",
    "In this workshop we want to implement a to-do list, but now we want to\n",
    "represent both the list and the entries by instances of classes.\n",
    "\n",
    "Each entry in the todo list should contain the following information:\n",
    "\n",
    "- Title\n",
    "- Priority\n",
    "- Has the item already been completed or not?\n",
    "\n",
    "Define a class `TodoItem` that encapsulates this data."
   ]
  },
  {
   "cell_type": "code",
   "execution_count": null,
   "id": "02a5aca3",
   "metadata": {
    "tags": [
     "solution"
    ]
   },
   "outputs": [],
   "source": []
  },
  {
   "cell_type": "markdown",
   "id": "2a73d0a1",
   "metadata": {
    "lang": "en"
   },
   "source": [
    "Create a todo item with the following components:\n",
    "- Title: Learn Python\n",
    "- Priority 3\n",
    "- not done"
   ]
  },
  {
   "cell_type": "code",
   "execution_count": null,
   "id": "e871ca11",
   "metadata": {
    "tags": [
     "solution"
    ]
   },
   "outputs": [],
   "source": []
  },
  {
   "cell_type": "markdown",
   "id": "1f4ed9ea",
   "metadata": {
    "lang": "en"
   },
   "source": [
    "The representation of the item is not very meaningful. Define\n",
    "therefore a function `todo_item_as_string(item: TodoItem) -> str` which converts a\n",
    "todo item into a string that provides information about the item's attributes."
   ]
  },
  {
   "cell_type": "code",
   "execution_count": null,
   "id": "7dba2441",
   "metadata": {
    "tags": [
     "solution"
    ]
   },
   "outputs": [],
   "source": []
  },
  {
   "cell_type": "code",
   "execution_count": null,
   "id": "840c6741",
   "metadata": {
    "tags": [
     "solution"
    ]
   },
   "outputs": [],
   "source": []
  },
  {
   "cell_type": "markdown",
   "id": "435b91ea",
   "metadata": {
    "lang": "en"
   },
   "source": [
    "Define a class `TodoList` that represents a todo list."
   ]
  },
  {
   "cell_type": "code",
   "execution_count": null,
   "id": "cad955f5",
   "metadata": {
    "tags": [
     "solution"
    ]
   },
   "outputs": [],
   "source": []
  },
  {
   "cell_type": "markdown",
   "id": "b97e9bbf",
   "metadata": {
    "lang": "en"
   },
   "source": [
    "Define a function\n",
    "\n",
    "`todo_list_as_string(todo_list: TodoList) -> str`,\n",
    "\n",
    "which converts a todo list into a string containing information about its items."
   ]
  },
  {
   "cell_type": "code",
   "execution_count": null,
   "id": "e6fe415f",
   "metadata": {
    "tags": [
     "solution"
    ]
   },
   "outputs": [],
   "source": []
  },
  {
   "cell_type": "markdown",
   "id": "953d31da",
   "metadata": {
    "lang": "en"
   },
   "source": [
    "Create a todo list `todos` containing the following items:\n",
    "\n",
    "- Title: Learn Python, priority 3, not done\n",
    "- Title: Buy vegetables, priority 2, not done\n",
    "- Title: Call Hans, Priority 5, Done"
   ]
  },
  {
   "cell_type": "code",
   "execution_count": null,
   "id": "e023a238",
   "metadata": {
    "tags": [
     "solution"
    ]
   },
   "outputs": [],
   "source": []
  },
  {
   "cell_type": "code",
   "execution_count": null,
   "id": "140550a1",
   "metadata": {
    "tags": [
     "solution"
    ]
   },
   "outputs": [],
   "source": []
  },
  {
   "cell_type": "markdown",
   "id": "2666ff2c",
   "metadata": {
    "lang": "en"
   },
   "source": [
    "Write a function `add_todo_item(todo_list, title, priority)`,\n",
    "which adds a new todo item to `todo_list`."
   ]
  },
  {
   "cell_type": "code",
   "execution_count": null,
   "id": "572aaa9b",
   "metadata": {
    "tags": [
     "solution"
    ]
   },
   "outputs": [],
   "source": []
  },
  {
   "cell_type": "markdown",
   "id": "7dcd2ff5",
   "metadata": {
    "lang": "en"
   },
   "source": [
    "Add a new todo item titled \"shovel snow\" with priority 5 to the `todos` list."
   ]
  },
  {
   "cell_type": "code",
   "execution_count": null,
   "id": "3e77fb23",
   "metadata": {
    "tags": [
     "solution"
    ]
   },
   "outputs": [],
   "source": []
  },
  {
   "cell_type": "code",
   "execution_count": null,
   "id": "131ab724",
   "metadata": {
    "tags": [
     "solution"
    ]
   },
   "outputs": [],
   "source": []
  },
  {
   "cell_type": "markdown",
   "id": "a31688a3",
   "metadata": {
    "lang": "en"
   },
   "source": [
    "Write a function `mark_todo_item_done(todo_list, title)`,\n",
    "that marks as done the first todo item with title\n",
    "`title` that is not yet marked as done."
   ]
  },
  {
   "cell_type": "code",
   "execution_count": null,
   "id": "c101727a",
   "metadata": {
    "tags": [
     "solution"
    ]
   },
   "outputs": [],
   "source": []
  },
  {
   "cell_type": "markdown",
   "id": "ac79e26e",
   "metadata": {
    "lang": "en"
   },
   "source": [
    "Mark the to-do item `Shovel snow` as done."
   ]
  },
  {
   "cell_type": "code",
   "execution_count": null,
   "id": "6a97b1c3",
   "metadata": {
    "tags": [
     "solution"
    ]
   },
   "outputs": [],
   "source": []
  },
  {
   "cell_type": "code",
   "execution_count": null,
   "id": "1bef7686",
   "metadata": {
    "tags": [
     "solution"
    ]
   },
   "outputs": [],
   "source": []
  },
  {
   "cell_type": "markdown",
   "id": "0a85954a",
   "metadata": {
    "lang": "en"
   },
   "source": [
    "Add two todo items with text \"Learn Python\" and priority 1 and 6\n",
    "added to the todo list."
   ]
  },
  {
   "cell_type": "code",
   "execution_count": null,
   "id": "fe37aefd",
   "metadata": {
    "tags": [
     "solution"
    ]
   },
   "outputs": [],
   "source": []
  },
  {
   "cell_type": "code",
   "execution_count": null,
   "id": "e98e4f22",
   "metadata": {
    "tags": [
     "solution"
    ]
   },
   "outputs": [],
   "source": []
  },
  {
   "cell_type": "markdown",
   "id": "d2a0ba7f",
   "metadata": {
    "lang": "en"
   },
   "source": [
    "Mark a \"Learn Python\" todo item as done.\n",
    "How does your list look now?"
   ]
  },
  {
   "cell_type": "code",
   "execution_count": null,
   "id": "e0acc994",
   "metadata": {
    "tags": [
     "solution"
    ]
   },
   "outputs": [],
   "source": []
  },
  {
   "cell_type": "code",
   "execution_count": null,
   "id": "593fd95c",
   "metadata": {
    "tags": [
     "solution"
    ]
   },
   "outputs": [],
   "source": []
  },
  {
   "cell_type": "markdown",
   "id": "7140d2a8",
   "metadata": {
    "lang": "en"
   },
   "source": [
    "Mark two more todo items `Learn Python` as done.\n",
    "How does your list look now?"
   ]
  },
  {
   "cell_type": "code",
   "execution_count": null,
   "id": "3248cb37",
   "metadata": {
    "tags": [
     "solution"
    ]
   },
   "outputs": [],
   "source": []
  },
  {
   "cell_type": "code",
   "execution_count": null,
   "id": "d8b294a2",
   "metadata": {
    "tags": [
     "solution"
    ]
   },
   "outputs": [],
   "source": []
  },
  {
   "cell_type": "markdown",
   "id": "90af12ee",
   "metadata": {
    "lang": "en"
   },
   "source": [
    "Write a function `delete_todo_item(todo_list, title)` that removes the\n",
    "first todo item in `todo_list` with title `title`.\n",
    "\n",
    "*Caution: You should not add or remove any entries while iterating over a list!"
   ]
  },
  {
   "cell_type": "code",
   "execution_count": null,
   "id": "38140263",
   "metadata": {
    "tags": [
     "solution"
    ]
   },
   "outputs": [],
   "source": []
  },
  {
   "cell_type": "markdown",
   "id": "4cdc1504",
   "metadata": {
    "lang": "en"
   },
   "source": [
    "Remove one of the items `Learn Python`."
   ]
  },
  {
   "cell_type": "code",
   "execution_count": null,
   "id": "6d22cac5",
   "metadata": {
    "tags": [
     "solution"
    ]
   },
   "outputs": [],
   "source": []
  },
  {
   "cell_type": "markdown",
   "id": "37915a1c",
   "metadata": {
    "lang": "en"
   },
   "source": [
    "Remove an item `Learn Python` three times. What do you expect as a result?"
   ]
  },
  {
   "cell_type": "code",
   "execution_count": null,
   "id": "ffc2273e",
   "metadata": {
    "tags": [
     "solution"
    ]
   },
   "outputs": [],
   "source": []
  },
  {
   "cell_type": "code",
   "execution_count": null,
   "id": "10c16e94",
   "metadata": {
    "tags": [
     "solution"
    ]
   },
   "outputs": [],
   "source": []
  },
  {
   "cell_type": "code",
   "execution_count": null,
   "id": "bc2d0a7f",
   "metadata": {
    "tags": [
     "solution"
    ]
   },
   "outputs": [],
   "source": []
  },
  {
   "cell_type": "markdown",
   "id": "68195b5d",
   "metadata": {
    "lang": "en"
   },
   "source": [
    "Write a function `delete_all_completed_todo_items(todo_list)`,\n",
    "which deletes all completed todo items from `todo_list`.\n",
    "\n",
    "*Note: You will probably need two consecutive `for` loops to do this: one to collect the indices and one to clear them*"
   ]
  },
  {
   "cell_type": "code",
   "execution_count": null,
   "id": "d3099716",
   "metadata": {
    "tags": [
     "solution"
    ]
   },
   "outputs": [],
   "source": []
  },
  {
   "cell_type": "code",
   "execution_count": null,
   "id": "c4ca7f0f",
   "metadata": {
    "tags": [
     "solution"
    ]
   },
   "outputs": [],
   "source": []
  },
  {
   "cell_type": "markdown",
   "id": "a7d4ddf4",
   "metadata": {
    "lang": "en"
   },
   "source": [
    "Test your implementation of `delete_all_completed_todo_items()` with\n",
    "the following list:"
   ]
  },
  {
   "cell_type": "code",
   "execution_count": null,
   "id": "0d2ed959",
   "metadata": {
    "tags": [
     "solution"
    ]
   },
   "outputs": [],
   "source": []
  },
  {
   "cell_type": "code",
   "execution_count": null,
   "id": "d06f6e20",
   "metadata": {
    "tags": [
     "solution"
    ]
   },
   "outputs": [],
   "source": []
  },
  {
   "cell_type": "code",
   "execution_count": null,
   "id": "d76bb721",
   "metadata": {},
   "outputs": [],
   "source": []
  }
 ],
 "metadata": {
  "jupytext": {
   "encoding": "# -*- coding: utf-8 -*-",
   "formats": "ipynb"
  },
  "kernelspec": {
   "display_name": "Python 3 (ipykernel)",
   "language": "python",
   "name": "python3"
  }
 },
 "nbformat": 4,
 "nbformat_minor": 5
}
