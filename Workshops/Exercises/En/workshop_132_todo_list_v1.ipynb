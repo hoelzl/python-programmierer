{
 "cells": [
  {
   "cell_type": "markdown",
   "id": "cb404caf",
   "metadata": {
    "lang": "en"
   },
   "source": [
    "# TODO list version 1\n",
    "\n",
    "The this workshop a simple application for managing a TODO list\n",
    "should to be created.\n",
    "\n",
    "Each entry in the TODO list should contain the following information:\n",
    "\n",
    "- Title\n",
    "- Priority\n",
    "- Has the item already been completed or not?\n",
    "\n",
    "In the following, use a dictionary for each entry in the TODO list\n",
    "and a list to represent the TODO list:"
   ]
  },
  {
   "cell_type": "markdown",
   "id": "0d277b28",
   "metadata": {
    "lang": "en"
   },
   "source": [
    "Create a list `todos` with todo items that contains the following entries:\n",
    "\n",
    "- Title: Learn Python, priority 3, not done\n",
    "- Title: Buy vegetables, priority 2, not done\n",
    "- Title: Call Hans, Priority 5, Done"
   ]
  },
  {
   "cell_type": "code",
   "execution_count": null,
   "id": "f379a6cc",
   "metadata": {
    "tags": [
     "solution"
    ]
   },
   "outputs": [],
   "source": []
  },
  {
   "cell_type": "code",
   "execution_count": null,
   "id": "cef13630",
   "metadata": {
    "tags": [
     "solution"
    ]
   },
   "outputs": [],
   "source": []
  },
  {
   "cell_type": "code",
   "execution_count": null,
   "id": "874e6d90",
   "metadata": {
    "tags": [
     "solution"
    ]
   },
   "outputs": [],
   "source": []
  },
  {
   "cell_type": "markdown",
   "id": "b99688e1",
   "metadata": {
    "lang": "en"
   },
   "source": [
    "Write a function `add_todo_item(todo_list, title, priority)`,\n",
    "which adds a new todo item to `todo_list`."
   ]
  },
  {
   "cell_type": "code",
   "execution_count": null,
   "id": "efa460eb",
   "metadata": {
    "tags": [
     "solution"
    ]
   },
   "outputs": [],
   "source": []
  },
  {
   "cell_type": "markdown",
   "id": "35c70cab",
   "metadata": {
    "lang": "en"
   },
   "source": [
    "Add a new todo item titled \"shovel snow\" with priority 5 to the `todos` list."
   ]
  },
  {
   "cell_type": "code",
   "execution_count": null,
   "id": "d0f8a84f",
   "metadata": {
    "tags": [
     "solution"
    ]
   },
   "outputs": [],
   "source": []
  },
  {
   "cell_type": "code",
   "execution_count": null,
   "id": "4f423c79",
   "metadata": {
    "tags": [
     "solution"
    ]
   },
   "outputs": [],
   "source": []
  },
  {
   "cell_type": "markdown",
   "id": "49c58191",
   "metadata": {
    "lang": "en"
   },
   "source": [
    "Write a function `mark_todo_item_done(todo_list, title)`, that marks as done\n",
    "the first todo item in `todo_list` list that has title `title` and is not yet marked as done."
   ]
  },
  {
   "cell_type": "code",
   "execution_count": null,
   "id": "3cd71a76",
   "metadata": {
    "tags": [
     "solution"
    ]
   },
   "outputs": [],
   "source": []
  },
  {
   "cell_type": "markdown",
   "id": "cf13e480",
   "metadata": {
    "lang": "en"
   },
   "source": [
    "Mark the to-do item `shovel snow` as edited."
   ]
  },
  {
   "cell_type": "code",
   "execution_count": null,
   "id": "25f7e6c6",
   "metadata": {
    "tags": [
     "solution"
    ]
   },
   "outputs": [],
   "source": []
  },
  {
   "cell_type": "code",
   "execution_count": null,
   "id": "ba898b5d",
   "metadata": {
    "tags": [
     "solution"
    ]
   },
   "outputs": [],
   "source": []
  },
  {
   "cell_type": "markdown",
   "id": "4a073dc6",
   "metadata": {
    "lang": "en"
   },
   "source": [
    "Add two todo items with text \"Learn Python\" and priority 1 and 6 to the todo list."
   ]
  },
  {
   "cell_type": "code",
   "execution_count": null,
   "id": "f167c3b4",
   "metadata": {
    "tags": [
     "solution"
    ]
   },
   "outputs": [],
   "source": []
  },
  {
   "cell_type": "code",
   "execution_count": null,
   "id": "804ce7ad",
   "metadata": {
    "tags": [
     "solution"
    ]
   },
   "outputs": [],
   "source": []
  },
  {
   "cell_type": "markdown",
   "id": "8839fa44",
   "metadata": {
    "lang": "en"
   },
   "source": [
    "Mark a \"Learn Python\" todo item as done. How does your list look now?"
   ]
  },
  {
   "cell_type": "code",
   "execution_count": null,
   "id": "8449a7f4",
   "metadata": {
    "tags": [
     "solution"
    ]
   },
   "outputs": [],
   "source": []
  },
  {
   "cell_type": "code",
   "execution_count": null,
   "id": "d9a7ae79",
   "metadata": {
    "tags": [
     "solution"
    ]
   },
   "outputs": [],
   "source": []
  },
  {
   "cell_type": "markdown",
   "id": "afc29fcb",
   "metadata": {
    "lang": "en"
   },
   "source": [
    "Mark another todo item \"Learn Python\" as done. What is the contents of your list?"
   ]
  },
  {
   "cell_type": "code",
   "execution_count": null,
   "id": "53793adc",
   "metadata": {
    "tags": [
     "solution"
    ]
   },
   "outputs": [],
   "source": []
  },
  {
   "cell_type": "markdown",
   "id": "fb672de4",
   "metadata": {
    "lang": "en"
   },
   "source": [
    "Write a function `delete_todo_item(todo_list, title)` that removes the\n",
    "first todo item in the `todo_list` with the title `title`.\n",
    "\n",
    "*Caution: You should not add or remove any entries while iterating over a list!*"
   ]
  },
  {
   "cell_type": "code",
   "execution_count": null,
   "id": "abb14b52",
   "metadata": {
    "tags": [
     "solution"
    ]
   },
   "outputs": [],
   "source": []
  },
  {
   "cell_type": "markdown",
   "id": "394ccc87",
   "metadata": {
    "lang": "en"
   },
   "source": [
    "Delete an item `Learn Python` from `todo_list`"
   ]
  },
  {
   "cell_type": "code",
   "execution_count": null,
   "id": "4c71a6cd",
   "metadata": {
    "tags": [
     "solution"
    ]
   },
   "outputs": [],
   "source": []
  },
  {
   "cell_type": "markdown",
   "id": "20095079",
   "metadata": {
    "lang": "en"
   },
   "source": [
    "Write a function `delete_all_completed_todo_items(todo_list)`,\n",
    "which deletes all completed todo items from `todo_list`.\n",
    "\n",
    "*Note: One possibility to solve this task consists of two\n",
    "consecutive `for` loops: one to determine the indices and\n",
    "one to erase them. Does the order in which you delete items matter? (Hint: It does!)\n",
    "\n",
    "A more elegant method is to use a list comprehension and assign to a slice containing the complete original list.*"
   ]
  },
  {
   "cell_type": "code",
   "execution_count": null,
   "id": "e36ef645",
   "metadata": {
    "tags": [
     "solution"
    ]
   },
   "outputs": [],
   "source": []
  },
  {
   "cell_type": "code",
   "execution_count": null,
   "id": "0c3a867e",
   "metadata": {
    "tags": [
     "solution"
    ]
   },
   "outputs": [],
   "source": []
  },
  {
   "cell_type": "code",
   "execution_count": null,
   "id": "23c2e39a",
   "metadata": {
    "tags": [
     "solution"
    ]
   },
   "outputs": [],
   "source": []
  },
  {
   "cell_type": "code",
   "execution_count": null,
   "id": "5c15ba2a",
   "metadata": {
    "tags": [
     "solution"
    ]
   },
   "outputs": [],
   "source": []
  },
  {
   "cell_type": "code",
   "execution_count": null,
   "id": "54b892d4",
   "metadata": {},
   "outputs": [],
   "source": []
  }
 ],
 "metadata": {
  "jupytext": {
   "encoding": "# -*- coding: utf-8 -*-",
   "formats": "ipynb"
  },
  "kernelspec": {
   "display_name": "Python 3 (ipykernel)",
   "language": "python",
   "name": "python3"
  }
 },
 "nbformat": 4,
 "nbformat_minor": 5
}
