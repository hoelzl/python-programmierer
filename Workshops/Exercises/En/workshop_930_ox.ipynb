{
 "cells": [
  {
   "cell_type": "markdown",
   "id": "640f0f26",
   "metadata": {},
   "source": [
    "# Ox - Eine Variante von Bulls and Cows\n",
    "\n",
    "Implementieren Sie eine Variante des Spiels \"Bulls and Cows\"\n",
    "\n",
    "## Spielablauf\n",
    "\n",
    "- Der Computer wählt ein Wort aus einem Wörterbuch und teilt dem Spieler mit,\n",
    "  wie viele Buchstaben es enthält\n",
    "- Der Spieler rät ein Wort und erhält als für jeden Buchstaben folgende\n",
    "  Information\n",
    "    - Ein `+` wenn der Buchstabe an der richtigen Stelle vorkommt\n",
    "    - Ein `–` wenn der Buchstabe in der Lösung an einer anderen Stelle\n",
    "      vorkommt\n",
    "    - Einen `.` wenn der Buchstabe nicht in der Lösung vorkommt\n",
    "- Wenn der Spieler das Wort in weniger als 10 Versuchen errät hat er\n",
    "  gewonnen, andernfalls verloren.\n",
    "\n",
    "## Beispiele\n",
    "\n",
    "Erfolgreiches Spiel:\n",
    "\n",
    "```\n",
    "Guess the word!\n",
    "The word to guess has 6 characters.\n",
    "Please enter your guess: something\n",
    "something\n",
    ".-..--\n",
    "Please enter your guess: postoffice\n",
    "postoffice\n",
    "+-.-+.\n",
    "Please enter your guess: python\n",
    "python\n",
    "++++++\n",
    "Congratulations, you have won!\n",
    "```\n",
    "\n",
    "Verlorenes Spiel:\n",
    "\n",
    "```\n",
    "Guess the word!\n",
    "The word to guess has 4 characters.\n",
    "Please enter your guess: foobar\n",
    "foobar\n",
    "....\n",
    "Please enter your guess: tango\n",
    "tango\n",
    ".+.-\n",
    "Please enter your guess: ohno\n",
    "ohno\n",
    "....\n",
    "Please enter your guess: This game is stupid!\n",
    "This game is stupid!\n",
    "....\n",
    "Please enter your guess: Let me out!\n",
    "Let me out!\n",
    ".-..\n",
    "Please enter your guess: exit\n",
    "exit\n",
    "-...\n",
    "Please enter your guess: quit\n",
    "quit\n",
    "....\n",
    "Please enter your guess: QUIT\n",
    "QUIT\n",
    "....\n",
    "Please enter your guess:\n",
    "\n",
    "\n",
    "Please enter your guess: HOW DO I QUIT THIS STUPID GAME!!!!!\n",
    "HOW DO I QUIT THIS STUPID GAME!!!!!\n",
    "....\n",
    "Better luck next time. The word was game.\n",
    "```\n",
    "\n",
    "## Implementierung:\n",
    "\n",
    "Implementieren Sie eine Funktion `ox()`, die dieses Spiel implementiert.\n",
    "Zwechmäßigerweise sollten Sie dazu einige Hilfsfunktionen definieren,\n",
    "die Teile der Spielelogik kapseln.\n",
    "\n",
    "## Hinweise\n",
    "\n",
    "- Benutzereingaben können Sie mittels der Funktion `input(quey: str)`\n",
    "  erhalten.  `query` ist der Text, der dem Benutzer angezeigt wird; das\n",
    "  Ergebnis der Funktion ist der vom Benutzer eingegebenee String.\n",
    "- Speichern Sie das \"Wörterbuch\" als eine Liste von Wörtern.\n",
    "- Mit `random.choice(list)` können Sie aus einer Liste ein zufälliges\n",
    "  Element auswählen.\n",
    "- Da wir noch keine benutzerdefinierten Datentypen kennengelernt haben\n",
    "  bietet es sich an, eine Funktion zu implementieren, die die zeichenweise\n",
    "  Übereinstimmung zweier Zeichenketten testet. Ein möglicher Ergebnistyp für\n",
    "  diese Funktion ist eine Liste der Form `['.', '+', '-', '.']`,\n",
    "  um auszudrücken, dass das erste und vierte Zeichen nicht übereinstimmen,\n",
    "  das zweite Zeichen ein perfekter Treffer ist und das dritte Zeichen in der\n",
    "  Lösung vorkommt, aber an einer anderen Stelle.\n",
    "- Aus einer Liste `list` mit Strings können Sie mittels `''.join(list)`\n",
    "  einen String erzeugen, der alle Elemente der Liste enthält.\n",
    "- Was passiert bei Ihrer Lösung, wenn der Benutzer ein Wort eingibt, das\n",
    " länger oder kürzer ist als die Lösung?"
   ]
  },
  {
   "cell_type": "code",
   "execution_count": null,
   "id": "c95a9289",
   "metadata": {
    "tags": [
     "solution"
    ]
   },
   "outputs": [],
   "source": []
  },
  {
   "cell_type": "code",
   "execution_count": null,
   "id": "65bc49f5",
   "metadata": {
    "tags": [
     "solution"
    ]
   },
   "outputs": [],
   "source": []
  },
  {
   "cell_type": "code",
   "execution_count": null,
   "id": "b26e344b",
   "metadata": {
    "tags": [
     "solution"
    ]
   },
   "outputs": [],
   "source": []
  },
  {
   "cell_type": "code",
   "execution_count": null,
   "id": "fb68037c",
   "metadata": {
    "tags": [
     "solution"
    ]
   },
   "outputs": [],
   "source": []
  },
  {
   "cell_type": "code",
   "execution_count": null,
   "id": "8a82c41f",
   "metadata": {
    "tags": [
     "solution"
    ]
   },
   "outputs": [],
   "source": []
  },
  {
   "cell_type": "code",
   "execution_count": null,
   "id": "9b5a6ebf",
   "metadata": {
    "tags": [
     "solution"
    ]
   },
   "outputs": [],
   "source": []
  },
  {
   "cell_type": "code",
   "execution_count": null,
   "id": "b71c1f83",
   "metadata": {
    "tags": [
     "solution"
    ]
   },
   "outputs": [],
   "source": []
  },
  {
   "cell_type": "code",
   "execution_count": null,
   "id": "0d27d028",
   "metadata": {
    "tags": [
     "solution"
    ]
   },
   "outputs": [],
   "source": []
  },
  {
   "cell_type": "code",
   "execution_count": null,
   "id": "a2310fa0",
   "metadata": {
    "tags": [
     "solution"
    ]
   },
   "outputs": [],
   "source": []
  },
  {
   "cell_type": "code",
   "execution_count": null,
   "id": "230d5b37",
   "metadata": {
    "tags": [
     "solution"
    ]
   },
   "outputs": [],
   "source": []
  },
  {
   "cell_type": "code",
   "execution_count": null,
   "id": "e13fa755",
   "metadata": {
    "tags": [
     "solution"
    ]
   },
   "outputs": [],
   "source": []
  },
  {
   "cell_type": "code",
   "execution_count": null,
   "id": "e28e21f0",
   "metadata": {
    "tags": [
     "solution"
    ]
   },
   "outputs": [],
   "source": []
  },
  {
   "cell_type": "code",
   "execution_count": null,
   "id": "dfbc18ea",
   "metadata": {
    "tags": [
     "solution"
    ]
   },
   "outputs": [],
   "source": []
  },
  {
   "cell_type": "code",
   "execution_count": null,
   "id": "5596a581",
   "metadata": {
    "tags": [
     "solution"
    ]
   },
   "outputs": [],
   "source": []
  },
  {
   "cell_type": "code",
   "execution_count": null,
   "id": "5ac1b1eb",
   "metadata": {
    "tags": [
     "solution"
    ]
   },
   "outputs": [],
   "source": []
  },
  {
   "cell_type": "code",
   "execution_count": null,
   "id": "e9b9f1fb",
   "metadata": {
    "tags": [
     "solution"
    ]
   },
   "outputs": [],
   "source": []
  },
  {
   "cell_type": "code",
   "execution_count": null,
   "id": "ccaa9e8f",
   "metadata": {
    "tags": [
     "solution"
    ]
   },
   "outputs": [],
   "source": []
  },
  {
   "cell_type": "code",
   "execution_count": null,
   "id": "bd0abc4c",
   "metadata": {
    "tags": [
     "solution"
    ]
   },
   "outputs": [],
   "source": []
  },
  {
   "cell_type": "code",
   "execution_count": null,
   "id": "5dc2bc9d",
   "metadata": {
    "tags": [
     "solution"
    ]
   },
   "outputs": [],
   "source": []
  },
  {
   "cell_type": "code",
   "execution_count": null,
   "id": "ee7af6b6",
   "metadata": {
    "tags": [
     "solution"
    ]
   },
   "outputs": [],
   "source": []
  },
  {
   "cell_type": "code",
   "execution_count": null,
   "id": "45c9c2b8",
   "metadata": {
    "tags": [
     "solution"
    ]
   },
   "outputs": [],
   "source": []
  }
 ],
 "metadata": {
  "jupytext": {
   "encoding": "# -*- coding: utf-8 -*-",
   "formats": "ipynb"
  },
  "kernelspec": {
   "display_name": "Python 3 (ipykernel)",
   "language": "python",
   "name": "python3"
  }
 },
 "nbformat": 4,
 "nbformat_minor": 5
}
