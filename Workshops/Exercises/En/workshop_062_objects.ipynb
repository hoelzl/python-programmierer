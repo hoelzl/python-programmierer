{
 "cells": [
  {
   "cell_type": "markdown",
   "id": "e65ff36f",
   "metadata": {
    "lang": "en"
   },
   "source": [
    "# Motor Vehicles (Part 1)\n",
    "\n",
    "Define a class `MotorVehicle` whose instances describe motor vehicles.\n",
    "Every car should have attributes `manufacturer` and `license_plate`."
   ]
  },
  {
   "cell_type": "code",
   "execution_count": null,
   "id": "ee8e58e6",
   "metadata": {
    "tags": [
     "solution"
    ]
   },
   "outputs": [],
   "source": []
  },
  {
   "cell_type": "code",
   "execution_count": null,
   "id": "760ffa8b",
   "metadata": {
    "tags": [
     "solution"
    ]
   },
   "outputs": [],
   "source": []
  },
  {
   "cell_type": "markdown",
   "id": "d126401a",
   "metadata": {
    "lang": "en"
   },
   "source": [
    "Create two motor vehicles:\n",
    "- a BMW with license plate \"M-BW 123\"\n",
    "- a VW with license plate \"WOB-VW 246\"\n",
    "and store them in variables `bmw` and `vw`"
   ]
  },
  {
   "cell_type": "code",
   "execution_count": null,
   "id": "00b05d96",
   "metadata": {
    "tags": [
     "solution"
    ]
   },
   "outputs": [],
   "source": []
  },
  {
   "cell_type": "code",
   "execution_count": null,
   "id": "22e65eb5",
   "metadata": {
    "tags": [
     "solution"
    ]
   },
   "outputs": [],
   "source": []
  },
  {
   "cell_type": "markdown",
   "id": "3704335c",
   "metadata": {
    "lang": "en"
   },
   "source": [
    "Create a new instance of `MotorVehicle` with manufacturer BMW and registration number\n",
    "\"M-BW 123\" and store it in a variable `bmw2`."
   ]
  },
  {
   "cell_type": "code",
   "execution_count": null,
   "id": "b0916224",
   "metadata": {
    "tags": [
     "solution"
    ]
   },
   "outputs": [],
   "source": []
  },
  {
   "cell_type": "markdown",
   "id": "04459399",
   "metadata": {
    "lang": "en"
   },
   "source": [
    "How can you determine whether `bmw` and `bmw2` (or `bmw` and `vw`) describe the same vehicle?"
   ]
  },
  {
   "cell_type": "code",
   "execution_count": null,
   "id": "82282038",
   "metadata": {
    "tags": [
     "solution"
    ]
   },
   "outputs": [],
   "source": []
  },
  {
   "cell_type": "code",
   "execution_count": null,
   "id": "50e71760",
   "metadata": {
    "tags": [
     "solution"
    ]
   },
   "outputs": [],
   "source": []
  },
  {
   "cell_type": "code",
   "execution_count": null,
   "id": "ef751f7d",
   "metadata": {
    "tags": [
     "solution"
    ]
   },
   "outputs": [],
   "source": []
  },
  {
   "cell_type": "markdown",
   "id": "11ff5656",
   "metadata": {
    "lang": "en"
   },
   "source": [
    "# Motor Vehicles (Part 2)\n",
    "\n",
    "Extend the `MotorVehicle` class with a method `change_registration(self, new_license_plate)`, which changes the vehicle's license plate."
   ]
  },
  {
   "cell_type": "code",
   "execution_count": null,
   "id": "75b36127",
   "metadata": {
    "tags": [
     "solution"
    ]
   },
   "outputs": [],
   "source": []
  },
  {
   "cell_type": "code",
   "execution_count": null,
   "id": "9814f424",
   "metadata": {
    "tags": [
     "solution"
    ]
   },
   "outputs": [],
   "source": []
  },
  {
   "cell_type": "markdown",
   "id": "56afa8a1",
   "metadata": {
    "lang": "en"
   },
   "source": [
    "Create new instances of `bmw`, `bmw2` and `vw` as above:"
   ]
  },
  {
   "cell_type": "code",
   "execution_count": null,
   "id": "b88c8139",
   "metadata": {
    "tags": [
     "solution"
    ]
   },
   "outputs": [],
   "source": []
  },
  {
   "cell_type": "code",
   "execution_count": null,
   "id": "b633d444",
   "metadata": {
    "tags": [
     "solution"
    ]
   },
   "outputs": [],
   "source": []
  },
  {
   "cell_type": "markdown",
   "id": "f34613e8",
   "metadata": {
    "lang": "en"
   },
   "source": [
    "Change the registation of the VW generated above so that it has the new license plate  \"BGL-A 9\". How can you tell if changing the registration resulted is the change you wanted?"
   ]
  },
  {
   "cell_type": "code",
   "execution_count": null,
   "id": "ce4bece6",
   "metadata": {
    "tags": [
     "solution"
    ]
   },
   "outputs": [],
   "source": []
  },
  {
   "cell_type": "code",
   "execution_count": null,
   "id": "d18032ae",
   "metadata": {
    "tags": [
     "solution"
    ]
   },
   "outputs": [],
   "source": []
  },
  {
   "cell_type": "code",
   "execution_count": null,
   "id": "7cd19b58",
   "metadata": {
    "tags": [
     "solution"
    ]
   },
   "outputs": [],
   "source": []
  },
  {
   "cell_type": "code",
   "execution_count": null,
   "id": "aa4cf575",
   "metadata": {
    "tags": [
     "solution"
    ]
   },
   "outputs": [],
   "source": []
  },
  {
   "cell_type": "markdown",
   "id": "57997324",
   "metadata": {
    "lang": "en"
   },
   "source": [
    "Change the registration of the BMW saved in `bmw` (to the new registration number \"F-B 21\").\n",
    "Does the change affect the car saved in `bmw2`?"
   ]
  },
  {
   "cell_type": "code",
   "execution_count": null,
   "id": "6ddda2e3",
   "metadata": {
    "lines_to_next_cell": 2,
    "tags": [
     "solution"
    ]
   },
   "outputs": [],
   "source": []
  },
  {
   "cell_type": "markdown",
   "id": "cd2eb9c7",
   "metadata": {
    "lang": "en"
   },
   "source": [
    "# Motor Vehicles (Part 3)\n",
    "\n",
    "Enhance the `MotorVehicle` class by implementing methods that return a string representation of the vehicle in a suitable form. Repeat the above examples with the new class."
   ]
  },
  {
   "cell_type": "code",
   "execution_count": null,
   "id": "f3bd727c",
   "metadata": {
    "tags": [
     "solution"
    ]
   },
   "outputs": [],
   "source": []
  },
  {
   "cell_type": "code",
   "execution_count": null,
   "id": "1178c2cf",
   "metadata": {
    "tags": [
     "solution"
    ]
   },
   "outputs": [],
   "source": []
  },
  {
   "cell_type": "code",
   "execution_count": null,
   "id": "163a5bb1",
   "metadata": {
    "tags": [
     "solution"
    ]
   },
   "outputs": [],
   "source": []
  },
  {
   "cell_type": "code",
   "execution_count": null,
   "id": "18e05014",
   "metadata": {
    "tags": [
     "solution"
    ]
   },
   "outputs": [],
   "source": []
  },
  {
   "cell_type": "code",
   "execution_count": null,
   "id": "e358b0ef",
   "metadata": {
    "tags": [
     "solution"
    ]
   },
   "outputs": [],
   "source": []
  },
  {
   "cell_type": "code",
   "execution_count": null,
   "id": "1d22cf8b",
   "metadata": {
    "tags": [
     "solution"
    ]
   },
   "outputs": [],
   "source": []
  },
  {
   "cell_type": "code",
   "execution_count": null,
   "id": "16d461b6",
   "metadata": {
    "tags": [
     "solution"
    ]
   },
   "outputs": [],
   "source": []
  },
  {
   "cell_type": "code",
   "execution_count": null,
   "id": "1f03423c",
   "metadata": {
    "tags": [
     "solution"
    ]
   },
   "outputs": [],
   "source": []
  },
  {
   "cell_type": "markdown",
   "id": "030476ce",
   "metadata": {
    "lang": "en"
   },
   "source": [
    "# Shopping List\n",
    "\n",
    "In this workshop we want to define a shopping list, that can manage planned purchases. A shopping list should consist of items that contain a product and the required quantity of the product.\n",
    "\n",
    "Both the shopping list itself and the entries should be represented as user-defined data types.\n",
    "\n",
    "First define a class `ShoppingListItem` that has attributes `product` and `amount`. To do this, use the `@dataclass` decorator"
   ]
  },
  {
   "cell_type": "code",
   "execution_count": null,
   "id": "c2a9ad31",
   "metadata": {
    "tags": [
     "solution"
    ]
   },
   "outputs": [],
   "source": []
  },
  {
   "cell_type": "markdown",
   "id": "6d863f4b",
   "metadata": {
    "lang": "en"
   },
   "source": [
    "Create a shopping list item that represents 500g of coffee:"
   ]
  },
  {
   "cell_type": "code",
   "execution_count": null,
   "id": "e945fae9",
   "metadata": {
    "tags": [
     "solution"
    ]
   },
   "outputs": [],
   "source": []
  },
  {
   "cell_type": "markdown",
   "id": "73688e42",
   "metadata": {
    "lang": "en"
   },
   "source": [
    "Define a class `ShoppingList` containing a list of `ShoppingListItem` instances:\n",
    "\n",
    "- Use the `@dataclass` decorator\n",
    "- The class has an attribute `items` of type `list` (or `list[ShoppingListItem]` if\n",
    "  you are using Python 3.9 or newer), initialized with an empty list.\n",
    "- The method `add_item(self, item: ShoppingListItem)` adds a `ShoppingListItem` to the shopping list.\n",
    "\n",
    "Implement a\n",
    "[`__str__()` method](https://docs.python.org/3/reference/datamodel.html#object.__str<_>_),\n",
    "so the following program:\n",
    "\n",
    "```python\n",
    "my_shopping_list = ShoppingList([ShoppingListItem('Tea', '2 packets'),\n",
    "                                 ShoppingListItem('Coffee', '1 packet')])\n",
    "print(str(my_shopping_list))\n",
    "print(repr(my_shopping_list))\n",
    "```\n",
    "\n",
    "Produces the following output:\n",
    "\n",
    "```\n",
    "Shopping List\n",
    "  Tea, (2 packets)\n",
    "  Coffee, (1 packet)\n",
    "\n",
    "ShoppingList(items=[ShoppingListItem(product='Tea', amount='2 packets'), ShoppingListItem(product='Coffee', amount='1 packet')])\n",
    "```\n",
    "\n",
    "Implement a method `__len__()` that returns the length of the shopping list, and a method `__getitem__()` that allows access to items via their numeric index."
   ]
  },
  {
   "cell_type": "code",
   "execution_count": null,
   "id": "4c6e8bbe",
   "metadata": {
    "tags": [
     "solution"
    ]
   },
   "outputs": [],
   "source": []
  },
  {
   "cell_type": "markdown",
   "id": "6615e1fa",
   "metadata": {
    "lang": "en"
   },
   "source": [
    "Define a variable `my_shopping_list` containing a shopping list representing the following items:\n",
    "\n",
    "- 2 packets of tea,\n",
    "- 1 packet of coffee\n",
    "\n",
    "Check that `str()` and `repr()` behave as specified above."
   ]
  },
  {
   "cell_type": "code",
   "execution_count": null,
   "id": "b729a3e8",
   "metadata": {
    "tags": [
     "solution"
    ]
   },
   "outputs": [],
   "source": []
  },
  {
   "cell_type": "markdown",
   "id": "fb652cbe",
   "metadata": {
    "lang": "en"
   },
   "source": [
    "Print out `my_shopping_list`. Does the output look as expected?"
   ]
  },
  {
   "cell_type": "code",
   "execution_count": null,
   "id": "9d90ee80",
   "metadata": {
    "tags": [
     "solution"
    ]
   },
   "outputs": [],
   "source": []
  },
  {
   "cell_type": "markdown",
   "id": "37100902",
   "metadata": {
    "lang": "en"
   },
   "source": [
    "Determine the length of `my_shopping_list` is and its first and second item."
   ]
  },
  {
   "cell_type": "code",
   "execution_count": null,
   "id": "7e044d89",
   "metadata": {
    "tags": [
     "solution"
    ]
   },
   "outputs": [],
   "source": []
  },
  {
   "cell_type": "markdown",
   "id": "181a63cf",
   "metadata": {
    "lang": "en"
   },
   "source": [
    "What is the effect of the following expression?\n",
    "```python\n",
    "  for item in my_shopping_list:\n",
    "      print(item)\n",
    "```"
   ]
  },
  {
   "cell_type": "code",
   "execution_count": null,
   "id": "f03a7103",
   "metadata": {
    "tags": [
     "solution"
    ]
   },
   "outputs": [],
   "source": []
  },
  {
   "cell_type": "markdown",
   "id": "2473b2d1",
   "metadata": {
    "lang": "en"
   },
   "source": [
    "Extend the definition of the `ShoppingList` class so that the indexing operator `[]` can also be called with a string argument, and returns the shopping list item with the appropriate `product` attribute if such an item exists, or `None` if no such item exists.\n",
    "\n",
    "Verify that the new implementation of the indexing operators works for boths integer and string arguments.\n",
    "\n",
    "*Hint:* You can use the `isinstance()` function to check whether an object is a string:"
   ]
  },
  {
   "cell_type": "code",
   "execution_count": null,
   "id": "eb351764",
   "metadata": {
    "tags": [
     "solution"
    ]
   },
   "outputs": [],
   "source": []
  },
  {
   "cell_type": "code",
   "execution_count": null,
   "id": "12b62e6d",
   "metadata": {
    "tags": [
     "solution"
    ]
   },
   "outputs": [],
   "source": []
  },
  {
   "cell_type": "code",
   "execution_count": null,
   "id": "af93d72f",
   "metadata": {
    "tags": [
     "solution"
    ]
   },
   "outputs": [],
   "source": []
  },
  {
   "cell_type": "markdown",
   "id": "9cfc9c89",
   "metadata": {
    "lang": "en"
   },
   "source": [
    "Add 250g butter and 1 loaf of bread to the shopping list\n",
    "`my_shopping_list`."
   ]
  },
  {
   "cell_type": "code",
   "execution_count": null,
   "id": "be4b90b9",
   "metadata": {
    "tags": [
     "solution"
    ]
   },
   "outputs": [],
   "source": []
  },
  {
   "cell_type": "markdown",
   "id": "e6e4d3cd",
   "metadata": {
    "lang": "en"
   },
   "source": [
    "Print out the shopping list again."
   ]
  },
  {
   "cell_type": "code",
   "execution_count": null,
   "id": "ef262e15",
   "metadata": {
    "tags": [
     "solution"
    ]
   },
   "outputs": [],
   "source": []
  },
  {
   "cell_type": "markdown",
   "id": "925d6b3f",
   "metadata": {
    "lang": "en"
   },
   "source": [
    "What happens when you add `butter` and `bread` to the shopping list again?"
   ]
  },
  {
   "cell_type": "code",
   "execution_count": null,
   "id": "9abe1a6f",
   "metadata": {
    "tags": [
     "solution"
    ]
   },
   "outputs": [],
   "source": []
  },
  {
   "cell_type": "markdown",
   "id": "e5b63933",
   "metadata": {
    "lang": "en"
   },
   "source": [
    "*Discussion:* How could we improve the behavior of the class?"
   ]
  }
 ],
 "metadata": {
  "jupytext": {
   "encoding": "# -*- coding: utf-8 -*-",
   "formats": "ipynb"
  },
  "kernelspec": {
   "display_name": "Python 3 (ipykernel)",
   "language": "python",
   "name": "python3"
  }
 },
 "nbformat": 4,
 "nbformat_minor": 5
}
