{
 "cells": [
  {
   "cell_type": "markdown",
   "id": "58e4ff95",
   "metadata": {
    "lang": "en"
   },
   "source": [
    "# Motor Vehicles (Part 1)\n",
    "\n",
    "Define a class `MotorVehicle` whose instances describe motor vehicles.\n",
    "Every car should have attributes `manufacturer` and `license_plate`."
   ]
  },
  {
   "cell_type": "code",
   "execution_count": null,
   "id": "17ca3869",
   "metadata": {
    "tags": [
     "solution"
    ]
   },
   "outputs": [],
   "source": []
  },
  {
   "cell_type": "code",
   "execution_count": null,
   "id": "63a2be70",
   "metadata": {
    "tags": [
     "solution"
    ]
   },
   "outputs": [],
   "source": []
  },
  {
   "cell_type": "markdown",
   "id": "9edfabc6",
   "metadata": {
    "lang": "en"
   },
   "source": [
    "Create two motor vehicles:\n",
    "- a BMW with license plate \"M-BW 123\"\n",
    "- a VW with license plate \"WOB-VW 246\"\n",
    "and store them in variables `bmw` and `vw`"
   ]
  },
  {
   "cell_type": "code",
   "execution_count": null,
   "id": "e3eb0016",
   "metadata": {
    "tags": [
     "solution"
    ]
   },
   "outputs": [],
   "source": []
  },
  {
   "cell_type": "code",
   "execution_count": null,
   "id": "9bf7f092",
   "metadata": {
    "tags": [
     "solution"
    ]
   },
   "outputs": [],
   "source": []
  },
  {
   "cell_type": "markdown",
   "id": "5858cd1d",
   "metadata": {
    "lang": "en"
   },
   "source": [
    "Create a new instance of `MotorVehicle` with manufacturer BMW and registration number\n",
    "\"M-BW 123\" and store it in a variable `bmw2`."
   ]
  },
  {
   "cell_type": "code",
   "execution_count": null,
   "id": "5668006b",
   "metadata": {
    "tags": [
     "solution"
    ]
   },
   "outputs": [],
   "source": []
  },
  {
   "cell_type": "markdown",
   "id": "bac6f415",
   "metadata": {
    "lang": "en"
   },
   "source": [
    "How can you determine whether `bmw` and `bmw2` (or `bmw` and `vw`) describe the same vehicle?"
   ]
  },
  {
   "cell_type": "code",
   "execution_count": null,
   "id": "8acd7694",
   "metadata": {
    "tags": [
     "solution"
    ]
   },
   "outputs": [],
   "source": []
  },
  {
   "cell_type": "code",
   "execution_count": null,
   "id": "5efef6ee",
   "metadata": {
    "tags": [
     "solution"
    ]
   },
   "outputs": [],
   "source": []
  },
  {
   "cell_type": "code",
   "execution_count": null,
   "id": "508e8635",
   "metadata": {
    "tags": [
     "solution"
    ]
   },
   "outputs": [],
   "source": []
  },
  {
   "cell_type": "markdown",
   "id": "e68b138b",
   "metadata": {
    "lang": "en"
   },
   "source": [
    "# Motor Vehicles (Part 2)\n",
    "\n",
    "Extend the `MotorVehicle` class with a method `change_registration(self, new_license_plate)`, which changes the vehicle's license plate."
   ]
  },
  {
   "cell_type": "code",
   "execution_count": null,
   "id": "12e9ccde",
   "metadata": {
    "tags": [
     "solution"
    ]
   },
   "outputs": [],
   "source": []
  },
  {
   "cell_type": "code",
   "execution_count": null,
   "id": "4d59653b",
   "metadata": {
    "tags": [
     "solution"
    ]
   },
   "outputs": [],
   "source": []
  },
  {
   "cell_type": "markdown",
   "id": "ded0d08b",
   "metadata": {
    "lang": "en"
   },
   "source": [
    "Create new instances of `bmw`, `bmw2` and `vw` as above:"
   ]
  },
  {
   "cell_type": "code",
   "execution_count": null,
   "id": "8df656b7",
   "metadata": {
    "tags": [
     "solution"
    ]
   },
   "outputs": [],
   "source": []
  },
  {
   "cell_type": "code",
   "execution_count": null,
   "id": "e6fc8300",
   "metadata": {
    "tags": [
     "solution"
    ]
   },
   "outputs": [],
   "source": []
  },
  {
   "cell_type": "markdown",
   "id": "fb62fb7d",
   "metadata": {
    "lang": "en"
   },
   "source": [
    "Change the registation of the VW generated above so that it has the new license plate  \"BGL-A 9\". How can you tell if changing the registration resulted is the change you wanted?"
   ]
  },
  {
   "cell_type": "code",
   "execution_count": null,
   "id": "755eaff1",
   "metadata": {
    "tags": [
     "solution"
    ]
   },
   "outputs": [],
   "source": []
  },
  {
   "cell_type": "code",
   "execution_count": null,
   "id": "115d50f6",
   "metadata": {
    "tags": [
     "solution"
    ]
   },
   "outputs": [],
   "source": []
  },
  {
   "cell_type": "code",
   "execution_count": null,
   "id": "d2d92af5",
   "metadata": {
    "tags": [
     "solution"
    ]
   },
   "outputs": [],
   "source": []
  },
  {
   "cell_type": "code",
   "execution_count": null,
   "id": "787380f9",
   "metadata": {
    "tags": [
     "solution"
    ]
   },
   "outputs": [],
   "source": []
  },
  {
   "cell_type": "markdown",
   "id": "8243b755",
   "metadata": {
    "lang": "en"
   },
   "source": [
    "Change the registration of the BMW saved in `bmw` (to the new registration number \"F-B 21\").\n",
    "Does the change affect the car saved in `bmw2`?"
   ]
  },
  {
   "cell_type": "code",
   "execution_count": null,
   "id": "3e722ffc",
   "metadata": {
    "lines_to_next_cell": 2,
    "tags": [
     "solution"
    ]
   },
   "outputs": [],
   "source": []
  },
  {
   "cell_type": "markdown",
   "id": "30853d08",
   "metadata": {
    "lang": "en"
   },
   "source": [
    "# Motor Vehicles (Part 3)\n",
    "\n",
    "Enhance the `MotorVehicle` class by implementing methods that return a string representation of the vehicle in a suitable form. Repeat the above examples with the new class."
   ]
  },
  {
   "cell_type": "code",
   "execution_count": null,
   "id": "5541509e",
   "metadata": {
    "tags": [
     "solution"
    ]
   },
   "outputs": [],
   "source": []
  },
  {
   "cell_type": "code",
   "execution_count": null,
   "id": "8823f8af",
   "metadata": {
    "tags": [
     "solution"
    ]
   },
   "outputs": [],
   "source": []
  },
  {
   "cell_type": "code",
   "execution_count": null,
   "id": "e7486bda",
   "metadata": {
    "tags": [
     "solution"
    ]
   },
   "outputs": [],
   "source": []
  },
  {
   "cell_type": "code",
   "execution_count": null,
   "id": "65da0704",
   "metadata": {
    "tags": [
     "solution"
    ]
   },
   "outputs": [],
   "source": []
  },
  {
   "cell_type": "code",
   "execution_count": null,
   "id": "e135c940",
   "metadata": {
    "tags": [
     "solution"
    ]
   },
   "outputs": [],
   "source": []
  },
  {
   "cell_type": "code",
   "execution_count": null,
   "id": "d404ba46",
   "metadata": {
    "tags": [
     "solution"
    ]
   },
   "outputs": [],
   "source": []
  },
  {
   "cell_type": "code",
   "execution_count": null,
   "id": "7cc2f2ba",
   "metadata": {
    "tags": [
     "solution"
    ]
   },
   "outputs": [],
   "source": []
  },
  {
   "cell_type": "code",
   "execution_count": null,
   "id": "ebf7147e",
   "metadata": {
    "tags": [
     "solution"
    ]
   },
   "outputs": [],
   "source": []
  },
  {
   "cell_type": "markdown",
   "id": "efca4707",
   "metadata": {
    "lang": "en"
   },
   "source": [
    "# Shopping List\n",
    "\n",
    "In this workshop we want to define a shopping list, that can manage planned purchases. A shopping list should consist of items that contain a product and the required quantity of the product.\n",
    "\n",
    "Both the shopping list itself and the entries should be represented as user-defined data types.\n",
    "\n",
    "First define a class `ShoppingListItem` that has attributes `product` and `amount`. To do this, use the `@dataclass` decorator"
   ]
  },
  {
   "cell_type": "code",
   "execution_count": null,
   "id": "85d1b4fb",
   "metadata": {
    "tags": [
     "solution"
    ]
   },
   "outputs": [],
   "source": []
  },
  {
   "cell_type": "markdown",
   "id": "020afcd1",
   "metadata": {
    "lang": "en"
   },
   "source": [
    "Create a shopping list item that represents 500g of coffee:"
   ]
  },
  {
   "cell_type": "code",
   "execution_count": null,
   "id": "05765212",
   "metadata": {
    "tags": [
     "solution"
    ]
   },
   "outputs": [],
   "source": []
  },
  {
   "cell_type": "markdown",
   "id": "31346228",
   "metadata": {
    "lang": "en"
   },
   "source": [
    "Define a class `ShoppingList` containing a list of `ShoppingListItem` instances:\n",
    "\n",
    "- Use the `@dataclass` decorator\n",
    "- The class has an attribute `items` of type `list` (or `list[ShoppingListItem]` if\n",
    "  you are using Python 3.9 or newer), initialized with an empty list.\n",
    "- The method `add_item(self, item: ShoppingListItem)` adds a `ShoppingListItem` to the shopping list.\n",
    "\n",
    "Implement a\n",
    "[`__str__()` method](https://docs.python.org/3/reference/datamodel.html#object.__str<_>_),\n",
    "so the following program:\n",
    "\n",
    "```python\n",
    "my_shopping_list = ShoppingList([ShoppingListItem('Tea', '2 packets'),\n",
    "                                 ShoppingListItem('Coffee', '1 packet')])\n",
    "print(str(my_shopping_list))\n",
    "print(repr(my_shopping_list))\n",
    "```\n",
    "\n",
    "Produces the following output:\n",
    "\n",
    "```\n",
    "Shopping List\n",
    "  Tea, (2 packets)\n",
    "  Coffee, (1 packet)\n",
    "\n",
    "ShoppingList(items=[ShoppingListItem(product='Tea', amount='2 packets'), ShoppingListItem(product='Coffee', amount='1 packet')])\n",
    "```\n",
    "\n",
    "Implement a method `__len__()` that returns the length of the shopping list, and a method `__getitem__()` that allows access to items via their numeric index."
   ]
  },
  {
   "cell_type": "code",
   "execution_count": null,
   "id": "4bf39487",
   "metadata": {
    "tags": [
     "solution"
    ]
   },
   "outputs": [],
   "source": []
  },
  {
   "cell_type": "markdown",
   "id": "8f0026c8",
   "metadata": {
    "lang": "en"
   },
   "source": [
    "Define a variable `my_shopping_list` containing a shopping list representing the following items:\n",
    "\n",
    "- 2 packets of tea,\n",
    "- 1 packet of coffee\n",
    "\n",
    "Check that `str()` and `repr()` behave as specified above."
   ]
  },
  {
   "cell_type": "code",
   "execution_count": null,
   "id": "b66773b6",
   "metadata": {
    "tags": [
     "solution"
    ]
   },
   "outputs": [],
   "source": []
  },
  {
   "cell_type": "markdown",
   "id": "3effc39d",
   "metadata": {
    "lang": "en"
   },
   "source": [
    "Print out `my_shopping_list`. Does the output look as expected?"
   ]
  },
  {
   "cell_type": "code",
   "execution_count": null,
   "id": "9090d994",
   "metadata": {
    "tags": [
     "solution"
    ]
   },
   "outputs": [],
   "source": []
  },
  {
   "cell_type": "markdown",
   "id": "a2efc888",
   "metadata": {
    "lang": "en"
   },
   "source": [
    "Determine the length of `my_shopping_list` is and its first and second item."
   ]
  },
  {
   "cell_type": "code",
   "execution_count": null,
   "id": "8921c2d8",
   "metadata": {
    "tags": [
     "solution"
    ]
   },
   "outputs": [],
   "source": []
  },
  {
   "cell_type": "markdown",
   "id": "cb9d6f0f",
   "metadata": {
    "lang": "en"
   },
   "source": [
    "What is the effect of the following expression?\n",
    "```python\n",
    "  for item in my_shopping_list:\n",
    "      print(item)\n",
    "```"
   ]
  },
  {
   "cell_type": "code",
   "execution_count": null,
   "id": "790ef759",
   "metadata": {
    "tags": [
     "solution"
    ]
   },
   "outputs": [],
   "source": []
  },
  {
   "cell_type": "markdown",
   "id": "a4158136",
   "metadata": {
    "lang": "en"
   },
   "source": [
    "Extend the definition of the `ShoppingList` class so that the indexing operator `[]` can also be called with a string argument, and returns the shopping list item with the appropriate `product` attribute if such an item exists, or `None` if no such item exists.\n",
    "\n",
    "Verify that the new implementation of the indexing operators works for boths integer and string arguments.\n",
    "\n",
    "*Hint:* You can use the `isinstance()` function to check whether an object is a string:"
   ]
  },
  {
   "cell_type": "code",
   "execution_count": null,
   "id": "579e26f1",
   "metadata": {
    "tags": [
     "solution"
    ]
   },
   "outputs": [],
   "source": []
  },
  {
   "cell_type": "code",
   "execution_count": null,
   "id": "fdf8f737",
   "metadata": {
    "tags": [
     "solution"
    ]
   },
   "outputs": [],
   "source": []
  },
  {
   "cell_type": "code",
   "execution_count": null,
   "id": "9ecee83e",
   "metadata": {
    "tags": [
     "solution"
    ]
   },
   "outputs": [],
   "source": []
  },
  {
   "cell_type": "markdown",
   "id": "181ebeba",
   "metadata": {
    "lang": "en"
   },
   "source": [
    "Add 250g butter and 1 loaf of bread to the shopping list\n",
    "`my_shopping_list`."
   ]
  },
  {
   "cell_type": "code",
   "execution_count": null,
   "id": "f9ba80c3",
   "metadata": {
    "tags": [
     "solution"
    ]
   },
   "outputs": [],
   "source": []
  },
  {
   "cell_type": "markdown",
   "id": "5059211b",
   "metadata": {
    "lang": "en"
   },
   "source": [
    "Print out the shopping list again."
   ]
  },
  {
   "cell_type": "code",
   "execution_count": null,
   "id": "a76fbe53",
   "metadata": {
    "tags": [
     "solution"
    ]
   },
   "outputs": [],
   "source": []
  },
  {
   "cell_type": "markdown",
   "id": "edbea2eb",
   "metadata": {
    "lang": "en"
   },
   "source": [
    "What happens when you add `butter` and `bread` to the shopping list again?"
   ]
  },
  {
   "cell_type": "code",
   "execution_count": null,
   "id": "ae4c1a51",
   "metadata": {
    "tags": [
     "solution"
    ]
   },
   "outputs": [],
   "source": []
  },
  {
   "cell_type": "markdown",
   "id": "6f1b9fe3",
   "metadata": {
    "lang": "en"
   },
   "source": [
    "*Discussion:* How could we improve the behavior of the class?"
   ]
  }
 ],
 "metadata": {
  "jupytext": {
   "encoding": "# -*- coding: utf-8 -*-",
   "formats": "ipynb"
  },
  "kernelspec": {
   "display_name": "Python 3 (ipykernel)",
   "language": "python",
   "name": "python3"
  }
 },
 "nbformat": 4,
 "nbformat_minor": 5
}
