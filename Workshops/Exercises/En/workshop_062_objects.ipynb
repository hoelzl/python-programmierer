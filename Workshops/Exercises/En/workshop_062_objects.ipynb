{
 "cells": [
  {
   "cell_type": "markdown",
   "id": "b92e9464",
   "metadata": {
    "lang": "en"
   },
   "source": [
    "# Motor Vehicles (Part 1)\n",
    "\n",
    "Define a class `MotorVehicle` whose instances describe motor vehicles.\n",
    "Every car should have attributes `manufacturer` and `license_plate`."
   ]
  },
  {
   "cell_type": "code",
   "execution_count": null,
   "id": "5b79a6d0",
   "metadata": {
    "tags": [
     "solution"
    ]
   },
   "outputs": [],
   "source": []
  },
  {
   "cell_type": "markdown",
   "id": "1fe34126",
   "metadata": {
    "lang": "en"
   },
   "source": [
    "Create two motor vehicles:\n",
    "- a BMW with license plate \"M-BW 123\"\n",
    "- a VW with license plate \"WOB-VW 246\"\n",
    "and store them in variables `bmw` and `vw`"
   ]
  },
  {
   "cell_type": "code",
   "execution_count": null,
   "id": "f4a46107",
   "metadata": {
    "tags": [
     "solution"
    ]
   },
   "outputs": [],
   "source": []
  },
  {
   "cell_type": "markdown",
   "id": "57f99c6c",
   "metadata": {
    "lang": "en"
   },
   "source": [
    "Create a new instance of `MotorVehicle` with manufacturer BMW and registration number\n",
    "\"M-BW 123\" and store it in a variable `bmw2`."
   ]
  },
  {
   "cell_type": "code",
   "execution_count": null,
   "id": "ee89e928",
   "metadata": {
    "tags": [
     "solution"
    ]
   },
   "outputs": [],
   "source": []
  },
  {
   "cell_type": "markdown",
   "id": "c6bf7a9d",
   "metadata": {
    "lang": "en"
   },
   "source": [
    "How can you determine whether `bmw` and `bmw2` (or `bmw` and `vw`) describe the same vehicle?"
   ]
  },
  {
   "cell_type": "code",
   "execution_count": null,
   "id": "3714b7fb",
   "metadata": {
    "tags": [
     "solution"
    ]
   },
   "outputs": [],
   "source": []
  },
  {
   "cell_type": "code",
   "execution_count": null,
   "id": "fd6ec596",
   "metadata": {
    "tags": [
     "solution"
    ]
   },
   "outputs": [],
   "source": []
  },
  {
   "cell_type": "markdown",
   "id": "04fbee2d",
   "metadata": {
    "lang": "en"
   },
   "source": [
    "# Motor Vehicles (Part 2)\n",
    "\n",
    "Extend the `MotorVehicle` class with a method `change_registration(self, new_license_plate)`, which changes the vehicle's license plate."
   ]
  },
  {
   "cell_type": "code",
   "execution_count": null,
   "id": "ac62bf92",
   "metadata": {
    "tags": [
     "solution"
    ]
   },
   "outputs": [],
   "source": []
  },
  {
   "cell_type": "markdown",
   "id": "11dd3ff9",
   "metadata": {
    "lang": "en"
   },
   "source": [
    "Create new instances of `bmw`, `bmw2` and `vw` as above:"
   ]
  },
  {
   "cell_type": "code",
   "execution_count": null,
   "id": "9b56428f",
   "metadata": {
    "tags": [
     "solution"
    ]
   },
   "outputs": [],
   "source": []
  },
  {
   "cell_type": "markdown",
   "id": "3cfb9e20",
   "metadata": {
    "lang": "en"
   },
   "source": [
    "Change the registation of the VW generated above so that it has the new license plate  \"BGL-A 9\". How can you tell if changing the registration resulted is the change you wanted?"
   ]
  },
  {
   "cell_type": "code",
   "execution_count": null,
   "id": "9dabb5cc",
   "metadata": {
    "tags": [
     "solution"
    ]
   },
   "outputs": [],
   "source": []
  },
  {
   "cell_type": "code",
   "execution_count": null,
   "id": "b74316ce",
   "metadata": {
    "tags": [
     "solution"
    ]
   },
   "outputs": [],
   "source": []
  },
  {
   "cell_type": "markdown",
   "id": "e7d05902",
   "metadata": {
    "lang": "en"
   },
   "source": [
    "Change the registration of the BMW saved in `bmw` (to the new registration number \"F-B 21\"). \n",
    "Does the change affect the car saved in `bmw2`?"
   ]
  },
  {
   "cell_type": "code",
   "execution_count": null,
   "id": "a1858a6a",
   "metadata": {
    "lines_to_next_cell": 2,
    "tags": [
     "solution"
    ]
   },
   "outputs": [],
   "source": []
  },
  {
   "cell_type": "markdown",
   "id": "78f16021",
   "metadata": {
    "lang": "en"
   },
   "source": [
    "# Motor Vehicles (Part 3)\n",
    "\n",
    "Enhance the `MotorVehicle` class by implementing methods that return a string representation of the vehicle in a suitable form. Repeat the above examples with the new class."
   ]
  },
  {
   "cell_type": "code",
   "execution_count": null,
   "id": "9febae92",
   "metadata": {
    "tags": [
     "solution"
    ]
   },
   "outputs": [],
   "source": []
  },
  {
   "cell_type": "code",
   "execution_count": null,
   "id": "f08bf3a8",
   "metadata": {},
   "outputs": [],
   "source": [
    "bmw = Kfz(\"BMW\", \"M-BW 123\")\n",
    "bmw"
   ]
  },
  {
   "cell_type": "code",
   "execution_count": null,
   "id": "ee9f8843",
   "metadata": {},
   "outputs": [],
   "source": [
    "bmw2 = Kfz(\"BMW\", \"M-BW 123\")\n",
    "bmw2"
   ]
  },
  {
   "cell_type": "code",
   "execution_count": null,
   "id": "6a5bd42e",
   "metadata": {},
   "outputs": [],
   "source": [
    "vw = Kfz(\"VW\", \"WOB-VW 246\")\n",
    "vw"
   ]
  },
  {
   "cell_type": "code",
   "execution_count": null,
   "id": "d8172647",
   "metadata": {
    "tags": [
     "solution"
    ]
   },
   "outputs": [],
   "source": []
  },
  {
   "cell_type": "code",
   "execution_count": null,
   "id": "547d95e4",
   "metadata": {
    "tags": [
     "solution"
    ]
   },
   "outputs": [],
   "source": []
  },
  {
   "cell_type": "code",
   "execution_count": null,
   "id": "835e89a2",
   "metadata": {
    "tags": [
     "solution"
    ]
   },
   "outputs": [],
   "source": []
  },
  {
   "cell_type": "code",
   "execution_count": null,
   "id": "c019298b",
   "metadata": {},
   "outputs": [],
   "source": [
    "bmw2"
   ]
  },
  {
   "cell_type": "markdown",
   "id": "01f18b62",
   "metadata": {
    "lang": "en"
   },
   "source": [
    "# Shopping List\n",
    "\n",
    "In this workshop we want to define a shopping list, that can manage planned purchases. A shopping list should consist of items that contain a product and the required quantity of the product.\n",
    "\n",
    "Both the shopping list itself and the entries should be represented as user-defined data types.\n",
    "\n",
    "First define a class `Item` that has attributes `product` and `amount`. To do this, use the `@dataclass` decorator"
   ]
  },
  {
   "cell_type": "code",
   "execution_count": null,
   "id": "c38f8620",
   "metadata": {
    "tags": [
     "solution"
    ]
   },
   "outputs": [],
   "source": []
  },
  {
   "cell_type": "markdown",
   "id": "6d08c24a",
   "metadata": {
    "lang": "en"
   },
   "source": [
    "Create an item that represents 500g of coffee:"
   ]
  },
  {
   "cell_type": "code",
   "execution_count": null,
   "id": "94109d10",
   "metadata": {
    "tags": [
     "solution"
    ]
   },
   "outputs": [],
   "source": []
  },
  {
   "cell_type": "markdown",
   "id": "4c38d7be",
   "metadata": {
    "lang": "en"
   },
   "source": [
    "Define a class `ShoppingList` containing a list of `Item` instances:\n",
    "\n",
    "- Use the `@dataclass` decorator\n",
    "- The class has an attribute `items` of type `list` (or `list[Item]` if\n",
    "  you are using Python 3.9 or newer), initialized with an empty list.\n",
    "- The method `add_item(self, item: Item)` adds an `Item` to the shopping list.\n",
    "\n",
    "Implement one\n",
    "[`__str__()` method](https://docs.python.org/3/reference/datamodel.html#object.__str<_>_),\n",
    "so the following program:\n",
    "\n",
    "```pythons\n",
    "my_shopping list = ShoppingList([Item('Tea', '2 packages'),\n",
    "                                 Item('Coffee', '1 packet')])\n",
    "print(str(my_shopping list))\n",
    "print(repr(my_shopping list))\n",
    "```\n",
    "\n",
    "Produces the following output:\n",
    "\n",
    "```\n",
    "Shopping List\n",
    "  Tea, (2 packets)\n",
    "  coffee, (1 package)\n",
    "\n",
    "ShoppingList(items=[Item(product='Tea', amount='2 packages'), Item(product='Coffee', amount='1 package')])\n",
    "```\n",
    "\n",
    "Implement a method `__len__()` that returns the length of the shopping list, and a method `__getitem__()` that allows access to items via their numeric index."
   ]
  },
  {
   "cell_type": "code",
   "execution_count": null,
   "id": "9e3f7858",
   "metadata": {
    "tags": [
     "solution"
    ]
   },
   "outputs": [],
   "source": []
  },
  {
   "cell_type": "markdown",
   "id": "48151ab4",
   "metadata": {
    "lang": "en"
   },
   "source": [
    "Define a variable `my_shopping_list` containing a shopping list representing the following items:\n",
    "- 2 packets of tea,\n",
    "- 1 packet of coffee"
   ]
  },
  {
   "cell_type": "code",
   "execution_count": null,
   "id": "2a02dea2",
   "metadata": {
    "tags": [
     "solution"
    ]
   },
   "outputs": [],
   "source": []
  },
  {
   "cell_type": "markdown",
   "id": "3101fa1a",
   "metadata": {
    "lang": "en"
   },
   "source": [
    "Print out `my_shopping list`."
   ]
  },
  {
   "cell_type": "code",
   "execution_count": null,
   "id": "09b347cc",
   "metadata": {
    "tags": [
     "solution"
    ]
   },
   "outputs": [],
   "source": []
  },
  {
   "cell_type": "markdown",
   "id": "f66398f9",
   "metadata": {
    "lang": "en"
   },
   "source": [
    "Determine the length of `my_shoppinglist` is and its first and second item."
   ]
  },
  {
   "cell_type": "code",
   "execution_count": null,
   "id": "87656f2f",
   "metadata": {
    "tags": [
     "solution"
    ]
   },
   "outputs": [],
   "source": []
  },
  {
   "cell_type": "markdown",
   "id": "2009e47e",
   "metadata": {
    "lang": "en"
   },
   "source": [
    "What is the effect of the following expression?\n",
    "```python\n",
    "  for item in my_shopping list:\n",
    "      print(item)\n",
    "```"
   ]
  },
  {
   "cell_type": "code",
   "execution_count": null,
   "id": "67886dfd",
   "metadata": {
    "tags": [
     "solution"
    ]
   },
   "outputs": [],
   "source": []
  },
  {
   "cell_type": "markdown",
   "id": "d9510dd3",
   "metadata": {
    "lang": "en"
   },
   "source": [
    "Add 250g butter and 1 loaf of bread to the shopping list\n",
    "`my_shopping list`."
   ]
  },
  {
   "cell_type": "code",
   "execution_count": null,
   "id": "35d6185a",
   "metadata": {
    "tags": [
     "solution"
    ]
   },
   "outputs": [],
   "source": []
  },
  {
   "cell_type": "markdown",
   "id": "1c255212",
   "metadata": {
    "lang": "en"
   },
   "source": [
    "Print out the shopping list again."
   ]
  },
  {
   "cell_type": "code",
   "execution_count": null,
   "id": "c1a45a67",
   "metadata": {
    "tags": [
     "solution"
    ]
   },
   "outputs": [],
   "source": []
  },
  {
   "cell_type": "markdown",
   "id": "2752f328",
   "metadata": {
    "lang": "en"
   },
   "source": [
    "What happens when you add `butter` and `bread` to the shopping list again?"
   ]
  },
  {
   "cell_type": "code",
   "execution_count": null,
   "id": "9fc6b828",
   "metadata": {
    "tags": [
     "solution"
    ]
   },
   "outputs": [],
   "source": []
  },
  {
   "cell_type": "code",
   "execution_count": null,
   "id": "edcfcd8b",
   "metadata": {},
   "outputs": [],
   "source": []
  }
 ],
 "metadata": {
  "jupytext": {
   "encoding": "# -*- coding: utf-8 -*-",
   "formats": "ipynb"
  },
  "kernelspec": {
   "display_name": "Python 3 (ipykernel)",
   "language": "python",
   "name": "python3"
  }
 },
 "nbformat": 4,
 "nbformat_minor": 5
}
