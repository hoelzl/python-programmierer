{
 "cells": [
  {
   "cell_type": "markdown",
   "id": "dbe7951a",
   "metadata": {},
   "source": [
    "# Erzeugen von NumPy Arrays"
   ]
  },
  {
   "cell_type": "code",
   "execution_count": null,
   "id": "3b1a3412",
   "metadata": {
    "tags": [
     "solution"
    ]
   },
   "outputs": [],
   "source": []
  },
  {
   "cell_type": "markdown",
   "id": "77c2885b",
   "metadata": {},
   "source": [
    "Erzeugen Sie folgende NumPy Arrays:"
   ]
  },
  {
   "cell_type": "markdown",
   "id": "ebc7004b",
   "metadata": {},
   "source": [
    "```python\n",
    "array([0, 1, 2, 3, 4, 5, 6, 7, 8, 9])\n",
    "```"
   ]
  },
  {
   "cell_type": "code",
   "execution_count": null,
   "id": "b2013e8d",
   "metadata": {
    "tags": [
     "solution"
    ]
   },
   "outputs": [],
   "source": []
  },
  {
   "cell_type": "markdown",
   "id": "d552ee4c",
   "metadata": {},
   "source": [
    "```python\n",
    "array([0.  , 1.25, 2.5 , 3.75, 5.  ])\n",
    "```"
   ]
  },
  {
   "cell_type": "code",
   "execution_count": null,
   "id": "5614278e",
   "metadata": {
    "tags": [
     "solution"
    ]
   },
   "outputs": [],
   "source": []
  },
  {
   "cell_type": "markdown",
   "id": "0f135c56",
   "metadata": {},
   "source": [
    "```python\n",
    "array([ 1,  3, 12, 92])\n",
    "```"
   ]
  },
  {
   "cell_type": "code",
   "execution_count": null,
   "id": "9ca1eed1",
   "metadata": {
    "tags": [
     "solution"
    ]
   },
   "outputs": [],
   "source": []
  },
  {
   "cell_type": "markdown",
   "id": "aa3f7000",
   "metadata": {},
   "source": [
    "```python\n",
    "array([[1, 2, 3, 4],\n",
    "       [5, 6, 7, 8]])\n",
    "```"
   ]
  },
  {
   "cell_type": "code",
   "execution_count": null,
   "id": "8a618723",
   "metadata": {
    "tags": [
     "solution"
    ]
   },
   "outputs": [],
   "source": []
  },
  {
   "cell_type": "markdown",
   "id": "afea00fc",
   "metadata": {},
   "source": [
    "```python\n",
    "array([[[0, 2, 4, 6],\n",
    "        [1, 3, 5, 7]],\n",
    "\n",
    "       [[1, 2, 3, 4],\n",
    "        [5, 6, 7, 8]],\n",
    "\n",
    "       [[9, 8, 7, 6],\n",
    "        [5, 4, 3, 2]]])\n",
    "```"
   ]
  },
  {
   "cell_type": "code",
   "execution_count": null,
   "id": "dbbb72d5",
   "metadata": {
    "tags": [
     "solution"
    ]
   },
   "outputs": [],
   "source": []
  },
  {
   "cell_type": "code",
   "execution_count": null,
   "id": "e744359a",
   "metadata": {
    "tags": [
     "solution"
    ]
   },
   "outputs": [],
   "source": []
  },
  {
   "cell_type": "markdown",
   "id": "7a156f1e",
   "metadata": {},
   "source": [
    "Ein $2\\times 8$ Array, das gleichverteilte Zufallszahlen in $[0, 1)$ enthält."
   ]
  },
  {
   "cell_type": "code",
   "execution_count": null,
   "id": "06154b16",
   "metadata": {
    "tags": [
     "solution"
    ]
   },
   "outputs": [],
   "source": []
  },
  {
   "cell_type": "markdown",
   "id": "362f4f83",
   "metadata": {},
   "source": [
    "```python\n",
    "array([[1., 0., 0.],\n",
    "       [0., 1., 0.],\n",
    "       [0., 0., 1.]])\n",
    "```"
   ]
  },
  {
   "cell_type": "code",
   "execution_count": null,
   "id": "5fcb0c05",
   "metadata": {
    "tags": [
     "solution"
    ]
   },
   "outputs": [],
   "source": []
  },
  {
   "cell_type": "markdown",
   "id": "60a1e2f7",
   "metadata": {},
   "source": [
    "Einen Vektor der Länge 5, der standard-normalverteilte Zahlen enthält."
   ]
  },
  {
   "cell_type": "code",
   "execution_count": null,
   "id": "8c906bc0",
   "metadata": {
    "tags": [
     "solution"
    ]
   },
   "outputs": [],
   "source": []
  },
  {
   "cell_type": "markdown",
   "id": "47845660",
   "metadata": {},
   "source": [
    "Ein $3 \\times 4$ Array, das normalverteilte Zahlen mit Mittelwert $5$ und Standardabweichung $0.5$ enthält."
   ]
  },
  {
   "cell_type": "code",
   "execution_count": null,
   "id": "3d589e66",
   "metadata": {
    "tags": [
     "solution"
    ]
   },
   "outputs": [],
   "source": []
  },
  {
   "cell_type": "markdown",
   "id": "7bf42ecd",
   "metadata": {},
   "source": [
    "## Gleichungssysteme\n",
    "\n",
    "Lösen Sie folgendes Gleichungssystem:\n",
    "\n",
    "$x_1 - x_2 + 2x_3 = 6$\n",
    "\n",
    "$2x_1 + 3x_2 + 2x_3 = 8$\n",
    "\n",
    "$3x_1 + 2x_2 + x_3 = 8$"
   ]
  },
  {
   "cell_type": "code",
   "execution_count": null,
   "id": "8bc52aa7",
   "metadata": {
    "tags": [
     "solution"
    ]
   },
   "outputs": [],
   "source": []
  },
  {
   "cell_type": "code",
   "execution_count": null,
   "id": "eff896b3",
   "metadata": {
    "tags": [
     "solution"
    ]
   },
   "outputs": [],
   "source": []
  },
  {
   "cell_type": "code",
   "execution_count": null,
   "id": "6a2f7488",
   "metadata": {
    "tags": [
     "solution"
    ]
   },
   "outputs": [],
   "source": []
  },
  {
   "cell_type": "code",
   "execution_count": null,
   "id": "b6a806ff",
   "metadata": {
    "tags": [
     "solution"
    ]
   },
   "outputs": [],
   "source": []
  },
  {
   "cell_type": "code",
   "execution_count": null,
   "id": "63516b77",
   "metadata": {
    "tags": [
     "solution"
    ]
   },
   "outputs": [],
   "source": []
  },
  {
   "cell_type": "markdown",
   "id": "08a9bc0b",
   "metadata": {},
   "source": [
    "# Erzeugen von NumPy Arrays 2\n",
    "\n",
    "Erzeugen Sie das folgende NumPy Array:\n",
    "\n",
    "```python\n",
    "array([[ 0,  2,  4,  6],\n",
    "       [ 8, 10, 12, 14],\n",
    "       [16, 18, 20, 22],\n",
    "       [24, 26, 28, 30],\n",
    "       [32, 34, 36, 38]])\n",
    "```"
   ]
  },
  {
   "cell_type": "code",
   "execution_count": null,
   "id": "0075401a",
   "metadata": {
    "tags": [
     "solution"
    ]
   },
   "outputs": [],
   "source": []
  },
  {
   "cell_type": "markdown",
   "id": "28bc6ede",
   "metadata": {},
   "source": [
    "Erzeugen Sie das folgende NumPy Array:\n",
    "\n",
    "```python\n",
    "array([[10, 19, 28, 37, 46, 55],\n",
    "       [13, 22, 31, 40, 49, 58],\n",
    "       [16, 25, 34, 43, 52, 61]])\n",
    "```"
   ]
  },
  {
   "cell_type": "code",
   "execution_count": null,
   "id": "eb91c4c3",
   "metadata": {
    "tags": [
     "solution"
    ]
   },
   "outputs": [],
   "source": []
  },
  {
   "cell_type": "markdown",
   "id": "e9cd0aa9",
   "metadata": {},
   "source": [
    "# Extrema\n",
    "\n",
    "Erzeugen Sie einen Vektor der Länge 100 mit Zufallswerten, die im Intervall\n",
    "$[10, 20)$ gleichverteilt sind. \n",
    "\n",
    "Berechnen Sie Minimum und Maximum der im Vektor\n",
    "enthaltenen Werte sowie die Positionen von Minimum und Maximum."
   ]
  },
  {
   "cell_type": "code",
   "execution_count": null,
   "id": "c35403bd",
   "metadata": {
    "tags": [
     "solution"
    ]
   },
   "outputs": [],
   "source": []
  },
  {
   "cell_type": "code",
   "execution_count": null,
   "id": "46c75fed",
   "metadata": {
    "tags": [
     "solution"
    ]
   },
   "outputs": [],
   "source": []
  },
  {
   "cell_type": "code",
   "execution_count": null,
   "id": "dfe09c22",
   "metadata": {
    "tags": [
     "solution"
    ]
   },
   "outputs": [],
   "source": []
  },
  {
   "cell_type": "code",
   "execution_count": null,
   "id": "3ad96902",
   "metadata": {
    "tags": [
     "solution"
    ]
   },
   "outputs": [],
   "source": []
  },
  {
   "cell_type": "code",
   "execution_count": null,
   "id": "5a0951de",
   "metadata": {
    "tags": [
     "solution"
    ]
   },
   "outputs": [],
   "source": []
  },
  {
   "cell_type": "markdown",
   "id": "c0c4839f",
   "metadata": {},
   "source": [
    "# Mittelwert\n",
    "\n",
    "Erzeugen Sie ein $6 \\times 8$ Array, das standardverteilten Zahlen mit\n",
    "Mittelwert $2$ und Standardabweichung $1$ enthält.\n",
    "\n"
   ]
  },
  {
   "cell_type": "code",
   "execution_count": null,
   "id": "372c8017",
   "metadata": {
    "tags": [
     "solution"
    ]
   },
   "outputs": [],
   "source": []
  },
  {
   "cell_type": "markdown",
   "id": "a92cde16",
   "metadata": {},
   "source": [
    "Berechnen Sie den Mittelwert aller darin vorkommenden Werte.\n"
   ]
  },
  {
   "cell_type": "code",
   "execution_count": null,
   "id": "26d0408a",
   "metadata": {
    "tags": [
     "solution"
    ]
   },
   "outputs": [],
   "source": []
  },
  {
   "cell_type": "markdown",
   "id": "73b1ae97",
   "metadata": {},
   "source": [
    "Berechnen Sie die zeilen- und spaltenweisen Mittelwerte."
   ]
  },
  {
   "cell_type": "code",
   "execution_count": null,
   "id": "70d0169f",
   "metadata": {
    "tags": [
     "solution"
    ]
   },
   "outputs": [],
   "source": []
  },
  {
   "cell_type": "code",
   "execution_count": null,
   "id": "854abe3a",
   "metadata": {
    "tags": [
     "solution"
    ]
   },
   "outputs": [],
   "source": []
  },
  {
   "cell_type": "markdown",
   "id": "08d803f8",
   "metadata": {},
   "source": [
    "Berechnen Sie den Mittelwert aller vorkommenden Werte ohne Verwendung der\n",
    "Methode `mean()`."
   ]
  },
  {
   "cell_type": "code",
   "execution_count": null,
   "id": "a63b1b8e",
   "metadata": {
    "tags": [
     "solution"
    ]
   },
   "outputs": [],
   "source": []
  },
  {
   "cell_type": "markdown",
   "id": "da94e699",
   "metadata": {},
   "source": [
    "Berechnen Sie die zeilen- und spaltenweisen Mittelwerte ohne Verwendung der\n",
    "Methode `mean()`."
   ]
  },
  {
   "cell_type": "code",
   "execution_count": null,
   "id": "e7bed064",
   "metadata": {
    "tags": [
     "solution"
    ]
   },
   "outputs": [],
   "source": []
  },
  {
   "cell_type": "code",
   "execution_count": null,
   "id": "24a93a38",
   "metadata": {
    "tags": [
     "solution"
    ]
   },
   "outputs": [],
   "source": []
  },
  {
   "cell_type": "markdown",
   "id": "b1279df9",
   "metadata": {},
   "source": [
    "# Roulette\n",
    "\n",
    "Analysieren Sie die Gewinnerwartung eines Spielers in folgender\n",
    "vereinfachter Form eines Roulettespiels mittels Monte Carlo Simulation:\n",
    "\n",
    "- Der Kessel ist in 36 Zahlen unterteilt.\n",
    "- Der Spieler wählt eine der Zahlen 1 bis 36 und wettet 1 Euro.\n",
    "- Fällt die Kugel auf die gewählte Zahl, so erhält der Spieler seinen Einsatz\n",
    "  plus 35 Euro zurück.\n",
    "- Andernfalls verliert der Spieler seinen Einsatz.\n",
    "\n",
    "Schreiben Sie eine Version der Simulation mit `for`-Schleife in Python und\n",
    "testen Sie die Performance dieser Version vor und nach Kompilierung mit\n",
    "Numba. Schreiben Sie dann eine vektorisierte Version und testen Sie deren\n",
    "Performance in beiden Fällen.\n",
    "\n",
    "*Hinweise:* \n",
    "- Die NumPy Bibliothek enthält eine Funktion\n",
    "  `np.random.randint(low, high, size=None)`, mit der Sie ein Array mit Shape\n",
    "  `size` erzeugen können, das gleichverteilte Zufallszahlen zwischen `low`\n",
    "  (inklusive) und `high` (exklusive) enthält.\n",
    "- Wird `np.random.randint()` mit nur zwei Argumenten aufgerufen, so gibt es\n",
    "  eine einzige Zahl zurück.\n",
    "- Die NumPy Bibliothek enthält eine Funtion\n",
    "  `np.random.binomial(n, p, size=None)`, mit der Sie binomialverteilte\n",
    "  Zufallszahlen erzeugen können."
   ]
  },
  {
   "cell_type": "code",
   "execution_count": null,
   "id": "37c6e057",
   "metadata": {
    "tags": [
     "solution"
    ]
   },
   "outputs": [],
   "source": []
  },
  {
   "cell_type": "code",
   "execution_count": null,
   "id": "150f6b2e",
   "metadata": {
    "tags": [
     "solution"
    ]
   },
   "outputs": [],
   "source": []
  },
  {
   "cell_type": "code",
   "execution_count": null,
   "id": "ad1c9199",
   "metadata": {
    "tags": [
     "solution"
    ]
   },
   "outputs": [],
   "source": []
  },
  {
   "cell_type": "code",
   "execution_count": null,
   "id": "289964e8",
   "metadata": {
    "tags": [
     "solution"
    ]
   },
   "outputs": [],
   "source": []
  },
  {
   "cell_type": "code",
   "execution_count": null,
   "id": "f0017ac6",
   "metadata": {
    "tags": [
     "solution"
    ]
   },
   "outputs": [],
   "source": []
  },
  {
   "cell_type": "code",
   "execution_count": null,
   "id": "f0e5e230",
   "metadata": {
    "tags": [
     "solution"
    ]
   },
   "outputs": [],
   "source": []
  },
  {
   "cell_type": "code",
   "execution_count": null,
   "id": "e93bc02f",
   "metadata": {
    "tags": [
     "solution"
    ]
   },
   "outputs": [],
   "source": []
  },
  {
   "cell_type": "code",
   "execution_count": null,
   "id": "1be828b3",
   "metadata": {
    "tags": [
     "solution"
    ]
   },
   "outputs": [],
   "source": []
  },
  {
   "cell_type": "code",
   "execution_count": null,
   "id": "a731e2b4",
   "metadata": {
    "tags": [
     "solution"
    ]
   },
   "outputs": [],
   "source": []
  },
  {
   "cell_type": "code",
   "execution_count": null,
   "id": "bf1b70d7",
   "metadata": {
    "tags": [
     "solution"
    ]
   },
   "outputs": [],
   "source": []
  },
  {
   "cell_type": "code",
   "execution_count": null,
   "id": "b1a5a5f0",
   "metadata": {
    "tags": [
     "solution"
    ]
   },
   "outputs": [],
   "source": []
  },
  {
   "cell_type": "code",
   "execution_count": null,
   "id": "43d0f69b",
   "metadata": {
    "tags": [
     "solution"
    ]
   },
   "outputs": [],
   "source": []
  },
  {
   "cell_type": "code",
   "execution_count": null,
   "id": "a37b3f37",
   "metadata": {
    "tags": [
     "solution"
    ]
   },
   "outputs": [],
   "source": []
  },
  {
   "cell_type": "code",
   "execution_count": null,
   "id": "40c64d1b",
   "metadata": {
    "tags": [
     "solution"
    ]
   },
   "outputs": [],
   "source": []
  },
  {
   "cell_type": "code",
   "execution_count": null,
   "id": "ba9d772d",
   "metadata": {
    "tags": [
     "solution"
    ]
   },
   "outputs": [],
   "source": []
  },
  {
   "cell_type": "code",
   "execution_count": null,
   "id": "ba757614",
   "metadata": {},
   "outputs": [],
   "source": []
  }
 ],
 "metadata": {
  "jupytext": {
   "encoding": "# -*- coding: utf-8 -*-",
   "formats": "ipynb"
  },
  "kernelspec": {
   "display_name": "Python 3 (ipykernel)",
   "language": "python",
   "name": "python3"
  }
 },
 "nbformat": 4,
 "nbformat_minor": 5
}
