{
 "cells": [
  {
   "cell_type": "markdown",
   "id": "5fe8eb54",
   "metadata": {},
   "source": [
    "# Ox - Eine Variante von Bulls and Cows\n",
    "\n",
    "Implementieren Sie eine Variante des Spiels \"Bulls and Cows\"\n",
    "\n",
    "## Spielablauf\n",
    "\n",
    "- Der Computer wählt ein Wort aus einem Wörterbuch und teilt dem Spieler mit,\n",
    "  wie viele Buchstaben es enthält\n",
    "- Der Spieler rät ein Wort und erhält als für jeden Buchstaben folgende\n",
    "  Information\n",
    "    - Ein `+` wenn der Buchstabe an der richtigen Stelle vorkommt\n",
    "    - Ein `–` wenn der Buchstabe in der Lösung an einer anderen Stelle\n",
    "      vorkommt\n",
    "    - Einen `.` wenn der Buchstabe nicht in der Lösung vorkommt\n",
    "- Wenn der Spieler das Wort in weniger als 10 Versuchen errät hat er\n",
    "  gewonnen, andernfalls verloren.\n",
    "\n",
    "## Beispiele\n",
    "\n",
    "Erfolgreiches Spiel:\n",
    "\n",
    "```\n",
    "Guess the word!\n",
    "The word to guess has 6 characters.\n",
    "Please enter your guess: something\n",
    "something\n",
    ".-..--\n",
    "Please enter your guess: postoffice\n",
    "postoffice\n",
    "+-.-+.\n",
    "Please enter your guess: python\n",
    "python\n",
    "++++++\n",
    "Congratulations, you have won!\n",
    "```\n",
    "\n",
    "Verlorenes Spiel:\n",
    "\n",
    "```\n",
    "Guess the word!\n",
    "The word to guess has 4 characters.\n",
    "Please enter your guess: foobar\n",
    "foobar\n",
    "....\n",
    "Please enter your guess: tango\n",
    "tango\n",
    ".+.-\n",
    "Please enter your guess: ohno\n",
    "ohno\n",
    "....\n",
    "Please enter your guess: This game is stupid!\n",
    "This game is stupid!\n",
    "....\n",
    "Please enter your guess: Let me out!\n",
    "Let me out!\n",
    ".-..\n",
    "Please enter your guess: exit\n",
    "exit\n",
    "-...\n",
    "Please enter your guess: quit\n",
    "quit\n",
    "....\n",
    "Please enter your guess: QUIT\n",
    "QUIT\n",
    "....\n",
    "Please enter your guess: \n",
    "\n",
    "\n",
    "Please enter your guess: HOW DO I QUIT THIS STUPID GAME!!!!!\n",
    "HOW DO I QUIT THIS STUPID GAME!!!!!\n",
    "....\n",
    "Better luck next time. The word was game.\n",
    "```\n",
    "\n",
    "## Implementierung:\n",
    "\n",
    "Implementieren Sie eine Funktion `ox()`, die dieses Spiel implementiert.\n",
    "Zwechmäßigerweise sollten Sie dazu einige Hilfsfunktionen definieren,\n",
    "die Teile der Spielelogik kapseln.\n",
    "\n",
    "## Hinweise\n",
    "\n",
    "- Benutzereingaben können Sie mittels der Funktion `input(quey: str)`\n",
    "  erhalten.  `query` ist der Text, der dem Benutzer angezeigt wird; das\n",
    "  Ergebnis der Funktion ist der vom Benutzer eingegebenee String.\n",
    "- Speichern Sie das \"Wörterbuch\" als eine Liste von Wörtern.\n",
    "- Mit `random.choice(list)` können Sie aus einer Liste ein zufälliges\n",
    "  Element auswählen.\n",
    "- Da wir noch keine benutzerdefinierten Datentypen kennengelernt haben\n",
    "  bietet es sich an, eine Funktion zu implementieren, die die zeichenweise\n",
    "  Übereinstimmung zweier Zeichenketten testet. Ein möglicher Ergebnistyp für\n",
    "  diese Funktion ist eine Liste der Form `['.', '+', '-', '.']`,\n",
    "  um auszudrücken, dass das erste und vierte Zeichen nicht übereinstimmen,\n",
    "  das zweite Zeichen ein perfekter Treffer ist und das dritte Zeichen in der\n",
    "  Lösung vorkommt, aber an einer anderen Stelle.\n",
    "- Aus einer Liste `list` mit Strings können Sie mittels `''.join(list)`\n",
    "  einen String erzeugen, der alle Elemente der Liste enthält.\n",
    "- Was passiert bei Ihrer Lösung, wenn der Benutzer ein Wort eingibt, das\n",
    " länger oder kürzer ist als die Lösung?"
   ]
  },
  {
   "cell_type": "code",
   "execution_count": null,
   "id": "19ff7912",
   "metadata": {
    "tags": [
     "solution"
    ]
   },
   "outputs": [],
   "source": []
  },
  {
   "cell_type": "code",
   "execution_count": null,
   "id": "f1a71d14",
   "metadata": {
    "tags": [
     "solution"
    ]
   },
   "outputs": [],
   "source": []
  },
  {
   "cell_type": "code",
   "execution_count": null,
   "id": "7509b910",
   "metadata": {
    "tags": [
     "solution"
    ]
   },
   "outputs": [],
   "source": []
  },
  {
   "cell_type": "code",
   "execution_count": null,
   "id": "16afcfed",
   "metadata": {
    "tags": [
     "solution"
    ]
   },
   "outputs": [],
   "source": []
  },
  {
   "cell_type": "code",
   "execution_count": null,
   "id": "edc58912",
   "metadata": {
    "tags": [
     "solution"
    ]
   },
   "outputs": [],
   "source": []
  },
  {
   "cell_type": "code",
   "execution_count": null,
   "id": "61100a00",
   "metadata": {
    "tags": [
     "solution"
    ]
   },
   "outputs": [],
   "source": []
  },
  {
   "cell_type": "code",
   "execution_count": null,
   "id": "5f89adc5",
   "metadata": {
    "tags": [
     "solution"
    ]
   },
   "outputs": [],
   "source": []
  },
  {
   "cell_type": "code",
   "execution_count": null,
   "id": "47375b86",
   "metadata": {
    "tags": [
     "solution"
    ]
   },
   "outputs": [],
   "source": []
  },
  {
   "cell_type": "code",
   "execution_count": null,
   "id": "a4673a7d",
   "metadata": {
    "tags": [
     "solution"
    ]
   },
   "outputs": [],
   "source": []
  },
  {
   "cell_type": "code",
   "execution_count": null,
   "id": "9cf28a0b",
   "metadata": {
    "tags": [
     "solution"
    ]
   },
   "outputs": [],
   "source": []
  },
  {
   "cell_type": "code",
   "execution_count": null,
   "id": "30a1b0d3",
   "metadata": {
    "tags": [
     "solution"
    ]
   },
   "outputs": [],
   "source": []
  },
  {
   "cell_type": "code",
   "execution_count": null,
   "id": "7dbd1689",
   "metadata": {
    "tags": [
     "solution"
    ]
   },
   "outputs": [],
   "source": []
  },
  {
   "cell_type": "code",
   "execution_count": null,
   "id": "b5893c95",
   "metadata": {
    "tags": [
     "solution"
    ]
   },
   "outputs": [],
   "source": []
  },
  {
   "cell_type": "code",
   "execution_count": null,
   "id": "491c0929",
   "metadata": {
    "tags": [
     "solution"
    ]
   },
   "outputs": [],
   "source": []
  },
  {
   "cell_type": "code",
   "execution_count": null,
   "id": "3db225e0",
   "metadata": {
    "tags": [
     "solution"
    ]
   },
   "outputs": [],
   "source": []
  },
  {
   "cell_type": "code",
   "execution_count": null,
   "id": "563720ac",
   "metadata": {
    "tags": [
     "solution"
    ]
   },
   "outputs": [],
   "source": []
  },
  {
   "cell_type": "code",
   "execution_count": null,
   "id": "12efba76",
   "metadata": {
    "tags": [
     "solution"
    ]
   },
   "outputs": [],
   "source": []
  },
  {
   "cell_type": "code",
   "execution_count": null,
   "id": "1b3473e1",
   "metadata": {
    "tags": [
     "solution"
    ]
   },
   "outputs": [],
   "source": []
  },
  {
   "cell_type": "code",
   "execution_count": null,
   "id": "fa2aa6ef",
   "metadata": {
    "tags": [
     "solution"
    ]
   },
   "outputs": [],
   "source": []
  },
  {
   "cell_type": "code",
   "execution_count": null,
   "id": "d847f031",
   "metadata": {
    "tags": [
     "solution"
    ]
   },
   "outputs": [],
   "source": []
  },
  {
   "cell_type": "code",
   "execution_count": null,
   "id": "23c2658d",
   "metadata": {
    "tags": [
     "solution"
    ]
   },
   "outputs": [],
   "source": []
  }
 ],
 "metadata": {
  "jupytext": {
   "encoding": "# -*- coding: utf-8 -*-",
   "formats": "ipynb"
  },
  "kernelspec": {
   "display_name": "Python 3 (ipykernel)",
   "language": "python",
   "name": "python3"
  }
 },
 "nbformat": 4,
 "nbformat_minor": 5
}
