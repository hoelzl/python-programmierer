{
 "cells": [
  {
   "cell_type": "markdown",
   "id": "517caec5",
   "metadata": {},
   "source": [
    "# Shout\n",
    "\n",
    "Schreiben Sie eine Funktion `shout(text)`, die `text` in Großbuchstaben,\n",
    "gefolgt von drei Außrufezeichen auf dem Bildschirm ausgibt."
   ]
  },
  {
   "cell_type": "code",
   "execution_count": null,
   "id": "4e4eb5c5",
   "metadata": {
    "tags": [
     "solution"
    ]
   },
   "outputs": [],
   "source": []
  },
  {
   "cell_type": "markdown",
   "id": "d1150600",
   "metadata": {},
   "source": [
    "Testen Sie die Funktion mit Argument `\"Hallo\"`"
   ]
  },
  {
   "cell_type": "code",
   "execution_count": null,
   "id": "e45b6acb",
   "metadata": {
    "tags": [
     "solution"
    ]
   },
   "outputs": [],
   "source": []
  },
  {
   "cell_type": "markdown",
   "id": "03cfc533",
   "metadata": {
    "pycharm": {
     "name": "#%% md\n"
    }
   },
   "source": [
    "# Vergleichen von Strings"
   ]
  },
  {
   "cell_type": "markdown",
   "id": "97c25e3c",
   "metadata": {},
   "source": [
    "Ist `Abc` kleiner als `aBC`?"
   ]
  },
  {
   "cell_type": "code",
   "execution_count": null,
   "id": "f37cb757",
   "metadata": {
    "tags": [
     "solution"
    ]
   },
   "outputs": [],
   "source": []
  },
  {
   "cell_type": "markdown",
   "id": "4805203c",
   "metadata": {},
   "source": [
    "Ist gleichzeitig `abc` kleiner als `abcd` und `abcd` kleiner als `abd`?"
   ]
  },
  {
   "cell_type": "code",
   "execution_count": null,
   "id": "38f84cd4",
   "metadata": {
    "tags": [
     "solution"
    ]
   },
   "outputs": [],
   "source": []
  },
  {
   "cell_type": "markdown",
   "id": "543e03c1",
   "metadata": {},
   "source": [
    "# Begrüßung 1\n",
    "\n",
    "Schreiben Sie eine Funktion `drucke_begrüßung(name)`, die eine personalisierte\n",
    "Begrüßung ausgibt, z.B.\n",
    "```\n",
    "Hallo, Hans!\n",
    "Schön Sie heute wieder bei uns begrüßen zu dürfen.\n",
    "Wir wünschen Ihnen viel Spaß, Hans.\n",
    "```\n",
    "Verwenden Sie dazu die `print()`-Funktion mit einem Argument und\n",
    "String-Konkatenation."
   ]
  },
  {
   "cell_type": "code",
   "execution_count": null,
   "id": "be0ea1c9",
   "metadata": {
    "tags": [
     "solution"
    ]
   },
   "outputs": [],
   "source": []
  },
  {
   "cell_type": "markdown",
   "id": "05d22738",
   "metadata": {},
   "source": [
    "# Begrüßung 2\n",
    "\n",
    "Schreiben Sie eine Funktion `drucke_begrüßung(name)`, die die\n",
    "Funktionalität von `drucke_begrüßung(name)` mittels F-Strings implementiert."
   ]
  },
  {
   "cell_type": "code",
   "execution_count": null,
   "id": "f9ca0900",
   "metadata": {
    "tags": [
     "solution"
    ]
   },
   "outputs": [],
   "source": []
  },
  {
   "cell_type": "markdown",
   "id": "680a300f",
   "metadata": {},
   "source": [
    "# Piraten, Teil 4\n",
    "\n",
    "Das Ausdrucken der Beute-Aufteilund mittels\n",
    "`drucke_aufteilung_der_beute(dublonen, piraten)` verbraucht zu viel Papier.\n",
    "\n",
    "Implementieren Sie eine neue Version der Funktion, die den folgenden Text\n",
    "ausgibt:\n",
    "\n",
    "```\n",
    "Jeder der 8 Piraten erhält 2 der 17 Golddublonen. Der Kapitän erhält extra 1 Golddublone.\n",
    "```\n",
    "bzw.\n",
    "```\n",
    "Jeder der 8 Piraten erhält 2 der 17 Golddublonen. Der Kapitän erhält extra 2 Golddublonen.\n",
    "```\n",
    "\n",
    "Verwenden Sie F-Strings um die Ausgabetexte zu erzeugen. Sie können die\n",
    "folgende Funktion verwenden, um die Aufteilung der Beute zu berechnen:"
   ]
  },
  {
   "cell_type": "code",
   "execution_count": null,
   "id": "b9157623",
   "metadata": {},
   "outputs": [],
   "source": [
    "def teile_beute_auf(dublonen, piraten):\n",
    "    dublonen_pro_pirat = dublonen // piraten\n",
    "    dublonen_kapitän = dublonen % piraten\n",
    "    return dublonen_pro_pirat, dublonen_kapitän"
   ]
  },
  {
   "cell_type": "code",
   "execution_count": null,
   "id": "88afba5e",
   "metadata": {
    "tags": [
     "solution"
    ]
   },
   "outputs": [],
   "source": []
  },
  {
   "cell_type": "code",
   "execution_count": null,
   "id": "e55bbd7f",
   "metadata": {
    "tags": [
     "solution"
    ]
   },
   "outputs": [],
   "source": []
  },
  {
   "cell_type": "code",
   "execution_count": null,
   "id": "2589058b",
   "metadata": {
    "tags": [
     "solution"
    ]
   },
   "outputs": [],
   "source": []
  },
  {
   "cell_type": "code",
   "execution_count": null,
   "id": "7ec11948",
   "metadata": {
    "tags": [
     "solution"
    ]
   },
   "outputs": [],
   "source": []
  }
 ],
 "metadata": {
  "jupytext": {
   "encoding": "# -*- coding: utf-8 -*-",
   "formats": "ipynb"
  },
  "kernelspec": {
   "display_name": "Python 3 (ipykernel)",
   "language": "python",
   "name": "python3"
  }
 },
 "nbformat": 4,
 "nbformat_minor": 5
}
