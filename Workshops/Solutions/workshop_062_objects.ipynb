{
 "cells": [
  {
   "cell_type": "code",
   "execution_count": null,
   "id": "53114b1e",
   "metadata": {},
   "outputs": [],
   "source": []
  },
  {
   "cell_type": "markdown",
   "id": "5c610deb",
   "metadata": {},
   "source": [
    "\n",
    "# Kraftfahrzeuge (Teil 1)\n",
    "\n",
    "Definieren Sie eine Klasse `Kfz`, deren Instanzen Kraftfahrzeuge beschreiben.\n",
    "Jedes KFZ soll Attribute `hersteller` und `kennzeichen` haben."
   ]
  },
  {
   "cell_type": "code",
   "execution_count": null,
   "id": "184bc6d8",
   "metadata": {
    "tags": [
     "solution"
    ]
   },
   "outputs": [],
   "source": [
    "class Kfz:\n",
    "    def __init__(self, hersteller, kennzeichen):\n",
    "        self.hersteller = hersteller\n",
    "        self.kennzeichen = kennzeichen"
   ]
  },
  {
   "cell_type": "markdown",
   "id": "15eb6083",
   "metadata": {},
   "source": [
    "\n",
    "Erzeugen Sie zwei Kraftfahrzeuge:\n",
    "- einen BMW mit Kennzeichen \"M-BW 123\"\n",
    "- einen VW mit Kennzeichen \"WOB-VW 246\"\n",
    "und speichern Sie sie in Variablen `bmw` und `vw`"
   ]
  },
  {
   "cell_type": "code",
   "execution_count": null,
   "id": "6d1939b2",
   "metadata": {
    "tags": [
     "solution"
    ]
   },
   "outputs": [],
   "source": [
    "bmw = Kfz(\"BMW\", \"M-BW 123\")\n",
    "vw = Kfz(\"VW\", \"WOB-VW 246\")"
   ]
  },
  {
   "cell_type": "markdown",
   "id": "e6b1e017",
   "metadata": {},
   "source": [
    "\n",
    "Erzeugen Sie eine neue Instanz von `Kfz` mit Hersteller BMW und Kennzeichen\n",
    "\"M-BW 123\" und speichern Sie sie in einer Variablen `bmw2`."
   ]
  },
  {
   "cell_type": "code",
   "execution_count": null,
   "id": "8de30f25",
   "metadata": {
    "tags": [
     "solution"
    ]
   },
   "outputs": [],
   "source": [
    "bmw2 = Kfz(\"BMW\", \"M-BW 123\")"
   ]
  },
  {
   "cell_type": "markdown",
   "id": "3054e326",
   "metadata": {},
   "source": [
    "\n",
    "Wie können Sie feststellen, ob `bmw` und `bmw2` (bzw. `bmw` und `vw`) das\n",
    "gleiche Fahrzeug beschreiben?"
   ]
  },
  {
   "cell_type": "code",
   "execution_count": null,
   "id": "58d89ec2",
   "metadata": {
    "tags": [
     "solution"
    ]
   },
   "outputs": [],
   "source": [
    "bmw.hersteller == bmw2.hersteller and bmw.kennzeichen == bmw2.kennzeichen"
   ]
  },
  {
   "cell_type": "code",
   "execution_count": null,
   "id": "5ecea22f",
   "metadata": {
    "tags": [
     "solution"
    ]
   },
   "outputs": [],
   "source": [
    "bmw.hersteller == vw.hersteller and bmw.kennzeichen == vw.kennzeichen"
   ]
  },
  {
   "cell_type": "markdown",
   "id": "c2559ac3",
   "metadata": {},
   "source": [
    "\n",
    "# Kraftfahrzeuge (Teil 2)\n",
    "\n",
    "Erweitern Sie die Klasse `Kfz` um eine Methode `melde_um(self,\n",
    "neues_kennzeichen)`, die das Kennzeichen des Fahrzeugs ändert."
   ]
  },
  {
   "cell_type": "code",
   "execution_count": null,
   "id": "a0bc2786",
   "metadata": {
    "tags": [
     "solution"
    ]
   },
   "outputs": [],
   "source": [
    "class Kfz:\n",
    "    def __init__(self, hersteller, kennzeichen):\n",
    "        self.hersteller = hersteller\n",
    "        self.kennzeichen = kennzeichen\n",
    "\n",
    "    def melde_um(self, neues_kennzeichen):\n",
    "        self.kennzeichen = neues_kennzeichen"
   ]
  },
  {
   "cell_type": "markdown",
   "id": "95ddaea9",
   "metadata": {},
   "source": [
    "\n",
    "Erzeugen Sie neue Instanzen von `bmw`, `bmw2` und `vw` wie in der obigen\n",
    "Aufgabe:"
   ]
  },
  {
   "cell_type": "code",
   "execution_count": null,
   "id": "d3bba6e8",
   "metadata": {
    "tags": [
     "solution"
    ]
   },
   "outputs": [],
   "source": [
    "bmw = Kfz(\"BMW\", \"M-BW 123\")\n",
    "bmw2 = Kfz(\"BMW\", \"M-BW 123\")\n",
    "vw = Kfz(\"VW\", \"WOB-VW 246\")"
   ]
  },
  {
   "cell_type": "markdown",
   "id": "cbcba4ec",
   "metadata": {},
   "source": [
    "\n",
    "Melden Sie den obern erzeugten VW um, so dass er das neue Kennzeichen \"BGL-A\n",
    "9\" hat. Wie können Sie feststellen ob das Ummelden die gewünschte Änderung\n",
    "hatte?"
   ]
  },
  {
   "cell_type": "code",
   "execution_count": null,
   "id": "fc730c5e",
   "metadata": {
    "tags": [
     "solution"
    ]
   },
   "outputs": [],
   "source": [
    "vw.melde_um(\"BGL-A 9\")"
   ]
  },
  {
   "cell_type": "code",
   "execution_count": null,
   "id": "c11f5fb8",
   "metadata": {
    "tags": [
     "solution"
    ]
   },
   "outputs": [],
   "source": [
    "# Z.B\n",
    "assert vw.kennzeichen == \"BGL-A 9\" and vw.hersteller == \"VW\"\n",
    "# Oder\n",
    "print(\"Hersteller:\", vw.hersteller, \"\\tKennzeichen:\", vw.kennzeichen)"
   ]
  },
  {
   "cell_type": "markdown",
   "id": "23686880",
   "metadata": {},
   "source": [
    "\n",
    "Melden Sie den in `bmw` gespeicherten BMW um (mit Kennzeichen \"F-B 21\"). Wirkt\n",
    "sich die Änderung auf das in `bmw2` gespeicherte KFZ aus?"
   ]
  },
  {
   "cell_type": "code",
   "execution_count": null,
   "id": "6b182d13",
   "metadata": {
    "tags": [
     "solution"
    ]
   },
   "outputs": [],
   "source": [
    "bmw.melde_um(\"F-B 21\")\n",
    "print(\"Hersteller:\", bmw.hersteller, \"\\tKennzeichen:\", bmw.kennzeichen)\n",
    "print(\"Hersteller:\", bmw2.hersteller, \"\\tKennzeichen:\", bmw2.kennzeichen)"
   ]
  },
  {
   "cell_type": "markdown",
   "id": "70eba740",
   "metadata": {},
   "source": [
    "# Einkaufsliste\n",
    "\n",
    "In dieser Aufgabe wollen wir eine  Einkaufsliste definieren, die geplante\n",
    "Einkäufe verwalten kann. Eine Einkaufsliste soll aus Einträgen bestehen, die\n",
    "ein Produkt und die davon benötigte Menge enthalten.\n",
    "\n",
    "Es sollen sowohl die Einkaufsliste selber als auch die Einträge durch\n",
    "benutzerdefinierte Datentypen repräsentiert werden. \n",
    "\n",
    "Definieren Sie zunächst eine Klasse `Item`, die Attribute `product` und\n",
    "`amount` hat. Verwenden Sie dazu den `@dataclass` Decorator"
   ]
  },
  {
   "cell_type": "code",
   "execution_count": null,
   "id": "ca7c2540",
   "metadata": {
    "tags": [
     "solution"
    ]
   },
   "outputs": [],
   "source": [
    "from dataclasses import dataclass\n",
    "\n",
    "\n",
    "@dataclass\n",
    "class Item:\n",
    "    product: str\n",
    "    amount: str = \"1 Stück\""
   ]
  },
  {
   "cell_type": "markdown",
   "id": "468859ac",
   "metadata": {},
   "source": [
    "Erzeugen sie ein Item, das 500g Kaffee repräsentiert:"
   ]
  },
  {
   "cell_type": "code",
   "execution_count": null,
   "id": "d58bbb02",
   "metadata": {
    "tags": [
     "solution"
    ]
   },
   "outputs": [],
   "source": [
    "Item(\"Kaffee\", \"500g\")"
   ]
  },
  {
   "cell_type": "markdown",
   "id": "8f04ed1e",
   "metadata": {},
   "source": [
    "\n",
    "Definieren Sie eine Klasse `ShoppingList`, die eine Liste von `Item`-Instanzen\n",
    "beinhaltet:\n",
    "\n",
    "- Verwenden Sie den `@dataclass` Decorator\n",
    "- Die Klasse hat ein Attribut `items` vom Typ `list` (oder `list[Item]`, falls\n",
    "  Sie Python 3.9 oder neuer verwenden), das mit einer leeren Liste\n",
    "  Initialisiert wird.\n",
    "- Die Methode `add_item(self, item: Item)` fügt ein `Item` zur Einkaufsliste\n",
    "  hinzu.\n",
    "\n",
    "Implementieren Sie eine\n",
    "[`__str__()`-Methode](https://docs.python.org/3/reference/datamodel.html#object.__str__),\n",
    "so dass das folgende Programm:\n",
    "\n",
    "```python\n",
    "meine_einkaufsliste = ShoppingList([Item('Tee', '2 Pakete'),\n",
    "                                    Item('Kaffee', '1 Paket')])\n",
    "print(str(meine_einkaufsliste))\n",
    "print(repr(meine_einkaufsliste))\n",
    "```\n",
    "\n",
    "Folgende Ausgabe erzeugt:\n",
    "\n",
    "```\n",
    "Einkaufsliste\n",
    "  Tee, (2 Pakete)\n",
    "  Kaffee, (1 Paket)\n",
    "\n",
    "ShoppingList(items=[Item(product='Tee', amount='2 Pakete'), Item(product='Kaffee', amount='1 Paket')])\n",
    "```\n",
    "\n",
    "Implementieren Sie eine Methode für `__len__()`, die die Länge der\n",
    "Einkaufsliste zurückgibt, und für `__getitem__()`, die den Zugriff auf\n",
    "Einträge über ihren numerischen Index erlaubt."
   ]
  },
  {
   "cell_type": "code",
   "execution_count": null,
   "id": "ae90c6b6",
   "metadata": {
    "tags": [
     "solution"
    ]
   },
   "outputs": [],
   "source": [
    "from dataclasses import field\n",
    "\n",
    "\n",
    "@dataclass\n",
    "class ShoppingList:\n",
    "    items: list[Item] = field(default_factory=list)\n",
    "\n",
    "    def __str__(self):\n",
    "        result = \"Einkaufsliste\\n\"\n",
    "        for item in self.items:\n",
    "            result += f\"  {item.product}, ({item.amount})\\n\"\n",
    "        return result\n",
    "\n",
    "    def __len__(self):\n",
    "        return len(self.items)\n",
    "\n",
    "    def __getitem__(self, n):\n",
    "        return self.items[n]\n",
    "\n",
    "    def add_item(self, item):\n",
    "        self.items.append(item)"
   ]
  },
  {
   "cell_type": "markdown",
   "id": "43f118ff",
   "metadata": {},
   "source": [
    "\n",
    "Definieren Sie Variable `meine_einkaufsliste`, die eine Einkaufsliste mit\n",
    "folgenden Items repräsentiert:\n",
    "- 2 Pakete Tee,\n",
    "- 1 Paket Kaffee"
   ]
  },
  {
   "cell_type": "code",
   "execution_count": null,
   "id": "be916fac",
   "metadata": {
    "tags": [
     "solution"
    ]
   },
   "outputs": [],
   "source": [
    "meine_einkaufsliste = ShoppingList([Item('Tee', '2 Pakete'),\n",
    "                                    Item('Kaffee', '1 Paket')])\n",
    "print(str(meine_einkaufsliste))\n",
    "print(repr(meine_einkaufsliste))"
   ]
  },
  {
   "cell_type": "markdown",
   "id": "048ce0eb",
   "metadata": {},
   "source": [
    "\n",
    "Drucken Sie `meine_einkaufsliste` aus."
   ]
  },
  {
   "cell_type": "code",
   "execution_count": null,
   "id": "6f301555",
   "metadata": {
    "tags": [
     "solution"
    ]
   },
   "outputs": [],
   "source": [
    "print(meine_einkaufsliste)"
   ]
  },
  {
   "cell_type": "markdown",
   "id": "e5b21821",
   "metadata": {},
   "source": [
    "\n",
    "Stellen Sie fest, wie lange `meine_einkaufsliste` ist und welches Element an\n",
    "Index 1 ist:"
   ]
  },
  {
   "cell_type": "code",
   "execution_count": null,
   "id": "3b4c28b0",
   "metadata": {
    "tags": [
     "solution"
    ]
   },
   "outputs": [],
   "source": [
    "print(len(meine_einkaufsliste))\n",
    "print(meine_einkaufsliste[0])"
   ]
  },
  {
   "cell_type": "markdown",
   "id": "85a7fedc",
   "metadata": {},
   "source": [
    "\n",
    "Was ist der Effekt des follgenden Ausdrucks?\n",
    "```python \n",
    "  for item in meine_einkaufsliste:\n",
    "      print(item)\n",
    "```"
   ]
  },
  {
   "cell_type": "code",
   "execution_count": null,
   "id": "2dd1ae6f",
   "metadata": {
    "tags": [
     "solution"
    ]
   },
   "outputs": [],
   "source": [
    "for item in meine_einkaufsliste:\n",
    "    print(item)"
   ]
  },
  {
   "cell_type": "markdown",
   "id": "8231ccb5",
   "metadata": {},
   "source": [
    "\n",
    "Fügen Sie  250 g Butter und  1 Laib Brot zur Einkaufsliste\n",
    "`meine_einkaufsliste` hinzu."
   ]
  },
  {
   "cell_type": "code",
   "execution_count": null,
   "id": "11335363",
   "metadata": {
    "tags": [
     "solution"
    ]
   },
   "outputs": [],
   "source": [
    "meine_einkaufsliste.add_item(Item(\"Butter\", \"250g\"))\n",
    "meine_einkaufsliste.add_item(Item(\"Brot\", \"1 Laib\"))\n",
    "meine_einkaufsliste"
   ]
  },
  {
   "cell_type": "markdown",
   "id": "10b257bb",
   "metadata": {},
   "source": [
    "Drucken Sie die Einkaufsliste nochmal aus."
   ]
  },
  {
   "cell_type": "code",
   "execution_count": null,
   "id": "2f9905e9",
   "metadata": {
    "tags": [
     "solution"
    ]
   },
   "outputs": [],
   "source": [
    "print(meine_einkaufsliste)"
   ]
  },
  {
   "cell_type": "markdown",
   "id": "75e9cef3",
   "metadata": {},
   "source": [
    "\n",
    "Was passiert, wenn Sie `Butter` und `Brot` nochmals zur Einkaufsliste\n",
    "`meine_einkaufsliste` hinzufügen?"
   ]
  },
  {
   "cell_type": "code",
   "execution_count": null,
   "id": "7c14d146",
   "metadata": {
    "tags": [
     "solution"
    ]
   },
   "outputs": [],
   "source": [
    "meine_einkaufsliste.add_item(Item(\"Butter\", \"250g\"))\n",
    "meine_einkaufsliste.add_item(Item(\"Brot\", \"1 Laib\"))\n",
    "print(meine_einkaufsliste)"
   ]
  },
  {
   "cell_type": "code",
   "execution_count": null,
   "id": "aa63aea0",
   "metadata": {},
   "outputs": [],
   "source": []
  }
 ],
 "metadata": {
  "jupytext": {
   "encoding": "# -*- coding: utf-8 -*-",
   "formats": "ipynb"
  },
  "kernelspec": {
   "display_name": "Python 3 (ipykernel)",
   "language": "python",
   "name": "python3"
  }
 },
 "nbformat": 4,
 "nbformat_minor": 5
}
