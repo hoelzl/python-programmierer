{
 "cells": [
  {
   "cell_type": "markdown",
   "id": "02c64997",
   "metadata": {},
   "source": [
    "# Gerade Zahl\n",
    "\n",
    "Schreiben Sie eine Funktion `ist_gerade(zahl)`, die `True` zurückgibt,\n",
    "falls `zahl` gerade ist und `False`, falls `zahl` ungerade ist."
   ]
  },
  {
   "cell_type": "code",
   "execution_count": null,
   "id": "caf86921",
   "metadata": {
    "tags": [
     "solution"
    ]
   },
   "outputs": [],
   "source": [
    "def ist_gerade(zahl):\n",
    "    return zahl % 2 == 0"
   ]
  },
  {
   "cell_type": "markdown",
   "id": "60b4a568",
   "metadata": {},
   "source": [
    "Schreiben Sie eine Funktion `drucke_ist_gerade(zahl)`, die\n",
    "\n",
    "- `{zahl} ist gerade.` auf dem Bildschirm ausgibt, falls `zahl` gerade ist und\n",
    "- `{zahl} ist nicht gerade.` auf dem Bildschirm ausgibt, falls `zahl` nicht\n",
    "  gerade ist."
   ]
  },
  {
   "cell_type": "code",
   "execution_count": null,
   "id": "2e9ce34f",
   "metadata": {
    "tags": [
     "solution"
    ]
   },
   "outputs": [],
   "source": [
    "def drucke_ist_gerade(zahl):\n",
    "    if ist_gerade(zahl):\n",
    "        print(f\"{zahl} ist gerade.\")\n",
    "    else:\n",
    "        print(f\"{zahl} ist nicht gerade.\")"
   ]
  },
  {
   "cell_type": "markdown",
   "id": "54dc4be2",
   "metadata": {},
   "source": [
    "Testen Sie `drucke_ist_gerade(zahl)` mit den Werten 0, 1 und 8."
   ]
  },
  {
   "cell_type": "code",
   "execution_count": null,
   "id": "2401d3ff",
   "metadata": {
    "tags": [
     "solution"
    ]
   },
   "outputs": [],
   "source": [
    "drucke_ist_gerade(0)\n",
    "drucke_ist_gerade(1)\n",
    "drucke_ist_gerade(8)"
   ]
  },
  {
   "cell_type": "markdown",
   "id": "2be20dc2",
   "metadata": {},
   "source": [
    "# Positiv / Negativ\n",
    "\n",
    "Schreiben Sie eine Funktion `drucke_ist_positiv(zahl)`, die\n",
    "\n",
    "- `{zahl} ist positiv.` auf dem Bildschirm ausgibt, falls `zahl > 0` ist,\n",
    "- `{zahl} ist Null.` auf dem Bildschirm ausgibt, falls `zahl == 0` ist,\n",
    "- `{zahl} ist negativ.` auf dem Bildschirm ausgibt, falls `zahl < 0` ist."
   ]
  },
  {
   "cell_type": "code",
   "execution_count": null,
   "id": "e179e36c",
   "metadata": {
    "tags": [
     "solution"
    ]
   },
   "outputs": [],
   "source": [
    "def drucke_ist_positiv(zahl):\n",
    "    if zahl > 0:\n",
    "        print(f\"{zahl} ist positiv.\")\n",
    "    elif zahl < 0:\n",
    "        print(f\"{zahl} ist negativ.\")\n",
    "    else:\n",
    "        print(\"0 ist Null.\")"
   ]
  },
  {
   "cell_type": "markdown",
   "id": "a3f2ab23",
   "metadata": {},
   "source": [
    "Testen Sie `drucke_ist_positiv(zahl)` mit den Werten -3, 0 und 2."
   ]
  },
  {
   "cell_type": "code",
   "execution_count": null,
   "id": "a934c1ab",
   "metadata": {
    "tags": [
     "solution"
    ]
   },
   "outputs": [],
   "source": [
    "drucke_ist_positiv(-3)\n",
    "drucke_ist_positiv(0)\n",
    "drucke_ist_positiv(2)"
   ]
  },
  {
   "cell_type": "code",
   "execution_count": null,
   "id": "9eeade3a",
   "metadata": {
    "tags": [
     "solution"
    ]
   },
   "outputs": [],
   "source": [
    "def klassifiziere_positiv_negativ(zahl):\n",
    "    if zahl > 0:\n",
    "        return f\"{zahl} ist positiv.\"\n",
    "    elif zahl < 0:\n",
    "        return f\"{zahl} ist negativ.\"\n",
    "    else:\n",
    "        return \"0 ist Null.\"\n",
    "\n",
    "\n",
    "def drucke_ist_positiv_2(zahl):\n",
    "    print(klassifiziere_positiv_negativ(zahl))"
   ]
  },
  {
   "cell_type": "code",
   "execution_count": null,
   "id": "a1c1f8bc",
   "metadata": {
    "tags": [
     "solution"
    ]
   },
   "outputs": [],
   "source": [
    "drucke_ist_positiv_2(-3)\n",
    "drucke_ist_positiv_2(0)\n",
    "drucke_ist_positiv_2(2)"
   ]
  },
  {
   "cell_type": "markdown",
   "id": "e0d62844",
   "metadata": {},
   "source": [
    "# Signum\n",
    "\n",
    "Schreiben Sie eine Funktion `signum(zahl)`, die\n",
    "\n",
    "- 1 zurückgibt, falls `zahl > 0` ist,\n",
    "- 0 zurückgibt, falls `zahl == 0` ist,\n",
    "- -1 zurückgibt, falls `zahl < 0` ist."
   ]
  },
  {
   "cell_type": "code",
   "execution_count": null,
   "id": "a50a09d6",
   "metadata": {
    "tags": [
     "solution"
    ]
   },
   "outputs": [],
   "source": [
    "def signum(zahl):\n",
    "    if zahl > 0:\n",
    "        return 1\n",
    "    elif zahl == 0:\n",
    "        return 0\n",
    "    else:\n",
    "        return -1"
   ]
  },
  {
   "cell_type": "markdown",
   "id": "8f8e783b",
   "metadata": {},
   "source": [
    "Testen Sie die Funktion für repräsentative Werte."
   ]
  },
  {
   "cell_type": "code",
   "execution_count": null,
   "id": "0ba4228a",
   "metadata": {
    "tags": [
     "solution"
    ]
   },
   "outputs": [],
   "source": [
    "signum(-10)"
   ]
  },
  {
   "cell_type": "code",
   "execution_count": null,
   "id": "c0d1298a",
   "metadata": {
    "tags": [
     "solution"
    ]
   },
   "outputs": [],
   "source": [
    "signum(0)"
   ]
  },
  {
   "cell_type": "code",
   "execution_count": null,
   "id": "228cd603",
   "metadata": {
    "tags": [
     "solution"
    ]
   },
   "outputs": [],
   "source": [
    "signum(2)"
   ]
  },
  {
   "cell_type": "markdown",
   "id": "2a66d1e2",
   "metadata": {},
   "source": [
    "# Umrechnung in Meilen\n",
    "\n",
    "Schreiben Sie eine Funktion `konvertiere_km_nach_meilen(km)` die den Wert\n",
    "`km` von Kilometer in Meilen umrechnet (d.h. die den Wert in Meilen\n",
    "zurückgibt).\n",
    "\n",
    "*Hinweis:*\n",
    "- Ein Kilometer entspricht $0,621371$ Meilen"
   ]
  },
  {
   "cell_type": "code",
   "execution_count": null,
   "id": "434043d4",
   "metadata": {
    "tags": [
     "solution"
    ]
   },
   "outputs": [],
   "source": [
    "def konvertiere_km_nach_meilen(km):\n",
    "    return km * 0.621371"
   ]
  },
  {
   "cell_type": "markdown",
   "id": "69297cd9",
   "metadata": {},
   "source": [
    "Testen Sie `konvertiere_km_nach_meilen(km)` für 1 und 5 km."
   ]
  },
  {
   "cell_type": "code",
   "execution_count": null,
   "id": "2808fc84",
   "metadata": {
    "tags": [
     "solution"
    ]
   },
   "outputs": [],
   "source": [
    "konvertiere_km_nach_meilen(1)"
   ]
  },
  {
   "cell_type": "code",
   "execution_count": null,
   "id": "745c5ac1",
   "metadata": {
    "tags": [
     "solution"
    ]
   },
   "outputs": [],
   "source": [
    "konvertiere_km_nach_meilen(5)"
   ]
  },
  {
   "cell_type": "markdown",
   "id": "a4bc7873",
   "metadata": {},
   "source": [
    "\n",
    "Schreiben Sie eine Funktion `meilen_app()`, die eine Länge in Kilometern\n",
    "einliest und die äquivalente Entfernung in Meilen ausgibt.\n",
    "\n",
    "*Hinweise*\n",
    "- Ein String kann mit `float()` in einen Float-Wert umgewandelt werden."
   ]
  },
  {
   "cell_type": "code",
   "execution_count": null,
   "id": "41c6c887",
   "metadata": {
    "tags": [
     "solution"
    ]
   },
   "outputs": [],
   "source": [
    "def meilen_app():\n",
    "    km = input(\"Bitte geben Sie eine Entfernung in km ein: \")\n",
    "    if km != \"\":\n",
    "        meilen = konvertiere_km_nach_meilen(float(km))\n",
    "        print(f\"{km} km sind {meilen} Meilen\")\n",
    "    else:\n",
    "        print(\"Bitte geben Sie eine gültige Entfernung in km ein.\")"
   ]
  },
  {
   "cell_type": "code",
   "execution_count": null,
   "id": "4eda7d0a",
   "metadata": {
    "tags": [
     "solution"
    ]
   },
   "outputs": [],
   "source": [
    "meilen_app()"
   ]
  },
  {
   "cell_type": "markdown",
   "id": "012e007c",
   "metadata": {},
   "source": [
    "# Umrechnung in Meilen mit Truthiness\n",
    "\n",
    "Schreiben Sie eine Funktion `meilen_app_2`, die sich wie `meilen_app`\n",
    "verhält, aber Truthiness von Strings ausnutzt."
   ]
  },
  {
   "cell_type": "code",
   "execution_count": null,
   "id": "98f82812",
   "metadata": {
    "tags": [
     "solution"
    ]
   },
   "outputs": [],
   "source": [
    "def meilen_app_2():\n",
    "    km = input(\"Bitte geben Sie eine Entfernung in km ein: \")\n",
    "    if km:\n",
    "        meilen = konvertiere_km_nach_meilen(float(km))\n",
    "        print(f\"{km} km sind {meilen} Meilen\")\n",
    "    else:\n",
    "        print(\"Bitte geben Sie eine gültige Entfernung in km ein.\")"
   ]
  },
  {
   "cell_type": "code",
   "execution_count": null,
   "id": "ff790344",
   "metadata": {
    "tags": [
     "solution"
    ]
   },
   "outputs": [],
   "source": [
    "# meilen_app_2()"
   ]
  },
  {
   "cell_type": "markdown",
   "id": "e4bafe7c",
   "metadata": {},
   "source": [
    "# Kino-Preis\n",
    "\n",
    "Das Python-Lichtspielhaus hat folgende Eintrittspreise:\n",
    "\n",
    "- Kleinkinder unter 2 Jahren sind frei.\n",
    "- Kinder von 2-12 Jahren zahlen 2 Euro.\n",
    "- Teenager von 13-17 Jahren zahlen 5 Euro.\n",
    "- Erwachsene zahlen 10 Euro.\n",
    "- Rentner (ab 65) zahlen 6 Euro.\n",
    "\n",
    "Schreiben Sie eine Funktion `kinopreis(alter)`, die den Preis in\n",
    "Abhängigkeit vom Alter berechnet und zurückgibt."
   ]
  },
  {
   "cell_type": "code",
   "execution_count": null,
   "id": "34cd3d3b",
   "metadata": {
    "tags": [
     "solution"
    ]
   },
   "outputs": [],
   "source": [
    "def kinopreis(alter):\n",
    "    if alter < 2:\n",
    "        return 0\n",
    "    elif alter <= 12:\n",
    "        return 2\n",
    "    elif alter <= 17:\n",
    "        return 5\n",
    "    elif alter < 65:\n",
    "        return 10\n",
    "    else:\n",
    "        return 6"
   ]
  },
  {
   "cell_type": "markdown",
   "id": "48adb56f",
   "metadata": {},
   "source": [
    "Testen Sie die Funktion `kinopreis()` für einige repräsentative Werte."
   ]
  },
  {
   "cell_type": "code",
   "execution_count": null,
   "id": "1f1faa5a",
   "metadata": {
    "tags": [
     "solution"
    ]
   },
   "outputs": [],
   "source": [
    "kinopreis(1)"
   ]
  },
  {
   "cell_type": "code",
   "execution_count": null,
   "id": "a83f00e0",
   "metadata": {
    "tags": [
     "solution"
    ]
   },
   "outputs": [],
   "source": [
    "kinopreis(7)"
   ]
  },
  {
   "cell_type": "code",
   "execution_count": null,
   "id": "9bb5974e",
   "metadata": {
    "tags": [
     "solution"
    ]
   },
   "outputs": [],
   "source": [
    "kinopreis(15)"
   ]
  },
  {
   "cell_type": "code",
   "execution_count": null,
   "id": "ddaabb85",
   "metadata": {
    "tags": [
     "solution"
    ]
   },
   "outputs": [],
   "source": [
    "kinopreis(25)"
   ]
  },
  {
   "cell_type": "code",
   "execution_count": null,
   "id": "fc94f828",
   "metadata": {
    "tags": [
     "solution"
    ]
   },
   "outputs": [],
   "source": [
    "kinopreis(70)"
   ]
  },
  {
   "cell_type": "markdown",
   "id": "660874b3",
   "metadata": {
    "title": "Schreiben Sie eine Funktion `drucke_kinopreis(alter)`,"
   },
   "source": [
    "die einen Text der folgenden Art auf dem Bildschirm ausgibt:\n",
    "\n",
    "```\n",
    "Sie sind 1 Jahr alt. Ihr Preis beträgt 0 Euro.\n",
    "Sie sind 15 Jahre alt. Ihr Preis beträgt 5 Euro.\n",
    "```"
   ]
  },
  {
   "cell_type": "code",
   "execution_count": null,
   "id": "b5455fae",
   "metadata": {
    "tags": [
     "solution"
    ]
   },
   "outputs": [],
   "source": [
    "def drucke_kinopreis(alter):\n",
    "    preis = kinopreis(alter)\n",
    "    if alter == 1:\n",
    "        print(\"Sie sind 1 Jahr alt. Ihr Preis beträgt {preis} Euro.\")\n",
    "    else:\n",
    "        print(f\"Sie sind {alter} Jahre alt. Ihr Preis beträgt {preis} Euro.\")"
   ]
  },
  {
   "cell_type": "markdown",
   "id": "0b3e41b7",
   "metadata": {},
   "source": [
    "Testen Sie `drucke_kinopreis(alter)` für repräsentative Werte."
   ]
  },
  {
   "cell_type": "code",
   "execution_count": null,
   "id": "a7e1cd38",
   "metadata": {
    "tags": [
     "solution"
    ]
   },
   "outputs": [],
   "source": [
    "drucke_kinopreis(1)\n",
    "drucke_kinopreis(7)\n",
    "drucke_kinopreis(15)\n",
    "drucke_kinopreis(25)\n",
    "drucke_kinopreis(70)"
   ]
  },
  {
   "cell_type": "markdown",
   "id": "255df384",
   "metadata": {},
   "source": [
    "\n",
    "Schreiben Sie eine Funktion `kino_app()`, die ein Alter einliest und den\n",
    "Kinopreis für eine Person dieses Alters im gerade beschriebenen Format\n",
    "ausgibt. Zwei Beispielinteraktionen:\n",
    "\n",
    "```\n",
    "Wie alt sind Sie? 37\n",
    "Sie sind 37 Jahre alt. Ihr Preis beträgt 10 Euro.\n",
    "\n",
    "Wie alt sind Sie? 12\n",
    "Sie sind 12 Jahre alt. Ihr Preis beträgt 2 Euro.\n",
    "```"
   ]
  },
  {
   "cell_type": "code",
   "execution_count": null,
   "id": "fe1ca25b",
   "metadata": {
    "tags": [
     "solution"
    ]
   },
   "outputs": [],
   "source": [
    "def kino_app():\n",
    "    alter = input(\"Wie alt sind Sie? \")\n",
    "    if alter:\n",
    "        drucke_kinopreis(int(alter))\n",
    "    else:\n",
    "        \"Bitte geben Sie ein gültiges Alter ein.\""
   ]
  },
  {
   "cell_type": "code",
   "execution_count": null,
   "id": "b7654ddf",
   "metadata": {},
   "outputs": [],
   "source": [
    "# kino_app()"
   ]
  },
  {
   "cell_type": "markdown",
   "id": "7cd6e6b6",
   "metadata": {},
   "source": [
    "# Ratespiele\n",
    "\n",
    "Die folgenden einfachen \"Spiele\" erlauben dem Spieler unbegrenzt viele\n",
    "Eingaben. Daher ist es sinnvoll, sie mit einer While-Schleife zu\n",
    "implementieren.\n",
    "\n",
    "### Raten eines Wortes\n",
    "\n",
    "Implementieren Sie eine Funktion `rate_wort(lösung)`, die den Benutzer so\n",
    "lange nach einem Wort fragt, bis das eingegebene Wort der Lösung entspricht."
   ]
  },
  {
   "cell_type": "code",
   "execution_count": null,
   "id": "5061b312",
   "metadata": {
    "tags": [
     "solution"
    ]
   },
   "outputs": [],
   "source": [
    "def rate_wort(lösung):\n",
    "    geratenes_wort = input(\"Bitte geben Sie ein Wort ein: \")\n",
    "    while geratenes_wort != lösung:\n",
    "        geratenes_wort = input(\"Bitte versuchen Sie es nochmal: \")\n",
    "    print(\"Genau!\")"
   ]
  },
  {
   "cell_type": "code",
   "execution_count": null,
   "id": "d40445d7",
   "metadata": {},
   "outputs": [],
   "source": [
    "# rate_wort(\"Haus\")"
   ]
  },
  {
   "cell_type": "markdown",
   "id": "2f449ac7",
   "metadata": {},
   "source": [
    "### Zahlenraten\n",
    "\n",
    "Implementieren Sie eine Funktion `rate_zahl(lösung)`, die den Benutzer so\n",
    "lange nach einer Zahl fragt, bis er die Lösung erraten hat. Nach jeder\n",
    "Eingabe soll dem Benutzer angezeigt werden, ob die eingegebene Zahl zu\n",
    "groß, zu klein oder richtig ist."
   ]
  },
  {
   "cell_type": "code",
   "execution_count": null,
   "id": "a558a7ef",
   "metadata": {
    "tags": [
     "solution"
    ]
   },
   "outputs": [],
   "source": [
    "def rate_zahl(lösung):\n",
    "    geratene_zahl = input(\"Bitte geben Sie eine Zahl ein: \")\n",
    "    while int(geratene_zahl) != lösung:\n",
    "        if int(geratene_zahl) < lösung:\n",
    "            print(f\"{geratene_zahl} ist zu klein.\")\n",
    "        else:\n",
    "            print(f\"{geratene_zahl} ist zu groß.\")\n",
    "        geratene_zahl = input(\"Bitte versuchen Sie es noch einmal: \")\n",
    "    print(\"Sie haben gewonnen!\")"
   ]
  },
  {
   "cell_type": "code",
   "execution_count": null,
   "id": "00369581",
   "metadata": {},
   "outputs": [],
   "source": [
    "# rate_zahl(23)"
   ]
  },
  {
   "cell_type": "markdown",
   "id": "f1986b9f",
   "metadata": {},
   "source": [
    "\n",
    "Wie müssen Sie Ihre Lösung modifizieren, damit der Spieler durch Eingabe\n",
    "einer leeren Zeichenkette das Spiel abbrechen kann?"
   ]
  },
  {
   "cell_type": "code",
   "execution_count": null,
   "id": "2b02bc47",
   "metadata": {
    "tags": [
     "solution"
    ]
   },
   "outputs": [],
   "source": [
    "def rate_zahl_1(lösung):\n",
    "    geratene_zahl = input(\"Bitte geben Sie eine Zahl ein: \")\n",
    "    while geratene_zahl and int(geratene_zahl) != lösung:\n",
    "        if int(geratene_zahl) < lösung:\n",
    "            print(f\"{geratene_zahl} ist zu klein.\")\n",
    "        else:\n",
    "            print(f\"{geratene_zahl} ist zu groß.\")\n",
    "        geratene_zahl = input(\"Bitte versuchen Sie es noch einmal: \")\n",
    "    if geratene_zahl:\n",
    "        print(\"Sie haben gewonnen!\")\n",
    "    else:\n",
    "        print(\"Aufgeben ist feige!\")"
   ]
  },
  {
   "cell_type": "code",
   "execution_count": null,
   "id": "67a542d5",
   "metadata": {
    "tags": [
     "solution"
    ]
   },
   "outputs": [],
   "source": [
    "# rate_zahl_1(23)"
   ]
  },
  {
   "cell_type": "markdown",
   "id": "d634e16f",
   "metadata": {},
   "source": [
    "Lösung unter Zuhilfenahme der Funktion `klassifiziere_zahl`"
   ]
  },
  {
   "cell_type": "code",
   "execution_count": null,
   "id": "4f6295bc",
   "metadata": {
    "tags": [
     "solution"
    ]
   },
   "outputs": [],
   "source": [
    "def klassifiziere_zahl(geratene_zahl, lösung):\n",
    "    if geratene_zahl < lösung:\n",
    "        return False, \"Die geratene Zahl ist zu klein! \"\n",
    "    elif geratene_zahl > lösung:\n",
    "        return False, \"Die geratene Zahl ist zu groß! \"\n",
    "    else:\n",
    "        return True, \"Sie haben gewonnen!\""
   ]
  },
  {
   "cell_type": "code",
   "execution_count": null,
   "id": "8ee57cce",
   "metadata": {
    "tags": [
     "solution"
    ]
   },
   "outputs": [],
   "source": [
    "def rate_zahl_2(lösung):\n",
    "    geratene_zahl = input(\"Bitte geben Sie eine Zahl ein: \")\n",
    "    erfolg, hinweis = klassifiziere_zahl(int(geratene_zahl), lösung)\n",
    "    while not erfolg:\n",
    "        geratene_zahl = input(hinweis)\n",
    "        erfolg, hinweis = klassifiziere_zahl(int(geratene_zahl), lösung)\n",
    "    print(\"Sie haben gewonnen!\")"
   ]
  },
  {
   "cell_type": "code",
   "execution_count": null,
   "id": "92254ac7",
   "metadata": {
    "tags": [
     "solution"
    ]
   },
   "outputs": [],
   "source": [
    "# rate_zahl_2(23)"
   ]
  },
  {
   "cell_type": "markdown",
   "id": "8a3dd2dd",
   "metadata": {},
   "source": [
    "# Knobeln\n",
    "\n",
    "(Auch Schere, Stein, Papier; Schnick, Schnack, Schnuck; Fli, Fla, Flu; usw.)\n",
    "\n",
    "Beim Knobeln spielen zwei Spieler gegeneinander. Jeder der beiden Spieler\n",
    "wählt eines der drei Symbole \"Schere\", \"Stein\" oder \"Papier\" aus (ohne die\n",
    "Wahl des anderen Spielers zu kennen). Haben beide Spieler das gleiche\n",
    "Symbol gewählt, so ist das Spiel unentschieden. Andernfalls gilt:\n",
    "\n",
    "- Schere schlägt Papier\n",
    "- Papier schlägt Stein\n",
    "- Stein schlägt Schere\n",
    "\n",
    "Schreiben Sie eine Funktion `evaluiere_eine_runde_knobeln(spieler1,\n",
    "spieler2)`, die bewertet, ob die Runde unentschieden ausgegangen ist oder\n",
    "ob einer der Spieler gewonnen hat. Dazu soll die Funktion folgende Werte\n",
    "zurückgeben:\n",
    "\n",
    "- 0, wenn die Runde unentschieden war\n",
    "- 1, wenn Spieler 1 gewonnen hat\n",
    "- 2, wenn Spieler 2 gewonnen hat\n",
    "\n",
    "Wenn einer der Spieler eine ungültige Eingabe vorgenommen hat soll die\n",
    "Funktion eine Exception vom benutzerdefinierten Typ `BadInputException`\n",
    "auslösen, in der die Nummer des Spielers gespeichert ist, dessen Eingabe\n",
    "ungültig war. (Wenn beide Spieler eine ungültige Eingabe vorgenommen haben\n",
    "kann ein beliebiger Spieler gespeichert werden.)"
   ]
  },
  {
   "cell_type": "code",
   "execution_count": null,
   "id": "aa84df63",
   "metadata": {
    "tags": [
     "solution"
    ]
   },
   "outputs": [],
   "source": [
    "class BadInputError(ValueError):\n",
    "    def __init__(self, msg, invalid_player):\n",
    "        super().__init__(msg)\n",
    "        self.invalid_player = invalid_player\n",
    "\n",
    "\n",
    "def evaluiere_eine_runde_knobeln(spieler1, spieler2):\n",
    "    if spieler1 == spieler2 and spieler1 in [\"schere\", \"papier\", \"stein\"]:\n",
    "        return 0\n",
    "    elif spieler1 == \"schere\":\n",
    "        if spieler2 == \"papier\":\n",
    "            return 1\n",
    "        elif spieler2 == \"stein\":\n",
    "            return 2\n",
    "        else:\n",
    "            raise BadInputError(\"Ungültiges Symbol von Spieler 2\", 2)\n",
    "    elif spieler1 == \"papier\":\n",
    "        if spieler2 == \"stein\":\n",
    "            return 1\n",
    "        elif spieler2 == \"schere\":\n",
    "            return 2\n",
    "        else:\n",
    "            raise BadInputError(\"Ungültiges Symbol von Spieler 2\", 2)\n",
    "    elif spieler1 == \"stein\":\n",
    "        if spieler2 == \"schere\":\n",
    "            return 1\n",
    "        elif spieler2 == \"papier\":\n",
    "            return 2\n",
    "        else:\n",
    "            raise BadInputError(\"Ungültiges Symbol von Spieler 2\", 2)\n",
    "    else:\n",
    "        raise BadInputError(\"Ungültiges Symbol von Spieler 1\", 1)"
   ]
  },
  {
   "cell_type": "markdown",
   "id": "62dae2b3",
   "metadata": {},
   "source": [
    "Testen Sie alle möglichen Pfade durch Ihre Funktion."
   ]
  },
  {
   "cell_type": "code",
   "execution_count": null,
   "id": "8ed36824",
   "metadata": {
    "tags": [
     "solution"
    ]
   },
   "outputs": [],
   "source": [
    "assert evaluiere_eine_runde_knobeln(\"schere\", \"schere\") == 0"
   ]
  },
  {
   "cell_type": "code",
   "execution_count": null,
   "id": "93a99e2e",
   "metadata": {
    "tags": [
     "solution"
    ]
   },
   "outputs": [],
   "source": [
    "assert evaluiere_eine_runde_knobeln(\"papier\", \"papier\") == 0"
   ]
  },
  {
   "cell_type": "code",
   "execution_count": null,
   "id": "0c7bb9ff",
   "metadata": {
    "tags": [
     "solution"
    ]
   },
   "outputs": [],
   "source": [
    "assert evaluiere_eine_runde_knobeln(\"stein\", \"stein\") == 0"
   ]
  },
  {
   "cell_type": "code",
   "execution_count": null,
   "id": "87f6f57f",
   "metadata": {
    "tags": [
     "solution"
    ]
   },
   "outputs": [],
   "source": [
    "assert evaluiere_eine_runde_knobeln(\"schere\", \"papier\") == 1"
   ]
  },
  {
   "cell_type": "code",
   "execution_count": null,
   "id": "c7f54d0c",
   "metadata": {
    "tags": [
     "solution"
    ]
   },
   "outputs": [],
   "source": [
    "assert evaluiere_eine_runde_knobeln(\"schere\", \"stein\") == 2"
   ]
  },
  {
   "cell_type": "code",
   "execution_count": null,
   "id": "d1272522",
   "metadata": {
    "tags": [
     "solution"
    ]
   },
   "outputs": [],
   "source": [
    "assert evaluiere_eine_runde_knobeln(\"papier\", \"schere\") == 2"
   ]
  },
  {
   "cell_type": "code",
   "execution_count": null,
   "id": "470bfeb6",
   "metadata": {
    "tags": [
     "solution"
    ]
   },
   "outputs": [],
   "source": [
    "assert evaluiere_eine_runde_knobeln(\"papier\", \"stein\") == 1"
   ]
  },
  {
   "cell_type": "code",
   "execution_count": null,
   "id": "6d671c02",
   "metadata": {
    "tags": [
     "solution"
    ]
   },
   "outputs": [],
   "source": [
    "assert evaluiere_eine_runde_knobeln(\"stein\", \"schere\") == 1"
   ]
  },
  {
   "cell_type": "code",
   "execution_count": null,
   "id": "0f3d7c94",
   "metadata": {
    "tags": [
     "solution"
    ]
   },
   "outputs": [],
   "source": [
    "assert evaluiere_eine_runde_knobeln(\"stein\", \"papier\") == 2"
   ]
  },
  {
   "cell_type": "code",
   "execution_count": null,
   "id": "3dde01ac",
   "metadata": {
    "tags": [
     "solution"
    ]
   },
   "outputs": [],
   "source": [
    "def assert_exception(lhs, rhs, invalid_player):\n",
    "    try:\n",
    "        evaluiere_eine_runde_knobeln(lhs, rhs)\n",
    "        assert False, \"No exception raised\"\n",
    "    except BadInputError as e:\n",
    "        assert e.invalid_player == invalid_player, \"Wrong invalid player\""
   ]
  },
  {
   "cell_type": "code",
   "execution_count": null,
   "id": "54d1be46",
   "metadata": {
    "tags": [
     "solution"
    ]
   },
   "outputs": [],
   "source": [
    "assert_exception(\"eisen\", \"schere\", 1)"
   ]
  },
  {
   "cell_type": "code",
   "execution_count": null,
   "id": "b15f9fc0",
   "metadata": {
    "tags": [
     "solution"
    ]
   },
   "outputs": [],
   "source": [
    "assert_exception(\"schere\", \"eisen\", 2)"
   ]
  },
  {
   "cell_type": "code",
   "execution_count": null,
   "id": "179e6937",
   "metadata": {
    "tags": [
     "solution"
    ]
   },
   "outputs": [],
   "source": [
    "assert_exception(\"papier\", \"eisen\", 2)"
   ]
  },
  {
   "cell_type": "code",
   "execution_count": null,
   "id": "a0fddc45",
   "metadata": {
    "tags": [
     "solution"
    ]
   },
   "outputs": [],
   "source": [
    "assert_exception(\"stein\", \"eisen\", 2)"
   ]
  },
  {
   "cell_type": "code",
   "execution_count": null,
   "id": "adf18d8c",
   "metadata": {
    "tags": [
     "solution"
    ]
   },
   "outputs": [],
   "source": [
    "assert_exception(\"eisen\", \"eisen\", 1)"
   ]
  },
  {
   "cell_type": "markdown",
   "id": "8641a41e",
   "metadata": {},
   "source": [
    "\n",
    "Schreiben Sie eine Funktion `vergleiche_symbole(spieler1, spieler2)`,\n",
    "die folgende Information auf dem Bildschirm ausgibt:\n",
    "\n",
    "- `Unentschieden.`, wenn beide Spieler das gleiche Symbol gewählt haben,\n",
    "- `Spieler X gewinnt!`, wenn Spieler X (X = 1 oder 2) gewonnen hat,\n",
    "- `Ungültiges Symbol von Spieler X!`, wenn Spieler X ein ungültiges Symbol\n",
    "  eingegeben hat."
   ]
  },
  {
   "cell_type": "code",
   "execution_count": null,
   "id": "6e20daf1",
   "metadata": {
    "tags": [
     "solution"
    ]
   },
   "outputs": [],
   "source": [
    "def vergleiche_symbole(spieler1, spieler2):\n",
    "    try:\n",
    "        ergebniss = evaluiere_eine_runde_knobeln(spieler1, spieler2)\n",
    "        if ergebniss == 0:\n",
    "            print(\"Unentschieden.\")\n",
    "        else:\n",
    "            print(f\"Spieler {ergebniss} gewinnt!\")\n",
    "    except BadInputError as e:\n",
    "        print(f\"Ungültiges Symbol von Spieler {e.invalid_player}!\")"
   ]
  },
  {
   "cell_type": "markdown",
   "id": "95662612",
   "metadata": {},
   "source": [
    "Testen Sie `vergleiche_symbole` für geeignete Eingaben."
   ]
  },
  {
   "cell_type": "code",
   "execution_count": null,
   "id": "bf66ff50",
   "metadata": {
    "tags": [
     "solution"
    ]
   },
   "outputs": [],
   "source": [
    "vergleiche_symbole(\"papier\", \"papier\")"
   ]
  },
  {
   "cell_type": "code",
   "execution_count": null,
   "id": "e05c4b9e",
   "metadata": {
    "tags": [
     "solution"
    ]
   },
   "outputs": [],
   "source": [
    "vergleiche_symbole(\"schere\", \"papier\")"
   ]
  },
  {
   "cell_type": "code",
   "execution_count": null,
   "id": "bf7ed53b",
   "metadata": {
    "tags": [
     "solution"
    ]
   },
   "outputs": [],
   "source": [
    "vergleiche_symbole(\"papier\", \"stein\")"
   ]
  },
  {
   "cell_type": "code",
   "execution_count": null,
   "id": "db992951",
   "metadata": {
    "tags": [
     "solution"
    ]
   },
   "outputs": [],
   "source": [
    "vergleiche_symbole(\"stein\", \"schere\")"
   ]
  },
  {
   "cell_type": "code",
   "execution_count": null,
   "id": "ae17590b",
   "metadata": {
    "tags": [
     "solution"
    ]
   },
   "outputs": [],
   "source": [
    "vergleiche_symbole(\"papier\", \"schere\")"
   ]
  },
  {
   "cell_type": "code",
   "execution_count": null,
   "id": "be205bee",
   "metadata": {
    "tags": [
     "solution"
    ]
   },
   "outputs": [],
   "source": [
    "vergleiche_symbole(\"stein\", \"papier\")"
   ]
  },
  {
   "cell_type": "code",
   "execution_count": null,
   "id": "ac9a6741",
   "metadata": {
    "tags": [
     "solution"
    ]
   },
   "outputs": [],
   "source": [
    "vergleiche_symbole(\"schere\", \"stein\")"
   ]
  },
  {
   "cell_type": "code",
   "execution_count": null,
   "id": "6b233cac",
   "metadata": {
    "tags": [
     "solution"
    ]
   },
   "outputs": [],
   "source": [
    "vergleiche_symbole(\"computer\", \"papier\")"
   ]
  },
  {
   "cell_type": "code",
   "execution_count": null,
   "id": "8b98212a",
   "metadata": {
    "tags": [
     "solution"
    ]
   },
   "outputs": [],
   "source": [
    "vergleiche_symbole(\"papier\", \"computer\")"
   ]
  },
  {
   "cell_type": "markdown",
   "id": "ff8723dd",
   "metadata": {},
   "source": [
    "\n",
    "Schreiben Sie eine Funktion `spiele_eine_runde_knobeln()`, die die Auswahl\n",
    "von Spieler 1 und Spieler 2 vom Terminal einliest und dann auf dem\n",
    "Bildschirm ausgibt, wer gewonnen hat.\n",
    "\n",
    "(Das ist natürlich kein benutzbares Spiel, da Spieler 2 sehen kann,\n",
    "was Spieler 1 gewählt hat.)"
   ]
  },
  {
   "cell_type": "code",
   "execution_count": null,
   "id": "1addff09",
   "metadata": {
    "tags": [
     "solution"
    ]
   },
   "outputs": [],
   "source": [
    "def spiele_eine_runde_knobeln():\n",
    "    spieler1 = input(\"Auswahl von Spieler 1: \")\n",
    "    spieler2 = input(\"Auswahl von Spieler 2: \")\n",
    "    vergleiche_symbole(spieler1.lower(), spieler2.lower())"
   ]
  },
  {
   "cell_type": "markdown",
   "id": "1230a69a",
   "metadata": {},
   "source": [
    "Testen Sie die Funktion `spiele_eine_runde_knobeln()` interaktiv."
   ]
  },
  {
   "cell_type": "code",
   "execution_count": null,
   "id": "96d8564a",
   "metadata": {
    "tags": [
     "solution"
    ]
   },
   "outputs": [],
   "source": [
    "# spiele_eine_runde_knobeln()"
   ]
  },
  {
   "cell_type": "markdown",
   "id": "6b5cc024",
   "metadata": {},
   "source": [
    "\n",
    "Schreiben Sie eine Funktion `spiele_knobeln()`, die zwei Spieler so lange\n",
    "gegeneinader knobeln lässt, bis ein Spieler 3 Spiele mehr gewonnen hat als\n",
    "der andere (z.B. wenn der erste Spieler 2 Spiele gewonnen hat, der zweite\n",
    "Spieler 5)."
   ]
  },
  {
   "cell_type": "code",
   "execution_count": null,
   "id": "84de75a1",
   "metadata": {
    "lines_to_next_cell": 2,
    "tags": [
     "solution"
    ]
   },
   "outputs": [],
   "source": [
    "def spiele_knobeln():\n",
    "    gewinne1 = 0\n",
    "    gewinne2 = 0\n",
    "    while abs(gewinne1 - gewinne2) < 3:\n",
    "        spieler1 = input(\"Auswahl von Spieler 1: \")\n",
    "        spieler2 = input(\"Auswahl von Spieler 2: \")\n",
    "        try:\n",
    "            ergebnis = evaluiere_eine_runde_knobeln(spieler1, spieler2)\n",
    "            if ergebnis == 1:\n",
    "                print(\"Spieler 1 gewinnt diese Runde!\")\n",
    "                gewinne1 += 1\n",
    "            elif ergebnis == 2:\n",
    "                print(\"Spieler 2 gewinnt diese Runde!\")\n",
    "                gewinne2 += 1\n",
    "            else:\n",
    "                print(\"Unentschieden!\")\n",
    "        except BadInputError as e:\n",
    "            print(e)\n",
    "    print(f\"Spieler {1 if gewinne1 > gewinne2 else 2} gewinnt!\")"
   ]
  },
  {
   "cell_type": "code",
   "execution_count": null,
   "id": "42eb7408",
   "metadata": {
    "tags": [
     "solution"
    ]
   },
   "outputs": [],
   "source": [
    "# spiele_knobeln()"
   ]
  }
 ],
 "metadata": {
  "jupytext": {
   "encoding": "# -*- coding: utf-8 -*-",
   "formats": "ipynb"
  },
  "kernelspec": {
   "display_name": "Python 3 (ipykernel)",
   "language": "python",
   "name": "python3"
  }
 },
 "nbformat": 4,
 "nbformat_minor": 5
}
