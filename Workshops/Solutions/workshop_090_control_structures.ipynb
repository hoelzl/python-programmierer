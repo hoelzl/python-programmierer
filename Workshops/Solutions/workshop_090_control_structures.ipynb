{
 "cells": [
  {
   "cell_type": "markdown",
   "id": "48bd7c9b",
   "metadata": {},
   "source": [
    "# Gerade Zahl\n",
    "\n",
    "Schreiben Sie eine Funktion `ist_gerade(zahl)`, die `True` zurückgibt,\n",
    "falls `zahl` gerade ist und `False`, falls `zahl` ungerade ist."
   ]
  },
  {
   "cell_type": "code",
   "execution_count": null,
   "id": "20d6f94e",
   "metadata": {
    "tags": [
     "solution"
    ]
   },
   "outputs": [],
   "source": [
    "def ist_gerade(zahl):\n",
    "    return zahl % 2 == 0"
   ]
  },
  {
   "cell_type": "markdown",
   "id": "02429f09",
   "metadata": {},
   "source": [
    "Schreiben Sie eine Funktion `drucke_ist_gerade(zahl)`, die \n",
    "\n",
    "- `{zahl} ist gerade.` auf dem Bildschirm ausgibt, falls `zahl` gerade ist und\n",
    "- `{zahl} ist nicht gerade.` auf dem Bildschirm ausgibt, falls `zahl` nicht\n",
    "  gerade ist."
   ]
  },
  {
   "cell_type": "code",
   "execution_count": null,
   "id": "12c6384a",
   "metadata": {
    "tags": [
     "solution"
    ]
   },
   "outputs": [],
   "source": [
    "def drucke_ist_gerade(zahl):\n",
    "    if ist_gerade(zahl):\n",
    "        print(f\"{zahl} ist gerade.\")\n",
    "    else:\n",
    "        print(f\"{zahl} ist nicht gerade.\")"
   ]
  },
  {
   "cell_type": "markdown",
   "id": "54074f8e",
   "metadata": {},
   "source": [
    "Testen Sie `drucke_ist_gerade(zahl)` mit den Werten 0, 1 und 8."
   ]
  },
  {
   "cell_type": "code",
   "execution_count": null,
   "id": "8d387ec9",
   "metadata": {
    "tags": [
     "solution"
    ]
   },
   "outputs": [],
   "source": [
    "drucke_ist_gerade(0)\n",
    "drucke_ist_gerade(1)\n",
    "drucke_ist_gerade(8)"
   ]
  },
  {
   "cell_type": "markdown",
   "id": "da0864e0",
   "metadata": {},
   "source": [
    "# Positiv / Negativ\n",
    "\n",
    "Schreiben Sie eine Funktion `drucke_ist_positiv(zahl)`, die \n",
    "\n",
    "- `{zahl} ist positiv.` auf dem Bildschirm ausgibt, falls `zahl > 0` ist,\n",
    "- `{zahl} ist Null.` auf dem Bildschirm ausgibt, falls `zahl == 0` ist,\n",
    "- `{zahl} ist negativ.` auf dem Bildschirm ausgibt, falls `zahl < 0` ist."
   ]
  },
  {
   "cell_type": "code",
   "execution_count": null,
   "id": "f532e8f2",
   "metadata": {
    "tags": [
     "solution"
    ]
   },
   "outputs": [],
   "source": [
    "def drucke_ist_positiv(zahl):\n",
    "    if zahl > 0:\n",
    "        print(f\"{zahl} ist positiv.\")\n",
    "    elif zahl < 0:\n",
    "        print(f\"{zahl} ist negativ.\")\n",
    "    else:\n",
    "        print(\"0 ist Null.\")"
   ]
  },
  {
   "cell_type": "markdown",
   "id": "491aae80",
   "metadata": {},
   "source": [
    "Testen Sie `drucke_ist_positiv(zahl)` mit den Werten -3, 0 und 2."
   ]
  },
  {
   "cell_type": "code",
   "execution_count": null,
   "id": "cd295a16",
   "metadata": {
    "tags": [
     "solution"
    ]
   },
   "outputs": [],
   "source": [
    "drucke_ist_positiv(-3)\n",
    "drucke_ist_positiv(0)\n",
    "drucke_ist_positiv(2)"
   ]
  },
  {
   "cell_type": "code",
   "execution_count": null,
   "id": "6128b524",
   "metadata": {
    "tags": [
     "solution"
    ]
   },
   "outputs": [],
   "source": [
    "def klassifiziere_positiv_negativ(zahl):\n",
    "    if zahl > 0:\n",
    "        return f\"{zahl} ist positiv.\"\n",
    "    elif zahl < 0:\n",
    "        return f\"{zahl} ist negativ.\"\n",
    "    else:\n",
    "        return \"0 ist Null.\"\n",
    "\n",
    "\n",
    "def drucke_ist_positiv_2(zahl):\n",
    "    print(klassifiziere_positiv_negativ(zahl))"
   ]
  },
  {
   "cell_type": "code",
   "execution_count": null,
   "id": "94c24484",
   "metadata": {
    "tags": [
     "solution"
    ]
   },
   "outputs": [],
   "source": [
    "drucke_ist_positiv_2(-3)\n",
    "drucke_ist_positiv_2(0)\n",
    "drucke_ist_positiv_2(2)"
   ]
  },
  {
   "cell_type": "markdown",
   "id": "4452c98d",
   "metadata": {},
   "source": [
    "# Signum\n",
    "\n",
    "Schreiben Sie eine Funktion `signum(zahl)`, die\n",
    "\n",
    "- 1 zurückgibt, falls `zahl > 0` ist,\n",
    "- 0 zurückgibt, falls `zahl == 0` ist,\n",
    "- -1 zurückgibt, falls `zahl < 0` ist."
   ]
  },
  {
   "cell_type": "code",
   "execution_count": null,
   "id": "15bb718d",
   "metadata": {
    "tags": [
     "solution"
    ]
   },
   "outputs": [],
   "source": [
    "def signum(zahl):\n",
    "    if zahl > 0:\n",
    "        return 1\n",
    "    elif zahl == 0:\n",
    "        return 0\n",
    "    else:\n",
    "        return -1"
   ]
  },
  {
   "cell_type": "markdown",
   "id": "e1d2d99a",
   "metadata": {},
   "source": [
    "Testen Sie die Funktion für repräsentative Werte."
   ]
  },
  {
   "cell_type": "code",
   "execution_count": null,
   "id": "39932ebb",
   "metadata": {
    "tags": [
     "solution"
    ]
   },
   "outputs": [],
   "source": [
    "signum(-10)"
   ]
  },
  {
   "cell_type": "code",
   "execution_count": null,
   "id": "255a3baa",
   "metadata": {
    "tags": [
     "solution"
    ]
   },
   "outputs": [],
   "source": [
    "signum(0)"
   ]
  },
  {
   "cell_type": "code",
   "execution_count": null,
   "id": "2defdf58",
   "metadata": {
    "tags": [
     "solution"
    ]
   },
   "outputs": [],
   "source": [
    "signum(2)"
   ]
  },
  {
   "cell_type": "markdown",
   "id": "fa9ec9a0",
   "metadata": {},
   "source": [
    "# Umrechnung in Meilen\n",
    "\n",
    "Schreiben Sie eine Funktion `konvertiere_km_nach_meilen(km)` die den Wert\n",
    "`km` von Kilometer in Meilen umrechnet (d.h. die den Wert in Meilen\n",
    "zurückgibt).\n",
    "\n",
    "*Hinweis:*\n",
    "- Ein Kilometer entspricht $0,621371$ Meilen"
   ]
  },
  {
   "cell_type": "code",
   "execution_count": null,
   "id": "5a23dca0",
   "metadata": {
    "tags": [
     "solution"
    ]
   },
   "outputs": [],
   "source": [
    "def konvertiere_km_nach_meilen(km):\n",
    "    return km * 0.621371"
   ]
  },
  {
   "cell_type": "markdown",
   "id": "4c2b96e5",
   "metadata": {},
   "source": [
    "Testen Sie `konvertiere_km_nach_meilen(km)` für 1 und 5 km."
   ]
  },
  {
   "cell_type": "code",
   "execution_count": null,
   "id": "31eb6827",
   "metadata": {
    "tags": [
     "solution"
    ]
   },
   "outputs": [],
   "source": [
    "konvertiere_km_nach_meilen(1)"
   ]
  },
  {
   "cell_type": "code",
   "execution_count": null,
   "id": "c8cbf40d",
   "metadata": {
    "tags": [
     "solution"
    ]
   },
   "outputs": [],
   "source": [
    "konvertiere_km_nach_meilen(5)"
   ]
  },
  {
   "cell_type": "markdown",
   "id": "440f9c46",
   "metadata": {},
   "source": [
    "\n",
    "Schreiben Sie eine Funktion `meilen_app()`, die eine Länge in Kilometern\n",
    "einliest und die äquivalente Entfernung in Meilen ausgibt.\n",
    "\n",
    "*Hinweise* \n",
    "- Ein String kann mit `float()` in einen Float-Wert umgewandelt werden."
   ]
  },
  {
   "cell_type": "code",
   "execution_count": null,
   "id": "a6275dd5",
   "metadata": {
    "tags": [
     "solution"
    ]
   },
   "outputs": [],
   "source": [
    "def meilen_app():\n",
    "    km = input(\"Bitte geben Sie eine Entfernung in km ein: \")\n",
    "    if km != \"\":\n",
    "        meilen = konvertiere_km_nach_meilen(float(km))\n",
    "        print(f\"{km} km sind {meilen} Meilen\")\n",
    "    else:\n",
    "        print(\"Bitte geben Sie eine gültige Entfernung in km ein.\")"
   ]
  },
  {
   "cell_type": "code",
   "execution_count": null,
   "id": "b8a7bfd0",
   "metadata": {
    "tags": [
     "solution"
    ]
   },
   "outputs": [],
   "source": [
    "meilen_app()"
   ]
  },
  {
   "cell_type": "markdown",
   "id": "9b90bc38",
   "metadata": {},
   "source": [
    "# Umrechnung in Meilen mit Truthiness\n",
    "\n",
    "Schreiben Sie eine Funktion `meilen_app_2`, die sich wie `meilen_app`\n",
    "verhält, aber Truthiness von Strings ausnutzt."
   ]
  },
  {
   "cell_type": "code",
   "execution_count": null,
   "id": "a39abe4c",
   "metadata": {
    "tags": [
     "solution"
    ]
   },
   "outputs": [],
   "source": [
    "def meilen_app_2():\n",
    "    km = input(\"Bitte geben Sie eine Entfernung in km ein: \")\n",
    "    if km:\n",
    "        meilen = konvertiere_km_nach_meilen(float(km))\n",
    "        print(f\"{km} km sind {meilen} Meilen\")\n",
    "    else:\n",
    "        print(\"Bitte geben Sie eine gültige Entfernung in km ein.\")"
   ]
  },
  {
   "cell_type": "code",
   "execution_count": null,
   "id": "35201d7f",
   "metadata": {
    "tags": [
     "solution"
    ]
   },
   "outputs": [],
   "source": [
    "# meilen_app_2()"
   ]
  },
  {
   "cell_type": "markdown",
   "id": "4f9d860a",
   "metadata": {},
   "source": [
    "# Kino-Preis\n",
    "\n",
    "Das Python-Lichtspielhaus hat folgende Eintrittspreise:\n",
    "\n",
    "- Kleinkinder unter 2 Jahren sind frei.\n",
    "- Kinder von 2-12 Jahren zahlen 2 Euro.\n",
    "- Teenager von 13-17 Jahren zahlen 5 Euro.\n",
    "- Erwachsene zahlen 10 Euro.\n",
    "- Rentner (ab 65) zahlen 6 Euro.\n",
    "\n",
    "Schreiben Sie eine Funktion `kinopreis(alter)`, die den Preis in\n",
    "Abhängigkeit vom Alter berechnet und zurückgibt."
   ]
  },
  {
   "cell_type": "code",
   "execution_count": null,
   "id": "36fedaa7",
   "metadata": {
    "tags": [
     "solution"
    ]
   },
   "outputs": [],
   "source": [
    "def kinopreis(alter):\n",
    "    if (alter < 2):\n",
    "        return 0\n",
    "    elif alter <= 12:\n",
    "        return 2\n",
    "    elif alter <= 17:\n",
    "        return 5\n",
    "    elif alter < 65:\n",
    "        return 10\n",
    "    else:\n",
    "        return 6"
   ]
  },
  {
   "cell_type": "markdown",
   "id": "506810ae",
   "metadata": {},
   "source": [
    "Testen Sie die Funktion `kinopreis()` für einige repräsentative Werte."
   ]
  },
  {
   "cell_type": "code",
   "execution_count": null,
   "id": "1b026530",
   "metadata": {
    "tags": [
     "solution"
    ]
   },
   "outputs": [],
   "source": [
    "kinopreis(1)"
   ]
  },
  {
   "cell_type": "code",
   "execution_count": null,
   "id": "65dcf798",
   "metadata": {
    "tags": [
     "solution"
    ]
   },
   "outputs": [],
   "source": [
    "kinopreis(7)"
   ]
  },
  {
   "cell_type": "code",
   "execution_count": null,
   "id": "a5237466",
   "metadata": {
    "tags": [
     "solution"
    ]
   },
   "outputs": [],
   "source": [
    "kinopreis(15)"
   ]
  },
  {
   "cell_type": "code",
   "execution_count": null,
   "id": "5f686b4d",
   "metadata": {
    "tags": [
     "solution"
    ]
   },
   "outputs": [],
   "source": [
    "kinopreis(25)"
   ]
  },
  {
   "cell_type": "code",
   "execution_count": null,
   "id": "e65f3115",
   "metadata": {
    "tags": [
     "solution"
    ]
   },
   "outputs": [],
   "source": [
    "kinopreis(70)"
   ]
  },
  {
   "cell_type": "markdown",
   "id": "d5df26d9",
   "metadata": {
    "title": "Schreiben Sie eine Funktion `drucke_kinopreis(alter)`,"
   },
   "source": [
    "die einen Text der folgenden Art auf dem Bildschirm ausgibt:\n",
    "\n",
    "```\n",
    "Sie sind 1 Jahr alt. Ihr Preis beträgt 0 Euro.\n",
    "Sie sind 15 Jahre alt. Ihr Preis beträgt 5 Euro.\n",
    "```"
   ]
  },
  {
   "cell_type": "code",
   "execution_count": null,
   "id": "4c31ffe7",
   "metadata": {
    "tags": [
     "solution"
    ]
   },
   "outputs": [],
   "source": [
    "def drucke_kinopreis(alter):\n",
    "    preis = kinopreis(alter)\n",
    "    if alter == 1:\n",
    "        print(\"Sie sind 1 Jahr alt. Ihr Preis beträgt {preis} Euro.\")\n",
    "    else:\n",
    "        print(f\"Sie sind {alter} Jahre alt. Ihr Preis beträgt {preis} Euro.\")"
   ]
  },
  {
   "cell_type": "markdown",
   "id": "7c51edd3",
   "metadata": {},
   "source": [
    "Testen Sie `drucke_kinopreis(alter)` für repräsentative Werte."
   ]
  },
  {
   "cell_type": "code",
   "execution_count": null,
   "id": "3200c26e",
   "metadata": {
    "tags": [
     "solution"
    ]
   },
   "outputs": [],
   "source": [
    "drucke_kinopreis(1)\n",
    "drucke_kinopreis(7)\n",
    "drucke_kinopreis(15)\n",
    "drucke_kinopreis(25)\n",
    "drucke_kinopreis(70)"
   ]
  },
  {
   "cell_type": "markdown",
   "id": "50d312f7",
   "metadata": {},
   "source": [
    "\n",
    "Schreiben Sie eine Funktion `kino_app()`, die ein Alter einliest und den\n",
    "Kinopreis für eine Person dieses Alters im gerade beschriebenen Format\n",
    "ausgibt. Zwei Beispielinteraktionen:\n",
    "\n",
    "```\n",
    "Wie alt sind Sie? 37\n",
    "Sie sind 37 Jahre alt. Ihr Preis beträgt 10 Euro.\n",
    "\n",
    "Wie alt sind Sie? 12\n",
    "Sie sind 12 Jahre alt. Ihr Preis beträgt 2 Euro.\n",
    "```"
   ]
  },
  {
   "cell_type": "code",
   "execution_count": null,
   "id": "9d27715b",
   "metadata": {
    "tags": [
     "solution"
    ]
   },
   "outputs": [],
   "source": [
    "def kino_app():\n",
    "    alter = input(\"Wie alt sind Sie? \")\n",
    "    if alter:\n",
    "        drucke_kinopreis(int(alter))\n",
    "    else:\n",
    "        \"Bitte geben Sie ein gültiges Alter ein.\""
   ]
  },
  {
   "cell_type": "code",
   "execution_count": null,
   "id": "6732c4e1",
   "metadata": {},
   "outputs": [],
   "source": [
    "# kino_app()"
   ]
  },
  {
   "cell_type": "markdown",
   "id": "064a53da",
   "metadata": {},
   "source": [
    "# Ratespiele\n",
    "\n",
    "Die folgenden einfachen \"Spiele\" erlauben dem Spieler unbegrenzt viele\n",
    "Eingaben. Daher ist es sinnvoll, sie mit einer While-Schleife zu\n",
    "implementieren.\n",
    "\n",
    "### Raten eines Wortes\n",
    "\n",
    "Implementieren Sie eine Funktion `rate_wort(lösung)`, die den Benutzer so\n",
    "lange nach einem Wort fragt, bis das eingegebene Wort der Lösung entspricht."
   ]
  },
  {
   "cell_type": "code",
   "execution_count": null,
   "id": "cc09a051",
   "metadata": {
    "tags": [
     "solution"
    ]
   },
   "outputs": [],
   "source": [
    "def rate_wort(lösung):\n",
    "    geratenes_wort = input(\"Bitte geben Sie ein Wort ein: \")\n",
    "    while geratenes_wort != lösung:\n",
    "        geratenes_wort = input(\"Bitte versuchen Sie es nochmal: \")\n",
    "    print(\"Genau!\")"
   ]
  },
  {
   "cell_type": "code",
   "execution_count": null,
   "id": "517ba0e4",
   "metadata": {},
   "outputs": [],
   "source": [
    "# rate_wort(\"Haus\")"
   ]
  },
  {
   "cell_type": "markdown",
   "id": "7228962d",
   "metadata": {},
   "source": [
    "### Zahlenraten\n",
    "\n",
    "Implementieren Sie eine Funktion `rate_zahl(lösung)`, die den Benutzer so\n",
    "lange nach einer Zahl fragt, bis er die Lösung erraten hat. Nach jeder\n",
    "Eingabe soll dem Benutzer angezeigt werden, ob die eingegebene Zahl zu\n",
    "groß, zu klein oder richtig ist."
   ]
  },
  {
   "cell_type": "code",
   "execution_count": null,
   "id": "a6885ba1",
   "metadata": {
    "tags": [
     "solution"
    ]
   },
   "outputs": [],
   "source": [
    "def rate_zahl(lösung):\n",
    "    geratene_zahl = input(\"Bitte geben Sie eine Zahl ein: \")\n",
    "    while int(geratene_zahl) != lösung:\n",
    "        if int(geratene_zahl) < lösung:\n",
    "            print(f\"{geratene_zahl} ist zu klein.\")\n",
    "        else:\n",
    "            print(f\"{geratene_zahl} ist zu groß.\")\n",
    "        geratene_zahl = input(\"Bitte versuchen Sie es noch einmal: \")\n",
    "    print(\"Sie haben gewonnen!\")"
   ]
  },
  {
   "cell_type": "code",
   "execution_count": null,
   "id": "f3b2accf",
   "metadata": {},
   "outputs": [],
   "source": [
    "# rate_zahl(23)"
   ]
  },
  {
   "cell_type": "markdown",
   "id": "80948927",
   "metadata": {},
   "source": [
    "\n",
    "Wie müssen Sie Ihre Lösung modifizieren, damit der Spieler durch Eingabe\n",
    "einer leeren Zeichenkette das Spiel abbrechen kann?"
   ]
  },
  {
   "cell_type": "code",
   "execution_count": null,
   "id": "4e582c93",
   "metadata": {
    "tags": [
     "solution"
    ]
   },
   "outputs": [],
   "source": [
    "def rate_zahl_1(lösung):\n",
    "    geratene_zahl = input(\"Bitte geben Sie eine Zahl ein: \")\n",
    "    while geratene_zahl and int(geratene_zahl) != lösung:\n",
    "        if int(geratene_zahl) < lösung:\n",
    "            print(f\"{geratene_zahl} ist zu klein.\")\n",
    "        else:\n",
    "            print(f\"{geratene_zahl} ist zu groß.\")\n",
    "        geratene_zahl = input(\"Bitte versuchen Sie es noch einmal: \")\n",
    "    if geratene_zahl:\n",
    "        print(\"Sie haben gewonnen!\")\n",
    "    else:\n",
    "        print(\"Aufgeben ist feige!\")"
   ]
  },
  {
   "cell_type": "code",
   "execution_count": null,
   "id": "a00c3091",
   "metadata": {
    "tags": [
     "solution"
    ]
   },
   "outputs": [],
   "source": [
    "# rate_zahl_1(23)"
   ]
  },
  {
   "cell_type": "markdown",
   "id": "a6430dfc",
   "metadata": {},
   "source": [
    "Lösung unter Zuhilfenahme der Funktion `klassifiziere_zahl`"
   ]
  },
  {
   "cell_type": "code",
   "execution_count": null,
   "id": "4a58f61e",
   "metadata": {
    "tags": [
     "solution"
    ]
   },
   "outputs": [],
   "source": [
    "def klassifiziere_zahl(geratene_zahl, lösung):\n",
    "    if geratene_zahl < lösung:\n",
    "        return False, \"Die geratene Zahl ist zu klein! \"\n",
    "    elif geratene_zahl > lösung:\n",
    "        return False, \"Die geratene Zahl ist zu groß! \"\n",
    "    else:\n",
    "        return True, \"Sie haben gewonnen!\""
   ]
  },
  {
   "cell_type": "code",
   "execution_count": null,
   "id": "538b2e8d",
   "metadata": {
    "tags": [
     "solution"
    ]
   },
   "outputs": [],
   "source": [
    "def rate_zahl_2(lösung):\n",
    "    geratene_zahl = input(\"Bitte geben Sie eine Zahl ein: \")\n",
    "    erfolg, hinweis = klassifiziere_zahl(int(geratene_zahl), lösung)\n",
    "    while not erfolg:\n",
    "        geratene_zahl = input(hinweis)\n",
    "        erfolg, hinweis = klassifiziere_zahl(int(geratene_zahl), lösung)\n",
    "    print(\"Sie haben gewonnen!\")"
   ]
  },
  {
   "cell_type": "code",
   "execution_count": null,
   "id": "cbba08bd",
   "metadata": {
    "tags": [
     "solution"
    ]
   },
   "outputs": [],
   "source": [
    "# rate_zahl_2(23)"
   ]
  },
  {
   "cell_type": "markdown",
   "id": "32e1b5aa",
   "metadata": {},
   "source": [
    "# Vererbung\n",
    "\n",
    "Im Folgenden soll eine Klassenhierarchie für Mitarbeiter einer Firma\n",
    "erstellt werden:\n",
    "\n",
    "- Mitarbeiter können entweder Arbeiter oder Manager sein\n",
    "- Jeder Mitarbeiter der Firma hat einen Namen, eine Personalnummer und ein\n",
    "  Grundgehalt\n",
    "- Für jeden Arbeiter werden die angefallenen Überstunden und der Stundenlohn\n",
    "  gespeichert.\n",
    "- Das Gehalt eines Arbeiters berechnet sich als das 13/12-fache des\n",
    "  Grundgehalts plus der Bezahlung für die Überstunden\n",
    "- Jeder Manager hat einen individuellen Bonus\n",
    "- Das Gehalt eines Managers berechnet sich als das 13/12-fache des\n",
    "  Grundgehalts plus Bonus\n",
    "\n",
    "Implementieren Sie Python Klassen `Mitarbeiter`, `Arbeiter` und `Manager`\n",
    "mit geeigneten Attributen und einer Methode `gehalt()`, die das Gehalt\n",
    "berechnet."
   ]
  },
  {
   "cell_type": "code",
   "execution_count": null,
   "id": "5eb0c9cb",
   "metadata": {
    "tags": [
     "solution"
    ]
   },
   "outputs": [],
   "source": [
    "class Mitarbeiter:\n",
    "    def __init__(self, name, pers_nr, grundgehalt):\n",
    "        self.name = name\n",
    "        self.pers_nr = pers_nr\n",
    "        self.grundgehalt = grundgehalt\n",
    "\n",
    "    def gehalt(self):\n",
    "        return 13 / 12 * self.grundgehalt"
   ]
  },
  {
   "cell_type": "code",
   "execution_count": null,
   "id": "06dea5d8",
   "metadata": {
    "tags": [
     "solution"
    ]
   },
   "outputs": [],
   "source": [
    "class Arbeiter(Mitarbeiter):\n",
    "    def __init__(self, name, pers_nr, grundgehalt, überstunden, stundensatz):\n",
    "        super().__init__(name, pers_nr, grundgehalt)\n",
    "        self.überstunden = überstunden\n",
    "        self.stundensatz = stundensatz\n",
    "\n",
    "    def __repr__(self):\n",
    "        return (\n",
    "            f\"Arbeiter({self.name!r}, {self.pers_nr!r}, {self.grundgehalt}, \"\n",
    "            f\"{self.überstunden}, {self.stundensatz})\")\n",
    "\n",
    "    def gehalt(self):\n",
    "        return super().gehalt() + self.überstunden * self.stundensatz"
   ]
  },
  {
   "cell_type": "code",
   "execution_count": null,
   "id": "89c96eca",
   "metadata": {
    "tags": [
     "solution"
    ]
   },
   "outputs": [],
   "source": [
    "class Manager(Mitarbeiter):\n",
    "    def __init__(self, name, pers_nr, grundgehalt, bonus):\n",
    "        super().__init__(name, pers_nr, grundgehalt)\n",
    "        self.bonus = bonus\n",
    "\n",
    "    def __repr__(self):\n",
    "        return (f\"Manager({self.name!r}, {self.pers_nr!r}, {self.grundgehalt}, \"\n",
    "                f\"{self.bonus})\")\n",
    "\n",
    "    def gehalt(self):\n",
    "        return super().gehalt() + self.bonus"
   ]
  },
  {
   "cell_type": "code",
   "execution_count": null,
   "id": "634b95aa",
   "metadata": {
    "tags": [
     "solution"
    ]
   },
   "outputs": [],
   "source": [
    "a = Arbeiter(\"Hans\", 123, 36_000, 3, 40)\n",
    "print(a.gehalt())\n",
    "a"
   ]
  },
  {
   "cell_type": "code",
   "execution_count": null,
   "id": "d34f527e",
   "metadata": {
    "tags": [
     "solution"
    ]
   },
   "outputs": [],
   "source": [
    "m = Manager(\"Sepp\", 666, 60_000, 30_000)\n",
    "print(m.gehalt())\n",
    "m"
   ]
  },
  {
   "cell_type": "markdown",
   "id": "5d0b3034",
   "metadata": {},
   "source": [
    "# Knobeln\n",
    "\n",
    "(Auch Schere, Stein, Papier; Schnick, Schnack, Schnuck; Fli, Fla, Flu; usw.)\n",
    "\n",
    "Beim Knobeln spielen zwei Spieler gegeneinander. Jeder der beiden Spieler\n",
    "wählt eines der drei Symbole \"Schere\", \"Stein\" oder \"Papier\" aus (ohne die\n",
    "Wahl des anderen Spielers zu kennen). Haben beide Spieler das gleiche\n",
    "Symbol gewählt, so ist das Spiel unentschieden. Andernfalls gilt:\n",
    "\n",
    "- Schere schlägt Papier\n",
    "- Papier schlägt Stein\n",
    "- Stein schlägt Schere\n",
    "\n",
    "Schreiben Sie eine Funktion `evaluiere_eine_runde_knobeln(spieler1,\n",
    "spieler2)`, die bewertet, ob die Runde unentschieden ausgegangen ist oder\n",
    "ob einer der Spieler gewonnen hat. Dazu soll die Funktion folgende Werte\n",
    "zurückgeben:\n",
    "\n",
    "- 0, wenn die Runde unentschieden war\n",
    "- 1, wenn Spieler 1 gewonnen hat\n",
    "- 2, wenn Spieler 2 gewonnen hat\n",
    "\n",
    "Wenn einer der Spieler eine ungültige Eingabe vorgenommen hat soll die\n",
    "Funktion eine Exception vom benutzerdefinierten Typ `BadInputException`\n",
    "auslösen, in der die Nummer des Spielers gespeichert ist, dessen Eingabe\n",
    "ungültig war. (Wenn beide Spieler eine ungültige Eingabe vorgenommen haben\n",
    "kann ein beliebiger Spieler gespeichert werden.)"
   ]
  },
  {
   "cell_type": "code",
   "execution_count": null,
   "id": "a1996646",
   "metadata": {
    "tags": [
     "solution"
    ]
   },
   "outputs": [],
   "source": [
    "class BadInputError(ValueError):\n",
    "    def __init__(self, msg, invalid_player):\n",
    "        super().__init__(msg)\n",
    "        self.invalid_player = invalid_player\n",
    "\n",
    "\n",
    "def evaluiere_eine_runde_knobeln(spieler1, spieler2):\n",
    "    if spieler1 == spieler2 and spieler1 in [\"schere\", \"papier\", \"stein\"]:\n",
    "        return 0\n",
    "    elif spieler1 == \"schere\":\n",
    "        if spieler2 == \"papier\":\n",
    "            return 1\n",
    "        elif spieler2 == \"stein\":\n",
    "            return 2\n",
    "        else:\n",
    "            raise BadInputError(\"Ungültiges Symbol von Spieler 2\", 2)\n",
    "    elif spieler1 == \"papier\":\n",
    "        if spieler2 == \"stein\":\n",
    "            return 1\n",
    "        elif spieler2 == \"schere\":\n",
    "            return 2\n",
    "        else:\n",
    "            raise BadInputError(\"Ungültiges Symbol von Spieler 2\", 2)\n",
    "    elif spieler1 == \"stein\":\n",
    "        if spieler2 == \"schere\":\n",
    "            return 1\n",
    "        elif spieler2 == \"papier\":\n",
    "            return 2\n",
    "        else:\n",
    "            raise BadInputError(\"Ungültiges Symbol von Spieler 2\", 2)\n",
    "    else:\n",
    "        raise BadInputError(\"Ungültiges Symbol von Spieler 1\", 1)"
   ]
  },
  {
   "cell_type": "markdown",
   "id": "cb6e659b",
   "metadata": {},
   "source": [
    "Testen Sie alle möglichen Pfade durch Ihre Funktion."
   ]
  },
  {
   "cell_type": "code",
   "execution_count": null,
   "id": "3cea8566",
   "metadata": {
    "tags": [
     "solution"
    ]
   },
   "outputs": [],
   "source": [
    "assert evaluiere_eine_runde_knobeln(\"schere\", \"schere\") == 0"
   ]
  },
  {
   "cell_type": "code",
   "execution_count": null,
   "id": "2ef6e50b",
   "metadata": {
    "tags": [
     "solution"
    ]
   },
   "outputs": [],
   "source": [
    "assert evaluiere_eine_runde_knobeln(\"papier\", \"papier\") == 0"
   ]
  },
  {
   "cell_type": "code",
   "execution_count": null,
   "id": "c60daf1a",
   "metadata": {
    "tags": [
     "solution"
    ]
   },
   "outputs": [],
   "source": [
    "assert evaluiere_eine_runde_knobeln(\"stein\", \"stein\") == 0"
   ]
  },
  {
   "cell_type": "code",
   "execution_count": null,
   "id": "019a6e58",
   "metadata": {
    "tags": [
     "solution"
    ]
   },
   "outputs": [],
   "source": [
    "assert evaluiere_eine_runde_knobeln(\"schere\", \"papier\") == 1"
   ]
  },
  {
   "cell_type": "code",
   "execution_count": null,
   "id": "f775c05e",
   "metadata": {
    "tags": [
     "solution"
    ]
   },
   "outputs": [],
   "source": [
    "assert evaluiere_eine_runde_knobeln(\"schere\", \"stein\") == 2"
   ]
  },
  {
   "cell_type": "code",
   "execution_count": null,
   "id": "c0f5734e",
   "metadata": {
    "tags": [
     "solution"
    ]
   },
   "outputs": [],
   "source": [
    "assert evaluiere_eine_runde_knobeln(\"papier\", \"schere\") == 2"
   ]
  },
  {
   "cell_type": "code",
   "execution_count": null,
   "id": "cfc0de32",
   "metadata": {
    "tags": [
     "solution"
    ]
   },
   "outputs": [],
   "source": [
    "assert evaluiere_eine_runde_knobeln(\"papier\", \"stein\") == 1"
   ]
  },
  {
   "cell_type": "code",
   "execution_count": null,
   "id": "1f1fda12",
   "metadata": {
    "tags": [
     "solution"
    ]
   },
   "outputs": [],
   "source": [
    "assert evaluiere_eine_runde_knobeln(\"stein\", \"schere\") == 1"
   ]
  },
  {
   "cell_type": "code",
   "execution_count": null,
   "id": "a2b19756",
   "metadata": {
    "tags": [
     "solution"
    ]
   },
   "outputs": [],
   "source": [
    "assert evaluiere_eine_runde_knobeln(\"stein\", \"papier\") == 2"
   ]
  },
  {
   "cell_type": "code",
   "execution_count": null,
   "id": "01c8dd69",
   "metadata": {
    "tags": [
     "solution"
    ]
   },
   "outputs": [],
   "source": [
    "def assert_exception(lhs, rhs, invalid_player):\n",
    "    try:\n",
    "        evaluiere_eine_runde_knobeln(lhs, rhs)\n",
    "        assert False, \"No exception raised\"\n",
    "    except BadInputError as e:\n",
    "        assert e.invalid_player == invalid_player, \"Wrong invalid player\""
   ]
  },
  {
   "cell_type": "code",
   "execution_count": null,
   "id": "61231cce",
   "metadata": {
    "tags": [
     "solution"
    ]
   },
   "outputs": [],
   "source": [
    "assert_exception(\"eisen\", \"schere\", 1)"
   ]
  },
  {
   "cell_type": "code",
   "execution_count": null,
   "id": "1c799da1",
   "metadata": {
    "tags": [
     "solution"
    ]
   },
   "outputs": [],
   "source": [
    "assert_exception(\"schere\", \"eisen\", 2)"
   ]
  },
  {
   "cell_type": "code",
   "execution_count": null,
   "id": "bebed282",
   "metadata": {
    "tags": [
     "solution"
    ]
   },
   "outputs": [],
   "source": [
    "assert_exception(\"papier\", \"eisen\", 2)"
   ]
  },
  {
   "cell_type": "code",
   "execution_count": null,
   "id": "73d8a623",
   "metadata": {
    "tags": [
     "solution"
    ]
   },
   "outputs": [],
   "source": [
    "assert_exception(\"stein\", \"eisen\", 2)"
   ]
  },
  {
   "cell_type": "code",
   "execution_count": null,
   "id": "2bb86ad7",
   "metadata": {
    "tags": [
     "solution"
    ]
   },
   "outputs": [],
   "source": [
    "assert_exception(\"eisen\", \"eisen\", 1)"
   ]
  },
  {
   "cell_type": "markdown",
   "id": "12366143",
   "metadata": {},
   "source": [
    "\n",
    "Schreiben Sie eine Funktion `vergleiche_symbole(spieler1, spieler2)`,\n",
    "die folgende Information auf dem Bildschirm ausgibt:\n",
    "\n",
    "- `Unentschieden.`, wenn beide Spieler das gleiche Symbol gewählt haben,\n",
    "- `Spieler X gewinnt!`, wenn Spieler X (X = 1 oder 2) gewonnen hat,\n",
    "- `Ungültiges Symbol von Spieler X!`, wenn Spieler X ein ungültiges Symbol\n",
    "  eingegeben hat."
   ]
  },
  {
   "cell_type": "code",
   "execution_count": null,
   "id": "07554147",
   "metadata": {
    "tags": [
     "solution"
    ]
   },
   "outputs": [],
   "source": [
    "def vergleiche_symbole(spieler1, spieler2):\n",
    "    try:\n",
    "        ergebniss = evaluiere_eine_runde_knobeln(spieler1, spieler2)\n",
    "        if ergebniss == 0:\n",
    "            print(\"Unentschieden.\")\n",
    "        else:\n",
    "            print(f\"Spieler {ergebniss} gewinnt!\")\n",
    "    except BadInputError as e:\n",
    "        print(f\"Ungültiges Symbol von Spieler {e.invalid_player}!\")"
   ]
  },
  {
   "cell_type": "markdown",
   "id": "3c268e92",
   "metadata": {},
   "source": [
    "Testen Sie `vergleiche_symbole` für geeignete Eingaben."
   ]
  },
  {
   "cell_type": "code",
   "execution_count": null,
   "id": "dca53486",
   "metadata": {
    "tags": [
     "solution"
    ]
   },
   "outputs": [],
   "source": [
    "vergleiche_symbole(\"papier\", \"papier\")"
   ]
  },
  {
   "cell_type": "code",
   "execution_count": null,
   "id": "c24acb08",
   "metadata": {
    "tags": [
     "solution"
    ]
   },
   "outputs": [],
   "source": [
    "vergleiche_symbole(\"schere\", \"papier\")"
   ]
  },
  {
   "cell_type": "code",
   "execution_count": null,
   "id": "f94486d5",
   "metadata": {
    "tags": [
     "solution"
    ]
   },
   "outputs": [],
   "source": [
    "vergleiche_symbole(\"papier\", \"stein\")"
   ]
  },
  {
   "cell_type": "code",
   "execution_count": null,
   "id": "0ee51063",
   "metadata": {
    "tags": [
     "solution"
    ]
   },
   "outputs": [],
   "source": [
    "vergleiche_symbole(\"stein\", \"schere\")"
   ]
  },
  {
   "cell_type": "code",
   "execution_count": null,
   "id": "071ab4c8",
   "metadata": {
    "tags": [
     "solution"
    ]
   },
   "outputs": [],
   "source": [
    "vergleiche_symbole(\"papier\", \"schere\")"
   ]
  },
  {
   "cell_type": "code",
   "execution_count": null,
   "id": "9d724442",
   "metadata": {
    "tags": [
     "solution"
    ]
   },
   "outputs": [],
   "source": [
    "vergleiche_symbole(\"stein\", \"papier\")"
   ]
  },
  {
   "cell_type": "code",
   "execution_count": null,
   "id": "646d0a16",
   "metadata": {
    "tags": [
     "solution"
    ]
   },
   "outputs": [],
   "source": [
    "vergleiche_symbole(\"schere\", \"stein\")"
   ]
  },
  {
   "cell_type": "code",
   "execution_count": null,
   "id": "083ce688",
   "metadata": {
    "tags": [
     "solution"
    ]
   },
   "outputs": [],
   "source": [
    "vergleiche_symbole(\"computer\", \"papier\")"
   ]
  },
  {
   "cell_type": "code",
   "execution_count": null,
   "id": "bc78c3b5",
   "metadata": {
    "tags": [
     "solution"
    ]
   },
   "outputs": [],
   "source": [
    "vergleiche_symbole(\"papier\", \"computer\")"
   ]
  },
  {
   "cell_type": "markdown",
   "id": "80a53fc5",
   "metadata": {},
   "source": [
    "\n",
    "Schreiben Sie eine Funktion `spiele_eine_runde_knobeln()`, die die Auswahl\n",
    "von Spieler 1 und Spieler 2 vom Terminal einliest und dann auf dem\n",
    "Bildschirm ausgibt, wer gewonnen hat.\n",
    "\n",
    "(Das ist natürlich kein benutzbares Spiel, da Spieler 2 sehen kann,\n",
    "was Spieler 1 gewählt hat.)"
   ]
  },
  {
   "cell_type": "code",
   "execution_count": null,
   "id": "bc4eb72a",
   "metadata": {
    "tags": [
     "solution"
    ]
   },
   "outputs": [],
   "source": [
    "def spiele_eine_runde_knobeln():\n",
    "    spieler1 = input(\"Auswahl von Spieler 1: \")\n",
    "    spieler2 = input(\"Auswahl von Spieler 2: \")\n",
    "    vergleiche_symbole(spieler1.lower(), spieler2.lower())"
   ]
  },
  {
   "cell_type": "markdown",
   "id": "d64364ce",
   "metadata": {},
   "source": [
    "Testen Sie die Funktion `spiele_eine_runde_knobeln()` interaktiv."
   ]
  },
  {
   "cell_type": "code",
   "execution_count": null,
   "id": "b30ce711",
   "metadata": {
    "tags": [
     "solution"
    ]
   },
   "outputs": [],
   "source": [
    "# spiele_eine_runde_knobeln()"
   ]
  },
  {
   "cell_type": "markdown",
   "id": "bb5e2a13",
   "metadata": {},
   "source": [
    "\n",
    "Schreiben Sie eine Funktion `spiele_knobeln()`, die zwei Spieler so lange\n",
    "gegeneinader knobeln lässt, bis ein Spieler 3 Spiele mehr gewonnen hat als\n",
    "der andere (z.B. wenn der erste Spieler 2 Spiele gewonnen hat, der zweite\n",
    "Spieler 5)."
   ]
  },
  {
   "cell_type": "code",
   "execution_count": null,
   "id": "c1e17716",
   "metadata": {
    "tags": [
     "solution"
    ]
   },
   "outputs": [],
   "source": [
    "def spiele_knobeln():\n",
    "    gewinne1 = 0\n",
    "    gewinne2 = 0\n",
    "    while abs(gewinne1 - gewinne2) < 3:\n",
    "        spieler1 = input(\"Auswahl von Spieler 1: \")\n",
    "        spieler2 = input(\"Auswahl von Spieler 2: \")\n",
    "        try:\n",
    "            ergebnis = evaluiere_eine_runde_knobeln(spieler1, spieler2)\n",
    "            if ergebnis == 1:\n",
    "                print(\"Spieler 1 gewinnt diese Runde!\")\n",
    "                gewinne1 += 1\n",
    "            elif ergebnis == 2:\n",
    "                print(\"Spieler 2 gewinnt diese Runde!\")\n",
    "                gewinne2 += 1\n",
    "            else:\n",
    "                print(\"Unentschieden!\")\n",
    "        except BadInputError as e:\n",
    "            print(e)\n",
    "    print(f\"Spieler {1 if gewinne1 > gewinne2 else 2} gewinnt!\")"
   ]
  },
  {
   "cell_type": "code",
   "execution_count": null,
   "id": "416f86d7",
   "metadata": {
    "tags": [
     "solution"
    ]
   },
   "outputs": [],
   "source": [
    "# spiele_knobeln()"
   ]
  },
  {
   "cell_type": "markdown",
   "id": "89c5e55a",
   "metadata": {},
   "source": [
    "# Lesen und Schreiben in Dateien\n",
    "\n",
    "Schreiben Sie eine Funktion `write_text_to_file(text: str, file_name: str)\n",
    "-> None`, die den String `text` in die Datei `file_name` schreibt, sofern\n",
    "diese *nicht* existiert und eine Exception vom Typ `FileExistsError` wirft,\n",
    "falls die Datei existiert.\n",
    "\n",
    "*Hinweis:*  Beachten Sie die möglichen Werte für das `mode` Argument von\n",
    "`open()`."
   ]
  },
  {
   "cell_type": "code",
   "execution_count": null,
   "id": "80ec580c",
   "metadata": {
    "tags": [
     "solution"
    ]
   },
   "outputs": [],
   "source": [
    "def write_text_to_file(text, file_name):\n",
    "    with open(file_name, 'x') as file:\n",
    "        file.write(text)"
   ]
  },
  {
   "cell_type": "markdown",
   "id": "3cb3b010",
   "metadata": {},
   "source": [
    "\n",
    "Testen Sie die Funktion, indem Sie zweimal hintereinander versuchen den\n",
    "Text `Python 3.8` in die Datei `my-private-file.txt` zu schreiben."
   ]
  },
  {
   "cell_type": "code",
   "execution_count": null,
   "id": "2197200c",
   "metadata": {
    "tags": [
     "solution"
    ]
   },
   "outputs": [],
   "source": [
    "write_text_to_file('Python 3.8', 'my_private_file.txt')"
   ]
  },
  {
   "cell_type": "code",
   "execution_count": null,
   "id": "2b258b2d",
   "metadata": {
    "tags": [
     "solution"
    ]
   },
   "outputs": [],
   "source": [
    "write_text_to_file('Python 3.8', 'my_private_file.txt')"
   ]
  },
  {
   "cell_type": "markdown",
   "id": "093f14d9",
   "metadata": {},
   "source": [
    "Schreiben Sie eine Funktion `annotate_file(file_name: str) -> None`, die \n",
    "- den Inhalt der Datei `file_name` gefolgt von dem Text `(annotated version)`\n",
    "  auf dem Bildschirm ausgibt, falls sie existiert\n",
    "- den Text `No file found, we will bill the time we spent searching.` ausgibt\n",
    "  falls sie nicht existiert\n",
    "- in beiden Fällen den Text `Our invoice will be sent by mail.` ausgibt."
   ]
  },
  {
   "cell_type": "code",
   "execution_count": null,
   "id": "f0194238",
   "metadata": {
    "tags": [
     "solution"
    ]
   },
   "outputs": [],
   "source": [
    "def annotate_file(file_name):\n",
    "    try:\n",
    "        with open(file_name, 'r') as file:\n",
    "            print(file.read())\n",
    "            print('(annotated version)')\n",
    "    except FileNotFoundError:\n",
    "        print('No file found, we will bill the time we spent searching.')\n",
    "    finally:\n",
    "        print('Our invoice will be sent by mail.')"
   ]
  },
  {
   "cell_type": "code",
   "execution_count": null,
   "id": "aea11c63",
   "metadata": {
    "tags": [
     "solution"
    ]
   },
   "outputs": [],
   "source": [
    "annotate_file('my_private_file.txt')"
   ]
  },
  {
   "cell_type": "code",
   "execution_count": null,
   "id": "47723cf4",
   "metadata": {
    "tags": [
     "solution"
    ]
   },
   "outputs": [],
   "source": [
    "annotate_file('does-not-exist.txt')"
   ]
  }
 ],
 "metadata": {
  "jupytext": {
   "encoding": "# -*- coding: utf-8 -*-",
   "formats": "ipynb"
  },
  "kernelspec": {
   "display_name": "Python 3 (ipykernel)",
   "language": "python",
   "name": "python3"
  }
 },
 "nbformat": 4,
 "nbformat_minor": 5
}
