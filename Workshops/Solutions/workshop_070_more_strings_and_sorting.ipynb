{
 "cells": [
  {
   "cell_type": "markdown",
   "id": "9a9eec39",
   "metadata": {},
   "source": [
    "# Shout\n",
    "\n",
    "Schreiben Sie eine Funktion `shout(text)`, die `text` in Großbuchstaben,\n",
    "gefolgt von drei Außrufezeichen auf dem Bildschirm ausgibt."
   ]
  },
  {
   "cell_type": "code",
   "execution_count": null,
   "id": "f4a2c2ac",
   "metadata": {
    "tags": [
     "solution"
    ]
   },
   "outputs": [],
   "source": [
    "def shout(text):\n",
    "    print(f\"{text.upper()}!!!\")"
   ]
  },
  {
   "cell_type": "markdown",
   "id": "05ad2a1f",
   "metadata": {},
   "source": [
    "Testen Sie die Funktion mit Argument `\"Hallo\"`"
   ]
  },
  {
   "cell_type": "code",
   "execution_count": null,
   "id": "54eeb4b2",
   "metadata": {
    "tags": [
     "solution"
    ]
   },
   "outputs": [],
   "source": [
    "shout(\"Hallo\")"
   ]
  },
  {
   "cell_type": "markdown",
   "id": "20dde64f",
   "metadata": {
    "pycharm": {
     "name": "#%% md\n"
    }
   },
   "source": [
    "# Vergleichen von Strings"
   ]
  },
  {
   "cell_type": "markdown",
   "id": "e8a95cf5",
   "metadata": {},
   "source": [
    "Ist `Abc` kleiner als `aBC`?"
   ]
  },
  {
   "cell_type": "code",
   "execution_count": null,
   "id": "0aae2fb9",
   "metadata": {
    "tags": [
     "solution"
    ]
   },
   "outputs": [],
   "source": [
    "'Abc' < 'aBC'"
   ]
  },
  {
   "cell_type": "markdown",
   "id": "ad6a0e8c",
   "metadata": {},
   "source": [
    "Ist gleichzeitig `abc` kleiner als `abcd` und `abcd` kleiner als `abd`?"
   ]
  },
  {
   "cell_type": "code",
   "execution_count": null,
   "id": "6a319198",
   "metadata": {
    "tags": [
     "solution"
    ]
   },
   "outputs": [],
   "source": [
    "'abc' < 'abcd' < 'abd'"
   ]
  },
  {
   "cell_type": "markdown",
   "id": "d2b2c0f3",
   "metadata": {},
   "source": [
    "# Begrüßung 1\n",
    "\n",
    "Schreiben Sie eine Funktion `drucke_begrüßung(name)`, die eine personalisierte\n",
    "Begrüßung ausgibt, z.B.\n",
    "```\n",
    "Hallo, Hans!\n",
    "Schön Sie heute wieder bei uns begrüßen zu dürfen.\n",
    "Wir wünschen Ihnen viel Spaß, Hans.\n",
    "```\n",
    "Verwenden Sie dazu die `print()`-Funktion mit einem Argument und\n",
    "String-Konkatenation."
   ]
  },
  {
   "cell_type": "code",
   "execution_count": null,
   "id": "5558c999",
   "metadata": {
    "tags": [
     "solution"
    ]
   },
   "outputs": [],
   "source": [
    "def drucke_begrüßung(name):\n",
    "    print('Hallo, ' + name + '!\\n' +\n",
    "          'Schön Sie heute wieder bei uns begrüßen zu dürfen.\\n' +\n",
    "          'Wir wünschen Ihnen viel Spaß, ' + name + '.')\n",
    "\n",
    "\n",
    "drucke_begrüßung('Hans')"
   ]
  },
  {
   "cell_type": "markdown",
   "id": "cc195b13",
   "metadata": {},
   "source": [
    "# Begrüßung 2\n",
    "\n",
    "Schreiben Sie eine Funktion `drucke_begrüßung(name)`, die die\n",
    "Funktionalität von `drucke_begrüßung(name)` mittels F-Strings implementiert."
   ]
  },
  {
   "cell_type": "code",
   "execution_count": null,
   "id": "cbb84b96",
   "metadata": {
    "tags": [
     "solution"
    ]
   },
   "outputs": [],
   "source": [
    "def drucke_begrüßung_2(name):\n",
    "    print(f'Hallo, {name}!\\n'\n",
    "          f'Schön Sie heute wieder bei uns begrüßen zu dürfen.'\n",
    "          f'Wir wünschen Ihnen viel Spaß, {name}.')\n",
    "\n",
    "\n",
    "drucke_begrüßung_2(\"Sepp\")"
   ]
  },
  {
   "cell_type": "markdown",
   "id": "0d879e62",
   "metadata": {},
   "source": [
    "# Piraten, Teil 4\n",
    "\n",
    "Das Ausdrucken der Beute-Aufteilund mittels\n",
    "`drucke_aufteilung_der_beute(dublonen, piraten)` verbraucht zu viel Papier.\n",
    "\n",
    "Implementieren Sie eine neue Version der Funktion, die den folgenden Text\n",
    "ausgibt:\n",
    "\n",
    "```\n",
    "Jeder der 8 Piraten erhält 2 der 17 Golddublonen. Der Kapitän erhält extra 1 Golddublone.\n",
    "```\n",
    "bzw.\n",
    "```\n",
    "Jeder der 8 Piraten erhält 2 der 17 Golddublonen. Der Kapitän erhält extra 2 Golddublonen.\n",
    "```\n",
    "\n",
    "Verwenden Sie F-Strings um die Ausgabetexte zu erzeugen. Sie können die\n",
    "folgende Funktion verwenden, um die Aufteilung der Beute zu berechnen:"
   ]
  },
  {
   "cell_type": "code",
   "execution_count": null,
   "id": "29a7c9b8",
   "metadata": {},
   "outputs": [],
   "source": [
    "def teile_beute_auf(dublonen, piraten):\n",
    "    dublonen_pro_pirat = dublonen // piraten\n",
    "    dublonen_kapitän = dublonen % piraten\n",
    "    return dublonen_pro_pirat, dublonen_kapitän"
   ]
  },
  {
   "cell_type": "code",
   "execution_count": null,
   "id": "4c9a680d",
   "metadata": {
    "tags": [
     "solution"
    ]
   },
   "outputs": [],
   "source": [
    "def drucke_aufteilung_der_beute(dublonen, piraten):\n",
    "    dublonen_pro_pirat, dublonen_kapitän = teile_beute_auf(dublonen, piraten)\n",
    "    if dublonen_kapitän == 1:\n",
    "        print(f'Jeder der {piraten} Piraten erhält {dublonen_pro_pirat} '\n",
    "              f'der {dublonen} Golddublonen. '\n",
    "              f'Der Kapitän erhält extra 1 Golddublone.')\n",
    "    else:\n",
    "        print(f'Jeder der {piraten} Piraten erhält {dublonen_pro_pirat} '\n",
    "              f'der {dublonen} Golddublonen. '\n",
    "              f'Der Kapitän erhält extra {dublonen_kapitän} Golddublonen.')"
   ]
  },
  {
   "cell_type": "code",
   "execution_count": null,
   "id": "e8f737d5",
   "metadata": {
    "tags": [
     "solution"
    ]
   },
   "outputs": [],
   "source": [
    "drucke_aufteilung_der_beute(1000, 11)\n",
    "drucke_aufteilung_der_beute(17, 8)"
   ]
  },
  {
   "cell_type": "code",
   "execution_count": null,
   "id": "06a8d20d",
   "metadata": {
    "tags": [
     "solution"
    ]
   },
   "outputs": [],
   "source": [
    "def drucke_aufteilung_der_beute_v2(dublonen, piraten):\n",
    "    dublonen_pro_pirat, dublonen_kapitän = teile_beute_auf(dublonen, piraten)\n",
    "    print(f'Jeder der {piraten} Piraten erhält {dublonen_pro_pirat} '\n",
    "          f'der {dublonen} Golddublonen. '\n",
    "          f'Der Kapitän erhält extra {dublonen_kapitän} Golddublone'\n",
    "          f'{\"\" if dublonen_kapitän == 1 else \"n\"}.')"
   ]
  },
  {
   "cell_type": "code",
   "execution_count": null,
   "id": "deda64f5",
   "metadata": {
    "lines_to_next_cell": 2,
    "tags": [
     "solution"
    ]
   },
   "outputs": [],
   "source": [
    "drucke_aufteilung_der_beute_v2(1000, 11)\n",
    "drucke_aufteilung_der_beute_v2(17, 8)"
   ]
  }
 ],
 "metadata": {
  "jupytext": {
   "encoding": "# -*- coding: utf-8 -*-",
   "formats": "ipynb"
  },
  "kernelspec": {
   "display_name": "Python 3 (ipykernel)",
   "language": "python",
   "name": "python3"
  }
 },
 "nbformat": 4,
 "nbformat_minor": 5
}
