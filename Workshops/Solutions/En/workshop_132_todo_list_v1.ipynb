{
 "cells": [
  {
   "cell_type": "markdown",
   "id": "369bb43c",
   "metadata": {
    "lang": "en"
   },
   "source": [
    "# TODO list version 1\n",
    "\n",
    "The this workshop a simple application for managing a TODO list\n",
    "should to be created.\n",
    "\n",
    "Each entry in the TODO list should contain the following information:\n",
    "\n",
    "- Title\n",
    "- Priority\n",
    "- Has the item already been completed or not?\n",
    "\n",
    "In the following, use a dictionary for each entry in the TODO list\n",
    "and a list to represent the TODO list:"
   ]
  },
  {
   "cell_type": "markdown",
   "id": "5953c7bd",
   "metadata": {
    "lang": "en"
   },
   "source": [
    "Create a list `todos` with todo items that contains the following entries:\n",
    "\n",
    "- Title: Learn Python, priority 3, not done\n",
    "- Title: Buy vegetables, priority 2, not done\n",
    "- Title: Call Hans, Priority 5, Done"
   ]
  },
  {
   "cell_type": "code",
   "execution_count": null,
   "id": "4f1aa56b",
   "metadata": {
    "tags": [
     "solution"
    ]
   },
   "outputs": [],
   "source": [
    "todos = [dict(title=\"Python lernen\", priority=3, is_completed=False)]\n",
    "todos"
   ]
  },
  {
   "cell_type": "code",
   "execution_count": null,
   "id": "74eb276a",
   "metadata": {
    "tags": [
     "solution"
    ]
   },
   "outputs": [],
   "source": [
    "todos = [\n",
    "    {\"title\": \"Python lernen\", \"priority\": 3, \"is_completed\": False},\n",
    "    {\"title\": \"Gemüse einkaufen\", \"priority\": 2, \"is_completed\": False},\n",
    "    {\"title\": \"Hans anrufen\", \"priority\": 5, \"is_completed\": True},\n",
    "]"
   ]
  },
  {
   "cell_type": "code",
   "execution_count": null,
   "id": "082dc02e",
   "metadata": {
    "tags": [
     "solution"
    ]
   },
   "outputs": [],
   "source": [
    "todos"
   ]
  },
  {
   "cell_type": "markdown",
   "id": "1fca9c3d",
   "metadata": {
    "lang": "en"
   },
   "source": [
    "Write a function `add_todo_item(todo_list, title, priority)`,\n",
    "which adds a new todo item to `todo_list`."
   ]
  },
  {
   "cell_type": "code",
   "execution_count": null,
   "id": "9b799a1e",
   "metadata": {
    "tags": [
     "solution"
    ]
   },
   "outputs": [],
   "source": [
    "def add_todo_item(todo_list, title, priority):\n",
    "    todo_list.append({\"title\": title, \"priority\": priority, \"is_completed\": False})"
   ]
  },
  {
   "cell_type": "markdown",
   "id": "36c013e3",
   "metadata": {
    "lang": "en"
   },
   "source": [
    "Add a new todo item titled \"shovel snow\" with priority 5 to the `todos` list."
   ]
  },
  {
   "cell_type": "code",
   "execution_count": null,
   "id": "fbd31621",
   "metadata": {
    "tags": [
     "solution"
    ]
   },
   "outputs": [],
   "source": [
    "add_todo_item(todos, \"Schnee schaufeln\", 5)"
   ]
  },
  {
   "cell_type": "code",
   "execution_count": null,
   "id": "902d5f33",
   "metadata": {
    "tags": [
     "solution"
    ]
   },
   "outputs": [],
   "source": [
    "todos"
   ]
  },
  {
   "cell_type": "markdown",
   "id": "8c428edc",
   "metadata": {
    "lang": "en"
   },
   "source": [
    "Write a function `mark_todo_item_done(todo_list, title)`, that marks as done\n",
    "the first todo item in `todo_list` list that has title `title` and is not yet marked as done."
   ]
  },
  {
   "cell_type": "code",
   "execution_count": null,
   "id": "07d0fb1d",
   "metadata": {
    "tags": [
     "solution"
    ]
   },
   "outputs": [],
   "source": [
    "def mark_todo_item_done(todo_list, title):\n",
    "    for item in todo_list:\n",
    "        if item[\"title\"] == title and not item[\"is_completed\"]:\n",
    "            item[\"is_completed\"] = True\n",
    "            break"
   ]
  },
  {
   "cell_type": "markdown",
   "id": "0fe758a8",
   "metadata": {
    "lang": "en"
   },
   "source": [
    "Mark the to-do item `shovel snow` as edited."
   ]
  },
  {
   "cell_type": "code",
   "execution_count": null,
   "id": "48afd1b0",
   "metadata": {
    "tags": [
     "solution"
    ]
   },
   "outputs": [],
   "source": [
    "mark_todo_item_done(todos, \"Schnee schaufeln\")"
   ]
  },
  {
   "cell_type": "code",
   "execution_count": null,
   "id": "2d25cdff",
   "metadata": {
    "tags": [
     "solution"
    ]
   },
   "outputs": [],
   "source": [
    "todos"
   ]
  },
  {
   "cell_type": "markdown",
   "id": "18244a4b",
   "metadata": {
    "lang": "en"
   },
   "source": [
    "Add two todo items with text \"Learn Python\" and priority 1 and 6 to the todo list."
   ]
  },
  {
   "cell_type": "code",
   "execution_count": null,
   "id": "6e2d932a",
   "metadata": {
    "tags": [
     "solution"
    ]
   },
   "outputs": [],
   "source": [
    "add_todo_item(todos, \"Python lernen\", 1)\n",
    "add_todo_item(todos, \"Python lernen\", 6)"
   ]
  },
  {
   "cell_type": "code",
   "execution_count": null,
   "id": "ee1a5182",
   "metadata": {
    "tags": [
     "solution"
    ]
   },
   "outputs": [],
   "source": [
    "todos"
   ]
  },
  {
   "cell_type": "markdown",
   "id": "e6441b88",
   "metadata": {
    "lang": "en"
   },
   "source": [
    "Mark a \"Learn Python\" todo item as done. How does your list look now?"
   ]
  },
  {
   "cell_type": "code",
   "execution_count": null,
   "id": "d609db6f",
   "metadata": {
    "tags": [
     "solution"
    ]
   },
   "outputs": [],
   "source": [
    "mark_todo_item_done(todos, \"Python lernen\")"
   ]
  },
  {
   "cell_type": "code",
   "execution_count": null,
   "id": "ffead730",
   "metadata": {
    "tags": [
     "solution"
    ]
   },
   "outputs": [],
   "source": [
    "todos"
   ]
  },
  {
   "cell_type": "markdown",
   "id": "43dbc870",
   "metadata": {
    "lang": "en"
   },
   "source": [
    "Mark another todo item \"Learn Python\" as done. What is the contents of your list?"
   ]
  },
  {
   "cell_type": "code",
   "execution_count": null,
   "id": "d91d440b",
   "metadata": {
    "tags": [
     "solution"
    ]
   },
   "outputs": [],
   "source": [
    "mark_todo_item_done(todos, \"Python lernen\")\n",
    "todos"
   ]
  },
  {
   "cell_type": "markdown",
   "id": "4ab38bfa",
   "metadata": {
    "lang": "en"
   },
   "source": [
    "Write a function `delete_todo_item(todo_list, title)` that removes the\n",
    "first todo item in the `todo_list` with the title `title`.\n",
    "\n",
    "*Caution: You should not add or remove any entries while iterating over a list!*"
   ]
  },
  {
   "cell_type": "code",
   "execution_count": null,
   "id": "001fb334",
   "metadata": {
    "tags": [
     "solution"
    ]
   },
   "outputs": [],
   "source": [
    "def delete_todo_item(todo_list, title):\n",
    "    index_to_delete = -1\n",
    "    for index, item in enumerate(todo_list):\n",
    "        if item[\"title\"] == title:\n",
    "            index_to_delete = index\n",
    "            break\n",
    "    if index_to_delete >= 0:\n",
    "        del todo_list[index_to_delete]"
   ]
  },
  {
   "cell_type": "markdown",
   "id": "d900cb9b",
   "metadata": {
    "lang": "en"
   },
   "source": [
    "Delete an item `Learn Python` from `todo_list`"
   ]
  },
  {
   "cell_type": "code",
   "execution_count": null,
   "id": "f3065945",
   "metadata": {
    "tags": [
     "solution"
    ]
   },
   "outputs": [],
   "source": [
    "delete_todo_item(todos, \"Python lernen\")\n",
    "todos"
   ]
  },
  {
   "cell_type": "markdown",
   "id": "a6aa9bf8",
   "metadata": {
    "lang": "en"
   },
   "source": [
    "Write a function `delete_all_completed_todo_items(todo_list)`,\n",
    "which deletes all completed todo items from `todo_list`.\n",
    "\n",
    "*Note: One possibility to solve this task consists of two\n",
    "consecutive `for` loops: one to determine the indices and\n",
    "one to erase them. Does the order in which you delete items matter? (Hint: It does!)\n",
    "\n",
    "A more elegant method is to use a list comprehension and assign to a slice containing the complete original list.*"
   ]
  },
  {
   "cell_type": "code",
   "execution_count": null,
   "id": "4560c13a",
   "metadata": {
    "tags": [
     "solution"
    ]
   },
   "outputs": [],
   "source": [
    "def delete_all_completed_todo_items(todo_list):\n",
    "    indices_to_delete = []\n",
    "    for index, item in enumerate(todo_list):\n",
    "        if item[\"is_completed\"]:\n",
    "            indices_to_delete.append(index)\n",
    "    for index in sorted(indices_to_delete, reverse=True):\n",
    "        del todo_list[index]"
   ]
  },
  {
   "cell_type": "code",
   "execution_count": null,
   "id": "7cb63724",
   "metadata": {
    "tags": [
     "solution"
    ]
   },
   "outputs": [],
   "source": [
    "# delete_all_completed_todo_items(todos)\n",
    "todos"
   ]
  },
  {
   "cell_type": "code",
   "execution_count": null,
   "id": "fa225fe6",
   "metadata": {
    "tags": [
     "solution"
    ]
   },
   "outputs": [],
   "source": [
    "def delete_all_completed_todo_items_v2(todo_list):\n",
    "    todo_list[:] = [item for item in todo_list if not item[\"is_completed\"]]"
   ]
  },
  {
   "cell_type": "code",
   "execution_count": null,
   "id": "340fdf2a",
   "metadata": {
    "tags": [
     "solution"
    ]
   },
   "outputs": [],
   "source": [
    "delete_all_completed_todo_items_v2(todos)\n",
    "todos"
   ]
  },
  {
   "cell_type": "code",
   "execution_count": null,
   "id": "9f732393",
   "metadata": {},
   "outputs": [],
   "source": []
  }
 ],
 "metadata": {
  "jupytext": {
   "encoding": "# -*- coding: utf-8 -*-",
   "formats": "ipynb"
  },
  "kernelspec": {
   "display_name": "Python 3 (ipykernel)",
   "language": "python",
   "name": "python3"
  }
 },
 "nbformat": 4,
 "nbformat_minor": 5
}
