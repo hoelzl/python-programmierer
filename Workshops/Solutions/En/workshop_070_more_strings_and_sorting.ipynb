{
 "cells": [
  {
   "cell_type": "markdown",
   "id": "1875814a",
   "metadata": {
    "lang": "en"
   },
   "source": [
    "# Shout\n",
    "\n",
    "Write a function `shout(text)` that will print `text` in upper case letters,\n",
    "followed by three exclamation marks on the screen."
   ]
  },
  {
   "cell_type": "code",
   "execution_count": null,
   "id": "518e4389",
   "metadata": {
    "tags": [
     "solution"
    ]
   },
   "outputs": [],
   "source": [
    "def shout(text):\n",
    "    print(f\"{text.upper()}!!!\")"
   ]
  },
  {
   "cell_type": "markdown",
   "id": "976162d5",
   "metadata": {
    "lang": "en"
   },
   "source": [
    "Test the function with argument `\"Hello\"`"
   ]
  },
  {
   "cell_type": "code",
   "execution_count": null,
   "id": "a6015e9a",
   "metadata": {
    "tags": [
     "solution"
    ]
   },
   "outputs": [],
   "source": [
    "shout(\"Hallo\")"
   ]
  },
  {
   "cell_type": "markdown",
   "id": "08e7a15d",
   "metadata": {
    "lang": "en"
   },
   "source": [
    "# Comparing strings"
   ]
  },
  {
   "cell_type": "markdown",
   "id": "6da8da77",
   "metadata": {
    "lang": "en"
   },
   "source": [
    "Is `Abc` less than `aBC`?"
   ]
  },
  {
   "cell_type": "code",
   "execution_count": null,
   "id": "631b5940",
   "metadata": {
    "tags": [
     "solution"
    ]
   },
   "outputs": [],
   "source": [
    "\"Abc\" < \"aBC\""
   ]
  },
  {
   "cell_type": "markdown",
   "id": "0e1dac2c",
   "metadata": {
    "lang": "en"
   },
   "source": [
    "Is `abc` less than `abcd` and simultaneously `abcd` less than `abd`?"
   ]
  },
  {
   "cell_type": "code",
   "execution_count": null,
   "id": "5d0e5d9f",
   "metadata": {
    "tags": [
     "solution"
    ]
   },
   "outputs": [],
   "source": [
    "\"abc\" < \"abcd\" < \"abd\""
   ]
  },
  {
   "cell_type": "markdown",
   "id": "d2af562b",
   "metadata": {
    "lang": "en"
   },
   "source": [
    "# Greeting 1\n",
    "\n",
    "Write a function `print_greeting(name)` that does a personalized\n",
    "outputs a greeting, e.g.\n",
    "```\n",
    "Hello Hans!\n",
    "Nice to welcome you again today.\n",
    "We wish you a lot of fun, Hans.\n",
    "```\n",
    "To do this, use the `print()` function with one argument and string concatenation."
   ]
  },
  {
   "cell_type": "code",
   "execution_count": null,
   "id": "6f137942",
   "metadata": {
    "tags": [
     "solution"
    ]
   },
   "outputs": [],
   "source": [
    "def drucke_begrüßung(name):\n",
    "    print(\n",
    "        \"Hallo, \"\n",
    "        + name\n",
    "        + \"!\\n\"\n",
    "        + \"Schön Sie heute wieder bei uns begrüßen zu dürfen.\\n\"\n",
    "        + \"Wir wünschen Ihnen viel Spaß, \"\n",
    "        + name\n",
    "        + \".\"\n",
    "    )\n",
    "\n",
    "\n",
    "drucke_begrüßung(\"Hans\")"
   ]
  },
  {
   "cell_type": "markdown",
   "id": "b1432bf1",
   "metadata": {
    "lang": "en"
   },
   "source": [
    "# Greeting 2\n",
    "\n",
    "Write a function `print_greeting_2(name)` that implements the functionality of `print_greeting(name)` using F-strings."
   ]
  },
  {
   "cell_type": "code",
   "execution_count": null,
   "id": "1ce33ac4",
   "metadata": {
    "tags": [
     "solution"
    ]
   },
   "outputs": [],
   "source": [
    "def drucke_begrüßung_2(name):\n",
    "    print(\n",
    "        f\"Hallo, {name}!\\n\"\n",
    "        f\"Schön Sie heute wieder bei uns begrüßen zu dürfen.\"\n",
    "        f\"Wir wünschen Ihnen viel Spaß, {name}.\"\n",
    "    )\n",
    "\n",
    "\n",
    "drucke_begrüßung_2(\"Sepp\")"
   ]
  },
  {
   "cell_type": "markdown",
   "id": "008810c0",
   "metadata": {
    "lang": "en"
   },
   "source": [
    "# Pirates, part 4\n",
    "\n",
    "The printout of the loot allocation and means\n",
    "`print_division_of_loot(doubloons, pirates)` uses too much paper.\n",
    "\n",
    "Implement a new version of the function containing the following text\n",
    "outputs:\n",
    "\n",
    "```\n",
    "Each of the 8 pirates gets 2 of the 17 gold doubloons. The captain receives an extra 1 gold doubloon.\n",
    "```\n",
    "or.\n",
    "```\n",
    "Each of the 8 pirates gets 2 of the 17 gold doubloons. The captain receives an extra 2 gold doubloons.\n",
    "```\n",
    "\n",
    "Use F-strings to generate the output texts. You can the\n",
    "use the following function to calculate the division of spoils:"
   ]
  },
  {
   "cell_type": "code",
   "execution_count": null,
   "id": "cb3d5c31",
   "metadata": {},
   "outputs": [],
   "source": [
    "def teile_beute_auf(dublonen, piraten):\n",
    "    dublonen_pro_pirat = dublonen // piraten\n",
    "    dublonen_kapitän = dublonen % piraten\n",
    "    return dublonen_pro_pirat, dublonen_kapitän"
   ]
  },
  {
   "cell_type": "code",
   "execution_count": null,
   "id": "6c296ed0",
   "metadata": {
    "tags": [
     "solution"
    ]
   },
   "outputs": [],
   "source": [
    "def drucke_aufteilung_der_beute(dublonen, piraten):\n",
    "    dublonen_pro_pirat, dublonen_kapitän = teile_beute_auf(dublonen, piraten)\n",
    "    if dublonen_kapitän == 1:\n",
    "        print(\n",
    "            f\"Jeder der {piraten} Piraten erhält {dublonen_pro_pirat} \"\n",
    "            f\"der {dublonen} Golddublonen. \"\n",
    "            f\"Der Kapitän erhält extra 1 Golddublone.\"\n",
    "        )\n",
    "    else:\n",
    "        print(\n",
    "            f\"Jeder der {piraten} Piraten erhält {dublonen_pro_pirat} \"\n",
    "            f\"der {dublonen} Golddublonen. \"\n",
    "            f\"Der Kapitän erhält extra {dublonen_kapitän} Golddublonen.\"\n",
    "        )"
   ]
  },
  {
   "cell_type": "code",
   "execution_count": null,
   "id": "5d42f346",
   "metadata": {
    "tags": [
     "solution"
    ]
   },
   "outputs": [],
   "source": [
    "drucke_aufteilung_der_beute(1000, 11)\n",
    "drucke_aufteilung_der_beute(17, 8)"
   ]
  },
  {
   "cell_type": "code",
   "execution_count": null,
   "id": "24f0fdd3",
   "metadata": {
    "tags": [
     "solution"
    ]
   },
   "outputs": [],
   "source": [
    "def drucke_aufteilung_der_beute_v2(dublonen, piraten):\n",
    "    dublonen_pro_pirat, dublonen_kapitän = teile_beute_auf(dublonen, piraten)\n",
    "    print(\n",
    "        f\"Jeder der {piraten} Piraten erhält {dublonen_pro_pirat} \"\n",
    "        f\"der {dublonen} Golddublonen. \"\n",
    "        f\"Der Kapitän erhält extra {dublonen_kapitän} Golddublone\"\n",
    "        f'{\"\" if dublonen_kapitän == 1 else \"n\"}.'\n",
    "    )"
   ]
  },
  {
   "cell_type": "code",
   "execution_count": null,
   "id": "9b4d2ed3",
   "metadata": {
    "tags": [
     "solution"
    ]
   },
   "outputs": [],
   "source": [
    "drucke_aufteilung_der_beute_v2(1000, 11)\n",
    "drucke_aufteilung_der_beute_v2(17, 8)"
   ]
  }
 ],
 "metadata": {
  "jupytext": {
   "encoding": "# -*- coding: utf-8 -*-",
   "formats": "ipynb"
  },
  "kernelspec": {
   "display_name": "Python 3 (ipykernel)",
   "language": "python",
   "name": "python3"
  }
 },
 "nbformat": 4,
 "nbformat_minor": 5
}
