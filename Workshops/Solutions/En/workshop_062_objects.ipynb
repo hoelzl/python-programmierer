{
 "cells": [
  {
   "cell_type": "markdown",
   "id": "d8ea4459",
   "metadata": {
    "lang": "en"
   },
   "source": [
    "# Motor Vehicles (Part 1)\n",
    "\n",
    "Define a class `MotorVehicle` whose instances describe motor vehicles.\n",
    "Every car should have attributes `manufacturer` and `license_plate`."
   ]
  },
  {
   "cell_type": "code",
   "execution_count": null,
   "id": "725a0c55",
   "metadata": {
    "tags": [
     "solution"
    ]
   },
   "outputs": [],
   "source": [
    "class Kfz:\n",
    "    def __init__(self, hersteller, kennzeichen):\n",
    "        self.hersteller = hersteller\n",
    "        self.kennzeichen = kennzeichen"
   ]
  },
  {
   "cell_type": "code",
   "execution_count": null,
   "id": "1c4bbb79",
   "metadata": {
    "tags": [
     "solution"
    ]
   },
   "outputs": [],
   "source": [
    "class MotorVehicle:\n",
    "    def __init__(self, manufacturer, license_plate):\n",
    "        self.manufacturer = manufacturer\n",
    "        self.license_plate = license_plate"
   ]
  },
  {
   "cell_type": "markdown",
   "id": "ae037ac8",
   "metadata": {
    "lang": "en"
   },
   "source": [
    "Create two motor vehicles:\n",
    "- a BMW with license plate \"M-BW 123\"\n",
    "- a VW with license plate \"WOB-VW 246\"\n",
    "and store them in variables `bmw` and `vw`"
   ]
  },
  {
   "cell_type": "code",
   "execution_count": null,
   "id": "c23ad388",
   "metadata": {
    "tags": [
     "solution"
    ]
   },
   "outputs": [],
   "source": [
    "bmw = Kfz(\"BMW\", \"M-BW 123\")\n",
    "vw = Kfz(\"VW\", \"WOB-VW 246\")"
   ]
  },
  {
   "cell_type": "code",
   "execution_count": null,
   "id": "496d08b5",
   "metadata": {
    "tags": [
     "solution"
    ]
   },
   "outputs": [],
   "source": [
    "bmw_en = MotorVehicle(\"BMW\", \"M-BW 123\")\n",
    "vw_en = MotorVehicle(\"VW\", \"WOB-VW 246\")"
   ]
  },
  {
   "cell_type": "markdown",
   "id": "3a9366ad",
   "metadata": {
    "lang": "en"
   },
   "source": [
    "Create a new instance of `MotorVehicle` with manufacturer BMW and registration number\n",
    "\"M-BW 123\" and store it in a variable `bmw2`."
   ]
  },
  {
   "cell_type": "code",
   "execution_count": null,
   "id": "47a0e068",
   "metadata": {
    "tags": [
     "solution"
    ]
   },
   "outputs": [],
   "source": [
    "bmw2 = Kfz(\"BMW\", \"M-BW 123\")"
   ]
  },
  {
   "cell_type": "markdown",
   "id": "70472e61",
   "metadata": {
    "lang": "en"
   },
   "source": [
    "How can you determine whether `bmw` and `bmw2` (or `bmw` and `vw`) describe the same vehicle?"
   ]
  },
  {
   "cell_type": "code",
   "execution_count": null,
   "id": "7fa1fecd",
   "metadata": {
    "tags": [
     "solution"
    ]
   },
   "outputs": [],
   "source": [
    "bmw.hersteller == bmw2.hersteller and bmw.kennzeichen == bmw2.kennzeichen"
   ]
  },
  {
   "cell_type": "code",
   "execution_count": null,
   "id": "715e5aad",
   "metadata": {
    "tags": [
     "solution"
    ]
   },
   "outputs": [],
   "source": [
    "bmw.hersteller == vw.hersteller and bmw.kennzeichen == vw.kennzeichen"
   ]
  },
  {
   "cell_type": "code",
   "execution_count": null,
   "id": "b6f2a8df",
   "metadata": {
    "tags": [
     "solution"
    ]
   },
   "outputs": [],
   "source": [
    "bmw_en.manufacturer == vw_en.manufacturer and bmw_en.license_plate == vw_en.license_plate"
   ]
  },
  {
   "cell_type": "markdown",
   "id": "6ba3eced",
   "metadata": {
    "lang": "en"
   },
   "source": [
    "# Motor Vehicles (Part 2)\n",
    "\n",
    "Extend the `MotorVehicle` class with a method `change_registration(self, new_license_plate)`, which changes the vehicle's license plate."
   ]
  },
  {
   "cell_type": "code",
   "execution_count": null,
   "id": "60c3977d",
   "metadata": {
    "tags": [
     "solution"
    ]
   },
   "outputs": [],
   "source": [
    "class Kfz:\n",
    "    def __init__(self, hersteller, kennzeichen):\n",
    "        self.hersteller = hersteller\n",
    "        self.kennzeichen = kennzeichen\n",
    "\n",
    "    def melde_um(self, neues_kennzeichen):\n",
    "        self.kennzeichen = neues_kennzeichen"
   ]
  },
  {
   "cell_type": "code",
   "execution_count": null,
   "id": "2e47e809",
   "metadata": {
    "tags": [
     "solution"
    ]
   },
   "outputs": [],
   "source": [
    "class MotorVehicle:\n",
    "    def __init__(self, manufacturer, license_plate):\n",
    "        self.manufacturer = manufacturer\n",
    "        self.license_plate = license_plate\n",
    "    \n",
    "    def change_registration(self, new_license_plate):\n",
    "        self.license_plate = new_license_plate"
   ]
  },
  {
   "cell_type": "markdown",
   "id": "21ad28a7",
   "metadata": {
    "lang": "en"
   },
   "source": [
    "Create new instances of `bmw`, `bmw2` and `vw` as above:"
   ]
  },
  {
   "cell_type": "code",
   "execution_count": null,
   "id": "d18dca2b",
   "metadata": {
    "tags": [
     "solution"
    ]
   },
   "outputs": [],
   "source": [
    "bmw = Kfz(\"BMW\", \"M-BW 123\")\n",
    "bmw2 = Kfz(\"BMW\", \"M-BW 123\")\n",
    "vw = Kfz(\"VW\", \"WOB-VW 246\")"
   ]
  },
  {
   "cell_type": "code",
   "execution_count": null,
   "id": "00ccb6a5",
   "metadata": {
    "tags": [
     "solution"
    ]
   },
   "outputs": [],
   "source": [
    "bmw_en = MotorVehicle(\"BMW\", \"M-BW 123\")\n",
    "bmw2_en = MotorVehicle(\"BMW\", \"M-BW 123\")\n",
    "vw_en = MotorVehicle(\"VW\", \"WOB-VW 246\")"
   ]
  },
  {
   "cell_type": "markdown",
   "id": "28e693cc",
   "metadata": {
    "lang": "en"
   },
   "source": [
    "Change the registation of the VW generated above so that it has the new license plate  \"BGL-A 9\". How can you tell if changing the registration resulted is the change you wanted?"
   ]
  },
  {
   "cell_type": "code",
   "execution_count": null,
   "id": "564f5b52",
   "metadata": {
    "tags": [
     "solution"
    ]
   },
   "outputs": [],
   "source": [
    "vw.melde_um(\"BGL-A 9\")"
   ]
  },
  {
   "cell_type": "code",
   "execution_count": null,
   "id": "aab2dc8e",
   "metadata": {
    "tags": [
     "solution"
    ]
   },
   "outputs": [],
   "source": [
    "vw_en.change_registration(\"BGL-A 9\")"
   ]
  },
  {
   "cell_type": "code",
   "execution_count": null,
   "id": "3f0f0f25",
   "metadata": {
    "tags": [
     "solution"
    ]
   },
   "outputs": [],
   "source": [
    "# Z.B\n",
    "assert vw.kennzeichen == \"BGL-A 9\" and vw.hersteller == \"VW\"\n",
    "# Oder\n",
    "print(\"Hersteller:\", vw.hersteller, \"\\tKennzeichen:\", vw.kennzeichen)"
   ]
  },
  {
   "cell_type": "code",
   "execution_count": null,
   "id": "cba65b93",
   "metadata": {
    "tags": [
     "solution"
    ]
   },
   "outputs": [],
   "source": [
    "assert vw_en.license_plate == \"BGL-A 9\" and vw_en.manufacturer == \"VW\""
   ]
  },
  {
   "cell_type": "markdown",
   "id": "c49ea004",
   "metadata": {
    "lang": "en"
   },
   "source": [
    "Change the registration of the BMW saved in `bmw` (to the new registration number \"F-B 21\").\n",
    "Does the change affect the car saved in `bmw2`?"
   ]
  },
  {
   "cell_type": "code",
   "execution_count": null,
   "id": "fd6d04e1",
   "metadata": {
    "lines_to_next_cell": 2,
    "tags": [
     "solution"
    ]
   },
   "outputs": [],
   "source": [
    "bmw.melde_um(\"F-B 21\")\n",
    "print(\"Hersteller:\", bmw.hersteller, \"\\tKennzeichen:\", bmw.kennzeichen)\n",
    "print(\"Hersteller:\", bmw2.hersteller, \"\\tKennzeichen:\", bmw2.kennzeichen)"
   ]
  },
  {
   "cell_type": "markdown",
   "id": "2f16dfc5",
   "metadata": {
    "lang": "en"
   },
   "source": [
    "# Motor Vehicles (Part 3)\n",
    "\n",
    "Enhance the `MotorVehicle` class by implementing methods that return a string representation of the vehicle in a suitable form. Repeat the above examples with the new class."
   ]
  },
  {
   "cell_type": "code",
   "execution_count": null,
   "id": "319d2f34",
   "metadata": {
    "tags": [
     "solution"
    ]
   },
   "outputs": [],
   "source": [
    "class Kfz:\n",
    "    def __init__(self, hersteller, kennzeichen):\n",
    "        self.hersteller = hersteller\n",
    "        self.kennzeichen = kennzeichen\n",
    "\n",
    "    def melde_um(self, neues_kennzeichen):\n",
    "        self.kennzeichen = neues_kennzeichen\n",
    "\n",
    "    def __repr__(self):\n",
    "        return f\"Kfz({self.hersteller!r}, {self.kennzeichen!r})\""
   ]
  },
  {
   "cell_type": "code",
   "execution_count": null,
   "id": "47a573ee",
   "metadata": {
    "tags": [
     "solution"
    ]
   },
   "outputs": [],
   "source": [
    "bmw = Kfz(\"BMW\", \"M-BW 123\")\n",
    "bmw"
   ]
  },
  {
   "cell_type": "code",
   "execution_count": null,
   "id": "ee822dac",
   "metadata": {
    "tags": [
     "solution"
    ]
   },
   "outputs": [],
   "source": [
    "bmw2 = Kfz(\"BMW\", \"M-BW 123\")\n",
    "bmw2"
   ]
  },
  {
   "cell_type": "code",
   "execution_count": null,
   "id": "b85402a2",
   "metadata": {
    "tags": [
     "solution"
    ]
   },
   "outputs": [],
   "source": [
    "vw = Kfz(\"VW\", \"WOB-VW 246\")\n",
    "vw"
   ]
  },
  {
   "cell_type": "code",
   "execution_count": null,
   "id": "ee13786d",
   "metadata": {
    "tags": [
     "solution"
    ]
   },
   "outputs": [],
   "source": [
    "vw.melde_um(\"BGL-A 9\")\n",
    "vw"
   ]
  },
  {
   "cell_type": "code",
   "execution_count": null,
   "id": "4fd87abe",
   "metadata": {
    "tags": [
     "solution"
    ]
   },
   "outputs": [],
   "source": [
    "assert vw.kennzeichen == \"BGL-A 9\" and vw.hersteller == \"VW\""
   ]
  },
  {
   "cell_type": "code",
   "execution_count": null,
   "id": "48762c81",
   "metadata": {
    "tags": [
     "solution"
    ]
   },
   "outputs": [],
   "source": [
    "bmw.melde_um(\"F-B 21\")\n",
    "bmw"
   ]
  },
  {
   "cell_type": "code",
   "execution_count": null,
   "id": "1e30ccb9",
   "metadata": {
    "tags": [
     "solution"
    ]
   },
   "outputs": [],
   "source": [
    "bmw2"
   ]
  },
  {
   "cell_type": "markdown",
   "id": "c43ad1c6",
   "metadata": {
    "lang": "en"
   },
   "source": [
    "# Shopping List\n",
    "\n",
    "In this workshop we want to define a shopping list, that can manage planned purchases. A shopping list should consist of items that contain a product and the required quantity of the product.\n",
    "\n",
    "Both the shopping list itself and the entries should be represented as user-defined data types.\n",
    "\n",
    "First define a class `ShoppingListItem` that has attributes `product` and `amount`. To do this, use the `@dataclass` decorator"
   ]
  },
  {
   "cell_type": "code",
   "execution_count": null,
   "id": "2582440d",
   "metadata": {
    "tags": [
     "solution"
    ]
   },
   "outputs": [],
   "source": [
    "from dataclasses import dataclass\n",
    "\n",
    "@dataclass\n",
    "class ShoppingListItem:\n",
    "    product: str\n",
    "    amount: str = \"1\""
   ]
  },
  {
   "cell_type": "markdown",
   "id": "19983d82",
   "metadata": {
    "lang": "en"
   },
   "source": [
    "Create a shopping list item that represents 500g of coffee:"
   ]
  },
  {
   "cell_type": "code",
   "execution_count": null,
   "id": "8e4a1fcf",
   "metadata": {
    "tags": [
     "solution"
    ]
   },
   "outputs": [],
   "source": [
    "ShoppingListItem(\"Kaffee\", \"500g\")"
   ]
  },
  {
   "cell_type": "markdown",
   "id": "174d75ce",
   "metadata": {
    "lang": "en"
   },
   "source": [
    "Define a class `ShoppingList` containing a list of `ShoppingListItem` instances:\n",
    "\n",
    "- Use the `@dataclass` decorator\n",
    "- The class has an attribute `items` of type `list` (or `list[ShoppingListItem]` if\n",
    "  you are using Python 3.9 or newer), initialized with an empty list.\n",
    "- The method `add_item(self, item: ShoppingListItem)` adds a `ShoppingListItem` to the shopping list.\n",
    "\n",
    "Implement a\n",
    "[`__str__()` method](https://docs.python.org/3/reference/datamodel.html#object.__str<_>_),\n",
    "so the following program:\n",
    "\n",
    "```python\n",
    "my_shopping_list = ShoppingList([ShoppingListItem('Tea', '2 packets'),\n",
    "                                 ShoppingListItem('Coffee', '1 packet')])\n",
    "print(str(my_shopping_list))\n",
    "print(repr(my_shopping_list))\n",
    "```\n",
    "\n",
    "Produces the following output:\n",
    "\n",
    "```\n",
    "Shopping List\n",
    "  Tea, (2 packets)\n",
    "  Coffee, (1 packet)\n",
    "\n",
    "ShoppingList(items=[ShoppingListItem(product='Tea', amount='2 packets'), ShoppingListItem(product='Coffee', amount='1 packet')])\n",
    "```\n",
    "\n",
    "Implement a method `__len__()` that returns the length of the shopping list, and a method `__getitem__()` that allows access to items via their numeric index."
   ]
  },
  {
   "cell_type": "code",
   "execution_count": null,
   "id": "e319f978",
   "metadata": {
    "tags": [
     "solution"
    ]
   },
   "outputs": [],
   "source": [
    "from dataclasses import field\n",
    "\n",
    "@dataclass\n",
    "class ShoppingList:\n",
    "    items: list[ShoppingListItem] = field(default_factory=list)\n",
    "\n",
    "    def __str__(self):\n",
    "        result = \"Einkaufsliste\\n\"\n",
    "        for item in self.items:\n",
    "            result += f\"  {item.product}, ({item.amount})\\n\"\n",
    "        return result\n",
    "\n",
    "    def __len__(self):\n",
    "        return len(self.items)\n",
    "\n",
    "    def __getitem__(self, n):\n",
    "        return self.items[n]\n",
    "\n",
    "    def add_item(self, item):\n",
    "        self.items.append(item)"
   ]
  },
  {
   "cell_type": "markdown",
   "id": "1d972a81",
   "metadata": {
    "lang": "en"
   },
   "source": [
    "Define a variable `my_shopping_list` containing a shopping list representing the following items:\n",
    "\n",
    "- 2 packets of tea,\n",
    "- 1 packet of coffee\n",
    "\n",
    "Check that `str()` and `repr()` behave as specified above."
   ]
  },
  {
   "cell_type": "code",
   "execution_count": null,
   "id": "922baf4b",
   "metadata": {
    "tags": [
     "solution"
    ]
   },
   "outputs": [],
   "source": [
    "meine_einkaufsliste = ShoppingList([ShoppingListItem(\"Tee\", \"2 Pakete\"), ShoppingListItem(\"Kaffee\", \"1 Paket\")])\n",
    "print(str(meine_einkaufsliste))\n",
    "print(repr(meine_einkaufsliste))"
   ]
  },
  {
   "cell_type": "markdown",
   "id": "056fb4e2",
   "metadata": {
    "lang": "en"
   },
   "source": [
    "Print out `my_shopping_list`. Does the output look as expected?"
   ]
  },
  {
   "cell_type": "code",
   "execution_count": null,
   "id": "eeb753b5",
   "metadata": {
    "tags": [
     "solution"
    ]
   },
   "outputs": [],
   "source": [
    "print(meine_einkaufsliste)"
   ]
  },
  {
   "cell_type": "markdown",
   "id": "e2e95b82",
   "metadata": {
    "lang": "en"
   },
   "source": [
    "Determine the length of `my_shopping_list` is and its first and second item."
   ]
  },
  {
   "cell_type": "code",
   "execution_count": null,
   "id": "d9909a78",
   "metadata": {
    "tags": [
     "solution"
    ]
   },
   "outputs": [],
   "source": [
    "print(len(meine_einkaufsliste))\n",
    "print(meine_einkaufsliste[0])\n",
    "print(meine_einkaufsliste[1])"
   ]
  },
  {
   "cell_type": "markdown",
   "id": "bd1bc2f6",
   "metadata": {
    "lang": "en"
   },
   "source": [
    "What is the effect of the following expression?\n",
    "```python\n",
    "  for item in my_shopping_list:\n",
    "      print(item)\n",
    "```"
   ]
  },
  {
   "cell_type": "code",
   "execution_count": null,
   "id": "b1f50ab4",
   "metadata": {
    "tags": [
     "solution"
    ]
   },
   "outputs": [],
   "source": [
    "for item in meine_einkaufsliste:\n",
    "    print(item)"
   ]
  },
  {
   "cell_type": "markdown",
   "id": "6228708a",
   "metadata": {
    "lang": "en"
   },
   "source": [
    "Extend the definition of the `ShoppingList` class so that the indexing operator `[]` can also be called with a string argument, and returns the shopping list item with the appropriate `product` attribute if such an item exists, or `None` if no such item exists.\n",
    "\n",
    "Verify that the new implementation of the indexing operators works for boths integer and string arguments.\n",
    "\n",
    "*Hint:* You can use the `isinstance()` function to check whether an object is a string:"
   ]
  },
  {
   "cell_type": "code",
   "execution_count": null,
   "id": "c9a2fee2",
   "metadata": {
    "tags": [
     "solution"
    ]
   },
   "outputs": [],
   "source": [
    "print(isinstance(\"abc\", str))\n",
    "print(isinstance(123, str))"
   ]
  },
  {
   "cell_type": "code",
   "execution_count": null,
   "id": "0a3f77d6",
   "metadata": {
    "tags": [
     "solution"
    ]
   },
   "outputs": [],
   "source": [
    "@dataclass\n",
    "class ShoppingList:\n",
    "    items: list[ShoppingListItem] = field(default_factory=list)\n",
    "\n",
    "    def __str__(self):\n",
    "        result = \"Einkaufsliste\\n\"\n",
    "        for item in self.items:\n",
    "            result += f\"  {item.product}, ({item.amount})\\n\"\n",
    "        return result\n",
    "\n",
    "    def __len__(self):\n",
    "        return len(self.items)\n",
    "    \n",
    "    def __getitem__(self, n):\n",
    "        if isinstance(n, str):\n",
    "            return self.find_product(n)\n",
    "        return self.items[n]\n",
    "\n",
    "    def find_product(self, product):\n",
    "        for item in self.items:\n",
    "            if item.product == product:\n",
    "                return item\n",
    "        return None\n",
    "    \n",
    "    def add_item(self, item):\n",
    "        self.items.append(item)"
   ]
  },
  {
   "cell_type": "code",
   "execution_count": null,
   "id": "784d73a8",
   "metadata": {
    "tags": [
     "solution"
    ]
   },
   "outputs": [],
   "source": [
    "meine_einkaufsliste = ShoppingList([ShoppingListItem(\"Tee\", \"2 Pakete\"), ShoppingListItem(\"Kaffee\", \"1 Paket\")])\n",
    "print(meine_einkaufsliste[0])\n",
    "print(meine_einkaufsliste[\"Tee\"])\n",
    "print(meine_einkaufsliste[\"Marmelade\"])"
   ]
  },
  {
   "cell_type": "markdown",
   "id": "6d0cc140",
   "metadata": {
    "lang": "en"
   },
   "source": [
    "Add 250g butter and 1 loaf of bread to the shopping list\n",
    "`my_shopping_list`."
   ]
  },
  {
   "cell_type": "code",
   "execution_count": null,
   "id": "8463b8c2",
   "metadata": {
    "tags": [
     "solution"
    ]
   },
   "outputs": [],
   "source": [
    "meine_einkaufsliste.add_item(ShoppingListItem(\"Butter\", \"250g\"))\n",
    "meine_einkaufsliste.add_item(ShoppingListItem(\"Brot\", \"1 Laib\"))\n",
    "meine_einkaufsliste"
   ]
  },
  {
   "cell_type": "markdown",
   "id": "e794f022",
   "metadata": {
    "lang": "en"
   },
   "source": [
    "Print out the shopping list again."
   ]
  },
  {
   "cell_type": "code",
   "execution_count": null,
   "id": "1dda932d",
   "metadata": {
    "tags": [
     "solution"
    ]
   },
   "outputs": [],
   "source": [
    "print(meine_einkaufsliste)"
   ]
  },
  {
   "cell_type": "markdown",
   "id": "12f1d05f",
   "metadata": {
    "lang": "en"
   },
   "source": [
    "What happens when you add `butter` and `bread` to the shopping list again?"
   ]
  },
  {
   "cell_type": "code",
   "execution_count": null,
   "id": "7245c379",
   "metadata": {
    "tags": [
     "solution"
    ]
   },
   "outputs": [],
   "source": [
    "meine_einkaufsliste.add_item(ShoppingListItem(\"Butter\", \"250g\"))\n",
    "meine_einkaufsliste.add_item(ShoppingListItem(\"Brot\", \"1 Laib\"))\n",
    "print(meine_einkaufsliste)"
   ]
  },
  {
   "cell_type": "markdown",
   "id": "ed247852",
   "metadata": {
    "lang": "en"
   },
   "source": [
    "*Discussion:* How could we improve the behavior of the class?"
   ]
  }
 ],
 "metadata": {
  "jupytext": {
   "encoding": "# -*- coding: utf-8 -*-",
   "formats": "ipynb"
  },
  "kernelspec": {
   "display_name": "Python 3 (ipykernel)",
   "language": "python",
   "name": "python3"
  }
 },
 "nbformat": 4,
 "nbformat_minor": 5
}
