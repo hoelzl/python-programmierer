{
 "cells": [
  {
   "cell_type": "markdown",
   "id": "380f55af",
   "metadata": {},
   "source": [
    "## Cäsar-Verschlüsselung\n",
    "\n",
    "Bei der Cäsar-Verschlüsselung werden die Buchstaben des zu verschlüsselnden\n",
    "Wortes im Alphabet um 3 Stellen verschoben, z.B. wird aus der Zeichenkette\n",
    "`ABC` die Zeichenkette `DEF`. Die letzten drei Buchstaben des Alphabets\n",
    "werden durch die ersten ersetzt, d.h. aus `XYZA` wird `ABCD`.\n",
    "\n",
    "Typischerweise wurden bei historischen Verschlüsselungsverfahren alle\n",
    "Buchstaben in Großbuchstaben umgewandelt. Leer- und Sonderzeichen werden\n",
    "ignoriert. So wird aus \"Ich kam, sah und siegte.\" der verschlüsselte Text\n",
    "\n",
    "```\n",
    "LFKNDPVDKXQGVLHJWH\n",
    "```"
   ]
  },
  {
   "cell_type": "markdown",
   "id": "df6a1a50",
   "metadata": {},
   "source": [
    "\n",
    "Schreiben Sie eine Funktion `encode_char(c: str)`, die einen String `c`,\n",
    "der nur aus einem einzigen Zeichen besteht, folgendermaßen verschlüsselt:\n",
    "\n",
    "- ist `c` einer der Buchstaben `a` bis `z` oder `A` bis `Z` so wird er, falls\n",
    "  nötig, in einen Großbuchstaben umgewandelt und mit der Cäsar-Verschlüsselung\n",
    "  verschlüsselt;\n",
    "- ist `c` eine Ziffer, so wird sie unverändert zurückgegeben;\n",
    "- andernfalls wird der leere String `\"\"` zurückgegeben.\n",
    "\n",
    "*Hinweis:* Die folgenden beiden Strings sind dabei hilfreich:"
   ]
  },
  {
   "cell_type": "code",
   "execution_count": null,
   "id": "8ac0d273",
   "metadata": {
    "tags": [
     "solution"
    ]
   },
   "outputs": [],
   "source": [
    "letters_in_alphabetical_order = \"ABCDEFGHIJKLMNOPQRSTUVWXYZ1234567890\"\n",
    "letters_in_encoded_order = \"DEFGHIJKLMNOPQRSTUVWXYZABC1234567890\""
   ]
  },
  {
   "cell_type": "code",
   "execution_count": null,
   "id": "4f2ec594",
   "metadata": {
    "tags": [
     "solution"
    ]
   },
   "outputs": [],
   "source": [
    "def encode_char(c: str):\n",
    "    c_upper = c.upper()\n",
    "    if c_upper in letters_in_alphabetical_order:\n",
    "        index = letters_in_alphabetical_order.index(c_upper)\n",
    "        return letters_in_encoded_order[index]\n",
    "    else:\n",
    "        return \"\""
   ]
  },
  {
   "cell_type": "markdown",
   "id": "e5eabae3",
   "metadata": {},
   "source": [
    "Testen Sie Ihre Implementierung mit einigen Werten"
   ]
  },
  {
   "cell_type": "code",
   "execution_count": null,
   "id": "836887c6",
   "metadata": {
    "tags": [
     "solution"
    ]
   },
   "outputs": [],
   "source": [
    "encode_char(\"a\")"
   ]
  },
  {
   "cell_type": "code",
   "execution_count": null,
   "id": "4016ce4d",
   "metadata": {
    "tags": [
     "solution"
    ]
   },
   "outputs": [],
   "source": [
    "encode_char(\"x\")"
   ]
  },
  {
   "cell_type": "code",
   "execution_count": null,
   "id": "ecde9324",
   "metadata": {
    "tags": [
     "solution"
    ]
   },
   "outputs": [],
   "source": [
    "encode_char(\"3\")"
   ]
  },
  {
   "cell_type": "code",
   "execution_count": null,
   "id": "5fc2abb6",
   "metadata": {
    "tags": [
     "solution"
    ]
   },
   "outputs": [],
   "source": [
    "encode_char(\"!\")"
   ]
  },
  {
   "cell_type": "markdown",
   "id": "d27fb571",
   "metadata": {},
   "source": [
    "\n",
    "Schreiben Sie eine Funktion `encode_caesar(text: str)`, die einen String\n",
    "`text` mittels der Cäsar-Verschlüsselung verschlüsselt."
   ]
  },
  {
   "cell_type": "code",
   "execution_count": null,
   "id": "e9e4f2dc",
   "metadata": {
    "tags": [
     "solution"
    ]
   },
   "outputs": [],
   "source": [
    "def encode_caesar(text: str):\n",
    "    return \"\".join(encode_char(c) for c in text)"
   ]
  },
  {
   "cell_type": "markdown",
   "id": "8110c348",
   "metadata": {},
   "source": [
    "Überprüfen Sie Ihr Programm mit den folgenden Beispielen:"
   ]
  },
  {
   "cell_type": "code",
   "execution_count": null,
   "id": "d6e3424c",
   "metadata": {
    "tags": [
     "solution"
    ]
   },
   "outputs": [],
   "source": [
    "pangram = \"Sphinx of black quartz, judge my vow!\""
   ]
  },
  {
   "cell_type": "code",
   "execution_count": null,
   "id": "0e486356",
   "metadata": {
    "tags": [
     "solution"
    ]
   },
   "outputs": [],
   "source": [
    "encoded_pangram = encode_caesar(pangram)\n",
    "encoded_pangram"
   ]
  },
  {
   "cell_type": "code",
   "execution_count": null,
   "id": "9433ffa0",
   "metadata": {
    "tags": [
     "solution"
    ]
   },
   "outputs": [],
   "source": [
    "verlaine = \"\"\"\\\n",
    "1. Les sanglots longs\n",
    "2. Des violons\n",
    "3. De l'automne\n",
    "4. Blessent mon cœur\n",
    "5. D'une langueur\n",
    "6. Monotone.\n",
    "\n",
    "(Verlaine, 1866)\n",
    "Gesendet vom BBC 1944-06-01 um Operation Overlord anzukündigen\n",
    "\"\"\""
   ]
  },
  {
   "cell_type": "code",
   "execution_count": null,
   "id": "c7d2ff3c",
   "metadata": {
    "tags": [
     "solution"
    ]
   },
   "outputs": [],
   "source": [
    "encoded_verlaine = encode_caesar(verlaine)\n",
    "encoded_verlaine"
   ]
  },
  {
   "cell_type": "markdown",
   "id": "aff6a12e",
   "metadata": {},
   "source": [
    "\n",
    "Schreiben Sie jetzt Funktionen `decode_char(c: str)` und `decode_caesar(\n",
    "text: str)`, die einen mit der Cäsar-Verschlüsselung verschlüsselten Text\n",
    "entschlüsseln. Um robust zu sein sollen diese Funktionen Zeichen, die nicht\n",
    "Buchstaben oder Ziffern sind unverändert zurückgeben."
   ]
  },
  {
   "cell_type": "code",
   "execution_count": null,
   "id": "f4ff1141",
   "metadata": {
    "tags": [
     "solution"
    ]
   },
   "outputs": [],
   "source": [
    "def decode_char(c: str):\n",
    "    if c in letters_in_encoded_order:\n",
    "        index = letters_in_encoded_order.index(c)\n",
    "        return letters_in_alphabetical_order[index]\n",
    "    else:\n",
    "        return c"
   ]
  },
  {
   "cell_type": "code",
   "execution_count": null,
   "id": "6d0991df",
   "metadata": {
    "tags": [
     "solution"
    ]
   },
   "outputs": [],
   "source": [
    "def decode_caesar(text: str):\n",
    "    return \"\".join(decode_char(c) for c in text)"
   ]
  },
  {
   "cell_type": "code",
   "execution_count": null,
   "id": "b18ebac9",
   "metadata": {
    "tags": [
     "solution"
    ]
   },
   "outputs": [],
   "source": [
    "def decode_caesar2(text: str):\n",
    "    result = \"\"\n",
    "    for c in text:\n",
    "        result += decode_char(c)\n",
    "    return result"
   ]
  },
  {
   "cell_type": "markdown",
   "id": "3b2c0cf5",
   "metadata": {},
   "source": [
    "Testen Sie `decode_caesar()` mit `pangram` und `verlaine`."
   ]
  },
  {
   "cell_type": "code",
   "execution_count": null,
   "id": "73e95ec4",
   "metadata": {
    "tags": [
     "solution"
    ]
   },
   "outputs": [],
   "source": [
    "decoded_pangram = decode_caesar(encoded_pangram)\n",
    "decoded_pangram"
   ]
  },
  {
   "cell_type": "code",
   "execution_count": null,
   "id": "756f673f",
   "metadata": {
    "tags": [
     "solution"
    ]
   },
   "outputs": [],
   "source": [
    "decoded_verlaine = decode_caesar(encoded_verlaine)\n",
    "print(decoded_verlaine)"
   ]
  },
  {
   "cell_type": "code",
   "execution_count": null,
   "id": "b34bb267",
   "metadata": {
    "tags": [
     "solution"
    ]
   },
   "outputs": [],
   "source": [
    "assert decoded_pangram == decode_caesar2(encoded_pangram)"
   ]
  },
  {
   "cell_type": "code",
   "execution_count": null,
   "id": "f5acd454",
   "metadata": {
    "tags": [
     "solution"
    ]
   },
   "outputs": [],
   "source": [
    "assert decoded_verlaine == decode_caesar2(encoded_verlaine)"
   ]
  },
  {
   "cell_type": "markdown",
   "id": "3b972d46",
   "metadata": {},
   "source": [
    "Entschlüsseln Sie den folgenden Text:\n",
    "```\n",
    "SDFN PB ERA ZLWK ILYH GRCHQ OLTXRU MXJV\n",
    "(SDQJUDP IURP QDVD'V VSDFH VKXWWOH SURJUDP)\n",
    "```"
   ]
  },
  {
   "cell_type": "code",
   "execution_count": null,
   "id": "ac7af06f",
   "metadata": {
    "tags": [
     "solution"
    ]
   },
   "outputs": [],
   "source": [
    "secret_text = \"\"\"\\\n",
    "SDFN PB ERA ZLWK ILYH GRCHQ OLTXRU MXJV\n",
    "(SDQJUDP IURP QDVD'V VSDFH VKXWWOH SURJUDP)\\\n",
    "\"\"\"\n",
    "print(decode_caesar(secret_text))"
   ]
  },
  {
   "cell_type": "markdown",
   "id": "c58f1911",
   "metadata": {
    "pycharm": {
     "is_executing": false,
     "name": "#%% md\n"
    }
   },
   "source": [
    "Die Funktionen `encode_char()` und `decode_char()` enthalten viel duplizierten\n",
    "Code. Können Sie eine Funktion `rot_n_char(...)` schreiben, die die\n",
    "Funktionalität beider Funktionen verallgemeinert?"
   ]
  },
  {
   "cell_type": "code",
   "execution_count": null,
   "id": "eff11447",
   "metadata": {
    "tags": [
     "solution"
    ]
   },
   "outputs": [],
   "source": [
    "def rot_n_char(c: str, n: int, keep_non_letters=False):\n",
    "    c_upper = c.upper()\n",
    "    if c_upper in letters_in_alphabetical_order:\n",
    "        source_index = letters_in_alphabetical_order.index(c_upper)\n",
    "        target_index = (source_index + n) % len(letters_in_alphabetical_order)\n",
    "        return letters_in_alphabetical_order[target_index]\n",
    "    elif keep_non_letters:\n",
    "        return c_upper\n",
    "    else:\n",
    "        return \"\""
   ]
  },
  {
   "cell_type": "markdown",
   "id": "20c25b1b",
   "metadata": {},
   "source": [
    "\n",
    "Wie würden Sie `encode_caesar_2()` und `decode_caesar_2()` unter\n",
    "Zuhilfenahme dieser Funktion implementieren?"
   ]
  },
  {
   "cell_type": "code",
   "execution_count": null,
   "id": "208116fd",
   "metadata": {
    "tags": [
     "solution"
    ]
   },
   "outputs": [],
   "source": [
    "def encode_caesar_2(text: str, keep_non_letters=False):\n",
    "    return \"\".join(rot_n_char(c, 3, keep_non_letters=keep_non_letters) for c in text)"
   ]
  },
  {
   "cell_type": "code",
   "execution_count": null,
   "id": "50962afc",
   "metadata": {
    "tags": [
     "solution"
    ]
   },
   "outputs": [],
   "source": [
    "def decode_caesar_2(text: str):\n",
    "    return \"\".join(rot_n_char(c, -3, keep_non_letters=True) for c in text)"
   ]
  },
  {
   "cell_type": "markdown",
   "id": "d3c92d44",
   "metadata": {},
   "source": [
    "Testen Sie die neue Funktion mittels `secret_text` und `verlaine`.\n",
    "Sind alte und neue Implementierung kompatibel?"
   ]
  },
  {
   "cell_type": "code",
   "execution_count": null,
   "id": "896ea416",
   "metadata": {
    "tags": [
     "solution"
    ]
   },
   "outputs": [],
   "source": [
    "print(decode_caesar_2(secret_text))"
   ]
  },
  {
   "cell_type": "code",
   "execution_count": null,
   "id": "b5f7d568",
   "metadata": {
    "tags": [
     "solution"
    ]
   },
   "outputs": [],
   "source": [
    "encoded_verlaine_2 = encode_caesar_2(verlaine, keep_non_letters=True)\n",
    "print(encoded_verlaine_2)"
   ]
  },
  {
   "cell_type": "code",
   "execution_count": null,
   "id": "a6eb7055",
   "metadata": {
    "tags": [
     "solution"
    ]
   },
   "outputs": [],
   "source": [
    "print(decode_caesar_2(encoded_verlaine_2))"
   ]
  },
  {
   "cell_type": "code",
   "execution_count": null,
   "id": "d8ab47e4",
   "metadata": {
    "tags": [
     "solution"
    ]
   },
   "outputs": [],
   "source": [
    "print(decode_caesar(encoded_verlaine_2))"
   ]
  },
  {
   "cell_type": "markdown",
   "id": "0689b6c5",
   "metadata": {},
   "source": [
    "Die Decodierung mit dem ursprünglichen Cäsar-Code zeigt, dass unsere neue\n",
    "Implementierung einen Fehler hat: sie vermischt Zahlen und Buchstaben. Wie\n",
    "können wir den Fehler beseitigen?"
   ]
  },
  {
   "cell_type": "code",
   "execution_count": null,
   "id": "b6313972",
   "metadata": {
    "tags": [
     "solution"
    ]
   },
   "outputs": [],
   "source": [
    "letters = \"ABCDEFGHIJKLMNOPQRSTUVWXYZ\"\n",
    "letters"
   ]
  },
  {
   "cell_type": "code",
   "execution_count": null,
   "id": "81ed7f63",
   "metadata": {
    "tags": [
     "solution"
    ]
   },
   "outputs": [],
   "source": [
    "def rot_n_char(c: str, n: int, keep_non_letters=False):\n",
    "    c_upper = c.upper()\n",
    "    if c_upper in letters:\n",
    "        source_index = letters.index(c_upper)\n",
    "        target_index = (source_index + n) % len(letters)\n",
    "        return letters[target_index]\n",
    "    elif c.isnumeric() or keep_non_letters:\n",
    "        return c_upper\n",
    "    else:\n",
    "        return \"\"\n",
    "\n",
    "\n",
    "def encode_caesar_2(text: str, keep_non_letters=False):\n",
    "    return \"\".join(rot_n_char(c, 3, keep_non_letters=keep_non_letters) for c in text)\n",
    "\n",
    "\n",
    "def decode_caesar_2(text: str):\n",
    "    return \"\".join(rot_n_char(c, -3, keep_non_letters=True) for c in text)"
   ]
  },
  {
   "cell_type": "markdown",
   "id": "77fede4b",
   "metadata": {},
   "source": [
    "Testen Sie die neue Implementierung indem Sie `secret_text` decodieren."
   ]
  },
  {
   "cell_type": "code",
   "execution_count": null,
   "id": "324a8069",
   "metadata": {
    "tags": [
     "solution"
    ]
   },
   "outputs": [],
   "source": [
    "print(decode_caesar_2(secret_text))"
   ]
  },
  {
   "cell_type": "markdown",
   "id": "e0cfcbb4",
   "metadata": {},
   "source": [
    "Testen Sie die neue Implementierung mit `verlaine`."
   ]
  },
  {
   "cell_type": "code",
   "execution_count": null,
   "id": "4ff3e8ac",
   "metadata": {
    "tags": [
     "solution"
    ]
   },
   "outputs": [],
   "source": [
    "encoded_verlaine_2 = encode_caesar_2(verlaine, keep_non_letters=True)\n",
    "print(encoded_verlaine_2)"
   ]
  },
  {
   "cell_type": "code",
   "execution_count": null,
   "id": "0985daba",
   "metadata": {
    "tags": [
     "solution"
    ]
   },
   "outputs": [],
   "source": [
    "print(decode_caesar_2(encoded_verlaine_2))"
   ]
  },
  {
   "cell_type": "code",
   "execution_count": null,
   "id": "37229824",
   "metadata": {
    "tags": [
     "solution"
    ]
   },
   "outputs": [],
   "source": [
    "print(decode_caesar(encoded_verlaine_2))"
   ]
  },
  {
   "cell_type": "code",
   "execution_count": null,
   "id": "51e90440",
   "metadata": {
    "tags": [
     "solution"
    ]
   },
   "outputs": [],
   "source": [
    "decode_caesar(encoded_verlaine_2) == decode_caesar_2(encoded_verlaine_2)"
   ]
  }
 ],
 "metadata": {
  "jupytext": {
   "encoding": "# -*- coding: utf-8 -*-",
   "formats": "ipynb"
  },
  "kernelspec": {
   "display_name": "Python 3 (ipykernel)",
   "language": "python",
   "name": "python3"
  }
 },
 "nbformat": 4,
 "nbformat_minor": 5
}
