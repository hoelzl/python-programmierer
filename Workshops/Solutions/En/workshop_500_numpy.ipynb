{
 "cells": [
  {
   "cell_type": "markdown",
   "id": "8eb8abd6",
   "metadata": {},
   "source": [
    "# Erzeugen von NumPy Arrays"
   ]
  },
  {
   "cell_type": "code",
   "execution_count": null,
   "id": "3d76f676",
   "metadata": {
    "tags": [
     "solution"
    ]
   },
   "outputs": [],
   "source": [
    "import numpy as np"
   ]
  },
  {
   "cell_type": "markdown",
   "id": "9c5cb98a",
   "metadata": {},
   "source": [
    "Erzeugen Sie folgende NumPy Arrays:"
   ]
  },
  {
   "cell_type": "markdown",
   "id": "7e9f5a37",
   "metadata": {},
   "source": [
    "```python\n",
    "array([0, 1, 2, 3, 4, 5, 6, 7, 8, 9])\n",
    "```"
   ]
  },
  {
   "cell_type": "code",
   "execution_count": null,
   "id": "811a7daa",
   "metadata": {
    "tags": [
     "solution"
    ]
   },
   "outputs": [],
   "source": [
    "np.arange(10)"
   ]
  },
  {
   "cell_type": "markdown",
   "id": "80df5bd2",
   "metadata": {},
   "source": [
    "```python\n",
    "array([0.  , 1.25, 2.5 , 3.75, 5.  ])\n",
    "```"
   ]
  },
  {
   "cell_type": "code",
   "execution_count": null,
   "id": "97c0ef87",
   "metadata": {
    "tags": [
     "solution"
    ]
   },
   "outputs": [],
   "source": [
    "np.linspace(0, 5, 5)"
   ]
  },
  {
   "cell_type": "markdown",
   "id": "6193e382",
   "metadata": {},
   "source": [
    "```python\n",
    "array([ 1,  3, 12, 92])\n",
    "```"
   ]
  },
  {
   "cell_type": "code",
   "execution_count": null,
   "id": "7c9f6d0c",
   "metadata": {
    "tags": [
     "solution"
    ]
   },
   "outputs": [],
   "source": [
    "np.array([1, 3, 12, 92])"
   ]
  },
  {
   "cell_type": "markdown",
   "id": "c03fe0da",
   "metadata": {},
   "source": [
    "```python\n",
    "array([[1, 2, 3, 4],\n",
    "       [5, 6, 7, 8]])\n",
    "```"
   ]
  },
  {
   "cell_type": "code",
   "execution_count": null,
   "id": "75976271",
   "metadata": {
    "tags": [
     "solution"
    ]
   },
   "outputs": [],
   "source": [
    "np.array([[1, 2, 3, 4], [5, 6, 7, 8]])"
   ]
  },
  {
   "cell_type": "markdown",
   "id": "fb0774b1",
   "metadata": {},
   "source": [
    "```python\n",
    "array([[[0, 2, 4, 6],\n",
    "        [1, 3, 5, 7]],\n",
    "\n",
    "       [[1, 2, 3, 4],\n",
    "        [5, 6, 7, 8]],\n",
    "\n",
    "       [[9, 8, 7, 6],\n",
    "        [5, 4, 3, 2]]])\n",
    "```"
   ]
  },
  {
   "cell_type": "code",
   "execution_count": null,
   "id": "609ed87a",
   "metadata": {
    "tags": [
     "solution"
    ]
   },
   "outputs": [],
   "source": [
    "np.array(\n",
    "    [\n",
    "        [[0, 2, 4, 6], [1, 3, 5, 7]],\n",
    "        [[1, 2, 3, 4], [5, 6, 7, 8]],\n",
    "        [[9, 8, 7, 6], [5, 4, 3, 2]],\n",
    "    ]\n",
    ")"
   ]
  },
  {
   "cell_type": "code",
   "execution_count": null,
   "id": "ccc42025",
   "metadata": {
    "tags": [
     "solution"
    ]
   },
   "outputs": [],
   "source": [
    "np.array(\n",
    "    [\n",
    "        [range(0, 7, 2), range(1, 8, 2)],\n",
    "        [range(1, 5), range(5, 9)],\n",
    "        [range(9, 5, -1), range(5, 1, -1)],\n",
    "    ]\n",
    ")"
   ]
  },
  {
   "cell_type": "markdown",
   "id": "8b5e5d67",
   "metadata": {},
   "source": [
    "Ein $2\\times 8$ Array, das gleichverteilte Zufallszahlen in $[0, 1)$ enthält."
   ]
  },
  {
   "cell_type": "code",
   "execution_count": null,
   "id": "048aac6b",
   "metadata": {
    "tags": [
     "solution"
    ]
   },
   "outputs": [],
   "source": [
    "np.random.rand(2, 8)"
   ]
  },
  {
   "cell_type": "markdown",
   "id": "3b8bf3d5",
   "metadata": {},
   "source": [
    "```python\n",
    "array([[1., 0., 0.],\n",
    "       [0., 1., 0.],\n",
    "       [0., 0., 1.]])\n",
    "```"
   ]
  },
  {
   "cell_type": "code",
   "execution_count": null,
   "id": "f7f9a233",
   "metadata": {
    "tags": [
     "solution"
    ]
   },
   "outputs": [],
   "source": [
    "np.eye(3)"
   ]
  },
  {
   "cell_type": "markdown",
   "id": "62b0291b",
   "metadata": {},
   "source": [
    "Einen Vektor der Länge 5, der standard-normalverteilte Zahlen enthält."
   ]
  },
  {
   "cell_type": "code",
   "execution_count": null,
   "id": "33a6e7d9",
   "metadata": {
    "tags": [
     "solution"
    ]
   },
   "outputs": [],
   "source": [
    "np.random.standard_normal(5)"
   ]
  },
  {
   "cell_type": "markdown",
   "id": "b42692f7",
   "metadata": {},
   "source": [
    "Ein $3 \\times 4$ Array, das normalverteilte Zahlen mit Mittelwert $5$ und Standardabweichung $0.5$ enthält."
   ]
  },
  {
   "cell_type": "code",
   "execution_count": null,
   "id": "90fe0e47",
   "metadata": {
    "tags": [
     "solution"
    ]
   },
   "outputs": [],
   "source": [
    "np.random.normal(5, 0.5, (3, 4))"
   ]
  },
  {
   "cell_type": "markdown",
   "id": "c20b6800",
   "metadata": {},
   "source": [
    "## Gleichungssysteme\n",
    "\n",
    "Lösen Sie folgendes Gleichungssystem:\n",
    "\n",
    "$x_1 - x_2 + 2x_3 = 6$\n",
    "\n",
    "$2x_1 + 3x_2 + 2x_3 = 8$\n",
    "\n",
    "$3x_1 + 2x_2 + x_3 = 8$"
   ]
  },
  {
   "cell_type": "code",
   "execution_count": null,
   "id": "7b2f05d2",
   "metadata": {
    "tags": [
     "solution"
    ]
   },
   "outputs": [],
   "source": [
    "a = np.array([[1.0, -1.0, 2.0], [2.0, 3.0, 2.0], [3.0, 2.0, 1.0]])\n",
    "b = np.array([6.0, 8.0, 8.0])"
   ]
  },
  {
   "cell_type": "code",
   "execution_count": null,
   "id": "cf02587e",
   "metadata": {
    "tags": [
     "solution"
    ]
   },
   "outputs": [],
   "source": [
    "import scipy.linalg as linalg\n",
    "\n",
    "lu = linalg.lu_factor(a)"
   ]
  },
  {
   "cell_type": "code",
   "execution_count": null,
   "id": "38c620b4",
   "metadata": {
    "tags": [
     "solution"
    ]
   },
   "outputs": [],
   "source": [
    "x = linalg.lu_solve(lu, b)"
   ]
  },
  {
   "cell_type": "code",
   "execution_count": null,
   "id": "066c5a21",
   "metadata": {
    "tags": [
     "solution"
    ]
   },
   "outputs": [],
   "source": [
    "x"
   ]
  },
  {
   "cell_type": "code",
   "execution_count": null,
   "id": "1a525ed9",
   "metadata": {
    "tags": [
     "solution"
    ]
   },
   "outputs": [],
   "source": [
    "a.dot(x)"
   ]
  },
  {
   "cell_type": "markdown",
   "id": "281ee119",
   "metadata": {},
   "source": [
    "# Erzeugen von NumPy Arrays 2\n",
    "\n",
    "Erzeugen Sie das folgende NumPy Array:\n",
    "\n",
    "```python\n",
    "array([[ 0,  2,  4,  6],\n",
    "       [ 8, 10, 12, 14],\n",
    "       [16, 18, 20, 22],\n",
    "       [24, 26, 28, 30],\n",
    "       [32, 34, 36, 38]])\n",
    "```"
   ]
  },
  {
   "cell_type": "code",
   "execution_count": null,
   "id": "770efd3d",
   "metadata": {
    "tags": [
     "solution"
    ]
   },
   "outputs": [],
   "source": [
    "np.arange(0, 40, 2).reshape(5, 4)"
   ]
  },
  {
   "cell_type": "markdown",
   "id": "945f2606",
   "metadata": {},
   "source": [
    "Erzeugen Sie das folgende NumPy Array:\n",
    "\n",
    "```python\n",
    "array([[10, 19, 28, 37, 46, 55],\n",
    "       [13, 22, 31, 40, 49, 58],\n",
    "       [16, 25, 34, 43, 52, 61]])\n",
    "```"
   ]
  },
  {
   "cell_type": "code",
   "execution_count": null,
   "id": "6960d8e6",
   "metadata": {
    "tags": [
     "solution"
    ]
   },
   "outputs": [],
   "source": [
    "np.arange(10, 64, 3).reshape(3, 6, order=\"F\")"
   ]
  },
  {
   "cell_type": "markdown",
   "id": "2a13f243",
   "metadata": {},
   "source": [
    "# Extrema\n",
    "\n",
    "Erzeugen Sie einen Vektor der Länge 100 mit Zufallswerten, die im Intervall\n",
    "$[10, 20)$ gleichverteilt sind.\n",
    "\n",
    "Berechnen Sie Minimum und Maximum der im Vektor\n",
    "enthaltenen Werte sowie die Positionen von Minimum und Maximum."
   ]
  },
  {
   "cell_type": "code",
   "execution_count": null,
   "id": "9f6d35de",
   "metadata": {
    "tags": [
     "solution"
    ]
   },
   "outputs": [],
   "source": [
    "vec = np.random.random(100) * 10 + 10\n",
    "vec[:10]"
   ]
  },
  {
   "cell_type": "code",
   "execution_count": null,
   "id": "eaad5398",
   "metadata": {
    "tags": [
     "solution"
    ]
   },
   "outputs": [],
   "source": [
    "vec.min()"
   ]
  },
  {
   "cell_type": "code",
   "execution_count": null,
   "id": "7c6d4b16",
   "metadata": {
    "tags": [
     "solution"
    ]
   },
   "outputs": [],
   "source": [
    "vec.argmin()"
   ]
  },
  {
   "cell_type": "code",
   "execution_count": null,
   "id": "b9a4d21b",
   "metadata": {
    "tags": [
     "solution"
    ]
   },
   "outputs": [],
   "source": [
    "vec.max()"
   ]
  },
  {
   "cell_type": "code",
   "execution_count": null,
   "id": "9310a36e",
   "metadata": {
    "tags": [
     "solution"
    ]
   },
   "outputs": [],
   "source": [
    "vec.argmax()"
   ]
  },
  {
   "cell_type": "markdown",
   "id": "20034773",
   "metadata": {},
   "source": [
    "# Mittelwert\n",
    "\n",
    "Erzeugen Sie ein $6 \\times 8$ Array, das standardverteilten Zahlen mit\n",
    "Mittelwert $2$ und Standardabweichung $1$ enthält.\n",
    "\n"
   ]
  },
  {
   "cell_type": "code",
   "execution_count": null,
   "id": "9f0e573d",
   "metadata": {
    "tags": [
     "solution"
    ]
   },
   "outputs": [],
   "source": [
    "my_array = np.random.normal(2.0, 1.0, (6, 8))"
   ]
  },
  {
   "cell_type": "markdown",
   "id": "5c6870dd",
   "metadata": {},
   "source": [
    "Berechnen Sie den Mittelwert aller darin vorkommenden Werte.\n"
   ]
  },
  {
   "cell_type": "code",
   "execution_count": null,
   "id": "1b9edd95",
   "metadata": {
    "tags": [
     "solution"
    ]
   },
   "outputs": [],
   "source": [
    "my_array.mean()"
   ]
  },
  {
   "cell_type": "markdown",
   "id": "55de188b",
   "metadata": {},
   "source": [
    "Berechnen Sie die zeilen- und spaltenweisen Mittelwerte."
   ]
  },
  {
   "cell_type": "code",
   "execution_count": null,
   "id": "03cbce10",
   "metadata": {
    "tags": [
     "solution"
    ]
   },
   "outputs": [],
   "source": [
    "my_array.mean(axis=0)"
   ]
  },
  {
   "cell_type": "code",
   "execution_count": null,
   "id": "fcdbb76b",
   "metadata": {
    "tags": [
     "solution"
    ]
   },
   "outputs": [],
   "source": [
    "my_array.mean(axis=1)"
   ]
  },
  {
   "cell_type": "markdown",
   "id": "38de5ad9",
   "metadata": {},
   "source": [
    "Berechnen Sie den Mittelwert aller vorkommenden Werte ohne Verwendung der\n",
    "Methode `mean()`."
   ]
  },
  {
   "cell_type": "code",
   "execution_count": null,
   "id": "fdb59ac2",
   "metadata": {
    "tags": [
     "solution"
    ]
   },
   "outputs": [],
   "source": [
    "mean = my_array.sum() / my_array.size\n",
    "mean"
   ]
  },
  {
   "cell_type": "markdown",
   "id": "f65c103a",
   "metadata": {},
   "source": [
    "Berechnen Sie die zeilen- und spaltenweisen Mittelwerte ohne Verwendung der\n",
    "Methode `mean()`."
   ]
  },
  {
   "cell_type": "code",
   "execution_count": null,
   "id": "92d70703",
   "metadata": {
    "tags": [
     "solution"
    ]
   },
   "outputs": [],
   "source": [
    "my_array.sum(axis=0) / my_array.shape[0]"
   ]
  },
  {
   "cell_type": "code",
   "execution_count": null,
   "id": "d8ce36cf",
   "metadata": {
    "tags": [
     "solution"
    ]
   },
   "outputs": [],
   "source": [
    "my_array.sum(axis=1) / my_array.shape[1]"
   ]
  },
  {
   "cell_type": "markdown",
   "id": "ec0bdb60",
   "metadata": {},
   "source": [
    "# Roulette\n",
    "\n",
    "Analysieren Sie die Gewinnerwartung eines Spielers in folgender\n",
    "vereinfachter Form eines Roulettespiels mittels Monte Carlo Simulation:\n",
    "\n",
    "- Der Kessel ist in 36 Zahlen unterteilt.\n",
    "- Der Spieler wählt eine der Zahlen 1 bis 36 und wettet 1 Euro.\n",
    "- Fällt die Kugel auf die gewählte Zahl, so erhält der Spieler seinen Einsatz\n",
    "  plus 35 Euro zurück.\n",
    "- Andernfalls verliert der Spieler seinen Einsatz.\n",
    "\n",
    "Schreiben Sie eine Version der Simulation mit `for`-Schleife in Python und\n",
    "testen Sie die Performance dieser Version vor und nach Kompilierung mit\n",
    "Numba. Schreiben Sie dann eine vektorisierte Version und testen Sie deren\n",
    "Performance in beiden Fällen.\n",
    "\n",
    "*Hinweise:*\n",
    "- Die NumPy Bibliothek enthält eine Funktion\n",
    "  `np.random.randint(low, high, size=None)`, mit der Sie ein Array mit Shape\n",
    "  `size` erzeugen können, das gleichverteilte Zufallszahlen zwischen `low`\n",
    "  (inklusive) und `high` (exklusive) enthält.\n",
    "- Wird `np.random.randint()` mit nur zwei Argumenten aufgerufen, so gibt es\n",
    "  eine einzige Zahl zurück.\n",
    "- Die NumPy Bibliothek enthält eine Funtion\n",
    "  `np.random.binomial(n, p, size=None)`, mit der Sie binomialverteilte\n",
    "  Zufallszahlen erzeugen können."
   ]
  },
  {
   "cell_type": "code",
   "execution_count": null,
   "id": "a8096c7e",
   "metadata": {
    "tags": [
     "solution"
    ]
   },
   "outputs": [],
   "source": [
    "import numpy as np"
   ]
  },
  {
   "cell_type": "code",
   "execution_count": null,
   "id": "6d77baeb",
   "metadata": {
    "tags": [
     "solution"
    ]
   },
   "outputs": [],
   "source": [
    "def roulette1(n):\n",
    "    # Wir können davon ausgehen, dass der Spieler immer auf die 1 wettet\n",
    "    money_spent = 0\n",
    "    money_won = 0\n",
    "    for i in range(n):\n",
    "        money_spent += 1\n",
    "        if np.random.randint(1, 37) == 1:\n",
    "            money_won += 36\n",
    "    return (money_won - money_spent) / n"
   ]
  },
  {
   "cell_type": "code",
   "execution_count": null,
   "id": "f18e6b83",
   "metadata": {
    "tags": [
     "solution"
    ]
   },
   "outputs": [],
   "source": [
    "def test_roulette(roulette):\n",
    "    np.random.seed(123)\n",
    "    for n in [1000, 100_000, 1_000_000]:\n",
    "        %time print(f\"Gewinnerwartung ist {100 * roulette(n):.1f}% ({n} Versuche)\")\n",
    "        print(f\"Gewinnerwartung ist {100 * roulette(n):.1f}% ({n} Versuche)\")"
   ]
  },
  {
   "cell_type": "code",
   "execution_count": null,
   "id": "75e9059b",
   "metadata": {
    "tags": [
     "solution"
    ]
   },
   "outputs": [],
   "source": [
    "test_roulette(roulette1)"
   ]
  },
  {
   "cell_type": "code",
   "execution_count": null,
   "id": "732703bd",
   "metadata": {
    "tags": [
     "solution"
    ]
   },
   "outputs": [],
   "source": [
    "import numba\n",
    "\n",
    "roulette1_nb = numba.jit(roulette1)"
   ]
  },
  {
   "cell_type": "code",
   "execution_count": null,
   "id": "a7a18415",
   "metadata": {
    "tags": [
     "solution"
    ]
   },
   "outputs": [],
   "source": [
    "test_roulette(roulette1_nb)"
   ]
  },
  {
   "cell_type": "code",
   "execution_count": null,
   "id": "a8a60c64",
   "metadata": {
    "tags": [
     "solution"
    ]
   },
   "outputs": [],
   "source": [
    "def roulette2(n):\n",
    "    money_spent = np.ones(n)\n",
    "    money_won = np.random.binomial(1, 1.0 / 36.0, n) * 36\n",
    "    return (money_won - money_spent).sum() / n"
   ]
  },
  {
   "cell_type": "code",
   "execution_count": null,
   "id": "15959f87",
   "metadata": {
    "tags": [
     "solution"
    ]
   },
   "outputs": [],
   "source": [
    "test_roulette(roulette2)"
   ]
  },
  {
   "cell_type": "code",
   "execution_count": null,
   "id": "82848f70",
   "metadata": {
    "tags": [
     "solution"
    ]
   },
   "outputs": [],
   "source": [
    "roulette2_nb = numba.jit(roulette2)"
   ]
  },
  {
   "cell_type": "code",
   "execution_count": null,
   "id": "68ba23d1",
   "metadata": {
    "tags": [
     "solution"
    ]
   },
   "outputs": [],
   "source": [
    "test_roulette(roulette2_nb)"
   ]
  },
  {
   "cell_type": "code",
   "execution_count": null,
   "id": "b30a4d88",
   "metadata": {
    "tags": [
     "solution"
    ]
   },
   "outputs": [],
   "source": [
    "def roulette3(n):\n",
    "    money_spent = n\n",
    "    money_won = np.random.binomial(n, 1.0 / 36.0) * 36\n",
    "    return (money_won - money_spent) / n"
   ]
  },
  {
   "cell_type": "code",
   "execution_count": null,
   "id": "011380ac",
   "metadata": {
    "tags": [
     "solution"
    ]
   },
   "outputs": [],
   "source": [
    "test_roulette(roulette3)"
   ]
  },
  {
   "cell_type": "code",
   "execution_count": null,
   "id": "b81bf3c2",
   "metadata": {
    "tags": [
     "solution"
    ]
   },
   "outputs": [],
   "source": [
    "roulette3_nb = numba.jit(roulette3)"
   ]
  },
  {
   "cell_type": "code",
   "execution_count": null,
   "id": "aa854f4d",
   "metadata": {
    "tags": [
     "solution"
    ]
   },
   "outputs": [],
   "source": [
    "test_roulette(roulette3_nb)"
   ]
  },
  {
   "cell_type": "code",
   "execution_count": null,
   "id": "fde8abee",
   "metadata": {
    "tags": [
     "solution"
    ]
   },
   "outputs": [],
   "source": [
    "roulette3(100_000_000)"
   ]
  },
  {
   "cell_type": "code",
   "execution_count": null,
   "id": "ca913617",
   "metadata": {},
   "outputs": [],
   "source": []
  }
 ],
 "metadata": {
  "jupytext": {
   "encoding": "# -*- coding: utf-8 -*-",
   "formats": "ipynb"
  },
  "kernelspec": {
   "display_name": "Python 3 (ipykernel)",
   "language": "python",
   "name": "python3"
  }
 },
 "nbformat": 4,
 "nbformat_minor": 5
}
