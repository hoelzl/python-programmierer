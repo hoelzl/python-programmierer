{
 "cells": [
  {
   "cell_type": "markdown",
   "id": "5becb761",
   "metadata": {
    "lang": "en"
   },
   "source": [
    "# Even number\n",
    "\n",
    "Write a function `is_even(number)` that returns `True`,\n",
    "if `number` is even and `False` if `number` is odd."
   ]
  },
  {
   "cell_type": "code",
   "execution_count": null,
   "id": "631351ef",
   "metadata": {
    "tags": [
     "solution"
    ]
   },
   "outputs": [],
   "source": [
    "def ist_gerade(zahl):\n",
    "    return zahl % 2 == 0"
   ]
  },
  {
   "cell_type": "markdown",
   "id": "d7aec6c6",
   "metadata": {
    "lang": "en"
   },
   "source": [
    "Write a function `print_is_even(number)` that\n",
    "\n",
    "- prints `{number} is even.` on the screen if `number` is even and\n",
    "- Prints `{number} is not even.` to the screen if `number` is not\n",
    "  is straight."
   ]
  },
  {
   "cell_type": "code",
   "execution_count": null,
   "id": "74f40eac",
   "metadata": {
    "tags": [
     "solution"
    ]
   },
   "outputs": [],
   "source": [
    "def drucke_ist_gerade(zahl):\n",
    "    if ist_gerade(zahl):\n",
    "        print(f\"{zahl} ist gerade.\")\n",
    "    else:\n",
    "        print(f\"{zahl} ist nicht gerade.\")"
   ]
  },
  {
   "cell_type": "markdown",
   "id": "b46dfc0b",
   "metadata": {
    "lang": "en"
   },
   "source": [
    "Test `print_is_even(number)` with the values ​​0, 1 and 8."
   ]
  },
  {
   "cell_type": "code",
   "execution_count": null,
   "id": "14ba422d",
   "metadata": {
    "tags": [
     "solution"
    ]
   },
   "outputs": [],
   "source": [
    "drucke_ist_gerade(0)\n",
    "drucke_ist_gerade(1)\n",
    "drucke_ist_gerade(8)"
   ]
  },
  {
   "cell_type": "markdown",
   "id": "44dd659a",
   "metadata": {
    "lang": "en"
   },
   "source": [
    "# Positive / Negative\n",
    "\n",
    "Write a function `print_is_positive(number)` that\n",
    "\n",
    "- prints `{number} is positive.` on the screen if `number > 0`,\n",
    "- prints `{number} is zero.` on the screen if `number == 0`,\n",
    "- Print `{number} is negative.` to the screen if `number < 0`."
   ]
  },
  {
   "cell_type": "code",
   "execution_count": null,
   "id": "696d7494",
   "metadata": {
    "tags": [
     "solution"
    ]
   },
   "outputs": [],
   "source": [
    "def drucke_ist_positiv(zahl):\n",
    "    if zahl > 0:\n",
    "        print(f\"{zahl} ist positiv.\")\n",
    "    elif zahl < 0:\n",
    "        print(f\"{zahl} ist negativ.\")\n",
    "    else:\n",
    "        print(\"0 ist Null.\")"
   ]
  },
  {
   "cell_type": "markdown",
   "id": "80b4e7cf",
   "metadata": {
    "lang": "en"
   },
   "source": [
    "Test `print_is_positive(number)` with the values ​​-3, 0 and 2."
   ]
  },
  {
   "cell_type": "code",
   "execution_count": null,
   "id": "be4940cb",
   "metadata": {
    "tags": [
     "solution"
    ]
   },
   "outputs": [],
   "source": [
    "drucke_ist_positiv(-3)\n",
    "drucke_ist_positiv(0)\n",
    "drucke_ist_positiv(2)"
   ]
  },
  {
   "cell_type": "code",
   "execution_count": null,
   "id": "a2bd553b",
   "metadata": {
    "tags": [
     "solution"
    ]
   },
   "outputs": [],
   "source": [
    "def klassifiziere_positiv_negativ(zahl):\n",
    "    if zahl > 0:\n",
    "        return f\"{zahl} ist positiv.\"\n",
    "    elif zahl < 0:\n",
    "        return f\"{zahl} ist negativ.\"\n",
    "    else:\n",
    "        return \"0 ist Null.\"\n",
    "\n",
    "\n",
    "def drucke_ist_positiv_2(zahl):\n",
    "    print(klassifiziere_positiv_negativ(zahl))"
   ]
  },
  {
   "cell_type": "code",
   "execution_count": null,
   "id": "256e2d94",
   "metadata": {
    "tags": [
     "solution"
    ]
   },
   "outputs": [],
   "source": [
    "drucke_ist_positiv_2(-3)\n",
    "drucke_ist_positiv_2(0)\n",
    "drucke_ist_positiv_2(2)"
   ]
  },
  {
   "cell_type": "markdown",
   "id": "ed10d93d",
   "metadata": {
    "lang": "en"
   },
   "source": [
    "# Signum\n",
    "\n",
    "Write a function `signum(number)` that\n",
    "\n",
    "- returns 1 if `number > 0`,\n",
    "- returns 0 if `number == 0`,\n",
    "- returns -1 if `number < 0`."
   ]
  },
  {
   "cell_type": "code",
   "execution_count": null,
   "id": "4b50e65c",
   "metadata": {
    "tags": [
     "solution"
    ]
   },
   "outputs": [],
   "source": [
    "def signum(zahl):\n",
    "    if zahl > 0:\n",
    "        return 1\n",
    "    elif zahl == 0:\n",
    "        return 0\n",
    "    else:\n",
    "        return -1"
   ]
  },
  {
   "cell_type": "markdown",
   "id": "5c2cda89",
   "metadata": {
    "lang": "en"
   },
   "source": [
    "Test the function for representative values."
   ]
  },
  {
   "cell_type": "code",
   "execution_count": null,
   "id": "5e62d1a4",
   "metadata": {
    "tags": [
     "solution"
    ]
   },
   "outputs": [],
   "source": [
    "signum(-10)"
   ]
  },
  {
   "cell_type": "code",
   "execution_count": null,
   "id": "a37a7595",
   "metadata": {
    "tags": [
     "solution"
    ]
   },
   "outputs": [],
   "source": [
    "signum(0)"
   ]
  },
  {
   "cell_type": "code",
   "execution_count": null,
   "id": "345465d4",
   "metadata": {
    "tags": [
     "solution"
    ]
   },
   "outputs": [],
   "source": [
    "signum(2)"
   ]
  },
  {
   "cell_type": "markdown",
   "id": "2d5adf39",
   "metadata": {
    "lang": "en"
   },
   "source": [
    "# Conversion to miles\n",
    "\n",
    "Write a function `convert_km_to_miles(km)` that converts the value `km` from kilometers to miles (i.e. the value in miles is returned).\n",
    "\n",
    "*Note:*\n",
    "- One kilometer equals $0,621371$ miles"
   ]
  },
  {
   "cell_type": "code",
   "execution_count": null,
   "id": "809b3510",
   "metadata": {
    "tags": [
     "solution"
    ]
   },
   "outputs": [],
   "source": [
    "def konvertiere_km_nach_meilen(km):\n",
    "    return km * 0.621371"
   ]
  },
  {
   "cell_type": "markdown",
   "id": "350764c0",
   "metadata": {
    "lang": "en"
   },
   "source": [
    "Test `convert_km_to_miles(km)` for 1 and 5 km."
   ]
  },
  {
   "cell_type": "code",
   "execution_count": null,
   "id": "e565ddb6",
   "metadata": {
    "tags": [
     "solution"
    ]
   },
   "outputs": [],
   "source": [
    "konvertiere_km_nach_meilen(1)"
   ]
  },
  {
   "cell_type": "code",
   "execution_count": null,
   "id": "1954b132",
   "metadata": {
    "tags": [
     "solution"
    ]
   },
   "outputs": [],
   "source": [
    "konvertiere_km_nach_meilen(5)"
   ]
  },
  {
   "cell_type": "markdown",
   "id": "5f3e8fac",
   "metadata": {
    "lang": "en"
   },
   "source": [
    "Write a function `miles_app()` that reads a length in kilometers from the user and prints out the equivalent distance in miles. If the user enters an empty string, `Please enter a valid distance in km.` should be printed on the screen.\n",
    "\n",
    "*Notes*\n",
    "- A string can be converted to a float value with `float()`."
   ]
  },
  {
   "cell_type": "code",
   "execution_count": null,
   "id": "e60bf750",
   "metadata": {
    "tags": [
     "solution"
    ]
   },
   "outputs": [],
   "source": [
    "def meilen_app():\n",
    "    km = input(\"Bitte geben Sie eine Entfernung in km ein: \")\n",
    "    if km != \"\":\n",
    "        meilen = konvertiere_km_nach_meilen(float(km))\n",
    "        print(f\"{km} km sind {meilen} Meilen\")\n",
    "    else:\n",
    "        print(\"Bitte geben Sie eine gültige Entfernung in km ein.\")"
   ]
  },
  {
   "cell_type": "code",
   "execution_count": null,
   "id": "f2002f6e",
   "metadata": {
    "tags": [
     "solution"
    ]
   },
   "outputs": [],
   "source": [
    "meilen_app()"
   ]
  },
  {
   "cell_type": "markdown",
   "id": "261795cf",
   "metadata": {
    "lang": "en"
   },
   "source": [
    "# Conversion to miles with Truthiness\n",
    "\n",
    "Write a function `miles_app_2` that behaves similar to `miles_app` but exploits the truthiness of strings. Are there any inputs for which the behavior differs?"
   ]
  },
  {
   "cell_type": "code",
   "execution_count": null,
   "id": "1ee3c0e1",
   "metadata": {
    "tags": [
     "solution"
    ]
   },
   "outputs": [],
   "source": [
    "def meilen_app_2():\n",
    "    km = input(\"Bitte geben Sie eine Entfernung in km ein: \")\n",
    "    if km:\n",
    "        meilen = konvertiere_km_nach_meilen(float(km))\n",
    "        print(f\"{km} km sind {meilen} Meilen\")\n",
    "    else:\n",
    "        print(\"Bitte geben Sie eine gültige Entfernung in km ein.\")"
   ]
  },
  {
   "cell_type": "code",
   "execution_count": null,
   "id": "bb077321",
   "metadata": {
    "tags": [
     "solution"
    ]
   },
   "outputs": [],
   "source": [
    "# meilen_app_2()"
   ]
  },
  {
   "cell_type": "markdown",
   "id": "2e776e24",
   "metadata": {
    "lang": "en"
   },
   "source": [
    "# Cinema price\n",
    "\n",
    "The Python-Cinema has the following entrance fees:\n",
    "\n",
    "- Infants under 2 years are free.\n",
    "- Children from 2-12 years pay 2 euros.\n",
    "- Teenagers aged 13-17 pay 5 euros.\n",
    "- Adults pay 10 euros.\n",
    "- Pensioners (over 65) pay 6 euros.\n",
    "\n",
    "Write a function `cinema_price(age)` that returns the price in Euros a person with age `age` has to pay."
   ]
  },
  {
   "cell_type": "code",
   "execution_count": null,
   "id": "ff18aac7",
   "metadata": {
    "tags": [
     "solution"
    ]
   },
   "outputs": [],
   "source": [
    "def kinopreis(alter):\n",
    "    if alter < 2:\n",
    "        return 0\n",
    "    elif alter <= 12:\n",
    "        return 2\n",
    "    elif alter <= 17:\n",
    "        return 5\n",
    "    elif alter < 65:\n",
    "        return 10\n",
    "    else:\n",
    "        return 6"
   ]
  },
  {
   "cell_type": "markdown",
   "id": "08dc72e9",
   "metadata": {
    "lang": "en"
   },
   "source": [
    "Test the function `cinema_price()` for some representative values."
   ]
  },
  {
   "cell_type": "code",
   "execution_count": null,
   "id": "b22513f8",
   "metadata": {
    "tags": [
     "solution"
    ]
   },
   "outputs": [],
   "source": [
    "kinopreis(1)"
   ]
  },
  {
   "cell_type": "code",
   "execution_count": null,
   "id": "450357c5",
   "metadata": {
    "tags": [
     "solution"
    ]
   },
   "outputs": [],
   "source": [
    "kinopreis(7)"
   ]
  },
  {
   "cell_type": "code",
   "execution_count": null,
   "id": "9ca2ba4a",
   "metadata": {
    "tags": [
     "solution"
    ]
   },
   "outputs": [],
   "source": [
    "kinopreis(15)"
   ]
  },
  {
   "cell_type": "code",
   "execution_count": null,
   "id": "e5b1deec",
   "metadata": {
    "tags": [
     "solution"
    ]
   },
   "outputs": [],
   "source": [
    "kinopreis(25)"
   ]
  },
  {
   "cell_type": "code",
   "execution_count": null,
   "id": "ce20346c",
   "metadata": {
    "tags": [
     "solution"
    ]
   },
   "outputs": [],
   "source": [
    "kinopreis(70)"
   ]
  },
  {
   "cell_type": "markdown",
   "id": "46b3bf3c",
   "metadata": {
    "lang": "en"
   },
   "source": [
    "Write a function `print_cinema_price(age)`, that prints a text of the following type on the screen:\n",
    "\n",
    "```\n",
    "You are 1 year old. Their price is 0 euros.\n",
    "You are 15 years old. Their price is 5 euros.\n",
    "```"
   ]
  },
  {
   "cell_type": "code",
   "execution_count": null,
   "id": "3cfae3b8",
   "metadata": {
    "tags": [
     "solution"
    ]
   },
   "outputs": [],
   "source": [
    "def drucke_kinopreis(alter):\n",
    "    preis = kinopreis(alter)\n",
    "    if alter == 1:\n",
    "        print(\"Sie sind 1 Jahr alt. Ihr Preis beträgt {preis} Euro.\")\n",
    "    else:\n",
    "        print(f\"Sie sind {alter} Jahre alt. Ihr Preis beträgt {preis} Euro.\")"
   ]
  },
  {
   "cell_type": "markdown",
   "id": "e2d6ca46",
   "metadata": {
    "lang": "en"
   },
   "source": [
    "Test `print_cinema_price()` for representative values."
   ]
  },
  {
   "cell_type": "code",
   "execution_count": null,
   "id": "2a9deade",
   "metadata": {
    "tags": [
     "solution"
    ]
   },
   "outputs": [],
   "source": [
    "drucke_kinopreis(1)\n",
    "drucke_kinopreis(7)\n",
    "drucke_kinopreis(15)\n",
    "drucke_kinopreis(25)\n",
    "drucke_kinopreis(70)"
   ]
  },
  {
   "cell_type": "markdown",
   "id": "4cca78b7",
   "metadata": {
    "lang": "en"
   },
   "source": [
    "Write a function `cinema_app()` that reads an age and prints the\n",
    "cinema price for a person of this age in the format just described. Two example interactions:\n",
    "\n",
    "```\n",
    "How old are they? 37\n",
    "You are 37 years old. Their price is 10 euros.\n",
    "\n",
    "How old are they? 12\n",
    "You are 12 years old. Their price is 2 euros.\n",
    "```"
   ]
  },
  {
   "cell_type": "code",
   "execution_count": null,
   "id": "1b876bcb",
   "metadata": {
    "tags": [
     "solution"
    ]
   },
   "outputs": [],
   "source": [
    "def kino_app():\n",
    "    alter = input(\"Wie alt sind Sie? \")\n",
    "    if alter:\n",
    "        drucke_kinopreis(int(alter))\n",
    "    else:\n",
    "        \"Bitte geben Sie ein gültiges Alter ein.\""
   ]
  },
  {
   "cell_type": "code",
   "execution_count": null,
   "id": "f42ecd5d",
   "metadata": {},
   "outputs": [],
   "source": [
    "# kino_app()"
   ]
  },
  {
   "cell_type": "markdown",
   "id": "4324ec9e",
   "metadata": {
    "lang": "en"
   },
   "source": [
    "# Guessing games\n",
    "\n",
    "The following simple \"games\" allow the player unlimited number of\n",
    "inputs. Therefore, it makes sense to use a while loop\n",
    "to implement them.\n",
    "\n",
    "### Guess a word\n",
    "\n",
    "Implement a function `guess_word(solution)` that prompts the user for a word and\n",
    "keeps asking until the word typed by the user matches `solution`."
   ]
  },
  {
   "cell_type": "code",
   "execution_count": null,
   "id": "328b41b5",
   "metadata": {
    "tags": [
     "solution"
    ]
   },
   "outputs": [],
   "source": [
    "def rate_wort(lösung):\n",
    "    geratenes_wort = input(\"Bitte geben Sie ein Wort ein: \")\n",
    "    while geratenes_wort != lösung:\n",
    "        geratenes_wort = input(\"Bitte versuchen Sie es nochmal: \")\n",
    "    print(\"Genau!\")"
   ]
  },
  {
   "cell_type": "code",
   "execution_count": null,
   "id": "48fbfc3e",
   "metadata": {},
   "outputs": [],
   "source": [
    "# rate_wort(\"Haus\")"
   ]
  },
  {
   "cell_type": "markdown",
   "id": "0c099941",
   "metadata": {
    "lang": "en"
   },
   "source": [
    "### Number guesses\n",
    "\n",
    "Implement a function `guess_number(solution)` that asks the user for a number and keeps asking until the user has guessed the solution. After every input the function should display whether the entered number\n",
    "is too big, too small or the correct number."
   ]
  },
  {
   "cell_type": "code",
   "execution_count": null,
   "id": "540b861e",
   "metadata": {
    "tags": [
     "solution"
    ]
   },
   "outputs": [],
   "source": [
    "def rate_zahl(lösung):\n",
    "    geratene_zahl = input(\"Bitte geben Sie eine Zahl ein: \")\n",
    "    while int(geratene_zahl) != lösung:\n",
    "        if int(geratene_zahl) < lösung:\n",
    "            print(f\"{geratene_zahl} ist zu klein.\")\n",
    "        else:\n",
    "            print(f\"{geratene_zahl} ist zu groß.\")\n",
    "        geratene_zahl = input(\"Bitte versuchen Sie es noch einmal: \")\n",
    "    print(\"Sie haben gewonnen!\")"
   ]
  },
  {
   "cell_type": "code",
   "execution_count": null,
   "id": "89e881ec",
   "metadata": {},
   "outputs": [],
   "source": [
    "# rate_zahl(23)"
   ]
  },
  {
   "cell_type": "markdown",
   "id": "e72adc20",
   "metadata": {
    "lang": "en"
   },
   "source": [
    "How do you have to modify your solution to allow the player to input\n",
    "an empty string to abort the game?"
   ]
  },
  {
   "cell_type": "code",
   "execution_count": null,
   "id": "1143dcb1",
   "metadata": {
    "tags": [
     "solution"
    ]
   },
   "outputs": [],
   "source": [
    "def rate_zahl_1(lösung):\n",
    "    geratene_zahl = input(\"Bitte geben Sie eine Zahl ein: \")\n",
    "    while geratene_zahl and int(geratene_zahl) != lösung:\n",
    "        if int(geratene_zahl) < lösung:\n",
    "            print(f\"{geratene_zahl} ist zu klein.\")\n",
    "        else:\n",
    "            print(f\"{geratene_zahl} ist zu groß.\")\n",
    "        geratene_zahl = input(\"Bitte versuchen Sie es noch einmal: \")\n",
    "    if geratene_zahl:\n",
    "        print(\"Sie haben gewonnen!\")\n",
    "    else:\n",
    "        print(\"Aufgeben ist feige!\")"
   ]
  },
  {
   "cell_type": "code",
   "execution_count": null,
   "id": "f45446ec",
   "metadata": {
    "tags": [
     "solution"
    ]
   },
   "outputs": [],
   "source": [
    "# rate_zahl_1(23)"
   ]
  },
  {
   "cell_type": "markdown",
   "id": "549790fa",
   "metadata": {
    "lang": "en"
   },
   "source": [
    "Solution using the `classify_number` function"
   ]
  },
  {
   "cell_type": "code",
   "execution_count": null,
   "id": "6e73b4e8",
   "metadata": {
    "tags": [
     "solution"
    ]
   },
   "outputs": [],
   "source": [
    "def klassifiziere_zahl(geratene_zahl, lösung):\n",
    "    if geratene_zahl < lösung:\n",
    "        return False, \"Die geratene Zahl ist zu klein! \"\n",
    "    elif geratene_zahl > lösung:\n",
    "        return False, \"Die geratene Zahl ist zu groß! \"\n",
    "    else:\n",
    "        return True, \"Sie haben gewonnen!\""
   ]
  },
  {
   "cell_type": "code",
   "execution_count": null,
   "id": "17b7a9c5",
   "metadata": {
    "tags": [
     "solution"
    ]
   },
   "outputs": [],
   "source": [
    "def rate_zahl_2(lösung):\n",
    "    geratene_zahl = input(\"Bitte geben Sie eine Zahl ein: \")\n",
    "    erfolg, hinweis = klassifiziere_zahl(int(geratene_zahl), lösung)\n",
    "    while not erfolg:\n",
    "        geratene_zahl = input(hinweis)\n",
    "        erfolg, hinweis = klassifiziere_zahl(int(geratene_zahl), lösung)\n",
    "    print(\"Sie haben gewonnen!\")"
   ]
  },
  {
   "cell_type": "code",
   "execution_count": null,
   "id": "406dcf18",
   "metadata": {
    "tags": [
     "solution"
    ]
   },
   "outputs": [],
   "source": [
    "# rate_zahl_2(23)"
   ]
  },
  {
   "cell_type": "markdown",
   "id": "ec7984ad",
   "metadata": {
    "lang": "en"
   },
   "source": [
    "# Rock, Paper, Scissors\n",
    "\n",
    "In Rock, Paper, Scissors, two players play against each other. Each of the two players\n",
    "selects one of the three symbols \"scissors\", \"rock\" or \"paper\" (without knowing the other player's\n",
    "choice). If both players have chosen the same\n",
    "symbol, the game is a tie. Otherwise:\n",
    "\n",
    "- Scissors beats paper\n",
    "- Paper beats stone\n",
    "- Rock beats scissors\n",
    "\n",
    "Write a function `evaluate_a_round_of_rps(player1, player2)`, which evaluates whether the round ended in a draw or\n",
    "whether one of the players won. To do this, the function should return one of the following values:\n",
    "\n",
    "- 0 if the round was a draw\n",
    "- 1 if player 1 won\n",
    "- 2 if player 2 won\n",
    "\n",
    "If one of the players has made an invalid entry, the\n",
    "Function should throw an exception of user-defined type `BadInputException`, in which the number of the player who is at fault is stored. (If both players made an invalid entry any player can be stored.)"
   ]
  },
  {
   "cell_type": "code",
   "execution_count": null,
   "id": "58c73512",
   "metadata": {
    "tags": [
     "solution"
    ]
   },
   "outputs": [],
   "source": [
    "class BadInputError(ValueError):\n",
    "    def __init__(self, msg, invalid_player):\n",
    "        super().__init__(msg)\n",
    "        self.invalid_player = invalid_player\n",
    "\n",
    "\n",
    "def evaluiere_eine_runde_knobeln(spieler1, spieler2):\n",
    "    if spieler1 == spieler2 and spieler1 in [\"schere\", \"papier\", \"stein\"]:\n",
    "        return 0\n",
    "    elif spieler1 == \"schere\":\n",
    "        if spieler2 == \"papier\":\n",
    "            return 1\n",
    "        elif spieler2 == \"stein\":\n",
    "            return 2\n",
    "        else:\n",
    "            raise BadInputError(\"Ungültiges Symbol von Spieler 2\", 2)\n",
    "    elif spieler1 == \"papier\":\n",
    "        if spieler2 == \"stein\":\n",
    "            return 1\n",
    "        elif spieler2 == \"schere\":\n",
    "            return 2\n",
    "        else:\n",
    "            raise BadInputError(\"Ungültiges Symbol von Spieler 2\", 2)\n",
    "    elif spieler1 == \"stein\":\n",
    "        if spieler2 == \"schere\":\n",
    "            return 1\n",
    "        elif spieler2 == \"papier\":\n",
    "            return 2\n",
    "        else:\n",
    "            raise BadInputError(\"Ungültiges Symbol von Spieler 2\", 2)\n",
    "    else:\n",
    "        raise BadInputError(\"Ungültiges Symbol von Spieler 1\", 1)"
   ]
  },
  {
   "cell_type": "markdown",
   "id": "435a9c74",
   "metadata": {
    "lang": "en"
   },
   "source": [
    "Test all possible paths through your function."
   ]
  },
  {
   "cell_type": "code",
   "execution_count": null,
   "id": "e499a7d9",
   "metadata": {
    "tags": [
     "solution"
    ]
   },
   "outputs": [],
   "source": [
    "assert evaluiere_eine_runde_knobeln(\"schere\", \"schere\") == 0"
   ]
  },
  {
   "cell_type": "code",
   "execution_count": null,
   "id": "d70f38be",
   "metadata": {
    "tags": [
     "solution"
    ]
   },
   "outputs": [],
   "source": [
    "assert evaluiere_eine_runde_knobeln(\"papier\", \"papier\") == 0"
   ]
  },
  {
   "cell_type": "code",
   "execution_count": null,
   "id": "6aa0ab87",
   "metadata": {
    "tags": [
     "solution"
    ]
   },
   "outputs": [],
   "source": [
    "assert evaluiere_eine_runde_knobeln(\"stein\", \"stein\") == 0"
   ]
  },
  {
   "cell_type": "code",
   "execution_count": null,
   "id": "e4d2433f",
   "metadata": {
    "tags": [
     "solution"
    ]
   },
   "outputs": [],
   "source": [
    "assert evaluiere_eine_runde_knobeln(\"schere\", \"papier\") == 1"
   ]
  },
  {
   "cell_type": "code",
   "execution_count": null,
   "id": "391d9cca",
   "metadata": {
    "tags": [
     "solution"
    ]
   },
   "outputs": [],
   "source": [
    "assert evaluiere_eine_runde_knobeln(\"schere\", \"stein\") == 2"
   ]
  },
  {
   "cell_type": "code",
   "execution_count": null,
   "id": "ec923f7f",
   "metadata": {
    "tags": [
     "solution"
    ]
   },
   "outputs": [],
   "source": [
    "assert evaluiere_eine_runde_knobeln(\"papier\", \"schere\") == 2"
   ]
  },
  {
   "cell_type": "code",
   "execution_count": null,
   "id": "f17e35bb",
   "metadata": {
    "tags": [
     "solution"
    ]
   },
   "outputs": [],
   "source": [
    "assert evaluiere_eine_runde_knobeln(\"papier\", \"stein\") == 1"
   ]
  },
  {
   "cell_type": "code",
   "execution_count": null,
   "id": "dafdb7bd",
   "metadata": {
    "tags": [
     "solution"
    ]
   },
   "outputs": [],
   "source": [
    "assert evaluiere_eine_runde_knobeln(\"stein\", \"schere\") == 1"
   ]
  },
  {
   "cell_type": "code",
   "execution_count": null,
   "id": "0e95ae3a",
   "metadata": {
    "tags": [
     "solution"
    ]
   },
   "outputs": [],
   "source": [
    "assert evaluiere_eine_runde_knobeln(\"stein\", \"papier\") == 2"
   ]
  },
  {
   "cell_type": "code",
   "execution_count": null,
   "id": "85909180",
   "metadata": {
    "tags": [
     "solution"
    ]
   },
   "outputs": [],
   "source": [
    "def assert_exception(lhs, rhs, invalid_player):\n",
    "    try:\n",
    "        evaluiere_eine_runde_knobeln(lhs, rhs)\n",
    "        assert False, \"No exception raised\"\n",
    "    except BadInputError as e:\n",
    "        assert e.invalid_player == invalid_player, \"Wrong invalid player\""
   ]
  },
  {
   "cell_type": "code",
   "execution_count": null,
   "id": "cc834816",
   "metadata": {
    "tags": [
     "solution"
    ]
   },
   "outputs": [],
   "source": [
    "assert_exception(\"eisen\", \"schere\", 1)"
   ]
  },
  {
   "cell_type": "code",
   "execution_count": null,
   "id": "ad246024",
   "metadata": {
    "tags": [
     "solution"
    ]
   },
   "outputs": [],
   "source": [
    "assert_exception(\"schere\", \"eisen\", 2)"
   ]
  },
  {
   "cell_type": "code",
   "execution_count": null,
   "id": "26198e31",
   "metadata": {
    "tags": [
     "solution"
    ]
   },
   "outputs": [],
   "source": [
    "assert_exception(\"papier\", \"eisen\", 2)"
   ]
  },
  {
   "cell_type": "code",
   "execution_count": null,
   "id": "2dbfae47",
   "metadata": {
    "tags": [
     "solution"
    ]
   },
   "outputs": [],
   "source": [
    "assert_exception(\"stein\", \"eisen\", 2)"
   ]
  },
  {
   "cell_type": "code",
   "execution_count": null,
   "id": "1da50383",
   "metadata": {
    "tags": [
     "solution"
    ]
   },
   "outputs": [],
   "source": [
    "assert_exception(\"eisen\", \"eisen\", 1)"
   ]
  },
  {
   "cell_type": "markdown",
   "id": "285daca0",
   "metadata": {
    "lang": "en"
   },
   "source": [
    "Write a function `compare_symbols(player1, player2)`,\n",
    "that outputs the following information on the screen:\n",
    "\n",
    "- `Tie.` if both players have chosen the same symbol,\n",
    "- `Player X wins!` if player X (X = 1 or 2) won,\n",
    "- `Invalid symbol from player X!` if player X has entered an invalid symbol."
   ]
  },
  {
   "cell_type": "code",
   "execution_count": null,
   "id": "4c24857e",
   "metadata": {
    "tags": [
     "solution"
    ]
   },
   "outputs": [],
   "source": [
    "def vergleiche_symbole(spieler1, spieler2):\n",
    "    try:\n",
    "        ergebniss = evaluiere_eine_runde_knobeln(spieler1, spieler2)\n",
    "        if ergebniss == 0:\n",
    "            print(\"Unentschieden.\")\n",
    "        else:\n",
    "            print(f\"Spieler {ergebniss} gewinnt!\")\n",
    "    except BadInputError as e:\n",
    "        print(f\"Ungültiges Symbol von Spieler {e.invalid_player}!\")"
   ]
  },
  {
   "cell_type": "markdown",
   "id": "b4eea251",
   "metadata": {
    "lang": "en"
   },
   "source": [
    "Test `compare_symbols` for appropriate input."
   ]
  },
  {
   "cell_type": "code",
   "execution_count": null,
   "id": "0cfe826f",
   "metadata": {
    "tags": [
     "solution"
    ]
   },
   "outputs": [],
   "source": [
    "vergleiche_symbole(\"papier\", \"papier\")"
   ]
  },
  {
   "cell_type": "code",
   "execution_count": null,
   "id": "03afdfe5",
   "metadata": {
    "tags": [
     "solution"
    ]
   },
   "outputs": [],
   "source": [
    "vergleiche_symbole(\"schere\", \"papier\")"
   ]
  },
  {
   "cell_type": "code",
   "execution_count": null,
   "id": "af999e00",
   "metadata": {
    "tags": [
     "solution"
    ]
   },
   "outputs": [],
   "source": [
    "vergleiche_symbole(\"papier\", \"stein\")"
   ]
  },
  {
   "cell_type": "code",
   "execution_count": null,
   "id": "6544e9df",
   "metadata": {
    "tags": [
     "solution"
    ]
   },
   "outputs": [],
   "source": [
    "vergleiche_symbole(\"stein\", \"schere\")"
   ]
  },
  {
   "cell_type": "code",
   "execution_count": null,
   "id": "b6b9e479",
   "metadata": {
    "tags": [
     "solution"
    ]
   },
   "outputs": [],
   "source": [
    "vergleiche_symbole(\"papier\", \"schere\")"
   ]
  },
  {
   "cell_type": "code",
   "execution_count": null,
   "id": "a5f94061",
   "metadata": {
    "tags": [
     "solution"
    ]
   },
   "outputs": [],
   "source": [
    "vergleiche_symbole(\"stein\", \"papier\")"
   ]
  },
  {
   "cell_type": "code",
   "execution_count": null,
   "id": "3d219468",
   "metadata": {
    "tags": [
     "solution"
    ]
   },
   "outputs": [],
   "source": [
    "vergleiche_symbole(\"schere\", \"stein\")"
   ]
  },
  {
   "cell_type": "code",
   "execution_count": null,
   "id": "f9eee01a",
   "metadata": {
    "tags": [
     "solution"
    ]
   },
   "outputs": [],
   "source": [
    "vergleiche_symbole(\"computer\", \"papier\")"
   ]
  },
  {
   "cell_type": "code",
   "execution_count": null,
   "id": "473874d0",
   "metadata": {
    "tags": [
     "solution"
    ]
   },
   "outputs": [],
   "source": [
    "vergleiche_symbole(\"papier\", \"computer\")"
   ]
  },
  {
   "cell_type": "markdown",
   "id": "c340dd4c",
   "metadata": {
    "lang": "en"
   },
   "source": [
    "Write a function `play_a_round_of_rps()` that reads the selections\n",
    "of player 1 and player 2 from the terminal and prints out who won.\n",
    "\n",
    "(Of course this is not a usable game as player 2 can see\n",
    "the choice player 1 made.)"
   ]
  },
  {
   "cell_type": "code",
   "execution_count": null,
   "id": "fe69b9ec",
   "metadata": {
    "tags": [
     "solution"
    ]
   },
   "outputs": [],
   "source": [
    "def spiele_eine_runde_knobeln():\n",
    "    spieler1 = input(\"Auswahl von Spieler 1: \")\n",
    "    spieler2 = input(\"Auswahl von Spieler 2: \")\n",
    "    vergleiche_symbole(spieler1.lower(), spieler2.lower())"
   ]
  },
  {
   "cell_type": "markdown",
   "id": "5abbaf8c",
   "metadata": {
    "lang": "en"
   },
   "source": [
    "Test the function `play_a_round_of_rps()` interactively."
   ]
  },
  {
   "cell_type": "code",
   "execution_count": null,
   "id": "60d38593",
   "metadata": {
    "tags": [
     "solution"
    ]
   },
   "outputs": [],
   "source": [
    "# spiele_eine_runde_knobeln()"
   ]
  },
  {
   "cell_type": "markdown",
   "id": "08d69384",
   "metadata": {
    "lang": "en"
   },
   "source": [
    "Write a function `play_rps()` that lets two players play against each other until one player has won 3 games more than\n",
    "the other (e.g. if the first player has won 2 games and the second player 5)."
   ]
  },
  {
   "cell_type": "code",
   "execution_count": null,
   "id": "6a238348",
   "metadata": {
    "lines_to_next_cell": 2,
    "tags": [
     "solution"
    ]
   },
   "outputs": [],
   "source": [
    "def spiele_knobeln():\n",
    "    gewinne1 = 0\n",
    "    gewinne2 = 0\n",
    "    while abs(gewinne1 - gewinne2) < 3:\n",
    "        spieler1 = input(\"Auswahl von Spieler 1: \")\n",
    "        spieler2 = input(\"Auswahl von Spieler 2: \")\n",
    "        try:\n",
    "            ergebnis = evaluiere_eine_runde_knobeln(spieler1, spieler2)\n",
    "            if ergebnis == 1:\n",
    "                print(\"Spieler 1 gewinnt diese Runde!\")\n",
    "                gewinne1 += 1\n",
    "            elif ergebnis == 2:\n",
    "                print(\"Spieler 2 gewinnt diese Runde!\")\n",
    "                gewinne2 += 1\n",
    "            else:\n",
    "                print(\"Unentschieden!\")\n",
    "        except BadInputError as e:\n",
    "            print(e)\n",
    "    print(f\"Spieler {1 if gewinne1 > gewinne2 else 2} gewinnt!\")"
   ]
  },
  {
   "cell_type": "code",
   "execution_count": null,
   "id": "5b8efbde",
   "metadata": {
    "tags": [
     "solution"
    ]
   },
   "outputs": [],
   "source": [
    "# spiele_knobeln()"
   ]
  }
 ],
 "metadata": {
  "jupytext": {
   "encoding": "# -*- coding: utf-8 -*-",
   "formats": "ipynb"
  },
  "kernelspec": {
   "display_name": "Python 3 (ipykernel)",
   "language": "python",
   "name": "python3"
  }
 },
 "nbformat": 4,
 "nbformat_minor": 5
}
