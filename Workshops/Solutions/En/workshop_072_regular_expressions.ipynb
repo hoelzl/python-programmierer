{
 "cells": [
  {
   "cell_type": "markdown",
   "id": "1d802b36",
   "metadata": {
    "lang": "en"
   },
   "source": [
    "# Regular Expressions\n",
    "\n",
    "Write a regular expression that matches floating point literals (one or more\n",
    "digits, followed by a decimal point, followed by one or more digits).\n",
    "\n",
    "Test you regular expressions with the following values: `1.0`, `842.234`,\n",
    "`23-38`, `12.`, `.1`.\n",
    "\n",
    "*Hint:* `\\d` matches a single digit."
   ]
  },
  {
   "cell_type": "code",
   "execution_count": null,
   "id": "de8c6cc9",
   "metadata": {
    "tags": [
     "solution"
    ]
   },
   "outputs": [],
   "source": [
    "import re\n",
    "\n",
    "fp_rx = re.compile(r\"\\d+\\.\\d+\")"
   ]
  },
  {
   "cell_type": "code",
   "execution_count": null,
   "id": "fd664e54",
   "metadata": {
    "tags": [
     "solution"
    ]
   },
   "outputs": [],
   "source": [
    "fp_rx.fullmatch(\"1.0\")"
   ]
  },
  {
   "cell_type": "code",
   "execution_count": null,
   "id": "87960e7d",
   "metadata": {
    "tags": [
     "solution"
    ]
   },
   "outputs": [],
   "source": [
    "fp_rx.fullmatch(\"842.234\")"
   ]
  },
  {
   "cell_type": "code",
   "execution_count": null,
   "id": "78dcf91c",
   "metadata": {
    "tags": [
     "solution"
    ]
   },
   "outputs": [],
   "source": [
    "fp_rx.fullmatch(\"23-38\")"
   ]
  },
  {
   "cell_type": "code",
   "execution_count": null,
   "id": "65746723",
   "metadata": {
    "tags": [
     "solution"
    ]
   },
   "outputs": [],
   "source": [
    "fp_rx.fullmatch(\"12.\")"
   ]
  },
  {
   "cell_type": "code",
   "execution_count": null,
   "id": "e11aa720",
   "metadata": {
    "tags": [
     "solution"
    ]
   },
   "outputs": [],
   "source": [
    "fp_rx.fullmatch(\".1\")"
   ]
  },
  {
   "cell_type": "markdown",
   "id": "7df1374f",
   "metadata": {
    "lang": "en"
   },
   "source": [
    "\n",
    "Write a regular expression that matches URLs that use the `http` or `https`\n",
    "protocol and whose domain name is followed either no path or a single slash.\n",
    "\n",
    "For example, the regular expression should match `http://example.com/` and\n",
    "`https://www.example.com/`, but not `email://example.com`,\n",
    "`http://example.com/foo`, or `http://www..example.com/`."
   ]
  },
  {
   "cell_type": "code",
   "execution_count": null,
   "id": "ad1f1821",
   "metadata": {
    "tags": [
     "solution"
    ]
   },
   "outputs": [],
   "source": [
    "url_rx = re.compile(r\"https?://(\\w+\\.)+\\w+/?\")"
   ]
  },
  {
   "cell_type": "code",
   "execution_count": null,
   "id": "9e62397c",
   "metadata": {
    "tags": [
     "solution"
    ]
   },
   "outputs": [],
   "source": [
    "url_rx.fullmatch(r\"http://example.com/\")"
   ]
  },
  {
   "cell_type": "code",
   "execution_count": null,
   "id": "19050cde",
   "metadata": {
    "tags": [
     "solution"
    ]
   },
   "outputs": [],
   "source": [
    "url_rx.fullmatch(r\"https://www.example.com/\")"
   ]
  },
  {
   "cell_type": "code",
   "execution_count": null,
   "id": "a37507d1",
   "metadata": {
    "tags": [
     "solution"
    ]
   },
   "outputs": [],
   "source": [
    "url_rx.fullmatch(r\"email://example.com/\") is None"
   ]
  },
  {
   "cell_type": "code",
   "execution_count": null,
   "id": "dff87cef",
   "metadata": {
    "tags": [
     "solution"
    ]
   },
   "outputs": [],
   "source": [
    "url_rx.fullmatch(r\"http://example.com/foo\") is None"
   ]
  },
  {
   "cell_type": "code",
   "execution_count": null,
   "id": "ab8a0d35",
   "metadata": {
    "tags": [
     "solution"
    ]
   },
   "outputs": [],
   "source": [
    "url_rx.fullmatch(r\"https://www..example.com/\") is None"
   ]
  },
  {
   "cell_type": "markdown",
   "id": "d834f44c",
   "metadata": {
    "lang": "en"
   },
   "source": [
    "\n",
    "Replace all URLs in the following text with the string `<URL>`"
   ]
  },
  {
   "cell_type": "code",
   "execution_count": null,
   "id": "367ed2ca",
   "metadata": {
    "lines_to_next_cell": 2
   },
   "outputs": [],
   "source": [
    "text = \"Use http://www.example.com or https://www.example.com/ as example domains.\""
   ]
  },
  {
   "cell_type": "code",
   "execution_count": null,
   "id": "354cb4c7",
   "metadata": {
    "tags": [
     "solution"
    ]
   },
   "outputs": [],
   "source": [
    "url_rx.sub(\"<URL>\", text)"
   ]
  },
  {
   "cell_type": "code",
   "execution_count": null,
   "id": "d7a5abb4",
   "metadata": {},
   "outputs": [],
   "source": []
  }
 ],
 "metadata": {
  "jupytext": {
   "encoding": "# -*- coding: utf-8 -*-",
   "formats": "ipynb"
  },
  "kernelspec": {
   "display_name": "Python 3 (ipykernel)",
   "language": "python",
   "name": "python3"
  }
 },
 "nbformat": 4,
 "nbformat_minor": 5
}
