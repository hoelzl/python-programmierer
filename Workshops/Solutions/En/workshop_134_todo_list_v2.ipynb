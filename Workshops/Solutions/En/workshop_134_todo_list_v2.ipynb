{
 "cells": [
  {
   "cell_type": "markdown",
   "id": "b85db870",
   "metadata": {
    "lang": "en"
   },
   "source": [
    "# Todo list version 2\n",
    "\n",
    "In this workshop we want to implement a to-do list, but now we want to\n",
    "represent both the list and the entries by instances of classes.\n",
    "\n",
    "Each entry in the todo list should contain the following information:\n",
    "\n",
    "- Title\n",
    "- Priority\n",
    "- Has the item already been completed or not?\n",
    "\n",
    "Define a class `TodoItem` that encapsulates this data."
   ]
  },
  {
   "cell_type": "code",
   "execution_count": null,
   "id": "6a0bbb50",
   "metadata": {
    "tags": [
     "solution"
    ]
   },
   "outputs": [],
   "source": [
    "class TodoItem:\n",
    "    def __init__(self, title, priority, is_completed):\n",
    "        self.title = title\n",
    "        self.priority = priority\n",
    "        self.is_completed = is_completed"
   ]
  },
  {
   "cell_type": "markdown",
   "id": "adcb39a5",
   "metadata": {
    "lang": "en"
   },
   "source": [
    "Create a todo item with the following components:\n",
    "- Title: Learn Python\n",
    "- Priority 3\n",
    "- not done"
   ]
  },
  {
   "cell_type": "code",
   "execution_count": null,
   "id": "9094fdfc",
   "metadata": {
    "tags": [
     "solution"
    ]
   },
   "outputs": [],
   "source": [
    "todo_item = TodoItem(\"Python lernen\", 3, False)\n",
    "todo_item"
   ]
  },
  {
   "cell_type": "markdown",
   "id": "e1e99382",
   "metadata": {
    "lang": "en"
   },
   "source": [
    "The representation of the item is not very meaningful. Define\n",
    "therefore a function `todo_item_as_string(item: TodoItem) -> str` which converts a\n",
    "todo item into a string that provides information about the item's attributes."
   ]
  },
  {
   "cell_type": "code",
   "execution_count": null,
   "id": "e04fd0d7",
   "metadata": {
    "tags": [
     "solution"
    ]
   },
   "outputs": [],
   "source": [
    "def todo_item_as_string(item):\n",
    "    return f\"{item.title}, priority {item.priority}\" + (\n",
    "        \"\" if not item.is_completed else \", done\"\n",
    "    )"
   ]
  },
  {
   "cell_type": "code",
   "execution_count": null,
   "id": "f3f82722",
   "metadata": {
    "tags": [
     "solution"
    ]
   },
   "outputs": [],
   "source": [
    "print(todo_item_as_string(todo_item))\n",
    "print(todo_item_as_string(TodoItem(\"Buy food\", 2, True)))"
   ]
  },
  {
   "cell_type": "markdown",
   "id": "f51a1861",
   "metadata": {
    "lang": "en"
   },
   "source": [
    "Define a class `TodoList` that represents a todo list."
   ]
  },
  {
   "cell_type": "code",
   "execution_count": null,
   "id": "7b7fa0d5",
   "metadata": {
    "tags": [
     "solution"
    ]
   },
   "outputs": [],
   "source": [
    "class TodoList:\n",
    "    def __init__(self, items):\n",
    "        self.items = items"
   ]
  },
  {
   "cell_type": "markdown",
   "id": "90fbf8af",
   "metadata": {
    "lang": "en"
   },
   "source": [
    "Define a function\n",
    "\n",
    "`todo_list_as_string(todo_list: TodoList) -> str`,\n",
    "\n",
    "which converts a todo list into a string containing information about its items."
   ]
  },
  {
   "cell_type": "code",
   "execution_count": null,
   "id": "a8eac685",
   "metadata": {
    "tags": [
     "solution"
    ]
   },
   "outputs": [],
   "source": [
    "def todo_list_as_string(todo_list):\n",
    "    from io import StringIO\n",
    "\n",
    "    result = StringIO()\n",
    "    print(\"Todo List:\", file=result)\n",
    "    for item in todo_list.items:\n",
    "        print(\"  \" + todo_item_as_string(item), file=result)\n",
    "    return result.getvalue()"
   ]
  },
  {
   "cell_type": "markdown",
   "id": "8e408321",
   "metadata": {
    "lang": "en"
   },
   "source": [
    "Create a todo list `todos` containing the following items:\n",
    "\n",
    "- Title: Learn Python, priority 3, not done\n",
    "- Title: Buy vegetables, priority 2, not done\n",
    "- Title: Call Hans, Priority 5, Done"
   ]
  },
  {
   "cell_type": "code",
   "execution_count": null,
   "id": "5ade80c7",
   "metadata": {
    "tags": [
     "solution"
    ]
   },
   "outputs": [],
   "source": [
    "todos = TodoList(\n",
    "    [\n",
    "        TodoItem(\"Python lernen\", 3, False),\n",
    "        TodoItem(\"Gemüse einkaufen\", 2, False),\n",
    "        TodoItem(\"Hans anrufen\", 5, True),\n",
    "    ]\n",
    ")"
   ]
  },
  {
   "cell_type": "code",
   "execution_count": null,
   "id": "bb649984",
   "metadata": {
    "tags": [
     "solution"
    ]
   },
   "outputs": [],
   "source": [
    "print(todo_list_as_string(todos))"
   ]
  },
  {
   "cell_type": "markdown",
   "id": "f2f5f439",
   "metadata": {
    "lang": "en"
   },
   "source": [
    "Write a function `add_todo_item(todo_list, title, priority)`,\n",
    "which adds a new todo item to `todo_list`."
   ]
  },
  {
   "cell_type": "code",
   "execution_count": null,
   "id": "44370fb3",
   "metadata": {
    "tags": [
     "solution"
    ]
   },
   "outputs": [],
   "source": [
    "def add_todo_item(todo_list, title, priority):\n",
    "    todo_list.items.append(TodoItem(title, priority, False))"
   ]
  },
  {
   "cell_type": "markdown",
   "id": "eadae228",
   "metadata": {
    "lang": "en"
   },
   "source": [
    "Add a new todo item titled \"shovel snow\" with priority 5 to the `todos` list."
   ]
  },
  {
   "cell_type": "code",
   "execution_count": null,
   "id": "19eda499",
   "metadata": {
    "tags": [
     "solution"
    ]
   },
   "outputs": [],
   "source": [
    "add_todo_item(todos, \"Schnee schaufeln\", 5)"
   ]
  },
  {
   "cell_type": "code",
   "execution_count": null,
   "id": "fac07a03",
   "metadata": {
    "tags": [
     "solution"
    ]
   },
   "outputs": [],
   "source": [
    "print(todo_list_as_string(todos))"
   ]
  },
  {
   "cell_type": "markdown",
   "id": "8e86a1f0",
   "metadata": {
    "lang": "en"
   },
   "source": [
    "Write a function `mark_todo_item_done(todo_list, title)`,\n",
    "that marks as done the first todo item with title\n",
    "`title` that is not yet marked as done."
   ]
  },
  {
   "cell_type": "code",
   "execution_count": null,
   "id": "c59f08fc",
   "metadata": {
    "tags": [
     "solution"
    ]
   },
   "outputs": [],
   "source": [
    "def mark_todo_item_done(todo_list, title):\n",
    "    for item in todo_list.items:\n",
    "        if item.title == title and not item.is_completed:\n",
    "            item.is_completed = True\n",
    "            break"
   ]
  },
  {
   "cell_type": "markdown",
   "id": "3f36deba",
   "metadata": {
    "lang": "en"
   },
   "source": [
    "Mark the to-do item `Shovel snow` as done."
   ]
  },
  {
   "cell_type": "code",
   "execution_count": null,
   "id": "b6afdec5",
   "metadata": {
    "tags": [
     "solution"
    ]
   },
   "outputs": [],
   "source": [
    "mark_todo_item_done(todos, \"Schnee schaufeln\")"
   ]
  },
  {
   "cell_type": "code",
   "execution_count": null,
   "id": "bb79a518",
   "metadata": {
    "tags": [
     "solution"
    ]
   },
   "outputs": [],
   "source": [
    "print(todo_list_as_string(todos))"
   ]
  },
  {
   "cell_type": "markdown",
   "id": "675dafc4",
   "metadata": {
    "lang": "en"
   },
   "source": [
    "Add two todo items with text \"Learn Python\" and priority 1 and 6\n",
    "added to the todo list."
   ]
  },
  {
   "cell_type": "code",
   "execution_count": null,
   "id": "883c60b7",
   "metadata": {
    "tags": [
     "solution"
    ]
   },
   "outputs": [],
   "source": [
    "add_todo_item(todos, \"Python lernen\", 1)\n",
    "add_todo_item(todos, \"Python lernen\", 6)"
   ]
  },
  {
   "cell_type": "code",
   "execution_count": null,
   "id": "fcbf3231",
   "metadata": {
    "tags": [
     "solution"
    ]
   },
   "outputs": [],
   "source": [
    "print(todo_list_as_string(todos))"
   ]
  },
  {
   "cell_type": "markdown",
   "id": "6181908e",
   "metadata": {
    "lang": "en"
   },
   "source": [
    "Mark a \"Learn Python\" todo item as done.\n",
    "How does your list look now?"
   ]
  },
  {
   "cell_type": "code",
   "execution_count": null,
   "id": "873d716d",
   "metadata": {
    "tags": [
     "solution"
    ]
   },
   "outputs": [],
   "source": [
    "mark_todo_item_done(todos, \"Python lernen\")"
   ]
  },
  {
   "cell_type": "code",
   "execution_count": null,
   "id": "c8849311",
   "metadata": {
    "tags": [
     "solution"
    ]
   },
   "outputs": [],
   "source": [
    "print(todo_list_as_string(todos))"
   ]
  },
  {
   "cell_type": "markdown",
   "id": "e5a9a80b",
   "metadata": {
    "lang": "en"
   },
   "source": [
    "Mark two more todo items `Learn Python` as done.\n",
    "How does your list look now?"
   ]
  },
  {
   "cell_type": "code",
   "execution_count": null,
   "id": "e58d12d2",
   "metadata": {
    "tags": [
     "solution"
    ]
   },
   "outputs": [],
   "source": [
    "mark_todo_item_done(todos, \"Python lernen\")\n",
    "print(todo_list_as_string(todos))"
   ]
  },
  {
   "cell_type": "code",
   "execution_count": null,
   "id": "ba65aead",
   "metadata": {
    "tags": [
     "solution"
    ]
   },
   "outputs": [],
   "source": [
    "mark_todo_item_done(todos, \"Python lernen\")\n",
    "print(todo_list_as_string(todos))"
   ]
  },
  {
   "cell_type": "markdown",
   "id": "cd725da3",
   "metadata": {
    "lang": "en"
   },
   "source": [
    "Write a function `delete_todo_item(todo_list, title)` that removes the\n",
    "first todo item in `todo_list` with title `title`.\n",
    "\n",
    "*Caution: You should not add or remove any entries while iterating over a list!"
   ]
  },
  {
   "cell_type": "code",
   "execution_count": null,
   "id": "519289fb",
   "metadata": {
    "tags": [
     "solution"
    ]
   },
   "outputs": [],
   "source": [
    "def delete_todo_item(todo_list, title):\n",
    "    index_to_delete = -1\n",
    "    for index, item in enumerate(todo_list.items):\n",
    "        if item.title == title:\n",
    "            index_to_delete = index\n",
    "            break\n",
    "    if index_to_delete >= 0:\n",
    "        del todo_list.items[index_to_delete]"
   ]
  },
  {
   "cell_type": "markdown",
   "id": "4157d5ee",
   "metadata": {
    "lang": "en"
   },
   "source": [
    "Remove one of the items `Learn Python`."
   ]
  },
  {
   "cell_type": "code",
   "execution_count": null,
   "id": "a8c9c557",
   "metadata": {
    "tags": [
     "solution"
    ]
   },
   "outputs": [],
   "source": [
    "delete_todo_item(todos, \"Python lernen\")\n",
    "print(todo_list_as_string(todos))"
   ]
  },
  {
   "cell_type": "markdown",
   "id": "8169de60",
   "metadata": {
    "lang": "en"
   },
   "source": [
    "Remove an item `Learn Python` three times. What do you expect as a result?"
   ]
  },
  {
   "cell_type": "code",
   "execution_count": null,
   "id": "26d2584a",
   "metadata": {
    "tags": [
     "solution"
    ]
   },
   "outputs": [],
   "source": [
    "delete_todo_item(todos, \"Python lernen\")\n",
    "print(todo_list_as_string(todos))"
   ]
  },
  {
   "cell_type": "code",
   "execution_count": null,
   "id": "4bd48663",
   "metadata": {
    "tags": [
     "solution"
    ]
   },
   "outputs": [],
   "source": [
    "delete_todo_item(todos, \"Python lernen\")\n",
    "print(todo_list_as_string(todos))"
   ]
  },
  {
   "cell_type": "code",
   "execution_count": null,
   "id": "8f84037d",
   "metadata": {
    "tags": [
     "solution"
    ]
   },
   "outputs": [],
   "source": [
    "delete_todo_item(todos, \"Python lernen\")\n",
    "print(todo_list_as_string(todos))"
   ]
  },
  {
   "cell_type": "markdown",
   "id": "4faf2023",
   "metadata": {
    "lang": "en"
   },
   "source": [
    "Write a function `delete_all_completed_todo_items(todo_list)`,\n",
    "which deletes all completed todo items from `todo_list`.\n",
    "\n",
    "*Note: You will probably need two consecutive `for` loops to do this: one to collect the indices and one to clear them*"
   ]
  },
  {
   "cell_type": "code",
   "execution_count": null,
   "id": "d280941a",
   "metadata": {
    "tags": [
     "solution"
    ]
   },
   "outputs": [],
   "source": [
    "def delete_all_completed_todo_items(todo_list):\n",
    "    indices_to_delete = []\n",
    "    for index, item in enumerate(todo_list.items):\n",
    "        if item.is_completed:\n",
    "            indices_to_delete.append(index)\n",
    "    for index in sorted(indices_to_delete, reverse=True):\n",
    "        del todo_list.items[index]"
   ]
  },
  {
   "cell_type": "code",
   "execution_count": null,
   "id": "58dfe0a0",
   "metadata": {
    "tags": [
     "solution"
    ]
   },
   "outputs": [],
   "source": [
    "delete_all_completed_todo_items(todos)\n",
    "print(todo_list_as_string(todos))"
   ]
  },
  {
   "cell_type": "markdown",
   "id": "881a77fb",
   "metadata": {
    "lang": "en"
   },
   "source": [
    "Test your implementation of `delete_all_completed_todo_items()` with\n",
    "the following list:"
   ]
  },
  {
   "cell_type": "code",
   "execution_count": null,
   "id": "609e63b0",
   "metadata": {
    "tags": [
     "solution"
    ]
   },
   "outputs": [],
   "source": [
    "todo_list_2 = TodoList([TodoItem(f\"Item {n}\", 1, n % 2 == 0) for n in range(10)])\n",
    "print(todo_list_as_string(todo_list_2))"
   ]
  },
  {
   "cell_type": "code",
   "execution_count": null,
   "id": "30d52d9d",
   "metadata": {
    "tags": [
     "solution"
    ]
   },
   "outputs": [],
   "source": [
    "delete_all_completed_todo_items(todo_list_2)\n",
    "print(todo_list_as_string(todo_list_2))"
   ]
  },
  {
   "cell_type": "code",
   "execution_count": null,
   "id": "69917030",
   "metadata": {},
   "outputs": [],
   "source": []
  }
 ],
 "metadata": {
  "jupytext": {
   "encoding": "# -*- coding: utf-8 -*-",
   "formats": "ipynb"
  },
  "kernelspec": {
   "display_name": "Python 3 (ipykernel)",
   "language": "python",
   "name": "python3"
  }
 },
 "nbformat": 4,
 "nbformat_minor": 5
}
