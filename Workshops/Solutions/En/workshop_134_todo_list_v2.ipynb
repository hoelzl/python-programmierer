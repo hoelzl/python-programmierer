{
 "cells": [
  {
   "cell_type": "markdown",
   "id": "9ca7c841",
   "metadata": {
    "lang": "en"
   },
   "source": [
    "# Todo list version 2\n",
    "\n",
    "In this workshop we want to implement a to-do list, but now we want to\n",
    "represent both the list and the entries by instances of classes.\n",
    "\n",
    "Each entry in the todo list should contain the following information:\n",
    "\n",
    "- Title\n",
    "- Priority\n",
    "- Has the item already been completed or not?\n",
    "\n",
    "Define a class `TodoItem` that encapsulates this data."
   ]
  },
  {
   "cell_type": "code",
   "execution_count": null,
   "id": "3f7e7c53",
   "metadata": {
    "tags": [
     "solution"
    ]
   },
   "outputs": [],
   "source": [
    "class TodoItem:\n",
    "    def __init__(self, title, priority, is_completed):\n",
    "        self.title = title\n",
    "        self.priority = priority\n",
    "        self.is_completed = is_completed"
   ]
  },
  {
   "cell_type": "markdown",
   "id": "8467615d",
   "metadata": {
    "lang": "en"
   },
   "source": [
    "Create a todo item with the following components:\n",
    "- Title: Learn Python\n",
    "- Priority 3\n",
    "- not done"
   ]
  },
  {
   "cell_type": "code",
   "execution_count": null,
   "id": "30ec1c44",
   "metadata": {
    "tags": [
     "solution"
    ]
   },
   "outputs": [],
   "source": [
    "todo_item = TodoItem(\"Python lernen\", 3, False)\n",
    "todo_item"
   ]
  },
  {
   "cell_type": "markdown",
   "id": "61a055d8",
   "metadata": {
    "lang": "en"
   },
   "source": [
    "The representation of the item is not very meaningful. Define\n",
    "therefore a function `todo_item_as_string(item: TodoItem) -> str` which converts a\n",
    "todo item into a string that provides information about the item's attributes."
   ]
  },
  {
   "cell_type": "code",
   "execution_count": null,
   "id": "727fd208",
   "metadata": {
    "tags": [
     "solution"
    ]
   },
   "outputs": [],
   "source": [
    "def todo_item_as_string(item):\n",
    "    return f\"{item.title}, priority {item.priority}\" + (\n",
    "        \"\" if not item.is_completed else \", done\"\n",
    "    )"
   ]
  },
  {
   "cell_type": "code",
   "execution_count": null,
   "id": "f0128e0b",
   "metadata": {
    "tags": [
     "solution"
    ]
   },
   "outputs": [],
   "source": [
    "print(todo_item_as_string(todo_item))\n",
    "print(todo_item_as_string(TodoItem(\"Buy food\", 2, True)))"
   ]
  },
  {
   "cell_type": "markdown",
   "id": "4d86fbbd",
   "metadata": {
    "lang": "en"
   },
   "source": [
    "Define a class `TodoList` that represents a todo list."
   ]
  },
  {
   "cell_type": "code",
   "execution_count": null,
   "id": "2511c240",
   "metadata": {
    "tags": [
     "solution"
    ]
   },
   "outputs": [],
   "source": [
    "class TodoList:\n",
    "    def __init__(self, items):\n",
    "        self.items = items"
   ]
  },
  {
   "cell_type": "markdown",
   "id": "99c76a9c",
   "metadata": {
    "lang": "en"
   },
   "source": [
    "Define a function\n",
    "\n",
    "`todo_list_as_string(todo_list: TodoList) -> str`,\n",
    "\n",
    "which converts a todo list into a string containing information about its items."
   ]
  },
  {
   "cell_type": "code",
   "execution_count": null,
   "id": "b3b4c4c6",
   "metadata": {
    "tags": [
     "solution"
    ]
   },
   "outputs": [],
   "source": [
    "def todo_list_as_string(todo_list):\n",
    "    from io import StringIO\n",
    "\n",
    "    result = StringIO()\n",
    "    print(\"Todo List:\", file=result)\n",
    "    for item in todo_list.items:\n",
    "        print(\"  \" + todo_item_as_string(item), file=result)\n",
    "    return result.getvalue()"
   ]
  },
  {
   "cell_type": "markdown",
   "id": "328d2a39",
   "metadata": {
    "lang": "en"
   },
   "source": [
    "Create a todo list `todos` containing the following items:\n",
    "\n",
    "- Title: Learn Python, priority 3, not done\n",
    "- Title: Buy vegetables, priority 2, not done\n",
    "- Title: Call Hans, Priority 5, Done"
   ]
  },
  {
   "cell_type": "code",
   "execution_count": null,
   "id": "cd436e94",
   "metadata": {
    "tags": [
     "solution"
    ]
   },
   "outputs": [],
   "source": [
    "todos = TodoList(\n",
    "    [\n",
    "        TodoItem(\"Python lernen\", 3, False),\n",
    "        TodoItem(\"Gemüse einkaufen\", 2, False),\n",
    "        TodoItem(\"Hans anrufen\", 5, True),\n",
    "    ]\n",
    ")"
   ]
  },
  {
   "cell_type": "code",
   "execution_count": null,
   "id": "47a733b2",
   "metadata": {
    "tags": [
     "solution"
    ]
   },
   "outputs": [],
   "source": [
    "print(todo_list_as_string(todos))"
   ]
  },
  {
   "cell_type": "markdown",
   "id": "6c23c189",
   "metadata": {
    "lang": "en"
   },
   "source": [
    "Write a function `add_todo_item(todo_list, title, priority)`,\n",
    "which adds a new todo item to `todo_list`."
   ]
  },
  {
   "cell_type": "code",
   "execution_count": null,
   "id": "19978667",
   "metadata": {
    "tags": [
     "solution"
    ]
   },
   "outputs": [],
   "source": [
    "def add_todo_item(todo_list, title, priority):\n",
    "    todo_list.items.append(TodoItem(title, priority, False))"
   ]
  },
  {
   "cell_type": "markdown",
   "id": "1ad9fe3e",
   "metadata": {
    "lang": "en"
   },
   "source": [
    "Add a new todo item titled \"shovel snow\" with priority 5 to the `todos` list."
   ]
  },
  {
   "cell_type": "code",
   "execution_count": null,
   "id": "3c316e1c",
   "metadata": {
    "tags": [
     "solution"
    ]
   },
   "outputs": [],
   "source": [
    "add_todo_item(todos, \"Schnee schaufeln\", 5)"
   ]
  },
  {
   "cell_type": "code",
   "execution_count": null,
   "id": "caf25bc1",
   "metadata": {
    "tags": [
     "solution"
    ]
   },
   "outputs": [],
   "source": [
    "print(todo_list_as_string(todos))"
   ]
  },
  {
   "cell_type": "markdown",
   "id": "f91699c5",
   "metadata": {
    "lang": "en"
   },
   "source": [
    "Write a function `mark_todo_item_done(todo_list, title)`,\n",
    "that marks as done the first todo item with title\n",
    "`title` that is not yet marked as done."
   ]
  },
  {
   "cell_type": "code",
   "execution_count": null,
   "id": "14c7583d",
   "metadata": {
    "tags": [
     "solution"
    ]
   },
   "outputs": [],
   "source": [
    "def mark_todo_item_done(todo_list, title):\n",
    "    for item in todo_list.items:\n",
    "        if item.title == title and not item.is_completed:\n",
    "            item.is_completed = True\n",
    "            break"
   ]
  },
  {
   "cell_type": "markdown",
   "id": "e3f6efdb",
   "metadata": {
    "lang": "en"
   },
   "source": [
    "Mark the to-do item `Shovel snow` as done."
   ]
  },
  {
   "cell_type": "code",
   "execution_count": null,
   "id": "9262c594",
   "metadata": {
    "tags": [
     "solution"
    ]
   },
   "outputs": [],
   "source": [
    "mark_todo_item_done(todos, \"Schnee schaufeln\")"
   ]
  },
  {
   "cell_type": "code",
   "execution_count": null,
   "id": "67cfe85d",
   "metadata": {
    "tags": [
     "solution"
    ]
   },
   "outputs": [],
   "source": [
    "print(todo_list_as_string(todos))"
   ]
  },
  {
   "cell_type": "markdown",
   "id": "6c11e7bb",
   "metadata": {
    "lang": "en"
   },
   "source": [
    "Add two todo items with text \"Learn Python\" and priority 1 and 6\n",
    "added to the todo list."
   ]
  },
  {
   "cell_type": "code",
   "execution_count": null,
   "id": "a0ca81d4",
   "metadata": {
    "tags": [
     "solution"
    ]
   },
   "outputs": [],
   "source": [
    "add_todo_item(todos, \"Python lernen\", 1)\n",
    "add_todo_item(todos, \"Python lernen\", 6)"
   ]
  },
  {
   "cell_type": "code",
   "execution_count": null,
   "id": "e394617b",
   "metadata": {
    "tags": [
     "solution"
    ]
   },
   "outputs": [],
   "source": [
    "print(todo_list_as_string(todos))"
   ]
  },
  {
   "cell_type": "markdown",
   "id": "e802d92e",
   "metadata": {
    "lang": "en"
   },
   "source": [
    "Mark a \"Learn Python\" todo item as done.\n",
    "How does your list look now?"
   ]
  },
  {
   "cell_type": "code",
   "execution_count": null,
   "id": "7ab21d0e",
   "metadata": {
    "tags": [
     "solution"
    ]
   },
   "outputs": [],
   "source": [
    "mark_todo_item_done(todos, \"Python lernen\")"
   ]
  },
  {
   "cell_type": "code",
   "execution_count": null,
   "id": "df78ea83",
   "metadata": {
    "tags": [
     "solution"
    ]
   },
   "outputs": [],
   "source": [
    "print(todo_list_as_string(todos))"
   ]
  },
  {
   "cell_type": "markdown",
   "id": "27bc34a9",
   "metadata": {
    "lang": "en"
   },
   "source": [
    "Mark two more todo items `Learn Python` as done.\n",
    "How does your list look now?"
   ]
  },
  {
   "cell_type": "code",
   "execution_count": null,
   "id": "dd246cb3",
   "metadata": {
    "tags": [
     "solution"
    ]
   },
   "outputs": [],
   "source": [
    "mark_todo_item_done(todos, \"Python lernen\")\n",
    "print(todo_list_as_string(todos))"
   ]
  },
  {
   "cell_type": "code",
   "execution_count": null,
   "id": "386b4e46",
   "metadata": {
    "tags": [
     "solution"
    ]
   },
   "outputs": [],
   "source": [
    "mark_todo_item_done(todos, \"Python lernen\")\n",
    "print(todo_list_as_string(todos))"
   ]
  },
  {
   "cell_type": "markdown",
   "id": "4e4cfb1c",
   "metadata": {
    "lang": "en"
   },
   "source": [
    "Write a function `delete_todo_item(todo_list, title)` that removes the\n",
    "first todo item in `todo_list` with title `title`.\n",
    "\n",
    "*Caution: You should not add or remove any entries while iterating over a list!"
   ]
  },
  {
   "cell_type": "code",
   "execution_count": null,
   "id": "33d6fe2a",
   "metadata": {
    "tags": [
     "solution"
    ]
   },
   "outputs": [],
   "source": [
    "def delete_todo_item(todo_list, title):\n",
    "    index_to_delete = -1\n",
    "    for index, item in enumerate(todo_list.items):\n",
    "        if item.title == title:\n",
    "            index_to_delete = index\n",
    "            break\n",
    "    if index_to_delete >= 0:\n",
    "        del todo_list.items[index_to_delete]"
   ]
  },
  {
   "cell_type": "markdown",
   "id": "ba80d641",
   "metadata": {
    "lang": "en"
   },
   "source": [
    "Remove one of the items `Learn Python`."
   ]
  },
  {
   "cell_type": "code",
   "execution_count": null,
   "id": "3e2f26f9",
   "metadata": {
    "tags": [
     "solution"
    ]
   },
   "outputs": [],
   "source": [
    "delete_todo_item(todos, \"Python lernen\")\n",
    "print(todo_list_as_string(todos))"
   ]
  },
  {
   "cell_type": "markdown",
   "id": "1fc83713",
   "metadata": {
    "lang": "en"
   },
   "source": [
    "Remove an item `Learn Python` three times. What do you expect as a result?"
   ]
  },
  {
   "cell_type": "code",
   "execution_count": null,
   "id": "4f8e4908",
   "metadata": {
    "tags": [
     "solution"
    ]
   },
   "outputs": [],
   "source": [
    "delete_todo_item(todos, \"Python lernen\")\n",
    "print(todo_list_as_string(todos))"
   ]
  },
  {
   "cell_type": "code",
   "execution_count": null,
   "id": "42a7ad94",
   "metadata": {
    "tags": [
     "solution"
    ]
   },
   "outputs": [],
   "source": [
    "delete_todo_item(todos, \"Python lernen\")\n",
    "print(todo_list_as_string(todos))"
   ]
  },
  {
   "cell_type": "code",
   "execution_count": null,
   "id": "b8c56901",
   "metadata": {
    "tags": [
     "solution"
    ]
   },
   "outputs": [],
   "source": [
    "delete_todo_item(todos, \"Python lernen\")\n",
    "print(todo_list_as_string(todos))"
   ]
  },
  {
   "cell_type": "markdown",
   "id": "70d06ce7",
   "metadata": {
    "lang": "en"
   },
   "source": [
    "Write a function `delete_all_completed_todo_items(todo_list)`,\n",
    "which deletes all completed todo items from `todo_list`.\n",
    "\n",
    "*Note: You will probably need two consecutive `for` loops to do this: one to collect the indices and one to clear them*"
   ]
  },
  {
   "cell_type": "code",
   "execution_count": null,
   "id": "705dc823",
   "metadata": {
    "tags": [
     "solution"
    ]
   },
   "outputs": [],
   "source": [
    "def delete_all_completed_todo_items(todo_list):\n",
    "    indices_to_delete = []\n",
    "    for index, item in enumerate(todo_list.items):\n",
    "        if item.is_completed:\n",
    "            indices_to_delete.append(index)\n",
    "    for index in sorted(indices_to_delete, reverse=True):\n",
    "        del todo_list.items[index]"
   ]
  },
  {
   "cell_type": "code",
   "execution_count": null,
   "id": "e6aa8d2e",
   "metadata": {
    "tags": [
     "solution"
    ]
   },
   "outputs": [],
   "source": [
    "delete_all_completed_todo_items(todos)\n",
    "print(todo_list_as_string(todos))"
   ]
  },
  {
   "cell_type": "markdown",
   "id": "924ecd6d",
   "metadata": {
    "lang": "en"
   },
   "source": [
    "Test your implementation of `delete_all_completed_todo_items()` with\n",
    "the following list:"
   ]
  },
  {
   "cell_type": "code",
   "execution_count": null,
   "id": "fb969ab9",
   "metadata": {
    "tags": [
     "solution"
    ]
   },
   "outputs": [],
   "source": [
    "todo_list_2 = TodoList([TodoItem(f\"Item {n}\", 1, n % 2 == 0) for n in range(10)])\n",
    "print(todo_list_as_string(todo_list_2))"
   ]
  },
  {
   "cell_type": "code",
   "execution_count": null,
   "id": "2efb5807",
   "metadata": {
    "tags": [
     "solution"
    ]
   },
   "outputs": [],
   "source": [
    "delete_all_completed_todo_items(todo_list_2)\n",
    "print(todo_list_as_string(todo_list_2))"
   ]
  },
  {
   "cell_type": "code",
   "execution_count": null,
   "id": "b2d658ae",
   "metadata": {},
   "outputs": [],
   "source": []
  }
 ],
 "metadata": {
  "jupytext": {
   "encoding": "# -*- coding: utf-8 -*-",
   "formats": "ipynb"
  },
  "kernelspec": {
   "display_name": "Python 3 (ipykernel)",
   "language": "python",
   "name": "python3"
  }
 },
 "nbformat": 4,
 "nbformat_minor": 5
}
