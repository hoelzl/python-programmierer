{
 "cells": [
  {
   "cell_type": "markdown",
   "id": "f7a097d3",
   "metadata": {
    "lang": "en"
   },
   "source": [
    "# California Housing Prices"
   ]
  },
  {
   "cell_type": "code",
   "execution_count": null,
   "id": "871aac02",
   "metadata": {},
   "outputs": [],
   "source": [
    "from pathlib import Path\n",
    "import pandas as pd"
   ]
  },
  {
   "cell_type": "code",
   "execution_count": null,
   "id": "afb94352",
   "metadata": {},
   "outputs": [],
   "source": [
    "pandas_data_path = Path(r\"C:\\Users\\tc\\Programming\\Python\\Courses\\Own\\python-programmierer\\Data\\Pandas\")\n",
    "california_housing_csv_path = pandas_data_path / \"california-housing.csv\""
   ]
  },
  {
   "cell_type": "markdown",
   "id": "f735dde5",
   "metadata": {
    "lang": "en"
   },
   "source": [
    "## Loading the data set\n",
    "\n",
    "Load the csv file `california_housing_csv_path` as\n",
    "pandas DataFrame. Do not import any columns without information content."
   ]
  },
  {
   "cell_type": "code",
   "execution_count": null,
   "id": "6d435e69",
   "metadata": {
    "tags": [
     "solution"
    ]
   },
   "outputs": [],
   "source": [
    "df = pd.read_csv(california_housing_csv_path, index_col=0)"
   ]
  },
  {
   "cell_type": "code",
   "execution_count": null,
   "id": "02b9d35f",
   "metadata": {
    "lines_to_next_cell": 2,
    "tags": [
     "solution"
    ]
   },
   "outputs": [],
   "source": [
    "df"
   ]
  },
  {
   "cell_type": "markdown",
   "id": "e933ab2f",
   "metadata": {
    "lang": "en"
   },
   "source": [
    "How many rows does the DataFrame have?"
   ]
  },
  {
   "cell_type": "code",
   "execution_count": null,
   "id": "e790cadc",
   "metadata": {
    "lines_to_next_cell": 2,
    "tags": [
     "solution"
    ]
   },
   "outputs": [],
   "source": [
    "len(df)"
   ]
  },
  {
   "cell_type": "markdown",
   "id": "8f3656c9",
   "metadata": {
    "lang": "en"
   },
   "source": [
    "Which columns does the DataFrame have?\n",
    "Are there columns in the DataFrame that contain undefined values ​​(NA)?"
   ]
  },
  {
   "cell_type": "code",
   "execution_count": null,
   "id": "1e385637",
   "metadata": {
    "tags": [
     "solution"
    ]
   },
   "outputs": [],
   "source": [
    "df.columns"
   ]
  },
  {
   "cell_type": "code",
   "execution_count": null,
   "id": "c73258f1",
   "metadata": {
    "lines_to_next_cell": 2
   },
   "outputs": [],
   "source": [
    "# This is true if `notna()` drops rows, i.e., if \n",
    "df.isna().sum()"
   ]
  },
  {
   "cell_type": "markdown",
   "id": "c2445eb1",
   "metadata": {
    "lang": "en"
   },
   "source": [
    "What are minimum, maximum, mean and standard deviation of each column?"
   ]
  },
  {
   "cell_type": "code",
   "execution_count": null,
   "id": "06733f54",
   "metadata": {
    "tags": [
     "solution"
    ]
   },
   "outputs": [],
   "source": [
    "df.describe()"
   ]
  },
  {
   "cell_type": "markdown",
   "id": "6efab7a9",
   "metadata": {
    "lang": "en"
   },
   "source": [
    "Generate histograms of the individual columns.\n",
    "Are there any features that stick out?"
   ]
  },
  {
   "cell_type": "code",
   "execution_count": null,
   "id": "f04bae94",
   "metadata": {
    "tags": [
     "solution"
    ]
   },
   "outputs": [],
   "source": [
    "df.hist(bins=30, figsize=(12, 8))"
   ]
  },
  {
   "cell_type": "markdown",
   "id": "a6dee447",
   "metadata": {
    "lang": "en"
   },
   "source": [
    "Create a new DataFrame containing only the rows whose `Target`\n",
    "value is greater than 4. How many entries does this DataFrame have?"
   ]
  },
  {
   "cell_type": "code",
   "execution_count": null,
   "id": "53730223",
   "metadata": {
    "tags": [
     "solution"
    ]
   },
   "outputs": [],
   "source": [
    "df_expensive = df[df[\"Target\"] > 4]"
   ]
  },
  {
   "cell_type": "code",
   "execution_count": null,
   "id": "ed3ebbfb",
   "metadata": {
    "lines_to_next_cell": 2,
    "tags": [
     "solution"
    ]
   },
   "outputs": [],
   "source": [
    "df_expensive"
   ]
  },
  {
   "cell_type": "markdown",
   "id": "88e7f06d",
   "metadata": {
    "lang": "en"
   },
   "source": [
    "Plot longitude vs. latitude as a scatterplot. What can you infer from this\n",
    "plot?\n",
    "\n",
    "The `c` keyword argument allows you to specify a column name whose\n",
    "values determine the color of the output. With `cmap` you can create a colormap\n",
    "for these colors. With the keyword argument `alpha` you can set the transparency of the output.\n",
    "\n",
    "Experiment with these values to make the output more informative."
   ]
  },
  {
   "cell_type": "code",
   "execution_count": null,
   "id": "975d14ec",
   "metadata": {
    "tags": [
     "solution"
    ]
   },
   "outputs": [],
   "source": [
    "df.plot(\n",
    "    kind=\"scatter\",\n",
    "    x=\"Longitude\",\n",
    "    y=\"Latitude\",\n",
    "    figsize=(10, 8),\n",
    "    alpha=0.4,\n",
    "    c=\"Target\",\n",
    "    cmap=\"hot\",\n",
    ")"
   ]
  },
  {
   "cell_type": "markdown",
   "id": "c46d21ed",
   "metadata": {
    "lang": "en"
   },
   "source": [
    "What does the corresponding output look like for the DataFrame that only\n",
    "contains expensive houses?"
   ]
  },
  {
   "cell_type": "code",
   "execution_count": null,
   "id": "e1f04682",
   "metadata": {
    "lines_to_next_cell": 2,
    "tags": [
     "solution"
    ]
   },
   "outputs": [],
   "source": [
    "df_expensive.plot(\n",
    "    kind=\"scatter\",\n",
    "    x=\"Longitude\",\n",
    "    y=\"Latitude\",\n",
    "    figsize=(10, 8),\n",
    "    alpha=0.4,\n",
    "    c=\"Target\",\n",
    "    cmap=\"hot\",\n",
    ")"
   ]
  },
  {
   "cell_type": "markdown",
   "id": "61e31d8c",
   "metadata": {
    "lang": "en"
   },
   "source": [
    "If you have installed seaborn you can use `seaborn.pairplot()` to\n",
    "create a grid of scatterplots with all possible combinations of columns.\n",
    "With the keyword argument `hue` you can specify a column that contains the\n",
    "color of the output.\n",
    "\n",
    "Which of the plots provide interesting information? What values might be interesting as value of `hue`?\n",
    "\n",
    "*Note:* It is advisable to decrease the number of rows being plotted to e.g. 500 or 1000 to limit the time it takes to generate the plots."
   ]
  },
  {
   "cell_type": "code",
   "execution_count": null,
   "id": "fd80266f",
   "metadata": {
    "tags": [
     "solution"
    ]
   },
   "outputs": [],
   "source": [
    "import seaborn as sns\n",
    "sns.pairplot(df.iloc[:500])"
   ]
  },
  {
   "cell_type": "code",
   "execution_count": null,
   "id": "9b54aaab",
   "metadata": {
    "lines_to_next_cell": 2,
    "tags": [
     "solution"
    ]
   },
   "outputs": [],
   "source": [
    "sns.pairplot(df.iloc[:500], hue=\"Target\")"
   ]
  },
  {
   "cell_type": "code",
   "execution_count": null,
   "id": "5a1bc87d",
   "metadata": {
    "tags": [
     "solution"
    ]
   },
   "outputs": [],
   "source": [
    "sns.pairplot(df.iloc[:500], hue=\"MedInc\")"
   ]
  },
  {
   "cell_type": "code",
   "execution_count": null,
   "id": "947e763f",
   "metadata": {
    "tags": [
     "solution"
    ]
   },
   "outputs": [],
   "source": [
    "sns.pairplot(df_expensive)"
   ]
  }
 ],
 "metadata": {
  "jupytext": {
   "encoding": "# -*- coding: utf-8 -*-",
   "formats": "ipynb"
  },
  "kernelspec": {
   "display_name": "Python 3 (ipykernel)",
   "language": "python",
   "name": "python3"
  }
 },
 "nbformat": 4,
 "nbformat_minor": 5
}
