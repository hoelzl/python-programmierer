{
 "cells": [
  {
   "cell_type": "markdown",
   "id": "3ab15185",
   "metadata": {
    "lang": "en"
   },
   "source": [
    "# Colours\n",
    "\n",
    "Define a variable `colors` containing a list of the strings\n",
    "`Red`, `Green` and `Blue`."
   ]
  },
  {
   "cell_type": "code",
   "execution_count": null,
   "id": "b2b3b784",
   "metadata": {
    "tags": [
     "solution"
    ]
   },
   "outputs": [],
   "source": [
    "farben = [\"Rot\", \"Grün\", \"Blau\"]"
   ]
  },
  {
   "cell_type": "markdown",
   "id": "9f73f99c",
   "metadata": {
    "lang": "en"
   },
   "source": [
    "Check if the string `yellow` is in `colors`"
   ]
  },
  {
   "cell_type": "code",
   "execution_count": null,
   "id": "95e02d0d",
   "metadata": {
    "tags": [
     "solution"
    ]
   },
   "outputs": [],
   "source": [
    "\"Gelb\" in farben"
   ]
  },
  {
   "cell_type": "markdown",
   "id": "13d921e2",
   "metadata": {
    "lang": "en"
   },
   "source": [
    "Add `Yellow` to the colors."
   ]
  },
  {
   "cell_type": "code",
   "execution_count": null,
   "id": "69a6ec01",
   "metadata": {
    "tags": [
     "solution"
    ]
   },
   "outputs": [],
   "source": [
    "farben.append(\"Gelb\")"
   ]
  },
  {
   "cell_type": "markdown",
   "id": "95f94534",
   "metadata": {
    "lang": "en"
   },
   "source": [
    "Check again if `yellow` is included in the colors."
   ]
  },
  {
   "cell_type": "code",
   "execution_count": null,
   "id": "d48ca0c3",
   "metadata": {
    "tags": [
     "solution"
    ]
   },
   "outputs": [],
   "source": [
    "\"Gelb\" in farben"
   ]
  },
  {
   "cell_type": "markdown",
   "id": "f975efc9",
   "metadata": {
    "lang": "en"
   },
   "source": [
    "How many colors does the list stored in `colors` contain now?"
   ]
  },
  {
   "cell_type": "code",
   "execution_count": null,
   "id": "1da4f69c",
   "metadata": {
    "tags": [
     "solution"
    ]
   },
   "outputs": [],
   "source": [
    "len(farben)"
   ]
  },
  {
   "cell_type": "markdown",
   "id": "9da52723",
   "metadata": {
    "lang": "en"
   },
   "source": [
    "Change the first element in `colors` to `dark red`"
   ]
  },
  {
   "cell_type": "code",
   "execution_count": null,
   "id": "ced2fb68",
   "metadata": {
    "tags": [
     "solution"
    ]
   },
   "outputs": [],
   "source": [
    "farben[0] = \"Dunkelrot\""
   ]
  },
  {
   "cell_type": "markdown",
   "id": "7283279a",
   "metadata": {
    "lang": "en"
   },
   "source": [
    "Add `Purple` as the second item in the list."
   ]
  },
  {
   "cell_type": "code",
   "execution_count": null,
   "id": "8e10c02e",
   "metadata": {
    "tags": [
     "solution"
    ]
   },
   "outputs": [],
   "source": [
    "farben.insert(1, \"Lila\")"
   ]
  },
  {
   "cell_type": "markdown",
   "id": "06acc592",
   "metadata": {
    "lang": "en"
   },
   "source": [
    "What is the third element of the `colors` list?"
   ]
  },
  {
   "cell_type": "code",
   "execution_count": null,
   "id": "14771b68",
   "metadata": {
    "tags": [
     "solution"
    ]
   },
   "outputs": [],
   "source": [
    "farben[2]"
   ]
  },
  {
   "cell_type": "markdown",
   "id": "21e3cce3",
   "metadata": {
    "lang": "en"
   },
   "source": [
    "Delete the second item of the `colors` list"
   ]
  },
  {
   "cell_type": "code",
   "execution_count": null,
   "id": "c3d37779",
   "metadata": {
    "tags": [
     "solution"
    ]
   },
   "outputs": [],
   "source": [
    "del farben[1]"
   ]
  },
  {
   "cell_type": "markdown",
   "id": "4fc8ccdd",
   "metadata": {
    "lang": "en"
   },
   "source": [
    "What is the third element of the `colors` list now?"
   ]
  },
  {
   "cell_type": "code",
   "execution_count": null,
   "id": "1686b3bb",
   "metadata": {
    "tags": [
     "solution"
    ]
   },
   "outputs": [],
   "source": [
    "farben[2]"
   ]
  },
  {
   "cell_type": "markdown",
   "id": "9921c056",
   "metadata": {
    "lang": "en"
   },
   "source": [
    "# Slicing"
   ]
  },
  {
   "cell_type": "code",
   "execution_count": null,
   "id": "5d529716",
   "metadata": {},
   "outputs": [],
   "source": [
    "my_list = [0, 1, 2, 3, 4, 5, 6, 7, 8, 9]"
   ]
  },
  {
   "cell_type": "markdown",
   "id": "ab9a1613",
   "metadata": {
    "lang": "en"
   },
   "source": [
    "Extract from `my_list` a list with all elements except the first two."
   ]
  },
  {
   "cell_type": "code",
   "execution_count": null,
   "id": "93a9ddcf",
   "metadata": {
    "tags": [
     "solution"
    ]
   },
   "outputs": [],
   "source": [
    "my_list[2:]"
   ]
  },
  {
   "cell_type": "markdown",
   "id": "c086e9f2",
   "metadata": {
    "lang": "en"
   },
   "source": [
    "From `my_list` extract a list consisting of the 2nd and 3rd elements."
   ]
  },
  {
   "cell_type": "code",
   "execution_count": null,
   "id": "ae8ef5ac",
   "metadata": {
    "tags": [
     "solution"
    ]
   },
   "outputs": [],
   "source": [
    "my_list[1:3]"
   ]
  },
  {
   "cell_type": "markdown",
   "id": "61fdb759",
   "metadata": {
    "lang": "en"
   },
   "source": [
    "Extract from `my_list` a new list containing all elements except the\n",
    "first and last contains."
   ]
  },
  {
   "cell_type": "code",
   "execution_count": null,
   "id": "fe9ae5d8",
   "metadata": {
    "tags": [
     "solution"
    ]
   },
   "outputs": [],
   "source": [
    "my_list[1:-1]"
   ]
  },
  {
   "cell_type": "markdown",
   "id": "3993e4e0",
   "metadata": {
    "lang": "en"
   },
   "source": [
    "# Finding in lists\n",
    "\n",
    "Write a function `find_first_even_number(list)` that returns the index of the first even number in a list of integers. If the list does not contain an even number, the function should return `None`."
   ]
  },
  {
   "cell_type": "code",
   "execution_count": null,
   "id": "c1516a92",
   "metadata": {
    "tags": [
     "solution"
    ]
   },
   "outputs": [],
   "source": [
    "def finde_erste_gerade_zahl(liste):\n",
    "    result = None\n",
    "    for index, zahl in enumerate(liste):\n",
    "        if zahl % 2 == 0:\n",
    "            result = index\n",
    "            break\n",
    "    return result"
   ]
  },
  {
   "cell_type": "markdown",
   "id": "ca679843",
   "metadata": {
    "lang": "en"
   },
   "source": [
    "Test the function for appropriate arguments."
   ]
  },
  {
   "cell_type": "code",
   "execution_count": null,
   "id": "c851ef43",
   "metadata": {
    "tags": [
     "solution"
    ]
   },
   "outputs": [],
   "source": [
    "assert finde_erste_gerade_zahl([1, 3, 5, 2, 4, 6]) == 3\n",
    "assert finde_erste_gerade_zahl([1, 3]) is None\n",
    "assert finde_erste_gerade_zahl([0, 1, 2, 3]) == 0"
   ]
  },
  {
   "cell_type": "markdown",
   "id": "0b2ae8ab",
   "metadata": {
    "lang": "en"
   },
   "source": [
    "## Mean value of a list\n",
    "\n",
    "The mean of a list with $n$ elements $[x_0, \\dots, x_{n-1}]$ is\n",
    "defined as\n",
    "\n",
    "$$\\frac{x_0 + \\dots + x_{n-1}}{n}$$\n",
    "\n",
    "Write a function `mean(list)` that calculates the mean of a list."
   ]
  },
  {
   "cell_type": "code",
   "execution_count": null,
   "id": "f75aabc4",
   "metadata": {
    "tags": [
     "solution"
    ]
   },
   "outputs": [],
   "source": [
    "def mittelwert(zahlen):\n",
    "    if zahlen:\n",
    "        ergebnis = 0\n",
    "        for zahl in zahlen:\n",
    "            ergebnis += zahl\n",
    "        return ergebnis / len(zahlen)\n",
    "    return 0"
   ]
  },
  {
   "cell_type": "markdown",
   "id": "0438dd26",
   "metadata": {
    "lang": "en"
   },
   "source": [
    "Test the function for appropriate arguments."
   ]
  },
  {
   "cell_type": "code",
   "execution_count": null,
   "id": "d3536740",
   "metadata": {
    "tags": [
     "solution"
    ]
   },
   "outputs": [],
   "source": [
    "assert mittelwert([1, 2, 3]) == 2.0"
   ]
  },
  {
   "cell_type": "code",
   "execution_count": null,
   "id": "e7d50a73",
   "metadata": {
    "tags": [
     "solution"
    ]
   },
   "outputs": [],
   "source": [
    "assert mittelwert([]) == 0"
   ]
  },
  {
   "cell_type": "markdown",
   "id": "2bc6c4cb",
   "metadata": {
    "lang": "en"
   },
   "source": [
    "**Additional task:** The mean of the elements of a list can be calculated iteratively as follows:\n",
    "\n",
    "- The mean $m$ of the empty list is (by definition for this solution) 0\n",
    "- If we add the $n+1$-th element $x_{n+1}$, then the new mean is calculated as\n",
    "\n",
    "$$m \\leftarrow m + \\frac{1}{n+1}(x_{n+1} - m)$$\n",
    "\n",
    "Write a function `iterative_average(list)` that calculates the mean of a list iteratively."
   ]
  },
  {
   "cell_type": "code",
   "execution_count": null,
   "id": "4819e948",
   "metadata": {
    "tags": [
     "solution"
    ]
   },
   "outputs": [],
   "source": [
    "def iterativer_mittelwert(zahlen):\n",
    "    ergebnis = 0\n",
    "    for index, value in enumerate(zahlen):\n",
    "        ergebnis += (value - ergebnis) / (index + 1)\n",
    "    return ergebnis"
   ]
  },
  {
   "cell_type": "code",
   "execution_count": null,
   "id": "2533a57c",
   "metadata": {
    "tags": [
     "solution"
    ]
   },
   "outputs": [],
   "source": [
    "assert iterativer_mittelwert([]) == 0.0"
   ]
  },
  {
   "cell_type": "code",
   "execution_count": null,
   "id": "b2986bcd",
   "metadata": {
    "tags": [
     "solution"
    ]
   },
   "outputs": [],
   "source": [
    "assert iterativer_mittelwert([1]) == 1.0"
   ]
  },
  {
   "cell_type": "code",
   "execution_count": null,
   "id": "9f63b842",
   "metadata": {
    "tags": [
     "solution"
    ]
   },
   "outputs": [],
   "source": [
    "assert iterativer_mittelwert([1, 2, 3]) == 2.0"
   ]
  },
  {
   "cell_type": "code",
   "execution_count": null,
   "id": "64683ea0",
   "metadata": {
    "tags": [
     "solution"
    ]
   },
   "outputs": [],
   "source": [
    "assert iterativer_mittelwert(range(11)) == 5.0"
   ]
  },
  {
   "cell_type": "code",
   "execution_count": null,
   "id": "4a20f219",
   "metadata": {
    "tags": [
     "solution"
    ]
   },
   "outputs": [],
   "source": [
    "def assert_mittelwert_equal(liste):\n",
    "    assert iterativer_mittelwert(liste) == mittelwert(liste)"
   ]
  },
  {
   "cell_type": "code",
   "execution_count": null,
   "id": "9aa29e12",
   "metadata": {
    "tags": [
     "solution"
    ]
   },
   "outputs": [],
   "source": [
    "assert_mittelwert_equal([])\n",
    "assert_mittelwert_equal([1, 2, 3])\n",
    "assert_mittelwert_equal(list(range(10)))"
   ]
  },
  {
   "cell_type": "markdown",
   "id": "e0532390",
   "metadata": {
    "lang": "en"
   },
   "source": [
    "# Square numbers\n",
    "\n",
    "Given the following list of numbers."
   ]
  },
  {
   "cell_type": "code",
   "execution_count": null,
   "id": "0571cf24",
   "metadata": {},
   "outputs": [],
   "source": [
    "numbers = [1, 7, 4, 87, 23]"
   ]
  },
  {
   "cell_type": "markdown",
   "id": "367cfaee",
   "metadata": {
    "lang": "en"
   },
   "source": [
    "Create a new list containing the squares of the numbers in `numbers`."
   ]
  },
  {
   "cell_type": "code",
   "execution_count": null,
   "id": "ae361366",
   "metadata": {
    "tags": [
     "solution"
    ]
   },
   "outputs": [],
   "source": [
    "result = []\n",
    "for n in numbers:\n",
    "    result.append(n * n)\n",
    "result"
   ]
  },
  {
   "cell_type": "markdown",
   "id": "72ec4b33",
   "metadata": {
    "lang": "en"
   },
   "source": [
    "Write a function `square(numbers)` that returns a new list with the\n",
    "squares the numbers in `numbers`."
   ]
  },
  {
   "cell_type": "code",
   "execution_count": null,
   "id": "d5111235",
   "metadata": {
    "tags": [
     "solution"
    ]
   },
   "outputs": [],
   "source": [
    "def quadriere(zahlen):\n",
    "    result = []\n",
    "    for n in zahlen:\n",
    "        result.append(n * n)\n",
    "    return result"
   ]
  },
  {
   "cell_type": "code",
   "execution_count": null,
   "id": "62995169",
   "metadata": {
    "tags": [
     "solution"
    ]
   },
   "outputs": [],
   "source": [
    "assert quadriere(numbers) == [1, 49, 16, 7569, 529]"
   ]
  },
  {
   "cell_type": "markdown",
   "id": "c091506a",
   "metadata": {
    "lang": "en"
   },
   "source": [
    "# Square numbers with list comprehension\n",
    "\n",
    "Create a new list with the squares of `numbers` using list comprehension."
   ]
  },
  {
   "cell_type": "code",
   "execution_count": null,
   "id": "9b29105e",
   "metadata": {
    "tags": [
     "solution"
    ]
   },
   "outputs": [],
   "source": [
    "[n * n for n in numbers]"
   ]
  },
  {
   "cell_type": "markdown",
   "id": "b2e7f844",
   "metadata": {
    "lang": "en"
   },
   "source": [
    "Implement the function `square(numbers)` using list comprehension."
   ]
  },
  {
   "cell_type": "code",
   "execution_count": null,
   "id": "0a5e1014",
   "metadata": {
    "tags": [
     "solution"
    ]
   },
   "outputs": [],
   "source": [
    "def quadriere(zahlen):\n",
    "    return [n * n for n in zahlen]"
   ]
  },
  {
   "cell_type": "code",
   "execution_count": null,
   "id": "14682a65",
   "metadata": {
    "tags": [
     "solution"
    ]
   },
   "outputs": [],
   "source": [
    "quadriere(numbers)"
   ]
  },
  {
   "cell_type": "markdown",
   "id": "24874158",
   "metadata": {
    "lang": "en"
   },
   "source": [
    "# Filtering lists\n",
    "\n",
    "Given the following list of numbers:"
   ]
  },
  {
   "cell_type": "code",
   "execution_count": null,
   "id": "666b1ee0",
   "metadata": {},
   "outputs": [],
   "source": [
    "numbers = [1, 183, 7, 4, 87, 10, 23, -12, 493, 11]"
   ]
  },
  {
   "cell_type": "markdown",
   "id": "43179d35",
   "metadata": {
    "lang": "en"
   },
   "source": [
    "Create a new list containing all numbers in `numbers` that are greater than 10."
   ]
  },
  {
   "cell_type": "code",
   "execution_count": null,
   "id": "22552242",
   "metadata": {
    "tags": [
     "solution"
    ]
   },
   "outputs": [],
   "source": [
    "result = []\n",
    "for n in numbers:\n",
    "    if n > 10:\n",
    "        result.append(n)\n",
    "result"
   ]
  },
  {
   "cell_type": "markdown",
   "id": "51305225",
   "metadata": {
    "lang": "en"
   },
   "source": [
    "Write a function `numbers_greater_than_10(numbers)` that returns a list containing the numbers from `numbers` that are greater than 10."
   ]
  },
  {
   "cell_type": "code",
   "execution_count": null,
   "id": "106b8d53",
   "metadata": {
    "tags": [
     "solution"
    ]
   },
   "outputs": [],
   "source": [
    "def zahlen_größer_als_10(zahlen):\n",
    "    result = []\n",
    "    for n in zahlen:\n",
    "        if n > 10:\n",
    "            result.append(n)\n",
    "    return result"
   ]
  },
  {
   "cell_type": "code",
   "execution_count": null,
   "id": "7300ff15",
   "metadata": {
    "tags": [
     "solution"
    ]
   },
   "outputs": [],
   "source": [
    "assert zahlen_größer_als_10(numbers) == [183, 87, 23, 493, 11]"
   ]
  },
  {
   "cell_type": "markdown",
   "id": "905cdda0",
   "metadata": {
    "lang": "en"
   },
   "source": [
    "# Filtering with list comprehension\n",
    "\n",
    "Create a new list containing all numbers in `numbers` that are larger\n",
    "than 10. Use list comprehension to do this."
   ]
  },
  {
   "cell_type": "code",
   "execution_count": null,
   "id": "e98ba316",
   "metadata": {
    "tags": [
     "solution"
    ]
   },
   "outputs": [],
   "source": [
    "[n for n in numbers if n > 10]"
   ]
  },
  {
   "cell_type": "markdown",
   "id": "23c83f6d",
   "metadata": {
    "lang": "en"
   },
   "source": [
    "Implement the function `numbers_greater_than_10(numbers)` using list comprehension."
   ]
  },
  {
   "cell_type": "code",
   "execution_count": null,
   "id": "1c9c375d",
   "metadata": {
    "tags": [
     "solution"
    ]
   },
   "outputs": [],
   "source": [
    "def zahlen_größer_als_10(zahlen):\n",
    "    return [n for n in zahlen if n > 10]"
   ]
  },
  {
   "cell_type": "code",
   "execution_count": null,
   "id": "03db192b",
   "metadata": {
    "tags": [
     "solution"
    ]
   },
   "outputs": [],
   "source": [
    "assert zahlen_größer_als_10(numbers) == [183, 87, 23, 493, 11]"
   ]
  },
  {
   "cell_type": "markdown",
   "id": "d981ae92",
   "metadata": {
    "lang": "en"
   },
   "source": [
    "Write a function `square_of_numbers_less than_10(numbers)`,\n",
    "which returns a new list containing the squares of all numbers < 10\n",
    "contained in `numbers`."
   ]
  },
  {
   "cell_type": "code",
   "execution_count": null,
   "id": "6c99e325",
   "metadata": {
    "tags": [
     "solution"
    ]
   },
   "outputs": [],
   "source": [
    "def quadrate_von_zahlen_kleiner_10(zahlen):\n",
    "    return [n * n for n in zahlen if n < 10]"
   ]
  },
  {
   "cell_type": "code",
   "execution_count": null,
   "id": "705359a9",
   "metadata": {},
   "outputs": [],
   "source": [
    "numbers"
   ]
  },
  {
   "cell_type": "code",
   "execution_count": null,
   "id": "0fea12c8",
   "metadata": {
    "tags": [
     "solution"
    ]
   },
   "outputs": [],
   "source": [
    "assert quadrate_von_zahlen_kleiner_10(numbers) == [1, 49, 16, 144]"
   ]
  },
  {
   "cell_type": "markdown",
   "id": "0250460f",
   "metadata": {
    "lang": "en"
   },
   "source": [
    "# Generators"
   ]
  },
  {
   "cell_type": "markdown",
   "id": "db815f8f",
   "metadata": {
    "lang": "en"
   },
   "source": [
    "## Square number generator\n",
    "\n",
    "Write a generator that produces the first 10 square numbers."
   ]
  },
  {
   "cell_type": "code",
   "execution_count": null,
   "id": "e3997aa3",
   "metadata": {
    "tags": [
     "solution"
    ]
   },
   "outputs": [],
   "source": [
    "gen = (i * i for i in range(1, 11))"
   ]
  },
  {
   "cell_type": "code",
   "execution_count": null,
   "id": "3aef1bf7",
   "metadata": {
    "tags": [
     "solution"
    ]
   },
   "outputs": [],
   "source": [
    "for i in gen:\n",
    "    print(i, end=\" \")"
   ]
  },
  {
   "cell_type": "markdown",
   "id": "629a7cbc",
   "metadata": {
    "lang": "en"
   },
   "source": [
    "## Take\n",
    "\n",
    "Write a function `take(n: int, it)` which takes an Iterable `it` as\n",
    "argument and returns a new iterable that successively returns the first `n`\n",
    "elements that `it` supplies."
   ]
  },
  {
   "cell_type": "code",
   "execution_count": null,
   "id": "e20845c9",
   "metadata": {
    "tags": [
     "solution"
    ]
   },
   "outputs": [],
   "source": [
    "def take(n, it):\n",
    "    for i, elt in enumerate(it):\n",
    "        if i >= n:\n",
    "            break\n",
    "        yield elt"
   ]
  },
  {
   "cell_type": "code",
   "execution_count": null,
   "id": "76a97f19",
   "metadata": {
    "tags": [
     "solution"
    ]
   },
   "outputs": [],
   "source": [
    "for i in take(4, range(20)):\n",
    "    print(i, end=\" \")"
   ]
  },
  {
   "cell_type": "code",
   "execution_count": null,
   "id": "15c80aa5",
   "metadata": {
    "tags": [
     "solution"
    ]
   },
   "outputs": [],
   "source": [
    "for i in take(100, range(5)):\n",
    "    print(i, end=\" \")"
   ]
  }
 ],
 "metadata": {
  "jupytext": {
   "encoding": "# -*- coding: utf-8 -*-",
   "formats": "ipynb"
  },
  "kernelspec": {
   "display_name": "Python 3 (ipykernel)",
   "language": "python",
   "name": "python3"
  }
 },
 "nbformat": 4,
 "nbformat_minor": 5
}
