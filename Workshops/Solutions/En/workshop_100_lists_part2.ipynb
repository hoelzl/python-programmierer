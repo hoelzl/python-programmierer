{
 "cells": [
  {
   "cell_type": "markdown",
   "id": "7351039a",
   "metadata": {
    "lang": "en"
   },
   "source": [
    "# Colours\n",
    "\n",
    "Define a variable `colors` containing a list of the strings\n",
    "`Red`, `Green` and `Blue`."
   ]
  },
  {
   "cell_type": "code",
   "execution_count": null,
   "id": "07806ef2",
   "metadata": {
    "tags": [
     "solution"
    ]
   },
   "outputs": [],
   "source": [
    "farben = [\"Rot\", \"Grün\", \"Blau\"]"
   ]
  },
  {
   "cell_type": "markdown",
   "id": "86321d08",
   "metadata": {
    "lang": "en"
   },
   "source": [
    "Check if the string `yellow` is in `colors`"
   ]
  },
  {
   "cell_type": "code",
   "execution_count": null,
   "id": "5aeb3afa",
   "metadata": {
    "tags": [
     "solution"
    ]
   },
   "outputs": [],
   "source": [
    "\"Gelb\" in farben"
   ]
  },
  {
   "cell_type": "markdown",
   "id": "7afcabb9",
   "metadata": {
    "lang": "en"
   },
   "source": [
    "Add `Yellow` to the colors."
   ]
  },
  {
   "cell_type": "code",
   "execution_count": null,
   "id": "2eaf39d5",
   "metadata": {
    "tags": [
     "solution"
    ]
   },
   "outputs": [],
   "source": [
    "farben.append(\"Gelb\")"
   ]
  },
  {
   "cell_type": "markdown",
   "id": "311703c0",
   "metadata": {
    "lang": "en"
   },
   "source": [
    "Check again if `yellow` is included in the colors."
   ]
  },
  {
   "cell_type": "code",
   "execution_count": null,
   "id": "c959cfa3",
   "metadata": {
    "tags": [
     "solution"
    ]
   },
   "outputs": [],
   "source": [
    "\"Gelb\" in farben"
   ]
  },
  {
   "cell_type": "markdown",
   "id": "7b519765",
   "metadata": {
    "lang": "en"
   },
   "source": [
    "How many colors does the list stored in `colors` contain now?"
   ]
  },
  {
   "cell_type": "code",
   "execution_count": null,
   "id": "aff962cc",
   "metadata": {
    "tags": [
     "solution"
    ]
   },
   "outputs": [],
   "source": [
    "len(farben)"
   ]
  },
  {
   "cell_type": "markdown",
   "id": "b5e75066",
   "metadata": {
    "lang": "en"
   },
   "source": [
    "Change the first element in `colors` to `dark red`"
   ]
  },
  {
   "cell_type": "code",
   "execution_count": null,
   "id": "ecb441df",
   "metadata": {
    "tags": [
     "solution"
    ]
   },
   "outputs": [],
   "source": [
    "farben[0] = \"Dunkelrot\""
   ]
  },
  {
   "cell_type": "markdown",
   "id": "ec71cf1b",
   "metadata": {
    "lang": "en"
   },
   "source": [
    "Add `Purple` as the second item in the list."
   ]
  },
  {
   "cell_type": "code",
   "execution_count": null,
   "id": "2bfbaf0e",
   "metadata": {
    "tags": [
     "solution"
    ]
   },
   "outputs": [],
   "source": [
    "farben.insert(1, \"Lila\")"
   ]
  },
  {
   "cell_type": "markdown",
   "id": "5aaeb60c",
   "metadata": {
    "lang": "en"
   },
   "source": [
    "What is the third element of the `colors` list?"
   ]
  },
  {
   "cell_type": "code",
   "execution_count": null,
   "id": "f21ccf29",
   "metadata": {
    "tags": [
     "solution"
    ]
   },
   "outputs": [],
   "source": [
    "farben[2]"
   ]
  },
  {
   "cell_type": "markdown",
   "id": "7feee32c",
   "metadata": {
    "lang": "en"
   },
   "source": [
    "Delete the second item of the `colors` list"
   ]
  },
  {
   "cell_type": "code",
   "execution_count": null,
   "id": "a52c2efd",
   "metadata": {
    "tags": [
     "solution"
    ]
   },
   "outputs": [],
   "source": [
    "del farben[1]"
   ]
  },
  {
   "cell_type": "markdown",
   "id": "60947ef9",
   "metadata": {
    "lang": "en"
   },
   "source": [
    "What is the third element of the `colors` list now?"
   ]
  },
  {
   "cell_type": "code",
   "execution_count": null,
   "id": "583918a7",
   "metadata": {
    "tags": [
     "solution"
    ]
   },
   "outputs": [],
   "source": [
    "farben[2]"
   ]
  },
  {
   "cell_type": "markdown",
   "id": "ec60524f",
   "metadata": {
    "lang": "en"
   },
   "source": [
    "# Slicing"
   ]
  },
  {
   "cell_type": "code",
   "execution_count": null,
   "id": "1f7a570b",
   "metadata": {},
   "outputs": [],
   "source": [
    "my_list = [0, 1, 2, 3, 4, 5, 6, 7, 8, 9]"
   ]
  },
  {
   "cell_type": "markdown",
   "id": "7b4f91d5",
   "metadata": {
    "lang": "en"
   },
   "source": [
    "Extract from `my_list` a list with all elements except the first two."
   ]
  },
  {
   "cell_type": "code",
   "execution_count": null,
   "id": "cf6687a1",
   "metadata": {
    "tags": [
     "solution"
    ]
   },
   "outputs": [],
   "source": [
    "my_list[2:]"
   ]
  },
  {
   "cell_type": "markdown",
   "id": "76f79809",
   "metadata": {
    "lang": "en"
   },
   "source": [
    "From `my_list` extract a list consisting of the 2nd and 3rd elements."
   ]
  },
  {
   "cell_type": "code",
   "execution_count": null,
   "id": "ba269fd9",
   "metadata": {
    "tags": [
     "solution"
    ]
   },
   "outputs": [],
   "source": [
    "my_list[1:3]"
   ]
  },
  {
   "cell_type": "markdown",
   "id": "b97ef18e",
   "metadata": {
    "lang": "en"
   },
   "source": [
    "Extract from `my_list` a new list containing all elements except the\n",
    "first and last contains."
   ]
  },
  {
   "cell_type": "code",
   "execution_count": null,
   "id": "a666ac20",
   "metadata": {
    "tags": [
     "solution"
    ]
   },
   "outputs": [],
   "source": [
    "my_list[1:-1]"
   ]
  },
  {
   "cell_type": "markdown",
   "id": "a02c610b",
   "metadata": {
    "lang": "en"
   },
   "source": [
    "# Finding in lists\n",
    "\n",
    "Write a function `find_first_even_number(list)` that returns the index of the first even number in a list of integers. If the list does not contain an even number, the function should return `None`."
   ]
  },
  {
   "cell_type": "code",
   "execution_count": null,
   "id": "cd3882ba",
   "metadata": {
    "tags": [
     "solution"
    ]
   },
   "outputs": [],
   "source": [
    "def finde_erste_gerade_zahl(liste):\n",
    "    result = None\n",
    "    for index, zahl in enumerate(liste):\n",
    "        if zahl % 2 == 0:\n",
    "            result = index\n",
    "            break\n",
    "    return result"
   ]
  },
  {
   "cell_type": "markdown",
   "id": "98785157",
   "metadata": {
    "lang": "en"
   },
   "source": [
    "Test the function for appropriate arguments."
   ]
  },
  {
   "cell_type": "code",
   "execution_count": null,
   "id": "56a579e0",
   "metadata": {
    "tags": [
     "solution"
    ]
   },
   "outputs": [],
   "source": [
    "assert finde_erste_gerade_zahl([1, 3, 5, 2, 4, 6]) == 3\n",
    "assert finde_erste_gerade_zahl([1, 3]) is None\n",
    "assert finde_erste_gerade_zahl([0, 1, 2, 3]) == 0"
   ]
  },
  {
   "cell_type": "markdown",
   "id": "07d486f7",
   "metadata": {
    "lang": "en"
   },
   "source": [
    "## Mean value of a list\n",
    "\n",
    "The mean of a list with $n$ elements $[x_0, \\dots, x_{n-1}]$ is\n",
    "defined as\n",
    "\n",
    "$$\\frac{x_0 + \\dots + x_{n-1}}{n}$$\n",
    "\n",
    "Write a function `mean(list)` that calculates the mean of a list."
   ]
  },
  {
   "cell_type": "code",
   "execution_count": null,
   "id": "c08ea44a",
   "metadata": {
    "tags": [
     "solution"
    ]
   },
   "outputs": [],
   "source": [
    "def mittelwert(zahlen):\n",
    "    if zahlen:\n",
    "        ergebnis = 0\n",
    "        for zahl in zahlen:\n",
    "            ergebnis += zahl\n",
    "        return ergebnis / len(zahlen)\n",
    "    return 0"
   ]
  },
  {
   "cell_type": "markdown",
   "id": "a17d406e",
   "metadata": {
    "lang": "en"
   },
   "source": [
    "Test the function for appropriate arguments."
   ]
  },
  {
   "cell_type": "code",
   "execution_count": null,
   "id": "e0fc1305",
   "metadata": {
    "tags": [
     "solution"
    ]
   },
   "outputs": [],
   "source": [
    "assert mittelwert([1, 2, 3]) == 2.0"
   ]
  },
  {
   "cell_type": "code",
   "execution_count": null,
   "id": "f285c73b",
   "metadata": {
    "tags": [
     "solution"
    ]
   },
   "outputs": [],
   "source": [
    "assert mittelwert([]) == 0"
   ]
  },
  {
   "cell_type": "markdown",
   "id": "439717aa",
   "metadata": {
    "lang": "en"
   },
   "source": [
    "**Additional task:** The mean of the elements of a list can be calculated iteratively as follows:\n",
    "\n",
    "- The mean $m$ of the empty list is (by definition for this solution) 0\n",
    "- If we add the $n+1$-th element $x_{n+1}$, then the new mean is calculated as\n",
    "\n",
    "$$m \\leftarrow m + \\frac{1}{n+1}(x_{n+1} - m)$$\n",
    "\n",
    "Write a function `iterative_average(list)` that calculates the mean of a list iteratively."
   ]
  },
  {
   "cell_type": "code",
   "execution_count": null,
   "id": "447d7340",
   "metadata": {
    "tags": [
     "solution"
    ]
   },
   "outputs": [],
   "source": [
    "def iterativer_mittelwert(zahlen):\n",
    "    ergebnis = 0\n",
    "    for index, value in enumerate(zahlen):\n",
    "        ergebnis += (value - ergebnis) / (index + 1)\n",
    "    return ergebnis"
   ]
  },
  {
   "cell_type": "code",
   "execution_count": null,
   "id": "7ab7441f",
   "metadata": {
    "tags": [
     "solution"
    ]
   },
   "outputs": [],
   "source": [
    "assert iterativer_mittelwert([]) == 0.0"
   ]
  },
  {
   "cell_type": "code",
   "execution_count": null,
   "id": "90942af1",
   "metadata": {
    "tags": [
     "solution"
    ]
   },
   "outputs": [],
   "source": [
    "assert iterativer_mittelwert([1]) == 1.0"
   ]
  },
  {
   "cell_type": "code",
   "execution_count": null,
   "id": "d288f868",
   "metadata": {
    "tags": [
     "solution"
    ]
   },
   "outputs": [],
   "source": [
    "assert iterativer_mittelwert([1, 2, 3]) == 2.0"
   ]
  },
  {
   "cell_type": "code",
   "execution_count": null,
   "id": "b7d02347",
   "metadata": {
    "tags": [
     "solution"
    ]
   },
   "outputs": [],
   "source": [
    "assert iterativer_mittelwert(range(11)) == 5.0"
   ]
  },
  {
   "cell_type": "code",
   "execution_count": null,
   "id": "bdcfbc32",
   "metadata": {
    "tags": [
     "solution"
    ]
   },
   "outputs": [],
   "source": [
    "def assert_mittelwert_equal(liste):\n",
    "    assert iterativer_mittelwert(liste) == mittelwert(liste)"
   ]
  },
  {
   "cell_type": "code",
   "execution_count": null,
   "id": "1f63a678",
   "metadata": {
    "tags": [
     "solution"
    ]
   },
   "outputs": [],
   "source": [
    "assert_mittelwert_equal([])\n",
    "assert_mittelwert_equal([1, 2, 3])\n",
    "assert_mittelwert_equal(list(range(10)))"
   ]
  },
  {
   "cell_type": "markdown",
   "id": "d039dd6e",
   "metadata": {
    "lang": "en"
   },
   "source": [
    "# Square numbers\n",
    "\n",
    "Given the following list of numbers."
   ]
  },
  {
   "cell_type": "code",
   "execution_count": null,
   "id": "e84fdd59",
   "metadata": {},
   "outputs": [],
   "source": [
    "numbers = [1, 7, 4, 87, 23]"
   ]
  },
  {
   "cell_type": "markdown",
   "id": "17b24335",
   "metadata": {
    "lang": "en"
   },
   "source": [
    "Create a new list containing the squares of the numbers in `numbers`."
   ]
  },
  {
   "cell_type": "code",
   "execution_count": null,
   "id": "25fb5b14",
   "metadata": {
    "tags": [
     "solution"
    ]
   },
   "outputs": [],
   "source": [
    "result = []\n",
    "for n in numbers:\n",
    "    result.append(n * n)\n",
    "result"
   ]
  },
  {
   "cell_type": "markdown",
   "id": "a4fe0dd9",
   "metadata": {
    "lang": "en"
   },
   "source": [
    "Write a function `square(numbers)` that returns a new list with the\n",
    "squares the numbers in `numbers`."
   ]
  },
  {
   "cell_type": "code",
   "execution_count": null,
   "id": "5e7812c4",
   "metadata": {
    "tags": [
     "solution"
    ]
   },
   "outputs": [],
   "source": [
    "def quadriere(zahlen):\n",
    "    result = []\n",
    "    for n in zahlen:\n",
    "        result.append(n * n)\n",
    "    return result"
   ]
  },
  {
   "cell_type": "code",
   "execution_count": null,
   "id": "c8e21e58",
   "metadata": {
    "tags": [
     "solution"
    ]
   },
   "outputs": [],
   "source": [
    "assert quadriere(numbers) == [1, 49, 16, 7569, 529]"
   ]
  },
  {
   "cell_type": "markdown",
   "id": "7244c6f1",
   "metadata": {
    "lang": "en"
   },
   "source": [
    "# Square numbers with list comprehension\n",
    "\n",
    "Create a new list with the squares of `numbers` using list comprehension."
   ]
  },
  {
   "cell_type": "code",
   "execution_count": null,
   "id": "72c851d6",
   "metadata": {
    "tags": [
     "solution"
    ]
   },
   "outputs": [],
   "source": [
    "[n * n for n in numbers]"
   ]
  },
  {
   "cell_type": "markdown",
   "id": "71ca3881",
   "metadata": {
    "lang": "en"
   },
   "source": [
    "Implement the function `square(numbers)` using list comprehension."
   ]
  },
  {
   "cell_type": "code",
   "execution_count": null,
   "id": "2ebbeb22",
   "metadata": {
    "tags": [
     "solution"
    ]
   },
   "outputs": [],
   "source": [
    "def quadriere(zahlen):\n",
    "    return [n * n for n in zahlen]"
   ]
  },
  {
   "cell_type": "code",
   "execution_count": null,
   "id": "6b322d8b",
   "metadata": {
    "tags": [
     "solution"
    ]
   },
   "outputs": [],
   "source": [
    "quadriere(numbers)"
   ]
  },
  {
   "cell_type": "markdown",
   "id": "12c9761f",
   "metadata": {
    "lang": "en"
   },
   "source": [
    "# Filtering lists\n",
    "\n",
    "Given the following list of numbers:"
   ]
  },
  {
   "cell_type": "code",
   "execution_count": null,
   "id": "f240e785",
   "metadata": {},
   "outputs": [],
   "source": [
    "numbers = [1, 183, 7, 4, 87, 10, 23, -12, 493, 11]"
   ]
  },
  {
   "cell_type": "markdown",
   "id": "00be0fb5",
   "metadata": {
    "lang": "en"
   },
   "source": [
    "Create a new list containing all numbers in `numbers` that are greater than 10."
   ]
  },
  {
   "cell_type": "code",
   "execution_count": null,
   "id": "6d40c38c",
   "metadata": {
    "tags": [
     "solution"
    ]
   },
   "outputs": [],
   "source": [
    "result = []\n",
    "for n in numbers:\n",
    "    if n > 10:\n",
    "        result.append(n)\n",
    "result"
   ]
  },
  {
   "cell_type": "markdown",
   "id": "7068a37c",
   "metadata": {
    "lang": "en"
   },
   "source": [
    "Write a function `numbers_greater_than_10(numbers)` that returns a list containing the numbers from `numbers` that are greater than 10."
   ]
  },
  {
   "cell_type": "code",
   "execution_count": null,
   "id": "756f65eb",
   "metadata": {
    "tags": [
     "solution"
    ]
   },
   "outputs": [],
   "source": [
    "def zahlen_größer_als_10(zahlen):\n",
    "    result = []\n",
    "    for n in zahlen:\n",
    "        if n > 10:\n",
    "            result.append(n)\n",
    "    return result"
   ]
  },
  {
   "cell_type": "code",
   "execution_count": null,
   "id": "2579ef0c",
   "metadata": {
    "tags": [
     "solution"
    ]
   },
   "outputs": [],
   "source": [
    "assert zahlen_größer_als_10(numbers) == [183, 87, 23, 493, 11]"
   ]
  },
  {
   "cell_type": "markdown",
   "id": "11350bc6",
   "metadata": {
    "lang": "en"
   },
   "source": [
    "# Filtering with list comprehension\n",
    "\n",
    "Create a new list containing all numbers in `numbers` that are larger\n",
    "than 10. Use list comprehension to do this."
   ]
  },
  {
   "cell_type": "code",
   "execution_count": null,
   "id": "4019150d",
   "metadata": {
    "tags": [
     "solution"
    ]
   },
   "outputs": [],
   "source": [
    "[n for n in numbers if n > 10]"
   ]
  },
  {
   "cell_type": "markdown",
   "id": "14aaeeb5",
   "metadata": {
    "lang": "en"
   },
   "source": [
    "Implement the function `numbers_greater_than_10(numbers)` using list comprehension."
   ]
  },
  {
   "cell_type": "code",
   "execution_count": null,
   "id": "4a7b9034",
   "metadata": {
    "tags": [
     "solution"
    ]
   },
   "outputs": [],
   "source": [
    "def zahlen_größer_als_10(zahlen):\n",
    "    return [n for n in zahlen if n > 10]"
   ]
  },
  {
   "cell_type": "code",
   "execution_count": null,
   "id": "5e4162e1",
   "metadata": {
    "tags": [
     "solution"
    ]
   },
   "outputs": [],
   "source": [
    "assert zahlen_größer_als_10(numbers) == [183, 87, 23, 493, 11]"
   ]
  },
  {
   "cell_type": "markdown",
   "id": "7b1d84bb",
   "metadata": {
    "lang": "en"
   },
   "source": [
    "Write a function `square_of_numbers_less than_10(numbers)`,\n",
    "which returns a new list containing the squares of all numbers < 10\n",
    "contained in `numbers`."
   ]
  },
  {
   "cell_type": "code",
   "execution_count": null,
   "id": "5672d8ec",
   "metadata": {
    "tags": [
     "solution"
    ]
   },
   "outputs": [],
   "source": [
    "def quadrate_von_zahlen_kleiner_10(zahlen):\n",
    "    return [n * n for n in zahlen if n < 10]"
   ]
  },
  {
   "cell_type": "code",
   "execution_count": null,
   "id": "d51642b7",
   "metadata": {},
   "outputs": [],
   "source": [
    "numbers"
   ]
  },
  {
   "cell_type": "code",
   "execution_count": null,
   "id": "7442d585",
   "metadata": {
    "tags": [
     "solution"
    ]
   },
   "outputs": [],
   "source": [
    "assert quadrate_von_zahlen_kleiner_10(numbers) == [1, 49, 16, 144]"
   ]
  },
  {
   "cell_type": "markdown",
   "id": "e609cd81",
   "metadata": {
    "lang": "en"
   },
   "source": [
    "# Generators"
   ]
  },
  {
   "cell_type": "markdown",
   "id": "ea71abb3",
   "metadata": {
    "lang": "en"
   },
   "source": [
    "## Square number generator\n",
    "\n",
    "Write a generator that produces the first 10 square numbers."
   ]
  },
  {
   "cell_type": "code",
   "execution_count": null,
   "id": "7b289355",
   "metadata": {
    "tags": [
     "solution"
    ]
   },
   "outputs": [],
   "source": [
    "gen = (i * i for i in range(1, 11))"
   ]
  },
  {
   "cell_type": "code",
   "execution_count": null,
   "id": "24f68d17",
   "metadata": {
    "tags": [
     "solution"
    ]
   },
   "outputs": [],
   "source": [
    "for i in gen:\n",
    "    print(i, end=\" \")"
   ]
  },
  {
   "cell_type": "markdown",
   "id": "d53750cc",
   "metadata": {
    "lang": "en"
   },
   "source": [
    "## Take\n",
    "\n",
    "Write a function `take(n: int, it)` which takes an Iterable `it` as\n",
    "argument and returns a new iterable that successively returns the first `n`\n",
    "elements that `it` supplies."
   ]
  },
  {
   "cell_type": "code",
   "execution_count": null,
   "id": "e0a28bb9",
   "metadata": {
    "tags": [
     "solution"
    ]
   },
   "outputs": [],
   "source": [
    "def take(n, it):\n",
    "    for i, elt in enumerate(it):\n",
    "        if i >= n:\n",
    "            break\n",
    "        yield elt"
   ]
  },
  {
   "cell_type": "code",
   "execution_count": null,
   "id": "858863b9",
   "metadata": {
    "tags": [
     "solution"
    ]
   },
   "outputs": [],
   "source": [
    "for i in take(4, range(20)):\n",
    "    print(i, end=\" \")"
   ]
  },
  {
   "cell_type": "code",
   "execution_count": null,
   "id": "c6fc52ce",
   "metadata": {
    "tags": [
     "solution"
    ]
   },
   "outputs": [],
   "source": [
    "for i in take(100, range(5)):\n",
    "    print(i, end=\" \")"
   ]
  }
 ],
 "metadata": {
  "jupytext": {
   "encoding": "# -*- coding: utf-8 -*-",
   "formats": "ipynb"
  },
  "kernelspec": {
   "display_name": "Python 3 (ipykernel)",
   "language": "python",
   "name": "python3"
  }
 },
 "nbformat": 4,
 "nbformat_minor": 5
}
