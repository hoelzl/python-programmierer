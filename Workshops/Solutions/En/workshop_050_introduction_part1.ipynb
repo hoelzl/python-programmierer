{
 "cells": [
  {
   "cell_type": "markdown",
   "id": "58e3ea10",
   "metadata": {
    "lang": "en"
   },
   "source": [
    "# Introduction\n",
    "\n",
    "How can you represent the string `Hello, world!` in Python?"
   ]
  },
  {
   "cell_type": "code",
   "execution_count": null,
   "id": "9aa2d689",
   "metadata": {
    "tags": [
     "solution"
    ]
   },
   "outputs": [],
   "source": [
    "\"Hello, world!\""
   ]
  },
  {
   "cell_type": "markdown",
   "id": "ec507148",
   "metadata": {
    "lang": "en"
   },
   "source": [
    "How can you represent your name as text (string) in Python?"
   ]
  },
  {
   "cell_type": "code",
   "execution_count": null,
   "id": "d474e5f0",
   "metadata": {
    "tags": [
     "solution"
    ]
   },
   "outputs": [],
   "source": [
    "\"Matthias\""
   ]
  },
  {
   "cell_type": "markdown",
   "id": "cefb9053",
   "metadata": {
    "lang": "en"
   },
   "source": [
    "How can you output the string `Hello, World!` to the screen?"
   ]
  },
  {
   "cell_type": "code",
   "execution_count": null,
   "id": "27ae87ee",
   "metadata": {
    "tags": [
     "solution"
    ]
   },
   "outputs": [],
   "source": [
    "print(\"Hello, World!\")"
   ]
  },
  {
   "cell_type": "markdown",
   "id": "b7e0a622",
   "metadata": {
    "lang": "en"
   },
   "source": [
    "How can you output your name to the screen?"
   ]
  },
  {
   "cell_type": "code",
   "execution_count": null,
   "id": "f3d598ad",
   "metadata": {
    "tags": [
     "solution"
    ]
   },
   "outputs": [],
   "source": [
    "print(\"Matthias\")"
   ]
  },
  {
   "cell_type": "markdown",
   "id": "f2d553e6",
   "metadata": {
    "lang": "en"
   },
   "source": [
    "How can you output\n",
    "\n",
    "```\n",
    "130 grams of flour\n",
    "250ml milk\n",
    "1 tbsp vanilla sugar\n",
    "1 pinch of salt\n",
    "```\n",
    "\n",
    "to the screen?"
   ]
  },
  {
   "cell_type": "code",
   "execution_count": null,
   "id": "3a212c06",
   "metadata": {
    "tags": [
     "solution"
    ]
   },
   "outputs": [],
   "source": [
    "print(\"130 g   Mehl\")\n",
    "print(\"250 ml  Milch\")\n",
    "print(\"1 EL    Vanillezucker\")\n",
    "print(\"1 Prise Salz\")"
   ]
  },
  {
   "cell_type": "code",
   "execution_count": null,
   "id": "bb863c91",
   "metadata": {
    "tags": [
     "solution"
    ]
   },
   "outputs": [],
   "source": [
    "# Alternativ:\n",
    "print(\n",
    "    \"\"\"130 g   Mehl\n",
    "250 ml  Milch\n",
    "1 EL    Vanillezucker\n",
    "1 Prise Salz\"\"\"\n",
    ")"
   ]
  },
  {
   "cell_type": "code",
   "execution_count": null,
   "id": "817fa02f",
   "metadata": {
    "tags": [
     "solution"
    ]
   },
   "outputs": [],
   "source": [
    "# Alternativ:\n",
    "print(\"130 g   Mehl\\n\" \"250 ml  Milch\\n\" \"1 EL    Vanillezucker\\n\" \"1 Prise Salz\")"
   ]
  },
  {
   "cell_type": "markdown",
   "id": "cf30d574",
   "metadata": {
    "lang": "en"
   },
   "source": [
    "# Numbers and math\n",
    "\n",
    "How can you represent the number `32` in Python?"
   ]
  },
  {
   "cell_type": "code",
   "execution_count": null,
   "id": "3f232244",
   "metadata": {
    "tags": [
     "solution"
    ]
   },
   "outputs": [],
   "source": [
    "32"
   ]
  },
  {
   "cell_type": "markdown",
   "id": "e844beaf",
   "metadata": {
    "lang": "en"
   },
   "source": [
    "How can you determine the type of `14` in Python?"
   ]
  },
  {
   "cell_type": "code",
   "execution_count": null,
   "id": "ac85424b",
   "metadata": {
    "tags": [
     "solution"
    ]
   },
   "outputs": [],
   "source": [
    "type(14)"
   ]
  },
  {
   "cell_type": "markdown",
   "id": "c19046e0",
   "metadata": {
    "lang": "en"
   },
   "source": [
    "How can you determine the type of `14.0` in Python?"
   ]
  },
  {
   "cell_type": "code",
   "execution_count": null,
   "id": "d348f5ea",
   "metadata": {
    "tags": [
     "solution"
    ]
   },
   "outputs": [],
   "source": [
    "type(14.0)"
   ]
  },
  {
   "cell_type": "markdown",
   "id": "e2f31b6b",
   "metadata": {
    "lang": "en"
   },
   "source": [
    "How can you determine the type of `'14'' in Python?"
   ]
  },
  {
   "cell_type": "code",
   "execution_count": null,
   "id": "02c8e6a1",
   "metadata": {
    "tags": [
     "solution"
    ]
   },
   "outputs": [],
   "source": [
    "type(\"14\")"
   ]
  },
  {
   "cell_type": "markdown",
   "id": "379b60d9",
   "metadata": {
    "lang": "en"
   },
   "source": [
    "What is the value of `1 + 2 * 3`?"
   ]
  },
  {
   "cell_type": "code",
   "execution_count": null,
   "id": "fde07755",
   "metadata": {
    "tags": [
     "solution"
    ]
   },
   "outputs": [],
   "source": [
    "1 + 2 * 3"
   ]
  },
  {
   "cell_type": "markdown",
   "id": "02482069",
   "metadata": {
    "lang": "en"
   },
   "source": [
    "What is the type of `1 + 2 * 3` in Python?"
   ]
  },
  {
   "cell_type": "code",
   "execution_count": null,
   "id": "5238e3d8",
   "metadata": {
    "tags": [
     "solution"
    ]
   },
   "outputs": [],
   "source": [
    "type(1 + 2 * 3)"
   ]
  },
  {
   "cell_type": "markdown",
   "id": "66cdf259",
   "metadata": {
    "lang": "en"
   },
   "source": [
    "What is the value of `4 / 2` in Python?"
   ]
  },
  {
   "cell_type": "code",
   "execution_count": null,
   "id": "0b9ff954",
   "metadata": {
    "tags": [
     "solution"
    ]
   },
   "outputs": [],
   "source": [
    "4 / 2"
   ]
  },
  {
   "cell_type": "markdown",
   "id": "2f76afd1",
   "metadata": {
    "lang": "en"
   },
   "source": [
    "What is the type of `4/2` in Python?"
   ]
  },
  {
   "cell_type": "code",
   "execution_count": null,
   "id": "ce35c758",
   "metadata": {
    "tags": [
     "solution"
    ]
   },
   "outputs": [],
   "source": [
    "type(4 / 2)"
   ]
  },
  {
   "cell_type": "markdown",
   "id": "546fd193",
   "metadata": {
    "lang": "en"
   },
   "source": [
    "What is the value and type of `1 + 1.0` in Python? Can you determine the data type\n",
    "without using `type`?"
   ]
  },
  {
   "cell_type": "code",
   "execution_count": null,
   "id": "9e0ed372",
   "metadata": {
    "tags": [
     "solution"
    ]
   },
   "outputs": [],
   "source": [
    "1 + 1.0  # Typ ist float, da Ausgabe Nachkommastellen hat"
   ]
  },
  {
   "cell_type": "markdown",
   "id": "e3dcc253",
   "metadata": {
    "lang": "en"
   },
   "source": [
    "# Pirates\n",
    "\n",
    "According to legend, the booty in pirate gangs was divided fairly amongst all pirates. If the booty could not be shared fairly, the captain received the excess share.\n",
    "\n",
    "How many gold doubloons does each pirate in a gang of 8 (7 pirates + 1 captain) get\n",
    "when looting a treasure with 1000 gold doubloons?\n",
    "\n",
    "(Use variables to make the calculation clearer.)"
   ]
  },
  {
   "cell_type": "code",
   "execution_count": null,
   "id": "eabb78f4",
   "metadata": {
    "tags": [
     "solution"
    ]
   },
   "outputs": [],
   "source": [
    "anzahl_piraten = 8\n",
    "beute_gesamt = 1000\n",
    "beute_pro_pirat = beute_gesamt // anzahl_piraten\n",
    "beute_pro_pirat"
   ]
  },
  {
   "cell_type": "markdown",
   "id": "1e5115a8",
   "metadata": {
    "lang": "en"
   },
   "source": [
    "How many extra gold doubloons does the captain get?"
   ]
  },
  {
   "cell_type": "code",
   "execution_count": null,
   "id": "a22039ec",
   "metadata": {
    "tags": [
     "solution"
    ]
   },
   "outputs": [],
   "source": [
    "# noinspection NonAsciiCharacters\n",
    "beute_kapitän = beute_gesamt % anzahl_piraten\n",
    "beute_kapitän"
   ]
  },
  {
   "cell_type": "markdown",
   "id": "418fb478",
   "metadata": {
    "lang": "en"
   },
   "source": [
    "The pirate gang takes on 3 new pirate apprentices.\n",
    "\n",
    "How does the distribution of the loot change?\n",
    "\n",
    "(Use assignments to the existing variables to solve the problem.)"
   ]
  },
  {
   "cell_type": "code",
   "execution_count": null,
   "id": "ef0cf30e",
   "metadata": {
    "tags": [
     "solution"
    ]
   },
   "outputs": [],
   "source": [
    "# anzahl_piraten += 3 # anzahl_piraten = anzahl_piraten + 3\n",
    "anzahl_piraten = 11  # besser, falls die Zelle evtl. mehrmals ausgewertet wird\n",
    "beute_pro_pirat = beute_gesamt // anzahl_piraten\n",
    "beute_pro_pirat"
   ]
  },
  {
   "cell_type": "markdown",
   "id": "4136db42",
   "metadata": {
    "lang": "en"
   },
   "source": [
    "In this case, how many additional gold doubloons does the captain receive?"
   ]
  },
  {
   "cell_type": "code",
   "execution_count": null,
   "id": "333055fd",
   "metadata": {
    "tags": [
     "solution"
    ]
   },
   "outputs": [],
   "source": [
    "beute_kapitän = beute_gesamt % anzahl_piraten\n",
    "beute_kapitän"
   ]
  },
  {
   "cell_type": "markdown",
   "id": "17d42480",
   "metadata": {
    "lang": "en"
   },
   "source": [
    "# Donations\n",
    "\n",
    "At a fundraiser, the television broadcaster ZRD promised to double every incoming\n",
    "donation. Regional broadcaster YB3 increases every donation received\n",
    "by 10 euros. (ZRD doubles before adding YB3's €10.)\n",
    "\n",
    "Write a Python function `effective_donation(s)` that calculates\n",
    "the amount actually donated when a viewer donates $N$ euros."
   ]
  },
  {
   "cell_type": "code",
   "execution_count": null,
   "id": "8e1ebab0",
   "metadata": {
    "tags": [
     "solution"
    ]
   },
   "outputs": [],
   "source": [
    "def effektive_spende(spende):\n",
    "    return 2 * spende + 10"
   ]
  },
  {
   "cell_type": "markdown",
   "id": "974b5e93",
   "metadata": {
    "lang": "en"
   },
   "source": [
    "What is the effective donation if a viewer donates 20 euros?"
   ]
  },
  {
   "cell_type": "code",
   "execution_count": null,
   "id": "45bfbd82",
   "metadata": {
    "tags": [
     "solution"
    ]
   },
   "outputs": [],
   "source": [
    "effektive_spende(20)"
   ]
  },
  {
   "cell_type": "markdown",
   "id": "2c7062e8",
   "metadata": {
    "lang": "en"
   },
   "source": [
    "Display the effective donations for 25, 50, 100 and 500 euros on the\n",
    "screen.\n",
    "\n",
    "*Note:* You can complete inputs with the `Tab` key. It is thus sufficient if you type\n",
    "\n",
    "`pri`-*Tab* `eff`-*Tab*\n",
    "\n",
    "before typing the arguments."
   ]
  },
  {
   "cell_type": "code",
   "execution_count": null,
   "id": "e3231484",
   "metadata": {
    "tags": [
     "solution"
    ]
   },
   "outputs": [],
   "source": [
    "print(effektive_spende(10))\n",
    "print(effektive_spende(25))\n",
    "print(effektive_spende(50))\n",
    "print(effektive_spende(100))\n",
    "print(effektive_spende(500))\n",
    "print(effektive_spende(1000))"
   ]
  },
  {
   "cell_type": "markdown",
   "id": "9a7777c2",
   "metadata": {
    "lang": "en"
   },
   "source": [
    "# Pirates, part 2\n",
    "\n",
    "Your pirate crew is in danger of mutiny because of the calculation of the spoils\n",
    "takes too long.\n",
    "\n",
    "Write a function `print_division_of_loot(doubloons, pirates)`,\n",
    "which calculates the split and outputs it in the following format:\n",
    "\n",
    "```\n",
    "Pirates: 8\n",
    "Gold Doubloons: 17\n",
    "Each pirate receives: 2 gold doubloon(s)\n",
    "Captain gains extra: 1 gold doubloon(s)\n",
    "```"
   ]
  },
  {
   "cell_type": "code",
   "execution_count": null,
   "id": "8005949e",
   "metadata": {
    "tags": [
     "solution"
    ]
   },
   "outputs": [],
   "source": [
    "def drucke_aufteilung_der_beute(dublonen, piraten):\n",
    "    dublonen_pro_pirat = dublonen // piraten\n",
    "    dublonen_kapitän = dublonen % piraten\n",
    "    print(\"Piraten:\", piraten)\n",
    "    print(\"Golddublonen:\", dublonen)\n",
    "    print(\"Jeder Pirat erhält:\", dublonen_pro_pirat, \"Golddublone(n)\")\n",
    "    print(\"Kapitän erhält extra:\", dublonen_kapitän, \"Golddublone(n)\")\n",
    "\n",
    "\n",
    "drucke_aufteilung_der_beute(17, 8)"
   ]
  },
  {
   "cell_type": "markdown",
   "id": "56445d0f",
   "metadata": {
    "lang": "en"
   },
   "source": [
    "# Pirates, part 3\n",
    "\n",
    "After the threat of mutiny has passed, you have time to improve your software.\n",
    "\n",
    "Write a function `divide_loot(doubloons, pirates)` which returns\n",
    "each pirate's loot share and the captain's extra loot as two values."
   ]
  },
  {
   "cell_type": "code",
   "execution_count": null,
   "id": "c772717d",
   "metadata": {
    "tags": [
     "solution"
    ]
   },
   "outputs": [],
   "source": [
    "def teile_beute_auf(dublonen, piraten):\n",
    "    dublonen_pro_pirat = dublonen // piraten\n",
    "    dublonen_kapitän = dublonen % piraten\n",
    "    return dublonen_pro_pirat, dublonen_kapitän"
   ]
  },
  {
   "cell_type": "markdown",
   "id": "87e462ef",
   "metadata": {
    "lang": "en"
   },
   "source": [
    "Write an improved version of the function\n",
    "`print_division_of_loot()`, that uses `divide_loot()` as helper function."
   ]
  },
  {
   "cell_type": "code",
   "execution_count": null,
   "id": "a40093de",
   "metadata": {
    "tags": [
     "solution"
    ]
   },
   "outputs": [],
   "source": [
    "def drucke_aufteilung_der_beute(dublonen, piraten):\n",
    "    dublonen_pro_pirat, dublonen_kapitän = teile_beute_auf(dublonen, piraten)\n",
    "    print(\"Piraten:\", piraten)\n",
    "    print(\"Golddublonen:\", dublonen)\n",
    "    print(\"Jeder Pirat erhält:\", dublonen_pro_pirat, \"Golddublone(n)\")\n",
    "    print(\"Kapitän erhält extra:\", dublonen_kapitän, \"Golddublone(n)\")\n",
    "\n",
    "\n",
    "drucke_aufteilung_der_beute(1000, 11)"
   ]
  }
 ],
 "metadata": {
  "jupytext": {
   "encoding": "# -*- coding: utf-8 -*-",
   "formats": "ipynb"
  },
  "kernelspec": {
   "display_name": "Python 3 (ipykernel)",
   "language": "python",
   "name": "python3"
  }
 },
 "nbformat": 4,
 "nbformat_minor": 5
}
