{
 "cells": [
  {
   "cell_type": "markdown",
   "id": "c11895ee",
   "metadata": {
    "lang": "en"
   },
   "source": [
    "# Introduction\n",
    "\n",
    "How can you represent the string `Hello, world!` in Python?"
   ]
  },
  {
   "cell_type": "code",
   "execution_count": null,
   "id": "3f016930",
   "metadata": {
    "tags": [
     "solution"
    ]
   },
   "outputs": [],
   "source": [
    "\"Hello, world!\""
   ]
  },
  {
   "cell_type": "markdown",
   "id": "6cba4532",
   "metadata": {
    "lang": "en"
   },
   "source": [
    "How can you represent your name as text (string) in Python?"
   ]
  },
  {
   "cell_type": "code",
   "execution_count": null,
   "id": "827bf399",
   "metadata": {
    "tags": [
     "solution"
    ]
   },
   "outputs": [],
   "source": [
    "\"Matthias\""
   ]
  },
  {
   "cell_type": "markdown",
   "id": "dab7d756",
   "metadata": {
    "lang": "en"
   },
   "source": [
    "How can you output the string `Hello, World!` to the screen?"
   ]
  },
  {
   "cell_type": "code",
   "execution_count": null,
   "id": "635debfa",
   "metadata": {
    "tags": [
     "solution"
    ]
   },
   "outputs": [],
   "source": [
    "print(\"Hello, World!\")"
   ]
  },
  {
   "cell_type": "markdown",
   "id": "1259731d",
   "metadata": {
    "lang": "en"
   },
   "source": [
    "How can you output your name to the screen?"
   ]
  },
  {
   "cell_type": "code",
   "execution_count": null,
   "id": "a92333a8",
   "metadata": {
    "tags": [
     "solution"
    ]
   },
   "outputs": [],
   "source": [
    "print(\"Matthias\")"
   ]
  },
  {
   "cell_type": "markdown",
   "id": "12e01c60",
   "metadata": {
    "lang": "en"
   },
   "source": [
    "How can you output\n",
    "\n",
    "```\n",
    "130 grams of flour\n",
    "250ml milk\n",
    "1 tbsp vanilla sugar\n",
    "1 pinch of salt\n",
    "```\n",
    "\n",
    "to the screen?"
   ]
  },
  {
   "cell_type": "code",
   "execution_count": null,
   "id": "c5da4e7d",
   "metadata": {
    "tags": [
     "solution"
    ]
   },
   "outputs": [],
   "source": [
    "print(\"130 g   Mehl\")\n",
    "print(\"250 ml  Milch\")\n",
    "print(\"1 EL    Vanillezucker\")\n",
    "print(\"1 Prise Salz\")"
   ]
  },
  {
   "cell_type": "code",
   "execution_count": null,
   "id": "b84de697",
   "metadata": {
    "tags": [
     "solution"
    ]
   },
   "outputs": [],
   "source": [
    "# Alternativ:\n",
    "print(\n",
    "    \"\"\"130 g   Mehl\n",
    "250 ml  Milch\n",
    "1 EL    Vanillezucker\n",
    "1 Prise Salz\"\"\"\n",
    ")"
   ]
  },
  {
   "cell_type": "code",
   "execution_count": null,
   "id": "5c37735e",
   "metadata": {
    "tags": [
     "solution"
    ]
   },
   "outputs": [],
   "source": [
    "# Alternativ:\n",
    "# fmt: off\n",
    "print(\"130 g   Mehl\\n\"\n",
    "      \"250 ml  Milch\\n\"\n",
    "      \"1 EL    Vanillezucker\\n\"\n",
    "      \"1 Prise Salz\")\n",
    "# fmt: on"
   ]
  },
  {
   "cell_type": "markdown",
   "id": "42276301",
   "metadata": {
    "lang": "en"
   },
   "source": [
    "# Numbers and math\n",
    "\n",
    "How can you represent the number `32` in Python?"
   ]
  },
  {
   "cell_type": "code",
   "execution_count": null,
   "id": "7404939a",
   "metadata": {
    "tags": [
     "solution"
    ]
   },
   "outputs": [],
   "source": [
    "32"
   ]
  },
  {
   "cell_type": "markdown",
   "id": "d80ca7be",
   "metadata": {
    "lang": "en"
   },
   "source": [
    "How can you determine the type of `14` in Python?"
   ]
  },
  {
   "cell_type": "code",
   "execution_count": null,
   "id": "60f0156a",
   "metadata": {
    "tags": [
     "solution"
    ]
   },
   "outputs": [],
   "source": [
    "type(14)"
   ]
  },
  {
   "cell_type": "markdown",
   "id": "c4e2dbd8",
   "metadata": {
    "lang": "en"
   },
   "source": [
    "How can you determine the type of `14.0` in Python?"
   ]
  },
  {
   "cell_type": "code",
   "execution_count": null,
   "id": "433f74fa",
   "metadata": {
    "tags": [
     "solution"
    ]
   },
   "outputs": [],
   "source": [
    "type(14.0)"
   ]
  },
  {
   "cell_type": "markdown",
   "id": "6e7cd3b7",
   "metadata": {
    "lang": "en"
   },
   "source": [
    "How can you determine the type of `'14'' in Python?"
   ]
  },
  {
   "cell_type": "code",
   "execution_count": null,
   "id": "57c882c7",
   "metadata": {
    "tags": [
     "solution"
    ]
   },
   "outputs": [],
   "source": [
    "type(\"14\")"
   ]
  },
  {
   "cell_type": "markdown",
   "id": "aa2ace50",
   "metadata": {
    "lang": "en"
   },
   "source": [
    "What is the value of `1 + 2 * 3`?"
   ]
  },
  {
   "cell_type": "code",
   "execution_count": null,
   "id": "f80902cd",
   "metadata": {
    "tags": [
     "solution"
    ]
   },
   "outputs": [],
   "source": [
    "1 + 2 * 3"
   ]
  },
  {
   "cell_type": "markdown",
   "id": "254991e2",
   "metadata": {
    "lang": "en"
   },
   "source": [
    "What is the type of `1 + 2 * 3` in Python?"
   ]
  },
  {
   "cell_type": "code",
   "execution_count": null,
   "id": "337f2a55",
   "metadata": {
    "tags": [
     "solution"
    ]
   },
   "outputs": [],
   "source": [
    "type(1 + 2 * 3)"
   ]
  },
  {
   "cell_type": "markdown",
   "id": "6063757a",
   "metadata": {
    "lang": "en"
   },
   "source": [
    "What is the value of `4 / 2` in Python?"
   ]
  },
  {
   "cell_type": "code",
   "execution_count": null,
   "id": "7c9caaf7",
   "metadata": {
    "tags": [
     "solution"
    ]
   },
   "outputs": [],
   "source": [
    "4 / 2"
   ]
  },
  {
   "cell_type": "markdown",
   "id": "dd399d9f",
   "metadata": {
    "lang": "en"
   },
   "source": [
    "What is the type of `4/2` in Python?"
   ]
  },
  {
   "cell_type": "code",
   "execution_count": null,
   "id": "fd12f910",
   "metadata": {
    "tags": [
     "solution"
    ]
   },
   "outputs": [],
   "source": [
    "type(4 / 2)"
   ]
  },
  {
   "cell_type": "markdown",
   "id": "357c65ca",
   "metadata": {
    "lang": "en"
   },
   "source": [
    "What is the value and type of `1 + 1.0` in Python? Can you determine the data type\n",
    "without using `type`?"
   ]
  },
  {
   "cell_type": "code",
   "execution_count": null,
   "id": "e55095d5",
   "metadata": {
    "tags": [
     "solution"
    ]
   },
   "outputs": [],
   "source": [
    "1 + 1.0  # Typ ist float, da Ausgabe Nachkommastellen hat"
   ]
  },
  {
   "cell_type": "markdown",
   "id": "d436e625",
   "metadata": {
    "lang": "en"
   },
   "source": [
    "# Pirates\n",
    "\n",
    "According to legend, the booty in pirate gangs was divided fairly amongst all pirates. If the booty could not be shared fairly, the captain received the excess share.\n",
    "\n",
    "How many gold doubloons does each pirate in a gang of 8 (7 pirates + 1 captain) get\n",
    "when looting a treasure with 1000 gold doubloons?\n",
    "\n",
    "(Use variables to make the calculation clearer.)"
   ]
  },
  {
   "cell_type": "code",
   "execution_count": null,
   "id": "8796e8a7",
   "metadata": {
    "tags": [
     "solution"
    ]
   },
   "outputs": [],
   "source": [
    "anzahl_piraten = 8\n",
    "beute_gesamt = 1000\n",
    "beute_pro_pirat = beute_gesamt // anzahl_piraten\n",
    "beute_pro_pirat"
   ]
  },
  {
   "cell_type": "markdown",
   "id": "0b2fbb45",
   "metadata": {
    "lang": "en"
   },
   "source": [
    "How many extra gold doubloons does the captain get?"
   ]
  },
  {
   "cell_type": "code",
   "execution_count": null,
   "id": "2b976827",
   "metadata": {
    "tags": [
     "solution"
    ]
   },
   "outputs": [],
   "source": [
    "# noinspection NonAsciiCharacters\n",
    "beute_kapitän = beute_gesamt % anzahl_piraten\n",
    "beute_kapitän"
   ]
  },
  {
   "cell_type": "markdown",
   "id": "94b11861",
   "metadata": {
    "lang": "en"
   },
   "source": [
    "The pirate gang takes on 3 new pirate apprentices.\n",
    "\n",
    "How does the distribution of the loot change?\n",
    "\n",
    "(Use assignments to the existing variables to solve the problem.)"
   ]
  },
  {
   "cell_type": "code",
   "execution_count": null,
   "id": "a50bea8e",
   "metadata": {
    "tags": [
     "solution"
    ]
   },
   "outputs": [],
   "source": [
    "# anzahl_piraten += 3 # anzahl_piraten = anzahl_piraten + 3\n",
    "anzahl_piraten = 11  # besser, falls die Zelle evtl. mehrmals ausgewertet wird\n",
    "beute_pro_pirat = beute_gesamt // anzahl_piraten\n",
    "beute_pro_pirat"
   ]
  },
  {
   "cell_type": "markdown",
   "id": "9a57bd7d",
   "metadata": {
    "lang": "en"
   },
   "source": [
    "In this case, how many additional gold doubloons does the captain receive?"
   ]
  },
  {
   "cell_type": "code",
   "execution_count": null,
   "id": "b6493f33",
   "metadata": {
    "tags": [
     "solution"
    ]
   },
   "outputs": [],
   "source": [
    "beute_kapitän = beute_gesamt % anzahl_piraten\n",
    "beute_kapitän"
   ]
  },
  {
   "cell_type": "markdown",
   "id": "7777d312",
   "metadata": {
    "lang": "en"
   },
   "source": [
    "# Donations\n",
    "\n",
    "At a fundraiser, the television broadcaster ZRD promised to double every incoming\n",
    "donation. Regional broadcaster YB3 increases every donation received\n",
    "by 10 euros. (ZRD doubles before adding YB3's €10.)\n",
    "\n",
    "Write a Python function `effective_donation(s)` that calculates\n",
    "the amount actually donated when a viewer donates $N$ euros."
   ]
  },
  {
   "cell_type": "code",
   "execution_count": null,
   "id": "94c8a06a",
   "metadata": {
    "tags": [
     "solution"
    ]
   },
   "outputs": [],
   "source": [
    "def effektive_spende(spende):\n",
    "    return 2 * spende + 10"
   ]
  },
  {
   "cell_type": "markdown",
   "id": "c86adfed",
   "metadata": {
    "lang": "en"
   },
   "source": [
    "What is the effective donation if a viewer donates 20 euros?"
   ]
  },
  {
   "cell_type": "code",
   "execution_count": null,
   "id": "654fdca7",
   "metadata": {
    "tags": [
     "solution"
    ]
   },
   "outputs": [],
   "source": [
    "effektive_spende(20)"
   ]
  },
  {
   "cell_type": "markdown",
   "id": "4299be2f",
   "metadata": {
    "lang": "en"
   },
   "source": [
    "Display the effective donations for 25, 50, 100 and 500 euros on the\n",
    "screen.\n",
    "\n",
    "*Note:* You can complete inputs with the `Tab` key. It is thus sufficient if you type\n",
    "\n",
    "`pri`-*Tab* `eff`-*Tab*\n",
    "\n",
    "before typing the arguments."
   ]
  },
  {
   "cell_type": "code",
   "execution_count": null,
   "id": "f773048e",
   "metadata": {
    "tags": [
     "solution"
    ]
   },
   "outputs": [],
   "source": [
    "print(effektive_spende(10))\n",
    "print(effektive_spende(25))\n",
    "print(effektive_spende(50))\n",
    "print(effektive_spende(100))\n",
    "print(effektive_spende(500))\n",
    "print(effektive_spende(1000))"
   ]
  },
  {
   "cell_type": "markdown",
   "id": "c539ab16",
   "metadata": {
    "lang": "en"
   },
   "source": [
    "# Pirates, part 2\n",
    "\n",
    "Your pirate crew is in danger of mutiny because of the calculation of the spoils\n",
    "takes too long.\n",
    "\n",
    "Write a function `print_division_of_loot(doubloons, pirates)`,\n",
    "which calculates the split and outputs it in the following format:\n",
    "\n",
    "```\n",
    "Pirates: 8\n",
    "Gold Doubloons: 17\n",
    "Each pirate receives: 2 gold doubloon(s)\n",
    "Captain gains extra: 1 gold doubloon(s)\n",
    "```"
   ]
  },
  {
   "cell_type": "code",
   "execution_count": null,
   "id": "a4257486",
   "metadata": {
    "tags": [
     "solution"
    ]
   },
   "outputs": [],
   "source": [
    "def drucke_aufteilung_der_beute(dublonen, piraten):\n",
    "    dublonen_pro_pirat = dublonen // piraten\n",
    "    dublonen_kapitän = dublonen % piraten\n",
    "    print(\"Piraten:\", piraten)\n",
    "    print(\"Golddublonen:\", dublonen)\n",
    "    print(\"Jeder Pirat erhält:\", dublonen_pro_pirat, \"Golddublone(n)\")\n",
    "    print(\"Kapitän erhält extra:\", dublonen_kapitän, \"Golddublone(n)\")\n",
    "\n",
    "\n",
    "drucke_aufteilung_der_beute(17, 8)"
   ]
  },
  {
   "cell_type": "markdown",
   "id": "cd616310",
   "metadata": {
    "lang": "en"
   },
   "source": [
    "# Pirates, part 3\n",
    "\n",
    "After the threat of mutiny has passed, you have time to improve your software.\n",
    "\n",
    "Write a function `divide_loot(doubloons, pirates)` which returns\n",
    "each pirate's loot share and the captain's extra loot as two values."
   ]
  },
  {
   "cell_type": "code",
   "execution_count": null,
   "id": "0d3b7f81",
   "metadata": {
    "tags": [
     "solution"
    ]
   },
   "outputs": [],
   "source": [
    "def teile_beute_auf(dublonen, piraten):\n",
    "    dublonen_pro_pirat = dublonen // piraten\n",
    "    dublonen_kapitän = dublonen % piraten\n",
    "    return dublonen_pro_pirat, dublonen_kapitän"
   ]
  },
  {
   "cell_type": "markdown",
   "id": "0ba794f2",
   "metadata": {
    "lang": "en"
   },
   "source": [
    "Write an improved version of the function\n",
    "`print_division_of_loot()`, that uses `divide_loot()` as helper function."
   ]
  },
  {
   "cell_type": "code",
   "execution_count": null,
   "id": "d187591a",
   "metadata": {
    "tags": [
     "solution"
    ]
   },
   "outputs": [],
   "source": [
    "def drucke_aufteilung_der_beute(dublonen, piraten):\n",
    "    dublonen_pro_pirat, dublonen_kapitän = teile_beute_auf(dublonen, piraten)\n",
    "    print(\"Piraten:\", piraten)\n",
    "    print(\"Golddublonen:\", dublonen)\n",
    "    print(\"Jeder Pirat erhält:\", dublonen_pro_pirat, \"Golddublone(n)\")\n",
    "    print(\"Kapitän erhält extra:\", dublonen_kapitän, \"Golddublone(n)\")\n",
    "\n",
    "\n",
    "drucke_aufteilung_der_beute(1000, 11)"
   ]
  }
 ],
 "metadata": {
  "jupytext": {
   "encoding": "# -*- coding: utf-8 -*-",
   "formats": "ipynb"
  },
  "kernelspec": {
   "display_name": "Python 3 (ipykernel)",
   "language": "python",
   "name": "python3"
  }
 },
 "nbformat": 4,
 "nbformat_minor": 5
}
