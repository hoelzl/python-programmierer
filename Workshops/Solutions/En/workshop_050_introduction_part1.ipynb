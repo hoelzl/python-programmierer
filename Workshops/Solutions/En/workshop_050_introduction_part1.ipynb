{
 "cells": [
  {
   "cell_type": "markdown",
   "id": "7b88d21f",
   "metadata": {
    "lang": "en"
   },
   "source": [
    "# Introduction\n",
    "\n",
    "How can you represent the string `Hello, world!` in Python?"
   ]
  },
  {
   "cell_type": "code",
   "execution_count": null,
   "id": "7ce1cea1",
   "metadata": {
    "tags": [
     "solution"
    ]
   },
   "outputs": [],
   "source": [
    "\"Hello, world!\""
   ]
  },
  {
   "cell_type": "markdown",
   "id": "4e422dfc",
   "metadata": {
    "lang": "en"
   },
   "source": [
    "How can you represent your name as text (string) in Python?"
   ]
  },
  {
   "cell_type": "code",
   "execution_count": null,
   "id": "82708326",
   "metadata": {
    "tags": [
     "solution"
    ]
   },
   "outputs": [],
   "source": [
    "\"Matthias\""
   ]
  },
  {
   "cell_type": "markdown",
   "id": "f619a909",
   "metadata": {
    "lang": "en"
   },
   "source": [
    "How can you output the string `Hello, World!` to the screen?"
   ]
  },
  {
   "cell_type": "code",
   "execution_count": null,
   "id": "8b4c6772",
   "metadata": {
    "tags": [
     "solution"
    ]
   },
   "outputs": [],
   "source": [
    "print(\"Hello, World!\")"
   ]
  },
  {
   "cell_type": "markdown",
   "id": "089f1762",
   "metadata": {
    "lang": "en"
   },
   "source": [
    "How can you output your name to the screen?"
   ]
  },
  {
   "cell_type": "code",
   "execution_count": null,
   "id": "7ffe08de",
   "metadata": {
    "tags": [
     "solution"
    ]
   },
   "outputs": [],
   "source": [
    "print(\"Matthias\")"
   ]
  },
  {
   "cell_type": "markdown",
   "id": "c5e2896e",
   "metadata": {
    "lang": "en"
   },
   "source": [
    "How can you output\n",
    "\n",
    "```\n",
    "130 grams of flour\n",
    "250ml milk\n",
    "1 tbsp vanilla sugar\n",
    "1 pinch of salt\n",
    "```\n",
    "\n",
    "to the screen?"
   ]
  },
  {
   "cell_type": "code",
   "execution_count": null,
   "id": "7c3b6def",
   "metadata": {
    "tags": [
     "solution"
    ]
   },
   "outputs": [],
   "source": [
    "print(\"130 g   Mehl\")\n",
    "print(\"250 ml  Milch\")\n",
    "print(\"1 EL    Vanillezucker\")\n",
    "print(\"1 Prise Salz\")"
   ]
  },
  {
   "cell_type": "code",
   "execution_count": null,
   "id": "28e9bcce",
   "metadata": {
    "tags": [
     "solution"
    ]
   },
   "outputs": [],
   "source": [
    "# Alternativ:\n",
    "print(\n",
    "    \"\"\"130 g   Mehl\n",
    "250 ml  Milch\n",
    "1 EL    Vanillezucker\n",
    "1 Prise Salz\"\"\"\n",
    ")"
   ]
  },
  {
   "cell_type": "code",
   "execution_count": null,
   "id": "e44ace42",
   "metadata": {
    "tags": [
     "solution"
    ]
   },
   "outputs": [],
   "source": [
    "# Alternativ:\n",
    "print(\"130 g   Mehl\\n\" \"250 ml  Milch\\n\" \"1 EL    Vanillezucker\\n\" \"1 Prise Salz\")"
   ]
  },
  {
   "cell_type": "markdown",
   "id": "6a3f47f2",
   "metadata": {
    "lang": "en"
   },
   "source": [
    "# Numbers and math\n",
    "\n",
    "How can you represent the number `32` in Python?"
   ]
  },
  {
   "cell_type": "code",
   "execution_count": null,
   "id": "bdf49a74",
   "metadata": {
    "tags": [
     "solution"
    ]
   },
   "outputs": [],
   "source": [
    "32"
   ]
  },
  {
   "cell_type": "markdown",
   "id": "8a5d311b",
   "metadata": {
    "lang": "en"
   },
   "source": [
    "How can you determine the type of `14` in Python?"
   ]
  },
  {
   "cell_type": "code",
   "execution_count": null,
   "id": "72b291e1",
   "metadata": {
    "tags": [
     "solution"
    ]
   },
   "outputs": [],
   "source": [
    "type(14)"
   ]
  },
  {
   "cell_type": "markdown",
   "id": "76e725e6",
   "metadata": {
    "lang": "en"
   },
   "source": [
    "How can you determine the type of `14.0` in Python?"
   ]
  },
  {
   "cell_type": "code",
   "execution_count": null,
   "id": "530522df",
   "metadata": {
    "tags": [
     "solution"
    ]
   },
   "outputs": [],
   "source": [
    "type(14.0)"
   ]
  },
  {
   "cell_type": "markdown",
   "id": "2d46f5a3",
   "metadata": {
    "lang": "en"
   },
   "source": [
    "How can you determine the type of `'14'' in Python?"
   ]
  },
  {
   "cell_type": "code",
   "execution_count": null,
   "id": "804407a3",
   "metadata": {
    "tags": [
     "solution"
    ]
   },
   "outputs": [],
   "source": [
    "type(\"14\")"
   ]
  },
  {
   "cell_type": "markdown",
   "id": "563c90d5",
   "metadata": {
    "lang": "en"
   },
   "source": [
    "What is the value of `1 + 2 * 3`?"
   ]
  },
  {
   "cell_type": "code",
   "execution_count": null,
   "id": "d98ba762",
   "metadata": {
    "tags": [
     "solution"
    ]
   },
   "outputs": [],
   "source": [
    "1 + 2 * 3"
   ]
  },
  {
   "cell_type": "markdown",
   "id": "517de92c",
   "metadata": {
    "lang": "en"
   },
   "source": [
    "What is the type of `1 + 2 * 3` in Python?"
   ]
  },
  {
   "cell_type": "code",
   "execution_count": null,
   "id": "dfa359c3",
   "metadata": {
    "tags": [
     "solution"
    ]
   },
   "outputs": [],
   "source": [
    "type(1 + 2 * 3)"
   ]
  },
  {
   "cell_type": "markdown",
   "id": "d2a691d1",
   "metadata": {
    "lang": "en"
   },
   "source": [
    "What is the value of `4 / 2` in Python?"
   ]
  },
  {
   "cell_type": "code",
   "execution_count": null,
   "id": "946c095e",
   "metadata": {
    "tags": [
     "solution"
    ]
   },
   "outputs": [],
   "source": [
    "4 / 2"
   ]
  },
  {
   "cell_type": "markdown",
   "id": "17f99c43",
   "metadata": {
    "lang": "en"
   },
   "source": [
    "What is the type of `4/2` in Python?"
   ]
  },
  {
   "cell_type": "code",
   "execution_count": null,
   "id": "6985c523",
   "metadata": {
    "tags": [
     "solution"
    ]
   },
   "outputs": [],
   "source": [
    "type(4 / 2)"
   ]
  },
  {
   "cell_type": "markdown",
   "id": "0748a69c",
   "metadata": {
    "lang": "en"
   },
   "source": [
    "What is the value and type of `1 + 1.0` in Python? Can you determine the data type\n",
    "without using `type`?"
   ]
  },
  {
   "cell_type": "code",
   "execution_count": null,
   "id": "8f2f963d",
   "metadata": {
    "tags": [
     "solution"
    ]
   },
   "outputs": [],
   "source": [
    "1 + 1.0  # Typ ist float, da Ausgabe Nachkommastellen hat"
   ]
  },
  {
   "cell_type": "markdown",
   "id": "609bf225",
   "metadata": {
    "lang": "en"
   },
   "source": [
    "# Pirates\n",
    "\n",
    "According to legend, the booty in pirate gangs was divided fairly amongst all pirates. If the booty could not be shared fairly, the captain received the excess share.\n",
    "\n",
    "How many gold doubloons does each pirate in a gang of 8 (7 pirates + 1 captain) get\n",
    "when looting a treasure with 1000 gold doubloons?\n",
    "\n",
    "(Use variables to make the calculation clearer.)"
   ]
  },
  {
   "cell_type": "code",
   "execution_count": null,
   "id": "804912f2",
   "metadata": {
    "tags": [
     "solution"
    ]
   },
   "outputs": [],
   "source": [
    "anzahl_piraten = 8\n",
    "beute_gesamt = 1000\n",
    "beute_pro_pirat = beute_gesamt // anzahl_piraten\n",
    "beute_pro_pirat"
   ]
  },
  {
   "cell_type": "markdown",
   "id": "84f73524",
   "metadata": {
    "lang": "en"
   },
   "source": [
    "How many extra gold doubloons does the captain get?"
   ]
  },
  {
   "cell_type": "code",
   "execution_count": null,
   "id": "cac83de7",
   "metadata": {
    "tags": [
     "solution"
    ]
   },
   "outputs": [],
   "source": [
    "# noinspection NonAsciiCharacters\n",
    "beute_kapitän = beute_gesamt % anzahl_piraten\n",
    "beute_kapitän"
   ]
  },
  {
   "cell_type": "markdown",
   "id": "d0c89919",
   "metadata": {
    "lang": "en"
   },
   "source": [
    "The pirate gang takes on 3 new pirate apprentices.\n",
    "\n",
    "How does the distribution of the loot change?\n",
    "\n",
    "(Use assignments to the existing variables to solve the problem.)"
   ]
  },
  {
   "cell_type": "code",
   "execution_count": null,
   "id": "b335c1d5",
   "metadata": {
    "tags": [
     "solution"
    ]
   },
   "outputs": [],
   "source": [
    "# anzahl_piraten += 3 # anzahl_piraten = anzahl_piraten + 3\n",
    "anzahl_piraten = 11  # besser, falls die Zelle evtl. mehrmals ausgewertet wird\n",
    "beute_pro_pirat = beute_gesamt // anzahl_piraten\n",
    "beute_pro_pirat"
   ]
  },
  {
   "cell_type": "markdown",
   "id": "3284df5d",
   "metadata": {
    "lang": "en"
   },
   "source": [
    "In this case, how many additional gold doubloons does the captain receive?"
   ]
  },
  {
   "cell_type": "code",
   "execution_count": null,
   "id": "f27acd23",
   "metadata": {
    "tags": [
     "solution"
    ]
   },
   "outputs": [],
   "source": [
    "beute_kapitän = beute_gesamt % anzahl_piraten\n",
    "beute_kapitän"
   ]
  },
  {
   "cell_type": "markdown",
   "id": "2a1bb76b",
   "metadata": {
    "lang": "en"
   },
   "source": [
    "# Donations\n",
    "\n",
    "At a fundraiser, the television broadcaster ZRD promised to double every incoming\n",
    "donation. Regional broadcaster YB3 increases every donation received\n",
    "by 10 euros. (ZRD doubles before adding YB3's €10.)\n",
    "\n",
    "Write a Python function `effective_donation(s)` that calculates\n",
    "the amount actually donated when a viewer donates $N$ euros."
   ]
  },
  {
   "cell_type": "code",
   "execution_count": null,
   "id": "1742a959",
   "metadata": {
    "tags": [
     "solution"
    ]
   },
   "outputs": [],
   "source": [
    "def effektive_spende(spende):\n",
    "    return 2 * spende + 10"
   ]
  },
  {
   "cell_type": "markdown",
   "id": "f15f9862",
   "metadata": {
    "lang": "en"
   },
   "source": [
    "What is the effective donation if a viewer donates 20 euros?"
   ]
  },
  {
   "cell_type": "code",
   "execution_count": null,
   "id": "1040d612",
   "metadata": {
    "tags": [
     "solution"
    ]
   },
   "outputs": [],
   "source": [
    "effektive_spende(20)"
   ]
  },
  {
   "cell_type": "markdown",
   "id": "51f2a1fb",
   "metadata": {
    "lang": "en"
   },
   "source": [
    "Display the effective donations for 25, 50, 100 and 500 euros on the\n",
    "screen.\n",
    "\n",
    "*Note:* You can complete inputs with the `Tab` key. It is thus sufficient if you type\n",
    "\n",
    "`pri`-*Tab* `eff`-*Tab*\n",
    "\n",
    "before typing the arguments."
   ]
  },
  {
   "cell_type": "code",
   "execution_count": null,
   "id": "0eee06c7",
   "metadata": {
    "tags": [
     "solution"
    ]
   },
   "outputs": [],
   "source": [
    "print(effektive_spende(10))\n",
    "print(effektive_spende(25))\n",
    "print(effektive_spende(50))\n",
    "print(effektive_spende(100))\n",
    "print(effektive_spende(500))\n",
    "print(effektive_spende(1000))"
   ]
  },
  {
   "cell_type": "markdown",
   "id": "f4365a79",
   "metadata": {
    "lang": "en"
   },
   "source": [
    "# Pirates, part 2\n",
    "\n",
    "Your pirate crew is in danger of mutiny because of the calculation of the spoils\n",
    "takes too long.\n",
    "\n",
    "Write a function `print_division_of_loot(doubloons, pirates)`,\n",
    "which calculates the split and outputs it in the following format:\n",
    "\n",
    "```\n",
    "Pirates: 8\n",
    "Gold Doubloons: 17\n",
    "Each pirate receives: 2 gold doubloon(s)\n",
    "Captain gains extra: 1 gold doubloon(s)\n",
    "```"
   ]
  },
  {
   "cell_type": "code",
   "execution_count": null,
   "id": "ff65ec09",
   "metadata": {
    "tags": [
     "solution"
    ]
   },
   "outputs": [],
   "source": [
    "def drucke_aufteilung_der_beute(dublonen, piraten):\n",
    "    dublonen_pro_pirat = dublonen // piraten\n",
    "    dublonen_kapitän = dublonen % piraten\n",
    "    print(\"Piraten:\", piraten)\n",
    "    print(\"Golddublonen:\", dublonen)\n",
    "    print(\"Jeder Pirat erhält:\", dublonen_pro_pirat, \"Golddublone(n)\")\n",
    "    print(\"Kapitän erhält extra:\", dublonen_kapitän, \"Golddublone(n)\")\n",
    "\n",
    "\n",
    "drucke_aufteilung_der_beute(17, 8)"
   ]
  },
  {
   "cell_type": "markdown",
   "id": "b1d7e069",
   "metadata": {
    "lang": "en"
   },
   "source": [
    "# Pirates, part 3\n",
    "\n",
    "After the threat of mutiny has passed, you have time to improve your software.\n",
    "\n",
    "Write a function `divide_loot(doubloons, pirates)` which returns\n",
    "each pirate's loot share and the captain's extra loot as two values."
   ]
  },
  {
   "cell_type": "code",
   "execution_count": null,
   "id": "0d7475aa",
   "metadata": {
    "tags": [
     "solution"
    ]
   },
   "outputs": [],
   "source": [
    "def teile_beute_auf(dublonen, piraten):\n",
    "    dublonen_pro_pirat = dublonen // piraten\n",
    "    dublonen_kapitän = dublonen % piraten\n",
    "    return dublonen_pro_pirat, dublonen_kapitän"
   ]
  },
  {
   "cell_type": "markdown",
   "id": "78f4da93",
   "metadata": {
    "lang": "en"
   },
   "source": [
    "Write an improved version of the function\n",
    "`print_division_of_loot()`, that uses `divide_loot()` as helper function."
   ]
  },
  {
   "cell_type": "code",
   "execution_count": null,
   "id": "c4ac4158",
   "metadata": {
    "tags": [
     "solution"
    ]
   },
   "outputs": [],
   "source": [
    "def drucke_aufteilung_der_beute(dublonen, piraten):\n",
    "    dublonen_pro_pirat, dublonen_kapitän = teile_beute_auf(dublonen, piraten)\n",
    "    print(\"Piraten:\", piraten)\n",
    "    print(\"Golddublonen:\", dublonen)\n",
    "    print(\"Jeder Pirat erhält:\", dublonen_pro_pirat, \"Golddublone(n)\")\n",
    "    print(\"Kapitän erhält extra:\", dublonen_kapitän, \"Golddublone(n)\")\n",
    "\n",
    "\n",
    "drucke_aufteilung_der_beute(1000, 11)"
   ]
  }
 ],
 "metadata": {
  "jupytext": {
   "encoding": "# -*- coding: utf-8 -*-",
   "formats": "ipynb"
  },
  "kernelspec": {
   "display_name": "Python 3 (ipykernel)",
   "language": "python",
   "name": "python3"
  }
 },
 "nbformat": 4,
 "nbformat_minor": 5
}
