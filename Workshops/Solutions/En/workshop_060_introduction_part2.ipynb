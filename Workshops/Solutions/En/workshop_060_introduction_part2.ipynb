{
 "cells": [
  {
   "cell_type": "markdown",
   "id": "e6de4d87",
   "metadata": {
    "lang": "en"
   },
   "source": [
    "# Operators, comparisons\n",
    "\n",
    "Is $2^{16}$ larger than $32\\,000\\,\\,/\\,\\,2$?"
   ]
  },
  {
   "cell_type": "code",
   "execution_count": null,
   "id": "c533f895",
   "metadata": {
    "tags": [
     "solution"
    ]
   },
   "outputs": [],
   "source": [
    "2**16 > (32_000 / 2)"
   ]
  },
  {
   "cell_type": "markdown",
   "id": "0ec9181e",
   "metadata": {
    "lang": "en"
   },
   "source": [
    "Is $72$ divisible by $3$ without a remainder?"
   ]
  },
  {
   "cell_type": "code",
   "execution_count": null,
   "id": "2ebc3624",
   "metadata": {
    "tags": [
     "solution"
    ]
   },
   "outputs": [],
   "source": [
    "72 % 3 == 0"
   ]
  },
  {
   "cell_type": "markdown",
   "id": "25d73d03",
   "metadata": {
    "lang": "en"
   },
   "source": [
    "Is $72$ an even number (i.e. divisible by 2 without remainder)?"
   ]
  },
  {
   "cell_type": "code",
   "execution_count": null,
   "id": "b8bb9b24",
   "metadata": {
    "tags": [
     "solution"
    ]
   },
   "outputs": [],
   "source": [
    "72 % 2 == 0"
   ]
  },
  {
   "cell_type": "markdown",
   "id": "9ff5168c",
   "metadata": {
    "lang": "en"
   },
   "source": [
    "Write a function `is_divisible_by(m,n)` which returns `True` if (and only if) `m` is divisible by `n`."
   ]
  },
  {
   "cell_type": "code",
   "execution_count": null,
   "id": "cb81099b",
   "metadata": {
    "tags": [
     "solution"
    ]
   },
   "outputs": [],
   "source": [
    "def ist_teilbar_durch(m, n):\n",
    "    return m % n == 0\n",
    "\n",
    "\n",
    "ist_teilbar_durch(6, 2)"
   ]
  },
  {
   "cell_type": "markdown",
   "id": "c287f61c",
   "metadata": {
    "lang": "en"
   },
   "source": [
    "Write a function `is_divisible_by_2_and_3(n)` that returns `True` if (and only if) `n` is divisible by $2$ and by $3$."
   ]
  },
  {
   "cell_type": "code",
   "execution_count": null,
   "id": "10b74b5d",
   "metadata": {
    "tags": [
     "solution"
    ]
   },
   "outputs": [],
   "source": [
    "def ist_teilbar_durch_2_und_3(n):\n",
    "    return ist_teilbar_durch(n, 2) and ist_teilbar_durch(n, 3)"
   ]
  },
  {
   "cell_type": "code",
   "execution_count": null,
   "id": "0e566e95",
   "metadata": {
    "tags": [
     "solution"
    ]
   },
   "outputs": [],
   "source": [
    "def ist_teilbar_durch_2_und_3_v2(n):\n",
    "    return n % 6 == 0"
   ]
  },
  {
   "cell_type": "markdown",
   "id": "e5e0af8d",
   "metadata": {
    "lang": "en"
   },
   "source": [
    "Test whether $72$ is divisible by $2$ and by $3$."
   ]
  },
  {
   "cell_type": "code",
   "execution_count": null,
   "id": "840fed2a",
   "metadata": {
    "tags": [
     "solution"
    ]
   },
   "outputs": [],
   "source": [
    "ist_teilbar_durch_2_und_3(72)"
   ]
  },
  {
   "cell_type": "markdown",
   "id": "55b91a99",
   "metadata": {
    "lang": "en"
   },
   "source": [
    "# Of legal age\n",
    "\n",
    "Write a function `print_of_age(age)` that prints `of_age` on the screen if `age >= 18` and `minor` otherwise."
   ]
  },
  {
   "cell_type": "code",
   "execution_count": null,
   "id": "8ebc8a56",
   "metadata": {
    "tags": [
     "solution"
    ]
   },
   "outputs": [],
   "source": [
    "def drucke_volljährig(alter):\n",
    "    if alter < 18:\n",
    "        print(\"Minderjährig\")\n",
    "    else:\n",
    "        print(\"Volljährig\")"
   ]
  },
  {
   "cell_type": "markdown",
   "id": "d9e72d7f",
   "metadata": {
    "lang": "en"
   },
   "source": [
    "Test `print_of age(age)` with the values ​​17 and 18."
   ]
  },
  {
   "cell_type": "code",
   "execution_count": null,
   "id": "b41c5222",
   "metadata": {
    "tags": [
     "solution"
    ]
   },
   "outputs": [],
   "source": [
    "drucke_volljährig(17)\n",
    "drucke_volljährig(18)"
   ]
  },
  {
   "cell_type": "markdown",
   "id": "fd2fc4b1",
   "metadata": {
    "lang": "en"
   },
   "source": [
    "# Shopping List\n",
    "\n",
    "Define variables\n",
    "- `my_shopping list` holding a list containing the strings `tea` and `coffee`\n",
    "- `another_shopping list`, holding a different list also containing the strings `tea` and `coffee`"
   ]
  },
  {
   "cell_type": "code",
   "execution_count": null,
   "id": "c9b55df4",
   "metadata": {
    "tags": [
     "solution"
    ]
   },
   "outputs": [],
   "source": [
    "meine_einkaufsliste = [\"Tee\", \"Kaffee\"]\n",
    "eine_andere_einkaufsliste = [\"Tee\", \"Kaffee\"]"
   ]
  },
  {
   "cell_type": "markdown",
   "id": "b4d5979b",
   "metadata": {
    "lang": "en"
   },
   "source": [
    "Define a function `print_shopping_list(shopping_list)` that prints the shopping list passed as argument:\n",
    "\n",
    "```\n",
    "Shopping List:\n",
    "  tea\n",
    "  coffee\n",
    "```"
   ]
  },
  {
   "cell_type": "code",
   "execution_count": null,
   "id": "2e384f2f",
   "metadata": {
    "tags": [
     "solution"
    ]
   },
   "outputs": [],
   "source": [
    "def drucke_einkaufsliste(einkaufsliste):\n",
    "    print(\"Einkaufsliste:\")\n",
    "    for item in einkaufsliste:\n",
    "        print(\" \", item)"
   ]
  },
  {
   "cell_type": "markdown",
   "id": "d32be9fc",
   "metadata": {
    "lang": "en"
   },
   "source": [
    "Test the function `print_shopping list(shopping list)` with both\n",
    "shopping lists."
   ]
  },
  {
   "cell_type": "code",
   "execution_count": null,
   "id": "8e8576a8",
   "metadata": {
    "tags": [
     "solution"
    ]
   },
   "outputs": [],
   "source": [
    "drucke_einkaufsliste(meine_einkaufsliste)"
   ]
  },
  {
   "cell_type": "code",
   "execution_count": null,
   "id": "bfff4536",
   "metadata": {
    "tags": [
     "solution"
    ]
   },
   "outputs": [],
   "source": [
    "drucke_einkaufsliste(eine_andere_einkaufsliste)"
   ]
  },
  {
   "cell_type": "markdown",
   "id": "32357b2e",
   "metadata": {
    "lang": "en"
   },
   "source": [
    "Define a function `buy(product, shopping_list)`, that adds `product` to `shopping_list`."
   ]
  },
  {
   "cell_type": "code",
   "execution_count": null,
   "id": "0c53246c",
   "metadata": {
    "tags": [
     "solution"
    ]
   },
   "outputs": [],
   "source": [
    "def kaufe(produkt, einkaufsliste):\n",
    "    einkaufsliste.append(produkt)"
   ]
  },
  {
   "cell_type": "markdown",
   "id": "956c5628",
   "metadata": {
    "lang": "en"
   },
   "source": [
    "Add `butter` and `bread` to the shopping list `my_shopping_list`."
   ]
  },
  {
   "cell_type": "code",
   "execution_count": null,
   "id": "3ea9b51c",
   "metadata": {
    "tags": [
     "solution"
    ]
   },
   "outputs": [],
   "source": [
    "kaufe(\"Butter\", meine_einkaufsliste)\n",
    "kaufe(\"Brot\", meine_einkaufsliste)"
   ]
  },
  {
   "cell_type": "markdown",
   "id": "02a1975b",
   "metadata": {
    "lang": "en"
   },
   "source": [
    "Print out both shopping lists again."
   ]
  },
  {
   "cell_type": "code",
   "execution_count": null,
   "id": "cce6b9fe",
   "metadata": {
    "tags": [
     "solution"
    ]
   },
   "outputs": [],
   "source": [
    "drucke_einkaufsliste(meine_einkaufsliste)"
   ]
  },
  {
   "cell_type": "code",
   "execution_count": null,
   "id": "bba82451",
   "metadata": {
    "tags": [
     "solution"
    ]
   },
   "outputs": [],
   "source": [
    "drucke_einkaufsliste(eine_andere_einkaufsliste)"
   ]
  },
  {
   "cell_type": "markdown",
   "id": "70a921b7",
   "metadata": {
    "lang": "en"
   },
   "source": [
    "What happens when you add `butter` and `bread` to the shopping list `my_shopping list` again?"
   ]
  },
  {
   "cell_type": "code",
   "execution_count": null,
   "id": "1654ae98",
   "metadata": {
    "tags": [
     "solution"
    ]
   },
   "outputs": [],
   "source": [
    "kaufe(\"Butter\", meine_einkaufsliste)\n",
    "kaufe(\"Brot\", meine_einkaufsliste)\n",
    "drucke_einkaufsliste(meine_einkaufsliste)"
   ]
  },
  {
   "cell_type": "markdown",
   "id": "80d66fad",
   "metadata": {
    "lang": "en"
   },
   "source": [
    "# Printing square numbers\n",
    "\n",
    "Write a function `print_squares(m, n)` that prints the squares of the\n",
    "numbers between `m` and `n` (inclusive) in the following form:\n",
    "\n",
    "```\n",
    "The square of 5 is 25\n",
    "The square of 6 is 36\n",
    "The square of 7 is 49\n",
    "```"
   ]
  },
  {
   "cell_type": "code",
   "execution_count": null,
   "id": "765da8ed",
   "metadata": {
    "tags": [
     "solution"
    ]
   },
   "outputs": [],
   "source": [
    "def drucke_quadrate(m, n):\n",
    "    for num in range(m, n + 1):\n",
    "        print(\"Das Quadrat von\", num, \"ist\", num**2)"
   ]
  },
  {
   "cell_type": "markdown",
   "id": "22361b3c",
   "metadata": {
    "lang": "en"
   },
   "source": [
    "Test the function with arguments 5, 7"
   ]
  },
  {
   "cell_type": "code",
   "execution_count": null,
   "id": "69fa6ab8",
   "metadata": {
    "tags": [
     "solution"
    ]
   },
   "outputs": [],
   "source": [
    "drucke_quadrate(5, 7)"
   ]
  },
  {
   "cell_type": "markdown",
   "id": "8f41bef8",
   "metadata": {
    "lang": "en"
   },
   "source": [
    "# Improved shopping list\n",
    "\n",
    "In this exercise we want to define an improved version of the shopping list\n",
    "in which both the shopping list and the entries are represented by\n",
    "user-defined data types. Every entry in the shopping list should contain\n",
    "the product to buy and the required amount.\n",
    "\n",
    "Define a class `Item`, with attributes for the product and quantity.\n",
    "`Item` should have a `__repr__` method that returns a representation of the item in an\n",
    "appropriate form."
   ]
  },
  {
   "cell_type": "code",
   "execution_count": null,
   "id": "6a436319",
   "metadata": {
    "tags": [
     "solution"
    ]
   },
   "outputs": [],
   "source": [
    "class Item:\n",
    "    def __init__(self, product, amount=\"1\"):\n",
    "        self.product = product\n",
    "        self.amount = amount\n",
    "\n",
    "    def __repr__(self):\n",
    "        return \"Item(\" + repr(self.product) + \", \" + repr(self.amount) + \")\""
   ]
  },
  {
   "cell_type": "markdown",
   "id": "b659efeb",
   "metadata": {
    "lang": "en"
   },
   "source": [
    "Create an item that represents 500g of coffee:"
   ]
  },
  {
   "cell_type": "code",
   "execution_count": null,
   "id": "c4ac0741",
   "metadata": {
    "tags": [
     "solution"
    ]
   },
   "outputs": [],
   "source": [
    "Item(\"Kaffee\", \"500g\")"
   ]
  },
  {
   "cell_type": "markdown",
   "id": "e3a99c5e",
   "metadata": {
    "lang": "en"
   },
   "source": [
    "Define a class `ShoppingList` containing a list of `Item` instances:\n",
    "\n",
    "- The constructor `__init__(self, items=[])` creates a shopping list,\n",
    "  which contains the items `items` (each element of `items` should be an\n",
    "  `Item` instance).\n",
    "\n",
    "- The method `shopping_list.add_item(item: Item)` adds an `Item`\n",
    "  to `shopping_list`.\n",
    "\n",
    "- The `shopping_list.print()` method prints the shopping list.\n",
    "\n",
    "`ShoppingList` should have a `__repr__` method that converts the shopping list into\n",
    "  an appropriate form."
   ]
  },
  {
   "cell_type": "code",
   "execution_count": null,
   "id": "f15e699d",
   "metadata": {
    "tags": [
     "solution"
    ]
   },
   "outputs": [],
   "source": [
    "class ShoppingList:\n",
    "    def __init__(self, items=[]):\n",
    "        self.items = items\n",
    "\n",
    "    def __repr__(self):\n",
    "        return \"ShoppingList(\" + repr(self.items) + \")\"\n",
    "\n",
    "    def add_item(self, item):\n",
    "        self.items.append(item)\n",
    "\n",
    "    def print(self):\n",
    "        print(\"Einkaufsliste\")\n",
    "        for item in self.items:\n",
    "            print(\"  \", item.product, \" (\", item.amount, \")\", sep=\"\")"
   ]
  },
  {
   "cell_type": "markdown",
   "id": "b6f0bda8",
   "metadata": {
    "lang": "en"
   },
   "source": [
    "Define a variable `my_shopping_list` containing a shopping list with the following items:\n",
    "- 2 packets of tea,\n",
    "- 1 packet of coffee"
   ]
  },
  {
   "cell_type": "code",
   "execution_count": null,
   "id": "49b6e793",
   "metadata": {
    "tags": [
     "solution"
    ]
   },
   "outputs": [],
   "source": [
    "meine_einkaufsliste = ShoppingList([Item(\"Tee\", \"2 Pakete\"), Item(\"Kaffee\", \"1 Paket\")])\n",
    "meine_einkaufsliste"
   ]
  },
  {
   "cell_type": "markdown",
   "id": "70e9a8dd",
   "metadata": {
    "lang": "en"
   },
   "source": [
    "Print out `my_shopping list`."
   ]
  },
  {
   "cell_type": "code",
   "execution_count": null,
   "id": "8c758832",
   "metadata": {
    "tags": [
     "solution"
    ]
   },
   "outputs": [],
   "source": [
    "meine_einkaufsliste.print()"
   ]
  },
  {
   "cell_type": "code",
   "execution_count": null,
   "id": "65b6bb88",
   "metadata": {
    "tags": [
     "solution"
    ]
   },
   "outputs": [],
   "source": [
    "drucke_einkaufsliste(eine_andere_einkaufsliste)"
   ]
  },
  {
   "cell_type": "markdown",
   "id": "17947a3b",
   "metadata": {
    "lang": "en"
   },
   "source": [
    "Add 250g butter and 1 loaf of bread to the shopping list\n",
    "`my_shopping list`."
   ]
  },
  {
   "cell_type": "code",
   "execution_count": null,
   "id": "2fac8ed7",
   "metadata": {
    "tags": [
     "solution"
    ]
   },
   "outputs": [],
   "source": [
    "meine_einkaufsliste.add_item(Item(\"Butter\", \"250g\"))\n",
    "meine_einkaufsliste.add_item(Item(\"Brot\", \"1 Laib\"))\n",
    "meine_einkaufsliste"
   ]
  },
  {
   "cell_type": "markdown",
   "id": "861c3eb0",
   "metadata": {
    "lang": "en"
   },
   "source": [
    "Print out the shopping list again."
   ]
  },
  {
   "cell_type": "code",
   "execution_count": null,
   "id": "b7795497",
   "metadata": {
    "tags": [
     "solution"
    ]
   },
   "outputs": [],
   "source": [
    "meine_einkaufsliste.print()"
   ]
  },
  {
   "cell_type": "markdown",
   "id": "efef73c8",
   "metadata": {
    "lang": "en"
   },
   "source": [
    "What happens when you add `butter` and `bread` to `my_shopping list` again?"
   ]
  },
  {
   "cell_type": "code",
   "execution_count": null,
   "id": "bc059830",
   "metadata": {
    "tags": [
     "solution"
    ]
   },
   "outputs": [],
   "source": [
    "meine_einkaufsliste.add_item(Item(\"Butter\", \"250g\"))\n",
    "meine_einkaufsliste.add_item(Item(\"Brot\", \"1 Laib\"))\n",
    "meine_einkaufsliste.print()"
   ]
  },
  {
   "cell_type": "code",
   "execution_count": null,
   "id": "ffcefaff",
   "metadata": {
    "tags": [
     "solution"
    ]
   },
   "outputs": [],
   "source": []
  }
 ],
 "metadata": {
  "jupytext": {
   "encoding": "# -*- coding: utf-8 -*-",
   "formats": "ipynb"
  },
  "kernelspec": {
   "display_name": "Python 3 (ipykernel)",
   "language": "python",
   "name": "python3"
  }
 },
 "nbformat": 4,
 "nbformat_minor": 5
}
