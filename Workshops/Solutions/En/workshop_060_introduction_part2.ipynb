{
 "cells": [
  {
   "cell_type": "markdown",
   "id": "e6732374",
   "metadata": {
    "lang": "en"
   },
   "source": [
    "# Operators, comparisons\n",
    "\n",
    "Is $2^{16}$ larger than $32\\,000\\,\\,/\\,\\,2$?"
   ]
  },
  {
   "cell_type": "code",
   "execution_count": null,
   "id": "bddf2a22",
   "metadata": {
    "tags": [
     "solution"
    ]
   },
   "outputs": [],
   "source": [
    "2**16 > (32_000 / 2)"
   ]
  },
  {
   "cell_type": "markdown",
   "id": "c7ae35ac",
   "metadata": {
    "lang": "en"
   },
   "source": [
    "Is $72$ divisible by $3$ without a remainder?"
   ]
  },
  {
   "cell_type": "code",
   "execution_count": null,
   "id": "b42f4ff5",
   "metadata": {
    "tags": [
     "solution"
    ]
   },
   "outputs": [],
   "source": [
    "72 % 3 == 0"
   ]
  },
  {
   "cell_type": "markdown",
   "id": "5c310d99",
   "metadata": {
    "lang": "en"
   },
   "source": [
    "Is $72$ an even number (i.e. divisible by 2 without remainder)?"
   ]
  },
  {
   "cell_type": "code",
   "execution_count": null,
   "id": "554c767d",
   "metadata": {
    "tags": [
     "solution"
    ]
   },
   "outputs": [],
   "source": [
    "72 % 2 == 0"
   ]
  },
  {
   "cell_type": "markdown",
   "id": "018b2985",
   "metadata": {
    "lang": "en"
   },
   "source": [
    "## Divisibility\n",
    "\n",
    "Write a function `is_divisible_by(m,n)` which returns `True` if (and only if) `m` is divisible by `n`."
   ]
  },
  {
   "cell_type": "code",
   "execution_count": null,
   "id": "e6ff7196",
   "metadata": {
    "lang": "en",
    "tags": [
     "solution"
    ]
   },
   "outputs": [],
   "source": [
    "def is_divisible_by(m, n):\n",
    "    return m % n == 0"
   ]
  },
  {
   "cell_type": "code",
   "execution_count": null,
   "id": "64b9c082",
   "metadata": {
    "lang": "en",
    "lines_to_next_cell": 1,
    "tags": [
     "solution"
    ]
   },
   "outputs": [],
   "source": [
    "is_divisible_by(6, 2)"
   ]
  },
  {
   "cell_type": "markdown",
   "id": "ec36699a",
   "metadata": {
    "lang": "en"
   },
   "source": [
    "Write a function `is_divisible_by_2_and_3(n)` that returns `True` if (and only if) `n` is divisible by $2$ and by $3$."
   ]
  },
  {
   "cell_type": "code",
   "execution_count": null,
   "id": "754228e8",
   "metadata": {
    "lang": "en",
    "tags": [
     "solution"
    ]
   },
   "outputs": [],
   "source": [
    "def is_divisible_by_2_and_3(n):\n",
    "    return n % 6 == 0"
   ]
  },
  {
   "cell_type": "markdown",
   "id": "97894465",
   "metadata": {
    "lang": "en"
   },
   "source": [
    "Test whether $72$ is divisible by $2$ and by $3$."
   ]
  },
  {
   "cell_type": "code",
   "execution_count": null,
   "id": "9b17688f",
   "metadata": {
    "lang": "en",
    "tags": [
     "solution"
    ]
   },
   "outputs": [],
   "source": [
    "ist_teilbar_durch_2_und_3(72)"
   ]
  },
  {
   "cell_type": "code",
   "execution_count": null,
   "id": "b2eeefe7",
   "metadata": {
    "lang": "en",
    "tags": [
     "solution"
    ]
   },
   "outputs": [],
   "source": [
    "is_divisible_by_2_and_3(72)"
   ]
  },
  {
   "cell_type": "markdown",
   "id": "57aaa136",
   "metadata": {
    "lang": "en"
   },
   "source": [
    "# Of legal age\n",
    "\n",
    "Write a function `print_of_age(age)` that prints `of age` on the screen if `age >= 18` and `minor` otherwise."
   ]
  },
  {
   "cell_type": "code",
   "execution_count": null,
   "id": "4f58b024",
   "metadata": {
    "lang": "en",
    "tags": [
     "solution"
    ]
   },
   "outputs": [],
   "source": [
    "def print_of_age(age):\n",
    "    if age < 18:\n",
    "        print(\"minor\")\n",
    "    else:\n",
    "        print(\"of age\")"
   ]
  },
  {
   "cell_type": "markdown",
   "id": "bd4795b8",
   "metadata": {
    "lang": "en"
   },
   "source": [
    "Test `print_of age(age)` with the values ​​17 and 18."
   ]
  },
  {
   "cell_type": "code",
   "execution_count": null,
   "id": "e47fa635",
   "metadata": {
    "lang": "en",
    "tags": [
     "solution"
    ]
   },
   "outputs": [],
   "source": [
    "print_of_age(17)\n",
    "print_of_age(18)"
   ]
  },
  {
   "cell_type": "markdown",
   "id": "8bdc31d7",
   "metadata": {
    "lang": "en"
   },
   "source": [
    "### Shortened output\n",
    "\n",
    "Write a function `fits_in_line(text: str, line_length: int = 72)`,\n",
    "which returns `True` or `False` depending on whether `text` fits into a line of\n",
    "length `line_length`:\n",
    "```python\n",
    ">>> fits_in_line(\"Hello\")\n",
    "True\n",
    ">>> fits_in_line(\"Hello\", 3)\n",
    "False\n",
    ">>>\n",
    "```"
   ]
  },
  {
   "cell_type": "code",
   "execution_count": null,
   "id": "e01fce12",
   "metadata": {
    "tags": [
     "code-along"
    ]
   },
   "outputs": [],
   "source": [
    "def fits_in_line(text: str, line_length: int = 72):\n",
    "    return len(text) <= line_length"
   ]
  },
  {
   "cell_type": "code",
   "execution_count": null,
   "id": "c6657096",
   "metadata": {
    "tags": [
     "code-along"
    ]
   },
   "outputs": [],
   "source": [
    "fits_in_line(\"Hello\")"
   ]
  },
  {
   "cell_type": "code",
   "execution_count": null,
   "id": "8ea233e0",
   "metadata": {
    "tags": [
     "code-along"
    ]
   },
   "outputs": [],
   "source": [
    "fits_in_line(\"Hello\", 3)"
   ]
  },
  {
   "cell_type": "markdown",
   "id": "f513fecb",
   "metadata": {
    "lang": "en"
   },
   "source": [
    "\n",
    "Write a function `print_line(text: str, line_length:int = 72)`,\n",
    "that\n",
    "* prints `text` to the screen if that is possible in a line of length\n",
    "  `line_length`\n",
    "* prints `...` if that is not possible.\n",
    "\n",
    "```python\n",
    ">>> print_line(\"Hello\")\n",
    "Hello\n",
    ">>> print_line(\"Hello\", 3)\n",
    "...\n",
    ">>>\n",
    "```"
   ]
  },
  {
   "cell_type": "code",
   "execution_count": null,
   "id": "bec50b70",
   "metadata": {
    "tags": [
     "code-along"
    ]
   },
   "outputs": [],
   "source": [
    "def print_line(text: str, line_length: int = 72):\n",
    "    if fits_in_line(text, line_length=line_length):\n",
    "        print(text)\n",
    "    else:\n",
    "        print(\"...\")"
   ]
  },
  {
   "cell_type": "code",
   "execution_count": null,
   "id": "5e97018d",
   "metadata": {
    "tags": [
     "code-along"
    ]
   },
   "outputs": [],
   "source": [
    "print_line(\"Hallo\")"
   ]
  },
  {
   "cell_type": "code",
   "execution_count": null,
   "id": "26fcb9b0",
   "metadata": {
    "tags": [
     "code-along"
    ]
   },
   "outputs": [],
   "source": [
    "print_line(\"Hallo\", 3)"
   ]
  },
  {
   "cell_type": "markdown",
   "id": "77c427e4",
   "metadata": {
    "lang": "en"
   },
   "source": [
    "# Shopping List\n",
    "\n",
    "Define variables\n",
    "- `my_shopping list` holding a list containing the strings `tea` and `coffee`\n",
    "- `another_shopping list`, holding a different list also containing the strings `tea` and `coffee`"
   ]
  },
  {
   "cell_type": "code",
   "execution_count": null,
   "id": "666e2f89",
   "metadata": {
    "lang": "en",
    "tags": [
     "solution"
    ]
   },
   "outputs": [],
   "source": [
    "my_shopping_list = [\"tea\", \"coffee\"]\n",
    "another_shopping_list = [\"tea\", \"coffee\"]"
   ]
  },
  {
   "cell_type": "markdown",
   "id": "05046fb9",
   "metadata": {
    "lang": "en"
   },
   "source": [
    "Define a function `print_shopping_list(shopping_list)` that prints the shopping list passed as argument:\n",
    "\n",
    "```\n",
    "Shopping List:\n",
    "  tea\n",
    "  coffee\n",
    "```"
   ]
  },
  {
   "cell_type": "code",
   "execution_count": null,
   "id": "cbab3ae4",
   "metadata": {
    "lang": "en",
    "tags": [
     "solution"
    ]
   },
   "outputs": [],
   "source": [
    "def print_shopping_list(shopping_list):\n",
    "    print(\"Shopping List:\")\n",
    "    for item in shopping_list:\n",
    "        print(\" \", item)"
   ]
  },
  {
   "cell_type": "markdown",
   "id": "74c5c0f1",
   "metadata": {
    "lang": "en"
   },
   "source": [
    "Test the function `print_shopping list(shopping list)` with both\n",
    "shopping lists."
   ]
  },
  {
   "cell_type": "code",
   "execution_count": null,
   "id": "1a90c0ae",
   "metadata": {
    "lang": "en",
    "tags": [
     "solution"
    ]
   },
   "outputs": [],
   "source": [
    "print_shopping_list(my_shopping_list)"
   ]
  },
  {
   "cell_type": "code",
   "execution_count": null,
   "id": "c63734a4",
   "metadata": {
    "lang": "en",
    "tags": [
     "solution"
    ]
   },
   "outputs": [],
   "source": [
    "print_shopping_list(another_shopping_list)"
   ]
  },
  {
   "cell_type": "markdown",
   "id": "cbc2ba12",
   "metadata": {
    "lang": "en"
   },
   "source": [
    "Define a function `buy(product, shopping_list)`, that adds `product` to `shopping_list`."
   ]
  },
  {
   "cell_type": "code",
   "execution_count": null,
   "id": "e29d50bb",
   "metadata": {
    "lang": "en",
    "tags": [
     "solution"
    ]
   },
   "outputs": [],
   "source": [
    "def buy(product, shopping_list):\n",
    "    shopping_list.append(product)"
   ]
  },
  {
   "cell_type": "markdown",
   "id": "2cfa0289",
   "metadata": {
    "lang": "en"
   },
   "source": [
    "Add `butter` and `bread` to the shopping list `my_shopping_list`."
   ]
  },
  {
   "cell_type": "code",
   "execution_count": null,
   "id": "d907ae01",
   "metadata": {
    "lang": "en",
    "tags": [
     "solution"
    ]
   },
   "outputs": [],
   "source": [
    "buy(\"butter\", my_shopping_list)\n",
    "buy(\"bread\", my_shopping_list)"
   ]
  },
  {
   "cell_type": "markdown",
   "id": "3d1af3ee",
   "metadata": {
    "lang": "en"
   },
   "source": [
    "Print out both shopping lists again."
   ]
  },
  {
   "cell_type": "code",
   "execution_count": null,
   "id": "50ed0fbd",
   "metadata": {
    "tags": [
     "solution"
    ]
   },
   "outputs": [],
   "source": [
    "drucke_einkaufsliste(meine_einkaufsliste)"
   ]
  },
  {
   "cell_type": "code",
   "execution_count": null,
   "id": "75c33fa3",
   "metadata": {
    "tags": [
     "solution"
    ]
   },
   "outputs": [],
   "source": [
    "drucke_einkaufsliste(eine_andere_einkaufsliste)"
   ]
  },
  {
   "cell_type": "code",
   "execution_count": null,
   "id": "0ab19378",
   "metadata": {
    "lang": "en",
    "tags": [
     "solution"
    ]
   },
   "outputs": [],
   "source": [
    "print_shopping_list(my_shopping_list)"
   ]
  },
  {
   "cell_type": "code",
   "execution_count": null,
   "id": "8bc6abff",
   "metadata": {
    "lang": "en",
    "tags": [
     "solution"
    ]
   },
   "outputs": [],
   "source": [
    "print_shopping_list(another_shopping_list)"
   ]
  },
  {
   "cell_type": "markdown",
   "id": "14235ec8",
   "metadata": {
    "lang": "en"
   },
   "source": [
    "What happens when you add `butter` and `bread` to the shopping list `my_shopping list` again?"
   ]
  },
  {
   "cell_type": "code",
   "execution_count": null,
   "id": "5c32df96",
   "metadata": {
    "lang": "en",
    "tags": [
     "solution"
    ]
   },
   "outputs": [],
   "source": [
    "buy(\"butter\", my_shopping_list)\n",
    "buy(\"bread\", my_shopping_list)\n",
    "print_shopping_list(my_shopping_list)"
   ]
  },
  {
   "cell_type": "markdown",
   "id": "b49a1e11",
   "metadata": {
    "lang": "en"
   },
   "source": [
    "# Printing square numbers\n",
    "\n",
    "Write a function `print_squares(m, n)` that prints the squares of the\n",
    "numbers between `m` and `n` (inclusive) in the following form:\n",
    "\n",
    "```\n",
    "The square of 5 is 25\n",
    "The square of 6 is 36\n",
    "The square of 7 is 49\n",
    "```"
   ]
  },
  {
   "cell_type": "code",
   "execution_count": null,
   "id": "22903e8d",
   "metadata": {
    "lang": "en",
    "tags": [
     "solution"
    ]
   },
   "outputs": [],
   "source": [
    "def print_squares(m, n):\n",
    "    for num in range(m, n + 1):\n",
    "        print(\"The squre of\", num, \"is\", num**2)"
   ]
  },
  {
   "cell_type": "markdown",
   "id": "094deef8",
   "metadata": {
    "lang": "en"
   },
   "source": [
    "Test the function with arguments 5, 7"
   ]
  },
  {
   "cell_type": "code",
   "execution_count": null,
   "id": "dff6c64e",
   "metadata": {
    "lang": "en",
    "lines_to_next_cell": 1,
    "tags": [
     "solution"
    ]
   },
   "outputs": [],
   "source": [
    "print_squares(5, 7)"
   ]
  },
  {
   "cell_type": "markdown",
   "id": "d5d05b50",
   "metadata": {
    "lang": "en"
   },
   "source": [
    "# Improved shopping list\n",
    "\n",
    "In this exercise we want to define an improved version of the shopping list\n",
    "in which both the shopping list and the entries are represented by\n",
    "user-defined data types. Every entry in the shopping list should contain\n",
    "the product to buy and the required amount.\n",
    "\n",
    "Define a class `Item`, with attributes for the product and quantity.\n",
    "`Item` should have a `__repr__` method that returns a representation of the item in an\n",
    "appropriate form."
   ]
  },
  {
   "cell_type": "code",
   "execution_count": null,
   "id": "80e5b257",
   "metadata": {
    "tags": [
     "solution"
    ]
   },
   "outputs": [],
   "source": [
    "class Item:\n",
    "    def __init__(self, product, amount=\"1\"):\n",
    "        self.product = product\n",
    "        self.amount = amount\n",
    "\n",
    "    def __repr__(self):\n",
    "        return \"Item(\" + repr(self.product) + \", \" + repr(self.amount) + \")\""
   ]
  },
  {
   "cell_type": "markdown",
   "id": "25717241",
   "metadata": {
    "lang": "en"
   },
   "source": [
    "Create an item that represents 500g of coffee:"
   ]
  },
  {
   "cell_type": "code",
   "execution_count": null,
   "id": "0c2acbbb",
   "metadata": {
    "lang": "en",
    "lines_to_next_cell": 1,
    "tags": [
     "solution"
    ]
   },
   "outputs": [],
   "source": [
    "Item(\"coffee\", \"500g\")"
   ]
  },
  {
   "cell_type": "markdown",
   "id": "89ab1490",
   "metadata": {
    "lang": "en"
   },
   "source": [
    "Define a class `ShoppingList` containing a list of `Item` instances:\n",
    "\n",
    "- The constructor `__init__(self, items=[])` creates a shopping list,\n",
    "  which contains the items `items` (each element of `items` should be an\n",
    "  `Item` instance).\n",
    "\n",
    "- The method `shopping_list.add_item(item: Item)` adds an `Item`\n",
    "  to `shopping_list`.\n",
    "\n",
    "- The `shopping_list.print()` method prints the shopping list.\n",
    "\n",
    "`ShoppingList` should have a `__repr__` method that converts the shopping list into\n",
    "  an appropriate form."
   ]
  },
  {
   "cell_type": "code",
   "execution_count": null,
   "id": "993f8cc3",
   "metadata": {
    "tags": [
     "solution"
    ]
   },
   "outputs": [],
   "source": [
    "class ShoppingList:\n",
    "    def __init__(self, items=[]):\n",
    "        self.items = items\n",
    "\n",
    "    def __repr__(self):\n",
    "        return \"ShoppingList(\" + repr(self.items) + \")\"\n",
    "\n",
    "    def add_item(self, item):\n",
    "        self.items.append(item)\n",
    "\n",
    "    def print(self):\n",
    "        print(\"Einkaufsliste\")\n",
    "        for item in self.items:\n",
    "            print(\"  \", item.product, \" (\", item.amount, \")\", sep=\"\")"
   ]
  },
  {
   "cell_type": "markdown",
   "id": "7f3f825a",
   "metadata": {
    "lang": "en"
   },
   "source": [
    "Define a variable `my_shopping_list` containing a shopping list with the following items:\n",
    "- 2 packets of tea,\n",
    "- 1 packet of coffee"
   ]
  },
  {
   "cell_type": "code",
   "execution_count": null,
   "id": "dcfc9f29",
   "metadata": {
    "lang": "en",
    "tags": [
     "solution"
    ]
   },
   "outputs": [],
   "source": [
    "my_shopping_list = ShoppingList([Item(\"tea\", \"2 packets\"), Item(\"coffe\", \"1 packet\")])"
   ]
  },
  {
   "cell_type": "markdown",
   "id": "5cf29238",
   "metadata": {
    "lang": "en"
   },
   "source": [
    "Print out `my_shopping list`."
   ]
  },
  {
   "cell_type": "code",
   "execution_count": null,
   "id": "384981cf",
   "metadata": {
    "lang": "en",
    "tags": [
     "solution"
    ]
   },
   "outputs": [],
   "source": [
    "print_shopping_list(my_shopping_list)"
   ]
  },
  {
   "cell_type": "markdown",
   "id": "8c84ac8c",
   "metadata": {
    "lang": "en"
   },
   "source": [
    "Add 250g butter and 1 loaf of bread to the shopping list\n",
    "`my_shopping list`."
   ]
  },
  {
   "cell_type": "code",
   "execution_count": null,
   "id": "1f524d30",
   "metadata": {
    "lang": "en",
    "tags": [
     "solution"
    ]
   },
   "outputs": [],
   "source": [
    "my_shopping_list.add_item(Item(\"butter\", \"250g\"))\n",
    "my_shopping_list.add_item(Item(\"bread\", \"1 loaf\"))"
   ]
  },
  {
   "cell_type": "markdown",
   "id": "2921f96d",
   "metadata": {
    "lang": "en"
   },
   "source": [
    "Print out the shopping list again."
   ]
  },
  {
   "cell_type": "code",
   "execution_count": null,
   "id": "87193aca",
   "metadata": {
    "lang": "en",
    "tags": [
     "solution"
    ]
   },
   "outputs": [],
   "source": [
    "\n",
    "my_shopping_list.print()"
   ]
  },
  {
   "cell_type": "markdown",
   "id": "c04a3c4a",
   "metadata": {
    "lang": "en"
   },
   "source": [
    "What happens when you add `butter` and `bread` to `my_shopping list` again?"
   ]
  },
  {
   "cell_type": "code",
   "execution_count": null,
   "id": "9743360c",
   "metadata": {
    "lang": "en",
    "tags": [
     "solution"
    ]
   },
   "outputs": [],
   "source": [
    "my_shopping_list.add_item(Item(\"butter\", \"250g\"))\n",
    "my_shopping_list.add_item(Item(\"bread\", \"1 loaf\"))\n",
    "my_shopping_list.print()"
   ]
  },
  {
   "cell_type": "code",
   "execution_count": null,
   "id": "f095fd7a",
   "metadata": {
    "tags": [
     "solution"
    ]
   },
   "outputs": [],
   "source": []
  }
 ],
 "metadata": {
  "jupytext": {
   "cell_metadata_json": true,
   "encoding": "# -*- coding: utf-8 -*-",
   "formats": "ipynb"
  },
  "kernelspec": {
   "display_name": "Python 3 (ipykernel)",
   "language": "python",
   "name": "python3"
  }
 },
 "nbformat": 4,
 "nbformat_minor": 5
}
