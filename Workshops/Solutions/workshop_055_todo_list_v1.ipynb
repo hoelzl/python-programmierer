{
 "cells": [
  {
   "cell_type": "markdown",
   "id": "36c64dd0",
   "metadata": {},
   "source": [
    "# TODO-Liste Version 0\n",
    "\n",
    "Im Folgenden soll eine einfache Anwendung zur Verwaltung einer TODO-Liste\n",
    "erstellt werden.\n",
    "\n",
    "Jeder Eintrag in der TODO-Liste soll folgende Information enthalten:\n",
    "\n",
    "- Titel\n",
    "- Priorität\n",
    "- Wurde das Item schon erledigt oder nicht?\n",
    "\n",
    "Verwenden Sie im Folgenden ein Dictionary um einen Eintrag in der TODO-Liste\n",
    "darzustellen und eine Liste um die TODO-Liste zu repräsentieren:"
   ]
  },
  {
   "cell_type": "markdown",
   "id": "adc993cc",
   "metadata": {},
   "source": [
    "Legen Sie eine Liste `todos` mit Todo-Items an, die folgende Einträge enthält:\n",
    "\n",
    "- Titel: Python lernen, Priorität 3, nicht erledigt\n",
    "- Titel: Gemüse einkaufen, Priorität 2, nicht erledigt\n",
    "- Titel: Hans anrufen, Priorität 5, erledigt"
   ]
  },
  {
   "cell_type": "code",
   "execution_count": null,
   "id": "dcbdf786",
   "metadata": {
    "tags": [
     "solution"
    ]
   },
   "outputs": [],
   "source": [
    "todos = [dict(title='Python lernen', priority=3, is_completed=False)]\n",
    "todos"
   ]
  },
  {
   "cell_type": "code",
   "execution_count": null,
   "id": "5c5375df",
   "metadata": {
    "tags": [
     "solution"
    ]
   },
   "outputs": [],
   "source": [
    "todos = [{'title': 'Python lernen', 'priority': 3, 'is_completed': False},\n",
    "         {'title': 'Gemüse einkaufen', 'priority': 2, 'is_completed': False},\n",
    "         {'title': 'Hans anrufen', 'priority': 5, 'is_completed': True}]"
   ]
  },
  {
   "cell_type": "code",
   "execution_count": null,
   "id": "5a215d30",
   "metadata": {
    "tags": [
     "solution"
    ]
   },
   "outputs": [],
   "source": [
    "todos"
   ]
  },
  {
   "cell_type": "markdown",
   "id": "4781321e",
   "metadata": {},
   "source": [
    "Schreiben Sie eine Funktion `add_todo_item(todo_list, title, priority)`,\n",
    "die ein neues Todo-Item zu `todo_list` hinzufügt."
   ]
  },
  {
   "cell_type": "code",
   "execution_count": null,
   "id": "b6cc5d02",
   "metadata": {
    "tags": [
     "solution"
    ]
   },
   "outputs": [],
   "source": [
    "def add_todo_item(todo_list, title, priority):\n",
    "    todo_list.append({'title':        title,\n",
    "                      'priority':     priority,\n",
    "                      'is_completed': False})"
   ]
  },
  {
   "cell_type": "markdown",
   "id": "1ebd46af",
   "metadata": {},
   "source": [
    "Fügen Sie ein neues Todo-Item mit Titel \"Schnee schaufeln\" und Priorität 5\n",
    " in die Liste `todos` ein."
   ]
  },
  {
   "cell_type": "code",
   "execution_count": null,
   "id": "565f1ac6",
   "metadata": {
    "tags": [
     "solution"
    ]
   },
   "outputs": [],
   "source": [
    "add_todo_item(todos, \"Schnee schaufeln\", 5)"
   ]
  },
  {
   "cell_type": "code",
   "execution_count": null,
   "id": "8f6cf0c7",
   "metadata": {
    "tags": [
     "solution"
    ]
   },
   "outputs": [],
   "source": [
    "todos"
   ]
  },
  {
   "cell_type": "markdown",
   "id": "5b92aee5",
   "metadata": {},
   "source": [
    "Schreiben Sie eine Funktion `mark_todo_item_done(todo_list, title)`,\n",
    "die das erste in der Liste `todo_list` vorkommende Todo-Item mit Titel\n",
    " `title`, das noch nicht bearbeitet ist, als bearbeitet markiert."
   ]
  },
  {
   "cell_type": "code",
   "execution_count": null,
   "id": "4a9f0fa1",
   "metadata": {
    "tags": [
     "solution"
    ]
   },
   "outputs": [],
   "source": [
    "def mark_todo_item_done(todo_list, title):\n",
    "    for item in todo_list:\n",
    "        if item['title'] == title and not item['is_completed']:\n",
    "            item['is_completed'] = True\n",
    "            break"
   ]
  },
  {
   "cell_type": "markdown",
   "id": "974b9457",
   "metadata": {},
   "source": [
    "Markieren Sie das Todo-Item `Schnee schaufeln` als bearbeitet."
   ]
  },
  {
   "cell_type": "code",
   "execution_count": null,
   "id": "872a3883",
   "metadata": {
    "tags": [
     "solution"
    ]
   },
   "outputs": [],
   "source": [
    "mark_todo_item_done(todos, \"Schnee schaufeln\")"
   ]
  },
  {
   "cell_type": "code",
   "execution_count": null,
   "id": "9ffde751",
   "metadata": {
    "tags": [
     "solution"
    ]
   },
   "outputs": [],
   "source": [
    "todos"
   ]
  },
  {
   "cell_type": "markdown",
   "id": "a658f39e",
   "metadata": {},
   "source": [
    "Fügen Sie zwei Todo-Items mit Text \"Python lernen\" und Priorität 1 und 6\n",
    " zur Todo-Liste hinzu."
   ]
  },
  {
   "cell_type": "code",
   "execution_count": null,
   "id": "c6b50bd6",
   "metadata": {
    "tags": [
     "solution"
    ]
   },
   "outputs": [],
   "source": [
    "add_todo_item(todos, \"Python lernen\", 1)\n",
    "add_todo_item(todos, \"Python lernen\", 6)"
   ]
  },
  {
   "cell_type": "code",
   "execution_count": null,
   "id": "34a7ce13",
   "metadata": {
    "tags": [
     "solution"
    ]
   },
   "outputs": [],
   "source": [
    "todos"
   ]
  },
  {
   "cell_type": "markdown",
   "id": "bcf170ea",
   "metadata": {},
   "source": [
    "Markieren Sie ein Todo-Item \"Python lernen\" als erledigt. Wie sieht jetzt\n",
    " Ihre Liste aus?"
   ]
  },
  {
   "cell_type": "code",
   "execution_count": null,
   "id": "099a2bc5",
   "metadata": {
    "tags": [
     "solution"
    ]
   },
   "outputs": [],
   "source": [
    "mark_todo_item_done(todos, \"Python lernen\")"
   ]
  },
  {
   "cell_type": "code",
   "execution_count": null,
   "id": "a23d9885",
   "metadata": {
    "tags": [
     "solution"
    ]
   },
   "outputs": [],
   "source": [
    "todos"
   ]
  },
  {
   "cell_type": "markdown",
   "id": "97e92362",
   "metadata": {},
   "source": [
    "Markieren Sie noch ein Todo-Item \"Python lernen\" als erledigt. Wie sieht\n",
    " jetzt Ihre Liste aus?"
   ]
  },
  {
   "cell_type": "code",
   "execution_count": null,
   "id": "d0cb464d",
   "metadata": {
    "tags": [
     "solution"
    ]
   },
   "outputs": [],
   "source": [
    "mark_todo_item_done(todos, \"Python lernen\")\n",
    "todos"
   ]
  },
  {
   "cell_type": "markdown",
   "id": "2372ddfb",
   "metadata": {},
   "source": [
    "\n",
    "Schreiben Sie eine Funktion `delete_todo_item(todo_list, title)`, die das\n",
    "erste in der liste `todo_list` vorkommende Todo-Item mit Titel `title` aus\n",
    " der Liste entfernt.\n",
    "\n",
    "*Vorsicht: Sie sollten während Sie über eine Liste iterieren keine Einträge\n",
    "entfernen oder einfügen!*"
   ]
  },
  {
   "cell_type": "code",
   "execution_count": null,
   "id": "80b9ecd6",
   "metadata": {
    "tags": [
     "solution"
    ]
   },
   "outputs": [],
   "source": [
    "def delete_todo_item(todo_list, title):\n",
    "    index_to_delete = -1\n",
    "    for index, item in enumerate(todo_list):\n",
    "        if item['title'] == title:\n",
    "            index_to_delete = index\n",
    "            break\n",
    "    if index_to_delete >= 0:\n",
    "        del todo_list[index_to_delete]"
   ]
  },
  {
   "cell_type": "markdown",
   "id": "034ad1b7",
   "metadata": {
    "pycharm": {
     "name": "#%% md\n"
    }
   },
   "source": [
    "Löschen Sie ein item `Python lernen` aus `todo_list`"
   ]
  },
  {
   "cell_type": "code",
   "execution_count": null,
   "id": "259ed658",
   "metadata": {
    "tags": [
     "solution"
    ]
   },
   "outputs": [],
   "source": [
    "delete_todo_item(todos, \"Python lernen\")\n",
    "todos"
   ]
  },
  {
   "cell_type": "markdown",
   "id": "551d1c3d",
   "metadata": {},
   "source": [
    "Schreiben Sie eine Funktiion `delete_all_completed_todo_items(todo_list)`,\n",
    "die alle erledigten Todo-Items aus `todo_list` löscht.\n",
    "\n",
    "*Hinweis: Eine Möglichkeit diese Aufgabe zu lösen sind zwei\n",
    "aufeinanderfolgende `for`-Schleifen: eine um die Indizes zu bestimmen und\n",
    "eine um sie zu löschen. Beachten Sie die Reihenfolge, in der Sie Items\n",
    "löschen! Eine elegantere Methode ist eine List Comprehension und Zuweisung\n",
    "an ein Slice zu verwenden.*"
   ]
  },
  {
   "cell_type": "code",
   "execution_count": null,
   "id": "e0e700f7",
   "metadata": {
    "tags": [
     "solution"
    ]
   },
   "outputs": [],
   "source": [
    "def delete_all_completed_todo_items(todo_list):\n",
    "    indices_to_delete = []\n",
    "    for index, item in enumerate(todo_list):\n",
    "        if item['is_completed']:\n",
    "            indices_to_delete.append(index)\n",
    "    for index in sorted(indices_to_delete, reverse=True):\n",
    "        del todo_list[index]"
   ]
  },
  {
   "cell_type": "code",
   "execution_count": null,
   "id": "8402bec4",
   "metadata": {
    "tags": [
     "solution"
    ]
   },
   "outputs": [],
   "source": [
    "# delete_all_completed_todo_items(todos)\n",
    "todos"
   ]
  },
  {
   "cell_type": "code",
   "execution_count": null,
   "id": "c95924bc",
   "metadata": {
    "tags": [
     "solution"
    ]
   },
   "outputs": [],
   "source": [
    "def delete_all_completed_todo_items_v2(todo_list):\n",
    "    todo_list[:] = [item\n",
    "                    for item in todo_list\n",
    "                    if not item['is_completed']]"
   ]
  },
  {
   "cell_type": "code",
   "execution_count": null,
   "id": "a2c2bed1",
   "metadata": {
    "tags": [
     "solution"
    ]
   },
   "outputs": [],
   "source": [
    "delete_all_completed_todo_items_v2(todos)\n",
    "todos"
   ]
  },
  {
   "cell_type": "code",
   "execution_count": null,
   "id": "b8c39c4b",
   "metadata": {},
   "outputs": [],
   "source": []
  }
 ],
 "metadata": {
  "jupytext": {
   "encoding": "# -*- coding: utf-8 -*-",
   "formats": "ipynb"
  },
  "kernelspec": {
   "display_name": "Python 3 (ipykernel)",
   "language": "python",
   "name": "python3"
  }
 },
 "nbformat": 4,
 "nbformat_minor": 5
}
