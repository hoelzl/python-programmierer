{
 "cells": [
  {
   "cell_type": "markdown",
   "id": "3b71b246",
   "metadata": {
    "lang": "de"
   },
   "source": [
    "# Einleitung\n",
    "\n",
    "Wie können Sie den String `Hello, world!` in Python darstellen?"
   ]
  },
  {
   "cell_type": "code",
   "execution_count": null,
   "id": "e2b7b689",
   "metadata": {
    "tags": [
     "solution"
    ]
   },
   "outputs": [],
   "source": [
    "\"Hello, world!\""
   ]
  },
  {
   "cell_type": "markdown",
   "id": "ab79a9ce",
   "metadata": {
    "lang": "de"
   },
   "source": [
    "Wie können Sie Ihren Namen als Text (String) in Python darstellen?"
   ]
  },
  {
   "cell_type": "code",
   "execution_count": null,
   "id": "7889bb70",
   "metadata": {
    "tags": [
     "solution"
    ]
   },
   "outputs": [],
   "source": [
    "\"Matthias\""
   ]
  },
  {
   "cell_type": "markdown",
   "id": "54783067",
   "metadata": {
    "lang": "de"
   },
   "source": [
    "Wie können Sie den String `Hello, World!` auf dem Bildschirm ausgeben?"
   ]
  },
  {
   "cell_type": "code",
   "execution_count": null,
   "id": "c16b9bda",
   "metadata": {
    "tags": [
     "solution"
    ]
   },
   "outputs": [],
   "source": [
    "print(\"Hello, World!\")"
   ]
  },
  {
   "cell_type": "markdown",
   "id": "35f95941",
   "metadata": {
    "lang": "de"
   },
   "source": [
    "Wie können Sie Ihren Namen auf dem Bildschirm ausgeben?"
   ]
  },
  {
   "cell_type": "code",
   "execution_count": null,
   "id": "c5877312",
   "metadata": {
    "tags": [
     "solution"
    ]
   },
   "outputs": [],
   "source": [
    "print(\"Matthias\")"
   ]
  },
  {
   "cell_type": "markdown",
   "id": "f936dc65",
   "metadata": {
    "lang": "de"
   },
   "source": [
    "Wie können Sie\n",
    "\n",
    "```\n",
    "130 g   Mehl\n",
    "250 ml  Milch\n",
    "1 EL    Vanillezucker\n",
    "1 Prise Salz\n",
    "```\n",
    "\n",
    "auf dem Bildschirm ausgeben?"
   ]
  },
  {
   "cell_type": "code",
   "execution_count": null,
   "id": "0d95c05b",
   "metadata": {
    "tags": [
     "solution"
    ]
   },
   "outputs": [],
   "source": [
    "print(\"130 g   Mehl\")\n",
    "print(\"250 ml  Milch\")\n",
    "print(\"1 EL    Vanillezucker\")\n",
    "print(\"1 Prise Salz\")"
   ]
  },
  {
   "cell_type": "code",
   "execution_count": null,
   "id": "f2c4b582",
   "metadata": {
    "tags": [
     "solution"
    ]
   },
   "outputs": [],
   "source": [
    "# Alternativ:\n",
    "print(\n",
    "    \"\"\"130 g   Mehl\n",
    "250 ml  Milch\n",
    "1 EL    Vanillezucker\n",
    "1 Prise Salz\"\"\"\n",
    ")"
   ]
  },
  {
   "cell_type": "code",
   "execution_count": null,
   "id": "0e3d323d",
   "metadata": {
    "tags": [
     "solution"
    ]
   },
   "outputs": [],
   "source": [
    "# Alternativ:\n",
    "# fmt: off\n",
    "print(\"130 g   Mehl\\n\"\n",
    "      \"250 ml  Milch\\n\"\n",
    "      \"1 EL    Vanillezucker\\n\"\n",
    "      \"1 Prise Salz\")\n",
    "# fmt: on"
   ]
  },
  {
   "cell_type": "markdown",
   "id": "1aa8a942",
   "metadata": {
    "lang": "de"
   },
   "source": [
    "# Zahlen und Mathematik\n",
    "\n",
    "Wie können Sie die Zahl `32` in Python darstellen?"
   ]
  },
  {
   "cell_type": "code",
   "execution_count": null,
   "id": "e238c713",
   "metadata": {
    "tags": [
     "solution"
    ]
   },
   "outputs": [],
   "source": [
    "32"
   ]
  },
  {
   "cell_type": "markdown",
   "id": "7e97a5aa",
   "metadata": {
    "lang": "de"
   },
   "source": [
    "Wie können Sie den Datentyp von `14` in Python feststellen?"
   ]
  },
  {
   "cell_type": "code",
   "execution_count": null,
   "id": "2ee012bd",
   "metadata": {
    "tags": [
     "solution"
    ]
   },
   "outputs": [],
   "source": [
    "type(14)"
   ]
  },
  {
   "cell_type": "markdown",
   "id": "46523f57",
   "metadata": {
    "lang": "de"
   },
   "source": [
    "Wie können Sie den Datentyp von `14.0` in Python feststellen?"
   ]
  },
  {
   "cell_type": "code",
   "execution_count": null,
   "id": "f6d4d74f",
   "metadata": {
    "tags": [
     "solution"
    ]
   },
   "outputs": [],
   "source": [
    "type(14.0)"
   ]
  },
  {
   "cell_type": "markdown",
   "id": "0bae9c34",
   "metadata": {
    "lang": "de"
   },
   "source": [
    "Wie können Sieden Datentyp von `'14'` in Python feststellen?"
   ]
  },
  {
   "cell_type": "code",
   "execution_count": null,
   "id": "46bc0789",
   "metadata": {
    "tags": [
     "solution"
    ]
   },
   "outputs": [],
   "source": [
    "type(\"14\")"
   ]
  },
  {
   "cell_type": "markdown",
   "id": "e7faea56",
   "metadata": {
    "lang": "de"
   },
   "source": [
    "Was ist der Wert von `1 + 2 * 3`?"
   ]
  },
  {
   "cell_type": "code",
   "execution_count": null,
   "id": "f0799e0b",
   "metadata": {
    "tags": [
     "solution"
    ]
   },
   "outputs": [],
   "source": [
    "1 + 2 * 3"
   ]
  },
  {
   "cell_type": "markdown",
   "id": "0445a0ae",
   "metadata": {
    "lang": "de"
   },
   "source": [
    "Was ist der Datentyp von `1 + 2 * 3` in Python?"
   ]
  },
  {
   "cell_type": "code",
   "execution_count": null,
   "id": "5d3cbed7",
   "metadata": {
    "tags": [
     "solution"
    ]
   },
   "outputs": [],
   "source": [
    "type(1 + 2 * 3)"
   ]
  },
  {
   "cell_type": "markdown",
   "id": "17e50096",
   "metadata": {
    "lang": "de"
   },
   "source": [
    "Was ist der Wert von `4 / 2` in Python?"
   ]
  },
  {
   "cell_type": "code",
   "execution_count": null,
   "id": "de2fb42d",
   "metadata": {
    "tags": [
     "solution"
    ]
   },
   "outputs": [],
   "source": [
    "4 / 2"
   ]
  },
  {
   "cell_type": "markdown",
   "id": "7711580c",
   "metadata": {
    "lang": "de"
   },
   "source": [
    "Was ist der Datentyp von `4 / 2` in Python?"
   ]
  },
  {
   "cell_type": "code",
   "execution_count": null,
   "id": "2d05500f",
   "metadata": {
    "tags": [
     "solution"
    ]
   },
   "outputs": [],
   "source": [
    "type(4 / 2)"
   ]
  },
  {
   "cell_type": "markdown",
   "id": "9c3dfffc",
   "metadata": {
    "lang": "de"
   },
   "source": [
    "Was sind Wert und Datentyp von `1 + 1.0` in Python? Können Sie den Datentyp\n",
    "ohne Verwendung von `type` feststellen?"
   ]
  },
  {
   "cell_type": "code",
   "execution_count": null,
   "id": "cb43c2f3",
   "metadata": {
    "tags": [
     "solution"
    ]
   },
   "outputs": [],
   "source": [
    "1 + 1.0  # Typ ist float, da Ausgabe Nachkommastellen hat"
   ]
  },
  {
   "cell_type": "markdown",
   "id": "4719831f",
   "metadata": {
    "lang": "de"
   },
   "source": [
    "# Piraten\n",
    "\n",
    "Der Legende nach wurde die Beute bei Piratenbanden gerecht durch alle Piraten\n",
    "geteilt. Falls sich die Beute sich nicht gerecht aufteilen ließ erhielt der\n",
    "Kapitän den überschüssigen Anteil.\n",
    "\n",
    "Wie viele Golddublonen erhält jeder Pirat einer 8-köpfigen Bande\n",
    "(7 Piraten + 1 Kapitän), wenn ein Schatz mit 1000 Golddublonen erbeutet wurde?\n",
    "\n",
    "(Verwenden Sie Variablen um die Berechnung klarer zu machen.)"
   ]
  },
  {
   "cell_type": "code",
   "execution_count": null,
   "id": "0b5a56db",
   "metadata": {
    "tags": [
     "solution"
    ]
   },
   "outputs": [],
   "source": [
    "anzahl_piraten = 8\n",
    "beute_gesamt = 1000\n",
    "beute_pro_pirat = beute_gesamt // anzahl_piraten\n",
    "beute_pro_pirat"
   ]
  },
  {
   "cell_type": "markdown",
   "id": "e9a8999e",
   "metadata": {
    "lang": "de"
   },
   "source": [
    "Wie viele Golddublonen erhält der Kapitän extra?"
   ]
  },
  {
   "cell_type": "code",
   "execution_count": null,
   "id": "5c54f776",
   "metadata": {
    "tags": [
     "solution"
    ]
   },
   "outputs": [],
   "source": [
    "# noinspection NonAsciiCharacters\n",
    "beute_kapitän = beute_gesamt % anzahl_piraten\n",
    "beute_kapitän"
   ]
  },
  {
   "cell_type": "markdown",
   "id": "52d1796b",
   "metadata": {
    "lang": "de"
   },
   "source": [
    "Die Piratenbande nimmt 3 neue Piraten-Lehrlinge auf.\n",
    "\n",
    "Wie verändert sich die Aufteilung der Beute?\n",
    "\n",
    "(Verwenden Sie Zuweisungen an die existierenden Variablen um das Problem zu\n",
    "lösen.)"
   ]
  },
  {
   "cell_type": "code",
   "execution_count": null,
   "id": "4fe6feea",
   "metadata": {
    "tags": [
     "solution"
    ]
   },
   "outputs": [],
   "source": [
    "# anzahl_piraten += 3 # anzahl_piraten = anzahl_piraten + 3\n",
    "anzahl_piraten = 11  # besser, falls die Zelle evtl. mehrmals ausgewertet wird\n",
    "beute_pro_pirat = beute_gesamt // anzahl_piraten\n",
    "beute_pro_pirat"
   ]
  },
  {
   "cell_type": "markdown",
   "id": "589ca78a",
   "metadata": {
    "lang": "de"
   },
   "source": [
    "Wie viele Golddublonen erhält der Kapitän in diesem Fall zusätzlich?"
   ]
  },
  {
   "cell_type": "code",
   "execution_count": null,
   "id": "24e0c88a",
   "metadata": {
    "tags": [
     "solution"
    ]
   },
   "outputs": [],
   "source": [
    "beute_kapitän = beute_gesamt % anzahl_piraten\n",
    "beute_kapitän"
   ]
  },
  {
   "cell_type": "markdown",
   "id": "3c3b76f5",
   "metadata": {
    "lang": "de"
   },
   "source": [
    "# Spenden\n",
    "\n",
    "Bei einer Spendenaktion hat der Fernsehsender ZRD zugesagt, jede eingehende\n",
    "Spende zu verdoppeln. Der Regionalsender YB3 erhöht jede eingehende Spende\n",
    "um 10 Euro. (ZRD verdoppelt bevor die 10 Euro von YB3 hinzugefügt werden.)\n",
    "\n",
    "Schreiben Sie eine Python Funktion `effektive_spende(n)`, die berechnet,\n",
    "welcher Betrag effektiv gespendet wird, wenn ein Zuschauer $N$ Euro spendet."
   ]
  },
  {
   "cell_type": "code",
   "execution_count": null,
   "id": "2c8c9b6e",
   "metadata": {
    "tags": [
     "solution"
    ]
   },
   "outputs": [],
   "source": [
    "def effektive_spende(spende):\n",
    "    return 2 * spende + 10"
   ]
  },
  {
   "cell_type": "markdown",
   "id": "151d0387",
   "metadata": {
    "lang": "de"
   },
   "source": [
    "Wie hoch ist die effektive Spende, wenn ein Zuschauer 20 Euro spendet?"
   ]
  },
  {
   "cell_type": "code",
   "execution_count": null,
   "id": "a7c68afa",
   "metadata": {
    "tags": [
     "solution"
    ]
   },
   "outputs": [],
   "source": [
    "effektive_spende(20)"
   ]
  },
  {
   "cell_type": "markdown",
   "id": "e9c9496c",
   "metadata": {
    "lang": "de"
   },
   "source": [
    "\n",
    "Geben Sie die effektiven Spenden für 25, 50, 100 und 500 Euro auf dem\n",
    "Bildschirm aus.\n",
    "\n",
    "*Hinweis:* Sie können Eingaben mit der `Tab`-Taste vervollständigen. Es\n",
    "genügt also, wenn Sie\n",
    "\n",
    "`pri`-*Tab* `eff`-*Tab*\n",
    "\n",
    "eingeben bevor Sie die Argumente eintippen."
   ]
  },
  {
   "cell_type": "code",
   "execution_count": null,
   "id": "b067cf40",
   "metadata": {
    "tags": [
     "solution"
    ]
   },
   "outputs": [],
   "source": [
    "print(effektive_spende(10))\n",
    "print(effektive_spende(25))\n",
    "print(effektive_spende(50))\n",
    "print(effektive_spende(100))\n",
    "print(effektive_spende(500))\n",
    "print(effektive_spende(1000))"
   ]
  },
  {
   "cell_type": "markdown",
   "id": "dbc6b036",
   "metadata": {
    "lang": "de"
   },
   "source": [
    "# Piraten, Teil 2\n",
    "\n",
    "Ihre Piraten-Crew droht zu meutern, weil die Berechnung der Beuteaufteilung\n",
    "zu lange dauert.\n",
    "\n",
    "Schreiben Sie eine Funktion `drucke_aufteilung_der_beute(dublonen, piraten)`,\n",
    "die die Aufteilung berechnet und in folgendem Format ausgibt:\n",
    "\n",
    "```\n",
    "Piraten: 8\n",
    "Golddublonen: 17\n",
    "Jeder Pirat erhält: 2 Golddublone(n)\n",
    "Kapitän erhält extra: 1 Golddublone(n)\n",
    "```"
   ]
  },
  {
   "cell_type": "code",
   "execution_count": null,
   "id": "aab1d380",
   "metadata": {
    "tags": [
     "solution"
    ]
   },
   "outputs": [],
   "source": [
    "def drucke_aufteilung_der_beute(dublonen, piraten):\n",
    "    dublonen_pro_pirat = dublonen // piraten\n",
    "    dublonen_kapitän = dublonen % piraten\n",
    "    print(\"Piraten:\", piraten)\n",
    "    print(\"Golddublonen:\", dublonen)\n",
    "    print(\"Jeder Pirat erhält:\", dublonen_pro_pirat, \"Golddublone(n)\")\n",
    "    print(\"Kapitän erhält extra:\", dublonen_kapitän, \"Golddublone(n)\")\n",
    "\n",
    "\n",
    "drucke_aufteilung_der_beute(17, 8)"
   ]
  },
  {
   "cell_type": "markdown",
   "id": "72fda2a5",
   "metadata": {
    "lang": "de"
   },
   "source": [
    "# Piraten, Teil 3\n",
    "\n",
    "Nachdem die Gefahr der Meuterei gebannt ist haben Sie Zeit sich um die\n",
    "Verbesserung Ihrer Software zu kümmern.\n",
    "\n",
    "Schreiben Sie eine Funktion `teile_beute_auf(dublonen, piraten)` die den\n",
    "Beuteanteil jedes Piraten und die Extra-Beute des Kapitäns als zwei Werte\n",
    "zurückgibt."
   ]
  },
  {
   "cell_type": "code",
   "execution_count": null,
   "id": "81a8f169",
   "metadata": {
    "tags": [
     "solution"
    ]
   },
   "outputs": [],
   "source": [
    "def teile_beute_auf(dublonen, piraten):\n",
    "    dublonen_pro_pirat = dublonen // piraten\n",
    "    dublonen_kapitän = dublonen % piraten\n",
    "    return dublonen_pro_pirat, dublonen_kapitän"
   ]
  },
  {
   "cell_type": "markdown",
   "id": "31270153",
   "metadata": {
    "lang": "de"
   },
   "source": [
    "\n",
    "Schreiben Sie eine verbesserte Version der Funktion\n",
    "`drucke_aufteilung_der_beute()`, die `teile_beute_auf()` als Hilfsfunktion\n",
    "verwendet."
   ]
  },
  {
   "cell_type": "code",
   "execution_count": null,
   "id": "3d9ca0be",
   "metadata": {
    "tags": [
     "solution"
    ]
   },
   "outputs": [],
   "source": [
    "def drucke_aufteilung_der_beute(dublonen, piraten):\n",
    "    dublonen_pro_pirat, dublonen_kapitän = teile_beute_auf(dublonen, piraten)\n",
    "    print(\"Piraten:\", piraten)\n",
    "    print(\"Golddublonen:\", dublonen)\n",
    "    print(\"Jeder Pirat erhält:\", dublonen_pro_pirat, \"Golddublone(n)\")\n",
    "    print(\"Kapitän erhält extra:\", dublonen_kapitän, \"Golddublone(n)\")\n",
    "\n",
    "\n",
    "drucke_aufteilung_der_beute(1000, 11)"
   ]
  }
 ],
 "metadata": {
  "jupytext": {
   "encoding": "# -*- coding: utf-8 -*-",
   "formats": "ipynb"
  },
  "kernelspec": {
   "display_name": "Python 3 (ipykernel)",
   "language": "python",
   "name": "python3"
  }
 },
 "nbformat": 4,
 "nbformat_minor": 5
}
