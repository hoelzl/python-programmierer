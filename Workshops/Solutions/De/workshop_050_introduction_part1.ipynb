{
 "cells": [
  {
   "cell_type": "markdown",
   "id": "64b3b015",
   "metadata": {
    "lang": "de"
   },
   "source": [
    "# Einleitung\n",
    "\n",
    "Wie können Sie den String `Hello, world!` in Python darstellen?"
   ]
  },
  {
   "cell_type": "code",
   "execution_count": null,
   "id": "98dc7c2a",
   "metadata": {
    "tags": [
     "solution"
    ]
   },
   "outputs": [],
   "source": [
    "\"Hello, world!\""
   ]
  },
  {
   "cell_type": "markdown",
   "id": "87f028fc",
   "metadata": {
    "lang": "de"
   },
   "source": [
    "Wie können Sie Ihren Namen als Text (String) in Python darstellen?"
   ]
  },
  {
   "cell_type": "code",
   "execution_count": null,
   "id": "fa6589cf",
   "metadata": {
    "tags": [
     "solution"
    ]
   },
   "outputs": [],
   "source": [
    "\"Matthias\""
   ]
  },
  {
   "cell_type": "markdown",
   "id": "6bbc7dfa",
   "metadata": {
    "lang": "de"
   },
   "source": [
    "Wie können Sie den String `Hello, World!` auf dem Bildschirm ausgeben?"
   ]
  },
  {
   "cell_type": "code",
   "execution_count": null,
   "id": "65937467",
   "metadata": {
    "tags": [
     "solution"
    ]
   },
   "outputs": [],
   "source": [
    "print(\"Hello, World!\")"
   ]
  },
  {
   "cell_type": "markdown",
   "id": "2f40bb56",
   "metadata": {
    "lang": "de"
   },
   "source": [
    "Wie können Sie Ihren Namen auf dem Bildschirm ausgeben?"
   ]
  },
  {
   "cell_type": "code",
   "execution_count": null,
   "id": "39ce18dd",
   "metadata": {
    "tags": [
     "solution"
    ]
   },
   "outputs": [],
   "source": [
    "print(\"Matthias\")"
   ]
  },
  {
   "cell_type": "markdown",
   "id": "ec4f9a55",
   "metadata": {
    "lang": "de"
   },
   "source": [
    "Wie können Sie\n",
    "\n",
    "```\n",
    "130 g   Mehl\n",
    "250 ml  Milch\n",
    "1 EL    Vanillezucker\n",
    "1 Prise Salz\n",
    "```\n",
    "\n",
    "auf dem Bildschirm ausgeben?"
   ]
  },
  {
   "cell_type": "code",
   "execution_count": null,
   "id": "80af42a5",
   "metadata": {
    "tags": [
     "solution"
    ]
   },
   "outputs": [],
   "source": [
    "print(\"130 g   Mehl\")\n",
    "print(\"250 ml  Milch\")\n",
    "print(\"1 EL    Vanillezucker\")\n",
    "print(\"1 Prise Salz\")"
   ]
  },
  {
   "cell_type": "code",
   "execution_count": null,
   "id": "7f98621e",
   "metadata": {
    "tags": [
     "solution"
    ]
   },
   "outputs": [],
   "source": [
    "# Alternativ:\n",
    "print(\n",
    "    \"\"\"130 g   Mehl\n",
    "250 ml  Milch\n",
    "1 EL    Vanillezucker\n",
    "1 Prise Salz\"\"\"\n",
    ")"
   ]
  },
  {
   "cell_type": "code",
   "execution_count": null,
   "id": "e6425e73",
   "metadata": {
    "tags": [
     "solution"
    ]
   },
   "outputs": [],
   "source": [
    "# Alternativ:\n",
    "# fmt: off\n",
    "print(\"130 g   Mehl\\n\"\n",
    "      \"250 ml  Milch\\n\"\n",
    "      \"1 EL    Vanillezucker\\n\"\n",
    "      \"1 Prise Salz\")\n",
    "# fmt: on"
   ]
  },
  {
   "cell_type": "markdown",
   "id": "2c43bc4f",
   "metadata": {
    "lang": "de"
   },
   "source": [
    "# Zahlen und Mathematik\n",
    "\n",
    "Wie können Sie die Zahl `32` in Python darstellen?"
   ]
  },
  {
   "cell_type": "code",
   "execution_count": null,
   "id": "4df69313",
   "metadata": {
    "tags": [
     "solution"
    ]
   },
   "outputs": [],
   "source": [
    "32"
   ]
  },
  {
   "cell_type": "markdown",
   "id": "69b8b292",
   "metadata": {
    "lang": "de"
   },
   "source": [
    "Wie können Sie den Datentyp von `14` in Python feststellen?"
   ]
  },
  {
   "cell_type": "code",
   "execution_count": null,
   "id": "3e78e337",
   "metadata": {
    "tags": [
     "solution"
    ]
   },
   "outputs": [],
   "source": [
    "type(14)"
   ]
  },
  {
   "cell_type": "markdown",
   "id": "5574f794",
   "metadata": {
    "lang": "de"
   },
   "source": [
    "Wie können Sie den Datentyp von `14.0` in Python feststellen?"
   ]
  },
  {
   "cell_type": "code",
   "execution_count": null,
   "id": "59966bc3",
   "metadata": {
    "tags": [
     "solution"
    ]
   },
   "outputs": [],
   "source": [
    "type(14.0)"
   ]
  },
  {
   "cell_type": "markdown",
   "id": "466a5f8f",
   "metadata": {
    "lang": "de"
   },
   "source": [
    "Wie können Sieden Datentyp von `'14'` in Python feststellen?"
   ]
  },
  {
   "cell_type": "code",
   "execution_count": null,
   "id": "0f9fcd7d",
   "metadata": {
    "tags": [
     "solution"
    ]
   },
   "outputs": [],
   "source": [
    "type(\"14\")"
   ]
  },
  {
   "cell_type": "markdown",
   "id": "8631ea88",
   "metadata": {
    "lang": "de"
   },
   "source": [
    "Was ist der Wert von `1 + 2 * 3`?"
   ]
  },
  {
   "cell_type": "code",
   "execution_count": null,
   "id": "3ca5060b",
   "metadata": {
    "tags": [
     "solution"
    ]
   },
   "outputs": [],
   "source": [
    "1 + 2 * 3"
   ]
  },
  {
   "cell_type": "markdown",
   "id": "f7b8bb1b",
   "metadata": {
    "lang": "de"
   },
   "source": [
    "Was ist der Datentyp von `1 + 2 * 3` in Python?"
   ]
  },
  {
   "cell_type": "code",
   "execution_count": null,
   "id": "fc29b864",
   "metadata": {
    "tags": [
     "solution"
    ]
   },
   "outputs": [],
   "source": [
    "type(1 + 2 * 3)"
   ]
  },
  {
   "cell_type": "markdown",
   "id": "75179d3c",
   "metadata": {
    "lang": "de"
   },
   "source": [
    "Was ist der Wert von `4 / 2` in Python?"
   ]
  },
  {
   "cell_type": "code",
   "execution_count": null,
   "id": "174d19f5",
   "metadata": {
    "tags": [
     "solution"
    ]
   },
   "outputs": [],
   "source": [
    "4 / 2"
   ]
  },
  {
   "cell_type": "markdown",
   "id": "f50af8d3",
   "metadata": {
    "lang": "de"
   },
   "source": [
    "Was ist der Datentyp von `4 / 2` in Python?"
   ]
  },
  {
   "cell_type": "code",
   "execution_count": null,
   "id": "1ee83f14",
   "metadata": {
    "tags": [
     "solution"
    ]
   },
   "outputs": [],
   "source": [
    "type(4 / 2)"
   ]
  },
  {
   "cell_type": "markdown",
   "id": "32b188d2",
   "metadata": {
    "lang": "de"
   },
   "source": [
    "Was sind Wert und Datentyp von `1 + 1.0` in Python? Können Sie den Datentyp\n",
    "ohne Verwendung von `type` feststellen?"
   ]
  },
  {
   "cell_type": "code",
   "execution_count": null,
   "id": "b39c27df",
   "metadata": {
    "tags": [
     "solution"
    ]
   },
   "outputs": [],
   "source": [
    "1 + 1.0  # Typ ist float, da Ausgabe Nachkommastellen hat"
   ]
  },
  {
   "cell_type": "markdown",
   "id": "03406784",
   "metadata": {
    "lang": "de"
   },
   "source": [
    "# Piraten\n",
    "\n",
    "Der Legende nach wurde die Beute bei Piratenbanden gerecht durch alle Piraten\n",
    "geteilt. Falls sich die Beute sich nicht gerecht aufteilen ließ erhielt der\n",
    "Kapitän den überschüssigen Anteil.\n",
    "\n",
    "Wie viele Golddublonen erhält jeder Pirat einer 8-köpfigen Bande\n",
    "(7 Piraten + 1 Kapitän), wenn ein Schatz mit 1000 Golddublonen erbeutet wurde?\n",
    "\n",
    "(Verwenden Sie Variablen um die Berechnung klarer zu machen.)"
   ]
  },
  {
   "cell_type": "code",
   "execution_count": null,
   "id": "c54e87dd",
   "metadata": {
    "tags": [
     "solution"
    ]
   },
   "outputs": [],
   "source": [
    "anzahl_piraten = 8\n",
    "beute_gesamt = 1000\n",
    "beute_pro_pirat = beute_gesamt // anzahl_piraten\n",
    "beute_pro_pirat"
   ]
  },
  {
   "cell_type": "markdown",
   "id": "a34187e8",
   "metadata": {
    "lang": "de"
   },
   "source": [
    "Wie viele Golddublonen erhält der Kapitän extra?"
   ]
  },
  {
   "cell_type": "code",
   "execution_count": null,
   "id": "baa7271f",
   "metadata": {
    "tags": [
     "solution"
    ]
   },
   "outputs": [],
   "source": [
    "# noinspection NonAsciiCharacters\n",
    "beute_kapitän = beute_gesamt % anzahl_piraten\n",
    "beute_kapitän"
   ]
  },
  {
   "cell_type": "markdown",
   "id": "e53fb53f",
   "metadata": {
    "lang": "de"
   },
   "source": [
    "Die Piratenbande nimmt 3 neue Piraten-Lehrlinge auf.\n",
    "\n",
    "Wie verändert sich die Aufteilung der Beute?\n",
    "\n",
    "(Verwenden Sie Zuweisungen an die existierenden Variablen um das Problem zu\n",
    "lösen.)"
   ]
  },
  {
   "cell_type": "code",
   "execution_count": null,
   "id": "dfa519df",
   "metadata": {
    "tags": [
     "solution"
    ]
   },
   "outputs": [],
   "source": [
    "# anzahl_piraten += 3 # anzahl_piraten = anzahl_piraten + 3\n",
    "anzahl_piraten = 11  # besser, falls die Zelle evtl. mehrmals ausgewertet wird\n",
    "beute_pro_pirat = beute_gesamt // anzahl_piraten\n",
    "beute_pro_pirat"
   ]
  },
  {
   "cell_type": "markdown",
   "id": "46397311",
   "metadata": {
    "lang": "de"
   },
   "source": [
    "Wie viele Golddublonen erhält der Kapitän in diesem Fall zusätzlich?"
   ]
  },
  {
   "cell_type": "code",
   "execution_count": null,
   "id": "a526aa5e",
   "metadata": {
    "tags": [
     "solution"
    ]
   },
   "outputs": [],
   "source": [
    "beute_kapitän = beute_gesamt % anzahl_piraten\n",
    "beute_kapitän"
   ]
  },
  {
   "cell_type": "markdown",
   "id": "568053d6",
   "metadata": {
    "lang": "de"
   },
   "source": [
    "# Spenden\n",
    "\n",
    "Bei einer Spendenaktion hat der Fernsehsender ZRD zugesagt, jede eingehende\n",
    "Spende zu verdoppeln. Der Regionalsender YB3 erhöht jede eingehende Spende\n",
    "um 10 Euro. (ZRD verdoppelt bevor die 10 Euro von YB3 hinzugefügt werden.)\n",
    "\n",
    "Schreiben Sie eine Python Funktion `effektive_spende(n)`, die berechnet,\n",
    "welcher Betrag effektiv gespendet wird, wenn ein Zuschauer $N$ Euro spendet."
   ]
  },
  {
   "cell_type": "code",
   "execution_count": null,
   "id": "a15f3f4e",
   "metadata": {
    "tags": [
     "solution"
    ]
   },
   "outputs": [],
   "source": [
    "def effektive_spende(spende):\n",
    "    return 2 * spende + 10"
   ]
  },
  {
   "cell_type": "markdown",
   "id": "4be35044",
   "metadata": {
    "lang": "de"
   },
   "source": [
    "Wie hoch ist die effektive Spende, wenn ein Zuschauer 20 Euro spendet?"
   ]
  },
  {
   "cell_type": "code",
   "execution_count": null,
   "id": "e086e2b2",
   "metadata": {
    "tags": [
     "solution"
    ]
   },
   "outputs": [],
   "source": [
    "effektive_spende(20)"
   ]
  },
  {
   "cell_type": "markdown",
   "id": "22e0fa38",
   "metadata": {
    "lang": "de"
   },
   "source": [
    "\n",
    "Geben Sie die effektiven Spenden für 25, 50, 100 und 500 Euro auf dem\n",
    "Bildschirm aus.\n",
    "\n",
    "*Hinweis:* Sie können Eingaben mit der `Tab`-Taste vervollständigen. Es\n",
    "genügt also, wenn Sie\n",
    "\n",
    "`pri`-*Tab* `eff`-*Tab*\n",
    "\n",
    "eingeben bevor Sie die Argumente eintippen."
   ]
  },
  {
   "cell_type": "code",
   "execution_count": null,
   "id": "24f51d0b",
   "metadata": {
    "tags": [
     "solution"
    ]
   },
   "outputs": [],
   "source": [
    "print(effektive_spende(10))\n",
    "print(effektive_spende(25))\n",
    "print(effektive_spende(50))\n",
    "print(effektive_spende(100))\n",
    "print(effektive_spende(500))\n",
    "print(effektive_spende(1000))"
   ]
  },
  {
   "cell_type": "markdown",
   "id": "2afd27bd",
   "metadata": {
    "lang": "de"
   },
   "source": [
    "# Piraten, Teil 2\n",
    "\n",
    "Ihre Piraten-Crew droht zu meutern, weil die Berechnung der Beuteaufteilung\n",
    "zu lange dauert.\n",
    "\n",
    "Schreiben Sie eine Funktion `drucke_aufteilung_der_beute(dublonen, piraten)`,\n",
    "die die Aufteilung berechnet und in folgendem Format ausgibt:\n",
    "\n",
    "```\n",
    "Piraten: 8\n",
    "Golddublonen: 17\n",
    "Jeder Pirat erhält: 2 Golddublone(n)\n",
    "Kapitän erhält extra: 1 Golddublone(n)\n",
    "```"
   ]
  },
  {
   "cell_type": "code",
   "execution_count": null,
   "id": "7022911a",
   "metadata": {
    "tags": [
     "solution"
    ]
   },
   "outputs": [],
   "source": [
    "def drucke_aufteilung_der_beute(dublonen, piraten):\n",
    "    dublonen_pro_pirat = dublonen // piraten\n",
    "    dublonen_kapitän = dublonen % piraten\n",
    "    print(\"Piraten:\", piraten)\n",
    "    print(\"Golddublonen:\", dublonen)\n",
    "    print(\"Jeder Pirat erhält:\", dublonen_pro_pirat, \"Golddublone(n)\")\n",
    "    print(\"Kapitän erhält extra:\", dublonen_kapitän, \"Golddublone(n)\")\n",
    "\n",
    "\n",
    "drucke_aufteilung_der_beute(17, 8)"
   ]
  },
  {
   "cell_type": "markdown",
   "id": "e569b4b2",
   "metadata": {
    "lang": "de"
   },
   "source": [
    "# Piraten, Teil 3\n",
    "\n",
    "Nachdem die Gefahr der Meuterei gebannt ist haben Sie Zeit sich um die\n",
    "Verbesserung Ihrer Software zu kümmern.\n",
    "\n",
    "Schreiben Sie eine Funktion `teile_beute_auf(dublonen, piraten)` die den\n",
    "Beuteanteil jedes Piraten und die Extra-Beute des Kapitäns als zwei Werte\n",
    "zurückgibt."
   ]
  },
  {
   "cell_type": "code",
   "execution_count": null,
   "id": "e2253a8c",
   "metadata": {
    "tags": [
     "solution"
    ]
   },
   "outputs": [],
   "source": [
    "def teile_beute_auf(dublonen, piraten):\n",
    "    dublonen_pro_pirat = dublonen // piraten\n",
    "    dublonen_kapitän = dublonen % piraten\n",
    "    return dublonen_pro_pirat, dublonen_kapitän"
   ]
  },
  {
   "cell_type": "markdown",
   "id": "64ea8f50",
   "metadata": {
    "lang": "de"
   },
   "source": [
    "\n",
    "Schreiben Sie eine verbesserte Version der Funktion\n",
    "`drucke_aufteilung_der_beute()`, die `teile_beute_auf()` als Hilfsfunktion\n",
    "verwendet."
   ]
  },
  {
   "cell_type": "code",
   "execution_count": null,
   "id": "1e4aae3a",
   "metadata": {
    "tags": [
     "solution"
    ]
   },
   "outputs": [],
   "source": [
    "def drucke_aufteilung_der_beute(dublonen, piraten):\n",
    "    dublonen_pro_pirat, dublonen_kapitän = teile_beute_auf(dublonen, piraten)\n",
    "    print(\"Piraten:\", piraten)\n",
    "    print(\"Golddublonen:\", dublonen)\n",
    "    print(\"Jeder Pirat erhält:\", dublonen_pro_pirat, \"Golddublone(n)\")\n",
    "    print(\"Kapitän erhält extra:\", dublonen_kapitän, \"Golddublone(n)\")\n",
    "\n",
    "\n",
    "drucke_aufteilung_der_beute(1000, 11)"
   ]
  }
 ],
 "metadata": {
  "jupytext": {
   "encoding": "# -*- coding: utf-8 -*-",
   "formats": "ipynb"
  },
  "kernelspec": {
   "display_name": "Python 3 (ipykernel)",
   "language": "python",
   "name": "python3"
  }
 },
 "nbformat": 4,
 "nbformat_minor": 5
}
