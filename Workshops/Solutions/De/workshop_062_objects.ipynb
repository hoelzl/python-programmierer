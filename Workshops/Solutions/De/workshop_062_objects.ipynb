{
 "cells": [
  {
   "cell_type": "markdown",
   "id": "5d9bd12b",
   "metadata": {
    "lang": "de"
   },
   "source": [
    "\n",
    "# Kraftfahrzeuge (Teil 1)\n",
    "\n",
    "Definieren Sie eine Klasse `Kfz`, deren Instanzen Kraftfahrzeuge beschreiben.\n",
    "Jedes KFZ soll Attribute `hersteller` und `kennzeichen` haben."
   ]
  },
  {
   "cell_type": "code",
   "execution_count": null,
   "id": "bc541da3",
   "metadata": {
    "tags": [
     "solution"
    ]
   },
   "outputs": [],
   "source": [
    "class Kfz:\n",
    "    def __init__(self, hersteller, kennzeichen):\n",
    "        self.hersteller = hersteller\n",
    "        self.kennzeichen = kennzeichen"
   ]
  },
  {
   "cell_type": "markdown",
   "id": "85683301",
   "metadata": {
    "lang": "de"
   },
   "source": [
    "\n",
    "Erzeugen Sie zwei Kraftfahrzeuge:\n",
    "- einen BMW mit Kennzeichen \"M-BW 123\"\n",
    "- einen VW mit Kennzeichen \"WOB-VW 246\"\n",
    "und speichern Sie sie in Variablen `bmw` und `vw`"
   ]
  },
  {
   "cell_type": "code",
   "execution_count": null,
   "id": "4abbf082",
   "metadata": {
    "tags": [
     "solution"
    ]
   },
   "outputs": [],
   "source": [
    "bmw = Kfz(\"BMW\", \"M-BW 123\")\n",
    "vw = Kfz(\"VW\", \"WOB-VW 246\")"
   ]
  },
  {
   "cell_type": "markdown",
   "id": "c37991af",
   "metadata": {
    "lang": "de"
   },
   "source": [
    "\n",
    "Erzeugen Sie eine neue Instanz von `Kfz` mit Hersteller BMW und Kennzeichen\n",
    "\"M-BW 123\" und speichern Sie sie in einer Variablen `bmw2`."
   ]
  },
  {
   "cell_type": "code",
   "execution_count": null,
   "id": "80d728a3",
   "metadata": {
    "tags": [
     "solution"
    ]
   },
   "outputs": [],
   "source": [
    "bmw2 = Kfz(\"BMW\", \"M-BW 123\")"
   ]
  },
  {
   "cell_type": "markdown",
   "id": "ca7a5fba",
   "metadata": {
    "lang": "de"
   },
   "source": [
    "\n",
    "Wie können Sie feststellen, ob `bmw` und `bmw2` (bzw. `bmw` und `vw`) das\n",
    "gleiche Fahrzeug beschreiben?"
   ]
  },
  {
   "cell_type": "code",
   "execution_count": null,
   "id": "f5a5e503",
   "metadata": {
    "tags": [
     "solution"
    ]
   },
   "outputs": [],
   "source": [
    "bmw.hersteller == bmw2.hersteller and bmw.kennzeichen == bmw2.kennzeichen"
   ]
  },
  {
   "cell_type": "code",
   "execution_count": null,
   "id": "4b2145da",
   "metadata": {
    "tags": [
     "solution"
    ]
   },
   "outputs": [],
   "source": [
    "bmw.hersteller == vw.hersteller and bmw.kennzeichen == vw.kennzeichen"
   ]
  },
  {
   "cell_type": "markdown",
   "id": "f5c2e7c7",
   "metadata": {
    "lang": "de"
   },
   "source": [
    "\n",
    "# Kraftfahrzeuge (Teil 2)\n",
    "\n",
    "Erweitern Sie die Klasse `Kfz` um eine Methode `melde_um(self,\n",
    "neues_kennzeichen)`, die das Kennzeichen des Fahrzeugs ändert."
   ]
  },
  {
   "cell_type": "code",
   "execution_count": null,
   "id": "e1d145d2",
   "metadata": {
    "tags": [
     "solution"
    ]
   },
   "outputs": [],
   "source": [
    "class Kfz:\n",
    "    def __init__(self, hersteller, kennzeichen):\n",
    "        self.hersteller = hersteller\n",
    "        self.kennzeichen = kennzeichen\n",
    "\n",
    "    def melde_um(self, neues_kennzeichen):\n",
    "        self.kennzeichen = neues_kennzeichen"
   ]
  },
  {
   "cell_type": "markdown",
   "id": "2fdfdffd",
   "metadata": {
    "lang": "de"
   },
   "source": [
    "\n",
    "Erzeugen Sie neue Instanzen von `bmw`, `bmw2` und `vw` wie in der obigen\n",
    "Aufgabe:"
   ]
  },
  {
   "cell_type": "code",
   "execution_count": null,
   "id": "7204316f",
   "metadata": {
    "tags": [
     "solution"
    ]
   },
   "outputs": [],
   "source": [
    "bmw = Kfz(\"BMW\", \"M-BW 123\")\n",
    "bmw2 = Kfz(\"BMW\", \"M-BW 123\")\n",
    "vw = Kfz(\"VW\", \"WOB-VW 246\")"
   ]
  },
  {
   "cell_type": "markdown",
   "id": "8e3af31e",
   "metadata": {
    "lang": "de"
   },
   "source": [
    "\n",
    "Melden Sie den obern erzeugten VW um, so dass er das neue Kennzeichen \"BGL-A\n",
    "9\" hat. Wie können Sie feststellen ob das Ummelden die gewünschte Änderung\n",
    "hatte?"
   ]
  },
  {
   "cell_type": "code",
   "execution_count": null,
   "id": "c1494be1",
   "metadata": {
    "tags": [
     "solution"
    ]
   },
   "outputs": [],
   "source": [
    "vw.melde_um(\"BGL-A 9\")"
   ]
  },
  {
   "cell_type": "code",
   "execution_count": null,
   "id": "bcb7c15d",
   "metadata": {
    "tags": [
     "solution"
    ]
   },
   "outputs": [],
   "source": [
    "# Z.B\n",
    "assert vw.kennzeichen == \"BGL-A 9\" and vw.hersteller == \"VW\"\n",
    "# Oder\n",
    "print(\"Hersteller:\", vw.hersteller, \"\\tKennzeichen:\", vw.kennzeichen)"
   ]
  },
  {
   "cell_type": "markdown",
   "id": "b9b25f32",
   "metadata": {
    "lang": "de"
   },
   "source": [
    "\n",
    "Melden Sie den in `bmw` gespeicherten BMW um (mit Kennzeichen \"F-B 21\"). Wirkt\n",
    "sich die Änderung auf das in `bmw2` gespeicherte KFZ aus?"
   ]
  },
  {
   "cell_type": "code",
   "execution_count": null,
   "id": "ccff5242",
   "metadata": {
    "lines_to_next_cell": 2,
    "tags": [
     "solution"
    ]
   },
   "outputs": [],
   "source": [
    "bmw.melde_um(\"F-B 21\")\n",
    "print(\"Hersteller:\", bmw.hersteller, \"\\tKennzeichen:\", bmw.kennzeichen)\n",
    "print(\"Hersteller:\", bmw2.hersteller, \"\\tKennzeichen:\", bmw2.kennzeichen)"
   ]
  },
  {
   "cell_type": "markdown",
   "id": "a14444d2",
   "metadata": {
    "lang": "de",
    "lines_to_next_cell": 2
   },
   "source": [
    "\n",
    "# Kraftfahrzeuge (Teil 3)\n",
    "\n",
    "Verbessern Sie die Klasse `Kfz` indem Sie Methoden implementieren, die\n",
    "ein KFZ in einer geeigneten Form ausgeben.  Führen Sie die obigen Beispiele\n",
    "mit der verbesserten Klasse aus."
   ]
  },
  {
   "cell_type": "code",
   "execution_count": null,
   "id": "d533d3e5",
   "metadata": {
    "tags": [
     "solution"
    ]
   },
   "outputs": [],
   "source": [
    "class Kfz:\n",
    "    def __init__(self, hersteller, kennzeichen):\n",
    "        self.hersteller = hersteller\n",
    "        self.kennzeichen = kennzeichen\n",
    "\n",
    "    def melde_um(self, neues_kennzeichen):\n",
    "        self.kennzeichen = neues_kennzeichen\n",
    "\n",
    "    def __repr__(self):\n",
    "        return f\"Kfz({self.hersteller!r}, {self.kennzeichen!r})\""
   ]
  },
  {
   "cell_type": "code",
   "execution_count": null,
   "id": "35924d04",
   "metadata": {},
   "outputs": [],
   "source": [
    "bmw = Kfz(\"BMW\", \"M-BW 123\")\n",
    "bmw"
   ]
  },
  {
   "cell_type": "code",
   "execution_count": null,
   "id": "110685e8",
   "metadata": {},
   "outputs": [],
   "source": [
    "bmw2 = Kfz(\"BMW\", \"M-BW 123\")\n",
    "bmw2"
   ]
  },
  {
   "cell_type": "code",
   "execution_count": null,
   "id": "276d4e38",
   "metadata": {},
   "outputs": [],
   "source": [
    "vw = Kfz(\"VW\", \"WOB-VW 246\")\n",
    "vw"
   ]
  },
  {
   "cell_type": "code",
   "execution_count": null,
   "id": "a0e681db",
   "metadata": {
    "tags": [
     "solution"
    ]
   },
   "outputs": [],
   "source": [
    "vw.melde_um(\"BGL-A 9\")\n",
    "vw"
   ]
  },
  {
   "cell_type": "code",
   "execution_count": null,
   "id": "1d00efc2",
   "metadata": {
    "tags": [
     "solution"
    ]
   },
   "outputs": [],
   "source": [
    "assert vw.kennzeichen == \"BGL-A 9\" and vw.hersteller == \"VW\""
   ]
  },
  {
   "cell_type": "code",
   "execution_count": null,
   "id": "d55cf8d1",
   "metadata": {
    "tags": [
     "solution"
    ]
   },
   "outputs": [],
   "source": [
    "bmw.melde_um(\"F-B 21\")\n",
    "bmw"
   ]
  },
  {
   "cell_type": "code",
   "execution_count": null,
   "id": "09200d1a",
   "metadata": {},
   "outputs": [],
   "source": [
    "bmw2"
   ]
  },
  {
   "cell_type": "markdown",
   "id": "5b45470d",
   "metadata": {
    "lang": "de"
   },
   "source": [
    "# Einkaufsliste\n",
    "\n",
    "In dieser Aufgabe wollen wir eine  Einkaufsliste definieren, die geplante\n",
    "Einkäufe verwalten kann. Eine Einkaufsliste soll aus Einträgen bestehen, die\n",
    "ein Produkt und die davon benötigte Menge enthalten.\n",
    "\n",
    "Es sollen sowohl die Einkaufsliste selber als auch die Einträge durch\n",
    "benutzerdefinierte Datentypen repräsentiert werden.\n",
    "\n",
    "Definieren Sie zunächst eine Klasse `Item`, die Attribute `product` und\n",
    "`amount` hat. Verwenden Sie dazu den `@dataclass` Decorator"
   ]
  },
  {
   "cell_type": "code",
   "execution_count": null,
   "id": "623ce405",
   "metadata": {
    "tags": [
     "solution"
    ]
   },
   "outputs": [],
   "source": [
    "from dataclasses import dataclass\n",
    "\n",
    "\n",
    "@dataclass\n",
    "class Item:\n",
    "    product: str\n",
    "    amount: str = \"1 Stück\""
   ]
  },
  {
   "cell_type": "markdown",
   "id": "7493bcf1",
   "metadata": {
    "lang": "de"
   },
   "source": [
    "Erzeugen sie ein Item, das 500g Kaffee repräsentiert:"
   ]
  },
  {
   "cell_type": "code",
   "execution_count": null,
   "id": "3b7ba5f7",
   "metadata": {
    "tags": [
     "solution"
    ]
   },
   "outputs": [],
   "source": [
    "Item(\"Kaffee\", \"500g\")"
   ]
  },
  {
   "cell_type": "markdown",
   "id": "e60cda2c",
   "metadata": {
    "lang": "de"
   },
   "source": [
    "\n",
    "Definieren Sie eine Klasse `ShoppingList`, die eine Liste von `Item`-Instanzen\n",
    "beinhaltet:\n",
    "\n",
    "- Verwenden Sie den `@dataclass` Decorator\n",
    "- Die Klasse hat ein Attribut `items` vom Typ `list` (oder `list[Item]`, falls\n",
    "  Sie Python 3.9 oder neuer verwenden), das mit einer leeren Liste\n",
    "  Initialisiert wird.\n",
    "- Die Methode `add_item(self, item: Item)` fügt ein `Item` zur Einkaufsliste\n",
    "  hinzu.\n",
    "\n",
    "Implementieren Sie eine\n",
    "[`__str__()`-Methode](https://docs.python.org/3/reference/datamodel.html#object.__str__),\n",
    "so dass das folgende Programm:\n",
    "\n",
    "```python\n",
    "meine_einkaufsliste = ShoppingList([Item('Tee', '2 Pakete'),\n",
    "                                    Item('Kaffee', '1 Paket')])\n",
    "print(str(meine_einkaufsliste))\n",
    "print(repr(meine_einkaufsliste))\n",
    "```\n",
    "\n",
    "Folgende Ausgabe erzeugt:\n",
    "\n",
    "```\n",
    "Einkaufsliste\n",
    "  Tee, (2 Pakete)\n",
    "  Kaffee, (1 Paket)\n",
    "\n",
    "ShoppingList(items=[Item(product='Tee', amount='2 Pakete'), Item(product='Kaffee', amount='1 Paket')])\n",
    "```\n",
    "\n",
    "Implementieren Sie eine Methode für `__len__()`, die die Länge der\n",
    "Einkaufsliste zurückgibt, und für `__getitem__()`, die den Zugriff auf\n",
    "Einträge über ihren numerischen Index erlaubt."
   ]
  },
  {
   "cell_type": "code",
   "execution_count": null,
   "id": "c7eb3605",
   "metadata": {
    "tags": [
     "solution"
    ]
   },
   "outputs": [],
   "source": [
    "from dataclasses import field\n",
    "\n",
    "\n",
    "@dataclass\n",
    "class ShoppingList:\n",
    "    items: list[Item] = field(default_factory=list)\n",
    "\n",
    "    def __str__(self):\n",
    "        result = \"Einkaufsliste\\n\"\n",
    "        for item in self.items:\n",
    "            result += f\"  {item.product}, ({item.amount})\\n\"\n",
    "        return result\n",
    "\n",
    "    def __len__(self):\n",
    "        return len(self.items)\n",
    "\n",
    "    def __getitem__(self, n):\n",
    "        return self.items[n]\n",
    "\n",
    "    def add_item(self, item):\n",
    "        self.items.append(item)"
   ]
  },
  {
   "cell_type": "markdown",
   "id": "660d0c48",
   "metadata": {
    "lang": "de"
   },
   "source": [
    "\n",
    "Definieren Sie Variable `meine_einkaufsliste`, die eine Einkaufsliste mit\n",
    "folgenden Items repräsentiert:\n",
    "- 2 Pakete Tee,\n",
    "- 1 Paket Kaffee"
   ]
  },
  {
   "cell_type": "code",
   "execution_count": null,
   "id": "b4b90f17",
   "metadata": {
    "tags": [
     "solution"
    ]
   },
   "outputs": [],
   "source": [
    "meine_einkaufsliste = ShoppingList([Item(\"Tee\", \"2 Pakete\"), Item(\"Kaffee\", \"1 Paket\")])\n",
    "print(str(meine_einkaufsliste))\n",
    "print(repr(meine_einkaufsliste))"
   ]
  },
  {
   "cell_type": "markdown",
   "id": "e26dd134",
   "metadata": {
    "lang": "de"
   },
   "source": [
    "\n",
    "Drucken Sie `meine_einkaufsliste` aus."
   ]
  },
  {
   "cell_type": "code",
   "execution_count": null,
   "id": "dfa74310",
   "metadata": {
    "tags": [
     "solution"
    ]
   },
   "outputs": [],
   "source": [
    "print(meine_einkaufsliste)"
   ]
  },
  {
   "cell_type": "markdown",
   "id": "923151ed",
   "metadata": {
    "lang": "de"
   },
   "source": [
    "\n",
    "Stellen Sie fest, wie lange `meine_einkaufsliste` ist und was ihr erstes und zweites Elemnt sind:"
   ]
  },
  {
   "cell_type": "code",
   "execution_count": null,
   "id": "a897fe66",
   "metadata": {
    "tags": [
     "solution"
    ]
   },
   "outputs": [],
   "source": [
    "print(len(meine_einkaufsliste))\n",
    "print(meine_einkaufsliste[0])\n",
    "print(meine_einkaufsliste[1])"
   ]
  },
  {
   "cell_type": "markdown",
   "id": "a70fdab2",
   "metadata": {
    "lang": "de"
   },
   "source": [
    "\n",
    "Was ist der Effekt des follgenden Ausdrucks?\n",
    "```python\n",
    "  for item in meine_einkaufsliste:\n",
    "      print(item)\n",
    "```"
   ]
  },
  {
   "cell_type": "code",
   "execution_count": null,
   "id": "da1b50f4",
   "metadata": {
    "tags": [
     "solution"
    ]
   },
   "outputs": [],
   "source": [
    "for item in meine_einkaufsliste:\n",
    "    print(item)"
   ]
  },
  {
   "cell_type": "markdown",
   "id": "5a0e8c59",
   "metadata": {
    "lang": "de"
   },
   "source": [
    "\n",
    "Fügen Sie  250 g Butter und  1 Laib Brot zur Einkaufsliste\n",
    "`meine_einkaufsliste` hinzu."
   ]
  },
  {
   "cell_type": "code",
   "execution_count": null,
   "id": "9e8bf9d9",
   "metadata": {
    "tags": [
     "solution"
    ]
   },
   "outputs": [],
   "source": [
    "meine_einkaufsliste.add_item(Item(\"Butter\", \"250g\"))\n",
    "meine_einkaufsliste.add_item(Item(\"Brot\", \"1 Laib\"))\n",
    "meine_einkaufsliste"
   ]
  },
  {
   "cell_type": "markdown",
   "id": "211c5a9a",
   "metadata": {
    "lang": "de"
   },
   "source": [
    "Drucken Sie die Einkaufsliste nochmal aus."
   ]
  },
  {
   "cell_type": "code",
   "execution_count": null,
   "id": "d288f5bb",
   "metadata": {
    "tags": [
     "solution"
    ]
   },
   "outputs": [],
   "source": [
    "print(meine_einkaufsliste)"
   ]
  },
  {
   "cell_type": "markdown",
   "id": "acc3711d",
   "metadata": {
    "lang": "de"
   },
   "source": [
    "\n",
    "Was passiert, wenn Sie `Butter` und `Brot` nochmals zur Einkaufsliste\n",
    "`meine_einkaufsliste` hinzufügen?"
   ]
  },
  {
   "cell_type": "code",
   "execution_count": null,
   "id": "8224e295",
   "metadata": {
    "tags": [
     "solution"
    ]
   },
   "outputs": [],
   "source": [
    "meine_einkaufsliste.add_item(Item(\"Butter\", \"250g\"))\n",
    "meine_einkaufsliste.add_item(Item(\"Brot\", \"1 Laib\"))\n",
    "print(meine_einkaufsliste)"
   ]
  },
  {
   "cell_type": "code",
   "execution_count": null,
   "id": "46a12b73",
   "metadata": {},
   "outputs": [],
   "source": []
  }
 ],
 "metadata": {
  "jupytext": {
   "encoding": "# -*- coding: utf-8 -*-",
   "formats": "ipynb"
  },
  "kernelspec": {
   "display_name": "Python 3 (ipykernel)",
   "language": "python",
   "name": "python3"
  }
 },
 "nbformat": 4,
 "nbformat_minor": 5
}
