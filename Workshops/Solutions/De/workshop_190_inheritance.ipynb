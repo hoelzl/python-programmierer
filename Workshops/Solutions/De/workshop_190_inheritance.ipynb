{
 "cells": [
  {
   "cell_type": "markdown",
   "id": "8b97c575",
   "metadata": {
    "lang": "de"
   },
   "source": [
    "# Vererbung\n",
    "\n",
    "Im Folgenden soll eine Klassenhierarchie für Mitarbeiter einer Firma erstellt\n",
    "werden:\n",
    "\n",
    "- Mitarbeiter können entweder Arbeiter oder Manager sein\n",
    "- Jeder Mitarbeiter der Firma hat einen Namen, eine Personalnummer und ein\n",
    "  Grundgehalt\n",
    "- Für jeden Arbeiter werden die angefallenen Überstunden und der Stundenlohn\n",
    "  gespeichert.\n",
    "- Das Gehalt eines Arbeiters berechnet sich als das 13/12-fache des\n",
    "  Grundgehalts plus der Bezahlung für die Überstunden\n",
    "- Jeder Manager hat einen individuellen Bonus\n",
    "- Das Gehalt eines Managers berechnet sich als das 13/12-fache des\n",
    "  Grundgehalts plus Bonus\n",
    "\n",
    "Implementieren Sie Python Klassen `Mitarbeiter`, `Arbeiter` und `Manager` mit\n",
    "geeigneten Attributen und einer Methode `gehalt()`, die das Gehalt berechnet.\n"
   ]
  },
  {
   "cell_type": "code",
   "execution_count": null,
   "id": "965076bd",
   "metadata": {
    "lines_to_next_cell": 1,
    "tags": [
     "solution"
    ]
   },
   "outputs": [],
   "source": [
    "from dataclasses import dataclass"
   ]
  },
  {
   "cell_type": "code",
   "execution_count": null,
   "id": "00c009fe",
   "metadata": {
    "tags": [
     "solution"
    ]
   },
   "outputs": [],
   "source": [
    "@dataclass\n",
    "class Mitarbeiter:\n",
    "    name: str\n",
    "    pers_nr: str\n",
    "    grundgehalt: float\n",
    "\n",
    "    @property\n",
    "    def gehalt(self):\n",
    "        return 13 / 12 * self.grundgehalt"
   ]
  },
  {
   "cell_type": "code",
   "execution_count": null,
   "id": "b6277c25",
   "metadata": {
    "tags": [
     "solution"
    ]
   },
   "outputs": [],
   "source": [
    "@dataclass\n",
    "class Arbeiter(Mitarbeiter):\n",
    "    überstunden: float = 0.0\n",
    "    stundensatz: float = 0.0\n",
    "\n",
    "    @property\n",
    "    def gehalt(self):\n",
    "        return super().gehalt + self.überstunden * self.stundensatz"
   ]
  },
  {
   "cell_type": "code",
   "execution_count": null,
   "id": "066cc524",
   "metadata": {
    "tags": [
     "solution"
    ]
   },
   "outputs": [],
   "source": [
    "@dataclass\n",
    "class Manager(Mitarbeiter):\n",
    "    bonus: float\n",
    "\n",
    "    @property\n",
    "    def gehalt(self):\n",
    "        return super().gehalt + self.bonus"
   ]
  },
  {
   "cell_type": "markdown",
   "id": "5dac4a47",
   "metadata": {
    "lang": "de"
   },
   "source": [
    "\n",
    "Erzeugen Sie einen Arbeiter mit Namen Hans, Personalnummer 123, einem\n",
    "Grundgehalt von  36000.0 Euro, der 3.5 Überstunden zu je 40.0 Euro gearbeit\n",
    "hat. Drucken Sie das Gehalt aus."
   ]
  },
  {
   "cell_type": "code",
   "execution_count": null,
   "id": "9e63345c",
   "metadata": {
    "tags": [
     "solution"
    ]
   },
   "outputs": [],
   "source": [
    "a = Arbeiter(\"Hans\", \"123\", 36_000, 3.5, 40.0)\n",
    "print(a.gehalt)\n",
    "a"
   ]
  },
  {
   "cell_type": "markdown",
   "id": "9caf46b0",
   "metadata": {
    "lang": "de"
   },
   "source": [
    "Schreiben sie Assertions, die die Funktionalität der Klasse `Arbeiter` testen."
   ]
  },
  {
   "cell_type": "code",
   "execution_count": null,
   "id": "5acc88e9",
   "metadata": {},
   "outputs": [],
   "source": [
    "# Diese Assertions sind überflüssig! /  These assertions are superfluous!\n",
    "assert a.name == \"Hans\"\n",
    "assert a.pers_nr == \"123\"\n",
    "assert a.grundgehalt == 36_000\n",
    "assert a.überstunden == 3.5\n",
    "assert a.stundensatz == 40.0\n",
    "\n",
    "# Diese Assertion sollte vorhanden sein / This is the assertion that should be present\n",
    "assert a.gehalt == 39_140.0"
   ]
  },
  {
   "cell_type": "markdown",
   "id": "cb4776c7",
   "metadata": {
    "lang": "de"
   },
   "source": [
    "\n",
    "Erzeugen Sie einen Manager mit Namen Sepp, Personalnummer 666, der ein\n",
    "Grundgehalt von 60000.0 Euro und einen Bonus von 30000.0 Euro hat. Drucken Sie\n",
    "das Gehalt aus."
   ]
  },
  {
   "cell_type": "code",
   "execution_count": null,
   "id": "30bbba92",
   "metadata": {
    "tags": [
     "solution"
    ]
   },
   "outputs": [],
   "source": [
    "m = Manager(\"Sepp\", \"666\", 60_000.0, 30_000.0)\n",
    "print(m.gehalt)\n",
    "m"
   ]
  },
  {
   "cell_type": "markdown",
   "id": "51421e7c",
   "metadata": {
    "lang": "de"
   },
   "source": [
    "Testen Sie die Funktionalität der `Manager` Klasse."
   ]
  },
  {
   "cell_type": "code",
   "execution_count": null,
   "id": "2705c4e5",
   "metadata": {},
   "outputs": [],
   "source": [
    "assert m.gehalt == 95_000.0"
   ]
  },
  {
   "cell_type": "markdown",
   "id": "b2ab0031",
   "metadata": {
    "lang": "de"
   },
   "source": [
    "## Lösung ohne Dataclasses:"
   ]
  },
  {
   "cell_type": "code",
   "execution_count": null,
   "id": "1efdb27c",
   "metadata": {
    "tags": [
     "solution"
    ]
   },
   "outputs": [],
   "source": [
    "class Mitarbeiter:\n",
    "    def __init__(self, name, pers_nr, grundgehalt):\n",
    "        self.name = name\n",
    "        self.pers_nr = pers_nr\n",
    "        self.grundgehalt = grundgehalt\n",
    "\n",
    "    @property\n",
    "    def gehalt(self):\n",
    "        return 13 / 12 * self.grundgehalt"
   ]
  },
  {
   "cell_type": "code",
   "execution_count": null,
   "id": "f3f357bc",
   "metadata": {
    "tags": [
     "solution"
    ]
   },
   "outputs": [],
   "source": [
    "class Arbeiter(Mitarbeiter):\n",
    "    def __init__(self, name, pers_nr, grundgehalt, überstunden, stundensatz):\n",
    "        super().__init__(name, pers_nr, grundgehalt)\n",
    "        self.überstunden = überstunden\n",
    "        self.stundensatz = stundensatz\n",
    "\n",
    "    def __repr__(self):\n",
    "        return (\n",
    "            f\"Arbeiter({self.name!r}, {self.pers_nr!r}, {self.grundgehalt}, \"\n",
    "            f\"{self.überstunden}, {self.stundensatz})\"\n",
    "        )\n",
    "\n",
    "    @property\n",
    "    def gehalt(self):\n",
    "        return super().gehalt + self.überstunden * self.stundensatz"
   ]
  },
  {
   "cell_type": "code",
   "execution_count": null,
   "id": "6728e6eb",
   "metadata": {
    "tags": [
     "solution"
    ]
   },
   "outputs": [],
   "source": [
    "class Manager(Mitarbeiter):\n",
    "    def __init__(self, name, pers_nr, grundgehalt, bonus):\n",
    "        super().__init__(name, pers_nr, grundgehalt)\n",
    "        self.bonus = bonus\n",
    "\n",
    "    def __repr__(self):\n",
    "        return (\n",
    "            f\"Manager({self.name!r}, {self.pers_nr!r}, {self.grundgehalt}, \"\n",
    "            f\"{self.bonus})\"\n",
    "        )\n",
    "\n",
    "    @property\n",
    "    def gehalt(self):\n",
    "        return super().gehalt + self.bonus"
   ]
  },
  {
   "cell_type": "code",
   "execution_count": null,
   "id": "1e9f5e31",
   "metadata": {
    "tags": [
     "solution"
    ]
   },
   "outputs": [],
   "source": [
    "a = Arbeiter(\"Hans\", 123, 36_000, 3, 40)\n",
    "print(a.gehalt)\n",
    "a"
   ]
  },
  {
   "cell_type": "code",
   "execution_count": null,
   "id": "3855f1c1",
   "metadata": {
    "lines_to_next_cell": 2,
    "tags": [
     "solution"
    ]
   },
   "outputs": [],
   "source": [
    "m = Manager(\"Sepp\", 666, 60_000, 30_000)\n",
    "print(m.gehalt)\n",
    "m"
   ]
  },
  {
   "cell_type": "markdown",
   "id": "241eaaa5",
   "metadata": {
    "lang": "de"
   },
   "source": [
    "\n",
    "# Bank Account\n",
    "\n",
    "Definieren Sie eine Klasse `BankAccount` mit einem Attribut `balance: float`\n",
    "und Methoden `deposit(amount: float)` und `withdraw(amount: float)`.\n",
    "\n",
    "*Hinweis: Für eine realistischere Implementierung sollte `decimal.Decimal`\n",
    "statt `float` verwendet werden.*\n",
    "\n",
    "Die Klasse soll in folgenden Fällen eine Exception vom Typ `ValueError`\n",
    "auslösen:\n",
    "\n",
    "- Wenn ein neuer `BankAccount` mit negativer `balance` angelegt werden soll.\n",
    "- Wenn `deposit` mit einem negativen Wert aufgerufen wird.\n",
    "- Wenn `withdraw` mit einem negativen Wert aufgerufen wird oder durch das\n",
    "  Abheben des Betrags die `balance` des Kontos negativ werden würde."
   ]
  },
  {
   "cell_type": "code",
   "execution_count": null,
   "id": "d02725a9",
   "metadata": {
    "tags": [
     "solution"
    ]
   },
   "outputs": [],
   "source": [
    "from dataclasses import dataclass\n",
    "\n",
    "\n",
    "@dataclass\n",
    "class BankAccount:\n",
    "    balance: float\n",
    "\n",
    "    def __post_init__(self):\n",
    "        if self.balance < 0:\n",
    "            raise ValueError(\n",
    "                f\"Cannot create an account with negative balance: {self.balance}.\"\n",
    "            )\n",
    "\n",
    "    def deposit(self, amount: float):\n",
    "        if amount > 0:\n",
    "            self.balance += amount\n",
    "        else:\n",
    "            raise ValueError(f\"Cannot deposit a negative amount: {amount}\")\n",
    "\n",
    "    def withdraw(self, amount: float):\n",
    "        if amount > 0:\n",
    "            if amount <= self.balance:\n",
    "                self.balance -= amount\n",
    "            else:\n",
    "                raise ValueError(\n",
    "                    f\"Cannot withdraw {amount} because it exceeds \"\n",
    "                    f\"the current balance of {self.balance}.\"\n",
    "                )\n",
    "        else:\n",
    "            raise ValueError(f\"Cannot withdraw a negative amount: {amount}\")"
   ]
  },
  {
   "cell_type": "markdown",
   "id": "0ade9b50",
   "metadata": {
    "lang": "de"
   },
   "source": [
    "\n",
    "Testen Sie die Funktionalität der Klasse sowohl für erfolgreiche\n",
    "Transaktionen, als auch für Transaktionen, die Exceptions auslösen."
   ]
  },
  {
   "cell_type": "code",
   "execution_count": null,
   "id": "300a8d31",
   "metadata": {
    "tags": [
     "solution"
    ]
   },
   "outputs": [],
   "source": [
    "BankAccount(100.0)"
   ]
  },
  {
   "cell_type": "code",
   "execution_count": null,
   "id": "0f249053",
   "metadata": {
    "tags": [
     "solution"
    ]
   },
   "outputs": [],
   "source": [
    "try:\n",
    "    BankAccount(-100)\n",
    "except ValueError as err:\n",
    "    print(\"ERROR:\", err)"
   ]
  },
  {
   "cell_type": "code",
   "execution_count": null,
   "id": "851923a0",
   "metadata": {
    "tags": [
     "solution"
    ]
   },
   "outputs": [],
   "source": [
    "b = BankAccount(100.0)\n",
    "b"
   ]
  },
  {
   "cell_type": "code",
   "execution_count": null,
   "id": "e6a7452d",
   "metadata": {
    "tags": [
     "solution"
    ]
   },
   "outputs": [],
   "source": [
    "b.deposit(200.0)\n",
    "b"
   ]
  },
  {
   "cell_type": "code",
   "execution_count": null,
   "id": "68781449",
   "metadata": {
    "tags": [
     "solution"
    ]
   },
   "outputs": [],
   "source": [
    "try:\n",
    "    b.deposit(-100.0)\n",
    "except ValueError as err:\n",
    "    print(\"ERROR:\", err)"
   ]
  },
  {
   "cell_type": "code",
   "execution_count": null,
   "id": "43def32e",
   "metadata": {
    "tags": [
     "solution"
    ]
   },
   "outputs": [],
   "source": [
    "b.withdraw(50.0)\n",
    "b"
   ]
  },
  {
   "cell_type": "code",
   "execution_count": null,
   "id": "bf87ae67",
   "metadata": {
    "tags": [
     "solution"
    ]
   },
   "outputs": [],
   "source": [
    "try:\n",
    "    b.withdraw(-200.0)\n",
    "except ValueError as err:\n",
    "    print(\"ERROR:\", err)"
   ]
  },
  {
   "cell_type": "code",
   "execution_count": null,
   "id": "fd653d56",
   "metadata": {
    "tags": [
     "solution"
    ]
   },
   "outputs": [],
   "source": [
    "try:\n",
    "    b.withdraw(1000.0)\n",
    "except ValueError as err:\n",
    "    print(\"ERROR:\", err)"
   ]
  },
  {
   "cell_type": "markdown",
   "id": "385dca3e",
   "metadata": {
    "lang": "de"
   },
   "source": [
    "\n",
    " # Lesen und Schreiben in Dateien\n",
    "\n",
    "Schreiben Sie eine Funktion `write_text_to_file(text: str, file_name: str) ->\n",
    "None`, die den String `text` in die Datei `file_name` schreibt, sofern diese\n",
    "*nicht* existiert und eine Exception vom Typ `FileExistsError` wirft, falls\n",
    "die Datei existiert.\n",
    "\n",
    "*Hinweis:*  Beachten Sie die möglichen Werte für das `mode` Argument von\n",
    "`open()`."
   ]
  },
  {
   "cell_type": "code",
   "execution_count": null,
   "id": "73cc573e",
   "metadata": {
    "tags": [
     "solution"
    ]
   },
   "outputs": [],
   "source": [
    "def write_text_to_file(text, file_name):\n",
    "    with open(file_name, \"x\") as file:\n",
    "        file.write(text)"
   ]
  },
  {
   "cell_type": "markdown",
   "id": "008baf77",
   "metadata": {
    "lang": "de"
   },
   "source": [
    "\n",
    "Testen Sie die Funktion, indem Sie zweimal hintereinander versuchen den Text\n",
    "`Python 3.8` in die Datei `my-private-file.txt` zu schreiben."
   ]
  },
  {
   "cell_type": "code",
   "execution_count": null,
   "id": "74362a86",
   "metadata": {
    "tags": [
     "solution"
    ]
   },
   "outputs": [],
   "source": [
    "write_text_to_file(\"Python 3.8\", \"my_private_file.txt\")"
   ]
  },
  {
   "cell_type": "code",
   "execution_count": null,
   "id": "90f1c674",
   "metadata": {
    "lines_to_next_cell": 2,
    "tags": [
     "solution"
    ]
   },
   "outputs": [],
   "source": [
    "# write_text_to_file('Python 3.8', 'my_private_file.txt')"
   ]
  },
  {
   "cell_type": "markdown",
   "id": "4c8b49e8",
   "metadata": {
    "lang": "de"
   },
   "source": [
    "\n",
    " Schreiben Sie eine Funktion `annotate_file(file_name: str) -> None`, die\n",
    "- den Inhalt der Datei `file_name` gefolgt von dem Text `(annotated version)`\n",
    "  auf dem Bildschirm ausgibt, falls sie existiert\n",
    "- den Text `No file found, we will bill the time we spent searching.` ausgibt\n",
    "  falls sie nicht existiert\n",
    "- in beiden Fällen den Text `Our invoice will be sent by mail.` ausgibt."
   ]
  },
  {
   "cell_type": "code",
   "execution_count": null,
   "id": "262c009a",
   "metadata": {
    "tags": [
     "solution"
    ]
   },
   "outputs": [],
   "source": [
    "def annotate_file(file_name):\n",
    "    try:\n",
    "        with open(file_name, \"r\") as file:\n",
    "            print(file.read())\n",
    "            print(\"(annotated version)\")\n",
    "    except FileNotFoundError:\n",
    "        print(\"No file found, we will bill the time we spent searching.\")\n",
    "    finally:\n",
    "        print(\"Our invoice will be sent by mail.\")"
   ]
  },
  {
   "cell_type": "code",
   "execution_count": null,
   "id": "fb03fa86",
   "metadata": {
    "tags": [
     "solution"
    ]
   },
   "outputs": [],
   "source": [
    "annotate_file(\"my_private_file.txt\")"
   ]
  },
  {
   "cell_type": "code",
   "execution_count": null,
   "id": "05ab139a",
   "metadata": {
    "lines_to_next_cell": 2,
    "tags": [
     "solution"
    ]
   },
   "outputs": [],
   "source": [
    "annotate_file(\"does-not-exist.txt\")"
   ]
  },
  {
   "cell_type": "code",
   "execution_count": null,
   "id": "f4a5f99d",
   "metadata": {},
   "outputs": [],
   "source": []
  }
 ],
 "metadata": {
  "jupytext": {
   "encoding": "# -*- coding: utf-8 -*-",
   "formats": "ipynb"
  },
  "kernelspec": {
   "display_name": "Python 3 (ipykernel)",
   "language": "python",
   "name": "python3"
  }
 },
 "nbformat": 4,
 "nbformat_minor": 5
}
