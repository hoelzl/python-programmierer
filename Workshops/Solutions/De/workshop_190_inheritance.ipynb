{
 "cells": [
  {
   "cell_type": "markdown",
   "id": "0a94287b",
   "metadata": {
    "lang": "de"
   },
   "source": [
    "# Vererbung\n",
    "\n",
    "Im Folgenden soll eine Klassenhierarchie für Mitarbeiter einer Firma erstellt\n",
    "werden:\n",
    "\n",
    "- Mitarbeiter können entweder Arbeiter oder Manager sein\n",
    "- Jeder Mitarbeiter der Firma hat einen Namen, eine Personalnummer und ein\n",
    "  Grundgehalt\n",
    "- Für jeden Arbeiter werden die angefallenen Überstunden und der Stundenlohn\n",
    "  gespeichert.\n",
    "- Das Gehalt eines Arbeiters berechnet sich als das 13/12-fache des\n",
    "  Grundgehalts plus der Bezahlung für die Überstunden\n",
    "- Jeder Manager hat einen individuellen Bonus\n",
    "- Das Gehalt eines Managers berechnet sich als das 13/12-fache des\n",
    "  Grundgehalts plus Bonus\n",
    "\n",
    "Implementieren Sie Python Klassen `Mitarbeiter`, `Arbeiter` und `Manager` mit\n",
    "geeigneten Attributen und einer Methode `gehalt()`, die das Gehalt berechnet.\n"
   ]
  },
  {
   "cell_type": "code",
   "execution_count": null,
   "id": "bb5a3897",
   "metadata": {
    "lines_to_next_cell": 1,
    "tags": [
     "solution"
    ]
   },
   "outputs": [],
   "source": [
    "from dataclasses import dataclass"
   ]
  },
  {
   "cell_type": "code",
   "execution_count": null,
   "id": "afdd20fe",
   "metadata": {
    "tags": [
     "solution"
    ]
   },
   "outputs": [],
   "source": [
    "@dataclass\n",
    "class Mitarbeiter:\n",
    "    name: str\n",
    "    pers_nr: str\n",
    "    grundgehalt: float\n",
    "\n",
    "    @property\n",
    "    def gehalt(self):\n",
    "        return 13 / 12 * self.grundgehalt"
   ]
  },
  {
   "cell_type": "code",
   "execution_count": null,
   "id": "98053fb2",
   "metadata": {
    "tags": [
     "solution"
    ]
   },
   "outputs": [],
   "source": [
    "@dataclass\n",
    "class Arbeiter(Mitarbeiter):\n",
    "    überstunden: float = 0.0\n",
    "    stundensatz: float = 0.0\n",
    "\n",
    "    @property\n",
    "    def gehalt(self):\n",
    "        return super().gehalt + self.überstunden * self.stundensatz"
   ]
  },
  {
   "cell_type": "code",
   "execution_count": null,
   "id": "a137baba",
   "metadata": {
    "tags": [
     "solution"
    ]
   },
   "outputs": [],
   "source": [
    "@dataclass\n",
    "class Manager(Mitarbeiter):\n",
    "    bonus: float\n",
    "\n",
    "    @property\n",
    "    def gehalt(self):\n",
    "        return super().gehalt + self.bonus"
   ]
  },
  {
   "cell_type": "markdown",
   "id": "42c9d1a0",
   "metadata": {
    "lang": "de"
   },
   "source": [
    "\n",
    "Erzeugen Sie einen Arbeiter mit Namen Hans, Personalnummer 123, einem\n",
    "Grundgehalt von  36000.0 Euro, der 3.5 Überstunden zu je 40.0 Euro gearbeit\n",
    "hat. Drucken Sie das Gehalt aus."
   ]
  },
  {
   "cell_type": "code",
   "execution_count": null,
   "id": "2882e7d2",
   "metadata": {
    "tags": [
     "solution"
    ]
   },
   "outputs": [],
   "source": [
    "a = Arbeiter(\"Hans\", \"123\", 36_000, 3.5, 40.0)\n",
    "print(a.gehalt)\n",
    "a"
   ]
  },
  {
   "cell_type": "markdown",
   "id": "dcd7173c",
   "metadata": {
    "lang": "de"
   },
   "source": [
    "Schreiben sie Assertions, die die Funktionalität der Klasse `Arbeiter` testen."
   ]
  },
  {
   "cell_type": "code",
   "execution_count": null,
   "id": "e70aa7d1",
   "metadata": {
    "tags": [
     "solution"
    ]
   },
   "outputs": [],
   "source": [
    "# Diese Assertions sind überflüssig! /  These assertions are superfluous!\n",
    "assert a.name == \"Hans\"\n",
    "assert a.pers_nr == \"123\"\n",
    "assert a.grundgehalt == 36_000\n",
    "assert a.überstunden == 3.5\n",
    "assert a.stundensatz == 40.0\n",
    "\n",
    "# Diese Assertion sollte vorhanden sein / This is the assertion that should be present\n",
    "assert a.gehalt == 39_140.0"
   ]
  },
  {
   "cell_type": "markdown",
   "id": "a7cd1ebc",
   "metadata": {
    "lang": "de"
   },
   "source": [
    "\n",
    "Erzeugen Sie einen Manager mit Namen Sepp, Personalnummer 666, der ein\n",
    "Grundgehalt von 60000.0 Euro und einen Bonus von 30000.0 Euro hat. Drucken Sie\n",
    "das Gehalt aus."
   ]
  },
  {
   "cell_type": "code",
   "execution_count": null,
   "id": "d1060732",
   "metadata": {
    "tags": [
     "solution"
    ]
   },
   "outputs": [],
   "source": [
    "m = Manager(\"Sepp\", \"666\", 60_000.0, 30_000.0)\n",
    "print(m.gehalt)\n",
    "m"
   ]
  },
  {
   "cell_type": "markdown",
   "id": "01cd788c",
   "metadata": {
    "lang": "de"
   },
   "source": [
    "Testen Sie die Funktionalität der `Manager` Klasse."
   ]
  },
  {
   "cell_type": "code",
   "execution_count": null,
   "id": "28e4be57",
   "metadata": {
    "tags": [
     "solution"
    ]
   },
   "outputs": [],
   "source": [
    "assert m.gehalt == 95_000.0"
   ]
  },
  {
   "cell_type": "markdown",
   "id": "c2fc635b",
   "metadata": {
    "lang": "de"
   },
   "source": [
    "## Lösung ohne Dataclasses:"
   ]
  },
  {
   "cell_type": "code",
   "execution_count": null,
   "id": "966e8b94",
   "metadata": {
    "tags": [
     "solution"
    ]
   },
   "outputs": [],
   "source": [
    "class Mitarbeiter:\n",
    "    def __init__(self, name, pers_nr, grundgehalt):\n",
    "        self.name = name\n",
    "        self.pers_nr = pers_nr\n",
    "        self.grundgehalt = grundgehalt\n",
    "\n",
    "    @property\n",
    "    def gehalt(self):\n",
    "        return 13 / 12 * self.grundgehalt"
   ]
  },
  {
   "cell_type": "code",
   "execution_count": null,
   "id": "8166a722",
   "metadata": {
    "tags": [
     "solution"
    ]
   },
   "outputs": [],
   "source": [
    "class Arbeiter(Mitarbeiter):\n",
    "    def __init__(self, name, pers_nr, grundgehalt, überstunden, stundensatz):\n",
    "        super().__init__(name, pers_nr, grundgehalt)\n",
    "        self.überstunden = überstunden\n",
    "        self.stundensatz = stundensatz\n",
    "\n",
    "    def __repr__(self):\n",
    "        return (\n",
    "            f\"Arbeiter({self.name!r}, {self.pers_nr!r}, {self.grundgehalt}, \"\n",
    "            f\"{self.überstunden}, {self.stundensatz})\"\n",
    "        )\n",
    "\n",
    "    @property\n",
    "    def gehalt(self):\n",
    "        return super().gehalt + self.überstunden * self.stundensatz"
   ]
  },
  {
   "cell_type": "code",
   "execution_count": null,
   "id": "ab3a8db6",
   "metadata": {
    "tags": [
     "solution"
    ]
   },
   "outputs": [],
   "source": [
    "class Manager(Mitarbeiter):\n",
    "    def __init__(self, name, pers_nr, grundgehalt, bonus):\n",
    "        super().__init__(name, pers_nr, grundgehalt)\n",
    "        self.bonus = bonus\n",
    "\n",
    "    def __repr__(self):\n",
    "        return (\n",
    "            f\"Manager({self.name!r}, {self.pers_nr!r}, {self.grundgehalt}, \"\n",
    "            f\"{self.bonus})\"\n",
    "        )\n",
    "\n",
    "    @property\n",
    "    def gehalt(self):\n",
    "        return super().gehalt + self.bonus"
   ]
  },
  {
   "cell_type": "code",
   "execution_count": null,
   "id": "eae5f8f3",
   "metadata": {
    "tags": [
     "solution"
    ]
   },
   "outputs": [],
   "source": [
    "a = Arbeiter(\"Hans\", 123, 36_000, 3, 40)\n",
    "print(a.gehalt)\n",
    "a"
   ]
  },
  {
   "cell_type": "code",
   "execution_count": null,
   "id": "410b35c3",
   "metadata": {
    "lines_to_next_cell": 2,
    "tags": [
     "solution"
    ]
   },
   "outputs": [],
   "source": [
    "m = Manager(\"Sepp\", 666, 60_000, 30_000)\n",
    "print(m.gehalt)\n",
    "m"
   ]
  },
  {
   "cell_type": "markdown",
   "id": "5bab9263",
   "metadata": {
    "lang": "de"
   },
   "source": [
    "\n",
    "# Bank Account\n",
    "\n",
    "Definieren Sie eine Klasse `BankAccount` mit einem Attribut `balance: float`\n",
    "und Methoden `deposit(amount: float)` und `withdraw(amount: float)`.\n",
    "\n",
    "*Hinweis: Für eine realistischere Implementierung sollte `decimal.Decimal`\n",
    "statt `float` verwendet werden.*\n",
    "\n",
    "Die Klasse soll in folgenden Fällen eine Exception vom Typ `ValueError`\n",
    "auslösen:\n",
    "\n",
    "- Wenn ein neuer `BankAccount` mit negativer `balance` angelegt werden soll.\n",
    "- Wenn `deposit` mit einem negativen Wert aufgerufen wird.\n",
    "- Wenn `withdraw` mit einem negativen Wert aufgerufen wird oder durch das\n",
    "  Abheben des Betrags die `balance` des Kontos negativ werden würde."
   ]
  },
  {
   "cell_type": "code",
   "execution_count": null,
   "id": "2cd5bf42",
   "metadata": {
    "tags": [
     "solution"
    ]
   },
   "outputs": [],
   "source": [
    "from dataclasses import dataclass\n",
    "\n",
    "@dataclass\n",
    "class BankAccount:\n",
    "    balance: float\n",
    "\n",
    "    def __post_init__(self):\n",
    "        if self.balance < 0:\n",
    "            raise ValueError(\n",
    "                f\"Cannot create an account with negative balance: {self.balance}.\"\n",
    "            )\n",
    "\n",
    "    def deposit(self, amount: float):\n",
    "        if amount > 0:\n",
    "            self.balance += amount\n",
    "        else:\n",
    "            raise ValueError(f\"Cannot deposit a negative amount: {amount}\")\n",
    "\n",
    "    def withdraw(self, amount: float):\n",
    "        if amount > 0:\n",
    "            if amount <= self.balance:\n",
    "                self.balance -= amount\n",
    "            else:\n",
    "                raise ValueError(\n",
    "                    f\"Cannot withdraw {amount} because it exceeds \"\n",
    "                    f\"the current balance of {self.balance}.\"\n",
    "                )\n",
    "        else:\n",
    "            raise ValueError(f\"Cannot withdraw a negative amount: {amount}\")"
   ]
  },
  {
   "cell_type": "markdown",
   "id": "ebc61fb1",
   "metadata": {
    "lang": "de"
   },
   "source": [
    "\n",
    "Testen Sie die Funktionalität der Klasse sowohl für erfolgreiche\n",
    "Transaktionen, als auch für Transaktionen, die Exceptions auslösen."
   ]
  },
  {
   "cell_type": "code",
   "execution_count": null,
   "id": "6e1e6dda",
   "metadata": {
    "tags": [
     "solution"
    ]
   },
   "outputs": [],
   "source": [
    "BankAccount(100.0)"
   ]
  },
  {
   "cell_type": "code",
   "execution_count": null,
   "id": "ade6e144",
   "metadata": {
    "tags": [
     "solution"
    ]
   },
   "outputs": [],
   "source": [
    "try:\n",
    "    BankAccount(-100)\n",
    "except ValueError as err:\n",
    "    print(\"ERROR:\", err)"
   ]
  },
  {
   "cell_type": "code",
   "execution_count": null,
   "id": "d838156d",
   "metadata": {
    "tags": [
     "solution"
    ]
   },
   "outputs": [],
   "source": [
    "b = BankAccount(100.0)\n",
    "b"
   ]
  },
  {
   "cell_type": "code",
   "execution_count": null,
   "id": "2fec28ff",
   "metadata": {
    "tags": [
     "solution"
    ]
   },
   "outputs": [],
   "source": [
    "b.deposit(200.0)\n",
    "b"
   ]
  },
  {
   "cell_type": "code",
   "execution_count": null,
   "id": "152a4a03",
   "metadata": {
    "tags": [
     "solution"
    ]
   },
   "outputs": [],
   "source": [
    "try:\n",
    "    b.deposit(-100.0)\n",
    "except ValueError as err:\n",
    "    print(\"ERROR:\", err)"
   ]
  },
  {
   "cell_type": "code",
   "execution_count": null,
   "id": "01a3bd01",
   "metadata": {
    "tags": [
     "solution"
    ]
   },
   "outputs": [],
   "source": [
    "b.withdraw(50.0)\n",
    "b"
   ]
  },
  {
   "cell_type": "code",
   "execution_count": null,
   "id": "5e22cbab",
   "metadata": {
    "tags": [
     "solution"
    ]
   },
   "outputs": [],
   "source": [
    "try:\n",
    "    b.withdraw(-200.0)\n",
    "except ValueError as err:\n",
    "    print(\"ERROR:\", err)"
   ]
  },
  {
   "cell_type": "code",
   "execution_count": null,
   "id": "8ab98897",
   "metadata": {
    "tags": [
     "solution"
    ]
   },
   "outputs": [],
   "source": [
    "try:\n",
    "    b.withdraw(1000.0)\n",
    "except ValueError as err:\n",
    "    print(\"ERROR:\", err)"
   ]
  },
  {
   "cell_type": "markdown",
   "id": "b65c7ab8",
   "metadata": {
    "lang": "de"
   },
   "source": [
    "## Lösung ohne Dataclasses:"
   ]
  },
  {
   "cell_type": "code",
   "execution_count": null,
   "id": "62927cce",
   "metadata": {
    "tags": [
     "solution"
    ]
   },
   "outputs": [],
   "source": [
    "class BankAccount:\n",
    "    def __init__(self, balance):\n",
    "        if balance < 0:\n",
    "            raise ValueError(\n",
    "                f\"Cannot create an account with negative balance: {balance}.\"\n",
    "            )\n",
    "        self.balance = balance\n",
    "\n",
    "    def __repr__(self):\n",
    "        return f\"BankAccount({self.balance:.2f})\"\n",
    "        \n",
    "    def deposit(self, amount: float):\n",
    "        if amount > 0:\n",
    "            self.balance += amount\n",
    "        else:\n",
    "            raise ValueError(f\"Cannot deposit a negative amount: {amount}\")\n",
    "\n",
    "    def withdraw(self, amount: float):\n",
    "        if amount <= 0:\n",
    "            raise ValueError(f\"Cannot withdraw a negative amount: {amount}\")\n",
    "        if amount > self.balance:\n",
    "            raise ValueError(\n",
    "                f\"Cannot withdraw {amount} because it exceeds \"\n",
    "                f\"the current balance of {self.balance}.\"\n",
    "            )\n",
    "        self.balance -= amount"
   ]
  },
  {
   "cell_type": "code",
   "execution_count": null,
   "id": "710b91a9",
   "metadata": {
    "tags": [
     "solution"
    ]
   },
   "outputs": [],
   "source": [
    "BankAccount(100.0)"
   ]
  },
  {
   "cell_type": "code",
   "execution_count": null,
   "id": "fa00c1fc",
   "metadata": {
    "tags": [
     "solution"
    ]
   },
   "outputs": [],
   "source": [
    "try:\n",
    "    BankAccount(-100)\n",
    "except ValueError as err:\n",
    "    print(\"ERROR:\", err)"
   ]
  },
  {
   "cell_type": "code",
   "execution_count": null,
   "id": "07d1756b",
   "metadata": {
    "tags": [
     "solution"
    ]
   },
   "outputs": [],
   "source": [
    "b = BankAccount(100.0)\n",
    "b"
   ]
  },
  {
   "cell_type": "code",
   "execution_count": null,
   "id": "e5090a9a",
   "metadata": {
    "tags": [
     "solution"
    ]
   },
   "outputs": [],
   "source": [
    "b.deposit(200.0)\n",
    "b"
   ]
  },
  {
   "cell_type": "code",
   "execution_count": null,
   "id": "34ee38ce",
   "metadata": {
    "tags": [
     "solution"
    ]
   },
   "outputs": [],
   "source": [
    "try:\n",
    "    b.deposit(-100.0)\n",
    "except ValueError as err:\n",
    "    print(\"ERROR:\", err)"
   ]
  },
  {
   "cell_type": "code",
   "execution_count": null,
   "id": "754334fa",
   "metadata": {
    "tags": [
     "solution"
    ]
   },
   "outputs": [],
   "source": [
    "b.withdraw(50.0)\n",
    "b"
   ]
  },
  {
   "cell_type": "code",
   "execution_count": null,
   "id": "c3c5cff1",
   "metadata": {
    "tags": [
     "solution"
    ]
   },
   "outputs": [],
   "source": [
    "try:\n",
    "    b.withdraw(-200.0)\n",
    "except ValueError as err:\n",
    "    print(\"ERROR:\", err)"
   ]
  },
  {
   "cell_type": "code",
   "execution_count": null,
   "id": "9adc4c0c",
   "metadata": {
    "tags": [
     "solution"
    ]
   },
   "outputs": [],
   "source": [
    "try:\n",
    "    b.withdraw(1000.0)\n",
    "except ValueError as err:\n",
    "    print(\"ERROR:\", err)"
   ]
  },
  {
   "cell_type": "code",
   "execution_count": null,
   "id": "33d058d6",
   "metadata": {},
   "outputs": [],
   "source": []
  }
 ],
 "metadata": {
  "jupytext": {
   "encoding": "# -*- coding: utf-8 -*-",
   "formats": "ipynb"
  },
  "kernelspec": {
   "display_name": "Python 3 (ipykernel)",
   "language": "python",
   "name": "python3"
  }
 },
 "nbformat": 4,
 "nbformat_minor": 5
}
