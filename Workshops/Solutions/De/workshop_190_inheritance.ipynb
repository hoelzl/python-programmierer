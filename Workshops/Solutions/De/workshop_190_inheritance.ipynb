{
 "cells": [
  {
   "cell_type": "markdown",
   "id": "abf6a4a6",
   "metadata": {
    "lang": "de"
   },
   "source": [
    "# Vererbung\n",
    "\n",
    "Im Folgenden soll eine Klassenhierarchie für Mitarbeiter einer Firma erstellt\n",
    "werden:\n",
    "\n",
    "- Mitarbeiter können entweder Arbeiter oder Manager sein\n",
    "- Jeder Mitarbeiter der Firma hat einen Namen, eine Personalnummer und ein\n",
    "  Grundgehalt\n",
    "- Für jeden Arbeiter werden die angefallenen Überstunden und der Stundenlohn\n",
    "  gespeichert.\n",
    "- Das Gehalt eines Arbeiters berechnet sich als das 13/12-fache des\n",
    "  Grundgehalts plus der Bezahlung für die Überstunden\n",
    "- Jeder Manager hat einen individuellen Bonus\n",
    "- Das Gehalt eines Managers berechnet sich als das 13/12-fache des\n",
    "  Grundgehalts plus Bonus\n",
    "\n",
    "Implementieren Sie Python Klassen `Mitarbeiter`, `Arbeiter` und `Manager` mit\n",
    "geeigneten Attributen und einer Methode `gehalt()`, die das Gehalt berechnet.\n"
   ]
  },
  {
   "cell_type": "code",
   "execution_count": null,
   "id": "828c13a6",
   "metadata": {
    "lines_to_next_cell": 1,
    "tags": [
     "solution"
    ]
   },
   "outputs": [],
   "source": [
    "from dataclasses import dataclass"
   ]
  },
  {
   "cell_type": "code",
   "execution_count": null,
   "id": "c2cd20b3",
   "metadata": {
    "tags": [
     "solution"
    ]
   },
   "outputs": [],
   "source": [
    "@dataclass\n",
    "class Mitarbeiter:\n",
    "    name: str\n",
    "    pers_nr: str\n",
    "    grundgehalt: float\n",
    "\n",
    "    @property\n",
    "    def gehalt(self):\n",
    "        return 13 / 12 * self.grundgehalt"
   ]
  },
  {
   "cell_type": "code",
   "execution_count": null,
   "id": "9ba246ef",
   "metadata": {
    "tags": [
     "solution"
    ]
   },
   "outputs": [],
   "source": [
    "@dataclass\n",
    "class Arbeiter(Mitarbeiter):\n",
    "    überstunden: float = 0.0\n",
    "    stundensatz: float = 0.0\n",
    "\n",
    "    @property\n",
    "    def gehalt(self):\n",
    "        return super().gehalt + self.überstunden * self.stundensatz"
   ]
  },
  {
   "cell_type": "code",
   "execution_count": null,
   "id": "8874b85e",
   "metadata": {
    "tags": [
     "solution"
    ]
   },
   "outputs": [],
   "source": [
    "@dataclass\n",
    "class Manager(Mitarbeiter):\n",
    "    bonus: float\n",
    "\n",
    "    @property\n",
    "    def gehalt(self):\n",
    "        return super().gehalt + self.bonus"
   ]
  },
  {
   "cell_type": "markdown",
   "id": "94b58802",
   "metadata": {
    "lang": "de"
   },
   "source": [
    "\n",
    "Erzeugen Sie einen Arbeiter mit Namen Hans, Personalnummer 123, einem\n",
    "Grundgehalt von  36000.0 Euro, der 3.5 Überstunden zu je 40.0 Euro gearbeit\n",
    "hat. Drucken Sie das Gehalt aus."
   ]
  },
  {
   "cell_type": "code",
   "execution_count": null,
   "id": "486538bd",
   "metadata": {
    "tags": [
     "solution"
    ]
   },
   "outputs": [],
   "source": [
    "a = Arbeiter(\"Hans\", \"123\", 36_000, 3.5, 40.0)\n",
    "print(a.gehalt)\n",
    "a"
   ]
  },
  {
   "cell_type": "markdown",
   "id": "aed7a944",
   "metadata": {
    "lang": "de"
   },
   "source": [
    "\n",
    "Erzeugen Sie einen Manager mit Namen Sepp, Personalnummer 666, der ein\n",
    "Grundgehalt von 60000.0 Euro und einen Bonus von 30000.0 Euro hat. Drucken Sie\n",
    "das Gehalt aus."
   ]
  },
  {
   "cell_type": "code",
   "execution_count": null,
   "id": "1c07bf9c",
   "metadata": {
    "lines_to_next_cell": 1,
    "tags": [
     "solution"
    ]
   },
   "outputs": [],
   "source": [
    "m = Manager(\"Sepp\", \"666\", 60_000.0, 30_000.0)\n",
    "print(m.gehalt)\n",
    "m"
   ]
  },
  {
   "cell_type": "markdown",
   "id": "89a8c174",
   "metadata": {
    "lang": "de"
   },
   "source": [
    "\n",
    "Lösung ohne Dataclasses:"
   ]
  },
  {
   "cell_type": "code",
   "execution_count": null,
   "id": "fc88a51e",
   "metadata": {
    "tags": [
     "solution"
    ]
   },
   "outputs": [],
   "source": [
    "class Mitarbeiter:\n",
    "    def __init__(self, name, pers_nr, grundgehalt):\n",
    "        self.name = name\n",
    "        self.pers_nr = pers_nr\n",
    "        self.grundgehalt = grundgehalt\n",
    "\n",
    "    @property\n",
    "    def gehalt(self):\n",
    "        return 13 / 12 * self.grundgehalt"
   ]
  },
  {
   "cell_type": "code",
   "execution_count": null,
   "id": "8b21a761",
   "metadata": {
    "tags": [
     "solution"
    ]
   },
   "outputs": [],
   "source": [
    "class Arbeiter(Mitarbeiter):\n",
    "    def __init__(self, name, pers_nr, grundgehalt, überstunden, stundensatz):\n",
    "        super().__init__(name, pers_nr, grundgehalt)\n",
    "        self.überstunden = überstunden\n",
    "        self.stundensatz = stundensatz\n",
    "\n",
    "    def __repr__(self):\n",
    "        return (\n",
    "            f\"Arbeiter({self.name!r}, {self.pers_nr!r}, {self.grundgehalt}, \"\n",
    "            f\"{self.überstunden}, {self.stundensatz})\"\n",
    "        )\n",
    "\n",
    "    @property\n",
    "    def gehalt(self):\n",
    "        return super().gehalt + self.überstunden * self.stundensatz"
   ]
  },
  {
   "cell_type": "code",
   "execution_count": null,
   "id": "f79fe12c",
   "metadata": {
    "tags": [
     "solution"
    ]
   },
   "outputs": [],
   "source": [
    "class Manager(Mitarbeiter):\n",
    "    def __init__(self, name, pers_nr, grundgehalt, bonus):\n",
    "        super().__init__(name, pers_nr, grundgehalt)\n",
    "        self.bonus = bonus\n",
    "\n",
    "    def __repr__(self):\n",
    "        return (\n",
    "            f\"Manager({self.name!r}, {self.pers_nr!r}, {self.grundgehalt}, \"\n",
    "            f\"{self.bonus})\"\n",
    "        )\n",
    "\n",
    "    @property\n",
    "    def gehalt(self):\n",
    "        return super().gehalt + self.bonus"
   ]
  },
  {
   "cell_type": "code",
   "execution_count": null,
   "id": "e6c57e53",
   "metadata": {
    "tags": [
     "solution"
    ]
   },
   "outputs": [],
   "source": [
    "a = Arbeiter(\"Hans\", 123, 36_000, 3, 40)\n",
    "print(a.gehalt)\n",
    "a"
   ]
  },
  {
   "cell_type": "code",
   "execution_count": null,
   "id": "c50f5104",
   "metadata": {
    "lines_to_next_cell": 2,
    "tags": [
     "solution"
    ]
   },
   "outputs": [],
   "source": [
    "m = Manager(\"Sepp\", 666, 60_000, 30_000)\n",
    "print(m.gehalt)\n",
    "m"
   ]
  },
  {
   "cell_type": "markdown",
   "id": "dfce530c",
   "metadata": {
    "lang": "de"
   },
   "source": [
    "\n",
    "# Bank Account\n",
    "\n",
    "Definieren Sie eine Klasse `BankAccount` mit einem Attribut `balance: float`\n",
    "und Methoden `deposit(amount: float)` und `withdraw(amount: float)`.\n",
    "\n",
    "*Hinweis: Für eine realistischere Implementierung sollte `decimal.Decimal`\n",
    "statt `float` verwendet werden.*\n",
    "\n",
    "Die Klasse soll in folgenden Fällen eine Exception vom Typ `ValueError`\n",
    "auslösen:\n",
    "\n",
    "- Wenn ein neuer `BankAccount` mit negativer `balance` angelegt werden soll.\n",
    "- Wenn `deposit` mit einem negativen Wert aufgerufen wird.\n",
    "- Wenn `withdraw` mit einem negativen Wert aufgerufen wird oder durch das\n",
    "  Abheben des Betrags die `balance` des Kontos negativ werden würde."
   ]
  },
  {
   "cell_type": "code",
   "execution_count": null,
   "id": "c11aa21c",
   "metadata": {
    "tags": [
     "solution"
    ]
   },
   "outputs": [],
   "source": [
    "from dataclasses import dataclass\n",
    "\n",
    "\n",
    "@dataclass\n",
    "class BankAccount:\n",
    "    balance: float\n",
    "\n",
    "    def __post_init__(self):\n",
    "        if self.balance < 0:\n",
    "            raise ValueError(\n",
    "                f\"Cannot create an account with negative balance: {self.balance}.\"\n",
    "            )\n",
    "\n",
    "    def deposit(self, amount: float):\n",
    "        if amount > 0:\n",
    "            self.balance += amount\n",
    "        else:\n",
    "            raise ValueError(f\"Cannot deposit a negative amount: {amount}\")\n",
    "\n",
    "    def withdraw(self, amount: float):\n",
    "        if amount > 0:\n",
    "            if amount <= self.balance:\n",
    "                self.balance -= amount\n",
    "            else:\n",
    "                raise ValueError(\n",
    "                    f\"Cannot withdraw {amount} because it exceeds \"\n",
    "                    f\"the current balance of {self.balance}.\"\n",
    "                )\n",
    "        else:\n",
    "            raise ValueError(f\"Cannot withdraw a negative amount: {amount}\")"
   ]
  },
  {
   "cell_type": "markdown",
   "id": "dc70e444",
   "metadata": {
    "lang": "de"
   },
   "source": [
    "\n",
    "Testen Sie die Funktionalität der Klasse sowohl für erfolgreiche\n",
    "Transaktionen, als auch für Transaktionen, die Exceptions auslösen."
   ]
  },
  {
   "cell_type": "code",
   "execution_count": null,
   "id": "22ee5033",
   "metadata": {
    "tags": [
     "solution"
    ]
   },
   "outputs": [],
   "source": [
    "BankAccount(100.0)"
   ]
  },
  {
   "cell_type": "code",
   "execution_count": null,
   "id": "3dc3e4e3",
   "metadata": {
    "tags": [
     "solution"
    ]
   },
   "outputs": [],
   "source": [
    "try:\n",
    "    BankAccount(-100)\n",
    "except ValueError as err:\n",
    "    print(\"ERROR:\", err)"
   ]
  },
  {
   "cell_type": "code",
   "execution_count": null,
   "id": "774a9534",
   "metadata": {
    "tags": [
     "solution"
    ]
   },
   "outputs": [],
   "source": [
    "b = BankAccount(100.0)\n",
    "b"
   ]
  },
  {
   "cell_type": "code",
   "execution_count": null,
   "id": "21ffcdf7",
   "metadata": {
    "tags": [
     "solution"
    ]
   },
   "outputs": [],
   "source": [
    "b.deposit(200.0)\n",
    "b"
   ]
  },
  {
   "cell_type": "code",
   "execution_count": null,
   "id": "e8bb1176",
   "metadata": {
    "tags": [
     "solution"
    ]
   },
   "outputs": [],
   "source": [
    "try:\n",
    "    b.deposit(-100.0)\n",
    "except ValueError as err:\n",
    "    print(\"ERROR:\", err)"
   ]
  },
  {
   "cell_type": "code",
   "execution_count": null,
   "id": "b0940bbe",
   "metadata": {
    "tags": [
     "solution"
    ]
   },
   "outputs": [],
   "source": [
    "b.withdraw(50.0)\n",
    "b"
   ]
  },
  {
   "cell_type": "code",
   "execution_count": null,
   "id": "91dc3ae9",
   "metadata": {
    "tags": [
     "solution"
    ]
   },
   "outputs": [],
   "source": [
    "try:\n",
    "    b.withdraw(-200.0)\n",
    "except ValueError as err:\n",
    "    print(\"ERROR:\", err)"
   ]
  },
  {
   "cell_type": "code",
   "execution_count": null,
   "id": "0ca0050a",
   "metadata": {
    "tags": [
     "solution"
    ]
   },
   "outputs": [],
   "source": [
    "try:\n",
    "    b.withdraw(1000.0)\n",
    "except ValueError as err:\n",
    "    print(\"ERROR:\", err)"
   ]
  },
  {
   "cell_type": "markdown",
   "id": "38eae1b1",
   "metadata": {
    "lang": "de"
   },
   "source": [
    "\n",
    " # Lesen und Schreiben in Dateien\n",
    "\n",
    "Schreiben Sie eine Funktion `write_text_to_file(text: str, file_name: str) ->\n",
    "None`, die den String `text` in die Datei `file_name` schreibt, sofern diese\n",
    "*nicht* existiert und eine Exception vom Typ `FileExistsError` wirft, falls\n",
    "die Datei existiert.\n",
    "\n",
    "*Hinweis:*  Beachten Sie die möglichen Werte für das `mode` Argument von\n",
    "`open()`."
   ]
  },
  {
   "cell_type": "code",
   "execution_count": null,
   "id": "cf85efe5",
   "metadata": {
    "tags": [
     "solution"
    ]
   },
   "outputs": [],
   "source": [
    "def write_text_to_file(text, file_name):\n",
    "    with open(file_name, \"x\") as file:\n",
    "        file.write(text)"
   ]
  },
  {
   "cell_type": "markdown",
   "id": "8550da9c",
   "metadata": {
    "lang": "de"
   },
   "source": [
    "\n",
    "Testen Sie die Funktion, indem Sie zweimal hintereinander versuchen den Text\n",
    "`Python 3.8` in die Datei `my-private-file.txt` zu schreiben."
   ]
  },
  {
   "cell_type": "code",
   "execution_count": null,
   "id": "0aae41fc",
   "metadata": {
    "tags": [
     "solution"
    ]
   },
   "outputs": [],
   "source": [
    "write_text_to_file(\"Python 3.8\", \"my_private_file.txt\")"
   ]
  },
  {
   "cell_type": "code",
   "execution_count": null,
   "id": "b6b9807e",
   "metadata": {
    "lines_to_next_cell": 2,
    "tags": [
     "solution"
    ]
   },
   "outputs": [],
   "source": [
    "# write_text_to_file('Python 3.8', 'my_private_file.txt')"
   ]
  },
  {
   "cell_type": "markdown",
   "id": "795e47fa",
   "metadata": {
    "lang": "de"
   },
   "source": [
    "\n",
    " Schreiben Sie eine Funktion `annotate_file(file_name: str) -> None`, die\n",
    "- den Inhalt der Datei `file_name` gefolgt von dem Text `(annotated version)`\n",
    "  auf dem Bildschirm ausgibt, falls sie existiert\n",
    "- den Text `No file found, we will bill the time we spent searching.` ausgibt\n",
    "  falls sie nicht existiert\n",
    "- in beiden Fällen den Text `Our invoice will be sent by mail.` ausgibt."
   ]
  },
  {
   "cell_type": "code",
   "execution_count": null,
   "id": "3782bb6d",
   "metadata": {
    "tags": [
     "solution"
    ]
   },
   "outputs": [],
   "source": [
    "def annotate_file(file_name):\n",
    "    try:\n",
    "        with open(file_name, \"r\") as file:\n",
    "            print(file.read())\n",
    "            print(\"(annotated version)\")\n",
    "    except FileNotFoundError:\n",
    "        print(\"No file found, we will bill the time we spent searching.\")\n",
    "    finally:\n",
    "        print(\"Our invoice will be sent by mail.\")"
   ]
  },
  {
   "cell_type": "code",
   "execution_count": null,
   "id": "242a9d37",
   "metadata": {
    "tags": [
     "solution"
    ]
   },
   "outputs": [],
   "source": [
    "annotate_file(\"my_private_file.txt\")"
   ]
  },
  {
   "cell_type": "code",
   "execution_count": null,
   "id": "93d7204f",
   "metadata": {
    "lines_to_next_cell": 2,
    "tags": [
     "solution"
    ]
   },
   "outputs": [],
   "source": [
    "annotate_file(\"does-not-exist.txt\")"
   ]
  },
  {
   "cell_type": "code",
   "execution_count": null,
   "id": "7903077d",
   "metadata": {},
   "outputs": [],
   "source": []
  }
 ],
 "metadata": {
  "jupytext": {
   "encoding": "# -*- coding: utf-8 -*-",
   "formats": "ipynb"
  },
  "kernelspec": {
   "display_name": "Python 3 (ipykernel)",
   "language": "python",
   "name": "python3"
  }
 },
 "nbformat": 4,
 "nbformat_minor": 5
}
