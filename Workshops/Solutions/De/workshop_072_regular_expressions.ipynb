{
 "cells": [
  {
   "cell_type": "markdown",
   "id": "fbfb74ec",
   "metadata": {
    "lang": "de"
   },
   "source": [
    "# Reguläre Ausdrücke\n",
    "\n",
    "Schreiben Sie einen Regulären Ausdruck, der Gleitkommazahlen matcht (ein oder\n",
    "mehrere Ziffern, gefolgt von einem Punkt, gefolgt von ein oder mehreren\n",
    "Ziffern).\n",
    "\n",
    "Testen Sie den Regulären Ausdruck mit folgenden Werten: `1.0`, `842.234`,\n",
    "`23-38`, `12.`, `.1`.\n",
    "\n",
    "*Hinweis:* `\\d` matcht eine einzelne Ziffer."
   ]
  },
  {
   "cell_type": "code",
   "execution_count": null,
   "id": "47fc4b1c",
   "metadata": {
    "tags": [
     "solution"
    ]
   },
   "outputs": [],
   "source": [
    "import re\n",
    "\n",
    "fp_rx = re.compile(r\"\\d+\\.\\d+\")"
   ]
  },
  {
   "cell_type": "code",
   "execution_count": null,
   "id": "9b58adc5",
   "metadata": {
    "tags": [
     "solution"
    ]
   },
   "outputs": [],
   "source": [
    "fp_rx.fullmatch(\"1.0\")"
   ]
  },
  {
   "cell_type": "code",
   "execution_count": null,
   "id": "65ef6313",
   "metadata": {
    "tags": [
     "solution"
    ]
   },
   "outputs": [],
   "source": [
    "fp_rx.fullmatch(\"842.234\")"
   ]
  },
  {
   "cell_type": "code",
   "execution_count": null,
   "id": "57d52ad5",
   "metadata": {
    "tags": [
     "solution"
    ]
   },
   "outputs": [],
   "source": [
    "fp_rx.fullmatch(\"23-38\")"
   ]
  },
  {
   "cell_type": "code",
   "execution_count": null,
   "id": "e083702d",
   "metadata": {
    "tags": [
     "solution"
    ]
   },
   "outputs": [],
   "source": [
    "fp_rx.fullmatch(\"12.\")"
   ]
  },
  {
   "cell_type": "code",
   "execution_count": null,
   "id": "0541f885",
   "metadata": {
    "tags": [
     "solution"
    ]
   },
   "outputs": [],
   "source": [
    "fp_rx.fullmatch(\".1\")"
   ]
  },
  {
   "cell_type": "markdown",
   "id": "4ca6b0ec",
   "metadata": {
    "lang": "de"
   },
   "source": [
    "\n",
    "Schreiben Sie einen Regulären Ausdruck, der URLs matcht, die `http` oder\n",
    "`https` Protokoll haben und nach dem Domain-Namen höchstens einen einzelnen\n",
    "`/` als Pfad.\n",
    "\n",
    "Zum Beispiel soll `https://www.example.com/` gematcht werden, nicht aber\n",
    "`email://example.com`, `http://example.com/foo` oder\n",
    "`http://www..example.com/`."
   ]
  },
  {
   "cell_type": "code",
   "execution_count": null,
   "id": "4ef6ee14",
   "metadata": {
    "tags": [
     "solution"
    ]
   },
   "outputs": [],
   "source": [
    "url_rx = re.compile(r\"https?://(\\w+\\.)+\\w+/?\")"
   ]
  },
  {
   "cell_type": "code",
   "execution_count": null,
   "id": "be94f6ef",
   "metadata": {
    "tags": [
     "solution"
    ]
   },
   "outputs": [],
   "source": [
    "url_rx.fullmatch(r\"http://example.com/\")"
   ]
  },
  {
   "cell_type": "code",
   "execution_count": null,
   "id": "02846d67",
   "metadata": {
    "tags": [
     "solution"
    ]
   },
   "outputs": [],
   "source": [
    "url_rx.fullmatch(r\"https://www.example.com/\")"
   ]
  },
  {
   "cell_type": "code",
   "execution_count": null,
   "id": "383cecfd",
   "metadata": {
    "tags": [
     "solution"
    ]
   },
   "outputs": [],
   "source": [
    "url_rx.fullmatch(r\"email://example.com/\") is None"
   ]
  },
  {
   "cell_type": "code",
   "execution_count": null,
   "id": "a160848f",
   "metadata": {
    "tags": [
     "solution"
    ]
   },
   "outputs": [],
   "source": [
    "url_rx.fullmatch(r\"http://example.com/foo\") is None"
   ]
  },
  {
   "cell_type": "code",
   "execution_count": null,
   "id": "f4fc5ad0",
   "metadata": {
    "tags": [
     "solution"
    ]
   },
   "outputs": [],
   "source": [
    "url_rx.fullmatch(r\"https://www..example.com/\") is None"
   ]
  },
  {
   "cell_type": "markdown",
   "id": "cd681aed",
   "metadata": {
    "lang": "de"
   },
   "source": [
    "\n",
    "Ersetzen Sie alle URLs im folgenden Text durch die Zeichenkette `<URL>`."
   ]
  },
  {
   "cell_type": "code",
   "execution_count": null,
   "id": "1246e179",
   "metadata": {
    "lines_to_next_cell": 2
   },
   "outputs": [],
   "source": [
    "text = \"Use http://www.example.com or https://www.example.com/ as example domains.\""
   ]
  },
  {
   "cell_type": "code",
   "execution_count": null,
   "id": "b72507fc",
   "metadata": {
    "tags": [
     "solution"
    ]
   },
   "outputs": [],
   "source": [
    "url_rx.sub(\"<URL>\", text)"
   ]
  },
  {
   "cell_type": "code",
   "execution_count": null,
   "id": "5591027a",
   "metadata": {},
   "outputs": [],
   "source": []
  }
 ],
 "metadata": {
  "jupytext": {
   "encoding": "# -*- coding: utf-8 -*-",
   "formats": "ipynb"
  },
  "kernelspec": {
   "display_name": "Python 3 (ipykernel)",
   "language": "python",
   "name": "python3"
  }
 },
 "nbformat": 4,
 "nbformat_minor": 5
}
