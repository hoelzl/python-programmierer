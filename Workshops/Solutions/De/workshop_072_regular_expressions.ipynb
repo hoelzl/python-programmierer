{
 "cells": [
  {
   "cell_type": "markdown",
   "id": "72dc9f3b",
   "metadata": {
    "lang": "de"
   },
   "source": [
    "# Reguläre Ausdrücke\n",
    "\n",
    "Schreiben Sie einen Regulären Ausdruck, der Gleitkommazahlen matcht (ein oder\n",
    "mehrere Ziffern, gefolgt von einem Punkt, gefolgt von ein oder mehreren\n",
    "Ziffern).\n",
    "\n",
    "Testen Sie den Regulären Ausdruck mit folgenden Werten: `1.0`, `842.234`,\n",
    "`23-38`, `12.`, `.1`.\n",
    "\n",
    "*Hinweis:* `\\d` matcht eine einzelne Ziffer."
   ]
  },
  {
   "cell_type": "code",
   "execution_count": null,
   "id": "fd7ac834",
   "metadata": {
    "tags": [
     "solution"
    ]
   },
   "outputs": [],
   "source": [
    "import re\n",
    "\n",
    "fp_rx = re.compile(r\"\\d+\\.\\d+\")"
   ]
  },
  {
   "cell_type": "code",
   "execution_count": null,
   "id": "b7a9eab1",
   "metadata": {
    "tags": [
     "solution"
    ]
   },
   "outputs": [],
   "source": [
    "fp_rx.fullmatch(\"1.0\")"
   ]
  },
  {
   "cell_type": "code",
   "execution_count": null,
   "id": "4b415ae7",
   "metadata": {
    "tags": [
     "solution"
    ]
   },
   "outputs": [],
   "source": [
    "fp_rx.fullmatch(\"842.234\")"
   ]
  },
  {
   "cell_type": "code",
   "execution_count": null,
   "id": "17bdbf6f",
   "metadata": {
    "tags": [
     "solution"
    ]
   },
   "outputs": [],
   "source": [
    "fp_rx.fullmatch(\"23-38\")"
   ]
  },
  {
   "cell_type": "code",
   "execution_count": null,
   "id": "ee9ab379",
   "metadata": {
    "tags": [
     "solution"
    ]
   },
   "outputs": [],
   "source": [
    "fp_rx.fullmatch(\"12.\")"
   ]
  },
  {
   "cell_type": "code",
   "execution_count": null,
   "id": "02eb0c0b",
   "metadata": {
    "tags": [
     "solution"
    ]
   },
   "outputs": [],
   "source": [
    "fp_rx.fullmatch(\".1\")"
   ]
  },
  {
   "cell_type": "markdown",
   "id": "edb7c232",
   "metadata": {
    "lang": "de"
   },
   "source": [
    "\n",
    "Schreiben Sie einen Regulären Ausdruck, der URLs matcht, die `http` oder\n",
    "`https` Protokoll haben und nach dem Domain-Namen höchstens einen einzelnen\n",
    "`/` als Pfad.\n",
    "\n",
    "Zum Beispiel soll `https://www.example.com/` gematcht werden, nicht aber\n",
    "`email://example.com`, `http://example.com/foo` oder\n",
    "`http://www..example.com/`."
   ]
  },
  {
   "cell_type": "code",
   "execution_count": null,
   "id": "c0890fdb",
   "metadata": {
    "tags": [
     "solution"
    ]
   },
   "outputs": [],
   "source": [
    "url_rx = re.compile(r\"https?://(\\w+\\.)+\\w+/?\")"
   ]
  },
  {
   "cell_type": "code",
   "execution_count": null,
   "id": "4dc27aa2",
   "metadata": {
    "tags": [
     "solution"
    ]
   },
   "outputs": [],
   "source": [
    "url_rx.fullmatch(r\"http://example.com/\")"
   ]
  },
  {
   "cell_type": "code",
   "execution_count": null,
   "id": "8e690971",
   "metadata": {
    "tags": [
     "solution"
    ]
   },
   "outputs": [],
   "source": [
    "url_rx.fullmatch(r\"https://www.example.com/\")"
   ]
  },
  {
   "cell_type": "code",
   "execution_count": null,
   "id": "e0658b25",
   "metadata": {
    "tags": [
     "solution"
    ]
   },
   "outputs": [],
   "source": [
    "url_rx.fullmatch(r\"email://example.com/\") is None"
   ]
  },
  {
   "cell_type": "code",
   "execution_count": null,
   "id": "06682460",
   "metadata": {
    "tags": [
     "solution"
    ]
   },
   "outputs": [],
   "source": [
    "url_rx.fullmatch(r\"http://example.com/foo\") is None"
   ]
  },
  {
   "cell_type": "code",
   "execution_count": null,
   "id": "4c75e090",
   "metadata": {
    "tags": [
     "solution"
    ]
   },
   "outputs": [],
   "source": [
    "url_rx.fullmatch(r\"https://www..example.com/\") is None"
   ]
  },
  {
   "cell_type": "markdown",
   "id": "45018f6b",
   "metadata": {
    "lang": "de"
   },
   "source": [
    "\n",
    "Ersetzen Sie alle URLs im folgenden Text durch die Zeichenkette `<URL>`."
   ]
  },
  {
   "cell_type": "code",
   "execution_count": null,
   "id": "8ec125e6",
   "metadata": {
    "lines_to_next_cell": 2
   },
   "outputs": [],
   "source": [
    "text = \"Use http://www.example.com or https://www.example.com/ as example domains.\""
   ]
  },
  {
   "cell_type": "code",
   "execution_count": null,
   "id": "80ff6a5d",
   "metadata": {
    "tags": [
     "solution"
    ]
   },
   "outputs": [],
   "source": [
    "url_rx.sub(\"<URL>\", text)"
   ]
  },
  {
   "cell_type": "code",
   "execution_count": null,
   "id": "bf4c5a46",
   "metadata": {},
   "outputs": [],
   "source": []
  }
 ],
 "metadata": {
  "jupytext": {
   "encoding": "# -*- coding: utf-8 -*-",
   "formats": "ipynb"
  },
  "kernelspec": {
   "display_name": "Python 3 (ipykernel)",
   "language": "python",
   "name": "python3"
  }
 },
 "nbformat": 4,
 "nbformat_minor": 5
}
