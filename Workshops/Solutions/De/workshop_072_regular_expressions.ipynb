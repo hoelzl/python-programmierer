{
 "cells": [
  {
   "cell_type": "markdown",
   "id": "2c146651",
   "metadata": {
    "lang": "de"
   },
   "source": [
    "# Reguläre Ausdrücke\n",
    "\n",
    "Schreiben Sie einen Regulären Ausdruck, der Gleitkommazahlen matcht (ein oder\n",
    "mehrere Ziffern, gefolgt von einem Punkt, gefolgt von ein oder mehreren\n",
    "Ziffern).\n",
    "\n",
    "Testen Sie den Regulären Ausdruck mit folgenden Werten: `1.0`, `842.234`,\n",
    "`23-38`, `12.`, `.1`.\n",
    "\n",
    "*Hinweis:* `\\d` matcht eine einzelne Ziffer."
   ]
  },
  {
   "cell_type": "code",
   "execution_count": null,
   "id": "d304a3ca",
   "metadata": {
    "tags": [
     "solution"
    ]
   },
   "outputs": [],
   "source": [
    "import re\n",
    "\n",
    "fp_rx = re.compile(r\"\\d+\\.\\d+\")"
   ]
  },
  {
   "cell_type": "code",
   "execution_count": null,
   "id": "510a64db",
   "metadata": {
    "tags": [
     "solution"
    ]
   },
   "outputs": [],
   "source": [
    "fp_rx.fullmatch(\"1.0\")"
   ]
  },
  {
   "cell_type": "code",
   "execution_count": null,
   "id": "01628a3e",
   "metadata": {
    "tags": [
     "solution"
    ]
   },
   "outputs": [],
   "source": [
    "fp_rx.fullmatch(\"842.234\")"
   ]
  },
  {
   "cell_type": "code",
   "execution_count": null,
   "id": "805352b1",
   "metadata": {
    "tags": [
     "solution"
    ]
   },
   "outputs": [],
   "source": [
    "fp_rx.fullmatch(\"23-38\")"
   ]
  },
  {
   "cell_type": "code",
   "execution_count": null,
   "id": "a6b466d2",
   "metadata": {
    "tags": [
     "solution"
    ]
   },
   "outputs": [],
   "source": [
    "fp_rx.fullmatch(\"12.\")"
   ]
  },
  {
   "cell_type": "code",
   "execution_count": null,
   "id": "1b91f40e",
   "metadata": {
    "tags": [
     "solution"
    ]
   },
   "outputs": [],
   "source": [
    "fp_rx.fullmatch(\".1\")"
   ]
  },
  {
   "cell_type": "markdown",
   "id": "d1c2d7f8",
   "metadata": {
    "lang": "de"
   },
   "source": [
    "\n",
    "Schreiben Sie einen Regulären Ausdruck, der URLs matcht, die `http` oder\n",
    "`https` Protokoll haben und nach dem Domain-Namen höchstens einen einzelnen\n",
    "`/` als Pfad.\n",
    "\n",
    "Zum Beispiel soll `https://www.example.com/` gematcht werden, nicht aber\n",
    "`email://example.com`, `http://example.com/foo` oder\n",
    "`http://www..example.com/`."
   ]
  },
  {
   "cell_type": "code",
   "execution_count": null,
   "id": "279cb40f",
   "metadata": {
    "tags": [
     "solution"
    ]
   },
   "outputs": [],
   "source": [
    "url_rx = re.compile(r\"https?://(\\w+\\.)+\\w+/?\")"
   ]
  },
  {
   "cell_type": "code",
   "execution_count": null,
   "id": "5ab0a213",
   "metadata": {
    "tags": [
     "solution"
    ]
   },
   "outputs": [],
   "source": [
    "url_rx.fullmatch(r\"http://example.com/\")"
   ]
  },
  {
   "cell_type": "code",
   "execution_count": null,
   "id": "fb9660e0",
   "metadata": {
    "tags": [
     "solution"
    ]
   },
   "outputs": [],
   "source": [
    "url_rx.fullmatch(r\"https://www.example.com/\")"
   ]
  },
  {
   "cell_type": "code",
   "execution_count": null,
   "id": "cf8e30f6",
   "metadata": {
    "tags": [
     "solution"
    ]
   },
   "outputs": [],
   "source": [
    "url_rx.fullmatch(r\"email://example.com/\") is None"
   ]
  },
  {
   "cell_type": "code",
   "execution_count": null,
   "id": "8c9ba808",
   "metadata": {
    "tags": [
     "solution"
    ]
   },
   "outputs": [],
   "source": [
    "url_rx.fullmatch(r\"http://example.com/foo\") is None"
   ]
  },
  {
   "cell_type": "code",
   "execution_count": null,
   "id": "433a7ff5",
   "metadata": {
    "tags": [
     "solution"
    ]
   },
   "outputs": [],
   "source": [
    "url_rx.fullmatch(r\"https://www..example.com/\") is None"
   ]
  },
  {
   "cell_type": "markdown",
   "id": "ea8cbec4",
   "metadata": {
    "lang": "de"
   },
   "source": [
    "\n",
    "Ersetzen Sie alle URLs im folgenden Text durch die Zeichenkette `<URL>`."
   ]
  },
  {
   "cell_type": "code",
   "execution_count": null,
   "id": "a44df4d2",
   "metadata": {
    "lines_to_next_cell": 2
   },
   "outputs": [],
   "source": [
    "text = \"Use http://www.example.com or https://www.example.com/ as example domains.\""
   ]
  },
  {
   "cell_type": "code",
   "execution_count": null,
   "id": "dbc33d25",
   "metadata": {
    "tags": [
     "solution"
    ]
   },
   "outputs": [],
   "source": [
    "url_rx.sub(\"<URL>\", text)"
   ]
  },
  {
   "cell_type": "code",
   "execution_count": null,
   "id": "92f4750c",
   "metadata": {},
   "outputs": [],
   "source": []
  }
 ],
 "metadata": {
  "jupytext": {
   "encoding": "# -*- coding: utf-8 -*-",
   "formats": "ipynb"
  },
  "kernelspec": {
   "display_name": "Python 3 (ipykernel)",
   "language": "python",
   "name": "python3"
  }
 },
 "nbformat": 4,
 "nbformat_minor": 5
}
