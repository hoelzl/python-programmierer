{
 "cells": [
  {
   "cell_type": "markdown",
   "id": "6c47106a",
   "metadata": {},
   "source": [
    "## Cäsar-Verschlüsselung\n",
    "\n",
    "Bei der Cäsar-Verschlüsselung werden die Buchstaben des zu verschlüsselnden\n",
    "Wortes im Alphabet um 3 Stellen verschoben, z.B. wird aus der Zeichenkette\n",
    "`ABC` die Zeichenkette `DEF`. Die letzten drei Buchstaben des Alphabets\n",
    "werden durch die ersten ersetzt, d.h. aus `XYZA` wird `ABCD`.\n",
    "\n",
    "Typischerweise wurden bei historischen Verschlüsselungsverfahren alle\n",
    "Buchstaben in Großbuchstaben umgewandelt. Leer- und Sonderzeichen werden\n",
    "ignoriert. So wird aus \"Ich kam, sah und siegte.\" der verschlüsselte Text\n",
    "\n",
    "```\n",
    "LFKNDPVDKXQGVLHJWH\n",
    "```"
   ]
  },
  {
   "cell_type": "markdown",
   "id": "c3cec90f",
   "metadata": {},
   "source": [
    "\n",
    "Schreiben Sie eine Funktion `encode_char(c: str)`, die einen String `c`,\n",
    "der nur aus einem einzigen Zeichen besteht, folgendermaßen verschlüsselt:\n",
    "\n",
    "- ist `c` einer der Buchstaben `a` bis `z` oder `A` bis `Z` so wird er, falls\n",
    "  nötig, in einen Großbuchstaben umgewandelt und mit der Cäsar-Verschlüsselung\n",
    "  verschlüsselt;\n",
    "- ist `c` eine Ziffer, so wird sie unverändert zurückgegeben;\n",
    "- andernfalls wird der leere String `\"\"` zurückgegeben.\n",
    "\n",
    "*Hinweis:* Die folgenden beiden Strings sind dabei hilfreich:"
   ]
  },
  {
   "cell_type": "code",
   "execution_count": null,
   "id": "43308da0",
   "metadata": {
    "tags": [
     "solution"
    ]
   },
   "outputs": [],
   "source": [
    "letters_in_alphabetical_order = \"ABCDEFGHIJKLMNOPQRSTUVWXYZ1234567890\"\n",
    "letters_in_encoded_order = \"DEFGHIJKLMNOPQRSTUVWXYZABC1234567890\""
   ]
  },
  {
   "cell_type": "code",
   "execution_count": null,
   "id": "2d01f4eb",
   "metadata": {
    "tags": [
     "solution"
    ]
   },
   "outputs": [],
   "source": [
    "def encode_char(c: str):\n",
    "    c_upper = c.upper()\n",
    "    if c_upper in letters_in_alphabetical_order:\n",
    "        index = letters_in_alphabetical_order.index(c_upper)\n",
    "        return letters_in_encoded_order[index]\n",
    "    else:\n",
    "        return \"\""
   ]
  },
  {
   "cell_type": "markdown",
   "id": "be2d65cf",
   "metadata": {},
   "source": [
    "Testen Sie Ihre Implementierung mit einigen Werten"
   ]
  },
  {
   "cell_type": "code",
   "execution_count": null,
   "id": "f073142a",
   "metadata": {
    "tags": [
     "solution"
    ]
   },
   "outputs": [],
   "source": [
    "encode_char(\"a\")"
   ]
  },
  {
   "cell_type": "code",
   "execution_count": null,
   "id": "8a8a1e31",
   "metadata": {
    "tags": [
     "solution"
    ]
   },
   "outputs": [],
   "source": [
    "encode_char(\"x\")"
   ]
  },
  {
   "cell_type": "code",
   "execution_count": null,
   "id": "3428b8f0",
   "metadata": {
    "tags": [
     "solution"
    ]
   },
   "outputs": [],
   "source": [
    "encode_char(\"3\")"
   ]
  },
  {
   "cell_type": "code",
   "execution_count": null,
   "id": "20382801",
   "metadata": {
    "tags": [
     "solution"
    ]
   },
   "outputs": [],
   "source": [
    "encode_char(\"!\")"
   ]
  },
  {
   "cell_type": "markdown",
   "id": "66ea8103",
   "metadata": {},
   "source": [
    "\n",
    "Schreiben Sie eine Funktion `encode_caesar(text: str)`, die einen String\n",
    "`text` mittels der Cäsar-Verschlüsselung verschlüsselt."
   ]
  },
  {
   "cell_type": "code",
   "execution_count": null,
   "id": "a2eb8a13",
   "metadata": {
    "tags": [
     "solution"
    ]
   },
   "outputs": [],
   "source": [
    "def encode_caesar(text: str):\n",
    "    return \"\".join(encode_char(c) for c in text)"
   ]
  },
  {
   "cell_type": "markdown",
   "id": "6e8c497b",
   "metadata": {},
   "source": [
    "Überprüfen Sie Ihr Programm mit den folgenden Beispielen:"
   ]
  },
  {
   "cell_type": "code",
   "execution_count": null,
   "id": "ca70c177",
   "metadata": {
    "tags": [
     "solution"
    ]
   },
   "outputs": [],
   "source": [
    "pangram = \"Sphinx of black quartz, judge my vow!\""
   ]
  },
  {
   "cell_type": "code",
   "execution_count": null,
   "id": "2614404c",
   "metadata": {
    "tags": [
     "solution"
    ]
   },
   "outputs": [],
   "source": [
    "encoded_pangram = encode_caesar(pangram)\n",
    "encoded_pangram"
   ]
  },
  {
   "cell_type": "code",
   "execution_count": null,
   "id": "9dcc4f6a",
   "metadata": {
    "tags": [
     "solution"
    ]
   },
   "outputs": [],
   "source": [
    "verlaine = \"\"\"\\\n",
    "1. Les sanglots longs\n",
    "2. Des violons\n",
    "3. De l'automne\n",
    "4. Blessent mon cœur\n",
    "5. D'une langueur\n",
    "6. Monotone.\n",
    "\n",
    "(Verlaine, 1866)\n",
    "Gesendet vom BBC 1944-06-01 um Operation Overlord anzukündigen\n",
    "\"\"\""
   ]
  },
  {
   "cell_type": "code",
   "execution_count": null,
   "id": "fba026d3",
   "metadata": {
    "tags": [
     "solution"
    ]
   },
   "outputs": [],
   "source": [
    "encoded_verlaine = encode_caesar(verlaine)\n",
    "encoded_verlaine"
   ]
  },
  {
   "cell_type": "markdown",
   "id": "bdf7e5fe",
   "metadata": {},
   "source": [
    "\n",
    "Schreiben Sie jetzt Funktionen `decode_char(c: str)` und `decode_caesar(\n",
    "text: str)`, die einen mit der Cäsar-Verschlüsselung verschlüsselten Text\n",
    "entschlüsseln. Um robust zu sein sollen diese Funktionen Zeichen, die nicht\n",
    "Buchstaben oder Ziffern sind unverändert zurückgeben."
   ]
  },
  {
   "cell_type": "code",
   "execution_count": null,
   "id": "083b9b60",
   "metadata": {
    "tags": [
     "solution"
    ]
   },
   "outputs": [],
   "source": [
    "def decode_char(c: str):\n",
    "    if c in letters_in_encoded_order:\n",
    "        index = letters_in_encoded_order.index(c)\n",
    "        return letters_in_alphabetical_order[index]\n",
    "    else:\n",
    "        return c"
   ]
  },
  {
   "cell_type": "code",
   "execution_count": null,
   "id": "c4713cf6",
   "metadata": {
    "tags": [
     "solution"
    ]
   },
   "outputs": [],
   "source": [
    "def decode_caesar(text: str):\n",
    "    return \"\".join(decode_char(c) for c in text)"
   ]
  },
  {
   "cell_type": "code",
   "execution_count": null,
   "id": "1c6cbca7",
   "metadata": {
    "tags": [
     "solution"
    ]
   },
   "outputs": [],
   "source": [
    "def decode_caesar2(text: str):\n",
    "    result = \"\"\n",
    "    for c in text:\n",
    "        result += decode_char(c)\n",
    "    return result"
   ]
  },
  {
   "cell_type": "markdown",
   "id": "24594b76",
   "metadata": {},
   "source": [
    "Testen Sie `decode_caesar()` mit `pangram` und `verlaine`."
   ]
  },
  {
   "cell_type": "code",
   "execution_count": null,
   "id": "fa995a19",
   "metadata": {
    "tags": [
     "solution"
    ]
   },
   "outputs": [],
   "source": [
    "decoded_pangram = decode_caesar(encoded_pangram)\n",
    "decoded_pangram"
   ]
  },
  {
   "cell_type": "code",
   "execution_count": null,
   "id": "0e0e1e1c",
   "metadata": {
    "tags": [
     "solution"
    ]
   },
   "outputs": [],
   "source": [
    "decoded_verlaine = decode_caesar(encoded_verlaine)\n",
    "print(decoded_verlaine)"
   ]
  },
  {
   "cell_type": "code",
   "execution_count": null,
   "id": "897d9745",
   "metadata": {
    "tags": [
     "solution"
    ]
   },
   "outputs": [],
   "source": [
    "assert decoded_pangram == decode_caesar2(encoded_pangram)"
   ]
  },
  {
   "cell_type": "code",
   "execution_count": null,
   "id": "846c79c8",
   "metadata": {
    "tags": [
     "solution"
    ]
   },
   "outputs": [],
   "source": [
    "assert decoded_verlaine == decode_caesar2(encoded_verlaine)"
   ]
  },
  {
   "cell_type": "markdown",
   "id": "ddb68d42",
   "metadata": {},
   "source": [
    "Entschlüsseln Sie den folgenden Text:\n",
    "```\n",
    "SDFN PB ERA ZLWK ILYH GRCHQ OLTXRU MXJV\n",
    "(SDQJUDP IURP QDVD'V VSDFH VKXWWOH SURJUDP)\n",
    "```"
   ]
  },
  {
   "cell_type": "code",
   "execution_count": null,
   "id": "8389ab79",
   "metadata": {
    "tags": [
     "solution"
    ]
   },
   "outputs": [],
   "source": [
    "secret_text = \"\"\"\\\n",
    "SDFN PB ERA ZLWK ILYH GRCHQ OLTXRU MXJV\n",
    "(SDQJUDP IURP QDVD'V VSDFH VKXWWOH SURJUDP)\\\n",
    "\"\"\"\n",
    "print(decode_caesar(secret_text))"
   ]
  },
  {
   "cell_type": "markdown",
   "id": "e2d341f3",
   "metadata": {
    "pycharm": {
     "is_executing": false,
     "name": "#%% md\n"
    }
   },
   "source": [
    "Die Funktionen `encode_char()` und `decode_char()` enthalten viel duplizierten\n",
    "Code. Können Sie eine Funktion `rot_n_char(...)` schreiben, die die\n",
    "Funktionalität beider Funktionen verallgemeinert?"
   ]
  },
  {
   "cell_type": "code",
   "execution_count": null,
   "id": "5d1538a7",
   "metadata": {
    "tags": [
     "solution"
    ]
   },
   "outputs": [],
   "source": [
    "def rot_n_char(c: str, n: int, keep_non_letters=False):\n",
    "    c_upper = c.upper()\n",
    "    if c_upper in letters_in_alphabetical_order:\n",
    "        source_index = letters_in_alphabetical_order.index(c_upper)\n",
    "        target_index = (source_index + n) % len(letters_in_alphabetical_order)\n",
    "        return letters_in_alphabetical_order[target_index]\n",
    "    elif keep_non_letters:\n",
    "        return c_upper\n",
    "    else:\n",
    "        return \"\""
   ]
  },
  {
   "cell_type": "markdown",
   "id": "48daccf3",
   "metadata": {},
   "source": [
    "\n",
    "Wie würden Sie `encode_caesar_2()` und `decode_caesar_2()` unter\n",
    "Zuhilfenahme dieser Funktion implementieren?"
   ]
  },
  {
   "cell_type": "code",
   "execution_count": null,
   "id": "67060254",
   "metadata": {
    "tags": [
     "solution"
    ]
   },
   "outputs": [],
   "source": [
    "def encode_caesar_2(text: str, keep_non_letters=False):\n",
    "    return \"\".join(rot_n_char(c, 3, keep_non_letters=keep_non_letters) for c in text)"
   ]
  },
  {
   "cell_type": "code",
   "execution_count": null,
   "id": "95c075b4",
   "metadata": {
    "tags": [
     "solution"
    ]
   },
   "outputs": [],
   "source": [
    "def decode_caesar_2(text: str):\n",
    "    return \"\".join(rot_n_char(c, -3, keep_non_letters=True) for c in text)"
   ]
  },
  {
   "cell_type": "markdown",
   "id": "4ed5e440",
   "metadata": {},
   "source": [
    "Testen Sie die neue Funktion mittels `secret_text` und `verlaine`.\n",
    "Sind alte und neue Implementierung kompatibel?"
   ]
  },
  {
   "cell_type": "code",
   "execution_count": null,
   "id": "1c7cce7b",
   "metadata": {
    "tags": [
     "solution"
    ]
   },
   "outputs": [],
   "source": [
    "print(decode_caesar_2(secret_text))"
   ]
  },
  {
   "cell_type": "code",
   "execution_count": null,
   "id": "7325b4c1",
   "metadata": {
    "tags": [
     "solution"
    ]
   },
   "outputs": [],
   "source": [
    "encoded_verlaine_2 = encode_caesar_2(verlaine, keep_non_letters=True)\n",
    "print(encoded_verlaine_2)"
   ]
  },
  {
   "cell_type": "code",
   "execution_count": null,
   "id": "9b81a157",
   "metadata": {
    "tags": [
     "solution"
    ]
   },
   "outputs": [],
   "source": [
    "print(decode_caesar_2(encoded_verlaine_2))"
   ]
  },
  {
   "cell_type": "code",
   "execution_count": null,
   "id": "7bf1d7fb",
   "metadata": {
    "tags": [
     "solution"
    ]
   },
   "outputs": [],
   "source": [
    "print(decode_caesar(encoded_verlaine_2))"
   ]
  },
  {
   "cell_type": "markdown",
   "id": "cbbc155a",
   "metadata": {},
   "source": [
    "Die Decodierung mit dem ursprünglichen Cäsar-Code zeigt, dass unsere neue\n",
    "Implementierung einen Fehler hat: sie vermischt Zahlen und Buchstaben. Wie\n",
    "können wir den Fehler beseitigen?"
   ]
  },
  {
   "cell_type": "code",
   "execution_count": null,
   "id": "c5678a8e",
   "metadata": {
    "tags": [
     "solution"
    ]
   },
   "outputs": [],
   "source": [
    "letters = \"ABCDEFGHIJKLMNOPQRSTUVWXYZ\"\n",
    "letters"
   ]
  },
  {
   "cell_type": "code",
   "execution_count": null,
   "id": "18a2e7d3",
   "metadata": {
    "tags": [
     "solution"
    ]
   },
   "outputs": [],
   "source": [
    "def rot_n_char(c: str, n: int, keep_non_letters=False):\n",
    "    c_upper = c.upper()\n",
    "    if c_upper in letters:\n",
    "        source_index = letters.index(c_upper)\n",
    "        target_index = (source_index + n) % len(letters)\n",
    "        return letters[target_index]\n",
    "    elif c.isnumeric() or keep_non_letters:\n",
    "        return c_upper\n",
    "    else:\n",
    "        return \"\"\n",
    "\n",
    "\n",
    "def encode_caesar_2(text: str, keep_non_letters=False):\n",
    "    return \"\".join(rot_n_char(c, 3, keep_non_letters=keep_non_letters) for c in text)\n",
    "\n",
    "\n",
    "def decode_caesar_2(text: str):\n",
    "    return \"\".join(rot_n_char(c, -3, keep_non_letters=True) for c in text)"
   ]
  },
  {
   "cell_type": "markdown",
   "id": "c6d5b114",
   "metadata": {},
   "source": [
    "Testen Sie die neue Implementierung indem Sie `secret_text` decodieren."
   ]
  },
  {
   "cell_type": "code",
   "execution_count": null,
   "id": "9343d0b3",
   "metadata": {
    "tags": [
     "solution"
    ]
   },
   "outputs": [],
   "source": [
    "print(decode_caesar_2(secret_text))"
   ]
  },
  {
   "cell_type": "markdown",
   "id": "d6c9aa97",
   "metadata": {},
   "source": [
    "Testen Sie die neue Implementierung mit `verlaine`."
   ]
  },
  {
   "cell_type": "code",
   "execution_count": null,
   "id": "a4f1f7ec",
   "metadata": {
    "tags": [
     "solution"
    ]
   },
   "outputs": [],
   "source": [
    "encoded_verlaine_2 = encode_caesar_2(verlaine, keep_non_letters=True)\n",
    "print(encoded_verlaine_2)"
   ]
  },
  {
   "cell_type": "code",
   "execution_count": null,
   "id": "918a2c41",
   "metadata": {
    "tags": [
     "solution"
    ]
   },
   "outputs": [],
   "source": [
    "print(decode_caesar_2(encoded_verlaine_2))"
   ]
  },
  {
   "cell_type": "code",
   "execution_count": null,
   "id": "1028c36e",
   "metadata": {
    "tags": [
     "solution"
    ]
   },
   "outputs": [],
   "source": [
    "print(decode_caesar(encoded_verlaine_2))"
   ]
  },
  {
   "cell_type": "code",
   "execution_count": null,
   "id": "0af51907",
   "metadata": {
    "tags": [
     "solution"
    ]
   },
   "outputs": [],
   "source": [
    "decode_caesar(encoded_verlaine_2) == decode_caesar_2(encoded_verlaine_2)"
   ]
  }
 ],
 "metadata": {
  "jupytext": {
   "encoding": "# -*- coding: utf-8 -*-",
   "formats": "ipynb"
  },
  "kernelspec": {
   "display_name": "Python 3 (ipykernel)",
   "language": "python",
   "name": "python3"
  }
 },
 "nbformat": 4,
 "nbformat_minor": 5
}
