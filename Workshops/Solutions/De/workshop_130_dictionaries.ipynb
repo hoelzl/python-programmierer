{
 "cells": [
  {
   "cell_type": "markdown",
   "id": "a7e39374",
   "metadata": {
    "lang": "de"
   },
   "source": [
    "## Worthäufigkeiten\n",
    "\n",
    "Schreiben Sie eine Funktion `zähle_worte(text: str) -> dict`, die ein\n",
    "Dictionary zurückgibt, das die Anzahl der Vorkommen aller Worte in `text`\n",
    "enthält. Zum Beispiel soll\n",
    "\n",
    "```\n",
    "zähle_worte(\"It was the best of times it was the worst of times\")\n",
    "```\n",
    "\n",
    "folgendes Dictionary zurückgeben:\n",
    "\n",
    "```\n",
    "{ 'it': 2,\n",
    "  'was': 2,\n",
    "  'the': 2,\n",
    "  'best': 1,\n",
    "  'of': 2,\n",
    "  'times': 2,\n",
    "  'worst': 1\n",
    "}\n",
    "```\n",
    "Beachten Sie, dass alle Wörter in Kleinbuchstaben umgewandelt wurden.\n",
    "\n",
    "###  Hinweise\n",
    "- Sie können einen String mit der Methode `string.split()` in eine\n",
    "  Liste von Wörtern umwandeln\n",
    "- Sie können einen String mit der Methode `string.lower()` in einen String\n",
    "  umwandeln, der nur aus Kleinbuchstaben besteht."
   ]
  },
  {
   "cell_type": "code",
   "execution_count": null,
   "id": "156ea186",
   "metadata": {
    "tags": [
     "solution"
    ]
   },
   "outputs": [],
   "source": [
    "def zähle_worte(text: str) -> dict:\n",
    "    words = text.lower().split()\n",
    "    result = {}\n",
    "    for word in words:\n",
    "        count = result.get(word, 0)\n",
    "        result[word] = count + 1\n",
    "    return result"
   ]
  },
  {
   "cell_type": "markdown",
   "id": "cfacdff9",
   "metadata": {
    "lang": "de"
   },
   "source": [
    "Testen Sie Ihre Implementierung mit dem folgenden String:"
   ]
  },
  {
   "cell_type": "code",
   "execution_count": null,
   "id": "de7d172e",
   "metadata": {},
   "outputs": [],
   "source": [
    "dickens = \"It was the best of times it was the worst of times\""
   ]
  },
  {
   "cell_type": "code",
   "execution_count": null,
   "id": "551ffe9b",
   "metadata": {
    "tags": [
     "solution"
    ]
   },
   "outputs": [],
   "source": [
    "zähle_worte(dickens)"
   ]
  },
  {
   "cell_type": "code",
   "execution_count": null,
   "id": "bbbb9208",
   "metadata": {
    "tags": [
     "solution"
    ]
   },
   "outputs": [],
   "source": [
    "from pprint import pprint\n",
    "\n",
    "pprint(zähle_worte(dickens), width=30)"
   ]
  },
  {
   "cell_type": "code",
   "execution_count": null,
   "id": "cda8b5d3",
   "metadata": {
    "tags": [
     "solution"
    ]
   },
   "outputs": [],
   "source": [
    "help(pprint)"
   ]
  },
  {
   "cell_type": "code",
   "execution_count": null,
   "id": "5043b26c",
   "metadata": {},
   "outputs": [],
   "source": []
  }
 ],
 "metadata": {
  "jupytext": {
   "encoding": "# -*- coding: utf-8 -*-",
   "formats": "ipynb"
  },
  "kernelspec": {
   "display_name": "Python 3 (ipykernel)",
   "language": "python",
   "name": "python3"
  }
 },
 "nbformat": 4,
 "nbformat_minor": 5
}
