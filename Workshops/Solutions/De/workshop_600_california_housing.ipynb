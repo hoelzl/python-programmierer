{
 "cells": [
  {
   "cell_type": "markdown",
   "id": "9a534204",
   "metadata": {
    "lang": "de"
   },
   "source": [
    "# Hauspreise in Californien"
   ]
  },
  {
   "cell_type": "code",
   "execution_count": null,
   "id": "dc02379e",
   "metadata": {},
   "outputs": [],
   "source": [
    "from pathlib import Path\n",
    "import pandas as pd"
   ]
  },
  {
   "cell_type": "code",
   "execution_count": null,
   "id": "5b2b00ef",
   "metadata": {},
   "outputs": [],
   "source": [
    "pandas_data_path = Path(r\"C:\\Users\\tc\\Programming\\Python\\Courses\\Own\\python-programmierer\\Data\\Pandas\")\n",
    "california_housing_csv_path = pandas_data_path / \"california-housing.csv\""
   ]
  },
  {
   "cell_type": "markdown",
   "id": "d1e0e553",
   "metadata": {
    "lang": "de"
   },
   "source": [
    "## Laden des Datensatzes\n",
    "\n",
    "Laden Sie die CSV-Datei `california_housing_csv_path` als \n",
    "Pandas DataFrame. Importieren Sie dabei keine\n",
    "Spalten ohne Informationsgehalt."
   ]
  },
  {
   "cell_type": "code",
   "execution_count": null,
   "id": "97b93e20",
   "metadata": {
    "tags": [
     "solution"
    ]
   },
   "outputs": [],
   "source": [
    "df = pd.read_csv(california_housing_csv_path, index_col=0)"
   ]
  },
  {
   "cell_type": "code",
   "execution_count": null,
   "id": "2f787ce0",
   "metadata": {
    "lines_to_next_cell": 2,
    "tags": [
     "solution"
    ]
   },
   "outputs": [],
   "source": [
    "df"
   ]
  },
  {
   "cell_type": "markdown",
   "id": "300ff6a1",
   "metadata": {
    "lang": "de"
   },
   "source": [
    "Wie viele Zeilen hat der DataFrame?"
   ]
  },
  {
   "cell_type": "code",
   "execution_count": null,
   "id": "063e6b6c",
   "metadata": {
    "lines_to_next_cell": 2,
    "tags": [
     "solution"
    ]
   },
   "outputs": [],
   "source": [
    "len(df)"
   ]
  },
  {
   "cell_type": "markdown",
   "id": "d7b01ea1",
   "metadata": {
    "lang": "de"
   },
   "source": [
    "Welche Spalten hat der DataFrame? \n",
    "Gibt es Spalten im DataFrame die undefinierte Werte (NA) enthalten?"
   ]
  },
  {
   "cell_type": "code",
   "execution_count": null,
   "id": "852a5481",
   "metadata": {
    "tags": [
     "solution"
    ]
   },
   "outputs": [],
   "source": [
    "df.columns"
   ]
  },
  {
   "cell_type": "code",
   "execution_count": null,
   "id": "af0771bd",
   "metadata": {
    "lines_to_next_cell": 2
   },
   "outputs": [],
   "source": [
    "# This is true if `notna()` drops rows, i.e., if \n",
    "df.isna().sum()"
   ]
  },
  {
   "cell_type": "markdown",
   "id": "24e2fe4f",
   "metadata": {
    "lang": "de"
   },
   "source": [
    "\n",
    "Was sind Minimum, Maximum, Mittelwert und\n",
    "Standardabweichung der einzelnen Spalten?"
   ]
  },
  {
   "cell_type": "code",
   "execution_count": null,
   "id": "947db79c",
   "metadata": {
    "tags": [
     "solution"
    ]
   },
   "outputs": [],
   "source": [
    "df.describe()"
   ]
  },
  {
   "cell_type": "markdown",
   "id": "b9038c8e",
   "metadata": {
    "lang": "de"
   },
   "source": [
    "Erzeugen Sie Histogramme der einzelnen Spalten.\n",
    "Welche Auffälligkeiten gibt es dabei?"
   ]
  },
  {
   "cell_type": "code",
   "execution_count": null,
   "id": "831e5be0",
   "metadata": {
    "tags": [
     "solution"
    ]
   },
   "outputs": [],
   "source": [
    "df.hist(bins=30, figsize=(12, 8))"
   ]
  },
  {
   "cell_type": "markdown",
   "id": "f2fbbf4e",
   "metadata": {
    "lang": "de"
   },
   "source": [
    "\n",
    "Erzeugen Sie einen neuen DataFrame, der nur die Zeilen enthält, deren `Target`\n",
    "Wert größer als 4 ist. Wie viele einträge hat dieser DataFrame?"
   ]
  },
  {
   "cell_type": "code",
   "execution_count": null,
   "id": "5acc2c68",
   "metadata": {
    "tags": [
     "solution"
    ]
   },
   "outputs": [],
   "source": [
    "df_expensive = df[df[\"Target\"] > 4]"
   ]
  },
  {
   "cell_type": "code",
   "execution_count": null,
   "id": "6d5de8b8",
   "metadata": {
    "lines_to_next_cell": 2,
    "tags": [
     "solution"
    ]
   },
   "outputs": [],
   "source": [
    "df_expensive"
   ]
  },
  {
   "cell_type": "markdown",
   "id": "df8fcdfa",
   "metadata": {
    "lang": "de"
   },
   "source": [
    "\n",
    "Plotten Sie Longitude vs. Latitude als Scatterplot. Was können Sie aus diesem\n",
    "Plot ablesen?\n",
    "\n",
    "Mit dem Keyword-Argument `c` können Sie einen Spaltennamen angeben, deren\n",
    "Werte die Farbe der Ausgabe bestimmen. Mit `cmap` können Sie eine Colormap\n",
    "dafür angeben. Mit dem Keyword-Argument `alpha` können Sie die Transparenz der\n",
    "Ausgabe steuern.\n",
    "\n",
    "Experimentieren Sie mit diesen Werten um die Ausgabe informativer zu\n",
    "gestalten."
   ]
  },
  {
   "cell_type": "code",
   "execution_count": null,
   "id": "e899853a",
   "metadata": {
    "tags": [
     "solution"
    ]
   },
   "outputs": [],
   "source": [
    "df.plot(\n",
    "    kind=\"scatter\",\n",
    "    x=\"Longitude\",\n",
    "    y=\"Latitude\",\n",
    "    figsize=(10, 8),\n",
    "    alpha=0.4,\n",
    "    c=\"Target\",\n",
    "    cmap=\"hot\",\n",
    ")"
   ]
  },
  {
   "cell_type": "markdown",
   "id": "ee8fdc20",
   "metadata": {
    "lang": "de",
    "lines_to_next_cell": 2
   },
   "source": [
    "Wie sieht die entsprechende Ausgabe für den DataFrame aus, der nur\n",
    "teure Häuser enthält?"
   ]
  },
  {
   "cell_type": "code",
   "execution_count": null,
   "id": "4f2f97b8",
   "metadata": {
    "lines_to_next_cell": 2,
    "tags": [
     "solution"
    ]
   },
   "outputs": [],
   "source": [
    "df_expensive.plot(\n",
    "    kind=\"scatter\",\n",
    "    x=\"Longitude\",\n",
    "    y=\"Latitude\",\n",
    "    figsize=(10, 8),\n",
    "    alpha=0.4,\n",
    "    c=\"Target\",\n",
    "    cmap=\"hot\",\n",
    ")"
   ]
  },
  {
   "cell_type": "markdown",
   "id": "e975c689",
   "metadata": {
    "lang": "de"
   },
   "source": [
    "\n",
    "Falls Sie Seaborn installiert haben können Sie mit `seaborn.pairplot()` ein\n",
    "Grid mit Scatterplots aus allen möglichen Kombinationen von Spalten erzeugen.\n",
    "Mit dem Keyword-Argument `hue` können Sie dabei eine Spalte angeben, die die\n",
    "Farbe der Ausgabe bestimmt.\n",
    "\n",
    "Welche der Plots liefern interessante Informationen? Welche Werte sind für\n",
    "`hue` interessant?\n",
    "\n",
    "*Hinweis:* Es empfiehlt sich, die Anzahl der Werte auf z.B. 500 oder 1000 zu\n",
    "beschränken um die Zeit, die die Erzeugung der Plots dauert in Grenzen zu\n",
    "halten."
   ]
  },
  {
   "cell_type": "code",
   "execution_count": null,
   "id": "d7f628d2",
   "metadata": {
    "tags": [
     "solution"
    ]
   },
   "outputs": [],
   "source": [
    "import seaborn as sns\n",
    "sns.pairplot(df.iloc[:500])"
   ]
  },
  {
   "cell_type": "code",
   "execution_count": null,
   "id": "8f9384c7",
   "metadata": {
    "lines_to_next_cell": 2,
    "tags": [
     "solution"
    ]
   },
   "outputs": [],
   "source": [
    "sns.pairplot(df.iloc[:500], hue=\"Target\")"
   ]
  },
  {
   "cell_type": "code",
   "execution_count": null,
   "id": "2645e793",
   "metadata": {
    "tags": [
     "solution"
    ]
   },
   "outputs": [],
   "source": [
    "sns.pairplot(df.iloc[:500], hue=\"MedInc\")"
   ]
  },
  {
   "cell_type": "code",
   "execution_count": null,
   "id": "6e26f155",
   "metadata": {
    "tags": [
     "solution"
    ]
   },
   "outputs": [],
   "source": [
    "sns.pairplot(df_expensive)"
   ]
  }
 ],
 "metadata": {
  "jupytext": {
   "encoding": "# -*- coding: utf-8 -*-",
   "formats": "ipynb"
  },
  "kernelspec": {
   "display_name": "Python 3 (ipykernel)",
   "language": "python",
   "name": "python3"
  }
 },
 "nbformat": 4,
 "nbformat_minor": 5
}
