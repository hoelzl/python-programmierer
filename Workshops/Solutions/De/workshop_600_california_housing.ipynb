{
 "cells": [
  {
   "cell_type": "markdown",
   "id": "44fc7af8",
   "metadata": {
    "lang": "de"
   },
   "source": [
    "# Hauspreise in Californien"
   ]
  },
  {
   "cell_type": "code",
   "execution_count": null,
   "id": "def3c3cd",
   "metadata": {},
   "outputs": [],
   "source": [
    "from pathlib import Path\n",
    "import numpy as np\n",
    "import pandas as pd"
   ]
  },
  {
   "cell_type": "code",
   "execution_count": null,
   "id": "86f8b3d0",
   "metadata": {},
   "outputs": [],
   "source": [
    "pandas_data_path = Path(\n",
    "    r\"C:\\Users\\tc\\Programming\\Python\\Courses\\Own\\python-programmierer\\Data\\Pandas\"\n",
    ")\n",
    "california_housing_csv_path = pandas_data_path / \"california-housing.csv\""
   ]
  },
  {
   "cell_type": "markdown",
   "id": "46cfd6e5",
   "metadata": {
    "lang": "de"
   },
   "source": [
    "## Laden des Datensatzes\n",
    "\n",
    "Laden Sie die CSV-Datei `california_housing_csv_path` als\n",
    "Pandas DataFrame. Importieren Sie dabei keine\n",
    "Spalten ohne Informationsgehalt."
   ]
  },
  {
   "cell_type": "code",
   "execution_count": null,
   "id": "572e81e4",
   "metadata": {
    "tags": [
     "solution"
    ]
   },
   "outputs": [],
   "source": [
    "df = pd.read_csv(california_housing_csv_path, index_col=0)"
   ]
  },
  {
   "cell_type": "code",
   "execution_count": null,
   "id": "c325df0e",
   "metadata": {
    "lines_to_next_cell": 2,
    "tags": [
     "solution"
    ]
   },
   "outputs": [],
   "source": [
    "df"
   ]
  },
  {
   "cell_type": "markdown",
   "id": "36a928bf",
   "metadata": {
    "lang": "de"
   },
   "source": [
    "Wie viele Zeilen hat der DataFrame?"
   ]
  },
  {
   "cell_type": "code",
   "execution_count": null,
   "id": "a27bbc9e",
   "metadata": {
    "lines_to_next_cell": 2,
    "tags": [
     "solution"
    ]
   },
   "outputs": [],
   "source": [
    "len(df)"
   ]
  },
  {
   "cell_type": "markdown",
   "id": "29e1fa18",
   "metadata": {
    "lang": "de"
   },
   "source": [
    "Welche Spalten hat der DataFrame?\n",
    "Gibt es Spalten im DataFrame die undefinierte Werte (NA) enthalten?"
   ]
  },
  {
   "cell_type": "code",
   "execution_count": null,
   "id": "1a362b54",
   "metadata": {
    "tags": [
     "solution"
    ]
   },
   "outputs": [],
   "source": [
    "df.columns"
   ]
  },
  {
   "cell_type": "code",
   "execution_count": null,
   "id": "83184aa0",
   "metadata": {
    "lines_to_next_cell": 2
   },
   "outputs": [],
   "source": [
    "# This is true if `notna()` drops rows, i.e., if\n",
    "df.isna().sum()"
   ]
  },
  {
   "cell_type": "markdown",
   "id": "91762255",
   "metadata": {
    "lang": "de"
   },
   "source": [
    "\n",
    "Was sind Minimum, Maximum, Mittelwert und\n",
    "Standardabweichung der einzelnen Spalten?"
   ]
  },
  {
   "cell_type": "code",
   "execution_count": null,
   "id": "7bf4fb4e",
   "metadata": {
    "tags": [
     "solution"
    ]
   },
   "outputs": [],
   "source": [
    "df.describe()"
   ]
  },
  {
   "cell_type": "markdown",
   "id": "3daf023c",
   "metadata": {
    "lang": "de"
   },
   "source": [
    "Erzeugen Sie Histogramme der einzelnen Spalten.\n",
    "Welche Auffälligkeiten gibt es dabei?"
   ]
  },
  {
   "cell_type": "code",
   "execution_count": null,
   "id": "1365b4b5",
   "metadata": {
    "tags": [
     "solution"
    ]
   },
   "outputs": [],
   "source": [
    "df.hist(bins=30, figsize=(12, 8))"
   ]
  },
  {
   "cell_type": "markdown",
   "id": "967636e5",
   "metadata": {
    "lang": "de"
   },
   "source": [
    "\n",
    "Erzeugen Sie einen neuen DataFrame, der nur die Zeilen enthält, deren `Target`\n",
    "Wert größer als 4 ist. Wie viele einträge hat dieser DataFrame?"
   ]
  },
  {
   "cell_type": "code",
   "execution_count": null,
   "id": "5a2a31f4",
   "metadata": {
    "tags": [
     "solution"
    ]
   },
   "outputs": [],
   "source": [
    "df_expensive = df[df[\"Target\"] > 4]"
   ]
  },
  {
   "cell_type": "code",
   "execution_count": null,
   "id": "f60d7ec3",
   "metadata": {
    "lines_to_next_cell": 2,
    "tags": [
     "solution"
    ]
   },
   "outputs": [],
   "source": [
    "df_expensive"
   ]
  },
  {
   "cell_type": "markdown",
   "id": "3297976f",
   "metadata": {
    "lang": "de"
   },
   "source": [
    "\n",
    "Plotten Sie Longitude vs. Latitude als Scatterplot. Was können Sie aus diesem\n",
    "Plot ablesen?\n",
    "\n",
    "Mit dem Keyword-Argument `c` können Sie einen Spaltennamen angeben, deren\n",
    "Werte die Farbe der Ausgabe bestimmen. Mit `cmap` können Sie eine Colormap\n",
    "dafür angeben. Mit dem Keyword-Argument `alpha` können Sie die Transparenz der\n",
    "Ausgabe steuern.\n",
    "\n",
    "Experimentieren Sie mit diesen Werten um die Ausgabe informativer zu\n",
    "gestalten."
   ]
  },
  {
   "cell_type": "code",
   "execution_count": null,
   "id": "e543db91",
   "metadata": {
    "tags": [
     "solution"
    ]
   },
   "outputs": [],
   "source": [
    "df.plot(\n",
    "    kind=\"scatter\",\n",
    "    x=\"Longitude\",\n",
    "    y=\"Latitude\",\n",
    "    figsize=(10, 8),\n",
    "    alpha=0.4,\n",
    "    c=\"Target\",\n",
    "    cmap=\"hot\",\n",
    ")"
   ]
  },
  {
   "cell_type": "markdown",
   "id": "0b826255",
   "metadata": {
    "lang": "de",
    "lines_to_next_cell": 2
   },
   "source": [
    "Wie sieht die entsprechende Ausgabe für den DataFrame aus, der nur\n",
    "teure Häuser enthält?"
   ]
  },
  {
   "cell_type": "code",
   "execution_count": null,
   "id": "b79615c5",
   "metadata": {
    "lines_to_next_cell": 2,
    "tags": [
     "solution"
    ]
   },
   "outputs": [],
   "source": [
    "df_expensive.plot(\n",
    "    kind=\"scatter\",\n",
    "    x=\"Longitude\",\n",
    "    y=\"Latitude\",\n",
    "    figsize=(10, 8),\n",
    "    alpha=0.4,\n",
    "    c=\"Target\",\n",
    "    cmap=\"hot\",\n",
    ")"
   ]
  },
  {
   "cell_type": "markdown",
   "id": "6435bdbb",
   "metadata": {
    "lang": "de"
   },
   "source": [
    "\n",
    "Falls Sie Seaborn installiert haben können Sie mit `seaborn.pairplot()` ein\n",
    "Grid mit Scatterplots aus allen möglichen Kombinationen von Spalten erzeugen.\n",
    "Mit dem Keyword-Argument `hue` können Sie dabei eine Spalte angeben, die die\n",
    "Farbe der Ausgabe bestimmt.\n",
    "\n",
    "Welche der Plots liefern interessante Informationen? Welche Werte sind für\n",
    "`hue` interessant?\n",
    "\n",
    "*Hinweis:* Es empfiehlt sich, die Anzahl der Werte auf z.B. 500 oder 1000 zu\n",
    "beschränken um die Zeit, die die Erzeugung der Plots dauert in Grenzen zu\n",
    "halten."
   ]
  },
  {
   "cell_type": "code",
   "execution_count": null,
   "id": "380920d1",
   "metadata": {
    "tags": [
     "solution"
    ]
   },
   "outputs": [],
   "source": [
    "import seaborn as sns\n",
    "\n",
    "# sns.pairplot(df.iloc[:500])"
   ]
  },
  {
   "cell_type": "code",
   "execution_count": null,
   "id": "43e36b62",
   "metadata": {
    "tags": [
     "solution"
    ]
   },
   "outputs": [],
   "source": [
    "# sns.pairplot(df.iloc[:500], hue=\"Target\")"
   ]
  },
  {
   "cell_type": "code",
   "execution_count": null,
   "id": "8d2e7821",
   "metadata": {
    "tags": [
     "solution"
    ]
   },
   "outputs": [],
   "source": [
    "# sns.pairplot(df.iloc[:500], hue=\"MedInc\")"
   ]
  },
  {
   "cell_type": "code",
   "execution_count": null,
   "id": "8d807e2c",
   "metadata": {
    "tags": [
     "solution"
    ]
   },
   "outputs": [],
   "source": [
    "# sns.pairplot(df_expensive)"
   ]
  },
  {
   "cell_type": "code",
   "execution_count": null,
   "id": "d6d6fd5c",
   "metadata": {
    "tags": [
     "solution"
    ]
   },
   "outputs": [],
   "source": [
    "df.columns"
   ]
  },
  {
   "cell_type": "code",
   "execution_count": null,
   "id": "a872451c",
   "metadata": {
    "tags": [
     "solution"
    ]
   },
   "outputs": [],
   "source": [
    "np.set_printoptions(precision=2)"
   ]
  },
  {
   "cell_type": "code",
   "execution_count": null,
   "id": "85d33ab0",
   "metadata": {
    "tags": [
     "solution"
    ]
   },
   "outputs": [],
   "source": [
    "x = df[\n",
    "    [\n",
    "        \"MedInc\",\n",
    "        \"HouseAge\",\n",
    "        \"AveRooms\",\n",
    "        \"AveBedrms\",\n",
    "        \"Population\",\n",
    "        \"AveOccup\",\n",
    "        \"Latitude\",\n",
    "        \"Longitude\",\n",
    "    ]\n",
    "].to_numpy()\n",
    "y = df[\"Target\"].to_numpy()\n",
    "x.shape, y.shape"
   ]
  },
  {
   "cell_type": "code",
   "execution_count": null,
   "id": "4a4e8275",
   "metadata": {
    "tags": [
     "solution"
    ]
   },
   "outputs": [],
   "source": [
    "NUM_TRAINING_SAMPLES = 15_000"
   ]
  },
  {
   "cell_type": "code",
   "execution_count": null,
   "id": "eedcd539",
   "metadata": {
    "tags": [
     "solution"
    ]
   },
   "outputs": [],
   "source": [
    "x_train, x_test = x[:NUM_TRAINING_SAMPLES], x[NUM_TRAINING_SAMPLES:]\n",
    "y_train, y_test = y[:NUM_TRAINING_SAMPLES], y[NUM_TRAINING_SAMPLES:]\n",
    "x_train.shape, x_test.shape, y_train.shape, y_test.shape"
   ]
  },
  {
   "cell_type": "code",
   "execution_count": null,
   "id": "bbffe431",
   "metadata": {
    "tags": [
     "solution"
    ]
   },
   "outputs": [],
   "source": [
    "from sklearn.linear_model import LinearRegression\n",
    "from sklearn.tree import DecisionTreeRegressor\n",
    "from sklearn.ensemble import RandomForestRegressor\n",
    "from sklearn.metrics import mean_absolute_error, mean_squared_error"
   ]
  },
  {
   "cell_type": "code",
   "execution_count": null,
   "id": "97354eca",
   "metadata": {
    "tags": [
     "solution"
    ]
   },
   "outputs": [],
   "source": [
    "lr_model = LinearRegression()\n",
    "lr_model.fit(x_train, y_train)"
   ]
  },
  {
   "cell_type": "code",
   "execution_count": null,
   "id": "1fd5e369",
   "metadata": {
    "lines_to_next_cell": 1,
    "tags": [
     "solution"
    ]
   },
   "outputs": [],
   "source": [
    "lr_pred = lr_model.predict(x_test)"
   ]
  },
  {
   "cell_type": "code",
   "execution_count": null,
   "id": "95545dab",
   "metadata": {
    "tags": [
     "solution"
    ]
   },
   "outputs": [],
   "source": [
    "def print_score(y_true, y_pred):\n",
    "    mae = mean_absolute_error(y_true, y_pred)\n",
    "    mse = mean_squared_error(y_true, y_pred)\n",
    "    print(f\"Mean: {np.mean(y_true):.3f}\")\n",
    "    print(f\"MAE%: {mae/np.mean(y_true):.3f}\")\n",
    "    print(f\"MAE:  {mae:.3f}\")\n",
    "    print(f\"MSE:  {mse:.3f}\")"
   ]
  },
  {
   "cell_type": "code",
   "execution_count": null,
   "id": "a68e881a",
   "metadata": {
    "tags": [
     "solution"
    ]
   },
   "outputs": [],
   "source": [
    "print_score(y_test, lr_pred)"
   ]
  },
  {
   "cell_type": "code",
   "execution_count": null,
   "id": "3a06c98c",
   "metadata": {
    "tags": [
     "solution"
    ]
   },
   "outputs": [],
   "source": [
    "dt_model = DecisionTreeRegressor()\n",
    "dt_model.fit(x_train, y_train)"
   ]
  },
  {
   "cell_type": "code",
   "execution_count": null,
   "id": "a653e411",
   "metadata": {
    "tags": [
     "solution"
    ]
   },
   "outputs": [],
   "source": [
    "dt_pred = dt_model.predict(x_test)"
   ]
  },
  {
   "cell_type": "code",
   "execution_count": null,
   "id": "bbc3503c",
   "metadata": {
    "tags": [
     "solution"
    ]
   },
   "outputs": [],
   "source": [
    "print_score(y_test, dt_pred)"
   ]
  },
  {
   "cell_type": "code",
   "execution_count": null,
   "id": "7f3fbca7",
   "metadata": {
    "tags": [
     "solution"
    ]
   },
   "outputs": [],
   "source": [
    "rf_model = RandomForestRegressor(n_jobs=32)\n",
    "rf_model.fit(x_train, y_train)"
   ]
  },
  {
   "cell_type": "code",
   "execution_count": null,
   "id": "ac335c27",
   "metadata": {
    "tags": [
     "solution"
    ]
   },
   "outputs": [],
   "source": [
    "rf_pred = rf_model.predict(x_test)"
   ]
  },
  {
   "cell_type": "code",
   "execution_count": null,
   "id": "31a6452d",
   "metadata": {
    "tags": [
     "solution"
    ]
   },
   "outputs": [],
   "source": [
    "print_score(y_test, rf_pred)"
   ]
  },
  {
   "cell_type": "code",
   "execution_count": null,
   "id": "f06c575d",
   "metadata": {
    "tags": [
     "solution"
    ]
   },
   "outputs": [],
   "source": [
    "x_train[:3]"
   ]
  },
  {
   "cell_type": "code",
   "execution_count": null,
   "id": "69dbaf25",
   "metadata": {
    "tags": [
     "solution"
    ]
   },
   "outputs": [],
   "source": [
    "from sklearn.preprocessing import StandardScaler"
   ]
  },
  {
   "cell_type": "code",
   "execution_count": null,
   "id": "a5ef9f60",
   "metadata": {
    "tags": [
     "solution"
    ]
   },
   "outputs": [],
   "source": [
    "scaler = StandardScaler()\n",
    "x_train = scaler.fit_transform(x_train)\n",
    "x_test = scaler.transform(x_test)"
   ]
  },
  {
   "cell_type": "code",
   "execution_count": null,
   "id": "09b65ab4",
   "metadata": {},
   "outputs": [],
   "source": [
    "x_train[:3]"
   ]
  },
  {
   "cell_type": "code",
   "execution_count": null,
   "id": "acf4d90f",
   "metadata": {
    "tags": [
     "solution"
    ]
   },
   "outputs": [],
   "source": [
    "lr_model = LinearRegression()\n",
    "lr_model.fit(x_train, y_train)"
   ]
  },
  {
   "cell_type": "code",
   "execution_count": null,
   "id": "f9b0b70d",
   "metadata": {
    "tags": [
     "solution"
    ]
   },
   "outputs": [],
   "source": [
    "lr_pred = lr_model.predict(x_test)"
   ]
  },
  {
   "cell_type": "code",
   "execution_count": null,
   "id": "1f233349",
   "metadata": {
    "tags": [
     "solution"
    ]
   },
   "outputs": [],
   "source": [
    "print_score(y_test, lr_pred)"
   ]
  },
  {
   "cell_type": "code",
   "execution_count": null,
   "id": "6ea4cb9b",
   "metadata": {
    "tags": [
     "solution"
    ]
   },
   "outputs": [],
   "source": [
    "dt_model = DecisionTreeRegressor()\n",
    "dt_model.fit(x_train, y_train)"
   ]
  },
  {
   "cell_type": "code",
   "execution_count": null,
   "id": "5e362c0c",
   "metadata": {
    "tags": [
     "solution"
    ]
   },
   "outputs": [],
   "source": [
    "dt_pred = dt_model.predict(x_test)"
   ]
  },
  {
   "cell_type": "code",
   "execution_count": null,
   "id": "763c1a36",
   "metadata": {
    "tags": [
     "solution"
    ]
   },
   "outputs": [],
   "source": [
    "print_score(y_test, dt_pred)"
   ]
  },
  {
   "cell_type": "code",
   "execution_count": null,
   "id": "a06a6f75",
   "metadata": {
    "tags": [
     "solution"
    ]
   },
   "outputs": [],
   "source": [
    "rf_model = RandomForestRegressor(n_jobs=32)\n",
    "rf_model.fit(x_train, y_train)"
   ]
  },
  {
   "cell_type": "code",
   "execution_count": null,
   "id": "d1f1d00f",
   "metadata": {
    "tags": [
     "solution"
    ]
   },
   "outputs": [],
   "source": [
    "rf_pred = rf_model.predict(x_test)"
   ]
  },
  {
   "cell_type": "code",
   "execution_count": null,
   "id": "a4ef8911",
   "metadata": {
    "tags": [
     "solution"
    ]
   },
   "outputs": [],
   "source": [
    "print_score(y_test, rf_pred)"
   ]
  },
  {
   "cell_type": "code",
   "execution_count": null,
   "id": "8253d837",
   "metadata": {
    "tags": [
     "solution"
    ]
   },
   "outputs": [],
   "source": []
  },
  {
   "cell_type": "code",
   "execution_count": null,
   "id": "71194fde",
   "metadata": {
    "tags": [
     "solution"
    ]
   },
   "outputs": [],
   "source": []
  },
  {
   "cell_type": "code",
   "execution_count": null,
   "id": "ec1a6b98",
   "metadata": {
    "tags": [
     "solution"
    ]
   },
   "outputs": [],
   "source": []
  },
  {
   "cell_type": "code",
   "execution_count": null,
   "id": "c9c32b09",
   "metadata": {
    "tags": [
     "solution"
    ]
   },
   "outputs": [],
   "source": []
  },
  {
   "cell_type": "code",
   "execution_count": null,
   "id": "fca825e3",
   "metadata": {
    "tags": [
     "solution"
    ]
   },
   "outputs": [],
   "source": []
  }
 ],
 "metadata": {
  "jupytext": {
   "encoding": "# -*- coding: utf-8 -*-",
   "formats": "ipynb"
  },
  "kernelspec": {
   "display_name": "Python 3 (ipykernel)",
   "language": "python",
   "name": "python3"
  }
 },
 "nbformat": 4,
 "nbformat_minor": 5
}
