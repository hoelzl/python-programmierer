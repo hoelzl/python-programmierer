{
 "cells": [
  {
   "cell_type": "markdown",
   "id": "a783dd55",
   "metadata": {},
   "source": [
    "# Grid World\n",
    "\n",
    "In den folgenden Abschnitten sollen die grundlegenden Komponenten eines\n",
    "2D-Rollenspiels implementiert werden."
   ]
  },
  {
   "cell_type": "markdown",
   "id": "1c036e40",
   "metadata": {},
   "source": [
    "## Rechteckiges Spielfeld (Level)\n",
    "- Größe (w x h) wird beim Erzeugen des Spielfelds festgelegt\n",
    "- Das Spielfeld kann seine Breite und Länge (width, height)\n",
    "  und die Anzahl der Felder (size) zurückgeben\n",
    "- Jedes einzelne \"Feld\" im Spielfeld ist ein Location-Objekt\n",
    "- Jede Location kennt ihre Nachbarn in die 4 Himmelsrichtungen\n",
    "  (N, O, S, W)\n",
    "- Bei Locations, die am Rand liegen verweisen die Nachbarn, die\n",
    "  außerhalb des Spielfelds liegen würden, auf das\n",
    "  Location-Objekt \n",
    "- Jede Location kennt ihre Cartesischen Koordinaten (w, h)\n",
    "- Jede Location kennt ihren Level "
   ]
  },
  {
   "cell_type": "markdown",
   "id": "8e516ec2",
   "metadata": {},
   "source": [
    "## Factory zum Erzeugen eines Spielfelds (LevelFactory)\n",
    "- Kann Spielfelder für verschiedene Dimensionen und\n",
    "  Schwierigkeitsgrade erzeugen\n",
    "- Verwendet eine LevelPopulationStrategy um (abhängig vom\n",
    "  Schwierigkeitsgrad) Objekte im Level zu verteilen\n",
    "- Implementieren Sie im Moment nur das Interface für eine\n",
    "  LevelPopulationStrategy, keine wirkliche Strategie\n",
    "- Wie können Sie unter diesen Umständen die LevelFactory\n",
    "  testen?"
   ]
  },
  {
   "cell_type": "markdown",
   "id": "2b2abd10",
   "metadata": {},
   "source": [
    "## Abstrakter Character\n",
    "- Erstellen Sie eine Klasse AbstractCharacter, die folgende\n",
    "  Funktionalität bietet:\n",
    "  - Abfrage des Namen des Characters\n",
    "  - Abfrage der Location, auf der sich der Character befindet\n",
    "  - Bewegen auf dem Spielfeld\n",
    "  - Sterben des Characters\n",
    "- Alle wesentlichen Ereignisse des AbstractCharacters sollen\n",
    "  mit Observern beobachtbar sein (Creation, Move, Death)\n",
    "- AbstractCharacter soll außerhalb des Core-Rings liegen.\n",
    "  Wie können Sie die Abhängigkeiten korrekt behandeln?"
   ]
  },
  {
   "cell_type": "markdown",
   "id": "967b1c11",
   "metadata": {},
   "source": [
    "## LevelPopulationStrategy (1)\n",
    "- Schreiben Sie eine LevelPopulationStrategy\n",
    "  LevelPopulationStrategy_LeaveLevelEmpty, die einen Level ohne zusätzliche\n",
    "  Elemente erzeugt"
   ]
  },
  {
   "cell_type": "markdown",
   "id": "5e335f37",
   "metadata": {},
   "source": [
    "## Spieler/NPCs\n",
    "- Erstellen Sie Unterklassen von AbstractCharacter für Spieler\n",
    "  und NPCs\n",
    "- Jeder Character soll jetzt zusätzlich folgende Funktionen\n",
    "  haben:\n",
    "  - getAttitudeTowardsPlayer() (neutral, freundlich, feindlich)\n",
    "  - tick() um periodisch das Verhalten voranzutreiben\n",
    "- Das Verhalten von NPCs soll über eine Behavior Strategie\n",
    "  gesteuert werden.\n",
    "- Die \"Anweisungen\" der Behavior Strategie sollen in der Form\n",
    "  des Command Patterns implementiert werden.\n",
    "- Implementieren Sie Behaviors und Commands, die eine Bewegung\n",
    "  von NPCs in zufälliger Richtung erreichen\n",
    "- Implementieren Sie ein Command, das die Bewegung eines Characters\n",
    "  in eine bestimmte (bei der Erzeugung des Commands wählbare)\n",
    "  Richtung ermöglicht\n",
    "  \n",
    "- Implementieren Sie einen Builder für NPCs"
   ]
  },
  {
   "cell_type": "markdown",
   "id": "085daa2b",
   "metadata": {},
   "source": [
    "## LevelPopulationStrategy (2)\n",
    "- Schreiben Sie eine LevelPopulationStrategy\n",
    "  LevelPopulationStrategy_DistributeRandomElements, die das Spielfeld zufällig\n",
    "  mit freundlichen und feindlichen NPCs bevölkert. Die Anzahl der NPCs soll\n",
    "  dabei in Abhängigkeit von der Anzahl der Felder (Level.size()) und des\n",
    "  Schwierigkeitsgrads angepasst werden\n",
    "\n",
    "- Implementieren Sie eine Funktion Character::attack(...), um einen\n",
    "  anderen Character anzugreifen"
   ]
  },
  {
   "cell_type": "code",
   "execution_count": null,
   "id": "90651870",
   "metadata": {},
   "outputs": [],
   "source": []
  }
 ],
 "metadata": {
  "jupytext": {
   "encoding": "# -*- coding: utf-8 -*-",
   "formats": "ipynb"
  },
  "kernelspec": {
   "display_name": "Python 3 (ipykernel)",
   "language": "python",
   "name": "python3"
  }
 },
 "nbformat": 4,
 "nbformat_minor": 5
}
