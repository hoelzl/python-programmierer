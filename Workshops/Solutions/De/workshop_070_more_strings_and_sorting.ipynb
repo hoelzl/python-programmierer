{
 "cells": [
  {
   "cell_type": "markdown",
   "id": "090f95fa",
   "metadata": {
    "lang": "de"
   },
   "source": [
    "# Shout\n",
    "\n",
    "Schreiben Sie eine Funktion `shout(text)`, die `text` in Großbuchstaben,\n",
    "gefolgt von drei Außrufezeichen auf dem Bildschirm ausgibt."
   ]
  },
  {
   "cell_type": "code",
   "execution_count": null,
   "id": "57100cfd",
   "metadata": {
    "tags": [
     "solution"
    ]
   },
   "outputs": [],
   "source": [
    "def shout(text):\n",
    "    print(f\"{text.upper()}!!!\")"
   ]
  },
  {
   "cell_type": "markdown",
   "id": "1151f055",
   "metadata": {
    "lang": "de"
   },
   "source": [
    "Testen Sie die Funktion mit Argument `\"Hallo\"`"
   ]
  },
  {
   "cell_type": "code",
   "execution_count": null,
   "id": "dd7f4759",
   "metadata": {
    "tags": [
     "solution"
    ]
   },
   "outputs": [],
   "source": [
    "shout(\"Hallo\")"
   ]
  },
  {
   "cell_type": "markdown",
   "id": "f1fa0ceb",
   "metadata": {
    "lang": "de"
   },
   "source": [
    "# Vergleichen von Strings"
   ]
  },
  {
   "cell_type": "markdown",
   "id": "be7af521",
   "metadata": {
    "lang": "de"
   },
   "source": [
    "Ist `Abc` kleiner als `aBC`?"
   ]
  },
  {
   "cell_type": "code",
   "execution_count": null,
   "id": "24c9bb93",
   "metadata": {
    "tags": [
     "solution"
    ]
   },
   "outputs": [],
   "source": [
    "\"Abc\" < \"aBC\""
   ]
  },
  {
   "cell_type": "markdown",
   "id": "99d4255d",
   "metadata": {
    "lang": "de"
   },
   "source": [
    "Ist gleichzeitig `abc` kleiner als `abcd` und `abcd` kleiner als `abd`?"
   ]
  },
  {
   "cell_type": "code",
   "execution_count": null,
   "id": "a72b3910",
   "metadata": {
    "tags": [
     "solution"
    ]
   },
   "outputs": [],
   "source": [
    "\"abc\" < \"abcd\" < \"abd\""
   ]
  },
  {
   "cell_type": "markdown",
   "id": "fdd0ce0e",
   "metadata": {
    "lang": "de"
   },
   "source": [
    "# Begrüßung 1\n",
    "\n",
    "Schreiben Sie eine Funktion `drucke_begrüßung(name)`, die eine personalisierte\n",
    "Begrüßung ausgibt, z.B.\n",
    "```\n",
    "Hallo, Hans!\n",
    "Schön Sie heute wieder bei uns begrüßen zu dürfen.\n",
    "Wir wünschen Ihnen viel Spaß, Hans.\n",
    "```\n",
    "Verwenden Sie dazu die `print()`-Funktion mit einem Argument und\n",
    "String-Konkatenation."
   ]
  },
  {
   "cell_type": "code",
   "execution_count": null,
   "id": "4972ae21",
   "metadata": {
    "tags": [
     "solution"
    ]
   },
   "outputs": [],
   "source": [
    "def drucke_begrüßung(name):\n",
    "    print(\n",
    "        \"Hallo, \"\n",
    "        + name\n",
    "        + \"!\\n\"\n",
    "        + \"Schön Sie heute wieder bei uns begrüßen zu dürfen.\\n\"\n",
    "        + \"Wir wünschen Ihnen viel Spaß, \"\n",
    "        + name\n",
    "        + \".\"\n",
    "    )\n",
    "\n",
    "\n",
    "drucke_begrüßung(\"Hans\")"
   ]
  },
  {
   "cell_type": "markdown",
   "id": "47237e46",
   "metadata": {
    "lang": "de"
   },
   "source": [
    "# Begrüßung 2\n",
    "\n",
    "Schreiben Sie eine Funktion `drucke_begrüßung_2(name)`, die die\n",
    "Funktionalität von `drucke_begrüßung(name)` mittels F-Strings implementiert."
   ]
  },
  {
   "cell_type": "code",
   "execution_count": null,
   "id": "98a6a5b8",
   "metadata": {
    "tags": [
     "solution"
    ]
   },
   "outputs": [],
   "source": [
    "def drucke_begrüßung_2(name):\n",
    "    print(\n",
    "        f\"Hallo, {name}!\\n\"\n",
    "        f\"Schön Sie heute wieder bei uns begrüßen zu dürfen.\"\n",
    "        f\"Wir wünschen Ihnen viel Spaß, {name}.\"\n",
    "    )\n",
    "\n",
    "\n",
    "drucke_begrüßung_2(\"Sepp\")"
   ]
  },
  {
   "cell_type": "markdown",
   "id": "175f3b67",
   "metadata": {
    "lang": "de"
   },
   "source": [
    "# Piraten, Teil 4\n",
    "\n",
    "Das Ausdrucken der Beute-Aufteilund mittels\n",
    "`drucke_aufteilung_der_beute(dublonen, piraten)` verbraucht zu viel Papier.\n",
    "\n",
    "Implementieren Sie eine neue Version der Funktion, die den folgenden Text\n",
    "ausgibt:\n",
    "\n",
    "```\n",
    "Jeder der 8 Piraten erhält 2 der 17 Golddublonen. Der Kapitän erhält extra 1 Golddublone.\n",
    "```\n",
    "bzw.\n",
    "```\n",
    "Jeder der 8 Piraten erhält 2 der 17 Golddublonen. Der Kapitän erhält extra 2 Golddublonen.\n",
    "```\n",
    "\n",
    "Verwenden Sie F-Strings um die Ausgabetexte zu erzeugen. Sie können die\n",
    "folgende Funktion verwenden, um die Aufteilung der Beute zu berechnen:"
   ]
  },
  {
   "cell_type": "code",
   "execution_count": null,
   "id": "54a5f3d6",
   "metadata": {},
   "outputs": [],
   "source": [
    "def teile_beute_auf(dublonen, piraten):\n",
    "    dublonen_pro_pirat = dublonen // piraten\n",
    "    dublonen_kapitän = dublonen % piraten\n",
    "    return dublonen_pro_pirat, dublonen_kapitän"
   ]
  },
  {
   "cell_type": "code",
   "execution_count": null,
   "id": "8f0f797b",
   "metadata": {
    "tags": [
     "solution"
    ]
   },
   "outputs": [],
   "source": [
    "def drucke_aufteilung_der_beute(dublonen, piraten):\n",
    "    dublonen_pro_pirat, dublonen_kapitän = teile_beute_auf(dublonen, piraten)\n",
    "    if dublonen_kapitän == 1:\n",
    "        print(\n",
    "            f\"Jeder der {piraten} Piraten erhält {dublonen_pro_pirat} \"\n",
    "            f\"der {dublonen} Golddublonen. \"\n",
    "            f\"Der Kapitän erhält extra 1 Golddublone.\"\n",
    "        )\n",
    "    else:\n",
    "        print(\n",
    "            f\"Jeder der {piraten} Piraten erhält {dublonen_pro_pirat} \"\n",
    "            f\"der {dublonen} Golddublonen. \"\n",
    "            f\"Der Kapitän erhält extra {dublonen_kapitän} Golddublonen.\"\n",
    "        )"
   ]
  },
  {
   "cell_type": "code",
   "execution_count": null,
   "id": "3b7f7479",
   "metadata": {
    "tags": [
     "solution"
    ]
   },
   "outputs": [],
   "source": [
    "drucke_aufteilung_der_beute(1000, 11)\n",
    "drucke_aufteilung_der_beute(17, 8)"
   ]
  },
  {
   "cell_type": "code",
   "execution_count": null,
   "id": "ec02d70a",
   "metadata": {
    "tags": [
     "solution"
    ]
   },
   "outputs": [],
   "source": [
    "def drucke_aufteilung_der_beute_v2(dublonen, piraten):\n",
    "    dublonen_pro_pirat, dublonen_kapitän = teile_beute_auf(dublonen, piraten)\n",
    "    print(\n",
    "        f\"Jeder der {piraten} Piraten erhält {dublonen_pro_pirat} \"\n",
    "        f\"der {dublonen} Golddublonen. \"\n",
    "        f\"Der Kapitän erhält extra {dublonen_kapitän} Golddublone\"\n",
    "        f'{\"\" if dublonen_kapitän == 1 else \"n\"}.'\n",
    "    )"
   ]
  },
  {
   "cell_type": "code",
   "execution_count": null,
   "id": "31303450",
   "metadata": {
    "tags": [
     "solution"
    ]
   },
   "outputs": [],
   "source": [
    "drucke_aufteilung_der_beute_v2(1000, 11)\n",
    "drucke_aufteilung_der_beute_v2(17, 8)"
   ]
  }
 ],
 "metadata": {
  "jupytext": {
   "encoding": "# -*- coding: utf-8 -*-",
   "formats": "ipynb"
  },
  "kernelspec": {
   "display_name": "Python 3 (ipykernel)",
   "language": "python",
   "name": "python3"
  }
 },
 "nbformat": 4,
 "nbformat_minor": 5
}
