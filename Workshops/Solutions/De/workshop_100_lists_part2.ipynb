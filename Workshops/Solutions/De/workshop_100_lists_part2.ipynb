{
 "cells": [
  {
   "cell_type": "markdown",
   "id": "2b5992db",
   "metadata": {
    "lang": "de"
   },
   "source": [
    "# Farben\n",
    "\n",
    "Definieren Sie eine Variable `farben`, die eine Liste mit den Strings\n",
    "`Rot`, `Grün` und `Blau` enthält."
   ]
  },
  {
   "cell_type": "code",
   "execution_count": null,
   "id": "d40944dd",
   "metadata": {
    "tags": [
     "solution"
    ]
   },
   "outputs": [],
   "source": [
    "farben = [\"Rot\", \"Grün\", \"Blau\"]"
   ]
  },
  {
   "cell_type": "markdown",
   "id": "8041c9ea",
   "metadata": {
    "lang": "de"
   },
   "source": [
    "Überprüfen Sie, ob der String `Gelb` in `farben` enthalten ist"
   ]
  },
  {
   "cell_type": "code",
   "execution_count": null,
   "id": "e2023dd6",
   "metadata": {
    "tags": [
     "solution"
    ]
   },
   "outputs": [],
   "source": [
    "\"Gelb\" in farben"
   ]
  },
  {
   "cell_type": "markdown",
   "id": "b08ba061",
   "metadata": {
    "lang": "de"
   },
   "source": [
    "Fügen Sie `Gelb` zu den Farben hinzu."
   ]
  },
  {
   "cell_type": "code",
   "execution_count": null,
   "id": "4d6b08fa",
   "metadata": {
    "tags": [
     "solution"
    ]
   },
   "outputs": [],
   "source": [
    "farben.append(\"Gelb\")"
   ]
  },
  {
   "cell_type": "markdown",
   "id": "761fe04b",
   "metadata": {
    "lang": "de"
   },
   "source": [
    "Überprüfen Sie nochmals, ob `Gelb` in den Farben enthalten ist."
   ]
  },
  {
   "cell_type": "code",
   "execution_count": null,
   "id": "d22a9b62",
   "metadata": {
    "tags": [
     "solution"
    ]
   },
   "outputs": [],
   "source": [
    "\"Gelb\" in farben"
   ]
  },
  {
   "cell_type": "markdown",
   "id": "3b34343c",
   "metadata": {
    "lang": "de"
   },
   "source": [
    "Wie viele Farben enthält die in `farben` gespeicherte Liste jetzt?"
   ]
  },
  {
   "cell_type": "code",
   "execution_count": null,
   "id": "f1422f37",
   "metadata": {
    "tags": [
     "solution"
    ]
   },
   "outputs": [],
   "source": [
    "len(farben)"
   ]
  },
  {
   "cell_type": "markdown",
   "id": "076ffeef",
   "metadata": {
    "lang": "de"
   },
   "source": [
    "Ändern Sie das erste Element von `farben` in `Dunkelrot`"
   ]
  },
  {
   "cell_type": "code",
   "execution_count": null,
   "id": "88317e46",
   "metadata": {
    "tags": [
     "solution"
    ]
   },
   "outputs": [],
   "source": [
    "farben[0] = \"Dunkelrot\""
   ]
  },
  {
   "cell_type": "markdown",
   "id": "dd0d9fcb",
   "metadata": {
    "lang": "de"
   },
   "source": [
    "Fügen Sie `Lila` als zweites Element in die Liste ein."
   ]
  },
  {
   "cell_type": "code",
   "execution_count": null,
   "id": "b1860187",
   "metadata": {
    "tags": [
     "solution"
    ]
   },
   "outputs": [],
   "source": [
    "farben.insert(1, \"Lila\")"
   ]
  },
  {
   "cell_type": "markdown",
   "id": "27b8622e",
   "metadata": {
    "lang": "de"
   },
   "source": [
    "Was ist das dritte Element der Liste `farben`?"
   ]
  },
  {
   "cell_type": "code",
   "execution_count": null,
   "id": "a0092231",
   "metadata": {
    "tags": [
     "solution"
    ]
   },
   "outputs": [],
   "source": [
    "farben[2]"
   ]
  },
  {
   "cell_type": "markdown",
   "id": "be3f8bbb",
   "metadata": {
    "lang": "de"
   },
   "source": [
    "Löschen Sie das zweite Element der Liste `farben`"
   ]
  },
  {
   "cell_type": "code",
   "execution_count": null,
   "id": "119c1ea5",
   "metadata": {
    "tags": [
     "solution"
    ]
   },
   "outputs": [],
   "source": [
    "del farben[1]"
   ]
  },
  {
   "cell_type": "markdown",
   "id": "34647c3c",
   "metadata": {
    "lang": "de"
   },
   "source": [
    "Was ist das dritte Element der Liste `farben` jetzt?"
   ]
  },
  {
   "cell_type": "code",
   "execution_count": null,
   "id": "54c7a5ff",
   "metadata": {
    "tags": [
     "solution"
    ]
   },
   "outputs": [],
   "source": [
    "farben[2]"
   ]
  },
  {
   "cell_type": "markdown",
   "id": "1c50458b",
   "metadata": {
    "lang": "de"
   },
   "source": [
    "# Slicing"
   ]
  },
  {
   "cell_type": "code",
   "execution_count": null,
   "id": "bb082588",
   "metadata": {},
   "outputs": [],
   "source": [
    "my_list = [0, 1, 2, 3, 4, 5, 6, 7, 8, 9]"
   ]
  },
  {
   "cell_type": "markdown",
   "id": "efc2c34e",
   "metadata": {
    "lang": "de"
   },
   "source": [
    "Extrahieren Sie von `my_list` eine Liste mit allen Elementen außer den ersten beiden."
   ]
  },
  {
   "cell_type": "code",
   "execution_count": null,
   "id": "a3abb1b3",
   "metadata": {
    "tags": [
     "solution"
    ]
   },
   "outputs": [],
   "source": [
    "my_list[2:]"
   ]
  },
  {
   "cell_type": "markdown",
   "id": "6645904f",
   "metadata": {
    "lang": "de"
   },
   "source": [
    "Extrahieren Sie von `my_list` eine Liste, die aus dem 2. und 3. Element besteht."
   ]
  },
  {
   "cell_type": "code",
   "execution_count": null,
   "id": "652b5832",
   "metadata": {
    "tags": [
     "solution"
    ]
   },
   "outputs": [],
   "source": [
    "my_list[1:3]"
   ]
  },
  {
   "cell_type": "markdown",
   "id": "a99c07db",
   "metadata": {
    "lang": "de"
   },
   "source": [
    "Extrahieren Sie von `my_list` eine neue Liste, die alle Elemente außer dem\n",
    "ersten und dem letzten enthält."
   ]
  },
  {
   "cell_type": "code",
   "execution_count": null,
   "id": "2561939e",
   "metadata": {
    "tags": [
     "solution"
    ]
   },
   "outputs": [],
   "source": [
    "my_list[1:-1]"
   ]
  },
  {
   "cell_type": "markdown",
   "id": "b84d5d7e",
   "metadata": {
    "lang": "de"
   },
   "source": [
    "# Finden in Listen\n",
    "\n",
    "Schreiben Sie eine Funktion `finde_erste_gerade_zahl(liste)`, die den Index\n",
    "der ersten geraden Zahl in einer Liste von ganzen Zahlen zurückgibt. Falls\n",
    "die Liste keine gerade Zahl enthält soll die Funktion `None` zurückgeben."
   ]
  },
  {
   "cell_type": "code",
   "execution_count": null,
   "id": "2b5eff90",
   "metadata": {
    "tags": [
     "solution"
    ]
   },
   "outputs": [],
   "source": [
    "def finde_erste_gerade_zahl(liste):\n",
    "    result = None\n",
    "    for index, zahl in enumerate(liste):\n",
    "        if zahl % 2 == 0:\n",
    "            result = index\n",
    "            break\n",
    "    return result"
   ]
  },
  {
   "cell_type": "markdown",
   "id": "4e6830d2",
   "metadata": {
    "lang": "de"
   },
   "source": [
    "Testen Sie die Funktion für geeignete Argumente."
   ]
  },
  {
   "cell_type": "code",
   "execution_count": null,
   "id": "876c731c",
   "metadata": {
    "tags": [
     "solution"
    ]
   },
   "outputs": [],
   "source": [
    "assert finde_erste_gerade_zahl([1, 3, 5, 2, 4, 6]) == 3\n",
    "assert finde_erste_gerade_zahl([1, 3]) is None\n",
    "assert finde_erste_gerade_zahl([0, 1, 2, 3]) == 0"
   ]
  },
  {
   "cell_type": "markdown",
   "id": "30a36ceb",
   "metadata": {
    "lang": "de"
   },
   "source": [
    "## Mittelwert einer Liste\n",
    "\n",
    "Der Mittelwert einer Liste mit $n$ Elementen $[x_0, \\dots, x_{n-1}]$ ist\n",
    "definiert als\n",
    "\n",
    "$$\\frac{x_0 + \\dots + x_{n-1}}{n}$$\n",
    "\n",
    "Schreiben Sie eine Funktion `mittelwert(liste)`, die den Mittelwert einer\n",
    "Liste berechnet."
   ]
  },
  {
   "cell_type": "code",
   "execution_count": null,
   "id": "8808f2b5",
   "metadata": {
    "tags": [
     "solution"
    ]
   },
   "outputs": [],
   "source": [
    "def mittelwert(zahlen):\n",
    "    if zahlen:\n",
    "        ergebnis = 0\n",
    "        for zahl in zahlen:\n",
    "            ergebnis += zahl\n",
    "        return ergebnis / len(zahlen)\n",
    "    return 0"
   ]
  },
  {
   "cell_type": "markdown",
   "id": "309f7d96",
   "metadata": {
    "lang": "de",
    "pycharm": {
     "name": "#%% md\n"
    }
   },
   "source": [
    "Testen Sie die Funktion für geeignete Argumente."
   ]
  },
  {
   "cell_type": "code",
   "execution_count": null,
   "id": "628b1d70",
   "metadata": {
    "tags": [
     "solution"
    ]
   },
   "outputs": [],
   "source": [
    "assert mittelwert([1, 2, 3]) == 2.0"
   ]
  },
  {
   "cell_type": "code",
   "execution_count": null,
   "id": "1614d167",
   "metadata": {
    "tags": [
     "solution"
    ]
   },
   "outputs": [],
   "source": [
    "assert mittelwert([]) == 0"
   ]
  },
  {
   "cell_type": "markdown",
   "id": "3ca53700",
   "metadata": {
    "lang": "de"
   },
   "source": [
    "**Zusatzaufgabe:** Der Mittelwert der Elemente einer Liste kann iterativ\n",
    "folgendermaßen berechnet werden:\n",
    "\n",
    "- Der Mittelwert $m$ der leeren Liste ist (per Definition für diese Lösung) 0\n",
    "- Wenn wir das $n+1$-te Element $x_{n+1}$ hinzufügen, so wird der neue\n",
    "  Mittelwert berechnet als\n",
    "\n",
    "$$m \\leftarrow m + \\frac{1}{n+1}(x_{n+1} - m)$$\n",
    "\n",
    "Schreiben Sie eine Funktion `iterativer_mittelwert(liste)`, die den\n",
    "Mittelwert einer Liste iterativ berechnet.\n"
   ]
  },
  {
   "cell_type": "code",
   "execution_count": null,
   "id": "8247ed58",
   "metadata": {
    "tags": [
     "solution"
    ]
   },
   "outputs": [],
   "source": [
    "def iterativer_mittelwert(zahlen):\n",
    "    ergebnis = 0\n",
    "    for index, value in enumerate(zahlen):\n",
    "        ergebnis += (value - ergebnis) / (index + 1)\n",
    "    return ergebnis"
   ]
  },
  {
   "cell_type": "code",
   "execution_count": null,
   "id": "0bfc5d00",
   "metadata": {
    "tags": [
     "solution"
    ]
   },
   "outputs": [],
   "source": [
    "assert iterativer_mittelwert([]) == 0.0"
   ]
  },
  {
   "cell_type": "code",
   "execution_count": null,
   "id": "5b9a7b22",
   "metadata": {
    "tags": [
     "solution"
    ]
   },
   "outputs": [],
   "source": [
    "assert iterativer_mittelwert([1]) == 1.0"
   ]
  },
  {
   "cell_type": "code",
   "execution_count": null,
   "id": "f474f676",
   "metadata": {
    "tags": [
     "solution"
    ]
   },
   "outputs": [],
   "source": [
    "assert iterativer_mittelwert([1, 2, 3]) == 2.0"
   ]
  },
  {
   "cell_type": "code",
   "execution_count": null,
   "id": "9249fba2",
   "metadata": {
    "tags": [
     "solution"
    ]
   },
   "outputs": [],
   "source": [
    "assert iterativer_mittelwert(range(11)) == 5.0"
   ]
  },
  {
   "cell_type": "code",
   "execution_count": null,
   "id": "9cf7a549",
   "metadata": {
    "tags": [
     "solution"
    ]
   },
   "outputs": [],
   "source": [
    "def assert_mittelwert_equal(liste):\n",
    "    assert iterativer_mittelwert(liste) == mittelwert(liste)"
   ]
  },
  {
   "cell_type": "code",
   "execution_count": null,
   "id": "e8f8b9ac",
   "metadata": {
    "tags": [
     "solution"
    ]
   },
   "outputs": [],
   "source": [
    "assert_mittelwert_equal([])\n",
    "assert_mittelwert_equal([1, 2, 3])\n",
    "assert_mittelwert_equal(list(range(10)))"
   ]
  },
  {
   "cell_type": "markdown",
   "id": "f1d71cc8",
   "metadata": {
    "lang": "de"
   },
   "source": [
    "# Quadratzahlen\n",
    "\n",
    "Gegeben sei die folgende Liste mit Zahlen."
   ]
  },
  {
   "cell_type": "code",
   "execution_count": null,
   "id": "4c419737",
   "metadata": {},
   "outputs": [],
   "source": [
    "numbers = [1, 7, 4, 87, 23]"
   ]
  },
  {
   "cell_type": "markdown",
   "id": "ab68222c",
   "metadata": {
    "lang": "de"
   },
   "source": [
    "Erzeugen Sie eine neue Liste, die die Quadrate der Zahlen in `numbers` enthält."
   ]
  },
  {
   "cell_type": "code",
   "execution_count": null,
   "id": "54fedb52",
   "metadata": {
    "tags": [
     "solution"
    ]
   },
   "outputs": [],
   "source": [
    "result = []\n",
    "for n in numbers:\n",
    "    result.append(n * n)\n",
    "result"
   ]
  },
  {
   "cell_type": "markdown",
   "id": "23f30f99",
   "metadata": {
    "lang": "de"
   },
   "source": [
    "Schreiben Sie eine Funktion `quadriere(zahlen)`, die eine neue Liste mit den\n",
    "Quadraten der Zahlen in `zahlen` zurückgibt."
   ]
  },
  {
   "cell_type": "code",
   "execution_count": null,
   "id": "a5eddccd",
   "metadata": {
    "tags": [
     "solution"
    ]
   },
   "outputs": [],
   "source": [
    "def quadriere(zahlen):\n",
    "    result = []\n",
    "    for n in zahlen:\n",
    "        result.append(n * n)\n",
    "    return result"
   ]
  },
  {
   "cell_type": "code",
   "execution_count": null,
   "id": "df923bab",
   "metadata": {
    "tags": [
     "solution"
    ]
   },
   "outputs": [],
   "source": [
    "assert quadriere(numbers) == [1, 49, 16, 7569, 529]"
   ]
  },
  {
   "cell_type": "markdown",
   "id": "846c9427",
   "metadata": {
    "lang": "de"
   },
   "source": [
    "# Quadratzahlen mit Listen-Komprehension\n",
    "\n",
    "Erzeugen Sie eine neue Liste mit den Quadraten von `numbers`. Verwenden Sie\n",
    "dazu eine Listen-Komprehension"
   ]
  },
  {
   "cell_type": "code",
   "execution_count": null,
   "id": "0ba9130b",
   "metadata": {
    "tags": [
     "solution"
    ]
   },
   "outputs": [],
   "source": [
    "[n * n for n in numbers]"
   ]
  },
  {
   "cell_type": "markdown",
   "id": "1dc93485",
   "metadata": {
    "lang": "de"
   },
   "source": [
    "Schreiben Sie die Funktion `quadriere(zahlen)` mit Listen-Komprehension."
   ]
  },
  {
   "cell_type": "code",
   "execution_count": null,
   "id": "a69de1e5",
   "metadata": {
    "tags": [
     "solution"
    ]
   },
   "outputs": [],
   "source": [
    "def quadriere(zahlen):\n",
    "    return [n * n for n in zahlen]"
   ]
  },
  {
   "cell_type": "code",
   "execution_count": null,
   "id": "f47af919",
   "metadata": {
    "tags": [
     "solution"
    ]
   },
   "outputs": [],
   "source": [
    "quadriere(numbers)"
   ]
  },
  {
   "cell_type": "markdown",
   "id": "8f05f273",
   "metadata": {
    "lang": "de"
   },
   "source": [
    "# Filtern\n",
    "\n",
    "Gegeben sei die folgende Liste mit Zahlen:"
   ]
  },
  {
   "cell_type": "code",
   "execution_count": null,
   "id": "4eb23f77",
   "metadata": {},
   "outputs": [],
   "source": [
    "numbers = [1, 183, 7, 4, 87, 10, 23, -12, 493, 11]"
   ]
  },
  {
   "cell_type": "markdown",
   "id": "644afe02",
   "metadata": {
    "lang": "de"
   },
   "source": [
    "Erzeugen Sie eine neue Liste, die alle Zahlen in `numbers` enthält, die größer als 10 sind."
   ]
  },
  {
   "cell_type": "code",
   "execution_count": null,
   "id": "4559dcc3",
   "metadata": {
    "tags": [
     "solution"
    ]
   },
   "outputs": [],
   "source": [
    "result = []\n",
    "for n in numbers:\n",
    "    if n > 10:\n",
    "        result.append(n)\n",
    "result"
   ]
  },
  {
   "cell_type": "markdown",
   "id": "f450c549",
   "metadata": {
    "lang": "de"
   },
   "source": [
    "Schreiben Sie eine Funktion `zahlen_größer_als_10(zahlen)`, die eine neue\n",
    "Liste zurückgibt, die die Zahlen aus `zahlen` enthält, die größer als 10 sind."
   ]
  },
  {
   "cell_type": "code",
   "execution_count": null,
   "id": "d3adfbb5",
   "metadata": {
    "tags": [
     "solution"
    ]
   },
   "outputs": [],
   "source": [
    "def zahlen_größer_als_10(zahlen):\n",
    "    result = []\n",
    "    for n in zahlen:\n",
    "        if n > 10:\n",
    "            result.append(n)\n",
    "    return result"
   ]
  },
  {
   "cell_type": "code",
   "execution_count": null,
   "id": "c555b158",
   "metadata": {
    "tags": [
     "solution"
    ]
   },
   "outputs": [],
   "source": [
    "assert zahlen_größer_als_10(numbers) == [183, 87, 23, 493, 11]"
   ]
  },
  {
   "cell_type": "markdown",
   "id": "17a1794f",
   "metadata": {
    "lang": "de"
   },
   "source": [
    "# Filtern mit Listen-Komprehension\n",
    "\n",
    "Erzeugen Sie eine neue Liste, die alle Zahlen in `numbers` enthält, die größer\n",
    "als 10 sind. Verwenden Sie dazu Listen-Komprehension."
   ]
  },
  {
   "cell_type": "code",
   "execution_count": null,
   "id": "0db63ecf",
   "metadata": {
    "tags": [
     "solution"
    ]
   },
   "outputs": [],
   "source": [
    "[n for n in numbers if n > 10]"
   ]
  },
  {
   "cell_type": "markdown",
   "id": "5fbcf2dd",
   "metadata": {
    "lang": "de"
   },
   "source": [
    "Schreiben Sie die Funktion `zahlen_größer_als_10(zahlen)` mit\n",
    "Listen-Komprehension."
   ]
  },
  {
   "cell_type": "code",
   "execution_count": null,
   "id": "7d30633c",
   "metadata": {
    "tags": [
     "solution"
    ]
   },
   "outputs": [],
   "source": [
    "def zahlen_größer_als_10(zahlen):\n",
    "    return [n for n in zahlen if n > 10]"
   ]
  },
  {
   "cell_type": "code",
   "execution_count": null,
   "id": "f00895b3",
   "metadata": {
    "tags": [
     "solution"
    ]
   },
   "outputs": [],
   "source": [
    "assert zahlen_größer_als_10(numbers) == [183, 87, 23, 493, 11]"
   ]
  },
  {
   "cell_type": "markdown",
   "id": "481700d8",
   "metadata": {
    "lang": "de"
   },
   "source": [
    "\n",
    "Schreiben Sie eine Funktion `quadrate_von_zahlen_kleiner_10( zahlen)`,\n",
    "die eine neue Liste zurückgibt, die die Quadrate aller Zahlen < 10 aus\n",
    "`zahlen` enthält."
   ]
  },
  {
   "cell_type": "code",
   "execution_count": null,
   "id": "7547fa6d",
   "metadata": {
    "tags": [
     "solution"
    ]
   },
   "outputs": [],
   "source": [
    "def quadrate_von_zahlen_kleiner_10(zahlen):\n",
    "    return [n * n for n in zahlen if n < 10]"
   ]
  },
  {
   "cell_type": "code",
   "execution_count": null,
   "id": "3d573188",
   "metadata": {},
   "outputs": [],
   "source": [
    "numbers"
   ]
  },
  {
   "cell_type": "code",
   "execution_count": null,
   "id": "ab547bb1",
   "metadata": {
    "tags": [
     "solution"
    ]
   },
   "outputs": [],
   "source": [
    "assert quadrate_von_zahlen_kleiner_10(numbers) == [1, 49, 16, 144]"
   ]
  },
  {
   "cell_type": "markdown",
   "id": "ea49e1bc",
   "metadata": {
    "lang": "de"
   },
   "source": [
    "# Generatoren"
   ]
  },
  {
   "cell_type": "markdown",
   "id": "80a683a2",
   "metadata": {
    "lang": "de"
   },
   "source": [
    "## Generator für Quadratzahlen\n",
    "\n",
    "Schreiben Sie einen Generator, der die ersten 10 Quadratzahlen erzeugt."
   ]
  },
  {
   "cell_type": "code",
   "execution_count": null,
   "id": "da5bd9c5",
   "metadata": {
    "tags": [
     "solution"
    ]
   },
   "outputs": [],
   "source": [
    "gen = (i * i for i in range(1, 11))"
   ]
  },
  {
   "cell_type": "code",
   "execution_count": null,
   "id": "f0957fee",
   "metadata": {
    "tags": [
     "solution"
    ]
   },
   "outputs": [],
   "source": [
    "for i in gen:\n",
    "    print(i, end=\" \")"
   ]
  },
  {
   "cell_type": "markdown",
   "id": "805a0a37",
   "metadata": {
    "lang": "de"
   },
   "source": [
    "## Take\n",
    "\n",
    "Schreiben Sie eine Funktion `take(n: int, it)` die ein Iterable `it` als\n",
    "Argument bekommt und ein neues Iterable zurückgibt, das die ersten `n`\n",
    "Elemente von `it` liefert."
   ]
  },
  {
   "cell_type": "code",
   "execution_count": null,
   "id": "492df926",
   "metadata": {
    "tags": [
     "solution"
    ]
   },
   "outputs": [],
   "source": [
    "def take(n, it):\n",
    "    for i, elt in enumerate(it):\n",
    "        if i >= n:\n",
    "            break\n",
    "        yield elt"
   ]
  },
  {
   "cell_type": "code",
   "execution_count": null,
   "id": "2f8e4dff",
   "metadata": {
    "tags": [
     "solution"
    ]
   },
   "outputs": [],
   "source": [
    "for i in take(4, range(20)):\n",
    "    print(i, end=\" \")"
   ]
  },
  {
   "cell_type": "code",
   "execution_count": null,
   "id": "dd850f94",
   "metadata": {
    "tags": [
     "solution"
    ]
   },
   "outputs": [],
   "source": [
    "for i in take(100, range(5)):\n",
    "    print(i, end=\" \")"
   ]
  }
 ],
 "metadata": {
  "jupytext": {
   "encoding": "# -*- coding: utf-8 -*-",
   "formats": "ipynb"
  },
  "kernelspec": {
   "display_name": "Python 3 (ipykernel)",
   "language": "python",
   "name": "python3"
  }
 },
 "nbformat": 4,
 "nbformat_minor": 5
}
