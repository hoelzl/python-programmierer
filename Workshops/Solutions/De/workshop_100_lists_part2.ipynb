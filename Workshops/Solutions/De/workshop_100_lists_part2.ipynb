{
 "cells": [
  {
   "cell_type": "markdown",
   "id": "9d7f390e",
   "metadata": {
    "lang": "de"
   },
   "source": [
    "# Farben\n",
    "\n",
    "Definieren Sie eine Variable `farben`, die eine Liste mit den Strings\n",
    "`Rot`, `Grün` und `Blau` enthält."
   ]
  },
  {
   "cell_type": "code",
   "execution_count": null,
   "id": "a248d47f",
   "metadata": {
    "tags": [
     "solution"
    ]
   },
   "outputs": [],
   "source": [
    "farben = [\"Rot\", \"Grün\", \"Blau\"]"
   ]
  },
  {
   "cell_type": "markdown",
   "id": "38a79e74",
   "metadata": {
    "lang": "de"
   },
   "source": [
    "Überprüfen Sie, ob der String `Gelb` in `farben` enthalten ist"
   ]
  },
  {
   "cell_type": "code",
   "execution_count": null,
   "id": "67b266a8",
   "metadata": {
    "tags": [
     "solution"
    ]
   },
   "outputs": [],
   "source": [
    "\"Gelb\" in farben"
   ]
  },
  {
   "cell_type": "markdown",
   "id": "c2804127",
   "metadata": {
    "lang": "de"
   },
   "source": [
    "Fügen Sie `Gelb` zu den Farben hinzu."
   ]
  },
  {
   "cell_type": "code",
   "execution_count": null,
   "id": "85369e17",
   "metadata": {
    "tags": [
     "solution"
    ]
   },
   "outputs": [],
   "source": [
    "farben.append(\"Gelb\")"
   ]
  },
  {
   "cell_type": "markdown",
   "id": "cec9cbea",
   "metadata": {
    "lang": "de"
   },
   "source": [
    "Überprüfen Sie nochmals, ob `Gelb` in den Farben enthalten ist."
   ]
  },
  {
   "cell_type": "code",
   "execution_count": null,
   "id": "c3819341",
   "metadata": {
    "tags": [
     "solution"
    ]
   },
   "outputs": [],
   "source": [
    "\"Gelb\" in farben"
   ]
  },
  {
   "cell_type": "markdown",
   "id": "90a0a64a",
   "metadata": {
    "lang": "de"
   },
   "source": [
    "Wie viele Farben enthält die in `farben` gespeicherte Liste jetzt?"
   ]
  },
  {
   "cell_type": "code",
   "execution_count": null,
   "id": "81f47015",
   "metadata": {
    "tags": [
     "solution"
    ]
   },
   "outputs": [],
   "source": [
    "len(farben)"
   ]
  },
  {
   "cell_type": "markdown",
   "id": "7f5f7fa4",
   "metadata": {
    "lang": "de"
   },
   "source": [
    "Ändern Sie das erste Element von `farben` in `Dunkelrot`"
   ]
  },
  {
   "cell_type": "code",
   "execution_count": null,
   "id": "d5d273a4",
   "metadata": {
    "tags": [
     "solution"
    ]
   },
   "outputs": [],
   "source": [
    "farben[0] = \"Dunkelrot\""
   ]
  },
  {
   "cell_type": "markdown",
   "id": "a4b35f3d",
   "metadata": {
    "lang": "de"
   },
   "source": [
    "Fügen Sie `Lila` als zweites Element in die Liste ein."
   ]
  },
  {
   "cell_type": "code",
   "execution_count": null,
   "id": "dc518ef8",
   "metadata": {
    "tags": [
     "solution"
    ]
   },
   "outputs": [],
   "source": [
    "farben.insert(1, \"Lila\")"
   ]
  },
  {
   "cell_type": "markdown",
   "id": "150e3413",
   "metadata": {
    "lang": "de"
   },
   "source": [
    "Was ist das dritte Element der Liste `farben`?"
   ]
  },
  {
   "cell_type": "code",
   "execution_count": null,
   "id": "14e4fbb5",
   "metadata": {
    "tags": [
     "solution"
    ]
   },
   "outputs": [],
   "source": [
    "farben[2]"
   ]
  },
  {
   "cell_type": "markdown",
   "id": "98630433",
   "metadata": {
    "lang": "de"
   },
   "source": [
    "Löschen Sie das zweite Element der Liste `farben`"
   ]
  },
  {
   "cell_type": "code",
   "execution_count": null,
   "id": "1c539c5e",
   "metadata": {
    "tags": [
     "solution"
    ]
   },
   "outputs": [],
   "source": [
    "del farben[1]"
   ]
  },
  {
   "cell_type": "markdown",
   "id": "339629be",
   "metadata": {
    "lang": "de"
   },
   "source": [
    "Was ist das dritte Element der Liste `farben` jetzt?"
   ]
  },
  {
   "cell_type": "code",
   "execution_count": null,
   "id": "54310d78",
   "metadata": {
    "tags": [
     "solution"
    ]
   },
   "outputs": [],
   "source": [
    "farben[2]"
   ]
  },
  {
   "cell_type": "markdown",
   "id": "d5de8912",
   "metadata": {
    "lang": "de"
   },
   "source": [
    "# Slicing"
   ]
  },
  {
   "cell_type": "code",
   "execution_count": null,
   "id": "38637709",
   "metadata": {},
   "outputs": [],
   "source": [
    "my_list = [0, 1, 2, 3, 4, 5, 6, 7, 8, 9]"
   ]
  },
  {
   "cell_type": "markdown",
   "id": "0b60feca",
   "metadata": {
    "lang": "de"
   },
   "source": [
    "Extrahieren Sie von `my_list` eine Liste mit allen Elementen außer den ersten beiden."
   ]
  },
  {
   "cell_type": "code",
   "execution_count": null,
   "id": "8532b627",
   "metadata": {
    "tags": [
     "solution"
    ]
   },
   "outputs": [],
   "source": [
    "my_list[2:]"
   ]
  },
  {
   "cell_type": "markdown",
   "id": "c492bd33",
   "metadata": {
    "lang": "de"
   },
   "source": [
    "Extrahieren Sie von `my_list` eine Liste, die aus dem 2. und 3. Element besteht."
   ]
  },
  {
   "cell_type": "code",
   "execution_count": null,
   "id": "5cb75dbf",
   "metadata": {
    "tags": [
     "solution"
    ]
   },
   "outputs": [],
   "source": [
    "my_list[1:3]"
   ]
  },
  {
   "cell_type": "markdown",
   "id": "8f1cc9ee",
   "metadata": {
    "lang": "de"
   },
   "source": [
    "Extrahieren Sie von `my_list` eine neue Liste, die alle Elemente außer dem\n",
    "ersten und dem letzten enthält."
   ]
  },
  {
   "cell_type": "code",
   "execution_count": null,
   "id": "a4b74621",
   "metadata": {
    "tags": [
     "solution"
    ]
   },
   "outputs": [],
   "source": [
    "my_list[1:-1]"
   ]
  },
  {
   "cell_type": "markdown",
   "id": "a7b71793",
   "metadata": {
    "lang": "de"
   },
   "source": [
    "# Finden in Listen\n",
    "\n",
    "Schreiben Sie eine Funktion `finde_erste_gerade_zahl(liste)`, die den Index\n",
    "der ersten geraden Zahl in einer Liste von ganzen Zahlen zurückgibt. Falls\n",
    "die Liste keine gerade Zahl enthält soll die Funktion `None` zurückgeben."
   ]
  },
  {
   "cell_type": "code",
   "execution_count": null,
   "id": "d368b144",
   "metadata": {
    "tags": [
     "solution"
    ]
   },
   "outputs": [],
   "source": [
    "def finde_erste_gerade_zahl(liste):\n",
    "    result = None\n",
    "    for index, zahl in enumerate(liste):\n",
    "        if zahl % 2 == 0:\n",
    "            result = index\n",
    "            break\n",
    "    return result"
   ]
  },
  {
   "cell_type": "markdown",
   "id": "dda016f2",
   "metadata": {
    "lang": "de"
   },
   "source": [
    "Testen Sie die Funktion für geeignete Argumente."
   ]
  },
  {
   "cell_type": "code",
   "execution_count": null,
   "id": "34377c97",
   "metadata": {
    "tags": [
     "solution"
    ]
   },
   "outputs": [],
   "source": [
    "assert finde_erste_gerade_zahl([1, 3, 5, 2, 4, 6]) == 3\n",
    "assert finde_erste_gerade_zahl([1, 3]) is None\n",
    "assert finde_erste_gerade_zahl([0, 1, 2, 3]) == 0"
   ]
  },
  {
   "cell_type": "markdown",
   "id": "2a54d820",
   "metadata": {
    "lang": "de"
   },
   "source": [
    "## Mittelwert einer Liste\n",
    "\n",
    "Der Mittelwert einer Liste mit $n$ Elementen $[x_0, \\dots, x_{n-1}]$ ist\n",
    "definiert als\n",
    "\n",
    "$$\\frac{x_0 + \\dots + x_{n-1}}{n}$$\n",
    "\n",
    "Schreiben Sie eine Funktion `mittelwert(liste)`, die den Mittelwert einer\n",
    "Liste berechnet."
   ]
  },
  {
   "cell_type": "code",
   "execution_count": null,
   "id": "3628ade3",
   "metadata": {
    "tags": [
     "solution"
    ]
   },
   "outputs": [],
   "source": [
    "def mittelwert(zahlen):\n",
    "    if zahlen:\n",
    "        ergebnis = 0\n",
    "        for zahl in zahlen:\n",
    "            ergebnis += zahl\n",
    "        return ergebnis / len(zahlen)\n",
    "    return 0"
   ]
  },
  {
   "cell_type": "markdown",
   "id": "23d4a7f8",
   "metadata": {
    "lang": "de",
    "pycharm": {
     "name": "#%% md\n"
    }
   },
   "source": [
    "Testen Sie die Funktion für geeignete Argumente."
   ]
  },
  {
   "cell_type": "code",
   "execution_count": null,
   "id": "ab7ae5d2",
   "metadata": {
    "tags": [
     "solution"
    ]
   },
   "outputs": [],
   "source": [
    "assert mittelwert([1, 2, 3]) == 2.0"
   ]
  },
  {
   "cell_type": "code",
   "execution_count": null,
   "id": "62613a3b",
   "metadata": {
    "tags": [
     "solution"
    ]
   },
   "outputs": [],
   "source": [
    "assert mittelwert([]) == 0"
   ]
  },
  {
   "cell_type": "markdown",
   "id": "96a11c43",
   "metadata": {
    "lang": "de"
   },
   "source": [
    "**Zusatzaufgabe:** Der Mittelwert der Elemente einer Liste kann iterativ\n",
    "folgendermaßen berechnet werden:\n",
    "\n",
    "- Der Mittelwert $m$ der leeren Liste ist (per Definition für diese Lösung) 0\n",
    "- Wenn wir das $n+1$-te Element $x_{n+1}$ hinzufügen, so wird der neue\n",
    "  Mittelwert berechnet als\n",
    "\n",
    "$$m \\leftarrow m + \\frac{1}{n+1}(x_{n+1} - m)$$\n",
    "\n",
    "Schreiben Sie eine Funktion `iterativer_mittelwert(liste)`, die den\n",
    "Mittelwert einer Liste iterativ berechnet.\n"
   ]
  },
  {
   "cell_type": "code",
   "execution_count": null,
   "id": "f5c916f1",
   "metadata": {
    "tags": [
     "solution"
    ]
   },
   "outputs": [],
   "source": [
    "def iterativer_mittelwert(zahlen):\n",
    "    ergebnis = 0\n",
    "    for index, value in enumerate(zahlen):\n",
    "        ergebnis += (value - ergebnis) / (index + 1)\n",
    "    return ergebnis"
   ]
  },
  {
   "cell_type": "code",
   "execution_count": null,
   "id": "516abe23",
   "metadata": {
    "tags": [
     "solution"
    ]
   },
   "outputs": [],
   "source": [
    "assert iterativer_mittelwert([]) == 0.0"
   ]
  },
  {
   "cell_type": "code",
   "execution_count": null,
   "id": "b29c073a",
   "metadata": {
    "tags": [
     "solution"
    ]
   },
   "outputs": [],
   "source": [
    "assert iterativer_mittelwert([1]) == 1.0"
   ]
  },
  {
   "cell_type": "code",
   "execution_count": null,
   "id": "ead5f983",
   "metadata": {
    "tags": [
     "solution"
    ]
   },
   "outputs": [],
   "source": [
    "assert iterativer_mittelwert([1, 2, 3]) == 2.0"
   ]
  },
  {
   "cell_type": "code",
   "execution_count": null,
   "id": "189bedf9",
   "metadata": {
    "tags": [
     "solution"
    ]
   },
   "outputs": [],
   "source": [
    "assert iterativer_mittelwert(range(11)) == 5.0"
   ]
  },
  {
   "cell_type": "code",
   "execution_count": null,
   "id": "dfba8656",
   "metadata": {
    "tags": [
     "solution"
    ]
   },
   "outputs": [],
   "source": [
    "def assert_mittelwert_equal(liste):\n",
    "    assert iterativer_mittelwert(liste) == mittelwert(liste)"
   ]
  },
  {
   "cell_type": "code",
   "execution_count": null,
   "id": "3c713dc6",
   "metadata": {
    "tags": [
     "solution"
    ]
   },
   "outputs": [],
   "source": [
    "assert_mittelwert_equal([])\n",
    "assert_mittelwert_equal([1, 2, 3])\n",
    "assert_mittelwert_equal(list(range(10)))"
   ]
  },
  {
   "cell_type": "markdown",
   "id": "9b4c613c",
   "metadata": {
    "lang": "de"
   },
   "source": [
    "# Quadratzahlen\n",
    "\n",
    "Gegeben sei die folgende Liste mit Zahlen."
   ]
  },
  {
   "cell_type": "code",
   "execution_count": null,
   "id": "ec1882a7",
   "metadata": {},
   "outputs": [],
   "source": [
    "numbers = [1, 7, 4, 87, 23]"
   ]
  },
  {
   "cell_type": "markdown",
   "id": "17d44112",
   "metadata": {
    "lang": "de"
   },
   "source": [
    "Erzeugen Sie eine neue Liste, die die Quadrate der Zahlen in `numbers` enthält."
   ]
  },
  {
   "cell_type": "code",
   "execution_count": null,
   "id": "89cb4279",
   "metadata": {
    "tags": [
     "solution"
    ]
   },
   "outputs": [],
   "source": [
    "result = []\n",
    "for n in numbers:\n",
    "    result.append(n * n)\n",
    "result"
   ]
  },
  {
   "cell_type": "markdown",
   "id": "57969038",
   "metadata": {
    "lang": "de"
   },
   "source": [
    "Schreiben Sie eine Funktion `quadriere(zahlen)`, die eine neue Liste mit den\n",
    "Quadraten der Zahlen in `zahlen` zurückgibt."
   ]
  },
  {
   "cell_type": "code",
   "execution_count": null,
   "id": "cf1213d3",
   "metadata": {
    "tags": [
     "solution"
    ]
   },
   "outputs": [],
   "source": [
    "def quadriere(zahlen):\n",
    "    result = []\n",
    "    for n in zahlen:\n",
    "        result.append(n * n)\n",
    "    return result"
   ]
  },
  {
   "cell_type": "code",
   "execution_count": null,
   "id": "6f268012",
   "metadata": {
    "tags": [
     "solution"
    ]
   },
   "outputs": [],
   "source": [
    "assert quadriere(numbers) == [1, 49, 16, 7569, 529]"
   ]
  },
  {
   "cell_type": "markdown",
   "id": "f2c4c401",
   "metadata": {
    "lang": "de"
   },
   "source": [
    "# Quadratzahlen mit Listen-Komprehension\n",
    "\n",
    "Erzeugen Sie eine neue Liste mit den Quadraten von `numbers`. Verwenden Sie\n",
    "dazu eine Listen-Komprehension"
   ]
  },
  {
   "cell_type": "code",
   "execution_count": null,
   "id": "3f1b8396",
   "metadata": {
    "tags": [
     "solution"
    ]
   },
   "outputs": [],
   "source": [
    "[n * n for n in numbers]"
   ]
  },
  {
   "cell_type": "markdown",
   "id": "538d1205",
   "metadata": {
    "lang": "de"
   },
   "source": [
    "Schreiben Sie die Funktion `quadriere(zahlen)` mit Listen-Komprehension."
   ]
  },
  {
   "cell_type": "code",
   "execution_count": null,
   "id": "e64ae6b8",
   "metadata": {
    "tags": [
     "solution"
    ]
   },
   "outputs": [],
   "source": [
    "def quadriere(zahlen):\n",
    "    return [n * n for n in zahlen]"
   ]
  },
  {
   "cell_type": "code",
   "execution_count": null,
   "id": "3d100c1e",
   "metadata": {
    "tags": [
     "solution"
    ]
   },
   "outputs": [],
   "source": [
    "quadriere(numbers)"
   ]
  },
  {
   "cell_type": "markdown",
   "id": "f040ea38",
   "metadata": {
    "lang": "de"
   },
   "source": [
    "# Filtern\n",
    "\n",
    "Gegeben sei die folgende Liste mit Zahlen:"
   ]
  },
  {
   "cell_type": "code",
   "execution_count": null,
   "id": "b5374c38",
   "metadata": {},
   "outputs": [],
   "source": [
    "numbers = [1, 183, 7, 4, 87, 10, 23, -12, 493, 11]"
   ]
  },
  {
   "cell_type": "markdown",
   "id": "db54eeab",
   "metadata": {
    "lang": "de"
   },
   "source": [
    "Erzeugen Sie eine neue Liste, die alle Zahlen in `numbers` enthält, die größer als 10 sind."
   ]
  },
  {
   "cell_type": "code",
   "execution_count": null,
   "id": "4967a162",
   "metadata": {
    "tags": [
     "solution"
    ]
   },
   "outputs": [],
   "source": [
    "result = []\n",
    "for n in numbers:\n",
    "    if n > 10:\n",
    "        result.append(n)\n",
    "result"
   ]
  },
  {
   "cell_type": "markdown",
   "id": "68f846ae",
   "metadata": {
    "lang": "de"
   },
   "source": [
    "Schreiben Sie eine Funktion `zahlen_größer_als_10(zahlen)`, die eine neue\n",
    "Liste zurückgibt, die die Zahlen aus `zahlen` enthält, die größer als 10 sind."
   ]
  },
  {
   "cell_type": "code",
   "execution_count": null,
   "id": "23c230d0",
   "metadata": {
    "tags": [
     "solution"
    ]
   },
   "outputs": [],
   "source": [
    "def zahlen_größer_als_10(zahlen):\n",
    "    result = []\n",
    "    for n in zahlen:\n",
    "        if n > 10:\n",
    "            result.append(n)\n",
    "    return result"
   ]
  },
  {
   "cell_type": "code",
   "execution_count": null,
   "id": "ca5b847a",
   "metadata": {
    "tags": [
     "solution"
    ]
   },
   "outputs": [],
   "source": [
    "assert zahlen_größer_als_10(numbers) == [183, 87, 23, 493, 11]"
   ]
  },
  {
   "cell_type": "markdown",
   "id": "35eb966a",
   "metadata": {
    "lang": "de"
   },
   "source": [
    "# Filtern mit Listen-Komprehension\n",
    "\n",
    "Erzeugen Sie eine neue Liste, die alle Zahlen in `numbers` enthält, die größer\n",
    "als 10 sind. Verwenden Sie dazu Listen-Komprehension."
   ]
  },
  {
   "cell_type": "code",
   "execution_count": null,
   "id": "41b28819",
   "metadata": {
    "tags": [
     "solution"
    ]
   },
   "outputs": [],
   "source": [
    "[n for n in numbers if n > 10]"
   ]
  },
  {
   "cell_type": "markdown",
   "id": "66fe0d18",
   "metadata": {
    "lang": "de"
   },
   "source": [
    "Schreiben Sie die Funktion `zahlen_größer_als_10(zahlen)` mit\n",
    "Listen-Komprehension."
   ]
  },
  {
   "cell_type": "code",
   "execution_count": null,
   "id": "064348e6",
   "metadata": {
    "tags": [
     "solution"
    ]
   },
   "outputs": [],
   "source": [
    "def zahlen_größer_als_10(zahlen):\n",
    "    return [n for n in zahlen if n > 10]"
   ]
  },
  {
   "cell_type": "code",
   "execution_count": null,
   "id": "55282409",
   "metadata": {
    "tags": [
     "solution"
    ]
   },
   "outputs": [],
   "source": [
    "assert zahlen_größer_als_10(numbers) == [183, 87, 23, 493, 11]"
   ]
  },
  {
   "cell_type": "markdown",
   "id": "f053522c",
   "metadata": {
    "lang": "de"
   },
   "source": [
    "\n",
    "Schreiben Sie eine Funktion `quadrate_von_zahlen_kleiner_10( zahlen)`,\n",
    "die eine neue Liste zurückgibt, die die Quadrate aller Zahlen < 10 aus\n",
    "`zahlen` enthält."
   ]
  },
  {
   "cell_type": "code",
   "execution_count": null,
   "id": "ffdd28b5",
   "metadata": {
    "tags": [
     "solution"
    ]
   },
   "outputs": [],
   "source": [
    "def quadrate_von_zahlen_kleiner_10(zahlen):\n",
    "    return [n * n for n in zahlen if n < 10]"
   ]
  },
  {
   "cell_type": "code",
   "execution_count": null,
   "id": "b322cf4c",
   "metadata": {},
   "outputs": [],
   "source": [
    "numbers"
   ]
  },
  {
   "cell_type": "code",
   "execution_count": null,
   "id": "8109dfd8",
   "metadata": {
    "tags": [
     "solution"
    ]
   },
   "outputs": [],
   "source": [
    "assert quadrate_von_zahlen_kleiner_10(numbers) == [1, 49, 16, 144]"
   ]
  },
  {
   "cell_type": "markdown",
   "id": "7dce3892",
   "metadata": {
    "lang": "de"
   },
   "source": [
    "# Generatoren"
   ]
  },
  {
   "cell_type": "markdown",
   "id": "9152dff3",
   "metadata": {
    "lang": "de"
   },
   "source": [
    "## Generator für Quadratzahlen\n",
    "\n",
    "Schreiben Sie einen Generator, der die ersten 10 Quadratzahlen erzeugt."
   ]
  },
  {
   "cell_type": "code",
   "execution_count": null,
   "id": "b2b2b1da",
   "metadata": {
    "tags": [
     "solution"
    ]
   },
   "outputs": [],
   "source": [
    "gen = (i * i for i in range(1, 11))"
   ]
  },
  {
   "cell_type": "code",
   "execution_count": null,
   "id": "a14f5569",
   "metadata": {
    "tags": [
     "solution"
    ]
   },
   "outputs": [],
   "source": [
    "for i in gen:\n",
    "    print(i, end=\" \")"
   ]
  },
  {
   "cell_type": "markdown",
   "id": "14e06775",
   "metadata": {
    "lang": "de"
   },
   "source": [
    "## Take\n",
    "\n",
    "Schreiben Sie eine Funktion `take(n: int, it)` die ein Iterable `it` als\n",
    "Argument bekommt und ein neues Iterable zurückgibt, das die ersten `n`\n",
    "Elemente von `it` liefert."
   ]
  },
  {
   "cell_type": "code",
   "execution_count": null,
   "id": "6504595e",
   "metadata": {
    "tags": [
     "solution"
    ]
   },
   "outputs": [],
   "source": [
    "def take(n, it):\n",
    "    for i, elt in enumerate(it):\n",
    "        if i >= n:\n",
    "            break\n",
    "        yield elt"
   ]
  },
  {
   "cell_type": "code",
   "execution_count": null,
   "id": "c5038631",
   "metadata": {
    "tags": [
     "solution"
    ]
   },
   "outputs": [],
   "source": [
    "for i in take(4, range(20)):\n",
    "    print(i, end=\" \")"
   ]
  },
  {
   "cell_type": "code",
   "execution_count": null,
   "id": "7847b514",
   "metadata": {
    "tags": [
     "solution"
    ]
   },
   "outputs": [],
   "source": [
    "for i in take(100, range(5)):\n",
    "    print(i, end=\" \")"
   ]
  }
 ],
 "metadata": {
  "jupytext": {
   "encoding": "# -*- coding: utf-8 -*-",
   "formats": "ipynb"
  },
  "kernelspec": {
   "display_name": "Python 3 (ipykernel)",
   "language": "python",
   "name": "python3"
  }
 },
 "nbformat": 4,
 "nbformat_minor": 5
}
