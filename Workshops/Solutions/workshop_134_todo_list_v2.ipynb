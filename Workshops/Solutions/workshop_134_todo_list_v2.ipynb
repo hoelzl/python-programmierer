{
 "cells": [
  {
   "cell_type": "code",
   "execution_count": null,
   "id": "dbe7d8ff",
   "metadata": {
    "lines_to_next_cell": 0
   },
   "outputs": [],
   "source": []
  },
  {
   "cell_type": "markdown",
   "id": "ebbbbb04",
   "metadata": {},
   "source": [
    "# Todo-Liste Version 2\n",
    "\n",
    "In diesem Workshop wollen wir die eine Todo-Liste implementieren, aber dabei\n",
    "sowohl die Liste als auch die Einträge durch Instanzen von Klassen darstellen.\n",
    "\n",
    "Jeder Eintrag in der Todo-Liste soll wieder folgende Information enthalten:\n",
    "\n",
    "- Titel\n",
    "- Priorität\n",
    "- Wurde das Item schon erledigt oder nicht?\n",
    "\n",
    "Definieren Sie eine Klasse `TodoItem`, die diese Daten kapselt."
   ]
  },
  {
   "cell_type": "code",
   "execution_count": null,
   "id": "3bebdaf1",
   "metadata": {
    "tags": [
     "solution"
    ]
   },
   "outputs": [],
   "source": [
    "class TodoItem:\n",
    "    def __init__(self, title, priority, is_completed):\n",
    "        self.title = title\n",
    "        self.priority = priority\n",
    "        self.is_completed = is_completed"
   ]
  },
  {
   "cell_type": "markdown",
   "id": "e1b37c98",
   "metadata": {},
   "source": [
    "Erzeugen Sie ein Todo-Item mit folgenden Bestandteilen:\n",
    "- Titel: Python lernen\n",
    "- Priorität 3\n",
    "- nicht erledigt"
   ]
  },
  {
   "cell_type": "code",
   "execution_count": null,
   "id": "f16bb7f7",
   "metadata": {
    "tags": [
     "solution"
    ]
   },
   "outputs": [],
   "source": [
    "todo_item = TodoItem(\"Python lernen\", 3, False)\n",
    "todo_item"
   ]
  },
  {
   "cell_type": "markdown",
   "id": "7ca76d10",
   "metadata": {},
   "source": [
    "Die Repräsentation des Items ist nicht sehr aussagekräftig. Definieren Sie\n",
    "deshalb eine Funktion `todo_item_as_string(item: TodoItem) -> str`, die ein\n",
    "Todo-Item in einen String umwandelt, der Information über die Bestandteile\n",
    "enthält."
   ]
  },
  {
   "cell_type": "code",
   "execution_count": null,
   "id": "e8759d47",
   "metadata": {
    "tags": [
     "solution"
    ]
   },
   "outputs": [],
   "source": [
    "def todo_item_as_string(item):\n",
    "    return f\"{item.title}, priority {item.priority}\" + (\n",
    "        \"\" if not item.is_completed else \", done\"\n",
    "    )"
   ]
  },
  {
   "cell_type": "code",
   "execution_count": null,
   "id": "79957b6e",
   "metadata": {
    "tags": [
     "solution"
    ]
   },
   "outputs": [],
   "source": [
    "print(todo_item_as_string(todo_item))\n",
    "print(todo_item_as_string(TodoItem(\"Buy food\", 2, True)))"
   ]
  },
  {
   "cell_type": "markdown",
   "id": "651d7d87",
   "metadata": {},
   "source": [
    "Definieren Sie eine Klasse `TodoList`, die eine Todo-Liste repräsentiert."
   ]
  },
  {
   "cell_type": "code",
   "execution_count": null,
   "id": "f3f539c0",
   "metadata": {
    "tags": [
     "solution"
    ]
   },
   "outputs": [],
   "source": [
    "class TodoList:\n",
    "    def __init__(self, items):\n",
    "        self.items = items"
   ]
  },
  {
   "cell_type": "markdown",
   "id": "938b1572",
   "metadata": {},
   "source": [
    "Definieren Sie eine Funktion\n",
    "\n",
    "`todo_list_as_string(todo_list: TodoList) -> str`,\n",
    "\n",
    "die eine Todo-Liste in einen String umwandelt, der Information über ihre\n",
    "Bestandteile enthält."
   ]
  },
  {
   "cell_type": "code",
   "execution_count": null,
   "id": "98ae67f4",
   "metadata": {
    "tags": [
     "solution"
    ]
   },
   "outputs": [],
   "source": [
    "def todo_list_as_string(todo_list):\n",
    "    from io import StringIO\n",
    "\n",
    "    result = StringIO()\n",
    "    print(\"Todo List:\", file=result)\n",
    "    for item in todo_list.items:\n",
    "        print(\"  \" + todo_item_as_string(item), file=result)\n",
    "    return result.getvalue()"
   ]
  },
  {
   "cell_type": "markdown",
   "id": "42fe9b4d",
   "metadata": {},
   "source": [
    "Legen Sie eine Todo-Liste `todos` mit Todo-Items an, die folgende Einträge\n",
    " enthält:\n",
    "\n",
    "- Titel: Python lernen, Priorität 3, nicht erledigt\n",
    "- Titel: Gemüse einkaufen, Priorität 2, nicht erledigt\n",
    "- Titel: Hans anrufen, Priorität 5, erledigt"
   ]
  },
  {
   "cell_type": "code",
   "execution_count": null,
   "id": "75665a6b",
   "metadata": {
    "tags": [
     "solution"
    ]
   },
   "outputs": [],
   "source": [
    "todos = TodoList(\n",
    "    [\n",
    "        TodoItem(\"Python lernen\", 3, False),\n",
    "        TodoItem(\"Gemüse einkaufen\", 2, False),\n",
    "        TodoItem(\"Hans anrufen\", 5, True),\n",
    "    ]\n",
    ")"
   ]
  },
  {
   "cell_type": "code",
   "execution_count": null,
   "id": "b2c39425",
   "metadata": {
    "tags": [
     "solution"
    ]
   },
   "outputs": [],
   "source": [
    "print(todo_list_as_string(todos))"
   ]
  },
  {
   "cell_type": "markdown",
   "id": "0d263521",
   "metadata": {},
   "source": [
    "Schreiben Sie eine Funktion `add_todo_item(todo_list, title, priority)`,\n",
    "die ein neues Todo-Item zu `todo_list` hinzufügt."
   ]
  },
  {
   "cell_type": "code",
   "execution_count": null,
   "id": "2bf7b416",
   "metadata": {
    "tags": [
     "solution"
    ]
   },
   "outputs": [],
   "source": [
    "def add_todo_item(todo_list, title, priority):\n",
    "    todo_list.items.append(TodoItem(title, priority, False))"
   ]
  },
  {
   "cell_type": "markdown",
   "id": "c2f77d79",
   "metadata": {},
   "source": [
    "Fügen Sie ein neues Todo-Item mit Titel \"Schnee schaufeln\" und Priorität 5\n",
    "in die Liste `todos` ein."
   ]
  },
  {
   "cell_type": "code",
   "execution_count": null,
   "id": "1e86100d",
   "metadata": {
    "tags": [
     "solution"
    ]
   },
   "outputs": [],
   "source": [
    "add_todo_item(todos, \"Schnee schaufeln\", 5)"
   ]
  },
  {
   "cell_type": "code",
   "execution_count": null,
   "id": "5fba56fc",
   "metadata": {
    "tags": [
     "solution"
    ]
   },
   "outputs": [],
   "source": [
    "print(todo_list_as_string(todos))"
   ]
  },
  {
   "cell_type": "markdown",
   "id": "b5fb2142",
   "metadata": {},
   "source": [
    "\n",
    "Schreiben Sie eine Funktion `mark_todo_item_done(todo_list, title)`,\n",
    "die das erste in der Liste `todo_list` vorkommende Todo-Item mit Titel\n",
    "`title`, das noch nicht bearbeitet ist, als bearbeitet markiert."
   ]
  },
  {
   "cell_type": "code",
   "execution_count": null,
   "id": "9155eaab",
   "metadata": {
    "tags": [
     "solution"
    ]
   },
   "outputs": [],
   "source": [
    "def mark_todo_item_done(todo_list, title):\n",
    "    for item in todo_list.items:\n",
    "        if item.title == title and not item.is_completed:\n",
    "            item.is_completed = True\n",
    "            break"
   ]
  },
  {
   "cell_type": "markdown",
   "id": "8226e2c5",
   "metadata": {},
   "source": [
    "Markieren Sie das Todo-Item `Schnee schaufeln` als bearbeitet."
   ]
  },
  {
   "cell_type": "code",
   "execution_count": null,
   "id": "15f87b07",
   "metadata": {
    "tags": [
     "solution"
    ]
   },
   "outputs": [],
   "source": [
    "mark_todo_item_done(todos, \"Schnee schaufeln\")"
   ]
  },
  {
   "cell_type": "code",
   "execution_count": null,
   "id": "65ca85c2",
   "metadata": {
    "tags": [
     "solution"
    ]
   },
   "outputs": [],
   "source": [
    "print(todo_list_as_string(todos))"
   ]
  },
  {
   "cell_type": "markdown",
   "id": "7e5a5e18",
   "metadata": {},
   "source": [
    "Fügen Sie zwei Todo-Items mit Text \"Python lernen\" und Priorität 1 und 6\n",
    "zur Todo-Liste hinzu."
   ]
  },
  {
   "cell_type": "code",
   "execution_count": null,
   "id": "4a4e8147",
   "metadata": {
    "tags": [
     "solution"
    ]
   },
   "outputs": [],
   "source": [
    "add_todo_item(todos, \"Python lernen\", 1)\n",
    "add_todo_item(todos, \"Python lernen\", 6)"
   ]
  },
  {
   "cell_type": "code",
   "execution_count": null,
   "id": "d7a192ca",
   "metadata": {
    "tags": [
     "solution"
    ]
   },
   "outputs": [],
   "source": [
    "print(todo_list_as_string(todos))"
   ]
  },
  {
   "cell_type": "markdown",
   "id": "d25e5bd6",
   "metadata": {},
   "source": [
    "Markieren Sie ein Todo-Item \"Python lernen\" als erledigt.\n",
    "Wie sieht jetzt Ihre Liste aus?"
   ]
  },
  {
   "cell_type": "code",
   "execution_count": null,
   "id": "5993a49a",
   "metadata": {
    "tags": [
     "solution"
    ]
   },
   "outputs": [],
   "source": [
    "mark_todo_item_done(todos, \"Python lernen\")"
   ]
  },
  {
   "cell_type": "code",
   "execution_count": null,
   "id": "42ade57e",
   "metadata": {
    "tags": [
     "solution"
    ]
   },
   "outputs": [],
   "source": [
    "print(todo_list_as_string(todos))"
   ]
  },
  {
   "cell_type": "markdown",
   "id": "2d304c9d",
   "metadata": {},
   "source": [
    "Markieren Sie noch zwei Todo-Items `Python lernen` als erledigt.\n",
    "Wie sieht jetzt Ihre Liste aus?"
   ]
  },
  {
   "cell_type": "code",
   "execution_count": null,
   "id": "055e7e89",
   "metadata": {
    "tags": [
     "solution"
    ]
   },
   "outputs": [],
   "source": [
    "mark_todo_item_done(todos, \"Python lernen\")\n",
    "print(todo_list_as_string(todos))"
   ]
  },
  {
   "cell_type": "code",
   "execution_count": null,
   "id": "adde15d1",
   "metadata": {
    "tags": [
     "solution"
    ]
   },
   "outputs": [],
   "source": [
    "mark_todo_item_done(todos, \"Python lernen\")\n",
    "print(todo_list_as_string(todos))"
   ]
  },
  {
   "cell_type": "markdown",
   "id": "11020745",
   "metadata": {},
   "source": [
    "Schreiben Sie eine Funktion `delete_todo_item(todo_list, title)`, die das\n",
    "erste in der liste `todo_list` vorkommende Todo-Item mit Titel `title` aus\n",
    " der Liste entfernt.\n",
    "\n",
    "*Vorsicht: Sie sollten während Sie über eine Liste iterieren keine Einträge\n",
    "entfernen oder einfügen!*"
   ]
  },
  {
   "cell_type": "code",
   "execution_count": null,
   "id": "5e7e0a53",
   "metadata": {
    "tags": [
     "solution"
    ]
   },
   "outputs": [],
   "source": [
    "def delete_todo_item(todo_list, title):\n",
    "    index_to_delete = -1\n",
    "    for index, item in enumerate(todo_list.items):\n",
    "        if item.title == title:\n",
    "            index_to_delete = index\n",
    "            break\n",
    "    if index_to_delete >= 0:\n",
    "        del todo_list.items[index_to_delete]"
   ]
  },
  {
   "cell_type": "markdown",
   "id": "2a3bc176",
   "metadata": {},
   "source": [
    "Entfernen Sie eines der Items `Python lernen`."
   ]
  },
  {
   "cell_type": "code",
   "execution_count": null,
   "id": "8e265b1a",
   "metadata": {
    "tags": [
     "solution"
    ]
   },
   "outputs": [],
   "source": [
    "delete_todo_item(todos, \"Python lernen\")\n",
    "print(todo_list_as_string(todos))"
   ]
  },
  {
   "cell_type": "markdown",
   "id": "559c9758",
   "metadata": {},
   "source": [
    "Entfernen Sie dreimal ein Item `Python lernen`. Was erwarten Sie als Ergebnis?"
   ]
  },
  {
   "cell_type": "code",
   "execution_count": null,
   "id": "804a886e",
   "metadata": {
    "tags": [
     "solution"
    ]
   },
   "outputs": [],
   "source": [
    "delete_todo_item(todos, \"Python lernen\")\n",
    "print(todo_list_as_string(todos))"
   ]
  },
  {
   "cell_type": "code",
   "execution_count": null,
   "id": "e1b3fb78",
   "metadata": {
    "tags": [
     "solution"
    ]
   },
   "outputs": [],
   "source": [
    "delete_todo_item(todos, \"Python lernen\")\n",
    "print(todo_list_as_string(todos))"
   ]
  },
  {
   "cell_type": "code",
   "execution_count": null,
   "id": "061186c8",
   "metadata": {
    "tags": [
     "solution"
    ]
   },
   "outputs": [],
   "source": [
    "delete_todo_item(todos, \"Python lernen\")\n",
    "print(todo_list_as_string(todos))"
   ]
  },
  {
   "cell_type": "markdown",
   "id": "ed3366c1",
   "metadata": {},
   "source": [
    "Schreiben Sie eine Funktiion `delete_all_completed_todo_items(todo_list)`,\n",
    "die alle erledigten Todo-Items aus `todo_list` löscht.\n",
    "\n",
    "*Hinweis: Sie benötigen dazu wahrscheinlich zwei aufeinanderfolgende\n",
    "`for`-Schleifen: eine um die Indizes zu bestimmen und eine um sie zu löschen*"
   ]
  },
  {
   "cell_type": "code",
   "execution_count": null,
   "id": "7b1aef70",
   "metadata": {
    "tags": [
     "solution"
    ]
   },
   "outputs": [],
   "source": [
    "def delete_all_completed_todo_items(todo_list):\n",
    "    indices_to_delete = []\n",
    "    for index, item in enumerate(todo_list.items):\n",
    "        if item.is_completed:\n",
    "            indices_to_delete.append(index)\n",
    "    for index in sorted(indices_to_delete, reverse=True):\n",
    "        del todo_list.items[index]"
   ]
  },
  {
   "cell_type": "code",
   "execution_count": null,
   "id": "7a49ff65",
   "metadata": {
    "tags": [
     "solution"
    ]
   },
   "outputs": [],
   "source": [
    "delete_all_completed_todo_items(todos)\n",
    "print(todo_list_as_string(todos))"
   ]
  },
  {
   "cell_type": "markdown",
   "id": "8a4cce2e",
   "metadata": {},
   "source": [
    "Testen Sie Ihre Implementierung von `delete_all_completed_todo_items()` mit\n",
    "der folgenden Liste:"
   ]
  },
  {
   "cell_type": "code",
   "execution_count": null,
   "id": "6498719d",
   "metadata": {
    "tags": [
     "solution"
    ]
   },
   "outputs": [],
   "source": [
    "todo_list_2 = TodoList([TodoItem(f\"Item {n}\", 1, n % 2 == 0) for n in range(10)])\n",
    "print(todo_list_as_string(todo_list_2))"
   ]
  },
  {
   "cell_type": "code",
   "execution_count": null,
   "id": "6d081f68",
   "metadata": {
    "tags": [
     "solution"
    ]
   },
   "outputs": [],
   "source": [
    "delete_all_completed_todo_items(todo_list_2)\n",
    "print(todo_list_as_string(todo_list_2))"
   ]
  },
  {
   "cell_type": "code",
   "execution_count": null,
   "id": "01d6489c",
   "metadata": {},
   "outputs": [],
   "source": []
  }
 ],
 "metadata": {
  "jupytext": {
   "encoding": "# -*- coding: utf-8 -*-",
   "formats": "ipynb"
  },
  "kernelspec": {
   "display_name": "Python 3 (ipykernel)",
   "language": "python",
   "name": "python3"
  }
 },
 "nbformat": 4,
 "nbformat_minor": 5
}
