{
 "cells": [
  {
   "cell_type": "markdown",
   "id": "67e77da7",
   "metadata": {},
   "source": [
    "# Todo-Liste\n",
    "\n",
    "In diesem Workshop wollen wir zum dritten Mal eine Todo-Liste \n",
    " implementieren, aber dabei sowohl die Liste als auch die Einträge durch \n",
    " Instanzen von Klassen darstellen und die Implementierung in den Klassen \n",
    " kapseln. \n",
    "\n",
    "Es empfiehlt sich, diesen Workshop in einer IDE zu bearbeiten, da die \n",
    "letzten Teilaufgaben in Notebooks nicht sinnvoll implementiert werden \n",
    "können. Schreiben Sie Tests zu jeder implementierten Methode, entweder \n",
    "indem Sie im TDD-Stil Test-First arbeiten oder indem Sie unmittlebar nach \n",
    "der Implementierung einer Methode Unit-Tests dafür schreiben. \n",
    "\n",
    "Jeder Eintrag in der Todo-Liste soll wieder folgende Information enthalten:\n",
    "\n",
    "- Titel\n",
    "- Priorität\n",
    "- Wurde das Item schon erledigt oder nicht?\n",
    "\n",
    "Definieren Sie eine Klasse `TodoItem`, die diese Daten kapselt. \n",
    "\n",
    "Implementieren Sie eine `__init__()`-Methode, die Titel als obligatorisches\n",
    "Argument bekommt. Priorität und \"wurde erledigt\" sollen optionale Parameter\n",
    "mit Weren 1 bzw. `False` sein. \n",
    "\n",
    "Implementieren Sie Methoden `__str__(self)` und `__repr__(self)`, \n",
    "die Instanzen der Klasse in Strings umwandeln. "
   ]
  },
  {
   "cell_type": "code",
   "execution_count": null,
   "id": "c1e3fe8c",
   "metadata": {
    "tags": [
     "solution"
    ]
   },
   "outputs": [],
   "source": [
    "class TodoItem:\n",
    "    def __init__(self, title, priority=1, is_completed=False):\n",
    "        self.title = title\n",
    "        self.priority = priority\n",
    "        self.is_completed = is_completed\n",
    "\n",
    "    def __str__(self):\n",
    "        return f\"{self.title}, priority {self.priority}\" + (\n",
    "            \"\" if not self.is_completed else \", done\")\n",
    "\n",
    "    def __repr__(self):\n",
    "        return f\"TodoItem({self.title!r}, {self.priority!r}, {self.is_completed!r})\""
   ]
  },
  {
   "cell_type": "code",
   "execution_count": null,
   "id": "23cb1eab",
   "metadata": {
    "tags": [
     "solution"
    ]
   },
   "outputs": [],
   "source": [
    "todos = [TodoItem('Python lernen', 3),\n",
    "         TodoItem('Gemüse einkaufen', 2),\n",
    "         TodoItem('Hans anrufen', 5, True)]\n",
    "todos"
   ]
  },
  {
   "cell_type": "markdown",
   "id": "3d0599b3",
   "metadata": {},
   "source": [
    "Definieren Sie eine Klasse `TodoList`, die eine Todo-Liste repräsentiert.\n",
    "\n",
    "Implementieren Sie eine `__init__()` Methode, die eine Liste von\n",
    "Dictionaries, die TodoItems beschreiben, als Argument bekommt und daraus\n",
    "eine Liste von `TodoItem`-Instanzen erzeugt und speichert.\n",
    "\n",
    "Fügen Sie folgende Methoden hinzu:\n",
    "\n",
    "- `add(self, title: str, priority: int, is_completed: bool)`, die ein neues\n",
    "  Todo-Item an die Todo-Liste anhängt und geeignete Default-Werte für\n",
    "  `priority` und `is_completed` übergibt.\n",
    "\n",
    "- `mark_done(self, title)`, die das erste in der Liste vorkommende\n",
    "  Todo-Item mit Titel `title`, das noch nicht bearbeitet ist, als bearbeitet\n",
    "  markiert.\n",
    "\n",
    "- `delete(self, title)`, die das erste in der Liste vorkommende Todo-Item\n",
    "  mit Titel `title` aus der Liste entfernt.\n",
    "\n",
    "- `delete_all_completed(self)`, die alle beendetend Items aus der Liste\n",
    "  entfernt.\n",
    "\n",
    "- `__str__(self)` und `__repr__(self)`\n",
    "\n",
    "- `__iter__(self)`, so dass in einer `for`-Schleife über alle in der\n",
    "  Todo-Liste enthaltenen TodoItems iteriert werden kann.\n",
    "\n",
    "<!-- *Hinweis*: Kopieren Sie die Implementierung der Methoden aus\n",
    "`062z-Lösung Todo-Liste V1` oder ihrer vorherigen Implementierung und\n",
    " passen Sie den Code an. -->"
   ]
  },
  {
   "cell_type": "code",
   "execution_count": null,
   "id": "72709105",
   "metadata": {
    "tags": [
     "solution"
    ]
   },
   "outputs": [],
   "source": [
    "from typing import List\n",
    "\n",
    "\n",
    "class TodoList:\n",
    "    def __init__(self, items: List[TodoItem]):\n",
    "        self.items = items\n",
    "\n",
    "    def add(self, title, priority=1, is_completed=False):\n",
    "        self.items.append(TodoItem(title, priority, is_completed))\n",
    "\n",
    "    def mark_done(self, title):\n",
    "        for item in self.items:\n",
    "            if item.title == title and not item.is_completed:\n",
    "                item.is_completed = True\n",
    "                return\n",
    "\n",
    "    def __str__(self):\n",
    "        from io import StringIO\n",
    "        result = StringIO()\n",
    "        print(\"Todo List:\", file=result)\n",
    "        for item in self.items:\n",
    "            print(f\"  {item!s}\", file=result)\n",
    "        return result.getvalue()\n",
    "\n",
    "    def __repr__(self):\n",
    "        return f\"TodoList({self.items!r})\""
   ]
  },
  {
   "cell_type": "code",
   "execution_count": null,
   "id": "aca75a6d",
   "metadata": {
    "tags": [
     "solution"
    ]
   },
   "outputs": [],
   "source": [
    "todo_list = TodoList(todos)\n",
    "print(str(todo_list))\n",
    "todo_list"
   ]
  },
  {
   "cell_type": "code",
   "execution_count": null,
   "id": "09d1f4d9",
   "metadata": {
    "tags": [
     "solution"
    ]
   },
   "outputs": [],
   "source": [
    "todo_list.add(\"Schnee schaufeln\", 5)"
   ]
  },
  {
   "cell_type": "code",
   "execution_count": null,
   "id": "f5314070",
   "metadata": {
    "tags": [
     "solution"
    ]
   },
   "outputs": [],
   "source": [
    "print(str(todo_list))"
   ]
  },
  {
   "cell_type": "code",
   "execution_count": null,
   "id": "af2c2083",
   "metadata": {
    "tags": [
     "solution"
    ]
   },
   "outputs": [],
   "source": [
    "todo_list.add(\"Python lernen\", 1)\n",
    "todo_list.add(\"Python lernen\", 6)"
   ]
  },
  {
   "cell_type": "code",
   "execution_count": null,
   "id": "91c51ef8",
   "metadata": {
    "tags": [
     "solution"
    ]
   },
   "outputs": [],
   "source": [
    "print(str(todo_list))"
   ]
  },
  {
   "cell_type": "code",
   "execution_count": null,
   "id": "d3824cae",
   "metadata": {
    "tags": [
     "solution"
    ]
   },
   "outputs": [],
   "source": [
    "todo_list.mark_done(\"Python lernen\")"
   ]
  },
  {
   "cell_type": "code",
   "execution_count": null,
   "id": "8fe70785",
   "metadata": {
    "tags": [
     "solution"
    ]
   },
   "outputs": [],
   "source": [
    "print(str(todo_list))"
   ]
  },
  {
   "cell_type": "code",
   "execution_count": null,
   "id": "f421a703",
   "metadata": {
    "tags": [
     "solution"
    ]
   },
   "outputs": [],
   "source": [
    "todo_list.mark_done(\"Python lernen\")"
   ]
  },
  {
   "cell_type": "code",
   "execution_count": null,
   "id": "6c36f310",
   "metadata": {
    "tags": [
     "solution"
    ]
   },
   "outputs": [],
   "source": [
    "print(str(todo_list))"
   ]
  },
  {
   "cell_type": "code",
   "execution_count": null,
   "id": "fd36461d",
   "metadata": {
    "tags": [
     "solution"
    ]
   },
   "outputs": [],
   "source": [
    "from typing import List\n",
    "\n",
    "\n",
    "class TodoList:\n",
    "    def __init__(self, items):\n",
    "        self.items: List[TodoItem] = [TodoItem(**spec) for spec in items]\n",
    "\n",
    "    def add(self, title, priority=1, is_completed=False):\n",
    "        self.items.append(TodoItem(title, priority, is_completed))\n",
    "\n",
    "    def mark_done(self, title):\n",
    "        for item in self.items:\n",
    "            if item.title == title and not item.is_completed:\n",
    "                item.is_completed = True\n",
    "                break\n",
    "\n",
    "    def delete(self, title):\n",
    "        index_to_delete = -1\n",
    "        for index, item in enumerate(self.items):\n",
    "            if item.title == title:\n",
    "                index_to_delete = index\n",
    "                break\n",
    "        if index_to_delete >= 0:\n",
    "            del self.items[index_to_delete]\n",
    "\n",
    "    def delete_all_completed(self):\n",
    "        indices_to_delete = []\n",
    "        # To keep PyCharm happy\n",
    "        assert isinstance(self.items, list)\n",
    "        for index, item in enumerate(self.items):\n",
    "            if item.is_completed:\n",
    "                indices_to_delete.append(index)\n",
    "        import numpy as np\n",
    "        self.items = np.delete(self.items, indices_to_delete).tolist()\n",
    "\n",
    "    def __str__(self):\n",
    "        from io import StringIO\n",
    "        result = StringIO()\n",
    "        print(\"Todo List:\", file=result)\n",
    "        for item in self.items:\n",
    "            print(f\"  {item!s}\", file=result)\n",
    "        return result.getvalue()\n",
    "\n",
    "    def __repr__(self):\n",
    "        return f\"TodoList({self.items!r})\"\n",
    "\n",
    "    def __iter__(self):\n",
    "        return (i for i in self.items)"
   ]
  },
  {
   "cell_type": "markdown",
   "id": "9b4594aa",
   "metadata": {},
   "source": [
    "## Laden und Speichern\n",
    "\n",
    "Erweitern Sie die Klasse `TodoList` um eine Methode\n",
    "\n",
    "```save_to_file(self, file)```\n",
    "\n",
    "und eine statische Methode\n",
    "\n",
    "```load_from_file(file)```\n",
    "\n",
    "mit der Todo-Listen gespeichert und geladen werden können.\n",
    "\n",
    "*Hinweis:* Am Einfachsten ist das mit der `pickle` Bibliothek."
   ]
  },
  {
   "cell_type": "code",
   "execution_count": null,
   "id": "b65c2364",
   "metadata": {},
   "outputs": [],
   "source": []
  },
  {
   "cell_type": "markdown",
   "id": "9f514891",
   "metadata": {},
   "source": [
    "## Kommandozeilenargumente\n",
    "\n",
    "Fügen Sie eine Datei `main.py` zu Ihrer Implementierung hinzu, die einen\n",
    "`ArgumentParser` instanziieren, der folgende Subkommandos verarbeiten kann:\n",
    "\n",
    "- `create file`: erstellt `file` neu mit Größe 0\n",
    "\n",
    "- `add file title --priority priority` fügt ein neues Todo-Item zu `file`\n",
    "  hinzu\n",
    "\n",
    "- `delete file title` löscht das erste Todo-Item mit Titel `title` aus der\n",
    "  Todo-Liste\n",
    "\n",
    "- `mark-completed file title` markiert das erste Todo-Item mit Titel `title`\n",
    "  als erledigt\n",
    "\n",
    "- `delete-all-completed file` entfernt alle erledigten Items aus `file`\n",
    "\n",
    "- `list file` gibt die TODO-Liste aus\n",
    "\n",
    "- Das positionales Argument `file`, das in allen Subkommandos vorkommt,\n",
    "  bennennt eine Datei, in der eine TODO-Liste gespeichert ist bzw.\n",
    "  gespeichert werden kann. Dieses Argument muss angegeben werden. Der Inhalt\n",
    "  von `file` ist eine   Todo-Liste im `pickle` Format.\n",
    "\n",
    "Beispielaufrufe:\n",
    "\n",
    "```shell\n",
    "$ python -m todos.main add .\\my-todos.json 'Kaufe Äpfel' 1\n",
    "$ python -m todos.main add .\\my-todos.json list\n",
    "```\n",
    "\n",
    "Die vorgenommenen Änderungen sollen in `file` gespeichert werden."
   ]
  },
  {
   "cell_type": "code",
   "execution_count": null,
   "id": "e81dd9bc",
   "metadata": {},
   "outputs": [],
   "source": []
  },
  {
   "cell_type": "markdown",
   "id": "57ab0720",
   "metadata": {},
   "source": [
    "## Packaging\n",
    "\n",
    "Fügen Sie eine `setup.py` Datei, sowie alle weiteren benötigten Dateien zu\n",
    "Ihrem Projekt hinzu, um daraus eine Wheel-Datei zu generieren.\n",
    "\n",
    "Erzeugen Sie in der `setup.py`-Datei ein Skript, das Ihre Anwendung startet."
   ]
  },
  {
   "cell_type": "code",
   "execution_count": null,
   "id": "c1d38291",
   "metadata": {},
   "outputs": [],
   "source": []
  }
 ],
 "metadata": {
  "jupytext": {
   "encoding": "# -*- coding: utf-8 -*-",
   "formats": "ipynb"
  },
  "kernelspec": {
   "display_name": "Python 3 (ipykernel)",
   "language": "python",
   "name": "python3"
  }
 },
 "nbformat": 4,
 "nbformat_minor": 5
}
