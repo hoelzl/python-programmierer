{
 "cells": [
  {
   "cell_type": "markdown",
   "id": "cdc1e7e1",
   "metadata": {},
   "source": [
    "## Cäsar-Verschlüsselung\n",
    "\n",
    "Bei der Cäsar-Verschlüsselung werden die Buchstaben des zu verschlüsselnden\n",
    "Wortes im Alphabet um 3 Stellen verschoben, z.B. wird aus der Zeichenkette\n",
    "`ABC` die Zeichenkette `DEF`. Die letzten drei Buchstaben des Alphabets\n",
    "werden durch die ersten ersetzt, d.h. aus `XYZA` wird `ABCD`.\n",
    "\n",
    "Typischerweise wurden bei historischen Verschlüsselungsverfahren alle\n",
    "Buchstaben in Großbuchstaben umgewandelt. Leer- und Sonderzeichen werden\n",
    "ignoriert. So wird aus \"Ich kam, sah und siegte.\" der verschlüsselte Text\n",
    "\n",
    "```\n",
    "LFKNDPVDKXQGVLHJWH\n",
    "```"
   ]
  },
  {
   "cell_type": "markdown",
   "id": "e4045f9a",
   "metadata": {},
   "source": [
    "\n",
    "Schreiben Sie eine Funktion `encode_char(c: str)`, die einen String `c`,\n",
    "der nur aus einem einzigen Zeichen besteht, folgendermaßen verschlüsselt:\n",
    "\n",
    "- ist `c` einer der Buchstaben `a` bis `z` oder `A` bis `Z` so wird er, falls\n",
    "  nötig, in einen Großbuchstaben umgewandelt und mit der Cäsar-Verschlüsselung\n",
    "  verschlüsselt;\n",
    "- ist `c` eine Ziffer, so wird sie unverändert zurückgegeben;\n",
    "- andernfalls wird der leere String `\"\"` zurückgegeben.\n",
    "\n",
    "*Hinweis:* Die folgenden beiden Strings sind dabei hilfreich:"
   ]
  },
  {
   "cell_type": "code",
   "execution_count": null,
   "id": "6a6f44fc",
   "metadata": {
    "tags": [
     "solution"
    ]
   },
   "outputs": [],
   "source": [
    "letters_in_alphabetical_order = \"ABCDEFGHIJKLMNOPQRSTUVWXYZ1234567890\"\n",
    "letters_in_encoded_order = \"DEFGHIJKLMNOPQRSTUVWXYZABC1234567890\""
   ]
  },
  {
   "cell_type": "code",
   "execution_count": null,
   "id": "ad8f0988",
   "metadata": {
    "tags": [
     "solution"
    ]
   },
   "outputs": [],
   "source": [
    "def encode_char(c: str):\n",
    "    c_upper = c.upper()\n",
    "    if c_upper in letters_in_alphabetical_order:\n",
    "        index = letters_in_alphabetical_order.index(c_upper)\n",
    "        return letters_in_encoded_order[index]\n",
    "    else:\n",
    "        return \"\""
   ]
  },
  {
   "cell_type": "markdown",
   "id": "e6411b60",
   "metadata": {},
   "source": [
    "Testen Sie Ihre Implementierung mit einigen Werten"
   ]
  },
  {
   "cell_type": "code",
   "execution_count": null,
   "id": "e9e8893b",
   "metadata": {
    "tags": [
     "solution"
    ]
   },
   "outputs": [],
   "source": [
    "encode_char(\"a\")"
   ]
  },
  {
   "cell_type": "code",
   "execution_count": null,
   "id": "bb722fad",
   "metadata": {
    "tags": [
     "solution"
    ]
   },
   "outputs": [],
   "source": [
    "encode_char(\"x\")"
   ]
  },
  {
   "cell_type": "code",
   "execution_count": null,
   "id": "f248a7ee",
   "metadata": {
    "tags": [
     "solution"
    ]
   },
   "outputs": [],
   "source": [
    "encode_char(\"3\")"
   ]
  },
  {
   "cell_type": "code",
   "execution_count": null,
   "id": "60ccbf7b",
   "metadata": {
    "tags": [
     "solution"
    ]
   },
   "outputs": [],
   "source": [
    "encode_char(\"!\")"
   ]
  },
  {
   "cell_type": "markdown",
   "id": "8f8029bf",
   "metadata": {},
   "source": [
    "\n",
    "Schreiben Sie eine Funktion `encode_caesar(text: str)`, die einen String\n",
    "`text` mittels der Cäsar-Verschlüsselung verschlüsselt."
   ]
  },
  {
   "cell_type": "code",
   "execution_count": null,
   "id": "d1b4950c",
   "metadata": {
    "tags": [
     "solution"
    ]
   },
   "outputs": [],
   "source": [
    "def encode_caesar(text: str):\n",
    "    return \"\".join(encode_char(c) for c in text)"
   ]
  },
  {
   "cell_type": "markdown",
   "id": "b9615d69",
   "metadata": {},
   "source": [
    "Überprüfen Sie Ihr Programm mit den folgenden Beispielen:"
   ]
  },
  {
   "cell_type": "code",
   "execution_count": null,
   "id": "1564c2e3",
   "metadata": {
    "tags": [
     "solution"
    ]
   },
   "outputs": [],
   "source": [
    "pangram = \"Sphinx of black quartz, judge my vow!\""
   ]
  },
  {
   "cell_type": "code",
   "execution_count": null,
   "id": "38ba2f71",
   "metadata": {
    "tags": [
     "solution"
    ]
   },
   "outputs": [],
   "source": [
    "encoded_pangram = encode_caesar(pangram)\n",
    "encoded_pangram"
   ]
  },
  {
   "cell_type": "code",
   "execution_count": null,
   "id": "58b42d31",
   "metadata": {
    "tags": [
     "solution"
    ]
   },
   "outputs": [],
   "source": [
    "verlaine = \"\"\"\\\n",
    "1. Les sanglots longs\n",
    "2. Des violons\n",
    "3. De l'automne\n",
    "4. Blessent mon cœur\n",
    "5. D'une langueur\n",
    "6. Monotone.\n",
    "\n",
    "(Verlaine, 1866)\n",
    "Gesendet vom BBC 1944-06-01 um Operation Overlord anzukündigen\n",
    "\"\"\""
   ]
  },
  {
   "cell_type": "code",
   "execution_count": null,
   "id": "fd7f260a",
   "metadata": {
    "tags": [
     "solution"
    ]
   },
   "outputs": [],
   "source": [
    "encoded_verlaine = encode_caesar(verlaine)\n",
    "encoded_verlaine"
   ]
  },
  {
   "cell_type": "markdown",
   "id": "e90b5da9",
   "metadata": {},
   "source": [
    "\n",
    "Schreiben Sie jetzt Funktionen `decode_char(c: str)` und `decode_caesar(\n",
    "text: str)`, die einen mit der Cäsar-Verschlüsselung verschlüsselten Text\n",
    "entschlüsseln. Um robust zu sein sollen diese Funktionen Zeichen, die nicht\n",
    "Buchstaben oder Ziffern sind unverändert zurückgeben."
   ]
  },
  {
   "cell_type": "code",
   "execution_count": null,
   "id": "c5541be8",
   "metadata": {
    "tags": [
     "solution"
    ]
   },
   "outputs": [],
   "source": [
    "def decode_char(c: str):\n",
    "    if c in letters_in_encoded_order:\n",
    "        index = letters_in_encoded_order.index(c)\n",
    "        return letters_in_alphabetical_order[index]\n",
    "    else:\n",
    "        return c"
   ]
  },
  {
   "cell_type": "code",
   "execution_count": null,
   "id": "aa901bb5",
   "metadata": {
    "tags": [
     "solution"
    ]
   },
   "outputs": [],
   "source": [
    "def decode_caesar(text: str):\n",
    "    return \"\".join(decode_char(c) for c in text)"
   ]
  },
  {
   "cell_type": "code",
   "execution_count": null,
   "id": "36ca672a",
   "metadata": {
    "tags": [
     "solution"
    ]
   },
   "outputs": [],
   "source": [
    "def decode_caesar2(text: str):\n",
    "    result = \"\"\n",
    "    for c in text:\n",
    "        result += decode_char(c)\n",
    "    return result"
   ]
  },
  {
   "cell_type": "markdown",
   "id": "3dc7d823",
   "metadata": {},
   "source": [
    "Testen Sie `decode_caesar()` mit `pangram` und `verlaine`."
   ]
  },
  {
   "cell_type": "code",
   "execution_count": null,
   "id": "475f2008",
   "metadata": {
    "tags": [
     "solution"
    ]
   },
   "outputs": [],
   "source": [
    "decoded_pangram = decode_caesar(encoded_pangram)\n",
    "decoded_pangram"
   ]
  },
  {
   "cell_type": "code",
   "execution_count": null,
   "id": "1b1000a1",
   "metadata": {
    "tags": [
     "solution"
    ]
   },
   "outputs": [],
   "source": [
    "decoded_verlaine = decode_caesar(encoded_verlaine)\n",
    "print(decoded_verlaine)"
   ]
  },
  {
   "cell_type": "code",
   "execution_count": null,
   "id": "24334a3a",
   "metadata": {
    "tags": [
     "solution"
    ]
   },
   "outputs": [],
   "source": [
    "assert decoded_pangram == decode_caesar2(encoded_pangram)"
   ]
  },
  {
   "cell_type": "code",
   "execution_count": null,
   "id": "0d8524bb",
   "metadata": {
    "tags": [
     "solution"
    ]
   },
   "outputs": [],
   "source": [
    "assert decoded_verlaine == decode_caesar2(encoded_verlaine)"
   ]
  },
  {
   "cell_type": "markdown",
   "id": "74e771cf",
   "metadata": {},
   "source": [
    "Entschlüsseln Sie den folgenden Text:\n",
    "```\n",
    "SDFN PB ERA ZLWK ILYH GRCHQ OLTXRU MXJV\n",
    "(SDQJUDP IURP QDVD'V VSDFH VKXWWOH SURJUDP)\n",
    "```"
   ]
  },
  {
   "cell_type": "code",
   "execution_count": null,
   "id": "a931d88c",
   "metadata": {
    "tags": [
     "solution"
    ]
   },
   "outputs": [],
   "source": [
    "secret_text = \"\"\"\\\n",
    "SDFN PB ERA ZLWK ILYH GRCHQ OLTXRU MXJV\n",
    "(SDQJUDP IURP QDVD'V VSDFH VKXWWOH SURJUDP)\\\n",
    "\"\"\"\n",
    "print(decode_caesar(secret_text))"
   ]
  },
  {
   "cell_type": "markdown",
   "id": "7bea4f68",
   "metadata": {
    "pycharm": {
     "is_executing": false,
     "name": "#%% md\n"
    }
   },
   "source": [
    "Die Funktionen `encode_char()` und `decode_char()` enthalten viel duplizierten\n",
    "Code. Können Sie eine Funktion `rot_n_char(...)` schreiben, die die\n",
    "Funktionalität beider Funktionen verallgemeinert?"
   ]
  },
  {
   "cell_type": "code",
   "execution_count": null,
   "id": "817c49da",
   "metadata": {
    "tags": [
     "solution"
    ]
   },
   "outputs": [],
   "source": [
    "def rot_n_char(c: str, n: int, keep_non_letters=False):\n",
    "    c_upper = c.upper()\n",
    "    if c_upper in letters_in_alphabetical_order:\n",
    "        source_index = letters_in_alphabetical_order.index(c_upper)\n",
    "        target_index = (source_index + n) % len(letters_in_alphabetical_order)\n",
    "        return letters_in_alphabetical_order[target_index]\n",
    "    elif keep_non_letters:\n",
    "        return c_upper\n",
    "    else:\n",
    "        return \"\""
   ]
  },
  {
   "cell_type": "markdown",
   "id": "e950f642",
   "metadata": {},
   "source": [
    "\n",
    "Wie würden Sie `encode_caesar_2()` und `decode_caesar_2()` unter\n",
    "Zuhilfenahme dieser Funktion implementieren?"
   ]
  },
  {
   "cell_type": "code",
   "execution_count": null,
   "id": "876dba80",
   "metadata": {
    "tags": [
     "solution"
    ]
   },
   "outputs": [],
   "source": [
    "def encode_caesar_2(text: str, keep_non_letters=False):\n",
    "    return \"\".join(rot_n_char(c, 3, keep_non_letters=keep_non_letters)\n",
    "                   for c in text)"
   ]
  },
  {
   "cell_type": "code",
   "execution_count": null,
   "id": "eab5673a",
   "metadata": {
    "tags": [
     "solution"
    ]
   },
   "outputs": [],
   "source": [
    "def decode_caesar_2(text: str):\n",
    "    return \"\".join(rot_n_char(c, -3, keep_non_letters=True) for c in text)"
   ]
  },
  {
   "cell_type": "markdown",
   "id": "47950834",
   "metadata": {},
   "source": [
    "Testen Sie die neue Funktion mittels `secret_text` und `verlaine`.\n",
    "Sind alte und neue Implementierung kompatibel?"
   ]
  },
  {
   "cell_type": "code",
   "execution_count": null,
   "id": "ea767fbe",
   "metadata": {
    "tags": [
     "solution"
    ]
   },
   "outputs": [],
   "source": [
    "print(decode_caesar_2(secret_text))"
   ]
  },
  {
   "cell_type": "code",
   "execution_count": null,
   "id": "b9c2999b",
   "metadata": {
    "tags": [
     "solution"
    ]
   },
   "outputs": [],
   "source": [
    "encoded_verlaine_2 = encode_caesar_2(verlaine, keep_non_letters=True)\n",
    "print(encoded_verlaine_2)"
   ]
  },
  {
   "cell_type": "code",
   "execution_count": null,
   "id": "2fc26eda",
   "metadata": {
    "tags": [
     "solution"
    ]
   },
   "outputs": [],
   "source": [
    "print(decode_caesar_2(encoded_verlaine_2))"
   ]
  },
  {
   "cell_type": "code",
   "execution_count": null,
   "id": "760acb86",
   "metadata": {
    "tags": [
     "solution"
    ]
   },
   "outputs": [],
   "source": [
    "print(decode_caesar(encoded_verlaine_2))"
   ]
  },
  {
   "cell_type": "markdown",
   "id": "50fe95fe",
   "metadata": {},
   "source": [
    "Die Decodierung mit dem ursprünglichen Cäsar-Code zeigt, dass unsere neue\n",
    "Implementierung einen Fehler hat: sie vermischt Zahlen und Buchstaben. Wie\n",
    "können wir den Fehler beseitigen?"
   ]
  },
  {
   "cell_type": "code",
   "execution_count": null,
   "id": "d49bf5b7",
   "metadata": {
    "tags": [
     "solution"
    ]
   },
   "outputs": [],
   "source": [
    "letters = \"ABCDEFGHIJKLMNOPQRSTUVWXYZ\"\n",
    "letters"
   ]
  },
  {
   "cell_type": "code",
   "execution_count": null,
   "id": "f99d9fc2",
   "metadata": {
    "tags": [
     "solution"
    ]
   },
   "outputs": [],
   "source": [
    "def rot_n_char(c: str, n: int, keep_non_letters=False):\n",
    "    c_upper = c.upper()\n",
    "    if c_upper in letters:\n",
    "        source_index = letters.index(c_upper)\n",
    "        target_index = (source_index + n) % len(letters)\n",
    "        return letters[target_index]\n",
    "    elif c.isnumeric() or keep_non_letters:\n",
    "        return c_upper\n",
    "    else:\n",
    "        return \"\"\n",
    "\n",
    "\n",
    "def encode_caesar_2(text: str, keep_non_letters=False):\n",
    "    return \"\".join(rot_n_char(c, 3, keep_non_letters=keep_non_letters)\n",
    "                   for c in text)\n",
    "\n",
    "\n",
    "def decode_caesar_2(text: str):\n",
    "    return \"\".join(rot_n_char(c, -3, keep_non_letters=True) for c in text)"
   ]
  },
  {
   "cell_type": "markdown",
   "id": "cda54b45",
   "metadata": {},
   "source": [
    "Testen Sie die neue Implementierung indem Sie `secret_text` decodieren."
   ]
  },
  {
   "cell_type": "code",
   "execution_count": null,
   "id": "38d24fca",
   "metadata": {
    "tags": [
     "solution"
    ]
   },
   "outputs": [],
   "source": [
    "print(decode_caesar_2(secret_text))"
   ]
  },
  {
   "cell_type": "markdown",
   "id": "ddcec794",
   "metadata": {},
   "source": [
    "Testen Sie die neue Implementierung mit `verlaine`."
   ]
  },
  {
   "cell_type": "code",
   "execution_count": null,
   "id": "d48dc61e",
   "metadata": {
    "tags": [
     "solution"
    ]
   },
   "outputs": [],
   "source": [
    "encoded_verlaine_2 = encode_caesar_2(verlaine, keep_non_letters=True)\n",
    "print(encoded_verlaine_2)"
   ]
  },
  {
   "cell_type": "code",
   "execution_count": null,
   "id": "4c1fbc3a",
   "metadata": {
    "tags": [
     "solution"
    ]
   },
   "outputs": [],
   "source": [
    "print(decode_caesar_2(encoded_verlaine_2))"
   ]
  },
  {
   "cell_type": "code",
   "execution_count": null,
   "id": "8cc8c4c0",
   "metadata": {
    "tags": [
     "solution"
    ]
   },
   "outputs": [],
   "source": [
    "print(decode_caesar(encoded_verlaine_2))"
   ]
  },
  {
   "cell_type": "code",
   "execution_count": null,
   "id": "96f81c8c",
   "metadata": {
    "tags": [
     "solution"
    ]
   },
   "outputs": [],
   "source": [
    "decode_caesar(encoded_verlaine_2) == decode_caesar_2(encoded_verlaine_2)"
   ]
  }
 ],
 "metadata": {
  "jupytext": {
   "encoding": "# -*- coding: utf-8 -*-",
   "formats": "ipynb"
  },
  "kernelspec": {
   "display_name": "Python 3 (ipykernel)",
   "language": "python",
   "name": "python3"
  }
 },
 "nbformat": 4,
 "nbformat_minor": 5
}
