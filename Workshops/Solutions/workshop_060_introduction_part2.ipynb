{
 "cells": [
  {
   "cell_type": "markdown",
   "id": "f7a18da8",
   "metadata": {},
   "source": [
    "# Operatoren, Vergleiche\n",
    "\n",
    "Ist $2^{16}$ größer als $32\\,000\\,\\,/\\,\\,2$?"
   ]
  },
  {
   "cell_type": "code",
   "execution_count": null,
   "id": "db8acf5e",
   "metadata": {
    "tags": [
     "solution"
    ]
   },
   "outputs": [],
   "source": [
    "2 ** 16 > (32_000 / 2)"
   ]
  },
  {
   "cell_type": "markdown",
   "id": "10af452d",
   "metadata": {},
   "source": [
    "Ist $72$ ohne Rest durch $3$ teilbar?"
   ]
  },
  {
   "cell_type": "code",
   "execution_count": null,
   "id": "a479706a",
   "metadata": {
    "tags": [
     "solution"
    ]
   },
   "outputs": [],
   "source": [
    "72 % 3 == 0"
   ]
  },
  {
   "cell_type": "markdown",
   "id": "ae26b665",
   "metadata": {},
   "source": [
    "Ist $72$ eine gerade Zahl (d.h. ohne Rest durch 2 teilbar)?"
   ]
  },
  {
   "cell_type": "code",
   "execution_count": null,
   "id": "63ae4275",
   "metadata": {
    "tags": [
     "solution"
    ]
   },
   "outputs": [],
   "source": [
    "72 % 2 == 0"
   ]
  },
  {
   "cell_type": "markdown",
   "id": "b5cdf653",
   "metadata": {},
   "source": [
    "\n",
    "Schreiben Sie eine Funktion `ist_teilbar_durch(m, n)` die ( genau dann)\n",
    "`True` zurückgibt, wenn `m` durch `n` teilbar ist"
   ]
  },
  {
   "cell_type": "code",
   "execution_count": null,
   "id": "649b6cb6",
   "metadata": {
    "tags": [
     "solution"
    ]
   },
   "outputs": [],
   "source": [
    "def ist_teilbar_durch(m, n):\n",
    "    return m % n == 0\n",
    "\n",
    "\n",
    "ist_teilbar_durch(6, 2)"
   ]
  },
  {
   "cell_type": "markdown",
   "id": "217bfc3b",
   "metadata": {},
   "source": [
    "\n",
    "Schreiben Sie eine Funktion `ist_teilbar_durch_2_und_3(n)`, die genau dann\n",
    "`True` zurückgibt, wenn `n` ohne Rest durch $2$ und durch $3$ teilbar ist."
   ]
  },
  {
   "cell_type": "code",
   "execution_count": null,
   "id": "ba340646",
   "metadata": {
    "tags": [
     "solution"
    ]
   },
   "outputs": [],
   "source": [
    "def ist_teilbar_durch_2_und_3(n):\n",
    "    return ist_teilbar_durch(n, 2) and ist_teilbar_durch(n, 3)"
   ]
  },
  {
   "cell_type": "code",
   "execution_count": null,
   "id": "5d6204c7",
   "metadata": {
    "tags": [
     "solution"
    ]
   },
   "outputs": [],
   "source": [
    "def ist_teilbar_durch_2_und_3_v2(n):\n",
    "    return n % 6 == 0"
   ]
  },
  {
   "cell_type": "markdown",
   "id": "dae7e7cb",
   "metadata": {},
   "source": [
    "Testen Sie, ob $72$ durch $2$ und durch $3$ teilbar ist.\n",
    "\n",
    " tags=[\"solution\"]\n",
    "ist_teilbar_durch_2_und_3(72)"
   ]
  },
  {
   "cell_type": "markdown",
   "id": "bbded5d5",
   "metadata": {},
   "source": [
    "# Volljährig\n",
    "\n",
    "Schreiben Sie eine Funktion `drucke_volljährig(alter)`, die `Volljährig`\n",
    "auf dem Bildschirm ausgibt, wenn `alter >= 18` ist und `Minderjährig` sonst.\n",
    "\n",
    " tags=[\"solution\"]\n",
    "def drucke_volljährig(alter):\n",
    "    if alter < 18:\n",
    "        print(\"Minderjährig\")\n",
    "    else:\n",
    "        print(\"Volljährig\")"
   ]
  },
  {
   "cell_type": "markdown",
   "id": "416132eb",
   "metadata": {},
   "source": [
    "Testen Sie `drucke_volljährig(alter)` mit den Werten 17 und 18.\n",
    "\n",
    " tags=[\"solution\"]\n",
    "drucke_volljährig(17)\n",
    "drucke_volljährig(18)"
   ]
  },
  {
   "cell_type": "markdown",
   "id": "d97c64af",
   "metadata": {},
   "source": [
    "# Einkaufsliste\n",
    "\n",
    "Definieren Sie Variablen\n",
    "- `meine_einkaufsliste`, die eine Liste mit den Strings `Tee` und `Kaffee`\n",
    "  enthält,\n",
    "- `eine_andere_einkaufsliste`, die ebenfalls eine Liste mit den Strings\n",
    "  `Tee` und `Kaffee` enthält.\n",
    "\n",
    " tags=[\"solution\"]\n",
    "meine_einkaufsliste = [\"Tee\", \"Kaffee\"]\n",
    "eine_andere_einkaufsliste = [\"Tee\", \"Kaffee\"]"
   ]
  },
  {
   "cell_type": "markdown",
   "id": "fdb5a0dd",
   "metadata": {},
   "source": [
    "\n",
    "Definieren Sie eine Funktion `drucke_einkaufsliste(einkaufsliste)`, die die\n",
    "als Argument übergebene Einkaufsliste ausdruckt:\n",
    "\n",
    "```\n",
    "Einkaufsliste:\n",
    "  Tee\n",
    "  Kaffee\n",
    "```\n",
    "\n",
    " tags=[\"solution\"]\n",
    "def drucke_einkaufsliste(einkaufsliste):\n",
    "    print(\"Einkaufsliste:\")\n",
    "    for item in einkaufsliste:\n",
    "        print(\" \", item)"
   ]
  },
  {
   "cell_type": "markdown",
   "id": "58505af7",
   "metadata": {},
   "source": [
    "\n",
    "Testen Sie die Funktion `drucke_einkaufsliste(einkaufsliste)` mit beiden\n",
    "Einkaufslisten.\n",
    "\n",
    " tags=[\"solution\"]\n",
    "drucke_einkaufsliste(meine_einkaufsliste)\n",
    "\n",
    " tags=[\"solution\"]\n",
    "drucke_einkaufsliste(eine_andere_einkaufsliste)"
   ]
  },
  {
   "cell_type": "markdown",
   "id": "47e0e6b6",
   "metadata": {},
   "source": [
    "Definieren Sie eine Funktion `kaufe(produkt, einkaufsliste)`, das `produkt`\n",
    "zu  `einkaufsliste` hinzufügt.\n",
    "\n",
    " tags=[\"solution\"]\n",
    "def kaufe(produkt, einkaufsliste):\n",
    "    einkaufsliste.append(produkt)"
   ]
  },
  {
   "cell_type": "markdown",
   "id": "d3f0dfa3",
   "metadata": {},
   "source": [
    "Fügen Sie `Butter` und `Brot` zur Einkaufsliste `meine_einkaufsliste` hinzu.\n",
    "\n",
    " tags=[\"solution\"]\n",
    "kaufe(\"Butter\", meine_einkaufsliste)\n",
    "kaufe(\"Brot\", meine_einkaufsliste)"
   ]
  },
  {
   "cell_type": "markdown",
   "id": "95fb0570",
   "metadata": {},
   "source": [
    "Drucken Sie beide Einkauslisten nochmal aus.\n",
    "\n",
    " tags=[\"solution\"]\n",
    "drucke_einkaufsliste(meine_einkaufsliste)\n",
    "\n",
    " tags=[\"solution\"]\n",
    "drucke_einkaufsliste(eine_andere_einkaufsliste)"
   ]
  },
  {
   "cell_type": "markdown",
   "id": "f9e5febe",
   "metadata": {},
   "source": [
    "Was passiert, wenn Sie `Butter` und `Brot` nochmals zur Einkaufsliste\n",
    "`meine_einkaufsliste` hinzufügen?\n",
    "\n",
    " tags=[\"solution\"]\n",
    "kaufe(\"Butter\", meine_einkaufsliste)\n",
    "kaufe(\"Brot\", meine_einkaufsliste)\n",
    "drucke_einkaufsliste(meine_einkaufsliste)"
   ]
  },
  {
   "cell_type": "markdown",
   "id": "b126748c",
   "metadata": {},
   "source": [
    "# Ausgabe von Quadratzahlen\n",
    "\n",
    "Schreiben Sie eine Funktion `drucke_quadrate(m, n)`, die die Quadrate der\n",
    "Zahlen zwischen `m` und `n` (einschließlich) in der folgenden Form ausgibt:\n",
    "\n",
    "```\n",
    "Das Quadrat von 5 ist 25\n",
    "Das Quadrat von 6 ist 36\n",
    "Das Quadrat von 7 ist 49\n",
    "```"
   ]
  },
  {
   "cell_type": "code",
   "execution_count": null,
   "id": "1966a35a",
   "metadata": {
    "tags": [
     "solution"
    ]
   },
   "outputs": [],
   "source": [
    "def drucke_quadrate(m, n):\n",
    "    for num in range(m, n + 1):\n",
    "        print(\"Das Quadrat von\", num, \"ist\", num ** 2)"
   ]
  },
  {
   "cell_type": "markdown",
   "id": "2e5e5574",
   "metadata": {},
   "source": [
    "Testen Sie die Funktion mit Argumenten 5, 7"
   ]
  },
  {
   "cell_type": "code",
   "execution_count": null,
   "id": "4b6c830c",
   "metadata": {
    "tags": [
     "solution"
    ]
   },
   "outputs": [],
   "source": [
    "drucke_quadrate(5, 7)"
   ]
  },
  {
   "cell_type": "markdown",
   "id": "4dd74b1e",
   "metadata": {},
   "source": [
    "# Verbesserte Einkaufsliste\n",
    "\n",
    "In dieser Aufgabe wollen wir eine verbesserte Version der Einkaufsliste\n",
    "definieren, in der sowohl die Einkaufsliste als auch die Einträge durch\n",
    "benutzerdefinierte Datentypen repräsentiert werden. Jeder Eintrag soll das\n",
    "Produkt und die davon benötigte Menge enthalten.\n",
    "\n",
    "Definieren Sie eine Klasse `Item`, die Attribute für das Produkt und Menge\n",
    "hat. `Item` soll eine `__repr__`-Methode haben, die das Item in einer\n",
    "angemessenen Form darstellt.\n",
    "\n",
    " tags=[\"solution\"]\n",
    "class Item:\n",
    "    def __init__(self, product, amount='1'):\n",
    "        self.product = product\n",
    "        self.amount = amount\n",
    "\n",
    "    def __repr__(self):\n",
    "        return \"Item(\" + repr(self.product) + \", \" + repr(self.amount) + \")\""
   ]
  },
  {
   "cell_type": "markdown",
   "id": "1c8dcc7d",
   "metadata": {},
   "source": [
    "Erzeugen sie ein Item, das 500g Kaffee repräsentiert:\n",
    "\n",
    " tags=[\"solution\"]\n",
    "Item(\"Kaffee\", \"500g\")"
   ]
  },
  {
   "cell_type": "markdown",
   "id": "8c149b8d",
   "metadata": {},
   "source": [
    "Definieren Sie eine Klasse `ShoppingList`, die eine Liste von `Item`-Instanzen\n",
    "beinhaltet:\n",
    "\n",
    "- Der Konstruktor `__init__(self, items=[])` erzeugt eine Einkaufsliste,\n",
    "  die die Einträge `items` enthält (jedes Element von `items` soll eine\n",
    "  `Item`-Instanz sein).\n",
    "\n",
    "- Die Methode `shopping_list.add_item(item: Item)` fügt ein `Item` zur\n",
    "  Einkaufsliste `shopping_list` hinzu.\n",
    "\n",
    "- Die Methode `print()` druckt die Einkaufsliste aus.\n",
    "\n",
    "`ShoppingList` soll eine `__repr__`-Methode haben, die die Einkaufsliste in\n",
    "  einer geeigneten Form darstellt.\n",
    "\n",
    " tags=[\"solution\"]\n",
    "class ShoppingList:\n",
    "    def __init__(self, items=[]):\n",
    "        self.items = items\n",
    "\n",
    "    def __repr__(self):\n",
    "        return \"ShoppingList(\" + repr(self.items) + \")\"\n",
    "\n",
    "    def add_item(self, item):\n",
    "        self.items.append(item)\n",
    "\n",
    "    def print(self):\n",
    "        print(\"Einkaufsliste\")\n",
    "        for item in self.items:\n",
    "            print(\"  \", item.product, \" (\", item.amount, \")\", sep='')"
   ]
  },
  {
   "cell_type": "markdown",
   "id": "7ae96422",
   "metadata": {},
   "source": [
    "Definieren Sie Variable `meine_einkaufsliste`, die eine Einkaufsliste mit\n",
    "folgenden Items repräsentiert:\n",
    "- 2 Pakete Tee,\n",
    "- 1 Paket Kaffee\n",
    "\n",
    " tags=[\"solution\"]\n",
    "meine_einkaufsliste = ShoppingList([Item('Tee', '2 Pakete'),\n",
    "                                    Item('Kaffee', '1 Paket')])\n",
    "meine_einkaufsliste"
   ]
  },
  {
   "cell_type": "markdown",
   "id": "26810da3",
   "metadata": {},
   "source": [
    "Drucken Sie `meine_einkaufsliste` aus.\n",
    "\n",
    " tags=[\"solution\"]\n",
    "meine_einkaufsliste.print()\n",
    "\n",
    " tags=[\"solution\"]\n",
    "drucke_einkaufsliste(eine_andere_einkaufsliste)"
   ]
  },
  {
   "cell_type": "markdown",
   "id": "e974af95",
   "metadata": {},
   "source": [
    "Fügen Sie  250 g Butter und  1 Laib Brot zur Einkaufsliste\n",
    "`meine_einkaufsliste` hinzu.\n",
    "\n",
    " tags=[\"solution\"]\n",
    "meine_einkaufsliste.add_item(Item(\"Butter\", \"250g\"))\n",
    "meine_einkaufsliste.add_item(Item(\"Brot\", \"1 Laib\"))\n",
    "meine_einkaufsliste"
   ]
  },
  {
   "cell_type": "markdown",
   "id": "21fcb57f",
   "metadata": {},
   "source": [
    "Drucken Sie die Einkaufsliste nochmal aus.\n",
    "\n",
    " tags=[\"solution\"]\n",
    "meine_einkaufsliste.print()"
   ]
  },
  {
   "cell_type": "markdown",
   "id": "01e6ee1b",
   "metadata": {},
   "source": [
    "Was passiert, wenn Sie `Butter` und `Brot` nochmals zur Einkaufsliste\n",
    "`meine_einkaufsliste` hinzufügen?\n",
    "\n",
    " tags=[\"solution\"]\n",
    "meine_einkaufsliste.add_item(Item(\"Butter\", \"250g\"))\n",
    "meine_einkaufsliste.add_item(Item(\"Brot\", \"1 Laib\"))\n",
    "meine_einkaufsliste.print()\n",
    "\n",
    " tags=[\"solution\"]"
   ]
  }
 ],
 "metadata": {
  "jupytext": {
   "encoding": "# -*- coding: utf-8 -*-",
   "formats": "ipynb"
  },
  "kernelspec": {
   "display_name": "Python 3 (ipykernel)",
   "language": "python",
   "name": "python3"
  }
 },
 "nbformat": 4,
 "nbformat_minor": 5
}
