{
 "cells": [
  {
   "cell_type": "markdown",
   "metadata": {
    "collapsed": true,
    "pycharm": {
     "name": "#%% md\n"
    }
   },
   "source": [
    "## Worthäufigkeiten\n",
    "\n",
    "Schreiben Sie eine Funktion `zähle_worte(text: str) -> dict`, die ein\n",
    "Dictionary zurückgibt, das die Anzahl der Vorkommen aller Worte in `text`  \n",
    "enthält. Zum Beispiel soll\n",
    "\n",
    "```\n",
    "zähle_worte(\"It was the best of times it was the worst of times\")\n",
    "```\n",
    "\n",
    "folgendes Dictionary zurückgeben:\n",
    "\n",
    "```\n",
    "{ 'it': 2,\n",
    "  'was': 2,\n",
    "  'the': 2,\n",
    "  'best': 1,\n",
    "  'of': 2,\n",
    "  'times': 2,\n",
    "  'worst': 1\n",
    "}\n",
    "```\n",
    "Beachten Sie, dass alle Wörter in Kleinbuchstaben umgewandelt wurden.\n",
    "\n",
    "###  Hinweise  \n",
    "- Sie können einen String mit der Methode `string.split()` in eine\n",
    "  Liste von Wörtern umwandeln\n",
    "- Sie können einen String mit der Methode `string.lower()` in einen String\n",
    "  umwandeln, der nur aus Kleinbuchstaben besteht."
   ]
  },
  {
   "cell_type": "code",
   "execution_count": 1,
   "metadata": {
    "pycharm": {
     "is_executing": false,
     "name": "#%%\n"
    }
   },
   "outputs": [],
   "source": [
    "def zähle_worte(text: str) -> dict:\n",
    "    words = text.lower().split()\n",
    "    result = {}\n",
    "    for word in words:\n",
    "        count = result.get(word, 0)\n",
    "        result[word] = count + 1\n",
    "    return result"
   ]
  },
  {
   "cell_type": "markdown",
   "metadata": {
    "pycharm": {
     "name": "#%% md\n"
    }
   },
   "source": [
    "Testen Sie Ihre Implementierung mit dem folgenden String:"
   ]
  },
  {
   "cell_type": "code",
   "execution_count": 12,
   "metadata": {
    "pycharm": {
     "is_executing": false,
     "name": "#%%\n"
    }
   },
   "outputs": [],
   "source": [
    "dickens = \"It was the best of times it was the worst of times\""
   ]
  },
  {
   "cell_type": "code",
   "execution_count": 13,
   "metadata": {
    "pycharm": {
     "name": "#%%\n"
    }
   },
   "outputs": [
    {
     "data": {
      "text/plain": [
       "{'it': 2, 'was': 2, 'the': 2, 'best': 1, 'of': 2, 'times': 2, 'worst': 1}"
      ]
     },
     "execution_count": 13,
     "metadata": {},
     "output_type": "execute_result"
    }
   ],
   "source": [
    "zähle_worte(dickens)"
   ]
  },
  {
   "cell_type": "code",
   "execution_count": 14,
   "metadata": {
    "pycharm": {
     "name": "#%%\n"
    }
   },
   "outputs": [],
   "source": [
    "from pprint import pprint"
   ]
  },
  {
   "cell_type": "code",
   "execution_count": 17,
   "metadata": {},
   "outputs": [
    {
     "name": "stdout",
     "output_type": "stream",
     "text": [
      "{'best': 1,\n",
      " 'it': 2,\n",
      " 'of': 2,\n",
      " 'the': 2,\n",
      " 'times': 2,\n",
      " 'was': 2,\n",
      " 'worst': 1}\n"
     ]
    }
   ],
   "source": [
    "pprint(zähle_worte(dickens), width=30)"
   ]
  },
  {
   "cell_type": "code",
   "execution_count": 16,
   "metadata": {},
   "outputs": [
    {
     "name": "stdout",
     "output_type": "stream",
     "text": [
      "Help on function pprint in module pprint:\n",
      "\n",
      "pprint(object, stream=None, indent=1, width=80, depth=None, *, compact=False, sort_dicts=True)\n",
      "    Pretty-print a Python object to a stream [default is sys.stdout].\n",
      "\n"
     ]
    }
   ],
   "source": [
    "help(pprint)"
   ]
  },
  {
   "cell_type": "code",
   "execution_count": null,
   "metadata": {},
   "outputs": [],
   "source": []
  }
 ],
 "metadata": {
  "jupytext": {
   "formats": "ipynb,auto:percent"
  },
  "kernelspec": {
   "display_name": "Python 3 (ipykernel)",
   "language": "python",
   "name": "python3"
  },
  "language_info": {
   "codemirror_mode": {
    "name": "ipython",
    "version": 3
   },
   "file_extension": ".py",
   "mimetype": "text/x-python",
   "name": "python",
   "nbconvert_exporter": "python",
   "pygments_lexer": "ipython3",
   "version": "3.9.7"
  },
  "pycharm": {
   "stem_cell": {
    "cell_type": "raw",
    "metadata": {
     "collapsed": false
    },
    "source": []
   }
  }
 },
 "nbformat": 4,
 "nbformat_minor": 1
}
