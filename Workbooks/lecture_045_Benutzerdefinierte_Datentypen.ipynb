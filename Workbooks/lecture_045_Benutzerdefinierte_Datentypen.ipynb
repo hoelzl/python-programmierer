{
 "cells": [
  {
   "cell_type": "markdown",
   "id": "07fd5339",
   "metadata": {},
   "source": [
    "<img src=\"img/python-logo-notext.svg\"\n",
    "     style=\"display:block;margin:auto;width:10%\"/>\n",
    "<h1 style=\"text-align:center;\">Python: Benutzerdefinierte Datentypen<br/><br/>\n",
    "Mit Exkursen in Ausnahmebehandlung, Dateien und Context Manager</h1>\n",
    "<h2 style=\"text-align:center;\">Coding Akademie München GmbH</h2>\n",
    "<br/>\n",
    "<div style=\"text-align:center;\">Dr. Matthias Hölzl</div>"
   ]
  },
  {
   "cell_type": "markdown",
   "id": "4c0913af",
   "metadata": {
    "pycharm": {
     "name": "#%% md\n"
    },
    "slideshow": {
     "slide_type": "slide"
    }
   },
   "source": [
    "# Umwandlung in Strings\n",
    "\n",
    "Python bietet zwei Funktionen an, mit denen beliebige Werte in Strings umgewandelt\n",
    "werden können:\n",
    "\n",
    "- `repr` für eine \"programmnahe\" Darstellung (wie könnte der Wert im Programm erzeugt werden)\n",
    "- `str` für eine \"benutzerfreundliche\" Darstellung"
   ]
  },
  {
   "cell_type": "code",
   "execution_count": null,
   "id": "680649ba",
   "metadata": {},
   "outputs": [],
   "source": [
    "print(str(\"Hallo!\"))"
   ]
  },
  {
   "cell_type": "code",
   "execution_count": null,
   "id": "b929a6ae",
   "metadata": {},
   "outputs": [],
   "source": [
    "print(repr(\"Hallo!\"))"
   ]
  },
  {
   "cell_type": "markdown",
   "id": "3d21c126",
   "metadata": {
    "pycharm": {
     "name": "#%% md\n"
    },
    "slideshow": {
     "slide_type": "subslide"
    }
   },
   "source": [
    "Für manche Datentypen liefern `str` und `repr` den gleichen String zurück:"
   ]
  },
  {
   "cell_type": "code",
   "execution_count": null,
   "id": "5ccfb63f",
   "metadata": {},
   "outputs": [],
   "source": [
    "print(str(['a', 'b', 'c']))\n",
    "print(repr(['a', 'b', 'c']))"
   ]
  },
  {
   "cell_type": "markdown",
   "id": "9970a5b4",
   "metadata": {
    "slideshow": {
     "slide_type": "slide"
    }
   },
   "source": [
    "# Benutzerdefinierte Datentypen\n",
    "\n",
    "In Python können benutzerdefinierte Datentypen definiert werden:"
   ]
  },
  {
   "cell_type": "code",
   "execution_count": null,
   "id": "d1bb426f",
   "metadata": {},
   "outputs": [],
   "source": [
    "class PointV0:\n",
    "    def __init__(self, x, y):\n",
    "        self.x = x\n",
    "        self.y = y"
   ]
  },
  {
   "cell_type": "code",
   "execution_count": null,
   "id": "c7a962c1",
   "metadata": {},
   "outputs": [],
   "source": [
    "p = PointV0(2, 3)\n",
    "p"
   ]
  },
  {
   "cell_type": "code",
   "execution_count": null,
   "id": "af88699c",
   "metadata": {},
   "outputs": [],
   "source": [
    "print(\"x =\", p.x)\n",
    "print(\"y =\", p.y)"
   ]
  },
  {
   "cell_type": "markdown",
   "id": "69bafa4c",
   "metadata": {
    "pycharm": {
     "name": "#%% md\n"
    },
    "slideshow": {
     "slide_type": "subslide"
    }
   },
   "source": [
    "## Methoden\n",
    "\n",
    "Klassen können Methoden enthalten. Im Gegensatz zu vielen anderen Sprachen hat\n",
    "Python bei der Definition keinen impliziten `this` Parameter; das Objekt auf dem\n",
    "die Methode aufgerufen wird muss als erster Parameter angegeben werden.\n",
    "\n",
    "Per Konvention hat dieser Parameter den Namen `self`."
   ]
  },
  {
   "cell_type": "code",
   "execution_count": null,
   "id": "c467e9b1",
   "metadata": {
    "slideshow": {
     "slide_type": "subslide"
    }
   },
   "outputs": [],
   "source": [
    "class PointV1:\n",
    "    def __init__(self, x, y):\n",
    "        self.x = x\n",
    "        self.y = y\n",
    "\n",
    "    def move(self, dx=0, dy=0):\n",
    "        self.x += dx\n",
    "        self.y += dy"
   ]
  },
  {
   "cell_type": "code",
   "execution_count": null,
   "id": "2fdefacf",
   "metadata": {
    "slideshow": {
     "slide_type": "subslide"
    }
   },
   "outputs": [],
   "source": [
    "p = PointV1(2, 3)\n",
    "print(\"x =\", p.x)\n",
    "print(\"y =\", p.y)"
   ]
  },
  {
   "cell_type": "code",
   "execution_count": null,
   "id": "f40110f0",
   "metadata": {},
   "outputs": [],
   "source": [
    "p.move(3, 5)\n",
    "print(\"x =\", p.x)\n",
    "print(\"y =\", p.y)"
   ]
  },
  {
   "cell_type": "markdown",
   "id": "907b5e6d",
   "metadata": {
    "pycharm": {
     "name": "#%% md\n"
    },
    "slideshow": {
     "slide_type": "slide"
    }
   },
   "source": [
    "## Das Python-Objektmodell\n",
    "\n",
    "Mit Dunder-Methoden können benutzerdefinierten Datentypen benutzerfreundlicher\n",
    "gestaltet werden:"
   ]
  },
  {
   "cell_type": "code",
   "execution_count": null,
   "id": "babb7840",
   "metadata": {},
   "outputs": [],
   "source": [
    "print(str(p))\n",
    "print(repr(p))"
   ]
  },
  {
   "cell_type": "markdown",
   "id": "93f4e568",
   "metadata": {
    "pycharm": {
     "name": "#%% md\n"
    }
   },
   "source": [
    "Durch Definition der Methode `__repr__(self)` kann der von `repr` zurückgegebene\n",
    "String für benutzerdefinierte Klassen angepasst werden: Der Funktionsaufruf\n",
    "`repr(x)` überprüft, ob `x` eine Methode `__repr__` hat und ruft diese auf,\n",
    "falls sie existiert."
   ]
  },
  {
   "cell_type": "code",
   "execution_count": null,
   "id": "7af6b765",
   "metadata": {
    "slideshow": {
     "slide_type": "subslide"
    }
   },
   "outputs": [],
   "source": [
    "class PointV2:\n",
    "    def __init__(self, x, y):\n",
    "        self.x = x\n",
    "        self.y = y\n",
    "\n",
    "    def __repr__(self):\n",
    "        return \"PointV2(\" + repr(self.x) + \", \" + repr(self.y) + \")\"\n",
    "\n",
    "    def move(self, dx=0, dy=0):\n",
    "        self.x += dx\n",
    "        self.y += dy"
   ]
  },
  {
   "cell_type": "code",
   "execution_count": null,
   "id": "d1ba0894",
   "metadata": {},
   "outputs": [],
   "source": [
    "p = PointV2(2, 5)\n",
    "print(repr(p))"
   ]
  },
  {
   "cell_type": "markdown",
   "id": "e87d03fe",
   "metadata": {
    "pycharm": {
     "name": "#%% md\n"
    },
    "slideshow": {
     "slide_type": "subslide"
    }
   },
   "source": [
    "Standardmäßig delegiert die Funktion `str` an `repr`, falls keine `__str__`-Methode\n",
    "definiert ist:\n"
   ]
  },
  {
   "cell_type": "code",
   "execution_count": null,
   "id": "7f3d880f",
   "metadata": {},
   "outputs": [],
   "source": [
    "print(str(p))"
   ]
  },
  {
   "cell_type": "markdown",
   "id": "8f4a9aa0",
   "metadata": {
    "pycharm": {
     "name": "#%% md\n"
    },
    "slideshow": {
     "slide_type": "subslide"
    }
   },
   "source": [
    "Python bietet viele Dunder-Methoden an: siehe das\n",
    "[Python Datenmodell](https://docs.python.org/3/reference/datamodel.html)\n",
    "in der Dokumentation"
   ]
  },
  {
   "cell_type": "code",
   "execution_count": null,
   "id": "0d846576",
   "metadata": {
    "slideshow": {
     "slide_type": "subslide"
    }
   },
   "outputs": [],
   "source": [
    "class Point:\n",
    "    def __init__(self, x=0, y=0):\n",
    "        self.x = x\n",
    "        self.y = y\n",
    "\n",
    "    def __repr__(self):\n",
    "        return \"Point(\" + repr(self.x) + \", \" + repr(self.y) + \")\"\n",
    "\n",
    "    def __add__(self, other):\n",
    "        return Point(self.x + other.x, self.y + other.y)\n",
    "\n",
    "    def __sub__(self, other):\n",
    "        return Point(self.x - other.x, self.y - other.y)\n",
    "\n",
    "    def move(self, dx=0, dy=0):\n",
    "        self.x += dx\n",
    "        self.y += dy"
   ]
  },
  {
   "cell_type": "code",
   "execution_count": null,
   "id": "907fbf85",
   "metadata": {
    "lines_to_next_cell": 2,
    "slideshow": {
     "slide_type": "subslide"
    }
   },
   "outputs": [],
   "source": [
    "p1 = Point(1, 2)\n",
    "p2 = Point(2, 4)\n",
    "p = p1 + p2\n",
    "p"
   ]
  },
  {
   "cell_type": "code",
   "execution_count": null,
   "id": "ae753d1a",
   "metadata": {},
   "outputs": [],
   "source": [
    "p += p1\n",
    "p"
   ]
  },
  {
   "cell_type": "code",
   "execution_count": null,
   "id": "d8a53abe",
   "metadata": {},
   "outputs": [],
   "source": [
    "p3 = p - Point(3, 2)\n",
    "p3"
   ]
  },
  {
   "cell_type": "markdown",
   "id": "27fb5d50",
   "metadata": {
    "slideshow": {
     "slide_type": "subslide"
    }
   },
   "source": [
    "## Workshop\n",
    "\n",
    "- Notebook `lecture_012x_Workshop_Einführung in Python (Teil 2)`\n",
    "- Abschnitt \"Verbesserte Einkaufsliste\""
   ]
  },
  {
   "cell_type": "markdown",
   "id": "fe9e9ca4",
   "metadata": {},
   "source": [
    "## Dataclasses\n",
    "\n",
    "Definition einer Klasse, in der Attribute besser sichtbar sind, Repräsentation und Gleichheit vordefiniert sind, etc.\n",
    "\n",
    "Die [Dokumentation](https://docs.python.org/3/library/dataclasses.html) beinhaltet weitere Möglichkeiten."
   ]
  },
  {
   "cell_type": "code",
   "execution_count": null,
   "id": "2c7fd2f6",
   "metadata": {},
   "outputs": [],
   "source": [
    "from dataclasses import dataclass\n",
    "\n",
    "@dataclass\n",
    "class DataPoint:\n",
    "    x: float\n",
    "    y: float"
   ]
  },
  {
   "cell_type": "code",
   "execution_count": null,
   "id": "d62dfb3d",
   "metadata": {},
   "outputs": [],
   "source": [
    "dp = DataPoint(2, 3)\n",
    "dp"
   ]
  },
  {
   "cell_type": "code",
   "execution_count": null,
   "id": "02408320",
   "metadata": {},
   "outputs": [],
   "source": [
    "dp1 = DataPoint(1, 1)\n",
    "dp2 = DataPoint(1, 1)\n",
    "print(dp1 == dp2)\n",
    "print(dp1 is dp2)"
   ]
  },
  {
   "cell_type": "code",
   "execution_count": null,
   "id": "89eecf41",
   "metadata": {},
   "outputs": [],
   "source": [
    "@dataclass\n",
    "class Point3D:\n",
    "    x: float\n",
    "    y: float\n",
    "    z: float = 0.0\n",
    "\n",
    "    # Non-destructive move!\n",
    "    def move(self, dx=0.0, dy=0.0, dz=0.0):\n",
    "        return Point3D(self.x + dx, self.y + dy, self.z + dz)"
   ]
  },
  {
   "cell_type": "code",
   "execution_count": null,
   "id": "afca7502",
   "metadata": {
    "lines_to_next_cell": 2
   },
   "outputs": [],
   "source": [
    "p3d = Point3D(1.0, 2.0)\n",
    "print(p3d)\n",
    "print(p3d.move(dy=1.0, dz=5.0))"
   ]
  },
  {
   "cell_type": "markdown",
   "id": "51580d72",
   "metadata": {
    "slideshow": {
     "slide_type": "slide"
    }
   },
   "source": [
    "# Vererbung"
   ]
  },
  {
   "cell_type": "code",
   "execution_count": null,
   "id": "66b1c86c",
   "metadata": {},
   "outputs": [],
   "source": [
    "import random\n",
    "class Point:\n",
    "    def __init__(self, x=0, y=0):\n",
    "        self.x = x\n",
    "        self.y = y\n",
    "\n",
    "    def __repr__(self):\n",
    "        return f\"Point({self.x:.1f}, {self.y:.1f})\"\n",
    "\n",
    "    def move(self, dx=0, dy=0):\n",
    "        self.x += dx\n",
    "        self.y += dy\n",
    "    \n",
    "    def randomize(self):\n",
    "        self.x = random.gauss(2, 4)\n",
    "        self.y = random.gauss(3, 2)"
   ]
  },
  {
   "cell_type": "code",
   "execution_count": null,
   "id": "bfbf4703",
   "metadata": {
    "slideshow": {
     "slide_type": "subslide"
    }
   },
   "outputs": [],
   "source": [
    "p = Point(0, 0)\n",
    "p"
   ]
  },
  {
   "cell_type": "code",
   "execution_count": null,
   "id": "b24c5bd3",
   "metadata": {},
   "outputs": [],
   "source": [
    "p.move(2, 3)\n",
    "p"
   ]
  },
  {
   "cell_type": "code",
   "execution_count": null,
   "id": "ce8bc981",
   "metadata": {},
   "outputs": [],
   "source": [
    "p.randomize()\n",
    "p"
   ]
  },
  {
   "cell_type": "code",
   "execution_count": null,
   "id": "6f97290b",
   "metadata": {
    "slideshow": {
     "slide_type": "subslide"
    }
   },
   "outputs": [],
   "source": [
    "class ColorPoint(Point):\n",
    "    def __init__(self, x=0, y=0, color='black'):\n",
    "        super().__init__(x, y)\n",
    "        self.color = color\n",
    "    \n",
    "    def __repr__(self):\n",
    "        return f\"ColorPoint({self.x:.1f}, {self.y:.1f}, {self.color!r})\"\n",
    "\n",
    "    def randomize(self):\n",
    "        super().randomize()\n",
    "        self.color = random.choice([\"black\", \"red\", \"green\", \"blue\", \"yellow\", \"white\"])"
   ]
  },
  {
   "cell_type": "code",
   "execution_count": null,
   "id": "e370ed11",
   "metadata": {},
   "outputs": [],
   "source": [
    "cp = ColorPoint(2, 3, 'red')\n",
    "cp"
   ]
  },
  {
   "cell_type": "code",
   "execution_count": null,
   "id": "7d1a74c1",
   "metadata": {},
   "outputs": [],
   "source": [
    "cp.move(2, 3)\n",
    "cp"
   ]
  },
  {
   "cell_type": "code",
   "execution_count": null,
   "id": "fb9026a7",
   "metadata": {},
   "outputs": [],
   "source": [
    "cp.randomize()\n",
    "cp"
   ]
  },
  {
   "cell_type": "markdown",
   "id": "bf6b581c",
   "metadata": {
    "slideshow": {
     "slide_type": "subslide"
    }
   },
   "source": [
    "## Mini-Workshop\n",
    "\n",
    "- Notebook `lecture_020x_Workshop_Kontrollstrukturen`\n",
    "- Abschnitt \"Vererbung\"\n"
   ]
  },
  {
   "cell_type": "markdown",
   "id": "cd253fed",
   "metadata": {
    "slideshow": {
     "slide_type": "slide"
    }
   },
   "source": [
    "# Fehlerbehandlung\n",
    "\n",
    "Wir wollen eine Funktion `int_sqrt(n: int) -> int` schreiben, die die \"Ganzzahlige Wurzel\" berechnet:\n",
    "- Wenn `n` eine Quadratzahl ist, also die Form `m * m` hat, dann soll `m` zurückgegeben werden.\n",
    "- Was machen wir, falls `n` keine Quadratzahl ist?\n",
    "\n",
    "Einige Lösungsversuche:"
   ]
  },
  {
   "cell_type": "code",
   "execution_count": null,
   "id": "b83510a0",
   "metadata": {
    "slideshow": {
     "slide_type": "subslide"
    }
   },
   "outputs": [],
   "source": [
    "def int_sqrt_with_pair(n: int) -> tuple[int, bool]:\n",
    "    for m in range(n + 1):\n",
    "        if m * m == n:\n",
    "            return m, True\n",
    "    return 0, False"
   ]
  },
  {
   "cell_type": "code",
   "execution_count": null,
   "id": "e57ac648",
   "metadata": {
    "slideshow": {
     "slide_type": "subslide"
    }
   },
   "outputs": [],
   "source": [
    "int_sqrt_with_pair(9)"
   ]
  },
  {
   "cell_type": "code",
   "execution_count": null,
   "id": "388859b2",
   "metadata": {},
   "outputs": [],
   "source": [
    "int_sqrt_with_pair(8)"
   ]
  },
  {
   "cell_type": "code",
   "execution_count": null,
   "id": "a8efdb0a",
   "metadata": {},
   "outputs": [],
   "source": [
    "int_sqrt_with_pair(0)"
   ]
  },
  {
   "cell_type": "code",
   "execution_count": null,
   "id": "d0d39b89",
   "metadata": {},
   "outputs": [],
   "source": [
    "int_sqrt_with_pair(1)"
   ]
  },
  {
   "cell_type": "code",
   "execution_count": null,
   "id": "c3727527",
   "metadata": {
    "slideshow": {
     "slide_type": "subslide"
    }
   },
   "outputs": [],
   "source": [
    "def print_int_sqrt_1(n):\n",
    "    root, is_valid = int_sqrt_with_pair(8)\n",
    "    print(f\"The root of {n} is {root}.\")\n",
    "\n",
    "print_int_sqrt_1(8)"
   ]
  },
  {
   "cell_type": "code",
   "execution_count": null,
   "id": "c829271c",
   "metadata": {
    "slideshow": {
     "slide_type": "subslide"
    }
   },
   "outputs": [],
   "source": [
    "def int_sqrt_with_negative_value(n: int) -> int:\n",
    "    for m in range(n + 1):\n",
    "        if m * m == n:\n",
    "            return m\n",
    "    return -1"
   ]
  },
  {
   "cell_type": "code",
   "execution_count": null,
   "id": "f9658f6e",
   "metadata": {
    "slideshow": {
     "slide_type": "subslide"
    }
   },
   "outputs": [],
   "source": [
    "int_sqrt_with_negative_value(9)"
   ]
  },
  {
   "cell_type": "code",
   "execution_count": null,
   "id": "035586d4",
   "metadata": {},
   "outputs": [],
   "source": [
    "int_sqrt_with_negative_value(8)"
   ]
  },
  {
   "cell_type": "code",
   "execution_count": null,
   "id": "5b2eda68",
   "metadata": {
    "slideshow": {
     "slide_type": "subslide"
    }
   },
   "outputs": [],
   "source": [
    "def print_int_sqrt_2(n):\n",
    "    root = int_sqrt_with_negative_value(8)\n",
    "    print(f\"The root of {n} is {root}.\")\n",
    "\n",
    "print_int_sqrt_2(8)"
   ]
  },
  {
   "cell_type": "code",
   "execution_count": null,
   "id": "d889aa6f",
   "metadata": {
    "slideshow": {
     "slide_type": "subslide"
    }
   },
   "outputs": [],
   "source": [
    "def print_int_sqrt_2_better(n):\n",
    "    root = int_sqrt_with_negative_value(8)\n",
    "    if root < 0:\n",
    "        print(f\"{n} does not have a root!\")\n",
    "    else:\n",
    "        print(f\"The root of {n} is {root}.\")\n",
    "\n",
    "print_int_sqrt_2_better(8)"
   ]
  },
  {
   "cell_type": "markdown",
   "id": "b6653b19",
   "metadata": {
    "slideshow": {
     "slide_type": "subslide"
    }
   },
   "source": [
    "Beide Ansätze haben mehrere Probleme:\n",
    "- Die Fehlerbehandlung ist optional. Wird sie nicht durchgeführt, so wird mit einem falschen Wert weitergerechnet.\n",
    "- Kann der Aufrufer den Fehler nicht selber behandeln, so muss der Fehler über mehrere Ebenen von Funktionsaufrufen \"durchgereicht\" werden. Das führt zu unübersichtlichem Code, da der \"interessante\" Pfad nicht vom Code zur Fehlerbehandlung getrennt ist.\n",
    "\n",
    "Eine bessere Lösung:"
   ]
  },
  {
   "cell_type": "code",
   "execution_count": null,
   "id": "092542ed",
   "metadata": {
    "slideshow": {
     "slide_type": "subslide"
    }
   },
   "outputs": [],
   "source": [
    "def int_sqrt(n: int) -> int:\n",
    "    for m in range(n + 1):\n",
    "        if m * m == n:\n",
    "            return m\n",
    "    raise ValueError(f\"{n} is not a square number.\")"
   ]
  },
  {
   "cell_type": "code",
   "execution_count": null,
   "id": "670969ea",
   "metadata": {
    "slideshow": {
     "slide_type": "subslide"
    }
   },
   "outputs": [],
   "source": [
    "int_sqrt(9)"
   ]
  },
  {
   "cell_type": "code",
   "execution_count": null,
   "id": "4fc2c361",
   "metadata": {},
   "outputs": [],
   "source": [
    "int_sqrt(0)"
   ]
  },
  {
   "cell_type": "code",
   "execution_count": null,
   "id": "b9167f0a",
   "metadata": {},
   "outputs": [],
   "source": [
    "int_sqrt(1)"
   ]
  },
  {
   "cell_type": "code",
   "execution_count": null,
   "id": "b1b0f43c",
   "metadata": {
    "slideshow": {
     "slide_type": "subslide"
    }
   },
   "outputs": [],
   "source": [
    "# int_sqrt(8)"
   ]
  },
  {
   "cell_type": "code",
   "execution_count": null,
   "id": "41dbb4df",
   "metadata": {
    "slideshow": {
     "slide_type": "subslide"
    }
   },
   "outputs": [],
   "source": [
    "def print_int_sqrt(n):\n",
    "    root = int_sqrt(n)\n",
    "    print(f\"The root of {n} is {root}.\")"
   ]
  },
  {
   "cell_type": "code",
   "execution_count": null,
   "id": "71bf5687",
   "metadata": {
    "slideshow": {
     "slide_type": "subslide"
    }
   },
   "outputs": [],
   "source": [
    "# print_int_sqrt(8)"
   ]
  },
  {
   "cell_type": "code",
   "execution_count": null,
   "id": "2d938b29",
   "metadata": {
    "slideshow": {
     "slide_type": "subslide"
    }
   },
   "outputs": [],
   "source": [
    "def print_int_sqrt_no_error(n):\n",
    "    try:\n",
    "        root = int_sqrt(n)\n",
    "        print(f\"The root of {n} is {root}.\")\n",
    "    except ValueError as error:\n",
    "        print(str(error))"
   ]
  },
  {
   "cell_type": "code",
   "execution_count": null,
   "id": "e857243b",
   "metadata": {
    "slideshow": {
     "slide_type": "subslide"
    }
   },
   "outputs": [],
   "source": [
    "print_int_sqrt_no_error(9)"
   ]
  },
  {
   "cell_type": "code",
   "execution_count": null,
   "id": "0ebdd219",
   "metadata": {
    "slideshow": {
     "slide_type": "-"
    }
   },
   "outputs": [],
   "source": [
    "print_int_sqrt_no_error(8)"
   ]
  },
  {
   "cell_type": "code",
   "execution_count": null,
   "id": "8047fb2e",
   "metadata": {
    "slideshow": {
     "slide_type": "subslide"
    }
   },
   "outputs": [],
   "source": [
    "def print_int_sqrt_no_error_2(n):\n",
    "    try:\n",
    "        root = int_sqrt(n)\n",
    "        print(f\"The root of {n} is {root}.\")\n",
    "    except ValueError:\n",
    "        print(f\"{n} does not have a root!\")\n",
    "    finally:\n",
    "        print(\"And that's all there is to say about this topic.\")"
   ]
  },
  {
   "cell_type": "code",
   "execution_count": null,
   "id": "9889f2e6",
   "metadata": {
    "slideshow": {
     "slide_type": "subslide"
    }
   },
   "outputs": [],
   "source": [
    "print_int_sqrt_no_error_2(9)"
   ]
  },
  {
   "cell_type": "code",
   "execution_count": null,
   "id": "3e01d1ee",
   "metadata": {},
   "outputs": [],
   "source": [
    "print_int_sqrt_no_error_2(8)"
   ]
  },
  {
   "cell_type": "markdown",
   "id": "89aee218",
   "metadata": {
    "slideshow": {
     "slide_type": "subslide"
    }
   },
   "source": [
    "## Fehlerklassen\n",
    "\n",
    "In Python gibt es viele vordefinierte Fehlerklassen, mit denen verschiedene Fehlerarten signalisiert werden können:\n",
    "- `Exception`: Basisklasse aller behandelbaren Exceptions\n",
    "- `ArithmeticError`: Basisklasse aller Fehler bei Rechenoperationen:\n",
    "  - OverflowError\n",
    "  - ZeroDivisionError\n",
    "- `LookupError`: Basisklasse wenn ein ungültiger Index für eine Datenstruktur verwendet wurde\n",
    "- `AssertionError`: Fehlerklasse, die von `assert` verwendet wird\n",
    "- `EOFError`: Fehler wenn `intput()` unerwartet das Ende einer Datei erreicht\n",
    "- ...\n",
    "\n",
    "Die Liste der in der Standardbibliothek definierten Fehlerklassen ist [hier](https://docs.python.org/3/library/exceptions.html)."
   ]
  },
  {
   "cell_type": "code",
   "execution_count": null,
   "id": "9b8f14d0",
   "metadata": {
    "slideshow": {
     "slide_type": "subslide"
    }
   },
   "outputs": [],
   "source": [
    "class NoRootError(ValueError):\n",
    "    pass"
   ]
  },
  {
   "cell_type": "code",
   "execution_count": null,
   "id": "18a87f13",
   "metadata": {
    "slideshow": {
     "slide_type": "-"
    }
   },
   "outputs": [],
   "source": [
    "try:\n",
    "    raise ValueError(\"ValueError\")\n",
    "    # raise NoRootError(\"This is a NoRootError.\")\n",
    "except NoRootError as error:\n",
    "    print(f\"Case 1: {error}\")\n",
    "except ValueError as error:\n",
    "    print(f\"Case 2: {error}\")"
   ]
  },
  {
   "cell_type": "code",
   "execution_count": null,
   "id": "72099e98",
   "metadata": {
    "slideshow": {
     "slide_type": "subslide"
    }
   },
   "outputs": [],
   "source": [
    "my_var = 1\n",
    "assert my_var == 1"
   ]
  },
  {
   "cell_type": "markdown",
   "id": "13fc71b9",
   "metadata": {
    "slideshow": {
     "slide_type": "subslide"
    }
   },
   "source": [
    "## Mini-Workshop\n",
    "\n",
    "- Notebook `lecture_020x_Workshop_Kontrollstrukturen`\n",
    "- Abschnitt \"Knobeln\"\n"
   ]
  },
  {
   "cell_type": "markdown",
   "id": "9d153c56",
   "metadata": {
    "slideshow": {
     "slide_type": "slide"
    }
   },
   "source": [
    "# Dateien\n",
    "\n",
    "Bislang gehen am Ende der Programmausführung alle Daten, die wir berechnet haben verloren.\n",
    "\n",
    "Die einfachste Varianten Daten zu persistieren ist sie in einer Datei zu speichern:"
   ]
  },
  {
   "cell_type": "code",
   "execution_count": null,
   "id": "9469ea42",
   "metadata": {
    "slideshow": {
     "slide_type": "subslide"
    }
   },
   "outputs": [],
   "source": [
    "import os"
   ]
  },
  {
   "cell_type": "code",
   "execution_count": null,
   "id": "60d34898",
   "metadata": {},
   "outputs": [],
   "source": [
    "os.getcwd()"
   ]
  },
  {
   "cell_type": "markdown",
   "id": "316e6c6d",
   "metadata": {
    "slideshow": {
     "slide_type": "subslide"
    }
   },
   "source": [
    "- Mit `open()` kann eine Datei zum Lesen oder Schreiben geöffnet werden.\n",
    "- Der `mode` Parameter gibt an, ob die Datei zum Lesen oder Schreiben geöffnet wird:\n",
    "  - `r`: Lesen\n",
    "  - `w`: Schreiben. Der Inhalt der Datei wird gelöscht\n",
    "  - `a`: Schreiben. Die neuen Daten werden ans Ende der Datei geschrieben.\n",
    "  - `x`: Schreiben. Die Datei darf nicht existieren.\n",
    "  - `r+`: Lesen und Schreiben.\n",
    "- Wird ans Ende von `mode` der Buchstabe `b` angehängt, so wird die Datei als Binärdatei behandelt.\n",
    "- Mit den Methoden `tell()` und `seek()` kann die Position in der Datei abgefragt oder verändert werden."
   ]
  },
  {
   "cell_type": "code",
   "execution_count": null,
   "id": "b5590fec",
   "metadata": {
    "slideshow": {
     "slide_type": "subslide"
    }
   },
   "outputs": [],
   "source": [
    "file = open('my-data-file.txt', 'w')\n",
    "file.write(\"The first line.\\n\")\n",
    "file.write(\"The second line.\\n\")\n",
    "file.close()"
   ]
  },
  {
   "cell_type": "code",
   "execution_count": null,
   "id": "51ef46c7",
   "metadata": {
    "slideshow": {
     "slide_type": "subslide"
    }
   },
   "outputs": [],
   "source": [
    "file = open('my-data-file.txt', 'r')\n",
    "contents = file.read()\n",
    "print(contents)\n",
    "file.close()\n",
    "contents"
   ]
  },
  {
   "cell_type": "code",
   "execution_count": null,
   "id": "41ec41ad",
   "metadata": {
    "slideshow": {
     "slide_type": "subslide"
    }
   },
   "outputs": [],
   "source": [
    "file = open('my-data-file.txt', mode='w')\n",
    "file.write(\"Another line.\\n\")\n",
    "file.write(\"Yet another line.\\n\")\n",
    "file.close()"
   ]
  },
  {
   "cell_type": "code",
   "execution_count": null,
   "id": "921f71a9",
   "metadata": {
    "slideshow": {
     "slide_type": "subslide"
    }
   },
   "outputs": [],
   "source": [
    "file = open('my-data-file.txt', mode='r')\n",
    "contents = file.read()\n",
    "print(contents)\n",
    "file.close()"
   ]
  },
  {
   "cell_type": "code",
   "execution_count": null,
   "id": "b94c6b05",
   "metadata": {
    "slideshow": {
     "slide_type": "subslide"
    }
   },
   "outputs": [],
   "source": [
    "file = open('my-data-file.txt', mode='a')\n",
    "file.write(\"Let's try this again.\\n\")\n",
    "file.write(\"Until we succeed.\\n\")\n",
    "file.close()"
   ]
  },
  {
   "cell_type": "code",
   "execution_count": null,
   "id": "65fa5b55",
   "metadata": {
    "slideshow": {
     "slide_type": "subslide"
    }
   },
   "outputs": [],
   "source": [
    "file = open('my-data-file.txt', 'r')\n",
    "contents = file.read()\n",
    "print(contents)\n",
    "file.close()"
   ]
  },
  {
   "cell_type": "markdown",
   "id": "024cecd4",
   "metadata": {
    "slideshow": {
     "slide_type": "subslide"
    }
   },
   "source": [
    "Dateien müssen immer mit `close` geschlossen werden, auch wenn der Programmteil, in dem die Datei verwendet wird durch eine Exception verlassen wird. Das könnte mit `try ... finally` erfolgen.\n",
    "\n",
    "Python bietet dafür ein eleganteres Konstrukt:"
   ]
  },
  {
   "cell_type": "code",
   "execution_count": null,
   "id": "845bea1f",
   "metadata": {},
   "outputs": [],
   "source": [
    "with open('my-data-file.txt', 'r') as file:\n",
    "    contents = file.read()\n",
    "print(contents)"
   ]
  },
  {
   "cell_type": "code",
   "execution_count": null,
   "id": "c1d9b708",
   "metadata": {
    "slideshow": {
     "slide_type": "subslide"
    }
   },
   "outputs": [],
   "source": [
    "with open('my-data-file.txt', 'r+') as file:\n",
    "    print(f\"File position before reading: {file.tell()}\")\n",
    "    contents = file.read()\n",
    "    print(f\"File position after reading: {file.tell()}\")\n",
    "    file.write('Another line.\\nAnd another.')\n",
    "    print(f\"File position after writing: {file.tell()}\")   "
   ]
  },
  {
   "cell_type": "code",
   "execution_count": null,
   "id": "6b54b4d7",
   "metadata": {
    "slideshow": {
     "slide_type": "subslide"
    }
   },
   "outputs": [],
   "source": [
    "with open('my-data-file.txt', 'r+') as file:\n",
    "    print(f\"File has {len(file.readlines())} lines.\")\n",
    "    file.seek(40)\n",
    "    file.write('overwrite a part of the file, yes?')\n",
    "    file.seek(0)\n",
    "    print(file.read())"
   ]
  },
  {
   "cell_type": "markdown",
   "id": "e287c298",
   "metadata": {
    "slideshow": {
     "slide_type": "subslide"
    }
   },
   "source": [
    "## Mini-Workshop\n",
    "\n",
    "- Notebook `lecture_020x_Workshop_Kontrollstrukturen`\n",
    "- Abschnitt \"# Lesen und Schreiben in Dateien\"\n"
   ]
  },
  {
   "cell_type": "markdown",
   "id": "675b3f02",
   "metadata": {
    "slideshow": {
     "slide_type": "slide"
    }
   },
   "source": [
    "# Context Managers\n",
    "\n",
    "Context Manager sind Objekte, die häufig verwendete `try-except-finally` Patterns für `with`-Blöcke kapseln."
   ]
  },
  {
   "cell_type": "code",
   "execution_count": null,
   "id": "8701b3b5",
   "metadata": {},
   "outputs": [],
   "source": [
    "from contextlib import AbstractContextManager\n",
    "import sys\n",
    "\n",
    "class ProgressNotifier(AbstractContextManager):\n",
    "    def __init__(self, entry_message, width=72):\n",
    "        self.entry_message = entry_message\n",
    "        self.width = width\n",
    "        self.num_completed_items = 0\n",
    "\n",
    "    def __enter__(self):\n",
    "        print(f\"{self.entry_message}\")\n",
    "        sys.stdout.flush()\n",
    "        return self\n",
    "\n",
    "    def __exit__(self, exc_type, exc_value, traceback):\n",
    "        if exc_type:\n",
    "            print(\"failed!\")\n",
    "        else:\n",
    "            print(\"done.\")\n",
    "\n",
    "    def item_completed(self):\n",
    "        self.num_completed_items += 1\n",
    "        print(\".\", end='\\n' if self.num_completed_items % self.width == 0 else '')\n",
    "        sys.stdout.flush()\n",
    "\n",
    "    def item_skipped(self):\n",
    "        self.num_completed_items += 1\n",
    "        print(\"-\", end='\\n' if self.num_completed_items % self.width == 0 else '')\n",
    "        sys.stdout.flush()\n",
    "\n",
    "\n",
    "def progress(entry_message):\n",
    "    return ProgressNotifier(entry_message)"
   ]
  },
  {
   "cell_type": "code",
   "execution_count": null,
   "id": "1c474f13",
   "metadata": {},
   "outputs": [],
   "source": [
    "import random\n",
    "\n",
    "def download_items(n):\n",
    "    with progress(\"Downloading articles\") as p:\n",
    "        for i in range(n):\n",
    "            r = random.random()\n",
    "            if r < 0.001:\n",
    "                raise IOError(\"Download failed\")\n",
    "            elif r < 0.1:\n",
    "                p.item_skipped()\n",
    "            else:\n",
    "                p.item_completed()"
   ]
  },
  {
   "cell_type": "code",
   "execution_count": null,
   "id": "3dfe9597",
   "metadata": {},
   "outputs": [],
   "source": [
    "try:\n",
    "    download_items(500)\n",
    "    print(\"Finished successfully\")\n",
    "except IOError:\n",
    "    print(\"Caught IOError\")"
   ]
  }
 ],
 "metadata": {
  "jupytext": {
   "encoding": "# -*- coding: utf-8 -*-",
   "formats": "auto:percent,ipynb",
   "text_representation": {
    "extension": ".py",
    "format_name": "percent",
    "format_version": "1.3",
    "jupytext_version": "1.13.0"
   }
  },
  "kernelspec": {
   "display_name": "Python 3 (ipykernel)",
   "language": "python",
   "name": "python3"
  },
  "language_info": {
   "codemirror_mode": {
    "name": "ipython",
    "version": 3
   },
   "file_extension": ".py",
   "mimetype": "text/x-python",
   "name": "python",
   "nbconvert_exporter": "python",
   "pygments_lexer": "ipython3",
   "version": "3.9.7"
  }
 },
 "nbformat": 4,
 "nbformat_minor": 5
}
