{
 "cells": [
  {
   "cell_type": "markdown",
   "metadata": {},
   "source": [
    "\n",
    " # Context Managers\n",
    "\n",
    " Context Manager sind Objekte, die häufig verwendete `try-except-finally`\n",
    " Patterns für `with`-Blöcke kapseln."
   ]
  },
  {
   "cell_type": "code",
   "execution_count": 1,
   "metadata": {},
   "outputs": [],
   "source": [
    "from contextlib import AbstractContextManager\n",
    "import sys\n",
    "\n",
    "\n",
    "class ProgressNotifier(AbstractContextManager):\n",
    "    def __init__(self, entry_message, width=72):\n",
    "        self.entry_message = entry_message\n",
    "        self.width = width\n",
    "        self.num_completed_items = 0\n",
    "\n",
    "    def __enter__(self):\n",
    "        print(f\"{self.entry_message}\")\n",
    "        sys.stdout.flush()\n",
    "        return self\n",
    "\n",
    "    def __exit__(self, exc_type, exc_value, traceback):\n",
    "        if exc_type:\n",
    "            print(\"failed!\")\n",
    "        else:\n",
    "            print(\"done.\")\n",
    "\n",
    "    def item_completed(self):\n",
    "        self.num_completed_items += 1\n",
    "        print(\".\", end=\"\\n\" if self.num_completed_items % self.width == 0 else \"\")\n",
    "        sys.stdout.flush()\n",
    "\n",
    "    def item_skipped(self):\n",
    "        self.num_completed_items += 1\n",
    "        print(\"-\", end=\"\\n\" if self.num_completed_items % self.width == 0 else \"\")\n",
    "        sys.stdout.flush()\n",
    "\n",
    "\n",
    "def progress(entry_message):\n",
    "    return ProgressNotifier(entry_message)\n",
    "\n"
   ]
  },
  {
   "cell_type": "code",
   "execution_count": 2,
   "metadata": {},
   "outputs": [],
   "source": [
    "import random\n",
    "\n",
    "\n",
    "def download_items(n):\n",
    "    with progress(\"Downloading articles\") as p:\n",
    "        for i in range(n):\n",
    "            r = random.random()\n",
    "            if r < 0.001:\n",
    "                raise IOError(\"Download failed\")\n",
    "            elif r < 0.1:\n",
    "                p.item_skipped()\n",
    "            else:\n",
    "                p.item_completed()"
   ]
  },
  {
   "cell_type": "code",
   "execution_count": 3,
   "metadata": {},
   "outputs": [
    {
     "name": "stdout",
     "output_type": "stream",
     "text": [
      "Downloading articles\n",
      "............-..........-....-.................-..........-.........-....\n",
      "..........................-..-.......-.......--.............-..-........\n",
      "..-..............-......-......-..........-.....-...........-...........\n",
      ".....................................-..............................-.-.\n",
      ".................................................-......failed!\n",
      "Caught IOError\n"
     ]
    }
   ],
   "source": [
    "try:\n",
    "    download_items(500)\n",
    "    print(\"Finished successfully\")\n",
    "except IOError:\n",
    "    print(\"Caught IOError\")\n"
   ]
  }
 ],
 "metadata": {
  "kernelspec": {
   "display_name": "Python 3",
   "language": "python",
   "name": "python3"
  },
  "language_info": {
   "codemirror_mode": {
    "name": "ipython",
    "version": 3
   },
   "file_extension": ".py",
   "mimetype": "text/x-python",
   "name": "python",
   "nbconvert_exporter": "python",
   "pygments_lexer": "ipython3",
   "version": "3.8.8"
  }
 },
 "nbformat": 4,
 "nbformat_minor": 2
}
